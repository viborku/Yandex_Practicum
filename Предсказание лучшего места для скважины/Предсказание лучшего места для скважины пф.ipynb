{
 "cells": [
  {
   "cell_type": "markdown",
   "metadata": {},
   "source": [
    "# Выбор локации для скважины"
   ]
  },
  {
   "cell_type": "markdown",
   "metadata": {},
   "source": [
    "Допустим, вы работаете в добывающей компании «ГлавРосГосНефть». Нужно решить, где бурить новую скважину.\n",
    "\n",
    "Вам предоставлены пробы нефти в трёх регионах: в каждом 10 000 месторождений, где измерили качество нефти и объём её запасов. Постройте модель машинного обучения, которая поможет определить регион, где добыча принесёт наибольшую прибыль. Проанализируйте возможную прибыль и риски техникой *Bootstrap.*\n",
    "\n",
    "Шаги для выбора локации:\n",
    "\n",
    "- В избранном регионе ищут месторождения, для каждого определяют значения признаков;\n",
    "- Строят модель и оценивают объём запасов;\n",
    "- Выбирают месторождения с самым высокими оценками значений. Количество месторождений зависит от бюджета компании и стоимости разработки одной скважины;\n",
    "- Прибыль равна суммарной прибыли отобранных месторождений."
   ]
  },
  {
   "cell_type": "markdown",
   "metadata": {},
   "source": [
    "## Загрузка и подготовка данных"
   ]
  },
  {
   "cell_type": "code",
   "execution_count": 1,
   "metadata": {},
   "outputs": [],
   "source": [
    "import pandas as pd\n",
    "import numpy as np\n",
    "import matplotlib.pyplot as plt\n",
    "import seaborn as sns\n",
    "\n",
    "from tqdm.notebook import trange\n",
    "from sklearn.model_selection import train_test_split\n",
    "from sklearn.metrics import mean_squared_error\n",
    "from sklearn.preprocessing import StandardScaler\n",
    "from sklearn.linear_model import LinearRegression"
   ]
  },
  {
   "cell_type": "code",
   "execution_count": 2,
   "metadata": {},
   "outputs": [],
   "source": [
    "geo_data_0 = pd.read_csv('/datasets/geo_data_0.csv')\n",
    "geo_data_1 = pd.read_csv('/datasets/geo_data_1.csv')\n",
    "geo_data_2 = pd.read_csv('/datasets/geo_data_2.csv')\n",
    "\n",
    "datasets = [geo_data_0, geo_data_1, geo_data_2]"
   ]
  },
  {
   "cell_type": "code",
   "execution_count": 3,
   "metadata": {},
   "outputs": [],
   "source": [
    "def view(data):\n",
    "    print('Обзор данных', '\\n')\n",
    "    print(data.sample(10))\n",
    "    print('\\n')\n",
    "    print('Информация о формате, количестве строк и пропусках', '\\n')\n",
    "    print(data.info())\n",
    "    print('\\n')\n",
    "    print('Описание (статистика)', '\\n')\n",
    "    print(data.describe())\n",
    "    print('\\n')\n",
    "    print('Дубликаты', '\\n')\n",
    "    print(data.duplicated().sum())\n",
    "    print('-' * 65)\n",
    "    print('\\n' * 3)"
   ]
  },
  {
   "cell_type": "code",
   "execution_count": 4,
   "metadata": {},
   "outputs": [
    {
     "name": "stdout",
     "output_type": "stream",
     "text": [
      "Регион  geo_data_0 \n",
      "\n",
      "Обзор данных \n",
      "\n",
      "          id        f0        f1        f2     product\n",
      "45764  UZ8RA  1.063835  0.250076  4.842919   96.890407\n",
      "93521  NNX2q  1.720158  0.051122  5.020973  168.008540\n",
      "4726   mhepZ  1.066173  0.131666 -0.119478   21.116589\n",
      "18257  DJrm0  1.005093  0.389595  2.377363   77.064842\n",
      "26264  L2PSJ  0.801502  0.596961  3.403106   32.662378\n",
      "54302  qLYEX  0.587974 -0.511534  1.094287   59.603058\n",
      "70843  TL6vR -0.086625  0.433608  4.237878  103.023616\n",
      "25676  VLTwg -0.196967  0.887959 -1.957792   28.628293\n",
      "57574  XJrez  1.040517  0.229426 -3.314861   68.813397\n",
      "47939  5F6vZ  0.838614  0.371312  1.588534   78.020927\n",
      "\n",
      "\n",
      "Информация о формате, количестве строк и пропусках \n",
      "\n",
      "<class 'pandas.core.frame.DataFrame'>\n",
      "RangeIndex: 100000 entries, 0 to 99999\n",
      "Data columns (total 5 columns):\n",
      " #   Column   Non-Null Count   Dtype  \n",
      "---  ------   --------------   -----  \n",
      " 0   id       100000 non-null  object \n",
      " 1   f0       100000 non-null  float64\n",
      " 2   f1       100000 non-null  float64\n",
      " 3   f2       100000 non-null  float64\n",
      " 4   product  100000 non-null  float64\n",
      "dtypes: float64(4), object(1)\n",
      "memory usage: 3.8+ MB\n",
      "None\n",
      "\n",
      "\n",
      "Описание (статистика) \n",
      "\n",
      "                  f0             f1             f2        product\n",
      "count  100000.000000  100000.000000  100000.000000  100000.000000\n",
      "mean        0.500419       0.250143       2.502647      92.500000\n",
      "std         0.871832       0.504433       3.248248      44.288691\n",
      "min        -1.408605      -0.848218     -12.088328       0.000000\n",
      "25%        -0.072580      -0.200881       0.287748      56.497507\n",
      "50%         0.502360       0.250252       2.515969      91.849972\n",
      "75%         1.073581       0.700646       4.715088     128.564089\n",
      "max         2.362331       1.343769      16.003790     185.364347\n",
      "\n",
      "\n",
      "Дубликаты \n",
      "\n",
      "0\n",
      "-----------------------------------------------------------------\n",
      "\n",
      "\n",
      "\n",
      "\n",
      "Регион  geo_data_1 \n",
      "\n",
      "Обзор данных \n",
      "\n",
      "          id         f0         f1        f2     product\n",
      "35693  QBeOW  -0.078427  -1.149587  4.001992  110.992147\n",
      "85963  ZEHik   9.220885 -13.023312  2.000630   53.906522\n",
      "55636  tgL25   8.331734  -0.525619 -0.004827    0.000000\n",
      "12777  NOxRR  10.451268  -4.443230 -0.007980    0.000000\n",
      "46325  DkEpB  -2.112583  -7.463451  4.996518  137.945408\n",
      "11502  2j60N   6.615185  -9.284920  3.998251  107.813044\n",
      "58378  HqkOW  -2.706680  -4.229197  2.004290   57.085625\n",
      "14010  r0fCH -12.143082   3.327881  4.998329  137.945408\n",
      "54373  Y6HSj   4.737971   1.616716  1.995310   53.906522\n",
      "62460  koyXO -11.862387  -5.860435  0.004672    3.179103\n",
      "\n",
      "\n",
      "Информация о формате, количестве строк и пропусках \n",
      "\n",
      "<class 'pandas.core.frame.DataFrame'>\n",
      "RangeIndex: 100000 entries, 0 to 99999\n",
      "Data columns (total 5 columns):\n",
      " #   Column   Non-Null Count   Dtype  \n",
      "---  ------   --------------   -----  \n",
      " 0   id       100000 non-null  object \n",
      " 1   f0       100000 non-null  float64\n",
      " 2   f1       100000 non-null  float64\n",
      " 3   f2       100000 non-null  float64\n",
      " 4   product  100000 non-null  float64\n",
      "dtypes: float64(4), object(1)\n",
      "memory usage: 3.8+ MB\n",
      "None\n",
      "\n",
      "\n",
      "Описание (статистика) \n",
      "\n",
      "                  f0             f1             f2        product\n",
      "count  100000.000000  100000.000000  100000.000000  100000.000000\n",
      "mean        1.141296      -4.796579       2.494541      68.825000\n",
      "std         8.965932       5.119872       1.703572      45.944423\n",
      "min       -31.609576     -26.358598      -0.018144       0.000000\n",
      "25%        -6.298551      -8.267985       1.000021      26.953261\n",
      "50%         1.153055      -4.813172       2.011479      57.085625\n",
      "75%         8.621015      -1.332816       3.999904     107.813044\n",
      "max        29.421755      18.734063       5.019721     137.945408\n",
      "\n",
      "\n",
      "Дубликаты \n",
      "\n",
      "0\n",
      "-----------------------------------------------------------------\n",
      "\n",
      "\n",
      "\n",
      "\n",
      "Регион  geo_data_2 \n",
      "\n",
      "Обзор данных \n",
      "\n",
      "          id        f0        f1        f2     product\n",
      "1465   TWbAm  2.938877  1.808696  1.238825  114.052544\n",
      "31507  eSJ7h  1.289215 -1.723578  1.990543  114.097289\n",
      "28709  Pw31Z -0.393939  1.220739  6.718274  112.814482\n",
      "54256  9ejCe  0.314668 -0.398074  2.557862   53.392592\n",
      "67228  R83S2  0.949430 -0.695086  0.982287   34.778053\n",
      "74942  o7CyY -0.383193  0.381019 -1.839310   67.602557\n",
      "53194  zPdew  0.443535  0.396016  2.794257  156.501152\n",
      "83384  4Ws9c -1.758437  1.002911 -0.683451  102.201039\n",
      "36106  gt7sW -0.117590 -1.415240  0.920895   32.760957\n",
      "36176  cYWOm -3.938143 -0.633875  2.181095   76.825682\n",
      "\n",
      "\n",
      "Информация о формате, количестве строк и пропусках \n",
      "\n",
      "<class 'pandas.core.frame.DataFrame'>\n",
      "RangeIndex: 100000 entries, 0 to 99999\n",
      "Data columns (total 5 columns):\n",
      " #   Column   Non-Null Count   Dtype  \n",
      "---  ------   --------------   -----  \n",
      " 0   id       100000 non-null  object \n",
      " 1   f0       100000 non-null  float64\n",
      " 2   f1       100000 non-null  float64\n",
      " 3   f2       100000 non-null  float64\n",
      " 4   product  100000 non-null  float64\n",
      "dtypes: float64(4), object(1)\n",
      "memory usage: 3.8+ MB\n",
      "None\n",
      "\n",
      "\n",
      "Описание (статистика) \n",
      "\n",
      "                  f0             f1             f2        product\n",
      "count  100000.000000  100000.000000  100000.000000  100000.000000\n",
      "mean        0.002023      -0.002081       2.495128      95.000000\n",
      "std         1.732045       1.730417       3.473445      44.749921\n",
      "min        -8.760004      -7.084020     -11.970335       0.000000\n",
      "25%        -1.162288      -1.174820       0.130359      59.450441\n",
      "50%         0.009424      -0.009482       2.484236      94.925613\n",
      "75%         1.158535       1.163678       4.858794     130.595027\n",
      "max         7.238262       7.844801      16.739402     190.029838\n",
      "\n",
      "\n",
      "Дубликаты \n",
      "\n",
      "0\n",
      "-----------------------------------------------------------------\n",
      "\n",
      "\n",
      "\n",
      "\n"
     ]
    }
   ],
   "source": [
    "i=0\n",
    "for data in datasets:\n",
    "    if i==0:\n",
    "        data.name='geo_data_0'\n",
    "    elif i==1:\n",
    "        data.name='geo_data_1'\n",
    "    else:\n",
    "        data.name='geo_data_2'\n",
    "    print('Регион ', data.name, '\\n') \n",
    "    view(data)\n",
    "    i+=1"
   ]
  },
  {
   "cell_type": "markdown",
   "metadata": {},
   "source": [
    "Пропусков нет, дубликатов нет, форматы колонок соответствуют значениям."
   ]
  },
  {
   "cell_type": "markdown",
   "metadata": {},
   "source": [
    "Проверим зависимость между признаками по регионам"
   ]
  },
  {
   "cell_type": "code",
   "execution_count": 5,
   "metadata": {
    "scrolled": false
   },
   "outputs": [
    {
     "name": "stdout",
     "output_type": "stream",
     "text": [
      "               f0        f1        f2   product\n",
      "f0       1.000000 -0.440723 -0.003153  0.143536\n",
      "f1      -0.440723  1.000000  0.001724 -0.192356\n",
      "f2      -0.003153  0.001724  1.000000  0.483663\n",
      "product  0.143536 -0.192356  0.483663  1.000000 \n",
      "\n",
      "               f0        f1        f2   product\n",
      "f0       1.000000  0.182287 -0.001777 -0.030491\n",
      "f1       0.182287  1.000000 -0.002595 -0.010155\n",
      "f2      -0.001777 -0.002595  1.000000  0.999397\n",
      "product -0.030491 -0.010155  0.999397  1.000000 \n",
      "\n",
      "               f0        f1        f2   product\n",
      "f0       1.000000  0.000528 -0.000448 -0.001987\n",
      "f1       0.000528  1.000000  0.000779 -0.001012\n",
      "f2      -0.000448  0.000779  1.000000  0.445871\n",
      "product -0.001987 -0.001012  0.445871  1.000000 \n",
      "\n"
     ]
    }
   ],
   "source": [
    "for data in datasets:\n",
    "    print(data.corr(), '\\n')"
   ]
  },
  {
   "cell_type": "markdown",
   "metadata": {},
   "source": [
    "Во второй таблице (geo_data_1) наблюдается сильная линейная зависимость между признаком f2 и целевым признаком product."
   ]
  },
  {
   "cell_type": "markdown",
   "metadata": {},
   "source": [
    "Удалим колонку id ввиду её неинформативности"
   ]
  },
  {
   "cell_type": "code",
   "execution_count": 6,
   "metadata": {},
   "outputs": [
    {
     "name": "stdout",
     "output_type": "stream",
     "text": [
      "          id        f0        f1        f2     product\n",
      "0      txEyH  0.705745 -0.497823  1.221170  105.280062\n",
      "1      2acmU  1.334711 -0.340164  4.365080   73.037750\n",
      "2      409Wp  1.022732  0.151990  1.419926   85.265647\n",
      "3      iJLyR -0.032172  0.139033  2.978566  168.620776\n",
      "4      Xdl7t  1.988431  0.155413  4.751769  154.036647\n",
      "...      ...       ...       ...       ...         ...\n",
      "99995  DLsed  0.971957  0.370953  6.075346  110.744026\n",
      "99996  QKivN  1.392429 -0.382606  1.273912  122.346843\n",
      "99997  3rnvd  1.029585  0.018787 -1.348308   64.375443\n",
      "99998  7kl59  0.998163 -0.528582  1.583869   74.040764\n",
      "99999  1CWhH  1.764754 -0.266417  5.722849  149.633246\n",
      "\n",
      "[100000 rows x 5 columns]\n"
     ]
    }
   ],
   "source": [
    "print(geo_data_0)"
   ]
  },
  {
   "cell_type": "code",
   "execution_count": 7,
   "metadata": {},
   "outputs": [],
   "source": [
    "geo_data_0 = geo_data_0.drop(['id'], axis=1)\n",
    "geo_data_1 = geo_data_1.drop(['id'], axis=1)\n",
    "geo_data_2 = geo_data_2.drop(['id'], axis=1)"
   ]
  },
  {
   "cell_type": "code",
   "execution_count": 8,
   "metadata": {},
   "outputs": [],
   "source": [
    "#geo_data_0.head()\n",
    "#geo_data_1.head()"
   ]
  },
  {
   "cell_type": "code",
   "execution_count": 9,
   "metadata": {
    "scrolled": true
   },
   "outputs": [],
   "source": [
    "#for i in range(len(datasets)):\n",
    "#    print(i)\n",
    " #   datasets[i] = datasets[i].drop(columns=['id'], axis=0)\n",
    "#  print(datasets[i].columns)\n",
    "    \n",
    "    #print(datasets[i])"
   ]
  },
  {
   "cell_type": "markdown",
   "metadata": {},
   "source": [
    "# Вывод"
   ]
  },
  {
   "cell_type": "raw",
   "metadata": {},
   "source": [
    "Пропусков нет, дубликатов нет, форматы колонок соответствуют значениям.\n",
    "Колонка Id ввиду её неинформативности удалена\n",
    "Данные готовы к обучению"
   ]
  },
  {
   "cell_type": "markdown",
   "metadata": {},
   "source": [
    "## Обучение и проверка модели"
   ]
  },
  {
   "cell_type": "raw",
   "metadata": {},
   "source": [
    "Проверим качество модели линейной регрессии с текущим значением признаков. \n",
    "Проверим эту гипотезу на geo_data_0. Выполним разбивку датафрейма:"
   ]
  },
  {
   "cell_type": "code",
   "execution_count": 10,
   "metadata": {},
   "outputs": [],
   "source": [
    "def test_split(df, target):\n",
    "    features = df.drop([target] , axis=1)\n",
    "    target = df[target]\n",
    "\n",
    "    features_train, features_valid, target_train, target_valid = train_test_split(\n",
    "    features, target, test_size=0.25, random_state=12345)\n",
    "    \n",
    "    return features_train, features_valid, target_train, target_valid"
   ]
  },
  {
   "cell_type": "code",
   "execution_count": 11,
   "metadata": {
    "scrolled": true
   },
   "outputs": [],
   "source": [
    "features_train_0, features_valid_0, target_train_0, target_valid_0 = test_split(geo_data_0, 'product')"
   ]
  },
  {
   "cell_type": "code",
   "execution_count": 12,
   "metadata": {},
   "outputs": [
    {
     "data": {
      "text/html": [
       "<div>\n",
       "<style scoped>\n",
       "    .dataframe tbody tr th:only-of-type {\n",
       "        vertical-align: middle;\n",
       "    }\n",
       "\n",
       "    .dataframe tbody tr th {\n",
       "        vertical-align: top;\n",
       "    }\n",
       "\n",
       "    .dataframe thead th {\n",
       "        text-align: right;\n",
       "    }\n",
       "</style>\n",
       "<table border=\"1\" class=\"dataframe\">\n",
       "  <thead>\n",
       "    <tr style=\"text-align: right;\">\n",
       "      <th></th>\n",
       "      <th>f0</th>\n",
       "      <th>f1</th>\n",
       "      <th>f2</th>\n",
       "    </tr>\n",
       "  </thead>\n",
       "  <tbody>\n",
       "    <tr>\n",
       "      <th>27212</th>\n",
       "      <td>0.022450</td>\n",
       "      <td>0.951034</td>\n",
       "      <td>2.197333</td>\n",
       "    </tr>\n",
       "    <tr>\n",
       "      <th>7866</th>\n",
       "      <td>1.766731</td>\n",
       "      <td>0.007835</td>\n",
       "      <td>6.436602</td>\n",
       "    </tr>\n",
       "    <tr>\n",
       "      <th>62041</th>\n",
       "      <td>0.724514</td>\n",
       "      <td>0.666063</td>\n",
       "      <td>1.840177</td>\n",
       "    </tr>\n",
       "    <tr>\n",
       "      <th>70185</th>\n",
       "      <td>-1.104181</td>\n",
       "      <td>0.255268</td>\n",
       "      <td>2.026156</td>\n",
       "    </tr>\n",
       "    <tr>\n",
       "      <th>82230</th>\n",
       "      <td>-0.635263</td>\n",
       "      <td>0.747990</td>\n",
       "      <td>6.643327</td>\n",
       "    </tr>\n",
       "  </tbody>\n",
       "</table>\n",
       "</div>"
      ],
      "text/plain": [
       "             f0        f1        f2\n",
       "27212  0.022450  0.951034  2.197333\n",
       "7866   1.766731  0.007835  6.436602\n",
       "62041  0.724514  0.666063  1.840177\n",
       "70185 -1.104181  0.255268  2.026156\n",
       "82230 -0.635263  0.747990  6.643327"
      ]
     },
     "execution_count": 12,
     "metadata": {},
     "output_type": "execute_result"
    }
   ],
   "source": [
    "features_train_0.head()"
   ]
  },
  {
   "cell_type": "markdown",
   "metadata": {},
   "source": [
    "Проведем обучение модели"
   ]
  },
  {
   "cell_type": "code",
   "execution_count": 13,
   "metadata": {},
   "outputs": [
    {
     "name": "stdout",
     "output_type": "stream",
     "text": [
      "RMSE - 37.5794217150813\n"
     ]
    }
   ],
   "source": [
    "model = LinearRegression()\n",
    "\n",
    "model.fit(features_train_0, target_train_0)\n",
    "predicted_target_0 = model.predict(features_valid_0)\n",
    "print('RMSE -', mean_squared_error(target_valid_0, predicted_target_0)**0.5)"
   ]
  },
  {
   "cell_type": "markdown",
   "metadata": {},
   "source": [
    "Расссмотрим гипотезу на geo_data_1 и geo_data_2:"
   ]
  },
  {
   "cell_type": "code",
   "execution_count": 14,
   "metadata": {},
   "outputs": [
    {
     "name": "stdout",
     "output_type": "stream",
     "text": [
      "RMSE - 0.893099286775617\n"
     ]
    }
   ],
   "source": [
    "features_train_1, features_valid_1, target_train_1, target_valid_1 = test_split(geo_data_1, 'product')\n",
    "model.fit(features_train_1, target_train_1)\n",
    "predicted_target_1 = model.predict(features_valid_1)\n",
    "print('RMSE -', mean_squared_error(target_valid_1, predicted_target_1)**0.5)"
   ]
  },
  {
   "cell_type": "code",
   "execution_count": 15,
   "metadata": {},
   "outputs": [
    {
     "name": "stdout",
     "output_type": "stream",
     "text": [
      "RMSE - 40.02970873393434\n"
     ]
    }
   ],
   "source": [
    "features_train_2, features_valid_2, target_train_2, target_valid_2 = test_split(geo_data_2, 'product')\n",
    "model.fit(features_train_2, target_train_2)\n",
    "predicted_target_2 = model.predict(features_valid_2)\n",
    "print('RMSE -', mean_squared_error(target_valid_2, predicted_target_2)**0.5)"
   ]
  },
  {
   "cell_type": "markdown",
   "metadata": {},
   "source": [
    "Произведем вывод предсказанного запаса с реальным и выведем RMSE:"
   ]
  },
  {
   "cell_type": "code",
   "execution_count": 16,
   "metadata": {},
   "outputs": [],
   "source": [
    "model = LinearRegression()\n",
    "\n",
    "def oil_predict(df, target_name):\n",
    "    features = df.drop([target_name] , axis=1)\n",
    "    target = df[target_name]\n",
    "    \n",
    "    features_train, features_valid, target_train, target_valid = train_test_split(\n",
    "    features, target, test_size=0.25, random_state=5)\n",
    "    \n",
    "    model.fit(features_train, target_train)\n",
    "    predicted_target = model.predict(features_valid)\n",
    "    data = {'real_product' : target_valid,\n",
    "            'predicted_product' : predicted_target         \n",
    "    }\n",
    "    data_frame = pd.DataFrame(data, columns = ['real_product', 'predicted_product'])\n",
    "    rmse = mean_squared_error(target_valid, predicted_target)**0.5\n",
    "    mean = data_frame['predicted_product'].mean()\n",
    "    oil_sum = data_frame['predicted_product'].sum()\n",
    "    return data_frame, rmse, mean, oil_sum"
   ]
  },
  {
   "cell_type": "code",
   "execution_count": 17,
   "metadata": {},
   "outputs": [],
   "source": [
    "geo_data_0_predicted, geo_data_0_rmse, geo_data_0_predicted_mean, geo_data_0_predicted_sum = oil_predict(geo_data_0, 'product')"
   ]
  },
  {
   "cell_type": "code",
   "execution_count": 18,
   "metadata": {},
   "outputs": [
    {
     "data": {
      "text/html": [
       "<div>\n",
       "<style scoped>\n",
       "    .dataframe tbody tr th:only-of-type {\n",
       "        vertical-align: middle;\n",
       "    }\n",
       "\n",
       "    .dataframe tbody tr th {\n",
       "        vertical-align: top;\n",
       "    }\n",
       "\n",
       "    .dataframe thead th {\n",
       "        text-align: right;\n",
       "    }\n",
       "</style>\n",
       "<table border=\"1\" class=\"dataframe\">\n",
       "  <thead>\n",
       "    <tr style=\"text-align: right;\">\n",
       "      <th></th>\n",
       "      <th>real_product</th>\n",
       "      <th>predicted_product</th>\n",
       "    </tr>\n",
       "  </thead>\n",
       "  <tbody>\n",
       "    <tr>\n",
       "      <th>60743</th>\n",
       "      <td>119.220564</td>\n",
       "      <td>118.026686</td>\n",
       "    </tr>\n",
       "    <tr>\n",
       "      <th>33949</th>\n",
       "      <td>169.808150</td>\n",
       "      <td>110.858985</td>\n",
       "    </tr>\n",
       "    <tr>\n",
       "      <th>52805</th>\n",
       "      <td>131.589165</td>\n",
       "      <td>76.589517</td>\n",
       "    </tr>\n",
       "    <tr>\n",
       "      <th>11804</th>\n",
       "      <td>144.585224</td>\n",
       "      <td>100.990823</td>\n",
       "    </tr>\n",
       "    <tr>\n",
       "      <th>9229</th>\n",
       "      <td>184.075418</td>\n",
       "      <td>90.048812</td>\n",
       "    </tr>\n",
       "  </tbody>\n",
       "</table>\n",
       "</div>"
      ],
      "text/plain": [
       "       real_product  predicted_product\n",
       "60743    119.220564         118.026686\n",
       "33949    169.808150         110.858985\n",
       "52805    131.589165          76.589517\n",
       "11804    144.585224         100.990823\n",
       "9229     184.075418          90.048812"
      ]
     },
     "execution_count": 18,
     "metadata": {},
     "output_type": "execute_result"
    }
   ],
   "source": [
    "geo_data_0_predicted.head()"
   ]
  },
  {
   "cell_type": "code",
   "execution_count": 19,
   "metadata": {},
   "outputs": [
    {
     "name": "stdout",
     "output_type": "stream",
     "text": [
      "RMSE - 37.80284530541535\n",
      "Средний запас сырья - 92.62394691552272\n"
     ]
    }
   ],
   "source": [
    "print('RMSE -', geo_data_0_rmse)\n",
    "print('Средний запас сырья -', geo_data_0_predicted_mean)"
   ]
  },
  {
   "cell_type": "code",
   "execution_count": 20,
   "metadata": {},
   "outputs": [],
   "source": [
    "geo_data_1_predicted, geo_data_1_rmse, geo_data_1_predicted_mean, geo_data_1_predicted_sum = oil_predict(geo_data_1, 'product')"
   ]
  },
  {
   "cell_type": "code",
   "execution_count": 21,
   "metadata": {},
   "outputs": [
    {
     "data": {
      "text/html": [
       "<div>\n",
       "<style scoped>\n",
       "    .dataframe tbody tr th:only-of-type {\n",
       "        vertical-align: middle;\n",
       "    }\n",
       "\n",
       "    .dataframe tbody tr th {\n",
       "        vertical-align: top;\n",
       "    }\n",
       "\n",
       "    .dataframe thead th {\n",
       "        text-align: right;\n",
       "    }\n",
       "</style>\n",
       "<table border=\"1\" class=\"dataframe\">\n",
       "  <thead>\n",
       "    <tr style=\"text-align: right;\">\n",
       "      <th></th>\n",
       "      <th>real_product</th>\n",
       "      <th>predicted_product</th>\n",
       "    </tr>\n",
       "  </thead>\n",
       "  <tbody>\n",
       "    <tr>\n",
       "      <th>60743</th>\n",
       "      <td>80.859783</td>\n",
       "      <td>80.991708</td>\n",
       "    </tr>\n",
       "    <tr>\n",
       "      <th>33949</th>\n",
       "      <td>53.906522</td>\n",
       "      <td>53.729323</td>\n",
       "    </tr>\n",
       "    <tr>\n",
       "      <th>52805</th>\n",
       "      <td>3.179103</td>\n",
       "      <td>3.751569</td>\n",
       "    </tr>\n",
       "    <tr>\n",
       "      <th>11804</th>\n",
       "      <td>107.813044</td>\n",
       "      <td>108.245842</td>\n",
       "    </tr>\n",
       "    <tr>\n",
       "      <th>9229</th>\n",
       "      <td>80.859783</td>\n",
       "      <td>82.008314</td>\n",
       "    </tr>\n",
       "  </tbody>\n",
       "</table>\n",
       "</div>"
      ],
      "text/plain": [
       "       real_product  predicted_product\n",
       "60743     80.859783          80.991708\n",
       "33949     53.906522          53.729323\n",
       "52805      3.179103           3.751569\n",
       "11804    107.813044         108.245842\n",
       "9229      80.859783          82.008314"
      ]
     },
     "execution_count": 21,
     "metadata": {},
     "output_type": "execute_result"
    }
   ],
   "source": [
    "geo_data_1_predicted.head()"
   ]
  },
  {
   "cell_type": "code",
   "execution_count": 22,
   "metadata": {},
   "outputs": [
    {
     "name": "stdout",
     "output_type": "stream",
     "text": [
      "RMSE - 0.8911637870714586\n",
      "Средний запас сырья - 68.64756489237209\n"
     ]
    }
   ],
   "source": [
    "print('RMSE -', geo_data_1_rmse)\n",
    "print('Средний запас сырья -', geo_data_1_predicted_mean)"
   ]
  },
  {
   "cell_type": "code",
   "execution_count": 23,
   "metadata": {},
   "outputs": [],
   "source": [
    "geo_data_2_predicted, geo_data_2_rmse, geo_data_2_predicted_mean, geo_data_2_predicted_sum = oil_predict(geo_data_2, 'product')"
   ]
  },
  {
   "cell_type": "code",
   "execution_count": 24,
   "metadata": {},
   "outputs": [
    {
     "data": {
      "text/html": [
       "<div>\n",
       "<style scoped>\n",
       "    .dataframe tbody tr th:only-of-type {\n",
       "        vertical-align: middle;\n",
       "    }\n",
       "\n",
       "    .dataframe tbody tr th {\n",
       "        vertical-align: top;\n",
       "    }\n",
       "\n",
       "    .dataframe thead th {\n",
       "        text-align: right;\n",
       "    }\n",
       "</style>\n",
       "<table border=\"1\" class=\"dataframe\">\n",
       "  <thead>\n",
       "    <tr style=\"text-align: right;\">\n",
       "      <th></th>\n",
       "      <th>real_product</th>\n",
       "      <th>predicted_product</th>\n",
       "    </tr>\n",
       "  </thead>\n",
       "  <tbody>\n",
       "    <tr>\n",
       "      <th>60743</th>\n",
       "      <td>186.714538</td>\n",
       "      <td>88.685519</td>\n",
       "    </tr>\n",
       "    <tr>\n",
       "      <th>33949</th>\n",
       "      <td>73.641755</td>\n",
       "      <td>118.919701</td>\n",
       "    </tr>\n",
       "    <tr>\n",
       "      <th>52805</th>\n",
       "      <td>125.190694</td>\n",
       "      <td>98.429155</td>\n",
       "    </tr>\n",
       "    <tr>\n",
       "      <th>11804</th>\n",
       "      <td>130.826729</td>\n",
       "      <td>114.772869</td>\n",
       "    </tr>\n",
       "    <tr>\n",
       "      <th>9229</th>\n",
       "      <td>14.983400</td>\n",
       "      <td>54.375878</td>\n",
       "    </tr>\n",
       "  </tbody>\n",
       "</table>\n",
       "</div>"
      ],
      "text/plain": [
       "       real_product  predicted_product\n",
       "60743    186.714538          88.685519\n",
       "33949     73.641755         118.919701\n",
       "52805    125.190694          98.429155\n",
       "11804    130.826729         114.772869\n",
       "9229      14.983400          54.375878"
      ]
     },
     "execution_count": 24,
     "metadata": {},
     "output_type": "execute_result"
    }
   ],
   "source": [
    "geo_data_2_predicted.head()"
   ]
  },
  {
   "cell_type": "code",
   "execution_count": 25,
   "metadata": {},
   "outputs": [
    {
     "name": "stdout",
     "output_type": "stream",
     "text": [
      "RMSE - 40.27855914124022\n",
      "Средний запас сырья - 95.02417827030403\n"
     ]
    }
   ],
   "source": [
    "print('RMSE -', geo_data_2_rmse)\n",
    "print('Средний запас сырья -', geo_data_2_predicted_mean)"
   ]
  },
  {
   "cell_type": "markdown",
   "metadata": {},
   "source": [
    "Оценка общего запаса на регион по предсказанным данным:"
   ]
  },
  {
   "cell_type": "code",
   "execution_count": 26,
   "metadata": {
    "scrolled": true
   },
   "outputs": [
    {
     "name": "stdout",
     "output_type": "stream",
     "text": [
      "Суммарный предсказанный запас в регионе 0 - 2315598.672888068\n",
      "Суммарный реальный запас в регионе 0 - 2322579.7884419193\n",
      "\n",
      "Суммарный предсказанный запас в регионе 1 - 1716189.1223093022\n",
      "Суммарный реальный запас в регионе 1 - 1716031.8878765225\n",
      "\n",
      "Суммарный предсказанный запас в регионе 2 - 2375604.456757601\n",
      "Суммарный реальный запас в регионе 2 - 2377216.735320481\n"
     ]
    }
   ],
   "source": [
    "print('Суммарный предсказанный запас в регионе 0 -', geo_data_0_predicted_sum)\n",
    "print('Суммарный реальный запас в регионе 0 -', geo_data_0_predicted['real_product'].sum())\n",
    "print()\n",
    "print('Суммарный предсказанный запас в регионе 1 -', geo_data_1_predicted_sum)\n",
    "print('Суммарный реальный запас в регионе 1 -', geo_data_1_predicted['real_product'].sum())\n",
    "print()\n",
    "print('Суммарный предсказанный запас в регионе 2 -', geo_data_2_predicted_sum)\n",
    "print('Суммарный реальный запас в регионе 2 -', geo_data_2_predicted['real_product'].sum())"
   ]
  },
  {
   "cell_type": "markdown",
   "metadata": {},
   "source": [
    "# Вывод"
   ]
  },
  {
   "cell_type": "raw",
   "metadata": {},
   "source": [
    "Данные предсказаний о количестве нефти по сумме примерно совпадают по сумме с реальными значениями. \n",
    "Лучше всего модель предсказала запасы в первом регионе (RMSE - 0.89)"
   ]
  },
  {
   "cell_type": "markdown",
   "metadata": {},
   "source": [
    "## Подготовка к расчёту прибыли"
   ]
  },
  {
   "cell_type": "markdown",
   "metadata": {},
   "source": [
    "Введём переменные по экономической информации:"
   ]
  },
  {
   "cell_type": "code",
   "execution_count": 27,
   "metadata": {},
   "outputs": [],
   "source": [
    "budget = 1e7 # бюджет всего тыс. рублей\n",
    "chosen_points = 500\n",
    "best_points = 200 # вышек всего\n",
    "price_per_barrel = 450 # цена за баррель рублей\n",
    "risk = 0.025 # допустимый риск\n",
    "well_cost = budget / best_points # цена за скважину\n",
    "min_bulk = well_cost/ (price_per_barrel*1000) # минимальный объем для окупаемости\n",
    "#print('Цена одной скважины: {:.2f}'.format(well_cost))\n",
    "#print('Минимальный объем в скважине, для окупаемости: {:.2f} bar'.format(min_bulk))"
   ]
  },
  {
   "cell_type": "raw",
   "metadata": {},
   "source": [
    "Расчитаем безубыточную разработку сырья на 200 месторождениях и найдем среднее количество продукта в месторождениях необходимое для этого:"
   ]
  },
  {
   "cell_type": "code",
   "execution_count": 28,
   "metadata": {},
   "outputs": [
    {
     "name": "stdout",
     "output_type": "stream",
     "text": [
      "Средняя прибыль на лучшую точку - 50000.0 тыс.руб.\n"
     ]
    }
   ],
   "source": [
    "average_profit_per_point = budget / (best_points)\n",
    "print('Средняя прибыль на лучшую точку -', average_profit_per_point, 'тыс.руб.')"
   ]
  },
  {
   "cell_type": "code",
   "execution_count": 29,
   "metadata": {},
   "outputs": [
    {
     "name": "stdout",
     "output_type": "stream",
     "text": [
      "Средний объем нефти на точку - 111.11111111111111 тыс. барелей\n"
     ]
    }
   ],
   "source": [
    "average_barrels_per_point = average_profit_per_point  / price_per_barrel\n",
    "print('Средний объем нефти на точку -',average_barrels_per_point, 'тыс. барелей')"
   ]
  },
  {
   "cell_type": "code",
   "execution_count": 30,
   "metadata": {},
   "outputs": [
    {
     "name": "stdout",
     "output_type": "stream",
     "text": [
      "Средний объем нефти на регион - 22222.222222222223 тыс. барелей\n"
     ]
    }
   ],
   "source": [
    "average_barrels = budget / (price_per_barrel)\n",
    "print('Средний объем нефти на регион -',average_barrels, 'тыс. барелей')"
   ]
  },
  {
   "cell_type": "code",
   "execution_count": 31,
   "metadata": {},
   "outputs": [
    {
     "name": "stdout",
     "output_type": "stream",
     "text": [
      "Средний запас фактичекой нефти на скважину в регионе 0 92.50000000000001\n",
      "Средний запас фактичекой нефти на скважину в регионе 1 68.82500000000002\n",
      "Средний запас фактичекой нефти на скважину в регионе 2 95.00000000000004\n"
     ]
    }
   ],
   "source": [
    "print('Средний запас фактичекой нефти на скважину в регионе 0', geo_data_0['product'].mean())\n",
    "print('Средний запас фактичекой нефти на скважину в регионе 1', geo_data_1['product'].mean())\n",
    "print('Средний запас фактичекой нефти на скважину в регионе 2', geo_data_2['product'].mean())"
   ]
  },
  {
   "cell_type": "markdown",
   "metadata": {},
   "source": [
    "Функция для расчета прибыли на 500 разведанных точек:"
   ]
  },
  {
   "cell_type": "code",
   "execution_count": 32,
   "metadata": {},
   "outputs": [],
   "source": [
    "def oil_profit_calc(target, probabilities, count):\n",
    "    probs_sorted = probabilities.sort_values(ascending=False)\n",
    "    selected = target[probs_sorted.index][:count]\n",
    "    return price_per_barrel * selected.sum() - budget"
   ]
  },
  {
   "cell_type": "markdown",
   "metadata": {},
   "source": [
    "# Вывод"
   ]
  },
  {
   "cell_type": "raw",
   "metadata": {},
   "source": [
    "Была подготовлена средняя оценка прибыли за скважину и средний объем на скважину.\n",
    "Создана функция по расчету прибыли."
   ]
  },
  {
   "cell_type": "markdown",
   "metadata": {},
   "source": [
    "## Расчёт прибыли и рисков "
   ]
  },
  {
   "cell_type": "code",
   "execution_count": 33,
   "metadata": {},
   "outputs": [],
   "source": [
    "state = np.random.RandomState(12345)\n",
    "def bootstrap_1000(target, probs):\n",
    "    values=[]\n",
    "    lost = 0\n",
    "    for i in range(1000):\n",
    "        target_sample = target.sample(replace=True, random_state=state, n=chosen_points)\n",
    "        probs_sample = probs[target_sample.index]\n",
    "        profit = oil_profit_calc(target, probs_sample, best_points)\n",
    "        if profit < 0:\n",
    "            lost +=1\n",
    "        values.append(profit)\n",
    "    \n",
    "    values = pd.Series(values)\n",
    "    lower = values.quantile(0.025)\n",
    "    upper = values.quantile(0.975)\n",
    "    average = values.mean()\n",
    "    risk = lost / 1000\n",
    "    return average, lower, upper, risk"
   ]
  },
  {
   "cell_type": "code",
   "execution_count": 34,
   "metadata": {},
   "outputs": [],
   "source": [
    "average_0, lower_0, upper_0, risk_0 = bootstrap_1000(geo_data_0_predicted['real_product'], \n",
    "                                                     geo_data_0_predicted['predicted_product'])"
   ]
  },
  {
   "cell_type": "code",
   "execution_count": 35,
   "metadata": {
    "scrolled": true
   },
   "outputs": [
    {
     "name": "stdout",
     "output_type": "stream",
     "text": [
      "Средняя прибыль по региону = 459923.07 тыс.руб.\n",
      "95% доверительный интервал от -44499.97 до 976934.96 тыс.руб.\n",
      "Процент риска 4.00%\n"
     ]
    }
   ],
   "source": [
    "print('Средняя прибыль по региону = {:.2f} тыс.руб.'.format(average_0))\n",
    "print('95% доверительный интервал от {:.2f} до {:.2f} тыс.руб.'.format(lower_0, upper_0))\n",
    "print('Процент риска {:.2%}'.format(risk_0))"
   ]
  },
  {
   "cell_type": "code",
   "execution_count": 36,
   "metadata": {},
   "outputs": [],
   "source": [
    "average_1, lower_1, upper_1, risk_1 = bootstrap_1000(geo_data_1_predicted['real_product'], \n",
    "                                                     geo_data_1_predicted['predicted_product'])"
   ]
  },
  {
   "cell_type": "code",
   "execution_count": 37,
   "metadata": {},
   "outputs": [
    {
     "name": "stdout",
     "output_type": "stream",
     "text": [
      "Средняя прибыль по региону = 411514.81 тыс.руб.\n",
      "95% доверительный интервал от 28098.12 до 802992.98 тыс.руб.\n",
      "Процент риска 2.10%\n"
     ]
    }
   ],
   "source": [
    "print('Средняя прибыль по региону = {:.2f} тыс.руб.'.format(average_1))\n",
    "print('95% доверительный интервал от {:.2f} до {:.2f} тыс.руб.'.format(lower_1, upper_1))\n",
    "print('Процент риска {:.2%}'.format(risk_1))"
   ]
  },
  {
   "cell_type": "code",
   "execution_count": 38,
   "metadata": {},
   "outputs": [],
   "source": [
    "average_2, lower_2, upper_2, risk_2= bootstrap_1000(geo_data_2_predicted['real_product'], \n",
    "                                                     geo_data_2_predicted['predicted_product'])"
   ]
  },
  {
   "cell_type": "code",
   "execution_count": 39,
   "metadata": {},
   "outputs": [
    {
     "name": "stdout",
     "output_type": "stream",
     "text": [
      "Средняя прибыль по региону = 323716.54 тыс.руб.\n",
      "95% доверительный интервал от -202834.13 до 852197.70 тыс.руб.\n",
      "Процент риска 11.00%\n"
     ]
    }
   ],
   "source": [
    "print('Средняя прибыль по региону = {:.2f} тыс.руб.'.format(average_2))\n",
    "print('95% доверительный интервал от {:.2f} до {:.2f} тыс.руб.'.format(lower_2, upper_2))\n",
    "print('Процент риска {:.2%}'.format(risk_2))"
   ]
  },
  {
   "cell_type": "markdown",
   "metadata": {},
   "source": [
    "# Вывод"
   ]
  },
  {
   "cell_type": "markdown",
   "metadata": {},
   "source": [
    "**Данные по первому (geo_data_0) региону:**"
   ]
  },
  {
   "cell_type": "raw",
   "metadata": {},
   "source": [
    "Средняя прибыль по региону = 459923.07 тыс.руб.\n",
    "95% доверительный интервал от -44499.97 до 976934.96 тыс.руб.\n",
    "Процент риска 4.00%"
   ]
  },
  {
   "cell_type": "markdown",
   "metadata": {},
   "source": [
    "**Данные по второму (geo_data_1) региону:**"
   ]
  },
  {
   "cell_type": "raw",
   "metadata": {},
   "source": [
    "Средняя прибыль по региону = 411514.81 тыс.руб.\n",
    "95% доверительный интервал от 28098.12 до 802992.98 тыс.руб.\n",
    "Процент риска 2.10%"
   ]
  },
  {
   "cell_type": "markdown",
   "metadata": {},
   "source": [
    "**Данные по третьему (geo_data_2) региону:**"
   ]
  },
  {
   "cell_type": "raw",
   "metadata": {},
   "source": [
    "Средняя прибыль по региону = 323716.54 тыс.руб.\n",
    "95% доверительный интервал от -202834.13 до 852197.70 тыс.руб.\n",
    "Процент риска 11.00%"
   ]
  },
  {
   "cell_type": "markdown",
   "metadata": {},
   "source": [
    "# Общий вывод"
   ]
  },
  {
   "cell_type": "markdown",
   "metadata": {},
   "source": [
    "По каждому региону данные обработаны, рассчитаны средняя прибыль, 95% доверительный интервал и процент риска."
   ]
  },
  {
   "cell_type": "markdown",
   "metadata": {},
   "source": [
    "Отсеиваем третий (geo_data_2) регион, так как у этого региона наибольший процент риска - 11.0%"
   ]
  },
  {
   "cell_type": "raw",
   "metadata": {},
   "source": [
    "У второго региона (geo_data_2) наименьший % риска 2,1% и, кроме того, \n",
    "наиболее узкий доверительный интервал, а также \n",
    "в этом районе есть очень хороший признак, позволяющий нам строить эффективную модель предсказания (RMSE = 0.89)  "
   ]
  },
  {
   "cell_type": "markdown",
   "metadata": {},
   "source": [
    "По полученным результатам определяем второй регион (geo_data_2), \n",
    "наиболее удовлетворяющий поставленным условиям отбора."
   ]
  },
  {
   "cell_type": "markdown",
   "metadata": {},
   "source": [
    "**Данные по второму (geo_data_1) региону:**"
   ]
  },
  {
   "cell_type": "raw",
   "metadata": {},
   "source": [
    "Средняя прибыль по региону = 411514.81 тыс.руб.\n",
    "95% доверительный интервал от 28098.12 до 802992.98 тыс.руб.\n",
    "Процент риска 2.10%"
   ]
  },
  {
   "cell_type": "markdown",
   "metadata": {},
   "source": [
    "## Чек-лист готовности проекта"
   ]
  },
  {
   "cell_type": "markdown",
   "metadata": {},
   "source": [
    "Поставьте 'x' в выполненных пунктах. Далее нажмите Shift+Enter."
   ]
  },
  {
   "cell_type": "markdown",
   "metadata": {},
   "source": [
    "- [x]  Jupyter Notebook открыт\n",
    "- [х]  Весь код выполняется без ошибок\n",
    "- [х]  Ячейки с кодом расположены в порядке исполнения\n",
    "- [х]  Выполнен шаг 1: данные подготовлены\n",
    "- [х]  Выполнен шаг 2: модели обучены и проверены\n",
    "    - [х]  Данные корректно разбиты на обучающую и валидационную выборки\n",
    "    - [х]  Модели обучены, предсказания сделаны\n",
    "    - [х]  Предсказания и правильные ответы на валидационной выборке сохранены\n",
    "    - [х]  На экране напечатаны результаты\n",
    "    - [х]  Сделаны выводы\n",
    "- [х]  Выполнен шаг 3: проведена подготовка к расчёту прибыли\n",
    "    - [х]  Для всех ключевых значений созданы константы Python\n",
    "    - [х]  Посчитано минимальное среднее количество продукта в месторождениях региона, достаточное для разработки\n",
    "    - [х]  По предыдущему пункту сделаны выводы\n",
    "    - [х]  Написана функция расчёта прибыли\n",
    "- [х]  Выполнен шаг 4: посчитаны риски и прибыль\n",
    "    - [х]  Проведена процедура *Bootstrap*\n",
    "    - [х]  Все параметры бутстрепа соответствуют условию\n",
    "    - [х]  Найдены все нужные величины\n",
    "    - [х]  Предложен регион для разработки месторождения\n",
    "    - [х]   Выбор региона обоснован"
   ]
  },
  {
   "cell_type": "code",
   "execution_count": null,
   "metadata": {},
   "outputs": [],
   "source": []
  }
 ],
 "metadata": {
  "ExecuteTimeLog": [
   {
    "duration": 1645,
    "start_time": "2022-10-23T09:02:19.230Z"
   },
   {
    "duration": 1695,
    "start_time": "2022-10-23T09:02:21.374Z"
   },
   {
    "duration": 4,
    "start_time": "2022-10-23T09:03:54.006Z"
   },
   {
    "duration": 270,
    "start_time": "2022-10-23T09:04:39.487Z"
   },
   {
    "duration": 4,
    "start_time": "2022-10-23T09:07:22.732Z"
   },
   {
    "duration": 324,
    "start_time": "2022-10-23T09:07:31.914Z"
   },
   {
    "duration": 27,
    "start_time": "2022-10-23T09:14:08.784Z"
   },
   {
    "duration": 241,
    "start_time": "2022-10-23T09:21:04.317Z"
   },
   {
    "duration": 262,
    "start_time": "2022-10-23T09:21:22.219Z"
   },
   {
    "duration": 358,
    "start_time": "2022-10-23T09:22:01.714Z"
   },
   {
    "duration": 257,
    "start_time": "2022-10-23T09:22:18.235Z"
   },
   {
    "duration": 267,
    "start_time": "2022-10-23T09:23:14.373Z"
   },
   {
    "duration": 260,
    "start_time": "2022-10-23T09:23:54.764Z"
   },
   {
    "duration": 112,
    "start_time": "2022-10-23T09:27:21.694Z"
   },
   {
    "duration": 8,
    "start_time": "2022-10-23T09:27:45.463Z"
   },
   {
    "duration": 9,
    "start_time": "2022-10-23T09:28:22.400Z"
   },
   {
    "duration": 280,
    "start_time": "2022-10-23T09:29:53.344Z"
   },
   {
    "duration": 256,
    "start_time": "2022-10-23T09:31:45.784Z"
   },
   {
    "duration": 10,
    "start_time": "2022-10-23T09:33:12.827Z"
   },
   {
    "duration": 9,
    "start_time": "2022-10-23T09:33:42.634Z"
   },
   {
    "duration": 260,
    "start_time": "2022-10-23T09:34:38.267Z"
   },
   {
    "duration": 11,
    "start_time": "2022-10-23T09:35:31.924Z"
   },
   {
    "duration": 9,
    "start_time": "2022-10-23T09:35:49.419Z"
   },
   {
    "duration": 8,
    "start_time": "2022-10-23T09:37:23.671Z"
   },
   {
    "duration": 71,
    "start_time": "2022-10-23T09:39:02.639Z"
   },
   {
    "duration": 99,
    "start_time": "2022-10-23T09:39:24.286Z"
   },
   {
    "duration": 260,
    "start_time": "2022-10-23T09:39:40.198Z"
   },
   {
    "duration": 78,
    "start_time": "2022-10-23T09:44:39.921Z"
   },
   {
    "duration": 11,
    "start_time": "2022-10-23T09:45:28.977Z"
   },
   {
    "duration": 9,
    "start_time": "2022-10-23T09:46:39.707Z"
   },
   {
    "duration": 10,
    "start_time": "2022-10-23T09:47:28.339Z"
   },
   {
    "duration": 266,
    "start_time": "2022-10-23T09:48:10.828Z"
   },
   {
    "duration": 9,
    "start_time": "2022-10-23T09:48:33.196Z"
   },
   {
    "duration": 260,
    "start_time": "2022-10-23T09:50:41.358Z"
   },
   {
    "duration": 10,
    "start_time": "2022-10-23T09:53:32.073Z"
   },
   {
    "duration": 253,
    "start_time": "2022-10-23T09:56:58.794Z"
   },
   {
    "duration": 72,
    "start_time": "2022-10-23T09:59:37.883Z"
   },
   {
    "duration": 259,
    "start_time": "2022-10-23T09:59:55.492Z"
   },
   {
    "duration": 11,
    "start_time": "2022-10-23T10:04:41.453Z"
   },
   {
    "duration": 69,
    "start_time": "2022-10-23T10:08:20.929Z"
   },
   {
    "duration": 241,
    "start_time": "2022-10-23T10:09:40.609Z"
   },
   {
    "duration": 74,
    "start_time": "2022-10-23T10:13:34.581Z"
   },
   {
    "duration": 12,
    "start_time": "2022-10-23T10:57:54.864Z"
   },
   {
    "duration": 3,
    "start_time": "2022-10-23T10:59:21.400Z"
   },
   {
    "duration": 8,
    "start_time": "2022-10-23T15:23:22.050Z"
   },
   {
    "duration": 46,
    "start_time": "2022-10-23T15:26:18.694Z"
   },
   {
    "duration": 1571,
    "start_time": "2022-10-23T15:26:43.154Z"
   },
   {
    "duration": 686,
    "start_time": "2022-10-23T15:26:44.727Z"
   },
   {
    "duration": 4,
    "start_time": "2022-10-23T15:26:45.415Z"
   },
   {
    "duration": 258,
    "start_time": "2022-10-23T15:26:45.420Z"
   },
   {
    "duration": 42,
    "start_time": "2022-10-23T15:26:45.680Z"
   },
   {
    "duration": 12,
    "start_time": "2022-10-23T15:26:45.724Z"
   },
   {
    "duration": 7,
    "start_time": "2022-10-23T15:26:45.739Z"
   },
   {
    "duration": 21,
    "start_time": "2022-10-23T15:27:05.086Z"
   },
   {
    "duration": 10,
    "start_time": "2022-10-23T15:28:00.942Z"
   },
   {
    "duration": 88,
    "start_time": "2022-10-23T15:28:38.054Z"
   },
   {
    "duration": 1467,
    "start_time": "2022-10-23T15:29:03.993Z"
   },
   {
    "duration": 337,
    "start_time": "2022-10-23T15:29:05.462Z"
   },
   {
    "duration": 3,
    "start_time": "2022-10-23T15:29:05.801Z"
   },
   {
    "duration": 263,
    "start_time": "2022-10-23T15:29:05.809Z"
   },
   {
    "duration": 45,
    "start_time": "2022-10-23T15:29:06.073Z"
   },
   {
    "duration": 11,
    "start_time": "2022-10-23T15:29:06.120Z"
   },
   {
    "duration": 5,
    "start_time": "2022-10-23T15:29:06.133Z"
   },
   {
    "duration": 23,
    "start_time": "2022-10-23T15:29:06.139Z"
   },
   {
    "duration": 11,
    "start_time": "2022-10-23T15:29:06.164Z"
   },
   {
    "duration": 9,
    "start_time": "2022-10-23T15:32:09.484Z"
   },
   {
    "duration": 129,
    "start_time": "2022-10-23T15:33:58.867Z"
   },
   {
    "duration": 17,
    "start_time": "2022-10-23T15:37:10.960Z"
   },
   {
    "duration": 13,
    "start_time": "2022-10-23T15:37:46.122Z"
   },
   {
    "duration": 4,
    "start_time": "2022-10-23T15:38:09.207Z"
   },
   {
    "duration": 355,
    "start_time": "2022-10-23T15:38:09.213Z"
   },
   {
    "duration": 5,
    "start_time": "2022-10-23T15:38:09.570Z"
   },
   {
    "duration": 275,
    "start_time": "2022-10-23T15:38:09.577Z"
   },
   {
    "duration": 31,
    "start_time": "2022-10-23T15:38:09.854Z"
   },
   {
    "duration": 7,
    "start_time": "2022-10-23T15:38:14.641Z"
   },
   {
    "duration": 13,
    "start_time": "2022-10-23T15:40:01.384Z"
   },
   {
    "duration": 4,
    "start_time": "2022-10-23T15:40:14.433Z"
   },
   {
    "duration": 330,
    "start_time": "2022-10-23T15:40:17.408Z"
   },
   {
    "duration": 5,
    "start_time": "2022-10-23T15:40:25.752Z"
   },
   {
    "duration": 33,
    "start_time": "2022-10-23T15:40:40.786Z"
   },
   {
    "duration": 7,
    "start_time": "2022-10-23T15:40:45.819Z"
   },
   {
    "duration": 12,
    "start_time": "2022-10-23T15:41:26.850Z"
   },
   {
    "duration": 13,
    "start_time": "2022-10-23T15:43:48.748Z"
   },
   {
    "duration": 14,
    "start_time": "2022-10-23T15:45:06.195Z"
   },
   {
    "duration": 13,
    "start_time": "2022-10-23T15:45:56.797Z"
   },
   {
    "duration": 7,
    "start_time": "2022-10-23T15:49:30.999Z"
   },
   {
    "duration": 195,
    "start_time": "2022-10-23T15:51:03.293Z"
   },
   {
    "duration": 3,
    "start_time": "2022-10-23T15:51:09.631Z"
   },
   {
    "duration": 3,
    "start_time": "2022-10-23T15:53:09.672Z"
   },
   {
    "duration": 317,
    "start_time": "2022-10-23T15:53:13.552Z"
   },
   {
    "duration": 4,
    "start_time": "2022-10-23T15:53:19.497Z"
   },
   {
    "duration": 280,
    "start_time": "2022-10-23T15:53:24.320Z"
   },
   {
    "duration": 31,
    "start_time": "2022-10-23T15:53:42.184Z"
   },
   {
    "duration": 7,
    "start_time": "2022-10-23T15:53:50.538Z"
   },
   {
    "duration": 9,
    "start_time": "2022-10-23T15:54:01.522Z"
   },
   {
    "duration": 20,
    "start_time": "2022-10-23T15:54:28.842Z"
   },
   {
    "duration": 14,
    "start_time": "2022-10-23T15:55:12.442Z"
   },
   {
    "duration": 15,
    "start_time": "2022-10-23T15:55:21.060Z"
   },
   {
    "duration": 9,
    "start_time": "2022-10-23T15:55:26.684Z"
   },
   {
    "duration": 327,
    "start_time": "2022-10-23T15:55:37.684Z"
   },
   {
    "duration": 245,
    "start_time": "2022-10-23T15:55:41.891Z"
   },
   {
    "duration": 33,
    "start_time": "2022-10-23T15:55:47.801Z"
   },
   {
    "duration": 9,
    "start_time": "2022-10-23T15:55:54.466Z"
   },
   {
    "duration": 7,
    "start_time": "2022-10-23T15:56:02.338Z"
   },
   {
    "duration": 2,
    "start_time": "2022-10-23T15:57:01.283Z"
   },
   {
    "duration": 8,
    "start_time": "2022-10-23T15:57:28.187Z"
   },
   {
    "duration": 2,
    "start_time": "2022-10-23T15:58:07.851Z"
   },
   {
    "duration": 3,
    "start_time": "2022-10-23T15:58:35.916Z"
   },
   {
    "duration": 11,
    "start_time": "2022-10-23T15:58:40.332Z"
   },
   {
    "duration": 5,
    "start_time": "2022-10-23T15:59:56.501Z"
   },
   {
    "duration": 12,
    "start_time": "2022-10-23T16:00:00.893Z"
   },
   {
    "duration": 8,
    "start_time": "2022-10-23T16:00:03.853Z"
   },
   {
    "duration": 13,
    "start_time": "2022-10-23T16:02:20.070Z"
   },
   {
    "duration": 20,
    "start_time": "2022-10-23T16:07:51.353Z"
   },
   {
    "duration": 57,
    "start_time": "2022-10-23T16:09:50.051Z"
   },
   {
    "duration": 6,
    "start_time": "2022-10-23T16:18:17.219Z"
   },
   {
    "duration": 23,
    "start_time": "2022-10-23T16:21:27.490Z"
   },
   {
    "duration": 7,
    "start_time": "2022-10-23T16:22:50.267Z"
   },
   {
    "duration": 3,
    "start_time": "2022-10-23T16:28:27.671Z"
   },
   {
    "duration": 21,
    "start_time": "2022-10-23T16:30:34.249Z"
   },
   {
    "duration": 8,
    "start_time": "2022-10-23T16:31:52.337Z"
   },
   {
    "duration": 4,
    "start_time": "2022-10-23T16:33:00.249Z"
   },
   {
    "duration": 22,
    "start_time": "2022-10-23T16:34:53.882Z"
   },
   {
    "duration": 9,
    "start_time": "2022-10-23T16:36:18.251Z"
   },
   {
    "duration": 7,
    "start_time": "2022-10-23T16:36:26.579Z"
   },
   {
    "duration": 44,
    "start_time": "2022-10-23T16:37:19.221Z"
   },
   {
    "duration": 10,
    "start_time": "2022-10-23T16:38:56.263Z"
   },
   {
    "duration": 3,
    "start_time": "2022-10-23T16:39:21.223Z"
   },
   {
    "duration": 7,
    "start_time": "2022-10-23T16:52:10.927Z"
   },
   {
    "duration": 5,
    "start_time": "2022-10-23T17:14:01.398Z"
   },
   {
    "duration": 1641,
    "start_time": "2022-10-23T20:04:31.699Z"
   },
   {
    "duration": 710,
    "start_time": "2022-10-23T20:04:33.930Z"
   },
   {
    "duration": 4,
    "start_time": "2022-10-23T20:04:37.241Z"
   },
   {
    "duration": 261,
    "start_time": "2022-10-23T20:04:44.010Z"
   },
   {
    "duration": 1436,
    "start_time": "2022-10-23T20:04:58.856Z"
   },
   {
    "duration": 340,
    "start_time": "2022-10-23T20:05:00.294Z"
   },
   {
    "duration": 4,
    "start_time": "2022-10-23T20:05:00.636Z"
   },
   {
    "duration": 296,
    "start_time": "2022-10-23T20:05:00.643Z"
   },
   {
    "duration": 31,
    "start_time": "2022-10-23T20:05:00.941Z"
   },
   {
    "duration": 8,
    "start_time": "2022-10-23T20:05:00.975Z"
   },
   {
    "duration": 35,
    "start_time": "2022-10-23T20:05:00.985Z"
   },
   {
    "duration": 16,
    "start_time": "2022-10-23T20:05:01.022Z"
   },
   {
    "duration": 17,
    "start_time": "2022-10-23T20:05:01.040Z"
   },
   {
    "duration": 15,
    "start_time": "2022-10-23T20:05:01.060Z"
   },
   {
    "duration": 41,
    "start_time": "2022-10-23T20:05:01.077Z"
   },
   {
    "duration": 21,
    "start_time": "2022-10-23T20:05:01.119Z"
   },
   {
    "duration": 32,
    "start_time": "2022-10-23T20:05:01.142Z"
   },
   {
    "duration": 187,
    "start_time": "2022-10-23T20:05:01.175Z"
   },
   {
    "duration": 191,
    "start_time": "2022-10-23T20:05:01.364Z"
   },
   {
    "duration": 65,
    "start_time": "2022-10-23T20:05:01.557Z"
   },
   {
    "duration": 140,
    "start_time": "2022-10-23T20:05:01.624Z"
   },
   {
    "duration": 95,
    "start_time": "2022-10-23T20:05:01.829Z"
   },
   {
    "duration": 29,
    "start_time": "2022-10-23T20:05:01.926Z"
   },
   {
    "duration": 61,
    "start_time": "2022-10-23T20:05:01.956Z"
   },
   {
    "duration": 109,
    "start_time": "2022-10-23T20:05:02.019Z"
   },
   {
    "duration": 155,
    "start_time": "2022-10-23T20:05:02.130Z"
   },
   {
    "duration": 53,
    "start_time": "2022-10-23T20:05:02.287Z"
   },
   {
    "duration": 228,
    "start_time": "2022-10-23T20:05:02.342Z"
   },
   {
    "duration": 45,
    "start_time": "2022-10-23T20:05:02.572Z"
   },
   {
    "duration": 37,
    "start_time": "2022-10-23T20:05:02.618Z"
   },
   {
    "duration": 32,
    "start_time": "2022-10-23T20:05:02.656Z"
   },
   {
    "duration": 5,
    "start_time": "2022-10-23T20:05:29.024Z"
   },
   {
    "duration": 5,
    "start_time": "2022-10-23T20:10:36.364Z"
   },
   {
    "duration": 5,
    "start_time": "2022-10-23T20:16:52.924Z"
   },
   {
    "duration": 3,
    "start_time": "2022-10-23T20:19:23.262Z"
   },
   {
    "duration": 4,
    "start_time": "2022-10-23T20:21:45.497Z"
   },
   {
    "duration": 3,
    "start_time": "2022-10-23T20:22:23.218Z"
   },
   {
    "duration": 3,
    "start_time": "2022-10-23T20:23:12.384Z"
   },
   {
    "duration": 3,
    "start_time": "2022-10-23T20:23:55.319Z"
   },
   {
    "duration": 3,
    "start_time": "2022-10-23T20:26:18.690Z"
   },
   {
    "duration": 6,
    "start_time": "2022-10-23T20:27:59.859Z"
   },
   {
    "duration": 6,
    "start_time": "2022-10-23T20:28:28.764Z"
   },
   {
    "duration": 3,
    "start_time": "2022-10-23T20:38:25.026Z"
   },
   {
    "duration": 5,
    "start_time": "2022-10-23T20:40:30.299Z"
   },
   {
    "duration": 891,
    "start_time": "2022-10-23T20:42:31.462Z"
   },
   {
    "duration": 113,
    "start_time": "2022-10-23T20:44:16.023Z"
   },
   {
    "duration": 983,
    "start_time": "2022-10-23T20:44:28.440Z"
   },
   {
    "duration": 4,
    "start_time": "2022-10-23T20:44:31.470Z"
   },
   {
    "duration": 4,
    "start_time": "2022-10-23T20:48:49.480Z"
   },
   {
    "duration": 3,
    "start_time": "2022-10-23T20:48:53.953Z"
   },
   {
    "duration": 4,
    "start_time": "2022-10-23T20:49:08.352Z"
   },
   {
    "duration": 3,
    "start_time": "2022-10-23T20:50:28.761Z"
   },
   {
    "duration": 3,
    "start_time": "2022-10-23T20:50:34.033Z"
   },
   {
    "duration": 3,
    "start_time": "2022-10-23T20:50:38.736Z"
   },
   {
    "duration": 3,
    "start_time": "2022-10-23T20:50:44.009Z"
   },
   {
    "duration": 4,
    "start_time": "2022-10-23T20:50:55.033Z"
   },
   {
    "duration": 6,
    "start_time": "2022-10-23T20:51:00.074Z"
   },
   {
    "duration": 3,
    "start_time": "2022-10-23T20:51:08.064Z"
   },
   {
    "duration": 4,
    "start_time": "2022-10-23T20:51:14.633Z"
   },
   {
    "duration": 914,
    "start_time": "2022-10-23T20:51:18.594Z"
   },
   {
    "duration": 4,
    "start_time": "2022-10-23T20:51:22.665Z"
   },
   {
    "duration": 847,
    "start_time": "2022-10-23T20:54:43.795Z"
   },
   {
    "duration": 4,
    "start_time": "2022-10-23T20:54:46.940Z"
   },
   {
    "duration": 848,
    "start_time": "2022-10-23T20:57:56.390Z"
   },
   {
    "duration": 4,
    "start_time": "2022-10-23T20:57:58.855Z"
   },
   {
    "duration": 862,
    "start_time": "2022-10-23T20:58:27.672Z"
   },
   {
    "duration": 3,
    "start_time": "2022-10-23T20:58:30.198Z"
   },
   {
    "duration": 1263,
    "start_time": "2022-10-23T21:46:32.870Z"
   },
   {
    "duration": 322,
    "start_time": "2022-10-23T21:46:34.135Z"
   },
   {
    "duration": 4,
    "start_time": "2022-10-23T21:46:34.459Z"
   },
   {
    "duration": 262,
    "start_time": "2022-10-23T21:46:34.465Z"
   },
   {
    "duration": 27,
    "start_time": "2022-10-23T21:46:34.729Z"
   },
   {
    "duration": 9,
    "start_time": "2022-10-23T21:46:34.758Z"
   },
   {
    "duration": 26,
    "start_time": "2022-10-23T21:46:34.768Z"
   },
   {
    "duration": 34,
    "start_time": "2022-10-23T21:46:34.796Z"
   },
   {
    "duration": 21,
    "start_time": "2022-10-23T21:46:34.832Z"
   },
   {
    "duration": 22,
    "start_time": "2022-10-23T21:46:34.856Z"
   },
   {
    "duration": 35,
    "start_time": "2022-10-23T21:46:34.880Z"
   },
   {
    "duration": 31,
    "start_time": "2022-10-23T21:46:34.917Z"
   },
   {
    "duration": 53,
    "start_time": "2022-10-23T21:46:34.950Z"
   },
   {
    "duration": 107,
    "start_time": "2022-10-23T21:46:35.022Z"
   },
   {
    "duration": 209,
    "start_time": "2022-10-23T21:46:35.131Z"
   },
   {
    "duration": 78,
    "start_time": "2022-10-23T21:46:35.342Z"
   },
   {
    "duration": 139,
    "start_time": "2022-10-23T21:46:35.422Z"
   },
   {
    "duration": 106,
    "start_time": "2022-10-23T21:46:35.620Z"
   },
   {
    "duration": 36,
    "start_time": "2022-10-23T21:46:35.727Z"
   },
   {
    "duration": 36,
    "start_time": "2022-10-23T21:46:35.764Z"
   },
   {
    "duration": 126,
    "start_time": "2022-10-23T21:46:35.801Z"
   },
   {
    "duration": 20,
    "start_time": "2022-10-23T21:46:35.928Z"
   },
   {
    "duration": 71,
    "start_time": "2022-10-23T21:46:35.950Z"
   },
   {
    "duration": 104,
    "start_time": "2022-10-23T21:46:36.022Z"
   },
   {
    "duration": 18,
    "start_time": "2022-10-23T21:46:36.128Z"
   },
   {
    "duration": 23,
    "start_time": "2022-10-23T21:46:36.148Z"
   },
   {
    "duration": 115,
    "start_time": "2022-10-23T21:46:36.173Z"
   },
   {
    "duration": 0,
    "start_time": "2022-10-23T21:46:36.290Z"
   },
   {
    "duration": 0,
    "start_time": "2022-10-23T21:46:36.291Z"
   },
   {
    "duration": 0,
    "start_time": "2022-10-23T21:46:36.292Z"
   },
   {
    "duration": 0,
    "start_time": "2022-10-23T21:46:36.293Z"
   },
   {
    "duration": 0,
    "start_time": "2022-10-23T21:46:36.294Z"
   },
   {
    "duration": 0,
    "start_time": "2022-10-23T21:46:36.295Z"
   },
   {
    "duration": 0,
    "start_time": "2022-10-23T21:46:36.296Z"
   },
   {
    "duration": 0,
    "start_time": "2022-10-23T21:46:36.297Z"
   },
   {
    "duration": 0,
    "start_time": "2022-10-23T21:46:36.298Z"
   },
   {
    "duration": 0,
    "start_time": "2022-10-23T21:46:36.299Z"
   },
   {
    "duration": 0,
    "start_time": "2022-10-23T21:46:36.300Z"
   },
   {
    "duration": 0,
    "start_time": "2022-10-23T21:46:36.301Z"
   },
   {
    "duration": 49,
    "start_time": "2022-10-24T07:25:36.875Z"
   },
   {
    "duration": 3,
    "start_time": "2022-10-24T07:26:30.383Z"
   },
   {
    "duration": 5,
    "start_time": "2022-10-24T07:26:47.454Z"
   },
   {
    "duration": 4,
    "start_time": "2022-10-24T07:26:52.077Z"
   },
   {
    "duration": 4,
    "start_time": "2022-10-24T07:27:04.517Z"
   },
   {
    "duration": 7,
    "start_time": "2022-10-24T07:27:13.614Z"
   },
   {
    "duration": 2972,
    "start_time": "2022-10-24T07:27:37.811Z"
   },
   {
    "duration": 677,
    "start_time": "2022-10-24T07:27:40.785Z"
   },
   {
    "duration": 5,
    "start_time": "2022-10-24T07:27:41.464Z"
   },
   {
    "duration": 301,
    "start_time": "2022-10-24T07:27:41.472Z"
   },
   {
    "duration": 29,
    "start_time": "2022-10-24T07:27:41.775Z"
   },
   {
    "duration": 8,
    "start_time": "2022-10-24T07:27:41.806Z"
   },
   {
    "duration": 26,
    "start_time": "2022-10-24T07:27:41.816Z"
   },
   {
    "duration": 5,
    "start_time": "2022-10-24T07:27:41.844Z"
   },
   {
    "duration": 6,
    "start_time": "2022-10-24T07:27:41.850Z"
   },
   {
    "duration": 10,
    "start_time": "2022-10-24T07:27:41.859Z"
   },
   {
    "duration": 17,
    "start_time": "2022-10-24T07:27:41.870Z"
   },
   {
    "duration": 10,
    "start_time": "2022-10-24T07:27:41.889Z"
   },
   {
    "duration": 43,
    "start_time": "2022-10-24T07:27:41.901Z"
   },
   {
    "duration": 193,
    "start_time": "2022-10-24T07:27:41.946Z"
   },
   {
    "duration": 197,
    "start_time": "2022-10-24T07:27:42.141Z"
   },
   {
    "duration": 94,
    "start_time": "2022-10-24T07:27:42.340Z"
   },
   {
    "duration": 116,
    "start_time": "2022-10-24T07:27:42.437Z"
   },
   {
    "duration": 83,
    "start_time": "2022-10-24T07:27:42.555Z"
   },
   {
    "duration": 101,
    "start_time": "2022-10-24T07:27:42.642Z"
   },
   {
    "duration": 29,
    "start_time": "2022-10-24T07:27:42.744Z"
   },
   {
    "duration": 63,
    "start_time": "2022-10-24T07:27:42.776Z"
   },
   {
    "duration": 92,
    "start_time": "2022-10-24T07:27:42.842Z"
   },
   {
    "duration": 98,
    "start_time": "2022-10-24T07:27:42.936Z"
   },
   {
    "duration": 95,
    "start_time": "2022-10-24T07:27:43.039Z"
   },
   {
    "duration": 8,
    "start_time": "2022-10-24T07:27:43.136Z"
   },
   {
    "duration": 9,
    "start_time": "2022-10-24T07:27:43.145Z"
   },
   {
    "duration": 12,
    "start_time": "2022-10-24T07:27:43.155Z"
   },
   {
    "duration": 5,
    "start_time": "2022-10-24T07:27:43.171Z"
   },
   {
    "duration": 8,
    "start_time": "2022-10-24T07:27:43.178Z"
   },
   {
    "duration": 7,
    "start_time": "2022-10-24T07:27:43.187Z"
   },
   {
    "duration": 39,
    "start_time": "2022-10-24T07:27:43.195Z"
   },
   {
    "duration": 4,
    "start_time": "2022-10-24T07:27:43.236Z"
   },
   {
    "duration": 9,
    "start_time": "2022-10-24T07:27:43.242Z"
   },
   {
    "duration": 935,
    "start_time": "2022-10-24T07:27:43.253Z"
   },
   {
    "duration": 4,
    "start_time": "2022-10-24T07:27:44.190Z"
   },
   {
    "duration": 876,
    "start_time": "2022-10-24T07:27:44.197Z"
   },
   {
    "duration": 4,
    "start_time": "2022-10-24T07:27:45.076Z"
   },
   {
    "duration": 860,
    "start_time": "2022-10-24T07:27:45.081Z"
   },
   {
    "duration": 4,
    "start_time": "2022-10-24T07:27:45.943Z"
   },
   {
    "duration": 118,
    "start_time": "2022-10-24T08:36:12.417Z"
   },
   {
    "duration": 113,
    "start_time": "2022-10-24T09:07:27.668Z"
   },
   {
    "duration": 47,
    "start_time": "2022-10-24T09:13:45.987Z"
   },
   {
    "duration": 66,
    "start_time": "2022-10-24T09:14:58.581Z"
   },
   {
    "duration": 100,
    "start_time": "2022-10-24T09:15:51.728Z"
   },
   {
    "duration": 43,
    "start_time": "2022-10-24T09:16:49.263Z"
   },
   {
    "duration": 48,
    "start_time": "2022-10-24T09:16:59.570Z"
   },
   {
    "duration": 14,
    "start_time": "2022-10-24T09:17:44.458Z"
   },
   {
    "duration": 1344,
    "start_time": "2022-10-24T09:18:33.496Z"
   },
   {
    "duration": 351,
    "start_time": "2022-10-24T09:18:34.842Z"
   },
   {
    "duration": 5,
    "start_time": "2022-10-24T09:18:35.194Z"
   },
   {
    "duration": 273,
    "start_time": "2022-10-24T09:18:35.201Z"
   },
   {
    "duration": 28,
    "start_time": "2022-10-24T09:18:35.476Z"
   },
   {
    "duration": 7,
    "start_time": "2022-10-24T09:18:35.506Z"
   },
   {
    "duration": 27,
    "start_time": "2022-10-24T09:18:35.514Z"
   },
   {
    "duration": 6,
    "start_time": "2022-10-24T09:18:35.542Z"
   },
   {
    "duration": 9,
    "start_time": "2022-10-24T09:18:35.549Z"
   },
   {
    "duration": 5,
    "start_time": "2022-10-24T09:18:35.560Z"
   },
   {
    "duration": 15,
    "start_time": "2022-10-24T09:18:35.567Z"
   },
   {
    "duration": 9,
    "start_time": "2022-10-24T09:18:35.584Z"
   },
   {
    "duration": 46,
    "start_time": "2022-10-24T09:18:35.594Z"
   },
   {
    "duration": 115,
    "start_time": "2022-10-24T09:18:35.642Z"
   },
   {
    "duration": 189,
    "start_time": "2022-10-24T09:18:35.759Z"
   },
   {
    "duration": 85,
    "start_time": "2022-10-24T09:18:35.950Z"
   },
   {
    "duration": 197,
    "start_time": "2022-10-24T09:18:36.037Z"
   },
   {
    "duration": 99,
    "start_time": "2022-10-24T09:18:36.236Z"
   },
   {
    "duration": 5,
    "start_time": "2022-10-24T09:18:36.337Z"
   },
   {
    "duration": 92,
    "start_time": "2022-10-24T09:18:36.343Z"
   },
   {
    "duration": 97,
    "start_time": "2022-10-24T09:18:36.438Z"
   },
   {
    "duration": 7,
    "start_time": "2022-10-24T09:18:36.537Z"
   },
   {
    "duration": 88,
    "start_time": "2022-10-24T09:18:36.545Z"
   },
   {
    "duration": 100,
    "start_time": "2022-10-24T09:18:36.636Z"
   },
   {
    "duration": 6,
    "start_time": "2022-10-24T09:18:36.737Z"
   },
   {
    "duration": 9,
    "start_time": "2022-10-24T09:18:36.744Z"
   },
   {
    "duration": 3,
    "start_time": "2022-10-24T09:18:36.755Z"
   },
   {
    "duration": 4,
    "start_time": "2022-10-24T09:18:36.761Z"
   },
   {
    "duration": 7,
    "start_time": "2022-10-24T09:18:36.766Z"
   },
   {
    "duration": 6,
    "start_time": "2022-10-24T09:18:36.774Z"
   },
   {
    "duration": 13,
    "start_time": "2022-10-24T09:18:36.781Z"
   },
   {
    "duration": 15,
    "start_time": "2022-10-24T09:18:36.795Z"
   },
   {
    "duration": 24,
    "start_time": "2022-10-24T09:18:36.811Z"
   },
   {
    "duration": 860,
    "start_time": "2022-10-24T09:18:36.836Z"
   },
   {
    "duration": 3,
    "start_time": "2022-10-24T09:18:37.698Z"
   },
   {
    "duration": 851,
    "start_time": "2022-10-24T09:18:37.703Z"
   },
   {
    "duration": 4,
    "start_time": "2022-10-24T09:18:38.556Z"
   },
   {
    "duration": 869,
    "start_time": "2022-10-24T09:18:38.561Z"
   },
   {
    "duration": 4,
    "start_time": "2022-10-24T09:18:39.432Z"
   },
   {
    "duration": 1354,
    "start_time": "2022-10-24T09:31:02.851Z"
   },
   {
    "duration": 336,
    "start_time": "2022-10-24T09:31:04.207Z"
   },
   {
    "duration": 4,
    "start_time": "2022-10-24T09:31:04.544Z"
   },
   {
    "duration": 260,
    "start_time": "2022-10-24T09:31:04.550Z"
   },
   {
    "duration": 45,
    "start_time": "2022-10-24T09:31:04.811Z"
   },
   {
    "duration": 7,
    "start_time": "2022-10-24T09:31:04.857Z"
   },
   {
    "duration": 13,
    "start_time": "2022-10-24T09:31:04.866Z"
   },
   {
    "duration": 5,
    "start_time": "2022-10-24T09:31:04.881Z"
   },
   {
    "duration": 6,
    "start_time": "2022-10-24T09:31:04.887Z"
   },
   {
    "duration": 5,
    "start_time": "2022-10-24T09:31:04.895Z"
   },
   {
    "duration": 16,
    "start_time": "2022-10-24T09:31:04.901Z"
   },
   {
    "duration": 23,
    "start_time": "2022-10-24T09:31:04.919Z"
   },
   {
    "duration": 91,
    "start_time": "2022-10-24T09:31:04.943Z"
   },
   {
    "duration": 118,
    "start_time": "2022-10-24T09:31:05.036Z"
   },
   {
    "duration": 188,
    "start_time": "2022-10-24T09:31:05.157Z"
   },
   {
    "duration": 90,
    "start_time": "2022-10-24T09:31:05.347Z"
   },
   {
    "duration": 127,
    "start_time": "2022-10-24T09:31:05.439Z"
   },
   {
    "duration": 100,
    "start_time": "2022-10-24T09:31:05.635Z"
   },
   {
    "duration": 5,
    "start_time": "2022-10-24T09:31:05.737Z"
   },
   {
    "duration": 25,
    "start_time": "2022-10-24T09:31:05.743Z"
   },
   {
    "duration": 165,
    "start_time": "2022-10-24T09:31:05.770Z"
   },
   {
    "duration": 8,
    "start_time": "2022-10-24T09:31:05.937Z"
   },
   {
    "duration": 88,
    "start_time": "2022-10-24T09:31:05.946Z"
   },
   {
    "duration": 99,
    "start_time": "2022-10-24T09:31:06.036Z"
   },
   {
    "duration": 3,
    "start_time": "2022-10-24T09:31:06.137Z"
   },
   {
    "duration": 10,
    "start_time": "2022-10-24T09:31:06.142Z"
   },
   {
    "duration": 7,
    "start_time": "2022-10-24T09:31:06.153Z"
   },
   {
    "duration": 5,
    "start_time": "2022-10-24T09:31:06.164Z"
   },
   {
    "duration": 7,
    "start_time": "2022-10-24T09:31:06.170Z"
   },
   {
    "duration": 34,
    "start_time": "2022-10-24T09:31:06.179Z"
   },
   {
    "duration": 18,
    "start_time": "2022-10-24T09:31:06.215Z"
   },
   {
    "duration": 10,
    "start_time": "2022-10-24T09:31:06.235Z"
   },
   {
    "duration": 12,
    "start_time": "2022-10-24T09:31:06.247Z"
   },
   {
    "duration": 1004,
    "start_time": "2022-10-24T09:31:06.261Z"
   },
   {
    "duration": 5,
    "start_time": "2022-10-24T09:31:07.267Z"
   },
   {
    "duration": 857,
    "start_time": "2022-10-24T09:31:07.274Z"
   },
   {
    "duration": 4,
    "start_time": "2022-10-24T09:31:08.133Z"
   },
   {
    "duration": 881,
    "start_time": "2022-10-24T09:31:08.139Z"
   },
   {
    "duration": 4,
    "start_time": "2022-10-24T09:31:09.022Z"
   },
   {
    "duration": 49,
    "start_time": "2022-10-24T15:48:24.094Z"
   }
  ],
  "kernelspec": {
   "display_name": "Python 3 (ipykernel)",
   "language": "python",
   "name": "python3"
  },
  "language_info": {
   "codemirror_mode": {
    "name": "ipython",
    "version": 3
   },
   "file_extension": ".py",
   "mimetype": "text/x-python",
   "name": "python",
   "nbconvert_exporter": "python",
   "pygments_lexer": "ipython3",
   "version": "3.9.5"
  },
  "toc": {
   "base_numbering": 1,
   "nav_menu": {},
   "number_sections": true,
   "sideBar": true,
   "skip_h1_title": true,
   "title_cell": "Table of Contents",
   "title_sidebar": "Contents",
   "toc_cell": false,
   "toc_position": {},
   "toc_section_display": true,
   "toc_window_display": false
  }
 },
 "nbformat": 4,
 "nbformat_minor": 2
}

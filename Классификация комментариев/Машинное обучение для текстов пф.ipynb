{
 "cells": [
  {
   "cell_type": "markdown",
   "metadata": {
    "toc": true
   },
   "source": [
    "<h1>Содержание<span class=\"tocSkip\"></span></h1>\n",
    "<div class=\"toc\"><ul class=\"toc-item\"><li><span><a href=\"#Подготовка\" data-toc-modified-id=\"Подготовка-1\"><span class=\"toc-item-num\">1&nbsp;&nbsp;</span>Подготовка</a></span><ul class=\"toc-item\"><li><span><a href=\"#Импорт-библиотек\" data-toc-modified-id=\"Импорт-библиотек-1.1\"><span class=\"toc-item-num\">1.1&nbsp;&nbsp;</span>Импорт библиотек</a></span></li><li><span><a href=\"#Загрузка-данных\" data-toc-modified-id=\"Загрузка-данных-1.2\"><span class=\"toc-item-num\">1.2&nbsp;&nbsp;</span>Загрузка данных</a></span></li><li><span><a href=\"#Анализ\" data-toc-modified-id=\"Анализ-1.3\"><span class=\"toc-item-num\">1.3&nbsp;&nbsp;</span>Анализ</a></span></li><li><span><a href=\"#Предобработка\" data-toc-modified-id=\"Предобработка-1.4\"><span class=\"toc-item-num\">1.4&nbsp;&nbsp;</span>Предобработка</a></span><ul class=\"toc-item\"><li><span><a href=\"#Лемматизация\" data-toc-modified-id=\"Лемматизация-1.4.1\"><span class=\"toc-item-num\">1.4.1&nbsp;&nbsp;</span>Лемматизация</a></span></li><li><span><a href=\"#Векторизация\" data-toc-modified-id=\"Векторизация-1.4.2\"><span class=\"toc-item-num\">1.4.2&nbsp;&nbsp;</span>Векторизация</a></span></li></ul></li></ul></li><li><span><a href=\"#Обучение\" data-toc-modified-id=\"Обучение-2\"><span class=\"toc-item-num\">2&nbsp;&nbsp;</span>Обучение</a></span><ul class=\"toc-item\"><li><span><a href=\"#Logistic-Regression\" data-toc-modified-id=\"Logistic-Regression-2.1\"><span class=\"toc-item-num\">2.1&nbsp;&nbsp;</span>Logistic Regression</a></span></li><li><span><a href=\"#LinearSVC\" data-toc-modified-id=\"LinearSVC-2.2\"><span class=\"toc-item-num\">2.2&nbsp;&nbsp;</span>LinearSVC</a></span></li></ul></li><li><span><a href=\"#Выводы\" data-toc-modified-id=\"Выводы-3\"><span class=\"toc-item-num\">3&nbsp;&nbsp;</span>Выводы</a></span></li><li><span><a href=\"#Чек-лист-проверки\" data-toc-modified-id=\"Чек-лист-проверки-4\"><span class=\"toc-item-num\">4&nbsp;&nbsp;</span>Чек-лист проверки</a></span></li></ul></div>"
   ]
  },
  {
   "cell_type": "markdown",
   "metadata": {},
   "source": [
    "# Проект для «Викишоп»"
   ]
  },
  {
   "cell_type": "markdown",
   "metadata": {},
   "source": [
    "Интернет-магазин «Викишоп» запускает новый сервис. Теперь пользователи могут редактировать и дополнять описания товаров, как в вики-сообществах. То есть клиенты предлагают свои правки и комментируют изменения других. Магазину нужен инструмент, который будет искать токсичные комментарии и отправлять их на модерацию. \n",
    "\n",
    "Обучите модель классифицировать комментарии на позитивные и негативные. В вашем распоряжении набор данных с разметкой о токсичности правок.\n",
    "\n",
    "Постройте модель со значением метрики качества *F1* не меньше 0.75. \n",
    "\n",
    "**Инструкция по выполнению проекта**\n",
    "\n",
    "1. Загрузите и подготовьте данные.\n",
    "2. Обучите разные модели. \n",
    "3. Сделайте выводы.\n",
    "\n",
    "Для выполнения проекта применять *BERT* необязательно, но вы можете попробовать.\n",
    "\n",
    "**Описание данных**\n",
    "\n",
    "Данные находятся в файле `toxic_comments.csv`. Столбец *text* в нём содержит текст комментария, а *toxic* — целевой признак."
   ]
  },
  {
   "cell_type": "markdown",
   "metadata": {},
   "source": [
    "## Подготовка"
   ]
  },
  {
   "cell_type": "markdown",
   "metadata": {},
   "source": [
    "### Импорт библиотек"
   ]
  },
  {
   "cell_type": "code",
   "execution_count": 1,
   "metadata": {},
   "outputs": [
    {
     "name": "stderr",
     "output_type": "stream",
     "text": [
      "/tmp/ipykernel_350/3475678917.py:20: TqdmDeprecationWarning: This function will be removed in tqdm==5.0.0\n",
      "Please use `tqdm.notebook.tqdm` instead of `tqdm.tqdm_notebook`\n",
      "  tqdm_notebook().pandas()\n"
     ]
    },
    {
     "data": {
      "application/vnd.jupyter.widget-view+json": {
       "model_id": "80fb6cb06e2540f58906b9064f493cae",
       "version_major": 2,
       "version_minor": 0
      },
      "text/plain": [
       "0it [00:00, ?it/s]"
      ]
     },
     "metadata": {},
     "output_type": "display_data"
    },
    {
     "name": "stderr",
     "output_type": "stream",
     "text": [
      "[nltk_data] Downloading package punkt to /home/jovyan/nltk_data...\n",
      "[nltk_data]   Package punkt is already up-to-date!\n",
      "[nltk_data] Downloading package stopwords to /home/jovyan/nltk_data...\n",
      "[nltk_data]   Package stopwords is already up-to-date!\n"
     ]
    },
    {
     "data": {
      "text/plain": [
       "True"
      ]
     },
     "execution_count": 1,
     "metadata": {},
     "output_type": "execute_result"
    }
   ],
   "source": [
    "import pandas as pd\n",
    "import numpy as np\n",
    "import re\n",
    "import nltk\n",
    "import matplotlib.pyplot as plt\n",
    "import seaborn as sns\n",
    "from nltk.corpus import stopwords as nltk_stopwords\n",
    "from nltk.stem import WordNetLemmatizer\n",
    "from nltk.tokenize import word_tokenize\n",
    "\n",
    "from sklearn.feature_extraction.text import TfidfVectorizer\n",
    "from sklearn.model_selection import train_test_split, GridSearchCV\n",
    "from sklearn.svm import LinearSVC\n",
    "from sklearn.linear_model import LogisticRegression\n",
    "from sklearn.metrics import f1_score, accuracy_score\n",
    "\n",
    "from lightgbm import LGBMClassifier\n",
    "\n",
    "from tqdm import tqdm, tqdm_notebook\n",
    "tqdm_notebook().pandas()\n",
    "\n",
    "import warnings\n",
    "warnings.filterwarnings('ignore')\n",
    "\n",
    "nltk.download('punkt')\n",
    "nltk.download('stopwords')"
   ]
  },
  {
   "cell_type": "markdown",
   "metadata": {},
   "source": [
    "### Загрузка данных"
   ]
  },
  {
   "cell_type": "code",
   "execution_count": 2,
   "metadata": {},
   "outputs": [],
   "source": [
    "comments = pd.read_csv('/datasets/toxic_comments.csv')\n"
   ]
  },
  {
   "cell_type": "markdown",
   "metadata": {},
   "source": [
    "### Анализ"
   ]
  },
  {
   "cell_type": "code",
   "execution_count": 3,
   "metadata": {},
   "outputs": [
    {
     "name": "stdout",
     "output_type": "stream",
     "text": [
      "<class 'pandas.core.frame.DataFrame'>\n",
      "RangeIndex: 159292 entries, 0 to 159291\n",
      "Data columns (total 3 columns):\n",
      " #   Column      Non-Null Count   Dtype \n",
      "---  ------      --------------   ----- \n",
      " 0   Unnamed: 0  159292 non-null  int64 \n",
      " 1   text        159292 non-null  object\n",
      " 2   toxic       159292 non-null  int64 \n",
      "dtypes: int64(2), object(1)\n",
      "memory usage: 3.6+ MB\n"
     ]
    }
   ],
   "source": [
    "comments.info()"
   ]
  },
  {
   "cell_type": "code",
   "execution_count": 4,
   "metadata": {},
   "outputs": [
    {
     "data": {
      "text/plain": [
       "0    143106\n",
       "1     16186\n",
       "Name: toxic, dtype: int64"
      ]
     },
     "execution_count": 4,
     "metadata": {},
     "output_type": "execute_result"
    }
   ],
   "source": [
    "comments['toxic'].value_counts()"
   ]
  },
  {
   "cell_type": "code",
   "execution_count": 5,
   "metadata": {},
   "outputs": [
    {
     "data": {
      "text/html": [
       "<div>\n",
       "<style scoped>\n",
       "    .dataframe tbody tr th:only-of-type {\n",
       "        vertical-align: middle;\n",
       "    }\n",
       "\n",
       "    .dataframe tbody tr th {\n",
       "        vertical-align: top;\n",
       "    }\n",
       "\n",
       "    .dataframe thead th {\n",
       "        text-align: right;\n",
       "    }\n",
       "</style>\n",
       "<table border=\"1\" class=\"dataframe\">\n",
       "  <thead>\n",
       "    <tr style=\"text-align: right;\">\n",
       "      <th></th>\n",
       "      <th>Unnamed: 0</th>\n",
       "      <th>text</th>\n",
       "      <th>toxic</th>\n",
       "    </tr>\n",
       "  </thead>\n",
       "  <tbody>\n",
       "    <tr>\n",
       "      <th>0</th>\n",
       "      <td>0</td>\n",
       "      <td>Explanation\\nWhy the edits made under my usern...</td>\n",
       "      <td>0</td>\n",
       "    </tr>\n",
       "    <tr>\n",
       "      <th>1</th>\n",
       "      <td>1</td>\n",
       "      <td>D'aww! He matches this background colour I'm s...</td>\n",
       "      <td>0</td>\n",
       "    </tr>\n",
       "    <tr>\n",
       "      <th>2</th>\n",
       "      <td>2</td>\n",
       "      <td>Hey man, I'm really not trying to edit war. It...</td>\n",
       "      <td>0</td>\n",
       "    </tr>\n",
       "    <tr>\n",
       "      <th>3</th>\n",
       "      <td>3</td>\n",
       "      <td>\"\\nMore\\nI can't make any real suggestions on ...</td>\n",
       "      <td>0</td>\n",
       "    </tr>\n",
       "    <tr>\n",
       "      <th>4</th>\n",
       "      <td>4</td>\n",
       "      <td>You, sir, are my hero. Any chance you remember...</td>\n",
       "      <td>0</td>\n",
       "    </tr>\n",
       "    <tr>\n",
       "      <th>...</th>\n",
       "      <td>...</td>\n",
       "      <td>...</td>\n",
       "      <td>...</td>\n",
       "    </tr>\n",
       "    <tr>\n",
       "      <th>159287</th>\n",
       "      <td>159446</td>\n",
       "      <td>\":::::And for the second time of asking, when ...</td>\n",
       "      <td>0</td>\n",
       "    </tr>\n",
       "    <tr>\n",
       "      <th>159288</th>\n",
       "      <td>159447</td>\n",
       "      <td>You should be ashamed of yourself \\n\\nThat is ...</td>\n",
       "      <td>0</td>\n",
       "    </tr>\n",
       "    <tr>\n",
       "      <th>159289</th>\n",
       "      <td>159448</td>\n",
       "      <td>Spitzer \\n\\nUmm, theres no actual article for ...</td>\n",
       "      <td>0</td>\n",
       "    </tr>\n",
       "    <tr>\n",
       "      <th>159290</th>\n",
       "      <td>159449</td>\n",
       "      <td>And it looks like it was actually you who put ...</td>\n",
       "      <td>0</td>\n",
       "    </tr>\n",
       "    <tr>\n",
       "      <th>159291</th>\n",
       "      <td>159450</td>\n",
       "      <td>\"\\nAnd ... I really don't think you understand...</td>\n",
       "      <td>0</td>\n",
       "    </tr>\n",
       "  </tbody>\n",
       "</table>\n",
       "<p>159292 rows × 3 columns</p>\n",
       "</div>"
      ],
      "text/plain": [
       "        Unnamed: 0                                               text  toxic\n",
       "0                0  Explanation\\nWhy the edits made under my usern...      0\n",
       "1                1  D'aww! He matches this background colour I'm s...      0\n",
       "2                2  Hey man, I'm really not trying to edit war. It...      0\n",
       "3                3  \"\\nMore\\nI can't make any real suggestions on ...      0\n",
       "4                4  You, sir, are my hero. Any chance you remember...      0\n",
       "...            ...                                                ...    ...\n",
       "159287      159446  \":::::And for the second time of asking, when ...      0\n",
       "159288      159447  You should be ashamed of yourself \\n\\nThat is ...      0\n",
       "159289      159448  Spitzer \\n\\nUmm, theres no actual article for ...      0\n",
       "159290      159449  And it looks like it was actually you who put ...      0\n",
       "159291      159450  \"\\nAnd ... I really don't think you understand...      0\n",
       "\n",
       "[159292 rows x 3 columns]"
      ]
     },
     "execution_count": 5,
     "metadata": {},
     "output_type": "execute_result"
    }
   ],
   "source": [
    "comments"
   ]
  },
  {
   "cell_type": "markdown",
   "metadata": {},
   "source": [
    "Пропусков нет"
   ]
  },
  {
   "cell_type": "markdown",
   "metadata": {},
   "source": [
    "Построим распределение целевого признака"
   ]
  },
  {
   "cell_type": "code",
   "execution_count": 6,
   "metadata": {},
   "outputs": [
    {
     "data": {
      "text/plain": [
       "Text(0.5, 1.0, 'Распределение целевого признака')"
      ]
     },
     "execution_count": 6,
     "metadata": {},
     "output_type": "execute_result"
    },
    {
     "data": {
      "image/png": "[encoded data removed]",
      "text/plain": [
       "<Figure size 720x576 with 1 Axes>"
      ]
     },
     "metadata": {
      "needs_background": "light"
     },
     "output_type": "display_data"
    }
   ],
   "source": [
    "plt.figure(figsize=(10, 8))\n",
    "comments['toxic'].hist()\n",
    "plt.title('Распределение целевого признака')"
   ]
  },
  {
   "cell_type": "code",
   "execution_count": 7,
   "metadata": {},
   "outputs": [
    {
     "data": {
      "text/plain": [
       "(159292, 3)"
      ]
     },
     "execution_count": 7,
     "metadata": {},
     "output_type": "execute_result"
    }
   ],
   "source": [
    "comments.shape"
   ]
  },
  {
   "cell_type": "code",
   "execution_count": 8,
   "metadata": {},
   "outputs": [
    {
     "data": {
      "text/plain": [
       "0    143106\n",
       "1     16186\n",
       "Name: toxic, dtype: int64"
      ]
     },
     "execution_count": 8,
     "metadata": {},
     "output_type": "execute_result"
    }
   ],
   "source": [
    "comments['toxic'].value_counts()"
   ]
  },
  {
   "cell_type": "code",
   "execution_count": 9,
   "metadata": {},
   "outputs": [
    {
     "name": "stdout",
     "output_type": "stream",
     "text": [
      "Процент объектов класса 1 к общему объёму датасета: 10.16%\n"
     ]
    }
   ],
   "source": [
    "print(f\"Процент объектов класса 1 к общему объёму датасета: {(sum(comments['toxic']) / len(comments) * 100):.2f}%\")"
   ]
  },
  {
   "cell_type": "markdown",
   "metadata": {},
   "source": [
    "В наличии сильный дисбаланс классов"
   ]
  },
  {
   "cell_type": "markdown",
   "metadata": {},
   "source": [
    "### Предобработка"
   ]
  },
  {
   "cell_type": "markdown",
   "metadata": {},
   "source": [
    "#### Лемматизация"
   ]
  },
  {
   "cell_type": "raw",
   "metadata": {},
   "source": [
    "Приведём кодировку символов к Unicode\n",
    "Проведём лемматизацию слов с помощью WordNetLemmatizer() из библиотеки nltk\n",
    "Удалим пунктуацию и лишние пробелы\n",
    "Загрузим список стоп-слов"
   ]
  },
  {
   "cell_type": "code",
   "execution_count": 10,
   "metadata": {},
   "outputs": [],
   "source": [
    "lemmatizer = WordNetLemmatizer()\n",
    "def lemmatize(text):\n",
    "    word_list = nltk.word_tokenize(text)\n",
    "    lemmatized_output = ' '.join([lemmatizer.lemmatize(w) for w in word_list])\n",
    "    return lemmatized_output"
   ]
  },
  {
   "cell_type": "code",
   "execution_count": 11,
   "metadata": {},
   "outputs": [],
   "source": [
    "def clear_text(text):\n",
    "    text = re.sub(r'[^a-zA-Z ]', ' ', text)\n",
    "    return \" \".join(text.split())"
   ]
  },
  {
   "cell_type": "code",
   "execution_count": 12,
   "metadata": {},
   "outputs": [],
   "source": [
    "corpus = comments['text'].values"
   ]
  },
  {
   "cell_type": "code",
   "execution_count": 13,
   "metadata": {},
   "outputs": [],
   "source": [
    "corpus_lemm = [lemmatize(clear_text(corpus[i])) for i in range(len(corpus))]"
   ]
  },
  {
   "cell_type": "code",
   "execution_count": 14,
   "metadata": {},
   "outputs": [],
   "source": [
    "stopwords = set(nltk_stopwords.words('english'))"
   ]
  },
  {
   "cell_type": "markdown",
   "metadata": {},
   "source": [
    "Разделим данные на тренировочную и тестовую выборки"
   ]
  },
  {
   "cell_type": "code",
   "execution_count": 15,
   "metadata": {},
   "outputs": [],
   "source": [
    "X_train, X_test, y_train, y_test = train_test_split(corpus_lemm, comments['toxic'], \n",
    "                                                    test_size=0.2,\n",
    "                                                    random_state=42)"
   ]
  },
  {
   "cell_type": "code",
   "execution_count": 16,
   "metadata": {},
   "outputs": [
    {
     "name": "stdout",
     "output_type": "stream",
     "text": [
      "Размер тренировочного корпуса: 127433\n",
      "Размер тестового корпуса: 31859\n"
     ]
    }
   ],
   "source": [
    "print(f\"Размер тренировочного корпуса: {len(X_train)}\")\n",
    "print(f\"Размер тестового корпуса: {len(X_test)}\")"
   ]
  },
  {
   "cell_type": "markdown",
   "metadata": {},
   "source": [
    "#### Векторизация"
   ]
  },
  {
   "cell_type": "code",
   "execution_count": 17,
   "metadata": {},
   "outputs": [],
   "source": [
    "tf_idf_vec = TfidfVectorizer(ngram_range=(1,1), stop_words=stopwords,\n",
    "               min_df=3, max_df=0.9, strip_accents='unicode', use_idf=1,\n",
    "               smooth_idf=1, sublinear_tf=1 )"
   ]
  },
  {
   "cell_type": "code",
   "execution_count": 18,
   "metadata": {},
   "outputs": [],
   "source": [
    "X_train_vec = tf_idf_vec.fit_transform(X_train)"
   ]
  },
  {
   "cell_type": "code",
   "execution_count": 19,
   "metadata": {},
   "outputs": [],
   "source": [
    "X_test_vec = tf_idf_vec.transform(X_test)"
   ]
  },
  {
   "cell_type": "code",
   "execution_count": 20,
   "metadata": {},
   "outputs": [
    {
     "name": "stdout",
     "output_type": "stream",
     "text": [
      "Размер тренировочного датасета: (127433, 41662)\n",
      "Размер тестового датасета: (31859, 41662)\n"
     ]
    }
   ],
   "source": [
    "print(f\"Размер тренировочного датасета: {X_train_vec.shape}\")\n",
    "print(f\"Размер тестового датасета: {X_test_vec.shape}\")"
   ]
  },
  {
   "cell_type": "markdown",
   "metadata": {},
   "source": [
    "## Обучение"
   ]
  },
  {
   "cell_type": "markdown",
   "metadata": {},
   "source": [
    "Найдём метрику accuracy для константной модели. Будем предсказывать все твиты нетоксичными ('toxic'=0)"
   ]
  },
  {
   "cell_type": "code",
   "execution_count": 21,
   "metadata": {},
   "outputs": [
    {
     "name": "stdout",
     "output_type": "stream",
     "text": [
      "Accuracy константной модели 0.900\n"
     ]
    }
   ],
   "source": [
    "base_predicts = pd.Series(data=np.zeros((len(y_test))), index=y_test.index, dtype='int16')\n",
    "base_accuacy = accuracy_score(y_test, base_predicts)\n",
    "print(f\"Accuracy константной модели {base_accuacy:.3f}\")"
   ]
  },
  {
   "cell_type": "markdown",
   "metadata": {},
   "source": [
    "### Logistic Regression"
   ]
  },
  {
   "cell_type": "markdown",
   "metadata": {},
   "source": [
    "Обучение, подбор гиперпараметров, кросс-валидацию проведём с помощью GridSearchCV библиотеки sklearn\n",
    "Подбирать будем гиперпараметр регуляризации С"
   ]
  },
  {
   "cell_type": "code",
   "execution_count": 22,
   "metadata": {
    "scrolled": true
   },
   "outputs": [
    {
     "name": "stdout",
     "output_type": "stream",
     "text": [
      "Fitting 5 folds for each of 11 candidates, totalling 55 fits\n",
      "[CV] END ...............................C=10.0, max_iter=100; total time=  29.2s\n",
      "[CV] END ...............................C=10.0, max_iter=100; total time=  28.6s\n",
      "[CV] END ...............................C=10.0, max_iter=100; total time=  28.5s\n",
      "[CV] END ...............................C=10.0, max_iter=100; total time=  31.4s\n",
      "[CV] END ...............................C=10.0, max_iter=100; total time=  31.6s\n",
      "[CV] END ...............................C=11.0, max_iter=100; total time=  36.8s\n",
      "[CV] END ...............................C=11.0, max_iter=100; total time=  30.8s\n",
      "[CV] END ...............................C=11.0, max_iter=100; total time=  30.2s\n",
      "[CV] END ...............................C=11.0, max_iter=100; total time=  32.7s\n",
      "[CV] END ...............................C=11.0, max_iter=100; total time=  32.2s\n",
      "[CV] END ...............................C=12.0, max_iter=100; total time=  35.6s\n",
      "[CV] END ...............................C=12.0, max_iter=100; total time=  31.1s\n",
      "[CV] END ...............................C=12.0, max_iter=100; total time=  32.8s\n",
      "[CV] END ...............................C=12.0, max_iter=100; total time=  32.1s\n",
      "[CV] END ...............................C=12.0, max_iter=100; total time=  37.6s\n",
      "[CV] END ...............................C=13.0, max_iter=100; total time=  37.6s\n",
      "[CV] END ...............................C=13.0, max_iter=100; total time=  33.7s\n",
      "[CV] END ...............................C=13.0, max_iter=100; total time=  32.5s\n",
      "[CV] END ...............................C=13.0, max_iter=100; total time=  33.0s\n",
      "[CV] END ...............................C=13.0, max_iter=100; total time=  29.7s\n",
      "[CV] END ...............................C=14.0, max_iter=100; total time=  30.2s\n",
      "[CV] END ...............................C=14.0, max_iter=100; total time=  33.4s\n",
      "[CV] END ...............................C=14.0, max_iter=100; total time=  29.6s\n",
      "[CV] END ...............................C=14.0, max_iter=100; total time=  31.7s\n",
      "[CV] END ...............................C=14.0, max_iter=100; total time=  32.2s\n",
      "[CV] END ...............................C=15.0, max_iter=100; total time=  36.8s\n",
      "[CV] END ...............................C=15.0, max_iter=100; total time=  35.1s\n",
      "[CV] END ...............................C=15.0, max_iter=100; total time=  36.4s\n",
      "[CV] END ...............................C=15.0, max_iter=100; total time=  34.4s\n",
      "[CV] END ...............................C=15.0, max_iter=100; total time=  38.7s\n",
      "[CV] END ...............................C=16.0, max_iter=100; total time=  35.0s\n",
      "[CV] END ...............................C=16.0, max_iter=100; total time=  29.9s\n",
      "[CV] END ...............................C=16.0, max_iter=100; total time=  30.6s\n",
      "[CV] END ...............................C=16.0, max_iter=100; total time=  32.6s\n",
      "[CV] END ...............................C=16.0, max_iter=100; total time=  33.9s\n",
      "[CV] END ...............................C=17.0, max_iter=100; total time=  30.8s\n",
      "[CV] END ...............................C=17.0, max_iter=100; total time=  32.0s\n",
      "[CV] END ...............................C=17.0, max_iter=100; total time=  33.1s\n",
      "[CV] END ...............................C=17.0, max_iter=100; total time=  30.7s\n",
      "[CV] END ...............................C=17.0, max_iter=100; total time=  34.7s\n",
      "[CV] END ...............................C=18.0, max_iter=100; total time=  34.0s\n",
      "[CV] END ...............................C=18.0, max_iter=100; total time=  34.0s\n",
      "[CV] END ...............................C=18.0, max_iter=100; total time=  34.2s\n",
      "[CV] END ...............................C=18.0, max_iter=100; total time=  29.0s\n",
      "[CV] END ...............................C=18.0, max_iter=100; total time=  33.1s\n",
      "[CV] END ...............................C=19.0, max_iter=100; total time=  31.8s\n",
      "[CV] END ...............................C=19.0, max_iter=100; total time=  31.1s\n",
      "[CV] END ...............................C=19.0, max_iter=100; total time=  30.8s\n",
      "[CV] END ...............................C=19.0, max_iter=100; total time=  29.8s\n",
      "[CV] END ...............................C=19.0, max_iter=100; total time=  28.1s\n",
      "[CV] END ...............................C=20.0, max_iter=100; total time=  26.5s\n",
      "[CV] END ...............................C=20.0, max_iter=100; total time=  28.7s\n",
      "[CV] END ...............................C=20.0, max_iter=100; total time=  31.4s\n",
      "[CV] END ...............................C=20.0, max_iter=100; total time=  28.0s\n",
      "[CV] END ...............................C=20.0, max_iter=100; total time=  28.0s\n"
     ]
    },
    {
     "data": {
      "text/plain": [
       "GridSearchCV(cv=5, estimator=LogisticRegression(), n_jobs=-1,\n",
       "             param_grid={'C': array([10., 11., 12., 13., 14., 15., 16., 17., 18., 19., 20.]),\n",
       "                         'max_iter': [100]},\n",
       "             scoring='f1', verbose=2)"
      ]
     },
     "execution_count": 22,
     "metadata": {},
     "output_type": "execute_result"
    }
   ],
   "source": [
    "parameters = {'C': np.linspace(10, 20, num = 11, endpoint = True),\n",
    "             'max_iter': [100]}\n",
    "lrm = LogisticRegression()\n",
    "clf = GridSearchCV(lrm, parameters,\n",
    "                  cv=5,\n",
    "                  scoring='f1',\n",
    "                  n_jobs=-1,\n",
    "                  verbose=2)\n",
    "clf.fit(X_train_vec, y_train)"
   ]
  },
  {
   "cell_type": "markdown",
   "metadata": {},
   "source": [
    "<div class=\"alert alert-warning\">\n",
    "<b>1 Комментарий ревьюера ⚠️:</b> \n",
    "    \n",
    "Немного про утечку тестовых данных (совет): если делать кросс-валидацию на признаках TF-IDF - произойдет утечка тестовых данных. Чтобы не попадала информация о словах из тест. выборки в тренировочную, мы обучаем `TfidfVectorizer` на тренировочной выборке, после чего трансформируем тест. выборку. <br>**Но наша ситуация при кросс-валидации**: тренировочная выборка делится на тренировочные фолды и тестовый фолд, при этом `TfidfVectorizer` обучался на всех фолдах в сумме. Решение проблемы: [Pipelines](https://stackoverflow.com/questions/46010617/do-i-use-the-same-tfidf-vocabulary-in-k-fold-cross-validation), где получение признаков `TF-IDF` происходит каждый раз, когда выборка делится на тренировочные и тестовые фолды </div>"
   ]
  },
  {
   "cell_type": "code",
   "execution_count": 23,
   "metadata": {},
   "outputs": [
    {
     "name": "stdout",
     "output_type": "stream",
     "text": [
      "Наилучший показатель f1 на кросс-валидации : 0.773\n",
      "Параметр регуляризации для лучшей модели: {'C': 12.0, 'max_iter': 100}\n"
     ]
    }
   ],
   "source": [
    "print(f\"Наилучший показатель f1 на кросс-валидации : {clf.best_score_:.3f}\")\n",
    "print(f\"Параметр регуляризации для лучшей модели: {clf.best_params_}\")"
   ]
  },
  {
   "cell_type": "code",
   "execution_count": 29,
   "metadata": {},
   "outputs": [],
   "source": [
    "#lrm = LogisticRegression(C=13, max_iter=100)\n",
    "#lrm.fit(X_train_vec, y_train)\n",
    "#predict = lrm.predict(X_test_vec)\n",
    "#f1_lr = f1_score(y_test, predict)"
   ]
  },
  {
   "cell_type": "code",
   "execution_count": 25,
   "metadata": {},
   "outputs": [],
   "source": [
    "#print(f\"Показатель f1 на тестовой выборке: {f1_lr:.3f}\")"
   ]
  },
  {
   "cell_type": "markdown",
   "metadata": {},
   "source": [
    "Проверим модель на адекватность. Рассчитаем метрику accuracy и сравним её с константной моделью"
   ]
  },
  {
   "cell_type": "code",
   "execution_count": 30,
   "metadata": {},
   "outputs": [],
   "source": [
    "#accuracy_lr = accuracy_score(y_test, predict)\n",
    "#print(f\"Accuracy на логистической регрессии {accuracy_lr:.3f}, больше, чем на константной модели\")"
   ]
  },
  {
   "cell_type": "markdown",
   "metadata": {},
   "source": [
    "### LinearSVC"
   ]
  },
  {
   "cell_type": "code",
   "execution_count": 31,
   "metadata": {},
   "outputs": [],
   "source": [
    "parameters = {'C': np.linspace(1, 31, num = 7, endpoint = True)}\n",
    "lsvcm = LinearSVC(max_iter = 1000)"
   ]
  },
  {
   "cell_type": "code",
   "execution_count": 32,
   "metadata": {},
   "outputs": [],
   "source": [
    "clf_lsvc = GridSearchCV(lsvcm, parameters,\n",
    "                  cv=5,\n",
    "                  scoring='f1',\n",
    "                  n_jobs=-1,\n",
    "                  verbose=2)"
   ]
  },
  {
   "cell_type": "code",
   "execution_count": 33,
   "metadata": {
    "scrolled": true
   },
   "outputs": [
    {
     "name": "stdout",
     "output_type": "stream",
     "text": [
      "Fitting 5 folds for each of 7 candidates, totalling 35 fits\n",
      "[CV] END ..............................................C=1.0; total time=   0.6s\n",
      "[CV] END ..............................................C=1.0; total time=   0.7s\n",
      "[CV] END ..............................................C=1.0; total time=   0.7s\n",
      "[CV] END ..............................................C=1.0; total time=   0.7s\n",
      "[CV] END ..............................................C=1.0; total time=   0.6s\n",
      "[CV] END ..............................................C=6.0; total time=   1.7s\n",
      "[CV] END ..............................................C=6.0; total time=   1.6s\n",
      "[CV] END ..............................................C=6.0; total time=   2.3s\n",
      "[CV] END ..............................................C=6.0; total time=   2.1s\n",
      "[CV] END ..............................................C=6.0; total time=   1.7s\n",
      "[CV] END .............................................C=11.0; total time=   2.4s\n",
      "[CV] END .............................................C=11.0; total time=   2.6s\n",
      "[CV] END .............................................C=11.0; total time=   3.5s\n",
      "[CV] END .............................................C=11.0; total time=   2.9s\n",
      "[CV] END .............................................C=11.0; total time=   2.9s\n",
      "[CV] END .............................................C=16.0; total time=   3.5s\n",
      "[CV] END .............................................C=16.0; total time=   4.3s\n",
      "[CV] END .............................................C=16.0; total time=   3.5s\n",
      "[CV] END .............................................C=16.0; total time=   4.6s\n",
      "[CV] END .............................................C=16.0; total time=   4.4s\n",
      "[CV] END .............................................C=21.0; total time=   4.6s\n",
      "[CV] END .............................................C=21.0; total time=   4.6s\n",
      "[CV] END .............................................C=21.0; total time=   4.9s\n",
      "[CV] END .............................................C=21.0; total time=   4.5s\n",
      "[CV] END .............................................C=21.0; total time=   4.7s\n",
      "[CV] END .............................................C=26.0; total time=   4.4s\n",
      "[CV] END .............................................C=26.0; total time=   4.4s\n",
      "[CV] END .............................................C=26.0; total time=   4.9s\n",
      "[CV] END .............................................C=26.0; total time=   4.5s\n",
      "[CV] END .............................................C=26.0; total time=   4.8s\n",
      "[CV] END .............................................C=31.0; total time=   4.5s\n",
      "[CV] END .............................................C=31.0; total time=   4.7s\n",
      "[CV] END .............................................C=31.0; total time=   4.5s\n",
      "[CV] END .............................................C=31.0; total time=   4.2s\n",
      "[CV] END .............................................C=31.0; total time=   4.2s\n"
     ]
    },
    {
     "data": {
      "text/plain": [
       "GridSearchCV(cv=5, estimator=LinearSVC(), n_jobs=-1,\n",
       "             param_grid={'C': array([ 1.,  6., 11., 16., 21., 26., 31.])},\n",
       "             scoring='f1', verbose=2)"
      ]
     },
     "execution_count": 33,
     "metadata": {},
     "output_type": "execute_result"
    }
   ],
   "source": [
    "clf_lsvc.fit(X_train_vec, y_train)"
   ]
  },
  {
   "cell_type": "code",
   "execution_count": 34,
   "metadata": {},
   "outputs": [
    {
     "name": "stdout",
     "output_type": "stream",
     "text": [
      "Наилучший показатель f1 на кросс-валидации : 0.776\n",
      "Параметр регуляризации для лучшей модели: {'C': 1.0}\n"
     ]
    }
   ],
   "source": [
    "print(f\"Наилучший показатель f1 на кросс-валидации : {clf_lsvc.best_score_:.3f}\")\n",
    "print(f\"Параметр регуляризации для лучшей модели: {clf_lsvc.best_params_}\")"
   ]
  },
  {
   "cell_type": "markdown",
   "metadata": {},
   "source": [
    "Лучший резултат на валидационной выборке показала модель LinearSVC. Протестируем её на тестовой выборке."
   ]
  },
  {
   "cell_type": "code",
   "execution_count": 36,
   "metadata": {},
   "outputs": [],
   "source": [
    "lsvcm = LogisticRegression(C=11,\n",
    "                           max_iter=1000)\n",
    "lsvcm.fit(X_train_vec, y_train)\n",
    "predict = lsvcm.predict(X_test_vec)\n",
    "f1_lsvc = f1_score(y_test, predict)"
   ]
  },
  {
   "cell_type": "code",
   "execution_count": 37,
   "metadata": {},
   "outputs": [
    {
     "name": "stdout",
     "output_type": "stream",
     "text": [
      "Показатель f1 на тестовой выборке: 0.776\n"
     ]
    }
   ],
   "source": [
    "print(f\"Показатель f1 на тестовой выборке: {f1_lsvc:.3f}\")"
   ]
  },
  {
   "cell_type": "markdown",
   "metadata": {},
   "source": [
    "## Выводы"
   ]
  },
  {
   "cell_type": "markdown",
   "metadata": {},
   "source": [
    "Данные о токсичности твитов успешно загружены и обработаны:\n",
    "Лемматизация проведена с помощью WordNetLemmatizer библиотеки nltk\n",
    "Знаки пунктуации, а также лишние пробелы удалены\n",
    "Стоп слова удалены (список взят из библиотеки nltk)\n",
    "Корпус векторизован с помощью TfidfVectorizer\n",
    "На получившихся данных обучены модели: LogisticRegression, LinearSVC.\n",
    "\n",
    "Кросс-валидация моделей и подбор гиперпараметров проводились с помощью GridSearchCV.\n",
    "\n",
    "Качество моделей практически одинаково. Разница не более 1%. \n",
    "Максимальный показатель f1 получен для LinearSVC: 0,776\n",
    "\n",
    "Модель:\n",
    "\n",
    "LogisticRegression\tНаилучший показатель f1 на кросс-валидации : 0.773\n",
    "\n",
    "LinearSVC\tПоказатель f1 на тестовой выборке f1 на  : 0.776\n",
    "\n",
    "Выбрана модель LinearSVC, показавшая лучший результат на валидационной выборке 0,776.\n",
    "\n",
    "Модель LinearSVC на тестовой выборке показала результат 0,776.\n",
    "\n"
   ]
  },
  {
   "cell_type": "markdown",
   "metadata": {},
   "source": [
    "## Чек-лист проверки"
   ]
  },
  {
   "cell_type": "markdown",
   "metadata": {},
   "source": [
    "- [x]  Jupyter Notebook открыт\n",
    "- [ ]  Весь код выполняется без ошибок\n",
    "- [ ]  Ячейки с кодом расположены в порядке исполнения\n",
    "- [ ]  Данные загружены и подготовлены\n",
    "- [ ]  Модели обучены\n",
    "- [ ]  Значение метрики *F1* не меньше 0.75\n",
    "- [ ]  Выводы написаны"
   ]
  },
  {
   "cell_type": "code",
   "execution_count": null,
   "metadata": {},
   "outputs": [],
   "source": []
  }
 ],
 "metadata": {
  "ExecuteTimeLog": [
   {
    "duration": 46,
    "start_time": "2022-12-24T13:13:36.972Z"
   },
   {
    "duration": 5,
    "start_time": "2022-12-24T13:13:49.027Z"
   },
   {
    "duration": 2302,
    "start_time": "2022-12-24T13:14:36.682Z"
   },
   {
    "duration": 3144,
    "start_time": "2022-12-24T13:14:39.763Z"
   },
   {
    "duration": 85,
    "start_time": "2022-12-24T13:18:57.096Z"
   },
   {
    "duration": 30,
    "start_time": "2022-12-24T13:19:22.073Z"
   },
   {
    "duration": 15,
    "start_time": "2022-12-24T13:19:58.834Z"
   },
   {
    "duration": 159,
    "start_time": "2022-12-24T13:24:24.219Z"
   },
   {
    "duration": 13,
    "start_time": "2022-12-24T13:31:55.563Z"
   },
   {
    "duration": 61,
    "start_time": "2022-12-24T13:32:35.716Z"
   },
   {
    "duration": 3,
    "start_time": "2022-12-24T13:34:17.768Z"
   },
   {
    "duration": 13,
    "start_time": "2022-12-24T13:36:10.622Z"
   },
   {
    "duration": 7,
    "start_time": "2022-12-24T13:38:52.137Z"
   },
   {
    "duration": 10,
    "start_time": "2022-12-24T13:39:54.477Z"
   },
   {
    "duration": 11,
    "start_time": "2022-12-24T13:42:23.960Z"
   },
   {
    "duration": 7,
    "start_time": "2022-12-24T13:43:19.029Z"
   },
   {
    "duration": 10,
    "start_time": "2022-12-24T13:44:07.512Z"
   },
   {
    "duration": 9,
    "start_time": "2022-12-24T13:44:44.746Z"
   },
   {
    "duration": 10,
    "start_time": "2022-12-24T13:45:04.812Z"
   },
   {
    "duration": 12,
    "start_time": "2022-12-24T13:45:39.952Z"
   },
   {
    "duration": 4,
    "start_time": "2022-12-24T13:46:21.417Z"
   },
   {
    "duration": 11,
    "start_time": "2022-12-24T13:46:25.369Z"
   },
   {
    "duration": 10,
    "start_time": "2022-12-24T13:49:33.107Z"
   },
   {
    "duration": 39,
    "start_time": "2022-12-24T13:51:06.812Z"
   },
   {
    "duration": 10,
    "start_time": "2022-12-24T13:51:45.211Z"
   },
   {
    "duration": 31,
    "start_time": "2022-12-24T13:51:49.372Z"
   },
   {
    "duration": 10,
    "start_time": "2022-12-24T13:53:16.229Z"
   },
   {
    "duration": 4,
    "start_time": "2022-12-24T13:53:46.565Z"
   },
   {
    "duration": 27,
    "start_time": "2022-12-24T13:54:03.933Z"
   },
   {
    "duration": 12,
    "start_time": "2022-12-24T13:54:32.478Z"
   },
   {
    "duration": 9,
    "start_time": "2022-12-24T13:59:15.602Z"
   },
   {
    "duration": 3,
    "start_time": "2022-12-24T13:59:32.626Z"
   },
   {
    "duration": 100811,
    "start_time": "2022-12-24T13:59:36.681Z"
   },
   {
    "duration": 10,
    "start_time": "2022-12-24T14:06:42.151Z"
   },
   {
    "duration": 2,
    "start_time": "2022-12-24T14:06:48.512Z"
   },
   {
    "duration": 3627,
    "start_time": "2022-12-24T14:06:51.126Z"
   },
   {
    "duration": 20117,
    "start_time": "2022-12-24T14:11:16.898Z"
   },
   {
    "duration": 69,
    "start_time": "2022-12-24T14:13:36.332Z"
   },
   {
    "duration": 26161,
    "start_time": "2022-12-24T14:15:43.885Z"
   },
   {
    "duration": 7,
    "start_time": "2022-12-24T14:19:27.767Z"
   },
   {
    "duration": 3,
    "start_time": "2022-12-24T14:51:18.840Z"
   },
   {
    "duration": 6,
    "start_time": "2022-12-24T14:51:45.824Z"
   },
   {
    "duration": 89,
    "start_time": "2022-12-24T14:52:11.413Z"
   },
   {
    "duration": 17,
    "start_time": "2022-12-24T14:52:42.958Z"
   },
   {
    "duration": 4,
    "start_time": "2022-12-24T15:12:24.992Z"
   },
   {
    "duration": 3,
    "start_time": "2022-12-24T15:12:45.798Z"
   },
   {
    "duration": 216,
    "start_time": "2022-12-24T15:13:38.809Z"
   },
   {
    "duration": 647,
    "start_time": "2022-12-24T15:13:39.027Z"
   },
   {
    "duration": 28,
    "start_time": "2022-12-24T15:13:39.676Z"
   },
   {
    "duration": 5,
    "start_time": "2022-12-24T15:13:39.712Z"
   },
   {
    "duration": 9,
    "start_time": "2022-12-24T15:13:39.719Z"
   },
   {
    "duration": 170,
    "start_time": "2022-12-24T15:13:39.729Z"
   },
   {
    "duration": 13,
    "start_time": "2022-12-24T15:13:39.900Z"
   },
   {
    "duration": 6,
    "start_time": "2022-12-24T15:13:39.914Z"
   },
   {
    "duration": 11,
    "start_time": "2022-12-24T15:13:39.921Z"
   },
   {
    "duration": 72,
    "start_time": "2022-12-24T15:13:39.934Z"
   },
   {
    "duration": 0,
    "start_time": "2022-12-24T15:13:40.008Z"
   },
   {
    "duration": 0,
    "start_time": "2022-12-24T15:13:40.009Z"
   },
   {
    "duration": 0,
    "start_time": "2022-12-24T15:13:40.010Z"
   },
   {
    "duration": 1,
    "start_time": "2022-12-24T15:13:40.010Z"
   },
   {
    "duration": 27,
    "start_time": "2022-12-24T15:14:13.339Z"
   },
   {
    "duration": 659,
    "start_time": "2022-12-24T15:14:13.368Z"
   },
   {
    "duration": 27,
    "start_time": "2022-12-24T15:14:14.029Z"
   },
   {
    "duration": 10,
    "start_time": "2022-12-24T15:14:14.058Z"
   },
   {
    "duration": 36,
    "start_time": "2022-12-24T15:14:14.071Z"
   },
   {
    "duration": 158,
    "start_time": "2022-12-24T15:14:14.109Z"
   },
   {
    "duration": 4,
    "start_time": "2022-12-24T15:14:14.269Z"
   },
   {
    "duration": 25,
    "start_time": "2022-12-24T15:14:14.275Z"
   },
   {
    "duration": 19,
    "start_time": "2022-12-24T15:14:14.302Z"
   },
   {
    "duration": 11,
    "start_time": "2022-12-24T15:14:14.323Z"
   },
   {
    "duration": 7,
    "start_time": "2022-12-24T15:14:14.335Z"
   },
   {
    "duration": 44,
    "start_time": "2022-12-24T15:14:23.409Z"
   },
   {
    "duration": 7,
    "start_time": "2022-12-24T15:15:01.714Z"
   },
   {
    "duration": 2070,
    "start_time": "2022-12-24T15:15:09.135Z"
   },
   {
    "duration": 2963,
    "start_time": "2022-12-24T15:15:15.189Z"
   },
   {
    "duration": 34,
    "start_time": "2022-12-24T15:15:26.154Z"
   },
   {
    "duration": 9,
    "start_time": "2022-12-24T15:15:27.116Z"
   },
   {
    "duration": 16,
    "start_time": "2022-12-24T15:15:28.083Z"
   },
   {
    "duration": 178,
    "start_time": "2022-12-24T15:15:30.779Z"
   },
   {
    "duration": 3,
    "start_time": "2022-12-24T15:15:31.995Z"
   },
   {
    "duration": 6,
    "start_time": "2022-12-24T15:15:34.541Z"
   },
   {
    "duration": 11,
    "start_time": "2022-12-24T15:15:36.650Z"
   },
   {
    "duration": 3,
    "start_time": "2022-12-24T15:15:45.060Z"
   },
   {
    "duration": 3,
    "start_time": "2022-12-24T15:15:45.917Z"
   },
   {
    "duration": 725,
    "start_time": "2022-12-24T15:16:44.508Z"
   },
   {
    "duration": 742,
    "start_time": "2022-12-24T15:17:11.878Z"
   },
   {
    "duration": 1700,
    "start_time": "2022-12-24T15:17:36.462Z"
   },
   {
    "duration": 696,
    "start_time": "2022-12-24T15:17:38.164Z"
   },
   {
    "duration": 28,
    "start_time": "2022-12-24T15:17:38.862Z"
   },
   {
    "duration": 5,
    "start_time": "2022-12-24T15:17:38.892Z"
   },
   {
    "duration": 25,
    "start_time": "2022-12-24T15:17:38.898Z"
   },
   {
    "duration": 175,
    "start_time": "2022-12-24T15:17:38.925Z"
   },
   {
    "duration": 4,
    "start_time": "2022-12-24T15:17:39.101Z"
   },
   {
    "duration": 12,
    "start_time": "2022-12-24T15:17:39.106Z"
   },
   {
    "duration": 16,
    "start_time": "2022-12-24T15:17:39.120Z"
   },
   {
    "duration": 5,
    "start_time": "2022-12-24T15:17:39.139Z"
   },
   {
    "duration": 6,
    "start_time": "2022-12-24T15:17:39.146Z"
   },
   {
    "duration": 1752,
    "start_time": "2022-12-24T15:17:39.154Z"
   },
   {
    "duration": 73518,
    "start_time": "2022-12-24T15:17:40.912Z"
   },
   {
    "duration": 54,
    "start_time": "2022-12-24T15:18:54.432Z"
   },
   {
    "duration": 3,
    "start_time": "2022-12-24T15:18:54.488Z"
   },
   {
    "duration": 26,
    "start_time": "2022-12-24T15:18:54.492Z"
   },
   {
    "duration": 7,
    "start_time": "2022-12-24T15:18:54.519Z"
   },
   {
    "duration": 34,
    "start_time": "2022-12-24T15:18:54.528Z"
   },
   {
    "duration": 7,
    "start_time": "2022-12-24T15:18:54.564Z"
   },
   {
    "duration": 14,
    "start_time": "2022-12-24T15:18:54.573Z"
   },
   {
    "duration": 4,
    "start_time": "2022-12-24T15:18:54.589Z"
   },
   {
    "duration": 96746,
    "start_time": "2022-12-24T15:18:54.612Z"
   },
   {
    "duration": 3,
    "start_time": "2022-12-24T15:20:31.359Z"
   },
   {
    "duration": 3498,
    "start_time": "2022-12-24T15:20:31.363Z"
   },
   {
    "duration": 2066,
    "start_time": "2022-12-24T15:23:40.495Z"
   },
   {
    "duration": 2872,
    "start_time": "2022-12-24T15:23:42.563Z"
   },
   {
    "duration": 29,
    "start_time": "2022-12-24T15:23:45.437Z"
   },
   {
    "duration": 31,
    "start_time": "2022-12-24T15:23:45.468Z"
   },
   {
    "duration": 33,
    "start_time": "2022-12-24T15:23:45.501Z"
   },
   {
    "duration": 180,
    "start_time": "2022-12-24T15:23:45.536Z"
   },
   {
    "duration": 4,
    "start_time": "2022-12-24T15:23:45.718Z"
   },
   {
    "duration": 14,
    "start_time": "2022-12-24T15:23:45.723Z"
   },
   {
    "duration": 25,
    "start_time": "2022-12-24T15:23:45.739Z"
   },
   {
    "duration": 17,
    "start_time": "2022-12-24T15:23:45.766Z"
   },
   {
    "duration": 41,
    "start_time": "2022-12-24T15:23:45.785Z"
   },
   {
    "duration": 1785,
    "start_time": "2022-12-24T15:23:45.828Z"
   },
   {
    "duration": 1749,
    "start_time": "2022-12-24T15:24:54.418Z"
   },
   {
    "duration": 693,
    "start_time": "2022-12-24T15:24:56.168Z"
   },
   {
    "duration": 29,
    "start_time": "2022-12-24T15:24:56.862Z"
   },
   {
    "duration": 6,
    "start_time": "2022-12-24T15:24:56.893Z"
   },
   {
    "duration": 33,
    "start_time": "2022-12-24T15:24:56.900Z"
   },
   {
    "duration": 174,
    "start_time": "2022-12-24T15:24:56.934Z"
   },
   {
    "duration": 3,
    "start_time": "2022-12-24T15:24:57.113Z"
   },
   {
    "duration": 9,
    "start_time": "2022-12-24T15:24:57.118Z"
   },
   {
    "duration": 11,
    "start_time": "2022-12-24T15:24:57.129Z"
   },
   {
    "duration": 4,
    "start_time": "2022-12-24T15:24:57.143Z"
   },
   {
    "duration": 9,
    "start_time": "2022-12-24T15:24:57.148Z"
   },
   {
    "duration": 1755,
    "start_time": "2022-12-24T15:24:57.158Z"
   },
   {
    "duration": 74359,
    "start_time": "2022-12-24T15:24:58.915Z"
   },
   {
    "duration": 3,
    "start_time": "2022-12-24T15:26:13.276Z"
   },
   {
    "duration": 4,
    "start_time": "2022-12-24T15:26:13.281Z"
   },
   {
    "duration": 5,
    "start_time": "2022-12-24T15:26:13.286Z"
   },
   {
    "duration": 8,
    "start_time": "2022-12-24T15:26:13.292Z"
   },
   {
    "duration": 11,
    "start_time": "2022-12-24T15:26:13.302Z"
   },
   {
    "duration": 6,
    "start_time": "2022-12-24T15:26:13.314Z"
   },
   {
    "duration": 5,
    "start_time": "2022-12-24T15:26:13.321Z"
   },
   {
    "duration": 5,
    "start_time": "2022-12-24T15:26:13.327Z"
   },
   {
    "duration": 4,
    "start_time": "2022-12-24T15:26:13.334Z"
   },
   {
    "duration": 4,
    "start_time": "2022-12-24T15:26:13.339Z"
   },
   {
    "duration": 15,
    "start_time": "2022-12-24T15:26:13.345Z"
   },
   {
    "duration": 6,
    "start_time": "2022-12-24T15:26:13.361Z"
   },
   {
    "duration": 5,
    "start_time": "2022-12-24T15:26:13.368Z"
   },
   {
    "duration": 5,
    "start_time": "2022-12-24T15:26:13.374Z"
   },
   {
    "duration": 50,
    "start_time": "2022-12-24T15:27:31.170Z"
   },
   {
    "duration": 4,
    "start_time": "2022-12-24T15:27:59.802Z"
   },
   {
    "duration": 3,
    "start_time": "2022-12-24T15:30:33.973Z"
   },
   {
    "duration": 44,
    "start_time": "2022-12-24T15:31:19.327Z"
   },
   {
    "duration": 6,
    "start_time": "2022-12-24T15:31:49.711Z"
   },
   {
    "duration": 1990,
    "start_time": "2022-12-24T15:31:56.810Z"
   },
   {
    "duration": 2918,
    "start_time": "2022-12-24T15:31:58.802Z"
   },
   {
    "duration": 31,
    "start_time": "2022-12-24T15:32:01.722Z"
   },
   {
    "duration": 7,
    "start_time": "2022-12-24T15:32:01.755Z"
   },
   {
    "duration": 38,
    "start_time": "2022-12-24T15:32:01.763Z"
   },
   {
    "duration": 171,
    "start_time": "2022-12-24T15:32:01.803Z"
   },
   {
    "duration": 3,
    "start_time": "2022-12-24T15:32:01.976Z"
   },
   {
    "duration": 35,
    "start_time": "2022-12-24T15:32:01.981Z"
   },
   {
    "duration": 40,
    "start_time": "2022-12-24T15:32:02.018Z"
   },
   {
    "duration": 8,
    "start_time": "2022-12-24T15:32:02.061Z"
   },
   {
    "duration": 17,
    "start_time": "2022-12-24T15:32:02.071Z"
   },
   {
    "duration": 1927,
    "start_time": "2022-12-24T15:32:02.090Z"
   },
   {
    "duration": 1781,
    "start_time": "2022-12-24T15:32:39.988Z"
   },
   {
    "duration": 681,
    "start_time": "2022-12-24T15:32:41.770Z"
   },
   {
    "duration": 26,
    "start_time": "2022-12-24T15:32:42.452Z"
   },
   {
    "duration": 5,
    "start_time": "2022-12-24T15:32:42.480Z"
   },
   {
    "duration": 11,
    "start_time": "2022-12-24T15:32:42.486Z"
   },
   {
    "duration": 164,
    "start_time": "2022-12-24T15:32:42.513Z"
   },
   {
    "duration": 3,
    "start_time": "2022-12-24T15:32:42.679Z"
   },
   {
    "duration": 10,
    "start_time": "2022-12-24T15:32:42.683Z"
   },
   {
    "duration": 18,
    "start_time": "2022-12-24T15:32:42.695Z"
   },
   {
    "duration": 4,
    "start_time": "2022-12-24T15:32:42.716Z"
   },
   {
    "duration": 6,
    "start_time": "2022-12-24T15:32:42.722Z"
   },
   {
    "duration": 1771,
    "start_time": "2022-12-24T15:32:42.730Z"
   },
   {
    "duration": 74092,
    "start_time": "2022-12-24T15:32:44.503Z"
   },
   {
    "duration": 4,
    "start_time": "2022-12-24T15:33:58.596Z"
   },
   {
    "duration": 65,
    "start_time": "2022-12-24T15:33:58.601Z"
   },
   {
    "duration": 4,
    "start_time": "2022-12-24T15:33:58.667Z"
   },
   {
    "duration": 10,
    "start_time": "2022-12-24T15:33:58.672Z"
   },
   {
    "duration": 66,
    "start_time": "2022-12-24T15:34:56.919Z"
   },
   {
    "duration": 7,
    "start_time": "2022-12-24T15:35:17.636Z"
   },
   {
    "duration": 2037,
    "start_time": "2022-12-24T15:36:27.392Z"
   },
   {
    "duration": 2890,
    "start_time": "2022-12-24T15:36:34.976Z"
   },
   {
    "duration": 29,
    "start_time": "2022-12-24T15:36:37.867Z"
   },
   {
    "duration": 6,
    "start_time": "2022-12-24T15:36:38.115Z"
   },
   {
    "duration": 13,
    "start_time": "2022-12-24T15:36:39.113Z"
   },
   {
    "duration": 188,
    "start_time": "2022-12-24T15:36:41.789Z"
   },
   {
    "duration": 4,
    "start_time": "2022-12-24T15:36:42.840Z"
   },
   {
    "duration": 8,
    "start_time": "2022-12-24T15:36:44.019Z"
   },
   {
    "duration": 23,
    "start_time": "2022-12-24T15:36:44.584Z"
   },
   {
    "duration": 4,
    "start_time": "2022-12-24T15:36:56.004Z"
   },
   {
    "duration": 4,
    "start_time": "2022-12-24T15:36:57.215Z"
   },
   {
    "duration": 1816,
    "start_time": "2022-12-24T15:36:58.970Z"
   },
   {
    "duration": 1990,
    "start_time": "2022-12-24T15:38:32.309Z"
   },
   {
    "duration": 749,
    "start_time": "2022-12-24T15:38:34.301Z"
   },
   {
    "duration": 31,
    "start_time": "2022-12-24T15:38:35.052Z"
   },
   {
    "duration": 6,
    "start_time": "2022-12-24T15:38:35.086Z"
   },
   {
    "duration": 29,
    "start_time": "2022-12-24T15:38:35.094Z"
   },
   {
    "duration": 188,
    "start_time": "2022-12-24T15:38:35.125Z"
   },
   {
    "duration": 4,
    "start_time": "2022-12-24T15:38:35.314Z"
   },
   {
    "duration": 8,
    "start_time": "2022-12-24T15:38:35.320Z"
   },
   {
    "duration": 13,
    "start_time": "2022-12-24T15:38:35.330Z"
   },
   {
    "duration": 3,
    "start_time": "2022-12-24T15:38:35.347Z"
   },
   {
    "duration": 14,
    "start_time": "2022-12-24T15:38:35.352Z"
   },
   {
    "duration": 1769,
    "start_time": "2022-12-24T15:38:35.368Z"
   },
   {
    "duration": 75289,
    "start_time": "2022-12-24T15:38:37.139Z"
   },
   {
    "duration": 4,
    "start_time": "2022-12-24T15:39:52.430Z"
   },
   {
    "duration": 59,
    "start_time": "2022-12-24T15:39:52.435Z"
   },
   {
    "duration": 3,
    "start_time": "2022-12-24T15:39:52.496Z"
   },
   {
    "duration": 3,
    "start_time": "2022-12-24T15:39:52.512Z"
   },
   {
    "duration": 4992,
    "start_time": "2022-12-24T15:39:52.516Z"
   },
   {
    "duration": 1167,
    "start_time": "2022-12-24T15:39:57.510Z"
   },
   {
    "duration": 2,
    "start_time": "2022-12-24T15:39:58.678Z"
   },
   {
    "duration": 7,
    "start_time": "2022-12-24T15:39:58.682Z"
   },
   {
    "duration": 12,
    "start_time": "2022-12-24T15:39:58.691Z"
   },
   {
    "duration": 5,
    "start_time": "2022-12-24T15:39:58.705Z"
   },
   {
    "duration": 5,
    "start_time": "2022-12-24T15:39:58.711Z"
   },
   {
    "duration": 7,
    "start_time": "2022-12-24T15:39:58.717Z"
   },
   {
    "duration": 10,
    "start_time": "2022-12-24T15:39:58.725Z"
   },
   {
    "duration": 9,
    "start_time": "2022-12-24T15:39:58.736Z"
   },
   {
    "duration": 7,
    "start_time": "2022-12-24T15:39:58.748Z"
   },
   {
    "duration": 9,
    "start_time": "2022-12-24T15:39:58.757Z"
   },
   {
    "duration": 9,
    "start_time": "2022-12-24T15:39:58.767Z"
   },
   {
    "duration": 18,
    "start_time": "2022-12-24T15:39:58.777Z"
   },
   {
    "duration": 13,
    "start_time": "2022-12-24T15:39:58.796Z"
   },
   {
    "duration": 13,
    "start_time": "2022-12-24T15:40:42.582Z"
   },
   {
    "duration": 46,
    "start_time": "2022-12-24T15:41:36.955Z"
   },
   {
    "duration": 2055,
    "start_time": "2022-12-24T15:41:49.038Z"
   },
   {
    "duration": 3029,
    "start_time": "2022-12-24T15:41:51.094Z"
   },
   {
    "duration": 29,
    "start_time": "2022-12-24T15:41:54.124Z"
   },
   {
    "duration": 5,
    "start_time": "2022-12-24T15:41:54.155Z"
   },
   {
    "duration": 10,
    "start_time": "2022-12-24T15:41:54.162Z"
   },
   {
    "duration": 169,
    "start_time": "2022-12-24T15:41:54.173Z"
   },
   {
    "duration": 4,
    "start_time": "2022-12-24T15:41:54.343Z"
   },
   {
    "duration": 8,
    "start_time": "2022-12-24T15:41:54.349Z"
   },
   {
    "duration": 12,
    "start_time": "2022-12-24T15:41:54.358Z"
   },
   {
    "duration": 3,
    "start_time": "2022-12-24T15:41:54.373Z"
   },
   {
    "duration": 8,
    "start_time": "2022-12-24T15:41:54.377Z"
   },
   {
    "duration": 1776,
    "start_time": "2022-12-24T15:41:54.386Z"
   },
   {
    "duration": 74078,
    "start_time": "2022-12-24T15:41:56.164Z"
   },
   {
    "duration": 4,
    "start_time": "2022-12-24T15:43:10.244Z"
   },
   {
    "duration": 76,
    "start_time": "2022-12-24T15:43:10.250Z"
   },
   {
    "duration": 4,
    "start_time": "2022-12-24T15:43:10.328Z"
   },
   {
    "duration": 8,
    "start_time": "2022-12-24T15:43:10.334Z"
   },
   {
    "duration": 45,
    "start_time": "2022-12-24T15:45:15.478Z"
   },
   {
    "duration": 2086,
    "start_time": "2022-12-24T15:45:33.284Z"
   },
   {
    "duration": 3006,
    "start_time": "2022-12-24T15:45:35.372Z"
   },
   {
    "duration": 29,
    "start_time": "2022-12-24T15:45:38.380Z"
   },
   {
    "duration": 8,
    "start_time": "2022-12-24T15:45:38.411Z"
   },
   {
    "duration": 11,
    "start_time": "2022-12-24T15:45:38.420Z"
   },
   {
    "duration": 175,
    "start_time": "2022-12-24T15:45:38.433Z"
   },
   {
    "duration": 5,
    "start_time": "2022-12-24T15:45:38.609Z"
   },
   {
    "duration": 21,
    "start_time": "2022-12-24T15:45:38.616Z"
   },
   {
    "duration": 22,
    "start_time": "2022-12-24T15:45:38.639Z"
   },
   {
    "duration": 6,
    "start_time": "2022-12-24T15:45:38.664Z"
   },
   {
    "duration": 9,
    "start_time": "2022-12-24T15:45:38.671Z"
   },
   {
    "duration": 1769,
    "start_time": "2022-12-24T15:45:38.682Z"
   },
   {
    "duration": 74900,
    "start_time": "2022-12-24T15:45:40.452Z"
   },
   {
    "duration": 4,
    "start_time": "2022-12-24T15:46:55.354Z"
   },
   {
    "duration": 88,
    "start_time": "2022-12-24T15:46:55.360Z"
   },
   {
    "duration": 3,
    "start_time": "2022-12-24T15:46:55.450Z"
   },
   {
    "duration": 41,
    "start_time": "2022-12-24T15:46:55.455Z"
   },
   {
    "duration": 46,
    "start_time": "2022-12-24T15:47:27.393Z"
   },
   {
    "duration": 1999,
    "start_time": "2022-12-24T15:47:45.068Z"
   },
   {
    "duration": 2937,
    "start_time": "2022-12-24T15:47:47.069Z"
   },
   {
    "duration": 36,
    "start_time": "2022-12-24T15:47:50.008Z"
   },
   {
    "duration": 5,
    "start_time": "2022-12-24T15:47:50.046Z"
   },
   {
    "duration": 13,
    "start_time": "2022-12-24T15:47:50.053Z"
   },
   {
    "duration": 191,
    "start_time": "2022-12-24T15:47:50.068Z"
   },
   {
    "duration": 5,
    "start_time": "2022-12-24T15:47:50.261Z"
   },
   {
    "duration": 16,
    "start_time": "2022-12-24T15:47:50.268Z"
   },
   {
    "duration": 28,
    "start_time": "2022-12-24T15:47:50.287Z"
   },
   {
    "duration": 12,
    "start_time": "2022-12-24T15:47:50.319Z"
   },
   {
    "duration": 16,
    "start_time": "2022-12-24T15:47:50.333Z"
   },
   {
    "duration": 1793,
    "start_time": "2022-12-24T15:47:50.351Z"
   },
   {
    "duration": 73113,
    "start_time": "2022-12-24T15:47:52.146Z"
   },
   {
    "duration": 4,
    "start_time": "2022-12-24T15:49:05.261Z"
   },
   {
    "duration": 60,
    "start_time": "2022-12-24T15:49:05.266Z"
   },
   {
    "duration": 4,
    "start_time": "2022-12-24T15:49:05.327Z"
   },
   {
    "duration": 25,
    "start_time": "2022-12-24T15:49:05.332Z"
   },
   {
    "duration": 2036,
    "start_time": "2022-12-24T15:50:08.290Z"
   },
   {
    "duration": 2946,
    "start_time": "2022-12-24T15:50:15.258Z"
   },
   {
    "duration": 29,
    "start_time": "2022-12-24T15:50:18.206Z"
   },
   {
    "duration": 5,
    "start_time": "2022-12-24T15:50:18.237Z"
   },
   {
    "duration": 11,
    "start_time": "2022-12-24T15:50:24.405Z"
   },
   {
    "duration": 162,
    "start_time": "2022-12-24T15:50:29.427Z"
   },
   {
    "duration": 4,
    "start_time": "2022-12-24T15:50:31.515Z"
   },
   {
    "duration": 7,
    "start_time": "2022-12-24T15:50:33.442Z"
   },
   {
    "duration": 14,
    "start_time": "2022-12-24T15:50:34.745Z"
   },
   {
    "duration": 3,
    "start_time": "2022-12-24T15:50:42.290Z"
   },
   {
    "duration": 3,
    "start_time": "2022-12-24T15:50:43.377Z"
   },
   {
    "duration": 1817,
    "start_time": "2022-12-24T15:50:46.456Z"
   },
   {
    "duration": 73919,
    "start_time": "2022-12-24T15:50:48.275Z"
   },
   {
    "duration": 3,
    "start_time": "2022-12-24T15:52:21.667Z"
   },
   {
    "duration": 51,
    "start_time": "2022-12-24T15:52:24.193Z"
   },
   {
    "duration": 3,
    "start_time": "2022-12-24T15:52:28.180Z"
   },
   {
    "duration": 3,
    "start_time": "2022-12-24T15:52:30.376Z"
   },
   {
    "duration": 45,
    "start_time": "2022-12-24T15:57:45.503Z"
   },
   {
    "duration": 2057,
    "start_time": "2022-12-24T15:57:54.894Z"
   },
   {
    "duration": 2884,
    "start_time": "2022-12-24T15:57:56.953Z"
   },
   {
    "duration": 30,
    "start_time": "2022-12-24T15:57:59.839Z"
   },
   {
    "duration": 6,
    "start_time": "2022-12-24T15:57:59.870Z"
   },
   {
    "duration": 11,
    "start_time": "2022-12-24T15:57:59.878Z"
   },
   {
    "duration": 160,
    "start_time": "2022-12-24T15:58:03.941Z"
   },
   {
    "duration": 3,
    "start_time": "2022-12-24T15:58:04.925Z"
   },
   {
    "duration": 6,
    "start_time": "2022-12-24T15:58:05.949Z"
   },
   {
    "duration": 12,
    "start_time": "2022-12-24T15:58:06.902Z"
   },
   {
    "duration": 3,
    "start_time": "2022-12-24T15:58:11.614Z"
   },
   {
    "duration": 4,
    "start_time": "2022-12-24T15:58:12.848Z"
   },
   {
    "duration": 1870,
    "start_time": "2022-12-24T15:58:13.582Z"
   },
   {
    "duration": 74187,
    "start_time": "2022-12-24T15:58:15.454Z"
   },
   {
    "duration": 3,
    "start_time": "2022-12-24T15:59:29.643Z"
   },
   {
    "duration": 52,
    "start_time": "2022-12-24T15:59:56.343Z"
   },
   {
    "duration": 3,
    "start_time": "2022-12-24T15:59:57.560Z"
   },
   {
    "duration": 3,
    "start_time": "2022-12-24T16:00:02.414Z"
   },
   {
    "duration": 46,
    "start_time": "2022-12-24T16:12:33.985Z"
   },
   {
    "duration": 1930,
    "start_time": "2022-12-24T16:12:44.660Z"
   },
   {
    "duration": 2958,
    "start_time": "2022-12-24T16:12:46.592Z"
   },
   {
    "duration": 32,
    "start_time": "2022-12-24T16:12:49.551Z"
   },
   {
    "duration": 21,
    "start_time": "2022-12-24T16:12:49.585Z"
   },
   {
    "duration": 28,
    "start_time": "2022-12-24T16:12:49.608Z"
   },
   {
    "duration": 187,
    "start_time": "2022-12-24T16:12:49.637Z"
   },
   {
    "duration": 4,
    "start_time": "2022-12-24T16:12:49.826Z"
   },
   {
    "duration": 23,
    "start_time": "2022-12-24T16:12:49.832Z"
   },
   {
    "duration": 36,
    "start_time": "2022-12-24T16:12:49.857Z"
   },
   {
    "duration": 4,
    "start_time": "2022-12-24T16:12:49.896Z"
   },
   {
    "duration": 6,
    "start_time": "2022-12-24T16:12:49.902Z"
   },
   {
    "duration": 1810,
    "start_time": "2022-12-24T16:12:49.910Z"
   },
   {
    "duration": 1803,
    "start_time": "2022-12-24T16:12:55.129Z"
   },
   {
    "duration": 704,
    "start_time": "2022-12-24T16:12:56.935Z"
   },
   {
    "duration": 28,
    "start_time": "2022-12-24T16:12:57.641Z"
   },
   {
    "duration": 9,
    "start_time": "2022-12-24T16:12:57.671Z"
   },
   {
    "duration": 20,
    "start_time": "2022-12-24T16:12:57.682Z"
   },
   {
    "duration": 169,
    "start_time": "2022-12-24T16:12:57.703Z"
   },
   {
    "duration": 3,
    "start_time": "2022-12-24T16:12:57.874Z"
   },
   {
    "duration": 25,
    "start_time": "2022-12-24T16:12:57.879Z"
   },
   {
    "duration": 28,
    "start_time": "2022-12-24T16:12:57.907Z"
   },
   {
    "duration": 17,
    "start_time": "2022-12-24T16:12:57.939Z"
   },
   {
    "duration": 12,
    "start_time": "2022-12-24T16:12:57.958Z"
   },
   {
    "duration": 1820,
    "start_time": "2022-12-24T16:12:57.972Z"
   },
   {
    "duration": 73729,
    "start_time": "2022-12-24T16:12:59.793Z"
   },
   {
    "duration": 3,
    "start_time": "2022-12-24T16:14:13.524Z"
   },
   {
    "duration": 60,
    "start_time": "2022-12-24T16:14:13.528Z"
   },
   {
    "duration": 3,
    "start_time": "2022-12-24T16:14:13.590Z"
   },
   {
    "duration": 30,
    "start_time": "2022-12-24T16:14:13.594Z"
   },
   {
    "duration": 1991,
    "start_time": "2022-12-24T16:15:56.392Z"
   },
   {
    "duration": 2895,
    "start_time": "2022-12-24T16:15:58.385Z"
   },
   {
    "duration": 26,
    "start_time": "2022-12-24T16:16:01.282Z"
   },
   {
    "duration": 12,
    "start_time": "2022-12-24T16:16:01.310Z"
   },
   {
    "duration": 13,
    "start_time": "2022-12-24T16:16:01.323Z"
   },
   {
    "duration": 172,
    "start_time": "2022-12-24T16:16:01.338Z"
   },
   {
    "duration": 3,
    "start_time": "2022-12-24T16:16:01.512Z"
   },
   {
    "duration": 26,
    "start_time": "2022-12-24T16:16:01.517Z"
   },
   {
    "duration": 21,
    "start_time": "2022-12-24T16:16:01.544Z"
   },
   {
    "duration": 24,
    "start_time": "2022-12-24T16:16:01.567Z"
   },
   {
    "duration": 30,
    "start_time": "2022-12-24T16:16:01.592Z"
   },
   {
    "duration": 1780,
    "start_time": "2022-12-24T16:16:01.624Z"
   },
   {
    "duration": 74522,
    "start_time": "2022-12-24T16:16:03.406Z"
   },
   {
    "duration": 3,
    "start_time": "2022-12-24T16:17:17.930Z"
   },
   {
    "duration": 52,
    "start_time": "2022-12-24T16:17:17.934Z"
   },
   {
    "duration": 3,
    "start_time": "2022-12-24T16:17:17.987Z"
   },
   {
    "duration": 5,
    "start_time": "2022-12-24T16:17:17.992Z"
   },
   {
    "duration": 1993,
    "start_time": "2022-12-24T16:18:01.549Z"
   },
   {
    "duration": 2937,
    "start_time": "2022-12-24T16:18:03.545Z"
   },
   {
    "duration": 29,
    "start_time": "2022-12-24T16:18:06.484Z"
   },
   {
    "duration": 6,
    "start_time": "2022-12-24T16:18:06.514Z"
   },
   {
    "duration": 10,
    "start_time": "2022-12-24T16:18:06.522Z"
   },
   {
    "duration": 176,
    "start_time": "2022-12-24T16:18:06.533Z"
   },
   {
    "duration": 4,
    "start_time": "2022-12-24T16:18:06.712Z"
   },
   {
    "duration": 10,
    "start_time": "2022-12-24T16:18:06.717Z"
   },
   {
    "duration": 18,
    "start_time": "2022-12-24T16:18:06.729Z"
   },
   {
    "duration": 7,
    "start_time": "2022-12-24T16:18:06.748Z"
   },
   {
    "duration": 6,
    "start_time": "2022-12-24T16:18:06.757Z"
   },
   {
    "duration": 1784,
    "start_time": "2022-12-24T16:18:06.765Z"
   },
   {
    "duration": 73832,
    "start_time": "2022-12-24T16:18:08.551Z"
   },
   {
    "duration": 4,
    "start_time": "2022-12-24T16:19:22.386Z"
   },
   {
    "duration": 55,
    "start_time": "2022-12-24T16:19:22.391Z"
   },
   {
    "duration": 3,
    "start_time": "2022-12-24T16:19:22.448Z"
   },
   {
    "duration": 6,
    "start_time": "2022-12-24T16:19:22.453Z"
   },
   {
    "duration": 4816,
    "start_time": "2022-12-24T16:19:22.461Z"
   },
   {
    "duration": 1153,
    "start_time": "2022-12-24T16:19:27.278Z"
   },
   {
    "duration": 3,
    "start_time": "2022-12-24T16:19:28.433Z"
   },
   {
    "duration": 122,
    "start_time": "2022-12-24T16:19:28.438Z"
   },
   {
    "duration": 0,
    "start_time": "2022-12-24T16:19:28.562Z"
   },
   {
    "duration": 0,
    "start_time": "2022-12-24T16:19:28.563Z"
   },
   {
    "duration": 0,
    "start_time": "2022-12-24T16:19:28.565Z"
   },
   {
    "duration": 0,
    "start_time": "2022-12-24T16:19:28.566Z"
   },
   {
    "duration": 0,
    "start_time": "2022-12-24T16:19:28.568Z"
   },
   {
    "duration": 0,
    "start_time": "2022-12-24T16:19:28.569Z"
   },
   {
    "duration": 0,
    "start_time": "2022-12-24T16:19:28.571Z"
   },
   {
    "duration": 0,
    "start_time": "2022-12-24T16:19:28.572Z"
   },
   {
    "duration": 0,
    "start_time": "2022-12-24T16:19:28.573Z"
   },
   {
    "duration": 0,
    "start_time": "2022-12-24T16:19:28.575Z"
   },
   {
    "duration": 0,
    "start_time": "2022-12-24T16:19:28.576Z"
   },
   {
    "duration": 0,
    "start_time": "2022-12-24T16:19:28.577Z"
   },
   {
    "duration": 0,
    "start_time": "2022-12-24T16:19:28.578Z"
   },
   {
    "duration": 0,
    "start_time": "2022-12-24T16:19:28.580Z"
   },
   {
    "duration": 0,
    "start_time": "2022-12-24T16:19:28.581Z"
   },
   {
    "duration": 0,
    "start_time": "2022-12-24T16:19:28.613Z"
   },
   {
    "duration": 0,
    "start_time": "2022-12-24T16:19:28.615Z"
   },
   {
    "duration": 0,
    "start_time": "2022-12-24T16:19:28.617Z"
   },
   {
    "duration": 32,
    "start_time": "2022-12-24T16:21:56.407Z"
   },
   {
    "duration": 7,
    "start_time": "2022-12-24T16:22:07.643Z"
   },
   {
    "duration": 1817,
    "start_time": "2022-12-24T17:09:02.954Z"
   },
   {
    "duration": 683,
    "start_time": "2022-12-24T17:09:04.773Z"
   },
   {
    "duration": 30,
    "start_time": "2022-12-24T17:09:05.457Z"
   },
   {
    "duration": 24,
    "start_time": "2022-12-24T17:09:05.489Z"
   },
   {
    "duration": 12,
    "start_time": "2022-12-24T17:09:05.515Z"
   },
   {
    "duration": 177,
    "start_time": "2022-12-24T17:09:05.528Z"
   },
   {
    "duration": 4,
    "start_time": "2022-12-24T17:09:05.712Z"
   },
   {
    "duration": 10,
    "start_time": "2022-12-24T17:09:05.717Z"
   },
   {
    "duration": 12,
    "start_time": "2022-12-24T17:09:05.729Z"
   },
   {
    "duration": 6,
    "start_time": "2022-12-24T17:09:05.744Z"
   },
   {
    "duration": 8,
    "start_time": "2022-12-24T17:09:05.751Z"
   },
   {
    "duration": 1821,
    "start_time": "2022-12-24T17:09:05.761Z"
   },
   {
    "duration": 74464,
    "start_time": "2022-12-24T17:09:07.583Z"
   },
   {
    "duration": 4,
    "start_time": "2022-12-24T17:10:22.049Z"
   },
   {
    "duration": 59,
    "start_time": "2022-12-24T17:10:22.054Z"
   },
   {
    "duration": 3,
    "start_time": "2022-12-24T17:10:22.114Z"
   },
   {
    "duration": 24,
    "start_time": "2022-12-24T17:10:22.118Z"
   },
   {
    "duration": 4729,
    "start_time": "2022-12-24T17:10:22.144Z"
   },
   {
    "duration": 1174,
    "start_time": "2022-12-24T17:10:26.875Z"
   },
   {
    "duration": 4,
    "start_time": "2022-12-24T17:10:28.050Z"
   },
   {
    "duration": 9,
    "start_time": "2022-12-24T17:10:28.055Z"
   },
   {
    "duration": 1630849,
    "start_time": "2022-12-24T17:10:28.066Z"
   },
   {
    "duration": 3,
    "start_time": "2022-12-24T17:37:38.917Z"
   },
   {
    "duration": 100499,
    "start_time": "2022-12-24T17:37:38.922Z"
   },
   {
    "duration": 4,
    "start_time": "2022-12-24T17:39:19.423Z"
   },
   {
    "duration": 27,
    "start_time": "2022-12-24T17:39:19.429Z"
   },
   {
    "duration": 32,
    "start_time": "2022-12-24T17:39:19.458Z"
   },
   {
    "duration": 149,
    "start_time": "2022-12-24T17:39:19.493Z"
   },
   {
    "duration": 0,
    "start_time": "2022-12-24T17:39:19.644Z"
   },
   {
    "duration": 0,
    "start_time": "2022-12-24T17:39:19.646Z"
   },
   {
    "duration": 0,
    "start_time": "2022-12-24T17:39:19.647Z"
   },
   {
    "duration": 0,
    "start_time": "2022-12-24T17:39:19.648Z"
   },
   {
    "duration": 0,
    "start_time": "2022-12-24T17:39:19.649Z"
   },
   {
    "duration": 0,
    "start_time": "2022-12-24T17:39:19.650Z"
   },
   {
    "duration": 0,
    "start_time": "2022-12-24T17:39:19.652Z"
   },
   {
    "duration": 0,
    "start_time": "2022-12-24T17:39:19.653Z"
   },
   {
    "duration": 0,
    "start_time": "2022-12-24T17:39:19.654Z"
   },
   {
    "duration": 0,
    "start_time": "2022-12-24T17:39:19.656Z"
   },
   {
    "duration": 0,
    "start_time": "2022-12-24T17:39:19.657Z"
   },
   {
    "duration": 0,
    "start_time": "2022-12-24T17:39:19.659Z"
   },
   {
    "duration": 0,
    "start_time": "2022-12-24T17:39:19.660Z"
   },
   {
    "duration": 0,
    "start_time": "2022-12-24T17:39:19.662Z"
   },
   {
    "duration": 0,
    "start_time": "2022-12-24T17:39:19.663Z"
   },
   {
    "duration": 0,
    "start_time": "2022-12-24T17:39:19.664Z"
   },
   {
    "duration": 0,
    "start_time": "2022-12-24T17:39:19.665Z"
   },
   {
    "duration": 32032,
    "start_time": "2022-12-24T17:39:20.586Z"
   },
   {
    "duration": 4,
    "start_time": "2022-12-24T17:39:52.620Z"
   },
   {
    "duration": 2,
    "start_time": "2022-12-24T17:44:40.589Z"
   },
   {
    "duration": 3,
    "start_time": "2022-12-24T17:44:47.166Z"
   },
   {
    "duration": 3,
    "start_time": "2022-12-24T17:44:58.517Z"
   },
   {
    "duration": 100575,
    "start_time": "2022-12-24T17:44:59.886Z"
   },
   {
    "duration": 4,
    "start_time": "2022-12-24T17:47:55.655Z"
   },
   {
    "duration": 57358,
    "start_time": "2022-12-24T17:48:06.663Z"
   },
   {
    "duration": 3,
    "start_time": "2022-12-24T17:53:46.670Z"
   },
   {
    "duration": 3,
    "start_time": "2022-12-24T18:01:50.672Z"
   },
   {
    "duration": 2,
    "start_time": "2022-12-24T18:01:54.769Z"
   },
   {
    "duration": 1790,
    "start_time": "2022-12-24T18:07:25.774Z"
   },
   {
    "duration": 669,
    "start_time": "2022-12-24T18:07:27.566Z"
   },
   {
    "duration": 26,
    "start_time": "2022-12-24T18:07:28.237Z"
   },
   {
    "duration": 5,
    "start_time": "2022-12-24T18:07:28.265Z"
   },
   {
    "duration": 10,
    "start_time": "2022-12-24T18:07:28.271Z"
   },
   {
    "duration": 193,
    "start_time": "2022-12-24T18:07:28.282Z"
   },
   {
    "duration": 4,
    "start_time": "2022-12-24T18:07:28.477Z"
   },
   {
    "duration": 17,
    "start_time": "2022-12-24T18:07:28.482Z"
   },
   {
    "duration": 24,
    "start_time": "2022-12-24T18:07:28.501Z"
   },
   {
    "duration": 8,
    "start_time": "2022-12-24T18:07:28.528Z"
   },
   {
    "duration": 12,
    "start_time": "2022-12-24T18:07:28.538Z"
   },
   {
    "duration": 1783,
    "start_time": "2022-12-24T18:07:28.552Z"
   },
   {
    "duration": 74116,
    "start_time": "2022-12-24T18:07:30.337Z"
   },
   {
    "duration": 3,
    "start_time": "2022-12-24T18:08:44.455Z"
   },
   {
    "duration": 69,
    "start_time": "2022-12-24T18:08:44.460Z"
   },
   {
    "duration": 3,
    "start_time": "2022-12-24T18:08:44.531Z"
   },
   {
    "duration": 12,
    "start_time": "2022-12-24T18:08:44.536Z"
   },
   {
    "duration": 4776,
    "start_time": "2022-12-24T18:08:44.550Z"
   },
   {
    "duration": 1214,
    "start_time": "2022-12-24T18:08:49.328Z"
   },
   {
    "duration": 3,
    "start_time": "2022-12-24T18:08:50.544Z"
   },
   {
    "duration": 44,
    "start_time": "2022-12-24T18:08:50.549Z"
   },
   {
    "duration": 1551920,
    "start_time": "2022-12-24T18:08:50.595Z"
   },
   {
    "duration": 4,
    "start_time": "2022-12-24T18:34:42.517Z"
   },
   {
    "duration": 29300,
    "start_time": "2022-12-24T18:34:42.523Z"
   },
   {
    "duration": 88,
    "start_time": "2022-12-24T18:35:11.825Z"
   },
   {
    "duration": 9,
    "start_time": "2022-12-24T18:35:11.915Z"
   },
   {
    "duration": 4,
    "start_time": "2022-12-24T18:35:11.925Z"
   },
   {
    "duration": 5,
    "start_time": "2022-12-24T18:35:11.931Z"
   },
   {
    "duration": 5,
    "start_time": "2022-12-24T18:35:11.938Z"
   },
   {
    "duration": 121720,
    "start_time": "2022-12-24T18:35:11.945Z"
   },
   {
    "duration": 3,
    "start_time": "2022-12-24T18:37:13.667Z"
   },
   {
    "duration": 56045,
    "start_time": "2022-12-24T18:37:13.671Z"
   },
   {
    "duration": 4,
    "start_time": "2022-12-24T18:38:09.718Z"
   },
   {
    "duration": 91,
    "start_time": "2022-12-24T18:38:09.726Z"
   },
   {
    "duration": 25,
    "start_time": "2022-12-24T18:38:09.819Z"
   },
   {
    "duration": 15,
    "start_time": "2022-12-24T18:38:09.845Z"
   },
   {
    "duration": 9,
    "start_time": "2022-12-24T18:38:09.862Z"
   },
   {
    "duration": 6,
    "start_time": "2022-12-24T18:38:09.872Z"
   },
   {
    "duration": 4,
    "start_time": "2022-12-24T18:38:09.879Z"
   },
   {
    "duration": 4,
    "start_time": "2022-12-24T18:38:09.885Z"
   },
   {
    "duration": 5,
    "start_time": "2022-12-24T18:38:09.890Z"
   },
   {
    "duration": 5,
    "start_time": "2022-12-24T18:38:09.897Z"
   },
   {
    "duration": 4,
    "start_time": "2022-12-24T18:38:09.904Z"
   },
   {
    "duration": 5,
    "start_time": "2022-12-24T18:38:09.910Z"
   },
   {
    "duration": 6,
    "start_time": "2022-12-24T18:38:09.916Z"
   },
   {
    "duration": 6,
    "start_time": "2022-12-24T18:38:09.923Z"
   },
   {
    "duration": 46,
    "start_time": "2022-12-25T18:28:23.591Z"
   },
   {
    "duration": 44,
    "start_time": "2022-12-25T19:13:10.708Z"
   },
   {
    "duration": 2037,
    "start_time": "2022-12-25T19:13:21.242Z"
   },
   {
    "duration": 2235,
    "start_time": "2022-12-25T19:13:23.282Z"
   },
   {
    "duration": 31,
    "start_time": "2022-12-25T19:13:25.519Z"
   },
   {
    "duration": 6,
    "start_time": "2022-12-25T19:13:25.552Z"
   },
   {
    "duration": 13,
    "start_time": "2022-12-25T19:13:25.560Z"
   },
   {
    "duration": 205,
    "start_time": "2022-12-25T19:13:25.574Z"
   },
   {
    "duration": 3,
    "start_time": "2022-12-25T19:13:25.781Z"
   },
   {
    "duration": 15,
    "start_time": "2022-12-25T19:13:25.785Z"
   },
   {
    "duration": 12,
    "start_time": "2022-12-25T19:13:25.802Z"
   },
   {
    "duration": 5,
    "start_time": "2022-12-25T19:13:25.816Z"
   },
   {
    "duration": 5,
    "start_time": "2022-12-25T19:13:25.823Z"
   },
   {
    "duration": 20,
    "start_time": "2022-12-25T19:13:25.829Z"
   },
   {
    "duration": 1997,
    "start_time": "2022-12-25T19:14:29.459Z"
   },
   {
    "duration": 778,
    "start_time": "2022-12-25T19:14:31.458Z"
   },
   {
    "duration": 32,
    "start_time": "2022-12-25T19:14:32.237Z"
   },
   {
    "duration": 28,
    "start_time": "2022-12-25T19:14:32.271Z"
   },
   {
    "duration": 15,
    "start_time": "2022-12-25T19:14:32.301Z"
   },
   {
    "duration": 200,
    "start_time": "2022-12-25T19:14:32.317Z"
   },
   {
    "duration": 4,
    "start_time": "2022-12-25T19:14:32.519Z"
   },
   {
    "duration": 8,
    "start_time": "2022-12-25T19:14:32.525Z"
   },
   {
    "duration": 14,
    "start_time": "2022-12-25T19:14:32.535Z"
   },
   {
    "duration": 13,
    "start_time": "2022-12-25T19:14:32.552Z"
   },
   {
    "duration": 32,
    "start_time": "2022-12-25T19:14:32.566Z"
   },
   {
    "duration": 8,
    "start_time": "2022-12-25T19:14:32.600Z"
   },
   {
    "duration": 13,
    "start_time": "2022-12-25T19:14:32.609Z"
   },
   {
    "duration": 79072,
    "start_time": "2022-12-25T19:14:32.624Z"
   },
   {
    "duration": 3,
    "start_time": "2022-12-25T19:15:51.698Z"
   },
   {
    "duration": 62,
    "start_time": "2022-12-25T19:15:51.702Z"
   },
   {
    "duration": 4,
    "start_time": "2022-12-25T19:15:51.765Z"
   },
   {
    "duration": 28,
    "start_time": "2022-12-25T19:15:51.770Z"
   },
   {
    "duration": 5146,
    "start_time": "2022-12-25T19:15:51.799Z"
   },
   {
    "duration": 1260,
    "start_time": "2022-12-25T19:15:56.947Z"
   },
   {
    "duration": 3,
    "start_time": "2022-12-25T19:15:58.209Z"
   },
   {
    "duration": 8,
    "start_time": "2022-12-25T19:15:58.214Z"
   },
   {
    "duration": 1998,
    "start_time": "2022-12-25T19:16:04.657Z"
   },
   {
    "duration": 776,
    "start_time": "2022-12-25T19:16:06.657Z"
   },
   {
    "duration": 29,
    "start_time": "2022-12-25T19:16:07.435Z"
   },
   {
    "duration": 6,
    "start_time": "2022-12-25T19:16:07.466Z"
   },
   {
    "duration": 32,
    "start_time": "2022-12-25T19:16:07.473Z"
   },
   {
    "duration": 200,
    "start_time": "2022-12-25T19:16:07.507Z"
   },
   {
    "duration": 4,
    "start_time": "2022-12-25T19:16:07.708Z"
   },
   {
    "duration": 30,
    "start_time": "2022-12-25T19:16:07.713Z"
   },
   {
    "duration": 17,
    "start_time": "2022-12-25T19:16:07.745Z"
   },
   {
    "duration": 4,
    "start_time": "2022-12-25T19:16:07.765Z"
   },
   {
    "duration": 26,
    "start_time": "2022-12-25T19:16:07.771Z"
   },
   {
    "duration": 5,
    "start_time": "2022-12-25T19:16:07.798Z"
   },
   {
    "duration": 140,
    "start_time": "2022-12-25T19:16:07.805Z"
   },
   {
    "duration": 0,
    "start_time": "2022-12-25T19:16:07.947Z"
   },
   {
    "duration": 0,
    "start_time": "2022-12-25T19:16:07.948Z"
   },
   {
    "duration": 0,
    "start_time": "2022-12-25T19:16:07.950Z"
   },
   {
    "duration": 0,
    "start_time": "2022-12-25T19:16:07.951Z"
   },
   {
    "duration": 0,
    "start_time": "2022-12-25T19:16:07.952Z"
   },
   {
    "duration": 0,
    "start_time": "2022-12-25T19:16:07.953Z"
   },
   {
    "duration": 0,
    "start_time": "2022-12-25T19:16:07.955Z"
   },
   {
    "duration": 0,
    "start_time": "2022-12-25T19:16:07.956Z"
   },
   {
    "duration": 0,
    "start_time": "2022-12-25T19:16:07.957Z"
   },
   {
    "duration": 0,
    "start_time": "2022-12-25T19:16:07.958Z"
   },
   {
    "duration": 0,
    "start_time": "2022-12-25T19:16:07.959Z"
   },
   {
    "duration": 0,
    "start_time": "2022-12-25T19:16:07.960Z"
   },
   {
    "duration": 0,
    "start_time": "2022-12-25T19:16:07.961Z"
   },
   {
    "duration": 0,
    "start_time": "2022-12-25T19:16:07.962Z"
   },
   {
    "duration": 0,
    "start_time": "2022-12-25T19:16:07.963Z"
   },
   {
    "duration": 0,
    "start_time": "2022-12-25T19:16:07.996Z"
   },
   {
    "duration": 0,
    "start_time": "2022-12-25T19:16:07.998Z"
   },
   {
    "duration": 0,
    "start_time": "2022-12-25T19:16:07.999Z"
   },
   {
    "duration": 0,
    "start_time": "2022-12-25T19:16:08.000Z"
   },
   {
    "duration": 0,
    "start_time": "2022-12-25T19:16:08.001Z"
   },
   {
    "duration": 0,
    "start_time": "2022-12-25T19:16:08.002Z"
   },
   {
    "duration": 2052,
    "start_time": "2022-12-25T19:16:44.384Z"
   },
   {
    "duration": 758,
    "start_time": "2022-12-25T19:16:46.438Z"
   },
   {
    "duration": 33,
    "start_time": "2022-12-25T19:16:47.199Z"
   },
   {
    "duration": 6,
    "start_time": "2022-12-25T19:16:47.234Z"
   },
   {
    "duration": 12,
    "start_time": "2022-12-25T19:16:47.242Z"
   },
   {
    "duration": 224,
    "start_time": "2022-12-25T19:16:47.255Z"
   },
   {
    "duration": 4,
    "start_time": "2022-12-25T19:16:47.481Z"
   },
   {
    "duration": 15,
    "start_time": "2022-12-25T19:16:47.486Z"
   },
   {
    "duration": 12,
    "start_time": "2022-12-25T19:16:47.502Z"
   },
   {
    "duration": 7,
    "start_time": "2022-12-25T19:16:47.517Z"
   },
   {
    "duration": 12,
    "start_time": "2022-12-25T19:16:47.525Z"
   },
   {
    "duration": 7,
    "start_time": "2022-12-25T19:16:47.538Z"
   },
   {
    "duration": 51,
    "start_time": "2022-12-25T19:16:47.546Z"
   },
   {
    "duration": 1953,
    "start_time": "2022-12-25T19:17:34.787Z"
   },
   {
    "duration": 765,
    "start_time": "2022-12-25T19:17:36.742Z"
   },
   {
    "duration": 30,
    "start_time": "2022-12-25T19:17:37.509Z"
   },
   {
    "duration": 5,
    "start_time": "2022-12-25T19:17:37.541Z"
   },
   {
    "duration": 13,
    "start_time": "2022-12-25T19:17:37.547Z"
   },
   {
    "duration": 240,
    "start_time": "2022-12-25T19:17:37.561Z"
   },
   {
    "duration": 4,
    "start_time": "2022-12-25T19:17:37.803Z"
   },
   {
    "duration": 13,
    "start_time": "2022-12-25T19:17:37.809Z"
   },
   {
    "duration": 24,
    "start_time": "2022-12-25T19:17:37.824Z"
   },
   {
    "duration": 5,
    "start_time": "2022-12-25T19:17:37.850Z"
   },
   {
    "duration": 41,
    "start_time": "2022-12-25T19:17:37.857Z"
   },
   {
    "duration": 14,
    "start_time": "2022-12-25T19:17:37.900Z"
   },
   {
    "duration": 160,
    "start_time": "2022-12-25T19:17:37.915Z"
   },
   {
    "duration": 0,
    "start_time": "2022-12-25T19:17:38.077Z"
   },
   {
    "duration": 0,
    "start_time": "2022-12-25T19:17:38.079Z"
   },
   {
    "duration": 0,
    "start_time": "2022-12-25T19:17:38.080Z"
   },
   {
    "duration": 0,
    "start_time": "2022-12-25T19:17:38.081Z"
   },
   {
    "duration": 0,
    "start_time": "2022-12-25T19:17:38.083Z"
   },
   {
    "duration": 0,
    "start_time": "2022-12-25T19:17:38.097Z"
   },
   {
    "duration": 0,
    "start_time": "2022-12-25T19:17:38.098Z"
   },
   {
    "duration": 0,
    "start_time": "2022-12-25T19:17:38.099Z"
   },
   {
    "duration": 0,
    "start_time": "2022-12-25T19:17:38.100Z"
   },
   {
    "duration": 0,
    "start_time": "2022-12-25T19:17:38.101Z"
   },
   {
    "duration": 0,
    "start_time": "2022-12-25T19:17:38.102Z"
   },
   {
    "duration": 0,
    "start_time": "2022-12-25T19:17:38.103Z"
   },
   {
    "duration": 0,
    "start_time": "2022-12-25T19:17:38.104Z"
   },
   {
    "duration": 0,
    "start_time": "2022-12-25T19:17:38.105Z"
   },
   {
    "duration": 0,
    "start_time": "2022-12-25T19:17:38.106Z"
   },
   {
    "duration": 0,
    "start_time": "2022-12-25T19:17:38.107Z"
   },
   {
    "duration": 0,
    "start_time": "2022-12-25T19:17:38.108Z"
   },
   {
    "duration": 0,
    "start_time": "2022-12-25T19:17:38.109Z"
   },
   {
    "duration": 0,
    "start_time": "2022-12-25T19:17:38.110Z"
   },
   {
    "duration": 0,
    "start_time": "2022-12-25T19:17:38.111Z"
   },
   {
    "duration": 0,
    "start_time": "2022-12-25T19:17:38.112Z"
   },
   {
    "duration": 15,
    "start_time": "2022-12-25T19:19:15.426Z"
   },
   {
    "duration": 2017,
    "start_time": "2022-12-25T19:19:25.191Z"
   },
   {
    "duration": 773,
    "start_time": "2022-12-25T19:19:27.210Z"
   },
   {
    "duration": 37,
    "start_time": "2022-12-25T19:19:27.985Z"
   },
   {
    "duration": 14,
    "start_time": "2022-12-25T19:19:28.024Z"
   },
   {
    "duration": 23,
    "start_time": "2022-12-25T19:19:28.041Z"
   },
   {
    "duration": 226,
    "start_time": "2022-12-25T19:19:28.066Z"
   },
   {
    "duration": 4,
    "start_time": "2022-12-25T19:19:28.297Z"
   },
   {
    "duration": 8,
    "start_time": "2022-12-25T19:19:28.303Z"
   },
   {
    "duration": 13,
    "start_time": "2022-12-25T19:19:28.313Z"
   },
   {
    "duration": 4,
    "start_time": "2022-12-25T19:19:28.329Z"
   },
   {
    "duration": 5,
    "start_time": "2022-12-25T19:19:28.336Z"
   },
   {
    "duration": 6,
    "start_time": "2022-12-25T19:19:28.343Z"
   },
   {
    "duration": 169,
    "start_time": "2022-12-25T19:19:28.398Z"
   },
   {
    "duration": 0,
    "start_time": "2022-12-25T19:19:28.570Z"
   },
   {
    "duration": 0,
    "start_time": "2022-12-25T19:19:28.571Z"
   },
   {
    "duration": 0,
    "start_time": "2022-12-25T19:19:28.572Z"
   },
   {
    "duration": 0,
    "start_time": "2022-12-25T19:19:28.574Z"
   },
   {
    "duration": 1,
    "start_time": "2022-12-25T19:19:28.574Z"
   },
   {
    "duration": 0,
    "start_time": "2022-12-25T19:19:28.576Z"
   },
   {
    "duration": 0,
    "start_time": "2022-12-25T19:19:28.597Z"
   },
   {
    "duration": 0,
    "start_time": "2022-12-25T19:19:28.599Z"
   },
   {
    "duration": 0,
    "start_time": "2022-12-25T19:19:28.599Z"
   },
   {
    "duration": 0,
    "start_time": "2022-12-25T19:19:28.601Z"
   },
   {
    "duration": 0,
    "start_time": "2022-12-25T19:19:28.602Z"
   },
   {
    "duration": 0,
    "start_time": "2022-12-25T19:19:28.604Z"
   },
   {
    "duration": 0,
    "start_time": "2022-12-25T19:19:28.605Z"
   },
   {
    "duration": 0,
    "start_time": "2022-12-25T19:19:28.607Z"
   },
   {
    "duration": 0,
    "start_time": "2022-12-25T19:19:28.608Z"
   },
   {
    "duration": 0,
    "start_time": "2022-12-25T19:19:28.609Z"
   },
   {
    "duration": 0,
    "start_time": "2022-12-25T19:19:28.611Z"
   },
   {
    "duration": 0,
    "start_time": "2022-12-25T19:19:28.612Z"
   },
   {
    "duration": 0,
    "start_time": "2022-12-25T19:19:28.613Z"
   },
   {
    "duration": 0,
    "start_time": "2022-12-25T19:19:28.614Z"
   },
   {
    "duration": 0,
    "start_time": "2022-12-25T19:19:28.615Z"
   },
   {
    "duration": 1877,
    "start_time": "2022-12-25T19:21:48.190Z"
   },
   {
    "duration": 710,
    "start_time": "2022-12-25T19:21:50.070Z"
   },
   {
    "duration": 34,
    "start_time": "2022-12-25T19:21:50.781Z"
   },
   {
    "duration": 8,
    "start_time": "2022-12-25T19:21:50.818Z"
   },
   {
    "duration": 15,
    "start_time": "2022-12-25T19:21:50.828Z"
   },
   {
    "duration": 230,
    "start_time": "2022-12-25T19:21:50.845Z"
   },
   {
    "duration": 4,
    "start_time": "2022-12-25T19:21:51.077Z"
   },
   {
    "duration": 17,
    "start_time": "2022-12-25T19:21:51.082Z"
   },
   {
    "duration": 13,
    "start_time": "2022-12-25T19:21:51.101Z"
   },
   {
    "duration": 7,
    "start_time": "2022-12-25T19:21:51.117Z"
   },
   {
    "duration": 8,
    "start_time": "2022-12-25T19:21:51.125Z"
   },
   {
    "duration": 7,
    "start_time": "2022-12-25T19:21:51.135Z"
   },
   {
    "duration": 166,
    "start_time": "2022-12-25T19:21:51.143Z"
   },
   {
    "duration": 0,
    "start_time": "2022-12-25T19:21:51.311Z"
   },
   {
    "duration": 0,
    "start_time": "2022-12-25T19:21:51.312Z"
   },
   {
    "duration": 0,
    "start_time": "2022-12-25T19:21:51.313Z"
   },
   {
    "duration": 0,
    "start_time": "2022-12-25T19:21:51.314Z"
   },
   {
    "duration": 0,
    "start_time": "2022-12-25T19:21:51.315Z"
   },
   {
    "duration": 0,
    "start_time": "2022-12-25T19:21:51.316Z"
   },
   {
    "duration": 0,
    "start_time": "2022-12-25T19:21:51.317Z"
   },
   {
    "duration": 0,
    "start_time": "2022-12-25T19:21:51.318Z"
   },
   {
    "duration": 0,
    "start_time": "2022-12-25T19:21:51.319Z"
   },
   {
    "duration": 0,
    "start_time": "2022-12-25T19:21:51.320Z"
   },
   {
    "duration": 0,
    "start_time": "2022-12-25T19:21:51.322Z"
   },
   {
    "duration": 0,
    "start_time": "2022-12-25T19:21:51.322Z"
   },
   {
    "duration": 0,
    "start_time": "2022-12-25T19:21:51.323Z"
   },
   {
    "duration": 0,
    "start_time": "2022-12-25T19:21:51.324Z"
   },
   {
    "duration": 0,
    "start_time": "2022-12-25T19:21:51.326Z"
   },
   {
    "duration": 0,
    "start_time": "2022-12-25T19:21:51.326Z"
   },
   {
    "duration": 0,
    "start_time": "2022-12-25T19:21:51.327Z"
   },
   {
    "duration": 0,
    "start_time": "2022-12-25T19:21:51.328Z"
   },
   {
    "duration": 0,
    "start_time": "2022-12-25T19:21:51.329Z"
   },
   {
    "duration": 0,
    "start_time": "2022-12-25T19:21:51.330Z"
   },
   {
    "duration": 0,
    "start_time": "2022-12-25T19:21:51.332Z"
   },
   {
    "duration": 1885,
    "start_time": "2022-12-25T19:23:12.198Z"
   },
   {
    "duration": 712,
    "start_time": "2022-12-25T19:23:14.086Z"
   },
   {
    "duration": 31,
    "start_time": "2022-12-25T19:23:14.799Z"
   },
   {
    "duration": 8,
    "start_time": "2022-12-25T19:23:14.832Z"
   },
   {
    "duration": 59,
    "start_time": "2022-12-25T19:23:14.843Z"
   },
   {
    "duration": 203,
    "start_time": "2022-12-25T19:23:14.904Z"
   },
   {
    "duration": 5,
    "start_time": "2022-12-25T19:23:15.109Z"
   },
   {
    "duration": 10,
    "start_time": "2022-12-25T19:23:15.116Z"
   },
   {
    "duration": 21,
    "start_time": "2022-12-25T19:23:15.127Z"
   },
   {
    "duration": 48,
    "start_time": "2022-12-25T19:23:15.150Z"
   },
   {
    "duration": 5,
    "start_time": "2022-12-25T19:23:15.201Z"
   },
   {
    "duration": 5,
    "start_time": "2022-12-25T19:23:15.208Z"
   },
   {
    "duration": 7,
    "start_time": "2022-12-25T19:23:15.215Z"
   },
   {
    "duration": 1954,
    "start_time": "2022-12-25T19:24:07.602Z"
   },
   {
    "duration": 761,
    "start_time": "2022-12-25T19:24:09.561Z"
   },
   {
    "duration": 37,
    "start_time": "2022-12-25T19:24:10.325Z"
   },
   {
    "duration": 6,
    "start_time": "2022-12-25T19:24:10.363Z"
   },
   {
    "duration": 35,
    "start_time": "2022-12-25T19:24:10.371Z"
   },
   {
    "duration": 233,
    "start_time": "2022-12-25T19:24:10.409Z"
   },
   {
    "duration": 5,
    "start_time": "2022-12-25T19:24:10.644Z"
   },
   {
    "duration": 13,
    "start_time": "2022-12-25T19:24:10.651Z"
   },
   {
    "duration": 38,
    "start_time": "2022-12-25T19:24:10.667Z"
   },
   {
    "duration": 6,
    "start_time": "2022-12-25T19:24:10.707Z"
   },
   {
    "duration": 7,
    "start_time": "2022-12-25T19:24:10.715Z"
   },
   {
    "duration": 15,
    "start_time": "2022-12-25T19:24:10.724Z"
   },
   {
    "duration": 80955,
    "start_time": "2022-12-25T19:24:10.741Z"
   },
   {
    "duration": 4,
    "start_time": "2022-12-25T19:25:31.698Z"
   },
   {
    "duration": 80,
    "start_time": "2022-12-25T19:25:31.703Z"
   },
   {
    "duration": 4,
    "start_time": "2022-12-25T19:25:31.785Z"
   },
   {
    "duration": 5,
    "start_time": "2022-12-25T19:25:31.797Z"
   },
   {
    "duration": 5159,
    "start_time": "2022-12-25T19:25:31.804Z"
   },
   {
    "duration": 1248,
    "start_time": "2022-12-25T19:25:36.965Z"
   },
   {
    "duration": 3,
    "start_time": "2022-12-25T19:25:38.215Z"
   },
   {
    "duration": 25,
    "start_time": "2022-12-25T19:25:38.220Z"
   },
   {
    "duration": 1796,
    "start_time": "2022-12-25T19:26:56.136Z"
   },
   {
    "duration": 768,
    "start_time": "2022-12-25T19:26:57.934Z"
   },
   {
    "duration": 31,
    "start_time": "2022-12-25T19:26:58.703Z"
   },
   {
    "duration": 8,
    "start_time": "2022-12-25T19:26:58.737Z"
   },
   {
    "duration": 51,
    "start_time": "2022-12-25T19:26:58.747Z"
   },
   {
    "duration": 184,
    "start_time": "2022-12-25T19:26:58.799Z"
   },
   {
    "duration": 12,
    "start_time": "2022-12-25T19:26:58.985Z"
   },
   {
    "duration": 8,
    "start_time": "2022-12-25T19:26:58.999Z"
   },
   {
    "duration": 12,
    "start_time": "2022-12-25T19:26:59.008Z"
   },
   {
    "duration": 4,
    "start_time": "2022-12-25T19:26:59.023Z"
   },
   {
    "duration": 6,
    "start_time": "2022-12-25T19:26:59.028Z"
   },
   {
    "duration": 7,
    "start_time": "2022-12-25T19:26:59.035Z"
   },
   {
    "duration": 79009,
    "start_time": "2022-12-25T19:26:59.043Z"
   },
   {
    "duration": 3,
    "start_time": "2022-12-25T19:28:18.053Z"
   },
   {
    "duration": 68,
    "start_time": "2022-12-25T19:28:18.058Z"
   },
   {
    "duration": 3,
    "start_time": "2022-12-25T19:28:18.129Z"
   },
   {
    "duration": 5,
    "start_time": "2022-12-25T19:28:18.134Z"
   },
   {
    "duration": 5233,
    "start_time": "2022-12-25T19:28:18.141Z"
   },
   {
    "duration": 1290,
    "start_time": "2022-12-25T19:28:23.375Z"
   },
   {
    "duration": 3,
    "start_time": "2022-12-25T19:28:24.667Z"
   },
   {
    "duration": 24,
    "start_time": "2022-12-25T19:28:24.672Z"
   },
   {
    "duration": 1798800,
    "start_time": "2022-12-25T19:28:24.698Z"
   },
   {
    "duration": 5,
    "start_time": "2022-12-25T19:58:23.500Z"
   },
   {
    "duration": 5,
    "start_time": "2022-12-25T19:58:23.597Z"
   },
   {
    "duration": 17,
    "start_time": "2022-12-25T19:58:23.604Z"
   },
   {
    "duration": 142,
    "start_time": "2022-12-25T19:58:23.623Z"
   },
   {
    "duration": 0,
    "start_time": "2022-12-25T19:58:23.766Z"
   },
   {
    "duration": 0,
    "start_time": "2022-12-25T19:58:23.767Z"
   },
   {
    "duration": 0,
    "start_time": "2022-12-25T19:58:23.769Z"
   },
   {
    "duration": 1,
    "start_time": "2022-12-25T19:58:23.770Z"
   },
   {
    "duration": 0,
    "start_time": "2022-12-25T19:58:23.772Z"
   },
   {
    "duration": 0,
    "start_time": "2022-12-25T19:58:23.773Z"
   },
   {
    "duration": 0,
    "start_time": "2022-12-25T19:58:23.774Z"
   },
   {
    "duration": 14,
    "start_time": "2022-12-25T20:03:05.968Z"
   },
   {
    "duration": 14,
    "start_time": "2022-12-25T20:03:54.344Z"
   },
   {
    "duration": 3,
    "start_time": "2022-12-25T20:04:20.354Z"
   },
   {
    "duration": 3,
    "start_time": "2022-12-25T20:04:44.593Z"
   },
   {
    "duration": 4,
    "start_time": "2022-12-25T20:04:50.408Z"
   },
   {
    "duration": 3,
    "start_time": "2022-12-25T20:04:54.682Z"
   },
   {
    "duration": 116667,
    "start_time": "2022-12-25T20:04:59.145Z"
   },
   {
    "duration": 5,
    "start_time": "2022-12-25T20:07:14.729Z"
   },
   {
    "duration": 80,
    "start_time": "2022-12-25T20:07:21.170Z"
   },
   {
    "duration": 68647,
    "start_time": "2022-12-25T20:07:34.554Z"
   },
   {
    "duration": 3,
    "start_time": "2022-12-25T20:08:55.428Z"
   }
  ],
  "kernelspec": {
   "display_name": "Python 3 (ipykernel)",
   "language": "python",
   "name": "python3"
  },
  "language_info": {
   "codemirror_mode": {
    "name": "ipython",
    "version": 3
   },
   "file_extension": ".py",
   "mimetype": "text/x-python",
   "name": "python",
   "nbconvert_exporter": "python",
   "pygments_lexer": "ipython3",
   "version": "3.9.5"
  },
  "toc": {
   "base_numbering": 1,
   "nav_menu": {},
   "number_sections": true,
   "sideBar": true,
   "skip_h1_title": true,
   "title_cell": "Содержание",
   "title_sidebar": "Contents",
   "toc_cell": true,
   "toc_position": {
    "height": "calc(100% - 180px)",
    "left": "10px",
    "top": "150px",
    "width": "302.391px"
   },
   "toc_section_display": true,
   "toc_window_display": false
  }
 },
 "nbformat": 4,
 "nbformat_minor": 2
}

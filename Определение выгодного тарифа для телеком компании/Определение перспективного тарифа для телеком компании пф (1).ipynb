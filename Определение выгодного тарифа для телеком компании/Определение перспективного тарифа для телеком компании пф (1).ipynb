{
 "cells": [
  {
   "cell_type": "code",
   "execution_count": 1,
   "metadata": {
    "deletable": false,
    "id": "I6iDDDvQKyDG"
   },
   "outputs": [],
   "source": [
    "import pandas as pd\n",
    "import numpy as np\n",
    "from scipy import stats as st"
   ]
  },
  {
   "cell_type": "markdown",
   "metadata": {
    "deletable": false,
    "editable": false,
    "id": "xhLilmTDKyDL"
   },
   "source": [
    "### Откройте файл с данными и изучите общую информацию"
   ]
  },
  {
   "cell_type": "markdown",
   "metadata": {
    "deletable": false,
    "editable": false,
    "id": "Pkduo2j4KyDM",
    "tags": [
     "start_task"
    ]
   },
   "source": [
    "**Задание 1.** Откройте файл `/datasets/calls.csv`, сохраните датафрейм в переменную `calls`."
   ]
  },
  {
   "cell_type": "code",
   "execution_count": 2,
   "metadata": {
    "deletable": false,
    "id": "o7fJYWVIKyDM"
   },
   "outputs": [],
   "source": [
    "calls=pd.read_csv('/datasets/calls.csv')"
   ]
  },
  {
   "cell_type": "markdown",
   "metadata": {
    "deletable": false,
    "editable": false,
    "id": "lwrQoooGKyDN",
    "tags": [
     "start_task"
    ]
   },
   "source": [
    "**Задание 2.** Выведите первые 5 строк датафрейма `calls`."
   ]
  },
  {
   "cell_type": "code",
   "execution_count": 3,
   "metadata": {
    "deletable": false,
    "id": "u2XlYfJeKyDN"
   },
   "outputs": [
    {
     "name": "stdout",
     "output_type": "stream",
     "text": [
      "       id   call_date  duration  user_id\n",
      "0  1000_0  2018-07-25      0.00     1000\n",
      "1  1000_1  2018-08-17      0.00     1000\n",
      "2  1000_2  2018-06-11      2.85     1000\n",
      "3  1000_3  2018-09-21     13.80     1000\n",
      "4  1000_4  2018-12-15      5.18     1000\n"
     ]
    }
   ],
   "source": [
    "#display(calls.head())\n",
    "print(calls.head())"
   ]
  },
  {
   "cell_type": "markdown",
   "metadata": {
    "deletable": false,
    "editable": false,
    "id": "A3xpbsHKKyDN",
    "tags": [
     "start_task"
    ]
   },
   "source": [
    "**Задание 3.** Выведите основную информацию для датафрейма `calls` с помощью метода `info()`."
   ]
  },
  {
   "cell_type": "code",
   "execution_count": 4,
   "metadata": {
    "deletable": false,
    "id": "yXy_xs-FKyDO"
   },
   "outputs": [
    {
     "name": "stdout",
     "output_type": "stream",
     "text": [
      "<class 'pandas.core.frame.DataFrame'>\n",
      "RangeIndex: 202607 entries, 0 to 202606\n",
      "Data columns (total 4 columns):\n",
      " #   Column     Non-Null Count   Dtype  \n",
      "---  ------     --------------   -----  \n",
      " 0   id         202607 non-null  object \n",
      " 1   call_date  202607 non-null  object \n",
      " 2   duration   202607 non-null  float64\n",
      " 3   user_id    202607 non-null  int64  \n",
      "dtypes: float64(1), int64(1), object(2)\n",
      "memory usage: 6.2+ MB\n"
     ]
    }
   ],
   "source": [
    "calls.info()"
   ]
  },
  {
   "cell_type": "markdown",
   "metadata": {
    "deletable": false,
    "editable": false,
    "id": "KtjI09xUKyDO",
    "tags": [
     "start_task"
    ]
   },
   "source": [
    "**Задание 4.** С помощью метода `hist()` выведите гистограмму для столбца с продолжительностью звонков. Подумайте о том, как распределены данные."
   ]
  },
  {
   "cell_type": "code",
   "execution_count": 5,
   "metadata": {
    "deletable": false,
    "id": "S8bearjpKyDO"
   },
   "outputs": [
    {
     "data": {
      "text/plain": [
       "<AxesSubplot:>"
      ]
     },
     "execution_count": 5,
     "metadata": {},
     "output_type": "execute_result"
    },
    {
     "data": {
      "image/png": "[encoded data removed]",
      "text/plain": [
       "<Figure size 432x288 with 1 Axes>"
      ]
     },
     "metadata": {
      "needs_background": "light"
     },
     "output_type": "display_data"
    }
   ],
   "source": [
    "\n",
    "calls.duration.hist()"
   ]
  },
  {
   "cell_type": "markdown",
   "metadata": {
    "deletable": false,
    "editable": false,
    "id": "QGBLhAE4KyDO",
    "tags": [
     "start_task"
    ]
   },
   "source": [
    "**Задание 5.** Откройте файл `/datasets/internet.csv`, сохраните датафрейм в переменную `sessions`."
   ]
  },
  {
   "cell_type": "code",
   "execution_count": 6,
   "metadata": {
    "deletable": false,
    "id": "UOgA1VlRKyDP"
   },
   "outputs": [],
   "source": [
    "sessions=pd.read_csv('/datasets/internet.csv')"
   ]
  },
  {
   "cell_type": "markdown",
   "metadata": {
    "deletable": false,
    "editable": false,
    "id": "RdX3Fsz4KyDP",
    "tags": [
     "start_task"
    ]
   },
   "source": [
    "**Задание 6.** Выведите первые 5 строк датафрейма `sessions`."
   ]
  },
  {
   "cell_type": "code",
   "execution_count": 7,
   "metadata": {
    "deletable": false,
    "id": "GmfPmi-6KyDP"
   },
   "outputs": [
    {
     "name": "stdout",
     "output_type": "stream",
     "text": [
      "   Unnamed: 0      id  mb_used session_date  user_id\n",
      "0           0  1000_0   112.95   2018-11-25     1000\n",
      "1           1  1000_1  1052.81   2018-09-07     1000\n",
      "2           2  1000_2  1197.26   2018-06-25     1000\n",
      "3           3  1000_3   550.27   2018-08-22     1000\n",
      "4           4  1000_4   302.56   2018-09-24     1000\n"
     ]
    }
   ],
   "source": [
    "#display(sessions.head())\n",
    "print(sessions.head())"
   ]
  },
  {
   "cell_type": "markdown",
   "metadata": {
    "deletable": false,
    "editable": false,
    "id": "Zld7GYWGKyDP",
    "tags": [
     "start_task"
    ]
   },
   "source": [
    "**Задание 7.** Выведите основную информацию для датафрейма sessions с помощью метода `info()`. "
   ]
  },
  {
   "cell_type": "code",
   "execution_count": 8,
   "metadata": {
    "deletable": false,
    "id": "x6BhhWGmKyDQ"
   },
   "outputs": [
    {
     "name": "stdout",
     "output_type": "stream",
     "text": [
      "<class 'pandas.core.frame.DataFrame'>\n",
      "RangeIndex: 149396 entries, 0 to 149395\n",
      "Data columns (total 5 columns):\n",
      " #   Column        Non-Null Count   Dtype  \n",
      "---  ------        --------------   -----  \n",
      " 0   Unnamed: 0    149396 non-null  int64  \n",
      " 1   id            149396 non-null  object \n",
      " 2   mb_used       149396 non-null  float64\n",
      " 3   session_date  149396 non-null  object \n",
      " 4   user_id       149396 non-null  int64  \n",
      "dtypes: float64(1), int64(2), object(2)\n",
      "memory usage: 5.7+ MB\n"
     ]
    }
   ],
   "source": [
    "sessions.info()"
   ]
  },
  {
   "cell_type": "markdown",
   "metadata": {
    "deletable": false,
    "editable": false,
    "id": "bsDEVSRJKyDQ",
    "tags": [
     "start_task"
    ]
   },
   "source": [
    "**Задание 8.** С помощью метода `hist()` выведите гистограмму для столбца с количеством потраченных мегабайт."
   ]
  },
  {
   "cell_type": "code",
   "execution_count": 9,
   "metadata": {
    "deletable": false,
    "id": "b0fkn79xKyDQ"
   },
   "outputs": [
    {
     "data": {
      "text/plain": [
       "<AxesSubplot:>"
      ]
     },
     "execution_count": 9,
     "metadata": {},
     "output_type": "execute_result"
    },
    {
     "data": {
      "image/png": "[encoded data removed]",
      "text/plain": [
       "<Figure size 432x288 with 1 Axes>"
      ]
     },
     "metadata": {
      "needs_background": "light"
     },
     "output_type": "display_data"
    }
   ],
   "source": [
    "sessions.mb_used.hist()"
   ]
  },
  {
   "cell_type": "markdown",
   "metadata": {
    "deletable": false,
    "editable": false,
    "id": "YpiiymbQKyDQ",
    "tags": [
     "start_task"
    ]
   },
   "source": [
    "**Задание 9.** Откройте файл `/datasets/messages.csv`, сохраните датафрейм в переменную `messages`."
   ]
  },
  {
   "cell_type": "code",
   "execution_count": 10,
   "metadata": {
    "deletable": false,
    "id": "945IuYoxKyDR"
   },
   "outputs": [],
   "source": [
    "messages=pd.read_csv('/datasets/messages.csv')"
   ]
  },
  {
   "cell_type": "markdown",
   "metadata": {
    "deletable": false,
    "editable": false,
    "id": "7OEeR-igKyDR",
    "tags": [
     "start_task"
    ]
   },
   "source": [
    "**Задание 10.** Выведите первые 5 строк датафрейма `messages`."
   ]
  },
  {
   "cell_type": "code",
   "execution_count": 11,
   "metadata": {
    "deletable": false,
    "id": "-64TOS9OKyDR"
   },
   "outputs": [
    {
     "name": "stdout",
     "output_type": "stream",
     "text": [
      "       id message_date  user_id\n",
      "0  1000_0   2018-06-27     1000\n",
      "1  1000_1   2018-10-08     1000\n",
      "2  1000_2   2018-08-04     1000\n",
      "3  1000_3   2018-06-16     1000\n",
      "4  1000_4   2018-12-05     1000\n"
     ]
    }
   ],
   "source": [
    "#display(messages.head())\n",
    "print(messages.head())"
   ]
  },
  {
   "cell_type": "markdown",
   "metadata": {
    "deletable": false,
    "editable": false,
    "id": "QzxKbOrDKyDR",
    "tags": [
     "start_task"
    ]
   },
   "source": [
    "**Задание 11.** Выведите основную информацию для датафрейма `messages` с помощью метода `info()`. "
   ]
  },
  {
   "cell_type": "code",
   "execution_count": 12,
   "metadata": {
    "deletable": false,
    "id": "y_z7qlA6KyDS"
   },
   "outputs": [
    {
     "name": "stdout",
     "output_type": "stream",
     "text": [
      "<class 'pandas.core.frame.DataFrame'>\n",
      "RangeIndex: 123036 entries, 0 to 123035\n",
      "Data columns (total 3 columns):\n",
      " #   Column        Non-Null Count   Dtype \n",
      "---  ------        --------------   ----- \n",
      " 0   id            123036 non-null  object\n",
      " 1   message_date  123036 non-null  object\n",
      " 2   user_id       123036 non-null  int64 \n",
      "dtypes: int64(1), object(2)\n",
      "memory usage: 2.8+ MB\n"
     ]
    }
   ],
   "source": [
    "messages.info()"
   ]
  },
  {
   "cell_type": "markdown",
   "metadata": {
    "deletable": false,
    "editable": false,
    "id": "5d_JokdiKyDS",
    "tags": [
     "start_task"
    ]
   },
   "source": [
    "**Задание 12.** Откройте файл `/datasets/tariffs.csv`, сохраните датафрейм в переменную `tariffs`."
   ]
  },
  {
   "cell_type": "code",
   "execution_count": 13,
   "metadata": {
    "deletable": false,
    "id": "IZmLy1evKyDS"
   },
   "outputs": [],
   "source": [
    "tariffs=pd.read_csv('/datasets/tariffs.csv')"
   ]
  },
  {
   "cell_type": "markdown",
   "metadata": {
    "deletable": false,
    "editable": false,
    "id": "oyuafkXkKyDS",
    "tags": [
     "start_task"
    ]
   },
   "source": [
    "**Задание 13.** Выведите весь датафрейм `tariffs`."
   ]
  },
  {
   "cell_type": "code",
   "execution_count": 14,
   "metadata": {
    "deletable": false,
    "id": "cmRMXR0oKyDT"
   },
   "outputs": [
    {
     "name": "stdout",
     "output_type": "stream",
     "text": [
      "   messages_included  mb_per_month_included  minutes_included  \\\n",
      "0                 50                  15360               500   \n",
      "1               1000                  30720              3000   \n",
      "\n",
      "   rub_monthly_fee  rub_per_gb  rub_per_message  rub_per_minute tariff_name  \n",
      "0              550         200                3               3       smart  \n",
      "1             1950         150                1               1       ultra  \n"
     ]
    }
   ],
   "source": [
    "#display(tariffs)\n",
    "print(tariffs)"
   ]
  },
  {
   "cell_type": "markdown",
   "metadata": {
    "deletable": false,
    "editable": false,
    "id": "8eHbUTRnKyDT",
    "tags": [
     "start_task"
    ]
   },
   "source": [
    "**Задание 14.** Выведите основную информацию для датафрейма `tariffs` с помощью метода `info()`."
   ]
  },
  {
   "cell_type": "code",
   "execution_count": 15,
   "metadata": {
    "deletable": false,
    "id": "pFthDM3nKyDT"
   },
   "outputs": [
    {
     "name": "stdout",
     "output_type": "stream",
     "text": [
      "<class 'pandas.core.frame.DataFrame'>\n",
      "RangeIndex: 2 entries, 0 to 1\n",
      "Data columns (total 8 columns):\n",
      " #   Column                 Non-Null Count  Dtype \n",
      "---  ------                 --------------  ----- \n",
      " 0   messages_included      2 non-null      int64 \n",
      " 1   mb_per_month_included  2 non-null      int64 \n",
      " 2   minutes_included       2 non-null      int64 \n",
      " 3   rub_monthly_fee        2 non-null      int64 \n",
      " 4   rub_per_gb             2 non-null      int64 \n",
      " 5   rub_per_message        2 non-null      int64 \n",
      " 6   rub_per_minute         2 non-null      int64 \n",
      " 7   tariff_name            2 non-null      object\n",
      "dtypes: int64(7), object(1)\n",
      "memory usage: 256.0+ bytes\n"
     ]
    }
   ],
   "source": [
    "tariffs.info()"
   ]
  },
  {
   "cell_type": "markdown",
   "metadata": {
    "deletable": false,
    "editable": false,
    "id": "rKOTLNHCKyDU",
    "tags": [
     "start_task"
    ]
   },
   "source": [
    "**Задание 15.** Откройте файл `/datasets/users.csv`, сохраните датафрейм в переменную `users`."
   ]
  },
  {
   "cell_type": "code",
   "execution_count": 16,
   "metadata": {
    "deletable": false,
    "id": "R97W4n20KyDU"
   },
   "outputs": [],
   "source": [
    "users=pd.read_csv('/datasets/users.csv')"
   ]
  },
  {
   "cell_type": "markdown",
   "metadata": {
    "deletable": false,
    "editable": false,
    "id": "OClJvZ0LKyDU",
    "tags": [
     "start_task"
    ]
   },
   "source": [
    "**Задание 16.** Выведите первые 5 строк датафрейма `users`."
   ]
  },
  {
   "cell_type": "code",
   "execution_count": 17,
   "metadata": {
    "deletable": false,
    "id": "qcl2dcBMKyDV"
   },
   "outputs": [
    {
     "name": "stdout",
     "output_type": "stream",
     "text": [
      "   user_id  age churn_date         city first_name  last_name    reg_date  \\\n",
      "0     1000   52        NaN    Краснодар     Рафаил  Верещагин  2018-05-25   \n",
      "1     1001   41        NaN       Москва       Иван       Ежов  2018-11-01   \n",
      "2     1002   59        NaN  Стерлитамак    Евгений  Абрамович  2018-06-17   \n",
      "3     1003   23        NaN       Москва      Белла   Белякова  2018-08-17   \n",
      "4     1004   68        NaN  Новокузнецк    Татьяна   Авдеенко  2018-05-14   \n",
      "\n",
      "  tariff  \n",
      "0  ultra  \n",
      "1  smart  \n",
      "2  smart  \n",
      "3  ultra  \n",
      "4  ultra  \n"
     ]
    }
   ],
   "source": [
    "#display(users.head())\n",
    "print(users.head())\n"
   ]
  },
  {
   "cell_type": "markdown",
   "metadata": {
    "deletable": false,
    "editable": false,
    "id": "C_RrZ1_9KyDV",
    "tags": [
     "start_task"
    ]
   },
   "source": [
    "**Задание 17.** Выведите основную информацию для датафрейма `users` с помощью метода `info()`."
   ]
  },
  {
   "cell_type": "code",
   "execution_count": 18,
   "metadata": {
    "deletable": false,
    "id": "LWqNiDRIKyDW"
   },
   "outputs": [
    {
     "name": "stdout",
     "output_type": "stream",
     "text": [
      "<class 'pandas.core.frame.DataFrame'>\n",
      "RangeIndex: 500 entries, 0 to 499\n",
      "Data columns (total 8 columns):\n",
      " #   Column      Non-Null Count  Dtype \n",
      "---  ------      --------------  ----- \n",
      " 0   user_id     500 non-null    int64 \n",
      " 1   age         500 non-null    int64 \n",
      " 2   churn_date  38 non-null     object\n",
      " 3   city        500 non-null    object\n",
      " 4   first_name  500 non-null    object\n",
      " 5   last_name   500 non-null    object\n",
      " 6   reg_date    500 non-null    object\n",
      " 7   tariff      500 non-null    object\n",
      "dtypes: int64(2), object(6)\n",
      "memory usage: 31.4+ KB\n"
     ]
    }
   ],
   "source": [
    "users.info()"
   ]
  },
  {
   "cell_type": "markdown",
   "metadata": {
    "deletable": false,
    "editable": false,
    "id": "63Elje7DKyDW"
   },
   "source": [
    "### Подготовьте данные"
   ]
  },
  {
   "cell_type": "markdown",
   "metadata": {
    "deletable": false,
    "editable": false,
    "id": "c1K3vTLQKyDY",
    "tags": [
     "start_task"
    ]
   },
   "source": [
    "**Задание 18.**  Приведите столбцы\n",
    "\n",
    "- `reg_date` из таблицы `users`\n",
    "- `churn_date` из таблицы `users`\n",
    "- `call_date` из таблицы `calls`\n",
    "- `message_date` из таблицы `messages`\n",
    "- `session_date` из таблицы `sessions`\n",
    "\n",
    "к новому типу с помощью метода `to_datetime()`."
   ]
  },
  {
   "cell_type": "code",
   "execution_count": 19,
   "metadata": {
    "deletable": false,
    "id": "0WBPne2BKyDZ"
   },
   "outputs": [],
   "source": [
    "# обработка столбца reg_date\n",
    "users['reg_date']=pd.to_datetime(users['reg_date'])\n",
    "# обработка столбца churn_date\n",
    "users['churn_date']=pd.to_datetime(users['churn_date'])\n",
    "# обработка столбца call_date\n",
    "calls['call_date']=pd.to_datetime(calls['call_date'])\n",
    "# обработка столбца message_date\n",
    "messages['message_date']=pd.to_datetime(messages['message_date'])                                    \n",
    "# обработка столбца session_date\n",
    "sessions['session_date']=pd.to_datetime(sessions['session_date'])                                    "
   ]
  },
  {
   "cell_type": "markdown",
   "metadata": {
    "deletable": false,
    "editable": false,
    "id": "Dodx23h9KyDZ",
    "tags": [
     "start_task"
    ]
   },
   "source": [
    "**Задание 19.** В данных вы найдёте звонки с нулевой продолжительностью. Это не ошибка: нулями обозначены пропущенные звонки, поэтому их не нужно удалять.\n",
    "\n",
    "Однако в столбце `duration` датафрейма `calls` значения дробные. Округлите значения столбца `duration` вверх с помощью метода `numpy.ceil()` и приведите столбец `duration` к типу `int`."
   ]
  },
  {
   "cell_type": "code",
   "execution_count": 20,
   "metadata": {
    "deletable": false,
    "id": "8IoDSPJNKyDZ"
   },
   "outputs": [],
   "source": [
    "import numpy as np\n",
    "\n",
    "# округление значений столбца duration с помощью np.ceil() и приведение типа к int\n",
    "calls['duration']=np.ceil(calls['duration']).astype('int')"
   ]
  },
  {
   "cell_type": "markdown",
   "metadata": {
    "deletable": false,
    "editable": false,
    "id": "MtIO6mP_KyDa",
    "tags": [
     "start_task"
    ]
   },
   "source": [
    "**Задание 20.** Удалите столбец `Unnamed: 0` из датафрейма `sessions`. Столбец с таким названием возникает, когда данные сохраняют с указанием индекса (`df.to_csv(..., index=column)`). Он сейчас не понадобится."
   ]
  },
  {
   "cell_type": "code",
   "execution_count": 21,
   "metadata": {
    "deletable": false,
    "id": "k_kE8bl6KyDa"
   },
   "outputs": [],
   "source": [
    "sessions.drop(['Unnamed: 0'], axis=1, inplace=True) "
   ]
  },
  {
   "cell_type": "markdown",
   "metadata": {
    "deletable": false,
    "editable": false,
    "id": "1pKJKPkNKyDb",
    "tags": [
     "start_task"
    ]
   },
   "source": [
    "**Задание 21.** Создайте столбец `month` в датафрейме `calls` с номером месяца из столбца `call_date`."
   ]
  },
  {
   "cell_type": "code",
   "execution_count": 22,
   "metadata": {
    "deletable": false,
    "id": "ZzUWuXUeKyDb",
    "scrolled": true
   },
   "outputs": [],
   "source": [
    "calls['month'] = pd.to_datetime(calls['call_date']).dt.month"
   ]
  },
  {
   "cell_type": "markdown",
   "metadata": {
    "deletable": false,
    "editable": false,
    "id": "RifDYIPjKyDc",
    "tags": [
     "start_task"
    ]
   },
   "source": [
    "**Задание 22.** Создайте столбец `month` в датафрейме `messages` с номером месяца из столбца `message_date`."
   ]
  },
  {
   "cell_type": "code",
   "execution_count": 23,
   "metadata": {
    "deletable": false,
    "id": "UwaWpzgqKyDc"
   },
   "outputs": [],
   "source": [
    "messages['month'] = pd.to_datetime(messages['message_date']).dt.month"
   ]
  },
  {
   "cell_type": "markdown",
   "metadata": {
    "deletable": false,
    "editable": false,
    "id": "vHE47ZbbKyDc",
    "tags": [
     "start_task"
    ]
   },
   "source": [
    "**Задание 23.** Создайте столбец `month` в датафрейме `sessions` с номером месяца из столбца `session_date`."
   ]
  },
  {
   "cell_type": "code",
   "execution_count": 24,
   "metadata": {
    "deletable": false,
    "id": "WwIH_14gKyDd"
   },
   "outputs": [],
   "source": [
    "sessions['month'] = pd.to_datetime(sessions['session_date']).dt.month"
   ]
  },
  {
   "cell_type": "markdown",
   "metadata": {
    "deletable": false,
    "editable": false,
    "id": "gOieh-uzKyDd",
    "tags": [
     "start_task"
    ]
   },
   "source": [
    "**Задание 24.** Посчитайте количество сделанных звонков разговора для каждого пользователя по месяцам и сохраните в переменную `calls_per_month`."
   ]
  },
  {
   "cell_type": "code",
   "execution_count": 25,
   "metadata": {
    "deletable": false,
    "id": "DVz8VzseKyDd"
   },
   "outputs": [],
   "source": [
    "# подсчёт количества звонков для каждого пользователя по месяцам\n",
    "calls_per_month = calls.groupby(['user_id', 'month']).agg(calls=(\"duration\", \"count\"))\n",
    "#.reset_index()"
   ]
  },
  {
   "cell_type": "code",
   "execution_count": 26,
   "metadata": {
    "deletable": false,
    "id": "Yvladn_XKyDd",
    "scrolled": true
   },
   "outputs": [
    {
     "name": "stdout",
     "output_type": "stream",
     "text": [
      "               calls\n",
      "user_id month       \n",
      "1000    5         22\n",
      "        6         43\n",
      "        7         47\n",
      "        8         52\n",
      "        9         58\n",
      "        10        57\n",
      "        11        43\n",
      "        12        46\n",
      "1001    11        59\n",
      "        12        63\n",
      "1002    6         15\n",
      "        7         26\n",
      "        8         42\n",
      "        9         36\n",
      "        10        33\n",
      "        11        32\n",
      "        12        33\n",
      "1003    8         55\n",
      "        9        134\n",
      "        10       108\n",
      "        11       115\n",
      "        12       108\n",
      "1004    5          9\n",
      "        6         31\n",
      "        7         22\n",
      "        8         19\n",
      "        9         26\n",
      "        10        29\n",
      "        11        19\n",
      "        12        21\n"
     ]
    }
   ],
   "source": [
    "# вывод 30 первых строк на экран\n",
    "print(calls_per_month.head(30))"
   ]
  },
  {
   "cell_type": "markdown",
   "metadata": {
    "deletable": false,
    "editable": false,
    "id": "ImKw4Xt-KyDd",
    "tags": [
     "start_task"
    ]
   },
   "source": [
    "**Задание 25.** Посчитайте количество израсходованных минут разговора для каждого пользователя по месяцам и сохраните в переменную `minutes_per_month`. Вам понадобится\n",
    "\n",
    "- сгруппировать датафрейм с информацией о звонках по двум столбцам — с идентификаторами пользователей и номерами месяцев;\n",
    "- после группировки выбрать столбец `duration`\n",
    "- затем применить метод для подсчёта суммы.\n",
    "\n",
    "Выведите первые 30 строчек `minutes_per_month`."
   ]
  },
  {
   "cell_type": "code",
   "execution_count": 27,
   "metadata": {
    "deletable": false,
    "id": "fmI97ee9KyDe"
   },
   "outputs": [],
   "source": [
    "# подсчёт израсходованных минут для каждого пользователя по месяцам\n",
    "minutes_per_month = calls.groupby(['user_id', 'month']).agg(minutes=(\"duration\", \"sum\"))"
   ]
  },
  {
   "cell_type": "code",
   "execution_count": 28,
   "metadata": {
    "deletable": false,
    "id": "HpAv1X4KKyDe",
    "scrolled": true
   },
   "outputs": [
    {
     "name": "stdout",
     "output_type": "stream",
     "text": [
      "               minutes\n",
      "user_id month         \n",
      "1000    5          159\n",
      "        6          172\n",
      "        7          340\n",
      "        8          408\n",
      "        9          466\n",
      "        10         350\n",
      "        11         338\n",
      "        12         333\n",
      "1001    11         430\n",
      "        12         414\n",
      "1002    6          117\n",
      "        7          214\n",
      "        8          289\n",
      "        9          206\n",
      "        10         212\n",
      "        11         243\n",
      "        12         236\n",
      "1003    8          380\n",
      "        9          961\n",
      "        10         855\n",
      "        11         824\n",
      "        12         802\n",
      "1004    5           35\n",
      "        6          171\n",
      "        7          135\n",
      "        8          137\n",
      "        9          117\n",
      "        10         145\n",
      "        11         117\n",
      "        12         130\n"
     ]
    }
   ],
   "source": [
    "# вывод первых 30 строк на экран\n",
    "print(minutes_per_month.head(30))"
   ]
  },
  {
   "cell_type": "markdown",
   "metadata": {
    "deletable": false,
    "editable": false,
    "id": "aYIeUgpoKyDe",
    "tags": [
     "start_task"
    ]
   },
   "source": [
    "**Задание 26.** Посчитайте количество отправленных сообщений по месяцам для каждого пользователя и сохраните в переменную `messages_per_month`. Вам понадобится\n",
    "\n",
    "- сгруппировать датафрейм с информацией о сообщениях по двум столбцам — с идентификаторами пользователей и номерами месяцев;\n",
    "- после группировки выбрать столбец `message_date`;\n",
    "- затем применить метод для подсчёта количества.\n",
    "\n",
    "Выведите первые 30 строчек `messages_per_month`."
   ]
  },
  {
   "cell_type": "code",
   "execution_count": 29,
   "metadata": {
    "deletable": false,
    "id": "SxLKUZekKyDf"
   },
   "outputs": [],
   "source": [
    "# подсчёт количества отправленных сообщений для каждого пользователя по месяцам\n",
    "messages_per_month = messages.groupby(['user_id', 'month', ]).agg(messages=('message_date', 'count'))"
   ]
  },
  {
   "cell_type": "code",
   "execution_count": 30,
   "metadata": {
    "deletable": false,
    "id": "cVYnJcaUKyDf"
   },
   "outputs": [
    {
     "name": "stdout",
     "output_type": "stream",
     "text": [
      "               messages\n",
      "user_id month          \n",
      "1000    5            22\n",
      "        6            60\n",
      "        7            75\n",
      "        8            81\n",
      "        9            57\n",
      "        10           73\n",
      "        11           58\n",
      "        12           70\n",
      "1002    6             4\n",
      "        7            11\n",
      "        8            13\n",
      "        9             4\n",
      "        10           10\n",
      "        11           16\n",
      "        12           12\n",
      "1003    8            37\n",
      "        9            91\n",
      "        10           83\n",
      "        11           94\n",
      "        12           75\n",
      "1004    5            95\n",
      "        6           134\n",
      "        7           181\n",
      "        8           151\n",
      "        9           146\n",
      "        10          165\n",
      "        11          158\n",
      "        12          162\n",
      "1005    1             7\n",
      "        2            38\n"
     ]
    }
   ],
   "source": [
    "# вывод первых 30 строк на экран\n",
    "print(messages_per_month.head(30))"
   ]
  },
  {
   "cell_type": "markdown",
   "metadata": {
    "deletable": false,
    "editable": false,
    "id": "5rZs2SXPKyDg",
    "tags": [
     "start_task"
    ]
   },
   "source": [
    "**Задание 27.** Посчитайте количество потраченных мегабайт по месяцам для каждого пользователя и сохраните в переменную `sessions_per_month`. Вам понадобится\n",
    "\n",
    "- сгруппировать датафрейм с информацией о сообщениях по двум столбцам — с идентификаторами пользователей и номерами месяцев;\n",
    "- затем применить метод для подсчёта суммы: `.agg({'mb_used': 'sum'})`"
   ]
  },
  {
   "cell_type": "code",
   "execution_count": 31,
   "metadata": {
    "deletable": false,
    "id": "gC0vqY7bKyDg"
   },
   "outputs": [],
   "source": [
    "# подсчёт потраченных мегабайт для каждого пользователя по месяцам\n",
    "sessions_per_month = sessions.groupby(['user_id', 'month', ]).agg({'mb_used': 'sum'})"
   ]
  },
  {
   "cell_type": "code",
   "execution_count": 32,
   "metadata": {
    "deletable": false,
    "id": "aM0weCA4KyDg",
    "scrolled": false
   },
   "outputs": [
    {
     "name": "stdout",
     "output_type": "stream",
     "text": [
      "                mb_used\n",
      "user_id month          \n",
      "1000    5       2253.49\n",
      "        6      23233.77\n",
      "        7      14003.64\n",
      "        8      14055.93\n",
      "        9      14568.91\n",
      "        10     14702.49\n",
      "        11     14756.47\n",
      "        12      9817.61\n",
      "1001    11     18429.34\n",
      "        12     14036.66\n",
      "1002    6      10856.82\n",
      "        7      17580.10\n",
      "        8      20319.26\n",
      "        9      16691.08\n",
      "        10     13888.25\n",
      "        11     18587.28\n",
      "        12     18113.73\n",
      "1003    8       8565.21\n",
      "        9      12468.87\n",
      "        10     14768.14\n",
      "        11     11356.89\n",
      "        12     10121.53\n",
      "1004    5      13403.98\n",
      "        6      17600.02\n",
      "        7      22229.58\n",
      "        8      28584.37\n",
      "        9      15109.03\n",
      "        10     18475.44\n",
      "        11     15616.02\n",
      "        12     18021.04\n"
     ]
    }
   ],
   "source": [
    "# вывод первых 30 строк на экран\n",
    "print(sessions_per_month.head(30))"
   ]
  },
  {
   "cell_type": "markdown",
   "metadata": {
    "deletable": false,
    "editable": false,
    "id": "9lLpwDruKyDg"
   },
   "source": [
    "### Анализ данных и подсчёт выручки"
   ]
  },
  {
   "cell_type": "markdown",
   "metadata": {
    "deletable": false,
    "editable": false,
    "id": "b0aBCnWPKyDg"
   },
   "source": [
    "Объединяем все посчитанные выше значения в один датафрейм `user_behavior`.\n",
    "Для каждой пары \"пользователь - месяц\" будут доступны информация о тарифе, количестве звонков, сообщений и потраченных мегабайтах."
   ]
  },
  {
   "cell_type": "markdown",
   "metadata": {
    "deletable": false,
    "editable": false,
    "id": "VFbl-h7OKyDj"
   },
   "source": [
    "Расторгли договор 7.6% клиентов из датасета"
   ]
  },
  {
   "cell_type": "code",
   "execution_count": 33,
   "metadata": {
    "deletable": false,
    "id": "5_jRoJLQKyDi",
    "outputId": "75d7fba2-58ec-46d6-b9ae-bb3972eb2c15"
   },
   "outputs": [
    {
     "data": {
      "text/plain": [
       "7.6"
      ]
     },
     "execution_count": 33,
     "metadata": {},
     "output_type": "execute_result"
    }
   ],
   "source": [
    "users['churn_date'].count() / users['churn_date'].shape[0] * 100"
   ]
  },
  {
   "cell_type": "code",
   "execution_count": 34,
   "metadata": {
    "deletable": false,
    "id": "ZV6PirqeKyDj",
    "outputId": "820f9d37-142a-40ac-9baa-c9ccacadff1b"
   },
   "outputs": [
    {
     "data": {
      "text/html": [
       "<div>\n",
       "<style scoped>\n",
       "    .dataframe tbody tr th:only-of-type {\n",
       "        vertical-align: middle;\n",
       "    }\n",
       "\n",
       "    .dataframe tbody tr th {\n",
       "        vertical-align: top;\n",
       "    }\n",
       "\n",
       "    .dataframe thead th {\n",
       "        text-align: right;\n",
       "    }\n",
       "</style>\n",
       "<table border=\"1\" class=\"dataframe\">\n",
       "  <thead>\n",
       "    <tr style=\"text-align: right;\">\n",
       "      <th></th>\n",
       "      <th>user_id</th>\n",
       "      <th>month</th>\n",
       "      <th>calls</th>\n",
       "      <th>messages</th>\n",
       "      <th>mb_used</th>\n",
       "      <th>minutes</th>\n",
       "      <th>age</th>\n",
       "      <th>churn_date</th>\n",
       "      <th>city</th>\n",
       "      <th>first_name</th>\n",
       "      <th>last_name</th>\n",
       "      <th>reg_date</th>\n",
       "      <th>tariff</th>\n",
       "    </tr>\n",
       "  </thead>\n",
       "  <tbody>\n",
       "    <tr>\n",
       "      <th>0</th>\n",
       "      <td>1000</td>\n",
       "      <td>5</td>\n",
       "      <td>22.0</td>\n",
       "      <td>22.0</td>\n",
       "      <td>2253.49</td>\n",
       "      <td>159.0</td>\n",
       "      <td>52</td>\n",
       "      <td>NaT</td>\n",
       "      <td>Краснодар</td>\n",
       "      <td>Рафаил</td>\n",
       "      <td>Верещагин</td>\n",
       "      <td>2018-05-25</td>\n",
       "      <td>ultra</td>\n",
       "    </tr>\n",
       "    <tr>\n",
       "      <th>1</th>\n",
       "      <td>1000</td>\n",
       "      <td>6</td>\n",
       "      <td>43.0</td>\n",
       "      <td>60.0</td>\n",
       "      <td>23233.77</td>\n",
       "      <td>172.0</td>\n",
       "      <td>52</td>\n",
       "      <td>NaT</td>\n",
       "      <td>Краснодар</td>\n",
       "      <td>Рафаил</td>\n",
       "      <td>Верещагин</td>\n",
       "      <td>2018-05-25</td>\n",
       "      <td>ultra</td>\n",
       "    </tr>\n",
       "    <tr>\n",
       "      <th>2</th>\n",
       "      <td>1000</td>\n",
       "      <td>7</td>\n",
       "      <td>47.0</td>\n",
       "      <td>75.0</td>\n",
       "      <td>14003.64</td>\n",
       "      <td>340.0</td>\n",
       "      <td>52</td>\n",
       "      <td>NaT</td>\n",
       "      <td>Краснодар</td>\n",
       "      <td>Рафаил</td>\n",
       "      <td>Верещагин</td>\n",
       "      <td>2018-05-25</td>\n",
       "      <td>ultra</td>\n",
       "    </tr>\n",
       "    <tr>\n",
       "      <th>3</th>\n",
       "      <td>1000</td>\n",
       "      <td>8</td>\n",
       "      <td>52.0</td>\n",
       "      <td>81.0</td>\n",
       "      <td>14055.93</td>\n",
       "      <td>408.0</td>\n",
       "      <td>52</td>\n",
       "      <td>NaT</td>\n",
       "      <td>Краснодар</td>\n",
       "      <td>Рафаил</td>\n",
       "      <td>Верещагин</td>\n",
       "      <td>2018-05-25</td>\n",
       "      <td>ultra</td>\n",
       "    </tr>\n",
       "    <tr>\n",
       "      <th>4</th>\n",
       "      <td>1000</td>\n",
       "      <td>9</td>\n",
       "      <td>58.0</td>\n",
       "      <td>57.0</td>\n",
       "      <td>14568.91</td>\n",
       "      <td>466.0</td>\n",
       "      <td>52</td>\n",
       "      <td>NaT</td>\n",
       "      <td>Краснодар</td>\n",
       "      <td>Рафаил</td>\n",
       "      <td>Верещагин</td>\n",
       "      <td>2018-05-25</td>\n",
       "      <td>ultra</td>\n",
       "    </tr>\n",
       "  </tbody>\n",
       "</table>\n",
       "</div>"
      ],
      "text/plain": [
       "   user_id  month  calls  messages   mb_used  minutes  age churn_date  \\\n",
       "0     1000      5   22.0      22.0   2253.49    159.0   52        NaT   \n",
       "1     1000      6   43.0      60.0  23233.77    172.0   52        NaT   \n",
       "2     1000      7   47.0      75.0  14003.64    340.0   52        NaT   \n",
       "3     1000      8   52.0      81.0  14055.93    408.0   52        NaT   \n",
       "4     1000      9   58.0      57.0  14568.91    466.0   52        NaT   \n",
       "\n",
       "        city first_name  last_name   reg_date tariff  \n",
       "0  Краснодар     Рафаил  Верещагин 2018-05-25  ultra  \n",
       "1  Краснодар     Рафаил  Верещагин 2018-05-25  ultra  \n",
       "2  Краснодар     Рафаил  Верещагин 2018-05-25  ultra  \n",
       "3  Краснодар     Рафаил  Верещагин 2018-05-25  ultra  \n",
       "4  Краснодар     Рафаил  Верещагин 2018-05-25  ultra  "
      ]
     },
     "execution_count": 34,
     "metadata": {},
     "output_type": "execute_result"
    }
   ],
   "source": [
    "user_behavior = calls_per_month\\\n",
    "    .merge(messages_per_month, left_index=True, right_index=True, how='outer')\\\n",
    "    .merge(sessions_per_month, left_index=True, right_index=True, how='outer')\\\n",
    "    .merge(minutes_per_month, left_index=True, right_index=True, how='outer')\\\n",
    "    .reset_index()\\\n",
    "    .merge(users, how='left', left_on='user_id', right_on='user_id')\\\n",
    "#.reset_index()\\\n",
    "user_behavior.head()"
   ]
  },
  {
   "cell_type": "code",
   "execution_count": 35,
   "metadata": {
    "deletable": false,
    "id": "-PFVeJDdKyDk",
    "outputId": "15eeef94-c7dc-4624-95d1-9c45e574ea14"
   },
   "outputs": [
    {
     "data": {
      "text/plain": [
       "user_id          0\n",
       "month            0\n",
       "calls           40\n",
       "messages       497\n",
       "mb_used         11\n",
       "minutes         40\n",
       "age              0\n",
       "churn_date    3027\n",
       "city             0\n",
       "first_name       0\n",
       "last_name        0\n",
       "reg_date         0\n",
       "tariff           0\n",
       "dtype: int64"
      ]
     },
     "execution_count": 35,
     "metadata": {},
     "output_type": "execute_result"
    }
   ],
   "source": [
    "user_behavior.isna().sum()"
   ]
  },
  {
   "cell_type": "markdown",
   "metadata": {
    "deletable": false,
    "editable": false,
    "id": "_IQIL5IpKyDj"
   },
   "source": [
    "Проверим пропуски в таблице `user_behavior` после объединения:"
   ]
  },
  {
   "cell_type": "markdown",
   "metadata": {
    "deletable": false,
    "editable": false,
    "id": "TwUoKdmEKyDk"
   },
   "source": [
    "Заполним образовавшиеся пропуски в данных:"
   ]
  },
  {
   "cell_type": "code",
   "execution_count": 36,
   "metadata": {
    "deletable": false,
    "id": "R6ZhVdx_KyDk"
   },
   "outputs": [],
   "source": [
    "user_behavior['calls'] = user_behavior['calls'].fillna(0)\n",
    "user_behavior['minutes'] = user_behavior['minutes'].fillna(0)\n",
    "user_behavior['messages'] = user_behavior['messages'].fillna(0)\n",
    "user_behavior['mb_used'] = user_behavior['mb_used'].fillna(0)"
   ]
  },
  {
   "cell_type": "markdown",
   "metadata": {
    "deletable": false,
    "editable": false,
    "id": "DSFSc65AKyDl"
   },
   "source": [
    "Присоединяем информацию о тарифах"
   ]
  },
  {
   "cell_type": "code",
   "execution_count": 37,
   "metadata": {
    "deletable": false,
    "id": "t8zk5Y0wKyDl"
   },
   "outputs": [],
   "source": [
    "# переименование столбца tariff_name на более простое tariff\n",
    "\n",
    "tariffs = tariffs.rename(\n",
    "    columns={\n",
    "        'tariff_name': 'tariff'\n",
    "    }\n",
    ")"
   ]
  },
  {
   "cell_type": "code",
   "execution_count": 38,
   "metadata": {
    "deletable": false,
    "id": "gGZzbETxKyDl"
   },
   "outputs": [
    {
     "name": "stdout",
     "output_type": "stream",
     "text": [
      "      user_id  month  calls  messages   mb_used  minutes  age churn_date  \\\n",
      "0        1000      5   22.0      22.0   2253.49    159.0   52        NaT   \n",
      "1        1000      6   43.0      60.0  23233.77    172.0   52        NaT   \n",
      "2        1000      7   47.0      75.0  14003.64    340.0   52        NaT   \n",
      "3        1000      8   52.0      81.0  14055.93    408.0   52        NaT   \n",
      "4        1000      9   58.0      57.0  14568.91    466.0   52        NaT   \n",
      "...       ...    ...    ...       ...       ...      ...  ...        ...   \n",
      "3209     1498     10   41.0      42.0  20579.36    247.0   68 2018-10-25   \n",
      "3210     1499      9    9.0      11.0   1845.75     70.0   35        NaT   \n",
      "3211     1499     10   68.0      48.0  17788.51    449.0   35        NaT   \n",
      "3212     1499     11   74.0      59.0  17963.31    612.0   35        NaT   \n",
      "3213     1499     12   69.0      66.0  13055.58    492.0   35        NaT   \n",
      "\n",
      "             city first_name  last_name   reg_date tariff  messages_included  \\\n",
      "0       Краснодар     Рафаил  Верещагин 2018-05-25  ultra               1000   \n",
      "1       Краснодар     Рафаил  Верещагин 2018-05-25  ultra               1000   \n",
      "2       Краснодар     Рафаил  Верещагин 2018-05-25  ultra               1000   \n",
      "3       Краснодар     Рафаил  Верещагин 2018-05-25  ultra               1000   \n",
      "4       Краснодар     Рафаил  Верещагин 2018-05-25  ultra               1000   \n",
      "...           ...        ...        ...        ...    ...                ...   \n",
      "3209  Владикавказ   Всеволод    Акимчин 2018-07-19  smart                 50   \n",
      "3210        Пермь     Гектор   Корнилов 2018-09-27  smart                 50   \n",
      "3211        Пермь     Гектор   Корнилов 2018-09-27  smart                 50   \n",
      "3212        Пермь     Гектор   Корнилов 2018-09-27  smart                 50   \n",
      "3213        Пермь     Гектор   Корнилов 2018-09-27  smart                 50   \n",
      "\n",
      "      mb_per_month_included  minutes_included  rub_monthly_fee  rub_per_gb  \\\n",
      "0                     30720              3000             1950         150   \n",
      "1                     30720              3000             1950         150   \n",
      "2                     30720              3000             1950         150   \n",
      "3                     30720              3000             1950         150   \n",
      "4                     30720              3000             1950         150   \n",
      "...                     ...               ...              ...         ...   \n",
      "3209                  15360               500              550         200   \n",
      "3210                  15360               500              550         200   \n",
      "3211                  15360               500              550         200   \n",
      "3212                  15360               500              550         200   \n",
      "3213                  15360               500              550         200   \n",
      "\n",
      "      rub_per_message  rub_per_minute  \n",
      "0                   1               1  \n",
      "1                   1               1  \n",
      "2                   1               1  \n",
      "3                   1               1  \n",
      "4                   1               1  \n",
      "...               ...             ...  \n",
      "3209                3               3  \n",
      "3210                3               3  \n",
      "3211                3               3  \n",
      "3212                3               3  \n",
      "3213                3               3  \n",
      "\n",
      "[3214 rows x 20 columns]\n"
     ]
    }
   ],
   "source": [
    "user_behavior = user_behavior.merge(tariffs, on='tariff')\n",
    "print(user_behavior)"
   ]
  },
  {
   "cell_type": "markdown",
   "metadata": {
    "deletable": false,
    "editable": false,
    "id": "zednQVegKyDl"
   },
   "source": [
    "Считаем количество минут разговора, сообщений и мегабайт, превышающих включенные в тариф\n"
   ]
  },
  {
   "cell_type": "code",
   "execution_count": 39,
   "metadata": {
    "deletable": false,
    "id": "E1I9uDQMKyDl"
   },
   "outputs": [],
   "source": [
    "user_behavior['paid_minutes'] = user_behavior['minutes'] - user_behavior['minutes_included']\n",
    "user_behavior['paid_messages'] = user_behavior['messages'] - user_behavior['messages_included']\n",
    "user_behavior['paid_mb'] = user_behavior['mb_used'] - user_behavior['mb_per_month_included']\n",
    "\n",
    "for col in ['paid_messages', 'paid_minutes', 'paid_mb']:\n",
    "    user_behavior.loc[user_behavior[col] < 0, col] = 0"
   ]
  },
  {
   "cell_type": "markdown",
   "metadata": {
    "deletable": false,
    "editable": false,
    "id": "Ms0S9c56KyDl"
   },
   "source": [
    "Переводим превышающие тариф мегабайты в гигабайты и сохраняем в столбец `paid_gb`"
   ]
  },
  {
   "cell_type": "code",
   "execution_count": 40,
   "metadata": {
    "deletable": false,
    "id": "tyFXMiJnKyDl"
   },
   "outputs": [],
   "source": [
    "user_behavior['paid_gb'] = np.ceil(user_behavior['paid_mb'] / 1024).astype(int)"
   ]
  },
  {
   "cell_type": "markdown",
   "metadata": {
    "deletable": false,
    "editable": false,
    "id": "gyHRCwd2KyDm"
   },
   "source": [
    "Считаем выручку за минуты разговора, сообщения и интернет"
   ]
  },
  {
   "cell_type": "code",
   "execution_count": 41,
   "metadata": {
    "deletable": false,
    "id": "JYxGcZjpKyDm"
   },
   "outputs": [],
   "source": [
    "user_behavior['cost_minutes'] = user_behavior['paid_minutes'] * user_behavior['rub_per_minute']\n",
    "user_behavior['cost_messages'] = user_behavior['paid_messages'] * user_behavior['rub_per_message']\n",
    "user_behavior['cost_gb'] = user_behavior['paid_gb'] * user_behavior['rub_per_gb']"
   ]
  },
  {
   "cell_type": "markdown",
   "metadata": {
    "deletable": false,
    "editable": false,
    "id": "-_fwAfO5KyDm"
   },
   "source": [
    "Считаем помесячную выручку с каждого пользователя, она будет храниться в столбец `total_cost`"
   ]
  },
  {
   "cell_type": "code",
   "execution_count": 42,
   "metadata": {
    "deletable": false,
    "id": "FCJZ9SEWKyDm"
   },
   "outputs": [],
   "source": [
    "user_behavior['total_cost'] = \\\n",
    "      user_behavior['rub_monthly_fee']\\\n",
    "    + user_behavior['cost_minutes']\\\n",
    "    + user_behavior['cost_messages']\\\n",
    "    + user_behavior['cost_gb']"
   ]
  },
  {
   "cell_type": "markdown",
   "metadata": {
    "deletable": false,
    "editable": false,
    "id": "GdxQwSMLKyDm"
   },
   "source": [
    "Датафрейм `stats_df` для каждой пары \"месяц-тариф\" будет хранить основные характеристики"
   ]
  },
  {
   "cell_type": "code",
   "execution_count": 43,
   "metadata": {
    "deletable": false,
    "id": "KqVN3CeWKyDm",
    "outputId": "fa0d84b7-ac33-49ae-9f67-2e23236dca73"
   },
   "outputs": [
    {
     "data": {
      "text/html": [
       "<div>\n",
       "<style scoped>\n",
       "    .dataframe tbody tr th:only-of-type {\n",
       "        vertical-align: middle;\n",
       "    }\n",
       "\n",
       "    .dataframe tbody tr th {\n",
       "        vertical-align: top;\n",
       "    }\n",
       "\n",
       "    .dataframe thead th {\n",
       "        text-align: right;\n",
       "    }\n",
       "</style>\n",
       "<table border=\"1\" class=\"dataframe\">\n",
       "  <thead>\n",
       "    <tr style=\"text-align: right;\">\n",
       "      <th></th>\n",
       "      <th>month</th>\n",
       "      <th>tariff</th>\n",
       "      <th>calls_mean</th>\n",
       "      <th>sessions_mean</th>\n",
       "      <th>messages_mean</th>\n",
       "      <th>minutes_mean</th>\n",
       "      <th>calls_std</th>\n",
       "      <th>sessions_std</th>\n",
       "      <th>messages_std</th>\n",
       "      <th>minutes_std</th>\n",
       "      <th>calls_median</th>\n",
       "      <th>sessions_median</th>\n",
       "      <th>messages_median</th>\n",
       "      <th>minutes_median</th>\n",
       "    </tr>\n",
       "  </thead>\n",
       "  <tbody>\n",
       "    <tr>\n",
       "      <th>0</th>\n",
       "      <td>1</td>\n",
       "      <td>smart</td>\n",
       "      <td>27.676471</td>\n",
       "      <td>8513.717647</td>\n",
       "      <td>18.235294</td>\n",
       "      <td>203.852941</td>\n",
       "      <td>20.811886</td>\n",
       "      <td>6444.681014</td>\n",
       "      <td>16.197753</td>\n",
       "      <td>154.231454</td>\n",
       "      <td>20.5</td>\n",
       "      <td>7096.185</td>\n",
       "      <td>15.0</td>\n",
       "      <td>162.5</td>\n",
       "    </tr>\n",
       "    <tr>\n",
       "      <th>1</th>\n",
       "      <td>1</td>\n",
       "      <td>ultra</td>\n",
       "      <td>59.444444</td>\n",
       "      <td>13140.681111</td>\n",
       "      <td>33.777778</td>\n",
       "      <td>428.111111</td>\n",
       "      <td>41.638657</td>\n",
       "      <td>6865.346875</td>\n",
       "      <td>30.670742</td>\n",
       "      <td>269.757968</td>\n",
       "      <td>51.0</td>\n",
       "      <td>14791.370</td>\n",
       "      <td>32.0</td>\n",
       "      <td>382.0</td>\n",
       "    </tr>\n",
       "    <tr>\n",
       "      <th>2</th>\n",
       "      <td>2</td>\n",
       "      <td>smart</td>\n",
       "      <td>40.189655</td>\n",
       "      <td>11597.054310</td>\n",
       "      <td>24.086207</td>\n",
       "      <td>298.689655</td>\n",
       "      <td>25.394057</td>\n",
       "      <td>6247.353833</td>\n",
       "      <td>21.750809</td>\n",
       "      <td>190.820041</td>\n",
       "      <td>38.5</td>\n",
       "      <td>12553.710</td>\n",
       "      <td>20.0</td>\n",
       "      <td>258.0</td>\n",
       "    </tr>\n",
       "    <tr>\n",
       "      <th>3</th>\n",
       "      <td>2</td>\n",
       "      <td>ultra</td>\n",
       "      <td>41.541667</td>\n",
       "      <td>11775.937500</td>\n",
       "      <td>21.958333</td>\n",
       "      <td>297.125000</td>\n",
       "      <td>40.971866</td>\n",
       "      <td>10644.643911</td>\n",
       "      <td>26.773574</td>\n",
       "      <td>296.512528</td>\n",
       "      <td>25.0</td>\n",
       "      <td>7327.125</td>\n",
       "      <td>5.5</td>\n",
       "      <td>168.0</td>\n",
       "    </tr>\n",
       "    <tr>\n",
       "      <th>4</th>\n",
       "      <td>3</td>\n",
       "      <td>smart</td>\n",
       "      <td>54.324675</td>\n",
       "      <td>15104.159091</td>\n",
       "      <td>31.857143</td>\n",
       "      <td>390.051948</td>\n",
       "      <td>25.536579</td>\n",
       "      <td>5828.237537</td>\n",
       "      <td>26.804710</td>\n",
       "      <td>191.893604</td>\n",
       "      <td>59.0</td>\n",
       "      <td>15670.250</td>\n",
       "      <td>23.0</td>\n",
       "      <td>409.0</td>\n",
       "    </tr>\n",
       "    <tr>\n",
       "      <th>5</th>\n",
       "      <td>3</td>\n",
       "      <td>ultra</td>\n",
       "      <td>67.675676</td>\n",
       "      <td>17535.550270</td>\n",
       "      <td>32.297297</td>\n",
       "      <td>489.648649</td>\n",
       "      <td>44.838013</td>\n",
       "      <td>10951.785885</td>\n",
       "      <td>41.621886</td>\n",
       "      <td>333.743765</td>\n",
       "      <td>57.0</td>\n",
       "      <td>17495.180</td>\n",
       "      <td>20.0</td>\n",
       "      <td>403.0</td>\n",
       "    </tr>\n",
       "    <tr>\n",
       "      <th>6</th>\n",
       "      <td>4</td>\n",
       "      <td>smart</td>\n",
       "      <td>51.312500</td>\n",
       "      <td>13462.180625</td>\n",
       "      <td>30.741071</td>\n",
       "      <td>367.133929</td>\n",
       "      <td>25.704850</td>\n",
       "      <td>5698.249092</td>\n",
       "      <td>24.538532</td>\n",
       "      <td>186.489161</td>\n",
       "      <td>52.0</td>\n",
       "      <td>14087.650</td>\n",
       "      <td>28.0</td>\n",
       "      <td>368.5</td>\n",
       "    </tr>\n",
       "    <tr>\n",
       "      <th>7</th>\n",
       "      <td>4</td>\n",
       "      <td>ultra</td>\n",
       "      <td>64.090909</td>\n",
       "      <td>16828.134364</td>\n",
       "      <td>31.563636</td>\n",
       "      <td>458.018182</td>\n",
       "      <td>36.271748</td>\n",
       "      <td>9718.649845</td>\n",
       "      <td>37.513831</td>\n",
       "      <td>267.682405</td>\n",
       "      <td>61.0</td>\n",
       "      <td>16645.780</td>\n",
       "      <td>17.0</td>\n",
       "      <td>453.0</td>\n",
       "    </tr>\n",
       "    <tr>\n",
       "      <th>8</th>\n",
       "      <td>5</td>\n",
       "      <td>smart</td>\n",
       "      <td>55.241135</td>\n",
       "      <td>15805.184326</td>\n",
       "      <td>33.773050</td>\n",
       "      <td>387.361702</td>\n",
       "      <td>25.376846</td>\n",
       "      <td>5978.231725</td>\n",
       "      <td>27.036845</td>\n",
       "      <td>186.601343</td>\n",
       "      <td>59.0</td>\n",
       "      <td>16323.940</td>\n",
       "      <td>30.0</td>\n",
       "      <td>433.0</td>\n",
       "    </tr>\n",
       "    <tr>\n",
       "      <th>9</th>\n",
       "      <td>5</td>\n",
       "      <td>ultra</td>\n",
       "      <td>72.507463</td>\n",
       "      <td>19363.152985</td>\n",
       "      <td>37.850746</td>\n",
       "      <td>510.328358</td>\n",
       "      <td>41.080989</td>\n",
       "      <td>10046.110214</td>\n",
       "      <td>40.306874</td>\n",
       "      <td>289.603511</td>\n",
       "      <td>75.0</td>\n",
       "      <td>18696.430</td>\n",
       "      <td>25.0</td>\n",
       "      <td>519.0</td>\n",
       "    </tr>\n",
       "  </tbody>\n",
       "</table>\n",
       "</div>"
      ],
      "text/plain": [
       "   month tariff  calls_mean  sessions_mean  messages_mean  minutes_mean  \\\n",
       "0      1  smart   27.676471    8513.717647      18.235294    203.852941   \n",
       "1      1  ultra   59.444444   13140.681111      33.777778    428.111111   \n",
       "2      2  smart   40.189655   11597.054310      24.086207    298.689655   \n",
       "3      2  ultra   41.541667   11775.937500      21.958333    297.125000   \n",
       "4      3  smart   54.324675   15104.159091      31.857143    390.051948   \n",
       "5      3  ultra   67.675676   17535.550270      32.297297    489.648649   \n",
       "6      4  smart   51.312500   13462.180625      30.741071    367.133929   \n",
       "7      4  ultra   64.090909   16828.134364      31.563636    458.018182   \n",
       "8      5  smart   55.241135   15805.184326      33.773050    387.361702   \n",
       "9      5  ultra   72.507463   19363.152985      37.850746    510.328358   \n",
       "\n",
       "   calls_std  sessions_std  messages_std  minutes_std  calls_median  \\\n",
       "0  20.811886   6444.681014     16.197753   154.231454          20.5   \n",
       "1  41.638657   6865.346875     30.670742   269.757968          51.0   \n",
       "2  25.394057   6247.353833     21.750809   190.820041          38.5   \n",
       "3  40.971866  10644.643911     26.773574   296.512528          25.0   \n",
       "4  25.536579   5828.237537     26.804710   191.893604          59.0   \n",
       "5  44.838013  10951.785885     41.621886   333.743765          57.0   \n",
       "6  25.704850   5698.249092     24.538532   186.489161          52.0   \n",
       "7  36.271748   9718.649845     37.513831   267.682405          61.0   \n",
       "8  25.376846   5978.231725     27.036845   186.601343          59.0   \n",
       "9  41.080989  10046.110214     40.306874   289.603511          75.0   \n",
       "\n",
       "   sessions_median  messages_median  minutes_median  \n",
       "0         7096.185             15.0           162.5  \n",
       "1        14791.370             32.0           382.0  \n",
       "2        12553.710             20.0           258.0  \n",
       "3         7327.125              5.5           168.0  \n",
       "4        15670.250             23.0           409.0  \n",
       "5        17495.180             20.0           403.0  \n",
       "6        14087.650             28.0           368.5  \n",
       "7        16645.780             17.0           453.0  \n",
       "8        16323.940             30.0           433.0  \n",
       "9        18696.430             25.0           519.0  "
      ]
     },
     "execution_count": 43,
     "metadata": {},
     "output_type": "execute_result"
    }
   ],
   "source": [
    "# сохранение статистических метрик для каждой пары месяц-тариф\n",
    "# в одной таблице stats_df (среднее значение, стандартное отклонение, медиана)\n",
    "\n",
    "stats_df = user_behavior.pivot_table(\n",
    "            index=['month', 'tariff'],\\\n",
    "            values=['calls', 'minutes', 'messages', 'mb_used'],\\\n",
    "            aggfunc=['mean', 'std', 'median']\\\n",
    ").reset_index()\n",
    "\n",
    "stats_df.columns=['month', 'tariff', 'calls_mean', 'sessions_mean', 'messages_mean', 'minutes_mean',\n",
    "                                     'calls_std',  'sessions_std', 'messages_std', 'minutes_std', \n",
    "                                     'calls_median', 'sessions_median', 'messages_median',  'minutes_median']\n",
    "\n",
    "stats_df.head(10)"
   ]
  },
  {
   "cell_type": "markdown",
   "metadata": {
    "deletable": false,
    "editable": false,
    "id": "xAZgUnsaKyDm"
   },
   "source": [
    "Распределение среднего количества звонков по видам тарифов и месяцам"
   ]
  },
  {
   "cell_type": "code",
   "execution_count": 44,
   "metadata": {
    "deletable": false,
    "id": "1lkqwG12KyDm",
    "outputId": "9d0ad74b-64a7-47a7-8399-38189a74efcd"
   },
   "outputs": [
    {
     "data": {
      "image/png": "[encoded data removed]",
      "text/plain": [
       "<Figure size 432x288 with 1 Axes>"
      ]
     },
     "metadata": {
      "needs_background": "light"
     },
     "output_type": "display_data"
    }
   ],
   "source": [
    "import seaborn as sns\n",
    "\n",
    "ax = sns.barplot(x='month',\n",
    "            y='calls_mean',\n",
    "            hue=\"tariff\",\n",
    "            data=stats_df,\n",
    "            palette=['lightblue', 'blue'])\n",
    "\n",
    "ax.set_title('Распределение количества звонков по видам тарифов и месяцам')\n",
    "ax.set(xlabel='Номер месяца', ylabel='Среднее количество звонков');"
   ]
  },
  {
   "cell_type": "code",
   "execution_count": 45,
   "metadata": {
    "deletable": false,
    "id": "hG3npCHbKyDm",
    "outputId": "aa5b5a61-e27c-47a6-e5e3-d0e253121f20"
   },
   "outputs": [
    {
     "data": {
      "image/png": "[encoded data removed]",
      "text/plain": [
       "<Figure size 432x288 with 1 Axes>"
      ]
     },
     "metadata": {
      "needs_background": "light"
     },
     "output_type": "display_data"
    }
   ],
   "source": [
    "import matplotlib.pyplot as plt\n",
    "\n",
    "user_behavior.groupby('tariff')['calls'].plot(kind='hist', bins=35, alpha=0.5)\n",
    "plt.legend(['Smart', 'Ultra'])\n",
    "plt.xlabel('Количество звонков')\n",
    "plt.ylabel('Количество клиентов')\n",
    "plt.show()"
   ]
  },
  {
   "cell_type": "markdown",
   "metadata": {
    "deletable": false,
    "editable": false,
    "id": "SPrY3ADoKyDn"
   },
   "source": [
    "Распределение средней продолжительности звонков по видам тарифов и месяцам"
   ]
  },
  {
   "cell_type": "code",
   "execution_count": 46,
   "metadata": {
    "deletable": false,
    "id": "0luB17O2KyDn",
    "outputId": "1eff52c7-7205-4178-afc4-916faa062d52"
   },
   "outputs": [
    {
     "data": {
      "image/png": "[encoded data removed]",
      "text/plain": [
       "<Figure size 432x288 with 1 Axes>"
      ]
     },
     "metadata": {
      "needs_background": "light"
     },
     "output_type": "display_data"
    }
   ],
   "source": [
    "ax = sns.barplot(x='month',\n",
    "            y='minutes_mean',\n",
    "            hue=\"tariff\",\n",
    "            data=stats_df,\n",
    "            palette=['lightblue', 'blue'])\n",
    "\n",
    "ax.set_title('Распределение продолжительности звонков по видам тарифов и месяцам')\n",
    "ax.set(xlabel='Номер месяца', ylabel='Средняя продолжительность звонков');"
   ]
  },
  {
   "cell_type": "code",
   "execution_count": 47,
   "metadata": {
    "deletable": false,
    "id": "jII3kPf1KyDn",
    "outputId": "252b24d1-8c53-4b70-bf00-51ed1cc40464"
   },
   "outputs": [
    {
     "data": {
      "image/png": "[encoded data removed]",
      "text/plain": [
       "<Figure size 432x288 with 1 Axes>"
      ]
     },
     "metadata": {
      "needs_background": "light"
     },
     "output_type": "display_data"
    }
   ],
   "source": [
    "user_behavior[user_behavior['tariff'] =='smart']['minutes'].hist(bins=35, alpha=0.5, color='green')\n",
    "user_behavior[user_behavior['tariff'] =='ultra']['minutes'].hist(bins=35, alpha=0.5, color='blue');"
   ]
  },
  {
   "cell_type": "markdown",
   "metadata": {
    "deletable": false,
    "editable": false,
    "id": "UU5-2wAkKyDn"
   },
   "source": [
    "Средняя длительность разговоров у абонентов тарифа Ultra больше, чем у абонентов тарифа Smart. В течение года пользователи обоих тарифов увеличивают среднюю продолжительность своих разговоров. Рост средней длительности разговоров у абонентов тарифа Smart равномерный в течение года. Пользователи тарифа Ultra не проявляют подобной линейной стабильности. Стоит отметить, что феврале у абонентов обоих тарифных планов наблюдались самые низкие показатели."
   ]
  },
  {
   "cell_type": "markdown",
   "metadata": {
    "deletable": false,
    "editable": false,
    "id": "mUkAzptWKyDn"
   },
   "source": [
    "Распределение среднего количества сообщений по видам тарифов и месяцам"
   ]
  },
  {
   "cell_type": "code",
   "execution_count": 48,
   "metadata": {
    "deletable": false,
    "id": "pg1xenDhKyDn",
    "outputId": "b98b8e4e-40b5-43e6-f19c-db2554eb000c"
   },
   "outputs": [
    {
     "data": {
      "image/png": "[encoded data removed]",
      "text/plain": [
       "<Figure size 432x288 with 1 Axes>"
      ]
     },
     "metadata": {
      "needs_background": "light"
     },
     "output_type": "display_data"
    }
   ],
   "source": [
    "ax = sns.barplot(x='month',\n",
    "            y='messages_mean',\n",
    "            hue=\"tariff\",\n",
    "            data=stats_df,\n",
    "            palette=['lightblue', 'blue']\n",
    ")\n",
    "\n",
    "ax.set_title('Распределение количества сообщений по видам тарифов и месяцам')\n",
    "ax.set(xlabel='Номер месяца', ylabel='Среднее количество сообщений');"
   ]
  },
  {
   "cell_type": "code",
   "execution_count": 49,
   "metadata": {
    "deletable": false,
    "id": "gADscfmTKyDn",
    "outputId": "7cffa31c-fa5e-441d-d2dc-a2447a91937f"
   },
   "outputs": [
    {
     "data": {
      "image/png": "[encoded data removed]",
      "text/plain": [
       "<Figure size 432x288 with 1 Axes>"
      ]
     },
     "metadata": {
      "needs_background": "light"
     },
     "output_type": "display_data"
    }
   ],
   "source": [
    "user_behavior[user_behavior['tariff'] =='smart']['messages'].hist(bins=35, alpha=0.5, color='green')\n",
    "user_behavior[user_behavior['tariff'] =='ultra']['messages'].hist(bins=35, alpha=0.5, color='blue');"
   ]
  },
  {
   "cell_type": "markdown",
   "metadata": {
    "deletable": false,
    "editable": false,
    "id": "SuLnrpvfKyDo"
   },
   "source": [
    "В среднем количество сообщений пользователи тарифа Ultra отправляют больше - почти на 20 сообщений больше, чем пользователи тарифа Smart. Количество сообщений в течение года на обоих тарифак растет. Динамика по отправке сообщений схожа с тенденциями по длительности разговоров: в феврале отмечено наименьшее количество сообщений за год и пользователи тарифа Ultra также проявляют нелинейную полодительную динамику."
   ]
  },
  {
   "cell_type": "code",
   "execution_count": 50,
   "metadata": {
    "deletable": false,
    "id": "I0Vh9ibAKyDo",
    "outputId": "2696480e-7fc6-475e-e6ac-9b330b510c2d"
   },
   "outputs": [
    {
     "data": {
      "image/png": "[encoded data removed]",
      "text/plain": [
       "<Figure size 432x288 with 1 Axes>"
      ]
     },
     "metadata": {
      "needs_background": "light"
     },
     "output_type": "display_data"
    }
   ],
   "source": [
    "ax = sns.barplot(x='month',\n",
    "            y='sessions_mean',\n",
    "            hue=\"tariff\",\n",
    "            data=stats_df,\n",
    "            palette=['lightblue', 'blue']\n",
    ")\n",
    "\n",
    "ax.set_title('Распределение количества потраченного трафика (Мб) по видам тарифов и месяцам')\n",
    "ax.set(xlabel='Номер месяца', ylabel='Среднее количество мегабайт');"
   ]
  },
  {
   "cell_type": "markdown",
   "metadata": {
    "deletable": false,
    "editable": false,
    "id": "gk1kE32XKyDo"
   },
   "source": [
    "Сравнение потраченных мегабайт среди пользователей тарифов Smart и Ultra"
   ]
  },
  {
   "cell_type": "code",
   "execution_count": 51,
   "metadata": {
    "deletable": false,
    "id": "4bNdvIn2KyDp",
    "outputId": "0905ebe8-db1c-4466-ac45-1fe3b3a25765",
    "scrolled": true
   },
   "outputs": [
    {
     "data": {
      "image/png": "[encoded data removed]",
      "text/plain": [
       "<Figure size 432x288 with 1 Axes>"
      ]
     },
     "metadata": {
      "needs_background": "light"
     },
     "output_type": "display_data"
    }
   ],
   "source": [
    "user_behavior[user_behavior['tariff'] =='smart']['mb_used'].hist(bins=35, alpha=0.5, color='green')\n",
    "user_behavior[user_behavior['tariff'] =='ultra']['mb_used'].hist(bins=35, alpha=0.5, color='blue');"
   ]
  },
  {
   "cell_type": "markdown",
   "metadata": {
    "deletable": false,
    "editable": false,
    "id": "RpnCH1a4KyDp"
   },
   "source": [
    "Меньше всего пользователи использовали интернет в январе, феврале и апреле. Чаще всего абоненты тарифа Smart тратят 15-17 Гб, а абоненты тарифного плана Ultra - 19-21 ГБ."
   ]
  },
  {
   "cell_type": "markdown",
   "metadata": {
    "deletable": false,
    "editable": false,
    "id": "qZSr44oMKyDp"
   },
   "source": [
    "### Проверка гипотез"
   ]
  },
  {
   "cell_type": "markdown",
   "metadata": {
    "deletable": false,
    "editable": false,
    "id": "-Aow5ztHKyDp",
    "tags": [
     "start_task"
    ]
   },
   "source": [
    "**Задание 28.** Проверка гипотезы: средняя выручка пользователей тарифов «Ультра» и «Смарт» различаются;\n",
    "\n",
    "```\n",
    "H_0: Выручка (total_cost) пользователей \"Ультра\" = выручка (total_cost) пользователей \"Смарт\"`\n",
    "H_a: Выручка (total_cost) пользователей \"Ультра\" ≠ выручка (total_cost) пользователей \"Смарт\"`\n",
    "alpha = 0.05\n",
    "```"
   ]
  },
  {
   "cell_type": "code",
   "execution_count": 52,
   "metadata": {
    "deletable": false,
    "id": "l3qunGkwKyDp"
   },
   "outputs": [],
   "source": [
    "from scipy import stats as st\n",
    "#import numpy as np\n",
    "#import pandas as pd"
   ]
  },
  {
   "cell_type": "code",
   "execution_count": 88,
   "metadata": {},
   "outputs": [
    {
     "data": {
      "text/html": [
       "<div>\n",
       "<style scoped>\n",
       "    .dataframe tbody tr th:only-of-type {\n",
       "        vertical-align: middle;\n",
       "    }\n",
       "\n",
       "    .dataframe tbody tr th {\n",
       "        vertical-align: top;\n",
       "    }\n",
       "\n",
       "    .dataframe thead tr th {\n",
       "        text-align: left;\n",
       "    }\n",
       "\n",
       "    .dataframe thead tr:last-of-type th {\n",
       "        text-align: right;\n",
       "    }\n",
       "</style>\n",
       "<table border=\"1\" class=\"dataframe\">\n",
       "  <thead>\n",
       "    <tr>\n",
       "      <th></th>\n",
       "      <th></th>\n",
       "      <th colspan=\"4\" halign=\"left\">mean</th>\n",
       "      <th colspan=\"4\" halign=\"left\">std</th>\n",
       "      <th colspan=\"4\" halign=\"left\">median</th>\n",
       "    </tr>\n",
       "    <tr>\n",
       "      <th></th>\n",
       "      <th></th>\n",
       "      <th>calls</th>\n",
       "      <th>mb_used</th>\n",
       "      <th>messages</th>\n",
       "      <th>minutes</th>\n",
       "      <th>calls</th>\n",
       "      <th>mb_used</th>\n",
       "      <th>messages</th>\n",
       "      <th>minutes</th>\n",
       "      <th>calls</th>\n",
       "      <th>mb_used</th>\n",
       "      <th>messages</th>\n",
       "      <th>minutes</th>\n",
       "    </tr>\n",
       "    <tr>\n",
       "      <th>month</th>\n",
       "      <th>tariff</th>\n",
       "      <th></th>\n",
       "      <th></th>\n",
       "      <th></th>\n",
       "      <th></th>\n",
       "      <th></th>\n",
       "      <th></th>\n",
       "      <th></th>\n",
       "      <th></th>\n",
       "      <th></th>\n",
       "      <th></th>\n",
       "      <th></th>\n",
       "      <th></th>\n",
       "    </tr>\n",
       "  </thead>\n",
       "  <tbody>\n",
       "    <tr>\n",
       "      <th rowspan=\"2\" valign=\"top\">1</th>\n",
       "      <th>smart</th>\n",
       "      <td>27.676471</td>\n",
       "      <td>8513.717647</td>\n",
       "      <td>18.235294</td>\n",
       "      <td>203.852941</td>\n",
       "      <td>20.811886</td>\n",
       "      <td>6444.681014</td>\n",
       "      <td>16.197753</td>\n",
       "      <td>154.231454</td>\n",
       "      <td>20.5</td>\n",
       "      <td>7096.185</td>\n",
       "      <td>15.0</td>\n",
       "      <td>162.5</td>\n",
       "    </tr>\n",
       "    <tr>\n",
       "      <th>ultra</th>\n",
       "      <td>59.444444</td>\n",
       "      <td>13140.681111</td>\n",
       "      <td>33.777778</td>\n",
       "      <td>428.111111</td>\n",
       "      <td>41.638657</td>\n",
       "      <td>6865.346875</td>\n",
       "      <td>30.670742</td>\n",
       "      <td>269.757968</td>\n",
       "      <td>51.0</td>\n",
       "      <td>14791.370</td>\n",
       "      <td>32.0</td>\n",
       "      <td>382.0</td>\n",
       "    </tr>\n",
       "    <tr>\n",
       "      <th rowspan=\"2\" valign=\"top\">2</th>\n",
       "      <th>smart</th>\n",
       "      <td>40.189655</td>\n",
       "      <td>11597.054310</td>\n",
       "      <td>24.086207</td>\n",
       "      <td>298.689655</td>\n",
       "      <td>25.394057</td>\n",
       "      <td>6247.353833</td>\n",
       "      <td>21.750809</td>\n",
       "      <td>190.820041</td>\n",
       "      <td>38.5</td>\n",
       "      <td>12553.710</td>\n",
       "      <td>20.0</td>\n",
       "      <td>258.0</td>\n",
       "    </tr>\n",
       "    <tr>\n",
       "      <th>ultra</th>\n",
       "      <td>41.541667</td>\n",
       "      <td>11775.937500</td>\n",
       "      <td>21.958333</td>\n",
       "      <td>297.125000</td>\n",
       "      <td>40.971866</td>\n",
       "      <td>10644.643911</td>\n",
       "      <td>26.773574</td>\n",
       "      <td>296.512528</td>\n",
       "      <td>25.0</td>\n",
       "      <td>7327.125</td>\n",
       "      <td>5.5</td>\n",
       "      <td>168.0</td>\n",
       "    </tr>\n",
       "    <tr>\n",
       "      <th rowspan=\"2\" valign=\"top\">3</th>\n",
       "      <th>smart</th>\n",
       "      <td>54.324675</td>\n",
       "      <td>15104.159091</td>\n",
       "      <td>31.857143</td>\n",
       "      <td>390.051948</td>\n",
       "      <td>25.536579</td>\n",
       "      <td>5828.237537</td>\n",
       "      <td>26.804710</td>\n",
       "      <td>191.893604</td>\n",
       "      <td>59.0</td>\n",
       "      <td>15670.250</td>\n",
       "      <td>23.0</td>\n",
       "      <td>409.0</td>\n",
       "    </tr>\n",
       "    <tr>\n",
       "      <th>ultra</th>\n",
       "      <td>67.675676</td>\n",
       "      <td>17535.550270</td>\n",
       "      <td>32.297297</td>\n",
       "      <td>489.648649</td>\n",
       "      <td>44.838013</td>\n",
       "      <td>10951.785885</td>\n",
       "      <td>41.621886</td>\n",
       "      <td>333.743765</td>\n",
       "      <td>57.0</td>\n",
       "      <td>17495.180</td>\n",
       "      <td>20.0</td>\n",
       "      <td>403.0</td>\n",
       "    </tr>\n",
       "    <tr>\n",
       "      <th rowspan=\"2\" valign=\"top\">4</th>\n",
       "      <th>smart</th>\n",
       "      <td>51.312500</td>\n",
       "      <td>13462.180625</td>\n",
       "      <td>30.741071</td>\n",
       "      <td>367.133929</td>\n",
       "      <td>25.704850</td>\n",
       "      <td>5698.249092</td>\n",
       "      <td>24.538532</td>\n",
       "      <td>186.489161</td>\n",
       "      <td>52.0</td>\n",
       "      <td>14087.650</td>\n",
       "      <td>28.0</td>\n",
       "      <td>368.5</td>\n",
       "    </tr>\n",
       "    <tr>\n",
       "      <th>ultra</th>\n",
       "      <td>64.090909</td>\n",
       "      <td>16828.134364</td>\n",
       "      <td>31.563636</td>\n",
       "      <td>458.018182</td>\n",
       "      <td>36.271748</td>\n",
       "      <td>9718.649845</td>\n",
       "      <td>37.513831</td>\n",
       "      <td>267.682405</td>\n",
       "      <td>61.0</td>\n",
       "      <td>16645.780</td>\n",
       "      <td>17.0</td>\n",
       "      <td>453.0</td>\n",
       "    </tr>\n",
       "    <tr>\n",
       "      <th rowspan=\"2\" valign=\"top\">5</th>\n",
       "      <th>smart</th>\n",
       "      <td>55.241135</td>\n",
       "      <td>15805.184326</td>\n",
       "      <td>33.773050</td>\n",
       "      <td>387.361702</td>\n",
       "      <td>25.376846</td>\n",
       "      <td>5978.231725</td>\n",
       "      <td>27.036845</td>\n",
       "      <td>186.601343</td>\n",
       "      <td>59.0</td>\n",
       "      <td>16323.940</td>\n",
       "      <td>30.0</td>\n",
       "      <td>433.0</td>\n",
       "    </tr>\n",
       "    <tr>\n",
       "      <th>ultra</th>\n",
       "      <td>72.507463</td>\n",
       "      <td>19363.152985</td>\n",
       "      <td>37.850746</td>\n",
       "      <td>510.328358</td>\n",
       "      <td>41.080989</td>\n",
       "      <td>10046.110214</td>\n",
       "      <td>40.306874</td>\n",
       "      <td>289.603511</td>\n",
       "      <td>75.0</td>\n",
       "      <td>18696.430</td>\n",
       "      <td>25.0</td>\n",
       "      <td>519.0</td>\n",
       "    </tr>\n",
       "    <tr>\n",
       "      <th rowspan=\"2\" valign=\"top\">6</th>\n",
       "      <th>smart</th>\n",
       "      <td>55.548780</td>\n",
       "      <td>15794.647988</td>\n",
       "      <td>33.402439</td>\n",
       "      <td>395.640244</td>\n",
       "      <td>23.879633</td>\n",
       "      <td>5791.155586</td>\n",
       "      <td>28.404337</td>\n",
       "      <td>175.336587</td>\n",
       "      <td>59.0</td>\n",
       "      <td>16077.440</td>\n",
       "      <td>28.0</td>\n",
       "      <td>400.0</td>\n",
       "    </tr>\n",
       "    <tr>\n",
       "      <th>ultra</th>\n",
       "      <td>66.738095</td>\n",
       "      <td>18924.939286</td>\n",
       "      <td>41.726190</td>\n",
       "      <td>479.702381</td>\n",
       "      <td>39.803771</td>\n",
       "      <td>9292.877495</td>\n",
       "      <td>44.567899</td>\n",
       "      <td>302.549081</td>\n",
       "      <td>68.0</td>\n",
       "      <td>19480.205</td>\n",
       "      <td>27.5</td>\n",
       "      <td>479.0</td>\n",
       "    </tr>\n",
       "    <tr>\n",
       "      <th rowspan=\"2\" valign=\"top\">7</th>\n",
       "      <th>smart</th>\n",
       "      <td>56.726368</td>\n",
       "      <td>15743.150348</td>\n",
       "      <td>33.751244</td>\n",
       "      <td>408.353234</td>\n",
       "      <td>24.629652</td>\n",
       "      <td>5897.154446</td>\n",
       "      <td>28.282288</td>\n",
       "      <td>179.583601</td>\n",
       "      <td>58.0</td>\n",
       "      <td>15925.290</td>\n",
       "      <td>29.0</td>\n",
       "      <td>414.0</td>\n",
       "    </tr>\n",
       "    <tr>\n",
       "      <th>ultra</th>\n",
       "      <td>75.780220</td>\n",
       "      <td>20495.665165</td>\n",
       "      <td>49.846154</td>\n",
       "      <td>545.791209</td>\n",
       "      <td>42.893098</td>\n",
       "      <td>10065.197069</td>\n",
       "      <td>48.703621</td>\n",
       "      <td>307.119322</td>\n",
       "      <td>77.0</td>\n",
       "      <td>20014.220</td>\n",
       "      <td>38.0</td>\n",
       "      <td>542.0</td>\n",
       "    </tr>\n",
       "    <tr>\n",
       "      <th rowspan=\"2\" valign=\"top\">8</th>\n",
       "      <th>smart</th>\n",
       "      <td>58.978723</td>\n",
       "      <td>16610.720085</td>\n",
       "      <td>33.638298</td>\n",
       "      <td>421.468085</td>\n",
       "      <td>25.197925</td>\n",
       "      <td>5593.499133</td>\n",
       "      <td>28.952677</td>\n",
       "      <td>186.530382</td>\n",
       "      <td>62.0</td>\n",
       "      <td>16833.490</td>\n",
       "      <td>27.0</td>\n",
       "      <td>432.0</td>\n",
       "    </tr>\n",
       "    <tr>\n",
       "      <th>ultra</th>\n",
       "      <td>71.289720</td>\n",
       "      <td>19576.054673</td>\n",
       "      <td>48.439252</td>\n",
       "      <td>510.775701</td>\n",
       "      <td>43.535934</td>\n",
       "      <td>10476.556411</td>\n",
       "      <td>46.601923</td>\n",
       "      <td>312.980026</td>\n",
       "      <td>73.0</td>\n",
       "      <td>18932.620</td>\n",
       "      <td>40.0</td>\n",
       "      <td>500.0</td>\n",
       "    </tr>\n",
       "    <tr>\n",
       "      <th rowspan=\"2\" valign=\"top\">9</th>\n",
       "      <th>smart</th>\n",
       "      <td>59.546154</td>\n",
       "      <td>16303.578808</td>\n",
       "      <td>33.638462</td>\n",
       "      <td>428.611538</td>\n",
       "      <td>24.997795</td>\n",
       "      <td>5196.115749</td>\n",
       "      <td>28.117927</td>\n",
       "      <td>183.126576</td>\n",
       "      <td>61.0</td>\n",
       "      <td>16028.435</td>\n",
       "      <td>30.0</td>\n",
       "      <td>435.0</td>\n",
       "    </tr>\n",
       "    <tr>\n",
       "      <th>ultra</th>\n",
       "      <td>74.600000</td>\n",
       "      <td>19204.277130</td>\n",
       "      <td>52.286957</td>\n",
       "      <td>539.443478</td>\n",
       "      <td>44.377922</td>\n",
       "      <td>9486.088282</td>\n",
       "      <td>46.398874</td>\n",
       "      <td>325.141162</td>\n",
       "      <td>74.0</td>\n",
       "      <td>19656.300</td>\n",
       "      <td>43.0</td>\n",
       "      <td>520.0</td>\n",
       "    </tr>\n",
       "    <tr>\n",
       "      <th rowspan=\"2\" valign=\"top\">10</th>\n",
       "      <th>smart</th>\n",
       "      <td>59.962585</td>\n",
       "      <td>16757.122891</td>\n",
       "      <td>33.765306</td>\n",
       "      <td>426.136054</td>\n",
       "      <td>25.296507</td>\n",
       "      <td>5859.384492</td>\n",
       "      <td>28.567673</td>\n",
       "      <td>188.128510</td>\n",
       "      <td>60.5</td>\n",
       "      <td>17225.335</td>\n",
       "      <td>30.0</td>\n",
       "      <td>427.5</td>\n",
       "    </tr>\n",
       "    <tr>\n",
       "      <th>ultra</th>\n",
       "      <td>77.373984</td>\n",
       "      <td>20045.337317</td>\n",
       "      <td>58.430894</td>\n",
       "      <td>558.081301</td>\n",
       "      <td>45.542522</td>\n",
       "      <td>9803.111743</td>\n",
       "      <td>51.934398</td>\n",
       "      <td>326.289110</td>\n",
       "      <td>75.0</td>\n",
       "      <td>20338.150</td>\n",
       "      <td>49.0</td>\n",
       "      <td>533.0</td>\n",
       "    </tr>\n",
       "    <tr>\n",
       "      <th rowspan=\"2\" valign=\"top\">11</th>\n",
       "      <th>smart</th>\n",
       "      <td>61.503165</td>\n",
       "      <td>16895.696646</td>\n",
       "      <td>34.075949</td>\n",
       "      <td>435.265823</td>\n",
       "      <td>24.800985</td>\n",
       "      <td>5340.273416</td>\n",
       "      <td>28.389031</td>\n",
       "      <td>177.778618</td>\n",
       "      <td>60.0</td>\n",
       "      <td>17013.800</td>\n",
       "      <td>28.0</td>\n",
       "      <td>428.5</td>\n",
       "    </tr>\n",
       "    <tr>\n",
       "      <th>ultra</th>\n",
       "      <td>75.119403</td>\n",
       "      <td>19786.812463</td>\n",
       "      <td>55.791045</td>\n",
       "      <td>541.380597</td>\n",
       "      <td>42.583495</td>\n",
       "      <td>9907.519251</td>\n",
       "      <td>49.768951</td>\n",
       "      <td>310.757232</td>\n",
       "      <td>77.0</td>\n",
       "      <td>18377.790</td>\n",
       "      <td>43.0</td>\n",
       "      <td>546.0</td>\n",
       "    </tr>\n",
       "    <tr>\n",
       "      <th rowspan=\"2\" valign=\"top\">12</th>\n",
       "      <th>smart</th>\n",
       "      <td>66.486647</td>\n",
       "      <td>18113.662047</td>\n",
       "      <td>35.994065</td>\n",
       "      <td>478.560831</td>\n",
       "      <td>26.802307</td>\n",
       "      <td>5573.682673</td>\n",
       "      <td>30.576990</td>\n",
       "      <td>199.245131</td>\n",
       "      <td>65.0</td>\n",
       "      <td>17713.510</td>\n",
       "      <td>29.0</td>\n",
       "      <td>471.0</td>\n",
       "    </tr>\n",
       "    <tr>\n",
       "      <th>ultra</th>\n",
       "      <td>83.316547</td>\n",
       "      <td>21793.172590</td>\n",
       "      <td>60.611511</td>\n",
       "      <td>592.805755</td>\n",
       "      <td>48.213300</td>\n",
       "      <td>10378.386547</td>\n",
       "      <td>51.787821</td>\n",
       "      <td>342.456321</td>\n",
       "      <td>82.0</td>\n",
       "      <td>21972.630</td>\n",
       "      <td>51.0</td>\n",
       "      <td>584.0</td>\n",
       "    </tr>\n",
       "  </tbody>\n",
       "</table>\n",
       "</div>"
      ],
      "text/plain": [
       "                   mean                                             std  \\\n",
       "                  calls       mb_used   messages     minutes      calls   \n",
       "month tariff                                                              \n",
       "1     smart   27.676471   8513.717647  18.235294  203.852941  20.811886   \n",
       "      ultra   59.444444  13140.681111  33.777778  428.111111  41.638657   \n",
       "2     smart   40.189655  11597.054310  24.086207  298.689655  25.394057   \n",
       "      ultra   41.541667  11775.937500  21.958333  297.125000  40.971866   \n",
       "3     smart   54.324675  15104.159091  31.857143  390.051948  25.536579   \n",
       "      ultra   67.675676  17535.550270  32.297297  489.648649  44.838013   \n",
       "4     smart   51.312500  13462.180625  30.741071  367.133929  25.704850   \n",
       "      ultra   64.090909  16828.134364  31.563636  458.018182  36.271748   \n",
       "5     smart   55.241135  15805.184326  33.773050  387.361702  25.376846   \n",
       "      ultra   72.507463  19363.152985  37.850746  510.328358  41.080989   \n",
       "6     smart   55.548780  15794.647988  33.402439  395.640244  23.879633   \n",
       "      ultra   66.738095  18924.939286  41.726190  479.702381  39.803771   \n",
       "7     smart   56.726368  15743.150348  33.751244  408.353234  24.629652   \n",
       "      ultra   75.780220  20495.665165  49.846154  545.791209  42.893098   \n",
       "8     smart   58.978723  16610.720085  33.638298  421.468085  25.197925   \n",
       "      ultra   71.289720  19576.054673  48.439252  510.775701  43.535934   \n",
       "9     smart   59.546154  16303.578808  33.638462  428.611538  24.997795   \n",
       "      ultra   74.600000  19204.277130  52.286957  539.443478  44.377922   \n",
       "10    smart   59.962585  16757.122891  33.765306  426.136054  25.296507   \n",
       "      ultra   77.373984  20045.337317  58.430894  558.081301  45.542522   \n",
       "11    smart   61.503165  16895.696646  34.075949  435.265823  24.800985   \n",
       "      ultra   75.119403  19786.812463  55.791045  541.380597  42.583495   \n",
       "12    smart   66.486647  18113.662047  35.994065  478.560831  26.802307   \n",
       "      ultra   83.316547  21793.172590  60.611511  592.805755  48.213300   \n",
       "\n",
       "                                                  median                      \\\n",
       "                   mb_used   messages     minutes  calls    mb_used messages   \n",
       "month tariff                                                                   \n",
       "1     smart    6444.681014  16.197753  154.231454   20.5   7096.185     15.0   \n",
       "      ultra    6865.346875  30.670742  269.757968   51.0  14791.370     32.0   \n",
       "2     smart    6247.353833  21.750809  190.820041   38.5  12553.710     20.0   \n",
       "      ultra   10644.643911  26.773574  296.512528   25.0   7327.125      5.5   \n",
       "3     smart    5828.237537  26.804710  191.893604   59.0  15670.250     23.0   \n",
       "      ultra   10951.785885  41.621886  333.743765   57.0  17495.180     20.0   \n",
       "4     smart    5698.249092  24.538532  186.489161   52.0  14087.650     28.0   \n",
       "      ultra    9718.649845  37.513831  267.682405   61.0  16645.780     17.0   \n",
       "5     smart    5978.231725  27.036845  186.601343   59.0  16323.940     30.0   \n",
       "      ultra   10046.110214  40.306874  289.603511   75.0  18696.430     25.0   \n",
       "6     smart    5791.155586  28.404337  175.336587   59.0  16077.440     28.0   \n",
       "      ultra    9292.877495  44.567899  302.549081   68.0  19480.205     27.5   \n",
       "7     smart    5897.154446  28.282288  179.583601   58.0  15925.290     29.0   \n",
       "      ultra   10065.197069  48.703621  307.119322   77.0  20014.220     38.0   \n",
       "8     smart    5593.499133  28.952677  186.530382   62.0  16833.490     27.0   \n",
       "      ultra   10476.556411  46.601923  312.980026   73.0  18932.620     40.0   \n",
       "9     smart    5196.115749  28.117927  183.126576   61.0  16028.435     30.0   \n",
       "      ultra    9486.088282  46.398874  325.141162   74.0  19656.300     43.0   \n",
       "10    smart    5859.384492  28.567673  188.128510   60.5  17225.335     30.0   \n",
       "      ultra    9803.111743  51.934398  326.289110   75.0  20338.150     49.0   \n",
       "11    smart    5340.273416  28.389031  177.778618   60.0  17013.800     28.0   \n",
       "      ultra    9907.519251  49.768951  310.757232   77.0  18377.790     43.0   \n",
       "12    smart    5573.682673  30.576990  199.245131   65.0  17713.510     29.0   \n",
       "      ultra   10378.386547  51.787821  342.456321   82.0  21972.630     51.0   \n",
       "\n",
       "                      \n",
       "             minutes  \n",
       "month tariff          \n",
       "1     smart    162.5  \n",
       "      ultra    382.0  \n",
       "2     smart    258.0  \n",
       "      ultra    168.0  \n",
       "3     smart    409.0  \n",
       "      ultra    403.0  \n",
       "4     smart    368.5  \n",
       "      ultra    453.0  \n",
       "5     smart    433.0  \n",
       "      ultra    519.0  \n",
       "6     smart    400.0  \n",
       "      ultra    479.0  \n",
       "7     smart    414.0  \n",
       "      ultra    542.0  \n",
       "8     smart    432.0  \n",
       "      ultra    500.0  \n",
       "9     smart    435.0  \n",
       "      ultra    520.0  \n",
       "10    smart    427.5  \n",
       "      ultra    533.0  \n",
       "11    smart    428.5  \n",
       "      ultra    546.0  \n",
       "12    smart    471.0  \n",
       "      ultra    584.0  "
      ]
     },
     "execution_count": 88,
     "metadata": {},
     "output_type": "execute_result"
    }
   ],
   "source": [
    "#print(user_behavior['tariff'].head())\n",
    "user_behavior.pivot_table(\n",
    "            index=['month', 'tariff'],\\\n",
    "            values=['calls', 'minutes', 'messages', 'mb_used'],\\\n",
    "            aggfunc=['mean', 'std', 'median']\\\n",
    ")\n",
    "#user_behavior.info()"
   ]
  },
  {
   "cell_type": "markdown",
   "metadata": {},
   "source": []
  },
  {
   "cell_type": "code",
   "execution_count": 90,
   "metadata": {
    "deletable": false,
    "id": "Xa4KXeA4KyDq"
   },
   "outputs": [
    {
     "name": "stdout",
     "output_type": "stream",
     "text": [
      "4.2606313931076085e-250\n",
      "Отвергаем нулевую гипотезу\n"
     ]
    }
   ],
   "source": [
    "#results = st.ttest_ind(user_behavior[user_behavior['tariff'] == 'ultra']['total_cost']\n",
    "#                       ,user_behavior[user_behavior['tariff'] == 'smart']['total_cost']\n",
    "#                       ,equal_var = False)\n",
    "#ultra = user_behavior[user_behavior['tariff'] == 'ultra']['total_cost']\n",
    "ultra = user_behavior[user_behavior['tariff'] == 'ultra']['total_cost']\n",
    "#.tolist()\n",
    "#print(ultra)\n",
    "smart = user_behavior[user_behavior['tariff'] == 'smart']['total_cost']\n",
    "#.tolist()\n",
    "#print(smart)\n",
    "results = st.ttest_ind(ultra,smart,equal_var = False)\n",
    "\n",
    "#results = st.ttest_ind(\n",
    "#    user_behavior[user_behavior['tariff'] == 'ultra']['total_cost'],\n",
    "    #.tolist(),\n",
    "#    user_behavior[user_behavior['tariff'] == 'smart']['total_cost'],\n",
    "    #.tolist(),\n",
    "#    equal_var = False)\n",
    "\n",
    "# alpha = задайте значение уровня значимости\n",
    "alpha = .05\n",
    "# вывод значения p-value на экран\n",
    "print(results.pvalue)\n",
    "# условный оператор с выводом строки с ответом\n",
    "if (results.pvalue < alpha):\n",
    "    print(\"Отвергаем нулевую гипотезу\")\n",
    "else:\n",
    "    print(\"Не получилось отвергнуть нулевую гипотезу\")\n",
    "    \n",
    "\n",
    "    "
   ]
  },
  {
   "cell_type": "markdown",
   "metadata": {
    "deletable": false,
    "editable": false,
    "id": "Q4n6QDf-KyDq",
    "tags": [
     "start_task"
    ]
   },
   "source": [
    "**Задание 29.** Проверка гипотезы: пользователи из Москвы приносят больше выручки, чем пользователи из других городов;\n",
    "\n",
    "```\n",
    "H_0: Выручка (total_cost) пользователей из Москвы = выручка (total_cost) пользователей не из Москвы`\n",
    "H_1: Выручка (total_cost) пользователей из Москвы ≠ выручка (total_cost) пользователей не из Москвы`\n",
    "alpha = 0.05\n",
    "```"
   ]
  },
  {
   "cell_type": "code",
   "execution_count": 91,
   "metadata": {
    "deletable": false,
    "id": "fl-UuP2SKyDq"
   },
   "outputs": [
    {
     "name": "stdout",
     "output_type": "stream",
     "text": [
      "0.5257376663729298\n",
      "Не получилось отвергнуть нулевую гипотезу\n"
     ]
    }
   ],
   "source": [
    "from scipy import stats as st\n",
    "import numpy as np\n",
    "\n",
    "# results = вызов метода для проверки гипотезы\n",
    "results = st.ttest_ind(\n",
    "    user_behavior[user_behavior['city'] == 'Москва']['total_cost'].tolist(),\n",
    "    user_behavior[user_behavior['city'] != 'Москва']['total_cost'].tolist(),\n",
    "    equal_var = False)\n",
    "# alpha = задайте значение уровня значимости\n",
    "alpha = .05\n",
    "# вывод значения p-value на экран \n",
    "print(results.pvalue)\n",
    "# условный оператор с выводом строки с ответом\n",
    "if (results.pvalue < alpha):\n",
    "    print(\"Отвергаем нулевую гипотезу\")\n",
    "else:\n",
    "    print(\"Не получилось отвергнуть нулевую гипотезу\")"
   ]
  },
  {
   "cell_type": "code",
   "execution_count": null,
   "metadata": {},
   "outputs": [],
   "source": []
  }
 ],
 "metadata": {
  "ExecuteTimeLog": [
   {
    "duration": 71,
    "start_time": "2022-08-30T11:27:22.643Z"
   },
   {
    "duration": 6,
    "start_time": "2022-08-30T11:27:30.198Z"
   },
   {
    "duration": 434,
    "start_time": "2022-08-30T11:27:40.812Z"
   },
   {
    "duration": 243,
    "start_time": "2022-08-30T11:27:46.048Z"
   },
   {
    "duration": 7,
    "start_time": "2022-08-30T11:28:34.915Z"
   },
   {
    "duration": 24,
    "start_time": "2022-08-30T11:29:47.615Z"
   },
   {
    "duration": 29,
    "start_time": "2022-08-30T11:31:07.301Z"
   },
   {
    "duration": 8,
    "start_time": "2022-08-30T11:31:34.524Z"
   },
   {
    "duration": 7,
    "start_time": "2022-08-30T11:32:12.230Z"
   },
   {
    "duration": 9,
    "start_time": "2022-08-30T11:34:34.957Z"
   },
   {
    "duration": 965,
    "start_time": "2022-08-30T11:35:12.775Z"
   },
   {
    "duration": 902,
    "start_time": "2022-08-30T11:35:31.721Z"
   },
   {
    "duration": 1208,
    "start_time": "2022-08-30T11:35:48.322Z"
   },
   {
    "duration": 831,
    "start_time": "2022-08-30T11:37:28.932Z"
   },
   {
    "duration": 180,
    "start_time": "2022-08-30T11:37:49.226Z"
   },
   {
    "duration": 1103,
    "start_time": "2022-08-30T11:37:54.313Z"
   },
   {
    "duration": 17,
    "start_time": "2022-08-30T11:39:33.883Z"
   },
   {
    "duration": 954,
    "start_time": "2022-08-30T11:40:05.715Z"
   },
   {
    "duration": 9,
    "start_time": "2022-08-30T11:42:45.195Z"
   },
   {
    "duration": 9,
    "start_time": "2022-08-30T11:44:03.396Z"
   },
   {
    "duration": 8,
    "start_time": "2022-08-30T11:44:13.963Z"
   },
   {
    "duration": 9,
    "start_time": "2022-08-30T11:45:26.346Z"
   },
   {
    "duration": 752,
    "start_time": "2022-08-30T11:46:09.189Z"
   },
   {
    "duration": 1039,
    "start_time": "2022-08-30T11:53:44.262Z"
   },
   {
    "duration": 1071,
    "start_time": "2022-08-30T11:54:32.299Z"
   },
   {
    "duration": 8,
    "start_time": "2022-08-30T11:56:36.487Z"
   },
   {
    "duration": 8,
    "start_time": "2022-08-30T11:57:49.552Z"
   },
   {
    "duration": 3,
    "start_time": "2022-08-30T11:58:10.252Z"
   },
   {
    "duration": 203,
    "start_time": "2022-08-30T11:58:10.257Z"
   },
   {
    "duration": 6,
    "start_time": "2022-08-30T11:58:10.462Z"
   },
   {
    "duration": 17,
    "start_time": "2022-08-30T11:58:10.470Z"
   },
   {
    "duration": 8,
    "start_time": "2022-08-30T11:58:16.160Z"
   },
   {
    "duration": 7,
    "start_time": "2022-08-30T12:03:31.385Z"
   },
   {
    "duration": 1232,
    "start_time": "2022-08-30T12:03:54.115Z"
   },
   {
    "duration": 7,
    "start_time": "2022-08-30T12:04:35.149Z"
   },
   {
    "duration": 1286,
    "start_time": "2022-08-30T12:04:51.671Z"
   },
   {
    "duration": 202,
    "start_time": "2022-08-30T12:05:07.015Z"
   },
   {
    "duration": 152,
    "start_time": "2022-08-30T12:06:02.624Z"
   },
   {
    "duration": 9,
    "start_time": "2022-08-30T12:06:07.593Z"
   },
   {
    "duration": 23,
    "start_time": "2022-08-30T12:06:16.215Z"
   },
   {
    "duration": 511,
    "start_time": "2022-08-30T12:06:37.736Z"
   },
   {
    "duration": 311,
    "start_time": "2022-08-30T12:08:19.630Z"
   },
   {
    "duration": 10,
    "start_time": "2022-08-30T12:09:01.323Z"
   },
   {
    "duration": 20,
    "start_time": "2022-08-30T12:09:37.517Z"
   },
   {
    "duration": 18,
    "start_time": "2022-08-30T12:10:27.476Z"
   },
   {
    "duration": 138,
    "start_time": "2022-08-30T12:11:05.798Z"
   },
   {
    "duration": 67,
    "start_time": "2022-08-30T12:12:21.215Z"
   },
   {
    "duration": 54,
    "start_time": "2022-08-30T12:18:10.661Z"
   },
   {
    "duration": 370,
    "start_time": "2022-08-30T12:18:41.485Z"
   },
   {
    "duration": 8,
    "start_time": "2022-08-30T12:19:17.194Z"
   },
   {
    "duration": 17,
    "start_time": "2022-08-30T12:20:00.336Z"
   },
   {
    "duration": 73,
    "start_time": "2022-08-30T12:20:45.180Z"
   },
   {
    "duration": 10,
    "start_time": "2022-08-30T12:21:22.027Z"
   },
   {
    "duration": 11,
    "start_time": "2022-08-30T12:22:13.599Z"
   },
   {
    "duration": 81,
    "start_time": "2022-08-30T12:22:59.054Z"
   },
   {
    "duration": 9,
    "start_time": "2022-08-30T12:23:28.253Z"
   },
   {
    "duration": 13,
    "start_time": "2022-08-30T12:24:01.678Z"
   },
   {
    "duration": 349,
    "start_time": "2022-08-30T12:29:10.297Z"
   },
   {
    "duration": 44,
    "start_time": "2022-08-30T12:32:57.129Z"
   },
   {
    "duration": 1887,
    "start_time": "2022-08-30T12:34:21.356Z"
   },
   {
    "duration": 84,
    "start_time": "2022-08-30T12:36:11.965Z"
   },
   {
    "duration": 69,
    "start_time": "2022-08-30T12:37:29.230Z"
   },
   {
    "duration": 105,
    "start_time": "2022-08-30T12:40:05.207Z"
   },
   {
    "duration": 13,
    "start_time": "2022-08-30T12:40:34.077Z"
   },
   {
    "duration": 7,
    "start_time": "2022-08-30T12:41:38.262Z"
   },
   {
    "duration": 13,
    "start_time": "2022-08-30T12:48:16.514Z"
   },
   {
    "duration": 8,
    "start_time": "2022-08-30T12:49:29.181Z"
   },
   {
    "duration": 7,
    "start_time": "2022-08-30T12:49:41.051Z"
   },
   {
    "duration": 15,
    "start_time": "2022-08-30T12:50:01.928Z"
   },
   {
    "duration": 20,
    "start_time": "2022-08-30T12:51:38.414Z"
   },
   {
    "duration": 24,
    "start_time": "2022-08-30T12:52:37.939Z"
   },
   {
    "duration": 19,
    "start_time": "2022-08-30T12:53:24.687Z"
   },
   {
    "duration": 12,
    "start_time": "2022-08-30T12:53:44.338Z"
   },
   {
    "duration": 11,
    "start_time": "2022-08-30T12:56:32.313Z"
   },
   {
    "duration": 3,
    "start_time": "2022-08-30T12:57:30.709Z"
   },
   {
    "duration": 186,
    "start_time": "2022-08-30T12:57:30.714Z"
   },
   {
    "duration": 8,
    "start_time": "2022-08-30T12:57:30.902Z"
   },
   {
    "duration": 34,
    "start_time": "2022-08-30T12:57:30.912Z"
   },
   {
    "duration": 157,
    "start_time": "2022-08-30T12:57:30.948Z"
   },
   {
    "duration": 128,
    "start_time": "2022-08-30T12:57:31.107Z"
   },
   {
    "duration": 9,
    "start_time": "2022-08-30T12:57:31.237Z"
   },
   {
    "duration": 42,
    "start_time": "2022-08-30T12:57:31.248Z"
   },
   {
    "duration": 168,
    "start_time": "2022-08-30T12:57:31.292Z"
   },
   {
    "duration": 109,
    "start_time": "2022-08-30T12:57:31.462Z"
   },
   {
    "duration": 11,
    "start_time": "2022-08-30T12:57:31.575Z"
   },
   {
    "duration": 34,
    "start_time": "2022-08-30T12:57:31.587Z"
   },
   {
    "duration": 31,
    "start_time": "2022-08-30T12:57:31.624Z"
   },
   {
    "duration": 22,
    "start_time": "2022-08-30T12:57:31.657Z"
   },
   {
    "duration": 42,
    "start_time": "2022-08-30T12:57:31.681Z"
   },
   {
    "duration": 68,
    "start_time": "2022-08-30T12:57:31.724Z"
   },
   {
    "duration": 8,
    "start_time": "2022-08-30T12:57:31.794Z"
   },
   {
    "duration": 26,
    "start_time": "2022-08-30T12:57:31.804Z"
   },
   {
    "duration": 99,
    "start_time": "2022-08-30T12:57:31.831Z"
   },
   {
    "duration": 9,
    "start_time": "2022-08-30T12:57:37.855Z"
   },
   {
    "duration": 47,
    "start_time": "2022-08-30T13:01:41.986Z"
   },
   {
    "duration": 7,
    "start_time": "2022-08-30T13:02:32.040Z"
   },
   {
    "duration": 10,
    "start_time": "2022-08-30T13:09:50.997Z"
   },
   {
    "duration": 8,
    "start_time": "2022-08-30T13:14:29.662Z"
   },
   {
    "duration": 9,
    "start_time": "2022-08-30T13:14:48.893Z"
   },
   {
    "duration": 10,
    "start_time": "2022-08-30T13:15:17.728Z"
   },
   {
    "duration": 9,
    "start_time": "2022-08-30T13:16:27.904Z"
   },
   {
    "duration": 102,
    "start_time": "2022-08-30T13:20:38.381Z"
   },
   {
    "duration": 25,
    "start_time": "2022-08-30T13:21:54.484Z"
   },
   {
    "duration": 31,
    "start_time": "2022-08-30T13:22:51.594Z"
   },
   {
    "duration": 20,
    "start_time": "2022-08-30T13:29:22.856Z"
   },
   {
    "duration": 5,
    "start_time": "2022-08-30T13:29:32.320Z"
   },
   {
    "duration": 19,
    "start_time": "2022-08-30T13:34:37.955Z"
   },
   {
    "duration": 7,
    "start_time": "2022-08-30T13:35:23.066Z"
   },
   {
    "duration": 17,
    "start_time": "2022-08-30T13:38:43.582Z"
   },
   {
    "duration": 15,
    "start_time": "2022-08-30T13:39:06.406Z"
   },
   {
    "duration": 5,
    "start_time": "2022-08-30T13:39:10.957Z"
   },
   {
    "duration": 197,
    "start_time": "2022-08-30T13:40:24.938Z"
   },
   {
    "duration": 80,
    "start_time": "2022-08-30T13:43:22.024Z"
   },
   {
    "duration": 11,
    "start_time": "2022-08-30T13:44:12.896Z"
   },
   {
    "duration": 7,
    "start_time": "2022-08-30T13:44:16.511Z"
   },
   {
    "duration": 6,
    "start_time": "2022-08-30T13:44:36.016Z"
   },
   {
    "duration": 54,
    "start_time": "2022-08-31T13:30:16.810Z"
   },
   {
    "duration": 619,
    "start_time": "2022-08-31T13:34:39.907Z"
   },
   {
    "duration": 36,
    "start_time": "2022-08-31T13:34:44.269Z"
   },
   {
    "duration": 222,
    "start_time": "2022-08-31T13:35:07.406Z"
   },
   {
    "duration": 713,
    "start_time": "2022-08-31T13:35:07.630Z"
   },
   {
    "duration": 15,
    "start_time": "2022-08-31T13:35:08.345Z"
   },
   {
    "duration": 45,
    "start_time": "2022-08-31T13:35:08.361Z"
   },
   {
    "duration": 994,
    "start_time": "2022-08-31T13:35:08.408Z"
   },
   {
    "duration": 419,
    "start_time": "2022-08-31T13:35:09.403Z"
   },
   {
    "duration": 10,
    "start_time": "2022-08-31T13:35:09.823Z"
   },
   {
    "duration": 46,
    "start_time": "2022-08-31T13:35:09.834Z"
   },
   {
    "duration": 162,
    "start_time": "2022-08-31T13:35:09.882Z"
   },
   {
    "duration": 149,
    "start_time": "2022-08-31T13:35:10.047Z"
   },
   {
    "duration": 8,
    "start_time": "2022-08-31T13:35:10.198Z"
   },
   {
    "duration": 35,
    "start_time": "2022-08-31T13:35:10.208Z"
   },
   {
    "duration": 63,
    "start_time": "2022-08-31T13:35:10.245Z"
   },
   {
    "duration": 8,
    "start_time": "2022-08-31T13:35:10.309Z"
   },
   {
    "duration": 56,
    "start_time": "2022-08-31T13:35:10.319Z"
   },
   {
    "duration": 78,
    "start_time": "2022-08-31T13:35:10.377Z"
   },
   {
    "duration": 8,
    "start_time": "2022-08-31T13:35:10.457Z"
   },
   {
    "duration": 26,
    "start_time": "2022-08-31T13:35:10.466Z"
   },
   {
    "duration": 109,
    "start_time": "2022-08-31T13:35:10.494Z"
   },
   {
    "duration": 8,
    "start_time": "2022-08-31T13:35:10.605Z"
   },
   {
    "duration": 11,
    "start_time": "2022-08-31T13:35:10.615Z"
   },
   {
    "duration": 78,
    "start_time": "2022-08-31T13:35:10.628Z"
   },
   {
    "duration": 25,
    "start_time": "2022-08-31T13:35:10.708Z"
   },
   {
    "duration": 33,
    "start_time": "2022-08-31T13:35:10.735Z"
   },
   {
    "duration": 24,
    "start_time": "2022-08-31T13:35:10.769Z"
   },
   {
    "duration": 4,
    "start_time": "2022-08-31T13:35:10.795Z"
   },
   {
    "duration": 42,
    "start_time": "2022-08-31T13:35:10.801Z"
   },
   {
    "duration": 6,
    "start_time": "2022-08-31T13:35:10.846Z"
   },
   {
    "duration": 39,
    "start_time": "2022-08-31T13:35:10.853Z"
   },
   {
    "duration": 11,
    "start_time": "2022-08-31T13:35:10.894Z"
   },
   {
    "duration": 44,
    "start_time": "2022-08-31T13:35:10.907Z"
   },
   {
    "duration": 27,
    "start_time": "2022-08-31T13:35:10.952Z"
   },
   {
    "duration": 16,
    "start_time": "2022-08-31T13:35:10.981Z"
   },
   {
    "duration": 51,
    "start_time": "2022-08-31T13:35:10.998Z"
   },
   {
    "duration": 0,
    "start_time": "2022-08-31T13:35:11.050Z"
   },
   {
    "duration": 0,
    "start_time": "2022-08-31T13:35:11.051Z"
   },
   {
    "duration": 0,
    "start_time": "2022-08-31T13:35:11.052Z"
   },
   {
    "duration": 0,
    "start_time": "2022-08-31T13:35:11.053Z"
   },
   {
    "duration": 0,
    "start_time": "2022-08-31T13:35:11.054Z"
   },
   {
    "duration": 0,
    "start_time": "2022-08-31T13:35:11.055Z"
   },
   {
    "duration": 0,
    "start_time": "2022-08-31T13:35:11.056Z"
   },
   {
    "duration": 0,
    "start_time": "2022-08-31T13:35:11.057Z"
   },
   {
    "duration": 0,
    "start_time": "2022-08-31T13:35:11.058Z"
   },
   {
    "duration": 0,
    "start_time": "2022-08-31T13:35:11.059Z"
   },
   {
    "duration": 0,
    "start_time": "2022-08-31T13:35:11.060Z"
   },
   {
    "duration": 0,
    "start_time": "2022-08-31T13:35:11.061Z"
   },
   {
    "duration": 0,
    "start_time": "2022-08-31T13:35:11.062Z"
   },
   {
    "duration": 0,
    "start_time": "2022-08-31T13:35:11.063Z"
   },
   {
    "duration": 0,
    "start_time": "2022-08-31T13:35:11.063Z"
   },
   {
    "duration": 0,
    "start_time": "2022-08-31T13:35:11.064Z"
   },
   {
    "duration": 2,
    "start_time": "2022-08-31T13:35:25.234Z"
   },
   {
    "duration": 9,
    "start_time": "2022-08-31T13:35:28.033Z"
   },
   {
    "duration": 5,
    "start_time": "2022-08-31T13:35:56.414Z"
   },
   {
    "duration": 18,
    "start_time": "2022-08-31T13:35:59.971Z"
   },
   {
    "duration": 4,
    "start_time": "2022-08-31T13:36:29.842Z"
   },
   {
    "duration": 15,
    "start_time": "2022-08-31T13:36:36.044Z"
   },
   {
    "duration": 7,
    "start_time": "2022-08-31T13:36:46.191Z"
   },
   {
    "duration": 23,
    "start_time": "2022-08-31T13:36:59.733Z"
   },
   {
    "duration": 426,
    "start_time": "2022-08-31T13:37:09.770Z"
   },
   {
    "duration": 166,
    "start_time": "2022-08-31T13:37:10.198Z"
   },
   {
    "duration": 16,
    "start_time": "2022-08-31T13:37:10.368Z"
   },
   {
    "duration": 25,
    "start_time": "2022-08-31T13:37:10.387Z"
   },
   {
    "duration": 422,
    "start_time": "2022-08-31T13:37:10.413Z"
   },
   {
    "duration": 126,
    "start_time": "2022-08-31T13:37:10.837Z"
   },
   {
    "duration": 9,
    "start_time": "2022-08-31T13:37:10.964Z"
   },
   {
    "duration": 20,
    "start_time": "2022-08-31T13:37:10.975Z"
   },
   {
    "duration": 175,
    "start_time": "2022-08-31T13:37:10.997Z"
   },
   {
    "duration": 92,
    "start_time": "2022-08-31T13:37:11.175Z"
   },
   {
    "duration": 8,
    "start_time": "2022-08-31T13:37:11.269Z"
   },
   {
    "duration": 18,
    "start_time": "2022-08-31T13:37:11.279Z"
   },
   {
    "duration": 28,
    "start_time": "2022-08-31T13:37:11.299Z"
   },
   {
    "duration": 7,
    "start_time": "2022-08-31T13:37:11.328Z"
   },
   {
    "duration": 11,
    "start_time": "2022-08-31T13:37:11.337Z"
   },
   {
    "duration": 31,
    "start_time": "2022-08-31T13:37:11.349Z"
   },
   {
    "duration": 7,
    "start_time": "2022-08-31T13:37:11.382Z"
   },
   {
    "duration": 11,
    "start_time": "2022-08-31T13:37:11.390Z"
   },
   {
    "duration": 77,
    "start_time": "2022-08-31T13:37:11.403Z"
   },
   {
    "duration": 9,
    "start_time": "2022-08-31T13:37:11.481Z"
   },
   {
    "duration": 8,
    "start_time": "2022-08-31T13:37:11.492Z"
   },
   {
    "duration": 48,
    "start_time": "2022-08-31T13:37:11.502Z"
   },
   {
    "duration": 39,
    "start_time": "2022-08-31T13:37:11.552Z"
   },
   {
    "duration": 80,
    "start_time": "2022-08-31T13:37:11.593Z"
   },
   {
    "duration": 26,
    "start_time": "2022-08-31T13:37:11.675Z"
   },
   {
    "duration": 6,
    "start_time": "2022-08-31T13:37:11.702Z"
   },
   {
    "duration": 29,
    "start_time": "2022-08-31T13:37:11.710Z"
   },
   {
    "duration": 29,
    "start_time": "2022-08-31T13:37:11.742Z"
   },
   {
    "duration": 18,
    "start_time": "2022-08-31T13:37:11.772Z"
   },
   {
    "duration": 5,
    "start_time": "2022-08-31T13:37:11.791Z"
   },
   {
    "duration": 16,
    "start_time": "2022-08-31T13:37:11.797Z"
   },
   {
    "duration": 5,
    "start_time": "2022-08-31T13:37:11.815Z"
   },
   {
    "duration": 6,
    "start_time": "2022-08-31T13:37:11.822Z"
   },
   {
    "duration": 97,
    "start_time": "2022-08-31T13:37:11.830Z"
   },
   {
    "duration": 0,
    "start_time": "2022-08-31T13:37:11.929Z"
   },
   {
    "duration": 0,
    "start_time": "2022-08-31T13:37:11.930Z"
   },
   {
    "duration": 0,
    "start_time": "2022-08-31T13:37:11.931Z"
   },
   {
    "duration": 0,
    "start_time": "2022-08-31T13:37:11.932Z"
   },
   {
    "duration": 0,
    "start_time": "2022-08-31T13:37:11.933Z"
   },
   {
    "duration": 0,
    "start_time": "2022-08-31T13:37:11.934Z"
   },
   {
    "duration": 0,
    "start_time": "2022-08-31T13:37:11.935Z"
   },
   {
    "duration": 0,
    "start_time": "2022-08-31T13:37:11.936Z"
   },
   {
    "duration": 0,
    "start_time": "2022-08-31T13:37:11.937Z"
   },
   {
    "duration": 0,
    "start_time": "2022-08-31T13:37:11.938Z"
   },
   {
    "duration": 0,
    "start_time": "2022-08-31T13:37:11.939Z"
   },
   {
    "duration": 0,
    "start_time": "2022-08-31T13:37:11.946Z"
   },
   {
    "duration": 0,
    "start_time": "2022-08-31T13:37:11.947Z"
   },
   {
    "duration": 1,
    "start_time": "2022-08-31T13:37:11.967Z"
   },
   {
    "duration": 0,
    "start_time": "2022-08-31T13:37:11.969Z"
   },
   {
    "duration": 0,
    "start_time": "2022-08-31T13:37:11.970Z"
   },
   {
    "duration": 0,
    "start_time": "2022-08-31T13:37:11.971Z"
   },
   {
    "duration": 0,
    "start_time": "2022-08-31T13:37:11.972Z"
   },
   {
    "duration": 0,
    "start_time": "2022-08-31T13:37:11.973Z"
   },
   {
    "duration": 0,
    "start_time": "2022-08-31T13:37:11.974Z"
   },
   {
    "duration": 8,
    "start_time": "2022-08-31T13:38:09.286Z"
   },
   {
    "duration": 167,
    "start_time": "2022-08-31T13:39:09.926Z"
   },
   {
    "duration": 23,
    "start_time": "2022-08-31T13:39:18.332Z"
   },
   {
    "duration": 151,
    "start_time": "2022-08-31T13:39:22.526Z"
   },
   {
    "duration": 131,
    "start_time": "2022-08-31T13:39:27.502Z"
   },
   {
    "duration": 9,
    "start_time": "2022-08-31T13:39:32.256Z"
   },
   {
    "duration": 27,
    "start_time": "2022-08-31T13:39:36.662Z"
   },
   {
    "duration": 155,
    "start_time": "2022-08-31T13:39:40.550Z"
   },
   {
    "duration": 98,
    "start_time": "2022-08-31T13:39:45.517Z"
   },
   {
    "duration": 8,
    "start_time": "2022-08-31T13:39:49.862Z"
   },
   {
    "duration": 21,
    "start_time": "2022-08-31T13:39:55.522Z"
   },
   {
    "duration": 29,
    "start_time": "2022-08-31T13:39:59.888Z"
   },
   {
    "duration": 9,
    "start_time": "2022-08-31T13:40:03.164Z"
   },
   {
    "duration": 12,
    "start_time": "2022-08-31T13:40:07.079Z"
   },
   {
    "duration": 39,
    "start_time": "2022-08-31T13:40:11.278Z"
   },
   {
    "duration": 8,
    "start_time": "2022-08-31T13:40:15.800Z"
   },
   {
    "duration": 10,
    "start_time": "2022-08-31T13:40:18.686Z"
   },
   {
    "duration": 75,
    "start_time": "2022-08-31T13:40:28.556Z"
   },
   {
    "duration": 6,
    "start_time": "2022-08-31T13:40:36.199Z"
   },
   {
    "duration": 8,
    "start_time": "2022-08-31T13:40:41.455Z"
   },
   {
    "duration": 35,
    "start_time": "2022-08-31T13:40:44.975Z"
   },
   {
    "duration": 25,
    "start_time": "2022-08-31T13:40:48.270Z"
   },
   {
    "duration": 29,
    "start_time": "2022-08-31T13:40:52.576Z"
   },
   {
    "duration": 21,
    "start_time": "2022-08-31T13:40:57.102Z"
   },
   {
    "duration": 20,
    "start_time": "2022-08-31T13:41:03.142Z"
   },
   {
    "duration": 6,
    "start_time": "2022-08-31T13:41:07.477Z"
   },
   {
    "duration": 16,
    "start_time": "2022-08-31T13:41:14.349Z"
   },
   {
    "duration": 5,
    "start_time": "2022-08-31T13:41:18.086Z"
   },
   {
    "duration": 11,
    "start_time": "2022-08-31T13:41:24.672Z"
   },
   {
    "duration": 8,
    "start_time": "2022-08-31T13:41:27.341Z"
   },
   {
    "duration": 6,
    "start_time": "2022-08-31T13:41:33.054Z"
   },
   {
    "duration": 24,
    "start_time": "2022-08-31T13:41:37.399Z"
   },
   {
    "duration": 8,
    "start_time": "2022-08-31T13:42:09.533Z"
   },
   {
    "duration": 3,
    "start_time": "2022-08-31T13:42:37.479Z"
   },
   {
    "duration": 13,
    "start_time": "2022-08-31T13:43:19.600Z"
   },
   {
    "duration": 21,
    "start_time": "2022-08-31T14:53:31.866Z"
   },
   {
    "duration": 3,
    "start_time": "2022-08-31T14:53:36.120Z"
   },
   {
    "duration": 178,
    "start_time": "2022-08-31T14:53:36.125Z"
   },
   {
    "duration": 9,
    "start_time": "2022-08-31T14:53:36.305Z"
   },
   {
    "duration": 24,
    "start_time": "2022-08-31T14:53:36.316Z"
   },
   {
    "duration": 217,
    "start_time": "2022-08-31T14:53:36.342Z"
   },
   {
    "duration": 159,
    "start_time": "2022-08-31T14:53:36.561Z"
   },
   {
    "duration": 12,
    "start_time": "2022-08-31T14:53:36.723Z"
   },
   {
    "duration": 40,
    "start_time": "2022-08-31T14:53:36.737Z"
   },
   {
    "duration": 214,
    "start_time": "2022-08-31T14:53:36.780Z"
   },
   {
    "duration": 88,
    "start_time": "2022-08-31T14:53:36.996Z"
   },
   {
    "duration": 7,
    "start_time": "2022-08-31T14:53:37.087Z"
   },
   {
    "duration": 19,
    "start_time": "2022-08-31T14:53:37.096Z"
   },
   {
    "duration": 16,
    "start_time": "2022-08-31T14:53:37.117Z"
   },
   {
    "duration": 9,
    "start_time": "2022-08-31T14:53:37.135Z"
   },
   {
    "duration": 27,
    "start_time": "2022-08-31T14:53:37.145Z"
   },
   {
    "duration": 47,
    "start_time": "2022-08-31T14:53:37.174Z"
   },
   {
    "duration": 9,
    "start_time": "2022-08-31T14:53:37.223Z"
   },
   {
    "duration": 14,
    "start_time": "2022-08-31T14:53:37.233Z"
   },
   {
    "duration": 78,
    "start_time": "2022-08-31T14:53:37.249Z"
   },
   {
    "duration": 5,
    "start_time": "2022-08-31T14:53:37.329Z"
   },
   {
    "duration": 8,
    "start_time": "2022-08-31T14:53:37.336Z"
   },
   {
    "duration": 51,
    "start_time": "2022-08-31T14:53:37.345Z"
   },
   {
    "duration": 101,
    "start_time": "2022-08-31T14:53:37.398Z"
   },
   {
    "duration": 34,
    "start_time": "2022-08-31T14:53:37.502Z"
   },
   {
    "duration": 20,
    "start_time": "2022-08-31T14:53:37.538Z"
   },
   {
    "duration": 15,
    "start_time": "2022-08-31T14:53:37.568Z"
   },
   {
    "duration": 19,
    "start_time": "2022-08-31T14:53:37.586Z"
   },
   {
    "duration": 6,
    "start_time": "2022-08-31T14:53:37.607Z"
   },
   {
    "duration": 15,
    "start_time": "2022-08-31T14:53:37.616Z"
   },
   {
    "duration": 5,
    "start_time": "2022-08-31T14:53:37.632Z"
   },
   {
    "duration": 39,
    "start_time": "2022-08-31T14:53:37.639Z"
   },
   {
    "duration": 9,
    "start_time": "2022-08-31T14:53:37.680Z"
   },
   {
    "duration": 8,
    "start_time": "2022-08-31T14:53:37.691Z"
   },
   {
    "duration": 15,
    "start_time": "2022-08-31T14:53:37.700Z"
   },
   {
    "duration": 26,
    "start_time": "2022-08-31T14:53:47.849Z"
   },
   {
    "duration": 16,
    "start_time": "2022-08-31T14:54:42.130Z"
   },
   {
    "duration": 40,
    "start_time": "2022-08-31T14:55:00.049Z"
   },
   {
    "duration": 9,
    "start_time": "2022-08-31T14:55:07.182Z"
   },
   {
    "duration": 1420,
    "start_time": "2022-08-31T14:55:11.561Z"
   },
   {
    "duration": 60,
    "start_time": "2022-08-31T17:37:25.389Z"
   },
   {
    "duration": 581,
    "start_time": "2022-08-31T17:37:41.058Z"
   },
   {
    "duration": 39,
    "start_time": "2022-08-31T17:37:45.650Z"
   },
   {
    "duration": 220,
    "start_time": "2022-08-31T17:37:55.317Z"
   },
   {
    "duration": 227,
    "start_time": "2022-08-31T17:37:55.539Z"
   },
   {
    "duration": 16,
    "start_time": "2022-08-31T17:37:55.767Z"
   },
   {
    "duration": 29,
    "start_time": "2022-08-31T17:37:55.785Z"
   },
   {
    "duration": 587,
    "start_time": "2022-08-31T17:37:55.815Z"
   },
   {
    "duration": 325,
    "start_time": "2022-08-31T17:37:56.404Z"
   },
   {
    "duration": 10,
    "start_time": "2022-08-31T17:37:56.731Z"
   },
   {
    "duration": 28,
    "start_time": "2022-08-31T17:37:56.743Z"
   },
   {
    "duration": 178,
    "start_time": "2022-08-31T17:37:56.773Z"
   },
   {
    "duration": 321,
    "start_time": "2022-08-31T17:37:56.953Z"
   },
   {
    "duration": 8,
    "start_time": "2022-08-31T17:37:57.276Z"
   },
   {
    "duration": 22,
    "start_time": "2022-08-31T17:37:57.286Z"
   },
   {
    "duration": 56,
    "start_time": "2022-08-31T17:37:57.310Z"
   },
   {
    "duration": 9,
    "start_time": "2022-08-31T17:37:57.368Z"
   },
   {
    "duration": 17,
    "start_time": "2022-08-31T17:37:57.379Z"
   },
   {
    "duration": 58,
    "start_time": "2022-08-31T17:37:57.398Z"
   },
   {
    "duration": 10,
    "start_time": "2022-08-31T17:37:57.458Z"
   },
   {
    "duration": 15,
    "start_time": "2022-08-31T17:37:57.469Z"
   },
   {
    "duration": 92,
    "start_time": "2022-08-31T17:37:57.486Z"
   },
   {
    "duration": 7,
    "start_time": "2022-08-31T17:37:57.580Z"
   },
   {
    "duration": 14,
    "start_time": "2022-08-31T17:37:57.589Z"
   },
   {
    "duration": 42,
    "start_time": "2022-08-31T17:37:57.605Z"
   },
   {
    "duration": 25,
    "start_time": "2022-08-31T17:37:57.649Z"
   },
   {
    "duration": 39,
    "start_time": "2022-08-31T17:37:57.676Z"
   },
   {
    "duration": 24,
    "start_time": "2022-08-31T17:37:57.717Z"
   },
   {
    "duration": 5,
    "start_time": "2022-08-31T17:37:57.743Z"
   },
   {
    "duration": 26,
    "start_time": "2022-08-31T17:37:57.750Z"
   },
   {
    "duration": 6,
    "start_time": "2022-08-31T17:37:57.803Z"
   },
   {
    "duration": 19,
    "start_time": "2022-08-31T17:37:57.811Z"
   },
   {
    "duration": 5,
    "start_time": "2022-08-31T17:37:57.832Z"
   },
   {
    "duration": 21,
    "start_time": "2022-08-31T17:37:57.839Z"
   },
   {
    "duration": 6,
    "start_time": "2022-08-31T17:37:57.861Z"
   },
   {
    "duration": 35,
    "start_time": "2022-08-31T17:37:57.869Z"
   },
   {
    "duration": 48,
    "start_time": "2022-08-31T17:37:57.906Z"
   },
   {
    "duration": 7,
    "start_time": "2022-08-31T17:37:57.956Z"
   },
   {
    "duration": 805,
    "start_time": "2022-08-31T17:37:57.965Z"
   },
   {
    "duration": 0,
    "start_time": "2022-08-31T17:37:58.772Z"
   },
   {
    "duration": 1,
    "start_time": "2022-08-31T17:37:58.772Z"
   },
   {
    "duration": 0,
    "start_time": "2022-08-31T17:37:58.774Z"
   },
   {
    "duration": 0,
    "start_time": "2022-08-31T17:37:58.775Z"
   },
   {
    "duration": 0,
    "start_time": "2022-08-31T17:37:58.776Z"
   },
   {
    "duration": 0,
    "start_time": "2022-08-31T17:37:58.777Z"
   },
   {
    "duration": 0,
    "start_time": "2022-08-31T17:37:58.778Z"
   },
   {
    "duration": 0,
    "start_time": "2022-08-31T17:37:58.779Z"
   },
   {
    "duration": 0,
    "start_time": "2022-08-31T17:37:58.780Z"
   },
   {
    "duration": 0,
    "start_time": "2022-08-31T17:37:58.781Z"
   },
   {
    "duration": 0,
    "start_time": "2022-08-31T17:37:58.782Z"
   },
   {
    "duration": 0,
    "start_time": "2022-08-31T17:37:58.783Z"
   },
   {
    "duration": 0,
    "start_time": "2022-08-31T17:37:58.784Z"
   },
   {
    "duration": 0,
    "start_time": "2022-08-31T17:37:58.785Z"
   },
   {
    "duration": 0,
    "start_time": "2022-08-31T17:37:58.786Z"
   },
   {
    "duration": 0,
    "start_time": "2022-08-31T17:37:58.787Z"
   },
   {
    "duration": 759,
    "start_time": "2022-08-31T17:39:32.026Z"
   },
   {
    "duration": 1201,
    "start_time": "2022-08-31T18:37:05.096Z"
   },
   {
    "duration": 3,
    "start_time": "2022-08-31T23:01:23.787Z"
   },
   {
    "duration": 179,
    "start_time": "2022-08-31T23:01:23.792Z"
   },
   {
    "duration": 8,
    "start_time": "2022-08-31T23:01:23.973Z"
   },
   {
    "duration": 36,
    "start_time": "2022-08-31T23:01:23.983Z"
   },
   {
    "duration": 169,
    "start_time": "2022-08-31T23:01:24.022Z"
   },
   {
    "duration": 127,
    "start_time": "2022-08-31T23:01:24.193Z"
   },
   {
    "duration": 10,
    "start_time": "2022-08-31T23:01:24.322Z"
   },
   {
    "duration": 22,
    "start_time": "2022-08-31T23:01:24.334Z"
   },
   {
    "duration": 238,
    "start_time": "2022-08-31T23:01:24.358Z"
   },
   {
    "duration": 92,
    "start_time": "2022-08-31T23:01:24.598Z"
   },
   {
    "duration": 7,
    "start_time": "2022-08-31T23:01:24.694Z"
   },
   {
    "duration": 24,
    "start_time": "2022-08-31T23:01:24.703Z"
   },
   {
    "duration": 15,
    "start_time": "2022-08-31T23:01:24.729Z"
   },
   {
    "duration": 8,
    "start_time": "2022-08-31T23:01:24.746Z"
   },
   {
    "duration": 12,
    "start_time": "2022-08-31T23:01:24.756Z"
   },
   {
    "duration": 29,
    "start_time": "2022-08-31T23:01:24.770Z"
   },
   {
    "duration": 8,
    "start_time": "2022-08-31T23:01:24.800Z"
   },
   {
    "duration": 12,
    "start_time": "2022-08-31T23:01:24.810Z"
   },
   {
    "duration": 91,
    "start_time": "2022-08-31T23:01:24.823Z"
   },
   {
    "duration": 5,
    "start_time": "2022-08-31T23:01:24.916Z"
   },
   {
    "duration": 9,
    "start_time": "2022-08-31T23:01:24.923Z"
   },
   {
    "duration": 41,
    "start_time": "2022-08-31T23:01:24.933Z"
   },
   {
    "duration": 43,
    "start_time": "2022-08-31T23:01:24.976Z"
   },
   {
    "duration": 30,
    "start_time": "2022-08-31T23:01:25.021Z"
   },
   {
    "duration": 18,
    "start_time": "2022-08-31T23:01:25.053Z"
   },
   {
    "duration": 5,
    "start_time": "2022-08-31T23:01:25.073Z"
   },
   {
    "duration": 41,
    "start_time": "2022-08-31T23:01:25.079Z"
   },
   {
    "duration": 5,
    "start_time": "2022-08-31T23:01:25.122Z"
   },
   {
    "duration": 17,
    "start_time": "2022-08-31T23:01:25.130Z"
   },
   {
    "duration": 4,
    "start_time": "2022-08-31T23:01:25.149Z"
   },
   {
    "duration": 14,
    "start_time": "2022-08-31T23:01:25.155Z"
   },
   {
    "duration": 34,
    "start_time": "2022-08-31T23:01:25.171Z"
   },
   {
    "duration": 8,
    "start_time": "2022-08-31T23:01:25.206Z"
   },
   {
    "duration": 36,
    "start_time": "2022-08-31T23:01:25.215Z"
   },
   {
    "duration": 8,
    "start_time": "2022-08-31T23:01:25.253Z"
   },
   {
    "duration": 853,
    "start_time": "2022-08-31T23:01:40.143Z"
   },
   {
    "duration": 380,
    "start_time": "2022-09-01T07:36:38.331Z"
   },
   {
    "duration": 239,
    "start_time": "2022-09-01T07:36:43.006Z"
   },
   {
    "duration": 15,
    "start_time": "2022-09-01T07:37:21.737Z"
   },
   {
    "duration": 26,
    "start_time": "2022-09-01T07:37:28.255Z"
   },
   {
    "duration": 536,
    "start_time": "2022-09-01T07:37:44.527Z"
   },
   {
    "duration": 332,
    "start_time": "2022-09-01T07:37:57.880Z"
   },
   {
    "duration": 9,
    "start_time": "2022-09-01T07:38:04.759Z"
   },
   {
    "duration": 20,
    "start_time": "2022-09-01T07:38:11.199Z"
   },
   {
    "duration": 135,
    "start_time": "2022-09-01T07:38:18.887Z"
   },
   {
    "duration": 328,
    "start_time": "2022-09-01T07:38:26.390Z"
   },
   {
    "duration": 7,
    "start_time": "2022-09-01T07:38:34.607Z"
   },
   {
    "duration": 19,
    "start_time": "2022-09-01T07:38:38.632Z"
   },
   {
    "duration": 19,
    "start_time": "2022-09-01T07:39:31.583Z"
   },
   {
    "duration": 73,
    "start_time": "2022-09-01T07:39:35.191Z"
   },
   {
    "duration": 27,
    "start_time": "2022-09-01T07:39:41.751Z"
   },
   {
    "duration": 13,
    "start_time": "2022-09-01T07:39:48.178Z"
   },
   {
    "duration": 10,
    "start_time": "2022-09-01T07:39:54.223Z"
   },
   {
    "duration": 87,
    "start_time": "2022-09-01T07:39:59.671Z"
   },
   {
    "duration": 7,
    "start_time": "2022-09-01T07:40:05.183Z"
   },
   {
    "duration": 14,
    "start_time": "2022-09-01T07:40:17.274Z"
   },
   {
    "duration": 84,
    "start_time": "2022-09-01T07:40:47.601Z"
   },
   {
    "duration": 8,
    "start_time": "2022-09-01T07:41:46.173Z"
   },
   {
    "duration": 9,
    "start_time": "2022-09-01T07:42:06.409Z"
   },
   {
    "duration": 32,
    "start_time": "2022-09-01T07:42:34.233Z"
   },
   {
    "duration": 73,
    "start_time": "2022-09-01T07:42:38.910Z"
   },
   {
    "duration": 26,
    "start_time": "2022-09-01T07:42:44.391Z"
   },
   {
    "duration": 25,
    "start_time": "2022-09-01T07:43:10.632Z"
   },
   {
    "duration": 24,
    "start_time": "2022-09-01T07:43:20.440Z"
   },
   {
    "duration": 15,
    "start_time": "2022-09-01T07:43:29.925Z"
   },
   {
    "duration": 14,
    "start_time": "2022-09-01T07:43:41.937Z"
   },
   {
    "duration": 5,
    "start_time": "2022-09-01T07:43:54.632Z"
   },
   {
    "duration": 85,
    "start_time": "2022-09-01T07:44:02.112Z"
   },
   {
    "duration": 22,
    "start_time": "2022-09-01T07:44:43.195Z"
   },
   {
    "duration": 35,
    "start_time": "2022-09-01T07:44:53.266Z"
   },
   {
    "duration": 7,
    "start_time": "2022-09-01T07:45:41.201Z"
   },
   {
    "duration": 47,
    "start_time": "2022-09-01T07:47:15.548Z"
   },
   {
    "duration": 9,
    "start_time": "2022-09-01T07:47:32.422Z"
   },
   {
    "duration": 5,
    "start_time": "2022-09-01T07:50:34.652Z"
   },
   {
    "duration": 34,
    "start_time": "2022-09-01T07:50:49.267Z"
   },
   {
    "duration": 55,
    "start_time": "2022-09-01T07:54:54.540Z"
   },
   {
    "duration": 7,
    "start_time": "2022-09-01T07:55:29.625Z"
   },
   {
    "duration": 10,
    "start_time": "2022-09-01T07:56:30.195Z"
   },
   {
    "duration": 15,
    "start_time": "2022-09-01T08:00:48.229Z"
   },
   {
    "duration": 25,
    "start_time": "2022-09-01T08:01:07.779Z"
   },
   {
    "duration": 24,
    "start_time": "2022-09-01T08:01:29.579Z"
   },
   {
    "duration": 6,
    "start_time": "2022-09-01T08:01:33.692Z"
   },
   {
    "duration": 25,
    "start_time": "2022-09-01T08:04:06.683Z"
   },
   {
    "duration": 5,
    "start_time": "2022-09-01T08:04:17.709Z"
   },
   {
    "duration": 8,
    "start_time": "2022-09-01T08:08:35.363Z"
   },
   {
    "duration": 26,
    "start_time": "2022-09-01T08:09:36.804Z"
   },
   {
    "duration": 51,
    "start_time": "2022-09-01T08:10:48.541Z"
   },
   {
    "duration": 103,
    "start_time": "2022-09-01T08:12:10.803Z"
   },
   {
    "duration": 30,
    "start_time": "2022-09-01T08:13:04.901Z"
   },
   {
    "duration": 7,
    "start_time": "2022-09-01T08:19:01.870Z"
   },
   {
    "duration": 132,
    "start_time": "2022-09-01T08:20:05.686Z"
   },
   {
    "duration": 30,
    "start_time": "2022-09-01T08:20:42.614Z"
   },
   {
    "duration": 8,
    "start_time": "2022-09-01T08:21:24.254Z"
   },
   {
    "duration": 1104,
    "start_time": "2022-09-01T08:22:16.394Z"
   },
   {
    "duration": 1100,
    "start_time": "2022-09-01T08:22:42.399Z"
   },
   {
    "duration": 115,
    "start_time": "2022-09-01T08:23:38.631Z"
   },
   {
    "duration": 30,
    "start_time": "2022-09-01T08:24:20.010Z"
   },
   {
    "duration": 1640,
    "start_time": "2022-09-01T08:24:36.575Z"
   },
   {
    "duration": 13,
    "start_time": "2022-09-01T09:27:14.337Z"
   },
   {
    "duration": 16,
    "start_time": "2022-09-01T09:27:55.228Z"
   },
   {
    "duration": 25,
    "start_time": "2022-09-01T09:28:09.282Z"
   },
   {
    "duration": 22,
    "start_time": "2022-09-01T09:28:42.133Z"
   },
   {
    "duration": 32,
    "start_time": "2022-09-01T09:28:58.812Z"
   },
   {
    "duration": 7,
    "start_time": "2022-09-01T09:34:03.637Z"
   },
   {
    "duration": 27,
    "start_time": "2022-09-01T09:34:38.788Z"
   },
   {
    "duration": 35,
    "start_time": "2022-09-01T09:35:11.092Z"
   },
   {
    "duration": 25,
    "start_time": "2022-09-01T09:35:17.708Z"
   },
   {
    "duration": 5,
    "start_time": "2022-09-01T09:35:24.357Z"
   },
   {
    "duration": 31,
    "start_time": "2022-09-01T09:35:56.288Z"
   },
   {
    "duration": 8,
    "start_time": "2022-09-01T09:36:07.107Z"
   },
   {
    "duration": 6,
    "start_time": "2022-09-01T09:36:10.189Z"
   },
   {
    "duration": 4,
    "start_time": "2022-09-01T09:36:14.396Z"
   },
   {
    "duration": 8,
    "start_time": "2022-09-01T09:36:17.885Z"
   },
   {
    "duration": 10,
    "start_time": "2022-09-01T09:36:22.478Z"
   },
   {
    "duration": 5,
    "start_time": "2022-09-01T09:36:25.461Z"
   },
   {
    "duration": 6,
    "start_time": "2022-09-01T09:36:28.333Z"
   },
   {
    "duration": 5,
    "start_time": "2022-09-01T09:36:31.138Z"
   },
   {
    "duration": 38,
    "start_time": "2022-09-01T09:36:34.190Z"
   },
   {
    "duration": 547,
    "start_time": "2022-09-01T09:37:13.403Z"
   },
   {
    "duration": 6,
    "start_time": "2022-09-01T09:41:05.901Z"
   },
   {
    "duration": 2,
    "start_time": "2022-09-01T09:41:13.326Z"
   },
   {
    "duration": 162,
    "start_time": "2022-09-01T09:41:13.330Z"
   },
   {
    "duration": 8,
    "start_time": "2022-09-01T09:41:13.494Z"
   },
   {
    "duration": 30,
    "start_time": "2022-09-01T09:41:13.503Z"
   },
   {
    "duration": 146,
    "start_time": "2022-09-01T09:41:13.534Z"
   },
   {
    "duration": 125,
    "start_time": "2022-09-01T09:41:13.682Z"
   },
   {
    "duration": 8,
    "start_time": "2022-09-01T09:41:13.809Z"
   },
   {
    "duration": 26,
    "start_time": "2022-09-01T09:41:13.818Z"
   },
   {
    "duration": 145,
    "start_time": "2022-09-01T09:41:13.845Z"
   },
   {
    "duration": 89,
    "start_time": "2022-09-01T09:41:13.992Z"
   },
   {
    "duration": 8,
    "start_time": "2022-09-01T09:41:14.084Z"
   },
   {
    "duration": 28,
    "start_time": "2022-09-01T09:41:14.093Z"
   },
   {
    "duration": 16,
    "start_time": "2022-09-01T09:41:14.122Z"
   },
   {
    "duration": 7,
    "start_time": "2022-09-01T09:41:14.139Z"
   },
   {
    "duration": 14,
    "start_time": "2022-09-01T09:41:14.147Z"
   },
   {
    "duration": 34,
    "start_time": "2022-09-01T09:41:14.162Z"
   },
   {
    "duration": 6,
    "start_time": "2022-09-01T09:41:14.198Z"
   },
   {
    "duration": 13,
    "start_time": "2022-09-01T09:41:14.206Z"
   },
   {
    "duration": 69,
    "start_time": "2022-09-01T09:41:14.221Z"
   },
   {
    "duration": 6,
    "start_time": "2022-09-01T09:41:14.291Z"
   },
   {
    "duration": 19,
    "start_time": "2022-09-01T09:41:14.299Z"
   },
   {
    "duration": 35,
    "start_time": "2022-09-01T09:41:14.320Z"
   },
   {
    "duration": 24,
    "start_time": "2022-09-01T09:41:14.357Z"
   },
   {
    "duration": 42,
    "start_time": "2022-09-01T09:41:14.382Z"
   },
   {
    "duration": 18,
    "start_time": "2022-09-01T09:41:14.425Z"
   },
   {
    "duration": 5,
    "start_time": "2022-09-01T09:41:14.445Z"
   },
   {
    "duration": 32,
    "start_time": "2022-09-01T09:41:14.452Z"
   },
   {
    "duration": 4,
    "start_time": "2022-09-01T09:41:14.486Z"
   },
   {
    "duration": 24,
    "start_time": "2022-09-01T09:41:14.493Z"
   },
   {
    "duration": 10,
    "start_time": "2022-09-01T09:41:14.519Z"
   },
   {
    "duration": 20,
    "start_time": "2022-09-01T09:41:14.530Z"
   },
   {
    "duration": 5,
    "start_time": "2022-09-01T09:41:14.551Z"
   },
   {
    "duration": 21,
    "start_time": "2022-09-01T09:41:14.558Z"
   },
   {
    "duration": 40,
    "start_time": "2022-09-01T09:41:14.580Z"
   },
   {
    "duration": 8,
    "start_time": "2022-09-01T09:41:14.622Z"
   },
   {
    "duration": 7,
    "start_time": "2022-09-01T09:41:14.631Z"
   },
   {
    "duration": 4,
    "start_time": "2022-09-01T09:42:05.592Z"
   },
   {
    "duration": 176,
    "start_time": "2022-09-01T09:42:05.598Z"
   },
   {
    "duration": 9,
    "start_time": "2022-09-01T09:42:05.776Z"
   },
   {
    "duration": 39,
    "start_time": "2022-09-01T09:42:05.788Z"
   },
   {
    "duration": 170,
    "start_time": "2022-09-01T09:42:05.829Z"
   },
   {
    "duration": 137,
    "start_time": "2022-09-01T09:42:06.001Z"
   },
   {
    "duration": 9,
    "start_time": "2022-09-01T09:42:06.140Z"
   },
   {
    "duration": 24,
    "start_time": "2022-09-01T09:42:06.151Z"
   },
   {
    "duration": 225,
    "start_time": "2022-09-01T09:42:06.177Z"
   },
   {
    "duration": 89,
    "start_time": "2022-09-01T09:42:06.403Z"
   },
   {
    "duration": 9,
    "start_time": "2022-09-01T09:42:06.494Z"
   },
   {
    "duration": 20,
    "start_time": "2022-09-01T09:42:06.505Z"
   },
   {
    "duration": 16,
    "start_time": "2022-09-01T09:42:06.527Z"
   },
   {
    "duration": 8,
    "start_time": "2022-09-01T09:42:06.545Z"
   },
   {
    "duration": 13,
    "start_time": "2022-09-01T09:42:06.555Z"
   },
   {
    "duration": 32,
    "start_time": "2022-09-01T09:42:06.570Z"
   },
   {
    "duration": 8,
    "start_time": "2022-09-01T09:42:06.603Z"
   },
   {
    "duration": 12,
    "start_time": "2022-09-01T09:42:06.613Z"
   },
   {
    "duration": 83,
    "start_time": "2022-09-01T09:42:06.626Z"
   },
   {
    "duration": 6,
    "start_time": "2022-09-01T09:42:06.711Z"
   },
   {
    "duration": 17,
    "start_time": "2022-09-01T09:42:06.718Z"
   },
   {
    "duration": 41,
    "start_time": "2022-09-01T09:42:06.737Z"
   },
   {
    "duration": 33,
    "start_time": "2022-09-01T09:42:06.780Z"
   },
   {
    "duration": 28,
    "start_time": "2022-09-01T09:42:06.817Z"
   },
   {
    "duration": 17,
    "start_time": "2022-09-01T09:42:06.847Z"
   },
   {
    "duration": 5,
    "start_time": "2022-09-01T09:42:06.866Z"
   },
   {
    "duration": 41,
    "start_time": "2022-09-01T09:42:06.872Z"
   },
   {
    "duration": 5,
    "start_time": "2022-09-01T09:42:06.915Z"
   },
   {
    "duration": 32,
    "start_time": "2022-09-01T09:42:06.922Z"
   },
   {
    "duration": 5,
    "start_time": "2022-09-01T09:42:06.955Z"
   },
   {
    "duration": 19,
    "start_time": "2022-09-01T09:42:06.961Z"
   },
   {
    "duration": 9,
    "start_time": "2022-09-01T09:42:06.982Z"
   },
   {
    "duration": 4,
    "start_time": "2022-09-01T09:42:34.751Z"
   },
   {
    "duration": 34,
    "start_time": "2022-09-01T09:42:39.256Z"
   },
   {
    "duration": 7,
    "start_time": "2022-09-01T09:42:49.454Z"
   },
   {
    "duration": 7,
    "start_time": "2022-09-01T09:42:57.327Z"
   },
   {
    "duration": 3,
    "start_time": "2022-09-01T09:43:02.998Z"
   },
   {
    "duration": 10,
    "start_time": "2022-09-01T09:43:07.102Z"
   },
   {
    "duration": 11,
    "start_time": "2022-09-01T09:43:10.217Z"
   },
   {
    "duration": 5,
    "start_time": "2022-09-01T09:43:15.149Z"
   },
   {
    "duration": 6,
    "start_time": "2022-09-01T09:43:19.081Z"
   },
   {
    "duration": 6,
    "start_time": "2022-09-01T09:43:22.982Z"
   },
   {
    "duration": 52,
    "start_time": "2022-09-01T09:43:27.237Z"
   },
   {
    "duration": 65,
    "start_time": "2022-09-01T10:00:23.021Z"
   },
   {
    "duration": 29,
    "start_time": "2022-09-01T10:00:48.891Z"
   },
   {
    "duration": 8,
    "start_time": "2022-09-01T10:01:28.434Z"
   },
   {
    "duration": 5,
    "start_time": "2022-09-01T10:01:31.907Z"
   },
   {
    "duration": 4,
    "start_time": "2022-09-01T10:01:35.890Z"
   },
   {
    "duration": 859,
    "start_time": "2022-09-01T10:01:39.370Z"
   },
   {
    "duration": 28,
    "start_time": "2022-09-01T10:03:12.499Z"
   },
   {
    "duration": 7,
    "start_time": "2022-09-01T10:03:20.611Z"
   },
   {
    "duration": 6,
    "start_time": "2022-09-01T10:03:23.627Z"
   },
   {
    "duration": 4,
    "start_time": "2022-09-01T10:03:27.210Z"
   },
   {
    "duration": 1201,
    "start_time": "2022-09-01T10:03:31.382Z"
   },
   {
    "duration": 5,
    "start_time": "2022-09-01T10:03:56.767Z"
   },
   {
    "duration": 3,
    "start_time": "2022-09-01T12:07:19.409Z"
   },
   {
    "duration": 157,
    "start_time": "2022-09-01T12:07:19.414Z"
   },
   {
    "duration": 9,
    "start_time": "2022-09-01T12:07:19.573Z"
   },
   {
    "duration": 46,
    "start_time": "2022-09-01T12:07:19.583Z"
   },
   {
    "duration": 171,
    "start_time": "2022-09-01T12:07:19.632Z"
   },
   {
    "duration": 127,
    "start_time": "2022-09-01T12:07:19.808Z"
   },
   {
    "duration": 10,
    "start_time": "2022-09-01T12:07:19.937Z"
   },
   {
    "duration": 22,
    "start_time": "2022-09-01T12:07:19.949Z"
   },
   {
    "duration": 171,
    "start_time": "2022-09-01T12:07:19.972Z"
   },
   {
    "duration": 89,
    "start_time": "2022-09-01T12:07:20.144Z"
   },
   {
    "duration": 9,
    "start_time": "2022-09-01T12:07:20.235Z"
   },
   {
    "duration": 24,
    "start_time": "2022-09-01T12:07:20.246Z"
   },
   {
    "duration": 22,
    "start_time": "2022-09-01T12:07:20.271Z"
   },
   {
    "duration": 8,
    "start_time": "2022-09-01T12:07:20.311Z"
   },
   {
    "duration": 16,
    "start_time": "2022-09-01T12:07:20.320Z"
   },
   {
    "duration": 32,
    "start_time": "2022-09-01T12:07:20.338Z"
   },
   {
    "duration": 8,
    "start_time": "2022-09-01T12:07:20.372Z"
   },
   {
    "duration": 40,
    "start_time": "2022-09-01T12:07:20.381Z"
   },
   {
    "duration": 74,
    "start_time": "2022-09-01T12:07:20.423Z"
   },
   {
    "duration": 13,
    "start_time": "2022-09-01T12:07:20.499Z"
   },
   {
    "duration": 25,
    "start_time": "2022-09-01T12:07:20.513Z"
   },
   {
    "duration": 39,
    "start_time": "2022-09-01T12:07:20.540Z"
   },
   {
    "duration": 138,
    "start_time": "2022-09-01T12:07:20.581Z"
   },
   {
    "duration": 25,
    "start_time": "2022-09-01T12:07:20.721Z"
   },
   {
    "duration": 20,
    "start_time": "2022-09-01T12:07:20.747Z"
   },
   {
    "duration": 5,
    "start_time": "2022-09-01T12:07:20.769Z"
   },
   {
    "duration": 46,
    "start_time": "2022-09-01T12:07:20.776Z"
   },
   {
    "duration": 6,
    "start_time": "2022-09-01T12:07:20.824Z"
   },
   {
    "duration": 23,
    "start_time": "2022-09-01T12:07:20.831Z"
   },
   {
    "duration": 5,
    "start_time": "2022-09-01T12:07:20.856Z"
   },
   {
    "duration": 15,
    "start_time": "2022-09-01T12:07:20.863Z"
   },
   {
    "duration": 7,
    "start_time": "2022-09-01T12:07:20.908Z"
   },
   {
    "duration": 8,
    "start_time": "2022-09-01T12:07:20.917Z"
   },
   {
    "duration": 49,
    "start_time": "2022-09-01T12:07:20.927Z"
   },
   {
    "duration": 7,
    "start_time": "2022-09-01T12:07:20.978Z"
   },
   {
    "duration": 27,
    "start_time": "2022-09-01T12:07:20.987Z"
   },
   {
    "duration": 8,
    "start_time": "2022-09-01T12:07:21.016Z"
   },
   {
    "duration": 21,
    "start_time": "2022-09-01T12:07:21.026Z"
   },
   {
    "duration": 14,
    "start_time": "2022-09-01T12:07:21.049Z"
   },
   {
    "duration": 19,
    "start_time": "2022-09-01T12:07:21.064Z"
   },
   {
    "duration": 16,
    "start_time": "2022-09-01T12:07:21.087Z"
   },
   {
    "duration": 14,
    "start_time": "2022-09-01T12:07:21.105Z"
   },
   {
    "duration": 45,
    "start_time": "2022-09-01T12:07:21.120Z"
   },
   {
    "duration": 0,
    "start_time": "2022-09-01T12:07:21.166Z"
   },
   {
    "duration": 0,
    "start_time": "2022-09-01T12:07:21.167Z"
   },
   {
    "duration": 0,
    "start_time": "2022-09-01T12:07:21.169Z"
   },
   {
    "duration": 0,
    "start_time": "2022-09-01T12:07:21.170Z"
   },
   {
    "duration": 0,
    "start_time": "2022-09-01T12:07:21.171Z"
   },
   {
    "duration": 0,
    "start_time": "2022-09-01T12:07:21.172Z"
   },
   {
    "duration": 0,
    "start_time": "2022-09-01T12:07:21.173Z"
   },
   {
    "duration": 0,
    "start_time": "2022-09-01T12:07:21.174Z"
   },
   {
    "duration": 41,
    "start_time": "2022-09-01T12:09:29.313Z"
   },
   {
    "duration": 297,
    "start_time": "2022-09-01T12:09:37.637Z"
   },
   {
    "duration": 231,
    "start_time": "2022-09-01T12:09:41.718Z"
   },
   {
    "duration": 294,
    "start_time": "2022-09-01T12:09:45.575Z"
   },
   {
    "duration": 192,
    "start_time": "2022-09-01T12:09:50.545Z"
   },
   {
    "duration": 241,
    "start_time": "2022-09-01T12:09:53.950Z"
   },
   {
    "duration": 388,
    "start_time": "2022-09-01T12:09:58.612Z"
   },
   {
    "duration": 222,
    "start_time": "2022-09-01T12:10:02.517Z"
   },
   {
    "duration": 15,
    "start_time": "2022-09-01T12:10:11.902Z"
   },
   {
    "duration": 2,
    "start_time": "2022-09-01T12:10:18.879Z"
   },
   {
    "duration": 9,
    "start_time": "2022-09-01T12:10:25.341Z"
   },
   {
    "duration": 409,
    "start_time": "2022-09-01T12:11:12.201Z"
   },
   {
    "duration": 160,
    "start_time": "2022-09-01T12:11:12.611Z"
   },
   {
    "duration": 14,
    "start_time": "2022-09-01T12:11:12.773Z"
   },
   {
    "duration": 40,
    "start_time": "2022-09-01T12:11:12.789Z"
   },
   {
    "duration": 363,
    "start_time": "2022-09-01T12:11:12.831Z"
   },
   {
    "duration": 131,
    "start_time": "2022-09-01T12:11:13.196Z"
   },
   {
    "duration": 9,
    "start_time": "2022-09-01T12:11:13.329Z"
   },
   {
    "duration": 25,
    "start_time": "2022-09-01T12:11:13.340Z"
   },
   {
    "duration": 181,
    "start_time": "2022-09-01T12:11:13.366Z"
   },
   {
    "duration": 100,
    "start_time": "2022-09-01T12:11:13.550Z"
   },
   {
    "duration": 8,
    "start_time": "2022-09-01T12:11:13.652Z"
   },
   {
    "duration": 26,
    "start_time": "2022-09-01T12:11:13.661Z"
   },
   {
    "duration": 35,
    "start_time": "2022-09-01T12:11:13.688Z"
   },
   {
    "duration": 8,
    "start_time": "2022-09-01T12:11:13.725Z"
   },
   {
    "duration": 22,
    "start_time": "2022-09-01T12:11:13.734Z"
   },
   {
    "duration": 40,
    "start_time": "2022-09-01T12:11:13.757Z"
   },
   {
    "duration": 8,
    "start_time": "2022-09-01T12:11:13.798Z"
   },
   {
    "duration": 16,
    "start_time": "2022-09-01T12:11:13.808Z"
   },
   {
    "duration": 86,
    "start_time": "2022-09-01T12:11:13.826Z"
   },
   {
    "duration": 7,
    "start_time": "2022-09-01T12:11:13.913Z"
   },
   {
    "duration": 13,
    "start_time": "2022-09-01T12:11:13.922Z"
   },
   {
    "duration": 35,
    "start_time": "2022-09-01T12:11:13.937Z"
   },
   {
    "duration": 47,
    "start_time": "2022-09-01T12:11:13.974Z"
   },
   {
    "duration": 86,
    "start_time": "2022-09-01T12:11:14.023Z"
   },
   {
    "duration": 23,
    "start_time": "2022-09-01T12:11:14.111Z"
   },
   {
    "duration": 5,
    "start_time": "2022-09-01T12:11:14.136Z"
   },
   {
    "duration": 27,
    "start_time": "2022-09-01T12:11:14.142Z"
   },
   {
    "duration": 5,
    "start_time": "2022-09-01T12:11:14.173Z"
   },
   {
    "duration": 20,
    "start_time": "2022-09-01T12:11:14.209Z"
   },
   {
    "duration": 5,
    "start_time": "2022-09-01T12:11:14.231Z"
   },
   {
    "duration": 19,
    "start_time": "2022-09-01T12:11:14.237Z"
   },
   {
    "duration": 6,
    "start_time": "2022-09-01T12:11:14.257Z"
   },
   {
    "duration": 46,
    "start_time": "2022-09-01T12:11:14.265Z"
   },
   {
    "duration": 38,
    "start_time": "2022-09-01T12:11:14.313Z"
   },
   {
    "duration": 9,
    "start_time": "2022-09-01T12:11:14.353Z"
   },
   {
    "duration": 15,
    "start_time": "2022-09-01T12:11:14.364Z"
   },
   {
    "duration": 10,
    "start_time": "2022-09-01T12:11:14.381Z"
   },
   {
    "duration": 9,
    "start_time": "2022-09-01T12:11:14.409Z"
   },
   {
    "duration": 11,
    "start_time": "2022-09-01T12:11:14.420Z"
   },
   {
    "duration": 6,
    "start_time": "2022-09-01T12:11:14.432Z"
   },
   {
    "duration": 11,
    "start_time": "2022-09-01T12:11:14.440Z"
   },
   {
    "duration": 6,
    "start_time": "2022-09-01T12:11:14.453Z"
   },
   {
    "duration": 74,
    "start_time": "2022-09-01T12:11:14.461Z"
   },
   {
    "duration": 724,
    "start_time": "2022-09-01T12:11:14.537Z"
   },
   {
    "duration": 313,
    "start_time": "2022-09-01T12:11:15.262Z"
   },
   {
    "duration": 350,
    "start_time": "2022-09-01T12:11:15.577Z"
   },
   {
    "duration": 264,
    "start_time": "2022-09-01T12:11:15.928Z"
   },
   {
    "duration": 254,
    "start_time": "2022-09-01T12:11:16.193Z"
   },
   {
    "duration": 193,
    "start_time": "2022-09-01T12:11:16.449Z"
   },
   {
    "duration": 288,
    "start_time": "2022-09-01T12:11:16.644Z"
   },
   {
    "duration": 296,
    "start_time": "2022-09-01T12:11:16.933Z"
   },
   {
    "duration": 3,
    "start_time": "2022-09-01T12:11:17.231Z"
   },
   {
    "duration": 138,
    "start_time": "2022-09-01T12:11:17.235Z"
   },
   {
    "duration": 0,
    "start_time": "2022-09-01T12:11:17.375Z"
   },
   {
    "duration": 22,
    "start_time": "2022-09-01T12:13:05.889Z"
   },
   {
    "duration": 18,
    "start_time": "2022-09-01T12:28:12.369Z"
   },
   {
    "duration": 51,
    "start_time": "2022-09-01T12:29:35.950Z"
   },
   {
    "duration": 16,
    "start_time": "2022-09-01T12:29:53.085Z"
   },
   {
    "duration": 3,
    "start_time": "2022-09-01T12:30:38.300Z"
   },
   {
    "duration": 17,
    "start_time": "2022-09-01T12:30:45.386Z"
   },
   {
    "duration": 25,
    "start_time": "2022-09-01T12:33:23.973Z"
   },
   {
    "duration": 56,
    "start_time": "2022-09-01T12:37:34.007Z"
   },
   {
    "duration": 16,
    "start_time": "2022-09-01T12:38:50.944Z"
   },
   {
    "duration": 17,
    "start_time": "2022-09-01T12:39:43.072Z"
   },
   {
    "duration": 18,
    "start_time": "2022-09-01T12:40:16.728Z"
   },
   {
    "duration": 5,
    "start_time": "2022-09-01T12:51:27.052Z"
   },
   {
    "duration": 19,
    "start_time": "2022-09-01T12:51:53.260Z"
   },
   {
    "duration": 7,
    "start_time": "2022-09-01T12:56:06.245Z"
   },
   {
    "duration": 9,
    "start_time": "2022-09-01T12:57:24.280Z"
   },
   {
    "duration": 18,
    "start_time": "2022-09-01T12:58:28.479Z"
   },
   {
    "duration": 19,
    "start_time": "2022-09-01T12:58:40.459Z"
   },
   {
    "duration": 17,
    "start_time": "2022-09-01T12:59:28.538Z"
   },
   {
    "duration": 17,
    "start_time": "2022-09-01T12:59:53.599Z"
   },
   {
    "duration": 17,
    "start_time": "2022-09-01T13:01:40.185Z"
   },
   {
    "duration": 18,
    "start_time": "2022-09-01T13:09:00.243Z"
   },
   {
    "duration": 2,
    "start_time": "2022-09-01T13:10:04.187Z"
   },
   {
    "duration": 19,
    "start_time": "2022-09-01T13:10:08.379Z"
   },
   {
    "duration": 18,
    "start_time": "2022-09-01T13:11:48.353Z"
   },
   {
    "duration": 17,
    "start_time": "2022-09-01T13:12:28.571Z"
   },
   {
    "duration": 18,
    "start_time": "2022-09-01T13:32:32.518Z"
   },
   {
    "duration": 18,
    "start_time": "2022-09-01T13:33:04.664Z"
   },
   {
    "duration": 441,
    "start_time": "2022-09-01T13:33:18.618Z"
   },
   {
    "duration": 166,
    "start_time": "2022-09-01T13:33:19.061Z"
   },
   {
    "duration": 14,
    "start_time": "2022-09-01T13:33:19.229Z"
   },
   {
    "duration": 25,
    "start_time": "2022-09-01T13:33:19.246Z"
   },
   {
    "duration": 411,
    "start_time": "2022-09-01T13:33:19.273Z"
   },
   {
    "duration": 143,
    "start_time": "2022-09-01T13:33:19.686Z"
   },
   {
    "duration": 9,
    "start_time": "2022-09-01T13:33:19.830Z"
   },
   {
    "duration": 27,
    "start_time": "2022-09-01T13:33:19.841Z"
   },
   {
    "duration": 165,
    "start_time": "2022-09-01T13:33:19.870Z"
   },
   {
    "duration": 102,
    "start_time": "2022-09-01T13:33:20.039Z"
   },
   {
    "duration": 8,
    "start_time": "2022-09-01T13:33:20.142Z"
   },
   {
    "duration": 23,
    "start_time": "2022-09-01T13:33:20.151Z"
   },
   {
    "duration": 37,
    "start_time": "2022-09-01T13:33:20.175Z"
   },
   {
    "duration": 12,
    "start_time": "2022-09-01T13:33:20.214Z"
   },
   {
    "duration": 24,
    "start_time": "2022-09-01T13:33:20.227Z"
   },
   {
    "duration": 38,
    "start_time": "2022-09-01T13:33:20.253Z"
   },
   {
    "duration": 9,
    "start_time": "2022-09-01T13:33:20.292Z"
   },
   {
    "duration": 21,
    "start_time": "2022-09-01T13:33:20.303Z"
   },
   {
    "duration": 85,
    "start_time": "2022-09-01T13:33:20.326Z"
   },
   {
    "duration": 7,
    "start_time": "2022-09-01T13:33:20.413Z"
   },
   {
    "duration": 12,
    "start_time": "2022-09-01T13:33:20.422Z"
   },
   {
    "duration": 38,
    "start_time": "2022-09-01T13:33:20.435Z"
   },
   {
    "duration": 36,
    "start_time": "2022-09-01T13:33:20.475Z"
   },
   {
    "duration": 97,
    "start_time": "2022-09-01T13:33:20.512Z"
   },
   {
    "duration": 37,
    "start_time": "2022-09-01T13:33:20.611Z"
   },
   {
    "duration": 6,
    "start_time": "2022-09-01T13:33:20.650Z"
   },
   {
    "duration": 38,
    "start_time": "2022-09-01T13:33:20.658Z"
   },
   {
    "duration": 6,
    "start_time": "2022-09-01T13:33:20.711Z"
   },
   {
    "duration": 30,
    "start_time": "2022-09-01T13:33:20.719Z"
   },
   {
    "duration": 8,
    "start_time": "2022-09-01T13:33:20.751Z"
   },
   {
    "duration": 24,
    "start_time": "2022-09-01T13:33:20.761Z"
   },
   {
    "duration": 25,
    "start_time": "2022-09-01T13:33:20.786Z"
   },
   {
    "duration": 16,
    "start_time": "2022-09-01T13:33:20.813Z"
   },
   {
    "duration": 39,
    "start_time": "2022-09-01T13:33:20.831Z"
   },
   {
    "duration": 8,
    "start_time": "2022-09-01T13:33:20.872Z"
   },
   {
    "duration": 11,
    "start_time": "2022-09-01T13:33:20.882Z"
   },
   {
    "duration": 16,
    "start_time": "2022-09-01T13:33:20.895Z"
   },
   {
    "duration": 28,
    "start_time": "2022-09-01T13:33:20.913Z"
   },
   {
    "duration": 13,
    "start_time": "2022-09-01T13:33:20.943Z"
   },
   {
    "duration": 7,
    "start_time": "2022-09-01T13:33:20.958Z"
   },
   {
    "duration": 12,
    "start_time": "2022-09-01T13:33:20.967Z"
   },
   {
    "duration": 16,
    "start_time": "2022-09-01T13:33:20.981Z"
   },
   {
    "duration": 54,
    "start_time": "2022-09-01T13:33:20.998Z"
   },
   {
    "duration": 873,
    "start_time": "2022-09-01T13:33:21.054Z"
   },
   {
    "duration": 312,
    "start_time": "2022-09-01T13:33:21.929Z"
   },
   {
    "duration": 312,
    "start_time": "2022-09-01T13:33:22.243Z"
   },
   {
    "duration": 232,
    "start_time": "2022-09-01T13:33:22.557Z"
   },
   {
    "duration": 268,
    "start_time": "2022-09-01T13:33:22.791Z"
   },
   {
    "duration": 204,
    "start_time": "2022-09-01T13:33:23.061Z"
   },
   {
    "duration": 302,
    "start_time": "2022-09-01T13:33:23.267Z"
   },
   {
    "duration": 333,
    "start_time": "2022-09-01T13:33:23.571Z"
   },
   {
    "duration": 3,
    "start_time": "2022-09-01T13:33:23.908Z"
   },
   {
    "duration": 120,
    "start_time": "2022-09-01T13:33:23.913Z"
   },
   {
    "duration": 0,
    "start_time": "2022-09-01T13:33:24.034Z"
   },
   {
    "duration": 18,
    "start_time": "2022-09-01T13:34:45.901Z"
   },
   {
    "duration": 19,
    "start_time": "2022-09-01T13:35:57.868Z"
   },
   {
    "duration": 17,
    "start_time": "2022-09-01T14:20:04.069Z"
   },
   {
    "duration": 3,
    "start_time": "2022-09-01T14:20:13.013Z"
   },
   {
    "duration": 191,
    "start_time": "2022-09-01T14:20:13.018Z"
   },
   {
    "duration": 9,
    "start_time": "2022-09-01T14:20:13.211Z"
   },
   {
    "duration": 32,
    "start_time": "2022-09-01T14:20:13.222Z"
   },
   {
    "duration": 163,
    "start_time": "2022-09-01T14:20:13.256Z"
   },
   {
    "duration": 136,
    "start_time": "2022-09-01T14:20:13.421Z"
   },
   {
    "duration": 9,
    "start_time": "2022-09-01T14:20:13.559Z"
   },
   {
    "duration": 42,
    "start_time": "2022-09-01T14:20:13.570Z"
   },
   {
    "duration": 166,
    "start_time": "2022-09-01T14:20:13.614Z"
   },
   {
    "duration": 97,
    "start_time": "2022-09-01T14:20:13.781Z"
   },
   {
    "duration": 8,
    "start_time": "2022-09-01T14:20:13.881Z"
   },
   {
    "duration": 41,
    "start_time": "2022-09-01T14:20:13.891Z"
   },
   {
    "duration": 19,
    "start_time": "2022-09-01T14:20:13.934Z"
   },
   {
    "duration": 8,
    "start_time": "2022-09-01T14:20:13.955Z"
   },
   {
    "duration": 17,
    "start_time": "2022-09-01T14:20:13.964Z"
   },
   {
    "duration": 40,
    "start_time": "2022-09-01T14:20:13.983Z"
   },
   {
    "duration": 8,
    "start_time": "2022-09-01T14:20:14.024Z"
   },
   {
    "duration": 31,
    "start_time": "2022-09-01T14:20:14.034Z"
   },
   {
    "duration": 97,
    "start_time": "2022-09-01T14:20:14.068Z"
   },
   {
    "duration": 6,
    "start_time": "2022-09-01T14:20:14.167Z"
   },
   {
    "duration": 21,
    "start_time": "2022-09-01T14:20:14.175Z"
   },
   {
    "duration": 45,
    "start_time": "2022-09-01T14:20:14.198Z"
   },
   {
    "duration": 24,
    "start_time": "2022-09-01T14:20:14.244Z"
   },
   {
    "duration": 39,
    "start_time": "2022-09-01T14:20:14.270Z"
   },
   {
    "duration": 19,
    "start_time": "2022-09-01T14:20:14.310Z"
   },
   {
    "duration": 5,
    "start_time": "2022-09-01T14:20:14.330Z"
   },
   {
    "duration": 21,
    "start_time": "2022-09-01T14:20:14.336Z"
   },
   {
    "duration": 5,
    "start_time": "2022-09-01T14:20:14.359Z"
   },
   {
    "duration": 41,
    "start_time": "2022-09-01T14:20:14.368Z"
   },
   {
    "duration": 5,
    "start_time": "2022-09-01T14:20:14.411Z"
   },
   {
    "duration": 25,
    "start_time": "2022-09-01T14:20:14.417Z"
   },
   {
    "duration": 6,
    "start_time": "2022-09-01T14:20:14.443Z"
   },
   {
    "duration": 7,
    "start_time": "2022-09-01T14:20:14.451Z"
   },
   {
    "duration": 42,
    "start_time": "2022-09-01T14:20:14.460Z"
   },
   {
    "duration": 8,
    "start_time": "2022-09-01T14:20:14.508Z"
   },
   {
    "duration": 10,
    "start_time": "2022-09-01T14:20:14.518Z"
   },
   {
    "duration": 6,
    "start_time": "2022-09-01T14:20:14.529Z"
   },
   {
    "duration": 12,
    "start_time": "2022-09-01T14:20:14.537Z"
   },
   {
    "duration": 41,
    "start_time": "2022-09-01T14:20:14.551Z"
   },
   {
    "duration": 5,
    "start_time": "2022-09-01T14:20:14.594Z"
   },
   {
    "duration": 13,
    "start_time": "2022-09-01T14:20:14.600Z"
   },
   {
    "duration": 8,
    "start_time": "2022-09-01T14:20:14.615Z"
   },
   {
    "duration": 57,
    "start_time": "2022-09-01T14:20:14.625Z"
   },
   {
    "duration": 316,
    "start_time": "2022-09-01T14:20:14.684Z"
   },
   {
    "duration": 336,
    "start_time": "2022-09-01T14:20:15.002Z"
   },
   {
    "duration": 298,
    "start_time": "2022-09-01T14:20:15.340Z"
   },
   {
    "duration": 237,
    "start_time": "2022-09-01T14:20:15.639Z"
   },
   {
    "duration": 286,
    "start_time": "2022-09-01T14:20:15.879Z"
   },
   {
    "duration": 199,
    "start_time": "2022-09-01T14:20:16.167Z"
   },
   {
    "duration": 301,
    "start_time": "2022-09-01T14:20:16.368Z"
   },
   {
    "duration": 306,
    "start_time": "2022-09-01T14:20:16.671Z"
   },
   {
    "duration": 3,
    "start_time": "2022-09-01T14:20:16.978Z"
   },
   {
    "duration": 18,
    "start_time": "2022-09-01T14:34:52.636Z"
   },
   {
    "duration": 35,
    "start_time": "2022-09-01T14:38:35.371Z"
   },
   {
    "duration": 1036,
    "start_time": "2022-09-01T14:42:14.749Z"
   },
   {
    "duration": 5,
    "start_time": "2022-09-01T14:42:40.112Z"
   },
   {
    "duration": 374,
    "start_time": "2022-09-01T17:58:34.528Z"
   },
   {
    "duration": 366,
    "start_time": "2022-09-01T17:58:40.505Z"
   },
   {
    "duration": 273,
    "start_time": "2022-09-01T17:58:40.874Z"
   },
   {
    "duration": 22,
    "start_time": "2022-09-01T17:58:41.148Z"
   },
   {
    "duration": 48,
    "start_time": "2022-09-01T17:58:41.172Z"
   },
   {
    "duration": 636,
    "start_time": "2022-09-01T17:58:41.223Z"
   },
   {
    "duration": 401,
    "start_time": "2022-09-01T17:58:41.861Z"
   },
   {
    "duration": 18,
    "start_time": "2022-09-01T17:58:42.268Z"
   },
   {
    "duration": 47,
    "start_time": "2022-09-01T17:58:42.288Z"
   },
   {
    "duration": 158,
    "start_time": "2022-09-01T17:58:42.337Z"
   },
   {
    "duration": 384,
    "start_time": "2022-09-01T17:58:42.498Z"
   },
   {
    "duration": 7,
    "start_time": "2022-09-01T17:58:42.884Z"
   },
   {
    "duration": 19,
    "start_time": "2022-09-01T17:58:42.893Z"
   },
   {
    "duration": 83,
    "start_time": "2022-09-01T17:58:42.914Z"
   },
   {
    "duration": 7,
    "start_time": "2022-09-01T17:58:42.999Z"
   },
   {
    "duration": 16,
    "start_time": "2022-09-01T17:58:43.007Z"
   },
   {
    "duration": 73,
    "start_time": "2022-09-01T17:58:43.025Z"
   },
   {
    "duration": 10,
    "start_time": "2022-09-01T17:58:43.100Z"
   },
   {
    "duration": 15,
    "start_time": "2022-09-01T17:58:43.112Z"
   },
   {
    "duration": 94,
    "start_time": "2022-09-01T17:58:43.129Z"
   },
   {
    "duration": 7,
    "start_time": "2022-09-01T17:58:43.225Z"
   },
   {
    "duration": 9,
    "start_time": "2022-09-01T17:58:43.233Z"
   },
   {
    "duration": 57,
    "start_time": "2022-09-01T17:58:43.244Z"
   },
   {
    "duration": 78,
    "start_time": "2022-09-01T17:58:43.303Z"
   },
   {
    "duration": 33,
    "start_time": "2022-09-01T17:58:43.385Z"
   },
   {
    "duration": 22,
    "start_time": "2022-09-01T17:58:43.419Z"
   },
   {
    "duration": 48,
    "start_time": "2022-09-01T17:58:43.442Z"
   },
   {
    "duration": 27,
    "start_time": "2022-09-01T17:58:43.492Z"
   },
   {
    "duration": 5,
    "start_time": "2022-09-01T17:58:43.524Z"
   },
   {
    "duration": 22,
    "start_time": "2022-09-01T17:58:43.531Z"
   },
   {
    "duration": 10,
    "start_time": "2022-09-01T17:58:43.555Z"
   },
   {
    "duration": 42,
    "start_time": "2022-09-01T17:58:43.568Z"
   },
   {
    "duration": 6,
    "start_time": "2022-09-01T17:58:43.612Z"
   },
   {
    "duration": 8,
    "start_time": "2022-09-01T17:58:43.620Z"
   },
   {
    "duration": 69,
    "start_time": "2022-09-01T17:58:43.630Z"
   },
   {
    "duration": 8,
    "start_time": "2022-09-01T17:58:43.701Z"
   },
   {
    "duration": 14,
    "start_time": "2022-09-01T17:58:43.711Z"
   },
   {
    "duration": 5,
    "start_time": "2022-09-01T17:58:43.726Z"
   },
   {
    "duration": 15,
    "start_time": "2022-09-01T17:58:43.733Z"
   },
   {
    "duration": 11,
    "start_time": "2022-09-01T17:58:43.750Z"
   },
   {
    "duration": 40,
    "start_time": "2022-09-01T17:58:43.762Z"
   },
   {
    "duration": 12,
    "start_time": "2022-09-01T17:58:43.804Z"
   },
   {
    "duration": 5,
    "start_time": "2022-09-01T17:58:43.818Z"
   },
   {
    "duration": 102,
    "start_time": "2022-09-01T17:58:43.826Z"
   },
   {
    "duration": 868,
    "start_time": "2022-09-01T17:58:43.930Z"
   },
   {
    "duration": 284,
    "start_time": "2022-09-01T17:58:44.800Z"
   },
   {
    "duration": 364,
    "start_time": "2022-09-01T17:58:45.086Z"
   },
   {
    "duration": 245,
    "start_time": "2022-09-01T17:58:45.457Z"
   },
   {
    "duration": 282,
    "start_time": "2022-09-01T17:58:45.704Z"
   },
   {
    "duration": 208,
    "start_time": "2022-09-01T17:58:45.987Z"
   },
   {
    "duration": 393,
    "start_time": "2022-09-01T17:58:46.197Z"
   },
   {
    "duration": 224,
    "start_time": "2022-09-01T17:58:46.592Z"
   },
   {
    "duration": 3,
    "start_time": "2022-09-01T17:58:46.818Z"
   },
   {
    "duration": 10,
    "start_time": "2022-09-01T17:58:46.823Z"
   },
   {
    "duration": 1675,
    "start_time": "2022-09-01T17:58:46.835Z"
   },
   {
    "duration": 0,
    "start_time": "2022-09-01T17:58:48.511Z"
   },
   {
    "duration": 22,
    "start_time": "2022-09-01T18:35:59.605Z"
   },
   {
    "duration": 18,
    "start_time": "2022-09-01T18:36:26.229Z"
   },
   {
    "duration": 7,
    "start_time": "2022-09-01T18:38:00.772Z"
   },
   {
    "duration": 13,
    "start_time": "2022-09-01T18:41:50.962Z"
   },
   {
    "duration": 23,
    "start_time": "2022-09-01T18:42:18.570Z"
   },
   {
    "duration": 18,
    "start_time": "2022-09-01T18:53:48.280Z"
   },
   {
    "duration": 54,
    "start_time": "2022-09-01T19:01:58.357Z"
   },
   {
    "duration": 17,
    "start_time": "2022-09-01T19:03:54.062Z"
   },
   {
    "duration": 37,
    "start_time": "2022-09-01T19:13:22.416Z"
   },
   {
    "duration": 37,
    "start_time": "2022-09-01T19:14:07.007Z"
   },
   {
    "duration": 36,
    "start_time": "2022-09-01T19:14:37.606Z"
   },
   {
    "duration": 44,
    "start_time": "2022-09-01T19:14:49.997Z"
   },
   {
    "duration": 39,
    "start_time": "2022-09-01T19:57:59.768Z"
   },
   {
    "duration": 35,
    "start_time": "2022-09-01T19:58:38.730Z"
   },
   {
    "duration": 466,
    "start_time": "2022-09-03T11:55:47.865Z"
   },
   {
    "duration": 250,
    "start_time": "2022-09-03T11:55:48.334Z"
   },
   {
    "duration": 18,
    "start_time": "2022-09-03T11:55:48.586Z"
   },
   {
    "duration": 36,
    "start_time": "2022-09-03T11:55:48.607Z"
   },
   {
    "duration": 737,
    "start_time": "2022-09-03T11:55:48.645Z"
   },
   {
    "duration": 361,
    "start_time": "2022-09-03T11:55:49.384Z"
   },
   {
    "duration": 13,
    "start_time": "2022-09-03T11:55:49.747Z"
   },
   {
    "duration": 61,
    "start_time": "2022-09-03T11:55:49.762Z"
   },
   {
    "duration": 182,
    "start_time": "2022-09-03T11:55:49.825Z"
   },
   {
    "duration": 319,
    "start_time": "2022-09-03T11:55:50.012Z"
   },
   {
    "duration": 9,
    "start_time": "2022-09-03T11:55:50.333Z"
   },
   {
    "duration": 39,
    "start_time": "2022-09-03T11:55:50.346Z"
   },
   {
    "duration": 87,
    "start_time": "2022-09-03T11:55:50.387Z"
   },
   {
    "duration": 11,
    "start_time": "2022-09-03T11:55:50.475Z"
   },
   {
    "duration": 46,
    "start_time": "2022-09-03T11:55:50.488Z"
   },
   {
    "duration": 77,
    "start_time": "2022-09-03T11:55:50.536Z"
   },
   {
    "duration": 8,
    "start_time": "2022-09-03T11:55:50.615Z"
   },
   {
    "duration": 42,
    "start_time": "2022-09-03T11:55:50.626Z"
   },
   {
    "duration": 100,
    "start_time": "2022-09-03T11:55:50.670Z"
   },
   {
    "duration": 8,
    "start_time": "2022-09-03T11:55:50.772Z"
   },
   {
    "duration": 26,
    "start_time": "2022-09-03T11:55:50.782Z"
   },
   {
    "duration": 53,
    "start_time": "2022-09-03T11:55:50.810Z"
   },
   {
    "duration": 100,
    "start_time": "2022-09-03T11:55:50.865Z"
   },
   {
    "duration": 39,
    "start_time": "2022-09-03T11:55:50.967Z"
   },
   {
    "duration": 28,
    "start_time": "2022-09-03T11:55:51.007Z"
   },
   {
    "duration": 5,
    "start_time": "2022-09-03T11:55:51.037Z"
   },
   {
    "duration": 53,
    "start_time": "2022-09-03T11:55:51.044Z"
   },
   {
    "duration": 7,
    "start_time": "2022-09-03T11:55:51.104Z"
   },
   {
    "duration": 25,
    "start_time": "2022-09-03T11:55:51.113Z"
   },
   {
    "duration": 24,
    "start_time": "2022-09-03T11:55:51.140Z"
   },
   {
    "duration": 33,
    "start_time": "2022-09-03T11:55:51.166Z"
   },
   {
    "duration": 13,
    "start_time": "2022-09-03T11:55:51.202Z"
   },
   {
    "duration": 39,
    "start_time": "2022-09-03T11:55:51.217Z"
   },
   {
    "duration": 58,
    "start_time": "2022-09-03T11:55:51.258Z"
   },
   {
    "duration": 16,
    "start_time": "2022-09-03T11:55:51.319Z"
   },
   {
    "duration": 26,
    "start_time": "2022-09-03T11:55:51.337Z"
   },
   {
    "duration": 40,
    "start_time": "2022-09-03T11:55:51.365Z"
   },
   {
    "duration": 41,
    "start_time": "2022-09-03T11:55:51.407Z"
   },
   {
    "duration": 31,
    "start_time": "2022-09-03T11:55:51.450Z"
   },
   {
    "duration": 31,
    "start_time": "2022-09-03T11:55:51.483Z"
   },
   {
    "duration": 16,
    "start_time": "2022-09-03T11:55:51.516Z"
   },
   {
    "duration": 49,
    "start_time": "2022-09-03T11:55:51.534Z"
   },
   {
    "duration": 69,
    "start_time": "2022-09-03T11:55:51.585Z"
   },
   {
    "duration": 946,
    "start_time": "2022-09-03T11:55:51.656Z"
   },
   {
    "duration": 290,
    "start_time": "2022-09-03T11:55:52.605Z"
   },
   {
    "duration": 343,
    "start_time": "2022-09-03T11:55:52.897Z"
   },
   {
    "duration": 244,
    "start_time": "2022-09-03T11:55:53.242Z"
   },
   {
    "duration": 303,
    "start_time": "2022-09-03T11:55:53.488Z"
   },
   {
    "duration": 236,
    "start_time": "2022-09-03T11:55:53.793Z"
   },
   {
    "duration": 439,
    "start_time": "2022-09-03T11:55:54.031Z"
   },
   {
    "duration": 239,
    "start_time": "2022-09-03T11:55:54.473Z"
   },
   {
    "duration": 3,
    "start_time": "2022-09-03T11:55:54.714Z"
   },
   {
    "duration": 42,
    "start_time": "2022-09-03T11:55:54.719Z"
   },
   {
    "duration": 115,
    "start_time": "2022-09-03T20:09:38.229Z"
   },
   {
    "duration": 41,
    "start_time": "2022-09-03T20:10:06.897Z"
   },
   {
    "duration": 10,
    "start_time": "2022-09-03T20:15:22.583Z"
   },
   {
    "duration": 81,
    "start_time": "2022-09-03T20:18:48.659Z"
   },
   {
    "duration": 24,
    "start_time": "2022-09-03T20:19:53.370Z"
   },
   {
    "duration": 51,
    "start_time": "2022-09-03T20:25:36.429Z"
   },
   {
    "duration": 20,
    "start_time": "2022-09-03T20:25:54.941Z"
   },
   {
    "duration": 489,
    "start_time": "2022-09-03T20:27:41.697Z"
   },
   {
    "duration": 243,
    "start_time": "2022-09-03T20:27:42.187Z"
   },
   {
    "duration": 17,
    "start_time": "2022-09-03T20:27:42.432Z"
   },
   {
    "duration": 27,
    "start_time": "2022-09-03T20:27:42.451Z"
   },
   {
    "duration": 427,
    "start_time": "2022-09-03T20:27:42.480Z"
   },
   {
    "duration": 351,
    "start_time": "2022-09-03T20:27:42.910Z"
   },
   {
    "duration": 10,
    "start_time": "2022-09-03T20:27:43.263Z"
   },
   {
    "duration": 55,
    "start_time": "2022-09-03T20:27:43.275Z"
   },
   {
    "duration": 185,
    "start_time": "2022-09-03T20:27:43.333Z"
   },
   {
    "duration": 326,
    "start_time": "2022-09-03T20:27:43.522Z"
   },
   {
    "duration": 7,
    "start_time": "2022-09-03T20:27:43.850Z"
   },
   {
    "duration": 30,
    "start_time": "2022-09-03T20:27:43.859Z"
   },
   {
    "duration": 58,
    "start_time": "2022-09-03T20:27:43.892Z"
   },
   {
    "duration": 10,
    "start_time": "2022-09-03T20:27:43.952Z"
   },
   {
    "duration": 32,
    "start_time": "2022-09-03T20:27:43.965Z"
   },
   {
    "duration": 75,
    "start_time": "2022-09-03T20:27:43.999Z"
   },
   {
    "duration": 9,
    "start_time": "2022-09-03T20:27:44.076Z"
   },
   {
    "duration": 49,
    "start_time": "2022-09-03T20:27:44.087Z"
   },
   {
    "duration": 108,
    "start_time": "2022-09-03T20:27:44.137Z"
   },
   {
    "duration": 8,
    "start_time": "2022-09-03T20:27:44.247Z"
   },
   {
    "duration": 11,
    "start_time": "2022-09-03T20:27:44.256Z"
   },
   {
    "duration": 61,
    "start_time": "2022-09-03T20:27:44.269Z"
   },
   {
    "duration": 27,
    "start_time": "2022-09-03T20:27:44.331Z"
   },
   {
    "duration": 106,
    "start_time": "2022-09-03T20:27:44.359Z"
   },
   {
    "duration": 50,
    "start_time": "2022-09-03T20:27:44.467Z"
   },
   {
    "duration": 7,
    "start_time": "2022-09-03T20:27:44.519Z"
   },
   {
    "duration": 52,
    "start_time": "2022-09-03T20:27:44.527Z"
   },
   {
    "duration": 5,
    "start_time": "2022-09-03T20:27:44.583Z"
   },
   {
    "duration": 42,
    "start_time": "2022-09-03T20:27:44.590Z"
   },
   {
    "duration": 6,
    "start_time": "2022-09-03T20:27:44.634Z"
   },
   {
    "duration": 55,
    "start_time": "2022-09-03T20:27:44.642Z"
   },
   {
    "duration": 30,
    "start_time": "2022-09-03T20:27:44.699Z"
   },
   {
    "duration": 18,
    "start_time": "2022-09-03T20:27:44.731Z"
   },
   {
    "duration": 57,
    "start_time": "2022-09-03T20:27:44.751Z"
   },
   {
    "duration": 9,
    "start_time": "2022-09-03T20:27:44.817Z"
   },
   {
    "duration": 22,
    "start_time": "2022-09-03T20:27:44.828Z"
   },
   {
    "duration": 16,
    "start_time": "2022-09-03T20:27:44.852Z"
   },
   {
    "duration": 38,
    "start_time": "2022-09-03T20:27:44.870Z"
   },
   {
    "duration": 37,
    "start_time": "2022-09-03T20:27:44.910Z"
   },
   {
    "duration": 11,
    "start_time": "2022-09-03T20:27:44.949Z"
   },
   {
    "duration": 28,
    "start_time": "2022-09-03T20:27:44.962Z"
   },
   {
    "duration": 44,
    "start_time": "2022-09-03T20:27:44.992Z"
   },
   {
    "duration": 81,
    "start_time": "2022-09-03T20:27:45.037Z"
   },
   {
    "duration": 823,
    "start_time": "2022-09-03T20:27:45.120Z"
   },
   {
    "duration": 371,
    "start_time": "2022-09-03T20:27:45.945Z"
   },
   {
    "duration": 367,
    "start_time": "2022-09-03T20:27:46.320Z"
   },
   {
    "duration": 271,
    "start_time": "2022-09-03T20:27:46.689Z"
   },
   {
    "duration": 311,
    "start_time": "2022-09-03T20:27:46.962Z"
   },
   {
    "duration": 251,
    "start_time": "2022-09-03T20:27:47.275Z"
   },
   {
    "duration": 352,
    "start_time": "2022-09-03T20:27:47.529Z"
   },
   {
    "duration": 345,
    "start_time": "2022-09-03T20:27:47.882Z"
   },
   {
    "duration": 3,
    "start_time": "2022-09-03T20:27:48.228Z"
   },
   {
    "duration": 48,
    "start_time": "2022-09-03T20:27:48.233Z"
   },
   {
    "duration": 159,
    "start_time": "2022-09-03T20:27:48.283Z"
   },
   {
    "duration": 19,
    "start_time": "2022-09-03T20:29:13.571Z"
   },
   {
    "duration": 449,
    "start_time": "2022-09-03T20:29:39.714Z"
   },
   {
    "duration": 216,
    "start_time": "2022-09-03T20:29:40.166Z"
   },
   {
    "duration": 28,
    "start_time": "2022-09-03T20:29:40.384Z"
   },
   {
    "duration": 41,
    "start_time": "2022-09-03T20:29:40.415Z"
   },
   {
    "duration": 465,
    "start_time": "2022-09-03T20:29:40.458Z"
   },
   {
    "duration": 144,
    "start_time": "2022-09-03T20:29:40.925Z"
   },
   {
    "duration": 12,
    "start_time": "2022-09-03T20:29:41.071Z"
   },
   {
    "duration": 40,
    "start_time": "2022-09-03T20:29:41.085Z"
   },
   {
    "duration": 200,
    "start_time": "2022-09-03T20:29:41.127Z"
   },
   {
    "duration": 124,
    "start_time": "2022-09-03T20:29:41.332Z"
   },
   {
    "duration": 10,
    "start_time": "2022-09-03T20:29:41.458Z"
   },
   {
    "duration": 39,
    "start_time": "2022-09-03T20:29:41.469Z"
   },
   {
    "duration": 17,
    "start_time": "2022-09-03T20:29:41.509Z"
   },
   {
    "duration": 9,
    "start_time": "2022-09-03T20:29:41.528Z"
   },
   {
    "duration": 16,
    "start_time": "2022-09-03T20:29:41.539Z"
   },
   {
    "duration": 33,
    "start_time": "2022-09-03T20:29:41.558Z"
   },
   {
    "duration": 8,
    "start_time": "2022-09-03T20:29:41.593Z"
   },
   {
    "duration": 27,
    "start_time": "2022-09-03T20:29:41.603Z"
   },
   {
    "duration": 92,
    "start_time": "2022-09-03T20:29:41.632Z"
   },
   {
    "duration": 10,
    "start_time": "2022-09-03T20:29:41.726Z"
   },
   {
    "duration": 12,
    "start_time": "2022-09-03T20:29:41.739Z"
   },
   {
    "duration": 58,
    "start_time": "2022-09-03T20:29:41.754Z"
   },
   {
    "duration": 27,
    "start_time": "2022-09-03T20:29:41.823Z"
   },
   {
    "duration": 87,
    "start_time": "2022-09-03T20:29:41.852Z"
   },
   {
    "duration": 26,
    "start_time": "2022-09-03T20:29:41.941Z"
   },
   {
    "duration": 5,
    "start_time": "2022-09-03T20:29:41.969Z"
   },
   {
    "duration": 53,
    "start_time": "2022-09-03T20:29:41.976Z"
   },
   {
    "duration": 6,
    "start_time": "2022-09-03T20:29:42.032Z"
   },
   {
    "duration": 20,
    "start_time": "2022-09-03T20:29:42.040Z"
   },
   {
    "duration": 5,
    "start_time": "2022-09-03T20:29:42.061Z"
   },
   {
    "duration": 44,
    "start_time": "2022-09-03T20:29:42.068Z"
   },
   {
    "duration": 8,
    "start_time": "2022-09-03T20:29:42.114Z"
   },
   {
    "duration": 7,
    "start_time": "2022-09-03T20:29:42.124Z"
   },
   {
    "duration": 38,
    "start_time": "2022-09-03T20:29:42.132Z"
   },
   {
    "duration": 46,
    "start_time": "2022-09-03T20:29:42.171Z"
   },
   {
    "duration": 7,
    "start_time": "2022-09-03T20:29:42.219Z"
   },
   {
    "duration": 7,
    "start_time": "2022-09-03T20:29:42.227Z"
   },
   {
    "duration": 10,
    "start_time": "2022-09-03T20:29:42.236Z"
   },
   {
    "duration": 13,
    "start_time": "2022-09-03T20:29:42.248Z"
   },
   {
    "duration": 8,
    "start_time": "2022-09-03T20:29:42.262Z"
   },
   {
    "duration": 14,
    "start_time": "2022-09-03T20:29:42.272Z"
   },
   {
    "duration": 20,
    "start_time": "2022-09-03T20:29:42.289Z"
   },
   {
    "duration": 53,
    "start_time": "2022-09-03T20:29:42.317Z"
   },
   {
    "duration": 993,
    "start_time": "2022-09-03T20:29:42.372Z"
   },
   {
    "duration": 379,
    "start_time": "2022-09-03T20:29:43.368Z"
   },
   {
    "duration": 343,
    "start_time": "2022-09-03T20:29:43.749Z"
   },
   {
    "duration": 256,
    "start_time": "2022-09-03T20:29:44.094Z"
   },
   {
    "duration": 313,
    "start_time": "2022-09-03T20:29:44.352Z"
   },
   {
    "duration": 253,
    "start_time": "2022-09-03T20:29:44.667Z"
   },
   {
    "duration": 333,
    "start_time": "2022-09-03T20:29:44.922Z"
   },
   {
    "duration": 335,
    "start_time": "2022-09-03T20:29:45.257Z"
   },
   {
    "duration": 15,
    "start_time": "2022-09-03T20:29:45.594Z"
   },
   {
    "duration": 59,
    "start_time": "2022-09-03T20:29:45.610Z"
   },
   {
    "duration": 125,
    "start_time": "2022-09-03T20:29:45.671Z"
   },
   {
    "duration": 0,
    "start_time": "2022-09-03T20:29:45.799Z"
   },
   {
    "duration": 11,
    "start_time": "2022-09-03T20:31:06.404Z"
   },
   {
    "duration": 30,
    "start_time": "2022-09-03T20:32:11.399Z"
   },
   {
    "duration": 9,
    "start_time": "2022-09-03T20:32:25.699Z"
   },
   {
    "duration": 26,
    "start_time": "2022-09-03T20:33:47.119Z"
   },
   {
    "duration": 12,
    "start_time": "2022-09-03T20:33:53.495Z"
   },
   {
    "duration": 6,
    "start_time": "2022-09-03T20:34:10.741Z"
   },
   {
    "duration": 57,
    "start_time": "2022-09-03T20:36:10.301Z"
   },
   {
    "duration": 37,
    "start_time": "2022-09-03T20:36:34.079Z"
   },
   {
    "duration": 10,
    "start_time": "2022-09-03T20:36:51.316Z"
   },
   {
    "duration": 4,
    "start_time": "2022-09-03T20:37:17.560Z"
   },
   {
    "duration": 10,
    "start_time": "2022-09-03T20:37:29.914Z"
   },
   {
    "duration": 11,
    "start_time": "2022-09-03T20:37:34.668Z"
   },
   {
    "duration": 15,
    "start_time": "2022-09-03T20:37:44.855Z"
   },
   {
    "duration": 10,
    "start_time": "2022-09-03T20:38:00.832Z"
   },
   {
    "duration": 3,
    "start_time": "2022-09-03T20:38:03.903Z"
   },
   {
    "duration": 10,
    "start_time": "2022-09-03T20:38:07.206Z"
   },
   {
    "duration": 688,
    "start_time": "2022-09-03T20:38:09.206Z"
   },
   {
    "duration": 2,
    "start_time": "2022-09-03T20:38:16.451Z"
   },
   {
    "duration": 210,
    "start_time": "2022-09-03T20:38:16.459Z"
   },
   {
    "duration": 8,
    "start_time": "2022-09-03T20:38:16.671Z"
   },
   {
    "duration": 31,
    "start_time": "2022-09-03T20:38:16.681Z"
   },
   {
    "duration": 174,
    "start_time": "2022-09-03T20:38:16.715Z"
   },
   {
    "duration": 130,
    "start_time": "2022-09-03T20:38:16.891Z"
   },
   {
    "duration": 10,
    "start_time": "2022-09-03T20:38:17.023Z"
   },
   {
    "duration": 27,
    "start_time": "2022-09-03T20:38:17.035Z"
   },
   {
    "duration": 172,
    "start_time": "2022-09-03T20:38:17.064Z"
   },
   {
    "duration": 93,
    "start_time": "2022-09-03T20:38:17.238Z"
   },
   {
    "duration": 8,
    "start_time": "2022-09-03T20:38:17.334Z"
   },
   {
    "duration": 22,
    "start_time": "2022-09-03T20:38:17.344Z"
   },
   {
    "duration": 23,
    "start_time": "2022-09-03T20:38:17.368Z"
   },
   {
    "duration": 8,
    "start_time": "2022-09-03T20:38:17.393Z"
   },
   {
    "duration": 26,
    "start_time": "2022-09-03T20:38:17.403Z"
   },
   {
    "duration": 46,
    "start_time": "2022-09-03T20:38:17.430Z"
   },
   {
    "duration": 13,
    "start_time": "2022-09-03T20:38:17.478Z"
   },
   {
    "duration": 22,
    "start_time": "2022-09-03T20:38:17.493Z"
   },
   {
    "duration": 90,
    "start_time": "2022-09-03T20:38:17.516Z"
   },
   {
    "duration": 6,
    "start_time": "2022-09-03T20:38:17.608Z"
   },
   {
    "duration": 29,
    "start_time": "2022-09-03T20:38:17.617Z"
   },
   {
    "duration": 45,
    "start_time": "2022-09-03T20:38:17.648Z"
   },
   {
    "duration": 34,
    "start_time": "2022-09-03T20:38:17.695Z"
   },
   {
    "duration": 28,
    "start_time": "2022-09-03T20:38:17.731Z"
   },
   {
    "duration": 16,
    "start_time": "2022-09-03T20:38:17.761Z"
   },
   {
    "duration": 13,
    "start_time": "2022-09-03T20:38:17.779Z"
   },
   {
    "duration": 31,
    "start_time": "2022-09-03T20:38:17.793Z"
   },
   {
    "duration": 12,
    "start_time": "2022-09-03T20:38:17.825Z"
   },
   {
    "duration": 21,
    "start_time": "2022-09-03T20:38:17.840Z"
   },
   {
    "duration": 15,
    "start_time": "2022-09-03T20:38:17.862Z"
   },
   {
    "duration": 29,
    "start_time": "2022-09-03T20:38:17.878Z"
   },
   {
    "duration": 14,
    "start_time": "2022-09-03T20:38:17.909Z"
   },
   {
    "duration": 17,
    "start_time": "2022-09-03T20:38:17.925Z"
   },
   {
    "duration": 49,
    "start_time": "2022-09-03T20:38:17.944Z"
   },
   {
    "duration": 8,
    "start_time": "2022-09-03T20:38:17.994Z"
   },
   {
    "duration": 13,
    "start_time": "2022-09-03T20:38:18.003Z"
   },
   {
    "duration": 11,
    "start_time": "2022-09-03T20:38:18.017Z"
   },
   {
    "duration": 22,
    "start_time": "2022-09-03T20:38:18.029Z"
   },
   {
    "duration": 16,
    "start_time": "2022-09-03T20:39:16.121Z"
   },
   {
    "duration": 6,
    "start_time": "2022-09-03T20:39:18.606Z"
   },
   {
    "duration": 20,
    "start_time": "2022-09-03T20:39:23.072Z"
   },
   {
    "duration": 6,
    "start_time": "2022-09-03T20:39:29.083Z"
   },
   {
    "duration": 8,
    "start_time": "2022-09-03T20:39:39.518Z"
   },
   {
    "duration": 4,
    "start_time": "2022-09-03T20:39:46.409Z"
   },
   {
    "duration": 9,
    "start_time": "2022-09-03T20:39:49.822Z"
   },
   {
    "duration": 685,
    "start_time": "2022-09-03T20:39:52.570Z"
   },
   {
    "duration": 3,
    "start_time": "2022-09-03T20:40:06.028Z"
   },
   {
    "duration": 186,
    "start_time": "2022-09-03T20:40:06.034Z"
   },
   {
    "duration": 9,
    "start_time": "2022-09-03T20:40:06.222Z"
   },
   {
    "duration": 30,
    "start_time": "2022-09-03T20:40:06.233Z"
   },
   {
    "duration": 198,
    "start_time": "2022-09-03T20:40:06.265Z"
   },
   {
    "duration": 138,
    "start_time": "2022-09-03T20:40:06.465Z"
   },
   {
    "duration": 11,
    "start_time": "2022-09-03T20:40:06.605Z"
   },
   {
    "duration": 31,
    "start_time": "2022-09-03T20:40:06.618Z"
   },
   {
    "duration": 278,
    "start_time": "2022-09-03T20:40:06.651Z"
   },
   {
    "duration": 104,
    "start_time": "2022-09-03T20:40:06.931Z"
   },
   {
    "duration": 9,
    "start_time": "2022-09-03T20:40:07.038Z"
   },
   {
    "duration": 32,
    "start_time": "2022-09-03T20:40:07.049Z"
   },
   {
    "duration": 26,
    "start_time": "2022-09-03T20:40:07.083Z"
   },
   {
    "duration": 9,
    "start_time": "2022-09-03T20:40:07.111Z"
   },
   {
    "duration": 14,
    "start_time": "2022-09-03T20:40:07.122Z"
   },
   {
    "duration": 33,
    "start_time": "2022-09-03T20:40:07.138Z"
   },
   {
    "duration": 9,
    "start_time": "2022-09-03T20:40:07.173Z"
   },
   {
    "duration": 19,
    "start_time": "2022-09-03T20:40:07.184Z"
   },
   {
    "duration": 77,
    "start_time": "2022-09-03T20:40:07.206Z"
   },
   {
    "duration": 21,
    "start_time": "2022-09-03T20:40:07.285Z"
   },
   {
    "duration": 9,
    "start_time": "2022-09-03T20:40:07.308Z"
   },
   {
    "duration": 49,
    "start_time": "2022-09-03T20:40:07.319Z"
   },
   {
    "duration": 47,
    "start_time": "2022-09-03T20:40:07.370Z"
   },
   {
    "duration": 32,
    "start_time": "2022-09-03T20:40:07.419Z"
   },
   {
    "duration": 20,
    "start_time": "2022-09-03T20:40:07.453Z"
   },
   {
    "duration": 30,
    "start_time": "2022-09-03T20:40:07.475Z"
   },
   {
    "duration": 37,
    "start_time": "2022-09-03T20:40:07.507Z"
   },
   {
    "duration": 7,
    "start_time": "2022-09-03T20:40:07.546Z"
   },
   {
    "duration": 22,
    "start_time": "2022-09-03T20:40:07.556Z"
   },
   {
    "duration": 5,
    "start_time": "2022-09-03T20:40:07.580Z"
   },
   {
    "duration": 14,
    "start_time": "2022-09-03T20:40:07.602Z"
   },
   {
    "duration": 6,
    "start_time": "2022-09-03T20:40:07.618Z"
   },
   {
    "duration": 38,
    "start_time": "2022-09-03T20:40:07.626Z"
   },
   {
    "duration": 48,
    "start_time": "2022-09-03T20:40:07.666Z"
   },
   {
    "duration": 8,
    "start_time": "2022-09-03T20:40:07.715Z"
   },
   {
    "duration": 9,
    "start_time": "2022-09-03T20:40:07.725Z"
   },
   {
    "duration": 11,
    "start_time": "2022-09-03T20:40:07.736Z"
   },
   {
    "duration": 13,
    "start_time": "2022-09-03T20:40:07.749Z"
   },
   {
    "duration": 11,
    "start_time": "2022-09-03T20:40:17.353Z"
   },
   {
    "duration": 8,
    "start_time": "2022-09-03T20:40:34.914Z"
   },
   {
    "duration": 7,
    "start_time": "2022-09-03T20:40:49.457Z"
   },
   {
    "duration": 5,
    "start_time": "2022-09-03T20:40:52.377Z"
   },
   {
    "duration": 24,
    "start_time": "2022-09-03T20:40:55.372Z"
   },
   {
    "duration": 18,
    "start_time": "2022-09-03T20:41:00.915Z"
   },
   {
    "duration": 191,
    "start_time": "2022-09-03T20:42:12.298Z"
   },
   {
    "duration": 13,
    "start_time": "2022-09-03T20:42:14.931Z"
   },
   {
    "duration": 39,
    "start_time": "2022-09-03T20:42:18.851Z"
   },
   {
    "duration": 163,
    "start_time": "2022-09-03T20:42:23.442Z"
   },
   {
    "duration": 148,
    "start_time": "2022-09-03T20:42:27.123Z"
   },
   {
    "duration": 14,
    "start_time": "2022-09-03T20:42:30.911Z"
   },
   {
    "duration": 29,
    "start_time": "2022-09-03T20:42:34.568Z"
   },
   {
    "duration": 171,
    "start_time": "2022-09-03T20:42:42.675Z"
   },
   {
    "duration": 161,
    "start_time": "2022-09-03T20:42:48.903Z"
   },
   {
    "duration": 12,
    "start_time": "2022-09-03T20:42:54.915Z"
   },
   {
    "duration": 18,
    "start_time": "2022-09-03T20:42:58.651Z"
   },
   {
    "duration": 27,
    "start_time": "2022-09-03T20:43:03.325Z"
   },
   {
    "duration": 10,
    "start_time": "2022-09-03T20:43:10.163Z"
   },
   {
    "duration": 11,
    "start_time": "2022-09-03T20:43:14.211Z"
   },
   {
    "duration": 38,
    "start_time": "2022-09-03T20:43:20.724Z"
   },
   {
    "duration": 8,
    "start_time": "2022-09-03T20:43:29.882Z"
   },
   {
    "duration": 12,
    "start_time": "2022-09-03T20:43:31.235Z"
   },
   {
    "duration": 79,
    "start_time": "2022-09-03T20:43:47.810Z"
   },
   {
    "duration": 41,
    "start_time": "2022-09-03T20:44:01.313Z"
   },
   {
    "duration": 32,
    "start_time": "2022-09-03T20:44:04.180Z"
   },
   {
    "duration": 120,
    "start_time": "2022-09-03T20:44:24.619Z"
   },
   {
    "duration": 21,
    "start_time": "2022-09-03T20:44:30.730Z"
   },
   {
    "duration": 7,
    "start_time": "2022-09-03T20:44:38.933Z"
   },
   {
    "duration": 21,
    "start_time": "2022-09-03T20:44:46.915Z"
   },
   {
    "duration": 8,
    "start_time": "2022-09-03T20:44:49.113Z"
   },
   {
    "duration": 16,
    "start_time": "2022-09-03T20:44:57.406Z"
   },
   {
    "duration": 14,
    "start_time": "2022-09-03T20:45:31.636Z"
   },
   {
    "duration": 7,
    "start_time": "2022-09-03T20:45:48.807Z"
   },
   {
    "duration": 37,
    "start_time": "2022-09-03T20:46:15.078Z"
   },
   {
    "duration": 11,
    "start_time": "2022-09-03T20:46:26.621Z"
   },
   {
    "duration": 4,
    "start_time": "2022-09-03T20:46:40.150Z"
   },
   {
    "duration": 10,
    "start_time": "2022-09-03T20:46:42.607Z"
   },
   {
    "duration": 13,
    "start_time": "2022-09-03T20:46:45.710Z"
   },
   {
    "duration": 17,
    "start_time": "2022-09-03T20:46:49.653Z"
   },
   {
    "duration": 34,
    "start_time": "2022-09-03T20:58:47.750Z"
   },
   {
    "duration": 9,
    "start_time": "2022-09-03T20:58:51.794Z"
   },
   {
    "duration": 7,
    "start_time": "2022-09-03T20:58:54.868Z"
   },
   {
    "duration": 4,
    "start_time": "2022-09-03T20:58:59.148Z"
   },
   {
    "duration": 872,
    "start_time": "2022-09-03T21:00:00.647Z"
   },
   {
    "duration": 431,
    "start_time": "2022-09-03T21:01:09.305Z"
   },
   {
    "duration": 179,
    "start_time": "2022-09-03T21:01:09.738Z"
   },
   {
    "duration": 21,
    "start_time": "2022-09-03T21:01:09.919Z"
   },
   {
    "duration": 39,
    "start_time": "2022-09-03T21:01:09.942Z"
   },
   {
    "duration": 482,
    "start_time": "2022-09-03T21:01:09.983Z"
   },
   {
    "duration": 145,
    "start_time": "2022-09-03T21:01:10.467Z"
   },
   {
    "duration": 10,
    "start_time": "2022-09-03T21:01:10.614Z"
   },
   {
    "duration": 40,
    "start_time": "2022-09-03T21:01:10.626Z"
   },
   {
    "duration": 164,
    "start_time": "2022-09-03T21:01:10.669Z"
   },
   {
    "duration": 112,
    "start_time": "2022-09-03T21:01:10.837Z"
   },
   {
    "duration": 8,
    "start_time": "2022-09-03T21:01:10.951Z"
   },
   {
    "duration": 23,
    "start_time": "2022-09-03T21:01:10.960Z"
   },
   {
    "duration": 18,
    "start_time": "2022-09-03T21:01:10.985Z"
   },
   {
    "duration": 9,
    "start_time": "2022-09-03T21:01:11.005Z"
   },
   {
    "duration": 26,
    "start_time": "2022-09-03T21:01:11.016Z"
   },
   {
    "duration": 33,
    "start_time": "2022-09-03T21:01:11.044Z"
   },
   {
    "duration": 11,
    "start_time": "2022-09-03T21:01:11.079Z"
   },
   {
    "duration": 16,
    "start_time": "2022-09-03T21:01:11.092Z"
   },
   {
    "duration": 84,
    "start_time": "2022-09-03T21:01:11.110Z"
   },
   {
    "duration": 10,
    "start_time": "2022-09-03T21:01:11.196Z"
   },
   {
    "duration": 9,
    "start_time": "2022-09-03T21:01:11.208Z"
   },
   {
    "duration": 47,
    "start_time": "2022-09-03T21:01:11.219Z"
   },
   {
    "duration": 46,
    "start_time": "2022-09-03T21:01:11.268Z"
   },
   {
    "duration": 88,
    "start_time": "2022-09-03T21:01:11.316Z"
   },
   {
    "duration": 26,
    "start_time": "2022-09-03T21:01:11.406Z"
   },
   {
    "duration": 5,
    "start_time": "2022-09-03T21:01:11.434Z"
   },
   {
    "duration": 30,
    "start_time": "2022-09-03T21:01:11.440Z"
   },
   {
    "duration": 31,
    "start_time": "2022-09-03T21:01:11.474Z"
   },
   {
    "duration": 20,
    "start_time": "2022-09-03T21:01:11.506Z"
   },
   {
    "duration": 5,
    "start_time": "2022-09-03T21:01:11.528Z"
   },
   {
    "duration": 23,
    "start_time": "2022-09-03T21:01:11.534Z"
   },
   {
    "duration": 6,
    "start_time": "2022-09-03T21:01:11.558Z"
   },
   {
    "duration": 45,
    "start_time": "2022-09-03T21:01:11.566Z"
   },
   {
    "duration": 0,
    "start_time": "2022-09-03T21:01:11.613Z"
   },
   {
    "duration": 0,
    "start_time": "2022-09-03T21:01:11.614Z"
   },
   {
    "duration": 0,
    "start_time": "2022-09-03T21:01:11.616Z"
   },
   {
    "duration": 0,
    "start_time": "2022-09-03T21:01:11.617Z"
   },
   {
    "duration": 0,
    "start_time": "2022-09-03T21:01:11.618Z"
   },
   {
    "duration": 0,
    "start_time": "2022-09-03T21:01:11.620Z"
   },
   {
    "duration": 0,
    "start_time": "2022-09-03T21:01:11.621Z"
   },
   {
    "duration": 0,
    "start_time": "2022-09-03T21:01:11.622Z"
   },
   {
    "duration": 0,
    "start_time": "2022-09-03T21:01:11.623Z"
   },
   {
    "duration": 0,
    "start_time": "2022-09-03T21:01:11.625Z"
   },
   {
    "duration": 0,
    "start_time": "2022-09-03T21:01:11.626Z"
   },
   {
    "duration": 0,
    "start_time": "2022-09-03T21:01:11.627Z"
   },
   {
    "duration": 0,
    "start_time": "2022-09-03T21:01:11.628Z"
   },
   {
    "duration": 0,
    "start_time": "2022-09-03T21:01:11.629Z"
   },
   {
    "duration": 0,
    "start_time": "2022-09-03T21:01:11.630Z"
   },
   {
    "duration": 0,
    "start_time": "2022-09-03T21:01:11.631Z"
   },
   {
    "duration": 0,
    "start_time": "2022-09-03T21:01:11.632Z"
   },
   {
    "duration": 0,
    "start_time": "2022-09-03T21:01:11.633Z"
   },
   {
    "duration": 0,
    "start_time": "2022-09-03T21:01:11.634Z"
   },
   {
    "duration": 0,
    "start_time": "2022-09-03T21:01:11.635Z"
   },
   {
    "duration": 0,
    "start_time": "2022-09-03T21:01:11.636Z"
   },
   {
    "duration": 0,
    "start_time": "2022-09-03T21:01:11.637Z"
   },
   {
    "duration": 59,
    "start_time": "2022-09-03T21:02:32.101Z"
   },
   {
    "duration": 5,
    "start_time": "2022-09-03T21:44:33.014Z"
   },
   {
    "duration": 2,
    "start_time": "2022-09-03T21:44:54.045Z"
   },
   {
    "duration": 178,
    "start_time": "2022-09-03T21:44:54.054Z"
   },
   {
    "duration": 8,
    "start_time": "2022-09-03T21:44:54.234Z"
   },
   {
    "duration": 27,
    "start_time": "2022-09-03T21:44:54.244Z"
   },
   {
    "duration": 196,
    "start_time": "2022-09-03T21:44:54.273Z"
   },
   {
    "duration": 130,
    "start_time": "2022-09-03T21:44:54.472Z"
   },
   {
    "duration": 9,
    "start_time": "2022-09-03T21:44:54.604Z"
   },
   {
    "duration": 23,
    "start_time": "2022-09-03T21:44:54.615Z"
   },
   {
    "duration": 187,
    "start_time": "2022-09-03T21:44:54.640Z"
   },
   {
    "duration": 98,
    "start_time": "2022-09-03T21:44:54.829Z"
   },
   {
    "duration": 7,
    "start_time": "2022-09-03T21:44:54.929Z"
   },
   {
    "duration": 23,
    "start_time": "2022-09-03T21:44:54.938Z"
   },
   {
    "duration": 15,
    "start_time": "2022-09-03T21:44:54.963Z"
   },
   {
    "duration": 24,
    "start_time": "2022-09-03T21:44:54.981Z"
   },
   {
    "duration": 14,
    "start_time": "2022-09-03T21:44:55.008Z"
   },
   {
    "duration": 34,
    "start_time": "2022-09-03T21:44:55.025Z"
   },
   {
    "duration": 10,
    "start_time": "2022-09-03T21:44:55.061Z"
   },
   {
    "duration": 20,
    "start_time": "2022-09-03T21:44:55.073Z"
   },
   {
    "duration": 86,
    "start_time": "2022-09-03T21:44:55.095Z"
   },
   {
    "duration": 6,
    "start_time": "2022-09-03T21:44:55.182Z"
   },
   {
    "duration": 14,
    "start_time": "2022-09-03T21:44:55.190Z"
   },
   {
    "duration": 38,
    "start_time": "2022-09-03T21:44:55.206Z"
   },
   {
    "duration": 27,
    "start_time": "2022-09-03T21:44:55.245Z"
   },
   {
    "duration": 51,
    "start_time": "2022-09-03T21:44:55.273Z"
   },
   {
    "duration": 18,
    "start_time": "2022-09-03T21:44:55.325Z"
   },
   {
    "duration": 5,
    "start_time": "2022-09-03T21:44:55.345Z"
   },
   {
    "duration": 34,
    "start_time": "2022-09-03T21:44:55.352Z"
   },
   {
    "duration": 5,
    "start_time": "2022-09-03T21:44:55.403Z"
   },
   {
    "duration": 19,
    "start_time": "2022-09-03T21:44:55.410Z"
   },
   {
    "duration": 5,
    "start_time": "2022-09-03T21:44:55.431Z"
   },
   {
    "duration": 16,
    "start_time": "2022-09-03T21:44:55.437Z"
   },
   {
    "duration": 6,
    "start_time": "2022-09-03T21:44:55.455Z"
   },
   {
    "duration": 42,
    "start_time": "2022-09-03T21:44:55.462Z"
   },
   {
    "duration": 34,
    "start_time": "2022-09-03T21:45:10.147Z"
   },
   {
    "duration": 8,
    "start_time": "2022-09-03T21:45:14.182Z"
   },
   {
    "duration": 6,
    "start_time": "2022-09-03T21:45:19.069Z"
   },
   {
    "duration": 3,
    "start_time": "2022-09-03T21:45:22.333Z"
   },
   {
    "duration": 9,
    "start_time": "2022-09-03T21:45:25.170Z"
   },
   {
    "duration": 10,
    "start_time": "2022-09-03T21:45:27.709Z"
   },
   {
    "duration": 5,
    "start_time": "2022-09-03T21:45:31.837Z"
   },
   {
    "duration": 7,
    "start_time": "2022-09-03T21:45:34.469Z"
   },
   {
    "duration": 5,
    "start_time": "2022-09-03T21:45:37.926Z"
   },
   {
    "duration": 21,
    "start_time": "2022-09-03T21:45:40.693Z"
   },
   {
    "duration": 33,
    "start_time": "2022-09-03T21:49:53.948Z"
   },
   {
    "duration": 12,
    "start_time": "2022-09-03T21:50:09.016Z"
   },
   {
    "duration": 4,
    "start_time": "2022-09-03T21:50:35.649Z"
   },
   {
    "duration": 3,
    "start_time": "2022-09-03T21:50:53.039Z"
   },
   {
    "duration": 3,
    "start_time": "2022-09-03T21:51:02.191Z"
   },
   {
    "duration": 8,
    "start_time": "2022-09-03T21:51:04.929Z"
   },
   {
    "duration": 8,
    "start_time": "2022-09-03T21:51:15.153Z"
   },
   {
    "duration": 9,
    "start_time": "2022-09-03T21:51:35.857Z"
   },
   {
    "duration": 2,
    "start_time": "2022-09-03T21:51:43.688Z"
   },
   {
    "duration": 164,
    "start_time": "2022-09-03T21:51:43.696Z"
   },
   {
    "duration": 9,
    "start_time": "2022-09-03T21:51:43.863Z"
   },
   {
    "duration": 44,
    "start_time": "2022-09-03T21:51:43.874Z"
   },
   {
    "duration": 174,
    "start_time": "2022-09-03T21:51:43.920Z"
   },
   {
    "duration": 132,
    "start_time": "2022-09-03T21:51:44.096Z"
   },
   {
    "duration": 11,
    "start_time": "2022-09-03T21:51:44.230Z"
   },
   {
    "duration": 27,
    "start_time": "2022-09-03T21:51:44.243Z"
   },
   {
    "duration": 272,
    "start_time": "2022-09-03T21:51:44.272Z"
   },
   {
    "duration": 92,
    "start_time": "2022-09-03T21:51:44.546Z"
   },
   {
    "duration": 9,
    "start_time": "2022-09-03T21:51:44.642Z"
   },
   {
    "duration": 29,
    "start_time": "2022-09-03T21:51:44.653Z"
   },
   {
    "duration": 16,
    "start_time": "2022-09-03T21:51:44.702Z"
   },
   {
    "duration": 9,
    "start_time": "2022-09-03T21:51:44.719Z"
   },
   {
    "duration": 13,
    "start_time": "2022-09-03T21:51:44.730Z"
   },
   {
    "duration": 43,
    "start_time": "2022-09-03T21:51:44.745Z"
   },
   {
    "duration": 9,
    "start_time": "2022-09-03T21:51:44.789Z"
   },
   {
    "duration": 13,
    "start_time": "2022-09-03T21:51:44.800Z"
   },
   {
    "duration": 94,
    "start_time": "2022-09-03T21:51:44.814Z"
   },
   {
    "duration": 6,
    "start_time": "2022-09-03T21:51:44.910Z"
   },
   {
    "duration": 14,
    "start_time": "2022-09-03T21:51:44.918Z"
   },
   {
    "duration": 70,
    "start_time": "2022-09-03T21:51:44.934Z"
   },
   {
    "duration": 28,
    "start_time": "2022-09-03T21:51:45.006Z"
   },
   {
    "duration": 31,
    "start_time": "2022-09-03T21:51:45.036Z"
   },
   {
    "duration": 44,
    "start_time": "2022-09-03T21:51:45.069Z"
   },
   {
    "duration": 5,
    "start_time": "2022-09-03T21:51:45.115Z"
   },
   {
    "duration": 23,
    "start_time": "2022-09-03T21:51:45.122Z"
   },
   {
    "duration": 5,
    "start_time": "2022-09-03T21:51:45.147Z"
   },
   {
    "duration": 49,
    "start_time": "2022-09-03T21:51:45.156Z"
   },
   {
    "duration": 6,
    "start_time": "2022-09-03T21:51:45.207Z"
   },
   {
    "duration": 18,
    "start_time": "2022-09-03T21:51:45.216Z"
   },
   {
    "duration": 6,
    "start_time": "2022-09-03T21:51:45.236Z"
   },
   {
    "duration": 8,
    "start_time": "2022-09-03T21:51:45.244Z"
   },
   {
    "duration": 81,
    "start_time": "2022-09-03T21:51:45.254Z"
   },
   {
    "duration": 9,
    "start_time": "2022-09-03T21:51:45.337Z"
   },
   {
    "duration": 7,
    "start_time": "2022-09-03T21:51:45.348Z"
   },
   {
    "duration": 9,
    "start_time": "2022-09-03T21:51:45.357Z"
   },
   {
    "duration": 4,
    "start_time": "2022-09-03T21:52:06.481Z"
   },
   {
    "duration": 11,
    "start_time": "2022-09-03T21:52:09.560Z"
   },
   {
    "duration": 32,
    "start_time": "2022-09-03T21:52:35.584Z"
   },
   {
    "duration": 731,
    "start_time": "2022-09-03T21:52:46.377Z"
   },
   {
    "duration": 886,
    "start_time": "2022-09-03T21:52:58.115Z"
   },
   {
    "duration": 395,
    "start_time": "2022-09-04T06:43:03.237Z"
   },
   {
    "duration": 228,
    "start_time": "2022-09-04T06:43:03.634Z"
   },
   {
    "duration": 16,
    "start_time": "2022-09-04T06:43:03.864Z"
   },
   {
    "duration": 24,
    "start_time": "2022-09-04T06:43:03.883Z"
   },
   {
    "duration": 560,
    "start_time": "2022-09-04T06:43:03.908Z"
   },
   {
    "duration": 303,
    "start_time": "2022-09-04T06:43:04.470Z"
   },
   {
    "duration": 9,
    "start_time": "2022-09-04T06:43:04.775Z"
   },
   {
    "duration": 22,
    "start_time": "2022-09-04T06:43:04.785Z"
   },
   {
    "duration": 147,
    "start_time": "2022-09-04T06:43:04.808Z"
   },
   {
    "duration": 322,
    "start_time": "2022-09-04T06:43:04.957Z"
   },
   {
    "duration": 7,
    "start_time": "2022-09-04T06:43:05.280Z"
   },
   {
    "duration": 19,
    "start_time": "2022-09-04T06:43:05.289Z"
   },
   {
    "duration": 58,
    "start_time": "2022-09-04T06:43:05.310Z"
   },
   {
    "duration": 7,
    "start_time": "2022-09-04T06:43:05.370Z"
   },
   {
    "duration": 12,
    "start_time": "2022-09-04T06:43:05.379Z"
   },
   {
    "duration": 59,
    "start_time": "2022-09-04T06:43:05.393Z"
   },
   {
    "duration": 7,
    "start_time": "2022-09-04T06:43:05.453Z"
   },
   {
    "duration": 18,
    "start_time": "2022-09-04T06:43:05.462Z"
   },
   {
    "duration": 79,
    "start_time": "2022-09-04T06:43:05.481Z"
   },
   {
    "duration": 7,
    "start_time": "2022-09-04T06:43:05.561Z"
   },
   {
    "duration": 10,
    "start_time": "2022-09-04T06:43:05.569Z"
   },
   {
    "duration": 36,
    "start_time": "2022-09-04T06:43:05.580Z"
   },
   {
    "duration": 80,
    "start_time": "2022-09-04T06:43:05.617Z"
   },
   {
    "duration": 39,
    "start_time": "2022-09-04T06:43:05.699Z"
   },
   {
    "duration": 22,
    "start_time": "2022-09-04T06:43:05.740Z"
   },
   {
    "duration": 4,
    "start_time": "2022-09-04T06:43:05.764Z"
   },
   {
    "duration": 27,
    "start_time": "2022-09-04T06:43:05.770Z"
   },
   {
    "duration": 5,
    "start_time": "2022-09-04T06:43:05.800Z"
   },
   {
    "duration": 44,
    "start_time": "2022-09-04T06:43:05.806Z"
   },
   {
    "duration": 4,
    "start_time": "2022-09-04T06:43:05.852Z"
   },
   {
    "duration": 15,
    "start_time": "2022-09-04T06:43:05.858Z"
   },
   {
    "duration": 5,
    "start_time": "2022-09-04T06:43:05.875Z"
   },
   {
    "duration": 7,
    "start_time": "2022-09-04T06:43:05.882Z"
   },
   {
    "duration": 58,
    "start_time": "2022-09-04T06:43:05.890Z"
   },
   {
    "duration": 7,
    "start_time": "2022-09-04T06:43:05.950Z"
   },
   {
    "duration": 9,
    "start_time": "2022-09-04T06:43:05.958Z"
   },
   {
    "duration": 3,
    "start_time": "2022-09-04T06:43:05.968Z"
   },
   {
    "duration": 30,
    "start_time": "2022-09-04T06:43:05.972Z"
   },
   {
    "duration": 34,
    "start_time": "2022-09-04T06:43:06.004Z"
   },
   {
    "duration": 3,
    "start_time": "2022-09-04T06:43:06.040Z"
   },
   {
    "duration": 8,
    "start_time": "2022-09-04T06:43:06.045Z"
   },
   {
    "duration": 8,
    "start_time": "2022-09-04T06:43:06.055Z"
   },
   {
    "duration": 93,
    "start_time": "2022-09-04T06:43:06.065Z"
   },
   {
    "duration": 0,
    "start_time": "2022-09-04T06:43:06.161Z"
   },
   {
    "duration": 0,
    "start_time": "2022-09-04T06:43:06.162Z"
   },
   {
    "duration": 0,
    "start_time": "2022-09-04T06:43:06.163Z"
   },
   {
    "duration": 0,
    "start_time": "2022-09-04T06:43:06.165Z"
   },
   {
    "duration": 0,
    "start_time": "2022-09-04T06:43:06.166Z"
   },
   {
    "duration": 0,
    "start_time": "2022-09-04T06:43:06.167Z"
   },
   {
    "duration": 0,
    "start_time": "2022-09-04T06:43:06.168Z"
   },
   {
    "duration": 0,
    "start_time": "2022-09-04T06:43:06.169Z"
   },
   {
    "duration": 0,
    "start_time": "2022-09-04T06:43:06.170Z"
   },
   {
    "duration": 0,
    "start_time": "2022-09-04T06:43:06.171Z"
   },
   {
    "duration": 0,
    "start_time": "2022-09-04T06:43:06.172Z"
   },
   {
    "duration": 0,
    "start_time": "2022-09-04T06:43:06.173Z"
   },
   {
    "duration": 30,
    "start_time": "2022-09-04T07:04:39.039Z"
   },
   {
    "duration": 7,
    "start_time": "2022-09-04T07:05:27.182Z"
   },
   {
    "duration": 5,
    "start_time": "2022-09-04T07:05:32.724Z"
   },
   {
    "duration": 3,
    "start_time": "2022-09-04T07:05:36.469Z"
   },
   {
    "duration": 27,
    "start_time": "2022-09-04T07:05:40.638Z"
   },
   {
    "duration": 9,
    "start_time": "2022-09-04T07:05:49.069Z"
   },
   {
    "duration": 4,
    "start_time": "2022-09-04T07:05:56.716Z"
   },
   {
    "duration": 1477,
    "start_time": "2022-09-04T07:06:18.437Z"
   },
   {
    "duration": 2,
    "start_time": "2022-09-04T07:07:00.476Z"
   },
   {
    "duration": 180,
    "start_time": "2022-09-04T07:07:00.484Z"
   },
   {
    "duration": 8,
    "start_time": "2022-09-04T07:07:00.666Z"
   },
   {
    "duration": 39,
    "start_time": "2022-09-04T07:07:00.676Z"
   },
   {
    "duration": 161,
    "start_time": "2022-09-04T07:07:00.717Z"
   },
   {
    "duration": 123,
    "start_time": "2022-09-04T07:07:00.880Z"
   },
   {
    "duration": 9,
    "start_time": "2022-09-04T07:07:01.004Z"
   },
   {
    "duration": 42,
    "start_time": "2022-09-04T07:07:01.014Z"
   },
   {
    "duration": 149,
    "start_time": "2022-09-04T07:07:01.058Z"
   },
   {
    "duration": 90,
    "start_time": "2022-09-04T07:07:01.209Z"
   },
   {
    "duration": 8,
    "start_time": "2022-09-04T07:07:01.300Z"
   },
   {
    "duration": 34,
    "start_time": "2022-09-04T07:07:01.309Z"
   },
   {
    "duration": 30,
    "start_time": "2022-09-04T07:07:01.345Z"
   },
   {
    "duration": 13,
    "start_time": "2022-09-04T07:07:01.377Z"
   },
   {
    "duration": 21,
    "start_time": "2022-09-04T07:07:01.393Z"
   },
   {
    "duration": 82,
    "start_time": "2022-09-04T07:07:01.416Z"
   },
   {
    "duration": 8,
    "start_time": "2022-09-04T07:07:01.499Z"
   },
   {
    "duration": 38,
    "start_time": "2022-09-04T07:07:01.509Z"
   },
   {
    "duration": 107,
    "start_time": "2022-09-04T07:07:01.549Z"
   },
   {
    "duration": 5,
    "start_time": "2022-09-04T07:07:01.658Z"
   },
   {
    "duration": 23,
    "start_time": "2022-09-04T07:07:01.665Z"
   },
   {
    "duration": 42,
    "start_time": "2022-09-04T07:07:01.689Z"
   },
   {
    "duration": 24,
    "start_time": "2022-09-04T07:07:01.733Z"
   },
   {
    "duration": 27,
    "start_time": "2022-09-04T07:07:01.758Z"
   },
   {
    "duration": 18,
    "start_time": "2022-09-04T07:07:01.786Z"
   },
   {
    "duration": 5,
    "start_time": "2022-09-04T07:07:01.806Z"
   },
   {
    "duration": 17,
    "start_time": "2022-09-04T07:07:01.839Z"
   },
   {
    "duration": 15,
    "start_time": "2022-09-04T07:07:01.857Z"
   },
   {
    "duration": 22,
    "start_time": "2022-09-04T07:07:01.874Z"
   },
   {
    "duration": 13,
    "start_time": "2022-09-04T07:07:01.897Z"
   },
   {
    "duration": 24,
    "start_time": "2022-09-04T07:07:01.911Z"
   },
   {
    "duration": 13,
    "start_time": "2022-09-04T07:07:01.938Z"
   },
   {
    "duration": 11,
    "start_time": "2022-09-04T07:07:01.953Z"
   },
   {
    "duration": 117,
    "start_time": "2022-09-04T07:07:01.965Z"
   },
   {
    "duration": 7,
    "start_time": "2022-09-04T07:07:02.083Z"
   },
   {
    "duration": 9,
    "start_time": "2022-09-04T07:07:02.092Z"
   },
   {
    "duration": 10,
    "start_time": "2022-09-04T07:07:02.103Z"
   },
   {
    "duration": 45,
    "start_time": "2022-09-04T07:07:02.114Z"
   },
   {
    "duration": 8,
    "start_time": "2022-09-04T07:07:02.161Z"
   },
   {
    "duration": 9,
    "start_time": "2022-09-04T07:07:02.171Z"
   },
   {
    "duration": 6,
    "start_time": "2022-09-04T07:07:23.916Z"
   },
   {
    "duration": 5,
    "start_time": "2022-09-04T07:07:26.330Z"
   },
   {
    "duration": 40,
    "start_time": "2022-09-04T07:07:36.902Z"
   },
   {
    "duration": 664,
    "start_time": "2022-09-04T07:07:44.869Z"
   },
   {
    "duration": 224,
    "start_time": "2022-09-04T07:07:49.581Z"
   },
   {
    "duration": 361,
    "start_time": "2022-09-04T07:07:53.677Z"
   },
   {
    "duration": 227,
    "start_time": "2022-09-04T07:07:57.734Z"
   },
   {
    "duration": 235,
    "start_time": "2022-09-04T07:08:01.021Z"
   },
   {
    "duration": 181,
    "start_time": "2022-09-04T07:08:04.951Z"
   },
   {
    "duration": 257,
    "start_time": "2022-09-04T07:08:08.366Z"
   },
   {
    "duration": 182,
    "start_time": "2022-09-04T07:08:12.534Z"
   },
   {
    "duration": 3,
    "start_time": "2022-09-04T07:08:28.997Z"
   },
   {
    "duration": 33,
    "start_time": "2022-09-04T07:08:31.566Z"
   },
   {
    "duration": 131,
    "start_time": "2022-09-04T07:08:39.053Z"
   },
   {
    "duration": 16,
    "start_time": "2022-09-04T07:09:26.823Z"
   },
   {
    "duration": 17,
    "start_time": "2022-09-04T07:14:23.475Z"
   },
   {
    "duration": 16,
    "start_time": "2022-09-04T07:15:48.682Z"
   },
   {
    "duration": 14,
    "start_time": "2022-09-04T07:37:34.402Z"
   },
   {
    "duration": 24,
    "start_time": "2022-09-04T07:38:22.961Z"
   },
   {
    "duration": 14,
    "start_time": "2022-09-04T07:39:19.058Z"
   },
   {
    "duration": 25,
    "start_time": "2022-09-04T07:58:16.141Z"
   },
   {
    "duration": 117,
    "start_time": "2022-09-04T08:06:31.748Z"
   },
   {
    "duration": 162,
    "start_time": "2022-09-04T08:08:08.187Z"
   },
   {
    "duration": 20,
    "start_time": "2022-09-04T08:09:44.075Z"
   },
   {
    "duration": 19,
    "start_time": "2022-09-04T08:10:16.986Z"
   },
   {
    "duration": 3,
    "start_time": "2022-09-04T08:11:21.628Z"
   },
   {
    "duration": 49,
    "start_time": "2022-09-04T08:11:29.629Z"
   },
   {
    "duration": 22,
    "start_time": "2022-09-04T08:11:52.596Z"
   },
   {
    "duration": 38,
    "start_time": "2022-09-04T08:13:16.423Z"
   },
   {
    "duration": 565,
    "start_time": "2022-09-04T08:21:12.759Z"
   },
   {
    "duration": 36,
    "start_time": "2022-09-04T08:22:01.728Z"
   },
   {
    "duration": 14,
    "start_time": "2022-09-04T08:31:08.513Z"
   },
   {
    "duration": 24,
    "start_time": "2022-09-04T08:32:56.878Z"
   },
   {
    "duration": 14,
    "start_time": "2022-09-04T08:33:50.370Z"
   },
   {
    "duration": 80,
    "start_time": "2022-09-04T08:34:09.848Z"
   },
   {
    "duration": 30,
    "start_time": "2022-09-04T08:35:16.647Z"
   },
   {
    "duration": 27,
    "start_time": "2022-09-04T08:35:56.237Z"
   },
   {
    "duration": 15,
    "start_time": "2022-09-04T08:37:17.605Z"
   },
   {
    "duration": 10,
    "start_time": "2022-09-04T08:39:12.686Z"
   },
   {
    "duration": 10,
    "start_time": "2022-09-04T08:40:30.520Z"
   },
   {
    "duration": 437,
    "start_time": "2022-09-04T08:46:44.129Z"
   },
   {
    "duration": 183,
    "start_time": "2022-09-04T08:46:44.570Z"
   },
   {
    "duration": 21,
    "start_time": "2022-09-04T08:46:44.755Z"
   },
   {
    "duration": 72,
    "start_time": "2022-09-04T08:46:44.778Z"
   },
   {
    "duration": 437,
    "start_time": "2022-09-04T08:46:44.859Z"
   },
   {
    "duration": 164,
    "start_time": "2022-09-04T08:46:45.298Z"
   },
   {
    "duration": 18,
    "start_time": "2022-09-04T08:46:45.464Z"
   },
   {
    "duration": 49,
    "start_time": "2022-09-04T08:46:45.483Z"
   },
   {
    "duration": 269,
    "start_time": "2022-09-04T08:46:45.533Z"
   },
   {
    "duration": 139,
    "start_time": "2022-09-04T08:46:45.805Z"
   },
   {
    "duration": 15,
    "start_time": "2022-09-04T08:46:45.952Z"
   },
   {
    "duration": 46,
    "start_time": "2022-09-04T08:46:45.969Z"
   },
   {
    "duration": 39,
    "start_time": "2022-09-04T08:46:46.016Z"
   },
   {
    "duration": 29,
    "start_time": "2022-09-04T08:46:46.058Z"
   },
   {
    "duration": 17,
    "start_time": "2022-09-04T08:46:46.091Z"
   },
   {
    "duration": 43,
    "start_time": "2022-09-04T08:46:46.110Z"
   },
   {
    "duration": 12,
    "start_time": "2022-09-04T08:46:46.155Z"
   },
   {
    "duration": 38,
    "start_time": "2022-09-04T08:46:46.176Z"
   },
   {
    "duration": 113,
    "start_time": "2022-09-04T08:46:46.216Z"
   },
   {
    "duration": 15,
    "start_time": "2022-09-04T08:46:46.330Z"
   },
   {
    "duration": 43,
    "start_time": "2022-09-04T08:46:46.349Z"
   },
   {
    "duration": 49,
    "start_time": "2022-09-04T08:46:46.394Z"
   },
   {
    "duration": 39,
    "start_time": "2022-09-04T08:46:46.447Z"
   },
   {
    "duration": 103,
    "start_time": "2022-09-04T08:46:46.490Z"
   },
   {
    "duration": 27,
    "start_time": "2022-09-04T08:46:46.595Z"
   },
   {
    "duration": 5,
    "start_time": "2022-09-04T08:46:46.624Z"
   },
   {
    "duration": 42,
    "start_time": "2022-09-04T08:46:46.631Z"
   },
   {
    "duration": 20,
    "start_time": "2022-09-04T08:46:46.677Z"
   },
   {
    "duration": 22,
    "start_time": "2022-09-04T08:46:46.699Z"
   },
   {
    "duration": 6,
    "start_time": "2022-09-04T08:46:46.722Z"
   },
   {
    "duration": 68,
    "start_time": "2022-09-04T08:46:46.729Z"
   },
   {
    "duration": 14,
    "start_time": "2022-09-04T08:46:46.799Z"
   },
   {
    "duration": 12,
    "start_time": "2022-09-04T08:46:46.815Z"
   },
   {
    "duration": 107,
    "start_time": "2022-09-04T08:46:46.829Z"
   },
   {
    "duration": 14,
    "start_time": "2022-09-04T08:46:46.938Z"
   },
   {
    "duration": 34,
    "start_time": "2022-09-04T08:46:46.953Z"
   },
   {
    "duration": 5,
    "start_time": "2022-09-04T08:46:46.989Z"
   },
   {
    "duration": 33,
    "start_time": "2022-09-04T08:46:46.996Z"
   },
   {
    "duration": 12,
    "start_time": "2022-09-04T08:46:47.032Z"
   },
   {
    "duration": 28,
    "start_time": "2022-09-04T08:46:47.052Z"
   },
   {
    "duration": 9,
    "start_time": "2022-09-04T08:46:47.082Z"
   },
   {
    "duration": 7,
    "start_time": "2022-09-04T08:46:47.093Z"
   },
   {
    "duration": 59,
    "start_time": "2022-09-04T08:46:47.102Z"
   },
   {
    "duration": 847,
    "start_time": "2022-09-04T08:46:47.166Z"
   },
   {
    "duration": 373,
    "start_time": "2022-09-04T08:46:48.015Z"
   },
   {
    "duration": 337,
    "start_time": "2022-09-04T08:46:48.390Z"
   },
   {
    "duration": 268,
    "start_time": "2022-09-04T08:46:48.729Z"
   },
   {
    "duration": 341,
    "start_time": "2022-09-04T08:46:49.001Z"
   },
   {
    "duration": 237,
    "start_time": "2022-09-04T08:46:49.344Z"
   },
   {
    "duration": 343,
    "start_time": "2022-09-04T08:46:49.584Z"
   },
   {
    "duration": 375,
    "start_time": "2022-09-04T08:46:49.929Z"
   },
   {
    "duration": 3,
    "start_time": "2022-09-04T08:46:50.306Z"
   },
   {
    "duration": 67,
    "start_time": "2022-09-04T08:46:50.310Z"
   },
   {
    "duration": 13,
    "start_time": "2022-09-04T08:46:50.378Z"
   },
   {
    "duration": 23,
    "start_time": "2022-09-04T08:46:50.393Z"
   },
   {
    "duration": 9,
    "start_time": "2022-09-04T08:48:21.406Z"
   },
   {
    "duration": 3,
    "start_time": "2022-09-04T08:51:01.905Z"
   },
   {
    "duration": 13,
    "start_time": "2022-09-04T08:51:06.176Z"
   },
   {
    "duration": 822,
    "start_time": "2022-09-04T08:51:26.680Z"
   },
   {
    "duration": 178,
    "start_time": "2022-09-04T08:51:27.504Z"
   },
   {
    "duration": 19,
    "start_time": "2022-09-04T08:51:27.683Z"
   },
   {
    "duration": 51,
    "start_time": "2022-09-04T08:51:27.705Z"
   },
   {
    "duration": 397,
    "start_time": "2022-09-04T08:51:27.761Z"
   },
   {
    "duration": 139,
    "start_time": "2022-09-04T08:51:28.159Z"
   },
   {
    "duration": 9,
    "start_time": "2022-09-04T08:51:28.299Z"
   },
   {
    "duration": 40,
    "start_time": "2022-09-04T08:51:28.310Z"
   },
   {
    "duration": 148,
    "start_time": "2022-09-04T08:51:28.358Z"
   },
   {
    "duration": 97,
    "start_time": "2022-09-04T08:51:28.508Z"
   },
   {
    "duration": 7,
    "start_time": "2022-09-04T08:51:28.606Z"
   },
   {
    "duration": 39,
    "start_time": "2022-09-04T08:51:28.615Z"
   },
   {
    "duration": 41,
    "start_time": "2022-09-04T08:51:28.661Z"
   },
   {
    "duration": 9,
    "start_time": "2022-09-04T08:51:28.704Z"
   },
   {
    "duration": 12,
    "start_time": "2022-09-04T08:51:28.714Z"
   },
   {
    "duration": 55,
    "start_time": "2022-09-04T08:51:28.727Z"
   },
   {
    "duration": 7,
    "start_time": "2022-09-04T08:51:28.783Z"
   },
   {
    "duration": 26,
    "start_time": "2022-09-04T08:51:28.792Z"
   },
   {
    "duration": 110,
    "start_time": "2022-09-04T08:51:28.820Z"
   },
   {
    "duration": 10,
    "start_time": "2022-09-04T08:51:28.933Z"
   },
   {
    "duration": 44,
    "start_time": "2022-09-04T08:51:28.948Z"
   },
   {
    "duration": 53,
    "start_time": "2022-09-04T08:51:28.995Z"
   },
   {
    "duration": 33,
    "start_time": "2022-09-04T08:51:29.052Z"
   },
   {
    "duration": 32,
    "start_time": "2022-09-04T08:51:29.088Z"
   },
   {
    "duration": 47,
    "start_time": "2022-09-04T08:51:29.123Z"
   },
   {
    "duration": 13,
    "start_time": "2022-09-04T08:51:29.173Z"
   },
   {
    "duration": 40,
    "start_time": "2022-09-04T08:51:29.188Z"
   },
   {
    "duration": 5,
    "start_time": "2022-09-04T08:51:29.232Z"
   },
   {
    "duration": 46,
    "start_time": "2022-09-04T08:51:29.244Z"
   },
   {
    "duration": 5,
    "start_time": "2022-09-04T08:51:29.292Z"
   },
   {
    "duration": 18,
    "start_time": "2022-09-04T08:51:29.299Z"
   },
   {
    "duration": 5,
    "start_time": "2022-09-04T08:51:29.319Z"
   },
   {
    "duration": 9,
    "start_time": "2022-09-04T08:51:29.326Z"
   },
   {
    "duration": 68,
    "start_time": "2022-09-04T08:51:29.336Z"
   },
   {
    "duration": 7,
    "start_time": "2022-09-04T08:51:29.405Z"
   },
   {
    "duration": 9,
    "start_time": "2022-09-04T08:51:29.413Z"
   },
   {
    "duration": 6,
    "start_time": "2022-09-04T08:51:29.423Z"
   },
   {
    "duration": 45,
    "start_time": "2022-09-04T08:51:29.430Z"
   },
   {
    "duration": 14,
    "start_time": "2022-09-04T08:51:29.479Z"
   },
   {
    "duration": 4,
    "start_time": "2022-09-04T08:51:29.496Z"
   },
   {
    "duration": 7,
    "start_time": "2022-09-04T08:51:29.502Z"
   },
   {
    "duration": 5,
    "start_time": "2022-09-04T08:51:29.511Z"
   },
   {
    "duration": 70,
    "start_time": "2022-09-04T08:51:29.518Z"
   },
   {
    "duration": 429,
    "start_time": "2022-09-04T08:51:29.590Z"
   },
   {
    "duration": 374,
    "start_time": "2022-09-04T08:51:30.021Z"
   },
   {
    "duration": 369,
    "start_time": "2022-09-04T08:51:30.397Z"
   },
   {
    "duration": 241,
    "start_time": "2022-09-04T08:51:30.770Z"
   },
   {
    "duration": 288,
    "start_time": "2022-09-04T08:51:31.012Z"
   },
   {
    "duration": 226,
    "start_time": "2022-09-04T08:51:31.302Z"
   },
   {
    "duration": 353,
    "start_time": "2022-09-04T08:51:31.530Z"
   },
   {
    "duration": 336,
    "start_time": "2022-09-04T08:51:31.885Z"
   },
   {
    "duration": 3,
    "start_time": "2022-09-04T08:51:32.222Z"
   },
   {
    "duration": 81,
    "start_time": "2022-09-04T08:51:32.228Z"
   },
   {
    "duration": 11,
    "start_time": "2022-09-04T08:51:32.311Z"
   },
   {
    "duration": 13,
    "start_time": "2022-09-04T08:51:32.324Z"
   },
   {
    "duration": 12,
    "start_time": "2022-09-04T08:52:09.590Z"
   },
   {
    "duration": 6,
    "start_time": "2022-09-04T08:52:58.788Z"
   },
   {
    "duration": 6,
    "start_time": "2022-09-04T08:55:28.004Z"
   },
   {
    "duration": 6,
    "start_time": "2022-09-04T08:57:52.866Z"
   },
   {
    "duration": 7,
    "start_time": "2022-09-04T09:00:29.217Z"
   },
   {
    "duration": 5,
    "start_time": "2022-09-04T09:03:44.795Z"
   },
   {
    "duration": 7,
    "start_time": "2022-09-04T09:04:22.114Z"
   },
   {
    "duration": 10,
    "start_time": "2022-09-04T09:05:12.835Z"
   },
   {
    "duration": 5,
    "start_time": "2022-09-04T09:06:07.300Z"
   },
   {
    "duration": 6,
    "start_time": "2022-09-04T09:06:47.419Z"
   },
   {
    "duration": 7,
    "start_time": "2022-09-04T09:13:51.080Z"
   },
   {
    "duration": 112,
    "start_time": "2022-09-04T09:15:55.586Z"
   },
   {
    "duration": 9,
    "start_time": "2022-09-04T09:16:08.395Z"
   },
   {
    "duration": 6,
    "start_time": "2022-09-04T09:16:25.861Z"
   },
   {
    "duration": 6,
    "start_time": "2022-09-04T09:17:31.171Z"
   },
   {
    "duration": 10,
    "start_time": "2022-09-04T09:18:04.603Z"
   },
   {
    "duration": 6,
    "start_time": "2022-09-04T09:18:34.420Z"
   },
   {
    "duration": 6,
    "start_time": "2022-09-04T09:19:40.525Z"
   },
   {
    "duration": 7,
    "start_time": "2022-09-04T09:20:10.934Z"
   },
   {
    "duration": 7,
    "start_time": "2022-09-04T09:25:27.095Z"
   },
   {
    "duration": 9,
    "start_time": "2022-09-04T09:26:20.304Z"
   },
   {
    "duration": 6,
    "start_time": "2022-09-04T09:27:10.319Z"
   },
   {
    "duration": 6,
    "start_time": "2022-09-04T09:28:55.050Z"
   },
   {
    "duration": 6,
    "start_time": "2022-09-04T09:33:47.527Z"
   },
   {
    "duration": 6,
    "start_time": "2022-09-04T09:34:03.322Z"
   },
   {
    "duration": 16,
    "start_time": "2022-09-04T09:34:18.269Z"
   },
   {
    "duration": 6,
    "start_time": "2022-09-04T09:34:22.485Z"
   },
   {
    "duration": 2,
    "start_time": "2022-09-04T09:44:22.953Z"
   },
   {
    "duration": 853,
    "start_time": "2022-09-04T09:45:00.924Z"
   },
   {
    "duration": 160,
    "start_time": "2022-09-04T09:45:01.779Z"
   },
   {
    "duration": 8,
    "start_time": "2022-09-04T09:45:01.940Z"
   },
   {
    "duration": 27,
    "start_time": "2022-09-04T09:45:01.950Z"
   },
   {
    "duration": 431,
    "start_time": "2022-09-04T09:45:01.979Z"
   },
   {
    "duration": 136,
    "start_time": "2022-09-04T09:45:02.411Z"
   },
   {
    "duration": 6,
    "start_time": "2022-09-04T09:45:02.549Z"
   },
   {
    "duration": 33,
    "start_time": "2022-09-04T09:45:02.556Z"
   },
   {
    "duration": 149,
    "start_time": "2022-09-04T09:45:02.591Z"
   },
   {
    "duration": 94,
    "start_time": "2022-09-04T09:45:02.742Z"
   },
   {
    "duration": 6,
    "start_time": "2022-09-04T09:45:02.837Z"
   },
   {
    "duration": 22,
    "start_time": "2022-09-04T09:45:02.844Z"
   },
   {
    "duration": 26,
    "start_time": "2022-09-04T09:45:02.868Z"
   },
   {
    "duration": 5,
    "start_time": "2022-09-04T09:45:02.898Z"
   },
   {
    "duration": 15,
    "start_time": "2022-09-04T09:45:02.905Z"
   },
   {
    "duration": 30,
    "start_time": "2022-09-04T09:45:02.922Z"
   },
   {
    "duration": 5,
    "start_time": "2022-09-04T09:45:02.954Z"
   },
   {
    "duration": 13,
    "start_time": "2022-09-04T09:45:02.961Z"
   },
   {
    "duration": 78,
    "start_time": "2022-09-04T09:45:02.975Z"
   },
   {
    "duration": 6,
    "start_time": "2022-09-04T09:45:03.054Z"
   },
   {
    "duration": 12,
    "start_time": "2022-09-04T09:45:03.061Z"
   },
   {
    "duration": 36,
    "start_time": "2022-09-04T09:45:03.074Z"
   },
   {
    "duration": 33,
    "start_time": "2022-09-04T09:45:03.112Z"
   },
   {
    "duration": 28,
    "start_time": "2022-09-04T09:45:03.147Z"
   },
   {
    "duration": 22,
    "start_time": "2022-09-04T09:45:03.177Z"
   },
   {
    "duration": 5,
    "start_time": "2022-09-04T09:45:03.201Z"
   },
   {
    "duration": 47,
    "start_time": "2022-09-04T09:45:03.207Z"
   },
   {
    "duration": 5,
    "start_time": "2022-09-04T09:45:03.256Z"
   },
   {
    "duration": 22,
    "start_time": "2022-09-04T09:45:03.262Z"
   },
   {
    "duration": 5,
    "start_time": "2022-09-04T09:45:03.285Z"
   },
   {
    "duration": 16,
    "start_time": "2022-09-04T09:45:03.292Z"
   },
   {
    "duration": 3,
    "start_time": "2022-09-04T09:45:03.309Z"
   },
   {
    "duration": 35,
    "start_time": "2022-09-04T09:45:03.313Z"
   },
   {
    "duration": 35,
    "start_time": "2022-09-04T09:45:03.349Z"
   },
   {
    "duration": 7,
    "start_time": "2022-09-04T09:45:03.386Z"
   },
   {
    "duration": 10,
    "start_time": "2022-09-04T09:45:03.394Z"
   },
   {
    "duration": 13,
    "start_time": "2022-09-04T09:45:03.406Z"
   },
   {
    "duration": 43,
    "start_time": "2022-09-04T09:45:03.421Z"
   },
   {
    "duration": 11,
    "start_time": "2022-09-04T09:45:03.466Z"
   },
   {
    "duration": 25,
    "start_time": "2022-09-04T09:45:03.479Z"
   },
   {
    "duration": 16,
    "start_time": "2022-09-04T09:45:03.508Z"
   },
   {
    "duration": 11,
    "start_time": "2022-09-04T09:45:03.525Z"
   },
   {
    "duration": 46,
    "start_time": "2022-09-04T09:45:03.537Z"
   },
   {
    "duration": 338,
    "start_time": "2022-09-04T09:45:03.584Z"
   },
   {
    "duration": 296,
    "start_time": "2022-09-04T09:45:03.925Z"
   },
   {
    "duration": 298,
    "start_time": "2022-09-04T09:45:04.223Z"
   },
   {
    "duration": 209,
    "start_time": "2022-09-04T09:45:04.523Z"
   },
   {
    "duration": 231,
    "start_time": "2022-09-04T09:45:04.737Z"
   },
   {
    "duration": 193,
    "start_time": "2022-09-04T09:45:04.970Z"
   },
   {
    "duration": 274,
    "start_time": "2022-09-04T09:45:05.165Z"
   },
   {
    "duration": 298,
    "start_time": "2022-09-04T09:45:05.441Z"
   },
   {
    "duration": 3,
    "start_time": "2022-09-04T09:45:05.741Z"
   },
   {
    "duration": 58,
    "start_time": "2022-09-04T09:45:05.745Z"
   },
   {
    "duration": 9,
    "start_time": "2022-09-04T09:45:05.805Z"
   },
   {
    "duration": 35,
    "start_time": "2022-09-04T09:45:05.815Z"
   },
   {
    "duration": 771,
    "start_time": "2022-09-04T09:45:44.985Z"
   },
   {
    "duration": 150,
    "start_time": "2022-09-04T09:45:45.758Z"
   },
   {
    "duration": 8,
    "start_time": "2022-09-04T09:45:45.909Z"
   },
   {
    "duration": 35,
    "start_time": "2022-09-04T09:45:45.919Z"
   },
   {
    "duration": 369,
    "start_time": "2022-09-04T09:45:45.956Z"
   },
   {
    "duration": 125,
    "start_time": "2022-09-04T09:45:46.327Z"
   },
   {
    "duration": 5,
    "start_time": "2022-09-04T09:45:46.454Z"
   },
   {
    "duration": 25,
    "start_time": "2022-09-04T09:45:46.461Z"
   },
   {
    "duration": 152,
    "start_time": "2022-09-04T09:45:46.488Z"
   },
   {
    "duration": 89,
    "start_time": "2022-09-04T09:45:46.642Z"
   },
   {
    "duration": 6,
    "start_time": "2022-09-04T09:45:46.733Z"
   },
   {
    "duration": 18,
    "start_time": "2022-09-04T09:45:46.740Z"
   },
   {
    "duration": 14,
    "start_time": "2022-09-04T09:45:46.760Z"
   },
   {
    "duration": 5,
    "start_time": "2022-09-04T09:45:46.775Z"
   },
   {
    "duration": 13,
    "start_time": "2022-09-04T09:45:46.782Z"
   },
   {
    "duration": 41,
    "start_time": "2022-09-04T09:45:46.796Z"
   },
   {
    "duration": 5,
    "start_time": "2022-09-04T09:45:46.839Z"
   },
   {
    "duration": 16,
    "start_time": "2022-09-04T09:45:46.846Z"
   },
   {
    "duration": 79,
    "start_time": "2022-09-04T09:45:46.865Z"
   },
   {
    "duration": 6,
    "start_time": "2022-09-04T09:45:46.946Z"
   },
   {
    "duration": 13,
    "start_time": "2022-09-04T09:45:46.953Z"
   },
   {
    "duration": 35,
    "start_time": "2022-09-04T09:45:46.968Z"
   },
   {
    "duration": 34,
    "start_time": "2022-09-04T09:45:47.004Z"
   },
   {
    "duration": 26,
    "start_time": "2022-09-04T09:45:47.040Z"
   },
   {
    "duration": 22,
    "start_time": "2022-09-04T09:45:47.067Z"
   },
   {
    "duration": 5,
    "start_time": "2022-09-04T09:45:47.091Z"
   },
   {
    "duration": 45,
    "start_time": "2022-09-04T09:45:47.098Z"
   },
   {
    "duration": 4,
    "start_time": "2022-09-04T09:45:47.147Z"
   },
   {
    "duration": 19,
    "start_time": "2022-09-04T09:45:47.153Z"
   },
   {
    "duration": 5,
    "start_time": "2022-09-04T09:45:47.173Z"
   },
   {
    "duration": 16,
    "start_time": "2022-09-04T09:45:47.179Z"
   },
   {
    "duration": 5,
    "start_time": "2022-09-04T09:45:47.197Z"
   },
   {
    "duration": 8,
    "start_time": "2022-09-04T09:45:47.204Z"
   },
   {
    "duration": 52,
    "start_time": "2022-09-04T09:45:47.214Z"
   },
   {
    "duration": 6,
    "start_time": "2022-09-04T09:45:47.268Z"
   },
   {
    "duration": 6,
    "start_time": "2022-09-04T09:45:47.276Z"
   },
   {
    "duration": 7,
    "start_time": "2022-09-04T09:45:47.283Z"
   },
   {
    "duration": 28,
    "start_time": "2022-09-04T09:45:47.291Z"
   },
   {
    "duration": 9,
    "start_time": "2022-09-04T09:45:47.338Z"
   },
   {
    "duration": 10,
    "start_time": "2022-09-04T09:45:47.349Z"
   },
   {
    "duration": 9,
    "start_time": "2022-09-04T09:45:47.361Z"
   },
   {
    "duration": 7,
    "start_time": "2022-09-04T09:45:47.371Z"
   },
   {
    "duration": 39,
    "start_time": "2022-09-04T09:45:47.379Z"
   },
   {
    "duration": 337,
    "start_time": "2022-09-04T09:45:47.419Z"
   },
   {
    "duration": 294,
    "start_time": "2022-09-04T09:45:47.757Z"
   },
   {
    "duration": 291,
    "start_time": "2022-09-04T09:45:48.053Z"
   },
   {
    "duration": 201,
    "start_time": "2022-09-04T09:45:48.346Z"
   },
   {
    "duration": 255,
    "start_time": "2022-09-04T09:45:48.549Z"
   },
   {
    "duration": 279,
    "start_time": "2022-09-04T09:45:48.806Z"
   },
   {
    "duration": 289,
    "start_time": "2022-09-04T09:45:49.087Z"
   },
   {
    "duration": 273,
    "start_time": "2022-09-04T09:45:49.378Z"
   },
   {
    "duration": 3,
    "start_time": "2022-09-04T09:45:49.653Z"
   },
   {
    "duration": 38,
    "start_time": "2022-09-04T09:45:49.657Z"
   },
   {
    "duration": 9,
    "start_time": "2022-09-04T09:45:49.697Z"
   },
   {
    "duration": 35,
    "start_time": "2022-09-04T09:45:49.708Z"
   },
   {
    "duration": 6,
    "start_time": "2022-09-04T09:46:37.115Z"
   },
   {
    "duration": 3,
    "start_time": "2022-09-04T09:47:13.142Z"
   },
   {
    "duration": 30,
    "start_time": "2022-09-04T09:47:33.424Z"
   },
   {
    "duration": 9,
    "start_time": "2022-09-04T09:48:14.714Z"
   },
   {
    "duration": 878,
    "start_time": "2022-09-04T09:49:34.630Z"
   },
   {
    "duration": 157,
    "start_time": "2022-09-04T09:49:35.510Z"
   },
   {
    "duration": 8,
    "start_time": "2022-09-04T09:49:35.669Z"
   },
   {
    "duration": 51,
    "start_time": "2022-09-04T09:49:35.679Z"
   },
   {
    "duration": 372,
    "start_time": "2022-09-04T09:49:35.732Z"
   },
   {
    "duration": 142,
    "start_time": "2022-09-04T09:49:36.106Z"
   },
   {
    "duration": 6,
    "start_time": "2022-09-04T09:49:36.250Z"
   },
   {
    "duration": 27,
    "start_time": "2022-09-04T09:49:36.258Z"
   },
   {
    "duration": 202,
    "start_time": "2022-09-04T09:49:36.287Z"
   },
   {
    "duration": 94,
    "start_time": "2022-09-04T09:49:36.491Z"
   },
   {
    "duration": 6,
    "start_time": "2022-09-04T09:49:36.586Z"
   },
   {
    "duration": 25,
    "start_time": "2022-09-04T09:49:36.593Z"
   },
   {
    "duration": 29,
    "start_time": "2022-09-04T09:49:36.620Z"
   },
   {
    "duration": 6,
    "start_time": "2022-09-04T09:49:36.653Z"
   },
   {
    "duration": 13,
    "start_time": "2022-09-04T09:49:36.661Z"
   },
   {
    "duration": 30,
    "start_time": "2022-09-04T09:49:36.676Z"
   },
   {
    "duration": 6,
    "start_time": "2022-09-04T09:49:36.708Z"
   },
   {
    "duration": 13,
    "start_time": "2022-09-04T09:49:36.716Z"
   },
   {
    "duration": 93,
    "start_time": "2022-09-04T09:49:36.731Z"
   },
   {
    "duration": 5,
    "start_time": "2022-09-04T09:49:36.826Z"
   },
   {
    "duration": 19,
    "start_time": "2022-09-04T09:49:36.838Z"
   },
   {
    "duration": 38,
    "start_time": "2022-09-04T09:49:36.859Z"
   },
   {
    "duration": 24,
    "start_time": "2022-09-04T09:49:36.898Z"
   },
   {
    "duration": 33,
    "start_time": "2022-09-04T09:49:36.924Z"
   },
   {
    "duration": 23,
    "start_time": "2022-09-04T09:49:36.959Z"
   },
   {
    "duration": 5,
    "start_time": "2022-09-04T09:49:36.984Z"
   },
   {
    "duration": 48,
    "start_time": "2022-09-04T09:49:36.990Z"
   },
   {
    "duration": 5,
    "start_time": "2022-09-04T09:49:37.040Z"
   },
   {
    "duration": 20,
    "start_time": "2022-09-04T09:49:37.047Z"
   },
   {
    "duration": 4,
    "start_time": "2022-09-04T09:49:37.069Z"
   },
   {
    "duration": 15,
    "start_time": "2022-09-04T09:49:37.075Z"
   },
   {
    "duration": 6,
    "start_time": "2022-09-04T09:49:37.092Z"
   },
   {
    "duration": 6,
    "start_time": "2022-09-04T09:49:37.100Z"
   },
   {
    "duration": 68,
    "start_time": "2022-09-04T09:49:37.108Z"
   },
   {
    "duration": 10,
    "start_time": "2022-09-04T09:49:37.178Z"
   },
   {
    "duration": 5,
    "start_time": "2022-09-04T09:49:37.190Z"
   },
   {
    "duration": 8,
    "start_time": "2022-09-04T09:49:37.197Z"
   },
   {
    "duration": 39,
    "start_time": "2022-09-04T09:49:37.206Z"
   },
   {
    "duration": 12,
    "start_time": "2022-09-04T09:49:37.247Z"
   },
   {
    "duration": 5,
    "start_time": "2022-09-04T09:49:37.260Z"
   },
   {
    "duration": 12,
    "start_time": "2022-09-04T09:49:37.269Z"
   },
   {
    "duration": 5,
    "start_time": "2022-09-04T09:49:37.283Z"
   },
   {
    "duration": 79,
    "start_time": "2022-09-04T09:49:37.290Z"
   },
   {
    "duration": 372,
    "start_time": "2022-09-04T09:49:37.371Z"
   },
   {
    "duration": 329,
    "start_time": "2022-09-04T09:49:37.745Z"
   },
   {
    "duration": 337,
    "start_time": "2022-09-04T09:49:38.076Z"
   },
   {
    "duration": 252,
    "start_time": "2022-09-04T09:49:38.415Z"
   },
   {
    "duration": 323,
    "start_time": "2022-09-04T09:49:38.669Z"
   },
   {
    "duration": 259,
    "start_time": "2022-09-04T09:49:38.994Z"
   },
   {
    "duration": 308,
    "start_time": "2022-09-04T09:49:39.255Z"
   },
   {
    "duration": 297,
    "start_time": "2022-09-04T09:49:39.564Z"
   },
   {
    "duration": 3,
    "start_time": "2022-09-04T09:49:39.863Z"
   },
   {
    "duration": 34,
    "start_time": "2022-09-04T09:49:39.868Z"
   },
   {
    "duration": 8,
    "start_time": "2022-09-04T09:49:39.904Z"
   },
   {
    "duration": 29,
    "start_time": "2022-09-04T09:49:39.914Z"
   },
   {
    "duration": 9,
    "start_time": "2022-09-04T09:51:56.228Z"
   },
   {
    "duration": 9,
    "start_time": "2022-09-04T09:56:12.078Z"
   },
   {
    "duration": 9,
    "start_time": "2022-09-04T10:00:45.625Z"
   },
   {
    "duration": 10,
    "start_time": "2022-09-04T10:01:50.135Z"
   },
   {
    "duration": 14,
    "start_time": "2022-09-04T10:02:14.129Z"
   },
   {
    "duration": 102,
    "start_time": "2022-09-04T10:03:53.027Z"
   },
   {
    "duration": 9,
    "start_time": "2022-09-04T10:04:23.610Z"
   },
   {
    "duration": 10,
    "start_time": "2022-09-04T10:05:09.126Z"
   },
   {
    "duration": 9,
    "start_time": "2022-09-04T10:10:37.114Z"
   },
   {
    "duration": 876,
    "start_time": "2022-09-04T10:11:01.569Z"
   },
   {
    "duration": 179,
    "start_time": "2022-09-04T10:11:02.456Z"
   },
   {
    "duration": 23,
    "start_time": "2022-09-04T10:11:02.637Z"
   },
   {
    "duration": 50,
    "start_time": "2022-09-04T10:11:02.662Z"
   },
   {
    "duration": 413,
    "start_time": "2022-09-04T10:11:02.713Z"
   },
   {
    "duration": 155,
    "start_time": "2022-09-04T10:11:03.128Z"
   },
   {
    "duration": 6,
    "start_time": "2022-09-04T10:11:03.285Z"
   },
   {
    "duration": 49,
    "start_time": "2022-09-04T10:11:03.292Z"
   },
   {
    "duration": 159,
    "start_time": "2022-09-04T10:11:03.347Z"
   },
   {
    "duration": 119,
    "start_time": "2022-09-04T10:11:03.508Z"
   },
   {
    "duration": 5,
    "start_time": "2022-09-04T10:11:03.629Z"
   },
   {
    "duration": 52,
    "start_time": "2022-09-04T10:11:03.636Z"
   },
   {
    "duration": 21,
    "start_time": "2022-09-04T10:11:03.690Z"
   },
   {
    "duration": 4,
    "start_time": "2022-09-04T10:11:03.713Z"
   },
   {
    "duration": 26,
    "start_time": "2022-09-04T10:11:03.719Z"
   },
   {
    "duration": 76,
    "start_time": "2022-09-04T10:11:03.747Z"
   },
   {
    "duration": 6,
    "start_time": "2022-09-04T10:11:03.824Z"
   },
   {
    "duration": 41,
    "start_time": "2022-09-04T10:11:03.832Z"
   },
   {
    "duration": 90,
    "start_time": "2022-09-04T10:11:03.874Z"
   },
   {
    "duration": 5,
    "start_time": "2022-09-04T10:11:03.966Z"
   },
   {
    "duration": 17,
    "start_time": "2022-09-04T10:11:03.973Z"
   },
   {
    "duration": 67,
    "start_time": "2022-09-04T10:11:03.992Z"
   },
   {
    "duration": 24,
    "start_time": "2022-09-04T10:11:04.064Z"
   },
   {
    "duration": 34,
    "start_time": "2022-09-04T10:11:04.090Z"
   },
   {
    "duration": 33,
    "start_time": "2022-09-04T10:11:04.125Z"
   },
   {
    "duration": 39,
    "start_time": "2022-09-04T10:11:04.159Z"
   },
   {
    "duration": 59,
    "start_time": "2022-09-04T10:11:04.200Z"
   },
   {
    "duration": 23,
    "start_time": "2022-09-04T10:11:04.265Z"
   },
   {
    "duration": 40,
    "start_time": "2022-09-04T10:11:04.290Z"
   },
   {
    "duration": 47,
    "start_time": "2022-09-04T10:11:04.332Z"
   },
   {
    "duration": 49,
    "start_time": "2022-09-04T10:11:04.381Z"
   },
   {
    "duration": 38,
    "start_time": "2022-09-04T10:11:04.432Z"
   },
   {
    "duration": 25,
    "start_time": "2022-09-04T10:11:04.471Z"
   },
   {
    "duration": 59,
    "start_time": "2022-09-04T10:11:04.498Z"
   },
   {
    "duration": 18,
    "start_time": "2022-09-04T10:11:04.558Z"
   },
   {
    "duration": 19,
    "start_time": "2022-09-04T10:11:04.578Z"
   },
   {
    "duration": 23,
    "start_time": "2022-09-04T10:11:04.598Z"
   },
   {
    "duration": 40,
    "start_time": "2022-09-04T10:11:04.622Z"
   },
   {
    "duration": 36,
    "start_time": "2022-09-04T10:11:04.666Z"
   },
   {
    "duration": 4,
    "start_time": "2022-09-04T10:11:04.703Z"
   },
   {
    "duration": 13,
    "start_time": "2022-09-04T10:11:04.708Z"
   },
   {
    "duration": 49,
    "start_time": "2022-09-04T10:11:04.723Z"
   },
   {
    "duration": 59,
    "start_time": "2022-09-04T10:11:04.774Z"
   },
   {
    "duration": 353,
    "start_time": "2022-09-04T10:11:04.834Z"
   },
   {
    "duration": 305,
    "start_time": "2022-09-04T10:11:05.189Z"
   },
   {
    "duration": 324,
    "start_time": "2022-09-04T10:11:05.495Z"
   },
   {
    "duration": 227,
    "start_time": "2022-09-04T10:11:05.820Z"
   },
   {
    "duration": 269,
    "start_time": "2022-09-04T10:11:06.049Z"
   },
   {
    "duration": 199,
    "start_time": "2022-09-04T10:11:06.319Z"
   },
   {
    "duration": 301,
    "start_time": "2022-09-04T10:11:06.520Z"
   },
   {
    "duration": 288,
    "start_time": "2022-09-04T10:11:06.822Z"
   },
   {
    "duration": 2,
    "start_time": "2022-09-04T10:11:07.112Z"
   },
   {
    "duration": 44,
    "start_time": "2022-09-04T10:11:07.115Z"
   },
   {
    "duration": 9,
    "start_time": "2022-09-04T10:11:07.165Z"
   },
   {
    "duration": 8,
    "start_time": "2022-09-04T10:11:07.175Z"
   },
   {
    "duration": 9,
    "start_time": "2022-09-04T10:11:14.085Z"
   },
   {
    "duration": 810,
    "start_time": "2022-09-04T21:22:58.375Z"
   },
   {
    "duration": 218,
    "start_time": "2022-09-04T21:22:59.187Z"
   },
   {
    "duration": 8,
    "start_time": "2022-09-04T21:22:59.406Z"
   },
   {
    "duration": 26,
    "start_time": "2022-09-04T21:22:59.416Z"
   },
   {
    "duration": 527,
    "start_time": "2022-09-04T21:22:59.443Z"
   },
   {
    "duration": 295,
    "start_time": "2022-09-04T21:22:59.972Z"
   },
   {
    "duration": 6,
    "start_time": "2022-09-04T21:23:00.269Z"
   },
   {
    "duration": 38,
    "start_time": "2022-09-04T21:23:00.277Z"
   },
   {
    "duration": 153,
    "start_time": "2022-09-04T21:23:00.316Z"
   },
   {
    "duration": 326,
    "start_time": "2022-09-04T21:23:00.472Z"
   },
   {
    "duration": 5,
    "start_time": "2022-09-04T21:23:00.800Z"
   },
   {
    "duration": 24,
    "start_time": "2022-09-04T21:23:00.806Z"
   },
   {
    "duration": 71,
    "start_time": "2022-09-04T21:23:00.831Z"
   },
   {
    "duration": 6,
    "start_time": "2022-09-04T21:23:00.903Z"
   },
   {
    "duration": 22,
    "start_time": "2022-09-04T21:23:00.911Z"
   },
   {
    "duration": 63,
    "start_time": "2022-09-04T21:23:00.935Z"
   },
   {
    "duration": 6,
    "start_time": "2022-09-04T21:23:01.000Z"
   },
   {
    "duration": 40,
    "start_time": "2022-09-04T21:23:01.008Z"
   },
   {
    "duration": 118,
    "start_time": "2022-09-04T21:23:01.049Z"
   },
   {
    "duration": 6,
    "start_time": "2022-09-04T21:23:01.169Z"
   },
   {
    "duration": 25,
    "start_time": "2022-09-04T21:23:01.177Z"
   },
   {
    "duration": 56,
    "start_time": "2022-09-04T21:23:01.204Z"
   },
   {
    "duration": 48,
    "start_time": "2022-09-04T21:23:01.262Z"
   },
   {
    "duration": 48,
    "start_time": "2022-09-04T21:23:01.311Z"
   },
   {
    "duration": 50,
    "start_time": "2022-09-04T21:23:01.361Z"
   },
   {
    "duration": 16,
    "start_time": "2022-09-04T21:23:01.412Z"
   },
   {
    "duration": 68,
    "start_time": "2022-09-04T21:23:01.430Z"
   },
   {
    "duration": 9,
    "start_time": "2022-09-04T21:23:01.502Z"
   },
   {
    "duration": 36,
    "start_time": "2022-09-04T21:23:01.513Z"
   },
   {
    "duration": 12,
    "start_time": "2022-09-04T21:23:01.551Z"
   },
   {
    "duration": 47,
    "start_time": "2022-09-04T21:23:01.564Z"
   },
   {
    "duration": 24,
    "start_time": "2022-09-04T21:23:01.612Z"
   },
   {
    "duration": 33,
    "start_time": "2022-09-04T21:23:01.638Z"
   },
   {
    "duration": 52,
    "start_time": "2022-09-04T21:23:01.672Z"
   },
   {
    "duration": 7,
    "start_time": "2022-09-04T21:23:01.726Z"
   },
   {
    "duration": 31,
    "start_time": "2022-09-04T21:23:01.735Z"
   },
   {
    "duration": 23,
    "start_time": "2022-09-04T21:23:01.767Z"
   },
   {
    "duration": 35,
    "start_time": "2022-09-04T21:23:01.792Z"
   },
   {
    "duration": 38,
    "start_time": "2022-09-04T21:23:01.828Z"
   },
   {
    "duration": 16,
    "start_time": "2022-09-04T21:23:01.867Z"
   },
   {
    "duration": 42,
    "start_time": "2022-09-04T21:23:01.884Z"
   },
   {
    "duration": 25,
    "start_time": "2022-09-04T21:23:01.928Z"
   },
   {
    "duration": 46,
    "start_time": "2022-09-04T21:23:01.954Z"
   },
   {
    "duration": 397,
    "start_time": "2022-09-04T21:23:02.002Z"
   },
   {
    "duration": 243,
    "start_time": "2022-09-04T21:23:02.401Z"
   },
   {
    "duration": 296,
    "start_time": "2022-09-04T21:23:02.645Z"
   },
   {
    "duration": 205,
    "start_time": "2022-09-04T21:23:02.943Z"
   },
   {
    "duration": 239,
    "start_time": "2022-09-04T21:23:03.150Z"
   },
   {
    "duration": 277,
    "start_time": "2022-09-04T21:23:03.390Z"
   },
   {
    "duration": 284,
    "start_time": "2022-09-04T21:23:03.668Z"
   },
   {
    "duration": 200,
    "start_time": "2022-09-04T21:23:03.954Z"
   },
   {
    "duration": 2,
    "start_time": "2022-09-04T21:23:04.155Z"
   },
   {
    "duration": 35,
    "start_time": "2022-09-04T21:23:04.159Z"
   },
   {
    "duration": 8,
    "start_time": "2022-09-04T21:23:04.196Z"
   },
   {
    "duration": 35,
    "start_time": "2022-09-04T21:23:04.206Z"
   },
   {
    "duration": 95,
    "start_time": "2022-09-04T21:27:29.445Z"
   },
   {
    "duration": 9,
    "start_time": "2022-09-04T21:28:15.731Z"
   },
   {
    "duration": 8,
    "start_time": "2022-09-04T21:29:41.316Z"
   },
   {
    "duration": 9,
    "start_time": "2022-09-04T21:31:03.606Z"
   },
   {
    "duration": 9,
    "start_time": "2022-09-04T21:32:12.480Z"
   },
   {
    "duration": 10,
    "start_time": "2022-09-04T21:32:21.430Z"
   },
   {
    "duration": 8,
    "start_time": "2022-09-04T21:33:13.285Z"
   },
   {
    "duration": 10,
    "start_time": "2022-09-04T21:33:45.014Z"
   },
   {
    "duration": 8,
    "start_time": "2022-09-04T21:34:30.375Z"
   },
   {
    "duration": 9,
    "start_time": "2022-09-04T21:37:55.769Z"
   },
   {
    "duration": 9,
    "start_time": "2022-09-04T21:38:34.480Z"
   },
   {
    "duration": 10,
    "start_time": "2022-09-04T21:38:46.323Z"
   },
   {
    "duration": 16,
    "start_time": "2022-09-04T21:39:45.097Z"
   },
   {
    "duration": 18,
    "start_time": "2022-09-04T21:40:15.033Z"
   },
   {
    "duration": 15,
    "start_time": "2022-09-04T21:41:09.929Z"
   },
   {
    "duration": 14,
    "start_time": "2022-09-04T21:41:20.659Z"
   },
   {
    "duration": 8,
    "start_time": "2022-09-04T21:41:47.107Z"
   },
   {
    "duration": 8,
    "start_time": "2022-09-04T21:42:44.243Z"
   },
   {
    "duration": 9,
    "start_time": "2022-09-04T21:43:16.739Z"
   },
   {
    "duration": 8,
    "start_time": "2022-09-04T21:45:05.141Z"
   },
   {
    "duration": 8,
    "start_time": "2022-09-04T21:46:18.644Z"
   },
   {
    "duration": 8,
    "start_time": "2022-09-04T21:47:18.159Z"
   },
   {
    "duration": 9,
    "start_time": "2022-09-04T21:47:23.733Z"
   },
   {
    "duration": 56,
    "start_time": "2022-09-04T21:48:14.487Z"
   },
   {
    "duration": 8,
    "start_time": "2022-09-04T21:48:46.120Z"
   },
   {
    "duration": 8,
    "start_time": "2022-09-04T21:54:45.522Z"
   },
   {
    "duration": 8,
    "start_time": "2022-09-04T21:57:00.648Z"
   },
   {
    "duration": 9,
    "start_time": "2022-09-04T21:57:38.068Z"
   },
   {
    "duration": 10,
    "start_time": "2022-09-04T21:58:31.934Z"
   },
   {
    "duration": 9,
    "start_time": "2022-09-04T21:59:10.945Z"
   },
   {
    "duration": 30,
    "start_time": "2022-09-04T21:59:53.715Z"
   },
   {
    "duration": 9,
    "start_time": "2022-09-04T22:00:00.415Z"
   },
   {
    "duration": 43,
    "start_time": "2022-09-04T22:01:02.821Z"
   },
   {
    "duration": 8,
    "start_time": "2022-09-04T22:01:21.576Z"
   },
   {
    "duration": 8,
    "start_time": "2022-09-04T22:01:32.526Z"
   },
   {
    "duration": 9,
    "start_time": "2022-09-04T22:02:00.310Z"
   }
  ],
  "colab": {
   "name": "statistics_template_final.ipynb",
   "provenance": []
  },
  "kernelspec": {
   "display_name": "Python 3 (ipykernel)",
   "language": "python",
   "name": "python3"
  },
  "language_info": {
   "codemirror_mode": {
    "name": "ipython",
    "version": 3
   },
   "file_extension": ".py",
   "mimetype": "text/x-python",
   "name": "python",
   "nbconvert_exporter": "python",
   "pygments_lexer": "ipython3",
   "version": "3.9.5"
  },
  "toc": {
   "base_numbering": 1,
   "nav_menu": {},
   "number_sections": true,
   "sideBar": true,
   "skip_h1_title": true,
   "title_cell": "Table of Contents",
   "title_sidebar": "Contents",
   "toc_cell": false,
   "toc_position": {},
   "toc_section_display": true,
   "toc_window_display": false
  }
 },
 "nbformat": 4,
 "nbformat_minor": 1
}

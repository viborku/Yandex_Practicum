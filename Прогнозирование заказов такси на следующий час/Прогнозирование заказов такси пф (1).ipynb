{
 "cells": [
  {
   "cell_type": "markdown",
   "metadata": {
    "toc": true
   },
   "source": [
    "<h1>Содержание<span class=\"tocSkip\"></span></h1>\n",
    "<div class=\"toc\"><ul class=\"toc-item\"><li><span><a href=\"#Подготовка\" data-toc-modified-id=\"Подготовка-1\"><span class=\"toc-item-num\">1&nbsp;&nbsp;</span>Подготовка</a></span></li><li><span><a href=\"#Анализ\" data-toc-modified-id=\"Анализ-2\"><span class=\"toc-item-num\">2&nbsp;&nbsp;</span>Анализ</a></span></li><li><span><a href=\"#Обучение\" data-toc-modified-id=\"Обучение-3\"><span class=\"toc-item-num\">3&nbsp;&nbsp;</span>Обучение</a></span></li><li><span><a href=\"#Тестирование\" data-toc-modified-id=\"Тестирование-4\"><span class=\"toc-item-num\">4&nbsp;&nbsp;</span>Тестирование</a></span></li></ul></div>"
   ]
  },
  {
   "cell_type": "markdown",
   "metadata": {},
   "source": [
    "#  Прогнозирование заказов такси"
   ]
  },
  {
   "cell_type": "markdown",
   "metadata": {},
   "source": [
    "Компания «Чётенькое такси» собрала исторические данные о заказах такси в аэропортах. Чтобы привлекать больше водителей в период пиковой нагрузки, нужно спрогнозировать количество заказов такси на следующий час. Постройте модель для такого предсказания.\n",
    "\n",
    "Значение метрики *RMSE* на тестовой выборке должно быть не больше 48.\n",
    "\n",
    "Вам нужно:\n",
    "\n",
    "1. Загрузить данные и выполнить их ресемплирование по одному часу.\n",
    "2. Проанализировать данные.\n",
    "3. Обучить разные модели с различными гиперпараметрами. Сделать тестовую выборку размером 10% от исходных данных.\n",
    "4. Проверить данные на тестовой выборке и сделать выводы.\n",
    "\n",
    "\n",
    "Данные лежат в файле `taxi.csv`. Количество заказов находится в столбце `num_orders` (от англ. *number of orders*, «число заказов»)."
   ]
  },
  {
   "cell_type": "markdown",
   "metadata": {},
   "source": [
    "## Подготовка"
   ]
  },
  {
   "cell_type": "markdown",
   "metadata": {},
   "source": [
    "Загружаем требуемые библиотеки"
   ]
  },
  {
   "cell_type": "code",
   "execution_count": 1,
   "metadata": {},
   "outputs": [],
   "source": [
    "#common\n",
    "import numpy as np\n",
    "import pandas as pd \n",
    "import IPython\n",
    "from IPython.display import display\n",
    "import warnings\n",
    "warnings.simplefilter('ignore')\n",
    "\n",
    "#visualisation\n",
    "import seaborn as sns\n",
    "import matplotlib.pyplot as plt\n",
    "import matplotlib.style as style\n",
    "\n",
    "from statsmodels.tsa.seasonal import seasonal_decompose\n",
    "\n",
    "# ML\n",
    "from sklearn.metrics import mean_squared_error, mean_absolute_error\n",
    "from sklearn.model_selection import train_test_split, cross_validate, cross_val_score, GridSearchCV, RandomizedSearchCV\n",
    "from sklearn.preprocessing import StandardScaler, MinMaxScaler\n",
    "#\n",
    "from sklearn.dummy import DummyRegressor\n",
    "from sklearn.linear_model import LinearRegression\n",
    "from sklearn.ensemble import GradientBoostingRegressor\n",
    "from sklearn.neighbors import KNeighborsRegressor\n",
    "from sklearn.svm import LinearSVR\n",
    "from catboost import CatBoostRegressor, Pool\n",
    "import xgboost as xgb\n",
    "from lightgbm import LGBMRegressor\n",
    "from sklearn.model_selection import train_test_split, TimeSeriesSplit, GridSearchCV\n",
    "\n",
    "\n",
    "\n"
   ]
  },
  {
   "cell_type": "markdown",
   "metadata": {},
   "source": [
    "Загружаем данные"
   ]
  },
  {
   "cell_type": "code",
   "execution_count": 2,
   "metadata": {},
   "outputs": [],
   "source": [
    "taxi = pd.read_csv('/datasets/taxi.csv', index_col=[0], parse_dates=[0])"
   ]
  },
  {
   "cell_type": "code",
   "execution_count": 3,
   "metadata": {
    "scrolled": true
   },
   "outputs": [
    {
     "data": {
      "text/html": [
       "<div>\n",
       "<style scoped>\n",
       "    .dataframe tbody tr th:only-of-type {\n",
       "        vertical-align: middle;\n",
       "    }\n",
       "\n",
       "    .dataframe tbody tr th {\n",
       "        vertical-align: top;\n",
       "    }\n",
       "\n",
       "    .dataframe thead th {\n",
       "        text-align: right;\n",
       "    }\n",
       "</style>\n",
       "<table border=\"1\" class=\"dataframe\">\n",
       "  <thead>\n",
       "    <tr style=\"text-align: right;\">\n",
       "      <th></th>\n",
       "      <th>num_orders</th>\n",
       "    </tr>\n",
       "    <tr>\n",
       "      <th>datetime</th>\n",
       "      <th></th>\n",
       "    </tr>\n",
       "  </thead>\n",
       "  <tbody>\n",
       "    <tr>\n",
       "      <th>2018-03-01 00:00:00</th>\n",
       "      <td>9</td>\n",
       "    </tr>\n",
       "    <tr>\n",
       "      <th>2018-03-01 00:10:00</th>\n",
       "      <td>14</td>\n",
       "    </tr>\n",
       "    <tr>\n",
       "      <th>2018-03-01 00:20:00</th>\n",
       "      <td>28</td>\n",
       "    </tr>\n",
       "    <tr>\n",
       "      <th>2018-03-01 00:30:00</th>\n",
       "      <td>20</td>\n",
       "    </tr>\n",
       "    <tr>\n",
       "      <th>2018-03-01 00:40:00</th>\n",
       "      <td>32</td>\n",
       "    </tr>\n",
       "  </tbody>\n",
       "</table>\n",
       "</div>"
      ],
      "text/plain": [
       "                     num_orders\n",
       "datetime                       \n",
       "2018-03-01 00:00:00           9\n",
       "2018-03-01 00:10:00          14\n",
       "2018-03-01 00:20:00          28\n",
       "2018-03-01 00:30:00          20\n",
       "2018-03-01 00:40:00          32"
      ]
     },
     "execution_count": 3,
     "metadata": {},
     "output_type": "execute_result"
    }
   ],
   "source": [
    "taxi.head()"
   ]
  },
  {
   "cell_type": "code",
   "execution_count": 4,
   "metadata": {},
   "outputs": [
    {
     "name": "stdout",
     "output_type": "stream",
     "text": [
      "<class 'pandas.core.frame.DataFrame'>\n",
      "DatetimeIndex: 26496 entries, 2018-03-01 00:00:00 to 2018-08-31 23:50:00\n",
      "Data columns (total 1 columns):\n",
      " #   Column      Non-Null Count  Dtype\n",
      "---  ------      --------------  -----\n",
      " 0   num_orders  26496 non-null  int64\n",
      "dtypes: int64(1)\n",
      "memory usage: 414.0 KB\n"
     ]
    }
   ],
   "source": [
    "taxi.info()"
   ]
  },
  {
   "cell_type": "markdown",
   "metadata": {},
   "source": [
    "Исходный датасет содержит 26496 наблюдений, временной интревал наблюдений составляет 10 минут.\n",
    "Пропущенных значений нет.\n",
    "При первичном анализе установлено, что временной промежуток данных длится с 1 марта 2018 года по 31 августа 2018 года. "
   ]
  },
  {
   "cell_type": "markdown",
   "metadata": {},
   "source": [
    "Проверим монотонность даты (индекса)."
   ]
  },
  {
   "cell_type": "code",
   "execution_count": 5,
   "metadata": {},
   "outputs": [
    {
     "name": "stdout",
     "output_type": "stream",
     "text": [
      "Даты расположены в хронологическом порядке\n"
     ]
    }
   ],
   "source": [
    "if taxi.index.is_monotonic == True :\n",
    "    print('Даты расположены в хронологическом порядке')\n",
    "else:\n",
    "    print('Требуется предобработка')"
   ]
  },
  {
   "cell_type": "markdown",
   "metadata": {},
   "source": [
    "Проблем с датами пока не обнаружено."
   ]
  },
  {
   "cell_type": "markdown",
   "metadata": {},
   "source": [
    "Ресемплируем данные по 1 часу."
   ]
  },
  {
   "cell_type": "code",
   "execution_count": 6,
   "metadata": {},
   "outputs": [
    {
     "data": {
      "text/html": [
       "<div>\n",
       "<style scoped>\n",
       "    .dataframe tbody tr th:only-of-type {\n",
       "        vertical-align: middle;\n",
       "    }\n",
       "\n",
       "    .dataframe tbody tr th {\n",
       "        vertical-align: top;\n",
       "    }\n",
       "\n",
       "    .dataframe thead th {\n",
       "        text-align: right;\n",
       "    }\n",
       "</style>\n",
       "<table border=\"1\" class=\"dataframe\">\n",
       "  <thead>\n",
       "    <tr style=\"text-align: right;\">\n",
       "      <th></th>\n",
       "      <th>num_orders</th>\n",
       "    </tr>\n",
       "    <tr>\n",
       "      <th>datetime</th>\n",
       "      <th></th>\n",
       "    </tr>\n",
       "  </thead>\n",
       "  <tbody>\n",
       "    <tr>\n",
       "      <th>2018-03-01 00:00:00</th>\n",
       "      <td>124</td>\n",
       "    </tr>\n",
       "    <tr>\n",
       "      <th>2018-03-01 01:00:00</th>\n",
       "      <td>85</td>\n",
       "    </tr>\n",
       "    <tr>\n",
       "      <th>2018-03-01 02:00:00</th>\n",
       "      <td>71</td>\n",
       "    </tr>\n",
       "    <tr>\n",
       "      <th>2018-03-01 03:00:00</th>\n",
       "      <td>66</td>\n",
       "    </tr>\n",
       "    <tr>\n",
       "      <th>2018-03-01 04:00:00</th>\n",
       "      <td>43</td>\n",
       "    </tr>\n",
       "  </tbody>\n",
       "</table>\n",
       "</div>"
      ],
      "text/plain": [
       "                     num_orders\n",
       "datetime                       \n",
       "2018-03-01 00:00:00         124\n",
       "2018-03-01 01:00:00          85\n",
       "2018-03-01 02:00:00          71\n",
       "2018-03-01 03:00:00          66\n",
       "2018-03-01 04:00:00          43"
      ]
     },
     "execution_count": 6,
     "metadata": {},
     "output_type": "execute_result"
    }
   ],
   "source": [
    "taxi = taxi.resample('1H').sum()\n",
    "taxi.head()"
   ]
  },
  {
   "cell_type": "code",
   "execution_count": 7,
   "metadata": {},
   "outputs": [
    {
     "data": {
      "text/html": [
       "<div>\n",
       "<style scoped>\n",
       "    .dataframe tbody tr th:only-of-type {\n",
       "        vertical-align: middle;\n",
       "    }\n",
       "\n",
       "    .dataframe tbody tr th {\n",
       "        vertical-align: top;\n",
       "    }\n",
       "\n",
       "    .dataframe thead th {\n",
       "        text-align: right;\n",
       "    }\n",
       "</style>\n",
       "<table border=\"1\" class=\"dataframe\">\n",
       "  <thead>\n",
       "    <tr style=\"text-align: right;\">\n",
       "      <th></th>\n",
       "      <th>num_orders</th>\n",
       "    </tr>\n",
       "  </thead>\n",
       "  <tbody>\n",
       "    <tr>\n",
       "      <th>count</th>\n",
       "      <td>4416.000000</td>\n",
       "    </tr>\n",
       "    <tr>\n",
       "      <th>mean</th>\n",
       "      <td>84.422781</td>\n",
       "    </tr>\n",
       "    <tr>\n",
       "      <th>std</th>\n",
       "      <td>45.023853</td>\n",
       "    </tr>\n",
       "    <tr>\n",
       "      <th>min</th>\n",
       "      <td>0.000000</td>\n",
       "    </tr>\n",
       "    <tr>\n",
       "      <th>25%</th>\n",
       "      <td>54.000000</td>\n",
       "    </tr>\n",
       "    <tr>\n",
       "      <th>50%</th>\n",
       "      <td>78.000000</td>\n",
       "    </tr>\n",
       "    <tr>\n",
       "      <th>75%</th>\n",
       "      <td>107.000000</td>\n",
       "    </tr>\n",
       "    <tr>\n",
       "      <th>max</th>\n",
       "      <td>462.000000</td>\n",
       "    </tr>\n",
       "  </tbody>\n",
       "</table>\n",
       "</div>"
      ],
      "text/plain": [
       "        num_orders\n",
       "count  4416.000000\n",
       "mean     84.422781\n",
       "std      45.023853\n",
       "min       0.000000\n",
       "25%      54.000000\n",
       "50%      78.000000\n",
       "75%     107.000000\n",
       "max     462.000000"
      ]
     },
     "execution_count": 7,
     "metadata": {},
     "output_type": "execute_result"
    }
   ],
   "source": [
    "taxi.describe()"
   ]
  },
  {
   "cell_type": "code",
   "execution_count": 8,
   "metadata": {},
   "outputs": [
    {
     "data": {
      "text/html": [
       "<div>\n",
       "<style scoped>\n",
       "    .dataframe tbody tr th:only-of-type {\n",
       "        vertical-align: middle;\n",
       "    }\n",
       "\n",
       "    .dataframe tbody tr th {\n",
       "        vertical-align: top;\n",
       "    }\n",
       "\n",
       "    .dataframe thead th {\n",
       "        text-align: right;\n",
       "    }\n",
       "</style>\n",
       "<table border=\"1\" class=\"dataframe\">\n",
       "  <thead>\n",
       "    <tr style=\"text-align: right;\">\n",
       "      <th></th>\n",
       "      <th>num_orders</th>\n",
       "    </tr>\n",
       "    <tr>\n",
       "      <th>datetime</th>\n",
       "      <th></th>\n",
       "    </tr>\n",
       "  </thead>\n",
       "  <tbody>\n",
       "    <tr>\n",
       "      <th>2018-04-06 06:00:00</th>\n",
       "      <td>0</td>\n",
       "    </tr>\n",
       "    <tr>\n",
       "      <th>2018-04-05 06:00:00</th>\n",
       "      <td>1</td>\n",
       "    </tr>\n",
       "    <tr>\n",
       "      <th>2018-03-09 05:00:00</th>\n",
       "      <td>1</td>\n",
       "    </tr>\n",
       "    <tr>\n",
       "      <th>2018-04-03 06:00:00</th>\n",
       "      <td>1</td>\n",
       "    </tr>\n",
       "    <tr>\n",
       "      <th>2018-04-24 06:00:00</th>\n",
       "      <td>2</td>\n",
       "    </tr>\n",
       "    <tr>\n",
       "      <th>...</th>\n",
       "      <td>...</td>\n",
       "    </tr>\n",
       "    <tr>\n",
       "      <th>2018-08-27 04:00:00</th>\n",
       "      <td>295</td>\n",
       "    </tr>\n",
       "    <tr>\n",
       "      <th>2018-08-30 17:00:00</th>\n",
       "      <td>342</td>\n",
       "    </tr>\n",
       "    <tr>\n",
       "      <th>2018-08-27 02:00:00</th>\n",
       "      <td>408</td>\n",
       "    </tr>\n",
       "    <tr>\n",
       "      <th>2018-08-13 02:00:00</th>\n",
       "      <td>437</td>\n",
       "    </tr>\n",
       "    <tr>\n",
       "      <th>2018-08-20 02:00:00</th>\n",
       "      <td>462</td>\n",
       "    </tr>\n",
       "  </tbody>\n",
       "</table>\n",
       "<p>4416 rows × 1 columns</p>\n",
       "</div>"
      ],
      "text/plain": [
       "                     num_orders\n",
       "datetime                       \n",
       "2018-04-06 06:00:00           0\n",
       "2018-04-05 06:00:00           1\n",
       "2018-03-09 05:00:00           1\n",
       "2018-04-03 06:00:00           1\n",
       "2018-04-24 06:00:00           2\n",
       "...                         ...\n",
       "2018-08-27 04:00:00         295\n",
       "2018-08-30 17:00:00         342\n",
       "2018-08-27 02:00:00         408\n",
       "2018-08-13 02:00:00         437\n",
       "2018-08-20 02:00:00         462\n",
       "\n",
       "[4416 rows x 1 columns]"
      ]
     },
     "execution_count": 8,
     "metadata": {},
     "output_type": "execute_result"
    }
   ],
   "source": [
    "taxi.sort_values(by='num_orders')"
   ]
  },
  {
   "cell_type": "markdown",
   "metadata": {},
   "source": [
    "**Вывод**"
   ]
  },
  {
   "cell_type": "markdown",
   "metadata": {},
   "source": [
    "На данном этапе были загружены данные и требуемые библиотеки.\n",
    "Первичный анализ временных рядов не выявил аномалий и пропущенных значений. Данные о числе заказов также не содержат пропусков."
   ]
  },
  {
   "cell_type": "markdown",
   "metadata": {},
   "source": [
    "## Анализ"
   ]
  },
  {
   "cell_type": "markdown",
   "metadata": {},
   "source": [
    "Посмотрим на распределение заказов."
   ]
  },
  {
   "cell_type": "code",
   "execution_count": 9,
   "metadata": {},
   "outputs": [
    {
     "data": {
      "text/html": [
       "<div>\n",
       "<style scoped>\n",
       "    .dataframe tbody tr th:only-of-type {\n",
       "        vertical-align: middle;\n",
       "    }\n",
       "\n",
       "    .dataframe tbody tr th {\n",
       "        vertical-align: top;\n",
       "    }\n",
       "\n",
       "    .dataframe thead th {\n",
       "        text-align: right;\n",
       "    }\n",
       "</style>\n",
       "<table border=\"1\" class=\"dataframe\">\n",
       "  <thead>\n",
       "    <tr style=\"text-align: right;\">\n",
       "      <th></th>\n",
       "      <th>num_orders</th>\n",
       "    </tr>\n",
       "    <tr>\n",
       "      <th>datetime</th>\n",
       "      <th></th>\n",
       "    </tr>\n",
       "  </thead>\n",
       "  <tbody>\n",
       "    <tr>\n",
       "      <th>2018-04-06 06:00:00</th>\n",
       "      <td>0</td>\n",
       "    </tr>\n",
       "    <tr>\n",
       "      <th>2018-04-05 06:00:00</th>\n",
       "      <td>1</td>\n",
       "    </tr>\n",
       "    <tr>\n",
       "      <th>2018-03-09 05:00:00</th>\n",
       "      <td>1</td>\n",
       "    </tr>\n",
       "    <tr>\n",
       "      <th>2018-04-03 06:00:00</th>\n",
       "      <td>1</td>\n",
       "    </tr>\n",
       "    <tr>\n",
       "      <th>2018-04-24 06:00:00</th>\n",
       "      <td>2</td>\n",
       "    </tr>\n",
       "    <tr>\n",
       "      <th>...</th>\n",
       "      <td>...</td>\n",
       "    </tr>\n",
       "    <tr>\n",
       "      <th>2018-08-27 04:00:00</th>\n",
       "      <td>295</td>\n",
       "    </tr>\n",
       "    <tr>\n",
       "      <th>2018-08-30 17:00:00</th>\n",
       "      <td>342</td>\n",
       "    </tr>\n",
       "    <tr>\n",
       "      <th>2018-08-27 02:00:00</th>\n",
       "      <td>408</td>\n",
       "    </tr>\n",
       "    <tr>\n",
       "      <th>2018-08-13 02:00:00</th>\n",
       "      <td>437</td>\n",
       "    </tr>\n",
       "    <tr>\n",
       "      <th>2018-08-20 02:00:00</th>\n",
       "      <td>462</td>\n",
       "    </tr>\n",
       "  </tbody>\n",
       "</table>\n",
       "<p>4416 rows × 1 columns</p>\n",
       "</div>"
      ],
      "text/plain": [
       "                     num_orders\n",
       "datetime                       \n",
       "2018-04-06 06:00:00           0\n",
       "2018-04-05 06:00:00           1\n",
       "2018-03-09 05:00:00           1\n",
       "2018-04-03 06:00:00           1\n",
       "2018-04-24 06:00:00           2\n",
       "...                         ...\n",
       "2018-08-27 04:00:00         295\n",
       "2018-08-30 17:00:00         342\n",
       "2018-08-27 02:00:00         408\n",
       "2018-08-13 02:00:00         437\n",
       "2018-08-20 02:00:00         462\n",
       "\n",
       "[4416 rows x 1 columns]"
      ]
     },
     "execution_count": 9,
     "metadata": {},
     "output_type": "execute_result"
    }
   ],
   "source": [
    "taxi.sort_values(by='num_orders')"
   ]
  },
  {
   "cell_type": "markdown",
   "metadata": {},
   "source": [
    "462 заказа в 2 часа ночи 20 августа понедельник - люди возвращаются домой после выходных, отпусков. И полное отсутсвие в 6 утра 6 апреля пятница - никому никуда не нужно. Отрицательных и сверх-огромных значений не замечено."
   ]
  },
  {
   "cell_type": "markdown",
   "metadata": {},
   "source": [
    "Построим диаграмму распределения"
   ]
  },
  {
   "cell_type": "code",
   "execution_count": 10,
   "metadata": {},
   "outputs": [
    {
     "name": "stdout",
     "output_type": "stream",
     "text": [
      "Медианное значение заказов =  78.0\n"
     ]
    },
    {
     "data": {
      "image/png": "[encoded data removed]",
      "text/plain": [
       "<Figure size 864x864 with 2 Axes>"
      ]
     },
     "metadata": {},
     "output_type": "display_data"
    }
   ],
   "source": [
    "sns.set_style('whitegrid')\n",
    "\n",
    "fig, axes = plt.subplots(2,1,sharex=True, figsize=(12,12))\n",
    "\n",
    "sns.kdeplot(taxi['num_orders'], color='darkgrey', shade=True, label='Количество заказов', ax=axes[0])\n",
    "sns.boxplot(taxi['num_orders'], orient='h', color='darkgrey')\n",
    "\n",
    "plt.suptitle('Распределениe количества заказов в час', size=15, y=(0.96));\n",
    "\n",
    "print('Медианное значение заказов = ', taxi['num_orders'].median())"
   ]
  },
  {
   "cell_type": "markdown",
   "metadata": {},
   "source": [
    "Чаще всего в час заказов поступает в районе 78 заказов."
   ]
  },
  {
   "cell_type": "markdown",
   "metadata": {},
   "source": [
    "Проверим, к какому типу принадлежит наш временной ряд."
   ]
  },
  {
   "cell_type": "code",
   "execution_count": 11,
   "metadata": {},
   "outputs": [
    {
     "data": {
      "image/png": "[encoded data removed]",
      "text/plain": [
       "<Figure size 864x720 with 1 Axes>"
      ]
     },
     "metadata": {},
     "output_type": "display_data"
    }
   ],
   "source": [
    "taxi['mean'] = taxi['num_orders'].rolling(15).mean()\n",
    "taxi['std'] = taxi['num_orders'].rolling(15).std()\n",
    "\n",
    "taxi.plot(figsize=(12,10));"
   ]
  },
  {
   "cell_type": "markdown",
   "metadata": {},
   "source": [
    "Скользящее среднее отклонение со временем изменяеся не слишком сильно. При этом среднее значение - достаточно высоко поднимется в августе. Из этого следует, что перед нами - нестационарный временной ряд."
   ]
  },
  {
   "cell_type": "markdown",
   "metadata": {},
   "source": [
    "Проанализируем тренд и сезонность."
   ]
  },
  {
   "cell_type": "code",
   "execution_count": 12,
   "metadata": {},
   "outputs": [],
   "source": [
    "taxi = taxi.drop(['mean','std'], axis=1)"
   ]
  },
  {
   "cell_type": "markdown",
   "metadata": {},
   "source": [
    "<img src=\"https://emojigraph.org/media/apple/check-mark-button_2705.png\" align=left width=33, heigth=33>\n",
    "<div class=\"alert alert-success\">\n",
    " 👍 </div>"
   ]
  },
  {
   "cell_type": "code",
   "execution_count": 13,
   "metadata": {},
   "outputs": [
    {
     "data": {
      "image/png": "[encoded data removed]",
      "text/plain": [
       "<Figure size 864x720 with 3 Axes>"
      ]
     },
     "metadata": {},
     "output_type": "display_data"
    }
   ],
   "source": [
    "decomposed = seasonal_decompose(taxi)\n",
    "\n",
    "plt.figure(figsize=(12, 10))\n",
    "\n",
    "plt.subplot(311)\n",
    "decomposed.trend.plot(ax=plt.gca())\n",
    "plt.title('Trend')\n",
    "plt.subplot(312)\n",
    "decomposed.seasonal.plot(ax=plt.gca())\n",
    "plt.title('Seasonality')\n",
    "plt.subplot(313)\n",
    "decomposed.resid.plot(ax=plt.gca())\n",
    "plt.title('Residuals')\n",
    "plt.tight_layout()"
   ]
  },
  {
   "cell_type": "markdown",
   "metadata": {},
   "source": [
    "На данном графике заметен глобальный тренд увеличения числа заказов такси на протяжении всего изучаемого периода.\n",
    "Колебяния сезонности на данном графике изучить невозможно, увеличим масштаб.\n",
    "Посмотрим на два разных месяца - апрель и август и первые трое суток."
   ]
  },
  {
   "cell_type": "code",
   "execution_count": 14,
   "metadata": {},
   "outputs": [
    {
     "data": {
      "image/png": "[encoded data removed]",
      "text/plain": [
       "<Figure size 864x720 with 2 Axes>"
      ]
     },
     "metadata": {},
     "output_type": "display_data"
    }
   ],
   "source": [
    "plt.figure(figsize=(12, 10))\n",
    "\n",
    "plt.subplot(211)\n",
    "decomposed.seasonal['2018-04-01':'2018-04-03'].plot(ax=plt.gca())\n",
    "plt.title('Сезонность в марте')\n",
    "plt.subplot(212)\n",
    "decomposed.seasonal['2018-08-01':'2018-08-03'].plot(ax=plt.gca())\n",
    "plt.title('Сезонность в августе');"
   ]
  },
  {
   "cell_type": "markdown",
   "metadata": {},
   "source": [
    "Больше всего заказов такси приходится на 00 часов. Приближается время прекращения движения общественного транспорта.\n",
    "Минимальное количество заказов в районе 6-7 часов утра - начало движения общественного транспорта. \n",
    "Так же заметен второй по величине пик заказов в районе 16-17 дня - связано, по всей видимости с окончанием рабочего дня."
   ]
  },
  {
   "cell_type": "markdown",
   "metadata": {},
   "source": [
    "**Выводы**"
   ]
  },
  {
   "cell_type": "markdown",
   "metadata": {},
   "source": [
    "На данном этапе был произведен анализ исходных данных. За время исследования обнаружены следующие особенности:"
   ]
  },
  {
   "cell_type": "markdown",
   "metadata": {},
   "source": [
    "1. Чаще всего за час в службу такси поступают 78 заказов.\n",
    "2. На протяжении всего года заметен тренд к увеличению количество заказов.\n",
    "3. Обнаружена \"сезонность\" загруженности: пиковые часы приходятся на 00 и 16-17 часов вечера,\n",
    "4. Минимальная загрузка наблюдается в течение часа, с 6 до 7 утра, так же две небольшие просадки количества заказов заметны в 12 и 18 часов."
   ]
  },
  {
   "cell_type": "markdown",
   "metadata": {},
   "source": [
    "Перейдём к более точному прогнозированию и обучению моделей."
   ]
  },
  {
   "cell_type": "markdown",
   "metadata": {},
   "source": [
    "## Обучение"
   ]
  },
  {
   "cell_type": "markdown",
   "metadata": {},
   "source": [
    "**feature engeneering**"
   ]
  },
  {
   "cell_type": "markdown",
   "metadata": {},
   "source": [
    "Создадим дополнительные признаки в исходном сете для лучшего обучения моделей.\n",
    "\n",
    "На вход функция принимает датасет, количество \"шагов\" для отстающий значений и скользящее среднее без учета текущего значения количества заказов.\n",
    "Новые признаки так же определяются, как месяц, день, день недели и час."
   ]
  },
  {
   "cell_type": "code",
   "execution_count": 15,
   "metadata": {},
   "outputs": [],
   "source": [
    "def new_features(data, max_lag, rolling_mean_size):\n",
    "    \n",
    "    #data['month'] = data.index.month\n",
    "    data['day'] = data.index.day\n",
    "    data['dayofweek'] = data.index.dayofweek\n",
    "    data['hour'] = data.index.hour\n",
    "    \n",
    "    for lag in range(1, max_lag + 1):\n",
    "        data['lag_{}'.format(lag)] = data['num_orders'].shift(lag)\n",
    "\n",
    "    data['rolling_mean'] = data['num_orders'].shift().rolling(rolling_mean_size).mean()"
   ]
  },
  {
   "cell_type": "code",
   "execution_count": 16,
   "metadata": {},
   "outputs": [],
   "source": [
    "new_features(taxi,24,10)"
   ]
  },
  {
   "cell_type": "code",
   "execution_count": 17,
   "metadata": {},
   "outputs": [
    {
     "data": {
      "text/html": [
       "<div>\n",
       "<style scoped>\n",
       "    .dataframe tbody tr th:only-of-type {\n",
       "        vertical-align: middle;\n",
       "    }\n",
       "\n",
       "    .dataframe tbody tr th {\n",
       "        vertical-align: top;\n",
       "    }\n",
       "\n",
       "    .dataframe thead th {\n",
       "        text-align: right;\n",
       "    }\n",
       "</style>\n",
       "<table border=\"1\" class=\"dataframe\">\n",
       "  <thead>\n",
       "    <tr style=\"text-align: right;\">\n",
       "      <th></th>\n",
       "      <th>num_orders</th>\n",
       "      <th>day</th>\n",
       "      <th>dayofweek</th>\n",
       "      <th>hour</th>\n",
       "      <th>lag_1</th>\n",
       "      <th>lag_2</th>\n",
       "      <th>lag_3</th>\n",
       "      <th>lag_4</th>\n",
       "      <th>lag_5</th>\n",
       "      <th>lag_6</th>\n",
       "      <th>...</th>\n",
       "      <th>lag_16</th>\n",
       "      <th>lag_17</th>\n",
       "      <th>lag_18</th>\n",
       "      <th>lag_19</th>\n",
       "      <th>lag_20</th>\n",
       "      <th>lag_21</th>\n",
       "      <th>lag_22</th>\n",
       "      <th>lag_23</th>\n",
       "      <th>lag_24</th>\n",
       "      <th>rolling_mean</th>\n",
       "    </tr>\n",
       "    <tr>\n",
       "      <th>datetime</th>\n",
       "      <th></th>\n",
       "      <th></th>\n",
       "      <th></th>\n",
       "      <th></th>\n",
       "      <th></th>\n",
       "      <th></th>\n",
       "      <th></th>\n",
       "      <th></th>\n",
       "      <th></th>\n",
       "      <th></th>\n",
       "      <th></th>\n",
       "      <th></th>\n",
       "      <th></th>\n",
       "      <th></th>\n",
       "      <th></th>\n",
       "      <th></th>\n",
       "      <th></th>\n",
       "      <th></th>\n",
       "      <th></th>\n",
       "      <th></th>\n",
       "      <th></th>\n",
       "    </tr>\n",
       "  </thead>\n",
       "  <tbody>\n",
       "    <tr>\n",
       "      <th>2018-03-01 00:00:00</th>\n",
       "      <td>124</td>\n",
       "      <td>1</td>\n",
       "      <td>3</td>\n",
       "      <td>0</td>\n",
       "      <td>NaN</td>\n",
       "      <td>NaN</td>\n",
       "      <td>NaN</td>\n",
       "      <td>NaN</td>\n",
       "      <td>NaN</td>\n",
       "      <td>NaN</td>\n",
       "      <td>...</td>\n",
       "      <td>NaN</td>\n",
       "      <td>NaN</td>\n",
       "      <td>NaN</td>\n",
       "      <td>NaN</td>\n",
       "      <td>NaN</td>\n",
       "      <td>NaN</td>\n",
       "      <td>NaN</td>\n",
       "      <td>NaN</td>\n",
       "      <td>NaN</td>\n",
       "      <td>NaN</td>\n",
       "    </tr>\n",
       "    <tr>\n",
       "      <th>2018-03-01 01:00:00</th>\n",
       "      <td>85</td>\n",
       "      <td>1</td>\n",
       "      <td>3</td>\n",
       "      <td>1</td>\n",
       "      <td>124.0</td>\n",
       "      <td>NaN</td>\n",
       "      <td>NaN</td>\n",
       "      <td>NaN</td>\n",
       "      <td>NaN</td>\n",
       "      <td>NaN</td>\n",
       "      <td>...</td>\n",
       "      <td>NaN</td>\n",
       "      <td>NaN</td>\n",
       "      <td>NaN</td>\n",
       "      <td>NaN</td>\n",
       "      <td>NaN</td>\n",
       "      <td>NaN</td>\n",
       "      <td>NaN</td>\n",
       "      <td>NaN</td>\n",
       "      <td>NaN</td>\n",
       "      <td>NaN</td>\n",
       "    </tr>\n",
       "    <tr>\n",
       "      <th>2018-03-01 02:00:00</th>\n",
       "      <td>71</td>\n",
       "      <td>1</td>\n",
       "      <td>3</td>\n",
       "      <td>2</td>\n",
       "      <td>85.0</td>\n",
       "      <td>124.0</td>\n",
       "      <td>NaN</td>\n",
       "      <td>NaN</td>\n",
       "      <td>NaN</td>\n",
       "      <td>NaN</td>\n",
       "      <td>...</td>\n",
       "      <td>NaN</td>\n",
       "      <td>NaN</td>\n",
       "      <td>NaN</td>\n",
       "      <td>NaN</td>\n",
       "      <td>NaN</td>\n",
       "      <td>NaN</td>\n",
       "      <td>NaN</td>\n",
       "      <td>NaN</td>\n",
       "      <td>NaN</td>\n",
       "      <td>NaN</td>\n",
       "    </tr>\n",
       "    <tr>\n",
       "      <th>2018-03-01 03:00:00</th>\n",
       "      <td>66</td>\n",
       "      <td>1</td>\n",
       "      <td>3</td>\n",
       "      <td>3</td>\n",
       "      <td>71.0</td>\n",
       "      <td>85.0</td>\n",
       "      <td>124.0</td>\n",
       "      <td>NaN</td>\n",
       "      <td>NaN</td>\n",
       "      <td>NaN</td>\n",
       "      <td>...</td>\n",
       "      <td>NaN</td>\n",
       "      <td>NaN</td>\n",
       "      <td>NaN</td>\n",
       "      <td>NaN</td>\n",
       "      <td>NaN</td>\n",
       "      <td>NaN</td>\n",
       "      <td>NaN</td>\n",
       "      <td>NaN</td>\n",
       "      <td>NaN</td>\n",
       "      <td>NaN</td>\n",
       "    </tr>\n",
       "    <tr>\n",
       "      <th>2018-03-01 04:00:00</th>\n",
       "      <td>43</td>\n",
       "      <td>1</td>\n",
       "      <td>3</td>\n",
       "      <td>4</td>\n",
       "      <td>66.0</td>\n",
       "      <td>71.0</td>\n",
       "      <td>85.0</td>\n",
       "      <td>124.0</td>\n",
       "      <td>NaN</td>\n",
       "      <td>NaN</td>\n",
       "      <td>...</td>\n",
       "      <td>NaN</td>\n",
       "      <td>NaN</td>\n",
       "      <td>NaN</td>\n",
       "      <td>NaN</td>\n",
       "      <td>NaN</td>\n",
       "      <td>NaN</td>\n",
       "      <td>NaN</td>\n",
       "      <td>NaN</td>\n",
       "      <td>NaN</td>\n",
       "      <td>NaN</td>\n",
       "    </tr>\n",
       "  </tbody>\n",
       "</table>\n",
       "<p>5 rows × 29 columns</p>\n",
       "</div>"
      ],
      "text/plain": [
       "                     num_orders  day  dayofweek  hour  lag_1  lag_2  lag_3  \\\n",
       "datetime                                                                     \n",
       "2018-03-01 00:00:00         124    1          3     0    NaN    NaN    NaN   \n",
       "2018-03-01 01:00:00          85    1          3     1  124.0    NaN    NaN   \n",
       "2018-03-01 02:00:00          71    1          3     2   85.0  124.0    NaN   \n",
       "2018-03-01 03:00:00          66    1          3     3   71.0   85.0  124.0   \n",
       "2018-03-01 04:00:00          43    1          3     4   66.0   71.0   85.0   \n",
       "\n",
       "                     lag_4  lag_5  lag_6  ...  lag_16  lag_17  lag_18  lag_19  \\\n",
       "datetime                                  ...                                   \n",
       "2018-03-01 00:00:00    NaN    NaN    NaN  ...     NaN     NaN     NaN     NaN   \n",
       "2018-03-01 01:00:00    NaN    NaN    NaN  ...     NaN     NaN     NaN     NaN   \n",
       "2018-03-01 02:00:00    NaN    NaN    NaN  ...     NaN     NaN     NaN     NaN   \n",
       "2018-03-01 03:00:00    NaN    NaN    NaN  ...     NaN     NaN     NaN     NaN   \n",
       "2018-03-01 04:00:00  124.0    NaN    NaN  ...     NaN     NaN     NaN     NaN   \n",
       "\n",
       "                     lag_20  lag_21  lag_22  lag_23  lag_24  rolling_mean  \n",
       "datetime                                                                   \n",
       "2018-03-01 00:00:00     NaN     NaN     NaN     NaN     NaN           NaN  \n",
       "2018-03-01 01:00:00     NaN     NaN     NaN     NaN     NaN           NaN  \n",
       "2018-03-01 02:00:00     NaN     NaN     NaN     NaN     NaN           NaN  \n",
       "2018-03-01 03:00:00     NaN     NaN     NaN     NaN     NaN           NaN  \n",
       "2018-03-01 04:00:00     NaN     NaN     NaN     NaN     NaN           NaN  \n",
       "\n",
       "[5 rows x 29 columns]"
      ]
     },
     "execution_count": 17,
     "metadata": {},
     "output_type": "execute_result"
    }
   ],
   "source": [
    "taxi.head()"
   ]
  },
  {
   "cell_type": "markdown",
   "metadata": {},
   "source": [
    "Остаются пропущенные значения, но их не так много и они будут удалены после разбития на выборки."
   ]
  },
  {
   "cell_type": "markdown",
   "metadata": {},
   "source": [
    "**Создание подвыборок**"
   ]
  },
  {
   "cell_type": "markdown",
   "metadata": {},
   "source": [
    "Разобьем датасет на обучающую, валидационную и тестовую выборку."
   ]
  },
  {
   "cell_type": "code",
   "execution_count": 18,
   "metadata": {},
   "outputs": [],
   "source": [
    "sub, test = train_test_split(taxi, test_size=.1, shuffle=False)\n",
    "train, valid = train_test_split(sub, test_size=.1, shuffle=False)"
   ]
  },
  {
   "cell_type": "code",
   "execution_count": 19,
   "metadata": {},
   "outputs": [],
   "source": [
    "train.dropna(inplace=True)"
   ]
  },
  {
   "cell_type": "code",
   "execution_count": 20,
   "metadata": {},
   "outputs": [
    {
     "data": {
      "text/plain": [
       "(3552, 398, 442)"
      ]
     },
     "execution_count": 20,
     "metadata": {},
     "output_type": "execute_result"
    }
   ],
   "source": [
    "train.shape[0], valid.shape[0], test.shape[0]"
   ]
  },
  {
   "cell_type": "markdown",
   "metadata": {},
   "source": [
    "Разбиваем фичи на признаки и целевой признак"
   ]
  },
  {
   "cell_type": "code",
   "execution_count": 21,
   "metadata": {},
   "outputs": [],
   "source": [
    "X_train = train.drop(['num_orders'], axis=1)\n",
    "X_valid = valid.drop(['num_orders'], axis=1)\n",
    "X_test = test.drop(['num_orders'], axis=1)\n",
    "\n",
    "y_train = train['num_orders']\n",
    "y_valid = valid['num_orders']\n",
    "y_test = test['num_orders']"
   ]
  },
  {
   "cell_type": "markdown",
   "metadata": {},
   "source": [
    "\n",
    "**Проверка моделей на адекватность**"
   ]
  },
  {
   "cell_type": "code",
   "execution_count": 22,
   "metadata": {},
   "outputs": [
    {
     "name": "stdout",
     "output_type": "stream",
     "text": [
      "<class 'pandas.core.frame.DataFrame'>\n",
      "DatetimeIndex: 3552 entries, 2018-03-02 00:00:00 to 2018-07-27 23:00:00\n",
      "Freq: H\n",
      "Data columns (total 28 columns):\n",
      " #   Column        Non-Null Count  Dtype  \n",
      "---  ------        --------------  -----  \n",
      " 0   day           3552 non-null   int64  \n",
      " 1   dayofweek     3552 non-null   int64  \n",
      " 2   hour          3552 non-null   int64  \n",
      " 3   lag_1         3552 non-null   float64\n",
      " 4   lag_2         3552 non-null   float64\n",
      " 5   lag_3         3552 non-null   float64\n",
      " 6   lag_4         3552 non-null   float64\n",
      " 7   lag_5         3552 non-null   float64\n",
      " 8   lag_6         3552 non-null   float64\n",
      " 9   lag_7         3552 non-null   float64\n",
      " 10  lag_8         3552 non-null   float64\n",
      " 11  lag_9         3552 non-null   float64\n",
      " 12  lag_10        3552 non-null   float64\n",
      " 13  lag_11        3552 non-null   float64\n",
      " 14  lag_12        3552 non-null   float64\n",
      " 15  lag_13        3552 non-null   float64\n",
      " 16  lag_14        3552 non-null   float64\n",
      " 17  lag_15        3552 non-null   float64\n",
      " 18  lag_16        3552 non-null   float64\n",
      " 19  lag_17        3552 non-null   float64\n",
      " 20  lag_18        3552 non-null   float64\n",
      " 21  lag_19        3552 non-null   float64\n",
      " 22  lag_20        3552 non-null   float64\n",
      " 23  lag_21        3552 non-null   float64\n",
      " 24  lag_22        3552 non-null   float64\n",
      " 25  lag_23        3552 non-null   float64\n",
      " 26  lag_24        3552 non-null   float64\n",
      " 27  rolling_mean  3552 non-null   float64\n",
      "dtypes: float64(25), int64(3)\n",
      "memory usage: 804.8 KB\n",
      "<class 'pandas.core.frame.DataFrame'>\n",
      "DatetimeIndex: 442 entries, 2018-08-13 14:00:00 to 2018-08-31 23:00:00\n",
      "Freq: H\n",
      "Data columns (total 28 columns):\n",
      " #   Column        Non-Null Count  Dtype  \n",
      "---  ------        --------------  -----  \n",
      " 0   day           442 non-null    int64  \n",
      " 1   dayofweek     442 non-null    int64  \n",
      " 2   hour          442 non-null    int64  \n",
      " 3   lag_1         442 non-null    float64\n",
      " 4   lag_2         442 non-null    float64\n",
      " 5   lag_3         442 non-null    float64\n",
      " 6   lag_4         442 non-null    float64\n",
      " 7   lag_5         442 non-null    float64\n",
      " 8   lag_6         442 non-null    float64\n",
      " 9   lag_7         442 non-null    float64\n",
      " 10  lag_8         442 non-null    float64\n",
      " 11  lag_9         442 non-null    float64\n",
      " 12  lag_10        442 non-null    float64\n",
      " 13  lag_11        442 non-null    float64\n",
      " 14  lag_12        442 non-null    float64\n",
      " 15  lag_13        442 non-null    float64\n",
      " 16  lag_14        442 non-null    float64\n",
      " 17  lag_15        442 non-null    float64\n",
      " 18  lag_16        442 non-null    float64\n",
      " 19  lag_17        442 non-null    float64\n",
      " 20  lag_18        442 non-null    float64\n",
      " 21  lag_19        442 non-null    float64\n",
      " 22  lag_20        442 non-null    float64\n",
      " 23  lag_21        442 non-null    float64\n",
      " 24  lag_22        442 non-null    float64\n",
      " 25  lag_23        442 non-null    float64\n",
      " 26  lag_24        442 non-null    float64\n",
      " 27  rolling_mean  442 non-null    float64\n",
      "dtypes: float64(25), int64(3)\n",
      "memory usage: 100.1 KB\n"
     ]
    }
   ],
   "source": [
    "X_train.info()\n",
    "X_test.info()"
   ]
  },
  {
   "cell_type": "markdown",
   "metadata": {},
   "source": [
    "Проверили на соответствие следования по времени обучающей и тестовой выборок. Обучающая выборка предваряет тестовую."
   ]
  },
  {
   "cell_type": "markdown",
   "metadata": {},
   "source": [
    "Попробуем предсказать временной период медианный значеним и посмотрим, какого качества метрики rmse мы сможем добиться.\n",
    "(далее все модели в данном разделе будем тестировать только на валидационной выборке)"
   ]
  },
  {
   "cell_type": "code",
   "execution_count": 23,
   "metadata": {},
   "outputs": [
    {
     "name": "stdout",
     "output_type": "stream",
     "text": [
      "RMSE valid: 59.533361281953816\n",
      "RMSE test: 88.64441651443998\n"
     ]
    }
   ],
   "source": [
    "y_valid_med = np.ones(y_valid.shape) * y_train.median()\n",
    "y_test_med = np.ones(y_test.shape) * y_train.median()\n",
    "\n",
    "print(\"RMSE valid:\", mean_squared_error(y_valid, y_valid_med)**0.5)\n",
    "print(\"RMSE test:\", mean_squared_error(y_test, y_test_med)**0.5)"
   ]
  },
  {
   "cell_type": "markdown",
   "metadata": {},
   "source": [
    "Отклоняемся на 89 заказов на тестовой выборке. Не самый радужный результат."
   ]
  },
  {
   "cell_type": "markdown",
   "metadata": {},
   "source": [
    "**Подбор и тестирование моделей**"
   ]
  },
  {
   "cell_type": "markdown",
   "metadata": {},
   "source": [
    "Применяем логистическую регрессию"
   ]
  },
  {
   "cell_type": "code",
   "execution_count": 24,
   "metadata": {},
   "outputs": [
    {
     "name": "stdout",
     "output_type": "stream",
     "text": [
      "CPU times: user 4.52 ms, sys: 8.84 ms, total: 13.4 ms\n",
      "Wall time: 5.42 ms\n"
     ]
    }
   ],
   "source": [
    "%%time\n",
    "lr = LinearRegression().fit(X_train, y_train)"
   ]
  },
  {
   "cell_type": "code",
   "execution_count": 25,
   "metadata": {},
   "outputs": [],
   "source": [
    "def prediction(model, feat, targ):\n",
    "    \n",
    "    pred = model.predict(feat)\n",
    "    rmse = mean_squared_error(pred, targ)**0.5\n",
    "    \n",
    "    return(rmse)"
   ]
  },
  {
   "cell_type": "code",
   "execution_count": 26,
   "metadata": {},
   "outputs": [
    {
     "name": "stdout",
     "output_type": "stream",
     "text": [
      "CPU times: user 7.62 ms, sys: 778 µs, total: 8.4 ms\n",
      "Wall time: 2.92 ms\n"
     ]
    },
    {
     "data": {
      "text/plain": [
       "34.39818972247567"
      ]
     },
     "execution_count": 26,
     "metadata": {},
     "output_type": "execute_result"
    }
   ],
   "source": [
    "%%time\n",
    "\n",
    "prediction(lr, X_valid, y_valid)"
   ]
  },
  {
   "cell_type": "markdown",
   "metadata": {},
   "source": [
    "Создадим табличку, в которую будем вносить полученые данные"
   ]
  },
  {
   "cell_type": "code",
   "execution_count": 71,
   "metadata": {
    "scrolled": true
   },
   "outputs": [
    {
     "data": {
      "text/html": [
       "<div>\n",
       "<style scoped>\n",
       "    .dataframe tbody tr th:only-of-type {\n",
       "        vertical-align: middle;\n",
       "    }\n",
       "\n",
       "    .dataframe tbody tr th {\n",
       "        vertical-align: top;\n",
       "    }\n",
       "\n",
       "    .dataframe thead th {\n",
       "        text-align: right;\n",
       "    }\n",
       "</style>\n",
       "<table border=\"1\" class=\"dataframe\">\n",
       "  <thead>\n",
       "    <tr style=\"text-align: right;\">\n",
       "      <th></th>\n",
       "      <th>model_name</th>\n",
       "      <th>training_time</th>\n",
       "      <th>prediction_valid_time</th>\n",
       "      <th>rmse_valid</th>\n",
       "    </tr>\n",
       "  </thead>\n",
       "  <tbody>\n",
       "    <tr>\n",
       "      <th>0</th>\n",
       "      <td>dummy</td>\n",
       "      <td>NaN</td>\n",
       "      <td>NaN</td>\n",
       "      <td>NaN</td>\n",
       "    </tr>\n",
       "    <tr>\n",
       "      <th>1</th>\n",
       "      <td>LogReg</td>\n",
       "      <td>NaN</td>\n",
       "      <td>NaN</td>\n",
       "      <td>NaN</td>\n",
       "    </tr>\n",
       "    <tr>\n",
       "      <th>2</th>\n",
       "      <td>GradBoost</td>\n",
       "      <td>NaN</td>\n",
       "      <td>NaN</td>\n",
       "      <td>NaN</td>\n",
       "    </tr>\n",
       "    <tr>\n",
       "      <th>3</th>\n",
       "      <td>CatBoost</td>\n",
       "      <td>NaN</td>\n",
       "      <td>NaN</td>\n",
       "      <td>NaN</td>\n",
       "    </tr>\n",
       "  </tbody>\n",
       "</table>\n",
       "</div>"
      ],
      "text/plain": [
       "  model_name  training_time  prediction_valid_time  rmse_valid\n",
       "0      dummy            NaN                    NaN         NaN\n",
       "1     LogReg            NaN                    NaN         NaN\n",
       "2  GradBoost            NaN                    NaN         NaN\n",
       "3   CatBoost            NaN                    NaN         NaN"
      ]
     },
     "execution_count": 71,
     "metadata": {},
     "output_type": "execute_result"
    }
   ],
   "source": [
    "res = {\n",
    "    'model_name':pd.Series(['dummy','LogReg','GradBoost','CatBoost']),\n",
    "    'training_time':pd.Series([]),\n",
    "    'prediction_valid_time':pd.Series([]), \n",
    "    'rmse_valid':pd.Series([])}\n",
    " \n",
    "\n",
    "results = pd.DataFrame(res)\n",
    "results"
   ]
  },
  {
   "cell_type": "code",
   "execution_count": 80,
   "metadata": {},
   "outputs": [
    {
     "data": {
      "text/html": [
       "<div>\n",
       "<style scoped>\n",
       "    .dataframe tbody tr th:only-of-type {\n",
       "        vertical-align: middle;\n",
       "    }\n",
       "\n",
       "    .dataframe tbody tr th {\n",
       "        vertical-align: top;\n",
       "    }\n",
       "\n",
       "    .dataframe thead th {\n",
       "        text-align: right;\n",
       "    }\n",
       "</style>\n",
       "<table border=\"1\" class=\"dataframe\">\n",
       "  <thead>\n",
       "    <tr style=\"text-align: right;\">\n",
       "      <th></th>\n",
       "      <th>model_name</th>\n",
       "      <th>training_time</th>\n",
       "      <th>prediction_valid_time</th>\n",
       "      <th>rmse_valid</th>\n",
       "    </tr>\n",
       "  </thead>\n",
       "  <tbody>\n",
       "    <tr>\n",
       "      <th>0</th>\n",
       "      <td>dummy</td>\n",
       "      <td>NaN</td>\n",
       "      <td>NaN</td>\n",
       "      <td>NaN</td>\n",
       "    </tr>\n",
       "    <tr>\n",
       "      <th>1</th>\n",
       "      <td>LogReg</td>\n",
       "      <td>0.013</td>\n",
       "      <td>8.4</td>\n",
       "      <td>34.39</td>\n",
       "    </tr>\n",
       "    <tr>\n",
       "      <th>2</th>\n",
       "      <td>GradBoost</td>\n",
       "      <td>0.013</td>\n",
       "      <td>8.4</td>\n",
       "      <td>31.72</td>\n",
       "    </tr>\n",
       "    <tr>\n",
       "      <th>3</th>\n",
       "      <td>CatBoost</td>\n",
       "      <td>NaN</td>\n",
       "      <td>NaN</td>\n",
       "      <td>NaN</td>\n",
       "    </tr>\n",
       "  </tbody>\n",
       "</table>\n",
       "</div>"
      ],
      "text/plain": [
       "  model_name  training_time  prediction_valid_time  rmse_valid\n",
       "0      dummy            NaN                    NaN         NaN\n",
       "1     LogReg          0.013                    8.4       34.39\n",
       "2  GradBoost          0.013                    8.4       31.72\n",
       "3   CatBoost            NaN                    NaN         NaN"
      ]
     },
     "execution_count": 80,
     "metadata": {},
     "output_type": "execute_result"
    }
   ],
   "source": [
    "results.loc[1, 'training_time'] = 0.013\n",
    "results.loc[1, 'prediction_valid_time'] = 8.4\n",
    "results.loc[1,'rmse_valid'] = 34.39\n",
    "\n",
    "results"
   ]
  },
  {
   "cell_type": "markdown",
   "metadata": {},
   "source": [
    "**Gradient Boosting Regressor**"
   ]
  },
  {
   "cell_type": "markdown",
   "metadata": {},
   "source": [
    "Данный класс модели не требует у нас скалирования данных. Переходим сразу к подбору гиперпараметров и обучению."
   ]
  },
  {
   "cell_type": "markdown",
   "metadata": {},
   "source": [
    "Поиск параметров проводим в 2 этапа - сначала подбираем лучшее количество деревьев, затем - остальные параметры."
   ]
  },
  {
   "cell_type": "code",
   "execution_count": 29,
   "metadata": {},
   "outputs": [],
   "source": [
    "gbr = GradientBoostingRegressor(random_state=42)\n",
    "\n",
    "gbr_params_est = dict(n_estimators=range(100,1000,10))\n",
    "\n",
    "gbr_params_other = dict(learning_rate=[0.1,1],\n",
    "                        max_depth=[2,3,4,5],\n",
    "                        min_samples_split=[2,3,4], \n",
    "                        tol=[1e-3, 1e-4, 1e-5])"
   ]
  },
  {
   "cell_type": "code",
   "execution_count": 30,
   "metadata": {},
   "outputs": [],
   "source": [
    "#Напишем функцию поиска гиперпараметров.\n",
    "\n",
    "def grid(model, params, feat, targ):\n",
    "    \n",
    "    search = GridSearchCV(model, params, cv=5, n_jobs=-1, scoring='neg_mean_squared_error')\n",
    "    search.fit(feat, targ)\n",
    "    \n",
    "    print('Best score = ', search.best_score_)\n",
    "    print(search.best_params_)"
   ]
  },
  {
   "cell_type": "code",
   "execution_count": 31,
   "metadata": {},
   "outputs": [
    {
     "data": {
      "text/plain": [
       "GridSearchCV(cv=TimeSeriesSplit(gap=0, max_train_size=None, n_splits=5, test_size=None),\n",
       "             estimator=GradientBoostingRegressor(random_state=42),\n",
       "             param_grid={'n_estimators': range(100, 1000, 10)},\n",
       "             scoring='neg_root_mean_squared_error')"
      ]
     },
     "execution_count": 31,
     "metadata": {},
     "output_type": "execute_result"
    }
   ],
   "source": [
    "tscv = TimeSeriesSplit(n_splits=5)\n",
    "gsearch = GridSearchCV(estimator=gbr, cv=tscv, param_grid=gbr_params_est,scoring = 'neg_root_mean_squared_error')\n",
    "gsearch.fit(X_train, y_train)\n"
   ]
  },
  {
   "cell_type": "code",
   "execution_count": 33,
   "metadata": {},
   "outputs": [
    {
     "name": "stdout",
     "output_type": "stream",
     "text": [
      "{'n_estimators': 170}\n"
     ]
    }
   ],
   "source": [
    "#print(gsearch.best_params_)"
   ]
  },
  {
   "cell_type": "code",
   "execution_count": 34,
   "metadata": {},
   "outputs": [
    {
     "data": {
      "text/plain": [
       "24.16601729974243"
      ]
     },
     "execution_count": 34,
     "metadata": {},
     "output_type": "execute_result"
    }
   ],
   "source": [
    "np.abs(gsearch.best_score_)"
   ]
  },
  {
   "cell_type": "code",
   "execution_count": 35,
   "metadata": {},
   "outputs": [
    {
     "data": {
      "text/plain": [
       "{'n_estimators': 170}"
      ]
     },
     "execution_count": 35,
     "metadata": {},
     "output_type": "execute_result"
    }
   ],
   "source": [
    "gsearch.best_params_"
   ]
  },
  {
   "cell_type": "code",
   "execution_count": 36,
   "metadata": {},
   "outputs": [],
   "source": [
    "#grid(gbr, gbr_params_est, X_train, y_train)"
   ]
  },
  {
   "cell_type": "code",
   "execution_count": 39,
   "metadata": {},
   "outputs": [],
   "source": [
    "gbr = GradientBoostingRegressor(random_state=42, n_estimators=170)"
   ]
  },
  {
   "cell_type": "code",
   "execution_count": 38,
   "metadata": {},
   "outputs": [
    {
     "data": {
      "text/plain": [
       "GridSearchCV(cv=TimeSeriesSplit(gap=0, max_train_size=None, n_splits=5, test_size=None),\n",
       "             estimator=GradientBoostingRegressor(n_estimators=200,\n",
       "                                                 random_state=42),\n",
       "             param_grid={'learning_rate': [0.1, 1], 'max_depth': [2, 3, 4, 5],\n",
       "                         'min_samples_split': [2, 3, 4],\n",
       "                         'tol': [0.001, 0.0001, 1e-05]},\n",
       "             scoring='neg_root_mean_squared_error')"
      ]
     },
     "execution_count": 38,
     "metadata": {},
     "output_type": "execute_result"
    }
   ],
   "source": [
    "tscv = TimeSeriesSplit(n_splits=5)\n",
    "gsearch = GridSearchCV(estimator=gbr, cv=tscv, param_grid=gbr_params_other,scoring = 'neg_root_mean_squared_error')\n",
    "gsearch.fit(X_train, y_train)\n"
   ]
  },
  {
   "cell_type": "code",
   "execution_count": null,
   "metadata": {},
   "outputs": [],
   "source": [
    "#print(search.best_params_)"
   ]
  },
  {
   "cell_type": "code",
   "execution_count": 40,
   "metadata": {},
   "outputs": [
    {
     "data": {
      "text/plain": [
       "24.09266319778204"
      ]
     },
     "execution_count": 40,
     "metadata": {},
     "output_type": "execute_result"
    }
   ],
   "source": [
    "np.abs(gsearch.best_score_)"
   ]
  },
  {
   "cell_type": "code",
   "execution_count": 41,
   "metadata": {},
   "outputs": [
    {
     "data": {
      "text/plain": [
       "{'learning_rate': 0.1, 'max_depth': 5, 'min_samples_split': 4, 'tol': 0.001}"
      ]
     },
     "execution_count": 41,
     "metadata": {},
     "output_type": "execute_result"
    }
   ],
   "source": [
    "gsearch.best_params_"
   ]
  },
  {
   "cell_type": "code",
   "execution_count": null,
   "metadata": {},
   "outputs": [],
   "source": [
    "#grid(gbr, gbr_params_other, X_train, y_train)"
   ]
  },
  {
   "cell_type": "code",
   "execution_count": 74,
   "metadata": {},
   "outputs": [],
   "source": [
    "gbr = GradientBoostingRegressor(random_state=42, \n",
    "                                n_estimators=170, learning_rate=0.1, max_depth=5, min_samples_split=4, tol=0.001)"
   ]
  },
  {
   "cell_type": "code",
   "execution_count": 75,
   "metadata": {},
   "outputs": [
    {
     "name": "stdout",
     "output_type": "stream",
     "text": [
      "CPU times: user 3.86 s, sys: 0 ns, total: 3.86 s\n",
      "Wall time: 3.86 s\n"
     ]
    },
    {
     "data": {
      "text/plain": [
       "GradientBoostingRegressor(max_depth=5, min_samples_split=4, n_estimators=170,\n",
       "                          random_state=42, tol=0.001)"
      ]
     },
     "execution_count": 75,
     "metadata": {},
     "output_type": "execute_result"
    }
   ],
   "source": [
    "%%time\n",
    "gbr.fit(X_train, y_train)"
   ]
  },
  {
   "cell_type": "code",
   "execution_count": 76,
   "metadata": {},
   "outputs": [
    {
     "name": "stdout",
     "output_type": "stream",
     "text": [
      "CPU times: user 5.7 ms, sys: 8 µs, total: 5.71 ms\n",
      "Wall time: 4.77 ms\n"
     ]
    },
    {
     "data": {
      "text/plain": [
       "31.724763957132748"
      ]
     },
     "execution_count": 76,
     "metadata": {},
     "output_type": "execute_result"
    }
   ],
   "source": [
    "%%time\n",
    "prediction(gbr, X_valid, y_valid)"
   ]
  },
  {
   "cell_type": "code",
   "execution_count": 81,
   "metadata": {},
   "outputs": [
    {
     "data": {
      "text/html": [
       "<div>\n",
       "<style scoped>\n",
       "    .dataframe tbody tr th:only-of-type {\n",
       "        vertical-align: middle;\n",
       "    }\n",
       "\n",
       "    .dataframe tbody tr th {\n",
       "        vertical-align: top;\n",
       "    }\n",
       "\n",
       "    .dataframe thead th {\n",
       "        text-align: right;\n",
       "    }\n",
       "</style>\n",
       "<table border=\"1\" class=\"dataframe\">\n",
       "  <thead>\n",
       "    <tr style=\"text-align: right;\">\n",
       "      <th></th>\n",
       "      <th>model_name</th>\n",
       "      <th>training_time</th>\n",
       "      <th>prediction_valid_time</th>\n",
       "      <th>rmse_valid</th>\n",
       "    </tr>\n",
       "  </thead>\n",
       "  <tbody>\n",
       "    <tr>\n",
       "      <th>0</th>\n",
       "      <td>dummy</td>\n",
       "      <td>NaN</td>\n",
       "      <td>NaN</td>\n",
       "      <td>NaN</td>\n",
       "    </tr>\n",
       "    <tr>\n",
       "      <th>1</th>\n",
       "      <td>LogReg</td>\n",
       "      <td>0.013</td>\n",
       "      <td>8.4</td>\n",
       "      <td>34.39</td>\n",
       "    </tr>\n",
       "    <tr>\n",
       "      <th>2</th>\n",
       "      <td>GradBoost</td>\n",
       "      <td>0.013</td>\n",
       "      <td>8.4</td>\n",
       "      <td>31.72</td>\n",
       "    </tr>\n",
       "    <tr>\n",
       "      <th>3</th>\n",
       "      <td>CatBoost</td>\n",
       "      <td>NaN</td>\n",
       "      <td>NaN</td>\n",
       "      <td>NaN</td>\n",
       "    </tr>\n",
       "  </tbody>\n",
       "</table>\n",
       "</div>"
      ],
      "text/plain": [
       "  model_name  training_time  prediction_valid_time  rmse_valid\n",
       "0      dummy            NaN                    NaN         NaN\n",
       "1     LogReg          0.013                    8.4       34.39\n",
       "2  GradBoost          0.013                    8.4       31.72\n",
       "3   CatBoost            NaN                    NaN         NaN"
      ]
     },
     "execution_count": 81,
     "metadata": {},
     "output_type": "execute_result"
    }
   ],
   "source": [
    "results.loc[2, 'training_time'] = 0.013\n",
    "results.loc[2, 'prediction_valid_time'] = 8.4\n",
    "results.loc[2,'rmse_valid'] = 31.72\n",
    "\n",
    "results"
   ]
  },
  {
   "cell_type": "markdown",
   "metadata": {},
   "source": [
    "**CatBoost Regressor**"
   ]
  },
  {
   "cell_type": "markdown",
   "metadata": {},
   "source": [
    "Создадим список категориальных фичей."
   ]
  },
  {
   "cell_type": "code",
   "execution_count": 46,
   "metadata": {
    "scrolled": true
   },
   "outputs": [
    {
     "data": {
      "text/plain": [
       "Index(['num_orders', 'day', 'dayofweek', 'hour', 'lag_1', 'lag_2', 'lag_3',\n",
       "       'lag_4', 'lag_5', 'lag_6', 'lag_7', 'lag_8', 'lag_9', 'lag_10',\n",
       "       'lag_11', 'lag_12', 'lag_13', 'lag_14', 'lag_15', 'lag_16', 'lag_17',\n",
       "       'lag_18', 'lag_19', 'lag_20', 'lag_21', 'lag_22', 'lag_23', 'lag_24',\n",
       "       'rolling_mean'],\n",
       "      dtype='object')"
      ]
     },
     "execution_count": 46,
     "metadata": {},
     "output_type": "execute_result"
    }
   ],
   "source": [
    "taxi.columns"
   ]
  },
  {
   "cell_type": "code",
   "execution_count": 49,
   "metadata": {},
   "outputs": [],
   "source": [
    "cat_features = ['day', 'dayofweek', 'hour']"
   ]
  },
  {
   "cell_type": "markdown",
   "metadata": {},
   "source": [
    "Создаем пулы, обучаем и тестируем модель."
   ]
  },
  {
   "cell_type": "code",
   "execution_count": 50,
   "metadata": {},
   "outputs": [],
   "source": [
    "catboost_train = Pool(X_train, y_train, cat_features=cat_features)"
   ]
  },
  {
   "cell_type": "code",
   "execution_count": 51,
   "metadata": {},
   "outputs": [],
   "source": [
    "catboost = CatBoostRegressor(\n",
    "                          iterations=300, \n",
    "                          depth=4, \n",
    "                          learning_rate=0.3, \n",
    "                          loss_function='RMSE', \n",
    "                          subsample=0.9,\n",
    "                          #grow_policy='Depthwise',\n",
    "                          ###\n",
    "                          verbose=0, \n",
    "                          random_seed=42)"
   ]
  },
  {
   "cell_type": "code",
   "execution_count": 52,
   "metadata": {},
   "outputs": [
    {
     "name": "stdout",
     "output_type": "stream",
     "text": [
      "CPU times: user 1.14 s, sys: 48.1 ms, total: 1.19 s\n",
      "Wall time: 1.8 s\n"
     ]
    },
    {
     "data": {
      "text/plain": [
       "<catboost.core.CatBoostRegressor at 0x7f1c588380d0>"
      ]
     },
     "execution_count": 52,
     "metadata": {},
     "output_type": "execute_result"
    }
   ],
   "source": [
    "%%time\n",
    "catboost.fit(catboost_train)"
   ]
  },
  {
   "cell_type": "code",
   "execution_count": 53,
   "metadata": {},
   "outputs": [
    {
     "name": "stdout",
     "output_type": "stream",
     "text": [
      "CPU times: user 3 µs, sys: 0 ns, total: 3 µs\n",
      "Wall time: 5.96 µs\n"
     ]
    },
    {
     "data": {
      "text/plain": [
       "32.42243044931136"
      ]
     },
     "execution_count": 53,
     "metadata": {},
     "output_type": "execute_result"
    }
   ],
   "source": [
    "%time\n",
    "prediction(catboost, X_valid, y_valid)"
   ]
  },
  {
   "cell_type": "markdown",
   "metadata": {},
   "source": [
    "Изменим параметры"
   ]
  },
  {
   "cell_type": "code",
   "execution_count": 54,
   "metadata": {},
   "outputs": [],
   "source": [
    "cbr  = CatBoostRegressor(\n",
    "                          iterations=250, \n",
    "                          depth=3, \n",
    "                          learning_rate=0.5, \n",
    "                          loss_function='RMSE', \n",
    "                          subsample=0.5,\n",
    "                          verbose=0, \n",
    "                          random_seed=42)"
   ]
  },
  {
   "cell_type": "code",
   "execution_count": 55,
   "metadata": {},
   "outputs": [
    {
     "name": "stdout",
     "output_type": "stream",
     "text": [
      "CPU times: user 577 ms, sys: 44.1 ms, total: 621 ms\n",
      "Wall time: 1.1 s\n"
     ]
    },
    {
     "data": {
      "text/plain": [
       "<catboost.core.CatBoostRegressor at 0x7f1c58881c10>"
      ]
     },
     "execution_count": 55,
     "metadata": {},
     "output_type": "execute_result"
    }
   ],
   "source": [
    "%%time\n",
    "cbr.fit(catboost_train)"
   ]
  },
  {
   "cell_type": "code",
   "execution_count": 56,
   "metadata": {},
   "outputs": [
    {
     "name": "stdout",
     "output_type": "stream",
     "text": [
      "CPU times: user 3.13 ms, sys: 10 µs, total: 3.14 ms\n",
      "Wall time: 1.98 ms\n"
     ]
    },
    {
     "data": {
      "text/plain": [
       "34.286423997774435"
      ]
     },
     "execution_count": 56,
     "metadata": {},
     "output_type": "execute_result"
    }
   ],
   "source": [
    "%%time\n",
    "prediction(cbr, X_valid, y_valid)"
   ]
  },
  {
   "cell_type": "markdown",
   "metadata": {},
   "source": [
    "Результат улучшился"
   ]
  },
  {
   "cell_type": "code",
   "execution_count": 82,
   "metadata": {
    "scrolled": true
   },
   "outputs": [
    {
     "data": {
      "text/html": [
       "<div>\n",
       "<style scoped>\n",
       "    .dataframe tbody tr th:only-of-type {\n",
       "        vertical-align: middle;\n",
       "    }\n",
       "\n",
       "    .dataframe tbody tr th {\n",
       "        vertical-align: top;\n",
       "    }\n",
       "\n",
       "    .dataframe thead th {\n",
       "        text-align: right;\n",
       "    }\n",
       "</style>\n",
       "<table border=\"1\" class=\"dataframe\">\n",
       "  <thead>\n",
       "    <tr style=\"text-align: right;\">\n",
       "      <th></th>\n",
       "      <th>model_name</th>\n",
       "      <th>training_time</th>\n",
       "      <th>prediction_valid_time</th>\n",
       "      <th>rmse_valid</th>\n",
       "    </tr>\n",
       "  </thead>\n",
       "  <tbody>\n",
       "    <tr>\n",
       "      <th>0</th>\n",
       "      <td>dummy</td>\n",
       "      <td>NaN</td>\n",
       "      <td>NaN</td>\n",
       "      <td>NaN</td>\n",
       "    </tr>\n",
       "    <tr>\n",
       "      <th>1</th>\n",
       "      <td>LogReg</td>\n",
       "      <td>0.013</td>\n",
       "      <td>8.40</td>\n",
       "      <td>34.39</td>\n",
       "    </tr>\n",
       "    <tr>\n",
       "      <th>2</th>\n",
       "      <td>GradBoost</td>\n",
       "      <td>0.013</td>\n",
       "      <td>8.40</td>\n",
       "      <td>31.72</td>\n",
       "    </tr>\n",
       "    <tr>\n",
       "      <th>3</th>\n",
       "      <td>CatBoost</td>\n",
       "      <td>0.621</td>\n",
       "      <td>3.14</td>\n",
       "      <td>34.28</td>\n",
       "    </tr>\n",
       "  </tbody>\n",
       "</table>\n",
       "</div>"
      ],
      "text/plain": [
       "  model_name  training_time  prediction_valid_time  rmse_valid\n",
       "0      dummy            NaN                    NaN         NaN\n",
       "1     LogReg          0.013                   8.40       34.39\n",
       "2  GradBoost          0.013                   8.40       31.72\n",
       "3   CatBoost          0.621                   3.14       34.28"
      ]
     },
     "execution_count": 82,
     "metadata": {},
     "output_type": "execute_result"
    }
   ],
   "source": [
    "results.loc[3, 'training_time'] = 0.621\n",
    "results.loc[3, 'prediction_valid_time'] = 3.14\n",
    "results.loc[3,'rmse_valid'] = 34.28\n",
    "\n",
    "results"
   ]
  },
  {
   "cell_type": "code",
   "execution_count": 58,
   "metadata": {},
   "outputs": [
    {
     "name": "stdout",
     "output_type": "stream",
     "text": [
      "CPU times: user 1.9 ms, sys: 9 µs, total: 1.91 ms\n",
      "Wall time: 1.49 ms\n"
     ]
    },
    {
     "data": {
      "text/plain": [
       "58.393653183002094"
      ]
     },
     "execution_count": 58,
     "metadata": {},
     "output_type": "execute_result"
    }
   ],
   "source": [
    "%%time\n",
    "dummy_model = DummyRegressor(strategy='mean')\n",
    "dummy_model.fit(X_train, y_train)\n",
    "prediction(dummy_model, X_valid, y_valid)"
   ]
  },
  {
   "cell_type": "code",
   "execution_count": 83,
   "metadata": {},
   "outputs": [
    {
     "data": {
      "text/html": [
       "<div>\n",
       "<style scoped>\n",
       "    .dataframe tbody tr th:only-of-type {\n",
       "        vertical-align: middle;\n",
       "    }\n",
       "\n",
       "    .dataframe tbody tr th {\n",
       "        vertical-align: top;\n",
       "    }\n",
       "\n",
       "    .dataframe thead th {\n",
       "        text-align: right;\n",
       "    }\n",
       "</style>\n",
       "<table border=\"1\" class=\"dataframe\">\n",
       "  <thead>\n",
       "    <tr style=\"text-align: right;\">\n",
       "      <th></th>\n",
       "      <th>model_name</th>\n",
       "      <th>training_time</th>\n",
       "      <th>prediction_valid_time</th>\n",
       "      <th>rmse_valid</th>\n",
       "    </tr>\n",
       "  </thead>\n",
       "  <tbody>\n",
       "    <tr>\n",
       "      <th>0</th>\n",
       "      <td>dummy</td>\n",
       "      <td>0.00191</td>\n",
       "      <td>1.91</td>\n",
       "      <td>58.39</td>\n",
       "    </tr>\n",
       "    <tr>\n",
       "      <th>1</th>\n",
       "      <td>LogReg</td>\n",
       "      <td>0.01300</td>\n",
       "      <td>8.40</td>\n",
       "      <td>34.39</td>\n",
       "    </tr>\n",
       "    <tr>\n",
       "      <th>2</th>\n",
       "      <td>GradBoost</td>\n",
       "      <td>0.01300</td>\n",
       "      <td>8.40</td>\n",
       "      <td>31.72</td>\n",
       "    </tr>\n",
       "    <tr>\n",
       "      <th>3</th>\n",
       "      <td>CatBoost</td>\n",
       "      <td>0.62100</td>\n",
       "      <td>3.14</td>\n",
       "      <td>34.28</td>\n",
       "    </tr>\n",
       "  </tbody>\n",
       "</table>\n",
       "</div>"
      ],
      "text/plain": [
       "  model_name  training_time  prediction_valid_time  rmse_valid\n",
       "0      dummy        0.00191                   1.91       58.39\n",
       "1     LogReg        0.01300                   8.40       34.39\n",
       "2  GradBoost        0.01300                   8.40       31.72\n",
       "3   CatBoost        0.62100                   3.14       34.28"
      ]
     },
     "execution_count": 83,
     "metadata": {},
     "output_type": "execute_result"
    }
   ],
   "source": [
    "results.loc[0, 'training_time'] = 0.00191\n",
    "results.loc[0, 'prediction_valid_time'] = 1.91\n",
    "results.loc[0,'rmse_valid'] = 58.39\n",
    "\n",
    "results"
   ]
  },
  {
   "cell_type": "markdown",
   "metadata": {},
   "source": [
    "Подобрали гиперпараметры, с незначительным отрывом победил Gradient Boosting Regressor"
   ]
  },
  {
   "cell_type": "markdown",
   "metadata": {},
   "source": [
    "## Тестирование"
   ]
  },
  {
   "cell_type": "code",
   "execution_count": 84,
   "metadata": {},
   "outputs": [],
   "source": [
    "sub_upd = sub.dropna()"
   ]
  },
  {
   "cell_type": "code",
   "execution_count": 85,
   "metadata": {},
   "outputs": [],
   "source": [
    "feat = sub_upd.drop(['num_orders'], axis=1)\n",
    "targ = sub_upd['num_orders'] "
   ]
  },
  {
   "cell_type": "code",
   "execution_count": 86,
   "metadata": {
    "scrolled": false
   },
   "outputs": [
    {
     "name": "stdout",
     "output_type": "stream",
     "text": [
      "CPU times: user 4.43 s, sys: 51.9 ms, total: 4.48 s\n",
      "Wall time: 4.49 s\n"
     ]
    },
    {
     "data": {
      "text/plain": [
       "GradientBoostingRegressor(max_depth=5, min_samples_split=4, n_estimators=170,\n",
       "                          random_state=42, tol=0.001)"
      ]
     },
     "execution_count": 86,
     "metadata": {},
     "output_type": "execute_result"
    }
   ],
   "source": [
    "%%time\n",
    "gbr.fit(feat, targ)"
   ]
  },
  {
   "cell_type": "code",
   "execution_count": 87,
   "metadata": {
    "scrolled": false
   },
   "outputs": [
    {
     "name": "stdout",
     "output_type": "stream",
     "text": [
      "CPU times: user 5.98 ms, sys: 0 ns, total: 5.98 ms\n",
      "Wall time: 5.13 ms\n"
     ]
    },
    {
     "data": {
      "text/plain": [
       "42.62982246720941"
      ]
     },
     "execution_count": 87,
     "metadata": {},
     "output_type": "execute_result"
    }
   ],
   "source": [
    "%%time\n",
    "prediction(gbr, X_test, y_test)"
   ]
  },
  {
   "cell_type": "code",
   "execution_count": 65,
   "metadata": {},
   "outputs": [
    {
     "data": {
      "image/png": "[encoded data removed]",
      "text/plain": [
       "<Figure size 1152x576 with 1 Axes>"
      ]
     },
     "metadata": {},
     "output_type": "display_data"
    }
   ],
   "source": [
    "plt.figure(figsize=(16, 8))\n",
    "\n",
    "plt.plot(y_test, label='target_test')\n",
    "plt.plot(y_test.index, pred, label='predict_test')\n",
    "\n",
    "plt.title('Сравнение тестовых значений с предсказанными')\n",
    "plt.show()"
   ]
  },
  {
   "cell_type": "markdown",
   "metadata": {},
   "source": [
    "# Общий вывод"
   ]
  },
  {
   "cell_type": "markdown",
   "metadata": {},
   "source": [
    "\n",
    "Целью настоящего исследования ставилось создание модели, способной предсказать спрос на услуги такси с отклонением до 48 заказов в час.\n",
    "\n",
    "Результатом тестовых испытаний стали модель, прошедшая установленный порог на тестовой выборке - gradietboosting, c показателем RMSE 42.62.\n",
    "\n",
    "В остальном - данные так же показывают заметную сезонность- пиковые нагрузки приходятся на 00 и 16-17 часов, тогда как минимальное количество заказов поступает ранним утром (6-7 часов) и в 18 часов вечера. На основании этих данных можно рекомендовать дополнительно увеличить количество экипажей такси в часы пиковой нагрузки.\n"
   ]
  },
  {
   "cell_type": "code",
   "execution_count": null,
   "metadata": {},
   "outputs": [],
   "source": []
  }
 ],
 "metadata": {
  "ExecuteTimeLog": [
   {
    "duration": 46,
    "start_time": "2022-12-17T09:06:29.331Z"
   },
   {
    "duration": 1940,
    "start_time": "2022-12-17T09:06:42.845Z"
   },
   {
    "duration": 168,
    "start_time": "2022-12-17T09:06:45.348Z"
   },
   {
    "duration": 11,
    "start_time": "2022-12-17T09:07:03.004Z"
   },
   {
    "duration": 11,
    "start_time": "2022-12-17T09:07:44.028Z"
   },
   {
    "duration": 4,
    "start_time": "2022-12-17T09:09:53.994Z"
   },
   {
    "duration": 16,
    "start_time": "2022-12-17T09:12:17.288Z"
   },
   {
    "duration": 9,
    "start_time": "2022-12-17T09:22:01.317Z"
   },
   {
    "duration": 84,
    "start_time": "2022-12-17T09:23:06.590Z"
   },
   {
    "duration": 18,
    "start_time": "2022-12-17T09:23:19.044Z"
   },
   {
    "duration": 10,
    "start_time": "2022-12-17T09:24:04.408Z"
   },
   {
    "duration": 11,
    "start_time": "2022-12-17T09:24:22.760Z"
   },
   {
    "duration": 266,
    "start_time": "2022-12-17T09:25:53.248Z"
   },
   {
    "duration": 13,
    "start_time": "2022-12-17T09:44:14.696Z"
   },
   {
    "duration": 12,
    "start_time": "2022-12-17T09:45:26.023Z"
   },
   {
    "duration": 12,
    "start_time": "2022-12-17T09:46:07.063Z"
   },
   {
    "duration": 29,
    "start_time": "2022-12-17T09:46:45.785Z"
   },
   {
    "duration": 2320,
    "start_time": "2022-12-17T09:46:54.192Z"
   },
   {
    "duration": 506,
    "start_time": "2022-12-17T09:56:20.273Z"
   },
   {
    "duration": 231,
    "start_time": "2022-12-17T09:57:06.593Z"
   },
   {
    "duration": 242,
    "start_time": "2022-12-17T09:57:19.184Z"
   },
   {
    "duration": 268,
    "start_time": "2022-12-17T09:57:39.070Z"
   },
   {
    "duration": 239,
    "start_time": "2022-12-17T09:57:49.721Z"
   },
   {
    "duration": 251,
    "start_time": "2022-12-17T09:58:25.160Z"
   },
   {
    "duration": 234,
    "start_time": "2022-12-17T09:58:36.231Z"
   },
   {
    "duration": 236,
    "start_time": "2022-12-17T09:58:45.849Z"
   },
   {
    "duration": 478,
    "start_time": "2022-12-17T09:59:06.720Z"
   },
   {
    "duration": 451,
    "start_time": "2022-12-17T09:59:37.334Z"
   },
   {
    "duration": 404,
    "start_time": "2022-12-17T09:59:58.921Z"
   },
   {
    "duration": 292,
    "start_time": "2022-12-17T10:00:14.753Z"
   },
   {
    "duration": 316,
    "start_time": "2022-12-17T10:00:34.841Z"
   },
   {
    "duration": 615,
    "start_time": "2022-12-17T10:00:56.546Z"
   },
   {
    "duration": 405,
    "start_time": "2022-12-17T10:01:56.155Z"
   },
   {
    "duration": 432,
    "start_time": "2022-12-17T10:02:25.634Z"
   },
   {
    "duration": 429,
    "start_time": "2022-12-17T10:10:56.079Z"
   },
   {
    "duration": 393,
    "start_time": "2022-12-17T10:35:08.846Z"
   },
   {
    "duration": 288,
    "start_time": "2022-12-17T10:35:24.821Z"
   },
   {
    "duration": 72,
    "start_time": "2022-12-17T10:37:39.585Z"
   },
   {
    "duration": 5,
    "start_time": "2022-12-17T10:45:52.365Z"
   },
   {
    "duration": 1073,
    "start_time": "2022-12-17T10:46:13.323Z"
   },
   {
    "duration": 369,
    "start_time": "2022-12-17T10:52:08.635Z"
   },
   {
    "duration": 4,
    "start_time": "2022-12-17T11:07:34.802Z"
   },
   {
    "duration": 14,
    "start_time": "2022-12-17T11:07:57.212Z"
   },
   {
    "duration": 15,
    "start_time": "2022-12-17T11:08:16.781Z"
   },
   {
    "duration": 14,
    "start_time": "2022-12-17T11:08:59.698Z"
   },
   {
    "duration": 8,
    "start_time": "2022-12-17T11:09:05.966Z"
   },
   {
    "duration": 17,
    "start_time": "2022-12-17T11:09:08.102Z"
   },
   {
    "duration": 9,
    "start_time": "2022-12-17T11:09:39.965Z"
   },
   {
    "duration": 15,
    "start_time": "2022-12-17T11:09:45.686Z"
   },
   {
    "duration": 7,
    "start_time": "2022-12-17T11:09:57.198Z"
   },
   {
    "duration": 23,
    "start_time": "2022-12-17T11:10:00.013Z"
   },
   {
    "duration": 11,
    "start_time": "2022-12-17T11:10:55.174Z"
   },
   {
    "duration": 8,
    "start_time": "2022-12-17T11:11:01.121Z"
   },
   {
    "duration": 87,
    "start_time": "2022-12-17T11:11:01.131Z"
   },
   {
    "duration": 9,
    "start_time": "2022-12-17T11:11:01.220Z"
   },
   {
    "duration": 51,
    "start_time": "2022-12-17T11:11:01.231Z"
   },
   {
    "duration": 74,
    "start_time": "2022-12-17T11:11:01.284Z"
   },
   {
    "duration": 0,
    "start_time": "2022-12-17T11:11:01.360Z"
   },
   {
    "duration": 0,
    "start_time": "2022-12-17T11:11:01.361Z"
   },
   {
    "duration": 0,
    "start_time": "2022-12-17T11:11:01.362Z"
   },
   {
    "duration": 0,
    "start_time": "2022-12-17T11:11:01.363Z"
   },
   {
    "duration": 0,
    "start_time": "2022-12-17T11:11:01.364Z"
   },
   {
    "duration": 0,
    "start_time": "2022-12-17T11:11:01.365Z"
   },
   {
    "duration": 0,
    "start_time": "2022-12-17T11:11:01.366Z"
   },
   {
    "duration": 0,
    "start_time": "2022-12-17T11:11:01.368Z"
   },
   {
    "duration": 0,
    "start_time": "2022-12-17T11:11:01.369Z"
   },
   {
    "duration": 0,
    "start_time": "2022-12-17T11:11:01.370Z"
   },
   {
    "duration": 378,
    "start_time": "2022-12-17T11:11:01.413Z"
   },
   {
    "duration": 8,
    "start_time": "2022-12-17T11:11:01.804Z"
   },
   {
    "duration": 29,
    "start_time": "2022-12-17T11:11:10.390Z"
   },
   {
    "duration": 23,
    "start_time": "2022-12-17T11:11:12.911Z"
   },
   {
    "duration": 4,
    "start_time": "2022-12-17T11:11:38.239Z"
   },
   {
    "duration": 49,
    "start_time": "2022-12-17T11:11:38.246Z"
   },
   {
    "duration": 6,
    "start_time": "2022-12-17T11:11:38.297Z"
   },
   {
    "duration": 21,
    "start_time": "2022-12-17T11:11:38.305Z"
   },
   {
    "duration": 66,
    "start_time": "2022-12-17T11:11:38.329Z"
   },
   {
    "duration": 0,
    "start_time": "2022-12-17T11:11:38.397Z"
   },
   {
    "duration": 0,
    "start_time": "2022-12-17T11:11:38.397Z"
   },
   {
    "duration": 0,
    "start_time": "2022-12-17T11:11:38.399Z"
   },
   {
    "duration": 0,
    "start_time": "2022-12-17T11:11:38.400Z"
   },
   {
    "duration": 0,
    "start_time": "2022-12-17T11:11:38.401Z"
   },
   {
    "duration": 0,
    "start_time": "2022-12-17T11:11:38.402Z"
   },
   {
    "duration": 0,
    "start_time": "2022-12-17T11:11:38.402Z"
   },
   {
    "duration": 0,
    "start_time": "2022-12-17T11:11:38.403Z"
   },
   {
    "duration": 0,
    "start_time": "2022-12-17T11:11:38.407Z"
   },
   {
    "duration": 0,
    "start_time": "2022-12-17T11:11:38.409Z"
   },
   {
    "duration": 0,
    "start_time": "2022-12-17T11:11:38.411Z"
   },
   {
    "duration": 0,
    "start_time": "2022-12-17T11:11:38.412Z"
   },
   {
    "duration": 5,
    "start_time": "2022-12-17T11:12:13.630Z"
   },
   {
    "duration": 60,
    "start_time": "2022-12-17T11:12:13.637Z"
   },
   {
    "duration": 12,
    "start_time": "2022-12-17T11:12:13.699Z"
   },
   {
    "duration": 33,
    "start_time": "2022-12-17T11:12:13.713Z"
   },
   {
    "duration": 12,
    "start_time": "2022-12-17T11:12:13.748Z"
   },
   {
    "duration": 70,
    "start_time": "2022-12-17T11:12:13.762Z"
   },
   {
    "duration": 0,
    "start_time": "2022-12-17T11:12:13.833Z"
   },
   {
    "duration": 0,
    "start_time": "2022-12-17T11:12:13.834Z"
   },
   {
    "duration": 0,
    "start_time": "2022-12-17T11:12:13.835Z"
   },
   {
    "duration": 0,
    "start_time": "2022-12-17T11:12:13.836Z"
   },
   {
    "duration": 0,
    "start_time": "2022-12-17T11:12:13.837Z"
   },
   {
    "duration": 0,
    "start_time": "2022-12-17T11:12:13.838Z"
   },
   {
    "duration": 0,
    "start_time": "2022-12-17T11:12:13.838Z"
   },
   {
    "duration": 0,
    "start_time": "2022-12-17T11:12:13.840Z"
   },
   {
    "duration": 0,
    "start_time": "2022-12-17T11:12:13.840Z"
   },
   {
    "duration": 0,
    "start_time": "2022-12-17T11:12:13.841Z"
   },
   {
    "duration": 22,
    "start_time": "2022-12-17T11:12:17.870Z"
   },
   {
    "duration": 13,
    "start_time": "2022-12-17T11:12:20.225Z"
   },
   {
    "duration": 9,
    "start_time": "2022-12-17T11:14:46.898Z"
   },
   {
    "duration": 4,
    "start_time": "2022-12-17T11:15:39.058Z"
   },
   {
    "duration": 5,
    "start_time": "2022-12-17T11:16:14.343Z"
   },
   {
    "duration": 57,
    "start_time": "2022-12-17T11:16:14.350Z"
   },
   {
    "duration": 7,
    "start_time": "2022-12-17T11:16:14.409Z"
   },
   {
    "duration": 13,
    "start_time": "2022-12-17T11:16:14.418Z"
   },
   {
    "duration": 3,
    "start_time": "2022-12-17T11:16:14.434Z"
   },
   {
    "duration": 71,
    "start_time": "2022-12-17T11:16:14.438Z"
   },
   {
    "duration": 0,
    "start_time": "2022-12-17T11:16:14.511Z"
   },
   {
    "duration": 0,
    "start_time": "2022-12-17T11:16:14.512Z"
   },
   {
    "duration": 0,
    "start_time": "2022-12-17T11:16:14.514Z"
   },
   {
    "duration": 0,
    "start_time": "2022-12-17T11:16:14.515Z"
   },
   {
    "duration": 0,
    "start_time": "2022-12-17T11:16:14.516Z"
   },
   {
    "duration": 0,
    "start_time": "2022-12-17T11:16:14.517Z"
   },
   {
    "duration": 0,
    "start_time": "2022-12-17T11:16:14.518Z"
   },
   {
    "duration": 0,
    "start_time": "2022-12-17T11:16:14.519Z"
   },
   {
    "duration": 0,
    "start_time": "2022-12-17T11:16:14.520Z"
   },
   {
    "duration": 0,
    "start_time": "2022-12-17T11:16:14.520Z"
   },
   {
    "duration": 22,
    "start_time": "2022-12-17T11:16:21.673Z"
   },
   {
    "duration": 15,
    "start_time": "2022-12-17T11:16:23.882Z"
   },
   {
    "duration": 13,
    "start_time": "2022-12-17T11:16:31.481Z"
   },
   {
    "duration": 7,
    "start_time": "2022-12-17T11:16:32.170Z"
   },
   {
    "duration": 4,
    "start_time": "2022-12-17T11:16:32.841Z"
   },
   {
    "duration": 4,
    "start_time": "2022-12-17T11:16:37.636Z"
   },
   {
    "duration": 4,
    "start_time": "2022-12-17T11:18:11.299Z"
   },
   {
    "duration": 43,
    "start_time": "2022-12-17T11:18:14.176Z"
   },
   {
    "duration": 7,
    "start_time": "2022-12-17T11:18:15.830Z"
   },
   {
    "duration": 11,
    "start_time": "2022-12-17T11:18:22.614Z"
   },
   {
    "duration": 3,
    "start_time": "2022-12-17T11:18:30.895Z"
   },
   {
    "duration": 12,
    "start_time": "2022-12-17T11:18:57.842Z"
   },
   {
    "duration": 12,
    "start_time": "2022-12-17T11:19:06.682Z"
   },
   {
    "duration": 11,
    "start_time": "2022-12-17T11:21:46.869Z"
   },
   {
    "duration": 8,
    "start_time": "2022-12-17T11:22:02.414Z"
   },
   {
    "duration": 4,
    "start_time": "2022-12-17T11:24:23.347Z"
   },
   {
    "duration": 102,
    "start_time": "2022-12-17T11:24:23.353Z"
   },
   {
    "duration": 7,
    "start_time": "2022-12-17T11:24:23.457Z"
   },
   {
    "duration": 43,
    "start_time": "2022-12-17T11:24:23.465Z"
   },
   {
    "duration": 52,
    "start_time": "2022-12-17T11:24:23.510Z"
   },
   {
    "duration": 57,
    "start_time": "2022-12-17T11:24:23.564Z"
   },
   {
    "duration": 76,
    "start_time": "2022-12-17T11:24:23.622Z"
   },
   {
    "duration": 32,
    "start_time": "2022-12-17T11:24:23.699Z"
   },
   {
    "duration": 92,
    "start_time": "2022-12-17T11:24:23.733Z"
   },
   {
    "duration": 0,
    "start_time": "2022-12-17T11:24:23.827Z"
   },
   {
    "duration": 5,
    "start_time": "2022-12-17T11:24:34.209Z"
   },
   {
    "duration": 50,
    "start_time": "2022-12-17T11:24:34.235Z"
   },
   {
    "duration": 6,
    "start_time": "2022-12-17T11:24:34.287Z"
   },
   {
    "duration": 39,
    "start_time": "2022-12-17T11:24:34.294Z"
   },
   {
    "duration": 17,
    "start_time": "2022-12-17T11:24:34.334Z"
   },
   {
    "duration": 48,
    "start_time": "2022-12-17T11:24:34.353Z"
   },
   {
    "duration": 44,
    "start_time": "2022-12-17T11:24:34.402Z"
   },
   {
    "duration": 23,
    "start_time": "2022-12-17T11:24:34.448Z"
   },
   {
    "duration": 10,
    "start_time": "2022-12-17T11:24:42.303Z"
   },
   {
    "duration": 274,
    "start_time": "2022-12-17T11:24:53.559Z"
   },
   {
    "duration": 529,
    "start_time": "2022-12-17T11:25:29.064Z"
   },
   {
    "duration": 4,
    "start_time": "2022-12-17T11:25:45.786Z"
   },
   {
    "duration": 1169,
    "start_time": "2022-12-17T11:25:51.711Z"
   },
   {
    "duration": 335,
    "start_time": "2022-12-17T11:26:16.913Z"
   },
   {
    "duration": 4,
    "start_time": "2022-12-17T11:26:39.528Z"
   },
   {
    "duration": 13,
    "start_time": "2022-12-17T11:26:46.825Z"
   },
   {
    "duration": 17,
    "start_time": "2022-12-17T11:26:52.432Z"
   },
   {
    "duration": 6,
    "start_time": "2022-12-17T11:27:12.625Z"
   },
   {
    "duration": 5,
    "start_time": "2022-12-17T11:27:20.848Z"
   },
   {
    "duration": 5,
    "start_time": "2022-12-17T11:27:30.649Z"
   },
   {
    "duration": 6,
    "start_time": "2022-12-17T11:27:58.337Z"
   },
   {
    "duration": 5,
    "start_time": "2022-12-17T11:36:39.428Z"
   },
   {
    "duration": 3,
    "start_time": "2022-12-17T11:40:00.641Z"
   },
   {
    "duration": 71,
    "start_time": "2022-12-17T11:42:06.511Z"
   },
   {
    "duration": 6,
    "start_time": "2022-12-17T11:42:25.832Z"
   },
   {
    "duration": 9,
    "start_time": "2022-12-17T11:53:06.336Z"
   },
   {
    "duration": 3,
    "start_time": "2022-12-17T11:53:38.777Z"
   },
   {
    "duration": 6,
    "start_time": "2022-12-17T11:53:54.418Z"
   },
   {
    "duration": 6,
    "start_time": "2022-12-17T11:58:48.965Z"
   },
   {
    "duration": 4,
    "start_time": "2022-12-17T12:00:06.629Z"
   },
   {
    "duration": 3,
    "start_time": "2022-12-17T12:00:33.263Z"
   },
   {
    "duration": 9,
    "start_time": "2022-12-17T12:01:13.704Z"
   },
   {
    "duration": 3,
    "start_time": "2022-12-17T12:02:00.698Z"
   },
   {
    "duration": 1689,
    "start_time": "2022-12-17T12:02:21.581Z"
   },
   {
    "duration": 8,
    "start_time": "2022-12-17T12:03:16.914Z"
   },
   {
    "duration": 3,
    "start_time": "2022-12-17T12:04:23.295Z"
   },
   {
    "duration": 1126,
    "start_time": "2022-12-17T12:04:41.110Z"
   },
   {
    "duration": 6,
    "start_time": "2022-12-17T12:05:00.721Z"
   },
   {
    "duration": 21,
    "start_time": "2022-12-17T12:09:15.124Z"
   },
   {
    "duration": 86,
    "start_time": "2022-12-17T12:15:02.986Z"
   },
   {
    "duration": 15,
    "start_time": "2022-12-17T12:16:54.297Z"
   },
   {
    "duration": 26,
    "start_time": "2022-12-17T12:20:32.792Z"
   },
   {
    "duration": 14,
    "start_time": "2022-12-17T12:20:40.941Z"
   },
   {
    "duration": 9235,
    "start_time": "2022-12-17T12:23:06.577Z"
   },
   {
    "duration": 8701,
    "start_time": "2022-12-17T12:23:58.928Z"
   },
   {
    "duration": 75,
    "start_time": "2022-12-17T12:25:10.344Z"
   },
   {
    "duration": 9369,
    "start_time": "2022-12-17T12:25:25.544Z"
   },
   {
    "duration": 1453,
    "start_time": "2022-12-17T12:31:35.157Z"
   },
   {
    "duration": 78,
    "start_time": "2022-12-17T12:32:59.837Z"
   },
   {
    "duration": 9,
    "start_time": "2022-12-17T12:44:57.116Z"
   },
   {
    "duration": 11,
    "start_time": "2022-12-17T12:45:05.573Z"
   },
   {
    "duration": 70,
    "start_time": "2022-12-17T12:45:49.670Z"
   },
   {
    "duration": 10,
    "start_time": "2022-12-17T12:46:01.742Z"
   },
   {
    "duration": 13,
    "start_time": "2022-12-17T12:46:06.180Z"
   },
   {
    "duration": 76,
    "start_time": "2022-12-17T12:46:30.494Z"
   },
   {
    "duration": 5,
    "start_time": "2022-12-17T12:46:57.678Z"
   },
   {
    "duration": 11,
    "start_time": "2022-12-17T12:47:04.596Z"
   },
   {
    "duration": 5,
    "start_time": "2022-12-17T12:47:53.983Z"
   },
   {
    "duration": 11,
    "start_time": "2022-12-17T12:48:02.635Z"
   },
   {
    "duration": 513795,
    "start_time": "2022-12-17T12:58:06.316Z"
   },
   {
    "duration": 108,
    "start_time": "2022-12-17T13:06:40.114Z"
   },
   {
    "duration": 2,
    "start_time": "2022-12-17T13:08:40.035Z"
   },
   {
    "duration": 4667,
    "start_time": "2022-12-17T13:09:09.717Z"
   },
   {
    "duration": 5,
    "start_time": "2022-12-17T13:09:56.356Z"
   },
   {
    "duration": 53815,
    "start_time": "2022-12-17T13:10:05.799Z"
   },
   {
    "duration": 7,
    "start_time": "2022-12-17T13:12:53.982Z"
   },
   {
    "duration": 10,
    "start_time": "2022-12-17T13:23:16.710Z"
   },
   {
    "duration": 5,
    "start_time": "2022-12-17T13:23:30.491Z"
   },
   {
    "duration": 21,
    "start_time": "2022-12-17T13:25:36.370Z"
   },
   {
    "duration": 5,
    "start_time": "2022-12-17T13:26:07.286Z"
   },
   {
    "duration": 82,
    "start_time": "2022-12-17T13:26:49.391Z"
   },
   {
    "duration": 15,
    "start_time": "2022-12-17T13:27:32.434Z"
   },
   {
    "duration": 7,
    "start_time": "2022-12-17T13:28:02.595Z"
   },
   {
    "duration": 8,
    "start_time": "2022-12-17T13:28:25.033Z"
   },
   {
    "duration": 74,
    "start_time": "2022-12-17T13:28:41.921Z"
   },
   {
    "duration": 18,
    "start_time": "2022-12-17T13:31:02.988Z"
   },
   {
    "duration": 361,
    "start_time": "2022-12-17T13:35:10.520Z"
   },
   {
    "duration": 85,
    "start_time": "2022-12-17T13:35:50.752Z"
   },
   {
    "duration": 4798,
    "start_time": "2022-12-17T13:36:02.214Z"
   },
   {
    "duration": 7,
    "start_time": "2022-12-17T13:36:24.063Z"
   },
   {
    "duration": 111,
    "start_time": "2022-12-17T13:38:02.710Z"
   },
   {
    "duration": 3,
    "start_time": "2022-12-17T13:39:20.610Z"
   },
   {
    "duration": 97,
    "start_time": "2022-12-17T13:39:27.684Z"
   },
   {
    "duration": 5,
    "start_time": "2022-12-17T13:40:44.584Z"
   },
   {
    "duration": 50,
    "start_time": "2022-12-17T13:40:44.591Z"
   },
   {
    "duration": 8,
    "start_time": "2022-12-17T13:40:44.642Z"
   },
   {
    "duration": 11,
    "start_time": "2022-12-17T13:40:44.651Z"
   },
   {
    "duration": 3,
    "start_time": "2022-12-17T13:40:44.664Z"
   },
   {
    "duration": 13,
    "start_time": "2022-12-17T13:40:44.668Z"
   },
   {
    "duration": 33,
    "start_time": "2022-12-17T13:40:44.682Z"
   },
   {
    "duration": 18,
    "start_time": "2022-12-17T13:40:44.717Z"
   },
   {
    "duration": 9,
    "start_time": "2022-12-17T13:40:44.736Z"
   },
   {
    "duration": 305,
    "start_time": "2022-12-17T13:40:44.747Z"
   },
   {
    "duration": 524,
    "start_time": "2022-12-17T13:40:45.054Z"
   },
   {
    "duration": 4,
    "start_time": "2022-12-17T13:40:45.580Z"
   },
   {
    "duration": 1163,
    "start_time": "2022-12-17T13:40:45.586Z"
   },
   {
    "duration": 410,
    "start_time": "2022-12-17T13:40:46.750Z"
   },
   {
    "duration": 4,
    "start_time": "2022-12-17T13:40:47.162Z"
   },
   {
    "duration": 24,
    "start_time": "2022-12-17T13:40:47.168Z"
   },
   {
    "duration": 25,
    "start_time": "2022-12-17T13:40:47.193Z"
   },
   {
    "duration": 4,
    "start_time": "2022-12-17T13:40:47.220Z"
   },
   {
    "duration": 54,
    "start_time": "2022-12-17T13:40:47.225Z"
   },
   {
    "duration": 9,
    "start_time": "2022-12-17T13:40:47.281Z"
   },
   {
    "duration": 38,
    "start_time": "2022-12-17T13:40:47.292Z"
   },
   {
    "duration": 58,
    "start_time": "2022-12-17T13:40:47.332Z"
   },
   {
    "duration": 73,
    "start_time": "2022-12-17T13:40:47.392Z"
   },
   {
    "duration": 0,
    "start_time": "2022-12-17T13:40:47.468Z"
   },
   {
    "duration": 0,
    "start_time": "2022-12-17T13:40:47.469Z"
   },
   {
    "duration": 0,
    "start_time": "2022-12-17T13:40:47.471Z"
   },
   {
    "duration": 0,
    "start_time": "2022-12-17T13:40:47.472Z"
   },
   {
    "duration": 0,
    "start_time": "2022-12-17T13:40:47.473Z"
   },
   {
    "duration": 0,
    "start_time": "2022-12-17T13:40:47.474Z"
   },
   {
    "duration": 93,
    "start_time": "2022-12-17T13:40:52.395Z"
   },
   {
    "duration": 91,
    "start_time": "2022-12-17T13:41:34.659Z"
   },
   {
    "duration": 3,
    "start_time": "2022-12-17T13:42:25.521Z"
   },
   {
    "duration": 3,
    "start_time": "2022-12-17T13:42:29.643Z"
   },
   {
    "duration": 5,
    "start_time": "2022-12-17T13:42:30.331Z"
   },
   {
    "duration": 18,
    "start_time": "2022-12-17T13:42:31.541Z"
   },
   {
    "duration": 19,
    "start_time": "2022-12-17T13:42:33.997Z"
   },
   {
    "duration": 5,
    "start_time": "2022-12-17T13:42:35.459Z"
   },
   {
    "duration": 90,
    "start_time": "2022-12-17T13:42:37.123Z"
   },
   {
    "duration": 6,
    "start_time": "2022-12-17T13:42:40.826Z"
   },
   {
    "duration": 4,
    "start_time": "2022-12-17T13:44:54.349Z"
   },
   {
    "duration": 45,
    "start_time": "2022-12-17T13:44:54.355Z"
   },
   {
    "duration": 7,
    "start_time": "2022-12-17T13:44:54.401Z"
   },
   {
    "duration": 11,
    "start_time": "2022-12-17T13:44:54.410Z"
   },
   {
    "duration": 4,
    "start_time": "2022-12-17T13:44:54.423Z"
   },
   {
    "duration": 19,
    "start_time": "2022-12-17T13:44:54.428Z"
   },
   {
    "duration": 15,
    "start_time": "2022-12-17T13:44:54.448Z"
   },
   {
    "duration": 41,
    "start_time": "2022-12-17T13:44:54.465Z"
   },
   {
    "duration": 12,
    "start_time": "2022-12-17T13:44:54.507Z"
   },
   {
    "duration": 310,
    "start_time": "2022-12-17T13:44:54.522Z"
   },
   {
    "duration": 436,
    "start_time": "2022-12-17T13:44:54.834Z"
   },
   {
    "duration": 4,
    "start_time": "2022-12-17T13:44:55.271Z"
   },
   {
    "duration": 1278,
    "start_time": "2022-12-17T13:44:55.277Z"
   },
   {
    "duration": 356,
    "start_time": "2022-12-17T13:44:56.557Z"
   },
   {
    "duration": 4,
    "start_time": "2022-12-17T13:44:56.914Z"
   },
   {
    "duration": 16,
    "start_time": "2022-12-17T13:44:56.920Z"
   },
   {
    "duration": 17,
    "start_time": "2022-12-17T13:44:56.937Z"
   },
   {
    "duration": 5,
    "start_time": "2022-12-17T13:44:56.956Z"
   },
   {
    "duration": 8,
    "start_time": "2022-12-17T13:44:56.963Z"
   },
   {
    "duration": 32,
    "start_time": "2022-12-17T13:44:56.973Z"
   },
   {
    "duration": 9,
    "start_time": "2022-12-17T13:44:57.007Z"
   },
   {
    "duration": 19,
    "start_time": "2022-12-17T13:44:57.017Z"
   },
   {
    "duration": 19,
    "start_time": "2022-12-17T13:44:57.038Z"
   },
   {
    "duration": 4,
    "start_time": "2022-12-17T13:44:57.059Z"
   },
   {
    "duration": 22,
    "start_time": "2022-12-17T13:45:01.375Z"
   },
   {
    "duration": 8,
    "start_time": "2022-12-17T13:45:24.179Z"
   },
   {
    "duration": 57,
    "start_time": "2022-12-17T13:45:24.190Z"
   },
   {
    "duration": 7,
    "start_time": "2022-12-17T13:45:24.248Z"
   },
   {
    "duration": 17,
    "start_time": "2022-12-17T13:45:24.257Z"
   },
   {
    "duration": 3,
    "start_time": "2022-12-17T13:45:24.277Z"
   },
   {
    "duration": 31,
    "start_time": "2022-12-17T13:45:24.282Z"
   },
   {
    "duration": 13,
    "start_time": "2022-12-17T13:45:24.316Z"
   },
   {
    "duration": 14,
    "start_time": "2022-12-17T13:45:24.330Z"
   },
   {
    "duration": 14,
    "start_time": "2022-12-17T13:45:24.347Z"
   },
   {
    "duration": 398,
    "start_time": "2022-12-17T13:45:24.363Z"
   },
   {
    "duration": 463,
    "start_time": "2022-12-17T13:45:24.763Z"
   },
   {
    "duration": 4,
    "start_time": "2022-12-17T13:45:25.228Z"
   },
   {
    "duration": 1266,
    "start_time": "2022-12-17T13:45:25.234Z"
   },
   {
    "duration": 403,
    "start_time": "2022-12-17T13:45:26.502Z"
   },
   {
    "duration": 4,
    "start_time": "2022-12-17T13:45:26.908Z"
   },
   {
    "duration": 25,
    "start_time": "2022-12-17T13:45:26.914Z"
   },
   {
    "duration": 16,
    "start_time": "2022-12-17T13:45:26.941Z"
   },
   {
    "duration": 4,
    "start_time": "2022-12-17T13:45:26.959Z"
   },
   {
    "duration": 9,
    "start_time": "2022-12-17T13:45:26.965Z"
   },
   {
    "duration": 2,
    "start_time": "2022-12-17T13:45:26.976Z"
   },
   {
    "duration": 28,
    "start_time": "2022-12-17T13:45:26.980Z"
   },
   {
    "duration": 25,
    "start_time": "2022-12-17T13:45:27.010Z"
   },
   {
    "duration": 20,
    "start_time": "2022-12-17T13:45:27.036Z"
   },
   {
    "duration": 5,
    "start_time": "2022-12-17T13:45:27.059Z"
   },
   {
    "duration": 42,
    "start_time": "2022-12-17T13:45:27.065Z"
   },
   {
    "duration": 10,
    "start_time": "2022-12-17T13:45:27.109Z"
   },
   {
    "duration": 139191,
    "start_time": "2022-12-17T13:45:27.120Z"
   },
   {
    "duration": 8,
    "start_time": "2022-12-17T13:47:46.312Z"
   },
   {
    "duration": 98,
    "start_time": "2022-12-17T13:48:53.658Z"
   },
   {
    "duration": 3,
    "start_time": "2022-12-17T13:51:40.986Z"
   },
   {
    "duration": 96,
    "start_time": "2022-12-17T13:51:44.437Z"
   },
   {
    "duration": 113,
    "start_time": "2022-12-17T13:52:56.531Z"
   },
   {
    "duration": 74,
    "start_time": "2022-12-17T13:53:35.949Z"
   },
   {
    "duration": 3,
    "start_time": "2022-12-17T13:54:24.094Z"
   },
   {
    "duration": 5,
    "start_time": "2022-12-17T13:56:50.831Z"
   },
   {
    "duration": 3,
    "start_time": "2022-12-17T13:56:55.830Z"
   },
   {
    "duration": 1923,
    "start_time": "2022-12-17T13:57:03.373Z"
   },
   {
    "duration": 4,
    "start_time": "2022-12-17T13:57:05.399Z"
   },
   {
    "duration": 17,
    "start_time": "2022-12-17T13:57:12.778Z"
   },
   {
    "duration": 6,
    "start_time": "2022-12-17T13:59:05.903Z"
   },
   {
    "duration": 52,
    "start_time": "2022-12-17T13:59:05.911Z"
   },
   {
    "duration": 8,
    "start_time": "2022-12-17T13:59:05.965Z"
   },
   {
    "duration": 12,
    "start_time": "2022-12-17T13:59:05.975Z"
   },
   {
    "duration": 7,
    "start_time": "2022-12-17T13:59:05.988Z"
   },
   {
    "duration": 15,
    "start_time": "2022-12-17T13:59:05.996Z"
   },
   {
    "duration": 11,
    "start_time": "2022-12-17T13:59:06.012Z"
   },
   {
    "duration": 10,
    "start_time": "2022-12-17T13:59:06.025Z"
   },
   {
    "duration": 16,
    "start_time": "2022-12-17T13:59:06.037Z"
   },
   {
    "duration": 298,
    "start_time": "2022-12-17T13:59:06.054Z"
   },
   {
    "duration": 404,
    "start_time": "2022-12-17T13:59:06.353Z"
   },
   {
    "duration": 4,
    "start_time": "2022-12-17T13:59:06.758Z"
   },
   {
    "duration": 1176,
    "start_time": "2022-12-17T13:59:06.764Z"
   },
   {
    "duration": 373,
    "start_time": "2022-12-17T13:59:07.942Z"
   },
   {
    "duration": 4,
    "start_time": "2022-12-17T13:59:08.317Z"
   },
   {
    "duration": 20,
    "start_time": "2022-12-17T13:59:08.324Z"
   },
   {
    "duration": 17,
    "start_time": "2022-12-17T13:59:08.345Z"
   },
   {
    "duration": 3,
    "start_time": "2022-12-17T13:59:08.364Z"
   },
   {
    "duration": 36,
    "start_time": "2022-12-17T13:59:08.369Z"
   },
   {
    "duration": 3,
    "start_time": "2022-12-17T13:59:08.407Z"
   },
   {
    "duration": 23,
    "start_time": "2022-12-17T13:59:08.413Z"
   },
   {
    "duration": 135,
    "start_time": "2022-12-17T13:59:08.438Z"
   },
   {
    "duration": 29,
    "start_time": "2022-12-17T13:59:08.575Z"
   },
   {
    "duration": 5,
    "start_time": "2022-12-17T13:59:08.607Z"
   },
   {
    "duration": 17,
    "start_time": "2022-12-17T13:59:08.613Z"
   },
   {
    "duration": 75,
    "start_time": "2022-12-17T13:59:08.632Z"
   },
   {
    "duration": 5398,
    "start_time": "2022-12-17T13:59:08.709Z"
   },
   {
    "duration": 7,
    "start_time": "2022-12-17T13:59:14.109Z"
   },
   {
    "duration": 4,
    "start_time": "2022-12-17T13:59:14.118Z"
   },
   {
    "duration": 3,
    "start_time": "2022-12-17T13:59:22.889Z"
   },
   {
    "duration": 4,
    "start_time": "2022-12-17T13:59:28.757Z"
   },
   {
    "duration": 3,
    "start_time": "2022-12-17T13:59:29.591Z"
   },
   {
    "duration": 3,
    "start_time": "2022-12-17T14:02:11.075Z"
   },
   {
    "duration": 1692,
    "start_time": "2022-12-17T14:02:17.113Z"
   },
   {
    "duration": 4,
    "start_time": "2022-12-17T14:02:37.202Z"
   },
   {
    "duration": 1194,
    "start_time": "2022-12-17T14:02:40.963Z"
   },
   {
    "duration": 3,
    "start_time": "2022-12-17T14:04:02.107Z"
   },
   {
    "duration": 3,
    "start_time": "2022-12-17T14:04:21.563Z"
   },
   {
    "duration": 2,
    "start_time": "2022-12-17T14:04:26.054Z"
   },
   {
    "duration": 3,
    "start_time": "2022-12-17T14:04:37.772Z"
   },
   {
    "duration": 1536,
    "start_time": "2022-12-17T14:04:41.565Z"
   },
   {
    "duration": 3,
    "start_time": "2022-12-17T14:05:13.412Z"
   },
   {
    "duration": 3,
    "start_time": "2022-12-17T14:05:16.045Z"
   },
   {
    "duration": 3,
    "start_time": "2022-12-17T14:05:18.978Z"
   },
   {
    "duration": 1082,
    "start_time": "2022-12-17T14:05:21.465Z"
   },
   {
    "duration": 12,
    "start_time": "2022-12-17T14:05:30.168Z"
   },
   {
    "duration": 8,
    "start_time": "2022-12-17T14:08:18.063Z"
   },
   {
    "duration": 7,
    "start_time": "2022-12-17T14:08:49.814Z"
   },
   {
    "duration": 5,
    "start_time": "2022-12-17T14:12:41.283Z"
   },
   {
    "duration": 52,
    "start_time": "2022-12-17T14:12:41.290Z"
   },
   {
    "duration": 7,
    "start_time": "2022-12-17T14:12:41.343Z"
   },
   {
    "duration": 10,
    "start_time": "2022-12-17T14:12:41.352Z"
   },
   {
    "duration": 3,
    "start_time": "2022-12-17T14:12:41.364Z"
   },
   {
    "duration": 11,
    "start_time": "2022-12-17T14:12:41.369Z"
   },
   {
    "duration": 30,
    "start_time": "2022-12-17T14:12:41.382Z"
   },
   {
    "duration": 12,
    "start_time": "2022-12-17T14:12:41.414Z"
   },
   {
    "duration": 12,
    "start_time": "2022-12-17T14:12:41.428Z"
   },
   {
    "duration": 336,
    "start_time": "2022-12-17T14:12:41.442Z"
   },
   {
    "duration": 444,
    "start_time": "2022-12-17T14:12:41.780Z"
   },
   {
    "duration": 4,
    "start_time": "2022-12-17T14:12:42.225Z"
   },
   {
    "duration": 1171,
    "start_time": "2022-12-17T14:12:42.231Z"
   },
   {
    "duration": 364,
    "start_time": "2022-12-17T14:12:43.403Z"
   },
   {
    "duration": 5,
    "start_time": "2022-12-17T14:12:43.768Z"
   },
   {
    "duration": 30,
    "start_time": "2022-12-17T14:12:43.775Z"
   },
   {
    "duration": 20,
    "start_time": "2022-12-17T14:12:43.807Z"
   },
   {
    "duration": 3,
    "start_time": "2022-12-17T14:12:43.829Z"
   },
   {
    "duration": 10,
    "start_time": "2022-12-17T14:12:43.834Z"
   },
   {
    "duration": 4,
    "start_time": "2022-12-17T14:12:43.845Z"
   },
   {
    "duration": 8,
    "start_time": "2022-12-17T14:12:43.850Z"
   },
   {
    "duration": 53,
    "start_time": "2022-12-17T14:12:43.860Z"
   },
   {
    "duration": 22,
    "start_time": "2022-12-17T14:12:43.915Z"
   },
   {
    "duration": 6,
    "start_time": "2022-12-17T14:12:43.938Z"
   },
   {
    "duration": 63,
    "start_time": "2022-12-17T14:12:43.945Z"
   },
   {
    "duration": 8,
    "start_time": "2022-12-17T14:12:44.010Z"
   },
   {
    "duration": 277186,
    "start_time": "2022-12-17T14:12:44.020Z"
   },
   {
    "duration": 7,
    "start_time": "2022-12-17T14:17:21.208Z"
   },
   {
    "duration": 28,
    "start_time": "2022-12-17T14:17:21.218Z"
   },
   {
    "duration": 3,
    "start_time": "2022-12-17T14:17:36.203Z"
   },
   {
    "duration": 7,
    "start_time": "2022-12-17T14:24:26.947Z"
   },
   {
    "duration": 58,
    "start_time": "2022-12-17T14:24:26.957Z"
   },
   {
    "duration": 7,
    "start_time": "2022-12-17T14:24:27.017Z"
   },
   {
    "duration": 14,
    "start_time": "2022-12-17T14:24:27.026Z"
   },
   {
    "duration": 3,
    "start_time": "2022-12-17T14:24:27.043Z"
   },
   {
    "duration": 15,
    "start_time": "2022-12-17T14:24:27.048Z"
   },
   {
    "duration": 15,
    "start_time": "2022-12-17T14:24:27.104Z"
   },
   {
    "duration": 13,
    "start_time": "2022-12-17T14:24:27.121Z"
   },
   {
    "duration": 9,
    "start_time": "2022-12-17T14:24:27.135Z"
   },
   {
    "duration": 366,
    "start_time": "2022-12-17T14:24:27.147Z"
   },
   {
    "duration": 561,
    "start_time": "2022-12-17T14:24:27.515Z"
   },
   {
    "duration": 5,
    "start_time": "2022-12-17T14:24:28.078Z"
   },
   {
    "duration": 1154,
    "start_time": "2022-12-17T14:24:28.085Z"
   },
   {
    "duration": 347,
    "start_time": "2022-12-17T14:24:29.241Z"
   },
   {
    "duration": 4,
    "start_time": "2022-12-17T14:24:29.590Z"
   },
   {
    "duration": 20,
    "start_time": "2022-12-17T14:24:29.596Z"
   },
   {
    "duration": 15,
    "start_time": "2022-12-17T14:24:29.618Z"
   },
   {
    "duration": 5,
    "start_time": "2022-12-17T14:24:29.635Z"
   },
   {
    "duration": 9,
    "start_time": "2022-12-17T14:24:29.641Z"
   },
   {
    "duration": 3,
    "start_time": "2022-12-17T14:24:29.652Z"
   },
   {
    "duration": 5,
    "start_time": "2022-12-17T14:24:29.705Z"
   },
   {
    "duration": 25,
    "start_time": "2022-12-17T14:24:29.712Z"
   },
   {
    "duration": 20,
    "start_time": "2022-12-17T14:24:29.739Z"
   },
   {
    "duration": 4,
    "start_time": "2022-12-17T14:24:29.761Z"
   },
   {
    "duration": 42,
    "start_time": "2022-12-17T14:24:29.767Z"
   },
   {
    "duration": 9,
    "start_time": "2022-12-17T14:24:29.811Z"
   },
   {
    "duration": 1286196,
    "start_time": "2022-12-17T14:24:29.823Z"
   },
   {
    "duration": 8,
    "start_time": "2022-12-17T14:45:56.023Z"
   },
   {
    "duration": 74,
    "start_time": "2022-12-17T14:45:56.032Z"
   },
   {
    "duration": 6,
    "start_time": "2022-12-17T14:45:56.108Z"
   },
   {
    "duration": 5,
    "start_time": "2022-12-17T14:45:56.115Z"
   },
   {
    "duration": 5,
    "start_time": "2022-12-17T14:45:56.122Z"
   },
   {
    "duration": 5,
    "start_time": "2022-12-17T14:45:56.129Z"
   },
   {
    "duration": 5,
    "start_time": "2022-12-17T14:45:56.136Z"
   },
   {
    "duration": 17,
    "start_time": "2022-12-17T14:45:56.143Z"
   },
   {
    "duration": 13,
    "start_time": "2022-12-17T14:45:56.161Z"
   },
   {
    "duration": 7,
    "start_time": "2022-12-17T14:46:32.286Z"
   },
   {
    "duration": 4,
    "start_time": "2022-12-17T14:46:42.636Z"
   },
   {
    "duration": 4,
    "start_time": "2022-12-17T14:47:00.267Z"
   },
   {
    "duration": 4,
    "start_time": "2022-12-17T14:47:09.403Z"
   },
   {
    "duration": 4,
    "start_time": "2022-12-17T14:47:38.619Z"
   },
   {
    "duration": 1155,
    "start_time": "2022-12-17T14:47:45.116Z"
   },
   {
    "duration": 8,
    "start_time": "2022-12-17T14:47:50.756Z"
   },
   {
    "duration": 8,
    "start_time": "2022-12-17T14:48:01.612Z"
   },
   {
    "duration": 84,
    "start_time": "2022-12-17T14:48:41.730Z"
   },
   {
    "duration": 9,
    "start_time": "2022-12-17T14:49:27.725Z"
   },
   {
    "duration": 7,
    "start_time": "2022-12-17T14:49:44.768Z"
   },
   {
    "duration": 3,
    "start_time": "2022-12-17T14:51:14.879Z"
   },
   {
    "duration": 1959,
    "start_time": "2022-12-17T14:51:22.982Z"
   },
   {
    "duration": 8,
    "start_time": "2022-12-17T15:01:29.181Z"
   },
   {
    "duration": 6,
    "start_time": "2022-12-17T15:01:34.086Z"
   },
   {
    "duration": 6,
    "start_time": "2022-12-17T15:01:57.298Z"
   },
   {
    "duration": 8,
    "start_time": "2022-12-17T15:02:01.034Z"
   },
   {
    "duration": 7,
    "start_time": "2022-12-17T15:02:04.084Z"
   },
   {
    "duration": 6,
    "start_time": "2022-12-17T15:02:18.645Z"
   },
   {
    "duration": 9,
    "start_time": "2022-12-17T15:02:30.382Z"
   },
   {
    "duration": 7,
    "start_time": "2022-12-17T15:02:34.015Z"
   },
   {
    "duration": 4,
    "start_time": "2022-12-17T15:02:42.341Z"
   },
   {
    "duration": 2,
    "start_time": "2022-12-17T15:02:45.646Z"
   },
   {
    "duration": 3,
    "start_time": "2022-12-17T15:03:48.554Z"
   },
   {
    "duration": 39,
    "start_time": "2022-12-17T15:04:46.326Z"
   },
   {
    "duration": 1568,
    "start_time": "2022-12-17T15:06:02.865Z"
   },
   {
    "duration": 9,
    "start_time": "2022-12-17T15:06:29.561Z"
   },
   {
    "duration": 4,
    "start_time": "2022-12-17T15:06:54.793Z"
   },
   {
    "duration": 1103,
    "start_time": "2022-12-17T15:06:58.377Z"
   },
   {
    "duration": 8,
    "start_time": "2022-12-17T15:07:09.105Z"
   },
   {
    "duration": 9,
    "start_time": "2022-12-17T15:09:11.975Z"
   },
   {
    "duration": 7,
    "start_time": "2022-12-17T15:09:41.155Z"
   },
   {
    "duration": 4,
    "start_time": "2022-12-17T15:11:43.617Z"
   },
   {
    "duration": 11,
    "start_time": "2022-12-17T15:12:00.102Z"
   },
   {
    "duration": 1529,
    "start_time": "2022-12-17T15:12:32.725Z"
   },
   {
    "duration": 10,
    "start_time": "2022-12-17T15:12:38.566Z"
   },
   {
    "duration": 3,
    "start_time": "2022-12-17T15:13:01.397Z"
   },
   {
    "duration": 1080,
    "start_time": "2022-12-17T15:13:05.566Z"
   },
   {
    "duration": 9,
    "start_time": "2022-12-17T15:13:12.568Z"
   },
   {
    "duration": 13,
    "start_time": "2022-12-17T15:13:25.209Z"
   },
   {
    "duration": 6,
    "start_time": "2022-12-17T15:14:14.038Z"
   },
   {
    "duration": 14,
    "start_time": "2022-12-17T15:14:44.807Z"
   },
   {
    "duration": 86,
    "start_time": "2022-12-17T15:15:12.790Z"
   },
   {
    "duration": 1142,
    "start_time": "2022-12-17T15:17:34.657Z"
   },
   {
    "duration": 2,
    "start_time": "2022-12-17T15:17:42.272Z"
   },
   {
    "duration": 1164,
    "start_time": "2022-12-17T15:17:47.640Z"
   },
   {
    "duration": 9,
    "start_time": "2022-12-17T15:18:14.721Z"
   },
   {
    "duration": 8,
    "start_time": "2022-12-17T15:18:37.482Z"
   },
   {
    "duration": 2834,
    "start_time": "2022-12-17T15:25:13.749Z"
   },
   {
    "duration": 13,
    "start_time": "2022-12-17T15:30:52.643Z"
   },
   {
    "duration": 33,
    "start_time": "2022-12-17T15:31:15.497Z"
   },
   {
    "duration": 10,
    "start_time": "2022-12-17T15:33:48.072Z"
   },
   {
    "duration": 16,
    "start_time": "2022-12-17T15:34:01.059Z"
   },
   {
    "duration": 3,
    "start_time": "2022-12-17T15:35:44.172Z"
   },
   {
    "duration": 3998,
    "start_time": "2022-12-17T15:35:56.321Z"
   },
   {
    "duration": 2086,
    "start_time": "2022-12-17T15:38:15.429Z"
   },
   {
    "duration": 2214,
    "start_time": "2022-12-17T15:39:38.488Z"
   },
   {
    "duration": 4,
    "start_time": "2022-12-17T16:04:48.526Z"
   },
   {
    "duration": 60,
    "start_time": "2022-12-17T16:04:48.533Z"
   },
   {
    "duration": 7,
    "start_time": "2022-12-17T16:04:48.595Z"
   },
   {
    "duration": 13,
    "start_time": "2022-12-17T16:04:48.603Z"
   },
   {
    "duration": 4,
    "start_time": "2022-12-17T16:04:48.618Z"
   },
   {
    "duration": 12,
    "start_time": "2022-12-17T16:04:48.623Z"
   },
   {
    "duration": 12,
    "start_time": "2022-12-17T16:04:48.636Z"
   },
   {
    "duration": 9,
    "start_time": "2022-12-17T16:04:48.649Z"
   },
   {
    "duration": 53,
    "start_time": "2022-12-17T16:04:48.659Z"
   },
   {
    "duration": 304,
    "start_time": "2022-12-17T16:04:48.714Z"
   },
   {
    "duration": 576,
    "start_time": "2022-12-17T16:04:49.022Z"
   },
   {
    "duration": 6,
    "start_time": "2022-12-17T16:04:49.600Z"
   },
   {
    "duration": 1214,
    "start_time": "2022-12-17T16:04:49.610Z"
   },
   {
    "duration": 362,
    "start_time": "2022-12-17T16:04:50.826Z"
   },
   {
    "duration": 4,
    "start_time": "2022-12-17T16:04:51.190Z"
   },
   {
    "duration": 31,
    "start_time": "2022-12-17T16:04:51.195Z"
   },
   {
    "duration": 16,
    "start_time": "2022-12-17T16:04:51.227Z"
   },
   {
    "duration": 24,
    "start_time": "2022-12-17T16:04:51.245Z"
   },
   {
    "duration": 15,
    "start_time": "2022-12-17T16:04:51.271Z"
   },
   {
    "duration": 70,
    "start_time": "2022-12-17T16:04:51.288Z"
   },
   {
    "duration": 0,
    "start_time": "2022-12-17T16:04:51.360Z"
   },
   {
    "duration": 0,
    "start_time": "2022-12-17T16:04:51.361Z"
   },
   {
    "duration": 0,
    "start_time": "2022-12-17T16:04:51.362Z"
   },
   {
    "duration": 0,
    "start_time": "2022-12-17T16:04:51.363Z"
   },
   {
    "duration": 6,
    "start_time": "2022-12-17T16:05:12.999Z"
   },
   {
    "duration": 74,
    "start_time": "2022-12-17T16:05:16.447Z"
   },
   {
    "duration": 8,
    "start_time": "2022-12-17T16:05:30.631Z"
   },
   {
    "duration": 71,
    "start_time": "2022-12-17T16:05:34.390Z"
   },
   {
    "duration": 7,
    "start_time": "2022-12-17T16:05:43.015Z"
   },
   {
    "duration": 9,
    "start_time": "2022-12-17T16:07:24.344Z"
   },
   {
    "duration": 4,
    "start_time": "2022-12-17T16:07:40.664Z"
   },
   {
    "duration": 7,
    "start_time": "2022-12-17T16:07:52.864Z"
   },
   {
    "duration": 13,
    "start_time": "2022-12-17T16:09:27.758Z"
   },
   {
    "duration": 5,
    "start_time": "2022-12-17T16:12:32.925Z"
   },
   {
    "duration": 10,
    "start_time": "2022-12-17T16:12:57.156Z"
   },
   {
    "duration": 3,
    "start_time": "2022-12-17T16:15:31.564Z"
   },
   {
    "duration": 1560,
    "start_time": "2022-12-17T16:28:26.238Z"
   },
   {
    "duration": 48,
    "start_time": "2022-12-17T16:28:27.800Z"
   },
   {
    "duration": 10,
    "start_time": "2022-12-17T16:28:27.849Z"
   },
   {
    "duration": 11,
    "start_time": "2022-12-17T16:28:27.860Z"
   },
   {
    "duration": 4,
    "start_time": "2022-12-17T16:28:27.873Z"
   },
   {
    "duration": 13,
    "start_time": "2022-12-17T16:28:27.879Z"
   },
   {
    "duration": 19,
    "start_time": "2022-12-17T16:28:27.893Z"
   },
   {
    "duration": 9,
    "start_time": "2022-12-17T16:28:27.914Z"
   },
   {
    "duration": 8,
    "start_time": "2022-12-17T16:28:27.924Z"
   },
   {
    "duration": 320,
    "start_time": "2022-12-17T16:28:27.933Z"
   },
   {
    "duration": 522,
    "start_time": "2022-12-17T16:28:28.255Z"
   },
   {
    "duration": 4,
    "start_time": "2022-12-17T16:28:28.779Z"
   },
   {
    "duration": 1089,
    "start_time": "2022-12-17T16:28:28.784Z"
   },
   {
    "duration": 366,
    "start_time": "2022-12-17T16:28:29.876Z"
   },
   {
    "duration": 4,
    "start_time": "2022-12-17T16:28:30.244Z"
   },
   {
    "duration": 32,
    "start_time": "2022-12-17T16:28:30.250Z"
   },
   {
    "duration": 28,
    "start_time": "2022-12-17T16:28:30.284Z"
   },
   {
    "duration": 22,
    "start_time": "2022-12-17T16:28:30.314Z"
   },
   {
    "duration": 15,
    "start_time": "2022-12-17T16:28:30.338Z"
   },
   {
    "duration": 19,
    "start_time": "2022-12-17T16:28:30.354Z"
   },
   {
    "duration": 15,
    "start_time": "2022-12-17T16:28:30.375Z"
   },
   {
    "duration": 11,
    "start_time": "2022-12-17T16:28:30.392Z"
   },
   {
    "duration": 71,
    "start_time": "2022-12-17T16:28:30.404Z"
   },
   {
    "duration": 0,
    "start_time": "2022-12-17T16:28:30.478Z"
   },
   {
    "duration": 0,
    "start_time": "2022-12-17T16:28:30.480Z"
   },
   {
    "duration": 0,
    "start_time": "2022-12-17T16:28:30.481Z"
   },
   {
    "duration": 0,
    "start_time": "2022-12-17T16:28:30.483Z"
   },
   {
    "duration": 0,
    "start_time": "2022-12-17T16:28:30.484Z"
   },
   {
    "duration": 0,
    "start_time": "2022-12-17T16:28:30.486Z"
   },
   {
    "duration": 0,
    "start_time": "2022-12-17T16:28:30.487Z"
   },
   {
    "duration": 0,
    "start_time": "2022-12-17T16:28:30.488Z"
   },
   {
    "duration": 0,
    "start_time": "2022-12-17T16:28:30.489Z"
   },
   {
    "duration": 0,
    "start_time": "2022-12-17T16:28:30.490Z"
   },
   {
    "duration": 0,
    "start_time": "2022-12-17T16:28:30.491Z"
   },
   {
    "duration": 0,
    "start_time": "2022-12-17T16:28:30.492Z"
   },
   {
    "duration": 0,
    "start_time": "2022-12-17T16:28:30.493Z"
   },
   {
    "duration": 0,
    "start_time": "2022-12-17T16:28:30.494Z"
   },
   {
    "duration": 0,
    "start_time": "2022-12-17T16:28:30.495Z"
   },
   {
    "duration": 0,
    "start_time": "2022-12-17T16:28:30.496Z"
   },
   {
    "duration": 0,
    "start_time": "2022-12-17T16:28:30.497Z"
   },
   {
    "duration": 0,
    "start_time": "2022-12-17T16:28:30.499Z"
   },
   {
    "duration": 0,
    "start_time": "2022-12-17T16:28:30.500Z"
   },
   {
    "duration": 0,
    "start_time": "2022-12-17T16:28:30.501Z"
   },
   {
    "duration": 0,
    "start_time": "2022-12-17T16:28:30.502Z"
   },
   {
    "duration": 0,
    "start_time": "2022-12-17T16:28:30.503Z"
   },
   {
    "duration": 0,
    "start_time": "2022-12-17T16:28:30.504Z"
   },
   {
    "duration": 0,
    "start_time": "2022-12-17T16:28:30.505Z"
   },
   {
    "duration": 0,
    "start_time": "2022-12-17T16:28:30.506Z"
   },
   {
    "duration": 0,
    "start_time": "2022-12-17T16:28:30.507Z"
   },
   {
    "duration": 0,
    "start_time": "2022-12-17T16:28:30.508Z"
   },
   {
    "duration": 0,
    "start_time": "2022-12-17T16:28:30.509Z"
   },
   {
    "duration": 0,
    "start_time": "2022-12-17T16:28:30.509Z"
   },
   {
    "duration": 0,
    "start_time": "2022-12-17T16:28:30.511Z"
   },
   {
    "duration": 0,
    "start_time": "2022-12-17T16:28:30.512Z"
   },
   {
    "duration": 0,
    "start_time": "2022-12-17T16:28:30.513Z"
   },
   {
    "duration": 0,
    "start_time": "2022-12-17T16:28:30.514Z"
   },
   {
    "duration": 0,
    "start_time": "2022-12-17T16:28:30.515Z"
   },
   {
    "duration": 0,
    "start_time": "2022-12-17T16:28:30.516Z"
   },
   {
    "duration": 0,
    "start_time": "2022-12-17T16:28:30.517Z"
   },
   {
    "duration": 0,
    "start_time": "2022-12-17T16:28:30.518Z"
   },
   {
    "duration": 0,
    "start_time": "2022-12-17T16:28:30.519Z"
   },
   {
    "duration": 0,
    "start_time": "2022-12-17T16:28:30.521Z"
   },
   {
    "duration": 0,
    "start_time": "2022-12-17T16:28:30.521Z"
   },
   {
    "duration": 0,
    "start_time": "2022-12-17T16:28:30.523Z"
   },
   {
    "duration": 0,
    "start_time": "2022-12-17T16:28:30.524Z"
   },
   {
    "duration": 0,
    "start_time": "2022-12-17T16:28:30.525Z"
   },
   {
    "duration": 0,
    "start_time": "2022-12-17T16:28:30.525Z"
   },
   {
    "duration": 0,
    "start_time": "2022-12-17T16:28:30.527Z"
   },
   {
    "duration": 0,
    "start_time": "2022-12-17T16:28:30.528Z"
   },
   {
    "duration": 0,
    "start_time": "2022-12-17T16:28:30.529Z"
   },
   {
    "duration": 0,
    "start_time": "2022-12-17T16:28:30.530Z"
   },
   {
    "duration": 0,
    "start_time": "2022-12-17T16:28:30.531Z"
   },
   {
    "duration": 0,
    "start_time": "2022-12-17T16:28:30.532Z"
   },
   {
    "duration": 0,
    "start_time": "2022-12-17T16:28:30.534Z"
   },
   {
    "duration": 0,
    "start_time": "2022-12-17T16:28:30.535Z"
   },
   {
    "duration": 0,
    "start_time": "2022-12-17T16:28:30.536Z"
   },
   {
    "duration": 0,
    "start_time": "2022-12-17T16:28:30.537Z"
   },
   {
    "duration": 0,
    "start_time": "2022-12-17T16:28:30.538Z"
   },
   {
    "duration": 0,
    "start_time": "2022-12-17T16:28:30.538Z"
   },
   {
    "duration": 0,
    "start_time": "2022-12-17T16:28:30.539Z"
   },
   {
    "duration": 0,
    "start_time": "2022-12-17T16:28:30.541Z"
   },
   {
    "duration": 0,
    "start_time": "2022-12-17T16:28:30.542Z"
   },
   {
    "duration": 0,
    "start_time": "2022-12-17T16:28:30.543Z"
   },
   {
    "duration": 0,
    "start_time": "2022-12-17T16:28:30.605Z"
   },
   {
    "duration": 0,
    "start_time": "2022-12-17T16:28:30.606Z"
   },
   {
    "duration": 0,
    "start_time": "2022-12-17T16:28:30.607Z"
   },
   {
    "duration": 1550,
    "start_time": "2022-12-17T16:29:20.138Z"
   },
   {
    "duration": 48,
    "start_time": "2022-12-17T16:29:21.691Z"
   },
   {
    "duration": 10,
    "start_time": "2022-12-17T16:29:21.741Z"
   },
   {
    "duration": 10,
    "start_time": "2022-12-17T16:29:21.754Z"
   },
   {
    "duration": 3,
    "start_time": "2022-12-17T16:29:21.765Z"
   },
   {
    "duration": 18,
    "start_time": "2022-12-17T16:29:21.770Z"
   },
   {
    "duration": 22,
    "start_time": "2022-12-17T16:29:21.790Z"
   },
   {
    "duration": 9,
    "start_time": "2022-12-17T16:29:21.814Z"
   },
   {
    "duration": 8,
    "start_time": "2022-12-17T16:29:21.824Z"
   },
   {
    "duration": 304,
    "start_time": "2022-12-17T16:29:21.835Z"
   },
   {
    "duration": 553,
    "start_time": "2022-12-17T16:29:22.141Z"
   },
   {
    "duration": 5,
    "start_time": "2022-12-17T16:29:22.695Z"
   },
   {
    "duration": 1081,
    "start_time": "2022-12-17T16:29:22.702Z"
   },
   {
    "duration": 348,
    "start_time": "2022-12-17T16:29:23.784Z"
   },
   {
    "duration": 4,
    "start_time": "2022-12-17T16:29:24.134Z"
   },
   {
    "duration": 20,
    "start_time": "2022-12-17T16:29:24.141Z"
   },
   {
    "duration": 19,
    "start_time": "2022-12-17T16:29:24.163Z"
   },
   {
    "duration": 24,
    "start_time": "2022-12-17T16:29:24.184Z"
   },
   {
    "duration": 6,
    "start_time": "2022-12-17T16:29:24.210Z"
   },
   {
    "duration": 5,
    "start_time": "2022-12-17T16:29:24.217Z"
   },
   {
    "duration": 7,
    "start_time": "2022-12-17T16:29:24.223Z"
   },
   {
    "duration": 9,
    "start_time": "2022-12-17T16:29:24.231Z"
   },
   {
    "duration": 9,
    "start_time": "2022-12-17T16:29:24.242Z"
   },
   {
    "duration": 53,
    "start_time": "2022-12-17T16:29:24.253Z"
   },
   {
    "duration": 20,
    "start_time": "2022-12-17T16:29:24.309Z"
   },
   {
    "duration": 70,
    "start_time": "2022-12-17T16:29:24.405Z"
   },
   {
    "duration": 0,
    "start_time": "2022-12-17T16:29:24.478Z"
   },
   {
    "duration": 0,
    "start_time": "2022-12-17T16:29:24.479Z"
   },
   {
    "duration": 0,
    "start_time": "2022-12-17T16:29:24.481Z"
   },
   {
    "duration": 0,
    "start_time": "2022-12-17T16:29:24.482Z"
   },
   {
    "duration": 0,
    "start_time": "2022-12-17T16:29:24.483Z"
   },
   {
    "duration": 0,
    "start_time": "2022-12-17T16:29:24.484Z"
   },
   {
    "duration": 0,
    "start_time": "2022-12-17T16:29:24.485Z"
   },
   {
    "duration": 0,
    "start_time": "2022-12-17T16:29:24.486Z"
   },
   {
    "duration": 0,
    "start_time": "2022-12-17T16:29:24.487Z"
   },
   {
    "duration": 0,
    "start_time": "2022-12-17T16:29:24.488Z"
   },
   {
    "duration": 0,
    "start_time": "2022-12-17T16:29:24.489Z"
   },
   {
    "duration": 0,
    "start_time": "2022-12-17T16:29:24.490Z"
   },
   {
    "duration": 0,
    "start_time": "2022-12-17T16:29:24.491Z"
   },
   {
    "duration": 0,
    "start_time": "2022-12-17T16:29:24.492Z"
   },
   {
    "duration": 0,
    "start_time": "2022-12-17T16:29:24.493Z"
   },
   {
    "duration": 0,
    "start_time": "2022-12-17T16:29:24.493Z"
   },
   {
    "duration": 0,
    "start_time": "2022-12-17T16:29:24.494Z"
   },
   {
    "duration": 0,
    "start_time": "2022-12-17T16:29:24.495Z"
   },
   {
    "duration": 0,
    "start_time": "2022-12-17T16:29:24.496Z"
   },
   {
    "duration": 0,
    "start_time": "2022-12-17T16:29:24.497Z"
   },
   {
    "duration": 0,
    "start_time": "2022-12-17T16:29:24.498Z"
   },
   {
    "duration": 0,
    "start_time": "2022-12-17T16:29:24.500Z"
   },
   {
    "duration": 0,
    "start_time": "2022-12-17T16:29:24.501Z"
   },
   {
    "duration": 0,
    "start_time": "2022-12-17T16:29:24.502Z"
   },
   {
    "duration": 0,
    "start_time": "2022-12-17T16:29:24.504Z"
   },
   {
    "duration": 0,
    "start_time": "2022-12-17T16:29:24.505Z"
   },
   {
    "duration": 0,
    "start_time": "2022-12-17T16:29:24.506Z"
   },
   {
    "duration": 0,
    "start_time": "2022-12-17T16:29:24.508Z"
   },
   {
    "duration": 0,
    "start_time": "2022-12-17T16:29:24.509Z"
   },
   {
    "duration": 0,
    "start_time": "2022-12-17T16:29:24.510Z"
   },
   {
    "duration": 0,
    "start_time": "2022-12-17T16:29:24.512Z"
   },
   {
    "duration": 0,
    "start_time": "2022-12-17T16:29:24.513Z"
   },
   {
    "duration": 0,
    "start_time": "2022-12-17T16:29:24.514Z"
   },
   {
    "duration": 0,
    "start_time": "2022-12-17T16:29:24.515Z"
   },
   {
    "duration": 0,
    "start_time": "2022-12-17T16:29:24.517Z"
   },
   {
    "duration": 0,
    "start_time": "2022-12-17T16:29:24.518Z"
   },
   {
    "duration": 0,
    "start_time": "2022-12-17T16:29:24.520Z"
   },
   {
    "duration": 0,
    "start_time": "2022-12-17T16:29:24.521Z"
   },
   {
    "duration": 0,
    "start_time": "2022-12-17T16:29:24.522Z"
   },
   {
    "duration": 0,
    "start_time": "2022-12-17T16:29:24.524Z"
   },
   {
    "duration": 0,
    "start_time": "2022-12-17T16:29:24.525Z"
   },
   {
    "duration": 0,
    "start_time": "2022-12-17T16:29:24.526Z"
   },
   {
    "duration": 0,
    "start_time": "2022-12-17T16:29:24.527Z"
   },
   {
    "duration": 0,
    "start_time": "2022-12-17T16:29:24.529Z"
   },
   {
    "duration": 0,
    "start_time": "2022-12-17T16:29:24.530Z"
   },
   {
    "duration": 0,
    "start_time": "2022-12-17T16:29:24.531Z"
   },
   {
    "duration": 0,
    "start_time": "2022-12-17T16:29:24.533Z"
   },
   {
    "duration": 0,
    "start_time": "2022-12-17T16:29:24.534Z"
   },
   {
    "duration": 0,
    "start_time": "2022-12-17T16:29:24.535Z"
   },
   {
    "duration": 0,
    "start_time": "2022-12-17T16:29:24.537Z"
   },
   {
    "duration": 0,
    "start_time": "2022-12-17T16:29:24.538Z"
   },
   {
    "duration": 0,
    "start_time": "2022-12-17T16:29:24.539Z"
   },
   {
    "duration": 0,
    "start_time": "2022-12-17T16:29:24.541Z"
   },
   {
    "duration": 0,
    "start_time": "2022-12-17T16:29:24.542Z"
   },
   {
    "duration": 0,
    "start_time": "2022-12-17T16:29:24.543Z"
   },
   {
    "duration": 0,
    "start_time": "2022-12-17T16:29:24.605Z"
   },
   {
    "duration": 0,
    "start_time": "2022-12-17T16:29:24.607Z"
   },
   {
    "duration": 0,
    "start_time": "2022-12-17T16:29:24.608Z"
   },
   {
    "duration": 0,
    "start_time": "2022-12-17T16:29:24.609Z"
   },
   {
    "duration": 1533,
    "start_time": "2022-12-17T16:29:54.229Z"
   },
   {
    "duration": 51,
    "start_time": "2022-12-17T16:29:55.764Z"
   },
   {
    "duration": 12,
    "start_time": "2022-12-17T16:29:55.816Z"
   },
   {
    "duration": 16,
    "start_time": "2022-12-17T16:29:55.831Z"
   },
   {
    "duration": 6,
    "start_time": "2022-12-17T16:29:55.849Z"
   },
   {
    "duration": 27,
    "start_time": "2022-12-17T16:29:55.857Z"
   },
   {
    "duration": 22,
    "start_time": "2022-12-17T16:29:55.886Z"
   },
   {
    "duration": 9,
    "start_time": "2022-12-17T16:29:55.909Z"
   },
   {
    "duration": 8,
    "start_time": "2022-12-17T16:29:55.920Z"
   },
   {
    "duration": 307,
    "start_time": "2022-12-17T16:29:55.930Z"
   },
   {
    "duration": 516,
    "start_time": "2022-12-17T16:29:56.238Z"
   },
   {
    "duration": 4,
    "start_time": "2022-12-17T16:29:56.756Z"
   },
   {
    "duration": 1147,
    "start_time": "2022-12-17T16:29:56.762Z"
   },
   {
    "duration": 369,
    "start_time": "2022-12-17T16:29:57.911Z"
   },
   {
    "duration": 5,
    "start_time": "2022-12-17T16:29:58.282Z"
   },
   {
    "duration": 31,
    "start_time": "2022-12-17T16:29:58.289Z"
   },
   {
    "duration": 16,
    "start_time": "2022-12-17T16:29:58.322Z"
   },
   {
    "duration": 6,
    "start_time": "2022-12-17T16:29:58.340Z"
   },
   {
    "duration": 19,
    "start_time": "2022-12-17T16:29:58.348Z"
   },
   {
    "duration": 23,
    "start_time": "2022-12-17T16:29:58.368Z"
   },
   {
    "duration": 15,
    "start_time": "2022-12-17T16:29:58.392Z"
   },
   {
    "duration": 23,
    "start_time": "2022-12-17T16:29:58.409Z"
   },
   {
    "duration": 15,
    "start_time": "2022-12-17T16:29:58.435Z"
   },
   {
    "duration": 52,
    "start_time": "2022-12-17T16:29:58.453Z"
   },
   {
    "duration": 9,
    "start_time": "2022-12-17T16:29:58.507Z"
   },
   {
    "duration": 93,
    "start_time": "2022-12-17T16:29:58.519Z"
   },
   {
    "duration": 10,
    "start_time": "2022-12-17T16:29:58.613Z"
   },
   {
    "duration": 9,
    "start_time": "2022-12-17T16:29:58.627Z"
   },
   {
    "duration": 14,
    "start_time": "2022-12-17T16:29:58.638Z"
   },
   {
    "duration": 11,
    "start_time": "2022-12-17T16:29:58.654Z"
   },
   {
    "duration": 7,
    "start_time": "2022-12-17T16:29:58.667Z"
   },
   {
    "duration": 10,
    "start_time": "2022-12-17T16:29:58.676Z"
   },
   {
    "duration": 23,
    "start_time": "2022-12-17T16:29:58.688Z"
   },
   {
    "duration": 15,
    "start_time": "2022-12-17T16:29:58.713Z"
   },
   {
    "duration": 22,
    "start_time": "2022-12-17T16:29:58.730Z"
   },
   {
    "duration": 16,
    "start_time": "2022-12-17T16:29:58.753Z"
   },
   {
    "duration": 29,
    "start_time": "2022-12-17T16:29:58.771Z"
   },
   {
    "duration": 19,
    "start_time": "2022-12-17T16:29:58.802Z"
   },
   {
    "duration": 4,
    "start_time": "2022-12-17T16:29:58.823Z"
   },
   {
    "duration": 26,
    "start_time": "2022-12-17T16:29:58.828Z"
   },
   {
    "duration": 53,
    "start_time": "2022-12-17T16:29:58.855Z"
   },
   {
    "duration": 5896,
    "start_time": "2022-12-17T16:29:58.910Z"
   },
   {
    "duration": 6,
    "start_time": "2022-12-17T16:30:04.808Z"
   },
   {
    "duration": 32,
    "start_time": "2022-12-17T16:30:04.815Z"
   },
   {
    "duration": 3346,
    "start_time": "2022-12-17T16:30:04.849Z"
   },
   {
    "duration": 0,
    "start_time": "2022-12-17T16:30:08.197Z"
   },
   {
    "duration": 0,
    "start_time": "2022-12-17T16:30:08.198Z"
   },
   {
    "duration": 0,
    "start_time": "2022-12-17T16:30:08.200Z"
   },
   {
    "duration": 1,
    "start_time": "2022-12-17T16:30:08.201Z"
   },
   {
    "duration": 0,
    "start_time": "2022-12-17T16:30:08.203Z"
   },
   {
    "duration": 0,
    "start_time": "2022-12-17T16:30:08.204Z"
   },
   {
    "duration": 0,
    "start_time": "2022-12-17T16:30:08.205Z"
   },
   {
    "duration": 0,
    "start_time": "2022-12-17T16:30:08.206Z"
   },
   {
    "duration": 0,
    "start_time": "2022-12-17T16:30:08.207Z"
   },
   {
    "duration": 0,
    "start_time": "2022-12-17T16:30:08.209Z"
   },
   {
    "duration": 0,
    "start_time": "2022-12-17T16:30:08.210Z"
   },
   {
    "duration": 0,
    "start_time": "2022-12-17T16:30:08.211Z"
   },
   {
    "duration": 0,
    "start_time": "2022-12-17T16:30:08.213Z"
   },
   {
    "duration": 0,
    "start_time": "2022-12-17T16:30:08.214Z"
   },
   {
    "duration": 0,
    "start_time": "2022-12-17T16:30:08.215Z"
   },
   {
    "duration": 0,
    "start_time": "2022-12-17T16:30:08.217Z"
   },
   {
    "duration": 0,
    "start_time": "2022-12-17T16:30:08.218Z"
   },
   {
    "duration": 0,
    "start_time": "2022-12-17T16:30:08.220Z"
   },
   {
    "duration": 0,
    "start_time": "2022-12-17T16:30:08.221Z"
   },
   {
    "duration": 0,
    "start_time": "2022-12-17T16:30:08.222Z"
   },
   {
    "duration": 0,
    "start_time": "2022-12-17T16:30:08.224Z"
   },
   {
    "duration": 0,
    "start_time": "2022-12-17T16:30:08.225Z"
   },
   {
    "duration": 0,
    "start_time": "2022-12-17T16:30:08.226Z"
   },
   {
    "duration": 0,
    "start_time": "2022-12-17T16:30:08.228Z"
   },
   {
    "duration": 0,
    "start_time": "2022-12-17T16:30:08.229Z"
   },
   {
    "duration": 0,
    "start_time": "2022-12-17T16:30:08.231Z"
   },
   {
    "duration": 0,
    "start_time": "2022-12-17T16:30:08.232Z"
   },
   {
    "duration": 0,
    "start_time": "2022-12-17T16:30:08.233Z"
   },
   {
    "duration": 0,
    "start_time": "2022-12-17T16:30:08.236Z"
   },
   {
    "duration": 0,
    "start_time": "2022-12-17T16:30:08.238Z"
   },
   {
    "duration": 0,
    "start_time": "2022-12-17T16:30:08.239Z"
   },
   {
    "duration": 1,
    "start_time": "2022-12-17T16:30:08.240Z"
   },
   {
    "duration": 0,
    "start_time": "2022-12-17T16:30:08.242Z"
   },
   {
    "duration": 0,
    "start_time": "2022-12-17T16:30:08.243Z"
   },
   {
    "duration": 0,
    "start_time": "2022-12-17T16:30:08.243Z"
   },
   {
    "duration": 0,
    "start_time": "2022-12-17T16:30:08.244Z"
   },
   {
    "duration": 0,
    "start_time": "2022-12-17T16:30:08.245Z"
   },
   {
    "duration": 0,
    "start_time": "2022-12-17T16:30:08.305Z"
   },
   {
    "duration": 0,
    "start_time": "2022-12-17T16:30:08.305Z"
   },
   {
    "duration": 1636,
    "start_time": "2022-12-17T16:32:39.746Z"
   },
   {
    "duration": 49,
    "start_time": "2022-12-17T16:32:41.384Z"
   },
   {
    "duration": 10,
    "start_time": "2022-12-17T16:32:41.434Z"
   },
   {
    "duration": 10,
    "start_time": "2022-12-17T16:32:41.446Z"
   },
   {
    "duration": 3,
    "start_time": "2022-12-17T16:32:41.457Z"
   },
   {
    "duration": 15,
    "start_time": "2022-12-17T16:32:41.461Z"
   },
   {
    "duration": 32,
    "start_time": "2022-12-17T16:32:41.477Z"
   },
   {
    "duration": 9,
    "start_time": "2022-12-17T16:32:41.510Z"
   },
   {
    "duration": 8,
    "start_time": "2022-12-17T16:32:41.521Z"
   },
   {
    "duration": 304,
    "start_time": "2022-12-17T16:32:41.532Z"
   },
   {
    "duration": 537,
    "start_time": "2022-12-17T16:32:41.837Z"
   },
   {
    "duration": 5,
    "start_time": "2022-12-17T16:32:42.375Z"
   },
   {
    "duration": 1081,
    "start_time": "2022-12-17T16:32:42.381Z"
   },
   {
    "duration": 336,
    "start_time": "2022-12-17T16:32:43.464Z"
   },
   {
    "duration": 4,
    "start_time": "2022-12-17T16:32:43.801Z"
   },
   {
    "duration": 15,
    "start_time": "2022-12-17T16:32:43.807Z"
   },
   {
    "duration": 14,
    "start_time": "2022-12-17T16:32:43.824Z"
   },
   {
    "duration": 5,
    "start_time": "2022-12-17T16:32:43.839Z"
   },
   {
    "duration": 6,
    "start_time": "2022-12-17T16:32:43.845Z"
   },
   {
    "duration": 8,
    "start_time": "2022-12-17T16:32:43.852Z"
   },
   {
    "duration": 11,
    "start_time": "2022-12-17T16:32:43.861Z"
   },
   {
    "duration": 35,
    "start_time": "2022-12-17T16:32:43.873Z"
   },
   {
    "duration": 8,
    "start_time": "2022-12-17T16:32:43.909Z"
   },
   {
    "duration": 7,
    "start_time": "2022-12-17T16:32:43.918Z"
   },
   {
    "duration": 81,
    "start_time": "2022-12-17T16:32:43.927Z"
   },
   {
    "duration": 94,
    "start_time": "2022-12-17T16:32:44.011Z"
   },
   {
    "duration": 3,
    "start_time": "2022-12-17T16:32:44.107Z"
   },
   {
    "duration": 3,
    "start_time": "2022-12-17T16:32:44.114Z"
   },
   {
    "duration": 5,
    "start_time": "2022-12-17T16:32:44.119Z"
   },
   {
    "duration": 6,
    "start_time": "2022-12-17T16:32:44.125Z"
   },
   {
    "duration": 5,
    "start_time": "2022-12-17T16:32:44.132Z"
   },
   {
    "duration": 6,
    "start_time": "2022-12-17T16:32:44.139Z"
   },
   {
    "duration": 1932,
    "start_time": "2022-12-17T16:32:44.146Z"
   },
   {
    "duration": 120,
    "start_time": "2022-12-17T16:32:46.079Z"
   },
   {
    "duration": 0,
    "start_time": "2022-12-17T16:32:46.204Z"
   },
   {
    "duration": 0,
    "start_time": "2022-12-17T16:32:46.206Z"
   },
   {
    "duration": 0,
    "start_time": "2022-12-17T16:32:46.207Z"
   },
   {
    "duration": 0,
    "start_time": "2022-12-17T16:32:46.208Z"
   },
   {
    "duration": 0,
    "start_time": "2022-12-17T16:32:46.210Z"
   },
   {
    "duration": 0,
    "start_time": "2022-12-17T16:32:46.211Z"
   },
   {
    "duration": 0,
    "start_time": "2022-12-17T16:32:46.212Z"
   },
   {
    "duration": 0,
    "start_time": "2022-12-17T16:32:46.214Z"
   },
   {
    "duration": 0,
    "start_time": "2022-12-17T16:32:46.215Z"
   },
   {
    "duration": 0,
    "start_time": "2022-12-17T16:32:46.216Z"
   },
   {
    "duration": 0,
    "start_time": "2022-12-17T16:32:46.218Z"
   },
   {
    "duration": 0,
    "start_time": "2022-12-17T16:32:46.220Z"
   },
   {
    "duration": 0,
    "start_time": "2022-12-17T16:32:46.221Z"
   },
   {
    "duration": 0,
    "start_time": "2022-12-17T16:32:46.223Z"
   },
   {
    "duration": 0,
    "start_time": "2022-12-17T16:32:46.224Z"
   },
   {
    "duration": 0,
    "start_time": "2022-12-17T16:32:46.225Z"
   },
   {
    "duration": 0,
    "start_time": "2022-12-17T16:32:46.226Z"
   },
   {
    "duration": 0,
    "start_time": "2022-12-17T16:32:46.226Z"
   },
   {
    "duration": 0,
    "start_time": "2022-12-17T16:32:46.227Z"
   },
   {
    "duration": 0,
    "start_time": "2022-12-17T16:32:46.228Z"
   },
   {
    "duration": 0,
    "start_time": "2022-12-17T16:32:46.229Z"
   },
   {
    "duration": 0,
    "start_time": "2022-12-17T16:32:46.229Z"
   },
   {
    "duration": 0,
    "start_time": "2022-12-17T16:32:46.230Z"
   },
   {
    "duration": 0,
    "start_time": "2022-12-17T16:32:46.231Z"
   },
   {
    "duration": 0,
    "start_time": "2022-12-17T16:32:46.232Z"
   },
   {
    "duration": 0,
    "start_time": "2022-12-17T16:32:46.233Z"
   },
   {
    "duration": 0,
    "start_time": "2022-12-17T16:32:46.233Z"
   },
   {
    "duration": 0,
    "start_time": "2022-12-17T16:32:46.234Z"
   },
   {
    "duration": 0,
    "start_time": "2022-12-17T16:32:46.235Z"
   },
   {
    "duration": 0,
    "start_time": "2022-12-17T16:32:46.236Z"
   },
   {
    "duration": 0,
    "start_time": "2022-12-17T16:32:46.236Z"
   },
   {
    "duration": 0,
    "start_time": "2022-12-17T16:32:46.237Z"
   },
   {
    "duration": 0,
    "start_time": "2022-12-17T16:32:46.238Z"
   },
   {
    "duration": 0,
    "start_time": "2022-12-17T16:32:46.239Z"
   },
   {
    "duration": 0,
    "start_time": "2022-12-17T16:32:46.240Z"
   },
   {
    "duration": 0,
    "start_time": "2022-12-17T16:32:46.241Z"
   },
   {
    "duration": 0,
    "start_time": "2022-12-17T16:32:46.242Z"
   },
   {
    "duration": 0,
    "start_time": "2022-12-17T16:32:46.242Z"
   },
   {
    "duration": 0,
    "start_time": "2022-12-17T16:32:46.243Z"
   },
   {
    "duration": 0,
    "start_time": "2022-12-17T16:32:46.244Z"
   },
   {
    "duration": 0,
    "start_time": "2022-12-17T16:32:46.304Z"
   },
   {
    "duration": 0,
    "start_time": "2022-12-17T16:32:46.305Z"
   },
   {
    "duration": 0,
    "start_time": "2022-12-17T16:32:46.306Z"
   },
   {
    "duration": 0,
    "start_time": "2022-12-17T16:32:46.307Z"
   },
   {
    "duration": 0,
    "start_time": "2022-12-17T16:32:46.307Z"
   },
   {
    "duration": 0,
    "start_time": "2022-12-17T16:32:46.308Z"
   },
   {
    "duration": 0,
    "start_time": "2022-12-17T16:32:46.309Z"
   },
   {
    "duration": 0,
    "start_time": "2022-12-17T16:32:46.310Z"
   },
   {
    "duration": 0,
    "start_time": "2022-12-17T16:32:46.311Z"
   },
   {
    "duration": 0,
    "start_time": "2022-12-17T16:32:46.311Z"
   },
   {
    "duration": 0,
    "start_time": "2022-12-17T16:32:46.312Z"
   },
   {
    "duration": 0,
    "start_time": "2022-12-17T16:32:46.313Z"
   },
   {
    "duration": 0,
    "start_time": "2022-12-17T16:32:46.314Z"
   },
   {
    "duration": 0,
    "start_time": "2022-12-17T16:32:46.315Z"
   },
   {
    "duration": 79,
    "start_time": "2022-12-17T16:34:01.539Z"
   },
   {
    "duration": 10,
    "start_time": "2022-12-17T16:34:04.754Z"
   },
   {
    "duration": 12,
    "start_time": "2022-12-17T16:34:12.545Z"
   },
   {
    "duration": 4,
    "start_time": "2022-12-17T16:35:53.148Z"
   },
   {
    "duration": 9,
    "start_time": "2022-12-17T16:37:06.066Z"
   },
   {
    "duration": 3,
    "start_time": "2022-12-17T16:37:13.062Z"
   },
   {
    "duration": 9,
    "start_time": "2022-12-17T16:37:15.708Z"
   },
   {
    "duration": 4,
    "start_time": "2022-12-17T16:37:30.868Z"
   },
   {
    "duration": 1571,
    "start_time": "2022-12-17T16:37:45.661Z"
   },
   {
    "duration": 8,
    "start_time": "2022-12-17T16:38:13.174Z"
   },
   {
    "duration": 71,
    "start_time": "2022-12-17T16:39:18.990Z"
   },
   {
    "duration": 3,
    "start_time": "2022-12-17T16:39:30.622Z"
   },
   {
    "duration": 1116,
    "start_time": "2022-12-17T16:39:58.211Z"
   },
   {
    "duration": 7,
    "start_time": "2022-12-17T16:40:10.770Z"
   },
   {
    "duration": 12,
    "start_time": "2022-12-17T16:41:04.065Z"
   },
   {
    "duration": 19,
    "start_time": "2022-12-17T16:46:00.555Z"
   },
   {
    "duration": 74,
    "start_time": "2022-12-17T16:53:55.079Z"
   },
   {
    "duration": 4,
    "start_time": "2022-12-17T16:54:25.737Z"
   },
   {
    "duration": 80,
    "start_time": "2022-12-17T16:55:41.056Z"
   },
   {
    "duration": 6,
    "start_time": "2022-12-17T16:55:52.640Z"
   },
   {
    "duration": 14,
    "start_time": "2022-12-17T16:59:53.995Z"
   },
   {
    "duration": 4,
    "start_time": "2022-12-17T17:00:36.434Z"
   },
   {
    "duration": 13,
    "start_time": "2022-12-17T17:01:03.843Z"
   },
   {
    "duration": 13,
    "start_time": "2022-12-17T17:09:53.002Z"
   },
   {
    "duration": 11,
    "start_time": "2022-12-17T17:11:37.657Z"
   },
   {
    "duration": 11,
    "start_time": "2022-12-17T17:11:41.967Z"
   },
   {
    "duration": 13,
    "start_time": "2022-12-17T17:12:13.408Z"
   },
   {
    "duration": 14,
    "start_time": "2022-12-17T17:12:25.131Z"
   },
   {
    "duration": 11,
    "start_time": "2022-12-17T17:12:43.121Z"
   },
   {
    "duration": 70,
    "start_time": "2022-12-17T17:14:53.924Z"
   },
   {
    "duration": 14,
    "start_time": "2022-12-17T17:15:31.653Z"
   },
   {
    "duration": 13,
    "start_time": "2022-12-17T17:15:39.434Z"
   },
   {
    "duration": 5,
    "start_time": "2022-12-17T17:16:06.971Z"
   },
   {
    "duration": 62,
    "start_time": "2022-12-17T17:16:06.977Z"
   },
   {
    "duration": 8,
    "start_time": "2022-12-17T17:16:07.041Z"
   },
   {
    "duration": 13,
    "start_time": "2022-12-17T17:16:07.051Z"
   },
   {
    "duration": 7,
    "start_time": "2022-12-17T17:16:07.066Z"
   },
   {
    "duration": 13,
    "start_time": "2022-12-17T17:16:07.074Z"
   },
   {
    "duration": 17,
    "start_time": "2022-12-17T17:16:07.089Z"
   },
   {
    "duration": 8,
    "start_time": "2022-12-17T17:16:07.108Z"
   },
   {
    "duration": 8,
    "start_time": "2022-12-17T17:16:07.118Z"
   },
   {
    "duration": 352,
    "start_time": "2022-12-17T17:16:07.128Z"
   },
   {
    "duration": 521,
    "start_time": "2022-12-17T17:16:07.483Z"
   },
   {
    "duration": 4,
    "start_time": "2022-12-17T17:16:08.006Z"
   },
   {
    "duration": 1192,
    "start_time": "2022-12-17T17:16:08.012Z"
   },
   {
    "duration": 340,
    "start_time": "2022-12-17T17:16:09.206Z"
   },
   {
    "duration": 4,
    "start_time": "2022-12-17T17:16:09.547Z"
   },
   {
    "duration": 42,
    "start_time": "2022-12-17T17:16:09.553Z"
   },
   {
    "duration": 19,
    "start_time": "2022-12-17T17:16:09.597Z"
   },
   {
    "duration": 25,
    "start_time": "2022-12-17T17:16:09.618Z"
   },
   {
    "duration": 33,
    "start_time": "2022-12-17T17:16:09.645Z"
   },
   {
    "duration": 29,
    "start_time": "2022-12-17T17:16:09.679Z"
   },
   {
    "duration": 43,
    "start_time": "2022-12-17T17:16:09.709Z"
   },
   {
    "duration": 32,
    "start_time": "2022-12-17T17:16:09.754Z"
   },
   {
    "duration": 24,
    "start_time": "2022-12-17T17:16:09.788Z"
   },
   {
    "duration": 23,
    "start_time": "2022-12-17T17:16:09.814Z"
   },
   {
    "duration": 15,
    "start_time": "2022-12-17T17:16:09.839Z"
   },
   {
    "duration": 56,
    "start_time": "2022-12-17T17:16:09.856Z"
   },
   {
    "duration": 98,
    "start_time": "2022-12-17T17:16:09.914Z"
   },
   {
    "duration": 11,
    "start_time": "2022-12-17T17:16:15.156Z"
   },
   {
    "duration": 12,
    "start_time": "2022-12-17T17:17:28.604Z"
   },
   {
    "duration": 11,
    "start_time": "2022-12-17T17:17:54.038Z"
   },
   {
    "duration": 5,
    "start_time": "2022-12-17T17:18:32.400Z"
   },
   {
    "duration": 59,
    "start_time": "2022-12-17T17:18:32.407Z"
   },
   {
    "duration": 7,
    "start_time": "2022-12-17T17:18:32.468Z"
   },
   {
    "duration": 30,
    "start_time": "2022-12-17T17:18:32.477Z"
   },
   {
    "duration": 19,
    "start_time": "2022-12-17T17:18:32.509Z"
   },
   {
    "duration": 23,
    "start_time": "2022-12-17T17:18:32.530Z"
   },
   {
    "duration": 30,
    "start_time": "2022-12-17T17:18:32.554Z"
   },
   {
    "duration": 35,
    "start_time": "2022-12-17T17:18:32.585Z"
   },
   {
    "duration": 30,
    "start_time": "2022-12-17T17:18:32.622Z"
   },
   {
    "duration": 295,
    "start_time": "2022-12-17T17:18:32.653Z"
   },
   {
    "duration": 426,
    "start_time": "2022-12-17T17:18:32.951Z"
   },
   {
    "duration": 4,
    "start_time": "2022-12-17T17:18:33.379Z"
   },
   {
    "duration": 1223,
    "start_time": "2022-12-17T17:18:33.385Z"
   },
   {
    "duration": 331,
    "start_time": "2022-12-17T17:18:34.610Z"
   },
   {
    "duration": 5,
    "start_time": "2022-12-17T17:18:34.943Z"
   },
   {
    "duration": 50,
    "start_time": "2022-12-17T17:18:34.950Z"
   },
   {
    "duration": 36,
    "start_time": "2022-12-17T17:18:35.002Z"
   },
   {
    "duration": 38,
    "start_time": "2022-12-17T17:18:35.040Z"
   },
   {
    "duration": 26,
    "start_time": "2022-12-17T17:18:35.079Z"
   },
   {
    "duration": 31,
    "start_time": "2022-12-17T17:18:35.106Z"
   },
   {
    "duration": 44,
    "start_time": "2022-12-17T17:18:35.138Z"
   },
   {
    "duration": 47,
    "start_time": "2022-12-17T17:18:35.184Z"
   },
   {
    "duration": 11,
    "start_time": "2022-12-17T17:18:35.232Z"
   },
   {
    "duration": 38,
    "start_time": "2022-12-17T17:18:35.245Z"
   },
   {
    "duration": 22,
    "start_time": "2022-12-17T17:18:35.284Z"
   },
   {
    "duration": 102,
    "start_time": "2022-12-17T17:18:35.308Z"
   },
   {
    "duration": 51,
    "start_time": "2022-12-17T17:18:35.412Z"
   },
   {
    "duration": 54,
    "start_time": "2022-12-17T17:18:35.465Z"
   },
   {
    "duration": 35,
    "start_time": "2022-12-17T17:18:35.522Z"
   },
   {
    "duration": 46,
    "start_time": "2022-12-17T17:18:35.559Z"
   },
   {
    "duration": 40,
    "start_time": "2022-12-17T17:18:35.607Z"
   },
   {
    "duration": 49,
    "start_time": "2022-12-17T17:18:35.649Z"
   },
   {
    "duration": 42,
    "start_time": "2022-12-17T17:18:35.700Z"
   },
   {
    "duration": 49,
    "start_time": "2022-12-17T17:18:35.744Z"
   },
   {
    "duration": 1966,
    "start_time": "2022-12-17T17:18:35.795Z"
   },
   {
    "duration": 9,
    "start_time": "2022-12-17T17:18:37.763Z"
   },
   {
    "duration": 12,
    "start_time": "2022-12-17T17:18:45.438Z"
   },
   {
    "duration": 14,
    "start_time": "2022-12-17T17:20:05.008Z"
   },
   {
    "duration": 11,
    "start_time": "2022-12-17T17:20:25.957Z"
   },
   {
    "duration": 5,
    "start_time": "2022-12-17T17:20:33.810Z"
   },
   {
    "duration": 46,
    "start_time": "2022-12-17T17:20:33.817Z"
   },
   {
    "duration": 7,
    "start_time": "2022-12-17T17:20:33.865Z"
   },
   {
    "duration": 16,
    "start_time": "2022-12-17T17:20:33.873Z"
   },
   {
    "duration": 4,
    "start_time": "2022-12-17T17:20:33.891Z"
   },
   {
    "duration": 18,
    "start_time": "2022-12-17T17:20:33.896Z"
   },
   {
    "duration": 12,
    "start_time": "2022-12-17T17:20:33.916Z"
   },
   {
    "duration": 8,
    "start_time": "2022-12-17T17:20:33.929Z"
   },
   {
    "duration": 10,
    "start_time": "2022-12-17T17:20:33.939Z"
   },
   {
    "duration": 329,
    "start_time": "2022-12-17T17:20:33.951Z"
   },
   {
    "duration": 423,
    "start_time": "2022-12-17T17:20:34.281Z"
   },
   {
    "duration": 4,
    "start_time": "2022-12-17T17:20:34.706Z"
   },
   {
    "duration": 1178,
    "start_time": "2022-12-17T17:20:34.713Z"
   },
   {
    "duration": 346,
    "start_time": "2022-12-17T17:20:35.892Z"
   },
   {
    "duration": 4,
    "start_time": "2022-12-17T17:20:36.240Z"
   },
   {
    "duration": 20,
    "start_time": "2022-12-17T17:20:36.245Z"
   },
   {
    "duration": 37,
    "start_time": "2022-12-17T17:20:36.266Z"
   },
   {
    "duration": 6,
    "start_time": "2022-12-17T17:20:36.306Z"
   },
   {
    "duration": 7,
    "start_time": "2022-12-17T17:20:36.313Z"
   },
   {
    "duration": 4,
    "start_time": "2022-12-17T17:20:36.321Z"
   },
   {
    "duration": 8,
    "start_time": "2022-12-17T17:20:36.326Z"
   },
   {
    "duration": 23,
    "start_time": "2022-12-17T17:20:36.336Z"
   },
   {
    "duration": 6,
    "start_time": "2022-12-17T17:20:36.361Z"
   },
   {
    "duration": 38,
    "start_time": "2022-12-17T17:20:36.368Z"
   },
   {
    "duration": 4,
    "start_time": "2022-12-17T17:20:36.408Z"
   },
   {
    "duration": 92,
    "start_time": "2022-12-17T17:20:36.414Z"
   },
   {
    "duration": 13,
    "start_time": "2022-12-17T17:20:36.507Z"
   },
   {
    "duration": 13,
    "start_time": "2022-12-17T17:20:36.522Z"
   },
   {
    "duration": 4,
    "start_time": "2022-12-17T17:20:36.537Z"
   },
   {
    "duration": 12,
    "start_time": "2022-12-17T17:20:36.542Z"
   },
   {
    "duration": 3,
    "start_time": "2022-12-17T17:20:36.556Z"
   },
   {
    "duration": 4,
    "start_time": "2022-12-17T17:20:36.561Z"
   },
   {
    "duration": 4,
    "start_time": "2022-12-17T17:20:36.567Z"
   },
   {
    "duration": 5,
    "start_time": "2022-12-17T17:20:36.573Z"
   },
   {
    "duration": 1968,
    "start_time": "2022-12-17T17:20:36.579Z"
   },
   {
    "duration": 9,
    "start_time": "2022-12-17T17:20:38.549Z"
   },
   {
    "duration": 25,
    "start_time": "2022-12-17T17:20:38.561Z"
   },
   {
    "duration": 12,
    "start_time": "2022-12-17T17:20:38.588Z"
   },
   {
    "duration": 17,
    "start_time": "2022-12-17T17:20:38.604Z"
   },
   {
    "duration": 21,
    "start_time": "2022-12-17T17:20:38.623Z"
   },
   {
    "duration": 18,
    "start_time": "2022-12-17T17:20:38.646Z"
   },
   {
    "duration": 1640,
    "start_time": "2022-12-17T17:20:38.666Z"
   },
   {
    "duration": 6,
    "start_time": "2022-12-17T17:20:40.308Z"
   },
   {
    "duration": 30,
    "start_time": "2022-12-17T17:20:40.316Z"
   },
   {
    "duration": 1151,
    "start_time": "2022-12-17T17:20:40.348Z"
   },
   {
    "duration": 7,
    "start_time": "2022-12-17T17:20:41.500Z"
   },
   {
    "duration": 12,
    "start_time": "2022-12-17T17:20:48.678Z"
   },
   {
    "duration": 79,
    "start_time": "2022-12-17T17:34:02.821Z"
   },
   {
    "duration": 14,
    "start_time": "2022-12-17T17:36:24.154Z"
   },
   {
    "duration": 9,
    "start_time": "2022-12-17T17:36:53.249Z"
   },
   {
    "duration": 7,
    "start_time": "2022-12-17T17:37:35.571Z"
   },
   {
    "duration": 10,
    "start_time": "2022-12-17T17:39:29.025Z"
   },
   {
    "duration": 90,
    "start_time": "2022-12-17T17:40:18.437Z"
   },
   {
    "duration": 78,
    "start_time": "2022-12-17T17:41:33.308Z"
   },
   {
    "duration": 346,
    "start_time": "2022-12-17T17:42:02.372Z"
   },
   {
    "duration": 12,
    "start_time": "2022-12-17T17:44:24.927Z"
   },
   {
    "duration": 305,
    "start_time": "2022-12-17T17:45:43.422Z"
   },
   {
    "duration": 12,
    "start_time": "2022-12-17T17:45:58.420Z"
   },
   {
    "duration": 68,
    "start_time": "2022-12-17T17:46:38.904Z"
   },
   {
    "duration": 11,
    "start_time": "2022-12-17T17:46:57.613Z"
   },
   {
    "duration": 10,
    "start_time": "2022-12-17T17:47:03.790Z"
   },
   {
    "duration": 1537,
    "start_time": "2022-12-17T17:47:15.321Z"
   },
   {
    "duration": 49,
    "start_time": "2022-12-17T17:47:16.859Z"
   },
   {
    "duration": 11,
    "start_time": "2022-12-17T17:47:16.910Z"
   },
   {
    "duration": 12,
    "start_time": "2022-12-17T17:47:16.923Z"
   },
   {
    "duration": 3,
    "start_time": "2022-12-17T17:47:16.937Z"
   },
   {
    "duration": 15,
    "start_time": "2022-12-17T17:47:16.942Z"
   },
   {
    "duration": 10,
    "start_time": "2022-12-17T17:47:16.959Z"
   },
   {
    "duration": 36,
    "start_time": "2022-12-17T17:47:16.970Z"
   },
   {
    "duration": 9,
    "start_time": "2022-12-17T17:47:17.007Z"
   },
   {
    "duration": 311,
    "start_time": "2022-12-17T17:47:17.019Z"
   },
   {
    "duration": 569,
    "start_time": "2022-12-17T17:47:17.332Z"
   },
   {
    "duration": 4,
    "start_time": "2022-12-17T17:47:17.903Z"
   },
   {
    "duration": 1125,
    "start_time": "2022-12-17T17:47:17.908Z"
   },
   {
    "duration": 373,
    "start_time": "2022-12-17T17:47:19.035Z"
   },
   {
    "duration": 5,
    "start_time": "2022-12-17T17:47:19.410Z"
   },
   {
    "duration": 21,
    "start_time": "2022-12-17T17:47:19.417Z"
   },
   {
    "duration": 15,
    "start_time": "2022-12-17T17:47:19.440Z"
   },
   {
    "duration": 7,
    "start_time": "2022-12-17T17:47:19.456Z"
   },
   {
    "duration": 7,
    "start_time": "2022-12-17T17:47:19.465Z"
   },
   {
    "duration": 32,
    "start_time": "2022-12-17T17:47:19.474Z"
   },
   {
    "duration": 7,
    "start_time": "2022-12-17T17:47:19.507Z"
   },
   {
    "duration": 23,
    "start_time": "2022-12-17T17:47:19.516Z"
   },
   {
    "duration": 7,
    "start_time": "2022-12-17T17:47:19.541Z"
   },
   {
    "duration": 8,
    "start_time": "2022-12-17T17:47:19.550Z"
   },
   {
    "duration": 47,
    "start_time": "2022-12-17T17:47:19.560Z"
   },
   {
    "duration": 98,
    "start_time": "2022-12-17T17:47:19.609Z"
   },
   {
    "duration": 12,
    "start_time": "2022-12-17T17:47:19.708Z"
   },
   {
    "duration": 12,
    "start_time": "2022-12-17T17:47:19.723Z"
   },
   {
    "duration": 8,
    "start_time": "2022-12-17T17:47:19.736Z"
   },
   {
    "duration": 6,
    "start_time": "2022-12-17T17:47:19.745Z"
   },
   {
    "duration": 8,
    "start_time": "2022-12-17T17:47:19.752Z"
   },
   {
    "duration": 6,
    "start_time": "2022-12-17T17:47:19.761Z"
   },
   {
    "duration": 9,
    "start_time": "2022-12-17T17:47:19.769Z"
   },
   {
    "duration": 10,
    "start_time": "2022-12-17T17:47:19.780Z"
   },
   {
    "duration": 1952,
    "start_time": "2022-12-17T17:47:19.792Z"
   },
   {
    "duration": 9,
    "start_time": "2022-12-17T17:47:21.746Z"
   },
   {
    "duration": 12,
    "start_time": "2022-12-17T17:47:21.756Z"
   },
   {
    "duration": 13,
    "start_time": "2022-12-17T17:47:21.769Z"
   },
   {
    "duration": 6,
    "start_time": "2022-12-17T17:47:21.783Z"
   },
   {
    "duration": 23,
    "start_time": "2022-12-17T17:47:21.791Z"
   },
   {
    "duration": 6,
    "start_time": "2022-12-17T17:47:21.815Z"
   },
   {
    "duration": 1662,
    "start_time": "2022-12-17T17:47:21.822Z"
   },
   {
    "duration": 9,
    "start_time": "2022-12-17T17:47:23.485Z"
   },
   {
    "duration": 5,
    "start_time": "2022-12-17T17:47:23.496Z"
   },
   {
    "duration": 1085,
    "start_time": "2022-12-17T17:47:23.503Z"
   },
   {
    "duration": 6,
    "start_time": "2022-12-17T17:47:24.589Z"
   },
   {
    "duration": 10,
    "start_time": "2022-12-17T17:47:24.597Z"
   },
   {
    "duration": 10,
    "start_time": "2022-12-17T17:47:24.609Z"
   },
   {
    "duration": 14,
    "start_time": "2022-12-17T17:47:24.620Z"
   },
   {
    "duration": 71,
    "start_time": "2022-12-17T17:47:24.636Z"
   },
   {
    "duration": 0,
    "start_time": "2022-12-17T17:47:24.708Z"
   },
   {
    "duration": 0,
    "start_time": "2022-12-17T17:47:24.709Z"
   },
   {
    "duration": 331,
    "start_time": "2022-12-17T17:48:49.711Z"
   },
   {
    "duration": 10,
    "start_time": "2022-12-17T17:48:59.776Z"
   },
   {
    "duration": 1570,
    "start_time": "2022-12-17T17:51:28.986Z"
   },
   {
    "duration": 51,
    "start_time": "2022-12-17T17:51:30.558Z"
   },
   {
    "duration": 11,
    "start_time": "2022-12-17T17:51:30.610Z"
   },
   {
    "duration": 27,
    "start_time": "2022-12-17T17:51:30.623Z"
   },
   {
    "duration": 22,
    "start_time": "2022-12-17T17:51:30.652Z"
   },
   {
    "duration": 34,
    "start_time": "2022-12-17T17:51:30.676Z"
   },
   {
    "duration": 27,
    "start_time": "2022-12-17T17:51:30.712Z"
   },
   {
    "duration": 28,
    "start_time": "2022-12-17T17:51:30.740Z"
   },
   {
    "duration": 27,
    "start_time": "2022-12-17T17:51:30.770Z"
   },
   {
    "duration": 308,
    "start_time": "2022-12-17T17:51:30.799Z"
   },
   {
    "duration": 538,
    "start_time": "2022-12-17T17:51:31.108Z"
   },
   {
    "duration": 4,
    "start_time": "2022-12-17T17:51:31.648Z"
   },
   {
    "duration": 1116,
    "start_time": "2022-12-17T17:51:31.653Z"
   },
   {
    "duration": 360,
    "start_time": "2022-12-17T17:51:32.771Z"
   },
   {
    "duration": 4,
    "start_time": "2022-12-17T17:51:33.133Z"
   },
   {
    "duration": 23,
    "start_time": "2022-12-17T17:51:33.139Z"
   },
   {
    "duration": 42,
    "start_time": "2022-12-17T17:51:33.164Z"
   },
   {
    "duration": 7,
    "start_time": "2022-12-17T17:51:33.207Z"
   },
   {
    "duration": 6,
    "start_time": "2022-12-17T17:51:33.216Z"
   },
   {
    "duration": 5,
    "start_time": "2022-12-17T17:51:33.223Z"
   },
   {
    "duration": 7,
    "start_time": "2022-12-17T17:51:33.229Z"
   },
   {
    "duration": 24,
    "start_time": "2022-12-17T17:51:33.237Z"
   },
   {
    "duration": 6,
    "start_time": "2022-12-17T17:51:33.263Z"
   },
   {
    "duration": 37,
    "start_time": "2022-12-17T17:51:33.271Z"
   },
   {
    "duration": 103,
    "start_time": "2022-12-17T17:51:33.311Z"
   },
   {
    "duration": 101,
    "start_time": "2022-12-17T17:51:33.416Z"
   },
   {
    "duration": 109,
    "start_time": "2022-12-17T17:51:33.604Z"
   },
   {
    "duration": 9,
    "start_time": "2022-12-17T17:51:33.716Z"
   },
   {
    "duration": 6,
    "start_time": "2022-12-17T17:51:33.726Z"
   },
   {
    "duration": 6,
    "start_time": "2022-12-17T17:51:33.733Z"
   },
   {
    "duration": 22,
    "start_time": "2022-12-17T17:51:33.740Z"
   },
   {
    "duration": 4,
    "start_time": "2022-12-17T17:51:33.764Z"
   },
   {
    "duration": 4,
    "start_time": "2022-12-17T17:51:33.770Z"
   },
   {
    "duration": 17,
    "start_time": "2022-12-17T17:51:33.776Z"
   },
   {
    "duration": 3199,
    "start_time": "2022-12-17T17:51:33.795Z"
   },
   {
    "duration": 11,
    "start_time": "2022-12-17T17:51:36.995Z"
   },
   {
    "duration": 12,
    "start_time": "2022-12-17T17:51:37.008Z"
   },
   {
    "duration": 5,
    "start_time": "2022-12-17T17:51:37.022Z"
   },
   {
    "duration": 8,
    "start_time": "2022-12-17T17:51:37.029Z"
   },
   {
    "duration": 12,
    "start_time": "2022-12-17T17:51:37.038Z"
   },
   {
    "duration": 7,
    "start_time": "2022-12-17T17:51:37.052Z"
   },
   {
    "duration": 1887,
    "start_time": "2022-12-17T17:51:37.060Z"
   },
   {
    "duration": 9,
    "start_time": "2022-12-17T17:51:38.949Z"
   },
   {
    "duration": 5,
    "start_time": "2022-12-17T17:51:38.959Z"
   },
   {
    "duration": 1200,
    "start_time": "2022-12-17T17:51:38.965Z"
   },
   {
    "duration": 7,
    "start_time": "2022-12-17T17:51:40.166Z"
   },
   {
    "duration": 10,
    "start_time": "2022-12-17T17:51:40.174Z"
   },
   {
    "duration": 10,
    "start_time": "2022-12-17T17:51:40.185Z"
   },
   {
    "duration": 12,
    "start_time": "2022-12-17T17:51:40.196Z"
   },
   {
    "duration": 488,
    "start_time": "2022-12-17T17:51:40.210Z"
   },
   {
    "duration": 9,
    "start_time": "2022-12-17T17:51:40.704Z"
   },
   {
    "duration": 1566,
    "start_time": "2022-12-17T17:55:49.692Z"
   },
   {
    "duration": 47,
    "start_time": "2022-12-17T17:55:51.260Z"
   },
   {
    "duration": 10,
    "start_time": "2022-12-17T17:55:51.309Z"
   },
   {
    "duration": 9,
    "start_time": "2022-12-17T17:55:51.321Z"
   },
   {
    "duration": 18,
    "start_time": "2022-12-17T17:55:51.331Z"
   },
   {
    "duration": 15,
    "start_time": "2022-12-17T17:55:51.351Z"
   },
   {
    "duration": 11,
    "start_time": "2022-12-17T17:55:51.367Z"
   },
   {
    "duration": 27,
    "start_time": "2022-12-17T17:55:51.379Z"
   },
   {
    "duration": 9,
    "start_time": "2022-12-17T17:55:51.407Z"
   },
   {
    "duration": 291,
    "start_time": "2022-12-17T17:55:51.419Z"
   },
   {
    "duration": 538,
    "start_time": "2022-12-17T17:55:51.711Z"
   },
   {
    "duration": 4,
    "start_time": "2022-12-17T17:55:52.251Z"
   },
   {
    "duration": 1084,
    "start_time": "2022-12-17T17:55:52.257Z"
   },
   {
    "duration": 351,
    "start_time": "2022-12-17T17:55:53.343Z"
   },
   {
    "duration": 12,
    "start_time": "2022-12-17T17:55:53.696Z"
   },
   {
    "duration": 24,
    "start_time": "2022-12-17T17:55:53.710Z"
   },
   {
    "duration": 25,
    "start_time": "2022-12-17T17:55:53.735Z"
   },
   {
    "duration": 7,
    "start_time": "2022-12-17T17:55:53.762Z"
   },
   {
    "duration": 36,
    "start_time": "2022-12-17T17:55:53.771Z"
   },
   {
    "duration": 4,
    "start_time": "2022-12-17T17:55:53.809Z"
   },
   {
    "duration": 7,
    "start_time": "2022-12-17T17:55:53.815Z"
   },
   {
    "duration": 34,
    "start_time": "2022-12-17T17:55:53.824Z"
   },
   {
    "duration": 6,
    "start_time": "2022-12-17T17:55:53.860Z"
   },
   {
    "duration": 41,
    "start_time": "2022-12-17T17:55:53.867Z"
   },
   {
    "duration": 92,
    "start_time": "2022-12-17T17:55:53.913Z"
   },
   {
    "duration": 104,
    "start_time": "2022-12-17T17:55:54.008Z"
   },
   {
    "duration": 11,
    "start_time": "2022-12-17T17:55:54.204Z"
   },
   {
    "duration": 11,
    "start_time": "2022-12-17T17:55:54.218Z"
   },
   {
    "duration": 4,
    "start_time": "2022-12-17T17:55:54.231Z"
   },
   {
    "duration": 5,
    "start_time": "2022-12-17T17:55:54.237Z"
   },
   {
    "duration": 5,
    "start_time": "2022-12-17T17:55:54.244Z"
   },
   {
    "duration": 6,
    "start_time": "2022-12-17T17:55:54.251Z"
   },
   {
    "duration": 4,
    "start_time": "2022-12-17T17:55:54.258Z"
   },
   {
    "duration": 7,
    "start_time": "2022-12-17T17:55:54.264Z"
   },
   {
    "duration": 3854,
    "start_time": "2022-12-17T17:55:54.273Z"
   },
   {
    "duration": 11,
    "start_time": "2022-12-17T17:55:58.129Z"
   },
   {
    "duration": 12,
    "start_time": "2022-12-17T17:55:58.141Z"
   },
   {
    "duration": 8,
    "start_time": "2022-12-17T17:55:58.155Z"
   },
   {
    "duration": 7,
    "start_time": "2022-12-17T17:55:58.165Z"
   },
   {
    "duration": 45,
    "start_time": "2022-12-17T17:55:58.174Z"
   },
   {
    "duration": 7,
    "start_time": "2022-12-17T17:55:58.220Z"
   },
   {
    "duration": 1879,
    "start_time": "2022-12-17T17:55:58.228Z"
   },
   {
    "duration": 8,
    "start_time": "2022-12-17T17:56:00.108Z"
   },
   {
    "duration": 16,
    "start_time": "2022-12-17T17:56:00.117Z"
   },
   {
    "duration": 1315,
    "start_time": "2022-12-17T17:56:00.135Z"
   },
   {
    "duration": 8,
    "start_time": "2022-12-17T17:56:01.451Z"
   },
   {
    "duration": 24,
    "start_time": "2022-12-17T17:56:01.460Z"
   },
   {
    "duration": 18,
    "start_time": "2022-12-17T17:56:01.486Z"
   },
   {
    "duration": 21,
    "start_time": "2022-12-17T17:56:01.505Z"
   },
   {
    "duration": 561,
    "start_time": "2022-12-17T17:56:01.528Z"
   },
   {
    "duration": 16,
    "start_time": "2022-12-17T17:56:02.091Z"
   },
   {
    "duration": 476,
    "start_time": "2022-12-17T17:57:13.189Z"
   },
   {
    "duration": 308,
    "start_time": "2022-12-17T17:57:56.006Z"
   },
   {
    "duration": 353,
    "start_time": "2022-12-17T17:58:07.221Z"
   },
   {
    "duration": 88,
    "start_time": "2022-12-17T18:02:10.183Z"
   },
   {
    "duration": 7,
    "start_time": "2022-12-17T18:05:46.725Z"
   },
   {
    "duration": 4,
    "start_time": "2022-12-17T18:05:49.482Z"
   },
   {
    "duration": 4224,
    "start_time": "2022-12-17T18:05:52.467Z"
   },
   {
    "duration": 15,
    "start_time": "2022-12-17T18:05:56.693Z"
   },
   {
    "duration": 4241,
    "start_time": "2022-12-17T18:07:00.357Z"
   },
   {
    "duration": 10,
    "start_time": "2022-12-17T18:07:14.277Z"
   },
   {
    "duration": 416,
    "start_time": "2022-12-17T18:08:08.165Z"
   },
   {
    "duration": 103,
    "start_time": "2022-12-17T18:23:20.674Z"
   },
   {
    "duration": 71,
    "start_time": "2022-12-17T18:24:45.101Z"
   },
   {
    "duration": 70,
    "start_time": "2022-12-17T18:24:55.601Z"
   },
   {
    "duration": 282,
    "start_time": "2022-12-17T18:26:44.483Z"
   },
   {
    "duration": 310,
    "start_time": "2022-12-17T18:27:21.603Z"
   },
   {
    "duration": 9,
    "start_time": "2022-12-17T18:31:40.695Z"
   },
   {
    "duration": 11,
    "start_time": "2022-12-17T18:35:00.406Z"
   },
   {
    "duration": 309,
    "start_time": "2022-12-17T18:35:38.474Z"
   },
   {
    "duration": 17,
    "start_time": "2022-12-17T18:36:44.876Z"
   },
   {
    "duration": 301,
    "start_time": "2022-12-17T18:39:00.736Z"
   },
   {
    "duration": 280,
    "start_time": "2022-12-17T18:41:22.261Z"
   },
   {
    "duration": 305,
    "start_time": "2022-12-17T18:41:45.837Z"
   },
   {
    "duration": 13,
    "start_time": "2022-12-17T18:42:50.676Z"
   },
   {
    "duration": 281,
    "start_time": "2022-12-17T18:43:08.910Z"
   },
   {
    "duration": 9,
    "start_time": "2022-12-17T18:44:42.893Z"
   },
   {
    "duration": 10,
    "start_time": "2022-12-17T18:45:01.743Z"
   },
   {
    "duration": 10,
    "start_time": "2022-12-17T18:56:34.039Z"
   },
   {
    "duration": 1641,
    "start_time": "2022-12-17T19:07:26.950Z"
   },
   {
    "duration": 48,
    "start_time": "2022-12-17T19:07:28.593Z"
   },
   {
    "duration": 10,
    "start_time": "2022-12-17T19:07:28.642Z"
   },
   {
    "duration": 10,
    "start_time": "2022-12-17T19:07:28.654Z"
   },
   {
    "duration": 3,
    "start_time": "2022-12-17T19:07:28.666Z"
   },
   {
    "duration": 14,
    "start_time": "2022-12-17T19:07:28.671Z"
   },
   {
    "duration": 24,
    "start_time": "2022-12-17T19:07:28.687Z"
   },
   {
    "duration": 8,
    "start_time": "2022-12-17T19:07:28.712Z"
   },
   {
    "duration": 8,
    "start_time": "2022-12-17T19:07:28.721Z"
   },
   {
    "duration": 317,
    "start_time": "2022-12-17T19:07:28.732Z"
   },
   {
    "duration": 561,
    "start_time": "2022-12-17T19:07:29.052Z"
   },
   {
    "duration": 4,
    "start_time": "2022-12-17T19:07:29.615Z"
   },
   {
    "duration": 1123,
    "start_time": "2022-12-17T19:07:29.621Z"
   },
   {
    "duration": 362,
    "start_time": "2022-12-17T19:07:30.746Z"
   },
   {
    "duration": 4,
    "start_time": "2022-12-17T19:07:31.109Z"
   },
   {
    "duration": 38,
    "start_time": "2022-12-17T19:07:31.115Z"
   },
   {
    "duration": 24,
    "start_time": "2022-12-17T19:07:31.155Z"
   },
   {
    "duration": 21,
    "start_time": "2022-12-17T19:07:31.181Z"
   },
   {
    "duration": 13,
    "start_time": "2022-12-17T19:07:31.204Z"
   },
   {
    "duration": 16,
    "start_time": "2022-12-17T19:07:31.219Z"
   },
   {
    "duration": 22,
    "start_time": "2022-12-17T19:07:31.236Z"
   },
   {
    "duration": 31,
    "start_time": "2022-12-17T19:07:31.259Z"
   },
   {
    "duration": 7,
    "start_time": "2022-12-17T19:07:31.291Z"
   },
   {
    "duration": 19,
    "start_time": "2022-12-17T19:07:31.300Z"
   },
   {
    "duration": 186,
    "start_time": "2022-12-17T19:07:31.320Z"
   },
   {
    "duration": 16,
    "start_time": "2022-12-17T19:07:31.507Z"
   },
   {
    "duration": 185,
    "start_time": "2022-12-17T19:07:31.525Z"
   },
   {
    "duration": 12,
    "start_time": "2022-12-17T19:07:31.715Z"
   },
   {
    "duration": 11,
    "start_time": "2022-12-17T19:07:31.729Z"
   },
   {
    "duration": 6,
    "start_time": "2022-12-17T19:07:31.741Z"
   },
   {
    "duration": 10,
    "start_time": "2022-12-17T19:07:31.749Z"
   },
   {
    "duration": 8,
    "start_time": "2022-12-17T19:07:31.761Z"
   },
   {
    "duration": 6,
    "start_time": "2022-12-17T19:07:31.771Z"
   },
   {
    "duration": 26,
    "start_time": "2022-12-17T19:07:31.779Z"
   },
   {
    "duration": 3776,
    "start_time": "2022-12-17T19:07:31.807Z"
   },
   {
    "duration": 20,
    "start_time": "2022-12-17T19:07:35.585Z"
   },
   {
    "duration": 11,
    "start_time": "2022-12-17T19:07:35.607Z"
   },
   {
    "duration": 8,
    "start_time": "2022-12-17T19:07:35.620Z"
   },
   {
    "duration": 5,
    "start_time": "2022-12-17T19:07:35.630Z"
   },
   {
    "duration": 10,
    "start_time": "2022-12-17T19:07:35.637Z"
   },
   {
    "duration": 11,
    "start_time": "2022-12-17T19:07:35.651Z"
   },
   {
    "duration": 2064,
    "start_time": "2022-12-17T19:07:35.664Z"
   },
   {
    "duration": 9,
    "start_time": "2022-12-17T19:07:37.730Z"
   },
   {
    "duration": 7,
    "start_time": "2022-12-17T19:07:37.741Z"
   },
   {
    "duration": 1281,
    "start_time": "2022-12-17T19:07:37.750Z"
   },
   {
    "duration": 7,
    "start_time": "2022-12-17T19:07:39.032Z"
   },
   {
    "duration": 12,
    "start_time": "2022-12-17T19:07:39.040Z"
   },
   {
    "duration": 9,
    "start_time": "2022-12-17T19:07:39.054Z"
   },
   {
    "duration": 16,
    "start_time": "2022-12-17T19:07:39.064Z"
   },
   {
    "duration": 7,
    "start_time": "2022-12-17T19:07:39.081Z"
   },
   {
    "duration": 5,
    "start_time": "2022-12-17T19:07:39.089Z"
   },
   {
    "duration": 4223,
    "start_time": "2022-12-17T19:07:39.095Z"
   },
   {
    "duration": 10,
    "start_time": "2022-12-17T19:07:43.319Z"
   },
   {
    "duration": 7,
    "start_time": "2022-12-17T19:07:43.330Z"
   },
   {
    "duration": 392,
    "start_time": "2022-12-17T19:07:43.338Z"
   },
   {
    "duration": 2413,
    "start_time": "2022-12-17T19:46:12.298Z"
   },
   {
    "duration": 146,
    "start_time": "2022-12-17T19:46:17.819Z"
   },
   {
    "duration": 9,
    "start_time": "2022-12-17T19:46:18.333Z"
   },
   {
    "duration": 172,
    "start_time": "2022-12-17T19:46:42.210Z"
   },
   {
    "duration": 9,
    "start_time": "2022-12-17T19:46:43.931Z"
   },
   {
    "duration": 1766,
    "start_time": "2022-12-18T10:15:58.905Z"
   },
   {
    "duration": 96,
    "start_time": "2022-12-18T10:16:00.674Z"
   },
   {
    "duration": 13,
    "start_time": "2022-12-18T10:16:00.771Z"
   },
   {
    "duration": 45,
    "start_time": "2022-12-18T10:16:00.787Z"
   },
   {
    "duration": 33,
    "start_time": "2022-12-18T10:16:00.834Z"
   },
   {
    "duration": 44,
    "start_time": "2022-12-18T10:16:00.869Z"
   },
   {
    "duration": 33,
    "start_time": "2022-12-18T10:16:00.915Z"
   },
   {
    "duration": 28,
    "start_time": "2022-12-18T10:16:00.950Z"
   },
   {
    "duration": 19,
    "start_time": "2022-12-18T10:16:00.980Z"
   },
   {
    "duration": 305,
    "start_time": "2022-12-18T10:16:01.002Z"
   },
   {
    "duration": 571,
    "start_time": "2022-12-18T10:16:01.309Z"
   },
   {
    "duration": 5,
    "start_time": "2022-12-18T10:16:01.883Z"
   },
   {
    "duration": 1134,
    "start_time": "2022-12-18T10:16:01.889Z"
   },
   {
    "duration": 352,
    "start_time": "2022-12-18T10:16:03.024Z"
   },
   {
    "duration": 5,
    "start_time": "2022-12-18T10:16:03.378Z"
   },
   {
    "duration": 37,
    "start_time": "2022-12-18T10:16:03.384Z"
   },
   {
    "duration": 35,
    "start_time": "2022-12-18T10:16:03.423Z"
   },
   {
    "duration": 6,
    "start_time": "2022-12-18T10:16:03.460Z"
   },
   {
    "duration": 5,
    "start_time": "2022-12-18T10:16:03.468Z"
   },
   {
    "duration": 7,
    "start_time": "2022-12-18T10:16:03.475Z"
   },
   {
    "duration": 54,
    "start_time": "2022-12-18T10:16:03.483Z"
   },
   {
    "duration": 26,
    "start_time": "2022-12-18T10:16:03.539Z"
   },
   {
    "duration": 7,
    "start_time": "2022-12-18T10:16:03.568Z"
   },
   {
    "duration": 147,
    "start_time": "2022-12-18T10:16:03.577Z"
   },
   {
    "duration": 97,
    "start_time": "2022-12-18T10:16:03.726Z"
   },
   {
    "duration": 112,
    "start_time": "2022-12-18T10:16:03.826Z"
   },
   {
    "duration": 191,
    "start_time": "2022-12-18T10:16:03.941Z"
   },
   {
    "duration": 12,
    "start_time": "2022-12-18T10:16:04.136Z"
   },
   {
    "duration": 4,
    "start_time": "2022-12-18T10:16:04.150Z"
   },
   {
    "duration": 7,
    "start_time": "2022-12-18T10:16:04.156Z"
   },
   {
    "duration": 1445,
    "start_time": "2022-12-18T10:32:07.263Z"
   },
   {
    "duration": 46,
    "start_time": "2022-12-18T10:32:08.709Z"
   },
   {
    "duration": 9,
    "start_time": "2022-12-18T10:32:08.757Z"
   },
   {
    "duration": 14,
    "start_time": "2022-12-18T10:32:08.768Z"
   },
   {
    "duration": 3,
    "start_time": "2022-12-18T10:32:08.784Z"
   },
   {
    "duration": 17,
    "start_time": "2022-12-18T10:32:08.789Z"
   },
   {
    "duration": 22,
    "start_time": "2022-12-18T10:32:08.807Z"
   },
   {
    "duration": 8,
    "start_time": "2022-12-18T10:32:08.830Z"
   },
   {
    "duration": 13,
    "start_time": "2022-12-18T10:32:08.840Z"
   },
   {
    "duration": 312,
    "start_time": "2022-12-18T10:32:08.856Z"
   },
   {
    "duration": 475,
    "start_time": "2022-12-18T10:32:09.170Z"
   },
   {
    "duration": 5,
    "start_time": "2022-12-18T10:32:09.647Z"
   },
   {
    "duration": 1205,
    "start_time": "2022-12-18T10:32:09.654Z"
   },
   {
    "duration": 454,
    "start_time": "2022-12-18T10:32:10.861Z"
   },
   {
    "duration": 6,
    "start_time": "2022-12-18T10:32:11.317Z"
   },
   {
    "duration": 26,
    "start_time": "2022-12-18T10:32:11.324Z"
   },
   {
    "duration": 20,
    "start_time": "2022-12-18T10:32:11.351Z"
   },
   {
    "duration": 5,
    "start_time": "2022-12-18T10:32:11.373Z"
   },
   {
    "duration": 10,
    "start_time": "2022-12-18T10:32:11.379Z"
   },
   {
    "duration": 13,
    "start_time": "2022-12-18T10:32:11.391Z"
   },
   {
    "duration": 15,
    "start_time": "2022-12-18T10:32:11.421Z"
   },
   {
    "duration": 24,
    "start_time": "2022-12-18T10:32:11.437Z"
   },
   {
    "duration": 6,
    "start_time": "2022-12-18T10:32:11.462Z"
   },
   {
    "duration": 56,
    "start_time": "2022-12-18T10:32:11.469Z"
   },
   {
    "duration": 94,
    "start_time": "2022-12-18T10:32:11.527Z"
   },
   {
    "duration": 117,
    "start_time": "2022-12-18T10:32:11.624Z"
   },
   {
    "duration": 187,
    "start_time": "2022-12-18T10:32:11.742Z"
   },
   {
    "duration": 25,
    "start_time": "2022-12-18T10:32:11.932Z"
   },
   {
    "duration": 7,
    "start_time": "2022-12-18T10:32:11.959Z"
   },
   {
    "duration": 9,
    "start_time": "2022-12-18T10:32:11.967Z"
   },
   {
    "duration": 1711621,
    "start_time": "2022-12-18T10:32:11.977Z"
   },
   {
    "duration": 2,
    "start_time": "2022-12-18T11:00:43.600Z"
   },
   {
    "duration": 19,
    "start_time": "2022-12-18T11:00:43.604Z"
   },
   {
    "duration": 18,
    "start_time": "2022-12-18T11:00:43.624Z"
   },
   {
    "duration": 8,
    "start_time": "2022-12-18T11:00:43.644Z"
   },
   {
    "duration": 3586,
    "start_time": "2022-12-18T11:00:43.653Z"
   },
   {
    "duration": 9,
    "start_time": "2022-12-18T11:00:47.241Z"
   },
   {
    "duration": 21,
    "start_time": "2022-12-18T11:00:47.251Z"
   },
   {
    "duration": 9,
    "start_time": "2022-12-18T11:00:47.274Z"
   },
   {
    "duration": 5,
    "start_time": "2022-12-18T11:00:47.285Z"
   },
   {
    "duration": 129,
    "start_time": "2022-12-18T11:00:47.292Z"
   },
   {
    "duration": 0,
    "start_time": "2022-12-18T11:00:47.423Z"
   },
   {
    "duration": 0,
    "start_time": "2022-12-18T11:00:47.424Z"
   },
   {
    "duration": 0,
    "start_time": "2022-12-18T11:00:47.425Z"
   },
   {
    "duration": 0,
    "start_time": "2022-12-18T11:00:47.426Z"
   },
   {
    "duration": 0,
    "start_time": "2022-12-18T11:00:47.427Z"
   },
   {
    "duration": 0,
    "start_time": "2022-12-18T11:00:47.428Z"
   },
   {
    "duration": 0,
    "start_time": "2022-12-18T11:00:47.429Z"
   },
   {
    "duration": 0,
    "start_time": "2022-12-18T11:00:47.430Z"
   },
   {
    "duration": 0,
    "start_time": "2022-12-18T11:00:47.431Z"
   },
   {
    "duration": 0,
    "start_time": "2022-12-18T11:00:47.432Z"
   },
   {
    "duration": 0,
    "start_time": "2022-12-18T11:00:47.434Z"
   },
   {
    "duration": 0,
    "start_time": "2022-12-18T11:00:47.435Z"
   },
   {
    "duration": 0,
    "start_time": "2022-12-18T11:00:47.436Z"
   },
   {
    "duration": 0,
    "start_time": "2022-12-18T11:00:47.437Z"
   },
   {
    "duration": 0,
    "start_time": "2022-12-18T11:00:47.438Z"
   },
   {
    "duration": 1438,
    "start_time": "2022-12-18T11:17:24.960Z"
   },
   {
    "duration": 47,
    "start_time": "2022-12-18T11:17:26.400Z"
   },
   {
    "duration": 9,
    "start_time": "2022-12-18T11:17:26.449Z"
   },
   {
    "duration": 11,
    "start_time": "2022-12-18T11:17:26.460Z"
   },
   {
    "duration": 3,
    "start_time": "2022-12-18T11:17:26.473Z"
   },
   {
    "duration": 23,
    "start_time": "2022-12-18T11:17:26.478Z"
   },
   {
    "duration": 10,
    "start_time": "2022-12-18T11:17:26.503Z"
   },
   {
    "duration": 9,
    "start_time": "2022-12-18T11:17:26.520Z"
   },
   {
    "duration": 7,
    "start_time": "2022-12-18T11:17:26.531Z"
   },
   {
    "duration": 284,
    "start_time": "2022-12-18T11:17:26.539Z"
   },
   {
    "duration": 495,
    "start_time": "2022-12-18T11:17:26.825Z"
   },
   {
    "duration": 5,
    "start_time": "2022-12-18T11:17:27.321Z"
   },
   {
    "duration": 1018,
    "start_time": "2022-12-18T11:17:27.327Z"
   },
   {
    "duration": 330,
    "start_time": "2022-12-18T11:17:28.349Z"
   },
   {
    "duration": 4,
    "start_time": "2022-12-18T11:17:28.681Z"
   },
   {
    "duration": 26,
    "start_time": "2022-12-18T11:17:28.686Z"
   },
   {
    "duration": 26,
    "start_time": "2022-12-18T11:17:28.713Z"
   },
   {
    "duration": 5,
    "start_time": "2022-12-18T11:17:28.741Z"
   },
   {
    "duration": 19,
    "start_time": "2022-12-18T11:17:28.748Z"
   },
   {
    "duration": 7,
    "start_time": "2022-12-18T11:17:28.769Z"
   },
   {
    "duration": 8,
    "start_time": "2022-12-18T11:17:28.777Z"
   },
   {
    "duration": 25,
    "start_time": "2022-12-18T11:17:28.786Z"
   },
   {
    "duration": 9,
    "start_time": "2022-12-18T11:17:28.813Z"
   },
   {
    "duration": 15,
    "start_time": "2022-12-18T11:17:28.823Z"
   },
   {
    "duration": 80,
    "start_time": "2022-12-18T11:17:28.843Z"
   },
   {
    "duration": 104,
    "start_time": "2022-12-18T11:17:28.924Z"
   },
   {
    "duration": 201,
    "start_time": "2022-12-18T11:17:29.032Z"
   },
   {
    "duration": 14,
    "start_time": "2022-12-18T11:17:29.234Z"
   },
   {
    "duration": 17,
    "start_time": "2022-12-18T11:17:29.249Z"
   },
   {
    "duration": 28,
    "start_time": "2022-12-18T11:17:29.268Z"
   },
   {
    "duration": 1715719,
    "start_time": "2022-12-18T11:17:29.297Z"
   },
   {
    "duration": 5,
    "start_time": "2022-12-18T11:46:05.017Z"
   },
   {
    "duration": 11,
    "start_time": "2022-12-18T11:46:05.024Z"
   },
   {
    "duration": 1516,
    "start_time": "2022-12-18T11:50:52.821Z"
   },
   {
    "duration": 46,
    "start_time": "2022-12-18T11:50:54.339Z"
   },
   {
    "duration": 10,
    "start_time": "2022-12-18T11:50:54.386Z"
   },
   {
    "duration": 8,
    "start_time": "2022-12-18T11:50:54.398Z"
   },
   {
    "duration": 3,
    "start_time": "2022-12-18T11:50:54.408Z"
   },
   {
    "duration": 12,
    "start_time": "2022-12-18T11:50:54.413Z"
   },
   {
    "duration": 10,
    "start_time": "2022-12-18T11:50:54.426Z"
   },
   {
    "duration": 14,
    "start_time": "2022-12-18T11:50:54.437Z"
   },
   {
    "duration": 8,
    "start_time": "2022-12-18T11:50:54.452Z"
   },
   {
    "duration": 291,
    "start_time": "2022-12-18T11:50:54.462Z"
   },
   {
    "duration": 484,
    "start_time": "2022-12-18T11:50:54.755Z"
   },
   {
    "duration": 4,
    "start_time": "2022-12-18T11:50:55.241Z"
   },
   {
    "duration": 1095,
    "start_time": "2022-12-18T11:50:55.247Z"
   },
   {
    "duration": 324,
    "start_time": "2022-12-18T11:50:56.344Z"
   },
   {
    "duration": 4,
    "start_time": "2022-12-18T11:50:56.670Z"
   },
   {
    "duration": 24,
    "start_time": "2022-12-18T11:50:56.675Z"
   },
   {
    "duration": 30,
    "start_time": "2022-12-18T11:50:56.700Z"
   },
   {
    "duration": 6,
    "start_time": "2022-12-18T11:50:56.731Z"
   },
   {
    "duration": 13,
    "start_time": "2022-12-18T11:50:56.738Z"
   },
   {
    "duration": 11,
    "start_time": "2022-12-18T11:50:56.752Z"
   },
   {
    "duration": 8,
    "start_time": "2022-12-18T11:50:56.764Z"
   },
   {
    "duration": 41,
    "start_time": "2022-12-18T11:50:56.773Z"
   },
   {
    "duration": 5,
    "start_time": "2022-12-18T11:50:56.816Z"
   },
   {
    "duration": 13,
    "start_time": "2022-12-18T11:50:56.822Z"
   },
   {
    "duration": 93,
    "start_time": "2022-12-18T11:50:56.837Z"
   },
   {
    "duration": 104,
    "start_time": "2022-12-18T11:50:56.933Z"
   },
   {
    "duration": 191,
    "start_time": "2022-12-18T11:50:57.038Z"
   },
   {
    "duration": 10,
    "start_time": "2022-12-18T11:50:57.234Z"
   },
   {
    "duration": 10,
    "start_time": "2022-12-18T11:50:57.246Z"
   },
   {
    "duration": 6,
    "start_time": "2022-12-18T11:50:57.257Z"
   },
   {
    "duration": 1443,
    "start_time": "2022-12-18T12:07:56.070Z"
   },
   {
    "duration": 46,
    "start_time": "2022-12-18T12:07:57.516Z"
   },
   {
    "duration": 9,
    "start_time": "2022-12-18T12:07:57.564Z"
   },
   {
    "duration": 14,
    "start_time": "2022-12-18T12:07:57.576Z"
   },
   {
    "duration": 6,
    "start_time": "2022-12-18T12:07:57.592Z"
   },
   {
    "duration": 16,
    "start_time": "2022-12-18T12:07:57.600Z"
   },
   {
    "duration": 12,
    "start_time": "2022-12-18T12:07:57.617Z"
   },
   {
    "duration": 12,
    "start_time": "2022-12-18T12:07:57.630Z"
   },
   {
    "duration": 8,
    "start_time": "2022-12-18T12:07:57.644Z"
   },
   {
    "duration": 296,
    "start_time": "2022-12-18T12:07:57.655Z"
   },
   {
    "duration": 535,
    "start_time": "2022-12-18T12:07:57.953Z"
   },
   {
    "duration": 5,
    "start_time": "2022-12-18T12:07:58.490Z"
   },
   {
    "duration": 1103,
    "start_time": "2022-12-18T12:07:58.497Z"
   },
   {
    "duration": 331,
    "start_time": "2022-12-18T12:07:59.602Z"
   },
   {
    "duration": 4,
    "start_time": "2022-12-18T12:07:59.934Z"
   },
   {
    "duration": 24,
    "start_time": "2022-12-18T12:07:59.939Z"
   },
   {
    "duration": 20,
    "start_time": "2022-12-18T12:07:59.965Z"
   },
   {
    "duration": 35,
    "start_time": "2022-12-18T12:07:59.986Z"
   },
   {
    "duration": 6,
    "start_time": "2022-12-18T12:08:00.023Z"
   },
   {
    "duration": 9,
    "start_time": "2022-12-18T12:08:00.031Z"
   },
   {
    "duration": 9,
    "start_time": "2022-12-18T12:08:00.042Z"
   },
   {
    "duration": 21,
    "start_time": "2022-12-18T12:08:00.053Z"
   },
   {
    "duration": 6,
    "start_time": "2022-12-18T12:08:00.076Z"
   },
   {
    "duration": 42,
    "start_time": "2022-12-18T12:08:00.084Z"
   },
   {
    "duration": 95,
    "start_time": "2022-12-18T12:08:00.127Z"
   },
   {
    "duration": 120,
    "start_time": "2022-12-18T12:08:00.224Z"
   },
   {
    "duration": 90,
    "start_time": "2022-12-18T12:08:00.347Z"
   },
   {
    "duration": 25,
    "start_time": "2022-12-18T12:08:00.525Z"
   },
   {
    "duration": 16,
    "start_time": "2022-12-18T12:08:00.552Z"
   },
   {
    "duration": 46,
    "start_time": "2022-12-18T12:08:00.571Z"
   },
   {
    "duration": 1475,
    "start_time": "2022-12-18T12:08:57.226Z"
   },
   {
    "duration": 45,
    "start_time": "2022-12-18T12:08:58.703Z"
   },
   {
    "duration": 10,
    "start_time": "2022-12-18T12:08:58.750Z"
   },
   {
    "duration": 19,
    "start_time": "2022-12-18T12:08:58.761Z"
   },
   {
    "duration": 3,
    "start_time": "2022-12-18T12:08:58.784Z"
   },
   {
    "duration": 20,
    "start_time": "2022-12-18T12:08:58.789Z"
   },
   {
    "duration": 17,
    "start_time": "2022-12-18T12:08:58.811Z"
   },
   {
    "duration": 9,
    "start_time": "2022-12-18T12:08:58.830Z"
   },
   {
    "duration": 12,
    "start_time": "2022-12-18T12:08:58.841Z"
   },
   {
    "duration": 322,
    "start_time": "2022-12-18T12:08:58.855Z"
   },
   {
    "duration": 604,
    "start_time": "2022-12-18T12:08:59.180Z"
   },
   {
    "duration": 4,
    "start_time": "2022-12-18T12:08:59.786Z"
   },
   {
    "duration": 1106,
    "start_time": "2022-12-18T12:08:59.792Z"
   },
   {
    "duration": 361,
    "start_time": "2022-12-18T12:09:00.901Z"
   },
   {
    "duration": 4,
    "start_time": "2022-12-18T12:09:01.263Z"
   },
   {
    "duration": 74,
    "start_time": "2022-12-18T12:09:01.269Z"
   },
   {
    "duration": 32,
    "start_time": "2022-12-18T12:09:01.345Z"
   },
   {
    "duration": 13,
    "start_time": "2022-12-18T12:09:01.379Z"
   },
   {
    "duration": 37,
    "start_time": "2022-12-18T12:09:01.394Z"
   },
   {
    "duration": 44,
    "start_time": "2022-12-18T12:09:01.432Z"
   },
   {
    "duration": 47,
    "start_time": "2022-12-18T12:09:01.478Z"
   },
   {
    "duration": 48,
    "start_time": "2022-12-18T12:09:01.526Z"
   },
   {
    "duration": 50,
    "start_time": "2022-12-18T12:09:01.576Z"
   },
   {
    "duration": 25,
    "start_time": "2022-12-18T12:09:01.628Z"
   },
   {
    "duration": 168,
    "start_time": "2022-12-18T12:09:01.654Z"
   },
   {
    "duration": 26,
    "start_time": "2022-12-18T12:09:01.824Z"
   },
   {
    "duration": 170,
    "start_time": "2022-12-18T12:09:01.854Z"
   },
   {
    "duration": 12,
    "start_time": "2022-12-18T12:09:02.026Z"
   },
   {
    "duration": 6,
    "start_time": "2022-12-18T12:09:02.039Z"
   },
   {
    "duration": 10,
    "start_time": "2022-12-18T12:09:02.046Z"
   },
   {
    "duration": 1514,
    "start_time": "2022-12-18T12:26:51.934Z"
   },
   {
    "duration": 47,
    "start_time": "2022-12-18T12:26:53.450Z"
   },
   {
    "duration": 10,
    "start_time": "2022-12-18T12:26:53.498Z"
   },
   {
    "duration": 11,
    "start_time": "2022-12-18T12:26:53.510Z"
   },
   {
    "duration": 10,
    "start_time": "2022-12-18T12:26:53.522Z"
   },
   {
    "duration": 15,
    "start_time": "2022-12-18T12:26:53.534Z"
   },
   {
    "duration": 12,
    "start_time": "2022-12-18T12:26:53.550Z"
   },
   {
    "duration": 12,
    "start_time": "2022-12-18T12:26:53.563Z"
   },
   {
    "duration": 51,
    "start_time": "2022-12-18T12:26:53.576Z"
   },
   {
    "duration": 296,
    "start_time": "2022-12-18T12:26:53.631Z"
   },
   {
    "duration": 483,
    "start_time": "2022-12-18T12:26:53.929Z"
   },
   {
    "duration": 9,
    "start_time": "2022-12-18T12:26:54.413Z"
   },
   {
    "duration": 1180,
    "start_time": "2022-12-18T12:26:54.424Z"
   },
   {
    "duration": 345,
    "start_time": "2022-12-18T12:26:55.605Z"
   },
   {
    "duration": 4,
    "start_time": "2022-12-18T12:26:55.952Z"
   },
   {
    "duration": 32,
    "start_time": "2022-12-18T12:26:55.957Z"
   },
   {
    "duration": 45,
    "start_time": "2022-12-18T12:26:55.991Z"
   },
   {
    "duration": 6,
    "start_time": "2022-12-18T12:26:56.038Z"
   },
   {
    "duration": 7,
    "start_time": "2022-12-18T12:26:56.046Z"
   },
   {
    "duration": 7,
    "start_time": "2022-12-18T12:26:56.054Z"
   },
   {
    "duration": 7,
    "start_time": "2022-12-18T12:26:56.063Z"
   },
   {
    "duration": 65,
    "start_time": "2022-12-18T12:26:56.071Z"
   },
   {
    "duration": 7,
    "start_time": "2022-12-18T12:26:56.138Z"
   },
   {
    "duration": 79,
    "start_time": "2022-12-18T12:26:56.147Z"
   },
   {
    "duration": 100,
    "start_time": "2022-12-18T12:26:56.227Z"
   },
   {
    "duration": 10,
    "start_time": "2022-12-18T12:26:56.329Z"
   },
   {
    "duration": 194,
    "start_time": "2022-12-18T12:26:56.341Z"
   },
   {
    "duration": 12,
    "start_time": "2022-12-18T12:26:56.539Z"
   },
   {
    "duration": 6,
    "start_time": "2022-12-18T12:26:56.552Z"
   },
   {
    "duration": 10,
    "start_time": "2022-12-18T12:26:56.560Z"
   },
   {
    "duration": 1737645,
    "start_time": "2022-12-18T12:26:56.572Z"
   },
   {
    "duration": 117,
    "start_time": "2022-12-18T12:55:54.219Z"
   },
   {
    "duration": 0,
    "start_time": "2022-12-18T12:55:54.338Z"
   },
   {
    "duration": 0,
    "start_time": "2022-12-18T12:55:54.339Z"
   },
   {
    "duration": 0,
    "start_time": "2022-12-18T12:55:54.340Z"
   },
   {
    "duration": 0,
    "start_time": "2022-12-18T12:55:54.342Z"
   },
   {
    "duration": 0,
    "start_time": "2022-12-18T12:55:54.343Z"
   },
   {
    "duration": 0,
    "start_time": "2022-12-18T12:55:54.344Z"
   },
   {
    "duration": 0,
    "start_time": "2022-12-18T12:55:54.344Z"
   },
   {
    "duration": 0,
    "start_time": "2022-12-18T12:55:54.346Z"
   },
   {
    "duration": 0,
    "start_time": "2022-12-18T12:55:54.346Z"
   },
   {
    "duration": 0,
    "start_time": "2022-12-18T12:55:54.348Z"
   },
   {
    "duration": 0,
    "start_time": "2022-12-18T12:55:54.349Z"
   },
   {
    "duration": 0,
    "start_time": "2022-12-18T12:55:54.350Z"
   },
   {
    "duration": 0,
    "start_time": "2022-12-18T12:55:54.351Z"
   },
   {
    "duration": 0,
    "start_time": "2022-12-18T12:55:54.352Z"
   },
   {
    "duration": 0,
    "start_time": "2022-12-18T12:55:54.353Z"
   },
   {
    "duration": 0,
    "start_time": "2022-12-18T12:55:54.354Z"
   },
   {
    "duration": 0,
    "start_time": "2022-12-18T12:55:54.355Z"
   },
   {
    "duration": 0,
    "start_time": "2022-12-18T12:55:54.356Z"
   },
   {
    "duration": 0,
    "start_time": "2022-12-18T12:55:54.357Z"
   },
   {
    "duration": 0,
    "start_time": "2022-12-18T12:55:54.358Z"
   },
   {
    "duration": 0,
    "start_time": "2022-12-18T12:55:54.359Z"
   },
   {
    "duration": 0,
    "start_time": "2022-12-18T12:55:54.360Z"
   },
   {
    "duration": 0,
    "start_time": "2022-12-18T12:55:54.361Z"
   },
   {
    "duration": 0,
    "start_time": "2022-12-18T12:55:54.363Z"
   },
   {
    "duration": 0,
    "start_time": "2022-12-18T12:55:54.363Z"
   },
   {
    "duration": 0,
    "start_time": "2022-12-18T12:55:54.364Z"
   },
   {
    "duration": 0,
    "start_time": "2022-12-18T12:55:54.365Z"
   },
   {
    "duration": 0,
    "start_time": "2022-12-18T12:55:54.366Z"
   },
   {
    "duration": 0,
    "start_time": "2022-12-18T12:55:54.367Z"
   },
   {
    "duration": 0,
    "start_time": "2022-12-18T12:55:54.368Z"
   },
   {
    "duration": 0,
    "start_time": "2022-12-18T12:55:54.422Z"
   },
   {
    "duration": 3,
    "start_time": "2022-12-18T12:56:35.052Z"
   },
   {
    "duration": 4,
    "start_time": "2022-12-18T12:56:41.827Z"
   },
   {
    "duration": 4,
    "start_time": "2022-12-18T12:56:48.543Z"
   },
   {
    "duration": 3,
    "start_time": "2022-12-18T12:57:03.059Z"
   },
   {
    "duration": 3,
    "start_time": "2022-12-18T12:57:03.753Z"
   },
   {
    "duration": 590322,
    "start_time": "2022-12-18T12:57:04.750Z"
   },
   {
    "duration": 2,
    "start_time": "2022-12-18T13:06:55.074Z"
   },
   {
    "duration": 4,
    "start_time": "2022-12-18T13:11:04.374Z"
   },
   {
    "duration": 4,
    "start_time": "2022-12-18T13:11:19.818Z"
   },
   {
    "duration": 4,
    "start_time": "2022-12-18T13:11:48.918Z"
   },
   {
    "duration": 4602,
    "start_time": "2022-12-18T13:11:58.682Z"
   },
   {
    "duration": 9,
    "start_time": "2022-12-18T13:12:11.233Z"
   },
   {
    "duration": 10,
    "start_time": "2022-12-18T13:12:23.738Z"
   },
   {
    "duration": 5,
    "start_time": "2022-12-18T13:12:43.533Z"
   },
   {
    "duration": 3,
    "start_time": "2022-12-18T13:12:45.332Z"
   },
   {
    "duration": 15,
    "start_time": "2022-12-18T13:12:47.717Z"
   },
   {
    "duration": 3,
    "start_time": "2022-12-18T13:13:10.147Z"
   },
   {
    "duration": 16,
    "start_time": "2022-12-18T13:13:14.025Z"
   },
   {
    "duration": 3,
    "start_time": "2022-12-18T13:13:20.737Z"
   },
   {
    "duration": 1808,
    "start_time": "2022-12-18T13:13:23.845Z"
   },
   {
    "duration": 8,
    "start_time": "2022-12-18T13:13:28.579Z"
   },
   {
    "duration": 2,
    "start_time": "2022-12-18T13:13:33.243Z"
   },
   {
    "duration": 1105,
    "start_time": "2022-12-18T13:13:36.655Z"
   },
   {
    "duration": 6,
    "start_time": "2022-12-18T13:13:37.762Z"
   },
   {
    "duration": 10,
    "start_time": "2022-12-18T13:13:44.768Z"
   },
   {
    "duration": 6,
    "start_time": "2022-12-18T13:13:59.563Z"
   },
   {
    "duration": 9,
    "start_time": "2022-12-18T13:14:02.737Z"
   },
   {
    "duration": 6,
    "start_time": "2022-12-18T13:14:06.743Z"
   },
   {
    "duration": 4,
    "start_time": "2022-12-18T13:14:07.863Z"
   },
   {
    "duration": 5137,
    "start_time": "2022-12-18T13:14:09.167Z"
   },
   {
    "duration": 9,
    "start_time": "2022-12-18T13:14:17.287Z"
   },
   {
    "duration": 6,
    "start_time": "2022-12-18T13:14:28.711Z"
   },
   {
    "duration": 391,
    "start_time": "2022-12-18T13:14:33.912Z"
   },
   {
    "duration": 13,
    "start_time": "2022-12-18T13:21:10.173Z"
   },
   {
    "duration": 12,
    "start_time": "2022-12-18T13:22:24.470Z"
   },
   {
    "duration": 13,
    "start_time": "2022-12-18T13:23:23.358Z"
   },
   {
    "duration": 13,
    "start_time": "2022-12-18T13:24:08.776Z"
   },
   {
    "duration": 17,
    "start_time": "2022-12-18T13:24:14.718Z"
   },
   {
    "duration": 10,
    "start_time": "2022-12-18T13:24:27.438Z"
   },
   {
    "duration": 14,
    "start_time": "2022-12-18T13:24:34.556Z"
   },
   {
    "duration": 11,
    "start_time": "2022-12-18T13:25:23.376Z"
   },
   {
    "duration": 3,
    "start_time": "2022-12-18T13:26:00.264Z"
   },
   {
    "duration": 3864,
    "start_time": "2022-12-18T13:26:06.533Z"
   },
   {
    "duration": 9,
    "start_time": "2022-12-18T13:26:17.473Z"
   },
   {
    "duration": 11,
    "start_time": "2022-12-18T13:26:28.404Z"
   },
   {
    "duration": 11,
    "start_time": "2022-12-18T13:26:46.308Z"
   },
   {
    "duration": 10,
    "start_time": "2022-12-18T13:28:24.286Z"
   },
   {
    "duration": 19,
    "start_time": "2022-12-18T13:29:05.522Z"
   },
   {
    "duration": 14,
    "start_time": "2022-12-18T13:29:22.745Z"
   },
   {
    "duration": 14,
    "start_time": "2022-12-18T13:30:18.515Z"
   },
   {
    "duration": 13,
    "start_time": "2022-12-18T13:32:03.117Z"
   },
   {
    "duration": 6,
    "start_time": "2022-12-18T13:32:15.008Z"
   },
   {
    "duration": 6,
    "start_time": "2022-12-18T13:32:17.868Z"
   },
   {
    "duration": 4491,
    "start_time": "2022-12-18T13:32:20.654Z"
   },
   {
    "duration": 10,
    "start_time": "2022-12-18T13:32:29.963Z"
   },
   {
    "duration": 15,
    "start_time": "2022-12-18T13:37:55.311Z"
   },
   {
    "duration": 7,
    "start_time": "2022-12-18T13:38:01.481Z"
   },
   {
    "duration": 10,
    "start_time": "2022-12-18T13:39:59.737Z"
   }
  ],
  "kernelspec": {
   "display_name": "Python 3 (ipykernel)",
   "language": "python",
   "name": "python3"
  },
  "language_info": {
   "codemirror_mode": {
    "name": "ipython",
    "version": 3
   },
   "file_extension": ".py",
   "mimetype": "text/x-python",
   "name": "python",
   "nbconvert_exporter": "python",
   "pygments_lexer": "ipython3",
   "version": "3.9.5"
  },
  "toc": {
   "base_numbering": 1,
   "nav_menu": {},
   "number_sections": true,
   "sideBar": true,
   "skip_h1_title": true,
   "title_cell": "Содержание",
   "title_sidebar": "Contents",
   "toc_cell": true,
   "toc_position": {
    "height": "calc(100% - 180px)",
    "left": "10px",
    "top": "150px",
    "width": "165px"
   },
   "toc_section_display": true,
   "toc_window_display": true
  }
 },
 "nbformat": 4,
 "nbformat_minor": 2
}

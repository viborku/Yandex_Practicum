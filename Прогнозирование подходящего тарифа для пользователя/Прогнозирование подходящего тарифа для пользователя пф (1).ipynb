{
 "cells": [
  {
   "cell_type": "markdown",
   "metadata": {},
   "source": [
    "# Рекомендация тарифов"
   ]
  },
  {
   "cell_type": "markdown",
   "metadata": {},
   "source": [
    "В нашем распоряжении данные о поведении клиентов, которые уже перешли на эти тарифы (из проекта курса «Статистический анализ данных»). Нужно построить модель для задачи классификации, которая выберет подходящий тариф. Предобработка данных не понадобится — вы её уже сделали.\n",
    "\n",
    "Построим модель с максимально большим значением *accuracy*. Чтобы сдать проект успешно, нужно довести долю правильных ответов по крайней мере до 0.75. Проверить *accuracy* на тестовой выборке."
   ]
  },
  {
   "cell_type": "markdown",
   "metadata": {},
   "source": [
    " ## Открываем и изучаем файл"
   ]
  },
  {
   "cell_type": "markdown",
   "metadata": {},
   "source": [
    "### Подключение необходимых библиотек"
   ]
  },
  {
   "cell_type": "code",
   "execution_count": 1,
   "metadata": {},
   "outputs": [],
   "source": [
    "import pandas as pd\n",
    "from sklearn.model_selection import train_test_split\n",
    "from sklearn.tree import DecisionTreeClassifier\n",
    "from sklearn.ensemble import RandomForestClassifier\n",
    "from sklearn.linear_model import LogisticRegression\n",
    "from sklearn.linear_model import LinearRegression\n",
    "from sklearn.metrics import accuracy_score\n",
    "import seaborn as sns\n",
    "sns.set_style('darkgrid')\n",
    "import matplotlib.pyplot as plt\n",
    "import joblib"
   ]
  },
  {
   "cell_type": "markdown",
   "metadata": {},
   "source": [
    "### Открытие файла "
   ]
  },
  {
   "cell_type": "code",
   "execution_count": 2,
   "metadata": {
    "scrolled": true
   },
   "outputs": [
    {
     "data": {
      "text/html": [
       "<div>\n",
       "<style scoped>\n",
       "    .dataframe tbody tr th:only-of-type {\n",
       "        vertical-align: middle;\n",
       "    }\n",
       "\n",
       "    .dataframe tbody tr th {\n",
       "        vertical-align: top;\n",
       "    }\n",
       "\n",
       "    .dataframe thead th {\n",
       "        text-align: right;\n",
       "    }\n",
       "</style>\n",
       "<table border=\"1\" class=\"dataframe\">\n",
       "  <thead>\n",
       "    <tr style=\"text-align: right;\">\n",
       "      <th></th>\n",
       "      <th>calls</th>\n",
       "      <th>minutes</th>\n",
       "      <th>messages</th>\n",
       "      <th>mb_used</th>\n",
       "      <th>is_ultra</th>\n",
       "    </tr>\n",
       "  </thead>\n",
       "  <tbody>\n",
       "    <tr>\n",
       "      <th>0</th>\n",
       "      <td>40.0</td>\n",
       "      <td>311.90</td>\n",
       "      <td>83.0</td>\n",
       "      <td>19915.42</td>\n",
       "      <td>0</td>\n",
       "    </tr>\n",
       "    <tr>\n",
       "      <th>1</th>\n",
       "      <td>85.0</td>\n",
       "      <td>516.75</td>\n",
       "      <td>56.0</td>\n",
       "      <td>22696.96</td>\n",
       "      <td>0</td>\n",
       "    </tr>\n",
       "    <tr>\n",
       "      <th>2</th>\n",
       "      <td>77.0</td>\n",
       "      <td>467.66</td>\n",
       "      <td>86.0</td>\n",
       "      <td>21060.45</td>\n",
       "      <td>0</td>\n",
       "    </tr>\n",
       "    <tr>\n",
       "      <th>3</th>\n",
       "      <td>106.0</td>\n",
       "      <td>745.53</td>\n",
       "      <td>81.0</td>\n",
       "      <td>8437.39</td>\n",
       "      <td>1</td>\n",
       "    </tr>\n",
       "    <tr>\n",
       "      <th>4</th>\n",
       "      <td>66.0</td>\n",
       "      <td>418.74</td>\n",
       "      <td>1.0</td>\n",
       "      <td>14502.75</td>\n",
       "      <td>0</td>\n",
       "    </tr>\n",
       "    <tr>\n",
       "      <th>...</th>\n",
       "      <td>...</td>\n",
       "      <td>...</td>\n",
       "      <td>...</td>\n",
       "      <td>...</td>\n",
       "      <td>...</td>\n",
       "    </tr>\n",
       "    <tr>\n",
       "      <th>3209</th>\n",
       "      <td>122.0</td>\n",
       "      <td>910.98</td>\n",
       "      <td>20.0</td>\n",
       "      <td>35124.90</td>\n",
       "      <td>1</td>\n",
       "    </tr>\n",
       "    <tr>\n",
       "      <th>3210</th>\n",
       "      <td>25.0</td>\n",
       "      <td>190.36</td>\n",
       "      <td>0.0</td>\n",
       "      <td>3275.61</td>\n",
       "      <td>0</td>\n",
       "    </tr>\n",
       "    <tr>\n",
       "      <th>3211</th>\n",
       "      <td>97.0</td>\n",
       "      <td>634.44</td>\n",
       "      <td>70.0</td>\n",
       "      <td>13974.06</td>\n",
       "      <td>0</td>\n",
       "    </tr>\n",
       "    <tr>\n",
       "      <th>3212</th>\n",
       "      <td>64.0</td>\n",
       "      <td>462.32</td>\n",
       "      <td>90.0</td>\n",
       "      <td>31239.78</td>\n",
       "      <td>0</td>\n",
       "    </tr>\n",
       "    <tr>\n",
       "      <th>3213</th>\n",
       "      <td>80.0</td>\n",
       "      <td>566.09</td>\n",
       "      <td>6.0</td>\n",
       "      <td>29480.52</td>\n",
       "      <td>1</td>\n",
       "    </tr>\n",
       "  </tbody>\n",
       "</table>\n",
       "<p>3214 rows × 5 columns</p>\n",
       "</div>"
      ],
      "text/plain": [
       "      calls  minutes  messages   mb_used  is_ultra\n",
       "0      40.0   311.90      83.0  19915.42         0\n",
       "1      85.0   516.75      56.0  22696.96         0\n",
       "2      77.0   467.66      86.0  21060.45         0\n",
       "3     106.0   745.53      81.0   8437.39         1\n",
       "4      66.0   418.74       1.0  14502.75         0\n",
       "...     ...      ...       ...       ...       ...\n",
       "3209  122.0   910.98      20.0  35124.90         1\n",
       "3210   25.0   190.36       0.0   3275.61         0\n",
       "3211   97.0   634.44      70.0  13974.06         0\n",
       "3212   64.0   462.32      90.0  31239.78         0\n",
       "3213   80.0   566.09       6.0  29480.52         1\n",
       "\n",
       "[3214 rows x 5 columns]"
      ]
     },
     "metadata": {},
     "output_type": "display_data"
    }
   ],
   "source": [
    "# Сохраним датасет в переменную df и выведем ее\n",
    "df = pd.read_csv('/datasets/users_behavior.csv')\n",
    "display(df)"
   ]
  },
  {
   "cell_type": "markdown",
   "metadata": {},
   "source": [
    "### Описание данных"
   ]
  },
  {
   "cell_type": "markdown",
   "metadata": {},
   "source": [
    "Каждый объект в наборе данных — это информация о поведении одного пользователя за месяц. Известно:\n",
    "сalls — количество звонков,\n",
    "minutes — суммарная длительность звонков в минутах,\n",
    "messages — количество sms-сообщений,\n",
    "mb_used — израсходованный интернет-трафик в Мб,\n",
    "is_ultra — каким тарифом пользовался в течение месяца («Ультра» — 1, «Смарт» — 0)."
   ]
  },
  {
   "cell_type": "code",
   "execution_count": 3,
   "metadata": {},
   "outputs": [
    {
     "data": {
      "text/html": [
       "<div>\n",
       "<style scoped>\n",
       "    .dataframe tbody tr th:only-of-type {\n",
       "        vertical-align: middle;\n",
       "    }\n",
       "\n",
       "    .dataframe tbody tr th {\n",
       "        vertical-align: top;\n",
       "    }\n",
       "\n",
       "    .dataframe thead th {\n",
       "        text-align: right;\n",
       "    }\n",
       "</style>\n",
       "<table border=\"1\" class=\"dataframe\">\n",
       "  <thead>\n",
       "    <tr style=\"text-align: right;\">\n",
       "      <th></th>\n",
       "      <th>calls</th>\n",
       "      <th>minutes</th>\n",
       "      <th>messages</th>\n",
       "      <th>mb_used</th>\n",
       "      <th>is_ultra</th>\n",
       "    </tr>\n",
       "  </thead>\n",
       "  <tbody>\n",
       "    <tr>\n",
       "      <th>count</th>\n",
       "      <td>3214.000000</td>\n",
       "      <td>3214.000000</td>\n",
       "      <td>3214.000000</td>\n",
       "      <td>3214.000000</td>\n",
       "      <td>3214.000000</td>\n",
       "    </tr>\n",
       "    <tr>\n",
       "      <th>mean</th>\n",
       "      <td>63.038892</td>\n",
       "      <td>438.208787</td>\n",
       "      <td>38.281269</td>\n",
       "      <td>17207.673836</td>\n",
       "      <td>0.306472</td>\n",
       "    </tr>\n",
       "    <tr>\n",
       "      <th>std</th>\n",
       "      <td>33.236368</td>\n",
       "      <td>234.569872</td>\n",
       "      <td>36.148326</td>\n",
       "      <td>7570.968246</td>\n",
       "      <td>0.461100</td>\n",
       "    </tr>\n",
       "    <tr>\n",
       "      <th>min</th>\n",
       "      <td>0.000000</td>\n",
       "      <td>0.000000</td>\n",
       "      <td>0.000000</td>\n",
       "      <td>0.000000</td>\n",
       "      <td>0.000000</td>\n",
       "    </tr>\n",
       "    <tr>\n",
       "      <th>25%</th>\n",
       "      <td>40.000000</td>\n",
       "      <td>274.575000</td>\n",
       "      <td>9.000000</td>\n",
       "      <td>12491.902500</td>\n",
       "      <td>0.000000</td>\n",
       "    </tr>\n",
       "    <tr>\n",
       "      <th>50%</th>\n",
       "      <td>62.000000</td>\n",
       "      <td>430.600000</td>\n",
       "      <td>30.000000</td>\n",
       "      <td>16943.235000</td>\n",
       "      <td>0.000000</td>\n",
       "    </tr>\n",
       "    <tr>\n",
       "      <th>75%</th>\n",
       "      <td>82.000000</td>\n",
       "      <td>571.927500</td>\n",
       "      <td>57.000000</td>\n",
       "      <td>21424.700000</td>\n",
       "      <td>1.000000</td>\n",
       "    </tr>\n",
       "    <tr>\n",
       "      <th>max</th>\n",
       "      <td>244.000000</td>\n",
       "      <td>1632.060000</td>\n",
       "      <td>224.000000</td>\n",
       "      <td>49745.730000</td>\n",
       "      <td>1.000000</td>\n",
       "    </tr>\n",
       "  </tbody>\n",
       "</table>\n",
       "</div>"
      ],
      "text/plain": [
       "             calls      minutes     messages       mb_used     is_ultra\n",
       "count  3214.000000  3214.000000  3214.000000   3214.000000  3214.000000\n",
       "mean     63.038892   438.208787    38.281269  17207.673836     0.306472\n",
       "std      33.236368   234.569872    36.148326   7570.968246     0.461100\n",
       "min       0.000000     0.000000     0.000000      0.000000     0.000000\n",
       "25%      40.000000   274.575000     9.000000  12491.902500     0.000000\n",
       "50%      62.000000   430.600000    30.000000  16943.235000     0.000000\n",
       "75%      82.000000   571.927500    57.000000  21424.700000     1.000000\n",
       "max     244.000000  1632.060000   224.000000  49745.730000     1.000000"
      ]
     },
     "execution_count": 3,
     "metadata": {},
     "output_type": "execute_result"
    }
   ],
   "source": [
    "df.describe()"
   ]
  },
  {
   "cell_type": "code",
   "execution_count": 4,
   "metadata": {},
   "outputs": [
    {
     "name": "stdout",
     "output_type": "stream",
     "text": [
      "<class 'pandas.core.frame.DataFrame'>\n",
      "RangeIndex: 3214 entries, 0 to 3213\n",
      "Data columns (total 5 columns):\n",
      " #   Column    Non-Null Count  Dtype  \n",
      "---  ------    --------------  -----  \n",
      " 0   calls     3214 non-null   float64\n",
      " 1   minutes   3214 non-null   float64\n",
      " 2   messages  3214 non-null   float64\n",
      " 3   mb_used   3214 non-null   float64\n",
      " 4   is_ultra  3214 non-null   int64  \n",
      "dtypes: float64(4), int64(1)\n",
      "memory usage: 125.7 KB\n"
     ]
    }
   ],
   "source": [
    "df.info()"
   ]
  },
  {
   "cell_type": "code",
   "execution_count": 5,
   "metadata": {},
   "outputs": [
    {
     "data": {
      "text/plain": [
       "calls       0.0\n",
       "minutes     0.0\n",
       "messages    0.0\n",
       "mb_used     0.0\n",
       "is_ultra    0.0\n",
       "dtype: float64"
      ]
     },
     "execution_count": 5,
     "metadata": {},
     "output_type": "execute_result"
    }
   ],
   "source": [
    "df.isna().mean()"
   ]
  },
  {
   "cell_type": "code",
   "execution_count": 6,
   "metadata": {
    "scrolled": true
   },
   "outputs": [
    {
     "data": {
      "image/png": "[encoded data removed]",
      "text/plain": [
       "<Figure size 1080x1440 with 1 Axes>"
      ]
     },
     "metadata": {},
     "output_type": "display_data"
    }
   ],
   "source": [
    "df[['calls', 'minutes', 'messages', 'mb_used', 'is_ultra']].boxplot(figsize=(15,20));"
   ]
  },
  {
   "cell_type": "code",
   "execution_count": 7,
   "metadata": {},
   "outputs": [
    {
     "name": "stdout",
     "output_type": "stream",
     "text": [
      "3.3 %\n",
      "количество позиций, у которых траффик превышает 33000 mb\n"
     ]
    }
   ],
   "source": [
    "n = df.loc[df['mb_used'] >33000]['mb_used'].count()\n",
    "print((n/len(df['mb_used'])*100).round(2), \"%\" ) \n",
    "print(\"количество позиций, у которых траффик превышает 33000 mb\")"
   ]
  },
  {
   "cell_type": "code",
   "execution_count": 8,
   "metadata": {},
   "outputs": [
    {
     "name": "stdout",
     "output_type": "stream",
     "text": [
      "             calls   minutes  messages   mb_used  is_ultra\n",
      "calls     1.000000  0.982083  0.177385  0.286442  0.207122\n",
      "minutes   0.982083  1.000000  0.173110  0.280967  0.206955\n",
      "messages  0.177385  0.173110  1.000000  0.195721  0.203830\n",
      "mb_used   0.286442  0.280967  0.195721  1.000000  0.198568\n",
      "is_ultra  0.207122  0.206955  0.203830  0.198568  1.000000\n"
     ]
    }
   ],
   "source": [
    "print(df.corr())"
   ]
  },
  {
   "cell_type": "markdown",
   "metadata": {},
   "source": [
    "Матрица корреляций показывает большую зависимость между calls и minutes. Посмотрим на графиках."
   ]
  },
  {
   "cell_type": "code",
   "execution_count": 9,
   "metadata": {},
   "outputs": [
    {
     "data": {
      "image/png": "[encoded data removed]",
      "text/plain": [
       "<Figure size 1080x1080 with 25 Axes>"
      ]
     },
     "metadata": {},
     "output_type": "display_data"
    }
   ],
   "source": [
    "pd.plotting.scatter_matrix(df, figsize=(15, 15))\n",
    "plt.show()"
   ]
  },
  {
   "cell_type": "markdown",
   "metadata": {},
   "source": [
    "Графики показывают прямую линейную зависимость между звонками и минутами. "
   ]
  },
  {
   "cell_type": "markdown",
   "metadata": {},
   "source": [
    "Создадим отдельный датасет без одного из признаков (например, без звонков). Посмотрим, как это повлияет на качество моделей.</div> "
   ]
  },
  {
   "cell_type": "code",
   "execution_count": 10,
   "metadata": {
    "scrolled": false
   },
   "outputs": [
    {
     "data": {
      "text/html": [
       "<div>\n",
       "<style scoped>\n",
       "    .dataframe tbody tr th:only-of-type {\n",
       "        vertical-align: middle;\n",
       "    }\n",
       "\n",
       "    .dataframe tbody tr th {\n",
       "        vertical-align: top;\n",
       "    }\n",
       "\n",
       "    .dataframe thead th {\n",
       "        text-align: right;\n",
       "    }\n",
       "</style>\n",
       "<table border=\"1\" class=\"dataframe\">\n",
       "  <thead>\n",
       "    <tr style=\"text-align: right;\">\n",
       "      <th></th>\n",
       "      <th>minutes</th>\n",
       "      <th>messages</th>\n",
       "      <th>mb_used</th>\n",
       "      <th>is_ultra</th>\n",
       "    </tr>\n",
       "  </thead>\n",
       "  <tbody>\n",
       "    <tr>\n",
       "      <th>0</th>\n",
       "      <td>311.90</td>\n",
       "      <td>83.0</td>\n",
       "      <td>19915.42</td>\n",
       "      <td>0</td>\n",
       "    </tr>\n",
       "    <tr>\n",
       "      <th>1</th>\n",
       "      <td>516.75</td>\n",
       "      <td>56.0</td>\n",
       "      <td>22696.96</td>\n",
       "      <td>0</td>\n",
       "    </tr>\n",
       "    <tr>\n",
       "      <th>2</th>\n",
       "      <td>467.66</td>\n",
       "      <td>86.0</td>\n",
       "      <td>21060.45</td>\n",
       "      <td>0</td>\n",
       "    </tr>\n",
       "    <tr>\n",
       "      <th>3</th>\n",
       "      <td>745.53</td>\n",
       "      <td>81.0</td>\n",
       "      <td>8437.39</td>\n",
       "      <td>1</td>\n",
       "    </tr>\n",
       "    <tr>\n",
       "      <th>4</th>\n",
       "      <td>418.74</td>\n",
       "      <td>1.0</td>\n",
       "      <td>14502.75</td>\n",
       "      <td>0</td>\n",
       "    </tr>\n",
       "    <tr>\n",
       "      <th>...</th>\n",
       "      <td>...</td>\n",
       "      <td>...</td>\n",
       "      <td>...</td>\n",
       "      <td>...</td>\n",
       "    </tr>\n",
       "    <tr>\n",
       "      <th>3209</th>\n",
       "      <td>910.98</td>\n",
       "      <td>20.0</td>\n",
       "      <td>35124.90</td>\n",
       "      <td>1</td>\n",
       "    </tr>\n",
       "    <tr>\n",
       "      <th>3210</th>\n",
       "      <td>190.36</td>\n",
       "      <td>0.0</td>\n",
       "      <td>3275.61</td>\n",
       "      <td>0</td>\n",
       "    </tr>\n",
       "    <tr>\n",
       "      <th>3211</th>\n",
       "      <td>634.44</td>\n",
       "      <td>70.0</td>\n",
       "      <td>13974.06</td>\n",
       "      <td>0</td>\n",
       "    </tr>\n",
       "    <tr>\n",
       "      <th>3212</th>\n",
       "      <td>462.32</td>\n",
       "      <td>90.0</td>\n",
       "      <td>31239.78</td>\n",
       "      <td>0</td>\n",
       "    </tr>\n",
       "    <tr>\n",
       "      <th>3213</th>\n",
       "      <td>566.09</td>\n",
       "      <td>6.0</td>\n",
       "      <td>29480.52</td>\n",
       "      <td>1</td>\n",
       "    </tr>\n",
       "  </tbody>\n",
       "</table>\n",
       "<p>3214 rows × 4 columns</p>\n",
       "</div>"
      ],
      "text/plain": [
       "      minutes  messages   mb_used  is_ultra\n",
       "0      311.90      83.0  19915.42         0\n",
       "1      516.75      56.0  22696.96         0\n",
       "2      467.66      86.0  21060.45         0\n",
       "3      745.53      81.0   8437.39         1\n",
       "4      418.74       1.0  14502.75         0\n",
       "...       ...       ...       ...       ...\n",
       "3209   910.98      20.0  35124.90         1\n",
       "3210   190.36       0.0   3275.61         0\n",
       "3211   634.44      70.0  13974.06         0\n",
       "3212   462.32      90.0  31239.78         0\n",
       "3213   566.09       6.0  29480.52         1\n",
       "\n",
       "[3214 rows x 4 columns]"
      ]
     },
     "execution_count": 10,
     "metadata": {},
     "output_type": "execute_result"
    }
   ],
   "source": [
    "df_min = df.drop(['calls'],axis = 1)\n",
    "df_min"
   ]
  },
  {
   "cell_type": "markdown",
   "metadata": {},
   "source": [
    "## Разбиваем данные на выборки"
   ]
  },
  {
   "cell_type": "code",
   "execution_count": 11,
   "metadata": {},
   "outputs": [],
   "source": [
    "df = df_min\n",
    "size = 0.20 "
   ]
  },
  {
   "cell_type": "markdown",
   "metadata": {},
   "source": [
    "Используя метод train_test_split, разобъем исходный датасет на 3 выборки, train, valid и test, в соотношении 60/20/20 % от общих данных, соответственно."
   ]
  },
  {
   "cell_type": "code",
   "execution_count": 12,
   "metadata": {},
   "outputs": [
    {
     "name": "stdout",
     "output_type": "stream",
     "text": [
      "Размер обучающей выборки: 2571 объектов\n",
      "Размер валидационной выборки: 321 объекта\n",
      "Размер тестовой выборки: 322 объекта\n"
     ]
    }
   ],
   "source": [
    "#С помощью train_test_split Разделим датасет на следующие выборки \n",
    "df_train, df_valid = train_test_split(df, test_size=size, random_state=12345)\n",
    "df_valid, df_test = train_test_split(df_valid,test_size = 0.5, random_state=12345)\n",
    "print('Размер обучающей выборки:', df_train.shape[0],'объектов')\n",
    "print('Размер валидационной выборки:', df_valid.shape[0],'объекта')\n",
    "print('Размер тестовой выборки:',df_test.shape[0],'объекта')\n"
   ]
  },
  {
   "cell_type": "markdown",
   "metadata": {},
   "source": [
    "Выделяем признаки (features) и целевой признак(target) в каждой выборке.\n",
    "Целевым признаком становятся значения столбца 'is_ultra', признаками - значения всех остальных столбцов."
   ]
  },
  {
   "cell_type": "code",
   "execution_count": 13,
   "metadata": {},
   "outputs": [],
   "source": [
    "#Присвоим переменным признаки и целевые признаки\n",
    "features = df.drop(['is_ultra'], axis=1)\n",
    "target = df['is_ultra']\n",
    "#Валидационная выборка\n",
    "valid_features = df_valid.drop(['is_ultra'], axis=1)\n",
    "valid_target = df_valid['is_ultra']\n",
    "#Обучающая выборка\n",
    "train_features = df_train.drop(['is_ultra'], axis=1)\n",
    "train_target = df_train['is_ultra']\n",
    "#Тестовая выборка\n",
    "test_features = df_test.drop(['is_ultra'], axis=1)\n",
    "test_target = df_test['is_ultra']\n"
   ]
  },
  {
   "cell_type": "markdown",
   "metadata": {},
   "source": [
    "В нашем портфеле необходимо решить задачу бинарной классификации - определить какой из двух тарифов {'smart' : 0, 'ultra' : 1} необходимо предложить клиентам на основании их текущего потребления услуг.\n",
    "Определив требуемый вид моделей переходим к исследованиям."
   ]
  },
  {
   "cell_type": "markdown",
   "metadata": {},
   "source": [
    "## Исследуем модели"
   ]
  },
  {
   "cell_type": "markdown",
   "metadata": {},
   "source": [
    "### Дерево решений (Decision Tree Classifier)"
   ]
  },
  {
   "cell_type": "code",
   "execution_count": 14,
   "metadata": {
    "scrolled": false
   },
   "outputs": [
    {
     "name": "stdout",
     "output_type": "stream",
     "text": [
      "Depth: 1 Accuracy: 0.7414330218068536\n",
      "Depth: 2 Accuracy: 0.7819314641744548\n",
      "Depth: 3 Accuracy: 0.7881619937694704\n",
      "Depth: 4 Accuracy: 0.794392523364486\n",
      "Depth: 5 Accuracy: 0.778816199376947\n",
      "Depth: 6 Accuracy: 0.7850467289719626\n",
      "Depth: 7 Accuracy: 0.7819314641744548\n",
      "Depth: 8 Accuracy: 0.778816199376947\n",
      "Depth: 9 Accuracy: 0.7757009345794392\n",
      "\n",
      "Лушие: Depth 4 Accuracy 0.794392523364486\n",
      "\n",
      "\n"
     ]
    },
    {
     "data": {
      "image/png": "[encoded data removed]",
      "text/plain": [
       "<Figure size 720x360 with 1 Axes>"
      ]
     },
     "metadata": {},
     "output_type": "display_data"
    },
    {
     "name": "stdout",
     "output_type": "stream",
     "text": [
      "\n",
      "\n",
      "\n"
     ]
    }
   ],
   "source": [
    "#Обучим модель Дерево Решений и проверим разные глубины\n",
    "\n",
    "depths = []\n",
    "DTC_accuracies = []\n",
    "plt.figure(figsize=(10, 5))\n",
    "DTC_best_accuracies=0\n",
    "best_depth=-1\n",
    "i=-1\n",
    "for depth in range(1,10):\n",
    " i+=1    \n",
    " model = DecisionTreeClassifier(random_state=12345, max_depth=depth)\n",
    " model.fit(train_features,train_target)\n",
    " predictions = model.predict(valid_features)\n",
    " score = accuracy_score(valid_target, predictions)\n",
    " depths.append(depth)\n",
    " DTC_accuracies.append(score)\n",
    " print('Depth:', depth, end='')\n",
    " print(' Accuracy:', score)\n",
    " if DTC_accuracies[i] > DTC_best_accuracies:\n",
    "  DTC_best_accuracies = DTC_accuracies[i]\n",
    "  best_depth=depth \n",
    " sns.lineplot(data=pd.DataFrame(data=DTC_accuracies, index=depths),dashes=False)\n",
    " plt.legend('')\n",
    "print()\n",
    "print(\"Лушие: Depth\", best_depth, \"Accuracy\", DTC_best_accuracies)    \n",
    "print('\\n')\n",
    "plt.title(\"Выберем лучшую accuracy при разных глубинах\", fontsize=15)\n",
    "plt.ylabel(\"Accuracies\")\n",
    "plt.xlabel(\"Max depths\")\n",
    "plt.show()\n",
    "print('\\n\\n')"
   ]
  },
  {
   "cell_type": "markdown",
   "metadata": {},
   "source": [
    "### Случайный лес (Random Forest Classifier) "
   ]
  },
  {
   "cell_type": "code",
   "execution_count": 15,
   "metadata": {
    "scrolled": false
   },
   "outputs": [
    {
     "name": "stdout",
     "output_type": "stream",
     "text": [
      "Estimator: 10 Accuracy: 0.8006230529595015\n",
      "Estimator: 15 Accuracy: 0.8006230529595015\n",
      "Estimator: 20 Accuracy: 0.7975077881619937\n",
      "Estimator: 25 Accuracy: 0.8006230529595015\n",
      "Estimator: 30 Accuracy: 0.794392523364486\n",
      "Estimator: 35 Accuracy: 0.7975077881619937\n",
      "Estimator: 40 Accuracy: 0.8006230529595015\n",
      "Estimator: 45 Accuracy: 0.8006230529595015\n",
      "Estimator: 50 Accuracy: 0.794392523364486\n",
      "\n",
      "Лушие: Estimator 10 Accuracy 0.8006230529595015\n",
      "\n",
      "\n"
     ]
    },
    {
     "data": {
      "image/png": "[encoded data removed]",
      "text/plain": [
       "<Figure size 720x360 with 1 Axes>"
      ]
     },
     "metadata": {},
     "output_type": "display_data"
    },
    {
     "name": "stdout",
     "output_type": "stream",
     "text": [
      "\n",
      "\n",
      "\n"
     ]
    }
   ],
   "source": [
    "#Обучим модель случайный лес с разным количеством деревьев в лесу.\n",
    "\n",
    "estimators = []\n",
    "RFC_accuracies = []\n",
    "best_accuracies=0\n",
    "best_estim=-1\n",
    "i=-1\n",
    "plt.figure(figsize=(10, 5))\n",
    "for estim in range(10,51,5):\n",
    " i+=1   \n",
    " model = RandomForestClassifier(random_state=12345, n_estimators=estim)\n",
    " model.fit(train_features, train_target)\n",
    " predictions = model.predict(valid_features)\n",
    " score = accuracy_score(valid_target, predictions)\n",
    " estimators.append(estim)\n",
    " RFC_accuracies.append(score)\n",
    " if RFC_accuracies[i] > best_accuracies:\n",
    "  best_accuracies = RFC_accuracies[i]\n",
    "  best_estim=estim \n",
    " print('Estimator:', estim, end='')\n",
    " print(' Accuracy:', score)\n",
    " sns.lineplot(data=pd.DataFrame(data=RFC_accuracies, index=estimators),legend='brief')\n",
    " plt.legend('')\n",
    "print()\n",
    "print(\"Лушие: Estimator\", best_estim, \"Accuracy\", best_accuracies)\n",
    "print('\\n')\n",
    "plt.title(\"Выберем лучшую accuracy при разном количестве деревьев\", fontsize=15)\n",
    "plt.ylabel(\"Accuracies\")\n",
    "plt.xlabel(\"Estimators\")\n",
    "plt.show()\n",
    "print('\\n\\n')\n"
   ]
  },
  {
   "cell_type": "markdown",
   "metadata": {},
   "source": [
    "Лучший результат max_depth = 9, accuracy = 0.8068535825545171 "
   ]
  },
  {
   "cell_type": "markdown",
   "metadata": {},
   "source": [
    "### Логистическая регрессия (Logistic Regression)"
   ]
  },
  {
   "cell_type": "code",
   "execution_count": 16,
   "metadata": {},
   "outputs": [
    {
     "name": "stdout",
     "output_type": "stream",
     "text": [
      "accuracy = 0.7663551401869159\n"
     ]
    }
   ],
   "source": [
    "model = LogisticRegression(random_state=12345, solver='lbfgs', max_iter=1000) \n",
    "model.fit(train_features, train_target)\n",
    "\n",
    "#valid_prediction = model_lr.predict(valid_features)\n",
    "\n",
    "print('accuracy =', model.score(valid_features, valid_target))"
   ]
  },
  {
   "cell_type": "code",
   "execution_count": 17,
   "metadata": {
    "scrolled": true
   },
   "outputs": [
    {
     "data": {
      "text/html": [
       "<div>\n",
       "<style scoped>\n",
       "    .dataframe tbody tr th:only-of-type {\n",
       "        vertical-align: middle;\n",
       "    }\n",
       "\n",
       "    .dataframe tbody tr th {\n",
       "        vertical-align: top;\n",
       "    }\n",
       "\n",
       "    .dataframe thead th {\n",
       "        text-align: right;\n",
       "    }\n",
       "</style>\n",
       "<table border=\"1\" class=\"dataframe\">\n",
       "  <thead>\n",
       "    <tr style=\"text-align: right;\">\n",
       "      <th></th>\n",
       "      <th>DecisionTreeClassifier</th>\n",
       "      <th>RandomForestClassifier</th>\n",
       "      <th>LogisticRegression</th>\n",
       "    </tr>\n",
       "  </thead>\n",
       "  <tbody>\n",
       "    <tr>\n",
       "      <th>0</th>\n",
       "      <td>0.741433</td>\n",
       "      <td>0.800623</td>\n",
       "      <td>0.766355</td>\n",
       "    </tr>\n",
       "    <tr>\n",
       "      <th>1</th>\n",
       "      <td>0.781931</td>\n",
       "      <td>0.800623</td>\n",
       "      <td>0.766355</td>\n",
       "    </tr>\n",
       "    <tr>\n",
       "      <th>2</th>\n",
       "      <td>0.788162</td>\n",
       "      <td>0.797508</td>\n",
       "      <td>0.766355</td>\n",
       "    </tr>\n",
       "    <tr>\n",
       "      <th>3</th>\n",
       "      <td>0.794393</td>\n",
       "      <td>0.800623</td>\n",
       "      <td>0.766355</td>\n",
       "    </tr>\n",
       "    <tr>\n",
       "      <th>4</th>\n",
       "      <td>0.778816</td>\n",
       "      <td>0.794393</td>\n",
       "      <td>0.766355</td>\n",
       "    </tr>\n",
       "    <tr>\n",
       "      <th>5</th>\n",
       "      <td>0.785047</td>\n",
       "      <td>0.797508</td>\n",
       "      <td>0.766355</td>\n",
       "    </tr>\n",
       "    <tr>\n",
       "      <th>6</th>\n",
       "      <td>0.781931</td>\n",
       "      <td>0.800623</td>\n",
       "      <td>0.766355</td>\n",
       "    </tr>\n",
       "    <tr>\n",
       "      <th>7</th>\n",
       "      <td>0.778816</td>\n",
       "      <td>0.800623</td>\n",
       "      <td>0.766355</td>\n",
       "    </tr>\n",
       "    <tr>\n",
       "      <th>8</th>\n",
       "      <td>0.775701</td>\n",
       "      <td>0.794393</td>\n",
       "      <td>0.766355</td>\n",
       "    </tr>\n",
       "  </tbody>\n",
       "</table>\n",
       "</div>"
      ],
      "text/plain": [
       "   DecisionTreeClassifier  RandomForestClassifier  LogisticRegression\n",
       "0                0.741433                0.800623            0.766355\n",
       "1                0.781931                0.800623            0.766355\n",
       "2                0.788162                0.797508            0.766355\n",
       "3                0.794393                0.800623            0.766355\n",
       "4                0.778816                0.794393            0.766355\n",
       "5                0.785047                0.797508            0.766355\n",
       "6                0.781931                0.800623            0.766355\n",
       "7                0.778816                0.800623            0.766355\n",
       "8                0.775701                0.794393            0.766355"
      ]
     },
     "execution_count": 17,
     "metadata": {},
     "output_type": "execute_result"
    }
   ],
   "source": [
    "#Создадим таблицу с полученными accuracy\n",
    "columns=['DecisionTreeClassifier','RandomForestClassifier','LogisticRegression']\n",
    "\n",
    "data = pd.DataFrame(columns=columns)\n",
    "data['DecisionTreeClassifier'] = DTC_accuracies\n",
    "data['RandomForestClassifier'] = RFC_accuracies\n",
    "data['LogisticRegression'] = model.score(valid_features, valid_target)\n",
    "data"
   ]
  },
  {
   "cell_type": "code",
   "execution_count": 18,
   "metadata": {
    "scrolled": true
   },
   "outputs": [
    {
     "name": "stdout",
     "output_type": "stream",
     "text": [
      "DecisionTreeClassifier Лушие: Depth 4 Accuracy 0.794392523364486\n",
      "RandomForestClassifier Лушие: Estimator 10 Accuracy 0.8006230529595015\n",
      "LogisticRegression Accuracy = 0.7663551401869159\n"
     ]
    }
   ],
   "source": [
    "print(\"DecisionTreeClassifier Лушие: Depth\", best_depth, \"Accuracy\", DTC_best_accuracies)\n",
    "print(\"RandomForestClassifier Лушие: Estimator\", best_estim, \"Accuracy\", best_accuracies)\n",
    "print(\"LogisticRegression Accuracy =\", model.score(valid_features, valid_target))\n"
   ]
  },
  {
   "cell_type": "markdown",
   "metadata": {},
   "source": [
    "При нашем выборе параметров лучший реультат показывает RandomForestClassifier Лушие: Estimator 10 Accuracy 0.8006230529595015\n",
    "\n",
    "Худший результат показывает LogisticRegression: Accuracy = 0.7663551401869159"
   ]
  },
  {
   "cell_type": "markdown",
   "metadata": {},
   "source": [
    "Построим график, чтобы наглядно увидеть, какая модель нас больше устраивает"
   ]
  },
  {
   "cell_type": "code",
   "execution_count": 19,
   "metadata": {},
   "outputs": [
    {
     "data": {
      "text/plain": [
       "<AxesSubplot:title={'center':'Совместим все модели на одном графике'}, ylabel='Accuracy'>"
      ]
     },
     "execution_count": 19,
     "metadata": {},
     "output_type": "execute_result"
    },
    {
     "data": {
      "image/png": "[encoded data removed]",
      "text/plain": [
       "<Figure size 864x432 with 1 Axes>"
      ]
     },
     "metadata": {},
     "output_type": "display_data"
    }
   ],
   "source": [
    "plt.figure(figsize=(12,6))\n",
    "plt.title('Совместим все модели на одном графике', fontsize=15)\n",
    "plt.xlabel('')\n",
    "plt.ylabel('Accuracy')\n",
    "sns.lineplot(data=data)"
   ]
  },
  {
   "cell_type": "markdown",
   "metadata": {},
   "source": [
    "Вывод."
   ]
  },
  {
   "cell_type": "markdown",
   "metadata": {},
   "source": [
    "При нашем выборе параметров лучший реультат показывает \n",
    "RandomForestClassifier Лушие: Estimator 10 Accuracy 0.8006230529595015\n",
    "\n",
    "Худший результат показывает\n",
    "LogisticRegression: Accuracy = 0.7663551401869159"
   ]
  },
  {
   "cell_type": "markdown",
   "metadata": {},
   "source": [
    "## Проверим модель на тестовой выборке"
   ]
  },
  {
   "cell_type": "code",
   "execution_count": 20,
   "metadata": {
    "scrolled": true
   },
   "outputs": [
    {
     "name": "stdout",
     "output_type": "stream",
     "text": [
      "Accuracy: 0.7919254658385093\n"
     ]
    }
   ],
   "source": [
    "#Проверим модель: Случайный лес на тестовой выборке при 20 деревьях\n",
    "model = RandomForestClassifier(random_state=12345, n_estimators=20)\n",
    "model.fit(train_features,train_target)\n",
    "predictions = model.predict(test_features)\n",
    "score = accuracy_score(test_target, predictions)\n",
    "print('Accuracy:', score)"
   ]
  },
  {
   "cell_type": "markdown",
   "metadata": {},
   "source": [
    "## Проверим модели на адекватность"
   ]
  },
  {
   "cell_type": "code",
   "execution_count": 21,
   "metadata": {
    "scrolled": false
   },
   "outputs": [
    {
     "data": {
      "text/plain": [
       "0    0.693528\n",
       "1    0.306472\n",
       "Name: is_ultra, dtype: float64"
      ]
     },
     "execution_count": 21,
     "metadata": {},
     "output_type": "execute_result"
    }
   ],
   "source": [
    "\n",
    "df['is_ultra'].value_counts(normalize=True)"
   ]
  },
  {
   "cell_type": "code",
   "execution_count": 22,
   "metadata": {},
   "outputs": [
    {
     "name": "stdout",
     "output_type": "stream",
     "text": [
      "0       0\n",
      "1       0\n",
      "2       0\n",
      "3       1\n",
      "4       0\n",
      "       ..\n",
      "3209    1\n",
      "3210    0\n",
      "3211    0\n",
      "3212    0\n",
      "3213    1\n",
      "Name: is_ultra, Length: 3214, dtype: int64\n",
      "[0 0 0 ... 0 0 1]\n",
      "mse 0.04822650902302427\n",
      "rmse 0.21960534834794956\n",
      "mae 0.04822650902302427\n",
      "\n",
      "Ошибок: 155.0 из 3214 - 4.82 %\n"
     ]
    }
   ],
   "source": [
    "from sklearn.metrics import mean_squared_error\n",
    "from sklearn.metrics import mean_absolute_error\n",
    "model = RandomForestClassifier(random_state=12345, n_estimators=20)\n",
    "model.fit(train_features,train_target)\n",
    "features = df.drop(['is_ultra'], axis=1)\n",
    "target = df['is_ultra']\n",
    "answers = target\n",
    "print(answers)\n",
    "predictions = model.predict(features)\n",
    "print(predictions)\n",
    "\n",
    "mse = mean_squared_error(answers, predictions)\n",
    "rmse = mse ** 0.5\n",
    "mae = mean_absolute_error(answers, predictions)\n",
    "print(\"mse\", mse)\n",
    "print(\"rmse\", rmse)\n",
    "print(\"mae\", mae)\n",
    "print()\n",
    "print(\"Ошибок:\", mae*len(answers), \"из\", len(answers), \"-\", (mae*100).round(2), \"%\" )\n",
    "\n"
   ]
  },
  {
   "cell_type": "markdown",
   "metadata": {},
   "source": [
    "Таким образом, для модели RandomForestClassifier с Estimators=20 количество ошибок предсказаний 4.82 %, что говорит об адекватности данной модели."
   ]
  },
  {
   "cell_type": "markdown",
   "metadata": {},
   "source": [
    "# Вывод"
   ]
  },
  {
   "cell_type": "raw",
   "metadata": {},
   "source": [
    "Были исследованы варианты по комбинациям df и разбиениям на выборки:\n",
    "    1. df = df, size = 0.20 (80-10-10)\n",
    "    2. df = df, size = 0.40 (60-20-20)\n",
    "    3. df = df_min, size = 0.20 (80-10-10) \n",
    "    4. df = df_min, size = 0.40 (60-20-20)\n",
    "    \n",
    "    Вариант 3, лучший по исследуемым показателям, представлен в данном исследовании.\n",
    "    Исследуемые показатели по остальным вариантам, не показанным в данном отчете, были получены соответствующим изменением df и size в начале раздела 2 данного исследования."
   ]
  },
  {
   "cell_type": "markdown",
   "metadata": {},
   "source": [
    "Получены следующие результаты исследования по рассмотренным вариантам.\n",
    "\n",
    "1. df = df, size=0.20 (разбивка 80-10-10)\n",
    "\n",
    "DecisionTreeClassifier Лушие: Depth 6 Accuracy 0.7975077881619937\n",
    "RandomForestClassifier Лушие: Estimator 20 Accuracy 0.8068535825545171\n",
    "LogisticRegression Accuracy = 0.7663551401869159\n",
    "\n",
    "При нашем выборе параметров лучший реультат показывает \n",
    "RandomForestClassifier: Estimator 20 Accuracy 0.8068535825545171\n",
    "\n",
    "Худший: LogisticRegression Accuracy = 0.7663551401869159\n",
    "\n",
    "Тестовая выборка: Accuracy = 0.7701863354037267\n",
    "Ошибок: 160.0 из 3214 - 4.98 %\n",
    "\n",
    "2. df = df, size=0.40 (разбивка 60-20-20)\n",
    "\n",
    "DecisionTreeClassifier Лушие: Depth 3 Accuracy 0.7853810264385692\n",
    "RandomForestClassifier Лушие: Estimator 50 Accuracy 0.7916018662519441\n",
    "LogisticRegression Accuracy = 0.7107309486780715\n",
    "\n",
    "При нашем выборе параметров лучший реультат показывает \n",
    "RandomForestClassifier Лушие: Estimator 50 Accuracy 0.7916018662519441\n",
    "\n",
    "Худший: LogisticRegression Accuracy = 0.7107309486780715\n",
    "\n",
    "Тестовая выборка: Accuracy = 0.7822706065318819\n",
    "Ошибок: 298.0 из 3214 - 9.27 %\n",
    "\n",
    "3. df = df_min, size=0.20 (разбивка 80-10-10)\n",
    "\n",
    "DecisionTreeClassifier Лушие: Depth 4 Accuracy 0.794392523364486\n",
    "RandomForestClassifier Лушие: Estimator 10 Accuracy 0.8006230529595015\n",
    "LogisticRegression Accuracy = 0.7663551401869159\n",
    "\n",
    "При нашем выборе параметров лучший реультат показывает \n",
    "RandomForestClassifier Лушие: Estimator 10 Accuracy 0.8006230529595015\n",
    "\n",
    "Худший: LogisticRegression Accuracy = 0.7663551401869159\n",
    "\n",
    "Тестовая выборка: Accuracy = 0.7919254658385093\n",
    "Ошибок: 155.0 из 3214 - 4.82 %\n",
    "\n",
    "4. df = df_min, size=0.40 (разбивка 60-20-20)\n",
    "\n",
    "DecisionTreeClassifier Лушие: Depth 4 Accuracy 0.7884914463452566\n",
    "RandomForestClassifier Лушие: Estimator 20 Accuracy 0.7822706065318819\n",
    "LogisticRegression Accuracy = 0.7076205287713841\n",
    "\n",
    "При нашем выборе параметров лучший реультат показывает \n",
    "DecisionTreeClassifier Лушие: Depth 4 Accuracy 0.7884914463452566\n",
    "\n",
    "Худший: LogisticRegression Accuracy = 0.7076205287713841\n",
    "\n",
    "Тестовая выборка: Accuracy = 0.7776049766718507\n",
    "Ошибок: 302.0 из 3214 - 9.4 %\n",
    "\n",
    "\n",
    "Таким образом, лучший результат показывает модель (df_min, size=0.20 (разбивка 80-10-10)\n",
    "RandomForestClassifier Лушие: Estimator 10 Accuracy 0.8006230529595015\n",
    "\n",
    "Худший: LogisticRegression Accuracy = 0.7663551401869159\n",
    "\n",
    "Тестовая выборка: Accuracy = 0.7919254658385093\n",
    "Ошибок: 155.0 из 3214 - 4.82 %"
   ]
  },
  {
   "cell_type": "markdown",
   "metadata": {},
   "source": [
    "## Чек-лист готовности проекта"
   ]
  },
  {
   "cell_type": "markdown",
   "metadata": {},
   "source": [
    "Поставьте 'x' в выполненных пунктах. Далее нажмите Shift+Enter."
   ]
  },
  {
   "cell_type": "markdown",
   "metadata": {},
   "source": [
    "- [x] Jupyter Notebook открыт\n",
    "- [х] Весь код исполняется без ошибок\n",
    "- [х] Ячейки с кодом расположены в порядке исполнения\n",
    "- [х] Выполнено задание 1: данные загружены и изучены\n",
    "- [х] Выполнено задание 2: данные разбиты на три выборки\n",
    "- [х] Выполнено задание 3: проведено исследование моделей\n",
    "    - [х] Рассмотрено больше одной модели\n",
    "    - [х] Рассмотрено хотя бы 3 значения гипепараметров для какой-нибудь модели\n",
    "    - [х] Написаны выводы по результатам исследования\n",
    "- [х] Выполнено задание 3: Проведено тестирование\n",
    "- [х] Удалось достичь accuracy не меньше 0.75\n"
   ]
  },
  {
   "cell_type": "code",
   "execution_count": null,
   "metadata": {},
   "outputs": [],
   "source": []
  }
 ],
 "metadata": {
  "ExecuteTimeLog": [
   {
    "duration": 48,
    "start_time": "2022-09-25T17:12:07.416Z"
   },
   {
    "duration": 1589,
    "start_time": "2022-09-25T17:12:45.586Z"
   },
   {
    "duration": 128,
    "start_time": "2022-09-25T17:12:53.429Z"
   },
   {
    "duration": 36,
    "start_time": "2022-09-25T17:13:20.369Z"
   },
   {
    "duration": 124,
    "start_time": "2022-09-25T17:16:45.973Z"
   },
   {
    "duration": 2,
    "start_time": "2022-09-25T17:17:38.959Z"
   },
   {
    "duration": 23,
    "start_time": "2022-09-25T17:21:07.622Z"
   },
   {
    "duration": 25,
    "start_time": "2022-09-25T17:22:19.693Z"
   },
   {
    "duration": 10,
    "start_time": "2022-09-25T17:22:33.887Z"
   },
   {
    "duration": 6,
    "start_time": "2022-09-25T17:26:06.136Z"
   },
   {
    "duration": 30,
    "start_time": "2022-09-25T17:50:28.412Z"
   },
   {
    "duration": 3,
    "start_time": "2022-09-25T17:51:29.232Z"
   },
   {
    "duration": 3,
    "start_time": "2022-09-25T17:51:49.029Z"
   },
   {
    "duration": 10,
    "start_time": "2022-09-25T17:54:07.437Z"
   },
   {
    "duration": 10,
    "start_time": "2022-09-25T17:54:40.306Z"
   },
   {
    "duration": 21,
    "start_time": "2022-09-25T17:55:37.412Z"
   },
   {
    "duration": 9,
    "start_time": "2022-09-25T17:58:53.689Z"
   },
   {
    "duration": 206,
    "start_time": "2022-09-25T17:59:05.553Z"
   },
   {
    "duration": 378,
    "start_time": "2022-09-25T18:01:00.645Z"
   },
   {
    "duration": 185,
    "start_time": "2022-09-25T18:01:33.713Z"
   },
   {
    "duration": 9,
    "start_time": "2022-09-25T18:11:01.678Z"
   },
   {
    "duration": 9,
    "start_time": "2022-09-25T18:23:52.115Z"
   },
   {
    "duration": 7,
    "start_time": "2022-09-25T18:24:05.815Z"
   },
   {
    "duration": 7,
    "start_time": "2022-09-25T18:30:49.151Z"
   },
   {
    "duration": 569,
    "start_time": "2022-09-25T18:38:24.458Z"
   },
   {
    "duration": 63,
    "start_time": "2022-09-25T18:41:55.461Z"
   },
   {
    "duration": 1597,
    "start_time": "2022-09-25T18:50:49.337Z"
   },
   {
    "duration": 520,
    "start_time": "2022-09-25T19:02:19.600Z"
   },
   {
    "duration": 10,
    "start_time": "2022-09-25T19:14:16.068Z"
   },
   {
    "duration": 4,
    "start_time": "2022-09-25T19:15:50.195Z"
   },
   {
    "duration": 10,
    "start_time": "2022-09-25T19:16:00.847Z"
   },
   {
    "duration": 6,
    "start_time": "2022-09-25T19:16:41.743Z"
   },
   {
    "duration": 27,
    "start_time": "2022-09-25T19:19:08.762Z"
   },
   {
    "duration": 19,
    "start_time": "2022-09-25T19:19:24.770Z"
   },
   {
    "duration": 8,
    "start_time": "2022-09-25T19:21:28.179Z"
   },
   {
    "duration": 6,
    "start_time": "2022-09-25T19:21:38.659Z"
   },
   {
    "duration": 460,
    "start_time": "2022-09-25T19:21:48.131Z"
   },
   {
    "duration": 1000,
    "start_time": "2022-09-25T19:22:02.525Z"
   },
   {
    "duration": 21,
    "start_time": "2022-09-25T19:22:16.122Z"
   },
   {
    "duration": 19,
    "start_time": "2022-09-25T19:22:35.115Z"
   },
   {
    "duration": 7,
    "start_time": "2022-09-25T19:23:19.142Z"
   },
   {
    "duration": 542,
    "start_time": "2022-09-25T19:23:30.214Z"
   },
   {
    "duration": 1058,
    "start_time": "2022-09-25T19:23:46.061Z"
   },
   {
    "duration": 20,
    "start_time": "2022-09-25T19:23:57.915Z"
   },
   {
    "duration": 9,
    "start_time": "2022-09-25T19:24:59.180Z"
   },
   {
    "duration": 7,
    "start_time": "2022-09-25T19:25:04.157Z"
   },
   {
    "duration": 489,
    "start_time": "2022-09-25T19:25:17.887Z"
   },
   {
    "duration": 1734,
    "start_time": "2022-09-25T19:25:36.774Z"
   },
   {
    "duration": 574,
    "start_time": "2022-09-25T19:25:52.260Z"
   },
   {
    "duration": 12,
    "start_time": "2022-09-25T19:28:52.048Z"
   },
   {
    "duration": 11,
    "start_time": "2022-09-25T19:29:18.032Z"
   },
   {
    "duration": 15,
    "start_time": "2022-09-25T19:29:36.350Z"
   },
   {
    "duration": 51,
    "start_time": "2022-09-25T19:30:10.425Z"
   },
   {
    "duration": 8,
    "start_time": "2022-09-25T19:30:29.280Z"
   },
   {
    "duration": 5,
    "start_time": "2022-09-25T19:31:19.762Z"
   },
   {
    "duration": 12,
    "start_time": "2022-09-25T19:31:41.689Z"
   },
   {
    "duration": 11,
    "start_time": "2022-09-25T19:32:19.978Z"
   },
   {
    "duration": 9,
    "start_time": "2022-09-25T19:33:31.683Z"
   },
   {
    "duration": 175,
    "start_time": "2022-09-25T19:35:12.484Z"
   },
   {
    "duration": 167,
    "start_time": "2022-09-25T19:36:50.867Z"
   },
   {
    "duration": 9,
    "start_time": "2022-09-25T19:40:33.803Z"
   },
   {
    "duration": 267,
    "start_time": "2022-09-25T19:40:41.493Z"
   },
   {
    "duration": 122,
    "start_time": "2022-09-25T19:47:32.531Z"
   },
   {
    "duration": 1244,
    "start_time": "2022-09-25T19:49:00.843Z"
   },
   {
    "duration": 8,
    "start_time": "2022-09-25T19:50:27.003Z"
   },
   {
    "duration": 4,
    "start_time": "2022-09-25T19:51:15.053Z"
   },
   {
    "duration": 3,
    "start_time": "2022-09-25T19:52:01.558Z"
   },
   {
    "duration": 52,
    "start_time": "2022-09-25T19:52:01.565Z"
   },
   {
    "duration": 22,
    "start_time": "2022-09-25T19:52:01.619Z"
   },
   {
    "duration": 17,
    "start_time": "2022-09-25T19:52:01.643Z"
   },
   {
    "duration": 26,
    "start_time": "2022-09-25T19:52:01.662Z"
   },
   {
    "duration": 205,
    "start_time": "2022-09-25T19:52:01.690Z"
   },
   {
    "duration": 8,
    "start_time": "2022-09-25T19:52:01.897Z"
   },
   {
    "duration": 34,
    "start_time": "2022-09-25T19:52:01.906Z"
   },
   {
    "duration": 623,
    "start_time": "2022-09-25T19:52:01.941Z"
   },
   {
    "duration": 1705,
    "start_time": "2022-09-25T19:52:02.566Z"
   },
   {
    "duration": 469,
    "start_time": "2022-09-25T19:52:04.273Z"
   },
   {
    "duration": 12,
    "start_time": "2022-09-25T19:52:10.317Z"
   },
   {
    "duration": 13,
    "start_time": "2022-09-25T19:52:48.638Z"
   },
   {
    "duration": 195,
    "start_time": "2022-09-25T19:54:58.271Z"
   },
   {
    "duration": 60,
    "start_time": "2022-09-25T19:55:08.767Z"
   },
   {
    "duration": 102,
    "start_time": "2022-09-25T19:55:21.350Z"
   },
   {
    "duration": 238,
    "start_time": "2022-09-25T19:55:35.025Z"
   },
   {
    "duration": 109,
    "start_time": "2022-09-25T19:55:44.934Z"
   },
   {
    "duration": 6,
    "start_time": "2022-09-25T19:56:08.772Z"
   },
   {
    "duration": 13,
    "start_time": "2022-09-25T20:02:19.468Z"
   },
   {
    "duration": 17,
    "start_time": "2022-09-25T20:07:29.471Z"
   },
   {
    "duration": 18,
    "start_time": "2022-09-25T20:12:07.002Z"
   },
   {
    "duration": 19,
    "start_time": "2022-09-25T20:14:57.501Z"
   },
   {
    "duration": 19,
    "start_time": "2022-09-25T20:15:36.973Z"
   },
   {
    "duration": 18,
    "start_time": "2022-09-25T20:16:01.717Z"
   },
   {
    "duration": 9,
    "start_time": "2022-09-25T20:23:39.027Z"
   },
   {
    "duration": 16,
    "start_time": "2022-09-25T20:24:03.889Z"
   },
   {
    "duration": 17,
    "start_time": "2022-09-25T20:25:33.388Z"
   },
   {
    "duration": 20,
    "start_time": "2022-09-25T20:32:49.112Z"
   },
   {
    "duration": 20,
    "start_time": "2022-09-25T20:33:11.353Z"
   },
   {
    "duration": 44,
    "start_time": "2022-09-25T20:35:21.114Z"
   },
   {
    "duration": 47,
    "start_time": "2022-09-25T20:35:54.467Z"
   },
   {
    "duration": 103,
    "start_time": "2022-09-25T20:36:05.242Z"
   },
   {
    "duration": 15,
    "start_time": "2022-09-25T20:36:33.730Z"
   },
   {
    "duration": 112,
    "start_time": "2022-09-25T20:37:17.809Z"
   },
   {
    "duration": 114,
    "start_time": "2022-09-25T20:37:31.775Z"
   },
   {
    "duration": 110,
    "start_time": "2022-09-25T20:40:51.116Z"
   },
   {
    "duration": 111,
    "start_time": "2022-09-25T20:42:53.534Z"
   },
   {
    "duration": 47,
    "start_time": "2022-09-25T21:03:36.114Z"
   },
   {
    "duration": 54,
    "start_time": "2022-09-25T21:03:59.228Z"
   },
   {
    "duration": 112,
    "start_time": "2022-09-25T21:04:26.620Z"
   },
   {
    "duration": 131,
    "start_time": "2022-09-25T21:09:28.576Z"
   },
   {
    "duration": 125,
    "start_time": "2022-09-25T21:09:39.936Z"
   },
   {
    "duration": 122,
    "start_time": "2022-09-25T21:09:58.679Z"
   },
   {
    "duration": 111,
    "start_time": "2022-09-25T21:11:34.272Z"
   },
   {
    "duration": 118,
    "start_time": "2022-09-25T21:11:54.689Z"
   },
   {
    "duration": 74,
    "start_time": "2022-09-25T21:14:25.293Z"
   },
   {
    "duration": 113,
    "start_time": "2022-09-25T21:14:37.101Z"
   },
   {
    "duration": 114,
    "start_time": "2022-09-25T21:15:10.795Z"
   },
   {
    "duration": 116,
    "start_time": "2022-09-25T21:15:30.419Z"
   },
   {
    "duration": 64,
    "start_time": "2022-09-25T21:27:37.354Z"
   },
   {
    "duration": 65,
    "start_time": "2022-09-25T21:28:27.275Z"
   },
   {
    "duration": 66,
    "start_time": "2022-09-25T21:29:00.485Z"
   },
   {
    "duration": 68,
    "start_time": "2022-09-25T21:31:09.197Z"
   },
   {
    "duration": 65,
    "start_time": "2022-09-25T21:33:09.591Z"
   },
   {
    "duration": 62,
    "start_time": "2022-09-25T21:34:38.832Z"
   },
   {
    "duration": 68,
    "start_time": "2022-09-25T21:36:47.672Z"
   },
   {
    "duration": 65,
    "start_time": "2022-09-25T21:38:23.523Z"
   },
   {
    "duration": 73,
    "start_time": "2022-09-25T21:38:28.753Z"
   },
   {
    "duration": 65,
    "start_time": "2022-09-25T21:40:24.515Z"
   },
   {
    "duration": 67,
    "start_time": "2022-09-25T21:41:15.287Z"
   },
   {
    "duration": 68,
    "start_time": "2022-09-25T21:41:57.702Z"
   },
   {
    "duration": 66,
    "start_time": "2022-09-25T21:42:17.861Z"
   },
   {
    "duration": 69,
    "start_time": "2022-09-25T21:42:38.708Z"
   },
   {
    "duration": 63,
    "start_time": "2022-09-25T21:43:41.677Z"
   },
   {
    "duration": 65,
    "start_time": "2022-09-25T21:44:03.343Z"
   },
   {
    "duration": 63,
    "start_time": "2022-09-25T21:46:07.046Z"
   },
   {
    "duration": 66,
    "start_time": "2022-09-25T21:55:47.076Z"
   },
   {
    "duration": 67,
    "start_time": "2022-09-25T21:57:50.696Z"
   },
   {
    "duration": 64,
    "start_time": "2022-09-25T21:59:05.511Z"
   },
   {
    "duration": 65,
    "start_time": "2022-09-25T22:00:59.866Z"
   },
   {
    "duration": 66,
    "start_time": "2022-09-25T22:01:33.672Z"
   },
   {
    "duration": 65,
    "start_time": "2022-09-25T22:02:27.597Z"
   },
   {
    "duration": 66,
    "start_time": "2022-09-25T22:03:30.296Z"
   },
   {
    "duration": 65,
    "start_time": "2022-09-25T22:03:56.537Z"
   },
   {
    "duration": 65,
    "start_time": "2022-09-25T22:05:13.483Z"
   },
   {
    "duration": 1742,
    "start_time": "2022-09-25T22:06:08.061Z"
   },
   {
    "duration": 1705,
    "start_time": "2022-09-25T22:07:45.357Z"
   },
   {
    "duration": 1702,
    "start_time": "2022-09-25T22:08:24.693Z"
   },
   {
    "duration": 1794,
    "start_time": "2022-09-25T22:12:06.985Z"
   },
   {
    "duration": 1711,
    "start_time": "2022-09-25T22:12:47.351Z"
   },
   {
    "duration": 1746,
    "start_time": "2022-09-25T22:13:01.007Z"
   },
   {
    "duration": 52,
    "start_time": "2022-09-26T19:35:40.884Z"
   },
   {
    "duration": 1472,
    "start_time": "2022-09-26T19:35:54.455Z"
   },
   {
    "duration": 133,
    "start_time": "2022-09-26T19:35:55.929Z"
   },
   {
    "duration": 19,
    "start_time": "2022-09-26T19:35:56.063Z"
   },
   {
    "duration": 10,
    "start_time": "2022-09-26T19:35:56.084Z"
   },
   {
    "duration": 6,
    "start_time": "2022-09-26T19:35:56.096Z"
   },
   {
    "duration": 209,
    "start_time": "2022-09-26T19:35:56.103Z"
   },
   {
    "duration": 6,
    "start_time": "2022-09-26T19:35:56.314Z"
   },
   {
    "duration": 13,
    "start_time": "2022-09-26T19:35:56.322Z"
   },
   {
    "duration": 497,
    "start_time": "2022-09-26T19:35:56.337Z"
   },
   {
    "duration": 1880,
    "start_time": "2022-09-26T19:35:56.836Z"
   },
   {
    "duration": 87,
    "start_time": "2022-09-26T19:43:24.133Z"
   },
   {
    "duration": 20,
    "start_time": "2022-09-26T19:46:48.053Z"
   },
   {
    "duration": 20,
    "start_time": "2022-09-26T19:49:17.389Z"
   },
   {
    "duration": 1855,
    "start_time": "2022-09-26T19:51:06.005Z"
   },
   {
    "duration": 459,
    "start_time": "2022-09-26T19:56:32.607Z"
   },
   {
    "duration": 463,
    "start_time": "2022-09-26T19:58:36.505Z"
   },
   {
    "duration": 167,
    "start_time": "2022-09-26T20:00:35.192Z"
   },
   {
    "duration": 273,
    "start_time": "2022-09-26T20:00:55.075Z"
   },
   {
    "duration": 111,
    "start_time": "2022-09-26T20:01:08.315Z"
   },
   {
    "duration": 9,
    "start_time": "2022-09-26T20:01:51.011Z"
   },
   {
    "duration": 459,
    "start_time": "2022-09-26T20:01:57.355Z"
   },
   {
    "duration": 1912,
    "start_time": "2022-09-26T20:02:13.038Z"
   },
   {
    "duration": 122,
    "start_time": "2022-09-26T20:02:37.193Z"
   },
   {
    "duration": 8,
    "start_time": "2022-09-26T20:03:22.461Z"
   },
   {
    "duration": 8,
    "start_time": "2022-09-26T20:03:29.628Z"
   },
   {
    "duration": 533,
    "start_time": "2022-09-26T20:03:34.502Z"
   },
   {
    "duration": 1670,
    "start_time": "2022-09-26T20:03:46.117Z"
   },
   {
    "duration": 210,
    "start_time": "2022-09-26T20:04:24.276Z"
   },
   {
    "duration": 10,
    "start_time": "2022-09-26T20:05:02.598Z"
   },
   {
    "duration": 482,
    "start_time": "2022-09-26T20:05:10.644Z"
   },
   {
    "duration": 1708,
    "start_time": "2022-09-26T20:05:19.848Z"
   },
   {
    "duration": 190,
    "start_time": "2022-09-26T20:06:29.286Z"
   },
   {
    "duration": 114,
    "start_time": "2022-09-26T20:06:48.944Z"
   },
   {
    "duration": 128,
    "start_time": "2022-09-26T20:07:52.950Z"
   },
   {
    "duration": 11,
    "start_time": "2022-09-26T20:08:48.169Z"
   },
   {
    "duration": 6,
    "start_time": "2022-09-26T20:08:53.320Z"
   },
   {
    "duration": 714,
    "start_time": "2022-09-26T20:09:03.143Z"
   },
   {
    "duration": 2028,
    "start_time": "2022-09-26T20:09:23.488Z"
   },
   {
    "duration": 804,
    "start_time": "2022-09-26T20:09:43.815Z"
   },
   {
    "duration": 141,
    "start_time": "2022-09-26T20:10:42.645Z"
   },
   {
    "duration": 136,
    "start_time": "2022-09-26T20:12:47.730Z"
   },
   {
    "duration": 132,
    "start_time": "2022-09-26T20:14:06.139Z"
   },
   {
    "duration": 172,
    "start_time": "2022-09-26T20:15:07.269Z"
   },
   {
    "duration": 153,
    "start_time": "2022-09-26T20:15:58.885Z"
   },
   {
    "duration": 127,
    "start_time": "2022-09-26T20:16:27.492Z"
   },
   {
    "duration": 128,
    "start_time": "2022-09-26T20:16:45.397Z"
   },
   {
    "duration": 125,
    "start_time": "2022-09-26T20:16:54.828Z"
   },
   {
    "duration": 123,
    "start_time": "2022-09-26T20:17:39.941Z"
   },
   {
    "duration": 152,
    "start_time": "2022-09-26T20:17:51.124Z"
   },
   {
    "duration": 222,
    "start_time": "2022-09-26T20:50:26.489Z"
   },
   {
    "duration": 389,
    "start_time": "2022-09-26T20:50:48.666Z"
   },
   {
    "duration": 228,
    "start_time": "2022-09-26T20:51:41.786Z"
   },
   {
    "duration": 8,
    "start_time": "2022-09-26T20:56:14.646Z"
   },
   {
    "duration": 7,
    "start_time": "2022-09-26T20:57:08.206Z"
   },
   {
    "duration": 5,
    "start_time": "2022-09-26T20:58:52.903Z"
   },
   {
    "duration": 5,
    "start_time": "2022-09-26T21:02:14.753Z"
   },
   {
    "duration": 6,
    "start_time": "2022-09-26T21:03:35.036Z"
   },
   {
    "duration": 14,
    "start_time": "2022-09-26T21:04:01.410Z"
   },
   {
    "duration": 56,
    "start_time": "2022-09-26T21:04:52.433Z"
   },
   {
    "duration": 12,
    "start_time": "2022-09-26T21:05:23.011Z"
   },
   {
    "duration": 4,
    "start_time": "2022-09-26T21:06:08.011Z"
   },
   {
    "duration": 5,
    "start_time": "2022-09-26T21:07:01.883Z"
   },
   {
    "duration": 5,
    "start_time": "2022-09-26T21:07:11.418Z"
   },
   {
    "duration": 6,
    "start_time": "2022-09-26T21:12:24.311Z"
   },
   {
    "duration": 147,
    "start_time": "2022-09-26T21:19:42.012Z"
   },
   {
    "duration": 4,
    "start_time": "2022-09-26T21:20:07.284Z"
   },
   {
    "duration": 47,
    "start_time": "2022-09-26T21:20:07.290Z"
   },
   {
    "duration": 25,
    "start_time": "2022-09-26T21:20:07.339Z"
   },
   {
    "duration": 10,
    "start_time": "2022-09-26T21:20:07.365Z"
   },
   {
    "duration": 9,
    "start_time": "2022-09-26T21:20:07.376Z"
   },
   {
    "duration": 261,
    "start_time": "2022-09-26T21:20:07.386Z"
   },
   {
    "duration": 5,
    "start_time": "2022-09-26T21:20:07.648Z"
   },
   {
    "duration": 9,
    "start_time": "2022-09-26T21:20:07.655Z"
   },
   {
    "duration": 7,
    "start_time": "2022-09-26T21:20:07.665Z"
   },
   {
    "duration": 510,
    "start_time": "2022-09-26T21:20:07.673Z"
   },
   {
    "duration": 1854,
    "start_time": "2022-09-26T21:20:08.184Z"
   },
   {
    "duration": 782,
    "start_time": "2022-09-26T21:20:10.040Z"
   },
   {
    "duration": 186,
    "start_time": "2022-09-26T21:20:10.824Z"
   },
   {
    "duration": 353,
    "start_time": "2022-09-26T21:20:17.062Z"
   },
   {
    "duration": 4,
    "start_time": "2022-09-26T21:22:34.150Z"
   },
   {
    "duration": 7,
    "start_time": "2022-09-26T21:23:03.004Z"
   },
   {
    "duration": 7,
    "start_time": "2022-09-26T21:30:40.236Z"
   },
   {
    "duration": 6,
    "start_time": "2022-09-26T21:31:07.628Z"
   },
   {
    "duration": 47,
    "start_time": "2022-09-26T21:33:54.641Z"
   },
   {
    "duration": 19,
    "start_time": "2022-09-26T21:34:11.759Z"
   },
   {
    "duration": 481,
    "start_time": "2022-09-26T21:34:44.893Z"
   },
   {
    "duration": 6,
    "start_time": "2022-09-26T21:35:28.102Z"
   },
   {
    "duration": 13,
    "start_time": "2022-09-26T21:42:15.661Z"
   },
   {
    "duration": 3,
    "start_time": "2022-09-26T21:42:36.677Z"
   },
   {
    "duration": 63,
    "start_time": "2022-09-26T21:42:36.682Z"
   },
   {
    "duration": 21,
    "start_time": "2022-09-26T21:42:36.747Z"
   },
   {
    "duration": 9,
    "start_time": "2022-09-26T21:42:36.769Z"
   },
   {
    "duration": 7,
    "start_time": "2022-09-26T21:42:36.780Z"
   },
   {
    "duration": 270,
    "start_time": "2022-09-26T21:42:36.788Z"
   },
   {
    "duration": 18,
    "start_time": "2022-09-26T21:42:37.059Z"
   },
   {
    "duration": 10,
    "start_time": "2022-09-26T21:42:37.079Z"
   },
   {
    "duration": 21,
    "start_time": "2022-09-26T21:42:37.090Z"
   },
   {
    "duration": 527,
    "start_time": "2022-09-26T21:42:37.113Z"
   },
   {
    "duration": 1867,
    "start_time": "2022-09-26T21:42:37.643Z"
   },
   {
    "duration": 12,
    "start_time": "2022-09-26T21:42:44.372Z"
   },
   {
    "duration": 623,
    "start_time": "2022-09-26T21:46:07.640Z"
   },
   {
    "duration": 94,
    "start_time": "2022-09-26T21:50:02.742Z"
   },
   {
    "duration": 1322,
    "start_time": "2022-09-26T21:57:03.254Z"
   },
   {
    "duration": 49,
    "start_time": "2022-09-26T21:57:04.578Z"
   },
   {
    "duration": 26,
    "start_time": "2022-09-26T21:57:04.629Z"
   },
   {
    "duration": 13,
    "start_time": "2022-09-26T21:57:04.657Z"
   },
   {
    "duration": 29,
    "start_time": "2022-09-26T21:57:04.671Z"
   },
   {
    "duration": 287,
    "start_time": "2022-09-26T21:57:04.703Z"
   },
   {
    "duration": 6,
    "start_time": "2022-09-26T21:57:04.992Z"
   },
   {
    "duration": 31,
    "start_time": "2022-09-26T21:57:05.009Z"
   },
   {
    "duration": 8,
    "start_time": "2022-09-26T21:57:05.042Z"
   },
   {
    "duration": 507,
    "start_time": "2022-09-26T21:57:05.053Z"
   },
   {
    "duration": 1946,
    "start_time": "2022-09-26T21:57:05.563Z"
   },
   {
    "duration": 650,
    "start_time": "2022-09-26T21:57:07.511Z"
   },
   {
    "duration": 47,
    "start_time": "2022-09-26T21:57:08.163Z"
   },
   {
    "duration": 0,
    "start_time": "2022-09-26T21:57:08.212Z"
   },
   {
    "duration": 0,
    "start_time": "2022-09-26T21:57:08.213Z"
   },
   {
    "duration": 0,
    "start_time": "2022-09-26T21:57:08.215Z"
   },
   {
    "duration": 0,
    "start_time": "2022-09-26T21:57:08.217Z"
   },
   {
    "duration": 0,
    "start_time": "2022-09-26T21:57:08.218Z"
   },
   {
    "duration": 0,
    "start_time": "2022-09-26T21:57:08.219Z"
   },
   {
    "duration": 0,
    "start_time": "2022-09-26T21:57:08.221Z"
   },
   {
    "duration": 1,
    "start_time": "2022-09-26T21:57:08.222Z"
   },
   {
    "duration": 4245,
    "start_time": "2022-09-26T21:58:13.487Z"
   },
   {
    "duration": 43,
    "start_time": "2022-09-26T21:58:17.734Z"
   },
   {
    "duration": 21,
    "start_time": "2022-09-26T21:58:17.778Z"
   },
   {
    "duration": 11,
    "start_time": "2022-09-26T21:58:17.801Z"
   },
   {
    "duration": 11,
    "start_time": "2022-09-26T21:58:17.813Z"
   },
   {
    "duration": 270,
    "start_time": "2022-09-26T21:58:17.826Z"
   },
   {
    "duration": 12,
    "start_time": "2022-09-26T21:58:18.098Z"
   },
   {
    "duration": 21,
    "start_time": "2022-09-26T21:58:18.112Z"
   },
   {
    "duration": 7,
    "start_time": "2022-09-26T21:58:18.135Z"
   },
   {
    "duration": 518,
    "start_time": "2022-09-26T21:58:18.144Z"
   },
   {
    "duration": 1938,
    "start_time": "2022-09-26T21:58:18.663Z"
   },
   {
    "duration": 632,
    "start_time": "2022-09-26T21:58:20.602Z"
   },
   {
    "duration": 284,
    "start_time": "2022-09-26T21:58:21.236Z"
   },
   {
    "duration": 186,
    "start_time": "2022-09-26T21:58:21.522Z"
   },
   {
    "duration": 14,
    "start_time": "2022-09-26T21:58:21.710Z"
   },
   {
    "duration": 48,
    "start_time": "2022-09-26T21:58:21.726Z"
   },
   {
    "duration": 0,
    "start_time": "2022-09-26T21:58:21.776Z"
   },
   {
    "duration": 0,
    "start_time": "2022-09-26T21:58:21.777Z"
   },
   {
    "duration": 0,
    "start_time": "2022-09-26T21:58:21.779Z"
   },
   {
    "duration": 0,
    "start_time": "2022-09-26T21:58:21.781Z"
   },
   {
    "duration": 2762,
    "start_time": "2022-09-26T21:58:49.645Z"
   },
   {
    "duration": 43,
    "start_time": "2022-09-26T21:58:52.409Z"
   },
   {
    "duration": 24,
    "start_time": "2022-09-26T21:58:52.457Z"
   },
   {
    "duration": 11,
    "start_time": "2022-09-26T21:58:52.483Z"
   },
   {
    "duration": 17,
    "start_time": "2022-09-26T21:58:52.496Z"
   },
   {
    "duration": 270,
    "start_time": "2022-09-26T21:58:52.515Z"
   },
   {
    "duration": 8,
    "start_time": "2022-09-26T21:58:52.787Z"
   },
   {
    "duration": 19,
    "start_time": "2022-09-26T21:58:52.796Z"
   },
   {
    "duration": 9,
    "start_time": "2022-09-26T21:58:52.818Z"
   },
   {
    "duration": 547,
    "start_time": "2022-09-26T21:58:52.828Z"
   },
   {
    "duration": 1957,
    "start_time": "2022-09-26T21:58:53.376Z"
   },
   {
    "duration": 612,
    "start_time": "2022-09-26T21:58:55.334Z"
   },
   {
    "duration": 367,
    "start_time": "2022-09-26T21:58:55.948Z"
   },
   {
    "duration": 96,
    "start_time": "2022-09-26T21:58:56.316Z"
   },
   {
    "duration": 106,
    "start_time": "2022-09-26T21:58:56.414Z"
   },
   {
    "duration": 259,
    "start_time": "2022-09-26T21:58:56.522Z"
   },
   {
    "duration": 95,
    "start_time": "2022-09-26T21:58:56.782Z"
   },
   {
    "duration": 5,
    "start_time": "2022-09-26T21:58:56.879Z"
   },
   {
    "duration": 141,
    "start_time": "2022-09-26T21:58:56.885Z"
   },
   {
    "duration": 106,
    "start_time": "2022-09-26T22:01:06.723Z"
   },
   {
    "duration": 130,
    "start_time": "2022-09-26T22:02:01.179Z"
   },
   {
    "duration": 96,
    "start_time": "2022-09-26T22:03:50.883Z"
   },
   {
    "duration": 89,
    "start_time": "2022-09-26T22:05:21.997Z"
   },
   {
    "duration": 76,
    "start_time": "2022-09-26T22:05:33.328Z"
   },
   {
    "duration": 155,
    "start_time": "2022-09-26T22:05:44.342Z"
   },
   {
    "duration": 45,
    "start_time": "2022-09-26T22:05:54.033Z"
   },
   {
    "duration": 53,
    "start_time": "2022-09-26T22:06:05.086Z"
   },
   {
    "duration": 59,
    "start_time": "2022-09-26T22:06:13.901Z"
   },
   {
    "duration": 136,
    "start_time": "2022-09-26T22:06:29.222Z"
   },
   {
    "duration": 127,
    "start_time": "2022-09-26T22:06:41.262Z"
   },
   {
    "duration": 119,
    "start_time": "2022-09-26T22:06:49.693Z"
   },
   {
    "duration": 110,
    "start_time": "2022-09-26T22:07:28.151Z"
   },
   {
    "duration": 84,
    "start_time": "2022-09-26T22:07:42.357Z"
   },
   {
    "duration": 118,
    "start_time": "2022-09-26T22:08:15.272Z"
   },
   {
    "duration": 108,
    "start_time": "2022-09-26T22:08:28.790Z"
   },
   {
    "duration": 144,
    "start_time": "2022-09-26T22:08:44.441Z"
   },
   {
    "duration": 1333,
    "start_time": "2022-09-26T22:10:42.446Z"
   },
   {
    "duration": 44,
    "start_time": "2022-09-26T22:10:43.780Z"
   },
   {
    "duration": 20,
    "start_time": "2022-09-26T22:10:43.825Z"
   },
   {
    "duration": 9,
    "start_time": "2022-09-26T22:10:43.846Z"
   },
   {
    "duration": 5,
    "start_time": "2022-09-26T22:10:43.856Z"
   },
   {
    "duration": 281,
    "start_time": "2022-09-26T22:10:43.863Z"
   },
   {
    "duration": 28,
    "start_time": "2022-09-26T22:10:44.146Z"
   },
   {
    "duration": 8,
    "start_time": "2022-09-26T22:10:44.175Z"
   },
   {
    "duration": 6,
    "start_time": "2022-09-26T22:10:44.184Z"
   },
   {
    "duration": 567,
    "start_time": "2022-09-26T22:10:44.192Z"
   },
   {
    "duration": 1918,
    "start_time": "2022-09-26T22:10:44.761Z"
   },
   {
    "duration": 606,
    "start_time": "2022-09-26T22:10:46.681Z"
   },
   {
    "duration": 730,
    "start_time": "2022-09-26T22:10:47.288Z"
   },
   {
    "duration": 105,
    "start_time": "2022-09-26T22:10:48.113Z"
   },
   {
    "duration": 10,
    "start_time": "2022-09-26T22:10:48.219Z"
   },
   {
    "duration": 267,
    "start_time": "2022-09-26T22:10:48.231Z"
   },
   {
    "duration": 129,
    "start_time": "2022-09-26T22:10:48.500Z"
   },
   {
    "duration": 8,
    "start_time": "2022-09-26T22:10:48.631Z"
   },
   {
    "duration": 144,
    "start_time": "2022-09-26T22:10:48.640Z"
   },
   {
    "duration": 2709,
    "start_time": "2022-09-26T22:22:45.610Z"
   },
   {
    "duration": 133,
    "start_time": "2022-09-26T22:22:48.321Z"
   },
   {
    "duration": 63,
    "start_time": "2022-09-26T22:22:48.456Z"
   },
   {
    "duration": 9,
    "start_time": "2022-09-26T22:22:48.522Z"
   },
   {
    "duration": 7,
    "start_time": "2022-09-26T22:22:48.533Z"
   },
   {
    "duration": 593,
    "start_time": "2022-09-26T22:22:48.542Z"
   },
   {
    "duration": 7,
    "start_time": "2022-09-26T22:22:49.137Z"
   },
   {
    "duration": 68,
    "start_time": "2022-09-26T22:22:49.145Z"
   },
   {
    "duration": 11,
    "start_time": "2022-09-26T22:22:49.215Z"
   },
   {
    "duration": 1014,
    "start_time": "2022-09-26T22:22:49.229Z"
   },
   {
    "duration": 4003,
    "start_time": "2022-09-26T22:22:50.246Z"
   },
   {
    "duration": 1303,
    "start_time": "2022-09-26T22:22:54.250Z"
   },
   {
    "duration": 404,
    "start_time": "2022-09-26T22:22:55.608Z"
   },
   {
    "duration": 103,
    "start_time": "2022-09-26T22:22:56.014Z"
   },
   {
    "duration": 7,
    "start_time": "2022-09-26T22:22:56.118Z"
   },
   {
    "duration": 523,
    "start_time": "2022-09-26T22:22:56.127Z"
   },
   {
    "duration": 215,
    "start_time": "2022-09-26T22:22:56.708Z"
   },
   {
    "duration": 5,
    "start_time": "2022-09-26T22:22:56.924Z"
   },
   {
    "duration": 285,
    "start_time": "2022-09-26T22:22:56.931Z"
   },
   {
    "duration": 1801,
    "start_time": "2022-09-27T18:24:51.899Z"
   },
   {
    "duration": 84,
    "start_time": "2022-09-27T18:24:53.703Z"
   },
   {
    "duration": 29,
    "start_time": "2022-09-27T18:24:53.788Z"
   },
   {
    "duration": 15,
    "start_time": "2022-09-27T18:24:53.819Z"
   },
   {
    "duration": 15,
    "start_time": "2022-09-27T18:24:53.836Z"
   },
   {
    "duration": 339,
    "start_time": "2022-09-27T18:24:53.853Z"
   },
   {
    "duration": 8,
    "start_time": "2022-09-27T18:24:54.196Z"
   },
   {
    "duration": 1664,
    "start_time": "2022-09-27T18:24:58.174Z"
   },
   {
    "duration": 2113,
    "start_time": "2022-09-27T18:25:29.827Z"
   },
   {
    "duration": 14,
    "start_time": "2022-09-27T18:52:02.650Z"
   },
   {
    "duration": 9,
    "start_time": "2022-09-27T19:03:21.960Z"
   },
   {
    "duration": 3,
    "start_time": "2022-09-27T19:05:53.125Z"
   },
   {
    "duration": 10,
    "start_time": "2022-09-27T19:06:10.962Z"
   },
   {
    "duration": 9,
    "start_time": "2022-09-27T19:06:14.497Z"
   },
   {
    "duration": 630,
    "start_time": "2022-09-27T19:06:22.416Z"
   },
   {
    "duration": 1406,
    "start_time": "2022-09-27T19:07:01.176Z"
   },
   {
    "duration": 491,
    "start_time": "2022-09-27T19:08:04.441Z"
   },
   {
    "duration": 23,
    "start_time": "2022-09-27T19:08:21.601Z"
   },
   {
    "duration": 16,
    "start_time": "2022-09-27T19:08:33.053Z"
   },
   {
    "duration": 19,
    "start_time": "2022-09-27T19:08:54.693Z"
   },
   {
    "duration": 9,
    "start_time": "2022-09-27T19:09:03.002Z"
   },
   {
    "duration": 313,
    "start_time": "2022-09-27T19:09:32.322Z"
   },
   {
    "duration": 71,
    "start_time": "2022-09-27T19:10:33.043Z"
   },
   {
    "duration": 6,
    "start_time": "2022-09-27T19:10:50.539Z"
   },
   {
    "duration": 83,
    "start_time": "2022-09-27T19:11:00.755Z"
   },
   {
    "duration": 1524,
    "start_time": "2022-09-27T19:12:13.300Z"
   },
   {
    "duration": 54,
    "start_time": "2022-09-27T19:12:14.826Z"
   },
   {
    "duration": 38,
    "start_time": "2022-09-27T19:12:14.882Z"
   },
   {
    "duration": 13,
    "start_time": "2022-09-27T19:12:14.922Z"
   },
   {
    "duration": 9,
    "start_time": "2022-09-27T19:12:14.936Z"
   },
   {
    "duration": 372,
    "start_time": "2022-09-27T19:12:14.947Z"
   },
   {
    "duration": 8,
    "start_time": "2022-09-27T19:12:15.325Z"
   },
   {
    "duration": 2189,
    "start_time": "2022-09-27T19:12:15.336Z"
   },
   {
    "duration": 19,
    "start_time": "2022-09-27T19:12:17.527Z"
   },
   {
    "duration": 3,
    "start_time": "2022-09-27T19:12:17.550Z"
   },
   {
    "duration": 10,
    "start_time": "2022-09-27T19:12:17.595Z"
   },
   {
    "duration": 20,
    "start_time": "2022-09-27T19:12:17.607Z"
   },
   {
    "duration": 682,
    "start_time": "2022-09-27T19:12:17.629Z"
   },
   {
    "duration": 1808,
    "start_time": "2022-09-27T19:12:18.314Z"
   },
   {
    "duration": 679,
    "start_time": "2022-09-27T19:12:20.124Z"
   },
   {
    "duration": 39,
    "start_time": "2022-09-27T19:12:20.805Z"
   },
   {
    "duration": 24,
    "start_time": "2022-09-27T19:12:20.846Z"
   },
   {
    "duration": 8,
    "start_time": "2022-09-27T19:12:20.896Z"
   },
   {
    "duration": 345,
    "start_time": "2022-09-27T19:12:20.906Z"
   },
   {
    "duration": 116,
    "start_time": "2022-09-27T19:12:21.253Z"
   },
   {
    "duration": 9,
    "start_time": "2022-09-27T19:12:21.371Z"
   },
   {
    "duration": 265,
    "start_time": "2022-09-27T19:12:21.382Z"
   },
   {
    "duration": 110,
    "start_time": "2022-09-27T19:12:38.859Z"
   },
   {
    "duration": 5,
    "start_time": "2022-09-27T19:13:08.379Z"
   },
   {
    "duration": 40,
    "start_time": "2022-09-27T19:13:12.858Z"
   },
   {
    "duration": 33,
    "start_time": "2022-09-27T19:13:21.596Z"
   },
   {
    "duration": 14,
    "start_time": "2022-09-27T19:13:26.516Z"
   },
   {
    "duration": 7,
    "start_time": "2022-09-27T19:13:29.476Z"
   },
   {
    "duration": 275,
    "start_time": "2022-09-27T19:13:38.275Z"
   },
   {
    "duration": 7,
    "start_time": "2022-09-27T19:13:46.211Z"
   },
   {
    "duration": 1959,
    "start_time": "2022-09-27T19:13:52.747Z"
   },
   {
    "duration": 14,
    "start_time": "2022-09-27T19:14:06.779Z"
   },
   {
    "duration": 9,
    "start_time": "2022-09-27T19:14:46.069Z"
   },
   {
    "duration": 1574,
    "start_time": "2022-09-27T19:15:06.709Z"
   },
   {
    "duration": 44,
    "start_time": "2022-09-27T19:15:08.286Z"
   },
   {
    "duration": 25,
    "start_time": "2022-09-27T19:15:08.332Z"
   },
   {
    "duration": 11,
    "start_time": "2022-09-27T19:15:08.359Z"
   },
   {
    "duration": 29,
    "start_time": "2022-09-27T19:15:08.371Z"
   },
   {
    "duration": 301,
    "start_time": "2022-09-27T19:15:08.402Z"
   },
   {
    "duration": 9,
    "start_time": "2022-09-27T19:15:08.706Z"
   },
   {
    "duration": 2017,
    "start_time": "2022-09-27T19:15:08.717Z"
   },
   {
    "duration": 13,
    "start_time": "2022-09-27T19:15:10.736Z"
   },
   {
    "duration": 3,
    "start_time": "2022-09-27T19:15:10.752Z"
   },
   {
    "duration": 38,
    "start_time": "2022-09-27T19:15:10.757Z"
   },
   {
    "duration": 9,
    "start_time": "2022-09-27T19:15:10.797Z"
   },
   {
    "duration": 682,
    "start_time": "2022-09-27T19:15:10.808Z"
   },
   {
    "duration": 1625,
    "start_time": "2022-09-27T19:15:11.496Z"
   },
   {
    "duration": 547,
    "start_time": "2022-09-27T19:15:13.122Z"
   },
   {
    "duration": 56,
    "start_time": "2022-09-27T19:15:13.671Z"
   },
   {
    "duration": 14,
    "start_time": "2022-09-27T19:15:13.729Z"
   },
   {
    "duration": 27,
    "start_time": "2022-09-27T19:15:13.745Z"
   },
   {
    "duration": 308,
    "start_time": "2022-09-27T19:15:13.774Z"
   },
   {
    "duration": 89,
    "start_time": "2022-09-27T19:15:14.084Z"
   },
   {
    "duration": 6,
    "start_time": "2022-09-27T19:15:14.175Z"
   },
   {
    "duration": 242,
    "start_time": "2022-09-27T19:15:14.196Z"
   },
   {
    "duration": 1445,
    "start_time": "2022-09-27T19:21:17.453Z"
   },
   {
    "duration": 44,
    "start_time": "2022-09-27T19:21:18.900Z"
   },
   {
    "duration": 25,
    "start_time": "2022-09-27T19:21:18.946Z"
   },
   {
    "duration": 12,
    "start_time": "2022-09-27T19:21:18.973Z"
   },
   {
    "duration": 15,
    "start_time": "2022-09-27T19:21:18.986Z"
   },
   {
    "duration": 293,
    "start_time": "2022-09-27T19:21:19.002Z"
   },
   {
    "duration": 6,
    "start_time": "2022-09-27T19:21:19.297Z"
   },
   {
    "duration": 1939,
    "start_time": "2022-09-27T19:21:19.305Z"
   },
   {
    "duration": 15,
    "start_time": "2022-09-27T19:21:21.246Z"
   },
   {
    "duration": 5,
    "start_time": "2022-09-27T19:21:21.263Z"
   },
   {
    "duration": 145,
    "start_time": "2022-09-27T19:21:21.295Z"
   },
   {
    "duration": 0,
    "start_time": "2022-09-27T19:21:21.442Z"
   },
   {
    "duration": 0,
    "start_time": "2022-09-27T19:21:21.444Z"
   },
   {
    "duration": 0,
    "start_time": "2022-09-27T19:21:21.445Z"
   },
   {
    "duration": 0,
    "start_time": "2022-09-27T19:21:21.447Z"
   },
   {
    "duration": 0,
    "start_time": "2022-09-27T19:21:21.449Z"
   },
   {
    "duration": 0,
    "start_time": "2022-09-27T19:21:21.452Z"
   },
   {
    "duration": 0,
    "start_time": "2022-09-27T19:21:21.453Z"
   },
   {
    "duration": 0,
    "start_time": "2022-09-27T19:21:21.454Z"
   },
   {
    "duration": 0,
    "start_time": "2022-09-27T19:21:21.456Z"
   },
   {
    "duration": 0,
    "start_time": "2022-09-27T19:21:21.458Z"
   },
   {
    "duration": 0,
    "start_time": "2022-09-27T19:21:21.459Z"
   },
   {
    "duration": 12,
    "start_time": "2022-09-27T19:21:46.306Z"
   },
   {
    "duration": 1491,
    "start_time": "2022-09-27T19:22:14.619Z"
   },
   {
    "duration": 45,
    "start_time": "2022-09-27T19:22:16.112Z"
   },
   {
    "duration": 25,
    "start_time": "2022-09-27T19:22:16.159Z"
   },
   {
    "duration": 18,
    "start_time": "2022-09-27T19:22:16.186Z"
   },
   {
    "duration": 8,
    "start_time": "2022-09-27T19:22:16.205Z"
   },
   {
    "duration": 306,
    "start_time": "2022-09-27T19:22:16.215Z"
   },
   {
    "duration": 16,
    "start_time": "2022-09-27T19:22:16.527Z"
   },
   {
    "duration": 2088,
    "start_time": "2022-09-27T19:22:16.546Z"
   },
   {
    "duration": 15,
    "start_time": "2022-09-27T19:22:18.636Z"
   },
   {
    "duration": 148,
    "start_time": "2022-09-27T19:22:18.653Z"
   },
   {
    "duration": 0,
    "start_time": "2022-09-27T19:22:18.803Z"
   },
   {
    "duration": 0,
    "start_time": "2022-09-27T19:22:18.804Z"
   },
   {
    "duration": 0,
    "start_time": "2022-09-27T19:22:18.805Z"
   },
   {
    "duration": 0,
    "start_time": "2022-09-27T19:22:18.806Z"
   },
   {
    "duration": 0,
    "start_time": "2022-09-27T19:22:18.807Z"
   },
   {
    "duration": 0,
    "start_time": "2022-09-27T19:22:18.809Z"
   },
   {
    "duration": 0,
    "start_time": "2022-09-27T19:22:18.810Z"
   },
   {
    "duration": 0,
    "start_time": "2022-09-27T19:22:18.811Z"
   },
   {
    "duration": 1,
    "start_time": "2022-09-27T19:22:18.812Z"
   },
   {
    "duration": 0,
    "start_time": "2022-09-27T19:22:18.814Z"
   },
   {
    "duration": 0,
    "start_time": "2022-09-27T19:22:18.815Z"
   },
   {
    "duration": 0,
    "start_time": "2022-09-27T19:22:18.817Z"
   },
   {
    "duration": 12,
    "start_time": "2022-09-27T19:22:26.377Z"
   },
   {
    "duration": 2,
    "start_time": "2022-09-27T19:23:18.651Z"
   },
   {
    "duration": 1417,
    "start_time": "2022-09-27T19:23:27.974Z"
   },
   {
    "duration": 44,
    "start_time": "2022-09-27T19:23:29.395Z"
   },
   {
    "duration": 25,
    "start_time": "2022-09-27T19:23:29.440Z"
   },
   {
    "duration": 11,
    "start_time": "2022-09-27T19:23:29.467Z"
   },
   {
    "duration": 6,
    "start_time": "2022-09-27T19:23:29.495Z"
   },
   {
    "duration": 289,
    "start_time": "2022-09-27T19:23:29.503Z"
   },
   {
    "duration": 6,
    "start_time": "2022-09-27T19:23:29.794Z"
   },
   {
    "duration": 1935,
    "start_time": "2022-09-27T19:23:29.802Z"
   },
   {
    "duration": 18,
    "start_time": "2022-09-27T19:23:31.739Z"
   },
   {
    "duration": 35,
    "start_time": "2022-09-27T19:23:31.760Z"
   },
   {
    "duration": 15,
    "start_time": "2022-09-27T19:23:31.797Z"
   },
   {
    "duration": 16,
    "start_time": "2022-09-27T19:23:31.814Z"
   },
   {
    "duration": 563,
    "start_time": "2022-09-27T19:23:31.832Z"
   },
   {
    "duration": 1519,
    "start_time": "2022-09-27T19:23:32.397Z"
   },
   {
    "duration": 534,
    "start_time": "2022-09-27T19:23:33.918Z"
   },
   {
    "duration": 53,
    "start_time": "2022-09-27T19:23:34.454Z"
   },
   {
    "duration": 18,
    "start_time": "2022-09-27T19:23:34.509Z"
   },
   {
    "duration": 9,
    "start_time": "2022-09-27T19:23:34.529Z"
   },
   {
    "duration": 330,
    "start_time": "2022-09-27T19:23:34.540Z"
   },
   {
    "duration": 86,
    "start_time": "2022-09-27T19:23:34.871Z"
   },
   {
    "duration": 6,
    "start_time": "2022-09-27T19:23:34.958Z"
   },
   {
    "duration": 257,
    "start_time": "2022-09-27T19:23:34.966Z"
   },
   {
    "duration": 1439,
    "start_time": "2022-09-27T19:41:22.909Z"
   },
   {
    "duration": 44,
    "start_time": "2022-09-27T19:41:24.350Z"
   },
   {
    "duration": 25,
    "start_time": "2022-09-27T19:41:24.396Z"
   },
   {
    "duration": 11,
    "start_time": "2022-09-27T19:41:24.423Z"
   },
   {
    "duration": 8,
    "start_time": "2022-09-27T19:41:24.435Z"
   },
   {
    "duration": 316,
    "start_time": "2022-09-27T19:41:24.444Z"
   },
   {
    "duration": 9,
    "start_time": "2022-09-27T19:41:24.762Z"
   },
   {
    "duration": 1973,
    "start_time": "2022-09-27T19:41:24.773Z"
   },
   {
    "duration": 16,
    "start_time": "2022-09-27T19:41:26.748Z"
   },
   {
    "duration": 67,
    "start_time": "2022-09-27T19:41:26.767Z"
   },
   {
    "duration": 0,
    "start_time": "2022-09-27T19:41:26.835Z"
   },
   {
    "duration": 0,
    "start_time": "2022-09-27T19:41:26.837Z"
   },
   {
    "duration": 0,
    "start_time": "2022-09-27T19:41:26.838Z"
   },
   {
    "duration": 0,
    "start_time": "2022-09-27T19:41:26.839Z"
   },
   {
    "duration": 0,
    "start_time": "2022-09-27T19:41:26.841Z"
   },
   {
    "duration": 0,
    "start_time": "2022-09-27T19:41:26.842Z"
   },
   {
    "duration": 0,
    "start_time": "2022-09-27T19:41:26.843Z"
   },
   {
    "duration": 0,
    "start_time": "2022-09-27T19:41:26.845Z"
   },
   {
    "duration": 0,
    "start_time": "2022-09-27T19:41:26.846Z"
   },
   {
    "duration": 0,
    "start_time": "2022-09-27T19:41:26.847Z"
   },
   {
    "duration": 0,
    "start_time": "2022-09-27T19:41:26.848Z"
   },
   {
    "duration": 0,
    "start_time": "2022-09-27T19:41:26.850Z"
   },
   {
    "duration": 0,
    "start_time": "2022-09-27T19:41:26.851Z"
   },
   {
    "duration": 1535,
    "start_time": "2022-09-27T19:42:22.485Z"
   },
   {
    "duration": 46,
    "start_time": "2022-09-27T19:42:24.022Z"
   },
   {
    "duration": 30,
    "start_time": "2022-09-27T19:42:24.070Z"
   },
   {
    "duration": 24,
    "start_time": "2022-09-27T19:42:24.103Z"
   },
   {
    "duration": 25,
    "start_time": "2022-09-27T19:42:24.130Z"
   },
   {
    "duration": 309,
    "start_time": "2022-09-27T19:42:24.157Z"
   },
   {
    "duration": 7,
    "start_time": "2022-09-27T19:42:24.468Z"
   },
   {
    "duration": 1920,
    "start_time": "2022-09-27T19:42:24.476Z"
   },
   {
    "duration": 14,
    "start_time": "2022-09-27T19:42:26.398Z"
   },
   {
    "duration": 7,
    "start_time": "2022-09-27T19:42:26.415Z"
   },
   {
    "duration": 19,
    "start_time": "2022-09-27T19:42:26.424Z"
   },
   {
    "duration": 60,
    "start_time": "2022-09-27T19:42:26.446Z"
   },
   {
    "duration": 628,
    "start_time": "2022-09-27T19:42:26.508Z"
   },
   {
    "duration": 1957,
    "start_time": "2022-09-27T19:42:27.138Z"
   },
   {
    "duration": 643,
    "start_time": "2022-09-27T19:42:29.097Z"
   },
   {
    "duration": 561,
    "start_time": "2022-09-27T19:42:29.742Z"
   },
   {
    "duration": 102,
    "start_time": "2022-09-27T19:42:30.305Z"
   },
   {
    "duration": 91,
    "start_time": "2022-09-27T19:42:30.409Z"
   },
   {
    "duration": 323,
    "start_time": "2022-09-27T19:42:30.503Z"
   },
   {
    "duration": 135,
    "start_time": "2022-09-27T19:42:30.828Z"
   },
   {
    "duration": 6,
    "start_time": "2022-09-27T19:42:30.965Z"
   },
   {
    "duration": 269,
    "start_time": "2022-09-27T19:42:30.972Z"
   },
   {
    "duration": 1536,
    "start_time": "2022-09-27T19:45:29.564Z"
   },
   {
    "duration": 46,
    "start_time": "2022-09-27T19:45:31.102Z"
   },
   {
    "duration": 26,
    "start_time": "2022-09-27T19:45:31.149Z"
   },
   {
    "duration": 19,
    "start_time": "2022-09-27T19:45:31.176Z"
   },
   {
    "duration": 6,
    "start_time": "2022-09-27T19:45:31.198Z"
   },
   {
    "duration": 311,
    "start_time": "2022-09-27T19:45:31.205Z"
   },
   {
    "duration": 7,
    "start_time": "2022-09-27T19:45:31.518Z"
   },
   {
    "duration": 1953,
    "start_time": "2022-09-27T19:45:31.526Z"
   },
   {
    "duration": 19,
    "start_time": "2022-09-27T19:45:33.481Z"
   },
   {
    "duration": 5,
    "start_time": "2022-09-27T19:45:33.502Z"
   },
   {
    "duration": 10,
    "start_time": "2022-09-27T19:45:33.509Z"
   },
   {
    "duration": 7,
    "start_time": "2022-09-27T19:45:33.521Z"
   },
   {
    "duration": 662,
    "start_time": "2022-09-27T19:45:33.529Z"
   },
   {
    "duration": 1949,
    "start_time": "2022-09-27T19:45:34.196Z"
   },
   {
    "duration": 704,
    "start_time": "2022-09-27T19:45:36.147Z"
   },
   {
    "duration": 351,
    "start_time": "2022-09-27T19:45:36.853Z"
   },
   {
    "duration": 190,
    "start_time": "2022-09-27T19:45:37.206Z"
   },
   {
    "duration": 12,
    "start_time": "2022-09-27T19:45:37.398Z"
   },
   {
    "duration": 308,
    "start_time": "2022-09-27T19:45:37.412Z"
   },
   {
    "duration": 129,
    "start_time": "2022-09-27T19:45:37.721Z"
   },
   {
    "duration": 6,
    "start_time": "2022-09-27T19:45:37.852Z"
   },
   {
    "duration": 269,
    "start_time": "2022-09-27T19:45:37.860Z"
   },
   {
    "duration": 4,
    "start_time": "2022-09-27T19:45:38.131Z"
   },
   {
    "duration": 14,
    "start_time": "2022-09-27T19:45:38.136Z"
   },
   {
    "duration": 19,
    "start_time": "2022-09-27T19:45:38.152Z"
   },
   {
    "duration": 562,
    "start_time": "2022-09-27T19:45:38.195Z"
   },
   {
    "duration": 1640,
    "start_time": "2022-09-27T19:45:38.758Z"
   },
   {
    "duration": 581,
    "start_time": "2022-09-27T19:45:40.399Z"
   },
   {
    "duration": 33,
    "start_time": "2022-09-27T19:45:40.981Z"
   },
   {
    "duration": 17,
    "start_time": "2022-09-27T19:45:41.015Z"
   },
   {
    "duration": 12,
    "start_time": "2022-09-27T19:45:41.034Z"
   },
   {
    "duration": 332,
    "start_time": "2022-09-27T19:45:41.048Z"
   },
   {
    "duration": 94,
    "start_time": "2022-09-27T19:45:41.381Z"
   },
   {
    "duration": 24,
    "start_time": "2022-09-27T19:45:41.477Z"
   },
   {
    "duration": 136,
    "start_time": "2022-09-27T19:45:41.503Z"
   },
   {
    "duration": 1443,
    "start_time": "2022-09-27T19:48:11.404Z"
   },
   {
    "duration": 48,
    "start_time": "2022-09-27T19:48:12.850Z"
   },
   {
    "duration": 29,
    "start_time": "2022-09-27T19:48:12.900Z"
   },
   {
    "duration": 11,
    "start_time": "2022-09-27T19:48:12.931Z"
   },
   {
    "duration": 7,
    "start_time": "2022-09-27T19:48:12.944Z"
   },
   {
    "duration": 325,
    "start_time": "2022-09-27T19:48:12.953Z"
   },
   {
    "duration": 6,
    "start_time": "2022-09-27T19:48:13.280Z"
   },
   {
    "duration": 1880,
    "start_time": "2022-09-27T19:48:13.295Z"
   },
   {
    "duration": 25,
    "start_time": "2022-09-27T19:48:15.177Z"
   },
   {
    "duration": 10,
    "start_time": "2022-09-27T19:48:15.205Z"
   },
   {
    "duration": 9,
    "start_time": "2022-09-27T19:48:15.217Z"
   },
   {
    "duration": 8,
    "start_time": "2022-09-27T19:48:15.228Z"
   },
   {
    "duration": 626,
    "start_time": "2022-09-27T19:48:15.237Z"
   },
   {
    "duration": 2030,
    "start_time": "2022-09-27T19:48:15.865Z"
   },
   {
    "duration": 672,
    "start_time": "2022-09-27T19:48:17.897Z"
   },
   {
    "duration": 1033,
    "start_time": "2022-09-27T19:48:18.571Z"
   },
   {
    "duration": 303,
    "start_time": "2022-09-27T19:48:19.607Z"
   },
   {
    "duration": 11,
    "start_time": "2022-09-27T19:48:19.912Z"
   },
   {
    "duration": 315,
    "start_time": "2022-09-27T19:48:19.924Z"
   },
   {
    "duration": 125,
    "start_time": "2022-09-27T19:48:20.241Z"
   },
   {
    "duration": 6,
    "start_time": "2022-09-27T19:48:20.368Z"
   },
   {
    "duration": 144,
    "start_time": "2022-09-27T19:48:20.376Z"
   },
   {
    "duration": 3,
    "start_time": "2022-09-27T19:48:20.522Z"
   },
   {
    "duration": 12,
    "start_time": "2022-09-27T19:48:20.526Z"
   },
   {
    "duration": 8,
    "start_time": "2022-09-27T19:48:20.539Z"
   },
   {
    "duration": 596,
    "start_time": "2022-09-27T19:48:20.548Z"
   },
   {
    "duration": 1576,
    "start_time": "2022-09-27T19:48:21.146Z"
   },
   {
    "duration": 625,
    "start_time": "2022-09-27T19:48:22.725Z"
   },
   {
    "duration": 45,
    "start_time": "2022-09-27T19:48:23.351Z"
   },
   {
    "duration": 18,
    "start_time": "2022-09-27T19:48:23.399Z"
   },
   {
    "duration": 10,
    "start_time": "2022-09-27T19:48:23.420Z"
   },
   {
    "duration": 317,
    "start_time": "2022-09-27T19:48:23.433Z"
   },
   {
    "duration": 106,
    "start_time": "2022-09-27T19:48:23.753Z"
   },
   {
    "duration": 8,
    "start_time": "2022-09-27T19:48:23.862Z"
   },
   {
    "duration": 146,
    "start_time": "2022-09-27T19:48:23.872Z"
   },
   {
    "duration": 2,
    "start_time": "2022-09-27T19:48:24.020Z"
   },
   {
    "duration": 11,
    "start_time": "2022-09-27T19:48:24.025Z"
   },
   {
    "duration": 10,
    "start_time": "2022-09-27T19:48:24.039Z"
   },
   {
    "duration": 599,
    "start_time": "2022-09-27T19:48:24.052Z"
   },
   {
    "duration": 1502,
    "start_time": "2022-09-27T19:48:24.653Z"
   },
   {
    "duration": 586,
    "start_time": "2022-09-27T19:48:26.157Z"
   },
   {
    "duration": 31,
    "start_time": "2022-09-27T19:48:26.745Z"
   },
   {
    "duration": 15,
    "start_time": "2022-09-27T19:48:26.794Z"
   },
   {
    "duration": 13,
    "start_time": "2022-09-27T19:48:26.810Z"
   },
   {
    "duration": 335,
    "start_time": "2022-09-27T19:48:26.826Z"
   },
   {
    "duration": 91,
    "start_time": "2022-09-27T19:48:27.162Z"
   },
   {
    "duration": 6,
    "start_time": "2022-09-27T19:48:27.255Z"
   },
   {
    "duration": 203,
    "start_time": "2022-09-27T19:48:27.262Z"
   },
   {
    "duration": 1417,
    "start_time": "2022-09-27T19:51:45.751Z"
   },
   {
    "duration": 44,
    "start_time": "2022-09-27T19:51:47.170Z"
   },
   {
    "duration": 25,
    "start_time": "2022-09-27T19:51:47.216Z"
   },
   {
    "duration": 11,
    "start_time": "2022-09-27T19:51:47.243Z"
   },
   {
    "duration": 40,
    "start_time": "2022-09-27T19:51:47.256Z"
   },
   {
    "duration": 283,
    "start_time": "2022-09-27T19:51:47.298Z"
   },
   {
    "duration": 17,
    "start_time": "2022-09-27T19:51:47.583Z"
   },
   {
    "duration": 1887,
    "start_time": "2022-09-27T19:51:47.602Z"
   },
   {
    "duration": 18,
    "start_time": "2022-09-27T19:51:49.495Z"
   },
   {
    "duration": 3,
    "start_time": "2022-09-27T19:51:49.516Z"
   },
   {
    "duration": 10,
    "start_time": "2022-09-27T19:51:49.521Z"
   },
   {
    "duration": 7,
    "start_time": "2022-09-27T19:51:49.532Z"
   },
   {
    "duration": 553,
    "start_time": "2022-09-27T19:51:49.594Z"
   },
   {
    "duration": 1790,
    "start_time": "2022-09-27T19:51:50.149Z"
   },
   {
    "duration": 618,
    "start_time": "2022-09-27T19:51:51.940Z"
   },
   {
    "duration": 735,
    "start_time": "2022-09-27T19:51:52.560Z"
   },
   {
    "duration": 225,
    "start_time": "2022-09-27T19:51:53.297Z"
   },
   {
    "duration": 9,
    "start_time": "2022-09-27T19:51:53.524Z"
   },
   {
    "duration": 293,
    "start_time": "2022-09-27T19:51:53.535Z"
   },
   {
    "duration": 114,
    "start_time": "2022-09-27T19:51:53.830Z"
   },
   {
    "duration": 7,
    "start_time": "2022-09-27T19:51:53.945Z"
   },
   {
    "duration": 142,
    "start_time": "2022-09-27T19:51:53.953Z"
   },
   {
    "duration": 3,
    "start_time": "2022-09-27T19:51:54.096Z"
   },
   {
    "duration": 13,
    "start_time": "2022-09-27T19:51:54.100Z"
   },
   {
    "duration": 8,
    "start_time": "2022-09-27T19:51:54.114Z"
   },
   {
    "duration": 577,
    "start_time": "2022-09-27T19:51:54.124Z"
   },
   {
    "duration": 1592,
    "start_time": "2022-09-27T19:51:54.703Z"
   },
   {
    "duration": 613,
    "start_time": "2022-09-27T19:51:56.299Z"
   },
   {
    "duration": 25,
    "start_time": "2022-09-27T19:51:56.914Z"
   },
   {
    "duration": 13,
    "start_time": "2022-09-27T19:51:56.941Z"
   },
   {
    "duration": 41,
    "start_time": "2022-09-27T19:51:56.956Z"
   },
   {
    "duration": 308,
    "start_time": "2022-09-27T19:51:56.999Z"
   },
   {
    "duration": 99,
    "start_time": "2022-09-27T19:51:57.309Z"
   },
   {
    "duration": 7,
    "start_time": "2022-09-27T19:51:57.409Z"
   },
   {
    "duration": 120,
    "start_time": "2022-09-27T19:51:57.417Z"
   },
   {
    "duration": 3,
    "start_time": "2022-09-27T19:51:57.538Z"
   },
   {
    "duration": 12,
    "start_time": "2022-09-27T19:51:57.543Z"
   },
   {
    "duration": 7,
    "start_time": "2022-09-27T19:51:57.557Z"
   },
   {
    "duration": 605,
    "start_time": "2022-09-27T19:51:57.566Z"
   },
   {
    "duration": 1444,
    "start_time": "2022-09-27T19:51:58.173Z"
   },
   {
    "duration": 524,
    "start_time": "2022-09-27T19:51:59.619Z"
   },
   {
    "duration": 30,
    "start_time": "2022-09-27T19:52:00.145Z"
   },
   {
    "duration": 31,
    "start_time": "2022-09-27T19:52:00.176Z"
   },
   {
    "duration": 28,
    "start_time": "2022-09-27T19:52:00.208Z"
   },
   {
    "duration": 298,
    "start_time": "2022-09-27T19:52:00.238Z"
   },
   {
    "duration": 92,
    "start_time": "2022-09-27T19:52:00.538Z"
   },
   {
    "duration": 6,
    "start_time": "2022-09-27T19:52:00.631Z"
   },
   {
    "duration": 217,
    "start_time": "2022-09-27T19:52:00.639Z"
   },
   {
    "duration": 2,
    "start_time": "2022-09-27T19:52:00.858Z"
   },
   {
    "duration": 26,
    "start_time": "2022-09-27T19:52:00.862Z"
   },
   {
    "duration": 28,
    "start_time": "2022-09-27T19:52:00.889Z"
   },
   {
    "duration": 557,
    "start_time": "2022-09-27T19:52:00.918Z"
   },
   {
    "duration": 1312,
    "start_time": "2022-09-27T19:52:01.476Z"
   },
   {
    "duration": 506,
    "start_time": "2022-09-27T19:52:02.790Z"
   },
   {
    "duration": 19,
    "start_time": "2022-09-27T19:52:03.297Z"
   },
   {
    "duration": 15,
    "start_time": "2022-09-27T19:52:03.317Z"
   },
   {
    "duration": 12,
    "start_time": "2022-09-27T19:52:03.334Z"
   },
   {
    "duration": 312,
    "start_time": "2022-09-27T19:52:03.347Z"
   },
   {
    "duration": 79,
    "start_time": "2022-09-27T19:52:03.661Z"
   },
   {
    "duration": 7,
    "start_time": "2022-09-27T19:52:03.741Z"
   },
   {
    "duration": 101,
    "start_time": "2022-09-27T19:52:03.749Z"
   },
   {
    "duration": 1464,
    "start_time": "2022-09-27T20:58:58.465Z"
   },
   {
    "duration": 65,
    "start_time": "2022-09-27T20:58:59.931Z"
   },
   {
    "duration": 25,
    "start_time": "2022-09-27T20:58:59.998Z"
   },
   {
    "duration": 11,
    "start_time": "2022-09-27T20:59:00.025Z"
   },
   {
    "duration": 10,
    "start_time": "2022-09-27T20:59:00.037Z"
   },
   {
    "duration": 328,
    "start_time": "2022-09-27T20:59:00.049Z"
   },
   {
    "duration": 19,
    "start_time": "2022-09-27T20:59:00.379Z"
   },
   {
    "duration": 1909,
    "start_time": "2022-09-27T20:59:00.401Z"
   },
   {
    "duration": 14,
    "start_time": "2022-09-27T20:59:02.312Z"
   },
   {
    "duration": 6,
    "start_time": "2022-09-27T20:59:02.329Z"
   },
   {
    "duration": 18,
    "start_time": "2022-09-27T20:59:02.337Z"
   },
   {
    "duration": 7,
    "start_time": "2022-09-27T20:59:02.395Z"
   },
   {
    "duration": 611,
    "start_time": "2022-09-27T20:59:02.404Z"
   },
   {
    "duration": 1882,
    "start_time": "2022-09-27T20:59:03.017Z"
   },
   {
    "duration": 659,
    "start_time": "2022-09-27T20:59:04.900Z"
   },
   {
    "duration": 636,
    "start_time": "2022-09-27T20:59:05.560Z"
   },
   {
    "duration": 222,
    "start_time": "2022-09-27T20:59:06.198Z"
   },
   {
    "duration": 9,
    "start_time": "2022-09-27T20:59:06.422Z"
   },
   {
    "duration": 349,
    "start_time": "2022-09-27T20:59:06.433Z"
   },
   {
    "duration": 138,
    "start_time": "2022-09-27T20:59:06.785Z"
   },
   {
    "duration": 7,
    "start_time": "2022-09-27T20:59:06.925Z"
   },
   {
    "duration": 146,
    "start_time": "2022-09-27T20:59:06.933Z"
   },
   {
    "duration": 14,
    "start_time": "2022-09-27T20:59:07.081Z"
   },
   {
    "duration": 11,
    "start_time": "2022-09-27T20:59:07.096Z"
   },
   {
    "duration": 8,
    "start_time": "2022-09-27T20:59:07.109Z"
   },
   {
    "duration": 587,
    "start_time": "2022-09-27T20:59:07.119Z"
   },
   {
    "duration": 1652,
    "start_time": "2022-09-27T20:59:07.707Z"
   },
   {
    "duration": 600,
    "start_time": "2022-09-27T20:59:09.364Z"
   },
   {
    "duration": 45,
    "start_time": "2022-09-27T20:59:09.967Z"
   },
   {
    "duration": 17,
    "start_time": "2022-09-27T20:59:10.014Z"
   },
   {
    "duration": 10,
    "start_time": "2022-09-27T20:59:10.033Z"
   },
   {
    "duration": 346,
    "start_time": "2022-09-27T20:59:10.045Z"
   },
   {
    "duration": 104,
    "start_time": "2022-09-27T20:59:10.396Z"
   },
   {
    "duration": 8,
    "start_time": "2022-09-27T20:59:10.502Z"
   },
   {
    "duration": 146,
    "start_time": "2022-09-27T20:59:10.512Z"
   },
   {
    "duration": 3,
    "start_time": "2022-09-27T20:59:10.659Z"
   },
   {
    "duration": 10,
    "start_time": "2022-09-27T20:59:10.663Z"
   },
   {
    "duration": 25,
    "start_time": "2022-09-27T20:59:10.675Z"
   },
   {
    "duration": 586,
    "start_time": "2022-09-27T20:59:10.702Z"
   },
   {
    "duration": 1461,
    "start_time": "2022-09-27T20:59:11.290Z"
   },
   {
    "duration": 561,
    "start_time": "2022-09-27T20:59:12.753Z"
   },
   {
    "duration": 29,
    "start_time": "2022-09-27T20:59:13.316Z"
   },
   {
    "duration": 14,
    "start_time": "2022-09-27T20:59:13.347Z"
   },
   {
    "duration": 35,
    "start_time": "2022-09-27T20:59:13.362Z"
   },
   {
    "duration": 301,
    "start_time": "2022-09-27T20:59:13.399Z"
   },
   {
    "duration": 104,
    "start_time": "2022-09-27T20:59:13.702Z"
   },
   {
    "duration": 7,
    "start_time": "2022-09-27T20:59:13.808Z"
   },
   {
    "duration": 214,
    "start_time": "2022-09-27T20:59:13.817Z"
   },
   {
    "duration": 3,
    "start_time": "2022-09-27T20:59:14.033Z"
   },
   {
    "duration": 12,
    "start_time": "2022-09-27T20:59:14.038Z"
   },
   {
    "duration": 12,
    "start_time": "2022-09-27T20:59:14.052Z"
   },
   {
    "duration": 561,
    "start_time": "2022-09-27T20:59:14.066Z"
   },
   {
    "duration": 1332,
    "start_time": "2022-09-27T20:59:14.629Z"
   },
   {
    "duration": 490,
    "start_time": "2022-09-27T20:59:15.963Z"
   },
   {
    "duration": 41,
    "start_time": "2022-09-27T20:59:16.454Z"
   },
   {
    "duration": 18,
    "start_time": "2022-09-27T20:59:16.497Z"
   },
   {
    "duration": 26,
    "start_time": "2022-09-27T20:59:16.517Z"
   },
   {
    "duration": 327,
    "start_time": "2022-09-27T20:59:16.545Z"
   },
   {
    "duration": 83,
    "start_time": "2022-09-27T20:59:16.874Z"
   },
   {
    "duration": 7,
    "start_time": "2022-09-27T20:59:16.958Z"
   },
   {
    "duration": 110,
    "start_time": "2022-09-27T20:59:16.966Z"
   },
   {
    "duration": 1483,
    "start_time": "2022-09-27T21:00:48.963Z"
   },
   {
    "duration": 45,
    "start_time": "2022-09-27T21:00:50.448Z"
   },
   {
    "duration": 25,
    "start_time": "2022-09-27T21:00:50.494Z"
   },
   {
    "duration": 11,
    "start_time": "2022-09-27T21:00:50.522Z"
   },
   {
    "duration": 8,
    "start_time": "2022-09-27T21:00:50.535Z"
   },
   {
    "duration": 318,
    "start_time": "2022-09-27T21:00:50.544Z"
   },
   {
    "duration": 8,
    "start_time": "2022-09-27T21:00:50.863Z"
   },
   {
    "duration": 1976,
    "start_time": "2022-09-27T21:00:50.872Z"
   },
   {
    "duration": 14,
    "start_time": "2022-09-27T21:00:52.851Z"
   },
   {
    "duration": 6,
    "start_time": "2022-09-27T21:00:52.869Z"
   },
   {
    "duration": 16,
    "start_time": "2022-09-27T21:00:52.877Z"
   },
   {
    "duration": 8,
    "start_time": "2022-09-27T21:00:52.896Z"
   },
   {
    "duration": 595,
    "start_time": "2022-09-27T21:00:52.906Z"
   },
   {
    "duration": 1879,
    "start_time": "2022-09-27T21:00:53.502Z"
   },
   {
    "duration": 635,
    "start_time": "2022-09-27T21:00:55.383Z"
   },
   {
    "duration": 478,
    "start_time": "2022-09-27T21:00:56.019Z"
   },
   {
    "duration": 246,
    "start_time": "2022-09-27T21:00:56.501Z"
   },
   {
    "duration": 12,
    "start_time": "2022-09-27T21:00:56.749Z"
   },
   {
    "duration": 316,
    "start_time": "2022-09-27T21:00:56.763Z"
   },
   {
    "duration": 117,
    "start_time": "2022-09-27T21:00:57.081Z"
   },
   {
    "duration": 7,
    "start_time": "2022-09-27T21:00:57.199Z"
   },
   {
    "duration": 127,
    "start_time": "2022-09-27T21:00:57.207Z"
   },
   {
    "duration": 3,
    "start_time": "2022-09-27T21:00:57.336Z"
   },
   {
    "duration": 10,
    "start_time": "2022-09-27T21:00:57.340Z"
   },
   {
    "duration": 9,
    "start_time": "2022-09-27T21:00:57.352Z"
   },
   {
    "duration": 779,
    "start_time": "2022-09-27T21:00:57.362Z"
   },
   {
    "duration": 1564,
    "start_time": "2022-09-27T21:00:58.142Z"
   },
   {
    "duration": 567,
    "start_time": "2022-09-27T21:00:59.711Z"
   },
   {
    "duration": 36,
    "start_time": "2022-09-27T21:01:00.280Z"
   },
   {
    "duration": 14,
    "start_time": "2022-09-27T21:01:00.318Z"
   },
   {
    "duration": 39,
    "start_time": "2022-09-27T21:01:00.334Z"
   },
   {
    "duration": 310,
    "start_time": "2022-09-27T21:01:00.375Z"
   },
   {
    "duration": 95,
    "start_time": "2022-09-27T21:01:00.687Z"
   },
   {
    "duration": 17,
    "start_time": "2022-09-27T21:01:00.783Z"
   },
   {
    "duration": 131,
    "start_time": "2022-09-27T21:01:00.802Z"
   },
   {
    "duration": 2,
    "start_time": "2022-09-27T21:01:00.935Z"
   },
   {
    "duration": 11,
    "start_time": "2022-09-27T21:01:00.939Z"
   },
   {
    "duration": 13,
    "start_time": "2022-09-27T21:01:00.952Z"
   },
   {
    "duration": 596,
    "start_time": "2022-09-27T21:01:00.966Z"
   },
   {
    "duration": 1515,
    "start_time": "2022-09-27T21:01:01.563Z"
   },
   {
    "duration": 547,
    "start_time": "2022-09-27T21:01:03.080Z"
   },
   {
    "duration": 30,
    "start_time": "2022-09-27T21:01:03.628Z"
   },
   {
    "duration": 14,
    "start_time": "2022-09-27T21:01:03.660Z"
   },
   {
    "duration": 7,
    "start_time": "2022-09-27T21:01:03.696Z"
   },
   {
    "duration": 283,
    "start_time": "2022-09-27T21:01:03.704Z"
   },
   {
    "duration": 79,
    "start_time": "2022-09-27T21:01:03.994Z"
   },
   {
    "duration": 6,
    "start_time": "2022-09-27T21:01:04.075Z"
   },
   {
    "duration": 191,
    "start_time": "2022-09-27T21:01:04.096Z"
   },
   {
    "duration": 2,
    "start_time": "2022-09-27T21:01:04.296Z"
   },
   {
    "duration": 9,
    "start_time": "2022-09-27T21:01:04.301Z"
   },
   {
    "duration": 8,
    "start_time": "2022-09-27T21:01:04.312Z"
   },
   {
    "duration": 549,
    "start_time": "2022-09-27T21:01:04.322Z"
   },
   {
    "duration": 1339,
    "start_time": "2022-09-27T21:01:04.873Z"
   },
   {
    "duration": 501,
    "start_time": "2022-09-27T21:01:06.213Z"
   },
   {
    "duration": 19,
    "start_time": "2022-09-27T21:01:06.716Z"
   },
   {
    "duration": 15,
    "start_time": "2022-09-27T21:01:06.736Z"
   },
   {
    "duration": 15,
    "start_time": "2022-09-27T21:01:06.752Z"
   },
   {
    "duration": 326,
    "start_time": "2022-09-27T21:01:06.769Z"
   },
   {
    "duration": 69,
    "start_time": "2022-09-27T21:01:07.097Z"
   },
   {
    "duration": 7,
    "start_time": "2022-09-27T21:01:07.168Z"
   },
   {
    "duration": 83,
    "start_time": "2022-09-27T21:01:07.196Z"
   },
   {
    "duration": 1335,
    "start_time": "2022-09-27T21:03:40.435Z"
   },
   {
    "duration": 44,
    "start_time": "2022-09-27T21:03:41.772Z"
   },
   {
    "duration": 24,
    "start_time": "2022-09-27T21:03:41.817Z"
   },
   {
    "duration": 10,
    "start_time": "2022-09-27T21:03:41.843Z"
   },
   {
    "duration": 6,
    "start_time": "2022-09-27T21:03:41.854Z"
   },
   {
    "duration": 270,
    "start_time": "2022-09-27T21:03:41.861Z"
   },
   {
    "duration": 6,
    "start_time": "2022-09-27T21:03:42.132Z"
   },
   {
    "duration": 1740,
    "start_time": "2022-09-27T21:03:42.140Z"
   },
   {
    "duration": 13,
    "start_time": "2022-09-27T21:03:43.882Z"
   },
   {
    "duration": 3,
    "start_time": "2022-09-27T21:03:43.897Z"
   },
   {
    "duration": 8,
    "start_time": "2022-09-27T21:03:43.902Z"
   },
   {
    "duration": 6,
    "start_time": "2022-09-27T21:03:43.911Z"
   },
   {
    "duration": 519,
    "start_time": "2022-09-27T21:03:43.918Z"
   },
   {
    "duration": 1710,
    "start_time": "2022-09-27T21:03:44.439Z"
   },
   {
    "duration": 628,
    "start_time": "2022-09-27T21:03:46.151Z"
   },
   {
    "duration": 422,
    "start_time": "2022-09-27T21:03:46.782Z"
   },
   {
    "duration": 290,
    "start_time": "2022-09-27T21:03:47.207Z"
   },
   {
    "duration": 7,
    "start_time": "2022-09-27T21:03:47.498Z"
   },
   {
    "duration": 262,
    "start_time": "2022-09-27T21:03:47.506Z"
   },
   {
    "duration": 110,
    "start_time": "2022-09-27T21:03:47.770Z"
   },
   {
    "duration": 5,
    "start_time": "2022-09-27T21:03:47.881Z"
   },
   {
    "duration": 121,
    "start_time": "2022-09-27T21:03:47.895Z"
   },
   {
    "duration": 3,
    "start_time": "2022-09-27T21:03:48.017Z"
   },
   {
    "duration": 16,
    "start_time": "2022-09-27T21:03:48.022Z"
   },
   {
    "duration": 8,
    "start_time": "2022-09-27T21:03:48.040Z"
   },
   {
    "duration": 531,
    "start_time": "2022-09-27T21:03:48.050Z"
   },
   {
    "duration": 1484,
    "start_time": "2022-09-27T21:03:48.583Z"
   },
   {
    "duration": 542,
    "start_time": "2022-09-27T21:03:50.070Z"
   },
   {
    "duration": 25,
    "start_time": "2022-09-27T21:03:50.613Z"
   },
   {
    "duration": 14,
    "start_time": "2022-09-27T21:03:50.640Z"
   },
   {
    "duration": 8,
    "start_time": "2022-09-27T21:03:50.656Z"
   },
   {
    "duration": 324,
    "start_time": "2022-09-27T21:03:50.666Z"
   },
   {
    "duration": 100,
    "start_time": "2022-09-27T21:03:50.995Z"
   },
   {
    "duration": 6,
    "start_time": "2022-09-27T21:03:51.097Z"
   },
   {
    "duration": 114,
    "start_time": "2022-09-27T21:03:51.105Z"
   },
   {
    "duration": 2,
    "start_time": "2022-09-27T21:03:51.221Z"
   },
   {
    "duration": 12,
    "start_time": "2022-09-27T21:03:51.225Z"
   },
   {
    "duration": 10,
    "start_time": "2022-09-27T21:03:51.239Z"
   },
   {
    "duration": 556,
    "start_time": "2022-09-27T21:03:51.251Z"
   },
   {
    "duration": 1513,
    "start_time": "2022-09-27T21:03:51.809Z"
   },
   {
    "duration": 544,
    "start_time": "2022-09-27T21:03:53.324Z"
   },
   {
    "duration": 38,
    "start_time": "2022-09-27T21:03:53.870Z"
   },
   {
    "duration": 15,
    "start_time": "2022-09-27T21:03:53.910Z"
   },
   {
    "duration": 11,
    "start_time": "2022-09-27T21:03:53.927Z"
   },
   {
    "duration": 303,
    "start_time": "2022-09-27T21:03:53.940Z"
   },
   {
    "duration": 87,
    "start_time": "2022-09-27T21:03:54.245Z"
   },
   {
    "duration": 5,
    "start_time": "2022-09-27T21:03:54.334Z"
   },
   {
    "duration": 193,
    "start_time": "2022-09-27T21:03:54.341Z"
   },
   {
    "duration": 2,
    "start_time": "2022-09-27T21:03:54.536Z"
   },
   {
    "duration": 10,
    "start_time": "2022-09-27T21:03:54.539Z"
   },
   {
    "duration": 9,
    "start_time": "2022-09-27T21:03:54.551Z"
   },
   {
    "duration": 562,
    "start_time": "2022-09-27T21:03:54.562Z"
   },
   {
    "duration": 1248,
    "start_time": "2022-09-27T21:03:55.126Z"
   },
   {
    "duration": 488,
    "start_time": "2022-09-27T21:03:56.376Z"
   },
   {
    "duration": 17,
    "start_time": "2022-09-27T21:03:56.866Z"
   },
   {
    "duration": 13,
    "start_time": "2022-09-27T21:03:56.895Z"
   },
   {
    "duration": 7,
    "start_time": "2022-09-27T21:03:56.910Z"
   },
   {
    "duration": 279,
    "start_time": "2022-09-27T21:03:56.919Z"
   },
   {
    "duration": 66,
    "start_time": "2022-09-27T21:03:57.200Z"
   },
   {
    "duration": 6,
    "start_time": "2022-09-27T21:03:57.268Z"
   },
   {
    "duration": 78,
    "start_time": "2022-09-27T21:03:57.295Z"
   },
   {
    "duration": 1389,
    "start_time": "2022-09-27T21:15:26.031Z"
   },
   {
    "duration": 42,
    "start_time": "2022-09-27T21:15:27.422Z"
   },
   {
    "duration": 22,
    "start_time": "2022-09-27T21:15:27.466Z"
   },
   {
    "duration": 10,
    "start_time": "2022-09-27T21:15:27.490Z"
   },
   {
    "duration": 8,
    "start_time": "2022-09-27T21:15:27.501Z"
   },
   {
    "duration": 251,
    "start_time": "2022-09-27T21:15:27.510Z"
   },
   {
    "duration": 6,
    "start_time": "2022-09-27T21:15:27.762Z"
   },
   {
    "duration": 1775,
    "start_time": "2022-09-27T21:15:27.769Z"
   },
   {
    "duration": 13,
    "start_time": "2022-09-27T21:15:29.546Z"
   },
   {
    "duration": 5,
    "start_time": "2022-09-27T21:15:29.561Z"
   },
   {
    "duration": 9,
    "start_time": "2022-09-27T21:15:29.568Z"
   },
   {
    "duration": 16,
    "start_time": "2022-09-27T21:15:29.579Z"
   },
   {
    "duration": 533,
    "start_time": "2022-09-27T21:15:29.597Z"
   },
   {
    "duration": 1756,
    "start_time": "2022-09-27T21:15:30.132Z"
   },
   {
    "duration": 617,
    "start_time": "2022-09-27T21:15:31.895Z"
   },
   {
    "duration": 490,
    "start_time": "2022-09-27T21:15:32.514Z"
   },
   {
    "duration": 211,
    "start_time": "2022-09-27T21:15:33.096Z"
   },
   {
    "duration": 8,
    "start_time": "2022-09-27T21:15:33.308Z"
   },
   {
    "duration": 261,
    "start_time": "2022-09-27T21:15:33.317Z"
   },
   {
    "duration": 107,
    "start_time": "2022-09-27T21:15:33.579Z"
   },
   {
    "duration": 10,
    "start_time": "2022-09-27T21:15:33.688Z"
   },
   {
    "duration": 122,
    "start_time": "2022-09-27T21:15:33.699Z"
   },
   {
    "duration": 2,
    "start_time": "2022-09-27T21:15:33.823Z"
   },
   {
    "duration": 14,
    "start_time": "2022-09-27T21:15:33.826Z"
   },
   {
    "duration": 8,
    "start_time": "2022-09-27T21:15:33.841Z"
   },
   {
    "duration": 520,
    "start_time": "2022-09-27T21:15:33.850Z"
   },
   {
    "duration": 1457,
    "start_time": "2022-09-27T21:15:34.372Z"
   },
   {
    "duration": 533,
    "start_time": "2022-09-27T21:15:35.833Z"
   },
   {
    "duration": 37,
    "start_time": "2022-09-27T21:15:36.368Z"
   },
   {
    "duration": 15,
    "start_time": "2022-09-27T21:15:36.407Z"
   },
   {
    "duration": 7,
    "start_time": "2022-09-27T21:15:36.424Z"
   },
   {
    "duration": 345,
    "start_time": "2022-09-27T21:15:36.433Z"
   },
   {
    "duration": 98,
    "start_time": "2022-09-27T21:15:36.780Z"
   },
   {
    "duration": 6,
    "start_time": "2022-09-27T21:15:36.880Z"
   },
   {
    "duration": 113,
    "start_time": "2022-09-27T21:15:36.895Z"
   },
   {
    "duration": 3,
    "start_time": "2022-09-27T21:15:37.009Z"
   },
   {
    "duration": 11,
    "start_time": "2022-09-27T21:15:37.013Z"
   },
   {
    "duration": 8,
    "start_time": "2022-09-27T21:15:37.026Z"
   },
   {
    "duration": 592,
    "start_time": "2022-09-27T21:15:37.036Z"
   },
   {
    "duration": 1480,
    "start_time": "2022-09-27T21:15:37.630Z"
   },
   {
    "duration": 522,
    "start_time": "2022-09-27T21:15:39.112Z"
   },
   {
    "duration": 29,
    "start_time": "2022-09-27T21:15:39.636Z"
   },
   {
    "duration": 30,
    "start_time": "2022-09-27T21:15:39.666Z"
   },
   {
    "duration": 35,
    "start_time": "2022-09-27T21:15:39.698Z"
   },
   {
    "duration": 281,
    "start_time": "2022-09-27T21:15:39.735Z"
   },
   {
    "duration": 95,
    "start_time": "2022-09-27T21:15:40.018Z"
   },
   {
    "duration": 6,
    "start_time": "2022-09-27T21:15:40.115Z"
   },
   {
    "duration": 209,
    "start_time": "2022-09-27T21:15:40.122Z"
   },
   {
    "duration": 3,
    "start_time": "2022-09-27T21:15:40.332Z"
   },
   {
    "duration": 28,
    "start_time": "2022-09-27T21:15:40.336Z"
   },
   {
    "duration": 27,
    "start_time": "2022-09-27T21:15:40.366Z"
   },
   {
    "duration": 550,
    "start_time": "2022-09-27T21:15:40.395Z"
   },
   {
    "duration": 1324,
    "start_time": "2022-09-27T21:15:40.947Z"
   },
   {
    "duration": 457,
    "start_time": "2022-09-27T21:15:42.272Z"
   },
   {
    "duration": 18,
    "start_time": "2022-09-27T21:15:42.730Z"
   },
   {
    "duration": 14,
    "start_time": "2022-09-27T21:15:42.749Z"
   },
   {
    "duration": 35,
    "start_time": "2022-09-27T21:15:42.765Z"
   },
   {
    "duration": 295,
    "start_time": "2022-09-27T21:15:42.802Z"
   },
   {
    "duration": 66,
    "start_time": "2022-09-27T21:15:43.099Z"
   },
   {
    "duration": 6,
    "start_time": "2022-09-27T21:15:43.166Z"
   },
   {
    "duration": 95,
    "start_time": "2022-09-27T21:15:43.174Z"
   },
   {
    "duration": 9000,
    "start_time": "2022-09-28T19:34:10.995Z"
   },
   {
    "duration": 599,
    "start_time": "2022-09-28T19:34:19.998Z"
   },
   {
    "duration": 296,
    "start_time": "2022-09-28T19:34:20.599Z"
   },
   {
    "duration": 206,
    "start_time": "2022-09-28T19:34:20.988Z"
   },
   {
    "duration": 109,
    "start_time": "2022-09-28T19:34:21.290Z"
   },
   {
    "duration": 2113,
    "start_time": "2022-09-28T19:34:21.490Z"
   },
   {
    "duration": 197,
    "start_time": "2022-09-28T19:34:23.605Z"
   },
   {
    "duration": 16200,
    "start_time": "2022-09-28T19:34:23.889Z"
   },
   {
    "duration": 198,
    "start_time": "2022-09-28T19:34:40.091Z"
   },
   {
    "duration": 7,
    "start_time": "2022-09-28T19:34:40.293Z"
   },
   {
    "duration": 189,
    "start_time": "2022-09-28T19:34:40.304Z"
   },
   {
    "duration": 296,
    "start_time": "2022-09-28T19:34:40.494Z"
   },
   {
    "duration": 4304,
    "start_time": "2022-09-28T19:34:40.796Z"
   },
   {
    "duration": 13491,
    "start_time": "2022-09-28T19:34:45.103Z"
   },
   {
    "duration": 5199,
    "start_time": "2022-09-28T19:34:58.597Z"
   },
   {
    "duration": 2996,
    "start_time": "2022-09-28T19:35:03.798Z"
   },
   {
    "duration": 99,
    "start_time": "2022-09-28T19:35:06.798Z"
   },
   {
    "duration": 296,
    "start_time": "2022-09-28T19:35:06.899Z"
   },
   {
    "duration": 2299,
    "start_time": "2022-09-28T19:35:07.197Z"
   },
   {
    "duration": 992,
    "start_time": "2022-09-28T19:35:09.498Z"
   },
   {
    "duration": 98,
    "start_time": "2022-09-28T19:35:10.492Z"
   },
   {
    "duration": 2095,
    "start_time": "2022-09-28T19:35:10.593Z"
   },
   {
    "duration": 7,
    "start_time": "2022-09-28T19:35:12.697Z"
   },
   {
    "duration": 98,
    "start_time": "2022-09-28T19:35:12.793Z"
   },
   {
    "duration": 92,
    "start_time": "2022-09-28T19:35:12.904Z"
   },
   {
    "duration": 4295,
    "start_time": "2022-09-28T19:35:12.999Z"
   },
   {
    "duration": 12311,
    "start_time": "2022-09-28T19:35:17.296Z"
   },
   {
    "duration": 2699,
    "start_time": "2022-09-28T19:35:29.696Z"
   },
   {
    "duration": 192,
    "start_time": "2022-09-28T19:35:32.397Z"
   },
   {
    "duration": 107,
    "start_time": "2022-09-28T19:35:32.592Z"
   },
   {
    "duration": 93,
    "start_time": "2022-09-28T19:35:32.701Z"
   },
   {
    "duration": 2306,
    "start_time": "2022-09-28T19:35:32.796Z"
   },
   {
    "duration": 799,
    "start_time": "2022-09-28T19:35:35.106Z"
   },
   {
    "duration": 85,
    "start_time": "2022-09-28T19:35:35.911Z"
   },
   {
    "duration": 997,
    "start_time": "2022-09-28T19:35:36.005Z"
   },
   {
    "duration": 8,
    "start_time": "2022-09-28T19:35:37.088Z"
   },
   {
    "duration": 203,
    "start_time": "2022-09-28T19:35:37.099Z"
   },
   {
    "duration": 193,
    "start_time": "2022-09-28T19:35:37.304Z"
   },
   {
    "duration": 4110,
    "start_time": "2022-09-28T19:35:37.500Z"
   },
   {
    "duration": 11781,
    "start_time": "2022-09-28T19:35:41.618Z"
   },
   {
    "duration": 4489,
    "start_time": "2022-09-28T19:35:53.401Z"
   },
   {
    "duration": 209,
    "start_time": "2022-09-28T19:35:57.893Z"
   },
   {
    "duration": 199,
    "start_time": "2022-09-28T19:35:58.104Z"
   },
   {
    "duration": 83,
    "start_time": "2022-09-28T19:35:58.312Z"
   },
   {
    "duration": 2310,
    "start_time": "2022-09-28T19:35:58.399Z"
   },
   {
    "duration": 707,
    "start_time": "2022-09-28T19:36:00.794Z"
   },
   {
    "duration": 87,
    "start_time": "2022-09-28T19:36:01.504Z"
   },
   {
    "duration": 802,
    "start_time": "2022-09-28T19:36:01.593Z"
   },
   {
    "duration": 10,
    "start_time": "2022-09-28T19:36:02.398Z"
   },
   {
    "duration": 301,
    "start_time": "2022-09-28T19:36:02.410Z"
   },
   {
    "duration": 183,
    "start_time": "2022-09-28T19:36:02.713Z"
   },
   {
    "duration": 5012,
    "start_time": "2022-09-28T19:36:02.898Z"
   },
   {
    "duration": 9877,
    "start_time": "2022-09-28T19:36:07.912Z"
   },
   {
    "duration": 3311,
    "start_time": "2022-09-28T19:36:17.791Z"
   },
   {
    "duration": 103,
    "start_time": "2022-09-28T19:36:21.104Z"
   },
   {
    "duration": 490,
    "start_time": "2022-09-28T19:36:21.209Z"
   },
   {
    "duration": 202,
    "start_time": "2022-09-28T19:36:21.706Z"
   },
   {
    "duration": 2689,
    "start_time": "2022-09-28T19:36:21.915Z"
   },
   {
    "duration": 585,
    "start_time": "2022-09-28T19:36:24.607Z"
   },
   {
    "duration": 14,
    "start_time": "2022-09-28T19:36:25.194Z"
   },
   {
    "duration": 793,
    "start_time": "2022-09-28T19:36:25.210Z"
   },
   {
    "duration": 52,
    "start_time": "2022-09-28T22:51:16.323Z"
   },
   {
    "duration": 1320,
    "start_time": "2022-09-28T22:51:23.758Z"
   },
   {
    "duration": 41,
    "start_time": "2022-09-28T22:51:25.080Z"
   },
   {
    "duration": 22,
    "start_time": "2022-09-28T22:51:25.123Z"
   },
   {
    "duration": 9,
    "start_time": "2022-09-28T22:51:25.147Z"
   },
   {
    "duration": 8,
    "start_time": "2022-09-28T22:51:25.158Z"
   },
   {
    "duration": 256,
    "start_time": "2022-09-28T22:51:25.167Z"
   },
   {
    "duration": 8,
    "start_time": "2022-09-28T22:51:25.425Z"
   },
   {
    "duration": 6,
    "start_time": "2022-09-28T22:51:26.961Z"
   },
   {
    "duration": 89,
    "start_time": "2022-09-28T22:51:55.691Z"
   },
   {
    "duration": 62,
    "start_time": "2022-09-28T22:51:59.714Z"
   },
   {
    "duration": 1681,
    "start_time": "2022-09-28T22:52:47.757Z"
   },
   {
    "duration": 12,
    "start_time": "2022-09-28T22:55:07.855Z"
   },
   {
    "duration": 2,
    "start_time": "2022-09-28T22:58:37.504Z"
   },
   {
    "duration": 9,
    "start_time": "2022-09-28T22:58:52.712Z"
   },
   {
    "duration": 7,
    "start_time": "2022-09-28T22:59:30.790Z"
   },
   {
    "duration": 454,
    "start_time": "2022-09-28T23:01:34.380Z"
   },
   {
    "duration": 1306,
    "start_time": "2022-09-28T23:02:03.651Z"
   },
   {
    "duration": 26,
    "start_time": "2022-09-28T23:02:38.874Z"
   },
   {
    "duration": 14,
    "start_time": "2022-09-28T23:03:01.181Z"
   },
   {
    "duration": 6,
    "start_time": "2022-09-28T23:03:31.473Z"
   },
   {
    "duration": 246,
    "start_time": "2022-09-28T23:04:44.051Z"
   },
   {
    "duration": 73,
    "start_time": "2022-09-28T23:07:27.910Z"
   },
   {
    "duration": 6,
    "start_time": "2022-09-28T23:07:47.204Z"
   },
   {
    "duration": 186,
    "start_time": "2022-09-28T23:08:07.966Z"
   },
   {
    "duration": 76,
    "start_time": "2022-09-28T23:14:56.039Z"
   },
   {
    "duration": 76,
    "start_time": "2022-09-28T23:15:23.625Z"
   },
   {
    "duration": 6,
    "start_time": "2022-09-28T23:15:39.799Z"
   },
   {
    "duration": 78,
    "start_time": "2022-09-28T23:28:51.856Z"
   },
   {
    "duration": 1359,
    "start_time": "2022-09-28T23:29:13.224Z"
   },
   {
    "duration": 42,
    "start_time": "2022-09-28T23:29:14.585Z"
   },
   {
    "duration": 24,
    "start_time": "2022-09-28T23:29:14.629Z"
   },
   {
    "duration": 10,
    "start_time": "2022-09-28T23:29:14.655Z"
   },
   {
    "duration": 5,
    "start_time": "2022-09-28T23:29:14.667Z"
   },
   {
    "duration": 270,
    "start_time": "2022-09-28T23:29:14.674Z"
   },
   {
    "duration": 6,
    "start_time": "2022-09-28T23:29:14.945Z"
   },
   {
    "duration": 1686,
    "start_time": "2022-09-28T23:29:14.952Z"
   },
   {
    "duration": 15,
    "start_time": "2022-09-28T23:29:16.639Z"
   },
   {
    "duration": 4,
    "start_time": "2022-09-28T23:29:16.656Z"
   },
   {
    "duration": 11,
    "start_time": "2022-09-28T23:29:16.661Z"
   },
   {
    "duration": 17,
    "start_time": "2022-09-28T23:29:16.673Z"
   },
   {
    "duration": 492,
    "start_time": "2022-09-28T23:29:16.733Z"
   },
   {
    "duration": 1364,
    "start_time": "2022-09-28T23:29:17.227Z"
   },
   {
    "duration": 53,
    "start_time": "2022-09-28T23:29:18.593Z"
   },
   {
    "duration": 15,
    "start_time": "2022-09-28T23:29:18.648Z"
   },
   {
    "duration": 6,
    "start_time": "2022-09-28T23:29:18.665Z"
   },
   {
    "duration": 286,
    "start_time": "2022-09-28T23:29:18.673Z"
   },
   {
    "duration": 96,
    "start_time": "2022-09-28T23:29:18.961Z"
   },
   {
    "duration": 7,
    "start_time": "2022-09-28T23:29:19.059Z"
   },
   {
    "duration": 208,
    "start_time": "2022-09-28T23:29:19.068Z"
   },
   {
    "duration": 42,
    "start_time": "2022-09-29T17:12:01.119Z"
   },
   {
    "duration": 1914,
    "start_time": "2022-09-29T17:12:19.452Z"
   },
   {
    "duration": 125,
    "start_time": "2022-09-29T17:12:21.368Z"
   },
   {
    "duration": 20,
    "start_time": "2022-09-29T17:12:21.495Z"
   },
   {
    "duration": 13,
    "start_time": "2022-09-29T17:12:21.518Z"
   },
   {
    "duration": 6,
    "start_time": "2022-09-29T17:12:21.533Z"
   },
   {
    "duration": 269,
    "start_time": "2022-09-29T17:12:21.540Z"
   },
   {
    "duration": 8,
    "start_time": "2022-09-29T17:12:21.810Z"
   },
   {
    "duration": 10,
    "start_time": "2022-09-29T17:12:21.819Z"
   },
   {
    "duration": 1948,
    "start_time": "2022-09-29T17:12:21.831Z"
   },
   {
    "duration": 25,
    "start_time": "2022-09-29T17:12:23.781Z"
   },
   {
    "duration": 3,
    "start_time": "2022-09-29T17:12:23.808Z"
   },
   {
    "duration": 16,
    "start_time": "2022-09-29T17:12:23.813Z"
   },
   {
    "duration": 10,
    "start_time": "2022-09-29T17:12:23.831Z"
   },
   {
    "duration": 788,
    "start_time": "2022-09-29T17:12:23.843Z"
   },
   {
    "duration": 1772,
    "start_time": "2022-09-29T17:12:24.633Z"
   },
   {
    "duration": 31,
    "start_time": "2022-09-29T17:12:26.407Z"
   },
   {
    "duration": 66,
    "start_time": "2022-09-29T17:12:26.439Z"
   },
   {
    "duration": 10,
    "start_time": "2022-09-29T17:12:26.507Z"
   },
   {
    "duration": 511,
    "start_time": "2022-09-29T17:12:26.519Z"
   },
   {
    "duration": 206,
    "start_time": "2022-09-29T17:12:27.033Z"
   },
   {
    "duration": 6,
    "start_time": "2022-09-29T17:12:27.241Z"
   },
   {
    "duration": 470,
    "start_time": "2022-09-29T17:12:27.248Z"
   }
  ],
  "kernelspec": {
   "display_name": "Python 3 (ipykernel)",
   "language": "python",
   "name": "python3"
  },
  "language_info": {
   "codemirror_mode": {
    "name": "ipython",
    "version": 3
   },
   "file_extension": ".py",
   "mimetype": "text/x-python",
   "name": "python",
   "nbconvert_exporter": "python",
   "pygments_lexer": "ipython3",
   "version": "3.9.5"
  },
  "toc": {
   "base_numbering": 1,
   "nav_menu": {},
   "number_sections": true,
   "sideBar": true,
   "skip_h1_title": true,
   "title_cell": "Table of Contents",
   "title_sidebar": "Contents",
   "toc_cell": false,
   "toc_position": {
    "height": "calc(100% - 180px)",
    "left": "10px",
    "top": "150px",
    "width": "346.396px"
   },
   "toc_section_display": true,
   "toc_window_display": true
  }
 },
 "nbformat": 4,
 "nbformat_minor": 2
}

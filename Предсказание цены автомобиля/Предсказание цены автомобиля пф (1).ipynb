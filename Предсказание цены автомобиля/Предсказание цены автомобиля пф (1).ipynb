{
 "cells": [
  {
   "cell_type": "markdown",
   "metadata": {},
   "source": [
    "# Определение стоимости автомобилей"
   ]
  },
  {
   "cell_type": "markdown",
   "metadata": {},
   "source": [
    "Сервис по продаже автомобилей с пробегом «Не бит, не крашен» разрабатывает приложение для привлечения новых клиентов. В нём можно быстро узнать рыночную стоимость своего автомобиля. В вашем распоряжении исторические данные: технические характеристики, комплектации и цены автомобилей. Вам нужно построить модель для определения стоимости. \n",
    "\n",
    "Заказчику важны:\n",
    "\n",
    "- качество предсказания;\n",
    "- скорость предсказания;\n",
    "- время обучения."
   ]
  },
  {
   "cell_type": "raw",
   "metadata": {},
   "source": [
    "**Описание данных**\n",
    "\n",
    "Данные находятся в файле /datasets/autos.csv.\n",
    "\n",
    "**Признаки**\n",
    "\n",
    "DateCrawled — дата скачивания анкеты из базы\n",
    "VehicleType — тип автомобильного кузова\n",
    "RegistrationYear — год регистрации автомобиля\n",
    "Gearbox — тип коробки передач\n",
    "Power — мощность (л. с.)\n",
    "Model — модель автомобиля\n",
    "Kilometer — пробег (км)\n",
    "RegistrationMonth — месяц регистрации автомобиля\n",
    "FuelType — тип топлива\n",
    "Brand — марка автомобиля\n",
    "Repaired — была машина в ремонте или нет\n",
    "DateCreated — дата создания анкеты\n",
    "NumberOfPictures — количество фотографий автомобиля\n",
    "PostalCode — почтовый индекс владельца анкеты (пользователя)\n",
    "LastSeen — дата последней активности пользователя\n",
    "\n",
    "**Целевой признак**\n",
    "\n",
    "Price — цена (евро)"
   ]
  },
  {
   "cell_type": "markdown",
   "metadata": {},
   "source": [
    "## Подготовка данных"
   ]
  },
  {
   "cell_type": "markdown",
   "metadata": {},
   "source": [
    "### Изучение данных"
   ]
  },
  {
   "cell_type": "markdown",
   "metadata": {},
   "source": [
    "Подключаем библиотеки:"
   ]
  },
  {
   "cell_type": "raw",
   "metadata": {},
   "source": [
    "pandas - для работы с таблицами\n",
    "seaborn - для визуализации данных\n",
    "display - для вывода табличных данных\n",
    "sklearn - инструменты машинного обучения (модели регрессии, метрики для исследования качества моделей, разделение данных, предобработка данных)"
   ]
  },
  {
   "cell_type": "code",
   "execution_count": 1,
   "metadata": {},
   "outputs": [],
   "source": [
    "import pandas as pd\n",
    "import numpy as np\n",
    "import re\n",
    "from scipy import stats as st\n",
    "import matplotlib.pyplot as plt\n",
    "import seaborn as sns\n",
    "from IPython.display import display\n",
    "from numpy.random import RandomState\n",
    "from scipy import stats\n",
    "\n",
    "#from sklearn.inspection import permutation_importance\n",
    "from sklearn.preprocessing import StandardScaler, OneHotEncoder\n",
    "from sklearn.model_selection import train_test_split, cross_val_score, GridSearchCV, RandomizedSearchCV, KFold\n",
    "from sklearn.dummy import DummyRegressor\n",
    "from sklearn.linear_model import LinearRegression, ElasticNet, Ridge\n",
    "from sklearn.ensemble import GradientBoostingRegressor, RandomForestRegressor\n",
    "from sklearn.tree import DecisionTreeRegressor\n",
    "from sklearn.metrics import mean_squared_error, make_scorer\n",
    "from catboost import CatBoostRegressor, Pool\n",
    "import xgboost as xgb\n",
    "import lightgbm as lgb\n",
    "import lightgbm\n",
    "import catboost\n",
    "%matplotlib inline"
   ]
  },
  {
   "cell_type": "code",
   "execution_count": 2,
   "metadata": {},
   "outputs": [],
   "source": [
    "try:\n",
    "    data = pd.read_csv('/datasets/autos.csv')\n",
    "except:\n",
    "    data = pd.read_csv('https://code.s3.yandex.net/datasets/autos.csv')"
   ]
  },
  {
   "cell_type": "code",
   "execution_count": 3,
   "metadata": {},
   "outputs": [],
   "source": [
    "class DataScience:\n",
    "\n",
    "    def path_to_files(self, path, link):\n",
    "        Path('datasets').mkdir(parents=True, exist_ok=True)\n",
    "        def get_file(file_name, url):\n",
    "            if not os.path.exists(file_name):\n",
    "                print(file_name, 'файл не найден, будет загружен из сети')\n",
    "                _ = urllib.request.urlretrieve(url, file_name)\n",
    "        urls = {\n",
    "            'dataset': (path, link)\n",
    "        }\n",
    "        [get_file(*urls[k]) for k in urls]\n",
    "        data = pd.read_csv(urls['dataset'][0])\n",
    "        return data\n",
    "\n",
    "\n",
    "    def corr_diagram(self, x):\n",
    "        plt.figure(figsize=(12, 10), dpi=80)\n",
    "        sns.heatmap(x.corr(), xticklabels=x.corr().columns, yticklabels=x.corr().columns, cmap='RdYlGn', center=0,\n",
    "                    annot=True)\n",
    "        plt.title('Диаграмма корреляции', fontsize=22)\n",
    "        plt.xticks(fontsize=12)\n",
    "        plt.yticks(fontsize=12)\n",
    "        plt.show()\n",
    "\n",
    "    def clean_dataset(self, df):\n",
    "        assert isinstance(df, pd.DataFrame), \"df needs to be a pd.DataFrame\"\n",
    "        df.dropna(inplace=True)\n",
    "        indices_to_keep = ~df.isin([np.nan, np.inf, -np.inf]).any(1)\n",
    "\n",
    "        return df[indices_to_keep].astype(np.float64)\n",
    "\n",
    "    def missing_zero_values_table(self, df):\n",
    "        zero_val = (df == 0.00).astype(int).sum(axis=0)\n",
    "        mis_val = df.isnull().sum()\n",
    "        mis_val_percent = 100 * df.isnull().sum() / len(df)\n",
    "        mz_table = pd.concat([zero_val, mis_val, mis_val_percent], axis=1)\n",
    "        mz_table = mz_table.rename(\n",
    "            columns={0: 'Zero Values', 1: 'Missing Values', 2: '% of Total Values'})\n",
    "        mz_table['Total Zero Missing Values'] = mz_table['Zero Values'] + mz_table['Missing Values']\n",
    "        mz_table['% Total Zero Missing Values'] = 100 * mz_table['Total Zero Missing Values'] / len(df)\n",
    "        mz_table['Data Type'] = df.dtypes\n",
    "        mz_table = mz_table[\n",
    "            mz_table.iloc[:, 1] != 0].sort_values(\n",
    "            '% of Total Values', ascending=False).round(1)\n",
    "        print(\"Your selected dataframe has \" + str(df.shape[1]) + \" columns and \" + str(df.shape[0]) + \" Rows.\\n\"\n",
    "               \"There are \" + str(mz_table.shape[0]) + \" columns that have missing values.\")\n",
    "\n",
    "        return mz_table\n",
    "\n",
    "       \n",
    "    def fill_with_mode(self, column, column1, column2):\n",
    "        df[column] = df.groupby([column1, column2])[column].transform\n",
    "        (lambda x: x.fillna((x.mode()[0] if not x.mode().empty else \"Empty\")))\n",
    "        \n",
    "    def rmse(self,predictions, targets): \n",
    "        return np.sqrt(((predictions - targets) ** 2).mean())\n",
    " "
   ]
  },
  {
   "cell_type": "code",
   "execution_count": 4,
   "metadata": {},
   "outputs": [],
   "source": [
    "    #Присвоим переменной ds класс DataScience\n",
    "    ds = DataScience()"
   ]
  },
  {
   "cell_type": "markdown",
   "metadata": {},
   "source": [
    "Заменим заглавные буквы в именах столбцов на прописные для удобства."
   ]
  },
  {
   "cell_type": "code",
   "execution_count": 5,
   "metadata": {},
   "outputs": [],
   "source": [
    "data.columns = data.columns.str.lower()"
   ]
  },
  {
   "cell_type": "markdown",
   "metadata": {},
   "source": [
    "Загрузим данные из файлов, выведем первые 10 строк для изучения данных.\n",
    "Также с помощью метода info() и  и describe, изучим структуры таблиц: типы данных, количество строк, столбцов, \n",
    "пропущенных данных."
   ]
  },
  {
   "cell_type": "code",
   "execution_count": 6,
   "metadata": {},
   "outputs": [
    {
     "data": {
      "text/html": [
       "<div>\n",
       "<style scoped>\n",
       "    .dataframe tbody tr th:only-of-type {\n",
       "        vertical-align: middle;\n",
       "    }\n",
       "\n",
       "    .dataframe tbody tr th {\n",
       "        vertical-align: top;\n",
       "    }\n",
       "\n",
       "    .dataframe thead th {\n",
       "        text-align: right;\n",
       "    }\n",
       "</style>\n",
       "<table border=\"1\" class=\"dataframe\">\n",
       "  <thead>\n",
       "    <tr style=\"text-align: right;\">\n",
       "      <th></th>\n",
       "      <th>datecrawled</th>\n",
       "      <th>price</th>\n",
       "      <th>vehicletype</th>\n",
       "      <th>registrationyear</th>\n",
       "      <th>gearbox</th>\n",
       "      <th>power</th>\n",
       "      <th>model</th>\n",
       "      <th>kilometer</th>\n",
       "      <th>registrationmonth</th>\n",
       "      <th>fueltype</th>\n",
       "      <th>brand</th>\n",
       "      <th>repaired</th>\n",
       "      <th>datecreated</th>\n",
       "      <th>numberofpictures</th>\n",
       "      <th>postalcode</th>\n",
       "      <th>lastseen</th>\n",
       "    </tr>\n",
       "  </thead>\n",
       "  <tbody>\n",
       "    <tr>\n",
       "      <th>0</th>\n",
       "      <td>2016-03-24 11:52:17</td>\n",
       "      <td>480</td>\n",
       "      <td>NaN</td>\n",
       "      <td>1993</td>\n",
       "      <td>manual</td>\n",
       "      <td>0</td>\n",
       "      <td>golf</td>\n",
       "      <td>150000</td>\n",
       "      <td>0</td>\n",
       "      <td>petrol</td>\n",
       "      <td>volkswagen</td>\n",
       "      <td>NaN</td>\n",
       "      <td>2016-03-24 00:00:00</td>\n",
       "      <td>0</td>\n",
       "      <td>70435</td>\n",
       "      <td>2016-04-07 03:16:57</td>\n",
       "    </tr>\n",
       "    <tr>\n",
       "      <th>1</th>\n",
       "      <td>2016-03-24 10:58:45</td>\n",
       "      <td>18300</td>\n",
       "      <td>coupe</td>\n",
       "      <td>2011</td>\n",
       "      <td>manual</td>\n",
       "      <td>190</td>\n",
       "      <td>NaN</td>\n",
       "      <td>125000</td>\n",
       "      <td>5</td>\n",
       "      <td>gasoline</td>\n",
       "      <td>audi</td>\n",
       "      <td>yes</td>\n",
       "      <td>2016-03-24 00:00:00</td>\n",
       "      <td>0</td>\n",
       "      <td>66954</td>\n",
       "      <td>2016-04-07 01:46:50</td>\n",
       "    </tr>\n",
       "    <tr>\n",
       "      <th>2</th>\n",
       "      <td>2016-03-14 12:52:21</td>\n",
       "      <td>9800</td>\n",
       "      <td>suv</td>\n",
       "      <td>2004</td>\n",
       "      <td>auto</td>\n",
       "      <td>163</td>\n",
       "      <td>grand</td>\n",
       "      <td>125000</td>\n",
       "      <td>8</td>\n",
       "      <td>gasoline</td>\n",
       "      <td>jeep</td>\n",
       "      <td>NaN</td>\n",
       "      <td>2016-03-14 00:00:00</td>\n",
       "      <td>0</td>\n",
       "      <td>90480</td>\n",
       "      <td>2016-04-05 12:47:46</td>\n",
       "    </tr>\n",
       "    <tr>\n",
       "      <th>3</th>\n",
       "      <td>2016-03-17 16:54:04</td>\n",
       "      <td>1500</td>\n",
       "      <td>small</td>\n",
       "      <td>2001</td>\n",
       "      <td>manual</td>\n",
       "      <td>75</td>\n",
       "      <td>golf</td>\n",
       "      <td>150000</td>\n",
       "      <td>6</td>\n",
       "      <td>petrol</td>\n",
       "      <td>volkswagen</td>\n",
       "      <td>no</td>\n",
       "      <td>2016-03-17 00:00:00</td>\n",
       "      <td>0</td>\n",
       "      <td>91074</td>\n",
       "      <td>2016-03-17 17:40:17</td>\n",
       "    </tr>\n",
       "    <tr>\n",
       "      <th>4</th>\n",
       "      <td>2016-03-31 17:25:20</td>\n",
       "      <td>3600</td>\n",
       "      <td>small</td>\n",
       "      <td>2008</td>\n",
       "      <td>manual</td>\n",
       "      <td>69</td>\n",
       "      <td>fabia</td>\n",
       "      <td>90000</td>\n",
       "      <td>7</td>\n",
       "      <td>gasoline</td>\n",
       "      <td>skoda</td>\n",
       "      <td>no</td>\n",
       "      <td>2016-03-31 00:00:00</td>\n",
       "      <td>0</td>\n",
       "      <td>60437</td>\n",
       "      <td>2016-04-06 10:17:21</td>\n",
       "    </tr>\n",
       "    <tr>\n",
       "      <th>5</th>\n",
       "      <td>2016-04-04 17:36:23</td>\n",
       "      <td>650</td>\n",
       "      <td>sedan</td>\n",
       "      <td>1995</td>\n",
       "      <td>manual</td>\n",
       "      <td>102</td>\n",
       "      <td>3er</td>\n",
       "      <td>150000</td>\n",
       "      <td>10</td>\n",
       "      <td>petrol</td>\n",
       "      <td>bmw</td>\n",
       "      <td>yes</td>\n",
       "      <td>2016-04-04 00:00:00</td>\n",
       "      <td>0</td>\n",
       "      <td>33775</td>\n",
       "      <td>2016-04-06 19:17:07</td>\n",
       "    </tr>\n",
       "    <tr>\n",
       "      <th>6</th>\n",
       "      <td>2016-04-01 20:48:51</td>\n",
       "      <td>2200</td>\n",
       "      <td>convertible</td>\n",
       "      <td>2004</td>\n",
       "      <td>manual</td>\n",
       "      <td>109</td>\n",
       "      <td>2_reihe</td>\n",
       "      <td>150000</td>\n",
       "      <td>8</td>\n",
       "      <td>petrol</td>\n",
       "      <td>peugeot</td>\n",
       "      <td>no</td>\n",
       "      <td>2016-04-01 00:00:00</td>\n",
       "      <td>0</td>\n",
       "      <td>67112</td>\n",
       "      <td>2016-04-05 18:18:39</td>\n",
       "    </tr>\n",
       "    <tr>\n",
       "      <th>7</th>\n",
       "      <td>2016-03-21 18:54:38</td>\n",
       "      <td>0</td>\n",
       "      <td>sedan</td>\n",
       "      <td>1980</td>\n",
       "      <td>manual</td>\n",
       "      <td>50</td>\n",
       "      <td>other</td>\n",
       "      <td>40000</td>\n",
       "      <td>7</td>\n",
       "      <td>petrol</td>\n",
       "      <td>volkswagen</td>\n",
       "      <td>no</td>\n",
       "      <td>2016-03-21 00:00:00</td>\n",
       "      <td>0</td>\n",
       "      <td>19348</td>\n",
       "      <td>2016-03-25 16:47:58</td>\n",
       "    </tr>\n",
       "    <tr>\n",
       "      <th>8</th>\n",
       "      <td>2016-04-04 23:42:13</td>\n",
       "      <td>14500</td>\n",
       "      <td>bus</td>\n",
       "      <td>2014</td>\n",
       "      <td>manual</td>\n",
       "      <td>125</td>\n",
       "      <td>c_max</td>\n",
       "      <td>30000</td>\n",
       "      <td>8</td>\n",
       "      <td>petrol</td>\n",
       "      <td>ford</td>\n",
       "      <td>NaN</td>\n",
       "      <td>2016-04-04 00:00:00</td>\n",
       "      <td>0</td>\n",
       "      <td>94505</td>\n",
       "      <td>2016-04-04 23:42:13</td>\n",
       "    </tr>\n",
       "    <tr>\n",
       "      <th>9</th>\n",
       "      <td>2016-03-17 10:53:50</td>\n",
       "      <td>999</td>\n",
       "      <td>small</td>\n",
       "      <td>1998</td>\n",
       "      <td>manual</td>\n",
       "      <td>101</td>\n",
       "      <td>golf</td>\n",
       "      <td>150000</td>\n",
       "      <td>0</td>\n",
       "      <td>NaN</td>\n",
       "      <td>volkswagen</td>\n",
       "      <td>NaN</td>\n",
       "      <td>2016-03-17 00:00:00</td>\n",
       "      <td>0</td>\n",
       "      <td>27472</td>\n",
       "      <td>2016-03-31 17:17:06</td>\n",
       "    </tr>\n",
       "  </tbody>\n",
       "</table>\n",
       "</div>"
      ],
      "text/plain": [
       "           datecrawled  price  vehicletype  registrationyear gearbox  power  \\\n",
       "0  2016-03-24 11:52:17    480          NaN              1993  manual      0   \n",
       "1  2016-03-24 10:58:45  18300        coupe              2011  manual    190   \n",
       "2  2016-03-14 12:52:21   9800          suv              2004    auto    163   \n",
       "3  2016-03-17 16:54:04   1500        small              2001  manual     75   \n",
       "4  2016-03-31 17:25:20   3600        small              2008  manual     69   \n",
       "5  2016-04-04 17:36:23    650        sedan              1995  manual    102   \n",
       "6  2016-04-01 20:48:51   2200  convertible              2004  manual    109   \n",
       "7  2016-03-21 18:54:38      0        sedan              1980  manual     50   \n",
       "8  2016-04-04 23:42:13  14500          bus              2014  manual    125   \n",
       "9  2016-03-17 10:53:50    999        small              1998  manual    101   \n",
       "\n",
       "     model  kilometer  registrationmonth  fueltype       brand repaired  \\\n",
       "0     golf     150000                  0    petrol  volkswagen      NaN   \n",
       "1      NaN     125000                  5  gasoline        audi      yes   \n",
       "2    grand     125000                  8  gasoline        jeep      NaN   \n",
       "3     golf     150000                  6    petrol  volkswagen       no   \n",
       "4    fabia      90000                  7  gasoline       skoda       no   \n",
       "5      3er     150000                 10    petrol         bmw      yes   \n",
       "6  2_reihe     150000                  8    petrol     peugeot       no   \n",
       "7    other      40000                  7    petrol  volkswagen       no   \n",
       "8    c_max      30000                  8    petrol        ford      NaN   \n",
       "9     golf     150000                  0       NaN  volkswagen      NaN   \n",
       "\n",
       "           datecreated  numberofpictures  postalcode             lastseen  \n",
       "0  2016-03-24 00:00:00                 0       70435  2016-04-07 03:16:57  \n",
       "1  2016-03-24 00:00:00                 0       66954  2016-04-07 01:46:50  \n",
       "2  2016-03-14 00:00:00                 0       90480  2016-04-05 12:47:46  \n",
       "3  2016-03-17 00:00:00                 0       91074  2016-03-17 17:40:17  \n",
       "4  2016-03-31 00:00:00                 0       60437  2016-04-06 10:17:21  \n",
       "5  2016-04-04 00:00:00                 0       33775  2016-04-06 19:17:07  \n",
       "6  2016-04-01 00:00:00                 0       67112  2016-04-05 18:18:39  \n",
       "7  2016-03-21 00:00:00                 0       19348  2016-03-25 16:47:58  \n",
       "8  2016-04-04 00:00:00                 0       94505  2016-04-04 23:42:13  \n",
       "9  2016-03-17 00:00:00                 0       27472  2016-03-31 17:17:06  "
      ]
     },
     "metadata": {},
     "output_type": "display_data"
    }
   ],
   "source": [
    "display(data.head(10))"
   ]
  },
  {
   "cell_type": "code",
   "execution_count": 7,
   "metadata": {
    "scrolled": true
   },
   "outputs": [
    {
     "name": "stdout",
     "output_type": "stream",
     "text": [
      "<class 'pandas.core.frame.DataFrame'>\n",
      "RangeIndex: 354369 entries, 0 to 354368\n",
      "Data columns (total 16 columns):\n",
      " #   Column             Non-Null Count   Dtype \n",
      "---  ------             --------------   ----- \n",
      " 0   datecrawled        354369 non-null  object\n",
      " 1   price              354369 non-null  int64 \n",
      " 2   vehicletype        316879 non-null  object\n",
      " 3   registrationyear   354369 non-null  int64 \n",
      " 4   gearbox            334536 non-null  object\n",
      " 5   power              354369 non-null  int64 \n",
      " 6   model              334664 non-null  object\n",
      " 7   kilometer          354369 non-null  int64 \n",
      " 8   registrationmonth  354369 non-null  int64 \n",
      " 9   fueltype           321474 non-null  object\n",
      " 10  brand              354369 non-null  object\n",
      " 11  repaired           283215 non-null  object\n",
      " 12  datecreated        354369 non-null  object\n",
      " 13  numberofpictures   354369 non-null  int64 \n",
      " 14  postalcode         354369 non-null  int64 \n",
      " 15  lastseen           354369 non-null  object\n",
      "dtypes: int64(7), object(9)\n",
      "memory usage: 43.3+ MB\n",
      "None\n"
     ]
    }
   ],
   "source": [
    "print(data.info())"
   ]
  },
  {
   "cell_type": "code",
   "execution_count": 8,
   "metadata": {
    "scrolled": true
   },
   "outputs": [
    {
     "data": {
      "text/html": [
       "<div>\n",
       "<style scoped>\n",
       "    .dataframe tbody tr th:only-of-type {\n",
       "        vertical-align: middle;\n",
       "    }\n",
       "\n",
       "    .dataframe tbody tr th {\n",
       "        vertical-align: top;\n",
       "    }\n",
       "\n",
       "    .dataframe thead th {\n",
       "        text-align: right;\n",
       "    }\n",
       "</style>\n",
       "<table border=\"1\" class=\"dataframe\">\n",
       "  <thead>\n",
       "    <tr style=\"text-align: right;\">\n",
       "      <th></th>\n",
       "      <th>price</th>\n",
       "      <th>registrationyear</th>\n",
       "      <th>power</th>\n",
       "      <th>kilometer</th>\n",
       "      <th>registrationmonth</th>\n",
       "      <th>numberofpictures</th>\n",
       "      <th>postalcode</th>\n",
       "    </tr>\n",
       "  </thead>\n",
       "  <tbody>\n",
       "    <tr>\n",
       "      <th>count</th>\n",
       "      <td>354369.000000</td>\n",
       "      <td>354369.000000</td>\n",
       "      <td>354369.000000</td>\n",
       "      <td>354369.000000</td>\n",
       "      <td>354369.000000</td>\n",
       "      <td>354369.0</td>\n",
       "      <td>354369.000000</td>\n",
       "    </tr>\n",
       "    <tr>\n",
       "      <th>mean</th>\n",
       "      <td>4416.656776</td>\n",
       "      <td>2004.234448</td>\n",
       "      <td>110.094337</td>\n",
       "      <td>128211.172535</td>\n",
       "      <td>5.714645</td>\n",
       "      <td>0.0</td>\n",
       "      <td>50508.689087</td>\n",
       "    </tr>\n",
       "    <tr>\n",
       "      <th>std</th>\n",
       "      <td>4514.158514</td>\n",
       "      <td>90.227958</td>\n",
       "      <td>189.850405</td>\n",
       "      <td>37905.341530</td>\n",
       "      <td>3.726421</td>\n",
       "      <td>0.0</td>\n",
       "      <td>25783.096248</td>\n",
       "    </tr>\n",
       "    <tr>\n",
       "      <th>min</th>\n",
       "      <td>0.000000</td>\n",
       "      <td>1000.000000</td>\n",
       "      <td>0.000000</td>\n",
       "      <td>5000.000000</td>\n",
       "      <td>0.000000</td>\n",
       "      <td>0.0</td>\n",
       "      <td>1067.000000</td>\n",
       "    </tr>\n",
       "    <tr>\n",
       "      <th>25%</th>\n",
       "      <td>1050.000000</td>\n",
       "      <td>1999.000000</td>\n",
       "      <td>69.000000</td>\n",
       "      <td>125000.000000</td>\n",
       "      <td>3.000000</td>\n",
       "      <td>0.0</td>\n",
       "      <td>30165.000000</td>\n",
       "    </tr>\n",
       "    <tr>\n",
       "      <th>50%</th>\n",
       "      <td>2700.000000</td>\n",
       "      <td>2003.000000</td>\n",
       "      <td>105.000000</td>\n",
       "      <td>150000.000000</td>\n",
       "      <td>6.000000</td>\n",
       "      <td>0.0</td>\n",
       "      <td>49413.000000</td>\n",
       "    </tr>\n",
       "    <tr>\n",
       "      <th>75%</th>\n",
       "      <td>6400.000000</td>\n",
       "      <td>2008.000000</td>\n",
       "      <td>143.000000</td>\n",
       "      <td>150000.000000</td>\n",
       "      <td>9.000000</td>\n",
       "      <td>0.0</td>\n",
       "      <td>71083.000000</td>\n",
       "    </tr>\n",
       "    <tr>\n",
       "      <th>max</th>\n",
       "      <td>20000.000000</td>\n",
       "      <td>9999.000000</td>\n",
       "      <td>20000.000000</td>\n",
       "      <td>150000.000000</td>\n",
       "      <td>12.000000</td>\n",
       "      <td>0.0</td>\n",
       "      <td>99998.000000</td>\n",
       "    </tr>\n",
       "  </tbody>\n",
       "</table>\n",
       "</div>"
      ],
      "text/plain": [
       "               price  registrationyear          power      kilometer  \\\n",
       "count  354369.000000     354369.000000  354369.000000  354369.000000   \n",
       "mean     4416.656776       2004.234448     110.094337  128211.172535   \n",
       "std      4514.158514         90.227958     189.850405   37905.341530   \n",
       "min         0.000000       1000.000000       0.000000    5000.000000   \n",
       "25%      1050.000000       1999.000000      69.000000  125000.000000   \n",
       "50%      2700.000000       2003.000000     105.000000  150000.000000   \n",
       "75%      6400.000000       2008.000000     143.000000  150000.000000   \n",
       "max     20000.000000       9999.000000   20000.000000  150000.000000   \n",
       "\n",
       "       registrationmonth  numberofpictures     postalcode  \n",
       "count      354369.000000          354369.0  354369.000000  \n",
       "mean            5.714645               0.0   50508.689087  \n",
       "std             3.726421               0.0   25783.096248  \n",
       "min             0.000000               0.0    1067.000000  \n",
       "25%             3.000000               0.0   30165.000000  \n",
       "50%             6.000000               0.0   49413.000000  \n",
       "75%             9.000000               0.0   71083.000000  \n",
       "max            12.000000               0.0   99998.000000  "
      ]
     },
     "metadata": {},
     "output_type": "display_data"
    }
   ],
   "source": [
    "display(data.describe())"
   ]
  },
  {
   "cell_type": "code",
   "execution_count": 9,
   "metadata": {},
   "outputs": [
    {
     "data": {
      "text/plain": [
       "'2016-04-07 14:36:58'"
      ]
     },
     "execution_count": 9,
     "metadata": {},
     "output_type": "execute_result"
    }
   ],
   "source": [
    "data['datecrawled'].max()"
   ]
  },
  {
   "cell_type": "code",
   "execution_count": 10,
   "metadata": {
    "scrolled": true
   },
   "outputs": [
    {
     "name": "stdout",
     "output_type": "stream",
     "text": [
      "Your selected dataframe has 16 columns and 354369 Rows.\n",
      "There are 5 columns that have missing values.\n"
     ]
    },
    {
     "data": {
      "text/html": [
       "<div>\n",
       "<style scoped>\n",
       "    .dataframe tbody tr th:only-of-type {\n",
       "        vertical-align: middle;\n",
       "    }\n",
       "\n",
       "    .dataframe tbody tr th {\n",
       "        vertical-align: top;\n",
       "    }\n",
       "\n",
       "    .dataframe thead th {\n",
       "        text-align: right;\n",
       "    }\n",
       "</style>\n",
       "<table border=\"1\" class=\"dataframe\">\n",
       "  <thead>\n",
       "    <tr style=\"text-align: right;\">\n",
       "      <th></th>\n",
       "      <th>Zero Values</th>\n",
       "      <th>Missing Values</th>\n",
       "      <th>% of Total Values</th>\n",
       "      <th>Total Zero Missing Values</th>\n",
       "      <th>% Total Zero Missing Values</th>\n",
       "      <th>Data Type</th>\n",
       "    </tr>\n",
       "  </thead>\n",
       "  <tbody>\n",
       "    <tr>\n",
       "      <th>repaired</th>\n",
       "      <td>0</td>\n",
       "      <td>71154</td>\n",
       "      <td>20.1</td>\n",
       "      <td>71154</td>\n",
       "      <td>20.1</td>\n",
       "      <td>object</td>\n",
       "    </tr>\n",
       "    <tr>\n",
       "      <th>vehicletype</th>\n",
       "      <td>0</td>\n",
       "      <td>37490</td>\n",
       "      <td>10.6</td>\n",
       "      <td>37490</td>\n",
       "      <td>10.6</td>\n",
       "      <td>object</td>\n",
       "    </tr>\n",
       "    <tr>\n",
       "      <th>fueltype</th>\n",
       "      <td>0</td>\n",
       "      <td>32895</td>\n",
       "      <td>9.3</td>\n",
       "      <td>32895</td>\n",
       "      <td>9.3</td>\n",
       "      <td>object</td>\n",
       "    </tr>\n",
       "    <tr>\n",
       "      <th>gearbox</th>\n",
       "      <td>0</td>\n",
       "      <td>19833</td>\n",
       "      <td>5.6</td>\n",
       "      <td>19833</td>\n",
       "      <td>5.6</td>\n",
       "      <td>object</td>\n",
       "    </tr>\n",
       "    <tr>\n",
       "      <th>model</th>\n",
       "      <td>0</td>\n",
       "      <td>19705</td>\n",
       "      <td>5.6</td>\n",
       "      <td>19705</td>\n",
       "      <td>5.6</td>\n",
       "      <td>object</td>\n",
       "    </tr>\n",
       "  </tbody>\n",
       "</table>\n",
       "</div>"
      ],
      "text/plain": [
       "             Zero Values  Missing Values  % of Total Values  \\\n",
       "repaired               0           71154               20.1   \n",
       "vehicletype            0           37490               10.6   \n",
       "fueltype               0           32895                9.3   \n",
       "gearbox                0           19833                5.6   \n",
       "model                  0           19705                5.6   \n",
       "\n",
       "             Total Zero Missing Values  % Total Zero Missing Values Data Type  \n",
       "repaired                         71154                         20.1    object  \n",
       "vehicletype                      37490                         10.6    object  \n",
       "fueltype                         32895                          9.3    object  \n",
       "gearbox                          19833                          5.6    object  \n",
       "model                            19705                          5.6    object  "
      ]
     },
     "execution_count": 10,
     "metadata": {},
     "output_type": "execute_result"
    }
   ],
   "source": [
    "#Определим количество пустых значений в датасете\n",
    "\n",
    "ds.missing_zero_values_table(data)"
   ]
  },
  {
   "cell_type": "markdown",
   "metadata": {},
   "source": [
    "Рассмотрим уникальные значения, возможно получится восстановить"
   ]
  },
  {
   "cell_type": "code",
   "execution_count": 11,
   "metadata": {},
   "outputs": [
    {
     "data": {
      "text/plain": [
       "brand           40\n",
       "model          250\n",
       "vehicletype      8\n",
       "gearbox          2\n",
       "fueltype         7\n",
       "dtype: int64"
      ]
     },
     "execution_count": 11,
     "metadata": {},
     "output_type": "execute_result"
    }
   ],
   "source": [
    "#Посмотрим сколько уникальных значений мы имеем в categorical признаках\n",
    "categorical = ['brand','model','vehicletype','gearbox','fueltype']\n",
    "\n",
    "numerical_features_names = data.select_dtypes(include=['int64'])\n",
    "data[categorical].nunique()"
   ]
  },
  {
   "cell_type": "code",
   "execution_count": 12,
   "metadata": {
    "scrolled": true
   },
   "outputs": [
    {
     "name": "stdout",
     "output_type": "stream",
     "text": [
      " Уникальные значения \"vehicletype\":  [nan 'coupe' 'suv' 'small' 'sedan' 'convertible' 'bus' 'wagon' 'other'] \n",
      "\n",
      " Уникальные значения \"gearbox\":  ['manual' 'auto' nan] \n",
      "\n",
      " Уникальные значения \"model\":  ['golf' nan 'grand' 'fabia' '3er' '2_reihe' 'other' 'c_max' '3_reihe'\n",
      " 'passat' 'navara' 'ka' 'polo' 'twingo' 'a_klasse' 'scirocco' '5er'\n",
      " 'meriva' 'arosa' 'c4' 'civic' 'transporter' 'punto' 'e_klasse' 'clio'\n",
      " 'kadett' 'kangoo' 'corsa' 'one' 'fortwo' '1er' 'b_klasse' 'signum'\n",
      " 'astra' 'a8' 'jetta' 'fiesta' 'c_klasse' 'micra' 'vito' 'sprinter' '156'\n",
      " 'escort' 'forester' 'xc_reihe' 'scenic' 'a4' 'a1' 'insignia' 'combo'\n",
      " 'focus' 'tt' 'a6' 'jazz' 'omega' 'slk' '7er' '80' '147' '100' 'z_reihe'\n",
      " 'sportage' 'sorento' 'v40' 'ibiza' 'mustang' 'eos' 'touran' 'getz' 'a3'\n",
      " 'almera' 'megane' 'lupo' 'r19' 'zafira' 'caddy' 'mondeo' 'cordoba' 'colt'\n",
      " 'impreza' 'vectra' 'berlingo' 'tiguan' 'i_reihe' 'espace' 'sharan'\n",
      " '6_reihe' 'panda' 'up' 'seicento' 'ceed' '5_reihe' 'yeti' 'octavia' 'mii'\n",
      " 'rx_reihe' '6er' 'modus' 'fox' 'matiz' 'beetle' 'c1' 'rio' 'touareg'\n",
      " 'logan' 'spider' 'cuore' 's_max' 'a2' 'galaxy' 'c3' 'viano' 's_klasse'\n",
      " '1_reihe' 'avensis' 'roomster' 'sl' 'kaefer' 'santa' 'cooper' 'leon'\n",
      " '4_reihe' 'a5' '500' 'laguna' 'ptcruiser' 'clk' 'primera' 'x_reihe'\n",
      " 'exeo' '159' 'transit' 'juke' 'qashqai' 'carisma' 'accord' 'corolla'\n",
      " 'lanos' 'phaeton' 'verso' 'swift' 'rav' 'picanto' 'boxster' 'kalos'\n",
      " 'superb' 'stilo' 'alhambra' 'mx_reihe' 'roadster' 'ypsilon' 'cayenne'\n",
      " 'galant' 'justy' '90' 'sirion' 'crossfire' 'agila' 'duster' 'cr_reihe'\n",
      " 'v50' 'c_reihe' 'v_klasse' 'm_klasse' 'yaris' 'c5' 'aygo' 'cc' 'carnival'\n",
      " 'fusion' '911' 'bora' 'forfour' 'm_reihe' 'cl' 'tigra' '300c' 'spark'\n",
      " 'v70' 'kuga' 'x_type' 'ducato' 's_type' 'x_trail' 'toledo' 'altea'\n",
      " 'voyager' 'calibra' 'bravo' 'antara' 'tucson' 'citigo' 'jimny' 'wrangler'\n",
      " 'lybra' 'q7' 'lancer' 'captiva' 'c2' 'discovery' 'freelander' 'sandero'\n",
      " 'note' '900' 'cherokee' 'clubman' 'samara' 'defender' '601' 'cx_reihe'\n",
      " 'legacy' 'pajero' 'auris' 'niva' 's60' 'nubira' 'vivaro' 'g_klasse'\n",
      " 'lodgy' '850' 'range_rover' 'q3' 'serie_2' 'glk' 'charade' 'croma'\n",
      " 'outlander' 'doblo' 'musa' 'move' '9000' 'v60' '145' 'aveo' '200' 'b_max'\n",
      " 'range_rover_sport' 'terios' 'rangerover' 'q5' 'range_rover_evoque'\n",
      " 'materia' 'delta' 'gl' 'kalina' 'amarok' 'elefantino' 'i3' 'kappa'\n",
      " 'serie_3' 'serie_1'] \n",
      "\n",
      " Уникальные значения \"repaired\":  [nan 'yes' 'no'] \n",
      "\n",
      " Уникальные значения \"fueltype\":  ['petrol' 'gasoline' nan 'lpg' 'other' 'hybrid' 'cng' 'electric'] \n",
      "\n"
     ]
    }
   ],
   "source": [
    "print(' Уникальные значения \"vehicletype\": ', data['vehicletype'].unique(), '\\n')\n",
    "\n",
    "print(' Уникальные значения \"gearbox\": ', data['gearbox'].unique(), '\\n')\n",
    "\n",
    "print(' Уникальные значения \"model\": ', data['model'].unique(), '\\n')\n",
    "\n",
    "print(' Уникальные значения \"repaired\": ', data['repaired'].unique(), '\\n')\n",
    "\n",
    "print(' Уникальные значения \"fueltype\": ', data['fueltype'].unique(), '\\n')\n"
   ]
  },
  {
   "cell_type": "raw",
   "metadata": {},
   "source": [
    "Уникальные значения \"repaired\":  [nan 'yes' 'no'] \n",
    "\n",
    "Уникальные значения \"fueltype\":  ['petrol' 'gasoline' nan 'lpg' 'other' 'hybrid' 'cng' 'electric'] \n",
    "\n",
    "Уникальных значений моделей и кузовов немного, предлагаю заменить пропущенные значения на 'other'.\n",
    "\n",
    "Так как тип топлива восстановить не получится, предлагаю заменить его на 'other'. Категория \"other\" получится гораздо больше, чем должна быть, но даже по каталогу восстановить не получится - так как одна и та же модель с одним и тем же кузовом может быть, например, как на бензине, так и на дизеле (так и на гибриде).\n",
    "\n",
    "Так же предлагаю заменить пропуски в столбце 'repaired' на 'yes', то есть как будто машина была в ремонте. Пропусков много, просто удалить нельзя, а информации, чтобы восстановить - нет. Так как машин, которые не были в ремонте, точно меньше тех, что были, а также продавец может специально не указывать факт ремонта, чтобы ввести потенциального покупателя в заблуждение - не думаю, что эта замена сильно исказит общую картину.\n",
    "\n",
    "А пропуски в столбце gearbox заменить на manual - машины на \"автомате\" обычно стоят дороже, и скорее факт неуказанной информации говорит о механике."
   ]
  },
  {
   "cell_type": "code",
   "execution_count": 13,
   "metadata": {},
   "outputs": [
    {
     "name": "stdout",
     "output_type": "stream",
     "text": [
      "Количество пропусков в столбце: \"fueltype\"  0\n",
      "Количество пропусков в столбце: \"model\"  0\n",
      "Количество пропусков в столбце: \"gearbox\"  0\n",
      "Количество пропусков в столбце: \"repaired\"  0\n",
      "Количество пропусков в столбце: \"vehicletype\"  0\n"
     ]
    }
   ],
   "source": [
    "data['fueltype'] = data['fueltype'].fillna('other')\n",
    "print('Количество пропусков в столбце: \"fueltype\" ', data['fueltype'].isnull().sum())\n",
    "\n",
    "data['model'] = data['model'].fillna('other')\n",
    "print('Количество пропусков в столбце: \"model\" ', data['model'].isnull().sum())\n",
    "\n",
    "data['gearbox'] = data['gearbox'].fillna('manual')\n",
    "print('Количество пропусков в столбце: \"gearbox\" ', data['gearbox'].isnull().sum())\n",
    "\n",
    "data['repaired'] = data['repaired'].fillna('yes')\n",
    "print('Количество пропусков в столбце: \"repaired\" ', data['repaired'].isnull().sum())\n",
    "\n",
    "data['vehicletype'] = data['vehicletype'].fillna('other')\n",
    "print('Количество пропусков в столбце: \"vehicletype\" ', data['vehicletype'].isnull().sum())\n"
   ]
  },
  {
   "cell_type": "code",
   "execution_count": 14,
   "metadata": {},
   "outputs": [
    {
     "data": {
      "text/plain": [
       "4"
      ]
     },
     "execution_count": 14,
     "metadata": {},
     "output_type": "execute_result"
    }
   ],
   "source": [
    "#определим наличие дубликатов \n",
    "data.duplicated().sum()"
   ]
  },
  {
   "cell_type": "raw",
   "metadata": {},
   "source": [
    "Признаки NumberOfPictures, PostalCode не несут полезной информации, удалим их.\n",
    "Также DateCrawled повторяет дату в признаке DateCreated.\n",
    "Признак Brand скорее всего будет лишним при наличии конкретной модели автомобиля в признаке Model.\n",
    "RegistrationMonth по смыслу вряд ли влияет на цену автомобиля.\n",
    "Избавимся от дублированний и неинформативных признаков."
   ]
  },
  {
   "cell_type": "code",
   "execution_count": 15,
   "metadata": {},
   "outputs": [
    {
     "name": "stdout",
     "output_type": "stream",
     "text": [
      "<class 'pandas.core.frame.DataFrame'>\n",
      "Int64Index: 354365 entries, 0 to 354364\n",
      "Data columns (total 16 columns):\n",
      " #   Column             Non-Null Count   Dtype \n",
      "---  ------             --------------   ----- \n",
      " 0   datecrawled        354365 non-null  object\n",
      " 1   price              354365 non-null  int64 \n",
      " 2   vehicletype        354365 non-null  object\n",
      " 3   registrationyear   354365 non-null  int64 \n",
      " 4   gearbox            354365 non-null  object\n",
      " 5   power              354365 non-null  int64 \n",
      " 6   model              354365 non-null  object\n",
      " 7   kilometer          354365 non-null  int64 \n",
      " 8   registrationmonth  354365 non-null  int64 \n",
      " 9   fueltype           354365 non-null  object\n",
      " 10  brand              354365 non-null  object\n",
      " 11  repaired           354365 non-null  object\n",
      " 12  datecreated        354365 non-null  object\n",
      " 13  numberofpictures   354365 non-null  int64 \n",
      " 14  postalcode         354365 non-null  int64 \n",
      " 15  lastseen           354365 non-null  object\n",
      "dtypes: int64(7), object(9)\n",
      "memory usage: 46.0+ MB\n"
     ]
    }
   ],
   "source": [
    "#Удалим nan Значения и дубликаты\n",
    "\n",
    "data = data.drop_duplicates().reset_index(drop=True)\n",
    "\n",
    "data = data.dropna()\n",
    "\n",
    "data.info()"
   ]
  },
  {
   "cell_type": "code",
   "execution_count": 16,
   "metadata": {
    "scrolled": true
   },
   "outputs": [
    {
     "data": {
      "text/html": [
       "<div>\n",
       "<style scoped>\n",
       "    .dataframe tbody tr th:only-of-type {\n",
       "        vertical-align: middle;\n",
       "    }\n",
       "\n",
       "    .dataframe tbody tr th {\n",
       "        vertical-align: top;\n",
       "    }\n",
       "\n",
       "    .dataframe thead th {\n",
       "        text-align: right;\n",
       "    }\n",
       "</style>\n",
       "<table border=\"1\" class=\"dataframe\">\n",
       "  <thead>\n",
       "    <tr style=\"text-align: right;\">\n",
       "      <th></th>\n",
       "      <th>price</th>\n",
       "      <th>vehicletype</th>\n",
       "      <th>registrationyear</th>\n",
       "      <th>gearbox</th>\n",
       "      <th>power</th>\n",
       "      <th>model</th>\n",
       "      <th>kilometer</th>\n",
       "      <th>registrationmonth</th>\n",
       "      <th>fueltype</th>\n",
       "      <th>brand</th>\n",
       "      <th>repaired</th>\n",
       "    </tr>\n",
       "  </thead>\n",
       "  <tbody>\n",
       "    <tr>\n",
       "      <th>0</th>\n",
       "      <td>480</td>\n",
       "      <td>other</td>\n",
       "      <td>1993</td>\n",
       "      <td>manual</td>\n",
       "      <td>0</td>\n",
       "      <td>golf</td>\n",
       "      <td>150000</td>\n",
       "      <td>0</td>\n",
       "      <td>petrol</td>\n",
       "      <td>volkswagen</td>\n",
       "      <td>yes</td>\n",
       "    </tr>\n",
       "    <tr>\n",
       "      <th>1</th>\n",
       "      <td>18300</td>\n",
       "      <td>coupe</td>\n",
       "      <td>2011</td>\n",
       "      <td>manual</td>\n",
       "      <td>190</td>\n",
       "      <td>other</td>\n",
       "      <td>125000</td>\n",
       "      <td>5</td>\n",
       "      <td>gasoline</td>\n",
       "      <td>audi</td>\n",
       "      <td>yes</td>\n",
       "    </tr>\n",
       "    <tr>\n",
       "      <th>2</th>\n",
       "      <td>9800</td>\n",
       "      <td>suv</td>\n",
       "      <td>2004</td>\n",
       "      <td>auto</td>\n",
       "      <td>163</td>\n",
       "      <td>grand</td>\n",
       "      <td>125000</td>\n",
       "      <td>8</td>\n",
       "      <td>gasoline</td>\n",
       "      <td>jeep</td>\n",
       "      <td>yes</td>\n",
       "    </tr>\n",
       "    <tr>\n",
       "      <th>3</th>\n",
       "      <td>1500</td>\n",
       "      <td>small</td>\n",
       "      <td>2001</td>\n",
       "      <td>manual</td>\n",
       "      <td>75</td>\n",
       "      <td>golf</td>\n",
       "      <td>150000</td>\n",
       "      <td>6</td>\n",
       "      <td>petrol</td>\n",
       "      <td>volkswagen</td>\n",
       "      <td>no</td>\n",
       "    </tr>\n",
       "    <tr>\n",
       "      <th>4</th>\n",
       "      <td>3600</td>\n",
       "      <td>small</td>\n",
       "      <td>2008</td>\n",
       "      <td>manual</td>\n",
       "      <td>69</td>\n",
       "      <td>fabia</td>\n",
       "      <td>90000</td>\n",
       "      <td>7</td>\n",
       "      <td>gasoline</td>\n",
       "      <td>skoda</td>\n",
       "      <td>no</td>\n",
       "    </tr>\n",
       "  </tbody>\n",
       "</table>\n",
       "</div>"
      ],
      "text/plain": [
       "   price vehicletype  registrationyear gearbox  power  model  kilometer  \\\n",
       "0    480       other              1993  manual      0   golf     150000   \n",
       "1  18300       coupe              2011  manual    190  other     125000   \n",
       "2   9800         suv              2004    auto    163  grand     125000   \n",
       "3   1500       small              2001  manual     75   golf     150000   \n",
       "4   3600       small              2008  manual     69  fabia      90000   \n",
       "\n",
       "   registrationmonth  fueltype       brand repaired  \n",
       "0                  0    petrol  volkswagen      yes  \n",
       "1                  5  gasoline        audi      yes  \n",
       "2                  8  gasoline        jeep      yes  \n",
       "3                  6    petrol  volkswagen       no  \n",
       "4                  7  gasoline       skoda       no  "
      ]
     },
     "execution_count": 16,
     "metadata": {},
     "output_type": "execute_result"
    }
   ],
   "source": [
    "#Удаляем неопределяющие столбцы, которые не понадобятся\n",
    "data=data.drop(['datecrawled','datecreated','postalcode','lastseen','numberofpictures'], axis=1)\n",
    "data.head(5)"
   ]
  },
  {
   "cell_type": "code",
   "execution_count": 17,
   "metadata": {},
   "outputs": [],
   "source": [
    "numerical_features = ['dateCreated', 'price', 'RrgistrationYear', 'power', 'kilometer', 'lastSeen']\n",
    "categorical_features = ['vehicleType', 'gearbox', 'model', 'fueltype', 'repaired', 'brand']"
   ]
  },
  {
   "cell_type": "code",
   "execution_count": 18,
   "metadata": {},
   "outputs": [],
   "source": [
    "#Заменим yes на 1 , no на 0\n",
    "data['repaired'] = data['repaired'].map({'yes':1, 'no':0})"
   ]
  },
  {
   "cell_type": "code",
   "execution_count": 19,
   "metadata": {},
   "outputs": [
    {
     "data": {
      "text/html": [
       "<div>\n",
       "<style scoped>\n",
       "    .dataframe tbody tr th:only-of-type {\n",
       "        vertical-align: middle;\n",
       "    }\n",
       "\n",
       "    .dataframe tbody tr th {\n",
       "        vertical-align: top;\n",
       "    }\n",
       "\n",
       "    .dataframe thead th {\n",
       "        text-align: right;\n",
       "    }\n",
       "</style>\n",
       "<table border=\"1\" class=\"dataframe\">\n",
       "  <thead>\n",
       "    <tr style=\"text-align: right;\">\n",
       "      <th></th>\n",
       "      <th>price</th>\n",
       "      <th>vehicletype</th>\n",
       "      <th>registrationyear</th>\n",
       "      <th>gearbox</th>\n",
       "      <th>power</th>\n",
       "      <th>model</th>\n",
       "      <th>kilometer</th>\n",
       "      <th>registrationmonth</th>\n",
       "      <th>fueltype</th>\n",
       "      <th>brand</th>\n",
       "      <th>repaired</th>\n",
       "    </tr>\n",
       "  </thead>\n",
       "  <tbody>\n",
       "    <tr>\n",
       "      <th>0</th>\n",
       "      <td>480</td>\n",
       "      <td>other</td>\n",
       "      <td>1993</td>\n",
       "      <td>manual</td>\n",
       "      <td>0</td>\n",
       "      <td>golf</td>\n",
       "      <td>150000</td>\n",
       "      <td>0</td>\n",
       "      <td>petrol</td>\n",
       "      <td>volkswagen</td>\n",
       "      <td>1</td>\n",
       "    </tr>\n",
       "    <tr>\n",
       "      <th>1</th>\n",
       "      <td>18300</td>\n",
       "      <td>coupe</td>\n",
       "      <td>2011</td>\n",
       "      <td>manual</td>\n",
       "      <td>190</td>\n",
       "      <td>other</td>\n",
       "      <td>125000</td>\n",
       "      <td>5</td>\n",
       "      <td>gasoline</td>\n",
       "      <td>audi</td>\n",
       "      <td>1</td>\n",
       "    </tr>\n",
       "    <tr>\n",
       "      <th>2</th>\n",
       "      <td>9800</td>\n",
       "      <td>suv</td>\n",
       "      <td>2004</td>\n",
       "      <td>auto</td>\n",
       "      <td>163</td>\n",
       "      <td>grand</td>\n",
       "      <td>125000</td>\n",
       "      <td>8</td>\n",
       "      <td>gasoline</td>\n",
       "      <td>jeep</td>\n",
       "      <td>1</td>\n",
       "    </tr>\n",
       "    <tr>\n",
       "      <th>3</th>\n",
       "      <td>1500</td>\n",
       "      <td>small</td>\n",
       "      <td>2001</td>\n",
       "      <td>manual</td>\n",
       "      <td>75</td>\n",
       "      <td>golf</td>\n",
       "      <td>150000</td>\n",
       "      <td>6</td>\n",
       "      <td>petrol</td>\n",
       "      <td>volkswagen</td>\n",
       "      <td>0</td>\n",
       "    </tr>\n",
       "    <tr>\n",
       "      <th>4</th>\n",
       "      <td>3600</td>\n",
       "      <td>small</td>\n",
       "      <td>2008</td>\n",
       "      <td>manual</td>\n",
       "      <td>69</td>\n",
       "      <td>fabia</td>\n",
       "      <td>90000</td>\n",
       "      <td>7</td>\n",
       "      <td>gasoline</td>\n",
       "      <td>skoda</td>\n",
       "      <td>0</td>\n",
       "    </tr>\n",
       "  </tbody>\n",
       "</table>\n",
       "</div>"
      ],
      "text/plain": [
       "   price vehicletype  registrationyear gearbox  power  model  kilometer  \\\n",
       "0    480       other              1993  manual      0   golf     150000   \n",
       "1  18300       coupe              2011  manual    190  other     125000   \n",
       "2   9800         suv              2004    auto    163  grand     125000   \n",
       "3   1500       small              2001  manual     75   golf     150000   \n",
       "4   3600       small              2008  manual     69  fabia      90000   \n",
       "\n",
       "   registrationmonth  fueltype       brand  repaired  \n",
       "0                  0    petrol  volkswagen         1  \n",
       "1                  5  gasoline        audi         1  \n",
       "2                  8  gasoline        jeep         1  \n",
       "3                  6    petrol  volkswagen         0  \n",
       "4                  7  gasoline       skoda         0  "
      ]
     },
     "metadata": {},
     "output_type": "display_data"
    },
    {
     "name": "stdout",
     "output_type": "stream",
     "text": [
      "<class 'pandas.core.frame.DataFrame'>\n",
      "Int64Index: 354365 entries, 0 to 354364\n",
      "Data columns (total 11 columns):\n",
      " #   Column             Non-Null Count   Dtype \n",
      "---  ------             --------------   ----- \n",
      " 0   price              354365 non-null  int64 \n",
      " 1   vehicletype        354365 non-null  object\n",
      " 2   registrationyear   354365 non-null  int64 \n",
      " 3   gearbox            354365 non-null  object\n",
      " 4   power              354365 non-null  int64 \n",
      " 5   model              354365 non-null  object\n",
      " 6   kilometer          354365 non-null  int64 \n",
      " 7   registrationmonth  354365 non-null  int64 \n",
      " 8   fueltype           354365 non-null  object\n",
      " 9   brand              354365 non-null  object\n",
      " 10  repaired           354365 non-null  int64 \n",
      "dtypes: int64(6), object(5)\n",
      "memory usage: 32.4+ MB\n"
     ]
    }
   ],
   "source": [
    "display(data.head())\n",
    "data.info()\n"
   ]
  },
  {
   "cell_type": "markdown",
   "metadata": {},
   "source": [
    "Определим выбросы"
   ]
  },
  {
   "cell_type": "code",
   "execution_count": 20,
   "metadata": {
    "scrolled": true
   },
   "outputs": [
    {
     "name": "stdout",
     "output_type": "stream",
     "text": [
      " Уникальные значения \"registrationyear\":  [1993 2011 2004 2001 2008 1995 1980 2014 1998 2005 1910 2016 2007 2009\n",
      " 2002 2018 1997 1990 2017 1981 2003 1994 1991 1984 2006 1999 2012 2010\n",
      " 2000 1992 2013 1996 1985 1989 2015 1982 1976 1983 1973 1111 1969 1971\n",
      " 1987 1986 1988 1970 1965 1945 1925 1974 1979 1955 1978 1972 1968 1977\n",
      " 1961 1960 1966 1975 1963 1964 5000 1954 1958 1967 1959 9999 1956 3200\n",
      " 1000 1941 8888 1500 2200 4100 1962 1929 1957 1940 3000 2066 1949 2019\n",
      " 1937 1951 1800 1953 1234 8000 5300 9000 2900 6000 5900 5911 1933 1400\n",
      " 1950 4000 1948 1952 1200 8500 1932 1255 3700 3800 4800 1942 7000 1935\n",
      " 1936 6500 1923 2290 2500 1930 1001 9450 1944 1943 1934 1938 1688 2800\n",
      " 1253 1928 1919 5555 5600 1600 2222 1039 9996 1300 8455 1931 1915 4500\n",
      " 1920 1602 7800 9229 1947 1927 7100 8200 1946 7500 3500]\n"
     ]
    },
    {
     "data": {
      "text/html": [
       "<div>\n",
       "<style scoped>\n",
       "    .dataframe tbody tr th:only-of-type {\n",
       "        vertical-align: middle;\n",
       "    }\n",
       "\n",
       "    .dataframe tbody tr th {\n",
       "        vertical-align: top;\n",
       "    }\n",
       "\n",
       "    .dataframe thead th {\n",
       "        text-align: right;\n",
       "    }\n",
       "</style>\n",
       "<table border=\"1\" class=\"dataframe\">\n",
       "  <thead>\n",
       "    <tr style=\"text-align: right;\">\n",
       "      <th></th>\n",
       "      <th>price</th>\n",
       "      <th>registrationyear</th>\n",
       "      <th>power</th>\n",
       "      <th>kilometer</th>\n",
       "      <th>registrationmonth</th>\n",
       "      <th>repaired</th>\n",
       "    </tr>\n",
       "  </thead>\n",
       "  <tbody>\n",
       "    <tr>\n",
       "      <th>count</th>\n",
       "      <td>354365.000000</td>\n",
       "      <td>354365.000000</td>\n",
       "      <td>354365.000000</td>\n",
       "      <td>354365.000000</td>\n",
       "      <td>354365.000000</td>\n",
       "      <td>354365.000000</td>\n",
       "    </tr>\n",
       "    <tr>\n",
       "      <th>mean</th>\n",
       "      <td>4416.679830</td>\n",
       "      <td>2004.234481</td>\n",
       "      <td>110.093816</td>\n",
       "      <td>128211.363989</td>\n",
       "      <td>5.714650</td>\n",
       "      <td>0.302533</td>\n",
       "    </tr>\n",
       "    <tr>\n",
       "      <th>std</th>\n",
       "      <td>4514.176349</td>\n",
       "      <td>90.228466</td>\n",
       "      <td>189.851330</td>\n",
       "      <td>37905.083858</td>\n",
       "      <td>3.726432</td>\n",
       "      <td>0.459355</td>\n",
       "    </tr>\n",
       "    <tr>\n",
       "      <th>min</th>\n",
       "      <td>0.000000</td>\n",
       "      <td>1000.000000</td>\n",
       "      <td>0.000000</td>\n",
       "      <td>5000.000000</td>\n",
       "      <td>0.000000</td>\n",
       "      <td>0.000000</td>\n",
       "    </tr>\n",
       "    <tr>\n",
       "      <th>25%</th>\n",
       "      <td>1050.000000</td>\n",
       "      <td>1999.000000</td>\n",
       "      <td>69.000000</td>\n",
       "      <td>125000.000000</td>\n",
       "      <td>3.000000</td>\n",
       "      <td>0.000000</td>\n",
       "    </tr>\n",
       "    <tr>\n",
       "      <th>50%</th>\n",
       "      <td>2700.000000</td>\n",
       "      <td>2003.000000</td>\n",
       "      <td>105.000000</td>\n",
       "      <td>150000.000000</td>\n",
       "      <td>6.000000</td>\n",
       "      <td>0.000000</td>\n",
       "    </tr>\n",
       "    <tr>\n",
       "      <th>75%</th>\n",
       "      <td>6400.000000</td>\n",
       "      <td>2008.000000</td>\n",
       "      <td>143.000000</td>\n",
       "      <td>150000.000000</td>\n",
       "      <td>9.000000</td>\n",
       "      <td>1.000000</td>\n",
       "    </tr>\n",
       "    <tr>\n",
       "      <th>max</th>\n",
       "      <td>20000.000000</td>\n",
       "      <td>9999.000000</td>\n",
       "      <td>20000.000000</td>\n",
       "      <td>150000.000000</td>\n",
       "      <td>12.000000</td>\n",
       "      <td>1.000000</td>\n",
       "    </tr>\n",
       "  </tbody>\n",
       "</table>\n",
       "</div>"
      ],
      "text/plain": [
       "               price  registrationyear          power      kilometer  \\\n",
       "count  354365.000000     354365.000000  354365.000000  354365.000000   \n",
       "mean     4416.679830       2004.234481     110.093816  128211.363989   \n",
       "std      4514.176349         90.228466     189.851330   37905.083858   \n",
       "min         0.000000       1000.000000       0.000000    5000.000000   \n",
       "25%      1050.000000       1999.000000      69.000000  125000.000000   \n",
       "50%      2700.000000       2003.000000     105.000000  150000.000000   \n",
       "75%      6400.000000       2008.000000     143.000000  150000.000000   \n",
       "max     20000.000000       9999.000000   20000.000000  150000.000000   \n",
       "\n",
       "       registrationmonth       repaired  \n",
       "count      354365.000000  354365.000000  \n",
       "mean            5.714650       0.302533  \n",
       "std             3.726432       0.459355  \n",
       "min             0.000000       0.000000  \n",
       "25%             3.000000       0.000000  \n",
       "50%             6.000000       0.000000  \n",
       "75%             9.000000       1.000000  \n",
       "max            12.000000       1.000000  "
      ]
     },
     "metadata": {},
     "output_type": "display_data"
    }
   ],
   "source": [
    "print(' Уникальные значения \"registrationyear\": ', data['registrationyear'].unique())\n",
    "display(data.describe())"
   ]
  },
  {
   "cell_type": "markdown",
   "metadata": {},
   "source": [
    "Оставим только те значения, что находятся в промежутке 1900 - 2016"
   ]
  },
  {
   "cell_type": "code",
   "execution_count": 21,
   "metadata": {},
   "outputs": [
    {
     "name": "stdout",
     "output_type": "stream",
     "text": [
      "354365\n",
      "339769\n"
     ]
    }
   ],
   "source": [
    "print(data.shape[0])\n",
    "data = data.query('1900<registrationyear<=2016')\n",
    "print(data.shape[0])"
   ]
  },
  {
   "cell_type": "markdown",
   "metadata": {},
   "source": [
    "<div class='Комментарий студента>❌Хорошо, явно неправильные значения из registrationyear удалили. А как считаешь по  DateCrawled можно что-то сказать о верхней границе года регист?</div>"
   ]
  },
  {
   "cell_type": "code",
   "execution_count": 22,
   "metadata": {},
   "outputs": [
    {
     "name": "stdout",
     "output_type": "stream",
     "text": [
      " Уникальные значения \"price\":  [  480 18300  9800 ... 12395 18429 10985] \n",
      "\n"
     ]
    },
    {
     "data": {
      "image/png": "[encoded data removed]",
      "text/plain": [
       "<Figure size 720x1080 with 1 Axes>"
      ]
     },
     "metadata": {
      "needs_background": "light"
     },
     "output_type": "display_data"
    }
   ],
   "source": [
    "print(' Уникальные значения \"price\": ', data['price'].unique(), '\\n')\n",
    "\n",
    "fig, ax = plt.subplots(figsize = (10,15))\n",
    "\n",
    "ax.boxplot(data['price'])\n",
    "\n",
    "ax.set_xticklabels(['Разброс цены'])\n",
    "ax.set_ylabel('Евро')\n",
    "#ax.set_ylim([0,40000])\n",
    "\n",
    "plt.show()"
   ]
  },
  {
   "cell_type": "markdown",
   "metadata": {},
   "source": [
    "Оставим цены так, как есть. Возможно, машина не на ходу и поэтому стоит низкая цена (\"Лишь бы забрали\"), и также возможно, что машина старая и не на ходу, но при этом коллекционная и за нее просят относительно много."
   ]
  },
  {
   "cell_type": "code",
   "execution_count": 23,
   "metadata": {},
   "outputs": [
    {
     "name": "stdout",
     "output_type": "stream",
     "text": [
      " Уникальные значения \"power\":  [    0   190   163    75    69   102   109    50   125   101   105   140\n",
      "   115   131    60   136   160   231   118   193    99   113   218   122\n",
      "   129    70   306    95    61   177   170    55   143   286   232   150\n",
      "   156    80    82    90   155    54   185    87   180    86    84   224\n",
      "   235   200   178   265    77   110   144   120   116   184   126   204\n",
      "    88   194    64   305   197   179   250    45   313    41   165    98\n",
      "   130   114   211    56   201   213    58   107    83   174   100   220\n",
      "    73   192    68    66   299    74    52   147   310    71    97    65\n",
      "   239   203     5   300   103    85   258   320    63    81   148    44\n",
      "   145   230   280   260   104   188   333   186   117   141   132   234\n",
      "   158    39    92    51   135    59    53   209    43   146    67   106\n",
      "   166   276   344    72   249   237   245   111   326   279    23   138\n",
      "   175    96   226    26    37   301   334   128   133   124    33   219\n",
      "   241   167    94   182   196   238  1398   228   112    48   272   139\n",
      "  1799   240    79   256   360   243   375   252   396   340   121   345\n",
      "   187   289   222   198   284   450   233   387   152   347   172    57\n",
      "   137   212   476   314    30     7    47   173   290   207   205   171\n",
      "    78    91    89   349    40   108   325    76   350   953    93   142\n",
      "   500   343   199   119   164    16   264   367   208   210    46   435\n",
      "  1001   225   127   176   161   603   307   354    35   206   771   355\n",
      "   273   223   255   151   123   154   149  7515  1400   268   620   400\n",
      "   275    34     2   242  1779   285   162   328  1753   329   134   420\n",
      "   247   168 10317   215    18   330   283    62    10   214   183   254\n",
      "    15   321   315   952   169   600   181   426   379   999    22   157\n",
      "    42   195   553     4   309   507   381   271   440   189   401  1111\n",
      "  2729    21   236  1240  1704   521     1  1900   270    24   159   292\n",
      "   515  1200   303    29    38  1993    14   216   610   504    49   267\n",
      "   331   363   261   385  1011   253   696 10520   376   227   311    27\n",
      "   217    20   322  1999    11  1056    25   394    12   298   296  1659\n",
      "   294   551  6920   246    17  1625   368   390   221  1367   259   606\n",
      "  1597   266   374   392     9   405    13   262   601   430   295     8\n",
      "   411   900   541  7512   382 10218  7544  1102   287    19   751   297\n",
      "  1090   457   282   602   388     6  1000  5411   335  1360   202  3750\n",
      "   805  1062  2017   750  1024 11530   364  1796   269   460  1002   288\n",
      "  1780 12012 17932   316  2005  1800  1399   191   278   380   257   449\n",
      "  1256   153  1653   520   560   281 12510     3  1500   386    32  1202\n",
      "  2016  1436  1405   671   274  1288  1055 10912 15016  6226  1115   277\n",
      "  1105   341  1223  2340  8404  1968   338   445  1920   370   517  4400\n",
      " 10710 10522   431  1164 11509   371  1501   428 11635    36   304   348\n",
      "  1703  1910  1995   579 10000   580   408    31   358  1403   489  5575\n",
      " 19211   585   960   365   353   490   352  1801   346   550  3199   800\n",
      "  7508  1312  1937   950  4700  1600  3454 19208   251   850   337   700\n",
      "  8011  2331  2789   487   519  2461  6006  3500  5815  6018  1781  1503\n",
      "   612  1596   229  1506  5809 15020  1300  5867  2172  1598 17410  1363\n",
      "   584  1054   851  1339   318   510   525  1700    28  1151   685  6011\n",
      "   317   703  1771 15001   514   362   332  5000   324  6045   530   425\n",
      "   308  6010   475   903   640  2000   248   651  2799 17011   505  1103\n",
      "  1521   351 16051   398   599  1998 10311   409  1230 17019 12684  8259\n",
      "  1895  1317   871   909  2201  1595   776 17700 11011  1199   459   357\n",
      "  1162  1120   327 15033  1896   339   361   574  6512   454   650 13616\n",
      "   604 16312  1082   336 20000   416   678  1401  1021  1870 13636  1250\n",
      "  9710  6012   323  1158  2009   902  6062  1275   572   244   399  1016\n",
      "   743  1221  2402  1362   544   645   907   702  1003  1432  9013   442\n",
      "  1017 15017 10910  1992   540  2018 11025  1433  1701  2792  1502  1239\n",
      "  1390 14009  1160 11111  1783  9007   923  1149   754  1988  2004  5420\n",
      "  1793  1324   356 12512  7511  1299   293 19312  1079  1689   998  1100\n",
      "  1933   508 16311   682  1922  7529   732  2389  1005  2200  1707  1416\n",
      "  8500  1012   485 10110   421  4507  1631  7518   377  1004  9012  2007\n",
      "  2598  1548  1241] \n",
      "\n"
     ]
    }
   ],
   "source": [
    "print(' Уникальные значения \"power\": ', data['power'].unique(), '\\n')\n"
   ]
  },
  {
   "cell_type": "code",
   "execution_count": 24,
   "metadata": {},
   "outputs": [
    {
     "data": {
      "image/png": "[encoded data removed]",
      "text/plain": [
       "<Figure size 720x1080 with 1 Axes>"
      ]
     },
     "metadata": {
      "needs_background": "light"
     },
     "output_type": "display_data"
    }
   ],
   "source": [
    "fig, ax = plt.subplots(figsize = (10,15))\n",
    "\n",
    "ax.boxplot(data['power'])\n",
    "\n",
    "ax.set_xticklabels(['Разброс мощности'])\n",
    "ax.set_ylabel('Лошадиные силы')\n",
    "#ax.set_ylim([0,40000])\n",
    "\n",
    "plt.show()\n"
   ]
  },
  {
   "cell_type": "markdown",
   "metadata": {},
   "source": [
    "Оставим только значения < 500"
   ]
  },
  {
   "cell_type": "code",
   "execution_count": 25,
   "metadata": {},
   "outputs": [
    {
     "name": "stdout",
     "output_type": "stream",
     "text": [
      "339769\n",
      "302631\n",
      "75% квантиль 143.0\n"
     ]
    }
   ],
   "source": [
    "print(data.shape[0])\n",
    "c = data['power'].quantile(q=0.75)\n",
    "data = data.query('10<power<500')\n",
    "print(data.shape[0])\n",
    "\n",
    "print('75% квантиль', c)\n",
    "\n",
    "\n",
    "     "
   ]
  },
  {
   "cell_type": "code",
   "execution_count": 26,
   "metadata": {},
   "outputs": [
    {
     "name": "stdout",
     "output_type": "stream",
     "text": [
      " Уникальные значения \"kilometer\":  [125000 150000  90000  40000  30000  70000 100000  60000   5000  20000\n",
      "  80000  50000  10000] \n",
      "\n"
     ]
    }
   ],
   "source": [
    "print(' Уникальные значения \"kilometer\": ', data['kilometer'].unique(), '\\n')\n"
   ]
  },
  {
   "cell_type": "markdown",
   "metadata": {},
   "source": [
    "Оставляем как есть."
   ]
  },
  {
   "cell_type": "code",
   "execution_count": 27,
   "metadata": {},
   "outputs": [
    {
     "name": "stdout",
     "output_type": "stream",
     "text": [
      " Уникальные значения \"registrationmonth\":  [ 5  8  6  7 10  0 12 11  2  3  1  4  9] \n",
      "\n"
     ]
    }
   ],
   "source": [
    "print(' Уникальные значения \"registrationmonth\": ', data['registrationmonth'].unique(), '\\n')\n"
   ]
  },
  {
   "cell_type": "markdown",
   "metadata": {},
   "source": [
    "в таблице 13 уникальных значений вместо 12."
   ]
  },
  {
   "cell_type": "code",
   "execution_count": 28,
   "metadata": {},
   "outputs": [
    {
     "data": {
      "text/plain": [
       "3     30835\n",
       "6     28082\n",
       "4     26173\n",
       "5     26088\n",
       "7     24271\n",
       "10    23329\n",
       "12    21593\n",
       "11    21375\n",
       "9     21295\n",
       "1     20555\n",
       "8     20108\n",
       "0     19734\n",
       "2     19193\n",
       "Name: registrationmonth, dtype: int64"
      ]
     },
     "execution_count": 28,
     "metadata": {},
     "output_type": "execute_result"
    }
   ],
   "source": [
    "data['registrationmonth'].value_counts()"
   ]
  },
  {
   "cell_type": "markdown",
   "metadata": {},
   "source": [
    "Определить нестыковку невозможно, поскольку определяющим является год, данный параметр исключим из рассмотрения как неопределяющий."
   ]
  },
  {
   "cell_type": "code",
   "execution_count": 29,
   "metadata": {},
   "outputs": [
    {
     "name": "stdout",
     "output_type": "stream",
     "text": [
      "302631\n"
     ]
    }
   ],
   "source": [
    "data=data.drop(['registrationmonth'], axis=1)\n",
    "print(data.shape[0])"
   ]
  },
  {
   "cell_type": "code",
   "execution_count": 30,
   "metadata": {},
   "outputs": [
    {
     "data": {
      "text/html": [
       "<div>\n",
       "<style scoped>\n",
       "    .dataframe tbody tr th:only-of-type {\n",
       "        vertical-align: middle;\n",
       "    }\n",
       "\n",
       "    .dataframe tbody tr th {\n",
       "        vertical-align: top;\n",
       "    }\n",
       "\n",
       "    .dataframe thead th {\n",
       "        text-align: right;\n",
       "    }\n",
       "</style>\n",
       "<table border=\"1\" class=\"dataframe\">\n",
       "  <thead>\n",
       "    <tr style=\"text-align: right;\">\n",
       "      <th></th>\n",
       "      <th>price</th>\n",
       "      <th>vehicletype</th>\n",
       "      <th>registrationyear</th>\n",
       "      <th>gearbox</th>\n",
       "      <th>power</th>\n",
       "      <th>model</th>\n",
       "      <th>kilometer</th>\n",
       "      <th>fueltype</th>\n",
       "      <th>brand</th>\n",
       "      <th>repaired</th>\n",
       "    </tr>\n",
       "  </thead>\n",
       "  <tbody>\n",
       "    <tr>\n",
       "      <th>1</th>\n",
       "      <td>18300</td>\n",
       "      <td>coupe</td>\n",
       "      <td>2011</td>\n",
       "      <td>manual</td>\n",
       "      <td>190</td>\n",
       "      <td>other</td>\n",
       "      <td>125000</td>\n",
       "      <td>gasoline</td>\n",
       "      <td>audi</td>\n",
       "      <td>1</td>\n",
       "    </tr>\n",
       "    <tr>\n",
       "      <th>2</th>\n",
       "      <td>9800</td>\n",
       "      <td>suv</td>\n",
       "      <td>2004</td>\n",
       "      <td>auto</td>\n",
       "      <td>163</td>\n",
       "      <td>grand</td>\n",
       "      <td>125000</td>\n",
       "      <td>gasoline</td>\n",
       "      <td>jeep</td>\n",
       "      <td>1</td>\n",
       "    </tr>\n",
       "    <tr>\n",
       "      <th>3</th>\n",
       "      <td>1500</td>\n",
       "      <td>small</td>\n",
       "      <td>2001</td>\n",
       "      <td>manual</td>\n",
       "      <td>75</td>\n",
       "      <td>golf</td>\n",
       "      <td>150000</td>\n",
       "      <td>petrol</td>\n",
       "      <td>volkswagen</td>\n",
       "      <td>0</td>\n",
       "    </tr>\n",
       "    <tr>\n",
       "      <th>4</th>\n",
       "      <td>3600</td>\n",
       "      <td>small</td>\n",
       "      <td>2008</td>\n",
       "      <td>manual</td>\n",
       "      <td>69</td>\n",
       "      <td>fabia</td>\n",
       "      <td>90000</td>\n",
       "      <td>gasoline</td>\n",
       "      <td>skoda</td>\n",
       "      <td>0</td>\n",
       "    </tr>\n",
       "    <tr>\n",
       "      <th>5</th>\n",
       "      <td>650</td>\n",
       "      <td>sedan</td>\n",
       "      <td>1995</td>\n",
       "      <td>manual</td>\n",
       "      <td>102</td>\n",
       "      <td>3er</td>\n",
       "      <td>150000</td>\n",
       "      <td>petrol</td>\n",
       "      <td>bmw</td>\n",
       "      <td>1</td>\n",
       "    </tr>\n",
       "  </tbody>\n",
       "</table>\n",
       "</div>"
      ],
      "text/plain": [
       "   price vehicletype  registrationyear gearbox  power  model  kilometer  \\\n",
       "1  18300       coupe              2011  manual    190  other     125000   \n",
       "2   9800         suv              2004    auto    163  grand     125000   \n",
       "3   1500       small              2001  manual     75   golf     150000   \n",
       "4   3600       small              2008  manual     69  fabia      90000   \n",
       "5    650       sedan              1995  manual    102    3er     150000   \n",
       "\n",
       "   fueltype       brand  repaired  \n",
       "1  gasoline        audi         1  \n",
       "2  gasoline        jeep         1  \n",
       "3    petrol  volkswagen         0  \n",
       "4  gasoline       skoda         0  \n",
       "5    petrol         bmw         1  "
      ]
     },
     "execution_count": 30,
     "metadata": {},
     "output_type": "execute_result"
    }
   ],
   "source": [
    "data.head()"
   ]
  },
  {
   "cell_type": "code",
   "execution_count": 31,
   "metadata": {},
   "outputs": [
    {
     "data": {
      "image/png": "[encoded data removed]",
      "text/plain": [
       "<Figure size 960x800 with 2 Axes>"
      ]
     },
     "metadata": {
      "needs_background": "light"
     },
     "output_type": "display_data"
    }
   ],
   "source": [
    "#Построим диаграмму корреляций\n",
    "ds.corr_diagram(data)"
   ]
  },
  {
   "cell_type": "markdown",
   "metadata": {},
   "source": [
    "По матрице корреляций наблюдается обратная зависимость цены с пробегом и ремонтом, прямая зависимость с мощностью и годом регистрации."
   ]
  },
  {
   "cell_type": "code",
   "execution_count": 32,
   "metadata": {
    "scrolled": true
   },
   "outputs": [
    {
     "name": "stdout",
     "output_type": "stream",
     "text": [
      "<class 'pandas.core.frame.DataFrame'>\n",
      "Int64Index: 302631 entries, 1 to 354364\n",
      "Data columns (total 10 columns):\n",
      " #   Column            Non-Null Count   Dtype \n",
      "---  ------            --------------   ----- \n",
      " 0   price             302631 non-null  int64 \n",
      " 1   vehicletype       302631 non-null  object\n",
      " 2   registrationyear  302631 non-null  int64 \n",
      " 3   gearbox           302631 non-null  object\n",
      " 4   power             302631 non-null  int64 \n",
      " 5   model             302631 non-null  object\n",
      " 6   kilometer         302631 non-null  int64 \n",
      " 7   fueltype          302631 non-null  object\n",
      " 8   brand             302631 non-null  object\n",
      " 9   repaired          302631 non-null  int64 \n",
      "dtypes: int64(5), object(5)\n",
      "memory usage: 25.4+ MB\n"
     ]
    }
   ],
   "source": [
    "data.head(5)\n",
    "data.info()"
   ]
  },
  {
   "cell_type": "markdown",
   "metadata": {},
   "source": [
    "## Обучение моделей"
   ]
  },
  {
   "cell_type": "markdown",
   "metadata": {},
   "source": [
    "Разобьем имеющиеся данные на обучающую и тестовую выборку, a также установим значение random_state.\n",
    "Удалим неинформативные признаки."
   ]
  },
  {
   "cell_type": "code",
   "execution_count": 33,
   "metadata": {},
   "outputs": [],
   "source": [
    "RND_ST = 42\n"
   ]
  },
  {
   "cell_type": "code",
   "execution_count": 34,
   "metadata": {},
   "outputs": [],
   "source": [
    "#unnec_col = ['price', 'datecrawled', 'registrationmonth', 'datecreated', 'numberofpictures', 'postalcode',\n",
    " #      'lastseen', 'monthcreated', 'yearcreated', 'gearboxunsorted']\n"
   ]
  },
  {
   "cell_type": "code",
   "execution_count": 35,
   "metadata": {},
   "outputs": [],
   "source": [
    "features = data.drop('price', axis=1)\n",
    "target = data['price']"
   ]
  },
  {
   "cell_type": "code",
   "execution_count": 36,
   "metadata": {
    "scrolled": false
   },
   "outputs": [
    {
     "data": {
      "text/html": [
       "<div>\n",
       "<style scoped>\n",
       "    .dataframe tbody tr th:only-of-type {\n",
       "        vertical-align: middle;\n",
       "    }\n",
       "\n",
       "    .dataframe tbody tr th {\n",
       "        vertical-align: top;\n",
       "    }\n",
       "\n",
       "    .dataframe thead th {\n",
       "        text-align: right;\n",
       "    }\n",
       "</style>\n",
       "<table border=\"1\" class=\"dataframe\">\n",
       "  <thead>\n",
       "    <tr style=\"text-align: right;\">\n",
       "      <th></th>\n",
       "      <th>vehicletype</th>\n",
       "      <th>registrationyear</th>\n",
       "      <th>gearbox</th>\n",
       "      <th>power</th>\n",
       "      <th>model</th>\n",
       "      <th>kilometer</th>\n",
       "      <th>fueltype</th>\n",
       "      <th>brand</th>\n",
       "      <th>repaired</th>\n",
       "    </tr>\n",
       "  </thead>\n",
       "  <tbody>\n",
       "    <tr>\n",
       "      <th>1</th>\n",
       "      <td>coupe</td>\n",
       "      <td>2011</td>\n",
       "      <td>manual</td>\n",
       "      <td>190</td>\n",
       "      <td>other</td>\n",
       "      <td>125000</td>\n",
       "      <td>gasoline</td>\n",
       "      <td>audi</td>\n",
       "      <td>1</td>\n",
       "    </tr>\n",
       "    <tr>\n",
       "      <th>2</th>\n",
       "      <td>suv</td>\n",
       "      <td>2004</td>\n",
       "      <td>auto</td>\n",
       "      <td>163</td>\n",
       "      <td>grand</td>\n",
       "      <td>125000</td>\n",
       "      <td>gasoline</td>\n",
       "      <td>jeep</td>\n",
       "      <td>1</td>\n",
       "    </tr>\n",
       "    <tr>\n",
       "      <th>3</th>\n",
       "      <td>small</td>\n",
       "      <td>2001</td>\n",
       "      <td>manual</td>\n",
       "      <td>75</td>\n",
       "      <td>golf</td>\n",
       "      <td>150000</td>\n",
       "      <td>petrol</td>\n",
       "      <td>volkswagen</td>\n",
       "      <td>0</td>\n",
       "    </tr>\n",
       "    <tr>\n",
       "      <th>4</th>\n",
       "      <td>small</td>\n",
       "      <td>2008</td>\n",
       "      <td>manual</td>\n",
       "      <td>69</td>\n",
       "      <td>fabia</td>\n",
       "      <td>90000</td>\n",
       "      <td>gasoline</td>\n",
       "      <td>skoda</td>\n",
       "      <td>0</td>\n",
       "    </tr>\n",
       "    <tr>\n",
       "      <th>5</th>\n",
       "      <td>sedan</td>\n",
       "      <td>1995</td>\n",
       "      <td>manual</td>\n",
       "      <td>102</td>\n",
       "      <td>3er</td>\n",
       "      <td>150000</td>\n",
       "      <td>petrol</td>\n",
       "      <td>bmw</td>\n",
       "      <td>1</td>\n",
       "    </tr>\n",
       "  </tbody>\n",
       "</table>\n",
       "</div>"
      ],
      "text/plain": [
       "  vehicletype  registrationyear gearbox  power  model  kilometer  fueltype  \\\n",
       "1       coupe              2011  manual    190  other     125000  gasoline   \n",
       "2         suv              2004    auto    163  grand     125000  gasoline   \n",
       "3       small              2001  manual     75   golf     150000    petrol   \n",
       "4       small              2008  manual     69  fabia      90000  gasoline   \n",
       "5       sedan              1995  manual    102    3er     150000    petrol   \n",
       "\n",
       "        brand  repaired  \n",
       "1        audi         1  \n",
       "2        jeep         1  \n",
       "3  volkswagen         0  \n",
       "4       skoda         0  \n",
       "5         bmw         1  "
      ]
     },
     "execution_count": 36,
     "metadata": {},
     "output_type": "execute_result"
    }
   ],
   "source": [
    "features.head()"
   ]
  },
  {
   "cell_type": "code",
   "execution_count": 37,
   "metadata": {},
   "outputs": [],
   "source": [
    "\n",
    "X_train_val, X_test, y_train_val, y_test = train_test_split(features, target, test_size=0.2, random_state=RND_ST)"
   ]
  },
  {
   "cell_type": "code",
   "execution_count": 38,
   "metadata": {},
   "outputs": [],
   "source": [
    "X_train, X_valid, y_train, y_valid = train_test_split(X_train_val, y_train_val, test_size=0.25, random_state=RND_ST)\n"
   ]
  },
  {
   "cell_type": "code",
   "execution_count": 39,
   "metadata": {},
   "outputs": [],
   "source": [
    "numeric =  ['registrationyear', 'power',\n",
    "       'kilometer']"
   ]
  },
  {
   "cell_type": "code",
   "execution_count": 40,
   "metadata": {},
   "outputs": [
    {
     "name": "stderr",
     "output_type": "stream",
     "text": [
      "/tmp/ipykernel_212/4180173306.py:5: SettingWithCopyWarning: \n",
      "A value is trying to be set on a copy of a slice from a DataFrame.\n",
      "Try using .loc[row_indexer,col_indexer] = value instead\n",
      "\n",
      "See the caveats in the documentation: https://pandas.pydata.org/pandas-docs/stable/user_guide/indexing.html#returning-a-view-versus-a-copy\n",
      "  X_train_val[numeric] = scaler.transform(X_train_val[numeric])\n",
      "/opt/conda/lib/python3.9/site-packages/pandas/core/indexing.py:1738: SettingWithCopyWarning: \n",
      "A value is trying to be set on a copy of a slice from a DataFrame.\n",
      "Try using .loc[row_indexer,col_indexer] = value instead\n",
      "\n",
      "See the caveats in the documentation: https://pandas.pydata.org/pandas-docs/stable/user_guide/indexing.html#returning-a-view-versus-a-copy\n",
      "  self._setitem_single_column(loc, value[:, i].tolist(), pi)\n",
      "/tmp/ipykernel_212/4180173306.py:7: SettingWithCopyWarning: \n",
      "A value is trying to be set on a copy of a slice from a DataFrame.\n",
      "Try using .loc[row_indexer,col_indexer] = value instead\n",
      "\n",
      "See the caveats in the documentation: https://pandas.pydata.org/pandas-docs/stable/user_guide/indexing.html#returning-a-view-versus-a-copy\n",
      "  X_test[numeric] = scaler.transform(X_test[numeric])\n",
      "/opt/conda/lib/python3.9/site-packages/pandas/core/indexing.py:1738: SettingWithCopyWarning: \n",
      "A value is trying to be set on a copy of a slice from a DataFrame.\n",
      "Try using .loc[row_indexer,col_indexer] = value instead\n",
      "\n",
      "See the caveats in the documentation: https://pandas.pydata.org/pandas-docs/stable/user_guide/indexing.html#returning-a-view-versus-a-copy\n",
      "  self._setitem_single_column(loc, value[:, i].tolist(), pi)\n",
      "/tmp/ipykernel_212/4180173306.py:9: SettingWithCopyWarning: \n",
      "A value is trying to be set on a copy of a slice from a DataFrame.\n",
      "Try using .loc[row_indexer,col_indexer] = value instead\n",
      "\n",
      "See the caveats in the documentation: https://pandas.pydata.org/pandas-docs/stable/user_guide/indexing.html#returning-a-view-versus-a-copy\n",
      "  X_valid[numeric] = scaler.transform(X_valid[numeric])\n",
      "/opt/conda/lib/python3.9/site-packages/pandas/core/indexing.py:1738: SettingWithCopyWarning: \n",
      "A value is trying to be set on a copy of a slice from a DataFrame.\n",
      "Try using .loc[row_indexer,col_indexer] = value instead\n",
      "\n",
      "See the caveats in the documentation: https://pandas.pydata.org/pandas-docs/stable/user_guide/indexing.html#returning-a-view-versus-a-copy\n",
      "  self._setitem_single_column(loc, value[:, i].tolist(), pi)\n"
     ]
    }
   ],
   "source": [
    "scaler = StandardScaler()\n",
    "\n",
    "scaler.fit(X_train_val[numeric])\n",
    "\n",
    "X_train_val[numeric] = scaler.transform(X_train_val[numeric])\n",
    "\n",
    "X_test[numeric] = scaler.transform(X_test[numeric])\n",
    "\n",
    "X_valid[numeric] = scaler.transform(X_valid[numeric])"
   ]
  },
  {
   "cell_type": "code",
   "execution_count": 42,
   "metadata": {},
   "outputs": [],
   "source": [
    "ohe = OneHotEncoder(sparse=False)\n",
    "num_cols =  ['registrationyear', 'power',\n",
    "       'kilometer']\n",
    "columns_cat=['brand','model','vehicletype','gearbox','fueltype','repaired']\n",
    "ohe.fit(X_train_val[columns_cat])\n",
    "X_train_val_cat = pd.DataFrame(ohe.transform(X_train_val[columns_cat]), \n",
    "                              columns=ohe.get_feature_names(columns_cat), index=X_train_val.index)\n",
    "X_test_cat = pd.DataFrame(ohe.transform(X_test[columns_cat]), \n",
    "                              columns=ohe.get_feature_names(columns_cat), index=X_test.index)\n",
    "X_valid_cat = pd.DataFrame(ohe.transform(X_valid[columns_cat]), \n",
    "                              columns=ohe.get_feature_names(columns_cat), index=X_valid.index)\n",
    "\n",
    "\n"
   ]
  },
  {
   "cell_type": "markdown",
   "metadata": {},
   "source": [
    "По обучающей выборке определим валидационную."
   ]
  },
  {
   "cell_type": "code",
   "execution_count": 44,
   "metadata": {},
   "outputs": [
    {
     "name": "stdout",
     "output_type": "stream",
     "text": [
      "181578 60526 60527\n"
     ]
    }
   ],
   "source": [
    "print(X_train.shape[0], X_valid.shape[0], X_test.shape[0])"
   ]
  },
  {
   "cell_type": "markdown",
   "metadata": {},
   "source": [
    "**Dummy model**\n",
    "\n",
    "В данном спринте разберем применение четырех моделей.\n",
    "Но для начала вызовем Дамми регрессора, для дальнейшей проверки моделей на адекватность.\n",
    "Передадим нашему первому регрессору средние значения цены.\n",
    "\n",
    "Требуемая функция подсчета времени выполнения ячейки из задания представлена ниже."
   ]
  },
  {
   "cell_type": "code",
   "execution_count": 46,
   "metadata": {},
   "outputs": [
    {
     "name": "stdout",
     "output_type": "stream",
     "text": [
      "RMSE дамми регрессора со средним прогнозом цен на валидационной выборке = 4582.505\n",
      "\n",
      "CPU times: user 1.88 ms, sys: 566 µs, total: 2.44 ms\n",
      "Wall time: 1.98 ms\n"
     ]
    }
   ],
   "source": [
    "%%time\n",
    "\n",
    "dummy = DummyRegressor(strategy='mean')\n",
    "\n",
    "dummy.fit(X_train, y_train)\n",
    "y_pred = dummy.predict(X_valid)\n",
    "\n",
    "rmse_dr = np.around(np.sqrt(mean_squared_error(y_valid, y_pred)),3)\n",
    "print('RMSE дамми регрессора со средним прогнозом цен на валидационной выборке = {}'.format(rmse_dr))\n",
    "print()\n"
   ]
  },
  {
   "cell_type": "markdown",
   "metadata": {},
   "source": [
    "Дамми ошибается, в среднем, на 4,6 тысячи Евро, однако, работает очень быстро."
   ]
  },
  {
   "cell_type": "markdown",
   "metadata": {},
   "source": [
    "**Создание скоринга RMSE**\n",
    "\n",
    "На данном шаге мы сразу будем подбирать гиперпараметры и фиксировать лучшее значение метрики RMSE.\n",
    "\n",
    "Пропишем этот скоринг с нуля"
   ]
  },
  {
   "cell_type": "code",
   "execution_count": 47,
   "metadata": {},
   "outputs": [],
   "source": [
    "def rmse(targets, predictions):\n",
    "    return np.sqrt(((predictions - targets) ** 2).mean())\n",
    "\n",
    "RMSE_SCORE = make_scorer(rmse, greater_is_better=False)\n"
   ]
  },
  {
   "cell_type": "markdown",
   "metadata": {},
   "source": [
    "Проверим его работу, вызовем простенький регрессор и попробуем найти гиперпараметры"
   ]
  },
  {
   "cell_type": "code",
   "execution_count": 45,
   "metadata": {},
   "outputs": [],
   "source": [
    "features_ = data.drop('price', axis=1)\n",
    "features_ = pd.get_dummies(features_, drop_first=True)\n",
    "target_ = data['price']"
   ]
  },
  {
   "cell_type": "code",
   "execution_count": 46,
   "metadata": {},
   "outputs": [],
   "source": [
    "X_train_val, X_test_, y_train_val, y_test_ = train_test_split(features_, target_, test_size=0.2, random_state=RND_ST)"
   ]
  },
  {
   "cell_type": "code",
   "execution_count": 47,
   "metadata": {},
   "outputs": [],
   "source": [
    "#Стандартизируем признаки с помощью StandardScaler\n"
   ]
  },
  {
   "cell_type": "code",
   "execution_count": 48,
   "metadata": {},
   "outputs": [],
   "source": [
    "numeric =  ['registrationyear', 'power',\n",
    "       'kilometer']"
   ]
  },
  {
   "cell_type": "code",
   "execution_count": 49,
   "metadata": {},
   "outputs": [
    {
     "name": "stderr",
     "output_type": "stream",
     "text": [
      "/tmp/ipykernel_212/4180173306.py:5: SettingWithCopyWarning: \n",
      "A value is trying to be set on a copy of a slice from a DataFrame.\n",
      "Try using .loc[row_indexer,col_indexer] = value instead\n",
      "\n",
      "See the caveats in the documentation: https://pandas.pydata.org/pandas-docs/stable/user_guide/indexing.html#returning-a-view-versus-a-copy\n",
      "  X_train_val[numeric] = scaler.transform(X_train_val[numeric])\n",
      "/opt/conda/lib/python3.9/site-packages/pandas/core/indexing.py:1738: SettingWithCopyWarning: \n",
      "A value is trying to be set on a copy of a slice from a DataFrame.\n",
      "Try using .loc[row_indexer,col_indexer] = value instead\n",
      "\n",
      "See the caveats in the documentation: https://pandas.pydata.org/pandas-docs/stable/user_guide/indexing.html#returning-a-view-versus-a-copy\n",
      "  self._setitem_single_column(loc, value[:, i].tolist(), pi)\n",
      "/tmp/ipykernel_212/4180173306.py:7: SettingWithCopyWarning: \n",
      "A value is trying to be set on a copy of a slice from a DataFrame.\n",
      "Try using .loc[row_indexer,col_indexer] = value instead\n",
      "\n",
      "See the caveats in the documentation: https://pandas.pydata.org/pandas-docs/stable/user_guide/indexing.html#returning-a-view-versus-a-copy\n",
      "  X_test[numeric] = scaler.transform(X_test[numeric])\n",
      "/opt/conda/lib/python3.9/site-packages/pandas/core/indexing.py:1738: SettingWithCopyWarning: \n",
      "A value is trying to be set on a copy of a slice from a DataFrame.\n",
      "Try using .loc[row_indexer,col_indexer] = value instead\n",
      "\n",
      "See the caveats in the documentation: https://pandas.pydata.org/pandas-docs/stable/user_guide/indexing.html#returning-a-view-versus-a-copy\n",
      "  self._setitem_single_column(loc, value[:, i].tolist(), pi)\n"
     ]
    }
   ],
   "source": [
    "scaler = StandardScaler()\n",
    "\n",
    "scaler.fit(X_train_val[numeric])\n",
    "\n",
    "X_train_val[numeric] = scaler.transform(X_train_val[numeric])\n",
    "\n",
    "X_test[numeric] = scaler.transform(X_test[numeric])\n",
    "\n",
    "X_valid[numeric] = scaler.transform(X_valid[numeric])"
   ]
  },
  {
   "cell_type": "code",
   "execution_count": 50,
   "metadata": {
    "scrolled": true
   },
   "outputs": [
    {
     "name": "stdout",
     "output_type": "stream",
     "text": [
      "181578 60526 60527\n"
     ]
    }
   ],
   "source": [
    "\n",
    "\n",
    "X_train_, X_valid_, y_train_, y_valid_ = train_test_split(X_train_val, y_train_val, test_size=0.25, random_state=RND_ST)\n",
    "\n",
    "print(X_train_.shape[0], X_valid_.shape[0], X_test_.shape[0])\n"
   ]
  },
  {
   "cell_type": "code",
   "execution_count": 55,
   "metadata": {},
   "outputs": [
    {
     "data": {
      "text/plain": [
       "305"
      ]
     },
     "execution_count": 55,
     "metadata": {},
     "output_type": "execute_result"
    }
   ],
   "source": [
    "X_train_.shape[1]"
   ]
  },
  {
   "cell_type": "code",
   "execution_count": 56,
   "metadata": {},
   "outputs": [],
   "source": [
    "from sklearn.tree import DecisionTreeRegressor\n",
    "\n",
    "dtr = DecisionTreeRegressor(random_state=RND_ST)\n",
    "\n",
    "dtr_params = dict(max_depth=[5,6,7], \n",
    "                 max_features=[2,3,4])\n"
   ]
  },
  {
   "cell_type": "markdown",
   "metadata": {},
   "source": [
    "Функция рандомного поиска гиперпараметров"
   ]
  },
  {
   "cell_type": "code",
   "execution_count": 57,
   "metadata": {},
   "outputs": [],
   "source": [
    "def rand_search(model, grid, feat, targ):\n",
    "    \n",
    "    search = RandomizedSearchCV(model, grid, cv=5, scoring=RMSE_SCORE, n_jobs=-1)\n",
    "    search.fit(X_train_, y_train_)\n",
    "    \n",
    "    print(search.best_score_ * -1)\n",
    "    print(search.best_params_)"
   ]
  },
  {
   "cell_type": "code",
   "execution_count": 58,
   "metadata": {},
   "outputs": [
    {
     "name": "stderr",
     "output_type": "stream",
     "text": [
      "/opt/conda/lib/python3.9/site-packages/sklearn/model_selection/_search.py:285: UserWarning: The total space of parameters 9 is smaller than n_iter=10. Running 9 iterations. For exhaustive searches, use GridSearchCV.\n",
      "  warnings.warn(\n"
     ]
    },
    {
     "name": "stdout",
     "output_type": "stream",
     "text": [
      "3883.1584418245684\n",
      "{'max_features': 4, 'max_depth': 7}\n"
     ]
    }
   ],
   "source": [
    "rand_search(dtr, dtr_params, X_train_, y_train_)"
   ]
  },
  {
   "cell_type": "code",
   "execution_count": 59,
   "metadata": {},
   "outputs": [],
   "source": [
    "def rmse_score(model, X, y):\n",
    "    \n",
    "    y_pred = model.predict(X)\n",
    "\n",
    "    score = rmse(y, y_pred)\n",
    "    \n",
    "    return(score)\n"
   ]
  },
  {
   "cell_type": "markdown",
   "metadata": {},
   "source": [
    "Так судя по всему наш скоринг работает модель ошибается в среднем на 3,88 тысячи Евро, что немного лучше, чем Дамми модель.\n"
   ]
  },
  {
   "cell_type": "markdown",
   "metadata": {},
   "source": [
    "Gradient Boosting\n",
    "\n",
    "Начнем с обычного градиентного бустинга из sklearn.\n",
    "\n",
    "Стоит отметить, что для его применения, необходимо перевести все категориальные показатели в числовые, используя dummy преобразование или OneHotEncoding\n",
    "\n",
    "В идеале настроить бустинг в два этапа - на первом этапе подобрать количество деревьев, на втором - подогнать остальные параметры. Но Тренажер не обладает требуемой для быстрой работы мощностью."
   ]
  },
  {
   "cell_type": "code",
   "execution_count": 61,
   "metadata": {},
   "outputs": [],
   "source": [
    "gbr = GradientBoostingRegressor(random_state=RND_ST)\n",
    "\n",
    "gbr_params_nest = dict(n_estimators=range(50,500,25))\n",
    "\n",
    "gbr_params_other = dict(learning_rate=[0.1,0.5,1],\n",
    "                        max_depth=[2,3,4])"
   ]
  },
  {
   "cell_type": "code",
   "execution_count": 63,
   "metadata": {},
   "outputs": [
    {
     "name": "stdout",
     "output_type": "stream",
     "text": [
      "      Iter       Train Loss   Remaining Time \n",
      "         1    19011127.1169            3.84m\n",
      "         2    17067217.3474            3.70m\n",
      "         3    15446256.9580            3.67m\n",
      "         4    14085149.2278            3.64m\n",
      "         5    12869379.7327            3.58m\n",
      "         6    11916705.1817            3.56m\n",
      "         7    11050330.7861            3.54m\n",
      "         8    10333995.0772            3.53m\n",
      "         9     9704456.8631            3.50m\n",
      "        10     9121739.3442            3.46m\n",
      "        11     8665106.4591            3.43m\n",
      "        12     8236443.5423            3.41m\n",
      "        13     7891966.9761            3.40m\n",
      "        14     7560419.4648            3.38m\n",
      "        15     7237479.9782            3.36m\n",
      "        16     7005500.3721            3.34m\n",
      "        17     6761312.3970            3.31m\n",
      "        18     6536722.5398            3.30m\n",
      "        19     6351956.7344            3.30m\n",
      "        20     6189598.2104            3.28m\n",
      "        21     6051085.8700            3.27m\n",
      "        22     5927147.4919            3.26m\n",
      "        23     5805823.1733            3.24m\n",
      "        24     5705119.9584            3.22m\n",
      "        25     5608942.8773            3.21m\n",
      "        26     5505369.1776            3.19m\n",
      "        27     5433992.7685            3.17m\n",
      "        28     5349024.0443            3.16m\n",
      "        29     5280899.1094            3.14m\n",
      "        30     5223253.2267            3.12m\n",
      "        31     5153790.9657            3.11m\n",
      "        32     5105084.1969            3.09m\n",
      "        33     5059949.3603            3.07m\n",
      "        34     5018886.6558            3.05m\n",
      "        35     4962443.3176            3.03m\n",
      "        36     4910180.0102            3.02m\n",
      "        37     4876421.6663            3.00m\n",
      "        38     4827168.4646            2.98m\n",
      "        39     4797382.6100            2.97m\n",
      "        40     4769642.0310            2.95m\n",
      "        41     4728425.3449            2.92m\n",
      "        42     4692796.4789            2.91m\n",
      "        43     4658153.0422            2.90m\n",
      "        44     4626679.4797            2.88m\n",
      "        45     4594161.8167            2.86m\n",
      "        46     4572449.4774            2.84m\n",
      "        47     4546493.0008            2.83m\n",
      "        48     4527374.7411            2.81m\n",
      "        49     4507436.6925            2.79m\n",
      "        50     4483720.2968            2.78m\n",
      "        51     4457513.1858            2.76m\n",
      "        52     4437552.2165            2.74m\n",
      "        53     4420870.9360            2.72m\n",
      "        54     4400832.2618            2.71m\n",
      "        55     4382531.3098            2.69m\n",
      "        56     4370228.0347            2.67m\n",
      "        57     4351653.4944            2.65m\n",
      "        58     4336080.8346            2.63m\n",
      "        59     4320857.9439            2.62m\n",
      "        60     4304129.1678            2.60m\n",
      "        61     4290329.3509            2.58m\n",
      "        62     4279495.7727            2.56m\n",
      "        63     4265598.7389            2.55m\n",
      "        64     4249479.2223            2.53m\n",
      "        65     4235499.9710            2.51m\n",
      "        66     4223516.1787            2.50m\n",
      "        67     4212488.3459            2.48m\n",
      "        68     4199435.4820            2.47m\n",
      "        69     4185903.2840            2.46m\n",
      "        70     4170520.9782            2.44m\n",
      "        71     4163202.4212            2.43m\n",
      "        72     4153274.0426            2.41m\n",
      "        73     4144908.8614            2.39m\n",
      "        74     4134516.2668            2.38m\n",
      "        75     4124681.8028            2.37m\n",
      "        76     4112643.5588            2.35m\n",
      "        77     4099755.6944            2.34m\n",
      "        78     4087829.1862            2.32m\n",
      "        79     4080925.0685            2.31m\n",
      "        80     4071301.7852            2.29m\n",
      "        81     4065523.3392            2.27m\n",
      "        82     4057166.0469            2.26m\n",
      "        83     4050824.3708            2.24m\n",
      "        84     4043738.5868            2.23m\n",
      "        85     4038826.3666            2.21m\n",
      "        86     4030509.3277            2.20m\n",
      "        87     4025108.3335            2.18m\n",
      "        88     4018982.3717            2.17m\n",
      "        89     4014460.2202            2.15m\n",
      "        90     4005915.2586            2.14m\n",
      "        91     3996856.1753            2.12m\n",
      "        92     3992121.4142            2.11m\n",
      "        93     3981989.3018            2.10m\n",
      "        94     3976282.0962            2.08m\n",
      "        95     3969699.5346            2.07m\n",
      "        96     3965209.6209            2.05m\n",
      "        97     3961314.0192            2.04m\n",
      "        98     3956408.8201            2.03m\n",
      "        99     3952814.5523            2.02m\n",
      "       100     3949346.8844            2.01m\n",
      "       101     3943663.3497            1.99m\n",
      "       102     3937273.4911            1.98m\n",
      "       103     3928958.9241            1.96m\n",
      "       104     3921886.7254            1.95m\n",
      "       105     3914899.3600            1.94m\n",
      "       106     3911646.1640            1.92m\n",
      "       107     3903470.8890            1.91m\n",
      "       108     3896329.8483            1.90m\n",
      "       109     3892150.2839            1.88m\n",
      "       110     3888775.5110            1.87m\n",
      "       111     3885783.9017            1.85m\n",
      "       112     3881861.5482            1.84m\n",
      "       113     3878089.0266            1.83m\n",
      "       114     3873705.1332            1.81m\n",
      "       115     3869955.0249            1.80m\n",
      "       116     3862988.7905            1.79m\n",
      "       117     3860096.4883            1.77m\n",
      "       118     3857449.6695            1.76m\n",
      "       119     3855188.3809            1.75m\n",
      "       120     3851714.8126            1.73m\n",
      "       121     3848897.0926            1.72m\n",
      "       122     3846182.0305            1.70m\n",
      "       123     3843668.2398            1.69m\n",
      "       124     3840572.7552            1.68m\n",
      "       125     3837490.0039            1.66m\n",
      "       126     3834107.7130            1.65m\n",
      "       127     3830056.8726            1.63m\n",
      "       128     3827514.4947            1.62m\n",
      "       129     3820465.0103            1.60m\n",
      "       130     3817709.1433            1.59m\n",
      "       131     3815664.3424            1.57m\n",
      "       132     3813562.3289            1.56m\n",
      "       133     3807650.1872            1.55m\n",
      "       134     3805715.7562            1.53m\n",
      "       135     3801825.4780            1.52m\n",
      "       136     3795774.0861            1.51m\n",
      "       137     3785052.0132            1.49m\n",
      "       138     3782882.1048            1.48m\n",
      "       139     3781151.7698            1.46m\n",
      "       140     3778225.2606            1.45m\n",
      "       141     3774172.4283            1.44m\n",
      "       142     3770195.9283            1.42m\n",
      "       143     3767859.2529            1.41m\n",
      "       144     3765398.6005            1.39m\n",
      "       145     3760678.1565            1.38m\n",
      "       146     3757514.5460            1.37m\n",
      "       147     3753593.3379            1.35m\n",
      "       148     3741967.6983            1.34m\n",
      "       149     3736438.4796            1.33m\n",
      "       150     3732123.0069            1.32m\n",
      "       151     3729273.2577            1.30m\n",
      "       152     3727094.5158            1.29m\n",
      "       153     3721835.7643            1.27m\n",
      "       154     3719965.4789            1.26m\n",
      "       155     3718103.5648            1.25m\n",
      "       156     3714199.4429            1.23m\n",
      "       157     3712811.2585            1.22m\n",
      "       158     3710845.5275            1.21m\n",
      "       159     3709274.0297            1.19m\n",
      "       160     3706503.5696            1.18m\n",
      "       161     3702842.7527            1.17m\n",
      "       162     3697196.7421            1.15m\n",
      "       163     3695017.0318            1.14m\n",
      "       164     3693097.2983            1.13m\n",
      "       165     3691080.2890            1.11m\n",
      "       166     3689401.2451            1.10m\n",
      "       167     3687859.7439            1.08m\n",
      "       168     3685669.0635            1.07m\n",
      "       169     3684148.1739            1.06m\n",
      "       170     3680935.3001            1.04m\n",
      "       171     3679780.1613            1.03m\n",
      "       172     3678206.5838            1.02m\n",
      "       173     3675015.4810            1.00m\n",
      "       174     3672564.8635           59.44s\n",
      "       175     3671262.5474           58.65s\n",
      "       176     3668892.7080           57.84s\n",
      "       177     3666955.8220           57.05s\n",
      "       178     3664400.6665           56.29s\n",
      "       179     3662867.8552           55.47s\n",
      "       180     3661224.9329           54.67s\n",
      "       181     3659897.3468           53.86s\n",
      "       182     3657353.0104           53.07s\n",
      "       183     3650083.7678           52.28s\n",
      "       184     3645969.7686           51.48s\n",
      "       185     3642685.9017           50.72s\n",
      "       186     3640324.4653           49.93s\n",
      "       187     3637679.1934           49.14s\n",
      "       188     3635646.3266           48.36s\n",
      "       189     3633820.3739           47.56s\n",
      "       190     3632425.9924           46.77s\n",
      "       191     3629538.9114           45.98s\n",
      "       192     3628338.5872           45.19s\n",
      "       193     3625606.0770           44.41s\n",
      "       194     3624407.4103           43.62s\n",
      "       195     3622056.1581           42.83s\n",
      "       196     3620108.1046           42.04s\n",
      "       197     3618808.3174           41.25s\n",
      "       198     3617512.9465           40.45s\n",
      "       199     3616330.8052           39.66s\n",
      "       200     3614831.1223           38.87s\n",
      "       201     3613769.9631           38.09s\n",
      "       202     3612093.9468           37.32s\n",
      "       203     3610453.6022           36.53s\n",
      "       204     3609384.3902           35.74s\n",
      "       205     3607153.6402           34.95s\n",
      "       206     3604954.9364           34.17s\n",
      "       207     3602864.0980           33.39s\n",
      "       208     3601116.6084           32.61s\n",
      "       209     3598927.2455           31.83s\n",
      "       210     3596538.9997           31.04s\n",
      "       211     3594843.5561           30.26s\n",
      "       212     3592058.6422           29.50s\n",
      "       213     3589419.5931           28.72s\n",
      "       214     3582994.6045           27.97s\n",
      "       215     3580262.9801           27.20s\n",
      "       216     3579232.0101           26.41s\n",
      "       217     3578096.7223           25.63s\n",
      "       218     3577041.5793           24.85s\n",
      "       219     3576179.6781           24.06s\n",
      "       220     3574668.9747           23.29s\n",
      "       221     3573440.4152           22.50s\n",
      "       222     3572236.7228           21.72s\n",
      "       223     3571400.7644           20.94s\n",
      "       224     3570429.8405           20.15s\n",
      "       225     3569433.0697           19.37s\n",
      "       226     3568557.4034           18.59s\n",
      "       227     3567433.4297           17.81s\n",
      "       228     3566339.8934           17.04s\n",
      "       229     3561190.2215           16.27s\n",
      "       230     3559868.8427           15.49s\n",
      "       231     3558788.8713           14.71s\n",
      "       232     3557671.4381           13.93s\n",
      "       233     3555844.0361           13.15s\n",
      "       234     3553564.5768           12.38s\n",
      "       235     3551908.0553           11.60s\n",
      "       236     3547638.0180           10.83s\n",
      "       237     3544744.5583           10.05s\n",
      "       238     3541844.6455            9.28s\n",
      "       239     3540000.1265            8.50s\n",
      "       240     3536949.1426            7.73s\n",
      "       241     3536040.4422            6.96s\n",
      "       242     3535190.7406            6.19s\n",
      "       243     3534518.7638            5.41s\n",
      "       244     3533561.1296            4.64s\n",
      "       245     3532573.4493            3.86s\n",
      "       246     3531285.6806            3.09s\n",
      "       247     3530255.7627            2.32s\n",
      "       248     3528735.9028            1.54s\n",
      "       249     3526813.1284            0.77s\n",
      "       250     3525804.8726            0.00s\n",
      "CPU times: user 3min 11s, sys: 612 ms, total: 3min 12s\n",
      "Wall time: 3min 13s\n"
     ]
    },
    {
     "data": {
      "text/plain": [
       "GradientBoostingRegressor(n_estimators=250, random_state=42, verbose=50)"
      ]
     },
     "execution_count": 63,
     "metadata": {},
     "output_type": "execute_result"
    }
   ],
   "source": [
    "%%time\n",
    "\n",
    "gbr_1 = GradientBoostingRegressor(random_state=RND_ST, n_estimators=250, learning_rate=0.1, max_depth=3, verbose=50)\n",
    "gbr_1.fit(X_train_, y_train_)\n"
   ]
  },
  {
   "cell_type": "code",
   "execution_count": 64,
   "metadata": {},
   "outputs": [
    {
     "name": "stdout",
     "output_type": "stream",
     "text": [
      "RMSE на обучающей выборке 1877.7126704140378\n",
      "\n",
      "CPU times: user 1.72 s, sys: 243 ms, total: 1.97 s\n",
      "Wall time: 1.98 s\n"
     ]
    }
   ],
   "source": [
    "%%time\n",
    "print('RMSE на обучающей выборке', rmse_score(gbr_1, X_train_, y_train_))\n",
    "print()\n"
   ]
  },
  {
   "cell_type": "code",
   "execution_count": 65,
   "metadata": {
    "scrolled": true
   },
   "outputs": [
    {
     "name": "stdout",
     "output_type": "stream",
     "text": [
      "RMSE на валидационной выборке 1859.2877718136094\n",
      "\n",
      "CPU times: user 483 ms, sys: 67.8 ms, total: 550 ms\n",
      "Wall time: 554 ms\n"
     ]
    }
   ],
   "source": [
    "%%time\n",
    "print('RMSE на валидационной выборке', rmse_score(gbr_1, X_valid_, y_valid_))\n",
    "print()"
   ]
  },
  {
   "cell_type": "markdown",
   "metadata": {},
   "source": [
    "Без особого подбора гиперпараметров удалось на валидационной выборке улучшить качество, относительно первоначального, до 1906.20 Евро (метрика RMSE). Посмотрим, что смогут сделать другие модели.\n"
   ]
  },
  {
   "cell_type": "markdown",
   "metadata": {},
   "source": [
    "**Итог GradientBoosting**\n",
    "\n",
    "Обучение - 214 сек\n",
    "\n",
    "Предсказание на валидации - 681 мсек\n",
    "\n",
    "RMSE на валидации - 1859.24\n",
    "\n",
    "Переобучения не обнаружено."
   ]
  },
  {
   "cell_type": "code",
   "execution_count": 66,
   "metadata": {},
   "outputs": [],
   "source": [
    "res = {\n",
    "    'model_name':pd.Series(['GradBoost','xgboost','lightGBM','CatBoost']),\n",
    "    'training_time':pd.Series([214,0,0,0]),\n",
    "    'prediction_valid_time':pd.Series([681,0,0,0]), \n",
    "    'rmse_valid':pd.Series([1859.24,0,0,0]), \n",
    "  }"
   ]
  },
  {
   "cell_type": "code",
   "execution_count": 67,
   "metadata": {},
   "outputs": [
    {
     "data": {
      "text/html": [
       "<div>\n",
       "<style scoped>\n",
       "    .dataframe tbody tr th:only-of-type {\n",
       "        vertical-align: middle;\n",
       "    }\n",
       "\n",
       "    .dataframe tbody tr th {\n",
       "        vertical-align: top;\n",
       "    }\n",
       "\n",
       "    .dataframe thead th {\n",
       "        text-align: right;\n",
       "    }\n",
       "</style>\n",
       "<table border=\"1\" class=\"dataframe\">\n",
       "  <thead>\n",
       "    <tr style=\"text-align: right;\">\n",
       "      <th></th>\n",
       "      <th>model_name</th>\n",
       "      <th>training_time</th>\n",
       "      <th>prediction_valid_time</th>\n",
       "      <th>rmse_valid</th>\n",
       "    </tr>\n",
       "  </thead>\n",
       "  <tbody>\n",
       "    <tr>\n",
       "      <th>0</th>\n",
       "      <td>GradBoost</td>\n",
       "      <td>214</td>\n",
       "      <td>681</td>\n",
       "      <td>1859.24</td>\n",
       "    </tr>\n",
       "    <tr>\n",
       "      <th>1</th>\n",
       "      <td>xgboost</td>\n",
       "      <td>0</td>\n",
       "      <td>0</td>\n",
       "      <td>0.00</td>\n",
       "    </tr>\n",
       "    <tr>\n",
       "      <th>2</th>\n",
       "      <td>lightGBM</td>\n",
       "      <td>0</td>\n",
       "      <td>0</td>\n",
       "      <td>0.00</td>\n",
       "    </tr>\n",
       "    <tr>\n",
       "      <th>3</th>\n",
       "      <td>CatBoost</td>\n",
       "      <td>0</td>\n",
       "      <td>0</td>\n",
       "      <td>0.00</td>\n",
       "    </tr>\n",
       "  </tbody>\n",
       "</table>\n",
       "</div>"
      ],
      "text/plain": [
       "  model_name  training_time  prediction_valid_time  rmse_valid\n",
       "0  GradBoost            214                    681     1859.24\n",
       "1    xgboost              0                      0        0.00\n",
       "2   lightGBM              0                      0        0.00\n",
       "3   CatBoost              0                      0        0.00"
      ]
     },
     "execution_count": 67,
     "metadata": {},
     "output_type": "execute_result"
    }
   ],
   "source": [
    "results = pd.DataFrame(res)\n",
    "results"
   ]
  },
  {
   "cell_type": "markdown",
   "metadata": {},
   "source": [
    "**XGboost**"
   ]
  },
  {
   "cell_type": "code",
   "execution_count": 68,
   "metadata": {},
   "outputs": [],
   "source": [
    "dtrain = xgb.DMatrix(X_train_, label=y_train_)\n",
    "dval = xgb.DMatrix(X_valid_)\n",
    "dtest = xgb.DMatrix(X_test_)"
   ]
  },
  {
   "cell_type": "code",
   "execution_count": 69,
   "metadata": {},
   "outputs": [
    {
     "name": "stdout",
     "output_type": "stream",
     "text": [
      "CPU times: user 49.4 s, sys: 0 ns, total: 49.4 s\n",
      "Wall time: 49.4 s\n"
     ]
    }
   ],
   "source": [
    "%%time\n",
    "param = {'max_depth':3, \n",
    "         'eta':1, \n",
    "         'sampling_method':'gradient_based', \n",
    "         'verbosity':1, \n",
    "         'gamma':10, \n",
    "         'seed':RND_ST}\n",
    "\n",
    "num_round = 30\n",
    "\n",
    "bst = xgb.train(param, dtrain, num_round)\n"
   ]
  },
  {
   "cell_type": "code",
   "execution_count": 70,
   "metadata": {},
   "outputs": [
    {
     "name": "stdout",
     "output_type": "stream",
     "text": [
      "RMSE на обучающей выборке 2001.7341407696356\n",
      "\n",
      "CPU times: user 281 ms, sys: 0 ns, total: 281 ms\n",
      "Wall time: 299 ms\n"
     ]
    }
   ],
   "source": [
    "%%time\n",
    "print('RMSE на обучающей выборке', rmse_score(bst, dtrain, y_train_))\n",
    "print()"
   ]
  },
  {
   "cell_type": "code",
   "execution_count": 71,
   "metadata": {},
   "outputs": [
    {
     "name": "stdout",
     "output_type": "stream",
     "text": [
      "RMSE на валидационной выборке 1986.3298446822293\n",
      "\n",
      "CPU times: user 106 ms, sys: 0 ns, total: 106 ms\n",
      "Wall time: 89 ms\n"
     ]
    }
   ],
   "source": [
    "%%time\n",
    "print('RMSE на валидационной выборке', rmse_score(bst, dval, y_valid_))\n",
    "print()\n"
   ]
  },
  {
   "cell_type": "markdown",
   "metadata": {},
   "source": [
    "Изменим параметры"
   ]
  },
  {
   "cell_type": "code",
   "execution_count": 72,
   "metadata": {},
   "outputs": [
    {
     "name": "stdout",
     "output_type": "stream",
     "text": [
      "CPU times: user 1min 42s, sys: 0 ns, total: 1min 42s\n",
      "Wall time: 1min 43s\n"
     ]
    }
   ],
   "source": [
    "%%time\n",
    "param = {'max_depth':6, \n",
    "         'eta':0.5, \n",
    "         'min_child_weight':4,\n",
    "         'sampling_method':'gradient_based', \n",
    "         'verbosity':1,  \n",
    "         'seed':RND_ST}\n",
    "\n",
    "num_round = 35\n",
    "\n",
    "bst = xgb.train(param, dtrain, num_round)\n",
    "\n"
   ]
  },
  {
   "cell_type": "code",
   "execution_count": 73,
   "metadata": {},
   "outputs": [
    {
     "name": "stdout",
     "output_type": "stream",
     "text": [
      "RMSE на обучающей выборке 1732.8582464055678\n",
      "\n",
      "CPU times: user 389 ms, sys: 0 ns, total: 389 ms\n",
      "Wall time: 387 ms\n"
     ]
    }
   ],
   "source": [
    "%%time\n",
    "print('RMSE на обучающей выборке', rmse_score(bst, dtrain, y_train_))\n",
    "print()\n"
   ]
  },
  {
   "cell_type": "code",
   "execution_count": 74,
   "metadata": {},
   "outputs": [
    {
     "name": "stdout",
     "output_type": "stream",
     "text": [
      "RMSE на валидационной выборке 1772.3750013363472\n",
      "\n",
      "CPU times: user 149 ms, sys: 0 ns, total: 149 ms\n",
      "Wall time: 185 ms\n"
     ]
    }
   ],
   "source": [
    "%%time\n",
    "print('RMSE на валидационной выборке', rmse_score(bst, dval, y_valid_))\n",
    "print()"
   ]
  },
  {
   "cell_type": "markdown",
   "metadata": {},
   "source": [
    "Удалось улучшить RMSE на валидационной выборке, в сравнении с Gradient boosting.\n",
    "Заметно улучшилось время обучения и предсказания."
   ]
  },
  {
   "cell_type": "code",
   "execution_count": 75,
   "metadata": {},
   "outputs": [
    {
     "data": {
      "text/html": [
       "<div>\n",
       "<style scoped>\n",
       "    .dataframe tbody tr th:only-of-type {\n",
       "        vertical-align: middle;\n",
       "    }\n",
       "\n",
       "    .dataframe tbody tr th {\n",
       "        vertical-align: top;\n",
       "    }\n",
       "\n",
       "    .dataframe thead th {\n",
       "        text-align: right;\n",
       "    }\n",
       "</style>\n",
       "<table border=\"1\" class=\"dataframe\">\n",
       "  <thead>\n",
       "    <tr style=\"text-align: right;\">\n",
       "      <th></th>\n",
       "      <th>model_name</th>\n",
       "      <th>training_time</th>\n",
       "      <th>prediction_valid_time</th>\n",
       "      <th>rmse_valid</th>\n",
       "    </tr>\n",
       "  </thead>\n",
       "  <tbody>\n",
       "    <tr>\n",
       "      <th>0</th>\n",
       "      <td>GradBoost</td>\n",
       "      <td>214</td>\n",
       "      <td>681</td>\n",
       "      <td>1859.24</td>\n",
       "    </tr>\n",
       "    <tr>\n",
       "      <th>1</th>\n",
       "      <td>xgboost</td>\n",
       "      <td>123</td>\n",
       "      <td>162</td>\n",
       "      <td>1772.37</td>\n",
       "    </tr>\n",
       "    <tr>\n",
       "      <th>2</th>\n",
       "      <td>lightGBM</td>\n",
       "      <td>0</td>\n",
       "      <td>0</td>\n",
       "      <td>0.00</td>\n",
       "    </tr>\n",
       "    <tr>\n",
       "      <th>3</th>\n",
       "      <td>CatBoost</td>\n",
       "      <td>0</td>\n",
       "      <td>0</td>\n",
       "      <td>0.00</td>\n",
       "    </tr>\n",
       "  </tbody>\n",
       "</table>\n",
       "</div>"
      ],
      "text/plain": [
       "  model_name  training_time  prediction_valid_time  rmse_valid\n",
       "0  GradBoost            214                    681     1859.24\n",
       "1    xgboost            123                    162     1772.37\n",
       "2   lightGBM              0                      0        0.00\n",
       "3   CatBoost              0                      0        0.00"
      ]
     },
     "execution_count": 75,
     "metadata": {},
     "output_type": "execute_result"
    }
   ],
   "source": [
    "results.loc[1,'training_time'] = 123\n",
    "results.loc[1,'prediction_valid_time'] = 162\n",
    "results.loc[1,'rmse_valid'] = 1772.37\n",
    "results"
   ]
  },
  {
   "cell_type": "markdown",
   "metadata": {},
   "source": [
    "# **Итог xgbost**\n",
    "\n",
    "Обучение - 107 сек\n",
    "\n",
    "Предсказание на валидации - 162 мсек\n",
    "\n",
    "RMSE на валидации - 1772.34\t\n"
   ]
  },
  {
   "cell_type": "markdown",
   "metadata": {},
   "source": [
    "**LightGBM**\n",
    "\n",
    "Переводим категориальные признаки из 'str' в 'int'"
   ]
  },
  {
   "cell_type": "code",
   "execution_count": 76,
   "metadata": {},
   "outputs": [
    {
     "data": {
      "text/html": [
       "<div>\n",
       "<style scoped>\n",
       "    .dataframe tbody tr th:only-of-type {\n",
       "        vertical-align: middle;\n",
       "    }\n",
       "\n",
       "    .dataframe tbody tr th {\n",
       "        vertical-align: top;\n",
       "    }\n",
       "\n",
       "    .dataframe thead th {\n",
       "        text-align: right;\n",
       "    }\n",
       "</style>\n",
       "<table border=\"1\" class=\"dataframe\">\n",
       "  <thead>\n",
       "    <tr style=\"text-align: right;\">\n",
       "      <th></th>\n",
       "      <th>vehicletype</th>\n",
       "      <th>registrationyear</th>\n",
       "      <th>gearbox</th>\n",
       "      <th>power</th>\n",
       "      <th>model</th>\n",
       "      <th>kilometer</th>\n",
       "      <th>fueltype</th>\n",
       "      <th>brand</th>\n",
       "      <th>repaired</th>\n",
       "    </tr>\n",
       "  </thead>\n",
       "  <tbody>\n",
       "    <tr>\n",
       "      <th>1</th>\n",
       "      <td>coupe</td>\n",
       "      <td>2011</td>\n",
       "      <td>manual</td>\n",
       "      <td>190</td>\n",
       "      <td>other</td>\n",
       "      <td>125000</td>\n",
       "      <td>gasoline</td>\n",
       "      <td>audi</td>\n",
       "      <td>1</td>\n",
       "    </tr>\n",
       "    <tr>\n",
       "      <th>2</th>\n",
       "      <td>suv</td>\n",
       "      <td>2004</td>\n",
       "      <td>auto</td>\n",
       "      <td>163</td>\n",
       "      <td>grand</td>\n",
       "      <td>125000</td>\n",
       "      <td>gasoline</td>\n",
       "      <td>jeep</td>\n",
       "      <td>1</td>\n",
       "    </tr>\n",
       "    <tr>\n",
       "      <th>3</th>\n",
       "      <td>small</td>\n",
       "      <td>2001</td>\n",
       "      <td>manual</td>\n",
       "      <td>75</td>\n",
       "      <td>golf</td>\n",
       "      <td>150000</td>\n",
       "      <td>petrol</td>\n",
       "      <td>volkswagen</td>\n",
       "      <td>0</td>\n",
       "    </tr>\n",
       "    <tr>\n",
       "      <th>4</th>\n",
       "      <td>small</td>\n",
       "      <td>2008</td>\n",
       "      <td>manual</td>\n",
       "      <td>69</td>\n",
       "      <td>fabia</td>\n",
       "      <td>90000</td>\n",
       "      <td>gasoline</td>\n",
       "      <td>skoda</td>\n",
       "      <td>0</td>\n",
       "    </tr>\n",
       "    <tr>\n",
       "      <th>5</th>\n",
       "      <td>sedan</td>\n",
       "      <td>1995</td>\n",
       "      <td>manual</td>\n",
       "      <td>102</td>\n",
       "      <td>3er</td>\n",
       "      <td>150000</td>\n",
       "      <td>petrol</td>\n",
       "      <td>bmw</td>\n",
       "      <td>1</td>\n",
       "    </tr>\n",
       "  </tbody>\n",
       "</table>\n",
       "</div>"
      ],
      "text/plain": [
       "  vehicletype  registrationyear gearbox  power  model  kilometer  fueltype  \\\n",
       "1       coupe              2011  manual    190  other     125000  gasoline   \n",
       "2         suv              2004    auto    163  grand     125000  gasoline   \n",
       "3       small              2001  manual     75   golf     150000    petrol   \n",
       "4       small              2008  manual     69  fabia      90000  gasoline   \n",
       "5       sedan              1995  manual    102    3er     150000    petrol   \n",
       "\n",
       "        brand  repaired  \n",
       "1        audi         1  \n",
       "2        jeep         1  \n",
       "3  volkswagen         0  \n",
       "4       skoda         0  \n",
       "5         bmw         1  "
      ]
     },
     "execution_count": 76,
     "metadata": {},
     "output_type": "execute_result"
    }
   ],
   "source": [
    "features_light = features.copy()\n",
    "features.head()"
   ]
  },
  {
   "cell_type": "code",
   "execution_count": 77,
   "metadata": {},
   "outputs": [
    {
     "data": {
      "text/plain": [
       "Index(['vehicletype', 'registrationyear', 'gearbox', 'power', 'model',\n",
       "       'kilometer', 'fueltype', 'brand', 'repaired'],\n",
       "      dtype='object')"
      ]
     },
     "execution_count": 77,
     "metadata": {},
     "output_type": "execute_result"
    }
   ],
   "source": [
    "features_light.columns"
   ]
  },
  {
   "cell_type": "code",
   "execution_count": 78,
   "metadata": {},
   "outputs": [],
   "source": [
    "from sklearn.preprocessing import OrdinalEncoder\n",
    "enc = OrdinalEncoder()"
   ]
  },
  {
   "cell_type": "code",
   "execution_count": 80,
   "metadata": {},
   "outputs": [],
   "source": [
    "cat_feat = ['vehicletype', 'gearbox', 'model', 'fueltype', 'brand', 'repaired']\n",
    "\n",
    "features_light[cat_feat] = enc.fit_transform(features_light[cat_feat]).astype('int')\n"
   ]
  },
  {
   "cell_type": "code",
   "execution_count": 81,
   "metadata": {
    "scrolled": true
   },
   "outputs": [
    {
     "data": {
      "text/html": [
       "<div>\n",
       "<style scoped>\n",
       "    .dataframe tbody tr th:only-of-type {\n",
       "        vertical-align: middle;\n",
       "    }\n",
       "\n",
       "    .dataframe tbody tr th {\n",
       "        vertical-align: top;\n",
       "    }\n",
       "\n",
       "    .dataframe thead th {\n",
       "        text-align: right;\n",
       "    }\n",
       "</style>\n",
       "<table border=\"1\" class=\"dataframe\">\n",
       "  <thead>\n",
       "    <tr style=\"text-align: right;\">\n",
       "      <th></th>\n",
       "      <th>vehicletype</th>\n",
       "      <th>registrationyear</th>\n",
       "      <th>gearbox</th>\n",
       "      <th>power</th>\n",
       "      <th>model</th>\n",
       "      <th>kilometer</th>\n",
       "      <th>fueltype</th>\n",
       "      <th>brand</th>\n",
       "      <th>repaired</th>\n",
       "    </tr>\n",
       "  </thead>\n",
       "  <tbody>\n",
       "    <tr>\n",
       "      <th>1</th>\n",
       "      <td>2</td>\n",
       "      <td>2011</td>\n",
       "      <td>1</td>\n",
       "      <td>190</td>\n",
       "      <td>166</td>\n",
       "      <td>125000</td>\n",
       "      <td>2</td>\n",
       "      <td>1</td>\n",
       "      <td>1</td>\n",
       "    </tr>\n",
       "    <tr>\n",
       "      <th>2</th>\n",
       "      <td>6</td>\n",
       "      <td>2004</td>\n",
       "      <td>0</td>\n",
       "      <td>163</td>\n",
       "      <td>117</td>\n",
       "      <td>125000</td>\n",
       "      <td>2</td>\n",
       "      <td>14</td>\n",
       "      <td>1</td>\n",
       "    </tr>\n",
       "    <tr>\n",
       "      <th>3</th>\n",
       "      <td>5</td>\n",
       "      <td>2001</td>\n",
       "      <td>1</td>\n",
       "      <td>75</td>\n",
       "      <td>116</td>\n",
       "      <td>150000</td>\n",
       "      <td>6</td>\n",
       "      <td>38</td>\n",
       "      <td>0</td>\n",
       "    </tr>\n",
       "    <tr>\n",
       "      <th>4</th>\n",
       "      <td>5</td>\n",
       "      <td>2008</td>\n",
       "      <td>1</td>\n",
       "      <td>69</td>\n",
       "      <td>101</td>\n",
       "      <td>90000</td>\n",
       "      <td>2</td>\n",
       "      <td>31</td>\n",
       "      <td>0</td>\n",
       "    </tr>\n",
       "    <tr>\n",
       "      <th>5</th>\n",
       "      <td>4</td>\n",
       "      <td>1995</td>\n",
       "      <td>1</td>\n",
       "      <td>102</td>\n",
       "      <td>11</td>\n",
       "      <td>150000</td>\n",
       "      <td>6</td>\n",
       "      <td>2</td>\n",
       "      <td>1</td>\n",
       "    </tr>\n",
       "  </tbody>\n",
       "</table>\n",
       "</div>"
      ],
      "text/plain": [
       "   vehicletype  registrationyear  gearbox  power  model  kilometer  fueltype  \\\n",
       "1            2              2011        1    190    166     125000         2   \n",
       "2            6              2004        0    163    117     125000         2   \n",
       "3            5              2001        1     75    116     150000         6   \n",
       "4            5              2008        1     69    101      90000         2   \n",
       "5            4              1995        1    102     11     150000         6   \n",
       "\n",
       "   brand  repaired  \n",
       "1      1         1  \n",
       "2     14         1  \n",
       "3     38         0  \n",
       "4     31         0  \n",
       "5      2         1  "
      ]
     },
     "execution_count": 81,
     "metadata": {},
     "output_type": "execute_result"
    }
   ],
   "source": [
    "features_light.head()"
   ]
  },
  {
   "cell_type": "markdown",
   "metadata": {},
   "source": [
    "Создаем три подвыборки."
   ]
  },
  {
   "cell_type": "code",
   "execution_count": 82,
   "metadata": {},
   "outputs": [
    {
     "name": "stdout",
     "output_type": "stream",
     "text": [
      "181578 60526 60527\n"
     ]
    }
   ],
   "source": [
    "X_train_val_l, X_test_l, y_train_val_l, y_test_l = train_test_split(\n",
    "    features_light, target, test_size=0.2, random_state=RND_ST)\n",
    "\n",
    " \n",
    "X_train_l, X_valid_l, y_train_l, y_valid_l = train_test_split(\n",
    "    X_train_val_l, y_train_val_l, test_size=0.25, random_state=RND_ST)\n",
    "\n",
    "\n",
    "print(X_train_l.shape[0], X_valid_l.shape[0], X_test_l.shape[0])\n"
   ]
  },
  {
   "cell_type": "code",
   "execution_count": 84,
   "metadata": {},
   "outputs": [],
   "source": [
    "train_data = lgb.Dataset(X_train_l, y_train_l, categorical_feature=cat_feat)\n",
    "valid_data = lgb.Dataset(X_valid_l, categorical_feature=cat_feat) \n",
    "test_data = lgb.Dataset(X_test_l, categorical_feature=cat_feat)"
   ]
  },
  {
   "cell_type": "markdown",
   "metadata": {},
   "source": [
    "Укажем первичные параметры."
   ]
  },
  {
   "cell_type": "code",
   "execution_count": 85,
   "metadata": {},
   "outputs": [],
   "source": [
    "params = {\n",
    "    'boosting_type': 'gbdt',\n",
    "    'objective': 'regression',\n",
    "    #'max_depth':15,\n",
    "    'num_leaves': 127,\n",
    "    'min_data_in_leaf':100,\n",
    "    'metric':'rmse',\n",
    "    'learning_rate': 1,\n",
    "    #'feature_fraction': 0.8,\n",
    "    #'bagging_fraction': 0.5,\n",
    "    'verbose': 1\n",
    "}"
   ]
  },
  {
   "cell_type": "code",
   "execution_count": 86,
   "metadata": {},
   "outputs": [
    {
     "name": "stderr",
     "output_type": "stream",
     "text": [
      "/opt/conda/lib/python3.9/site-packages/lightgbm/basic.py:2065: UserWarning: Using categorical_feature in Dataset.\n",
      "  _log_warning('Using categorical_feature in Dataset.')\n"
     ]
    },
    {
     "name": "stdout",
     "output_type": "stream",
     "text": [
      "[LightGBM] [Warning] Auto-choosing row-wise multi-threading, the overhead of testing was 0.107665 seconds.\n",
      "You can set `force_row_wise=true` to remove the overhead.\n",
      "And if memory is not enough, you can set `force_col_wise=true`.\n",
      "[LightGBM] [Info] Total Bins 621\n",
      "[LightGBM] [Info] Number of data points in the train set: 181578, number of used features: 9\n",
      "[LightGBM] [Info] Start training from score 4766.730364\n",
      "CPU times: user 3.31 s, sys: 0 ns, total: 3.31 s\n",
      "Wall time: 3.27 s\n"
     ]
    }
   ],
   "source": [
    "%%time\n",
    "gbm = lgb.train(params,\n",
    "                train_data,\n",
    "                num_boost_round=30)\n"
   ]
  },
  {
   "cell_type": "code",
   "execution_count": 87,
   "metadata": {},
   "outputs": [
    {
     "name": "stdout",
     "output_type": "stream",
     "text": [
      "RMSE на обучающей выборке 1583.6410921119611\n",
      "\n",
      "CPU times: user 822 ms, sys: 0 ns, total: 822 ms\n",
      "Wall time: 801 ms\n"
     ]
    }
   ],
   "source": [
    "%%time\n",
    "print('RMSE на обучающей выборке', rmse_score(gbm, X_train_l, y_train_l))\n",
    "print()"
   ]
  },
  {
   "cell_type": "code",
   "execution_count": 88,
   "metadata": {},
   "outputs": [
    {
     "name": "stdout",
     "output_type": "stream",
     "text": [
      "RMSE на валидационной выборке 1774.900520397702\n",
      "\n",
      "CPU times: user 283 ms, sys: 0 ns, total: 283 ms\n",
      "Wall time: 298 ms\n"
     ]
    }
   ],
   "source": [
    "%%time\n",
    "print('RMSE на валидационной выборке', rmse_score(gbm, X_valid_l, y_valid_l))\n",
    "print()"
   ]
  },
  {
   "cell_type": "markdown",
   "metadata": {},
   "source": [
    "Cкорость обучения и rmse на валидационной выборке лучше предыдущиx двух моделей."
   ]
  },
  {
   "cell_type": "code",
   "execution_count": 89,
   "metadata": {},
   "outputs": [],
   "source": [
    "results.loc[2,'training_time'] = 2.88 \n",
    "results.loc[2,'prediction_valid_time'] = 309\n",
    "results.loc[2,'rmse_valid'] = 1774.90\n",
    "\n"
   ]
  },
  {
   "cell_type": "code",
   "execution_count": 90,
   "metadata": {},
   "outputs": [
    {
     "data": {
      "text/html": [
       "<div>\n",
       "<style scoped>\n",
       "    .dataframe tbody tr th:only-of-type {\n",
       "        vertical-align: middle;\n",
       "    }\n",
       "\n",
       "    .dataframe tbody tr th {\n",
       "        vertical-align: top;\n",
       "    }\n",
       "\n",
       "    .dataframe thead th {\n",
       "        text-align: right;\n",
       "    }\n",
       "</style>\n",
       "<table border=\"1\" class=\"dataframe\">\n",
       "  <thead>\n",
       "    <tr style=\"text-align: right;\">\n",
       "      <th></th>\n",
       "      <th>model_name</th>\n",
       "      <th>training_time</th>\n",
       "      <th>prediction_valid_time</th>\n",
       "      <th>rmse_valid</th>\n",
       "    </tr>\n",
       "  </thead>\n",
       "  <tbody>\n",
       "    <tr>\n",
       "      <th>0</th>\n",
       "      <td>GradBoost</td>\n",
       "      <td>214.00</td>\n",
       "      <td>681</td>\n",
       "      <td>1859.24</td>\n",
       "    </tr>\n",
       "    <tr>\n",
       "      <th>1</th>\n",
       "      <td>xgboost</td>\n",
       "      <td>123.00</td>\n",
       "      <td>162</td>\n",
       "      <td>1772.37</td>\n",
       "    </tr>\n",
       "    <tr>\n",
       "      <th>2</th>\n",
       "      <td>lightGBM</td>\n",
       "      <td>2.88</td>\n",
       "      <td>309</td>\n",
       "      <td>1774.90</td>\n",
       "    </tr>\n",
       "    <tr>\n",
       "      <th>3</th>\n",
       "      <td>CatBoost</td>\n",
       "      <td>0.00</td>\n",
       "      <td>0</td>\n",
       "      <td>0.00</td>\n",
       "    </tr>\n",
       "  </tbody>\n",
       "</table>\n",
       "</div>"
      ],
      "text/plain": [
       "  model_name  training_time  prediction_valid_time  rmse_valid\n",
       "0  GradBoost         214.00                    681     1859.24\n",
       "1    xgboost         123.00                    162     1772.37\n",
       "2   lightGBM           2.88                    309     1774.90\n",
       "3   CatBoost           0.00                      0        0.00"
      ]
     },
     "execution_count": 90,
     "metadata": {},
     "output_type": "execute_result"
    }
   ],
   "source": [
    "results"
   ]
  },
  {
   "cell_type": "markdown",
   "metadata": {},
   "source": [
    "## **Итог LightGBM**\n",
    "\n",
    "Обучение - 2.88\t сек\n",
    "\n",
    "Предсказание на валидации - 309\t мсек\n",
    "\n",
    "RMSE на валидации - 1821.22"
   ]
  },
  {
   "cell_type": "markdown",
   "metadata": {},
   "source": [
    "**CatBoost**\n",
    "\n",
    "Категориальные фичи-значения ('str') теперь можно не переводить в цифровые!\n",
    "\n",
    "Снова создаем три подвыборки."
   ]
  },
  {
   "cell_type": "code",
   "execution_count": 91,
   "metadata": {},
   "outputs": [
    {
     "name": "stdout",
     "output_type": "stream",
     "text": [
      "181578 60526 60527\n"
     ]
    }
   ],
   "source": [
    "X_train_val_c, X_test_c, y_train_val_c, y_test_c = train_test_split(\n",
    "    features, target, test_size=0.2, random_state=RND_ST)\n",
    "\n",
    " \n",
    "X_train_c, X_valid_c, y_train_c, y_valid_c = train_test_split(\n",
    "    X_train_val_c, y_train_val_c, test_size=0.25, random_state=RND_ST)\n",
    "\n",
    "\n",
    "print(X_train_c.shape[0], X_valid_c.shape[0], X_test_c.shape[0])\n",
    "\n"
   ]
  },
  {
   "cell_type": "code",
   "execution_count": 92,
   "metadata": {},
   "outputs": [
    {
     "data": {
      "text/plain": [
       "Index(['vehicletype', 'registrationyear', 'gearbox', 'power', 'model',\n",
       "       'kilometer', 'fueltype', 'brand', 'repaired'],\n",
       "      dtype='object')"
      ]
     },
     "execution_count": 92,
     "metadata": {},
     "output_type": "execute_result"
    }
   ],
   "source": [
    "X_train_c.columns"
   ]
  },
  {
   "cell_type": "markdown",
   "metadata": {},
   "source": [
    "Создаем три пула."
   ]
  },
  {
   "cell_type": "code",
   "execution_count": 93,
   "metadata": {},
   "outputs": [],
   "source": [
    "train_pool = Pool(X_train_c, \n",
    "                  y_train_c, \n",
    "                  cat_features=cat_feat)\n",
    "\n",
    "valid_pool = Pool(X_valid_c, \n",
    "                  y_valid_c, \n",
    "                  cat_features=cat_feat)\n",
    "\n",
    "test_pool = Pool(X_test_c, \n",
    "                 cat_features=cat_feat) \n"
   ]
  },
  {
   "cell_type": "markdown",
   "metadata": {},
   "source": [
    "Обучаем модедь."
   ]
  },
  {
   "cell_type": "code",
   "execution_count": 94,
   "metadata": {},
   "outputs": [],
   "source": [
    "cbr = CatBoostRegressor(depth=6, \n",
    "                        learning_rate=1, \n",
    "                        loss_function='RMSE', \n",
    "                        verbose=50, \n",
    "                        random_state=RND_ST, \n",
    "                        iterations=500)\n"
   ]
  },
  {
   "cell_type": "code",
   "execution_count": 95,
   "metadata": {},
   "outputs": [
    {
     "name": "stdout",
     "output_type": "stream",
     "text": [
      "0:\tlearn: 2702.6832312\ttotal: 240ms\tremaining: 1m 59s\n",
      "50:\tlearn: 1767.8764865\ttotal: 6.74s\tremaining: 59.3s\n",
      "100:\tlearn: 1699.7856550\ttotal: 13.1s\tremaining: 51.8s\n",
      "150:\tlearn: 1652.7819025\ttotal: 19.2s\tremaining: 44.3s\n",
      "200:\tlearn: 1622.4777631\ttotal: 25.5s\tremaining: 38s\n",
      "250:\tlearn: 1598.1934015\ttotal: 32s\tremaining: 31.7s\n",
      "300:\tlearn: 1577.5341833\ttotal: 38.6s\tremaining: 25.5s\n",
      "350:\tlearn: 1559.1930270\ttotal: 44.9s\tremaining: 19.1s\n",
      "400:\tlearn: 1542.9736889\ttotal: 51s\tremaining: 12.6s\n",
      "450:\tlearn: 1528.7559179\ttotal: 57.1s\tremaining: 6.21s\n",
      "499:\tlearn: 1515.5572179\ttotal: 1m 3s\tremaining: 0us\n",
      "CPU times: user 1min 4s, sys: 0 ns, total: 1min 4s\n",
      "Wall time: 1min 5s\n"
     ]
    },
    {
     "data": {
      "text/plain": [
       "<catboost.core.CatBoostRegressor at 0x7fee84e10970>"
      ]
     },
     "execution_count": 95,
     "metadata": {},
     "output_type": "execute_result"
    }
   ],
   "source": [
    "%%time\n",
    "cbr.fit(train_pool)\n"
   ]
  },
  {
   "cell_type": "code",
   "execution_count": 96,
   "metadata": {},
   "outputs": [
    {
     "name": "stdout",
     "output_type": "stream",
     "text": [
      "RMSE на обучающей выборке 1548.7182161420778\n",
      "\n",
      "CPU times: user 1.21 s, sys: 10.6 ms, total: 1.22 s\n",
      "Wall time: 1.23 s\n"
     ]
    }
   ],
   "source": [
    "%%time\n",
    "print('RMSE на обучающей выборке', rmse_score(cbr, X_train_c, y_train_c))\n",
    "print()\n"
   ]
  },
  {
   "cell_type": "code",
   "execution_count": 97,
   "metadata": {},
   "outputs": [
    {
     "name": "stdout",
     "output_type": "stream",
     "text": [
      "RMSE на валидационной выборке 1712.6685004930973\n",
      "\n",
      "CPU times: user 403 ms, sys: 8.17 ms, total: 411 ms\n",
      "Wall time: 420 ms\n"
     ]
    }
   ],
   "source": [
    "%%time\n",
    "print('RMSE на валидационной выборке', rmse_score(cbr, X_valid_c, y_valid_c))\n",
    "print()"
   ]
  },
  {
   "cell_type": "markdown",
   "metadata": {},
   "source": [
    "Попробуем еще понастраивать параметры."
   ]
  },
  {
   "cell_type": "code",
   "execution_count": 98,
   "metadata": {},
   "outputs": [],
   "source": [
    "cbr_1 = CatBoostRegressor(depth=7, \n",
    "                        learning_rate=0.1, \n",
    "                        loss_function='RMSE', \n",
    "                        verbose=50, \n",
    "                        l2_leaf_reg=10,\n",
    "                        random_state=RND_ST, \n",
    "                        iterations=400)"
   ]
  },
  {
   "cell_type": "code",
   "execution_count": null,
   "metadata": {},
   "outputs": [
    {
     "name": "stdout",
     "output_type": "stream",
     "text": [
      "0:\tlearn: 4321.6479287\ttotal: 208ms\tremaining: 1m 22s\n",
      "50:\tlearn: 1906.7717043\ttotal: 8.24s\tremaining: 56.4s\n",
      "100:\tlearn: 1819.0136781\ttotal: 15.2s\tremaining: 44.9s\n",
      "150:\tlearn: 1778.7581670\ttotal: 22.5s\tremaining: 37s\n",
      "200:\tlearn: 1751.3808152\ttotal: 29.7s\tremaining: 29.4s\n"
     ]
    }
   ],
   "source": [
    "%%time\n",
    "cbr_1.fit(train_pool)\n"
   ]
  },
  {
   "cell_type": "code",
   "execution_count": null,
   "metadata": {},
   "outputs": [],
   "source": [
    "%%time\n",
    "print('RMSE на обучающей выборке', rmse_score(cbr_1, X_train_c, y_train_c))\n",
    "print()\n"
   ]
  },
  {
   "cell_type": "code",
   "execution_count": null,
   "metadata": {},
   "outputs": [],
   "source": [
    "%%time\n",
    "print('RMSE на валидационной выборке', rmse_score(cbr_1, X_valid_c, y_valid_c))\n",
    "print()\n"
   ]
  },
  {
   "cell_type": "code",
   "execution_count": null,
   "metadata": {},
   "outputs": [],
   "source": [
    "results.loc[3,'training_time'] = 61\n",
    "results.loc[3,'prediction_valid_time'] = 244\n",
    "results.loc[3,'rmse_valid'] = 1699.58"
   ]
  },
  {
   "cell_type": "code",
   "execution_count": null,
   "metadata": {},
   "outputs": [],
   "source": [
    "results"
   ]
  },
  {
   "cell_type": "markdown",
   "metadata": {},
   "source": [
    "# **Итог CatBoost**\n",
    "\n",
    "Обучение - 62 сек\n",
    "\n",
    "Предсказание на валидации - 226 мсек\n",
    "\n",
    "RMSE на валидации - 1746.49\t\n",
    "\n",
    "Заметно переобучение."
   ]
  },
  {
   "cell_type": "markdown",
   "metadata": {},
   "source": [
    "**Вывод**\n",
    "\n",
    "На данном шаге было проведено тестирование пяти моделей:\n",
    "\n",
    "Дамми\n",
    "\n",
    "Градиентный бустинг sklearn\n",
    "\n",
    "xgboost\n",
    "\n",
    "LightGBM\n",
    "\n",
    "CatBoost\n",
    "\n",
    "Быстрее всех учится и предсказывает xgboost, занимая при этом второе место по качеству предсказаний. \n",
    "\n",
    "Наилучшую метрику rmse на валидационной выборке показал CatBoost, однако время его предсказаний - второе из всех моделей.\n",
    "\n",
    "В целом, сейчас уже можно выбросить из конкурса GradientBoosting, однако, произведем замеры rmse всех моделей на тестовой выборке."
   ]
  },
  {
   "cell_type": "markdown",
   "metadata": {},
   "source": [
    "## Анализ моделей"
   ]
  },
  {
   "cell_type": "markdown",
   "metadata": {},
   "source": [
    "На данном этапе определим метрику rmse лучшей модели CatBoost на оставшейся тестовой выборке."
   ]
  },
  {
   "cell_type": "code",
   "execution_count": null,
   "metadata": {},
   "outputs": [],
   "source": [
    "%%time\n",
    "print('RMSE CatBoost на тестовой выборке', rmse_score(cbr_1, X_test_c, y_test_c))\n",
    "print()"
   ]
  },
  {
   "cell_type": "code",
   "execution_count": null,
   "metadata": {},
   "outputs": [],
   "source": [
    "results.loc[0,'prediction_test_time'] = ' '\n",
    "results.loc[0,'rmse_test'] = ' '\n",
    "\n",
    "results.loc[1,'prediction_test_time'] = ' '\n",
    "results.loc[1,'rmse_test'] = ' '\n",
    "\n",
    "results.loc[2,'prediction_test_time'] = ' '\n",
    "results.loc[2,'rmse_test'] = ' '\n",
    "\n",
    "results.loc[3,'prediction_test_time'] = 254\n",
    "results.loc[3,'rmse_test'] = 1718.84\n"
   ]
  },
  {
   "cell_type": "code",
   "execution_count": null,
   "metadata": {},
   "outputs": [],
   "source": [
    "results"
   ]
  },
  {
   "cell_type": "markdown",
   "metadata": {},
   "source": [
    "**Вывод.**\n",
    "\n",
    "Все обученные модели смогли улучшить RMSE базовой модели.\n",
    "\n",
    "Лучший результат RMSE показала модель CatBoost 1768.66. Худший - модель GradBoost 1922.72.\n",
    "\n",
    "Лучший результат по времени показала модель xgboost\t."
   ]
  },
  {
   "cell_type": "markdown",
   "metadata": {},
   "source": [
    "## Чек-лист проверки"
   ]
  },
  {
   "cell_type": "markdown",
   "metadata": {},
   "source": [
    "Поставьте 'x' в выполненных пунктах. Далее нажмите Shift+Enter."
   ]
  },
  {
   "cell_type": "markdown",
   "metadata": {},
   "source": [
    "- [x]  Jupyter Notebook открыт\n",
    "- [x]  Весь код выполняется без ошибок\n",
    "- [x]  Ячейки с кодом расположены в порядке исполнения\n",
    "- [x]  Выполнена загрузка и подготовка данных\n",
    "- [x]  Выполнено обучение моделей\n",
    "- [x]  Есть анализ скорости работы и качества моделей"
   ]
  }
 ],
 "metadata": {
  "ExecuteTimeLog": [
   {
    "duration": 1725,
    "start_time": "2022-12-03T17:50:24.406Z"
   },
   {
    "duration": 7,
    "start_time": "2022-12-03T17:50:30.466Z"
   },
   {
    "duration": 2,
    "start_time": "2022-12-03T17:50:45.363Z"
   },
   {
    "duration": 1493,
    "start_time": "2022-12-03T17:54:21.071Z"
   },
   {
    "duration": 19,
    "start_time": "2022-12-03T17:54:48.445Z"
   },
   {
    "duration": 198,
    "start_time": "2022-12-03T17:55:48.977Z"
   },
   {
    "duration": 159,
    "start_time": "2022-12-03T18:00:26.047Z"
   },
   {
    "duration": 97,
    "start_time": "2022-12-03T18:00:51.201Z"
   },
   {
    "duration": 121,
    "start_time": "2022-12-03T18:01:26.959Z"
   },
   {
    "duration": 37,
    "start_time": "2022-12-03T18:01:43.433Z"
   },
   {
    "duration": 785,
    "start_time": "2022-12-03T18:02:38.275Z"
   },
   {
    "duration": 17,
    "start_time": "2022-12-03T18:02:46.158Z"
   },
   {
    "duration": 150,
    "start_time": "2022-12-03T18:02:52.259Z"
   },
   {
    "duration": 89,
    "start_time": "2022-12-03T18:03:00.932Z"
   },
   {
    "duration": 19,
    "start_time": "2022-12-03T18:04:41.027Z"
   },
   {
    "duration": 14,
    "start_time": "2022-12-03T18:05:53.749Z"
   },
   {
    "duration": 32,
    "start_time": "2022-12-03T18:08:02.640Z"
   },
   {
    "duration": 8,
    "start_time": "2022-12-03T18:08:24.362Z"
   },
   {
    "duration": 17,
    "start_time": "2022-12-03T18:08:54.453Z"
   },
   {
    "duration": 3,
    "start_time": "2022-12-03T18:09:05.976Z"
   },
   {
    "duration": 17,
    "start_time": "2022-12-03T18:10:09.009Z"
   },
   {
    "duration": 500,
    "start_time": "2022-12-03T18:10:34.551Z"
   },
   {
    "duration": 3,
    "start_time": "2022-12-03T18:11:21.594Z"
   },
   {
    "duration": 6,
    "start_time": "2022-12-03T18:11:51.122Z"
   },
   {
    "duration": 783,
    "start_time": "2022-12-03T18:11:53.883Z"
   },
   {
    "duration": 79,
    "start_time": "2022-12-03T18:11:58.452Z"
   },
   {
    "duration": 455,
    "start_time": "2022-12-03T19:18:16.499Z"
   },
   {
    "duration": 16,
    "start_time": "2022-12-03T19:53:27.954Z"
   },
   {
    "duration": 59,
    "start_time": "2022-12-03T19:53:57.255Z"
   },
   {
    "duration": 14,
    "start_time": "2022-12-03T20:44:51.068Z"
   },
   {
    "duration": 66,
    "start_time": "2022-12-03T20:45:08.519Z"
   },
   {
    "duration": 46,
    "start_time": "2022-12-03T20:45:12.053Z"
   },
   {
    "duration": 305,
    "start_time": "2022-12-03T21:57:20.883Z"
   },
   {
    "duration": 3,
    "start_time": "2022-12-03T22:25:36.268Z"
   },
   {
    "duration": 0,
    "start_time": "2022-12-04T09:49:48.415Z"
   },
   {
    "duration": 0,
    "start_time": "2022-12-04T09:49:48.416Z"
   },
   {
    "duration": 0,
    "start_time": "2022-12-04T09:49:48.417Z"
   },
   {
    "duration": 0,
    "start_time": "2022-12-04T09:49:48.418Z"
   },
   {
    "duration": 0,
    "start_time": "2022-12-04T09:49:48.419Z"
   },
   {
    "duration": 0,
    "start_time": "2022-12-04T09:49:48.420Z"
   },
   {
    "duration": 0,
    "start_time": "2022-12-04T09:49:48.421Z"
   },
   {
    "duration": 0,
    "start_time": "2022-12-04T09:49:48.422Z"
   },
   {
    "duration": 0,
    "start_time": "2022-12-04T09:49:48.423Z"
   },
   {
    "duration": 1618,
    "start_time": "2022-12-04T09:50:25.421Z"
   },
   {
    "duration": 3149,
    "start_time": "2022-12-04T09:50:27.041Z"
   },
   {
    "duration": 11,
    "start_time": "2022-12-04T09:50:30.192Z"
   },
   {
    "duration": 14,
    "start_time": "2022-12-04T09:50:30.204Z"
   },
   {
    "duration": 23,
    "start_time": "2022-12-04T09:50:30.220Z"
   },
   {
    "duration": 124,
    "start_time": "2022-12-04T09:50:30.244Z"
   },
   {
    "duration": 104,
    "start_time": "2022-12-04T09:50:30.369Z"
   },
   {
    "duration": 462,
    "start_time": "2022-12-04T09:50:30.475Z"
   },
   {
    "duration": 1250,
    "start_time": "2022-12-04T09:50:42.991Z"
   },
   {
    "duration": 4,
    "start_time": "2022-12-04T09:54:51.035Z"
   },
   {
    "duration": 13,
    "start_time": "2022-12-04T09:54:54.953Z"
   },
   {
    "duration": 12,
    "start_time": "2022-12-04T09:55:12.900Z"
   },
   {
    "duration": 786,
    "start_time": "2022-12-04T09:55:12.914Z"
   },
   {
    "duration": 10,
    "start_time": "2022-12-04T09:55:13.701Z"
   },
   {
    "duration": 6,
    "start_time": "2022-12-04T09:55:13.714Z"
   },
   {
    "duration": 9,
    "start_time": "2022-12-04T09:55:13.722Z"
   },
   {
    "duration": 15,
    "start_time": "2022-12-04T09:55:13.732Z"
   },
   {
    "duration": 143,
    "start_time": "2022-12-04T09:55:13.748Z"
   },
   {
    "duration": 103,
    "start_time": "2022-12-04T09:55:13.892Z"
   },
   {
    "duration": 493,
    "start_time": "2022-12-04T09:55:13.997Z"
   },
   {
    "duration": 1398,
    "start_time": "2022-12-04T09:55:19.732Z"
   },
   {
    "duration": 5,
    "start_time": "2022-12-04T09:56:17.317Z"
   },
   {
    "duration": 737,
    "start_time": "2022-12-04T09:56:17.324Z"
   },
   {
    "duration": 10,
    "start_time": "2022-12-04T09:56:18.063Z"
   },
   {
    "duration": 40,
    "start_time": "2022-12-04T09:56:18.077Z"
   },
   {
    "duration": 15,
    "start_time": "2022-12-04T09:56:18.119Z"
   },
   {
    "duration": 31,
    "start_time": "2022-12-04T09:56:18.136Z"
   },
   {
    "duration": 166,
    "start_time": "2022-12-04T09:56:18.168Z"
   },
   {
    "duration": 83,
    "start_time": "2022-12-04T09:56:18.336Z"
   },
   {
    "duration": 435,
    "start_time": "2022-12-04T09:56:18.420Z"
   },
   {
    "duration": 1313,
    "start_time": "2022-12-04T09:56:18.857Z"
   },
   {
    "duration": 1238,
    "start_time": "2022-12-04T09:56:49.150Z"
   },
   {
    "duration": 1247,
    "start_time": "2022-12-04T09:56:59.204Z"
   },
   {
    "duration": 94,
    "start_time": "2022-12-04T09:57:15.675Z"
   },
   {
    "duration": 37,
    "start_time": "2022-12-04T10:01:00.557Z"
   },
   {
    "duration": 32,
    "start_time": "2022-12-04T10:01:24.271Z"
   },
   {
    "duration": 84,
    "start_time": "2022-12-04T10:01:53.590Z"
   },
   {
    "duration": 9,
    "start_time": "2022-12-04T10:03:38.184Z"
   },
   {
    "duration": 18,
    "start_time": "2022-12-04T10:04:00.062Z"
   },
   {
    "duration": 17,
    "start_time": "2022-12-04T10:04:43.176Z"
   },
   {
    "duration": 18,
    "start_time": "2022-12-04T10:05:31.330Z"
   },
   {
    "duration": 173,
    "start_time": "2022-12-04T10:06:53.604Z"
   },
   {
    "duration": 1452,
    "start_time": "2022-12-04T10:09:27.453Z"
   },
   {
    "duration": 1179,
    "start_time": "2022-12-04T10:09:58.525Z"
   },
   {
    "duration": 1205,
    "start_time": "2022-12-04T10:10:17.868Z"
   },
   {
    "duration": 138,
    "start_time": "2022-12-04T10:10:49.212Z"
   },
   {
    "duration": 529,
    "start_time": "2022-12-04T10:12:33.838Z"
   },
   {
    "duration": 34,
    "start_time": "2022-12-04T10:13:40.681Z"
   },
   {
    "duration": 2,
    "start_time": "2022-12-04T10:13:56.782Z"
   },
   {
    "duration": 33,
    "start_time": "2022-12-04T10:14:01.815Z"
   },
   {
    "duration": 77,
    "start_time": "2022-12-04T10:14:36.798Z"
   },
   {
    "duration": 12,
    "start_time": "2022-12-04T10:25:15.333Z"
   },
   {
    "duration": 12,
    "start_time": "2022-12-04T10:25:30.817Z"
   },
   {
    "duration": 13,
    "start_time": "2022-12-04T10:26:58.845Z"
   },
   {
    "duration": 14,
    "start_time": "2022-12-04T10:27:29.520Z"
   },
   {
    "duration": 11,
    "start_time": "2022-12-04T10:28:14.905Z"
   },
   {
    "duration": 13,
    "start_time": "2022-12-04T10:28:47.097Z"
   },
   {
    "duration": 12,
    "start_time": "2022-12-04T10:30:38.547Z"
   },
   {
    "duration": 92,
    "start_time": "2022-12-04T10:32:25.565Z"
   },
   {
    "duration": 26,
    "start_time": "2022-12-04T10:35:44.334Z"
   },
   {
    "duration": 339,
    "start_time": "2022-12-04T10:38:17.775Z"
   },
   {
    "duration": 179,
    "start_time": "2022-12-04T10:49:02.918Z"
   },
   {
    "duration": 297,
    "start_time": "2022-12-04T10:49:35.222Z"
   },
   {
    "duration": 6,
    "start_time": "2022-12-04T10:49:59.604Z"
   },
   {
    "duration": 800,
    "start_time": "2022-12-04T10:49:59.612Z"
   },
   {
    "duration": 10,
    "start_time": "2022-12-04T10:50:00.414Z"
   },
   {
    "duration": 27,
    "start_time": "2022-12-04T10:50:00.425Z"
   },
   {
    "duration": 46,
    "start_time": "2022-12-04T10:50:00.454Z"
   },
   {
    "duration": 40,
    "start_time": "2022-12-04T10:50:00.502Z"
   },
   {
    "duration": 190,
    "start_time": "2022-12-04T10:50:00.544Z"
   },
   {
    "duration": 109,
    "start_time": "2022-12-04T10:50:00.735Z"
   },
   {
    "duration": 475,
    "start_time": "2022-12-04T10:50:00.845Z"
   },
   {
    "duration": 208,
    "start_time": "2022-12-04T10:50:01.322Z"
   },
   {
    "duration": 99,
    "start_time": "2022-12-04T10:50:01.533Z"
   },
   {
    "duration": 197,
    "start_time": "2022-12-04T10:50:01.634Z"
   },
   {
    "duration": 410,
    "start_time": "2022-12-04T10:50:01.833Z"
   },
   {
    "duration": 836,
    "start_time": "2022-12-04T10:50:02.244Z"
   },
   {
    "duration": 44,
    "start_time": "2022-12-04T10:50:03.081Z"
   },
   {
    "duration": 14,
    "start_time": "2022-12-04T10:50:03.127Z"
   },
   {
    "duration": 41,
    "start_time": "2022-12-04T10:50:03.143Z"
   },
   {
    "duration": 88,
    "start_time": "2022-12-04T10:50:03.185Z"
   },
   {
    "duration": 80,
    "start_time": "2022-12-04T10:50:03.274Z"
   },
   {
    "duration": 38,
    "start_time": "2022-12-04T10:50:03.355Z"
   },
   {
    "duration": 174,
    "start_time": "2022-12-04T10:50:03.395Z"
   },
   {
    "duration": 790,
    "start_time": "2022-12-04T10:50:30.773Z"
   },
   {
    "duration": 11,
    "start_time": "2022-12-04T10:50:32.823Z"
   },
   {
    "duration": 3,
    "start_time": "2022-12-04T10:50:34.398Z"
   },
   {
    "duration": 3,
    "start_time": "2022-12-04T10:50:37.349Z"
   },
   {
    "duration": 21,
    "start_time": "2022-12-04T10:50:38.944Z"
   },
   {
    "duration": 156,
    "start_time": "2022-12-04T10:50:39.974Z"
   },
   {
    "duration": 84,
    "start_time": "2022-12-04T10:50:41.926Z"
   },
   {
    "duration": 522,
    "start_time": "2022-12-04T10:50:42.796Z"
   },
   {
    "duration": 191,
    "start_time": "2022-12-04T10:50:45.846Z"
   },
   {
    "duration": 125,
    "start_time": "2022-12-04T10:50:47.655Z"
   },
   {
    "duration": 161,
    "start_time": "2022-12-04T10:50:50.791Z"
   },
   {
    "duration": 418,
    "start_time": "2022-12-04T10:50:52.846Z"
   },
   {
    "duration": 813,
    "start_time": "2022-12-04T10:50:58.640Z"
   },
   {
    "duration": 57,
    "start_time": "2022-12-04T10:51:06.736Z"
   },
   {
    "duration": 3,
    "start_time": "2022-12-04T10:51:09.289Z"
   },
   {
    "duration": 50,
    "start_time": "2022-12-04T10:51:11.126Z"
   },
   {
    "duration": 96,
    "start_time": "2022-12-04T10:51:15.194Z"
   },
   {
    "duration": 100,
    "start_time": "2022-12-04T10:51:20.032Z"
   },
   {
    "duration": 6,
    "start_time": "2022-12-04T11:02:08.748Z"
   },
   {
    "duration": 171,
    "start_time": "2022-12-04T11:02:45.549Z"
   },
   {
    "duration": 86,
    "start_time": "2022-12-04T11:06:46.176Z"
   },
   {
    "duration": 36,
    "start_time": "2022-12-04T11:08:05.111Z"
   },
   {
    "duration": 5,
    "start_time": "2022-12-04T11:08:54.509Z"
   },
   {
    "duration": 11,
    "start_time": "2022-12-04T11:13:42.749Z"
   },
   {
    "duration": 8,
    "start_time": "2022-12-04T11:13:56.381Z"
   },
   {
    "duration": 7,
    "start_time": "2022-12-04T11:16:22.828Z"
   },
   {
    "duration": 13,
    "start_time": "2022-12-04T11:22:56.493Z"
   },
   {
    "duration": 611,
    "start_time": "2022-12-04T11:24:29.347Z"
   },
   {
    "duration": 12,
    "start_time": "2022-12-04T11:27:34.603Z"
   },
   {
    "duration": 358,
    "start_time": "2022-12-04T11:27:39.100Z"
   },
   {
    "duration": 26,
    "start_time": "2022-12-04T11:38:42.579Z"
   },
   {
    "duration": 101,
    "start_time": "2022-12-04T11:43:53.918Z"
   },
   {
    "duration": 3,
    "start_time": "2022-12-04T12:13:29.404Z"
   },
   {
    "duration": 3,
    "start_time": "2022-12-04T12:17:20.842Z"
   },
   {
    "duration": 14,
    "start_time": "2022-12-04T12:18:19.570Z"
   },
   {
    "duration": 12,
    "start_time": "2022-12-04T12:18:28.795Z"
   },
   {
    "duration": 65,
    "start_time": "2022-12-04T12:19:12.770Z"
   },
   {
    "duration": 13,
    "start_time": "2022-12-04T12:19:43.658Z"
   },
   {
    "duration": 10,
    "start_time": "2022-12-04T12:20:13.627Z"
   },
   {
    "duration": 55,
    "start_time": "2022-12-04T12:20:59.363Z"
   },
   {
    "duration": 11,
    "start_time": "2022-12-04T12:22:31.533Z"
   },
   {
    "duration": 51,
    "start_time": "2022-12-04T12:23:35.246Z"
   },
   {
    "duration": 3,
    "start_time": "2022-12-04T12:23:37.413Z"
   },
   {
    "duration": 86,
    "start_time": "2022-12-04T12:25:34.966Z"
   },
   {
    "duration": 7,
    "start_time": "2022-12-04T12:26:34.648Z"
   },
   {
    "duration": 8,
    "start_time": "2022-12-04T12:26:44.004Z"
   },
   {
    "duration": 780,
    "start_time": "2022-12-04T12:26:44.380Z"
   },
   {
    "duration": 10,
    "start_time": "2022-12-04T12:26:45.162Z"
   },
   {
    "duration": 10,
    "start_time": "2022-12-04T12:26:45.173Z"
   },
   {
    "duration": 8,
    "start_time": "2022-12-04T12:26:45.185Z"
   },
   {
    "duration": 32,
    "start_time": "2022-12-04T12:26:45.195Z"
   },
   {
    "duration": 130,
    "start_time": "2022-12-04T12:26:45.229Z"
   },
   {
    "duration": 85,
    "start_time": "2022-12-04T12:26:45.362Z"
   },
   {
    "duration": 435,
    "start_time": "2022-12-04T12:26:45.449Z"
   },
   {
    "duration": 179,
    "start_time": "2022-12-04T12:26:45.885Z"
   },
   {
    "duration": 86,
    "start_time": "2022-12-04T12:26:46.066Z"
   },
   {
    "duration": 156,
    "start_time": "2022-12-04T12:26:46.153Z"
   },
   {
    "duration": 394,
    "start_time": "2022-12-04T12:26:46.311Z"
   },
   {
    "duration": 748,
    "start_time": "2022-12-04T12:26:46.707Z"
   },
   {
    "duration": 58,
    "start_time": "2022-12-04T12:26:47.457Z"
   },
   {
    "duration": 2,
    "start_time": "2022-12-04T12:26:47.517Z"
   },
   {
    "duration": 63,
    "start_time": "2022-12-04T12:26:47.521Z"
   },
   {
    "duration": 115,
    "start_time": "2022-12-04T12:26:47.586Z"
   },
   {
    "duration": 89,
    "start_time": "2022-12-04T12:26:47.703Z"
   },
   {
    "duration": 23,
    "start_time": "2022-12-04T12:26:47.794Z"
   },
   {
    "duration": 179,
    "start_time": "2022-12-04T12:26:47.819Z"
   },
   {
    "duration": 7,
    "start_time": "2022-12-04T12:26:48.000Z"
   },
   {
    "duration": 169,
    "start_time": "2022-12-04T12:26:48.008Z"
   },
   {
    "duration": 29,
    "start_time": "2022-12-04T12:26:48.179Z"
   },
   {
    "duration": 7,
    "start_time": "2022-12-04T12:26:48.209Z"
   },
   {
    "duration": 42,
    "start_time": "2022-12-04T12:26:48.217Z"
   },
   {
    "duration": 73,
    "start_time": "2022-12-04T12:26:48.261Z"
   },
   {
    "duration": 0,
    "start_time": "2022-12-04T12:26:48.336Z"
   },
   {
    "duration": 0,
    "start_time": "2022-12-04T12:26:48.337Z"
   },
   {
    "duration": 0,
    "start_time": "2022-12-04T12:26:48.338Z"
   },
   {
    "duration": 0,
    "start_time": "2022-12-04T12:26:48.339Z"
   },
   {
    "duration": 1,
    "start_time": "2022-12-04T12:26:48.340Z"
   },
   {
    "duration": 1,
    "start_time": "2022-12-04T12:26:48.341Z"
   },
   {
    "duration": 0,
    "start_time": "2022-12-04T12:26:48.342Z"
   },
   {
    "duration": 0,
    "start_time": "2022-12-04T12:26:48.343Z"
   },
   {
    "duration": 0,
    "start_time": "2022-12-04T12:26:48.344Z"
   },
   {
    "duration": 0,
    "start_time": "2022-12-04T12:26:48.345Z"
   },
   {
    "duration": 7,
    "start_time": "2022-12-04T12:27:24.156Z"
   },
   {
    "duration": 780,
    "start_time": "2022-12-04T12:27:24.167Z"
   },
   {
    "duration": 11,
    "start_time": "2022-12-04T12:27:24.948Z"
   },
   {
    "duration": 24,
    "start_time": "2022-12-04T12:27:24.960Z"
   },
   {
    "duration": 24,
    "start_time": "2022-12-04T12:27:24.986Z"
   },
   {
    "duration": 28,
    "start_time": "2022-12-04T12:27:25.014Z"
   },
   {
    "duration": 170,
    "start_time": "2022-12-04T12:27:25.044Z"
   },
   {
    "duration": 86,
    "start_time": "2022-12-04T12:27:25.216Z"
   },
   {
    "duration": 439,
    "start_time": "2022-12-04T12:27:25.303Z"
   },
   {
    "duration": 191,
    "start_time": "2022-12-04T12:27:25.743Z"
   },
   {
    "duration": 98,
    "start_time": "2022-12-04T12:27:25.936Z"
   },
   {
    "duration": 168,
    "start_time": "2022-12-04T12:27:26.036Z"
   },
   {
    "duration": 373,
    "start_time": "2022-12-04T12:27:26.206Z"
   },
   {
    "duration": 737,
    "start_time": "2022-12-04T12:27:26.581Z"
   },
   {
    "duration": 55,
    "start_time": "2022-12-04T12:27:27.322Z"
   },
   {
    "duration": 3,
    "start_time": "2022-12-04T12:27:27.379Z"
   },
   {
    "duration": 37,
    "start_time": "2022-12-04T12:27:27.384Z"
   },
   {
    "duration": 91,
    "start_time": "2022-12-04T12:27:27.422Z"
   },
   {
    "duration": 90,
    "start_time": "2022-12-04T12:27:27.515Z"
   },
   {
    "duration": 28,
    "start_time": "2022-12-04T12:27:27.606Z"
   },
   {
    "duration": 184,
    "start_time": "2022-12-04T12:27:27.636Z"
   },
   {
    "duration": 6,
    "start_time": "2022-12-04T12:27:27.822Z"
   },
   {
    "duration": 174,
    "start_time": "2022-12-04T12:27:27.830Z"
   },
   {
    "duration": 30,
    "start_time": "2022-12-04T12:27:28.005Z"
   },
   {
    "duration": 4,
    "start_time": "2022-12-04T12:27:28.037Z"
   },
   {
    "duration": 7,
    "start_time": "2022-12-04T12:27:28.043Z"
   },
   {
    "duration": 34,
    "start_time": "2022-12-04T12:27:28.051Z"
   },
   {
    "duration": 14,
    "start_time": "2022-12-04T12:27:28.087Z"
   },
   {
    "duration": 349,
    "start_time": "2022-12-04T12:27:28.103Z"
   },
   {
    "duration": 72,
    "start_time": "2022-12-04T12:27:28.453Z"
   },
   {
    "duration": 2,
    "start_time": "2022-12-04T12:27:28.526Z"
   },
   {
    "duration": 75,
    "start_time": "2022-12-04T12:27:28.530Z"
   },
   {
    "duration": 0,
    "start_time": "2022-12-04T12:27:28.607Z"
   },
   {
    "duration": 0,
    "start_time": "2022-12-04T12:27:28.608Z"
   },
   {
    "duration": 0,
    "start_time": "2022-12-04T12:27:28.610Z"
   },
   {
    "duration": 1,
    "start_time": "2022-12-04T12:27:28.611Z"
   },
   {
    "duration": 6,
    "start_time": "2022-12-04T12:27:54.439Z"
   },
   {
    "duration": 788,
    "start_time": "2022-12-04T12:27:54.448Z"
   },
   {
    "duration": 108,
    "start_time": "2022-12-04T12:27:55.238Z"
   },
   {
    "duration": 12,
    "start_time": "2022-12-04T12:27:55.347Z"
   },
   {
    "duration": 9,
    "start_time": "2022-12-04T12:27:55.361Z"
   },
   {
    "duration": 33,
    "start_time": "2022-12-04T12:27:55.372Z"
   },
   {
    "duration": 137,
    "start_time": "2022-12-04T12:27:55.406Z"
   },
   {
    "duration": 100,
    "start_time": "2022-12-04T12:27:55.545Z"
   },
   {
    "duration": 464,
    "start_time": "2022-12-04T12:27:55.647Z"
   },
   {
    "duration": 195,
    "start_time": "2022-12-04T12:27:56.113Z"
   },
   {
    "duration": 98,
    "start_time": "2022-12-04T12:27:56.310Z"
   },
   {
    "duration": 161,
    "start_time": "2022-12-04T12:27:56.410Z"
   },
   {
    "duration": 411,
    "start_time": "2022-12-04T12:27:56.577Z"
   },
   {
    "duration": 786,
    "start_time": "2022-12-04T12:27:56.993Z"
   },
   {
    "duration": 41,
    "start_time": "2022-12-04T12:27:57.782Z"
   },
   {
    "duration": 3,
    "start_time": "2022-12-04T12:27:57.824Z"
   },
   {
    "duration": 55,
    "start_time": "2022-12-04T12:27:57.828Z"
   },
   {
    "duration": 77,
    "start_time": "2022-12-04T12:27:57.886Z"
   },
   {
    "duration": 98,
    "start_time": "2022-12-04T12:27:57.965Z"
   },
   {
    "duration": 30,
    "start_time": "2022-12-04T12:27:58.077Z"
   },
   {
    "duration": 181,
    "start_time": "2022-12-04T12:27:58.109Z"
   },
   {
    "duration": 7,
    "start_time": "2022-12-04T12:27:58.292Z"
   },
   {
    "duration": 169,
    "start_time": "2022-12-04T12:27:58.301Z"
   },
   {
    "duration": 36,
    "start_time": "2022-12-04T12:27:58.472Z"
   },
   {
    "duration": 7,
    "start_time": "2022-12-04T12:27:58.510Z"
   },
   {
    "duration": 5,
    "start_time": "2022-12-04T12:27:58.519Z"
   },
   {
    "duration": 7,
    "start_time": "2022-12-04T12:27:58.525Z"
   },
   {
    "duration": 52,
    "start_time": "2022-12-04T12:27:58.534Z"
   },
   {
    "duration": 370,
    "start_time": "2022-12-04T12:27:58.593Z"
   },
   {
    "duration": 78,
    "start_time": "2022-12-04T12:27:58.965Z"
   },
   {
    "duration": 3,
    "start_time": "2022-12-04T12:27:59.045Z"
   },
   {
    "duration": 11,
    "start_time": "2022-12-04T12:27:59.050Z"
   },
   {
    "duration": 25,
    "start_time": "2022-12-04T12:27:59.062Z"
   },
   {
    "duration": 10,
    "start_time": "2022-12-04T12:27:59.091Z"
   },
   {
    "duration": 47,
    "start_time": "2022-12-04T12:27:59.102Z"
   },
   {
    "duration": 3,
    "start_time": "2022-12-04T12:27:59.151Z"
   },
   {
    "duration": 6,
    "start_time": "2022-12-04T12:28:06.690Z"
   },
   {
    "duration": 3,
    "start_time": "2022-12-04T12:34:52.068Z"
   },
   {
    "duration": 7,
    "start_time": "2022-12-04T12:36:21.504Z"
   },
   {
    "duration": 781,
    "start_time": "2022-12-04T12:36:21.513Z"
   },
   {
    "duration": 11,
    "start_time": "2022-12-04T12:36:22.296Z"
   },
   {
    "duration": 10,
    "start_time": "2022-12-04T12:36:22.309Z"
   },
   {
    "duration": 6,
    "start_time": "2022-12-04T12:36:22.321Z"
   },
   {
    "duration": 20,
    "start_time": "2022-12-04T12:36:22.329Z"
   },
   {
    "duration": 161,
    "start_time": "2022-12-04T12:36:22.351Z"
   },
   {
    "duration": 94,
    "start_time": "2022-12-04T12:36:22.514Z"
   },
   {
    "duration": 511,
    "start_time": "2022-12-04T12:36:22.611Z"
   },
   {
    "duration": 182,
    "start_time": "2022-12-04T12:36:23.124Z"
   },
   {
    "duration": 99,
    "start_time": "2022-12-04T12:36:23.307Z"
   },
   {
    "duration": 156,
    "start_time": "2022-12-04T12:36:23.408Z"
   },
   {
    "duration": 383,
    "start_time": "2022-12-04T12:36:23.566Z"
   },
   {
    "duration": 818,
    "start_time": "2022-12-04T12:36:23.952Z"
   },
   {
    "duration": 52,
    "start_time": "2022-12-04T12:36:24.771Z"
   },
   {
    "duration": 2,
    "start_time": "2022-12-04T12:36:24.824Z"
   },
   {
    "duration": 50,
    "start_time": "2022-12-04T12:36:24.828Z"
   },
   {
    "duration": 84,
    "start_time": "2022-12-04T12:36:24.880Z"
   },
   {
    "duration": 112,
    "start_time": "2022-12-04T12:36:24.966Z"
   },
   {
    "duration": 35,
    "start_time": "2022-12-04T12:36:25.080Z"
   },
   {
    "duration": 175,
    "start_time": "2022-12-04T12:36:25.117Z"
   },
   {
    "duration": 7,
    "start_time": "2022-12-04T12:36:25.294Z"
   },
   {
    "duration": 176,
    "start_time": "2022-12-04T12:36:25.303Z"
   },
   {
    "duration": 31,
    "start_time": "2022-12-04T12:36:25.483Z"
   },
   {
    "duration": 8,
    "start_time": "2022-12-04T12:36:25.516Z"
   },
   {
    "duration": 5,
    "start_time": "2022-12-04T12:36:25.526Z"
   },
   {
    "duration": 11,
    "start_time": "2022-12-04T12:36:25.533Z"
   },
   {
    "duration": 44,
    "start_time": "2022-12-04T12:36:25.545Z"
   },
   {
    "duration": 363,
    "start_time": "2022-12-04T12:36:25.591Z"
   },
   {
    "duration": 79,
    "start_time": "2022-12-04T12:36:25.956Z"
   },
   {
    "duration": 3,
    "start_time": "2022-12-04T12:36:26.037Z"
   },
   {
    "duration": 4,
    "start_time": "2022-12-04T12:36:26.042Z"
   },
   {
    "duration": 30,
    "start_time": "2022-12-04T12:36:26.048Z"
   },
   {
    "duration": 13,
    "start_time": "2022-12-04T12:36:26.080Z"
   },
   {
    "duration": 61,
    "start_time": "2022-12-04T12:36:26.094Z"
   },
   {
    "duration": 4,
    "start_time": "2022-12-04T12:36:26.157Z"
   },
   {
    "duration": 7,
    "start_time": "2022-12-04T12:36:26.178Z"
   },
   {
    "duration": 75,
    "start_time": "2022-12-04T12:36:26.187Z"
   },
   {
    "duration": 0,
    "start_time": "2022-12-04T12:36:26.264Z"
   },
   {
    "duration": 7,
    "start_time": "2022-12-04T12:36:45.382Z"
   },
   {
    "duration": 749,
    "start_time": "2022-12-04T12:36:45.391Z"
   },
   {
    "duration": 10,
    "start_time": "2022-12-04T12:36:46.142Z"
   },
   {
    "duration": 9,
    "start_time": "2022-12-04T12:36:46.153Z"
   },
   {
    "duration": 5,
    "start_time": "2022-12-04T12:36:46.163Z"
   },
   {
    "duration": 18,
    "start_time": "2022-12-04T12:36:46.169Z"
   },
   {
    "duration": 133,
    "start_time": "2022-12-04T12:36:46.189Z"
   },
   {
    "duration": 84,
    "start_time": "2022-12-04T12:36:46.324Z"
   },
   {
    "duration": 462,
    "start_time": "2022-12-04T12:36:46.410Z"
   },
   {
    "duration": 180,
    "start_time": "2022-12-04T12:36:46.879Z"
   },
   {
    "duration": 89,
    "start_time": "2022-12-04T12:36:47.061Z"
   },
   {
    "duration": 189,
    "start_time": "2022-12-04T12:36:47.151Z"
   },
   {
    "duration": 417,
    "start_time": "2022-12-04T12:36:47.341Z"
   },
   {
    "duration": 864,
    "start_time": "2022-12-04T12:36:47.759Z"
   },
   {
    "duration": 64,
    "start_time": "2022-12-04T12:36:48.625Z"
   },
   {
    "duration": 29,
    "start_time": "2022-12-04T12:36:48.691Z"
   },
   {
    "duration": 47,
    "start_time": "2022-12-04T12:36:48.723Z"
   },
   {
    "duration": 123,
    "start_time": "2022-12-04T12:36:48.772Z"
   },
   {
    "duration": 96,
    "start_time": "2022-12-04T12:36:48.897Z"
   },
   {
    "duration": 32,
    "start_time": "2022-12-04T12:36:48.994Z"
   },
   {
    "duration": 221,
    "start_time": "2022-12-04T12:36:49.028Z"
   },
   {
    "duration": 8,
    "start_time": "2022-12-04T12:36:49.251Z"
   },
   {
    "duration": 175,
    "start_time": "2022-12-04T12:36:49.260Z"
   },
   {
    "duration": 29,
    "start_time": "2022-12-04T12:36:49.436Z"
   },
   {
    "duration": 14,
    "start_time": "2022-12-04T12:36:49.467Z"
   },
   {
    "duration": 9,
    "start_time": "2022-12-04T12:36:49.482Z"
   },
   {
    "duration": 8,
    "start_time": "2022-12-04T12:36:49.493Z"
   },
   {
    "duration": 13,
    "start_time": "2022-12-04T12:36:49.504Z"
   },
   {
    "duration": 398,
    "start_time": "2022-12-04T12:36:49.518Z"
   },
   {
    "duration": 72,
    "start_time": "2022-12-04T12:36:49.917Z"
   },
   {
    "duration": 3,
    "start_time": "2022-12-04T12:36:49.991Z"
   },
   {
    "duration": 6,
    "start_time": "2022-12-04T12:36:49.995Z"
   },
   {
    "duration": 23,
    "start_time": "2022-12-04T12:36:50.003Z"
   },
   {
    "duration": 11,
    "start_time": "2022-12-04T12:36:50.028Z"
   },
   {
    "duration": 60,
    "start_time": "2022-12-04T12:36:50.040Z"
   },
   {
    "duration": 4,
    "start_time": "2022-12-04T12:36:50.102Z"
   },
   {
    "duration": 11,
    "start_time": "2022-12-04T12:36:50.107Z"
   },
   {
    "duration": 10,
    "start_time": "2022-12-04T12:36:50.119Z"
   },
   {
    "duration": 706,
    "start_time": "2022-12-04T12:38:47.191Z"
   },
   {
    "duration": 1771,
    "start_time": "2022-12-04T12:39:09.831Z"
   },
   {
    "duration": 1293,
    "start_time": "2022-12-04T12:39:26.271Z"
   },
   {
    "duration": 5,
    "start_time": "2022-12-04T12:40:01.852Z"
   },
   {
    "duration": 4,
    "start_time": "2022-12-04T12:40:38.682Z"
   },
   {
    "duration": 3,
    "start_time": "2022-12-04T12:41:59.836Z"
   },
   {
    "duration": 13,
    "start_time": "2022-12-04T12:42:46.394Z"
   },
   {
    "duration": 6,
    "start_time": "2022-12-04T12:44:07.469Z"
   },
   {
    "duration": 4,
    "start_time": "2022-12-04T12:44:20.388Z"
   },
   {
    "duration": 19814,
    "start_time": "2022-12-04T12:44:22.918Z"
   },
   {
    "duration": 329,
    "start_time": "2022-12-04T12:46:34.302Z"
   },
   {
    "duration": 2,
    "start_time": "2022-12-04T12:46:40.022Z"
   },
   {
    "duration": 10,
    "start_time": "2022-12-04T12:46:59.579Z"
   },
   {
    "duration": 840,
    "start_time": "2022-12-04T12:46:59.599Z"
   },
   {
    "duration": 12,
    "start_time": "2022-12-04T12:47:00.441Z"
   },
   {
    "duration": 45,
    "start_time": "2022-12-04T12:47:00.454Z"
   },
   {
    "duration": 19,
    "start_time": "2022-12-04T12:47:00.501Z"
   },
   {
    "duration": 32,
    "start_time": "2022-12-04T12:47:00.522Z"
   },
   {
    "duration": 181,
    "start_time": "2022-12-04T12:47:00.556Z"
   },
   {
    "duration": 107,
    "start_time": "2022-12-04T12:47:00.738Z"
   },
   {
    "duration": 511,
    "start_time": "2022-12-04T12:47:00.846Z"
   },
   {
    "duration": 206,
    "start_time": "2022-12-04T12:47:01.358Z"
   },
   {
    "duration": 129,
    "start_time": "2022-12-04T12:47:01.566Z"
   },
   {
    "duration": 202,
    "start_time": "2022-12-04T12:47:01.697Z"
   },
   {
    "duration": 429,
    "start_time": "2022-12-04T12:47:01.901Z"
   },
   {
    "duration": 943,
    "start_time": "2022-12-04T12:47:02.332Z"
   },
   {
    "duration": 49,
    "start_time": "2022-12-04T12:47:03.280Z"
   },
   {
    "duration": 7,
    "start_time": "2022-12-04T12:47:03.330Z"
   },
   {
    "duration": 60,
    "start_time": "2022-12-04T12:47:03.339Z"
   },
   {
    "duration": 108,
    "start_time": "2022-12-04T12:47:03.401Z"
   },
   {
    "duration": 92,
    "start_time": "2022-12-04T12:47:03.510Z"
   },
   {
    "duration": 25,
    "start_time": "2022-12-04T12:47:03.603Z"
   },
   {
    "duration": 214,
    "start_time": "2022-12-04T12:47:03.630Z"
   },
   {
    "duration": 6,
    "start_time": "2022-12-04T12:47:03.846Z"
   },
   {
    "duration": 239,
    "start_time": "2022-12-04T12:47:03.853Z"
   },
   {
    "duration": 34,
    "start_time": "2022-12-04T12:47:04.094Z"
   },
   {
    "duration": 14,
    "start_time": "2022-12-04T12:47:04.130Z"
   },
   {
    "duration": 59,
    "start_time": "2022-12-04T12:47:04.146Z"
   },
   {
    "duration": 60,
    "start_time": "2022-12-04T12:47:04.208Z"
   },
   {
    "duration": 56,
    "start_time": "2022-12-04T12:47:04.270Z"
   },
   {
    "duration": 417,
    "start_time": "2022-12-04T12:47:04.328Z"
   },
   {
    "duration": 82,
    "start_time": "2022-12-04T12:47:04.747Z"
   },
   {
    "duration": 42,
    "start_time": "2022-12-04T12:47:04.831Z"
   },
   {
    "duration": 55,
    "start_time": "2022-12-04T12:47:04.874Z"
   },
   {
    "duration": 30,
    "start_time": "2022-12-04T12:47:04.931Z"
   },
   {
    "duration": 14,
    "start_time": "2022-12-04T12:47:04.962Z"
   },
   {
    "duration": 282,
    "start_time": "2022-12-04T12:47:04.983Z"
   },
   {
    "duration": 5,
    "start_time": "2022-12-04T12:47:05.266Z"
   },
   {
    "duration": 31,
    "start_time": "2022-12-04T12:47:05.272Z"
   },
   {
    "duration": 12,
    "start_time": "2022-12-04T12:47:05.305Z"
   },
   {
    "duration": 1337,
    "start_time": "2022-12-04T12:47:05.320Z"
   },
   {
    "duration": 4,
    "start_time": "2022-12-04T12:47:06.659Z"
   },
   {
    "duration": 8,
    "start_time": "2022-12-04T12:47:06.664Z"
   },
   {
    "duration": 16,
    "start_time": "2022-12-04T12:47:06.682Z"
   },
   {
    "duration": 20410,
    "start_time": "2022-12-04T12:47:06.700Z"
   },
   {
    "duration": 3,
    "start_time": "2022-12-04T12:47:27.112Z"
   },
   {
    "duration": 558,
    "start_time": "2022-12-04T12:47:33.599Z"
   },
   {
    "duration": 3,
    "start_time": "2022-12-04T12:52:19.820Z"
   },
   {
    "duration": 1466,
    "start_time": "2022-12-04T15:03:24.139Z"
   },
   {
    "duration": 802,
    "start_time": "2022-12-04T15:03:25.609Z"
   },
   {
    "duration": 10,
    "start_time": "2022-12-04T15:03:26.413Z"
   },
   {
    "duration": 11,
    "start_time": "2022-12-04T15:03:26.425Z"
   },
   {
    "duration": 7,
    "start_time": "2022-12-04T15:03:26.438Z"
   },
   {
    "duration": 22,
    "start_time": "2022-12-04T15:03:26.447Z"
   },
   {
    "duration": 137,
    "start_time": "2022-12-04T15:03:26.470Z"
   },
   {
    "duration": 100,
    "start_time": "2022-12-04T15:03:26.608Z"
   },
   {
    "duration": 437,
    "start_time": "2022-12-04T15:03:26.709Z"
   },
   {
    "duration": 190,
    "start_time": "2022-12-04T15:03:27.150Z"
   },
   {
    "duration": 88,
    "start_time": "2022-12-04T15:03:27.342Z"
   },
   {
    "duration": 154,
    "start_time": "2022-12-04T15:03:27.432Z"
   },
   {
    "duration": 397,
    "start_time": "2022-12-04T15:03:27.587Z"
   },
   {
    "duration": 750,
    "start_time": "2022-12-04T15:03:27.985Z"
   },
   {
    "duration": 45,
    "start_time": "2022-12-04T15:03:28.736Z"
   },
   {
    "duration": 3,
    "start_time": "2022-12-04T15:03:28.782Z"
   },
   {
    "duration": 34,
    "start_time": "2022-12-04T15:03:28.786Z"
   },
   {
    "duration": 92,
    "start_time": "2022-12-04T15:03:28.821Z"
   },
   {
    "duration": 87,
    "start_time": "2022-12-04T15:03:28.914Z"
   },
   {
    "duration": 25,
    "start_time": "2022-12-04T15:03:29.002Z"
   },
   {
    "duration": 178,
    "start_time": "2022-12-04T15:03:29.028Z"
   },
   {
    "duration": 7,
    "start_time": "2022-12-04T15:03:29.208Z"
   },
   {
    "duration": 162,
    "start_time": "2022-12-04T15:03:29.217Z"
   },
   {
    "duration": 32,
    "start_time": "2022-12-04T15:03:29.381Z"
   },
   {
    "duration": 6,
    "start_time": "2022-12-04T15:03:29.415Z"
   },
   {
    "duration": 6,
    "start_time": "2022-12-04T15:03:29.422Z"
   },
   {
    "duration": 7,
    "start_time": "2022-12-04T15:03:29.430Z"
   },
   {
    "duration": 15,
    "start_time": "2022-12-04T15:03:29.479Z"
   },
   {
    "duration": 425,
    "start_time": "2022-12-04T15:03:29.495Z"
   },
   {
    "duration": 63,
    "start_time": "2022-12-04T15:03:29.922Z"
   },
   {
    "duration": 3,
    "start_time": "2022-12-04T15:03:29.987Z"
   },
   {
    "duration": 4,
    "start_time": "2022-12-04T15:03:29.992Z"
   },
   {
    "duration": 15,
    "start_time": "2022-12-04T15:03:29.997Z"
   },
   {
    "duration": 10,
    "start_time": "2022-12-04T15:03:30.014Z"
   },
   {
    "duration": 139,
    "start_time": "2022-12-04T15:03:30.025Z"
   },
   {
    "duration": 0,
    "start_time": "2022-12-04T15:03:30.165Z"
   },
   {
    "duration": 0,
    "start_time": "2022-12-04T15:03:30.166Z"
   },
   {
    "duration": 0,
    "start_time": "2022-12-04T15:03:30.167Z"
   },
   {
    "duration": 0,
    "start_time": "2022-12-04T15:03:30.168Z"
   },
   {
    "duration": 0,
    "start_time": "2022-12-04T15:03:30.169Z"
   },
   {
    "duration": 0,
    "start_time": "2022-12-04T15:03:30.170Z"
   },
   {
    "duration": 0,
    "start_time": "2022-12-04T15:03:30.177Z"
   },
   {
    "duration": 0,
    "start_time": "2022-12-04T15:03:30.179Z"
   },
   {
    "duration": 0,
    "start_time": "2022-12-04T15:03:30.180Z"
   },
   {
    "duration": 0,
    "start_time": "2022-12-04T15:03:30.181Z"
   },
   {
    "duration": 0,
    "start_time": "2022-12-04T15:03:30.182Z"
   },
   {
    "duration": 0,
    "start_time": "2022-12-04T15:03:30.183Z"
   },
   {
    "duration": 0,
    "start_time": "2022-12-04T15:03:30.184Z"
   },
   {
    "duration": 685,
    "start_time": "2022-12-04T15:08:46.074Z"
   },
   {
    "duration": 1210,
    "start_time": "2022-12-04T15:09:13.912Z"
   },
   {
    "duration": 1398,
    "start_time": "2022-12-04T15:09:28.305Z"
   },
   {
    "duration": 785,
    "start_time": "2022-12-04T15:09:29.705Z"
   },
   {
    "duration": 12,
    "start_time": "2022-12-04T15:09:30.492Z"
   },
   {
    "duration": 32,
    "start_time": "2022-12-04T15:09:30.506Z"
   },
   {
    "duration": 16,
    "start_time": "2022-12-04T15:09:30.540Z"
   },
   {
    "duration": 44,
    "start_time": "2022-12-04T15:09:30.558Z"
   },
   {
    "duration": 159,
    "start_time": "2022-12-04T15:09:30.603Z"
   },
   {
    "duration": 96,
    "start_time": "2022-12-04T15:09:30.764Z"
   },
   {
    "duration": 445,
    "start_time": "2022-12-04T15:09:30.862Z"
   },
   {
    "duration": 190,
    "start_time": "2022-12-04T15:09:31.310Z"
   },
   {
    "duration": 93,
    "start_time": "2022-12-04T15:09:31.502Z"
   },
   {
    "duration": 155,
    "start_time": "2022-12-04T15:09:31.597Z"
   },
   {
    "duration": 412,
    "start_time": "2022-12-04T15:09:31.754Z"
   },
   {
    "duration": 804,
    "start_time": "2022-12-04T15:09:32.167Z"
   },
   {
    "duration": 40,
    "start_time": "2022-12-04T15:09:32.972Z"
   },
   {
    "duration": 3,
    "start_time": "2022-12-04T15:09:33.014Z"
   },
   {
    "duration": 37,
    "start_time": "2022-12-04T15:09:33.018Z"
   },
   {
    "duration": 96,
    "start_time": "2022-12-04T15:09:33.058Z"
   },
   {
    "duration": 89,
    "start_time": "2022-12-04T15:09:33.156Z"
   },
   {
    "duration": 38,
    "start_time": "2022-12-04T15:09:33.247Z"
   },
   {
    "duration": 172,
    "start_time": "2022-12-04T15:09:33.287Z"
   },
   {
    "duration": 7,
    "start_time": "2022-12-04T15:09:33.460Z"
   },
   {
    "duration": 157,
    "start_time": "2022-12-04T15:09:33.478Z"
   },
   {
    "duration": 33,
    "start_time": "2022-12-04T15:09:33.637Z"
   },
   {
    "duration": 5,
    "start_time": "2022-12-04T15:09:33.678Z"
   },
   {
    "duration": 10,
    "start_time": "2022-12-04T15:09:33.685Z"
   },
   {
    "duration": 8,
    "start_time": "2022-12-04T15:09:33.697Z"
   },
   {
    "duration": 16,
    "start_time": "2022-12-04T15:09:33.708Z"
   },
   {
    "duration": 543,
    "start_time": "2022-12-04T15:09:33.726Z"
   },
   {
    "duration": 65,
    "start_time": "2022-12-04T15:09:34.271Z"
   },
   {
    "duration": 2,
    "start_time": "2022-12-04T15:09:34.338Z"
   },
   {
    "duration": 5,
    "start_time": "2022-12-04T15:09:34.342Z"
   },
   {
    "duration": 35,
    "start_time": "2022-12-04T15:09:34.348Z"
   },
   {
    "duration": 10,
    "start_time": "2022-12-04T15:09:34.384Z"
   },
   {
    "duration": 1230,
    "start_time": "2022-12-04T15:09:34.396Z"
   },
   {
    "duration": 113,
    "start_time": "2022-12-04T15:09:35.628Z"
   },
   {
    "duration": 0,
    "start_time": "2022-12-04T15:09:35.743Z"
   },
   {
    "duration": 0,
    "start_time": "2022-12-04T15:09:35.744Z"
   },
   {
    "duration": 0,
    "start_time": "2022-12-04T15:09:35.745Z"
   },
   {
    "duration": 0,
    "start_time": "2022-12-04T15:09:35.747Z"
   },
   {
    "duration": 0,
    "start_time": "2022-12-04T15:09:35.748Z"
   },
   {
    "duration": 0,
    "start_time": "2022-12-04T15:09:35.749Z"
   },
   {
    "duration": 0,
    "start_time": "2022-12-04T15:09:35.750Z"
   },
   {
    "duration": 0,
    "start_time": "2022-12-04T15:09:35.751Z"
   },
   {
    "duration": 0,
    "start_time": "2022-12-04T15:09:35.752Z"
   },
   {
    "duration": 0,
    "start_time": "2022-12-04T15:09:35.753Z"
   },
   {
    "duration": 0,
    "start_time": "2022-12-04T15:09:35.754Z"
   },
   {
    "duration": 0,
    "start_time": "2022-12-04T15:09:35.756Z"
   },
   {
    "duration": 1450,
    "start_time": "2022-12-04T15:10:39.462Z"
   },
   {
    "duration": 771,
    "start_time": "2022-12-04T15:10:40.914Z"
   },
   {
    "duration": 11,
    "start_time": "2022-12-04T15:10:41.687Z"
   },
   {
    "duration": 7,
    "start_time": "2022-12-04T15:10:41.700Z"
   },
   {
    "duration": 4,
    "start_time": "2022-12-04T15:10:41.709Z"
   },
   {
    "duration": 19,
    "start_time": "2022-12-04T15:10:41.715Z"
   },
   {
    "duration": 156,
    "start_time": "2022-12-04T15:10:41.735Z"
   },
   {
    "duration": 95,
    "start_time": "2022-12-04T15:10:41.893Z"
   },
   {
    "duration": 426,
    "start_time": "2022-12-04T15:10:41.990Z"
   },
   {
    "duration": 187,
    "start_time": "2022-12-04T15:10:42.419Z"
   },
   {
    "duration": 96,
    "start_time": "2022-12-04T15:10:42.608Z"
   },
   {
    "duration": 172,
    "start_time": "2022-12-04T15:10:42.706Z"
   },
   {
    "duration": 427,
    "start_time": "2022-12-04T15:10:42.879Z"
   },
   {
    "duration": 797,
    "start_time": "2022-12-04T15:10:43.307Z"
   },
   {
    "duration": 50,
    "start_time": "2022-12-04T15:10:44.106Z"
   },
   {
    "duration": 3,
    "start_time": "2022-12-04T15:10:44.158Z"
   },
   {
    "duration": 31,
    "start_time": "2022-12-04T15:10:44.179Z"
   },
   {
    "duration": 94,
    "start_time": "2022-12-04T15:10:44.211Z"
   },
   {
    "duration": 92,
    "start_time": "2022-12-04T15:10:44.306Z"
   },
   {
    "duration": 26,
    "start_time": "2022-12-04T15:10:44.400Z"
   },
   {
    "duration": 192,
    "start_time": "2022-12-04T15:10:44.427Z"
   },
   {
    "duration": 9,
    "start_time": "2022-12-04T15:10:44.620Z"
   },
   {
    "duration": 165,
    "start_time": "2022-12-04T15:10:44.631Z"
   },
   {
    "duration": 33,
    "start_time": "2022-12-04T15:10:44.797Z"
   },
   {
    "duration": 5,
    "start_time": "2022-12-04T15:10:44.832Z"
   },
   {
    "duration": 8,
    "start_time": "2022-12-04T15:10:44.838Z"
   },
   {
    "duration": 30,
    "start_time": "2022-12-04T15:10:44.848Z"
   },
   {
    "duration": 14,
    "start_time": "2022-12-04T15:10:44.881Z"
   },
   {
    "duration": 435,
    "start_time": "2022-12-04T15:10:44.897Z"
   },
   {
    "duration": 68,
    "start_time": "2022-12-04T15:10:45.333Z"
   },
   {
    "duration": 3,
    "start_time": "2022-12-04T15:10:45.402Z"
   },
   {
    "duration": 6,
    "start_time": "2022-12-04T15:10:45.406Z"
   },
   {
    "duration": 15,
    "start_time": "2022-12-04T15:10:45.414Z"
   },
   {
    "duration": 10,
    "start_time": "2022-12-04T15:10:45.430Z"
   },
   {
    "duration": 1230,
    "start_time": "2022-12-04T15:10:45.442Z"
   },
   {
    "duration": 5,
    "start_time": "2022-12-04T15:10:46.673Z"
   },
   {
    "duration": 174,
    "start_time": "2022-12-04T15:10:46.679Z"
   },
   {
    "duration": 3,
    "start_time": "2022-12-04T15:10:46.854Z"
   },
   {
    "duration": 1182,
    "start_time": "2022-12-04T15:10:46.858Z"
   },
   {
    "duration": 4,
    "start_time": "2022-12-04T15:10:48.042Z"
   },
   {
    "duration": 5,
    "start_time": "2022-12-04T15:10:48.047Z"
   },
   {
    "duration": 5,
    "start_time": "2022-12-04T15:10:48.054Z"
   },
   {
    "duration": 20310,
    "start_time": "2022-12-04T15:10:48.060Z"
   },
   {
    "duration": 4,
    "start_time": "2022-12-04T15:11:08.371Z"
   },
   {
    "duration": 556,
    "start_time": "2022-12-04T15:11:08.378Z"
   },
   {
    "duration": 3,
    "start_time": "2022-12-04T15:11:08.936Z"
   },
   {
    "duration": 1395,
    "start_time": "2022-12-04T15:15:12.207Z"
   },
   {
    "duration": 800,
    "start_time": "2022-12-04T15:15:13.604Z"
   },
   {
    "duration": 10,
    "start_time": "2022-12-04T15:15:14.406Z"
   },
   {
    "duration": 7,
    "start_time": "2022-12-04T15:15:14.417Z"
   },
   {
    "duration": 5,
    "start_time": "2022-12-04T15:15:14.426Z"
   },
   {
    "duration": 22,
    "start_time": "2022-12-04T15:15:14.432Z"
   },
   {
    "duration": 149,
    "start_time": "2022-12-04T15:15:14.455Z"
   },
   {
    "duration": 92,
    "start_time": "2022-12-04T15:15:14.605Z"
   },
   {
    "duration": 426,
    "start_time": "2022-12-04T15:15:14.698Z"
   },
   {
    "duration": 189,
    "start_time": "2022-12-04T15:15:15.125Z"
   },
   {
    "duration": 94,
    "start_time": "2022-12-04T15:15:15.315Z"
   },
   {
    "duration": 159,
    "start_time": "2022-12-04T15:15:15.411Z"
   },
   {
    "duration": 415,
    "start_time": "2022-12-04T15:15:15.577Z"
   },
   {
    "duration": 786,
    "start_time": "2022-12-04T15:15:15.995Z"
   },
   {
    "duration": 40,
    "start_time": "2022-12-04T15:15:16.783Z"
   },
   {
    "duration": 3,
    "start_time": "2022-12-04T15:15:16.824Z"
   },
   {
    "duration": 49,
    "start_time": "2022-12-04T15:15:16.829Z"
   },
   {
    "duration": 76,
    "start_time": "2022-12-04T15:15:16.880Z"
   },
   {
    "duration": 98,
    "start_time": "2022-12-04T15:15:16.958Z"
   },
   {
    "duration": 39,
    "start_time": "2022-12-04T15:15:17.058Z"
   },
   {
    "duration": 175,
    "start_time": "2022-12-04T15:15:17.099Z"
   },
   {
    "duration": 7,
    "start_time": "2022-12-04T15:15:17.278Z"
   },
   {
    "duration": 168,
    "start_time": "2022-12-04T15:15:17.286Z"
   },
   {
    "duration": 43,
    "start_time": "2022-12-04T15:15:17.456Z"
   },
   {
    "duration": 5,
    "start_time": "2022-12-04T15:15:17.501Z"
   },
   {
    "duration": 7,
    "start_time": "2022-12-04T15:15:17.508Z"
   },
   {
    "duration": 7,
    "start_time": "2022-12-04T15:15:17.517Z"
   },
   {
    "duration": 15,
    "start_time": "2022-12-04T15:15:17.525Z"
   },
   {
    "duration": 440,
    "start_time": "2022-12-04T15:15:17.542Z"
   },
   {
    "duration": 63,
    "start_time": "2022-12-04T15:15:17.983Z"
   },
   {
    "duration": 3,
    "start_time": "2022-12-04T15:15:18.047Z"
   },
   {
    "duration": 5,
    "start_time": "2022-12-04T15:15:18.052Z"
   },
   {
    "duration": 128,
    "start_time": "2022-12-04T15:15:18.059Z"
   },
   {
    "duration": 0,
    "start_time": "2022-12-04T15:15:18.189Z"
   },
   {
    "duration": 0,
    "start_time": "2022-12-04T15:15:18.190Z"
   },
   {
    "duration": 0,
    "start_time": "2022-12-04T15:15:18.191Z"
   },
   {
    "duration": 0,
    "start_time": "2022-12-04T15:15:18.192Z"
   },
   {
    "duration": 0,
    "start_time": "2022-12-04T15:15:18.194Z"
   },
   {
    "duration": 0,
    "start_time": "2022-12-04T15:15:18.194Z"
   },
   {
    "duration": 0,
    "start_time": "2022-12-04T15:15:18.196Z"
   },
   {
    "duration": 0,
    "start_time": "2022-12-04T15:15:18.197Z"
   },
   {
    "duration": 0,
    "start_time": "2022-12-04T15:15:18.199Z"
   },
   {
    "duration": 0,
    "start_time": "2022-12-04T15:15:18.200Z"
   },
   {
    "duration": 0,
    "start_time": "2022-12-04T15:15:18.201Z"
   },
   {
    "duration": 0,
    "start_time": "2022-12-04T15:15:18.202Z"
   },
   {
    "duration": 0,
    "start_time": "2022-12-04T15:15:18.203Z"
   },
   {
    "duration": 0,
    "start_time": "2022-12-04T15:15:18.204Z"
   },
   {
    "duration": 0,
    "start_time": "2022-12-04T15:15:18.205Z"
   },
   {
    "duration": 0,
    "start_time": "2022-12-04T15:15:18.207Z"
   },
   {
    "duration": 12,
    "start_time": "2022-12-04T15:16:12.012Z"
   },
   {
    "duration": 10,
    "start_time": "2022-12-04T15:16:16.556Z"
   },
   {
    "duration": 53,
    "start_time": "2022-12-04T15:16:46.317Z"
   },
   {
    "duration": 53,
    "start_time": "2022-12-04T15:17:47.820Z"
   },
   {
    "duration": 3,
    "start_time": "2022-12-04T15:18:54.776Z"
   },
   {
    "duration": 7,
    "start_time": "2022-12-04T15:20:09.343Z"
   },
   {
    "duration": 3,
    "start_time": "2022-12-04T15:20:57.111Z"
   },
   {
    "duration": 627,
    "start_time": "2022-12-04T15:21:24.387Z"
   },
   {
    "duration": 1223,
    "start_time": "2022-12-04T15:21:51.168Z"
   },
   {
    "duration": 4,
    "start_time": "2022-12-04T15:22:10.072Z"
   },
   {
    "duration": 3,
    "start_time": "2022-12-04T15:22:32.586Z"
   },
   {
    "duration": 4,
    "start_time": "2022-12-04T15:22:53.763Z"
   },
   {
    "duration": 19782,
    "start_time": "2022-12-04T15:23:26.595Z"
   },
   {
    "duration": 3,
    "start_time": "2022-12-04T15:24:11.873Z"
   },
   {
    "duration": 538,
    "start_time": "2022-12-04T15:24:32.771Z"
   },
   {
    "duration": 3,
    "start_time": "2022-12-04T15:27:01.253Z"
   },
   {
    "duration": 1434,
    "start_time": "2022-12-04T16:47:54.554Z"
   },
   {
    "duration": 873,
    "start_time": "2022-12-04T16:47:55.991Z"
   },
   {
    "duration": 16,
    "start_time": "2022-12-04T16:47:56.866Z"
   },
   {
    "duration": 19,
    "start_time": "2022-12-04T16:47:56.884Z"
   },
   {
    "duration": 6,
    "start_time": "2022-12-04T16:47:56.905Z"
   },
   {
    "duration": 18,
    "start_time": "2022-12-04T16:47:56.912Z"
   },
   {
    "duration": 142,
    "start_time": "2022-12-04T16:47:56.932Z"
   },
   {
    "duration": 93,
    "start_time": "2022-12-04T16:47:57.075Z"
   },
   {
    "duration": 461,
    "start_time": "2022-12-04T16:47:57.170Z"
   },
   {
    "duration": 200,
    "start_time": "2022-12-04T16:47:57.633Z"
   },
   {
    "duration": 99,
    "start_time": "2022-12-04T16:47:57.834Z"
   },
   {
    "duration": 167,
    "start_time": "2022-12-04T16:47:57.934Z"
   },
   {
    "duration": 427,
    "start_time": "2022-12-04T16:47:58.103Z"
   },
   {
    "duration": 829,
    "start_time": "2022-12-04T16:47:58.532Z"
   },
   {
    "duration": 52,
    "start_time": "2022-12-04T16:47:59.363Z"
   },
   {
    "duration": 2,
    "start_time": "2022-12-04T16:47:59.417Z"
   },
   {
    "duration": 40,
    "start_time": "2022-12-04T16:47:59.421Z"
   },
   {
    "duration": 95,
    "start_time": "2022-12-04T16:47:59.462Z"
   },
   {
    "duration": 88,
    "start_time": "2022-12-04T16:47:59.559Z"
   },
   {
    "duration": 33,
    "start_time": "2022-12-04T16:47:59.648Z"
   },
   {
    "duration": 187,
    "start_time": "2022-12-04T16:47:59.682Z"
   },
   {
    "duration": 6,
    "start_time": "2022-12-04T16:47:59.871Z"
   },
   {
    "duration": 172,
    "start_time": "2022-12-04T16:47:59.879Z"
   },
   {
    "duration": 46,
    "start_time": "2022-12-04T16:48:00.053Z"
   },
   {
    "duration": 5,
    "start_time": "2022-12-04T16:48:00.100Z"
   },
   {
    "duration": 8,
    "start_time": "2022-12-04T16:48:00.106Z"
   },
   {
    "duration": 9,
    "start_time": "2022-12-04T16:48:00.116Z"
   },
   {
    "duration": 56,
    "start_time": "2022-12-04T16:48:00.127Z"
   },
   {
    "duration": 452,
    "start_time": "2022-12-04T16:48:00.185Z"
   },
   {
    "duration": 74,
    "start_time": "2022-12-04T16:48:00.639Z"
   },
   {
    "duration": 12,
    "start_time": "2022-12-04T16:48:00.715Z"
   },
   {
    "duration": 17,
    "start_time": "2022-12-04T16:48:00.729Z"
   },
   {
    "duration": 41,
    "start_time": "2022-12-04T16:48:00.748Z"
   },
   {
    "duration": 28,
    "start_time": "2022-12-04T16:48:00.791Z"
   },
   {
    "duration": 69,
    "start_time": "2022-12-04T16:48:00.820Z"
   },
   {
    "duration": 53,
    "start_time": "2022-12-04T16:48:00.891Z"
   },
   {
    "duration": 3,
    "start_time": "2022-12-04T16:48:00.946Z"
   },
   {
    "duration": 24,
    "start_time": "2022-12-04T16:48:00.950Z"
   },
   {
    "duration": 34,
    "start_time": "2022-12-04T16:48:00.975Z"
   },
   {
    "duration": 1257,
    "start_time": "2022-12-04T16:48:01.011Z"
   },
   {
    "duration": 19,
    "start_time": "2022-12-04T16:48:02.270Z"
   },
   {
    "duration": 8,
    "start_time": "2022-12-04T16:48:02.290Z"
   },
   {
    "duration": 6,
    "start_time": "2022-12-04T16:48:02.299Z"
   },
   {
    "duration": 20235,
    "start_time": "2022-12-04T16:48:02.307Z"
   },
   {
    "duration": 4,
    "start_time": "2022-12-04T16:48:22.543Z"
   },
   {
    "duration": 575,
    "start_time": "2022-12-04T16:48:22.548Z"
   },
   {
    "duration": 3,
    "start_time": "2022-12-04T16:48:23.125Z"
   },
   {
    "duration": 8,
    "start_time": "2022-12-04T16:48:23.130Z"
   },
   {
    "duration": 192401,
    "start_time": "2022-12-04T16:48:23.139Z"
   },
   {
    "duration": 2225,
    "start_time": "2022-12-04T16:53:01.354Z"
   },
   {
    "duration": 602,
    "start_time": "2022-12-04T16:54:04.244Z"
   },
   {
    "duration": 113,
    "start_time": "2022-12-04T17:27:00.643Z"
   },
   {
    "duration": 3,
    "start_time": "2022-12-04T17:28:35.927Z"
   },
   {
    "duration": 10,
    "start_time": "2022-12-04T17:30:19.107Z"
   },
   {
    "duration": 168,
    "start_time": "2022-12-04T17:30:51.173Z"
   },
   {
    "duration": 9,
    "start_time": "2022-12-04T17:37:55.743Z"
   },
   {
    "duration": 135,
    "start_time": "2022-12-04T17:39:41.381Z"
   },
   {
    "duration": 4436,
    "start_time": "2022-12-04T17:39:54.046Z"
   },
   {
    "duration": 50852,
    "start_time": "2022-12-04T17:41:03.834Z"
   },
   {
    "duration": 191,
    "start_time": "2022-12-04T17:44:31.996Z"
   },
   {
    "duration": 33,
    "start_time": "2022-12-04T17:45:13.051Z"
   },
   {
    "duration": 95717,
    "start_time": "2022-12-04T17:47:38.577Z"
   },
   {
    "duration": 250,
    "start_time": "2022-12-04T17:50:07.943Z"
   },
   {
    "duration": 83,
    "start_time": "2022-12-04T17:50:54.503Z"
   },
   {
    "duration": 4,
    "start_time": "2022-12-04T17:55:04.300Z"
   },
   {
    "duration": 8,
    "start_time": "2022-12-04T17:55:27.274Z"
   },
   {
    "duration": 4,
    "start_time": "2022-12-04T17:56:18.266Z"
   },
   {
    "duration": 9,
    "start_time": "2022-12-04T17:56:24.203Z"
   },
   {
    "duration": 71,
    "start_time": "2022-12-04T18:02:09.560Z"
   },
   {
    "duration": 5,
    "start_time": "2022-12-04T18:02:57.873Z"
   },
   {
    "duration": 5,
    "start_time": "2022-12-04T18:03:04.311Z"
   },
   {
    "duration": 9,
    "start_time": "2022-12-04T18:03:25.399Z"
   },
   {
    "duration": 15,
    "start_time": "2022-12-04T18:08:22.035Z"
   },
   {
    "duration": 4,
    "start_time": "2022-12-04T18:08:48.660Z"
   },
   {
    "duration": 3,
    "start_time": "2022-12-04T18:10:13.660Z"
   },
   {
    "duration": 758,
    "start_time": "2022-12-04T18:11:24.825Z"
   },
   {
    "duration": 8,
    "start_time": "2022-12-04T18:11:47.718Z"
   },
   {
    "duration": 84,
    "start_time": "2022-12-04T18:12:57.055Z"
   },
   {
    "duration": 15,
    "start_time": "2022-12-04T18:13:33.518Z"
   },
   {
    "duration": 6,
    "start_time": "2022-12-04T18:14:07.377Z"
   },
   {
    "duration": 3,
    "start_time": "2022-12-04T18:14:19.120Z"
   },
   {
    "duration": 4,
    "start_time": "2022-12-04T18:16:07.635Z"
   },
   {
    "duration": 73395,
    "start_time": "2022-12-04T18:16:27.789Z"
   },
   {
    "duration": 636,
    "start_time": "2022-12-04T18:25:35.461Z"
   },
   {
    "duration": 288,
    "start_time": "2022-12-04T18:26:09.193Z"
   },
   {
    "duration": 3,
    "start_time": "2022-12-04T18:33:34.643Z"
   },
   {
    "duration": 81,
    "start_time": "2022-12-04T18:33:58.156Z"
   },
   {
    "duration": 72,
    "start_time": "2022-12-04T18:36:58.572Z"
   },
   {
    "duration": 90,
    "start_time": "2022-12-04T18:37:03.149Z"
   },
   {
    "duration": 66,
    "start_time": "2022-12-04T18:38:36.939Z"
   },
   {
    "duration": 3,
    "start_time": "2022-12-04T18:39:37.601Z"
   },
   {
    "duration": 77,
    "start_time": "2022-12-04T18:39:43.775Z"
   },
   {
    "duration": 3,
    "start_time": "2022-12-04T18:40:48.729Z"
   },
   {
    "duration": 75,
    "start_time": "2022-12-04T18:40:52.511Z"
   },
   {
    "duration": 4,
    "start_time": "2022-12-04T18:41:54.101Z"
   },
   {
    "duration": 104,
    "start_time": "2022-12-04T18:41:59.519Z"
   },
   {
    "duration": 3,
    "start_time": "2022-12-04T18:42:35.738Z"
   },
   {
    "duration": 2,
    "start_time": "2022-12-04T18:47:26.165Z"
   },
   {
    "duration": 90,
    "start_time": "2022-12-04T18:47:34.141Z"
   },
   {
    "duration": 5,
    "start_time": "2022-12-04T18:50:20.239Z"
   },
   {
    "duration": 9,
    "start_time": "2022-12-04T18:50:56.573Z"
   },
   {
    "duration": 8,
    "start_time": "2022-12-04T18:56:28.426Z"
   },
   {
    "duration": 6,
    "start_time": "2022-12-04T18:56:45.731Z"
   },
   {
    "duration": 8,
    "start_time": "2022-12-04T18:56:47.977Z"
   },
   {
    "duration": 101,
    "start_time": "2022-12-04T19:02:04.304Z"
   },
   {
    "duration": 5,
    "start_time": "2022-12-04T19:02:53.975Z"
   },
   {
    "duration": 11,
    "start_time": "2022-12-04T19:04:04.760Z"
   },
   {
    "duration": 6,
    "start_time": "2022-12-04T19:04:52.217Z"
   },
   {
    "duration": 302,
    "start_time": "2022-12-04T19:05:06.790Z"
   },
   {
    "duration": 3,
    "start_time": "2022-12-04T19:06:58.667Z"
   },
   {
    "duration": 63769,
    "start_time": "2022-12-04T19:07:23.835Z"
   },
   {
    "duration": 1096,
    "start_time": "2022-12-04T19:09:03.116Z"
   },
   {
    "duration": 343,
    "start_time": "2022-12-04T19:09:39.895Z"
   },
   {
    "duration": 3,
    "start_time": "2022-12-04T19:11:20.941Z"
   },
   {
    "duration": 60903,
    "start_time": "2022-12-04T19:11:41.672Z"
   },
   {
    "duration": 677,
    "start_time": "2022-12-04T19:13:08.447Z"
   },
   {
    "duration": 226,
    "start_time": "2022-12-04T19:13:37.648Z"
   },
   {
    "duration": 8,
    "start_time": "2022-12-04T19:15:26.471Z"
   },
   {
    "duration": 5,
    "start_time": "2022-12-04T19:16:29.081Z"
   },
   {
    "duration": 9,
    "start_time": "2022-12-04T19:16:31.932Z"
   },
   {
    "duration": 94,
    "start_time": "2022-12-04T19:22:24.215Z"
   },
   {
    "duration": 617,
    "start_time": "2022-12-04T19:25:31.815Z"
   },
   {
    "duration": 81,
    "start_time": "2022-12-04T19:26:07.704Z"
   },
   {
    "duration": 138,
    "start_time": "2022-12-04T19:28:03.753Z"
   },
   {
    "duration": 222,
    "start_time": "2022-12-04T19:28:26.514Z"
   },
   {
    "duration": 7,
    "start_time": "2022-12-04T19:29:20.856Z"
   },
   {
    "duration": 9,
    "start_time": "2022-12-04T19:29:41.665Z"
   },
   {
    "duration": 6,
    "start_time": "2022-12-04T19:32:13.566Z"
   },
   {
    "duration": 9,
    "start_time": "2022-12-04T19:32:16.062Z"
   },
   {
    "duration": 12,
    "start_time": "2022-12-04T19:40:43.128Z"
   },
   {
    "duration": 11,
    "start_time": "2022-12-04T19:40:47.449Z"
   },
   {
    "duration": 9,
    "start_time": "2022-12-04T19:41:56.944Z"
   },
   {
    "duration": 7,
    "start_time": "2022-12-04T19:42:18.990Z"
   },
   {
    "duration": 8,
    "start_time": "2022-12-04T19:42:24.097Z"
   },
   {
    "duration": 10,
    "start_time": "2022-12-04T19:42:32.450Z"
   },
   {
    "duration": 9,
    "start_time": "2022-12-04T19:43:03.189Z"
   },
   {
    "duration": 1500,
    "start_time": "2022-12-04T19:43:38.773Z"
   },
   {
    "duration": 782,
    "start_time": "2022-12-04T19:43:40.275Z"
   },
   {
    "duration": 10,
    "start_time": "2022-12-04T19:43:41.059Z"
   },
   {
    "duration": 2,
    "start_time": "2022-12-04T19:43:41.077Z"
   },
   {
    "duration": 7,
    "start_time": "2022-12-04T19:43:41.080Z"
   },
   {
    "duration": 25,
    "start_time": "2022-12-04T19:43:41.088Z"
   },
   {
    "duration": 139,
    "start_time": "2022-12-04T19:43:41.115Z"
   },
   {
    "duration": 94,
    "start_time": "2022-12-04T19:43:41.256Z"
   },
   {
    "duration": 433,
    "start_time": "2022-12-04T19:43:41.351Z"
   },
   {
    "duration": 194,
    "start_time": "2022-12-04T19:43:41.787Z"
   },
   {
    "duration": 85,
    "start_time": "2022-12-04T19:43:41.983Z"
   },
   {
    "duration": 154,
    "start_time": "2022-12-04T19:43:42.078Z"
   },
   {
    "duration": 408,
    "start_time": "2022-12-04T19:43:42.234Z"
   },
   {
    "duration": 821,
    "start_time": "2022-12-04T19:43:42.644Z"
   },
   {
    "duration": 44,
    "start_time": "2022-12-04T19:43:43.467Z"
   },
   {
    "duration": 3,
    "start_time": "2022-12-04T19:43:43.513Z"
   },
   {
    "duration": 39,
    "start_time": "2022-12-04T19:43:43.517Z"
   },
   {
    "duration": 99,
    "start_time": "2022-12-04T19:43:43.557Z"
   },
   {
    "duration": 92,
    "start_time": "2022-12-04T19:43:43.658Z"
   },
   {
    "duration": 42,
    "start_time": "2022-12-04T19:43:43.752Z"
   },
   {
    "duration": 184,
    "start_time": "2022-12-04T19:43:43.795Z"
   },
   {
    "duration": 9,
    "start_time": "2022-12-04T19:43:43.981Z"
   },
   {
    "duration": 271,
    "start_time": "2022-12-04T19:43:43.992Z"
   },
   {
    "duration": 38,
    "start_time": "2022-12-04T19:43:44.265Z"
   },
   {
    "duration": 5,
    "start_time": "2022-12-04T19:43:44.305Z"
   },
   {
    "duration": 6,
    "start_time": "2022-12-04T19:43:44.311Z"
   },
   {
    "duration": 10,
    "start_time": "2022-12-04T19:43:44.319Z"
   },
   {
    "duration": 14,
    "start_time": "2022-12-04T19:43:44.333Z"
   },
   {
    "duration": 358,
    "start_time": "2022-12-04T19:43:44.348Z"
   },
   {
    "duration": 70,
    "start_time": "2022-12-04T19:43:44.708Z"
   },
   {
    "duration": 2,
    "start_time": "2022-12-04T19:43:44.780Z"
   },
   {
    "duration": 5,
    "start_time": "2022-12-04T19:43:44.784Z"
   },
   {
    "duration": 18,
    "start_time": "2022-12-04T19:43:44.791Z"
   },
   {
    "duration": 9,
    "start_time": "2022-12-04T19:43:44.811Z"
   },
   {
    "duration": 74,
    "start_time": "2022-12-04T19:43:44.822Z"
   },
   {
    "duration": 54,
    "start_time": "2022-12-04T19:43:44.897Z"
   },
   {
    "duration": 4,
    "start_time": "2022-12-04T19:43:44.952Z"
   },
   {
    "duration": 25,
    "start_time": "2022-12-04T19:43:44.958Z"
   },
   {
    "duration": 5,
    "start_time": "2022-12-04T19:43:44.985Z"
   },
   {
    "duration": 1182,
    "start_time": "2022-12-04T19:43:44.992Z"
   },
   {
    "duration": 3,
    "start_time": "2022-12-04T19:43:46.175Z"
   },
   {
    "duration": 7,
    "start_time": "2022-12-04T19:43:46.179Z"
   },
   {
    "duration": 7,
    "start_time": "2022-12-04T19:43:46.187Z"
   },
   {
    "duration": 20086,
    "start_time": "2022-12-04T19:43:46.195Z"
   },
   {
    "duration": 3,
    "start_time": "2022-12-04T19:44:06.282Z"
   },
   {
    "duration": 550,
    "start_time": "2022-12-04T19:44:06.286Z"
   },
   {
    "duration": 4,
    "start_time": "2022-12-04T19:44:06.838Z"
   },
   {
    "duration": 6,
    "start_time": "2022-12-04T19:44:06.843Z"
   },
   {
    "duration": 191421,
    "start_time": "2022-12-04T19:44:06.850Z"
   },
   {
    "duration": 2229,
    "start_time": "2022-12-04T19:47:18.273Z"
   },
   {
    "duration": 624,
    "start_time": "2022-12-04T19:47:20.503Z"
   },
   {
    "duration": 5,
    "start_time": "2022-12-04T19:47:21.129Z"
   },
   {
    "duration": 13,
    "start_time": "2022-12-04T19:47:21.135Z"
   },
   {
    "duration": 4529,
    "start_time": "2022-12-04T19:47:21.149Z"
   },
   {
    "duration": 48209,
    "start_time": "2022-12-04T19:47:25.680Z"
   },
   {
    "duration": 297,
    "start_time": "2022-12-04T19:48:13.891Z"
   },
   {
    "duration": 95,
    "start_time": "2022-12-04T19:48:14.190Z"
   },
   {
    "duration": 97811,
    "start_time": "2022-12-04T19:48:14.287Z"
   },
   {
    "duration": 388,
    "start_time": "2022-12-04T19:49:52.100Z"
   },
   {
    "duration": 190,
    "start_time": "2022-12-04T19:49:52.490Z"
   },
   {
    "duration": 10,
    "start_time": "2022-12-04T19:49:52.682Z"
   },
   {
    "duration": 28,
    "start_time": "2022-12-04T19:49:52.693Z"
   },
   {
    "duration": 5,
    "start_time": "2022-12-04T19:49:52.722Z"
   },
   {
    "duration": 4,
    "start_time": "2022-12-04T19:49:52.728Z"
   },
   {
    "duration": 808,
    "start_time": "2022-12-04T19:49:52.733Z"
   },
   {
    "duration": 9,
    "start_time": "2022-12-04T19:49:53.542Z"
   },
   {
    "duration": 96,
    "start_time": "2022-12-04T19:49:53.553Z"
   },
   {
    "duration": 3,
    "start_time": "2022-12-04T19:49:53.651Z"
   },
   {
    "duration": 9,
    "start_time": "2022-12-04T19:49:53.656Z"
   },
   {
    "duration": 2917,
    "start_time": "2022-12-04T19:49:53.666Z"
   },
   {
    "duration": 803,
    "start_time": "2022-12-04T19:49:56.585Z"
   },
   {
    "duration": 289,
    "start_time": "2022-12-04T19:49:57.390Z"
   },
   {
    "duration": 4,
    "start_time": "2022-12-04T19:49:57.681Z"
   },
   {
    "duration": 11,
    "start_time": "2022-12-04T19:49:57.687Z"
   },
   {
    "duration": 120,
    "start_time": "2022-12-04T19:49:57.699Z"
   },
   {
    "duration": 4,
    "start_time": "2022-12-04T19:49:57.821Z"
   },
   {
    "duration": 289,
    "start_time": "2022-12-04T19:49:57.827Z"
   },
   {
    "duration": 4,
    "start_time": "2022-12-04T19:49:58.118Z"
   },
   {
    "duration": 61795,
    "start_time": "2022-12-04T19:49:58.124Z"
   },
   {
    "duration": 1008,
    "start_time": "2022-12-04T19:50:59.920Z"
   },
   {
    "duration": 348,
    "start_time": "2022-12-04T19:51:00.930Z"
   },
   {
    "duration": 3,
    "start_time": "2022-12-04T19:51:01.283Z"
   },
   {
    "duration": 58615,
    "start_time": "2022-12-04T19:51:01.287Z"
   },
   {
    "duration": 674,
    "start_time": "2022-12-04T19:51:59.903Z"
   },
   {
    "duration": 237,
    "start_time": "2022-12-04T19:52:00.579Z"
   },
   {
    "duration": 5,
    "start_time": "2022-12-04T19:52:00.818Z"
   },
   {
    "duration": 19,
    "start_time": "2022-12-04T19:52:00.824Z"
   },
   {
    "duration": 599,
    "start_time": "2022-12-04T19:52:00.845Z"
   },
   {
    "duration": 140,
    "start_time": "2022-12-04T19:52:01.446Z"
   },
   {
    "duration": 299,
    "start_time": "2022-12-04T19:52:01.588Z"
   },
   {
    "duration": 250,
    "start_time": "2022-12-04T19:52:01.888Z"
   },
   {
    "duration": 7,
    "start_time": "2022-12-04T19:52:02.140Z"
   },
   {
    "duration": 11,
    "start_time": "2022-12-04T19:52:02.148Z"
   },
   {
    "duration": 23,
    "start_time": "2022-12-04T19:52:02.160Z"
   },
   {
    "duration": 1894,
    "start_time": "2022-12-05T18:49:52.930Z"
   },
   {
    "duration": 1078,
    "start_time": "2022-12-05T18:49:54.826Z"
   },
   {
    "duration": 13,
    "start_time": "2022-12-05T18:49:55.906Z"
   },
   {
    "duration": 8,
    "start_time": "2022-12-05T18:49:55.921Z"
   },
   {
    "duration": 11,
    "start_time": "2022-12-05T18:49:55.931Z"
   },
   {
    "duration": 19,
    "start_time": "2022-12-05T18:49:55.943Z"
   },
   {
    "duration": 151,
    "start_time": "2022-12-05T18:49:55.964Z"
   },
   {
    "duration": 98,
    "start_time": "2022-12-05T18:49:56.117Z"
   },
   {
    "duration": 547,
    "start_time": "2022-12-05T18:49:56.217Z"
   },
   {
    "duration": 211,
    "start_time": "2022-12-05T18:49:56.766Z"
   },
   {
    "duration": 92,
    "start_time": "2022-12-05T18:49:56.979Z"
   },
   {
    "duration": 177,
    "start_time": "2022-12-05T18:49:57.073Z"
   },
   {
    "duration": 431,
    "start_time": "2022-12-05T18:49:57.252Z"
   },
   {
    "duration": 827,
    "start_time": "2022-12-05T18:49:57.686Z"
   },
   {
    "duration": 40,
    "start_time": "2022-12-05T18:49:58.515Z"
   },
   {
    "duration": 3,
    "start_time": "2022-12-05T18:49:58.557Z"
   },
   {
    "duration": 60,
    "start_time": "2022-12-05T18:49:58.562Z"
   },
   {
    "duration": 92,
    "start_time": "2022-12-05T18:49:58.624Z"
   },
   {
    "duration": 81,
    "start_time": "2022-12-05T18:49:58.718Z"
   },
   {
    "duration": 37,
    "start_time": "2022-12-05T18:49:58.800Z"
   },
   {
    "duration": 193,
    "start_time": "2022-12-05T18:49:58.839Z"
   },
   {
    "duration": 7,
    "start_time": "2022-12-05T18:49:59.034Z"
   },
   {
    "duration": 239,
    "start_time": "2022-12-05T18:49:59.042Z"
   },
   {
    "duration": 41,
    "start_time": "2022-12-05T18:49:59.283Z"
   },
   {
    "duration": 6,
    "start_time": "2022-12-05T18:49:59.325Z"
   },
   {
    "duration": 9,
    "start_time": "2022-12-05T18:49:59.332Z"
   },
   {
    "duration": 14,
    "start_time": "2022-12-05T18:49:59.343Z"
   },
   {
    "duration": 17,
    "start_time": "2022-12-05T18:49:59.359Z"
   },
   {
    "duration": 390,
    "start_time": "2022-12-05T18:49:59.377Z"
   },
   {
    "duration": 80,
    "start_time": "2022-12-05T18:49:59.768Z"
   },
   {
    "duration": 3,
    "start_time": "2022-12-05T18:49:59.849Z"
   },
   {
    "duration": 7,
    "start_time": "2022-12-05T18:49:59.853Z"
   },
   {
    "duration": 19,
    "start_time": "2022-12-05T18:49:59.861Z"
   },
   {
    "duration": 11,
    "start_time": "2022-12-05T18:49:59.882Z"
   },
   {
    "duration": 57,
    "start_time": "2022-12-05T18:49:59.916Z"
   },
   {
    "duration": 74,
    "start_time": "2022-12-05T18:49:59.975Z"
   },
   {
    "duration": 4,
    "start_time": "2022-12-05T18:50:00.052Z"
   },
   {
    "duration": 25,
    "start_time": "2022-12-05T18:50:00.058Z"
   },
   {
    "duration": 23,
    "start_time": "2022-12-05T18:50:00.084Z"
   },
   {
    "duration": 1199,
    "start_time": "2022-12-05T18:50:00.109Z"
   },
   {
    "duration": 6,
    "start_time": "2022-12-05T18:50:01.314Z"
   },
   {
    "duration": 12,
    "start_time": "2022-12-05T18:50:01.321Z"
   },
   {
    "duration": 14,
    "start_time": "2022-12-05T18:50:01.334Z"
   },
   {
    "duration": 20149,
    "start_time": "2022-12-05T18:50:01.350Z"
   },
   {
    "duration": 3,
    "start_time": "2022-12-05T18:50:21.500Z"
   },
   {
    "duration": 549,
    "start_time": "2022-12-05T18:50:21.504Z"
   },
   {
    "duration": 4,
    "start_time": "2022-12-05T18:50:22.056Z"
   },
   {
    "duration": 28,
    "start_time": "2022-12-05T18:50:22.062Z"
   },
   {
    "duration": 202062,
    "start_time": "2022-12-05T18:50:22.092Z"
   },
   {
    "duration": 2069,
    "start_time": "2022-12-05T18:53:44.156Z"
   },
   {
    "duration": 662,
    "start_time": "2022-12-05T18:53:46.227Z"
   },
   {
    "duration": 5,
    "start_time": "2022-12-05T18:53:46.890Z"
   },
   {
    "duration": 21,
    "start_time": "2022-12-05T18:53:46.897Z"
   },
   {
    "duration": 4612,
    "start_time": "2022-12-05T18:53:46.919Z"
   },
   {
    "duration": 59097,
    "start_time": "2022-12-05T18:53:51.533Z"
   },
   {
    "duration": 289,
    "start_time": "2022-12-05T18:54:50.631Z"
   },
   {
    "duration": 104,
    "start_time": "2022-12-05T18:54:50.922Z"
   },
   {
    "duration": 134820,
    "start_time": "2022-12-05T18:54:51.027Z"
   },
   {
    "duration": 398,
    "start_time": "2022-12-05T18:57:05.849Z"
   },
   {
    "duration": 186,
    "start_time": "2022-12-05T18:57:06.249Z"
   },
   {
    "duration": 80,
    "start_time": "2022-12-05T18:57:06.437Z"
   },
   {
    "duration": 21,
    "start_time": "2022-12-05T18:57:06.519Z"
   },
   {
    "duration": 4,
    "start_time": "2022-12-05T18:57:06.543Z"
   },
   {
    "duration": 13,
    "start_time": "2022-12-05T18:57:06.549Z"
   },
   {
    "duration": 865,
    "start_time": "2022-12-05T18:57:06.564Z"
   },
   {
    "duration": 9,
    "start_time": "2022-12-05T18:57:07.431Z"
   },
   {
    "duration": 100,
    "start_time": "2022-12-05T18:57:07.441Z"
   },
   {
    "duration": 3,
    "start_time": "2022-12-05T18:57:07.543Z"
   },
   {
    "duration": 8,
    "start_time": "2022-12-05T18:57:07.548Z"
   },
   {
    "duration": 377970,
    "start_time": "2022-12-05T18:57:07.558Z"
   },
   {
    "duration": 899,
    "start_time": "2022-12-05T19:03:25.530Z"
   },
   {
    "duration": 301,
    "start_time": "2022-12-05T19:03:26.432Z"
   },
   {
    "duration": 5,
    "start_time": "2022-12-05T19:03:26.735Z"
   },
   {
    "duration": 17,
    "start_time": "2022-12-05T19:03:26.742Z"
   },
   {
    "duration": 160,
    "start_time": "2022-12-05T19:03:26.761Z"
   },
   {
    "duration": 4,
    "start_time": "2022-12-05T19:03:26.923Z"
   },
   {
    "duration": 294,
    "start_time": "2022-12-05T19:03:26.928Z"
   },
   {
    "duration": 3,
    "start_time": "2022-12-05T19:03:27.224Z"
   },
   {
    "duration": 64040,
    "start_time": "2022-12-05T19:03:27.229Z"
   },
   {
    "duration": 1070,
    "start_time": "2022-12-05T19:04:31.272Z"
   },
   {
    "duration": 383,
    "start_time": "2022-12-05T19:04:32.344Z"
   },
   {
    "duration": 3,
    "start_time": "2022-12-05T19:04:32.729Z"
   },
   {
    "duration": 61411,
    "start_time": "2022-12-05T19:04:32.734Z"
   },
   {
    "duration": 643,
    "start_time": "2022-12-05T19:05:34.146Z"
   },
   {
    "duration": 234,
    "start_time": "2022-12-05T19:05:34.790Z"
   },
   {
    "duration": 5,
    "start_time": "2022-12-05T19:05:35.026Z"
   },
   {
    "duration": 24,
    "start_time": "2022-12-05T19:05:35.032Z"
   },
   {
    "duration": 563,
    "start_time": "2022-12-05T19:05:35.058Z"
   },
   {
    "duration": 193,
    "start_time": "2022-12-05T19:05:35.623Z"
   },
   {
    "duration": 311,
    "start_time": "2022-12-05T19:05:35.818Z"
   },
   {
    "duration": 315,
    "start_time": "2022-12-05T19:05:36.130Z"
   },
   {
    "duration": 7,
    "start_time": "2022-12-05T19:05:36.447Z"
   },
   {
    "duration": 23,
    "start_time": "2022-12-05T19:05:36.456Z"
   },
   {
    "duration": 15,
    "start_time": "2022-12-05T19:05:36.480Z"
   },
   {
    "duration": 1761,
    "start_time": "2022-12-09T19:11:18.514Z"
   },
   {
    "duration": 2854,
    "start_time": "2022-12-09T19:11:20.277Z"
   },
   {
    "duration": 10,
    "start_time": "2022-12-09T19:11:23.133Z"
   },
   {
    "duration": 9,
    "start_time": "2022-12-09T19:11:23.145Z"
   },
   {
    "duration": 5,
    "start_time": "2022-12-09T19:11:23.155Z"
   },
   {
    "duration": 18,
    "start_time": "2022-12-09T19:11:23.161Z"
   },
   {
    "duration": 133,
    "start_time": "2022-12-09T19:11:23.181Z"
   },
   {
    "duration": 132,
    "start_time": "2022-12-09T19:11:23.316Z"
   },
   {
    "duration": 456,
    "start_time": "2022-12-09T19:11:23.450Z"
   },
   {
    "duration": 198,
    "start_time": "2022-12-09T19:11:23.908Z"
   },
   {
    "duration": 106,
    "start_time": "2022-12-09T19:11:24.107Z"
   },
   {
    "duration": 155,
    "start_time": "2022-12-09T19:11:24.215Z"
   },
   {
    "duration": 401,
    "start_time": "2022-12-09T19:11:24.373Z"
   },
   {
    "duration": 760,
    "start_time": "2022-12-09T19:11:24.775Z"
   },
   {
    "duration": 38,
    "start_time": "2022-12-09T19:11:25.536Z"
   },
   {
    "duration": 2,
    "start_time": "2022-12-09T19:11:25.576Z"
   },
   {
    "duration": 54,
    "start_time": "2022-12-09T19:11:25.580Z"
   },
   {
    "duration": 92,
    "start_time": "2022-12-09T19:11:25.636Z"
   },
   {
    "duration": 94,
    "start_time": "2022-12-09T19:11:25.729Z"
   },
   {
    "duration": 25,
    "start_time": "2022-12-09T19:11:25.824Z"
   },
   {
    "duration": 197,
    "start_time": "2022-12-09T19:11:25.850Z"
   },
   {
    "duration": 6,
    "start_time": "2022-12-09T19:11:26.049Z"
   },
   {
    "duration": 255,
    "start_time": "2022-12-09T19:11:26.056Z"
   },
   {
    "duration": 28,
    "start_time": "2022-12-09T19:11:26.313Z"
   },
   {
    "duration": 5,
    "start_time": "2022-12-09T19:11:26.343Z"
   },
   {
    "duration": 6,
    "start_time": "2022-12-09T19:11:26.350Z"
   },
   {
    "duration": 10,
    "start_time": "2022-12-09T19:11:26.358Z"
   },
   {
    "duration": 15,
    "start_time": "2022-12-09T19:11:26.404Z"
   },
   {
    "duration": 358,
    "start_time": "2022-12-09T19:11:26.420Z"
   },
   {
    "duration": 74,
    "start_time": "2022-12-09T19:11:26.780Z"
   },
   {
    "duration": 7,
    "start_time": "2022-12-09T19:12:44.028Z"
   },
   {
    "duration": 809,
    "start_time": "2022-12-09T19:12:44.037Z"
   },
   {
    "duration": 11,
    "start_time": "2022-12-09T19:12:44.849Z"
   },
   {
    "duration": 9,
    "start_time": "2022-12-09T19:12:44.862Z"
   },
   {
    "duration": 7,
    "start_time": "2022-12-09T19:12:44.873Z"
   },
   {
    "duration": 29,
    "start_time": "2022-12-09T19:12:44.881Z"
   },
   {
    "duration": 141,
    "start_time": "2022-12-09T19:12:44.912Z"
   },
   {
    "duration": 99,
    "start_time": "2022-12-09T19:12:45.055Z"
   },
   {
    "duration": 439,
    "start_time": "2022-12-09T19:12:45.155Z"
   },
   {
    "duration": 197,
    "start_time": "2022-12-09T19:12:45.595Z"
   },
   {
    "duration": 118,
    "start_time": "2022-12-09T19:12:45.795Z"
   },
   {
    "duration": 189,
    "start_time": "2022-12-09T19:12:45.915Z"
   },
   {
    "duration": 424,
    "start_time": "2022-12-09T19:12:46.106Z"
   },
   {
    "duration": 783,
    "start_time": "2022-12-09T19:12:46.532Z"
   },
   {
    "duration": 52,
    "start_time": "2022-12-09T19:12:47.317Z"
   },
   {
    "duration": 4,
    "start_time": "2022-12-09T19:12:47.371Z"
   },
   {
    "duration": 65,
    "start_time": "2022-12-09T19:12:47.377Z"
   },
   {
    "duration": 110,
    "start_time": "2022-12-09T19:12:47.444Z"
   },
   {
    "duration": 96,
    "start_time": "2022-12-09T19:12:47.556Z"
   },
   {
    "duration": 31,
    "start_time": "2022-12-09T19:12:47.655Z"
   },
   {
    "duration": 190,
    "start_time": "2022-12-09T19:12:47.688Z"
   },
   {
    "duration": 6,
    "start_time": "2022-12-09T19:12:47.880Z"
   },
   {
    "duration": 172,
    "start_time": "2022-12-09T19:12:47.888Z"
   },
   {
    "duration": 29,
    "start_time": "2022-12-09T19:12:48.062Z"
   },
   {
    "duration": 5,
    "start_time": "2022-12-09T19:12:48.105Z"
   },
   {
    "duration": 6,
    "start_time": "2022-12-09T19:12:48.111Z"
   },
   {
    "duration": 7,
    "start_time": "2022-12-09T19:12:48.119Z"
   },
   {
    "duration": 15,
    "start_time": "2022-12-09T19:12:48.127Z"
   },
   {
    "duration": 411,
    "start_time": "2022-12-09T19:12:48.149Z"
   },
   {
    "duration": 72,
    "start_time": "2022-12-09T19:12:48.562Z"
   },
   {
    "duration": 3,
    "start_time": "2022-12-09T19:12:48.635Z"
   },
   {
    "duration": 6,
    "start_time": "2022-12-09T19:12:48.639Z"
   },
   {
    "duration": 19,
    "start_time": "2022-12-09T19:12:48.646Z"
   },
   {
    "duration": 10,
    "start_time": "2022-12-09T19:12:48.667Z"
   },
   {
    "duration": 82,
    "start_time": "2022-12-09T19:12:48.679Z"
   },
   {
    "duration": 60,
    "start_time": "2022-12-09T19:12:48.762Z"
   },
   {
    "duration": 4,
    "start_time": "2022-12-09T19:12:48.823Z"
   },
   {
    "duration": 8,
    "start_time": "2022-12-09T19:12:48.829Z"
   },
   {
    "duration": 5,
    "start_time": "2022-12-09T19:12:48.838Z"
   },
   {
    "duration": 1226,
    "start_time": "2022-12-09T19:12:48.845Z"
   },
   {
    "duration": 4,
    "start_time": "2022-12-09T19:12:50.074Z"
   },
   {
    "duration": 25,
    "start_time": "2022-12-09T19:12:50.080Z"
   },
   {
    "duration": 4,
    "start_time": "2022-12-09T19:12:50.107Z"
   },
   {
    "duration": 20223,
    "start_time": "2022-12-09T19:12:50.114Z"
   },
   {
    "duration": 3,
    "start_time": "2022-12-09T19:13:10.339Z"
   },
   {
    "duration": 648,
    "start_time": "2022-12-09T19:13:10.343Z"
   },
   {
    "duration": 11,
    "start_time": "2022-12-09T19:13:10.993Z"
   },
   {
    "duration": 15,
    "start_time": "2022-12-09T19:13:11.006Z"
   },
   {
    "duration": 199096,
    "start_time": "2022-12-09T19:13:11.022Z"
   },
   {
    "duration": 2322,
    "start_time": "2022-12-09T19:16:30.120Z"
   },
   {
    "duration": 627,
    "start_time": "2022-12-09T19:16:32.444Z"
   },
   {
    "duration": 4,
    "start_time": "2022-12-09T19:16:33.073Z"
   },
   {
    "duration": 10,
    "start_time": "2022-12-09T19:16:33.079Z"
   },
   {
    "duration": 4618,
    "start_time": "2022-12-09T19:16:33.105Z"
   },
   {
    "duration": 52096,
    "start_time": "2022-12-09T19:16:37.724Z"
   },
   {
    "duration": 297,
    "start_time": "2022-12-09T19:17:29.822Z"
   },
   {
    "duration": 191,
    "start_time": "2022-12-09T19:17:30.120Z"
   },
   {
    "duration": 105214,
    "start_time": "2022-12-09T19:17:30.312Z"
   },
   {
    "duration": 390,
    "start_time": "2022-12-09T19:19:15.528Z"
   },
   {
    "duration": 191,
    "start_time": "2022-12-09T19:19:15.920Z"
   },
   {
    "duration": 11,
    "start_time": "2022-12-09T19:19:16.112Z"
   },
   {
    "duration": 19,
    "start_time": "2022-12-09T19:19:16.124Z"
   },
   {
    "duration": 5,
    "start_time": "2022-12-09T19:19:16.144Z"
   },
   {
    "duration": 60,
    "start_time": "2022-12-09T19:19:16.151Z"
   },
   {
    "duration": 762,
    "start_time": "2022-12-09T19:19:16.213Z"
   },
   {
    "duration": 9,
    "start_time": "2022-12-09T19:19:16.977Z"
   },
   {
    "duration": 123,
    "start_time": "2022-12-09T19:19:16.987Z"
   },
   {
    "duration": 3,
    "start_time": "2022-12-09T19:19:17.112Z"
   },
   {
    "duration": 6,
    "start_time": "2022-12-09T19:19:17.116Z"
   },
   {
    "duration": 2886,
    "start_time": "2022-12-09T19:19:17.123Z"
   },
   {
    "duration": 895,
    "start_time": "2022-12-09T19:19:20.011Z"
   },
   {
    "duration": 306,
    "start_time": "2022-12-09T19:19:20.908Z"
   },
   {
    "duration": 5,
    "start_time": "2022-12-09T19:19:21.215Z"
   },
   {
    "duration": 33,
    "start_time": "2022-12-09T19:19:21.221Z"
   },
   {
    "duration": 152,
    "start_time": "2022-12-09T19:19:21.255Z"
   },
   {
    "duration": 4,
    "start_time": "2022-12-09T19:19:21.409Z"
   },
   {
    "duration": 292,
    "start_time": "2022-12-09T19:19:21.414Z"
   },
   {
    "duration": 2,
    "start_time": "2022-12-09T19:19:21.708Z"
   },
   {
    "duration": 69112,
    "start_time": "2022-12-09T19:19:21.711Z"
   },
   {
    "duration": 1051,
    "start_time": "2022-12-09T19:20:30.824Z"
   },
   {
    "duration": 368,
    "start_time": "2022-12-09T19:20:31.877Z"
   },
   {
    "duration": 4,
    "start_time": "2022-12-09T19:20:32.247Z"
   },
   {
    "duration": 63355,
    "start_time": "2022-12-09T19:20:32.257Z"
   },
   {
    "duration": 662,
    "start_time": "2022-12-09T19:21:35.613Z"
   },
   {
    "duration": 223,
    "start_time": "2022-12-09T19:21:36.276Z"
   },
   {
    "duration": 4,
    "start_time": "2022-12-09T19:21:36.504Z"
   },
   {
    "duration": 12,
    "start_time": "2022-12-09T19:21:36.509Z"
   },
   {
    "duration": 836,
    "start_time": "2022-12-09T19:21:36.523Z"
   },
   {
    "duration": 163,
    "start_time": "2022-12-09T19:21:37.362Z"
   },
   {
    "duration": 294,
    "start_time": "2022-12-09T19:21:37.527Z"
   },
   {
    "duration": 290,
    "start_time": "2022-12-09T19:21:37.823Z"
   },
   {
    "duration": 7,
    "start_time": "2022-12-09T19:21:38.115Z"
   },
   {
    "duration": 23,
    "start_time": "2022-12-09T19:21:38.123Z"
   },
   {
    "duration": 15,
    "start_time": "2022-12-09T19:21:38.149Z"
   },
   {
    "duration": 9,
    "start_time": "2022-12-09T19:22:50.683Z"
   },
   {
    "duration": 5,
    "start_time": "2022-12-09T19:23:02.947Z"
   },
   {
    "duration": 10,
    "start_time": "2022-12-09T19:23:07.739Z"
   },
   {
    "duration": 11,
    "start_time": "2022-12-09T19:27:14.286Z"
   },
   {
    "duration": 28,
    "start_time": "2022-12-09T19:28:46.835Z"
   },
   {
    "duration": 21,
    "start_time": "2022-12-09T19:28:49.446Z"
   },
   {
    "duration": 4,
    "start_time": "2022-12-09T19:30:56.020Z"
   },
   {
    "duration": 8,
    "start_time": "2022-12-09T19:30:58.810Z"
   },
   {
    "duration": 90,
    "start_time": "2022-12-09T19:34:47.885Z"
   },
   {
    "duration": 8,
    "start_time": "2022-12-09T19:34:51.416Z"
   },
   {
    "duration": 10,
    "start_time": "2022-12-09T19:35:14.931Z"
   },
   {
    "duration": 4,
    "start_time": "2022-12-09T19:35:40.546Z"
   },
   {
    "duration": 8,
    "start_time": "2022-12-09T19:35:45.179Z"
   },
   {
    "duration": 11,
    "start_time": "2022-12-09T19:35:58.442Z"
   },
   {
    "duration": 5,
    "start_time": "2022-12-09T19:40:46.231Z"
   },
   {
    "duration": 8,
    "start_time": "2022-12-09T19:40:49.255Z"
   },
   {
    "duration": 9,
    "start_time": "2022-12-09T19:42:10.072Z"
   },
   {
    "duration": 128,
    "start_time": "2022-12-09T19:50:06.717Z"
   },
   {
    "duration": 5,
    "start_time": "2022-12-09T19:50:16.014Z"
   },
   {
    "duration": 8,
    "start_time": "2022-12-09T19:50:20.501Z"
   },
   {
    "duration": 3,
    "start_time": "2022-12-09T19:52:28.360Z"
   },
   {
    "duration": 8,
    "start_time": "2022-12-09T19:52:31.206Z"
   },
   {
    "duration": 6,
    "start_time": "2022-12-09T19:57:01.858Z"
   },
   {
    "duration": 7,
    "start_time": "2022-12-09T19:57:16.730Z"
   },
   {
    "duration": 10,
    "start_time": "2022-12-09T19:57:21.401Z"
   },
   {
    "duration": 10,
    "start_time": "2022-12-09T19:57:31.597Z"
   },
   {
    "duration": 1663,
    "start_time": "2022-12-09T20:15:40.015Z"
   },
   {
    "duration": 802,
    "start_time": "2022-12-09T20:15:41.679Z"
   },
   {
    "duration": 11,
    "start_time": "2022-12-09T20:15:42.483Z"
   },
   {
    "duration": 9,
    "start_time": "2022-12-09T20:15:42.496Z"
   },
   {
    "duration": 6,
    "start_time": "2022-12-09T20:15:42.506Z"
   },
   {
    "duration": 23,
    "start_time": "2022-12-09T20:15:42.513Z"
   },
   {
    "duration": 149,
    "start_time": "2022-12-09T20:15:42.538Z"
   },
   {
    "duration": 92,
    "start_time": "2022-12-09T20:15:42.689Z"
   },
   {
    "duration": 445,
    "start_time": "2022-12-09T20:15:42.782Z"
   },
   {
    "duration": 194,
    "start_time": "2022-12-09T20:15:43.229Z"
   },
   {
    "duration": 97,
    "start_time": "2022-12-09T20:15:43.424Z"
   },
   {
    "duration": 168,
    "start_time": "2022-12-09T20:15:43.523Z"
   },
   {
    "duration": 456,
    "start_time": "2022-12-09T20:15:43.692Z"
   },
   {
    "duration": 871,
    "start_time": "2022-12-09T20:15:44.149Z"
   },
   {
    "duration": 46,
    "start_time": "2022-12-09T20:15:45.022Z"
   },
   {
    "duration": 3,
    "start_time": "2022-12-09T20:15:45.070Z"
   },
   {
    "duration": 55,
    "start_time": "2022-12-09T20:15:45.075Z"
   },
   {
    "duration": 91,
    "start_time": "2022-12-09T20:15:45.132Z"
   },
   {
    "duration": 99,
    "start_time": "2022-12-09T20:15:45.225Z"
   },
   {
    "duration": 28,
    "start_time": "2022-12-09T20:15:45.326Z"
   },
   {
    "duration": 201,
    "start_time": "2022-12-09T20:15:45.356Z"
   },
   {
    "duration": 6,
    "start_time": "2022-12-09T20:15:45.559Z"
   },
   {
    "duration": 285,
    "start_time": "2022-12-09T20:15:45.567Z"
   },
   {
    "duration": 38,
    "start_time": "2022-12-09T20:15:45.853Z"
   },
   {
    "duration": 5,
    "start_time": "2022-12-09T20:15:45.905Z"
   },
   {
    "duration": 6,
    "start_time": "2022-12-09T20:15:45.912Z"
   },
   {
    "duration": 14,
    "start_time": "2022-12-09T20:15:45.919Z"
   },
   {
    "duration": 15,
    "start_time": "2022-12-09T20:15:45.937Z"
   },
   {
    "duration": 404,
    "start_time": "2022-12-09T20:15:45.954Z"
   },
   {
    "duration": 74,
    "start_time": "2022-12-09T20:15:46.360Z"
   },
   {
    "duration": 3,
    "start_time": "2022-12-09T20:15:46.436Z"
   },
   {
    "duration": 5,
    "start_time": "2022-12-09T20:15:46.440Z"
   },
   {
    "duration": 17,
    "start_time": "2022-12-09T20:15:46.447Z"
   },
   {
    "duration": 10,
    "start_time": "2022-12-09T20:15:46.466Z"
   },
   {
    "duration": 59,
    "start_time": "2022-12-09T20:15:46.505Z"
   },
   {
    "duration": 78,
    "start_time": "2022-12-09T20:15:46.566Z"
   },
   {
    "duration": 3,
    "start_time": "2022-12-09T20:15:46.645Z"
   },
   {
    "duration": 8,
    "start_time": "2022-12-09T20:15:46.650Z"
   },
   {
    "duration": 5,
    "start_time": "2022-12-09T20:15:46.659Z"
   },
   {
    "duration": 1342,
    "start_time": "2022-12-09T20:15:46.665Z"
   },
   {
    "duration": 3,
    "start_time": "2022-12-09T20:15:48.009Z"
   },
   {
    "duration": 7,
    "start_time": "2022-12-09T20:15:48.014Z"
   },
   {
    "duration": 7,
    "start_time": "2022-12-09T20:15:48.023Z"
   },
   {
    "duration": 20482,
    "start_time": "2022-12-09T20:15:48.032Z"
   },
   {
    "duration": 3,
    "start_time": "2022-12-09T20:16:08.516Z"
   },
   {
    "duration": 553,
    "start_time": "2022-12-09T20:16:08.520Z"
   },
   {
    "duration": 3,
    "start_time": "2022-12-09T20:16:09.074Z"
   },
   {
    "duration": 6,
    "start_time": "2022-12-09T20:16:09.079Z"
   },
   {
    "duration": 198060,
    "start_time": "2022-12-09T20:16:09.086Z"
   },
   {
    "duration": 2311,
    "start_time": "2022-12-09T20:19:27.148Z"
   },
   {
    "duration": 638,
    "start_time": "2022-12-09T20:19:29.460Z"
   },
   {
    "duration": 4,
    "start_time": "2022-12-09T20:19:30.100Z"
   },
   {
    "duration": 20,
    "start_time": "2022-12-09T20:19:30.106Z"
   },
   {
    "duration": 4682,
    "start_time": "2022-12-09T20:19:30.129Z"
   },
   {
    "duration": 49507,
    "start_time": "2022-12-09T20:19:34.812Z"
   },
   {
    "duration": 293,
    "start_time": "2022-12-09T20:20:24.321Z"
   },
   {
    "duration": 101,
    "start_time": "2022-12-09T20:20:24.616Z"
   },
   {
    "duration": 101222,
    "start_time": "2022-12-09T20:20:24.804Z"
   },
   {
    "duration": 406,
    "start_time": "2022-12-09T20:22:06.028Z"
   },
   {
    "duration": 178,
    "start_time": "2022-12-09T20:22:06.436Z"
   },
   {
    "duration": 10,
    "start_time": "2022-12-09T20:22:06.616Z"
   },
   {
    "duration": 79,
    "start_time": "2022-12-09T20:22:06.627Z"
   },
   {
    "duration": 5,
    "start_time": "2022-12-09T20:22:06.707Z"
   },
   {
    "duration": 5,
    "start_time": "2022-12-09T20:22:06.713Z"
   },
   {
    "duration": 817,
    "start_time": "2022-12-09T20:22:06.720Z"
   },
   {
    "duration": 9,
    "start_time": "2022-12-09T20:22:07.539Z"
   },
   {
    "duration": 106,
    "start_time": "2022-12-09T20:22:07.550Z"
   },
   {
    "duration": 2,
    "start_time": "2022-12-09T20:22:07.658Z"
   },
   {
    "duration": 11,
    "start_time": "2022-12-09T20:22:07.662Z"
   },
   {
    "duration": 2733,
    "start_time": "2022-12-09T20:22:07.674Z"
   },
   {
    "duration": 797,
    "start_time": "2022-12-09T20:22:10.409Z"
   },
   {
    "duration": 297,
    "start_time": "2022-12-09T20:22:11.207Z"
   },
   {
    "duration": 5,
    "start_time": "2022-12-09T20:22:11.506Z"
   },
   {
    "duration": 13,
    "start_time": "2022-12-09T20:22:11.512Z"
   },
   {
    "duration": 113,
    "start_time": "2022-12-09T20:22:11.527Z"
   },
   {
    "duration": 4,
    "start_time": "2022-12-09T20:22:11.642Z"
   },
   {
    "duration": 303,
    "start_time": "2022-12-09T20:22:11.647Z"
   },
   {
    "duration": 3,
    "start_time": "2022-12-09T20:22:11.952Z"
   },
   {
    "duration": 63879,
    "start_time": "2022-12-09T20:22:11.956Z"
   },
   {
    "duration": 953,
    "start_time": "2022-12-09T20:23:15.837Z"
   },
   {
    "duration": 325,
    "start_time": "2022-12-09T20:23:16.792Z"
   },
   {
    "duration": 3,
    "start_time": "2022-12-09T20:23:17.122Z"
   },
   {
    "duration": 61366,
    "start_time": "2022-12-09T20:23:17.127Z"
   },
   {
    "duration": 646,
    "start_time": "2022-12-09T20:24:18.495Z"
   },
   {
    "duration": 235,
    "start_time": "2022-12-09T20:24:19.143Z"
   },
   {
    "duration": 4,
    "start_time": "2022-12-09T20:24:19.380Z"
   },
   {
    "duration": 20,
    "start_time": "2022-12-09T20:24:19.385Z"
   },
   {
    "duration": 604,
    "start_time": "2022-12-09T20:24:19.407Z"
   },
   {
    "duration": 109,
    "start_time": "2022-12-09T20:24:20.012Z"
   },
   {
    "duration": 297,
    "start_time": "2022-12-09T20:24:20.122Z"
   },
   {
    "duration": 278,
    "start_time": "2022-12-09T20:24:20.421Z"
   },
   {
    "duration": 6,
    "start_time": "2022-12-09T20:24:20.704Z"
   },
   {
    "duration": 10,
    "start_time": "2022-12-09T20:24:20.712Z"
   },
   {
    "duration": 13,
    "start_time": "2022-12-09T20:24:20.724Z"
   },
   {
    "duration": 68,
    "start_time": "2022-12-09T20:24:20.739Z"
   },
   {
    "duration": 4,
    "start_time": "2022-12-09T20:42:26.468Z"
   },
   {
    "duration": 12,
    "start_time": "2022-12-09T20:42:30.167Z"
   },
   {
    "duration": 15,
    "start_time": "2022-12-09T20:44:42.558Z"
   },
   {
    "duration": 4,
    "start_time": "2022-12-09T20:49:10.689Z"
   },
   {
    "duration": 8,
    "start_time": "2022-12-09T20:49:14.815Z"
   },
   {
    "duration": 4,
    "start_time": "2022-12-09T20:51:52.010Z"
   },
   {
    "duration": 8,
    "start_time": "2022-12-09T20:51:55.387Z"
   },
   {
    "duration": 8,
    "start_time": "2022-12-09T20:56:55.195Z"
   },
   {
    "duration": 9,
    "start_time": "2022-12-09T20:56:58.527Z"
   },
   {
    "duration": 11,
    "start_time": "2022-12-09T20:57:03.228Z"
   },
   {
    "duration": 114,
    "start_time": "2022-12-09T21:11:48.280Z"
   },
   {
    "duration": 15,
    "start_time": "2022-12-09T21:12:40.426Z"
   },
   {
    "duration": 110,
    "start_time": "2022-12-09T21:13:33.658Z"
   },
   {
    "duration": 1763,
    "start_time": "2022-12-09T21:13:47.899Z"
   },
   {
    "duration": 895,
    "start_time": "2022-12-09T21:13:49.664Z"
   },
   {
    "duration": 11,
    "start_time": "2022-12-09T21:13:50.561Z"
   },
   {
    "duration": 40,
    "start_time": "2022-12-09T21:13:50.575Z"
   },
   {
    "duration": 31,
    "start_time": "2022-12-09T21:13:50.617Z"
   },
   {
    "duration": 53,
    "start_time": "2022-12-09T21:13:50.650Z"
   },
   {
    "duration": 143,
    "start_time": "2022-12-09T21:13:50.705Z"
   },
   {
    "duration": 104,
    "start_time": "2022-12-09T21:13:50.849Z"
   },
   {
    "duration": 453,
    "start_time": "2022-12-09T21:13:50.954Z"
   },
   {
    "duration": 202,
    "start_time": "2022-12-09T21:13:51.409Z"
   },
   {
    "duration": 114,
    "start_time": "2022-12-09T21:13:51.612Z"
   },
   {
    "duration": 179,
    "start_time": "2022-12-09T21:13:51.728Z"
   },
   {
    "duration": 450,
    "start_time": "2022-12-09T21:13:51.909Z"
   },
   {
    "duration": 862,
    "start_time": "2022-12-09T21:13:52.361Z"
   },
   {
    "duration": 45,
    "start_time": "2022-12-09T21:13:53.225Z"
   },
   {
    "duration": 3,
    "start_time": "2022-12-09T21:13:53.272Z"
   },
   {
    "duration": 53,
    "start_time": "2022-12-09T21:13:53.277Z"
   },
   {
    "duration": 92,
    "start_time": "2022-12-09T21:13:53.332Z"
   },
   {
    "duration": 114,
    "start_time": "2022-12-09T21:13:53.426Z"
   },
   {
    "duration": 26,
    "start_time": "2022-12-09T21:13:53.542Z"
   },
   {
    "duration": 182,
    "start_time": "2022-12-09T21:13:53.570Z"
   },
   {
    "duration": 6,
    "start_time": "2022-12-09T21:13:53.754Z"
   },
   {
    "duration": 254,
    "start_time": "2022-12-09T21:13:53.762Z"
   },
   {
    "duration": 35,
    "start_time": "2022-12-09T21:13:54.017Z"
   },
   {
    "duration": 5,
    "start_time": "2022-12-09T21:13:54.054Z"
   },
   {
    "duration": 12,
    "start_time": "2022-12-09T21:13:54.061Z"
   },
   {
    "duration": 36,
    "start_time": "2022-12-09T21:13:54.075Z"
   },
   {
    "duration": 16,
    "start_time": "2022-12-09T21:13:54.115Z"
   },
   {
    "duration": 120,
    "start_time": "2022-12-09T21:13:54.133Z"
   },
   {
    "duration": 385,
    "start_time": "2022-12-09T21:13:54.255Z"
   },
   {
    "duration": 73,
    "start_time": "2022-12-09T21:13:54.642Z"
   },
   {
    "duration": 11,
    "start_time": "2022-12-09T21:13:54.716Z"
   },
   {
    "duration": 19,
    "start_time": "2022-12-09T21:13:54.729Z"
   },
   {
    "duration": 35,
    "start_time": "2022-12-09T21:13:54.750Z"
   },
   {
    "duration": 11,
    "start_time": "2022-12-09T21:13:54.786Z"
   },
   {
    "duration": 68,
    "start_time": "2022-12-09T21:13:54.799Z"
   },
   {
    "duration": 60,
    "start_time": "2022-12-09T21:13:54.870Z"
   },
   {
    "duration": 5,
    "start_time": "2022-12-09T21:13:54.931Z"
   },
   {
    "duration": 27,
    "start_time": "2022-12-09T21:13:54.937Z"
   },
   {
    "duration": 23,
    "start_time": "2022-12-09T21:13:54.966Z"
   },
   {
    "duration": 1241,
    "start_time": "2022-12-09T21:13:54.990Z"
   },
   {
    "duration": 4,
    "start_time": "2022-12-09T21:13:56.233Z"
   },
   {
    "duration": 20,
    "start_time": "2022-12-09T21:13:56.238Z"
   },
   {
    "duration": 34,
    "start_time": "2022-12-09T21:13:56.260Z"
   },
   {
    "duration": 19662,
    "start_time": "2022-12-09T21:13:56.296Z"
   },
   {
    "duration": 3,
    "start_time": "2022-12-09T21:14:15.960Z"
   },
   {
    "duration": 537,
    "start_time": "2022-12-09T21:14:15.964Z"
   },
   {
    "duration": 3,
    "start_time": "2022-12-09T21:14:16.504Z"
   },
   {
    "duration": 62,
    "start_time": "2022-12-09T21:14:16.508Z"
   },
   {
    "duration": 196080,
    "start_time": "2022-12-09T21:14:16.571Z"
   },
   {
    "duration": 2206,
    "start_time": "2022-12-09T21:17:32.653Z"
   },
   {
    "duration": 609,
    "start_time": "2022-12-09T21:17:34.861Z"
   },
   {
    "duration": 4,
    "start_time": "2022-12-09T21:17:35.473Z"
   },
   {
    "duration": 11,
    "start_time": "2022-12-09T21:17:35.479Z"
   },
   {
    "duration": 4603,
    "start_time": "2022-12-09T21:17:35.504Z"
   },
   {
    "duration": 50509,
    "start_time": "2022-12-09T21:17:40.109Z"
   },
   {
    "duration": 299,
    "start_time": "2022-12-09T21:18:30.620Z"
   },
   {
    "duration": 96,
    "start_time": "2022-12-09T21:18:30.921Z"
   },
   {
    "duration": 104607,
    "start_time": "2022-12-09T21:18:31.018Z"
   },
   {
    "duration": 391,
    "start_time": "2022-12-09T21:20:15.627Z"
   },
   {
    "duration": 191,
    "start_time": "2022-12-09T21:20:16.020Z"
   },
   {
    "duration": 10,
    "start_time": "2022-12-09T21:20:16.213Z"
   },
   {
    "duration": 24,
    "start_time": "2022-12-09T21:20:16.224Z"
   },
   {
    "duration": 4,
    "start_time": "2022-12-09T21:20:16.249Z"
   },
   {
    "duration": 4,
    "start_time": "2022-12-09T21:20:16.255Z"
   },
   {
    "duration": 781,
    "start_time": "2022-12-09T21:20:16.260Z"
   },
   {
    "duration": 9,
    "start_time": "2022-12-09T21:20:17.043Z"
   },
   {
    "duration": 102,
    "start_time": "2022-12-09T21:20:17.053Z"
   },
   {
    "duration": 3,
    "start_time": "2022-12-09T21:20:17.156Z"
   },
   {
    "duration": 121,
    "start_time": "2022-12-09T21:20:17.161Z"
   },
   {
    "duration": 2836,
    "start_time": "2022-12-09T21:20:17.284Z"
   },
   {
    "duration": 904,
    "start_time": "2022-12-09T21:20:20.122Z"
   },
   {
    "duration": 293,
    "start_time": "2022-12-09T21:20:21.028Z"
   },
   {
    "duration": 83,
    "start_time": "2022-12-09T21:20:21.323Z"
   },
   {
    "duration": 20,
    "start_time": "2022-12-09T21:20:21.408Z"
   },
   {
    "duration": 121,
    "start_time": "2022-12-09T21:20:21.430Z"
   },
   {
    "duration": 4,
    "start_time": "2022-12-09T21:20:21.553Z"
   },
   {
    "duration": 295,
    "start_time": "2022-12-09T21:20:21.558Z"
   },
   {
    "duration": 3,
    "start_time": "2022-12-09T21:20:21.854Z"
   },
   {
    "duration": 63837,
    "start_time": "2022-12-09T21:20:21.859Z"
   },
   {
    "duration": 957,
    "start_time": "2022-12-09T21:21:25.698Z"
   },
   {
    "duration": 330,
    "start_time": "2022-12-09T21:21:26.660Z"
   },
   {
    "duration": 4,
    "start_time": "2022-12-09T21:21:26.991Z"
   },
   {
    "duration": 61778,
    "start_time": "2022-12-09T21:21:27.004Z"
   },
   {
    "duration": 662,
    "start_time": "2022-12-09T21:22:28.784Z"
   },
   {
    "duration": 230,
    "start_time": "2022-12-09T21:22:29.447Z"
   },
   {
    "duration": 4,
    "start_time": "2022-12-09T21:22:29.678Z"
   },
   {
    "duration": 22,
    "start_time": "2022-12-09T21:22:29.684Z"
   },
   {
    "duration": 643,
    "start_time": "2022-12-09T21:22:29.707Z"
   },
   {
    "duration": 157,
    "start_time": "2022-12-09T21:22:30.352Z"
   },
   {
    "duration": 312,
    "start_time": "2022-12-09T21:22:30.510Z"
   },
   {
    "duration": 272,
    "start_time": "2022-12-09T21:22:30.823Z"
   },
   {
    "duration": 12,
    "start_time": "2022-12-09T21:22:31.097Z"
   },
   {
    "duration": 17,
    "start_time": "2022-12-09T21:22:31.110Z"
   },
   {
    "duration": 13,
    "start_time": "2022-12-09T21:22:31.128Z"
   },
   {
    "duration": 5,
    "start_time": "2022-12-09T21:26:50.075Z"
   },
   {
    "duration": 9,
    "start_time": "2022-12-09T21:26:53.509Z"
   },
   {
    "duration": 10,
    "start_time": "2022-12-09T21:27:58.435Z"
   },
   {
    "duration": 4,
    "start_time": "2022-12-09T21:30:17.926Z"
   },
   {
    "duration": 8,
    "start_time": "2022-12-09T21:30:22.757Z"
   },
   {
    "duration": 5,
    "start_time": "2022-12-09T21:32:15.765Z"
   },
   {
    "duration": 8,
    "start_time": "2022-12-09T21:32:18.822Z"
   },
   {
    "duration": 9,
    "start_time": "2022-12-09T21:36:38.426Z"
   },
   {
    "duration": 7,
    "start_time": "2022-12-09T21:36:50.337Z"
   },
   {
    "duration": 10,
    "start_time": "2022-12-09T21:36:54.122Z"
   },
   {
    "duration": 1529,
    "start_time": "2022-12-09T21:44:29.813Z"
   },
   {
    "duration": 838,
    "start_time": "2022-12-09T21:44:31.344Z"
   },
   {
    "duration": 10,
    "start_time": "2022-12-09T21:44:32.184Z"
   },
   {
    "duration": 2,
    "start_time": "2022-12-09T21:44:32.204Z"
   },
   {
    "duration": 6,
    "start_time": "2022-12-09T21:44:32.208Z"
   },
   {
    "duration": 21,
    "start_time": "2022-12-09T21:44:32.215Z"
   },
   {
    "duration": 154,
    "start_time": "2022-12-09T21:44:32.237Z"
   },
   {
    "duration": 93,
    "start_time": "2022-12-09T21:44:32.392Z"
   },
   {
    "duration": 437,
    "start_time": "2022-12-09T21:44:32.486Z"
   },
   {
    "duration": 189,
    "start_time": "2022-12-09T21:44:32.926Z"
   },
   {
    "duration": 94,
    "start_time": "2022-12-09T21:44:33.117Z"
   },
   {
    "duration": 150,
    "start_time": "2022-12-09T21:44:33.212Z"
   },
   {
    "duration": 426,
    "start_time": "2022-12-09T21:44:33.363Z"
   },
   {
    "duration": 832,
    "start_time": "2022-12-09T21:44:33.791Z"
   },
   {
    "duration": 43,
    "start_time": "2022-12-09T21:44:34.625Z"
   },
   {
    "duration": 3,
    "start_time": "2022-12-09T21:44:34.670Z"
   },
   {
    "duration": 56,
    "start_time": "2022-12-09T21:44:34.674Z"
   },
   {
    "duration": 87,
    "start_time": "2022-12-09T21:44:34.732Z"
   },
   {
    "duration": 91,
    "start_time": "2022-12-09T21:44:34.821Z"
   },
   {
    "duration": 27,
    "start_time": "2022-12-09T21:44:34.914Z"
   },
   {
    "duration": 186,
    "start_time": "2022-12-09T21:44:34.943Z"
   },
   {
    "duration": 7,
    "start_time": "2022-12-09T21:44:35.130Z"
   },
   {
    "duration": 168,
    "start_time": "2022-12-09T21:44:35.138Z"
   },
   {
    "duration": 35,
    "start_time": "2022-12-09T21:44:35.308Z"
   },
   {
    "duration": 5,
    "start_time": "2022-12-09T21:44:35.344Z"
   },
   {
    "duration": 5,
    "start_time": "2022-12-09T21:44:35.351Z"
   },
   {
    "duration": 6,
    "start_time": "2022-12-09T21:44:35.358Z"
   },
   {
    "duration": 116,
    "start_time": "2022-12-09T21:44:35.368Z"
   },
   {
    "duration": 112,
    "start_time": "2022-12-09T21:44:35.486Z"
   },
   {
    "duration": 371,
    "start_time": "2022-12-09T21:44:35.604Z"
   },
   {
    "duration": 75,
    "start_time": "2022-12-09T21:44:35.976Z"
   },
   {
    "duration": 3,
    "start_time": "2022-12-09T21:44:36.053Z"
   },
   {
    "duration": 5,
    "start_time": "2022-12-09T21:44:36.057Z"
   },
   {
    "duration": 20,
    "start_time": "2022-12-09T21:44:36.064Z"
   },
   {
    "duration": 23,
    "start_time": "2022-12-09T21:44:36.086Z"
   },
   {
    "duration": 68,
    "start_time": "2022-12-09T21:44:36.110Z"
   },
   {
    "duration": 71,
    "start_time": "2022-12-09T21:44:36.180Z"
   },
   {
    "duration": 4,
    "start_time": "2022-12-09T21:44:36.252Z"
   },
   {
    "duration": 6,
    "start_time": "2022-12-09T21:44:36.257Z"
   },
   {
    "duration": 3,
    "start_time": "2022-12-09T21:44:36.265Z"
   },
   {
    "duration": 1204,
    "start_time": "2022-12-09T21:44:36.269Z"
   },
   {
    "duration": 4,
    "start_time": "2022-12-09T21:44:37.474Z"
   },
   {
    "duration": 4,
    "start_time": "2022-12-09T21:44:37.480Z"
   },
   {
    "duration": 8,
    "start_time": "2022-12-09T21:44:37.485Z"
   },
   {
    "duration": 19634,
    "start_time": "2022-12-09T21:44:37.494Z"
   },
   {
    "duration": 3,
    "start_time": "2022-12-09T21:44:57.130Z"
   },
   {
    "duration": 554,
    "start_time": "2022-12-09T21:44:57.135Z"
   },
   {
    "duration": 3,
    "start_time": "2022-12-09T21:44:57.691Z"
   },
   {
    "duration": 2,
    "start_time": "2022-12-09T21:44:57.704Z"
   },
   {
    "duration": 195297,
    "start_time": "2022-12-09T21:44:57.708Z"
   },
   {
    "duration": 2189,
    "start_time": "2022-12-09T21:48:13.006Z"
   },
   {
    "duration": 582,
    "start_time": "2022-12-09T21:48:15.205Z"
   },
   {
    "duration": 5,
    "start_time": "2022-12-09T21:48:15.788Z"
   },
   {
    "duration": 9,
    "start_time": "2022-12-09T21:48:15.804Z"
   },
   {
    "duration": 5692,
    "start_time": "2022-12-09T21:48:15.814Z"
   },
   {
    "duration": 50010,
    "start_time": "2022-12-09T21:48:21.507Z"
   },
   {
    "duration": 298,
    "start_time": "2022-12-09T21:49:11.519Z"
   },
   {
    "duration": 97,
    "start_time": "2022-12-09T21:49:11.819Z"
   },
   {
    "duration": 102193,
    "start_time": "2022-12-09T21:49:11.918Z"
   },
   {
    "duration": 396,
    "start_time": "2022-12-09T21:50:54.113Z"
   },
   {
    "duration": 110,
    "start_time": "2022-12-09T21:50:54.510Z"
   },
   {
    "duration": 83,
    "start_time": "2022-12-09T21:50:54.622Z"
   },
   {
    "duration": 20,
    "start_time": "2022-12-09T21:50:54.707Z"
   },
   {
    "duration": 4,
    "start_time": "2022-12-09T21:50:54.728Z"
   },
   {
    "duration": 16,
    "start_time": "2022-12-09T21:50:54.733Z"
   },
   {
    "duration": 756,
    "start_time": "2022-12-09T21:50:54.751Z"
   },
   {
    "duration": 10,
    "start_time": "2022-12-09T21:50:55.509Z"
   },
   {
    "duration": 112,
    "start_time": "2022-12-09T21:50:55.521Z"
   },
   {
    "duration": 3,
    "start_time": "2022-12-09T21:50:55.634Z"
   },
   {
    "duration": 24,
    "start_time": "2022-12-09T21:50:55.638Z"
   },
   {
    "duration": 3150,
    "start_time": "2022-12-09T21:50:55.663Z"
   },
   {
    "duration": 904,
    "start_time": "2022-12-09T21:50:58.814Z"
   },
   {
    "duration": 309,
    "start_time": "2022-12-09T21:50:59.720Z"
   },
   {
    "duration": 75,
    "start_time": "2022-12-09T21:51:00.031Z"
   },
   {
    "duration": 15,
    "start_time": "2022-12-09T21:51:00.108Z"
   },
   {
    "duration": 129,
    "start_time": "2022-12-09T21:51:00.125Z"
   },
   {
    "duration": 4,
    "start_time": "2022-12-09T21:51:00.256Z"
   },
   {
    "duration": 321,
    "start_time": "2022-12-09T21:51:00.261Z"
   },
   {
    "duration": 4,
    "start_time": "2022-12-09T21:51:00.583Z"
   },
   {
    "duration": 64714,
    "start_time": "2022-12-09T21:51:00.589Z"
   },
   {
    "duration": 974,
    "start_time": "2022-12-09T21:52:05.304Z"
   },
   {
    "duration": 335,
    "start_time": "2022-12-09T21:52:06.283Z"
   },
   {
    "duration": 3,
    "start_time": "2022-12-09T21:52:06.619Z"
   },
   {
    "duration": 61850,
    "start_time": "2022-12-09T21:52:06.624Z"
   },
   {
    "duration": 643,
    "start_time": "2022-12-09T21:53:08.476Z"
   },
   {
    "duration": 225,
    "start_time": "2022-12-09T21:53:09.120Z"
   },
   {
    "duration": 4,
    "start_time": "2022-12-09T21:53:09.347Z"
   },
   {
    "duration": 10,
    "start_time": "2022-12-09T21:53:09.353Z"
   },
   {
    "duration": 639,
    "start_time": "2022-12-09T21:53:09.365Z"
   },
   {
    "duration": 107,
    "start_time": "2022-12-09T21:53:10.006Z"
   },
   {
    "duration": 302,
    "start_time": "2022-12-09T21:53:10.115Z"
   },
   {
    "duration": 299,
    "start_time": "2022-12-09T21:53:10.419Z"
   },
   {
    "duration": 7,
    "start_time": "2022-12-09T21:53:10.720Z"
   },
   {
    "duration": 23,
    "start_time": "2022-12-09T21:53:10.728Z"
   },
   {
    "duration": 36,
    "start_time": "2022-12-09T21:53:10.753Z"
   },
   {
    "duration": 2055,
    "start_time": "2022-12-11T07:25:38.054Z"
   },
   {
    "duration": 2829,
    "start_time": "2022-12-11T07:25:50.402Z"
   },
   {
    "duration": 13,
    "start_time": "2022-12-11T07:25:53.233Z"
   },
   {
    "duration": 2,
    "start_time": "2022-12-11T07:28:02.027Z"
   },
   {
    "duration": 3,
    "start_time": "2022-12-11T07:28:03.458Z"
   },
   {
    "duration": 19,
    "start_time": "2022-12-11T07:28:05.819Z"
   },
   {
    "duration": 129,
    "start_time": "2022-12-11T07:28:18.399Z"
   },
   {
    "duration": 193,
    "start_time": "2022-12-11T07:29:28.305Z"
   },
   {
    "duration": 84,
    "start_time": "2022-12-11T07:29:31.298Z"
   },
   {
    "duration": 129,
    "start_time": "2022-12-11T07:33:02.497Z"
   },
   {
    "duration": 432,
    "start_time": "2022-12-11T07:33:04.967Z"
   },
   {
    "duration": 99,
    "start_time": "2022-12-11T07:33:55.592Z"
   },
   {
    "duration": 784,
    "start_time": "2022-12-11T07:34:01.346Z"
   },
   {
    "duration": 54,
    "start_time": "2022-12-11T07:34:26.211Z"
   },
   {
    "duration": 3,
    "start_time": "2022-12-11T07:36:56.104Z"
   },
   {
    "duration": 29,
    "start_time": "2022-12-11T07:37:01.225Z"
   },
   {
    "duration": 64,
    "start_time": "2022-12-11T07:37:02.073Z"
   },
   {
    "duration": 67,
    "start_time": "2022-12-11T07:38:06.587Z"
   },
   {
    "duration": 87,
    "start_time": "2022-12-11T07:38:11.631Z"
   },
   {
    "duration": 26,
    "start_time": "2022-12-11T07:38:17.746Z"
   },
   {
    "duration": 168,
    "start_time": "2022-12-11T07:38:41.036Z"
   },
   {
    "duration": 7,
    "start_time": "2022-12-11T07:39:03.703Z"
   },
   {
    "duration": 166,
    "start_time": "2022-12-11T07:39:05.769Z"
   },
   {
    "duration": 31,
    "start_time": "2022-12-11T07:39:21.583Z"
   },
   {
    "duration": 5,
    "start_time": "2022-12-11T07:40:03.041Z"
   },
   {
    "duration": 17,
    "start_time": "2022-12-11T07:40:12.542Z"
   },
   {
    "duration": 4,
    "start_time": "2022-12-11T07:40:20.668Z"
   },
   {
    "duration": 6,
    "start_time": "2022-12-11T07:40:28.306Z"
   },
   {
    "duration": 7,
    "start_time": "2022-12-11T07:40:29.977Z"
   },
   {
    "duration": 13,
    "start_time": "2022-12-11T07:40:41.170Z"
   },
   {
    "duration": 7,
    "start_time": "2022-12-11T07:40:50.437Z"
   },
   {
    "duration": 794,
    "start_time": "2022-12-11T07:40:50.446Z"
   },
   {
    "duration": 92,
    "start_time": "2022-12-11T07:40:51.242Z"
   },
   {
    "duration": 11,
    "start_time": "2022-12-11T07:40:51.336Z"
   },
   {
    "duration": 11,
    "start_time": "2022-12-11T07:40:51.349Z"
   },
   {
    "duration": 22,
    "start_time": "2022-12-11T07:40:51.362Z"
   },
   {
    "duration": 118,
    "start_time": "2022-12-11T07:40:51.385Z"
   },
   {
    "duration": 87,
    "start_time": "2022-12-11T07:40:51.505Z"
   },
   {
    "duration": 356,
    "start_time": "2022-12-11T07:40:51.593Z"
   },
   {
    "duration": 162,
    "start_time": "2022-12-11T07:40:51.952Z"
   },
   {
    "duration": 85,
    "start_time": "2022-12-11T07:40:52.115Z"
   },
   {
    "duration": 136,
    "start_time": "2022-12-11T07:40:52.201Z"
   },
   {
    "duration": 388,
    "start_time": "2022-12-11T07:40:52.339Z"
   },
   {
    "duration": 706,
    "start_time": "2022-12-11T07:40:52.729Z"
   },
   {
    "duration": 56,
    "start_time": "2022-12-11T07:40:53.437Z"
   },
   {
    "duration": 3,
    "start_time": "2022-12-11T07:40:53.495Z"
   },
   {
    "duration": 33,
    "start_time": "2022-12-11T07:40:53.499Z"
   },
   {
    "duration": 75,
    "start_time": "2022-12-11T07:40:53.534Z"
   },
   {
    "duration": 96,
    "start_time": "2022-12-11T07:40:53.611Z"
   },
   {
    "duration": 28,
    "start_time": "2022-12-11T07:40:53.709Z"
   },
   {
    "duration": 181,
    "start_time": "2022-12-11T07:40:53.738Z"
   },
   {
    "duration": 8,
    "start_time": "2022-12-11T07:40:53.920Z"
   },
   {
    "duration": 204,
    "start_time": "2022-12-11T07:40:53.930Z"
   },
   {
    "duration": 30,
    "start_time": "2022-12-11T07:40:54.136Z"
   },
   {
    "duration": 6,
    "start_time": "2022-12-11T07:40:54.177Z"
   },
   {
    "duration": 9,
    "start_time": "2022-12-11T07:40:54.184Z"
   },
   {
    "duration": 9,
    "start_time": "2022-12-11T07:40:54.195Z"
   },
   {
    "duration": 19,
    "start_time": "2022-12-11T07:40:54.206Z"
   },
   {
    "duration": 5,
    "start_time": "2022-12-11T07:41:12.556Z"
   },
   {
    "duration": 15,
    "start_time": "2022-12-11T07:41:44.058Z"
   },
   {
    "duration": 115,
    "start_time": "2022-12-11T07:42:13.994Z"
   },
   {
    "duration": 337,
    "start_time": "2022-12-11T07:46:11.744Z"
   },
   {
    "duration": 16,
    "start_time": "2022-12-11T07:47:58.625Z"
   },
   {
    "duration": 14,
    "start_time": "2022-12-11T07:47:58.993Z"
   },
   {
    "duration": 102,
    "start_time": "2022-12-11T07:48:00.701Z"
   },
   {
    "duration": 4,
    "start_time": "2022-12-11T07:48:05.712Z"
   },
   {
    "duration": 56,
    "start_time": "2022-12-11T07:48:08.316Z"
   },
   {
    "duration": 54,
    "start_time": "2022-12-11T07:48:14.747Z"
   },
   {
    "duration": 3,
    "start_time": "2022-12-11T07:48:18.468Z"
   },
   {
    "duration": 3,
    "start_time": "2022-12-11T07:50:05.399Z"
   },
   {
    "duration": 12,
    "start_time": "2022-12-11T07:56:26.542Z"
   },
   {
    "duration": 1470,
    "start_time": "2022-12-11T07:56:30.505Z"
   },
   {
    "duration": 6,
    "start_time": "2022-12-11T07:56:46.783Z"
   },
   {
    "duration": 5,
    "start_time": "2022-12-11T07:56:51.475Z"
   },
   {
    "duration": 4,
    "start_time": "2022-12-11T07:57:04.254Z"
   },
   {
    "duration": 49,
    "start_time": "2022-12-11T11:07:45.967Z"
   },
   {
    "duration": 1785,
    "start_time": "2022-12-11T11:08:00.311Z"
   },
   {
    "duration": 1104,
    "start_time": "2022-12-11T11:08:02.098Z"
   },
   {
    "duration": 11,
    "start_time": "2022-12-11T11:08:03.204Z"
   },
   {
    "duration": 15,
    "start_time": "2022-12-11T11:08:03.217Z"
   },
   {
    "duration": 11,
    "start_time": "2022-12-11T11:08:03.234Z"
   },
   {
    "duration": 28,
    "start_time": "2022-12-11T11:08:03.247Z"
   },
   {
    "duration": 132,
    "start_time": "2022-12-11T11:08:03.277Z"
   },
   {
    "duration": 103,
    "start_time": "2022-12-11T11:08:03.411Z"
   },
   {
    "duration": 27,
    "start_time": "2022-12-11T11:08:07.575Z"
   },
   {
    "duration": 63,
    "start_time": "2022-12-11T11:10:05.006Z"
   },
   {
    "duration": 65,
    "start_time": "2022-12-11T11:11:46.442Z"
   },
   {
    "duration": 53,
    "start_time": "2022-12-11T11:19:23.254Z"
   },
   {
    "duration": 47,
    "start_time": "2022-12-11T11:19:54.759Z"
   },
   {
    "duration": 46,
    "start_time": "2022-12-11T11:22:43.800Z"
   },
   {
    "duration": 66,
    "start_time": "2022-12-11T11:23:12.901Z"
   },
   {
    "duration": 9,
    "start_time": "2022-12-11T11:30:45.204Z"
   },
   {
    "duration": 895,
    "start_time": "2022-12-11T11:30:45.214Z"
   },
   {
    "duration": 14,
    "start_time": "2022-12-11T11:30:46.111Z"
   },
   {
    "duration": 13,
    "start_time": "2022-12-11T11:30:46.127Z"
   },
   {
    "duration": 10,
    "start_time": "2022-12-11T11:30:46.142Z"
   },
   {
    "duration": 26,
    "start_time": "2022-12-11T11:30:46.154Z"
   },
   {
    "duration": 161,
    "start_time": "2022-12-11T11:30:46.181Z"
   },
   {
    "duration": 98,
    "start_time": "2022-12-11T11:30:46.344Z"
   },
   {
    "duration": 45,
    "start_time": "2022-12-11T11:30:46.445Z"
   },
   {
    "duration": 520,
    "start_time": "2022-12-11T11:30:46.492Z"
   },
   {
    "duration": 204,
    "start_time": "2022-12-11T11:30:47.014Z"
   },
   {
    "duration": 107,
    "start_time": "2022-12-11T11:30:47.219Z"
   },
   {
    "duration": 193,
    "start_time": "2022-12-11T11:30:47.328Z"
   },
   {
    "duration": 429,
    "start_time": "2022-12-11T11:30:47.523Z"
   },
   {
    "duration": 813,
    "start_time": "2022-12-11T11:30:47.954Z"
   },
   {
    "duration": 68,
    "start_time": "2022-12-11T11:30:48.770Z"
   },
   {
    "duration": 3,
    "start_time": "2022-12-11T11:30:48.840Z"
   },
   {
    "duration": 65,
    "start_time": "2022-12-11T11:30:48.845Z"
   },
   {
    "duration": 133,
    "start_time": "2022-12-11T11:30:48.911Z"
   },
   {
    "duration": 108,
    "start_time": "2022-12-11T11:30:49.045Z"
   },
   {
    "duration": 26,
    "start_time": "2022-12-11T11:30:49.155Z"
   },
   {
    "duration": 222,
    "start_time": "2022-12-11T11:30:49.183Z"
   },
   {
    "duration": 15,
    "start_time": "2022-12-11T11:30:49.407Z"
   },
   {
    "duration": 247,
    "start_time": "2022-12-11T11:30:49.425Z"
   },
   {
    "duration": 31,
    "start_time": "2022-12-11T11:30:49.674Z"
   },
   {
    "duration": 7,
    "start_time": "2022-12-11T11:30:49.722Z"
   },
   {
    "duration": 43,
    "start_time": "2022-12-11T11:30:49.731Z"
   },
   {
    "duration": 36,
    "start_time": "2022-12-11T11:30:49.776Z"
   },
   {
    "duration": 23,
    "start_time": "2022-12-11T11:30:49.814Z"
   },
   {
    "duration": 34,
    "start_time": "2022-12-11T11:30:49.839Z"
   },
   {
    "duration": 130,
    "start_time": "2022-12-11T11:30:49.875Z"
   },
   {
    "duration": 42,
    "start_time": "2022-12-11T11:30:53.668Z"
   },
   {
    "duration": 355,
    "start_time": "2022-12-11T11:31:09.266Z"
   },
   {
    "duration": 840,
    "start_time": "2022-12-11T11:32:39.934Z"
   },
   {
    "duration": 367,
    "start_time": "2022-12-11T11:33:20.669Z"
   },
   {
    "duration": 6,
    "start_time": "2022-12-11T13:21:52.981Z"
   },
   {
    "duration": 763,
    "start_time": "2022-12-11T13:21:52.990Z"
   },
   {
    "duration": 10,
    "start_time": "2022-12-11T13:21:53.754Z"
   },
   {
    "duration": 11,
    "start_time": "2022-12-11T13:21:53.766Z"
   },
   {
    "duration": 7,
    "start_time": "2022-12-11T13:21:53.779Z"
   },
   {
    "duration": 34,
    "start_time": "2022-12-11T13:21:53.788Z"
   },
   {
    "duration": 128,
    "start_time": "2022-12-11T13:21:53.824Z"
   },
   {
    "duration": 91,
    "start_time": "2022-12-11T13:21:53.954Z"
   },
   {
    "duration": 25,
    "start_time": "2022-12-11T13:21:54.047Z"
   },
   {
    "duration": 442,
    "start_time": "2022-12-11T13:21:54.074Z"
   },
   {
    "duration": 198,
    "start_time": "2022-12-11T13:21:54.520Z"
   },
   {
    "duration": 85,
    "start_time": "2022-12-11T13:21:54.720Z"
   },
   {
    "duration": 179,
    "start_time": "2022-12-11T13:21:54.806Z"
   },
   {
    "duration": 393,
    "start_time": "2022-12-11T13:21:54.987Z"
   },
   {
    "duration": 767,
    "start_time": "2022-12-11T13:21:55.382Z"
   },
   {
    "duration": 50,
    "start_time": "2022-12-11T13:21:56.151Z"
   },
   {
    "duration": 3,
    "start_time": "2022-12-11T13:21:56.221Z"
   },
   {
    "duration": 47,
    "start_time": "2022-12-11T13:21:56.225Z"
   },
   {
    "duration": 100,
    "start_time": "2022-12-11T13:21:56.274Z"
   },
   {
    "duration": 107,
    "start_time": "2022-12-11T13:21:56.376Z"
   },
   {
    "duration": 45,
    "start_time": "2022-12-11T13:21:56.485Z"
   },
   {
    "duration": 190,
    "start_time": "2022-12-11T13:21:56.532Z"
   },
   {
    "duration": 9,
    "start_time": "2022-12-11T13:21:56.724Z"
   },
   {
    "duration": 186,
    "start_time": "2022-12-11T13:21:56.735Z"
   },
   {
    "duration": 31,
    "start_time": "2022-12-11T13:21:56.922Z"
   },
   {
    "duration": 7,
    "start_time": "2022-12-11T13:21:56.955Z"
   },
   {
    "duration": 10,
    "start_time": "2022-12-11T13:21:56.963Z"
   },
   {
    "duration": 49,
    "start_time": "2022-12-11T13:21:56.975Z"
   },
   {
    "duration": 17,
    "start_time": "2022-12-11T13:21:57.027Z"
   },
   {
    "duration": 11,
    "start_time": "2022-12-11T13:21:57.045Z"
   },
   {
    "duration": 9,
    "start_time": "2022-12-11T13:21:57.058Z"
   },
   {
    "duration": 410,
    "start_time": "2022-12-11T13:21:57.068Z"
   },
   {
    "duration": 69,
    "start_time": "2022-12-11T13:21:57.480Z"
   },
   {
    "duration": 2,
    "start_time": "2022-12-11T13:21:57.551Z"
   },
   {
    "duration": 15,
    "start_time": "2022-12-11T13:21:57.555Z"
   },
   {
    "duration": 28,
    "start_time": "2022-12-11T13:21:57.571Z"
   },
   {
    "duration": 28,
    "start_time": "2022-12-11T13:21:57.601Z"
   },
   {
    "duration": 57,
    "start_time": "2022-12-11T13:21:57.630Z"
   },
   {
    "duration": 57,
    "start_time": "2022-12-11T13:21:57.689Z"
   },
   {
    "duration": 4,
    "start_time": "2022-12-11T13:21:57.748Z"
   },
   {
    "duration": 172,
    "start_time": "2022-12-11T13:21:57.753Z"
   },
   {
    "duration": 6,
    "start_time": "2022-12-11T13:21:57.928Z"
   },
   {
    "duration": 14,
    "start_time": "2022-12-11T13:22:05.358Z"
   },
   {
    "duration": 10,
    "start_time": "2022-12-11T13:24:58.166Z"
   },
   {
    "duration": 7,
    "start_time": "2022-12-11T13:25:06.689Z"
   },
   {
    "duration": 798,
    "start_time": "2022-12-11T13:25:06.697Z"
   },
   {
    "duration": 10,
    "start_time": "2022-12-11T13:25:07.497Z"
   },
   {
    "duration": 13,
    "start_time": "2022-12-11T13:25:07.509Z"
   },
   {
    "duration": 17,
    "start_time": "2022-12-11T13:25:07.525Z"
   },
   {
    "duration": 16,
    "start_time": "2022-12-11T13:25:07.543Z"
   },
   {
    "duration": 130,
    "start_time": "2022-12-11T13:25:07.561Z"
   },
   {
    "duration": 90,
    "start_time": "2022-12-11T13:25:07.693Z"
   },
   {
    "duration": 51,
    "start_time": "2022-12-11T13:25:07.785Z"
   },
   {
    "duration": 481,
    "start_time": "2022-12-11T13:25:07.837Z"
   },
   {
    "duration": 181,
    "start_time": "2022-12-11T13:25:08.324Z"
   },
   {
    "duration": 119,
    "start_time": "2022-12-11T13:25:08.506Z"
   },
   {
    "duration": 174,
    "start_time": "2022-12-11T13:25:08.626Z"
   },
   {
    "duration": 397,
    "start_time": "2022-12-11T13:25:08.802Z"
   },
   {
    "duration": 771,
    "start_time": "2022-12-11T13:25:09.200Z"
   },
   {
    "duration": 57,
    "start_time": "2022-12-11T13:25:09.973Z"
   },
   {
    "duration": 3,
    "start_time": "2022-12-11T13:25:10.036Z"
   },
   {
    "duration": 61,
    "start_time": "2022-12-11T13:25:10.041Z"
   },
   {
    "duration": 85,
    "start_time": "2022-12-11T13:25:10.103Z"
   },
   {
    "duration": 86,
    "start_time": "2022-12-11T13:25:10.190Z"
   },
   {
    "duration": 29,
    "start_time": "2022-12-11T13:25:10.277Z"
   },
   {
    "duration": 184,
    "start_time": "2022-12-11T13:25:10.307Z"
   },
   {
    "duration": 6,
    "start_time": "2022-12-11T13:25:10.492Z"
   },
   {
    "duration": 176,
    "start_time": "2022-12-11T13:25:10.500Z"
   },
   {
    "duration": 48,
    "start_time": "2022-12-11T13:25:10.678Z"
   },
   {
    "duration": 8,
    "start_time": "2022-12-11T13:25:10.732Z"
   },
   {
    "duration": 14,
    "start_time": "2022-12-11T13:25:10.741Z"
   },
   {
    "duration": 10,
    "start_time": "2022-12-11T13:25:10.757Z"
   },
   {
    "duration": 18,
    "start_time": "2022-12-11T13:25:10.770Z"
   },
   {
    "duration": 10,
    "start_time": "2022-12-11T13:25:10.790Z"
   },
   {
    "duration": 15,
    "start_time": "2022-12-11T13:25:10.801Z"
   },
   {
    "duration": 382,
    "start_time": "2022-12-11T13:25:10.818Z"
   },
   {
    "duration": 79,
    "start_time": "2022-12-11T13:25:11.202Z"
   },
   {
    "duration": 6,
    "start_time": "2022-12-11T13:25:11.283Z"
   },
   {
    "duration": 7,
    "start_time": "2022-12-11T13:25:11.290Z"
   },
   {
    "duration": 29,
    "start_time": "2022-12-11T13:25:11.299Z"
   },
   {
    "duration": 11,
    "start_time": "2022-12-11T13:25:11.330Z"
   },
   {
    "duration": 62,
    "start_time": "2022-12-11T13:25:11.342Z"
   },
   {
    "duration": 50,
    "start_time": "2022-12-11T13:25:11.405Z"
   },
   {
    "duration": 4,
    "start_time": "2022-12-11T13:25:11.457Z"
   },
   {
    "duration": 176,
    "start_time": "2022-12-11T13:25:11.462Z"
   },
   {
    "duration": 6,
    "start_time": "2022-12-11T13:25:11.640Z"
   },
   {
    "duration": 5,
    "start_time": "2022-12-11T13:25:11.647Z"
   },
   {
    "duration": 1321,
    "start_time": "2022-12-11T13:25:25.157Z"
   },
   {
    "duration": 7,
    "start_time": "2022-12-11T13:26:03.011Z"
   },
   {
    "duration": 831,
    "start_time": "2022-12-11T13:26:03.020Z"
   },
   {
    "duration": 115,
    "start_time": "2022-12-11T13:26:03.853Z"
   },
   {
    "duration": 27,
    "start_time": "2022-12-11T13:26:03.970Z"
   },
   {
    "duration": 53,
    "start_time": "2022-12-11T13:26:03.999Z"
   },
   {
    "duration": 56,
    "start_time": "2022-12-11T13:26:04.053Z"
   },
   {
    "duration": 157,
    "start_time": "2022-12-11T13:26:04.110Z"
   },
   {
    "duration": 83,
    "start_time": "2022-12-11T13:26:04.269Z"
   },
   {
    "duration": 25,
    "start_time": "2022-12-11T13:26:04.354Z"
   },
   {
    "duration": 480,
    "start_time": "2022-12-11T13:26:04.381Z"
   },
   {
    "duration": 202,
    "start_time": "2022-12-11T13:26:04.865Z"
   },
   {
    "duration": 96,
    "start_time": "2022-12-11T13:26:05.069Z"
   },
   {
    "duration": 200,
    "start_time": "2022-12-11T13:26:05.167Z"
   },
   {
    "duration": 425,
    "start_time": "2022-12-11T13:26:05.370Z"
   },
   {
    "duration": 838,
    "start_time": "2022-12-11T13:26:05.797Z"
   },
   {
    "duration": 50,
    "start_time": "2022-12-11T13:26:06.637Z"
   },
   {
    "duration": 7,
    "start_time": "2022-12-11T13:26:06.689Z"
   },
   {
    "duration": 46,
    "start_time": "2022-12-11T13:26:06.697Z"
   },
   {
    "duration": 91,
    "start_time": "2022-12-11T13:26:06.744Z"
   },
   {
    "duration": 87,
    "start_time": "2022-12-11T13:26:06.837Z"
   },
   {
    "duration": 29,
    "start_time": "2022-12-11T13:26:06.926Z"
   },
   {
    "duration": 176,
    "start_time": "2022-12-11T13:26:06.957Z"
   },
   {
    "duration": 7,
    "start_time": "2022-12-11T13:26:07.134Z"
   },
   {
    "duration": 166,
    "start_time": "2022-12-11T13:26:07.143Z"
   },
   {
    "duration": 40,
    "start_time": "2022-12-11T13:26:07.311Z"
   },
   {
    "duration": 5,
    "start_time": "2022-12-11T13:26:07.353Z"
   },
   {
    "duration": 5,
    "start_time": "2022-12-11T13:26:07.360Z"
   },
   {
    "duration": 7,
    "start_time": "2022-12-11T13:26:07.366Z"
   },
   {
    "duration": 13,
    "start_time": "2022-12-11T13:26:07.376Z"
   },
   {
    "duration": 46,
    "start_time": "2022-12-11T13:26:07.391Z"
   },
   {
    "duration": 3,
    "start_time": "2022-12-11T13:26:07.438Z"
   },
   {
    "duration": 377,
    "start_time": "2022-12-11T13:26:07.442Z"
   },
   {
    "duration": 67,
    "start_time": "2022-12-11T13:26:07.827Z"
   },
   {
    "duration": 2,
    "start_time": "2022-12-11T13:26:07.896Z"
   },
   {
    "duration": 13,
    "start_time": "2022-12-11T13:26:07.900Z"
   },
   {
    "duration": 37,
    "start_time": "2022-12-11T13:26:07.915Z"
   },
   {
    "duration": 20,
    "start_time": "2022-12-11T13:26:07.954Z"
   },
   {
    "duration": 60,
    "start_time": "2022-12-11T13:26:07.975Z"
   },
   {
    "duration": 42,
    "start_time": "2022-12-11T13:26:08.039Z"
   },
   {
    "duration": 4,
    "start_time": "2022-12-11T13:26:08.083Z"
   },
   {
    "duration": 159,
    "start_time": "2022-12-11T13:26:08.088Z"
   },
   {
    "duration": 8,
    "start_time": "2022-12-11T13:26:08.249Z"
   },
   {
    "duration": 8,
    "start_time": "2022-12-11T13:26:08.259Z"
   },
   {
    "duration": 1340,
    "start_time": "2022-12-11T13:26:15.079Z"
   },
   {
    "duration": 1318,
    "start_time": "2022-12-11T13:30:46.858Z"
   },
   {
    "duration": 171,
    "start_time": "2022-12-11T13:39:35.088Z"
   },
   {
    "duration": 517,
    "start_time": "2022-12-11T13:47:12.274Z"
   },
   {
    "duration": 1217,
    "start_time": "2022-12-11T13:56:49.032Z"
   },
   {
    "duration": 24,
    "start_time": "2022-12-11T13:58:11.387Z"
   },
   {
    "duration": 22,
    "start_time": "2022-12-11T13:58:26.187Z"
   },
   {
    "duration": 7,
    "start_time": "2022-12-11T13:58:31.952Z"
   },
   {
    "duration": 772,
    "start_time": "2022-12-11T13:58:31.961Z"
   },
   {
    "duration": 10,
    "start_time": "2022-12-11T13:58:32.737Z"
   },
   {
    "duration": 12,
    "start_time": "2022-12-11T13:58:32.749Z"
   },
   {
    "duration": 10,
    "start_time": "2022-12-11T13:58:32.763Z"
   },
   {
    "duration": 27,
    "start_time": "2022-12-11T13:58:32.775Z"
   },
   {
    "duration": 164,
    "start_time": "2022-12-11T13:58:32.804Z"
   },
   {
    "duration": 84,
    "start_time": "2022-12-11T13:58:32.969Z"
   },
   {
    "duration": 26,
    "start_time": "2022-12-11T13:58:33.055Z"
   },
   {
    "duration": 483,
    "start_time": "2022-12-11T13:58:33.083Z"
   },
   {
    "duration": 193,
    "start_time": "2022-12-11T13:58:33.569Z"
   },
   {
    "duration": 97,
    "start_time": "2022-12-11T13:58:33.764Z"
   },
   {
    "duration": 163,
    "start_time": "2022-12-11T13:58:33.863Z"
   },
   {
    "duration": 385,
    "start_time": "2022-12-11T13:58:34.028Z"
   },
   {
    "duration": 788,
    "start_time": "2022-12-11T13:58:34.414Z"
   },
   {
    "duration": 52,
    "start_time": "2022-12-11T13:58:35.204Z"
   },
   {
    "duration": 3,
    "start_time": "2022-12-11T13:58:35.257Z"
   },
   {
    "duration": 46,
    "start_time": "2022-12-11T13:58:35.261Z"
   },
   {
    "duration": 116,
    "start_time": "2022-12-11T13:58:35.308Z"
   },
   {
    "duration": 86,
    "start_time": "2022-12-11T13:58:35.432Z"
   },
   {
    "duration": 32,
    "start_time": "2022-12-11T13:58:35.525Z"
   },
   {
    "duration": 207,
    "start_time": "2022-12-11T13:58:35.558Z"
   },
   {
    "duration": 7,
    "start_time": "2022-12-11T13:58:35.767Z"
   },
   {
    "duration": 204,
    "start_time": "2022-12-11T13:58:35.776Z"
   },
   {
    "duration": 40,
    "start_time": "2022-12-11T13:58:35.982Z"
   },
   {
    "duration": 10,
    "start_time": "2022-12-11T13:58:36.024Z"
   },
   {
    "duration": 24,
    "start_time": "2022-12-11T13:58:36.035Z"
   },
   {
    "duration": 11,
    "start_time": "2022-12-11T13:58:36.061Z"
   },
   {
    "duration": 27,
    "start_time": "2022-12-11T13:58:36.074Z"
   },
   {
    "duration": 20,
    "start_time": "2022-12-11T13:58:36.103Z"
   },
   {
    "duration": 26,
    "start_time": "2022-12-11T13:58:36.124Z"
   },
   {
    "duration": 362,
    "start_time": "2022-12-11T13:58:36.152Z"
   },
   {
    "duration": 74,
    "start_time": "2022-12-11T13:58:36.516Z"
   },
   {
    "duration": 9,
    "start_time": "2022-12-11T13:58:36.592Z"
   },
   {
    "duration": 38,
    "start_time": "2022-12-11T13:58:36.602Z"
   },
   {
    "duration": 30,
    "start_time": "2022-12-11T13:58:36.643Z"
   },
   {
    "duration": 17,
    "start_time": "2022-12-11T13:58:36.675Z"
   },
   {
    "duration": 84,
    "start_time": "2022-12-11T13:58:36.693Z"
   },
   {
    "duration": 50,
    "start_time": "2022-12-11T13:58:36.778Z"
   },
   {
    "duration": 4,
    "start_time": "2022-12-11T13:58:36.835Z"
   },
   {
    "duration": 141,
    "start_time": "2022-12-11T13:58:36.840Z"
   },
   {
    "duration": 6,
    "start_time": "2022-12-11T13:58:36.982Z"
   },
   {
    "duration": 7,
    "start_time": "2022-12-11T13:58:36.989Z"
   },
   {
    "duration": 1222,
    "start_time": "2022-12-11T13:58:36.998Z"
   },
   {
    "duration": 32,
    "start_time": "2022-12-11T13:58:42.811Z"
   },
   {
    "duration": 9,
    "start_time": "2022-12-11T13:59:35.484Z"
   },
   {
    "duration": 718,
    "start_time": "2022-12-11T13:59:37.429Z"
   },
   {
    "duration": 16,
    "start_time": "2022-12-11T13:59:38.920Z"
   },
   {
    "duration": 2,
    "start_time": "2022-12-11T13:59:40.402Z"
   },
   {
    "duration": 3,
    "start_time": "2022-12-11T13:59:45.096Z"
   },
   {
    "duration": 16,
    "start_time": "2022-12-11T13:59:46.994Z"
   },
   {
    "duration": 135,
    "start_time": "2022-12-11T13:59:47.874Z"
   },
   {
    "duration": 81,
    "start_time": "2022-12-11T13:59:48.821Z"
   },
   {
    "duration": 34,
    "start_time": "2022-12-11T13:59:49.696Z"
   },
   {
    "duration": 490,
    "start_time": "2022-12-11T13:59:50.451Z"
   },
   {
    "duration": 190,
    "start_time": "2022-12-11T13:59:52.017Z"
   },
   {
    "duration": 96,
    "start_time": "2022-12-11T13:59:53.075Z"
   },
   {
    "duration": 195,
    "start_time": "2022-12-11T13:59:55.562Z"
   },
   {
    "duration": 418,
    "start_time": "2022-12-11T13:59:56.500Z"
   },
   {
    "duration": 813,
    "start_time": "2022-12-11T13:59:59.387Z"
   },
   {
    "duration": 51,
    "start_time": "2022-12-11T14:00:00.312Z"
   },
   {
    "duration": 3,
    "start_time": "2022-12-11T14:00:03.481Z"
   },
   {
    "duration": 46,
    "start_time": "2022-12-11T14:00:05.505Z"
   },
   {
    "duration": 91,
    "start_time": "2022-12-11T14:00:06.707Z"
   },
   {
    "duration": 93,
    "start_time": "2022-12-11T14:00:09.818Z"
   },
   {
    "duration": 31,
    "start_time": "2022-12-11T14:00:12.244Z"
   },
   {
    "duration": 171,
    "start_time": "2022-12-11T14:00:18.177Z"
   },
   {
    "duration": 7,
    "start_time": "2022-12-11T14:00:20.033Z"
   },
   {
    "duration": 165,
    "start_time": "2022-12-11T14:00:20.884Z"
   },
   {
    "duration": 33,
    "start_time": "2022-12-11T14:00:23.610Z"
   },
   {
    "duration": 5,
    "start_time": "2022-12-11T14:00:25.850Z"
   },
   {
    "duration": 6,
    "start_time": "2022-12-11T14:00:27.649Z"
   },
   {
    "duration": 9,
    "start_time": "2022-12-11T14:00:29.437Z"
   },
   {
    "duration": 17,
    "start_time": "2022-12-11T14:00:32.132Z"
   },
   {
    "duration": 14,
    "start_time": "2022-12-11T14:00:34.250Z"
   },
   {
    "duration": 3,
    "start_time": "2022-12-11T14:00:35.139Z"
   },
   {
    "duration": 352,
    "start_time": "2022-12-11T14:00:37.835Z"
   },
   {
    "duration": 67,
    "start_time": "2022-12-11T14:00:41.378Z"
   },
   {
    "duration": 2,
    "start_time": "2022-12-11T14:00:46.133Z"
   },
   {
    "duration": 2,
    "start_time": "2022-12-11T14:00:46.868Z"
   },
   {
    "duration": 13,
    "start_time": "2022-12-11T14:00:48.603Z"
   },
   {
    "duration": 10,
    "start_time": "2022-12-11T14:00:52.740Z"
   },
   {
    "duration": 53,
    "start_time": "2022-12-11T14:00:54.139Z"
   },
   {
    "duration": 42,
    "start_time": "2022-12-11T14:00:56.659Z"
   },
   {
    "duration": 4,
    "start_time": "2022-12-11T14:00:58.667Z"
   },
   {
    "duration": 140,
    "start_time": "2022-12-11T14:01:00.327Z"
   },
   {
    "duration": 6,
    "start_time": "2022-12-11T14:01:04.460Z"
   },
   {
    "duration": 3,
    "start_time": "2022-12-11T14:01:11.537Z"
   },
   {
    "duration": 1227,
    "start_time": "2022-12-11T14:01:16.410Z"
   },
   {
    "duration": 20,
    "start_time": "2022-12-11T14:01:17.639Z"
   },
   {
    "duration": 118,
    "start_time": "2022-12-11T14:02:04.284Z"
   },
   {
    "duration": 10,
    "start_time": "2022-12-11T14:05:13.462Z"
   },
   {
    "duration": 7,
    "start_time": "2022-12-11T14:05:33.219Z"
   },
   {
    "duration": 842,
    "start_time": "2022-12-11T14:05:33.228Z"
   },
   {
    "duration": 126,
    "start_time": "2022-12-11T14:05:34.073Z"
   },
   {
    "duration": 22,
    "start_time": "2022-12-11T14:05:34.200Z"
   },
   {
    "duration": 18,
    "start_time": "2022-12-11T14:05:34.224Z"
   },
   {
    "duration": 25,
    "start_time": "2022-12-11T14:05:34.244Z"
   },
   {
    "duration": 243,
    "start_time": "2022-12-11T14:05:34.271Z"
   },
   {
    "duration": 108,
    "start_time": "2022-12-11T14:05:34.516Z"
   },
   {
    "duration": 38,
    "start_time": "2022-12-11T14:05:34.627Z"
   },
   {
    "duration": 515,
    "start_time": "2022-12-11T14:05:34.667Z"
   },
   {
    "duration": 233,
    "start_time": "2022-12-11T14:05:35.184Z"
   },
   {
    "duration": 141,
    "start_time": "2022-12-11T14:05:35.421Z"
   },
   {
    "duration": 164,
    "start_time": "2022-12-11T14:05:35.564Z"
   },
   {
    "duration": 397,
    "start_time": "2022-12-11T14:05:35.730Z"
   },
   {
    "duration": 821,
    "start_time": "2022-12-11T14:05:36.128Z"
   },
   {
    "duration": 48,
    "start_time": "2022-12-11T14:05:36.951Z"
   },
   {
    "duration": 3,
    "start_time": "2022-12-11T14:05:37.001Z"
   },
   {
    "duration": 35,
    "start_time": "2022-12-11T14:05:37.021Z"
   },
   {
    "duration": 95,
    "start_time": "2022-12-11T14:05:37.058Z"
   },
   {
    "duration": 96,
    "start_time": "2022-12-11T14:05:37.155Z"
   },
   {
    "duration": 24,
    "start_time": "2022-12-11T14:05:37.253Z"
   },
   {
    "duration": 204,
    "start_time": "2022-12-11T14:05:37.278Z"
   },
   {
    "duration": 7,
    "start_time": "2022-12-11T14:05:37.484Z"
   },
   {
    "duration": 179,
    "start_time": "2022-12-11T14:05:37.492Z"
   },
   {
    "duration": 30,
    "start_time": "2022-12-11T14:05:37.673Z"
   },
   {
    "duration": 20,
    "start_time": "2022-12-11T14:05:37.705Z"
   },
   {
    "duration": 7,
    "start_time": "2022-12-11T14:05:37.726Z"
   },
   {
    "duration": 13,
    "start_time": "2022-12-11T14:05:37.734Z"
   },
   {
    "duration": 42,
    "start_time": "2022-12-11T14:05:37.751Z"
   },
   {
    "duration": 21,
    "start_time": "2022-12-11T14:05:37.794Z"
   },
   {
    "duration": 14,
    "start_time": "2022-12-11T14:05:37.819Z"
   },
   {
    "duration": 361,
    "start_time": "2022-12-11T14:05:37.835Z"
   },
   {
    "duration": 68,
    "start_time": "2022-12-11T14:05:38.198Z"
   },
   {
    "duration": 3,
    "start_time": "2022-12-11T14:05:38.267Z"
   },
   {
    "duration": 9,
    "start_time": "2022-12-11T14:05:38.272Z"
   },
   {
    "duration": 31,
    "start_time": "2022-12-11T14:05:38.283Z"
   },
   {
    "duration": 10,
    "start_time": "2022-12-11T14:05:38.316Z"
   },
   {
    "duration": 58,
    "start_time": "2022-12-11T14:05:38.327Z"
   },
   {
    "duration": 53,
    "start_time": "2022-12-11T14:05:38.387Z"
   },
   {
    "duration": 4,
    "start_time": "2022-12-11T14:05:38.443Z"
   },
   {
    "duration": 149,
    "start_time": "2022-12-11T14:05:38.450Z"
   },
   {
    "duration": 11,
    "start_time": "2022-12-11T14:05:38.601Z"
   },
   {
    "duration": 8,
    "start_time": "2022-12-11T14:05:38.614Z"
   },
   {
    "duration": 1218,
    "start_time": "2022-12-11T14:05:38.624Z"
   },
   {
    "duration": 124,
    "start_time": "2022-12-11T14:05:39.844Z"
   },
   {
    "duration": 42,
    "start_time": "2022-12-11T14:05:39.970Z"
   },
   {
    "duration": 0,
    "start_time": "2022-12-11T14:05:40.014Z"
   },
   {
    "duration": 0,
    "start_time": "2022-12-11T14:05:40.016Z"
   },
   {
    "duration": 0,
    "start_time": "2022-12-11T14:05:40.017Z"
   },
   {
    "duration": 0,
    "start_time": "2022-12-11T14:05:40.019Z"
   },
   {
    "duration": 0,
    "start_time": "2022-12-11T14:05:40.020Z"
   },
   {
    "duration": 10,
    "start_time": "2022-12-11T14:05:45.464Z"
   },
   {
    "duration": 7,
    "start_time": "2022-12-11T14:07:17.849Z"
   },
   {
    "duration": 6,
    "start_time": "2022-12-11T14:07:41.735Z"
   },
   {
    "duration": 786,
    "start_time": "2022-12-11T14:07:41.743Z"
   },
   {
    "duration": 10,
    "start_time": "2022-12-11T14:07:42.531Z"
   },
   {
    "duration": 8,
    "start_time": "2022-12-11T14:07:42.543Z"
   },
   {
    "duration": 14,
    "start_time": "2022-12-11T14:07:42.553Z"
   },
   {
    "duration": 31,
    "start_time": "2022-12-11T14:07:42.568Z"
   },
   {
    "duration": 127,
    "start_time": "2022-12-11T14:07:42.601Z"
   },
   {
    "duration": 95,
    "start_time": "2022-12-11T14:07:42.730Z"
   },
   {
    "duration": 31,
    "start_time": "2022-12-11T14:07:42.827Z"
   },
   {
    "duration": 445,
    "start_time": "2022-12-11T14:07:42.860Z"
   },
   {
    "duration": 181,
    "start_time": "2022-12-11T14:07:43.309Z"
   },
   {
    "duration": 102,
    "start_time": "2022-12-11T14:07:43.492Z"
   },
   {
    "duration": 184,
    "start_time": "2022-12-11T14:07:43.595Z"
   },
   {
    "duration": 401,
    "start_time": "2022-12-11T14:07:43.781Z"
   },
   {
    "duration": 725,
    "start_time": "2022-12-11T14:07:44.184Z"
   },
   {
    "duration": 49,
    "start_time": "2022-12-11T14:07:44.911Z"
   },
   {
    "duration": 7,
    "start_time": "2022-12-11T14:07:44.962Z"
   },
   {
    "duration": 38,
    "start_time": "2022-12-11T14:07:44.971Z"
   },
   {
    "duration": 105,
    "start_time": "2022-12-11T14:07:45.011Z"
   },
   {
    "duration": 82,
    "start_time": "2022-12-11T14:07:45.118Z"
   },
   {
    "duration": 35,
    "start_time": "2022-12-11T14:07:45.202Z"
   },
   {
    "duration": 164,
    "start_time": "2022-12-11T14:07:45.239Z"
   },
   {
    "duration": 22,
    "start_time": "2022-12-11T14:07:45.405Z"
   },
   {
    "duration": 203,
    "start_time": "2022-12-11T14:07:45.428Z"
   },
   {
    "duration": 34,
    "start_time": "2022-12-11T14:07:45.632Z"
   },
   {
    "duration": 7,
    "start_time": "2022-12-11T14:07:45.668Z"
   },
   {
    "duration": 14,
    "start_time": "2022-12-11T14:07:45.676Z"
   },
   {
    "duration": 30,
    "start_time": "2022-12-11T14:07:45.691Z"
   },
   {
    "duration": 14,
    "start_time": "2022-12-11T14:07:45.724Z"
   },
   {
    "duration": 13,
    "start_time": "2022-12-11T14:07:45.739Z"
   },
   {
    "duration": 9,
    "start_time": "2022-12-11T14:07:45.754Z"
   },
   {
    "duration": 386,
    "start_time": "2022-12-11T14:07:45.764Z"
   },
   {
    "duration": 78,
    "start_time": "2022-12-11T14:07:46.151Z"
   },
   {
    "duration": 2,
    "start_time": "2022-12-11T14:07:46.231Z"
   },
   {
    "duration": 17,
    "start_time": "2022-12-11T14:07:46.235Z"
   },
   {
    "duration": 25,
    "start_time": "2022-12-11T14:07:46.254Z"
   },
   {
    "duration": 14,
    "start_time": "2022-12-11T14:07:46.281Z"
   },
   {
    "duration": 59,
    "start_time": "2022-12-11T14:07:46.296Z"
   },
   {
    "duration": 44,
    "start_time": "2022-12-11T14:07:46.357Z"
   },
   {
    "duration": 4,
    "start_time": "2022-12-11T14:07:46.403Z"
   },
   {
    "duration": 145,
    "start_time": "2022-12-11T14:07:46.408Z"
   },
   {
    "duration": 6,
    "start_time": "2022-12-11T14:07:46.555Z"
   },
   {
    "duration": 11,
    "start_time": "2022-12-11T14:07:46.563Z"
   },
   {
    "duration": 1421,
    "start_time": "2022-12-11T14:08:07.346Z"
   },
   {
    "duration": 1084,
    "start_time": "2022-12-11T14:08:08.769Z"
   },
   {
    "duration": 10,
    "start_time": "2022-12-11T14:08:09.855Z"
   },
   {
    "duration": 8,
    "start_time": "2022-12-11T14:08:09.868Z"
   },
   {
    "duration": 10,
    "start_time": "2022-12-11T14:08:09.877Z"
   },
   {
    "duration": 19,
    "start_time": "2022-12-11T14:08:09.889Z"
   },
   {
    "duration": 133,
    "start_time": "2022-12-11T14:08:09.910Z"
   },
   {
    "duration": 100,
    "start_time": "2022-12-11T14:08:10.045Z"
   },
   {
    "duration": 26,
    "start_time": "2022-12-11T14:08:10.147Z"
   },
   {
    "duration": 469,
    "start_time": "2022-12-11T14:08:10.175Z"
   },
   {
    "duration": 189,
    "start_time": "2022-12-11T14:08:10.646Z"
   },
   {
    "duration": 96,
    "start_time": "2022-12-11T14:08:10.836Z"
   },
   {
    "duration": 155,
    "start_time": "2022-12-11T14:08:10.934Z"
   },
   {
    "duration": 419,
    "start_time": "2022-12-11T14:08:11.091Z"
   },
   {
    "duration": 789,
    "start_time": "2022-12-11T14:08:11.512Z"
   },
   {
    "duration": 48,
    "start_time": "2022-12-11T14:08:12.303Z"
   },
   {
    "duration": 3,
    "start_time": "2022-12-11T14:08:12.353Z"
   },
   {
    "duration": 33,
    "start_time": "2022-12-11T14:08:12.357Z"
   },
   {
    "duration": 99,
    "start_time": "2022-12-11T14:08:12.391Z"
   },
   {
    "duration": 97,
    "start_time": "2022-12-11T14:08:12.491Z"
   },
   {
    "duration": 35,
    "start_time": "2022-12-11T14:08:12.589Z"
   },
   {
    "duration": 179,
    "start_time": "2022-12-11T14:08:12.626Z"
   },
   {
    "duration": 15,
    "start_time": "2022-12-11T14:08:12.807Z"
   },
   {
    "duration": 175,
    "start_time": "2022-12-11T14:08:12.824Z"
   },
   {
    "duration": 35,
    "start_time": "2022-12-11T14:08:13.001Z"
   },
   {
    "duration": 5,
    "start_time": "2022-12-11T14:08:13.037Z"
   },
   {
    "duration": 17,
    "start_time": "2022-12-11T14:08:13.044Z"
   },
   {
    "duration": 9,
    "start_time": "2022-12-11T14:08:13.065Z"
   },
   {
    "duration": 15,
    "start_time": "2022-12-11T14:08:13.075Z"
   },
   {
    "duration": 11,
    "start_time": "2022-12-11T14:08:13.092Z"
   },
   {
    "duration": 12,
    "start_time": "2022-12-11T14:08:13.122Z"
   },
   {
    "duration": 427,
    "start_time": "2022-12-11T14:08:13.136Z"
   },
   {
    "duration": 67,
    "start_time": "2022-12-11T14:08:13.565Z"
   },
   {
    "duration": 2,
    "start_time": "2022-12-11T14:08:13.634Z"
   },
   {
    "duration": 10,
    "start_time": "2022-12-11T14:08:13.638Z"
   },
   {
    "duration": 29,
    "start_time": "2022-12-11T14:08:13.650Z"
   },
   {
    "duration": 10,
    "start_time": "2022-12-11T14:08:13.680Z"
   },
   {
    "duration": 65,
    "start_time": "2022-12-11T14:08:13.692Z"
   },
   {
    "duration": 50,
    "start_time": "2022-12-11T14:08:13.759Z"
   },
   {
    "duration": 11,
    "start_time": "2022-12-11T14:08:13.811Z"
   },
   {
    "duration": 156,
    "start_time": "2022-12-11T14:08:13.824Z"
   },
   {
    "duration": 6,
    "start_time": "2022-12-11T14:08:13.981Z"
   },
   {
    "duration": 6,
    "start_time": "2022-12-11T14:08:13.988Z"
   },
   {
    "duration": 1209,
    "start_time": "2022-12-11T14:08:13.995Z"
   },
   {
    "duration": 118,
    "start_time": "2022-12-11T14:08:15.206Z"
   },
   {
    "duration": 51,
    "start_time": "2022-12-11T14:08:15.326Z"
   },
   {
    "duration": 0,
    "start_time": "2022-12-11T14:08:15.379Z"
   },
   {
    "duration": 0,
    "start_time": "2022-12-11T14:08:15.381Z"
   },
   {
    "duration": 0,
    "start_time": "2022-12-11T14:08:15.382Z"
   },
   {
    "duration": 0,
    "start_time": "2022-12-11T14:08:15.383Z"
   },
   {
    "duration": 0,
    "start_time": "2022-12-11T14:08:15.384Z"
   },
   {
    "duration": 185,
    "start_time": "2022-12-11T14:08:22.456Z"
   },
   {
    "duration": 47,
    "start_time": "2022-12-11T14:09:06.699Z"
   },
   {
    "duration": 1574,
    "start_time": "2022-12-11T14:09:59.895Z"
   },
   {
    "duration": 883,
    "start_time": "2022-12-11T14:10:01.472Z"
   },
   {
    "duration": 13,
    "start_time": "2022-12-11T14:10:02.356Z"
   },
   {
    "duration": 35,
    "start_time": "2022-12-11T14:10:02.372Z"
   },
   {
    "duration": 38,
    "start_time": "2022-12-11T14:10:02.409Z"
   },
   {
    "duration": 69,
    "start_time": "2022-12-11T14:10:02.449Z"
   },
   {
    "duration": 136,
    "start_time": "2022-12-11T14:10:02.520Z"
   },
   {
    "duration": 135,
    "start_time": "2022-12-11T14:10:02.658Z"
   },
   {
    "duration": 33,
    "start_time": "2022-12-11T14:10:02.795Z"
   },
   {
    "duration": 504,
    "start_time": "2022-12-11T14:10:02.832Z"
   },
   {
    "duration": 244,
    "start_time": "2022-12-11T14:10:03.338Z"
   },
   {
    "duration": 128,
    "start_time": "2022-12-11T14:10:03.584Z"
   },
   {
    "duration": 180,
    "start_time": "2022-12-11T14:10:03.723Z"
   },
   {
    "duration": 436,
    "start_time": "2022-12-11T14:10:03.904Z"
   },
   {
    "duration": 894,
    "start_time": "2022-12-11T14:10:04.342Z"
   },
   {
    "duration": 60,
    "start_time": "2022-12-11T14:10:05.238Z"
   },
   {
    "duration": 9,
    "start_time": "2022-12-11T14:10:05.300Z"
   },
   {
    "duration": 61,
    "start_time": "2022-12-11T14:10:05.311Z"
   },
   {
    "duration": 142,
    "start_time": "2022-12-11T14:10:05.374Z"
   },
   {
    "duration": 90,
    "start_time": "2022-12-11T14:10:05.518Z"
   },
   {
    "duration": 35,
    "start_time": "2022-12-11T14:10:05.610Z"
   },
   {
    "duration": 194,
    "start_time": "2022-12-11T14:10:05.646Z"
   },
   {
    "duration": 7,
    "start_time": "2022-12-11T14:10:05.841Z"
   },
   {
    "duration": 160,
    "start_time": "2022-12-11T14:10:05.849Z"
   },
   {
    "duration": 38,
    "start_time": "2022-12-11T14:10:06.011Z"
   },
   {
    "duration": 6,
    "start_time": "2022-12-11T14:10:06.051Z"
   },
   {
    "duration": 26,
    "start_time": "2022-12-11T14:10:06.059Z"
   },
   {
    "duration": 15,
    "start_time": "2022-12-11T14:10:06.089Z"
   },
   {
    "duration": 14,
    "start_time": "2022-12-11T14:10:06.184Z"
   },
   {
    "duration": 22,
    "start_time": "2022-12-11T14:10:06.200Z"
   },
   {
    "duration": 6,
    "start_time": "2022-12-11T14:10:06.223Z"
   },
   {
    "duration": 407,
    "start_time": "2022-12-11T14:10:06.230Z"
   },
   {
    "duration": 84,
    "start_time": "2022-12-11T14:10:06.639Z"
   },
   {
    "duration": 3,
    "start_time": "2022-12-11T14:10:06.724Z"
   },
   {
    "duration": 11,
    "start_time": "2022-12-11T14:10:06.728Z"
   },
   {
    "duration": 16,
    "start_time": "2022-12-11T14:10:06.740Z"
   },
   {
    "duration": 10,
    "start_time": "2022-12-11T14:10:06.758Z"
   },
   {
    "duration": 75,
    "start_time": "2022-12-11T14:10:06.769Z"
   },
   {
    "duration": 58,
    "start_time": "2022-12-11T14:10:06.846Z"
   },
   {
    "duration": 4,
    "start_time": "2022-12-11T14:10:06.906Z"
   },
   {
    "duration": 161,
    "start_time": "2022-12-11T14:10:06.921Z"
   },
   {
    "duration": 6,
    "start_time": "2022-12-11T14:10:07.084Z"
   },
   {
    "duration": 9,
    "start_time": "2022-12-11T14:10:07.091Z"
   },
   {
    "duration": 1180,
    "start_time": "2022-12-11T14:10:07.101Z"
   },
   {
    "duration": 122,
    "start_time": "2022-12-11T14:10:08.283Z"
   },
   {
    "duration": 4,
    "start_time": "2022-12-11T14:10:08.407Z"
   },
   {
    "duration": 4,
    "start_time": "2022-12-11T14:10:08.421Z"
   },
   {
    "duration": 7,
    "start_time": "2022-12-11T14:10:08.427Z"
   },
   {
    "duration": 1918,
    "start_time": "2022-12-11T14:10:08.435Z"
   },
   {
    "duration": 0,
    "start_time": "2022-12-11T14:10:10.355Z"
   },
   {
    "duration": 0,
    "start_time": "2022-12-11T14:10:10.357Z"
   },
   {
    "duration": 0,
    "start_time": "2022-12-11T14:10:10.358Z"
   },
   {
    "duration": 0,
    "start_time": "2022-12-11T14:10:10.359Z"
   },
   {
    "duration": 0,
    "start_time": "2022-12-11T14:10:10.360Z"
   },
   {
    "duration": 0,
    "start_time": "2022-12-11T14:10:10.362Z"
   },
   {
    "duration": 0,
    "start_time": "2022-12-11T14:10:10.363Z"
   },
   {
    "duration": 0,
    "start_time": "2022-12-11T14:10:10.364Z"
   },
   {
    "duration": 0,
    "start_time": "2022-12-11T14:10:10.364Z"
   },
   {
    "duration": 0,
    "start_time": "2022-12-11T14:10:10.365Z"
   },
   {
    "duration": 0,
    "start_time": "2022-12-11T14:10:10.367Z"
   },
   {
    "duration": 0,
    "start_time": "2022-12-11T14:10:10.367Z"
   },
   {
    "duration": 0,
    "start_time": "2022-12-11T14:10:10.368Z"
   },
   {
    "duration": 0,
    "start_time": "2022-12-11T14:10:10.369Z"
   },
   {
    "duration": 0,
    "start_time": "2022-12-11T14:10:10.370Z"
   },
   {
    "duration": 0,
    "start_time": "2022-12-11T14:10:10.371Z"
   },
   {
    "duration": 0,
    "start_time": "2022-12-11T14:10:10.372Z"
   },
   {
    "duration": 0,
    "start_time": "2022-12-11T14:10:10.373Z"
   },
   {
    "duration": 0,
    "start_time": "2022-12-11T14:10:10.375Z"
   },
   {
    "duration": 0,
    "start_time": "2022-12-11T14:10:10.376Z"
   },
   {
    "duration": 0,
    "start_time": "2022-12-11T14:10:10.377Z"
   },
   {
    "duration": 0,
    "start_time": "2022-12-11T14:10:10.378Z"
   },
   {
    "duration": 0,
    "start_time": "2022-12-11T14:10:10.379Z"
   },
   {
    "duration": 0,
    "start_time": "2022-12-11T14:10:10.380Z"
   },
   {
    "duration": 0,
    "start_time": "2022-12-11T14:10:10.422Z"
   },
   {
    "duration": 0,
    "start_time": "2022-12-11T14:10:10.423Z"
   },
   {
    "duration": 0,
    "start_time": "2022-12-11T14:10:10.424Z"
   },
   {
    "duration": 0,
    "start_time": "2022-12-11T14:10:10.425Z"
   },
   {
    "duration": 0,
    "start_time": "2022-12-11T14:10:10.426Z"
   },
   {
    "duration": 0,
    "start_time": "2022-12-11T14:10:10.427Z"
   },
   {
    "duration": 0,
    "start_time": "2022-12-11T14:10:10.428Z"
   },
   {
    "duration": 0,
    "start_time": "2022-12-11T14:10:10.429Z"
   },
   {
    "duration": 0,
    "start_time": "2022-12-11T14:10:10.430Z"
   },
   {
    "duration": 0,
    "start_time": "2022-12-11T14:10:10.432Z"
   },
   {
    "duration": 0,
    "start_time": "2022-12-11T14:10:10.433Z"
   },
   {
    "duration": 0,
    "start_time": "2022-12-11T14:10:10.434Z"
   },
   {
    "duration": 0,
    "start_time": "2022-12-11T14:10:10.435Z"
   },
   {
    "duration": 0,
    "start_time": "2022-12-11T14:10:10.436Z"
   },
   {
    "duration": 0,
    "start_time": "2022-12-11T14:10:10.437Z"
   },
   {
    "duration": 0,
    "start_time": "2022-12-11T14:10:10.438Z"
   },
   {
    "duration": 0,
    "start_time": "2022-12-11T14:10:10.439Z"
   },
   {
    "duration": 0,
    "start_time": "2022-12-11T14:10:10.439Z"
   },
   {
    "duration": 0,
    "start_time": "2022-12-11T14:10:10.441Z"
   },
   {
    "duration": 0,
    "start_time": "2022-12-11T14:10:10.442Z"
   },
   {
    "duration": 0,
    "start_time": "2022-12-11T14:10:10.443Z"
   },
   {
    "duration": 0,
    "start_time": "2022-12-11T14:10:10.444Z"
   },
   {
    "duration": 0,
    "start_time": "2022-12-11T14:10:10.445Z"
   },
   {
    "duration": 0,
    "start_time": "2022-12-11T14:10:10.446Z"
   },
   {
    "duration": 0,
    "start_time": "2022-12-11T14:10:10.447Z"
   },
   {
    "duration": 0,
    "start_time": "2022-12-11T14:10:10.449Z"
   },
   {
    "duration": 3,
    "start_time": "2022-12-11T14:12:07.213Z"
   },
   {
    "duration": 1421,
    "start_time": "2022-12-11T14:12:25.465Z"
   },
   {
    "duration": 8,
    "start_time": "2022-12-11T14:14:05.693Z"
   },
   {
    "duration": 702,
    "start_time": "2022-12-11T14:14:07.314Z"
   },
   {
    "duration": 10,
    "start_time": "2022-12-11T14:14:08.617Z"
   },
   {
    "duration": 2,
    "start_time": "2022-12-11T14:14:11.347Z"
   },
   {
    "duration": 4,
    "start_time": "2022-12-11T14:14:13.067Z"
   },
   {
    "duration": 13,
    "start_time": "2022-12-11T14:14:14.732Z"
   },
   {
    "duration": 121,
    "start_time": "2022-12-11T14:14:15.500Z"
   },
   {
    "duration": 78,
    "start_time": "2022-12-11T14:14:16.324Z"
   },
   {
    "duration": 27,
    "start_time": "2022-12-11T14:14:17.125Z"
   },
   {
    "duration": 420,
    "start_time": "2022-12-11T14:14:18.668Z"
   },
   {
    "duration": 181,
    "start_time": "2022-12-11T14:14:21.450Z"
   },
   {
    "duration": 85,
    "start_time": "2022-12-11T14:14:22.861Z"
   },
   {
    "duration": 146,
    "start_time": "2022-12-11T14:14:26.124Z"
   },
   {
    "duration": 355,
    "start_time": "2022-12-11T14:14:27.276Z"
   },
   {
    "duration": 768,
    "start_time": "2022-12-11T14:14:30.389Z"
   },
   {
    "duration": 50,
    "start_time": "2022-12-11T14:14:31.251Z"
   },
   {
    "duration": 3,
    "start_time": "2022-12-11T14:14:33.051Z"
   },
   {
    "duration": 29,
    "start_time": "2022-12-11T14:14:34.819Z"
   },
   {
    "duration": 76,
    "start_time": "2022-12-11T14:14:35.589Z"
   },
   {
    "duration": 84,
    "start_time": "2022-12-11T14:14:37.363Z"
   },
   {
    "duration": 29,
    "start_time": "2022-12-11T14:14:39.179Z"
   },
   {
    "duration": 162,
    "start_time": "2022-12-11T14:14:43.926Z"
   },
   {
    "duration": 7,
    "start_time": "2022-12-11T14:14:45.250Z"
   },
   {
    "duration": 158,
    "start_time": "2022-12-11T14:14:45.964Z"
   },
   {
    "duration": 32,
    "start_time": "2022-12-11T14:14:47.723Z"
   },
   {
    "duration": 6,
    "start_time": "2022-12-11T14:14:49.643Z"
   },
   {
    "duration": 5,
    "start_time": "2022-12-11T14:14:51.427Z"
   },
   {
    "duration": 7,
    "start_time": "2022-12-11T14:14:53.219Z"
   },
   {
    "duration": 14,
    "start_time": "2022-12-11T14:14:54.917Z"
   },
   {
    "duration": 12,
    "start_time": "2022-12-11T14:14:57.285Z"
   },
   {
    "duration": 2,
    "start_time": "2022-12-11T14:14:58.116Z"
   },
   {
    "duration": 339,
    "start_time": "2022-12-11T14:15:00.588Z"
   },
   {
    "duration": 63,
    "start_time": "2022-12-11T14:15:03.073Z"
   },
   {
    "duration": 3,
    "start_time": "2022-12-11T14:15:05.963Z"
   },
   {
    "duration": 3,
    "start_time": "2022-12-11T14:15:08.517Z"
   },
   {
    "duration": 13,
    "start_time": "2022-12-11T14:15:10.270Z"
   },
   {
    "duration": 10,
    "start_time": "2022-12-11T14:15:11.894Z"
   },
   {
    "duration": 51,
    "start_time": "2022-12-11T14:15:13.220Z"
   },
   {
    "duration": 41,
    "start_time": "2022-12-11T14:15:15.523Z"
   },
   {
    "duration": 4,
    "start_time": "2022-12-11T14:15:18.075Z"
   },
   {
    "duration": 135,
    "start_time": "2022-12-11T14:15:19.169Z"
   },
   {
    "duration": 6,
    "start_time": "2022-12-11T14:15:21.604Z"
   },
   {
    "duration": 3,
    "start_time": "2022-12-11T14:15:25.842Z"
   },
   {
    "duration": 1182,
    "start_time": "2022-12-11T14:15:28.692Z"
   },
   {
    "duration": 121,
    "start_time": "2022-12-11T14:15:30.244Z"
   },
   {
    "duration": 3,
    "start_time": "2022-12-11T14:15:43.061Z"
   },
   {
    "duration": 3,
    "start_time": "2022-12-11T14:15:44.541Z"
   },
   {
    "duration": 3,
    "start_time": "2022-12-11T14:15:48.982Z"
   },
   {
    "duration": 7,
    "start_time": "2022-12-11T14:20:09.288Z"
   },
   {
    "duration": 770,
    "start_time": "2022-12-11T14:20:09.296Z"
   },
   {
    "duration": 11,
    "start_time": "2022-12-11T14:20:10.068Z"
   },
   {
    "duration": 18,
    "start_time": "2022-12-11T14:20:10.080Z"
   },
   {
    "duration": 17,
    "start_time": "2022-12-11T14:20:10.101Z"
   },
   {
    "duration": 23,
    "start_time": "2022-12-11T14:20:10.119Z"
   },
   {
    "duration": 133,
    "start_time": "2022-12-11T14:20:10.144Z"
   },
   {
    "duration": 94,
    "start_time": "2022-12-11T14:20:10.278Z"
   },
   {
    "duration": 26,
    "start_time": "2022-12-11T14:20:10.373Z"
   },
   {
    "duration": 444,
    "start_time": "2022-12-11T14:20:10.400Z"
   },
   {
    "duration": 189,
    "start_time": "2022-12-11T14:20:10.846Z"
   },
   {
    "duration": 90,
    "start_time": "2022-12-11T14:20:11.036Z"
   },
   {
    "duration": 161,
    "start_time": "2022-12-11T14:20:11.128Z"
   },
   {
    "duration": 376,
    "start_time": "2022-12-11T14:20:11.291Z"
   },
   {
    "duration": 727,
    "start_time": "2022-12-11T14:20:11.669Z"
   },
   {
    "duration": 63,
    "start_time": "2022-12-11T14:20:12.397Z"
   },
   {
    "duration": 2,
    "start_time": "2022-12-11T14:20:12.462Z"
   },
   {
    "duration": 35,
    "start_time": "2022-12-11T14:20:12.466Z"
   },
   {
    "duration": 98,
    "start_time": "2022-12-11T14:20:12.503Z"
   },
   {
    "duration": 96,
    "start_time": "2022-12-11T14:20:12.602Z"
   },
   {
    "duration": 38,
    "start_time": "2022-12-11T14:20:12.701Z"
   },
   {
    "duration": 185,
    "start_time": "2022-12-11T14:20:12.740Z"
   },
   {
    "duration": 6,
    "start_time": "2022-12-11T14:20:12.926Z"
   },
   {
    "duration": 175,
    "start_time": "2022-12-11T14:20:12.934Z"
   },
   {
    "duration": 30,
    "start_time": "2022-12-11T14:20:13.111Z"
   },
   {
    "duration": 6,
    "start_time": "2022-12-11T14:20:13.143Z"
   },
   {
    "duration": 15,
    "start_time": "2022-12-11T14:20:13.150Z"
   },
   {
    "duration": 16,
    "start_time": "2022-12-11T14:20:13.166Z"
   },
   {
    "duration": 14,
    "start_time": "2022-12-11T14:20:13.185Z"
   },
   {
    "duration": 9,
    "start_time": "2022-12-11T14:20:13.222Z"
   },
   {
    "duration": 8,
    "start_time": "2022-12-11T14:20:13.233Z"
   },
   {
    "duration": 350,
    "start_time": "2022-12-11T14:20:13.242Z"
   },
   {
    "duration": 64,
    "start_time": "2022-12-11T14:20:13.594Z"
   },
   {
    "duration": 3,
    "start_time": "2022-12-11T14:20:13.659Z"
   },
   {
    "duration": 11,
    "start_time": "2022-12-11T14:20:13.664Z"
   },
   {
    "duration": 20,
    "start_time": "2022-12-11T14:20:13.677Z"
   },
   {
    "duration": 25,
    "start_time": "2022-12-11T14:20:13.698Z"
   },
   {
    "duration": 56,
    "start_time": "2022-12-11T14:20:13.725Z"
   },
   {
    "duration": 62,
    "start_time": "2022-12-11T14:20:13.783Z"
   },
   {
    "duration": 5,
    "start_time": "2022-12-11T14:20:13.847Z"
   },
   {
    "duration": 153,
    "start_time": "2022-12-11T14:20:13.854Z"
   },
   {
    "duration": 12,
    "start_time": "2022-12-11T14:20:14.009Z"
   },
   {
    "duration": 3,
    "start_time": "2022-12-11T14:20:14.023Z"
   },
   {
    "duration": 1175,
    "start_time": "2022-12-11T14:20:14.027Z"
   },
   {
    "duration": 4,
    "start_time": "2022-12-11T14:20:28.621Z"
   },
   {
    "duration": 4,
    "start_time": "2022-12-11T14:20:36.712Z"
   },
   {
    "duration": 1389,
    "start_time": "2022-12-11T14:21:10.815Z"
   },
   {
    "duration": 45,
    "start_time": "2022-12-11T14:21:51.860Z"
   },
   {
    "duration": 1580,
    "start_time": "2022-12-11T14:22:03.649Z"
   },
   {
    "duration": 5,
    "start_time": "2022-12-11T14:32:01.492Z"
   },
   {
    "duration": 107,
    "start_time": "2022-12-11T14:33:40.736Z"
   },
   {
    "duration": 4,
    "start_time": "2022-12-11T14:33:55.617Z"
   },
   {
    "duration": 7,
    "start_time": "2022-12-11T14:34:00.444Z"
   },
   {
    "duration": 752,
    "start_time": "2022-12-11T14:34:00.453Z"
   },
   {
    "duration": 14,
    "start_time": "2022-12-11T14:34:01.207Z"
   },
   {
    "duration": 45,
    "start_time": "2022-12-11T14:34:01.223Z"
   },
   {
    "duration": 30,
    "start_time": "2022-12-11T14:34:01.270Z"
   },
   {
    "duration": 31,
    "start_time": "2022-12-11T14:34:01.302Z"
   },
   {
    "duration": 160,
    "start_time": "2022-12-11T14:34:01.335Z"
   },
   {
    "duration": 114,
    "start_time": "2022-12-11T14:34:01.497Z"
   },
   {
    "duration": 27,
    "start_time": "2022-12-11T14:34:01.613Z"
   },
   {
    "duration": 447,
    "start_time": "2022-12-11T14:34:01.641Z"
   },
   {
    "duration": 189,
    "start_time": "2022-12-11T14:34:02.090Z"
   },
   {
    "duration": 91,
    "start_time": "2022-12-11T14:34:02.281Z"
   },
   {
    "duration": 167,
    "start_time": "2022-12-11T14:34:02.374Z"
   },
   {
    "duration": 392,
    "start_time": "2022-12-11T14:34:02.542Z"
   },
   {
    "duration": 714,
    "start_time": "2022-12-11T14:34:02.935Z"
   },
   {
    "duration": 47,
    "start_time": "2022-12-11T14:34:03.651Z"
   },
   {
    "duration": 2,
    "start_time": "2022-12-11T14:34:03.700Z"
   },
   {
    "duration": 31,
    "start_time": "2022-12-11T14:34:03.721Z"
   },
   {
    "duration": 101,
    "start_time": "2022-12-11T14:34:03.754Z"
   },
   {
    "duration": 98,
    "start_time": "2022-12-11T14:34:03.857Z"
   },
   {
    "duration": 28,
    "start_time": "2022-12-11T14:34:03.957Z"
   },
   {
    "duration": 186,
    "start_time": "2022-12-11T14:34:03.986Z"
   },
   {
    "duration": 7,
    "start_time": "2022-12-11T14:34:04.174Z"
   },
   {
    "duration": 202,
    "start_time": "2022-12-11T14:34:04.182Z"
   },
   {
    "duration": 43,
    "start_time": "2022-12-11T14:34:04.386Z"
   },
   {
    "duration": 6,
    "start_time": "2022-12-11T14:34:04.432Z"
   },
   {
    "duration": 8,
    "start_time": "2022-12-11T14:34:04.439Z"
   },
   {
    "duration": 10,
    "start_time": "2022-12-11T14:34:04.449Z"
   },
   {
    "duration": 13,
    "start_time": "2022-12-11T14:34:04.462Z"
   },
   {
    "duration": 46,
    "start_time": "2022-12-11T14:34:04.477Z"
   },
   {
    "duration": 9,
    "start_time": "2022-12-11T14:34:04.525Z"
   },
   {
    "duration": 455,
    "start_time": "2022-12-11T14:34:04.535Z"
   },
   {
    "duration": 68,
    "start_time": "2022-12-11T14:34:04.992Z"
   },
   {
    "duration": 4,
    "start_time": "2022-12-11T14:34:05.062Z"
   },
   {
    "duration": 7,
    "start_time": "2022-12-11T14:34:05.067Z"
   },
   {
    "duration": 22,
    "start_time": "2022-12-11T14:34:05.075Z"
   },
   {
    "duration": 31,
    "start_time": "2022-12-11T14:34:05.098Z"
   },
   {
    "duration": 56,
    "start_time": "2022-12-11T14:34:05.130Z"
   },
   {
    "duration": 61,
    "start_time": "2022-12-11T14:34:05.188Z"
   },
   {
    "duration": 3,
    "start_time": "2022-12-11T14:34:05.251Z"
   },
   {
    "duration": 156,
    "start_time": "2022-12-11T14:34:05.256Z"
   },
   {
    "duration": 11,
    "start_time": "2022-12-11T14:34:05.415Z"
   },
   {
    "duration": 18,
    "start_time": "2022-12-11T14:34:05.428Z"
   },
   {
    "duration": 1192,
    "start_time": "2022-12-11T14:34:05.449Z"
   },
   {
    "duration": 117,
    "start_time": "2022-12-11T14:34:06.643Z"
   },
   {
    "duration": 4,
    "start_time": "2022-12-11T14:34:15.039Z"
   },
   {
    "duration": 3,
    "start_time": "2022-12-11T14:34:32.475Z"
   },
   {
    "duration": 1522,
    "start_time": "2022-12-11T14:35:22.331Z"
   },
   {
    "duration": 7,
    "start_time": "2022-12-11T14:38:39.087Z"
   },
   {
    "duration": 758,
    "start_time": "2022-12-11T14:38:39.096Z"
   },
   {
    "duration": 10,
    "start_time": "2022-12-11T14:38:39.857Z"
   },
   {
    "duration": 12,
    "start_time": "2022-12-11T14:38:39.868Z"
   },
   {
    "duration": 6,
    "start_time": "2022-12-11T14:38:39.882Z"
   },
   {
    "duration": 38,
    "start_time": "2022-12-11T14:38:39.890Z"
   },
   {
    "duration": 146,
    "start_time": "2022-12-11T14:38:39.930Z"
   },
   {
    "duration": 98,
    "start_time": "2022-12-11T14:38:40.078Z"
   },
   {
    "duration": 29,
    "start_time": "2022-12-11T14:38:40.178Z"
   },
   {
    "duration": 498,
    "start_time": "2022-12-11T14:38:40.228Z"
   },
   {
    "duration": 215,
    "start_time": "2022-12-11T14:38:40.731Z"
   },
   {
    "duration": 92,
    "start_time": "2022-12-11T14:38:40.948Z"
   },
   {
    "duration": 187,
    "start_time": "2022-12-11T14:38:41.042Z"
   },
   {
    "duration": 396,
    "start_time": "2022-12-11T14:38:41.231Z"
   },
   {
    "duration": 842,
    "start_time": "2022-12-11T14:38:41.629Z"
   },
   {
    "duration": 72,
    "start_time": "2022-12-11T14:38:42.472Z"
   },
   {
    "duration": 4,
    "start_time": "2022-12-11T14:38:42.546Z"
   },
   {
    "duration": 74,
    "start_time": "2022-12-11T14:38:42.552Z"
   },
   {
    "duration": 98,
    "start_time": "2022-12-11T14:38:42.629Z"
   },
   {
    "duration": 125,
    "start_time": "2022-12-11T14:38:42.729Z"
   },
   {
    "duration": 35,
    "start_time": "2022-12-11T14:38:42.857Z"
   },
   {
    "duration": 211,
    "start_time": "2022-12-11T14:38:42.894Z"
   },
   {
    "duration": 17,
    "start_time": "2022-12-11T14:38:43.107Z"
   },
   {
    "duration": 179,
    "start_time": "2022-12-11T14:38:43.126Z"
   },
   {
    "duration": 47,
    "start_time": "2022-12-11T14:38:43.307Z"
   },
   {
    "duration": 5,
    "start_time": "2022-12-11T14:38:43.356Z"
   },
   {
    "duration": 5,
    "start_time": "2022-12-11T14:38:43.363Z"
   },
   {
    "duration": 7,
    "start_time": "2022-12-11T14:38:43.369Z"
   },
   {
    "duration": 61,
    "start_time": "2022-12-11T14:38:43.379Z"
   },
   {
    "duration": 19,
    "start_time": "2022-12-11T14:38:43.443Z"
   },
   {
    "duration": 7,
    "start_time": "2022-12-11T14:38:43.464Z"
   },
   {
    "duration": 421,
    "start_time": "2022-12-11T14:38:43.472Z"
   },
   {
    "duration": 83,
    "start_time": "2022-12-11T14:38:43.895Z"
   },
   {
    "duration": 3,
    "start_time": "2022-12-11T14:38:43.980Z"
   },
   {
    "duration": 7,
    "start_time": "2022-12-11T14:38:43.984Z"
   },
   {
    "duration": 35,
    "start_time": "2022-12-11T14:38:43.993Z"
   },
   {
    "duration": 18,
    "start_time": "2022-12-11T14:38:44.031Z"
   },
   {
    "duration": 76,
    "start_time": "2022-12-11T14:38:44.051Z"
   },
   {
    "duration": 57,
    "start_time": "2022-12-11T14:38:44.130Z"
   },
   {
    "duration": 4,
    "start_time": "2022-12-11T14:38:44.189Z"
   },
   {
    "duration": 30,
    "start_time": "2022-12-11T14:38:44.195Z"
   },
   {
    "duration": 9,
    "start_time": "2022-12-11T14:38:44.227Z"
   },
   {
    "duration": 1539,
    "start_time": "2022-12-11T14:38:56.577Z"
   },
   {
    "duration": 1149,
    "start_time": "2022-12-11T14:38:58.118Z"
   },
   {
    "duration": 11,
    "start_time": "2022-12-11T14:38:59.268Z"
   },
   {
    "duration": 10,
    "start_time": "2022-12-11T14:38:59.280Z"
   },
   {
    "duration": 12,
    "start_time": "2022-12-11T14:38:59.291Z"
   },
   {
    "duration": 44,
    "start_time": "2022-12-11T14:38:59.304Z"
   },
   {
    "duration": 139,
    "start_time": "2022-12-11T14:38:59.349Z"
   },
   {
    "duration": 110,
    "start_time": "2022-12-11T14:38:59.490Z"
   },
   {
    "duration": 49,
    "start_time": "2022-12-11T14:38:59.602Z"
   },
   {
    "duration": 494,
    "start_time": "2022-12-11T14:38:59.653Z"
   },
   {
    "duration": 221,
    "start_time": "2022-12-11T14:39:00.149Z"
   },
   {
    "duration": 101,
    "start_time": "2022-12-11T14:39:00.371Z"
   },
   {
    "duration": 193,
    "start_time": "2022-12-11T14:39:00.474Z"
   },
   {
    "duration": 459,
    "start_time": "2022-12-11T14:39:00.669Z"
   },
   {
    "duration": 895,
    "start_time": "2022-12-11T14:39:01.129Z"
   },
   {
    "duration": 47,
    "start_time": "2022-12-11T14:39:02.027Z"
   },
   {
    "duration": 28,
    "start_time": "2022-12-11T14:39:02.075Z"
   },
   {
    "duration": 91,
    "start_time": "2022-12-11T14:39:02.104Z"
   },
   {
    "duration": 111,
    "start_time": "2022-12-11T14:39:02.198Z"
   },
   {
    "duration": 93,
    "start_time": "2022-12-11T14:39:02.310Z"
   },
   {
    "duration": 47,
    "start_time": "2022-12-11T14:39:02.405Z"
   },
   {
    "duration": 220,
    "start_time": "2022-12-11T14:39:02.454Z"
   },
   {
    "duration": 7,
    "start_time": "2022-12-11T14:39:02.675Z"
   },
   {
    "duration": 199,
    "start_time": "2022-12-11T14:39:02.683Z"
   },
   {
    "duration": 43,
    "start_time": "2022-12-11T14:39:02.884Z"
   },
   {
    "duration": 9,
    "start_time": "2022-12-11T14:39:02.930Z"
   },
   {
    "duration": 20,
    "start_time": "2022-12-11T14:39:02.941Z"
   },
   {
    "duration": 16,
    "start_time": "2022-12-11T14:39:02.964Z"
   },
   {
    "duration": 15,
    "start_time": "2022-12-11T14:39:02.982Z"
   },
   {
    "duration": 39,
    "start_time": "2022-12-11T14:39:02.998Z"
   },
   {
    "duration": 20,
    "start_time": "2022-12-11T14:39:03.039Z"
   },
   {
    "duration": 476,
    "start_time": "2022-12-11T14:39:03.061Z"
   },
   {
    "duration": 61,
    "start_time": "2022-12-11T14:39:03.539Z"
   },
   {
    "duration": 30,
    "start_time": "2022-12-11T14:39:03.602Z"
   },
   {
    "duration": 30,
    "start_time": "2022-12-11T14:39:03.635Z"
   },
   {
    "duration": 30,
    "start_time": "2022-12-11T14:39:03.667Z"
   },
   {
    "duration": 12,
    "start_time": "2022-12-11T14:39:03.699Z"
   },
   {
    "duration": 68,
    "start_time": "2022-12-11T14:39:03.712Z"
   },
   {
    "duration": 63,
    "start_time": "2022-12-11T14:39:03.782Z"
   },
   {
    "duration": 3,
    "start_time": "2022-12-11T14:39:03.847Z"
   },
   {
    "duration": 13,
    "start_time": "2022-12-11T14:39:03.851Z"
   },
   {
    "duration": 24,
    "start_time": "2022-12-11T14:39:03.866Z"
   },
   {
    "duration": 1302,
    "start_time": "2022-12-11T14:39:03.892Z"
   },
   {
    "duration": 166,
    "start_time": "2022-12-11T14:39:05.196Z"
   },
   {
    "duration": 5,
    "start_time": "2022-12-11T14:39:05.364Z"
   },
   {
    "duration": 3,
    "start_time": "2022-12-11T14:39:19.393Z"
   },
   {
    "duration": 115,
    "start_time": "2022-12-11T14:39:22.641Z"
   },
   {
    "duration": 7,
    "start_time": "2022-12-11T14:39:36.621Z"
   },
   {
    "duration": 637,
    "start_time": "2022-12-11T14:44:33.584Z"
   },
   {
    "duration": 4,
    "start_time": "2022-12-11T14:44:42.159Z"
   },
   {
    "duration": 7,
    "start_time": "2022-12-11T14:45:33.769Z"
   },
   {
    "duration": 760,
    "start_time": "2022-12-11T14:45:33.778Z"
   },
   {
    "duration": 10,
    "start_time": "2022-12-11T14:45:34.540Z"
   },
   {
    "duration": 8,
    "start_time": "2022-12-11T14:45:34.552Z"
   },
   {
    "duration": 8,
    "start_time": "2022-12-11T14:45:34.563Z"
   },
   {
    "duration": 23,
    "start_time": "2022-12-11T14:45:34.573Z"
   },
   {
    "duration": 146,
    "start_time": "2022-12-11T14:45:34.598Z"
   },
   {
    "duration": 84,
    "start_time": "2022-12-11T14:45:34.746Z"
   },
   {
    "duration": 26,
    "start_time": "2022-12-11T14:45:34.832Z"
   },
   {
    "duration": 470,
    "start_time": "2022-12-11T14:45:34.860Z"
   },
   {
    "duration": 203,
    "start_time": "2022-12-11T14:45:35.333Z"
   },
   {
    "duration": 100,
    "start_time": "2022-12-11T14:45:35.538Z"
   },
   {
    "duration": 157,
    "start_time": "2022-12-11T14:45:35.639Z"
   },
   {
    "duration": 378,
    "start_time": "2022-12-11T14:45:35.797Z"
   },
   {
    "duration": 732,
    "start_time": "2022-12-11T14:45:36.177Z"
   },
   {
    "duration": 50,
    "start_time": "2022-12-11T14:45:36.910Z"
   },
   {
    "duration": 9,
    "start_time": "2022-12-11T14:45:36.961Z"
   },
   {
    "duration": 31,
    "start_time": "2022-12-11T14:45:36.971Z"
   },
   {
    "duration": 82,
    "start_time": "2022-12-11T14:45:37.021Z"
   },
   {
    "duration": 89,
    "start_time": "2022-12-11T14:45:37.105Z"
   },
   {
    "duration": 46,
    "start_time": "2022-12-11T14:45:37.196Z"
   },
   {
    "duration": 167,
    "start_time": "2022-12-11T14:45:37.244Z"
   },
   {
    "duration": 13,
    "start_time": "2022-12-11T14:45:37.412Z"
   },
   {
    "duration": 174,
    "start_time": "2022-12-11T14:45:37.426Z"
   },
   {
    "duration": 44,
    "start_time": "2022-12-11T14:45:37.601Z"
   },
   {
    "duration": 5,
    "start_time": "2022-12-11T14:45:37.647Z"
   },
   {
    "duration": 12,
    "start_time": "2022-12-11T14:45:37.654Z"
   },
   {
    "duration": 17,
    "start_time": "2022-12-11T14:45:37.667Z"
   },
   {
    "duration": 37,
    "start_time": "2022-12-11T14:45:37.686Z"
   },
   {
    "duration": 10,
    "start_time": "2022-12-11T14:45:37.724Z"
   },
   {
    "duration": 20,
    "start_time": "2022-12-11T14:45:37.736Z"
   },
   {
    "duration": 353,
    "start_time": "2022-12-11T14:45:37.758Z"
   },
   {
    "duration": 67,
    "start_time": "2022-12-11T14:45:38.113Z"
   },
   {
    "duration": 3,
    "start_time": "2022-12-11T14:45:38.181Z"
   },
   {
    "duration": 6,
    "start_time": "2022-12-11T14:45:38.185Z"
   },
   {
    "duration": 36,
    "start_time": "2022-12-11T14:45:38.192Z"
   },
   {
    "duration": 10,
    "start_time": "2022-12-11T14:45:38.229Z"
   },
   {
    "duration": 53,
    "start_time": "2022-12-11T14:45:38.241Z"
   },
   {
    "duration": 68,
    "start_time": "2022-12-11T14:45:38.295Z"
   },
   {
    "duration": 3,
    "start_time": "2022-12-11T14:45:38.365Z"
   },
   {
    "duration": 10,
    "start_time": "2022-12-11T14:45:38.370Z"
   },
   {
    "duration": 7,
    "start_time": "2022-12-11T14:45:38.381Z"
   },
   {
    "duration": 11,
    "start_time": "2022-12-11T14:45:38.390Z"
   },
   {
    "duration": 615,
    "start_time": "2022-12-11T14:45:53.322Z"
   },
   {
    "duration": 4,
    "start_time": "2022-12-11T14:45:59.442Z"
   },
   {
    "duration": 4,
    "start_time": "2022-12-11T14:46:06.182Z"
   },
   {
    "duration": 3,
    "start_time": "2022-12-11T14:46:23.529Z"
   },
   {
    "duration": 9,
    "start_time": "2022-12-11T14:46:31.042Z"
   },
   {
    "duration": 3,
    "start_time": "2022-12-11T14:46:42.489Z"
   },
   {
    "duration": 1640,
    "start_time": "2022-12-11T14:46:51.232Z"
   },
   {
    "duration": 7,
    "start_time": "2022-12-11T14:49:01.250Z"
   },
   {
    "duration": 791,
    "start_time": "2022-12-11T14:49:05.172Z"
   },
   {
    "duration": 16,
    "start_time": "2022-12-11T14:49:06.654Z"
   },
   {
    "duration": 3,
    "start_time": "2022-12-11T14:49:08.186Z"
   },
   {
    "duration": 4,
    "start_time": "2022-12-11T14:49:10.296Z"
   },
   {
    "duration": 15,
    "start_time": "2022-12-11T14:49:11.891Z"
   },
   {
    "duration": 185,
    "start_time": "2022-12-11T14:49:12.761Z"
   },
   {
    "duration": 80,
    "start_time": "2022-12-11T14:49:13.907Z"
   },
   {
    "duration": 26,
    "start_time": "2022-12-11T14:49:15.065Z"
   },
   {
    "duration": 433,
    "start_time": "2022-12-11T14:49:16.025Z"
   },
   {
    "duration": 180,
    "start_time": "2022-12-11T14:49:17.874Z"
   },
   {
    "duration": 106,
    "start_time": "2022-12-11T14:49:18.994Z"
   },
   {
    "duration": 210,
    "start_time": "2022-12-11T14:49:21.387Z"
   },
   {
    "duration": 391,
    "start_time": "2022-12-11T14:49:22.379Z"
   },
   {
    "duration": 796,
    "start_time": "2022-12-11T14:49:25.097Z"
   },
   {
    "duration": 52,
    "start_time": "2022-12-11T14:49:26.139Z"
   },
   {
    "duration": 6,
    "start_time": "2022-12-11T14:49:30.586Z"
   },
   {
    "duration": 39,
    "start_time": "2022-12-11T14:49:33.368Z"
   },
   {
    "duration": 77,
    "start_time": "2022-12-11T14:49:34.746Z"
   },
   {
    "duration": 86,
    "start_time": "2022-12-11T14:49:36.988Z"
   },
   {
    "duration": 26,
    "start_time": "2022-12-11T14:49:38.672Z"
   },
   {
    "duration": 176,
    "start_time": "2022-12-11T14:49:45.802Z"
   },
   {
    "duration": 7,
    "start_time": "2022-12-11T14:49:48.282Z"
   },
   {
    "duration": 151,
    "start_time": "2022-12-11T14:49:49.250Z"
   },
   {
    "duration": 31,
    "start_time": "2022-12-11T14:49:52.040Z"
   },
   {
    "duration": 7,
    "start_time": "2022-12-11T14:49:55.370Z"
   },
   {
    "duration": 5,
    "start_time": "2022-12-11T14:49:58.485Z"
   },
   {
    "duration": 8,
    "start_time": "2022-12-11T14:50:02.194Z"
   },
   {
    "duration": 15,
    "start_time": "2022-12-11T14:50:05.010Z"
   },
   {
    "duration": 10,
    "start_time": "2022-12-11T14:50:15.130Z"
   },
   {
    "duration": 2,
    "start_time": "2022-12-11T14:50:16.115Z"
   },
   {
    "duration": 371,
    "start_time": "2022-12-11T14:50:22.515Z"
   },
   {
    "duration": 61,
    "start_time": "2022-12-11T14:50:34.347Z"
   },
   {
    "duration": 7,
    "start_time": "2022-12-11T14:55:31.757Z"
   },
   {
    "duration": 779,
    "start_time": "2022-12-11T14:55:31.766Z"
   },
   {
    "duration": 11,
    "start_time": "2022-12-11T14:55:32.547Z"
   },
   {
    "duration": 21,
    "start_time": "2022-12-11T14:55:32.559Z"
   },
   {
    "duration": 18,
    "start_time": "2022-12-11T14:55:32.582Z"
   },
   {
    "duration": 18,
    "start_time": "2022-12-11T14:55:32.602Z"
   },
   {
    "duration": 138,
    "start_time": "2022-12-11T14:55:32.621Z"
   },
   {
    "duration": 100,
    "start_time": "2022-12-11T14:55:32.760Z"
   },
   {
    "duration": 27,
    "start_time": "2022-12-11T14:55:32.862Z"
   },
   {
    "duration": 428,
    "start_time": "2022-12-11T14:55:32.891Z"
   },
   {
    "duration": 183,
    "start_time": "2022-12-11T14:55:33.322Z"
   },
   {
    "duration": 94,
    "start_time": "2022-12-11T14:55:33.507Z"
   },
   {
    "duration": 165,
    "start_time": "2022-12-11T14:55:33.603Z"
   },
   {
    "duration": 367,
    "start_time": "2022-12-11T14:55:33.770Z"
   },
   {
    "duration": 743,
    "start_time": "2022-12-11T14:55:34.138Z"
   },
   {
    "duration": 58,
    "start_time": "2022-12-11T14:55:34.883Z"
   },
   {
    "duration": 3,
    "start_time": "2022-12-11T14:55:34.942Z"
   },
   {
    "duration": 33,
    "start_time": "2022-12-11T14:55:34.947Z"
   },
   {
    "duration": 101,
    "start_time": "2022-12-11T14:55:34.982Z"
   },
   {
    "duration": 97,
    "start_time": "2022-12-11T14:55:35.085Z"
   },
   {
    "duration": 41,
    "start_time": "2022-12-11T14:55:35.184Z"
   },
   {
    "duration": 181,
    "start_time": "2022-12-11T14:55:35.227Z"
   },
   {
    "duration": 16,
    "start_time": "2022-12-11T14:55:35.410Z"
   },
   {
    "duration": 195,
    "start_time": "2022-12-11T14:55:35.428Z"
   },
   {
    "duration": 29,
    "start_time": "2022-12-11T14:55:35.624Z"
   },
   {
    "duration": 5,
    "start_time": "2022-12-11T14:55:35.654Z"
   },
   {
    "duration": 9,
    "start_time": "2022-12-11T14:55:35.660Z"
   },
   {
    "duration": 18,
    "start_time": "2022-12-11T14:55:35.670Z"
   },
   {
    "duration": 14,
    "start_time": "2022-12-11T14:55:35.721Z"
   },
   {
    "duration": 10,
    "start_time": "2022-12-11T14:55:35.737Z"
   },
   {
    "duration": 16,
    "start_time": "2022-12-11T14:55:35.748Z"
   },
   {
    "duration": 440,
    "start_time": "2022-12-11T14:55:35.765Z"
   },
   {
    "duration": 67,
    "start_time": "2022-12-11T14:55:36.207Z"
   },
   {
    "duration": 2,
    "start_time": "2022-12-11T14:55:36.276Z"
   },
   {
    "duration": 5,
    "start_time": "2022-12-11T14:55:36.279Z"
   },
   {
    "duration": 36,
    "start_time": "2022-12-11T14:55:36.285Z"
   },
   {
    "duration": 9,
    "start_time": "2022-12-11T14:55:36.323Z"
   },
   {
    "duration": 62,
    "start_time": "2022-12-11T14:55:36.333Z"
   },
   {
    "duration": 58,
    "start_time": "2022-12-11T14:55:36.397Z"
   },
   {
    "duration": 4,
    "start_time": "2022-12-11T14:55:36.457Z"
   },
   {
    "duration": 11,
    "start_time": "2022-12-11T14:55:36.463Z"
   },
   {
    "duration": 11,
    "start_time": "2022-12-11T14:55:36.476Z"
   },
   {
    "duration": 32,
    "start_time": "2022-12-11T14:55:36.489Z"
   },
   {
    "duration": 628,
    "start_time": "2022-12-11T14:55:46.112Z"
   },
   {
    "duration": 4,
    "start_time": "2022-12-11T14:56:09.148Z"
   },
   {
    "duration": 3,
    "start_time": "2022-12-11T14:56:23.606Z"
   },
   {
    "duration": 1414,
    "start_time": "2022-12-11T14:56:37.039Z"
   },
   {
    "duration": 8,
    "start_time": "2022-12-11T15:19:40.060Z"
   },
   {
    "duration": 666,
    "start_time": "2022-12-11T15:19:41.636Z"
   },
   {
    "duration": 10,
    "start_time": "2022-12-11T15:19:42.435Z"
   },
   {
    "duration": 3,
    "start_time": "2022-12-11T15:19:43.998Z"
   },
   {
    "duration": 4,
    "start_time": "2022-12-11T15:19:45.836Z"
   },
   {
    "duration": 15,
    "start_time": "2022-12-11T15:19:47.311Z"
   },
   {
    "duration": 121,
    "start_time": "2022-12-11T15:19:48.165Z"
   },
   {
    "duration": 87,
    "start_time": "2022-12-11T15:19:49.173Z"
   },
   {
    "duration": 27,
    "start_time": "2022-12-11T15:19:50.259Z"
   },
   {
    "duration": 439,
    "start_time": "2022-12-11T15:19:50.982Z"
   },
   {
    "duration": 179,
    "start_time": "2022-12-11T15:19:53.118Z"
   },
   {
    "duration": 90,
    "start_time": "2022-12-11T15:19:54.142Z"
   },
   {
    "duration": 142,
    "start_time": "2022-12-11T15:19:56.789Z"
   },
   {
    "duration": 356,
    "start_time": "2022-12-11T15:19:57.653Z"
   },
   {
    "duration": 749,
    "start_time": "2022-12-11T15:20:00.997Z"
   },
   {
    "duration": 48,
    "start_time": "2022-12-11T15:20:01.821Z"
   },
   {
    "duration": 2,
    "start_time": "2022-12-11T15:20:03.364Z"
   },
   {
    "duration": 29,
    "start_time": "2022-12-11T15:20:04.852Z"
   },
   {
    "duration": 76,
    "start_time": "2022-12-11T15:20:05.846Z"
   },
   {
    "duration": 82,
    "start_time": "2022-12-11T15:20:08.014Z"
   },
   {
    "duration": 24,
    "start_time": "2022-12-11T15:20:09.620Z"
   },
   {
    "duration": 153,
    "start_time": "2022-12-11T15:20:13.100Z"
   },
   {
    "duration": 8,
    "start_time": "2022-12-11T15:20:14.629Z"
   },
   {
    "duration": 189,
    "start_time": "2022-12-11T15:20:15.365Z"
   },
   {
    "duration": 28,
    "start_time": "2022-12-11T15:20:17.381Z"
   },
   {
    "duration": 6,
    "start_time": "2022-12-11T15:20:19.101Z"
   },
   {
    "duration": 5,
    "start_time": "2022-12-11T15:20:20.750Z"
   },
   {
    "duration": 6,
    "start_time": "2022-12-11T15:20:22.308Z"
   },
   {
    "duration": 14,
    "start_time": "2022-12-11T15:20:23.948Z"
   },
   {
    "duration": 10,
    "start_time": "2022-12-11T15:20:26.540Z"
   },
   {
    "duration": 2,
    "start_time": "2022-12-11T15:20:27.317Z"
   },
   {
    "duration": 348,
    "start_time": "2022-12-11T15:20:31.107Z"
   },
   {
    "duration": 62,
    "start_time": "2022-12-11T15:20:34.163Z"
   },
   {
    "duration": 3,
    "start_time": "2022-12-11T15:20:36.916Z"
   },
   {
    "duration": 3,
    "start_time": "2022-12-11T15:20:37.908Z"
   },
   {
    "duration": 14,
    "start_time": "2022-12-11T15:20:38.604Z"
   },
   {
    "duration": 10,
    "start_time": "2022-12-11T15:20:39.839Z"
   },
   {
    "duration": 52,
    "start_time": "2022-12-11T15:20:40.802Z"
   },
   {
    "duration": 40,
    "start_time": "2022-12-11T15:20:42.481Z"
   },
   {
    "duration": 4,
    "start_time": "2022-12-11T15:20:43.781Z"
   },
   {
    "duration": 6,
    "start_time": "2022-12-11T15:20:48.174Z"
   },
   {
    "duration": 3,
    "start_time": "2022-12-11T15:21:08.373Z"
   },
   {
    "duration": 3,
    "start_time": "2022-12-11T15:21:13.197Z"
   },
   {
    "duration": 598,
    "start_time": "2022-12-11T15:21:14.062Z"
   },
   {
    "duration": 5,
    "start_time": "2022-12-11T15:21:20.972Z"
   },
   {
    "duration": 3,
    "start_time": "2022-12-11T15:21:22.647Z"
   },
   {
    "duration": 3,
    "start_time": "2022-12-11T15:21:43.624Z"
   },
   {
    "duration": 1447,
    "start_time": "2022-12-11T15:21:44.521Z"
   },
   {
    "duration": 132,
    "start_time": "2022-12-11T15:21:54.705Z"
   },
   {
    "duration": 3,
    "start_time": "2022-12-11T15:21:56.232Z"
   },
   {
    "duration": 40,
    "start_time": "2022-12-11T15:21:57.392Z"
   },
   {
    "duration": 39,
    "start_time": "2022-12-11T15:22:34.843Z"
   },
   {
    "duration": 3,
    "start_time": "2022-12-11T15:22:58.007Z"
   },
   {
    "duration": 2,
    "start_time": "2022-12-11T15:23:00.273Z"
   },
   {
    "duration": 80,
    "start_time": "2022-12-11T15:23:01.640Z"
   },
   {
    "duration": 85,
    "start_time": "2022-12-11T15:23:12.297Z"
   },
   {
    "duration": 72,
    "start_time": "2022-12-11T15:23:13.321Z"
   },
   {
    "duration": 8,
    "start_time": "2022-12-11T15:28:06.616Z"
   },
   {
    "duration": 714,
    "start_time": "2022-12-11T15:28:14.779Z"
   },
   {
    "duration": 10,
    "start_time": "2022-12-11T15:28:22.971Z"
   },
   {
    "duration": 2,
    "start_time": "2022-12-11T15:28:26.860Z"
   },
   {
    "duration": 4,
    "start_time": "2022-12-11T15:28:30.595Z"
   },
   {
    "duration": 15,
    "start_time": "2022-12-11T15:28:34.520Z"
   },
   {
    "duration": 123,
    "start_time": "2022-12-11T15:28:40.964Z"
   },
   {
    "duration": 79,
    "start_time": "2022-12-11T15:28:47.092Z"
   },
   {
    "duration": 24,
    "start_time": "2022-12-11T15:28:53.179Z"
   },
   {
    "duration": 449,
    "start_time": "2022-12-11T15:29:02.436Z"
   },
   {
    "duration": 178,
    "start_time": "2022-12-11T15:29:13.316Z"
   },
   {
    "duration": 152,
    "start_time": "2022-12-11T15:29:54.134Z"
   },
   {
    "duration": 701,
    "start_time": "2022-12-11T15:30:13.525Z"
   },
   {
    "duration": 51,
    "start_time": "2022-12-11T15:30:21.799Z"
   },
   {
    "duration": 4,
    "start_time": "2022-12-11T15:30:38.037Z"
   },
   {
    "duration": 29,
    "start_time": "2022-12-11T15:30:58.769Z"
   },
   {
    "duration": 88,
    "start_time": "2022-12-11T15:31:04.918Z"
   },
   {
    "duration": 104,
    "start_time": "2022-12-11T15:31:15.864Z"
   },
   {
    "duration": 31,
    "start_time": "2022-12-11T15:31:44.383Z"
   },
   {
    "duration": 150,
    "start_time": "2022-12-11T15:32:03.871Z"
   },
   {
    "duration": 6,
    "start_time": "2022-12-11T15:32:11.046Z"
   },
   {
    "duration": 175,
    "start_time": "2022-12-11T15:32:15.342Z"
   },
   {
    "duration": 27,
    "start_time": "2022-12-11T15:32:27.727Z"
   },
   {
    "duration": 7,
    "start_time": "2022-12-11T15:32:35.040Z"
   },
   {
    "duration": 14,
    "start_time": "2022-12-11T15:32:54.606Z"
   },
   {
    "duration": 61,
    "start_time": "2022-12-11T15:33:36.466Z"
   },
   {
    "duration": 3,
    "start_time": "2022-12-11T15:33:42.009Z"
   },
   {
    "duration": 13,
    "start_time": "2022-12-11T15:33:53.703Z"
   },
   {
    "duration": 11,
    "start_time": "2022-12-11T15:33:59.240Z"
   },
   {
    "duration": 54,
    "start_time": "2022-12-11T15:36:07.816Z"
   },
   {
    "duration": 43,
    "start_time": "2022-12-11T15:36:10.969Z"
   },
   {
    "duration": 4,
    "start_time": "2022-12-11T15:36:15.703Z"
   },
   {
    "duration": 527,
    "start_time": "2022-12-11T15:38:14.485Z"
   },
   {
    "duration": 134,
    "start_time": "2022-12-11T15:38:17.420Z"
   },
   {
    "duration": 99,
    "start_time": "2022-12-11T15:38:21.660Z"
   },
   {
    "duration": 5,
    "start_time": "2022-12-11T15:38:30.868Z"
   },
   {
    "duration": 3,
    "start_time": "2022-12-11T15:39:28.148Z"
   },
   {
    "duration": 3,
    "start_time": "2022-12-11T15:39:36.683Z"
   },
   {
    "duration": 1342,
    "start_time": "2022-12-11T15:39:41.396Z"
   },
   {
    "duration": 94,
    "start_time": "2022-12-11T15:40:20.108Z"
   },
   {
    "duration": 3,
    "start_time": "2022-12-11T15:40:29.579Z"
   },
   {
    "duration": 1361,
    "start_time": "2022-12-11T15:40:49.102Z"
   },
   {
    "duration": 15,
    "start_time": "2022-12-11T15:45:33.888Z"
   },
   {
    "duration": 12,
    "start_time": "2022-12-11T15:45:37.282Z"
   },
   {
    "duration": 3,
    "start_time": "2022-12-11T15:47:36.256Z"
   },
   {
    "duration": 6,
    "start_time": "2022-12-11T15:49:22.540Z"
   },
   {
    "duration": 10,
    "start_time": "2022-12-11T15:52:36.446Z"
   },
   {
    "duration": 577,
    "start_time": "2022-12-11T15:54:39.568Z"
   },
   {
    "duration": 163,
    "start_time": "2022-12-11T15:54:43.542Z"
   },
   {
    "duration": 576,
    "start_time": "2022-12-11T15:54:47.393Z"
   },
   {
    "duration": 4,
    "start_time": "2022-12-11T15:54:53.708Z"
   },
   {
    "duration": 3,
    "start_time": "2022-12-11T15:54:59.893Z"
   },
   {
    "duration": 4,
    "start_time": "2022-12-11T15:55:03.573Z"
   },
   {
    "duration": 9,
    "start_time": "2022-12-11T15:55:31.456Z"
   },
   {
    "duration": 796,
    "start_time": "2022-12-11T15:55:31.467Z"
   },
   {
    "duration": 11,
    "start_time": "2022-12-11T15:55:32.265Z"
   },
   {
    "duration": 18,
    "start_time": "2022-12-11T15:55:32.277Z"
   },
   {
    "duration": 18,
    "start_time": "2022-12-11T15:55:32.297Z"
   },
   {
    "duration": 50,
    "start_time": "2022-12-11T15:55:32.316Z"
   },
   {
    "duration": 167,
    "start_time": "2022-12-11T15:55:32.367Z"
   },
   {
    "duration": 121,
    "start_time": "2022-12-11T15:55:32.541Z"
   },
   {
    "duration": 26,
    "start_time": "2022-12-11T15:55:32.663Z"
   },
   {
    "duration": 704,
    "start_time": "2022-12-11T15:55:32.691Z"
   },
   {
    "duration": 268,
    "start_time": "2022-12-11T15:55:33.427Z"
   },
   {
    "duration": 112,
    "start_time": "2022-12-11T15:55:33.697Z"
   },
   {
    "duration": 199,
    "start_time": "2022-12-11T15:55:33.810Z"
   },
   {
    "duration": 412,
    "start_time": "2022-12-11T15:55:34.011Z"
   },
   {
    "duration": 867,
    "start_time": "2022-12-11T15:55:34.431Z"
   },
   {
    "duration": 77,
    "start_time": "2022-12-11T15:55:35.300Z"
   },
   {
    "duration": 13,
    "start_time": "2022-12-11T15:55:35.379Z"
   },
   {
    "duration": 53,
    "start_time": "2022-12-11T15:55:35.394Z"
   },
   {
    "duration": 167,
    "start_time": "2022-12-11T15:55:35.449Z"
   },
   {
    "duration": 100,
    "start_time": "2022-12-11T15:55:35.618Z"
   },
   {
    "duration": 42,
    "start_time": "2022-12-11T15:55:35.721Z"
   },
   {
    "duration": 214,
    "start_time": "2022-12-11T15:55:35.770Z"
   },
   {
    "duration": 9,
    "start_time": "2022-12-11T15:55:35.986Z"
   },
   {
    "duration": 196,
    "start_time": "2022-12-11T15:55:35.997Z"
   },
   {
    "duration": 47,
    "start_time": "2022-12-11T15:55:36.195Z"
   },
   {
    "duration": 10,
    "start_time": "2022-12-11T15:55:36.243Z"
   },
   {
    "duration": 16,
    "start_time": "2022-12-11T15:55:36.256Z"
   },
   {
    "duration": 9,
    "start_time": "2022-12-11T15:55:36.273Z"
   },
   {
    "duration": 43,
    "start_time": "2022-12-11T15:55:36.286Z"
   },
   {
    "duration": 17,
    "start_time": "2022-12-11T15:55:36.336Z"
   },
   {
    "duration": 13,
    "start_time": "2022-12-11T15:55:36.357Z"
   },
   {
    "duration": 384,
    "start_time": "2022-12-11T15:55:36.372Z"
   },
   {
    "duration": 73,
    "start_time": "2022-12-11T15:55:36.758Z"
   },
   {
    "duration": 3,
    "start_time": "2022-12-11T15:55:36.833Z"
   },
   {
    "duration": 31,
    "start_time": "2022-12-11T15:55:36.840Z"
   },
   {
    "duration": 15,
    "start_time": "2022-12-11T15:55:36.872Z"
   },
   {
    "duration": 10,
    "start_time": "2022-12-11T15:55:36.888Z"
   },
   {
    "duration": 75,
    "start_time": "2022-12-11T15:55:36.900Z"
   },
   {
    "duration": 43,
    "start_time": "2022-12-11T15:55:36.977Z"
   },
   {
    "duration": 7,
    "start_time": "2022-12-11T15:55:37.035Z"
   },
   {
    "duration": 30,
    "start_time": "2022-12-11T15:55:37.045Z"
   },
   {
    "duration": 5,
    "start_time": "2022-12-11T15:55:37.077Z"
   },
   {
    "duration": 8,
    "start_time": "2022-12-11T15:55:37.085Z"
   },
   {
    "duration": 610,
    "start_time": "2022-12-11T15:55:37.095Z"
   },
   {
    "duration": 163,
    "start_time": "2022-12-11T15:55:37.707Z"
   },
   {
    "duration": 581,
    "start_time": "2022-12-11T15:55:37.871Z"
   },
   {
    "duration": 4,
    "start_time": "2022-12-11T15:55:48.486Z"
   },
   {
    "duration": 3,
    "start_time": "2022-12-11T15:55:54.367Z"
   },
   {
    "duration": 8,
    "start_time": "2022-12-11T15:56:00.552Z"
   },
   {
    "duration": 1522,
    "start_time": "2022-12-11T15:56:03.673Z"
   },
   {
    "duration": 480,
    "start_time": "2022-12-11T15:58:18.401Z"
   },
   {
    "duration": 4,
    "start_time": "2022-12-11T15:58:26.413Z"
   },
   {
    "duration": 3,
    "start_time": "2022-12-11T15:58:29.880Z"
   },
   {
    "duration": 4,
    "start_time": "2022-12-11T15:58:34.672Z"
   },
   {
    "duration": 18,
    "start_time": "2022-12-11T16:02:07.645Z"
   },
   {
    "duration": 9,
    "start_time": "2022-12-11T16:02:15.480Z"
   },
   {
    "duration": 813,
    "start_time": "2022-12-11T16:02:15.492Z"
   },
   {
    "duration": 133,
    "start_time": "2022-12-11T16:02:16.307Z"
   },
   {
    "duration": 11,
    "start_time": "2022-12-11T16:02:16.442Z"
   },
   {
    "duration": 27,
    "start_time": "2022-12-11T16:02:16.455Z"
   },
   {
    "duration": 25,
    "start_time": "2022-12-11T16:02:16.484Z"
   },
   {
    "duration": 179,
    "start_time": "2022-12-11T16:02:16.511Z"
   },
   {
    "duration": 114,
    "start_time": "2022-12-11T16:02:16.692Z"
   },
   {
    "duration": 40,
    "start_time": "2022-12-11T16:02:16.808Z"
   },
   {
    "duration": 538,
    "start_time": "2022-12-11T16:02:16.850Z"
   },
   {
    "duration": 209,
    "start_time": "2022-12-11T16:02:17.392Z"
   },
   {
    "duration": 140,
    "start_time": "2022-12-11T16:02:17.603Z"
   },
   {
    "duration": 181,
    "start_time": "2022-12-11T16:02:17.744Z"
   },
   {
    "duration": 394,
    "start_time": "2022-12-11T16:02:17.931Z"
   },
   {
    "duration": 915,
    "start_time": "2022-12-11T16:02:18.327Z"
   },
   {
    "duration": 58,
    "start_time": "2022-12-11T16:02:19.248Z"
   },
   {
    "duration": 4,
    "start_time": "2022-12-11T16:02:19.308Z"
   },
   {
    "duration": 66,
    "start_time": "2022-12-11T16:02:19.314Z"
   },
   {
    "duration": 103,
    "start_time": "2022-12-11T16:02:19.382Z"
   },
   {
    "duration": 100,
    "start_time": "2022-12-11T16:02:19.487Z"
   },
   {
    "duration": 49,
    "start_time": "2022-12-11T16:02:19.589Z"
   },
   {
    "duration": 199,
    "start_time": "2022-12-11T16:02:19.641Z"
   },
   {
    "duration": 8,
    "start_time": "2022-12-11T16:02:19.842Z"
   },
   {
    "duration": 180,
    "start_time": "2022-12-11T16:02:19.852Z"
   },
   {
    "duration": 32,
    "start_time": "2022-12-11T16:02:20.033Z"
   },
   {
    "duration": 5,
    "start_time": "2022-12-11T16:02:20.067Z"
   },
   {
    "duration": 16,
    "start_time": "2022-12-11T16:02:20.074Z"
   },
   {
    "duration": 44,
    "start_time": "2022-12-11T16:02:20.092Z"
   },
   {
    "duration": 18,
    "start_time": "2022-12-11T16:02:27.084Z"
   },
   {
    "duration": 4,
    "start_time": "2022-12-11T16:12:43.762Z"
   },
   {
    "duration": 5,
    "start_time": "2022-12-11T16:14:30.473Z"
   },
   {
    "duration": 3,
    "start_time": "2022-12-11T16:19:06.051Z"
   },
   {
    "duration": 55,
    "start_time": "2022-12-11T16:19:17.585Z"
   },
   {
    "duration": 42,
    "start_time": "2022-12-11T16:19:57.039Z"
   },
   {
    "duration": 7,
    "start_time": "2022-12-11T16:21:17.743Z"
   },
   {
    "duration": 802,
    "start_time": "2022-12-11T16:21:17.751Z"
   },
   {
    "duration": 12,
    "start_time": "2022-12-11T16:21:18.555Z"
   },
   {
    "duration": 16,
    "start_time": "2022-12-11T16:21:18.568Z"
   },
   {
    "duration": 6,
    "start_time": "2022-12-11T16:21:18.587Z"
   },
   {
    "duration": 28,
    "start_time": "2022-12-11T16:21:18.595Z"
   },
   {
    "duration": 152,
    "start_time": "2022-12-11T16:21:18.626Z"
   },
   {
    "duration": 96,
    "start_time": "2022-12-11T16:21:18.779Z"
   },
   {
    "duration": 27,
    "start_time": "2022-12-11T16:21:18.877Z"
   },
   {
    "duration": 516,
    "start_time": "2022-12-11T16:21:18.920Z"
   },
   {
    "duration": 205,
    "start_time": "2022-12-11T16:21:19.440Z"
   },
   {
    "duration": 109,
    "start_time": "2022-12-11T16:21:19.646Z"
   },
   {
    "duration": 169,
    "start_time": "2022-12-11T16:21:19.756Z"
   },
   {
    "duration": 405,
    "start_time": "2022-12-11T16:21:19.927Z"
   },
   {
    "duration": 854,
    "start_time": "2022-12-11T16:21:20.335Z"
   },
   {
    "duration": 65,
    "start_time": "2022-12-11T16:21:21.191Z"
   },
   {
    "duration": 3,
    "start_time": "2022-12-11T16:21:21.258Z"
   },
   {
    "duration": 32,
    "start_time": "2022-12-11T16:21:21.263Z"
   },
   {
    "duration": 116,
    "start_time": "2022-12-11T16:21:21.297Z"
   },
   {
    "duration": 105,
    "start_time": "2022-12-11T16:21:21.421Z"
   },
   {
    "duration": 47,
    "start_time": "2022-12-11T16:21:21.528Z"
   },
   {
    "duration": 202,
    "start_time": "2022-12-11T16:21:21.577Z"
   },
   {
    "duration": 7,
    "start_time": "2022-12-11T16:21:21.780Z"
   },
   {
    "duration": 193,
    "start_time": "2022-12-11T16:21:21.788Z"
   },
   {
    "duration": 58,
    "start_time": "2022-12-11T16:21:21.982Z"
   },
   {
    "duration": 7,
    "start_time": "2022-12-11T16:21:22.042Z"
   },
   {
    "duration": 14,
    "start_time": "2022-12-11T16:21:22.050Z"
   },
   {
    "duration": 7,
    "start_time": "2022-12-11T16:21:22.066Z"
   },
   {
    "duration": 17,
    "start_time": "2022-12-11T16:21:22.076Z"
   },
   {
    "duration": 43,
    "start_time": "2022-12-11T16:21:22.095Z"
   },
   {
    "duration": 10,
    "start_time": "2022-12-11T16:21:22.142Z"
   },
   {
    "duration": 410,
    "start_time": "2022-12-11T16:21:22.153Z"
   },
   {
    "duration": 83,
    "start_time": "2022-12-11T16:21:22.565Z"
   },
   {
    "duration": 5,
    "start_time": "2022-12-11T16:21:22.650Z"
   },
   {
    "duration": 5,
    "start_time": "2022-12-11T16:21:22.656Z"
   },
   {
    "duration": 16,
    "start_time": "2022-12-11T16:21:22.662Z"
   },
   {
    "duration": 44,
    "start_time": "2022-12-11T16:21:22.680Z"
   },
   {
    "duration": 61,
    "start_time": "2022-12-11T16:21:22.726Z"
   },
   {
    "duration": 79,
    "start_time": "2022-12-11T16:21:22.790Z"
   },
   {
    "duration": 4,
    "start_time": "2022-12-11T16:21:22.871Z"
   },
   {
    "duration": 27,
    "start_time": "2022-12-11T16:21:22.876Z"
   },
   {
    "duration": 9,
    "start_time": "2022-12-11T16:21:22.904Z"
   },
   {
    "duration": 27,
    "start_time": "2022-12-11T16:21:22.915Z"
   },
   {
    "duration": 708,
    "start_time": "2022-12-11T16:21:22.943Z"
   },
   {
    "duration": 554,
    "start_time": "2022-12-11T16:21:23.654Z"
   },
   {
    "duration": 4,
    "start_time": "2022-12-11T16:21:24.209Z"
   },
   {
    "duration": 15,
    "start_time": "2022-12-11T16:21:24.220Z"
   },
   {
    "duration": 8,
    "start_time": "2022-12-11T16:21:24.238Z"
   },
   {
    "duration": 20855,
    "start_time": "2022-12-11T16:21:33.542Z"
   },
   {
    "duration": 6,
    "start_time": "2022-12-11T16:23:04.034Z"
   },
   {
    "duration": 783,
    "start_time": "2022-12-11T16:23:04.043Z"
   },
   {
    "duration": 16,
    "start_time": "2022-12-11T16:23:04.828Z"
   },
   {
    "duration": 21,
    "start_time": "2022-12-11T16:23:04.845Z"
   },
   {
    "duration": 10,
    "start_time": "2022-12-11T16:23:04.868Z"
   },
   {
    "duration": 15,
    "start_time": "2022-12-11T16:23:04.880Z"
   },
   {
    "duration": 167,
    "start_time": "2022-12-11T16:23:04.897Z"
   },
   {
    "duration": 106,
    "start_time": "2022-12-11T16:23:05.066Z"
   },
   {
    "duration": 31,
    "start_time": "2022-12-11T16:23:05.174Z"
   },
   {
    "duration": 575,
    "start_time": "2022-12-11T16:23:05.207Z"
   },
   {
    "duration": 197,
    "start_time": "2022-12-11T16:23:05.784Z"
   },
   {
    "duration": 101,
    "start_time": "2022-12-11T16:23:05.983Z"
   },
   {
    "duration": 197,
    "start_time": "2022-12-11T16:23:06.086Z"
   },
   {
    "duration": 412,
    "start_time": "2022-12-11T16:23:06.285Z"
   },
   {
    "duration": 799,
    "start_time": "2022-12-11T16:23:06.698Z"
   },
   {
    "duration": 59,
    "start_time": "2022-12-11T16:23:07.499Z"
   },
   {
    "duration": 2,
    "start_time": "2022-12-11T16:23:07.560Z"
   },
   {
    "duration": 35,
    "start_time": "2022-12-11T16:23:07.564Z"
   },
   {
    "duration": 100,
    "start_time": "2022-12-11T16:23:07.600Z"
   },
   {
    "duration": 87,
    "start_time": "2022-12-11T16:23:07.701Z"
   },
   {
    "duration": 45,
    "start_time": "2022-12-11T16:23:07.790Z"
   },
   {
    "duration": 192,
    "start_time": "2022-12-11T16:23:07.837Z"
   },
   {
    "duration": 10,
    "start_time": "2022-12-11T16:23:08.031Z"
   },
   {
    "duration": 169,
    "start_time": "2022-12-11T16:23:08.043Z"
   },
   {
    "duration": 41,
    "start_time": "2022-12-11T16:23:08.214Z"
   },
   {
    "duration": 7,
    "start_time": "2022-12-11T16:23:08.257Z"
   },
   {
    "duration": 8,
    "start_time": "2022-12-11T16:23:08.265Z"
   },
   {
    "duration": 10,
    "start_time": "2022-12-11T16:23:08.275Z"
   },
   {
    "duration": 50,
    "start_time": "2022-12-11T16:23:08.286Z"
   },
   {
    "duration": 15,
    "start_time": "2022-12-11T16:23:08.340Z"
   },
   {
    "duration": 9,
    "start_time": "2022-12-11T16:23:08.356Z"
   },
   {
    "duration": 379,
    "start_time": "2022-12-11T16:23:08.367Z"
   },
   {
    "duration": 86,
    "start_time": "2022-12-11T16:23:08.748Z"
   },
   {
    "duration": 3,
    "start_time": "2022-12-11T16:23:08.837Z"
   },
   {
    "duration": 12,
    "start_time": "2022-12-11T16:23:08.842Z"
   },
   {
    "duration": 17,
    "start_time": "2022-12-11T16:23:08.856Z"
   },
   {
    "duration": 10,
    "start_time": "2022-12-11T16:23:08.877Z"
   },
   {
    "duration": 65,
    "start_time": "2022-12-11T16:23:08.888Z"
   },
   {
    "duration": 44,
    "start_time": "2022-12-11T16:23:08.955Z"
   },
   {
    "duration": 3,
    "start_time": "2022-12-11T16:23:09.001Z"
   },
   {
    "duration": 9,
    "start_time": "2022-12-11T16:23:09.027Z"
   },
   {
    "duration": 12,
    "start_time": "2022-12-11T16:23:09.038Z"
   },
   {
    "duration": 7,
    "start_time": "2022-12-11T16:23:09.051Z"
   },
   {
    "duration": 598,
    "start_time": "2022-12-11T16:23:09.060Z"
   },
   {
    "duration": 7,
    "start_time": "2022-12-11T16:30:56.986Z"
   },
   {
    "duration": 802,
    "start_time": "2022-12-11T16:30:56.995Z"
   },
   {
    "duration": 11,
    "start_time": "2022-12-11T16:30:57.799Z"
   },
   {
    "duration": 27,
    "start_time": "2022-12-11T16:30:57.822Z"
   },
   {
    "duration": 18,
    "start_time": "2022-12-11T16:30:57.851Z"
   },
   {
    "duration": 26,
    "start_time": "2022-12-11T16:30:57.870Z"
   },
   {
    "duration": 186,
    "start_time": "2022-12-11T16:30:57.898Z"
   },
   {
    "duration": 90,
    "start_time": "2022-12-11T16:30:58.085Z"
   },
   {
    "duration": 29,
    "start_time": "2022-12-11T16:30:58.176Z"
   },
   {
    "duration": 536,
    "start_time": "2022-12-11T16:30:58.206Z"
   },
   {
    "duration": 201,
    "start_time": "2022-12-11T16:30:58.749Z"
   },
   {
    "duration": 112,
    "start_time": "2022-12-11T16:30:58.954Z"
   },
   {
    "duration": 183,
    "start_time": "2022-12-11T16:30:59.068Z"
   },
   {
    "duration": 406,
    "start_time": "2022-12-11T16:30:59.253Z"
   },
   {
    "duration": 827,
    "start_time": "2022-12-11T16:30:59.661Z"
   },
   {
    "duration": 64,
    "start_time": "2022-12-11T16:31:00.490Z"
   },
   {
    "duration": 6,
    "start_time": "2022-12-11T16:31:00.555Z"
   },
   {
    "duration": 42,
    "start_time": "2022-12-11T16:31:00.565Z"
   },
   {
    "duration": 103,
    "start_time": "2022-12-11T16:31:00.609Z"
   },
   {
    "duration": 88,
    "start_time": "2022-12-11T16:31:00.713Z"
   },
   {
    "duration": 39,
    "start_time": "2022-12-11T16:31:00.802Z"
   },
   {
    "duration": 200,
    "start_time": "2022-12-11T16:31:00.844Z"
   },
   {
    "duration": 6,
    "start_time": "2022-12-11T16:31:01.046Z"
   },
   {
    "duration": 270,
    "start_time": "2022-12-11T16:31:01.054Z"
   },
   {
    "duration": 35,
    "start_time": "2022-12-11T16:31:01.328Z"
   },
   {
    "duration": 6,
    "start_time": "2022-12-11T16:31:01.364Z"
   },
   {
    "duration": 9,
    "start_time": "2022-12-11T16:31:01.371Z"
   },
   {
    "duration": 22,
    "start_time": "2022-12-11T16:31:01.382Z"
   },
   {
    "duration": 39,
    "start_time": "2022-12-11T16:31:01.408Z"
   },
   {
    "duration": 37,
    "start_time": "2022-12-11T16:31:01.448Z"
   },
   {
    "duration": 12,
    "start_time": "2022-12-11T16:31:01.487Z"
   },
   {
    "duration": 448,
    "start_time": "2022-12-11T16:31:01.501Z"
   },
   {
    "duration": 62,
    "start_time": "2022-12-11T16:31:01.951Z"
   },
   {
    "duration": 35,
    "start_time": "2022-12-11T16:31:02.025Z"
   },
   {
    "duration": 48,
    "start_time": "2022-12-11T16:31:02.062Z"
   },
   {
    "duration": 59,
    "start_time": "2022-12-11T16:31:02.112Z"
   },
   {
    "duration": 16,
    "start_time": "2022-12-11T16:31:02.173Z"
   },
   {
    "duration": 95,
    "start_time": "2022-12-11T16:31:02.191Z"
   },
   {
    "duration": 58,
    "start_time": "2022-12-11T16:31:02.288Z"
   },
   {
    "duration": 5,
    "start_time": "2022-12-11T16:31:02.348Z"
   },
   {
    "duration": 23,
    "start_time": "2022-12-11T16:31:02.355Z"
   },
   {
    "duration": 3,
    "start_time": "2022-12-11T16:33:14.374Z"
   },
   {
    "duration": 1315,
    "start_time": "2022-12-11T16:33:18.543Z"
   },
   {
    "duration": 21,
    "start_time": "2022-12-11T16:33:19.861Z"
   },
   {
    "duration": 610,
    "start_time": "2022-12-11T16:33:22.880Z"
   },
   {
    "duration": 136,
    "start_time": "2022-12-11T16:33:36.574Z"
   },
   {
    "duration": 4,
    "start_time": "2022-12-11T16:33:37.680Z"
   },
   {
    "duration": 3,
    "start_time": "2022-12-11T16:33:41.470Z"
   },
   {
    "duration": 12,
    "start_time": "2022-12-11T16:33:45.519Z"
   },
   {
    "duration": 10,
    "start_time": "2022-12-11T16:34:06.950Z"
   },
   {
    "duration": 3,
    "start_time": "2022-12-11T16:34:34.149Z"
   },
   {
    "duration": 44,
    "start_time": "2022-12-11T16:34:40.238Z"
   },
   {
    "duration": 1520,
    "start_time": "2022-12-11T16:35:10.848Z"
   },
   {
    "duration": 1140,
    "start_time": "2022-12-11T16:35:14.405Z"
   },
   {
    "duration": 10,
    "start_time": "2022-12-11T16:35:15.548Z"
   },
   {
    "duration": 2,
    "start_time": "2022-12-11T16:35:15.568Z"
   },
   {
    "duration": 3,
    "start_time": "2022-12-11T16:35:16.678Z"
   },
   {
    "duration": 18,
    "start_time": "2022-12-11T16:35:17.856Z"
   },
   {
    "duration": 142,
    "start_time": "2022-12-11T16:35:18.512Z"
   },
   {
    "duration": 95,
    "start_time": "2022-12-11T16:35:19.137Z"
   },
   {
    "duration": 35,
    "start_time": "2022-12-11T16:35:19.807Z"
   },
   {
    "duration": 479,
    "start_time": "2022-12-11T16:35:20.473Z"
   },
   {
    "duration": 202,
    "start_time": "2022-12-11T16:35:21.848Z"
   },
   {
    "duration": 95,
    "start_time": "2022-12-11T16:35:22.511Z"
   },
   {
    "duration": 160,
    "start_time": "2022-12-11T16:35:24.544Z"
   },
   {
    "duration": 468,
    "start_time": "2022-12-11T16:35:25.271Z"
   },
   {
    "duration": 849,
    "start_time": "2022-12-11T16:35:27.439Z"
   },
   {
    "duration": 55,
    "start_time": "2022-12-11T16:35:28.290Z"
   },
   {
    "duration": 3,
    "start_time": "2022-12-11T16:35:29.476Z"
   },
   {
    "duration": 29,
    "start_time": "2022-12-11T16:35:31.086Z"
   },
   {
    "duration": 87,
    "start_time": "2022-12-11T16:35:32.144Z"
   },
   {
    "duration": 84,
    "start_time": "2022-12-11T16:35:33.574Z"
   },
   {
    "duration": 25,
    "start_time": "2022-12-11T16:35:34.983Z"
   },
   {
    "duration": 162,
    "start_time": "2022-12-11T16:35:37.639Z"
   },
   {
    "duration": 6,
    "start_time": "2022-12-11T16:35:38.895Z"
   },
   {
    "duration": 147,
    "start_time": "2022-12-11T16:35:39.552Z"
   },
   {
    "duration": 39,
    "start_time": "2022-12-11T16:35:40.911Z"
   },
   {
    "duration": 7,
    "start_time": "2022-12-11T16:35:42.376Z"
   },
   {
    "duration": 8,
    "start_time": "2022-12-11T16:35:43.827Z"
   },
   {
    "duration": 7,
    "start_time": "2022-12-11T16:35:45.190Z"
   },
   {
    "duration": 21,
    "start_time": "2022-12-11T16:35:46.510Z"
   },
   {
    "duration": 10,
    "start_time": "2022-12-11T16:35:48.582Z"
   },
   {
    "duration": 2,
    "start_time": "2022-12-11T16:35:49.295Z"
   },
   {
    "duration": 459,
    "start_time": "2022-12-11T16:35:51.775Z"
   },
   {
    "duration": 69,
    "start_time": "2022-12-11T16:35:54.007Z"
   },
   {
    "duration": 2,
    "start_time": "2022-12-11T16:35:56.208Z"
   },
   {
    "duration": 2,
    "start_time": "2022-12-11T16:35:56.768Z"
   },
   {
    "duration": 12,
    "start_time": "2022-12-11T16:35:57.472Z"
   },
   {
    "duration": 12,
    "start_time": "2022-12-11T16:35:58.233Z"
   },
   {
    "duration": 63,
    "start_time": "2022-12-11T16:35:58.992Z"
   },
   {
    "duration": 60,
    "start_time": "2022-12-11T16:36:00.302Z"
   },
   {
    "duration": 3,
    "start_time": "2022-12-11T16:36:01.705Z"
   },
   {
    "duration": 6,
    "start_time": "2022-12-11T16:36:03.096Z"
   },
   {
    "duration": 3,
    "start_time": "2022-12-11T16:36:05.951Z"
   },
   {
    "duration": 1290,
    "start_time": "2022-12-11T16:36:07.856Z"
   },
   {
    "duration": 15,
    "start_time": "2022-12-11T16:36:09.155Z"
   },
   {
    "duration": 86,
    "start_time": "2022-12-11T16:36:09.448Z"
   },
   {
    "duration": 22,
    "start_time": "2022-12-11T16:36:25.688Z"
   },
   {
    "duration": 1477,
    "start_time": "2022-12-11T16:48:52.979Z"
   },
   {
    "duration": 803,
    "start_time": "2022-12-11T16:48:54.458Z"
   },
   {
    "duration": 14,
    "start_time": "2022-12-11T16:48:55.263Z"
   },
   {
    "duration": 8,
    "start_time": "2022-12-11T16:48:55.279Z"
   },
   {
    "duration": 10,
    "start_time": "2022-12-11T16:48:55.288Z"
   },
   {
    "duration": 45,
    "start_time": "2022-12-11T16:48:55.300Z"
   },
   {
    "duration": 197,
    "start_time": "2022-12-11T16:48:55.347Z"
   },
   {
    "duration": 102,
    "start_time": "2022-12-11T16:48:55.549Z"
   },
   {
    "duration": 25,
    "start_time": "2022-12-11T16:48:55.653Z"
   },
   {
    "duration": 497,
    "start_time": "2022-12-11T16:48:55.680Z"
   },
   {
    "duration": 213,
    "start_time": "2022-12-11T16:48:56.179Z"
   },
   {
    "duration": 106,
    "start_time": "2022-12-11T16:48:56.393Z"
   },
   {
    "duration": 178,
    "start_time": "2022-12-11T16:48:56.500Z"
   },
   {
    "duration": 404,
    "start_time": "2022-12-11T16:48:56.680Z"
   },
   {
    "duration": 809,
    "start_time": "2022-12-11T16:48:57.085Z"
   },
   {
    "duration": 52,
    "start_time": "2022-12-11T16:48:57.896Z"
   },
   {
    "duration": 3,
    "start_time": "2022-12-11T16:48:57.950Z"
   },
   {
    "duration": 32,
    "start_time": "2022-12-11T16:48:57.954Z"
   },
   {
    "duration": 102,
    "start_time": "2022-12-11T16:48:57.987Z"
   },
   {
    "duration": 94,
    "start_time": "2022-12-11T16:48:58.091Z"
   },
   {
    "duration": 24,
    "start_time": "2022-12-11T16:48:58.186Z"
   },
   {
    "duration": 182,
    "start_time": "2022-12-11T16:48:58.221Z"
   },
   {
    "duration": 6,
    "start_time": "2022-12-11T16:48:58.404Z"
   },
   {
    "duration": 201,
    "start_time": "2022-12-11T16:48:58.412Z"
   },
   {
    "duration": 35,
    "start_time": "2022-12-11T16:48:58.615Z"
   },
   {
    "duration": 6,
    "start_time": "2022-12-11T16:48:58.651Z"
   },
   {
    "duration": 6,
    "start_time": "2022-12-11T16:48:58.658Z"
   },
   {
    "duration": 13,
    "start_time": "2022-12-11T16:48:58.667Z"
   },
   {
    "duration": 17,
    "start_time": "2022-12-11T16:48:58.681Z"
   },
   {
    "duration": 33,
    "start_time": "2022-12-11T16:48:58.700Z"
   },
   {
    "duration": 18,
    "start_time": "2022-12-11T16:48:58.735Z"
   },
   {
    "duration": 439,
    "start_time": "2022-12-11T16:48:58.754Z"
   },
   {
    "duration": 77,
    "start_time": "2022-12-11T16:48:59.194Z"
   },
   {
    "duration": 3,
    "start_time": "2022-12-11T16:48:59.273Z"
   },
   {
    "duration": 6,
    "start_time": "2022-12-11T16:48:59.277Z"
   },
   {
    "duration": 27,
    "start_time": "2022-12-11T16:48:59.285Z"
   },
   {
    "duration": 33,
    "start_time": "2022-12-11T16:48:59.314Z"
   },
   {
    "duration": 60,
    "start_time": "2022-12-11T16:48:59.348Z"
   },
   {
    "duration": 58,
    "start_time": "2022-12-11T16:48:59.409Z"
   },
   {
    "duration": 4,
    "start_time": "2022-12-11T16:48:59.468Z"
   },
   {
    "duration": 11,
    "start_time": "2022-12-11T16:48:59.473Z"
   },
   {
    "duration": 8,
    "start_time": "2022-12-11T16:48:59.486Z"
   },
   {
    "duration": 19,
    "start_time": "2022-12-11T16:49:12.197Z"
   },
   {
    "duration": 126,
    "start_time": "2022-12-11T16:49:19.211Z"
   },
   {
    "duration": 163,
    "start_time": "2022-12-11T16:49:32.552Z"
   },
   {
    "duration": 4,
    "start_time": "2022-12-11T16:49:35.152Z"
   },
   {
    "duration": 4,
    "start_time": "2022-12-11T16:50:33.052Z"
   },
   {
    "duration": 6,
    "start_time": "2022-12-11T16:56:26.100Z"
   },
   {
    "duration": 896,
    "start_time": "2022-12-11T16:56:26.108Z"
   },
   {
    "duration": 22,
    "start_time": "2022-12-11T16:56:27.006Z"
   },
   {
    "duration": 32,
    "start_time": "2022-12-11T16:56:27.032Z"
   },
   {
    "duration": 5,
    "start_time": "2022-12-11T16:56:27.066Z"
   },
   {
    "duration": 16,
    "start_time": "2022-12-11T16:56:27.073Z"
   },
   {
    "duration": 143,
    "start_time": "2022-12-11T16:56:27.091Z"
   },
   {
    "duration": 88,
    "start_time": "2022-12-11T16:56:27.243Z"
   },
   {
    "duration": 37,
    "start_time": "2022-12-11T16:56:27.333Z"
   },
   {
    "duration": 505,
    "start_time": "2022-12-11T16:56:27.372Z"
   },
   {
    "duration": 208,
    "start_time": "2022-12-11T16:56:27.881Z"
   },
   {
    "duration": 102,
    "start_time": "2022-12-11T16:56:28.091Z"
   },
   {
    "duration": 193,
    "start_time": "2022-12-11T16:56:28.194Z"
   },
   {
    "duration": 399,
    "start_time": "2022-12-11T16:56:28.390Z"
   },
   {
    "duration": 825,
    "start_time": "2022-12-11T16:56:28.790Z"
   },
   {
    "duration": 65,
    "start_time": "2022-12-11T16:56:29.617Z"
   },
   {
    "duration": 4,
    "start_time": "2022-12-11T16:56:29.683Z"
   },
   {
    "duration": 57,
    "start_time": "2022-12-11T16:56:29.689Z"
   },
   {
    "duration": 107,
    "start_time": "2022-12-11T16:56:29.750Z"
   },
   {
    "duration": 96,
    "start_time": "2022-12-11T16:56:29.859Z"
   },
   {
    "duration": 26,
    "start_time": "2022-12-11T16:56:29.957Z"
   },
   {
    "duration": 209,
    "start_time": "2022-12-11T16:56:29.985Z"
   },
   {
    "duration": 7,
    "start_time": "2022-12-11T16:56:30.195Z"
   },
   {
    "duration": 193,
    "start_time": "2022-12-11T16:56:30.203Z"
   },
   {
    "duration": 43,
    "start_time": "2022-12-11T16:56:30.398Z"
   },
   {
    "duration": 30,
    "start_time": "2022-12-11T16:56:30.449Z"
   },
   {
    "duration": 22,
    "start_time": "2022-12-11T16:56:30.481Z"
   },
   {
    "duration": 23,
    "start_time": "2022-12-11T16:56:30.505Z"
   },
   {
    "duration": 48,
    "start_time": "2022-12-11T16:56:30.537Z"
   },
   {
    "duration": 44,
    "start_time": "2022-12-11T16:56:30.587Z"
   },
   {
    "duration": 40,
    "start_time": "2022-12-11T16:56:30.632Z"
   },
   {
    "duration": 429,
    "start_time": "2022-12-11T16:56:30.674Z"
   },
   {
    "duration": 87,
    "start_time": "2022-12-11T16:56:31.104Z"
   },
   {
    "duration": 4,
    "start_time": "2022-12-11T16:56:31.193Z"
   },
   {
    "duration": 12,
    "start_time": "2022-12-11T16:56:31.198Z"
   },
   {
    "duration": 61,
    "start_time": "2022-12-11T16:56:31.212Z"
   },
   {
    "duration": 21,
    "start_time": "2022-12-11T16:56:31.275Z"
   },
   {
    "duration": 110,
    "start_time": "2022-12-11T16:56:31.297Z"
   },
   {
    "duration": 53,
    "start_time": "2022-12-11T16:56:31.409Z"
   },
   {
    "duration": 3,
    "start_time": "2022-12-11T16:56:31.464Z"
   },
   {
    "duration": 23,
    "start_time": "2022-12-11T16:56:31.469Z"
   },
   {
    "duration": 17,
    "start_time": "2022-12-11T16:56:31.494Z"
   },
   {
    "duration": 1298,
    "start_time": "2022-12-11T16:56:31.513Z"
   },
   {
    "duration": 25,
    "start_time": "2022-12-11T16:56:32.813Z"
   },
   {
    "duration": 115,
    "start_time": "2022-12-11T16:56:32.843Z"
   },
   {
    "duration": 8,
    "start_time": "2022-12-11T16:56:47.029Z"
   },
   {
    "duration": 9,
    "start_time": "2022-12-11T16:58:25.585Z"
   },
   {
    "duration": 870,
    "start_time": "2022-12-11T16:58:25.596Z"
   },
   {
    "duration": 11,
    "start_time": "2022-12-11T16:58:26.468Z"
   },
   {
    "duration": 9,
    "start_time": "2022-12-11T16:58:26.480Z"
   },
   {
    "duration": 5,
    "start_time": "2022-12-11T16:58:26.491Z"
   },
   {
    "duration": 37,
    "start_time": "2022-12-11T16:58:26.497Z"
   },
   {
    "duration": 191,
    "start_time": "2022-12-11T16:58:26.542Z"
   },
   {
    "duration": 86,
    "start_time": "2022-12-11T16:58:26.734Z"
   },
   {
    "duration": 41,
    "start_time": "2022-12-11T16:58:26.831Z"
   },
   {
    "duration": 525,
    "start_time": "2022-12-11T16:58:26.874Z"
   },
   {
    "duration": 259,
    "start_time": "2022-12-11T16:58:27.402Z"
   },
   {
    "duration": 113,
    "start_time": "2022-12-11T16:58:27.663Z"
   },
   {
    "duration": 202,
    "start_time": "2022-12-11T16:58:27.778Z"
   },
   {
    "duration": 413,
    "start_time": "2022-12-11T16:58:27.982Z"
   },
   {
    "duration": 860,
    "start_time": "2022-12-11T16:58:28.397Z"
   },
   {
    "duration": 46,
    "start_time": "2022-12-11T16:58:29.259Z"
   },
   {
    "duration": 2,
    "start_time": "2022-12-11T16:58:29.307Z"
   },
   {
    "duration": 45,
    "start_time": "2022-12-11T16:58:29.321Z"
   },
   {
    "duration": 111,
    "start_time": "2022-12-11T16:58:29.367Z"
   },
   {
    "duration": 92,
    "start_time": "2022-12-11T16:58:29.480Z"
   },
   {
    "duration": 29,
    "start_time": "2022-12-11T16:58:29.574Z"
   },
   {
    "duration": 189,
    "start_time": "2022-12-11T16:58:29.604Z"
   },
   {
    "duration": 7,
    "start_time": "2022-12-11T16:58:29.794Z"
   },
   {
    "duration": 185,
    "start_time": "2022-12-11T16:58:29.803Z"
   },
   {
    "duration": 45,
    "start_time": "2022-12-11T16:58:29.990Z"
   },
   {
    "duration": 10,
    "start_time": "2022-12-11T16:58:30.038Z"
   },
   {
    "duration": 15,
    "start_time": "2022-12-11T16:58:30.051Z"
   },
   {
    "duration": 15,
    "start_time": "2022-12-11T16:58:30.068Z"
   },
   {
    "duration": 14,
    "start_time": "2022-12-11T16:58:30.086Z"
   },
   {
    "duration": 11,
    "start_time": "2022-12-11T16:58:30.102Z"
   },
   {
    "duration": 57,
    "start_time": "2022-12-11T16:58:30.115Z"
   },
   {
    "duration": 423,
    "start_time": "2022-12-11T16:58:30.174Z"
   },
   {
    "duration": 89,
    "start_time": "2022-12-11T16:58:30.599Z"
   },
   {
    "duration": 12,
    "start_time": "2022-12-11T16:58:30.690Z"
   },
   {
    "duration": 67,
    "start_time": "2022-12-11T16:58:30.703Z"
   },
   {
    "duration": 30,
    "start_time": "2022-12-11T16:58:30.771Z"
   },
   {
    "duration": 20,
    "start_time": "2022-12-11T16:58:30.802Z"
   },
   {
    "duration": 82,
    "start_time": "2022-12-11T16:58:30.827Z"
   },
   {
    "duration": 54,
    "start_time": "2022-12-11T16:58:30.910Z"
   },
   {
    "duration": 4,
    "start_time": "2022-12-11T16:58:30.965Z"
   },
   {
    "duration": 29,
    "start_time": "2022-12-11T16:58:30.970Z"
   },
   {
    "duration": 4,
    "start_time": "2022-12-11T16:58:37.454Z"
   },
   {
    "duration": 580,
    "start_time": "2022-12-11T16:58:39.774Z"
   },
   {
    "duration": 596,
    "start_time": "2022-12-11T16:58:41.086Z"
   },
   {
    "duration": 153,
    "start_time": "2022-12-11T16:58:48.567Z"
   },
   {
    "duration": 5,
    "start_time": "2022-12-11T16:58:49.455Z"
   },
   {
    "duration": 1320,
    "start_time": "2022-12-11T16:59:25.048Z"
   },
   {
    "duration": 3,
    "start_time": "2022-12-11T16:59:28.054Z"
   },
   {
    "duration": 5,
    "start_time": "2022-12-11T16:59:33.124Z"
   },
   {
    "duration": 8,
    "start_time": "2022-12-11T16:59:47.764Z"
   },
   {
    "duration": 86,
    "start_time": "2022-12-11T16:59:52.566Z"
   },
   {
    "duration": 1624,
    "start_time": "2022-12-11T17:00:08.351Z"
   },
   {
    "duration": 104,
    "start_time": "2022-12-11T17:00:45.677Z"
   },
   {
    "duration": 8,
    "start_time": "2022-12-11T17:01:07.454Z"
   },
   {
    "duration": 1312,
    "start_time": "2022-12-11T17:01:07.464Z"
   },
   {
    "duration": 11,
    "start_time": "2022-12-11T17:01:08.778Z"
   },
   {
    "duration": 12,
    "start_time": "2022-12-11T17:01:08.790Z"
   },
   {
    "duration": 6,
    "start_time": "2022-12-11T17:01:08.803Z"
   },
   {
    "duration": 26,
    "start_time": "2022-12-11T17:01:08.810Z"
   },
   {
    "duration": 166,
    "start_time": "2022-12-11T17:01:08.838Z"
   },
   {
    "duration": 97,
    "start_time": "2022-12-11T17:01:09.006Z"
   },
   {
    "duration": 48,
    "start_time": "2022-12-11T17:01:09.106Z"
   },
   {
    "duration": 522,
    "start_time": "2022-12-11T17:01:09.156Z"
   },
   {
    "duration": 222,
    "start_time": "2022-12-11T17:01:09.680Z"
   },
   {
    "duration": 108,
    "start_time": "2022-12-11T17:01:09.904Z"
   },
   {
    "duration": 194,
    "start_time": "2022-12-11T17:01:10.013Z"
   },
   {
    "duration": 487,
    "start_time": "2022-12-11T17:01:10.208Z"
   },
   {
    "duration": 918,
    "start_time": "2022-12-11T17:01:10.697Z"
   },
   {
    "duration": 52,
    "start_time": "2022-12-11T17:01:11.616Z"
   },
   {
    "duration": 3,
    "start_time": "2022-12-11T17:01:11.670Z"
   },
   {
    "duration": 58,
    "start_time": "2022-12-11T17:01:11.674Z"
   },
   {
    "duration": 98,
    "start_time": "2022-12-11T17:01:11.734Z"
   },
   {
    "duration": 106,
    "start_time": "2022-12-11T17:01:11.833Z"
   },
   {
    "duration": 30,
    "start_time": "2022-12-11T17:01:11.941Z"
   },
   {
    "duration": 206,
    "start_time": "2022-12-11T17:01:11.972Z"
   },
   {
    "duration": 6,
    "start_time": "2022-12-11T17:01:12.179Z"
   },
   {
    "duration": 254,
    "start_time": "2022-12-11T17:01:12.189Z"
   },
   {
    "duration": 39,
    "start_time": "2022-12-11T17:01:12.451Z"
   },
   {
    "duration": 5,
    "start_time": "2022-12-11T17:01:12.492Z"
   },
   {
    "duration": 7,
    "start_time": "2022-12-11T17:01:12.498Z"
   },
   {
    "duration": 30,
    "start_time": "2022-12-11T17:01:12.506Z"
   },
   {
    "duration": 36,
    "start_time": "2022-12-11T17:01:12.537Z"
   },
   {
    "duration": 11,
    "start_time": "2022-12-11T17:01:12.574Z"
   },
   {
    "duration": 7,
    "start_time": "2022-12-11T17:01:12.587Z"
   },
   {
    "duration": 410,
    "start_time": "2022-12-11T17:01:12.596Z"
   },
   {
    "duration": 86,
    "start_time": "2022-12-11T17:01:13.008Z"
   },
   {
    "duration": 3,
    "start_time": "2022-12-11T17:01:13.095Z"
   },
   {
    "duration": 5,
    "start_time": "2022-12-11T17:01:13.100Z"
   },
   {
    "duration": 23,
    "start_time": "2022-12-11T17:01:13.107Z"
   },
   {
    "duration": 17,
    "start_time": "2022-12-11T17:01:13.135Z"
   },
   {
    "duration": 64,
    "start_time": "2022-12-11T17:01:13.155Z"
   },
   {
    "duration": 62,
    "start_time": "2022-12-11T17:01:13.220Z"
   },
   {
    "duration": 3,
    "start_time": "2022-12-11T17:01:13.284Z"
   },
   {
    "duration": 12,
    "start_time": "2022-12-11T17:01:13.289Z"
   },
   {
    "duration": 5,
    "start_time": "2022-12-11T17:01:13.303Z"
   },
   {
    "duration": 37,
    "start_time": "2022-12-11T17:01:13.309Z"
   },
   {
    "duration": 0,
    "start_time": "2022-12-11T17:01:13.348Z"
   },
   {
    "duration": 0,
    "start_time": "2022-12-11T17:01:13.349Z"
   },
   {
    "duration": 0,
    "start_time": "2022-12-11T17:01:13.351Z"
   },
   {
    "duration": 0,
    "start_time": "2022-12-11T17:01:13.352Z"
   },
   {
    "duration": 0,
    "start_time": "2022-12-11T17:01:13.353Z"
   },
   {
    "duration": 0,
    "start_time": "2022-12-11T17:01:13.355Z"
   },
   {
    "duration": 0,
    "start_time": "2022-12-11T17:01:13.357Z"
   },
   {
    "duration": 0,
    "start_time": "2022-12-11T17:01:13.359Z"
   },
   {
    "duration": 28,
    "start_time": "2022-12-11T17:01:50.913Z"
   },
   {
    "duration": 113,
    "start_time": "2022-12-11T17:01:54.896Z"
   },
   {
    "duration": 163,
    "start_time": "2022-12-11T17:01:58.646Z"
   },
   {
    "duration": 5,
    "start_time": "2022-12-11T17:01:59.505Z"
   },
   {
    "duration": 1285,
    "start_time": "2022-12-11T17:02:01.665Z"
   },
   {
    "duration": 4,
    "start_time": "2022-12-11T17:02:12.664Z"
   },
   {
    "duration": 6,
    "start_time": "2022-12-11T17:02:17.049Z"
   },
   {
    "duration": 781,
    "start_time": "2022-12-11T17:02:17.057Z"
   },
   {
    "duration": 9,
    "start_time": "2022-12-11T17:02:17.841Z"
   },
   {
    "duration": 19,
    "start_time": "2022-12-11T17:02:17.852Z"
   },
   {
    "duration": 22,
    "start_time": "2022-12-11T17:02:17.874Z"
   },
   {
    "duration": 31,
    "start_time": "2022-12-11T17:02:17.898Z"
   },
   {
    "duration": 149,
    "start_time": "2022-12-11T17:02:17.931Z"
   },
   {
    "duration": 83,
    "start_time": "2022-12-11T17:02:18.082Z"
   },
   {
    "duration": 24,
    "start_time": "2022-12-11T17:02:18.166Z"
   },
   {
    "duration": 505,
    "start_time": "2022-12-11T17:02:18.191Z"
   },
   {
    "duration": 203,
    "start_time": "2022-12-11T17:02:18.699Z"
   },
   {
    "duration": 100,
    "start_time": "2022-12-11T17:02:18.903Z"
   },
   {
    "duration": 185,
    "start_time": "2022-12-11T17:02:19.005Z"
   },
   {
    "duration": 411,
    "start_time": "2022-12-11T17:02:19.191Z"
   },
   {
    "duration": 765,
    "start_time": "2022-12-11T17:02:19.604Z"
   },
   {
    "duration": 67,
    "start_time": "2022-12-11T17:02:20.371Z"
   },
   {
    "duration": 3,
    "start_time": "2022-12-11T17:02:20.440Z"
   },
   {
    "duration": 32,
    "start_time": "2022-12-11T17:02:20.444Z"
   },
   {
    "duration": 98,
    "start_time": "2022-12-11T17:02:20.478Z"
   },
   {
    "duration": 94,
    "start_time": "2022-12-11T17:02:20.577Z"
   },
   {
    "duration": 24,
    "start_time": "2022-12-11T17:02:20.672Z"
   },
   {
    "duration": 190,
    "start_time": "2022-12-11T17:02:20.698Z"
   },
   {
    "duration": 8,
    "start_time": "2022-12-11T17:02:20.890Z"
   },
   {
    "duration": 178,
    "start_time": "2022-12-11T17:02:20.899Z"
   },
   {
    "duration": 44,
    "start_time": "2022-12-11T17:02:21.079Z"
   },
   {
    "duration": 8,
    "start_time": "2022-12-11T17:02:21.129Z"
   },
   {
    "duration": 8,
    "start_time": "2022-12-11T17:02:21.140Z"
   },
   {
    "duration": 10,
    "start_time": "2022-12-11T17:02:21.150Z"
   },
   {
    "duration": 35,
    "start_time": "2022-12-11T17:02:21.164Z"
   },
   {
    "duration": 19,
    "start_time": "2022-12-11T17:02:21.201Z"
   },
   {
    "duration": 17,
    "start_time": "2022-12-11T17:02:21.222Z"
   },
   {
    "duration": 401,
    "start_time": "2022-12-11T17:02:21.243Z"
   },
   {
    "duration": 62,
    "start_time": "2022-12-11T17:02:21.646Z"
   },
   {
    "duration": 5,
    "start_time": "2022-12-11T17:02:21.725Z"
   },
   {
    "duration": 10,
    "start_time": "2022-12-11T17:02:21.735Z"
   },
   {
    "duration": 27,
    "start_time": "2022-12-11T17:02:21.746Z"
   },
   {
    "duration": 9,
    "start_time": "2022-12-11T17:02:21.774Z"
   },
   {
    "duration": 67,
    "start_time": "2022-12-11T17:02:21.785Z"
   },
   {
    "duration": 42,
    "start_time": "2022-12-11T17:02:21.854Z"
   },
   {
    "duration": 4,
    "start_time": "2022-12-11T17:02:21.897Z"
   },
   {
    "duration": 12,
    "start_time": "2022-12-11T17:02:21.902Z"
   },
   {
    "duration": 14,
    "start_time": "2022-12-11T17:02:21.926Z"
   },
   {
    "duration": 29,
    "start_time": "2022-12-11T17:02:21.941Z"
   },
   {
    "duration": 101,
    "start_time": "2022-12-11T17:02:21.972Z"
   },
   {
    "duration": 4,
    "start_time": "2022-12-11T17:02:30.538Z"
   },
   {
    "duration": 17,
    "start_time": "2022-12-11T17:03:36.994Z"
   },
   {
    "duration": 105,
    "start_time": "2022-12-11T17:03:40.667Z"
   },
   {
    "duration": 162,
    "start_time": "2022-12-11T17:03:46.912Z"
   },
   {
    "duration": 5,
    "start_time": "2022-12-11T17:03:47.076Z"
   },
   {
    "duration": 8,
    "start_time": "2022-12-11T17:04:00.284Z"
   },
   {
    "duration": 875,
    "start_time": "2022-12-11T17:04:00.294Z"
   },
   {
    "duration": 10,
    "start_time": "2022-12-11T17:04:01.171Z"
   },
   {
    "duration": 26,
    "start_time": "2022-12-11T17:04:01.182Z"
   },
   {
    "duration": 83,
    "start_time": "2022-12-11T17:04:01.210Z"
   },
   {
    "duration": 84,
    "start_time": "2022-12-11T17:04:01.294Z"
   },
   {
    "duration": 215,
    "start_time": "2022-12-11T17:04:01.380Z"
   },
   {
    "duration": 141,
    "start_time": "2022-12-11T17:04:01.597Z"
   },
   {
    "duration": 29,
    "start_time": "2022-12-11T17:04:01.743Z"
   },
   {
    "duration": 595,
    "start_time": "2022-12-11T17:04:01.774Z"
   },
   {
    "duration": 217,
    "start_time": "2022-12-11T17:04:02.371Z"
   },
   {
    "duration": 111,
    "start_time": "2022-12-11T17:04:02.590Z"
   },
   {
    "duration": 196,
    "start_time": "2022-12-11T17:04:02.703Z"
   },
   {
    "duration": 408,
    "start_time": "2022-12-11T17:04:02.900Z"
   },
   {
    "duration": 821,
    "start_time": "2022-12-11T17:04:03.309Z"
   },
   {
    "duration": 52,
    "start_time": "2022-12-11T17:04:04.135Z"
   },
   {
    "duration": 2,
    "start_time": "2022-12-11T17:04:04.189Z"
   },
   {
    "duration": 56,
    "start_time": "2022-12-11T17:04:04.192Z"
   },
   {
    "duration": 100,
    "start_time": "2022-12-11T17:04:04.254Z"
   },
   {
    "duration": 102,
    "start_time": "2022-12-11T17:04:04.360Z"
   },
   {
    "duration": 33,
    "start_time": "2022-12-11T17:04:04.464Z"
   },
   {
    "duration": 212,
    "start_time": "2022-12-11T17:04:04.499Z"
   },
   {
    "duration": 11,
    "start_time": "2022-12-11T17:04:04.713Z"
   },
   {
    "duration": 187,
    "start_time": "2022-12-11T17:04:04.726Z"
   },
   {
    "duration": 44,
    "start_time": "2022-12-11T17:04:04.915Z"
   },
   {
    "duration": 23,
    "start_time": "2022-12-11T17:04:04.962Z"
   },
   {
    "duration": 32,
    "start_time": "2022-12-11T17:04:04.987Z"
   },
   {
    "duration": 32,
    "start_time": "2022-12-11T17:04:05.020Z"
   },
   {
    "duration": 22,
    "start_time": "2022-12-11T17:04:05.057Z"
   },
   {
    "duration": 12,
    "start_time": "2022-12-11T17:04:05.080Z"
   },
   {
    "duration": 12,
    "start_time": "2022-12-11T17:04:05.094Z"
   },
   {
    "duration": 478,
    "start_time": "2022-12-11T17:04:05.108Z"
   },
   {
    "duration": 85,
    "start_time": "2022-12-11T17:04:05.588Z"
   },
   {
    "duration": 6,
    "start_time": "2022-12-11T17:04:05.675Z"
   },
   {
    "duration": 14,
    "start_time": "2022-12-11T17:04:05.682Z"
   },
   {
    "duration": 15,
    "start_time": "2022-12-11T17:04:05.698Z"
   },
   {
    "duration": 17,
    "start_time": "2022-12-11T17:04:05.715Z"
   },
   {
    "duration": 70,
    "start_time": "2022-12-11T17:04:05.741Z"
   },
   {
    "duration": 54,
    "start_time": "2022-12-11T17:04:05.813Z"
   },
   {
    "duration": 4,
    "start_time": "2022-12-11T17:04:05.868Z"
   },
   {
    "duration": 22,
    "start_time": "2022-12-11T17:04:05.874Z"
   },
   {
    "duration": 10,
    "start_time": "2022-12-11T17:04:05.897Z"
   },
   {
    "duration": 35,
    "start_time": "2022-12-11T17:04:05.909Z"
   },
   {
    "duration": 125,
    "start_time": "2022-12-11T17:04:05.953Z"
   },
   {
    "duration": 5,
    "start_time": "2022-12-11T17:04:10.289Z"
   },
   {
    "duration": 17,
    "start_time": "2022-12-11T17:04:29.518Z"
   },
   {
    "duration": 866,
    "start_time": "2022-12-11T17:04:29.542Z"
   },
   {
    "duration": 13,
    "start_time": "2022-12-11T17:04:30.410Z"
   },
   {
    "duration": 45,
    "start_time": "2022-12-11T17:04:30.431Z"
   },
   {
    "duration": 59,
    "start_time": "2022-12-11T17:04:30.478Z"
   },
   {
    "duration": 46,
    "start_time": "2022-12-11T17:04:30.550Z"
   },
   {
    "duration": 172,
    "start_time": "2022-12-11T17:04:30.598Z"
   },
   {
    "duration": 93,
    "start_time": "2022-12-11T17:04:30.772Z"
   },
   {
    "duration": 27,
    "start_time": "2022-12-11T17:04:30.867Z"
   },
   {
    "duration": 626,
    "start_time": "2022-12-11T17:04:30.896Z"
   },
   {
    "duration": 242,
    "start_time": "2022-12-11T17:04:31.525Z"
   },
   {
    "duration": 114,
    "start_time": "2022-12-11T17:04:31.769Z"
   },
   {
    "duration": 209,
    "start_time": "2022-12-11T17:04:31.885Z"
   },
   {
    "duration": 431,
    "start_time": "2022-12-11T17:04:32.096Z"
   },
   {
    "duration": 882,
    "start_time": "2022-12-11T17:04:32.529Z"
   },
   {
    "duration": 69,
    "start_time": "2022-12-11T17:04:33.412Z"
   },
   {
    "duration": 9,
    "start_time": "2022-12-11T17:04:33.483Z"
   },
   {
    "duration": 54,
    "start_time": "2022-12-11T17:04:33.493Z"
   },
   {
    "duration": 116,
    "start_time": "2022-12-11T17:04:33.551Z"
   },
   {
    "duration": 104,
    "start_time": "2022-12-11T17:04:33.669Z"
   },
   {
    "duration": 29,
    "start_time": "2022-12-11T17:04:33.774Z"
   },
   {
    "duration": 187,
    "start_time": "2022-12-11T17:04:33.805Z"
   },
   {
    "duration": 6,
    "start_time": "2022-12-11T17:04:33.994Z"
   },
   {
    "duration": 281,
    "start_time": "2022-12-11T17:04:34.002Z"
   },
   {
    "duration": 37,
    "start_time": "2022-12-11T17:04:34.285Z"
   },
   {
    "duration": 13,
    "start_time": "2022-12-11T17:04:34.323Z"
   },
   {
    "duration": 27,
    "start_time": "2022-12-11T17:04:34.337Z"
   },
   {
    "duration": 12,
    "start_time": "2022-12-11T17:04:34.365Z"
   },
   {
    "duration": 17,
    "start_time": "2022-12-11T17:04:34.381Z"
   },
   {
    "duration": 13,
    "start_time": "2022-12-11T17:04:34.399Z"
   },
   {
    "duration": 8,
    "start_time": "2022-12-11T17:04:34.414Z"
   },
   {
    "duration": 420,
    "start_time": "2022-12-11T17:04:34.423Z"
   },
   {
    "duration": 80,
    "start_time": "2022-12-11T17:04:34.845Z"
   },
   {
    "duration": 4,
    "start_time": "2022-12-11T17:04:34.926Z"
   },
   {
    "duration": 22,
    "start_time": "2022-12-11T17:04:34.936Z"
   },
   {
    "duration": 19,
    "start_time": "2022-12-11T17:04:34.960Z"
   },
   {
    "duration": 9,
    "start_time": "2022-12-11T17:04:34.981Z"
   },
   {
    "duration": 65,
    "start_time": "2022-12-11T17:04:34.992Z"
   },
   {
    "duration": 43,
    "start_time": "2022-12-11T17:04:35.058Z"
   },
   {
    "duration": 3,
    "start_time": "2022-12-11T17:04:35.103Z"
   },
   {
    "duration": 8,
    "start_time": "2022-12-11T17:04:35.121Z"
   },
   {
    "duration": 29,
    "start_time": "2022-12-11T17:04:35.130Z"
   },
   {
    "duration": 618,
    "start_time": "2022-12-11T17:04:42.194Z"
   },
   {
    "duration": 625,
    "start_time": "2022-12-11T17:04:44.915Z"
   },
   {
    "duration": 4,
    "start_time": "2022-12-11T17:04:50.156Z"
   },
   {
    "duration": 147,
    "start_time": "2022-12-11T17:05:13.556Z"
   },
   {
    "duration": 4,
    "start_time": "2022-12-11T17:05:16.571Z"
   },
   {
    "duration": 1240,
    "start_time": "2022-12-11T17:05:40.362Z"
   },
   {
    "duration": 4,
    "start_time": "2022-12-11T17:05:46.500Z"
   },
   {
    "duration": 14,
    "start_time": "2022-12-11T17:06:17.234Z"
   },
   {
    "duration": 105,
    "start_time": "2022-12-11T17:06:19.585Z"
   },
   {
    "duration": 133,
    "start_time": "2022-12-11T17:06:24.307Z"
   },
   {
    "duration": 46,
    "start_time": "2022-12-11T17:06:30.845Z"
   },
   {
    "duration": 9,
    "start_time": "2022-12-11T17:06:46.636Z"
   },
   {
    "duration": 1477,
    "start_time": "2022-12-11T17:07:39.771Z"
   },
   {
    "duration": 1192,
    "start_time": "2022-12-11T17:07:41.251Z"
   },
   {
    "duration": 11,
    "start_time": "2022-12-11T17:07:42.444Z"
   },
   {
    "duration": 9,
    "start_time": "2022-12-11T17:07:42.456Z"
   },
   {
    "duration": 4,
    "start_time": "2022-12-11T17:07:42.859Z"
   },
   {
    "duration": 19,
    "start_time": "2022-12-11T17:07:43.652Z"
   },
   {
    "duration": 149,
    "start_time": "2022-12-11T17:07:44.187Z"
   },
   {
    "duration": 98,
    "start_time": "2022-12-11T17:07:44.781Z"
   },
   {
    "duration": 37,
    "start_time": "2022-12-11T17:07:45.364Z"
   },
   {
    "duration": 499,
    "start_time": "2022-12-11T17:07:45.998Z"
   },
   {
    "duration": 206,
    "start_time": "2022-12-11T17:07:47.496Z"
   },
   {
    "duration": 107,
    "start_time": "2022-12-11T17:07:48.253Z"
   },
   {
    "duration": 166,
    "start_time": "2022-12-11T17:07:50.380Z"
   },
   {
    "duration": 415,
    "start_time": "2022-12-11T17:07:51.038Z"
   },
   {
    "duration": 825,
    "start_time": "2022-12-11T17:07:53.231Z"
   },
   {
    "duration": 43,
    "start_time": "2022-12-11T17:07:54.058Z"
   },
   {
    "duration": 4,
    "start_time": "2022-12-11T17:07:55.492Z"
   },
   {
    "duration": 44,
    "start_time": "2022-12-11T17:07:57.695Z"
   },
   {
    "duration": 96,
    "start_time": "2022-12-11T17:07:59.101Z"
   },
   {
    "duration": 86,
    "start_time": "2022-12-11T17:08:00.453Z"
   },
   {
    "duration": 30,
    "start_time": "2022-12-11T17:08:02.223Z"
   },
   {
    "duration": 196,
    "start_time": "2022-12-11T17:08:05.277Z"
   },
   {
    "duration": 6,
    "start_time": "2022-12-11T17:08:06.646Z"
   },
   {
    "duration": 156,
    "start_time": "2022-12-11T17:08:07.334Z"
   },
   {
    "duration": 29,
    "start_time": "2022-12-11T17:08:08.738Z"
   },
   {
    "duration": 5,
    "start_time": "2022-12-11T17:08:10.188Z"
   },
   {
    "duration": 6,
    "start_time": "2022-12-11T17:08:11.660Z"
   },
   {
    "duration": 6,
    "start_time": "2022-12-11T17:08:13.061Z"
   },
   {
    "duration": 19,
    "start_time": "2022-12-11T17:08:14.515Z"
   },
   {
    "duration": 10,
    "start_time": "2022-12-11T17:08:16.859Z"
   },
   {
    "duration": 6,
    "start_time": "2022-12-11T17:08:17.632Z"
   },
   {
    "duration": 458,
    "start_time": "2022-12-11T17:08:19.740Z"
   },
   {
    "duration": 103,
    "start_time": "2022-12-11T17:08:22.020Z"
   },
   {
    "duration": 2,
    "start_time": "2022-12-11T17:08:24.515Z"
   },
   {
    "duration": 3,
    "start_time": "2022-12-11T17:08:25.253Z"
   },
   {
    "duration": 16,
    "start_time": "2022-12-11T17:08:25.941Z"
   },
   {
    "duration": 13,
    "start_time": "2022-12-11T17:08:26.605Z"
   },
   {
    "duration": 62,
    "start_time": "2022-12-11T17:08:27.309Z"
   },
   {
    "duration": 51,
    "start_time": "2022-12-11T17:08:28.840Z"
   },
   {
    "duration": 5,
    "start_time": "2022-12-11T17:08:30.411Z"
   },
   {
    "duration": 7,
    "start_time": "2022-12-11T17:08:31.748Z"
   },
   {
    "duration": 4,
    "start_time": "2022-12-11T17:08:39.331Z"
   },
   {
    "duration": 22,
    "start_time": "2022-12-11T17:08:40.802Z"
   },
   {
    "duration": 111,
    "start_time": "2022-12-11T17:08:47.949Z"
   },
   {
    "duration": 166,
    "start_time": "2022-12-11T17:08:57.099Z"
   },
   {
    "duration": 1212,
    "start_time": "2022-12-11T17:08:58.043Z"
   },
   {
    "duration": 4,
    "start_time": "2022-12-11T17:08:59.283Z"
   },
   {
    "duration": 4,
    "start_time": "2022-12-11T17:09:06.877Z"
   },
   {
    "duration": 3,
    "start_time": "2022-12-11T17:09:07.901Z"
   },
   {
    "duration": 4,
    "start_time": "2022-12-11T17:09:09.453Z"
   },
   {
    "duration": 1810,
    "start_time": "2022-12-11T17:09:10.183Z"
   },
   {
    "duration": 575,
    "start_time": "2022-12-11T17:09:47.006Z"
   },
   {
    "duration": 573,
    "start_time": "2022-12-11T17:09:49.399Z"
   },
   {
    "duration": 154,
    "start_time": "2022-12-11T17:09:53.137Z"
   },
   {
    "duration": 1215,
    "start_time": "2022-12-11T17:09:54.053Z"
   },
   {
    "duration": 4,
    "start_time": "2022-12-11T17:09:55.270Z"
   },
   {
    "duration": 3,
    "start_time": "2022-12-11T17:09:59.108Z"
   },
   {
    "duration": 3,
    "start_time": "2022-12-11T17:10:01.469Z"
   },
   {
    "duration": 20259,
    "start_time": "2022-12-11T17:10:03.401Z"
   },
   {
    "duration": 2,
    "start_time": "2022-12-11T17:10:23.662Z"
   },
   {
    "duration": 66,
    "start_time": "2022-12-11T17:10:23.666Z"
   },
   {
    "duration": 66,
    "start_time": "2022-12-11T17:10:27.243Z"
   },
   {
    "duration": 13,
    "start_time": "2022-12-11T17:10:55.651Z"
   },
   {
    "duration": 1070,
    "start_time": "2022-12-11T17:10:55.667Z"
   },
   {
    "duration": 15,
    "start_time": "2022-12-11T17:10:56.739Z"
   },
   {
    "duration": 10,
    "start_time": "2022-12-11T17:10:56.756Z"
   },
   {
    "duration": 6,
    "start_time": "2022-12-11T17:10:56.767Z"
   },
   {
    "duration": 17,
    "start_time": "2022-12-11T17:10:56.775Z"
   },
   {
    "duration": 154,
    "start_time": "2022-12-11T17:10:56.794Z"
   },
   {
    "duration": 89,
    "start_time": "2022-12-11T17:10:56.952Z"
   },
   {
    "duration": 30,
    "start_time": "2022-12-11T17:10:57.043Z"
   },
   {
    "duration": 520,
    "start_time": "2022-12-11T17:10:57.074Z"
   },
   {
    "duration": 209,
    "start_time": "2022-12-11T17:10:57.596Z"
   },
   {
    "duration": 109,
    "start_time": "2022-12-11T17:10:57.807Z"
   },
   {
    "duration": 187,
    "start_time": "2022-12-11T17:10:57.923Z"
   },
   {
    "duration": 423,
    "start_time": "2022-12-11T17:10:58.112Z"
   },
   {
    "duration": 841,
    "start_time": "2022-12-11T17:10:58.536Z"
   },
   {
    "duration": 54,
    "start_time": "2022-12-11T17:10:59.379Z"
   },
   {
    "duration": 44,
    "start_time": "2022-12-11T17:10:59.437Z"
   },
   {
    "duration": 36,
    "start_time": "2022-12-11T17:10:59.484Z"
   },
   {
    "duration": 110,
    "start_time": "2022-12-11T17:10:59.524Z"
   },
   {
    "duration": 91,
    "start_time": "2022-12-11T17:10:59.636Z"
   },
   {
    "duration": 34,
    "start_time": "2022-12-11T17:10:59.731Z"
   },
   {
    "duration": 185,
    "start_time": "2022-12-11T17:10:59.766Z"
   },
   {
    "duration": 9,
    "start_time": "2022-12-11T17:10:59.953Z"
   },
   {
    "duration": 215,
    "start_time": "2022-12-11T17:10:59.964Z"
   },
   {
    "duration": 29,
    "start_time": "2022-12-11T17:11:00.181Z"
   },
   {
    "duration": 20,
    "start_time": "2022-12-11T17:11:00.211Z"
   },
   {
    "duration": 41,
    "start_time": "2022-12-11T17:11:00.233Z"
   },
   {
    "duration": 11,
    "start_time": "2022-12-11T17:11:00.276Z"
   },
   {
    "duration": 14,
    "start_time": "2022-12-11T17:11:00.289Z"
   },
   {
    "duration": 12,
    "start_time": "2022-12-11T17:11:00.305Z"
   },
   {
    "duration": 35,
    "start_time": "2022-12-11T17:11:00.319Z"
   },
   {
    "duration": 425,
    "start_time": "2022-12-11T17:11:00.357Z"
   },
   {
    "duration": 86,
    "start_time": "2022-12-11T17:11:00.784Z"
   },
   {
    "duration": 8,
    "start_time": "2022-12-11T17:11:00.871Z"
   },
   {
    "duration": 26,
    "start_time": "2022-12-11T17:11:00.881Z"
   },
   {
    "duration": 57,
    "start_time": "2022-12-11T17:11:00.908Z"
   },
   {
    "duration": 16,
    "start_time": "2022-12-11T17:11:00.970Z"
   },
   {
    "duration": 84,
    "start_time": "2022-12-11T17:11:00.988Z"
   },
   {
    "duration": 45,
    "start_time": "2022-12-11T17:11:01.074Z"
   },
   {
    "duration": 4,
    "start_time": "2022-12-11T17:11:01.121Z"
   },
   {
    "duration": 48,
    "start_time": "2022-12-11T17:11:01.131Z"
   },
   {
    "duration": 29,
    "start_time": "2022-12-11T17:11:01.181Z"
   },
   {
    "duration": 193,
    "start_time": "2022-12-11T17:11:01.212Z"
   },
   {
    "duration": 530,
    "start_time": "2022-12-11T17:11:01.406Z"
   },
   {
    "duration": 158,
    "start_time": "2022-12-11T17:11:01.938Z"
   },
   {
    "duration": 1636,
    "start_time": "2022-12-11T17:11:13.709Z"
   },
   {
    "duration": 1359,
    "start_time": "2022-12-11T17:11:15.347Z"
   },
   {
    "duration": 10,
    "start_time": "2022-12-11T17:11:16.708Z"
   },
   {
    "duration": 41,
    "start_time": "2022-12-11T17:11:16.721Z"
   },
   {
    "duration": 14,
    "start_time": "2022-12-11T17:11:16.763Z"
   },
   {
    "duration": 22,
    "start_time": "2022-12-11T17:11:16.778Z"
   },
   {
    "duration": 158,
    "start_time": "2022-12-11T17:11:16.802Z"
   },
   {
    "duration": 136,
    "start_time": "2022-12-11T17:11:16.962Z"
   },
   {
    "duration": 41,
    "start_time": "2022-12-11T17:11:17.099Z"
   },
   {
    "duration": 537,
    "start_time": "2022-12-11T17:11:17.144Z"
   },
   {
    "duration": 219,
    "start_time": "2022-12-11T17:11:17.683Z"
   },
   {
    "duration": 110,
    "start_time": "2022-12-11T17:11:17.904Z"
   },
   {
    "duration": 183,
    "start_time": "2022-12-11T17:11:18.021Z"
   },
   {
    "duration": 476,
    "start_time": "2022-12-11T17:11:18.206Z"
   },
   {
    "duration": 908,
    "start_time": "2022-12-11T17:11:18.684Z"
   },
   {
    "duration": 58,
    "start_time": "2022-12-11T17:11:19.593Z"
   },
   {
    "duration": 3,
    "start_time": "2022-12-11T17:11:19.655Z"
   },
   {
    "duration": 33,
    "start_time": "2022-12-11T17:11:19.660Z"
   },
   {
    "duration": 115,
    "start_time": "2022-12-11T17:11:19.695Z"
   },
   {
    "duration": 93,
    "start_time": "2022-12-11T17:11:19.812Z"
   },
   {
    "duration": 34,
    "start_time": "2022-12-11T17:11:19.921Z"
   },
   {
    "duration": 208,
    "start_time": "2022-12-11T17:11:19.957Z"
   },
   {
    "duration": 7,
    "start_time": "2022-12-11T17:11:20.167Z"
   },
   {
    "duration": 190,
    "start_time": "2022-12-11T17:11:20.175Z"
   },
   {
    "duration": 28,
    "start_time": "2022-12-11T17:11:20.367Z"
   },
   {
    "duration": 28,
    "start_time": "2022-12-11T17:11:20.397Z"
   },
   {
    "duration": 16,
    "start_time": "2022-12-11T17:11:20.431Z"
   },
   {
    "duration": 11,
    "start_time": "2022-12-11T17:11:20.452Z"
   },
   {
    "duration": 15,
    "start_time": "2022-12-11T17:11:20.464Z"
   },
   {
    "duration": 10,
    "start_time": "2022-12-11T17:11:20.481Z"
   },
   {
    "duration": 7,
    "start_time": "2022-12-11T17:11:20.492Z"
   },
   {
    "duration": 478,
    "start_time": "2022-12-11T17:11:20.501Z"
   },
   {
    "duration": 93,
    "start_time": "2022-12-11T17:11:20.981Z"
   },
   {
    "duration": 3,
    "start_time": "2022-12-11T17:11:21.076Z"
   },
   {
    "duration": 6,
    "start_time": "2022-12-11T17:11:21.081Z"
   },
   {
    "duration": 19,
    "start_time": "2022-12-11T17:11:21.088Z"
   },
   {
    "duration": 39,
    "start_time": "2022-12-11T17:11:21.109Z"
   },
   {
    "duration": 74,
    "start_time": "2022-12-11T17:11:21.151Z"
   },
   {
    "duration": 59,
    "start_time": "2022-12-11T17:11:21.226Z"
   },
   {
    "duration": 5,
    "start_time": "2022-12-11T17:11:21.286Z"
   },
   {
    "duration": 10,
    "start_time": "2022-12-11T17:11:21.292Z"
   },
   {
    "duration": 6,
    "start_time": "2022-12-11T17:11:21.303Z"
   },
   {
    "duration": 163,
    "start_time": "2022-12-11T17:11:21.310Z"
   },
   {
    "duration": 0,
    "start_time": "2022-12-11T17:11:21.475Z"
   },
   {
    "duration": 0,
    "start_time": "2022-12-11T17:11:21.476Z"
   },
   {
    "duration": 0,
    "start_time": "2022-12-11T17:11:21.477Z"
   },
   {
    "duration": 0,
    "start_time": "2022-12-11T17:11:21.478Z"
   },
   {
    "duration": 0,
    "start_time": "2022-12-11T17:11:21.480Z"
   },
   {
    "duration": 0,
    "start_time": "2022-12-11T17:11:21.481Z"
   },
   {
    "duration": 0,
    "start_time": "2022-12-11T17:11:21.484Z"
   },
   {
    "duration": 9,
    "start_time": "2022-12-11T17:11:27.669Z"
   },
   {
    "duration": 3,
    "start_time": "2022-12-11T17:11:29.953Z"
   },
   {
    "duration": 73,
    "start_time": "2022-12-11T17:11:31.871Z"
   },
   {
    "duration": 3,
    "start_time": "2022-12-11T17:11:53.415Z"
   },
   {
    "duration": 3,
    "start_time": "2022-12-11T17:12:08.303Z"
   },
   {
    "duration": 8,
    "start_time": "2022-12-11T17:12:17.971Z"
   },
   {
    "duration": 842,
    "start_time": "2022-12-11T17:12:17.980Z"
   },
   {
    "duration": 26,
    "start_time": "2022-12-11T17:12:18.824Z"
   },
   {
    "duration": 6,
    "start_time": "2022-12-11T17:12:18.852Z"
   },
   {
    "duration": 5,
    "start_time": "2022-12-11T17:12:18.860Z"
   },
   {
    "duration": 16,
    "start_time": "2022-12-11T17:12:18.866Z"
   },
   {
    "duration": 148,
    "start_time": "2022-12-11T17:12:18.884Z"
   },
   {
    "duration": 98,
    "start_time": "2022-12-11T17:12:19.041Z"
   },
   {
    "duration": 32,
    "start_time": "2022-12-11T17:12:19.143Z"
   },
   {
    "duration": 485,
    "start_time": "2022-12-11T17:12:19.177Z"
   },
   {
    "duration": 213,
    "start_time": "2022-12-11T17:12:19.664Z"
   },
   {
    "duration": 100,
    "start_time": "2022-12-11T17:12:19.878Z"
   },
   {
    "duration": 190,
    "start_time": "2022-12-11T17:12:19.980Z"
   },
   {
    "duration": 421,
    "start_time": "2022-12-11T17:12:20.173Z"
   },
   {
    "duration": 818,
    "start_time": "2022-12-11T17:12:20.595Z"
   },
   {
    "duration": 62,
    "start_time": "2022-12-11T17:12:21.415Z"
   },
   {
    "duration": 4,
    "start_time": "2022-12-11T17:12:21.478Z"
   },
   {
    "duration": 77,
    "start_time": "2022-12-11T17:12:21.484Z"
   },
   {
    "duration": 100,
    "start_time": "2022-12-11T17:12:21.563Z"
   },
   {
    "duration": 94,
    "start_time": "2022-12-11T17:12:21.665Z"
   },
   {
    "duration": 33,
    "start_time": "2022-12-11T17:12:21.761Z"
   },
   {
    "duration": 188,
    "start_time": "2022-12-11T17:12:21.796Z"
   },
   {
    "duration": 7,
    "start_time": "2022-12-11T17:12:21.985Z"
   },
   {
    "duration": 187,
    "start_time": "2022-12-11T17:12:21.993Z"
   },
   {
    "duration": 29,
    "start_time": "2022-12-11T17:12:22.182Z"
   },
   {
    "duration": 9,
    "start_time": "2022-12-11T17:12:22.229Z"
   },
   {
    "duration": 22,
    "start_time": "2022-12-11T17:12:22.239Z"
   },
   {
    "duration": 19,
    "start_time": "2022-12-11T17:12:22.263Z"
   },
   {
    "duration": 39,
    "start_time": "2022-12-11T17:12:22.286Z"
   },
   {
    "duration": 35,
    "start_time": "2022-12-11T17:12:22.327Z"
   },
   {
    "duration": 14,
    "start_time": "2022-12-11T17:12:22.364Z"
   },
   {
    "duration": 417,
    "start_time": "2022-12-11T17:12:22.380Z"
   },
   {
    "duration": 105,
    "start_time": "2022-12-11T17:12:22.799Z"
   },
   {
    "duration": 47,
    "start_time": "2022-12-11T17:12:22.906Z"
   },
   {
    "duration": 6,
    "start_time": "2022-12-11T17:12:22.956Z"
   },
   {
    "duration": 26,
    "start_time": "2022-12-11T17:12:22.964Z"
   },
   {
    "duration": 14,
    "start_time": "2022-12-11T17:12:22.992Z"
   },
   {
    "duration": 76,
    "start_time": "2022-12-11T17:12:23.007Z"
   },
   {
    "duration": 54,
    "start_time": "2022-12-11T17:12:23.085Z"
   },
   {
    "duration": 5,
    "start_time": "2022-12-11T17:12:23.140Z"
   },
   {
    "duration": 44,
    "start_time": "2022-12-11T17:12:23.146Z"
   },
   {
    "duration": 16,
    "start_time": "2022-12-11T17:12:23.192Z"
   },
   {
    "duration": 23,
    "start_time": "2022-12-11T17:12:23.210Z"
   },
   {
    "duration": 0,
    "start_time": "2022-12-11T17:12:23.234Z"
   },
   {
    "duration": 0,
    "start_time": "2022-12-11T17:12:23.236Z"
   },
   {
    "duration": 0,
    "start_time": "2022-12-11T17:12:23.237Z"
   },
   {
    "duration": 1237,
    "start_time": "2022-12-11T17:12:27.968Z"
   },
   {
    "duration": 10,
    "start_time": "2022-12-11T17:12:29.258Z"
   },
   {
    "duration": 3,
    "start_time": "2022-12-11T17:12:30.782Z"
   },
   {
    "duration": 3,
    "start_time": "2022-12-11T17:12:37.073Z"
   },
   {
    "duration": 9,
    "start_time": "2022-12-11T17:12:37.863Z"
   },
   {
    "duration": 15,
    "start_time": "2022-12-11T17:12:49.217Z"
   },
   {
    "duration": 8,
    "start_time": "2022-12-11T17:13:26.498Z"
   },
   {
    "duration": 821,
    "start_time": "2022-12-11T17:13:26.508Z"
   },
   {
    "duration": 11,
    "start_time": "2022-12-11T17:13:27.332Z"
   },
   {
    "duration": 12,
    "start_time": "2022-12-11T17:13:27.345Z"
   },
   {
    "duration": 32,
    "start_time": "2022-12-11T17:13:27.359Z"
   },
   {
    "duration": 42,
    "start_time": "2022-12-11T17:13:27.393Z"
   },
   {
    "duration": 151,
    "start_time": "2022-12-11T17:13:27.437Z"
   },
   {
    "duration": 94,
    "start_time": "2022-12-11T17:13:27.590Z"
   },
   {
    "duration": 25,
    "start_time": "2022-12-11T17:13:27.686Z"
   },
   {
    "duration": 470,
    "start_time": "2022-12-11T17:13:27.721Z"
   },
   {
    "duration": 201,
    "start_time": "2022-12-11T17:13:28.195Z"
   },
   {
    "duration": 99,
    "start_time": "2022-12-11T17:13:28.398Z"
   },
   {
    "duration": 186,
    "start_time": "2022-12-11T17:13:28.499Z"
   },
   {
    "duration": 432,
    "start_time": "2022-12-11T17:13:28.687Z"
   },
   {
    "duration": 847,
    "start_time": "2022-12-11T17:13:29.121Z"
   },
   {
    "duration": 52,
    "start_time": "2022-12-11T17:13:29.970Z"
   },
   {
    "duration": 31,
    "start_time": "2022-12-11T17:13:30.025Z"
   },
   {
    "duration": 54,
    "start_time": "2022-12-11T17:13:30.058Z"
   },
   {
    "duration": 107,
    "start_time": "2022-12-11T17:13:30.114Z"
   },
   {
    "duration": 110,
    "start_time": "2022-12-11T17:13:30.230Z"
   },
   {
    "duration": 24,
    "start_time": "2022-12-11T17:13:30.342Z"
   },
   {
    "duration": 210,
    "start_time": "2022-12-11T17:13:30.368Z"
   },
   {
    "duration": 7,
    "start_time": "2022-12-11T17:13:30.581Z"
   },
   {
    "duration": 196,
    "start_time": "2022-12-11T17:13:30.590Z"
   },
   {
    "duration": 44,
    "start_time": "2022-12-11T17:13:30.788Z"
   },
   {
    "duration": 20,
    "start_time": "2022-12-11T17:13:30.835Z"
   },
   {
    "duration": 22,
    "start_time": "2022-12-11T17:13:30.857Z"
   },
   {
    "duration": 48,
    "start_time": "2022-12-11T17:13:30.882Z"
   },
   {
    "duration": 55,
    "start_time": "2022-12-11T17:13:30.934Z"
   },
   {
    "duration": 38,
    "start_time": "2022-12-11T17:13:30.990Z"
   },
   {
    "duration": 65,
    "start_time": "2022-12-11T17:13:31.030Z"
   },
   {
    "duration": 414,
    "start_time": "2022-12-11T17:13:31.097Z"
   },
   {
    "duration": 85,
    "start_time": "2022-12-11T17:13:31.513Z"
   },
   {
    "duration": 3,
    "start_time": "2022-12-11T17:13:31.600Z"
   },
   {
    "duration": 29,
    "start_time": "2022-12-11T17:13:31.605Z"
   },
   {
    "duration": 30,
    "start_time": "2022-12-11T17:13:31.635Z"
   },
   {
    "duration": 12,
    "start_time": "2022-12-11T17:13:31.666Z"
   },
   {
    "duration": 101,
    "start_time": "2022-12-11T17:13:31.680Z"
   },
   {
    "duration": 61,
    "start_time": "2022-12-11T17:13:31.783Z"
   },
   {
    "duration": 4,
    "start_time": "2022-12-11T17:13:31.846Z"
   },
   {
    "duration": 20,
    "start_time": "2022-12-11T17:13:31.851Z"
   },
   {
    "duration": 3,
    "start_time": "2022-12-11T17:13:42.600Z"
   },
   {
    "duration": 14,
    "start_time": "2022-12-11T17:13:54.016Z"
   },
   {
    "duration": 6,
    "start_time": "2022-12-11T17:14:11.650Z"
   },
   {
    "duration": 790,
    "start_time": "2022-12-11T17:14:15.024Z"
   },
   {
    "duration": 11,
    "start_time": "2022-12-11T17:14:16.487Z"
   },
   {
    "duration": 3,
    "start_time": "2022-12-11T17:14:17.864Z"
   },
   {
    "duration": 2,
    "start_time": "2022-12-11T17:14:19.460Z"
   },
   {
    "duration": 14,
    "start_time": "2022-12-11T17:14:21.016Z"
   },
   {
    "duration": 121,
    "start_time": "2022-12-11T17:14:21.864Z"
   },
   {
    "duration": 81,
    "start_time": "2022-12-11T17:14:22.992Z"
   },
   {
    "duration": 24,
    "start_time": "2022-12-11T17:14:24.489Z"
   },
   {
    "duration": 405,
    "start_time": "2022-12-11T17:14:25.833Z"
   },
   {
    "duration": 168,
    "start_time": "2022-12-11T17:14:28.976Z"
   },
   {
    "duration": 85,
    "start_time": "2022-12-11T17:14:29.890Z"
   },
   {
    "duration": 179,
    "start_time": "2022-12-11T17:14:32.790Z"
   },
   {
    "duration": 356,
    "start_time": "2022-12-11T17:14:33.815Z"
   },
   {
    "duration": 699,
    "start_time": "2022-12-11T17:14:39.605Z"
   },
   {
    "duration": 49,
    "start_time": "2022-12-11T17:14:40.625Z"
   },
   {
    "duration": 3,
    "start_time": "2022-12-11T17:14:43.031Z"
   },
   {
    "duration": 29,
    "start_time": "2022-12-11T17:14:44.712Z"
   },
   {
    "duration": 82,
    "start_time": "2022-12-11T17:14:45.664Z"
   },
   {
    "duration": 87,
    "start_time": "2022-12-11T17:14:47.707Z"
   },
   {
    "duration": 28,
    "start_time": "2022-12-11T17:14:49.703Z"
   },
   {
    "duration": 156,
    "start_time": "2022-12-11T17:14:54.218Z"
   },
   {
    "duration": 8,
    "start_time": "2022-12-11T17:14:55.543Z"
   },
   {
    "duration": 154,
    "start_time": "2022-12-11T17:14:56.303Z"
   },
   {
    "duration": 28,
    "start_time": "2022-12-11T17:14:58.184Z"
   },
   {
    "duration": 5,
    "start_time": "2022-12-11T17:15:00.128Z"
   },
   {
    "duration": 5,
    "start_time": "2022-12-11T17:15:02.016Z"
   },
   {
    "duration": 7,
    "start_time": "2022-12-11T17:15:03.585Z"
   },
   {
    "duration": 17,
    "start_time": "2022-12-11T17:15:05.487Z"
   },
   {
    "duration": 11,
    "start_time": "2022-12-11T17:15:08.225Z"
   },
   {
    "duration": 3,
    "start_time": "2022-12-11T17:15:09.655Z"
   },
   {
    "duration": 454,
    "start_time": "2022-12-11T17:15:12.144Z"
   },
   {
    "duration": 61,
    "start_time": "2022-12-11T17:15:14.494Z"
   },
   {
    "duration": 2,
    "start_time": "2022-12-11T17:15:17.391Z"
   },
   {
    "duration": 3,
    "start_time": "2022-12-11T17:15:18.255Z"
   },
   {
    "duration": 12,
    "start_time": "2022-12-11T17:15:19.158Z"
   },
   {
    "duration": 10,
    "start_time": "2022-12-11T17:15:20.113Z"
   },
   {
    "duration": 51,
    "start_time": "2022-12-11T17:15:20.960Z"
   },
   {
    "duration": 43,
    "start_time": "2022-12-11T17:15:22.623Z"
   },
   {
    "duration": 3,
    "start_time": "2022-12-11T17:15:24.183Z"
   },
   {
    "duration": 6,
    "start_time": "2022-12-11T17:15:25.656Z"
   },
   {
    "duration": 4,
    "start_time": "2022-12-11T17:15:30.254Z"
   },
   {
    "duration": 10,
    "start_time": "2022-12-11T17:15:33.879Z"
   },
   {
    "duration": 10,
    "start_time": "2022-12-11T17:15:57.314Z"
   },
   {
    "duration": 12,
    "start_time": "2022-12-11T17:16:20.213Z"
   },
   {
    "duration": 13,
    "start_time": "2022-12-11T17:16:29.713Z"
   },
   {
    "duration": 93,
    "start_time": "2022-12-11T17:16:30.636Z"
   },
   {
    "duration": 134,
    "start_time": "2022-12-11T17:16:37.352Z"
   },
   {
    "duration": 3,
    "start_time": "2022-12-11T17:16:40.538Z"
   },
   {
    "duration": 4,
    "start_time": "2022-12-11T17:16:43.041Z"
   },
   {
    "duration": 4,
    "start_time": "2022-12-11T17:16:44.913Z"
   },
   {
    "duration": 4,
    "start_time": "2022-12-11T17:16:46.936Z"
   },
   {
    "duration": 1365,
    "start_time": "2022-12-11T17:16:47.729Z"
   },
   {
    "duration": 522,
    "start_time": "2022-12-11T17:17:09.921Z"
   },
   {
    "duration": 543,
    "start_time": "2022-12-11T17:17:14.057Z"
   },
   {
    "duration": 125,
    "start_time": "2022-12-11T17:17:20.842Z"
   },
   {
    "duration": 3,
    "start_time": "2022-12-11T17:17:25.311Z"
   },
   {
    "duration": 4,
    "start_time": "2022-12-11T17:17:28.572Z"
   },
   {
    "duration": 4,
    "start_time": "2022-12-11T17:17:31.946Z"
   },
   {
    "duration": 4,
    "start_time": "2022-12-11T17:17:35.042Z"
   },
   {
    "duration": 19402,
    "start_time": "2022-12-11T17:17:56.459Z"
   },
   {
    "duration": 3,
    "start_time": "2022-12-11T17:18:15.863Z"
   },
   {
    "duration": 40,
    "start_time": "2022-12-11T17:18:28.924Z"
   },
   {
    "duration": 9,
    "start_time": "2022-12-11T17:18:56.180Z"
   },
   {
    "duration": 720,
    "start_time": "2022-12-11T17:19:03.486Z"
   },
   {
    "duration": 1397,
    "start_time": "2022-12-11T18:42:07.363Z"
   },
   {
    "duration": 710,
    "start_time": "2022-12-11T18:42:08.761Z"
   },
   {
    "duration": 10,
    "start_time": "2022-12-11T18:42:09.473Z"
   },
   {
    "duration": 17,
    "start_time": "2022-12-11T18:42:09.485Z"
   },
   {
    "duration": 9,
    "start_time": "2022-12-11T18:42:09.503Z"
   },
   {
    "duration": 22,
    "start_time": "2022-12-11T18:42:09.513Z"
   },
   {
    "duration": 127,
    "start_time": "2022-12-11T18:42:09.537Z"
   },
   {
    "duration": 92,
    "start_time": "2022-12-11T18:42:09.665Z"
   },
   {
    "duration": 24,
    "start_time": "2022-12-11T18:42:09.758Z"
   },
   {
    "duration": 426,
    "start_time": "2022-12-11T18:42:09.784Z"
   },
   {
    "duration": 185,
    "start_time": "2022-12-11T18:42:10.211Z"
   },
   {
    "duration": 87,
    "start_time": "2022-12-11T18:42:10.398Z"
   },
   {
    "duration": 177,
    "start_time": "2022-12-11T18:42:10.487Z"
   },
   {
    "duration": 381,
    "start_time": "2022-12-11T18:42:10.666Z"
   },
   {
    "duration": 752,
    "start_time": "2022-12-11T18:42:11.049Z"
   },
   {
    "duration": 43,
    "start_time": "2022-12-11T18:42:11.802Z"
   },
   {
    "duration": 2,
    "start_time": "2022-12-11T18:42:11.847Z"
   },
   {
    "duration": 31,
    "start_time": "2022-12-11T18:42:11.851Z"
   },
   {
    "duration": 92,
    "start_time": "2022-12-11T18:42:11.884Z"
   },
   {
    "duration": 91,
    "start_time": "2022-12-11T18:42:11.978Z"
   },
   {
    "duration": 23,
    "start_time": "2022-12-11T18:42:12.071Z"
   },
   {
    "duration": 181,
    "start_time": "2022-12-11T18:42:12.096Z"
   },
   {
    "duration": 7,
    "start_time": "2022-12-11T18:42:12.279Z"
   },
   {
    "duration": 159,
    "start_time": "2022-12-11T18:42:12.288Z"
   },
   {
    "duration": 28,
    "start_time": "2022-12-11T18:42:12.449Z"
   },
   {
    "duration": 6,
    "start_time": "2022-12-11T18:42:12.479Z"
   },
   {
    "duration": 6,
    "start_time": "2022-12-11T18:42:12.487Z"
   },
   {
    "duration": 71,
    "start_time": "2022-12-11T18:42:12.524Z"
   },
   {
    "duration": 25,
    "start_time": "2022-12-11T18:42:12.596Z"
   },
   {
    "duration": 11,
    "start_time": "2022-12-11T18:42:12.622Z"
   },
   {
    "duration": 6,
    "start_time": "2022-12-11T18:42:12.634Z"
   },
   {
    "duration": 356,
    "start_time": "2022-12-11T18:42:12.641Z"
   },
   {
    "duration": 67,
    "start_time": "2022-12-11T18:42:12.998Z"
   },
   {
    "duration": 2,
    "start_time": "2022-12-11T18:42:13.067Z"
   },
   {
    "duration": 7,
    "start_time": "2022-12-11T18:42:13.071Z"
   },
   {
    "duration": 19,
    "start_time": "2022-12-11T18:42:13.079Z"
   },
   {
    "duration": 9,
    "start_time": "2022-12-11T18:42:13.100Z"
   },
   {
    "duration": 54,
    "start_time": "2022-12-11T18:42:13.120Z"
   },
   {
    "duration": 60,
    "start_time": "2022-12-11T18:42:13.175Z"
   },
   {
    "duration": 3,
    "start_time": "2022-12-11T18:42:13.237Z"
   },
   {
    "duration": 8,
    "start_time": "2022-12-11T18:42:13.241Z"
   },
   {
    "duration": 5,
    "start_time": "2022-12-11T18:42:13.251Z"
   },
   {
    "duration": 117,
    "start_time": "2022-12-11T18:42:13.257Z"
   },
   {
    "duration": 0,
    "start_time": "2022-12-11T18:42:13.376Z"
   },
   {
    "duration": 0,
    "start_time": "2022-12-11T18:42:13.377Z"
   },
   {
    "duration": 0,
    "start_time": "2022-12-11T18:42:13.378Z"
   },
   {
    "duration": 0,
    "start_time": "2022-12-11T18:42:13.379Z"
   },
   {
    "duration": 0,
    "start_time": "2022-12-11T18:42:13.380Z"
   },
   {
    "duration": 0,
    "start_time": "2022-12-11T18:42:13.382Z"
   },
   {
    "duration": 0,
    "start_time": "2022-12-11T18:42:13.382Z"
   },
   {
    "duration": 0,
    "start_time": "2022-12-11T18:42:13.383Z"
   },
   {
    "duration": 0,
    "start_time": "2022-12-11T18:42:13.384Z"
   },
   {
    "duration": 1,
    "start_time": "2022-12-11T18:42:13.385Z"
   },
   {
    "duration": 0,
    "start_time": "2022-12-11T18:42:13.387Z"
   },
   {
    "duration": 0,
    "start_time": "2022-12-11T18:42:13.388Z"
   },
   {
    "duration": 0,
    "start_time": "2022-12-11T18:42:13.388Z"
   },
   {
    "duration": 0,
    "start_time": "2022-12-11T18:42:13.389Z"
   },
   {
    "duration": 0,
    "start_time": "2022-12-11T18:42:13.390Z"
   },
   {
    "duration": 0,
    "start_time": "2022-12-11T18:42:13.391Z"
   },
   {
    "duration": 0,
    "start_time": "2022-12-11T18:42:13.392Z"
   },
   {
    "duration": 0,
    "start_time": "2022-12-11T18:42:13.392Z"
   },
   {
    "duration": 0,
    "start_time": "2022-12-11T18:42:13.394Z"
   },
   {
    "duration": 0,
    "start_time": "2022-12-11T18:42:13.421Z"
   },
   {
    "duration": 0,
    "start_time": "2022-12-11T18:42:13.422Z"
   },
   {
    "duration": 0,
    "start_time": "2022-12-11T18:42:13.423Z"
   },
   {
    "duration": 0,
    "start_time": "2022-12-11T18:42:13.424Z"
   },
   {
    "duration": 0,
    "start_time": "2022-12-11T18:42:13.425Z"
   },
   {
    "duration": 0,
    "start_time": "2022-12-11T18:42:13.425Z"
   },
   {
    "duration": 0,
    "start_time": "2022-12-11T18:42:13.426Z"
   },
   {
    "duration": 0,
    "start_time": "2022-12-11T18:42:13.427Z"
   },
   {
    "duration": 0,
    "start_time": "2022-12-11T18:42:13.428Z"
   },
   {
    "duration": 0,
    "start_time": "2022-12-11T18:42:13.429Z"
   },
   {
    "duration": 0,
    "start_time": "2022-12-11T18:42:13.429Z"
   },
   {
    "duration": 0,
    "start_time": "2022-12-11T18:42:13.430Z"
   },
   {
    "duration": 0,
    "start_time": "2022-12-11T18:42:13.431Z"
   },
   {
    "duration": 0,
    "start_time": "2022-12-11T18:42:13.432Z"
   },
   {
    "duration": 0,
    "start_time": "2022-12-11T18:42:13.433Z"
   },
   {
    "duration": 0,
    "start_time": "2022-12-11T18:42:13.434Z"
   },
   {
    "duration": 0,
    "start_time": "2022-12-11T18:42:13.435Z"
   },
   {
    "duration": 0,
    "start_time": "2022-12-11T18:42:13.437Z"
   },
   {
    "duration": 0,
    "start_time": "2022-12-11T18:42:13.437Z"
   },
   {
    "duration": 0,
    "start_time": "2022-12-11T18:42:13.439Z"
   },
   {
    "duration": 0,
    "start_time": "2022-12-11T18:42:13.440Z"
   },
   {
    "duration": 0,
    "start_time": "2022-12-11T18:42:13.441Z"
   },
   {
    "duration": 0,
    "start_time": "2022-12-11T18:42:13.441Z"
   },
   {
    "duration": 0,
    "start_time": "2022-12-11T18:42:13.443Z"
   },
   {
    "duration": 0,
    "start_time": "2022-12-11T18:42:13.443Z"
   },
   {
    "duration": 0,
    "start_time": "2022-12-11T18:42:13.444Z"
   },
   {
    "duration": 0,
    "start_time": "2022-12-11T18:42:13.445Z"
   },
   {
    "duration": 0,
    "start_time": "2022-12-11T18:42:13.446Z"
   },
   {
    "duration": 0,
    "start_time": "2022-12-11T18:42:13.447Z"
   },
   {
    "duration": 0,
    "start_time": "2022-12-11T18:42:13.448Z"
   },
   {
    "duration": 0,
    "start_time": "2022-12-11T18:42:13.449Z"
   },
   {
    "duration": 0,
    "start_time": "2022-12-11T18:42:13.450Z"
   },
   {
    "duration": 0,
    "start_time": "2022-12-11T18:42:13.451Z"
   },
   {
    "duration": 0,
    "start_time": "2022-12-11T18:42:13.452Z"
   },
   {
    "duration": 0,
    "start_time": "2022-12-11T18:42:13.454Z"
   },
   {
    "duration": 0,
    "start_time": "2022-12-11T18:42:13.455Z"
   },
   {
    "duration": 0,
    "start_time": "2022-12-11T18:42:13.456Z"
   },
   {
    "duration": 0,
    "start_time": "2022-12-11T18:42:13.457Z"
   },
   {
    "duration": 556,
    "start_time": "2022-12-11T18:44:06.805Z"
   },
   {
    "duration": 1411,
    "start_time": "2022-12-11T18:44:20.059Z"
   },
   {
    "duration": 726,
    "start_time": "2022-12-11T18:44:21.472Z"
   },
   {
    "duration": 10,
    "start_time": "2022-12-11T18:44:22.200Z"
   },
   {
    "duration": 17,
    "start_time": "2022-12-11T18:44:22.212Z"
   },
   {
    "duration": 13,
    "start_time": "2022-12-11T18:44:22.230Z"
   },
   {
    "duration": 27,
    "start_time": "2022-12-11T18:44:22.244Z"
   },
   {
    "duration": 125,
    "start_time": "2022-12-11T18:44:22.272Z"
   },
   {
    "duration": 90,
    "start_time": "2022-12-11T18:44:22.399Z"
   },
   {
    "duration": 32,
    "start_time": "2022-12-11T18:44:22.491Z"
   },
   {
    "duration": 437,
    "start_time": "2022-12-11T18:44:22.525Z"
   },
   {
    "duration": 187,
    "start_time": "2022-12-11T18:44:22.963Z"
   },
   {
    "duration": 89,
    "start_time": "2022-12-11T18:44:23.151Z"
   },
   {
    "duration": 152,
    "start_time": "2022-12-11T18:44:23.242Z"
   },
   {
    "duration": 387,
    "start_time": "2022-12-11T18:44:23.395Z"
   },
   {
    "duration": 749,
    "start_time": "2022-12-11T18:44:23.784Z"
   },
   {
    "duration": 39,
    "start_time": "2022-12-11T18:44:24.535Z"
   },
   {
    "duration": 3,
    "start_time": "2022-12-11T18:44:24.576Z"
   },
   {
    "duration": 53,
    "start_time": "2022-12-11T18:44:24.581Z"
   },
   {
    "duration": 83,
    "start_time": "2022-12-11T18:44:24.636Z"
   },
   {
    "duration": 81,
    "start_time": "2022-12-11T18:44:24.720Z"
   },
   {
    "duration": 38,
    "start_time": "2022-12-11T18:44:24.802Z"
   },
   {
    "duration": 172,
    "start_time": "2022-12-11T18:44:24.841Z"
   },
   {
    "duration": 7,
    "start_time": "2022-12-11T18:44:25.020Z"
   },
   {
    "duration": 167,
    "start_time": "2022-12-11T18:44:25.029Z"
   },
   {
    "duration": 33,
    "start_time": "2022-12-11T18:44:25.198Z"
   },
   {
    "duration": 6,
    "start_time": "2022-12-11T18:44:25.233Z"
   },
   {
    "duration": 5,
    "start_time": "2022-12-11T18:44:25.241Z"
   },
   {
    "duration": 6,
    "start_time": "2022-12-11T18:44:25.250Z"
   },
   {
    "duration": 17,
    "start_time": "2022-12-11T18:44:25.347Z"
   },
   {
    "duration": 12,
    "start_time": "2022-12-11T18:44:25.367Z"
   },
   {
    "duration": 4,
    "start_time": "2022-12-11T18:44:25.381Z"
   },
   {
    "duration": 389,
    "start_time": "2022-12-11T18:44:25.388Z"
   },
   {
    "duration": 69,
    "start_time": "2022-12-11T18:44:25.779Z"
   },
   {
    "duration": 2,
    "start_time": "2022-12-11T18:44:25.850Z"
   },
   {
    "duration": 4,
    "start_time": "2022-12-11T18:44:25.854Z"
   },
   {
    "duration": 22,
    "start_time": "2022-12-11T18:44:25.860Z"
   },
   {
    "duration": 9,
    "start_time": "2022-12-11T18:44:25.884Z"
   },
   {
    "duration": 73,
    "start_time": "2022-12-11T18:44:25.895Z"
   },
   {
    "duration": 53,
    "start_time": "2022-12-11T18:44:25.970Z"
   },
   {
    "duration": 3,
    "start_time": "2022-12-11T18:44:26.024Z"
   },
   {
    "duration": 12,
    "start_time": "2022-12-11T18:44:26.029Z"
   },
   {
    "duration": 3,
    "start_time": "2022-12-11T18:44:26.042Z"
   },
   {
    "duration": 569,
    "start_time": "2022-12-11T18:44:26.046Z"
   },
   {
    "duration": 539,
    "start_time": "2022-12-11T18:44:26.617Z"
   },
   {
    "duration": 132,
    "start_time": "2022-12-11T18:44:27.157Z"
   },
   {
    "duration": 2,
    "start_time": "2022-12-11T18:44:27.291Z"
   },
   {
    "duration": 24,
    "start_time": "2022-12-11T18:44:27.295Z"
   },
   {
    "duration": 21,
    "start_time": "2022-12-11T18:44:27.321Z"
   },
   {
    "duration": 5,
    "start_time": "2022-12-11T18:44:27.343Z"
   },
   {
    "duration": 19638,
    "start_time": "2022-12-11T18:44:27.350Z"
   },
   {
    "duration": 3,
    "start_time": "2022-12-11T18:44:46.990Z"
   },
   {
    "duration": 155,
    "start_time": "2022-12-11T18:44:46.994Z"
   },
   {
    "duration": 0,
    "start_time": "2022-12-11T18:44:47.151Z"
   },
   {
    "duration": 0,
    "start_time": "2022-12-11T18:44:47.152Z"
   },
   {
    "duration": 0,
    "start_time": "2022-12-11T18:44:47.153Z"
   },
   {
    "duration": 0,
    "start_time": "2022-12-11T18:44:47.154Z"
   },
   {
    "duration": 0,
    "start_time": "2022-12-11T18:44:47.155Z"
   },
   {
    "duration": 0,
    "start_time": "2022-12-11T18:44:47.156Z"
   },
   {
    "duration": 0,
    "start_time": "2022-12-11T18:44:47.157Z"
   },
   {
    "duration": 0,
    "start_time": "2022-12-11T18:44:47.157Z"
   },
   {
    "duration": 0,
    "start_time": "2022-12-11T18:44:47.159Z"
   },
   {
    "duration": 0,
    "start_time": "2022-12-11T18:44:47.160Z"
   },
   {
    "duration": 0,
    "start_time": "2022-12-11T18:44:47.161Z"
   },
   {
    "duration": 0,
    "start_time": "2022-12-11T18:44:47.162Z"
   },
   {
    "duration": 0,
    "start_time": "2022-12-11T18:44:47.163Z"
   },
   {
    "duration": 0,
    "start_time": "2022-12-11T18:44:47.164Z"
   },
   {
    "duration": 0,
    "start_time": "2022-12-11T18:44:47.165Z"
   },
   {
    "duration": 0,
    "start_time": "2022-12-11T18:44:47.166Z"
   },
   {
    "duration": 0,
    "start_time": "2022-12-11T18:44:47.167Z"
   },
   {
    "duration": 0,
    "start_time": "2022-12-11T18:44:47.167Z"
   },
   {
    "duration": 0,
    "start_time": "2022-12-11T18:44:47.168Z"
   },
   {
    "duration": 0,
    "start_time": "2022-12-11T18:44:47.169Z"
   },
   {
    "duration": 0,
    "start_time": "2022-12-11T18:44:47.170Z"
   },
   {
    "duration": 0,
    "start_time": "2022-12-11T18:44:47.171Z"
   },
   {
    "duration": 0,
    "start_time": "2022-12-11T18:44:47.172Z"
   },
   {
    "duration": 0,
    "start_time": "2022-12-11T18:44:47.173Z"
   },
   {
    "duration": 0,
    "start_time": "2022-12-11T18:44:47.174Z"
   },
   {
    "duration": 0,
    "start_time": "2022-12-11T18:44:47.175Z"
   },
   {
    "duration": 0,
    "start_time": "2022-12-11T18:44:47.176Z"
   },
   {
    "duration": 0,
    "start_time": "2022-12-11T18:44:47.177Z"
   },
   {
    "duration": 0,
    "start_time": "2022-12-11T18:44:47.178Z"
   },
   {
    "duration": 0,
    "start_time": "2022-12-11T18:44:47.222Z"
   },
   {
    "duration": 0,
    "start_time": "2022-12-11T18:44:47.223Z"
   },
   {
    "duration": 0,
    "start_time": "2022-12-11T18:44:47.223Z"
   },
   {
    "duration": 0,
    "start_time": "2022-12-11T18:44:47.224Z"
   },
   {
    "duration": 0,
    "start_time": "2022-12-11T18:44:47.225Z"
   },
   {
    "duration": 0,
    "start_time": "2022-12-11T18:44:47.227Z"
   },
   {
    "duration": 0,
    "start_time": "2022-12-11T18:44:47.228Z"
   },
   {
    "duration": 0,
    "start_time": "2022-12-11T18:44:47.229Z"
   },
   {
    "duration": 0,
    "start_time": "2022-12-11T18:44:47.230Z"
   },
   {
    "duration": 0,
    "start_time": "2022-12-11T18:44:47.231Z"
   },
   {
    "duration": 0,
    "start_time": "2022-12-11T18:44:47.232Z"
   },
   {
    "duration": 0,
    "start_time": "2022-12-11T18:44:47.232Z"
   },
   {
    "duration": 0,
    "start_time": "2022-12-11T18:44:47.233Z"
   },
   {
    "duration": 0,
    "start_time": "2022-12-11T18:44:47.234Z"
   },
   {
    "duration": 0,
    "start_time": "2022-12-11T18:44:47.235Z"
   },
   {
    "duration": 0,
    "start_time": "2022-12-11T18:44:47.236Z"
   },
   {
    "duration": 0,
    "start_time": "2022-12-11T18:44:47.237Z"
   },
   {
    "duration": 0,
    "start_time": "2022-12-11T18:44:47.237Z"
   },
   {
    "duration": 0,
    "start_time": "2022-12-11T18:44:47.238Z"
   },
   {
    "duration": 1425,
    "start_time": "2022-12-11T18:45:38.848Z"
   },
   {
    "duration": 730,
    "start_time": "2022-12-11T18:45:40.274Z"
   },
   {
    "duration": 15,
    "start_time": "2022-12-11T18:45:41.006Z"
   },
   {
    "duration": 11,
    "start_time": "2022-12-11T18:45:41.023Z"
   },
   {
    "duration": 9,
    "start_time": "2022-12-11T18:45:41.036Z"
   },
   {
    "duration": 28,
    "start_time": "2022-12-11T18:45:41.046Z"
   },
   {
    "duration": 132,
    "start_time": "2022-12-11T18:45:41.075Z"
   },
   {
    "duration": 85,
    "start_time": "2022-12-11T18:45:41.209Z"
   },
   {
    "duration": 30,
    "start_time": "2022-12-11T18:45:41.296Z"
   },
   {
    "duration": 453,
    "start_time": "2022-12-11T18:45:41.329Z"
   },
   {
    "duration": 183,
    "start_time": "2022-12-11T18:45:41.783Z"
   },
   {
    "duration": 94,
    "start_time": "2022-12-11T18:45:41.968Z"
   },
   {
    "duration": 154,
    "start_time": "2022-12-11T18:45:42.063Z"
   },
   {
    "duration": 375,
    "start_time": "2022-12-11T18:45:42.221Z"
   },
   {
    "duration": 763,
    "start_time": "2022-12-11T18:45:42.598Z"
   },
   {
    "duration": 37,
    "start_time": "2022-12-11T18:45:43.362Z"
   },
   {
    "duration": 3,
    "start_time": "2022-12-11T18:45:43.401Z"
   },
   {
    "duration": 43,
    "start_time": "2022-12-11T18:45:43.421Z"
   },
   {
    "duration": 86,
    "start_time": "2022-12-11T18:45:43.466Z"
   },
   {
    "duration": 85,
    "start_time": "2022-12-11T18:45:43.553Z"
   },
   {
    "duration": 24,
    "start_time": "2022-12-11T18:45:43.640Z"
   },
   {
    "duration": 198,
    "start_time": "2022-12-11T18:45:43.666Z"
   },
   {
    "duration": 6,
    "start_time": "2022-12-11T18:45:43.866Z"
   },
   {
    "duration": 160,
    "start_time": "2022-12-11T18:45:43.873Z"
   },
   {
    "duration": 27,
    "start_time": "2022-12-11T18:45:44.034Z"
   },
   {
    "duration": 4,
    "start_time": "2022-12-11T18:45:44.063Z"
   },
   {
    "duration": 23,
    "start_time": "2022-12-11T18:45:44.069Z"
   },
   {
    "duration": 25,
    "start_time": "2022-12-11T18:45:44.096Z"
   },
   {
    "duration": 14,
    "start_time": "2022-12-11T18:45:44.189Z"
   },
   {
    "duration": 20,
    "start_time": "2022-12-11T18:45:44.205Z"
   },
   {
    "duration": 21,
    "start_time": "2022-12-11T18:45:44.226Z"
   },
   {
    "duration": 361,
    "start_time": "2022-12-11T18:45:44.249Z"
   },
   {
    "duration": 69,
    "start_time": "2022-12-11T18:45:44.612Z"
   },
   {
    "duration": 13,
    "start_time": "2022-12-11T18:45:44.683Z"
   },
   {
    "duration": 15,
    "start_time": "2022-12-11T18:45:44.698Z"
   },
   {
    "duration": 40,
    "start_time": "2022-12-11T18:45:44.714Z"
   },
   {
    "duration": 20,
    "start_time": "2022-12-11T18:45:44.755Z"
   },
   {
    "duration": 63,
    "start_time": "2022-12-11T18:45:44.776Z"
   },
   {
    "duration": 46,
    "start_time": "2022-12-11T18:45:44.841Z"
   },
   {
    "duration": 4,
    "start_time": "2022-12-11T18:45:44.888Z"
   },
   {
    "duration": 25,
    "start_time": "2022-12-11T18:45:44.893Z"
   },
   {
    "duration": 14,
    "start_time": "2022-12-11T18:45:44.920Z"
   },
   {
    "duration": 588,
    "start_time": "2022-12-11T18:45:44.935Z"
   },
   {
    "duration": 563,
    "start_time": "2022-12-11T18:45:45.525Z"
   },
   {
    "duration": 142,
    "start_time": "2022-12-11T18:45:46.090Z"
   },
   {
    "duration": 1187,
    "start_time": "2022-12-11T18:45:46.234Z"
   },
   {
    "duration": 3,
    "start_time": "2022-12-11T18:45:47.423Z"
   },
   {
    "duration": 8,
    "start_time": "2022-12-11T18:45:47.428Z"
   },
   {
    "duration": 8,
    "start_time": "2022-12-11T18:45:47.437Z"
   },
   {
    "duration": 1493,
    "start_time": "2022-12-11T18:46:06.187Z"
   },
   {
    "duration": 979,
    "start_time": "2022-12-11T18:46:07.681Z"
   },
   {
    "duration": 12,
    "start_time": "2022-12-11T18:46:08.661Z"
   },
   {
    "duration": 17,
    "start_time": "2022-12-11T18:46:08.675Z"
   },
   {
    "duration": 15,
    "start_time": "2022-12-11T18:46:08.693Z"
   },
   {
    "duration": 24,
    "start_time": "2022-12-11T18:46:08.709Z"
   },
   {
    "duration": 122,
    "start_time": "2022-12-11T18:46:08.734Z"
   },
   {
    "duration": 127,
    "start_time": "2022-12-11T18:46:08.857Z"
   },
   {
    "duration": 24,
    "start_time": "2022-12-11T18:46:08.986Z"
   },
   {
    "duration": 427,
    "start_time": "2022-12-11T18:46:09.020Z"
   },
   {
    "duration": 189,
    "start_time": "2022-12-11T18:46:09.449Z"
   },
   {
    "duration": 97,
    "start_time": "2022-12-11T18:46:09.640Z"
   },
   {
    "duration": 155,
    "start_time": "2022-12-11T18:46:09.738Z"
   },
   {
    "duration": 381,
    "start_time": "2022-12-11T18:46:09.895Z"
   },
   {
    "duration": 751,
    "start_time": "2022-12-11T18:46:10.278Z"
   },
   {
    "duration": 37,
    "start_time": "2022-12-11T18:46:11.031Z"
   },
   {
    "duration": 2,
    "start_time": "2022-12-11T18:46:11.070Z"
   },
   {
    "duration": 50,
    "start_time": "2022-12-11T18:46:11.073Z"
   },
   {
    "duration": 90,
    "start_time": "2022-12-11T18:46:11.125Z"
   },
   {
    "duration": 77,
    "start_time": "2022-12-11T18:46:11.217Z"
   },
   {
    "duration": 29,
    "start_time": "2022-12-11T18:46:11.295Z"
   },
   {
    "duration": 176,
    "start_time": "2022-12-11T18:46:11.325Z"
   },
   {
    "duration": 6,
    "start_time": "2022-12-11T18:46:11.504Z"
   },
   {
    "duration": 168,
    "start_time": "2022-12-11T18:46:11.520Z"
   },
   {
    "duration": 32,
    "start_time": "2022-12-11T18:46:11.690Z"
   },
   {
    "duration": 15,
    "start_time": "2022-12-11T18:46:11.724Z"
   },
   {
    "duration": 32,
    "start_time": "2022-12-11T18:46:11.740Z"
   },
   {
    "duration": 28,
    "start_time": "2022-12-11T18:46:11.775Z"
   },
   {
    "duration": 15,
    "start_time": "2022-12-11T18:46:11.874Z"
   },
   {
    "duration": 27,
    "start_time": "2022-12-11T18:46:11.891Z"
   },
   {
    "duration": 15,
    "start_time": "2022-12-11T18:46:11.919Z"
   },
   {
    "duration": 361,
    "start_time": "2022-12-11T18:46:11.935Z"
   },
   {
    "duration": 67,
    "start_time": "2022-12-11T18:46:12.298Z"
   },
   {
    "duration": 16,
    "start_time": "2022-12-11T18:46:12.366Z"
   },
   {
    "duration": 21,
    "start_time": "2022-12-11T18:46:12.384Z"
   },
   {
    "duration": 24,
    "start_time": "2022-12-11T18:46:12.407Z"
   },
   {
    "duration": 9,
    "start_time": "2022-12-11T18:46:12.433Z"
   },
   {
    "duration": 70,
    "start_time": "2022-12-11T18:46:12.444Z"
   },
   {
    "duration": 48,
    "start_time": "2022-12-11T18:46:12.516Z"
   },
   {
    "duration": 4,
    "start_time": "2022-12-11T18:46:12.566Z"
   },
   {
    "duration": 28,
    "start_time": "2022-12-11T18:46:12.572Z"
   },
   {
    "duration": 19,
    "start_time": "2022-12-11T18:46:12.601Z"
   },
   {
    "duration": 583,
    "start_time": "2022-12-11T18:46:12.622Z"
   },
   {
    "duration": 538,
    "start_time": "2022-12-11T18:46:13.207Z"
   },
   {
    "duration": 145,
    "start_time": "2022-12-11T18:46:13.746Z"
   },
   {
    "duration": 1183,
    "start_time": "2022-12-11T18:46:13.894Z"
   },
   {
    "duration": 4,
    "start_time": "2022-12-11T18:46:15.078Z"
   },
   {
    "duration": 24,
    "start_time": "2022-12-11T18:46:15.083Z"
   },
   {
    "duration": 7,
    "start_time": "2022-12-11T18:46:15.109Z"
   },
   {
    "duration": 44,
    "start_time": "2022-12-11T18:50:39.279Z"
   },
   {
    "duration": 1453,
    "start_time": "2022-12-11T18:50:48.729Z"
   },
   {
    "duration": 983,
    "start_time": "2022-12-11T18:50:50.184Z"
   },
   {
    "duration": 10,
    "start_time": "2022-12-11T18:50:51.169Z"
   },
   {
    "duration": 11,
    "start_time": "2022-12-11T18:50:51.181Z"
   },
   {
    "duration": 13,
    "start_time": "2022-12-11T18:50:51.193Z"
   },
   {
    "duration": 24,
    "start_time": "2022-12-11T18:50:51.207Z"
   },
   {
    "duration": 132,
    "start_time": "2022-12-11T18:50:51.232Z"
   },
   {
    "duration": 122,
    "start_time": "2022-12-11T18:50:51.366Z"
   },
   {
    "duration": 41,
    "start_time": "2022-12-11T18:50:51.490Z"
   },
   {
    "duration": 423,
    "start_time": "2022-12-11T18:50:51.533Z"
   },
   {
    "duration": 191,
    "start_time": "2022-12-11T18:50:51.958Z"
   },
   {
    "duration": 93,
    "start_time": "2022-12-11T18:50:52.150Z"
   },
   {
    "duration": 158,
    "start_time": "2022-12-11T18:50:52.244Z"
   },
   {
    "duration": 389,
    "start_time": "2022-12-11T18:50:52.403Z"
   },
   {
    "duration": 741,
    "start_time": "2022-12-11T18:50:52.794Z"
   },
   {
    "duration": 38,
    "start_time": "2022-12-11T18:50:53.537Z"
   },
   {
    "duration": 3,
    "start_time": "2022-12-11T18:50:53.577Z"
   },
   {
    "duration": 52,
    "start_time": "2022-12-11T18:50:53.581Z"
   },
   {
    "duration": 91,
    "start_time": "2022-12-11T18:50:53.635Z"
   },
   {
    "duration": 83,
    "start_time": "2022-12-11T18:50:53.728Z"
   },
   {
    "duration": 31,
    "start_time": "2022-12-11T18:50:53.813Z"
   },
   {
    "duration": 183,
    "start_time": "2022-12-11T18:50:53.846Z"
   },
   {
    "duration": 7,
    "start_time": "2022-12-11T18:50:54.030Z"
   },
   {
    "duration": 163,
    "start_time": "2022-12-11T18:50:54.038Z"
   },
   {
    "duration": 35,
    "start_time": "2022-12-11T18:50:54.202Z"
   },
   {
    "duration": 5,
    "start_time": "2022-12-11T18:50:54.238Z"
   },
   {
    "duration": 22,
    "start_time": "2022-12-11T18:50:54.244Z"
   },
   {
    "duration": 18,
    "start_time": "2022-12-11T18:50:54.269Z"
   },
   {
    "duration": 18,
    "start_time": "2022-12-11T18:50:54.355Z"
   },
   {
    "duration": 16,
    "start_time": "2022-12-11T18:50:54.375Z"
   },
   {
    "duration": 348,
    "start_time": "2022-12-11T18:50:54.393Z"
   },
   {
    "duration": 61,
    "start_time": "2022-12-11T18:50:54.742Z"
   },
   {
    "duration": 2,
    "start_time": "2022-12-11T18:50:54.804Z"
   },
   {
    "duration": 6,
    "start_time": "2022-12-11T18:50:54.820Z"
   },
   {
    "duration": 27,
    "start_time": "2022-12-11T18:50:54.827Z"
   },
   {
    "duration": 31,
    "start_time": "2022-12-11T18:50:54.855Z"
   },
   {
    "duration": 57,
    "start_time": "2022-12-11T18:50:54.888Z"
   },
   {
    "duration": 48,
    "start_time": "2022-12-11T18:50:54.947Z"
   },
   {
    "duration": 4,
    "start_time": "2022-12-11T18:50:54.996Z"
   },
   {
    "duration": 6,
    "start_time": "2022-12-11T18:50:55.001Z"
   },
   {
    "duration": 16,
    "start_time": "2022-12-11T18:50:55.008Z"
   },
   {
    "duration": 9,
    "start_time": "2022-12-11T18:50:55.025Z"
   },
   {
    "duration": 615,
    "start_time": "2022-12-11T18:50:55.035Z"
   },
   {
    "duration": 529,
    "start_time": "2022-12-11T18:50:55.652Z"
   },
   {
    "duration": 132,
    "start_time": "2022-12-11T18:50:56.183Z"
   },
   {
    "duration": 1142,
    "start_time": "2022-12-11T18:50:56.316Z"
   },
   {
    "duration": 4,
    "start_time": "2022-12-11T18:50:57.459Z"
   },
   {
    "duration": 4,
    "start_time": "2022-12-11T18:50:57.465Z"
   },
   {
    "duration": 6,
    "start_time": "2022-12-11T18:50:57.470Z"
   },
   {
    "duration": 46,
    "start_time": "2022-12-11T19:10:52.972Z"
   },
   {
    "duration": 1535,
    "start_time": "2022-12-11T19:11:03.700Z"
   },
   {
    "duration": 1064,
    "start_time": "2022-12-11T19:11:05.238Z"
   },
   {
    "duration": 11,
    "start_time": "2022-12-11T19:11:06.304Z"
   },
   {
    "duration": 11,
    "start_time": "2022-12-11T19:11:06.316Z"
   },
   {
    "duration": 6,
    "start_time": "2022-12-11T19:11:06.329Z"
   },
   {
    "duration": 22,
    "start_time": "2022-12-11T19:11:06.337Z"
   },
   {
    "duration": 130,
    "start_time": "2022-12-11T19:11:06.360Z"
   },
   {
    "duration": 97,
    "start_time": "2022-12-11T19:11:06.491Z"
   },
   {
    "duration": 32,
    "start_time": "2022-12-11T19:11:06.590Z"
   },
   {
    "duration": 422,
    "start_time": "2022-12-11T19:11:06.624Z"
   },
   {
    "duration": 186,
    "start_time": "2022-12-11T19:11:07.048Z"
   },
   {
    "duration": 93,
    "start_time": "2022-12-11T19:11:07.236Z"
   },
   {
    "duration": 149,
    "start_time": "2022-12-11T19:11:07.331Z"
   },
   {
    "duration": 401,
    "start_time": "2022-12-11T19:11:07.482Z"
   },
   {
    "duration": 749,
    "start_time": "2022-12-11T19:11:07.885Z"
   },
   {
    "duration": 39,
    "start_time": "2022-12-11T19:11:08.636Z"
   },
   {
    "duration": 3,
    "start_time": "2022-12-11T19:11:08.677Z"
   },
   {
    "duration": 49,
    "start_time": "2022-12-11T19:11:08.681Z"
   },
   {
    "duration": 91,
    "start_time": "2022-12-11T19:11:08.732Z"
   },
   {
    "duration": 80,
    "start_time": "2022-12-11T19:11:08.824Z"
   },
   {
    "duration": 34,
    "start_time": "2022-12-11T19:11:08.906Z"
   },
   {
    "duration": 175,
    "start_time": "2022-12-11T19:11:08.942Z"
   },
   {
    "duration": 6,
    "start_time": "2022-12-11T19:11:09.121Z"
   },
   {
    "duration": 161,
    "start_time": "2022-12-11T19:11:09.129Z"
   },
   {
    "duration": 38,
    "start_time": "2022-12-11T19:11:09.291Z"
   },
   {
    "duration": 7,
    "start_time": "2022-12-11T19:11:09.331Z"
   },
   {
    "duration": 33,
    "start_time": "2022-12-11T19:11:09.340Z"
   },
   {
    "duration": 19,
    "start_time": "2022-12-11T19:11:09.378Z"
   },
   {
    "duration": 17,
    "start_time": "2022-12-11T19:11:09.462Z"
   },
   {
    "duration": 14,
    "start_time": "2022-12-11T19:11:09.481Z"
   },
   {
    "duration": 373,
    "start_time": "2022-12-11T19:11:09.497Z"
   },
   {
    "duration": 69,
    "start_time": "2022-12-11T19:11:09.871Z"
   },
   {
    "duration": 6,
    "start_time": "2022-12-11T19:11:09.942Z"
   },
   {
    "duration": 6,
    "start_time": "2022-12-11T19:11:09.949Z"
   },
   {
    "duration": 18,
    "start_time": "2022-12-11T19:11:09.957Z"
   },
   {
    "duration": 10,
    "start_time": "2022-12-11T19:11:09.976Z"
   },
   {
    "duration": 69,
    "start_time": "2022-12-11T19:11:09.987Z"
   },
   {
    "duration": 49,
    "start_time": "2022-12-11T19:11:10.058Z"
   },
   {
    "duration": 14,
    "start_time": "2022-12-11T19:11:10.109Z"
   },
   {
    "duration": 9,
    "start_time": "2022-12-11T19:11:10.124Z"
   },
   {
    "duration": 9,
    "start_time": "2022-12-11T19:11:10.134Z"
   },
   {
    "duration": 5,
    "start_time": "2022-12-11T19:11:10.145Z"
   },
   {
    "duration": 569,
    "start_time": "2022-12-11T19:11:10.152Z"
   },
   {
    "duration": 529,
    "start_time": "2022-12-11T19:11:10.723Z"
   },
   {
    "duration": 145,
    "start_time": "2022-12-11T19:11:11.254Z"
   },
   {
    "duration": 1175,
    "start_time": "2022-12-11T19:11:11.400Z"
   },
   {
    "duration": 5,
    "start_time": "2022-12-11T19:11:12.577Z"
   },
   {
    "duration": 9,
    "start_time": "2022-12-11T19:11:12.584Z"
   },
   {
    "duration": 5,
    "start_time": "2022-12-11T19:11:12.595Z"
   },
   {
    "duration": 46,
    "start_time": "2022-12-11T19:16:18.332Z"
   },
   {
    "duration": 3,
    "start_time": "2022-12-11T19:16:28.209Z"
   },
   {
    "duration": 6,
    "start_time": "2022-12-11T19:16:33.257Z"
   },
   {
    "duration": 969,
    "start_time": "2022-12-11T19:16:40.797Z"
   },
   {
    "duration": 4,
    "start_time": "2022-12-11T19:16:46.280Z"
   },
   {
    "duration": 7,
    "start_time": "2022-12-11T19:16:53.433Z"
   },
   {
    "duration": 1439,
    "start_time": "2022-12-11T19:17:15.358Z"
   },
   {
    "duration": 1006,
    "start_time": "2022-12-11T19:17:16.799Z"
   },
   {
    "duration": 10,
    "start_time": "2022-12-11T19:17:17.807Z"
   },
   {
    "duration": 30,
    "start_time": "2022-12-11T19:17:17.819Z"
   },
   {
    "duration": 13,
    "start_time": "2022-12-11T19:17:17.850Z"
   },
   {
    "duration": 47,
    "start_time": "2022-12-11T19:17:17.864Z"
   },
   {
    "duration": 132,
    "start_time": "2022-12-11T19:17:17.913Z"
   },
   {
    "duration": 94,
    "start_time": "2022-12-11T19:17:18.047Z"
   },
   {
    "duration": 25,
    "start_time": "2022-12-11T19:17:18.142Z"
   },
   {
    "duration": 435,
    "start_time": "2022-12-11T19:17:18.169Z"
   },
   {
    "duration": 209,
    "start_time": "2022-12-11T19:17:18.606Z"
   },
   {
    "duration": 85,
    "start_time": "2022-12-11T19:17:18.817Z"
   },
   {
    "duration": 178,
    "start_time": "2022-12-11T19:17:18.903Z"
   },
   {
    "duration": 415,
    "start_time": "2022-12-11T19:17:19.083Z"
   },
   {
    "duration": 796,
    "start_time": "2022-12-11T19:17:19.500Z"
   },
   {
    "duration": 50,
    "start_time": "2022-12-11T19:17:20.298Z"
   },
   {
    "duration": 2,
    "start_time": "2022-12-11T19:17:20.350Z"
   },
   {
    "duration": 37,
    "start_time": "2022-12-11T19:17:20.354Z"
   },
   {
    "duration": 86,
    "start_time": "2022-12-11T19:17:20.393Z"
   },
   {
    "duration": 86,
    "start_time": "2022-12-11T19:17:20.480Z"
   },
   {
    "duration": 25,
    "start_time": "2022-12-11T19:17:20.568Z"
   },
   {
    "duration": 189,
    "start_time": "2022-12-11T19:17:20.595Z"
   },
   {
    "duration": 6,
    "start_time": "2022-12-11T19:17:20.785Z"
   },
   {
    "duration": 160,
    "start_time": "2022-12-11T19:17:20.793Z"
   },
   {
    "duration": 30,
    "start_time": "2022-12-11T19:17:20.955Z"
   },
   {
    "duration": 5,
    "start_time": "2022-12-11T19:17:20.987Z"
   },
   {
    "duration": 9,
    "start_time": "2022-12-11T19:17:20.994Z"
   },
   {
    "duration": 76,
    "start_time": "2022-12-11T19:17:21.024Z"
   },
   {
    "duration": 26,
    "start_time": "2022-12-11T19:17:21.101Z"
   },
   {
    "duration": 11,
    "start_time": "2022-12-11T19:17:21.128Z"
   },
   {
    "duration": 361,
    "start_time": "2022-12-11T19:17:21.140Z"
   },
   {
    "duration": 76,
    "start_time": "2022-12-11T19:17:21.503Z"
   },
   {
    "duration": 11,
    "start_time": "2022-12-11T19:17:21.580Z"
   },
   {
    "duration": 9,
    "start_time": "2022-12-11T19:17:21.592Z"
   },
   {
    "duration": 29,
    "start_time": "2022-12-11T19:17:21.602Z"
   },
   {
    "duration": 10,
    "start_time": "2022-12-11T19:17:21.632Z"
   },
   {
    "duration": 59,
    "start_time": "2022-12-11T19:17:21.644Z"
   },
   {
    "duration": 59,
    "start_time": "2022-12-11T19:17:21.704Z"
   },
   {
    "duration": 3,
    "start_time": "2022-12-11T19:17:21.765Z"
   },
   {
    "duration": 11,
    "start_time": "2022-12-11T19:17:21.770Z"
   },
   {
    "duration": 13,
    "start_time": "2022-12-11T19:17:21.782Z"
   },
   {
    "duration": 14,
    "start_time": "2022-12-11T19:17:21.797Z"
   },
   {
    "duration": 580,
    "start_time": "2022-12-11T19:17:21.813Z"
   },
   {
    "duration": 555,
    "start_time": "2022-12-11T19:17:22.394Z"
   },
   {
    "duration": 151,
    "start_time": "2022-12-11T19:17:22.951Z"
   },
   {
    "duration": 1214,
    "start_time": "2022-12-11T19:17:23.103Z"
   },
   {
    "duration": 4,
    "start_time": "2022-12-11T19:17:24.321Z"
   },
   {
    "duration": 16,
    "start_time": "2022-12-11T19:17:24.326Z"
   },
   {
    "duration": 11,
    "start_time": "2022-12-11T19:17:24.343Z"
   },
   {
    "duration": 8,
    "start_time": "2022-12-11T19:17:24.356Z"
   },
   {
    "duration": 6,
    "start_time": "2022-12-11T19:17:24.366Z"
   },
   {
    "duration": 154,
    "start_time": "2022-12-11T19:17:24.374Z"
   },
   {
    "duration": 0,
    "start_time": "2022-12-11T19:17:24.530Z"
   },
   {
    "duration": 0,
    "start_time": "2022-12-11T19:17:24.532Z"
   },
   {
    "duration": 0,
    "start_time": "2022-12-11T19:17:24.533Z"
   },
   {
    "duration": 0,
    "start_time": "2022-12-11T19:17:24.534Z"
   },
   {
    "duration": 0,
    "start_time": "2022-12-11T19:17:24.535Z"
   },
   {
    "duration": 0,
    "start_time": "2022-12-11T19:17:24.536Z"
   },
   {
    "duration": 0,
    "start_time": "2022-12-11T19:17:24.537Z"
   },
   {
    "duration": 0,
    "start_time": "2022-12-11T19:17:24.538Z"
   },
   {
    "duration": 0,
    "start_time": "2022-12-11T19:17:24.539Z"
   },
   {
    "duration": 0,
    "start_time": "2022-12-11T19:17:24.540Z"
   },
   {
    "duration": 0,
    "start_time": "2022-12-11T19:17:24.542Z"
   },
   {
    "duration": 0,
    "start_time": "2022-12-11T19:17:24.543Z"
   },
   {
    "duration": 0,
    "start_time": "2022-12-11T19:17:24.544Z"
   },
   {
    "duration": 0,
    "start_time": "2022-12-11T19:17:24.544Z"
   },
   {
    "duration": 0,
    "start_time": "2022-12-11T19:17:24.545Z"
   },
   {
    "duration": 0,
    "start_time": "2022-12-11T19:17:24.546Z"
   },
   {
    "duration": 0,
    "start_time": "2022-12-11T19:17:24.547Z"
   },
   {
    "duration": 0,
    "start_time": "2022-12-11T19:17:24.548Z"
   },
   {
    "duration": 0,
    "start_time": "2022-12-11T19:17:24.549Z"
   },
   {
    "duration": 0,
    "start_time": "2022-12-11T19:17:24.550Z"
   },
   {
    "duration": 0,
    "start_time": "2022-12-11T19:17:24.551Z"
   },
   {
    "duration": 0,
    "start_time": "2022-12-11T19:17:24.552Z"
   },
   {
    "duration": 0,
    "start_time": "2022-12-11T19:17:24.553Z"
   },
   {
    "duration": 0,
    "start_time": "2022-12-11T19:17:24.554Z"
   },
   {
    "duration": 0,
    "start_time": "2022-12-11T19:17:24.555Z"
   },
   {
    "duration": 0,
    "start_time": "2022-12-11T19:17:24.556Z"
   },
   {
    "duration": 0,
    "start_time": "2022-12-11T19:17:24.557Z"
   },
   {
    "duration": 0,
    "start_time": "2022-12-11T19:17:24.558Z"
   },
   {
    "duration": 0,
    "start_time": "2022-12-11T19:17:24.559Z"
   },
   {
    "duration": 0,
    "start_time": "2022-12-11T19:17:24.561Z"
   },
   {
    "duration": 0,
    "start_time": "2022-12-11T19:17:24.562Z"
   },
   {
    "duration": 0,
    "start_time": "2022-12-11T19:17:24.563Z"
   },
   {
    "duration": 0,
    "start_time": "2022-12-11T19:17:24.564Z"
   },
   {
    "duration": 0,
    "start_time": "2022-12-11T19:17:24.621Z"
   },
   {
    "duration": 0,
    "start_time": "2022-12-11T19:17:24.622Z"
   },
   {
    "duration": 0,
    "start_time": "2022-12-11T19:17:24.623Z"
   },
   {
    "duration": 0,
    "start_time": "2022-12-11T19:17:24.624Z"
   },
   {
    "duration": 0,
    "start_time": "2022-12-11T19:17:24.625Z"
   },
   {
    "duration": 0,
    "start_time": "2022-12-11T19:17:24.626Z"
   },
   {
    "duration": 0,
    "start_time": "2022-12-11T19:17:24.627Z"
   },
   {
    "duration": 0,
    "start_time": "2022-12-11T19:17:24.629Z"
   },
   {
    "duration": 0,
    "start_time": "2022-12-11T19:17:24.630Z"
   },
   {
    "duration": 0,
    "start_time": "2022-12-11T19:17:24.631Z"
   },
   {
    "duration": 0,
    "start_time": "2022-12-11T19:17:24.632Z"
   },
   {
    "duration": 0,
    "start_time": "2022-12-11T19:17:24.633Z"
   },
   {
    "duration": 0,
    "start_time": "2022-12-11T19:17:24.634Z"
   },
   {
    "duration": 0,
    "start_time": "2022-12-11T19:17:24.635Z"
   },
   {
    "duration": 0,
    "start_time": "2022-12-11T19:17:24.636Z"
   },
   {
    "duration": 2,
    "start_time": "2022-12-11T19:18:15.853Z"
   },
   {
    "duration": 1415,
    "start_time": "2022-12-11T19:18:22.463Z"
   },
   {
    "duration": 786,
    "start_time": "2022-12-11T19:18:23.879Z"
   },
   {
    "duration": 11,
    "start_time": "2022-12-11T19:18:24.666Z"
   },
   {
    "duration": 8,
    "start_time": "2022-12-11T19:18:24.679Z"
   },
   {
    "duration": 8,
    "start_time": "2022-12-11T19:18:24.688Z"
   },
   {
    "duration": 26,
    "start_time": "2022-12-11T19:18:24.697Z"
   },
   {
    "duration": 126,
    "start_time": "2022-12-11T19:18:24.725Z"
   },
   {
    "duration": 132,
    "start_time": "2022-12-11T19:18:24.852Z"
   },
   {
    "duration": 25,
    "start_time": "2022-12-11T19:18:24.985Z"
   },
   {
    "duration": 469,
    "start_time": "2022-12-11T19:18:25.012Z"
   },
   {
    "duration": 214,
    "start_time": "2022-12-11T19:18:25.482Z"
   },
   {
    "duration": 93,
    "start_time": "2022-12-11T19:18:25.697Z"
   },
   {
    "duration": 158,
    "start_time": "2022-12-11T19:18:25.791Z"
   },
   {
    "duration": 415,
    "start_time": "2022-12-11T19:18:25.951Z"
   },
   {
    "duration": 789,
    "start_time": "2022-12-11T19:18:26.368Z"
   },
   {
    "duration": 44,
    "start_time": "2022-12-11T19:18:27.159Z"
   },
   {
    "duration": 16,
    "start_time": "2022-12-11T19:18:27.205Z"
   },
   {
    "duration": 36,
    "start_time": "2022-12-11T19:18:27.223Z"
   },
   {
    "duration": 84,
    "start_time": "2022-12-11T19:18:27.260Z"
   },
   {
    "duration": 95,
    "start_time": "2022-12-11T19:18:27.346Z"
   },
   {
    "duration": 25,
    "start_time": "2022-12-11T19:18:27.442Z"
   },
   {
    "duration": 172,
    "start_time": "2022-12-11T19:18:27.468Z"
   },
   {
    "duration": 7,
    "start_time": "2022-12-11T19:18:27.641Z"
   },
   {
    "duration": 164,
    "start_time": "2022-12-11T19:18:27.649Z"
   },
   {
    "duration": 31,
    "start_time": "2022-12-11T19:18:27.815Z"
   },
   {
    "duration": 5,
    "start_time": "2022-12-11T19:18:27.848Z"
   },
   {
    "duration": 8,
    "start_time": "2022-12-11T19:18:27.854Z"
   },
   {
    "duration": 6,
    "start_time": "2022-12-11T19:18:27.867Z"
   },
   {
    "duration": 104,
    "start_time": "2022-12-11T19:18:27.875Z"
   },
   {
    "duration": 9,
    "start_time": "2022-12-11T19:18:27.981Z"
   },
   {
    "duration": 369,
    "start_time": "2022-12-11T19:18:27.991Z"
   },
   {
    "duration": 72,
    "start_time": "2022-12-11T19:18:28.361Z"
   },
   {
    "duration": 3,
    "start_time": "2022-12-11T19:18:28.435Z"
   },
   {
    "duration": 11,
    "start_time": "2022-12-11T19:18:28.439Z"
   },
   {
    "duration": 16,
    "start_time": "2022-12-11T19:18:28.451Z"
   },
   {
    "duration": 10,
    "start_time": "2022-12-11T19:18:28.469Z"
   },
   {
    "duration": 71,
    "start_time": "2022-12-11T19:18:28.480Z"
   },
   {
    "duration": 54,
    "start_time": "2022-12-11T19:18:28.553Z"
   },
   {
    "duration": 13,
    "start_time": "2022-12-11T19:18:28.609Z"
   },
   {
    "duration": 10,
    "start_time": "2022-12-11T19:18:28.624Z"
   },
   {
    "duration": 14,
    "start_time": "2022-12-11T19:18:28.635Z"
   },
   {
    "duration": 7,
    "start_time": "2022-12-11T19:18:28.650Z"
   },
   {
    "duration": 558,
    "start_time": "2022-12-11T19:18:28.659Z"
   },
   {
    "duration": 540,
    "start_time": "2022-12-11T19:18:29.218Z"
   },
   {
    "duration": 145,
    "start_time": "2022-12-11T19:18:29.760Z"
   },
   {
    "duration": 1191,
    "start_time": "2022-12-11T19:18:29.906Z"
   },
   {
    "duration": 3,
    "start_time": "2022-12-11T19:18:31.099Z"
   },
   {
    "duration": 16,
    "start_time": "2022-12-11T19:18:31.104Z"
   },
   {
    "duration": 16,
    "start_time": "2022-12-11T19:18:31.122Z"
   },
   {
    "duration": 16,
    "start_time": "2022-12-11T19:18:31.139Z"
   },
   {
    "duration": 26,
    "start_time": "2022-12-11T19:18:31.156Z"
   },
   {
    "duration": 28,
    "start_time": "2022-12-11T19:18:31.184Z"
   },
   {
    "duration": 50,
    "start_time": "2022-12-11T19:18:31.213Z"
   },
   {
    "duration": 22,
    "start_time": "2022-12-11T19:18:31.265Z"
   },
   {
    "duration": 1482,
    "start_time": "2022-12-11T19:20:04.173Z"
   },
   {
    "duration": 1024,
    "start_time": "2022-12-11T19:20:05.656Z"
   },
   {
    "duration": 11,
    "start_time": "2022-12-11T19:20:06.682Z"
   },
   {
    "duration": 13,
    "start_time": "2022-12-11T19:20:06.694Z"
   },
   {
    "duration": 14,
    "start_time": "2022-12-11T19:20:06.709Z"
   },
   {
    "duration": 20,
    "start_time": "2022-12-11T19:20:06.725Z"
   },
   {
    "duration": 139,
    "start_time": "2022-12-11T19:20:06.746Z"
   },
   {
    "duration": 100,
    "start_time": "2022-12-11T19:20:06.887Z"
   },
   {
    "duration": 36,
    "start_time": "2022-12-11T19:20:06.989Z"
   },
   {
    "duration": 431,
    "start_time": "2022-12-11T19:20:07.027Z"
   },
   {
    "duration": 187,
    "start_time": "2022-12-11T19:20:07.460Z"
   },
   {
    "duration": 93,
    "start_time": "2022-12-11T19:20:07.649Z"
   },
   {
    "duration": 149,
    "start_time": "2022-12-11T19:20:07.744Z"
   },
   {
    "duration": 400,
    "start_time": "2022-12-11T19:20:07.894Z"
   },
   {
    "duration": 786,
    "start_time": "2022-12-11T19:20:08.296Z"
   },
   {
    "duration": 48,
    "start_time": "2022-12-11T19:20:09.084Z"
   },
   {
    "duration": 2,
    "start_time": "2022-12-11T19:20:09.134Z"
   },
   {
    "duration": 34,
    "start_time": "2022-12-11T19:20:09.138Z"
   },
   {
    "duration": 91,
    "start_time": "2022-12-11T19:20:09.173Z"
   },
   {
    "duration": 96,
    "start_time": "2022-12-11T19:20:09.266Z"
   },
   {
    "duration": 25,
    "start_time": "2022-12-11T19:20:09.364Z"
   },
   {
    "duration": 177,
    "start_time": "2022-12-11T19:20:09.390Z"
   },
   {
    "duration": 6,
    "start_time": "2022-12-11T19:20:09.569Z"
   },
   {
    "duration": 174,
    "start_time": "2022-12-11T19:20:09.577Z"
   },
   {
    "duration": 29,
    "start_time": "2022-12-11T19:20:09.752Z"
   },
   {
    "duration": 5,
    "start_time": "2022-12-11T19:20:09.783Z"
   },
   {
    "duration": 13,
    "start_time": "2022-12-11T19:20:09.789Z"
   },
   {
    "duration": 18,
    "start_time": "2022-12-11T19:20:09.806Z"
   },
   {
    "duration": 25,
    "start_time": "2022-12-11T19:20:09.897Z"
   },
   {
    "duration": 10,
    "start_time": "2022-12-11T19:20:09.924Z"
   },
   {
    "duration": 365,
    "start_time": "2022-12-11T19:20:09.935Z"
   },
   {
    "duration": 70,
    "start_time": "2022-12-11T19:20:10.302Z"
   },
   {
    "duration": 8,
    "start_time": "2022-12-11T19:20:10.373Z"
   },
   {
    "duration": 11,
    "start_time": "2022-12-11T19:20:10.382Z"
   },
   {
    "duration": 15,
    "start_time": "2022-12-11T19:20:10.394Z"
   },
   {
    "duration": 12,
    "start_time": "2022-12-11T19:20:10.411Z"
   },
   {
    "duration": 56,
    "start_time": "2022-12-11T19:20:10.424Z"
   },
   {
    "duration": 65,
    "start_time": "2022-12-11T19:20:10.482Z"
   },
   {
    "duration": 4,
    "start_time": "2022-12-11T19:20:10.548Z"
   },
   {
    "duration": 19,
    "start_time": "2022-12-11T19:20:10.553Z"
   },
   {
    "duration": 30,
    "start_time": "2022-12-11T19:20:10.574Z"
   },
   {
    "duration": 24,
    "start_time": "2022-12-11T19:20:10.605Z"
   },
   {
    "duration": 601,
    "start_time": "2022-12-11T19:20:10.630Z"
   },
   {
    "duration": 545,
    "start_time": "2022-12-11T19:20:11.233Z"
   },
   {
    "duration": 144,
    "start_time": "2022-12-11T19:20:11.780Z"
   },
   {
    "duration": 1173,
    "start_time": "2022-12-11T19:20:11.925Z"
   },
   {
    "duration": 4,
    "start_time": "2022-12-11T19:20:13.099Z"
   },
   {
    "duration": 7,
    "start_time": "2022-12-11T19:20:13.104Z"
   },
   {
    "duration": 3,
    "start_time": "2022-12-11T19:20:13.121Z"
   },
   {
    "duration": 10,
    "start_time": "2022-12-11T19:20:13.126Z"
   },
   {
    "duration": 9,
    "start_time": "2022-12-11T19:20:13.137Z"
   },
   {
    "duration": 7,
    "start_time": "2022-12-11T19:20:13.148Z"
   },
   {
    "duration": 8,
    "start_time": "2022-12-11T19:20:13.156Z"
   },
   {
    "duration": 8,
    "start_time": "2022-12-11T19:20:13.165Z"
   },
   {
    "duration": 1564,
    "start_time": "2022-12-11T19:25:54.334Z"
   },
   {
    "duration": 973,
    "start_time": "2022-12-11T19:25:55.900Z"
   },
   {
    "duration": 10,
    "start_time": "2022-12-11T19:25:56.874Z"
   },
   {
    "duration": 12,
    "start_time": "2022-12-11T19:25:56.886Z"
   },
   {
    "duration": 7,
    "start_time": "2022-12-11T19:25:56.899Z"
   },
   {
    "duration": 20,
    "start_time": "2022-12-11T19:25:56.907Z"
   },
   {
    "duration": 123,
    "start_time": "2022-12-11T19:25:56.928Z"
   },
   {
    "duration": 120,
    "start_time": "2022-12-11T19:25:57.053Z"
   },
   {
    "duration": 25,
    "start_time": "2022-12-11T19:25:57.174Z"
   },
   {
    "duration": 429,
    "start_time": "2022-12-11T19:25:57.201Z"
   },
   {
    "duration": 203,
    "start_time": "2022-12-11T19:25:57.632Z"
   },
   {
    "duration": 86,
    "start_time": "2022-12-11T19:25:57.837Z"
   },
   {
    "duration": 161,
    "start_time": "2022-12-11T19:25:57.924Z"
   },
   {
    "duration": 387,
    "start_time": "2022-12-11T19:25:58.087Z"
   },
   {
    "duration": 763,
    "start_time": "2022-12-11T19:25:58.476Z"
   },
   {
    "duration": 36,
    "start_time": "2022-12-11T19:25:59.241Z"
   },
   {
    "duration": 2,
    "start_time": "2022-12-11T19:25:59.279Z"
   },
   {
    "duration": 52,
    "start_time": "2022-12-11T19:25:59.283Z"
   },
   {
    "duration": 87,
    "start_time": "2022-12-11T19:25:59.337Z"
   },
   {
    "duration": 77,
    "start_time": "2022-12-11T19:25:59.426Z"
   },
   {
    "duration": 35,
    "start_time": "2022-12-11T19:25:59.505Z"
   },
   {
    "duration": 165,
    "start_time": "2022-12-11T19:25:59.542Z"
   },
   {
    "duration": 16,
    "start_time": "2022-12-11T19:25:59.709Z"
   },
   {
    "duration": 167,
    "start_time": "2022-12-11T19:25:59.726Z"
   },
   {
    "duration": 34,
    "start_time": "2022-12-11T19:25:59.894Z"
   },
   {
    "duration": 6,
    "start_time": "2022-12-11T19:25:59.929Z"
   },
   {
    "duration": 9,
    "start_time": "2022-12-11T19:25:59.936Z"
   },
   {
    "duration": 9,
    "start_time": "2022-12-11T19:25:59.949Z"
   },
   {
    "duration": 14,
    "start_time": "2022-12-11T19:26:00.046Z"
   },
   {
    "duration": 26,
    "start_time": "2022-12-11T19:26:00.061Z"
   },
   {
    "duration": 354,
    "start_time": "2022-12-11T19:26:00.088Z"
   },
   {
    "duration": 59,
    "start_time": "2022-12-11T19:26:00.444Z"
   },
   {
    "duration": 16,
    "start_time": "2022-12-11T19:26:00.505Z"
   },
   {
    "duration": 9,
    "start_time": "2022-12-11T19:26:00.523Z"
   },
   {
    "duration": 37,
    "start_time": "2022-12-11T19:26:00.533Z"
   },
   {
    "duration": 23,
    "start_time": "2022-12-11T19:26:00.572Z"
   },
   {
    "duration": 77,
    "start_time": "2022-12-11T19:26:00.597Z"
   },
   {
    "duration": 59,
    "start_time": "2022-12-11T19:26:00.675Z"
   },
   {
    "duration": 3,
    "start_time": "2022-12-11T19:26:00.736Z"
   },
   {
    "duration": 37,
    "start_time": "2022-12-11T19:26:00.740Z"
   },
   {
    "duration": 31,
    "start_time": "2022-12-11T19:26:00.778Z"
   },
   {
    "duration": 26,
    "start_time": "2022-12-11T19:26:00.810Z"
   },
   {
    "duration": 677,
    "start_time": "2022-12-11T19:26:00.838Z"
   },
   {
    "duration": 547,
    "start_time": "2022-12-11T19:26:01.517Z"
   },
   {
    "duration": 146,
    "start_time": "2022-12-11T19:26:02.066Z"
   },
   {
    "duration": 1167,
    "start_time": "2022-12-11T19:26:02.214Z"
   },
   {
    "duration": 4,
    "start_time": "2022-12-11T19:26:03.383Z"
   },
   {
    "duration": 17,
    "start_time": "2022-12-11T19:26:03.389Z"
   },
   {
    "duration": 34,
    "start_time": "2022-12-11T19:26:03.408Z"
   },
   {
    "duration": 9,
    "start_time": "2022-12-11T19:26:03.443Z"
   },
   {
    "duration": 10,
    "start_time": "2022-12-11T19:26:03.454Z"
   },
   {
    "duration": 9,
    "start_time": "2022-12-11T19:26:03.465Z"
   },
   {
    "duration": 13,
    "start_time": "2022-12-11T19:26:03.475Z"
   },
   {
    "duration": 12,
    "start_time": "2022-12-11T19:26:03.489Z"
   },
   {
    "duration": 1451,
    "start_time": "2022-12-11T19:29:26.102Z"
   },
   {
    "duration": 987,
    "start_time": "2022-12-11T19:29:27.555Z"
   },
   {
    "duration": 11,
    "start_time": "2022-12-11T19:29:28.544Z"
   },
   {
    "duration": 11,
    "start_time": "2022-12-11T19:29:28.557Z"
   },
   {
    "duration": 9,
    "start_time": "2022-12-11T19:29:28.569Z"
   },
   {
    "duration": 39,
    "start_time": "2022-12-11T19:29:28.580Z"
   },
   {
    "duration": 128,
    "start_time": "2022-12-11T19:29:28.621Z"
   },
   {
    "duration": 97,
    "start_time": "2022-12-11T19:29:28.751Z"
   },
   {
    "duration": 26,
    "start_time": "2022-12-11T19:29:28.850Z"
   },
   {
    "duration": 440,
    "start_time": "2022-12-11T19:29:28.878Z"
   },
   {
    "duration": 188,
    "start_time": "2022-12-11T19:29:29.321Z"
   },
   {
    "duration": 97,
    "start_time": "2022-12-11T19:29:29.511Z"
   },
   {
    "duration": 161,
    "start_time": "2022-12-11T19:29:29.610Z"
   },
   {
    "duration": 394,
    "start_time": "2022-12-11T19:29:29.772Z"
   },
   {
    "duration": 788,
    "start_time": "2022-12-11T19:29:30.168Z"
   },
   {
    "duration": 38,
    "start_time": "2022-12-11T19:29:30.958Z"
   },
   {
    "duration": 3,
    "start_time": "2022-12-11T19:29:30.997Z"
   },
   {
    "duration": 53,
    "start_time": "2022-12-11T19:29:31.002Z"
   },
   {
    "duration": 89,
    "start_time": "2022-12-11T19:29:31.057Z"
   },
   {
    "duration": 86,
    "start_time": "2022-12-11T19:29:31.148Z"
   },
   {
    "duration": 23,
    "start_time": "2022-12-11T19:29:31.236Z"
   },
   {
    "duration": 179,
    "start_time": "2022-12-11T19:29:31.261Z"
   },
   {
    "duration": 6,
    "start_time": "2022-12-11T19:29:31.442Z"
   },
   {
    "duration": 192,
    "start_time": "2022-12-11T19:29:31.449Z"
   },
   {
    "duration": 27,
    "start_time": "2022-12-11T19:29:31.642Z"
   },
   {
    "duration": 5,
    "start_time": "2022-12-11T19:29:31.671Z"
   },
   {
    "duration": 21,
    "start_time": "2022-12-11T19:29:31.677Z"
   },
   {
    "duration": 22,
    "start_time": "2022-12-11T19:29:31.702Z"
   },
   {
    "duration": 14,
    "start_time": "2022-12-11T19:29:31.786Z"
   },
   {
    "duration": 29,
    "start_time": "2022-12-11T19:29:31.802Z"
   },
   {
    "duration": 334,
    "start_time": "2022-12-11T19:29:31.832Z"
   },
   {
    "duration": 63,
    "start_time": "2022-12-11T19:29:32.168Z"
   },
   {
    "duration": 2,
    "start_time": "2022-12-11T19:29:32.233Z"
   },
   {
    "duration": 30,
    "start_time": "2022-12-11T19:29:32.236Z"
   },
   {
    "duration": 15,
    "start_time": "2022-12-11T19:29:32.268Z"
   },
   {
    "duration": 10,
    "start_time": "2022-12-11T19:29:32.284Z"
   },
   {
    "duration": 66,
    "start_time": "2022-12-11T19:29:32.296Z"
   },
   {
    "duration": 48,
    "start_time": "2022-12-11T19:29:32.364Z"
   },
   {
    "duration": 4,
    "start_time": "2022-12-11T19:29:32.420Z"
   },
   {
    "duration": 15,
    "start_time": "2022-12-11T19:29:32.426Z"
   },
   {
    "duration": 12,
    "start_time": "2022-12-11T19:29:32.443Z"
   },
   {
    "duration": 10,
    "start_time": "2022-12-11T19:29:32.456Z"
   },
   {
    "duration": 607,
    "start_time": "2022-12-11T19:29:32.468Z"
   },
   {
    "duration": 545,
    "start_time": "2022-12-11T19:29:33.077Z"
   },
   {
    "duration": 143,
    "start_time": "2022-12-11T19:29:33.624Z"
   },
   {
    "duration": 1171,
    "start_time": "2022-12-11T19:29:33.769Z"
   },
   {
    "duration": 3,
    "start_time": "2022-12-11T19:29:34.942Z"
   },
   {
    "duration": 7,
    "start_time": "2022-12-11T19:29:34.947Z"
   },
   {
    "duration": 6,
    "start_time": "2022-12-11T19:29:34.956Z"
   },
   {
    "duration": 4,
    "start_time": "2022-12-11T19:29:34.964Z"
   },
   {
    "duration": 4,
    "start_time": "2022-12-11T19:29:34.971Z"
   },
   {
    "duration": 4,
    "start_time": "2022-12-11T19:29:34.977Z"
   },
   {
    "duration": 14,
    "start_time": "2022-12-11T19:29:34.983Z"
   },
   {
    "duration": 1473,
    "start_time": "2022-12-11T19:38:58.970Z"
   },
   {
    "duration": 1064,
    "start_time": "2022-12-11T19:39:00.445Z"
   },
   {
    "duration": 11,
    "start_time": "2022-12-11T19:39:01.511Z"
   },
   {
    "duration": 19,
    "start_time": "2022-12-11T19:39:01.524Z"
   },
   {
    "duration": 47,
    "start_time": "2022-12-11T19:39:01.545Z"
   },
   {
    "duration": 47,
    "start_time": "2022-12-11T19:39:01.594Z"
   },
   {
    "duration": 179,
    "start_time": "2022-12-11T19:39:01.643Z"
   },
   {
    "duration": 102,
    "start_time": "2022-12-11T19:39:01.823Z"
   },
   {
    "duration": 26,
    "start_time": "2022-12-11T19:39:01.926Z"
   },
   {
    "duration": 443,
    "start_time": "2022-12-11T19:39:01.954Z"
   },
   {
    "duration": 232,
    "start_time": "2022-12-11T19:39:02.399Z"
   },
   {
    "duration": 111,
    "start_time": "2022-12-11T19:39:02.633Z"
   },
   {
    "duration": 209,
    "start_time": "2022-12-11T19:39:02.746Z"
   },
   {
    "duration": 404,
    "start_time": "2022-12-11T19:39:02.957Z"
   },
   {
    "duration": 799,
    "start_time": "2022-12-11T19:39:03.363Z"
   },
   {
    "duration": 40,
    "start_time": "2022-12-11T19:39:04.163Z"
   },
   {
    "duration": 3,
    "start_time": "2022-12-11T19:39:04.205Z"
   },
   {
    "duration": 39,
    "start_time": "2022-12-11T19:39:04.221Z"
   },
   {
    "duration": 93,
    "start_time": "2022-12-11T19:39:04.262Z"
   },
   {
    "duration": 91,
    "start_time": "2022-12-11T19:39:04.357Z"
   },
   {
    "duration": 25,
    "start_time": "2022-12-11T19:39:04.449Z"
   },
   {
    "duration": 209,
    "start_time": "2022-12-11T19:39:04.476Z"
   },
   {
    "duration": 6,
    "start_time": "2022-12-11T19:39:04.687Z"
   },
   {
    "duration": 181,
    "start_time": "2022-12-11T19:39:04.696Z"
   },
   {
    "duration": 44,
    "start_time": "2022-12-11T19:39:04.879Z"
   },
   {
    "duration": 5,
    "start_time": "2022-12-11T19:39:04.924Z"
   },
   {
    "duration": 14,
    "start_time": "2022-12-11T19:39:04.931Z"
   },
   {
    "duration": 12,
    "start_time": "2022-12-11T19:39:04.949Z"
   },
   {
    "duration": 93,
    "start_time": "2022-12-11T19:39:04.962Z"
   },
   {
    "duration": 10,
    "start_time": "2022-12-11T19:39:05.057Z"
   },
   {
    "duration": 385,
    "start_time": "2022-12-11T19:39:05.069Z"
   },
   {
    "duration": 89,
    "start_time": "2022-12-11T19:39:05.456Z"
   },
   {
    "duration": 16,
    "start_time": "2022-12-11T19:39:05.547Z"
   },
   {
    "duration": 6,
    "start_time": "2022-12-11T19:39:05.565Z"
   },
   {
    "duration": 29,
    "start_time": "2022-12-11T19:39:05.572Z"
   },
   {
    "duration": 10,
    "start_time": "2022-12-11T19:39:05.603Z"
   },
   {
    "duration": 75,
    "start_time": "2022-12-11T19:39:05.623Z"
   },
   {
    "duration": 51,
    "start_time": "2022-12-11T19:39:05.699Z"
   },
   {
    "duration": 5,
    "start_time": "2022-12-11T19:39:05.751Z"
   },
   {
    "duration": 5,
    "start_time": "2022-12-11T19:39:05.758Z"
   },
   {
    "duration": 14,
    "start_time": "2022-12-11T19:39:05.765Z"
   },
   {
    "duration": 9,
    "start_time": "2022-12-11T19:39:05.782Z"
   },
   {
    "duration": 588,
    "start_time": "2022-12-11T19:39:05.793Z"
   },
   {
    "duration": 538,
    "start_time": "2022-12-11T19:39:06.383Z"
   },
   {
    "duration": 139,
    "start_time": "2022-12-11T19:39:06.923Z"
   },
   {
    "duration": 1132,
    "start_time": "2022-12-11T19:39:07.064Z"
   },
   {
    "duration": 4,
    "start_time": "2022-12-11T19:39:08.197Z"
   },
   {
    "duration": 5,
    "start_time": "2022-12-11T19:39:08.202Z"
   },
   {
    "duration": 13,
    "start_time": "2022-12-11T19:39:08.209Z"
   },
   {
    "duration": 45,
    "start_time": "2022-12-11T19:59:23.208Z"
   },
   {
    "duration": 1490,
    "start_time": "2022-12-11T20:01:24.277Z"
   },
   {
    "duration": 1004,
    "start_time": "2022-12-11T20:01:25.769Z"
   },
   {
    "duration": 11,
    "start_time": "2022-12-11T20:01:26.775Z"
   },
   {
    "duration": 8,
    "start_time": "2022-12-11T20:01:26.787Z"
   },
   {
    "duration": 7,
    "start_time": "2022-12-11T20:01:26.796Z"
   },
   {
    "duration": 20,
    "start_time": "2022-12-11T20:01:26.804Z"
   },
   {
    "duration": 149,
    "start_time": "2022-12-11T20:01:26.825Z"
   },
   {
    "duration": 96,
    "start_time": "2022-12-11T20:01:26.975Z"
   },
   {
    "duration": 25,
    "start_time": "2022-12-11T20:01:27.073Z"
   },
   {
    "duration": 456,
    "start_time": "2022-12-11T20:01:27.100Z"
   },
   {
    "duration": 190,
    "start_time": "2022-12-11T20:01:27.559Z"
   },
   {
    "duration": 93,
    "start_time": "2022-12-11T20:01:27.751Z"
   },
   {
    "duration": 195,
    "start_time": "2022-12-11T20:01:27.846Z"
   },
   {
    "duration": 432,
    "start_time": "2022-12-11T20:01:28.043Z"
   },
   {
    "duration": 744,
    "start_time": "2022-12-11T20:01:28.477Z"
   },
   {
    "duration": 37,
    "start_time": "2022-12-11T20:01:29.222Z"
   },
   {
    "duration": 3,
    "start_time": "2022-12-11T20:01:29.260Z"
   },
   {
    "duration": 38,
    "start_time": "2022-12-11T20:01:29.265Z"
   },
   {
    "duration": 80,
    "start_time": "2022-12-11T20:01:29.320Z"
   },
   {
    "duration": 102,
    "start_time": "2022-12-11T20:01:29.402Z"
   },
   {
    "duration": 29,
    "start_time": "2022-12-11T20:01:29.506Z"
   },
   {
    "duration": 180,
    "start_time": "2022-12-11T20:01:29.537Z"
   },
   {
    "duration": 7,
    "start_time": "2022-12-11T20:01:29.718Z"
   },
   {
    "duration": 168,
    "start_time": "2022-12-11T20:01:29.726Z"
   },
   {
    "duration": 34,
    "start_time": "2022-12-11T20:01:29.896Z"
   },
   {
    "duration": 5,
    "start_time": "2022-12-11T20:01:29.931Z"
   },
   {
    "duration": 12,
    "start_time": "2022-12-11T20:01:29.937Z"
   },
   {
    "duration": 8,
    "start_time": "2022-12-11T20:01:29.952Z"
   },
   {
    "duration": 14,
    "start_time": "2022-12-11T20:01:30.040Z"
   },
   {
    "duration": 22,
    "start_time": "2022-12-11T20:01:30.056Z"
   },
   {
    "duration": 353,
    "start_time": "2022-12-11T20:01:30.080Z"
   },
   {
    "duration": 64,
    "start_time": "2022-12-11T20:01:30.435Z"
   },
   {
    "duration": 10,
    "start_time": "2022-12-11T20:01:30.501Z"
   },
   {
    "duration": 23,
    "start_time": "2022-12-11T20:01:30.512Z"
   },
   {
    "duration": 64,
    "start_time": "2022-12-11T20:01:30.537Z"
   },
   {
    "duration": 11,
    "start_time": "2022-12-11T20:01:30.603Z"
   },
   {
    "duration": 64,
    "start_time": "2022-12-11T20:01:30.616Z"
   },
   {
    "duration": 52,
    "start_time": "2022-12-11T20:01:30.681Z"
   },
   {
    "duration": 3,
    "start_time": "2022-12-11T20:01:30.735Z"
   },
   {
    "duration": 13,
    "start_time": "2022-12-11T20:01:30.740Z"
   },
   {
    "duration": 24,
    "start_time": "2022-12-11T20:01:30.755Z"
   },
   {
    "duration": 19,
    "start_time": "2022-12-11T20:01:30.780Z"
   },
   {
    "duration": 612,
    "start_time": "2022-12-11T20:01:30.801Z"
   },
   {
    "duration": 537,
    "start_time": "2022-12-11T20:01:31.415Z"
   },
   {
    "duration": 131,
    "start_time": "2022-12-11T20:01:31.954Z"
   },
   {
    "duration": 1146,
    "start_time": "2022-12-11T20:01:32.087Z"
   },
   {
    "duration": 4,
    "start_time": "2022-12-11T20:01:33.234Z"
   },
   {
    "duration": 7,
    "start_time": "2022-12-11T20:01:33.239Z"
   },
   {
    "duration": 8,
    "start_time": "2022-12-11T20:01:33.247Z"
   },
   {
    "duration": 1624,
    "start_time": "2022-12-11T20:22:55.547Z"
   },
   {
    "duration": 1274,
    "start_time": "2022-12-11T20:22:57.172Z"
   },
   {
    "duration": 17,
    "start_time": "2022-12-11T20:22:58.448Z"
   },
   {
    "duration": 9,
    "start_time": "2022-12-11T20:22:58.467Z"
   },
   {
    "duration": 13,
    "start_time": "2022-12-11T20:22:58.478Z"
   },
   {
    "duration": 37,
    "start_time": "2022-12-11T20:22:58.493Z"
   },
   {
    "duration": 176,
    "start_time": "2022-12-11T20:22:58.539Z"
   },
   {
    "duration": 140,
    "start_time": "2022-12-11T20:22:58.725Z"
   },
   {
    "duration": 32,
    "start_time": "2022-12-11T20:22:58.869Z"
   },
   {
    "duration": 553,
    "start_time": "2022-12-11T20:22:58.903Z"
   },
   {
    "duration": 239,
    "start_time": "2022-12-11T20:22:59.460Z"
   },
   {
    "duration": 103,
    "start_time": "2022-12-11T20:22:59.700Z"
   },
   {
    "duration": 198,
    "start_time": "2022-12-11T20:22:59.805Z"
   },
   {
    "duration": 497,
    "start_time": "2022-12-11T20:23:00.007Z"
   },
   {
    "duration": 967,
    "start_time": "2022-12-11T20:23:00.505Z"
   },
   {
    "duration": 62,
    "start_time": "2022-12-11T20:23:01.474Z"
   },
   {
    "duration": 6,
    "start_time": "2022-12-11T20:23:01.540Z"
   },
   {
    "duration": 63,
    "start_time": "2022-12-11T20:23:01.548Z"
   },
   {
    "duration": 113,
    "start_time": "2022-12-11T20:23:01.613Z"
   },
   {
    "duration": 94,
    "start_time": "2022-12-11T20:23:01.731Z"
   },
   {
    "duration": 33,
    "start_time": "2022-12-11T20:23:01.826Z"
   },
   {
    "duration": 197,
    "start_time": "2022-12-11T20:23:01.861Z"
   },
   {
    "duration": 8,
    "start_time": "2022-12-11T20:23:02.060Z"
   },
   {
    "duration": 198,
    "start_time": "2022-12-11T20:23:02.069Z"
   },
   {
    "duration": 38,
    "start_time": "2022-12-11T20:23:02.271Z"
   },
   {
    "duration": 13,
    "start_time": "2022-12-11T20:23:02.311Z"
   },
   {
    "duration": 35,
    "start_time": "2022-12-11T20:23:02.328Z"
   },
   {
    "duration": 32,
    "start_time": "2022-12-11T20:23:02.368Z"
   },
   {
    "duration": 29,
    "start_time": "2022-12-11T20:23:02.402Z"
   },
   {
    "duration": 15,
    "start_time": "2022-12-11T20:23:02.434Z"
   },
   {
    "duration": 542,
    "start_time": "2022-12-11T20:23:02.453Z"
   },
   {
    "duration": 87,
    "start_time": "2022-12-11T20:23:02.998Z"
   },
   {
    "duration": 5,
    "start_time": "2022-12-11T20:23:03.088Z"
   },
   {
    "duration": 56,
    "start_time": "2022-12-11T20:23:03.095Z"
   },
   {
    "duration": 19,
    "start_time": "2022-12-11T20:23:03.153Z"
   },
   {
    "duration": 11,
    "start_time": "2022-12-11T20:23:03.174Z"
   },
   {
    "duration": 77,
    "start_time": "2022-12-11T20:23:03.187Z"
   },
   {
    "duration": 82,
    "start_time": "2022-12-11T20:23:03.267Z"
   },
   {
    "duration": 4,
    "start_time": "2022-12-11T20:23:03.351Z"
   },
   {
    "duration": 10,
    "start_time": "2022-12-11T20:23:03.357Z"
   },
   {
    "duration": 10,
    "start_time": "2022-12-11T20:23:03.372Z"
   },
   {
    "duration": 11,
    "start_time": "2022-12-11T20:23:03.384Z"
   },
   {
    "duration": 707,
    "start_time": "2022-12-11T20:23:03.396Z"
   },
   {
    "duration": 601,
    "start_time": "2022-12-11T20:23:04.105Z"
   },
   {
    "duration": 177,
    "start_time": "2022-12-11T20:23:04.707Z"
   },
   {
    "duration": 1300,
    "start_time": "2022-12-11T20:23:04.885Z"
   },
   {
    "duration": 4,
    "start_time": "2022-12-11T20:23:06.186Z"
   },
   {
    "duration": 9,
    "start_time": "2022-12-11T20:23:06.192Z"
   },
   {
    "duration": 5,
    "start_time": "2022-12-11T20:23:06.203Z"
   },
   {
    "duration": 1620,
    "start_time": "2022-12-11T20:37:20.959Z"
   },
   {
    "duration": 1180,
    "start_time": "2022-12-11T20:37:22.582Z"
   },
   {
    "duration": 10,
    "start_time": "2022-12-11T20:37:23.764Z"
   },
   {
    "duration": 8,
    "start_time": "2022-12-11T20:37:23.777Z"
   },
   {
    "duration": 7,
    "start_time": "2022-12-11T20:37:23.787Z"
   },
   {
    "duration": 25,
    "start_time": "2022-12-11T20:37:23.795Z"
   },
   {
    "duration": 154,
    "start_time": "2022-12-11T20:37:23.822Z"
   },
   {
    "duration": 99,
    "start_time": "2022-12-11T20:37:23.977Z"
   },
   {
    "duration": 25,
    "start_time": "2022-12-11T20:37:24.077Z"
   },
   {
    "duration": 484,
    "start_time": "2022-12-11T20:37:24.105Z"
   },
   {
    "duration": 215,
    "start_time": "2022-12-11T20:37:24.591Z"
   },
   {
    "duration": 100,
    "start_time": "2022-12-11T20:37:24.807Z"
   },
   {
    "duration": 175,
    "start_time": "2022-12-11T20:37:24.909Z"
   },
   {
    "duration": 494,
    "start_time": "2022-12-11T20:37:25.086Z"
   },
   {
    "duration": 882,
    "start_time": "2022-12-11T20:37:25.582Z"
   },
   {
    "duration": 60,
    "start_time": "2022-12-11T20:37:26.466Z"
   },
   {
    "duration": 3,
    "start_time": "2022-12-11T20:37:26.530Z"
   },
   {
    "duration": 77,
    "start_time": "2022-12-11T20:37:26.537Z"
   },
   {
    "duration": 98,
    "start_time": "2022-12-11T20:37:26.616Z"
   },
   {
    "duration": 90,
    "start_time": "2022-12-11T20:37:26.716Z"
   },
   {
    "duration": 40,
    "start_time": "2022-12-11T20:37:26.808Z"
   },
   {
    "duration": 191,
    "start_time": "2022-12-11T20:37:26.850Z"
   },
   {
    "duration": 7,
    "start_time": "2022-12-11T20:37:27.042Z"
   },
   {
    "duration": 165,
    "start_time": "2022-12-11T20:37:27.051Z"
   },
   {
    "duration": 34,
    "start_time": "2022-12-11T20:37:27.217Z"
   },
   {
    "duration": 5,
    "start_time": "2022-12-11T20:37:27.253Z"
   },
   {
    "duration": 8,
    "start_time": "2022-12-11T20:37:27.259Z"
   },
   {
    "duration": 7,
    "start_time": "2022-12-11T20:37:27.271Z"
   },
   {
    "duration": 17,
    "start_time": "2022-12-11T20:37:27.387Z"
   },
   {
    "duration": 31,
    "start_time": "2022-12-11T20:37:27.406Z"
   },
   {
    "duration": 358,
    "start_time": "2022-12-11T20:37:27.439Z"
   },
   {
    "duration": 75,
    "start_time": "2022-12-11T20:37:27.799Z"
   },
   {
    "duration": 3,
    "start_time": "2022-12-11T20:37:27.875Z"
   },
   {
    "duration": 8,
    "start_time": "2022-12-11T20:37:27.880Z"
   },
   {
    "duration": 21,
    "start_time": "2022-12-11T20:37:27.889Z"
   },
   {
    "duration": 12,
    "start_time": "2022-12-11T20:37:27.922Z"
   },
   {
    "duration": 97,
    "start_time": "2022-12-11T20:37:27.935Z"
   },
   {
    "duration": 57,
    "start_time": "2022-12-11T20:37:28.034Z"
   },
   {
    "duration": 3,
    "start_time": "2022-12-11T20:37:28.093Z"
   },
   {
    "duration": 7,
    "start_time": "2022-12-11T20:37:28.097Z"
   },
   {
    "duration": 12,
    "start_time": "2022-12-11T20:37:28.105Z"
   },
   {
    "duration": 26,
    "start_time": "2022-12-11T20:37:28.119Z"
   },
   {
    "duration": 640,
    "start_time": "2022-12-11T20:37:28.147Z"
   },
   {
    "duration": 560,
    "start_time": "2022-12-11T20:37:28.788Z"
   },
   {
    "duration": 152,
    "start_time": "2022-12-11T20:37:29.350Z"
   },
   {
    "duration": 1308,
    "start_time": "2022-12-11T20:37:29.504Z"
   },
   {
    "duration": 4,
    "start_time": "2022-12-11T20:37:30.813Z"
   },
   {
    "duration": 19,
    "start_time": "2022-12-11T20:37:30.828Z"
   },
   {
    "duration": 28,
    "start_time": "2022-12-11T20:37:30.849Z"
   },
   {
    "duration": 29,
    "start_time": "2022-12-11T20:37:30.880Z"
   },
   {
    "duration": 40,
    "start_time": "2022-12-11T20:37:30.911Z"
   },
   {
    "duration": 293,
    "start_time": "2022-12-11T20:37:30.952Z"
   },
   {
    "duration": 0,
    "start_time": "2022-12-11T20:37:31.247Z"
   },
   {
    "duration": 0,
    "start_time": "2022-12-11T20:37:31.249Z"
   },
   {
    "duration": 0,
    "start_time": "2022-12-11T20:37:31.251Z"
   },
   {
    "duration": 0,
    "start_time": "2022-12-11T20:37:31.252Z"
   },
   {
    "duration": 0,
    "start_time": "2022-12-11T20:37:31.254Z"
   },
   {
    "duration": 0,
    "start_time": "2022-12-11T20:37:31.255Z"
   },
   {
    "duration": 0,
    "start_time": "2022-12-11T20:37:31.256Z"
   },
   {
    "duration": 0,
    "start_time": "2022-12-11T20:37:31.257Z"
   },
   {
    "duration": 0,
    "start_time": "2022-12-11T20:37:31.259Z"
   },
   {
    "duration": 0,
    "start_time": "2022-12-11T20:37:31.260Z"
   },
   {
    "duration": 0,
    "start_time": "2022-12-11T20:37:31.261Z"
   },
   {
    "duration": 0,
    "start_time": "2022-12-11T20:37:31.263Z"
   },
   {
    "duration": 0,
    "start_time": "2022-12-11T20:37:31.264Z"
   },
   {
    "duration": 0,
    "start_time": "2022-12-11T20:37:31.265Z"
   },
   {
    "duration": 0,
    "start_time": "2022-12-11T20:37:31.266Z"
   },
   {
    "duration": 0,
    "start_time": "2022-12-11T20:37:31.267Z"
   },
   {
    "duration": 0,
    "start_time": "2022-12-11T20:37:31.268Z"
   },
   {
    "duration": 0,
    "start_time": "2022-12-11T20:37:31.269Z"
   },
   {
    "duration": 0,
    "start_time": "2022-12-11T20:37:31.270Z"
   },
   {
    "duration": 0,
    "start_time": "2022-12-11T20:37:31.272Z"
   },
   {
    "duration": 0,
    "start_time": "2022-12-11T20:37:31.273Z"
   },
   {
    "duration": 0,
    "start_time": "2022-12-11T20:37:31.274Z"
   },
   {
    "duration": 0,
    "start_time": "2022-12-11T20:37:31.275Z"
   },
   {
    "duration": 1,
    "start_time": "2022-12-11T20:37:31.324Z"
   },
   {
    "duration": 0,
    "start_time": "2022-12-11T20:37:31.325Z"
   },
   {
    "duration": 0,
    "start_time": "2022-12-11T20:37:31.326Z"
   },
   {
    "duration": 0,
    "start_time": "2022-12-11T20:37:31.327Z"
   },
   {
    "duration": 0,
    "start_time": "2022-12-11T20:37:31.327Z"
   },
   {
    "duration": 0,
    "start_time": "2022-12-11T20:37:31.328Z"
   },
   {
    "duration": 0,
    "start_time": "2022-12-11T20:37:31.328Z"
   },
   {
    "duration": 0,
    "start_time": "2022-12-11T20:37:31.329Z"
   },
   {
    "duration": 0,
    "start_time": "2022-12-11T20:37:31.330Z"
   },
   {
    "duration": 0,
    "start_time": "2022-12-11T20:37:31.330Z"
   },
   {
    "duration": 0,
    "start_time": "2022-12-11T20:37:31.331Z"
   },
   {
    "duration": 0,
    "start_time": "2022-12-11T20:37:31.332Z"
   },
   {
    "duration": 0,
    "start_time": "2022-12-11T20:37:31.334Z"
   },
   {
    "duration": 0,
    "start_time": "2022-12-11T20:37:31.338Z"
   },
   {
    "duration": 0,
    "start_time": "2022-12-11T20:37:31.339Z"
   },
   {
    "duration": 0,
    "start_time": "2022-12-11T20:37:31.339Z"
   },
   {
    "duration": 0,
    "start_time": "2022-12-11T20:37:31.341Z"
   },
   {
    "duration": 0,
    "start_time": "2022-12-11T20:37:31.342Z"
   },
   {
    "duration": 0,
    "start_time": "2022-12-11T20:37:31.343Z"
   },
   {
    "duration": 0,
    "start_time": "2022-12-11T20:37:31.344Z"
   },
   {
    "duration": 0,
    "start_time": "2022-12-11T20:37:31.345Z"
   },
   {
    "duration": 0,
    "start_time": "2022-12-11T20:37:31.346Z"
   },
   {
    "duration": 0,
    "start_time": "2022-12-11T20:37:31.347Z"
   },
   {
    "duration": 0,
    "start_time": "2022-12-11T20:37:31.348Z"
   },
   {
    "duration": 0,
    "start_time": "2022-12-11T20:37:31.349Z"
   },
   {
    "duration": 1513,
    "start_time": "2022-12-11T20:38:11.973Z"
   },
   {
    "duration": 840,
    "start_time": "2022-12-11T20:38:13.489Z"
   },
   {
    "duration": 13,
    "start_time": "2022-12-11T20:38:14.331Z"
   },
   {
    "duration": 34,
    "start_time": "2022-12-11T20:38:14.346Z"
   },
   {
    "duration": 24,
    "start_time": "2022-12-11T20:38:14.382Z"
   },
   {
    "duration": 45,
    "start_time": "2022-12-11T20:38:14.407Z"
   },
   {
    "duration": 147,
    "start_time": "2022-12-11T20:38:14.454Z"
   },
   {
    "duration": 136,
    "start_time": "2022-12-11T20:38:14.603Z"
   },
   {
    "duration": 25,
    "start_time": "2022-12-11T20:38:14.740Z"
   },
   {
    "duration": 483,
    "start_time": "2022-12-11T20:38:14.767Z"
   },
   {
    "duration": 244,
    "start_time": "2022-12-11T20:38:15.252Z"
   },
   {
    "duration": 118,
    "start_time": "2022-12-11T20:38:15.498Z"
   },
   {
    "duration": 213,
    "start_time": "2022-12-11T20:38:15.626Z"
   },
   {
    "duration": 448,
    "start_time": "2022-12-11T20:38:15.841Z"
   },
   {
    "duration": 875,
    "start_time": "2022-12-11T20:38:16.291Z"
   },
   {
    "duration": 54,
    "start_time": "2022-12-11T20:38:17.168Z"
   },
   {
    "duration": 2,
    "start_time": "2022-12-11T20:38:17.224Z"
   },
   {
    "duration": 53,
    "start_time": "2022-12-11T20:38:17.238Z"
   },
   {
    "duration": 105,
    "start_time": "2022-12-11T20:38:17.293Z"
   },
   {
    "duration": 95,
    "start_time": "2022-12-11T20:38:17.400Z"
   },
   {
    "duration": 41,
    "start_time": "2022-12-11T20:38:17.497Z"
   },
   {
    "duration": 199,
    "start_time": "2022-12-11T20:38:17.539Z"
   },
   {
    "duration": 7,
    "start_time": "2022-12-11T20:38:17.740Z"
   },
   {
    "duration": 180,
    "start_time": "2022-12-11T20:38:17.749Z"
   },
   {
    "duration": 31,
    "start_time": "2022-12-11T20:38:17.934Z"
   },
   {
    "duration": 28,
    "start_time": "2022-12-11T20:38:17.966Z"
   },
   {
    "duration": 20,
    "start_time": "2022-12-11T20:38:17.996Z"
   },
   {
    "duration": 30,
    "start_time": "2022-12-11T20:38:18.022Z"
   },
   {
    "duration": 94,
    "start_time": "2022-12-11T20:38:18.053Z"
   },
   {
    "duration": 10,
    "start_time": "2022-12-11T20:38:18.149Z"
   },
   {
    "duration": 377,
    "start_time": "2022-12-11T20:38:18.161Z"
   },
   {
    "duration": 82,
    "start_time": "2022-12-11T20:38:18.540Z"
   },
   {
    "duration": 15,
    "start_time": "2022-12-11T20:38:18.629Z"
   },
   {
    "duration": 10,
    "start_time": "2022-12-11T20:38:18.645Z"
   },
   {
    "duration": 35,
    "start_time": "2022-12-11T20:38:18.657Z"
   },
   {
    "duration": 66,
    "start_time": "2022-12-11T20:38:18.694Z"
   },
   {
    "duration": 83,
    "start_time": "2022-12-11T20:38:18.762Z"
   },
   {
    "duration": 52,
    "start_time": "2022-12-11T20:38:18.847Z"
   },
   {
    "duration": 3,
    "start_time": "2022-12-11T20:38:18.901Z"
   },
   {
    "duration": 32,
    "start_time": "2022-12-11T20:38:18.906Z"
   },
   {
    "duration": 38,
    "start_time": "2022-12-11T20:38:18.940Z"
   },
   {
    "duration": 31,
    "start_time": "2022-12-11T20:38:18.979Z"
   },
   {
    "duration": 667,
    "start_time": "2022-12-11T20:38:19.012Z"
   },
   {
    "duration": 577,
    "start_time": "2022-12-11T20:38:19.680Z"
   },
   {
    "duration": 159,
    "start_time": "2022-12-11T20:38:20.259Z"
   },
   {
    "duration": 1246,
    "start_time": "2022-12-11T20:38:20.419Z"
   },
   {
    "duration": 4,
    "start_time": "2022-12-11T20:38:21.667Z"
   },
   {
    "duration": 6,
    "start_time": "2022-12-11T20:38:21.672Z"
   },
   {
    "duration": 6,
    "start_time": "2022-12-11T20:38:21.680Z"
   },
   {
    "duration": 7,
    "start_time": "2022-12-11T20:38:21.687Z"
   },
   {
    "duration": 6,
    "start_time": "2022-12-11T20:38:21.695Z"
   },
   {
    "duration": 65,
    "start_time": "2022-12-11T20:38:21.702Z"
   },
   {
    "duration": 0,
    "start_time": "2022-12-11T20:38:21.769Z"
   },
   {
    "duration": 0,
    "start_time": "2022-12-11T20:38:21.770Z"
   },
   {
    "duration": 0,
    "start_time": "2022-12-11T20:38:21.771Z"
   },
   {
    "duration": 0,
    "start_time": "2022-12-11T20:38:21.772Z"
   },
   {
    "duration": 0,
    "start_time": "2022-12-11T20:38:21.773Z"
   },
   {
    "duration": 0,
    "start_time": "2022-12-11T20:38:21.774Z"
   },
   {
    "duration": 0,
    "start_time": "2022-12-11T20:38:21.776Z"
   },
   {
    "duration": 0,
    "start_time": "2022-12-11T20:38:21.777Z"
   },
   {
    "duration": 0,
    "start_time": "2022-12-11T20:38:21.778Z"
   },
   {
    "duration": 0,
    "start_time": "2022-12-11T20:38:21.779Z"
   },
   {
    "duration": 0,
    "start_time": "2022-12-11T20:38:21.780Z"
   },
   {
    "duration": 0,
    "start_time": "2022-12-11T20:38:21.781Z"
   },
   {
    "duration": 0,
    "start_time": "2022-12-11T20:38:21.782Z"
   },
   {
    "duration": 0,
    "start_time": "2022-12-11T20:38:21.784Z"
   },
   {
    "duration": 0,
    "start_time": "2022-12-11T20:38:21.785Z"
   },
   {
    "duration": 0,
    "start_time": "2022-12-11T20:38:21.786Z"
   },
   {
    "duration": 0,
    "start_time": "2022-12-11T20:38:21.788Z"
   },
   {
    "duration": 0,
    "start_time": "2022-12-11T20:38:21.789Z"
   },
   {
    "duration": 0,
    "start_time": "2022-12-11T20:38:21.791Z"
   },
   {
    "duration": 0,
    "start_time": "2022-12-11T20:38:21.792Z"
   },
   {
    "duration": 0,
    "start_time": "2022-12-11T20:38:21.794Z"
   },
   {
    "duration": 0,
    "start_time": "2022-12-11T20:38:21.795Z"
   },
   {
    "duration": 0,
    "start_time": "2022-12-11T20:38:21.797Z"
   },
   {
    "duration": 0,
    "start_time": "2022-12-11T20:38:21.798Z"
   },
   {
    "duration": 0,
    "start_time": "2022-12-11T20:38:21.800Z"
   },
   {
    "duration": 0,
    "start_time": "2022-12-11T20:38:21.801Z"
   },
   {
    "duration": 0,
    "start_time": "2022-12-11T20:38:21.803Z"
   },
   {
    "duration": 0,
    "start_time": "2022-12-11T20:38:21.822Z"
   },
   {
    "duration": 0,
    "start_time": "2022-12-11T20:38:21.822Z"
   },
   {
    "duration": 0,
    "start_time": "2022-12-11T20:38:21.823Z"
   },
   {
    "duration": 0,
    "start_time": "2022-12-11T20:38:21.823Z"
   },
   {
    "duration": 0,
    "start_time": "2022-12-11T20:38:21.824Z"
   },
   {
    "duration": 0,
    "start_time": "2022-12-11T20:38:21.825Z"
   },
   {
    "duration": 0,
    "start_time": "2022-12-11T20:38:21.825Z"
   },
   {
    "duration": 0,
    "start_time": "2022-12-11T20:38:21.826Z"
   },
   {
    "duration": 0,
    "start_time": "2022-12-11T20:38:21.826Z"
   },
   {
    "duration": 0,
    "start_time": "2022-12-11T20:38:21.827Z"
   },
   {
    "duration": 0,
    "start_time": "2022-12-11T20:38:21.827Z"
   },
   {
    "duration": 0,
    "start_time": "2022-12-11T20:38:21.828Z"
   },
   {
    "duration": 0,
    "start_time": "2022-12-11T20:38:21.829Z"
   },
   {
    "duration": 0,
    "start_time": "2022-12-11T20:38:21.829Z"
   },
   {
    "duration": 0,
    "start_time": "2022-12-11T20:38:21.830Z"
   },
   {
    "duration": 0,
    "start_time": "2022-12-11T20:38:21.830Z"
   },
   {
    "duration": 0,
    "start_time": "2022-12-11T20:38:21.831Z"
   },
   {
    "duration": 0,
    "start_time": "2022-12-11T20:38:21.832Z"
   },
   {
    "duration": 0,
    "start_time": "2022-12-11T20:38:21.832Z"
   },
   {
    "duration": 0,
    "start_time": "2022-12-11T20:38:21.833Z"
   },
   {
    "duration": 0,
    "start_time": "2022-12-11T20:38:21.833Z"
   },
   {
    "duration": 1572,
    "start_time": "2022-12-11T20:39:35.911Z"
   },
   {
    "duration": 852,
    "start_time": "2022-12-11T20:39:37.484Z"
   },
   {
    "duration": 11,
    "start_time": "2022-12-11T20:39:38.337Z"
   },
   {
    "duration": 9,
    "start_time": "2022-12-11T20:39:38.350Z"
   },
   {
    "duration": 6,
    "start_time": "2022-12-11T20:39:38.361Z"
   },
   {
    "duration": 17,
    "start_time": "2022-12-11T20:39:38.369Z"
   },
   {
    "duration": 151,
    "start_time": "2022-12-11T20:39:38.387Z"
   },
   {
    "duration": 105,
    "start_time": "2022-12-11T20:39:38.540Z"
   },
   {
    "duration": 27,
    "start_time": "2022-12-11T20:39:38.647Z"
   },
   {
    "duration": 472,
    "start_time": "2022-12-11T20:39:38.677Z"
   },
   {
    "duration": 208,
    "start_time": "2022-12-11T20:39:39.151Z"
   },
   {
    "duration": 97,
    "start_time": "2022-12-11T20:39:39.361Z"
   },
   {
    "duration": 168,
    "start_time": "2022-12-11T20:39:39.460Z"
   },
   {
    "duration": 438,
    "start_time": "2022-12-11T20:39:39.635Z"
   },
   {
    "duration": 862,
    "start_time": "2022-12-11T20:39:40.075Z"
   },
   {
    "duration": 50,
    "start_time": "2022-12-11T20:39:40.939Z"
   },
   {
    "duration": 2,
    "start_time": "2022-12-11T20:39:40.991Z"
   },
   {
    "duration": 48,
    "start_time": "2022-12-11T20:39:40.995Z"
   },
   {
    "duration": 89,
    "start_time": "2022-12-11T20:39:41.045Z"
   },
   {
    "duration": 83,
    "start_time": "2022-12-11T20:39:41.137Z"
   },
   {
    "duration": 33,
    "start_time": "2022-12-11T20:39:41.225Z"
   },
   {
    "duration": 183,
    "start_time": "2022-12-11T20:39:41.260Z"
   },
   {
    "duration": 6,
    "start_time": "2022-12-11T20:39:41.445Z"
   },
   {
    "duration": 189,
    "start_time": "2022-12-11T20:39:41.452Z"
   },
   {
    "duration": 30,
    "start_time": "2022-12-11T20:39:41.642Z"
   },
   {
    "duration": 6,
    "start_time": "2022-12-11T20:39:41.673Z"
   },
   {
    "duration": 7,
    "start_time": "2022-12-11T20:39:41.680Z"
   },
   {
    "duration": 43,
    "start_time": "2022-12-11T20:39:41.691Z"
   },
   {
    "duration": 89,
    "start_time": "2022-12-11T20:39:41.736Z"
   },
   {
    "duration": 26,
    "start_time": "2022-12-11T20:39:41.827Z"
   },
   {
    "duration": 362,
    "start_time": "2022-12-11T20:39:41.855Z"
   },
   {
    "duration": 69,
    "start_time": "2022-12-11T20:39:42.221Z"
   },
   {
    "duration": 4,
    "start_time": "2022-12-11T20:39:42.291Z"
   },
   {
    "duration": 14,
    "start_time": "2022-12-11T20:39:42.297Z"
   },
   {
    "duration": 37,
    "start_time": "2022-12-11T20:39:42.312Z"
   },
   {
    "duration": 9,
    "start_time": "2022-12-11T20:39:42.351Z"
   },
   {
    "duration": 57,
    "start_time": "2022-12-11T20:39:42.361Z"
   },
   {
    "duration": 59,
    "start_time": "2022-12-11T20:39:42.420Z"
   },
   {
    "duration": 3,
    "start_time": "2022-12-11T20:39:42.481Z"
   },
   {
    "duration": 9,
    "start_time": "2022-12-11T20:39:42.486Z"
   },
   {
    "duration": 8,
    "start_time": "2022-12-11T20:39:42.497Z"
   },
   {
    "duration": 17,
    "start_time": "2022-12-11T20:39:42.506Z"
   },
   {
    "duration": 635,
    "start_time": "2022-12-11T20:39:42.525Z"
   },
   {
    "duration": 566,
    "start_time": "2022-12-11T20:39:43.162Z"
   },
   {
    "duration": 166,
    "start_time": "2022-12-11T20:39:43.730Z"
   },
   {
    "duration": 1279,
    "start_time": "2022-12-11T20:39:43.898Z"
   },
   {
    "duration": 5,
    "start_time": "2022-12-11T20:39:45.179Z"
   },
   {
    "duration": 11,
    "start_time": "2022-12-11T20:39:45.188Z"
   },
   {
    "duration": 7,
    "start_time": "2022-12-11T20:39:45.201Z"
   },
   {
    "duration": 31,
    "start_time": "2022-12-11T20:39:45.210Z"
   },
   {
    "duration": 15,
    "start_time": "2022-12-11T20:39:45.243Z"
   },
   {
    "duration": 6,
    "start_time": "2022-12-11T20:39:45.260Z"
   },
   {
    "duration": 10,
    "start_time": "2022-12-11T20:39:45.268Z"
   },
   {
    "duration": 7,
    "start_time": "2022-12-11T20:39:45.280Z"
   },
   {
    "duration": 1579,
    "start_time": "2022-12-11T20:41:21.191Z"
   },
   {
    "duration": 1189,
    "start_time": "2022-12-11T20:41:22.772Z"
   },
   {
    "duration": 11,
    "start_time": "2022-12-11T20:41:23.963Z"
   },
   {
    "duration": 14,
    "start_time": "2022-12-11T20:41:23.976Z"
   },
   {
    "duration": 6,
    "start_time": "2022-12-11T20:41:23.991Z"
   },
   {
    "duration": 24,
    "start_time": "2022-12-11T20:41:23.999Z"
   },
   {
    "duration": 143,
    "start_time": "2022-12-11T20:41:24.028Z"
   },
   {
    "duration": 101,
    "start_time": "2022-12-11T20:41:24.173Z"
   },
   {
    "duration": 27,
    "start_time": "2022-12-11T20:41:24.275Z"
   },
   {
    "duration": 491,
    "start_time": "2022-12-11T20:41:24.305Z"
   },
   {
    "duration": 205,
    "start_time": "2022-12-11T20:41:24.797Z"
   },
   {
    "duration": 92,
    "start_time": "2022-12-11T20:41:25.004Z"
   },
   {
    "duration": 203,
    "start_time": "2022-12-11T20:41:25.098Z"
   },
   {
    "duration": 486,
    "start_time": "2022-12-11T20:41:25.303Z"
   },
   {
    "duration": 850,
    "start_time": "2022-12-11T20:41:25.790Z"
   },
   {
    "duration": 44,
    "start_time": "2022-12-11T20:41:26.641Z"
   },
   {
    "duration": 3,
    "start_time": "2022-12-11T20:41:26.686Z"
   },
   {
    "duration": 56,
    "start_time": "2022-12-11T20:41:26.691Z"
   },
   {
    "duration": 86,
    "start_time": "2022-12-11T20:41:26.749Z"
   },
   {
    "duration": 98,
    "start_time": "2022-12-11T20:41:26.837Z"
   },
   {
    "duration": 26,
    "start_time": "2022-12-11T20:41:26.937Z"
   },
   {
    "duration": 194,
    "start_time": "2022-12-11T20:41:26.965Z"
   },
   {
    "duration": 7,
    "start_time": "2022-12-11T20:41:27.161Z"
   },
   {
    "duration": 177,
    "start_time": "2022-12-11T20:41:27.169Z"
   },
   {
    "duration": 30,
    "start_time": "2022-12-11T20:41:27.347Z"
   },
   {
    "duration": 6,
    "start_time": "2022-12-11T20:41:27.379Z"
   },
   {
    "duration": 6,
    "start_time": "2022-12-11T20:41:27.387Z"
   },
   {
    "duration": 36,
    "start_time": "2022-12-11T20:41:27.397Z"
   },
   {
    "duration": 90,
    "start_time": "2022-12-11T20:41:27.436Z"
   },
   {
    "duration": 20,
    "start_time": "2022-12-11T20:41:27.527Z"
   },
   {
    "duration": 355,
    "start_time": "2022-12-11T20:41:27.549Z"
   },
   {
    "duration": 76,
    "start_time": "2022-12-11T20:41:27.906Z"
   },
   {
    "duration": 3,
    "start_time": "2022-12-11T20:41:27.983Z"
   },
   {
    "duration": 6,
    "start_time": "2022-12-11T20:41:27.987Z"
   },
   {
    "duration": 27,
    "start_time": "2022-12-11T20:41:27.994Z"
   },
   {
    "duration": 16,
    "start_time": "2022-12-11T20:41:28.024Z"
   },
   {
    "duration": 66,
    "start_time": "2022-12-11T20:41:28.041Z"
   },
   {
    "duration": 70,
    "start_time": "2022-12-11T20:41:28.109Z"
   },
   {
    "duration": 4,
    "start_time": "2022-12-11T20:41:28.181Z"
   },
   {
    "duration": 7,
    "start_time": "2022-12-11T20:41:28.186Z"
   },
   {
    "duration": 10,
    "start_time": "2022-12-11T20:41:28.195Z"
   },
   {
    "duration": 34,
    "start_time": "2022-12-11T20:41:28.207Z"
   },
   {
    "duration": 615,
    "start_time": "2022-12-11T20:41:28.243Z"
   },
   {
    "duration": 540,
    "start_time": "2022-12-11T20:41:28.859Z"
   },
   {
    "duration": 154,
    "start_time": "2022-12-11T20:41:29.401Z"
   },
   {
    "duration": 1235,
    "start_time": "2022-12-11T20:41:29.556Z"
   },
   {
    "duration": 5,
    "start_time": "2022-12-11T20:41:30.792Z"
   },
   {
    "duration": 42,
    "start_time": "2022-12-11T20:41:30.799Z"
   },
   {
    "duration": 6,
    "start_time": "2022-12-11T20:41:30.843Z"
   },
   {
    "duration": 11,
    "start_time": "2022-12-11T20:41:30.851Z"
   },
   {
    "duration": 17,
    "start_time": "2022-12-11T20:41:30.864Z"
   },
   {
    "duration": 16,
    "start_time": "2022-12-11T20:41:30.882Z"
   },
   {
    "duration": 27,
    "start_time": "2022-12-11T20:41:30.899Z"
   },
   {
    "duration": 49,
    "start_time": "2022-12-11T20:41:30.928Z"
   },
   {
    "duration": 1517,
    "start_time": "2022-12-11T20:43:43.362Z"
   },
   {
    "duration": 1170,
    "start_time": "2022-12-11T20:43:44.880Z"
   },
   {
    "duration": 10,
    "start_time": "2022-12-11T20:43:46.052Z"
   },
   {
    "duration": 36,
    "start_time": "2022-12-11T20:43:46.064Z"
   },
   {
    "duration": 7,
    "start_time": "2022-12-11T20:43:46.102Z"
   },
   {
    "duration": 23,
    "start_time": "2022-12-11T20:43:46.110Z"
   },
   {
    "duration": 145,
    "start_time": "2022-12-11T20:43:46.135Z"
   },
   {
    "duration": 100,
    "start_time": "2022-12-11T20:43:46.282Z"
   },
   {
    "duration": 26,
    "start_time": "2022-12-11T20:43:46.384Z"
   },
   {
    "duration": 463,
    "start_time": "2022-12-11T20:43:46.430Z"
   },
   {
    "duration": 202,
    "start_time": "2022-12-11T20:43:46.895Z"
   },
   {
    "duration": 99,
    "start_time": "2022-12-11T20:43:47.098Z"
   },
   {
    "duration": 167,
    "start_time": "2022-12-11T20:43:47.199Z"
   },
   {
    "duration": 406,
    "start_time": "2022-12-11T20:43:47.367Z"
   },
   {
    "duration": 784,
    "start_time": "2022-12-11T20:43:47.774Z"
   },
   {
    "duration": 44,
    "start_time": "2022-12-11T20:43:48.560Z"
   },
   {
    "duration": 21,
    "start_time": "2022-12-11T20:43:48.605Z"
   },
   {
    "duration": 35,
    "start_time": "2022-12-11T20:43:48.628Z"
   },
   {
    "duration": 100,
    "start_time": "2022-12-11T20:43:48.668Z"
   },
   {
    "duration": 89,
    "start_time": "2022-12-11T20:43:48.769Z"
   },
   {
    "duration": 23,
    "start_time": "2022-12-11T20:43:48.860Z"
   },
   {
    "duration": 195,
    "start_time": "2022-12-11T20:43:48.885Z"
   },
   {
    "duration": 9,
    "start_time": "2022-12-11T20:43:49.082Z"
   },
   {
    "duration": 185,
    "start_time": "2022-12-11T20:43:49.093Z"
   },
   {
    "duration": 29,
    "start_time": "2022-12-11T20:43:49.279Z"
   },
   {
    "duration": 7,
    "start_time": "2022-12-11T20:43:49.321Z"
   },
   {
    "duration": 18,
    "start_time": "2022-12-11T20:43:49.331Z"
   },
   {
    "duration": 10,
    "start_time": "2022-12-11T20:43:49.352Z"
   },
   {
    "duration": 90,
    "start_time": "2022-12-11T20:43:49.364Z"
   },
   {
    "duration": 10,
    "start_time": "2022-12-11T20:43:49.456Z"
   },
   {
    "duration": 389,
    "start_time": "2022-12-11T20:43:49.467Z"
   },
   {
    "duration": 77,
    "start_time": "2022-12-11T20:43:49.858Z"
   },
   {
    "duration": 3,
    "start_time": "2022-12-11T20:43:49.936Z"
   },
   {
    "duration": 5,
    "start_time": "2022-12-11T20:43:49.941Z"
   },
   {
    "duration": 17,
    "start_time": "2022-12-11T20:43:49.947Z"
   },
   {
    "duration": 9,
    "start_time": "2022-12-11T20:43:49.966Z"
   },
   {
    "duration": 73,
    "start_time": "2022-12-11T20:43:49.976Z"
   },
   {
    "duration": 52,
    "start_time": "2022-12-11T20:43:50.051Z"
   },
   {
    "duration": 4,
    "start_time": "2022-12-11T20:43:50.104Z"
   },
   {
    "duration": 15,
    "start_time": "2022-12-11T20:43:50.109Z"
   },
   {
    "duration": 9,
    "start_time": "2022-12-11T20:43:50.126Z"
   },
   {
    "duration": 8,
    "start_time": "2022-12-11T20:43:50.136Z"
   },
   {
    "duration": 615,
    "start_time": "2022-12-11T20:43:50.145Z"
   },
   {
    "duration": 577,
    "start_time": "2022-12-11T20:43:50.761Z"
   },
   {
    "duration": 165,
    "start_time": "2022-12-11T20:43:51.344Z"
   },
   {
    "duration": 1394,
    "start_time": "2022-12-11T20:43:51.512Z"
   },
   {
    "duration": 4,
    "start_time": "2022-12-11T20:43:52.907Z"
   },
   {
    "duration": 7,
    "start_time": "2022-12-11T20:43:52.921Z"
   },
   {
    "duration": 16,
    "start_time": "2022-12-11T20:43:52.929Z"
   },
   {
    "duration": 11,
    "start_time": "2022-12-11T20:43:52.947Z"
   },
   {
    "duration": 5,
    "start_time": "2022-12-11T20:43:52.960Z"
   },
   {
    "duration": 5,
    "start_time": "2022-12-11T20:43:52.967Z"
   },
   {
    "duration": 6,
    "start_time": "2022-12-11T20:43:52.974Z"
   },
   {
    "duration": 10,
    "start_time": "2022-12-11T20:43:52.981Z"
   },
   {
    "duration": 1621,
    "start_time": "2022-12-11T21:01:03.696Z"
   },
   {
    "duration": 1121,
    "start_time": "2022-12-11T21:01:05.321Z"
   },
   {
    "duration": 11,
    "start_time": "2022-12-11T21:01:06.443Z"
   },
   {
    "duration": 36,
    "start_time": "2022-12-11T21:01:06.456Z"
   },
   {
    "duration": 44,
    "start_time": "2022-12-11T21:01:06.494Z"
   },
   {
    "duration": 41,
    "start_time": "2022-12-11T21:01:06.539Z"
   },
   {
    "duration": 179,
    "start_time": "2022-12-11T21:01:06.581Z"
   },
   {
    "duration": 90,
    "start_time": "2022-12-11T21:01:06.762Z"
   },
   {
    "duration": 24,
    "start_time": "2022-12-11T21:01:06.854Z"
   },
   {
    "duration": 468,
    "start_time": "2022-12-11T21:01:06.880Z"
   },
   {
    "duration": 206,
    "start_time": "2022-12-11T21:01:07.349Z"
   },
   {
    "duration": 101,
    "start_time": "2022-12-11T21:01:07.556Z"
   },
   {
    "duration": 165,
    "start_time": "2022-12-11T21:01:07.659Z"
   },
   {
    "duration": 417,
    "start_time": "2022-12-11T21:01:07.836Z"
   },
   {
    "duration": 813,
    "start_time": "2022-12-11T21:01:08.254Z"
   },
   {
    "duration": 42,
    "start_time": "2022-12-11T21:01:09.069Z"
   },
   {
    "duration": 17,
    "start_time": "2022-12-11T21:01:09.113Z"
   },
   {
    "duration": 37,
    "start_time": "2022-12-11T21:01:09.137Z"
   },
   {
    "duration": 86,
    "start_time": "2022-12-11T21:01:09.176Z"
   },
   {
    "duration": 90,
    "start_time": "2022-12-11T21:01:09.263Z"
   },
   {
    "duration": 23,
    "start_time": "2022-12-11T21:01:09.355Z"
   },
   {
    "duration": 184,
    "start_time": "2022-12-11T21:01:09.380Z"
   },
   {
    "duration": 8,
    "start_time": "2022-12-11T21:01:09.566Z"
   },
   {
    "duration": 181,
    "start_time": "2022-12-11T21:01:09.576Z"
   },
   {
    "duration": 28,
    "start_time": "2022-12-11T21:01:09.759Z"
   },
   {
    "duration": 5,
    "start_time": "2022-12-11T21:01:09.788Z"
   },
   {
    "duration": 27,
    "start_time": "2022-12-11T21:01:09.795Z"
   },
   {
    "duration": 76,
    "start_time": "2022-12-11T21:01:09.828Z"
   },
   {
    "duration": 34,
    "start_time": "2022-12-11T21:01:09.906Z"
   },
   {
    "duration": 11,
    "start_time": "2022-12-11T21:01:09.942Z"
   },
   {
    "duration": 363,
    "start_time": "2022-12-11T21:01:09.955Z"
   },
   {
    "duration": 63,
    "start_time": "2022-12-11T21:01:10.330Z"
   },
   {
    "duration": 3,
    "start_time": "2022-12-11T21:01:10.394Z"
   },
   {
    "duration": 6,
    "start_time": "2022-12-11T21:01:10.398Z"
   },
   {
    "duration": 21,
    "start_time": "2022-12-11T21:01:10.405Z"
   },
   {
    "duration": 14,
    "start_time": "2022-12-11T21:01:10.427Z"
   },
   {
    "duration": 59,
    "start_time": "2022-12-11T21:01:10.442Z"
   },
   {
    "duration": 66,
    "start_time": "2022-12-11T21:01:10.503Z"
   },
   {
    "duration": 4,
    "start_time": "2022-12-11T21:01:10.571Z"
   },
   {
    "duration": 11,
    "start_time": "2022-12-11T21:01:10.576Z"
   },
   {
    "duration": 30,
    "start_time": "2022-12-11T21:01:10.588Z"
   },
   {
    "duration": 31,
    "start_time": "2022-12-11T21:01:10.620Z"
   },
   {
    "duration": 594,
    "start_time": "2022-12-11T21:01:10.653Z"
   },
   {
    "duration": 556,
    "start_time": "2022-12-11T21:01:11.248Z"
   },
   {
    "duration": 160,
    "start_time": "2022-12-11T21:01:11.805Z"
   },
   {
    "duration": 1245,
    "start_time": "2022-12-11T21:01:11.967Z"
   },
   {
    "duration": 3,
    "start_time": "2022-12-11T21:01:13.214Z"
   },
   {
    "duration": 27,
    "start_time": "2022-12-11T21:01:13.221Z"
   },
   {
    "duration": 21,
    "start_time": "2022-12-11T21:01:13.249Z"
   },
   {
    "duration": 27,
    "start_time": "2022-12-11T21:01:13.272Z"
   },
   {
    "duration": 13,
    "start_time": "2022-12-11T21:01:13.300Z"
   },
   {
    "duration": 22,
    "start_time": "2022-12-11T21:01:13.315Z"
   },
   {
    "duration": 9,
    "start_time": "2022-12-11T21:01:13.339Z"
   },
   {
    "duration": 11,
    "start_time": "2022-12-11T21:01:13.350Z"
   },
   {
    "duration": 1465,
    "start_time": "2022-12-11T21:09:40.367Z"
   },
   {
    "duration": 1120,
    "start_time": "2022-12-11T21:09:41.833Z"
   },
   {
    "duration": 10,
    "start_time": "2022-12-11T21:09:42.955Z"
   },
   {
    "duration": 23,
    "start_time": "2022-12-11T21:09:42.966Z"
   },
   {
    "duration": 11,
    "start_time": "2022-12-11T21:09:42.991Z"
   },
   {
    "duration": 28,
    "start_time": "2022-12-11T21:09:43.003Z"
   },
   {
    "duration": 151,
    "start_time": "2022-12-11T21:09:43.034Z"
   },
   {
    "duration": 97,
    "start_time": "2022-12-11T21:09:43.187Z"
   },
   {
    "duration": 24,
    "start_time": "2022-12-11T21:09:43.286Z"
   },
   {
    "duration": 466,
    "start_time": "2022-12-11T21:09:43.311Z"
   },
   {
    "duration": 206,
    "start_time": "2022-12-11T21:09:43.779Z"
   },
   {
    "duration": 91,
    "start_time": "2022-12-11T21:09:43.987Z"
   },
   {
    "duration": 174,
    "start_time": "2022-12-11T21:09:44.079Z"
   },
   {
    "duration": 421,
    "start_time": "2022-12-11T21:09:44.256Z"
   },
   {
    "duration": 905,
    "start_time": "2022-12-11T21:09:44.679Z"
   },
   {
    "duration": 56,
    "start_time": "2022-12-11T21:09:45.586Z"
   },
   {
    "duration": 3,
    "start_time": "2022-12-11T21:09:45.643Z"
   },
   {
    "duration": 40,
    "start_time": "2022-12-11T21:09:45.648Z"
   },
   {
    "duration": 89,
    "start_time": "2022-12-11T21:09:45.690Z"
   },
   {
    "duration": 93,
    "start_time": "2022-12-11T21:09:45.780Z"
   },
   {
    "duration": 26,
    "start_time": "2022-12-11T21:09:45.875Z"
   },
   {
    "duration": 197,
    "start_time": "2022-12-11T21:09:45.902Z"
   },
   {
    "duration": 7,
    "start_time": "2022-12-11T21:09:46.100Z"
   },
   {
    "duration": 170,
    "start_time": "2022-12-11T21:09:46.108Z"
   },
   {
    "duration": 29,
    "start_time": "2022-12-11T21:09:46.279Z"
   },
   {
    "duration": 9,
    "start_time": "2022-12-11T21:09:46.323Z"
   },
   {
    "duration": 7,
    "start_time": "2022-12-11T21:09:46.336Z"
   },
   {
    "duration": 9,
    "start_time": "2022-12-11T21:09:46.345Z"
   },
   {
    "duration": 15,
    "start_time": "2022-12-11T21:09:46.355Z"
   },
   {
    "duration": 10,
    "start_time": "2022-12-11T21:09:46.372Z"
   },
   {
    "duration": 460,
    "start_time": "2022-12-11T21:09:46.383Z"
   },
   {
    "duration": 85,
    "start_time": "2022-12-11T21:09:46.845Z"
   },
   {
    "duration": 2,
    "start_time": "2022-12-11T21:09:46.933Z"
   },
   {
    "duration": 7,
    "start_time": "2022-12-11T21:09:46.937Z"
   },
   {
    "duration": 20,
    "start_time": "2022-12-11T21:09:46.946Z"
   },
   {
    "duration": 11,
    "start_time": "2022-12-11T21:09:46.967Z"
   },
   {
    "duration": 69,
    "start_time": "2022-12-11T21:09:46.979Z"
   },
   {
    "duration": 54,
    "start_time": "2022-12-11T21:09:47.050Z"
   },
   {
    "duration": 4,
    "start_time": "2022-12-11T21:09:47.106Z"
   },
   {
    "duration": 3,
    "start_time": "2022-12-11T21:09:47.131Z"
   },
   {
    "duration": 6,
    "start_time": "2022-12-11T21:09:47.139Z"
   },
   {
    "duration": 3,
    "start_time": "2022-12-11T21:09:47.147Z"
   },
   {
    "duration": 591,
    "start_time": "2022-12-11T21:09:47.152Z"
   },
   {
    "duration": 548,
    "start_time": "2022-12-11T21:09:47.745Z"
   },
   {
    "duration": 161,
    "start_time": "2022-12-11T21:09:48.294Z"
   },
   {
    "duration": 1247,
    "start_time": "2022-12-11T21:09:48.456Z"
   },
   {
    "duration": 3,
    "start_time": "2022-12-11T21:09:49.705Z"
   },
   {
    "duration": 24,
    "start_time": "2022-12-11T21:09:49.710Z"
   },
   {
    "duration": 8,
    "start_time": "2022-12-11T21:09:49.735Z"
   },
   {
    "duration": 6,
    "start_time": "2022-12-11T21:09:49.744Z"
   },
   {
    "duration": 7,
    "start_time": "2022-12-11T21:09:49.751Z"
   },
   {
    "duration": 153,
    "start_time": "2022-12-11T21:09:49.760Z"
   },
   {
    "duration": 0,
    "start_time": "2022-12-11T21:09:49.915Z"
   },
   {
    "duration": 0,
    "start_time": "2022-12-11T21:09:49.923Z"
   },
   {
    "duration": 0,
    "start_time": "2022-12-11T21:09:49.924Z"
   },
   {
    "duration": 0,
    "start_time": "2022-12-11T21:09:49.924Z"
   },
   {
    "duration": 0,
    "start_time": "2022-12-11T21:09:49.925Z"
   },
   {
    "duration": 0,
    "start_time": "2022-12-11T21:09:49.926Z"
   },
   {
    "duration": 0,
    "start_time": "2022-12-11T21:09:49.927Z"
   },
   {
    "duration": 0,
    "start_time": "2022-12-11T21:09:49.927Z"
   },
   {
    "duration": 0,
    "start_time": "2022-12-11T21:09:49.928Z"
   },
   {
    "duration": 0,
    "start_time": "2022-12-11T21:09:49.929Z"
   },
   {
    "duration": 0,
    "start_time": "2022-12-11T21:09:49.929Z"
   },
   {
    "duration": 0,
    "start_time": "2022-12-11T21:09:49.930Z"
   },
   {
    "duration": 0,
    "start_time": "2022-12-11T21:09:49.930Z"
   },
   {
    "duration": 0,
    "start_time": "2022-12-11T21:09:49.931Z"
   },
   {
    "duration": 0,
    "start_time": "2022-12-11T21:09:49.932Z"
   },
   {
    "duration": 0,
    "start_time": "2022-12-11T21:09:49.932Z"
   },
   {
    "duration": 0,
    "start_time": "2022-12-11T21:09:49.933Z"
   },
   {
    "duration": 0,
    "start_time": "2022-12-11T21:09:49.933Z"
   },
   {
    "duration": 0,
    "start_time": "2022-12-11T21:09:49.934Z"
   },
   {
    "duration": 0,
    "start_time": "2022-12-11T21:09:49.935Z"
   },
   {
    "duration": 0,
    "start_time": "2022-12-11T21:09:49.936Z"
   },
   {
    "duration": 0,
    "start_time": "2022-12-11T21:09:49.940Z"
   },
   {
    "duration": 0,
    "start_time": "2022-12-11T21:09:49.941Z"
   },
   {
    "duration": 0,
    "start_time": "2022-12-11T21:09:49.942Z"
   },
   {
    "duration": 0,
    "start_time": "2022-12-11T21:09:49.943Z"
   },
   {
    "duration": 0,
    "start_time": "2022-12-11T21:09:49.944Z"
   },
   {
    "duration": 0,
    "start_time": "2022-12-11T21:09:49.945Z"
   },
   {
    "duration": 0,
    "start_time": "2022-12-11T21:09:49.946Z"
   },
   {
    "duration": 0,
    "start_time": "2022-12-11T21:09:49.947Z"
   },
   {
    "duration": 1,
    "start_time": "2022-12-11T21:09:49.948Z"
   },
   {
    "duration": 0,
    "start_time": "2022-12-11T21:09:49.949Z"
   },
   {
    "duration": 0,
    "start_time": "2022-12-11T21:09:49.951Z"
   },
   {
    "duration": 0,
    "start_time": "2022-12-11T21:09:49.952Z"
   },
   {
    "duration": 0,
    "start_time": "2022-12-11T21:09:49.953Z"
   },
   {
    "duration": 0,
    "start_time": "2022-12-11T21:09:49.954Z"
   },
   {
    "duration": 0,
    "start_time": "2022-12-11T21:09:49.955Z"
   },
   {
    "duration": 0,
    "start_time": "2022-12-11T21:09:49.956Z"
   },
   {
    "duration": 0,
    "start_time": "2022-12-11T21:09:49.957Z"
   },
   {
    "duration": 0,
    "start_time": "2022-12-11T21:09:49.957Z"
   },
   {
    "duration": 0,
    "start_time": "2022-12-11T21:09:49.958Z"
   },
   {
    "duration": 0,
    "start_time": "2022-12-11T21:09:49.959Z"
   },
   {
    "duration": 0,
    "start_time": "2022-12-11T21:09:49.960Z"
   },
   {
    "duration": 0,
    "start_time": "2022-12-11T21:09:49.961Z"
   },
   {
    "duration": 0,
    "start_time": "2022-12-11T21:09:49.962Z"
   },
   {
    "duration": 0,
    "start_time": "2022-12-11T21:09:50.027Z"
   },
   {
    "duration": 0,
    "start_time": "2022-12-11T21:09:50.035Z"
   },
   {
    "duration": 0,
    "start_time": "2022-12-11T21:09:50.036Z"
   },
   {
    "duration": 0,
    "start_time": "2022-12-11T21:09:50.037Z"
   },
   {
    "duration": 1453,
    "start_time": "2022-12-11T21:12:41.956Z"
   },
   {
    "duration": 833,
    "start_time": "2022-12-11T21:12:43.411Z"
   },
   {
    "duration": 10,
    "start_time": "2022-12-11T21:12:44.246Z"
   },
   {
    "duration": 22,
    "start_time": "2022-12-11T21:12:44.257Z"
   },
   {
    "duration": 12,
    "start_time": "2022-12-11T21:12:44.282Z"
   },
   {
    "duration": 19,
    "start_time": "2022-12-11T21:12:44.296Z"
   },
   {
    "duration": 138,
    "start_time": "2022-12-11T21:12:44.317Z"
   },
   {
    "duration": 97,
    "start_time": "2022-12-11T21:12:44.457Z"
   },
   {
    "duration": 25,
    "start_time": "2022-12-11T21:12:44.556Z"
   },
   {
    "duration": 463,
    "start_time": "2022-12-11T21:12:44.583Z"
   },
   {
    "duration": 224,
    "start_time": "2022-12-11T21:12:45.047Z"
   },
   {
    "duration": 121,
    "start_time": "2022-12-11T21:12:45.274Z"
   },
   {
    "duration": 173,
    "start_time": "2022-12-11T21:12:45.396Z"
   },
   {
    "duration": 439,
    "start_time": "2022-12-11T21:12:45.572Z"
   },
   {
    "duration": 874,
    "start_time": "2022-12-11T21:12:46.013Z"
   },
   {
    "duration": 57,
    "start_time": "2022-12-11T21:12:46.889Z"
   },
   {
    "duration": 3,
    "start_time": "2022-12-11T21:12:46.947Z"
   },
   {
    "duration": 45,
    "start_time": "2022-12-11T21:12:46.951Z"
   },
   {
    "duration": 93,
    "start_time": "2022-12-11T21:12:46.998Z"
   },
   {
    "duration": 98,
    "start_time": "2022-12-11T21:12:47.093Z"
   },
   {
    "duration": 43,
    "start_time": "2022-12-11T21:12:47.192Z"
   },
   {
    "duration": 166,
    "start_time": "2022-12-11T21:12:47.237Z"
   },
   {
    "duration": 7,
    "start_time": "2022-12-11T21:12:47.404Z"
   },
   {
    "duration": 165,
    "start_time": "2022-12-11T21:12:47.423Z"
   },
   {
    "duration": 45,
    "start_time": "2022-12-11T21:12:47.590Z"
   },
   {
    "duration": 5,
    "start_time": "2022-12-11T21:12:47.637Z"
   },
   {
    "duration": 9,
    "start_time": "2022-12-11T21:12:47.644Z"
   },
   {
    "duration": 12,
    "start_time": "2022-12-11T21:12:47.655Z"
   },
   {
    "duration": 14,
    "start_time": "2022-12-11T21:12:47.668Z"
   },
   {
    "duration": 10,
    "start_time": "2022-12-11T21:12:47.684Z"
   },
   {
    "duration": 446,
    "start_time": "2022-12-11T21:12:47.695Z"
   },
   {
    "duration": 63,
    "start_time": "2022-12-11T21:12:48.143Z"
   },
   {
    "duration": 21,
    "start_time": "2022-12-11T21:12:48.207Z"
   },
   {
    "duration": 19,
    "start_time": "2022-12-11T21:12:48.229Z"
   },
   {
    "duration": 19,
    "start_time": "2022-12-11T21:12:48.249Z"
   },
   {
    "duration": 9,
    "start_time": "2022-12-11T21:12:48.269Z"
   },
   {
    "duration": 59,
    "start_time": "2022-12-11T21:12:48.280Z"
   },
   {
    "duration": 50,
    "start_time": "2022-12-11T21:12:48.341Z"
   },
   {
    "duration": 3,
    "start_time": "2022-12-11T21:12:48.393Z"
   },
   {
    "duration": 10,
    "start_time": "2022-12-11T21:12:48.398Z"
   },
   {
    "duration": 13,
    "start_time": "2022-12-11T21:12:48.413Z"
   },
   {
    "duration": 9,
    "start_time": "2022-12-11T21:12:48.433Z"
   },
   {
    "duration": 568,
    "start_time": "2022-12-11T21:12:48.443Z"
   },
   {
    "duration": 563,
    "start_time": "2022-12-11T21:12:49.013Z"
   },
   {
    "duration": 158,
    "start_time": "2022-12-11T21:12:49.577Z"
   },
   {
    "duration": 1222,
    "start_time": "2022-12-11T21:12:49.737Z"
   },
   {
    "duration": 3,
    "start_time": "2022-12-11T21:12:50.961Z"
   },
   {
    "duration": 37,
    "start_time": "2022-12-11T21:12:50.965Z"
   },
   {
    "duration": 0,
    "start_time": "2022-12-11T21:12:51.003Z"
   },
   {
    "duration": 0,
    "start_time": "2022-12-11T21:12:51.004Z"
   },
   {
    "duration": 0,
    "start_time": "2022-12-11T21:12:51.005Z"
   },
   {
    "duration": 0,
    "start_time": "2022-12-11T21:12:51.006Z"
   },
   {
    "duration": 0,
    "start_time": "2022-12-11T21:12:51.007Z"
   },
   {
    "duration": 0,
    "start_time": "2022-12-11T21:12:51.009Z"
   },
   {
    "duration": 0,
    "start_time": "2022-12-11T21:12:51.009Z"
   },
   {
    "duration": 0,
    "start_time": "2022-12-11T21:12:51.011Z"
   },
   {
    "duration": 0,
    "start_time": "2022-12-11T21:12:51.012Z"
   },
   {
    "duration": 0,
    "start_time": "2022-12-11T21:12:51.013Z"
   },
   {
    "duration": 0,
    "start_time": "2022-12-11T21:12:51.014Z"
   },
   {
    "duration": 0,
    "start_time": "2022-12-11T21:12:51.016Z"
   },
   {
    "duration": 0,
    "start_time": "2022-12-11T21:12:51.017Z"
   },
   {
    "duration": 0,
    "start_time": "2022-12-11T21:12:51.018Z"
   },
   {
    "duration": 0,
    "start_time": "2022-12-11T21:12:51.020Z"
   },
   {
    "duration": 0,
    "start_time": "2022-12-11T21:12:51.021Z"
   },
   {
    "duration": 0,
    "start_time": "2022-12-11T21:12:51.021Z"
   },
   {
    "duration": 0,
    "start_time": "2022-12-11T21:12:51.022Z"
   },
   {
    "duration": 0,
    "start_time": "2022-12-11T21:12:51.023Z"
   },
   {
    "duration": 0,
    "start_time": "2022-12-11T21:12:51.024Z"
   },
   {
    "duration": 0,
    "start_time": "2022-12-11T21:12:51.025Z"
   },
   {
    "duration": 0,
    "start_time": "2022-12-11T21:12:51.026Z"
   },
   {
    "duration": 0,
    "start_time": "2022-12-11T21:12:51.027Z"
   },
   {
    "duration": 0,
    "start_time": "2022-12-11T21:12:51.030Z"
   },
   {
    "duration": 0,
    "start_time": "2022-12-11T21:12:51.030Z"
   },
   {
    "duration": 0,
    "start_time": "2022-12-11T21:12:51.031Z"
   },
   {
    "duration": 0,
    "start_time": "2022-12-11T21:12:51.032Z"
   },
   {
    "duration": 0,
    "start_time": "2022-12-11T21:12:51.033Z"
   },
   {
    "duration": 0,
    "start_time": "2022-12-11T21:12:51.038Z"
   },
   {
    "duration": 0,
    "start_time": "2022-12-11T21:12:51.039Z"
   },
   {
    "duration": 0,
    "start_time": "2022-12-11T21:12:51.041Z"
   },
   {
    "duration": 0,
    "start_time": "2022-12-11T21:12:51.042Z"
   },
   {
    "duration": 0,
    "start_time": "2022-12-11T21:12:51.043Z"
   },
   {
    "duration": 0,
    "start_time": "2022-12-11T21:12:51.045Z"
   },
   {
    "duration": 0,
    "start_time": "2022-12-11T21:12:51.046Z"
   },
   {
    "duration": 0,
    "start_time": "2022-12-11T21:12:51.047Z"
   },
   {
    "duration": 0,
    "start_time": "2022-12-11T21:12:51.049Z"
   },
   {
    "duration": 0,
    "start_time": "2022-12-11T21:12:51.050Z"
   },
   {
    "duration": 0,
    "start_time": "2022-12-11T21:12:51.052Z"
   },
   {
    "duration": 0,
    "start_time": "2022-12-11T21:12:51.053Z"
   },
   {
    "duration": 0,
    "start_time": "2022-12-11T21:12:51.054Z"
   },
   {
    "duration": 0,
    "start_time": "2022-12-11T21:12:51.055Z"
   },
   {
    "duration": 0,
    "start_time": "2022-12-11T21:12:51.057Z"
   },
   {
    "duration": 0,
    "start_time": "2022-12-11T21:12:51.058Z"
   },
   {
    "duration": 0,
    "start_time": "2022-12-11T21:12:51.059Z"
   },
   {
    "duration": 0,
    "start_time": "2022-12-11T21:12:51.061Z"
   },
   {
    "duration": 0,
    "start_time": "2022-12-11T21:12:51.062Z"
   },
   {
    "duration": 0,
    "start_time": "2022-12-11T21:12:51.121Z"
   },
   {
    "duration": 0,
    "start_time": "2022-12-11T21:12:51.122Z"
   },
   {
    "duration": 0,
    "start_time": "2022-12-11T21:12:51.128Z"
   },
   {
    "duration": 0,
    "start_time": "2022-12-11T21:12:51.129Z"
   },
   {
    "duration": 0,
    "start_time": "2022-12-11T21:12:51.130Z"
   },
   {
    "duration": 1499,
    "start_time": "2022-12-11T21:25:26.294Z"
   },
   {
    "duration": 815,
    "start_time": "2022-12-11T21:25:27.795Z"
   },
   {
    "duration": 19,
    "start_time": "2022-12-11T21:25:28.612Z"
   },
   {
    "duration": 13,
    "start_time": "2022-12-11T21:25:28.633Z"
   },
   {
    "duration": 10,
    "start_time": "2022-12-11T21:25:28.648Z"
   },
   {
    "duration": 22,
    "start_time": "2022-12-11T21:25:28.659Z"
   },
   {
    "duration": 129,
    "start_time": "2022-12-11T21:25:28.682Z"
   },
   {
    "duration": 132,
    "start_time": "2022-12-11T21:25:28.813Z"
   },
   {
    "duration": 24,
    "start_time": "2022-12-11T21:25:28.947Z"
   },
   {
    "duration": 468,
    "start_time": "2022-12-11T21:25:28.973Z"
   },
   {
    "duration": 213,
    "start_time": "2022-12-11T21:25:29.443Z"
   },
   {
    "duration": 98,
    "start_time": "2022-12-11T21:25:29.657Z"
   },
   {
    "duration": 174,
    "start_time": "2022-12-11T21:25:29.756Z"
   },
   {
    "duration": 433,
    "start_time": "2022-12-11T21:25:29.933Z"
   },
   {
    "duration": 868,
    "start_time": "2022-12-11T21:25:30.367Z"
   },
   {
    "duration": 44,
    "start_time": "2022-12-11T21:25:31.236Z"
   },
   {
    "duration": 20,
    "start_time": "2022-12-11T21:25:31.282Z"
   },
   {
    "duration": 66,
    "start_time": "2022-12-11T21:25:31.303Z"
   },
   {
    "duration": 110,
    "start_time": "2022-12-11T21:25:31.371Z"
   },
   {
    "duration": 103,
    "start_time": "2022-12-11T21:25:31.483Z"
   },
   {
    "duration": 24,
    "start_time": "2022-12-11T21:25:31.587Z"
   },
   {
    "duration": 171,
    "start_time": "2022-12-11T21:25:31.623Z"
   },
   {
    "duration": 6,
    "start_time": "2022-12-11T21:25:31.796Z"
   },
   {
    "duration": 173,
    "start_time": "2022-12-11T21:25:31.803Z"
   },
   {
    "duration": 30,
    "start_time": "2022-12-11T21:25:31.977Z"
   },
   {
    "duration": 23,
    "start_time": "2022-12-11T21:25:32.009Z"
   },
   {
    "duration": 27,
    "start_time": "2022-12-11T21:25:32.034Z"
   },
   {
    "duration": 22,
    "start_time": "2022-12-11T21:25:32.063Z"
   },
   {
    "duration": 25,
    "start_time": "2022-12-11T21:25:32.087Z"
   },
   {
    "duration": 20,
    "start_time": "2022-12-11T21:25:32.114Z"
   },
   {
    "duration": 429,
    "start_time": "2022-12-11T21:25:32.136Z"
   },
   {
    "duration": 68,
    "start_time": "2022-12-11T21:25:32.567Z"
   },
   {
    "duration": 3,
    "start_time": "2022-12-11T21:25:32.637Z"
   },
   {
    "duration": 10,
    "start_time": "2022-12-11T21:25:32.641Z"
   },
   {
    "duration": 19,
    "start_time": "2022-12-11T21:25:32.652Z"
   },
   {
    "duration": 9,
    "start_time": "2022-12-11T21:25:32.673Z"
   },
   {
    "duration": 68,
    "start_time": "2022-12-11T21:25:32.684Z"
   },
   {
    "duration": 54,
    "start_time": "2022-12-11T21:25:32.754Z"
   },
   {
    "duration": 3,
    "start_time": "2022-12-11T21:25:32.810Z"
   },
   {
    "duration": 29,
    "start_time": "2022-12-11T21:25:32.822Z"
   },
   {
    "duration": 8,
    "start_time": "2022-12-11T21:25:32.857Z"
   },
   {
    "duration": 4,
    "start_time": "2022-12-11T21:25:32.867Z"
   },
   {
    "duration": 609,
    "start_time": "2022-12-11T21:25:32.873Z"
   },
   {
    "duration": 554,
    "start_time": "2022-12-11T21:25:33.484Z"
   },
   {
    "duration": 150,
    "start_time": "2022-12-11T21:25:34.041Z"
   },
   {
    "duration": 1294,
    "start_time": "2022-12-11T21:25:34.193Z"
   },
   {
    "duration": 4,
    "start_time": "2022-12-11T21:25:35.490Z"
   },
   {
    "duration": 12,
    "start_time": "2022-12-11T21:25:35.496Z"
   },
   {
    "duration": 51,
    "start_time": "2022-12-11T21:25:35.510Z"
   },
   {
    "duration": 23,
    "start_time": "2022-12-11T21:25:35.562Z"
   },
   {
    "duration": 10,
    "start_time": "2022-12-11T21:25:35.586Z"
   },
   {
    "duration": 66,
    "start_time": "2022-12-11T21:25:35.597Z"
   },
   {
    "duration": 0,
    "start_time": "2022-12-11T21:25:35.665Z"
   },
   {
    "duration": 0,
    "start_time": "2022-12-11T21:25:35.666Z"
   },
   {
    "duration": 0,
    "start_time": "2022-12-11T21:25:35.667Z"
   },
   {
    "duration": 0,
    "start_time": "2022-12-11T21:25:35.668Z"
   },
   {
    "duration": 0,
    "start_time": "2022-12-11T21:25:35.669Z"
   },
   {
    "duration": 0,
    "start_time": "2022-12-11T21:25:35.670Z"
   },
   {
    "duration": 0,
    "start_time": "2022-12-11T21:25:35.671Z"
   },
   {
    "duration": 0,
    "start_time": "2022-12-11T21:25:35.673Z"
   },
   {
    "duration": 0,
    "start_time": "2022-12-11T21:25:35.674Z"
   },
   {
    "duration": 0,
    "start_time": "2022-12-11T21:25:35.674Z"
   },
   {
    "duration": 0,
    "start_time": "2022-12-11T21:25:35.675Z"
   },
   {
    "duration": 0,
    "start_time": "2022-12-11T21:25:35.677Z"
   },
   {
    "duration": 0,
    "start_time": "2022-12-11T21:25:35.678Z"
   },
   {
    "duration": 0,
    "start_time": "2022-12-11T21:25:35.679Z"
   },
   {
    "duration": 0,
    "start_time": "2022-12-11T21:25:35.680Z"
   },
   {
    "duration": 0,
    "start_time": "2022-12-11T21:25:35.681Z"
   },
   {
    "duration": 0,
    "start_time": "2022-12-11T21:25:35.682Z"
   },
   {
    "duration": 0,
    "start_time": "2022-12-11T21:25:35.682Z"
   },
   {
    "duration": 0,
    "start_time": "2022-12-11T21:25:35.683Z"
   },
   {
    "duration": 0,
    "start_time": "2022-12-11T21:25:35.684Z"
   },
   {
    "duration": 0,
    "start_time": "2022-12-11T21:25:35.685Z"
   },
   {
    "duration": 0,
    "start_time": "2022-12-11T21:25:35.686Z"
   },
   {
    "duration": 0,
    "start_time": "2022-12-11T21:25:35.687Z"
   },
   {
    "duration": 0,
    "start_time": "2022-12-11T21:25:35.688Z"
   },
   {
    "duration": 0,
    "start_time": "2022-12-11T21:25:35.689Z"
   },
   {
    "duration": 0,
    "start_time": "2022-12-11T21:25:35.690Z"
   },
   {
    "duration": 0,
    "start_time": "2022-12-11T21:25:35.691Z"
   },
   {
    "duration": 0,
    "start_time": "2022-12-11T21:25:35.692Z"
   },
   {
    "duration": 0,
    "start_time": "2022-12-11T21:25:35.694Z"
   },
   {
    "duration": 0,
    "start_time": "2022-12-11T21:25:35.694Z"
   },
   {
    "duration": 0,
    "start_time": "2022-12-11T21:25:35.695Z"
   },
   {
    "duration": 0,
    "start_time": "2022-12-11T21:25:35.697Z"
   },
   {
    "duration": 0,
    "start_time": "2022-12-11T21:25:35.698Z"
   },
   {
    "duration": 0,
    "start_time": "2022-12-11T21:25:35.699Z"
   },
   {
    "duration": 0,
    "start_time": "2022-12-11T21:25:35.700Z"
   },
   {
    "duration": 0,
    "start_time": "2022-12-11T21:25:35.727Z"
   },
   {
    "duration": 0,
    "start_time": "2022-12-11T21:25:35.727Z"
   },
   {
    "duration": 0,
    "start_time": "2022-12-11T21:25:35.728Z"
   },
   {
    "duration": 0,
    "start_time": "2022-12-11T21:25:35.728Z"
   },
   {
    "duration": 0,
    "start_time": "2022-12-11T21:25:35.729Z"
   },
   {
    "duration": 0,
    "start_time": "2022-12-11T21:25:35.729Z"
   },
   {
    "duration": 0,
    "start_time": "2022-12-11T21:25:35.730Z"
   },
   {
    "duration": 0,
    "start_time": "2022-12-11T21:25:35.731Z"
   },
   {
    "duration": 0,
    "start_time": "2022-12-11T21:25:35.731Z"
   },
   {
    "duration": 0,
    "start_time": "2022-12-11T21:25:35.732Z"
   },
   {
    "duration": 0,
    "start_time": "2022-12-11T21:25:35.732Z"
   },
   {
    "duration": 0,
    "start_time": "2022-12-11T21:25:35.733Z"
   },
   {
    "duration": 0,
    "start_time": "2022-12-11T21:25:35.733Z"
   },
   {
    "duration": 1563,
    "start_time": "2022-12-11T21:27:18.243Z"
   },
   {
    "duration": 846,
    "start_time": "2022-12-11T21:27:19.808Z"
   },
   {
    "duration": 10,
    "start_time": "2022-12-11T21:27:20.656Z"
   },
   {
    "duration": 11,
    "start_time": "2022-12-11T21:27:20.668Z"
   },
   {
    "duration": 6,
    "start_time": "2022-12-11T21:27:20.680Z"
   },
   {
    "duration": 21,
    "start_time": "2022-12-11T21:27:20.688Z"
   },
   {
    "duration": 178,
    "start_time": "2022-12-11T21:27:20.710Z"
   },
   {
    "duration": 99,
    "start_time": "2022-12-11T21:27:20.890Z"
   },
   {
    "duration": 31,
    "start_time": "2022-12-11T21:27:20.991Z"
   },
   {
    "duration": 477,
    "start_time": "2022-12-11T21:27:21.032Z"
   },
   {
    "duration": 219,
    "start_time": "2022-12-11T21:27:21.526Z"
   },
   {
    "duration": 106,
    "start_time": "2022-12-11T21:27:21.746Z"
   },
   {
    "duration": 180,
    "start_time": "2022-12-11T21:27:21.853Z"
   },
   {
    "duration": 436,
    "start_time": "2022-12-11T21:27:22.041Z"
   },
   {
    "duration": 895,
    "start_time": "2022-12-11T21:27:22.479Z"
   },
   {
    "duration": 65,
    "start_time": "2022-12-11T21:27:23.376Z"
   },
   {
    "duration": 3,
    "start_time": "2022-12-11T21:27:23.454Z"
   },
   {
    "duration": 40,
    "start_time": "2022-12-11T21:27:23.458Z"
   },
   {
    "duration": 99,
    "start_time": "2022-12-11T21:27:23.500Z"
   },
   {
    "duration": 87,
    "start_time": "2022-12-11T21:27:23.601Z"
   },
   {
    "duration": 34,
    "start_time": "2022-12-11T21:27:23.689Z"
   },
   {
    "duration": 190,
    "start_time": "2022-12-11T21:27:23.725Z"
   },
   {
    "duration": 18,
    "start_time": "2022-12-11T21:27:23.917Z"
   },
   {
    "duration": 168,
    "start_time": "2022-12-11T21:27:23.937Z"
   },
   {
    "duration": 43,
    "start_time": "2022-12-11T21:27:24.107Z"
   },
   {
    "duration": 5,
    "start_time": "2022-12-11T21:27:24.153Z"
   },
   {
    "duration": 8,
    "start_time": "2022-12-11T21:27:24.160Z"
   },
   {
    "duration": 6,
    "start_time": "2022-12-11T21:27:24.173Z"
   },
   {
    "duration": 15,
    "start_time": "2022-12-11T21:27:24.268Z"
   },
   {
    "duration": 10,
    "start_time": "2022-12-11T21:27:24.284Z"
   },
   {
    "duration": 401,
    "start_time": "2022-12-11T21:27:24.295Z"
   },
   {
    "duration": 83,
    "start_time": "2022-12-11T21:27:24.698Z"
   },
   {
    "duration": 3,
    "start_time": "2022-12-11T21:27:24.783Z"
   },
   {
    "duration": 6,
    "start_time": "2022-12-11T21:27:24.787Z"
   },
   {
    "duration": 15,
    "start_time": "2022-12-11T21:27:24.795Z"
   },
   {
    "duration": 31,
    "start_time": "2022-12-11T21:27:24.812Z"
   },
   {
    "duration": 62,
    "start_time": "2022-12-11T21:27:24.846Z"
   },
   {
    "duration": 57,
    "start_time": "2022-12-11T21:27:24.910Z"
   },
   {
    "duration": 4,
    "start_time": "2022-12-11T21:27:24.969Z"
   },
   {
    "duration": 8,
    "start_time": "2022-12-11T21:27:24.974Z"
   },
   {
    "duration": 8,
    "start_time": "2022-12-11T21:27:24.983Z"
   },
   {
    "duration": 8,
    "start_time": "2022-12-11T21:27:24.993Z"
   },
   {
    "duration": 640,
    "start_time": "2022-12-11T21:27:25.002Z"
   },
   {
    "duration": 555,
    "start_time": "2022-12-11T21:27:25.645Z"
   },
   {
    "duration": 165,
    "start_time": "2022-12-11T21:27:26.202Z"
   },
   {
    "duration": 1287,
    "start_time": "2022-12-11T21:27:26.368Z"
   },
   {
    "duration": 4,
    "start_time": "2022-12-11T21:27:27.656Z"
   },
   {
    "duration": 8,
    "start_time": "2022-12-11T21:27:27.661Z"
   },
   {
    "duration": 6,
    "start_time": "2022-12-11T21:27:27.670Z"
   },
   {
    "duration": 8,
    "start_time": "2022-12-11T21:27:27.677Z"
   },
   {
    "duration": 6,
    "start_time": "2022-12-11T21:27:27.686Z"
   },
   {
    "duration": 5,
    "start_time": "2022-12-11T21:27:27.693Z"
   },
   {
    "duration": 9,
    "start_time": "2022-12-11T21:27:27.699Z"
   },
   {
    "duration": 1499,
    "start_time": "2022-12-11T21:30:06.472Z"
   },
   {
    "duration": 1308,
    "start_time": "2022-12-11T21:30:07.972Z"
   },
   {
    "duration": 10,
    "start_time": "2022-12-11T21:30:09.281Z"
   },
   {
    "duration": 27,
    "start_time": "2022-12-11T21:30:09.293Z"
   },
   {
    "duration": 31,
    "start_time": "2022-12-11T21:30:09.323Z"
   },
   {
    "duration": 21,
    "start_time": "2022-12-11T21:30:09.356Z"
   },
   {
    "duration": 135,
    "start_time": "2022-12-11T21:30:09.379Z"
   },
   {
    "duration": 133,
    "start_time": "2022-12-11T21:30:09.515Z"
   },
   {
    "duration": 25,
    "start_time": "2022-12-11T21:30:09.651Z"
   },
   {
    "duration": 502,
    "start_time": "2022-12-11T21:30:09.678Z"
   },
   {
    "duration": 226,
    "start_time": "2022-12-11T21:30:10.182Z"
   },
   {
    "duration": 98,
    "start_time": "2022-12-11T21:30:10.409Z"
   },
   {
    "duration": 177,
    "start_time": "2022-12-11T21:30:10.509Z"
   },
   {
    "duration": 441,
    "start_time": "2022-12-11T21:30:10.687Z"
   },
   {
    "duration": 878,
    "start_time": "2022-12-11T21:30:11.129Z"
   },
   {
    "duration": 54,
    "start_time": "2022-12-11T21:30:12.009Z"
   },
   {
    "duration": 36,
    "start_time": "2022-12-11T21:30:12.064Z"
   },
   {
    "duration": 55,
    "start_time": "2022-12-11T21:30:12.102Z"
   },
   {
    "duration": 116,
    "start_time": "2022-12-11T21:30:12.159Z"
   },
   {
    "duration": 97,
    "start_time": "2022-12-11T21:30:12.276Z"
   },
   {
    "duration": 26,
    "start_time": "2022-12-11T21:30:12.375Z"
   },
   {
    "duration": 207,
    "start_time": "2022-12-11T21:30:12.404Z"
   },
   {
    "duration": 15,
    "start_time": "2022-12-11T21:30:12.612Z"
   },
   {
    "duration": 185,
    "start_time": "2022-12-11T21:30:12.629Z"
   },
   {
    "duration": 34,
    "start_time": "2022-12-11T21:30:12.815Z"
   },
   {
    "duration": 27,
    "start_time": "2022-12-11T21:30:12.851Z"
   },
   {
    "duration": 7,
    "start_time": "2022-12-11T21:30:12.880Z"
   },
   {
    "duration": 9,
    "start_time": "2022-12-11T21:30:12.893Z"
   },
   {
    "duration": 15,
    "start_time": "2022-12-11T21:30:12.983Z"
   },
   {
    "duration": 40,
    "start_time": "2022-12-11T21:30:13.000Z"
   },
   {
    "duration": 366,
    "start_time": "2022-12-11T21:30:13.044Z"
   },
   {
    "duration": 79,
    "start_time": "2022-12-11T21:30:13.411Z"
   },
   {
    "duration": 3,
    "start_time": "2022-12-11T21:30:13.491Z"
   },
   {
    "duration": 15,
    "start_time": "2022-12-11T21:30:13.495Z"
   },
   {
    "duration": 22,
    "start_time": "2022-12-11T21:30:13.512Z"
   },
   {
    "duration": 26,
    "start_time": "2022-12-11T21:30:13.535Z"
   },
   {
    "duration": 55,
    "start_time": "2022-12-11T21:30:13.563Z"
   },
   {
    "duration": 59,
    "start_time": "2022-12-11T21:30:13.620Z"
   },
   {
    "duration": 4,
    "start_time": "2022-12-11T21:30:13.681Z"
   },
   {
    "duration": 7,
    "start_time": "2022-12-11T21:30:13.686Z"
   },
   {
    "duration": 7,
    "start_time": "2022-12-11T21:30:13.695Z"
   },
   {
    "duration": 8,
    "start_time": "2022-12-11T21:30:13.704Z"
   },
   {
    "duration": 579,
    "start_time": "2022-12-11T21:30:13.728Z"
   },
   {
    "duration": 591,
    "start_time": "2022-12-11T21:30:14.308Z"
   },
   {
    "duration": 176,
    "start_time": "2022-12-11T21:30:14.901Z"
   },
   {
    "duration": 1382,
    "start_time": "2022-12-11T21:30:15.078Z"
   },
   {
    "duration": 6,
    "start_time": "2022-12-11T21:30:16.462Z"
   },
   {
    "duration": 4,
    "start_time": "2022-12-11T21:30:16.470Z"
   },
   {
    "duration": 7,
    "start_time": "2022-12-11T21:30:16.476Z"
   },
   {
    "duration": 11,
    "start_time": "2022-12-11T21:30:16.485Z"
   },
   {
    "duration": 6,
    "start_time": "2022-12-11T21:30:16.498Z"
   },
   {
    "duration": 6,
    "start_time": "2022-12-11T21:30:16.505Z"
   },
   {
    "duration": 13,
    "start_time": "2022-12-11T21:30:16.512Z"
   },
   {
    "duration": 35,
    "start_time": "2022-12-11T21:30:16.528Z"
   },
   {
    "duration": 1461,
    "start_time": "2022-12-11T21:37:22.974Z"
   },
   {
    "duration": 1144,
    "start_time": "2022-12-11T21:37:24.438Z"
   },
   {
    "duration": 11,
    "start_time": "2022-12-11T21:37:25.584Z"
   },
   {
    "duration": 7,
    "start_time": "2022-12-11T21:37:25.596Z"
   },
   {
    "duration": 7,
    "start_time": "2022-12-11T21:37:25.605Z"
   },
   {
    "duration": 23,
    "start_time": "2022-12-11T21:37:25.613Z"
   },
   {
    "duration": 140,
    "start_time": "2022-12-11T21:37:25.638Z"
   },
   {
    "duration": 92,
    "start_time": "2022-12-11T21:37:25.780Z"
   },
   {
    "duration": 26,
    "start_time": "2022-12-11T21:37:25.874Z"
   },
   {
    "duration": 475,
    "start_time": "2022-12-11T21:37:25.904Z"
   },
   {
    "duration": 201,
    "start_time": "2022-12-11T21:37:26.381Z"
   },
   {
    "duration": 94,
    "start_time": "2022-12-11T21:37:26.584Z"
   },
   {
    "duration": 166,
    "start_time": "2022-12-11T21:37:26.679Z"
   },
   {
    "duration": 424,
    "start_time": "2022-12-11T21:37:26.846Z"
   },
   {
    "duration": 841,
    "start_time": "2022-12-11T21:37:27.271Z"
   },
   {
    "duration": 55,
    "start_time": "2022-12-11T21:37:28.114Z"
   },
   {
    "duration": 3,
    "start_time": "2022-12-11T21:37:28.170Z"
   },
   {
    "duration": 33,
    "start_time": "2022-12-11T21:37:28.174Z"
   },
   {
    "duration": 91,
    "start_time": "2022-12-11T21:37:28.209Z"
   },
   {
    "duration": 97,
    "start_time": "2022-12-11T21:37:28.302Z"
   },
   {
    "duration": 42,
    "start_time": "2022-12-11T21:37:28.401Z"
   },
   {
    "duration": 185,
    "start_time": "2022-12-11T21:37:28.445Z"
   },
   {
    "duration": 7,
    "start_time": "2022-12-11T21:37:28.632Z"
   },
   {
    "duration": 152,
    "start_time": "2022-12-11T21:37:28.640Z"
   },
   {
    "duration": 43,
    "start_time": "2022-12-11T21:37:28.794Z"
   },
   {
    "duration": 5,
    "start_time": "2022-12-11T21:37:28.839Z"
   },
   {
    "duration": 6,
    "start_time": "2022-12-11T21:37:28.845Z"
   },
   {
    "duration": 7,
    "start_time": "2022-12-11T21:37:28.854Z"
   },
   {
    "duration": 15,
    "start_time": "2022-12-11T21:37:28.944Z"
   },
   {
    "duration": 10,
    "start_time": "2022-12-11T21:37:28.960Z"
   },
   {
    "duration": 370,
    "start_time": "2022-12-11T21:37:28.971Z"
   },
   {
    "duration": 63,
    "start_time": "2022-12-11T21:37:29.342Z"
   },
   {
    "duration": 24,
    "start_time": "2022-12-11T21:37:29.407Z"
   },
   {
    "duration": 6,
    "start_time": "2022-12-11T21:37:29.432Z"
   },
   {
    "duration": 14,
    "start_time": "2022-12-11T21:37:29.439Z"
   },
   {
    "duration": 10,
    "start_time": "2022-12-11T21:37:29.454Z"
   },
   {
    "duration": 69,
    "start_time": "2022-12-11T21:37:29.466Z"
   },
   {
    "duration": 51,
    "start_time": "2022-12-11T21:37:29.537Z"
   },
   {
    "duration": 3,
    "start_time": "2022-12-11T21:37:29.590Z"
   },
   {
    "duration": 6,
    "start_time": "2022-12-11T21:37:29.594Z"
   },
   {
    "duration": 8,
    "start_time": "2022-12-11T21:37:29.602Z"
   },
   {
    "duration": 24,
    "start_time": "2022-12-11T21:37:29.611Z"
   },
   {
    "duration": 598,
    "start_time": "2022-12-11T21:37:29.637Z"
   },
   {
    "duration": 567,
    "start_time": "2022-12-11T21:37:30.237Z"
   },
   {
    "duration": 154,
    "start_time": "2022-12-11T21:37:30.805Z"
   },
   {
    "duration": 1242,
    "start_time": "2022-12-11T21:37:30.961Z"
   },
   {
    "duration": 4,
    "start_time": "2022-12-11T21:37:32.205Z"
   },
   {
    "duration": 11,
    "start_time": "2022-12-11T21:37:32.210Z"
   },
   {
    "duration": 11,
    "start_time": "2022-12-11T21:37:32.231Z"
   },
   {
    "duration": 16,
    "start_time": "2022-12-11T21:37:32.244Z"
   },
   {
    "duration": 6,
    "start_time": "2022-12-11T21:37:32.261Z"
   },
   {
    "duration": 7,
    "start_time": "2022-12-11T21:37:32.269Z"
   },
   {
    "duration": 12,
    "start_time": "2022-12-11T21:37:32.277Z"
   },
   {
    "duration": 15,
    "start_time": "2022-12-11T21:37:32.290Z"
   },
   {
    "duration": 45,
    "start_time": "2022-12-11T21:38:26.344Z"
   },
   {
    "duration": 7,
    "start_time": "2022-12-11T21:38:31.842Z"
   },
   {
    "duration": 7,
    "start_time": "2022-12-11T21:38:52.915Z"
   },
   {
    "duration": 9,
    "start_time": "2022-12-11T21:39:05.280Z"
   },
   {
    "duration": 48,
    "start_time": "2022-12-11T21:39:32.732Z"
   },
   {
    "duration": 7,
    "start_time": "2022-12-11T21:39:44.055Z"
   },
   {
    "duration": 1537,
    "start_time": "2022-12-11T21:40:26.600Z"
   },
   {
    "duration": 1026,
    "start_time": "2022-12-11T21:40:32.563Z"
   },
   {
    "duration": 10,
    "start_time": "2022-12-11T21:40:34.073Z"
   },
   {
    "duration": 2,
    "start_time": "2022-12-11T21:40:36.038Z"
   },
   {
    "duration": 3,
    "start_time": "2022-12-11T21:40:37.950Z"
   },
   {
    "duration": 16,
    "start_time": "2022-12-11T21:40:40.199Z"
   },
   {
    "duration": 124,
    "start_time": "2022-12-11T21:40:41.897Z"
   },
   {
    "duration": 85,
    "start_time": "2022-12-11T21:40:44.831Z"
   },
   {
    "duration": 28,
    "start_time": "2022-12-11T21:40:52.999Z"
   },
   {
    "duration": 429,
    "start_time": "2022-12-11T21:41:06.105Z"
   },
   {
    "duration": 181,
    "start_time": "2022-12-11T21:41:14.511Z"
   },
   {
    "duration": 82,
    "start_time": "2022-12-11T21:41:17.353Z"
   },
   {
    "duration": 168,
    "start_time": "2022-12-11T21:41:20.370Z"
   },
   {
    "duration": 405,
    "start_time": "2022-12-11T21:41:21.865Z"
   },
   {
    "duration": 835,
    "start_time": "2022-12-11T21:41:25.215Z"
   },
   {
    "duration": 49,
    "start_time": "2022-12-11T21:41:26.687Z"
   },
   {
    "duration": 2,
    "start_time": "2022-12-11T21:41:34.199Z"
   },
   {
    "duration": 34,
    "start_time": "2022-12-11T21:41:36.006Z"
   },
   {
    "duration": 76,
    "start_time": "2022-12-11T21:41:37.659Z"
   },
   {
    "duration": 86,
    "start_time": "2022-12-11T21:41:40.579Z"
   },
   {
    "duration": 32,
    "start_time": "2022-12-11T21:41:48.542Z"
   },
   {
    "duration": 156,
    "start_time": "2022-12-11T21:41:55.890Z"
   },
   {
    "duration": 6,
    "start_time": "2022-12-11T21:41:58.222Z"
   },
   {
    "duration": 152,
    "start_time": "2022-12-11T21:41:59.352Z"
   },
   {
    "duration": 27,
    "start_time": "2022-12-11T21:42:02.339Z"
   },
   {
    "duration": 7,
    "start_time": "2022-12-11T21:42:05.219Z"
   },
   {
    "duration": 5,
    "start_time": "2022-12-11T21:42:08.638Z"
   },
   {
    "duration": 7,
    "start_time": "2022-12-11T21:42:11.114Z"
   },
   {
    "duration": 15,
    "start_time": "2022-12-11T21:42:15.898Z"
   },
   {
    "duration": 10,
    "start_time": "2022-12-11T21:42:19.261Z"
   },
   {
    "duration": 397,
    "start_time": "2022-12-11T21:42:22.882Z"
   },
   {
    "duration": 61,
    "start_time": "2022-12-11T21:42:36.025Z"
   },
   {
    "duration": 2,
    "start_time": "2022-12-11T21:42:40.883Z"
   },
   {
    "duration": 3,
    "start_time": "2022-12-11T21:42:43.205Z"
   },
   {
    "duration": 12,
    "start_time": "2022-12-11T21:42:48.133Z"
   },
   {
    "duration": 10,
    "start_time": "2022-12-11T21:43:18.349Z"
   },
   {
    "duration": 56,
    "start_time": "2022-12-11T21:43:22.726Z"
   },
   {
    "duration": 50,
    "start_time": "2022-12-11T21:43:26.596Z"
   },
   {
    "duration": 3,
    "start_time": "2022-12-11T21:43:33.177Z"
   },
   {
    "duration": 2,
    "start_time": "2022-12-11T21:43:34.508Z"
   },
   {
    "duration": 6,
    "start_time": "2022-12-11T21:43:41.101Z"
   },
   {
    "duration": 3,
    "start_time": "2022-12-11T21:43:51.252Z"
   },
   {
    "duration": 661,
    "start_time": "2022-12-11T21:44:01.650Z"
   },
   {
    "duration": 533,
    "start_time": "2022-12-11T21:44:08.247Z"
   },
   {
    "duration": 147,
    "start_time": "2022-12-11T21:44:40.870Z"
   },
   {
    "duration": 1236,
    "start_time": "2022-12-11T21:44:46.383Z"
   },
   {
    "duration": 3,
    "start_time": "2022-12-11T21:44:50.159Z"
   },
   {
    "duration": 2,
    "start_time": "2022-12-11T21:45:03.797Z"
   },
   {
    "duration": 3,
    "start_time": "2022-12-11T21:45:11.320Z"
   },
   {
    "duration": 3,
    "start_time": "2022-12-11T21:45:13.020Z"
   },
   {
    "duration": 3,
    "start_time": "2022-12-11T21:45:52.958Z"
   },
   {
    "duration": 3,
    "start_time": "2022-12-11T21:46:31.255Z"
   },
   {
    "duration": 3,
    "start_time": "2022-12-11T21:47:05.070Z"
   },
   {
    "duration": 2,
    "start_time": "2022-12-11T21:47:09.495Z"
   },
   {
    "duration": 87,
    "start_time": "2022-12-11T21:47:23.216Z"
   },
   {
    "duration": 43,
    "start_time": "2022-12-11T21:47:27.240Z"
   },
   {
    "duration": 1445,
    "start_time": "2022-12-11T21:47:45.937Z"
   },
   {
    "duration": 1039,
    "start_time": "2022-12-11T21:47:47.384Z"
   },
   {
    "duration": 10,
    "start_time": "2022-12-11T21:47:48.425Z"
   },
   {
    "duration": 11,
    "start_time": "2022-12-11T21:47:48.437Z"
   },
   {
    "duration": 6,
    "start_time": "2022-12-11T21:47:48.449Z"
   },
   {
    "duration": 25,
    "start_time": "2022-12-11T21:47:48.457Z"
   },
   {
    "duration": 124,
    "start_time": "2022-12-11T21:47:48.483Z"
   },
   {
    "duration": 117,
    "start_time": "2022-12-11T21:47:48.608Z"
   },
   {
    "duration": 25,
    "start_time": "2022-12-11T21:47:48.727Z"
   },
   {
    "duration": 451,
    "start_time": "2022-12-11T21:47:48.754Z"
   },
   {
    "duration": 188,
    "start_time": "2022-12-11T21:47:49.207Z"
   },
   {
    "duration": 88,
    "start_time": "2022-12-11T21:47:49.397Z"
   },
   {
    "duration": 154,
    "start_time": "2022-12-11T21:47:49.486Z"
   },
   {
    "duration": 397,
    "start_time": "2022-12-11T21:47:49.641Z"
   },
   {
    "duration": 779,
    "start_time": "2022-12-11T21:47:50.040Z"
   },
   {
    "duration": 42,
    "start_time": "2022-12-11T21:47:50.821Z"
   },
   {
    "duration": 3,
    "start_time": "2022-12-11T21:47:50.865Z"
   },
   {
    "duration": 43,
    "start_time": "2022-12-11T21:47:50.869Z"
   },
   {
    "duration": 82,
    "start_time": "2022-12-11T21:47:50.913Z"
   },
   {
    "duration": 88,
    "start_time": "2022-12-11T21:47:50.997Z"
   },
   {
    "duration": 35,
    "start_time": "2022-12-11T21:47:51.086Z"
   },
   {
    "duration": 164,
    "start_time": "2022-12-11T21:47:51.123Z"
   },
   {
    "duration": 6,
    "start_time": "2022-12-11T21:47:51.289Z"
   },
   {
    "duration": 158,
    "start_time": "2022-12-11T21:47:51.296Z"
   },
   {
    "duration": 30,
    "start_time": "2022-12-11T21:47:51.456Z"
   },
   {
    "duration": 5,
    "start_time": "2022-12-11T21:47:51.488Z"
   },
   {
    "duration": 28,
    "start_time": "2022-12-11T21:47:51.495Z"
   },
   {
    "duration": 7,
    "start_time": "2022-12-11T21:47:51.526Z"
   },
   {
    "duration": 20,
    "start_time": "2022-12-11T21:47:51.534Z"
   },
   {
    "duration": 12,
    "start_time": "2022-12-11T21:47:51.556Z"
   },
   {
    "duration": 417,
    "start_time": "2022-12-11T21:47:51.570Z"
   },
   {
    "duration": 64,
    "start_time": "2022-12-11T21:47:51.988Z"
   },
   {
    "duration": 2,
    "start_time": "2022-12-11T21:47:52.054Z"
   },
   {
    "duration": 5,
    "start_time": "2022-12-11T21:47:52.058Z"
   },
   {
    "duration": 20,
    "start_time": "2022-12-11T21:47:52.064Z"
   },
   {
    "duration": 10,
    "start_time": "2022-12-11T21:47:52.085Z"
   },
   {
    "duration": 73,
    "start_time": "2022-12-11T21:47:52.096Z"
   },
   {
    "duration": 60,
    "start_time": "2022-12-11T21:47:52.171Z"
   },
   {
    "duration": 3,
    "start_time": "2022-12-11T21:47:52.233Z"
   },
   {
    "duration": 4,
    "start_time": "2022-12-11T21:47:52.238Z"
   },
   {
    "duration": 8,
    "start_time": "2022-12-11T21:47:52.244Z"
   },
   {
    "duration": 3,
    "start_time": "2022-12-11T21:47:52.254Z"
   },
   {
    "duration": 588,
    "start_time": "2022-12-11T21:47:52.258Z"
   },
   {
    "duration": 539,
    "start_time": "2022-12-11T21:47:52.848Z"
   },
   {
    "duration": 137,
    "start_time": "2022-12-11T21:47:53.389Z"
   },
   {
    "duration": 1188,
    "start_time": "2022-12-11T21:47:53.528Z"
   },
   {
    "duration": 5,
    "start_time": "2022-12-11T21:47:54.718Z"
   },
   {
    "duration": 5,
    "start_time": "2022-12-11T21:47:54.725Z"
   },
   {
    "duration": 5,
    "start_time": "2022-12-11T21:47:54.732Z"
   },
   {
    "duration": 5,
    "start_time": "2022-12-11T21:47:54.739Z"
   },
   {
    "duration": 5,
    "start_time": "2022-12-11T21:47:54.745Z"
   },
   {
    "duration": 5,
    "start_time": "2022-12-11T21:47:54.751Z"
   },
   {
    "duration": 5,
    "start_time": "2022-12-11T21:47:54.757Z"
   },
   {
    "duration": 6,
    "start_time": "2022-12-11T21:47:54.763Z"
   },
   {
    "duration": 2,
    "start_time": "2022-12-11T21:48:17.791Z"
   },
   {
    "duration": 1497,
    "start_time": "2022-12-11T21:48:41.413Z"
   },
   {
    "duration": 1054,
    "start_time": "2022-12-11T21:48:42.912Z"
   },
   {
    "duration": 10,
    "start_time": "2022-12-11T21:48:43.968Z"
   },
   {
    "duration": 11,
    "start_time": "2022-12-11T21:48:43.979Z"
   },
   {
    "duration": 6,
    "start_time": "2022-12-11T21:48:43.992Z"
   },
   {
    "duration": 21,
    "start_time": "2022-12-11T21:48:43.999Z"
   },
   {
    "duration": 137,
    "start_time": "2022-12-11T21:48:44.022Z"
   },
   {
    "duration": 93,
    "start_time": "2022-12-11T21:48:44.160Z"
   },
   {
    "duration": 26,
    "start_time": "2022-12-11T21:48:44.255Z"
   },
   {
    "duration": 444,
    "start_time": "2022-12-11T21:48:44.282Z"
   },
   {
    "duration": 192,
    "start_time": "2022-12-11T21:48:44.728Z"
   },
   {
    "duration": 85,
    "start_time": "2022-12-11T21:48:44.921Z"
   },
   {
    "duration": 159,
    "start_time": "2022-12-11T21:48:45.021Z"
   },
   {
    "duration": 449,
    "start_time": "2022-12-11T21:48:45.183Z"
   },
   {
    "duration": 797,
    "start_time": "2022-12-11T21:48:45.633Z"
   },
   {
    "duration": 42,
    "start_time": "2022-12-11T21:48:46.432Z"
   },
   {
    "duration": 2,
    "start_time": "2022-12-11T21:48:46.476Z"
   },
   {
    "duration": 52,
    "start_time": "2022-12-11T21:48:46.480Z"
   },
   {
    "duration": 95,
    "start_time": "2022-12-11T21:48:46.533Z"
   },
   {
    "duration": 92,
    "start_time": "2022-12-11T21:48:46.630Z"
   },
   {
    "duration": 25,
    "start_time": "2022-12-11T21:48:46.724Z"
   },
   {
    "duration": 192,
    "start_time": "2022-12-11T21:48:46.750Z"
   },
   {
    "duration": 6,
    "start_time": "2022-12-11T21:48:46.944Z"
   },
   {
    "duration": 171,
    "start_time": "2022-12-11T21:48:46.951Z"
   },
   {
    "duration": 29,
    "start_time": "2022-12-11T21:48:47.124Z"
   },
   {
    "duration": 6,
    "start_time": "2022-12-11T21:48:47.155Z"
   },
   {
    "duration": 10,
    "start_time": "2022-12-11T21:48:47.163Z"
   },
   {
    "duration": 10,
    "start_time": "2022-12-11T21:48:47.174Z"
   },
   {
    "duration": 44,
    "start_time": "2022-12-11T21:48:47.186Z"
   },
   {
    "duration": 12,
    "start_time": "2022-12-11T21:48:47.232Z"
   },
   {
    "duration": 426,
    "start_time": "2022-12-11T21:48:47.245Z"
   },
   {
    "duration": 62,
    "start_time": "2022-12-11T21:48:47.673Z"
   },
   {
    "duration": 2,
    "start_time": "2022-12-11T21:48:47.737Z"
   },
   {
    "duration": 5,
    "start_time": "2022-12-11T21:48:47.741Z"
   },
   {
    "duration": 18,
    "start_time": "2022-12-11T21:48:47.748Z"
   },
   {
    "duration": 9,
    "start_time": "2022-12-11T21:48:47.768Z"
   },
   {
    "duration": 78,
    "start_time": "2022-12-11T21:48:47.779Z"
   },
   {
    "duration": 53,
    "start_time": "2022-12-11T21:48:47.858Z"
   },
   {
    "duration": 4,
    "start_time": "2022-12-11T21:48:47.920Z"
   },
   {
    "duration": 10,
    "start_time": "2022-12-11T21:48:47.925Z"
   },
   {
    "duration": 10,
    "start_time": "2022-12-11T21:48:47.939Z"
   },
   {
    "duration": 13,
    "start_time": "2022-12-11T21:48:47.950Z"
   },
   {
    "duration": 584,
    "start_time": "2022-12-11T21:48:47.964Z"
   },
   {
    "duration": 549,
    "start_time": "2022-12-11T21:48:48.550Z"
   },
   {
    "duration": 153,
    "start_time": "2022-12-11T21:48:49.101Z"
   },
   {
    "duration": 1201,
    "start_time": "2022-12-11T21:48:49.256Z"
   },
   {
    "duration": 4,
    "start_time": "2022-12-11T21:48:50.459Z"
   },
   {
    "duration": 15,
    "start_time": "2022-12-11T21:48:50.465Z"
   },
   {
    "duration": 5,
    "start_time": "2022-12-11T21:48:50.482Z"
   },
   {
    "duration": 11,
    "start_time": "2022-12-11T21:48:50.489Z"
   },
   {
    "duration": 5,
    "start_time": "2022-12-11T21:48:50.501Z"
   },
   {
    "duration": 11,
    "start_time": "2022-12-11T21:48:50.507Z"
   },
   {
    "duration": 11,
    "start_time": "2022-12-11T21:48:50.520Z"
   },
   {
    "duration": 13,
    "start_time": "2022-12-11T21:48:50.532Z"
   },
   {
    "duration": 89,
    "start_time": "2022-12-11T21:49:19.437Z"
   },
   {
    "duration": 1431,
    "start_time": "2022-12-11T21:49:28.754Z"
   },
   {
    "duration": 1084,
    "start_time": "2022-12-11T21:49:30.186Z"
   },
   {
    "duration": 11,
    "start_time": "2022-12-11T21:49:31.272Z"
   },
   {
    "duration": 22,
    "start_time": "2022-12-11T21:49:31.286Z"
   },
   {
    "duration": 20,
    "start_time": "2022-12-11T21:49:31.310Z"
   },
   {
    "duration": 29,
    "start_time": "2022-12-11T21:49:31.332Z"
   },
   {
    "duration": 150,
    "start_time": "2022-12-11T21:49:31.363Z"
   },
   {
    "duration": 101,
    "start_time": "2022-12-11T21:49:31.514Z"
   },
   {
    "duration": 26,
    "start_time": "2022-12-11T21:49:31.621Z"
   },
   {
    "duration": 435,
    "start_time": "2022-12-11T21:49:31.649Z"
   },
   {
    "duration": 192,
    "start_time": "2022-12-11T21:49:32.086Z"
   },
   {
    "duration": 91,
    "start_time": "2022-12-11T21:49:32.279Z"
   },
   {
    "duration": 158,
    "start_time": "2022-12-11T21:49:32.372Z"
   },
   {
    "duration": 424,
    "start_time": "2022-12-11T21:49:32.532Z"
   },
   {
    "duration": 779,
    "start_time": "2022-12-11T21:49:32.957Z"
   },
   {
    "duration": 43,
    "start_time": "2022-12-11T21:49:33.737Z"
   },
   {
    "duration": 4,
    "start_time": "2022-12-11T21:49:33.781Z"
   },
   {
    "duration": 47,
    "start_time": "2022-12-11T21:49:33.786Z"
   },
   {
    "duration": 88,
    "start_time": "2022-12-11T21:49:33.835Z"
   },
   {
    "duration": 82,
    "start_time": "2022-12-11T21:49:33.926Z"
   },
   {
    "duration": 25,
    "start_time": "2022-12-11T21:49:34.022Z"
   },
   {
    "duration": 180,
    "start_time": "2022-12-11T21:49:34.049Z"
   },
   {
    "duration": 8,
    "start_time": "2022-12-11T21:49:34.231Z"
   },
   {
    "duration": 158,
    "start_time": "2022-12-11T21:49:34.240Z"
   },
   {
    "duration": 39,
    "start_time": "2022-12-11T21:49:34.400Z"
   },
   {
    "duration": 7,
    "start_time": "2022-12-11T21:49:34.441Z"
   },
   {
    "duration": 6,
    "start_time": "2022-12-11T21:49:34.449Z"
   },
   {
    "duration": 7,
    "start_time": "2022-12-11T21:49:34.458Z"
   },
   {
    "duration": 15,
    "start_time": "2022-12-11T21:49:34.558Z"
   },
   {
    "duration": 10,
    "start_time": "2022-12-11T21:49:34.575Z"
   },
   {
    "duration": 357,
    "start_time": "2022-12-11T21:49:34.586Z"
   },
   {
    "duration": 61,
    "start_time": "2022-12-11T21:49:34.945Z"
   },
   {
    "duration": 13,
    "start_time": "2022-12-11T21:49:35.008Z"
   },
   {
    "duration": 6,
    "start_time": "2022-12-11T21:49:35.023Z"
   },
   {
    "duration": 22,
    "start_time": "2022-12-11T21:49:35.030Z"
   },
   {
    "duration": 14,
    "start_time": "2022-12-11T21:49:35.053Z"
   },
   {
    "duration": 76,
    "start_time": "2022-12-11T21:49:35.068Z"
   },
   {
    "duration": 48,
    "start_time": "2022-12-11T21:49:35.146Z"
   },
   {
    "duration": 4,
    "start_time": "2022-12-11T21:49:35.196Z"
   },
   {
    "duration": 6,
    "start_time": "2022-12-11T21:49:35.201Z"
   },
   {
    "duration": 10,
    "start_time": "2022-12-11T21:49:35.221Z"
   },
   {
    "duration": 11,
    "start_time": "2022-12-11T21:49:35.233Z"
   },
   {
    "duration": 581,
    "start_time": "2022-12-11T21:49:35.245Z"
   },
   {
    "duration": 537,
    "start_time": "2022-12-11T21:49:35.828Z"
   },
   {
    "duration": 145,
    "start_time": "2022-12-11T21:49:36.366Z"
   },
   {
    "duration": 1217,
    "start_time": "2022-12-11T21:49:36.512Z"
   },
   {
    "duration": 4,
    "start_time": "2022-12-11T21:49:37.731Z"
   },
   {
    "duration": 25,
    "start_time": "2022-12-11T21:49:37.736Z"
   },
   {
    "duration": 19,
    "start_time": "2022-12-11T21:49:37.762Z"
   },
   {
    "duration": 32,
    "start_time": "2022-12-11T21:49:37.783Z"
   },
   {
    "duration": 16,
    "start_time": "2022-12-11T21:49:37.816Z"
   },
   {
    "duration": 16,
    "start_time": "2022-12-11T21:49:37.833Z"
   },
   {
    "duration": 20,
    "start_time": "2022-12-11T21:49:37.851Z"
   },
   {
    "duration": 15,
    "start_time": "2022-12-11T21:49:37.872Z"
   },
   {
    "duration": 115,
    "start_time": "2022-12-11T22:01:17.456Z"
   },
   {
    "duration": 8,
    "start_time": "2022-12-11T22:01:28.982Z"
   },
   {
    "duration": 1456,
    "start_time": "2022-12-11T22:01:42.746Z"
   },
   {
    "duration": 1011,
    "start_time": "2022-12-11T22:01:44.204Z"
   },
   {
    "duration": 10,
    "start_time": "2022-12-11T22:01:45.217Z"
   },
   {
    "duration": 12,
    "start_time": "2022-12-11T22:01:45.230Z"
   },
   {
    "duration": 15,
    "start_time": "2022-12-11T22:01:45.244Z"
   },
   {
    "duration": 30,
    "start_time": "2022-12-11T22:01:45.261Z"
   },
   {
    "duration": 137,
    "start_time": "2022-12-11T22:01:45.293Z"
   },
   {
    "duration": 123,
    "start_time": "2022-12-11T22:01:45.431Z"
   },
   {
    "duration": 24,
    "start_time": "2022-12-11T22:01:45.556Z"
   },
   {
    "duration": 451,
    "start_time": "2022-12-11T22:01:45.582Z"
   },
   {
    "duration": 191,
    "start_time": "2022-12-11T22:01:46.035Z"
   },
   {
    "duration": 82,
    "start_time": "2022-12-11T22:01:46.228Z"
   },
   {
    "duration": 156,
    "start_time": "2022-12-11T22:01:46.311Z"
   },
   {
    "duration": 424,
    "start_time": "2022-12-11T22:01:46.469Z"
   },
   {
    "duration": 782,
    "start_time": "2022-12-11T22:01:46.895Z"
   },
   {
    "duration": 52,
    "start_time": "2022-12-11T22:01:47.678Z"
   },
   {
    "duration": 3,
    "start_time": "2022-12-11T22:01:47.731Z"
   },
   {
    "duration": 35,
    "start_time": "2022-12-11T22:01:47.736Z"
   },
   {
    "duration": 91,
    "start_time": "2022-12-11T22:01:47.773Z"
   },
   {
    "duration": 91,
    "start_time": "2022-12-11T22:01:47.866Z"
   },
   {
    "duration": 24,
    "start_time": "2022-12-11T22:01:47.958Z"
   },
   {
    "duration": 175,
    "start_time": "2022-12-11T22:01:47.984Z"
   },
   {
    "duration": 6,
    "start_time": "2022-12-11T22:01:48.161Z"
   },
   {
    "duration": 162,
    "start_time": "2022-12-11T22:01:48.168Z"
   },
   {
    "duration": 29,
    "start_time": "2022-12-11T22:01:48.332Z"
   },
   {
    "duration": 5,
    "start_time": "2022-12-11T22:01:48.363Z"
   },
   {
    "duration": 8,
    "start_time": "2022-12-11T22:01:48.370Z"
   },
   {
    "duration": 7,
    "start_time": "2022-12-11T22:01:48.382Z"
   },
   {
    "duration": 41,
    "start_time": "2022-12-11T22:01:48.391Z"
   },
   {
    "duration": 11,
    "start_time": "2022-12-11T22:01:48.434Z"
   },
   {
    "duration": 428,
    "start_time": "2022-12-11T22:01:48.446Z"
   },
   {
    "duration": 68,
    "start_time": "2022-12-11T22:01:48.876Z"
   },
   {
    "duration": 6,
    "start_time": "2022-12-11T22:01:48.946Z"
   },
   {
    "duration": 8,
    "start_time": "2022-12-11T22:01:48.953Z"
   },
   {
    "duration": 24,
    "start_time": "2022-12-11T22:01:48.963Z"
   },
   {
    "duration": 12,
    "start_time": "2022-12-11T22:01:48.989Z"
   },
   {
    "duration": 73,
    "start_time": "2022-12-11T22:01:49.003Z"
   },
   {
    "duration": 58,
    "start_time": "2022-12-11T22:01:49.078Z"
   },
   {
    "duration": 3,
    "start_time": "2022-12-11T22:01:49.138Z"
   },
   {
    "duration": 7,
    "start_time": "2022-12-11T22:01:49.142Z"
   },
   {
    "duration": 9,
    "start_time": "2022-12-11T22:01:49.150Z"
   },
   {
    "duration": 4,
    "start_time": "2022-12-11T22:01:49.160Z"
   },
   {
    "duration": 568,
    "start_time": "2022-12-11T22:01:49.165Z"
   },
   {
    "duration": 532,
    "start_time": "2022-12-11T22:01:49.734Z"
   },
   {
    "duration": 142,
    "start_time": "2022-12-11T22:01:50.268Z"
   },
   {
    "duration": 1202,
    "start_time": "2022-12-11T22:01:50.412Z"
   },
   {
    "duration": 6,
    "start_time": "2022-12-11T22:01:51.616Z"
   },
   {
    "duration": 6,
    "start_time": "2022-12-11T22:01:51.624Z"
   },
   {
    "duration": 7,
    "start_time": "2022-12-11T22:01:51.632Z"
   },
   {
    "duration": 6,
    "start_time": "2022-12-11T22:01:51.640Z"
   },
   {
    "duration": 6,
    "start_time": "2022-12-11T22:01:51.647Z"
   },
   {
    "duration": 5,
    "start_time": "2022-12-11T22:01:51.654Z"
   },
   {
    "duration": 3,
    "start_time": "2022-12-11T22:02:24.353Z"
   },
   {
    "duration": 3,
    "start_time": "2022-12-11T22:02:34.729Z"
   },
   {
    "duration": 1490,
    "start_time": "2022-12-11T22:26:46.808Z"
   },
   {
    "duration": 1033,
    "start_time": "2022-12-11T22:26:48.300Z"
   },
   {
    "duration": 11,
    "start_time": "2022-12-11T22:26:49.334Z"
   },
   {
    "duration": 14,
    "start_time": "2022-12-11T22:26:49.346Z"
   },
   {
    "duration": 10,
    "start_time": "2022-12-11T22:26:49.361Z"
   },
   {
    "duration": 27,
    "start_time": "2022-12-11T22:26:49.373Z"
   },
   {
    "duration": 144,
    "start_time": "2022-12-11T22:26:49.402Z"
   },
   {
    "duration": 90,
    "start_time": "2022-12-11T22:26:49.548Z"
   },
   {
    "duration": 24,
    "start_time": "2022-12-11T22:26:49.640Z"
   },
   {
    "duration": 422,
    "start_time": "2022-12-11T22:26:49.667Z"
   },
   {
    "duration": 187,
    "start_time": "2022-12-11T22:26:50.091Z"
   },
   {
    "duration": 84,
    "start_time": "2022-12-11T22:26:50.280Z"
   },
   {
    "duration": 161,
    "start_time": "2022-12-11T22:26:50.365Z"
   },
   {
    "duration": 407,
    "start_time": "2022-12-11T22:26:50.528Z"
   },
   {
    "duration": 789,
    "start_time": "2022-12-11T22:26:50.937Z"
   },
   {
    "duration": 42,
    "start_time": "2022-12-11T22:26:51.727Z"
   },
   {
    "duration": 3,
    "start_time": "2022-12-11T22:26:51.771Z"
   },
   {
    "duration": 47,
    "start_time": "2022-12-11T22:26:51.775Z"
   },
   {
    "duration": 76,
    "start_time": "2022-12-11T22:26:51.824Z"
   },
   {
    "duration": 95,
    "start_time": "2022-12-11T22:26:51.901Z"
   },
   {
    "duration": 33,
    "start_time": "2022-12-11T22:26:51.998Z"
   },
   {
    "duration": 166,
    "start_time": "2022-12-11T22:26:52.033Z"
   },
   {
    "duration": 6,
    "start_time": "2022-12-11T22:26:52.201Z"
   },
   {
    "duration": 160,
    "start_time": "2022-12-11T22:26:52.208Z"
   },
   {
    "duration": 27,
    "start_time": "2022-12-11T22:26:52.370Z"
   },
   {
    "duration": 5,
    "start_time": "2022-12-11T22:26:52.399Z"
   },
   {
    "duration": 5,
    "start_time": "2022-12-11T22:26:52.422Z"
   },
   {
    "duration": 8,
    "start_time": "2022-12-11T22:26:52.430Z"
   },
   {
    "duration": 17,
    "start_time": "2022-12-11T22:26:52.522Z"
   },
   {
    "duration": 15,
    "start_time": "2022-12-11T22:26:52.541Z"
   },
   {
    "duration": 376,
    "start_time": "2022-12-11T22:26:52.558Z"
   },
   {
    "duration": 61,
    "start_time": "2022-12-11T22:26:52.936Z"
   },
   {
    "duration": 3,
    "start_time": "2022-12-11T22:26:52.999Z"
   },
   {
    "duration": 2,
    "start_time": "2022-12-11T22:26:53.021Z"
   },
   {
    "duration": 24,
    "start_time": "2022-12-11T22:26:53.024Z"
   },
   {
    "duration": 10,
    "start_time": "2022-12-11T22:26:53.050Z"
   },
   {
    "duration": 60,
    "start_time": "2022-12-11T22:26:53.061Z"
   },
   {
    "duration": 49,
    "start_time": "2022-12-11T22:26:53.123Z"
   },
   {
    "duration": 4,
    "start_time": "2022-12-11T22:26:53.173Z"
   },
   {
    "duration": 4,
    "start_time": "2022-12-11T22:26:53.179Z"
   },
   {
    "duration": 10,
    "start_time": "2022-12-11T22:26:53.185Z"
   },
   {
    "duration": 4,
    "start_time": "2022-12-11T22:26:53.197Z"
   },
   {
    "duration": 558,
    "start_time": "2022-12-11T22:26:53.221Z"
   },
   {
    "duration": 535,
    "start_time": "2022-12-11T22:26:53.781Z"
   },
   {
    "duration": 142,
    "start_time": "2022-12-11T22:26:54.320Z"
   },
   {
    "duration": 1244,
    "start_time": "2022-12-11T22:26:54.464Z"
   },
   {
    "duration": 4,
    "start_time": "2022-12-11T22:26:55.710Z"
   },
   {
    "duration": 3,
    "start_time": "2022-12-11T22:26:55.721Z"
   },
   {
    "duration": 18,
    "start_time": "2022-12-11T22:26:55.725Z"
   },
   {
    "duration": 15,
    "start_time": "2022-12-11T22:26:55.745Z"
   },
   {
    "duration": 7,
    "start_time": "2022-12-11T22:26:55.761Z"
   },
   {
    "duration": 8,
    "start_time": "2022-12-11T22:26:55.769Z"
   },
   {
    "duration": 8,
    "start_time": "2022-12-11T22:26:55.778Z"
   },
   {
    "duration": 11,
    "start_time": "2022-12-11T22:26:55.787Z"
   },
   {
    "duration": 1751,
    "start_time": "2022-12-12T07:11:49.770Z"
   },
   {
    "duration": 1115,
    "start_time": "2022-12-12T07:11:51.523Z"
   },
   {
    "duration": 11,
    "start_time": "2022-12-12T07:11:52.640Z"
   },
   {
    "duration": 24,
    "start_time": "2022-12-12T07:11:52.653Z"
   },
   {
    "duration": 19,
    "start_time": "2022-12-12T07:11:52.679Z"
   },
   {
    "duration": 29,
    "start_time": "2022-12-12T07:11:52.700Z"
   },
   {
    "duration": 136,
    "start_time": "2022-12-12T07:11:52.730Z"
   },
   {
    "duration": 99,
    "start_time": "2022-12-12T07:11:52.868Z"
   },
   {
    "duration": 25,
    "start_time": "2022-12-12T07:11:52.969Z"
   },
   {
    "duration": 442,
    "start_time": "2022-12-12T07:11:52.996Z"
   },
   {
    "duration": 196,
    "start_time": "2022-12-12T07:11:53.440Z"
   },
   {
    "duration": 86,
    "start_time": "2022-12-12T07:11:53.637Z"
   },
   {
    "duration": 179,
    "start_time": "2022-12-12T07:11:53.735Z"
   },
   {
    "duration": 409,
    "start_time": "2022-12-12T07:11:53.916Z"
   },
   {
    "duration": 786,
    "start_time": "2022-12-12T07:11:54.326Z"
   },
   {
    "duration": 44,
    "start_time": "2022-12-12T07:11:55.113Z"
   },
   {
    "duration": 3,
    "start_time": "2022-12-12T07:11:55.158Z"
   },
   {
    "duration": 49,
    "start_time": "2022-12-12T07:11:55.163Z"
   },
   {
    "duration": 84,
    "start_time": "2022-12-12T07:11:55.214Z"
   },
   {
    "duration": 97,
    "start_time": "2022-12-12T07:11:55.300Z"
   },
   {
    "duration": 37,
    "start_time": "2022-12-12T07:11:55.399Z"
   },
   {
    "duration": 177,
    "start_time": "2022-12-12T07:11:55.438Z"
   },
   {
    "duration": 7,
    "start_time": "2022-12-12T07:11:55.617Z"
   },
   {
    "duration": 155,
    "start_time": "2022-12-12T07:11:55.635Z"
   },
   {
    "duration": 28,
    "start_time": "2022-12-12T07:11:55.791Z"
   },
   {
    "duration": 16,
    "start_time": "2022-12-12T07:11:55.820Z"
   },
   {
    "duration": 4,
    "start_time": "2022-12-12T07:11:55.838Z"
   },
   {
    "duration": 10,
    "start_time": "2022-12-12T07:11:55.846Z"
   },
   {
    "duration": 16,
    "start_time": "2022-12-12T07:11:55.937Z"
   },
   {
    "duration": 10,
    "start_time": "2022-12-12T07:11:55.954Z"
   },
   {
    "duration": 376,
    "start_time": "2022-12-12T07:11:55.965Z"
   },
   {
    "duration": 63,
    "start_time": "2022-12-12T07:11:56.343Z"
   },
   {
    "duration": 2,
    "start_time": "2022-12-12T07:11:56.408Z"
   },
   {
    "duration": 23,
    "start_time": "2022-12-12T07:11:56.412Z"
   },
   {
    "duration": 15,
    "start_time": "2022-12-12T07:11:56.437Z"
   },
   {
    "duration": 9,
    "start_time": "2022-12-12T07:11:56.454Z"
   },
   {
    "duration": 70,
    "start_time": "2022-12-12T07:11:56.465Z"
   },
   {
    "duration": 48,
    "start_time": "2022-12-12T07:11:56.537Z"
   },
   {
    "duration": 4,
    "start_time": "2022-12-12T07:11:56.587Z"
   },
   {
    "duration": 10,
    "start_time": "2022-12-12T07:11:56.592Z"
   },
   {
    "duration": 10,
    "start_time": "2022-12-12T07:11:56.603Z"
   },
   {
    "duration": 21,
    "start_time": "2022-12-12T07:11:56.614Z"
   },
   {
    "duration": 613,
    "start_time": "2022-12-12T07:11:56.637Z"
   },
   {
    "duration": 551,
    "start_time": "2022-12-12T07:11:57.252Z"
   },
   {
    "duration": 155,
    "start_time": "2022-12-12T07:11:57.805Z"
   },
   {
    "duration": 1261,
    "start_time": "2022-12-12T07:11:57.962Z"
   },
   {
    "duration": 11,
    "start_time": "2022-12-12T07:11:59.225Z"
   },
   {
    "duration": 15,
    "start_time": "2022-12-12T07:11:59.238Z"
   },
   {
    "duration": 31,
    "start_time": "2022-12-12T07:11:59.255Z"
   },
   {
    "duration": 20,
    "start_time": "2022-12-12T07:11:59.288Z"
   },
   {
    "duration": 28,
    "start_time": "2022-12-12T07:11:59.310Z"
   },
   {
    "duration": 17,
    "start_time": "2022-12-12T07:11:59.339Z"
   },
   {
    "duration": 11,
    "start_time": "2022-12-12T07:11:59.358Z"
   },
   {
    "duration": 19,
    "start_time": "2022-12-12T07:11:59.370Z"
   },
   {
    "duration": 199323,
    "start_time": "2022-12-12T07:11:59.390Z"
   },
   {
    "duration": 2196,
    "start_time": "2022-12-12T07:15:18.714Z"
   },
   {
    "duration": 623,
    "start_time": "2022-12-12T07:15:20.912Z"
   },
   {
    "duration": 4,
    "start_time": "2022-12-12T07:15:21.537Z"
   },
   {
    "duration": 17,
    "start_time": "2022-12-12T07:15:21.543Z"
   },
   {
    "duration": 4683,
    "start_time": "2022-12-12T07:15:21.562Z"
   },
   {
    "duration": 51604,
    "start_time": "2022-12-12T07:15:26.247Z"
   },
   {
    "duration": 387,
    "start_time": "2022-12-12T07:16:17.853Z"
   },
   {
    "duration": 99,
    "start_time": "2022-12-12T07:16:18.241Z"
   },
   {
    "duration": 108025,
    "start_time": "2022-12-12T07:16:18.341Z"
   },
   {
    "duration": 475,
    "start_time": "2022-12-12T07:18:06.368Z"
   },
   {
    "duration": 194,
    "start_time": "2022-12-12T07:18:06.845Z"
   },
   {
    "duration": 17,
    "start_time": "2022-12-12T07:18:07.041Z"
   },
   {
    "duration": 75,
    "start_time": "2022-12-12T07:18:07.060Z"
   },
   {
    "duration": 14,
    "start_time": "2022-12-12T07:18:07.137Z"
   },
   {
    "duration": 20,
    "start_time": "2022-12-12T07:18:07.153Z"
   },
   {
    "duration": 817,
    "start_time": "2022-12-12T07:18:07.175Z"
   },
   {
    "duration": 11,
    "start_time": "2022-12-12T07:18:07.994Z"
   },
   {
    "duration": 107,
    "start_time": "2022-12-12T07:18:08.007Z"
   },
   {
    "duration": 3,
    "start_time": "2022-12-12T07:18:08.116Z"
   },
   {
    "duration": 36,
    "start_time": "2022-12-12T07:18:08.120Z"
   },
   {
    "duration": 5593,
    "start_time": "2022-12-12T07:18:08.159Z"
   },
   {
    "duration": 802,
    "start_time": "2022-12-12T07:18:13.835Z"
   },
   {
    "duration": 298,
    "start_time": "2022-12-12T07:18:14.638Z"
   },
   {
    "duration": 6,
    "start_time": "2022-12-12T07:18:14.939Z"
   },
   {
    "duration": 27,
    "start_time": "2022-12-12T07:18:14.947Z"
   },
   {
    "duration": 115,
    "start_time": "2022-12-12T07:18:14.976Z"
   },
   {
    "duration": 4,
    "start_time": "2022-12-12T07:18:15.097Z"
   },
   {
    "duration": 323,
    "start_time": "2022-12-12T07:18:15.102Z"
   },
   {
    "duration": 10,
    "start_time": "2022-12-12T07:18:15.426Z"
   },
   {
    "duration": 69740,
    "start_time": "2022-12-12T07:18:15.438Z"
   },
   {
    "duration": 1239,
    "start_time": "2022-12-12T07:19:25.180Z"
   },
   {
    "duration": 452,
    "start_time": "2022-12-12T07:19:26.421Z"
   },
   {
    "duration": 4,
    "start_time": "2022-12-12T07:19:26.875Z"
   },
   {
    "duration": 62173,
    "start_time": "2022-12-12T07:19:26.881Z"
   },
   {
    "duration": 711,
    "start_time": "2022-12-12T07:20:29.056Z"
   },
   {
    "duration": 249,
    "start_time": "2022-12-12T07:20:29.769Z"
   },
   {
    "duration": 4,
    "start_time": "2022-12-12T07:20:30.020Z"
   },
   {
    "duration": 14,
    "start_time": "2022-12-12T07:20:30.035Z"
   },
   {
    "duration": 636,
    "start_time": "2022-12-12T07:20:30.051Z"
   },
   {
    "duration": 148,
    "start_time": "2022-12-12T07:20:30.689Z"
   },
   {
    "duration": 302,
    "start_time": "2022-12-12T07:20:30.839Z"
   },
   {
    "duration": 272,
    "start_time": "2022-12-12T07:20:31.143Z"
   },
   {
    "duration": 8,
    "start_time": "2022-12-12T07:20:31.417Z"
   },
   {
    "duration": 49,
    "start_time": "2022-12-12T07:20:31.434Z"
   },
   {
    "duration": 41,
    "start_time": "2022-12-12T07:20:31.485Z"
   },
   {
    "duration": 4,
    "start_time": "2022-12-12T07:22:34.250Z"
   },
   {
    "duration": 9,
    "start_time": "2022-12-12T07:22:40.108Z"
   },
   {
    "duration": 43,
    "start_time": "2022-12-12T07:24:41.181Z"
   },
   {
    "duration": 14,
    "start_time": "2022-12-12T07:24:57.934Z"
   },
   {
    "duration": 9,
    "start_time": "2022-12-12T07:25:07.526Z"
   },
   {
    "duration": 10,
    "start_time": "2022-12-12T07:25:23.862Z"
   },
   {
    "duration": 10,
    "start_time": "2022-12-12T07:25:42.222Z"
   },
   {
    "duration": 8,
    "start_time": "2022-12-12T07:29:30.904Z"
   },
   {
    "duration": 5,
    "start_time": "2022-12-12T07:32:08.712Z"
   },
   {
    "duration": 9,
    "start_time": "2022-12-12T07:32:13.735Z"
   },
   {
    "duration": 4,
    "start_time": "2022-12-12T07:32:25.527Z"
   },
   {
    "duration": 10,
    "start_time": "2022-12-12T07:32:27.783Z"
   },
   {
    "duration": 2,
    "start_time": "2022-12-12T07:35:22.012Z"
   },
   {
    "duration": 2,
    "start_time": "2022-12-12T07:35:26.072Z"
   },
   {
    "duration": 2,
    "start_time": "2022-12-12T07:35:29.760Z"
   },
   {
    "duration": 9,
    "start_time": "2022-12-12T07:35:59.575Z"
   },
   {
    "duration": 5,
    "start_time": "2022-12-12T07:37:29.265Z"
   },
   {
    "duration": 12,
    "start_time": "2022-12-12T07:37:32.545Z"
   },
   {
    "duration": 118,
    "start_time": "2022-12-12T07:39:03.178Z"
   },
   {
    "duration": 8,
    "start_time": "2022-12-12T07:39:33.956Z"
   },
   {
    "duration": 10,
    "start_time": "2022-12-12T07:39:38.697Z"
   },
   {
    "duration": 6,
    "start_time": "2022-12-12T07:40:13.297Z"
   },
   {
    "duration": 15,
    "start_time": "2022-12-12T07:40:16.122Z"
   },
   {
    "duration": 3,
    "start_time": "2022-12-12T07:40:56.570Z"
   },
   {
    "duration": 1649,
    "start_time": "2022-12-12T07:42:02.572Z"
   },
   {
    "duration": 918,
    "start_time": "2022-12-12T07:42:04.224Z"
   },
   {
    "duration": 13,
    "start_time": "2022-12-12T07:42:05.145Z"
   },
   {
    "duration": 27,
    "start_time": "2022-12-12T07:42:05.160Z"
   },
   {
    "duration": 29,
    "start_time": "2022-12-12T07:42:05.189Z"
   },
   {
    "duration": 42,
    "start_time": "2022-12-12T07:42:05.220Z"
   },
   {
    "duration": 153,
    "start_time": "2022-12-12T07:42:05.264Z"
   },
   {
    "duration": 105,
    "start_time": "2022-12-12T07:42:05.420Z"
   },
   {
    "duration": 37,
    "start_time": "2022-12-12T07:42:05.527Z"
   },
   {
    "duration": 529,
    "start_time": "2022-12-12T07:42:05.567Z"
   },
   {
    "duration": 238,
    "start_time": "2022-12-12T07:42:06.098Z"
   },
   {
    "duration": 114,
    "start_time": "2022-12-12T07:42:06.338Z"
   },
   {
    "duration": 186,
    "start_time": "2022-12-12T07:42:06.454Z"
   },
   {
    "duration": 501,
    "start_time": "2022-12-12T07:42:06.642Z"
   },
   {
    "duration": 927,
    "start_time": "2022-12-12T07:42:07.145Z"
   },
   {
    "duration": 43,
    "start_time": "2022-12-12T07:42:08.074Z"
   },
   {
    "duration": 17,
    "start_time": "2022-12-12T07:42:08.118Z"
   },
   {
    "duration": 44,
    "start_time": "2022-12-12T07:42:08.137Z"
   },
   {
    "duration": 122,
    "start_time": "2022-12-12T07:42:08.184Z"
   },
   {
    "duration": 95,
    "start_time": "2022-12-12T07:42:08.308Z"
   },
   {
    "duration": 38,
    "start_time": "2022-12-12T07:42:08.405Z"
   },
   {
    "duration": 194,
    "start_time": "2022-12-12T07:42:08.445Z"
   },
   {
    "duration": 9,
    "start_time": "2022-12-12T07:42:08.641Z"
   },
   {
    "duration": 187,
    "start_time": "2022-12-12T07:42:08.651Z"
   },
   {
    "duration": 31,
    "start_time": "2022-12-12T07:42:08.839Z"
   },
   {
    "duration": 5,
    "start_time": "2022-12-12T07:42:08.872Z"
   },
   {
    "duration": 12,
    "start_time": "2022-12-12T07:42:08.879Z"
   },
   {
    "duration": 24,
    "start_time": "2022-12-12T07:42:08.895Z"
   },
   {
    "duration": 16,
    "start_time": "2022-12-12T07:42:09.008Z"
   },
   {
    "duration": 20,
    "start_time": "2022-12-12T07:42:09.025Z"
   },
   {
    "duration": 398,
    "start_time": "2022-12-12T07:42:09.047Z"
   },
   {
    "duration": 71,
    "start_time": "2022-12-12T07:42:09.447Z"
   },
   {
    "duration": 15,
    "start_time": "2022-12-12T07:42:09.520Z"
   },
   {
    "duration": 2,
    "start_time": "2022-12-12T07:42:09.537Z"
   },
   {
    "duration": 28,
    "start_time": "2022-12-12T07:42:09.541Z"
   },
   {
    "duration": 11,
    "start_time": "2022-12-12T07:42:09.571Z"
   },
   {
    "duration": 73,
    "start_time": "2022-12-12T07:42:09.584Z"
   },
   {
    "duration": 53,
    "start_time": "2022-12-12T07:42:09.659Z"
   },
   {
    "duration": 5,
    "start_time": "2022-12-12T07:42:09.714Z"
   },
   {
    "duration": 21,
    "start_time": "2022-12-12T07:42:09.720Z"
   },
   {
    "duration": 12,
    "start_time": "2022-12-12T07:42:09.743Z"
   },
   {
    "duration": 4,
    "start_time": "2022-12-12T07:42:09.756Z"
   },
   {
    "duration": 638,
    "start_time": "2022-12-12T07:42:09.762Z"
   },
   {
    "duration": 560,
    "start_time": "2022-12-12T07:42:10.402Z"
   },
   {
    "duration": 158,
    "start_time": "2022-12-12T07:42:10.964Z"
   },
   {
    "duration": 1339,
    "start_time": "2022-12-12T07:42:11.124Z"
   },
   {
    "duration": 5,
    "start_time": "2022-12-12T07:42:12.464Z"
   },
   {
    "duration": 17,
    "start_time": "2022-12-12T07:42:12.471Z"
   },
   {
    "duration": 14,
    "start_time": "2022-12-12T07:42:12.491Z"
   },
   {
    "duration": 12,
    "start_time": "2022-12-12T07:42:12.507Z"
   },
   {
    "duration": 8,
    "start_time": "2022-12-12T07:42:12.521Z"
   },
   {
    "duration": 12,
    "start_time": "2022-12-12T07:42:12.531Z"
   },
   {
    "duration": 12,
    "start_time": "2022-12-12T07:42:12.545Z"
   },
   {
    "duration": 7,
    "start_time": "2022-12-12T07:42:12.559Z"
   },
   {
    "duration": 200876,
    "start_time": "2022-12-12T07:42:12.569Z"
   },
   {
    "duration": 2162,
    "start_time": "2022-12-12T07:45:33.447Z"
   },
   {
    "duration": 936,
    "start_time": "2022-12-12T07:45:35.610Z"
   },
   {
    "duration": 4,
    "start_time": "2022-12-12T07:45:36.548Z"
   },
   {
    "duration": 26,
    "start_time": "2022-12-12T07:45:36.554Z"
   },
   {
    "duration": 5168,
    "start_time": "2022-12-12T07:45:36.582Z"
   },
   {
    "duration": 1625,
    "start_time": "2022-12-12T07:46:30.841Z"
   },
   {
    "duration": 886,
    "start_time": "2022-12-12T07:46:32.469Z"
   },
   {
    "duration": 11,
    "start_time": "2022-12-12T07:46:33.357Z"
   },
   {
    "duration": 13,
    "start_time": "2022-12-12T07:46:33.370Z"
   },
   {
    "duration": 7,
    "start_time": "2022-12-12T07:46:33.384Z"
   },
   {
    "duration": 24,
    "start_time": "2022-12-12T07:46:33.393Z"
   },
   {
    "duration": 141,
    "start_time": "2022-12-12T07:46:33.418Z"
   },
   {
    "duration": 109,
    "start_time": "2022-12-12T07:46:33.561Z"
   },
   {
    "duration": 27,
    "start_time": "2022-12-12T07:46:33.672Z"
   },
   {
    "duration": 472,
    "start_time": "2022-12-12T07:46:33.702Z"
   },
   {
    "duration": 204,
    "start_time": "2022-12-12T07:46:34.176Z"
   },
   {
    "duration": 100,
    "start_time": "2022-12-12T07:46:34.382Z"
   },
   {
    "duration": 181,
    "start_time": "2022-12-12T07:46:34.484Z"
   },
   {
    "duration": 459,
    "start_time": "2022-12-12T07:46:34.667Z"
   },
   {
    "duration": 894,
    "start_time": "2022-12-12T07:46:35.127Z"
   },
   {
    "duration": 50,
    "start_time": "2022-12-12T07:46:36.022Z"
   },
   {
    "duration": 3,
    "start_time": "2022-12-12T07:46:36.074Z"
   },
   {
    "duration": 48,
    "start_time": "2022-12-12T07:46:36.078Z"
   },
   {
    "duration": 94,
    "start_time": "2022-12-12T07:46:36.128Z"
   },
   {
    "duration": 93,
    "start_time": "2022-12-12T07:46:36.235Z"
   },
   {
    "duration": 26,
    "start_time": "2022-12-12T07:46:36.336Z"
   },
   {
    "duration": 200,
    "start_time": "2022-12-12T07:46:36.364Z"
   },
   {
    "duration": 8,
    "start_time": "2022-12-12T07:46:36.565Z"
   },
   {
    "duration": 209,
    "start_time": "2022-12-12T07:46:36.575Z"
   },
   {
    "duration": 32,
    "start_time": "2022-12-12T07:46:36.785Z"
   },
   {
    "duration": 20,
    "start_time": "2022-12-12T07:46:36.819Z"
   },
   {
    "duration": 14,
    "start_time": "2022-12-12T07:46:36.841Z"
   },
   {
    "duration": 21,
    "start_time": "2022-12-12T07:46:36.861Z"
   },
   {
    "duration": 17,
    "start_time": "2022-12-12T07:46:36.956Z"
   },
   {
    "duration": 24,
    "start_time": "2022-12-12T07:46:36.975Z"
   },
   {
    "duration": 399,
    "start_time": "2022-12-12T07:46:37.001Z"
   },
   {
    "duration": 74,
    "start_time": "2022-12-12T07:46:37.401Z"
   },
   {
    "duration": 3,
    "start_time": "2022-12-12T07:46:37.477Z"
   },
   {
    "duration": 15,
    "start_time": "2022-12-12T07:46:37.482Z"
   },
   {
    "duration": 46,
    "start_time": "2022-12-12T07:46:37.498Z"
   },
   {
    "duration": 11,
    "start_time": "2022-12-12T07:46:37.546Z"
   },
   {
    "duration": 66,
    "start_time": "2022-12-12T07:46:37.559Z"
   },
   {
    "duration": 56,
    "start_time": "2022-12-12T07:46:37.627Z"
   },
   {
    "duration": 4,
    "start_time": "2022-12-12T07:46:37.685Z"
   },
   {
    "duration": 8,
    "start_time": "2022-12-12T07:46:37.691Z"
   },
   {
    "duration": 14,
    "start_time": "2022-12-12T07:46:37.700Z"
   },
   {
    "duration": 6,
    "start_time": "2022-12-12T07:46:37.715Z"
   },
   {
    "duration": 710,
    "start_time": "2022-12-12T07:46:37.723Z"
   },
   {
    "duration": 577,
    "start_time": "2022-12-12T07:46:38.435Z"
   },
   {
    "duration": 164,
    "start_time": "2022-12-12T07:46:39.014Z"
   },
   {
    "duration": 1317,
    "start_time": "2022-12-12T07:46:39.180Z"
   },
   {
    "duration": 4,
    "start_time": "2022-12-12T07:46:40.499Z"
   },
   {
    "duration": 11,
    "start_time": "2022-12-12T07:46:40.505Z"
   },
   {
    "duration": 13,
    "start_time": "2022-12-12T07:46:40.518Z"
   },
   {
    "duration": 20533,
    "start_time": "2022-12-12T07:46:40.533Z"
   },
   {
    "duration": 3,
    "start_time": "2022-12-12T07:47:01.068Z"
   },
   {
    "duration": 93,
    "start_time": "2022-12-12T07:47:01.072Z"
   },
   {
    "duration": 63,
    "start_time": "2022-12-12T07:47:01.167Z"
   },
   {
    "duration": 1722,
    "start_time": "2022-12-12T07:49:20.730Z"
   },
   {
    "duration": 924,
    "start_time": "2022-12-12T07:49:22.455Z"
   },
   {
    "duration": 12,
    "start_time": "2022-12-12T07:49:23.381Z"
   },
   {
    "duration": 31,
    "start_time": "2022-12-12T07:49:23.395Z"
   },
   {
    "duration": 31,
    "start_time": "2022-12-12T07:49:23.429Z"
   },
   {
    "duration": 27,
    "start_time": "2022-12-12T07:49:23.461Z"
   },
   {
    "duration": 158,
    "start_time": "2022-12-12T07:49:23.490Z"
   },
   {
    "duration": 134,
    "start_time": "2022-12-12T07:49:23.651Z"
   },
   {
    "duration": 27,
    "start_time": "2022-12-12T07:49:23.786Z"
   },
   {
    "duration": 552,
    "start_time": "2022-12-12T07:49:23.815Z"
   },
   {
    "duration": 240,
    "start_time": "2022-12-12T07:49:24.369Z"
   },
   {
    "duration": 107,
    "start_time": "2022-12-12T07:49:24.611Z"
   },
   {
    "duration": 176,
    "start_time": "2022-12-12T07:49:24.719Z"
   },
   {
    "duration": 482,
    "start_time": "2022-12-12T07:49:24.898Z"
   },
   {
    "duration": 903,
    "start_time": "2022-12-12T07:49:25.381Z"
   },
   {
    "duration": 52,
    "start_time": "2022-12-12T07:49:26.286Z"
   },
   {
    "duration": 3,
    "start_time": "2022-12-12T07:49:26.342Z"
   },
   {
    "duration": 55,
    "start_time": "2022-12-12T07:49:26.347Z"
   },
   {
    "duration": 99,
    "start_time": "2022-12-12T07:49:26.404Z"
   },
   {
    "duration": 103,
    "start_time": "2022-12-12T07:49:26.504Z"
   },
   {
    "duration": 42,
    "start_time": "2022-12-12T07:49:26.609Z"
   },
   {
    "duration": 244,
    "start_time": "2022-12-12T07:49:26.653Z"
   },
   {
    "duration": 8,
    "start_time": "2022-12-12T07:49:26.898Z"
   },
   {
    "duration": 200,
    "start_time": "2022-12-12T07:49:26.907Z"
   },
   {
    "duration": 44,
    "start_time": "2022-12-12T07:49:27.108Z"
   },
   {
    "duration": 7,
    "start_time": "2022-12-12T07:49:27.154Z"
   },
   {
    "duration": 8,
    "start_time": "2022-12-12T07:49:27.163Z"
   },
   {
    "duration": 8,
    "start_time": "2022-12-12T07:49:27.175Z"
   },
   {
    "duration": 15,
    "start_time": "2022-12-12T07:49:27.292Z"
   },
   {
    "duration": 11,
    "start_time": "2022-12-12T07:49:27.309Z"
   },
   {
    "duration": 403,
    "start_time": "2022-12-12T07:49:27.322Z"
   },
   {
    "duration": 81,
    "start_time": "2022-12-12T07:49:27.727Z"
   },
   {
    "duration": 3,
    "start_time": "2022-12-12T07:49:27.810Z"
   },
   {
    "duration": 12,
    "start_time": "2022-12-12T07:49:27.815Z"
   },
   {
    "duration": 45,
    "start_time": "2022-12-12T07:49:27.828Z"
   },
   {
    "duration": 22,
    "start_time": "2022-12-12T07:49:27.875Z"
   },
   {
    "duration": 78,
    "start_time": "2022-12-12T07:49:27.899Z"
   },
   {
    "duration": 75,
    "start_time": "2022-12-12T07:49:27.979Z"
   },
   {
    "duration": 4,
    "start_time": "2022-12-12T07:49:28.056Z"
   },
   {
    "duration": 9,
    "start_time": "2022-12-12T07:49:28.061Z"
   },
   {
    "duration": 23,
    "start_time": "2022-12-12T07:49:28.072Z"
   },
   {
    "duration": 13,
    "start_time": "2022-12-12T07:49:28.096Z"
   },
   {
    "duration": 642,
    "start_time": "2022-12-12T07:49:28.110Z"
   },
   {
    "duration": 576,
    "start_time": "2022-12-12T07:49:28.754Z"
   },
   {
    "duration": 159,
    "start_time": "2022-12-12T07:49:29.331Z"
   },
   {
    "duration": 1278,
    "start_time": "2022-12-12T07:49:29.492Z"
   },
   {
    "duration": 3,
    "start_time": "2022-12-12T07:49:30.772Z"
   },
   {
    "duration": 37,
    "start_time": "2022-12-12T07:49:30.777Z"
   },
   {
    "duration": 45,
    "start_time": "2022-12-12T07:49:30.816Z"
   },
   {
    "duration": 21432,
    "start_time": "2022-12-12T07:49:30.863Z"
   },
   {
    "duration": 3,
    "start_time": "2022-12-12T07:49:52.296Z"
   },
   {
    "duration": 188,
    "start_time": "2022-12-12T07:49:52.301Z"
   },
   {
    "duration": 0,
    "start_time": "2022-12-12T07:49:52.492Z"
   },
   {
    "duration": 0,
    "start_time": "2022-12-12T07:49:52.493Z"
   },
   {
    "duration": 0,
    "start_time": "2022-12-12T07:49:52.495Z"
   },
   {
    "duration": 0,
    "start_time": "2022-12-12T07:49:52.497Z"
   },
   {
    "duration": 0,
    "start_time": "2022-12-12T07:49:52.498Z"
   },
   {
    "duration": 0,
    "start_time": "2022-12-12T07:49:52.500Z"
   },
   {
    "duration": 0,
    "start_time": "2022-12-12T07:49:52.501Z"
   },
   {
    "duration": 0,
    "start_time": "2022-12-12T07:49:52.503Z"
   },
   {
    "duration": 0,
    "start_time": "2022-12-12T07:49:52.504Z"
   },
   {
    "duration": 0,
    "start_time": "2022-12-12T07:49:52.505Z"
   },
   {
    "duration": 0,
    "start_time": "2022-12-12T07:49:52.507Z"
   },
   {
    "duration": 0,
    "start_time": "2022-12-12T07:49:52.536Z"
   },
   {
    "duration": 0,
    "start_time": "2022-12-12T07:49:52.537Z"
   },
   {
    "duration": 0,
    "start_time": "2022-12-12T07:49:52.540Z"
   },
   {
    "duration": 0,
    "start_time": "2022-12-12T07:49:52.541Z"
   },
   {
    "duration": 0,
    "start_time": "2022-12-12T07:49:52.543Z"
   },
   {
    "duration": 0,
    "start_time": "2022-12-12T07:49:52.544Z"
   },
   {
    "duration": 0,
    "start_time": "2022-12-12T07:49:52.550Z"
   },
   {
    "duration": 0,
    "start_time": "2022-12-12T07:49:52.551Z"
   },
   {
    "duration": 0,
    "start_time": "2022-12-12T07:49:52.552Z"
   },
   {
    "duration": 0,
    "start_time": "2022-12-12T07:49:52.553Z"
   },
   {
    "duration": 0,
    "start_time": "2022-12-12T07:49:52.554Z"
   },
   {
    "duration": 0,
    "start_time": "2022-12-12T07:49:52.555Z"
   },
   {
    "duration": 0,
    "start_time": "2022-12-12T07:49:52.556Z"
   },
   {
    "duration": 0,
    "start_time": "2022-12-12T07:49:52.557Z"
   },
   {
    "duration": 1,
    "start_time": "2022-12-12T07:49:52.558Z"
   },
   {
    "duration": 0,
    "start_time": "2022-12-12T07:49:52.560Z"
   },
   {
    "duration": 0,
    "start_time": "2022-12-12T07:49:52.561Z"
   },
   {
    "duration": 0,
    "start_time": "2022-12-12T07:49:52.562Z"
   },
   {
    "duration": 0,
    "start_time": "2022-12-12T07:49:52.563Z"
   },
   {
    "duration": 1,
    "start_time": "2022-12-12T07:49:52.564Z"
   },
   {
    "duration": 0,
    "start_time": "2022-12-12T07:49:52.566Z"
   },
   {
    "duration": 0,
    "start_time": "2022-12-12T07:49:52.567Z"
   },
   {
    "duration": 0,
    "start_time": "2022-12-12T07:49:52.568Z"
   },
   {
    "duration": 1,
    "start_time": "2022-12-12T07:49:52.569Z"
   },
   {
    "duration": 0,
    "start_time": "2022-12-12T07:49:52.571Z"
   },
   {
    "duration": 0,
    "start_time": "2022-12-12T07:49:52.572Z"
   },
   {
    "duration": 0,
    "start_time": "2022-12-12T07:49:52.573Z"
   },
   {
    "duration": 0,
    "start_time": "2022-12-12T07:49:52.575Z"
   },
   {
    "duration": 0,
    "start_time": "2022-12-12T07:49:52.576Z"
   },
   {
    "duration": 0,
    "start_time": "2022-12-12T07:49:52.578Z"
   },
   {
    "duration": 0,
    "start_time": "2022-12-12T07:49:52.579Z"
   },
   {
    "duration": 0,
    "start_time": "2022-12-12T07:49:52.637Z"
   },
   {
    "duration": 0,
    "start_time": "2022-12-12T07:49:52.638Z"
   },
   {
    "duration": 0,
    "start_time": "2022-12-12T07:49:52.639Z"
   },
   {
    "duration": 0,
    "start_time": "2022-12-12T07:49:52.639Z"
   },
   {
    "duration": 0,
    "start_time": "2022-12-12T07:49:52.640Z"
   },
   {
    "duration": 0,
    "start_time": "2022-12-12T07:49:52.641Z"
   },
   {
    "duration": 0,
    "start_time": "2022-12-12T07:49:52.644Z"
   },
   {
    "duration": 0,
    "start_time": "2022-12-12T07:49:52.644Z"
   },
   {
    "duration": 1683,
    "start_time": "2022-12-12T07:52:11.448Z"
   },
   {
    "duration": 853,
    "start_time": "2022-12-12T07:52:13.133Z"
   },
   {
    "duration": 15,
    "start_time": "2022-12-12T07:52:13.988Z"
   },
   {
    "duration": 35,
    "start_time": "2022-12-12T07:52:14.006Z"
   },
   {
    "duration": 27,
    "start_time": "2022-12-12T07:52:14.042Z"
   },
   {
    "duration": 43,
    "start_time": "2022-12-12T07:52:14.071Z"
   },
   {
    "duration": 148,
    "start_time": "2022-12-12T07:52:14.116Z"
   },
   {
    "duration": 102,
    "start_time": "2022-12-12T07:52:14.266Z"
   },
   {
    "duration": 28,
    "start_time": "2022-12-12T07:52:14.369Z"
   },
   {
    "duration": 467,
    "start_time": "2022-12-12T07:52:14.400Z"
   },
   {
    "duration": 208,
    "start_time": "2022-12-12T07:52:14.869Z"
   },
   {
    "duration": 98,
    "start_time": "2022-12-12T07:52:15.079Z"
   },
   {
    "duration": 170,
    "start_time": "2022-12-12T07:52:15.178Z"
   },
   {
    "duration": 443,
    "start_time": "2022-12-12T07:52:15.349Z"
   },
   {
    "duration": 873,
    "start_time": "2022-12-12T07:52:15.794Z"
   },
   {
    "duration": 47,
    "start_time": "2022-12-12T07:52:16.669Z"
   },
   {
    "duration": 3,
    "start_time": "2022-12-12T07:52:16.718Z"
   },
   {
    "duration": 75,
    "start_time": "2022-12-12T07:52:16.722Z"
   },
   {
    "duration": 90,
    "start_time": "2022-12-12T07:52:16.799Z"
   },
   {
    "duration": 99,
    "start_time": "2022-12-12T07:52:16.890Z"
   },
   {
    "duration": 30,
    "start_time": "2022-12-12T07:52:16.991Z"
   },
   {
    "duration": 194,
    "start_time": "2022-12-12T07:52:17.036Z"
   },
   {
    "duration": 8,
    "start_time": "2022-12-12T07:52:17.235Z"
   },
   {
    "duration": 184,
    "start_time": "2022-12-12T07:52:17.245Z"
   },
   {
    "duration": 33,
    "start_time": "2022-12-12T07:52:17.435Z"
   },
   {
    "duration": 6,
    "start_time": "2022-12-12T07:52:17.470Z"
   },
   {
    "duration": 15,
    "start_time": "2022-12-12T07:52:17.477Z"
   },
   {
    "duration": 7,
    "start_time": "2022-12-12T07:52:17.497Z"
   },
   {
    "duration": 23,
    "start_time": "2022-12-12T07:52:17.612Z"
   },
   {
    "duration": 16,
    "start_time": "2022-12-12T07:52:17.637Z"
   },
   {
    "duration": 406,
    "start_time": "2022-12-12T07:52:17.655Z"
   },
   {
    "duration": 74,
    "start_time": "2022-12-12T07:52:18.063Z"
   },
   {
    "duration": 21,
    "start_time": "2022-12-12T07:52:18.139Z"
   },
   {
    "duration": 44,
    "start_time": "2022-12-12T07:52:18.162Z"
   },
   {
    "duration": 30,
    "start_time": "2022-12-12T07:52:18.208Z"
   },
   {
    "duration": 22,
    "start_time": "2022-12-12T07:52:18.239Z"
   },
   {
    "duration": 97,
    "start_time": "2022-12-12T07:52:18.263Z"
   },
   {
    "duration": 53,
    "start_time": "2022-12-12T07:52:18.362Z"
   },
   {
    "duration": 4,
    "start_time": "2022-12-12T07:52:18.417Z"
   },
   {
    "duration": 55,
    "start_time": "2022-12-12T07:52:18.423Z"
   },
   {
    "duration": 0,
    "start_time": "2022-12-12T07:52:18.481Z"
   },
   {
    "duration": 0,
    "start_time": "2022-12-12T07:52:18.483Z"
   },
   {
    "duration": 0,
    "start_time": "2022-12-12T07:52:18.484Z"
   },
   {
    "duration": 0,
    "start_time": "2022-12-12T07:52:18.485Z"
   },
   {
    "duration": 0,
    "start_time": "2022-12-12T07:52:18.486Z"
   },
   {
    "duration": 0,
    "start_time": "2022-12-12T07:52:18.487Z"
   },
   {
    "duration": 0,
    "start_time": "2022-12-12T07:52:18.488Z"
   },
   {
    "duration": 0,
    "start_time": "2022-12-12T07:52:18.489Z"
   },
   {
    "duration": 0,
    "start_time": "2022-12-12T07:52:18.490Z"
   },
   {
    "duration": 0,
    "start_time": "2022-12-12T07:52:18.491Z"
   },
   {
    "duration": 0,
    "start_time": "2022-12-12T07:52:18.492Z"
   },
   {
    "duration": 0,
    "start_time": "2022-12-12T07:52:18.493Z"
   },
   {
    "duration": 0,
    "start_time": "2022-12-12T07:52:18.494Z"
   },
   {
    "duration": 0,
    "start_time": "2022-12-12T07:52:18.495Z"
   },
   {
    "duration": 0,
    "start_time": "2022-12-12T07:52:18.495Z"
   },
   {
    "duration": 0,
    "start_time": "2022-12-12T07:52:18.496Z"
   },
   {
    "duration": 0,
    "start_time": "2022-12-12T07:52:18.497Z"
   },
   {
    "duration": 0,
    "start_time": "2022-12-12T07:52:18.498Z"
   },
   {
    "duration": 0,
    "start_time": "2022-12-12T07:52:18.499Z"
   },
   {
    "duration": 0,
    "start_time": "2022-12-12T07:52:18.500Z"
   },
   {
    "duration": 0,
    "start_time": "2022-12-12T07:52:18.501Z"
   },
   {
    "duration": 0,
    "start_time": "2022-12-12T07:52:18.502Z"
   },
   {
    "duration": 0,
    "start_time": "2022-12-12T07:52:18.504Z"
   },
   {
    "duration": 0,
    "start_time": "2022-12-12T07:52:18.504Z"
   },
   {
    "duration": 0,
    "start_time": "2022-12-12T07:52:18.506Z"
   },
   {
    "duration": 0,
    "start_time": "2022-12-12T07:52:18.507Z"
   },
   {
    "duration": 0,
    "start_time": "2022-12-12T07:52:18.508Z"
   },
   {
    "duration": 0,
    "start_time": "2022-12-12T07:52:18.509Z"
   },
   {
    "duration": 0,
    "start_time": "2022-12-12T07:52:18.510Z"
   },
   {
    "duration": 0,
    "start_time": "2022-12-12T07:52:18.511Z"
   },
   {
    "duration": 0,
    "start_time": "2022-12-12T07:52:18.513Z"
   },
   {
    "duration": 0,
    "start_time": "2022-12-12T07:52:18.535Z"
   },
   {
    "duration": 0,
    "start_time": "2022-12-12T07:52:18.536Z"
   },
   {
    "duration": 0,
    "start_time": "2022-12-12T07:52:18.538Z"
   },
   {
    "duration": 0,
    "start_time": "2022-12-12T07:52:18.539Z"
   },
   {
    "duration": 0,
    "start_time": "2022-12-12T07:52:18.540Z"
   },
   {
    "duration": 0,
    "start_time": "2022-12-12T07:52:18.540Z"
   },
   {
    "duration": 0,
    "start_time": "2022-12-12T07:52:18.541Z"
   },
   {
    "duration": 0,
    "start_time": "2022-12-12T07:52:18.543Z"
   },
   {
    "duration": 0,
    "start_time": "2022-12-12T07:52:18.544Z"
   },
   {
    "duration": 0,
    "start_time": "2022-12-12T07:52:18.545Z"
   },
   {
    "duration": 0,
    "start_time": "2022-12-12T07:52:18.546Z"
   },
   {
    "duration": 0,
    "start_time": "2022-12-12T07:52:18.547Z"
   },
   {
    "duration": 0,
    "start_time": "2022-12-12T07:52:18.548Z"
   },
   {
    "duration": 0,
    "start_time": "2022-12-12T07:52:18.549Z"
   },
   {
    "duration": 0,
    "start_time": "2022-12-12T07:52:18.550Z"
   },
   {
    "duration": 0,
    "start_time": "2022-12-12T07:52:18.551Z"
   },
   {
    "duration": 0,
    "start_time": "2022-12-12T07:52:18.553Z"
   },
   {
    "duration": 0,
    "start_time": "2022-12-12T07:52:18.554Z"
   },
   {
    "duration": 0,
    "start_time": "2022-12-12T07:52:18.555Z"
   },
   {
    "duration": 0,
    "start_time": "2022-12-12T07:52:18.555Z"
   },
   {
    "duration": 0,
    "start_time": "2022-12-12T07:52:18.557Z"
   },
   {
    "duration": 0,
    "start_time": "2022-12-12T07:52:18.558Z"
   },
   {
    "duration": 0,
    "start_time": "2022-12-12T07:52:18.559Z"
   },
   {
    "duration": 0,
    "start_time": "2022-12-12T07:52:18.560Z"
   },
   {
    "duration": 0,
    "start_time": "2022-12-12T07:52:18.561Z"
   },
   {
    "duration": 0,
    "start_time": "2022-12-12T07:52:18.561Z"
   },
   {
    "duration": 0,
    "start_time": "2022-12-12T07:52:18.562Z"
   },
   {
    "duration": 0,
    "start_time": "2022-12-12T07:52:18.564Z"
   },
   {
    "duration": 0,
    "start_time": "2022-12-12T07:52:18.565Z"
   },
   {
    "duration": 0,
    "start_time": "2022-12-12T07:52:18.567Z"
   },
   {
    "duration": 0,
    "start_time": "2022-12-12T07:52:18.568Z"
   },
   {
    "duration": 160,
    "start_time": "2022-12-12T07:58:37.774Z"
   },
   {
    "duration": 1577,
    "start_time": "2022-12-12T07:58:46.573Z"
   },
   {
    "duration": 854,
    "start_time": "2022-12-12T07:58:48.152Z"
   },
   {
    "duration": 11,
    "start_time": "2022-12-12T07:58:49.008Z"
   },
   {
    "duration": 29,
    "start_time": "2022-12-12T07:58:49.021Z"
   },
   {
    "duration": 16,
    "start_time": "2022-12-12T07:58:49.052Z"
   },
   {
    "duration": 30,
    "start_time": "2022-12-12T07:58:49.070Z"
   },
   {
    "duration": 151,
    "start_time": "2022-12-12T07:58:49.101Z"
   },
   {
    "duration": 155,
    "start_time": "2022-12-12T07:58:49.255Z"
   },
   {
    "duration": 30,
    "start_time": "2022-12-12T07:58:49.412Z"
   },
   {
    "duration": 495,
    "start_time": "2022-12-12T07:58:49.446Z"
   },
   {
    "duration": 222,
    "start_time": "2022-12-12T07:58:49.942Z"
   },
   {
    "duration": 103,
    "start_time": "2022-12-12T07:58:50.166Z"
   },
   {
    "duration": 181,
    "start_time": "2022-12-12T07:58:50.271Z"
   },
   {
    "duration": 469,
    "start_time": "2022-12-12T07:58:50.454Z"
   },
   {
    "duration": 892,
    "start_time": "2022-12-12T07:58:50.925Z"
   },
   {
    "duration": 51,
    "start_time": "2022-12-12T07:58:51.818Z"
   },
   {
    "duration": 3,
    "start_time": "2022-12-12T07:58:51.871Z"
   },
   {
    "duration": 40,
    "start_time": "2022-12-12T07:58:51.875Z"
   },
   {
    "duration": 100,
    "start_time": "2022-12-12T07:58:51.917Z"
   },
   {
    "duration": 94,
    "start_time": "2022-12-12T07:58:52.019Z"
   },
   {
    "duration": 37,
    "start_time": "2022-12-12T07:58:52.115Z"
   },
   {
    "duration": 186,
    "start_time": "2022-12-12T07:58:52.153Z"
   },
   {
    "duration": 7,
    "start_time": "2022-12-12T07:58:52.340Z"
   },
   {
    "duration": 212,
    "start_time": "2022-12-12T07:58:52.348Z"
   },
   {
    "duration": 44,
    "start_time": "2022-12-12T07:58:52.562Z"
   },
   {
    "duration": 7,
    "start_time": "2022-12-12T07:58:52.608Z"
   },
   {
    "duration": 23,
    "start_time": "2022-12-12T07:58:52.617Z"
   },
   {
    "duration": 20,
    "start_time": "2022-12-12T07:58:52.646Z"
   },
   {
    "duration": 16,
    "start_time": "2022-12-12T07:58:52.740Z"
   },
   {
    "duration": 11,
    "start_time": "2022-12-12T07:58:52.757Z"
   },
   {
    "duration": 384,
    "start_time": "2022-12-12T07:58:52.770Z"
   },
   {
    "duration": 65,
    "start_time": "2022-12-12T07:58:53.156Z"
   },
   {
    "duration": 14,
    "start_time": "2022-12-12T07:58:53.222Z"
   },
   {
    "duration": 12,
    "start_time": "2022-12-12T07:58:53.237Z"
   },
   {
    "duration": 24,
    "start_time": "2022-12-12T07:58:53.250Z"
   },
   {
    "duration": 23,
    "start_time": "2022-12-12T07:58:53.275Z"
   },
   {
    "duration": 70,
    "start_time": "2022-12-12T07:58:53.300Z"
   },
   {
    "duration": 53,
    "start_time": "2022-12-12T07:58:53.372Z"
   },
   {
    "duration": 10,
    "start_time": "2022-12-12T07:58:53.427Z"
   },
   {
    "duration": 164,
    "start_time": "2022-12-12T07:58:53.438Z"
   },
   {
    "duration": 7,
    "start_time": "2022-12-12T07:58:53.604Z"
   },
   {
    "duration": 12,
    "start_time": "2022-12-12T07:58:53.613Z"
   },
   {
    "duration": 678,
    "start_time": "2022-12-12T07:58:53.627Z"
   },
   {
    "duration": 593,
    "start_time": "2022-12-12T07:58:54.306Z"
   },
   {
    "duration": 156,
    "start_time": "2022-12-12T07:58:54.901Z"
   },
   {
    "duration": 1298,
    "start_time": "2022-12-12T07:58:55.059Z"
   },
   {
    "duration": 4,
    "start_time": "2022-12-12T07:58:56.359Z"
   },
   {
    "duration": 29,
    "start_time": "2022-12-12T07:58:56.365Z"
   },
   {
    "duration": 23,
    "start_time": "2022-12-12T07:58:56.396Z"
   },
   {
    "duration": 20035,
    "start_time": "2022-12-12T07:58:56.421Z"
   },
   {
    "duration": 3,
    "start_time": "2022-12-12T07:59:16.458Z"
   },
   {
    "duration": 167,
    "start_time": "2022-12-12T07:59:16.462Z"
   },
   {
    "duration": 0,
    "start_time": "2022-12-12T07:59:16.631Z"
   },
   {
    "duration": 0,
    "start_time": "2022-12-12T07:59:16.635Z"
   },
   {
    "duration": 0,
    "start_time": "2022-12-12T07:59:16.636Z"
   },
   {
    "duration": 0,
    "start_time": "2022-12-12T07:59:16.637Z"
   },
   {
    "duration": 0,
    "start_time": "2022-12-12T07:59:16.639Z"
   },
   {
    "duration": 0,
    "start_time": "2022-12-12T07:59:16.640Z"
   },
   {
    "duration": 0,
    "start_time": "2022-12-12T07:59:16.642Z"
   },
   {
    "duration": 0,
    "start_time": "2022-12-12T07:59:16.643Z"
   },
   {
    "duration": 0,
    "start_time": "2022-12-12T07:59:16.644Z"
   },
   {
    "duration": 0,
    "start_time": "2022-12-12T07:59:16.645Z"
   },
   {
    "duration": 0,
    "start_time": "2022-12-12T07:59:16.646Z"
   },
   {
    "duration": 0,
    "start_time": "2022-12-12T07:59:16.648Z"
   },
   {
    "duration": 0,
    "start_time": "2022-12-12T07:59:16.649Z"
   },
   {
    "duration": 0,
    "start_time": "2022-12-12T07:59:16.650Z"
   },
   {
    "duration": 0,
    "start_time": "2022-12-12T07:59:16.651Z"
   },
   {
    "duration": 0,
    "start_time": "2022-12-12T07:59:16.652Z"
   },
   {
    "duration": 0,
    "start_time": "2022-12-12T07:59:16.655Z"
   },
   {
    "duration": 0,
    "start_time": "2022-12-12T07:59:16.656Z"
   },
   {
    "duration": 0,
    "start_time": "2022-12-12T07:59:16.658Z"
   },
   {
    "duration": 0,
    "start_time": "2022-12-12T07:59:16.660Z"
   },
   {
    "duration": 0,
    "start_time": "2022-12-12T07:59:16.661Z"
   },
   {
    "duration": 0,
    "start_time": "2022-12-12T07:59:16.663Z"
   },
   {
    "duration": 0,
    "start_time": "2022-12-12T07:59:16.664Z"
   },
   {
    "duration": 0,
    "start_time": "2022-12-12T07:59:16.665Z"
   },
   {
    "duration": 0,
    "start_time": "2022-12-12T07:59:16.666Z"
   },
   {
    "duration": 0,
    "start_time": "2022-12-12T07:59:16.667Z"
   },
   {
    "duration": 0,
    "start_time": "2022-12-12T07:59:16.668Z"
   },
   {
    "duration": 0,
    "start_time": "2022-12-12T07:59:16.670Z"
   },
   {
    "duration": 0,
    "start_time": "2022-12-12T07:59:16.671Z"
   },
   {
    "duration": 0,
    "start_time": "2022-12-12T07:59:16.672Z"
   },
   {
    "duration": 0,
    "start_time": "2022-12-12T07:59:16.673Z"
   },
   {
    "duration": 0,
    "start_time": "2022-12-12T07:59:16.674Z"
   },
   {
    "duration": 0,
    "start_time": "2022-12-12T07:59:16.675Z"
   },
   {
    "duration": 0,
    "start_time": "2022-12-12T07:59:16.738Z"
   },
   {
    "duration": 0,
    "start_time": "2022-12-12T07:59:16.739Z"
   },
   {
    "duration": 0,
    "start_time": "2022-12-12T07:59:16.740Z"
   },
   {
    "duration": 0,
    "start_time": "2022-12-12T07:59:16.742Z"
   },
   {
    "duration": 0,
    "start_time": "2022-12-12T07:59:16.743Z"
   },
   {
    "duration": 0,
    "start_time": "2022-12-12T07:59:16.745Z"
   },
   {
    "duration": 0,
    "start_time": "2022-12-12T07:59:16.746Z"
   },
   {
    "duration": 0,
    "start_time": "2022-12-12T07:59:16.747Z"
   },
   {
    "duration": 0,
    "start_time": "2022-12-12T07:59:16.749Z"
   },
   {
    "duration": 0,
    "start_time": "2022-12-12T07:59:16.750Z"
   },
   {
    "duration": 0,
    "start_time": "2022-12-12T07:59:16.751Z"
   },
   {
    "duration": 0,
    "start_time": "2022-12-12T07:59:16.754Z"
   },
   {
    "duration": 0,
    "start_time": "2022-12-12T07:59:16.758Z"
   },
   {
    "duration": 0,
    "start_time": "2022-12-12T07:59:16.760Z"
   },
   {
    "duration": 0,
    "start_time": "2022-12-12T07:59:16.761Z"
   },
   {
    "duration": 0,
    "start_time": "2022-12-12T07:59:16.762Z"
   },
   {
    "duration": 0,
    "start_time": "2022-12-12T07:59:16.763Z"
   },
   {
    "duration": 1604,
    "start_time": "2022-12-12T08:00:57.891Z"
   },
   {
    "duration": 835,
    "start_time": "2022-12-12T08:00:59.497Z"
   },
   {
    "duration": 10,
    "start_time": "2022-12-12T08:01:00.336Z"
   },
   {
    "duration": 40,
    "start_time": "2022-12-12T08:01:00.348Z"
   },
   {
    "duration": 23,
    "start_time": "2022-12-12T08:01:00.390Z"
   },
   {
    "duration": 36,
    "start_time": "2022-12-12T08:01:00.415Z"
   },
   {
    "duration": 141,
    "start_time": "2022-12-12T08:01:00.453Z"
   },
   {
    "duration": 104,
    "start_time": "2022-12-12T08:01:00.595Z"
   },
   {
    "duration": 37,
    "start_time": "2022-12-12T08:01:00.701Z"
   },
   {
    "duration": 475,
    "start_time": "2022-12-12T08:01:00.740Z"
   },
   {
    "duration": 199,
    "start_time": "2022-12-12T08:01:01.217Z"
   },
   {
    "duration": 98,
    "start_time": "2022-12-12T08:01:01.418Z"
   },
   {
    "duration": 167,
    "start_time": "2022-12-12T08:01:01.517Z"
   },
   {
    "duration": 458,
    "start_time": "2022-12-12T08:01:01.687Z"
   },
   {
    "duration": 895,
    "start_time": "2022-12-12T08:01:02.146Z"
   },
   {
    "duration": 44,
    "start_time": "2022-12-12T08:01:03.043Z"
   },
   {
    "duration": 2,
    "start_time": "2022-12-12T08:01:03.089Z"
   },
   {
    "duration": 50,
    "start_time": "2022-12-12T08:01:03.093Z"
   },
   {
    "duration": 99,
    "start_time": "2022-12-12T08:01:03.145Z"
   },
   {
    "duration": 99,
    "start_time": "2022-12-12T08:01:03.245Z"
   },
   {
    "duration": 26,
    "start_time": "2022-12-12T08:01:03.346Z"
   },
   {
    "duration": 200,
    "start_time": "2022-12-12T08:01:03.374Z"
   },
   {
    "duration": 6,
    "start_time": "2022-12-12T08:01:03.576Z"
   },
   {
    "duration": 176,
    "start_time": "2022-12-12T08:01:03.584Z"
   },
   {
    "duration": 31,
    "start_time": "2022-12-12T08:01:03.762Z"
   },
   {
    "duration": 5,
    "start_time": "2022-12-12T08:01:03.794Z"
   },
   {
    "duration": 8,
    "start_time": "2022-12-12T08:01:03.801Z"
   },
   {
    "duration": 28,
    "start_time": "2022-12-12T08:01:03.810Z"
   },
   {
    "duration": 15,
    "start_time": "2022-12-12T08:01:03.840Z"
   },
   {
    "duration": 10,
    "start_time": "2022-12-12T08:01:03.857Z"
   },
   {
    "duration": 469,
    "start_time": "2022-12-12T08:01:03.869Z"
   },
   {
    "duration": 66,
    "start_time": "2022-12-12T08:01:04.340Z"
   },
   {
    "duration": 3,
    "start_time": "2022-12-12T08:01:04.408Z"
   },
   {
    "duration": 32,
    "start_time": "2022-12-12T08:01:04.412Z"
   },
   {
    "duration": 32,
    "start_time": "2022-12-12T08:01:04.446Z"
   },
   {
    "duration": 18,
    "start_time": "2022-12-12T08:01:04.480Z"
   },
   {
    "duration": 73,
    "start_time": "2022-12-12T08:01:04.500Z"
   },
   {
    "duration": 60,
    "start_time": "2022-12-12T08:01:04.575Z"
   },
   {
    "duration": 4,
    "start_time": "2022-12-12T08:01:04.637Z"
   },
   {
    "duration": 185,
    "start_time": "2022-12-12T08:01:04.642Z"
   },
   {
    "duration": 6,
    "start_time": "2022-12-12T08:01:04.832Z"
   },
   {
    "duration": 125,
    "start_time": "2022-12-12T08:01:04.839Z"
   },
   {
    "duration": 667,
    "start_time": "2022-12-12T08:01:04.966Z"
   },
   {
    "duration": 583,
    "start_time": "2022-12-12T08:01:05.635Z"
   },
   {
    "duration": 149,
    "start_time": "2022-12-12T08:01:06.220Z"
   },
   {
    "duration": 1312,
    "start_time": "2022-12-12T08:01:06.371Z"
   },
   {
    "duration": 3,
    "start_time": "2022-12-12T08:01:07.685Z"
   },
   {
    "duration": 18,
    "start_time": "2022-12-12T08:01:07.689Z"
   },
   {
    "duration": 7,
    "start_time": "2022-12-12T08:01:07.709Z"
   },
   {
    "duration": 20121,
    "start_time": "2022-12-12T08:01:07.717Z"
   },
   {
    "duration": 3,
    "start_time": "2022-12-12T08:01:27.840Z"
   },
   {
    "duration": 15,
    "start_time": "2022-12-12T08:01:27.845Z"
   },
   {
    "duration": 8,
    "start_time": "2022-12-12T08:01:27.861Z"
   },
   {
    "duration": 1620,
    "start_time": "2022-12-12T08:02:59.619Z"
   },
   {
    "duration": 833,
    "start_time": "2022-12-12T08:03:01.241Z"
   },
   {
    "duration": 11,
    "start_time": "2022-12-12T08:03:02.076Z"
   },
   {
    "duration": 30,
    "start_time": "2022-12-12T08:03:02.089Z"
   },
   {
    "duration": 30,
    "start_time": "2022-12-12T08:03:02.121Z"
   },
   {
    "duration": 52,
    "start_time": "2022-12-12T08:03:02.153Z"
   },
   {
    "duration": 167,
    "start_time": "2022-12-12T08:03:02.207Z"
   },
   {
    "duration": 130,
    "start_time": "2022-12-12T08:03:02.376Z"
   },
   {
    "duration": 36,
    "start_time": "2022-12-12T08:03:02.508Z"
   },
   {
    "duration": 519,
    "start_time": "2022-12-12T08:03:02.548Z"
   },
   {
    "duration": 210,
    "start_time": "2022-12-12T08:03:03.069Z"
   },
   {
    "duration": 98,
    "start_time": "2022-12-12T08:03:03.281Z"
   },
   {
    "duration": 174,
    "start_time": "2022-12-12T08:03:03.381Z"
   },
   {
    "duration": 466,
    "start_time": "2022-12-12T08:03:03.556Z"
   },
   {
    "duration": 836,
    "start_time": "2022-12-12T08:03:04.024Z"
   },
   {
    "duration": 42,
    "start_time": "2022-12-12T08:03:04.862Z"
   },
   {
    "duration": 4,
    "start_time": "2022-12-12T08:03:04.906Z"
   },
   {
    "duration": 55,
    "start_time": "2022-12-12T08:03:04.912Z"
   },
   {
    "duration": 98,
    "start_time": "2022-12-12T08:03:04.969Z"
   },
   {
    "duration": 96,
    "start_time": "2022-12-12T08:03:05.069Z"
   },
   {
    "duration": 25,
    "start_time": "2022-12-12T08:03:05.166Z"
   },
   {
    "duration": 211,
    "start_time": "2022-12-12T08:03:05.193Z"
   },
   {
    "duration": 8,
    "start_time": "2022-12-12T08:03:05.406Z"
   },
   {
    "duration": 178,
    "start_time": "2022-12-12T08:03:05.416Z"
   },
   {
    "duration": 41,
    "start_time": "2022-12-12T08:03:05.596Z"
   },
   {
    "duration": 10,
    "start_time": "2022-12-12T08:03:05.639Z"
   },
   {
    "duration": 34,
    "start_time": "2022-12-12T08:03:05.651Z"
   },
   {
    "duration": 40,
    "start_time": "2022-12-12T08:03:05.690Z"
   },
   {
    "duration": 15,
    "start_time": "2022-12-12T08:03:05.811Z"
   },
   {
    "duration": 15,
    "start_time": "2022-12-12T08:03:05.835Z"
   },
   {
    "duration": 438,
    "start_time": "2022-12-12T08:03:05.852Z"
   },
   {
    "duration": 78,
    "start_time": "2022-12-12T08:03:06.292Z"
   },
   {
    "duration": 2,
    "start_time": "2022-12-12T08:03:06.372Z"
   },
   {
    "duration": 7,
    "start_time": "2022-12-12T08:03:06.376Z"
   },
   {
    "duration": 20,
    "start_time": "2022-12-12T08:03:06.385Z"
   },
   {
    "duration": 30,
    "start_time": "2022-12-12T08:03:06.407Z"
   },
   {
    "duration": 65,
    "start_time": "2022-12-12T08:03:06.439Z"
   },
   {
    "duration": 71,
    "start_time": "2022-12-12T08:03:06.506Z"
   },
   {
    "duration": 6,
    "start_time": "2022-12-12T08:03:06.579Z"
   },
   {
    "duration": 250,
    "start_time": "2022-12-12T08:03:06.587Z"
   },
   {
    "duration": 6,
    "start_time": "2022-12-12T08:03:06.839Z"
   },
   {
    "duration": 4,
    "start_time": "2022-12-12T08:03:06.847Z"
   },
   {
    "duration": 702,
    "start_time": "2022-12-12T08:03:06.852Z"
   },
   {
    "duration": 585,
    "start_time": "2022-12-12T08:03:07.556Z"
   },
   {
    "duration": 141,
    "start_time": "2022-12-12T08:03:08.142Z"
   },
   {
    "duration": 1301,
    "start_time": "2022-12-12T08:03:08.285Z"
   },
   {
    "duration": 4,
    "start_time": "2022-12-12T08:03:09.587Z"
   },
   {
    "duration": 7,
    "start_time": "2022-12-12T08:03:09.593Z"
   },
   {
    "duration": 7,
    "start_time": "2022-12-12T08:03:09.601Z"
   },
   {
    "duration": 20019,
    "start_time": "2022-12-12T08:03:09.610Z"
   },
   {
    "duration": 4,
    "start_time": "2022-12-12T08:03:29.631Z"
   },
   {
    "duration": 23,
    "start_time": "2022-12-12T08:03:29.637Z"
   },
   {
    "duration": 16,
    "start_time": "2022-12-12T08:03:29.662Z"
   },
   {
    "duration": 1531,
    "start_time": "2022-12-12T08:15:38.539Z"
   },
   {
    "duration": 788,
    "start_time": "2022-12-12T08:15:40.072Z"
   },
   {
    "duration": 11,
    "start_time": "2022-12-12T08:15:40.862Z"
   },
   {
    "duration": 23,
    "start_time": "2022-12-12T08:15:40.875Z"
   },
   {
    "duration": 14,
    "start_time": "2022-12-12T08:15:40.899Z"
   },
   {
    "duration": 44,
    "start_time": "2022-12-12T08:15:40.915Z"
   },
   {
    "duration": 144,
    "start_time": "2022-12-12T08:15:40.961Z"
   },
   {
    "duration": 100,
    "start_time": "2022-12-12T08:15:41.107Z"
   },
   {
    "duration": 33,
    "start_time": "2022-12-12T08:15:41.209Z"
   },
   {
    "duration": 497,
    "start_time": "2022-12-12T08:15:41.244Z"
   },
   {
    "duration": 208,
    "start_time": "2022-12-12T08:15:41.743Z"
   },
   {
    "duration": 116,
    "start_time": "2022-12-12T08:15:41.953Z"
   },
   {
    "duration": 181,
    "start_time": "2022-12-12T08:15:42.071Z"
   },
   {
    "duration": 506,
    "start_time": "2022-12-12T08:15:42.254Z"
   },
   {
    "duration": 851,
    "start_time": "2022-12-12T08:15:42.762Z"
   },
   {
    "duration": 53,
    "start_time": "2022-12-12T08:15:43.615Z"
   },
   {
    "duration": 3,
    "start_time": "2022-12-12T08:15:43.669Z"
   },
   {
    "duration": 42,
    "start_time": "2022-12-12T08:15:43.674Z"
   },
   {
    "duration": 103,
    "start_time": "2022-12-12T08:15:43.718Z"
   },
   {
    "duration": 92,
    "start_time": "2022-12-12T08:15:43.823Z"
   },
   {
    "duration": 37,
    "start_time": "2022-12-12T08:15:43.917Z"
   },
   {
    "duration": 184,
    "start_time": "2022-12-12T08:15:43.956Z"
   },
   {
    "duration": 8,
    "start_time": "2022-12-12T08:15:44.142Z"
   },
   {
    "duration": 170,
    "start_time": "2022-12-12T08:15:44.152Z"
   },
   {
    "duration": 37,
    "start_time": "2022-12-12T08:15:44.324Z"
   },
   {
    "duration": 5,
    "start_time": "2022-12-12T08:15:44.363Z"
   },
   {
    "duration": 17,
    "start_time": "2022-12-12T08:15:44.369Z"
   },
   {
    "duration": 19,
    "start_time": "2022-12-12T08:15:44.390Z"
   },
   {
    "duration": 16,
    "start_time": "2022-12-12T08:15:44.483Z"
   },
   {
    "duration": 11,
    "start_time": "2022-12-12T08:15:44.500Z"
   },
   {
    "duration": 393,
    "start_time": "2022-12-12T08:15:44.513Z"
   },
   {
    "duration": 81,
    "start_time": "2022-12-12T08:15:44.908Z"
   },
   {
    "duration": 23,
    "start_time": "2022-12-12T08:15:44.991Z"
   },
   {
    "duration": 20,
    "start_time": "2022-12-12T08:15:45.015Z"
   },
   {
    "duration": 64,
    "start_time": "2022-12-12T08:15:45.037Z"
   },
   {
    "duration": 27,
    "start_time": "2022-12-12T08:15:45.102Z"
   },
   {
    "duration": 89,
    "start_time": "2022-12-12T08:15:45.131Z"
   },
   {
    "duration": 56,
    "start_time": "2022-12-12T08:15:45.223Z"
   },
   {
    "duration": 4,
    "start_time": "2022-12-12T08:15:45.281Z"
   },
   {
    "duration": 199,
    "start_time": "2022-12-12T08:15:45.286Z"
   },
   {
    "duration": 6,
    "start_time": "2022-12-12T08:15:45.487Z"
   },
   {
    "duration": 34,
    "start_time": "2022-12-12T08:15:45.495Z"
   },
   {
    "duration": 738,
    "start_time": "2022-12-12T08:15:45.531Z"
   },
   {
    "duration": 620,
    "start_time": "2022-12-12T08:15:46.271Z"
   },
   {
    "duration": 161,
    "start_time": "2022-12-12T08:15:46.893Z"
   },
   {
    "duration": 1294,
    "start_time": "2022-12-12T08:15:47.055Z"
   },
   {
    "duration": 4,
    "start_time": "2022-12-12T08:15:48.351Z"
   },
   {
    "duration": 38,
    "start_time": "2022-12-12T08:15:48.356Z"
   },
   {
    "duration": 22,
    "start_time": "2022-12-12T08:15:48.396Z"
   },
   {
    "duration": 20382,
    "start_time": "2022-12-12T08:15:48.420Z"
   },
   {
    "duration": 3,
    "start_time": "2022-12-12T08:16:08.803Z"
   },
   {
    "duration": 23,
    "start_time": "2022-12-12T08:16:08.808Z"
   },
   {
    "duration": 37,
    "start_time": "2022-12-12T08:16:08.832Z"
   },
   {
    "duration": 1727,
    "start_time": "2022-12-12T08:17:00.903Z"
   },
   {
    "duration": 954,
    "start_time": "2022-12-12T08:17:02.633Z"
   },
   {
    "duration": 11,
    "start_time": "2022-12-12T08:17:03.589Z"
   },
   {
    "duration": 16,
    "start_time": "2022-12-12T08:17:03.602Z"
   },
   {
    "duration": 9,
    "start_time": "2022-12-12T08:17:03.620Z"
   },
   {
    "duration": 44,
    "start_time": "2022-12-12T08:17:03.631Z"
   },
   {
    "duration": 155,
    "start_time": "2022-12-12T08:17:03.677Z"
   },
   {
    "duration": 117,
    "start_time": "2022-12-12T08:17:03.835Z"
   },
   {
    "duration": 29,
    "start_time": "2022-12-12T08:17:03.954Z"
   },
   {
    "duration": 508,
    "start_time": "2022-12-12T08:17:03.987Z"
   },
   {
    "duration": 286,
    "start_time": "2022-12-12T08:17:04.497Z"
   },
   {
    "duration": 115,
    "start_time": "2022-12-12T08:17:04.785Z"
   },
   {
    "duration": 219,
    "start_time": "2022-12-12T08:17:04.902Z"
   },
   {
    "duration": 478,
    "start_time": "2022-12-12T08:17:05.122Z"
   },
   {
    "duration": 945,
    "start_time": "2022-12-12T08:17:05.602Z"
   },
   {
    "duration": 44,
    "start_time": "2022-12-12T08:17:06.548Z"
   },
   {
    "duration": 3,
    "start_time": "2022-12-12T08:17:06.594Z"
   },
   {
    "duration": 66,
    "start_time": "2022-12-12T08:17:06.599Z"
   },
   {
    "duration": 117,
    "start_time": "2022-12-12T08:17:06.667Z"
   },
   {
    "duration": 110,
    "start_time": "2022-12-12T08:17:06.786Z"
   },
   {
    "duration": 38,
    "start_time": "2022-12-12T08:17:06.898Z"
   },
   {
    "duration": 191,
    "start_time": "2022-12-12T08:17:06.944Z"
   },
   {
    "duration": 10,
    "start_time": "2022-12-12T08:17:07.142Z"
   },
   {
    "duration": 212,
    "start_time": "2022-12-12T08:17:07.154Z"
   },
   {
    "duration": 31,
    "start_time": "2022-12-12T08:17:07.368Z"
   },
   {
    "duration": 22,
    "start_time": "2022-12-12T08:17:07.400Z"
   },
   {
    "duration": 14,
    "start_time": "2022-12-12T08:17:07.424Z"
   },
   {
    "duration": 32,
    "start_time": "2022-12-12T08:17:07.443Z"
   },
   {
    "duration": 16,
    "start_time": "2022-12-12T08:17:07.555Z"
   },
   {
    "duration": 23,
    "start_time": "2022-12-12T08:17:07.573Z"
   },
   {
    "duration": 423,
    "start_time": "2022-12-12T08:17:07.598Z"
   },
   {
    "duration": 83,
    "start_time": "2022-12-12T08:17:08.023Z"
   },
   {
    "duration": 3,
    "start_time": "2022-12-12T08:17:08.108Z"
   },
   {
    "duration": 5,
    "start_time": "2022-12-12T08:17:08.113Z"
   },
   {
    "duration": 15,
    "start_time": "2022-12-12T08:17:08.135Z"
   },
   {
    "duration": 15,
    "start_time": "2022-12-12T08:17:08.152Z"
   },
   {
    "duration": 72,
    "start_time": "2022-12-12T08:17:08.168Z"
   },
   {
    "duration": 56,
    "start_time": "2022-12-12T08:17:08.247Z"
   },
   {
    "duration": 4,
    "start_time": "2022-12-12T08:17:08.304Z"
   },
   {
    "duration": 179,
    "start_time": "2022-12-12T08:17:08.309Z"
   },
   {
    "duration": 7,
    "start_time": "2022-12-12T08:17:08.490Z"
   },
   {
    "duration": 7,
    "start_time": "2022-12-12T08:17:08.498Z"
   },
   {
    "duration": 675,
    "start_time": "2022-12-12T08:17:08.506Z"
   },
   {
    "duration": 593,
    "start_time": "2022-12-12T08:17:09.182Z"
   },
   {
    "duration": 152,
    "start_time": "2022-12-12T08:17:09.777Z"
   },
   {
    "duration": 1309,
    "start_time": "2022-12-12T08:17:09.930Z"
   },
   {
    "duration": 7,
    "start_time": "2022-12-12T08:17:11.240Z"
   },
   {
    "duration": 14,
    "start_time": "2022-12-12T08:17:11.249Z"
   },
   {
    "duration": 9,
    "start_time": "2022-12-12T08:17:11.265Z"
   },
   {
    "duration": 20802,
    "start_time": "2022-12-12T08:17:11.275Z"
   },
   {
    "duration": 4,
    "start_time": "2022-12-12T08:17:32.079Z"
   },
   {
    "duration": 12,
    "start_time": "2022-12-12T08:17:32.084Z"
   },
   {
    "duration": 25,
    "start_time": "2022-12-12T08:17:32.098Z"
   },
   {
    "duration": 1542,
    "start_time": "2022-12-12T08:29:10.481Z"
   },
   {
    "duration": 928,
    "start_time": "2022-12-12T08:29:12.026Z"
   },
   {
    "duration": 11,
    "start_time": "2022-12-12T08:29:12.956Z"
   },
   {
    "duration": 7,
    "start_time": "2022-12-12T08:29:12.970Z"
   },
   {
    "duration": 9,
    "start_time": "2022-12-12T08:29:12.978Z"
   },
   {
    "duration": 24,
    "start_time": "2022-12-12T08:29:12.988Z"
   },
   {
    "duration": 172,
    "start_time": "2022-12-12T08:29:13.015Z"
   },
   {
    "duration": 110,
    "start_time": "2022-12-12T08:29:13.189Z"
   },
   {
    "duration": 51,
    "start_time": "2022-12-12T08:29:13.301Z"
   },
   {
    "duration": 503,
    "start_time": "2022-12-12T08:29:13.355Z"
   },
   {
    "duration": 253,
    "start_time": "2022-12-12T08:29:13.860Z"
   },
   {
    "duration": 121,
    "start_time": "2022-12-12T08:29:14.115Z"
   },
   {
    "duration": 215,
    "start_time": "2022-12-12T08:29:14.237Z"
   },
   {
    "duration": 449,
    "start_time": "2022-12-12T08:29:14.454Z"
   },
   {
    "duration": 901,
    "start_time": "2022-12-12T08:29:14.904Z"
   },
   {
    "duration": 52,
    "start_time": "2022-12-12T08:29:15.807Z"
   },
   {
    "duration": 3,
    "start_time": "2022-12-12T08:29:15.860Z"
   },
   {
    "duration": 59,
    "start_time": "2022-12-12T08:29:15.865Z"
   },
   {
    "duration": 106,
    "start_time": "2022-12-12T08:29:15.926Z"
   },
   {
    "duration": 116,
    "start_time": "2022-12-12T08:29:16.035Z"
   },
   {
    "duration": 25,
    "start_time": "2022-12-12T08:29:16.152Z"
   },
   {
    "duration": 193,
    "start_time": "2022-12-12T08:29:16.179Z"
   },
   {
    "duration": 9,
    "start_time": "2022-12-12T08:29:16.373Z"
   },
   {
    "duration": 186,
    "start_time": "2022-12-12T08:29:16.384Z"
   },
   {
    "duration": 30,
    "start_time": "2022-12-12T08:29:16.572Z"
   },
   {
    "duration": 6,
    "start_time": "2022-12-12T08:29:16.604Z"
   },
   {
    "duration": 38,
    "start_time": "2022-12-12T08:29:16.611Z"
   },
   {
    "duration": 9,
    "start_time": "2022-12-12T08:29:16.656Z"
   },
   {
    "duration": 19,
    "start_time": "2022-12-12T08:29:16.750Z"
   },
   {
    "duration": 12,
    "start_time": "2022-12-12T08:29:16.771Z"
   },
   {
    "duration": 414,
    "start_time": "2022-12-12T08:29:16.785Z"
   },
   {
    "duration": 79,
    "start_time": "2022-12-12T08:29:17.200Z"
   },
   {
    "duration": 3,
    "start_time": "2022-12-12T08:29:17.281Z"
   },
   {
    "duration": 13,
    "start_time": "2022-12-12T08:29:17.285Z"
   },
   {
    "duration": 20,
    "start_time": "2022-12-12T08:29:17.300Z"
   },
   {
    "duration": 29,
    "start_time": "2022-12-12T08:29:17.321Z"
   },
   {
    "duration": 60,
    "start_time": "2022-12-12T08:29:17.354Z"
   },
   {
    "duration": 78,
    "start_time": "2022-12-12T08:29:17.417Z"
   },
   {
    "duration": 4,
    "start_time": "2022-12-12T08:29:17.496Z"
   },
   {
    "duration": 173,
    "start_time": "2022-12-12T08:29:17.501Z"
   },
   {
    "duration": 6,
    "start_time": "2022-12-12T08:29:17.676Z"
   },
   {
    "duration": 4,
    "start_time": "2022-12-12T08:29:17.683Z"
   },
   {
    "duration": 603,
    "start_time": "2022-12-12T08:29:17.689Z"
   },
   {
    "duration": 567,
    "start_time": "2022-12-12T08:29:18.294Z"
   },
   {
    "duration": 146,
    "start_time": "2022-12-12T08:29:18.863Z"
   },
   {
    "duration": 1381,
    "start_time": "2022-12-12T08:29:19.010Z"
   },
   {
    "duration": 5,
    "start_time": "2022-12-12T08:29:20.393Z"
   },
   {
    "duration": 5,
    "start_time": "2022-12-12T08:29:20.400Z"
   },
   {
    "duration": 6,
    "start_time": "2022-12-12T08:29:20.407Z"
   },
   {
    "duration": 21500,
    "start_time": "2022-12-12T08:29:20.414Z"
   },
   {
    "duration": 3,
    "start_time": "2022-12-12T08:29:41.916Z"
   },
   {
    "duration": 17,
    "start_time": "2022-12-12T08:29:41.921Z"
   },
   {
    "duration": 32,
    "start_time": "2022-12-12T08:29:41.941Z"
   },
   {
    "duration": 20,
    "start_time": "2022-12-12T08:29:41.974Z"
   },
   {
    "duration": 214799,
    "start_time": "2022-12-12T08:29:41.996Z"
   },
   {
    "duration": 2303,
    "start_time": "2022-12-12T08:33:16.797Z"
   },
   {
    "duration": 677,
    "start_time": "2022-12-12T08:33:19.102Z"
   },
   {
    "duration": 5,
    "start_time": "2022-12-12T08:33:19.780Z"
   },
   {
    "duration": 24,
    "start_time": "2022-12-12T08:33:19.787Z"
   },
   {
    "duration": 4755,
    "start_time": "2022-12-12T08:33:19.812Z"
   },
   {
    "duration": 62297,
    "start_time": "2022-12-12T08:33:24.569Z"
   },
   {
    "duration": 290,
    "start_time": "2022-12-12T08:34:26.870Z"
   },
   {
    "duration": 183,
    "start_time": "2022-12-12T08:34:27.162Z"
   },
   {
    "duration": 139116,
    "start_time": "2022-12-12T08:34:27.347Z"
   },
   {
    "duration": 477,
    "start_time": "2022-12-12T08:36:46.466Z"
   },
   {
    "duration": 194,
    "start_time": "2022-12-12T08:36:46.945Z"
   },
   {
    "duration": 11,
    "start_time": "2022-12-12T08:36:47.141Z"
   },
   {
    "duration": 33,
    "start_time": "2022-12-12T08:36:47.154Z"
   },
   {
    "duration": 4,
    "start_time": "2022-12-12T08:36:47.188Z"
   },
   {
    "duration": 158,
    "start_time": "2022-12-12T08:36:47.194Z"
   },
   {
    "duration": 0,
    "start_time": "2022-12-12T08:36:47.355Z"
   },
   {
    "duration": 0,
    "start_time": "2022-12-12T08:36:47.356Z"
   },
   {
    "duration": 0,
    "start_time": "2022-12-12T08:36:47.358Z"
   },
   {
    "duration": 0,
    "start_time": "2022-12-12T08:36:47.359Z"
   },
   {
    "duration": 0,
    "start_time": "2022-12-12T08:36:47.361Z"
   },
   {
    "duration": 0,
    "start_time": "2022-12-12T08:36:47.362Z"
   },
   {
    "duration": 0,
    "start_time": "2022-12-12T08:36:47.364Z"
   },
   {
    "duration": 0,
    "start_time": "2022-12-12T08:36:47.366Z"
   },
   {
    "duration": 0,
    "start_time": "2022-12-12T08:36:47.368Z"
   },
   {
    "duration": 0,
    "start_time": "2022-12-12T08:36:47.369Z"
   },
   {
    "duration": 0,
    "start_time": "2022-12-12T08:36:47.371Z"
   },
   {
    "duration": 0,
    "start_time": "2022-12-12T08:36:47.372Z"
   },
   {
    "duration": 0,
    "start_time": "2022-12-12T08:36:47.374Z"
   },
   {
    "duration": 0,
    "start_time": "2022-12-12T08:36:47.375Z"
   },
   {
    "duration": 0,
    "start_time": "2022-12-12T08:36:47.376Z"
   },
   {
    "duration": 0,
    "start_time": "2022-12-12T08:36:47.378Z"
   },
   {
    "duration": 0,
    "start_time": "2022-12-12T08:36:47.380Z"
   },
   {
    "duration": 0,
    "start_time": "2022-12-12T08:36:47.381Z"
   },
   {
    "duration": 0,
    "start_time": "2022-12-12T08:36:47.383Z"
   },
   {
    "duration": 0,
    "start_time": "2022-12-12T08:36:47.384Z"
   },
   {
    "duration": 0,
    "start_time": "2022-12-12T08:36:47.386Z"
   },
   {
    "duration": 0,
    "start_time": "2022-12-12T08:36:47.387Z"
   },
   {
    "duration": 0,
    "start_time": "2022-12-12T08:36:47.389Z"
   },
   {
    "duration": 0,
    "start_time": "2022-12-12T08:36:47.391Z"
   },
   {
    "duration": 0,
    "start_time": "2022-12-12T08:36:47.442Z"
   },
   {
    "duration": 0,
    "start_time": "2022-12-12T08:36:47.443Z"
   },
   {
    "duration": 0,
    "start_time": "2022-12-12T08:36:47.444Z"
   },
   {
    "duration": 0,
    "start_time": "2022-12-12T08:36:47.445Z"
   },
   {
    "duration": 0,
    "start_time": "2022-12-12T08:36:47.446Z"
   },
   {
    "duration": 0,
    "start_time": "2022-12-12T08:36:47.447Z"
   },
   {
    "duration": 0,
    "start_time": "2022-12-12T08:36:47.449Z"
   },
   {
    "duration": 3,
    "start_time": "2022-12-12T08:39:25.252Z"
   },
   {
    "duration": 8,
    "start_time": "2022-12-12T08:40:47.743Z"
   },
   {
    "duration": 3,
    "start_time": "2022-12-12T08:40:50.122Z"
   },
   {
    "duration": 1780,
    "start_time": "2022-12-12T08:41:10.698Z"
   },
   {
    "duration": 981,
    "start_time": "2022-12-12T08:41:12.481Z"
   },
   {
    "duration": 13,
    "start_time": "2022-12-12T08:41:13.464Z"
   },
   {
    "duration": 17,
    "start_time": "2022-12-12T08:41:13.479Z"
   },
   {
    "duration": 10,
    "start_time": "2022-12-12T08:41:13.499Z"
   },
   {
    "duration": 33,
    "start_time": "2022-12-12T08:41:13.511Z"
   },
   {
    "duration": 234,
    "start_time": "2022-12-12T08:41:13.548Z"
   },
   {
    "duration": 130,
    "start_time": "2022-12-12T08:41:13.784Z"
   },
   {
    "duration": 42,
    "start_time": "2022-12-12T08:41:13.916Z"
   },
   {
    "duration": 533,
    "start_time": "2022-12-12T08:41:13.962Z"
   },
   {
    "duration": 304,
    "start_time": "2022-12-12T08:41:14.497Z"
   },
   {
    "duration": 106,
    "start_time": "2022-12-12T08:41:14.803Z"
   },
   {
    "duration": 200,
    "start_time": "2022-12-12T08:41:14.911Z"
   },
   {
    "duration": 497,
    "start_time": "2022-12-12T08:41:15.113Z"
   },
   {
    "duration": 976,
    "start_time": "2022-12-12T08:41:15.612Z"
   },
   {
    "duration": 68,
    "start_time": "2022-12-12T08:41:16.590Z"
   },
   {
    "duration": 4,
    "start_time": "2022-12-12T08:41:16.660Z"
   },
   {
    "duration": 72,
    "start_time": "2022-12-12T08:41:16.666Z"
   },
   {
    "duration": 154,
    "start_time": "2022-12-12T08:41:16.740Z"
   },
   {
    "duration": 108,
    "start_time": "2022-12-12T08:41:16.896Z"
   },
   {
    "duration": 41,
    "start_time": "2022-12-12T08:41:17.006Z"
   },
   {
    "duration": 197,
    "start_time": "2022-12-12T08:41:17.048Z"
   },
   {
    "duration": 10,
    "start_time": "2022-12-12T08:41:17.246Z"
   },
   {
    "duration": 181,
    "start_time": "2022-12-12T08:41:17.258Z"
   },
   {
    "duration": 35,
    "start_time": "2022-12-12T08:41:17.440Z"
   },
   {
    "duration": 6,
    "start_time": "2022-12-12T08:41:17.477Z"
   },
   {
    "duration": 14,
    "start_time": "2022-12-12T08:41:17.484Z"
   },
   {
    "duration": 9,
    "start_time": "2022-12-12T08:41:17.503Z"
   },
   {
    "duration": 26,
    "start_time": "2022-12-12T08:41:17.616Z"
   },
   {
    "duration": 15,
    "start_time": "2022-12-12T08:41:17.650Z"
   },
   {
    "duration": 427,
    "start_time": "2022-12-12T08:41:17.667Z"
   },
   {
    "duration": 93,
    "start_time": "2022-12-12T08:41:18.095Z"
   },
   {
    "duration": 16,
    "start_time": "2022-12-12T08:41:18.190Z"
   },
   {
    "duration": 14,
    "start_time": "2022-12-12T08:41:18.208Z"
   },
   {
    "duration": 50,
    "start_time": "2022-12-12T08:41:18.224Z"
   },
   {
    "duration": 15,
    "start_time": "2022-12-12T08:41:18.276Z"
   },
   {
    "duration": 92,
    "start_time": "2022-12-12T08:41:18.293Z"
   },
   {
    "duration": 67,
    "start_time": "2022-12-12T08:41:18.388Z"
   },
   {
    "duration": 5,
    "start_time": "2022-12-12T08:41:18.456Z"
   },
   {
    "duration": 185,
    "start_time": "2022-12-12T08:41:18.463Z"
   },
   {
    "duration": 9,
    "start_time": "2022-12-12T08:41:18.654Z"
   },
   {
    "duration": 15,
    "start_time": "2022-12-12T08:41:18.665Z"
   },
   {
    "duration": 784,
    "start_time": "2022-12-12T08:41:18.682Z"
   },
   {
    "duration": 650,
    "start_time": "2022-12-12T08:41:19.469Z"
   },
   {
    "duration": 200,
    "start_time": "2022-12-12T08:41:20.122Z"
   },
   {
    "duration": 1425,
    "start_time": "2022-12-12T08:41:20.324Z"
   },
   {
    "duration": 6,
    "start_time": "2022-12-12T08:41:21.750Z"
   },
   {
    "duration": 15,
    "start_time": "2022-12-12T08:41:21.758Z"
   },
   {
    "duration": 7,
    "start_time": "2022-12-12T08:41:21.776Z"
   },
   {
    "duration": 21772,
    "start_time": "2022-12-12T08:41:21.785Z"
   },
   {
    "duration": 4,
    "start_time": "2022-12-12T08:41:43.559Z"
   },
   {
    "duration": 26,
    "start_time": "2022-12-12T08:41:43.565Z"
   },
   {
    "duration": 36,
    "start_time": "2022-12-12T08:41:43.593Z"
   },
   {
    "duration": 60,
    "start_time": "2022-12-12T08:41:43.631Z"
   },
   {
    "duration": 224686,
    "start_time": "2022-12-12T08:41:43.693Z"
   },
   {
    "duration": 2399,
    "start_time": "2022-12-12T08:45:28.381Z"
   },
   {
    "duration": 717,
    "start_time": "2022-12-12T08:45:30.782Z"
   },
   {
    "duration": 5,
    "start_time": "2022-12-12T08:45:31.500Z"
   },
   {
    "duration": 80,
    "start_time": "2022-12-12T08:45:31.508Z"
   },
   {
    "duration": 5046,
    "start_time": "2022-12-12T08:45:31.590Z"
   },
   {
    "duration": 62796,
    "start_time": "2022-12-12T08:45:36.645Z"
   },
   {
    "duration": 316,
    "start_time": "2022-12-12T08:46:39.445Z"
   },
   {
    "duration": 109,
    "start_time": "2022-12-12T08:46:39.766Z"
   },
   {
    "duration": 146563,
    "start_time": "2022-12-12T08:46:39.877Z"
   },
   {
    "duration": 435,
    "start_time": "2022-12-12T08:49:06.442Z"
   },
   {
    "duration": 187,
    "start_time": "2022-12-12T08:49:06.880Z"
   },
   {
    "duration": 71,
    "start_time": "2022-12-12T08:49:07.070Z"
   },
   {
    "duration": 31,
    "start_time": "2022-12-12T08:49:07.149Z"
   },
   {
    "duration": 13,
    "start_time": "2022-12-12T08:49:07.182Z"
   },
   {
    "duration": 33,
    "start_time": "2022-12-12T08:49:07.197Z"
   },
   {
    "duration": 45,
    "start_time": "2022-12-12T08:49:07.231Z"
   },
   {
    "duration": 29,
    "start_time": "2022-12-12T08:49:07.278Z"
   },
   {
    "duration": 174,
    "start_time": "2022-12-12T08:49:07.309Z"
   },
   {
    "duration": 3,
    "start_time": "2022-12-12T08:49:07.486Z"
   },
   {
    "duration": 1446,
    "start_time": "2022-12-12T08:49:07.491Z"
   },
   {
    "duration": 8,
    "start_time": "2022-12-12T08:49:08.942Z"
   },
   {
    "duration": 205,
    "start_time": "2022-12-12T08:49:08.954Z"
   },
   {
    "duration": 81,
    "start_time": "2022-12-12T08:49:09.161Z"
   },
   {
    "duration": 56,
    "start_time": "2022-12-12T08:49:09.244Z"
   },
   {
    "duration": 7,
    "start_time": "2022-12-12T08:49:09.302Z"
   },
   {
    "duration": 90,
    "start_time": "2022-12-12T08:49:09.310Z"
   },
   {
    "duration": 153,
    "start_time": "2022-12-12T08:49:09.406Z"
   },
   {
    "duration": 5,
    "start_time": "2022-12-12T08:49:09.561Z"
   },
   {
    "duration": 400,
    "start_time": "2022-12-12T08:49:09.568Z"
   },
   {
    "duration": 3,
    "start_time": "2022-12-12T08:49:09.970Z"
   },
   {
    "duration": 76566,
    "start_time": "2022-12-12T08:49:09.975Z"
   },
   {
    "duration": 1253,
    "start_time": "2022-12-12T08:50:26.543Z"
   },
   {
    "duration": 422,
    "start_time": "2022-12-12T08:50:27.798Z"
   },
   {
    "duration": 4,
    "start_time": "2022-12-12T08:50:28.222Z"
   },
   {
    "duration": 1732,
    "start_time": "2022-12-12T08:51:36.717Z"
   },
   {
    "duration": 910,
    "start_time": "2022-12-12T08:51:38.451Z"
   },
   {
    "duration": 13,
    "start_time": "2022-12-12T08:51:39.363Z"
   },
   {
    "duration": 15,
    "start_time": "2022-12-12T08:51:39.378Z"
   },
   {
    "duration": 9,
    "start_time": "2022-12-12T08:51:39.394Z"
   },
   {
    "duration": 28,
    "start_time": "2022-12-12T08:51:39.405Z"
   },
   {
    "duration": 159,
    "start_time": "2022-12-12T08:51:39.434Z"
   },
   {
    "duration": 167,
    "start_time": "2022-12-12T08:51:39.594Z"
   },
   {
    "duration": 30,
    "start_time": "2022-12-12T08:51:39.763Z"
   },
   {
    "duration": 534,
    "start_time": "2022-12-12T08:51:39.796Z"
   },
   {
    "duration": 235,
    "start_time": "2022-12-12T08:51:40.335Z"
   },
   {
    "duration": 110,
    "start_time": "2022-12-12T08:51:40.572Z"
   },
   {
    "duration": 200,
    "start_time": "2022-12-12T08:51:40.683Z"
   },
   {
    "duration": 489,
    "start_time": "2022-12-12T08:51:40.884Z"
   },
   {
    "duration": 989,
    "start_time": "2022-12-12T08:51:41.374Z"
   },
   {
    "duration": 83,
    "start_time": "2022-12-12T08:51:42.365Z"
   },
   {
    "duration": 10,
    "start_time": "2022-12-12T08:51:42.457Z"
   },
   {
    "duration": 97,
    "start_time": "2022-12-12T08:51:42.468Z"
   },
   {
    "duration": 138,
    "start_time": "2022-12-12T08:51:42.567Z"
   },
   {
    "duration": 135,
    "start_time": "2022-12-12T08:51:42.708Z"
   },
   {
    "duration": 31,
    "start_time": "2022-12-12T08:51:42.850Z"
   },
   {
    "duration": 212,
    "start_time": "2022-12-12T08:51:42.883Z"
   },
   {
    "duration": 7,
    "start_time": "2022-12-12T08:51:43.097Z"
   },
   {
    "duration": 202,
    "start_time": "2022-12-12T08:51:43.106Z"
   },
   {
    "duration": 46,
    "start_time": "2022-12-12T08:51:43.310Z"
   },
   {
    "duration": 6,
    "start_time": "2022-12-12T08:51:43.358Z"
   },
   {
    "duration": 40,
    "start_time": "2022-12-12T08:51:43.366Z"
   },
   {
    "duration": 44,
    "start_time": "2022-12-12T08:51:43.410Z"
   },
   {
    "duration": 18,
    "start_time": "2022-12-12T08:51:43.538Z"
   },
   {
    "duration": 40,
    "start_time": "2022-12-12T08:51:43.560Z"
   },
   {
    "duration": 505,
    "start_time": "2022-12-12T08:51:43.601Z"
   },
   {
    "duration": 93,
    "start_time": "2022-12-12T08:51:44.108Z"
   },
   {
    "duration": 44,
    "start_time": "2022-12-12T08:51:44.203Z"
   },
   {
    "duration": 39,
    "start_time": "2022-12-12T08:51:44.251Z"
   },
   {
    "duration": 39,
    "start_time": "2022-12-12T08:51:44.291Z"
   },
   {
    "duration": 45,
    "start_time": "2022-12-12T08:51:44.332Z"
   },
   {
    "duration": 96,
    "start_time": "2022-12-12T08:51:44.379Z"
   },
   {
    "duration": 72,
    "start_time": "2022-12-12T08:51:44.477Z"
   },
   {
    "duration": 6,
    "start_time": "2022-12-12T08:51:44.551Z"
   },
   {
    "duration": 232,
    "start_time": "2022-12-12T08:51:44.559Z"
   },
   {
    "duration": 8,
    "start_time": "2022-12-12T08:51:44.793Z"
   },
   {
    "duration": 14,
    "start_time": "2022-12-12T08:51:44.802Z"
   },
   {
    "duration": 833,
    "start_time": "2022-12-12T08:51:44.818Z"
   },
   {
    "duration": 628,
    "start_time": "2022-12-12T08:51:45.654Z"
   },
   {
    "duration": 183,
    "start_time": "2022-12-12T08:51:46.284Z"
   },
   {
    "duration": 1412,
    "start_time": "2022-12-12T08:51:46.469Z"
   },
   {
    "duration": 5,
    "start_time": "2022-12-12T08:51:47.883Z"
   },
   {
    "duration": 14,
    "start_time": "2022-12-12T08:51:47.890Z"
   },
   {
    "duration": 28,
    "start_time": "2022-12-12T08:51:47.906Z"
   },
   {
    "duration": 20786,
    "start_time": "2022-12-12T08:51:47.940Z"
   },
   {
    "duration": 10,
    "start_time": "2022-12-12T08:52:08.729Z"
   },
   {
    "duration": 26,
    "start_time": "2022-12-12T08:52:08.741Z"
   },
   {
    "duration": 26,
    "start_time": "2022-12-12T08:52:08.769Z"
   },
   {
    "duration": 33,
    "start_time": "2022-12-12T08:52:08.797Z"
   },
   {
    "duration": 216465,
    "start_time": "2022-12-12T08:52:08.831Z"
   },
   {
    "duration": 2415,
    "start_time": "2022-12-12T08:55:45.298Z"
   },
   {
    "duration": 685,
    "start_time": "2022-12-12T08:55:47.715Z"
   },
   {
    "duration": 5,
    "start_time": "2022-12-12T08:55:48.402Z"
   },
   {
    "duration": 68,
    "start_time": "2022-12-12T08:55:48.409Z"
   },
   {
    "duration": 4785,
    "start_time": "2022-12-12T08:55:48.479Z"
   },
   {
    "duration": 61875,
    "start_time": "2022-12-12T08:55:53.265Z"
   },
   {
    "duration": 299,
    "start_time": "2022-12-12T08:56:55.141Z"
   },
   {
    "duration": 120,
    "start_time": "2022-12-12T08:56:55.441Z"
   },
   {
    "duration": 139909,
    "start_time": "2022-12-12T08:56:55.563Z"
   },
   {
    "duration": 479,
    "start_time": "2022-12-12T08:59:15.474Z"
   },
   {
    "duration": 201,
    "start_time": "2022-12-12T08:59:15.956Z"
   },
   {
    "duration": 11,
    "start_time": "2022-12-12T08:59:16.159Z"
   },
   {
    "duration": 65,
    "start_time": "2022-12-12T08:59:16.172Z"
   },
   {
    "duration": 3,
    "start_time": "2022-12-12T08:59:16.240Z"
   },
   {
    "duration": 21,
    "start_time": "2022-12-12T08:59:16.247Z"
   },
   {
    "duration": 12,
    "start_time": "2022-12-12T08:59:16.270Z"
   },
   {
    "duration": 11,
    "start_time": "2022-12-12T08:59:16.284Z"
   },
   {
    "duration": 118,
    "start_time": "2022-12-12T08:59:16.297Z"
   },
   {
    "duration": 4,
    "start_time": "2022-12-12T08:59:16.416Z"
   },
   {
    "duration": 1423,
    "start_time": "2022-12-12T08:59:16.422Z"
   },
   {
    "duration": 4,
    "start_time": "2022-12-12T08:59:17.850Z"
   },
   {
    "duration": 208,
    "start_time": "2022-12-12T08:59:17.855Z"
   },
   {
    "duration": 64,
    "start_time": "2022-12-12T08:59:18.064Z"
   },
   {
    "duration": 66,
    "start_time": "2022-12-12T08:59:18.131Z"
   },
   {
    "duration": 5,
    "start_time": "2022-12-12T08:59:18.200Z"
   },
   {
    "duration": 15,
    "start_time": "2022-12-12T08:59:18.207Z"
   },
   {
    "duration": 136,
    "start_time": "2022-12-12T08:59:18.229Z"
   },
   {
    "duration": 4,
    "start_time": "2022-12-12T08:59:18.368Z"
   },
   {
    "duration": 364,
    "start_time": "2022-12-12T08:59:18.373Z"
   },
   {
    "duration": 7,
    "start_time": "2022-12-12T08:59:18.744Z"
   },
   {
    "duration": 75633,
    "start_time": "2022-12-12T08:59:18.754Z"
   },
   {
    "duration": 1289,
    "start_time": "2022-12-12T09:00:34.389Z"
   },
   {
    "duration": 434,
    "start_time": "2022-12-12T09:00:35.680Z"
   },
   {
    "duration": 3,
    "start_time": "2022-12-12T09:00:36.116Z"
   },
   {
    "duration": 68861,
    "start_time": "2022-12-12T09:00:36.121Z"
   },
   {
    "duration": 768,
    "start_time": "2022-12-12T09:01:44.984Z"
   },
   {
    "duration": 272,
    "start_time": "2022-12-12T09:01:45.754Z"
   },
   {
    "duration": 13,
    "start_time": "2022-12-12T09:01:46.028Z"
   },
   {
    "duration": 18,
    "start_time": "2022-12-12T09:01:46.050Z"
   },
   {
    "duration": 5,
    "start_time": "2022-12-12T09:01:46.070Z"
   },
   {
    "duration": 6,
    "start_time": "2022-12-12T09:01:46.077Z"
   },
   {
    "duration": 6,
    "start_time": "2022-12-12T09:01:46.084Z"
   },
   {
    "duration": 278,
    "start_time": "2022-12-12T09:01:46.092Z"
   },
   {
    "duration": 10,
    "start_time": "2022-12-12T09:01:46.372Z"
   },
   {
    "duration": 16,
    "start_time": "2022-12-12T09:01:46.384Z"
   },
   {
    "duration": 8,
    "start_time": "2022-12-12T09:01:46.402Z"
   },
   {
    "duration": 111,
    "start_time": "2022-12-12T09:07:00.522Z"
   },
   {
    "duration": 58,
    "start_time": "2022-12-12T09:07:23.976Z"
   },
   {
    "duration": 1868,
    "start_time": "2022-12-12T09:07:38.428Z"
   },
   {
    "duration": 1034,
    "start_time": "2022-12-12T09:07:40.298Z"
   },
   {
    "duration": 11,
    "start_time": "2022-12-12T09:07:41.334Z"
   },
   {
    "duration": 13,
    "start_time": "2022-12-12T09:07:41.348Z"
   },
   {
    "duration": 10,
    "start_time": "2022-12-12T09:07:41.363Z"
   },
   {
    "duration": 31,
    "start_time": "2022-12-12T09:07:41.375Z"
   },
   {
    "duration": 134,
    "start_time": "2022-12-12T09:07:41.408Z"
   },
   {
    "duration": 124,
    "start_time": "2022-12-12T09:07:41.544Z"
   },
   {
    "duration": 26,
    "start_time": "2022-12-12T09:07:41.670Z"
   },
   {
    "duration": 486,
    "start_time": "2022-12-12T09:07:41.698Z"
   },
   {
    "duration": 207,
    "start_time": "2022-12-12T09:07:42.185Z"
   },
   {
    "duration": 113,
    "start_time": "2022-12-12T09:07:42.395Z"
   },
   {
    "duration": 209,
    "start_time": "2022-12-12T09:07:42.511Z"
   },
   {
    "duration": 433,
    "start_time": "2022-12-12T09:07:42.721Z"
   },
   {
    "duration": 879,
    "start_time": "2022-12-12T09:07:43.156Z"
   },
   {
    "duration": 42,
    "start_time": "2022-12-12T09:07:44.037Z"
   },
   {
    "duration": 3,
    "start_time": "2022-12-12T09:07:44.081Z"
   },
   {
    "duration": 57,
    "start_time": "2022-12-12T09:07:44.086Z"
   },
   {
    "duration": 96,
    "start_time": "2022-12-12T09:07:44.145Z"
   },
   {
    "duration": 84,
    "start_time": "2022-12-12T09:07:44.243Z"
   },
   {
    "duration": 26,
    "start_time": "2022-12-12T09:07:44.336Z"
   },
   {
    "duration": 193,
    "start_time": "2022-12-12T09:07:44.364Z"
   },
   {
    "duration": 8,
    "start_time": "2022-12-12T09:07:44.558Z"
   },
   {
    "duration": 183,
    "start_time": "2022-12-12T09:07:44.567Z"
   },
   {
    "duration": 36,
    "start_time": "2022-12-12T09:07:44.752Z"
   },
   {
    "duration": 5,
    "start_time": "2022-12-12T09:07:44.790Z"
   },
   {
    "duration": 9,
    "start_time": "2022-12-12T09:07:44.796Z"
   },
   {
    "duration": 108,
    "start_time": "2022-12-12T09:07:44.809Z"
   },
   {
    "duration": 37,
    "start_time": "2022-12-12T09:07:44.919Z"
   },
   {
    "duration": 24,
    "start_time": "2022-12-12T09:07:44.957Z"
   },
   {
    "duration": 374,
    "start_time": "2022-12-12T09:07:44.983Z"
   },
   {
    "duration": 84,
    "start_time": "2022-12-12T09:07:45.359Z"
   },
   {
    "duration": 5,
    "start_time": "2022-12-12T09:07:45.445Z"
   },
   {
    "duration": 16,
    "start_time": "2022-12-12T09:07:45.452Z"
   },
   {
    "duration": 23,
    "start_time": "2022-12-12T09:07:45.470Z"
   },
   {
    "duration": 10,
    "start_time": "2022-12-12T09:07:45.495Z"
   },
   {
    "duration": 70,
    "start_time": "2022-12-12T09:07:45.506Z"
   },
   {
    "duration": 60,
    "start_time": "2022-12-12T09:07:45.577Z"
   },
   {
    "duration": 4,
    "start_time": "2022-12-12T09:07:45.638Z"
   },
   {
    "duration": 174,
    "start_time": "2022-12-12T09:07:45.644Z"
   },
   {
    "duration": 6,
    "start_time": "2022-12-12T09:07:45.820Z"
   },
   {
    "duration": 4,
    "start_time": "2022-12-12T09:07:45.835Z"
   },
   {
    "duration": 644,
    "start_time": "2022-12-12T09:07:45.840Z"
   },
   {
    "duration": 594,
    "start_time": "2022-12-12T09:07:46.485Z"
   },
   {
    "duration": 144,
    "start_time": "2022-12-12T09:07:47.081Z"
   },
   {
    "duration": 1217,
    "start_time": "2022-12-12T09:07:47.227Z"
   },
   {
    "duration": 3,
    "start_time": "2022-12-12T09:07:48.446Z"
   },
   {
    "duration": 11,
    "start_time": "2022-12-12T09:07:48.451Z"
   },
   {
    "duration": 11,
    "start_time": "2022-12-12T09:07:48.463Z"
   },
   {
    "duration": 20090,
    "start_time": "2022-12-12T09:07:48.475Z"
   },
   {
    "duration": 3,
    "start_time": "2022-12-12T09:08:08.567Z"
   },
   {
    "duration": 8,
    "start_time": "2022-12-12T09:08:08.571Z"
   },
   {
    "duration": 9,
    "start_time": "2022-12-12T09:08:08.580Z"
   },
   {
    "duration": 11,
    "start_time": "2022-12-12T09:08:08.591Z"
   },
   {
    "duration": 198658,
    "start_time": "2022-12-12T09:08:08.603Z"
   },
   {
    "duration": 2198,
    "start_time": "2022-12-12T09:11:27.263Z"
   },
   {
    "duration": 640,
    "start_time": "2022-12-12T09:11:29.463Z"
   },
   {
    "duration": 4,
    "start_time": "2022-12-12T09:11:30.105Z"
   },
   {
    "duration": 40,
    "start_time": "2022-12-12T09:11:30.112Z"
   },
   {
    "duration": 5891,
    "start_time": "2022-12-12T09:11:30.154Z"
   },
   {
    "duration": 51497,
    "start_time": "2022-12-12T09:11:36.046Z"
   },
   {
    "duration": 205,
    "start_time": "2022-12-12T09:12:27.546Z"
   },
   {
    "duration": 189,
    "start_time": "2022-12-12T09:12:27.753Z"
   },
   {
    "duration": 107719,
    "start_time": "2022-12-12T09:12:27.944Z"
   },
   {
    "duration": 473,
    "start_time": "2022-12-12T09:14:15.664Z"
   },
   {
    "duration": 107,
    "start_time": "2022-12-12T09:14:16.138Z"
   },
   {
    "duration": 95,
    "start_time": "2022-12-12T09:14:16.246Z"
   },
   {
    "duration": 38,
    "start_time": "2022-12-12T09:14:16.343Z"
   },
   {
    "duration": 19,
    "start_time": "2022-12-12T09:14:16.383Z"
   },
   {
    "duration": 15,
    "start_time": "2022-12-12T09:14:16.403Z"
   },
   {
    "duration": 28,
    "start_time": "2022-12-12T09:14:16.420Z"
   },
   {
    "duration": 12,
    "start_time": "2022-12-12T09:14:16.449Z"
   },
   {
    "duration": 105,
    "start_time": "2022-12-12T09:14:16.462Z"
   },
   {
    "duration": 1342,
    "start_time": "2022-12-12T09:14:16.569Z"
   },
   {
    "duration": 4,
    "start_time": "2022-12-12T09:14:17.913Z"
   },
   {
    "duration": 14,
    "start_time": "2022-12-12T09:14:17.918Z"
   },
   {
    "duration": 200,
    "start_time": "2022-12-12T09:14:17.934Z"
   },
   {
    "duration": 96,
    "start_time": "2022-12-12T09:14:18.136Z"
   },
   {
    "duration": 60,
    "start_time": "2022-12-12T09:14:18.234Z"
   },
   {
    "duration": 4,
    "start_time": "2022-12-12T09:14:18.296Z"
   },
   {
    "duration": 21,
    "start_time": "2022-12-12T09:14:18.302Z"
   },
   {
    "duration": 131,
    "start_time": "2022-12-12T09:14:18.328Z"
   },
   {
    "duration": 7,
    "start_time": "2022-12-12T09:14:18.461Z"
   },
   {
    "duration": 335,
    "start_time": "2022-12-12T09:14:18.470Z"
   },
   {
    "duration": 3,
    "start_time": "2022-12-12T09:14:18.807Z"
   },
   {
    "duration": 67377,
    "start_time": "2022-12-12T09:14:18.812Z"
   },
   {
    "duration": 1241,
    "start_time": "2022-12-12T09:15:26.191Z"
   },
   {
    "duration": 404,
    "start_time": "2022-12-12T09:15:27.434Z"
   },
   {
    "duration": 3,
    "start_time": "2022-12-12T09:15:27.840Z"
   },
   {
    "duration": 67063,
    "start_time": "2022-12-12T09:15:27.845Z"
   },
   {
    "duration": 808,
    "start_time": "2022-12-12T09:16:34.910Z"
   },
   {
    "duration": 261,
    "start_time": "2022-12-12T09:16:35.720Z"
   },
   {
    "duration": 5,
    "start_time": "2022-12-12T09:16:35.983Z"
   },
   {
    "duration": 21,
    "start_time": "2022-12-12T09:16:35.990Z"
   },
   {
    "duration": 6,
    "start_time": "2022-12-12T09:16:36.014Z"
   },
   {
    "duration": 19,
    "start_time": "2022-12-12T09:16:36.021Z"
   },
   {
    "duration": 21,
    "start_time": "2022-12-12T09:16:36.043Z"
   },
   {
    "duration": 277,
    "start_time": "2022-12-12T09:16:36.066Z"
   },
   {
    "duration": 9,
    "start_time": "2022-12-12T09:16:36.345Z"
   },
   {
    "duration": 22,
    "start_time": "2022-12-12T09:16:36.356Z"
   },
   {
    "duration": 5,
    "start_time": "2022-12-12T09:16:36.380Z"
   },
   {
    "duration": 2,
    "start_time": "2022-12-12T09:16:39.512Z"
   },
   {
    "duration": 3,
    "start_time": "2022-12-12T09:16:54.377Z"
   },
   {
    "duration": 3,
    "start_time": "2022-12-12T09:17:06.258Z"
   },
   {
    "duration": 73,
    "start_time": "2022-12-12T09:17:23.546Z"
   },
   {
    "duration": 35,
    "start_time": "2022-12-12T09:18:13.654Z"
   },
   {
    "duration": 5,
    "start_time": "2022-12-12T09:18:23.858Z"
   },
   {
    "duration": 3,
    "start_time": "2022-12-12T09:18:27.051Z"
   },
   {
    "duration": 878,
    "start_time": "2022-12-12T09:18:28.294Z"
   },
   {
    "duration": 10,
    "start_time": "2022-12-12T09:18:29.674Z"
   },
   {
    "duration": 116,
    "start_time": "2022-12-12T09:18:40.453Z"
   },
   {
    "duration": 55,
    "start_time": "2022-12-12T09:19:02.211Z"
   },
   {
    "duration": 7,
    "start_time": "2022-12-12T09:19:16.892Z"
   },
   {
    "duration": 7,
    "start_time": "2022-12-12T09:19:47.219Z"
   },
   {
    "duration": 6,
    "start_time": "2022-12-12T09:19:56.191Z"
   },
   {
    "duration": 6,
    "start_time": "2022-12-12T09:20:05.291Z"
   },
   {
    "duration": 1735,
    "start_time": "2022-12-12T09:20:36.657Z"
   },
   {
    "duration": 1143,
    "start_time": "2022-12-12T09:20:38.394Z"
   },
   {
    "duration": 12,
    "start_time": "2022-12-12T09:20:39.538Z"
   },
   {
    "duration": 46,
    "start_time": "2022-12-12T09:20:39.553Z"
   },
   {
    "duration": 20,
    "start_time": "2022-12-12T09:20:39.601Z"
   },
   {
    "duration": 55,
    "start_time": "2022-12-12T09:20:39.623Z"
   },
   {
    "duration": 161,
    "start_time": "2022-12-12T09:20:39.679Z"
   },
   {
    "duration": 104,
    "start_time": "2022-12-12T09:20:39.842Z"
   },
   {
    "duration": 28,
    "start_time": "2022-12-12T09:20:39.948Z"
   },
   {
    "duration": 489,
    "start_time": "2022-12-12T09:20:39.980Z"
   },
   {
    "duration": 223,
    "start_time": "2022-12-12T09:20:40.471Z"
   },
   {
    "duration": 100,
    "start_time": "2022-12-12T09:20:40.696Z"
   },
   {
    "duration": 194,
    "start_time": "2022-12-12T09:20:40.798Z"
   },
   {
    "duration": 463,
    "start_time": "2022-12-12T09:20:40.994Z"
   },
   {
    "duration": 949,
    "start_time": "2022-12-12T09:20:41.459Z"
   },
   {
    "duration": 63,
    "start_time": "2022-12-12T09:20:42.411Z"
   },
   {
    "duration": 22,
    "start_time": "2022-12-12T09:20:42.476Z"
   },
   {
    "duration": 80,
    "start_time": "2022-12-12T09:20:42.501Z"
   },
   {
    "duration": 135,
    "start_time": "2022-12-12T09:20:42.584Z"
   },
   {
    "duration": 102,
    "start_time": "2022-12-12T09:20:42.721Z"
   },
   {
    "duration": 35,
    "start_time": "2022-12-12T09:20:42.836Z"
   },
   {
    "duration": 214,
    "start_time": "2022-12-12T09:20:42.873Z"
   },
   {
    "duration": 9,
    "start_time": "2022-12-12T09:20:43.089Z"
   },
   {
    "duration": 209,
    "start_time": "2022-12-12T09:20:43.100Z"
   },
   {
    "duration": 43,
    "start_time": "2022-12-12T09:20:43.311Z"
   },
   {
    "duration": 6,
    "start_time": "2022-12-12T09:20:43.356Z"
   },
   {
    "duration": 31,
    "start_time": "2022-12-12T09:20:43.364Z"
   },
   {
    "duration": 41,
    "start_time": "2022-12-12T09:20:43.399Z"
   },
   {
    "duration": 24,
    "start_time": "2022-12-12T09:20:43.517Z"
   },
   {
    "duration": 15,
    "start_time": "2022-12-12T09:20:43.543Z"
   },
   {
    "duration": 410,
    "start_time": "2022-12-12T09:20:43.560Z"
   },
   {
    "duration": 91,
    "start_time": "2022-12-12T09:20:43.972Z"
   },
   {
    "duration": 53,
    "start_time": "2022-12-12T09:20:44.065Z"
   },
   {
    "duration": 37,
    "start_time": "2022-12-12T09:20:44.120Z"
   },
   {
    "duration": 42,
    "start_time": "2022-12-12T09:20:44.159Z"
   },
   {
    "duration": 28,
    "start_time": "2022-12-12T09:20:44.203Z"
   },
   {
    "duration": 97,
    "start_time": "2022-12-12T09:20:44.233Z"
   },
   {
    "duration": 56,
    "start_time": "2022-12-12T09:20:44.332Z"
   },
   {
    "duration": 4,
    "start_time": "2022-12-12T09:20:44.390Z"
   },
   {
    "duration": 185,
    "start_time": "2022-12-12T09:20:44.396Z"
   },
   {
    "duration": 7,
    "start_time": "2022-12-12T09:20:44.583Z"
   },
   {
    "duration": 39,
    "start_time": "2022-12-12T09:20:44.591Z"
   },
   {
    "duration": 638,
    "start_time": "2022-12-12T09:20:44.632Z"
   },
   {
    "duration": 574,
    "start_time": "2022-12-12T09:20:45.272Z"
   },
   {
    "duration": 149,
    "start_time": "2022-12-12T09:20:45.848Z"
   },
   {
    "duration": 1300,
    "start_time": "2022-12-12T09:20:45.999Z"
   },
   {
    "duration": 4,
    "start_time": "2022-12-12T09:20:47.301Z"
   },
   {
    "duration": 15,
    "start_time": "2022-12-12T09:20:47.307Z"
   },
   {
    "duration": 18,
    "start_time": "2022-12-12T09:20:47.323Z"
   },
   {
    "duration": 20121,
    "start_time": "2022-12-12T09:20:47.342Z"
   },
   {
    "duration": 4,
    "start_time": "2022-12-12T09:21:07.464Z"
   },
   {
    "duration": 17,
    "start_time": "2022-12-12T09:21:07.469Z"
   },
   {
    "duration": 14,
    "start_time": "2022-12-12T09:21:07.488Z"
   },
   {
    "duration": 34,
    "start_time": "2022-12-12T09:21:07.504Z"
   },
   {
    "duration": 203684,
    "start_time": "2022-12-12T09:21:07.540Z"
   },
   {
    "duration": 2442,
    "start_time": "2022-12-12T09:24:31.225Z"
   },
   {
    "duration": 661,
    "start_time": "2022-12-12T09:24:33.669Z"
   },
   {
    "duration": 10,
    "start_time": "2022-12-12T09:24:34.339Z"
   },
   {
    "duration": 30,
    "start_time": "2022-12-12T09:24:34.351Z"
   },
   {
    "duration": 5677,
    "start_time": "2022-12-12T09:24:34.382Z"
   },
   {
    "duration": 56376,
    "start_time": "2022-12-12T09:24:40.061Z"
   },
   {
    "duration": 310,
    "start_time": "2022-12-12T09:25:36.438Z"
   },
   {
    "duration": 186,
    "start_time": "2022-12-12T09:25:36.750Z"
   },
   {
    "duration": 124525,
    "start_time": "2022-12-12T09:25:36.938Z"
   },
   {
    "duration": 392,
    "start_time": "2022-12-12T09:27:41.465Z"
   },
   {
    "duration": 195,
    "start_time": "2022-12-12T09:27:41.859Z"
   },
   {
    "duration": 10,
    "start_time": "2022-12-12T09:27:42.056Z"
   },
   {
    "duration": 79,
    "start_time": "2022-12-12T09:27:42.068Z"
   },
   {
    "duration": 4,
    "start_time": "2022-12-12T09:27:42.149Z"
   },
   {
    "duration": 8,
    "start_time": "2022-12-12T09:27:42.154Z"
   },
   {
    "duration": 871,
    "start_time": "2022-12-12T09:27:42.163Z"
   },
   {
    "duration": 10,
    "start_time": "2022-12-12T09:27:43.045Z"
   },
   {
    "duration": 90,
    "start_time": "2022-12-12T09:27:43.057Z"
   },
   {
    "duration": 2,
    "start_time": "2022-12-12T09:27:43.149Z"
   },
   {
    "duration": 5,
    "start_time": "2022-12-12T09:27:43.156Z"
   },
   {
    "duration": 6,
    "start_time": "2022-12-12T09:27:43.163Z"
   },
   {
    "duration": 47288,
    "start_time": "2022-12-12T09:27:43.170Z"
   },
   {
    "duration": 902,
    "start_time": "2022-12-12T09:28:30.460Z"
   },
   {
    "duration": 374,
    "start_time": "2022-12-12T09:28:31.364Z"
   },
   {
    "duration": 8,
    "start_time": "2022-12-12T09:28:31.740Z"
   },
   {
    "duration": 44,
    "start_time": "2022-12-12T09:28:31.749Z"
   },
   {
    "duration": 126,
    "start_time": "2022-12-12T09:28:31.798Z"
   },
   {
    "duration": 5,
    "start_time": "2022-12-12T09:28:31.926Z"
   },
   {
    "duration": 382,
    "start_time": "2022-12-12T09:28:31.937Z"
   },
   {
    "duration": 4,
    "start_time": "2022-12-12T09:28:32.320Z"
   },
   {
    "duration": 72518,
    "start_time": "2022-12-12T09:28:32.326Z"
   },
   {
    "duration": 1258,
    "start_time": "2022-12-12T09:29:44.851Z"
   },
   {
    "duration": 439,
    "start_time": "2022-12-12T09:29:46.111Z"
   },
   {
    "duration": 3,
    "start_time": "2022-12-12T09:29:46.552Z"
   },
   {
    "duration": 67857,
    "start_time": "2022-12-12T09:29:46.557Z"
   },
   {
    "duration": 747,
    "start_time": "2022-12-12T09:30:54.416Z"
   },
   {
    "duration": 282,
    "start_time": "2022-12-12T09:30:55.165Z"
   },
   {
    "duration": 5,
    "start_time": "2022-12-12T09:30:55.450Z"
   },
   {
    "duration": 21,
    "start_time": "2022-12-12T09:30:55.456Z"
   },
   {
    "duration": 14,
    "start_time": "2022-12-12T09:30:55.479Z"
   },
   {
    "duration": 19,
    "start_time": "2022-12-12T09:30:55.495Z"
   },
   {
    "duration": 6,
    "start_time": "2022-12-12T09:30:55.516Z"
   },
   {
    "duration": 258,
    "start_time": "2022-12-12T09:30:55.524Z"
   },
   {
    "duration": 7,
    "start_time": "2022-12-12T09:30:55.784Z"
   },
   {
    "duration": 12,
    "start_time": "2022-12-12T09:30:55.794Z"
   },
   {
    "duration": 6,
    "start_time": "2022-12-12T09:30:55.807Z"
   },
   {
    "duration": 4,
    "start_time": "2022-12-12T09:37:39.609Z"
   },
   {
    "duration": 5,
    "start_time": "2022-12-12T09:37:42.350Z"
   },
   {
    "duration": 3,
    "start_time": "2022-12-12T09:37:46.927Z"
   },
   {
    "duration": 52,
    "start_time": "2022-12-12T09:37:54.534Z"
   },
   {
    "duration": 6,
    "start_time": "2022-12-12T09:40:27.713Z"
   },
   {
    "duration": 6,
    "start_time": "2022-12-12T09:40:38.450Z"
   },
   {
    "duration": 1811,
    "start_time": "2022-12-12T09:48:58.634Z"
   },
   {
    "duration": 1102,
    "start_time": "2022-12-12T09:49:00.447Z"
   },
   {
    "duration": 11,
    "start_time": "2022-12-12T09:49:01.550Z"
   },
   {
    "duration": 99,
    "start_time": "2022-12-12T09:49:01.564Z"
   },
   {
    "duration": 50,
    "start_time": "2022-12-12T09:49:01.665Z"
   },
   {
    "duration": 54,
    "start_time": "2022-12-12T09:49:01.717Z"
   },
   {
    "duration": 196,
    "start_time": "2022-12-12T09:49:01.773Z"
   },
   {
    "duration": 110,
    "start_time": "2022-12-12T09:49:01.971Z"
   },
   {
    "duration": 26,
    "start_time": "2022-12-12T09:49:02.083Z"
   },
   {
    "duration": 531,
    "start_time": "2022-12-12T09:49:02.111Z"
   },
   {
    "duration": 223,
    "start_time": "2022-12-12T09:49:02.644Z"
   },
   {
    "duration": 110,
    "start_time": "2022-12-12T09:49:02.869Z"
   },
   {
    "duration": 177,
    "start_time": "2022-12-12T09:49:02.981Z"
   },
   {
    "duration": 447,
    "start_time": "2022-12-12T09:49:03.160Z"
   },
   {
    "duration": 836,
    "start_time": "2022-12-12T09:49:03.609Z"
   },
   {
    "duration": 43,
    "start_time": "2022-12-12T09:49:04.447Z"
   },
   {
    "duration": 3,
    "start_time": "2022-12-12T09:49:04.491Z"
   },
   {
    "duration": 50,
    "start_time": "2022-12-12T09:49:04.496Z"
   },
   {
    "duration": 95,
    "start_time": "2022-12-12T09:49:04.547Z"
   },
   {
    "duration": 96,
    "start_time": "2022-12-12T09:49:04.644Z"
   },
   {
    "duration": 26,
    "start_time": "2022-12-12T09:49:04.743Z"
   },
   {
    "duration": 198,
    "start_time": "2022-12-12T09:49:04.771Z"
   },
   {
    "duration": 7,
    "start_time": "2022-12-12T09:49:04.970Z"
   },
   {
    "duration": 203,
    "start_time": "2022-12-12T09:49:04.979Z"
   },
   {
    "duration": 31,
    "start_time": "2022-12-12T09:49:05.183Z"
   },
   {
    "duration": 21,
    "start_time": "2022-12-12T09:49:05.216Z"
   },
   {
    "duration": 16,
    "start_time": "2022-12-12T09:49:05.238Z"
   },
   {
    "duration": 16,
    "start_time": "2022-12-12T09:49:05.259Z"
   },
   {
    "duration": 16,
    "start_time": "2022-12-12T09:49:05.354Z"
   },
   {
    "duration": 24,
    "start_time": "2022-12-12T09:49:05.372Z"
   },
   {
    "duration": 437,
    "start_time": "2022-12-12T09:49:05.398Z"
   },
   {
    "duration": 69,
    "start_time": "2022-12-12T09:49:05.837Z"
   },
   {
    "duration": 3,
    "start_time": "2022-12-12T09:49:05.908Z"
   },
   {
    "duration": 22,
    "start_time": "2022-12-12T09:49:05.913Z"
   },
   {
    "duration": 30,
    "start_time": "2022-12-12T09:49:05.937Z"
   },
   {
    "duration": 16,
    "start_time": "2022-12-12T09:49:05.970Z"
   },
   {
    "duration": 97,
    "start_time": "2022-12-12T09:49:05.988Z"
   },
   {
    "duration": 57,
    "start_time": "2022-12-12T09:49:06.087Z"
   },
   {
    "duration": 3,
    "start_time": "2022-12-12T09:49:06.146Z"
   },
   {
    "duration": 169,
    "start_time": "2022-12-12T09:49:06.151Z"
   },
   {
    "duration": 13,
    "start_time": "2022-12-12T09:49:06.322Z"
   },
   {
    "duration": 4,
    "start_time": "2022-12-12T09:49:06.337Z"
   },
   {
    "duration": 709,
    "start_time": "2022-12-12T09:49:06.342Z"
   },
   {
    "duration": 598,
    "start_time": "2022-12-12T09:49:07.054Z"
   },
   {
    "duration": 146,
    "start_time": "2022-12-12T09:49:07.655Z"
   },
   {
    "duration": 1297,
    "start_time": "2022-12-12T09:49:07.803Z"
   },
   {
    "duration": 4,
    "start_time": "2022-12-12T09:49:09.102Z"
   },
   {
    "duration": 12,
    "start_time": "2022-12-12T09:49:09.108Z"
   },
   {
    "duration": 12,
    "start_time": "2022-12-12T09:49:09.122Z"
   },
   {
    "duration": 20866,
    "start_time": "2022-12-12T09:49:09.135Z"
   },
   {
    "duration": 3,
    "start_time": "2022-12-12T09:49:30.003Z"
   },
   {
    "duration": 31,
    "start_time": "2022-12-12T09:49:30.008Z"
   },
   {
    "duration": 27,
    "start_time": "2022-12-12T09:49:30.042Z"
   },
   {
    "duration": 11,
    "start_time": "2022-12-12T09:49:30.070Z"
   },
   {
    "duration": 1919,
    "start_time": "2022-12-13T07:37:03.870Z"
   },
   {
    "duration": 1110,
    "start_time": "2022-12-13T07:37:05.792Z"
   },
   {
    "duration": 13,
    "start_time": "2022-12-13T07:37:06.904Z"
   },
   {
    "duration": 11,
    "start_time": "2022-12-13T07:37:06.920Z"
   },
   {
    "duration": 8,
    "start_time": "2022-12-13T07:37:06.934Z"
   },
   {
    "duration": 26,
    "start_time": "2022-12-13T07:37:06.944Z"
   },
   {
    "duration": 154,
    "start_time": "2022-12-13T07:37:06.972Z"
   },
   {
    "duration": 104,
    "start_time": "2022-12-13T07:37:07.128Z"
   },
   {
    "duration": 31,
    "start_time": "2022-12-13T07:37:07.234Z"
   },
   {
    "duration": 489,
    "start_time": "2022-12-13T07:37:07.267Z"
   },
   {
    "duration": 215,
    "start_time": "2022-12-13T07:37:07.757Z"
   },
   {
    "duration": 109,
    "start_time": "2022-12-13T07:37:07.974Z"
   },
   {
    "duration": 184,
    "start_time": "2022-12-13T07:37:08.086Z"
   },
   {
    "duration": 473,
    "start_time": "2022-12-13T07:37:08.273Z"
   },
   {
    "duration": 876,
    "start_time": "2022-12-13T07:37:08.748Z"
   },
   {
    "duration": 51,
    "start_time": "2022-12-13T07:37:09.626Z"
   },
   {
    "duration": 3,
    "start_time": "2022-12-13T07:37:09.679Z"
   },
   {
    "duration": 48,
    "start_time": "2022-12-13T07:37:09.684Z"
   },
   {
    "duration": 104,
    "start_time": "2022-12-13T07:37:09.734Z"
   },
   {
    "duration": 102,
    "start_time": "2022-12-13T07:37:09.841Z"
   },
   {
    "duration": 33,
    "start_time": "2022-12-13T07:37:09.945Z"
   },
   {
    "duration": 206,
    "start_time": "2022-12-13T07:37:09.980Z"
   },
   {
    "duration": 8,
    "start_time": "2022-12-13T07:37:10.188Z"
   },
   {
    "duration": 200,
    "start_time": "2022-12-13T07:37:10.198Z"
   },
   {
    "duration": 35,
    "start_time": "2022-12-13T07:37:10.401Z"
   },
   {
    "duration": 19,
    "start_time": "2022-12-13T07:37:10.438Z"
   },
   {
    "duration": 7,
    "start_time": "2022-12-13T07:37:10.458Z"
   },
   {
    "duration": 8,
    "start_time": "2022-12-13T07:37:10.467Z"
   },
   {
    "duration": 17,
    "start_time": "2022-12-13T07:37:10.477Z"
   },
   {
    "duration": 12,
    "start_time": "2022-12-13T07:37:10.496Z"
   },
   {
    "duration": 497,
    "start_time": "2022-12-13T07:37:10.555Z"
   },
   {
    "duration": 71,
    "start_time": "2022-12-13T07:37:11.055Z"
   },
   {
    "duration": 2,
    "start_time": "2022-12-13T07:37:11.128Z"
   },
   {
    "duration": 23,
    "start_time": "2022-12-13T07:37:11.132Z"
   },
   {
    "duration": 19,
    "start_time": "2022-12-13T07:37:11.157Z"
   },
   {
    "duration": 11,
    "start_time": "2022-12-13T07:37:11.178Z"
   },
   {
    "duration": 79,
    "start_time": "2022-12-13T07:37:11.191Z"
   },
   {
    "duration": 167,
    "start_time": "2022-12-13T07:37:11.272Z"
   },
   {
    "duration": 1379,
    "start_time": "2022-12-13T07:37:11.441Z"
   },
   {
    "duration": 54,
    "start_time": "2022-12-13T07:37:12.822Z"
   },
   {
    "duration": 4,
    "start_time": "2022-12-13T07:37:12.883Z"
   },
   {
    "duration": 174,
    "start_time": "2022-12-13T07:37:12.889Z"
   },
   {
    "duration": 8,
    "start_time": "2022-12-13T07:37:13.065Z"
   },
   {
    "duration": 4,
    "start_time": "2022-12-13T07:37:13.075Z"
   },
   {
    "duration": 759,
    "start_time": "2022-12-13T07:37:13.080Z"
   },
   {
    "duration": 373,
    "start_time": "2022-12-13T07:37:13.841Z"
   },
   {
    "duration": 153,
    "start_time": "2022-12-13T07:37:14.216Z"
   },
   {
    "duration": 1435,
    "start_time": "2022-12-13T07:37:14.370Z"
   },
   {
    "duration": 240,
    "start_time": "2022-12-13T07:37:15.807Z"
   },
   {
    "duration": 9,
    "start_time": "2022-12-13T07:37:16.048Z"
   },
   {
    "duration": 5,
    "start_time": "2022-12-13T07:37:16.059Z"
   },
   {
    "duration": 8,
    "start_time": "2022-12-13T07:37:16.066Z"
   },
   {
    "duration": 20515,
    "start_time": "2022-12-13T07:37:16.077Z"
   },
   {
    "duration": 3,
    "start_time": "2022-12-13T07:37:36.594Z"
   },
   {
    "duration": 6,
    "start_time": "2022-12-13T07:37:36.599Z"
   },
   {
    "duration": 5,
    "start_time": "2022-12-13T07:37:36.607Z"
   },
   {
    "duration": 9,
    "start_time": "2022-12-13T07:37:36.613Z"
   },
   {
    "duration": 1721,
    "start_time": "2022-12-13T07:41:04.383Z"
   },
   {
    "duration": 927,
    "start_time": "2022-12-13T07:41:06.106Z"
   },
   {
    "duration": 13,
    "start_time": "2022-12-13T07:41:07.035Z"
   },
   {
    "duration": 7,
    "start_time": "2022-12-13T07:41:07.055Z"
   },
   {
    "duration": 23,
    "start_time": "2022-12-13T07:41:07.063Z"
   },
   {
    "duration": 33,
    "start_time": "2022-12-13T07:41:07.089Z"
   },
   {
    "duration": 159,
    "start_time": "2022-12-13T07:41:07.124Z"
   },
   {
    "duration": 117,
    "start_time": "2022-12-13T07:41:07.286Z"
   },
   {
    "duration": 30,
    "start_time": "2022-12-13T07:41:07.406Z"
   },
   {
    "duration": 511,
    "start_time": "2022-12-13T07:41:07.439Z"
   },
   {
    "duration": 230,
    "start_time": "2022-12-13T07:41:07.954Z"
   },
   {
    "duration": 114,
    "start_time": "2022-12-13T07:41:08.186Z"
   },
   {
    "duration": 196,
    "start_time": "2022-12-13T07:41:08.303Z"
   },
   {
    "duration": 548,
    "start_time": "2022-12-13T07:41:08.501Z"
   },
   {
    "duration": 931,
    "start_time": "2022-12-13T07:41:09.057Z"
   },
   {
    "duration": 45,
    "start_time": "2022-12-13T07:41:09.989Z"
   },
   {
    "duration": 20,
    "start_time": "2022-12-13T07:41:10.036Z"
   },
   {
    "duration": 40,
    "start_time": "2022-12-13T07:41:10.058Z"
   },
   {
    "duration": 106,
    "start_time": "2022-12-13T07:41:10.100Z"
   },
   {
    "duration": 113,
    "start_time": "2022-12-13T07:41:10.208Z"
   },
   {
    "duration": 38,
    "start_time": "2022-12-13T07:41:10.323Z"
   },
   {
    "duration": 213,
    "start_time": "2022-12-13T07:41:10.363Z"
   },
   {
    "duration": 8,
    "start_time": "2022-12-13T07:41:10.578Z"
   },
   {
    "duration": 193,
    "start_time": "2022-12-13T07:41:10.588Z"
   },
   {
    "duration": 34,
    "start_time": "2022-12-13T07:41:10.783Z"
   },
   {
    "duration": 6,
    "start_time": "2022-12-13T07:41:10.819Z"
   },
   {
    "duration": 31,
    "start_time": "2022-12-13T07:41:10.827Z"
   },
   {
    "duration": 11,
    "start_time": "2022-12-13T07:41:10.863Z"
   },
   {
    "duration": 119,
    "start_time": "2022-12-13T07:41:10.876Z"
   },
   {
    "duration": 12,
    "start_time": "2022-12-13T07:41:10.998Z"
   },
   {
    "duration": 478,
    "start_time": "2022-12-13T07:41:11.013Z"
   },
   {
    "duration": 79,
    "start_time": "2022-12-13T07:41:11.494Z"
   },
   {
    "duration": 3,
    "start_time": "2022-12-13T07:41:11.576Z"
   },
   {
    "duration": 6,
    "start_time": "2022-12-13T07:41:11.582Z"
   },
   {
    "duration": 50,
    "start_time": "2022-12-13T07:41:11.590Z"
   },
   {
    "duration": 13,
    "start_time": "2022-12-13T07:41:11.642Z"
   },
   {
    "duration": 73,
    "start_time": "2022-12-13T07:41:11.657Z"
   },
   {
    "duration": 177,
    "start_time": "2022-12-13T07:41:11.732Z"
   },
   {
    "duration": 1361,
    "start_time": "2022-12-13T07:41:11.911Z"
   },
   {
    "duration": 55,
    "start_time": "2022-12-13T07:41:13.275Z"
   },
   {
    "duration": 5,
    "start_time": "2022-12-13T07:41:13.332Z"
   },
   {
    "duration": 169,
    "start_time": "2022-12-13T07:41:13.356Z"
   },
   {
    "duration": 9,
    "start_time": "2022-12-13T07:41:13.527Z"
   },
   {
    "duration": 18,
    "start_time": "2022-12-13T07:41:13.538Z"
   },
   {
    "duration": 889,
    "start_time": "2022-12-13T07:41:13.558Z"
   },
   {
    "duration": 407,
    "start_time": "2022-12-13T07:41:14.450Z"
   },
   {
    "duration": 159,
    "start_time": "2022-12-13T07:41:14.859Z"
   },
   {
    "duration": 1358,
    "start_time": "2022-12-13T07:41:15.020Z"
   },
   {
    "duration": 233,
    "start_time": "2022-12-13T07:41:16.380Z"
   },
   {
    "duration": 4,
    "start_time": "2022-12-13T07:41:16.615Z"
   },
   {
    "duration": 6,
    "start_time": "2022-12-13T07:41:16.621Z"
   },
   {
    "duration": 6,
    "start_time": "2022-12-13T07:41:16.629Z"
   },
   {
    "duration": 21286,
    "start_time": "2022-12-13T07:41:16.637Z"
   },
   {
    "duration": 4,
    "start_time": "2022-12-13T07:41:37.925Z"
   },
   {
    "duration": 20,
    "start_time": "2022-12-13T07:41:37.930Z"
   },
   {
    "duration": 26,
    "start_time": "2022-12-13T07:41:37.952Z"
   },
   {
    "duration": 26,
    "start_time": "2022-12-13T07:41:37.980Z"
   },
   {
    "duration": 215307,
    "start_time": "2022-12-13T07:41:38.008Z"
   },
   {
    "duration": 2347,
    "start_time": "2022-12-13T07:45:13.318Z"
   },
   {
    "duration": 730,
    "start_time": "2022-12-13T07:45:15.666Z"
   },
   {
    "duration": 4,
    "start_time": "2022-12-13T07:45:16.398Z"
   },
   {
    "duration": 19,
    "start_time": "2022-12-13T07:45:16.404Z"
   },
   {
    "duration": 4950,
    "start_time": "2022-12-13T07:45:16.426Z"
   },
   {
    "duration": 52,
    "start_time": "2022-12-13T12:09:13.778Z"
   },
   {
    "duration": 1872,
    "start_time": "2022-12-13T12:09:41.294Z"
   },
   {
    "duration": 1161,
    "start_time": "2022-12-13T12:09:43.168Z"
   },
   {
    "duration": 12,
    "start_time": "2022-12-13T12:09:44.330Z"
   },
   {
    "duration": 7,
    "start_time": "2022-12-13T12:09:44.344Z"
   },
   {
    "duration": 5,
    "start_time": "2022-12-13T12:09:44.354Z"
   },
   {
    "duration": 27,
    "start_time": "2022-12-13T12:09:44.361Z"
   },
   {
    "duration": 175,
    "start_time": "2022-12-13T12:09:44.390Z"
   },
   {
    "duration": 135,
    "start_time": "2022-12-13T12:09:44.568Z"
   },
   {
    "duration": 55,
    "start_time": "2022-12-13T12:09:44.705Z"
   },
   {
    "duration": 533,
    "start_time": "2022-12-13T12:09:44.763Z"
   },
   {
    "duration": 228,
    "start_time": "2022-12-13T12:09:45.297Z"
   },
   {
    "duration": 107,
    "start_time": "2022-12-13T12:09:45.527Z"
   },
   {
    "duration": 205,
    "start_time": "2022-12-13T12:09:45.636Z"
   },
   {
    "duration": 468,
    "start_time": "2022-12-13T12:09:45.844Z"
   },
   {
    "duration": 911,
    "start_time": "2022-12-13T12:09:46.314Z"
   },
   {
    "duration": 59,
    "start_time": "2022-12-13T12:09:47.226Z"
   },
   {
    "duration": 3,
    "start_time": "2022-12-13T12:09:47.287Z"
   },
   {
    "duration": 42,
    "start_time": "2022-12-13T12:09:47.292Z"
   },
   {
    "duration": 119,
    "start_time": "2022-12-13T12:09:47.336Z"
   },
   {
    "duration": 112,
    "start_time": "2022-12-13T12:09:47.457Z"
   },
   {
    "duration": 31,
    "start_time": "2022-12-13T12:09:47.571Z"
   },
   {
    "duration": 224,
    "start_time": "2022-12-13T12:09:47.604Z"
   },
   {
    "duration": 7,
    "start_time": "2022-12-13T12:09:47.830Z"
   },
   {
    "duration": 198,
    "start_time": "2022-12-13T12:09:47.839Z"
   },
   {
    "duration": 40,
    "start_time": "2022-12-13T12:09:48.039Z"
   },
   {
    "duration": 5,
    "start_time": "2022-12-13T12:09:48.081Z"
   },
   {
    "duration": 7,
    "start_time": "2022-12-13T12:09:48.088Z"
   },
   {
    "duration": 7,
    "start_time": "2022-12-13T12:09:48.097Z"
   },
   {
    "duration": 57,
    "start_time": "2022-12-13T12:09:48.106Z"
   },
   {
    "duration": 12,
    "start_time": "2022-12-13T12:09:48.165Z"
   },
   {
    "duration": 505,
    "start_time": "2022-12-13T12:09:48.178Z"
   },
   {
    "duration": 79,
    "start_time": "2022-12-13T12:09:48.685Z"
   },
   {
    "duration": 3,
    "start_time": "2022-12-13T12:09:48.766Z"
   },
   {
    "duration": 12,
    "start_time": "2022-12-13T12:09:48.770Z"
   },
   {
    "duration": 24,
    "start_time": "2022-12-13T12:09:48.784Z"
   },
   {
    "duration": 10,
    "start_time": "2022-12-13T12:09:48.810Z"
   },
   {
    "duration": 87,
    "start_time": "2022-12-13T12:09:59.302Z"
   },
   {
    "duration": 8,
    "start_time": "2022-12-13T12:10:33.658Z"
   },
   {
    "duration": 908,
    "start_time": "2022-12-13T12:10:33.668Z"
   },
   {
    "duration": 13,
    "start_time": "2022-12-13T12:10:34.580Z"
   },
   {
    "duration": 16,
    "start_time": "2022-12-13T12:10:34.595Z"
   },
   {
    "duration": 9,
    "start_time": "2022-12-13T12:10:34.614Z"
   },
   {
    "duration": 44,
    "start_time": "2022-12-13T12:10:34.625Z"
   },
   {
    "duration": 161,
    "start_time": "2022-12-13T12:10:34.671Z"
   },
   {
    "duration": 104,
    "start_time": "2022-12-13T12:10:34.834Z"
   },
   {
    "duration": 43,
    "start_time": "2022-12-13T12:10:34.939Z"
   },
   {
    "duration": 506,
    "start_time": "2022-12-13T12:10:34.984Z"
   },
   {
    "duration": 227,
    "start_time": "2022-12-13T12:10:35.493Z"
   },
   {
    "duration": 116,
    "start_time": "2022-12-13T12:10:35.721Z"
   },
   {
    "duration": 215,
    "start_time": "2022-12-13T12:10:35.840Z"
   },
   {
    "duration": 421,
    "start_time": "2022-12-13T12:10:36.057Z"
   },
   {
    "duration": 841,
    "start_time": "2022-12-13T12:10:36.480Z"
   },
   {
    "duration": 54,
    "start_time": "2022-12-13T12:10:37.323Z"
   },
   {
    "duration": 4,
    "start_time": "2022-12-13T12:10:37.379Z"
   },
   {
    "duration": 37,
    "start_time": "2022-12-13T12:10:37.385Z"
   },
   {
    "duration": 116,
    "start_time": "2022-12-13T12:10:37.424Z"
   },
   {
    "duration": 118,
    "start_time": "2022-12-13T12:10:37.541Z"
   },
   {
    "duration": 26,
    "start_time": "2022-12-13T12:10:37.661Z"
   },
   {
    "duration": 211,
    "start_time": "2022-12-13T12:10:37.689Z"
   },
   {
    "duration": 7,
    "start_time": "2022-12-13T12:10:37.902Z"
   },
   {
    "duration": 194,
    "start_time": "2022-12-13T12:10:37.910Z"
   },
   {
    "duration": 49,
    "start_time": "2022-12-13T12:10:38.106Z"
   },
   {
    "duration": 6,
    "start_time": "2022-12-13T12:10:38.157Z"
   },
   {
    "duration": 9,
    "start_time": "2022-12-13T12:10:38.165Z"
   },
   {
    "duration": 9,
    "start_time": "2022-12-13T12:10:38.176Z"
   },
   {
    "duration": 17,
    "start_time": "2022-12-13T12:10:38.189Z"
   },
   {
    "duration": 55,
    "start_time": "2022-12-13T12:10:38.207Z"
   },
   {
    "duration": 432,
    "start_time": "2022-12-13T12:10:38.264Z"
   },
   {
    "duration": 82,
    "start_time": "2022-12-13T12:10:38.698Z"
   },
   {
    "duration": 3,
    "start_time": "2022-12-13T12:10:38.781Z"
   },
   {
    "duration": 7,
    "start_time": "2022-12-13T12:10:38.785Z"
   },
   {
    "duration": 17,
    "start_time": "2022-12-13T12:10:38.794Z"
   },
   {
    "duration": 11,
    "start_time": "2022-12-13T12:10:38.813Z"
   },
   {
    "duration": 59,
    "start_time": "2022-12-13T12:10:38.854Z"
   },
   {
    "duration": 11,
    "start_time": "2022-12-13T12:10:48.555Z"
   },
   {
    "duration": 7,
    "start_time": "2022-12-13T12:12:50.297Z"
   },
   {
    "duration": 881,
    "start_time": "2022-12-13T12:12:50.306Z"
   },
   {
    "duration": 12,
    "start_time": "2022-12-13T12:12:51.189Z"
   },
   {
    "duration": 8,
    "start_time": "2022-12-13T12:12:51.203Z"
   },
   {
    "duration": 5,
    "start_time": "2022-12-13T12:12:51.213Z"
   },
   {
    "duration": 19,
    "start_time": "2022-12-13T12:12:51.220Z"
   },
   {
    "duration": 146,
    "start_time": "2022-12-13T12:12:51.241Z"
   },
   {
    "duration": 96,
    "start_time": "2022-12-13T12:12:51.389Z"
   },
   {
    "duration": 30,
    "start_time": "2022-12-13T12:12:51.488Z"
   },
   {
    "duration": 479,
    "start_time": "2022-12-13T12:12:51.519Z"
   },
   {
    "duration": 209,
    "start_time": "2022-12-13T12:12:52.000Z"
   },
   {
    "duration": 107,
    "start_time": "2022-12-13T12:12:52.211Z"
   },
   {
    "duration": 182,
    "start_time": "2022-12-13T12:12:52.320Z"
   },
   {
    "duration": 447,
    "start_time": "2022-12-13T12:12:52.504Z"
   },
   {
    "duration": 888,
    "start_time": "2022-12-13T12:12:52.953Z"
   },
   {
    "duration": 50,
    "start_time": "2022-12-13T12:12:53.842Z"
   },
   {
    "duration": 5,
    "start_time": "2022-12-13T12:12:53.893Z"
   },
   {
    "duration": 38,
    "start_time": "2022-12-13T12:12:53.899Z"
   },
   {
    "duration": 116,
    "start_time": "2022-12-13T12:12:53.939Z"
   },
   {
    "duration": 103,
    "start_time": "2022-12-13T12:12:54.057Z"
   },
   {
    "duration": 30,
    "start_time": "2022-12-13T12:12:54.162Z"
   },
   {
    "duration": 200,
    "start_time": "2022-12-13T12:12:54.194Z"
   },
   {
    "duration": 7,
    "start_time": "2022-12-13T12:12:54.396Z"
   },
   {
    "duration": 215,
    "start_time": "2022-12-13T12:12:54.406Z"
   },
   {
    "duration": 35,
    "start_time": "2022-12-13T12:12:54.623Z"
   },
   {
    "duration": 6,
    "start_time": "2022-12-13T12:12:54.660Z"
   },
   {
    "duration": 9,
    "start_time": "2022-12-13T12:12:54.669Z"
   },
   {
    "duration": 15,
    "start_time": "2022-12-13T12:12:54.680Z"
   },
   {
    "duration": 37,
    "start_time": "2022-12-13T12:12:54.698Z"
   },
   {
    "duration": 35,
    "start_time": "2022-12-13T12:12:54.737Z"
   },
   {
    "duration": 415,
    "start_time": "2022-12-13T12:12:54.774Z"
   },
   {
    "duration": 76,
    "start_time": "2022-12-13T12:12:55.191Z"
   },
   {
    "duration": 3,
    "start_time": "2022-12-13T12:12:55.269Z"
   },
   {
    "duration": 6,
    "start_time": "2022-12-13T12:12:55.273Z"
   },
   {
    "duration": 16,
    "start_time": "2022-12-13T12:12:55.280Z"
   },
   {
    "duration": 11,
    "start_time": "2022-12-13T12:12:55.297Z"
   },
   {
    "duration": 83,
    "start_time": "2022-12-13T12:12:55.309Z"
   },
   {
    "duration": 12,
    "start_time": "2022-12-13T12:13:02.169Z"
   },
   {
    "duration": 8,
    "start_time": "2022-12-13T12:18:37.863Z"
   },
   {
    "duration": 862,
    "start_time": "2022-12-13T12:18:37.873Z"
   },
   {
    "duration": 12,
    "start_time": "2022-12-13T12:18:38.737Z"
   },
   {
    "duration": 13,
    "start_time": "2022-12-13T12:18:38.755Z"
   },
   {
    "duration": 9,
    "start_time": "2022-12-13T12:18:38.771Z"
   },
   {
    "duration": 30,
    "start_time": "2022-12-13T12:18:38.781Z"
   },
   {
    "duration": 157,
    "start_time": "2022-12-13T12:18:38.812Z"
   },
   {
    "duration": 109,
    "start_time": "2022-12-13T12:18:38.971Z"
   },
   {
    "duration": 28,
    "start_time": "2022-12-13T12:18:39.082Z"
   },
   {
    "duration": 498,
    "start_time": "2022-12-13T12:18:39.112Z"
   },
   {
    "duration": 198,
    "start_time": "2022-12-13T12:18:39.613Z"
   },
   {
    "duration": 100,
    "start_time": "2022-12-13T12:18:39.813Z"
   },
   {
    "duration": 183,
    "start_time": "2022-12-13T12:18:39.915Z"
   },
   {
    "duration": 422,
    "start_time": "2022-12-13T12:18:40.100Z"
   },
   {
    "duration": 806,
    "start_time": "2022-12-13T12:18:40.524Z"
   },
   {
    "duration": 48,
    "start_time": "2022-12-13T12:18:41.332Z"
   },
   {
    "duration": 3,
    "start_time": "2022-12-13T12:18:41.382Z"
   },
   {
    "duration": 59,
    "start_time": "2022-12-13T12:18:41.387Z"
   },
   {
    "duration": 99,
    "start_time": "2022-12-13T12:18:41.448Z"
   },
   {
    "duration": 93,
    "start_time": "2022-12-13T12:18:41.549Z"
   },
   {
    "duration": 37,
    "start_time": "2022-12-13T12:18:41.644Z"
   },
   {
    "duration": 185,
    "start_time": "2022-12-13T12:18:41.683Z"
   },
   {
    "duration": 7,
    "start_time": "2022-12-13T12:18:41.870Z"
   },
   {
    "duration": 191,
    "start_time": "2022-12-13T12:18:41.879Z"
   },
   {
    "duration": 33,
    "start_time": "2022-12-13T12:18:42.071Z"
   },
   {
    "duration": 6,
    "start_time": "2022-12-13T12:18:42.105Z"
   },
   {
    "duration": 11,
    "start_time": "2022-12-13T12:18:42.113Z"
   },
   {
    "duration": 35,
    "start_time": "2022-12-13T12:18:42.125Z"
   },
   {
    "duration": 17,
    "start_time": "2022-12-13T12:18:42.163Z"
   },
   {
    "duration": 22,
    "start_time": "2022-12-13T12:18:42.181Z"
   },
   {
    "duration": 501,
    "start_time": "2022-12-13T12:18:42.205Z"
   },
   {
    "duration": 74,
    "start_time": "2022-12-13T12:18:42.708Z"
   },
   {
    "duration": 32,
    "start_time": "2022-12-13T12:18:42.783Z"
   },
   {
    "duration": 25,
    "start_time": "2022-12-13T12:18:42.817Z"
   },
   {
    "duration": 36,
    "start_time": "2022-12-13T12:18:42.843Z"
   },
   {
    "duration": 13,
    "start_time": "2022-12-13T12:18:42.882Z"
   },
   {
    "duration": 101,
    "start_time": "2022-12-13T12:18:42.897Z"
   },
   {
    "duration": 12,
    "start_time": "2022-12-13T12:18:45.943Z"
   },
   {
    "duration": 7,
    "start_time": "2022-12-13T12:19:26.577Z"
   },
   {
    "duration": 914,
    "start_time": "2022-12-13T12:19:26.586Z"
   },
   {
    "duration": 11,
    "start_time": "2022-12-13T12:19:27.503Z"
   },
   {
    "duration": 20,
    "start_time": "2022-12-13T12:19:27.516Z"
   },
   {
    "duration": 19,
    "start_time": "2022-12-13T12:19:27.538Z"
   },
   {
    "duration": 20,
    "start_time": "2022-12-13T12:19:27.559Z"
   },
   {
    "duration": 151,
    "start_time": "2022-12-13T12:19:27.582Z"
   },
   {
    "duration": 102,
    "start_time": "2022-12-13T12:19:27.736Z"
   },
   {
    "duration": 47,
    "start_time": "2022-12-13T12:19:27.840Z"
   },
   {
    "duration": 557,
    "start_time": "2022-12-13T12:19:27.888Z"
   },
   {
    "duration": 204,
    "start_time": "2022-12-13T12:19:28.447Z"
   },
   {
    "duration": 105,
    "start_time": "2022-12-13T12:19:28.652Z"
   },
   {
    "duration": 216,
    "start_time": "2022-12-13T12:19:28.760Z"
   },
   {
    "duration": 464,
    "start_time": "2022-12-13T12:19:28.979Z"
   },
   {
    "duration": 976,
    "start_time": "2022-12-13T12:19:29.445Z"
   },
   {
    "duration": 74,
    "start_time": "2022-12-13T12:19:30.422Z"
   },
   {
    "duration": 3,
    "start_time": "2022-12-13T12:19:30.499Z"
   },
   {
    "duration": 64,
    "start_time": "2022-12-13T12:19:30.503Z"
   },
   {
    "duration": 126,
    "start_time": "2022-12-13T12:19:30.572Z"
   },
   {
    "duration": 113,
    "start_time": "2022-12-13T12:19:30.699Z"
   },
   {
    "duration": 26,
    "start_time": "2022-12-13T12:19:30.814Z"
   },
   {
    "duration": 208,
    "start_time": "2022-12-13T12:19:30.862Z"
   },
   {
    "duration": 21,
    "start_time": "2022-12-13T12:19:31.073Z"
   },
   {
    "duration": 299,
    "start_time": "2022-12-13T12:19:31.096Z"
   },
   {
    "duration": 31,
    "start_time": "2022-12-13T12:19:31.397Z"
   },
   {
    "duration": 58,
    "start_time": "2022-12-13T12:19:31.430Z"
   },
   {
    "duration": 48,
    "start_time": "2022-12-13T12:19:31.491Z"
   },
   {
    "duration": 27,
    "start_time": "2022-12-13T12:19:31.541Z"
   },
   {
    "duration": 17,
    "start_time": "2022-12-13T12:19:31.574Z"
   },
   {
    "duration": 11,
    "start_time": "2022-12-13T12:19:31.593Z"
   },
   {
    "duration": 470,
    "start_time": "2022-12-13T12:19:31.606Z"
   },
   {
    "duration": 81,
    "start_time": "2022-12-13T12:19:32.078Z"
   },
   {
    "duration": 3,
    "start_time": "2022-12-13T12:19:32.161Z"
   },
   {
    "duration": 13,
    "start_time": "2022-12-13T12:19:32.166Z"
   },
   {
    "duration": 17,
    "start_time": "2022-12-13T12:19:32.181Z"
   },
   {
    "duration": 12,
    "start_time": "2022-12-13T12:19:32.200Z"
   },
   {
    "duration": 80,
    "start_time": "2022-12-13T12:19:32.214Z"
   },
   {
    "duration": 7,
    "start_time": "2022-12-13T12:19:37.123Z"
   },
   {
    "duration": 16,
    "start_time": "2022-12-13T12:20:29.963Z"
   },
   {
    "duration": 1048,
    "start_time": "2022-12-13T12:20:29.982Z"
   },
   {
    "duration": 12,
    "start_time": "2022-12-13T12:20:31.032Z"
   },
   {
    "duration": 25,
    "start_time": "2022-12-13T12:20:31.046Z"
   },
   {
    "duration": 22,
    "start_time": "2022-12-13T12:20:31.074Z"
   },
   {
    "duration": 22,
    "start_time": "2022-12-13T12:20:31.098Z"
   },
   {
    "duration": 161,
    "start_time": "2022-12-13T12:20:31.122Z"
   },
   {
    "duration": 118,
    "start_time": "2022-12-13T12:20:31.285Z"
   },
   {
    "duration": 30,
    "start_time": "2022-12-13T12:20:31.405Z"
   },
   {
    "duration": 582,
    "start_time": "2022-12-13T12:20:31.438Z"
   },
   {
    "duration": 251,
    "start_time": "2022-12-13T12:20:32.021Z"
   },
   {
    "duration": 128,
    "start_time": "2022-12-13T12:20:32.276Z"
   },
   {
    "duration": 215,
    "start_time": "2022-12-13T12:20:32.405Z"
   },
   {
    "duration": 493,
    "start_time": "2022-12-13T12:20:32.622Z"
   },
   {
    "duration": 1014,
    "start_time": "2022-12-13T12:20:33.117Z"
   },
   {
    "duration": 70,
    "start_time": "2022-12-13T12:20:34.133Z"
   },
   {
    "duration": 3,
    "start_time": "2022-12-13T12:20:34.205Z"
   },
   {
    "duration": 45,
    "start_time": "2022-12-13T12:20:34.210Z"
   },
   {
    "duration": 132,
    "start_time": "2022-12-13T12:20:34.259Z"
   },
   {
    "duration": 115,
    "start_time": "2022-12-13T12:20:34.393Z"
   },
   {
    "duration": 28,
    "start_time": "2022-12-13T12:20:34.510Z"
   },
   {
    "duration": 256,
    "start_time": "2022-12-13T12:20:34.555Z"
   },
   {
    "duration": 9,
    "start_time": "2022-12-13T12:20:34.813Z"
   },
   {
    "duration": 238,
    "start_time": "2022-12-13T12:20:34.824Z"
   },
   {
    "duration": 35,
    "start_time": "2022-12-13T12:20:35.065Z"
   },
   {
    "duration": 6,
    "start_time": "2022-12-13T12:20:35.102Z"
   },
   {
    "duration": 12,
    "start_time": "2022-12-13T12:20:35.109Z"
   },
   {
    "duration": 7,
    "start_time": "2022-12-13T12:20:35.125Z"
   },
   {
    "duration": 27,
    "start_time": "2022-12-13T12:20:35.156Z"
   },
   {
    "duration": 10,
    "start_time": "2022-12-13T12:20:35.184Z"
   },
   {
    "duration": 475,
    "start_time": "2022-12-13T12:20:35.196Z"
   },
   {
    "duration": 84,
    "start_time": "2022-12-13T12:20:35.674Z"
   },
   {
    "duration": 4,
    "start_time": "2022-12-13T12:20:35.761Z"
   },
   {
    "duration": 15,
    "start_time": "2022-12-13T12:20:35.768Z"
   },
   {
    "duration": 20,
    "start_time": "2022-12-13T12:20:35.785Z"
   },
   {
    "duration": 10,
    "start_time": "2022-12-13T12:20:35.807Z"
   },
   {
    "duration": 68,
    "start_time": "2022-12-13T12:20:35.819Z"
   },
   {
    "duration": 10,
    "start_time": "2022-12-13T12:20:44.538Z"
   },
   {
    "duration": 13,
    "start_time": "2022-12-13T12:26:15.276Z"
   },
   {
    "duration": 1109,
    "start_time": "2022-12-13T12:26:15.291Z"
   },
   {
    "duration": 13,
    "start_time": "2022-12-13T12:26:16.402Z"
   },
   {
    "duration": 86,
    "start_time": "2022-12-13T12:26:16.417Z"
   },
   {
    "duration": 9,
    "start_time": "2022-12-13T12:26:16.506Z"
   },
   {
    "duration": 29,
    "start_time": "2022-12-13T12:26:16.518Z"
   },
   {
    "duration": 187,
    "start_time": "2022-12-13T12:26:16.550Z"
   },
   {
    "duration": 120,
    "start_time": "2022-12-13T12:26:16.740Z"
   },
   {
    "duration": 47,
    "start_time": "2022-12-13T12:26:16.863Z"
   },
   {
    "duration": 558,
    "start_time": "2022-12-13T12:26:16.911Z"
   },
   {
    "duration": 251,
    "start_time": "2022-12-13T12:26:17.473Z"
   },
   {
    "duration": 128,
    "start_time": "2022-12-13T12:26:17.727Z"
   },
   {
    "duration": 232,
    "start_time": "2022-12-13T12:26:17.858Z"
   },
   {
    "duration": 508,
    "start_time": "2022-12-13T12:26:18.092Z"
   },
   {
    "duration": 1019,
    "start_time": "2022-12-13T12:26:18.602Z"
   },
   {
    "duration": 80,
    "start_time": "2022-12-13T12:26:19.623Z"
   },
   {
    "duration": 3,
    "start_time": "2022-12-13T12:26:19.705Z"
   },
   {
    "duration": 49,
    "start_time": "2022-12-13T12:26:19.710Z"
   },
   {
    "duration": 107,
    "start_time": "2022-12-13T12:26:19.762Z"
   },
   {
    "duration": 121,
    "start_time": "2022-12-13T12:26:19.873Z"
   },
   {
    "duration": 31,
    "start_time": "2022-12-13T12:26:19.996Z"
   },
   {
    "duration": 230,
    "start_time": "2022-12-13T12:26:20.029Z"
   },
   {
    "duration": 13,
    "start_time": "2022-12-13T12:26:20.262Z"
   },
   {
    "duration": 225,
    "start_time": "2022-12-13T12:26:20.278Z"
   },
   {
    "duration": 35,
    "start_time": "2022-12-13T12:26:20.505Z"
   },
   {
    "duration": 9,
    "start_time": "2022-12-13T12:26:20.555Z"
   },
   {
    "duration": 16,
    "start_time": "2022-12-13T12:26:20.567Z"
   },
   {
    "duration": 16,
    "start_time": "2022-12-13T12:26:20.585Z"
   },
   {
    "duration": 17,
    "start_time": "2022-12-13T12:26:20.603Z"
   },
   {
    "duration": 35,
    "start_time": "2022-12-13T12:26:20.622Z"
   },
   {
    "duration": 540,
    "start_time": "2022-12-13T12:26:20.660Z"
   },
   {
    "duration": 83,
    "start_time": "2022-12-13T12:26:21.202Z"
   },
   {
    "duration": 3,
    "start_time": "2022-12-13T12:26:21.287Z"
   },
   {
    "duration": 9,
    "start_time": "2022-12-13T12:26:21.291Z"
   },
   {
    "duration": 17,
    "start_time": "2022-12-13T12:26:21.302Z"
   },
   {
    "duration": 13,
    "start_time": "2022-12-13T12:26:21.321Z"
   },
   {
    "duration": 69,
    "start_time": "2022-12-13T12:26:21.357Z"
   },
   {
    "duration": 181,
    "start_time": "2022-12-13T12:26:21.428Z"
   },
   {
    "duration": 1372,
    "start_time": "2022-12-13T12:26:21.611Z"
   },
   {
    "duration": 45,
    "start_time": "2022-12-13T12:26:26.480Z"
   },
   {
    "duration": 12,
    "start_time": "2022-12-13T12:44:00.372Z"
   },
   {
    "duration": 1065,
    "start_time": "2022-12-13T12:44:00.387Z"
   },
   {
    "duration": 25,
    "start_time": "2022-12-13T12:44:01.455Z"
   },
   {
    "duration": 22,
    "start_time": "2022-12-13T12:44:01.484Z"
   },
   {
    "duration": 8,
    "start_time": "2022-12-13T12:44:01.507Z"
   },
   {
    "duration": 31,
    "start_time": "2022-12-13T12:44:01.517Z"
   },
   {
    "duration": 161,
    "start_time": "2022-12-13T12:44:01.550Z"
   },
   {
    "duration": 101,
    "start_time": "2022-12-13T12:44:01.713Z"
   },
   {
    "duration": 49,
    "start_time": "2022-12-13T12:44:01.816Z"
   },
   {
    "duration": 555,
    "start_time": "2022-12-13T12:44:01.872Z"
   },
   {
    "duration": 256,
    "start_time": "2022-12-13T12:44:02.428Z"
   },
   {
    "duration": 123,
    "start_time": "2022-12-13T12:44:02.686Z"
   },
   {
    "duration": 215,
    "start_time": "2022-12-13T12:44:02.810Z"
   },
   {
    "duration": 497,
    "start_time": "2022-12-13T12:44:03.026Z"
   },
   {
    "duration": 984,
    "start_time": "2022-12-13T12:44:03.524Z"
   },
   {
    "duration": 84,
    "start_time": "2022-12-13T12:44:04.509Z"
   },
   {
    "duration": 5,
    "start_time": "2022-12-13T12:44:04.595Z"
   },
   {
    "duration": 51,
    "start_time": "2022-12-13T12:44:04.602Z"
   },
   {
    "duration": 148,
    "start_time": "2022-12-13T12:44:04.657Z"
   },
   {
    "duration": 118,
    "start_time": "2022-12-13T12:44:04.807Z"
   },
   {
    "duration": 32,
    "start_time": "2022-12-13T12:44:04.927Z"
   },
   {
    "duration": 227,
    "start_time": "2022-12-13T12:44:04.962Z"
   },
   {
    "duration": 7,
    "start_time": "2022-12-13T12:44:05.190Z"
   },
   {
    "duration": 193,
    "start_time": "2022-12-13T12:44:05.199Z"
   },
   {
    "duration": 32,
    "start_time": "2022-12-13T12:44:05.393Z"
   },
   {
    "duration": 6,
    "start_time": "2022-12-13T12:44:05.427Z"
   },
   {
    "duration": 8,
    "start_time": "2022-12-13T12:44:05.456Z"
   },
   {
    "duration": 20,
    "start_time": "2022-12-13T12:44:05.468Z"
   },
   {
    "duration": 17,
    "start_time": "2022-12-13T12:44:05.490Z"
   },
   {
    "duration": 12,
    "start_time": "2022-12-13T12:44:05.508Z"
   },
   {
    "duration": 442,
    "start_time": "2022-12-13T12:44:05.522Z"
   },
   {
    "duration": 71,
    "start_time": "2022-12-13T12:44:05.966Z"
   },
   {
    "duration": 18,
    "start_time": "2022-12-13T12:44:06.039Z"
   },
   {
    "duration": 6,
    "start_time": "2022-12-13T12:44:06.059Z"
   },
   {
    "duration": 36,
    "start_time": "2022-12-13T12:44:06.067Z"
   },
   {
    "duration": 12,
    "start_time": "2022-12-13T12:44:06.105Z"
   },
   {
    "duration": 89,
    "start_time": "2022-12-13T12:44:06.119Z"
   },
   {
    "duration": 73,
    "start_time": "2022-12-13T12:44:11.813Z"
   },
   {
    "duration": 18,
    "start_time": "2022-12-13T12:44:14.291Z"
   },
   {
    "duration": 11,
    "start_time": "2022-12-13T12:46:37.615Z"
   },
   {
    "duration": 19,
    "start_time": "2022-12-13T12:48:16.130Z"
   },
   {
    "duration": 4,
    "start_time": "2022-12-13T12:49:59.674Z"
   },
   {
    "duration": 3,
    "start_time": "2022-12-13T12:50:17.312Z"
   },
   {
    "duration": 58,
    "start_time": "2022-12-13T12:50:22.279Z"
   },
   {
    "duration": 112,
    "start_time": "2022-12-13T12:50:43.694Z"
   },
   {
    "duration": 93,
    "start_time": "2022-12-13T12:51:55.948Z"
   },
   {
    "duration": 3,
    "start_time": "2022-12-13T12:54:16.801Z"
   },
   {
    "duration": 179,
    "start_time": "2022-12-13T12:56:36.314Z"
   },
   {
    "duration": 170,
    "start_time": "2022-12-13T12:57:57.660Z"
   },
   {
    "duration": 137,
    "start_time": "2022-12-13T12:59:48.114Z"
   },
   {
    "duration": 132,
    "start_time": "2022-12-13T13:04:17.017Z"
   },
   {
    "duration": 1471,
    "start_time": "2022-12-13T13:04:58.443Z"
   },
   {
    "duration": 1071,
    "start_time": "2022-12-13T13:05:39.243Z"
   },
   {
    "duration": 1125,
    "start_time": "2022-12-13T13:06:22.207Z"
   },
   {
    "duration": 1131,
    "start_time": "2022-12-13T13:07:17.356Z"
   },
   {
    "duration": 10,
    "start_time": "2022-12-13T13:11:13.634Z"
   },
   {
    "duration": 881,
    "start_time": "2022-12-13T13:11:13.646Z"
   },
   {
    "duration": 16,
    "start_time": "2022-12-13T13:11:14.530Z"
   },
   {
    "duration": 7,
    "start_time": "2022-12-13T13:11:14.561Z"
   },
   {
    "duration": 15,
    "start_time": "2022-12-13T13:11:14.572Z"
   },
   {
    "duration": 25,
    "start_time": "2022-12-13T13:11:14.590Z"
   },
   {
    "duration": 194,
    "start_time": "2022-12-13T13:11:14.617Z"
   },
   {
    "duration": 126,
    "start_time": "2022-12-13T13:11:14.814Z"
   },
   {
    "duration": 42,
    "start_time": "2022-12-13T13:11:14.942Z"
   },
   {
    "duration": 565,
    "start_time": "2022-12-13T13:11:14.988Z"
   },
   {
    "duration": 249,
    "start_time": "2022-12-13T13:11:15.556Z"
   },
   {
    "duration": 121,
    "start_time": "2022-12-13T13:11:15.807Z"
   },
   {
    "duration": 204,
    "start_time": "2022-12-13T13:11:15.930Z"
   },
   {
    "duration": 447,
    "start_time": "2022-12-13T13:11:16.136Z"
   },
   {
    "duration": 923,
    "start_time": "2022-12-13T13:11:16.585Z"
   },
   {
    "duration": 56,
    "start_time": "2022-12-13T13:11:17.510Z"
   },
   {
    "duration": 5,
    "start_time": "2022-12-13T13:11:17.570Z"
   },
   {
    "duration": 42,
    "start_time": "2022-12-13T13:11:17.578Z"
   },
   {
    "duration": 122,
    "start_time": "2022-12-13T13:11:17.622Z"
   },
   {
    "duration": 118,
    "start_time": "2022-12-13T13:11:17.746Z"
   },
   {
    "duration": 32,
    "start_time": "2022-12-13T13:11:17.866Z"
   },
   {
    "duration": 214,
    "start_time": "2022-12-13T13:11:17.899Z"
   },
   {
    "duration": 9,
    "start_time": "2022-12-13T13:11:18.115Z"
   },
   {
    "duration": 218,
    "start_time": "2022-12-13T13:11:18.126Z"
   },
   {
    "duration": 47,
    "start_time": "2022-12-13T13:11:18.346Z"
   },
   {
    "duration": 6,
    "start_time": "2022-12-13T13:11:18.395Z"
   },
   {
    "duration": 7,
    "start_time": "2022-12-13T13:11:18.402Z"
   },
   {
    "duration": 8,
    "start_time": "2022-12-13T13:11:18.412Z"
   },
   {
    "duration": 41,
    "start_time": "2022-12-13T13:11:18.422Z"
   },
   {
    "duration": 17,
    "start_time": "2022-12-13T13:11:18.467Z"
   },
   {
    "duration": 441,
    "start_time": "2022-12-13T13:11:18.486Z"
   },
   {
    "duration": 103,
    "start_time": "2022-12-13T13:11:18.929Z"
   },
   {
    "duration": 7,
    "start_time": "2022-12-13T13:11:19.034Z"
   },
   {
    "duration": 23,
    "start_time": "2022-12-13T13:11:19.043Z"
   },
   {
    "duration": 48,
    "start_time": "2022-12-13T13:11:19.070Z"
   },
   {
    "duration": 16,
    "start_time": "2022-12-13T13:11:19.120Z"
   },
   {
    "duration": 97,
    "start_time": "2022-12-13T13:11:19.138Z"
   },
   {
    "duration": 117,
    "start_time": "2022-12-13T13:11:19.237Z"
   },
   {
    "duration": 157,
    "start_time": "2022-12-13T13:11:19.357Z"
   },
   {
    "duration": 1185,
    "start_time": "2022-12-13T13:11:28.558Z"
   },
   {
    "duration": 1377,
    "start_time": "2022-12-13T13:13:59.960Z"
   },
   {
    "duration": 72,
    "start_time": "2022-12-13T13:15:13.706Z"
   },
   {
    "duration": 55,
    "start_time": "2022-12-13T13:15:36.195Z"
   },
   {
    "duration": 1691,
    "start_time": "2022-12-13T13:15:44.475Z"
   },
   {
    "duration": 1122,
    "start_time": "2022-12-13T13:15:46.168Z"
   },
   {
    "duration": 13,
    "start_time": "2022-12-13T13:15:47.292Z"
   },
   {
    "duration": 8,
    "start_time": "2022-12-13T13:15:47.307Z"
   },
   {
    "duration": 6,
    "start_time": "2022-12-13T13:15:47.318Z"
   },
   {
    "duration": 21,
    "start_time": "2022-12-13T13:15:47.326Z"
   },
   {
    "duration": 154,
    "start_time": "2022-12-13T13:15:47.348Z"
   },
   {
    "duration": 107,
    "start_time": "2022-12-13T13:15:47.504Z"
   },
   {
    "duration": 27,
    "start_time": "2022-12-13T13:15:47.613Z"
   },
   {
    "duration": 492,
    "start_time": "2022-12-13T13:15:47.642Z"
   },
   {
    "duration": 220,
    "start_time": "2022-12-13T13:15:48.136Z"
   },
   {
    "duration": 109,
    "start_time": "2022-12-13T13:15:48.359Z"
   },
   {
    "duration": 172,
    "start_time": "2022-12-13T13:15:48.470Z"
   },
   {
    "duration": 470,
    "start_time": "2022-12-13T13:15:48.645Z"
   },
   {
    "duration": 852,
    "start_time": "2022-12-13T13:15:49.118Z"
   },
   {
    "duration": 43,
    "start_time": "2022-12-13T13:15:49.972Z"
   },
   {
    "duration": 3,
    "start_time": "2022-12-13T13:15:50.017Z"
   },
   {
    "duration": 53,
    "start_time": "2022-12-13T13:15:50.021Z"
   },
   {
    "duration": 93,
    "start_time": "2022-12-13T13:15:50.075Z"
   },
   {
    "duration": 102,
    "start_time": "2022-12-13T13:15:50.170Z"
   },
   {
    "duration": 26,
    "start_time": "2022-12-13T13:15:50.274Z"
   },
   {
    "duration": 213,
    "start_time": "2022-12-13T13:15:50.302Z"
   },
   {
    "duration": 7,
    "start_time": "2022-12-13T13:15:50.517Z"
   },
   {
    "duration": 185,
    "start_time": "2022-12-13T13:15:50.527Z"
   },
   {
    "duration": 44,
    "start_time": "2022-12-13T13:15:50.714Z"
   },
   {
    "duration": 6,
    "start_time": "2022-12-13T13:15:50.759Z"
   },
   {
    "duration": 9,
    "start_time": "2022-12-13T13:15:50.766Z"
   },
   {
    "duration": 11,
    "start_time": "2022-12-13T13:15:50.776Z"
   },
   {
    "duration": 22,
    "start_time": "2022-12-13T13:15:50.788Z"
   },
   {
    "duration": 11,
    "start_time": "2022-12-13T13:15:50.811Z"
   },
   {
    "duration": 495,
    "start_time": "2022-12-13T13:15:50.824Z"
   },
   {
    "duration": 76,
    "start_time": "2022-12-13T13:15:51.321Z"
   },
   {
    "duration": 3,
    "start_time": "2022-12-13T13:15:51.399Z"
   },
   {
    "duration": 15,
    "start_time": "2022-12-13T13:15:51.403Z"
   },
   {
    "duration": 20,
    "start_time": "2022-12-13T13:15:51.420Z"
   },
   {
    "duration": 17,
    "start_time": "2022-12-13T13:15:51.442Z"
   },
   {
    "duration": 65,
    "start_time": "2022-12-13T13:15:51.461Z"
   },
   {
    "duration": 155,
    "start_time": "2022-12-13T13:15:51.528Z"
   },
   {
    "duration": 140,
    "start_time": "2022-12-13T13:15:51.685Z"
   },
   {
    "duration": 9,
    "start_time": "2022-12-13T13:16:25.478Z"
   },
   {
    "duration": 9,
    "start_time": "2022-12-13T13:16:44.734Z"
   },
   {
    "duration": 870,
    "start_time": "2022-12-13T13:16:44.745Z"
   },
   {
    "duration": 11,
    "start_time": "2022-12-13T13:16:45.617Z"
   },
   {
    "duration": 9,
    "start_time": "2022-12-13T13:16:45.630Z"
   },
   {
    "duration": 5,
    "start_time": "2022-12-13T13:16:45.642Z"
   },
   {
    "duration": 27,
    "start_time": "2022-12-13T13:16:45.648Z"
   },
   {
    "duration": 144,
    "start_time": "2022-12-13T13:16:45.677Z"
   },
   {
    "duration": 92,
    "start_time": "2022-12-13T13:16:45.822Z"
   },
   {
    "duration": 39,
    "start_time": "2022-12-13T13:16:45.916Z"
   },
   {
    "duration": 465,
    "start_time": "2022-12-13T13:16:45.957Z"
   },
   {
    "duration": 203,
    "start_time": "2022-12-13T13:16:46.424Z"
   },
   {
    "duration": 103,
    "start_time": "2022-12-13T13:16:46.628Z"
   },
   {
    "duration": 194,
    "start_time": "2022-12-13T13:16:46.732Z"
   },
   {
    "duration": 438,
    "start_time": "2022-12-13T13:16:46.930Z"
   },
   {
    "duration": 802,
    "start_time": "2022-12-13T13:16:47.370Z"
   },
   {
    "duration": 42,
    "start_time": "2022-12-13T13:16:48.174Z"
   },
   {
    "duration": 2,
    "start_time": "2022-12-13T13:16:48.218Z"
   },
   {
    "duration": 51,
    "start_time": "2022-12-13T13:16:48.222Z"
   },
   {
    "duration": 98,
    "start_time": "2022-12-13T13:16:48.275Z"
   },
   {
    "duration": 98,
    "start_time": "2022-12-13T13:16:48.375Z"
   },
   {
    "duration": 32,
    "start_time": "2022-12-13T13:16:48.475Z"
   },
   {
    "duration": 198,
    "start_time": "2022-12-13T13:16:48.509Z"
   },
   {
    "duration": 8,
    "start_time": "2022-12-13T13:16:48.710Z"
   },
   {
    "duration": 189,
    "start_time": "2022-12-13T13:16:48.720Z"
   },
   {
    "duration": 44,
    "start_time": "2022-12-13T13:16:48.912Z"
   },
   {
    "duration": 7,
    "start_time": "2022-12-13T13:16:48.958Z"
   },
   {
    "duration": 15,
    "start_time": "2022-12-13T13:16:48.967Z"
   },
   {
    "duration": 8,
    "start_time": "2022-12-13T13:16:48.984Z"
   },
   {
    "duration": 16,
    "start_time": "2022-12-13T13:16:48.994Z"
   },
   {
    "duration": 12,
    "start_time": "2022-12-13T13:16:49.013Z"
   },
   {
    "duration": 397,
    "start_time": "2022-12-13T13:16:49.056Z"
   },
   {
    "duration": 68,
    "start_time": "2022-12-13T13:16:49.455Z"
   },
   {
    "duration": 3,
    "start_time": "2022-12-13T13:16:49.527Z"
   },
   {
    "duration": 24,
    "start_time": "2022-12-13T13:16:49.532Z"
   },
   {
    "duration": 19,
    "start_time": "2022-12-13T13:16:49.558Z"
   },
   {
    "duration": 11,
    "start_time": "2022-12-13T13:16:49.579Z"
   },
   {
    "duration": 71,
    "start_time": "2022-12-13T13:16:49.592Z"
   },
   {
    "duration": 137,
    "start_time": "2022-12-13T13:16:49.665Z"
   },
   {
    "duration": 151,
    "start_time": "2022-12-13T13:16:49.805Z"
   },
   {
    "duration": 7,
    "start_time": "2022-12-13T13:17:35.526Z"
   },
   {
    "duration": 899,
    "start_time": "2022-12-13T13:17:35.535Z"
   },
   {
    "duration": 12,
    "start_time": "2022-12-13T13:17:36.436Z"
   },
   {
    "duration": 11,
    "start_time": "2022-12-13T13:17:36.450Z"
   },
   {
    "duration": 5,
    "start_time": "2022-12-13T13:17:36.463Z"
   },
   {
    "duration": 19,
    "start_time": "2022-12-13T13:17:36.470Z"
   },
   {
    "duration": 149,
    "start_time": "2022-12-13T13:17:36.491Z"
   },
   {
    "duration": 115,
    "start_time": "2022-12-13T13:17:36.641Z"
   },
   {
    "duration": 29,
    "start_time": "2022-12-13T13:17:36.759Z"
   },
   {
    "duration": 516,
    "start_time": "2022-12-13T13:17:36.790Z"
   },
   {
    "duration": 211,
    "start_time": "2022-12-13T13:17:37.308Z"
   },
   {
    "duration": 111,
    "start_time": "2022-12-13T13:17:37.521Z"
   },
   {
    "duration": 187,
    "start_time": "2022-12-13T13:17:37.634Z"
   },
   {
    "duration": 470,
    "start_time": "2022-12-13T13:17:37.824Z"
   },
   {
    "duration": 912,
    "start_time": "2022-12-13T13:17:38.296Z"
   },
   {
    "duration": 62,
    "start_time": "2022-12-13T13:17:39.209Z"
   },
   {
    "duration": 3,
    "start_time": "2022-12-13T13:17:39.273Z"
   },
   {
    "duration": 36,
    "start_time": "2022-12-13T13:17:39.278Z"
   },
   {
    "duration": 113,
    "start_time": "2022-12-13T13:17:39.316Z"
   },
   {
    "duration": 111,
    "start_time": "2022-12-13T13:17:39.431Z"
   },
   {
    "duration": 41,
    "start_time": "2022-12-13T13:17:39.544Z"
   },
   {
    "duration": 198,
    "start_time": "2022-12-13T13:17:39.587Z"
   },
   {
    "duration": 7,
    "start_time": "2022-12-13T13:17:39.787Z"
   },
   {
    "duration": 191,
    "start_time": "2022-12-13T13:17:39.797Z"
   },
   {
    "duration": 33,
    "start_time": "2022-12-13T13:17:39.990Z"
   },
   {
    "duration": 5,
    "start_time": "2022-12-13T13:17:40.025Z"
   },
   {
    "duration": 28,
    "start_time": "2022-12-13T13:17:40.032Z"
   },
   {
    "duration": 9,
    "start_time": "2022-12-13T13:17:40.062Z"
   },
   {
    "duration": 18,
    "start_time": "2022-12-13T13:17:40.073Z"
   },
   {
    "duration": 13,
    "start_time": "2022-12-13T13:17:40.093Z"
   },
   {
    "duration": 447,
    "start_time": "2022-12-13T13:17:40.108Z"
   },
   {
    "duration": 73,
    "start_time": "2022-12-13T13:17:40.556Z"
   },
   {
    "duration": 3,
    "start_time": "2022-12-13T13:17:40.631Z"
   },
   {
    "duration": 9,
    "start_time": "2022-12-13T13:17:40.655Z"
   },
   {
    "duration": 18,
    "start_time": "2022-12-13T13:17:40.666Z"
   },
   {
    "duration": 11,
    "start_time": "2022-12-13T13:17:40.686Z"
   },
   {
    "duration": 76,
    "start_time": "2022-12-13T13:17:40.700Z"
   },
   {
    "duration": 140,
    "start_time": "2022-12-13T13:17:40.777Z"
   },
   {
    "duration": 155,
    "start_time": "2022-12-13T13:17:40.919Z"
   },
   {
    "duration": 8,
    "start_time": "2022-12-13T13:28:26.072Z"
   },
   {
    "duration": 856,
    "start_time": "2022-12-13T13:28:26.083Z"
   },
   {
    "duration": 19,
    "start_time": "2022-12-13T13:28:26.941Z"
   },
   {
    "duration": 8,
    "start_time": "2022-12-13T13:28:26.963Z"
   },
   {
    "duration": 14,
    "start_time": "2022-12-13T13:28:26.973Z"
   },
   {
    "duration": 20,
    "start_time": "2022-12-13T13:28:26.989Z"
   },
   {
    "duration": 160,
    "start_time": "2022-12-13T13:28:27.011Z"
   },
   {
    "duration": 107,
    "start_time": "2022-12-13T13:28:27.172Z"
   },
   {
    "duration": 29,
    "start_time": "2022-12-13T13:28:27.280Z"
   },
   {
    "duration": 503,
    "start_time": "2022-12-13T13:28:27.312Z"
   },
   {
    "duration": 207,
    "start_time": "2022-12-13T13:28:27.817Z"
   },
   {
    "duration": 110,
    "start_time": "2022-12-13T13:28:28.026Z"
   },
   {
    "duration": 186,
    "start_time": "2022-12-13T13:28:28.138Z"
   },
   {
    "duration": 432,
    "start_time": "2022-12-13T13:28:28.326Z"
   },
   {
    "duration": 845,
    "start_time": "2022-12-13T13:28:28.760Z"
   },
   {
    "duration": 55,
    "start_time": "2022-12-13T13:28:29.607Z"
   },
   {
    "duration": 13,
    "start_time": "2022-12-13T13:28:29.664Z"
   },
   {
    "duration": 35,
    "start_time": "2022-12-13T13:28:29.679Z"
   },
   {
    "duration": 99,
    "start_time": "2022-12-13T13:28:29.715Z"
   },
   {
    "duration": 102,
    "start_time": "2022-12-13T13:28:29.816Z"
   },
   {
    "duration": 39,
    "start_time": "2022-12-13T13:28:29.920Z"
   },
   {
    "duration": 189,
    "start_time": "2022-12-13T13:28:29.961Z"
   },
   {
    "duration": 8,
    "start_time": "2022-12-13T13:28:30.154Z"
   },
   {
    "duration": 198,
    "start_time": "2022-12-13T13:28:30.163Z"
   },
   {
    "duration": 33,
    "start_time": "2022-12-13T13:28:30.363Z"
   },
   {
    "duration": 6,
    "start_time": "2022-12-13T13:28:30.398Z"
   },
   {
    "duration": 30,
    "start_time": "2022-12-13T13:28:30.406Z"
   },
   {
    "duration": 38,
    "start_time": "2022-12-13T13:28:30.440Z"
   },
   {
    "duration": 48,
    "start_time": "2022-12-13T13:28:30.480Z"
   },
   {
    "duration": 28,
    "start_time": "2022-12-13T13:28:30.531Z"
   },
   {
    "duration": 568,
    "start_time": "2022-12-13T13:28:30.561Z"
   },
   {
    "duration": 79,
    "start_time": "2022-12-13T13:28:31.131Z"
   },
   {
    "duration": 11,
    "start_time": "2022-12-13T13:28:31.213Z"
   },
   {
    "duration": 14,
    "start_time": "2022-12-13T13:28:31.226Z"
   },
   {
    "duration": 37,
    "start_time": "2022-12-13T13:28:31.242Z"
   },
   {
    "duration": 19,
    "start_time": "2022-12-13T13:28:31.281Z"
   },
   {
    "duration": 71,
    "start_time": "2022-12-13T13:28:31.302Z"
   },
   {
    "duration": 80,
    "start_time": "2022-12-13T13:28:31.375Z"
   },
   {
    "duration": 188,
    "start_time": "2022-12-13T13:28:31.457Z"
   },
   {
    "duration": 25,
    "start_time": "2022-12-13T13:28:31.647Z"
   },
   {
    "duration": 59,
    "start_time": "2022-12-13T13:41:25.097Z"
   },
   {
    "duration": 91,
    "start_time": "2022-12-13T13:41:27.819Z"
   },
   {
    "duration": 194,
    "start_time": "2022-12-13T13:41:36.367Z"
   },
   {
    "duration": 1267,
    "start_time": "2022-12-13T13:42:12.245Z"
   },
   {
    "duration": 1253,
    "start_time": "2022-12-13T13:44:07.446Z"
   },
   {
    "duration": 1247,
    "start_time": "2022-12-13T13:46:30.531Z"
   },
   {
    "duration": 23,
    "start_time": "2022-12-13T13:49:54.480Z"
   },
   {
    "duration": 19,
    "start_time": "2022-12-13T13:51:02.677Z"
   },
   {
    "duration": 8,
    "start_time": "2022-12-13T13:51:14.689Z"
   },
   {
    "duration": 1096,
    "start_time": "2022-12-13T13:51:14.699Z"
   },
   {
    "duration": 11,
    "start_time": "2022-12-13T13:51:15.797Z"
   },
   {
    "duration": 9,
    "start_time": "2022-12-13T13:51:15.810Z"
   },
   {
    "duration": 7,
    "start_time": "2022-12-13T13:51:15.820Z"
   },
   {
    "duration": 20,
    "start_time": "2022-12-13T13:51:15.829Z"
   },
   {
    "duration": 192,
    "start_time": "2022-12-13T13:51:15.855Z"
   },
   {
    "duration": 104,
    "start_time": "2022-12-13T13:51:16.049Z"
   },
   {
    "duration": 48,
    "start_time": "2022-12-13T13:51:16.159Z"
   },
   {
    "duration": 581,
    "start_time": "2022-12-13T13:51:16.210Z"
   },
   {
    "duration": 255,
    "start_time": "2022-12-13T13:51:16.794Z"
   },
   {
    "duration": 137,
    "start_time": "2022-12-13T13:51:17.051Z"
   },
   {
    "duration": 205,
    "start_time": "2022-12-13T13:51:17.190Z"
   },
   {
    "duration": 490,
    "start_time": "2022-12-13T13:51:17.397Z"
   },
   {
    "duration": 943,
    "start_time": "2022-12-13T13:51:17.889Z"
   },
   {
    "duration": 71,
    "start_time": "2022-12-13T13:51:18.834Z"
   },
   {
    "duration": 3,
    "start_time": "2022-12-13T13:51:18.907Z"
   },
   {
    "duration": 73,
    "start_time": "2022-12-13T13:51:18.912Z"
   },
   {
    "duration": 133,
    "start_time": "2022-12-13T13:51:18.988Z"
   },
   {
    "duration": 1012,
    "start_time": "2022-12-13T13:51:19.124Z"
   },
   {
    "duration": 60,
    "start_time": "2022-12-13T13:51:20.138Z"
   },
   {
    "duration": 235,
    "start_time": "2022-12-13T13:51:20.201Z"
   },
   {
    "duration": 18,
    "start_time": "2022-12-13T13:51:20.438Z"
   },
   {
    "duration": 257,
    "start_time": "2022-12-13T13:51:20.459Z"
   },
   {
    "duration": 54,
    "start_time": "2022-12-13T13:51:20.718Z"
   },
   {
    "duration": 10,
    "start_time": "2022-12-13T13:51:20.779Z"
   },
   {
    "duration": 20,
    "start_time": "2022-12-13T13:51:20.791Z"
   },
   {
    "duration": 21,
    "start_time": "2022-12-13T13:51:20.815Z"
   },
   {
    "duration": 25,
    "start_time": "2022-12-13T13:51:20.838Z"
   },
   {
    "duration": 18,
    "start_time": "2022-12-13T13:51:20.866Z"
   },
   {
    "duration": 497,
    "start_time": "2022-12-13T13:51:20.887Z"
   },
   {
    "duration": 98,
    "start_time": "2022-12-13T13:51:21.387Z"
   },
   {
    "duration": 10,
    "start_time": "2022-12-13T13:51:21.488Z"
   },
   {
    "duration": 5,
    "start_time": "2022-12-13T13:51:21.500Z"
   },
   {
    "duration": 20,
    "start_time": "2022-12-13T13:51:21.507Z"
   },
   {
    "duration": 17,
    "start_time": "2022-12-13T13:51:27.177Z"
   },
   {
    "duration": 12,
    "start_time": "2022-12-13T13:51:29.000Z"
   },
   {
    "duration": 79,
    "start_time": "2022-12-13T13:51:32.233Z"
   },
   {
    "duration": 72,
    "start_time": "2022-12-13T13:51:36.075Z"
   },
   {
    "duration": 74,
    "start_time": "2022-12-13T13:52:35.032Z"
   },
   {
    "duration": 10,
    "start_time": "2022-12-13T13:53:51.277Z"
   },
   {
    "duration": 956,
    "start_time": "2022-12-13T13:53:51.290Z"
   },
   {
    "duration": 14,
    "start_time": "2022-12-13T13:53:52.248Z"
   },
   {
    "duration": 15,
    "start_time": "2022-12-13T13:53:52.264Z"
   },
   {
    "duration": 16,
    "start_time": "2022-12-13T13:53:52.282Z"
   },
   {
    "duration": 33,
    "start_time": "2022-12-13T13:53:52.300Z"
   },
   {
    "duration": 173,
    "start_time": "2022-12-13T13:53:52.334Z"
   },
   {
    "duration": 113,
    "start_time": "2022-12-13T13:53:52.508Z"
   },
   {
    "duration": 34,
    "start_time": "2022-12-13T13:53:52.623Z"
   },
   {
    "duration": 578,
    "start_time": "2022-12-13T13:53:52.665Z"
   },
   {
    "duration": 247,
    "start_time": "2022-12-13T13:53:53.244Z"
   },
   {
    "duration": 120,
    "start_time": "2022-12-13T13:53:53.493Z"
   },
   {
    "duration": 230,
    "start_time": "2022-12-13T13:53:53.615Z"
   },
   {
    "duration": 503,
    "start_time": "2022-12-13T13:53:53.854Z"
   },
   {
    "duration": 1013,
    "start_time": "2022-12-13T13:53:54.360Z"
   },
   {
    "duration": 56,
    "start_time": "2022-12-13T13:53:55.376Z"
   },
   {
    "duration": 3,
    "start_time": "2022-12-13T13:53:55.434Z"
   },
   {
    "duration": 47,
    "start_time": "2022-12-13T13:53:55.455Z"
   },
   {
    "duration": 128,
    "start_time": "2022-12-13T13:53:55.503Z"
   },
   {
    "duration": 114,
    "start_time": "2022-12-13T13:53:55.633Z"
   },
   {
    "duration": 44,
    "start_time": "2022-12-13T13:53:55.755Z"
   },
   {
    "duration": 220,
    "start_time": "2022-12-13T13:53:55.801Z"
   },
   {
    "duration": 8,
    "start_time": "2022-12-13T13:53:56.023Z"
   },
   {
    "duration": 215,
    "start_time": "2022-12-13T13:53:56.032Z"
   },
   {
    "duration": 47,
    "start_time": "2022-12-13T13:53:56.249Z"
   },
   {
    "duration": 7,
    "start_time": "2022-12-13T13:53:56.298Z"
   },
   {
    "duration": 7,
    "start_time": "2022-12-13T13:53:56.308Z"
   },
   {
    "duration": 50,
    "start_time": "2022-12-13T13:53:56.319Z"
   },
   {
    "duration": 20,
    "start_time": "2022-12-13T13:53:56.373Z"
   },
   {
    "duration": 12,
    "start_time": "2022-12-13T13:53:56.395Z"
   },
   {
    "duration": 491,
    "start_time": "2022-12-13T13:53:56.409Z"
   },
   {
    "duration": 84,
    "start_time": "2022-12-13T13:53:56.902Z"
   },
   {
    "duration": 18,
    "start_time": "2022-12-13T13:53:56.988Z"
   },
   {
    "duration": 20,
    "start_time": "2022-12-13T13:53:57.011Z"
   },
   {
    "duration": 37,
    "start_time": "2022-12-13T13:53:57.033Z"
   },
   {
    "duration": 13,
    "start_time": "2022-12-13T13:53:57.073Z"
   },
   {
    "duration": 66,
    "start_time": "2022-12-13T13:54:07.465Z"
   },
   {
    "duration": 78,
    "start_time": "2022-12-13T13:54:22.519Z"
   },
   {
    "duration": 69,
    "start_time": "2022-12-13T13:54:28.164Z"
   },
   {
    "duration": 17,
    "start_time": "2022-12-13T13:55:03.961Z"
   },
   {
    "duration": 947,
    "start_time": "2022-12-13T13:55:03.983Z"
   },
   {
    "duration": 14,
    "start_time": "2022-12-13T13:55:04.932Z"
   },
   {
    "duration": 27,
    "start_time": "2022-12-13T13:55:04.947Z"
   },
   {
    "duration": 10,
    "start_time": "2022-12-13T13:55:04.978Z"
   },
   {
    "duration": 18,
    "start_time": "2022-12-13T13:55:04.989Z"
   },
   {
    "duration": 145,
    "start_time": "2022-12-13T13:55:05.009Z"
   },
   {
    "duration": 105,
    "start_time": "2022-12-13T13:55:05.158Z"
   },
   {
    "duration": 38,
    "start_time": "2022-12-13T13:55:05.266Z"
   },
   {
    "duration": 554,
    "start_time": "2022-12-13T13:55:05.306Z"
   },
   {
    "duration": 235,
    "start_time": "2022-12-13T13:55:05.863Z"
   },
   {
    "duration": 112,
    "start_time": "2022-12-13T13:55:06.099Z"
   },
   {
    "duration": 205,
    "start_time": "2022-12-13T13:55:06.213Z"
   },
   {
    "duration": 496,
    "start_time": "2022-12-13T13:55:06.421Z"
   },
   {
    "duration": 857,
    "start_time": "2022-12-13T13:55:06.919Z"
   },
   {
    "duration": 58,
    "start_time": "2022-12-13T13:55:07.779Z"
   },
   {
    "duration": 18,
    "start_time": "2022-12-13T13:55:07.839Z"
   },
   {
    "duration": 36,
    "start_time": "2022-12-13T13:55:07.862Z"
   },
   {
    "duration": 107,
    "start_time": "2022-12-13T13:55:07.900Z"
   },
   {
    "duration": 120,
    "start_time": "2022-12-13T13:55:08.009Z"
   },
   {
    "duration": 49,
    "start_time": "2022-12-13T13:55:08.131Z"
   },
   {
    "duration": 202,
    "start_time": "2022-12-13T13:55:08.181Z"
   },
   {
    "duration": 6,
    "start_time": "2022-12-13T13:55:08.385Z"
   },
   {
    "duration": 185,
    "start_time": "2022-12-13T13:55:08.393Z"
   },
   {
    "duration": 32,
    "start_time": "2022-12-13T13:55:08.580Z"
   },
   {
    "duration": 6,
    "start_time": "2022-12-13T13:55:08.614Z"
   },
   {
    "duration": 8,
    "start_time": "2022-12-13T13:55:08.622Z"
   },
   {
    "duration": 42,
    "start_time": "2022-12-13T13:55:08.631Z"
   },
   {
    "duration": 19,
    "start_time": "2022-12-13T13:55:08.675Z"
   },
   {
    "duration": 11,
    "start_time": "2022-12-13T13:55:08.696Z"
   },
   {
    "duration": 636,
    "start_time": "2022-12-13T13:55:08.709Z"
   },
   {
    "duration": 91,
    "start_time": "2022-12-13T13:55:09.347Z"
   },
   {
    "duration": 15,
    "start_time": "2022-12-13T13:55:09.440Z"
   },
   {
    "duration": 6,
    "start_time": "2022-12-13T13:55:09.458Z"
   },
   {
    "duration": 22,
    "start_time": "2022-12-13T13:55:09.466Z"
   },
   {
    "duration": 10,
    "start_time": "2022-12-13T13:55:09.490Z"
   },
   {
    "duration": 91,
    "start_time": "2022-12-13T13:55:09.502Z"
   },
   {
    "duration": 66,
    "start_time": "2022-12-13T13:55:17.927Z"
   },
   {
    "duration": 7,
    "start_time": "2022-12-13T13:56:41.311Z"
   },
   {
    "duration": 933,
    "start_time": "2022-12-13T13:56:41.320Z"
   },
   {
    "duration": 16,
    "start_time": "2022-12-13T13:56:42.255Z"
   },
   {
    "duration": 13,
    "start_time": "2022-12-13T13:56:42.273Z"
   },
   {
    "duration": 7,
    "start_time": "2022-12-13T13:56:42.288Z"
   },
   {
    "duration": 19,
    "start_time": "2022-12-13T13:56:42.296Z"
   },
   {
    "duration": 155,
    "start_time": "2022-12-13T13:56:42.316Z"
   },
   {
    "duration": 109,
    "start_time": "2022-12-13T13:56:42.474Z"
   },
   {
    "duration": 31,
    "start_time": "2022-12-13T13:56:42.585Z"
   },
   {
    "duration": 551,
    "start_time": "2022-12-13T13:56:42.619Z"
   },
   {
    "duration": 235,
    "start_time": "2022-12-13T13:56:43.173Z"
   },
   {
    "duration": 100,
    "start_time": "2022-12-13T13:56:43.411Z"
   },
   {
    "duration": 212,
    "start_time": "2022-12-13T13:56:43.513Z"
   },
   {
    "duration": 530,
    "start_time": "2022-12-13T13:56:43.727Z"
   },
   {
    "duration": 1056,
    "start_time": "2022-12-13T13:56:44.259Z"
   },
   {
    "duration": 73,
    "start_time": "2022-12-13T13:56:45.317Z"
   },
   {
    "duration": 3,
    "start_time": "2022-12-13T13:56:45.392Z"
   },
   {
    "duration": 44,
    "start_time": "2022-12-13T13:56:45.397Z"
   },
   {
    "duration": 114,
    "start_time": "2022-12-13T13:56:45.443Z"
   },
   {
    "duration": 112,
    "start_time": "2022-12-13T13:56:45.560Z"
   },
   {
    "duration": 33,
    "start_time": "2022-12-13T13:56:45.674Z"
   },
   {
    "duration": 202,
    "start_time": "2022-12-13T13:56:45.709Z"
   },
   {
    "duration": 7,
    "start_time": "2022-12-13T13:56:45.912Z"
   },
   {
    "duration": 198,
    "start_time": "2022-12-13T13:56:45.920Z"
   },
   {
    "duration": 58,
    "start_time": "2022-12-13T13:56:46.120Z"
   },
   {
    "duration": 6,
    "start_time": "2022-12-13T13:56:46.181Z"
   },
   {
    "duration": 9,
    "start_time": "2022-12-13T13:56:46.189Z"
   },
   {
    "duration": 8,
    "start_time": "2022-12-13T13:56:46.202Z"
   },
   {
    "duration": 26,
    "start_time": "2022-12-13T13:56:46.211Z"
   },
   {
    "duration": 16,
    "start_time": "2022-12-13T13:56:46.256Z"
   },
   {
    "duration": 436,
    "start_time": "2022-12-13T13:56:46.274Z"
   },
   {
    "duration": 79,
    "start_time": "2022-12-13T13:56:46.713Z"
   },
   {
    "duration": 3,
    "start_time": "2022-12-13T13:56:46.794Z"
   },
   {
    "duration": 6,
    "start_time": "2022-12-13T13:56:46.799Z"
   },
   {
    "duration": 18,
    "start_time": "2022-12-13T13:56:46.806Z"
   },
   {
    "duration": 31,
    "start_time": "2022-12-13T13:56:46.826Z"
   },
   {
    "duration": 63,
    "start_time": "2022-12-13T13:56:53.407Z"
   },
   {
    "duration": 70,
    "start_time": "2022-12-13T13:57:02.459Z"
   },
   {
    "duration": 52,
    "start_time": "2022-12-13T13:57:24.875Z"
   },
   {
    "duration": 56,
    "start_time": "2022-12-13T13:57:29.330Z"
   },
   {
    "duration": 12,
    "start_time": "2022-12-13T13:57:42.970Z"
   },
   {
    "duration": 195,
    "start_time": "2022-12-13T13:57:49.640Z"
   },
   {
    "duration": 20,
    "start_time": "2022-12-13T13:58:01.992Z"
   },
   {
    "duration": 1248,
    "start_time": "2022-12-13T13:58:10.585Z"
   },
   {
    "duration": 20,
    "start_time": "2022-12-13T13:59:35.841Z"
   },
   {
    "duration": 26,
    "start_time": "2022-12-13T14:03:45.668Z"
   },
   {
    "duration": 8,
    "start_time": "2022-12-13T14:06:28.781Z"
   },
   {
    "duration": 897,
    "start_time": "2022-12-13T14:06:28.791Z"
   },
   {
    "duration": 11,
    "start_time": "2022-12-13T14:06:29.691Z"
   },
   {
    "duration": 10,
    "start_time": "2022-12-13T14:06:29.704Z"
   },
   {
    "duration": 5,
    "start_time": "2022-12-13T14:06:29.716Z"
   },
   {
    "duration": 17,
    "start_time": "2022-12-13T14:06:29.723Z"
   },
   {
    "duration": 150,
    "start_time": "2022-12-13T14:06:29.756Z"
   },
   {
    "duration": 121,
    "start_time": "2022-12-13T14:06:29.908Z"
   },
   {
    "duration": 30,
    "start_time": "2022-12-13T14:06:30.031Z"
   },
   {
    "duration": 633,
    "start_time": "2022-12-13T14:06:30.066Z"
   },
   {
    "duration": 246,
    "start_time": "2022-12-13T14:06:30.703Z"
   },
   {
    "duration": 147,
    "start_time": "2022-12-13T14:06:30.951Z"
   },
   {
    "duration": 209,
    "start_time": "2022-12-13T14:06:31.099Z"
   },
   {
    "duration": 497,
    "start_time": "2022-12-13T14:06:31.310Z"
   },
   {
    "duration": 1000,
    "start_time": "2022-12-13T14:06:31.809Z"
   },
   {
    "duration": 67,
    "start_time": "2022-12-13T14:06:32.811Z"
   },
   {
    "duration": 4,
    "start_time": "2022-12-13T14:06:32.881Z"
   },
   {
    "duration": 54,
    "start_time": "2022-12-13T14:06:32.886Z"
   },
   {
    "duration": 146,
    "start_time": "2022-12-13T14:06:32.942Z"
   },
   {
    "duration": 123,
    "start_time": "2022-12-13T14:06:33.090Z"
   },
   {
    "duration": 47,
    "start_time": "2022-12-13T14:06:33.215Z"
   },
   {
    "duration": 277,
    "start_time": "2022-12-13T14:06:33.266Z"
   },
   {
    "duration": 25,
    "start_time": "2022-12-13T14:06:33.545Z"
   },
   {
    "duration": 268,
    "start_time": "2022-12-13T14:06:33.575Z"
   },
   {
    "duration": 37,
    "start_time": "2022-12-13T14:06:33.861Z"
   },
   {
    "duration": 7,
    "start_time": "2022-12-13T14:06:33.900Z"
   },
   {
    "duration": 15,
    "start_time": "2022-12-13T14:06:33.908Z"
   },
   {
    "duration": 12,
    "start_time": "2022-12-13T14:06:33.925Z"
   },
   {
    "duration": 30,
    "start_time": "2022-12-13T14:06:33.941Z"
   },
   {
    "duration": 17,
    "start_time": "2022-12-13T14:06:33.974Z"
   },
   {
    "duration": 492,
    "start_time": "2022-12-13T14:06:33.993Z"
   },
   {
    "duration": 112,
    "start_time": "2022-12-13T14:06:34.487Z"
   },
   {
    "duration": 12,
    "start_time": "2022-12-13T14:06:34.601Z"
   },
   {
    "duration": 50,
    "start_time": "2022-12-13T14:06:34.616Z"
   },
   {
    "duration": 39,
    "start_time": "2022-12-13T14:06:34.669Z"
   },
   {
    "duration": 30,
    "start_time": "2022-12-13T14:06:34.711Z"
   },
   {
    "duration": 127,
    "start_time": "2022-12-13T14:06:34.743Z"
   },
   {
    "duration": 75,
    "start_time": "2022-12-13T14:06:34.872Z"
   },
   {
    "duration": 4,
    "start_time": "2022-12-13T14:06:34.954Z"
   },
   {
    "duration": 213,
    "start_time": "2022-12-13T14:06:34.961Z"
   },
   {
    "duration": 26,
    "start_time": "2022-12-13T14:06:35.176Z"
   },
   {
    "duration": 12,
    "start_time": "2022-12-13T14:11:24.993Z"
   },
   {
    "duration": 1075,
    "start_time": "2022-12-13T14:11:25.008Z"
   },
   {
    "duration": 16,
    "start_time": "2022-12-13T14:11:26.085Z"
   },
   {
    "duration": 9,
    "start_time": "2022-12-13T14:11:26.103Z"
   },
   {
    "duration": 5,
    "start_time": "2022-12-13T14:11:26.114Z"
   },
   {
    "duration": 39,
    "start_time": "2022-12-13T14:11:26.121Z"
   },
   {
    "duration": 151,
    "start_time": "2022-12-13T14:11:26.162Z"
   },
   {
    "duration": 121,
    "start_time": "2022-12-13T14:11:26.314Z"
   },
   {
    "duration": 50,
    "start_time": "2022-12-13T14:11:26.437Z"
   },
   {
    "duration": 558,
    "start_time": "2022-12-13T14:11:26.490Z"
   },
   {
    "duration": 250,
    "start_time": "2022-12-13T14:11:27.055Z"
   },
   {
    "duration": 124,
    "start_time": "2022-12-13T14:11:27.307Z"
   },
   {
    "duration": 229,
    "start_time": "2022-12-13T14:11:27.433Z"
   },
   {
    "duration": 534,
    "start_time": "2022-12-13T14:11:27.669Z"
   },
   {
    "duration": 991,
    "start_time": "2022-12-13T14:11:28.205Z"
   },
   {
    "duration": 68,
    "start_time": "2022-12-13T14:11:29.198Z"
   },
   {
    "duration": 3,
    "start_time": "2022-12-13T14:11:29.270Z"
   },
   {
    "duration": 39,
    "start_time": "2022-12-13T14:11:29.275Z"
   },
   {
    "duration": 124,
    "start_time": "2022-12-13T14:11:29.316Z"
   },
   {
    "duration": 121,
    "start_time": "2022-12-13T14:11:29.441Z"
   },
   {
    "duration": 40,
    "start_time": "2022-12-13T14:11:29.564Z"
   },
   {
    "duration": 218,
    "start_time": "2022-12-13T14:11:29.606Z"
   },
   {
    "duration": 7,
    "start_time": "2022-12-13T14:11:29.825Z"
   },
   {
    "duration": 250,
    "start_time": "2022-12-13T14:11:29.834Z"
   },
   {
    "duration": 33,
    "start_time": "2022-12-13T14:11:30.086Z"
   },
   {
    "duration": 10,
    "start_time": "2022-12-13T14:11:30.121Z"
   },
   {
    "duration": 24,
    "start_time": "2022-12-13T14:11:30.132Z"
   },
   {
    "duration": 16,
    "start_time": "2022-12-13T14:11:30.160Z"
   },
   {
    "duration": 32,
    "start_time": "2022-12-13T14:11:30.180Z"
   },
   {
    "duration": 15,
    "start_time": "2022-12-13T14:11:30.215Z"
   },
   {
    "duration": 603,
    "start_time": "2022-12-13T14:11:30.232Z"
   },
   {
    "duration": 87,
    "start_time": "2022-12-13T14:11:30.837Z"
   },
   {
    "duration": 3,
    "start_time": "2022-12-13T14:11:30.925Z"
   },
   {
    "duration": 21,
    "start_time": "2022-12-13T14:11:30.930Z"
   },
   {
    "duration": 38,
    "start_time": "2022-12-13T14:11:30.956Z"
   },
   {
    "duration": 12,
    "start_time": "2022-12-13T14:11:30.996Z"
   },
   {
    "duration": 91,
    "start_time": "2022-12-13T14:11:31.010Z"
   },
   {
    "duration": 55,
    "start_time": "2022-12-13T14:11:31.103Z"
   },
   {
    "duration": 3,
    "start_time": "2022-12-13T14:11:31.161Z"
   },
   {
    "duration": 215,
    "start_time": "2022-12-13T14:11:31.167Z"
   },
   {
    "duration": 20,
    "start_time": "2022-12-13T14:11:31.389Z"
   },
   {
    "duration": 1598,
    "start_time": "2022-12-13T14:11:43.276Z"
   },
   {
    "duration": 1948,
    "start_time": "2022-12-13T14:12:54.396Z"
   },
   {
    "duration": 1894,
    "start_time": "2022-12-13T14:13:46.342Z"
   },
   {
    "duration": 1904,
    "start_time": "2022-12-13T14:15:59.497Z"
   },
   {
    "duration": 1931,
    "start_time": "2022-12-13T14:17:11.990Z"
   },
   {
    "duration": 59,
    "start_time": "2022-12-13T14:23:34.280Z"
   },
   {
    "duration": 2062,
    "start_time": "2022-12-13T14:23:43.443Z"
   },
   {
    "duration": 1395,
    "start_time": "2022-12-13T14:23:45.509Z"
   },
   {
    "duration": 19,
    "start_time": "2022-12-13T14:23:46.907Z"
   },
   {
    "duration": 25,
    "start_time": "2022-12-13T14:23:46.928Z"
   },
   {
    "duration": 47,
    "start_time": "2022-12-13T14:23:46.956Z"
   },
   {
    "duration": 29,
    "start_time": "2022-12-13T14:23:47.004Z"
   },
   {
    "duration": 152,
    "start_time": "2022-12-13T14:23:47.035Z"
   },
   {
    "duration": 127,
    "start_time": "2022-12-13T14:23:47.190Z"
   },
   {
    "duration": 39,
    "start_time": "2022-12-13T14:23:47.320Z"
   },
   {
    "duration": 558,
    "start_time": "2022-12-13T14:23:47.361Z"
   },
   {
    "duration": 255,
    "start_time": "2022-12-13T14:23:47.921Z"
   },
   {
    "duration": 123,
    "start_time": "2022-12-13T14:23:48.178Z"
   },
   {
    "duration": 274,
    "start_time": "2022-12-13T14:23:48.303Z"
   },
   {
    "duration": 559,
    "start_time": "2022-12-13T14:23:48.585Z"
   },
   {
    "duration": 1045,
    "start_time": "2022-12-13T14:23:49.146Z"
   },
   {
    "duration": 51,
    "start_time": "2022-12-13T14:23:50.195Z"
   },
   {
    "duration": 5,
    "start_time": "2022-12-13T14:23:50.256Z"
   },
   {
    "duration": 49,
    "start_time": "2022-12-13T14:23:50.268Z"
   },
   {
    "duration": 110,
    "start_time": "2022-12-13T14:23:50.319Z"
   },
   {
    "duration": 120,
    "start_time": "2022-12-13T14:23:50.431Z"
   },
   {
    "duration": 41,
    "start_time": "2022-12-13T14:23:50.554Z"
   },
   {
    "duration": 279,
    "start_time": "2022-12-13T14:23:50.598Z"
   },
   {
    "duration": 10,
    "start_time": "2022-12-13T14:23:50.880Z"
   },
   {
    "duration": 218,
    "start_time": "2022-12-13T14:23:50.893Z"
   },
   {
    "duration": 42,
    "start_time": "2022-12-13T14:23:51.113Z"
   },
   {
    "duration": 7,
    "start_time": "2022-12-13T14:23:51.157Z"
   },
   {
    "duration": 9,
    "start_time": "2022-12-13T14:23:51.166Z"
   },
   {
    "duration": 20,
    "start_time": "2022-12-13T14:23:51.177Z"
   },
   {
    "duration": 17,
    "start_time": "2022-12-13T14:23:51.199Z"
   },
   {
    "duration": 61,
    "start_time": "2022-12-13T14:23:51.217Z"
   },
   {
    "duration": 568,
    "start_time": "2022-12-13T14:23:51.281Z"
   },
   {
    "duration": 133,
    "start_time": "2022-12-13T14:23:51.856Z"
   },
   {
    "duration": 3,
    "start_time": "2022-12-13T14:23:51.992Z"
   },
   {
    "duration": 10,
    "start_time": "2022-12-13T14:23:51.997Z"
   },
   {
    "duration": 23,
    "start_time": "2022-12-13T14:23:52.009Z"
   },
   {
    "duration": 39,
    "start_time": "2022-12-13T14:23:52.034Z"
   },
   {
    "duration": 109,
    "start_time": "2022-12-13T14:23:52.078Z"
   },
   {
    "duration": 59,
    "start_time": "2022-12-13T14:23:52.189Z"
   },
   {
    "duration": 6,
    "start_time": "2022-12-13T14:23:52.250Z"
   },
   {
    "duration": 240,
    "start_time": "2022-12-13T14:23:52.259Z"
   },
   {
    "duration": 20,
    "start_time": "2022-12-13T14:23:52.503Z"
   },
   {
    "duration": 7,
    "start_time": "2022-12-13T14:24:09.301Z"
   },
   {
    "duration": 1009,
    "start_time": "2022-12-13T14:24:09.311Z"
   },
   {
    "duration": 12,
    "start_time": "2022-12-13T14:24:10.322Z"
   },
   {
    "duration": 8,
    "start_time": "2022-12-13T14:24:10.336Z"
   },
   {
    "duration": 15,
    "start_time": "2022-12-13T14:24:10.346Z"
   },
   {
    "duration": 31,
    "start_time": "2022-12-13T14:24:10.364Z"
   },
   {
    "duration": 171,
    "start_time": "2022-12-13T14:24:10.398Z"
   },
   {
    "duration": 115,
    "start_time": "2022-12-13T14:24:10.571Z"
   },
   {
    "duration": 39,
    "start_time": "2022-12-13T14:24:10.687Z"
   },
   {
    "duration": 768,
    "start_time": "2022-12-13T14:24:10.731Z"
   },
   {
    "duration": 246,
    "start_time": "2022-12-13T14:24:11.501Z"
   },
   {
    "duration": 165,
    "start_time": "2022-12-13T14:24:11.750Z"
   },
   {
    "duration": 219,
    "start_time": "2022-12-13T14:24:11.918Z"
   },
   {
    "duration": 510,
    "start_time": "2022-12-13T14:24:12.139Z"
   },
   {
    "duration": 1041,
    "start_time": "2022-12-13T14:24:12.650Z"
   },
   {
    "duration": 86,
    "start_time": "2022-12-13T14:24:13.695Z"
   },
   {
    "duration": 4,
    "start_time": "2022-12-13T14:24:13.783Z"
   },
   {
    "duration": 40,
    "start_time": "2022-12-13T14:24:13.789Z"
   },
   {
    "duration": 124,
    "start_time": "2022-12-13T14:24:13.831Z"
   },
   {
    "duration": 136,
    "start_time": "2022-12-13T14:24:13.958Z"
   },
   {
    "duration": 35,
    "start_time": "2022-12-13T14:24:14.096Z"
   },
   {
    "duration": 248,
    "start_time": "2022-12-13T14:24:14.157Z"
   },
   {
    "duration": 12,
    "start_time": "2022-12-13T14:24:14.407Z"
   },
   {
    "duration": 246,
    "start_time": "2022-12-13T14:24:14.421Z"
   },
   {
    "duration": 45,
    "start_time": "2022-12-13T14:24:14.669Z"
   },
   {
    "duration": 17,
    "start_time": "2022-12-13T14:24:14.716Z"
   },
   {
    "duration": 51,
    "start_time": "2022-12-13T14:24:14.735Z"
   },
   {
    "duration": 21,
    "start_time": "2022-12-13T14:24:14.794Z"
   },
   {
    "duration": 36,
    "start_time": "2022-12-13T14:24:14.817Z"
   },
   {
    "duration": 33,
    "start_time": "2022-12-13T14:24:14.860Z"
   },
   {
    "duration": 537,
    "start_time": "2022-12-13T14:24:14.895Z"
   },
   {
    "duration": 90,
    "start_time": "2022-12-13T14:24:15.434Z"
   },
   {
    "duration": 3,
    "start_time": "2022-12-13T14:24:15.526Z"
   },
   {
    "duration": 25,
    "start_time": "2022-12-13T14:24:15.531Z"
   },
   {
    "duration": 31,
    "start_time": "2022-12-13T14:24:15.560Z"
   },
   {
    "duration": 13,
    "start_time": "2022-12-13T14:24:15.593Z"
   },
   {
    "duration": 81,
    "start_time": "2022-12-13T14:24:15.608Z"
   },
   {
    "duration": 47,
    "start_time": "2022-12-13T14:24:15.691Z"
   },
   {
    "duration": 18,
    "start_time": "2022-12-13T14:24:15.740Z"
   },
   {
    "duration": 226,
    "start_time": "2022-12-13T14:24:15.762Z"
   },
   {
    "duration": 21,
    "start_time": "2022-12-13T14:24:15.990Z"
   },
   {
    "duration": 1921,
    "start_time": "2022-12-13T14:24:46.326Z"
   },
   {
    "duration": 1686,
    "start_time": "2022-12-13T14:25:51.211Z"
   },
   {
    "duration": 1756,
    "start_time": "2022-12-13T14:26:56.263Z"
   },
   {
    "duration": 1306,
    "start_time": "2022-12-13T14:27:12.551Z"
   },
   {
    "duration": 1714,
    "start_time": "2022-12-13T14:28:47.094Z"
   },
   {
    "duration": 1090,
    "start_time": "2022-12-13T14:28:48.810Z"
   },
   {
    "duration": 12,
    "start_time": "2022-12-13T14:28:49.902Z"
   },
   {
    "duration": 9,
    "start_time": "2022-12-13T14:28:49.916Z"
   },
   {
    "duration": 11,
    "start_time": "2022-12-13T14:28:49.926Z"
   },
   {
    "duration": 31,
    "start_time": "2022-12-13T14:28:49.939Z"
   },
   {
    "duration": 150,
    "start_time": "2022-12-13T14:28:49.973Z"
   },
   {
    "duration": 178,
    "start_time": "2022-12-13T14:28:50.125Z"
   },
   {
    "duration": 29,
    "start_time": "2022-12-13T14:28:50.305Z"
   },
   {
    "duration": 579,
    "start_time": "2022-12-13T14:28:50.337Z"
   },
   {
    "duration": 251,
    "start_time": "2022-12-13T14:28:50.918Z"
   },
   {
    "duration": 127,
    "start_time": "2022-12-13T14:28:51.170Z"
   },
   {
    "duration": 215,
    "start_time": "2022-12-13T14:28:51.299Z"
   },
   {
    "duration": 531,
    "start_time": "2022-12-13T14:28:51.516Z"
   },
   {
    "duration": 998,
    "start_time": "2022-12-13T14:28:52.049Z"
   },
   {
    "duration": 64,
    "start_time": "2022-12-13T14:28:53.048Z"
   },
   {
    "duration": 3,
    "start_time": "2022-12-13T14:28:53.113Z"
   },
   {
    "duration": 57,
    "start_time": "2022-12-13T14:28:53.118Z"
   },
   {
    "duration": 108,
    "start_time": "2022-12-13T14:28:53.177Z"
   },
   {
    "duration": 115,
    "start_time": "2022-12-13T14:28:53.288Z"
   },
   {
    "duration": 28,
    "start_time": "2022-12-13T14:28:53.405Z"
   },
   {
    "duration": 248,
    "start_time": "2022-12-13T14:28:53.435Z"
   },
   {
    "duration": 10,
    "start_time": "2022-12-13T14:28:53.685Z"
   },
   {
    "duration": 233,
    "start_time": "2022-12-13T14:28:53.697Z"
   },
   {
    "duration": 45,
    "start_time": "2022-12-13T14:28:53.932Z"
   },
   {
    "duration": 6,
    "start_time": "2022-12-13T14:28:53.979Z"
   },
   {
    "duration": 15,
    "start_time": "2022-12-13T14:28:53.987Z"
   },
   {
    "duration": 8,
    "start_time": "2022-12-13T14:28:54.006Z"
   },
   {
    "duration": 26,
    "start_time": "2022-12-13T14:28:54.132Z"
   },
   {
    "duration": 16,
    "start_time": "2022-12-13T14:28:54.159Z"
   },
   {
    "duration": 489,
    "start_time": "2022-12-13T14:28:54.178Z"
   },
   {
    "duration": 105,
    "start_time": "2022-12-13T14:28:54.670Z"
   },
   {
    "duration": 31,
    "start_time": "2022-12-13T14:28:54.778Z"
   },
   {
    "duration": 12,
    "start_time": "2022-12-13T14:28:54.811Z"
   },
   {
    "duration": 41,
    "start_time": "2022-12-13T14:28:54.825Z"
   },
   {
    "duration": 29,
    "start_time": "2022-12-13T14:28:54.869Z"
   },
   {
    "duration": 95,
    "start_time": "2022-12-13T14:28:54.901Z"
   },
   {
    "duration": 71,
    "start_time": "2022-12-13T14:28:54.999Z"
   },
   {
    "duration": 9,
    "start_time": "2022-12-13T14:28:55.074Z"
   },
   {
    "duration": 249,
    "start_time": "2022-12-13T14:28:55.084Z"
   },
   {
    "duration": 36,
    "start_time": "2022-12-13T14:28:55.335Z"
   },
   {
    "duration": 1858,
    "start_time": "2022-12-13T14:28:55.374Z"
   },
   {
    "duration": 1217,
    "start_time": "2022-12-13T14:28:57.234Z"
   },
   {
    "duration": 7,
    "start_time": "2022-12-13T14:28:58.454Z"
   },
   {
    "duration": 9,
    "start_time": "2022-12-13T14:28:58.464Z"
   },
   {
    "duration": 20,
    "start_time": "2022-12-13T14:28:58.475Z"
   },
   {
    "duration": 6,
    "start_time": "2022-12-13T14:28:58.496Z"
   },
   {
    "duration": 836,
    "start_time": "2022-12-13T14:28:58.504Z"
   },
   {
    "duration": 376,
    "start_time": "2022-12-13T14:28:59.343Z"
   },
   {
    "duration": 2,
    "start_time": "2022-12-13T14:28:59.721Z"
   },
   {
    "duration": 4,
    "start_time": "2022-12-13T14:28:59.725Z"
   },
   {
    "duration": 189,
    "start_time": "2022-12-13T14:28:59.731Z"
   },
   {
    "duration": 1506,
    "start_time": "2022-12-13T14:28:59.922Z"
   },
   {
    "duration": 239,
    "start_time": "2022-12-13T14:29:01.430Z"
   },
   {
    "duration": 4,
    "start_time": "2022-12-13T14:29:01.671Z"
   },
   {
    "duration": 40,
    "start_time": "2022-12-13T14:29:01.677Z"
   },
   {
    "duration": 62,
    "start_time": "2022-12-13T14:29:01.718Z"
   },
   {
    "duration": 23012,
    "start_time": "2022-12-13T14:29:01.783Z"
   },
   {
    "duration": 4,
    "start_time": "2022-12-13T14:29:24.800Z"
   },
   {
    "duration": 15,
    "start_time": "2022-12-13T14:29:24.806Z"
   },
   {
    "duration": 13,
    "start_time": "2022-12-13T14:29:24.824Z"
   },
   {
    "duration": 49,
    "start_time": "2022-12-13T14:29:24.839Z"
   },
   {
    "duration": 233369,
    "start_time": "2022-12-13T14:29:24.890Z"
   },
   {
    "duration": 2626,
    "start_time": "2022-12-13T14:33:18.261Z"
   },
   {
    "duration": 963,
    "start_time": "2022-12-13T14:33:20.889Z"
   },
   {
    "duration": 10,
    "start_time": "2022-12-13T14:33:21.855Z"
   },
   {
    "duration": 31,
    "start_time": "2022-12-13T14:33:21.868Z"
   },
   {
    "duration": 5270,
    "start_time": "2022-12-13T14:33:21.902Z"
   },
   {
    "duration": 69982,
    "start_time": "2022-12-13T14:33:27.175Z"
   },
   {
    "duration": 304,
    "start_time": "2022-12-13T14:34:37.161Z"
   },
   {
    "duration": 193,
    "start_time": "2022-12-13T14:34:37.468Z"
   },
   {
    "duration": 155012,
    "start_time": "2022-12-13T14:34:37.666Z"
   },
   {
    "duration": 408,
    "start_time": "2022-12-13T14:37:12.680Z"
   },
   {
    "duration": 208,
    "start_time": "2022-12-13T14:37:13.155Z"
   },
   {
    "duration": 15,
    "start_time": "2022-12-13T14:37:13.366Z"
   },
   {
    "duration": 28,
    "start_time": "2022-12-13T14:37:13.384Z"
   },
   {
    "duration": 5,
    "start_time": "2022-12-13T14:37:13.414Z"
   },
   {
    "duration": 5,
    "start_time": "2022-12-13T14:37:13.455Z"
   },
   {
    "duration": 23,
    "start_time": "2022-12-13T14:37:13.462Z"
   },
   {
    "duration": 1000,
    "start_time": "2022-12-13T14:37:13.486Z"
   },
   {
    "duration": 15,
    "start_time": "2022-12-13T14:37:14.490Z"
   },
   {
    "duration": 130,
    "start_time": "2022-12-13T14:37:14.515Z"
   },
   {
    "duration": 25,
    "start_time": "2022-12-13T14:37:14.648Z"
   },
   {
    "duration": 14,
    "start_time": "2022-12-13T14:37:14.684Z"
   },
   {
    "duration": 14,
    "start_time": "2022-12-13T14:37:14.700Z"
   },
   {
    "duration": 550460,
    "start_time": "2022-12-13T14:37:14.717Z"
   },
   {
    "duration": 999,
    "start_time": "2022-12-13T14:46:25.188Z"
   },
   {
    "duration": 392,
    "start_time": "2022-12-13T14:46:26.191Z"
   },
   {
    "duration": 7,
    "start_time": "2022-12-13T14:46:26.587Z"
   },
   {
    "duration": 69,
    "start_time": "2022-12-13T14:46:26.596Z"
   },
   {
    "duration": 155,
    "start_time": "2022-12-13T14:46:26.667Z"
   },
   {
    "duration": 20,
    "start_time": "2022-12-13T14:46:26.824Z"
   },
   {
    "duration": 460,
    "start_time": "2022-12-13T14:46:26.846Z"
   },
   {
    "duration": 4,
    "start_time": "2022-12-13T14:46:27.309Z"
   },
   {
    "duration": 90494,
    "start_time": "2022-12-13T14:46:27.314Z"
   },
   {
    "duration": 1629,
    "start_time": "2022-12-13T14:47:57.809Z"
   },
   {
    "duration": 551,
    "start_time": "2022-12-13T14:47:59.440Z"
   },
   {
    "duration": 3,
    "start_time": "2022-12-13T14:47:59.993Z"
   },
   {
    "duration": 1871,
    "start_time": "2022-12-13T16:39:28.417Z"
   },
   {
    "duration": 1062,
    "start_time": "2022-12-13T16:39:30.290Z"
   },
   {
    "duration": 12,
    "start_time": "2022-12-13T16:39:31.353Z"
   },
   {
    "duration": 51,
    "start_time": "2022-12-13T16:39:31.367Z"
   },
   {
    "duration": 24,
    "start_time": "2022-12-13T16:39:31.420Z"
   },
   {
    "duration": 33,
    "start_time": "2022-12-13T16:39:31.445Z"
   },
   {
    "duration": 122,
    "start_time": "2022-12-13T16:39:31.480Z"
   },
   {
    "duration": 102,
    "start_time": "2022-12-13T16:39:31.604Z"
   },
   {
    "duration": 22,
    "start_time": "2022-12-13T16:39:31.708Z"
   },
   {
    "duration": 407,
    "start_time": "2022-12-13T16:39:31.733Z"
   },
   {
    "duration": 192,
    "start_time": "2022-12-13T16:39:32.141Z"
   },
   {
    "duration": 94,
    "start_time": "2022-12-13T16:39:32.335Z"
   },
   {
    "duration": 149,
    "start_time": "2022-12-13T16:39:32.430Z"
   },
   {
    "duration": 434,
    "start_time": "2022-12-13T16:39:32.580Z"
   },
   {
    "duration": 765,
    "start_time": "2022-12-13T16:39:33.016Z"
   },
   {
    "duration": 47,
    "start_time": "2022-12-13T16:39:33.783Z"
   },
   {
    "duration": 6,
    "start_time": "2022-12-13T16:39:33.832Z"
   },
   {
    "duration": 35,
    "start_time": "2022-12-13T16:39:33.840Z"
   },
   {
    "duration": 99,
    "start_time": "2022-12-13T16:39:33.877Z"
   },
   {
    "duration": 95,
    "start_time": "2022-12-13T16:39:33.978Z"
   },
   {
    "duration": 49,
    "start_time": "2022-12-13T16:39:34.075Z"
   },
   {
    "duration": 218,
    "start_time": "2022-12-13T16:39:34.127Z"
   },
   {
    "duration": 7,
    "start_time": "2022-12-13T16:39:34.346Z"
   },
   {
    "duration": 183,
    "start_time": "2022-12-13T16:39:34.355Z"
   },
   {
    "duration": 30,
    "start_time": "2022-12-13T16:39:34.540Z"
   },
   {
    "duration": 25,
    "start_time": "2022-12-13T16:39:34.572Z"
   },
   {
    "duration": 5,
    "start_time": "2022-12-13T16:39:34.599Z"
   },
   {
    "duration": 11,
    "start_time": "2022-12-13T16:39:34.609Z"
   },
   {
    "duration": 16,
    "start_time": "2022-12-13T16:39:34.724Z"
   },
   {
    "duration": 11,
    "start_time": "2022-12-13T16:39:34.742Z"
   },
   {
    "duration": 390,
    "start_time": "2022-12-13T16:39:34.754Z"
   },
   {
    "duration": 73,
    "start_time": "2022-12-13T16:39:35.146Z"
   },
   {
    "duration": 3,
    "start_time": "2022-12-13T16:39:35.221Z"
   },
   {
    "duration": 11,
    "start_time": "2022-12-13T16:39:35.226Z"
   },
   {
    "duration": 25,
    "start_time": "2022-12-13T16:39:35.238Z"
   },
   {
    "duration": 11,
    "start_time": "2022-12-13T16:39:35.264Z"
   },
   {
    "duration": 73,
    "start_time": "2022-12-13T16:39:35.276Z"
   },
   {
    "duration": 57,
    "start_time": "2022-12-13T16:39:35.351Z"
   },
   {
    "duration": 2,
    "start_time": "2022-12-13T16:39:35.410Z"
   },
   {
    "duration": 189,
    "start_time": "2022-12-13T16:39:35.415Z"
   },
   {
    "duration": 20,
    "start_time": "2022-12-13T16:39:35.606Z"
   },
   {
    "duration": 1465,
    "start_time": "2022-12-13T16:39:35.627Z"
   },
   {
    "duration": 999,
    "start_time": "2022-12-13T16:39:37.096Z"
   },
   {
    "duration": 4,
    "start_time": "2022-12-13T16:39:38.097Z"
   },
   {
    "duration": 7,
    "start_time": "2022-12-13T16:39:38.102Z"
   },
   {
    "duration": 13,
    "start_time": "2022-12-13T16:39:38.110Z"
   },
   {
    "duration": 5,
    "start_time": "2022-12-13T16:39:38.124Z"
   },
   {
    "duration": 653,
    "start_time": "2022-12-13T16:39:38.130Z"
   },
   {
    "duration": 358,
    "start_time": "2022-12-13T16:39:38.785Z"
   },
   {
    "duration": 3,
    "start_time": "2022-12-13T16:39:39.145Z"
   },
   {
    "duration": 11,
    "start_time": "2022-12-13T16:39:39.149Z"
   },
   {
    "duration": 176,
    "start_time": "2022-12-13T16:39:39.162Z"
   },
   {
    "duration": 1511,
    "start_time": "2022-12-13T16:41:19.433Z"
   },
   {
    "duration": 1008,
    "start_time": "2022-12-13T16:41:20.947Z"
   },
   {
    "duration": 11,
    "start_time": "2022-12-13T16:41:21.956Z"
   },
   {
    "duration": 9,
    "start_time": "2022-12-13T16:41:21.969Z"
   },
   {
    "duration": 8,
    "start_time": "2022-12-13T16:41:21.979Z"
   },
   {
    "duration": 19,
    "start_time": "2022-12-13T16:41:21.989Z"
   },
   {
    "duration": 122,
    "start_time": "2022-12-13T16:41:22.011Z"
   },
   {
    "duration": 103,
    "start_time": "2022-12-13T16:41:22.135Z"
   },
   {
    "duration": 25,
    "start_time": "2022-12-13T16:41:22.240Z"
   },
   {
    "duration": 419,
    "start_time": "2022-12-13T16:41:22.269Z"
   },
   {
    "duration": 184,
    "start_time": "2022-12-13T16:41:22.697Z"
   },
   {
    "duration": 90,
    "start_time": "2022-12-13T16:41:22.883Z"
   },
   {
    "duration": 145,
    "start_time": "2022-12-13T16:41:22.976Z"
   },
   {
    "duration": 422,
    "start_time": "2022-12-13T16:41:23.124Z"
   },
   {
    "duration": 769,
    "start_time": "2022-12-13T16:41:23.547Z"
   },
   {
    "duration": 42,
    "start_time": "2022-12-13T16:41:24.317Z"
   },
   {
    "duration": 3,
    "start_time": "2022-12-13T16:41:24.360Z"
   },
   {
    "duration": 53,
    "start_time": "2022-12-13T16:41:24.365Z"
   },
   {
    "duration": 82,
    "start_time": "2022-12-13T16:41:24.420Z"
   },
   {
    "duration": 103,
    "start_time": "2022-12-13T16:41:24.504Z"
   },
   {
    "duration": 26,
    "start_time": "2022-12-13T16:41:24.609Z"
   },
   {
    "duration": 195,
    "start_time": "2022-12-13T16:41:24.637Z"
   },
   {
    "duration": 7,
    "start_time": "2022-12-13T16:41:24.834Z"
   },
   {
    "duration": 184,
    "start_time": "2022-12-13T16:41:24.842Z"
   },
   {
    "duration": 30,
    "start_time": "2022-12-13T16:41:25.028Z"
   },
   {
    "duration": 5,
    "start_time": "2022-12-13T16:41:25.060Z"
   },
   {
    "duration": 7,
    "start_time": "2022-12-13T16:41:25.066Z"
   },
   {
    "duration": 7,
    "start_time": "2022-12-13T16:41:25.100Z"
   },
   {
    "duration": 17,
    "start_time": "2022-12-13T16:41:25.198Z"
   },
   {
    "duration": 10,
    "start_time": "2022-12-13T16:41:25.217Z"
   },
   {
    "duration": 394,
    "start_time": "2022-12-13T16:41:25.229Z"
   },
   {
    "duration": 58,
    "start_time": "2022-12-13T16:41:25.625Z"
   },
   {
    "duration": 3,
    "start_time": "2022-12-13T16:41:25.697Z"
   },
   {
    "duration": 5,
    "start_time": "2022-12-13T16:41:25.702Z"
   },
   {
    "duration": 15,
    "start_time": "2022-12-13T16:41:25.708Z"
   },
   {
    "duration": 10,
    "start_time": "2022-12-13T16:41:25.724Z"
   },
   {
    "duration": 79,
    "start_time": "2022-12-13T16:41:25.736Z"
   },
   {
    "duration": 50,
    "start_time": "2022-12-13T16:41:25.817Z"
   },
   {
    "duration": 3,
    "start_time": "2022-12-13T16:41:25.869Z"
   },
   {
    "duration": 178,
    "start_time": "2022-12-13T16:41:25.874Z"
   },
   {
    "duration": 18,
    "start_time": "2022-12-13T16:41:26.054Z"
   },
   {
    "duration": 1460,
    "start_time": "2022-12-13T16:41:26.074Z"
   },
   {
    "duration": 965,
    "start_time": "2022-12-13T16:41:27.536Z"
   },
   {
    "duration": 3,
    "start_time": "2022-12-13T16:41:28.503Z"
   },
   {
    "duration": 8,
    "start_time": "2022-12-13T16:41:28.508Z"
   },
   {
    "duration": 14,
    "start_time": "2022-12-13T16:41:28.517Z"
   },
   {
    "duration": 8,
    "start_time": "2022-12-13T16:41:28.532Z"
   },
   {
    "duration": 622,
    "start_time": "2022-12-13T16:41:28.541Z"
   },
   {
    "duration": 363,
    "start_time": "2022-12-13T16:41:29.165Z"
   },
   {
    "duration": 3,
    "start_time": "2022-12-13T16:41:29.530Z"
   },
   {
    "duration": 7,
    "start_time": "2022-12-13T16:41:29.534Z"
   },
   {
    "duration": 173,
    "start_time": "2022-12-13T16:41:29.543Z"
   },
   {
    "duration": 1599,
    "start_time": "2022-12-13T16:41:49.858Z"
   },
   {
    "duration": 1085,
    "start_time": "2022-12-13T16:41:51.459Z"
   },
   {
    "duration": 11,
    "start_time": "2022-12-13T16:41:52.546Z"
   },
   {
    "duration": 6,
    "start_time": "2022-12-13T16:41:52.560Z"
   },
   {
    "duration": 5,
    "start_time": "2022-12-13T16:41:52.568Z"
   },
   {
    "duration": 21,
    "start_time": "2022-12-13T16:41:52.575Z"
   },
   {
    "duration": 125,
    "start_time": "2022-12-13T16:41:52.597Z"
   },
   {
    "duration": 100,
    "start_time": "2022-12-13T16:41:52.724Z"
   },
   {
    "duration": 23,
    "start_time": "2022-12-13T16:41:52.826Z"
   },
   {
    "duration": 408,
    "start_time": "2022-12-13T16:41:52.851Z"
   },
   {
    "duration": 195,
    "start_time": "2022-12-13T16:41:53.261Z"
   },
   {
    "duration": 85,
    "start_time": "2022-12-13T16:41:53.458Z"
   },
   {
    "duration": 146,
    "start_time": "2022-12-13T16:41:53.545Z"
   },
   {
    "duration": 422,
    "start_time": "2022-12-13T16:41:53.696Z"
   },
   {
    "duration": 760,
    "start_time": "2022-12-13T16:41:54.120Z"
   },
   {
    "duration": 44,
    "start_time": "2022-12-13T16:41:54.881Z"
   },
   {
    "duration": 3,
    "start_time": "2022-12-13T16:41:54.927Z"
   },
   {
    "duration": 34,
    "start_time": "2022-12-13T16:41:54.931Z"
   },
   {
    "duration": 87,
    "start_time": "2022-12-13T16:41:54.968Z"
   },
   {
    "duration": 110,
    "start_time": "2022-12-13T16:41:55.057Z"
   },
   {
    "duration": 33,
    "start_time": "2022-12-13T16:41:55.169Z"
   },
   {
    "duration": 194,
    "start_time": "2022-12-13T16:41:55.204Z"
   },
   {
    "duration": 7,
    "start_time": "2022-12-13T16:41:55.400Z"
   },
   {
    "duration": 172,
    "start_time": "2022-12-13T16:41:55.408Z"
   },
   {
    "duration": 36,
    "start_time": "2022-12-13T16:41:55.582Z"
   },
   {
    "duration": 5,
    "start_time": "2022-12-13T16:41:55.620Z"
   },
   {
    "duration": 7,
    "start_time": "2022-12-13T16:41:55.627Z"
   },
   {
    "duration": 7,
    "start_time": "2022-12-13T16:41:55.638Z"
   },
   {
    "duration": 15,
    "start_time": "2022-12-13T16:41:55.738Z"
   },
   {
    "duration": 10,
    "start_time": "2022-12-13T16:41:55.755Z"
   },
   {
    "duration": 391,
    "start_time": "2022-12-13T16:41:55.767Z"
   },
   {
    "duration": 83,
    "start_time": "2022-12-13T16:41:56.159Z"
   },
   {
    "duration": 3,
    "start_time": "2022-12-13T16:41:56.244Z"
   },
   {
    "duration": 9,
    "start_time": "2022-12-13T16:41:56.249Z"
   },
   {
    "duration": 26,
    "start_time": "2022-12-13T16:41:56.260Z"
   },
   {
    "duration": 13,
    "start_time": "2022-12-13T16:41:56.296Z"
   },
   {
    "duration": 69,
    "start_time": "2022-12-13T16:41:56.311Z"
   },
   {
    "duration": 73,
    "start_time": "2022-12-13T16:41:56.383Z"
   },
   {
    "duration": 2,
    "start_time": "2022-12-13T16:41:56.458Z"
   },
   {
    "duration": 195,
    "start_time": "2022-12-13T16:41:56.462Z"
   },
   {
    "duration": 19,
    "start_time": "2022-12-13T16:41:56.658Z"
   },
   {
    "duration": 1463,
    "start_time": "2022-12-13T16:41:56.679Z"
   },
   {
    "duration": 981,
    "start_time": "2022-12-13T16:41:58.144Z"
   },
   {
    "duration": 3,
    "start_time": "2022-12-13T16:41:59.127Z"
   },
   {
    "duration": 13,
    "start_time": "2022-12-13T16:41:59.132Z"
   },
   {
    "duration": 8,
    "start_time": "2022-12-13T16:41:59.146Z"
   },
   {
    "duration": 4,
    "start_time": "2022-12-13T16:41:59.156Z"
   },
   {
    "duration": 600,
    "start_time": "2022-12-13T16:41:59.162Z"
   },
   {
    "duration": 353,
    "start_time": "2022-12-13T16:41:59.763Z"
   },
   {
    "duration": 3,
    "start_time": "2022-12-13T16:42:00.117Z"
   },
   {
    "duration": 22,
    "start_time": "2022-12-13T16:42:00.122Z"
   },
   {
    "duration": 178,
    "start_time": "2022-12-13T16:42:00.146Z"
   },
   {
    "duration": 1491,
    "start_time": "2022-12-13T16:42:43.947Z"
   },
   {
    "duration": 1139,
    "start_time": "2022-12-13T16:42:45.440Z"
   },
   {
    "duration": 12,
    "start_time": "2022-12-13T16:42:46.581Z"
   },
   {
    "duration": 11,
    "start_time": "2022-12-13T16:42:46.595Z"
   },
   {
    "duration": 9,
    "start_time": "2022-12-13T16:42:46.608Z"
   },
   {
    "duration": 29,
    "start_time": "2022-12-13T16:42:46.619Z"
   },
   {
    "duration": 130,
    "start_time": "2022-12-13T16:42:46.650Z"
   },
   {
    "duration": 116,
    "start_time": "2022-12-13T16:42:46.782Z"
   },
   {
    "duration": 26,
    "start_time": "2022-12-13T16:42:46.900Z"
   },
   {
    "duration": 411,
    "start_time": "2022-12-13T16:42:46.929Z"
   },
   {
    "duration": 198,
    "start_time": "2022-12-13T16:42:47.341Z"
   },
   {
    "duration": 96,
    "start_time": "2022-12-13T16:42:47.541Z"
   },
   {
    "duration": 163,
    "start_time": "2022-12-13T16:42:47.639Z"
   },
   {
    "duration": 439,
    "start_time": "2022-12-13T16:42:47.803Z"
   },
   {
    "duration": 802,
    "start_time": "2022-12-13T16:42:48.244Z"
   },
   {
    "duration": 53,
    "start_time": "2022-12-13T16:42:49.047Z"
   },
   {
    "duration": 3,
    "start_time": "2022-12-13T16:42:49.102Z"
   },
   {
    "duration": 42,
    "start_time": "2022-12-13T16:42:49.107Z"
   },
   {
    "duration": 86,
    "start_time": "2022-12-13T16:42:49.151Z"
   },
   {
    "duration": 101,
    "start_time": "2022-12-13T16:42:49.239Z"
   },
   {
    "duration": 26,
    "start_time": "2022-12-13T16:42:49.342Z"
   },
   {
    "duration": 207,
    "start_time": "2022-12-13T16:42:49.369Z"
   },
   {
    "duration": 7,
    "start_time": "2022-12-13T16:42:49.577Z"
   },
   {
    "duration": 174,
    "start_time": "2022-12-13T16:42:49.596Z"
   },
   {
    "duration": 43,
    "start_time": "2022-12-13T16:42:49.772Z"
   },
   {
    "duration": 6,
    "start_time": "2022-12-13T16:42:49.816Z"
   },
   {
    "duration": 8,
    "start_time": "2022-12-13T16:42:49.824Z"
   },
   {
    "duration": 20,
    "start_time": "2022-12-13T16:42:49.839Z"
   },
   {
    "duration": 105,
    "start_time": "2022-12-13T16:42:49.863Z"
   },
   {
    "duration": 10,
    "start_time": "2022-12-13T16:42:49.970Z"
   },
   {
    "duration": 387,
    "start_time": "2022-12-13T16:42:49.997Z"
   },
   {
    "duration": 60,
    "start_time": "2022-12-13T16:42:50.386Z"
   },
   {
    "duration": 3,
    "start_time": "2022-12-13T16:42:50.448Z"
   },
   {
    "duration": 7,
    "start_time": "2022-12-13T16:42:50.452Z"
   },
   {
    "duration": 15,
    "start_time": "2022-12-13T16:42:50.460Z"
   },
   {
    "duration": 27,
    "start_time": "2022-12-13T16:42:50.476Z"
   },
   {
    "duration": 70,
    "start_time": "2022-12-13T16:42:50.505Z"
   },
   {
    "duration": 61,
    "start_time": "2022-12-13T16:42:50.578Z"
   },
   {
    "duration": 2,
    "start_time": "2022-12-13T16:42:50.641Z"
   },
   {
    "duration": 171,
    "start_time": "2022-12-13T16:42:50.645Z"
   },
   {
    "duration": 17,
    "start_time": "2022-12-13T16:42:50.818Z"
   },
   {
    "duration": 1439,
    "start_time": "2022-12-13T16:42:50.837Z"
   },
   {
    "duration": 973,
    "start_time": "2022-12-13T16:42:52.277Z"
   },
   {
    "duration": 3,
    "start_time": "2022-12-13T16:42:53.252Z"
   },
   {
    "duration": 7,
    "start_time": "2022-12-13T16:42:53.257Z"
   },
   {
    "duration": 8,
    "start_time": "2022-12-13T16:42:53.266Z"
   },
   {
    "duration": 21,
    "start_time": "2022-12-13T16:42:53.276Z"
   },
   {
    "duration": 598,
    "start_time": "2022-12-13T16:42:53.299Z"
   },
   {
    "duration": 365,
    "start_time": "2022-12-13T16:42:53.899Z"
   },
   {
    "duration": 2,
    "start_time": "2022-12-13T16:42:54.266Z"
   },
   {
    "duration": 20,
    "start_time": "2022-12-13T16:42:54.270Z"
   },
   {
    "duration": 183,
    "start_time": "2022-12-13T16:42:54.292Z"
   },
   {
    "duration": 1594,
    "start_time": "2022-12-13T16:43:20.898Z"
   },
   {
    "duration": 1087,
    "start_time": "2022-12-13T16:43:22.494Z"
   },
   {
    "duration": 13,
    "start_time": "2022-12-13T16:43:23.583Z"
   },
   {
    "duration": 7,
    "start_time": "2022-12-13T16:43:23.598Z"
   },
   {
    "duration": 10,
    "start_time": "2022-12-13T16:43:23.607Z"
   },
   {
    "duration": 23,
    "start_time": "2022-12-13T16:43:23.619Z"
   },
   {
    "duration": 163,
    "start_time": "2022-12-13T16:43:23.644Z"
   },
   {
    "duration": 114,
    "start_time": "2022-12-13T16:43:23.809Z"
   },
   {
    "duration": 25,
    "start_time": "2022-12-13T16:43:23.925Z"
   },
   {
    "duration": 425,
    "start_time": "2022-12-13T16:43:23.952Z"
   },
   {
    "duration": 199,
    "start_time": "2022-12-13T16:43:24.379Z"
   },
   {
    "duration": 91,
    "start_time": "2022-12-13T16:43:24.580Z"
   },
   {
    "duration": 163,
    "start_time": "2022-12-13T16:43:24.673Z"
   },
   {
    "duration": 470,
    "start_time": "2022-12-13T16:43:24.838Z"
   },
   {
    "duration": 831,
    "start_time": "2022-12-13T16:43:25.310Z"
   },
   {
    "duration": 59,
    "start_time": "2022-12-13T16:43:26.143Z"
   },
   {
    "duration": 5,
    "start_time": "2022-12-13T16:43:26.204Z"
   },
   {
    "duration": 53,
    "start_time": "2022-12-13T16:43:26.211Z"
   },
   {
    "duration": 85,
    "start_time": "2022-12-13T16:43:26.266Z"
   },
   {
    "duration": 103,
    "start_time": "2022-12-13T16:43:26.353Z"
   },
   {
    "duration": 27,
    "start_time": "2022-12-13T16:43:26.457Z"
   },
   {
    "duration": 196,
    "start_time": "2022-12-13T16:43:26.496Z"
   },
   {
    "duration": 7,
    "start_time": "2022-12-13T16:43:26.696Z"
   },
   {
    "duration": 183,
    "start_time": "2022-12-13T16:43:26.705Z"
   },
   {
    "duration": 31,
    "start_time": "2022-12-13T16:43:26.895Z"
   },
   {
    "duration": 7,
    "start_time": "2022-12-13T16:43:26.927Z"
   },
   {
    "duration": 15,
    "start_time": "2022-12-13T16:43:26.936Z"
   },
   {
    "duration": 19,
    "start_time": "2022-12-13T16:43:26.956Z"
   },
   {
    "duration": 16,
    "start_time": "2022-12-13T16:43:27.058Z"
   },
   {
    "duration": 23,
    "start_time": "2022-12-13T16:43:27.076Z"
   },
   {
    "duration": 402,
    "start_time": "2022-12-13T16:43:27.101Z"
   },
   {
    "duration": 58,
    "start_time": "2022-12-13T16:43:27.505Z"
   },
   {
    "duration": 14,
    "start_time": "2022-12-13T16:43:27.565Z"
   },
   {
    "duration": 5,
    "start_time": "2022-12-13T16:43:27.581Z"
   },
   {
    "duration": 13,
    "start_time": "2022-12-13T16:43:27.596Z"
   },
   {
    "duration": 10,
    "start_time": "2022-12-13T16:43:27.610Z"
   },
   {
    "duration": 58,
    "start_time": "2022-12-13T16:43:27.622Z"
   },
   {
    "duration": 66,
    "start_time": "2022-12-13T16:43:27.682Z"
   },
   {
    "duration": 2,
    "start_time": "2022-12-13T16:43:27.750Z"
   },
   {
    "duration": 193,
    "start_time": "2022-12-13T16:43:27.754Z"
   },
   {
    "duration": 19,
    "start_time": "2022-12-13T16:43:27.950Z"
   },
   {
    "duration": 1461,
    "start_time": "2022-12-13T16:43:27.971Z"
   },
   {
    "duration": 1017,
    "start_time": "2022-12-13T16:43:29.434Z"
   },
   {
    "duration": 4,
    "start_time": "2022-12-13T16:43:30.453Z"
   },
   {
    "duration": 18,
    "start_time": "2022-12-13T16:43:30.458Z"
   },
   {
    "duration": 55,
    "start_time": "2022-12-13T16:43:30.478Z"
   },
   {
    "duration": 27,
    "start_time": "2022-12-13T16:43:30.535Z"
   },
   {
    "duration": 726,
    "start_time": "2022-12-13T16:43:30.563Z"
   },
   {
    "duration": 364,
    "start_time": "2022-12-13T16:43:31.291Z"
   },
   {
    "duration": 3,
    "start_time": "2022-12-13T16:43:31.657Z"
   },
   {
    "duration": 34,
    "start_time": "2022-12-13T16:43:31.661Z"
   },
   {
    "duration": 166,
    "start_time": "2022-12-13T16:43:31.697Z"
   },
   {
    "duration": 1639,
    "start_time": "2022-12-13T16:51:20.374Z"
   },
   {
    "duration": 983,
    "start_time": "2022-12-13T16:51:22.015Z"
   },
   {
    "duration": 11,
    "start_time": "2022-12-13T16:51:23.000Z"
   },
   {
    "duration": 12,
    "start_time": "2022-12-13T16:51:23.014Z"
   },
   {
    "duration": 21,
    "start_time": "2022-12-13T16:51:23.027Z"
   },
   {
    "duration": 20,
    "start_time": "2022-12-13T16:51:23.050Z"
   },
   {
    "duration": 121,
    "start_time": "2022-12-13T16:51:23.071Z"
   },
   {
    "duration": 101,
    "start_time": "2022-12-13T16:51:23.196Z"
   },
   {
    "duration": 22,
    "start_time": "2022-12-13T16:51:23.299Z"
   },
   {
    "duration": 396,
    "start_time": "2022-12-13T16:51:23.323Z"
   },
   {
    "duration": 188,
    "start_time": "2022-12-13T16:51:23.721Z"
   },
   {
    "duration": 99,
    "start_time": "2022-12-13T16:51:23.913Z"
   },
   {
    "duration": 144,
    "start_time": "2022-12-13T16:51:24.014Z"
   },
   {
    "duration": 405,
    "start_time": "2022-12-13T16:51:24.159Z"
   },
   {
    "duration": 762,
    "start_time": "2022-12-13T16:51:24.566Z"
   },
   {
    "duration": 40,
    "start_time": "2022-12-13T16:51:25.329Z"
   },
   {
    "duration": 3,
    "start_time": "2022-12-13T16:51:25.370Z"
   },
   {
    "duration": 47,
    "start_time": "2022-12-13T16:51:25.374Z"
   },
   {
    "duration": 77,
    "start_time": "2022-12-13T16:51:25.422Z"
   },
   {
    "duration": 96,
    "start_time": "2022-12-13T16:51:25.500Z"
   },
   {
    "duration": 25,
    "start_time": "2022-12-13T16:51:25.599Z"
   },
   {
    "duration": 195,
    "start_time": "2022-12-13T16:51:25.626Z"
   },
   {
    "duration": 8,
    "start_time": "2022-12-13T16:51:25.823Z"
   },
   {
    "duration": 216,
    "start_time": "2022-12-13T16:51:25.833Z"
   },
   {
    "duration": 48,
    "start_time": "2022-12-13T16:51:26.051Z"
   },
   {
    "duration": 19,
    "start_time": "2022-12-13T16:51:26.101Z"
   },
   {
    "duration": 27,
    "start_time": "2022-12-13T16:51:26.122Z"
   },
   {
    "duration": 31,
    "start_time": "2022-12-13T16:51:26.154Z"
   },
   {
    "duration": 15,
    "start_time": "2022-12-13T16:51:26.264Z"
   },
   {
    "duration": 24,
    "start_time": "2022-12-13T16:51:26.280Z"
   },
   {
    "duration": 390,
    "start_time": "2022-12-13T16:51:26.306Z"
   },
   {
    "duration": 54,
    "start_time": "2022-12-13T16:51:26.698Z"
   },
   {
    "duration": 2,
    "start_time": "2022-12-13T16:51:26.753Z"
   },
   {
    "duration": 6,
    "start_time": "2022-12-13T16:51:26.757Z"
   },
   {
    "duration": 38,
    "start_time": "2022-12-13T16:51:26.764Z"
   },
   {
    "duration": 10,
    "start_time": "2022-12-13T16:51:26.804Z"
   },
   {
    "duration": 89,
    "start_time": "2022-12-13T16:51:26.816Z"
   },
   {
    "duration": 56,
    "start_time": "2022-12-13T16:51:26.907Z"
   },
   {
    "duration": 2,
    "start_time": "2022-12-13T16:51:26.965Z"
   },
   {
    "duration": 188,
    "start_time": "2022-12-13T16:51:26.969Z"
   },
   {
    "duration": 18,
    "start_time": "2022-12-13T16:51:27.159Z"
   },
   {
    "duration": 1451,
    "start_time": "2022-12-13T16:51:27.179Z"
   },
   {
    "duration": 972,
    "start_time": "2022-12-13T16:51:28.631Z"
   },
   {
    "duration": 4,
    "start_time": "2022-12-13T16:51:29.604Z"
   },
   {
    "duration": 6,
    "start_time": "2022-12-13T16:51:29.609Z"
   },
   {
    "duration": 8,
    "start_time": "2022-12-13T16:51:29.616Z"
   },
   {
    "duration": 5,
    "start_time": "2022-12-13T16:51:29.626Z"
   },
   {
    "duration": 634,
    "start_time": "2022-12-13T16:51:29.633Z"
   },
   {
    "duration": 363,
    "start_time": "2022-12-13T16:51:30.269Z"
   },
   {
    "duration": 2,
    "start_time": "2022-12-13T16:51:30.634Z"
   },
   {
    "duration": 27,
    "start_time": "2022-12-13T16:51:30.637Z"
   },
   {
    "duration": 206,
    "start_time": "2022-12-13T16:51:30.666Z"
   },
   {
    "duration": 1631,
    "start_time": "2022-12-13T16:52:15.615Z"
   },
   {
    "duration": 1009,
    "start_time": "2022-12-13T16:52:17.248Z"
   },
   {
    "duration": 11,
    "start_time": "2022-12-13T16:52:18.259Z"
   },
   {
    "duration": 6,
    "start_time": "2022-12-13T16:52:18.273Z"
   },
   {
    "duration": 5,
    "start_time": "2022-12-13T16:52:18.281Z"
   },
   {
    "duration": 22,
    "start_time": "2022-12-13T16:52:18.288Z"
   },
   {
    "duration": 126,
    "start_time": "2022-12-13T16:52:18.312Z"
   },
   {
    "duration": 110,
    "start_time": "2022-12-13T16:52:18.440Z"
   },
   {
    "duration": 24,
    "start_time": "2022-12-13T16:52:18.552Z"
   },
   {
    "duration": 398,
    "start_time": "2022-12-13T16:52:18.579Z"
   },
   {
    "duration": 192,
    "start_time": "2022-12-13T16:52:18.978Z"
   },
   {
    "duration": 93,
    "start_time": "2022-12-13T16:52:19.172Z"
   },
   {
    "duration": 158,
    "start_time": "2022-12-13T16:52:19.267Z"
   },
   {
    "duration": 437,
    "start_time": "2022-12-13T16:52:19.427Z"
   },
   {
    "duration": 775,
    "start_time": "2022-12-13T16:52:19.866Z"
   },
   {
    "duration": 39,
    "start_time": "2022-12-13T16:52:20.643Z"
   },
   {
    "duration": 3,
    "start_time": "2022-12-13T16:52:20.696Z"
   },
   {
    "duration": 35,
    "start_time": "2022-12-13T16:52:20.701Z"
   },
   {
    "duration": 85,
    "start_time": "2022-12-13T16:52:20.737Z"
   },
   {
    "duration": 100,
    "start_time": "2022-12-13T16:52:20.824Z"
   },
   {
    "duration": 24,
    "start_time": "2022-12-13T16:52:20.926Z"
   },
   {
    "duration": 187,
    "start_time": "2022-12-13T16:52:20.952Z"
   },
   {
    "duration": 6,
    "start_time": "2022-12-13T16:52:21.141Z"
   },
   {
    "duration": 174,
    "start_time": "2022-12-13T16:52:21.149Z"
   },
   {
    "duration": 32,
    "start_time": "2022-12-13T16:52:21.324Z"
   },
   {
    "duration": 5,
    "start_time": "2022-12-13T16:52:21.357Z"
   },
   {
    "duration": 8,
    "start_time": "2022-12-13T16:52:21.364Z"
   },
   {
    "duration": 7,
    "start_time": "2022-12-13T16:52:21.399Z"
   },
   {
    "duration": 26,
    "start_time": "2022-12-13T16:52:21.474Z"
   },
   {
    "duration": 15,
    "start_time": "2022-12-13T16:52:21.502Z"
   },
   {
    "duration": 406,
    "start_time": "2022-12-13T16:52:21.518Z"
   },
   {
    "duration": 72,
    "start_time": "2022-12-13T16:52:21.925Z"
   },
   {
    "duration": 2,
    "start_time": "2022-12-13T16:52:21.999Z"
   },
   {
    "duration": 7,
    "start_time": "2022-12-13T16:52:22.003Z"
   },
   {
    "duration": 31,
    "start_time": "2022-12-13T16:52:22.012Z"
   },
   {
    "duration": 13,
    "start_time": "2022-12-13T16:52:22.045Z"
   },
   {
    "duration": 79,
    "start_time": "2022-12-13T16:52:22.060Z"
   },
   {
    "duration": 58,
    "start_time": "2022-12-13T16:52:22.141Z"
   },
   {
    "duration": 3,
    "start_time": "2022-12-13T16:52:22.200Z"
   },
   {
    "duration": 184,
    "start_time": "2022-12-13T16:52:22.204Z"
   },
   {
    "duration": 24,
    "start_time": "2022-12-13T16:52:22.390Z"
   },
   {
    "duration": 1415,
    "start_time": "2022-12-13T16:52:22.416Z"
   },
   {
    "duration": 952,
    "start_time": "2022-12-13T16:52:23.832Z"
   },
   {
    "duration": 4,
    "start_time": "2022-12-13T16:52:24.786Z"
   },
   {
    "duration": 3,
    "start_time": "2022-12-13T16:52:24.796Z"
   },
   {
    "duration": 8,
    "start_time": "2022-12-13T16:52:24.801Z"
   },
   {
    "duration": 4,
    "start_time": "2022-12-13T16:52:24.811Z"
   },
   {
    "duration": 614,
    "start_time": "2022-12-13T16:52:24.817Z"
   },
   {
    "duration": 349,
    "start_time": "2022-12-13T16:52:25.433Z"
   },
   {
    "duration": 3,
    "start_time": "2022-12-13T16:52:25.783Z"
   },
   {
    "duration": 11,
    "start_time": "2022-12-13T16:52:25.788Z"
   },
   {
    "duration": 191,
    "start_time": "2022-12-13T16:52:25.801Z"
   },
   {
    "duration": 1574,
    "start_time": "2022-12-13T16:53:05.966Z"
   },
   {
    "duration": 1096,
    "start_time": "2022-12-13T16:53:07.542Z"
   },
   {
    "duration": 11,
    "start_time": "2022-12-13T16:53:08.640Z"
   },
   {
    "duration": 9,
    "start_time": "2022-12-13T16:53:08.653Z"
   },
   {
    "duration": 7,
    "start_time": "2022-12-13T16:53:08.664Z"
   },
   {
    "duration": 21,
    "start_time": "2022-12-13T16:53:08.673Z"
   },
   {
    "duration": 116,
    "start_time": "2022-12-13T16:53:08.696Z"
   },
   {
    "duration": 153,
    "start_time": "2022-12-13T16:53:08.814Z"
   },
   {
    "duration": 28,
    "start_time": "2022-12-13T16:53:08.969Z"
   },
   {
    "duration": 402,
    "start_time": "2022-12-13T16:53:09.000Z"
   },
   {
    "duration": 186,
    "start_time": "2022-12-13T16:53:09.404Z"
   },
   {
    "duration": 89,
    "start_time": "2022-12-13T16:53:09.591Z"
   },
   {
    "duration": 154,
    "start_time": "2022-12-13T16:53:09.682Z"
   },
   {
    "duration": 425,
    "start_time": "2022-12-13T16:53:09.838Z"
   },
   {
    "duration": 756,
    "start_time": "2022-12-13T16:53:10.265Z"
   },
   {
    "duration": 40,
    "start_time": "2022-12-13T16:53:11.023Z"
   },
   {
    "duration": 3,
    "start_time": "2022-12-13T16:53:11.064Z"
   },
   {
    "duration": 46,
    "start_time": "2022-12-13T16:53:11.069Z"
   },
   {
    "duration": 79,
    "start_time": "2022-12-13T16:53:11.117Z"
   },
   {
    "duration": 84,
    "start_time": "2022-12-13T16:53:11.198Z"
   },
   {
    "duration": 26,
    "start_time": "2022-12-13T16:53:11.297Z"
   },
   {
    "duration": 197,
    "start_time": "2022-12-13T16:53:11.325Z"
   },
   {
    "duration": 7,
    "start_time": "2022-12-13T16:53:11.524Z"
   },
   {
    "duration": 179,
    "start_time": "2022-12-13T16:53:11.532Z"
   },
   {
    "duration": 29,
    "start_time": "2022-12-13T16:53:11.713Z"
   },
   {
    "duration": 5,
    "start_time": "2022-12-13T16:53:11.744Z"
   },
   {
    "duration": 6,
    "start_time": "2022-12-13T16:53:11.751Z"
   },
   {
    "duration": 7,
    "start_time": "2022-12-13T16:53:11.760Z"
   },
   {
    "duration": 16,
    "start_time": "2022-12-13T16:53:11.863Z"
   },
   {
    "duration": 23,
    "start_time": "2022-12-13T16:53:11.881Z"
   },
   {
    "duration": 393,
    "start_time": "2022-12-13T16:53:11.906Z"
   },
   {
    "duration": 58,
    "start_time": "2022-12-13T16:53:12.301Z"
   },
   {
    "duration": 3,
    "start_time": "2022-12-13T16:53:12.361Z"
   },
   {
    "duration": 8,
    "start_time": "2022-12-13T16:53:12.365Z"
   },
   {
    "duration": 30,
    "start_time": "2022-12-13T16:53:12.374Z"
   },
   {
    "duration": 12,
    "start_time": "2022-12-13T16:53:12.405Z"
   },
   {
    "duration": 59,
    "start_time": "2022-12-13T16:53:12.419Z"
   },
   {
    "duration": 66,
    "start_time": "2022-12-13T16:53:12.480Z"
   },
   {
    "duration": 3,
    "start_time": "2022-12-13T16:53:12.548Z"
   },
   {
    "duration": 193,
    "start_time": "2022-12-13T16:53:12.552Z"
   },
   {
    "duration": 19,
    "start_time": "2022-12-13T16:53:12.747Z"
   },
   {
    "duration": 1449,
    "start_time": "2022-12-13T16:53:12.768Z"
   },
   {
    "duration": 992,
    "start_time": "2022-12-13T16:53:14.219Z"
   },
   {
    "duration": 4,
    "start_time": "2022-12-13T16:53:15.214Z"
   },
   {
    "duration": 6,
    "start_time": "2022-12-13T16:53:15.220Z"
   },
   {
    "duration": 18,
    "start_time": "2022-12-13T16:53:15.227Z"
   },
   {
    "duration": 5,
    "start_time": "2022-12-13T16:53:15.247Z"
   },
   {
    "duration": 615,
    "start_time": "2022-12-13T16:53:15.254Z"
   },
   {
    "duration": 400,
    "start_time": "2022-12-13T16:53:15.871Z"
   },
   {
    "duration": 3,
    "start_time": "2022-12-13T16:53:16.272Z"
   },
   {
    "duration": 6,
    "start_time": "2022-12-13T16:53:16.277Z"
   },
   {
    "duration": 173,
    "start_time": "2022-12-13T16:53:16.284Z"
   },
   {
    "duration": 1680,
    "start_time": "2022-12-13T16:53:33.489Z"
   },
   {
    "duration": 1070,
    "start_time": "2022-12-13T16:53:35.171Z"
   },
   {
    "duration": 10,
    "start_time": "2022-12-13T16:53:36.243Z"
   },
   {
    "duration": 6,
    "start_time": "2022-12-13T16:53:36.256Z"
   },
   {
    "duration": 15,
    "start_time": "2022-12-13T16:53:36.264Z"
   },
   {
    "duration": 22,
    "start_time": "2022-12-13T16:53:36.281Z"
   },
   {
    "duration": 126,
    "start_time": "2022-12-13T16:53:36.304Z"
   },
   {
    "duration": 106,
    "start_time": "2022-12-13T16:53:36.433Z"
   },
   {
    "duration": 23,
    "start_time": "2022-12-13T16:53:36.540Z"
   },
   {
    "duration": 434,
    "start_time": "2022-12-13T16:53:36.566Z"
   },
   {
    "duration": 193,
    "start_time": "2022-12-13T16:53:37.002Z"
   },
   {
    "duration": 101,
    "start_time": "2022-12-13T16:53:37.197Z"
   },
   {
    "duration": 152,
    "start_time": "2022-12-13T16:53:37.300Z"
   },
   {
    "duration": 435,
    "start_time": "2022-12-13T16:53:37.454Z"
   },
   {
    "duration": 786,
    "start_time": "2022-12-13T16:53:37.896Z"
   },
   {
    "duration": 47,
    "start_time": "2022-12-13T16:53:38.684Z"
   },
   {
    "duration": 3,
    "start_time": "2022-12-13T16:53:38.732Z"
   },
   {
    "duration": 43,
    "start_time": "2022-12-13T16:53:38.737Z"
   },
   {
    "duration": 81,
    "start_time": "2022-12-13T16:53:38.782Z"
   },
   {
    "duration": 103,
    "start_time": "2022-12-13T16:53:38.865Z"
   },
   {
    "duration": 42,
    "start_time": "2022-12-13T16:53:38.969Z"
   },
   {
    "duration": 186,
    "start_time": "2022-12-13T16:53:39.013Z"
   },
   {
    "duration": 7,
    "start_time": "2022-12-13T16:53:39.200Z"
   },
   {
    "duration": 188,
    "start_time": "2022-12-13T16:53:39.209Z"
   },
   {
    "duration": 30,
    "start_time": "2022-12-13T16:53:39.399Z"
   },
   {
    "duration": 5,
    "start_time": "2022-12-13T16:53:39.431Z"
   },
   {
    "duration": 13,
    "start_time": "2022-12-13T16:53:39.438Z"
   },
   {
    "duration": 9,
    "start_time": "2022-12-13T16:53:39.455Z"
   },
   {
    "duration": 15,
    "start_time": "2022-12-13T16:53:39.560Z"
   },
   {
    "duration": 20,
    "start_time": "2022-12-13T16:53:39.577Z"
   },
   {
    "duration": 371,
    "start_time": "2022-12-13T16:53:39.599Z"
   },
   {
    "duration": 59,
    "start_time": "2022-12-13T16:53:39.981Z"
   },
   {
    "duration": 3,
    "start_time": "2022-12-13T16:53:40.042Z"
   },
   {
    "duration": 9,
    "start_time": "2022-12-13T16:53:40.047Z"
   },
   {
    "duration": 30,
    "start_time": "2022-12-13T16:53:40.057Z"
   },
   {
    "duration": 11,
    "start_time": "2022-12-13T16:53:40.089Z"
   },
   {
    "duration": 65,
    "start_time": "2022-12-13T16:53:40.101Z"
   },
   {
    "duration": 62,
    "start_time": "2022-12-13T16:53:40.168Z"
   },
   {
    "duration": 2,
    "start_time": "2022-12-13T16:53:40.232Z"
   },
   {
    "duration": 181,
    "start_time": "2022-12-13T16:53:40.236Z"
   },
   {
    "duration": 19,
    "start_time": "2022-12-13T16:53:40.419Z"
   },
   {
    "duration": 1409,
    "start_time": "2022-12-13T16:53:40.440Z"
   },
   {
    "duration": 946,
    "start_time": "2022-12-13T16:53:41.851Z"
   },
   {
    "duration": 4,
    "start_time": "2022-12-13T16:53:42.799Z"
   },
   {
    "duration": 4,
    "start_time": "2022-12-13T16:53:42.804Z"
   },
   {
    "duration": 8,
    "start_time": "2022-12-13T16:53:42.810Z"
   },
   {
    "duration": 3,
    "start_time": "2022-12-13T16:53:42.819Z"
   },
   {
    "duration": 585,
    "start_time": "2022-12-13T16:53:42.824Z"
   },
   {
    "duration": 347,
    "start_time": "2022-12-13T16:53:43.410Z"
   },
   {
    "duration": 2,
    "start_time": "2022-12-13T16:53:43.759Z"
   },
   {
    "duration": 6,
    "start_time": "2022-12-13T16:53:43.762Z"
   },
   {
    "duration": 165,
    "start_time": "2022-12-13T16:53:43.769Z"
   },
   {
    "duration": 1554,
    "start_time": "2022-12-13T17:01:17.365Z"
   },
   {
    "duration": 1026,
    "start_time": "2022-12-13T17:01:18.920Z"
   },
   {
    "duration": 11,
    "start_time": "2022-12-13T17:01:19.948Z"
   },
   {
    "duration": 13,
    "start_time": "2022-12-13T17:01:19.961Z"
   },
   {
    "duration": 21,
    "start_time": "2022-12-13T17:01:19.975Z"
   },
   {
    "duration": 29,
    "start_time": "2022-12-13T17:01:19.998Z"
   },
   {
    "duration": 118,
    "start_time": "2022-12-13T17:01:20.029Z"
   },
   {
    "duration": 100,
    "start_time": "2022-12-13T17:01:20.150Z"
   },
   {
    "duration": 27,
    "start_time": "2022-12-13T17:01:20.252Z"
   },
   {
    "duration": 411,
    "start_time": "2022-12-13T17:01:20.295Z"
   },
   {
    "duration": 186,
    "start_time": "2022-12-13T17:01:20.708Z"
   },
   {
    "duration": 86,
    "start_time": "2022-12-13T17:01:20.895Z"
   },
   {
    "duration": 153,
    "start_time": "2022-12-13T17:01:20.982Z"
   },
   {
    "duration": 428,
    "start_time": "2022-12-13T17:01:21.137Z"
   },
   {
    "duration": 759,
    "start_time": "2022-12-13T17:01:21.566Z"
   },
   {
    "duration": 41,
    "start_time": "2022-12-13T17:01:22.327Z"
   },
   {
    "duration": 2,
    "start_time": "2022-12-13T17:01:22.370Z"
   },
   {
    "duration": 48,
    "start_time": "2022-12-13T17:01:22.374Z"
   },
   {
    "duration": 90,
    "start_time": "2022-12-13T17:01:22.424Z"
   },
   {
    "duration": 98,
    "start_time": "2022-12-13T17:01:22.516Z"
   },
   {
    "duration": 24,
    "start_time": "2022-12-13T17:01:22.615Z"
   },
   {
    "duration": 194,
    "start_time": "2022-12-13T17:01:22.641Z"
   },
   {
    "duration": 6,
    "start_time": "2022-12-13T17:01:22.836Z"
   },
   {
    "duration": 176,
    "start_time": "2022-12-13T17:01:22.844Z"
   },
   {
    "duration": 29,
    "start_time": "2022-12-13T17:01:23.022Z"
   },
   {
    "duration": 5,
    "start_time": "2022-12-13T17:01:23.053Z"
   },
   {
    "duration": 8,
    "start_time": "2022-12-13T17:01:23.059Z"
   },
   {
    "duration": 7,
    "start_time": "2022-12-13T17:01:23.096Z"
   },
   {
    "duration": 28,
    "start_time": "2022-12-13T17:01:23.175Z"
   },
   {
    "duration": 12,
    "start_time": "2022-12-13T17:01:23.205Z"
   },
   {
    "duration": 397,
    "start_time": "2022-12-13T17:01:23.219Z"
   },
   {
    "duration": 57,
    "start_time": "2022-12-13T17:01:23.619Z"
   },
   {
    "duration": 3,
    "start_time": "2022-12-13T17:01:23.678Z"
   },
   {
    "duration": 3,
    "start_time": "2022-12-13T17:01:23.696Z"
   },
   {
    "duration": 16,
    "start_time": "2022-12-13T17:01:23.701Z"
   },
   {
    "duration": 10,
    "start_time": "2022-12-13T17:01:23.719Z"
   },
   {
    "duration": 84,
    "start_time": "2022-12-13T17:01:23.731Z"
   },
   {
    "duration": 51,
    "start_time": "2022-12-13T17:01:23.817Z"
   },
   {
    "duration": 3,
    "start_time": "2022-12-13T17:01:23.870Z"
   },
   {
    "duration": 199,
    "start_time": "2022-12-13T17:01:23.875Z"
   },
   {
    "duration": 29,
    "start_time": "2022-12-13T17:01:24.076Z"
   },
   {
    "duration": 1427,
    "start_time": "2022-12-13T17:01:24.107Z"
   },
   {
    "duration": 1022,
    "start_time": "2022-12-13T17:01:25.536Z"
   },
   {
    "duration": 5,
    "start_time": "2022-12-13T17:01:26.559Z"
   },
   {
    "duration": 4,
    "start_time": "2022-12-13T17:01:26.566Z"
   },
   {
    "duration": 7,
    "start_time": "2022-12-13T17:01:26.572Z"
   },
   {
    "duration": 3,
    "start_time": "2022-12-13T17:01:26.597Z"
   },
   {
    "duration": 595,
    "start_time": "2022-12-13T17:01:26.601Z"
   },
   {
    "duration": 348,
    "start_time": "2022-12-13T17:01:27.198Z"
   },
   {
    "duration": 2,
    "start_time": "2022-12-13T17:01:27.548Z"
   },
   {
    "duration": 5,
    "start_time": "2022-12-13T17:01:27.552Z"
   },
   {
    "duration": 169,
    "start_time": "2022-12-13T17:01:27.558Z"
   },
   {
    "duration": 3,
    "start_time": "2022-12-13T17:01:27.729Z"
   },
   {
    "duration": 234,
    "start_time": "2022-12-13T17:01:27.733Z"
   },
   {
    "duration": 3,
    "start_time": "2022-12-13T17:01:27.969Z"
   },
   {
    "duration": 6,
    "start_time": "2022-12-13T17:01:27.974Z"
   },
   {
    "duration": 21,
    "start_time": "2022-12-13T17:01:27.981Z"
   },
   {
    "duration": 19738,
    "start_time": "2022-12-13T17:01:28.004Z"
   },
   {
    "duration": 3,
    "start_time": "2022-12-13T17:01:47.744Z"
   },
   {
    "duration": 9,
    "start_time": "2022-12-13T17:01:47.748Z"
   },
   {
    "duration": 5,
    "start_time": "2022-12-13T17:01:47.758Z"
   },
   {
    "duration": 5,
    "start_time": "2022-12-13T17:01:47.765Z"
   },
   {
    "duration": 195664,
    "start_time": "2022-12-13T17:01:47.772Z"
   },
   {
    "duration": 2222,
    "start_time": "2022-12-13T17:05:03.438Z"
   },
   {
    "duration": 648,
    "start_time": "2022-12-13T17:05:05.662Z"
   },
   {
    "duration": 5,
    "start_time": "2022-12-13T17:05:06.313Z"
   },
   {
    "duration": 16,
    "start_time": "2022-12-13T17:05:06.320Z"
   },
   {
    "duration": 4759,
    "start_time": "2022-12-13T17:05:06.338Z"
   },
   {
    "duration": 51319,
    "start_time": "2022-12-13T17:05:11.099Z"
   },
   {
    "duration": 213,
    "start_time": "2022-12-13T17:06:02.497Z"
   },
   {
    "duration": 102,
    "start_time": "2022-12-13T17:06:02.712Z"
   },
   {
    "duration": 109001,
    "start_time": "2022-12-13T17:06:02.816Z"
   },
   {
    "duration": 391,
    "start_time": "2022-12-13T17:07:51.819Z"
   },
   {
    "duration": 191,
    "start_time": "2022-12-13T17:07:52.212Z"
   },
   {
    "duration": 9,
    "start_time": "2022-12-13T17:07:52.404Z"
   },
   {
    "duration": 18,
    "start_time": "2022-12-13T17:07:52.415Z"
   },
   {
    "duration": 4,
    "start_time": "2022-12-13T17:07:52.434Z"
   },
   {
    "duration": 6,
    "start_time": "2022-12-13T17:07:52.440Z"
   },
   {
    "duration": 5,
    "start_time": "2022-12-13T17:07:52.448Z"
   },
   {
    "duration": 771,
    "start_time": "2022-12-13T17:07:52.454Z"
   },
   {
    "duration": 8,
    "start_time": "2022-12-13T17:07:53.227Z"
   },
   {
    "duration": 116,
    "start_time": "2022-12-13T17:07:53.240Z"
   },
   {
    "duration": 2,
    "start_time": "2022-12-13T17:07:53.358Z"
   },
   {
    "duration": 9,
    "start_time": "2022-12-13T17:07:53.362Z"
   },
   {
    "duration": 5,
    "start_time": "2022-12-13T17:07:53.373Z"
   },
   {
    "duration": 3224,
    "start_time": "2022-12-13T17:07:53.379Z"
   },
   {
    "duration": 815,
    "start_time": "2022-12-13T17:07:56.605Z"
   },
   {
    "duration": 375,
    "start_time": "2022-12-13T17:07:57.422Z"
   },
   {
    "duration": 6,
    "start_time": "2022-12-13T17:07:57.799Z"
   },
   {
    "duration": 11,
    "start_time": "2022-12-13T17:07:57.807Z"
   },
   {
    "duration": 126,
    "start_time": "2022-12-13T17:07:57.820Z"
   },
   {
    "duration": 4,
    "start_time": "2022-12-13T17:07:57.948Z"
   },
   {
    "duration": 323,
    "start_time": "2022-12-13T17:07:57.954Z"
   },
   {
    "duration": 3,
    "start_time": "2022-12-13T17:07:58.279Z"
   },
   {
    "duration": 67086,
    "start_time": "2022-12-13T17:07:58.284Z"
   },
   {
    "duration": 1226,
    "start_time": "2022-12-13T17:09:05.371Z"
   },
   {
    "duration": 398,
    "start_time": "2022-12-13T17:09:06.599Z"
   },
   {
    "duration": 4,
    "start_time": "2022-12-13T17:09:06.999Z"
   },
   {
    "duration": 61014,
    "start_time": "2022-12-13T17:09:07.005Z"
   },
   {
    "duration": 743,
    "start_time": "2022-12-13T17:10:08.021Z"
   },
   {
    "duration": 248,
    "start_time": "2022-12-13T17:10:08.766Z"
   },
   {
    "duration": 4,
    "start_time": "2022-12-13T17:10:09.016Z"
   },
   {
    "duration": 11,
    "start_time": "2022-12-13T17:10:09.022Z"
   },
   {
    "duration": 4,
    "start_time": "2022-12-13T17:10:09.035Z"
   },
   {
    "duration": 9,
    "start_time": "2022-12-13T17:10:09.041Z"
   },
   {
    "duration": 4,
    "start_time": "2022-12-13T17:10:09.052Z"
   },
   {
    "duration": 261,
    "start_time": "2022-12-13T17:10:09.058Z"
   },
   {
    "duration": 8,
    "start_time": "2022-12-13T17:10:09.321Z"
   },
   {
    "duration": 12,
    "start_time": "2022-12-13T17:10:09.331Z"
   },
   {
    "duration": 4,
    "start_time": "2022-12-13T17:10:09.344Z"
   },
   {
    "duration": 1716,
    "start_time": "2022-12-13T17:14:28.133Z"
   },
   {
    "duration": 954,
    "start_time": "2022-12-13T17:14:29.851Z"
   },
   {
    "duration": 12,
    "start_time": "2022-12-13T17:14:30.807Z"
   },
   {
    "duration": 93,
    "start_time": "2022-12-13T17:14:30.821Z"
   },
   {
    "duration": 45,
    "start_time": "2022-12-13T17:14:30.916Z"
   },
   {
    "duration": 43,
    "start_time": "2022-12-13T17:14:30.963Z"
   },
   {
    "duration": 150,
    "start_time": "2022-12-13T17:14:31.008Z"
   },
   {
    "duration": 107,
    "start_time": "2022-12-13T17:14:31.159Z"
   },
   {
    "duration": 32,
    "start_time": "2022-12-13T17:14:31.268Z"
   },
   {
    "duration": 413,
    "start_time": "2022-12-13T17:14:31.303Z"
   },
   {
    "duration": 204,
    "start_time": "2022-12-13T17:14:31.718Z"
   },
   {
    "duration": 92,
    "start_time": "2022-12-13T17:14:31.924Z"
   },
   {
    "duration": 172,
    "start_time": "2022-12-13T17:14:32.018Z"
   },
   {
    "duration": 501,
    "start_time": "2022-12-13T17:14:32.191Z"
   },
   {
    "duration": 841,
    "start_time": "2022-12-13T17:14:32.696Z"
   },
   {
    "duration": 58,
    "start_time": "2022-12-13T17:14:33.540Z"
   },
   {
    "duration": 3,
    "start_time": "2022-12-13T17:14:33.600Z"
   },
   {
    "duration": 36,
    "start_time": "2022-12-13T17:14:33.604Z"
   },
   {
    "duration": 85,
    "start_time": "2022-12-13T17:14:33.642Z"
   },
   {
    "duration": 104,
    "start_time": "2022-12-13T17:14:33.730Z"
   },
   {
    "duration": 27,
    "start_time": "2022-12-13T17:14:33.835Z"
   },
   {
    "duration": 216,
    "start_time": "2022-12-13T17:14:33.864Z"
   },
   {
    "duration": 17,
    "start_time": "2022-12-13T17:14:34.083Z"
   },
   {
    "duration": 178,
    "start_time": "2022-12-13T17:14:34.101Z"
   },
   {
    "duration": 40,
    "start_time": "2022-12-13T17:14:34.281Z"
   },
   {
    "duration": 6,
    "start_time": "2022-12-13T17:14:34.323Z"
   },
   {
    "duration": 8,
    "start_time": "2022-12-13T17:14:34.331Z"
   },
   {
    "duration": 8,
    "start_time": "2022-12-13T17:14:34.343Z"
   },
   {
    "duration": 126,
    "start_time": "2022-12-13T17:14:34.352Z"
   },
   {
    "duration": 22,
    "start_time": "2022-12-13T17:14:34.480Z"
   },
   {
    "duration": 375,
    "start_time": "2022-12-13T17:14:34.505Z"
   },
   {
    "duration": 59,
    "start_time": "2022-12-13T17:14:34.883Z"
   },
   {
    "duration": 2,
    "start_time": "2022-12-13T17:14:34.944Z"
   },
   {
    "duration": 22,
    "start_time": "2022-12-13T17:14:34.948Z"
   },
   {
    "duration": 24,
    "start_time": "2022-12-13T17:14:34.972Z"
   },
   {
    "duration": 11,
    "start_time": "2022-12-13T17:14:34.998Z"
   },
   {
    "duration": 73,
    "start_time": "2022-12-13T17:14:35.011Z"
   },
   {
    "duration": 63,
    "start_time": "2022-12-13T17:14:35.086Z"
   },
   {
    "duration": 3,
    "start_time": "2022-12-13T17:14:35.151Z"
   },
   {
    "duration": 213,
    "start_time": "2022-12-13T17:14:35.156Z"
   },
   {
    "duration": 31,
    "start_time": "2022-12-13T17:14:35.371Z"
   },
   {
    "duration": 1498,
    "start_time": "2022-12-13T17:14:35.403Z"
   },
   {
    "duration": 1009,
    "start_time": "2022-12-13T17:14:36.903Z"
   },
   {
    "duration": 4,
    "start_time": "2022-12-13T17:14:37.914Z"
   },
   {
    "duration": 7,
    "start_time": "2022-12-13T17:14:37.920Z"
   },
   {
    "duration": 19,
    "start_time": "2022-12-13T17:14:37.928Z"
   },
   {
    "duration": 4,
    "start_time": "2022-12-13T17:14:37.949Z"
   },
   {
    "duration": 603,
    "start_time": "2022-12-13T17:14:37.955Z"
   },
   {
    "duration": 361,
    "start_time": "2022-12-13T17:14:38.560Z"
   },
   {
    "duration": 3,
    "start_time": "2022-12-13T17:14:38.923Z"
   },
   {
    "duration": 6,
    "start_time": "2022-12-13T17:14:38.927Z"
   },
   {
    "duration": 177,
    "start_time": "2022-12-13T17:14:38.935Z"
   },
   {
    "duration": 2,
    "start_time": "2022-12-13T17:14:39.113Z"
   },
   {
    "duration": 236,
    "start_time": "2022-12-13T17:14:39.117Z"
   },
   {
    "duration": 5,
    "start_time": "2022-12-13T17:14:39.356Z"
   },
   {
    "duration": 17,
    "start_time": "2022-12-13T17:14:39.363Z"
   },
   {
    "duration": 12,
    "start_time": "2022-12-13T17:14:39.382Z"
   },
   {
    "duration": 19888,
    "start_time": "2022-12-13T17:14:39.396Z"
   },
   {
    "duration": 4,
    "start_time": "2022-12-13T17:14:59.285Z"
   },
   {
    "duration": 2,
    "start_time": "2022-12-13T17:14:59.297Z"
   },
   {
    "duration": 8,
    "start_time": "2022-12-13T17:14:59.301Z"
   },
   {
    "duration": 9,
    "start_time": "2022-12-13T17:14:59.310Z"
   },
   {
    "duration": 195646,
    "start_time": "2022-12-13T17:14:59.320Z"
   },
   {
    "duration": 2219,
    "start_time": "2022-12-13T17:18:14.971Z"
   },
   {
    "duration": 597,
    "start_time": "2022-12-13T17:18:17.196Z"
   },
   {
    "duration": 4,
    "start_time": "2022-12-13T17:18:17.796Z"
   },
   {
    "duration": 21,
    "start_time": "2022-12-13T17:18:17.802Z"
   },
   {
    "duration": 4879,
    "start_time": "2022-12-13T17:18:17.825Z"
   },
   {
    "duration": 61309,
    "start_time": "2022-12-13T17:18:22.706Z"
   },
   {
    "duration": 299,
    "start_time": "2022-12-13T17:19:24.017Z"
   },
   {
    "duration": 182,
    "start_time": "2022-12-13T17:19:24.318Z"
   },
   {
    "duration": 142502,
    "start_time": "2022-12-13T17:19:24.501Z"
   },
   {
    "duration": 396,
    "start_time": "2022-12-13T17:21:47.005Z"
   },
   {
    "duration": 202,
    "start_time": "2022-12-13T17:21:47.403Z"
   },
   {
    "duration": 10,
    "start_time": "2022-12-13T17:21:47.607Z"
   },
   {
    "duration": 22,
    "start_time": "2022-12-13T17:21:47.618Z"
   },
   {
    "duration": 5,
    "start_time": "2022-12-13T17:21:47.641Z"
   },
   {
    "duration": 54,
    "start_time": "2022-12-13T17:21:47.648Z"
   },
   {
    "duration": 5,
    "start_time": "2022-12-13T17:21:47.704Z"
   },
   {
    "duration": 727,
    "start_time": "2022-12-13T17:21:47.711Z"
   },
   {
    "duration": 8,
    "start_time": "2022-12-13T17:21:48.440Z"
   },
   {
    "duration": 94,
    "start_time": "2022-12-13T17:21:48.453Z"
   },
   {
    "duration": 2,
    "start_time": "2022-12-13T17:21:48.549Z"
   },
   {
    "duration": 9,
    "start_time": "2022-12-13T17:21:48.552Z"
   },
   {
    "duration": 6,
    "start_time": "2022-12-13T17:21:48.563Z"
   },
   {
    "duration": 110131,
    "start_time": "2022-12-13T17:21:48.570Z"
   },
   {
    "duration": 810,
    "start_time": "2022-12-13T17:23:38.703Z"
   },
   {
    "duration": 385,
    "start_time": "2022-12-13T17:23:39.515Z"
   },
   {
    "duration": 7,
    "start_time": "2022-12-13T17:23:39.902Z"
   },
   {
    "duration": 17,
    "start_time": "2022-12-13T17:23:39.910Z"
   },
   {
    "duration": 131,
    "start_time": "2022-12-13T17:23:39.929Z"
   },
   {
    "duration": 4,
    "start_time": "2022-12-13T17:23:40.062Z"
   },
   {
    "duration": 329,
    "start_time": "2022-12-13T17:23:40.067Z"
   },
   {
    "duration": 3,
    "start_time": "2022-12-13T17:23:40.398Z"
   },
   {
    "duration": 67274,
    "start_time": "2022-12-13T17:23:40.402Z"
   },
   {
    "duration": 1183,
    "start_time": "2022-12-13T17:24:47.677Z"
   },
   {
    "duration": 427,
    "start_time": "2022-12-13T17:24:48.862Z"
   },
   {
    "duration": 3,
    "start_time": "2022-12-13T17:24:49.296Z"
   },
   {
    "duration": 61647,
    "start_time": "2022-12-13T17:24:49.301Z"
   },
   {
    "duration": 754,
    "start_time": "2022-12-13T17:25:50.950Z"
   },
   {
    "duration": 279,
    "start_time": "2022-12-13T17:25:51.706Z"
   },
   {
    "duration": 9,
    "start_time": "2022-12-13T17:25:51.987Z"
   },
   {
    "duration": 14,
    "start_time": "2022-12-13T17:25:51.998Z"
   },
   {
    "duration": 7,
    "start_time": "2022-12-13T17:25:52.013Z"
   },
   {
    "duration": 7,
    "start_time": "2022-12-13T17:25:52.022Z"
   },
   {
    "duration": 16,
    "start_time": "2022-12-13T17:25:52.032Z"
   },
   {
    "duration": 254,
    "start_time": "2022-12-13T17:25:52.050Z"
   },
   {
    "duration": 9,
    "start_time": "2022-12-13T17:25:52.306Z"
   },
   {
    "duration": 16,
    "start_time": "2022-12-13T17:25:52.316Z"
   },
   {
    "duration": 5,
    "start_time": "2022-12-13T17:25:52.334Z"
   },
   {
    "duration": 143,
    "start_time": "2022-12-13T17:25:52.341Z"
   },
   {
    "duration": 13,
    "start_time": "2022-12-13T17:26:29.202Z"
   },
   {
    "duration": 13,
    "start_time": "2022-12-13T17:26:39.777Z"
   },
   {
    "duration": 15,
    "start_time": "2022-12-13T17:26:45.986Z"
   },
   {
    "duration": 2,
    "start_time": "2022-12-13T17:27:21.795Z"
   },
   {
    "duration": 15,
    "start_time": "2022-12-13T17:27:38.610Z"
   },
   {
    "duration": 1654,
    "start_time": "2022-12-13T17:28:14.090Z"
   },
   {
    "duration": 919,
    "start_time": "2022-12-13T17:28:15.746Z"
   },
   {
    "duration": 12,
    "start_time": "2022-12-13T17:28:16.668Z"
   },
   {
    "duration": 14,
    "start_time": "2022-12-13T17:28:16.683Z"
   },
   {
    "duration": 7,
    "start_time": "2022-12-13T17:28:16.699Z"
   },
   {
    "duration": 21,
    "start_time": "2022-12-13T17:28:16.708Z"
   },
   {
    "duration": 120,
    "start_time": "2022-12-13T17:28:16.730Z"
   },
   {
    "duration": 115,
    "start_time": "2022-12-13T17:28:16.852Z"
   },
   {
    "duration": 37,
    "start_time": "2022-12-13T17:28:16.969Z"
   },
   {
    "duration": 419,
    "start_time": "2022-12-13T17:28:17.011Z"
   },
   {
    "duration": 187,
    "start_time": "2022-12-13T17:28:17.432Z"
   },
   {
    "duration": 94,
    "start_time": "2022-12-13T17:28:17.621Z"
   },
   {
    "duration": 170,
    "start_time": "2022-12-13T17:28:17.717Z"
   },
   {
    "duration": 450,
    "start_time": "2022-12-13T17:28:17.889Z"
   },
   {
    "duration": 817,
    "start_time": "2022-12-13T17:28:18.340Z"
   },
   {
    "duration": 74,
    "start_time": "2022-12-13T17:28:19.159Z"
   },
   {
    "duration": 4,
    "start_time": "2022-12-13T17:28:19.236Z"
   },
   {
    "duration": 44,
    "start_time": "2022-12-13T17:28:19.243Z"
   },
   {
    "duration": 79,
    "start_time": "2022-12-13T17:28:19.297Z"
   },
   {
    "duration": 105,
    "start_time": "2022-12-13T17:28:19.378Z"
   },
   {
    "duration": 33,
    "start_time": "2022-12-13T17:28:19.496Z"
   },
   {
    "duration": 219,
    "start_time": "2022-12-13T17:28:19.530Z"
   },
   {
    "duration": 7,
    "start_time": "2022-12-13T17:28:19.750Z"
   },
   {
    "duration": 178,
    "start_time": "2022-12-13T17:28:19.760Z"
   },
   {
    "duration": 31,
    "start_time": "2022-12-13T17:28:19.940Z"
   },
   {
    "duration": 25,
    "start_time": "2022-12-13T17:28:19.973Z"
   },
   {
    "duration": 5,
    "start_time": "2022-12-13T17:28:20.000Z"
   },
   {
    "duration": 22,
    "start_time": "2022-12-13T17:28:20.009Z"
   },
   {
    "duration": 17,
    "start_time": "2022-12-13T17:28:20.113Z"
   },
   {
    "duration": 26,
    "start_time": "2022-12-13T17:28:20.132Z"
   },
   {
    "duration": 407,
    "start_time": "2022-12-13T17:28:20.160Z"
   },
   {
    "duration": 64,
    "start_time": "2022-12-13T17:28:20.570Z"
   },
   {
    "duration": 3,
    "start_time": "2022-12-13T17:28:20.636Z"
   },
   {
    "duration": 14,
    "start_time": "2022-12-13T17:28:20.640Z"
   },
   {
    "duration": 18,
    "start_time": "2022-12-13T17:28:20.655Z"
   },
   {
    "duration": 10,
    "start_time": "2022-12-13T17:28:20.675Z"
   },
   {
    "duration": 65,
    "start_time": "2022-12-13T17:28:20.687Z"
   },
   {
    "duration": 65,
    "start_time": "2022-12-13T17:28:20.753Z"
   },
   {
    "duration": 3,
    "start_time": "2022-12-13T17:28:20.820Z"
   },
   {
    "duration": 187,
    "start_time": "2022-12-13T17:28:20.824Z"
   },
   {
    "duration": 21,
    "start_time": "2022-12-13T17:28:21.013Z"
   },
   {
    "duration": 1507,
    "start_time": "2022-12-13T17:28:21.035Z"
   },
   {
    "duration": 16,
    "start_time": "2022-12-13T17:28:22.544Z"
   },
   {
    "duration": 4,
    "start_time": "2022-12-13T17:28:22.562Z"
   },
   {
    "duration": 11,
    "start_time": "2022-12-13T17:28:22.568Z"
   },
   {
    "duration": 19,
    "start_time": "2022-12-13T17:28:22.581Z"
   },
   {
    "duration": 3,
    "start_time": "2022-12-13T17:28:22.602Z"
   },
   {
    "duration": 653,
    "start_time": "2022-12-13T17:28:22.607Z"
   },
   {
    "duration": 351,
    "start_time": "2022-12-13T17:28:23.262Z"
   },
   {
    "duration": 3,
    "start_time": "2022-12-13T17:28:23.615Z"
   },
   {
    "duration": 7,
    "start_time": "2022-12-13T17:28:23.620Z"
   },
   {
    "duration": 174,
    "start_time": "2022-12-13T17:28:23.629Z"
   },
   {
    "duration": 2,
    "start_time": "2022-12-13T17:28:23.806Z"
   },
   {
    "duration": 250,
    "start_time": "2022-12-13T17:28:23.810Z"
   },
   {
    "duration": 5,
    "start_time": "2022-12-13T17:28:24.062Z"
   },
   {
    "duration": 14,
    "start_time": "2022-12-13T17:28:24.069Z"
   },
   {
    "duration": 15,
    "start_time": "2022-12-13T17:28:24.085Z"
   },
   {
    "duration": 20209,
    "start_time": "2022-12-13T17:28:24.102Z"
   },
   {
    "duration": 4,
    "start_time": "2022-12-13T17:28:44.313Z"
   },
   {
    "duration": 17,
    "start_time": "2022-12-13T17:28:44.318Z"
   },
   {
    "duration": 6,
    "start_time": "2022-12-13T17:28:44.337Z"
   },
   {
    "duration": 7,
    "start_time": "2022-12-13T17:28:44.345Z"
   },
   {
    "duration": 1584,
    "start_time": "2022-12-13T17:31:53.831Z"
   },
   {
    "duration": 888,
    "start_time": "2022-12-13T17:31:55.417Z"
   },
   {
    "duration": 13,
    "start_time": "2022-12-13T17:31:56.307Z"
   },
   {
    "duration": 7,
    "start_time": "2022-12-13T17:31:56.322Z"
   },
   {
    "duration": 7,
    "start_time": "2022-12-13T17:31:56.330Z"
   },
   {
    "duration": 22,
    "start_time": "2022-12-13T17:31:56.338Z"
   },
   {
    "duration": 152,
    "start_time": "2022-12-13T17:31:56.361Z"
   },
   {
    "duration": 110,
    "start_time": "2022-12-13T17:31:56.515Z"
   },
   {
    "duration": 25,
    "start_time": "2022-12-13T17:31:56.627Z"
   },
   {
    "duration": 433,
    "start_time": "2022-12-13T17:31:56.655Z"
   },
   {
    "duration": 184,
    "start_time": "2022-12-13T17:31:57.097Z"
   },
   {
    "duration": 91,
    "start_time": "2022-12-13T17:31:57.283Z"
   },
   {
    "duration": 165,
    "start_time": "2022-12-13T17:31:57.376Z"
   },
   {
    "duration": 472,
    "start_time": "2022-12-13T17:31:57.542Z"
   },
   {
    "duration": 849,
    "start_time": "2022-12-13T17:31:58.016Z"
   },
   {
    "duration": 54,
    "start_time": "2022-12-13T17:31:58.867Z"
   },
   {
    "duration": 2,
    "start_time": "2022-12-13T17:31:58.923Z"
   },
   {
    "duration": 34,
    "start_time": "2022-12-13T17:31:58.927Z"
   },
   {
    "duration": 92,
    "start_time": "2022-12-13T17:31:58.962Z"
   },
   {
    "duration": 106,
    "start_time": "2022-12-13T17:31:59.055Z"
   },
   {
    "duration": 35,
    "start_time": "2022-12-13T17:31:59.163Z"
   },
   {
    "duration": 197,
    "start_time": "2022-12-13T17:31:59.201Z"
   },
   {
    "duration": 8,
    "start_time": "2022-12-13T17:31:59.401Z"
   },
   {
    "duration": 186,
    "start_time": "2022-12-13T17:31:59.411Z"
   },
   {
    "duration": 34,
    "start_time": "2022-12-13T17:31:59.599Z"
   },
   {
    "duration": 7,
    "start_time": "2022-12-13T17:31:59.635Z"
   },
   {
    "duration": 5,
    "start_time": "2022-12-13T17:31:59.644Z"
   },
   {
    "duration": 7,
    "start_time": "2022-12-13T17:31:59.653Z"
   },
   {
    "duration": 137,
    "start_time": "2022-12-13T17:31:59.661Z"
   },
   {
    "duration": 10,
    "start_time": "2022-12-13T17:31:59.800Z"
   },
   {
    "duration": 402,
    "start_time": "2022-12-13T17:31:59.811Z"
   },
   {
    "duration": 62,
    "start_time": "2022-12-13T17:32:00.216Z"
   },
   {
    "duration": 40,
    "start_time": "2022-12-13T17:32:00.280Z"
   },
   {
    "duration": 31,
    "start_time": "2022-12-13T17:32:00.322Z"
   },
   {
    "duration": 36,
    "start_time": "2022-12-13T17:32:00.354Z"
   },
   {
    "duration": 28,
    "start_time": "2022-12-13T17:32:00.392Z"
   },
   {
    "duration": 112,
    "start_time": "2022-12-13T17:32:00.423Z"
   },
   {
    "duration": 61,
    "start_time": "2022-12-13T17:32:00.537Z"
   },
   {
    "duration": 3,
    "start_time": "2022-12-13T17:32:00.600Z"
   },
   {
    "duration": 214,
    "start_time": "2022-12-13T17:32:00.605Z"
   },
   {
    "duration": 18,
    "start_time": "2022-12-13T17:32:00.821Z"
   },
   {
    "duration": 1666,
    "start_time": "2022-12-13T17:32:00.841Z"
   },
   {
    "duration": 0,
    "start_time": "2022-12-13T17:32:02.510Z"
   },
   {
    "duration": 0,
    "start_time": "2022-12-13T17:32:02.511Z"
   },
   {
    "duration": 0,
    "start_time": "2022-12-13T17:32:02.513Z"
   },
   {
    "duration": 0,
    "start_time": "2022-12-13T17:32:02.514Z"
   },
   {
    "duration": 0,
    "start_time": "2022-12-13T17:32:02.515Z"
   },
   {
    "duration": 0,
    "start_time": "2022-12-13T17:32:02.516Z"
   },
   {
    "duration": 0,
    "start_time": "2022-12-13T17:32:02.517Z"
   },
   {
    "duration": 0,
    "start_time": "2022-12-13T17:32:02.518Z"
   },
   {
    "duration": 0,
    "start_time": "2022-12-13T17:32:02.519Z"
   },
   {
    "duration": 0,
    "start_time": "2022-12-13T17:32:02.520Z"
   },
   {
    "duration": 0,
    "start_time": "2022-12-13T17:32:02.522Z"
   },
   {
    "duration": 0,
    "start_time": "2022-12-13T17:32:02.523Z"
   },
   {
    "duration": 0,
    "start_time": "2022-12-13T17:32:02.524Z"
   },
   {
    "duration": 0,
    "start_time": "2022-12-13T17:32:02.526Z"
   },
   {
    "duration": 0,
    "start_time": "2022-12-13T17:32:02.528Z"
   },
   {
    "duration": 0,
    "start_time": "2022-12-13T17:32:02.529Z"
   },
   {
    "duration": 0,
    "start_time": "2022-12-13T17:32:02.531Z"
   },
   {
    "duration": 0,
    "start_time": "2022-12-13T17:32:02.532Z"
   },
   {
    "duration": 0,
    "start_time": "2022-12-13T17:32:02.534Z"
   },
   {
    "duration": 0,
    "start_time": "2022-12-13T17:32:02.535Z"
   },
   {
    "duration": 0,
    "start_time": "2022-12-13T17:32:02.536Z"
   },
   {
    "duration": 0,
    "start_time": "2022-12-13T17:32:02.537Z"
   },
   {
    "duration": 0,
    "start_time": "2022-12-13T17:32:02.538Z"
   },
   {
    "duration": 0,
    "start_time": "2022-12-13T17:32:02.539Z"
   },
   {
    "duration": 0,
    "start_time": "2022-12-13T17:32:02.541Z"
   },
   {
    "duration": 0,
    "start_time": "2022-12-13T17:32:02.542Z"
   },
   {
    "duration": 0,
    "start_time": "2022-12-13T17:32:02.543Z"
   },
   {
    "duration": 0,
    "start_time": "2022-12-13T17:32:02.596Z"
   },
   {
    "duration": 0,
    "start_time": "2022-12-13T17:32:02.597Z"
   },
   {
    "duration": 0,
    "start_time": "2022-12-13T17:32:02.599Z"
   },
   {
    "duration": 0,
    "start_time": "2022-12-13T17:32:02.600Z"
   },
   {
    "duration": 0,
    "start_time": "2022-12-13T17:32:02.601Z"
   },
   {
    "duration": 0,
    "start_time": "2022-12-13T17:32:02.603Z"
   },
   {
    "duration": 0,
    "start_time": "2022-12-13T17:32:02.605Z"
   },
   {
    "duration": 0,
    "start_time": "2022-12-13T17:32:02.606Z"
   },
   {
    "duration": 0,
    "start_time": "2022-12-13T17:32:02.607Z"
   },
   {
    "duration": 0,
    "start_time": "2022-12-13T17:32:02.608Z"
   },
   {
    "duration": 0,
    "start_time": "2022-12-13T17:32:02.609Z"
   },
   {
    "duration": 0,
    "start_time": "2022-12-13T17:32:02.610Z"
   },
   {
    "duration": 0,
    "start_time": "2022-12-13T17:32:02.611Z"
   },
   {
    "duration": 0,
    "start_time": "2022-12-13T17:32:02.612Z"
   },
   {
    "duration": 0,
    "start_time": "2022-12-13T17:32:02.613Z"
   },
   {
    "duration": 0,
    "start_time": "2022-12-13T17:32:02.614Z"
   },
   {
    "duration": 0,
    "start_time": "2022-12-13T17:32:02.615Z"
   },
   {
    "duration": 0,
    "start_time": "2022-12-13T17:32:02.617Z"
   },
   {
    "duration": 0,
    "start_time": "2022-12-13T17:32:02.618Z"
   },
   {
    "duration": 0,
    "start_time": "2022-12-13T17:32:02.619Z"
   },
   {
    "duration": 0,
    "start_time": "2022-12-13T17:32:02.620Z"
   },
   {
    "duration": 0,
    "start_time": "2022-12-13T17:32:02.621Z"
   },
   {
    "duration": 0,
    "start_time": "2022-12-13T17:32:02.623Z"
   },
   {
    "duration": 0,
    "start_time": "2022-12-13T17:32:02.625Z"
   },
   {
    "duration": 0,
    "start_time": "2022-12-13T17:32:02.626Z"
   },
   {
    "duration": 0,
    "start_time": "2022-12-13T17:32:02.627Z"
   },
   {
    "duration": 0,
    "start_time": "2022-12-13T17:32:02.629Z"
   },
   {
    "duration": 0,
    "start_time": "2022-12-13T17:32:02.630Z"
   },
   {
    "duration": 0,
    "start_time": "2022-12-13T17:32:02.632Z"
   },
   {
    "duration": 0,
    "start_time": "2022-12-13T17:32:02.633Z"
   },
   {
    "duration": 0,
    "start_time": "2022-12-13T17:32:02.634Z"
   },
   {
    "duration": 0,
    "start_time": "2022-12-13T17:32:02.696Z"
   },
   {
    "duration": 0,
    "start_time": "2022-12-13T17:32:02.698Z"
   },
   {
    "duration": 0,
    "start_time": "2022-12-13T17:32:02.699Z"
   },
   {
    "duration": 0,
    "start_time": "2022-12-13T17:32:02.701Z"
   },
   {
    "duration": 1,
    "start_time": "2022-12-13T17:32:02.702Z"
   },
   {
    "duration": 0,
    "start_time": "2022-12-13T17:32:02.704Z"
   },
   {
    "duration": 0,
    "start_time": "2022-12-13T17:32:02.706Z"
   },
   {
    "duration": 0,
    "start_time": "2022-12-13T17:32:02.707Z"
   },
   {
    "duration": 0,
    "start_time": "2022-12-13T17:32:02.708Z"
   },
   {
    "duration": 0,
    "start_time": "2022-12-13T17:32:02.710Z"
   },
   {
    "duration": 11,
    "start_time": "2022-12-13T17:38:44.697Z"
   },
   {
    "duration": 931,
    "start_time": "2022-12-13T17:39:02.072Z"
   },
   {
    "duration": 2971,
    "start_time": "2022-12-13T17:39:57.594Z"
   },
   {
    "duration": 48,
    "start_time": "2022-12-13T17:41:17.620Z"
   },
   {
    "duration": 6,
    "start_time": "2022-12-13T17:42:36.652Z"
   },
   {
    "duration": 1679,
    "start_time": "2022-12-13T17:42:47.012Z"
   },
   {
    "duration": 82,
    "start_time": "2022-12-13T17:43:28.785Z"
   },
   {
    "duration": 9,
    "start_time": "2022-12-13T17:43:43.612Z"
   },
   {
    "duration": 9,
    "start_time": "2022-12-13T17:43:50.381Z"
   },
   {
    "duration": 9,
    "start_time": "2022-12-13T17:43:57.157Z"
   },
   {
    "duration": 1562,
    "start_time": "2022-12-13T17:44:05.413Z"
   },
   {
    "duration": 1076,
    "start_time": "2022-12-13T17:44:06.977Z"
   },
   {
    "duration": 10,
    "start_time": "2022-12-13T17:44:08.055Z"
   },
   {
    "duration": 8,
    "start_time": "2022-12-13T17:44:08.067Z"
   },
   {
    "duration": 6,
    "start_time": "2022-12-13T17:44:08.076Z"
   },
   {
    "duration": 21,
    "start_time": "2022-12-13T17:44:08.083Z"
   },
   {
    "duration": 120,
    "start_time": "2022-12-13T17:44:08.105Z"
   },
   {
    "duration": 115,
    "start_time": "2022-12-13T17:44:08.226Z"
   },
   {
    "duration": 24,
    "start_time": "2022-12-13T17:44:08.343Z"
   },
   {
    "duration": 405,
    "start_time": "2022-12-13T17:44:08.370Z"
   },
   {
    "duration": 195,
    "start_time": "2022-12-13T17:44:08.776Z"
   },
   {
    "duration": 87,
    "start_time": "2022-12-13T17:44:08.973Z"
   },
   {
    "duration": 150,
    "start_time": "2022-12-13T17:44:09.062Z"
   },
   {
    "duration": 424,
    "start_time": "2022-12-13T17:44:09.214Z"
   },
   {
    "duration": 811,
    "start_time": "2022-12-13T17:44:09.640Z"
   },
   {
    "duration": 53,
    "start_time": "2022-12-13T17:44:10.453Z"
   },
   {
    "duration": 4,
    "start_time": "2022-12-13T17:44:10.507Z"
   },
   {
    "duration": 36,
    "start_time": "2022-12-13T17:44:10.512Z"
   },
   {
    "duration": 86,
    "start_time": "2022-12-13T17:44:10.549Z"
   },
   {
    "duration": 95,
    "start_time": "2022-12-13T17:44:10.637Z"
   },
   {
    "duration": 27,
    "start_time": "2022-12-13T17:44:10.733Z"
   },
   {
    "duration": 197,
    "start_time": "2022-12-13T17:44:10.761Z"
   },
   {
    "duration": 7,
    "start_time": "2022-12-13T17:44:10.959Z"
   },
   {
    "duration": 178,
    "start_time": "2022-12-13T17:44:10.968Z"
   },
   {
    "duration": 31,
    "start_time": "2022-12-13T17:44:11.147Z"
   },
   {
    "duration": 20,
    "start_time": "2022-12-13T17:44:11.180Z"
   },
   {
    "duration": 5,
    "start_time": "2022-12-13T17:44:11.202Z"
   },
   {
    "duration": 10,
    "start_time": "2022-12-13T17:44:11.211Z"
   },
   {
    "duration": 17,
    "start_time": "2022-12-13T17:44:11.312Z"
   },
   {
    "duration": 10,
    "start_time": "2022-12-13T17:44:11.331Z"
   },
   {
    "duration": 399,
    "start_time": "2022-12-13T17:44:11.343Z"
   },
   {
    "duration": 62,
    "start_time": "2022-12-13T17:44:11.744Z"
   },
   {
    "duration": 3,
    "start_time": "2022-12-13T17:44:11.807Z"
   },
   {
    "duration": 8,
    "start_time": "2022-12-13T17:44:11.812Z"
   },
   {
    "duration": 22,
    "start_time": "2022-12-13T17:44:11.822Z"
   },
   {
    "duration": 12,
    "start_time": "2022-12-13T17:44:11.846Z"
   },
   {
    "duration": 89,
    "start_time": "2022-12-13T17:44:11.860Z"
   },
   {
    "duration": 58,
    "start_time": "2022-12-13T17:44:11.951Z"
   },
   {
    "duration": 2,
    "start_time": "2022-12-13T17:44:12.011Z"
   },
   {
    "duration": 196,
    "start_time": "2022-12-13T17:44:12.015Z"
   },
   {
    "duration": 19,
    "start_time": "2022-12-13T17:44:12.213Z"
   },
   {
    "duration": 1485,
    "start_time": "2022-12-13T17:44:12.234Z"
   },
   {
    "duration": 3,
    "start_time": "2022-12-13T17:44:13.720Z"
   },
   {
    "duration": 12,
    "start_time": "2022-12-13T17:44:13.724Z"
   },
   {
    "duration": 4,
    "start_time": "2022-12-13T17:44:13.737Z"
   },
   {
    "duration": 9,
    "start_time": "2022-12-13T17:44:13.743Z"
   },
   {
    "duration": 6,
    "start_time": "2022-12-13T17:44:13.753Z"
   },
   {
    "duration": 611,
    "start_time": "2022-12-13T17:44:13.760Z"
   },
   {
    "duration": 363,
    "start_time": "2022-12-13T17:44:14.373Z"
   },
   {
    "duration": 3,
    "start_time": "2022-12-13T17:44:14.738Z"
   },
   {
    "duration": 12,
    "start_time": "2022-12-13T17:44:14.742Z"
   },
   {
    "duration": 174,
    "start_time": "2022-12-13T17:44:14.755Z"
   },
   {
    "duration": 138,
    "start_time": "2022-12-13T17:44:14.932Z"
   },
   {
    "duration": 0,
    "start_time": "2022-12-13T17:44:15.073Z"
   },
   {
    "duration": 0,
    "start_time": "2022-12-13T17:44:15.074Z"
   },
   {
    "duration": 0,
    "start_time": "2022-12-13T17:44:15.076Z"
   },
   {
    "duration": 0,
    "start_time": "2022-12-13T17:44:15.077Z"
   },
   {
    "duration": 0,
    "start_time": "2022-12-13T17:44:15.079Z"
   },
   {
    "duration": 0,
    "start_time": "2022-12-13T17:44:15.080Z"
   },
   {
    "duration": 0,
    "start_time": "2022-12-13T17:44:15.097Z"
   },
   {
    "duration": 0,
    "start_time": "2022-12-13T17:44:15.098Z"
   },
   {
    "duration": 0,
    "start_time": "2022-12-13T17:44:15.100Z"
   },
   {
    "duration": 0,
    "start_time": "2022-12-13T17:44:15.101Z"
   },
   {
    "duration": 0,
    "start_time": "2022-12-13T17:44:15.103Z"
   },
   {
    "duration": 0,
    "start_time": "2022-12-13T17:44:15.104Z"
   },
   {
    "duration": 0,
    "start_time": "2022-12-13T17:44:15.106Z"
   },
   {
    "duration": 0,
    "start_time": "2022-12-13T17:44:15.107Z"
   },
   {
    "duration": 0,
    "start_time": "2022-12-13T17:44:15.109Z"
   },
   {
    "duration": 0,
    "start_time": "2022-12-13T17:44:15.110Z"
   },
   {
    "duration": 0,
    "start_time": "2022-12-13T17:44:15.112Z"
   },
   {
    "duration": 0,
    "start_time": "2022-12-13T17:44:15.113Z"
   },
   {
    "duration": 0,
    "start_time": "2022-12-13T17:44:15.115Z"
   },
   {
    "duration": 0,
    "start_time": "2022-12-13T17:44:15.116Z"
   },
   {
    "duration": 0,
    "start_time": "2022-12-13T17:44:15.118Z"
   },
   {
    "duration": 0,
    "start_time": "2022-12-13T17:44:15.120Z"
   },
   {
    "duration": 0,
    "start_time": "2022-12-13T17:44:15.121Z"
   },
   {
    "duration": 0,
    "start_time": "2022-12-13T17:44:15.124Z"
   },
   {
    "duration": 0,
    "start_time": "2022-12-13T17:44:15.125Z"
   },
   {
    "duration": 0,
    "start_time": "2022-12-13T17:44:15.127Z"
   },
   {
    "duration": 0,
    "start_time": "2022-12-13T17:44:15.129Z"
   },
   {
    "duration": 0,
    "start_time": "2022-12-13T17:44:15.130Z"
   },
   {
    "duration": 0,
    "start_time": "2022-12-13T17:44:15.131Z"
   },
   {
    "duration": 0,
    "start_time": "2022-12-13T17:44:15.133Z"
   },
   {
    "duration": 0,
    "start_time": "2022-12-13T17:44:15.135Z"
   },
   {
    "duration": 0,
    "start_time": "2022-12-13T17:44:15.136Z"
   },
   {
    "duration": 0,
    "start_time": "2022-12-13T17:44:15.198Z"
   },
   {
    "duration": 0,
    "start_time": "2022-12-13T17:44:15.199Z"
   },
   {
    "duration": 0,
    "start_time": "2022-12-13T17:44:15.200Z"
   },
   {
    "duration": 0,
    "start_time": "2022-12-13T17:44:15.201Z"
   },
   {
    "duration": 0,
    "start_time": "2022-12-13T17:44:15.203Z"
   },
   {
    "duration": 0,
    "start_time": "2022-12-13T17:44:15.204Z"
   },
   {
    "duration": 0,
    "start_time": "2022-12-13T17:44:15.206Z"
   },
   {
    "duration": 0,
    "start_time": "2022-12-13T17:44:15.207Z"
   },
   {
    "duration": 0,
    "start_time": "2022-12-13T17:44:15.208Z"
   },
   {
    "duration": 0,
    "start_time": "2022-12-13T17:44:15.209Z"
   },
   {
    "duration": 0,
    "start_time": "2022-12-13T17:44:15.210Z"
   },
   {
    "duration": 0,
    "start_time": "2022-12-13T17:44:15.211Z"
   },
   {
    "duration": 0,
    "start_time": "2022-12-13T17:44:15.212Z"
   },
   {
    "duration": 0,
    "start_time": "2022-12-13T17:44:15.213Z"
   },
   {
    "duration": 0,
    "start_time": "2022-12-13T17:44:15.214Z"
   },
   {
    "duration": 0,
    "start_time": "2022-12-13T17:44:15.215Z"
   },
   {
    "duration": 0,
    "start_time": "2022-12-13T17:44:15.216Z"
   },
   {
    "duration": 0,
    "start_time": "2022-12-13T17:44:15.217Z"
   },
   {
    "duration": 0,
    "start_time": "2022-12-13T17:44:15.218Z"
   },
   {
    "duration": 0,
    "start_time": "2022-12-13T17:44:15.219Z"
   },
   {
    "duration": 0,
    "start_time": "2022-12-13T17:44:15.221Z"
   },
   {
    "duration": 0,
    "start_time": "2022-12-13T17:44:15.222Z"
   },
   {
    "duration": 0,
    "start_time": "2022-12-13T17:44:15.223Z"
   },
   {
    "duration": 0,
    "start_time": "2022-12-13T17:44:15.224Z"
   },
   {
    "duration": 0,
    "start_time": "2022-12-13T17:44:15.225Z"
   },
   {
    "duration": 3,
    "start_time": "2022-12-13T17:50:42.680Z"
   },
   {
    "duration": 235,
    "start_time": "2022-12-13T17:50:45.049Z"
   },
   {
    "duration": 5,
    "start_time": "2022-12-13T17:50:56.936Z"
   },
   {
    "duration": 3,
    "start_time": "2022-12-13T17:50:57.745Z"
   },
   {
    "duration": 4,
    "start_time": "2022-12-13T17:50:59.103Z"
   },
   {
    "duration": 20008,
    "start_time": "2022-12-13T17:50:59.879Z"
   },
   {
    "duration": 8,
    "start_time": "2022-12-13T17:51:19.889Z"
   },
   {
    "duration": 20,
    "start_time": "2022-12-13T17:51:19.899Z"
   },
   {
    "duration": 15,
    "start_time": "2022-12-13T17:51:19.922Z"
   },
   {
    "duration": 18,
    "start_time": "2022-12-13T17:51:19.939Z"
   },
   {
    "duration": 1646,
    "start_time": "2022-12-13T17:51:23.180Z"
   },
   {
    "duration": 825,
    "start_time": "2022-12-13T17:51:24.828Z"
   },
   {
    "duration": 11,
    "start_time": "2022-12-13T17:51:25.655Z"
   },
   {
    "duration": 7,
    "start_time": "2022-12-13T17:51:25.668Z"
   },
   {
    "duration": 9,
    "start_time": "2022-12-13T17:51:25.677Z"
   },
   {
    "duration": 27,
    "start_time": "2022-12-13T17:51:25.687Z"
   },
   {
    "duration": 125,
    "start_time": "2022-12-13T17:51:25.716Z"
   },
   {
    "duration": 119,
    "start_time": "2022-12-13T17:51:25.843Z"
   },
   {
    "duration": 39,
    "start_time": "2022-12-13T17:51:25.964Z"
   },
   {
    "duration": 445,
    "start_time": "2022-12-13T17:51:26.007Z"
   },
   {
    "duration": 206,
    "start_time": "2022-12-13T17:51:26.454Z"
   },
   {
    "duration": 88,
    "start_time": "2022-12-13T17:51:26.662Z"
   },
   {
    "duration": 146,
    "start_time": "2022-12-13T17:51:26.752Z"
   },
   {
    "duration": 438,
    "start_time": "2022-12-13T17:51:26.900Z"
   },
   {
    "duration": 818,
    "start_time": "2022-12-13T17:51:27.340Z"
   },
   {
    "duration": 54,
    "start_time": "2022-12-13T17:51:28.160Z"
   },
   {
    "duration": 3,
    "start_time": "2022-12-13T17:51:28.215Z"
   },
   {
    "duration": 37,
    "start_time": "2022-12-13T17:51:28.221Z"
   },
   {
    "duration": 97,
    "start_time": "2022-12-13T17:51:28.260Z"
   },
   {
    "duration": 99,
    "start_time": "2022-12-13T17:51:28.359Z"
   },
   {
    "duration": 40,
    "start_time": "2022-12-13T17:51:28.461Z"
   },
   {
    "duration": 206,
    "start_time": "2022-12-13T17:51:28.503Z"
   },
   {
    "duration": 8,
    "start_time": "2022-12-13T17:51:28.711Z"
   },
   {
    "duration": 186,
    "start_time": "2022-12-13T17:51:28.722Z"
   },
   {
    "duration": 42,
    "start_time": "2022-12-13T17:51:28.911Z"
   },
   {
    "duration": 7,
    "start_time": "2022-12-13T17:51:28.955Z"
   },
   {
    "duration": 7,
    "start_time": "2022-12-13T17:51:28.965Z"
   },
   {
    "duration": 11,
    "start_time": "2022-12-13T17:51:29.002Z"
   },
   {
    "duration": 22,
    "start_time": "2022-12-13T17:51:29.105Z"
   },
   {
    "duration": 17,
    "start_time": "2022-12-13T17:51:29.129Z"
   },
   {
    "duration": 425,
    "start_time": "2022-12-13T17:51:29.149Z"
   },
   {
    "duration": 67,
    "start_time": "2022-12-13T17:51:29.576Z"
   },
   {
    "duration": 2,
    "start_time": "2022-12-13T17:51:29.645Z"
   },
   {
    "duration": 5,
    "start_time": "2022-12-13T17:51:29.649Z"
   },
   {
    "duration": 18,
    "start_time": "2022-12-13T17:51:29.656Z"
   },
   {
    "duration": 26,
    "start_time": "2022-12-13T17:51:29.676Z"
   },
   {
    "duration": 58,
    "start_time": "2022-12-13T17:51:29.704Z"
   },
   {
    "duration": 72,
    "start_time": "2022-12-13T17:51:29.765Z"
   },
   {
    "duration": 3,
    "start_time": "2022-12-13T17:51:29.839Z"
   },
   {
    "duration": 215,
    "start_time": "2022-12-13T17:51:29.843Z"
   },
   {
    "duration": 18,
    "start_time": "2022-12-13T17:51:30.060Z"
   },
   {
    "duration": 1547,
    "start_time": "2022-12-13T17:51:30.080Z"
   },
   {
    "duration": 2,
    "start_time": "2022-12-13T17:51:31.629Z"
   },
   {
    "duration": 9,
    "start_time": "2022-12-13T17:51:31.633Z"
   },
   {
    "duration": 12,
    "start_time": "2022-12-13T17:51:31.644Z"
   },
   {
    "duration": 12,
    "start_time": "2022-12-13T17:51:31.657Z"
   },
   {
    "duration": 20,
    "start_time": "2022-12-13T17:51:31.671Z"
   },
   {
    "duration": 636,
    "start_time": "2022-12-13T17:51:31.694Z"
   },
   {
    "duration": 354,
    "start_time": "2022-12-13T17:51:32.332Z"
   },
   {
    "duration": 9,
    "start_time": "2022-12-13T17:51:32.688Z"
   },
   {
    "duration": 7,
    "start_time": "2022-12-13T17:51:32.699Z"
   },
   {
    "duration": 165,
    "start_time": "2022-12-13T17:51:32.707Z"
   },
   {
    "duration": 3,
    "start_time": "2022-12-13T17:51:32.874Z"
   },
   {
    "duration": 238,
    "start_time": "2022-12-13T17:51:32.879Z"
   },
   {
    "duration": 4,
    "start_time": "2022-12-13T17:51:33.119Z"
   },
   {
    "duration": 5,
    "start_time": "2022-12-13T17:51:33.125Z"
   },
   {
    "duration": 9,
    "start_time": "2022-12-13T17:51:33.131Z"
   },
   {
    "duration": 20066,
    "start_time": "2022-12-13T17:51:33.142Z"
   },
   {
    "duration": 4,
    "start_time": "2022-12-13T17:51:53.210Z"
   },
   {
    "duration": 11,
    "start_time": "2022-12-13T17:51:53.216Z"
   },
   {
    "duration": 7,
    "start_time": "2022-12-13T17:51:53.229Z"
   },
   {
    "duration": 5,
    "start_time": "2022-12-13T17:51:53.238Z"
   },
   {
    "duration": 194307,
    "start_time": "2022-12-13T17:51:53.245Z"
   },
   {
    "duration": 2048,
    "start_time": "2022-12-13T17:55:07.553Z"
   },
   {
    "duration": 580,
    "start_time": "2022-12-13T17:55:09.603Z"
   },
   {
    "duration": 4,
    "start_time": "2022-12-13T17:55:10.185Z"
   },
   {
    "duration": 20,
    "start_time": "2022-12-13T17:55:10.190Z"
   },
   {
    "duration": 4603,
    "start_time": "2022-12-13T17:55:10.211Z"
   },
   {
    "duration": 50591,
    "start_time": "2022-12-13T17:55:14.816Z"
   },
   {
    "duration": 214,
    "start_time": "2022-12-13T17:56:05.409Z"
   },
   {
    "duration": 102,
    "start_time": "2022-12-13T17:56:05.697Z"
   },
   {
    "duration": 107416,
    "start_time": "2022-12-13T17:56:05.801Z"
   },
   {
    "duration": 388,
    "start_time": "2022-12-13T17:57:53.218Z"
   },
   {
    "duration": 192,
    "start_time": "2022-12-13T17:57:53.608Z"
   },
   {
    "duration": 9,
    "start_time": "2022-12-13T17:57:53.802Z"
   },
   {
    "duration": 20,
    "start_time": "2022-12-13T17:57:53.812Z"
   },
   {
    "duration": 4,
    "start_time": "2022-12-13T17:57:53.834Z"
   },
   {
    "duration": 6,
    "start_time": "2022-12-13T17:57:53.839Z"
   },
   {
    "duration": 7,
    "start_time": "2022-12-13T17:57:53.846Z"
   },
   {
    "duration": 728,
    "start_time": "2022-12-13T17:57:53.854Z"
   },
   {
    "duration": 13,
    "start_time": "2022-12-13T17:57:54.584Z"
   },
   {
    "duration": 82,
    "start_time": "2022-12-13T17:57:54.602Z"
   },
   {
    "duration": 11,
    "start_time": "2022-12-13T17:57:54.686Z"
   },
   {
    "duration": 8,
    "start_time": "2022-12-13T17:57:54.698Z"
   },
   {
    "duration": 12,
    "start_time": "2022-12-13T17:57:54.708Z"
   },
   {
    "duration": 2986,
    "start_time": "2022-12-13T17:57:54.722Z"
   },
   {
    "duration": 889,
    "start_time": "2022-12-13T17:57:57.709Z"
   },
   {
    "duration": 299,
    "start_time": "2022-12-13T17:57:58.599Z"
   },
   {
    "duration": 6,
    "start_time": "2022-12-13T17:57:58.899Z"
   },
   {
    "duration": 30,
    "start_time": "2022-12-13T17:57:58.907Z"
   },
   {
    "duration": 103,
    "start_time": "2022-12-13T17:57:58.939Z"
   },
   {
    "duration": 4,
    "start_time": "2022-12-13T17:57:59.044Z"
   },
   {
    "duration": 307,
    "start_time": "2022-12-13T17:57:59.050Z"
   },
   {
    "duration": 3,
    "start_time": "2022-12-13T17:57:59.358Z"
   },
   {
    "duration": 66717,
    "start_time": "2022-12-13T17:57:59.363Z"
   },
   {
    "duration": 1198,
    "start_time": "2022-12-13T17:59:06.083Z"
   },
   {
    "duration": 394,
    "start_time": "2022-12-13T17:59:07.283Z"
   },
   {
    "duration": 4,
    "start_time": "2022-12-13T17:59:07.678Z"
   },
   {
    "duration": 60005,
    "start_time": "2022-12-13T17:59:07.683Z"
   },
   {
    "duration": 727,
    "start_time": "2022-12-13T18:00:07.689Z"
   },
   {
    "duration": 244,
    "start_time": "2022-12-13T18:00:08.418Z"
   },
   {
    "duration": 5,
    "start_time": "2022-12-13T18:00:08.663Z"
   },
   {
    "duration": 25,
    "start_time": "2022-12-13T18:00:08.669Z"
   },
   {
    "duration": 5,
    "start_time": "2022-12-13T18:00:08.696Z"
   },
   {
    "duration": 5,
    "start_time": "2022-12-13T18:00:08.702Z"
   },
   {
    "duration": 4,
    "start_time": "2022-12-13T18:00:08.709Z"
   },
   {
    "duration": 259,
    "start_time": "2022-12-13T18:00:08.714Z"
   },
   {
    "duration": 9,
    "start_time": "2022-12-13T18:00:08.975Z"
   },
   {
    "duration": 10,
    "start_time": "2022-12-13T18:00:08.996Z"
   },
   {
    "duration": 6,
    "start_time": "2022-12-13T18:00:09.009Z"
   },
   {
    "duration": 120,
    "start_time": "2022-12-13T18:05:03.250Z"
   },
   {
    "duration": 14,
    "start_time": "2022-12-13T18:05:39.590Z"
   },
   {
    "duration": 3,
    "start_time": "2022-12-13T18:06:07.372Z"
   },
   {
    "duration": 2,
    "start_time": "2022-12-13T18:06:22.580Z"
   },
   {
    "duration": 14,
    "start_time": "2022-12-13T18:07:11.969Z"
   },
   {
    "duration": 15,
    "start_time": "2022-12-13T18:07:45.060Z"
   },
   {
    "duration": 16,
    "start_time": "2022-12-13T18:07:52.076Z"
   },
   {
    "duration": 16,
    "start_time": "2022-12-13T18:08:21.652Z"
   },
   {
    "duration": 3,
    "start_time": "2022-12-13T18:09:26.908Z"
   },
   {
    "duration": 15,
    "start_time": "2022-12-13T18:09:33.030Z"
   },
   {
    "duration": 3,
    "start_time": "2022-12-13T18:09:38.058Z"
   },
   {
    "duration": 1509,
    "start_time": "2022-12-13T18:10:59.744Z"
   },
   {
    "duration": 852,
    "start_time": "2022-12-13T18:11:01.255Z"
   },
   {
    "duration": 23,
    "start_time": "2022-12-13T18:11:02.109Z"
   },
   {
    "duration": 8,
    "start_time": "2022-12-13T18:11:02.134Z"
   },
   {
    "duration": 6,
    "start_time": "2022-12-13T18:11:02.144Z"
   },
   {
    "duration": 21,
    "start_time": "2022-12-13T18:11:02.152Z"
   },
   {
    "duration": 127,
    "start_time": "2022-12-13T18:11:02.174Z"
   },
   {
    "duration": 112,
    "start_time": "2022-12-13T18:11:02.303Z"
   },
   {
    "duration": 25,
    "start_time": "2022-12-13T18:11:02.418Z"
   },
   {
    "duration": 411,
    "start_time": "2022-12-13T18:11:02.446Z"
   },
   {
    "duration": 189,
    "start_time": "2022-12-13T18:11:02.859Z"
   },
   {
    "duration": 84,
    "start_time": "2022-12-13T18:11:03.049Z"
   },
   {
    "duration": 153,
    "start_time": "2022-12-13T18:11:03.135Z"
   },
   {
    "duration": 439,
    "start_time": "2022-12-13T18:11:03.290Z"
   },
   {
    "duration": 796,
    "start_time": "2022-12-13T18:11:03.730Z"
   },
   {
    "duration": 45,
    "start_time": "2022-12-13T18:11:04.528Z"
   },
   {
    "duration": 4,
    "start_time": "2022-12-13T18:11:04.574Z"
   },
   {
    "duration": 33,
    "start_time": "2022-12-13T18:11:04.596Z"
   },
   {
    "duration": 80,
    "start_time": "2022-12-13T18:11:04.631Z"
   },
   {
    "duration": 101,
    "start_time": "2022-12-13T18:11:04.712Z"
   },
   {
    "duration": 27,
    "start_time": "2022-12-13T18:11:04.814Z"
   },
   {
    "duration": 191,
    "start_time": "2022-12-13T18:11:04.843Z"
   },
   {
    "duration": 6,
    "start_time": "2022-12-13T18:11:05.035Z"
   },
   {
    "duration": 188,
    "start_time": "2022-12-13T18:11:05.042Z"
   },
   {
    "duration": 32,
    "start_time": "2022-12-13T18:11:05.231Z"
   },
   {
    "duration": 6,
    "start_time": "2022-12-13T18:11:05.264Z"
   },
   {
    "duration": 26,
    "start_time": "2022-12-13T18:11:05.271Z"
   },
   {
    "duration": 94,
    "start_time": "2022-12-13T18:11:05.302Z"
   },
   {
    "duration": 16,
    "start_time": "2022-12-13T18:11:05.398Z"
   },
   {
    "duration": 14,
    "start_time": "2022-12-13T18:11:05.415Z"
   },
   {
    "duration": 393,
    "start_time": "2022-12-13T18:11:05.431Z"
   },
   {
    "duration": 73,
    "start_time": "2022-12-13T18:11:05.826Z"
   },
   {
    "duration": 3,
    "start_time": "2022-12-13T18:11:05.902Z"
   },
   {
    "duration": 8,
    "start_time": "2022-12-13T18:11:05.907Z"
   },
   {
    "duration": 24,
    "start_time": "2022-12-13T18:11:05.916Z"
   },
   {
    "duration": 12,
    "start_time": "2022-12-13T18:11:05.942Z"
   },
   {
    "duration": 79,
    "start_time": "2022-12-13T18:11:05.956Z"
   },
   {
    "duration": 71,
    "start_time": "2022-12-13T18:11:06.037Z"
   },
   {
    "duration": 4,
    "start_time": "2022-12-13T18:11:06.110Z"
   },
   {
    "duration": 231,
    "start_time": "2022-12-13T18:11:06.115Z"
   },
   {
    "duration": 3,
    "start_time": "2022-12-13T18:11:06.348Z"
   },
   {
    "duration": 1478,
    "start_time": "2022-12-13T18:11:06.352Z"
   },
   {
    "duration": 2,
    "start_time": "2022-12-13T18:11:07.832Z"
   },
   {
    "duration": 21,
    "start_time": "2022-12-13T18:11:07.836Z"
   },
   {
    "duration": 14,
    "start_time": "2022-12-13T18:11:07.859Z"
   },
   {
    "duration": 9,
    "start_time": "2022-12-13T18:11:07.875Z"
   },
   {
    "duration": 8,
    "start_time": "2022-12-13T18:11:07.886Z"
   },
   {
    "duration": 622,
    "start_time": "2022-12-13T18:11:07.895Z"
   },
   {
    "duration": 350,
    "start_time": "2022-12-13T18:11:08.519Z"
   },
   {
    "duration": 2,
    "start_time": "2022-12-13T18:11:08.871Z"
   },
   {
    "duration": 7,
    "start_time": "2022-12-13T18:11:08.875Z"
   },
   {
    "duration": 165,
    "start_time": "2022-12-13T18:11:08.884Z"
   },
   {
    "duration": 3,
    "start_time": "2022-12-13T18:11:09.050Z"
   },
   {
    "duration": 230,
    "start_time": "2022-12-13T18:11:09.055Z"
   },
   {
    "duration": 12,
    "start_time": "2022-12-13T18:11:09.287Z"
   },
   {
    "duration": 12,
    "start_time": "2022-12-13T18:11:09.301Z"
   },
   {
    "duration": 8,
    "start_time": "2022-12-13T18:11:09.315Z"
   },
   {
    "duration": 20366,
    "start_time": "2022-12-13T18:11:09.324Z"
   },
   {
    "duration": 5,
    "start_time": "2022-12-13T18:11:29.692Z"
   },
   {
    "duration": 11,
    "start_time": "2022-12-13T18:11:29.698Z"
   },
   {
    "duration": 28,
    "start_time": "2022-12-13T18:11:29.711Z"
   },
   {
    "duration": 11,
    "start_time": "2022-12-13T18:11:29.741Z"
   },
   {
    "duration": 193286,
    "start_time": "2022-12-13T18:11:29.754Z"
   },
   {
    "duration": 1979,
    "start_time": "2022-12-13T18:14:43.041Z"
   },
   {
    "duration": 557,
    "start_time": "2022-12-13T18:14:45.022Z"
   },
   {
    "duration": 4,
    "start_time": "2022-12-13T18:14:45.581Z"
   },
   {
    "duration": 8,
    "start_time": "2022-12-13T18:14:45.596Z"
   },
   {
    "duration": 4591,
    "start_time": "2022-12-13T18:14:45.606Z"
   },
   {
    "duration": 49411,
    "start_time": "2022-12-13T18:14:50.199Z"
   },
   {
    "duration": 302,
    "start_time": "2022-12-13T18:15:39.612Z"
   },
   {
    "duration": 93,
    "start_time": "2022-12-13T18:15:39.916Z"
   },
   {
    "duration": 103208,
    "start_time": "2022-12-13T18:15:40.011Z"
   },
   {
    "duration": 391,
    "start_time": "2022-12-13T18:17:23.220Z"
   },
   {
    "duration": 189,
    "start_time": "2022-12-13T18:17:23.613Z"
   },
   {
    "duration": 10,
    "start_time": "2022-12-13T18:17:23.803Z"
   },
   {
    "duration": 21,
    "start_time": "2022-12-13T18:17:23.815Z"
   },
   {
    "duration": 4,
    "start_time": "2022-12-13T18:17:23.838Z"
   },
   {
    "duration": 18,
    "start_time": "2022-12-13T18:17:23.843Z"
   },
   {
    "duration": 11,
    "start_time": "2022-12-13T18:17:23.862Z"
   },
   {
    "duration": 708,
    "start_time": "2022-12-13T18:17:23.874Z"
   },
   {
    "duration": 13,
    "start_time": "2022-12-13T18:17:24.584Z"
   },
   {
    "duration": 97,
    "start_time": "2022-12-13T18:17:24.603Z"
   },
   {
    "duration": 2,
    "start_time": "2022-12-13T18:17:24.702Z"
   },
   {
    "duration": 8,
    "start_time": "2022-12-13T18:17:24.705Z"
   },
   {
    "duration": 10,
    "start_time": "2022-12-13T18:17:24.714Z"
   },
   {
    "duration": 3371,
    "start_time": "2022-12-13T18:17:24.725Z"
   },
   {
    "duration": 805,
    "start_time": "2022-12-13T18:17:28.098Z"
   },
   {
    "duration": 302,
    "start_time": "2022-12-13T18:17:28.905Z"
   },
   {
    "duration": 6,
    "start_time": "2022-12-13T18:17:29.208Z"
   },
   {
    "duration": 10,
    "start_time": "2022-12-13T18:17:29.217Z"
   },
   {
    "duration": 141,
    "start_time": "2022-12-13T18:17:29.229Z"
   },
   {
    "duration": 4,
    "start_time": "2022-12-13T18:17:29.372Z"
   },
   {
    "duration": 296,
    "start_time": "2022-12-13T18:17:29.378Z"
   },
   {
    "duration": 3,
    "start_time": "2022-12-13T18:17:29.676Z"
   },
   {
    "duration": 65212,
    "start_time": "2022-12-13T18:17:29.680Z"
   },
   {
    "duration": 1230,
    "start_time": "2022-12-13T18:18:34.894Z"
   },
   {
    "duration": 424,
    "start_time": "2022-12-13T18:18:36.126Z"
   },
   {
    "duration": 3,
    "start_time": "2022-12-13T18:18:36.551Z"
   },
   {
    "duration": 2092,
    "start_time": "2022-12-14T06:54:04.459Z"
   },
   {
    "duration": 1011,
    "start_time": "2022-12-14T06:54:06.562Z"
   },
   {
    "duration": 15,
    "start_time": "2022-12-14T06:54:07.576Z"
   },
   {
    "duration": 10,
    "start_time": "2022-12-14T06:54:07.594Z"
   },
   {
    "duration": 7,
    "start_time": "2022-12-14T06:54:07.607Z"
   },
   {
    "duration": 40,
    "start_time": "2022-12-14T06:54:07.616Z"
   },
   {
    "duration": 288,
    "start_time": "2022-12-14T06:54:07.658Z"
   },
   {
    "duration": 138,
    "start_time": "2022-12-14T06:54:07.948Z"
   },
   {
    "duration": 65,
    "start_time": "2022-12-14T06:54:08.088Z"
   },
   {
    "duration": 599,
    "start_time": "2022-12-14T06:54:08.156Z"
   },
   {
    "duration": 253,
    "start_time": "2022-12-14T06:54:08.757Z"
   },
   {
    "duration": 131,
    "start_time": "2022-12-14T06:54:09.012Z"
   },
   {
    "duration": 249,
    "start_time": "2022-12-14T06:54:09.147Z"
   },
   {
    "duration": 484,
    "start_time": "2022-12-14T06:54:09.400Z"
   },
   {
    "duration": 1026,
    "start_time": "2022-12-14T06:54:09.886Z"
   },
   {
    "duration": 76,
    "start_time": "2022-12-14T06:54:10.914Z"
   },
   {
    "duration": 4,
    "start_time": "2022-12-14T06:54:10.992Z"
   },
   {
    "duration": 58,
    "start_time": "2022-12-14T06:54:10.997Z"
   },
   {
    "duration": 145,
    "start_time": "2022-12-14T06:54:11.061Z"
   },
   {
    "duration": 118,
    "start_time": "2022-12-14T06:54:11.208Z"
   },
   {
    "duration": 37,
    "start_time": "2022-12-14T06:54:11.327Z"
   },
   {
    "duration": 216,
    "start_time": "2022-12-14T06:54:11.365Z"
   },
   {
    "duration": 7,
    "start_time": "2022-12-14T06:54:11.583Z"
   },
   {
    "duration": 205,
    "start_time": "2022-12-14T06:54:11.591Z"
   },
   {
    "duration": 39,
    "start_time": "2022-12-14T06:54:11.798Z"
   },
   {
    "duration": 9,
    "start_time": "2022-12-14T06:54:11.841Z"
   },
   {
    "duration": 33,
    "start_time": "2022-12-14T06:54:11.851Z"
   },
   {
    "duration": 16,
    "start_time": "2022-12-14T06:54:11.886Z"
   },
   {
    "duration": 19,
    "start_time": "2022-12-14T06:54:11.904Z"
   },
   {
    "duration": 18,
    "start_time": "2022-12-14T06:54:11.925Z"
   },
   {
    "duration": 598,
    "start_time": "2022-12-14T06:54:11.945Z"
   },
   {
    "duration": 139,
    "start_time": "2022-12-14T06:54:12.545Z"
   },
   {
    "duration": 27,
    "start_time": "2022-12-14T06:54:12.686Z"
   },
   {
    "duration": 34,
    "start_time": "2022-12-14T06:54:12.717Z"
   },
   {
    "duration": 66,
    "start_time": "2022-12-14T06:54:12.753Z"
   },
   {
    "duration": 72,
    "start_time": "2022-12-14T06:54:12.822Z"
   },
   {
    "duration": 89,
    "start_time": "2022-12-14T06:54:12.896Z"
   },
   {
    "duration": 92,
    "start_time": "2022-12-14T06:54:12.988Z"
   },
   {
    "duration": 4,
    "start_time": "2022-12-14T06:54:13.082Z"
   },
   {
    "duration": 218,
    "start_time": "2022-12-14T06:54:13.088Z"
   },
   {
    "duration": 3,
    "start_time": "2022-12-14T06:54:13.311Z"
   },
   {
    "duration": 1768,
    "start_time": "2022-12-14T06:54:13.316Z"
   },
   {
    "duration": 275,
    "start_time": "2022-12-14T06:54:55.297Z"
   },
   {
    "duration": 169,
    "start_time": "2022-12-14T06:59:04.700Z"
   },
   {
    "duration": 735,
    "start_time": "2022-12-14T06:59:07.912Z"
   },
   {
    "duration": 394,
    "start_time": "2022-12-14T06:59:08.654Z"
   },
   {
    "duration": 5,
    "start_time": "2022-12-14T06:59:09.664Z"
   },
   {
    "duration": 2,
    "start_time": "2022-12-14T06:59:09.893Z"
   },
   {
    "duration": 245,
    "start_time": "2022-12-14T06:59:10.232Z"
   },
   {
    "duration": 253,
    "start_time": "2022-12-14T06:59:19.632Z"
   },
   {
    "duration": 54,
    "start_time": "2022-12-14T06:59:24.710Z"
   },
   {
    "duration": 15,
    "start_time": "2022-12-14T07:00:37.165Z"
   },
   {
    "duration": 232,
    "start_time": "2022-12-14T07:00:41.225Z"
   }
  ],
  "kernelspec": {
   "display_name": "Python 3 (ipykernel)",
   "language": "python",
   "name": "python3"
  },
  "language_info": {
   "codemirror_mode": {
    "name": "ipython",
    "version": 3
   },
   "file_extension": ".py",
   "mimetype": "text/x-python",
   "name": "python",
   "nbconvert_exporter": "python",
   "pygments_lexer": "ipython3",
   "version": "3.9.5"
  },
  "toc": {
   "base_numbering": 1,
   "nav_menu": {},
   "number_sections": true,
   "sideBar": true,
   "skip_h1_title": true,
   "title_cell": "Table of Contents",
   "title_sidebar": "Contents",
   "toc_cell": false,
   "toc_position": {
    "height": "calc(100% - 180px)",
    "left": "10px",
    "top": "150px",
    "width": "165px"
   },
   "toc_section_display": true,
   "toc_window_display": true
  }
 },
 "nbformat": 4,
 "nbformat_minor": 2
}

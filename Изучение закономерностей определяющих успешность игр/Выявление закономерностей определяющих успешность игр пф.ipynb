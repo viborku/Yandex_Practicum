{
 "cells": [
  {
   "cell_type": "markdown",
   "metadata": {},
   "source": [
    "# Выявление закономерностей, определяющих успешность игр"
   ]
  },
  {
   "cell_type": "markdown",
   "metadata": {},
   "source": [
    "# Описание данных"
   ]
  },
  {
   "cell_type": "markdown",
   "metadata": {},
   "source": [
    "Name — название игры\n",
    "Platform — платформа\n",
    "Year_of_Release — год выпуска\n",
    "Genre — жанр игры\n",
    "NA_sales — продажи в Северной Америке (миллионы долларов)\n",
    "EU_sales — продажи в Европе (миллионы долларов)\n",
    "JP_sales — продажи в Японии (миллионы долларов)\n",
    "Other_sales — продажи в других странах (миллионы долларов)\n",
    "Critic_Score — оценка критиков (максимум 100)\n",
    "User_Score — оценка пользователей (максимум 10)\n",
    "Rating — рейтинг от организации ESRB (англ. Entertainment Software Rating Board). Эта ассоциация определяет рейтинг компьютерных игр и присваивает им подходящую возрастную категорию."
   ]
  },
  {
   "cell_type": "markdown",
   "metadata": {},
   "source": [
    "## Открытие файла с данными"
   ]
  },
  {
   "cell_type": "code",
   "execution_count": 2,
   "metadata": {},
   "outputs": [],
   "source": [
    "import pandas as pd\n",
    "import numpy as np\n",
    "import matplotlib.pyplot as plt\n",
    "import datetime\n",
    "import csv\n",
    "import seaborn as sns\n",
    "import scipy\n",
    "from scipy.stats import levene\n",
    "from collections import Counter"
   ]
  },
  {
   "cell_type": "code",
   "execution_count": 3,
   "metadata": {
    "scrolled": false
   },
   "outputs": [
    {
     "data": {
      "text/html": [
       "<div>\n",
       "<style scoped>\n",
       "    .dataframe tbody tr th:only-of-type {\n",
       "        vertical-align: middle;\n",
       "    }\n",
       "\n",
       "    .dataframe tbody tr th {\n",
       "        vertical-align: top;\n",
       "    }\n",
       "\n",
       "    .dataframe thead th {\n",
       "        text-align: right;\n",
       "    }\n",
       "</style>\n",
       "<table border=\"1\" class=\"dataframe\">\n",
       "  <thead>\n",
       "    <tr style=\"text-align: right;\">\n",
       "      <th></th>\n",
       "      <th>Name</th>\n",
       "      <th>Platform</th>\n",
       "      <th>Year_of_Release</th>\n",
       "      <th>Genre</th>\n",
       "      <th>NA_sales</th>\n",
       "      <th>EU_sales</th>\n",
       "      <th>JP_sales</th>\n",
       "      <th>Other_sales</th>\n",
       "      <th>Critic_Score</th>\n",
       "      <th>User_Score</th>\n",
       "      <th>Rating</th>\n",
       "    </tr>\n",
       "  </thead>\n",
       "  <tbody>\n",
       "    <tr>\n",
       "      <th>0</th>\n",
       "      <td>Wii Sports</td>\n",
       "      <td>Wii</td>\n",
       "      <td>2006.0</td>\n",
       "      <td>Sports</td>\n",
       "      <td>41.36</td>\n",
       "      <td>28.96</td>\n",
       "      <td>3.77</td>\n",
       "      <td>8.45</td>\n",
       "      <td>76.0</td>\n",
       "      <td>8</td>\n",
       "      <td>E</td>\n",
       "    </tr>\n",
       "    <tr>\n",
       "      <th>1</th>\n",
       "      <td>Super Mario Bros.</td>\n",
       "      <td>NES</td>\n",
       "      <td>1985.0</td>\n",
       "      <td>Platform</td>\n",
       "      <td>29.08</td>\n",
       "      <td>3.58</td>\n",
       "      <td>6.81</td>\n",
       "      <td>0.77</td>\n",
       "      <td>NaN</td>\n",
       "      <td>NaN</td>\n",
       "      <td>NaN</td>\n",
       "    </tr>\n",
       "    <tr>\n",
       "      <th>2</th>\n",
       "      <td>Mario Kart Wii</td>\n",
       "      <td>Wii</td>\n",
       "      <td>2008.0</td>\n",
       "      <td>Racing</td>\n",
       "      <td>15.68</td>\n",
       "      <td>12.76</td>\n",
       "      <td>3.79</td>\n",
       "      <td>3.29</td>\n",
       "      <td>82.0</td>\n",
       "      <td>8.3</td>\n",
       "      <td>E</td>\n",
       "    </tr>\n",
       "    <tr>\n",
       "      <th>3</th>\n",
       "      <td>Wii Sports Resort</td>\n",
       "      <td>Wii</td>\n",
       "      <td>2009.0</td>\n",
       "      <td>Sports</td>\n",
       "      <td>15.61</td>\n",
       "      <td>10.93</td>\n",
       "      <td>3.28</td>\n",
       "      <td>2.95</td>\n",
       "      <td>80.0</td>\n",
       "      <td>8</td>\n",
       "      <td>E</td>\n",
       "    </tr>\n",
       "    <tr>\n",
       "      <th>4</th>\n",
       "      <td>Pokemon Red/Pokemon Blue</td>\n",
       "      <td>GB</td>\n",
       "      <td>1996.0</td>\n",
       "      <td>Role-Playing</td>\n",
       "      <td>11.27</td>\n",
       "      <td>8.89</td>\n",
       "      <td>10.22</td>\n",
       "      <td>1.00</td>\n",
       "      <td>NaN</td>\n",
       "      <td>NaN</td>\n",
       "      <td>NaN</td>\n",
       "    </tr>\n",
       "    <tr>\n",
       "      <th>...</th>\n",
       "      <td>...</td>\n",
       "      <td>...</td>\n",
       "      <td>...</td>\n",
       "      <td>...</td>\n",
       "      <td>...</td>\n",
       "      <td>...</td>\n",
       "      <td>...</td>\n",
       "      <td>...</td>\n",
       "      <td>...</td>\n",
       "      <td>...</td>\n",
       "      <td>...</td>\n",
       "    </tr>\n",
       "    <tr>\n",
       "      <th>16710</th>\n",
       "      <td>Samurai Warriors: Sanada Maru</td>\n",
       "      <td>PS3</td>\n",
       "      <td>2016.0</td>\n",
       "      <td>Action</td>\n",
       "      <td>0.00</td>\n",
       "      <td>0.00</td>\n",
       "      <td>0.01</td>\n",
       "      <td>0.00</td>\n",
       "      <td>NaN</td>\n",
       "      <td>NaN</td>\n",
       "      <td>NaN</td>\n",
       "    </tr>\n",
       "    <tr>\n",
       "      <th>16711</th>\n",
       "      <td>LMA Manager 2007</td>\n",
       "      <td>X360</td>\n",
       "      <td>2006.0</td>\n",
       "      <td>Sports</td>\n",
       "      <td>0.00</td>\n",
       "      <td>0.01</td>\n",
       "      <td>0.00</td>\n",
       "      <td>0.00</td>\n",
       "      <td>NaN</td>\n",
       "      <td>NaN</td>\n",
       "      <td>NaN</td>\n",
       "    </tr>\n",
       "    <tr>\n",
       "      <th>16712</th>\n",
       "      <td>Haitaka no Psychedelica</td>\n",
       "      <td>PSV</td>\n",
       "      <td>2016.0</td>\n",
       "      <td>Adventure</td>\n",
       "      <td>0.00</td>\n",
       "      <td>0.00</td>\n",
       "      <td>0.01</td>\n",
       "      <td>0.00</td>\n",
       "      <td>NaN</td>\n",
       "      <td>NaN</td>\n",
       "      <td>NaN</td>\n",
       "    </tr>\n",
       "    <tr>\n",
       "      <th>16713</th>\n",
       "      <td>Spirits &amp; Spells</td>\n",
       "      <td>GBA</td>\n",
       "      <td>2003.0</td>\n",
       "      <td>Platform</td>\n",
       "      <td>0.01</td>\n",
       "      <td>0.00</td>\n",
       "      <td>0.00</td>\n",
       "      <td>0.00</td>\n",
       "      <td>NaN</td>\n",
       "      <td>NaN</td>\n",
       "      <td>NaN</td>\n",
       "    </tr>\n",
       "    <tr>\n",
       "      <th>16714</th>\n",
       "      <td>Winning Post 8 2016</td>\n",
       "      <td>PSV</td>\n",
       "      <td>2016.0</td>\n",
       "      <td>Simulation</td>\n",
       "      <td>0.00</td>\n",
       "      <td>0.00</td>\n",
       "      <td>0.01</td>\n",
       "      <td>0.00</td>\n",
       "      <td>NaN</td>\n",
       "      <td>NaN</td>\n",
       "      <td>NaN</td>\n",
       "    </tr>\n",
       "  </tbody>\n",
       "</table>\n",
       "<p>16715 rows × 11 columns</p>\n",
       "</div>"
      ],
      "text/plain": [
       "                                Name Platform  Year_of_Release         Genre  \\\n",
       "0                         Wii Sports      Wii           2006.0        Sports   \n",
       "1                  Super Mario Bros.      NES           1985.0      Platform   \n",
       "2                     Mario Kart Wii      Wii           2008.0        Racing   \n",
       "3                  Wii Sports Resort      Wii           2009.0        Sports   \n",
       "4           Pokemon Red/Pokemon Blue       GB           1996.0  Role-Playing   \n",
       "...                              ...      ...              ...           ...   \n",
       "16710  Samurai Warriors: Sanada Maru      PS3           2016.0        Action   \n",
       "16711               LMA Manager 2007     X360           2006.0        Sports   \n",
       "16712        Haitaka no Psychedelica      PSV           2016.0     Adventure   \n",
       "16713               Spirits & Spells      GBA           2003.0      Platform   \n",
       "16714            Winning Post 8 2016      PSV           2016.0    Simulation   \n",
       "\n",
       "       NA_sales  EU_sales  JP_sales  Other_sales  Critic_Score User_Score  \\\n",
       "0         41.36     28.96      3.77         8.45          76.0          8   \n",
       "1         29.08      3.58      6.81         0.77           NaN        NaN   \n",
       "2         15.68     12.76      3.79         3.29          82.0        8.3   \n",
       "3         15.61     10.93      3.28         2.95          80.0          8   \n",
       "4         11.27      8.89     10.22         1.00           NaN        NaN   \n",
       "...         ...       ...       ...          ...           ...        ...   \n",
       "16710      0.00      0.00      0.01         0.00           NaN        NaN   \n",
       "16711      0.00      0.01      0.00         0.00           NaN        NaN   \n",
       "16712      0.00      0.00      0.01         0.00           NaN        NaN   \n",
       "16713      0.01      0.00      0.00         0.00           NaN        NaN   \n",
       "16714      0.00      0.00      0.01         0.00           NaN        NaN   \n",
       "\n",
       "      Rating  \n",
       "0          E  \n",
       "1        NaN  \n",
       "2          E  \n",
       "3          E  \n",
       "4        NaN  \n",
       "...      ...  \n",
       "16710    NaN  \n",
       "16711    NaN  \n",
       "16712    NaN  \n",
       "16713    NaN  \n",
       "16714    NaN  \n",
       "\n",
       "[16715 rows x 11 columns]"
      ]
     },
     "metadata": {},
     "output_type": "display_data"
    }
   ],
   "source": [
    "\n",
    "data = pd.read_csv('/datasets/games.csv', delimiter=',')\n",
    "\n",
    "display(data)"
   ]
  },
  {
   "cell_type": "code",
   "execution_count": 4,
   "metadata": {},
   "outputs": [
    {
     "data": {
      "text/html": [
       "<div>\n",
       "<style scoped>\n",
       "    .dataframe tbody tr th:only-of-type {\n",
       "        vertical-align: middle;\n",
       "    }\n",
       "\n",
       "    .dataframe tbody tr th {\n",
       "        vertical-align: top;\n",
       "    }\n",
       "\n",
       "    .dataframe thead th {\n",
       "        text-align: right;\n",
       "    }\n",
       "</style>\n",
       "<table border=\"1\" class=\"dataframe\">\n",
       "  <thead>\n",
       "    <tr style=\"text-align: right;\">\n",
       "      <th></th>\n",
       "      <th>Year_of_Release</th>\n",
       "      <th>NA_sales</th>\n",
       "      <th>EU_sales</th>\n",
       "      <th>JP_sales</th>\n",
       "      <th>Other_sales</th>\n",
       "      <th>Critic_Score</th>\n",
       "    </tr>\n",
       "  </thead>\n",
       "  <tbody>\n",
       "    <tr>\n",
       "      <th>count</th>\n",
       "      <td>16446.000000</td>\n",
       "      <td>16715.000000</td>\n",
       "      <td>16715.000000</td>\n",
       "      <td>16715.000000</td>\n",
       "      <td>16715.000000</td>\n",
       "      <td>8137.000000</td>\n",
       "    </tr>\n",
       "    <tr>\n",
       "      <th>mean</th>\n",
       "      <td>2006.484616</td>\n",
       "      <td>0.263377</td>\n",
       "      <td>0.145060</td>\n",
       "      <td>0.077617</td>\n",
       "      <td>0.047342</td>\n",
       "      <td>68.967679</td>\n",
       "    </tr>\n",
       "    <tr>\n",
       "      <th>std</th>\n",
       "      <td>5.877050</td>\n",
       "      <td>0.813604</td>\n",
       "      <td>0.503339</td>\n",
       "      <td>0.308853</td>\n",
       "      <td>0.186731</td>\n",
       "      <td>13.938165</td>\n",
       "    </tr>\n",
       "    <tr>\n",
       "      <th>min</th>\n",
       "      <td>1980.000000</td>\n",
       "      <td>0.000000</td>\n",
       "      <td>0.000000</td>\n",
       "      <td>0.000000</td>\n",
       "      <td>0.000000</td>\n",
       "      <td>13.000000</td>\n",
       "    </tr>\n",
       "    <tr>\n",
       "      <th>25%</th>\n",
       "      <td>2003.000000</td>\n",
       "      <td>0.000000</td>\n",
       "      <td>0.000000</td>\n",
       "      <td>0.000000</td>\n",
       "      <td>0.000000</td>\n",
       "      <td>60.000000</td>\n",
       "    </tr>\n",
       "    <tr>\n",
       "      <th>50%</th>\n",
       "      <td>2007.000000</td>\n",
       "      <td>0.080000</td>\n",
       "      <td>0.020000</td>\n",
       "      <td>0.000000</td>\n",
       "      <td>0.010000</td>\n",
       "      <td>71.000000</td>\n",
       "    </tr>\n",
       "    <tr>\n",
       "      <th>75%</th>\n",
       "      <td>2010.000000</td>\n",
       "      <td>0.240000</td>\n",
       "      <td>0.110000</td>\n",
       "      <td>0.040000</td>\n",
       "      <td>0.030000</td>\n",
       "      <td>79.000000</td>\n",
       "    </tr>\n",
       "    <tr>\n",
       "      <th>max</th>\n",
       "      <td>2016.000000</td>\n",
       "      <td>41.360000</td>\n",
       "      <td>28.960000</td>\n",
       "      <td>10.220000</td>\n",
       "      <td>10.570000</td>\n",
       "      <td>98.000000</td>\n",
       "    </tr>\n",
       "  </tbody>\n",
       "</table>\n",
       "</div>"
      ],
      "text/plain": [
       "       Year_of_Release      NA_sales      EU_sales      JP_sales  \\\n",
       "count     16446.000000  16715.000000  16715.000000  16715.000000   \n",
       "mean       2006.484616      0.263377      0.145060      0.077617   \n",
       "std           5.877050      0.813604      0.503339      0.308853   \n",
       "min        1980.000000      0.000000      0.000000      0.000000   \n",
       "25%        2003.000000      0.000000      0.000000      0.000000   \n",
       "50%        2007.000000      0.080000      0.020000      0.000000   \n",
       "75%        2010.000000      0.240000      0.110000      0.040000   \n",
       "max        2016.000000     41.360000     28.960000     10.220000   \n",
       "\n",
       "        Other_sales  Critic_Score  \n",
       "count  16715.000000   8137.000000  \n",
       "mean       0.047342     68.967679  \n",
       "std        0.186731     13.938165  \n",
       "min        0.000000     13.000000  \n",
       "25%        0.000000     60.000000  \n",
       "50%        0.010000     71.000000  \n",
       "75%        0.030000     79.000000  \n",
       "max       10.570000     98.000000  "
      ]
     },
     "execution_count": 4,
     "metadata": {},
     "output_type": "execute_result"
    }
   ],
   "source": [
    "data.describe()"
   ]
  },
  {
   "cell_type": "markdown",
   "metadata": {},
   "source": [
    "## Подготовка данных "
   ]
  },
  {
   "cell_type": "markdown",
   "metadata": {},
   "source": [
    "### Приведение названия столбцов к нижнему регистру"
   ]
  },
  {
   "cell_type": "code",
   "execution_count": 5,
   "metadata": {
    "scrolled": true
   },
   "outputs": [
    {
     "name": "stdout",
     "output_type": "stream",
     "text": [
      "<class 'pandas.core.frame.DataFrame'>\n",
      "RangeIndex: 16715 entries, 0 to 16714\n",
      "Data columns (total 11 columns):\n",
      " #   Column           Non-Null Count  Dtype  \n",
      "---  ------           --------------  -----  \n",
      " 0   Name             16713 non-null  object \n",
      " 1   Platform         16715 non-null  object \n",
      " 2   Year_of_Release  16446 non-null  float64\n",
      " 3   Genre            16713 non-null  object \n",
      " 4   NA_sales         16715 non-null  float64\n",
      " 5   EU_sales         16715 non-null  float64\n",
      " 6   JP_sales         16715 non-null  float64\n",
      " 7   Other_sales      16715 non-null  float64\n",
      " 8   Critic_Score     8137 non-null   float64\n",
      " 9   User_Score       10014 non-null  object \n",
      " 10  Rating           9949 non-null   object \n",
      "dtypes: float64(6), object(5)\n",
      "memory usage: 1.4+ MB\n"
     ]
    }
   ],
   "source": [
    "data.info()"
   ]
  },
  {
   "cell_type": "code",
   "execution_count": 6,
   "metadata": {},
   "outputs": [],
   "source": [
    "data.columns = map(str.lower, data.columns)"
   ]
  },
  {
   "cell_type": "code",
   "execution_count": 7,
   "metadata": {
    "scrolled": true
   },
   "outputs": [
    {
     "data": {
      "text/html": [
       "<div>\n",
       "<style scoped>\n",
       "    .dataframe tbody tr th:only-of-type {\n",
       "        vertical-align: middle;\n",
       "    }\n",
       "\n",
       "    .dataframe tbody tr th {\n",
       "        vertical-align: top;\n",
       "    }\n",
       "\n",
       "    .dataframe thead th {\n",
       "        text-align: right;\n",
       "    }\n",
       "</style>\n",
       "<table border=\"1\" class=\"dataframe\">\n",
       "  <thead>\n",
       "    <tr style=\"text-align: right;\">\n",
       "      <th></th>\n",
       "      <th>name</th>\n",
       "      <th>platform</th>\n",
       "      <th>year_of_release</th>\n",
       "      <th>genre</th>\n",
       "      <th>na_sales</th>\n",
       "      <th>eu_sales</th>\n",
       "      <th>jp_sales</th>\n",
       "      <th>other_sales</th>\n",
       "      <th>critic_score</th>\n",
       "      <th>user_score</th>\n",
       "      <th>rating</th>\n",
       "    </tr>\n",
       "  </thead>\n",
       "  <tbody>\n",
       "    <tr>\n",
       "      <th>0</th>\n",
       "      <td>Wii Sports</td>\n",
       "      <td>Wii</td>\n",
       "      <td>2006.0</td>\n",
       "      <td>Sports</td>\n",
       "      <td>41.36</td>\n",
       "      <td>28.96</td>\n",
       "      <td>3.77</td>\n",
       "      <td>8.45</td>\n",
       "      <td>76.0</td>\n",
       "      <td>8</td>\n",
       "      <td>E</td>\n",
       "    </tr>\n",
       "    <tr>\n",
       "      <th>1</th>\n",
       "      <td>Super Mario Bros.</td>\n",
       "      <td>NES</td>\n",
       "      <td>1985.0</td>\n",
       "      <td>Platform</td>\n",
       "      <td>29.08</td>\n",
       "      <td>3.58</td>\n",
       "      <td>6.81</td>\n",
       "      <td>0.77</td>\n",
       "      <td>NaN</td>\n",
       "      <td>NaN</td>\n",
       "      <td>NaN</td>\n",
       "    </tr>\n",
       "    <tr>\n",
       "      <th>2</th>\n",
       "      <td>Mario Kart Wii</td>\n",
       "      <td>Wii</td>\n",
       "      <td>2008.0</td>\n",
       "      <td>Racing</td>\n",
       "      <td>15.68</td>\n",
       "      <td>12.76</td>\n",
       "      <td>3.79</td>\n",
       "      <td>3.29</td>\n",
       "      <td>82.0</td>\n",
       "      <td>8.3</td>\n",
       "      <td>E</td>\n",
       "    </tr>\n",
       "    <tr>\n",
       "      <th>3</th>\n",
       "      <td>Wii Sports Resort</td>\n",
       "      <td>Wii</td>\n",
       "      <td>2009.0</td>\n",
       "      <td>Sports</td>\n",
       "      <td>15.61</td>\n",
       "      <td>10.93</td>\n",
       "      <td>3.28</td>\n",
       "      <td>2.95</td>\n",
       "      <td>80.0</td>\n",
       "      <td>8</td>\n",
       "      <td>E</td>\n",
       "    </tr>\n",
       "    <tr>\n",
       "      <th>4</th>\n",
       "      <td>Pokemon Red/Pokemon Blue</td>\n",
       "      <td>GB</td>\n",
       "      <td>1996.0</td>\n",
       "      <td>Role-Playing</td>\n",
       "      <td>11.27</td>\n",
       "      <td>8.89</td>\n",
       "      <td>10.22</td>\n",
       "      <td>1.00</td>\n",
       "      <td>NaN</td>\n",
       "      <td>NaN</td>\n",
       "      <td>NaN</td>\n",
       "    </tr>\n",
       "    <tr>\n",
       "      <th>5</th>\n",
       "      <td>Tetris</td>\n",
       "      <td>GB</td>\n",
       "      <td>1989.0</td>\n",
       "      <td>Puzzle</td>\n",
       "      <td>23.20</td>\n",
       "      <td>2.26</td>\n",
       "      <td>4.22</td>\n",
       "      <td>0.58</td>\n",
       "      <td>NaN</td>\n",
       "      <td>NaN</td>\n",
       "      <td>NaN</td>\n",
       "    </tr>\n",
       "    <tr>\n",
       "      <th>6</th>\n",
       "      <td>New Super Mario Bros.</td>\n",
       "      <td>DS</td>\n",
       "      <td>2006.0</td>\n",
       "      <td>Platform</td>\n",
       "      <td>11.28</td>\n",
       "      <td>9.14</td>\n",
       "      <td>6.50</td>\n",
       "      <td>2.88</td>\n",
       "      <td>89.0</td>\n",
       "      <td>8.5</td>\n",
       "      <td>E</td>\n",
       "    </tr>\n",
       "    <tr>\n",
       "      <th>7</th>\n",
       "      <td>Wii Play</td>\n",
       "      <td>Wii</td>\n",
       "      <td>2006.0</td>\n",
       "      <td>Misc</td>\n",
       "      <td>13.96</td>\n",
       "      <td>9.18</td>\n",
       "      <td>2.93</td>\n",
       "      <td>2.84</td>\n",
       "      <td>58.0</td>\n",
       "      <td>6.6</td>\n",
       "      <td>E</td>\n",
       "    </tr>\n",
       "    <tr>\n",
       "      <th>8</th>\n",
       "      <td>New Super Mario Bros. Wii</td>\n",
       "      <td>Wii</td>\n",
       "      <td>2009.0</td>\n",
       "      <td>Platform</td>\n",
       "      <td>14.44</td>\n",
       "      <td>6.94</td>\n",
       "      <td>4.70</td>\n",
       "      <td>2.24</td>\n",
       "      <td>87.0</td>\n",
       "      <td>8.4</td>\n",
       "      <td>E</td>\n",
       "    </tr>\n",
       "    <tr>\n",
       "      <th>9</th>\n",
       "      <td>Duck Hunt</td>\n",
       "      <td>NES</td>\n",
       "      <td>1984.0</td>\n",
       "      <td>Shooter</td>\n",
       "      <td>26.93</td>\n",
       "      <td>0.63</td>\n",
       "      <td>0.28</td>\n",
       "      <td>0.47</td>\n",
       "      <td>NaN</td>\n",
       "      <td>NaN</td>\n",
       "      <td>NaN</td>\n",
       "    </tr>\n",
       "    <tr>\n",
       "      <th>10</th>\n",
       "      <td>Nintendogs</td>\n",
       "      <td>DS</td>\n",
       "      <td>2005.0</td>\n",
       "      <td>Simulation</td>\n",
       "      <td>9.05</td>\n",
       "      <td>10.95</td>\n",
       "      <td>1.93</td>\n",
       "      <td>2.74</td>\n",
       "      <td>NaN</td>\n",
       "      <td>NaN</td>\n",
       "      <td>NaN</td>\n",
       "    </tr>\n",
       "    <tr>\n",
       "      <th>11</th>\n",
       "      <td>Mario Kart DS</td>\n",
       "      <td>DS</td>\n",
       "      <td>2005.0</td>\n",
       "      <td>Racing</td>\n",
       "      <td>9.71</td>\n",
       "      <td>7.47</td>\n",
       "      <td>4.13</td>\n",
       "      <td>1.90</td>\n",
       "      <td>91.0</td>\n",
       "      <td>8.6</td>\n",
       "      <td>E</td>\n",
       "    </tr>\n",
       "    <tr>\n",
       "      <th>12</th>\n",
       "      <td>Pokemon Gold/Pokemon Silver</td>\n",
       "      <td>GB</td>\n",
       "      <td>1999.0</td>\n",
       "      <td>Role-Playing</td>\n",
       "      <td>9.00</td>\n",
       "      <td>6.18</td>\n",
       "      <td>7.20</td>\n",
       "      <td>0.71</td>\n",
       "      <td>NaN</td>\n",
       "      <td>NaN</td>\n",
       "      <td>NaN</td>\n",
       "    </tr>\n",
       "    <tr>\n",
       "      <th>13</th>\n",
       "      <td>Wii Fit</td>\n",
       "      <td>Wii</td>\n",
       "      <td>2007.0</td>\n",
       "      <td>Sports</td>\n",
       "      <td>8.92</td>\n",
       "      <td>8.03</td>\n",
       "      <td>3.60</td>\n",
       "      <td>2.15</td>\n",
       "      <td>80.0</td>\n",
       "      <td>7.7</td>\n",
       "      <td>E</td>\n",
       "    </tr>\n",
       "    <tr>\n",
       "      <th>14</th>\n",
       "      <td>Kinect Adventures!</td>\n",
       "      <td>X360</td>\n",
       "      <td>2010.0</td>\n",
       "      <td>Misc</td>\n",
       "      <td>15.00</td>\n",
       "      <td>4.89</td>\n",
       "      <td>0.24</td>\n",
       "      <td>1.69</td>\n",
       "      <td>61.0</td>\n",
       "      <td>6.3</td>\n",
       "      <td>E</td>\n",
       "    </tr>\n",
       "    <tr>\n",
       "      <th>15</th>\n",
       "      <td>Wii Fit Plus</td>\n",
       "      <td>Wii</td>\n",
       "      <td>2009.0</td>\n",
       "      <td>Sports</td>\n",
       "      <td>9.01</td>\n",
       "      <td>8.49</td>\n",
       "      <td>2.53</td>\n",
       "      <td>1.77</td>\n",
       "      <td>80.0</td>\n",
       "      <td>7.4</td>\n",
       "      <td>E</td>\n",
       "    </tr>\n",
       "    <tr>\n",
       "      <th>16</th>\n",
       "      <td>Grand Theft Auto V</td>\n",
       "      <td>PS3</td>\n",
       "      <td>2013.0</td>\n",
       "      <td>Action</td>\n",
       "      <td>7.02</td>\n",
       "      <td>9.09</td>\n",
       "      <td>0.98</td>\n",
       "      <td>3.96</td>\n",
       "      <td>97.0</td>\n",
       "      <td>8.2</td>\n",
       "      <td>M</td>\n",
       "    </tr>\n",
       "    <tr>\n",
       "      <th>17</th>\n",
       "      <td>Grand Theft Auto: San Andreas</td>\n",
       "      <td>PS2</td>\n",
       "      <td>2004.0</td>\n",
       "      <td>Action</td>\n",
       "      <td>9.43</td>\n",
       "      <td>0.40</td>\n",
       "      <td>0.41</td>\n",
       "      <td>10.57</td>\n",
       "      <td>95.0</td>\n",
       "      <td>9</td>\n",
       "      <td>M</td>\n",
       "    </tr>\n",
       "    <tr>\n",
       "      <th>18</th>\n",
       "      <td>Super Mario World</td>\n",
       "      <td>SNES</td>\n",
       "      <td>1990.0</td>\n",
       "      <td>Platform</td>\n",
       "      <td>12.78</td>\n",
       "      <td>3.75</td>\n",
       "      <td>3.54</td>\n",
       "      <td>0.55</td>\n",
       "      <td>NaN</td>\n",
       "      <td>NaN</td>\n",
       "      <td>NaN</td>\n",
       "    </tr>\n",
       "    <tr>\n",
       "      <th>19</th>\n",
       "      <td>Brain Age: Train Your Brain in Minutes a Day</td>\n",
       "      <td>DS</td>\n",
       "      <td>2005.0</td>\n",
       "      <td>Misc</td>\n",
       "      <td>4.74</td>\n",
       "      <td>9.20</td>\n",
       "      <td>4.16</td>\n",
       "      <td>2.04</td>\n",
       "      <td>77.0</td>\n",
       "      <td>7.9</td>\n",
       "      <td>E</td>\n",
       "    </tr>\n",
       "  </tbody>\n",
       "</table>\n",
       "</div>"
      ],
      "text/plain": [
       "                                            name platform  year_of_release  \\\n",
       "0                                     Wii Sports      Wii           2006.0   \n",
       "1                              Super Mario Bros.      NES           1985.0   \n",
       "2                                 Mario Kart Wii      Wii           2008.0   \n",
       "3                              Wii Sports Resort      Wii           2009.0   \n",
       "4                       Pokemon Red/Pokemon Blue       GB           1996.0   \n",
       "5                                         Tetris       GB           1989.0   \n",
       "6                          New Super Mario Bros.       DS           2006.0   \n",
       "7                                       Wii Play      Wii           2006.0   \n",
       "8                      New Super Mario Bros. Wii      Wii           2009.0   \n",
       "9                                      Duck Hunt      NES           1984.0   \n",
       "10                                    Nintendogs       DS           2005.0   \n",
       "11                                 Mario Kart DS       DS           2005.0   \n",
       "12                   Pokemon Gold/Pokemon Silver       GB           1999.0   \n",
       "13                                       Wii Fit      Wii           2007.0   \n",
       "14                            Kinect Adventures!     X360           2010.0   \n",
       "15                                  Wii Fit Plus      Wii           2009.0   \n",
       "16                            Grand Theft Auto V      PS3           2013.0   \n",
       "17                 Grand Theft Auto: San Andreas      PS2           2004.0   \n",
       "18                             Super Mario World     SNES           1990.0   \n",
       "19  Brain Age: Train Your Brain in Minutes a Day       DS           2005.0   \n",
       "\n",
       "           genre  na_sales  eu_sales  jp_sales  other_sales  critic_score  \\\n",
       "0         Sports     41.36     28.96      3.77         8.45          76.0   \n",
       "1       Platform     29.08      3.58      6.81         0.77           NaN   \n",
       "2         Racing     15.68     12.76      3.79         3.29          82.0   \n",
       "3         Sports     15.61     10.93      3.28         2.95          80.0   \n",
       "4   Role-Playing     11.27      8.89     10.22         1.00           NaN   \n",
       "5         Puzzle     23.20      2.26      4.22         0.58           NaN   \n",
       "6       Platform     11.28      9.14      6.50         2.88          89.0   \n",
       "7           Misc     13.96      9.18      2.93         2.84          58.0   \n",
       "8       Platform     14.44      6.94      4.70         2.24          87.0   \n",
       "9        Shooter     26.93      0.63      0.28         0.47           NaN   \n",
       "10    Simulation      9.05     10.95      1.93         2.74           NaN   \n",
       "11        Racing      9.71      7.47      4.13         1.90          91.0   \n",
       "12  Role-Playing      9.00      6.18      7.20         0.71           NaN   \n",
       "13        Sports      8.92      8.03      3.60         2.15          80.0   \n",
       "14          Misc     15.00      4.89      0.24         1.69          61.0   \n",
       "15        Sports      9.01      8.49      2.53         1.77          80.0   \n",
       "16        Action      7.02      9.09      0.98         3.96          97.0   \n",
       "17        Action      9.43      0.40      0.41        10.57          95.0   \n",
       "18      Platform     12.78      3.75      3.54         0.55           NaN   \n",
       "19          Misc      4.74      9.20      4.16         2.04          77.0   \n",
       "\n",
       "   user_score rating  \n",
       "0           8      E  \n",
       "1         NaN    NaN  \n",
       "2         8.3      E  \n",
       "3           8      E  \n",
       "4         NaN    NaN  \n",
       "5         NaN    NaN  \n",
       "6         8.5      E  \n",
       "7         6.6      E  \n",
       "8         8.4      E  \n",
       "9         NaN    NaN  \n",
       "10        NaN    NaN  \n",
       "11        8.6      E  \n",
       "12        NaN    NaN  \n",
       "13        7.7      E  \n",
       "14        6.3      E  \n",
       "15        7.4      E  \n",
       "16        8.2      M  \n",
       "17          9      M  \n",
       "18        NaN    NaN  \n",
       "19        7.9      E  "
      ]
     },
     "metadata": {},
     "output_type": "display_data"
    }
   ],
   "source": [
    "display(data.head(20))"
   ]
  },
  {
   "cell_type": "markdown",
   "metadata": {},
   "source": [
    "### Преобразование данных в соответствующие типы"
   ]
  },
  {
   "cell_type": "markdown",
   "metadata": {},
   "source": [
    "Предварительно проверим уникальные значения параметров"
   ]
  },
  {
   "cell_type": "code",
   "execution_count": 8,
   "metadata": {},
   "outputs": [
    {
     "name": "stdout",
     "output_type": "stream",
     "text": [
      "['Wii Sports' 'Super Mario Bros.' 'Mario Kart Wii' ...\n",
      " 'Woody Woodpecker in Crazy Castle 5' 'LMA Manager 2007'\n",
      " 'Haitaka no Psychedelica']\n",
      "['Wii' 'NES' 'GB' 'DS' 'X360' 'PS3' 'PS2' 'SNES' 'GBA' 'PS4' '3DS' 'N64'\n",
      " 'PS' 'XB' 'PC' '2600' 'PSP' 'XOne' 'WiiU' 'GC' 'GEN' 'DC' 'PSV' 'SAT'\n",
      " 'SCD' 'WS' 'NG' 'TG16' '3DO' 'GG' 'PCFX']\n",
      "[2006. 1985. 2008. 2009. 1996. 1989. 1984. 2005. 1999. 2007. 2010. 2013.\n",
      " 2004. 1990. 1988. 2002. 2001. 2011. 1998. 2015. 2012. 2014. 1992. 1997.\n",
      " 1993. 1994. 1982. 2016. 2003. 1986. 2000.   nan 1995. 1991. 1981. 1987.\n",
      " 1980. 1983.]\n",
      "['Sports' 'Platform' 'Racing' 'Role-Playing' 'Puzzle' 'Misc' 'Shooter'\n",
      " 'Simulation' 'Action' 'Fighting' 'Adventure' 'Strategy' nan]\n",
      "[4.136e+01 2.908e+01 1.568e+01 1.561e+01 1.127e+01 2.320e+01 1.128e+01\n",
      " 1.396e+01 1.444e+01 2.693e+01 9.050e+00 9.710e+00 9.000e+00 8.920e+00\n",
      " 1.500e+01 9.010e+00 7.020e+00 9.430e+00 1.278e+01 4.740e+00 6.380e+00\n",
      " 1.083e+01 9.540e+00 9.660e+00 8.410e+00 6.060e+00 3.430e+00 5.510e+00\n",
      " 6.850e+00 9.040e+00 5.890e+00 6.030e+00 9.700e+00 5.280e+00 4.990e+00\n",
      " 8.250e+00 8.520e+00 5.540e+00 6.990e+00 6.620e+00 5.030e+00 5.990e+00\n",
      " 3.960e+00 2.500e+00 7.970e+00 6.910e+00 4.340e+00 4.350e+00 3.010e+00\n",
      " 6.160e+00 6.760e+00 4.020e+00 4.890e+00 2.960e+00 4.760e+00 5.010e+00\n",
      " 6.730e+00 5.950e+00 3.660e+00 5.550e+00 7.040e+00 6.650e+00 3.880e+00\n",
      " 5.800e+00 4.100e+00 5.930e+00 4.360e+00 5.700e+00 2.030e+00 4.400e+00\n",
      " 5.050e+00 3.540e+00 1.120e+00 6.820e+00 1.750e+00 3.740e+00 1.060e+00\n",
      " 2.790e+00 2.910e+00 9.900e-01 2.570e+00 2.990e+00 2.280e+00 7.280e+00\n",
      " 2.760e+00 2.900e+00 2.810e+00 6.600e-01 3.780e+00 3.270e+00 3.560e+00\n",
      " 5.390e+00 4.590e+00 4.810e+00 4.460e+00 3.480e+00 2.850e+00 2.530e+00\n",
      " 2.980e+00 3.680e+00 3.150e+00 4.410e+00 4.120e+00 2.710e+00 2.930e+00\n",
      " 3.230e+00 4.050e+00 4.150e+00 2.770e+00 3.450e+00 3.110e+00 8.400e-01\n",
      " 1.660e+00 7.800e-01 2.640e+00 3.170e+00 4.980e+00 2.550e+00 3.640e+00\n",
      " 3.700e+00 4.010e+00 2.470e+00 8.000e-02 3.920e+00 8.000e-01 2.450e+00\n",
      " 4.470e+00 3.180e+00 2.630e+00 1.880e+00 2.410e+00 2.800e+00 6.300e-01\n",
      " 2.260e+00 2.490e+00 3.570e+00 3.070e+00 2.970e+00 2.950e+00 2.540e+00\n",
      " 3.280e+00 3.140e+00 4.700e-01 2.620e+00 3.210e+00 2.070e+00 2.730e+00\n",
      " 1.850e+00 2.180e+00 1.740e+00 3.020e+00 1.620e+00 3.130e+00 1.920e+00\n",
      " 3.330e+00 3.220e+00 2.300e+00 4.260e+00 9.700e-01 6.500e-01 1.210e+00\n",
      " 1.090e+00 2.100e+00 2.440e+00 1.980e+00 3.810e+00 3.590e+00 1.630e+00\n",
      " 1.960e+00 3.400e+00 6.100e-01 2.050e+00 1.700e+00 3.420e+00 3.360e+00\n",
      " 3.490e+00 3.050e+00 1.830e+00 2.310e+00 3.980e+00 0.000e+00 2.600e+00\n",
      " 1.910e+00 2.740e+00 2.830e+00 2.360e+00 1.730e+00 1.940e+00 2.290e+00\n",
      " 1.820e+00 2.420e+00 3.040e+00 1.800e+00 2.080e+00 1.870e+00 4.180e+00\n",
      " 3.190e+00 4.210e+00 3.630e+00 2.780e+00 2.000e-01 1.610e+00 1.540e+00\n",
      " 2.520e+00 2.660e+00 1.000e-01 2.820e+00 2.190e+00 1.560e+00 3.030e+00\n",
      " 2.200e+00 2.090e+00 2.110e+00 1.480e+00 4.000e+00 5.800e-01 2.510e+00\n",
      " 3.000e+00 2.240e+00 1.460e+00 1.410e+00 9.200e-01 8.800e-01 1.280e+00\n",
      " 2.250e+00 3.380e+00 2.040e+00 3.790e+00 4.030e+00 1.650e+00 7.100e-01\n",
      " 1.420e+00 1.100e+00 2.320e+00 1.200e-01 2.350e+00 2.120e+00 1.400e+00\n",
      " 1.680e+00 1.130e+00 1.220e+00 2.670e+00 1.020e+00 1.190e+00 1.530e+00\n",
      " 2.150e+00 9.000e-01 1.970e+00 6.800e-01 1.160e+00 9.300e-01 1.440e+00\n",
      " 1.600e-01 2.130e+00 2.210e+00 1.780e+00 8.600e-01 1.350e+00 1.050e+00\n",
      " 2.230e+00 2.400e+00 1.370e+00 1.300e+00 1.950e+00 1.930e+00 1.330e+00\n",
      " 1.490e+00 1.580e+00 5.000e-02 6.000e-01 2.020e+00 2.380e+00 1.600e+00\n",
      " 2.010e+00 1.570e+00 1.230e+00 1.900e+00 2.140e+00 1.170e+00 2.270e+00\n",
      " 1.640e+00 5.900e-01 1.550e+00 4.600e-01 8.100e-01 1.450e+00 2.700e-01\n",
      " 1.470e+00 1.990e+00 1.500e+00 9.000e-02 2.610e+00 1.890e+00 5.000e-01\n",
      " 8.900e-01 9.500e-01 2.340e+00 7.200e-01 1.720e+00 1.180e+00 1.760e+00\n",
      " 7.300e-01 1.270e+00 2.060e+00 5.500e-01 1.520e+00 1.690e+00 2.170e+00\n",
      " 5.100e-01 1.000e+00 1.290e+00 1.380e+00 1.150e+00 1.670e+00 1.360e+00\n",
      " 1.010e+00 1.040e+00 1.840e+00 2.220e+00 7.900e-01 1.510e+00 1.070e+00\n",
      " 1.320e+00 1.590e+00 2.000e-02 2.900e-01 1.250e+00 2.560e+00 1.430e+00\n",
      " 1.200e+00 4.100e-01 2.800e-01 4.300e-01 6.900e-01 2.000e+00 7.600e-01\n",
      " 1.860e+00 4.800e-01 6.200e-01 1.310e+00 3.700e-01 1.500e-01 6.400e-01\n",
      " 2.600e-01 4.900e-01 1.110e+00 1.300e-01 1.810e+00 1.030e+00 1.260e+00\n",
      " 8.700e-01 7.700e-01 9.600e-01 1.390e+00 1.080e+00 8.500e-01 9.100e-01\n",
      " 3.000e-01 3.800e-01 9.400e-01 7.000e-02 1.340e+00 1.240e+00 3.400e-01\n",
      " 1.400e-01 1.000e-02 5.200e-01 8.200e-01 8.300e-01 1.100e-01 2.500e-01\n",
      " 1.770e+00 3.600e-01 7.500e-01 7.400e-01 1.800e-01 2.200e-01 5.300e-01\n",
      " 4.200e-01 3.200e-01 3.900e-01 2.400e-01 2.300e-01 6.000e-02 4.500e-01\n",
      " 7.000e-01 6.700e-01 3.500e-01 5.600e-01 1.140e+00 9.800e-01 5.700e-01\n",
      " 5.400e-01 4.000e-02 1.700e-01 4.400e-01 3.000e-02 3.300e-01 3.100e-01\n",
      " 4.000e-01 2.100e-01 1.900e-01]\n",
      "[2.896e+01 3.580e+00 1.276e+01 1.093e+01 8.890e+00 2.260e+00 9.140e+00\n",
      " 9.180e+00 6.940e+00 6.300e-01 1.095e+01 7.470e+00 6.180e+00 8.030e+00\n",
      " 4.890e+00 8.490e+00 9.090e+00 4.000e-01 3.750e+00 9.200e+00 4.460e+00\n",
      " 2.710e+00 3.440e+00 5.140e+00 5.490e+00 3.900e+00 5.350e+00 3.170e+00\n",
      " 5.090e+00 4.240e+00 5.040e+00 5.860e+00 3.680e+00 4.190e+00 5.730e+00\n",
      " 3.590e+00 4.510e+00 2.550e+00 4.020e+00 4.370e+00 6.310e+00 3.450e+00\n",
      " 2.810e+00 2.850e+00 3.490e+00 1.000e-02 3.350e+00 2.040e+00 3.070e+00\n",
      " 3.870e+00 3.000e+00 4.820e+00 3.640e+00 2.150e+00 3.690e+00 2.650e+00\n",
      " 2.560e+00 3.110e+00 3.140e+00 1.940e+00 1.950e+00 2.470e+00 2.280e+00\n",
      " 3.420e+00 3.630e+00 2.360e+00 1.710e+00 1.850e+00 2.790e+00 1.240e+00\n",
      " 6.120e+00 1.530e+00 3.470e+00 2.240e+00 5.010e+00 2.010e+00 1.720e+00\n",
      " 2.070e+00 6.420e+00 3.860e+00 4.500e-01 3.480e+00 1.890e+00 5.750e+00\n",
      " 2.170e+00 1.370e+00 2.350e+00 1.180e+00 2.110e+00 1.880e+00 2.830e+00\n",
      " 2.990e+00 2.890e+00 3.270e+00 2.220e+00 2.140e+00 1.450e+00 1.750e+00\n",
      " 1.040e+00 1.770e+00 3.020e+00 2.750e+00 2.160e+00 1.900e+00 2.590e+00\n",
      " 2.200e+00 4.300e+00 9.300e-01 2.530e+00 2.520e+00 1.790e+00 1.300e+00\n",
      " 2.600e+00 1.580e+00 1.200e+00 1.560e+00 1.340e+00 1.260e+00 8.300e-01\n",
      " 6.210e+00 2.800e+00 1.590e+00 1.730e+00 4.330e+00 1.830e+00 0.000e+00\n",
      " 2.180e+00 1.980e+00 1.470e+00 6.700e-01 1.550e+00 1.910e+00 6.900e-01\n",
      " 6.000e-01 1.930e+00 1.640e+00 5.500e-01 2.190e+00 1.110e+00 2.290e+00\n",
      " 2.500e+00 9.600e-01 1.210e+00 1.120e+00 7.700e-01 1.690e+00 1.080e+00\n",
      " 7.900e-01 2.370e+00 2.460e+00 2.600e-01 7.500e-01 1.250e+00 2.430e+00\n",
      " 9.800e-01 7.400e-01 2.230e+00 6.100e-01 2.450e+00 1.410e+00 1.800e+00\n",
      " 3.280e+00 1.160e+00 1.990e+00 1.380e+00 1.360e+00 1.170e+00 1.190e+00\n",
      " 9.900e-01 1.680e+00 2.000e+00 1.330e+00 1.570e+00 1.480e+00 2.100e+00\n",
      " 1.270e+00 1.970e+00 9.100e-01 1.390e+00 1.960e+00 2.400e-01 1.510e+00\n",
      " 1.400e-01 1.290e+00 2.390e+00 1.030e+00 5.000e-01 5.800e-01 1.310e+00\n",
      " 2.020e+00 1.320e+00 1.010e+00 2.270e+00 2.300e+00 1.820e+00 2.780e+00\n",
      " 4.400e-01 4.800e-01 2.700e-01 2.100e-01 2.480e+00 5.100e-01 1.520e+00\n",
      " 4.000e-02 2.800e-01 1.350e+00 8.700e-01 2.130e+00 1.130e+00 1.760e+00\n",
      " 7.600e-01 2.120e+00 6.600e-01 1.600e+00 1.440e+00 1.430e+00 1.700e+00\n",
      " 4.700e-01 1.870e+00 8.600e-01 7.300e-01 1.280e+00 8.100e-01 1.090e+00\n",
      " 6.800e-01 1.220e+00 1.400e+00 1.020e+00 1.490e+00 1.140e+00 4.900e-01\n",
      " 9.000e-01 3.800e-01 1.420e+00 9.500e-01 1.620e+00 7.100e-01 1.050e+00\n",
      " 9.200e-01 3.300e-01 3.000e-01 1.670e+00 1.000e+00 8.900e-01 1.000e-01\n",
      " 7.200e-01 5.900e-01 5.600e-01 1.600e-01 9.700e-01 6.200e-01 8.500e-01\n",
      " 9.400e-01 8.800e-01 8.400e-01 1.060e+00 2.000e-01 1.150e+00 8.000e-01\n",
      " 1.100e+00 7.000e-01 1.920e+00 3.200e-01 1.500e-01 5.300e-01 9.000e-02\n",
      " 1.460e+00 2.900e-01 2.200e-01 1.230e+00 7.000e-02 1.700e-01 5.400e-01\n",
      " 3.600e-01 3.100e-01 1.840e+00 5.200e-01 1.100e-01 6.400e-01 1.200e-01\n",
      " 2.050e+00 1.630e+00 8.200e-01 8.000e-02 5.700e-01 1.650e+00 1.900e-01\n",
      " 2.000e-02 4.300e-01 2.500e-01 1.500e+00 1.800e-01 3.900e-01 1.300e-01\n",
      " 1.070e+00 4.600e-01 4.100e-01 6.000e-02 3.000e-02 3.700e-01 5.000e-02\n",
      " 2.300e-01 6.500e-01 4.200e-01 3.400e-01 3.500e-01 7.800e-01]\n",
      "[3.770e+00 6.810e+00 3.790e+00 3.280e+00 1.022e+01 4.220e+00 6.500e+00\n",
      " 2.930e+00 4.700e+00 2.800e-01 1.930e+00 4.130e+00 7.200e+00 3.600e+00\n",
      " 2.400e-01 2.530e+00 9.800e-01 4.100e-01 3.540e+00 4.160e+00 6.040e+00\n",
      " 4.180e+00 3.840e+00 6.000e-02 4.700e-01 5.380e+00 5.320e+00 5.650e+00\n",
      " 1.870e+00 1.300e-01 3.120e+00 3.600e-01 1.100e-01 4.350e+00 6.500e-01\n",
      " 7.000e-02 8.000e-02 4.900e-01 3.000e-01 2.660e+00 2.690e+00 4.800e-01\n",
      " 3.800e-01 5.330e+00 1.910e+00 3.960e+00 3.100e+00 1.100e+00 1.200e+00\n",
      " 1.400e-01 2.540e+00 2.140e+00 8.100e-01 2.120e+00 4.400e-01 3.150e+00\n",
      " 1.250e+00 4.000e-02 0.000e+00 2.470e+00 2.230e+00 1.690e+00 1.000e-02\n",
      " 3.000e+00 2.000e-02 4.390e+00 1.980e+00 1.000e-01 3.810e+00 5.000e-02\n",
      " 2.490e+00 1.580e+00 3.140e+00 2.730e+00 6.600e-01 2.200e-01 3.630e+00\n",
      " 1.450e+00 1.310e+00 2.430e+00 7.000e-01 3.500e-01 1.400e+00 6.000e-01\n",
      " 2.260e+00 1.420e+00 1.280e+00 1.390e+00 8.700e-01 1.700e-01 9.400e-01\n",
      " 1.900e-01 2.100e-01 1.600e+00 1.600e-01 1.030e+00 2.500e-01 2.060e+00\n",
      " 1.490e+00 1.290e+00 9.000e-02 2.870e+00 3.000e-02 7.800e-01 8.300e-01\n",
      " 2.330e+00 2.020e+00 1.360e+00 1.810e+00 1.970e+00 9.100e-01 9.900e-01\n",
      " 9.500e-01 2.000e+00 1.010e+00 2.780e+00 2.110e+00 1.090e+00 2.000e-01\n",
      " 1.900e+00 1.270e+00 3.610e+00 1.570e+00 2.200e+00 1.700e+00 1.080e+00\n",
      " 1.500e-01 1.110e+00 2.900e-01 1.540e+00 1.200e-01 8.900e-01 4.870e+00\n",
      " 1.520e+00 1.320e+00 1.150e+00 4.100e+00 1.460e+00 4.600e-01 1.050e+00\n",
      " 1.610e+00 2.600e-01 1.380e+00 6.200e-01 7.300e-01 5.700e-01 3.100e-01\n",
      " 5.800e-01 1.760e+00 2.100e+00 9.000e-01 5.100e-01 6.400e-01 2.460e+00\n",
      " 2.300e-01 3.700e-01 9.200e-01 1.070e+00 2.620e+00 1.120e+00 5.400e-01\n",
      " 2.700e-01 5.900e-01 3.670e+00 5.500e-01 1.750e+00 3.440e+00 3.300e-01\n",
      " 2.550e+00 2.320e+00 2.790e+00 7.400e-01 3.180e+00 8.200e-01 7.700e-01\n",
      " 4.000e-01 2.350e+00 3.190e+00 8.000e-01 7.600e-01 3.030e+00 8.800e-01\n",
      " 4.500e-01 1.160e+00 3.400e-01 1.190e+00 1.130e+00 2.130e+00 1.960e+00\n",
      " 7.100e-01 1.040e+00 2.680e+00 6.800e-01 2.650e+00 9.600e-01 2.410e+00\n",
      " 5.200e-01 1.800e-01 1.340e+00 1.480e+00 2.340e+00 1.060e+00 1.210e+00\n",
      " 2.290e+00 1.630e+00 2.050e+00 2.170e+00 1.560e+00 1.350e+00 1.330e+00\n",
      " 6.300e-01 7.900e-01 7.500e-01 5.300e-01 1.530e+00 1.300e+00 3.900e-01\n",
      " 6.900e-01 4.200e-01 9.300e-01 5.600e-01 8.400e-01 7.200e-01 3.200e-01\n",
      " 1.710e+00 1.650e+00 6.100e-01 1.510e+00 1.500e+00 1.440e+00 1.240e+00\n",
      " 1.180e+00 1.370e+00 1.000e+00 1.260e+00 8.500e-01 4.300e-01 6.700e-01\n",
      " 1.140e+00 8.600e-01 1.170e+00 5.000e-01 1.020e+00 9.700e-01]\n",
      "[8.450e+00 7.700e-01 3.290e+00 2.950e+00 1.000e+00 5.800e-01 2.880e+00\n",
      " 2.840e+00 2.240e+00 4.700e-01 2.740e+00 1.900e+00 7.100e-01 2.150e+00\n",
      " 1.690e+00 1.770e+00 3.960e+00 1.057e+01 5.500e-01 2.040e+00 1.360e+00\n",
      " 4.200e-01 4.600e-01 1.410e+00 1.780e+00 5.000e-01 1.180e+00 8.000e-01\n",
      " 1.160e+00 1.320e+00 5.900e-01 2.380e+00 1.130e+00 7.800e-01 2.420e+00\n",
      " 1.120e+00 1.280e+00 1.570e+00 1.300e+00 1.010e+00 9.100e-01 1.790e+00\n",
      " 1.970e+00 8.600e-01 1.210e+00 2.300e-01 7.600e-01 7.400e-01 7.530e+00\n",
      " 2.900e-01 1.030e+00 5.200e-01 2.110e+00 1.600e+00 1.610e+00 3.500e-01\n",
      " 9.700e-01 1.060e+00 6.300e-01 1.500e-01 7.900e-01 9.600e-01 1.250e+00\n",
      " 9.000e-01 8.100e-01 3.900e-01 6.800e-01 8.500e-01 1.800e-01 8.000e-02\n",
      " 6.700e-01 7.000e-01 4.100e-01 3.300e-01 6.000e-01 5.400e-01 1.730e+00\n",
      " 1.230e+00 1.600e-01 1.110e+00 3.100e-01 4.800e-01 6.200e-01 1.900e-01\n",
      " 6.900e-01 1.020e+00 7.300e-01 1.080e+00 4.500e-01 2.800e-01 5.100e-01\n",
      " 2.200e-01 1.090e+00 9.900e-01 3.000e-01 6.400e-01 6.600e-01 9.800e-01\n",
      " 1.390e+00 1.400e-01 1.370e+00 7.000e-02 2.100e-01 6.100e-01 1.700e-01\n",
      " 1.200e-01 0.000e+00 7.200e-01 2.400e-01 8.200e-01 1.740e+00 8.700e-01\n",
      " 9.200e-01 5.700e-01 1.100e-01 4.000e-02 5.600e-01 2.000e-01 3.400e-01\n",
      " 9.000e-02 8.300e-01 4.400e-01 6.000e-02 3.200e-01 3.800e-01 1.480e+00\n",
      " 3.700e-01 1.000e-01 2.500e-01 3.600e-01 1.300e-01 4.300e-01 5.000e-02\n",
      " 2.000e-02 2.600e-01 4.000e-01 7.500e-01 1.930e+00 8.400e-01 5.300e-01\n",
      " 8.900e-01 1.670e+00 2.700e-01 2.930e+00 4.900e-01 1.000e-02 2.460e+00\n",
      " 3.000e-02 1.510e+00 2.050e+00 1.680e+00 1.820e+00 1.330e+00 9.400e-01\n",
      " 9.300e-01]\n",
      "[76. nan 82. 80. 89. 58. 87. 91. 61. 97. 95. 77. 88. 83. 94. 93. 85. 86.\n",
      " 98. 96. 90. 84. 73. 74. 78. 92. 71. 72. 68. 62. 49. 67. 81. 66. 56. 79.\n",
      " 70. 59. 64. 75. 60. 63. 69. 50. 25. 42. 44. 55. 48. 57. 29. 47. 65. 54.\n",
      " 20. 53. 37. 38. 33. 52. 30. 32. 43. 45. 51. 40. 46. 39. 34. 35. 41. 36.\n",
      " 28. 31. 27. 26. 19. 23. 24. 21. 17. 22. 13.]\n",
      "['8' nan '8.3' '8.5' '6.6' '8.4' '8.6' '7.7' '6.3' '7.4' '8.2' '9' '7.9'\n",
      " '8.1' '8.7' '7.1' '3.4' '5.3' '4.8' '3.2' '8.9' '6.4' '7.8' '7.5' '2.6'\n",
      " '7.2' '9.2' '7' '7.3' '4.3' '7.6' '5.7' '5' '9.1' '6.5' 'tbd' '8.8' '6.9'\n",
      " '9.4' '6.8' '6.1' '6.7' '5.4' '4' '4.9' '4.5' '9.3' '6.2' '4.2' '6' '3.7'\n",
      " '4.1' '5.8' '5.6' '5.5' '4.4' '4.6' '5.9' '3.9' '3.1' '2.9' '5.2' '3.3'\n",
      " '4.7' '5.1' '3.5' '2.5' '1.9' '3' '2.7' '2.2' '2' '9.5' '2.1' '3.6' '2.8'\n",
      " '1.8' '3.8' '0' '1.6' '9.6' '2.4' '1.7' '1.1' '0.3' '1.5' '0.7' '1.2'\n",
      " '2.3' '0.5' '1.3' '0.2' '0.6' '1.4' '0.9' '1' '9.7']\n",
      "['E' nan 'M' 'T' 'E10+' 'K-A' 'AO' 'EC' 'RP']\n"
     ]
    }
   ],
   "source": [
    "for i in data.columns:\n",
    "    print(data[i].unique())\n",
    "#print(data.unique())\n",
    "#data.info()"
   ]
  },
  {
   "cell_type": "markdown",
   "metadata": {},
   "source": [
    " Оценку пользователей перевeдём в последующем во float"
   ]
  },
  {
   "cell_type": "code",
   "execution_count": 9,
   "metadata": {},
   "outputs": [
    {
     "name": "stdout",
     "output_type": "stream",
     "text": [
      "<class 'pandas.core.frame.DataFrame'>\n",
      "RangeIndex: 16715 entries, 0 to 16714\n",
      "Data columns (total 11 columns):\n",
      " #   Column           Non-Null Count  Dtype  \n",
      "---  ------           --------------  -----  \n",
      " 0   name             16713 non-null  object \n",
      " 1   platform         16715 non-null  object \n",
      " 2   year_of_release  16446 non-null  float64\n",
      " 3   genre            16713 non-null  object \n",
      " 4   na_sales         16715 non-null  float64\n",
      " 5   eu_sales         16715 non-null  float64\n",
      " 6   jp_sales         16715 non-null  float64\n",
      " 7   other_sales      16715 non-null  float64\n",
      " 8   critic_score     8137 non-null   float64\n",
      " 9   user_score       10014 non-null  object \n",
      " 10  rating           9949 non-null   object \n",
      "dtypes: float64(6), object(5)\n",
      "memory usage: 1.4+ MB\n"
     ]
    }
   ],
   "source": [
    "data.info()"
   ]
  },
  {
   "cell_type": "code",
   "execution_count": 10,
   "metadata": {
    "scrolled": true
   },
   "outputs": [
    {
     "data": {
      "text/plain": [
       "name                  2\n",
       "platform              0\n",
       "year_of_release     269\n",
       "genre                 2\n",
       "na_sales              0\n",
       "eu_sales              0\n",
       "jp_sales              0\n",
       "other_sales           0\n",
       "critic_score       8578\n",
       "user_score         6701\n",
       "rating             6766\n",
       "dtype: int64"
      ]
     },
     "execution_count": 10,
     "metadata": {},
     "output_type": "execute_result"
    }
   ],
   "source": [
    "# смотрим пропуски\n",
    "data.isna().sum()"
   ]
  },
  {
   "cell_type": "markdown",
   "metadata": {},
   "source": [
    "for i in data.columns:   \n",
    "    print(data[i].unique())\n",
    "\n",
    "# tbd видимо связано с последующим редактирование базы данных, заменим их на np.nan\n",
    "data.loc[data.user_score=='tbd', 'user_score'] = np.nan\n",
    "data.user_score = data.user_score.astype(float)\n",
    "df = data.groupby(['genre','year_of_release'])['critic_score'].transform('median')\n",
    "print(df)\n",
    "\n",
    "data['critic_score'] = data['critic_score'].fillna(df)\n",
    "for i in data.columns:\n",
    "    print(data[i].unique())"
   ]
  },
  {
   "cell_type": "code",
   "execution_count": 11,
   "metadata": {
    "scrolled": true
   },
   "outputs": [
    {
     "name": "stdout",
     "output_type": "stream",
     "text": [
      "<class 'pandas.core.frame.DataFrame'>\n",
      "RangeIndex: 16715 entries, 0 to 16714\n",
      "Data columns (total 11 columns):\n",
      " #   Column           Non-Null Count  Dtype  \n",
      "---  ------           --------------  -----  \n",
      " 0   name             16713 non-null  object \n",
      " 1   platform         16715 non-null  object \n",
      " 2   year_of_release  16446 non-null  float64\n",
      " 3   genre            16713 non-null  object \n",
      " 4   na_sales         16715 non-null  float64\n",
      " 5   eu_sales         16715 non-null  float64\n",
      " 6   jp_sales         16715 non-null  float64\n",
      " 7   other_sales      16715 non-null  float64\n",
      " 8   critic_score     8137 non-null   float64\n",
      " 9   user_score       10014 non-null  object \n",
      " 10  rating           9949 non-null   object \n",
      "dtypes: float64(6), object(5)\n",
      "memory usage: 1.4+ MB\n"
     ]
    }
   ],
   "source": [
    "data.info()"
   ]
  },
  {
   "cell_type": "markdown",
   "metadata": {},
   "source": [
    "Обработка пропусков"
   ]
  },
  {
   "cell_type": "code",
   "execution_count": 12,
   "metadata": {
    "scrolled": true
   },
   "outputs": [
    {
     "name": "stdout",
     "output_type": "stream",
     "text": [
      "name - 0%\n",
      "platform - 0%\n",
      "year_of_release - 2%\n",
      "genre - 0%\n",
      "na_sales - 0%\n",
      "eu_sales - 0%\n",
      "jp_sales - 0%\n",
      "other_sales - 0%\n",
      "critic_score - 51%\n",
      "user_score - 40%\n",
      "rating - 40%\n"
     ]
    }
   ],
   "source": [
    "for col in data.columns:\n",
    "    pct_missing = np.mean(data[col].isnull())\n",
    "    print('{} - {}%'.format(col, round(pct_missing*100)))"
   ]
  },
  {
   "cell_type": "markdown",
   "metadata": {},
   "source": [
    "Пропуски по параметрам"
   ]
  },
  {
   "cell_type": "markdown",
   "metadata": {},
   "source": [
    " name"
   ]
  },
  {
   "cell_type": "code",
   "execution_count": 13,
   "metadata": {
    "scrolled": false
   },
   "outputs": [
    {
     "data": {
      "text/html": [
       "<div>\n",
       "<style scoped>\n",
       "    .dataframe tbody tr th:only-of-type {\n",
       "        vertical-align: middle;\n",
       "    }\n",
       "\n",
       "    .dataframe tbody tr th {\n",
       "        vertical-align: top;\n",
       "    }\n",
       "\n",
       "    .dataframe thead th {\n",
       "        text-align: right;\n",
       "    }\n",
       "</style>\n",
       "<table border=\"1\" class=\"dataframe\">\n",
       "  <thead>\n",
       "    <tr style=\"text-align: right;\">\n",
       "      <th></th>\n",
       "      <th>name</th>\n",
       "      <th>platform</th>\n",
       "      <th>year_of_release</th>\n",
       "      <th>genre</th>\n",
       "      <th>na_sales</th>\n",
       "      <th>eu_sales</th>\n",
       "      <th>jp_sales</th>\n",
       "      <th>other_sales</th>\n",
       "      <th>critic_score</th>\n",
       "      <th>user_score</th>\n",
       "      <th>rating</th>\n",
       "    </tr>\n",
       "  </thead>\n",
       "  <tbody>\n",
       "    <tr>\n",
       "      <th>659</th>\n",
       "      <td>NaN</td>\n",
       "      <td>GEN</td>\n",
       "      <td>1993.0</td>\n",
       "      <td>NaN</td>\n",
       "      <td>1.78</td>\n",
       "      <td>0.53</td>\n",
       "      <td>0.00</td>\n",
       "      <td>0.08</td>\n",
       "      <td>NaN</td>\n",
       "      <td>NaN</td>\n",
       "      <td>NaN</td>\n",
       "    </tr>\n",
       "    <tr>\n",
       "      <th>14244</th>\n",
       "      <td>NaN</td>\n",
       "      <td>GEN</td>\n",
       "      <td>1993.0</td>\n",
       "      <td>NaN</td>\n",
       "      <td>0.00</td>\n",
       "      <td>0.00</td>\n",
       "      <td>0.03</td>\n",
       "      <td>0.00</td>\n",
       "      <td>NaN</td>\n",
       "      <td>NaN</td>\n",
       "      <td>NaN</td>\n",
       "    </tr>\n",
       "  </tbody>\n",
       "</table>\n",
       "</div>"
      ],
      "text/plain": [
       "      name platform  year_of_release genre  na_sales  eu_sales  jp_sales  \\\n",
       "659    NaN      GEN           1993.0   NaN      1.78      0.53      0.00   \n",
       "14244  NaN      GEN           1993.0   NaN      0.00      0.00      0.03   \n",
       "\n",
       "       other_sales  critic_score user_score rating  \n",
       "659           0.08           NaN        NaN    NaN  \n",
       "14244         0.00           NaN        NaN    NaN  "
      ]
     },
     "execution_count": 13,
     "metadata": {},
     "output_type": "execute_result"
    }
   ],
   "source": [
    "data[data['name'].isna()==True]"
   ]
  },
  {
   "cell_type": "markdown",
   "metadata": {},
   "source": [
    "Есть две игры без имени, жанра, оценок пользователей, критиков, рейтинга. Вряд ли именно эти две игры помогут как-то решить поставленную задачу. Поэтому удалю данные строки из набора данных."
   ]
  },
  {
   "cell_type": "code",
   "execution_count": 14,
   "metadata": {
    "scrolled": false
   },
   "outputs": [
    {
     "data": {
      "text/plain": [
       "0"
      ]
     },
     "execution_count": 14,
     "metadata": {},
     "output_type": "execute_result"
    }
   ],
   "source": [
    "#data = data[data['name'].isna()==False].copy()\n",
    "data = data.dropna(subset=['name'])\n",
    "data['name'].isna().sum()"
   ]
  },
  {
   "cell_type": "markdown",
   "metadata": {},
   "source": [
    "Пропусков нет"
   ]
  },
  {
   "cell_type": "markdown",
   "metadata": {},
   "source": [
    "year_of_release"
   ]
  },
  {
   "cell_type": "code",
   "execution_count": 15,
   "metadata": {
    "scrolled": false
   },
   "outputs": [
    {
     "data": {
      "text/html": [
       "<div>\n",
       "<style scoped>\n",
       "    .dataframe tbody tr th:only-of-type {\n",
       "        vertical-align: middle;\n",
       "    }\n",
       "\n",
       "    .dataframe tbody tr th {\n",
       "        vertical-align: top;\n",
       "    }\n",
       "\n",
       "    .dataframe thead th {\n",
       "        text-align: right;\n",
       "    }\n",
       "</style>\n",
       "<table border=\"1\" class=\"dataframe\">\n",
       "  <thead>\n",
       "    <tr style=\"text-align: right;\">\n",
       "      <th></th>\n",
       "      <th>name</th>\n",
       "      <th>platform</th>\n",
       "      <th>year_of_release</th>\n",
       "      <th>genre</th>\n",
       "      <th>na_sales</th>\n",
       "      <th>eu_sales</th>\n",
       "      <th>jp_sales</th>\n",
       "      <th>other_sales</th>\n",
       "      <th>critic_score</th>\n",
       "      <th>user_score</th>\n",
       "      <th>rating</th>\n",
       "    </tr>\n",
       "  </thead>\n",
       "  <tbody>\n",
       "    <tr>\n",
       "      <th>183</th>\n",
       "      <td>Madden NFL 2004</td>\n",
       "      <td>PS2</td>\n",
       "      <td>NaN</td>\n",
       "      <td>Sports</td>\n",
       "      <td>4.26</td>\n",
       "      <td>0.26</td>\n",
       "      <td>0.01</td>\n",
       "      <td>0.71</td>\n",
       "      <td>94.0</td>\n",
       "      <td>8.5</td>\n",
       "      <td>E</td>\n",
       "    </tr>\n",
       "    <tr>\n",
       "      <th>377</th>\n",
       "      <td>FIFA Soccer 2004</td>\n",
       "      <td>PS2</td>\n",
       "      <td>NaN</td>\n",
       "      <td>Sports</td>\n",
       "      <td>0.59</td>\n",
       "      <td>2.36</td>\n",
       "      <td>0.04</td>\n",
       "      <td>0.51</td>\n",
       "      <td>84.0</td>\n",
       "      <td>6.4</td>\n",
       "      <td>E</td>\n",
       "    </tr>\n",
       "    <tr>\n",
       "      <th>456</th>\n",
       "      <td>LEGO Batman: The Videogame</td>\n",
       "      <td>Wii</td>\n",
       "      <td>NaN</td>\n",
       "      <td>Action</td>\n",
       "      <td>1.80</td>\n",
       "      <td>0.97</td>\n",
       "      <td>0.00</td>\n",
       "      <td>0.29</td>\n",
       "      <td>74.0</td>\n",
       "      <td>7.9</td>\n",
       "      <td>E10+</td>\n",
       "    </tr>\n",
       "    <tr>\n",
       "      <th>475</th>\n",
       "      <td>wwe Smackdown vs. Raw 2006</td>\n",
       "      <td>PS2</td>\n",
       "      <td>NaN</td>\n",
       "      <td>Fighting</td>\n",
       "      <td>1.57</td>\n",
       "      <td>1.02</td>\n",
       "      <td>0.00</td>\n",
       "      <td>0.41</td>\n",
       "      <td>NaN</td>\n",
       "      <td>NaN</td>\n",
       "      <td>NaN</td>\n",
       "    </tr>\n",
       "    <tr>\n",
       "      <th>609</th>\n",
       "      <td>Space Invaders</td>\n",
       "      <td>2600</td>\n",
       "      <td>NaN</td>\n",
       "      <td>Shooter</td>\n",
       "      <td>2.36</td>\n",
       "      <td>0.14</td>\n",
       "      <td>0.00</td>\n",
       "      <td>0.03</td>\n",
       "      <td>NaN</td>\n",
       "      <td>NaN</td>\n",
       "      <td>NaN</td>\n",
       "    </tr>\n",
       "    <tr>\n",
       "      <th>...</th>\n",
       "      <td>...</td>\n",
       "      <td>...</td>\n",
       "      <td>...</td>\n",
       "      <td>...</td>\n",
       "      <td>...</td>\n",
       "      <td>...</td>\n",
       "      <td>...</td>\n",
       "      <td>...</td>\n",
       "      <td>...</td>\n",
       "      <td>...</td>\n",
       "      <td>...</td>\n",
       "    </tr>\n",
       "    <tr>\n",
       "      <th>16373</th>\n",
       "      <td>PDC World Championship Darts 2008</td>\n",
       "      <td>PSP</td>\n",
       "      <td>NaN</td>\n",
       "      <td>Sports</td>\n",
       "      <td>0.01</td>\n",
       "      <td>0.00</td>\n",
       "      <td>0.00</td>\n",
       "      <td>0.00</td>\n",
       "      <td>43.0</td>\n",
       "      <td>tbd</td>\n",
       "      <td>E10+</td>\n",
       "    </tr>\n",
       "    <tr>\n",
       "      <th>16405</th>\n",
       "      <td>Freaky Flyers</td>\n",
       "      <td>GC</td>\n",
       "      <td>NaN</td>\n",
       "      <td>Racing</td>\n",
       "      <td>0.01</td>\n",
       "      <td>0.00</td>\n",
       "      <td>0.00</td>\n",
       "      <td>0.00</td>\n",
       "      <td>69.0</td>\n",
       "      <td>6.5</td>\n",
       "      <td>T</td>\n",
       "    </tr>\n",
       "    <tr>\n",
       "      <th>16448</th>\n",
       "      <td>Inversion</td>\n",
       "      <td>PC</td>\n",
       "      <td>NaN</td>\n",
       "      <td>Shooter</td>\n",
       "      <td>0.01</td>\n",
       "      <td>0.00</td>\n",
       "      <td>0.00</td>\n",
       "      <td>0.00</td>\n",
       "      <td>59.0</td>\n",
       "      <td>6.7</td>\n",
       "      <td>M</td>\n",
       "    </tr>\n",
       "    <tr>\n",
       "      <th>16458</th>\n",
       "      <td>Hakuouki: Shinsengumi Kitan</td>\n",
       "      <td>PS3</td>\n",
       "      <td>NaN</td>\n",
       "      <td>Adventure</td>\n",
       "      <td>0.01</td>\n",
       "      <td>0.00</td>\n",
       "      <td>0.00</td>\n",
       "      <td>0.00</td>\n",
       "      <td>NaN</td>\n",
       "      <td>NaN</td>\n",
       "      <td>NaN</td>\n",
       "    </tr>\n",
       "    <tr>\n",
       "      <th>16522</th>\n",
       "      <td>Virtua Quest</td>\n",
       "      <td>GC</td>\n",
       "      <td>NaN</td>\n",
       "      <td>Role-Playing</td>\n",
       "      <td>0.01</td>\n",
       "      <td>0.00</td>\n",
       "      <td>0.00</td>\n",
       "      <td>0.00</td>\n",
       "      <td>55.0</td>\n",
       "      <td>5.5</td>\n",
       "      <td>T</td>\n",
       "    </tr>\n",
       "  </tbody>\n",
       "</table>\n",
       "<p>269 rows × 11 columns</p>\n",
       "</div>"
      ],
      "text/plain": [
       "                                    name platform  year_of_release  \\\n",
       "183                      Madden NFL 2004      PS2              NaN   \n",
       "377                     FIFA Soccer 2004      PS2              NaN   \n",
       "456           LEGO Batman: The Videogame      Wii              NaN   \n",
       "475           wwe Smackdown vs. Raw 2006      PS2              NaN   \n",
       "609                       Space Invaders     2600              NaN   \n",
       "...                                  ...      ...              ...   \n",
       "16373  PDC World Championship Darts 2008      PSP              NaN   \n",
       "16405                      Freaky Flyers       GC              NaN   \n",
       "16448                          Inversion       PC              NaN   \n",
       "16458        Hakuouki: Shinsengumi Kitan      PS3              NaN   \n",
       "16522                       Virtua Quest       GC              NaN   \n",
       "\n",
       "              genre  na_sales  eu_sales  jp_sales  other_sales  critic_score  \\\n",
       "183          Sports      4.26      0.26      0.01         0.71          94.0   \n",
       "377          Sports      0.59      2.36      0.04         0.51          84.0   \n",
       "456          Action      1.80      0.97      0.00         0.29          74.0   \n",
       "475        Fighting      1.57      1.02      0.00         0.41           NaN   \n",
       "609         Shooter      2.36      0.14      0.00         0.03           NaN   \n",
       "...             ...       ...       ...       ...          ...           ...   \n",
       "16373        Sports      0.01      0.00      0.00         0.00          43.0   \n",
       "16405        Racing      0.01      0.00      0.00         0.00          69.0   \n",
       "16448       Shooter      0.01      0.00      0.00         0.00          59.0   \n",
       "16458     Adventure      0.01      0.00      0.00         0.00           NaN   \n",
       "16522  Role-Playing      0.01      0.00      0.00         0.00          55.0   \n",
       "\n",
       "      user_score rating  \n",
       "183          8.5      E  \n",
       "377          6.4      E  \n",
       "456          7.9   E10+  \n",
       "475          NaN    NaN  \n",
       "609          NaN    NaN  \n",
       "...          ...    ...  \n",
       "16373        tbd   E10+  \n",
       "16405        6.5      T  \n",
       "16448        6.7      M  \n",
       "16458        NaN    NaN  \n",
       "16522        5.5      T  \n",
       "\n",
       "[269 rows x 11 columns]"
      ]
     },
     "execution_count": 15,
     "metadata": {},
     "output_type": "execute_result"
    }
   ],
   "source": [
    "data[data['year_of_release'].isna()==True]"
   ]
  },
  {
   "cell_type": "markdown",
   "metadata": {},
   "source": [
    "Удаляю данные записи, так как восстановить год игры по косвенным признакам не получится, тем более их всего 2%."
   ]
  },
  {
   "cell_type": "code",
   "execution_count": 16,
   "metadata": {
    "scrolled": false
   },
   "outputs": [
    {
     "data": {
      "text/plain": [
       "0"
      ]
     },
     "execution_count": 16,
     "metadata": {},
     "output_type": "execute_result"
    }
   ],
   "source": [
    "#data = data[data['year_of_release'].isna()==False].copy()\n",
    "data = data.dropna(subset=['year_of_release'])\n",
    "data['year_of_release'].isna().sum()"
   ]
  },
  {
   "cell_type": "markdown",
   "metadata": {},
   "source": [
    "Пропусков нет"
   ]
  },
  {
   "cell_type": "markdown",
   "metadata": {},
   "source": [
    "na_sales, eu_sales, jp_sales, other_sales"
   ]
  },
  {
   "cell_type": "code",
   "execution_count": 17,
   "metadata": {},
   "outputs": [
    {
     "name": "stdout",
     "output_type": "stream",
     "text": [
      "<class 'pandas.core.frame.DataFrame'>\n",
      "Int64Index: 16444 entries, 0 to 16714\n",
      "Data columns (total 4 columns):\n",
      " #   Column       Non-Null Count  Dtype  \n",
      "---  ------       --------------  -----  \n",
      " 0   na_sales     16444 non-null  float64\n",
      " 1   eu_sales     16444 non-null  float64\n",
      " 2   jp_sales     16444 non-null  float64\n",
      " 3   other_sales  16444 non-null  float64\n",
      "dtypes: float64(4)\n",
      "memory usage: 642.3 KB\n"
     ]
    }
   ],
   "source": [
    "data[['na_sales', 'eu_sales', 'jp_sales', 'other_sales']].info()"
   ]
  },
  {
   "cell_type": "code",
   "execution_count": 18,
   "metadata": {},
   "outputs": [
    {
     "data": {
      "text/html": [
       "<div>\n",
       "<style scoped>\n",
       "    .dataframe tbody tr th:only-of-type {\n",
       "        vertical-align: middle;\n",
       "    }\n",
       "\n",
       "    .dataframe tbody tr th {\n",
       "        vertical-align: top;\n",
       "    }\n",
       "\n",
       "    .dataframe thead th {\n",
       "        text-align: right;\n",
       "    }\n",
       "</style>\n",
       "<table border=\"1\" class=\"dataframe\">\n",
       "  <thead>\n",
       "    <tr style=\"text-align: right;\">\n",
       "      <th></th>\n",
       "      <th>na_sales</th>\n",
       "      <th>eu_sales</th>\n",
       "      <th>jp_sales</th>\n",
       "      <th>other_sales</th>\n",
       "    </tr>\n",
       "  </thead>\n",
       "  <tbody>\n",
       "    <tr>\n",
       "      <th>count</th>\n",
       "      <td>16444.000000</td>\n",
       "      <td>16444.000000</td>\n",
       "      <td>16444.000000</td>\n",
       "      <td>16444.000000</td>\n",
       "    </tr>\n",
       "    <tr>\n",
       "      <th>mean</th>\n",
       "      <td>0.264012</td>\n",
       "      <td>0.145930</td>\n",
       "      <td>0.078487</td>\n",
       "      <td>0.047594</td>\n",
       "    </tr>\n",
       "    <tr>\n",
       "      <th>std</th>\n",
       "      <td>0.818378</td>\n",
       "      <td>0.506716</td>\n",
       "      <td>0.311100</td>\n",
       "      <td>0.188005</td>\n",
       "    </tr>\n",
       "    <tr>\n",
       "      <th>min</th>\n",
       "      <td>0.000000</td>\n",
       "      <td>0.000000</td>\n",
       "      <td>0.000000</td>\n",
       "      <td>0.000000</td>\n",
       "    </tr>\n",
       "    <tr>\n",
       "      <th>25%</th>\n",
       "      <td>0.000000</td>\n",
       "      <td>0.000000</td>\n",
       "      <td>0.000000</td>\n",
       "      <td>0.000000</td>\n",
       "    </tr>\n",
       "    <tr>\n",
       "      <th>50%</th>\n",
       "      <td>0.080000</td>\n",
       "      <td>0.020000</td>\n",
       "      <td>0.000000</td>\n",
       "      <td>0.010000</td>\n",
       "    </tr>\n",
       "    <tr>\n",
       "      <th>75%</th>\n",
       "      <td>0.240000</td>\n",
       "      <td>0.110000</td>\n",
       "      <td>0.040000</td>\n",
       "      <td>0.030000</td>\n",
       "    </tr>\n",
       "    <tr>\n",
       "      <th>max</th>\n",
       "      <td>41.360000</td>\n",
       "      <td>28.960000</td>\n",
       "      <td>10.220000</td>\n",
       "      <td>10.570000</td>\n",
       "    </tr>\n",
       "  </tbody>\n",
       "</table>\n",
       "</div>"
      ],
      "text/plain": [
       "           na_sales      eu_sales      jp_sales   other_sales\n",
       "count  16444.000000  16444.000000  16444.000000  16444.000000\n",
       "mean       0.264012      0.145930      0.078487      0.047594\n",
       "std        0.818378      0.506716      0.311100      0.188005\n",
       "min        0.000000      0.000000      0.000000      0.000000\n",
       "25%        0.000000      0.000000      0.000000      0.000000\n",
       "50%        0.080000      0.020000      0.000000      0.010000\n",
       "75%        0.240000      0.110000      0.040000      0.030000\n",
       "max       41.360000     28.960000     10.220000     10.570000"
      ]
     },
     "execution_count": 18,
     "metadata": {},
     "output_type": "execute_result"
    }
   ],
   "source": [
    "data[['na_sales', 'eu_sales', 'jp_sales', 'other_sales']].describe()"
   ]
  },
  {
   "cell_type": "markdown",
   "metadata": {},
   "source": [
    "Пропусков нет"
   ]
  },
  {
   "cell_type": "markdown",
   "metadata": {},
   "source": [
    "А вот с распределением данных явно что-то не так. Средние значения всех метрик очень сильно отличаются от максимальных значений. Попробую разобраться в чем причина такого разброса. Посмотрим распределение данных"
   ]
  },
  {
   "cell_type": "code",
   "execution_count": 19,
   "metadata": {},
   "outputs": [
    {
     "data": {
      "image/png": "[encoded data removed]",
      "text/plain": [
       "<Figure size 1080x720 with 1 Axes>"
      ]
     },
     "metadata": {
      "needs_background": "light"
     },
     "output_type": "display_data"
    }
   ],
   "source": [
    "data[['na_sales', 'eu_sales', 'jp_sales', 'other_sales']].boxplot(figsize=(15,10));"
   ]
  },
  {
   "cell_type": "markdown",
   "metadata": {},
   "source": [
    "Видно, что в каждом регионе продаж есть супер-лидеры которые выглядят как аномалия, но их немного.Но, возможно, это просто супер успешные игры. \n",
    "Возможно, что стоит разделить весь набор данных на две части и проводить отдельный анализ супер-лидеров от других игр. Возможно, что и не стоит так делать. Пока есть ощущения, что эти супер-продажи могут сильно повлиять на итоговый результат если их никак не корректировать. Но я решил, на данном этапе, оставить данные как есть. Возможно далее я и сделаю какую-то разбивку. Буду смотреть по ситуации."
   ]
  },
  {
   "cell_type": "markdown",
   "metadata": {},
   "source": [
    "Суммарные продажи во всех регионах"
   ]
  },
  {
   "cell_type": "code",
   "execution_count": 19,
   "metadata": {},
   "outputs": [],
   "source": [
    "data['all_sales']=data['na_sales']+data['eu_sales']+data['jp_sales']+data['other_sales']\n",
    "data_sales=data"
   ]
  },
  {
   "cell_type": "markdown",
   "metadata": {},
   "source": [
    "critic_score"
   ]
  },
  {
   "cell_type": "code",
   "execution_count": 20,
   "metadata": {
    "scrolled": false
   },
   "outputs": [
    {
     "data": {
      "text/html": [
       "<div>\n",
       "<style scoped>\n",
       "    .dataframe tbody tr th:only-of-type {\n",
       "        vertical-align: middle;\n",
       "    }\n",
       "\n",
       "    .dataframe tbody tr th {\n",
       "        vertical-align: top;\n",
       "    }\n",
       "\n",
       "    .dataframe thead th {\n",
       "        text-align: right;\n",
       "    }\n",
       "</style>\n",
       "<table border=\"1\" class=\"dataframe\">\n",
       "  <thead>\n",
       "    <tr style=\"text-align: right;\">\n",
       "      <th></th>\n",
       "      <th>name</th>\n",
       "      <th>platform</th>\n",
       "      <th>year_of_release</th>\n",
       "      <th>genre</th>\n",
       "      <th>na_sales</th>\n",
       "      <th>eu_sales</th>\n",
       "      <th>jp_sales</th>\n",
       "      <th>other_sales</th>\n",
       "      <th>critic_score</th>\n",
       "      <th>user_score</th>\n",
       "      <th>rating</th>\n",
       "      <th>all_sales</th>\n",
       "    </tr>\n",
       "  </thead>\n",
       "  <tbody>\n",
       "    <tr>\n",
       "      <th>1</th>\n",
       "      <td>Super Mario Bros.</td>\n",
       "      <td>NES</td>\n",
       "      <td>1985.0</td>\n",
       "      <td>Platform</td>\n",
       "      <td>29.08</td>\n",
       "      <td>3.58</td>\n",
       "      <td>6.81</td>\n",
       "      <td>0.77</td>\n",
       "      <td>NaN</td>\n",
       "      <td>NaN</td>\n",
       "      <td>NaN</td>\n",
       "      <td>40.24</td>\n",
       "    </tr>\n",
       "    <tr>\n",
       "      <th>4</th>\n",
       "      <td>Pokemon Red/Pokemon Blue</td>\n",
       "      <td>GB</td>\n",
       "      <td>1996.0</td>\n",
       "      <td>Role-Playing</td>\n",
       "      <td>11.27</td>\n",
       "      <td>8.89</td>\n",
       "      <td>10.22</td>\n",
       "      <td>1.00</td>\n",
       "      <td>NaN</td>\n",
       "      <td>NaN</td>\n",
       "      <td>NaN</td>\n",
       "      <td>31.38</td>\n",
       "    </tr>\n",
       "    <tr>\n",
       "      <th>5</th>\n",
       "      <td>Tetris</td>\n",
       "      <td>GB</td>\n",
       "      <td>1989.0</td>\n",
       "      <td>Puzzle</td>\n",
       "      <td>23.20</td>\n",
       "      <td>2.26</td>\n",
       "      <td>4.22</td>\n",
       "      <td>0.58</td>\n",
       "      <td>NaN</td>\n",
       "      <td>NaN</td>\n",
       "      <td>NaN</td>\n",
       "      <td>30.26</td>\n",
       "    </tr>\n",
       "    <tr>\n",
       "      <th>9</th>\n",
       "      <td>Duck Hunt</td>\n",
       "      <td>NES</td>\n",
       "      <td>1984.0</td>\n",
       "      <td>Shooter</td>\n",
       "      <td>26.93</td>\n",
       "      <td>0.63</td>\n",
       "      <td>0.28</td>\n",
       "      <td>0.47</td>\n",
       "      <td>NaN</td>\n",
       "      <td>NaN</td>\n",
       "      <td>NaN</td>\n",
       "      <td>28.31</td>\n",
       "    </tr>\n",
       "    <tr>\n",
       "      <th>10</th>\n",
       "      <td>Nintendogs</td>\n",
       "      <td>DS</td>\n",
       "      <td>2005.0</td>\n",
       "      <td>Simulation</td>\n",
       "      <td>9.05</td>\n",
       "      <td>10.95</td>\n",
       "      <td>1.93</td>\n",
       "      <td>2.74</td>\n",
       "      <td>NaN</td>\n",
       "      <td>NaN</td>\n",
       "      <td>NaN</td>\n",
       "      <td>24.67</td>\n",
       "    </tr>\n",
       "    <tr>\n",
       "      <th>...</th>\n",
       "      <td>...</td>\n",
       "      <td>...</td>\n",
       "      <td>...</td>\n",
       "      <td>...</td>\n",
       "      <td>...</td>\n",
       "      <td>...</td>\n",
       "      <td>...</td>\n",
       "      <td>...</td>\n",
       "      <td>...</td>\n",
       "      <td>...</td>\n",
       "      <td>...</td>\n",
       "      <td>...</td>\n",
       "    </tr>\n",
       "    <tr>\n",
       "      <th>16710</th>\n",
       "      <td>Samurai Warriors: Sanada Maru</td>\n",
       "      <td>PS3</td>\n",
       "      <td>2016.0</td>\n",
       "      <td>Action</td>\n",
       "      <td>0.00</td>\n",
       "      <td>0.00</td>\n",
       "      <td>0.01</td>\n",
       "      <td>0.00</td>\n",
       "      <td>NaN</td>\n",
       "      <td>NaN</td>\n",
       "      <td>NaN</td>\n",
       "      <td>0.01</td>\n",
       "    </tr>\n",
       "    <tr>\n",
       "      <th>16711</th>\n",
       "      <td>LMA Manager 2007</td>\n",
       "      <td>X360</td>\n",
       "      <td>2006.0</td>\n",
       "      <td>Sports</td>\n",
       "      <td>0.00</td>\n",
       "      <td>0.01</td>\n",
       "      <td>0.00</td>\n",
       "      <td>0.00</td>\n",
       "      <td>NaN</td>\n",
       "      <td>NaN</td>\n",
       "      <td>NaN</td>\n",
       "      <td>0.01</td>\n",
       "    </tr>\n",
       "    <tr>\n",
       "      <th>16712</th>\n",
       "      <td>Haitaka no Psychedelica</td>\n",
       "      <td>PSV</td>\n",
       "      <td>2016.0</td>\n",
       "      <td>Adventure</td>\n",
       "      <td>0.00</td>\n",
       "      <td>0.00</td>\n",
       "      <td>0.01</td>\n",
       "      <td>0.00</td>\n",
       "      <td>NaN</td>\n",
       "      <td>NaN</td>\n",
       "      <td>NaN</td>\n",
       "      <td>0.01</td>\n",
       "    </tr>\n",
       "    <tr>\n",
       "      <th>16713</th>\n",
       "      <td>Spirits &amp; Spells</td>\n",
       "      <td>GBA</td>\n",
       "      <td>2003.0</td>\n",
       "      <td>Platform</td>\n",
       "      <td>0.01</td>\n",
       "      <td>0.00</td>\n",
       "      <td>0.00</td>\n",
       "      <td>0.00</td>\n",
       "      <td>NaN</td>\n",
       "      <td>NaN</td>\n",
       "      <td>NaN</td>\n",
       "      <td>0.01</td>\n",
       "    </tr>\n",
       "    <tr>\n",
       "      <th>16714</th>\n",
       "      <td>Winning Post 8 2016</td>\n",
       "      <td>PSV</td>\n",
       "      <td>2016.0</td>\n",
       "      <td>Simulation</td>\n",
       "      <td>0.00</td>\n",
       "      <td>0.00</td>\n",
       "      <td>0.01</td>\n",
       "      <td>0.00</td>\n",
       "      <td>NaN</td>\n",
       "      <td>NaN</td>\n",
       "      <td>NaN</td>\n",
       "      <td>0.01</td>\n",
       "    </tr>\n",
       "  </tbody>\n",
       "</table>\n",
       "<p>8461 rows × 12 columns</p>\n",
       "</div>"
      ],
      "text/plain": [
       "                                name platform  year_of_release         genre  \\\n",
       "1                  Super Mario Bros.      NES           1985.0      Platform   \n",
       "4           Pokemon Red/Pokemon Blue       GB           1996.0  Role-Playing   \n",
       "5                             Tetris       GB           1989.0        Puzzle   \n",
       "9                          Duck Hunt      NES           1984.0       Shooter   \n",
       "10                        Nintendogs       DS           2005.0    Simulation   \n",
       "...                              ...      ...              ...           ...   \n",
       "16710  Samurai Warriors: Sanada Maru      PS3           2016.0        Action   \n",
       "16711               LMA Manager 2007     X360           2006.0        Sports   \n",
       "16712        Haitaka no Psychedelica      PSV           2016.0     Adventure   \n",
       "16713               Spirits & Spells      GBA           2003.0      Platform   \n",
       "16714            Winning Post 8 2016      PSV           2016.0    Simulation   \n",
       "\n",
       "       na_sales  eu_sales  jp_sales  other_sales  critic_score user_score  \\\n",
       "1         29.08      3.58      6.81         0.77           NaN        NaN   \n",
       "4         11.27      8.89     10.22         1.00           NaN        NaN   \n",
       "5         23.20      2.26      4.22         0.58           NaN        NaN   \n",
       "9         26.93      0.63      0.28         0.47           NaN        NaN   \n",
       "10         9.05     10.95      1.93         2.74           NaN        NaN   \n",
       "...         ...       ...       ...          ...           ...        ...   \n",
       "16710      0.00      0.00      0.01         0.00           NaN        NaN   \n",
       "16711      0.00      0.01      0.00         0.00           NaN        NaN   \n",
       "16712      0.00      0.00      0.01         0.00           NaN        NaN   \n",
       "16713      0.01      0.00      0.00         0.00           NaN        NaN   \n",
       "16714      0.00      0.00      0.01         0.00           NaN        NaN   \n",
       "\n",
       "      rating  all_sales  \n",
       "1        NaN      40.24  \n",
       "4        NaN      31.38  \n",
       "5        NaN      30.26  \n",
       "9        NaN      28.31  \n",
       "10       NaN      24.67  \n",
       "...      ...        ...  \n",
       "16710    NaN       0.01  \n",
       "16711    NaN       0.01  \n",
       "16712    NaN       0.01  \n",
       "16713    NaN       0.01  \n",
       "16714    NaN       0.01  \n",
       "\n",
       "[8461 rows x 12 columns]"
      ]
     },
     "execution_count": 20,
     "metadata": {},
     "output_type": "execute_result"
    }
   ],
   "source": [
    "data[data['critic_score'].isna()==True]"
   ]
  },
  {
   "cell_type": "code",
   "execution_count": 21,
   "metadata": {},
   "outputs": [
    {
     "data": {
      "text/plain": [
       "8461"
      ]
     },
     "execution_count": 21,
     "metadata": {},
     "output_type": "execute_result"
    }
   ],
   "source": [
    "\n",
    "data['critic_score'].isna().sum()"
   ]
  },
  {
   "cell_type": "code",
   "execution_count": 22,
   "metadata": {},
   "outputs": [
    {
     "data": {
      "text/plain": [
       "0.515"
      ]
     },
     "execution_count": 22,
     "metadata": {},
     "output_type": "execute_result"
    }
   ],
   "source": [
    "data['critic_score'].isna().mean().round(3)"
   ]
  },
  {
   "cell_type": "markdown",
   "metadata": {},
   "source": [
    "Так как показатель типа рейтинг является качественной переменной( порядковой), то пропущенные значения в ячейке \"оценка критиков\" я буду заменять на -1 (группа для пропущенных значений)."
   ]
  },
  {
   "cell_type": "code",
   "execution_count": 23,
   "metadata": {
    "scrolled": false
   },
   "outputs": [
    {
     "data": {
      "text/plain": [
       "0"
      ]
     },
     "execution_count": 23,
     "metadata": {},
     "output_type": "execute_result"
    }
   ],
   "source": [
    "#data = data[data['critic_score'].isna()==False].copy()\n",
    "data['critic_score'] = data['critic_score'].fillna(-1)\n",
    "data['critic_score'].isna().sum()"
   ]
  },
  {
   "cell_type": "markdown",
   "metadata": {},
   "source": [
    "Пропусков нет"
   ]
  },
  {
   "cell_type": "markdown",
   "metadata": {},
   "source": [
    "user_score"
   ]
  },
  {
   "cell_type": "code",
   "execution_count": 24,
   "metadata": {
    "scrolled": false
   },
   "outputs": [
    {
     "data": {
      "text/html": [
       "<div>\n",
       "<style scoped>\n",
       "    .dataframe tbody tr th:only-of-type {\n",
       "        vertical-align: middle;\n",
       "    }\n",
       "\n",
       "    .dataframe tbody tr th {\n",
       "        vertical-align: top;\n",
       "    }\n",
       "\n",
       "    .dataframe thead th {\n",
       "        text-align: right;\n",
       "    }\n",
       "</style>\n",
       "<table border=\"1\" class=\"dataframe\">\n",
       "  <thead>\n",
       "    <tr style=\"text-align: right;\">\n",
       "      <th></th>\n",
       "      <th>name</th>\n",
       "      <th>platform</th>\n",
       "      <th>year_of_release</th>\n",
       "      <th>genre</th>\n",
       "      <th>na_sales</th>\n",
       "      <th>eu_sales</th>\n",
       "      <th>jp_sales</th>\n",
       "      <th>other_sales</th>\n",
       "      <th>critic_score</th>\n",
       "      <th>user_score</th>\n",
       "      <th>rating</th>\n",
       "      <th>all_sales</th>\n",
       "    </tr>\n",
       "  </thead>\n",
       "  <tbody>\n",
       "    <tr>\n",
       "      <th>1</th>\n",
       "      <td>Super Mario Bros.</td>\n",
       "      <td>NES</td>\n",
       "      <td>1985.0</td>\n",
       "      <td>Platform</td>\n",
       "      <td>29.08</td>\n",
       "      <td>3.58</td>\n",
       "      <td>6.81</td>\n",
       "      <td>0.77</td>\n",
       "      <td>-1.0</td>\n",
       "      <td>NaN</td>\n",
       "      <td>NaN</td>\n",
       "      <td>40.24</td>\n",
       "    </tr>\n",
       "    <tr>\n",
       "      <th>4</th>\n",
       "      <td>Pokemon Red/Pokemon Blue</td>\n",
       "      <td>GB</td>\n",
       "      <td>1996.0</td>\n",
       "      <td>Role-Playing</td>\n",
       "      <td>11.27</td>\n",
       "      <td>8.89</td>\n",
       "      <td>10.22</td>\n",
       "      <td>1.00</td>\n",
       "      <td>-1.0</td>\n",
       "      <td>NaN</td>\n",
       "      <td>NaN</td>\n",
       "      <td>31.38</td>\n",
       "    </tr>\n",
       "    <tr>\n",
       "      <th>5</th>\n",
       "      <td>Tetris</td>\n",
       "      <td>GB</td>\n",
       "      <td>1989.0</td>\n",
       "      <td>Puzzle</td>\n",
       "      <td>23.20</td>\n",
       "      <td>2.26</td>\n",
       "      <td>4.22</td>\n",
       "      <td>0.58</td>\n",
       "      <td>-1.0</td>\n",
       "      <td>NaN</td>\n",
       "      <td>NaN</td>\n",
       "      <td>30.26</td>\n",
       "    </tr>\n",
       "    <tr>\n",
       "      <th>9</th>\n",
       "      <td>Duck Hunt</td>\n",
       "      <td>NES</td>\n",
       "      <td>1984.0</td>\n",
       "      <td>Shooter</td>\n",
       "      <td>26.93</td>\n",
       "      <td>0.63</td>\n",
       "      <td>0.28</td>\n",
       "      <td>0.47</td>\n",
       "      <td>-1.0</td>\n",
       "      <td>NaN</td>\n",
       "      <td>NaN</td>\n",
       "      <td>28.31</td>\n",
       "    </tr>\n",
       "    <tr>\n",
       "      <th>10</th>\n",
       "      <td>Nintendogs</td>\n",
       "      <td>DS</td>\n",
       "      <td>2005.0</td>\n",
       "      <td>Simulation</td>\n",
       "      <td>9.05</td>\n",
       "      <td>10.95</td>\n",
       "      <td>1.93</td>\n",
       "      <td>2.74</td>\n",
       "      <td>-1.0</td>\n",
       "      <td>NaN</td>\n",
       "      <td>NaN</td>\n",
       "      <td>24.67</td>\n",
       "    </tr>\n",
       "    <tr>\n",
       "      <th>...</th>\n",
       "      <td>...</td>\n",
       "      <td>...</td>\n",
       "      <td>...</td>\n",
       "      <td>...</td>\n",
       "      <td>...</td>\n",
       "      <td>...</td>\n",
       "      <td>...</td>\n",
       "      <td>...</td>\n",
       "      <td>...</td>\n",
       "      <td>...</td>\n",
       "      <td>...</td>\n",
       "      <td>...</td>\n",
       "    </tr>\n",
       "    <tr>\n",
       "      <th>16710</th>\n",
       "      <td>Samurai Warriors: Sanada Maru</td>\n",
       "      <td>PS3</td>\n",
       "      <td>2016.0</td>\n",
       "      <td>Action</td>\n",
       "      <td>0.00</td>\n",
       "      <td>0.00</td>\n",
       "      <td>0.01</td>\n",
       "      <td>0.00</td>\n",
       "      <td>-1.0</td>\n",
       "      <td>NaN</td>\n",
       "      <td>NaN</td>\n",
       "      <td>0.01</td>\n",
       "    </tr>\n",
       "    <tr>\n",
       "      <th>16711</th>\n",
       "      <td>LMA Manager 2007</td>\n",
       "      <td>X360</td>\n",
       "      <td>2006.0</td>\n",
       "      <td>Sports</td>\n",
       "      <td>0.00</td>\n",
       "      <td>0.01</td>\n",
       "      <td>0.00</td>\n",
       "      <td>0.00</td>\n",
       "      <td>-1.0</td>\n",
       "      <td>NaN</td>\n",
       "      <td>NaN</td>\n",
       "      <td>0.01</td>\n",
       "    </tr>\n",
       "    <tr>\n",
       "      <th>16712</th>\n",
       "      <td>Haitaka no Psychedelica</td>\n",
       "      <td>PSV</td>\n",
       "      <td>2016.0</td>\n",
       "      <td>Adventure</td>\n",
       "      <td>0.00</td>\n",
       "      <td>0.00</td>\n",
       "      <td>0.01</td>\n",
       "      <td>0.00</td>\n",
       "      <td>-1.0</td>\n",
       "      <td>NaN</td>\n",
       "      <td>NaN</td>\n",
       "      <td>0.01</td>\n",
       "    </tr>\n",
       "    <tr>\n",
       "      <th>16713</th>\n",
       "      <td>Spirits &amp; Spells</td>\n",
       "      <td>GBA</td>\n",
       "      <td>2003.0</td>\n",
       "      <td>Platform</td>\n",
       "      <td>0.01</td>\n",
       "      <td>0.00</td>\n",
       "      <td>0.00</td>\n",
       "      <td>0.00</td>\n",
       "      <td>-1.0</td>\n",
       "      <td>NaN</td>\n",
       "      <td>NaN</td>\n",
       "      <td>0.01</td>\n",
       "    </tr>\n",
       "    <tr>\n",
       "      <th>16714</th>\n",
       "      <td>Winning Post 8 2016</td>\n",
       "      <td>PSV</td>\n",
       "      <td>2016.0</td>\n",
       "      <td>Simulation</td>\n",
       "      <td>0.00</td>\n",
       "      <td>0.00</td>\n",
       "      <td>0.01</td>\n",
       "      <td>0.00</td>\n",
       "      <td>-1.0</td>\n",
       "      <td>NaN</td>\n",
       "      <td>NaN</td>\n",
       "      <td>0.01</td>\n",
       "    </tr>\n",
       "  </tbody>\n",
       "</table>\n",
       "<p>6605 rows × 12 columns</p>\n",
       "</div>"
      ],
      "text/plain": [
       "                                name platform  year_of_release         genre  \\\n",
       "1                  Super Mario Bros.      NES           1985.0      Platform   \n",
       "4           Pokemon Red/Pokemon Blue       GB           1996.0  Role-Playing   \n",
       "5                             Tetris       GB           1989.0        Puzzle   \n",
       "9                          Duck Hunt      NES           1984.0       Shooter   \n",
       "10                        Nintendogs       DS           2005.0    Simulation   \n",
       "...                              ...      ...              ...           ...   \n",
       "16710  Samurai Warriors: Sanada Maru      PS3           2016.0        Action   \n",
       "16711               LMA Manager 2007     X360           2006.0        Sports   \n",
       "16712        Haitaka no Psychedelica      PSV           2016.0     Adventure   \n",
       "16713               Spirits & Spells      GBA           2003.0      Platform   \n",
       "16714            Winning Post 8 2016      PSV           2016.0    Simulation   \n",
       "\n",
       "       na_sales  eu_sales  jp_sales  other_sales  critic_score user_score  \\\n",
       "1         29.08      3.58      6.81         0.77          -1.0        NaN   \n",
       "4         11.27      8.89     10.22         1.00          -1.0        NaN   \n",
       "5         23.20      2.26      4.22         0.58          -1.0        NaN   \n",
       "9         26.93      0.63      0.28         0.47          -1.0        NaN   \n",
       "10         9.05     10.95      1.93         2.74          -1.0        NaN   \n",
       "...         ...       ...       ...          ...           ...        ...   \n",
       "16710      0.00      0.00      0.01         0.00          -1.0        NaN   \n",
       "16711      0.00      0.01      0.00         0.00          -1.0        NaN   \n",
       "16712      0.00      0.00      0.01         0.00          -1.0        NaN   \n",
       "16713      0.01      0.00      0.00         0.00          -1.0        NaN   \n",
       "16714      0.00      0.00      0.01         0.00          -1.0        NaN   \n",
       "\n",
       "      rating  all_sales  \n",
       "1        NaN      40.24  \n",
       "4        NaN      31.38  \n",
       "5        NaN      30.26  \n",
       "9        NaN      28.31  \n",
       "10       NaN      24.67  \n",
       "...      ...        ...  \n",
       "16710    NaN       0.01  \n",
       "16711    NaN       0.01  \n",
       "16712    NaN       0.01  \n",
       "16713    NaN       0.01  \n",
       "16714    NaN       0.01  \n",
       "\n",
       "[6605 rows x 12 columns]"
      ]
     },
     "execution_count": 24,
     "metadata": {},
     "output_type": "execute_result"
    }
   ],
   "source": [
    "data[data['user_score'].isna()==True]"
   ]
  },
  {
   "cell_type": "code",
   "execution_count": 25,
   "metadata": {},
   "outputs": [
    {
     "data": {
      "text/plain": [
       "6605"
      ]
     },
     "execution_count": 25,
     "metadata": {},
     "output_type": "execute_result"
    }
   ],
   "source": [
    "\n",
    "data['user_score'].isna().sum()"
   ]
  },
  {
   "cell_type": "code",
   "execution_count": 26,
   "metadata": {},
   "outputs": [
    {
     "data": {
      "text/plain": [
       "0.402"
      ]
     },
     "execution_count": 26,
     "metadata": {},
     "output_type": "execute_result"
    }
   ],
   "source": [
    "data['user_score'].isna().mean().round(3)"
   ]
  },
  {
   "cell_type": "markdown",
   "metadata": {},
   "source": [
    "Больше 54% пропусков это конечно очень много. Возможно, что их можно обработать и заполнить медианными значениями в зависимости от года выпуска, жанра и платформы. Но есть риск, что потом эти медианные значения не позволят правильно интерпретировать данные. Поэтому пока не буду никак обрабатывать и пытаться заполнить пропуски. Заменю их на -1."
   ]
  },
  {
   "cell_type": "code",
   "execution_count": 27,
   "metadata": {},
   "outputs": [
    {
     "data": {
      "text/plain": [
       "6605"
      ]
     },
     "execution_count": 27,
     "metadata": {},
     "output_type": "execute_result"
    }
   ],
   "source": [
    "#data['user_score'].fillna(0, inplace=True)\n",
    "data['critic_score'] = data['critic_score'].fillna(-1)\n",
    "data['user_score'].isna().sum()"
   ]
  },
  {
   "cell_type": "markdown",
   "metadata": {},
   "source": [
    "Пропусков нет"
   ]
  },
  {
   "cell_type": "markdown",
   "metadata": {},
   "source": [
    "<div class=\"alert-warning\">\n",
    "<b>Комментарий ревьюера V2 ⚠️</b>\n",
    "\n",
    "Ты же заменил пропуски на заглушку опять в столбце `critic_score`, а нужно было в `user_score`.</div>"
   ]
  },
  {
   "cell_type": "markdown",
   "metadata": {},
   "source": [
    "Тип данных у переменной user_score - object. Причина в том, что среди оценок пользователей встречается текст tbd.Аббревиатура означает, в IT это обычно To Be Determined. Получается, что играм с такой отметкой пользователи еще не поставили свою оценку. Поэтому буду считать, что у данной игры пользовательская оценка равна нулю. Сделаю соответствующую замену и переведу данные в тип float"
   ]
  },
  {
   "cell_type": "code",
   "execution_count": 28,
   "metadata": {},
   "outputs": [
    {
     "data": {
      "text/plain": [
       "2376"
      ]
     },
     "execution_count": 28,
     "metadata": {},
     "output_type": "execute_result"
    }
   ],
   "source": [
    "len(data[data['user_score']=='tbd'])"
   ]
  },
  {
   "cell_type": "code",
   "execution_count": 29,
   "metadata": {},
   "outputs": [],
   "source": [
    "data.loc[(data['user_score']=='tbd'), 'user_score'] = 0\n",
    "data['user_score'] = data['user_score'].fillna(0)"
   ]
  },
  {
   "cell_type": "markdown",
   "metadata": {},
   "source": [
    "<div class=\"alert-warning\">\n",
    "<b>Комментарий ревьюера V2 ⚠️</b>\n",
    "\n",
    "Замена пропусков на 0 возможна, опять же если 0 потом отфильтровывать в дальнейших расчетах, однако имеет смысл придерживаться единообразия.</div>"
   ]
  },
  {
   "cell_type": "code",
   "execution_count": 30,
   "metadata": {},
   "outputs": [
    {
     "name": "stdout",
     "output_type": "stream",
     "text": [
      "<class 'pandas.core.frame.DataFrame'>\n",
      "Int64Index: 16444 entries, 0 to 16714\n",
      "Data columns (total 12 columns):\n",
      " #   Column           Non-Null Count  Dtype  \n",
      "---  ------           --------------  -----  \n",
      " 0   name             16444 non-null  object \n",
      " 1   platform         16444 non-null  object \n",
      " 2   year_of_release  16444 non-null  float64\n",
      " 3   genre            16444 non-null  object \n",
      " 4   na_sales         16444 non-null  float64\n",
      " 5   eu_sales         16444 non-null  float64\n",
      " 6   jp_sales         16444 non-null  float64\n",
      " 7   other_sales      16444 non-null  float64\n",
      " 8   critic_score     16444 non-null  float64\n",
      " 9   user_score       16444 non-null  float64\n",
      " 10  rating           9768 non-null   object \n",
      " 11  all_sales        16444 non-null  float64\n",
      "dtypes: float64(8), object(4)\n",
      "memory usage: 1.6+ MB\n"
     ]
    }
   ],
   "source": [
    "data['user_score'] = data['user_score'].astype('float64')\n",
    "data.info()"
   ]
  },
  {
   "cell_type": "markdown",
   "metadata": {},
   "source": [
    "rating"
   ]
  },
  {
   "cell_type": "code",
   "execution_count": 31,
   "metadata": {
    "scrolled": false
   },
   "outputs": [
    {
     "data": {
      "text/html": [
       "<div>\n",
       "<style scoped>\n",
       "    .dataframe tbody tr th:only-of-type {\n",
       "        vertical-align: middle;\n",
       "    }\n",
       "\n",
       "    .dataframe tbody tr th {\n",
       "        vertical-align: top;\n",
       "    }\n",
       "\n",
       "    .dataframe thead th {\n",
       "        text-align: right;\n",
       "    }\n",
       "</style>\n",
       "<table border=\"1\" class=\"dataframe\">\n",
       "  <thead>\n",
       "    <tr style=\"text-align: right;\">\n",
       "      <th></th>\n",
       "      <th>name</th>\n",
       "      <th>platform</th>\n",
       "      <th>year_of_release</th>\n",
       "      <th>genre</th>\n",
       "      <th>na_sales</th>\n",
       "      <th>eu_sales</th>\n",
       "      <th>jp_sales</th>\n",
       "      <th>other_sales</th>\n",
       "      <th>critic_score</th>\n",
       "      <th>user_score</th>\n",
       "      <th>rating</th>\n",
       "      <th>all_sales</th>\n",
       "    </tr>\n",
       "  </thead>\n",
       "  <tbody>\n",
       "    <tr>\n",
       "      <th>1</th>\n",
       "      <td>Super Mario Bros.</td>\n",
       "      <td>NES</td>\n",
       "      <td>1985.0</td>\n",
       "      <td>Platform</td>\n",
       "      <td>29.08</td>\n",
       "      <td>3.58</td>\n",
       "      <td>6.81</td>\n",
       "      <td>0.77</td>\n",
       "      <td>-1.0</td>\n",
       "      <td>0.0</td>\n",
       "      <td>NaN</td>\n",
       "      <td>40.24</td>\n",
       "    </tr>\n",
       "    <tr>\n",
       "      <th>4</th>\n",
       "      <td>Pokemon Red/Pokemon Blue</td>\n",
       "      <td>GB</td>\n",
       "      <td>1996.0</td>\n",
       "      <td>Role-Playing</td>\n",
       "      <td>11.27</td>\n",
       "      <td>8.89</td>\n",
       "      <td>10.22</td>\n",
       "      <td>1.00</td>\n",
       "      <td>-1.0</td>\n",
       "      <td>0.0</td>\n",
       "      <td>NaN</td>\n",
       "      <td>31.38</td>\n",
       "    </tr>\n",
       "    <tr>\n",
       "      <th>5</th>\n",
       "      <td>Tetris</td>\n",
       "      <td>GB</td>\n",
       "      <td>1989.0</td>\n",
       "      <td>Puzzle</td>\n",
       "      <td>23.20</td>\n",
       "      <td>2.26</td>\n",
       "      <td>4.22</td>\n",
       "      <td>0.58</td>\n",
       "      <td>-1.0</td>\n",
       "      <td>0.0</td>\n",
       "      <td>NaN</td>\n",
       "      <td>30.26</td>\n",
       "    </tr>\n",
       "    <tr>\n",
       "      <th>9</th>\n",
       "      <td>Duck Hunt</td>\n",
       "      <td>NES</td>\n",
       "      <td>1984.0</td>\n",
       "      <td>Shooter</td>\n",
       "      <td>26.93</td>\n",
       "      <td>0.63</td>\n",
       "      <td>0.28</td>\n",
       "      <td>0.47</td>\n",
       "      <td>-1.0</td>\n",
       "      <td>0.0</td>\n",
       "      <td>NaN</td>\n",
       "      <td>28.31</td>\n",
       "    </tr>\n",
       "    <tr>\n",
       "      <th>10</th>\n",
       "      <td>Nintendogs</td>\n",
       "      <td>DS</td>\n",
       "      <td>2005.0</td>\n",
       "      <td>Simulation</td>\n",
       "      <td>9.05</td>\n",
       "      <td>10.95</td>\n",
       "      <td>1.93</td>\n",
       "      <td>2.74</td>\n",
       "      <td>-1.0</td>\n",
       "      <td>0.0</td>\n",
       "      <td>NaN</td>\n",
       "      <td>24.67</td>\n",
       "    </tr>\n",
       "    <tr>\n",
       "      <th>...</th>\n",
       "      <td>...</td>\n",
       "      <td>...</td>\n",
       "      <td>...</td>\n",
       "      <td>...</td>\n",
       "      <td>...</td>\n",
       "      <td>...</td>\n",
       "      <td>...</td>\n",
       "      <td>...</td>\n",
       "      <td>...</td>\n",
       "      <td>...</td>\n",
       "      <td>...</td>\n",
       "      <td>...</td>\n",
       "    </tr>\n",
       "    <tr>\n",
       "      <th>16710</th>\n",
       "      <td>Samurai Warriors: Sanada Maru</td>\n",
       "      <td>PS3</td>\n",
       "      <td>2016.0</td>\n",
       "      <td>Action</td>\n",
       "      <td>0.00</td>\n",
       "      <td>0.00</td>\n",
       "      <td>0.01</td>\n",
       "      <td>0.00</td>\n",
       "      <td>-1.0</td>\n",
       "      <td>0.0</td>\n",
       "      <td>NaN</td>\n",
       "      <td>0.01</td>\n",
       "    </tr>\n",
       "    <tr>\n",
       "      <th>16711</th>\n",
       "      <td>LMA Manager 2007</td>\n",
       "      <td>X360</td>\n",
       "      <td>2006.0</td>\n",
       "      <td>Sports</td>\n",
       "      <td>0.00</td>\n",
       "      <td>0.01</td>\n",
       "      <td>0.00</td>\n",
       "      <td>0.00</td>\n",
       "      <td>-1.0</td>\n",
       "      <td>0.0</td>\n",
       "      <td>NaN</td>\n",
       "      <td>0.01</td>\n",
       "    </tr>\n",
       "    <tr>\n",
       "      <th>16712</th>\n",
       "      <td>Haitaka no Psychedelica</td>\n",
       "      <td>PSV</td>\n",
       "      <td>2016.0</td>\n",
       "      <td>Adventure</td>\n",
       "      <td>0.00</td>\n",
       "      <td>0.00</td>\n",
       "      <td>0.01</td>\n",
       "      <td>0.00</td>\n",
       "      <td>-1.0</td>\n",
       "      <td>0.0</td>\n",
       "      <td>NaN</td>\n",
       "      <td>0.01</td>\n",
       "    </tr>\n",
       "    <tr>\n",
       "      <th>16713</th>\n",
       "      <td>Spirits &amp; Spells</td>\n",
       "      <td>GBA</td>\n",
       "      <td>2003.0</td>\n",
       "      <td>Platform</td>\n",
       "      <td>0.01</td>\n",
       "      <td>0.00</td>\n",
       "      <td>0.00</td>\n",
       "      <td>0.00</td>\n",
       "      <td>-1.0</td>\n",
       "      <td>0.0</td>\n",
       "      <td>NaN</td>\n",
       "      <td>0.01</td>\n",
       "    </tr>\n",
       "    <tr>\n",
       "      <th>16714</th>\n",
       "      <td>Winning Post 8 2016</td>\n",
       "      <td>PSV</td>\n",
       "      <td>2016.0</td>\n",
       "      <td>Simulation</td>\n",
       "      <td>0.00</td>\n",
       "      <td>0.00</td>\n",
       "      <td>0.01</td>\n",
       "      <td>0.00</td>\n",
       "      <td>-1.0</td>\n",
       "      <td>0.0</td>\n",
       "      <td>NaN</td>\n",
       "      <td>0.01</td>\n",
       "    </tr>\n",
       "  </tbody>\n",
       "</table>\n",
       "<p>6676 rows × 12 columns</p>\n",
       "</div>"
      ],
      "text/plain": [
       "                                name platform  year_of_release         genre  \\\n",
       "1                  Super Mario Bros.      NES           1985.0      Platform   \n",
       "4           Pokemon Red/Pokemon Blue       GB           1996.0  Role-Playing   \n",
       "5                             Tetris       GB           1989.0        Puzzle   \n",
       "9                          Duck Hunt      NES           1984.0       Shooter   \n",
       "10                        Nintendogs       DS           2005.0    Simulation   \n",
       "...                              ...      ...              ...           ...   \n",
       "16710  Samurai Warriors: Sanada Maru      PS3           2016.0        Action   \n",
       "16711               LMA Manager 2007     X360           2006.0        Sports   \n",
       "16712        Haitaka no Psychedelica      PSV           2016.0     Adventure   \n",
       "16713               Spirits & Spells      GBA           2003.0      Platform   \n",
       "16714            Winning Post 8 2016      PSV           2016.0    Simulation   \n",
       "\n",
       "       na_sales  eu_sales  jp_sales  other_sales  critic_score  user_score  \\\n",
       "1         29.08      3.58      6.81         0.77          -1.0         0.0   \n",
       "4         11.27      8.89     10.22         1.00          -1.0         0.0   \n",
       "5         23.20      2.26      4.22         0.58          -1.0         0.0   \n",
       "9         26.93      0.63      0.28         0.47          -1.0         0.0   \n",
       "10         9.05     10.95      1.93         2.74          -1.0         0.0   \n",
       "...         ...       ...       ...          ...           ...         ...   \n",
       "16710      0.00      0.00      0.01         0.00          -1.0         0.0   \n",
       "16711      0.00      0.01      0.00         0.00          -1.0         0.0   \n",
       "16712      0.00      0.00      0.01         0.00          -1.0         0.0   \n",
       "16713      0.01      0.00      0.00         0.00          -1.0         0.0   \n",
       "16714      0.00      0.00      0.01         0.00          -1.0         0.0   \n",
       "\n",
       "      rating  all_sales  \n",
       "1        NaN      40.24  \n",
       "4        NaN      31.38  \n",
       "5        NaN      30.26  \n",
       "9        NaN      28.31  \n",
       "10       NaN      24.67  \n",
       "...      ...        ...  \n",
       "16710    NaN       0.01  \n",
       "16711    NaN       0.01  \n",
       "16712    NaN       0.01  \n",
       "16713    NaN       0.01  \n",
       "16714    NaN       0.01  \n",
       "\n",
       "[6676 rows x 12 columns]"
      ]
     },
     "execution_count": 31,
     "metadata": {},
     "output_type": "execute_result"
    }
   ],
   "source": [
    "data[data['rating'].isna()==True]"
   ]
  },
  {
   "cell_type": "code",
   "execution_count": 32,
   "metadata": {},
   "outputs": [
    {
     "data": {
      "text/plain": [
       "6676"
      ]
     },
     "execution_count": 32,
     "metadata": {},
     "output_type": "execute_result"
    }
   ],
   "source": [
    "\n",
    "data['rating'].isna().sum()"
   ]
  },
  {
   "cell_type": "code",
   "execution_count": 33,
   "metadata": {},
   "outputs": [
    {
     "data": {
      "text/plain": [
       "0.406"
      ]
     },
     "execution_count": 33,
     "metadata": {},
     "output_type": "execute_result"
    }
   ],
   "source": [
    "data['rating'].isna().mean().round(3)"
   ]
  },
  {
   "cell_type": "markdown",
   "metadata": {},
   "source": [
    "В данном случае придется оставить пропуски без какой-то особой обработки. В данном случае нет идей как можно заполнить данные значения. Заменю их на 0."
   ]
  },
  {
   "cell_type": "code",
   "execution_count": 34,
   "metadata": {},
   "outputs": [
    {
     "data": {
      "text/plain": [
       "0"
      ]
     },
     "execution_count": 34,
     "metadata": {},
     "output_type": "execute_result"
    }
   ],
   "source": [
    "#data['rating'].fillna(-1, inplace=True)\n",
    "data['rating'] = data['rating'].fillna(0)\n",
    "data['year_of_release'].isna().sum()"
   ]
  },
  {
   "cell_type": "markdown",
   "metadata": {},
   "source": [
    "Пропусков нет"
   ]
  },
  {
   "cell_type": "code",
   "execution_count": 35,
   "metadata": {},
   "outputs": [
    {
     "data": {
      "text/html": [
       "<div>\n",
       "<style scoped>\n",
       "    .dataframe tbody tr th:only-of-type {\n",
       "        vertical-align: middle;\n",
       "    }\n",
       "\n",
       "    .dataframe tbody tr th {\n",
       "        vertical-align: top;\n",
       "    }\n",
       "\n",
       "    .dataframe thead th {\n",
       "        text-align: right;\n",
       "    }\n",
       "</style>\n",
       "<table border=\"1\" class=\"dataframe\">\n",
       "  <thead>\n",
       "    <tr style=\"text-align: right;\">\n",
       "      <th></th>\n",
       "      <th>name</th>\n",
       "      <th>platform</th>\n",
       "      <th>year_of_release</th>\n",
       "      <th>genre</th>\n",
       "      <th>na_sales</th>\n",
       "      <th>eu_sales</th>\n",
       "      <th>jp_sales</th>\n",
       "      <th>other_sales</th>\n",
       "      <th>critic_score</th>\n",
       "      <th>user_score</th>\n",
       "      <th>rating</th>\n",
       "      <th>all_sales</th>\n",
       "    </tr>\n",
       "  </thead>\n",
       "  <tbody>\n",
       "    <tr>\n",
       "      <th>0</th>\n",
       "      <td>Wii Sports</td>\n",
       "      <td>Wii</td>\n",
       "      <td>2006.0</td>\n",
       "      <td>Sports</td>\n",
       "      <td>41.36</td>\n",
       "      <td>28.96</td>\n",
       "      <td>3.77</td>\n",
       "      <td>8.45</td>\n",
       "      <td>76.0</td>\n",
       "      <td>8.0</td>\n",
       "      <td>E</td>\n",
       "      <td>82.54</td>\n",
       "    </tr>\n",
       "    <tr>\n",
       "      <th>1</th>\n",
       "      <td>Super Mario Bros.</td>\n",
       "      <td>NES</td>\n",
       "      <td>1985.0</td>\n",
       "      <td>Platform</td>\n",
       "      <td>29.08</td>\n",
       "      <td>3.58</td>\n",
       "      <td>6.81</td>\n",
       "      <td>0.77</td>\n",
       "      <td>-1.0</td>\n",
       "      <td>0.0</td>\n",
       "      <td>0</td>\n",
       "      <td>40.24</td>\n",
       "    </tr>\n",
       "    <tr>\n",
       "      <th>2</th>\n",
       "      <td>Mario Kart Wii</td>\n",
       "      <td>Wii</td>\n",
       "      <td>2008.0</td>\n",
       "      <td>Racing</td>\n",
       "      <td>15.68</td>\n",
       "      <td>12.76</td>\n",
       "      <td>3.79</td>\n",
       "      <td>3.29</td>\n",
       "      <td>82.0</td>\n",
       "      <td>8.3</td>\n",
       "      <td>E</td>\n",
       "      <td>35.52</td>\n",
       "    </tr>\n",
       "    <tr>\n",
       "      <th>3</th>\n",
       "      <td>Wii Sports Resort</td>\n",
       "      <td>Wii</td>\n",
       "      <td>2009.0</td>\n",
       "      <td>Sports</td>\n",
       "      <td>15.61</td>\n",
       "      <td>10.93</td>\n",
       "      <td>3.28</td>\n",
       "      <td>2.95</td>\n",
       "      <td>80.0</td>\n",
       "      <td>8.0</td>\n",
       "      <td>E</td>\n",
       "      <td>32.77</td>\n",
       "    </tr>\n",
       "    <tr>\n",
       "      <th>4</th>\n",
       "      <td>Pokemon Red/Pokemon Blue</td>\n",
       "      <td>GB</td>\n",
       "      <td>1996.0</td>\n",
       "      <td>Role-Playing</td>\n",
       "      <td>11.27</td>\n",
       "      <td>8.89</td>\n",
       "      <td>10.22</td>\n",
       "      <td>1.00</td>\n",
       "      <td>-1.0</td>\n",
       "      <td>0.0</td>\n",
       "      <td>0</td>\n",
       "      <td>31.38</td>\n",
       "    </tr>\n",
       "    <tr>\n",
       "      <th>5</th>\n",
       "      <td>Tetris</td>\n",
       "      <td>GB</td>\n",
       "      <td>1989.0</td>\n",
       "      <td>Puzzle</td>\n",
       "      <td>23.20</td>\n",
       "      <td>2.26</td>\n",
       "      <td>4.22</td>\n",
       "      <td>0.58</td>\n",
       "      <td>-1.0</td>\n",
       "      <td>0.0</td>\n",
       "      <td>0</td>\n",
       "      <td>30.26</td>\n",
       "    </tr>\n",
       "    <tr>\n",
       "      <th>6</th>\n",
       "      <td>New Super Mario Bros.</td>\n",
       "      <td>DS</td>\n",
       "      <td>2006.0</td>\n",
       "      <td>Platform</td>\n",
       "      <td>11.28</td>\n",
       "      <td>9.14</td>\n",
       "      <td>6.50</td>\n",
       "      <td>2.88</td>\n",
       "      <td>89.0</td>\n",
       "      <td>8.5</td>\n",
       "      <td>E</td>\n",
       "      <td>29.80</td>\n",
       "    </tr>\n",
       "    <tr>\n",
       "      <th>7</th>\n",
       "      <td>Wii Play</td>\n",
       "      <td>Wii</td>\n",
       "      <td>2006.0</td>\n",
       "      <td>Misc</td>\n",
       "      <td>13.96</td>\n",
       "      <td>9.18</td>\n",
       "      <td>2.93</td>\n",
       "      <td>2.84</td>\n",
       "      <td>58.0</td>\n",
       "      <td>6.6</td>\n",
       "      <td>E</td>\n",
       "      <td>28.91</td>\n",
       "    </tr>\n",
       "    <tr>\n",
       "      <th>8</th>\n",
       "      <td>New Super Mario Bros. Wii</td>\n",
       "      <td>Wii</td>\n",
       "      <td>2009.0</td>\n",
       "      <td>Platform</td>\n",
       "      <td>14.44</td>\n",
       "      <td>6.94</td>\n",
       "      <td>4.70</td>\n",
       "      <td>2.24</td>\n",
       "      <td>87.0</td>\n",
       "      <td>8.4</td>\n",
       "      <td>E</td>\n",
       "      <td>28.32</td>\n",
       "    </tr>\n",
       "    <tr>\n",
       "      <th>9</th>\n",
       "      <td>Duck Hunt</td>\n",
       "      <td>NES</td>\n",
       "      <td>1984.0</td>\n",
       "      <td>Shooter</td>\n",
       "      <td>26.93</td>\n",
       "      <td>0.63</td>\n",
       "      <td>0.28</td>\n",
       "      <td>0.47</td>\n",
       "      <td>-1.0</td>\n",
       "      <td>0.0</td>\n",
       "      <td>0</td>\n",
       "      <td>28.31</td>\n",
       "    </tr>\n",
       "    <tr>\n",
       "      <th>10</th>\n",
       "      <td>Nintendogs</td>\n",
       "      <td>DS</td>\n",
       "      <td>2005.0</td>\n",
       "      <td>Simulation</td>\n",
       "      <td>9.05</td>\n",
       "      <td>10.95</td>\n",
       "      <td>1.93</td>\n",
       "      <td>2.74</td>\n",
       "      <td>-1.0</td>\n",
       "      <td>0.0</td>\n",
       "      <td>0</td>\n",
       "      <td>24.67</td>\n",
       "    </tr>\n",
       "    <tr>\n",
       "      <th>11</th>\n",
       "      <td>Mario Kart DS</td>\n",
       "      <td>DS</td>\n",
       "      <td>2005.0</td>\n",
       "      <td>Racing</td>\n",
       "      <td>9.71</td>\n",
       "      <td>7.47</td>\n",
       "      <td>4.13</td>\n",
       "      <td>1.90</td>\n",
       "      <td>91.0</td>\n",
       "      <td>8.6</td>\n",
       "      <td>E</td>\n",
       "      <td>23.21</td>\n",
       "    </tr>\n",
       "    <tr>\n",
       "      <th>12</th>\n",
       "      <td>Pokemon Gold/Pokemon Silver</td>\n",
       "      <td>GB</td>\n",
       "      <td>1999.0</td>\n",
       "      <td>Role-Playing</td>\n",
       "      <td>9.00</td>\n",
       "      <td>6.18</td>\n",
       "      <td>7.20</td>\n",
       "      <td>0.71</td>\n",
       "      <td>-1.0</td>\n",
       "      <td>0.0</td>\n",
       "      <td>0</td>\n",
       "      <td>23.09</td>\n",
       "    </tr>\n",
       "    <tr>\n",
       "      <th>13</th>\n",
       "      <td>Wii Fit</td>\n",
       "      <td>Wii</td>\n",
       "      <td>2007.0</td>\n",
       "      <td>Sports</td>\n",
       "      <td>8.92</td>\n",
       "      <td>8.03</td>\n",
       "      <td>3.60</td>\n",
       "      <td>2.15</td>\n",
       "      <td>80.0</td>\n",
       "      <td>7.7</td>\n",
       "      <td>E</td>\n",
       "      <td>22.70</td>\n",
       "    </tr>\n",
       "    <tr>\n",
       "      <th>14</th>\n",
       "      <td>Kinect Adventures!</td>\n",
       "      <td>X360</td>\n",
       "      <td>2010.0</td>\n",
       "      <td>Misc</td>\n",
       "      <td>15.00</td>\n",
       "      <td>4.89</td>\n",
       "      <td>0.24</td>\n",
       "      <td>1.69</td>\n",
       "      <td>61.0</td>\n",
       "      <td>6.3</td>\n",
       "      <td>E</td>\n",
       "      <td>21.82</td>\n",
       "    </tr>\n",
       "    <tr>\n",
       "      <th>15</th>\n",
       "      <td>Wii Fit Plus</td>\n",
       "      <td>Wii</td>\n",
       "      <td>2009.0</td>\n",
       "      <td>Sports</td>\n",
       "      <td>9.01</td>\n",
       "      <td>8.49</td>\n",
       "      <td>2.53</td>\n",
       "      <td>1.77</td>\n",
       "      <td>80.0</td>\n",
       "      <td>7.4</td>\n",
       "      <td>E</td>\n",
       "      <td>21.80</td>\n",
       "    </tr>\n",
       "    <tr>\n",
       "      <th>16</th>\n",
       "      <td>Grand Theft Auto V</td>\n",
       "      <td>PS3</td>\n",
       "      <td>2013.0</td>\n",
       "      <td>Action</td>\n",
       "      <td>7.02</td>\n",
       "      <td>9.09</td>\n",
       "      <td>0.98</td>\n",
       "      <td>3.96</td>\n",
       "      <td>97.0</td>\n",
       "      <td>8.2</td>\n",
       "      <td>M</td>\n",
       "      <td>21.05</td>\n",
       "    </tr>\n",
       "    <tr>\n",
       "      <th>17</th>\n",
       "      <td>Grand Theft Auto: San Andreas</td>\n",
       "      <td>PS2</td>\n",
       "      <td>2004.0</td>\n",
       "      <td>Action</td>\n",
       "      <td>9.43</td>\n",
       "      <td>0.40</td>\n",
       "      <td>0.41</td>\n",
       "      <td>10.57</td>\n",
       "      <td>95.0</td>\n",
       "      <td>9.0</td>\n",
       "      <td>M</td>\n",
       "      <td>20.81</td>\n",
       "    </tr>\n",
       "    <tr>\n",
       "      <th>18</th>\n",
       "      <td>Super Mario World</td>\n",
       "      <td>SNES</td>\n",
       "      <td>1990.0</td>\n",
       "      <td>Platform</td>\n",
       "      <td>12.78</td>\n",
       "      <td>3.75</td>\n",
       "      <td>3.54</td>\n",
       "      <td>0.55</td>\n",
       "      <td>-1.0</td>\n",
       "      <td>0.0</td>\n",
       "      <td>0</td>\n",
       "      <td>20.62</td>\n",
       "    </tr>\n",
       "    <tr>\n",
       "      <th>19</th>\n",
       "      <td>Brain Age: Train Your Brain in Minutes a Day</td>\n",
       "      <td>DS</td>\n",
       "      <td>2005.0</td>\n",
       "      <td>Misc</td>\n",
       "      <td>4.74</td>\n",
       "      <td>9.20</td>\n",
       "      <td>4.16</td>\n",
       "      <td>2.04</td>\n",
       "      <td>77.0</td>\n",
       "      <td>7.9</td>\n",
       "      <td>E</td>\n",
       "      <td>20.14</td>\n",
       "    </tr>\n",
       "  </tbody>\n",
       "</table>\n",
       "</div>"
      ],
      "text/plain": [
       "                                            name platform  year_of_release  \\\n",
       "0                                     Wii Sports      Wii           2006.0   \n",
       "1                              Super Mario Bros.      NES           1985.0   \n",
       "2                                 Mario Kart Wii      Wii           2008.0   \n",
       "3                              Wii Sports Resort      Wii           2009.0   \n",
       "4                       Pokemon Red/Pokemon Blue       GB           1996.0   \n",
       "5                                         Tetris       GB           1989.0   \n",
       "6                          New Super Mario Bros.       DS           2006.0   \n",
       "7                                       Wii Play      Wii           2006.0   \n",
       "8                      New Super Mario Bros. Wii      Wii           2009.0   \n",
       "9                                      Duck Hunt      NES           1984.0   \n",
       "10                                    Nintendogs       DS           2005.0   \n",
       "11                                 Mario Kart DS       DS           2005.0   \n",
       "12                   Pokemon Gold/Pokemon Silver       GB           1999.0   \n",
       "13                                       Wii Fit      Wii           2007.0   \n",
       "14                            Kinect Adventures!     X360           2010.0   \n",
       "15                                  Wii Fit Plus      Wii           2009.0   \n",
       "16                            Grand Theft Auto V      PS3           2013.0   \n",
       "17                 Grand Theft Auto: San Andreas      PS2           2004.0   \n",
       "18                             Super Mario World     SNES           1990.0   \n",
       "19  Brain Age: Train Your Brain in Minutes a Day       DS           2005.0   \n",
       "\n",
       "           genre  na_sales  eu_sales  jp_sales  other_sales  critic_score  \\\n",
       "0         Sports     41.36     28.96      3.77         8.45          76.0   \n",
       "1       Platform     29.08      3.58      6.81         0.77          -1.0   \n",
       "2         Racing     15.68     12.76      3.79         3.29          82.0   \n",
       "3         Sports     15.61     10.93      3.28         2.95          80.0   \n",
       "4   Role-Playing     11.27      8.89     10.22         1.00          -1.0   \n",
       "5         Puzzle     23.20      2.26      4.22         0.58          -1.0   \n",
       "6       Platform     11.28      9.14      6.50         2.88          89.0   \n",
       "7           Misc     13.96      9.18      2.93         2.84          58.0   \n",
       "8       Platform     14.44      6.94      4.70         2.24          87.0   \n",
       "9        Shooter     26.93      0.63      0.28         0.47          -1.0   \n",
       "10    Simulation      9.05     10.95      1.93         2.74          -1.0   \n",
       "11        Racing      9.71      7.47      4.13         1.90          91.0   \n",
       "12  Role-Playing      9.00      6.18      7.20         0.71          -1.0   \n",
       "13        Sports      8.92      8.03      3.60         2.15          80.0   \n",
       "14          Misc     15.00      4.89      0.24         1.69          61.0   \n",
       "15        Sports      9.01      8.49      2.53         1.77          80.0   \n",
       "16        Action      7.02      9.09      0.98         3.96          97.0   \n",
       "17        Action      9.43      0.40      0.41        10.57          95.0   \n",
       "18      Platform     12.78      3.75      3.54         0.55          -1.0   \n",
       "19          Misc      4.74      9.20      4.16         2.04          77.0   \n",
       "\n",
       "    user_score rating  all_sales  \n",
       "0          8.0      E      82.54  \n",
       "1          0.0      0      40.24  \n",
       "2          8.3      E      35.52  \n",
       "3          8.0      E      32.77  \n",
       "4          0.0      0      31.38  \n",
       "5          0.0      0      30.26  \n",
       "6          8.5      E      29.80  \n",
       "7          6.6      E      28.91  \n",
       "8          8.4      E      28.32  \n",
       "9          0.0      0      28.31  \n",
       "10         0.0      0      24.67  \n",
       "11         8.6      E      23.21  \n",
       "12         0.0      0      23.09  \n",
       "13         7.7      E      22.70  \n",
       "14         6.3      E      21.82  \n",
       "15         7.4      E      21.80  \n",
       "16         8.2      M      21.05  \n",
       "17         9.0      M      20.81  \n",
       "18         0.0      0      20.62  \n",
       "19         7.9      E      20.14  "
      ]
     },
     "metadata": {},
     "output_type": "display_data"
    },
    {
     "data": {
      "text/html": [
       "<div>\n",
       "<style scoped>\n",
       "    .dataframe tbody tr th:only-of-type {\n",
       "        vertical-align: middle;\n",
       "    }\n",
       "\n",
       "    .dataframe tbody tr th {\n",
       "        vertical-align: top;\n",
       "    }\n",
       "\n",
       "    .dataframe thead th {\n",
       "        text-align: right;\n",
       "    }\n",
       "</style>\n",
       "<table border=\"1\" class=\"dataframe\">\n",
       "  <thead>\n",
       "    <tr style=\"text-align: right;\">\n",
       "      <th></th>\n",
       "      <th>name</th>\n",
       "      <th>platform</th>\n",
       "      <th>year_of_release</th>\n",
       "      <th>genre</th>\n",
       "      <th>na_sales</th>\n",
       "      <th>eu_sales</th>\n",
       "      <th>jp_sales</th>\n",
       "      <th>other_sales</th>\n",
       "      <th>critic_score</th>\n",
       "      <th>user_score</th>\n",
       "      <th>rating</th>\n",
       "      <th>all_sales</th>\n",
       "    </tr>\n",
       "  </thead>\n",
       "  <tbody>\n",
       "    <tr>\n",
       "      <th>0</th>\n",
       "      <td>Wii Sports</td>\n",
       "      <td>Wii</td>\n",
       "      <td>2006.0</td>\n",
       "      <td>Sports</td>\n",
       "      <td>41.36</td>\n",
       "      <td>28.96</td>\n",
       "      <td>3.77</td>\n",
       "      <td>8.45</td>\n",
       "      <td>76.0</td>\n",
       "      <td>8.0</td>\n",
       "      <td>E</td>\n",
       "      <td>82.54</td>\n",
       "    </tr>\n",
       "    <tr>\n",
       "      <th>1</th>\n",
       "      <td>Super Mario Bros.</td>\n",
       "      <td>NES</td>\n",
       "      <td>1985.0</td>\n",
       "      <td>Platform</td>\n",
       "      <td>29.08</td>\n",
       "      <td>3.58</td>\n",
       "      <td>6.81</td>\n",
       "      <td>0.77</td>\n",
       "      <td>-1.0</td>\n",
       "      <td>0.0</td>\n",
       "      <td>0</td>\n",
       "      <td>40.24</td>\n",
       "    </tr>\n",
       "    <tr>\n",
       "      <th>2</th>\n",
       "      <td>Mario Kart Wii</td>\n",
       "      <td>Wii</td>\n",
       "      <td>2008.0</td>\n",
       "      <td>Racing</td>\n",
       "      <td>15.68</td>\n",
       "      <td>12.76</td>\n",
       "      <td>3.79</td>\n",
       "      <td>3.29</td>\n",
       "      <td>82.0</td>\n",
       "      <td>8.3</td>\n",
       "      <td>E</td>\n",
       "      <td>35.52</td>\n",
       "    </tr>\n",
       "    <tr>\n",
       "      <th>3</th>\n",
       "      <td>Wii Sports Resort</td>\n",
       "      <td>Wii</td>\n",
       "      <td>2009.0</td>\n",
       "      <td>Sports</td>\n",
       "      <td>15.61</td>\n",
       "      <td>10.93</td>\n",
       "      <td>3.28</td>\n",
       "      <td>2.95</td>\n",
       "      <td>80.0</td>\n",
       "      <td>8.0</td>\n",
       "      <td>E</td>\n",
       "      <td>32.77</td>\n",
       "    </tr>\n",
       "    <tr>\n",
       "      <th>4</th>\n",
       "      <td>Pokemon Red/Pokemon Blue</td>\n",
       "      <td>GB</td>\n",
       "      <td>1996.0</td>\n",
       "      <td>Role-Playing</td>\n",
       "      <td>11.27</td>\n",
       "      <td>8.89</td>\n",
       "      <td>10.22</td>\n",
       "      <td>1.00</td>\n",
       "      <td>-1.0</td>\n",
       "      <td>0.0</td>\n",
       "      <td>0</td>\n",
       "      <td>31.38</td>\n",
       "    </tr>\n",
       "    <tr>\n",
       "      <th>5</th>\n",
       "      <td>Tetris</td>\n",
       "      <td>GB</td>\n",
       "      <td>1989.0</td>\n",
       "      <td>Puzzle</td>\n",
       "      <td>23.20</td>\n",
       "      <td>2.26</td>\n",
       "      <td>4.22</td>\n",
       "      <td>0.58</td>\n",
       "      <td>-1.0</td>\n",
       "      <td>0.0</td>\n",
       "      <td>0</td>\n",
       "      <td>30.26</td>\n",
       "    </tr>\n",
       "    <tr>\n",
       "      <th>6</th>\n",
       "      <td>New Super Mario Bros.</td>\n",
       "      <td>DS</td>\n",
       "      <td>2006.0</td>\n",
       "      <td>Platform</td>\n",
       "      <td>11.28</td>\n",
       "      <td>9.14</td>\n",
       "      <td>6.50</td>\n",
       "      <td>2.88</td>\n",
       "      <td>89.0</td>\n",
       "      <td>8.5</td>\n",
       "      <td>E</td>\n",
       "      <td>29.80</td>\n",
       "    </tr>\n",
       "    <tr>\n",
       "      <th>7</th>\n",
       "      <td>Wii Play</td>\n",
       "      <td>Wii</td>\n",
       "      <td>2006.0</td>\n",
       "      <td>Misc</td>\n",
       "      <td>13.96</td>\n",
       "      <td>9.18</td>\n",
       "      <td>2.93</td>\n",
       "      <td>2.84</td>\n",
       "      <td>58.0</td>\n",
       "      <td>6.6</td>\n",
       "      <td>E</td>\n",
       "      <td>28.91</td>\n",
       "    </tr>\n",
       "    <tr>\n",
       "      <th>8</th>\n",
       "      <td>New Super Mario Bros. Wii</td>\n",
       "      <td>Wii</td>\n",
       "      <td>2009.0</td>\n",
       "      <td>Platform</td>\n",
       "      <td>14.44</td>\n",
       "      <td>6.94</td>\n",
       "      <td>4.70</td>\n",
       "      <td>2.24</td>\n",
       "      <td>87.0</td>\n",
       "      <td>8.4</td>\n",
       "      <td>E</td>\n",
       "      <td>28.32</td>\n",
       "    </tr>\n",
       "    <tr>\n",
       "      <th>9</th>\n",
       "      <td>Duck Hunt</td>\n",
       "      <td>NES</td>\n",
       "      <td>1984.0</td>\n",
       "      <td>Shooter</td>\n",
       "      <td>26.93</td>\n",
       "      <td>0.63</td>\n",
       "      <td>0.28</td>\n",
       "      <td>0.47</td>\n",
       "      <td>-1.0</td>\n",
       "      <td>0.0</td>\n",
       "      <td>0</td>\n",
       "      <td>28.31</td>\n",
       "    </tr>\n",
       "    <tr>\n",
       "      <th>10</th>\n",
       "      <td>Nintendogs</td>\n",
       "      <td>DS</td>\n",
       "      <td>2005.0</td>\n",
       "      <td>Simulation</td>\n",
       "      <td>9.05</td>\n",
       "      <td>10.95</td>\n",
       "      <td>1.93</td>\n",
       "      <td>2.74</td>\n",
       "      <td>-1.0</td>\n",
       "      <td>0.0</td>\n",
       "      <td>0</td>\n",
       "      <td>24.67</td>\n",
       "    </tr>\n",
       "    <tr>\n",
       "      <th>11</th>\n",
       "      <td>Mario Kart DS</td>\n",
       "      <td>DS</td>\n",
       "      <td>2005.0</td>\n",
       "      <td>Racing</td>\n",
       "      <td>9.71</td>\n",
       "      <td>7.47</td>\n",
       "      <td>4.13</td>\n",
       "      <td>1.90</td>\n",
       "      <td>91.0</td>\n",
       "      <td>8.6</td>\n",
       "      <td>E</td>\n",
       "      <td>23.21</td>\n",
       "    </tr>\n",
       "    <tr>\n",
       "      <th>12</th>\n",
       "      <td>Pokemon Gold/Pokemon Silver</td>\n",
       "      <td>GB</td>\n",
       "      <td>1999.0</td>\n",
       "      <td>Role-Playing</td>\n",
       "      <td>9.00</td>\n",
       "      <td>6.18</td>\n",
       "      <td>7.20</td>\n",
       "      <td>0.71</td>\n",
       "      <td>-1.0</td>\n",
       "      <td>0.0</td>\n",
       "      <td>0</td>\n",
       "      <td>23.09</td>\n",
       "    </tr>\n",
       "    <tr>\n",
       "      <th>13</th>\n",
       "      <td>Wii Fit</td>\n",
       "      <td>Wii</td>\n",
       "      <td>2007.0</td>\n",
       "      <td>Sports</td>\n",
       "      <td>8.92</td>\n",
       "      <td>8.03</td>\n",
       "      <td>3.60</td>\n",
       "      <td>2.15</td>\n",
       "      <td>80.0</td>\n",
       "      <td>7.7</td>\n",
       "      <td>E</td>\n",
       "      <td>22.70</td>\n",
       "    </tr>\n",
       "    <tr>\n",
       "      <th>14</th>\n",
       "      <td>Kinect Adventures!</td>\n",
       "      <td>X360</td>\n",
       "      <td>2010.0</td>\n",
       "      <td>Misc</td>\n",
       "      <td>15.00</td>\n",
       "      <td>4.89</td>\n",
       "      <td>0.24</td>\n",
       "      <td>1.69</td>\n",
       "      <td>61.0</td>\n",
       "      <td>6.3</td>\n",
       "      <td>E</td>\n",
       "      <td>21.82</td>\n",
       "    </tr>\n",
       "    <tr>\n",
       "      <th>15</th>\n",
       "      <td>Wii Fit Plus</td>\n",
       "      <td>Wii</td>\n",
       "      <td>2009.0</td>\n",
       "      <td>Sports</td>\n",
       "      <td>9.01</td>\n",
       "      <td>8.49</td>\n",
       "      <td>2.53</td>\n",
       "      <td>1.77</td>\n",
       "      <td>80.0</td>\n",
       "      <td>7.4</td>\n",
       "      <td>E</td>\n",
       "      <td>21.80</td>\n",
       "    </tr>\n",
       "    <tr>\n",
       "      <th>16</th>\n",
       "      <td>Grand Theft Auto V</td>\n",
       "      <td>PS3</td>\n",
       "      <td>2013.0</td>\n",
       "      <td>Action</td>\n",
       "      <td>7.02</td>\n",
       "      <td>9.09</td>\n",
       "      <td>0.98</td>\n",
       "      <td>3.96</td>\n",
       "      <td>97.0</td>\n",
       "      <td>8.2</td>\n",
       "      <td>M</td>\n",
       "      <td>21.05</td>\n",
       "    </tr>\n",
       "    <tr>\n",
       "      <th>17</th>\n",
       "      <td>Grand Theft Auto: San Andreas</td>\n",
       "      <td>PS2</td>\n",
       "      <td>2004.0</td>\n",
       "      <td>Action</td>\n",
       "      <td>9.43</td>\n",
       "      <td>0.40</td>\n",
       "      <td>0.41</td>\n",
       "      <td>10.57</td>\n",
       "      <td>95.0</td>\n",
       "      <td>9.0</td>\n",
       "      <td>M</td>\n",
       "      <td>20.81</td>\n",
       "    </tr>\n",
       "    <tr>\n",
       "      <th>18</th>\n",
       "      <td>Super Mario World</td>\n",
       "      <td>SNES</td>\n",
       "      <td>1990.0</td>\n",
       "      <td>Platform</td>\n",
       "      <td>12.78</td>\n",
       "      <td>3.75</td>\n",
       "      <td>3.54</td>\n",
       "      <td>0.55</td>\n",
       "      <td>-1.0</td>\n",
       "      <td>0.0</td>\n",
       "      <td>0</td>\n",
       "      <td>20.62</td>\n",
       "    </tr>\n",
       "    <tr>\n",
       "      <th>19</th>\n",
       "      <td>Brain Age: Train Your Brain in Minutes a Day</td>\n",
       "      <td>DS</td>\n",
       "      <td>2005.0</td>\n",
       "      <td>Misc</td>\n",
       "      <td>4.74</td>\n",
       "      <td>9.20</td>\n",
       "      <td>4.16</td>\n",
       "      <td>2.04</td>\n",
       "      <td>77.0</td>\n",
       "      <td>7.9</td>\n",
       "      <td>E</td>\n",
       "      <td>20.14</td>\n",
       "    </tr>\n",
       "  </tbody>\n",
       "</table>\n",
       "</div>"
      ],
      "text/plain": [
       "                                            name platform  year_of_release  \\\n",
       "0                                     Wii Sports      Wii           2006.0   \n",
       "1                              Super Mario Bros.      NES           1985.0   \n",
       "2                                 Mario Kart Wii      Wii           2008.0   \n",
       "3                              Wii Sports Resort      Wii           2009.0   \n",
       "4                       Pokemon Red/Pokemon Blue       GB           1996.0   \n",
       "5                                         Tetris       GB           1989.0   \n",
       "6                          New Super Mario Bros.       DS           2006.0   \n",
       "7                                       Wii Play      Wii           2006.0   \n",
       "8                      New Super Mario Bros. Wii      Wii           2009.0   \n",
       "9                                      Duck Hunt      NES           1984.0   \n",
       "10                                    Nintendogs       DS           2005.0   \n",
       "11                                 Mario Kart DS       DS           2005.0   \n",
       "12                   Pokemon Gold/Pokemon Silver       GB           1999.0   \n",
       "13                                       Wii Fit      Wii           2007.0   \n",
       "14                            Kinect Adventures!     X360           2010.0   \n",
       "15                                  Wii Fit Plus      Wii           2009.0   \n",
       "16                            Grand Theft Auto V      PS3           2013.0   \n",
       "17                 Grand Theft Auto: San Andreas      PS2           2004.0   \n",
       "18                             Super Mario World     SNES           1990.0   \n",
       "19  Brain Age: Train Your Brain in Minutes a Day       DS           2005.0   \n",
       "\n",
       "           genre  na_sales  eu_sales  jp_sales  other_sales  critic_score  \\\n",
       "0         Sports     41.36     28.96      3.77         8.45          76.0   \n",
       "1       Platform     29.08      3.58      6.81         0.77          -1.0   \n",
       "2         Racing     15.68     12.76      3.79         3.29          82.0   \n",
       "3         Sports     15.61     10.93      3.28         2.95          80.0   \n",
       "4   Role-Playing     11.27      8.89     10.22         1.00          -1.0   \n",
       "5         Puzzle     23.20      2.26      4.22         0.58          -1.0   \n",
       "6       Platform     11.28      9.14      6.50         2.88          89.0   \n",
       "7           Misc     13.96      9.18      2.93         2.84          58.0   \n",
       "8       Platform     14.44      6.94      4.70         2.24          87.0   \n",
       "9        Shooter     26.93      0.63      0.28         0.47          -1.0   \n",
       "10    Simulation      9.05     10.95      1.93         2.74          -1.0   \n",
       "11        Racing      9.71      7.47      4.13         1.90          91.0   \n",
       "12  Role-Playing      9.00      6.18      7.20         0.71          -1.0   \n",
       "13        Sports      8.92      8.03      3.60         2.15          80.0   \n",
       "14          Misc     15.00      4.89      0.24         1.69          61.0   \n",
       "15        Sports      9.01      8.49      2.53         1.77          80.0   \n",
       "16        Action      7.02      9.09      0.98         3.96          97.0   \n",
       "17        Action      9.43      0.40      0.41        10.57          95.0   \n",
       "18      Platform     12.78      3.75      3.54         0.55          -1.0   \n",
       "19          Misc      4.74      9.20      4.16         2.04          77.0   \n",
       "\n",
       "    user_score rating  all_sales  \n",
       "0          8.0      E      82.54  \n",
       "1          0.0      0      40.24  \n",
       "2          8.3      E      35.52  \n",
       "3          8.0      E      32.77  \n",
       "4          0.0      0      31.38  \n",
       "5          0.0      0      30.26  \n",
       "6          8.5      E      29.80  \n",
       "7          6.6      E      28.91  \n",
       "8          8.4      E      28.32  \n",
       "9          0.0      0      28.31  \n",
       "10         0.0      0      24.67  \n",
       "11         8.6      E      23.21  \n",
       "12         0.0      0      23.09  \n",
       "13         7.7      E      22.70  \n",
       "14         6.3      E      21.82  \n",
       "15         7.4      E      21.80  \n",
       "16         8.2      M      21.05  \n",
       "17         9.0      M      20.81  \n",
       "18         0.0      0      20.62  \n",
       "19         7.9      E      20.14  "
      ]
     },
     "metadata": {},
     "output_type": "display_data"
    }
   ],
   "source": [
    "display(data.head(20))\n",
    "display(data_sales.head(20))"
   ]
  },
  {
   "cell_type": "code",
   "execution_count": 36,
   "metadata": {},
   "outputs": [
    {
     "data": {
      "text/plain": [
       "name               0.0\n",
       "platform           0.0\n",
       "year_of_release    0.0\n",
       "genre              0.0\n",
       "na_sales           0.0\n",
       "eu_sales           0.0\n",
       "jp_sales           0.0\n",
       "other_sales        0.0\n",
       "critic_score       0.0\n",
       "user_score         0.0\n",
       "rating             0.0\n",
       "all_sales          0.0\n",
       "dtype: float64"
      ]
     },
     "metadata": {},
     "output_type": "display_data"
    },
    {
     "data": {
      "text/plain": [
       "name                object\n",
       "platform            object\n",
       "year_of_release    float64\n",
       "genre               object\n",
       "na_sales           float64\n",
       "eu_sales           float64\n",
       "jp_sales           float64\n",
       "other_sales        float64\n",
       "critic_score       float64\n",
       "user_score         float64\n",
       "rating              object\n",
       "all_sales          float64\n",
       "dtype: object"
      ]
     },
     "execution_count": 36,
     "metadata": {},
     "output_type": "execute_result"
    }
   ],
   "source": [
    "\n",
    "display(data.isna().mean())\n",
    "\n",
    "data.dtypes"
   ]
  },
  {
   "cell_type": "code",
   "execution_count": 37,
   "metadata": {
    "scrolled": true
   },
   "outputs": [
    {
     "data": {
      "text/plain": [
       "name               0\n",
       "platform           0\n",
       "year_of_release    0\n",
       "genre              0\n",
       "na_sales           0\n",
       "eu_sales           0\n",
       "jp_sales           0\n",
       "other_sales        0\n",
       "critic_score       0\n",
       "user_score         0\n",
       "rating             0\n",
       "all_sales          0\n",
       "dtype: int64"
      ]
     },
     "execution_count": 37,
     "metadata": {},
     "output_type": "execute_result"
    }
   ],
   "source": [
    "data.isna().sum()"
   ]
  },
  {
   "cell_type": "code",
   "execution_count": 38,
   "metadata": {},
   "outputs": [
    {
     "name": "stdout",
     "output_type": "stream",
     "text": [
      "<class 'pandas.core.frame.DataFrame'>\n",
      "Int64Index: 16444 entries, 0 to 16714\n",
      "Data columns (total 12 columns):\n",
      " #   Column           Non-Null Count  Dtype  \n",
      "---  ------           --------------  -----  \n",
      " 0   name             16444 non-null  object \n",
      " 1   platform         16444 non-null  object \n",
      " 2   year_of_release  16444 non-null  float64\n",
      " 3   genre            16444 non-null  object \n",
      " 4   na_sales         16444 non-null  float64\n",
      " 5   eu_sales         16444 non-null  float64\n",
      " 6   jp_sales         16444 non-null  float64\n",
      " 7   other_sales      16444 non-null  float64\n",
      " 8   critic_score     16444 non-null  float64\n",
      " 9   user_score       16444 non-null  float64\n",
      " 10  rating           16444 non-null  object \n",
      " 11  all_sales        16444 non-null  float64\n",
      "dtypes: float64(8), object(4)\n",
      "memory usage: 1.6+ MB\n"
     ]
    }
   ],
   "source": [
    "data.info()"
   ]
  },
  {
   "cell_type": "markdown",
   "metadata": {},
   "source": [
    "## 3 Исследовательский анализ данных"
   ]
  },
  {
   "cell_type": "markdown",
   "metadata": {},
   "source": [
    "### Сколько игр выпускалось в разные годы"
   ]
  },
  {
   "cell_type": "code",
   "execution_count": 39,
   "metadata": {},
   "outputs": [
    {
     "data": {
      "text/plain": [
       "<matplotlib.legend.Legend at 0x7f3f8505e2b0>"
      ]
     },
     "execution_count": 39,
     "metadata": {},
     "output_type": "execute_result"
    },
    {
     "data": {
      "image/png": "[encoded data removed]",
      "text/plain": [
       "<Figure size 936x720 with 1 Axes>"
      ]
     },
     "metadata": {
      "needs_background": "light"
     },
     "output_type": "display_data"
    }
   ],
   "source": [
    "import matplotlib.pyplot as plt\n",
    "data.pivot_table(index=\"year_of_release\", values=\"platform\", aggfunc='count').plot(kind=\"bar\",label='count',figsize=(13,10))\n",
    "plt.legend([\"count\"])"
   ]
  },
  {
   "cell_type": "markdown",
   "metadata": {},
   "source": [
    "По значениям в разные годы определяем тренд продаж. Актуальным кажется период после большого спада к 2012 году, т.е. период с 2012 по 2016 годы.  "
   ]
  },
  {
   "cell_type": "markdown",
   "metadata": {},
   "source": [
    "### Продажи по платформам"
   ]
  },
  {
   "cell_type": "code",
   "execution_count": 40,
   "metadata": {},
   "outputs": [
    {
     "data": {
      "text/plain": [
       "platform\n",
       "PS2     1233.56\n",
       "X360     961.24\n",
       "PS3      931.34\n",
       "Wii      891.18\n",
       "DS       802.78\n",
       "PS       727.58\n",
       "PS4      314.14\n",
       "GBA      312.88\n",
       "PSP      289.53\n",
       "3DS      257.81\n",
       "PC       255.76\n",
       "GB       254.43\n",
       "XB       251.57\n",
       "NES      251.05\n",
       "N64      218.01\n",
       "SNES     200.04\n",
       "GC       196.73\n",
       "XOne     159.32\n",
       "2600      86.48\n",
       "WiiU      82.19\n",
       "PSV       53.81\n",
       "SAT       33.59\n",
       "GEN       28.35\n",
       "DC        15.95\n",
       "SCD        1.86\n",
       "NG         1.44\n",
       "WS         1.42\n",
       "TG16       0.16\n",
       "3DO        0.10\n",
       "GG         0.04\n",
       "PCFX       0.03\n",
       "Name: all_sales, dtype: float64"
      ]
     },
     "execution_count": 40,
     "metadata": {},
     "output_type": "execute_result"
    }
   ],
   "source": [
    "#Определяем суммарные продажи по платформам\n",
    "\n",
    "data.groupby('platform')['all_sales'].sum().sort_values(ascending=False)"
   ]
  },
  {
   "cell_type": "code",
   "execution_count": 41,
   "metadata": {
    "scrolled": true
   },
   "outputs": [
    {
     "data": {
      "text/plain": [
       "<matplotlib.legend.Legend at 0x7f3f84d96940>"
      ]
     },
     "execution_count": 41,
     "metadata": {},
     "output_type": "execute_result"
    },
    {
     "data": {
      "image/png": "[encoded data removed]",
      "text/plain": [
       "<Figure size 720x288 with 1 Axes>"
      ]
     },
     "metadata": {
      "needs_background": "light"
     },
     "output_type": "display_data"
    }
   ],
   "source": [
    "#display(data.head(20))\n",
    "df = data[data['platform']=='PS2'].groupby('year_of_release')['all_sales'].sum()\n",
    "ax = df.plot(grid=True, figsize=(10,4))\n",
    "df = data[data['platform']=='X360'].groupby('year_of_release')['all_sales'].sum()\n",
    "ax = df.plot(grid=True, figsize=(10,4))\n",
    "df = data[data['platform']=='PS3'].groupby('year_of_release')['all_sales'].sum()\n",
    "ax = df.plot(grid=True, figsize=(10,4))\n",
    "\n",
    "xtick=range(2000,2016)\n",
    "ax.set_xticks( xtick, minor=True )\n",
    "ax.grid('on', which='minor', axis='x')\n",
    "ax.grid('off', which='major', axis='x')\n",
    "import matplotlib.pyplot as plt\n",
    "plt.legend(['PS2','X360','PS3'])"
   ]
  },
  {
   "cell_type": "markdown",
   "metadata": {},
   "source": [
    "Чтобы выбрать ТОП платформ использую 75% квантиль. Лидеры должны быть лидерами и должны показывать продажи лучше чем все в среднем."
   ]
  },
  {
   "cell_type": "code",
   "execution_count": 42,
   "metadata": {},
   "outputs": [
    {
     "name": "stdout",
     "output_type": "stream",
     "text": [
      "    platform  year_of_release  all_sales\n",
      "0       2600           1980.0      11.38\n",
      "1       2600           1981.0      35.68\n",
      "2       2600           1982.0      28.88\n",
      "3       2600           1983.0       5.84\n",
      "4       2600           1984.0       0.27\n",
      "..       ...              ...        ...\n",
      "233       XB           2008.0       0.18\n",
      "234     XOne           2013.0      18.96\n",
      "235     XOne           2014.0      54.07\n",
      "236     XOne           2015.0      60.14\n",
      "237     XOne           2016.0      26.15\n",
      "\n",
      "[238 rows x 3 columns]\n"
     ]
    }
   ],
   "source": [
    "years_total_sales = (data\n",
    "                   .pivot_table(index=['platform', 'year_of_release'], aggfunc={'all_sales':'sum'})\n",
    "                   .reset_index()\n",
    "                  )\n",
    "print(years_total_sales)"
   ]
  },
  {
   "cell_type": "code",
   "execution_count": 43,
   "metadata": {},
   "outputs": [
    {
     "data": {
      "text/html": [
       "<div>\n",
       "<style scoped>\n",
       "    .dataframe tbody tr th:only-of-type {\n",
       "        vertical-align: middle;\n",
       "    }\n",
       "\n",
       "    .dataframe tbody tr th {\n",
       "        vertical-align: top;\n",
       "    }\n",
       "\n",
       "    .dataframe thead th {\n",
       "        text-align: right;\n",
       "    }\n",
       "</style>\n",
       "<table border=\"1\" class=\"dataframe\">\n",
       "  <thead>\n",
       "    <tr style=\"text-align: right;\">\n",
       "      <th></th>\n",
       "      <th>platform</th>\n",
       "      <th>all_sales</th>\n",
       "    </tr>\n",
       "  </thead>\n",
       "  <tbody>\n",
       "    <tr>\n",
       "      <th>16</th>\n",
       "      <td>PS2</td>\n",
       "      <td>1233.56</td>\n",
       "    </tr>\n",
       "    <tr>\n",
       "      <th>28</th>\n",
       "      <td>X360</td>\n",
       "      <td>961.24</td>\n",
       "    </tr>\n",
       "    <tr>\n",
       "      <th>17</th>\n",
       "      <td>PS3</td>\n",
       "      <td>931.34</td>\n",
       "    </tr>\n",
       "    <tr>\n",
       "      <th>26</th>\n",
       "      <td>Wii</td>\n",
       "      <td>891.18</td>\n",
       "    </tr>\n",
       "    <tr>\n",
       "      <th>4</th>\n",
       "      <td>DS</td>\n",
       "      <td>802.78</td>\n",
       "    </tr>\n",
       "    <tr>\n",
       "      <th>15</th>\n",
       "      <td>PS</td>\n",
       "      <td>727.58</td>\n",
       "    </tr>\n",
       "    <tr>\n",
       "      <th>18</th>\n",
       "      <td>PS4</td>\n",
       "      <td>314.14</td>\n",
       "    </tr>\n",
       "    <tr>\n",
       "      <th>6</th>\n",
       "      <td>GBA</td>\n",
       "      <td>312.88</td>\n",
       "    </tr>\n",
       "    <tr>\n",
       "      <th>19</th>\n",
       "      <td>PSP</td>\n",
       "      <td>289.53</td>\n",
       "    </tr>\n",
       "    <tr>\n",
       "      <th>2</th>\n",
       "      <td>3DS</td>\n",
       "      <td>257.81</td>\n",
       "    </tr>\n",
       "    <tr>\n",
       "      <th>13</th>\n",
       "      <td>PC</td>\n",
       "      <td>255.76</td>\n",
       "    </tr>\n",
       "    <tr>\n",
       "      <th>5</th>\n",
       "      <td>GB</td>\n",
       "      <td>254.43</td>\n",
       "    </tr>\n",
       "    <tr>\n",
       "      <th>29</th>\n",
       "      <td>XB</td>\n",
       "      <td>251.57</td>\n",
       "    </tr>\n",
       "    <tr>\n",
       "      <th>11</th>\n",
       "      <td>NES</td>\n",
       "      <td>251.05</td>\n",
       "    </tr>\n",
       "    <tr>\n",
       "      <th>10</th>\n",
       "      <td>N64</td>\n",
       "      <td>218.01</td>\n",
       "    </tr>\n",
       "    <tr>\n",
       "      <th>23</th>\n",
       "      <td>SNES</td>\n",
       "      <td>200.04</td>\n",
       "    </tr>\n",
       "    <tr>\n",
       "      <th>7</th>\n",
       "      <td>GC</td>\n",
       "      <td>196.73</td>\n",
       "    </tr>\n",
       "    <tr>\n",
       "      <th>30</th>\n",
       "      <td>XOne</td>\n",
       "      <td>159.32</td>\n",
       "    </tr>\n",
       "    <tr>\n",
       "      <th>0</th>\n",
       "      <td>2600</td>\n",
       "      <td>86.48</td>\n",
       "    </tr>\n",
       "    <tr>\n",
       "      <th>27</th>\n",
       "      <td>WiiU</td>\n",
       "      <td>82.19</td>\n",
       "    </tr>\n",
       "    <tr>\n",
       "      <th>20</th>\n",
       "      <td>PSV</td>\n",
       "      <td>53.81</td>\n",
       "    </tr>\n",
       "    <tr>\n",
       "      <th>21</th>\n",
       "      <td>SAT</td>\n",
       "      <td>33.59</td>\n",
       "    </tr>\n",
       "    <tr>\n",
       "      <th>8</th>\n",
       "      <td>GEN</td>\n",
       "      <td>28.35</td>\n",
       "    </tr>\n",
       "    <tr>\n",
       "      <th>3</th>\n",
       "      <td>DC</td>\n",
       "      <td>15.95</td>\n",
       "    </tr>\n",
       "    <tr>\n",
       "      <th>22</th>\n",
       "      <td>SCD</td>\n",
       "      <td>1.86</td>\n",
       "    </tr>\n",
       "    <tr>\n",
       "      <th>12</th>\n",
       "      <td>NG</td>\n",
       "      <td>1.44</td>\n",
       "    </tr>\n",
       "    <tr>\n",
       "      <th>25</th>\n",
       "      <td>WS</td>\n",
       "      <td>1.42</td>\n",
       "    </tr>\n",
       "    <tr>\n",
       "      <th>24</th>\n",
       "      <td>TG16</td>\n",
       "      <td>0.16</td>\n",
       "    </tr>\n",
       "    <tr>\n",
       "      <th>1</th>\n",
       "      <td>3DO</td>\n",
       "      <td>0.10</td>\n",
       "    </tr>\n",
       "    <tr>\n",
       "      <th>9</th>\n",
       "      <td>GG</td>\n",
       "      <td>0.04</td>\n",
       "    </tr>\n",
       "    <tr>\n",
       "      <th>14</th>\n",
       "      <td>PCFX</td>\n",
       "      <td>0.03</td>\n",
       "    </tr>\n",
       "  </tbody>\n",
       "</table>\n",
       "</div>"
      ],
      "text/plain": [
       "   platform  all_sales\n",
       "16      PS2    1233.56\n",
       "28     X360     961.24\n",
       "17      PS3     931.34\n",
       "26      Wii     891.18\n",
       "4        DS     802.78\n",
       "15       PS     727.58\n",
       "18      PS4     314.14\n",
       "6       GBA     312.88\n",
       "19      PSP     289.53\n",
       "2       3DS     257.81\n",
       "13       PC     255.76\n",
       "5        GB     254.43\n",
       "29       XB     251.57\n",
       "11      NES     251.05\n",
       "10      N64     218.01\n",
       "23     SNES     200.04\n",
       "7        GC     196.73\n",
       "30     XOne     159.32\n",
       "0      2600      86.48\n",
       "27     WiiU      82.19\n",
       "20      PSV      53.81\n",
       "21      SAT      33.59\n",
       "8       GEN      28.35\n",
       "3        DC      15.95\n",
       "22      SCD       1.86\n",
       "12       NG       1.44\n",
       "25       WS       1.42\n",
       "24     TG16       0.16\n",
       "1       3DO       0.10\n",
       "9        GG       0.04\n",
       "14     PCFX       0.03"
      ]
     },
     "execution_count": 43,
     "metadata": {},
     "output_type": "execute_result"
    }
   ],
   "source": [
    "platforms_top = (years_total_sales\n",
    "         .pivot_table(index=['platform'], aggfunc={'all_sales':'sum'})\n",
    "         .reset_index()\n",
    "         .sort_values(by='all_sales', ascending=False)\n",
    "        )\n",
    "platforms_top"
   ]
  },
  {
   "cell_type": "code",
   "execution_count": 44,
   "metadata": {},
   "outputs": [
    {
     "name": "stdout",
     "output_type": "stream",
     "text": [
      "16    1233.56\n",
      "28     961.24\n",
      "17     931.34\n",
      "26     891.18\n",
      "4      802.78\n",
      "15     727.58\n",
      "18     314.14\n",
      "6      312.88\n",
      "19     289.53\n",
      "2      257.81\n",
      "13     255.76\n",
      "5      254.43\n",
      "29     251.57\n",
      "11     251.05\n",
      "10     218.01\n",
      "23     200.04\n",
      "7      196.73\n",
      "30     159.32\n",
      "0       86.48\n",
      "27      82.19\n",
      "20      53.81\n",
      "21      33.59\n",
      "8       28.35\n",
      "3       15.95\n",
      "22       1.86\n",
      "12       1.44\n",
      "25       1.42\n",
      "24       0.16\n",
      "1        0.10\n",
      "9        0.04\n",
      "14       0.03\n",
      "Name: all_sales, dtype: float64\n",
      "301.20500000000015\n",
      "['PS2', 'X360', 'PS3', 'Wii', 'DS', 'PS']\n"
     ]
    }
   ],
   "source": [
    "q = platforms_top['all_sales'].quantile(0.75)\n",
    "print(platforms_top['all_sales'])\n",
    "print(q)\n",
    "platforms_top = platforms_top.head(6)\n",
    "#[platforms_top['all_sales'] >= q].copy()\n",
    "\n",
    "platforms_top_name = list(platforms_top['platform'].unique())\n",
    "print(platforms_top_name)"
   ]
  },
  {
   "cell_type": "code",
   "execution_count": 45,
   "metadata": {},
   "outputs": [
    {
     "data": {
      "image/png": "[encoded data removed]",
      "text/plain": [
       "<Figure size 1080x360 with 1 Axes>"
      ]
     },
     "metadata": {
      "needs_background": "light"
     },
     "output_type": "display_data"
    }
   ],
   "source": [
    "fig = plt.figure(figsize=(15,5))\n",
    "ax = fig.add_subplot(111)\n",
    "\n",
    "# Строю графики в цикле\n",
    "for i in platforms_top_name:\n",
    "    x = years_total_sales[years_total_sales['platform']==i]['year_of_release']\n",
    "    y = years_total_sales[years_total_sales['platform']==i]['all_sales']\n",
    "\n",
    "    line = ax.plot(x, y, '-', linewidth=2, label=i)\n",
    "\n",
    "# Улучшения графика    \n",
    "ax.set_title('Динамика продаж ТОП платформ', size=20)\n",
    "ax.set_xlabel('Время')\n",
    "ax.set_ylabel('Продажи в млн.$')\n",
    "ax.legend()\n",
    "ax.grid(True)\n",
    "    # Устанавливаю шаг для делений на оси и меняю их формат\n",
    "    # ax.xaxis.set_major_locator(ticker.MultipleLocator(1))\n",
    "    # for label in ax.get_xticklabels():\n",
    "    #     label.set_rotation(90)\n",
    "    #     label.set_fontsize(15)\n",
    "\n",
    "plt.show();"
   ]
  },
  {
   "cell_type": "markdown",
   "metadata": {},
   "source": [
    "Из распределениям по годам платформ с наибольшими суммарными продажами определяем жизненный цикл платформ - 10 лет."
   ]
  },
  {
   "cell_type": "markdown",
   "metadata": {},
   "source": [
    "### Актуальный период "
   ]
  },
  {
   "cell_type": "markdown",
   "metadata": {},
   "source": [
    "Актуальный период должен быть равен жизненному циклу, но для прогноза достаточно взять за 3 предыдущих года 2014, 2015 и 2016 годы для прогноза на 2017 год, чтобы определить объем продаж и направление тренда."
   ]
  },
  {
   "cell_type": "code",
   "execution_count": 46,
   "metadata": {},
   "outputs": [
    {
     "data": {
      "text/html": [
       "<div>\n",
       "<style scoped>\n",
       "    .dataframe tbody tr th:only-of-type {\n",
       "        vertical-align: middle;\n",
       "    }\n",
       "\n",
       "    .dataframe tbody tr th {\n",
       "        vertical-align: top;\n",
       "    }\n",
       "\n",
       "    .dataframe thead th {\n",
       "        text-align: right;\n",
       "    }\n",
       "</style>\n",
       "<table border=\"1\" class=\"dataframe\">\n",
       "  <thead>\n",
       "    <tr style=\"text-align: right;\">\n",
       "      <th></th>\n",
       "      <th>platform</th>\n",
       "      <th>year_of_release</th>\n",
       "      <th>all_sales</th>\n",
       "    </tr>\n",
       "  </thead>\n",
       "  <tbody>\n",
       "    <tr>\n",
       "      <th>0</th>\n",
       "      <td>3DS</td>\n",
       "      <td>2014.0</td>\n",
       "      <td>43.76</td>\n",
       "    </tr>\n",
       "    <tr>\n",
       "      <th>1</th>\n",
       "      <td>3DS</td>\n",
       "      <td>2015.0</td>\n",
       "      <td>27.78</td>\n",
       "    </tr>\n",
       "    <tr>\n",
       "      <th>2</th>\n",
       "      <td>3DS</td>\n",
       "      <td>2016.0</td>\n",
       "      <td>15.14</td>\n",
       "    </tr>\n",
       "    <tr>\n",
       "      <th>3</th>\n",
       "      <td>PC</td>\n",
       "      <td>2014.0</td>\n",
       "      <td>13.28</td>\n",
       "    </tr>\n",
       "    <tr>\n",
       "      <th>4</th>\n",
       "      <td>PC</td>\n",
       "      <td>2015.0</td>\n",
       "      <td>8.52</td>\n",
       "    </tr>\n",
       "    <tr>\n",
       "      <th>5</th>\n",
       "      <td>PC</td>\n",
       "      <td>2016.0</td>\n",
       "      <td>5.25</td>\n",
       "    </tr>\n",
       "    <tr>\n",
       "      <th>6</th>\n",
       "      <td>PS3</td>\n",
       "      <td>2014.0</td>\n",
       "      <td>47.76</td>\n",
       "    </tr>\n",
       "    <tr>\n",
       "      <th>7</th>\n",
       "      <td>PS3</td>\n",
       "      <td>2015.0</td>\n",
       "      <td>16.82</td>\n",
       "    </tr>\n",
       "    <tr>\n",
       "      <th>8</th>\n",
       "      <td>PS3</td>\n",
       "      <td>2016.0</td>\n",
       "      <td>3.60</td>\n",
       "    </tr>\n",
       "    <tr>\n",
       "      <th>9</th>\n",
       "      <td>PS4</td>\n",
       "      <td>2014.0</td>\n",
       "      <td>100.00</td>\n",
       "    </tr>\n",
       "    <tr>\n",
       "      <th>10</th>\n",
       "      <td>PS4</td>\n",
       "      <td>2015.0</td>\n",
       "      <td>118.90</td>\n",
       "    </tr>\n",
       "    <tr>\n",
       "      <th>11</th>\n",
       "      <td>PS4</td>\n",
       "      <td>2016.0</td>\n",
       "      <td>69.25</td>\n",
       "    </tr>\n",
       "    <tr>\n",
       "      <th>12</th>\n",
       "      <td>PSP</td>\n",
       "      <td>2014.0</td>\n",
       "      <td>0.24</td>\n",
       "    </tr>\n",
       "    <tr>\n",
       "      <th>13</th>\n",
       "      <td>PSP</td>\n",
       "      <td>2015.0</td>\n",
       "      <td>0.12</td>\n",
       "    </tr>\n",
       "    <tr>\n",
       "      <th>14</th>\n",
       "      <td>PSV</td>\n",
       "      <td>2014.0</td>\n",
       "      <td>11.90</td>\n",
       "    </tr>\n",
       "    <tr>\n",
       "      <th>15</th>\n",
       "      <td>PSV</td>\n",
       "      <td>2015.0</td>\n",
       "      <td>6.25</td>\n",
       "    </tr>\n",
       "    <tr>\n",
       "      <th>16</th>\n",
       "      <td>PSV</td>\n",
       "      <td>2016.0</td>\n",
       "      <td>4.25</td>\n",
       "    </tr>\n",
       "    <tr>\n",
       "      <th>17</th>\n",
       "      <td>Wii</td>\n",
       "      <td>2014.0</td>\n",
       "      <td>3.75</td>\n",
       "    </tr>\n",
       "    <tr>\n",
       "      <th>18</th>\n",
       "      <td>Wii</td>\n",
       "      <td>2015.0</td>\n",
       "      <td>1.14</td>\n",
       "    </tr>\n",
       "    <tr>\n",
       "      <th>19</th>\n",
       "      <td>Wii</td>\n",
       "      <td>2016.0</td>\n",
       "      <td>0.18</td>\n",
       "    </tr>\n",
       "    <tr>\n",
       "      <th>20</th>\n",
       "      <td>WiiU</td>\n",
       "      <td>2014.0</td>\n",
       "      <td>22.03</td>\n",
       "    </tr>\n",
       "    <tr>\n",
       "      <th>21</th>\n",
       "      <td>WiiU</td>\n",
       "      <td>2015.0</td>\n",
       "      <td>16.35</td>\n",
       "    </tr>\n",
       "    <tr>\n",
       "      <th>22</th>\n",
       "      <td>WiiU</td>\n",
       "      <td>2016.0</td>\n",
       "      <td>4.60</td>\n",
       "    </tr>\n",
       "    <tr>\n",
       "      <th>23</th>\n",
       "      <td>X360</td>\n",
       "      <td>2014.0</td>\n",
       "      <td>34.74</td>\n",
       "    </tr>\n",
       "    <tr>\n",
       "      <th>24</th>\n",
       "      <td>X360</td>\n",
       "      <td>2015.0</td>\n",
       "      <td>11.96</td>\n",
       "    </tr>\n",
       "    <tr>\n",
       "      <th>25</th>\n",
       "      <td>X360</td>\n",
       "      <td>2016.0</td>\n",
       "      <td>1.52</td>\n",
       "    </tr>\n",
       "    <tr>\n",
       "      <th>26</th>\n",
       "      <td>XOne</td>\n",
       "      <td>2014.0</td>\n",
       "      <td>54.07</td>\n",
       "    </tr>\n",
       "    <tr>\n",
       "      <th>27</th>\n",
       "      <td>XOne</td>\n",
       "      <td>2015.0</td>\n",
       "      <td>60.14</td>\n",
       "    </tr>\n",
       "    <tr>\n",
       "      <th>28</th>\n",
       "      <td>XOne</td>\n",
       "      <td>2016.0</td>\n",
       "      <td>26.15</td>\n",
       "    </tr>\n",
       "  </tbody>\n",
       "</table>\n",
       "</div>"
      ],
      "text/plain": [
       "   platform  year_of_release  all_sales\n",
       "0       3DS           2014.0      43.76\n",
       "1       3DS           2015.0      27.78\n",
       "2       3DS           2016.0      15.14\n",
       "3        PC           2014.0      13.28\n",
       "4        PC           2015.0       8.52\n",
       "5        PC           2016.0       5.25\n",
       "6       PS3           2014.0      47.76\n",
       "7       PS3           2015.0      16.82\n",
       "8       PS3           2016.0       3.60\n",
       "9       PS4           2014.0     100.00\n",
       "10      PS4           2015.0     118.90\n",
       "11      PS4           2016.0      69.25\n",
       "12      PSP           2014.0       0.24\n",
       "13      PSP           2015.0       0.12\n",
       "14      PSV           2014.0      11.90\n",
       "15      PSV           2015.0       6.25\n",
       "16      PSV           2016.0       4.25\n",
       "17      Wii           2014.0       3.75\n",
       "18      Wii           2015.0       1.14\n",
       "19      Wii           2016.0       0.18\n",
       "20     WiiU           2014.0      22.03\n",
       "21     WiiU           2015.0      16.35\n",
       "22     WiiU           2016.0       4.60\n",
       "23     X360           2014.0      34.74\n",
       "24     X360           2015.0      11.96\n",
       "25     X360           2016.0       1.52\n",
       "26     XOne           2014.0      54.07\n",
       "27     XOne           2015.0      60.14\n",
       "28     XOne           2016.0      26.15"
      ]
     },
     "execution_count": 46,
     "metadata": {},
     "output_type": "execute_result"
    }
   ],
   "source": [
    "target_year = data[(data['year_of_release']>=2014) & (data['year_of_release']<=2016)]\n",
    "target_year_10 = data[(data['year_of_release']>=2007) & (data['year_of_release']<=2016)]\n",
    "table = target_year.pivot_table(index=['platform', 'year_of_release'], aggfunc={'all_sales':'sum'}).reset_index()\n",
    "table.head(100)"
   ]
  },
  {
   "cell_type": "code",
   "execution_count": 47,
   "metadata": {},
   "outputs": [
    {
     "data": {
      "image/png": "[encoded data removed]",
      "text/plain": [
       "<Figure size 1080x360 with 1 Axes>"
      ]
     },
     "metadata": {
      "needs_background": "light"
     },
     "output_type": "display_data"
    }
   ],
   "source": [
    "fig = plt.figure(figsize=(15,5))\n",
    "ax = fig.add_subplot(111)\n",
    "\n",
    "# Строю графики в цикле\n",
    "for i in list(table['platform'].unique()):\n",
    "    x = table[table['platform']==i]['year_of_release']\n",
    "    y = table[table['platform']==i]['all_sales']\n",
    "\n",
    "    line = ax.plot(x, y, '-', linewidth=2, label=i)\n",
    "\n",
    "# Улучшения графика    \n",
    "ax.set_title('Динамика продаж', size=20)\n",
    "ax.set_xlabel('Годы')\n",
    "ax.set_ylabel('Продажи в млн.$')\n",
    "ax.legend()\n",
    "ax.grid(True)\n",
    "    # Устанавливаю шаг для делений на оси и меняю их формат\n",
    "    # ax.xaxis.set_major_locator(ticker.MultipleLocator(1))\n",
    "    # for label in ax.get_xticklabels():\n",
    "    #     label.set_rotation(90)\n",
    "    #     label.set_fontsize(15)\n",
    "\n",
    "plt.show();"
   ]
  },
  {
   "cell_type": "code",
   "execution_count": 48,
   "metadata": {},
   "outputs": [],
   "source": [
    "#data_2007_2016 = data.query(\"year_of_release == [2007,2016]\")\n",
    "data_2016 = data.query(\"year_of_release == 2016\")\n",
    "data_2015 = data.query(\"year_of_release == 2015\")"
   ]
  },
  {
   "cell_type": "code",
   "execution_count": 49,
   "metadata": {
    "scrolled": true
   },
   "outputs": [],
   "source": [
    "#display(data_2007_2016.tail(200))"
   ]
  },
  {
   "cell_type": "markdown",
   "metadata": {},
   "source": [
    "Лидируют по продажам"
   ]
  },
  {
   "cell_type": "code",
   "execution_count": 50,
   "metadata": {},
   "outputs": [
    {
     "data": {
      "text/plain": [
       "platform\n",
       "PS4     288.15\n",
       "XOne    140.36\n",
       "3DS      86.68\n",
       "PS3      68.18\n",
       "X360     48.22\n",
       "WiiU     42.98\n",
       "PC       27.05\n",
       "PSV      22.40\n",
       "Wii       5.07\n",
       "PSP       0.36\n",
       "Name: all_sales, dtype: float64"
      ]
     },
     "execution_count": 50,
     "metadata": {},
     "output_type": "execute_result"
    }
   ],
   "source": [
    "target_year = data[(data['year_of_release']>=2014) & (data['year_of_release']<=2016)]\n",
    "target_year.groupby('platform')['all_sales'].sum().sort_values(ascending=False)\n",
    "#display(data_2016)"
   ]
  },
  {
   "cell_type": "code",
   "execution_count": 51,
   "metadata": {},
   "outputs": [
    {
     "data": {
      "text/plain": [
       "platform\n",
       "PS4     69.25\n",
       "XOne    26.15\n",
       "3DS     15.14\n",
       "PC       5.25\n",
       "WiiU     4.60\n",
       "PSV      4.25\n",
       "PS3      3.60\n",
       "X360     1.52\n",
       "Wii      0.18\n",
       "Name: all_sales, dtype: float64"
      ]
     },
     "execution_count": 51,
     "metadata": {},
     "output_type": "execute_result"
    }
   ],
   "source": [
    "# лидеры продаж за 2014-2016 годы\n",
    "\n",
    "data_2016.groupby('platform')['all_sales'].sum().sort_values(ascending=False)"
   ]
  },
  {
   "cell_type": "code",
   "execution_count": 52,
   "metadata": {},
   "outputs": [
    {
     "data": {
      "text/plain": [
       "platform\n",
       "PS4     118.90\n",
       "XOne     60.14\n",
       "3DS      27.78\n",
       "PS3      16.82\n",
       "WiiU     16.35\n",
       "X360     11.96\n",
       "PC        8.52\n",
       "PSV       6.25\n",
       "Wii       1.14\n",
       "PSP       0.12\n",
       "Name: all_sales, dtype: float64"
      ]
     },
     "execution_count": 52,
     "metadata": {},
     "output_type": "execute_result"
    }
   ],
   "source": [
    "# лидеры продаж за 2015 год\n",
    "\n",
    "data_2015.groupby('platform')['all_sales'].sum().sort_values(ascending=False)"
   ]
  },
  {
   "cell_type": "code",
   "execution_count": 53,
   "metadata": {},
   "outputs": [],
   "source": [
    "# определяем тренд продаж - растут или падают\n",
    "\n",
    "df=data_2016.groupby('platform')['all_sales'].sum()-data_2015.groupby('platform')['all_sales'].sum()"
   ]
  },
  {
   "cell_type": "code",
   "execution_count": 54,
   "metadata": {},
   "outputs": [
    {
     "name": "stdout",
     "output_type": "stream",
     "text": [
      "platform\n",
      "3DS    -12.64\n",
      "PC      -3.27\n",
      "PS3    -13.22\n",
      "PS4    -49.65\n",
      "PSP       NaN\n",
      "PSV     -2.00\n",
      "Wii     -0.96\n",
      "WiiU   -11.75\n",
      "X360   -10.44\n",
      "XOne   -33.99\n",
      "Name: all_sales, dtype: float64\n"
     ]
    }
   ],
   "source": [
    "print(df)"
   ]
  },
  {
   "cell_type": "markdown",
   "metadata": {},
   "source": [
    "### Ящик с усами"
   ]
  },
  {
   "cell_type": "markdown",
   "metadata": {},
   "source": [
    "Ящик с усами"
   ]
  },
  {
   "cell_type": "code",
   "execution_count": 55,
   "metadata": {},
   "outputs": [],
   "source": [
    "actual_platforms = [\"PS4\", \"WiiU\", \"XOne\", \"PC\", \"3DS\", \"PS3\" , \"X360\"]\n",
    "df_actual = data.query('year_of_release >= 2014') "
   ]
  },
  {
   "cell_type": "code",
   "execution_count": 56,
   "metadata": {},
   "outputs": [
    {
     "data": {
      "image/png": "[encoded data removed]",
      "text/plain": [
       "<Figure size 720x720 with 1 Axes>"
      ]
     },
     "metadata": {
      "needs_background": "light"
     },
     "output_type": "display_data"
    }
   ],
   "source": [
    "(df_actual.query('platform in @actual_platforms')[['platform', 'name', 'all_sales']]\n",
    " .boxplot(column='all_sales', by='platform', figsize=(10,10))\n",
    ")\n",
    "plt.xlabel('Платформа')\n",
    "plt.ylabel('Количество проданных копий, млн')\n",
    "plt.title('Диаграммы размаха по продажам на актуальных платформах')\n",
    "plt.ylim(0, 4)\n",
    "plt.show()"
   ]
  },
  {
   "cell_type": "code",
   "execution_count": 96,
   "metadata": {},
   "outputs": [
    {
     "data": {
      "image/png": "[encoded data removed]",
      "text/plain": [
       "<Figure size 1080x648 with 1 Axes>"
      ]
     },
     "metadata": {
      "needs_background": "light"
     },
     "output_type": "display_data"
    }
   ],
   "source": [
    "#Код ревьюера\n",
    "plt.figure(figsize= (15, 9))\n",
    "sns.boxplot(x = df_actual['platform'], y = df_actual['all_sales'])\n",
    "plt.title('График \"ящики с усами в разбивке по платформам\"')\n",
    "plt.ylim(0, 3)\n",
    "plt.show()"
   ]
  },
  {
   "cell_type": "markdown",
   "metadata": {},
   "source": [
    "В лидерах PS4, XOne "
   ]
  },
  {
   "cell_type": "code",
   "execution_count": 57,
   "metadata": {},
   "outputs": [
    {
     "data": {
      "text/html": [
       "<div>\n",
       "<style scoped>\n",
       "    .dataframe tbody tr th:only-of-type {\n",
       "        vertical-align: middle;\n",
       "    }\n",
       "\n",
       "    .dataframe tbody tr th {\n",
       "        vertical-align: top;\n",
       "    }\n",
       "\n",
       "    .dataframe thead th {\n",
       "        text-align: right;\n",
       "    }\n",
       "</style>\n",
       "<table border=\"1\" class=\"dataframe\">\n",
       "  <thead>\n",
       "    <tr style=\"text-align: right;\">\n",
       "      <th></th>\n",
       "      <th>name</th>\n",
       "      <th>platform</th>\n",
       "      <th>year_of_release</th>\n",
       "      <th>genre</th>\n",
       "      <th>na_sales</th>\n",
       "      <th>eu_sales</th>\n",
       "      <th>jp_sales</th>\n",
       "      <th>other_sales</th>\n",
       "      <th>critic_score</th>\n",
       "      <th>user_score</th>\n",
       "      <th>rating</th>\n",
       "      <th>all_sales</th>\n",
       "    </tr>\n",
       "  </thead>\n",
       "  <tbody>\n",
       "    <tr>\n",
       "      <th>94</th>\n",
       "      <td>FIFA 17</td>\n",
       "      <td>PS4</td>\n",
       "      <td>2016.0</td>\n",
       "      <td>Sports</td>\n",
       "      <td>0.66</td>\n",
       "      <td>5.75</td>\n",
       "      <td>0.08</td>\n",
       "      <td>1.11</td>\n",
       "      <td>85.0</td>\n",
       "      <td>5.0</td>\n",
       "      <td>E</td>\n",
       "      <td>7.60</td>\n",
       "    </tr>\n",
       "    <tr>\n",
       "      <th>108</th>\n",
       "      <td>Pokemon Sun/Moon</td>\n",
       "      <td>3DS</td>\n",
       "      <td>2016.0</td>\n",
       "      <td>Role-Playing</td>\n",
       "      <td>2.98</td>\n",
       "      <td>1.45</td>\n",
       "      <td>2.26</td>\n",
       "      <td>0.45</td>\n",
       "      <td>-1.0</td>\n",
       "      <td>0.0</td>\n",
       "      <td>0</td>\n",
       "      <td>7.14</td>\n",
       "    </tr>\n",
       "    <tr>\n",
       "      <th>171</th>\n",
       "      <td>Uncharted 4: A Thief's End</td>\n",
       "      <td>PS4</td>\n",
       "      <td>2016.0</td>\n",
       "      <td>Shooter</td>\n",
       "      <td>1.85</td>\n",
       "      <td>2.50</td>\n",
       "      <td>0.19</td>\n",
       "      <td>0.85</td>\n",
       "      <td>93.0</td>\n",
       "      <td>7.9</td>\n",
       "      <td>T</td>\n",
       "      <td>5.39</td>\n",
       "    </tr>\n",
       "    <tr>\n",
       "      <th>245</th>\n",
       "      <td>Call of Duty: Infinite Warfare</td>\n",
       "      <td>PS4</td>\n",
       "      <td>2016.0</td>\n",
       "      <td>Shooter</td>\n",
       "      <td>1.61</td>\n",
       "      <td>2.00</td>\n",
       "      <td>0.15</td>\n",
       "      <td>0.71</td>\n",
       "      <td>77.0</td>\n",
       "      <td>3.4</td>\n",
       "      <td>M</td>\n",
       "      <td>4.47</td>\n",
       "    </tr>\n",
       "    <tr>\n",
       "      <th>289</th>\n",
       "      <td>Battlefield 1</td>\n",
       "      <td>PS4</td>\n",
       "      <td>2016.0</td>\n",
       "      <td>Shooter</td>\n",
       "      <td>1.10</td>\n",
       "      <td>2.15</td>\n",
       "      <td>0.21</td>\n",
       "      <td>0.61</td>\n",
       "      <td>88.0</td>\n",
       "      <td>8.4</td>\n",
       "      <td>M</td>\n",
       "      <td>4.07</td>\n",
       "    </tr>\n",
       "  </tbody>\n",
       "</table>\n",
       "</div>"
      ],
      "text/plain": [
       "                               name platform  year_of_release         genre  \\\n",
       "94                          FIFA 17      PS4           2016.0        Sports   \n",
       "108                Pokemon Sun/Moon      3DS           2016.0  Role-Playing   \n",
       "171      Uncharted 4: A Thief's End      PS4           2016.0       Shooter   \n",
       "245  Call of Duty: Infinite Warfare      PS4           2016.0       Shooter   \n",
       "289                   Battlefield 1      PS4           2016.0       Shooter   \n",
       "\n",
       "     na_sales  eu_sales  jp_sales  other_sales  critic_score  user_score  \\\n",
       "94       0.66      5.75      0.08         1.11          85.0         5.0   \n",
       "108      2.98      1.45      2.26         0.45          -1.0         0.0   \n",
       "171      1.85      2.50      0.19         0.85          93.0         7.9   \n",
       "245      1.61      2.00      0.15         0.71          77.0         3.4   \n",
       "289      1.10      2.15      0.21         0.61          88.0         8.4   \n",
       "\n",
       "    rating  all_sales  \n",
       "94       E       7.60  \n",
       "108      0       7.14  \n",
       "171      T       5.39  \n",
       "245      M       4.47  \n",
       "289      M       4.07  "
      ]
     },
     "metadata": {},
     "output_type": "display_data"
    }
   ],
   "source": [
    "display(data_2016.head())"
   ]
  },
  {
   "cell_type": "code",
   "execution_count": 58,
   "metadata": {},
   "outputs": [
    {
     "data": {
      "text/plain": [
       "<AxesSubplot:>"
      ]
     },
     "execution_count": 58,
     "metadata": {},
     "output_type": "execute_result"
    },
    {
     "data": {
      "image/png": "[encoded data removed]",
      "text/plain": [
       "<Figure size 432x288 with 1 Axes>"
      ]
     },
     "metadata": {
      "needs_background": "light"
     },
     "output_type": "display_data"
    }
   ],
   "source": [
    "data_2016.query(\"year_of_release == 2016\").boxplot('all_sales')"
   ]
  },
  {
   "cell_type": "code",
   "execution_count": 59,
   "metadata": {},
   "outputs": [
    {
     "data": {
      "text/plain": [
       "<AxesSubplot:>"
      ]
     },
     "execution_count": 59,
     "metadata": {},
     "output_type": "execute_result"
    },
    {
     "data": {
      "image/png": "[encoded data removed]",
      "text/plain": [
       "<Figure size 432x288 with 1 Axes>"
      ]
     },
     "metadata": {
      "needs_background": "light"
     },
     "output_type": "display_data"
    }
   ],
   "source": [
    "data_2016.query('platform==\"PS4\"').boxplot('all_sales')"
   ]
  },
  {
   "cell_type": "code",
   "execution_count": 60,
   "metadata": {},
   "outputs": [
    {
     "data": {
      "text/plain": [
       "<AxesSubplot:>"
      ]
     },
     "execution_count": 60,
     "metadata": {},
     "output_type": "execute_result"
    },
    {
     "data": {
      "image/png": "[encoded data removed]",
      "text/plain": [
       "<Figure size 432x288 with 1 Axes>"
      ]
     },
     "metadata": {
      "needs_background": "light"
     },
     "output_type": "display_data"
    }
   ],
   "source": [
    "data_2016.query('platform==\"XOne\"').boxplot('all_sales')"
   ]
  },
  {
   "cell_type": "markdown",
   "metadata": {},
   "source": [
    "Видно, что основная часть 75% продаж до чуть более 0,5 млн, и отдельные выше "
   ]
  },
  {
   "cell_type": "markdown",
   "metadata": {},
   "source": [
    "### Влияние отзывов на продажи на популярной платформе PS4"
   ]
  },
  {
   "cell_type": "markdown",
   "metadata": {},
   "source": [
    "#### влияние отзывов критиков"
   ]
  },
  {
   "cell_type": "code",
   "execution_count": 61,
   "metadata": {
    "scrolled": false
   },
   "outputs": [
    {
     "data": {
      "text/plain": [
       "<AxesSubplot:xlabel='critic_score', ylabel='all_sales'>"
      ]
     },
     "execution_count": 61,
     "metadata": {},
     "output_type": "execute_result"
    },
    {
     "data": {
      "image/png": "[encoded data removed]",
      "text/plain": [
       "<Figure size 432x288 with 1 Axes>"
      ]
     },
     "metadata": {
      "needs_background": "light"
     },
     "output_type": "display_data"
    }
   ],
   "source": [
    "target_year.query('platform==\"PS4\" & critic_score > 0').sort_values('critic_score').plot(x='critic_score', y='all_sales', kind='scatter') "
   ]
  },
  {
   "cell_type": "markdown",
   "metadata": {},
   "source": [
    "по scatter наблюдаем прямую зависимость продаж и оценки критиков"
   ]
  },
  {
   "cell_type": "markdown",
   "metadata": {},
   "source": [
    "#### влияние отзывов пользователей"
   ]
  },
  {
   "cell_type": "code",
   "execution_count": 62,
   "metadata": {
    "scrolled": true
   },
   "outputs": [
    {
     "data": {
      "text/plain": [
       "<AxesSubplot:xlabel='user_score', ylabel='all_sales'>"
      ]
     },
     "execution_count": 62,
     "metadata": {},
     "output_type": "execute_result"
    },
    {
     "data": {
      "image/png": "[encoded data removed]",
      "text/plain": [
       "<Figure size 432x288 with 1 Axes>"
      ]
     },
     "metadata": {
      "needs_background": "light"
     },
     "output_type": "display_data"
    }
   ],
   "source": [
    "target_year.query('platform==\"PS4\" & critic_score > 0').sort_values('user_score').plot(x='user_score', y='all_sales', kind='scatter') "
   ]
  },
  {
   "cell_type": "markdown",
   "metadata": {},
   "source": [
    "здесь наблюдаем прямую зависимость несколько слабее"
   ]
  },
  {
   "cell_type": "markdown",
   "metadata": {},
   "source": [
    "#### вычисление корреляции"
   ]
  },
  {
   "cell_type": "code",
   "execution_count": 63,
   "metadata": {},
   "outputs": [
    {
     "data": {
      "text/plain": [
       "0.40266141068104083"
      ]
     },
     "execution_count": 63,
     "metadata": {},
     "output_type": "execute_result"
    }
   ],
   "source": [
    "\n",
    "target_year.query('platform==\"PS4\" & critic_score > 0')['all_sales']\\\n",
    "    .corr(target_year.query('platform==\"PS4\" & critic_score > 0')['critic_score'])"
   ]
  },
  {
   "cell_type": "code",
   "execution_count": 64,
   "metadata": {},
   "outputs": [
    {
     "data": {
      "text/plain": [
       "-0.040131589472697356"
      ]
     },
     "execution_count": 64,
     "metadata": {},
     "output_type": "execute_result"
    }
   ],
   "source": [
    "\n",
    "target_year.query('platform==\"PS4\" & user_score > 0')['all_sales']\\\n",
    "    .corr(target_year.query('platform==\"PS4\" & user_score > 0')['user_score'])"
   ]
  },
  {
   "cell_type": "markdown",
   "metadata": {},
   "source": [
    "выводы по корреляции не определены, но прямая зависимость продаж и оценки критиков прослеживается."
   ]
  },
  {
   "cell_type": "markdown",
   "metadata": {},
   "source": [
    "### Влияние отзывов на продажи на других платформах"
   ]
  },
  {
   "cell_type": "markdown",
   "metadata": {},
   "source": [
    "влияние отзывов критиков"
   ]
  },
  {
   "cell_type": "code",
   "execution_count": 65,
   "metadata": {
    "scrolled": false
   },
   "outputs": [
    {
     "data": {
      "text/plain": [
       "<AxesSubplot:xlabel='critic_score', ylabel='all_sales'>"
      ]
     },
     "execution_count": 65,
     "metadata": {},
     "output_type": "execute_result"
    },
    {
     "data": {
      "image/png": "[encoded data removed]",
      "text/plain": [
       "<Figure size 432x288 with 1 Axes>"
      ]
     },
     "metadata": {
      "needs_background": "light"
     },
     "output_type": "display_data"
    }
   ],
   "source": [
    "target_year.query('platform==\"XOne\" & critic_score > 0').sort_values('critic_score').plot(x='critic_score', y='all_sales', kind='scatter') "
   ]
  },
  {
   "cell_type": "markdown",
   "metadata": {},
   "source": [
    "прослеживается пямая зависимость продаж и оценки критиков"
   ]
  },
  {
   "cell_type": "markdown",
   "metadata": {},
   "source": [
    "влияние отзывов пользователей"
   ]
  },
  {
   "cell_type": "code",
   "execution_count": 66,
   "metadata": {
    "scrolled": true
   },
   "outputs": [
    {
     "data": {
      "text/plain": [
       "<AxesSubplot:xlabel='user_score', ylabel='all_sales'>"
      ]
     },
     "execution_count": 66,
     "metadata": {},
     "output_type": "execute_result"
    },
    {
     "data": {
      "image/png": "[encoded data removed]",
      "text/plain": [
       "<Figure size 432x288 with 1 Axes>"
      ]
     },
     "metadata": {
      "needs_background": "light"
     },
     "output_type": "display_data"
    }
   ],
   "source": [
    "target_year.query('platform==\"XOne\" & critic_score > 0').sort_values('user_score').plot(x='user_score', y='all_sales', kind='scatter') "
   ]
  },
  {
   "cell_type": "markdown",
   "metadata": {},
   "source": [
    "зависимость продаж и оценки пользователей не прослеживается"
   ]
  },
  {
   "cell_type": "markdown",
   "metadata": {},
   "source": [
    "вычисление корреляции"
   ]
  },
  {
   "cell_type": "code",
   "execution_count": 67,
   "metadata": {},
   "outputs": [
    {
     "name": "stdout",
     "output_type": "stream",
     "text": [
      "0.4120052543168866\n"
     ]
    }
   ],
   "source": [
    "print(data.query('platform==\"XOne\" & critic_score > 0')['all_sales'].corr(data_2016['critic_score']))"
   ]
  },
  {
   "cell_type": "code",
   "execution_count": 68,
   "metadata": {},
   "outputs": [
    {
     "name": "stdout",
     "output_type": "stream",
     "text": [
      "-0.07100336801456518\n"
     ]
    }
   ],
   "source": [
    "print(data.query('platform==\"XOne\" & critic_score > 0')['all_sales'].corr(data_2016['user_score']))"
   ]
  },
  {
   "cell_type": "markdown",
   "metadata": {},
   "source": [
    "Здесь зависимость продаж и оценки критиков по корреляции не прослеживается."
   ]
  },
  {
   "cell_type": "raw",
   "metadata": {},
   "source": [
    "влияние отзывов критиков"
   ]
  },
  {
   "cell_type": "markdown",
   "metadata": {
    "scrolled": false
   },
   "source": [
    "target_year.query('platform==\"PSV\"').sort_values('critic_score').plot(x='critic_score', y='all_sales', kind='scatter') "
   ]
  },
  {
   "cell_type": "markdown",
   "metadata": {},
   "source": [
    "влияние отзывов пользователей"
   ]
  },
  {
   "cell_type": "code",
   "execution_count": 69,
   "metadata": {
    "scrolled": true
   },
   "outputs": [
    {
     "data": {
      "text/plain": [
       "<AxesSubplot:xlabel='user_score', ylabel='all_sales'>"
      ]
     },
     "execution_count": 69,
     "metadata": {},
     "output_type": "execute_result"
    },
    {
     "data": {
      "image/png": "[encoded data removed]",
      "text/plain": [
       "<Figure size 432x288 with 1 Axes>"
      ]
     },
     "metadata": {
      "needs_background": "light"
     },
     "output_type": "display_data"
    }
   ],
   "source": [
    "target_year.query('platform==\"PSV\" & critic_score > 0').sort_values('user_score').plot(x='user_score', y='all_sales', kind='scatter') "
   ]
  },
  {
   "cell_type": "markdown",
   "metadata": {},
   "source": [
    "Здесь зависимость продаж и оценки критиков не прослеживается."
   ]
  },
  {
   "cell_type": "markdown",
   "metadata": {},
   "source": [
    "вычисление корреляции"
   ]
  },
  {
   "cell_type": "code",
   "execution_count": 70,
   "metadata": {},
   "outputs": [
    {
     "name": "stdout",
     "output_type": "stream",
     "text": [
      "0.04266490657009526\n"
     ]
    }
   ],
   "source": [
    "print(target_year.query('platform==\"PSV\" & critic_score > 0')['all_sales'].corr(target_year['critic_score']))"
   ]
  },
  {
   "cell_type": "code",
   "execution_count": 71,
   "metadata": {},
   "outputs": [
    {
     "name": "stdout",
     "output_type": "stream",
     "text": [
      "0.0486280162791486\n"
     ]
    }
   ],
   "source": [
    "print(target_year.query('platform==\"PSV\" & critic_score > 0')['all_sales'].corr(target_year['user_score']))"
   ]
  },
  {
   "cell_type": "code",
   "execution_count": 99,
   "metadata": {
    "scrolled": true
   },
   "outputs": [
    {
     "data": {
      "text/plain": [
       "-0.16845504978064446"
      ]
     },
     "execution_count": 99,
     "metadata": {},
     "output_type": "execute_result"
    }
   ],
   "source": [
    "\n",
    "target_year.query('platform==\"PSV\" & user_score > 0')['all_sales']\\\n",
    "    .corr(target_year.query('platform==\"PSV\" & user_score > 0')['user_score'])"
   ]
  },
  {
   "cell_type": "markdown",
   "metadata": {},
   "source": [
    "Выводы по зависимости на других платформах не определены"
   ]
  },
  {
   "cell_type": "code",
   "execution_count": 72,
   "metadata": {},
   "outputs": [
    {
     "data": {
      "text/plain": [
       "0.40266141068104083"
      ]
     },
     "execution_count": 72,
     "metadata": {},
     "output_type": "execute_result"
    }
   ],
   "source": [
    "target_year.query('platform==\"PS4\" & critic_score > 0')['all_sales']\\\n",
    "    .corr(target_year.query('platform==\"PS4\" & critic_score > 0')['critic_score'])"
   ]
  },
  {
   "cell_type": "markdown",
   "metadata": {},
   "source": [
    "### Распределение игр по жанрам "
   ]
  },
  {
   "cell_type": "code",
   "execution_count": 73,
   "metadata": {},
   "outputs": [
    {
     "data": {
      "text/plain": [
       "genre\n",
       "Action          199.36\n",
       "Shooter         170.94\n",
       "Sports          109.48\n",
       "Role-Playing    101.44\n",
       "Misc             37.55\n",
       "Fighting         28.22\n",
       "Racing           27.52\n",
       "Platform         18.09\n",
       "Adventure        17.55\n",
       "Simulation       13.13\n",
       "Strategy          3.96\n",
       "Puzzle            2.21\n",
       "Name: all_sales, dtype: float64"
      ]
     },
     "execution_count": 73,
     "metadata": {},
     "output_type": "execute_result"
    }
   ],
   "source": [
    "target_year.groupby('genre')['all_sales'].sum().sort_values(ascending=False)"
   ]
  },
  {
   "cell_type": "code",
   "execution_count": 74,
   "metadata": {},
   "outputs": [
    {
     "data": {
      "text/plain": [
       "genre\n",
       "Shooter         0.515\n",
       "Sports          0.180\n",
       "Platform        0.140\n",
       "Fighting        0.125\n",
       "Role-Playing    0.110\n",
       "Simulation      0.100\n",
       "Action          0.090\n",
       "Misc            0.090\n",
       "Racing          0.090\n",
       "Strategy        0.060\n",
       "Puzzle          0.045\n",
       "Adventure       0.030\n",
       "Name: all_sales, dtype: float64"
      ]
     },
     "execution_count": 74,
     "metadata": {},
     "output_type": "execute_result"
    }
   ],
   "source": [
    "target_year.groupby('genre')['all_sales'].median().sort_values(ascending=False)"
   ]
  },
  {
   "cell_type": "code",
   "execution_count": 75,
   "metadata": {},
   "outputs": [
    {
     "data": {
      "text/plain": [
       "genre\n",
       "Platform        73.5\n",
       "Shooter         72.0\n",
       "Racing          65.0\n",
       "Fighting        51.0\n",
       "Sports          31.0\n",
       "Simulation      21.0\n",
       "Action          -1.0\n",
       "Adventure       -1.0\n",
       "Misc            -1.0\n",
       "Puzzle          -1.0\n",
       "Role-Playing    -1.0\n",
       "Strategy        -1.0\n",
       "Name: critic_score, dtype: float64"
      ]
     },
     "execution_count": 75,
     "metadata": {},
     "output_type": "execute_result"
    }
   ],
   "source": [
    "target_year.groupby('genre')['critic_score'].median().sort_values(ascending=False)"
   ]
  },
  {
   "cell_type": "code",
   "execution_count": 76,
   "metadata": {},
   "outputs": [
    {
     "data": {
      "text/plain": [
       "genre\n",
       "Shooter         6.40\n",
       "Platform        6.05\n",
       "Fighting        5.80\n",
       "Racing          5.80\n",
       "Sports          4.50\n",
       "Simulation      3.95\n",
       "Action          0.00\n",
       "Adventure       0.00\n",
       "Misc            0.00\n",
       "Puzzle          0.00\n",
       "Role-Playing    0.00\n",
       "Strategy        0.00\n",
       "Name: user_score, dtype: float64"
      ]
     },
     "execution_count": 76,
     "metadata": {},
     "output_type": "execute_result"
    }
   ],
   "source": [
    "target_year.groupby('genre')['user_score'].median().sort_values(ascending=False)\n"
   ]
  },
  {
   "cell_type": "markdown",
   "metadata": {},
   "source": [
    " Лидеры по жанрам:\n",
    "\n",
    "Shooter и Platform       \n",
    "\n",
    "Жанры с высокими медианными продажами и оценкой критиков в лидерах"
   ]
  },
  {
   "cell_type": "markdown",
   "metadata": {},
   "source": [
    "Самые прибыльные жанры в актуальный период:\n",
    "Action          199.36\n",
    "Shooter         170.94\n",
    "Sports          109.48\n",
    "Role-Playing    101.44"
   ]
  },
  {
   "cell_type": "markdown",
   "metadata": {},
   "source": [
    "## Портрет пользователя по регионам"
   ]
  },
  {
   "cell_type": "markdown",
   "metadata": {},
   "source": [
    "### Самые популярные платформы"
   ]
  },
  {
   "cell_type": "code",
   "execution_count": 77,
   "metadata": {},
   "outputs": [
    {
     "data": {
      "text/html": [
       "<div>\n",
       "<style scoped>\n",
       "    .dataframe tbody tr th:only-of-type {\n",
       "        vertical-align: middle;\n",
       "    }\n",
       "\n",
       "    .dataframe tbody tr th {\n",
       "        vertical-align: top;\n",
       "    }\n",
       "\n",
       "    .dataframe thead th {\n",
       "        text-align: right;\n",
       "    }\n",
       "</style>\n",
       "<table border=\"1\" class=\"dataframe\">\n",
       "  <thead>\n",
       "    <tr style=\"text-align: right;\">\n",
       "      <th></th>\n",
       "      <th>platform</th>\n",
       "      <th>eu_sales</th>\n",
       "      <th>jp_sales</th>\n",
       "      <th>na_sales</th>\n",
       "      <th>other_sales</th>\n",
       "    </tr>\n",
       "  </thead>\n",
       "  <tbody>\n",
       "    <tr>\n",
       "      <th>0</th>\n",
       "      <td>3DS</td>\n",
       "      <td>16.12</td>\n",
       "      <td>44.24</td>\n",
       "      <td>22.64</td>\n",
       "      <td>3.68</td>\n",
       "    </tr>\n",
       "    <tr>\n",
       "      <th>1</th>\n",
       "      <td>PC</td>\n",
       "      <td>17.97</td>\n",
       "      <td>0.00</td>\n",
       "      <td>7.23</td>\n",
       "      <td>1.85</td>\n",
       "    </tr>\n",
       "    <tr>\n",
       "      <th>2</th>\n",
       "      <td>PS3</td>\n",
       "      <td>25.54</td>\n",
       "      <td>11.22</td>\n",
       "      <td>22.05</td>\n",
       "      <td>9.37</td>\n",
       "    </tr>\n",
       "    <tr>\n",
       "      <th>3</th>\n",
       "      <td>PS4</td>\n",
       "      <td>130.04</td>\n",
       "      <td>15.02</td>\n",
       "      <td>98.61</td>\n",
       "      <td>44.48</td>\n",
       "    </tr>\n",
       "    <tr>\n",
       "      <th>4</th>\n",
       "      <td>PSP</td>\n",
       "      <td>0.00</td>\n",
       "      <td>0.36</td>\n",
       "      <td>0.00</td>\n",
       "      <td>0.00</td>\n",
       "    </tr>\n",
       "    <tr>\n",
       "      <th>5</th>\n",
       "      <td>PSV</td>\n",
       "      <td>3.53</td>\n",
       "      <td>14.54</td>\n",
       "      <td>2.52</td>\n",
       "      <td>1.81</td>\n",
       "    </tr>\n",
       "    <tr>\n",
       "      <th>6</th>\n",
       "      <td>Wii</td>\n",
       "      <td>2.59</td>\n",
       "      <td>0.00</td>\n",
       "      <td>2.08</td>\n",
       "      <td>0.40</td>\n",
       "    </tr>\n",
       "    <tr>\n",
       "      <th>7</th>\n",
       "      <td>WiiU</td>\n",
       "      <td>13.15</td>\n",
       "      <td>7.31</td>\n",
       "      <td>19.36</td>\n",
       "      <td>3.16</td>\n",
       "    </tr>\n",
       "    <tr>\n",
       "      <th>8</th>\n",
       "      <td>X360</td>\n",
       "      <td>15.49</td>\n",
       "      <td>0.08</td>\n",
       "      <td>28.30</td>\n",
       "      <td>4.35</td>\n",
       "    </tr>\n",
       "    <tr>\n",
       "      <th>9</th>\n",
       "      <td>XOne</td>\n",
       "      <td>46.25</td>\n",
       "      <td>0.32</td>\n",
       "      <td>81.27</td>\n",
       "      <td>12.52</td>\n",
       "    </tr>\n",
       "  </tbody>\n",
       "</table>\n",
       "</div>"
      ],
      "text/plain": [
       "  platform  eu_sales  jp_sales  na_sales  other_sales\n",
       "0      3DS     16.12     44.24     22.64         3.68\n",
       "1       PC     17.97      0.00      7.23         1.85\n",
       "2      PS3     25.54     11.22     22.05         9.37\n",
       "3      PS4    130.04     15.02     98.61        44.48\n",
       "4      PSP      0.00      0.36      0.00         0.00\n",
       "5      PSV      3.53     14.54      2.52         1.81\n",
       "6      Wii      2.59      0.00      2.08         0.40\n",
       "7     WiiU     13.15      7.31     19.36         3.16\n",
       "8     X360     15.49      0.08     28.30         4.35\n",
       "9     XOne     46.25      0.32     81.27        12.52"
      ]
     },
     "execution_count": 77,
     "metadata": {},
     "output_type": "execute_result"
    }
   ],
   "source": [
    "region = (target_year\n",
    "          .pivot_table(index='platform', values=['na_sales', 'eu_sales', 'jp_sales', 'other_sales'],aggfunc='sum')\n",
    "          .reset_index()\n",
    "         )\n",
    "region"
   ]
  },
  {
   "cell_type": "code",
   "execution_count": 78,
   "metadata": {},
   "outputs": [
    {
     "data": {
      "image/png": "[encoded data removed]",
      "text/plain": [
       "<Figure size 1080x360 with 1 Axes>"
      ]
     },
     "metadata": {
      "needs_background": "light"
     },
     "output_type": "display_data"
    }
   ],
   "source": [
    "fig = plt.figure(figsize=(15,5))\n",
    "ax = fig.add_subplot(111)\n",
    "\n",
    "# Переменные \n",
    "x = list(region['platform'])\n",
    "y1 = region['na_sales']\n",
    "y2 = region['eu_sales']\n",
    "y3 = region['jp_sales']\n",
    "y4 = region['other_sales']\n",
    "\n",
    "# Графики\n",
    "ax.bar(x, y1, 0.8, alpha=1, label='na_sales')\n",
    "ax.bar(x, y2, 0.6, alpha=0.8, label='eu_sales')\n",
    "ax.bar(x, y3, 0.2, alpha=1, label='jp_sales')\n",
    "ax.bar(x, y4, 1.0, alpha=1, label='other_sales')\n",
    "\n",
    "# Улучшения  \n",
    "ax.set_title('Динамика выпуска и продаж игр', size=20)\n",
    "ax.set_ylabel('Продажи/Количество игр', size=15)\n",
    "ax.grid()\n",
    "ax.legend(fontsize=15)\n",
    "\n",
    "plt.show();\n"
   ]
  },
  {
   "cell_type": "markdown",
   "metadata": {},
   "source": [
    "Можно уверенно утверждать, что популярность платформ в разных регионах отличается"
   ]
  },
  {
   "cell_type": "markdown",
   "metadata": {},
   "source": [
    "ТОП5 платформ по регионам"
   ]
  },
  {
   "cell_type": "code",
   "execution_count": 79,
   "metadata": {},
   "outputs": [
    {
     "name": "stdout",
     "output_type": "stream",
     "text": [
      "284.06000000000006\n",
      "platform\n",
      "PS4     0.347145\n",
      "XOne    0.286102\n",
      "X360    0.099627\n",
      "3DS     0.079701\n",
      "PS3     0.077624\n",
      "Name: na_sales, dtype: float64\n"
     ]
    }
   ],
   "source": [
    "# Северная Америка\n",
    "na_all = target_year['na_sales'].sum()\n",
    "print(na_all)\n",
    "na_platform = target_year.groupby('platform')['na_sales'].sum().sort_values(ascending=False).head()\n",
    "na_rez = na_platform/na_all\n",
    "print(na_rez.head())\n"
   ]
  },
  {
   "cell_type": "code",
   "execution_count": 80,
   "metadata": {},
   "outputs": [
    {
     "name": "stdout",
     "output_type": "stream",
     "text": [
      "270.67999999999995\n",
      "platform\n",
      "PS4     0.480420\n",
      "XOne    0.170866\n",
      "PS3     0.094355\n",
      "PC      0.066388\n",
      "3DS     0.059554\n",
      "Name: eu_sales, dtype: float64\n"
     ]
    }
   ],
   "source": [
    "# Европа\n",
    "eu_all = target_year['eu_sales'].sum()\n",
    "print(eu_all)\n",
    "eu_platform = target_year.groupby('platform')['eu_sales'].sum().sort_values(ascending=False).head()\n",
    "eu_rez = eu_platform/eu_all\n",
    "print(eu_rez.head())\n"
   ]
  },
  {
   "cell_type": "code",
   "execution_count": 81,
   "metadata": {},
   "outputs": [
    {
     "name": "stdout",
     "output_type": "stream",
     "text": [
      "93.09\n",
      "platform\n",
      "3DS     0.475239\n",
      "PS4     0.161349\n",
      "PSV     0.156193\n",
      "PS3     0.120529\n",
      "WiiU    0.078526\n",
      "Name: jp_sales, dtype: float64\n"
     ]
    }
   ],
   "source": [
    "# Япония\n",
    "jp_all = target_year['jp_sales'].sum()\n",
    "print(jp_all)\n",
    "jp_platform = target_year.groupby('platform')['jp_sales'].sum().sort_values(ascending=False).head()\n",
    "jp_rez = jp_platform/jp_all\n",
    "print(jp_rez.head())\n"
   ]
  },
  {
   "cell_type": "code",
   "execution_count": 82,
   "metadata": {
    "scrolled": true
   },
   "outputs": [
    {
     "name": "stdout",
     "output_type": "stream",
     "text": [
      "81.62\n",
      "platform\n",
      "PS4     0.544964\n",
      "XOne    0.153394\n",
      "PS3     0.114800\n",
      "X360    0.053296\n",
      "3DS     0.045087\n",
      "Name: other_sales, dtype: float64\n"
     ]
    }
   ],
   "source": [
    "# Другие страны\n",
    "other_all = target_year['other_sales'].sum()\n",
    "print(other_all)\n",
    "other_platform = target_year.groupby('platform')['other_sales'].sum().sort_values(ascending=False).head()\n",
    "other_rez = other_platform/other_all\n",
    "print(other_rez.head())\n"
   ]
  },
  {
   "cell_type": "markdown",
   "metadata": {},
   "source": [
    "списки самых популярных платформ и их доли различаются для разных регионов."
   ]
  },
  {
   "cell_type": "markdown",
   "metadata": {},
   "source": [
    "### Самые популярные жанры "
   ]
  },
  {
   "cell_type": "code",
   "execution_count": 83,
   "metadata": {},
   "outputs": [
    {
     "name": "stdout",
     "output_type": "stream",
     "text": [
      "genre\n",
      "Shooter         0.278181\n",
      "Action          0.255333\n",
      "Sports          0.162395\n",
      "Role-Playing    0.117827\n",
      "Misc            0.052982\n",
      "Name: na_sales, dtype: float64\n"
     ]
    }
   ],
   "source": [
    "# Северная Америка\n",
    "na_all = target_year['na_sales'].sum()\n",
    "#print(na_all)\n",
    "na_genre = target_year.groupby('genre')['na_sales'].sum().sort_values(ascending=False).head()\n",
    "na_rez = na_genre/na_all\n",
    "print(na_rez.head())\n"
   ]
  },
  {
   "cell_type": "code",
   "execution_count": 84,
   "metadata": {},
   "outputs": [
    {
     "name": "stdout",
     "output_type": "stream",
     "text": [
      "270.67999999999995\n",
      "genre\n",
      "Action          0.275898\n",
      "Shooter         0.242057\n",
      "Sports          0.168945\n",
      "Role-Playing    0.104071\n",
      "Racing          0.052202\n",
      "Name: eu_sales, dtype: float64\n"
     ]
    }
   ],
   "source": [
    "# Европа\n",
    "eu_all = target_year['eu_sales'].sum()\n",
    "print(eu_all)\n",
    "eu_genre = target_year.groupby('genre')['eu_sales'].sum().sort_values(ascending=False).head()\n",
    "eu_rez = eu_genre/eu_all\n",
    "print(eu_rez.head())\n"
   ]
  },
  {
   "cell_type": "code",
   "execution_count": 85,
   "metadata": {},
   "outputs": [
    {
     "name": "stdout",
     "output_type": "stream",
     "text": [
      "93.09\n",
      "genre\n",
      "Role-Playing    0.334730\n",
      "Action          0.317757\n",
      "Fighting        0.068428\n",
      "Misc            0.060264\n",
      "Shooter         0.052315\n",
      "Name: jp_sales, dtype: float64\n"
     ]
    }
   ],
   "source": [
    "# Япония\n",
    "jp_all = target_year['jp_sales'].sum()\n",
    "print(jp_all)\n",
    "jp_genre = target_year.groupby('genre')['jp_sales'].sum().sort_values(ascending=False).head()\n",
    "jp_rez = jp_genre/jp_all\n",
    "print(jp_rez.head())\n"
   ]
  },
  {
   "cell_type": "code",
   "execution_count": 86,
   "metadata": {
    "scrolled": true
   },
   "outputs": [
    {
     "name": "stdout",
     "output_type": "stream",
     "text": [
      "81.62\n",
      "genre\n",
      "Action          0.276525\n",
      "Shooter         0.263783\n",
      "Sports          0.175937\n",
      "Role-Playing    0.105856\n",
      "Misc            0.049375\n",
      "Name: other_sales, dtype: float64\n"
     ]
    }
   ],
   "source": [
    "# Другие страны\n",
    "other_all = target_year['other_sales'].sum()\n",
    "print(other_all)\n",
    "other_genre =target_year.groupby('genre')['other_sales'].sum().sort_values(ascending=False).head()\n",
    "other_rez = other_genre/other_all\n",
    "print(other_rez.head())\n"
   ]
  },
  {
   "cell_type": "markdown",
   "metadata": {},
   "source": [
    "Списки самых популярных жанров похожи у Северной Америки, Европы и других странах. \n",
    "Список  самых популярных жанров Японии отличается от прочих списков. Ощущается разница менталитетов."
   ]
  },
  {
   "cell_type": "markdown",
   "metadata": {},
   "source": [
    "### Влияние рейтинга ESRB"
   ]
  },
  {
   "cell_type": "code",
   "execution_count": 87,
   "metadata": {},
   "outputs": [],
   "source": [
    "#data['rating'] = data['rating'].fillna('')"
   ]
  },
  {
   "cell_type": "code",
   "execution_count": 88,
   "metadata": {},
   "outputs": [
    {
     "data": {
      "text/html": [
       "<div>\n",
       "<style scoped>\n",
       "    .dataframe tbody tr th:only-of-type {\n",
       "        vertical-align: middle;\n",
       "    }\n",
       "\n",
       "    .dataframe tbody tr th {\n",
       "        vertical-align: top;\n",
       "    }\n",
       "\n",
       "    .dataframe thead th {\n",
       "        text-align: right;\n",
       "    }\n",
       "</style>\n",
       "<table border=\"1\" class=\"dataframe\">\n",
       "  <thead>\n",
       "    <tr style=\"text-align: right;\">\n",
       "      <th></th>\n",
       "      <th>rating</th>\n",
       "      <th>eu_sales</th>\n",
       "      <th>jp_sales</th>\n",
       "      <th>na_sales</th>\n",
       "      <th>other_sales</th>\n",
       "    </tr>\n",
       "  </thead>\n",
       "  <tbody>\n",
       "    <tr>\n",
       "      <th>0</th>\n",
       "      <td>0</td>\n",
       "      <td>58.95</td>\n",
       "      <td>56.90</td>\n",
       "      <td>64.72</td>\n",
       "      <td>18.40</td>\n",
       "    </tr>\n",
       "    <tr>\n",
       "      <th>1</th>\n",
       "      <td>E</td>\n",
       "      <td>58.06</td>\n",
       "      <td>8.94</td>\n",
       "      <td>50.74</td>\n",
       "      <td>15.39</td>\n",
       "    </tr>\n",
       "    <tr>\n",
       "      <th>2</th>\n",
       "      <td>E10+</td>\n",
       "      <td>26.16</td>\n",
       "      <td>4.46</td>\n",
       "      <td>33.23</td>\n",
       "      <td>7.83</td>\n",
       "    </tr>\n",
       "    <tr>\n",
       "      <th>3</th>\n",
       "      <td>M</td>\n",
       "      <td>93.44</td>\n",
       "      <td>8.01</td>\n",
       "      <td>96.42</td>\n",
       "      <td>28.67</td>\n",
       "    </tr>\n",
       "    <tr>\n",
       "      <th>4</th>\n",
       "      <td>T</td>\n",
       "      <td>34.07</td>\n",
       "      <td>14.78</td>\n",
       "      <td>38.95</td>\n",
       "      <td>11.33</td>\n",
       "    </tr>\n",
       "  </tbody>\n",
       "</table>\n",
       "</div>"
      ],
      "text/plain": [
       "  rating  eu_sales  jp_sales  na_sales  other_sales\n",
       "0      0     58.95     56.90     64.72        18.40\n",
       "1      E     58.06      8.94     50.74        15.39\n",
       "2   E10+     26.16      4.46     33.23         7.83\n",
       "3      M     93.44      8.01     96.42        28.67\n",
       "4      T     34.07     14.78     38.95        11.33"
      ]
     },
     "execution_count": 88,
     "metadata": {},
     "output_type": "execute_result"
    }
   ],
   "source": [
    "rating = (target_year\n",
    "          .pivot_table(index='rating', values=['na_sales', 'eu_sales', 'jp_sales', 'other_sales'],aggfunc='sum')\n",
    "          .reset_index()\n",
    "         )\n",
    "rating"
   ]
  },
  {
   "cell_type": "code",
   "execution_count": 89,
   "metadata": {},
   "outputs": [
    {
     "data": {
      "text/html": [
       "<div>\n",
       "<style scoped>\n",
       "    .dataframe tbody tr th:only-of-type {\n",
       "        vertical-align: middle;\n",
       "    }\n",
       "\n",
       "    .dataframe tbody tr th {\n",
       "        vertical-align: top;\n",
       "    }\n",
       "\n",
       "    .dataframe thead th {\n",
       "        text-align: right;\n",
       "    }\n",
       "</style>\n",
       "<table border=\"1\" class=\"dataframe\">\n",
       "  <thead>\n",
       "    <tr style=\"text-align: right;\">\n",
       "      <th></th>\n",
       "      <th>na_sales</th>\n",
       "    </tr>\n",
       "    <tr>\n",
       "      <th>rating</th>\n",
       "      <th></th>\n",
       "    </tr>\n",
       "  </thead>\n",
       "  <tbody>\n",
       "    <tr>\n",
       "      <th>0</th>\n",
       "      <td>64.72</td>\n",
       "    </tr>\n",
       "    <tr>\n",
       "      <th>E</th>\n",
       "      <td>50.74</td>\n",
       "    </tr>\n",
       "    <tr>\n",
       "      <th>E10+</th>\n",
       "      <td>33.23</td>\n",
       "    </tr>\n",
       "    <tr>\n",
       "      <th>M</th>\n",
       "      <td>96.42</td>\n",
       "    </tr>\n",
       "    <tr>\n",
       "      <th>T</th>\n",
       "      <td>38.95</td>\n",
       "    </tr>\n",
       "  </tbody>\n",
       "</table>\n",
       "</div>"
      ],
      "text/plain": [
       "        na_sales\n",
       "rating          \n",
       "0          64.72\n",
       "E          50.74\n",
       "E10+       33.23\n",
       "M          96.42\n",
       "T          38.95"
      ]
     },
     "execution_count": 89,
     "metadata": {},
     "output_type": "execute_result"
    },
    {
     "data": {
      "image/png": "[encoded data removed]",
      "text/plain": [
       "<Figure size 432x288 with 1 Axes>"
      ]
     },
     "metadata": {
      "needs_background": "light"
     },
     "output_type": "display_data"
    }
   ],
   "source": [
    "\n",
    "target_year.pivot_table(index='rating', values='na_sales', aggfunc='sum').plot(grid=True)\n",
    "target_year.pivot_table(index='rating', values='na_sales', aggfunc='sum')"
   ]
  },
  {
   "cell_type": "code",
   "execution_count": 90,
   "metadata": {},
   "outputs": [
    {
     "data": {
      "text/html": [
       "<div>\n",
       "<style scoped>\n",
       "    .dataframe tbody tr th:only-of-type {\n",
       "        vertical-align: middle;\n",
       "    }\n",
       "\n",
       "    .dataframe tbody tr th {\n",
       "        vertical-align: top;\n",
       "    }\n",
       "\n",
       "    .dataframe thead th {\n",
       "        text-align: right;\n",
       "    }\n",
       "</style>\n",
       "<table border=\"1\" class=\"dataframe\">\n",
       "  <thead>\n",
       "    <tr style=\"text-align: right;\">\n",
       "      <th></th>\n",
       "      <th>eu_sales</th>\n",
       "    </tr>\n",
       "    <tr>\n",
       "      <th>rating</th>\n",
       "      <th></th>\n",
       "    </tr>\n",
       "  </thead>\n",
       "  <tbody>\n",
       "    <tr>\n",
       "      <th>0</th>\n",
       "      <td>58.95</td>\n",
       "    </tr>\n",
       "    <tr>\n",
       "      <th>E</th>\n",
       "      <td>58.06</td>\n",
       "    </tr>\n",
       "    <tr>\n",
       "      <th>E10+</th>\n",
       "      <td>26.16</td>\n",
       "    </tr>\n",
       "    <tr>\n",
       "      <th>M</th>\n",
       "      <td>93.44</td>\n",
       "    </tr>\n",
       "    <tr>\n",
       "      <th>T</th>\n",
       "      <td>34.07</td>\n",
       "    </tr>\n",
       "  </tbody>\n",
       "</table>\n",
       "</div>"
      ],
      "text/plain": [
       "        eu_sales\n",
       "rating          \n",
       "0          58.95\n",
       "E          58.06\n",
       "E10+       26.16\n",
       "M          93.44\n",
       "T          34.07"
      ]
     },
     "execution_count": 90,
     "metadata": {},
     "output_type": "execute_result"
    },
    {
     "data": {
      "image/png": "[encoded data removed]",
      "text/plain": [
       "<Figure size 432x288 with 1 Axes>"
      ]
     },
     "metadata": {
      "needs_background": "light"
     },
     "output_type": "display_data"
    }
   ],
   "source": [
    "target_year.pivot_table(index='rating', values='eu_sales', aggfunc='sum').plot(grid=True)\n",
    "target_year.pivot_table(index='rating', values='eu_sales', aggfunc='sum')"
   ]
  },
  {
   "cell_type": "code",
   "execution_count": 91,
   "metadata": {},
   "outputs": [
    {
     "data": {
      "text/html": [
       "<div>\n",
       "<style scoped>\n",
       "    .dataframe tbody tr th:only-of-type {\n",
       "        vertical-align: middle;\n",
       "    }\n",
       "\n",
       "    .dataframe tbody tr th {\n",
       "        vertical-align: top;\n",
       "    }\n",
       "\n",
       "    .dataframe thead th {\n",
       "        text-align: right;\n",
       "    }\n",
       "</style>\n",
       "<table border=\"1\" class=\"dataframe\">\n",
       "  <thead>\n",
       "    <tr style=\"text-align: right;\">\n",
       "      <th></th>\n",
       "      <th>jp_sales</th>\n",
       "    </tr>\n",
       "    <tr>\n",
       "      <th>rating</th>\n",
       "      <th></th>\n",
       "    </tr>\n",
       "  </thead>\n",
       "  <tbody>\n",
       "    <tr>\n",
       "      <th>0</th>\n",
       "      <td>56.90</td>\n",
       "    </tr>\n",
       "    <tr>\n",
       "      <th>E</th>\n",
       "      <td>8.94</td>\n",
       "    </tr>\n",
       "    <tr>\n",
       "      <th>E10+</th>\n",
       "      <td>4.46</td>\n",
       "    </tr>\n",
       "    <tr>\n",
       "      <th>M</th>\n",
       "      <td>8.01</td>\n",
       "    </tr>\n",
       "    <tr>\n",
       "      <th>T</th>\n",
       "      <td>14.78</td>\n",
       "    </tr>\n",
       "  </tbody>\n",
       "</table>\n",
       "</div>"
      ],
      "text/plain": [
       "        jp_sales\n",
       "rating          \n",
       "0          56.90\n",
       "E           8.94\n",
       "E10+        4.46\n",
       "M           8.01\n",
       "T          14.78"
      ]
     },
     "execution_count": 91,
     "metadata": {},
     "output_type": "execute_result"
    },
    {
     "data": {
      "image/png": "[encoded data removed]",
      "text/plain": [
       "<Figure size 432x288 with 1 Axes>"
      ]
     },
     "metadata": {
      "needs_background": "light"
     },
     "output_type": "display_data"
    }
   ],
   "source": [
    "target_year.pivot_table(index='rating', values='jp_sales', aggfunc='sum').plot(grid=True)\n",
    "target_year.pivot_table(index='rating', values='jp_sales', aggfunc='sum')"
   ]
  },
  {
   "cell_type": "code",
   "execution_count": 92,
   "metadata": {},
   "outputs": [
    {
     "data": {
      "text/html": [
       "<div>\n",
       "<style scoped>\n",
       "    .dataframe tbody tr th:only-of-type {\n",
       "        vertical-align: middle;\n",
       "    }\n",
       "\n",
       "    .dataframe tbody tr th {\n",
       "        vertical-align: top;\n",
       "    }\n",
       "\n",
       "    .dataframe thead th {\n",
       "        text-align: right;\n",
       "    }\n",
       "</style>\n",
       "<table border=\"1\" class=\"dataframe\">\n",
       "  <thead>\n",
       "    <tr style=\"text-align: right;\">\n",
       "      <th></th>\n",
       "      <th>other_sales</th>\n",
       "    </tr>\n",
       "    <tr>\n",
       "      <th>rating</th>\n",
       "      <th></th>\n",
       "    </tr>\n",
       "  </thead>\n",
       "  <tbody>\n",
       "    <tr>\n",
       "      <th>0</th>\n",
       "      <td>18.40</td>\n",
       "    </tr>\n",
       "    <tr>\n",
       "      <th>E</th>\n",
       "      <td>15.39</td>\n",
       "    </tr>\n",
       "    <tr>\n",
       "      <th>E10+</th>\n",
       "      <td>7.83</td>\n",
       "    </tr>\n",
       "    <tr>\n",
       "      <th>M</th>\n",
       "      <td>28.67</td>\n",
       "    </tr>\n",
       "    <tr>\n",
       "      <th>T</th>\n",
       "      <td>11.33</td>\n",
       "    </tr>\n",
       "  </tbody>\n",
       "</table>\n",
       "</div>"
      ],
      "text/plain": [
       "        other_sales\n",
       "rating             \n",
       "0             18.40\n",
       "E             15.39\n",
       "E10+           7.83\n",
       "M             28.67\n",
       "T             11.33"
      ]
     },
     "execution_count": 92,
     "metadata": {},
     "output_type": "execute_result"
    },
    {
     "data": {
      "image/png": "[encoded data removed]",
      "text/plain": [
       "<Figure size 432x288 with 1 Axes>"
      ]
     },
     "metadata": {
      "needs_background": "light"
     },
     "output_type": "display_data"
    }
   ],
   "source": [
    "target_year.pivot_table(index='rating', values='other_sales', aggfunc='sum').plot(grid=True)\n",
    "target_year.pivot_table(index='rating', values='other_sales', aggfunc='sum')"
   ]
  },
  {
   "cell_type": "markdown",
   "metadata": {},
   "source": [
    "Как видно из графиков рейтинги ESRB для разных регионов разные как по объемам для всех регионов, \n",
    "так и по виду графиков для Японии от остальных."
   ]
  },
  {
   "cell_type": "markdown",
   "metadata": {},
   "source": [
    "Можно сделать следующие выводы.\n",
    "\n",
    "Северная Америка. Самая продаваемая платформа PS4, доля продаж 0.347145. Самый популярный жанр - Shooter, доля продаж - 0.278181.  Самый высокий рейтинг - М: 96.42. \n",
    "Европа. Самая продаваемая платформа PS4, доля продаж 0.480420. Самый популярный жанр - Action, доля продаж - 0.275898.  Самый высокий рейтинг - M:\t93.44. \n",
    "Япония. Самая продаваемая платформа 3DS, доля продаж 0.475239. Самый популярный жанр - Role-Playing, доля продаж - 0.334730.  Самый высокий рейтинг - T:\t14.78. \n",
    "Другие страны. Самая продаваемая платформа PS4, доля продаж 0.544964. Самый популярный жанр - Action, доля продаж - 0.276525.  Самый высокий рейтинг - M: 28.67."
   ]
  },
  {
   "cell_type": "markdown",
   "metadata": {},
   "source": [
    "В рамках работы по данному блоку было сделано сделано следующее:\n",
    "\n",
    "выявлены самые популярные платформы (ТОП5) в зависимости от региона продаж\n",
    "выявлены самые популярные жанры (ТОП5) в зависимости от региона продаж\n",
    "выявлены самые популярные игровые рейтинги (по продажам) в зависимости от региона продаж."
   ]
  },
  {
   "cell_type": "markdown",
   "metadata": {},
   "source": [
    "## Проверка гипотез"
   ]
  },
  {
   "cell_type": "markdown",
   "metadata": {},
   "source": [
    "Проверка гипотезы: Средние пользовательские рейтинги платформ Xbox One и PC одинаковые\n",
    "\n",
    "H_0: Средние пользовательские рейтинги платформ Xbox One = Средние пользовательские рейтинги платформ PC.\n",
    "H_1: Средние пользовательские рейтинги платформ Xbox One != Средние пользовательские рейтинги платформ PC.\n",
    "alpha = 0.05"
   ]
  },
  {
   "cell_type": "code",
   "execution_count": 93,
   "metadata": {},
   "outputs": [
    {
     "name": "stdout",
     "output_type": "stream",
     "text": [
      "0.02083455127372652\n",
      "Отвергаем нулевую гипотезу\n"
     ]
    }
   ],
   "source": [
    "from scipy import stats as st\n",
    "import numpy as np\n",
    "\n",
    "alpha = 0.05\n",
    "\n",
    "target_year_3 = data[(data['year_of_release']>=2014) & (data['year_of_release']<=2016)]\n",
    "\n",
    "data_tmp = target_year_10[target_year_10['user_score'].notnull()]\n",
    "\n",
    "result = st.ttest_ind(\n",
    "    data_tmp[data_tmp['platform']=='XOne']['user_score'],\n",
    "    data_tmp[data_tmp['platform']=='PC']['user_score'],\n",
    "    equal_var=False)\n",
    "print(result.pvalue)\n",
    "\n",
    "if  result.pvalue < alpha:\n",
    "    print(\"Отвергаем нулевую гипотезу\")\n",
    "else:\n",
    "    print(\"Не получилось отвергнуть нулевую гипотезу\")\n",
    "\n",
    "\n",
    "\n",
    "\n",
    "\n",
    "\n",
    "\n"
   ]
  },
  {
   "cell_type": "markdown",
   "metadata": {},
   "source": [
    "Принимаем альтернативную гипотезу: H_1: Средние пользовательские рейтинги платформ Xbox One != Средние пользовательские рейтинги платформ PC. alpha = 0.05"
   ]
  },
  {
   "cell_type": "markdown",
   "metadata": {},
   "source": [
    "Проверка гипотезы: Средние пользовательские рейтинги жанров Action и Sports разные.\n",
    "\n",
    "H_0: Средние пользовательские рейтинги жанров Action = Средние пользовательские рейтинги жанров Sports.\n",
    "H_1: Средние пользовательские рейтинги жанров Action != Средние пользовательские рейтинги жанров Sports.\n",
    "alpha = 0.05"
   ]
  },
  {
   "cell_type": "code",
   "execution_count": 94,
   "metadata": {},
   "outputs": [
    {
     "name": "stdout",
     "output_type": "stream",
     "text": [
      "0.00019396422427015982\n",
      "Отвергаем нулевую гипотезу\n"
     ]
    }
   ],
   "source": [
    "from scipy import stats as st\n",
    "import numpy as np\n",
    "\n",
    "alpha = 0.05\n",
    "\n",
    "target_year_3 = data[(data['year_of_release']>=2014) & (data['year_of_release']<=2016)]\n",
    "#print(target_year_10)\n",
    "data_tmp = target_year_10[target_year_10['user_score'].notnull()]\n",
    "\n",
    "result = st.ttest_ind(\n",
    "    data_tmp[data_tmp['genre']=='Action']['user_score'],\n",
    "    data_tmp[data_tmp['genre']=='Sports']['user_score'],\n",
    "    equal_var=False)\n",
    "print(result.pvalue)\n",
    "\n",
    "if  result.pvalue < alpha:\n",
    "    print(\"Отвергаем нулевую гипотезу\")\n",
    "else:\n",
    "    print(\"Не получилось отвергнуть нулевую гипотезу\")\n",
    "\n",
    "\n",
    "\n",
    "\n",
    "\n",
    "\n",
    "\n"
   ]
  },
  {
   "cell_type": "markdown",
   "metadata": {},
   "source": [
    "Принимаем альтернативную гипотезу: Средние пользовательские рейтинги жанров Action != Средние пользовательские рейтинги жанров Sports."
   ]
  },
  {
   "cell_type": "markdown",
   "metadata": {},
   "source": [
    "Проверяю гипотезу с помощью scipy.stats.ttest_ind, так как с его помощью можно сравнить средние двух совокупностей."
   ]
  },
  {
   "cell_type": "markdown",
   "metadata": {},
   "source": [
    "## Общий вывод"
   ]
  },
  {
   "cell_type": "markdown",
   "metadata": {},
   "source": [
    "Жизненный цикл платформ составляет 10 лет. \n",
    "\n",
    "Наибольших продаж за исследуемый период с 1980 по 2016 годы достигли \n",
    "PS2, X360, PS3, Wii, DS, PS,.\n",
    "\n",
    "В конце 2016 максимально привлекательными выглядят следующие платформы игры на консоли: \n",
    "PS4, XOne, 3DS.\n",
    "\n",
    "Актуальный период должен быть равен жизненному циклу, но для прогноза достаточно взять \n",
    "за 2 предыдущих года 2015 и 2016 годы для прогноза на 2017 год, чтобы определить объем \n",
    "продаж и направление тренда.\n",
    "\n",
    "Основная часть 75% продаж до размера чуть более 0,5 млн, и отдельные продажи - выше. \n",
    "\n",
    "Наблюдается прямая зависимость продаж и оценки критиков на популярной платформе PS4 .\n",
    "\n",
    "Несколько слабее наблюдаеся прямая зависимость продаж и оценки пользователей на \n",
    "популярной платформе PS4 .\n",
    "\n",
    "Выводы по зависимости на других платформах не определены.\n",
    "\n",
    "Лидеры по жанрам: Action, Sports, Shooter.\n",
    "\n",
    "Жанры с высокими и низкими продажами выделяются по медианным значениям продаж, по \n",
    "оценкам критиков и пользователей особой разницы не наблюдается.\n",
    "\n",
    "Списки самых популярных платформ и их доли различаются для разных регионов.\n",
    "Северная Америка: X360, PS2, Wii, PS3, DS.\n",
    "\n",
    "\n",
    "Списки самых популярных жанров похожи у Северной Америки, Европы и других странах. \n",
    "Список  самых популярных жанров Японии отличается от прочих списков. \n",
    "Ощущается разница менталитетов.\n",
    "\n",
    "Рейтинги ESRB для разных регионов разные, как по объемам для всех регионов, \n",
    "так и для Японии по виду распределения от остальных.\n",
    "\n",
    "Проверка гипотез осуществлялась с помощью scipy.stats.ttest_ind, так как с его помощью \n",
    "можно сравнить средние двух совокупностей.\n",
    "\n",
    "В качетве рекомендаций при планировании рекламных кампаний следует учитывать:\n",
    "- тренды продаж;\n",
    "\n",
    "- региональные предпочтения по платформам и жанрам:\n",
    "Северная Америка. Самая продаваемая платформа PS4, доля продаж 0.347145. Самый популярный жанр - Shooter, доля продаж - 0.278181. Самый высокий рейтинг - М: 96.42. Европа. Самая продаваемая платформа PS4, доля продаж 0.480420. Самый популярный жанр - Action, доля продаж - 0.275898. Самый высокий рейтинг - M: 93.44. Япония. Самая продаваемая платформа 3DS, доля продаж 0.475239. Самый популярный жанр - Role-Playing, доля продаж - 0.334730. Самый высокий рейтинг - T: 14.78. Другие страны. Самая продаваемая платформа PS4, доля продаж 0.544964. Самый популярный жанр - Action, доля продаж - 0.276525. Самый высокий рейтинг - M: 28.67.\n",
    "\n",
    "- оценку критиков.\n",
    "\n",
    "\n",
    "\n"
   ]
  },
  {
   "cell_type": "code",
   "execution_count": null,
   "metadata": {},
   "outputs": [],
   "source": []
  }
 ],
 "metadata": {
  "ExecuteTimeLog": [
   {
    "duration": 43,
    "start_time": "2022-09-05T19:56:48.334Z"
   },
   {
    "duration": 780,
    "start_time": "2022-09-05T19:56:56.902Z"
   },
   {
    "duration": 357,
    "start_time": "2022-09-05T19:57:00.562Z"
   },
   {
    "duration": 11,
    "start_time": "2022-09-05T19:59:55.900Z"
   },
   {
    "duration": 5,
    "start_time": "2022-09-05T20:00:33.055Z"
   },
   {
    "duration": 6,
    "start_time": "2022-09-05T20:01:28.638Z"
   },
   {
    "duration": 75,
    "start_time": "2022-09-05T20:14:04.279Z"
   },
   {
    "duration": 3,
    "start_time": "2022-09-05T20:14:30.726Z"
   },
   {
    "duration": 76,
    "start_time": "2022-09-05T20:14:35.701Z"
   },
   {
    "duration": 50,
    "start_time": "2022-09-05T20:16:40.425Z"
   },
   {
    "duration": 3,
    "start_time": "2022-09-05T20:16:54.757Z"
   },
   {
    "duration": 589,
    "start_time": "2022-09-05T20:17:26.612Z"
   },
   {
    "duration": 51,
    "start_time": "2022-09-05T20:17:27.203Z"
   },
   {
    "duration": 47,
    "start_time": "2022-09-05T20:18:59.947Z"
   },
   {
    "duration": 20,
    "start_time": "2022-09-05T20:19:42.091Z"
   },
   {
    "duration": 48,
    "start_time": "2022-09-05T20:20:32.661Z"
   },
   {
    "duration": 51,
    "start_time": "2022-09-05T20:20:38.540Z"
   },
   {
    "duration": 3,
    "start_time": "2022-09-05T20:26:16.696Z"
   },
   {
    "duration": 46,
    "start_time": "2022-09-05T20:26:21.424Z"
   },
   {
    "duration": 88,
    "start_time": "2022-09-05T20:29:46.945Z"
   },
   {
    "duration": 66,
    "start_time": "2022-09-05T20:30:00.690Z"
   },
   {
    "duration": 73,
    "start_time": "2022-09-05T20:30:47.050Z"
   },
   {
    "duration": 5,
    "start_time": "2022-09-05T20:38:17.760Z"
   },
   {
    "duration": 17,
    "start_time": "2022-09-05T20:39:33.271Z"
   },
   {
    "duration": 93,
    "start_time": "2022-09-05T21:00:51.701Z"
   },
   {
    "duration": 7,
    "start_time": "2022-09-05T21:01:14.322Z"
   },
   {
    "duration": 9,
    "start_time": "2022-09-05T21:42:59.813Z"
   },
   {
    "duration": 66,
    "start_time": "2022-09-05T21:44:07.582Z"
   },
   {
    "duration": 7,
    "start_time": "2022-09-05T21:44:28.001Z"
   },
   {
    "duration": 7,
    "start_time": "2022-09-05T21:44:49.668Z"
   },
   {
    "duration": 4,
    "start_time": "2022-09-05T21:45:01.634Z"
   },
   {
    "duration": 3,
    "start_time": "2022-09-05T21:45:32.122Z"
   },
   {
    "duration": 20,
    "start_time": "2022-09-05T21:45:41.652Z"
   },
   {
    "duration": 7,
    "start_time": "2022-09-05T21:46:14.604Z"
   },
   {
    "duration": 9,
    "start_time": "2022-09-05T21:47:42.291Z"
   },
   {
    "duration": 7,
    "start_time": "2022-09-05T21:48:05.356Z"
   },
   {
    "duration": 3,
    "start_time": "2022-09-05T21:49:35.070Z"
   },
   {
    "duration": 3,
    "start_time": "2022-09-05T21:49:53.965Z"
   },
   {
    "duration": 18,
    "start_time": "2022-09-05T21:49:56.540Z"
   },
   {
    "duration": 43,
    "start_time": "2022-09-06T20:58:31.189Z"
   },
   {
    "duration": 7,
    "start_time": "2022-09-06T21:03:09.886Z"
   },
   {
    "duration": 6,
    "start_time": "2022-09-06T21:03:56.612Z"
   },
   {
    "duration": 769,
    "start_time": "2022-09-06T21:04:06.092Z"
   },
   {
    "duration": 727,
    "start_time": "2022-09-06T21:04:10.582Z"
   },
   {
    "duration": 28,
    "start_time": "2022-09-06T21:04:18.444Z"
   },
   {
    "duration": 15,
    "start_time": "2022-09-06T21:04:53.595Z"
   },
   {
    "duration": 3,
    "start_time": "2022-09-06T21:16:42.201Z"
   },
   {
    "duration": 3,
    "start_time": "2022-09-06T21:29:55.413Z"
   },
   {
    "duration": 13,
    "start_time": "2022-09-06T21:30:21.046Z"
   },
   {
    "duration": 3,
    "start_time": "2022-09-06T21:30:28.568Z"
   },
   {
    "duration": 14,
    "start_time": "2022-09-06T21:30:39.639Z"
   },
   {
    "duration": 882,
    "start_time": "2022-09-06T21:33:48.526Z"
   },
   {
    "duration": 649,
    "start_time": "2022-09-06T21:38:52.297Z"
   },
   {
    "duration": 718,
    "start_time": "2022-09-06T21:39:48.271Z"
   },
   {
    "duration": 728,
    "start_time": "2022-09-06T21:40:30.995Z"
   },
   {
    "duration": 3,
    "start_time": "2022-09-06T21:40:59.823Z"
   },
   {
    "duration": 14,
    "start_time": "2022-09-06T21:41:07.366Z"
   },
   {
    "duration": 14,
    "start_time": "2022-09-06T21:41:15.195Z"
   },
   {
    "duration": 11,
    "start_time": "2022-09-06T21:41:41.292Z"
   },
   {
    "duration": 11,
    "start_time": "2022-09-06T21:42:46.185Z"
   },
   {
    "duration": 4,
    "start_time": "2022-09-06T21:44:10.210Z"
   },
   {
    "duration": 3,
    "start_time": "2022-09-06T21:47:16.443Z"
   },
   {
    "duration": 13,
    "start_time": "2022-09-06T21:47:30.436Z"
   },
   {
    "duration": 11,
    "start_time": "2022-09-06T21:47:48.764Z"
   },
   {
    "duration": 11,
    "start_time": "2022-09-06T21:49:42.391Z"
   },
   {
    "duration": 74,
    "start_time": "2022-09-06T22:04:30.497Z"
   },
   {
    "duration": 69,
    "start_time": "2022-09-06T22:05:08.025Z"
   },
   {
    "duration": 63,
    "start_time": "2022-09-06T22:06:12.338Z"
   },
   {
    "duration": 61,
    "start_time": "2022-09-06T22:06:34.625Z"
   },
   {
    "duration": 72,
    "start_time": "2022-09-06T22:06:57.800Z"
   },
   {
    "duration": 147,
    "start_time": "2022-09-06T22:08:32.737Z"
   },
   {
    "duration": 47,
    "start_time": "2022-09-06T22:09:26.104Z"
   },
   {
    "duration": 796,
    "start_time": "2022-09-06T22:09:46.017Z"
   },
   {
    "duration": 900,
    "start_time": "2022-09-06T22:10:11.496Z"
   },
   {
    "duration": 3,
    "start_time": "2022-09-06T22:10:59.039Z"
   },
   {
    "duration": 14,
    "start_time": "2022-09-06T22:11:05.321Z"
   },
   {
    "duration": 66,
    "start_time": "2022-09-06T22:12:34.128Z"
   },
   {
    "duration": 8,
    "start_time": "2022-09-06T22:13:42.984Z"
   },
   {
    "duration": 8,
    "start_time": "2022-09-06T22:14:00.971Z"
   },
   {
    "duration": 50,
    "start_time": "2022-09-06T22:15:55.248Z"
   },
   {
    "duration": 8,
    "start_time": "2022-09-06T22:16:14.514Z"
   },
   {
    "duration": 17,
    "start_time": "2022-09-06T22:16:30.685Z"
   },
   {
    "duration": 6,
    "start_time": "2022-09-06T22:17:37.154Z"
   },
   {
    "duration": 19,
    "start_time": "2022-09-06T22:19:29.976Z"
   },
   {
    "duration": 13,
    "start_time": "2022-09-06T22:23:10.732Z"
   },
   {
    "duration": 46,
    "start_time": "2022-09-07T08:36:35.876Z"
   },
   {
    "duration": 714,
    "start_time": "2022-09-07T08:36:44.338Z"
   },
   {
    "duration": 114,
    "start_time": "2022-09-07T08:36:46.847Z"
   },
   {
    "duration": 27,
    "start_time": "2022-09-07T08:36:51.347Z"
   },
   {
    "duration": 14,
    "start_time": "2022-09-07T08:37:21.898Z"
   },
   {
    "duration": 3,
    "start_time": "2022-09-07T08:37:25.926Z"
   },
   {
    "duration": 18,
    "start_time": "2022-09-07T08:37:29.300Z"
   },
   {
    "duration": 19,
    "start_time": "2022-09-07T08:37:39.142Z"
   },
   {
    "duration": 3,
    "start_time": "2022-09-07T08:37:45.249Z"
   },
   {
    "duration": 42,
    "start_time": "2022-09-07T08:38:43.345Z"
   },
   {
    "duration": 7,
    "start_time": "2022-09-07T08:42:35.343Z"
   },
   {
    "duration": 11,
    "start_time": "2022-09-07T08:43:25.373Z"
   },
   {
    "duration": 9,
    "start_time": "2022-09-07T08:43:46.934Z"
   },
   {
    "duration": 4,
    "start_time": "2022-09-07T08:44:10.132Z"
   },
   {
    "duration": 12,
    "start_time": "2022-09-07T08:44:15.636Z"
   },
   {
    "duration": 11,
    "start_time": "2022-09-07T08:52:02.947Z"
   },
   {
    "duration": 8,
    "start_time": "2022-09-07T09:03:15.222Z"
   },
   {
    "duration": 12,
    "start_time": "2022-09-07T09:03:44.031Z"
   },
   {
    "duration": 2,
    "start_time": "2022-09-07T09:04:13.130Z"
   },
   {
    "duration": 45,
    "start_time": "2022-09-08T18:41:58.011Z"
   },
   {
    "duration": 17,
    "start_time": "2022-09-08T18:42:11.475Z"
   },
   {
    "duration": 782,
    "start_time": "2022-09-08T18:42:20.652Z"
   },
   {
    "duration": 119,
    "start_time": "2022-09-08T18:42:23.263Z"
   },
   {
    "duration": 32,
    "start_time": "2022-09-08T18:42:32.571Z"
   },
   {
    "duration": 14,
    "start_time": "2022-09-08T18:42:37.204Z"
   },
   {
    "duration": 3,
    "start_time": "2022-09-08T18:42:46.828Z"
   },
   {
    "duration": 28,
    "start_time": "2022-09-08T18:42:51.069Z"
   },
   {
    "duration": 26,
    "start_time": "2022-09-08T18:42:59.995Z"
   },
   {
    "duration": 58,
    "start_time": "2022-09-08T18:43:07.221Z"
   },
   {
    "duration": 8,
    "start_time": "2022-09-08T18:54:57.507Z"
   },
   {
    "duration": 10,
    "start_time": "2022-09-08T18:55:25.294Z"
   },
   {
    "duration": 12,
    "start_time": "2022-09-08T18:58:31.711Z"
   },
   {
    "duration": 14,
    "start_time": "2022-09-08T19:00:53.489Z"
   },
   {
    "duration": 36,
    "start_time": "2022-09-08T19:06:39.011Z"
   },
   {
    "duration": 32,
    "start_time": "2022-09-08T19:10:53.083Z"
   },
   {
    "duration": 30,
    "start_time": "2022-09-08T19:12:20.793Z"
   },
   {
    "duration": 8,
    "start_time": "2022-09-08T19:13:25.647Z"
   },
   {
    "duration": 36,
    "start_time": "2022-09-08T19:14:13.678Z"
   },
   {
    "duration": 12,
    "start_time": "2022-09-08T19:14:51.256Z"
   },
   {
    "duration": 73,
    "start_time": "2022-09-08T19:15:43.250Z"
   },
   {
    "duration": 19,
    "start_time": "2022-09-08T19:16:53.350Z"
   },
   {
    "duration": 58,
    "start_time": "2022-09-08T19:18:03.254Z"
   },
   {
    "duration": 17,
    "start_time": "2022-09-08T19:19:36.699Z"
   },
   {
    "duration": 8,
    "start_time": "2022-09-08T19:32:43.757Z"
   },
   {
    "duration": 7,
    "start_time": "2022-09-08T19:33:34.396Z"
   },
   {
    "duration": 18,
    "start_time": "2022-09-08T19:34:33.089Z"
   },
   {
    "duration": 22,
    "start_time": "2022-09-08T19:34:41.298Z"
   },
   {
    "duration": 379,
    "start_time": "2022-09-08T19:40:37.008Z"
   },
   {
    "duration": 208,
    "start_time": "2022-09-08T19:43:14.790Z"
   },
   {
    "duration": 358,
    "start_time": "2022-09-08T19:45:02.272Z"
   },
   {
    "duration": 332,
    "start_time": "2022-09-08T19:45:44.259Z"
   },
   {
    "duration": 334,
    "start_time": "2022-09-08T19:45:51.605Z"
   },
   {
    "duration": 122,
    "start_time": "2022-09-08T19:46:20.060Z"
   },
   {
    "duration": 335,
    "start_time": "2022-09-08T19:46:32.372Z"
   },
   {
    "duration": 410,
    "start_time": "2022-09-08T19:48:39.015Z"
   },
   {
    "duration": 409,
    "start_time": "2022-09-08T19:49:24.927Z"
   },
   {
    "duration": 540,
    "start_time": "2022-09-08T19:50:00.154Z"
   },
   {
    "duration": 471,
    "start_time": "2022-09-08T19:50:25.271Z"
   },
   {
    "duration": 364,
    "start_time": "2022-09-08T19:50:38.598Z"
   },
   {
    "duration": 498,
    "start_time": "2022-09-08T19:51:04.196Z"
   },
   {
    "duration": 435,
    "start_time": "2022-09-08T19:51:23.439Z"
   },
   {
    "duration": 107,
    "start_time": "2022-09-08T19:51:53.393Z"
   },
   {
    "duration": 405,
    "start_time": "2022-09-08T19:52:06.344Z"
   },
   {
    "duration": 14,
    "start_time": "2022-09-08T19:57:38.810Z"
   },
   {
    "duration": 12,
    "start_time": "2022-09-08T19:59:53.589Z"
   },
   {
    "duration": 8,
    "start_time": "2022-09-08T20:00:51.356Z"
   },
   {
    "duration": 17,
    "start_time": "2022-09-08T20:01:34.303Z"
   },
   {
    "duration": 132,
    "start_time": "2022-09-08T20:01:52.565Z"
   },
   {
    "duration": 67,
    "start_time": "2022-09-08T20:05:48.696Z"
   },
   {
    "duration": 107,
    "start_time": "2022-09-08T20:06:21.897Z"
   },
   {
    "duration": 44,
    "start_time": "2022-09-08T20:07:23.516Z"
   },
   {
    "duration": 43,
    "start_time": "2022-09-08T20:07:27.122Z"
   },
   {
    "duration": 19,
    "start_time": "2022-09-08T20:08:03.236Z"
   },
   {
    "duration": 54,
    "start_time": "2022-09-08T20:08:11.098Z"
   },
   {
    "duration": 50,
    "start_time": "2022-09-08T20:08:32.379Z"
   },
   {
    "duration": 3,
    "start_time": "2022-09-08T20:09:08.214Z"
   },
   {
    "duration": 67,
    "start_time": "2022-09-08T20:09:13.772Z"
   },
   {
    "duration": 35,
    "start_time": "2022-09-08T20:09:18.694Z"
   },
   {
    "duration": 13,
    "start_time": "2022-09-08T20:09:22.353Z"
   },
   {
    "duration": 7,
    "start_time": "2022-09-08T20:09:32.381Z"
   },
   {
    "duration": 19,
    "start_time": "2022-09-08T20:09:35.106Z"
   },
   {
    "duration": 37,
    "start_time": "2022-09-08T20:09:42.600Z"
   },
   {
    "duration": 9,
    "start_time": "2022-09-08T20:09:51.593Z"
   },
   {
    "duration": 61,
    "start_time": "2022-09-08T20:10:02.659Z"
   },
   {
    "duration": 18,
    "start_time": "2022-09-08T20:10:11.590Z"
   },
   {
    "duration": 16,
    "start_time": "2022-09-08T20:10:15.514Z"
   },
   {
    "duration": 6,
    "start_time": "2022-09-08T20:10:22.041Z"
   },
   {
    "duration": 28,
    "start_time": "2022-09-08T20:10:25.460Z"
   },
   {
    "duration": 375,
    "start_time": "2022-09-08T20:10:32.843Z"
   },
   {
    "duration": 163,
    "start_time": "2022-09-08T20:10:45.347Z"
   },
   {
    "duration": 36,
    "start_time": "2022-09-08T20:13:26.394Z"
   },
   {
    "duration": 14,
    "start_time": "2022-09-08T20:15:35.467Z"
   },
   {
    "duration": 3,
    "start_time": "2022-09-08T20:16:58.686Z"
   },
   {
    "duration": 69,
    "start_time": "2022-09-08T20:17:01.177Z"
   },
   {
    "duration": 29,
    "start_time": "2022-09-08T20:17:06.095Z"
   },
   {
    "duration": 14,
    "start_time": "2022-09-08T20:17:09.440Z"
   },
   {
    "duration": 3,
    "start_time": "2022-09-08T20:17:13.309Z"
   },
   {
    "duration": 28,
    "start_time": "2022-09-08T20:17:19.096Z"
   },
   {
    "duration": 25,
    "start_time": "2022-09-08T20:17:26.998Z"
   },
   {
    "duration": 12,
    "start_time": "2022-09-08T20:17:34.570Z"
   },
   {
    "duration": 50,
    "start_time": "2022-09-08T20:17:38.742Z"
   },
   {
    "duration": 12,
    "start_time": "2022-09-08T20:17:53.423Z"
   },
   {
    "duration": 14,
    "start_time": "2022-09-08T20:18:05.384Z"
   },
   {
    "duration": 5,
    "start_time": "2022-09-08T20:18:14.846Z"
   },
   {
    "duration": 30,
    "start_time": "2022-09-08T20:18:20.919Z"
   },
   {
    "duration": 391,
    "start_time": "2022-09-08T20:18:26.242Z"
   },
   {
    "duration": 172,
    "start_time": "2022-09-08T20:23:09.132Z"
   },
   {
    "duration": 170,
    "start_time": "2022-09-08T20:23:53.769Z"
   },
   {
    "duration": 19,
    "start_time": "2022-09-08T20:24:19.498Z"
   },
   {
    "duration": 233,
    "start_time": "2022-09-08T20:24:57.121Z"
   },
   {
    "duration": 122,
    "start_time": "2022-09-08T20:27:14.995Z"
   },
   {
    "duration": 128,
    "start_time": "2022-09-08T20:30:45.710Z"
   },
   {
    "duration": 11,
    "start_time": "2022-09-08T20:31:30.807Z"
   },
   {
    "duration": 127,
    "start_time": "2022-09-08T20:31:52.839Z"
   },
   {
    "duration": 150,
    "start_time": "2022-09-08T20:32:22.474Z"
   },
   {
    "duration": 117,
    "start_time": "2022-09-08T20:32:34.254Z"
   },
   {
    "duration": 9,
    "start_time": "2022-09-08T20:33:00.614Z"
   },
   {
    "duration": 18,
    "start_time": "2022-09-08T20:35:06.087Z"
   },
   {
    "duration": 154,
    "start_time": "2022-09-08T20:36:07.109Z"
   },
   {
    "duration": 12,
    "start_time": "2022-09-08T20:36:42.307Z"
   },
   {
    "duration": 9,
    "start_time": "2022-09-08T20:36:50.993Z"
   },
   {
    "duration": 5,
    "start_time": "2022-09-08T20:37:09.974Z"
   },
   {
    "duration": 79,
    "start_time": "2022-09-08T20:37:09.986Z"
   },
   {
    "duration": 29,
    "start_time": "2022-09-08T20:37:10.067Z"
   },
   {
    "duration": 13,
    "start_time": "2022-09-08T20:37:10.098Z"
   },
   {
    "duration": 3,
    "start_time": "2022-09-08T20:37:10.113Z"
   },
   {
    "duration": 21,
    "start_time": "2022-09-08T20:37:10.117Z"
   },
   {
    "duration": 23,
    "start_time": "2022-09-08T20:37:10.140Z"
   },
   {
    "duration": 27,
    "start_time": "2022-09-08T20:37:10.164Z"
   },
   {
    "duration": 42,
    "start_time": "2022-09-08T20:37:10.193Z"
   },
   {
    "duration": 3,
    "start_time": "2022-09-08T20:37:10.236Z"
   },
   {
    "duration": 19,
    "start_time": "2022-09-08T20:37:10.240Z"
   },
   {
    "duration": 28,
    "start_time": "2022-09-08T20:37:10.261Z"
   },
   {
    "duration": 5,
    "start_time": "2022-09-08T20:37:10.293Z"
   },
   {
    "duration": 25,
    "start_time": "2022-09-08T20:37:10.300Z"
   },
   {
    "duration": 441,
    "start_time": "2022-09-08T20:37:10.327Z"
   },
   {
    "duration": 151,
    "start_time": "2022-09-08T20:37:16.017Z"
   },
   {
    "duration": 17,
    "start_time": "2022-09-08T20:38:06.977Z"
   },
   {
    "duration": 2,
    "start_time": "2022-09-08T20:38:13.236Z"
   },
   {
    "duration": 70,
    "start_time": "2022-09-08T20:38:13.242Z"
   },
   {
    "duration": 26,
    "start_time": "2022-09-08T20:38:13.315Z"
   },
   {
    "duration": 13,
    "start_time": "2022-09-08T20:38:13.343Z"
   },
   {
    "duration": 21,
    "start_time": "2022-09-08T20:38:13.358Z"
   },
   {
    "duration": 43,
    "start_time": "2022-09-08T20:38:13.384Z"
   },
   {
    "duration": 34,
    "start_time": "2022-09-08T20:38:13.428Z"
   },
   {
    "duration": 9,
    "start_time": "2022-09-08T20:38:13.463Z"
   },
   {
    "duration": 60,
    "start_time": "2022-09-08T20:38:13.478Z"
   },
   {
    "duration": 2,
    "start_time": "2022-09-08T20:38:13.540Z"
   },
   {
    "duration": 17,
    "start_time": "2022-09-08T20:38:13.544Z"
   },
   {
    "duration": 10,
    "start_time": "2022-09-08T20:38:13.562Z"
   },
   {
    "duration": 16,
    "start_time": "2022-09-08T20:38:13.576Z"
   },
   {
    "duration": 22,
    "start_time": "2022-09-08T20:38:13.593Z"
   },
   {
    "duration": 339,
    "start_time": "2022-09-08T20:38:13.618Z"
   },
   {
    "duration": 8,
    "start_time": "2022-09-08T20:38:17.314Z"
   },
   {
    "duration": 990,
    "start_time": "2022-09-08T20:39:37.540Z"
   },
   {
    "duration": 3,
    "start_time": "2022-09-08T20:39:46.045Z"
   },
   {
    "duration": 67,
    "start_time": "2022-09-08T20:39:46.050Z"
   },
   {
    "duration": 26,
    "start_time": "2022-09-08T20:39:46.119Z"
   },
   {
    "duration": 12,
    "start_time": "2022-09-08T20:39:46.146Z"
   },
   {
    "duration": 18,
    "start_time": "2022-09-08T20:39:46.161Z"
   },
   {
    "duration": 29,
    "start_time": "2022-09-08T20:39:46.184Z"
   },
   {
    "duration": 23,
    "start_time": "2022-09-08T20:39:46.215Z"
   },
   {
    "duration": 9,
    "start_time": "2022-09-08T20:39:46.240Z"
   },
   {
    "duration": 62,
    "start_time": "2022-09-08T20:39:46.251Z"
   },
   {
    "duration": 2,
    "start_time": "2022-09-08T20:39:46.315Z"
   },
   {
    "duration": 18,
    "start_time": "2022-09-08T20:39:46.319Z"
   },
   {
    "duration": 12,
    "start_time": "2022-09-08T20:39:46.339Z"
   },
   {
    "duration": 26,
    "start_time": "2022-09-08T20:39:46.352Z"
   },
   {
    "duration": 33,
    "start_time": "2022-09-08T20:39:46.384Z"
   },
   {
    "duration": 356,
    "start_time": "2022-09-08T20:39:46.418Z"
   },
   {
    "duration": 1017,
    "start_time": "2022-09-08T20:39:48.956Z"
   },
   {
    "duration": 4,
    "start_time": "2022-09-08T20:40:48.120Z"
   },
   {
    "duration": 66,
    "start_time": "2022-09-08T20:40:48.137Z"
   },
   {
    "duration": 27,
    "start_time": "2022-09-08T20:40:48.205Z"
   },
   {
    "duration": 12,
    "start_time": "2022-09-08T20:40:48.234Z"
   },
   {
    "duration": 12,
    "start_time": "2022-09-08T20:40:48.247Z"
   },
   {
    "duration": 72,
    "start_time": "2022-09-08T20:40:48.261Z"
   },
   {
    "duration": 173,
    "start_time": "2022-09-08T20:40:48.334Z"
   },
   {
    "duration": 11,
    "start_time": "2022-09-08T20:40:48.509Z"
   },
   {
    "duration": 76,
    "start_time": "2022-09-08T20:40:48.522Z"
   },
   {
    "duration": 3,
    "start_time": "2022-09-08T20:40:48.600Z"
   },
   {
    "duration": 47,
    "start_time": "2022-09-08T20:40:48.605Z"
   },
   {
    "duration": 41,
    "start_time": "2022-09-08T20:40:48.654Z"
   },
   {
    "duration": 16,
    "start_time": "2022-09-08T20:40:48.697Z"
   },
   {
    "duration": 34,
    "start_time": "2022-09-08T20:40:48.714Z"
   },
   {
    "duration": 382,
    "start_time": "2022-09-08T20:40:48.751Z"
   },
   {
    "duration": 8,
    "start_time": "2022-09-08T20:40:49.135Z"
   },
   {
    "duration": 3,
    "start_time": "2022-09-08T20:40:58.367Z"
   },
   {
    "duration": 79,
    "start_time": "2022-09-08T20:40:58.375Z"
   },
   {
    "duration": 32,
    "start_time": "2022-09-08T20:40:58.456Z"
   },
   {
    "duration": 15,
    "start_time": "2022-09-08T20:40:58.490Z"
   },
   {
    "duration": 10,
    "start_time": "2022-09-08T20:40:58.506Z"
   },
   {
    "duration": 23,
    "start_time": "2022-09-08T20:40:58.519Z"
   },
   {
    "duration": 46,
    "start_time": "2022-09-08T20:40:58.544Z"
   },
   {
    "duration": 11,
    "start_time": "2022-09-08T20:40:58.594Z"
   },
   {
    "duration": 53,
    "start_time": "2022-09-08T20:40:58.606Z"
   },
   {
    "duration": 2,
    "start_time": "2022-09-08T20:40:58.661Z"
   },
   {
    "duration": 23,
    "start_time": "2022-09-08T20:40:58.677Z"
   },
   {
    "duration": 14,
    "start_time": "2022-09-08T20:40:58.701Z"
   },
   {
    "duration": 5,
    "start_time": "2022-09-08T20:40:58.716Z"
   },
   {
    "duration": 23,
    "start_time": "2022-09-08T20:40:58.722Z"
   },
   {
    "duration": 373,
    "start_time": "2022-09-08T20:40:58.747Z"
   },
   {
    "duration": 8,
    "start_time": "2022-09-08T20:40:59.122Z"
   },
   {
    "duration": 1268,
    "start_time": "2022-09-08T20:41:05.755Z"
   },
   {
    "duration": 869,
    "start_time": "2022-09-08T20:44:00.901Z"
   },
   {
    "duration": 3,
    "start_time": "2022-09-08T20:44:24.556Z"
   },
   {
    "duration": 65,
    "start_time": "2022-09-08T20:44:28.291Z"
   },
   {
    "duration": 27,
    "start_time": "2022-09-08T20:44:33.613Z"
   },
   {
    "duration": 13,
    "start_time": "2022-09-08T20:44:36.838Z"
   },
   {
    "duration": 4,
    "start_time": "2022-09-08T20:44:40.108Z"
   },
   {
    "duration": 24,
    "start_time": "2022-09-08T20:44:42.102Z"
   },
   {
    "duration": 21,
    "start_time": "2022-09-08T20:44:45.740Z"
   },
   {
    "duration": 9,
    "start_time": "2022-09-08T20:44:52.254Z"
   },
   {
    "duration": 51,
    "start_time": "2022-09-08T20:44:58.293Z"
   },
   {
    "duration": 13,
    "start_time": "2022-09-08T20:45:04.793Z"
   },
   {
    "duration": 13,
    "start_time": "2022-09-08T20:45:19.496Z"
   },
   {
    "duration": 16,
    "start_time": "2022-09-08T20:45:23.478Z"
   },
   {
    "duration": 5,
    "start_time": "2022-09-08T20:45:27.957Z"
   },
   {
    "duration": 37,
    "start_time": "2022-09-08T20:45:33.254Z"
   },
   {
    "duration": 349,
    "start_time": "2022-09-08T20:45:38.108Z"
   },
   {
    "duration": 9,
    "start_time": "2022-09-08T20:45:44.445Z"
   },
   {
    "duration": 966,
    "start_time": "2022-09-08T20:45:49.799Z"
   },
   {
    "duration": 906,
    "start_time": "2022-09-08T20:52:40.519Z"
   },
   {
    "duration": 3,
    "start_time": "2022-09-08T20:53:24.301Z"
   },
   {
    "duration": 79,
    "start_time": "2022-09-08T20:53:24.306Z"
   },
   {
    "duration": 27,
    "start_time": "2022-09-08T20:53:24.387Z"
   },
   {
    "duration": 12,
    "start_time": "2022-09-08T20:53:24.416Z"
   },
   {
    "duration": 11,
    "start_time": "2022-09-08T20:53:24.430Z"
   },
   {
    "duration": 36,
    "start_time": "2022-09-08T20:53:24.442Z"
   },
   {
    "duration": 23,
    "start_time": "2022-09-08T20:53:24.480Z"
   },
   {
    "duration": 9,
    "start_time": "2022-09-08T20:53:24.504Z"
   },
   {
    "duration": 71,
    "start_time": "2022-09-08T20:53:24.515Z"
   },
   {
    "duration": 13,
    "start_time": "2022-09-08T20:53:24.588Z"
   },
   {
    "duration": 12,
    "start_time": "2022-09-08T20:53:24.603Z"
   },
   {
    "duration": 4,
    "start_time": "2022-09-08T20:53:24.617Z"
   },
   {
    "duration": 31,
    "start_time": "2022-09-08T20:53:24.623Z"
   },
   {
    "duration": 376,
    "start_time": "2022-09-08T20:53:24.655Z"
   },
   {
    "duration": 122,
    "start_time": "2022-09-08T20:53:40.556Z"
   },
   {
    "duration": 9,
    "start_time": "2022-09-08T20:54:29.779Z"
   },
   {
    "duration": 12,
    "start_time": "2022-09-08T20:55:29.947Z"
   },
   {
    "duration": 8,
    "start_time": "2022-09-08T20:59:21.776Z"
   },
   {
    "duration": 8,
    "start_time": "2022-09-08T20:59:37.382Z"
   },
   {
    "duration": 8,
    "start_time": "2022-09-08T21:10:38.053Z"
   },
   {
    "duration": 3,
    "start_time": "2022-09-08T21:10:48.660Z"
   },
   {
    "duration": 63,
    "start_time": "2022-09-08T21:10:52.172Z"
   },
   {
    "duration": 39,
    "start_time": "2022-09-08T21:10:55.901Z"
   },
   {
    "duration": 13,
    "start_time": "2022-09-08T21:10:59.588Z"
   },
   {
    "duration": 3,
    "start_time": "2022-09-08T21:11:03.124Z"
   },
   {
    "duration": 29,
    "start_time": "2022-09-08T21:11:05.821Z"
   },
   {
    "duration": 20,
    "start_time": "2022-09-08T21:11:11.980Z"
   },
   {
    "duration": 12,
    "start_time": "2022-09-08T21:11:17.813Z"
   },
   {
    "duration": 45,
    "start_time": "2022-09-08T21:11:29.748Z"
   },
   {
    "duration": 12,
    "start_time": "2022-09-08T21:11:35.077Z"
   },
   {
    "duration": 13,
    "start_time": "2022-09-08T21:11:41.542Z"
   },
   {
    "duration": 5,
    "start_time": "2022-09-08T21:11:47.733Z"
   },
   {
    "duration": 32,
    "start_time": "2022-09-08T21:11:52.590Z"
   },
   {
    "duration": 356,
    "start_time": "2022-09-08T21:11:58.268Z"
   },
   {
    "duration": 8,
    "start_time": "2022-09-08T21:12:03.397Z"
   },
   {
    "duration": 132,
    "start_time": "2022-09-08T21:12:09.405Z"
   },
   {
    "duration": 128,
    "start_time": "2022-09-08T21:12:38.976Z"
   },
   {
    "duration": 492,
    "start_time": "2022-09-08T21:12:50.152Z"
   },
   {
    "duration": 159,
    "start_time": "2022-09-08T21:13:27.989Z"
   },
   {
    "duration": 610,
    "start_time": "2022-09-08T21:13:43.630Z"
   },
   {
    "duration": 29,
    "start_time": "2022-09-08T21:18:22.100Z"
   },
   {
    "duration": 30,
    "start_time": "2022-09-08T21:19:11.386Z"
   },
   {
    "duration": 168,
    "start_time": "2022-09-08T21:19:47.691Z"
   },
   {
    "duration": 3,
    "start_time": "2022-09-08T21:19:55.776Z"
   },
   {
    "duration": 195,
    "start_time": "2022-09-08T21:20:39.819Z"
   },
   {
    "duration": 188,
    "start_time": "2022-09-08T21:21:54.860Z"
   },
   {
    "duration": 225,
    "start_time": "2022-09-08T21:22:30.349Z"
   },
   {
    "duration": 240,
    "start_time": "2022-09-08T21:23:43.785Z"
   },
   {
    "duration": 6,
    "start_time": "2022-09-08T21:35:34.347Z"
   },
   {
    "duration": 26,
    "start_time": "2022-09-08T21:36:12.516Z"
   },
   {
    "duration": 29,
    "start_time": "2022-09-08T21:36:47.462Z"
   },
   {
    "duration": 22,
    "start_time": "2022-09-08T21:37:13.645Z"
   },
   {
    "duration": 24,
    "start_time": "2022-09-08T21:37:50.477Z"
   },
   {
    "duration": 11,
    "start_time": "2022-09-08T21:47:59.386Z"
   },
   {
    "duration": 10,
    "start_time": "2022-09-08T21:50:34.343Z"
   },
   {
    "duration": 6,
    "start_time": "2022-09-08T21:51:22.100Z"
   },
   {
    "duration": 9,
    "start_time": "2022-09-08T21:54:39.767Z"
   },
   {
    "duration": 9,
    "start_time": "2022-09-08T21:55:13.277Z"
   },
   {
    "duration": 4,
    "start_time": "2022-09-08T22:09:12.842Z"
   },
   {
    "duration": 20,
    "start_time": "2022-09-08T22:10:33.069Z"
   },
   {
    "duration": 6,
    "start_time": "2022-09-08T22:11:49.877Z"
   },
   {
    "duration": 9,
    "start_time": "2022-09-08T22:12:45.273Z"
   },
   {
    "duration": 6,
    "start_time": "2022-09-08T22:13:10.152Z"
   },
   {
    "duration": 6,
    "start_time": "2022-09-08T22:13:35.661Z"
   },
   {
    "duration": 7,
    "start_time": "2022-09-08T22:13:57.359Z"
   },
   {
    "duration": 6,
    "start_time": "2022-09-08T22:14:11.735Z"
   },
   {
    "duration": 5,
    "start_time": "2022-09-08T22:14:29.208Z"
   },
   {
    "duration": 8,
    "start_time": "2022-09-08T22:14:35.161Z"
   },
   {
    "duration": 6,
    "start_time": "2022-09-08T22:14:44.009Z"
   },
   {
    "duration": 6,
    "start_time": "2022-09-08T22:14:55.352Z"
   },
   {
    "duration": 6,
    "start_time": "2022-09-08T22:15:04.145Z"
   },
   {
    "duration": 8,
    "start_time": "2022-09-08T22:15:30.689Z"
   },
   {
    "duration": 28,
    "start_time": "2022-09-08T22:15:55.164Z"
   },
   {
    "duration": 6,
    "start_time": "2022-09-08T22:20:57.149Z"
   },
   {
    "duration": 24,
    "start_time": "2022-09-08T22:22:19.527Z"
   },
   {
    "duration": 4,
    "start_time": "2022-09-08T22:22:34.461Z"
   },
   {
    "duration": 40,
    "start_time": "2022-09-08T22:22:41.438Z"
   },
   {
    "duration": 3,
    "start_time": "2022-09-08T22:23:09.240Z"
   },
   {
    "duration": 62,
    "start_time": "2022-09-08T22:23:11.839Z"
   },
   {
    "duration": 62,
    "start_time": "2022-09-08T22:23:16.007Z"
   },
   {
    "duration": 26,
    "start_time": "2022-09-08T22:23:19.919Z"
   },
   {
    "duration": 13,
    "start_time": "2022-09-08T22:23:23.365Z"
   },
   {
    "duration": 3,
    "start_time": "2022-09-08T22:23:26.648Z"
   },
   {
    "duration": 18,
    "start_time": "2022-09-08T22:23:29.394Z"
   },
   {
    "duration": 19,
    "start_time": "2022-09-08T22:23:32.694Z"
   },
   {
    "duration": 9,
    "start_time": "2022-09-08T22:23:38.964Z"
   },
   {
    "duration": 13,
    "start_time": "2022-09-08T22:23:43.877Z"
   },
   {
    "duration": 11,
    "start_time": "2022-09-08T22:23:47.774Z"
   },
   {
    "duration": 4,
    "start_time": "2022-09-08T22:23:53.021Z"
   },
   {
    "duration": 35,
    "start_time": "2022-09-08T22:23:55.798Z"
   },
   {
    "duration": 333,
    "start_time": "2022-09-08T22:24:07.326Z"
   },
   {
    "duration": 8,
    "start_time": "2022-09-08T22:24:12.175Z"
   },
   {
    "duration": 234,
    "start_time": "2022-09-08T22:24:16.753Z"
   },
   {
    "duration": 7,
    "start_time": "2022-09-08T22:24:24.709Z"
   },
   {
    "duration": 9,
    "start_time": "2022-09-08T22:24:41.662Z"
   },
   {
    "duration": 24,
    "start_time": "2022-09-08T22:26:19.056Z"
   },
   {
    "duration": 7,
    "start_time": "2022-09-08T22:26:45.736Z"
   },
   {
    "duration": 6,
    "start_time": "2022-09-08T22:28:37.100Z"
   },
   {
    "duration": 4,
    "start_time": "2022-09-08T22:29:09.041Z"
   },
   {
    "duration": 212,
    "start_time": "2022-09-08T22:35:12.669Z"
   },
   {
    "duration": 27,
    "start_time": "2022-09-08T22:47:10.579Z"
   },
   {
    "duration": 274,
    "start_time": "2022-09-08T22:47:57.766Z"
   },
   {
    "duration": 276,
    "start_time": "2022-09-08T22:48:29.219Z"
   },
   {
    "duration": 0,
    "start_time": "2022-09-08T22:53:24.512Z"
   },
   {
    "duration": 0,
    "start_time": "2022-09-08T22:53:24.513Z"
   },
   {
    "duration": 0,
    "start_time": "2022-09-08T22:53:24.514Z"
   },
   {
    "duration": 0,
    "start_time": "2022-09-08T22:53:24.515Z"
   },
   {
    "duration": 0,
    "start_time": "2022-09-08T22:53:24.516Z"
   },
   {
    "duration": 0,
    "start_time": "2022-09-08T22:53:24.517Z"
   },
   {
    "duration": 0,
    "start_time": "2022-09-08T22:53:24.517Z"
   },
   {
    "duration": 0,
    "start_time": "2022-09-08T22:53:24.518Z"
   },
   {
    "duration": 0,
    "start_time": "2022-09-08T22:53:24.519Z"
   },
   {
    "duration": 0,
    "start_time": "2022-09-08T22:53:24.523Z"
   },
   {
    "duration": 570,
    "start_time": "2022-09-08T22:53:29.443Z"
   },
   {
    "duration": 69,
    "start_time": "2022-09-08T22:53:30.014Z"
   },
   {
    "duration": 30,
    "start_time": "2022-09-08T22:53:30.085Z"
   },
   {
    "duration": 15,
    "start_time": "2022-09-08T22:53:30.117Z"
   },
   {
    "duration": 4,
    "start_time": "2022-09-08T22:53:30.134Z"
   },
   {
    "duration": 38,
    "start_time": "2022-09-08T22:53:30.140Z"
   },
   {
    "duration": 21,
    "start_time": "2022-09-08T22:53:30.180Z"
   },
   {
    "duration": 8,
    "start_time": "2022-09-08T22:53:30.202Z"
   },
   {
    "duration": 67,
    "start_time": "2022-09-08T22:53:30.212Z"
   },
   {
    "duration": 12,
    "start_time": "2022-09-08T22:53:30.281Z"
   },
   {
    "duration": 19,
    "start_time": "2022-09-08T22:53:30.295Z"
   },
   {
    "duration": 12,
    "start_time": "2022-09-08T22:53:30.315Z"
   },
   {
    "duration": 38,
    "start_time": "2022-09-08T22:53:30.328Z"
   },
   {
    "duration": 336,
    "start_time": "2022-09-08T22:53:30.376Z"
   },
   {
    "duration": 7,
    "start_time": "2022-09-08T22:53:30.714Z"
   },
   {
    "duration": 230,
    "start_time": "2022-09-08T22:53:30.723Z"
   },
   {
    "duration": 5,
    "start_time": "2022-09-08T22:53:30.955Z"
   },
   {
    "duration": 47,
    "start_time": "2022-09-08T22:53:30.962Z"
   },
   {
    "duration": 40,
    "start_time": "2022-09-08T22:53:31.010Z"
   },
   {
    "duration": 21,
    "start_time": "2022-09-08T22:53:31.052Z"
   },
   {
    "duration": 17,
    "start_time": "2022-09-08T22:53:31.074Z"
   },
   {
    "duration": 20,
    "start_time": "2022-09-08T22:53:31.092Z"
   },
   {
    "duration": 30,
    "start_time": "2022-09-08T22:53:31.114Z"
   },
   {
    "duration": 19,
    "start_time": "2022-09-08T22:53:31.146Z"
   },
   {
    "duration": 283,
    "start_time": "2022-09-08T22:53:31.167Z"
   },
   {
    "duration": 605,
    "start_time": "2022-09-08T23:01:26.863Z"
   },
   {
    "duration": 69,
    "start_time": "2022-09-08T23:01:27.470Z"
   },
   {
    "duration": 28,
    "start_time": "2022-09-08T23:01:27.541Z"
   },
   {
    "duration": 13,
    "start_time": "2022-09-08T23:01:27.571Z"
   },
   {
    "duration": 3,
    "start_time": "2022-09-08T23:01:27.585Z"
   },
   {
    "duration": 24,
    "start_time": "2022-09-08T23:01:27.589Z"
   },
   {
    "duration": 23,
    "start_time": "2022-09-08T23:01:27.614Z"
   },
   {
    "duration": 7,
    "start_time": "2022-09-08T23:01:27.639Z"
   },
   {
    "duration": 63,
    "start_time": "2022-09-08T23:01:27.648Z"
   },
   {
    "duration": 12,
    "start_time": "2022-09-08T23:01:27.714Z"
   },
   {
    "duration": 14,
    "start_time": "2022-09-08T23:01:27.727Z"
   },
   {
    "duration": 5,
    "start_time": "2022-09-08T23:01:27.742Z"
   },
   {
    "duration": 61,
    "start_time": "2022-09-08T23:01:27.748Z"
   },
   {
    "duration": 351,
    "start_time": "2022-09-08T23:01:27.811Z"
   },
   {
    "duration": 13,
    "start_time": "2022-09-08T23:01:28.163Z"
   },
   {
    "duration": 226,
    "start_time": "2022-09-08T23:01:28.178Z"
   },
   {
    "duration": 6,
    "start_time": "2022-09-08T23:01:28.406Z"
   },
   {
    "duration": 22,
    "start_time": "2022-09-08T23:01:28.413Z"
   },
   {
    "duration": 40,
    "start_time": "2022-09-08T23:01:28.437Z"
   },
   {
    "duration": 21,
    "start_time": "2022-09-08T23:01:28.479Z"
   },
   {
    "duration": 10,
    "start_time": "2022-09-08T23:01:28.501Z"
   },
   {
    "duration": 13,
    "start_time": "2022-09-08T23:01:28.512Z"
   },
   {
    "duration": 7,
    "start_time": "2022-09-08T23:01:28.526Z"
   },
   {
    "duration": 12,
    "start_time": "2022-09-08T23:01:28.535Z"
   },
   {
    "duration": 280,
    "start_time": "2022-09-08T23:01:28.549Z"
   },
   {
    "duration": 81,
    "start_time": "2022-09-08T23:01:28.831Z"
   },
   {
    "duration": 92,
    "start_time": "2022-09-08T23:03:07.332Z"
   },
   {
    "duration": 95,
    "start_time": "2022-09-08T23:03:51.218Z"
   },
   {
    "duration": 560,
    "start_time": "2022-09-08T23:14:53.008Z"
   },
   {
    "duration": 74,
    "start_time": "2022-09-08T23:14:53.570Z"
   },
   {
    "duration": 26,
    "start_time": "2022-09-08T23:14:53.645Z"
   },
   {
    "duration": 12,
    "start_time": "2022-09-08T23:14:53.673Z"
   },
   {
    "duration": 20,
    "start_time": "2022-09-08T23:14:53.686Z"
   },
   {
    "duration": 53,
    "start_time": "2022-09-08T23:14:53.707Z"
   },
   {
    "duration": 22,
    "start_time": "2022-09-08T23:14:53.762Z"
   },
   {
    "duration": 7,
    "start_time": "2022-09-08T23:14:53.785Z"
   },
   {
    "duration": 39,
    "start_time": "2022-09-08T23:14:53.794Z"
   },
   {
    "duration": 10,
    "start_time": "2022-09-08T23:14:53.836Z"
   },
   {
    "duration": 32,
    "start_time": "2022-09-08T23:14:53.848Z"
   },
   {
    "duration": 5,
    "start_time": "2022-09-08T23:14:53.881Z"
   },
   {
    "duration": 37,
    "start_time": "2022-09-08T23:14:53.887Z"
   },
   {
    "duration": 348,
    "start_time": "2022-09-08T23:14:53.926Z"
   },
   {
    "duration": 9,
    "start_time": "2022-09-08T23:14:54.276Z"
   },
   {
    "duration": 231,
    "start_time": "2022-09-08T23:14:54.286Z"
   },
   {
    "duration": 7,
    "start_time": "2022-09-08T23:14:54.519Z"
   },
   {
    "duration": 31,
    "start_time": "2022-09-08T23:14:54.527Z"
   },
   {
    "duration": 36,
    "start_time": "2022-09-08T23:14:54.560Z"
   },
   {
    "duration": 18,
    "start_time": "2022-09-08T23:14:54.597Z"
   },
   {
    "duration": 6,
    "start_time": "2022-09-08T23:14:54.616Z"
   },
   {
    "duration": 10,
    "start_time": "2022-09-08T23:14:54.623Z"
   },
   {
    "duration": 24,
    "start_time": "2022-09-08T23:14:54.634Z"
   },
   {
    "duration": 16,
    "start_time": "2022-09-08T23:14:54.659Z"
   },
   {
    "duration": 266,
    "start_time": "2022-09-08T23:14:54.676Z"
   },
   {
    "duration": 61,
    "start_time": "2022-09-08T23:14:54.943Z"
   },
   {
    "duration": 52,
    "start_time": "2022-09-08T23:15:44.373Z"
   },
   {
    "duration": 946,
    "start_time": "2022-09-08T23:15:56.890Z"
   },
   {
    "duration": 740,
    "start_time": "2022-09-09T10:29:41.128Z"
   },
   {
    "duration": 123,
    "start_time": "2022-09-09T10:29:44.325Z"
   },
   {
    "duration": 26,
    "start_time": "2022-09-09T10:29:48.877Z"
   },
   {
    "duration": 13,
    "start_time": "2022-09-09T10:29:53.452Z"
   },
   {
    "duration": 2,
    "start_time": "2022-09-09T10:29:57.781Z"
   },
   {
    "duration": 19,
    "start_time": "2022-09-09T10:30:01.006Z"
   },
   {
    "duration": 21,
    "start_time": "2022-09-09T10:30:06.845Z"
   },
   {
    "duration": 9,
    "start_time": "2022-09-09T10:30:16.636Z"
   },
   {
    "duration": 47,
    "start_time": "2022-09-09T10:30:26.793Z"
   },
   {
    "duration": 12,
    "start_time": "2022-09-09T10:30:31.636Z"
   },
   {
    "duration": 10,
    "start_time": "2022-09-09T10:30:35.892Z"
   },
   {
    "duration": 5,
    "start_time": "2022-09-09T10:30:40.476Z"
   },
   {
    "duration": 36,
    "start_time": "2022-09-09T10:30:47.760Z"
   },
   {
    "duration": 338,
    "start_time": "2022-09-09T10:30:53.772Z"
   },
   {
    "duration": 8,
    "start_time": "2022-09-09T10:31:04.020Z"
   },
   {
    "duration": 224,
    "start_time": "2022-09-09T10:31:15.197Z"
   },
   {
    "duration": 6,
    "start_time": "2022-09-09T10:31:51.068Z"
   },
   {
    "duration": 27,
    "start_time": "2022-09-09T10:31:54.613Z"
   },
   {
    "duration": 22,
    "start_time": "2022-09-09T10:32:05.709Z"
   },
   {
    "duration": 20,
    "start_time": "2022-09-09T10:32:21.349Z"
   },
   {
    "duration": 7,
    "start_time": "2022-09-09T10:32:27.799Z"
   },
   {
    "duration": 7,
    "start_time": "2022-09-09T10:32:32.263Z"
   },
   {
    "duration": 5,
    "start_time": "2022-09-09T10:32:37.269Z"
   },
   {
    "duration": 4,
    "start_time": "2022-09-09T10:32:40.165Z"
   },
   {
    "duration": 274,
    "start_time": "2022-09-09T10:32:52.567Z"
   },
   {
    "duration": 619,
    "start_time": "2022-09-09T10:38:31.499Z"
   },
   {
    "duration": 71,
    "start_time": "2022-09-09T10:38:32.120Z"
   },
   {
    "duration": 25,
    "start_time": "2022-09-09T10:38:32.193Z"
   },
   {
    "duration": 13,
    "start_time": "2022-09-09T10:38:32.220Z"
   },
   {
    "duration": 13,
    "start_time": "2022-09-09T10:38:32.234Z"
   },
   {
    "duration": 20,
    "start_time": "2022-09-09T10:38:32.248Z"
   },
   {
    "duration": 22,
    "start_time": "2022-09-09T10:38:32.269Z"
   },
   {
    "duration": 16,
    "start_time": "2022-09-09T10:38:32.293Z"
   },
   {
    "duration": 42,
    "start_time": "2022-09-09T10:38:32.311Z"
   },
   {
    "duration": 14,
    "start_time": "2022-09-09T10:38:32.356Z"
   },
   {
    "duration": 9,
    "start_time": "2022-09-09T10:38:32.372Z"
   },
   {
    "duration": 31,
    "start_time": "2022-09-09T10:38:32.382Z"
   },
   {
    "duration": 44,
    "start_time": "2022-09-09T10:38:32.414Z"
   },
   {
    "duration": 391,
    "start_time": "2022-09-09T10:38:32.460Z"
   },
   {
    "duration": 9,
    "start_time": "2022-09-09T10:38:32.852Z"
   },
   {
    "duration": 232,
    "start_time": "2022-09-09T10:38:32.862Z"
   },
   {
    "duration": 5,
    "start_time": "2022-09-09T10:38:33.096Z"
   },
   {
    "duration": 24,
    "start_time": "2022-09-09T10:38:33.102Z"
   },
   {
    "duration": 25,
    "start_time": "2022-09-09T10:38:33.128Z"
   },
   {
    "duration": 19,
    "start_time": "2022-09-09T10:38:33.155Z"
   },
   {
    "duration": 6,
    "start_time": "2022-09-09T10:38:33.175Z"
   },
   {
    "duration": 29,
    "start_time": "2022-09-09T10:38:33.182Z"
   },
   {
    "duration": 19,
    "start_time": "2022-09-09T10:38:33.212Z"
   },
   {
    "duration": 7,
    "start_time": "2022-09-09T10:38:33.233Z"
   },
   {
    "duration": 250,
    "start_time": "2022-09-09T10:38:33.242Z"
   },
   {
    "duration": 77,
    "start_time": "2022-09-09T10:38:33.505Z"
   },
   {
    "duration": 46,
    "start_time": "2022-09-09T10:41:40.067Z"
   },
   {
    "duration": 13,
    "start_time": "2022-09-09T10:41:56.979Z"
   },
   {
    "duration": 68,
    "start_time": "2022-09-09T10:42:37.627Z"
   },
   {
    "duration": 61,
    "start_time": "2022-09-09T10:43:22.812Z"
   },
   {
    "duration": 89,
    "start_time": "2022-09-09T10:48:07.285Z"
   },
   {
    "duration": 13,
    "start_time": "2022-09-09T10:48:22.954Z"
   },
   {
    "duration": 65,
    "start_time": "2022-09-09T10:51:35.181Z"
   },
   {
    "duration": 51,
    "start_time": "2022-09-09T10:54:53.729Z"
   },
   {
    "duration": 99,
    "start_time": "2022-09-09T10:55:11.069Z"
   },
   {
    "duration": 96,
    "start_time": "2022-09-09T10:55:30.670Z"
   },
   {
    "duration": 100,
    "start_time": "2022-09-09T10:56:06.038Z"
   },
   {
    "duration": 137,
    "start_time": "2022-09-09T10:56:31.711Z"
   },
   {
    "duration": 114,
    "start_time": "2022-09-09T10:57:10.190Z"
   },
   {
    "duration": 599,
    "start_time": "2022-09-09T11:04:42.052Z"
   },
   {
    "duration": 84,
    "start_time": "2022-09-09T11:04:42.652Z"
   },
   {
    "duration": 38,
    "start_time": "2022-09-09T11:04:42.742Z"
   },
   {
    "duration": 16,
    "start_time": "2022-09-09T11:04:42.783Z"
   },
   {
    "duration": 36,
    "start_time": "2022-09-09T11:04:42.801Z"
   },
   {
    "duration": 54,
    "start_time": "2022-09-09T11:04:42.839Z"
   },
   {
    "duration": 62,
    "start_time": "2022-09-09T11:04:42.895Z"
   },
   {
    "duration": 8,
    "start_time": "2022-09-09T11:04:42.959Z"
   },
   {
    "duration": 65,
    "start_time": "2022-09-09T11:04:42.969Z"
   },
   {
    "duration": 11,
    "start_time": "2022-09-09T11:04:43.038Z"
   },
   {
    "duration": 22,
    "start_time": "2022-09-09T11:04:43.050Z"
   },
   {
    "duration": 18,
    "start_time": "2022-09-09T11:04:43.073Z"
   },
   {
    "duration": 70,
    "start_time": "2022-09-09T11:04:43.092Z"
   },
   {
    "duration": 367,
    "start_time": "2022-09-09T11:04:43.163Z"
   },
   {
    "duration": 14,
    "start_time": "2022-09-09T11:04:43.531Z"
   },
   {
    "duration": 242,
    "start_time": "2022-09-09T11:04:43.546Z"
   },
   {
    "duration": 5,
    "start_time": "2022-09-09T11:04:43.789Z"
   },
   {
    "duration": 42,
    "start_time": "2022-09-09T11:04:43.796Z"
   },
   {
    "duration": 41,
    "start_time": "2022-09-09T11:04:43.840Z"
   },
   {
    "duration": 21,
    "start_time": "2022-09-09T11:04:43.882Z"
   },
   {
    "duration": 40,
    "start_time": "2022-09-09T11:04:43.906Z"
   },
   {
    "duration": 13,
    "start_time": "2022-09-09T11:04:43.947Z"
   },
   {
    "duration": 33,
    "start_time": "2022-09-09T11:04:43.961Z"
   },
   {
    "duration": 45,
    "start_time": "2022-09-09T11:04:43.996Z"
   },
   {
    "duration": 315,
    "start_time": "2022-09-09T11:04:44.042Z"
   },
   {
    "duration": 143,
    "start_time": "2022-09-09T11:09:27.395Z"
   },
   {
    "duration": 112,
    "start_time": "2022-09-09T11:09:34.985Z"
   },
   {
    "duration": 3,
    "start_time": "2022-09-09T11:18:56.760Z"
   },
   {
    "duration": 77,
    "start_time": "2022-09-09T11:19:19.495Z"
   },
   {
    "duration": 80,
    "start_time": "2022-09-09T11:19:56.376Z"
   },
   {
    "duration": 85,
    "start_time": "2022-09-09T11:20:57.245Z"
   },
   {
    "duration": 96,
    "start_time": "2022-09-09T11:21:49.617Z"
   },
   {
    "duration": 42,
    "start_time": "2022-09-09T11:22:23.116Z"
   },
   {
    "duration": 48,
    "start_time": "2022-09-09T11:22:57.052Z"
   },
   {
    "duration": 62,
    "start_time": "2022-09-09T11:23:23.652Z"
   },
   {
    "duration": 46,
    "start_time": "2022-09-09T11:24:06.395Z"
   },
   {
    "duration": 50,
    "start_time": "2022-09-09T11:24:46.273Z"
   },
   {
    "duration": 55,
    "start_time": "2022-09-09T11:25:07.250Z"
   },
   {
    "duration": 53,
    "start_time": "2022-09-09T11:25:35.748Z"
   },
   {
    "duration": 17,
    "start_time": "2022-09-09T11:25:57.009Z"
   },
   {
    "duration": 7,
    "start_time": "2022-09-09T11:26:35.548Z"
   },
   {
    "duration": 8,
    "start_time": "2022-09-09T11:27:03.065Z"
   },
   {
    "duration": 44,
    "start_time": "2022-09-09T11:27:13.742Z"
   },
   {
    "duration": 50,
    "start_time": "2022-09-09T11:27:32.402Z"
   },
   {
    "duration": 61,
    "start_time": "2022-09-09T11:28:16.449Z"
   },
   {
    "duration": 41,
    "start_time": "2022-09-09T11:30:21.357Z"
   },
   {
    "duration": 97,
    "start_time": "2022-09-09T11:30:32.186Z"
   },
   {
    "duration": 120,
    "start_time": "2022-09-09T11:31:34.877Z"
   },
   {
    "duration": 13,
    "start_time": "2022-09-09T11:32:04.011Z"
   },
   {
    "duration": 10,
    "start_time": "2022-09-09T11:33:07.809Z"
   },
   {
    "duration": 96,
    "start_time": "2022-09-09T11:33:31.093Z"
   },
   {
    "duration": 93,
    "start_time": "2022-09-09T11:34:34.648Z"
   },
   {
    "duration": 107,
    "start_time": "2022-09-09T11:35:12.683Z"
   },
   {
    "duration": 3,
    "start_time": "2022-09-09T11:35:23.794Z"
   },
   {
    "duration": 76,
    "start_time": "2022-09-09T11:35:23.799Z"
   },
   {
    "duration": 27,
    "start_time": "2022-09-09T11:35:23.877Z"
   },
   {
    "duration": 11,
    "start_time": "2022-09-09T11:35:23.906Z"
   },
   {
    "duration": 2,
    "start_time": "2022-09-09T11:35:23.919Z"
   },
   {
    "duration": 21,
    "start_time": "2022-09-09T11:35:23.922Z"
   },
   {
    "duration": 21,
    "start_time": "2022-09-09T11:35:23.945Z"
   },
   {
    "duration": 8,
    "start_time": "2022-09-09T11:35:23.967Z"
   },
   {
    "duration": 64,
    "start_time": "2022-09-09T11:35:23.977Z"
   },
   {
    "duration": 11,
    "start_time": "2022-09-09T11:35:24.043Z"
   },
   {
    "duration": 12,
    "start_time": "2022-09-09T11:35:24.056Z"
   },
   {
    "duration": 5,
    "start_time": "2022-09-09T11:35:24.070Z"
   },
   {
    "duration": 61,
    "start_time": "2022-09-09T11:35:24.076Z"
   },
   {
    "duration": 338,
    "start_time": "2022-09-09T11:35:24.139Z"
   },
   {
    "duration": 8,
    "start_time": "2022-09-09T11:35:24.478Z"
   },
   {
    "duration": 221,
    "start_time": "2022-09-09T11:35:24.487Z"
   },
   {
    "duration": 5,
    "start_time": "2022-09-09T11:35:24.710Z"
   },
   {
    "duration": 22,
    "start_time": "2022-09-09T11:35:24.716Z"
   },
   {
    "duration": 25,
    "start_time": "2022-09-09T11:35:24.740Z"
   },
   {
    "duration": 19,
    "start_time": "2022-09-09T11:35:24.766Z"
   },
   {
    "duration": 6,
    "start_time": "2022-09-09T11:35:24.809Z"
   },
   {
    "duration": 15,
    "start_time": "2022-09-09T11:35:24.817Z"
   },
   {
    "duration": 8,
    "start_time": "2022-09-09T11:35:24.834Z"
   },
   {
    "duration": 3,
    "start_time": "2022-09-09T11:35:24.845Z"
   },
   {
    "duration": 231,
    "start_time": "2022-09-09T11:35:24.850Z"
   },
   {
    "duration": 13,
    "start_time": "2022-09-09T11:36:01.613Z"
   },
   {
    "duration": 94,
    "start_time": "2022-09-09T11:36:07.300Z"
   },
   {
    "duration": 94,
    "start_time": "2022-09-09T11:36:45.663Z"
   },
   {
    "duration": 101,
    "start_time": "2022-09-09T11:39:53.414Z"
   },
   {
    "duration": 153,
    "start_time": "2022-09-09T11:40:33.350Z"
   },
   {
    "duration": 149,
    "start_time": "2022-09-09T11:40:50.389Z"
   },
   {
    "duration": 849,
    "start_time": "2022-09-09T11:41:08.553Z"
   },
   {
    "duration": 2,
    "start_time": "2022-09-09T11:41:31.357Z"
   },
   {
    "duration": 61,
    "start_time": "2022-09-09T11:41:33.950Z"
   },
   {
    "duration": 25,
    "start_time": "2022-09-09T11:41:41.885Z"
   },
   {
    "duration": 13,
    "start_time": "2022-09-09T11:41:45.396Z"
   },
   {
    "duration": 2,
    "start_time": "2022-09-09T11:41:49.096Z"
   },
   {
    "duration": 18,
    "start_time": "2022-09-09T11:41:51.891Z"
   },
   {
    "duration": 21,
    "start_time": "2022-09-09T11:41:55.767Z"
   },
   {
    "duration": 8,
    "start_time": "2022-09-09T11:41:59.573Z"
   },
   {
    "duration": 43,
    "start_time": "2022-09-09T11:42:03.007Z"
   },
   {
    "duration": 12,
    "start_time": "2022-09-09T11:42:09.873Z"
   },
   {
    "duration": 10,
    "start_time": "2022-09-09T11:42:13.980Z"
   },
   {
    "duration": 6,
    "start_time": "2022-09-09T11:42:17.812Z"
   },
   {
    "duration": 35,
    "start_time": "2022-09-09T11:42:23.295Z"
   },
   {
    "duration": 303,
    "start_time": "2022-09-09T11:42:29.694Z"
   },
   {
    "duration": 102,
    "start_time": "2022-09-09T11:42:59.028Z"
   },
   {
    "duration": 99,
    "start_time": "2022-09-09T11:43:25.154Z"
   },
   {
    "duration": 7,
    "start_time": "2022-09-09T11:43:47.054Z"
   },
   {
    "duration": 214,
    "start_time": "2022-09-09T11:43:51.478Z"
   },
   {
    "duration": 5,
    "start_time": "2022-09-09T11:43:56.086Z"
   },
   {
    "duration": 6,
    "start_time": "2022-09-09T11:44:19.853Z"
   },
   {
    "duration": 19,
    "start_time": "2022-09-09T11:44:29.648Z"
   },
   {
    "duration": 5,
    "start_time": "2022-09-09T11:45:12.201Z"
   },
   {
    "duration": 19,
    "start_time": "2022-09-09T11:45:25.414Z"
   },
   {
    "duration": 23,
    "start_time": "2022-09-09T11:45:37.951Z"
   },
   {
    "duration": 22,
    "start_time": "2022-09-09T11:45:43.309Z"
   },
   {
    "duration": 6,
    "start_time": "2022-09-09T11:45:51.001Z"
   },
   {
    "duration": 7,
    "start_time": "2022-09-09T11:45:54.573Z"
   },
   {
    "duration": 5,
    "start_time": "2022-09-09T11:46:06.558Z"
   },
   {
    "duration": 4,
    "start_time": "2022-09-09T11:46:09.765Z"
   },
   {
    "duration": 14,
    "start_time": "2022-09-09T11:46:36.648Z"
   },
   {
    "duration": 14,
    "start_time": "2022-09-09T11:48:43.303Z"
   },
   {
    "duration": 62,
    "start_time": "2022-09-09T11:50:28.607Z"
   },
   {
    "duration": 108,
    "start_time": "2022-09-09T11:50:47.776Z"
   },
   {
    "duration": 7,
    "start_time": "2022-09-09T11:51:01.489Z"
   },
   {
    "duration": 609,
    "start_time": "2022-09-09T11:54:52.584Z"
   },
   {
    "duration": 70,
    "start_time": "2022-09-09T11:54:53.195Z"
   },
   {
    "duration": 25,
    "start_time": "2022-09-09T11:54:53.267Z"
   },
   {
    "duration": 19,
    "start_time": "2022-09-09T11:54:53.294Z"
   },
   {
    "duration": 23,
    "start_time": "2022-09-09T11:54:53.315Z"
   },
   {
    "duration": 79,
    "start_time": "2022-09-09T11:54:53.339Z"
   },
   {
    "duration": 88,
    "start_time": "2022-09-09T11:54:53.419Z"
   },
   {
    "duration": 8,
    "start_time": "2022-09-09T11:54:53.509Z"
   },
   {
    "duration": 59,
    "start_time": "2022-09-09T11:54:53.518Z"
   },
   {
    "duration": 11,
    "start_time": "2022-09-09T11:54:53.580Z"
   },
   {
    "duration": 16,
    "start_time": "2022-09-09T11:54:53.593Z"
   },
   {
    "duration": 10,
    "start_time": "2022-09-09T11:54:53.611Z"
   },
   {
    "duration": 46,
    "start_time": "2022-09-09T11:54:53.622Z"
   },
   {
    "duration": 347,
    "start_time": "2022-09-09T11:54:53.670Z"
   },
   {
    "duration": 9,
    "start_time": "2022-09-09T11:54:54.019Z"
   },
   {
    "duration": 243,
    "start_time": "2022-09-09T11:54:54.030Z"
   },
   {
    "duration": 6,
    "start_time": "2022-09-09T11:54:54.275Z"
   },
   {
    "duration": 56,
    "start_time": "2022-09-09T11:54:54.282Z"
   },
   {
    "duration": 54,
    "start_time": "2022-09-09T11:54:54.339Z"
   },
   {
    "duration": 19,
    "start_time": "2022-09-09T11:54:54.395Z"
   },
   {
    "duration": 24,
    "start_time": "2022-09-09T11:54:54.415Z"
   },
   {
    "duration": 20,
    "start_time": "2022-09-09T11:54:54.441Z"
   },
   {
    "duration": 24,
    "start_time": "2022-09-09T11:54:54.462Z"
   },
   {
    "duration": 27,
    "start_time": "2022-09-09T11:54:54.488Z"
   },
   {
    "duration": 265,
    "start_time": "2022-09-09T11:54:54.516Z"
   },
   {
    "duration": 13,
    "start_time": "2022-09-09T11:54:54.782Z"
   },
   {
    "duration": 110,
    "start_time": "2022-09-09T11:54:54.797Z"
   },
   {
    "duration": 0,
    "start_time": "2022-09-09T11:54:54.908Z"
   },
   {
    "duration": 7,
    "start_time": "2022-09-09T11:55:36.792Z"
   },
   {
    "duration": 3,
    "start_time": "2022-09-09T11:55:50.392Z"
   },
   {
    "duration": 66,
    "start_time": "2022-09-09T11:55:52.426Z"
   },
   {
    "duration": 26,
    "start_time": "2022-09-09T11:55:56.097Z"
   },
   {
    "duration": 14,
    "start_time": "2022-09-09T11:56:00.400Z"
   },
   {
    "duration": 3,
    "start_time": "2022-09-09T11:56:04.296Z"
   },
   {
    "duration": 28,
    "start_time": "2022-09-09T11:56:07.029Z"
   },
   {
    "duration": 21,
    "start_time": "2022-09-09T11:56:10.408Z"
   },
   {
    "duration": 13,
    "start_time": "2022-09-09T11:56:14.768Z"
   },
   {
    "duration": 41,
    "start_time": "2022-09-09T11:56:18.344Z"
   },
   {
    "duration": 15,
    "start_time": "2022-09-09T11:56:22.537Z"
   },
   {
    "duration": 10,
    "start_time": "2022-09-09T11:56:26.800Z"
   },
   {
    "duration": 5,
    "start_time": "2022-09-09T11:56:31.048Z"
   },
   {
    "duration": 308,
    "start_time": "2022-09-09T11:56:37.889Z"
   },
   {
    "duration": 8,
    "start_time": "2022-09-09T11:56:44.375Z"
   },
   {
    "duration": 217,
    "start_time": "2022-09-09T11:56:50.313Z"
   },
   {
    "duration": 6,
    "start_time": "2022-09-09T11:56:55.634Z"
   },
   {
    "duration": 20,
    "start_time": "2022-09-09T11:57:02.074Z"
   },
   {
    "duration": 22,
    "start_time": "2022-09-09T11:57:08.745Z"
   },
   {
    "duration": 20,
    "start_time": "2022-09-09T11:57:13.618Z"
   },
   {
    "duration": 7,
    "start_time": "2022-09-09T11:57:19.728Z"
   },
   {
    "duration": 7,
    "start_time": "2022-09-09T11:57:24.080Z"
   },
   {
    "duration": 6,
    "start_time": "2022-09-09T11:57:29.240Z"
   },
   {
    "duration": 218,
    "start_time": "2022-09-09T11:57:36.721Z"
   },
   {
    "duration": 13,
    "start_time": "2022-09-09T11:57:41.298Z"
   },
   {
    "duration": 8,
    "start_time": "2022-09-09T11:57:50.064Z"
   },
   {
    "duration": 49,
    "start_time": "2022-09-09T11:58:56.171Z"
   },
   {
    "duration": 99,
    "start_time": "2022-09-09T11:59:11.337Z"
   },
   {
    "duration": 10,
    "start_time": "2022-09-09T11:59:51.106Z"
   },
   {
    "duration": 87,
    "start_time": "2022-09-09T12:00:30.216Z"
   },
   {
    "duration": 27,
    "start_time": "2022-09-09T12:00:56.369Z"
   },
   {
    "duration": 70,
    "start_time": "2022-09-09T12:01:19.436Z"
   },
   {
    "duration": 67,
    "start_time": "2022-09-09T12:01:45.659Z"
   },
   {
    "duration": 13,
    "start_time": "2022-09-09T12:01:58.722Z"
   },
   {
    "duration": 60,
    "start_time": "2022-09-09T12:02:03.721Z"
   },
   {
    "duration": 592,
    "start_time": "2022-09-09T12:02:31.013Z"
   },
   {
    "duration": 72,
    "start_time": "2022-09-09T12:02:31.607Z"
   },
   {
    "duration": 26,
    "start_time": "2022-09-09T12:02:31.680Z"
   },
   {
    "duration": 12,
    "start_time": "2022-09-09T12:02:31.708Z"
   },
   {
    "duration": 2,
    "start_time": "2022-09-09T12:02:31.721Z"
   },
   {
    "duration": 22,
    "start_time": "2022-09-09T12:02:31.725Z"
   },
   {
    "duration": 31,
    "start_time": "2022-09-09T12:02:31.748Z"
   },
   {
    "duration": 8,
    "start_time": "2022-09-09T12:02:31.780Z"
   },
   {
    "duration": 52,
    "start_time": "2022-09-09T12:02:31.789Z"
   },
   {
    "duration": 12,
    "start_time": "2022-09-09T12:02:31.843Z"
   },
   {
    "duration": 9,
    "start_time": "2022-09-09T12:02:31.856Z"
   },
   {
    "duration": 4,
    "start_time": "2022-09-09T12:02:31.867Z"
   },
   {
    "duration": 60,
    "start_time": "2022-09-09T12:02:31.872Z"
   },
   {
    "duration": 341,
    "start_time": "2022-09-09T12:02:31.934Z"
   },
   {
    "duration": 8,
    "start_time": "2022-09-09T12:02:32.277Z"
   },
   {
    "duration": 238,
    "start_time": "2022-09-09T12:02:32.287Z"
   },
   {
    "duration": 8,
    "start_time": "2022-09-09T12:02:32.527Z"
   },
   {
    "duration": 25,
    "start_time": "2022-09-09T12:02:32.537Z"
   },
   {
    "duration": 47,
    "start_time": "2022-09-09T12:02:32.564Z"
   },
   {
    "duration": 25,
    "start_time": "2022-09-09T12:02:32.614Z"
   },
   {
    "duration": 25,
    "start_time": "2022-09-09T12:02:32.641Z"
   },
   {
    "duration": 12,
    "start_time": "2022-09-09T12:02:32.668Z"
   },
   {
    "duration": 11,
    "start_time": "2022-09-09T12:02:32.682Z"
   },
   {
    "duration": 12,
    "start_time": "2022-09-09T12:02:32.695Z"
   },
   {
    "duration": 275,
    "start_time": "2022-09-09T12:02:32.709Z"
   },
   {
    "duration": 12,
    "start_time": "2022-09-09T12:02:32.986Z"
   },
   {
    "duration": 101,
    "start_time": "2022-09-09T12:02:33.000Z"
   },
   {
    "duration": 0,
    "start_time": "2022-09-09T12:02:33.102Z"
   },
   {
    "duration": 72,
    "start_time": "2022-09-09T12:03:01.370Z"
   },
   {
    "duration": 3,
    "start_time": "2022-09-09T12:03:19.225Z"
   },
   {
    "duration": 78,
    "start_time": "2022-09-09T12:03:19.230Z"
   },
   {
    "duration": 24,
    "start_time": "2022-09-09T12:03:19.310Z"
   },
   {
    "duration": 12,
    "start_time": "2022-09-09T12:03:19.335Z"
   },
   {
    "duration": 4,
    "start_time": "2022-09-09T12:03:19.349Z"
   },
   {
    "duration": 20,
    "start_time": "2022-09-09T12:03:19.354Z"
   },
   {
    "duration": 38,
    "start_time": "2022-09-09T12:03:19.375Z"
   },
   {
    "duration": 8,
    "start_time": "2022-09-09T12:03:19.414Z"
   },
   {
    "duration": 42,
    "start_time": "2022-09-09T12:03:19.424Z"
   },
   {
    "duration": 12,
    "start_time": "2022-09-09T12:03:19.467Z"
   },
   {
    "duration": 35,
    "start_time": "2022-09-09T12:03:19.481Z"
   },
   {
    "duration": 9,
    "start_time": "2022-09-09T12:03:19.518Z"
   },
   {
    "duration": 47,
    "start_time": "2022-09-09T12:03:19.528Z"
   },
   {
    "duration": 328,
    "start_time": "2022-09-09T12:03:19.576Z"
   },
   {
    "duration": 8,
    "start_time": "2022-09-09T12:03:19.906Z"
   },
   {
    "duration": 231,
    "start_time": "2022-09-09T12:03:19.916Z"
   },
   {
    "duration": 6,
    "start_time": "2022-09-09T12:03:20.148Z"
   },
   {
    "duration": 20,
    "start_time": "2022-09-09T12:03:20.155Z"
   },
   {
    "duration": 37,
    "start_time": "2022-09-09T12:03:20.177Z"
   },
   {
    "duration": 19,
    "start_time": "2022-09-09T12:03:20.216Z"
   },
   {
    "duration": 6,
    "start_time": "2022-09-09T12:03:20.236Z"
   },
   {
    "duration": 6,
    "start_time": "2022-09-09T12:03:20.243Z"
   },
   {
    "duration": 7,
    "start_time": "2022-09-09T12:03:20.251Z"
   },
   {
    "duration": 6,
    "start_time": "2022-09-09T12:03:20.259Z"
   },
   {
    "duration": 247,
    "start_time": "2022-09-09T12:03:20.267Z"
   },
   {
    "duration": 14,
    "start_time": "2022-09-09T12:03:20.515Z"
   },
   {
    "duration": 61,
    "start_time": "2022-09-09T12:03:35.522Z"
   },
   {
    "duration": 89,
    "start_time": "2022-09-09T12:03:55.124Z"
   },
   {
    "duration": 107,
    "start_time": "2022-09-09T12:05:36.227Z"
   },
   {
    "duration": 86,
    "start_time": "2022-09-09T12:06:23.330Z"
   },
   {
    "duration": 129,
    "start_time": "2022-09-09T12:14:28.796Z"
   },
   {
    "duration": 122,
    "start_time": "2022-09-09T12:16:19.452Z"
   },
   {
    "duration": 167,
    "start_time": "2022-09-09T12:17:02.172Z"
   },
   {
    "duration": 123,
    "start_time": "2022-09-09T12:20:39.007Z"
   },
   {
    "duration": 4,
    "start_time": "2022-09-09T12:28:00.376Z"
   },
   {
    "duration": 4,
    "start_time": "2022-09-09T12:28:37.728Z"
   },
   {
    "duration": 83,
    "start_time": "2022-09-09T12:33:40.183Z"
   },
   {
    "duration": 16,
    "start_time": "2022-09-09T12:34:44.017Z"
   },
   {
    "duration": 7,
    "start_time": "2022-09-09T12:36:48.796Z"
   },
   {
    "duration": 7,
    "start_time": "2022-09-09T12:37:14.259Z"
   },
   {
    "duration": 8,
    "start_time": "2022-09-09T12:37:49.866Z"
   },
   {
    "duration": 81,
    "start_time": "2022-09-09T12:39:23.611Z"
   },
   {
    "duration": 100,
    "start_time": "2022-09-09T12:39:35.295Z"
   },
   {
    "duration": 122,
    "start_time": "2022-09-09T12:45:24.677Z"
   },
   {
    "duration": 127,
    "start_time": "2022-09-09T12:45:51.093Z"
   },
   {
    "duration": 7,
    "start_time": "2022-09-09T12:46:34.524Z"
   },
   {
    "duration": 6,
    "start_time": "2022-09-09T12:46:52.084Z"
   },
   {
    "duration": 118,
    "start_time": "2022-09-09T13:03:13.097Z"
   },
   {
    "duration": 120,
    "start_time": "2022-09-09T13:03:35.624Z"
   },
   {
    "duration": 6,
    "start_time": "2022-09-09T13:03:47.731Z"
   },
   {
    "duration": 6,
    "start_time": "2022-09-09T13:03:52.289Z"
   },
   {
    "duration": 116,
    "start_time": "2022-09-09T13:05:37.730Z"
   },
   {
    "duration": 128,
    "start_time": "2022-09-09T13:05:49.874Z"
   },
   {
    "duration": 7,
    "start_time": "2022-09-09T13:05:59.766Z"
   },
   {
    "duration": 6,
    "start_time": "2022-09-09T13:06:04.297Z"
   },
   {
    "duration": 822,
    "start_time": "2022-09-10T09:59:24.148Z"
   },
   {
    "duration": 128,
    "start_time": "2022-09-10T09:59:24.973Z"
   },
   {
    "duration": 34,
    "start_time": "2022-09-10T09:59:25.102Z"
   },
   {
    "duration": 15,
    "start_time": "2022-09-10T09:59:25.139Z"
   },
   {
    "duration": 3,
    "start_time": "2022-09-10T09:59:25.155Z"
   },
   {
    "duration": 30,
    "start_time": "2022-09-10T09:59:25.161Z"
   },
   {
    "duration": 43,
    "start_time": "2022-09-10T09:59:25.193Z"
   },
   {
    "duration": 10,
    "start_time": "2022-09-10T09:59:25.238Z"
   },
   {
    "duration": 71,
    "start_time": "2022-09-10T09:59:25.250Z"
   },
   {
    "duration": 15,
    "start_time": "2022-09-10T09:59:25.324Z"
   },
   {
    "duration": 30,
    "start_time": "2022-09-10T09:59:25.341Z"
   },
   {
    "duration": 11,
    "start_time": "2022-09-10T09:59:25.373Z"
   },
   {
    "duration": 57,
    "start_time": "2022-09-10T09:59:25.386Z"
   },
   {
    "duration": 419,
    "start_time": "2022-09-10T09:59:25.445Z"
   },
   {
    "duration": 9,
    "start_time": "2022-09-10T09:59:25.866Z"
   },
   {
    "duration": 281,
    "start_time": "2022-09-10T09:59:25.876Z"
   },
   {
    "duration": 7,
    "start_time": "2022-09-10T09:59:26.159Z"
   },
   {
    "duration": 38,
    "start_time": "2022-09-10T09:59:26.167Z"
   },
   {
    "duration": 61,
    "start_time": "2022-09-10T09:59:26.207Z"
   },
   {
    "duration": 25,
    "start_time": "2022-09-10T09:59:26.270Z"
   },
   {
    "duration": 11,
    "start_time": "2022-09-10T09:59:26.296Z"
   },
   {
    "duration": 16,
    "start_time": "2022-09-10T09:59:26.309Z"
   },
   {
    "duration": 9,
    "start_time": "2022-09-10T09:59:26.326Z"
   },
   {
    "duration": 5,
    "start_time": "2022-09-10T09:59:26.337Z"
   },
   {
    "duration": 341,
    "start_time": "2022-09-10T09:59:26.344Z"
   },
   {
    "duration": 17,
    "start_time": "2022-09-10T09:59:26.687Z"
   },
   {
    "duration": 134,
    "start_time": "2022-09-10T09:59:26.706Z"
   },
   {
    "duration": 129,
    "start_time": "2022-09-10T09:59:26.844Z"
   },
   {
    "duration": 125,
    "start_time": "2022-09-10T09:59:26.975Z"
   },
   {
    "duration": 4,
    "start_time": "2022-09-10T09:59:27.103Z"
   },
   {
    "duration": 166,
    "start_time": "2022-09-10T09:59:27.121Z"
   },
   {
    "duration": 165,
    "start_time": "2022-09-10T09:59:27.288Z"
   },
   {
    "duration": 8,
    "start_time": "2022-09-10T09:59:27.456Z"
   },
   {
    "duration": 13,
    "start_time": "2022-09-10T09:59:27.466Z"
   },
   {
    "duration": 172,
    "start_time": "2022-09-10T09:59:27.481Z"
   },
   {
    "duration": 177,
    "start_time": "2022-09-10T09:59:27.655Z"
   },
   {
    "duration": 8,
    "start_time": "2022-09-10T09:59:27.834Z"
   },
   {
    "duration": 15,
    "start_time": "2022-09-10T09:59:27.844Z"
   },
   {
    "duration": 161,
    "start_time": "2022-09-10T09:59:27.861Z"
   },
   {
    "duration": 171,
    "start_time": "2022-09-10T09:59:28.024Z"
   },
   {
    "duration": 7,
    "start_time": "2022-09-10T09:59:28.197Z"
   },
   {
    "duration": 7,
    "start_time": "2022-09-10T09:59:28.220Z"
   },
   {
    "duration": 78,
    "start_time": "2022-09-10T10:02:51.526Z"
   },
   {
    "duration": 8,
    "start_time": "2022-09-10T10:03:14.144Z"
   },
   {
    "duration": 9,
    "start_time": "2022-09-10T10:03:30.694Z"
   },
   {
    "duration": 11,
    "start_time": "2022-09-10T10:04:18.526Z"
   },
   {
    "duration": 9,
    "start_time": "2022-09-10T10:11:48.623Z"
   },
   {
    "duration": 8,
    "start_time": "2022-09-10T10:12:33.484Z"
   },
   {
    "duration": 8,
    "start_time": "2022-09-10T10:12:52.951Z"
   },
   {
    "duration": 9,
    "start_time": "2022-09-10T10:13:10.283Z"
   },
   {
    "duration": 8,
    "start_time": "2022-09-10T10:20:32.931Z"
   },
   {
    "duration": 9,
    "start_time": "2022-09-10T10:25:53.677Z"
   },
   {
    "duration": 10,
    "start_time": "2022-09-10T10:30:44.806Z"
   },
   {
    "duration": 10,
    "start_time": "2022-09-10T10:31:16.815Z"
   },
   {
    "duration": 17,
    "start_time": "2022-09-10T10:36:24.945Z"
   },
   {
    "duration": 9,
    "start_time": "2022-09-10T10:37:08.377Z"
   },
   {
    "duration": 7,
    "start_time": "2022-09-10T10:37:33.439Z"
   },
   {
    "duration": 8,
    "start_time": "2022-09-10T10:42:55.765Z"
   },
   {
    "duration": 8,
    "start_time": "2022-09-10T10:43:27.443Z"
   },
   {
    "duration": 9,
    "start_time": "2022-09-10T10:45:26.378Z"
   },
   {
    "duration": 10,
    "start_time": "2022-09-10T10:45:57.907Z"
   },
   {
    "duration": 8,
    "start_time": "2022-09-10T10:47:31.724Z"
   },
   {
    "duration": 8,
    "start_time": "2022-09-10T10:52:58.118Z"
   },
   {
    "duration": 8,
    "start_time": "2022-09-10T10:54:41.840Z"
   },
   {
    "duration": 11,
    "start_time": "2022-09-10T10:55:31.952Z"
   },
   {
    "duration": 10,
    "start_time": "2022-09-10T10:56:05.969Z"
   },
   {
    "duration": 968,
    "start_time": "2022-09-10T11:02:35.369Z"
   },
   {
    "duration": 784,
    "start_time": "2022-09-10T11:02:49.640Z"
   },
   {
    "duration": 5,
    "start_time": "2022-09-10T11:04:32.110Z"
   },
   {
    "duration": 27,
    "start_time": "2022-09-10T11:07:23.847Z"
   },
   {
    "duration": 23,
    "start_time": "2022-09-10T11:09:54.141Z"
   },
   {
    "duration": 6,
    "start_time": "2022-09-10T11:11:06.151Z"
   },
   {
    "duration": 32,
    "start_time": "2022-09-10T11:11:31.259Z"
   },
   {
    "duration": 15,
    "start_time": "2022-09-10T11:12:04.162Z"
   },
   {
    "duration": 22,
    "start_time": "2022-09-10T11:14:05.282Z"
   },
   {
    "duration": 20,
    "start_time": "2022-09-10T11:18:37.727Z"
   },
   {
    "duration": 27,
    "start_time": "2022-09-10T11:19:23.935Z"
   },
   {
    "duration": 154,
    "start_time": "2022-09-10T11:27:27.636Z"
   },
   {
    "duration": 232,
    "start_time": "2022-09-10T11:28:24.694Z"
   },
   {
    "duration": 157,
    "start_time": "2022-09-10T11:29:54.810Z"
   },
   {
    "duration": 173,
    "start_time": "2022-09-10T11:30:46.956Z"
   },
   {
    "duration": 548,
    "start_time": "2022-09-10T11:56:18.698Z"
   },
   {
    "duration": 14,
    "start_time": "2022-09-10T11:58:21.635Z"
   },
   {
    "duration": 16,
    "start_time": "2022-09-10T12:01:08.042Z"
   },
   {
    "duration": 16,
    "start_time": "2022-09-10T12:03:39.995Z"
   },
   {
    "duration": 18,
    "start_time": "2022-09-10T12:04:13.179Z"
   },
   {
    "duration": 18,
    "start_time": "2022-09-10T12:04:45.353Z"
   },
   {
    "duration": 21,
    "start_time": "2022-09-10T12:05:27.974Z"
   },
   {
    "duration": 9,
    "start_time": "2022-09-10T12:14:40.680Z"
   },
   {
    "duration": 17,
    "start_time": "2022-09-10T12:15:50.141Z"
   },
   {
    "duration": 12,
    "start_time": "2022-09-10T12:16:54.864Z"
   },
   {
    "duration": 12,
    "start_time": "2022-09-10T13:09:09.371Z"
   },
   {
    "duration": 2,
    "start_time": "2022-09-10T13:10:55.343Z"
   },
   {
    "duration": 70,
    "start_time": "2022-09-10T13:10:58.418Z"
   },
   {
    "duration": 30,
    "start_time": "2022-09-10T13:11:02.507Z"
   },
   {
    "duration": 14,
    "start_time": "2022-09-10T13:11:08.298Z"
   },
   {
    "duration": 3,
    "start_time": "2022-09-10T13:11:23.348Z"
   },
   {
    "duration": 20,
    "start_time": "2022-09-10T13:11:26.980Z"
   },
   {
    "duration": 15,
    "start_time": "2022-09-10T13:11:49.299Z"
   },
   {
    "duration": 11,
    "start_time": "2022-09-10T13:12:18.084Z"
   },
   {
    "duration": 16,
    "start_time": "2022-09-10T13:12:41.987Z"
   },
   {
    "duration": 19,
    "start_time": "2022-09-10T13:12:50.988Z"
   },
   {
    "duration": 7,
    "start_time": "2022-09-10T13:13:00.604Z"
   },
   {
    "duration": 48,
    "start_time": "2022-09-10T13:13:05.391Z"
   },
   {
    "duration": 272,
    "start_time": "2022-09-10T13:13:51.254Z"
   },
   {
    "duration": 13,
    "start_time": "2022-09-10T13:17:57.960Z"
   },
   {
    "duration": 648,
    "start_time": "2022-09-10T13:18:31.048Z"
   },
   {
    "duration": 82,
    "start_time": "2022-09-10T13:18:31.698Z"
   },
   {
    "duration": 31,
    "start_time": "2022-09-10T13:18:31.782Z"
   },
   {
    "duration": 16,
    "start_time": "2022-09-10T13:18:31.823Z"
   },
   {
    "duration": 4,
    "start_time": "2022-09-10T13:18:31.841Z"
   },
   {
    "duration": 36,
    "start_time": "2022-09-10T13:18:31.846Z"
   },
   {
    "duration": 28,
    "start_time": "2022-09-10T13:18:31.884Z"
   },
   {
    "duration": 26,
    "start_time": "2022-09-10T13:18:31.914Z"
   },
   {
    "duration": 65,
    "start_time": "2022-09-10T13:18:31.942Z"
   },
   {
    "duration": 58,
    "start_time": "2022-09-10T13:18:32.010Z"
   },
   {
    "duration": 14,
    "start_time": "2022-09-10T13:18:32.070Z"
   },
   {
    "duration": 24,
    "start_time": "2022-09-10T13:18:32.086Z"
   },
   {
    "duration": 18,
    "start_time": "2022-09-10T13:18:32.111Z"
   },
   {
    "duration": 60,
    "start_time": "2022-09-10T13:18:32.131Z"
   },
   {
    "duration": 397,
    "start_time": "2022-09-10T13:18:32.193Z"
   },
   {
    "duration": 9,
    "start_time": "2022-09-10T13:18:32.591Z"
   },
   {
    "duration": 297,
    "start_time": "2022-09-10T13:18:32.602Z"
   },
   {
    "duration": 8,
    "start_time": "2022-09-10T13:18:32.901Z"
   },
   {
    "duration": 32,
    "start_time": "2022-09-10T13:18:32.911Z"
   },
   {
    "duration": 32,
    "start_time": "2022-09-10T13:18:32.945Z"
   },
   {
    "duration": 44,
    "start_time": "2022-09-10T13:18:32.979Z"
   },
   {
    "duration": 15,
    "start_time": "2022-09-10T13:18:33.024Z"
   },
   {
    "duration": 29,
    "start_time": "2022-09-10T13:18:33.041Z"
   },
   {
    "duration": 34,
    "start_time": "2022-09-10T13:18:33.072Z"
   },
   {
    "duration": 15,
    "start_time": "2022-09-10T13:18:33.108Z"
   },
   {
    "duration": 23,
    "start_time": "2022-09-10T13:18:33.125Z"
   },
   {
    "duration": 127,
    "start_time": "2022-09-10T13:18:33.150Z"
   },
   {
    "duration": 183,
    "start_time": "2022-09-10T13:18:33.281Z"
   },
   {
    "duration": 112,
    "start_time": "2022-09-10T13:18:33.466Z"
   },
   {
    "duration": 174,
    "start_time": "2022-09-10T13:18:33.580Z"
   },
   {
    "duration": 182,
    "start_time": "2022-09-10T13:18:33.756Z"
   },
   {
    "duration": 7,
    "start_time": "2022-09-10T13:18:33.940Z"
   },
   {
    "duration": 23,
    "start_time": "2022-09-10T13:18:33.949Z"
   },
   {
    "duration": 142,
    "start_time": "2022-09-10T13:18:33.974Z"
   },
   {
    "duration": 173,
    "start_time": "2022-09-10T13:18:34.117Z"
   },
   {
    "duration": 9,
    "start_time": "2022-09-10T13:18:34.293Z"
   },
   {
    "duration": 18,
    "start_time": "2022-09-10T13:18:34.304Z"
   },
   {
    "duration": 169,
    "start_time": "2022-09-10T13:18:34.324Z"
   },
   {
    "duration": 176,
    "start_time": "2022-09-10T13:18:34.495Z"
   },
   {
    "duration": 7,
    "start_time": "2022-09-10T13:18:34.673Z"
   },
   {
    "duration": 18,
    "start_time": "2022-09-10T13:18:34.682Z"
   },
   {
    "duration": 19,
    "start_time": "2022-09-10T13:18:34.702Z"
   },
   {
    "duration": 9,
    "start_time": "2022-09-10T13:18:34.723Z"
   },
   {
    "duration": 20,
    "start_time": "2022-09-10T13:18:34.733Z"
   },
   {
    "duration": 10,
    "start_time": "2022-09-10T13:18:34.754Z"
   },
   {
    "duration": 9,
    "start_time": "2022-09-10T13:18:34.765Z"
   },
   {
    "duration": 12,
    "start_time": "2022-09-10T13:18:34.776Z"
   },
   {
    "duration": 31,
    "start_time": "2022-09-10T13:18:34.790Z"
   },
   {
    "duration": 20,
    "start_time": "2022-09-10T13:18:34.823Z"
   },
   {
    "duration": 22,
    "start_time": "2022-09-10T13:18:34.846Z"
   },
   {
    "duration": 12,
    "start_time": "2022-09-10T13:18:34.870Z"
   },
   {
    "duration": 14,
    "start_time": "2022-09-10T13:18:34.884Z"
   },
   {
    "duration": 15,
    "start_time": "2022-09-10T13:18:34.900Z"
   },
   {
    "duration": 19,
    "start_time": "2022-09-10T13:18:34.917Z"
   },
   {
    "duration": 7,
    "start_time": "2022-09-10T13:18:34.938Z"
   },
   {
    "duration": 177,
    "start_time": "2022-09-10T13:18:34.946Z"
   },
   {
    "duration": 169,
    "start_time": "2022-09-10T13:18:35.125Z"
   },
   {
    "duration": 156,
    "start_time": "2022-09-10T13:18:35.296Z"
   },
   {
    "duration": 222,
    "start_time": "2022-09-10T13:18:35.454Z"
   },
   {
    "duration": 554,
    "start_time": "2022-09-10T13:18:35.678Z"
   },
   {
    "duration": 0,
    "start_time": "2022-09-10T13:18:36.235Z"
   },
   {
    "duration": 11,
    "start_time": "2022-09-10T13:19:58.371Z"
   },
   {
    "duration": 15,
    "start_time": "2022-09-10T13:20:50.039Z"
   },
   {
    "duration": 11,
    "start_time": "2022-09-10T13:21:02.912Z"
   },
   {
    "duration": 14,
    "start_time": "2022-09-10T13:21:52.841Z"
   },
   {
    "duration": 16,
    "start_time": "2022-09-10T13:21:56.903Z"
   },
   {
    "duration": 12,
    "start_time": "2022-09-10T13:22:51.018Z"
   },
   {
    "duration": 15,
    "start_time": "2022-09-10T13:24:59.371Z"
   },
   {
    "duration": 25,
    "start_time": "2022-09-10T13:29:24.372Z"
   },
   {
    "duration": 21,
    "start_time": "2022-09-10T13:30:34.366Z"
   },
   {
    "duration": 31,
    "start_time": "2022-09-10T13:31:01.673Z"
   },
   {
    "duration": 11,
    "start_time": "2022-09-10T13:32:27.759Z"
   },
   {
    "duration": 699,
    "start_time": "2022-09-10T13:33:21.306Z"
   },
   {
    "duration": 80,
    "start_time": "2022-09-10T13:33:22.008Z"
   },
   {
    "duration": 45,
    "start_time": "2022-09-10T13:33:22.091Z"
   },
   {
    "duration": 123,
    "start_time": "2022-09-10T13:33:22.139Z"
   },
   {
    "duration": 4,
    "start_time": "2022-09-10T13:33:22.264Z"
   },
   {
    "duration": 39,
    "start_time": "2022-09-10T13:33:22.269Z"
   },
   {
    "duration": 35,
    "start_time": "2022-09-10T13:33:22.309Z"
   },
   {
    "duration": 16,
    "start_time": "2022-09-10T13:33:22.346Z"
   },
   {
    "duration": 13,
    "start_time": "2022-09-10T13:33:22.364Z"
   },
   {
    "duration": 92,
    "start_time": "2022-09-10T13:33:22.380Z"
   },
   {
    "duration": 16,
    "start_time": "2022-09-10T13:33:22.475Z"
   },
   {
    "duration": 39,
    "start_time": "2022-09-10T13:33:22.493Z"
   },
   {
    "duration": 17,
    "start_time": "2022-09-10T13:33:22.534Z"
   },
   {
    "duration": 59,
    "start_time": "2022-09-10T13:33:22.553Z"
   },
   {
    "duration": 431,
    "start_time": "2022-09-10T13:33:22.619Z"
   },
   {
    "duration": 9,
    "start_time": "2022-09-10T13:33:23.052Z"
   },
   {
    "duration": 300,
    "start_time": "2022-09-10T13:33:23.062Z"
   },
   {
    "duration": 7,
    "start_time": "2022-09-10T13:33:23.364Z"
   },
   {
    "duration": 27,
    "start_time": "2022-09-10T13:33:23.372Z"
   },
   {
    "duration": 43,
    "start_time": "2022-09-10T13:33:23.402Z"
   },
   {
    "duration": 23,
    "start_time": "2022-09-10T13:33:23.447Z"
   },
   {
    "duration": 9,
    "start_time": "2022-09-10T13:33:23.472Z"
   },
   {
    "duration": 10,
    "start_time": "2022-09-10T13:33:23.483Z"
   },
   {
    "duration": 29,
    "start_time": "2022-09-10T13:33:23.496Z"
   },
   {
    "duration": 8,
    "start_time": "2022-09-10T13:33:23.527Z"
   },
   {
    "duration": 19,
    "start_time": "2022-09-10T13:33:23.536Z"
   },
   {
    "duration": 139,
    "start_time": "2022-09-10T13:33:23.557Z"
   },
   {
    "duration": 192,
    "start_time": "2022-09-10T13:33:23.700Z"
   },
   {
    "duration": 126,
    "start_time": "2022-09-10T13:33:23.894Z"
   },
   {
    "duration": 170,
    "start_time": "2022-09-10T13:33:24.022Z"
   },
   {
    "duration": 172,
    "start_time": "2022-09-10T13:33:24.194Z"
   },
   {
    "duration": 7,
    "start_time": "2022-09-10T13:33:24.367Z"
   },
   {
    "duration": 28,
    "start_time": "2022-09-10T13:33:24.376Z"
   },
   {
    "duration": 150,
    "start_time": "2022-09-10T13:33:24.406Z"
   },
   {
    "duration": 184,
    "start_time": "2022-09-10T13:33:24.557Z"
   },
   {
    "duration": 8,
    "start_time": "2022-09-10T13:33:24.743Z"
   },
   {
    "duration": 10,
    "start_time": "2022-09-10T13:33:24.753Z"
   },
   {
    "duration": 170,
    "start_time": "2022-09-10T13:33:24.765Z"
   },
   {
    "duration": 191,
    "start_time": "2022-09-10T13:33:24.936Z"
   },
   {
    "duration": 7,
    "start_time": "2022-09-10T13:33:25.129Z"
   },
   {
    "duration": 12,
    "start_time": "2022-09-10T13:33:25.138Z"
   },
   {
    "duration": 16,
    "start_time": "2022-09-10T13:33:25.151Z"
   },
   {
    "duration": 14,
    "start_time": "2022-09-10T13:33:25.169Z"
   },
   {
    "duration": 14,
    "start_time": "2022-09-10T13:33:25.185Z"
   },
   {
    "duration": 26,
    "start_time": "2022-09-10T13:33:25.200Z"
   },
   {
    "duration": 12,
    "start_time": "2022-09-10T13:33:25.228Z"
   },
   {
    "duration": 10,
    "start_time": "2022-09-10T13:33:25.242Z"
   },
   {
    "duration": 9,
    "start_time": "2022-09-10T13:33:25.254Z"
   },
   {
    "duration": 9,
    "start_time": "2022-09-10T13:33:25.265Z"
   },
   {
    "duration": 13,
    "start_time": "2022-09-10T13:33:25.275Z"
   },
   {
    "duration": 37,
    "start_time": "2022-09-10T13:33:25.290Z"
   },
   {
    "duration": 18,
    "start_time": "2022-09-10T13:33:25.329Z"
   },
   {
    "duration": 11,
    "start_time": "2022-09-10T13:33:25.349Z"
   },
   {
    "duration": 10,
    "start_time": "2022-09-10T13:33:25.363Z"
   },
   {
    "duration": 5,
    "start_time": "2022-09-10T13:33:25.375Z"
   },
   {
    "duration": 217,
    "start_time": "2022-09-10T13:33:25.381Z"
   },
   {
    "duration": 181,
    "start_time": "2022-09-10T13:33:25.600Z"
   },
   {
    "duration": 165,
    "start_time": "2022-09-10T13:33:25.783Z"
   },
   {
    "duration": 226,
    "start_time": "2022-09-10T13:33:25.950Z"
   },
   {
    "duration": 493,
    "start_time": "2022-09-10T13:33:26.178Z"
   },
   {
    "duration": 12,
    "start_time": "2022-09-10T13:33:26.673Z"
   },
   {
    "duration": 103,
    "start_time": "2022-09-10T14:11:41.412Z"
   },
   {
    "duration": 6,
    "start_time": "2022-09-10T14:12:29.290Z"
   },
   {
    "duration": 5,
    "start_time": "2022-09-10T14:12:46.877Z"
   },
   {
    "duration": 3,
    "start_time": "2022-09-10T14:13:02.940Z"
   },
   {
    "duration": 94,
    "start_time": "2022-09-10T14:13:02.945Z"
   },
   {
    "duration": 31,
    "start_time": "2022-09-10T14:13:03.041Z"
   },
   {
    "duration": 14,
    "start_time": "2022-09-10T14:13:03.074Z"
   },
   {
    "duration": 3,
    "start_time": "2022-09-10T14:13:03.091Z"
   },
   {
    "duration": 23,
    "start_time": "2022-09-10T14:13:03.120Z"
   },
   {
    "duration": 31,
    "start_time": "2022-09-10T14:13:03.144Z"
   },
   {
    "duration": 4,
    "start_time": "2022-09-10T14:13:14.796Z"
   },
   {
    "duration": 831,
    "start_time": "2022-09-10T14:14:50.005Z"
   },
   {
    "duration": 55,
    "start_time": "2022-09-10T14:19:47.792Z"
   },
   {
    "duration": 28,
    "start_time": "2022-09-10T14:23:57.884Z"
   },
   {
    "duration": 43,
    "start_time": "2022-09-10T14:24:28.659Z"
   },
   {
    "duration": 43,
    "start_time": "2022-09-10T14:25:57.166Z"
   },
   {
    "duration": 17,
    "start_time": "2022-09-10T14:34:21.907Z"
   },
   {
    "duration": 17,
    "start_time": "2022-09-10T14:34:25.720Z"
   },
   {
    "duration": 3,
    "start_time": "2022-09-10T14:34:33.673Z"
   },
   {
    "duration": 76,
    "start_time": "2022-09-10T14:34:33.680Z"
   },
   {
    "duration": 30,
    "start_time": "2022-09-10T14:34:33.758Z"
   },
   {
    "duration": 37,
    "start_time": "2022-09-10T14:34:33.790Z"
   },
   {
    "duration": 3,
    "start_time": "2022-09-10T14:34:33.830Z"
   },
   {
    "duration": 31,
    "start_time": "2022-09-10T14:34:33.835Z"
   },
   {
    "duration": 25,
    "start_time": "2022-09-10T14:34:33.868Z"
   },
   {
    "duration": 30,
    "start_time": "2022-09-10T14:34:33.894Z"
   },
   {
    "duration": 8,
    "start_time": "2022-09-10T14:34:33.926Z"
   },
   {
    "duration": 50,
    "start_time": "2022-09-10T14:34:33.936Z"
   },
   {
    "duration": 42,
    "start_time": "2022-09-10T14:34:33.989Z"
   },
   {
    "duration": 13,
    "start_time": "2022-09-10T14:34:34.033Z"
   },
   {
    "duration": 10,
    "start_time": "2022-09-10T14:34:34.048Z"
   },
   {
    "duration": 62,
    "start_time": "2022-09-10T14:34:34.060Z"
   },
   {
    "duration": 398,
    "start_time": "2022-09-10T14:34:34.124Z"
   },
   {
    "duration": 8,
    "start_time": "2022-09-10T14:34:34.524Z"
   },
   {
    "duration": 246,
    "start_time": "2022-09-10T14:34:40.307Z"
   },
   {
    "duration": 31,
    "start_time": "2022-09-10T14:43:49.008Z"
   },
   {
    "duration": 4,
    "start_time": "2022-09-10T16:03:20.416Z"
   },
   {
    "duration": 16,
    "start_time": "2022-09-10T16:03:31.200Z"
   },
   {
    "duration": 253,
    "start_time": "2022-09-10T16:04:27.585Z"
   },
   {
    "duration": 165,
    "start_time": "2022-09-10T16:04:49.238Z"
   },
   {
    "duration": 192,
    "start_time": "2022-09-10T16:05:22.515Z"
   },
   {
    "duration": 194,
    "start_time": "2022-09-10T16:06:35.247Z"
   },
   {
    "duration": 195,
    "start_time": "2022-09-10T16:07:19.513Z"
   },
   {
    "duration": 185,
    "start_time": "2022-09-10T16:09:46.138Z"
   },
   {
    "duration": 719,
    "start_time": "2022-09-10T16:21:40.513Z"
   },
   {
    "duration": 76,
    "start_time": "2022-09-10T16:21:41.235Z"
   },
   {
    "duration": 31,
    "start_time": "2022-09-10T16:21:41.313Z"
   },
   {
    "duration": 14,
    "start_time": "2022-09-10T16:21:41.347Z"
   },
   {
    "duration": 3,
    "start_time": "2022-09-10T16:21:41.363Z"
   },
   {
    "duration": 27,
    "start_time": "2022-09-10T16:21:41.368Z"
   },
   {
    "duration": 25,
    "start_time": "2022-09-10T16:21:41.420Z"
   },
   {
    "duration": 13,
    "start_time": "2022-09-10T16:21:41.448Z"
   },
   {
    "duration": 10,
    "start_time": "2022-09-10T16:21:41.463Z"
   },
   {
    "duration": 85,
    "start_time": "2022-09-10T16:21:41.476Z"
   },
   {
    "duration": 14,
    "start_time": "2022-09-10T16:21:41.563Z"
   },
   {
    "duration": 13,
    "start_time": "2022-09-10T16:21:41.579Z"
   },
   {
    "duration": 29,
    "start_time": "2022-09-10T16:21:41.593Z"
   },
   {
    "duration": 42,
    "start_time": "2022-09-10T16:21:41.624Z"
   },
   {
    "duration": 476,
    "start_time": "2022-09-10T16:21:41.668Z"
   },
   {
    "duration": 12,
    "start_time": "2022-09-10T16:21:42.146Z"
   },
   {
    "duration": 277,
    "start_time": "2022-09-10T16:21:42.160Z"
   },
   {
    "duration": 6,
    "start_time": "2022-09-10T16:21:42.439Z"
   },
   {
    "duration": 40,
    "start_time": "2022-09-10T16:21:42.447Z"
   },
   {
    "duration": 82,
    "start_time": "2022-09-10T16:21:42.489Z"
   },
   {
    "duration": 0,
    "start_time": "2022-09-10T16:21:42.575Z"
   },
   {
    "duration": 0,
    "start_time": "2022-09-10T16:21:42.576Z"
   },
   {
    "duration": 0,
    "start_time": "2022-09-10T16:21:42.577Z"
   },
   {
    "duration": 0,
    "start_time": "2022-09-10T16:21:42.579Z"
   },
   {
    "duration": 0,
    "start_time": "2022-09-10T16:21:42.580Z"
   },
   {
    "duration": 0,
    "start_time": "2022-09-10T16:21:42.582Z"
   },
   {
    "duration": 0,
    "start_time": "2022-09-10T16:21:42.583Z"
   },
   {
    "duration": 0,
    "start_time": "2022-09-10T16:21:42.585Z"
   },
   {
    "duration": 0,
    "start_time": "2022-09-10T16:21:42.586Z"
   },
   {
    "duration": 0,
    "start_time": "2022-09-10T16:21:42.588Z"
   },
   {
    "duration": 0,
    "start_time": "2022-09-10T16:21:42.589Z"
   },
   {
    "duration": 0,
    "start_time": "2022-09-10T16:21:42.621Z"
   },
   {
    "duration": 0,
    "start_time": "2022-09-10T16:21:42.622Z"
   },
   {
    "duration": 0,
    "start_time": "2022-09-10T16:21:42.624Z"
   },
   {
    "duration": 0,
    "start_time": "2022-09-10T16:21:42.626Z"
   },
   {
    "duration": 0,
    "start_time": "2022-09-10T16:21:42.628Z"
   },
   {
    "duration": 0,
    "start_time": "2022-09-10T16:21:42.629Z"
   },
   {
    "duration": 0,
    "start_time": "2022-09-10T16:21:42.631Z"
   },
   {
    "duration": 0,
    "start_time": "2022-09-10T16:21:42.632Z"
   },
   {
    "duration": 0,
    "start_time": "2022-09-10T16:21:42.634Z"
   },
   {
    "duration": 0,
    "start_time": "2022-09-10T16:21:42.635Z"
   },
   {
    "duration": 0,
    "start_time": "2022-09-10T16:21:42.637Z"
   },
   {
    "duration": 0,
    "start_time": "2022-09-10T16:21:42.639Z"
   },
   {
    "duration": 0,
    "start_time": "2022-09-10T16:21:42.642Z"
   },
   {
    "duration": 0,
    "start_time": "2022-09-10T16:21:42.644Z"
   },
   {
    "duration": 0,
    "start_time": "2022-09-10T16:21:42.645Z"
   },
   {
    "duration": 0,
    "start_time": "2022-09-10T16:21:42.646Z"
   },
   {
    "duration": 0,
    "start_time": "2022-09-10T16:21:42.647Z"
   },
   {
    "duration": 0,
    "start_time": "2022-09-10T16:21:42.649Z"
   },
   {
    "duration": 0,
    "start_time": "2022-09-10T16:21:42.651Z"
   },
   {
    "duration": 0,
    "start_time": "2022-09-10T16:21:42.652Z"
   },
   {
    "duration": 0,
    "start_time": "2022-09-10T16:21:42.654Z"
   },
   {
    "duration": 0,
    "start_time": "2022-09-10T16:21:42.656Z"
   },
   {
    "duration": 0,
    "start_time": "2022-09-10T16:21:42.657Z"
   },
   {
    "duration": 0,
    "start_time": "2022-09-10T16:21:42.659Z"
   },
   {
    "duration": 0,
    "start_time": "2022-09-10T16:21:42.660Z"
   },
   {
    "duration": 0,
    "start_time": "2022-09-10T16:21:42.661Z"
   },
   {
    "duration": 0,
    "start_time": "2022-09-10T16:21:42.721Z"
   },
   {
    "duration": 0,
    "start_time": "2022-09-10T16:21:42.723Z"
   },
   {
    "duration": 1,
    "start_time": "2022-09-10T16:21:42.724Z"
   },
   {
    "duration": 0,
    "start_time": "2022-09-10T16:21:42.726Z"
   },
   {
    "duration": 0,
    "start_time": "2022-09-10T16:21:42.728Z"
   },
   {
    "duration": 0,
    "start_time": "2022-09-10T16:21:42.729Z"
   },
   {
    "duration": 0,
    "start_time": "2022-09-10T16:21:42.732Z"
   },
   {
    "duration": 0,
    "start_time": "2022-09-10T16:21:42.737Z"
   },
   {
    "duration": 647,
    "start_time": "2022-09-10T16:23:15.649Z"
   },
   {
    "duration": 76,
    "start_time": "2022-09-10T16:23:16.298Z"
   },
   {
    "duration": 31,
    "start_time": "2022-09-10T16:23:16.375Z"
   },
   {
    "duration": 22,
    "start_time": "2022-09-10T16:23:16.408Z"
   },
   {
    "duration": 3,
    "start_time": "2022-09-10T16:23:16.431Z"
   },
   {
    "duration": 24,
    "start_time": "2022-09-10T16:23:16.436Z"
   },
   {
    "duration": 34,
    "start_time": "2022-09-10T16:23:16.461Z"
   },
   {
    "duration": 28,
    "start_time": "2022-09-10T16:23:16.497Z"
   },
   {
    "duration": 8,
    "start_time": "2022-09-10T16:23:16.527Z"
   },
   {
    "duration": 49,
    "start_time": "2022-09-10T16:23:16.538Z"
   },
   {
    "duration": 39,
    "start_time": "2022-09-10T16:23:16.589Z"
   },
   {
    "duration": 12,
    "start_time": "2022-09-10T16:23:16.630Z"
   },
   {
    "duration": 6,
    "start_time": "2022-09-10T16:23:16.643Z"
   },
   {
    "duration": 43,
    "start_time": "2022-09-10T16:23:16.651Z"
   },
   {
    "duration": 394,
    "start_time": "2022-09-10T16:23:16.720Z"
   },
   {
    "duration": 9,
    "start_time": "2022-09-10T16:23:17.120Z"
   },
   {
    "duration": 248,
    "start_time": "2022-09-10T16:23:17.130Z"
   },
   {
    "duration": 6,
    "start_time": "2022-09-10T16:23:17.380Z"
   },
   {
    "duration": 34,
    "start_time": "2022-09-10T16:23:17.388Z"
   },
   {
    "duration": 77,
    "start_time": "2022-09-10T16:23:17.424Z"
   },
   {
    "duration": 0,
    "start_time": "2022-09-10T16:23:17.504Z"
   },
   {
    "duration": 0,
    "start_time": "2022-09-10T16:23:17.506Z"
   },
   {
    "duration": 0,
    "start_time": "2022-09-10T16:23:17.507Z"
   },
   {
    "duration": 0,
    "start_time": "2022-09-10T16:23:17.508Z"
   },
   {
    "duration": 0,
    "start_time": "2022-09-10T16:23:17.509Z"
   },
   {
    "duration": 0,
    "start_time": "2022-09-10T16:23:17.521Z"
   },
   {
    "duration": 0,
    "start_time": "2022-09-10T16:23:17.522Z"
   },
   {
    "duration": 0,
    "start_time": "2022-09-10T16:23:17.523Z"
   },
   {
    "duration": 0,
    "start_time": "2022-09-10T16:23:17.524Z"
   },
   {
    "duration": 0,
    "start_time": "2022-09-10T16:23:17.525Z"
   },
   {
    "duration": 0,
    "start_time": "2022-09-10T16:23:17.526Z"
   },
   {
    "duration": 0,
    "start_time": "2022-09-10T16:23:17.527Z"
   },
   {
    "duration": 0,
    "start_time": "2022-09-10T16:23:17.528Z"
   },
   {
    "duration": 0,
    "start_time": "2022-09-10T16:23:17.529Z"
   },
   {
    "duration": 0,
    "start_time": "2022-09-10T16:23:17.530Z"
   },
   {
    "duration": 0,
    "start_time": "2022-09-10T16:23:17.532Z"
   },
   {
    "duration": 0,
    "start_time": "2022-09-10T16:23:17.533Z"
   },
   {
    "duration": 0,
    "start_time": "2022-09-10T16:23:17.533Z"
   },
   {
    "duration": 0,
    "start_time": "2022-09-10T16:23:17.535Z"
   },
   {
    "duration": 0,
    "start_time": "2022-09-10T16:23:17.536Z"
   },
   {
    "duration": 0,
    "start_time": "2022-09-10T16:23:17.537Z"
   },
   {
    "duration": 0,
    "start_time": "2022-09-10T16:23:17.539Z"
   },
   {
    "duration": 0,
    "start_time": "2022-09-10T16:23:17.540Z"
   },
   {
    "duration": 0,
    "start_time": "2022-09-10T16:23:17.541Z"
   },
   {
    "duration": 0,
    "start_time": "2022-09-10T16:23:17.542Z"
   },
   {
    "duration": 0,
    "start_time": "2022-09-10T16:23:17.543Z"
   },
   {
    "duration": 0,
    "start_time": "2022-09-10T16:23:17.544Z"
   },
   {
    "duration": 0,
    "start_time": "2022-09-10T16:23:17.545Z"
   },
   {
    "duration": 0,
    "start_time": "2022-09-10T16:23:17.546Z"
   },
   {
    "duration": 0,
    "start_time": "2022-09-10T16:23:17.547Z"
   },
   {
    "duration": 0,
    "start_time": "2022-09-10T16:23:17.548Z"
   },
   {
    "duration": 0,
    "start_time": "2022-09-10T16:23:17.549Z"
   },
   {
    "duration": 0,
    "start_time": "2022-09-10T16:23:17.550Z"
   },
   {
    "duration": 0,
    "start_time": "2022-09-10T16:23:17.551Z"
   },
   {
    "duration": 0,
    "start_time": "2022-09-10T16:23:17.552Z"
   },
   {
    "duration": 0,
    "start_time": "2022-09-10T16:23:17.554Z"
   },
   {
    "duration": 0,
    "start_time": "2022-09-10T16:23:17.555Z"
   },
   {
    "duration": 0,
    "start_time": "2022-09-10T16:23:17.556Z"
   },
   {
    "duration": 0,
    "start_time": "2022-09-10T16:23:17.557Z"
   },
   {
    "duration": 0,
    "start_time": "2022-09-10T16:23:17.622Z"
   },
   {
    "duration": 0,
    "start_time": "2022-09-10T16:23:17.623Z"
   },
   {
    "duration": 1,
    "start_time": "2022-09-10T16:23:17.624Z"
   },
   {
    "duration": 0,
    "start_time": "2022-09-10T16:23:17.626Z"
   },
   {
    "duration": 0,
    "start_time": "2022-09-10T16:23:17.628Z"
   },
   {
    "duration": 9,
    "start_time": "2022-09-10T16:24:49.812Z"
   },
   {
    "duration": 706,
    "start_time": "2022-09-10T16:27:59.588Z"
   },
   {
    "duration": 77,
    "start_time": "2022-09-10T16:28:00.295Z"
   },
   {
    "duration": 31,
    "start_time": "2022-09-10T16:28:00.374Z"
   },
   {
    "duration": 25,
    "start_time": "2022-09-10T16:28:00.407Z"
   },
   {
    "duration": 3,
    "start_time": "2022-09-10T16:28:00.433Z"
   },
   {
    "duration": 48,
    "start_time": "2022-09-10T16:28:00.438Z"
   },
   {
    "duration": 38,
    "start_time": "2022-09-10T16:28:00.488Z"
   },
   {
    "duration": 28,
    "start_time": "2022-09-10T16:28:00.527Z"
   },
   {
    "duration": 10,
    "start_time": "2022-09-10T16:28:00.557Z"
   },
   {
    "duration": 69,
    "start_time": "2022-09-10T16:28:00.569Z"
   },
   {
    "duration": 14,
    "start_time": "2022-09-10T16:28:00.640Z"
   },
   {
    "duration": 15,
    "start_time": "2022-09-10T16:28:00.656Z"
   },
   {
    "duration": 17,
    "start_time": "2022-09-10T16:28:00.672Z"
   },
   {
    "duration": 75,
    "start_time": "2022-09-10T16:28:00.691Z"
   },
   {
    "duration": 437,
    "start_time": "2022-09-10T16:28:00.767Z"
   },
   {
    "duration": 15,
    "start_time": "2022-09-10T16:28:01.206Z"
   },
   {
    "duration": 260,
    "start_time": "2022-09-10T16:28:01.223Z"
   },
   {
    "duration": 11,
    "start_time": "2022-09-10T16:28:01.485Z"
   },
   {
    "duration": 52,
    "start_time": "2022-09-10T16:28:01.498Z"
   },
   {
    "duration": 33,
    "start_time": "2022-09-10T16:28:01.552Z"
   },
   {
    "duration": 49,
    "start_time": "2022-09-10T16:28:01.586Z"
   },
   {
    "duration": 0,
    "start_time": "2022-09-10T16:28:01.638Z"
   },
   {
    "duration": 0,
    "start_time": "2022-09-10T16:28:01.639Z"
   },
   {
    "duration": 0,
    "start_time": "2022-09-10T16:28:01.640Z"
   },
   {
    "duration": 0,
    "start_time": "2022-09-10T16:28:01.641Z"
   },
   {
    "duration": 0,
    "start_time": "2022-09-10T16:28:01.643Z"
   },
   {
    "duration": 0,
    "start_time": "2022-09-10T16:28:01.643Z"
   },
   {
    "duration": 0,
    "start_time": "2022-09-10T16:28:01.644Z"
   },
   {
    "duration": 0,
    "start_time": "2022-09-10T16:28:01.645Z"
   },
   {
    "duration": 0,
    "start_time": "2022-09-10T16:28:01.646Z"
   },
   {
    "duration": 0,
    "start_time": "2022-09-10T16:28:01.647Z"
   },
   {
    "duration": 0,
    "start_time": "2022-09-10T16:28:01.649Z"
   },
   {
    "duration": 0,
    "start_time": "2022-09-10T16:28:01.650Z"
   },
   {
    "duration": 0,
    "start_time": "2022-09-10T16:28:01.651Z"
   },
   {
    "duration": 0,
    "start_time": "2022-09-10T16:28:01.652Z"
   },
   {
    "duration": 0,
    "start_time": "2022-09-10T16:28:01.653Z"
   },
   {
    "duration": 0,
    "start_time": "2022-09-10T16:28:01.654Z"
   },
   {
    "duration": 0,
    "start_time": "2022-09-10T16:28:01.655Z"
   },
   {
    "duration": 0,
    "start_time": "2022-09-10T16:28:01.656Z"
   },
   {
    "duration": 0,
    "start_time": "2022-09-10T16:28:01.657Z"
   },
   {
    "duration": 0,
    "start_time": "2022-09-10T16:28:01.658Z"
   },
   {
    "duration": 0,
    "start_time": "2022-09-10T16:28:01.660Z"
   },
   {
    "duration": 0,
    "start_time": "2022-09-10T16:28:01.661Z"
   },
   {
    "duration": 0,
    "start_time": "2022-09-10T16:28:01.662Z"
   },
   {
    "duration": 0,
    "start_time": "2022-09-10T16:28:01.663Z"
   },
   {
    "duration": 0,
    "start_time": "2022-09-10T16:28:01.664Z"
   },
   {
    "duration": 0,
    "start_time": "2022-09-10T16:28:01.665Z"
   },
   {
    "duration": 0,
    "start_time": "2022-09-10T16:28:01.666Z"
   },
   {
    "duration": 0,
    "start_time": "2022-09-10T16:28:01.667Z"
   },
   {
    "duration": 0,
    "start_time": "2022-09-10T16:28:01.668Z"
   },
   {
    "duration": 0,
    "start_time": "2022-09-10T16:28:01.669Z"
   },
   {
    "duration": 0,
    "start_time": "2022-09-10T16:28:01.670Z"
   },
   {
    "duration": 0,
    "start_time": "2022-09-10T16:28:01.671Z"
   },
   {
    "duration": 0,
    "start_time": "2022-09-10T16:28:01.672Z"
   },
   {
    "duration": 0,
    "start_time": "2022-09-10T16:28:01.673Z"
   },
   {
    "duration": 0,
    "start_time": "2022-09-10T16:28:01.674Z"
   },
   {
    "duration": 0,
    "start_time": "2022-09-10T16:28:01.675Z"
   },
   {
    "duration": 0,
    "start_time": "2022-09-10T16:28:01.721Z"
   },
   {
    "duration": 0,
    "start_time": "2022-09-10T16:28:01.722Z"
   },
   {
    "duration": 0,
    "start_time": "2022-09-10T16:28:01.724Z"
   },
   {
    "duration": 0,
    "start_time": "2022-09-10T16:28:01.725Z"
   },
   {
    "duration": 0,
    "start_time": "2022-09-10T16:28:01.726Z"
   },
   {
    "duration": 0,
    "start_time": "2022-09-10T16:28:01.728Z"
   },
   {
    "duration": 0,
    "start_time": "2022-09-10T16:28:01.729Z"
   },
   {
    "duration": 8,
    "start_time": "2022-09-10T16:29:46.182Z"
   },
   {
    "duration": 624,
    "start_time": "2022-09-10T16:29:57.281Z"
   },
   {
    "duration": 74,
    "start_time": "2022-09-10T16:29:57.907Z"
   },
   {
    "duration": 31,
    "start_time": "2022-09-10T16:29:57.983Z"
   },
   {
    "duration": 14,
    "start_time": "2022-09-10T16:29:58.017Z"
   },
   {
    "duration": 4,
    "start_time": "2022-09-10T16:29:58.032Z"
   },
   {
    "duration": 30,
    "start_time": "2022-09-10T16:29:58.038Z"
   },
   {
    "duration": 31,
    "start_time": "2022-09-10T16:29:58.070Z"
   },
   {
    "duration": 19,
    "start_time": "2022-09-10T16:29:58.103Z"
   },
   {
    "duration": 8,
    "start_time": "2022-09-10T16:29:58.124Z"
   },
   {
    "duration": 52,
    "start_time": "2022-09-10T16:29:58.135Z"
   },
   {
    "duration": 36,
    "start_time": "2022-09-10T16:29:58.188Z"
   },
   {
    "duration": 12,
    "start_time": "2022-09-10T16:29:58.226Z"
   },
   {
    "duration": 8,
    "start_time": "2022-09-10T16:29:58.240Z"
   },
   {
    "duration": 49,
    "start_time": "2022-09-10T16:29:58.250Z"
   },
   {
    "duration": 410,
    "start_time": "2022-09-10T16:29:58.301Z"
   },
   {
    "duration": 16,
    "start_time": "2022-09-10T16:29:58.712Z"
   },
   {
    "duration": 296,
    "start_time": "2022-09-10T16:29:58.729Z"
   },
   {
    "duration": 13,
    "start_time": "2022-09-10T16:29:59.027Z"
   },
   {
    "duration": 37,
    "start_time": "2022-09-10T16:29:59.042Z"
   },
   {
    "duration": 15,
    "start_time": "2022-09-10T16:29:59.082Z"
   },
   {
    "duration": 29,
    "start_time": "2022-09-10T16:29:59.099Z"
   },
   {
    "duration": 10,
    "start_time": "2022-09-10T16:29:59.130Z"
   },
   {
    "duration": 10,
    "start_time": "2022-09-10T16:29:59.142Z"
   },
   {
    "duration": 27,
    "start_time": "2022-09-10T16:29:59.154Z"
   },
   {
    "duration": 139,
    "start_time": "2022-09-10T16:29:59.183Z"
   },
   {
    "duration": 177,
    "start_time": "2022-09-10T16:29:59.324Z"
   },
   {
    "duration": 121,
    "start_time": "2022-09-10T16:29:59.503Z"
   },
   {
    "duration": 161,
    "start_time": "2022-09-10T16:29:59.629Z"
   },
   {
    "duration": 156,
    "start_time": "2022-09-10T16:29:59.792Z"
   },
   {
    "duration": 7,
    "start_time": "2022-09-10T16:29:59.950Z"
   },
   {
    "duration": 8,
    "start_time": "2022-09-10T16:29:59.959Z"
   },
   {
    "duration": 158,
    "start_time": "2022-09-10T16:29:59.969Z"
   },
   {
    "duration": 160,
    "start_time": "2022-09-10T16:30:00.129Z"
   },
   {
    "duration": 7,
    "start_time": "2022-09-10T16:30:00.291Z"
   },
   {
    "duration": 28,
    "start_time": "2022-09-10T16:30:00.299Z"
   },
   {
    "duration": 163,
    "start_time": "2022-09-10T16:30:00.328Z"
   },
   {
    "duration": 167,
    "start_time": "2022-09-10T16:30:00.493Z"
   },
   {
    "duration": 7,
    "start_time": "2022-09-10T16:30:00.662Z"
   },
   {
    "duration": 19,
    "start_time": "2022-09-10T16:30:00.671Z"
   },
   {
    "duration": 50,
    "start_time": "2022-09-10T16:30:00.691Z"
   },
   {
    "duration": 0,
    "start_time": "2022-09-10T16:30:00.743Z"
   },
   {
    "duration": 0,
    "start_time": "2022-09-10T16:30:00.744Z"
   },
   {
    "duration": 0,
    "start_time": "2022-09-10T16:30:00.745Z"
   },
   {
    "duration": 0,
    "start_time": "2022-09-10T16:30:00.747Z"
   },
   {
    "duration": 0,
    "start_time": "2022-09-10T16:30:00.747Z"
   },
   {
    "duration": 0,
    "start_time": "2022-09-10T16:30:00.749Z"
   },
   {
    "duration": 0,
    "start_time": "2022-09-10T16:30:00.750Z"
   },
   {
    "duration": 0,
    "start_time": "2022-09-10T16:30:00.751Z"
   },
   {
    "duration": 0,
    "start_time": "2022-09-10T16:30:00.752Z"
   },
   {
    "duration": 0,
    "start_time": "2022-09-10T16:30:00.753Z"
   },
   {
    "duration": 0,
    "start_time": "2022-09-10T16:30:00.754Z"
   },
   {
    "duration": 0,
    "start_time": "2022-09-10T16:30:00.755Z"
   },
   {
    "duration": 0,
    "start_time": "2022-09-10T16:30:00.756Z"
   },
   {
    "duration": 0,
    "start_time": "2022-09-10T16:30:00.757Z"
   },
   {
    "duration": 0,
    "start_time": "2022-09-10T16:30:00.759Z"
   },
   {
    "duration": 0,
    "start_time": "2022-09-10T16:30:00.760Z"
   },
   {
    "duration": 0,
    "start_time": "2022-09-10T16:30:00.762Z"
   },
   {
    "duration": 0,
    "start_time": "2022-09-10T16:30:00.763Z"
   },
   {
    "duration": 0,
    "start_time": "2022-09-10T16:30:00.765Z"
   },
   {
    "duration": 0,
    "start_time": "2022-09-10T16:30:00.766Z"
   },
   {
    "duration": 0,
    "start_time": "2022-09-10T16:30:00.768Z"
   },
   {
    "duration": 0,
    "start_time": "2022-09-10T16:30:00.770Z"
   },
   {
    "duration": 0,
    "start_time": "2022-09-10T16:30:00.771Z"
   },
   {
    "duration": 0,
    "start_time": "2022-09-10T16:30:00.772Z"
   },
   {
    "duration": 671,
    "start_time": "2022-09-10T16:30:28.044Z"
   },
   {
    "duration": 79,
    "start_time": "2022-09-10T16:30:28.717Z"
   },
   {
    "duration": 31,
    "start_time": "2022-09-10T16:30:28.797Z"
   },
   {
    "duration": 16,
    "start_time": "2022-09-10T16:30:28.830Z"
   },
   {
    "duration": 17,
    "start_time": "2022-09-10T16:30:28.848Z"
   },
   {
    "duration": 59,
    "start_time": "2022-09-10T16:30:28.868Z"
   },
   {
    "duration": 38,
    "start_time": "2022-09-10T16:30:28.929Z"
   },
   {
    "duration": 18,
    "start_time": "2022-09-10T16:30:28.969Z"
   },
   {
    "duration": 20,
    "start_time": "2022-09-10T16:30:28.989Z"
   },
   {
    "duration": 76,
    "start_time": "2022-09-10T16:30:29.022Z"
   },
   {
    "duration": 27,
    "start_time": "2022-09-10T16:30:29.100Z"
   },
   {
    "duration": 16,
    "start_time": "2022-09-10T16:30:29.130Z"
   },
   {
    "duration": 36,
    "start_time": "2022-09-10T16:30:29.149Z"
   },
   {
    "duration": 76,
    "start_time": "2022-09-10T16:30:29.187Z"
   },
   {
    "duration": 426,
    "start_time": "2022-09-10T16:30:29.265Z"
   },
   {
    "duration": 8,
    "start_time": "2022-09-10T16:30:29.693Z"
   },
   {
    "duration": 290,
    "start_time": "2022-09-10T16:30:29.703Z"
   },
   {
    "duration": 11,
    "start_time": "2022-09-10T16:30:29.995Z"
   },
   {
    "duration": 37,
    "start_time": "2022-09-10T16:30:30.008Z"
   },
   {
    "duration": 27,
    "start_time": "2022-09-10T16:30:30.047Z"
   },
   {
    "duration": 16,
    "start_time": "2022-09-10T16:30:30.076Z"
   },
   {
    "duration": 14,
    "start_time": "2022-09-10T16:30:30.094Z"
   },
   {
    "duration": 16,
    "start_time": "2022-09-10T16:30:30.110Z"
   },
   {
    "duration": 39,
    "start_time": "2022-09-10T16:30:30.128Z"
   },
   {
    "duration": 175,
    "start_time": "2022-09-10T16:30:30.169Z"
   },
   {
    "duration": 186,
    "start_time": "2022-09-10T16:30:30.347Z"
   },
   {
    "duration": 123,
    "start_time": "2022-09-10T16:30:30.534Z"
   },
   {
    "duration": 168,
    "start_time": "2022-09-10T16:30:30.661Z"
   },
   {
    "duration": 170,
    "start_time": "2022-09-10T16:30:30.830Z"
   },
   {
    "duration": 8,
    "start_time": "2022-09-10T16:30:31.002Z"
   },
   {
    "duration": 10,
    "start_time": "2022-09-10T16:30:31.021Z"
   },
   {
    "duration": 186,
    "start_time": "2022-09-10T16:30:31.033Z"
   },
   {
    "duration": 178,
    "start_time": "2022-09-10T16:30:31.221Z"
   },
   {
    "duration": 8,
    "start_time": "2022-09-10T16:30:31.401Z"
   },
   {
    "duration": 14,
    "start_time": "2022-09-10T16:30:31.420Z"
   },
   {
    "duration": 187,
    "start_time": "2022-09-10T16:30:31.436Z"
   },
   {
    "duration": 180,
    "start_time": "2022-09-10T16:30:31.625Z"
   },
   {
    "duration": 25,
    "start_time": "2022-09-10T16:30:31.806Z"
   },
   {
    "duration": 36,
    "start_time": "2022-09-10T16:30:31.833Z"
   },
   {
    "duration": 19,
    "start_time": "2022-09-10T16:30:31.871Z"
   },
   {
    "duration": 34,
    "start_time": "2022-09-10T16:30:31.892Z"
   },
   {
    "duration": 16,
    "start_time": "2022-09-10T16:30:31.928Z"
   },
   {
    "duration": 34,
    "start_time": "2022-09-10T16:30:31.946Z"
   },
   {
    "duration": 30,
    "start_time": "2022-09-10T16:30:31.982Z"
   },
   {
    "duration": 26,
    "start_time": "2022-09-10T16:30:32.014Z"
   },
   {
    "duration": 33,
    "start_time": "2022-09-10T16:30:32.042Z"
   },
   {
    "duration": 17,
    "start_time": "2022-09-10T16:30:32.076Z"
   },
   {
    "duration": 24,
    "start_time": "2022-09-10T16:30:32.095Z"
   },
   {
    "duration": 57,
    "start_time": "2022-09-10T16:30:32.121Z"
   },
   {
    "duration": 0,
    "start_time": "2022-09-10T16:30:32.180Z"
   },
   {
    "duration": 0,
    "start_time": "2022-09-10T16:30:32.181Z"
   },
   {
    "duration": 0,
    "start_time": "2022-09-10T16:30:32.182Z"
   },
   {
    "duration": 0,
    "start_time": "2022-09-10T16:30:32.183Z"
   },
   {
    "duration": 0,
    "start_time": "2022-09-10T16:30:32.185Z"
   },
   {
    "duration": 0,
    "start_time": "2022-09-10T16:30:32.186Z"
   },
   {
    "duration": 0,
    "start_time": "2022-09-10T16:30:32.187Z"
   },
   {
    "duration": 0,
    "start_time": "2022-09-10T16:30:32.188Z"
   },
   {
    "duration": 0,
    "start_time": "2022-09-10T16:30:32.190Z"
   },
   {
    "duration": 0,
    "start_time": "2022-09-10T16:30:32.191Z"
   },
   {
    "duration": 0,
    "start_time": "2022-09-10T16:30:32.192Z"
   },
   {
    "duration": 0,
    "start_time": "2022-09-10T16:30:32.193Z"
   },
   {
    "duration": 0,
    "start_time": "2022-09-10T16:30:32.195Z"
   },
   {
    "duration": 0,
    "start_time": "2022-09-10T16:30:32.196Z"
   },
   {
    "duration": 633,
    "start_time": "2022-09-10T16:30:56.760Z"
   },
   {
    "duration": 76,
    "start_time": "2022-09-10T16:30:57.395Z"
   },
   {
    "duration": 33,
    "start_time": "2022-09-10T16:30:57.472Z"
   },
   {
    "duration": 24,
    "start_time": "2022-09-10T16:30:57.507Z"
   },
   {
    "duration": 3,
    "start_time": "2022-09-10T16:30:57.533Z"
   },
   {
    "duration": 22,
    "start_time": "2022-09-10T16:30:57.538Z"
   },
   {
    "duration": 27,
    "start_time": "2022-09-10T16:30:57.562Z"
   },
   {
    "duration": 33,
    "start_time": "2022-09-10T16:30:57.592Z"
   },
   {
    "duration": 9,
    "start_time": "2022-09-10T16:30:57.627Z"
   },
   {
    "duration": 47,
    "start_time": "2022-09-10T16:30:57.638Z"
   },
   {
    "duration": 43,
    "start_time": "2022-09-10T16:30:57.687Z"
   },
   {
    "duration": 11,
    "start_time": "2022-09-10T16:30:57.732Z"
   },
   {
    "duration": 7,
    "start_time": "2022-09-10T16:30:57.744Z"
   },
   {
    "duration": 43,
    "start_time": "2022-09-10T16:30:57.753Z"
   },
   {
    "duration": 387,
    "start_time": "2022-09-10T16:30:57.821Z"
   },
   {
    "duration": 11,
    "start_time": "2022-09-10T16:30:58.210Z"
   },
   {
    "duration": 244,
    "start_time": "2022-09-10T16:30:58.223Z"
   },
   {
    "duration": 9,
    "start_time": "2022-09-10T16:30:58.470Z"
   },
   {
    "duration": 56,
    "start_time": "2022-09-10T16:30:58.481Z"
   },
   {
    "duration": 16,
    "start_time": "2022-09-10T16:30:58.538Z"
   },
   {
    "duration": 26,
    "start_time": "2022-09-10T16:30:58.556Z"
   },
   {
    "duration": 30,
    "start_time": "2022-09-10T16:30:58.583Z"
   },
   {
    "duration": 27,
    "start_time": "2022-09-10T16:30:58.615Z"
   },
   {
    "duration": 42,
    "start_time": "2022-09-10T16:30:58.644Z"
   },
   {
    "duration": 150,
    "start_time": "2022-09-10T16:30:58.688Z"
   },
   {
    "duration": 236,
    "start_time": "2022-09-10T16:30:58.840Z"
   },
   {
    "duration": 145,
    "start_time": "2022-09-10T16:30:59.078Z"
   },
   {
    "duration": 158,
    "start_time": "2022-09-10T16:30:59.227Z"
   },
   {
    "duration": 160,
    "start_time": "2022-09-10T16:30:59.387Z"
   },
   {
    "duration": 7,
    "start_time": "2022-09-10T16:30:59.549Z"
   },
   {
    "duration": 29,
    "start_time": "2022-09-10T16:30:59.557Z"
   },
   {
    "duration": 156,
    "start_time": "2022-09-10T16:30:59.588Z"
   },
   {
    "duration": 168,
    "start_time": "2022-09-10T16:30:59.745Z"
   },
   {
    "duration": 7,
    "start_time": "2022-09-10T16:30:59.920Z"
   },
   {
    "duration": 19,
    "start_time": "2022-09-10T16:30:59.929Z"
   },
   {
    "duration": 157,
    "start_time": "2022-09-10T16:30:59.949Z"
   },
   {
    "duration": 173,
    "start_time": "2022-09-10T16:31:00.108Z"
   },
   {
    "duration": 7,
    "start_time": "2022-09-10T16:31:00.283Z"
   },
   {
    "duration": 44,
    "start_time": "2022-09-10T16:31:00.292Z"
   },
   {
    "duration": 15,
    "start_time": "2022-09-10T16:31:00.338Z"
   },
   {
    "duration": 25,
    "start_time": "2022-09-10T16:31:00.355Z"
   },
   {
    "duration": 28,
    "start_time": "2022-09-10T16:31:00.382Z"
   },
   {
    "duration": 26,
    "start_time": "2022-09-10T16:31:00.412Z"
   },
   {
    "duration": 24,
    "start_time": "2022-09-10T16:31:00.439Z"
   },
   {
    "duration": 23,
    "start_time": "2022-09-10T16:31:00.465Z"
   },
   {
    "duration": 47,
    "start_time": "2022-09-10T16:31:00.490Z"
   },
   {
    "duration": 35,
    "start_time": "2022-09-10T16:31:00.539Z"
   },
   {
    "duration": 25,
    "start_time": "2022-09-10T16:31:00.575Z"
   },
   {
    "duration": 42,
    "start_time": "2022-09-10T16:31:00.601Z"
   },
   {
    "duration": 19,
    "start_time": "2022-09-10T16:31:00.644Z"
   },
   {
    "duration": 26,
    "start_time": "2022-09-10T16:31:00.665Z"
   },
   {
    "duration": 32,
    "start_time": "2022-09-10T16:31:00.693Z"
   },
   {
    "duration": 48,
    "start_time": "2022-09-10T16:31:00.727Z"
   },
   {
    "duration": 0,
    "start_time": "2022-09-10T16:31:00.778Z"
   },
   {
    "duration": 0,
    "start_time": "2022-09-10T16:31:00.779Z"
   },
   {
    "duration": 0,
    "start_time": "2022-09-10T16:31:00.781Z"
   },
   {
    "duration": 0,
    "start_time": "2022-09-10T16:31:00.782Z"
   },
   {
    "duration": 0,
    "start_time": "2022-09-10T16:31:00.783Z"
   },
   {
    "duration": 0,
    "start_time": "2022-09-10T16:31:00.785Z"
   },
   {
    "duration": 0,
    "start_time": "2022-09-10T16:31:00.787Z"
   },
   {
    "duration": 0,
    "start_time": "2022-09-10T16:31:00.788Z"
   },
   {
    "duration": 0,
    "start_time": "2022-09-10T16:31:00.789Z"
   },
   {
    "duration": 633,
    "start_time": "2022-09-10T16:31:25.844Z"
   },
   {
    "duration": 74,
    "start_time": "2022-09-10T16:31:26.479Z"
   },
   {
    "duration": 32,
    "start_time": "2022-09-10T16:31:26.555Z"
   },
   {
    "duration": 32,
    "start_time": "2022-09-10T16:31:26.589Z"
   },
   {
    "duration": 3,
    "start_time": "2022-09-10T16:31:26.623Z"
   },
   {
    "duration": 26,
    "start_time": "2022-09-10T16:31:26.628Z"
   },
   {
    "duration": 26,
    "start_time": "2022-09-10T16:31:26.656Z"
   },
   {
    "duration": 13,
    "start_time": "2022-09-10T16:31:26.684Z"
   },
   {
    "duration": 9,
    "start_time": "2022-09-10T16:31:26.721Z"
   },
   {
    "duration": 49,
    "start_time": "2022-09-10T16:31:26.733Z"
   },
   {
    "duration": 38,
    "start_time": "2022-09-10T16:31:26.784Z"
   },
   {
    "duration": 13,
    "start_time": "2022-09-10T16:31:26.824Z"
   },
   {
    "duration": 12,
    "start_time": "2022-09-10T16:31:26.839Z"
   },
   {
    "duration": 46,
    "start_time": "2022-09-10T16:31:26.852Z"
   },
   {
    "duration": 414,
    "start_time": "2022-09-10T16:31:26.900Z"
   },
   {
    "duration": 11,
    "start_time": "2022-09-10T16:31:27.316Z"
   },
   {
    "duration": 240,
    "start_time": "2022-09-10T16:31:27.328Z"
   },
   {
    "duration": 12,
    "start_time": "2022-09-10T16:31:27.569Z"
   },
   {
    "duration": 39,
    "start_time": "2022-09-10T16:31:27.583Z"
   },
   {
    "duration": 14,
    "start_time": "2022-09-10T16:31:27.624Z"
   },
   {
    "duration": 32,
    "start_time": "2022-09-10T16:31:27.640Z"
   },
   {
    "duration": 7,
    "start_time": "2022-09-10T16:31:27.674Z"
   },
   {
    "duration": 7,
    "start_time": "2022-09-10T16:31:27.683Z"
   },
   {
    "duration": 17,
    "start_time": "2022-09-10T16:31:27.691Z"
   },
   {
    "duration": 114,
    "start_time": "2022-09-10T16:31:27.710Z"
   },
   {
    "duration": 173,
    "start_time": "2022-09-10T16:31:27.827Z"
   },
   {
    "duration": 120,
    "start_time": "2022-09-10T16:31:28.002Z"
   },
   {
    "duration": 159,
    "start_time": "2022-09-10T16:31:28.126Z"
   },
   {
    "duration": 154,
    "start_time": "2022-09-10T16:31:28.287Z"
   },
   {
    "duration": 7,
    "start_time": "2022-09-10T16:31:28.442Z"
   },
   {
    "duration": 19,
    "start_time": "2022-09-10T16:31:28.451Z"
   },
   {
    "duration": 143,
    "start_time": "2022-09-10T16:31:28.471Z"
   },
   {
    "duration": 164,
    "start_time": "2022-09-10T16:31:28.621Z"
   },
   {
    "duration": 6,
    "start_time": "2022-09-10T16:31:28.787Z"
   },
   {
    "duration": 15,
    "start_time": "2022-09-10T16:31:28.795Z"
   },
   {
    "duration": 192,
    "start_time": "2022-09-10T16:31:28.812Z"
   },
   {
    "duration": 220,
    "start_time": "2022-09-10T16:31:29.007Z"
   },
   {
    "duration": 7,
    "start_time": "2022-09-10T16:31:29.228Z"
   },
   {
    "duration": 12,
    "start_time": "2022-09-10T16:31:29.237Z"
   },
   {
    "duration": 10,
    "start_time": "2022-09-10T16:31:29.251Z"
   },
   {
    "duration": 13,
    "start_time": "2022-09-10T16:31:29.263Z"
   },
   {
    "duration": 12,
    "start_time": "2022-09-10T16:31:29.278Z"
   },
   {
    "duration": 33,
    "start_time": "2022-09-10T16:31:29.292Z"
   },
   {
    "duration": 8,
    "start_time": "2022-09-10T16:31:29.327Z"
   },
   {
    "duration": 14,
    "start_time": "2022-09-10T16:31:29.337Z"
   },
   {
    "duration": 13,
    "start_time": "2022-09-10T16:31:29.353Z"
   },
   {
    "duration": 7,
    "start_time": "2022-09-10T16:31:29.367Z"
   },
   {
    "duration": 7,
    "start_time": "2022-09-10T16:31:29.376Z"
   },
   {
    "duration": 37,
    "start_time": "2022-09-10T16:31:29.385Z"
   },
   {
    "duration": 7,
    "start_time": "2022-09-10T16:31:29.424Z"
   },
   {
    "duration": 11,
    "start_time": "2022-09-10T16:31:29.433Z"
   },
   {
    "duration": 9,
    "start_time": "2022-09-10T16:31:29.446Z"
   },
   {
    "duration": 4,
    "start_time": "2022-09-10T16:31:29.457Z"
   },
   {
    "duration": 195,
    "start_time": "2022-09-10T16:31:29.462Z"
   },
   {
    "duration": 183,
    "start_time": "2022-09-10T16:31:29.659Z"
   },
   {
    "duration": 160,
    "start_time": "2022-09-10T16:31:29.844Z"
   },
   {
    "duration": 252,
    "start_time": "2022-09-10T16:31:30.006Z"
   },
   {
    "duration": 51,
    "start_time": "2022-09-10T16:31:30.260Z"
   },
   {
    "duration": 0,
    "start_time": "2022-09-10T16:31:30.314Z"
   },
   {
    "duration": 0,
    "start_time": "2022-09-10T16:31:30.315Z"
   },
   {
    "duration": 0,
    "start_time": "2022-09-10T16:31:30.317Z"
   },
   {
    "duration": 630,
    "start_time": "2022-09-10T16:31:47.077Z"
   },
   {
    "duration": 75,
    "start_time": "2022-09-10T16:31:47.709Z"
   },
   {
    "duration": 31,
    "start_time": "2022-09-10T16:31:47.786Z"
   },
   {
    "duration": 14,
    "start_time": "2022-09-10T16:31:47.820Z"
   },
   {
    "duration": 3,
    "start_time": "2022-09-10T16:31:47.836Z"
   },
   {
    "duration": 28,
    "start_time": "2022-09-10T16:31:47.841Z"
   },
   {
    "duration": 23,
    "start_time": "2022-09-10T16:31:47.871Z"
   },
   {
    "duration": 34,
    "start_time": "2022-09-10T16:31:47.895Z"
   },
   {
    "duration": 9,
    "start_time": "2022-09-10T16:31:47.930Z"
   },
   {
    "duration": 50,
    "start_time": "2022-09-10T16:31:47.942Z"
   },
   {
    "duration": 13,
    "start_time": "2022-09-10T16:31:48.021Z"
   },
   {
    "duration": 13,
    "start_time": "2022-09-10T16:31:48.036Z"
   },
   {
    "duration": 6,
    "start_time": "2022-09-10T16:31:48.051Z"
   },
   {
    "duration": 64,
    "start_time": "2022-09-10T16:31:48.058Z"
   },
   {
    "duration": 410,
    "start_time": "2022-09-10T16:31:48.123Z"
   },
   {
    "duration": 8,
    "start_time": "2022-09-10T16:31:48.535Z"
   },
   {
    "duration": 244,
    "start_time": "2022-09-10T16:31:48.545Z"
   },
   {
    "duration": 10,
    "start_time": "2022-09-10T16:31:48.791Z"
   },
   {
    "duration": 37,
    "start_time": "2022-09-10T16:31:48.803Z"
   },
   {
    "duration": 14,
    "start_time": "2022-09-10T16:31:48.842Z"
   },
   {
    "duration": 22,
    "start_time": "2022-09-10T16:31:48.858Z"
   },
   {
    "duration": 16,
    "start_time": "2022-09-10T16:31:48.882Z"
   },
   {
    "duration": 8,
    "start_time": "2022-09-10T16:31:48.899Z"
   },
   {
    "duration": 21,
    "start_time": "2022-09-10T16:31:48.908Z"
   },
   {
    "duration": 147,
    "start_time": "2022-09-10T16:31:48.931Z"
   },
   {
    "duration": 206,
    "start_time": "2022-09-10T16:31:49.081Z"
   },
   {
    "duration": 117,
    "start_time": "2022-09-10T16:31:49.290Z"
   },
   {
    "duration": 157,
    "start_time": "2022-09-10T16:31:49.411Z"
   },
   {
    "duration": 162,
    "start_time": "2022-09-10T16:31:49.570Z"
   },
   {
    "duration": 7,
    "start_time": "2022-09-10T16:31:49.733Z"
   },
   {
    "duration": 8,
    "start_time": "2022-09-10T16:31:49.741Z"
   },
   {
    "duration": 155,
    "start_time": "2022-09-10T16:31:49.751Z"
   },
   {
    "duration": 163,
    "start_time": "2022-09-10T16:31:49.908Z"
   },
   {
    "duration": 7,
    "start_time": "2022-09-10T16:31:50.073Z"
   },
   {
    "duration": 16,
    "start_time": "2022-09-10T16:31:50.081Z"
   },
   {
    "duration": 157,
    "start_time": "2022-09-10T16:31:50.099Z"
   },
   {
    "duration": 184,
    "start_time": "2022-09-10T16:31:50.258Z"
   },
   {
    "duration": 7,
    "start_time": "2022-09-10T16:31:50.444Z"
   },
   {
    "duration": 10,
    "start_time": "2022-09-10T16:31:50.454Z"
   },
   {
    "duration": 10,
    "start_time": "2022-09-10T16:31:50.467Z"
   },
   {
    "duration": 8,
    "start_time": "2022-09-10T16:31:50.479Z"
   },
   {
    "duration": 33,
    "start_time": "2022-09-10T16:31:50.488Z"
   },
   {
    "duration": 8,
    "start_time": "2022-09-10T16:31:50.523Z"
   },
   {
    "duration": 7,
    "start_time": "2022-09-10T16:31:50.533Z"
   },
   {
    "duration": 8,
    "start_time": "2022-09-10T16:31:50.542Z"
   },
   {
    "duration": 12,
    "start_time": "2022-09-10T16:31:50.551Z"
   },
   {
    "duration": 7,
    "start_time": "2022-09-10T16:31:50.565Z"
   },
   {
    "duration": 11,
    "start_time": "2022-09-10T16:31:50.573Z"
   },
   {
    "duration": 16,
    "start_time": "2022-09-10T16:31:50.620Z"
   },
   {
    "duration": 8,
    "start_time": "2022-09-10T16:31:50.638Z"
   },
   {
    "duration": 9,
    "start_time": "2022-09-10T16:31:50.648Z"
   },
   {
    "duration": 9,
    "start_time": "2022-09-10T16:31:50.659Z"
   },
   {
    "duration": 5,
    "start_time": "2022-09-10T16:31:50.670Z"
   },
   {
    "duration": 192,
    "start_time": "2022-09-10T16:31:50.677Z"
   },
   {
    "duration": 183,
    "start_time": "2022-09-10T16:31:50.871Z"
   },
   {
    "duration": 154,
    "start_time": "2022-09-10T16:31:51.055Z"
   },
   {
    "duration": 233,
    "start_time": "2022-09-10T16:31:51.211Z"
   },
   {
    "duration": 404,
    "start_time": "2022-09-10T16:31:51.446Z"
   },
   {
    "duration": 11,
    "start_time": "2022-09-10T16:31:51.852Z"
   },
   {
    "duration": 55,
    "start_time": "2022-09-10T16:31:51.865Z"
   },
   {
    "duration": 666,
    "start_time": "2022-09-10T16:32:37.803Z"
   },
   {
    "duration": 76,
    "start_time": "2022-09-10T16:32:38.471Z"
   },
   {
    "duration": 30,
    "start_time": "2022-09-10T16:32:38.551Z"
   },
   {
    "duration": 15,
    "start_time": "2022-09-10T16:32:38.583Z"
   },
   {
    "duration": 22,
    "start_time": "2022-09-10T16:32:38.599Z"
   },
   {
    "duration": 20,
    "start_time": "2022-09-10T16:32:38.623Z"
   },
   {
    "duration": 27,
    "start_time": "2022-09-10T16:32:38.645Z"
   },
   {
    "duration": 13,
    "start_time": "2022-09-10T16:32:38.673Z"
   },
   {
    "duration": 38,
    "start_time": "2022-09-10T16:32:38.689Z"
   },
   {
    "duration": 63,
    "start_time": "2022-09-10T16:32:38.729Z"
   },
   {
    "duration": 12,
    "start_time": "2022-09-10T16:32:38.794Z"
   },
   {
    "duration": 23,
    "start_time": "2022-09-10T16:32:38.807Z"
   },
   {
    "duration": 7,
    "start_time": "2022-09-10T16:32:38.832Z"
   },
   {
    "duration": 81,
    "start_time": "2022-09-10T16:32:38.841Z"
   },
   {
    "duration": 466,
    "start_time": "2022-09-10T16:32:38.923Z"
   },
   {
    "duration": 9,
    "start_time": "2022-09-10T16:32:39.391Z"
   },
   {
    "duration": 247,
    "start_time": "2022-09-10T16:32:39.403Z"
   },
   {
    "duration": 9,
    "start_time": "2022-09-10T16:32:39.652Z"
   },
   {
    "duration": 25,
    "start_time": "2022-09-10T16:32:39.663Z"
   },
   {
    "duration": 16,
    "start_time": "2022-09-10T16:32:39.689Z"
   },
   {
    "duration": 18,
    "start_time": "2022-09-10T16:32:39.706Z"
   },
   {
    "duration": 11,
    "start_time": "2022-09-10T16:32:39.726Z"
   },
   {
    "duration": 7,
    "start_time": "2022-09-10T16:32:39.739Z"
   },
   {
    "duration": 19,
    "start_time": "2022-09-10T16:32:39.748Z"
   },
   {
    "duration": 140,
    "start_time": "2022-09-10T16:32:39.769Z"
   },
   {
    "duration": 185,
    "start_time": "2022-09-10T16:32:39.911Z"
   },
   {
    "duration": 123,
    "start_time": "2022-09-10T16:32:40.101Z"
   },
   {
    "duration": 172,
    "start_time": "2022-09-10T16:32:40.225Z"
   },
   {
    "duration": 172,
    "start_time": "2022-09-10T16:32:40.400Z"
   },
   {
    "duration": 8,
    "start_time": "2022-09-10T16:32:40.574Z"
   },
   {
    "duration": 15,
    "start_time": "2022-09-10T16:32:40.584Z"
   },
   {
    "duration": 149,
    "start_time": "2022-09-10T16:32:40.600Z"
   },
   {
    "duration": 159,
    "start_time": "2022-09-10T16:32:40.751Z"
   },
   {
    "duration": 11,
    "start_time": "2022-09-10T16:32:40.913Z"
   },
   {
    "duration": 13,
    "start_time": "2022-09-10T16:32:40.926Z"
   },
   {
    "duration": 162,
    "start_time": "2022-09-10T16:32:40.941Z"
   },
   {
    "duration": 179,
    "start_time": "2022-09-10T16:32:41.105Z"
   },
   {
    "duration": 7,
    "start_time": "2022-09-10T16:32:41.286Z"
   },
   {
    "duration": 27,
    "start_time": "2022-09-10T16:32:41.295Z"
   },
   {
    "duration": 11,
    "start_time": "2022-09-10T16:32:41.324Z"
   },
   {
    "duration": 8,
    "start_time": "2022-09-10T16:32:41.338Z"
   },
   {
    "duration": 12,
    "start_time": "2022-09-10T16:32:41.348Z"
   },
   {
    "duration": 8,
    "start_time": "2022-09-10T16:32:41.362Z"
   },
   {
    "duration": 14,
    "start_time": "2022-09-10T16:32:41.371Z"
   },
   {
    "duration": 40,
    "start_time": "2022-09-10T16:32:41.387Z"
   },
   {
    "duration": 9,
    "start_time": "2022-09-10T16:32:41.429Z"
   },
   {
    "duration": 10,
    "start_time": "2022-09-10T16:32:41.440Z"
   },
   {
    "duration": 9,
    "start_time": "2022-09-10T16:32:41.452Z"
   },
   {
    "duration": 11,
    "start_time": "2022-09-10T16:32:41.463Z"
   },
   {
    "duration": 52,
    "start_time": "2022-09-10T16:32:41.476Z"
   },
   {
    "duration": 11,
    "start_time": "2022-09-10T16:32:41.530Z"
   },
   {
    "duration": 15,
    "start_time": "2022-09-10T16:32:41.543Z"
   },
   {
    "duration": 5,
    "start_time": "2022-09-10T16:32:41.560Z"
   },
   {
    "duration": 203,
    "start_time": "2022-09-10T16:32:41.567Z"
   },
   {
    "duration": 192,
    "start_time": "2022-09-10T16:32:41.772Z"
   },
   {
    "duration": 175,
    "start_time": "2022-09-10T16:32:41.966Z"
   },
   {
    "duration": 253,
    "start_time": "2022-09-10T16:32:42.143Z"
   },
   {
    "duration": 464,
    "start_time": "2022-09-10T16:32:42.398Z"
   },
   {
    "duration": 11,
    "start_time": "2022-09-10T16:32:42.864Z"
   },
   {
    "duration": 674,
    "start_time": "2022-09-10T16:33:36.398Z"
   },
   {
    "duration": 74,
    "start_time": "2022-09-10T16:33:37.074Z"
   },
   {
    "duration": 30,
    "start_time": "2022-09-10T16:33:37.150Z"
   },
   {
    "duration": 15,
    "start_time": "2022-09-10T16:33:37.182Z"
   },
   {
    "duration": 3,
    "start_time": "2022-09-10T16:33:37.199Z"
   },
   {
    "duration": 24,
    "start_time": "2022-09-10T16:33:37.220Z"
   },
   {
    "duration": 27,
    "start_time": "2022-09-10T16:33:37.246Z"
   },
   {
    "duration": 16,
    "start_time": "2022-09-10T16:33:37.274Z"
   },
   {
    "duration": 29,
    "start_time": "2022-09-10T16:33:37.292Z"
   },
   {
    "duration": 48,
    "start_time": "2022-09-10T16:33:37.324Z"
   },
   {
    "duration": 11,
    "start_time": "2022-09-10T16:33:37.374Z"
   },
   {
    "duration": 37,
    "start_time": "2022-09-10T16:33:37.387Z"
   },
   {
    "duration": 5,
    "start_time": "2022-09-10T16:33:37.426Z"
   },
   {
    "duration": 47,
    "start_time": "2022-09-10T16:33:37.432Z"
   },
   {
    "duration": 415,
    "start_time": "2022-09-10T16:33:37.481Z"
   },
   {
    "duration": 9,
    "start_time": "2022-09-10T16:33:37.897Z"
   },
   {
    "duration": 252,
    "start_time": "2022-09-10T16:33:37.907Z"
   },
   {
    "duration": 11,
    "start_time": "2022-09-10T16:33:38.161Z"
   },
   {
    "duration": 60,
    "start_time": "2022-09-10T16:33:38.174Z"
   },
   {
    "duration": 41,
    "start_time": "2022-09-10T16:33:38.236Z"
   },
   {
    "duration": 32,
    "start_time": "2022-09-10T16:33:38.279Z"
   },
   {
    "duration": 38,
    "start_time": "2022-09-10T16:33:38.313Z"
   },
   {
    "duration": 28,
    "start_time": "2022-09-10T16:33:38.353Z"
   },
   {
    "duration": 42,
    "start_time": "2022-09-10T16:33:38.383Z"
   },
   {
    "duration": 143,
    "start_time": "2022-09-10T16:33:38.427Z"
   },
   {
    "duration": 168,
    "start_time": "2022-09-10T16:33:38.572Z"
   },
   {
    "duration": 127,
    "start_time": "2022-09-10T16:33:38.742Z"
   },
   {
    "duration": 226,
    "start_time": "2022-09-10T16:33:38.873Z"
   },
   {
    "duration": 175,
    "start_time": "2022-09-10T16:33:39.102Z"
   },
   {
    "duration": 7,
    "start_time": "2022-09-10T16:33:39.279Z"
   },
   {
    "duration": 18,
    "start_time": "2022-09-10T16:33:39.288Z"
   },
   {
    "duration": 155,
    "start_time": "2022-09-10T16:33:39.308Z"
   },
   {
    "duration": 150,
    "start_time": "2022-09-10T16:33:39.465Z"
   },
   {
    "duration": 9,
    "start_time": "2022-09-10T16:33:39.617Z"
   },
   {
    "duration": 20,
    "start_time": "2022-09-10T16:33:39.627Z"
   },
   {
    "duration": 188,
    "start_time": "2022-09-10T16:33:39.648Z"
   },
   {
    "duration": 184,
    "start_time": "2022-09-10T16:33:39.839Z"
   },
   {
    "duration": 8,
    "start_time": "2022-09-10T16:33:40.024Z"
   },
   {
    "duration": 39,
    "start_time": "2022-09-10T16:33:40.034Z"
   },
   {
    "duration": 26,
    "start_time": "2022-09-10T16:33:40.075Z"
   },
   {
    "duration": 27,
    "start_time": "2022-09-10T16:33:40.103Z"
   },
   {
    "duration": 15,
    "start_time": "2022-09-10T16:33:40.131Z"
   },
   {
    "duration": 31,
    "start_time": "2022-09-10T16:33:40.148Z"
   },
   {
    "duration": 26,
    "start_time": "2022-09-10T16:33:40.181Z"
   },
   {
    "duration": 28,
    "start_time": "2022-09-10T16:33:40.209Z"
   },
   {
    "duration": 41,
    "start_time": "2022-09-10T16:33:40.239Z"
   },
   {
    "duration": 30,
    "start_time": "2022-09-10T16:33:40.282Z"
   },
   {
    "duration": 28,
    "start_time": "2022-09-10T16:33:40.314Z"
   },
   {
    "duration": 20,
    "start_time": "2022-09-10T16:33:40.344Z"
   },
   {
    "duration": 33,
    "start_time": "2022-09-10T16:33:40.366Z"
   },
   {
    "duration": 32,
    "start_time": "2022-09-10T16:33:40.401Z"
   },
   {
    "duration": 37,
    "start_time": "2022-09-10T16:33:40.434Z"
   },
   {
    "duration": 10,
    "start_time": "2022-09-10T16:33:40.473Z"
   },
   {
    "duration": 200,
    "start_time": "2022-09-10T16:33:40.484Z"
   },
   {
    "duration": 176,
    "start_time": "2022-09-10T16:33:40.686Z"
   },
   {
    "duration": 158,
    "start_time": "2022-09-10T16:33:40.864Z"
   },
   {
    "duration": 231,
    "start_time": "2022-09-10T16:33:41.024Z"
   },
   {
    "duration": 426,
    "start_time": "2022-09-10T16:33:41.256Z"
   },
   {
    "duration": 11,
    "start_time": "2022-09-10T16:33:41.684Z"
   },
   {
    "duration": 840,
    "start_time": "2022-09-11T07:25:44.936Z"
   },
   {
    "duration": 125,
    "start_time": "2022-09-11T07:25:45.778Z"
   },
   {
    "duration": 40,
    "start_time": "2022-09-11T07:25:45.905Z"
   },
   {
    "duration": 21,
    "start_time": "2022-09-11T07:25:45.949Z"
   },
   {
    "duration": 4,
    "start_time": "2022-09-11T07:25:45.972Z"
   },
   {
    "duration": 36,
    "start_time": "2022-09-11T07:25:45.978Z"
   },
   {
    "duration": 45,
    "start_time": "2022-09-11T07:25:46.016Z"
   },
   {
    "duration": 13,
    "start_time": "2022-09-11T07:25:46.062Z"
   },
   {
    "duration": 9,
    "start_time": "2022-09-11T07:25:46.077Z"
   },
   {
    "duration": 79,
    "start_time": "2022-09-11T07:25:46.087Z"
   },
   {
    "duration": 19,
    "start_time": "2022-09-11T07:25:46.169Z"
   },
   {
    "duration": 26,
    "start_time": "2022-09-11T07:25:46.191Z"
   },
   {
    "duration": 20,
    "start_time": "2022-09-11T07:25:46.219Z"
   },
   {
    "duration": 89,
    "start_time": "2022-09-11T07:25:46.248Z"
   },
   {
    "duration": 430,
    "start_time": "2022-09-11T07:25:46.339Z"
   },
   {
    "duration": 8,
    "start_time": "2022-09-11T07:25:46.771Z"
   },
   {
    "duration": 258,
    "start_time": "2022-09-11T07:25:46.781Z"
   },
   {
    "duration": 20,
    "start_time": "2022-09-11T07:25:47.042Z"
   },
   {
    "duration": 25,
    "start_time": "2022-09-11T07:25:47.064Z"
   },
   {
    "duration": 8,
    "start_time": "2022-09-11T07:25:47.091Z"
   },
   {
    "duration": 9,
    "start_time": "2022-09-11T07:25:47.101Z"
   },
   {
    "duration": 42,
    "start_time": "2022-09-11T07:25:47.112Z"
   },
   {
    "duration": 7,
    "start_time": "2022-09-11T07:25:47.156Z"
   },
   {
    "duration": 16,
    "start_time": "2022-09-11T07:25:47.165Z"
   },
   {
    "duration": 128,
    "start_time": "2022-09-11T07:25:47.183Z"
   },
   {
    "duration": 194,
    "start_time": "2022-09-11T07:25:47.313Z"
   },
   {
    "duration": 118,
    "start_time": "2022-09-11T07:25:47.514Z"
   },
   {
    "duration": 145,
    "start_time": "2022-09-11T07:25:47.634Z"
   },
   {
    "duration": 160,
    "start_time": "2022-09-11T07:25:47.781Z"
   },
   {
    "duration": 10,
    "start_time": "2022-09-11T07:25:47.943Z"
   },
   {
    "duration": 15,
    "start_time": "2022-09-11T07:25:47.955Z"
   },
   {
    "duration": 156,
    "start_time": "2022-09-11T07:25:47.974Z"
   },
   {
    "duration": 166,
    "start_time": "2022-09-11T07:25:48.132Z"
   },
   {
    "duration": 7,
    "start_time": "2022-09-11T07:25:48.300Z"
   },
   {
    "duration": 9,
    "start_time": "2022-09-11T07:25:48.308Z"
   },
   {
    "duration": 156,
    "start_time": "2022-09-11T07:25:48.319Z"
   },
   {
    "duration": 158,
    "start_time": "2022-09-11T07:25:48.477Z"
   },
   {
    "duration": 13,
    "start_time": "2022-09-11T07:25:48.636Z"
   },
   {
    "duration": 18,
    "start_time": "2022-09-11T07:25:48.651Z"
   },
   {
    "duration": 9,
    "start_time": "2022-09-11T07:25:48.671Z"
   },
   {
    "duration": 8,
    "start_time": "2022-09-11T07:25:48.682Z"
   },
   {
    "duration": 10,
    "start_time": "2022-09-11T07:25:48.691Z"
   },
   {
    "duration": 9,
    "start_time": "2022-09-11T07:25:48.703Z"
   },
   {
    "duration": 34,
    "start_time": "2022-09-11T07:25:48.714Z"
   },
   {
    "duration": 9,
    "start_time": "2022-09-11T07:25:48.749Z"
   },
   {
    "duration": 9,
    "start_time": "2022-09-11T07:25:48.760Z"
   },
   {
    "duration": 10,
    "start_time": "2022-09-11T07:25:48.770Z"
   },
   {
    "duration": 10,
    "start_time": "2022-09-11T07:25:48.781Z"
   },
   {
    "duration": 10,
    "start_time": "2022-09-11T07:25:48.793Z"
   },
   {
    "duration": 48,
    "start_time": "2022-09-11T07:25:48.805Z"
   },
   {
    "duration": 8,
    "start_time": "2022-09-11T07:25:48.854Z"
   },
   {
    "duration": 10,
    "start_time": "2022-09-11T07:25:48.863Z"
   },
   {
    "duration": 6,
    "start_time": "2022-09-11T07:25:48.875Z"
   },
   {
    "duration": 248,
    "start_time": "2022-09-11T07:25:48.883Z"
   },
   {
    "duration": 165,
    "start_time": "2022-09-11T07:25:49.133Z"
   },
   {
    "duration": 160,
    "start_time": "2022-09-11T07:25:49.300Z"
   },
   {
    "duration": 233,
    "start_time": "2022-09-11T07:25:49.462Z"
   },
   {
    "duration": 456,
    "start_time": "2022-09-11T07:25:49.697Z"
   },
   {
    "duration": 10,
    "start_time": "2022-09-11T07:25:50.155Z"
   },
   {
    "duration": 59,
    "start_time": "2022-09-11T07:27:46.328Z"
   },
   {
    "duration": 60,
    "start_time": "2022-09-11T07:30:10.743Z"
   },
   {
    "duration": 9,
    "start_time": "2022-09-11T07:35:40.984Z"
   },
   {
    "duration": 11,
    "start_time": "2022-09-11T07:36:22.586Z"
   },
   {
    "duration": 643,
    "start_time": "2022-09-11T07:37:27.816Z"
   },
   {
    "duration": 68,
    "start_time": "2022-09-11T07:37:28.461Z"
   },
   {
    "duration": 26,
    "start_time": "2022-09-11T07:37:28.531Z"
   },
   {
    "duration": 13,
    "start_time": "2022-09-11T07:37:28.559Z"
   },
   {
    "duration": 3,
    "start_time": "2022-09-11T07:37:28.573Z"
   },
   {
    "duration": 20,
    "start_time": "2022-09-11T07:37:28.577Z"
   },
   {
    "duration": 21,
    "start_time": "2022-09-11T07:37:28.599Z"
   },
   {
    "duration": 29,
    "start_time": "2022-09-11T07:37:28.622Z"
   },
   {
    "duration": 8,
    "start_time": "2022-09-11T07:37:28.653Z"
   },
   {
    "duration": 42,
    "start_time": "2022-09-11T07:37:28.663Z"
   },
   {
    "duration": 12,
    "start_time": "2022-09-11T07:37:28.707Z"
   },
   {
    "duration": 35,
    "start_time": "2022-09-11T07:37:28.720Z"
   },
   {
    "duration": 5,
    "start_time": "2022-09-11T07:37:28.757Z"
   },
   {
    "duration": 39,
    "start_time": "2022-09-11T07:37:28.763Z"
   },
   {
    "duration": 11,
    "start_time": "2022-09-11T07:37:28.804Z"
   },
   {
    "duration": 54,
    "start_time": "2022-09-11T07:37:28.816Z"
   },
   {
    "duration": 0,
    "start_time": "2022-09-11T07:37:28.872Z"
   },
   {
    "duration": 0,
    "start_time": "2022-09-11T07:37:28.874Z"
   },
   {
    "duration": 0,
    "start_time": "2022-09-11T07:37:28.875Z"
   },
   {
    "duration": 0,
    "start_time": "2022-09-11T07:37:28.876Z"
   },
   {
    "duration": 0,
    "start_time": "2022-09-11T07:37:28.877Z"
   },
   {
    "duration": 0,
    "start_time": "2022-09-11T07:37:28.878Z"
   },
   {
    "duration": 0,
    "start_time": "2022-09-11T07:37:28.879Z"
   },
   {
    "duration": 0,
    "start_time": "2022-09-11T07:37:28.880Z"
   },
   {
    "duration": 0,
    "start_time": "2022-09-11T07:37:28.881Z"
   },
   {
    "duration": 0,
    "start_time": "2022-09-11T07:37:28.882Z"
   },
   {
    "duration": 0,
    "start_time": "2022-09-11T07:37:28.883Z"
   },
   {
    "duration": 0,
    "start_time": "2022-09-11T07:37:28.884Z"
   },
   {
    "duration": 0,
    "start_time": "2022-09-11T07:37:28.885Z"
   },
   {
    "duration": 0,
    "start_time": "2022-09-11T07:37:28.886Z"
   },
   {
    "duration": 0,
    "start_time": "2022-09-11T07:37:28.887Z"
   },
   {
    "duration": 0,
    "start_time": "2022-09-11T07:37:28.888Z"
   },
   {
    "duration": 0,
    "start_time": "2022-09-11T07:37:28.889Z"
   },
   {
    "duration": 0,
    "start_time": "2022-09-11T07:37:28.890Z"
   },
   {
    "duration": 0,
    "start_time": "2022-09-11T07:37:28.892Z"
   },
   {
    "duration": 0,
    "start_time": "2022-09-11T07:37:28.893Z"
   },
   {
    "duration": 0,
    "start_time": "2022-09-11T07:37:28.894Z"
   },
   {
    "duration": 0,
    "start_time": "2022-09-11T07:37:28.896Z"
   },
   {
    "duration": 0,
    "start_time": "2022-09-11T07:37:28.897Z"
   },
   {
    "duration": 0,
    "start_time": "2022-09-11T07:37:28.898Z"
   },
   {
    "duration": 0,
    "start_time": "2022-09-11T07:37:28.900Z"
   },
   {
    "duration": 0,
    "start_time": "2022-09-11T07:37:28.901Z"
   },
   {
    "duration": 0,
    "start_time": "2022-09-11T07:37:28.902Z"
   },
   {
    "duration": 0,
    "start_time": "2022-09-11T07:37:28.905Z"
   },
   {
    "duration": 0,
    "start_time": "2022-09-11T07:37:28.907Z"
   },
   {
    "duration": 0,
    "start_time": "2022-09-11T07:37:28.908Z"
   },
   {
    "duration": 0,
    "start_time": "2022-09-11T07:37:28.908Z"
   },
   {
    "duration": 0,
    "start_time": "2022-09-11T07:37:28.947Z"
   },
   {
    "duration": 0,
    "start_time": "2022-09-11T07:37:28.948Z"
   },
   {
    "duration": 0,
    "start_time": "2022-09-11T07:37:28.949Z"
   },
   {
    "duration": 0,
    "start_time": "2022-09-11T07:37:28.949Z"
   },
   {
    "duration": 0,
    "start_time": "2022-09-11T07:37:28.950Z"
   },
   {
    "duration": 0,
    "start_time": "2022-09-11T07:37:28.951Z"
   },
   {
    "duration": 0,
    "start_time": "2022-09-11T07:37:28.952Z"
   },
   {
    "duration": 0,
    "start_time": "2022-09-11T07:37:28.953Z"
   },
   {
    "duration": 0,
    "start_time": "2022-09-11T07:37:28.954Z"
   },
   {
    "duration": 0,
    "start_time": "2022-09-11T07:37:28.955Z"
   },
   {
    "duration": 0,
    "start_time": "2022-09-11T07:37:28.956Z"
   },
   {
    "duration": 0,
    "start_time": "2022-09-11T07:37:28.957Z"
   },
   {
    "duration": 0,
    "start_time": "2022-09-11T07:37:28.958Z"
   },
   {
    "duration": 0,
    "start_time": "2022-09-11T07:37:28.959Z"
   },
   {
    "duration": 603,
    "start_time": "2022-09-11T07:40:57.078Z"
   },
   {
    "duration": 71,
    "start_time": "2022-09-11T07:40:57.682Z"
   },
   {
    "duration": 29,
    "start_time": "2022-09-11T07:40:57.755Z"
   },
   {
    "duration": 15,
    "start_time": "2022-09-11T07:40:57.787Z"
   },
   {
    "duration": 3,
    "start_time": "2022-09-11T07:40:57.803Z"
   },
   {
    "duration": 49,
    "start_time": "2022-09-11T07:40:57.807Z"
   },
   {
    "duration": 36,
    "start_time": "2022-09-11T07:40:57.858Z"
   },
   {
    "duration": 15,
    "start_time": "2022-09-11T07:40:57.897Z"
   },
   {
    "duration": 9,
    "start_time": "2022-09-11T07:40:57.913Z"
   },
   {
    "duration": 66,
    "start_time": "2022-09-11T07:40:57.925Z"
   },
   {
    "duration": 21,
    "start_time": "2022-09-11T07:40:57.992Z"
   },
   {
    "duration": 34,
    "start_time": "2022-09-11T07:40:58.015Z"
   },
   {
    "duration": 7,
    "start_time": "2022-09-11T07:40:58.051Z"
   },
   {
    "duration": 43,
    "start_time": "2022-09-11T07:40:58.060Z"
   },
   {
    "duration": 12,
    "start_time": "2022-09-11T07:40:58.105Z"
   },
   {
    "duration": 374,
    "start_time": "2022-09-11T07:40:58.119Z"
   },
   {
    "duration": 8,
    "start_time": "2022-09-11T07:40:58.494Z"
   },
   {
    "duration": 222,
    "start_time": "2022-09-11T07:40:58.503Z"
   },
   {
    "duration": 10,
    "start_time": "2022-09-11T07:40:58.726Z"
   },
   {
    "duration": 29,
    "start_time": "2022-09-11T07:40:58.737Z"
   },
   {
    "duration": 9,
    "start_time": "2022-09-11T07:40:58.768Z"
   },
   {
    "duration": 8,
    "start_time": "2022-09-11T07:40:58.778Z"
   },
   {
    "duration": 9,
    "start_time": "2022-09-11T07:40:58.788Z"
   },
   {
    "duration": 6,
    "start_time": "2022-09-11T07:40:58.799Z"
   },
   {
    "duration": 41,
    "start_time": "2022-09-11T07:40:58.807Z"
   },
   {
    "duration": 127,
    "start_time": "2022-09-11T07:40:58.849Z"
   },
   {
    "duration": 159,
    "start_time": "2022-09-11T07:40:58.978Z"
   },
   {
    "duration": 110,
    "start_time": "2022-09-11T07:40:59.146Z"
   },
   {
    "duration": 157,
    "start_time": "2022-09-11T07:40:59.257Z"
   },
   {
    "duration": 147,
    "start_time": "2022-09-11T07:40:59.415Z"
   },
   {
    "duration": 7,
    "start_time": "2022-09-11T07:40:59.564Z"
   },
   {
    "duration": 14,
    "start_time": "2022-09-11T07:40:59.573Z"
   },
   {
    "duration": 148,
    "start_time": "2022-09-11T07:40:59.589Z"
   },
   {
    "duration": 143,
    "start_time": "2022-09-11T07:40:59.739Z"
   },
   {
    "duration": 7,
    "start_time": "2022-09-11T07:40:59.884Z"
   },
   {
    "duration": 11,
    "start_time": "2022-09-11T07:40:59.892Z"
   },
   {
    "duration": 163,
    "start_time": "2022-09-11T07:40:59.904Z"
   },
   {
    "duration": 162,
    "start_time": "2022-09-11T07:41:00.069Z"
   },
   {
    "duration": 15,
    "start_time": "2022-09-11T07:41:00.232Z"
   },
   {
    "duration": 21,
    "start_time": "2022-09-11T07:41:00.249Z"
   },
   {
    "duration": 35,
    "start_time": "2022-09-11T07:41:00.272Z"
   },
   {
    "duration": 21,
    "start_time": "2022-09-11T07:41:00.309Z"
   },
   {
    "duration": 12,
    "start_time": "2022-09-11T07:41:00.331Z"
   },
   {
    "duration": 10,
    "start_time": "2022-09-11T07:41:00.344Z"
   },
   {
    "duration": 9,
    "start_time": "2022-09-11T07:41:00.355Z"
   },
   {
    "duration": 9,
    "start_time": "2022-09-11T07:41:00.366Z"
   },
   {
    "duration": 19,
    "start_time": "2022-09-11T07:41:00.377Z"
   },
   {
    "duration": 21,
    "start_time": "2022-09-11T07:41:00.397Z"
   },
   {
    "duration": 20,
    "start_time": "2022-09-11T07:41:00.420Z"
   },
   {
    "duration": 21,
    "start_time": "2022-09-11T07:41:00.441Z"
   },
   {
    "duration": 13,
    "start_time": "2022-09-11T07:41:00.464Z"
   },
   {
    "duration": 15,
    "start_time": "2022-09-11T07:41:00.479Z"
   },
   {
    "duration": 9,
    "start_time": "2022-09-11T07:41:00.495Z"
   },
   {
    "duration": 5,
    "start_time": "2022-09-11T07:41:00.505Z"
   },
   {
    "duration": 168,
    "start_time": "2022-09-11T07:41:00.511Z"
   },
   {
    "duration": 168,
    "start_time": "2022-09-11T07:41:00.681Z"
   },
   {
    "duration": 140,
    "start_time": "2022-09-11T07:41:00.850Z"
   },
   {
    "duration": 212,
    "start_time": "2022-09-11T07:41:00.991Z"
   },
   {
    "duration": 442,
    "start_time": "2022-09-11T07:41:01.204Z"
   },
   {
    "duration": 13,
    "start_time": "2022-09-11T07:41:01.648Z"
   },
   {
    "duration": 9,
    "start_time": "2022-09-11T07:45:28.520Z"
   },
   {
    "duration": 597,
    "start_time": "2022-09-11T07:47:14.673Z"
   },
   {
    "duration": 77,
    "start_time": "2022-09-11T07:47:15.272Z"
   },
   {
    "duration": 31,
    "start_time": "2022-09-11T07:47:15.351Z"
   },
   {
    "duration": 17,
    "start_time": "2022-09-11T07:47:15.385Z"
   },
   {
    "duration": 5,
    "start_time": "2022-09-11T07:47:15.404Z"
   },
   {
    "duration": 46,
    "start_time": "2022-09-11T07:47:15.410Z"
   },
   {
    "duration": 27,
    "start_time": "2022-09-11T07:47:15.458Z"
   },
   {
    "duration": 13,
    "start_time": "2022-09-11T07:47:15.486Z"
   },
   {
    "duration": 9,
    "start_time": "2022-09-11T07:47:15.500Z"
   },
   {
    "duration": 72,
    "start_time": "2022-09-11T07:47:15.511Z"
   },
   {
    "duration": 12,
    "start_time": "2022-09-11T07:47:15.585Z"
   },
   {
    "duration": 18,
    "start_time": "2022-09-11T07:47:15.599Z"
   },
   {
    "duration": 9,
    "start_time": "2022-09-11T07:47:15.618Z"
   },
   {
    "duration": 39,
    "start_time": "2022-09-11T07:47:15.646Z"
   },
   {
    "duration": 11,
    "start_time": "2022-09-11T07:47:15.687Z"
   },
   {
    "duration": 409,
    "start_time": "2022-09-11T07:47:15.700Z"
   },
   {
    "duration": 10,
    "start_time": "2022-09-11T07:47:16.111Z"
   },
   {
    "duration": 323,
    "start_time": "2022-09-11T07:47:16.124Z"
   },
   {
    "duration": 13,
    "start_time": "2022-09-11T07:47:16.449Z"
   },
   {
    "duration": 63,
    "start_time": "2022-09-11T07:47:16.465Z"
   },
   {
    "duration": 116,
    "start_time": "2022-09-11T07:47:16.530Z"
   },
   {
    "duration": 10,
    "start_time": "2022-09-11T07:47:16.649Z"
   },
   {
    "duration": 15,
    "start_time": "2022-09-11T07:47:16.661Z"
   },
   {
    "duration": 15,
    "start_time": "2022-09-11T07:47:16.678Z"
   },
   {
    "duration": 12,
    "start_time": "2022-09-11T07:47:16.695Z"
   },
   {
    "duration": 28,
    "start_time": "2022-09-11T07:47:16.709Z"
   },
   {
    "duration": 123,
    "start_time": "2022-09-11T07:47:16.739Z"
   },
   {
    "duration": 160,
    "start_time": "2022-09-11T07:47:16.866Z"
   },
   {
    "duration": 129,
    "start_time": "2022-09-11T07:47:17.028Z"
   },
   {
    "duration": 162,
    "start_time": "2022-09-11T07:47:17.159Z"
   },
   {
    "duration": 185,
    "start_time": "2022-09-11T07:47:17.323Z"
   },
   {
    "duration": 8,
    "start_time": "2022-09-11T07:47:17.510Z"
   },
   {
    "duration": 33,
    "start_time": "2022-09-11T07:47:17.520Z"
   },
   {
    "duration": 143,
    "start_time": "2022-09-11T07:47:17.555Z"
   },
   {
    "duration": 171,
    "start_time": "2022-09-11T07:47:17.699Z"
   },
   {
    "duration": 8,
    "start_time": "2022-09-11T07:47:17.872Z"
   },
   {
    "duration": 17,
    "start_time": "2022-09-11T07:47:17.881Z"
   },
   {
    "duration": 173,
    "start_time": "2022-09-11T07:47:17.900Z"
   },
   {
    "duration": 177,
    "start_time": "2022-09-11T07:47:18.076Z"
   },
   {
    "duration": 7,
    "start_time": "2022-09-11T07:47:18.255Z"
   },
   {
    "duration": 20,
    "start_time": "2022-09-11T07:47:18.264Z"
   },
   {
    "duration": 15,
    "start_time": "2022-09-11T07:47:18.286Z"
   },
   {
    "duration": 10,
    "start_time": "2022-09-11T07:47:18.303Z"
   },
   {
    "duration": 9,
    "start_time": "2022-09-11T07:47:18.315Z"
   },
   {
    "duration": 31,
    "start_time": "2022-09-11T07:47:18.326Z"
   },
   {
    "duration": 25,
    "start_time": "2022-09-11T07:47:18.361Z"
   },
   {
    "duration": 10,
    "start_time": "2022-09-11T07:47:18.388Z"
   },
   {
    "duration": 13,
    "start_time": "2022-09-11T07:47:18.400Z"
   },
   {
    "duration": 12,
    "start_time": "2022-09-11T07:47:18.415Z"
   },
   {
    "duration": 10,
    "start_time": "2022-09-11T07:47:18.449Z"
   },
   {
    "duration": 15,
    "start_time": "2022-09-11T07:47:18.461Z"
   },
   {
    "duration": 11,
    "start_time": "2022-09-11T07:47:18.478Z"
   },
   {
    "duration": 8,
    "start_time": "2022-09-11T07:47:18.491Z"
   },
   {
    "duration": 13,
    "start_time": "2022-09-11T07:47:18.501Z"
   },
   {
    "duration": 6,
    "start_time": "2022-09-11T07:47:18.516Z"
   },
   {
    "duration": 233,
    "start_time": "2022-09-11T07:47:18.524Z"
   },
   {
    "duration": 187,
    "start_time": "2022-09-11T07:47:18.759Z"
   },
   {
    "duration": 152,
    "start_time": "2022-09-11T07:47:18.948Z"
   },
   {
    "duration": 220,
    "start_time": "2022-09-11T07:47:19.102Z"
   },
   {
    "duration": 423,
    "start_time": "2022-09-11T07:47:19.324Z"
   },
   {
    "duration": 10,
    "start_time": "2022-09-11T07:47:19.748Z"
   },
   {
    "duration": 49,
    "start_time": "2022-09-12T12:07:49.603Z"
   },
   {
    "duration": 812,
    "start_time": "2022-09-12T12:07:59.669Z"
   },
   {
    "duration": 142,
    "start_time": "2022-09-12T12:08:00.483Z"
   },
   {
    "duration": 28,
    "start_time": "2022-09-12T12:08:00.626Z"
   },
   {
    "duration": 13,
    "start_time": "2022-09-12T12:08:00.656Z"
   },
   {
    "duration": 20,
    "start_time": "2022-09-12T12:08:00.677Z"
   },
   {
    "duration": 42,
    "start_time": "2022-09-12T12:08:00.698Z"
   },
   {
    "duration": 33,
    "start_time": "2022-09-12T12:08:00.741Z"
   },
   {
    "duration": 25,
    "start_time": "2022-09-12T12:08:00.775Z"
   },
   {
    "duration": 25,
    "start_time": "2022-09-12T12:08:00.802Z"
   },
   {
    "duration": 620,
    "start_time": "2022-09-12T12:08:37.393Z"
   },
   {
    "duration": 72,
    "start_time": "2022-09-12T12:08:38.015Z"
   },
   {
    "duration": 30,
    "start_time": "2022-09-12T12:08:38.088Z"
   },
   {
    "duration": 12,
    "start_time": "2022-09-12T12:08:38.120Z"
   },
   {
    "duration": 2,
    "start_time": "2022-09-12T12:08:38.134Z"
   },
   {
    "duration": 41,
    "start_time": "2022-09-12T12:08:38.138Z"
   },
   {
    "duration": 30,
    "start_time": "2022-09-12T12:08:38.181Z"
   },
   {
    "duration": 12,
    "start_time": "2022-09-12T12:08:38.212Z"
   },
   {
    "duration": 13,
    "start_time": "2022-09-12T12:08:38.227Z"
   },
   {
    "duration": 90,
    "start_time": "2022-09-12T12:08:38.244Z"
   },
   {
    "duration": 18,
    "start_time": "2022-09-12T12:08:38.336Z"
   },
   {
    "duration": 29,
    "start_time": "2022-09-12T12:08:38.356Z"
   },
   {
    "duration": 6,
    "start_time": "2022-09-12T12:08:38.388Z"
   },
   {
    "duration": 47,
    "start_time": "2022-09-12T12:08:38.395Z"
   },
   {
    "duration": 37,
    "start_time": "2022-09-12T12:08:38.443Z"
   },
   {
    "duration": 379,
    "start_time": "2022-09-12T12:08:38.482Z"
   },
   {
    "duration": 18,
    "start_time": "2022-09-12T12:08:38.862Z"
   },
   {
    "duration": 225,
    "start_time": "2022-09-12T12:08:38.882Z"
   },
   {
    "duration": 10,
    "start_time": "2022-09-12T12:08:39.109Z"
   },
   {
    "duration": 23,
    "start_time": "2022-09-12T12:08:39.121Z"
   },
   {
    "duration": 58,
    "start_time": "2022-09-12T12:08:39.146Z"
   },
   {
    "duration": 8,
    "start_time": "2022-09-12T12:08:39.206Z"
   },
   {
    "duration": 18,
    "start_time": "2022-09-12T12:08:39.215Z"
   },
   {
    "duration": 8,
    "start_time": "2022-09-12T12:08:39.235Z"
   },
   {
    "duration": 6,
    "start_time": "2022-09-12T12:08:39.244Z"
   },
   {
    "duration": 35,
    "start_time": "2022-09-12T12:08:39.252Z"
   },
   {
    "duration": 119,
    "start_time": "2022-09-12T12:08:39.289Z"
   },
   {
    "duration": 166,
    "start_time": "2022-09-12T12:08:39.412Z"
   },
   {
    "duration": 109,
    "start_time": "2022-09-12T12:08:39.580Z"
   },
   {
    "duration": 163,
    "start_time": "2022-09-12T12:08:39.691Z"
   },
   {
    "duration": 149,
    "start_time": "2022-09-12T12:08:39.856Z"
   },
   {
    "duration": 7,
    "start_time": "2022-09-12T12:08:40.007Z"
   },
   {
    "duration": 14,
    "start_time": "2022-09-12T12:08:40.016Z"
   },
   {
    "duration": 135,
    "start_time": "2022-09-12T12:08:40.032Z"
   },
   {
    "duration": 148,
    "start_time": "2022-09-12T12:08:40.169Z"
   },
   {
    "duration": 9,
    "start_time": "2022-09-12T12:08:40.319Z"
   },
   {
    "duration": 9,
    "start_time": "2022-09-12T12:08:40.330Z"
   },
   {
    "duration": 178,
    "start_time": "2022-09-12T12:08:40.341Z"
   },
   {
    "duration": 163,
    "start_time": "2022-09-12T12:08:40.521Z"
   },
   {
    "duration": 6,
    "start_time": "2022-09-12T12:08:40.686Z"
   },
   {
    "duration": 16,
    "start_time": "2022-09-12T12:08:40.693Z"
   },
   {
    "duration": 11,
    "start_time": "2022-09-12T12:08:40.711Z"
   },
   {
    "duration": 10,
    "start_time": "2022-09-12T12:08:40.724Z"
   },
   {
    "duration": 10,
    "start_time": "2022-09-12T12:08:40.736Z"
   },
   {
    "duration": 34,
    "start_time": "2022-09-12T12:08:40.748Z"
   },
   {
    "duration": 20,
    "start_time": "2022-09-12T12:08:40.784Z"
   },
   {
    "duration": 16,
    "start_time": "2022-09-12T12:08:40.806Z"
   },
   {
    "duration": 6,
    "start_time": "2022-09-12T12:08:40.824Z"
   },
   {
    "duration": 13,
    "start_time": "2022-09-12T12:08:40.833Z"
   },
   {
    "duration": 10,
    "start_time": "2022-09-12T12:08:40.847Z"
   },
   {
    "duration": 24,
    "start_time": "2022-09-12T12:08:40.859Z"
   },
   {
    "duration": 11,
    "start_time": "2022-09-12T12:08:40.885Z"
   },
   {
    "duration": 8,
    "start_time": "2022-09-12T12:08:40.898Z"
   },
   {
    "duration": 7,
    "start_time": "2022-09-12T12:08:40.907Z"
   },
   {
    "duration": 12,
    "start_time": "2022-09-12T12:08:40.916Z"
   },
   {
    "duration": 178,
    "start_time": "2022-09-12T12:08:40.929Z"
   },
   {
    "duration": 158,
    "start_time": "2022-09-12T12:08:41.109Z"
   },
   {
    "duration": 152,
    "start_time": "2022-09-12T12:08:41.269Z"
   },
   {
    "duration": 261,
    "start_time": "2022-09-12T12:08:41.424Z"
   },
   {
    "duration": 385,
    "start_time": "2022-09-12T12:08:41.687Z"
   },
   {
    "duration": 18,
    "start_time": "2022-09-12T12:08:42.073Z"
   },
   {
    "duration": 5,
    "start_time": "2022-09-12T12:14:25.754Z"
   },
   {
    "duration": 56,
    "start_time": "2022-09-12T12:18:45.819Z"
   },
   {
    "duration": 87,
    "start_time": "2022-09-12T12:19:04.168Z"
   },
   {
    "duration": 9,
    "start_time": "2022-09-12T12:20:53.915Z"
   },
   {
    "duration": 9,
    "start_time": "2022-09-12T12:22:14.540Z"
   },
   {
    "duration": 18,
    "start_time": "2022-09-12T12:23:24.532Z"
   },
   {
    "duration": 8,
    "start_time": "2022-09-12T12:29:46.425Z"
   },
   {
    "duration": 15,
    "start_time": "2022-09-12T12:33:08.738Z"
   },
   {
    "duration": 9,
    "start_time": "2022-09-12T12:33:26.319Z"
   },
   {
    "duration": 9,
    "start_time": "2022-09-12T12:38:28.481Z"
   },
   {
    "duration": 9,
    "start_time": "2022-09-12T12:38:37.929Z"
   },
   {
    "duration": 22,
    "start_time": "2022-09-12T12:41:03.741Z"
   },
   {
    "duration": 8,
    "start_time": "2022-09-12T12:46:17.619Z"
   },
   {
    "duration": 9,
    "start_time": "2022-09-12T12:51:27.000Z"
   },
   {
    "duration": 8,
    "start_time": "2022-09-12T12:52:08.209Z"
   },
   {
    "duration": 12,
    "start_time": "2022-09-12T12:52:34.553Z"
   },
   {
    "duration": 9,
    "start_time": "2022-09-12T12:53:02.517Z"
   },
   {
    "duration": 30,
    "start_time": "2022-09-12T12:53:11.738Z"
   },
   {
    "duration": 167,
    "start_time": "2022-09-12T12:55:47.835Z"
   },
   {
    "duration": 97,
    "start_time": "2022-09-12T13:05:24.333Z"
   },
   {
    "duration": 75,
    "start_time": "2022-09-12T13:06:03.485Z"
   },
   {
    "duration": 24,
    "start_time": "2022-09-12T13:13:48.415Z"
   },
   {
    "duration": 14,
    "start_time": "2022-09-12T13:15:05.629Z"
   },
   {
    "duration": 9,
    "start_time": "2022-09-12T13:15:50.335Z"
   },
   {
    "duration": 11,
    "start_time": "2022-09-12T13:16:05.701Z"
   },
   {
    "duration": 4,
    "start_time": "2022-09-12T13:17:15.845Z"
   },
   {
    "duration": 5,
    "start_time": "2022-09-12T13:21:42.822Z"
   },
   {
    "duration": 6,
    "start_time": "2022-09-12T13:22:57.478Z"
   },
   {
    "duration": 3,
    "start_time": "2022-09-12T13:23:12.940Z"
   },
   {
    "duration": 79,
    "start_time": "2022-09-12T13:23:12.945Z"
   },
   {
    "duration": 26,
    "start_time": "2022-09-12T13:23:13.026Z"
   },
   {
    "duration": 11,
    "start_time": "2022-09-12T13:23:13.054Z"
   },
   {
    "duration": 2,
    "start_time": "2022-09-12T13:23:13.076Z"
   },
   {
    "duration": 23,
    "start_time": "2022-09-12T13:23:13.080Z"
   },
   {
    "duration": 28,
    "start_time": "2022-09-12T13:23:13.104Z"
   },
   {
    "duration": 16,
    "start_time": "2022-09-12T13:23:13.133Z"
   },
   {
    "duration": 29,
    "start_time": "2022-09-12T13:23:13.150Z"
   },
   {
    "duration": 44,
    "start_time": "2022-09-12T13:23:13.181Z"
   },
   {
    "duration": 14,
    "start_time": "2022-09-12T13:23:13.228Z"
   },
   {
    "duration": 44,
    "start_time": "2022-09-12T13:23:13.244Z"
   },
   {
    "duration": 16,
    "start_time": "2022-09-12T13:23:13.290Z"
   },
   {
    "duration": 10,
    "start_time": "2022-09-12T13:23:13.307Z"
   },
   {
    "duration": 20,
    "start_time": "2022-09-12T13:23:13.319Z"
   },
   {
    "duration": 37,
    "start_time": "2022-09-12T13:23:13.340Z"
   },
   {
    "duration": 11,
    "start_time": "2022-09-12T13:23:13.379Z"
   },
   {
    "duration": 26,
    "start_time": "2022-09-12T13:23:13.392Z"
   },
   {
    "duration": 182,
    "start_time": "2022-09-12T13:23:13.420Z"
   },
   {
    "duration": 5,
    "start_time": "2022-09-12T13:23:13.603Z"
   },
   {
    "duration": 6,
    "start_time": "2022-09-12T13:28:41.401Z"
   },
   {
    "duration": 6,
    "start_time": "2022-09-12T13:29:08.420Z"
   },
   {
    "duration": 5,
    "start_time": "2022-09-12T13:29:57.176Z"
   },
   {
    "duration": 22,
    "start_time": "2022-09-12T13:44:09.603Z"
   },
   {
    "duration": 5,
    "start_time": "2022-09-12T13:44:24.116Z"
   },
   {
    "duration": 5,
    "start_time": "2022-09-12T13:44:33.540Z"
   },
   {
    "duration": 9,
    "start_time": "2022-09-12T13:49:14.325Z"
   },
   {
    "duration": 6,
    "start_time": "2022-09-12T13:50:06.260Z"
   },
   {
    "duration": 3,
    "start_time": "2022-09-12T13:59:03.821Z"
   },
   {
    "duration": 8,
    "start_time": "2022-09-12T14:01:23.608Z"
   },
   {
    "duration": 29,
    "start_time": "2022-09-12T14:03:15.199Z"
   },
   {
    "duration": 5,
    "start_time": "2022-09-12T14:03:44.986Z"
   },
   {
    "duration": 6,
    "start_time": "2022-09-12T14:03:56.770Z"
   },
   {
    "duration": 6,
    "start_time": "2022-09-12T14:07:05.931Z"
   },
   {
    "duration": 8,
    "start_time": "2022-09-12T14:08:24.328Z"
   },
   {
    "duration": 148,
    "start_time": "2022-09-12T14:11:50.389Z"
   },
   {
    "duration": 9,
    "start_time": "2022-09-12T14:11:57.029Z"
   },
   {
    "duration": 8,
    "start_time": "2022-09-12T14:12:02.460Z"
   },
   {
    "duration": 48,
    "start_time": "2022-09-12T18:49:35.618Z"
   },
   {
    "duration": 848,
    "start_time": "2022-09-12T18:49:43.085Z"
   },
   {
    "duration": 472,
    "start_time": "2022-09-12T18:49:43.936Z"
   },
   {
    "duration": 30,
    "start_time": "2022-09-12T18:49:44.410Z"
   },
   {
    "duration": 15,
    "start_time": "2022-09-12T18:49:44.441Z"
   },
   {
    "duration": 3,
    "start_time": "2022-09-12T18:49:44.457Z"
   },
   {
    "duration": 42,
    "start_time": "2022-09-12T18:49:44.462Z"
   },
   {
    "duration": 30,
    "start_time": "2022-09-12T18:49:44.506Z"
   },
   {
    "duration": 13,
    "start_time": "2022-09-12T18:49:44.538Z"
   },
   {
    "duration": 9,
    "start_time": "2022-09-12T18:49:44.552Z"
   },
   {
    "duration": 36,
    "start_time": "2022-09-12T18:49:44.564Z"
   },
   {
    "duration": 13,
    "start_time": "2022-09-12T18:49:44.602Z"
   },
   {
    "duration": 15,
    "start_time": "2022-09-12T18:49:44.617Z"
   },
   {
    "duration": 11,
    "start_time": "2022-09-12T18:49:44.634Z"
   },
   {
    "duration": 56,
    "start_time": "2022-09-12T18:49:44.647Z"
   },
   {
    "duration": 8,
    "start_time": "2022-09-12T18:49:44.705Z"
   },
   {
    "duration": 13,
    "start_time": "2022-09-12T18:49:44.714Z"
   },
   {
    "duration": 25,
    "start_time": "2022-09-12T18:49:44.729Z"
   },
   {
    "duration": 212,
    "start_time": "2022-09-12T18:49:44.756Z"
   },
   {
    "duration": 5,
    "start_time": "2022-09-12T18:49:44.970Z"
   },
   {
    "duration": 25,
    "start_time": "2022-09-12T18:49:44.989Z"
   },
   {
    "duration": 5,
    "start_time": "2022-09-12T18:49:45.016Z"
   },
   {
    "duration": 17,
    "start_time": "2022-09-12T18:49:45.023Z"
   },
   {
    "duration": 15,
    "start_time": "2022-09-12T18:49:45.041Z"
   },
   {
    "duration": 43,
    "start_time": "2022-09-12T18:49:45.058Z"
   },
   {
    "duration": 6,
    "start_time": "2022-09-12T18:49:45.103Z"
   },
   {
    "duration": 7,
    "start_time": "2022-09-12T18:49:45.111Z"
   },
   {
    "duration": 10,
    "start_time": "2022-09-12T18:49:45.119Z"
   },
   {
    "duration": 6,
    "start_time": "2022-09-12T18:49:45.132Z"
   },
   {
    "duration": 7,
    "start_time": "2022-09-12T18:49:45.139Z"
   },
   {
    "duration": 10,
    "start_time": "2022-09-12T18:49:45.148Z"
   },
   {
    "duration": 53,
    "start_time": "2022-09-12T18:49:45.160Z"
   },
   {
    "duration": 6,
    "start_time": "2022-09-12T18:49:45.216Z"
   },
   {
    "duration": 10,
    "start_time": "2022-09-12T18:49:45.223Z"
   },
   {
    "duration": 10,
    "start_time": "2022-09-12T18:49:45.235Z"
   },
   {
    "duration": 71,
    "start_time": "2022-09-12T18:49:45.246Z"
   },
   {
    "duration": 11,
    "start_time": "2022-09-12T18:49:45.318Z"
   },
   {
    "duration": 13,
    "start_time": "2022-09-12T18:49:54.592Z"
   },
   {
    "duration": 6,
    "start_time": "2022-09-12T18:51:42.843Z"
   },
   {
    "duration": 40,
    "start_time": "2022-09-12T18:51:54.846Z"
   },
   {
    "duration": 11,
    "start_time": "2022-09-12T18:52:01.561Z"
   },
   {
    "duration": 11,
    "start_time": "2022-09-12T18:52:07.961Z"
   },
   {
    "duration": 11,
    "start_time": "2022-09-12T18:52:16.056Z"
   },
   {
    "duration": 759,
    "start_time": "2022-09-12T18:53:05.673Z"
   },
   {
    "duration": 81,
    "start_time": "2022-09-12T18:53:06.434Z"
   },
   {
    "duration": 31,
    "start_time": "2022-09-12T18:53:06.517Z"
   },
   {
    "duration": 14,
    "start_time": "2022-09-12T18:53:06.550Z"
   },
   {
    "duration": 23,
    "start_time": "2022-09-12T18:53:06.566Z"
   },
   {
    "duration": 24,
    "start_time": "2022-09-12T18:53:06.591Z"
   },
   {
    "duration": 24,
    "start_time": "2022-09-12T18:53:06.617Z"
   },
   {
    "duration": 15,
    "start_time": "2022-09-12T18:53:06.643Z"
   },
   {
    "duration": 36,
    "start_time": "2022-09-12T18:53:06.660Z"
   },
   {
    "duration": 18,
    "start_time": "2022-09-12T18:53:06.699Z"
   },
   {
    "duration": 20,
    "start_time": "2022-09-12T18:53:06.719Z"
   },
   {
    "duration": 17,
    "start_time": "2022-09-12T18:53:06.741Z"
   },
   {
    "duration": 43,
    "start_time": "2022-09-12T18:53:06.760Z"
   },
   {
    "duration": 26,
    "start_time": "2022-09-12T18:53:06.805Z"
   },
   {
    "duration": 8,
    "start_time": "2022-09-12T18:53:06.832Z"
   },
   {
    "duration": 16,
    "start_time": "2022-09-12T18:53:06.842Z"
   },
   {
    "duration": 32,
    "start_time": "2022-09-12T18:53:06.890Z"
   },
   {
    "duration": 217,
    "start_time": "2022-09-12T18:53:06.924Z"
   },
   {
    "duration": 6,
    "start_time": "2022-09-12T18:53:07.143Z"
   },
   {
    "duration": 41,
    "start_time": "2022-09-12T18:53:07.150Z"
   },
   {
    "duration": 6,
    "start_time": "2022-09-12T18:53:07.193Z"
   },
   {
    "duration": 9,
    "start_time": "2022-09-12T18:53:07.200Z"
   },
   {
    "duration": 10,
    "start_time": "2022-09-12T18:53:07.210Z"
   },
   {
    "duration": 30,
    "start_time": "2022-09-12T18:53:07.222Z"
   },
   {
    "duration": 36,
    "start_time": "2022-09-12T18:53:07.254Z"
   },
   {
    "duration": 8,
    "start_time": "2022-09-12T18:53:07.293Z"
   },
   {
    "duration": 7,
    "start_time": "2022-09-12T18:53:07.303Z"
   },
   {
    "duration": 8,
    "start_time": "2022-09-12T18:53:07.315Z"
   },
   {
    "duration": 4,
    "start_time": "2022-09-12T18:53:07.324Z"
   },
   {
    "duration": 12,
    "start_time": "2022-09-12T18:53:07.330Z"
   },
   {
    "duration": 65,
    "start_time": "2022-09-12T18:53:07.344Z"
   },
   {
    "duration": 5,
    "start_time": "2022-09-12T18:53:07.411Z"
   },
   {
    "duration": 6,
    "start_time": "2022-09-12T18:53:07.417Z"
   },
   {
    "duration": 7,
    "start_time": "2022-09-12T18:53:07.425Z"
   },
   {
    "duration": 84,
    "start_time": "2022-09-12T18:53:07.434Z"
   },
   {
    "duration": 12,
    "start_time": "2022-09-12T18:53:07.520Z"
   },
   {
    "duration": 9,
    "start_time": "2022-09-12T18:53:07.534Z"
   },
   {
    "duration": 16,
    "start_time": "2022-09-12T18:53:07.545Z"
   },
   {
    "duration": 384,
    "start_time": "2022-09-12T18:53:07.563Z"
   },
   {
    "duration": 8,
    "start_time": "2022-09-12T18:53:07.950Z"
   },
   {
    "duration": 277,
    "start_time": "2022-09-12T18:53:07.959Z"
   },
   {
    "duration": 17,
    "start_time": "2022-09-12T18:53:08.238Z"
   },
   {
    "duration": 47,
    "start_time": "2022-09-12T18:53:08.257Z"
   },
   {
    "duration": 28,
    "start_time": "2022-09-12T18:53:08.306Z"
   },
   {
    "duration": 8,
    "start_time": "2022-09-12T18:53:08.336Z"
   },
   {
    "duration": 84,
    "start_time": "2022-09-12T18:53:08.346Z"
   },
   {
    "duration": 7,
    "start_time": "2022-09-12T18:53:08.432Z"
   },
   {
    "duration": 9,
    "start_time": "2022-09-12T18:53:08.441Z"
   },
   {
    "duration": 18,
    "start_time": "2022-09-12T18:53:08.451Z"
   },
   {
    "duration": 147,
    "start_time": "2022-09-12T18:53:08.471Z"
   },
   {
    "duration": 131,
    "start_time": "2022-09-12T18:53:08.620Z"
   },
   {
    "duration": 113,
    "start_time": "2022-09-12T18:53:08.752Z"
   },
   {
    "duration": 169,
    "start_time": "2022-09-12T18:53:08.867Z"
   },
   {
    "duration": 155,
    "start_time": "2022-09-12T18:53:09.038Z"
   },
   {
    "duration": 7,
    "start_time": "2022-09-12T18:53:09.195Z"
   },
   {
    "duration": 12,
    "start_time": "2022-09-12T18:53:09.204Z"
   },
   {
    "duration": 160,
    "start_time": "2022-09-12T18:53:09.217Z"
   },
   {
    "duration": 163,
    "start_time": "2022-09-12T18:53:09.379Z"
   },
   {
    "duration": 7,
    "start_time": "2022-09-12T18:53:09.544Z"
   },
   {
    "duration": 11,
    "start_time": "2022-09-12T18:53:09.553Z"
   },
   {
    "duration": 174,
    "start_time": "2022-09-12T18:53:09.565Z"
   },
   {
    "duration": 190,
    "start_time": "2022-09-12T18:53:09.741Z"
   },
   {
    "duration": 7,
    "start_time": "2022-09-12T18:53:09.932Z"
   },
   {
    "duration": 9,
    "start_time": "2022-09-12T18:53:09.941Z"
   },
   {
    "duration": 37,
    "start_time": "2022-09-12T18:53:09.952Z"
   },
   {
    "duration": 8,
    "start_time": "2022-09-12T18:53:09.991Z"
   },
   {
    "duration": 9,
    "start_time": "2022-09-12T18:53:10.000Z"
   },
   {
    "duration": 16,
    "start_time": "2022-09-12T18:53:10.011Z"
   },
   {
    "duration": 10,
    "start_time": "2022-09-12T18:53:10.029Z"
   },
   {
    "duration": 12,
    "start_time": "2022-09-12T18:53:10.041Z"
   },
   {
    "duration": 12,
    "start_time": "2022-09-12T18:53:10.089Z"
   },
   {
    "duration": 14,
    "start_time": "2022-09-12T18:53:10.103Z"
   },
   {
    "duration": 11,
    "start_time": "2022-09-12T18:53:10.120Z"
   },
   {
    "duration": 11,
    "start_time": "2022-09-12T18:53:10.133Z"
   },
   {
    "duration": 51,
    "start_time": "2022-09-12T18:53:10.147Z"
   },
   {
    "duration": 11,
    "start_time": "2022-09-12T18:53:10.201Z"
   },
   {
    "duration": 11,
    "start_time": "2022-09-12T18:53:10.214Z"
   },
   {
    "duration": 9,
    "start_time": "2022-09-12T18:53:10.227Z"
   },
   {
    "duration": 195,
    "start_time": "2022-09-12T18:53:10.238Z"
   },
   {
    "duration": 173,
    "start_time": "2022-09-12T18:53:10.434Z"
   },
   {
    "duration": 277,
    "start_time": "2022-09-12T18:53:10.608Z"
   },
   {
    "duration": 179,
    "start_time": "2022-09-12T18:53:10.891Z"
   },
   {
    "duration": 449,
    "start_time": "2022-09-12T18:53:11.072Z"
   },
   {
    "duration": 11,
    "start_time": "2022-09-12T18:53:11.525Z"
   },
   {
    "duration": 747,
    "start_time": "2022-09-12T18:57:02.878Z"
   },
   {
    "duration": 78,
    "start_time": "2022-09-12T18:57:03.627Z"
   },
   {
    "duration": 33,
    "start_time": "2022-09-12T18:57:03.707Z"
   },
   {
    "duration": 15,
    "start_time": "2022-09-12T18:57:03.741Z"
   },
   {
    "duration": 3,
    "start_time": "2022-09-12T18:57:03.758Z"
   },
   {
    "duration": 39,
    "start_time": "2022-09-12T18:57:03.763Z"
   },
   {
    "duration": 37,
    "start_time": "2022-09-12T18:57:03.804Z"
   },
   {
    "duration": 22,
    "start_time": "2022-09-12T18:57:03.843Z"
   },
   {
    "duration": 25,
    "start_time": "2022-09-12T18:57:03.868Z"
   },
   {
    "duration": 18,
    "start_time": "2022-09-12T18:57:03.896Z"
   },
   {
    "duration": 21,
    "start_time": "2022-09-12T18:57:03.916Z"
   },
   {
    "duration": 20,
    "start_time": "2022-09-12T18:57:03.938Z"
   },
   {
    "duration": 33,
    "start_time": "2022-09-12T18:57:03.959Z"
   },
   {
    "duration": 23,
    "start_time": "2022-09-12T18:57:03.994Z"
   },
   {
    "duration": 15,
    "start_time": "2022-09-12T18:57:04.019Z"
   },
   {
    "duration": 13,
    "start_time": "2022-09-12T18:57:04.036Z"
   },
   {
    "duration": 50,
    "start_time": "2022-09-12T18:57:04.051Z"
   },
   {
    "duration": 217,
    "start_time": "2022-09-12T18:57:04.103Z"
   },
   {
    "duration": 6,
    "start_time": "2022-09-12T18:57:04.322Z"
   },
   {
    "duration": 32,
    "start_time": "2022-09-12T18:57:04.330Z"
   },
   {
    "duration": 6,
    "start_time": "2022-09-12T18:57:04.365Z"
   },
   {
    "duration": 6,
    "start_time": "2022-09-12T18:57:04.390Z"
   },
   {
    "duration": 12,
    "start_time": "2022-09-12T18:57:04.397Z"
   },
   {
    "duration": 32,
    "start_time": "2022-09-12T18:57:04.411Z"
   },
   {
    "duration": 10,
    "start_time": "2022-09-12T18:57:04.446Z"
   },
   {
    "duration": 38,
    "start_time": "2022-09-12T18:57:04.457Z"
   },
   {
    "duration": 10,
    "start_time": "2022-09-12T18:57:04.497Z"
   },
   {
    "duration": 5,
    "start_time": "2022-09-12T18:57:04.512Z"
   },
   {
    "duration": 10,
    "start_time": "2022-09-12T18:57:04.519Z"
   },
   {
    "duration": 10,
    "start_time": "2022-09-12T18:57:04.531Z"
   },
   {
    "duration": 48,
    "start_time": "2022-09-12T18:57:04.543Z"
   },
   {
    "duration": 5,
    "start_time": "2022-09-12T18:57:04.592Z"
   },
   {
    "duration": 15,
    "start_time": "2022-09-12T18:57:04.599Z"
   },
   {
    "duration": 15,
    "start_time": "2022-09-12T18:57:04.616Z"
   },
   {
    "duration": 56,
    "start_time": "2022-09-12T18:57:04.633Z"
   },
   {
    "duration": 12,
    "start_time": "2022-09-12T18:57:04.691Z"
   },
   {
    "duration": 10,
    "start_time": "2022-09-12T18:57:04.704Z"
   },
   {
    "duration": 18,
    "start_time": "2022-09-12T18:57:04.716Z"
   },
   {
    "duration": 343,
    "start_time": "2022-09-12T18:57:04.736Z"
   },
   {
    "duration": 17,
    "start_time": "2022-09-12T18:57:05.082Z"
   },
   {
    "duration": 310,
    "start_time": "2022-09-12T18:57:05.102Z"
   },
   {
    "duration": 13,
    "start_time": "2022-09-12T18:57:05.414Z"
   },
   {
    "duration": 26,
    "start_time": "2022-09-12T18:57:05.429Z"
   },
   {
    "duration": 36,
    "start_time": "2022-09-12T18:57:05.457Z"
   },
   {
    "duration": 10,
    "start_time": "2022-09-12T18:57:05.495Z"
   },
   {
    "duration": 66,
    "start_time": "2022-09-12T18:57:05.507Z"
   },
   {
    "duration": 6,
    "start_time": "2022-09-12T18:57:05.589Z"
   },
   {
    "duration": 7,
    "start_time": "2022-09-12T18:57:05.598Z"
   },
   {
    "duration": 17,
    "start_time": "2022-09-12T18:57:05.608Z"
   },
   {
    "duration": 139,
    "start_time": "2022-09-12T18:57:05.627Z"
   },
   {
    "duration": 123,
    "start_time": "2022-09-12T18:57:05.767Z"
   },
   {
    "duration": 116,
    "start_time": "2022-09-12T18:57:05.892Z"
   },
   {
    "duration": 177,
    "start_time": "2022-09-12T18:57:06.010Z"
   },
   {
    "duration": 156,
    "start_time": "2022-09-12T18:57:06.189Z"
   },
   {
    "duration": 7,
    "start_time": "2022-09-12T18:57:06.347Z"
   },
   {
    "duration": 10,
    "start_time": "2022-09-12T18:57:06.356Z"
   },
   {
    "duration": 177,
    "start_time": "2022-09-12T18:57:06.368Z"
   },
   {
    "duration": 142,
    "start_time": "2022-09-12T18:57:06.547Z"
   },
   {
    "duration": 7,
    "start_time": "2022-09-12T18:57:06.690Z"
   },
   {
    "duration": 24,
    "start_time": "2022-09-12T18:57:06.699Z"
   },
   {
    "duration": 176,
    "start_time": "2022-09-12T18:57:06.725Z"
   },
   {
    "duration": 191,
    "start_time": "2022-09-12T18:57:06.902Z"
   },
   {
    "duration": 8,
    "start_time": "2022-09-12T18:57:07.095Z"
   },
   {
    "duration": 19,
    "start_time": "2022-09-12T18:57:07.105Z"
   },
   {
    "duration": 22,
    "start_time": "2022-09-12T18:57:07.126Z"
   },
   {
    "duration": 10,
    "start_time": "2022-09-12T18:57:07.150Z"
   },
   {
    "duration": 29,
    "start_time": "2022-09-12T18:57:07.162Z"
   },
   {
    "duration": 21,
    "start_time": "2022-09-12T18:57:07.194Z"
   },
   {
    "duration": 11,
    "start_time": "2022-09-12T18:57:07.217Z"
   },
   {
    "duration": 14,
    "start_time": "2022-09-12T18:57:07.230Z"
   },
   {
    "duration": 21,
    "start_time": "2022-09-12T18:57:07.246Z"
   },
   {
    "duration": 15,
    "start_time": "2022-09-12T18:57:07.269Z"
   },
   {
    "duration": 21,
    "start_time": "2022-09-12T18:57:07.286Z"
   },
   {
    "duration": 49,
    "start_time": "2022-09-12T18:57:07.309Z"
   },
   {
    "duration": 24,
    "start_time": "2022-09-12T18:57:07.360Z"
   },
   {
    "duration": 25,
    "start_time": "2022-09-12T18:57:07.385Z"
   },
   {
    "duration": 12,
    "start_time": "2022-09-12T18:57:07.413Z"
   },
   {
    "duration": 10,
    "start_time": "2022-09-12T18:57:07.427Z"
   },
   {
    "duration": 181,
    "start_time": "2022-09-12T18:57:07.438Z"
   },
   {
    "duration": 172,
    "start_time": "2022-09-12T18:57:07.621Z"
   },
   {
    "duration": 244,
    "start_time": "2022-09-12T18:57:07.794Z"
   },
   {
    "duration": 191,
    "start_time": "2022-09-12T18:57:08.044Z"
   },
   {
    "duration": 477,
    "start_time": "2022-09-12T18:57:08.238Z"
   },
   {
    "duration": 11,
    "start_time": "2022-09-12T18:57:08.717Z"
   },
   {
    "duration": 3,
    "start_time": "2022-09-12T18:57:13.539Z"
   },
   {
    "duration": 73,
    "start_time": "2022-09-12T18:57:17.326Z"
   },
   {
    "duration": 30,
    "start_time": "2022-09-12T18:57:20.822Z"
   },
   {
    "duration": 14,
    "start_time": "2022-09-12T18:57:24.755Z"
   },
   {
    "duration": 3,
    "start_time": "2022-09-12T18:57:29.726Z"
   },
   {
    "duration": 21,
    "start_time": "2022-09-12T18:57:36.879Z"
   },
   {
    "duration": 24,
    "start_time": "2022-09-12T18:57:42.802Z"
   },
   {
    "duration": 21,
    "start_time": "2022-09-12T18:57:49.091Z"
   },
   {
    "duration": 14,
    "start_time": "2022-09-12T18:58:01.223Z"
   },
   {
    "duration": 15,
    "start_time": "2022-09-12T18:58:06.007Z"
   },
   {
    "duration": 16,
    "start_time": "2022-09-12T18:58:17.240Z"
   },
   {
    "duration": 11,
    "start_time": "2022-09-12T18:58:28.783Z"
   },
   {
    "duration": 22,
    "start_time": "2022-09-12T18:58:34.536Z"
   },
   {
    "duration": 9,
    "start_time": "2022-09-12T18:58:41.766Z"
   },
   {
    "duration": 12,
    "start_time": "2022-09-12T18:58:46.563Z"
   },
   {
    "duration": 25,
    "start_time": "2022-09-12T18:58:51.700Z"
   },
   {
    "duration": 179,
    "start_time": "2022-09-12T18:58:56.606Z"
   },
   {
    "duration": 6,
    "start_time": "2022-09-12T18:59:02.775Z"
   },
   {
    "duration": 24,
    "start_time": "2022-09-12T18:59:08.928Z"
   },
   {
    "duration": 5,
    "start_time": "2022-09-12T18:59:14.141Z"
   },
   {
    "duration": 7,
    "start_time": "2022-09-12T18:59:19.286Z"
   },
   {
    "duration": 26,
    "start_time": "2022-09-12T18:59:26.409Z"
   },
   {
    "duration": 6,
    "start_time": "2022-09-12T18:59:33.282Z"
   },
   {
    "duration": 6,
    "start_time": "2022-09-12T18:59:37.518Z"
   },
   {
    "duration": 7,
    "start_time": "2022-09-12T19:00:22.791Z"
   },
   {
    "duration": 7,
    "start_time": "2022-09-12T19:00:29.218Z"
   },
   {
    "duration": 5,
    "start_time": "2022-09-12T19:00:35.791Z"
   },
   {
    "duration": 6,
    "start_time": "2022-09-12T19:00:48.205Z"
   },
   {
    "duration": 26,
    "start_time": "2022-09-12T19:00:58.381Z"
   },
   {
    "duration": 6,
    "start_time": "2022-09-12T19:01:03.425Z"
   },
   {
    "duration": 7,
    "start_time": "2022-09-12T19:01:06.277Z"
   },
   {
    "duration": 20,
    "start_time": "2022-09-12T19:01:13.345Z"
   },
   {
    "duration": 40,
    "start_time": "2022-09-12T19:01:18.067Z"
   },
   {
    "duration": 15,
    "start_time": "2022-09-12T19:01:37.976Z"
   },
   {
    "duration": 7,
    "start_time": "2022-09-12T19:02:16.826Z"
   },
   {
    "duration": 12,
    "start_time": "2022-09-12T19:02:27.009Z"
   },
   {
    "duration": 8,
    "start_time": "2022-09-12T19:02:42.095Z"
   },
   {
    "duration": 12,
    "start_time": "2022-09-12T19:02:44.745Z"
   },
   {
    "duration": 6,
    "start_time": "2022-09-12T19:06:52.919Z"
   },
   {
    "duration": 6,
    "start_time": "2022-09-12T19:07:17.189Z"
   },
   {
    "duration": 6,
    "start_time": "2022-09-12T19:15:50.055Z"
   },
   {
    "duration": 13,
    "start_time": "2022-09-12T19:16:56.742Z"
   },
   {
    "duration": 5,
    "start_time": "2022-09-12T19:27:40.934Z"
   },
   {
    "duration": 3,
    "start_time": "2022-09-12T19:30:03.481Z"
   },
   {
    "duration": 90,
    "start_time": "2022-09-12T19:30:03.488Z"
   },
   {
    "duration": 31,
    "start_time": "2022-09-12T19:30:03.580Z"
   },
   {
    "duration": 14,
    "start_time": "2022-09-12T19:30:03.613Z"
   },
   {
    "duration": 6,
    "start_time": "2022-09-12T19:30:03.629Z"
   },
   {
    "duration": 33,
    "start_time": "2022-09-12T19:30:03.637Z"
   },
   {
    "duration": 35,
    "start_time": "2022-09-12T19:30:03.672Z"
   },
   {
    "duration": 17,
    "start_time": "2022-09-12T19:30:03.709Z"
   },
   {
    "duration": 21,
    "start_time": "2022-09-12T19:30:03.728Z"
   },
   {
    "duration": 27,
    "start_time": "2022-09-12T19:30:03.750Z"
   },
   {
    "duration": 26,
    "start_time": "2022-09-12T19:30:03.779Z"
   },
   {
    "duration": 26,
    "start_time": "2022-09-12T19:30:03.807Z"
   },
   {
    "duration": 19,
    "start_time": "2022-09-12T19:30:03.835Z"
   },
   {
    "duration": 38,
    "start_time": "2022-09-12T19:30:03.856Z"
   },
   {
    "duration": 8,
    "start_time": "2022-09-12T19:30:03.896Z"
   },
   {
    "duration": 15,
    "start_time": "2022-09-12T19:30:03.906Z"
   },
   {
    "duration": 33,
    "start_time": "2022-09-12T19:30:03.923Z"
   },
   {
    "duration": 208,
    "start_time": "2022-09-12T19:30:03.958Z"
   },
   {
    "duration": 6,
    "start_time": "2022-09-12T19:30:04.168Z"
   },
   {
    "duration": 41,
    "start_time": "2022-09-12T19:30:04.175Z"
   },
   {
    "duration": 4,
    "start_time": "2022-09-12T19:30:04.218Z"
   },
   {
    "duration": 25,
    "start_time": "2022-09-12T19:30:04.224Z"
   },
   {
    "duration": 15,
    "start_time": "2022-09-12T19:30:04.250Z"
   },
   {
    "duration": 51,
    "start_time": "2022-09-12T19:30:04.267Z"
   },
   {
    "duration": 5,
    "start_time": "2022-09-12T19:30:04.320Z"
   },
   {
    "duration": 31,
    "start_time": "2022-09-12T19:30:04.327Z"
   },
   {
    "duration": 13,
    "start_time": "2022-09-12T19:30:04.359Z"
   },
   {
    "duration": 14,
    "start_time": "2022-09-12T19:30:04.374Z"
   },
   {
    "duration": 24,
    "start_time": "2022-09-12T19:30:04.391Z"
   },
   {
    "duration": 121,
    "start_time": "2022-09-12T19:30:04.417Z"
   },
   {
    "duration": 0,
    "start_time": "2022-09-12T19:30:04.540Z"
   },
   {
    "duration": 0,
    "start_time": "2022-09-12T19:30:04.541Z"
   },
   {
    "duration": 0,
    "start_time": "2022-09-12T19:30:04.542Z"
   },
   {
    "duration": 0,
    "start_time": "2022-09-12T19:30:04.543Z"
   },
   {
    "duration": 61,
    "start_time": "2022-09-12T19:30:11.520Z"
   },
   {
    "duration": 19,
    "start_time": "2022-09-12T19:30:17.409Z"
   },
   {
    "duration": 14,
    "start_time": "2022-09-12T19:30:40.591Z"
   },
   {
    "duration": 7,
    "start_time": "2022-09-12T19:31:21.142Z"
   },
   {
    "duration": 13,
    "start_time": "2022-09-12T19:31:30.878Z"
   },
   {
    "duration": 10,
    "start_time": "2022-09-12T19:31:41.266Z"
   },
   {
    "duration": 14,
    "start_time": "2022-09-12T19:31:44.666Z"
   },
   {
    "duration": 14,
    "start_time": "2022-09-12T19:32:17.939Z"
   },
   {
    "duration": 7,
    "start_time": "2022-09-12T19:33:16.531Z"
   },
   {
    "duration": 5,
    "start_time": "2022-09-12T19:33:21.612Z"
   },
   {
    "duration": 7,
    "start_time": "2022-09-12T19:33:31.164Z"
   },
   {
    "duration": 15,
    "start_time": "2022-09-12T19:33:42.659Z"
   },
   {
    "duration": 17,
    "start_time": "2022-09-12T20:32:36.381Z"
   },
   {
    "duration": 4,
    "start_time": "2022-09-12T20:32:47.882Z"
   },
   {
    "duration": 93,
    "start_time": "2022-09-12T20:32:47.887Z"
   },
   {
    "duration": 32,
    "start_time": "2022-09-12T20:32:47.982Z"
   },
   {
    "duration": 15,
    "start_time": "2022-09-12T20:32:48.016Z"
   },
   {
    "duration": 21,
    "start_time": "2022-09-12T20:32:48.033Z"
   },
   {
    "duration": 62,
    "start_time": "2022-09-12T20:32:48.056Z"
   },
   {
    "duration": 39,
    "start_time": "2022-09-12T20:32:48.120Z"
   },
   {
    "duration": 15,
    "start_time": "2022-09-12T20:32:48.162Z"
   },
   {
    "duration": 18,
    "start_time": "2022-09-12T20:32:48.179Z"
   },
   {
    "duration": 20,
    "start_time": "2022-09-12T20:32:48.199Z"
   },
   {
    "duration": 31,
    "start_time": "2022-09-12T20:32:48.222Z"
   },
   {
    "duration": 25,
    "start_time": "2022-09-12T20:32:48.256Z"
   },
   {
    "duration": 20,
    "start_time": "2022-09-12T20:32:48.284Z"
   },
   {
    "duration": 21,
    "start_time": "2022-09-12T20:32:48.305Z"
   },
   {
    "duration": 14,
    "start_time": "2022-09-12T20:32:48.328Z"
   },
   {
    "duration": 11,
    "start_time": "2022-09-12T20:32:48.343Z"
   },
   {
    "duration": 36,
    "start_time": "2022-09-12T20:32:48.356Z"
   },
   {
    "duration": 197,
    "start_time": "2022-09-12T20:32:48.394Z"
   },
   {
    "duration": 5,
    "start_time": "2022-09-12T20:32:48.593Z"
   },
   {
    "duration": 26,
    "start_time": "2022-09-12T20:32:48.600Z"
   },
   {
    "duration": 6,
    "start_time": "2022-09-12T20:32:48.627Z"
   },
   {
    "duration": 10,
    "start_time": "2022-09-12T20:32:48.634Z"
   },
   {
    "duration": 7,
    "start_time": "2022-09-12T20:32:48.646Z"
   },
   {
    "duration": 52,
    "start_time": "2022-09-12T20:32:48.655Z"
   },
   {
    "duration": 6,
    "start_time": "2022-09-12T20:32:48.709Z"
   },
   {
    "duration": 7,
    "start_time": "2022-09-12T20:32:48.717Z"
   },
   {
    "duration": 7,
    "start_time": "2022-09-12T20:32:48.726Z"
   },
   {
    "duration": 7,
    "start_time": "2022-09-12T20:32:48.734Z"
   },
   {
    "duration": 6,
    "start_time": "2022-09-12T20:32:48.746Z"
   },
   {
    "duration": 7,
    "start_time": "2022-09-12T20:32:48.789Z"
   },
   {
    "duration": 26,
    "start_time": "2022-09-12T20:32:48.797Z"
   },
   {
    "duration": 6,
    "start_time": "2022-09-12T20:32:48.825Z"
   },
   {
    "duration": 7,
    "start_time": "2022-09-12T20:32:48.833Z"
   },
   {
    "duration": 7,
    "start_time": "2022-09-12T20:32:48.841Z"
   },
   {
    "duration": 70,
    "start_time": "2022-09-12T20:32:48.850Z"
   },
   {
    "duration": 12,
    "start_time": "2022-09-12T20:32:48.922Z"
   },
   {
    "duration": 15,
    "start_time": "2022-09-12T20:32:48.935Z"
   },
   {
    "duration": 18,
    "start_time": "2022-09-12T20:32:48.952Z"
   },
   {
    "duration": 467,
    "start_time": "2022-09-12T20:32:48.989Z"
   },
   {
    "duration": 9,
    "start_time": "2022-09-12T20:32:49.458Z"
   },
   {
    "duration": 245,
    "start_time": "2022-09-12T20:32:49.469Z"
   },
   {
    "duration": 14,
    "start_time": "2022-09-12T20:32:54.617Z"
   },
   {
    "duration": 16,
    "start_time": "2022-09-12T20:39:57.503Z"
   },
   {
    "duration": 13,
    "start_time": "2022-09-12T20:40:20.997Z"
   },
   {
    "duration": 16,
    "start_time": "2022-09-12T20:40:55.762Z"
   },
   {
    "duration": 16,
    "start_time": "2022-09-12T20:45:23.409Z"
   },
   {
    "duration": 20,
    "start_time": "2022-09-12T20:45:49.649Z"
   },
   {
    "duration": 6,
    "start_time": "2022-09-12T20:46:42.447Z"
   },
   {
    "duration": 7,
    "start_time": "2022-09-12T20:46:50.800Z"
   },
   {
    "duration": 7,
    "start_time": "2022-09-12T20:48:23.767Z"
   },
   {
    "duration": 6,
    "start_time": "2022-09-12T20:51:35.782Z"
   },
   {
    "duration": 6,
    "start_time": "2022-09-12T20:52:47.059Z"
   },
   {
    "duration": 8,
    "start_time": "2022-09-12T20:55:57.534Z"
   },
   {
    "duration": 8,
    "start_time": "2022-09-12T20:58:44.286Z"
   },
   {
    "duration": 7,
    "start_time": "2022-09-12T21:01:07.163Z"
   },
   {
    "duration": 6,
    "start_time": "2022-09-12T21:02:47.046Z"
   },
   {
    "duration": 4,
    "start_time": "2022-09-12T21:03:26.276Z"
   },
   {
    "duration": 1006,
    "start_time": "2022-09-12T21:04:08.652Z"
   },
   {
    "duration": 951,
    "start_time": "2022-09-12T21:05:39.086Z"
   },
   {
    "duration": 1125,
    "start_time": "2022-09-12T21:06:13.564Z"
   },
   {
    "duration": 1555,
    "start_time": "2022-09-12T21:07:31.712Z"
   },
   {
    "duration": 970,
    "start_time": "2022-09-12T21:09:10.608Z"
   },
   {
    "duration": 3,
    "start_time": "2022-09-12T21:10:04.033Z"
   },
   {
    "duration": 74,
    "start_time": "2022-09-12T21:10:04.041Z"
   },
   {
    "duration": 31,
    "start_time": "2022-09-12T21:10:04.117Z"
   },
   {
    "duration": 15,
    "start_time": "2022-09-12T21:10:04.150Z"
   },
   {
    "duration": 3,
    "start_time": "2022-09-12T21:10:04.190Z"
   },
   {
    "duration": 24,
    "start_time": "2022-09-12T21:10:04.195Z"
   },
   {
    "duration": 26,
    "start_time": "2022-09-12T21:10:04.221Z"
   },
   {
    "duration": 44,
    "start_time": "2022-09-12T21:10:04.249Z"
   },
   {
    "duration": 10,
    "start_time": "2022-09-12T21:10:04.295Z"
   },
   {
    "duration": 19,
    "start_time": "2022-09-12T21:10:04.307Z"
   },
   {
    "duration": 12,
    "start_time": "2022-09-12T21:10:04.330Z"
   },
   {
    "duration": 16,
    "start_time": "2022-09-12T21:10:04.345Z"
   },
   {
    "duration": 11,
    "start_time": "2022-09-12T21:10:04.389Z"
   },
   {
    "duration": 22,
    "start_time": "2022-09-12T21:10:04.402Z"
   },
   {
    "duration": 9,
    "start_time": "2022-09-12T21:10:04.425Z"
   },
   {
    "duration": 16,
    "start_time": "2022-09-12T21:10:04.436Z"
   },
   {
    "duration": 55,
    "start_time": "2022-09-12T21:10:04.453Z"
   },
   {
    "duration": 201,
    "start_time": "2022-09-12T21:10:04.509Z"
   },
   {
    "duration": 5,
    "start_time": "2022-09-12T21:10:04.712Z"
   },
   {
    "duration": 34,
    "start_time": "2022-09-12T21:10:04.719Z"
   },
   {
    "duration": 7,
    "start_time": "2022-09-12T21:10:04.755Z"
   },
   {
    "duration": 56,
    "start_time": "2022-09-12T21:10:04.764Z"
   },
   {
    "duration": 34,
    "start_time": "2022-09-12T21:10:04.823Z"
   },
   {
    "duration": 47,
    "start_time": "2022-09-12T21:10:04.859Z"
   },
   {
    "duration": 6,
    "start_time": "2022-09-12T21:10:04.908Z"
   },
   {
    "duration": 33,
    "start_time": "2022-09-12T21:10:04.916Z"
   },
   {
    "duration": 87,
    "start_time": "2022-09-12T21:10:04.951Z"
   },
   {
    "duration": 37,
    "start_time": "2022-09-12T21:10:05.040Z"
   },
   {
    "duration": 51,
    "start_time": "2022-09-12T21:10:05.082Z"
   },
   {
    "duration": 25,
    "start_time": "2022-09-12T21:10:05.135Z"
   },
   {
    "duration": 56,
    "start_time": "2022-09-12T21:10:05.162Z"
   },
   {
    "duration": 6,
    "start_time": "2022-09-12T21:10:05.220Z"
   },
   {
    "duration": 11,
    "start_time": "2022-09-12T21:10:05.228Z"
   },
   {
    "duration": 11,
    "start_time": "2022-09-12T21:10:05.241Z"
   },
   {
    "duration": 60,
    "start_time": "2022-09-12T21:10:05.254Z"
   },
   {
    "duration": 13,
    "start_time": "2022-09-12T21:10:05.317Z"
   },
   {
    "duration": 9,
    "start_time": "2022-09-12T21:10:05.332Z"
   },
   {
    "duration": 15,
    "start_time": "2022-09-12T21:10:05.343Z"
   },
   {
    "duration": 422,
    "start_time": "2022-09-12T21:10:05.360Z"
   },
   {
    "duration": 8,
    "start_time": "2022-09-12T21:10:05.789Z"
   },
   {
    "duration": 250,
    "start_time": "2022-09-12T21:10:05.799Z"
   },
   {
    "duration": 17,
    "start_time": "2022-09-12T21:10:06.051Z"
   },
   {
    "duration": 1156,
    "start_time": "2022-09-12T21:10:11.776Z"
   },
   {
    "duration": 18,
    "start_time": "2022-09-12T21:10:29.929Z"
   },
   {
    "duration": 17,
    "start_time": "2022-09-12T21:10:40.831Z"
   },
   {
    "duration": 16,
    "start_time": "2022-09-12T21:11:14.412Z"
   },
   {
    "duration": 18,
    "start_time": "2022-09-12T21:11:20.032Z"
   },
   {
    "duration": 673,
    "start_time": "2022-09-12T21:11:42.024Z"
   },
   {
    "duration": 74,
    "start_time": "2022-09-12T21:11:42.699Z"
   },
   {
    "duration": 29,
    "start_time": "2022-09-12T21:11:42.775Z"
   },
   {
    "duration": 16,
    "start_time": "2022-09-12T21:11:42.806Z"
   },
   {
    "duration": 12,
    "start_time": "2022-09-12T21:11:42.823Z"
   },
   {
    "duration": 36,
    "start_time": "2022-09-12T21:11:42.837Z"
   },
   {
    "duration": 23,
    "start_time": "2022-09-12T21:11:42.875Z"
   },
   {
    "duration": 14,
    "start_time": "2022-09-12T21:11:42.899Z"
   },
   {
    "duration": 11,
    "start_time": "2022-09-12T21:11:42.914Z"
   },
   {
    "duration": 14,
    "start_time": "2022-09-12T21:11:42.927Z"
   },
   {
    "duration": 13,
    "start_time": "2022-09-12T21:11:42.942Z"
   },
   {
    "duration": 44,
    "start_time": "2022-09-12T21:11:42.957Z"
   },
   {
    "duration": 10,
    "start_time": "2022-09-12T21:11:43.003Z"
   },
   {
    "duration": 26,
    "start_time": "2022-09-12T21:11:43.015Z"
   },
   {
    "duration": 7,
    "start_time": "2022-09-12T21:11:43.043Z"
   },
   {
    "duration": 10,
    "start_time": "2022-09-12T21:11:43.052Z"
   },
   {
    "duration": 46,
    "start_time": "2022-09-12T21:11:43.063Z"
   },
   {
    "duration": 202,
    "start_time": "2022-09-12T21:11:43.111Z"
   },
   {
    "duration": 6,
    "start_time": "2022-09-12T21:11:43.315Z"
   },
   {
    "duration": 31,
    "start_time": "2022-09-12T21:11:43.322Z"
   },
   {
    "duration": 6,
    "start_time": "2022-09-12T21:11:43.355Z"
   },
   {
    "duration": 8,
    "start_time": "2022-09-12T21:11:43.363Z"
   },
   {
    "duration": 27,
    "start_time": "2022-09-12T21:11:43.372Z"
   },
   {
    "duration": 28,
    "start_time": "2022-09-12T21:11:43.401Z"
   },
   {
    "duration": 5,
    "start_time": "2022-09-12T21:11:43.431Z"
   },
   {
    "duration": 10,
    "start_time": "2022-09-12T21:11:43.437Z"
   },
   {
    "duration": 9,
    "start_time": "2022-09-12T21:11:43.449Z"
   },
   {
    "duration": 7,
    "start_time": "2022-09-12T21:11:43.489Z"
   },
   {
    "duration": 8,
    "start_time": "2022-09-12T21:11:43.498Z"
   },
   {
    "duration": 5,
    "start_time": "2022-09-12T21:11:43.508Z"
   },
   {
    "duration": 29,
    "start_time": "2022-09-12T21:11:43.515Z"
   },
   {
    "duration": 5,
    "start_time": "2022-09-12T21:11:43.546Z"
   },
   {
    "duration": 23,
    "start_time": "2022-09-12T21:11:43.552Z"
   },
   {
    "duration": 9,
    "start_time": "2022-09-12T21:11:43.588Z"
   },
   {
    "duration": 77,
    "start_time": "2022-09-12T21:11:43.599Z"
   },
   {
    "duration": 11,
    "start_time": "2022-09-12T21:11:43.678Z"
   },
   {
    "duration": 22,
    "start_time": "2022-09-12T21:11:43.691Z"
   },
   {
    "duration": 23,
    "start_time": "2022-09-12T21:11:43.714Z"
   },
   {
    "duration": 369,
    "start_time": "2022-09-12T21:11:43.739Z"
   },
   {
    "duration": 8,
    "start_time": "2022-09-12T21:11:44.109Z"
   },
   {
    "duration": 244,
    "start_time": "2022-09-12T21:11:44.119Z"
   },
   {
    "duration": 24,
    "start_time": "2022-09-12T21:11:44.365Z"
   },
   {
    "duration": 16,
    "start_time": "2022-09-12T21:11:44.391Z"
   },
   {
    "duration": 8,
    "start_time": "2022-09-12T21:11:44.409Z"
   },
   {
    "duration": 87,
    "start_time": "2022-09-12T21:11:44.419Z"
   },
   {
    "duration": 24,
    "start_time": "2022-09-12T21:11:44.508Z"
   },
   {
    "duration": 24,
    "start_time": "2022-09-12T21:11:44.533Z"
   },
   {
    "duration": 31,
    "start_time": "2022-09-12T21:11:44.559Z"
   },
   {
    "duration": 24,
    "start_time": "2022-09-12T21:11:44.592Z"
   },
   {
    "duration": 29,
    "start_time": "2022-09-12T21:11:44.617Z"
   },
   {
    "duration": 10,
    "start_time": "2022-09-12T21:11:44.648Z"
   },
   {
    "duration": 31,
    "start_time": "2022-09-12T21:11:44.660Z"
   },
   {
    "duration": 130,
    "start_time": "2022-09-12T21:11:44.693Z"
   },
   {
    "duration": 116,
    "start_time": "2022-09-12T21:11:44.825Z"
   },
   {
    "duration": 107,
    "start_time": "2022-09-12T21:11:44.942Z"
   },
   {
    "duration": 159,
    "start_time": "2022-09-12T21:11:45.050Z"
   },
   {
    "duration": 158,
    "start_time": "2022-09-12T21:11:45.210Z"
   },
   {
    "duration": 9,
    "start_time": "2022-09-12T21:11:45.369Z"
   },
   {
    "duration": 7,
    "start_time": "2022-09-12T21:11:45.389Z"
   },
   {
    "duration": 139,
    "start_time": "2022-09-12T21:11:45.398Z"
   },
   {
    "duration": 140,
    "start_time": "2022-09-12T21:11:45.538Z"
   },
   {
    "duration": 7,
    "start_time": "2022-09-12T21:11:45.689Z"
   },
   {
    "duration": 21,
    "start_time": "2022-09-12T21:11:45.698Z"
   },
   {
    "duration": 144,
    "start_time": "2022-09-12T21:11:45.720Z"
   },
   {
    "duration": 149,
    "start_time": "2022-09-12T21:11:45.866Z"
   },
   {
    "duration": 7,
    "start_time": "2022-09-12T21:11:46.017Z"
   },
   {
    "duration": 12,
    "start_time": "2022-09-12T21:11:46.026Z"
   },
   {
    "duration": 11,
    "start_time": "2022-09-12T21:11:46.040Z"
   },
   {
    "duration": 9,
    "start_time": "2022-09-12T21:11:46.053Z"
   },
   {
    "duration": 8,
    "start_time": "2022-09-12T21:11:46.089Z"
   },
   {
    "duration": 8,
    "start_time": "2022-09-12T21:11:46.099Z"
   },
   {
    "duration": 13,
    "start_time": "2022-09-12T21:11:46.108Z"
   },
   {
    "duration": 7,
    "start_time": "2022-09-12T21:11:46.123Z"
   },
   {
    "duration": 8,
    "start_time": "2022-09-12T21:11:46.132Z"
   },
   {
    "duration": 10,
    "start_time": "2022-09-12T21:11:46.142Z"
   },
   {
    "duration": 41,
    "start_time": "2022-09-12T21:11:46.154Z"
   },
   {
    "duration": 8,
    "start_time": "2022-09-12T21:11:46.197Z"
   },
   {
    "duration": 7,
    "start_time": "2022-09-12T21:11:46.207Z"
   },
   {
    "duration": 8,
    "start_time": "2022-09-12T21:11:46.216Z"
   },
   {
    "duration": 10,
    "start_time": "2022-09-12T21:11:46.225Z"
   },
   {
    "duration": 4,
    "start_time": "2022-09-12T21:11:46.237Z"
   },
   {
    "duration": 208,
    "start_time": "2022-09-12T21:11:46.246Z"
   },
   {
    "duration": 187,
    "start_time": "2022-09-12T21:11:46.455Z"
   },
   {
    "duration": 229,
    "start_time": "2022-09-12T21:11:46.644Z"
   },
   {
    "duration": 169,
    "start_time": "2022-09-12T21:11:46.875Z"
   },
   {
    "duration": 485,
    "start_time": "2022-09-12T21:11:47.046Z"
   },
   {
    "duration": 13,
    "start_time": "2022-09-12T21:11:47.533Z"
   },
   {
    "duration": 99,
    "start_time": "2022-09-12T21:14:59.824Z"
   },
   {
    "duration": 1389,
    "start_time": "2022-09-12T21:15:25.662Z"
   },
   {
    "duration": 228,
    "start_time": "2022-09-12T21:16:24.241Z"
   },
   {
    "duration": 10,
    "start_time": "2022-09-12T21:28:24.567Z"
   },
   {
    "duration": 21,
    "start_time": "2022-09-12T21:30:02.357Z"
   },
   {
    "duration": 21,
    "start_time": "2022-09-12T21:30:44.921Z"
   },
   {
    "duration": 21,
    "start_time": "2022-09-12T21:30:55.478Z"
   },
   {
    "duration": 20,
    "start_time": "2022-09-12T21:31:24.531Z"
   },
   {
    "duration": 339,
    "start_time": "2022-09-12T21:33:18.626Z"
   },
   {
    "duration": 19,
    "start_time": "2022-09-12T21:35:25.716Z"
   },
   {
    "duration": 378,
    "start_time": "2022-09-12T21:35:33.461Z"
   },
   {
    "duration": 7,
    "start_time": "2022-09-12T21:40:27.483Z"
   },
   {
    "duration": 7,
    "start_time": "2022-09-12T21:41:00.099Z"
   },
   {
    "duration": 7,
    "start_time": "2022-09-12T21:41:47.928Z"
   },
   {
    "duration": 9,
    "start_time": "2022-09-12T21:42:41.092Z"
   },
   {
    "duration": 2,
    "start_time": "2022-09-12T21:42:43.721Z"
   },
   {
    "duration": 3,
    "start_time": "2022-09-12T21:42:58.989Z"
   },
   {
    "duration": 18,
    "start_time": "2022-09-12T21:46:44.482Z"
   },
   {
    "duration": 303,
    "start_time": "2022-09-12T21:47:25.932Z"
   },
   {
    "duration": 586,
    "start_time": "2022-09-12T21:54:16.432Z"
   },
   {
    "duration": 22,
    "start_time": "2022-09-12T21:58:16.761Z"
   },
   {
    "duration": 25,
    "start_time": "2022-09-12T21:59:20.196Z"
   },
   {
    "duration": 21,
    "start_time": "2022-09-12T22:01:21.125Z"
   },
   {
    "duration": 23,
    "start_time": "2022-09-12T22:01:37.243Z"
   },
   {
    "duration": 23,
    "start_time": "2022-09-12T22:01:58.331Z"
   },
   {
    "duration": 23,
    "start_time": "2022-09-12T22:02:46.607Z"
   },
   {
    "duration": 22,
    "start_time": "2022-09-12T22:03:10.364Z"
   },
   {
    "duration": 710,
    "start_time": "2022-09-12T22:03:27.677Z"
   },
   {
    "duration": 22,
    "start_time": "2022-09-12T22:13:49.612Z"
   },
   {
    "duration": 11,
    "start_time": "2022-09-12T22:16:50.841Z"
   },
   {
    "duration": 180,
    "start_time": "2022-09-12T22:18:08.212Z"
   },
   {
    "duration": 170,
    "start_time": "2022-09-12T22:21:17.396Z"
   },
   {
    "duration": 155,
    "start_time": "2022-09-12T22:21:37.068Z"
   },
   {
    "duration": 159,
    "start_time": "2022-09-12T22:22:13.584Z"
   },
   {
    "duration": 95,
    "start_time": "2022-09-12T22:26:37.907Z"
   },
   {
    "duration": 160,
    "start_time": "2022-09-12T22:27:16.028Z"
   },
   {
    "duration": 10,
    "start_time": "2022-09-12T22:37:18.928Z"
   },
   {
    "duration": 11,
    "start_time": "2022-09-12T22:39:08.754Z"
   },
   {
    "duration": 343,
    "start_time": "2022-09-12T22:39:55.833Z"
   },
   {
    "duration": 164,
    "start_time": "2022-09-12T22:43:06.173Z"
   },
   {
    "duration": 116,
    "start_time": "2022-09-12T22:46:20.981Z"
   },
   {
    "duration": 120,
    "start_time": "2022-09-12T23:02:10.831Z"
   },
   {
    "duration": 331,
    "start_time": "2022-09-12T23:06:24.290Z"
   },
   {
    "duration": 29,
    "start_time": "2022-09-12T23:07:21.569Z"
   },
   {
    "duration": 93,
    "start_time": "2022-09-12T23:09:00.505Z"
   },
   {
    "duration": 265,
    "start_time": "2022-09-12T23:09:31.811Z"
   },
   {
    "duration": 706,
    "start_time": "2022-09-12T23:22:10.208Z"
   },
   {
    "duration": 74,
    "start_time": "2022-09-12T23:22:10.916Z"
   },
   {
    "duration": 29,
    "start_time": "2022-09-12T23:22:10.992Z"
   },
   {
    "duration": 15,
    "start_time": "2022-09-12T23:22:11.023Z"
   },
   {
    "duration": 3,
    "start_time": "2022-09-12T23:22:11.040Z"
   },
   {
    "duration": 23,
    "start_time": "2022-09-12T23:22:11.044Z"
   },
   {
    "duration": 22,
    "start_time": "2022-09-12T23:22:11.090Z"
   },
   {
    "duration": 13,
    "start_time": "2022-09-12T23:22:11.113Z"
   },
   {
    "duration": 8,
    "start_time": "2022-09-12T23:22:11.128Z"
   },
   {
    "duration": 26,
    "start_time": "2022-09-12T23:22:11.138Z"
   },
   {
    "duration": 32,
    "start_time": "2022-09-12T23:22:11.166Z"
   },
   {
    "duration": 15,
    "start_time": "2022-09-12T23:22:11.199Z"
   },
   {
    "duration": 10,
    "start_time": "2022-09-12T23:22:11.216Z"
   },
   {
    "duration": 20,
    "start_time": "2022-09-12T23:22:11.227Z"
   },
   {
    "duration": 9,
    "start_time": "2022-09-12T23:22:11.249Z"
   },
   {
    "duration": 12,
    "start_time": "2022-09-12T23:22:11.289Z"
   },
   {
    "duration": 23,
    "start_time": "2022-09-12T23:22:11.302Z"
   },
   {
    "duration": 210,
    "start_time": "2022-09-12T23:22:11.326Z"
   },
   {
    "duration": 5,
    "start_time": "2022-09-12T23:22:11.537Z"
   },
   {
    "duration": 44,
    "start_time": "2022-09-12T23:22:11.544Z"
   },
   {
    "duration": 5,
    "start_time": "2022-09-12T23:22:11.590Z"
   },
   {
    "duration": 19,
    "start_time": "2022-09-12T23:22:11.597Z"
   },
   {
    "duration": 12,
    "start_time": "2022-09-12T23:22:11.617Z"
   },
   {
    "duration": 24,
    "start_time": "2022-09-12T23:22:11.631Z"
   },
   {
    "duration": 5,
    "start_time": "2022-09-12T23:22:11.656Z"
   },
   {
    "duration": 8,
    "start_time": "2022-09-12T23:22:11.662Z"
   },
   {
    "duration": 24,
    "start_time": "2022-09-12T23:22:11.671Z"
   },
   {
    "duration": 6,
    "start_time": "2022-09-12T23:22:11.699Z"
   },
   {
    "duration": 9,
    "start_time": "2022-09-12T23:22:11.707Z"
   },
   {
    "duration": 9,
    "start_time": "2022-09-12T23:22:11.718Z"
   },
   {
    "duration": 31,
    "start_time": "2022-09-12T23:22:11.729Z"
   },
   {
    "duration": 6,
    "start_time": "2022-09-12T23:22:11.761Z"
   },
   {
    "duration": 6,
    "start_time": "2022-09-12T23:22:11.790Z"
   },
   {
    "duration": 16,
    "start_time": "2022-09-12T23:22:11.799Z"
   },
   {
    "duration": 61,
    "start_time": "2022-09-12T23:22:11.818Z"
   },
   {
    "duration": 19,
    "start_time": "2022-09-12T23:22:11.881Z"
   },
   {
    "duration": 9,
    "start_time": "2022-09-12T23:22:11.901Z"
   },
   {
    "duration": 13,
    "start_time": "2022-09-12T23:22:11.911Z"
   },
   {
    "duration": 388,
    "start_time": "2022-09-12T23:22:11.926Z"
   },
   {
    "duration": 9,
    "start_time": "2022-09-12T23:22:12.316Z"
   },
   {
    "duration": 239,
    "start_time": "2022-09-12T23:22:12.326Z"
   },
   {
    "duration": 26,
    "start_time": "2022-09-12T23:22:12.566Z"
   },
   {
    "duration": 16,
    "start_time": "2022-09-12T23:22:12.594Z"
   },
   {
    "duration": 8,
    "start_time": "2022-09-12T23:22:12.611Z"
   },
   {
    "duration": 308,
    "start_time": "2022-09-12T23:22:12.621Z"
   },
   {
    "duration": 21,
    "start_time": "2022-09-12T23:22:12.930Z"
   },
   {
    "duration": 272,
    "start_time": "2022-09-12T23:22:12.953Z"
   },
   {
    "duration": 9,
    "start_time": "2022-09-12T23:22:13.227Z"
   },
   {
    "duration": 3,
    "start_time": "2022-09-12T23:22:13.238Z"
   },
   {
    "duration": 9,
    "start_time": "2022-09-12T23:22:13.242Z"
   },
   {
    "duration": 9,
    "start_time": "2022-09-12T23:22:13.252Z"
   },
   {
    "duration": 27,
    "start_time": "2022-09-12T23:22:13.263Z"
   },
   {
    "duration": 7,
    "start_time": "2022-09-12T23:22:13.292Z"
   },
   {
    "duration": 7,
    "start_time": "2022-09-12T23:22:13.301Z"
   },
   {
    "duration": 27,
    "start_time": "2022-09-12T23:22:13.310Z"
   },
   {
    "duration": 257,
    "start_time": "2022-09-12T23:22:13.339Z"
   },
   {
    "duration": 15,
    "start_time": "2022-09-12T23:22:13.598Z"
   },
   {
    "duration": 119,
    "start_time": "2022-09-12T23:22:13.614Z"
   },
   {
    "duration": 111,
    "start_time": "2022-09-12T23:22:13.735Z"
   },
   {
    "duration": 113,
    "start_time": "2022-09-12T23:22:13.848Z"
   },
   {
    "duration": 143,
    "start_time": "2022-09-12T23:22:13.962Z"
   },
   {
    "duration": 136,
    "start_time": "2022-09-12T23:22:14.106Z"
   },
   {
    "duration": 7,
    "start_time": "2022-09-12T23:22:14.243Z"
   },
   {
    "duration": 8,
    "start_time": "2022-09-12T23:22:14.251Z"
   },
   {
    "duration": 147,
    "start_time": "2022-09-12T23:22:14.261Z"
   },
   {
    "duration": 130,
    "start_time": "2022-09-12T23:22:14.409Z"
   },
   {
    "duration": 6,
    "start_time": "2022-09-12T23:22:14.540Z"
   },
   {
    "duration": 9,
    "start_time": "2022-09-12T23:22:14.548Z"
   },
   {
    "duration": 207,
    "start_time": "2022-09-12T23:22:14.558Z"
   },
   {
    "duration": 129,
    "start_time": "2022-09-12T23:22:14.767Z"
   },
   {
    "duration": 8,
    "start_time": "2022-09-12T23:22:14.897Z"
   },
   {
    "duration": 10,
    "start_time": "2022-09-12T23:22:14.906Z"
   },
   {
    "duration": 12,
    "start_time": "2022-09-12T23:22:14.917Z"
   },
   {
    "duration": 7,
    "start_time": "2022-09-12T23:22:14.931Z"
   },
   {
    "duration": 7,
    "start_time": "2022-09-12T23:22:14.940Z"
   },
   {
    "duration": 7,
    "start_time": "2022-09-12T23:22:14.949Z"
   },
   {
    "duration": 8,
    "start_time": "2022-09-12T23:22:14.990Z"
   },
   {
    "duration": 9,
    "start_time": "2022-09-12T23:22:14.999Z"
   },
   {
    "duration": 12,
    "start_time": "2022-09-12T23:22:15.010Z"
   },
   {
    "duration": 15,
    "start_time": "2022-09-12T23:22:15.023Z"
   },
   {
    "duration": 8,
    "start_time": "2022-09-12T23:22:15.040Z"
   },
   {
    "duration": 36,
    "start_time": "2022-09-12T23:22:15.053Z"
   },
   {
    "duration": 11,
    "start_time": "2022-09-12T23:22:15.091Z"
   },
   {
    "duration": 9,
    "start_time": "2022-09-12T23:22:15.104Z"
   },
   {
    "duration": 10,
    "start_time": "2022-09-12T23:22:15.115Z"
   },
   {
    "duration": 5,
    "start_time": "2022-09-12T23:22:15.126Z"
   },
   {
    "duration": 203,
    "start_time": "2022-09-12T23:22:15.132Z"
   },
   {
    "duration": 192,
    "start_time": "2022-09-12T23:22:15.337Z"
   },
   {
    "duration": 160,
    "start_time": "2022-09-12T23:22:15.531Z"
   },
   {
    "duration": 172,
    "start_time": "2022-09-12T23:22:15.693Z"
   },
   {
    "duration": 535,
    "start_time": "2022-09-12T23:22:15.867Z"
   },
   {
    "duration": 12,
    "start_time": "2022-09-12T23:22:16.404Z"
   },
   {
    "duration": 123,
    "start_time": "2022-09-12T23:23:48.319Z"
   },
   {
    "duration": 8,
    "start_time": "2022-09-12T23:24:02.956Z"
   },
   {
    "duration": 7,
    "start_time": "2022-09-12T23:24:14.959Z"
   },
   {
    "duration": 140,
    "start_time": "2022-09-12T23:29:01.165Z"
   },
   {
    "duration": 122,
    "start_time": "2022-09-12T23:29:12.165Z"
   },
   {
    "duration": 7,
    "start_time": "2022-09-12T23:29:27.324Z"
   },
   {
    "duration": 7,
    "start_time": "2022-09-12T23:29:37.182Z"
   },
   {
    "duration": 137,
    "start_time": "2022-09-12T23:29:51.341Z"
   },
   {
    "duration": 138,
    "start_time": "2022-09-12T23:30:03.486Z"
   },
   {
    "duration": 11,
    "start_time": "2022-09-12T23:39:14.436Z"
   },
   {
    "duration": 132,
    "start_time": "2022-09-12T23:48:18.596Z"
   },
   {
    "duration": 127,
    "start_time": "2022-09-12T23:49:07.477Z"
   },
   {
    "duration": 7,
    "start_time": "2022-09-12T23:49:20.837Z"
   },
   {
    "duration": 7,
    "start_time": "2022-09-12T23:49:29.286Z"
   },
   {
    "duration": 140,
    "start_time": "2022-09-12T23:49:42.028Z"
   },
   {
    "duration": 126,
    "start_time": "2022-09-12T23:49:50.521Z"
   },
   {
    "duration": 155,
    "start_time": "2022-09-12T23:50:00.069Z"
   },
   {
    "duration": 139,
    "start_time": "2022-09-12T23:50:07.424Z"
   },
   {
    "duration": 7,
    "start_time": "2022-09-12T23:50:52.069Z"
   },
   {
    "duration": 6,
    "start_time": "2022-09-12T23:51:08.941Z"
   },
   {
    "duration": 7,
    "start_time": "2022-09-12T23:52:56.943Z"
   },
   {
    "duration": 8,
    "start_time": "2022-09-12T23:53:12.039Z"
   },
   {
    "duration": 7,
    "start_time": "2022-09-12T23:53:27.175Z"
   },
   {
    "duration": 7,
    "start_time": "2022-09-12T23:53:37.645Z"
   },
   {
    "duration": 8,
    "start_time": "2022-09-12T23:53:59.568Z"
   },
   {
    "duration": 8,
    "start_time": "2022-09-12T23:55:08.952Z"
   },
   {
    "duration": 7,
    "start_time": "2022-09-12T23:55:30.200Z"
   },
   {
    "duration": 7,
    "start_time": "2022-09-12T23:55:47.008Z"
   },
   {
    "duration": 8,
    "start_time": "2022-09-12T23:56:02.353Z"
   },
   {
    "duration": 7,
    "start_time": "2022-09-12T23:56:46.523Z"
   },
   {
    "duration": 7,
    "start_time": "2022-09-12T23:57:03.313Z"
   },
   {
    "duration": 8,
    "start_time": "2022-09-12T23:57:19.385Z"
   },
   {
    "duration": 8,
    "start_time": "2022-09-12T23:57:35.129Z"
   },
   {
    "duration": 14,
    "start_time": "2022-09-12T23:59:39.353Z"
   },
   {
    "duration": 8,
    "start_time": "2022-09-12T23:59:47.601Z"
   },
   {
    "duration": 14,
    "start_time": "2022-09-12T23:59:49.785Z"
   },
   {
    "duration": 2,
    "start_time": "2022-09-13T00:00:22.178Z"
   },
   {
    "duration": 151,
    "start_time": "2022-09-13T00:00:45.599Z"
   },
   {
    "duration": 160,
    "start_time": "2022-09-13T00:01:04.868Z"
   },
   {
    "duration": 140,
    "start_time": "2022-09-13T00:01:46.756Z"
   },
   {
    "duration": 233,
    "start_time": "2022-09-13T00:02:12.558Z"
   },
   {
    "duration": 48,
    "start_time": "2022-09-13T07:14:54.246Z"
   },
   {
    "duration": 806,
    "start_time": "2022-09-13T07:15:11.056Z"
   },
   {
    "duration": 133,
    "start_time": "2022-09-13T07:15:11.865Z"
   },
   {
    "duration": 36,
    "start_time": "2022-09-13T07:15:12.000Z"
   },
   {
    "duration": 19,
    "start_time": "2022-09-13T07:15:12.038Z"
   },
   {
    "duration": 22,
    "start_time": "2022-09-13T07:15:12.059Z"
   },
   {
    "duration": 34,
    "start_time": "2022-09-13T07:15:12.082Z"
   },
   {
    "duration": 46,
    "start_time": "2022-09-13T07:15:12.118Z"
   },
   {
    "duration": 40,
    "start_time": "2022-09-13T07:15:12.166Z"
   },
   {
    "duration": 34,
    "start_time": "2022-09-13T07:15:12.208Z"
   },
   {
    "duration": 29,
    "start_time": "2022-09-13T07:15:12.246Z"
   },
   {
    "duration": 34,
    "start_time": "2022-09-13T07:15:12.277Z"
   },
   {
    "duration": 41,
    "start_time": "2022-09-13T07:15:12.312Z"
   },
   {
    "duration": 23,
    "start_time": "2022-09-13T07:15:12.354Z"
   },
   {
    "duration": 41,
    "start_time": "2022-09-13T07:15:12.378Z"
   },
   {
    "duration": 7,
    "start_time": "2022-09-13T07:15:12.421Z"
   },
   {
    "duration": 39,
    "start_time": "2022-09-13T07:15:12.429Z"
   },
   {
    "duration": 20,
    "start_time": "2022-09-13T07:15:12.470Z"
   },
   {
    "duration": 168,
    "start_time": "2022-09-13T07:15:12.491Z"
   },
   {
    "duration": 5,
    "start_time": "2022-09-13T07:15:12.660Z"
   },
   {
    "duration": 23,
    "start_time": "2022-09-13T07:15:12.666Z"
   },
   {
    "duration": 5,
    "start_time": "2022-09-13T07:15:12.690Z"
   },
   {
    "duration": 5,
    "start_time": "2022-09-13T07:15:12.709Z"
   },
   {
    "duration": 6,
    "start_time": "2022-09-13T07:15:12.715Z"
   },
   {
    "duration": 34,
    "start_time": "2022-09-13T07:15:12.723Z"
   },
   {
    "duration": 4,
    "start_time": "2022-09-13T07:15:12.759Z"
   },
   {
    "duration": 6,
    "start_time": "2022-09-13T07:15:12.764Z"
   },
   {
    "duration": 12,
    "start_time": "2022-09-13T07:15:12.771Z"
   },
   {
    "duration": 22,
    "start_time": "2022-09-13T07:15:12.788Z"
   },
   {
    "duration": 7,
    "start_time": "2022-09-13T07:15:12.812Z"
   },
   {
    "duration": 8,
    "start_time": "2022-09-13T07:15:12.820Z"
   },
   {
    "duration": 28,
    "start_time": "2022-09-13T07:15:12.830Z"
   },
   {
    "duration": 5,
    "start_time": "2022-09-13T07:15:12.860Z"
   },
   {
    "duration": 9,
    "start_time": "2022-09-13T07:15:12.867Z"
   },
   {
    "duration": 31,
    "start_time": "2022-09-13T07:15:12.878Z"
   },
   {
    "duration": 37,
    "start_time": "2022-09-13T07:15:12.911Z"
   },
   {
    "duration": 9,
    "start_time": "2022-09-13T07:15:12.950Z"
   },
   {
    "duration": 9,
    "start_time": "2022-09-13T07:15:12.961Z"
   },
   {
    "duration": 39,
    "start_time": "2022-09-13T07:15:12.971Z"
   },
   {
    "duration": 322,
    "start_time": "2022-09-13T07:15:13.011Z"
   },
   {
    "duration": 7,
    "start_time": "2022-09-13T07:15:13.334Z"
   },
   {
    "duration": 219,
    "start_time": "2022-09-13T07:15:13.342Z"
   },
   {
    "duration": 14,
    "start_time": "2022-09-13T07:15:13.562Z"
   },
   {
    "duration": 31,
    "start_time": "2022-09-13T07:15:13.578Z"
   },
   {
    "duration": 7,
    "start_time": "2022-09-13T07:15:13.610Z"
   },
   {
    "duration": 281,
    "start_time": "2022-09-13T07:15:13.619Z"
   },
   {
    "duration": 20,
    "start_time": "2022-09-13T07:15:13.902Z"
   },
   {
    "duration": 259,
    "start_time": "2022-09-13T07:15:13.924Z"
   },
   {
    "duration": 7,
    "start_time": "2022-09-13T07:15:14.185Z"
   },
   {
    "duration": 6,
    "start_time": "2022-09-13T07:15:14.193Z"
   },
   {
    "duration": 5,
    "start_time": "2022-09-13T07:15:14.209Z"
   },
   {
    "duration": 8,
    "start_time": "2022-09-13T07:15:14.215Z"
   },
   {
    "duration": 11,
    "start_time": "2022-09-13T07:15:14.225Z"
   },
   {
    "duration": 10,
    "start_time": "2022-09-13T07:15:14.237Z"
   },
   {
    "duration": 9,
    "start_time": "2022-09-13T07:15:14.249Z"
   },
   {
    "duration": 35,
    "start_time": "2022-09-13T07:15:14.259Z"
   },
   {
    "duration": 259,
    "start_time": "2022-09-13T07:15:14.296Z"
   },
   {
    "duration": 16,
    "start_time": "2022-09-13T07:15:14.557Z"
   },
   {
    "duration": 125,
    "start_time": "2022-09-13T07:15:14.575Z"
   },
   {
    "duration": 108,
    "start_time": "2022-09-13T07:15:14.701Z"
   },
   {
    "duration": 86,
    "start_time": "2022-09-13T07:15:14.810Z"
   },
   {
    "duration": 142,
    "start_time": "2022-09-13T07:15:14.909Z"
   },
   {
    "duration": 128,
    "start_time": "2022-09-13T07:15:15.053Z"
   },
   {
    "duration": 6,
    "start_time": "2022-09-13T07:15:15.183Z"
   },
   {
    "duration": 29,
    "start_time": "2022-09-13T07:15:15.190Z"
   },
   {
    "duration": 138,
    "start_time": "2022-09-13T07:15:15.221Z"
   },
   {
    "duration": 130,
    "start_time": "2022-09-13T07:15:15.361Z"
   },
   {
    "duration": 17,
    "start_time": "2022-09-13T07:15:15.492Z"
   },
   {
    "duration": 7,
    "start_time": "2022-09-13T07:15:15.510Z"
   },
   {
    "duration": 55,
    "start_time": "2022-09-13T07:15:15.518Z"
   },
   {
    "duration": 0,
    "start_time": "2022-09-13T07:15:15.575Z"
   },
   {
    "duration": 0,
    "start_time": "2022-09-13T07:15:15.576Z"
   },
   {
    "duration": 0,
    "start_time": "2022-09-13T07:15:15.578Z"
   },
   {
    "duration": 0,
    "start_time": "2022-09-13T07:15:15.579Z"
   },
   {
    "duration": 0,
    "start_time": "2022-09-13T07:15:15.580Z"
   },
   {
    "duration": 0,
    "start_time": "2022-09-13T07:15:15.582Z"
   },
   {
    "duration": 0,
    "start_time": "2022-09-13T07:15:15.583Z"
   },
   {
    "duration": 0,
    "start_time": "2022-09-13T07:15:15.584Z"
   },
   {
    "duration": 0,
    "start_time": "2022-09-13T07:15:15.586Z"
   },
   {
    "duration": 0,
    "start_time": "2022-09-13T07:15:15.587Z"
   },
   {
    "duration": 0,
    "start_time": "2022-09-13T07:15:15.589Z"
   },
   {
    "duration": 0,
    "start_time": "2022-09-13T07:15:15.589Z"
   },
   {
    "duration": 0,
    "start_time": "2022-09-13T07:15:15.590Z"
   },
   {
    "duration": 0,
    "start_time": "2022-09-13T07:15:15.592Z"
   },
   {
    "duration": 0,
    "start_time": "2022-09-13T07:15:15.593Z"
   },
   {
    "duration": 0,
    "start_time": "2022-09-13T07:15:15.594Z"
   },
   {
    "duration": 0,
    "start_time": "2022-09-13T07:15:15.652Z"
   },
   {
    "duration": 0,
    "start_time": "2022-09-13T07:15:15.653Z"
   },
   {
    "duration": 0,
    "start_time": "2022-09-13T07:15:15.655Z"
   },
   {
    "duration": 0,
    "start_time": "2022-09-13T07:15:15.656Z"
   },
   {
    "duration": 0,
    "start_time": "2022-09-13T07:15:15.658Z"
   },
   {
    "duration": 0,
    "start_time": "2022-09-13T07:15:15.659Z"
   },
   {
    "duration": 0,
    "start_time": "2022-09-13T07:15:15.660Z"
   },
   {
    "duration": 0,
    "start_time": "2022-09-13T07:15:15.661Z"
   },
   {
    "duration": 211,
    "start_time": "2022-09-13T07:16:28.279Z"
   },
   {
    "duration": 9,
    "start_time": "2022-09-13T07:19:43.615Z"
   },
   {
    "duration": 7,
    "start_time": "2022-09-13T07:19:49.473Z"
   },
   {
    "duration": 7,
    "start_time": "2022-09-13T07:19:59.137Z"
   },
   {
    "duration": 7,
    "start_time": "2022-09-13T07:20:12.816Z"
   },
   {
    "duration": 7,
    "start_time": "2022-09-13T07:21:01.392Z"
   },
   {
    "duration": 7,
    "start_time": "2022-09-13T07:22:17.461Z"
   },
   {
    "duration": 8,
    "start_time": "2022-09-13T07:22:21.616Z"
   },
   {
    "duration": 132,
    "start_time": "2022-09-13T07:23:13.693Z"
   },
   {
    "duration": 128,
    "start_time": "2022-09-13T07:23:20.609Z"
   },
   {
    "duration": 132,
    "start_time": "2022-09-13T07:27:10.130Z"
   },
   {
    "duration": 144,
    "start_time": "2022-09-13T07:27:14.658Z"
   },
   {
    "duration": 129,
    "start_time": "2022-09-13T07:27:18.265Z"
   },
   {
    "duration": 125,
    "start_time": "2022-09-13T07:27:22.554Z"
   },
   {
    "duration": 8,
    "start_time": "2022-09-13T07:30:36.556Z"
   },
   {
    "duration": 21,
    "start_time": "2022-09-13T07:31:40.595Z"
   },
   {
    "duration": 322,
    "start_time": "2022-09-13T07:32:55.140Z"
   },
   {
    "duration": 211,
    "start_time": "2022-09-13T07:33:54.716Z"
   },
   {
    "duration": 19,
    "start_time": "2022-09-13T07:34:37.779Z"
   },
   {
    "duration": 210,
    "start_time": "2022-09-13T07:35:31.875Z"
   },
   {
    "duration": 236,
    "start_time": "2022-09-13T07:36:51.469Z"
   },
   {
    "duration": 7,
    "start_time": "2022-09-13T07:37:14.087Z"
   },
   {
    "duration": 7,
    "start_time": "2022-09-13T07:37:19.366Z"
   },
   {
    "duration": 7,
    "start_time": "2022-09-13T07:37:24.020Z"
   },
   {
    "duration": 7,
    "start_time": "2022-09-13T07:38:26.445Z"
   },
   {
    "duration": 6,
    "start_time": "2022-09-13T07:44:12.790Z"
   },
   {
    "duration": 8,
    "start_time": "2022-09-13T07:44:18.060Z"
   },
   {
    "duration": 8,
    "start_time": "2022-09-13T07:44:55.677Z"
   },
   {
    "duration": 9,
    "start_time": "2022-09-13T07:44:58.105Z"
   },
   {
    "duration": 15,
    "start_time": "2022-09-13T07:46:58.403Z"
   },
   {
    "duration": 5,
    "start_time": "2022-09-13T08:22:51.741Z"
   },
   {
    "duration": 9,
    "start_time": "2022-09-13T08:22:55.811Z"
   },
   {
    "duration": 500,
    "start_time": "2022-09-13T08:23:29.012Z"
   },
   {
    "duration": 6,
    "start_time": "2022-09-13T08:23:58.422Z"
   },
   {
    "duration": 5,
    "start_time": "2022-09-13T08:24:00.800Z"
   },
   {
    "duration": 8,
    "start_time": "2022-09-13T08:25:10.875Z"
   },
   {
    "duration": 8,
    "start_time": "2022-09-13T08:27:10.562Z"
   },
   {
    "duration": 8,
    "start_time": "2022-09-13T08:27:46.912Z"
   },
   {
    "duration": 7,
    "start_time": "2022-09-13T08:27:53.044Z"
   },
   {
    "duration": 23,
    "start_time": "2022-09-13T08:29:35.842Z"
   },
   {
    "duration": 11,
    "start_time": "2022-09-13T08:31:01.674Z"
   },
   {
    "duration": 11,
    "start_time": "2022-09-13T08:32:29.810Z"
   },
   {
    "duration": 30,
    "start_time": "2022-09-13T08:33:00.812Z"
   },
   {
    "duration": 24,
    "start_time": "2022-09-13T08:34:38.593Z"
   },
   {
    "duration": 37,
    "start_time": "2022-09-13T08:35:46.309Z"
   },
   {
    "duration": 36,
    "start_time": "2022-09-13T08:42:08.978Z"
   },
   {
    "duration": 13,
    "start_time": "2022-09-13T08:42:32.264Z"
   },
   {
    "duration": 32,
    "start_time": "2022-09-13T08:43:34.596Z"
   },
   {
    "duration": 12,
    "start_time": "2022-09-13T08:44:58.021Z"
   },
   {
    "duration": 5,
    "start_time": "2022-09-13T08:45:11.688Z"
   },
   {
    "duration": 12,
    "start_time": "2022-09-13T08:45:15.029Z"
   },
   {
    "duration": 26,
    "start_time": "2022-09-13T08:48:00.996Z"
   },
   {
    "duration": 37,
    "start_time": "2022-09-13T08:49:29.207Z"
   },
   {
    "duration": 12,
    "start_time": "2022-09-13T08:49:57.429Z"
   },
   {
    "duration": 660,
    "start_time": "2022-09-13T08:50:31.244Z"
   },
   {
    "duration": 69,
    "start_time": "2022-09-13T08:50:31.905Z"
   },
   {
    "duration": 26,
    "start_time": "2022-09-13T08:50:31.976Z"
   },
   {
    "duration": 15,
    "start_time": "2022-09-13T08:50:32.004Z"
   },
   {
    "duration": 18,
    "start_time": "2022-09-13T08:50:32.021Z"
   },
   {
    "duration": 36,
    "start_time": "2022-09-13T08:50:32.041Z"
   },
   {
    "duration": 38,
    "start_time": "2022-09-13T08:50:32.079Z"
   },
   {
    "duration": 16,
    "start_time": "2022-09-13T08:50:32.118Z"
   },
   {
    "duration": 24,
    "start_time": "2022-09-13T08:50:32.136Z"
   },
   {
    "duration": 17,
    "start_time": "2022-09-13T08:50:32.163Z"
   },
   {
    "duration": 17,
    "start_time": "2022-09-13T08:50:32.182Z"
   },
   {
    "duration": 39,
    "start_time": "2022-09-13T08:50:32.201Z"
   },
   {
    "duration": 26,
    "start_time": "2022-09-13T08:50:32.242Z"
   },
   {
    "duration": 50,
    "start_time": "2022-09-13T08:50:32.270Z"
   },
   {
    "duration": 9,
    "start_time": "2022-09-13T08:50:32.322Z"
   },
   {
    "duration": 34,
    "start_time": "2022-09-13T08:50:32.333Z"
   },
   {
    "duration": 31,
    "start_time": "2022-09-13T08:50:32.369Z"
   },
   {
    "duration": 206,
    "start_time": "2022-09-13T08:50:32.401Z"
   },
   {
    "duration": 5,
    "start_time": "2022-09-13T08:50:32.608Z"
   },
   {
    "duration": 38,
    "start_time": "2022-09-13T08:50:32.614Z"
   },
   {
    "duration": 15,
    "start_time": "2022-09-13T08:50:32.654Z"
   },
   {
    "duration": 31,
    "start_time": "2022-09-13T08:50:32.671Z"
   },
   {
    "duration": 32,
    "start_time": "2022-09-13T08:50:32.704Z"
   },
   {
    "duration": 53,
    "start_time": "2022-09-13T08:50:32.738Z"
   },
   {
    "duration": 6,
    "start_time": "2022-09-13T08:50:32.793Z"
   },
   {
    "duration": 19,
    "start_time": "2022-09-13T08:50:32.800Z"
   },
   {
    "duration": 25,
    "start_time": "2022-09-13T08:50:32.824Z"
   },
   {
    "duration": 14,
    "start_time": "2022-09-13T08:50:32.853Z"
   },
   {
    "duration": 21,
    "start_time": "2022-09-13T08:50:32.869Z"
   },
   {
    "duration": 22,
    "start_time": "2022-09-13T08:50:32.891Z"
   },
   {
    "duration": 32,
    "start_time": "2022-09-13T08:50:32.916Z"
   },
   {
    "duration": 6,
    "start_time": "2022-09-13T08:50:32.949Z"
   },
   {
    "duration": 18,
    "start_time": "2022-09-13T08:50:32.957Z"
   },
   {
    "duration": 24,
    "start_time": "2022-09-13T08:50:32.977Z"
   },
   {
    "duration": 54,
    "start_time": "2022-09-13T08:50:33.003Z"
   },
   {
    "duration": 10,
    "start_time": "2022-09-13T08:50:33.059Z"
   },
   {
    "duration": 22,
    "start_time": "2022-09-13T08:50:33.070Z"
   },
   {
    "duration": 13,
    "start_time": "2022-09-13T08:50:33.094Z"
   },
   {
    "duration": 330,
    "start_time": "2022-09-13T08:50:33.109Z"
   },
   {
    "duration": 9,
    "start_time": "2022-09-13T08:50:33.440Z"
   },
   {
    "duration": 232,
    "start_time": "2022-09-13T08:50:33.451Z"
   },
   {
    "duration": 25,
    "start_time": "2022-09-13T08:50:33.685Z"
   },
   {
    "duration": 15,
    "start_time": "2022-09-13T08:50:33.713Z"
   },
   {
    "duration": 13,
    "start_time": "2022-09-13T08:50:33.730Z"
   },
   {
    "duration": 295,
    "start_time": "2022-09-13T08:50:33.745Z"
   },
   {
    "duration": 22,
    "start_time": "2022-09-13T08:50:34.042Z"
   },
   {
    "duration": 264,
    "start_time": "2022-09-13T08:50:34.065Z"
   },
   {
    "duration": 9,
    "start_time": "2022-09-13T08:50:34.331Z"
   },
   {
    "duration": 28,
    "start_time": "2022-09-13T08:50:34.341Z"
   },
   {
    "duration": 20,
    "start_time": "2022-09-13T08:50:34.371Z"
   },
   {
    "duration": 31,
    "start_time": "2022-09-13T08:50:34.393Z"
   },
   {
    "duration": 18,
    "start_time": "2022-09-13T08:50:34.426Z"
   },
   {
    "duration": 28,
    "start_time": "2022-09-13T08:50:34.446Z"
   },
   {
    "duration": 23,
    "start_time": "2022-09-13T08:50:34.476Z"
   },
   {
    "duration": 74,
    "start_time": "2022-09-13T08:50:34.501Z"
   },
   {
    "duration": 256,
    "start_time": "2022-09-13T08:50:34.578Z"
   },
   {
    "duration": 13,
    "start_time": "2022-09-13T08:50:34.836Z"
   },
   {
    "duration": 143,
    "start_time": "2022-09-13T08:50:34.850Z"
   },
   {
    "duration": 119,
    "start_time": "2022-09-13T08:50:34.995Z"
   },
   {
    "duration": 101,
    "start_time": "2022-09-13T08:50:35.115Z"
   },
   {
    "duration": 148,
    "start_time": "2022-09-13T08:50:35.218Z"
   },
   {
    "duration": 145,
    "start_time": "2022-09-13T08:50:35.369Z"
   },
   {
    "duration": 8,
    "start_time": "2022-09-13T08:50:35.516Z"
   },
   {
    "duration": 42,
    "start_time": "2022-09-13T08:50:35.526Z"
   },
   {
    "duration": 147,
    "start_time": "2022-09-13T08:50:35.570Z"
   },
   {
    "duration": 151,
    "start_time": "2022-09-13T08:50:35.719Z"
   },
   {
    "duration": 7,
    "start_time": "2022-09-13T08:50:35.872Z"
   },
   {
    "duration": 10,
    "start_time": "2022-09-13T08:50:35.881Z"
   },
   {
    "duration": 213,
    "start_time": "2022-09-13T08:50:35.909Z"
   },
   {
    "duration": 191,
    "start_time": "2022-09-13T08:50:36.124Z"
   },
   {
    "duration": 8,
    "start_time": "2022-09-13T08:50:36.317Z"
   },
   {
    "duration": 12,
    "start_time": "2022-09-13T08:50:36.327Z"
   },
   {
    "duration": 12,
    "start_time": "2022-09-13T08:50:36.341Z"
   },
   {
    "duration": 7,
    "start_time": "2022-09-13T08:50:36.355Z"
   },
   {
    "duration": 9,
    "start_time": "2022-09-13T08:50:36.363Z"
   },
   {
    "duration": 37,
    "start_time": "2022-09-13T08:50:36.373Z"
   },
   {
    "duration": 7,
    "start_time": "2022-09-13T08:50:36.412Z"
   },
   {
    "duration": 21,
    "start_time": "2022-09-13T08:50:36.421Z"
   },
   {
    "duration": 294,
    "start_time": "2022-09-13T08:50:36.444Z"
   },
   {
    "duration": 217,
    "start_time": "2022-09-13T08:50:36.740Z"
   },
   {
    "duration": 0,
    "start_time": "2022-09-13T08:50:36.960Z"
   },
   {
    "duration": 0,
    "start_time": "2022-09-13T08:50:36.962Z"
   },
   {
    "duration": 0,
    "start_time": "2022-09-13T08:50:36.963Z"
   },
   {
    "duration": 0,
    "start_time": "2022-09-13T08:50:36.965Z"
   },
   {
    "duration": 0,
    "start_time": "2022-09-13T08:50:36.966Z"
   },
   {
    "duration": 0,
    "start_time": "2022-09-13T08:50:36.968Z"
   },
   {
    "duration": 0,
    "start_time": "2022-09-13T08:50:36.969Z"
   },
   {
    "duration": 0,
    "start_time": "2022-09-13T08:50:36.971Z"
   },
   {
    "duration": 0,
    "start_time": "2022-09-13T08:50:36.972Z"
   },
   {
    "duration": 0,
    "start_time": "2022-09-13T08:50:36.973Z"
   },
   {
    "duration": 0,
    "start_time": "2022-09-13T08:50:36.974Z"
   },
   {
    "duration": 1,
    "start_time": "2022-09-13T08:50:36.975Z"
   },
   {
    "duration": 0,
    "start_time": "2022-09-13T08:50:36.977Z"
   },
   {
    "duration": 0,
    "start_time": "2022-09-13T08:50:36.978Z"
   },
   {
    "duration": 0,
    "start_time": "2022-09-13T08:50:36.980Z"
   },
   {
    "duration": 0,
    "start_time": "2022-09-13T08:50:36.981Z"
   },
   {
    "duration": 0,
    "start_time": "2022-09-13T08:50:36.983Z"
   },
   {
    "duration": 0,
    "start_time": "2022-09-13T08:50:36.984Z"
   },
   {
    "duration": 0,
    "start_time": "2022-09-13T08:50:36.986Z"
   },
   {
    "duration": 40,
    "start_time": "2022-09-13T08:50:39.715Z"
   },
   {
    "duration": 590,
    "start_time": "2022-09-13T08:50:55.916Z"
   },
   {
    "duration": 4,
    "start_time": "2022-09-13T08:51:19.336Z"
   },
   {
    "duration": 6,
    "start_time": "2022-09-13T08:51:41.790Z"
   },
   {
    "duration": 12,
    "start_time": "2022-09-13T08:52:35.184Z"
   },
   {
    "duration": 15,
    "start_time": "2022-09-13T08:55:50.376Z"
   },
   {
    "duration": 39,
    "start_time": "2022-09-13T08:56:57.959Z"
   },
   {
    "duration": 19,
    "start_time": "2022-09-13T08:57:59.829Z"
   },
   {
    "duration": 12,
    "start_time": "2022-09-13T08:58:55.874Z"
   },
   {
    "duration": 12,
    "start_time": "2022-09-13T09:01:08.138Z"
   },
   {
    "duration": 11,
    "start_time": "2022-09-13T09:02:32.587Z"
   },
   {
    "duration": 10,
    "start_time": "2022-09-13T09:03:29.418Z"
   },
   {
    "duration": 13,
    "start_time": "2022-09-13T09:04:21.731Z"
   },
   {
    "duration": 11,
    "start_time": "2022-09-13T09:05:04.130Z"
   },
   {
    "duration": 20,
    "start_time": "2022-09-13T09:05:52.170Z"
   },
   {
    "duration": 19,
    "start_time": "2022-09-13T09:06:14.195Z"
   },
   {
    "duration": 19,
    "start_time": "2022-09-13T09:06:58.811Z"
   },
   {
    "duration": 12,
    "start_time": "2022-09-13T09:09:09.283Z"
   },
   {
    "duration": 29,
    "start_time": "2022-09-13T09:10:13.548Z"
   },
   {
    "duration": 17,
    "start_time": "2022-09-13T09:10:27.338Z"
   },
   {
    "duration": 13,
    "start_time": "2022-09-13T09:10:58.592Z"
   },
   {
    "duration": 27,
    "start_time": "2022-09-13T09:11:59.604Z"
   },
   {
    "duration": 19,
    "start_time": "2022-09-13T09:20:39.269Z"
   },
   {
    "duration": 78,
    "start_time": "2022-09-13T09:26:09.862Z"
   },
   {
    "duration": 19,
    "start_time": "2022-09-13T09:26:19.237Z"
   },
   {
    "duration": 11,
    "start_time": "2022-09-13T09:28:12.060Z"
   },
   {
    "duration": 11,
    "start_time": "2022-09-13T09:28:56.958Z"
   },
   {
    "duration": 10,
    "start_time": "2022-09-13T09:30:13.404Z"
   },
   {
    "duration": 19,
    "start_time": "2022-09-13T09:31:25.310Z"
   },
   {
    "duration": 16,
    "start_time": "2022-09-13T09:32:43.896Z"
   },
   {
    "duration": 11,
    "start_time": "2022-09-13T09:33:09.897Z"
   },
   {
    "duration": 11,
    "start_time": "2022-09-13T09:33:58.016Z"
   },
   {
    "duration": 14,
    "start_time": "2022-09-13T09:35:17.529Z"
   },
   {
    "duration": 13,
    "start_time": "2022-09-13T09:35:30.369Z"
   },
   {
    "duration": 14,
    "start_time": "2022-09-13T09:36:23.880Z"
   },
   {
    "duration": 48,
    "start_time": "2022-09-13T09:37:29.083Z"
   },
   {
    "duration": 15,
    "start_time": "2022-09-13T09:38:51.707Z"
   },
   {
    "duration": 12,
    "start_time": "2022-09-13T09:39:18.680Z"
   },
   {
    "duration": 14,
    "start_time": "2022-09-13T09:39:55.596Z"
   },
   {
    "duration": 20,
    "start_time": "2022-09-13T09:40:20.736Z"
   },
   {
    "duration": 20,
    "start_time": "2022-09-13T09:40:42.104Z"
   },
   {
    "duration": 22,
    "start_time": "2022-09-13T09:41:01.163Z"
   },
   {
    "duration": 14,
    "start_time": "2022-09-13T09:41:41.849Z"
   },
   {
    "duration": 11,
    "start_time": "2022-09-13T09:42:32.627Z"
   },
   {
    "duration": 14,
    "start_time": "2022-09-13T09:42:39.624Z"
   },
   {
    "duration": 15,
    "start_time": "2022-09-13T09:43:30.427Z"
   },
   {
    "duration": 15,
    "start_time": "2022-09-13T09:44:00.371Z"
   },
   {
    "duration": 12,
    "start_time": "2022-09-13T09:44:11.188Z"
   },
   {
    "duration": 13,
    "start_time": "2022-09-13T09:44:29.097Z"
   },
   {
    "duration": 12,
    "start_time": "2022-09-13T09:44:53.962Z"
   },
   {
    "duration": 15,
    "start_time": "2022-09-13T09:45:39.594Z"
   },
   {
    "duration": 15,
    "start_time": "2022-09-13T09:46:09.379Z"
   },
   {
    "duration": 16,
    "start_time": "2022-09-13T09:51:20.451Z"
   },
   {
    "duration": 13,
    "start_time": "2022-09-13T10:03:51.726Z"
   },
   {
    "duration": 26,
    "start_time": "2022-09-13T10:08:35.216Z"
   },
   {
    "duration": 25,
    "start_time": "2022-09-13T10:08:52.880Z"
   },
   {
    "duration": 703,
    "start_time": "2022-09-13T10:10:22.202Z"
   },
   {
    "duration": 68,
    "start_time": "2022-09-13T10:10:22.906Z"
   },
   {
    "duration": 25,
    "start_time": "2022-09-13T10:10:22.976Z"
   },
   {
    "duration": 13,
    "start_time": "2022-09-13T10:10:23.003Z"
   },
   {
    "duration": 4,
    "start_time": "2022-09-13T10:10:23.018Z"
   },
   {
    "duration": 23,
    "start_time": "2022-09-13T10:10:23.023Z"
   },
   {
    "duration": 22,
    "start_time": "2022-09-13T10:10:23.047Z"
   },
   {
    "duration": 11,
    "start_time": "2022-09-13T10:10:23.071Z"
   },
   {
    "duration": 27,
    "start_time": "2022-09-13T10:10:23.083Z"
   },
   {
    "duration": 12,
    "start_time": "2022-09-13T10:10:23.112Z"
   },
   {
    "duration": 15,
    "start_time": "2022-09-13T10:10:23.125Z"
   },
   {
    "duration": 12,
    "start_time": "2022-09-13T10:10:23.142Z"
   },
   {
    "duration": 8,
    "start_time": "2022-09-13T10:10:23.156Z"
   },
   {
    "duration": 45,
    "start_time": "2022-09-13T10:10:23.165Z"
   },
   {
    "duration": 7,
    "start_time": "2022-09-13T10:10:23.212Z"
   },
   {
    "duration": 16,
    "start_time": "2022-09-13T10:10:23.221Z"
   },
   {
    "duration": 27,
    "start_time": "2022-09-13T10:10:23.238Z"
   },
   {
    "duration": 220,
    "start_time": "2022-09-13T10:10:23.266Z"
   },
   {
    "duration": 5,
    "start_time": "2022-09-13T10:10:23.487Z"
   },
   {
    "duration": 34,
    "start_time": "2022-09-13T10:10:23.493Z"
   },
   {
    "duration": 5,
    "start_time": "2022-09-13T10:10:23.528Z"
   },
   {
    "duration": 8,
    "start_time": "2022-09-13T10:10:23.534Z"
   },
   {
    "duration": 5,
    "start_time": "2022-09-13T10:10:23.544Z"
   },
   {
    "duration": 23,
    "start_time": "2022-09-13T10:10:23.551Z"
   },
   {
    "duration": 4,
    "start_time": "2022-09-13T10:10:23.576Z"
   },
   {
    "duration": 4,
    "start_time": "2022-09-13T10:10:23.609Z"
   },
   {
    "duration": 7,
    "start_time": "2022-09-13T10:10:23.615Z"
   },
   {
    "duration": 5,
    "start_time": "2022-09-13T10:10:23.627Z"
   },
   {
    "duration": 6,
    "start_time": "2022-09-13T10:10:23.634Z"
   },
   {
    "duration": 15,
    "start_time": "2022-09-13T10:10:23.642Z"
   },
   {
    "duration": 57,
    "start_time": "2022-09-13T10:10:23.658Z"
   },
   {
    "duration": 6,
    "start_time": "2022-09-13T10:10:23.716Z"
   },
   {
    "duration": 10,
    "start_time": "2022-09-13T10:10:23.723Z"
   },
   {
    "duration": 10,
    "start_time": "2022-09-13T10:10:23.735Z"
   },
   {
    "duration": 38,
    "start_time": "2022-09-13T10:10:23.747Z"
   },
   {
    "duration": 28,
    "start_time": "2022-09-13T10:10:23.786Z"
   },
   {
    "duration": 8,
    "start_time": "2022-09-13T10:10:23.815Z"
   },
   {
    "duration": 14,
    "start_time": "2022-09-13T10:10:23.824Z"
   },
   {
    "duration": 333,
    "start_time": "2022-09-13T10:10:23.839Z"
   },
   {
    "duration": 7,
    "start_time": "2022-09-13T10:10:24.174Z"
   },
   {
    "duration": 226,
    "start_time": "2022-09-13T10:10:24.183Z"
   },
   {
    "duration": 21,
    "start_time": "2022-09-13T10:10:24.410Z"
   },
   {
    "duration": 17,
    "start_time": "2022-09-13T10:10:24.433Z"
   },
   {
    "duration": 15,
    "start_time": "2022-09-13T10:10:24.454Z"
   },
   {
    "duration": 317,
    "start_time": "2022-09-13T10:10:24.471Z"
   },
   {
    "duration": 23,
    "start_time": "2022-09-13T10:10:24.789Z"
   },
   {
    "duration": 264,
    "start_time": "2022-09-13T10:10:24.813Z"
   },
   {
    "duration": 6,
    "start_time": "2022-09-13T10:10:25.079Z"
   },
   {
    "duration": 9,
    "start_time": "2022-09-13T10:10:25.087Z"
   },
   {
    "duration": 18,
    "start_time": "2022-09-13T10:10:25.097Z"
   },
   {
    "duration": 6,
    "start_time": "2022-09-13T10:10:25.116Z"
   },
   {
    "duration": 9,
    "start_time": "2022-09-13T10:10:25.123Z"
   },
   {
    "duration": 7,
    "start_time": "2022-09-13T10:10:25.133Z"
   },
   {
    "duration": 5,
    "start_time": "2022-09-13T10:10:25.142Z"
   },
   {
    "duration": 25,
    "start_time": "2022-09-13T10:10:25.149Z"
   },
   {
    "duration": 261,
    "start_time": "2022-09-13T10:10:25.176Z"
   },
   {
    "duration": 14,
    "start_time": "2022-09-13T10:10:25.438Z"
   },
   {
    "duration": 112,
    "start_time": "2022-09-13T10:10:25.453Z"
   },
   {
    "duration": 102,
    "start_time": "2022-09-13T10:10:25.567Z"
   },
   {
    "duration": 113,
    "start_time": "2022-09-13T10:10:25.671Z"
   },
   {
    "duration": 144,
    "start_time": "2022-09-13T10:10:25.786Z"
   },
   {
    "duration": 127,
    "start_time": "2022-09-13T10:10:25.932Z"
   },
   {
    "duration": 8,
    "start_time": "2022-09-13T10:10:26.060Z"
   },
   {
    "duration": 10,
    "start_time": "2022-09-13T10:10:26.070Z"
   },
   {
    "duration": 153,
    "start_time": "2022-09-13T10:10:26.081Z"
   },
   {
    "duration": 138,
    "start_time": "2022-09-13T10:10:26.236Z"
   },
   {
    "duration": 8,
    "start_time": "2022-09-13T10:10:26.376Z"
   },
   {
    "duration": 23,
    "start_time": "2022-09-13T10:10:26.385Z"
   },
   {
    "duration": 206,
    "start_time": "2022-09-13T10:10:26.410Z"
   },
   {
    "duration": 135,
    "start_time": "2022-09-13T10:10:26.617Z"
   },
   {
    "duration": 7,
    "start_time": "2022-09-13T10:10:26.753Z"
   },
   {
    "duration": 11,
    "start_time": "2022-09-13T10:10:26.761Z"
   },
   {
    "duration": 9,
    "start_time": "2022-09-13T10:10:26.774Z"
   },
   {
    "duration": 30,
    "start_time": "2022-09-13T10:10:26.785Z"
   },
   {
    "duration": 8,
    "start_time": "2022-09-13T10:10:26.817Z"
   },
   {
    "duration": 8,
    "start_time": "2022-09-13T10:10:26.826Z"
   },
   {
    "duration": 10,
    "start_time": "2022-09-13T10:10:26.835Z"
   },
   {
    "duration": 99,
    "start_time": "2022-09-13T10:10:26.847Z"
   },
   {
    "duration": 0,
    "start_time": "2022-09-13T10:10:26.948Z"
   },
   {
    "duration": 0,
    "start_time": "2022-09-13T10:10:26.949Z"
   },
   {
    "duration": 0,
    "start_time": "2022-09-13T10:10:26.950Z"
   },
   {
    "duration": 0,
    "start_time": "2022-09-13T10:10:26.951Z"
   },
   {
    "duration": 0,
    "start_time": "2022-09-13T10:10:26.952Z"
   },
   {
    "duration": 0,
    "start_time": "2022-09-13T10:10:26.954Z"
   },
   {
    "duration": 0,
    "start_time": "2022-09-13T10:10:26.955Z"
   },
   {
    "duration": 0,
    "start_time": "2022-09-13T10:10:26.956Z"
   },
   {
    "duration": 0,
    "start_time": "2022-09-13T10:10:26.957Z"
   },
   {
    "duration": 0,
    "start_time": "2022-09-13T10:10:26.958Z"
   },
   {
    "duration": 0,
    "start_time": "2022-09-13T10:10:26.959Z"
   },
   {
    "duration": 0,
    "start_time": "2022-09-13T10:10:26.960Z"
   },
   {
    "duration": 0,
    "start_time": "2022-09-13T10:10:26.961Z"
   },
   {
    "duration": 0,
    "start_time": "2022-09-13T10:10:26.962Z"
   },
   {
    "duration": 0,
    "start_time": "2022-09-13T10:10:26.963Z"
   },
   {
    "duration": 0,
    "start_time": "2022-09-13T10:10:26.964Z"
   },
   {
    "duration": 0,
    "start_time": "2022-09-13T10:10:26.965Z"
   },
   {
    "duration": 0,
    "start_time": "2022-09-13T10:10:26.966Z"
   },
   {
    "duration": 0,
    "start_time": "2022-09-13T10:10:26.967Z"
   },
   {
    "duration": 746,
    "start_time": "2022-09-13T10:13:09.292Z"
   },
   {
    "duration": 68,
    "start_time": "2022-09-13T10:13:10.041Z"
   },
   {
    "duration": 26,
    "start_time": "2022-09-13T10:13:10.111Z"
   },
   {
    "duration": 13,
    "start_time": "2022-09-13T10:13:10.139Z"
   },
   {
    "duration": 3,
    "start_time": "2022-09-13T10:13:10.154Z"
   },
   {
    "duration": 20,
    "start_time": "2022-09-13T10:13:10.158Z"
   },
   {
    "duration": 47,
    "start_time": "2022-09-13T10:13:10.179Z"
   },
   {
    "duration": 13,
    "start_time": "2022-09-13T10:13:10.227Z"
   },
   {
    "duration": 8,
    "start_time": "2022-09-13T10:13:10.242Z"
   },
   {
    "duration": 16,
    "start_time": "2022-09-13T10:13:10.252Z"
   },
   {
    "duration": 40,
    "start_time": "2022-09-13T10:13:10.270Z"
   },
   {
    "duration": 18,
    "start_time": "2022-09-13T10:13:10.311Z"
   },
   {
    "duration": 12,
    "start_time": "2022-09-13T10:13:10.330Z"
   },
   {
    "duration": 27,
    "start_time": "2022-09-13T10:13:10.346Z"
   },
   {
    "duration": 36,
    "start_time": "2022-09-13T10:13:10.374Z"
   },
   {
    "duration": 10,
    "start_time": "2022-09-13T10:13:10.411Z"
   },
   {
    "duration": 21,
    "start_time": "2022-09-13T10:13:10.422Z"
   },
   {
    "duration": 232,
    "start_time": "2022-09-13T10:13:10.445Z"
   },
   {
    "duration": 5,
    "start_time": "2022-09-13T10:13:10.679Z"
   },
   {
    "duration": 33,
    "start_time": "2022-09-13T10:13:10.685Z"
   },
   {
    "duration": 4,
    "start_time": "2022-09-13T10:13:10.719Z"
   },
   {
    "duration": 7,
    "start_time": "2022-09-13T10:13:10.724Z"
   },
   {
    "duration": 6,
    "start_time": "2022-09-13T10:13:10.733Z"
   },
   {
    "duration": 20,
    "start_time": "2022-09-13T10:13:10.740Z"
   },
   {
    "duration": 26,
    "start_time": "2022-09-13T10:13:10.762Z"
   },
   {
    "duration": 27,
    "start_time": "2022-09-13T10:13:10.789Z"
   },
   {
    "duration": 7,
    "start_time": "2022-09-13T10:13:10.817Z"
   },
   {
    "duration": 7,
    "start_time": "2022-09-13T10:13:10.826Z"
   },
   {
    "duration": 6,
    "start_time": "2022-09-13T10:13:10.835Z"
   },
   {
    "duration": 21,
    "start_time": "2022-09-13T10:13:10.842Z"
   },
   {
    "duration": 22,
    "start_time": "2022-09-13T10:13:10.864Z"
   },
   {
    "duration": 7,
    "start_time": "2022-09-13T10:13:10.908Z"
   },
   {
    "duration": 7,
    "start_time": "2022-09-13T10:13:10.917Z"
   },
   {
    "duration": 10,
    "start_time": "2022-09-13T10:13:10.925Z"
   },
   {
    "duration": 42,
    "start_time": "2022-09-13T10:13:10.936Z"
   },
   {
    "duration": 33,
    "start_time": "2022-09-13T10:13:10.980Z"
   },
   {
    "duration": 8,
    "start_time": "2022-09-13T10:13:11.015Z"
   },
   {
    "duration": 20,
    "start_time": "2022-09-13T10:13:11.024Z"
   },
   {
    "duration": 379,
    "start_time": "2022-09-13T10:13:11.046Z"
   },
   {
    "duration": 7,
    "start_time": "2022-09-13T10:13:11.428Z"
   },
   {
    "duration": 244,
    "start_time": "2022-09-13T10:13:11.440Z"
   },
   {
    "duration": 27,
    "start_time": "2022-09-13T10:13:11.685Z"
   },
   {
    "duration": 18,
    "start_time": "2022-09-13T10:13:11.714Z"
   },
   {
    "duration": 10,
    "start_time": "2022-09-13T10:13:11.733Z"
   },
   {
    "duration": 295,
    "start_time": "2022-09-13T10:13:11.745Z"
   },
   {
    "duration": 25,
    "start_time": "2022-09-13T10:13:12.042Z"
   },
   {
    "duration": 262,
    "start_time": "2022-09-13T10:13:12.069Z"
   },
   {
    "duration": 10,
    "start_time": "2022-09-13T10:13:12.333Z"
   },
   {
    "duration": 18,
    "start_time": "2022-09-13T10:13:12.344Z"
   },
   {
    "duration": 25,
    "start_time": "2022-09-13T10:13:12.364Z"
   },
   {
    "duration": 17,
    "start_time": "2022-09-13T10:13:12.391Z"
   },
   {
    "duration": 14,
    "start_time": "2022-09-13T10:13:12.410Z"
   },
   {
    "duration": 14,
    "start_time": "2022-09-13T10:13:12.425Z"
   },
   {
    "duration": 7,
    "start_time": "2022-09-13T10:13:12.440Z"
   },
   {
    "duration": 28,
    "start_time": "2022-09-13T10:13:12.449Z"
   },
   {
    "duration": 237,
    "start_time": "2022-09-13T10:13:12.478Z"
   },
   {
    "duration": 13,
    "start_time": "2022-09-13T10:13:12.718Z"
   },
   {
    "duration": 114,
    "start_time": "2022-09-13T10:13:12.733Z"
   },
   {
    "duration": 107,
    "start_time": "2022-09-13T10:13:12.849Z"
   },
   {
    "duration": 100,
    "start_time": "2022-09-13T10:13:12.958Z"
   },
   {
    "duration": 133,
    "start_time": "2022-09-13T10:13:13.060Z"
   },
   {
    "duration": 141,
    "start_time": "2022-09-13T10:13:13.195Z"
   },
   {
    "duration": 7,
    "start_time": "2022-09-13T10:13:13.337Z"
   },
   {
    "duration": 8,
    "start_time": "2022-09-13T10:13:13.345Z"
   },
   {
    "duration": 146,
    "start_time": "2022-09-13T10:13:13.355Z"
   },
   {
    "duration": 137,
    "start_time": "2022-09-13T10:13:13.503Z"
   },
   {
    "duration": 7,
    "start_time": "2022-09-13T10:13:13.641Z"
   },
   {
    "duration": 9,
    "start_time": "2022-09-13T10:13:13.649Z"
   },
   {
    "duration": 193,
    "start_time": "2022-09-13T10:13:13.659Z"
   },
   {
    "duration": 138,
    "start_time": "2022-09-13T10:13:13.853Z"
   },
   {
    "duration": 16,
    "start_time": "2022-09-13T10:13:13.994Z"
   },
   {
    "duration": 11,
    "start_time": "2022-09-13T10:13:14.012Z"
   },
   {
    "duration": 8,
    "start_time": "2022-09-13T10:13:14.025Z"
   },
   {
    "duration": 8,
    "start_time": "2022-09-13T10:13:14.035Z"
   },
   {
    "duration": 6,
    "start_time": "2022-09-13T10:13:14.045Z"
   },
   {
    "duration": 11,
    "start_time": "2022-09-13T10:13:14.053Z"
   },
   {
    "duration": 9,
    "start_time": "2022-09-13T10:13:14.065Z"
   },
   {
    "duration": 53,
    "start_time": "2022-09-13T10:13:14.075Z"
   },
   {
    "duration": 246,
    "start_time": "2022-09-13T10:13:14.130Z"
   },
   {
    "duration": 85,
    "start_time": "2022-09-13T10:13:14.377Z"
   },
   {
    "duration": 0,
    "start_time": "2022-09-13T10:13:14.463Z"
   },
   {
    "duration": 0,
    "start_time": "2022-09-13T10:13:14.465Z"
   },
   {
    "duration": 0,
    "start_time": "2022-09-13T10:13:14.466Z"
   },
   {
    "duration": 0,
    "start_time": "2022-09-13T10:13:14.468Z"
   },
   {
    "duration": 0,
    "start_time": "2022-09-13T10:13:14.469Z"
   },
   {
    "duration": 0,
    "start_time": "2022-09-13T10:13:14.469Z"
   },
   {
    "duration": 0,
    "start_time": "2022-09-13T10:13:14.472Z"
   },
   {
    "duration": 0,
    "start_time": "2022-09-13T10:13:14.473Z"
   },
   {
    "duration": 0,
    "start_time": "2022-09-13T10:13:14.474Z"
   },
   {
    "duration": 0,
    "start_time": "2022-09-13T10:13:14.475Z"
   },
   {
    "duration": 0,
    "start_time": "2022-09-13T10:13:14.476Z"
   },
   {
    "duration": 0,
    "start_time": "2022-09-13T10:13:14.477Z"
   },
   {
    "duration": 0,
    "start_time": "2022-09-13T10:13:14.477Z"
   },
   {
    "duration": 0,
    "start_time": "2022-09-13T10:13:14.479Z"
   },
   {
    "duration": 0,
    "start_time": "2022-09-13T10:13:14.480Z"
   },
   {
    "duration": 0,
    "start_time": "2022-09-13T10:13:14.481Z"
   },
   {
    "duration": 753,
    "start_time": "2022-09-13T10:14:00.142Z"
   },
   {
    "duration": 94,
    "start_time": "2022-09-13T10:14:00.898Z"
   },
   {
    "duration": 39,
    "start_time": "2022-09-13T10:14:00.994Z"
   },
   {
    "duration": 18,
    "start_time": "2022-09-13T10:14:01.035Z"
   },
   {
    "duration": 3,
    "start_time": "2022-09-13T10:14:01.055Z"
   },
   {
    "duration": 49,
    "start_time": "2022-09-13T10:14:01.060Z"
   },
   {
    "duration": 34,
    "start_time": "2022-09-13T10:14:01.111Z"
   },
   {
    "duration": 13,
    "start_time": "2022-09-13T10:14:01.147Z"
   },
   {
    "duration": 16,
    "start_time": "2022-09-13T10:14:01.161Z"
   },
   {
    "duration": 30,
    "start_time": "2022-09-13T10:14:01.180Z"
   },
   {
    "duration": 14,
    "start_time": "2022-09-13T10:14:01.212Z"
   },
   {
    "duration": 28,
    "start_time": "2022-09-13T10:14:01.228Z"
   },
   {
    "duration": 13,
    "start_time": "2022-09-13T10:14:01.258Z"
   },
   {
    "duration": 54,
    "start_time": "2022-09-13T10:14:01.273Z"
   },
   {
    "duration": 13,
    "start_time": "2022-09-13T10:14:01.329Z"
   },
   {
    "duration": 27,
    "start_time": "2022-09-13T10:14:01.344Z"
   },
   {
    "duration": 33,
    "start_time": "2022-09-13T10:14:01.373Z"
   },
   {
    "duration": 214,
    "start_time": "2022-09-13T10:14:01.407Z"
   },
   {
    "duration": 5,
    "start_time": "2022-09-13T10:14:01.622Z"
   },
   {
    "duration": 43,
    "start_time": "2022-09-13T10:14:01.629Z"
   },
   {
    "duration": 4,
    "start_time": "2022-09-13T10:14:01.674Z"
   },
   {
    "duration": 16,
    "start_time": "2022-09-13T10:14:01.680Z"
   },
   {
    "duration": 18,
    "start_time": "2022-09-13T10:14:01.697Z"
   },
   {
    "duration": 27,
    "start_time": "2022-09-13T10:14:01.716Z"
   },
   {
    "duration": 5,
    "start_time": "2022-09-13T10:14:01.746Z"
   },
   {
    "duration": 9,
    "start_time": "2022-09-13T10:14:01.752Z"
   },
   {
    "duration": 19,
    "start_time": "2022-09-13T10:14:01.763Z"
   },
   {
    "duration": 36,
    "start_time": "2022-09-13T10:14:01.787Z"
   },
   {
    "duration": 17,
    "start_time": "2022-09-13T10:14:01.825Z"
   },
   {
    "duration": 22,
    "start_time": "2022-09-13T10:14:01.844Z"
   },
   {
    "duration": 55,
    "start_time": "2022-09-13T10:14:01.867Z"
   },
   {
    "duration": 16,
    "start_time": "2022-09-13T10:14:01.923Z"
   },
   {
    "duration": 11,
    "start_time": "2022-09-13T10:14:01.941Z"
   },
   {
    "duration": 9,
    "start_time": "2022-09-13T10:14:01.954Z"
   },
   {
    "duration": 42,
    "start_time": "2022-09-13T10:14:01.965Z"
   },
   {
    "duration": 12,
    "start_time": "2022-09-13T10:14:02.009Z"
   },
   {
    "duration": 10,
    "start_time": "2022-09-13T10:14:02.023Z"
   },
   {
    "duration": 25,
    "start_time": "2022-09-13T10:14:02.035Z"
   },
   {
    "duration": 341,
    "start_time": "2022-09-13T10:14:02.062Z"
   },
   {
    "duration": 10,
    "start_time": "2022-09-13T10:14:02.409Z"
   },
   {
    "duration": 243,
    "start_time": "2022-09-13T10:14:02.420Z"
   },
   {
    "duration": 15,
    "start_time": "2022-09-13T10:14:02.664Z"
   },
   {
    "duration": 30,
    "start_time": "2022-09-13T10:14:02.680Z"
   },
   {
    "duration": 34,
    "start_time": "2022-09-13T10:14:02.711Z"
   },
   {
    "duration": 270,
    "start_time": "2022-09-13T10:14:02.746Z"
   },
   {
    "duration": 21,
    "start_time": "2022-09-13T10:14:03.018Z"
   },
   {
    "duration": 291,
    "start_time": "2022-09-13T10:14:03.041Z"
   },
   {
    "duration": 8,
    "start_time": "2022-09-13T10:14:03.333Z"
   },
   {
    "duration": 58,
    "start_time": "2022-09-13T10:14:03.342Z"
   },
   {
    "duration": 16,
    "start_time": "2022-09-13T10:14:03.402Z"
   },
   {
    "duration": 6,
    "start_time": "2022-09-13T10:14:03.420Z"
   },
   {
    "duration": 10,
    "start_time": "2022-09-13T10:14:03.428Z"
   },
   {
    "duration": 16,
    "start_time": "2022-09-13T10:14:03.439Z"
   },
   {
    "duration": 20,
    "start_time": "2022-09-13T10:14:03.456Z"
   },
   {
    "duration": 39,
    "start_time": "2022-09-13T10:14:03.478Z"
   },
   {
    "duration": 226,
    "start_time": "2022-09-13T10:14:03.518Z"
   },
   {
    "duration": 14,
    "start_time": "2022-09-13T10:14:03.745Z"
   },
   {
    "duration": 131,
    "start_time": "2022-09-13T10:14:03.760Z"
   },
   {
    "duration": 104,
    "start_time": "2022-09-13T10:14:03.892Z"
   },
   {
    "duration": 115,
    "start_time": "2022-09-13T10:14:03.998Z"
   },
   {
    "duration": 150,
    "start_time": "2022-09-13T10:14:04.114Z"
   },
   {
    "duration": 129,
    "start_time": "2022-09-13T10:14:04.265Z"
   },
   {
    "duration": 15,
    "start_time": "2022-09-13T10:14:04.397Z"
   },
   {
    "duration": 15,
    "start_time": "2022-09-13T10:14:04.414Z"
   },
   {
    "duration": 186,
    "start_time": "2022-09-13T10:14:04.430Z"
   },
   {
    "duration": 176,
    "start_time": "2022-09-13T10:14:04.618Z"
   },
   {
    "duration": 7,
    "start_time": "2022-09-13T10:14:04.795Z"
   },
   {
    "duration": 14,
    "start_time": "2022-09-13T10:14:04.809Z"
   },
   {
    "duration": 175,
    "start_time": "2022-09-13T10:14:04.825Z"
   },
   {
    "duration": 141,
    "start_time": "2022-09-13T10:14:05.001Z"
   },
   {
    "duration": 7,
    "start_time": "2022-09-13T10:14:05.144Z"
   },
   {
    "duration": 14,
    "start_time": "2022-09-13T10:14:05.152Z"
   },
   {
    "duration": 34,
    "start_time": "2022-09-13T10:14:05.167Z"
   },
   {
    "duration": 15,
    "start_time": "2022-09-13T10:14:05.203Z"
   },
   {
    "duration": 14,
    "start_time": "2022-09-13T10:14:05.219Z"
   },
   {
    "duration": 13,
    "start_time": "2022-09-13T10:14:05.234Z"
   },
   {
    "duration": 10,
    "start_time": "2022-09-13T10:14:05.249Z"
   },
   {
    "duration": 26,
    "start_time": "2022-09-13T10:14:05.261Z"
   },
   {
    "duration": 253,
    "start_time": "2022-09-13T10:14:05.289Z"
   },
   {
    "duration": 8,
    "start_time": "2022-09-13T10:14:05.543Z"
   },
   {
    "duration": 14,
    "start_time": "2022-09-13T10:14:05.552Z"
   },
   {
    "duration": 6,
    "start_time": "2022-09-13T10:14:05.572Z"
   },
   {
    "duration": 13,
    "start_time": "2022-09-13T10:14:05.580Z"
   },
   {
    "duration": 20,
    "start_time": "2022-09-13T10:14:05.609Z"
   },
   {
    "duration": 11,
    "start_time": "2022-09-13T10:14:05.631Z"
   },
   {
    "duration": 47,
    "start_time": "2022-09-13T10:14:05.644Z"
   },
   {
    "duration": 7,
    "start_time": "2022-09-13T10:14:05.693Z"
   },
   {
    "duration": 12,
    "start_time": "2022-09-13T10:14:05.702Z"
   },
   {
    "duration": 29,
    "start_time": "2022-09-13T10:14:05.716Z"
   },
   {
    "duration": 145,
    "start_time": "2022-09-13T10:14:05.747Z"
   },
   {
    "duration": 154,
    "start_time": "2022-09-13T10:14:05.894Z"
   },
   {
    "duration": 151,
    "start_time": "2022-09-13T10:14:06.049Z"
   },
   {
    "duration": 185,
    "start_time": "2022-09-13T10:14:06.202Z"
   },
   {
    "duration": 505,
    "start_time": "2022-09-13T10:14:06.388Z"
   },
   {
    "duration": 17,
    "start_time": "2022-09-13T10:14:06.895Z"
   },
   {
    "duration": 660,
    "start_time": "2022-09-13T10:27:18.090Z"
   },
   {
    "duration": 69,
    "start_time": "2022-09-13T10:27:18.752Z"
   },
   {
    "duration": 34,
    "start_time": "2022-09-13T10:27:18.822Z"
   },
   {
    "duration": 15,
    "start_time": "2022-09-13T10:27:18.858Z"
   },
   {
    "duration": 3,
    "start_time": "2022-09-13T10:27:18.874Z"
   },
   {
    "duration": 46,
    "start_time": "2022-09-13T10:27:18.878Z"
   },
   {
    "duration": 22,
    "start_time": "2022-09-13T10:27:18.926Z"
   },
   {
    "duration": 12,
    "start_time": "2022-09-13T10:27:18.949Z"
   },
   {
    "duration": 9,
    "start_time": "2022-09-13T10:27:18.963Z"
   },
   {
    "duration": 39,
    "start_time": "2022-09-13T10:27:18.975Z"
   },
   {
    "duration": 11,
    "start_time": "2022-09-13T10:27:19.016Z"
   },
   {
    "duration": 12,
    "start_time": "2022-09-13T10:27:19.028Z"
   },
   {
    "duration": 10,
    "start_time": "2022-09-13T10:27:19.041Z"
   },
   {
    "duration": 19,
    "start_time": "2022-09-13T10:27:19.053Z"
   },
   {
    "duration": 41,
    "start_time": "2022-09-13T10:27:19.075Z"
   },
   {
    "duration": 13,
    "start_time": "2022-09-13T10:27:19.117Z"
   },
   {
    "duration": 26,
    "start_time": "2022-09-13T10:27:19.132Z"
   },
   {
    "duration": 256,
    "start_time": "2022-09-13T10:27:19.159Z"
   },
   {
    "duration": 5,
    "start_time": "2022-09-13T10:27:19.417Z"
   },
   {
    "duration": 37,
    "start_time": "2022-09-13T10:27:19.424Z"
   },
   {
    "duration": 5,
    "start_time": "2022-09-13T10:27:19.463Z"
   },
   {
    "duration": 9,
    "start_time": "2022-09-13T10:27:19.470Z"
   },
   {
    "duration": 29,
    "start_time": "2022-09-13T10:27:19.481Z"
   },
   {
    "duration": 23,
    "start_time": "2022-09-13T10:27:19.512Z"
   },
   {
    "duration": 5,
    "start_time": "2022-09-13T10:27:19.537Z"
   },
   {
    "duration": 8,
    "start_time": "2022-09-13T10:27:19.544Z"
   },
   {
    "duration": 7,
    "start_time": "2022-09-13T10:27:19.554Z"
   },
   {
    "duration": 7,
    "start_time": "2022-09-13T10:27:19.566Z"
   },
   {
    "duration": 6,
    "start_time": "2022-09-13T10:27:19.609Z"
   },
   {
    "duration": 16,
    "start_time": "2022-09-13T10:27:19.617Z"
   },
   {
    "duration": 23,
    "start_time": "2022-09-13T10:27:19.635Z"
   },
   {
    "duration": 5,
    "start_time": "2022-09-13T10:27:19.659Z"
   },
   {
    "duration": 11,
    "start_time": "2022-09-13T10:27:19.665Z"
   },
   {
    "duration": 35,
    "start_time": "2022-09-13T10:27:19.677Z"
   },
   {
    "duration": 41,
    "start_time": "2022-09-13T10:27:19.714Z"
   },
   {
    "duration": 11,
    "start_time": "2022-09-13T10:27:19.757Z"
   },
   {
    "duration": 9,
    "start_time": "2022-09-13T10:27:19.769Z"
   },
   {
    "duration": 36,
    "start_time": "2022-09-13T10:27:19.780Z"
   },
   {
    "duration": 335,
    "start_time": "2022-09-13T10:27:19.817Z"
   },
   {
    "duration": 11,
    "start_time": "2022-09-13T10:27:20.154Z"
   },
   {
    "duration": 222,
    "start_time": "2022-09-13T10:27:20.167Z"
   },
   {
    "duration": 25,
    "start_time": "2022-09-13T10:27:20.391Z"
   },
   {
    "duration": 16,
    "start_time": "2022-09-13T10:27:20.417Z"
   },
   {
    "duration": 16,
    "start_time": "2022-09-13T10:27:20.435Z"
   },
   {
    "duration": 292,
    "start_time": "2022-09-13T10:27:20.452Z"
   },
   {
    "duration": 25,
    "start_time": "2022-09-13T10:27:20.746Z"
   },
   {
    "duration": 267,
    "start_time": "2022-09-13T10:27:20.772Z"
   },
   {
    "duration": 7,
    "start_time": "2022-09-13T10:27:21.042Z"
   },
   {
    "duration": 10,
    "start_time": "2022-09-13T10:27:21.051Z"
   },
   {
    "duration": 13,
    "start_time": "2022-09-13T10:27:21.062Z"
   },
   {
    "duration": 7,
    "start_time": "2022-09-13T10:27:21.076Z"
   },
   {
    "duration": 29,
    "start_time": "2022-09-13T10:27:21.085Z"
   },
   {
    "duration": 8,
    "start_time": "2022-09-13T10:27:21.116Z"
   },
   {
    "duration": 5,
    "start_time": "2022-09-13T10:27:21.126Z"
   },
   {
    "duration": 35,
    "start_time": "2022-09-13T10:27:21.132Z"
   },
   {
    "duration": 263,
    "start_time": "2022-09-13T10:27:21.170Z"
   },
   {
    "duration": 15,
    "start_time": "2022-09-13T10:27:21.434Z"
   },
   {
    "duration": 130,
    "start_time": "2022-09-13T10:27:21.451Z"
   },
   {
    "duration": 127,
    "start_time": "2022-09-13T10:27:21.583Z"
   },
   {
    "duration": 111,
    "start_time": "2022-09-13T10:27:21.712Z"
   },
   {
    "duration": 147,
    "start_time": "2022-09-13T10:27:21.825Z"
   },
   {
    "duration": 170,
    "start_time": "2022-09-13T10:27:21.973Z"
   },
   {
    "duration": 8,
    "start_time": "2022-09-13T10:27:22.146Z"
   },
   {
    "duration": 52,
    "start_time": "2022-09-13T10:27:22.155Z"
   },
   {
    "duration": 136,
    "start_time": "2022-09-13T10:27:22.209Z"
   },
   {
    "duration": 132,
    "start_time": "2022-09-13T10:27:22.347Z"
   },
   {
    "duration": 8,
    "start_time": "2022-09-13T10:27:22.481Z"
   },
   {
    "duration": 21,
    "start_time": "2022-09-13T10:27:22.491Z"
   },
   {
    "duration": 188,
    "start_time": "2022-09-13T10:27:22.514Z"
   },
   {
    "duration": 142,
    "start_time": "2022-09-13T10:27:22.708Z"
   },
   {
    "duration": 8,
    "start_time": "2022-09-13T10:27:22.852Z"
   },
   {
    "duration": 36,
    "start_time": "2022-09-13T10:27:22.861Z"
   },
   {
    "duration": 27,
    "start_time": "2022-09-13T10:27:22.898Z"
   },
   {
    "duration": 31,
    "start_time": "2022-09-13T10:27:22.926Z"
   },
   {
    "duration": 31,
    "start_time": "2022-09-13T10:27:22.959Z"
   },
   {
    "duration": 13,
    "start_time": "2022-09-13T10:27:22.992Z"
   },
   {
    "duration": 13,
    "start_time": "2022-09-13T10:27:23.007Z"
   },
   {
    "duration": 28,
    "start_time": "2022-09-13T10:27:23.022Z"
   },
   {
    "duration": 248,
    "start_time": "2022-09-13T10:27:23.052Z"
   },
   {
    "duration": 14,
    "start_time": "2022-09-13T10:27:23.301Z"
   },
   {
    "duration": 19,
    "start_time": "2022-09-13T10:27:23.316Z"
   },
   {
    "duration": 11,
    "start_time": "2022-09-13T10:27:23.343Z"
   },
   {
    "duration": 16,
    "start_time": "2022-09-13T10:27:23.356Z"
   },
   {
    "duration": 16,
    "start_time": "2022-09-13T10:27:23.373Z"
   },
   {
    "duration": 11,
    "start_time": "2022-09-13T10:27:23.390Z"
   },
   {
    "duration": 13,
    "start_time": "2022-09-13T10:27:23.409Z"
   },
   {
    "duration": 9,
    "start_time": "2022-09-13T10:27:23.424Z"
   },
   {
    "duration": 4,
    "start_time": "2022-09-13T10:27:23.434Z"
   },
   {
    "duration": 30,
    "start_time": "2022-09-13T10:27:23.440Z"
   },
   {
    "duration": 151,
    "start_time": "2022-09-13T10:27:23.472Z"
   },
   {
    "duration": 153,
    "start_time": "2022-09-13T10:27:23.624Z"
   },
   {
    "duration": 150,
    "start_time": "2022-09-13T10:27:23.779Z"
   },
   {
    "duration": 143,
    "start_time": "2022-09-13T10:27:23.931Z"
   },
   {
    "duration": 563,
    "start_time": "2022-09-13T10:27:24.076Z"
   },
   {
    "duration": 14,
    "start_time": "2022-09-13T10:27:24.641Z"
   },
   {
    "duration": 593,
    "start_time": "2022-09-13T15:40:57.568Z"
   },
   {
    "duration": 103,
    "start_time": "2022-09-13T15:40:58.163Z"
   },
   {
    "duration": 25,
    "start_time": "2022-09-13T15:40:58.268Z"
   },
   {
    "duration": 39,
    "start_time": "2022-09-13T15:40:58.295Z"
   },
   {
    "duration": 35,
    "start_time": "2022-09-13T15:40:58.336Z"
   },
   {
    "duration": 44,
    "start_time": "2022-09-13T15:40:58.372Z"
   },
   {
    "duration": 53,
    "start_time": "2022-09-13T15:40:58.417Z"
   },
   {
    "duration": 13,
    "start_time": "2022-09-13T15:40:58.472Z"
   },
   {
    "duration": 26,
    "start_time": "2022-09-13T15:40:58.487Z"
   },
   {
    "duration": 48,
    "start_time": "2022-09-13T15:40:58.514Z"
   },
   {
    "duration": 43,
    "start_time": "2022-09-13T15:40:58.563Z"
   },
   {
    "duration": 40,
    "start_time": "2022-09-13T15:40:58.608Z"
   },
   {
    "duration": 33,
    "start_time": "2022-09-13T15:40:58.650Z"
   },
   {
    "duration": 39,
    "start_time": "2022-09-13T15:40:58.685Z"
   },
   {
    "duration": 30,
    "start_time": "2022-09-13T15:40:58.725Z"
   },
   {
    "duration": 33,
    "start_time": "2022-09-13T15:40:58.756Z"
   },
   {
    "duration": 40,
    "start_time": "2022-09-13T15:40:58.790Z"
   },
   {
    "duration": 218,
    "start_time": "2022-09-13T15:40:58.832Z"
   },
   {
    "duration": 5,
    "start_time": "2022-09-13T15:40:59.052Z"
   },
   {
    "duration": 57,
    "start_time": "2022-09-13T15:40:59.058Z"
   },
   {
    "duration": 11,
    "start_time": "2022-09-13T15:40:59.116Z"
   },
   {
    "duration": 49,
    "start_time": "2022-09-13T15:40:59.129Z"
   },
   {
    "duration": 28,
    "start_time": "2022-09-13T15:40:59.180Z"
   },
   {
    "duration": 46,
    "start_time": "2022-09-13T15:40:59.209Z"
   },
   {
    "duration": 4,
    "start_time": "2022-09-13T15:40:59.257Z"
   },
   {
    "duration": 38,
    "start_time": "2022-09-13T15:40:59.263Z"
   },
   {
    "duration": 31,
    "start_time": "2022-09-13T15:40:59.302Z"
   },
   {
    "duration": 31,
    "start_time": "2022-09-13T15:40:59.335Z"
   },
   {
    "duration": 40,
    "start_time": "2022-09-13T15:40:59.368Z"
   },
   {
    "duration": 49,
    "start_time": "2022-09-13T15:40:59.409Z"
   },
   {
    "duration": 22,
    "start_time": "2022-09-13T15:40:59.459Z"
   },
   {
    "duration": 14,
    "start_time": "2022-09-13T15:40:59.483Z"
   },
   {
    "duration": 28,
    "start_time": "2022-09-13T15:40:59.498Z"
   },
   {
    "duration": 35,
    "start_time": "2022-09-13T15:40:59.527Z"
   },
   {
    "duration": 85,
    "start_time": "2022-09-13T15:40:59.564Z"
   },
   {
    "duration": 23,
    "start_time": "2022-09-13T15:40:59.651Z"
   },
   {
    "duration": 36,
    "start_time": "2022-09-13T15:40:59.676Z"
   },
   {
    "duration": 35,
    "start_time": "2022-09-13T15:40:59.714Z"
   },
   {
    "duration": 335,
    "start_time": "2022-09-13T15:40:59.751Z"
   },
   {
    "duration": 8,
    "start_time": "2022-09-13T15:41:00.088Z"
   },
   {
    "duration": 228,
    "start_time": "2022-09-13T15:41:00.100Z"
   },
   {
    "duration": 19,
    "start_time": "2022-09-13T15:41:00.330Z"
   },
   {
    "duration": 25,
    "start_time": "2022-09-13T15:41:00.350Z"
   },
   {
    "duration": 27,
    "start_time": "2022-09-13T15:41:00.378Z"
   },
   {
    "duration": 285,
    "start_time": "2022-09-13T15:41:00.407Z"
   },
   {
    "duration": 22,
    "start_time": "2022-09-13T15:41:00.694Z"
   },
   {
    "duration": 280,
    "start_time": "2022-09-13T15:41:00.718Z"
   },
   {
    "duration": 8,
    "start_time": "2022-09-13T15:41:01.000Z"
   },
   {
    "duration": 11,
    "start_time": "2022-09-13T15:41:01.010Z"
   },
   {
    "duration": 43,
    "start_time": "2022-09-13T15:41:01.023Z"
   },
   {
    "duration": 9,
    "start_time": "2022-09-13T15:41:01.068Z"
   },
   {
    "duration": 55,
    "start_time": "2022-09-13T15:41:01.079Z"
   },
   {
    "duration": 28,
    "start_time": "2022-09-13T15:41:01.136Z"
   },
   {
    "duration": 22,
    "start_time": "2022-09-13T15:41:01.166Z"
   },
   {
    "duration": 48,
    "start_time": "2022-09-13T15:41:01.190Z"
   },
   {
    "duration": 245,
    "start_time": "2022-09-13T15:41:01.240Z"
   },
   {
    "duration": 14,
    "start_time": "2022-09-13T15:41:01.486Z"
   },
   {
    "duration": 120,
    "start_time": "2022-09-13T15:41:01.502Z"
   },
   {
    "duration": 115,
    "start_time": "2022-09-13T15:41:01.623Z"
   },
   {
    "duration": 103,
    "start_time": "2022-09-13T15:41:01.740Z"
   },
   {
    "duration": 137,
    "start_time": "2022-09-13T15:41:01.845Z"
   },
   {
    "duration": 132,
    "start_time": "2022-09-13T15:41:01.984Z"
   },
   {
    "duration": 6,
    "start_time": "2022-09-13T15:41:02.118Z"
   },
   {
    "duration": 28,
    "start_time": "2022-09-13T15:41:02.125Z"
   },
   {
    "duration": 145,
    "start_time": "2022-09-13T15:41:02.155Z"
   },
   {
    "duration": 119,
    "start_time": "2022-09-13T15:41:02.302Z"
   },
   {
    "duration": 16,
    "start_time": "2022-09-13T15:41:02.423Z"
   },
   {
    "duration": 15,
    "start_time": "2022-09-13T15:41:02.440Z"
   },
   {
    "duration": 200,
    "start_time": "2022-09-13T15:41:02.456Z"
   },
   {
    "duration": 133,
    "start_time": "2022-09-13T15:41:02.658Z"
   },
   {
    "duration": 6,
    "start_time": "2022-09-13T15:41:02.793Z"
   },
   {
    "duration": 37,
    "start_time": "2022-09-13T15:41:02.801Z"
   },
   {
    "duration": 22,
    "start_time": "2022-09-13T15:41:02.840Z"
   },
   {
    "duration": 22,
    "start_time": "2022-09-13T15:41:02.863Z"
   },
   {
    "duration": 34,
    "start_time": "2022-09-13T15:41:02.886Z"
   },
   {
    "duration": 32,
    "start_time": "2022-09-13T15:41:02.922Z"
   },
   {
    "duration": 17,
    "start_time": "2022-09-13T15:41:02.956Z"
   },
   {
    "duration": 43,
    "start_time": "2022-09-13T15:41:02.975Z"
   },
   {
    "duration": 237,
    "start_time": "2022-09-13T15:41:03.019Z"
   },
   {
    "duration": 7,
    "start_time": "2022-09-13T15:41:03.257Z"
   },
   {
    "duration": 23,
    "start_time": "2022-09-13T15:41:03.266Z"
   },
   {
    "duration": 29,
    "start_time": "2022-09-13T15:41:03.291Z"
   },
   {
    "duration": 38,
    "start_time": "2022-09-13T15:41:03.322Z"
   },
   {
    "duration": 24,
    "start_time": "2022-09-13T15:41:03.362Z"
   },
   {
    "duration": 20,
    "start_time": "2022-09-13T15:41:03.387Z"
   },
   {
    "duration": 28,
    "start_time": "2022-09-13T15:41:03.409Z"
   },
   {
    "duration": 20,
    "start_time": "2022-09-13T15:41:03.439Z"
   },
   {
    "duration": 30,
    "start_time": "2022-09-13T15:41:03.461Z"
   },
   {
    "duration": 46,
    "start_time": "2022-09-13T15:41:03.492Z"
   },
   {
    "duration": 152,
    "start_time": "2022-09-13T15:41:03.540Z"
   },
   {
    "duration": 162,
    "start_time": "2022-09-13T15:41:03.694Z"
   },
   {
    "duration": 149,
    "start_time": "2022-09-13T15:41:03.858Z"
   },
   {
    "duration": 133,
    "start_time": "2022-09-13T15:41:04.009Z"
   },
   {
    "duration": 470,
    "start_time": "2022-09-13T15:41:04.144Z"
   },
   {
    "duration": 10,
    "start_time": "2022-09-13T15:41:04.616Z"
   },
   {
    "duration": 55,
    "start_time": "2022-09-13T15:43:56.798Z"
   },
   {
    "duration": 58,
    "start_time": "2022-09-13T15:45:33.773Z"
   },
   {
    "duration": 50,
    "start_time": "2022-09-13T15:49:58.645Z"
   },
   {
    "duration": 96,
    "start_time": "2022-09-13T15:55:40.434Z"
   },
   {
    "duration": 18,
    "start_time": "2022-09-13T15:55:59.799Z"
   },
   {
    "duration": 11,
    "start_time": "2022-09-13T15:56:09.738Z"
   },
   {
    "duration": 45,
    "start_time": "2022-09-13T18:54:16.272Z"
   },
   {
    "duration": 746,
    "start_time": "2022-09-13T18:54:33.636Z"
   },
   {
    "duration": 104,
    "start_time": "2022-09-13T18:54:34.385Z"
   },
   {
    "duration": 29,
    "start_time": "2022-09-13T18:54:34.490Z"
   },
   {
    "duration": 14,
    "start_time": "2022-09-13T18:54:34.520Z"
   },
   {
    "duration": 4,
    "start_time": "2022-09-13T18:54:34.536Z"
   },
   {
    "duration": 50,
    "start_time": "2022-09-13T18:54:34.541Z"
   },
   {
    "duration": 24,
    "start_time": "2022-09-13T18:54:34.593Z"
   },
   {
    "duration": 14,
    "start_time": "2022-09-13T18:54:34.618Z"
   },
   {
    "duration": 9,
    "start_time": "2022-09-13T18:54:34.634Z"
   },
   {
    "duration": 41,
    "start_time": "2022-09-13T18:54:34.645Z"
   },
   {
    "duration": 13,
    "start_time": "2022-09-13T18:54:34.688Z"
   },
   {
    "duration": 15,
    "start_time": "2022-09-13T18:54:34.703Z"
   },
   {
    "duration": 9,
    "start_time": "2022-09-13T18:54:34.720Z"
   },
   {
    "duration": 56,
    "start_time": "2022-09-13T18:54:34.732Z"
   },
   {
    "duration": 11,
    "start_time": "2022-09-13T18:54:34.789Z"
   },
   {
    "duration": 11,
    "start_time": "2022-09-13T18:54:34.801Z"
   },
   {
    "duration": 24,
    "start_time": "2022-09-13T18:54:34.814Z"
   },
   {
    "duration": 255,
    "start_time": "2022-09-13T18:54:34.840Z"
   },
   {
    "duration": 5,
    "start_time": "2022-09-13T18:54:35.097Z"
   },
   {
    "duration": 35,
    "start_time": "2022-09-13T18:54:35.103Z"
   },
   {
    "duration": 5,
    "start_time": "2022-09-13T18:54:35.139Z"
   },
   {
    "duration": 6,
    "start_time": "2022-09-13T18:54:35.145Z"
   },
   {
    "duration": 24,
    "start_time": "2022-09-13T18:54:35.153Z"
   },
   {
    "duration": 21,
    "start_time": "2022-09-13T18:54:35.179Z"
   },
   {
    "duration": 12,
    "start_time": "2022-09-13T18:54:35.201Z"
   },
   {
    "duration": 9,
    "start_time": "2022-09-13T18:54:35.215Z"
   },
   {
    "duration": 16,
    "start_time": "2022-09-13T18:54:35.226Z"
   },
   {
    "duration": 9,
    "start_time": "2022-09-13T18:54:35.244Z"
   },
   {
    "duration": 38,
    "start_time": "2022-09-13T18:54:35.255Z"
   },
   {
    "duration": 26,
    "start_time": "2022-09-13T18:54:35.295Z"
   },
   {
    "duration": 33,
    "start_time": "2022-09-13T18:54:35.322Z"
   },
   {
    "duration": 6,
    "start_time": "2022-09-13T18:54:35.357Z"
   },
   {
    "duration": 16,
    "start_time": "2022-09-13T18:54:35.365Z"
   },
   {
    "duration": 29,
    "start_time": "2022-09-13T18:54:35.383Z"
   },
   {
    "duration": 67,
    "start_time": "2022-09-13T18:54:35.414Z"
   },
   {
    "duration": 16,
    "start_time": "2022-09-13T18:54:35.483Z"
   },
   {
    "duration": 9,
    "start_time": "2022-09-13T18:54:35.501Z"
   },
   {
    "duration": 23,
    "start_time": "2022-09-13T18:54:35.512Z"
   },
   {
    "duration": 344,
    "start_time": "2022-09-13T18:54:35.537Z"
   },
   {
    "duration": 10,
    "start_time": "2022-09-13T18:54:35.883Z"
   },
   {
    "duration": 243,
    "start_time": "2022-09-13T18:54:35.899Z"
   },
   {
    "duration": 16,
    "start_time": "2022-09-13T18:54:36.143Z"
   },
   {
    "duration": 29,
    "start_time": "2022-09-13T18:54:36.160Z"
   },
   {
    "duration": 39,
    "start_time": "2022-09-13T18:54:36.191Z"
   },
   {
    "duration": 288,
    "start_time": "2022-09-13T18:54:36.232Z"
   },
   {
    "duration": 23,
    "start_time": "2022-09-13T18:54:36.522Z"
   },
   {
    "duration": 275,
    "start_time": "2022-09-13T18:54:36.547Z"
   },
   {
    "duration": 9,
    "start_time": "2022-09-13T18:54:36.824Z"
   },
   {
    "duration": 17,
    "start_time": "2022-09-13T18:54:36.834Z"
   },
   {
    "duration": 35,
    "start_time": "2022-09-13T18:54:36.853Z"
   },
   {
    "duration": 17,
    "start_time": "2022-09-13T18:54:36.890Z"
   },
   {
    "duration": 28,
    "start_time": "2022-09-13T18:54:36.909Z"
   },
   {
    "duration": 19,
    "start_time": "2022-09-13T18:54:36.939Z"
   },
   {
    "duration": 13,
    "start_time": "2022-09-13T18:54:36.959Z"
   },
   {
    "duration": 52,
    "start_time": "2022-09-13T18:54:36.973Z"
   },
   {
    "duration": 247,
    "start_time": "2022-09-13T18:54:37.027Z"
   },
   {
    "duration": 14,
    "start_time": "2022-09-13T18:54:37.276Z"
   },
   {
    "duration": 132,
    "start_time": "2022-09-13T18:54:37.292Z"
   },
   {
    "duration": 108,
    "start_time": "2022-09-13T18:54:37.425Z"
   },
   {
    "duration": 107,
    "start_time": "2022-09-13T18:54:37.535Z"
   },
   {
    "duration": 148,
    "start_time": "2022-09-13T18:54:37.644Z"
   },
   {
    "duration": 136,
    "start_time": "2022-09-13T18:54:37.794Z"
   },
   {
    "duration": 9,
    "start_time": "2022-09-13T18:54:37.932Z"
   },
   {
    "duration": 24,
    "start_time": "2022-09-13T18:54:37.943Z"
   },
   {
    "duration": 158,
    "start_time": "2022-09-13T18:54:37.969Z"
   },
   {
    "duration": 135,
    "start_time": "2022-09-13T18:54:38.129Z"
   },
   {
    "duration": 14,
    "start_time": "2022-09-13T18:54:38.266Z"
   },
   {
    "duration": 22,
    "start_time": "2022-09-13T18:54:38.282Z"
   },
   {
    "duration": 202,
    "start_time": "2022-09-13T18:54:38.306Z"
   },
   {
    "duration": 154,
    "start_time": "2022-09-13T18:54:38.510Z"
   },
   {
    "duration": 10,
    "start_time": "2022-09-13T18:54:38.666Z"
   },
   {
    "duration": 29,
    "start_time": "2022-09-13T18:54:38.678Z"
   },
   {
    "duration": 17,
    "start_time": "2022-09-13T18:54:38.708Z"
   },
   {
    "duration": 21,
    "start_time": "2022-09-13T18:54:38.726Z"
   },
   {
    "duration": 15,
    "start_time": "2022-09-13T18:54:38.748Z"
   },
   {
    "duration": 14,
    "start_time": "2022-09-13T18:54:38.764Z"
   },
   {
    "duration": 25,
    "start_time": "2022-09-13T18:54:38.779Z"
   },
   {
    "duration": 20,
    "start_time": "2022-09-13T18:54:38.805Z"
   },
   {
    "duration": 31,
    "start_time": "2022-09-13T18:54:38.826Z"
   },
   {
    "duration": 260,
    "start_time": "2022-09-13T18:54:38.858Z"
   },
   {
    "duration": 8,
    "start_time": "2022-09-13T18:54:39.120Z"
   },
   {
    "duration": 20,
    "start_time": "2022-09-13T18:54:39.130Z"
   },
   {
    "duration": 38,
    "start_time": "2022-09-13T18:54:39.151Z"
   },
   {
    "duration": 30,
    "start_time": "2022-09-13T18:54:39.191Z"
   },
   {
    "duration": 22,
    "start_time": "2022-09-13T18:54:39.222Z"
   },
   {
    "duration": 36,
    "start_time": "2022-09-13T18:54:39.246Z"
   },
   {
    "duration": 16,
    "start_time": "2022-09-13T18:54:39.284Z"
   },
   {
    "duration": 32,
    "start_time": "2022-09-13T18:54:39.302Z"
   },
   {
    "duration": 23,
    "start_time": "2022-09-13T18:54:39.336Z"
   },
   {
    "duration": 29,
    "start_time": "2022-09-13T18:54:39.361Z"
   },
   {
    "duration": 163,
    "start_time": "2022-09-13T18:54:39.392Z"
   },
   {
    "duration": 148,
    "start_time": "2022-09-13T18:54:39.556Z"
   },
   {
    "duration": 142,
    "start_time": "2022-09-13T18:54:39.705Z"
   },
   {
    "duration": 148,
    "start_time": "2022-09-13T18:54:39.848Z"
   },
   {
    "duration": 490,
    "start_time": "2022-09-13T18:54:39.998Z"
   },
   {
    "duration": 12,
    "start_time": "2022-09-13T18:54:40.490Z"
   },
   {
    "duration": 9,
    "start_time": "2022-09-13T19:01:09.919Z"
   },
   {
    "duration": 11,
    "start_time": "2022-09-13T19:02:28.281Z"
   },
   {
    "duration": 10,
    "start_time": "2022-09-13T19:02:51.854Z"
   },
   {
    "duration": 13,
    "start_time": "2022-09-13T19:18:11.283Z"
   },
   {
    "duration": 13,
    "start_time": "2022-09-13T19:19:46.436Z"
   },
   {
    "duration": 138,
    "start_time": "2022-09-13T19:22:48.741Z"
   },
   {
    "duration": 122,
    "start_time": "2022-09-13T19:23:23.342Z"
   },
   {
    "duration": 10,
    "start_time": "2022-09-13T19:24:08.256Z"
   },
   {
    "duration": 10,
    "start_time": "2022-09-13T19:24:34.860Z"
   },
   {
    "duration": 136,
    "start_time": "2022-09-13T19:27:56.306Z"
   },
   {
    "duration": 117,
    "start_time": "2022-09-13T19:29:37.196Z"
   },
   {
    "duration": 8,
    "start_time": "2022-09-13T19:31:07.401Z"
   },
   {
    "duration": 8,
    "start_time": "2022-09-13T19:31:21.785Z"
   },
   {
    "duration": 123,
    "start_time": "2022-09-13T19:33:49.317Z"
   },
   {
    "duration": 7,
    "start_time": "2022-09-13T19:36:38.652Z"
   },
   {
    "duration": 7,
    "start_time": "2022-09-13T19:36:51.343Z"
   },
   {
    "duration": 93,
    "start_time": "2022-09-13T19:53:55.344Z"
   },
   {
    "duration": 150,
    "start_time": "2022-09-13T19:55:40.051Z"
   },
   {
    "duration": 146,
    "start_time": "2022-09-13T19:58:13.950Z"
   },
   {
    "duration": 57,
    "start_time": "2022-09-13T19:59:22.663Z"
   },
   {
    "duration": 164,
    "start_time": "2022-09-13T20:00:00.781Z"
   },
   {
    "duration": 1101,
    "start_time": "2022-09-13T20:00:11.866Z"
   },
   {
    "duration": 71,
    "start_time": "2022-09-13T20:00:12.969Z"
   },
   {
    "duration": 29,
    "start_time": "2022-09-13T20:00:13.041Z"
   },
   {
    "duration": 13,
    "start_time": "2022-09-13T20:00:13.071Z"
   },
   {
    "duration": 2,
    "start_time": "2022-09-13T20:00:13.086Z"
   },
   {
    "duration": 23,
    "start_time": "2022-09-13T20:00:13.090Z"
   },
   {
    "duration": 21,
    "start_time": "2022-09-13T20:00:13.114Z"
   },
   {
    "duration": 12,
    "start_time": "2022-09-13T20:00:13.136Z"
   },
   {
    "duration": 30,
    "start_time": "2022-09-13T20:00:13.150Z"
   },
   {
    "duration": 13,
    "start_time": "2022-09-13T20:00:13.182Z"
   },
   {
    "duration": 11,
    "start_time": "2022-09-13T20:00:13.197Z"
   },
   {
    "duration": 14,
    "start_time": "2022-09-13T20:00:13.210Z"
   },
   {
    "duration": 8,
    "start_time": "2022-09-13T20:00:13.225Z"
   },
   {
    "duration": 57,
    "start_time": "2022-09-13T20:00:13.235Z"
   },
   {
    "duration": 7,
    "start_time": "2022-09-13T20:00:13.293Z"
   },
   {
    "duration": 9,
    "start_time": "2022-09-13T20:00:13.302Z"
   },
   {
    "duration": 21,
    "start_time": "2022-09-13T20:00:13.312Z"
   },
   {
    "duration": 237,
    "start_time": "2022-09-13T20:00:13.334Z"
   },
   {
    "duration": 5,
    "start_time": "2022-09-13T20:00:13.573Z"
   },
   {
    "duration": 24,
    "start_time": "2022-09-13T20:00:13.580Z"
   },
   {
    "duration": 4,
    "start_time": "2022-09-13T20:00:13.606Z"
   },
   {
    "duration": 6,
    "start_time": "2022-09-13T20:00:13.611Z"
   },
   {
    "duration": 5,
    "start_time": "2022-09-13T20:00:13.619Z"
   },
   {
    "duration": 52,
    "start_time": "2022-09-13T20:00:13.626Z"
   },
   {
    "duration": 6,
    "start_time": "2022-09-13T20:00:13.679Z"
   },
   {
    "duration": 6,
    "start_time": "2022-09-13T20:00:13.687Z"
   },
   {
    "duration": 10,
    "start_time": "2022-09-13T20:00:13.695Z"
   },
   {
    "duration": 7,
    "start_time": "2022-09-13T20:00:13.707Z"
   },
   {
    "duration": 18,
    "start_time": "2022-09-13T20:00:13.715Z"
   },
   {
    "duration": 16,
    "start_time": "2022-09-13T20:00:13.734Z"
   },
   {
    "duration": 38,
    "start_time": "2022-09-13T20:00:13.751Z"
   },
   {
    "duration": 5,
    "start_time": "2022-09-13T20:00:13.791Z"
   },
   {
    "duration": 8,
    "start_time": "2022-09-13T20:00:13.797Z"
   },
   {
    "duration": 7,
    "start_time": "2022-09-13T20:00:13.806Z"
   },
   {
    "duration": 40,
    "start_time": "2022-09-13T20:00:13.814Z"
   },
   {
    "duration": 9,
    "start_time": "2022-09-13T20:00:13.876Z"
   },
   {
    "duration": 7,
    "start_time": "2022-09-13T20:00:13.887Z"
   },
   {
    "duration": 12,
    "start_time": "2022-09-13T20:00:13.895Z"
   },
   {
    "duration": 354,
    "start_time": "2022-09-13T20:00:13.908Z"
   },
   {
    "duration": 14,
    "start_time": "2022-09-13T20:00:14.263Z"
   },
   {
    "duration": 210,
    "start_time": "2022-09-13T20:00:14.281Z"
   },
   {
    "duration": 15,
    "start_time": "2022-09-13T20:00:14.493Z"
   },
   {
    "duration": 19,
    "start_time": "2022-09-13T20:00:14.510Z"
   },
   {
    "duration": 11,
    "start_time": "2022-09-13T20:00:14.531Z"
   },
   {
    "duration": 240,
    "start_time": "2022-09-13T20:00:14.544Z"
   },
   {
    "duration": 23,
    "start_time": "2022-09-13T20:00:14.787Z"
   },
   {
    "duration": 275,
    "start_time": "2022-09-13T20:00:14.812Z"
   },
   {
    "duration": 8,
    "start_time": "2022-09-13T20:00:15.088Z"
   },
   {
    "duration": 13,
    "start_time": "2022-09-13T20:00:15.097Z"
   },
   {
    "duration": 27,
    "start_time": "2022-09-13T20:00:15.112Z"
   },
   {
    "duration": 13,
    "start_time": "2022-09-13T20:00:15.140Z"
   },
   {
    "duration": 10,
    "start_time": "2022-09-13T20:00:15.154Z"
   },
   {
    "duration": 21,
    "start_time": "2022-09-13T20:00:15.165Z"
   },
   {
    "duration": 9,
    "start_time": "2022-09-13T20:00:15.187Z"
   },
   {
    "duration": 279,
    "start_time": "2022-09-13T20:00:15.197Z"
   },
   {
    "duration": 0,
    "start_time": "2022-09-13T20:00:15.478Z"
   },
   {
    "duration": 0,
    "start_time": "2022-09-13T20:00:15.479Z"
   },
   {
    "duration": 0,
    "start_time": "2022-09-13T20:00:15.480Z"
   },
   {
    "duration": 0,
    "start_time": "2022-09-13T20:00:15.481Z"
   },
   {
    "duration": 0,
    "start_time": "2022-09-13T20:00:15.482Z"
   },
   {
    "duration": 0,
    "start_time": "2022-09-13T20:00:15.483Z"
   },
   {
    "duration": 0,
    "start_time": "2022-09-13T20:00:15.484Z"
   },
   {
    "duration": 0,
    "start_time": "2022-09-13T20:00:15.485Z"
   },
   {
    "duration": 0,
    "start_time": "2022-09-13T20:00:15.486Z"
   },
   {
    "duration": 0,
    "start_time": "2022-09-13T20:00:15.487Z"
   },
   {
    "duration": 0,
    "start_time": "2022-09-13T20:00:15.488Z"
   },
   {
    "duration": 0,
    "start_time": "2022-09-13T20:00:15.489Z"
   },
   {
    "duration": 0,
    "start_time": "2022-09-13T20:00:15.490Z"
   },
   {
    "duration": 0,
    "start_time": "2022-09-13T20:00:15.491Z"
   },
   {
    "duration": 0,
    "start_time": "2022-09-13T20:00:15.492Z"
   },
   {
    "duration": 0,
    "start_time": "2022-09-13T20:00:15.493Z"
   },
   {
    "duration": 0,
    "start_time": "2022-09-13T20:00:15.494Z"
   },
   {
    "duration": 0,
    "start_time": "2022-09-13T20:00:15.495Z"
   },
   {
    "duration": 0,
    "start_time": "2022-09-13T20:00:15.496Z"
   },
   {
    "duration": 0,
    "start_time": "2022-09-13T20:00:15.497Z"
   },
   {
    "duration": 0,
    "start_time": "2022-09-13T20:00:15.498Z"
   },
   {
    "duration": 0,
    "start_time": "2022-09-13T20:00:15.499Z"
   },
   {
    "duration": 0,
    "start_time": "2022-09-13T20:00:15.500Z"
   },
   {
    "duration": 0,
    "start_time": "2022-09-13T20:00:15.501Z"
   },
   {
    "duration": 0,
    "start_time": "2022-09-13T20:00:15.502Z"
   },
   {
    "duration": 0,
    "start_time": "2022-09-13T20:00:15.503Z"
   },
   {
    "duration": 0,
    "start_time": "2022-09-13T20:00:15.504Z"
   },
   {
    "duration": 0,
    "start_time": "2022-09-13T20:00:15.505Z"
   },
   {
    "duration": 0,
    "start_time": "2022-09-13T20:00:15.506Z"
   },
   {
    "duration": 0,
    "start_time": "2022-09-13T20:00:15.508Z"
   },
   {
    "duration": 0,
    "start_time": "2022-09-13T20:00:15.509Z"
   },
   {
    "duration": 0,
    "start_time": "2022-09-13T20:00:15.509Z"
   },
   {
    "duration": 0,
    "start_time": "2022-09-13T20:00:15.510Z"
   },
   {
    "duration": 0,
    "start_time": "2022-09-13T20:00:15.511Z"
   },
   {
    "duration": 0,
    "start_time": "2022-09-13T20:00:15.513Z"
   },
   {
    "duration": 0,
    "start_time": "2022-09-13T20:00:15.513Z"
   },
   {
    "duration": 0,
    "start_time": "2022-09-13T20:00:15.514Z"
   },
   {
    "duration": 0,
    "start_time": "2022-09-13T20:00:15.515Z"
   },
   {
    "duration": 0,
    "start_time": "2022-09-13T20:00:15.516Z"
   },
   {
    "duration": 0,
    "start_time": "2022-09-13T20:00:15.517Z"
   },
   {
    "duration": 0,
    "start_time": "2022-09-13T20:00:15.518Z"
   },
   {
    "duration": 172,
    "start_time": "2022-09-13T20:05:08.903Z"
   },
   {
    "duration": 498,
    "start_time": "2022-09-13T20:06:41.305Z"
   },
   {
    "duration": 365,
    "start_time": "2022-09-13T20:07:54.856Z"
   },
   {
    "duration": 334,
    "start_time": "2022-09-13T20:09:31.920Z"
   },
   {
    "duration": 3,
    "start_time": "2022-09-13T20:10:26.326Z"
   },
   {
    "duration": 146,
    "start_time": "2022-09-13T20:11:47.057Z"
   },
   {
    "duration": 161,
    "start_time": "2022-09-13T20:12:03.021Z"
   },
   {
    "duration": 169,
    "start_time": "2022-09-13T20:12:42.421Z"
   },
   {
    "duration": 157,
    "start_time": "2022-09-13T20:13:58.521Z"
   },
   {
    "duration": 29,
    "start_time": "2022-09-13T20:20:36.539Z"
   },
   {
    "duration": 1173,
    "start_time": "2022-09-13T20:23:55.361Z"
   },
   {
    "duration": 3,
    "start_time": "2022-09-13T20:24:16.490Z"
   },
   {
    "duration": 75,
    "start_time": "2022-09-13T20:24:16.496Z"
   },
   {
    "duration": 26,
    "start_time": "2022-09-13T20:24:16.573Z"
   },
   {
    "duration": 12,
    "start_time": "2022-09-13T20:24:16.600Z"
   },
   {
    "duration": 2,
    "start_time": "2022-09-13T20:24:16.614Z"
   },
   {
    "duration": 20,
    "start_time": "2022-09-13T20:24:16.617Z"
   },
   {
    "duration": 44,
    "start_time": "2022-09-13T20:24:16.638Z"
   },
   {
    "duration": 12,
    "start_time": "2022-09-13T20:24:16.684Z"
   },
   {
    "duration": 11,
    "start_time": "2022-09-13T20:24:16.698Z"
   },
   {
    "duration": 13,
    "start_time": "2022-09-13T20:24:16.710Z"
   },
   {
    "duration": 11,
    "start_time": "2022-09-13T20:24:16.725Z"
   },
   {
    "duration": 47,
    "start_time": "2022-09-13T20:24:16.737Z"
   },
   {
    "duration": 9,
    "start_time": "2022-09-13T20:24:16.785Z"
   },
   {
    "duration": 19,
    "start_time": "2022-09-13T20:24:16.796Z"
   },
   {
    "duration": 7,
    "start_time": "2022-09-13T20:24:16.817Z"
   },
   {
    "duration": 9,
    "start_time": "2022-09-13T20:24:16.826Z"
   },
   {
    "duration": 53,
    "start_time": "2022-09-13T20:24:16.836Z"
   },
   {
    "duration": 230,
    "start_time": "2022-09-13T20:24:16.891Z"
   },
   {
    "duration": 4,
    "start_time": "2022-09-13T20:24:17.123Z"
   },
   {
    "duration": 24,
    "start_time": "2022-09-13T20:24:17.128Z"
   },
   {
    "duration": 25,
    "start_time": "2022-09-13T20:24:17.154Z"
   },
   {
    "duration": 5,
    "start_time": "2022-09-13T20:24:17.181Z"
   },
   {
    "duration": 6,
    "start_time": "2022-09-13T20:24:17.188Z"
   },
   {
    "duration": 21,
    "start_time": "2022-09-13T20:24:17.195Z"
   },
   {
    "duration": 4,
    "start_time": "2022-09-13T20:24:17.217Z"
   },
   {
    "duration": 7,
    "start_time": "2022-09-13T20:24:17.223Z"
   },
   {
    "duration": 8,
    "start_time": "2022-09-13T20:24:17.231Z"
   },
   {
    "duration": 38,
    "start_time": "2022-09-13T20:24:17.240Z"
   },
   {
    "duration": 6,
    "start_time": "2022-09-13T20:24:17.281Z"
   },
   {
    "duration": 18,
    "start_time": "2022-09-13T20:24:17.288Z"
   },
   {
    "duration": 23,
    "start_time": "2022-09-13T20:24:17.307Z"
   },
   {
    "duration": 4,
    "start_time": "2022-09-13T20:24:17.332Z"
   },
   {
    "duration": 6,
    "start_time": "2022-09-13T20:24:17.337Z"
   },
   {
    "duration": 7,
    "start_time": "2022-09-13T20:24:17.344Z"
   },
   {
    "duration": 60,
    "start_time": "2022-09-13T20:24:17.352Z"
   },
   {
    "duration": 9,
    "start_time": "2022-09-13T20:24:17.413Z"
   },
   {
    "duration": 7,
    "start_time": "2022-09-13T20:24:17.423Z"
   },
   {
    "duration": 12,
    "start_time": "2022-09-13T20:24:17.432Z"
   },
   {
    "duration": 354,
    "start_time": "2022-09-13T20:24:17.446Z"
   },
   {
    "duration": 7,
    "start_time": "2022-09-13T20:24:17.802Z"
   },
   {
    "duration": 223,
    "start_time": "2022-09-13T20:24:17.810Z"
   },
   {
    "duration": 21,
    "start_time": "2022-09-13T20:24:18.035Z"
   },
   {
    "duration": 29,
    "start_time": "2022-09-13T20:24:18.057Z"
   },
   {
    "duration": 6,
    "start_time": "2022-09-13T20:24:18.088Z"
   },
   {
    "duration": 232,
    "start_time": "2022-09-13T20:24:18.096Z"
   },
   {
    "duration": 22,
    "start_time": "2022-09-13T20:24:18.330Z"
   },
   {
    "duration": 256,
    "start_time": "2022-09-13T20:24:18.354Z"
   },
   {
    "duration": 7,
    "start_time": "2022-09-13T20:24:18.612Z"
   },
   {
    "duration": 6,
    "start_time": "2022-09-13T20:24:18.620Z"
   },
   {
    "duration": 10,
    "start_time": "2022-09-13T20:24:18.627Z"
   },
   {
    "duration": 6,
    "start_time": "2022-09-13T20:24:18.639Z"
   },
   {
    "duration": 8,
    "start_time": "2022-09-13T20:24:18.646Z"
   },
   {
    "duration": 25,
    "start_time": "2022-09-13T20:24:18.655Z"
   },
   {
    "duration": 5,
    "start_time": "2022-09-13T20:24:18.681Z"
   },
   {
    "duration": 155,
    "start_time": "2022-09-13T20:24:23.174Z"
   },
   {
    "duration": 153,
    "start_time": "2022-09-13T20:24:41.834Z"
   },
   {
    "duration": 24,
    "start_time": "2022-09-13T20:31:06.599Z"
   },
   {
    "duration": 25,
    "start_time": "2022-09-13T20:32:56.078Z"
   },
   {
    "duration": 27,
    "start_time": "2022-09-13T20:38:26.487Z"
   },
   {
    "duration": 1080,
    "start_time": "2022-09-13T20:38:47.021Z"
   },
   {
    "duration": 68,
    "start_time": "2022-09-13T20:38:48.102Z"
   },
   {
    "duration": 27,
    "start_time": "2022-09-13T20:38:48.172Z"
   },
   {
    "duration": 12,
    "start_time": "2022-09-13T20:38:48.201Z"
   },
   {
    "duration": 3,
    "start_time": "2022-09-13T20:38:48.214Z"
   },
   {
    "duration": 20,
    "start_time": "2022-09-13T20:38:48.218Z"
   },
   {
    "duration": 43,
    "start_time": "2022-09-13T20:38:48.240Z"
   },
   {
    "duration": 12,
    "start_time": "2022-09-13T20:38:48.285Z"
   },
   {
    "duration": 9,
    "start_time": "2022-09-13T20:38:48.298Z"
   },
   {
    "duration": 12,
    "start_time": "2022-09-13T20:38:48.310Z"
   },
   {
    "duration": 11,
    "start_time": "2022-09-13T20:38:48.324Z"
   },
   {
    "duration": 47,
    "start_time": "2022-09-13T20:38:48.337Z"
   },
   {
    "duration": 10,
    "start_time": "2022-09-13T20:38:48.386Z"
   },
   {
    "duration": 19,
    "start_time": "2022-09-13T20:38:48.398Z"
   },
   {
    "duration": 8,
    "start_time": "2022-09-13T20:38:48.419Z"
   },
   {
    "duration": 10,
    "start_time": "2022-09-13T20:38:48.429Z"
   },
   {
    "duration": 22,
    "start_time": "2022-09-13T20:38:48.477Z"
   },
   {
    "duration": 216,
    "start_time": "2022-09-13T20:38:48.501Z"
   },
   {
    "duration": 5,
    "start_time": "2022-09-13T20:38:48.719Z"
   },
   {
    "duration": 26,
    "start_time": "2022-09-13T20:38:48.726Z"
   },
   {
    "duration": 4,
    "start_time": "2022-09-13T20:38:48.753Z"
   },
   {
    "duration": 18,
    "start_time": "2022-09-13T20:38:48.759Z"
   },
   {
    "duration": 5,
    "start_time": "2022-09-13T20:38:48.778Z"
   },
   {
    "duration": 25,
    "start_time": "2022-09-13T20:38:48.784Z"
   },
   {
    "duration": 4,
    "start_time": "2022-09-13T20:38:48.810Z"
   },
   {
    "duration": 6,
    "start_time": "2022-09-13T20:38:48.816Z"
   },
   {
    "duration": 7,
    "start_time": "2022-09-13T20:38:48.823Z"
   },
   {
    "duration": 7,
    "start_time": "2022-09-13T20:38:48.833Z"
   },
   {
    "duration": 38,
    "start_time": "2022-09-13T20:38:48.841Z"
   },
   {
    "duration": 15,
    "start_time": "2022-09-13T20:38:48.880Z"
   },
   {
    "duration": 22,
    "start_time": "2022-09-13T20:38:48.897Z"
   },
   {
    "duration": 5,
    "start_time": "2022-09-13T20:38:48.921Z"
   },
   {
    "duration": 6,
    "start_time": "2022-09-13T20:38:48.927Z"
   },
   {
    "duration": 7,
    "start_time": "2022-09-13T20:38:48.935Z"
   },
   {
    "duration": 67,
    "start_time": "2022-09-13T20:38:48.943Z"
   },
   {
    "duration": 11,
    "start_time": "2022-09-13T20:38:49.012Z"
   },
   {
    "duration": 8,
    "start_time": "2022-09-13T20:38:49.025Z"
   },
   {
    "duration": 42,
    "start_time": "2022-09-13T20:38:49.035Z"
   },
   {
    "duration": 349,
    "start_time": "2022-09-13T20:38:49.078Z"
   },
   {
    "duration": 8,
    "start_time": "2022-09-13T20:38:49.429Z"
   },
   {
    "duration": 230,
    "start_time": "2022-09-13T20:38:49.438Z"
   },
   {
    "duration": 21,
    "start_time": "2022-09-13T20:38:49.669Z"
   },
   {
    "duration": 15,
    "start_time": "2022-09-13T20:38:49.692Z"
   },
   {
    "duration": 13,
    "start_time": "2022-09-13T20:38:49.709Z"
   },
   {
    "duration": 261,
    "start_time": "2022-09-13T20:38:49.723Z"
   },
   {
    "duration": 22,
    "start_time": "2022-09-13T20:38:49.986Z"
   },
   {
    "duration": 288,
    "start_time": "2022-09-13T20:38:50.010Z"
   },
   {
    "duration": 8,
    "start_time": "2022-09-13T20:38:50.300Z"
   },
   {
    "duration": 5,
    "start_time": "2022-09-13T20:38:50.309Z"
   },
   {
    "duration": 12,
    "start_time": "2022-09-13T20:38:50.315Z"
   },
   {
    "duration": 8,
    "start_time": "2022-09-13T20:38:50.328Z"
   },
   {
    "duration": 7,
    "start_time": "2022-09-13T20:38:50.338Z"
   },
   {
    "duration": 31,
    "start_time": "2022-09-13T20:38:50.346Z"
   },
   {
    "duration": 7,
    "start_time": "2022-09-13T20:38:50.379Z"
   },
   {
    "duration": 121,
    "start_time": "2022-09-13T20:38:50.387Z"
   },
   {
    "duration": 0,
    "start_time": "2022-09-13T20:38:50.510Z"
   },
   {
    "duration": 0,
    "start_time": "2022-09-13T20:38:50.511Z"
   },
   {
    "duration": 0,
    "start_time": "2022-09-13T20:38:50.512Z"
   },
   {
    "duration": 0,
    "start_time": "2022-09-13T20:38:50.513Z"
   },
   {
    "duration": 0,
    "start_time": "2022-09-13T20:38:50.514Z"
   },
   {
    "duration": 0,
    "start_time": "2022-09-13T20:38:50.515Z"
   },
   {
    "duration": 0,
    "start_time": "2022-09-13T20:38:50.518Z"
   },
   {
    "duration": 0,
    "start_time": "2022-09-13T20:38:50.519Z"
   },
   {
    "duration": 0,
    "start_time": "2022-09-13T20:38:50.520Z"
   },
   {
    "duration": 0,
    "start_time": "2022-09-13T20:38:50.522Z"
   },
   {
    "duration": 0,
    "start_time": "2022-09-13T20:38:50.523Z"
   },
   {
    "duration": 0,
    "start_time": "2022-09-13T20:38:50.524Z"
   },
   {
    "duration": 0,
    "start_time": "2022-09-13T20:38:50.525Z"
   },
   {
    "duration": 0,
    "start_time": "2022-09-13T20:38:50.526Z"
   },
   {
    "duration": 0,
    "start_time": "2022-09-13T20:38:50.527Z"
   },
   {
    "duration": 0,
    "start_time": "2022-09-13T20:38:50.528Z"
   },
   {
    "duration": 0,
    "start_time": "2022-09-13T20:38:50.529Z"
   },
   {
    "duration": 0,
    "start_time": "2022-09-13T20:38:50.530Z"
   },
   {
    "duration": 0,
    "start_time": "2022-09-13T20:38:50.531Z"
   },
   {
    "duration": 0,
    "start_time": "2022-09-13T20:38:50.532Z"
   },
   {
    "duration": 0,
    "start_time": "2022-09-13T20:38:50.533Z"
   },
   {
    "duration": 0,
    "start_time": "2022-09-13T20:38:50.534Z"
   },
   {
    "duration": 0,
    "start_time": "2022-09-13T20:38:50.535Z"
   },
   {
    "duration": 0,
    "start_time": "2022-09-13T20:38:50.536Z"
   },
   {
    "duration": 0,
    "start_time": "2022-09-13T20:38:50.577Z"
   },
   {
    "duration": 0,
    "start_time": "2022-09-13T20:38:50.579Z"
   },
   {
    "duration": 0,
    "start_time": "2022-09-13T20:38:50.581Z"
   },
   {
    "duration": 0,
    "start_time": "2022-09-13T20:38:50.582Z"
   },
   {
    "duration": 0,
    "start_time": "2022-09-13T20:38:50.583Z"
   },
   {
    "duration": 0,
    "start_time": "2022-09-13T20:38:50.584Z"
   },
   {
    "duration": 0,
    "start_time": "2022-09-13T20:38:50.585Z"
   },
   {
    "duration": 0,
    "start_time": "2022-09-13T20:38:50.588Z"
   },
   {
    "duration": 0,
    "start_time": "2022-09-13T20:38:50.589Z"
   },
   {
    "duration": 0,
    "start_time": "2022-09-13T20:38:50.590Z"
   },
   {
    "duration": 0,
    "start_time": "2022-09-13T20:38:50.591Z"
   },
   {
    "duration": 0,
    "start_time": "2022-09-13T20:38:50.593Z"
   },
   {
    "duration": 0,
    "start_time": "2022-09-13T20:38:50.594Z"
   },
   {
    "duration": 0,
    "start_time": "2022-09-13T20:38:50.595Z"
   },
   {
    "duration": 0,
    "start_time": "2022-09-13T20:38:50.596Z"
   },
   {
    "duration": 0,
    "start_time": "2022-09-13T20:38:50.597Z"
   },
   {
    "duration": 24,
    "start_time": "2022-09-13T20:44:32.601Z"
   },
   {
    "duration": 235,
    "start_time": "2022-09-13T20:44:40.321Z"
   },
   {
    "duration": 25,
    "start_time": "2022-09-13T20:50:19.733Z"
   },
   {
    "duration": 88,
    "start_time": "2022-09-13T20:51:28.376Z"
   },
   {
    "duration": 12,
    "start_time": "2022-09-13T21:04:31.755Z"
   },
   {
    "duration": 12,
    "start_time": "2022-09-13T21:05:42.533Z"
   },
   {
    "duration": 10,
    "start_time": "2022-09-13T21:08:31.988Z"
   },
   {
    "duration": 154,
    "start_time": "2022-09-13T21:09:53.321Z"
   },
   {
    "duration": 152,
    "start_time": "2022-09-13T21:10:14.193Z"
   },
   {
    "duration": 14,
    "start_time": "2022-09-13T21:14:25.927Z"
   },
   {
    "duration": 182,
    "start_time": "2022-09-13T21:15:25.768Z"
   },
   {
    "duration": 13,
    "start_time": "2022-09-13T21:17:26.181Z"
   },
   {
    "duration": 19,
    "start_time": "2022-09-13T21:22:21.448Z"
   },
   {
    "duration": 13,
    "start_time": "2022-09-13T21:23:07.376Z"
   },
   {
    "duration": 49,
    "start_time": "2022-09-13T21:27:26.288Z"
   },
   {
    "duration": 192,
    "start_time": "2022-09-13T21:28:05.930Z"
   },
   {
    "duration": 11,
    "start_time": "2022-09-13T21:28:35.669Z"
   },
   {
    "duration": 191,
    "start_time": "2022-09-13T21:29:19.236Z"
   },
   {
    "duration": 12,
    "start_time": "2022-09-13T21:30:25.790Z"
   },
   {
    "duration": 8,
    "start_time": "2022-09-13T21:38:57.511Z"
   },
   {
    "duration": 196,
    "start_time": "2022-09-13T21:40:27.314Z"
   },
   {
    "duration": 12,
    "start_time": "2022-09-13T21:42:25.770Z"
   },
   {
    "duration": 9,
    "start_time": "2022-09-13T21:53:36.519Z"
   },
   {
    "duration": 5,
    "start_time": "2022-09-13T21:54:19.918Z"
   },
   {
    "duration": 16,
    "start_time": "2022-09-13T21:54:47.481Z"
   },
   {
    "duration": 188,
    "start_time": "2022-09-13T21:55:12.760Z"
   },
   {
    "duration": 6,
    "start_time": "2022-09-13T22:03:15.097Z"
   },
   {
    "duration": 221,
    "start_time": "2022-09-13T22:03:22.872Z"
   },
   {
    "duration": 1083,
    "start_time": "2022-09-13T22:07:47.377Z"
   },
   {
    "duration": 67,
    "start_time": "2022-09-13T22:07:48.462Z"
   },
   {
    "duration": 28,
    "start_time": "2022-09-13T22:07:48.531Z"
   },
   {
    "duration": 15,
    "start_time": "2022-09-13T22:07:48.562Z"
   },
   {
    "duration": 3,
    "start_time": "2022-09-13T22:07:48.579Z"
   },
   {
    "duration": 19,
    "start_time": "2022-09-13T22:07:48.583Z"
   },
   {
    "duration": 20,
    "start_time": "2022-09-13T22:07:48.604Z"
   },
   {
    "duration": 13,
    "start_time": "2022-09-13T22:07:48.625Z"
   },
   {
    "duration": 8,
    "start_time": "2022-09-13T22:07:48.639Z"
   },
   {
    "duration": 12,
    "start_time": "2022-09-13T22:07:48.678Z"
   },
   {
    "duration": 12,
    "start_time": "2022-09-13T22:07:48.692Z"
   },
   {
    "duration": 14,
    "start_time": "2022-09-13T22:07:48.705Z"
   },
   {
    "duration": 9,
    "start_time": "2022-09-13T22:07:48.721Z"
   },
   {
    "duration": 57,
    "start_time": "2022-09-13T22:07:48.732Z"
   },
   {
    "duration": 10,
    "start_time": "2022-09-13T22:07:48.792Z"
   },
   {
    "duration": 10,
    "start_time": "2022-09-13T22:07:48.803Z"
   },
   {
    "duration": 21,
    "start_time": "2022-09-13T22:07:48.814Z"
   },
   {
    "duration": 222,
    "start_time": "2022-09-13T22:07:48.836Z"
   },
   {
    "duration": 5,
    "start_time": "2022-09-13T22:07:49.060Z"
   },
   {
    "duration": 25,
    "start_time": "2022-09-13T22:07:49.067Z"
   },
   {
    "duration": 4,
    "start_time": "2022-09-13T22:07:49.093Z"
   },
   {
    "duration": 10,
    "start_time": "2022-09-13T22:07:49.099Z"
   },
   {
    "duration": 6,
    "start_time": "2022-09-13T22:07:49.111Z"
   },
   {
    "duration": 29,
    "start_time": "2022-09-13T22:07:49.118Z"
   },
   {
    "duration": 29,
    "start_time": "2022-09-13T22:07:49.148Z"
   },
   {
    "duration": 9,
    "start_time": "2022-09-13T22:07:49.179Z"
   },
   {
    "duration": 8,
    "start_time": "2022-09-13T22:07:49.189Z"
   },
   {
    "duration": 5,
    "start_time": "2022-09-13T22:07:49.201Z"
   },
   {
    "duration": 6,
    "start_time": "2022-09-13T22:07:49.208Z"
   },
   {
    "duration": 14,
    "start_time": "2022-09-13T22:07:49.216Z"
   },
   {
    "duration": 47,
    "start_time": "2022-09-13T22:07:49.231Z"
   },
   {
    "duration": 4,
    "start_time": "2022-09-13T22:07:49.280Z"
   },
   {
    "duration": 6,
    "start_time": "2022-09-13T22:07:49.286Z"
   },
   {
    "duration": 7,
    "start_time": "2022-09-13T22:07:49.294Z"
   },
   {
    "duration": 37,
    "start_time": "2022-09-13T22:07:49.302Z"
   },
   {
    "duration": 40,
    "start_time": "2022-09-13T22:07:49.341Z"
   },
   {
    "duration": 9,
    "start_time": "2022-09-13T22:07:49.383Z"
   },
   {
    "duration": 13,
    "start_time": "2022-09-13T22:07:49.393Z"
   },
   {
    "duration": 342,
    "start_time": "2022-09-13T22:07:49.408Z"
   },
   {
    "duration": 8,
    "start_time": "2022-09-13T22:07:49.752Z"
   },
   {
    "duration": 229,
    "start_time": "2022-09-13T22:07:49.761Z"
   },
   {
    "duration": 16,
    "start_time": "2022-09-13T22:07:49.991Z"
   },
   {
    "duration": 14,
    "start_time": "2022-09-13T22:07:50.008Z"
   },
   {
    "duration": 8,
    "start_time": "2022-09-13T22:07:50.024Z"
   },
   {
    "duration": 243,
    "start_time": "2022-09-13T22:07:50.033Z"
   },
   {
    "duration": 22,
    "start_time": "2022-09-13T22:07:50.278Z"
   },
   {
    "duration": 268,
    "start_time": "2022-09-13T22:07:50.301Z"
   },
   {
    "duration": 11,
    "start_time": "2022-09-13T22:07:50.571Z"
   },
   {
    "duration": 5,
    "start_time": "2022-09-13T22:07:50.584Z"
   },
   {
    "duration": 10,
    "start_time": "2022-09-13T22:07:50.591Z"
   },
   {
    "duration": 6,
    "start_time": "2022-09-13T22:07:50.602Z"
   },
   {
    "duration": 7,
    "start_time": "2022-09-13T22:07:50.609Z"
   },
   {
    "duration": 4,
    "start_time": "2022-09-13T22:07:50.618Z"
   },
   {
    "duration": 4,
    "start_time": "2022-09-13T22:07:50.624Z"
   },
   {
    "duration": 8,
    "start_time": "2022-09-13T22:07:50.629Z"
   },
   {
    "duration": 253,
    "start_time": "2022-09-13T22:07:50.638Z"
   },
   {
    "duration": 14,
    "start_time": "2022-09-13T22:07:50.893Z"
   },
   {
    "duration": 180,
    "start_time": "2022-09-13T22:07:50.908Z"
   },
   {
    "duration": 104,
    "start_time": "2022-09-13T22:07:51.090Z"
   },
   {
    "duration": 100,
    "start_time": "2022-09-13T22:07:51.195Z"
   },
   {
    "duration": 138,
    "start_time": "2022-09-13T22:07:51.297Z"
   },
   {
    "duration": 125,
    "start_time": "2022-09-13T22:07:51.436Z"
   },
   {
    "duration": 19,
    "start_time": "2022-09-13T22:07:51.563Z"
   },
   {
    "duration": 14,
    "start_time": "2022-09-13T22:07:51.583Z"
   },
   {
    "duration": 151,
    "start_time": "2022-09-13T22:07:51.598Z"
   },
   {
    "duration": 138,
    "start_time": "2022-09-13T22:07:51.751Z"
   },
   {
    "duration": 7,
    "start_time": "2022-09-13T22:07:51.891Z"
   },
   {
    "duration": 10,
    "start_time": "2022-09-13T22:07:51.900Z"
   },
   {
    "duration": 135,
    "start_time": "2022-09-13T22:07:51.912Z"
   },
   {
    "duration": 8,
    "start_time": "2022-09-13T22:07:52.048Z"
   },
   {
    "duration": 21,
    "start_time": "2022-09-13T22:07:52.057Z"
   },
   {
    "duration": 8,
    "start_time": "2022-09-13T22:07:52.080Z"
   },
   {
    "duration": 6,
    "start_time": "2022-09-13T22:07:52.090Z"
   },
   {
    "duration": 8,
    "start_time": "2022-09-13T22:07:52.097Z"
   },
   {
    "duration": 8,
    "start_time": "2022-09-13T22:07:52.106Z"
   },
   {
    "duration": 7,
    "start_time": "2022-09-13T22:07:52.115Z"
   },
   {
    "duration": 59,
    "start_time": "2022-09-13T22:07:52.123Z"
   },
   {
    "duration": 0,
    "start_time": "2022-09-13T22:07:52.184Z"
   },
   {
    "duration": 0,
    "start_time": "2022-09-13T22:07:52.185Z"
   },
   {
    "duration": 0,
    "start_time": "2022-09-13T22:07:52.186Z"
   },
   {
    "duration": 0,
    "start_time": "2022-09-13T22:07:52.187Z"
   },
   {
    "duration": 0,
    "start_time": "2022-09-13T22:07:52.188Z"
   },
   {
    "duration": 1,
    "start_time": "2022-09-13T22:07:52.189Z"
   },
   {
    "duration": 0,
    "start_time": "2022-09-13T22:07:52.190Z"
   },
   {
    "duration": 0,
    "start_time": "2022-09-13T22:07:52.192Z"
   },
   {
    "duration": 0,
    "start_time": "2022-09-13T22:07:52.193Z"
   },
   {
    "duration": 0,
    "start_time": "2022-09-13T22:07:52.194Z"
   },
   {
    "duration": 0,
    "start_time": "2022-09-13T22:07:52.195Z"
   },
   {
    "duration": 0,
    "start_time": "2022-09-13T22:07:52.196Z"
   },
   {
    "duration": 0,
    "start_time": "2022-09-13T22:07:52.197Z"
   },
   {
    "duration": 0,
    "start_time": "2022-09-13T22:07:52.198Z"
   },
   {
    "duration": 0,
    "start_time": "2022-09-13T22:07:52.199Z"
   },
   {
    "duration": 0,
    "start_time": "2022-09-13T22:07:52.200Z"
   },
   {
    "duration": 0,
    "start_time": "2022-09-13T22:07:52.201Z"
   },
   {
    "duration": 0,
    "start_time": "2022-09-13T22:07:52.202Z"
   },
   {
    "duration": 1099,
    "start_time": "2022-09-13T22:09:07.255Z"
   },
   {
    "duration": 67,
    "start_time": "2022-09-13T22:09:08.356Z"
   },
   {
    "duration": 26,
    "start_time": "2022-09-13T22:09:08.425Z"
   },
   {
    "duration": 12,
    "start_time": "2022-09-13T22:09:08.453Z"
   },
   {
    "duration": 3,
    "start_time": "2022-09-13T22:09:08.476Z"
   },
   {
    "duration": 21,
    "start_time": "2022-09-13T22:09:08.480Z"
   },
   {
    "duration": 25,
    "start_time": "2022-09-13T22:09:08.502Z"
   },
   {
    "duration": 11,
    "start_time": "2022-09-13T22:09:08.528Z"
   },
   {
    "duration": 8,
    "start_time": "2022-09-13T22:09:08.541Z"
   },
   {
    "duration": 36,
    "start_time": "2022-09-13T22:09:08.551Z"
   },
   {
    "duration": 10,
    "start_time": "2022-09-13T22:09:08.589Z"
   },
   {
    "duration": 13,
    "start_time": "2022-09-13T22:09:08.601Z"
   },
   {
    "duration": 8,
    "start_time": "2022-09-13T22:09:08.616Z"
   },
   {
    "duration": 19,
    "start_time": "2022-09-13T22:09:08.626Z"
   },
   {
    "duration": 37,
    "start_time": "2022-09-13T22:09:08.646Z"
   },
   {
    "duration": 10,
    "start_time": "2022-09-13T22:09:08.684Z"
   },
   {
    "duration": 20,
    "start_time": "2022-09-13T22:09:08.696Z"
   },
   {
    "duration": 223,
    "start_time": "2022-09-13T22:09:08.718Z"
   },
   {
    "duration": 6,
    "start_time": "2022-09-13T22:09:08.943Z"
   },
   {
    "duration": 38,
    "start_time": "2022-09-13T22:09:08.950Z"
   },
   {
    "duration": 6,
    "start_time": "2022-09-13T22:09:08.989Z"
   },
   {
    "duration": 7,
    "start_time": "2022-09-13T22:09:08.996Z"
   },
   {
    "duration": 5,
    "start_time": "2022-09-13T22:09:09.005Z"
   },
   {
    "duration": 23,
    "start_time": "2022-09-13T22:09:09.012Z"
   },
   {
    "duration": 4,
    "start_time": "2022-09-13T22:09:09.037Z"
   },
   {
    "duration": 35,
    "start_time": "2022-09-13T22:09:09.042Z"
   },
   {
    "duration": 7,
    "start_time": "2022-09-13T22:09:09.079Z"
   },
   {
    "duration": 5,
    "start_time": "2022-09-13T22:09:09.089Z"
   },
   {
    "duration": 10,
    "start_time": "2022-09-13T22:09:09.096Z"
   },
   {
    "duration": 25,
    "start_time": "2022-09-13T22:09:09.107Z"
   },
   {
    "duration": 24,
    "start_time": "2022-09-13T22:09:09.133Z"
   },
   {
    "duration": 19,
    "start_time": "2022-09-13T22:09:09.159Z"
   },
   {
    "duration": 6,
    "start_time": "2022-09-13T22:09:09.179Z"
   },
   {
    "duration": 6,
    "start_time": "2022-09-13T22:09:09.187Z"
   },
   {
    "duration": 38,
    "start_time": "2022-09-13T22:09:09.195Z"
   },
   {
    "duration": 10,
    "start_time": "2022-09-13T22:09:09.234Z"
   },
   {
    "duration": 35,
    "start_time": "2022-09-13T22:09:09.246Z"
   },
   {
    "duration": 13,
    "start_time": "2022-09-13T22:09:09.283Z"
   },
   {
    "duration": 337,
    "start_time": "2022-09-13T22:09:09.297Z"
   },
   {
    "duration": 7,
    "start_time": "2022-09-13T22:09:09.636Z"
   },
   {
    "duration": 220,
    "start_time": "2022-09-13T22:09:09.644Z"
   },
   {
    "duration": 22,
    "start_time": "2022-09-13T22:09:09.865Z"
   },
   {
    "duration": 16,
    "start_time": "2022-09-13T22:09:09.888Z"
   },
   {
    "duration": 7,
    "start_time": "2022-09-13T22:09:09.906Z"
   },
   {
    "duration": 262,
    "start_time": "2022-09-13T22:09:09.914Z"
   },
   {
    "duration": 22,
    "start_time": "2022-09-13T22:09:10.178Z"
   },
   {
    "duration": 281,
    "start_time": "2022-09-13T22:09:10.201Z"
   },
   {
    "duration": 7,
    "start_time": "2022-09-13T22:09:10.484Z"
   },
   {
    "duration": 4,
    "start_time": "2022-09-13T22:09:10.492Z"
   },
   {
    "duration": 14,
    "start_time": "2022-09-13T22:09:10.498Z"
   },
   {
    "duration": 8,
    "start_time": "2022-09-13T22:09:10.513Z"
   },
   {
    "duration": 12,
    "start_time": "2022-09-13T22:09:10.522Z"
   },
   {
    "duration": 8,
    "start_time": "2022-09-13T22:09:10.535Z"
   },
   {
    "duration": 18,
    "start_time": "2022-09-13T22:09:10.545Z"
   },
   {
    "duration": 14,
    "start_time": "2022-09-13T22:09:10.564Z"
   },
   {
    "duration": 226,
    "start_time": "2022-09-13T22:09:10.580Z"
   },
   {
    "duration": 14,
    "start_time": "2022-09-13T22:09:10.808Z"
   },
   {
    "duration": 182,
    "start_time": "2022-09-13T22:09:10.824Z"
   },
   {
    "duration": 106,
    "start_time": "2022-09-13T22:09:11.008Z"
   },
   {
    "duration": 103,
    "start_time": "2022-09-13T22:09:11.116Z"
   },
   {
    "duration": 146,
    "start_time": "2022-09-13T22:09:11.221Z"
   },
   {
    "duration": 131,
    "start_time": "2022-09-13T22:09:11.376Z"
   },
   {
    "duration": 10,
    "start_time": "2022-09-13T22:09:11.508Z"
   },
   {
    "duration": 11,
    "start_time": "2022-09-13T22:09:11.519Z"
   },
   {
    "duration": 163,
    "start_time": "2022-09-13T22:09:11.532Z"
   },
   {
    "duration": 128,
    "start_time": "2022-09-13T22:09:11.697Z"
   },
   {
    "duration": 7,
    "start_time": "2022-09-13T22:09:11.827Z"
   },
   {
    "duration": 9,
    "start_time": "2022-09-13T22:09:11.835Z"
   },
   {
    "duration": 143,
    "start_time": "2022-09-13T22:09:11.845Z"
   },
   {
    "duration": 8,
    "start_time": "2022-09-13T22:09:11.990Z"
   },
   {
    "duration": 8,
    "start_time": "2022-09-13T22:09:12.000Z"
   },
   {
    "duration": 16,
    "start_time": "2022-09-13T22:09:12.009Z"
   },
   {
    "duration": 6,
    "start_time": "2022-09-13T22:09:12.027Z"
   },
   {
    "duration": 15,
    "start_time": "2022-09-13T22:09:12.034Z"
   },
   {
    "duration": 26,
    "start_time": "2022-09-13T22:09:12.051Z"
   },
   {
    "duration": 6,
    "start_time": "2022-09-13T22:09:12.079Z"
   },
   {
    "duration": 21,
    "start_time": "2022-09-13T22:09:12.086Z"
   },
   {
    "duration": 247,
    "start_time": "2022-09-13T22:09:12.109Z"
   },
   {
    "duration": 7,
    "start_time": "2022-09-13T22:09:12.357Z"
   },
   {
    "duration": 16,
    "start_time": "2022-09-13T22:09:12.365Z"
   },
   {
    "duration": 21,
    "start_time": "2022-09-13T22:09:12.382Z"
   },
   {
    "duration": 21,
    "start_time": "2022-09-13T22:09:12.408Z"
   },
   {
    "duration": 15,
    "start_time": "2022-09-13T22:09:12.431Z"
   },
   {
    "duration": 13,
    "start_time": "2022-09-13T22:09:12.447Z"
   },
   {
    "duration": 22,
    "start_time": "2022-09-13T22:09:12.462Z"
   },
   {
    "duration": 18,
    "start_time": "2022-09-13T22:09:12.486Z"
   },
   {
    "duration": 14,
    "start_time": "2022-09-13T22:09:12.506Z"
   },
   {
    "duration": 23,
    "start_time": "2022-09-13T22:09:12.521Z"
   },
   {
    "duration": 135,
    "start_time": "2022-09-13T22:09:12.546Z"
   },
   {
    "duration": 137,
    "start_time": "2022-09-13T22:09:12.682Z"
   },
   {
    "duration": 210,
    "start_time": "2022-09-13T22:09:12.821Z"
   },
   {
    "duration": 144,
    "start_time": "2022-09-13T22:09:13.032Z"
   },
   {
    "duration": 11,
    "start_time": "2022-09-13T22:09:13.178Z"
   },
   {
    "duration": 16,
    "start_time": "2022-09-13T22:09:13.190Z"
   },
   {
    "duration": 1108,
    "start_time": "2022-09-13T22:14:49.459Z"
   },
   {
    "duration": 71,
    "start_time": "2022-09-13T22:14:50.570Z"
   },
   {
    "duration": 26,
    "start_time": "2022-09-13T22:14:50.642Z"
   },
   {
    "duration": 11,
    "start_time": "2022-09-13T22:14:50.669Z"
   },
   {
    "duration": 3,
    "start_time": "2022-09-13T22:14:50.682Z"
   },
   {
    "duration": 24,
    "start_time": "2022-09-13T22:14:50.686Z"
   },
   {
    "duration": 22,
    "start_time": "2022-09-13T22:14:50.712Z"
   },
   {
    "duration": 11,
    "start_time": "2022-09-13T22:14:50.736Z"
   },
   {
    "duration": 8,
    "start_time": "2022-09-13T22:14:50.749Z"
   },
   {
    "duration": 30,
    "start_time": "2022-09-13T22:14:50.758Z"
   },
   {
    "duration": 15,
    "start_time": "2022-09-13T22:14:50.789Z"
   },
   {
    "duration": 14,
    "start_time": "2022-09-13T22:14:50.806Z"
   },
   {
    "duration": 8,
    "start_time": "2022-09-13T22:14:50.822Z"
   },
   {
    "duration": 20,
    "start_time": "2022-09-13T22:14:50.834Z"
   },
   {
    "duration": 8,
    "start_time": "2022-09-13T22:14:50.878Z"
   },
   {
    "duration": 13,
    "start_time": "2022-09-13T22:14:50.888Z"
   },
   {
    "duration": 24,
    "start_time": "2022-09-13T22:14:50.903Z"
   },
   {
    "duration": 212,
    "start_time": "2022-09-13T22:14:50.928Z"
   },
   {
    "duration": 5,
    "start_time": "2022-09-13T22:14:51.141Z"
   },
   {
    "duration": 33,
    "start_time": "2022-09-13T22:14:51.147Z"
   },
   {
    "duration": 4,
    "start_time": "2022-09-13T22:14:51.182Z"
   },
   {
    "duration": 11,
    "start_time": "2022-09-13T22:14:51.187Z"
   },
   {
    "duration": 7,
    "start_time": "2022-09-13T22:14:51.199Z"
   },
   {
    "duration": 21,
    "start_time": "2022-09-13T22:14:51.207Z"
   },
   {
    "duration": 5,
    "start_time": "2022-09-13T22:14:51.229Z"
   },
   {
    "duration": 6,
    "start_time": "2022-09-13T22:14:51.235Z"
   },
   {
    "duration": 7,
    "start_time": "2022-09-13T22:14:51.242Z"
   },
   {
    "duration": 28,
    "start_time": "2022-09-13T22:14:51.250Z"
   },
   {
    "duration": 5,
    "start_time": "2022-09-13T22:14:51.280Z"
   },
   {
    "duration": 23,
    "start_time": "2022-09-13T22:14:51.286Z"
   },
   {
    "duration": 21,
    "start_time": "2022-09-13T22:14:51.311Z"
   },
   {
    "duration": 4,
    "start_time": "2022-09-13T22:14:51.333Z"
   },
   {
    "duration": 10,
    "start_time": "2022-09-13T22:14:51.338Z"
   },
   {
    "duration": 9,
    "start_time": "2022-09-13T22:14:51.350Z"
   },
   {
    "duration": 50,
    "start_time": "2022-09-13T22:14:51.360Z"
   },
   {
    "duration": 9,
    "start_time": "2022-09-13T22:14:51.412Z"
   },
   {
    "duration": 7,
    "start_time": "2022-09-13T22:14:51.422Z"
   },
   {
    "duration": 13,
    "start_time": "2022-09-13T22:14:51.431Z"
   },
   {
    "duration": 350,
    "start_time": "2022-09-13T22:14:51.445Z"
   },
   {
    "duration": 8,
    "start_time": "2022-09-13T22:14:51.796Z"
   },
   {
    "duration": 209,
    "start_time": "2022-09-13T22:14:51.808Z"
   },
   {
    "duration": 16,
    "start_time": "2022-09-13T22:14:52.018Z"
   },
   {
    "duration": 15,
    "start_time": "2022-09-13T22:14:52.035Z"
   },
   {
    "duration": 27,
    "start_time": "2022-09-13T22:14:52.051Z"
   },
   {
    "duration": 236,
    "start_time": "2022-09-13T22:14:52.080Z"
   },
   {
    "duration": 21,
    "start_time": "2022-09-13T22:14:52.318Z"
   },
   {
    "duration": 279,
    "start_time": "2022-09-13T22:14:52.340Z"
   },
   {
    "duration": 7,
    "start_time": "2022-09-13T22:14:52.621Z"
   },
   {
    "duration": 14,
    "start_time": "2022-09-13T22:14:52.630Z"
   },
   {
    "duration": 17,
    "start_time": "2022-09-13T22:14:52.645Z"
   },
   {
    "duration": 6,
    "start_time": "2022-09-13T22:14:52.663Z"
   },
   {
    "duration": 20,
    "start_time": "2022-09-13T22:14:52.670Z"
   },
   {
    "duration": 10,
    "start_time": "2022-09-13T22:14:52.691Z"
   },
   {
    "duration": 6,
    "start_time": "2022-09-13T22:14:52.703Z"
   },
   {
    "duration": 14,
    "start_time": "2022-09-13T22:14:52.711Z"
   },
   {
    "duration": 220,
    "start_time": "2022-09-13T22:14:52.726Z"
   },
   {
    "duration": 15,
    "start_time": "2022-09-13T22:14:52.948Z"
   },
   {
    "duration": 167,
    "start_time": "2022-09-13T22:14:52.976Z"
   },
   {
    "duration": 104,
    "start_time": "2022-09-13T22:14:53.144Z"
   },
   {
    "duration": 108,
    "start_time": "2022-09-13T22:14:53.249Z"
   },
   {
    "duration": 150,
    "start_time": "2022-09-13T22:14:53.358Z"
   },
   {
    "duration": 126,
    "start_time": "2022-09-13T22:14:53.510Z"
   },
   {
    "duration": 10,
    "start_time": "2022-09-13T22:14:53.638Z"
   },
   {
    "duration": 31,
    "start_time": "2022-09-13T22:14:53.650Z"
   },
   {
    "duration": 136,
    "start_time": "2022-09-13T22:14:53.682Z"
   },
   {
    "duration": 129,
    "start_time": "2022-09-13T22:14:53.820Z"
   },
   {
    "duration": 8,
    "start_time": "2022-09-13T22:14:53.950Z"
   },
   {
    "duration": 21,
    "start_time": "2022-09-13T22:14:53.959Z"
   },
   {
    "duration": 125,
    "start_time": "2022-09-13T22:14:53.981Z"
   },
   {
    "duration": 7,
    "start_time": "2022-09-13T22:14:54.108Z"
   },
   {
    "duration": 16,
    "start_time": "2022-09-13T22:14:54.117Z"
   },
   {
    "duration": 14,
    "start_time": "2022-09-13T22:14:54.135Z"
   },
   {
    "duration": 8,
    "start_time": "2022-09-13T22:14:54.150Z"
   },
   {
    "duration": 18,
    "start_time": "2022-09-13T22:14:54.159Z"
   },
   {
    "duration": 8,
    "start_time": "2022-09-13T22:14:54.179Z"
   },
   {
    "duration": 7,
    "start_time": "2022-09-13T22:14:54.189Z"
   },
   {
    "duration": 16,
    "start_time": "2022-09-13T22:14:54.198Z"
   },
   {
    "duration": 247,
    "start_time": "2022-09-13T22:14:54.216Z"
   },
   {
    "duration": 16,
    "start_time": "2022-09-13T22:14:54.465Z"
   },
   {
    "duration": 7,
    "start_time": "2022-09-13T22:14:54.483Z"
   },
   {
    "duration": 7,
    "start_time": "2022-09-13T22:14:54.492Z"
   },
   {
    "duration": 7,
    "start_time": "2022-09-13T22:14:54.501Z"
   },
   {
    "duration": 8,
    "start_time": "2022-09-13T22:14:54.509Z"
   },
   {
    "duration": 18,
    "start_time": "2022-09-13T22:14:54.519Z"
   },
   {
    "duration": 50,
    "start_time": "2022-09-13T22:14:54.538Z"
   },
   {
    "duration": 6,
    "start_time": "2022-09-13T22:14:54.590Z"
   },
   {
    "duration": 2,
    "start_time": "2022-09-13T22:14:54.598Z"
   },
   {
    "duration": 16,
    "start_time": "2022-09-13T22:14:54.602Z"
   },
   {
    "duration": 146,
    "start_time": "2022-09-13T22:14:54.620Z"
   },
   {
    "duration": 148,
    "start_time": "2022-09-13T22:14:54.768Z"
   },
   {
    "duration": 211,
    "start_time": "2022-09-13T22:14:54.918Z"
   },
   {
    "duration": 162,
    "start_time": "2022-09-13T22:14:55.130Z"
   },
   {
    "duration": 11,
    "start_time": "2022-09-13T22:14:55.294Z"
   },
   {
    "duration": 11,
    "start_time": "2022-09-13T22:14:55.306Z"
   },
   {
    "duration": 1266,
    "start_time": "2022-09-14T07:44:09.175Z"
   },
   {
    "duration": 115,
    "start_time": "2022-09-14T07:44:10.443Z"
   },
   {
    "duration": 29,
    "start_time": "2022-09-14T07:44:10.560Z"
   },
   {
    "duration": 13,
    "start_time": "2022-09-14T07:44:10.592Z"
   },
   {
    "duration": 3,
    "start_time": "2022-09-14T07:44:10.606Z"
   },
   {
    "duration": 26,
    "start_time": "2022-09-14T07:44:10.611Z"
   },
   {
    "duration": 24,
    "start_time": "2022-09-14T07:44:10.638Z"
   },
   {
    "duration": 18,
    "start_time": "2022-09-14T07:44:10.664Z"
   },
   {
    "duration": 9,
    "start_time": "2022-09-14T07:44:10.684Z"
   },
   {
    "duration": 14,
    "start_time": "2022-09-14T07:44:10.722Z"
   },
   {
    "duration": 13,
    "start_time": "2022-09-14T07:44:10.738Z"
   },
   {
    "duration": 16,
    "start_time": "2022-09-14T07:44:10.753Z"
   },
   {
    "duration": 20,
    "start_time": "2022-09-14T07:44:10.771Z"
   },
   {
    "duration": 50,
    "start_time": "2022-09-14T07:44:10.792Z"
   },
   {
    "duration": 8,
    "start_time": "2022-09-14T07:44:10.844Z"
   },
   {
    "duration": 34,
    "start_time": "2022-09-14T07:44:10.853Z"
   },
   {
    "duration": 66,
    "start_time": "2022-09-14T07:44:10.889Z"
   },
   {
    "duration": 226,
    "start_time": "2022-09-14T07:44:10.957Z"
   },
   {
    "duration": 5,
    "start_time": "2022-09-14T07:44:11.185Z"
   },
   {
    "duration": 36,
    "start_time": "2022-09-14T07:44:11.192Z"
   },
   {
    "duration": 5,
    "start_time": "2022-09-14T07:44:11.229Z"
   },
   {
    "duration": 7,
    "start_time": "2022-09-14T07:44:11.236Z"
   },
   {
    "duration": 7,
    "start_time": "2022-09-14T07:44:11.245Z"
   },
   {
    "duration": 26,
    "start_time": "2022-09-14T07:44:11.253Z"
   },
   {
    "duration": 5,
    "start_time": "2022-09-14T07:44:11.280Z"
   },
   {
    "duration": 36,
    "start_time": "2022-09-14T07:44:11.286Z"
   },
   {
    "duration": 7,
    "start_time": "2022-09-14T07:44:11.324Z"
   },
   {
    "duration": 6,
    "start_time": "2022-09-14T07:44:11.336Z"
   },
   {
    "duration": 8,
    "start_time": "2022-09-14T07:44:11.343Z"
   },
   {
    "duration": 16,
    "start_time": "2022-09-14T07:44:11.353Z"
   },
   {
    "duration": 52,
    "start_time": "2022-09-14T07:44:11.371Z"
   },
   {
    "duration": 5,
    "start_time": "2022-09-14T07:44:11.424Z"
   },
   {
    "duration": 11,
    "start_time": "2022-09-14T07:44:11.431Z"
   },
   {
    "duration": 8,
    "start_time": "2022-09-14T07:44:11.443Z"
   },
   {
    "duration": 68,
    "start_time": "2022-09-14T07:44:11.452Z"
   },
   {
    "duration": 12,
    "start_time": "2022-09-14T07:44:11.522Z"
   },
   {
    "duration": 10,
    "start_time": "2022-09-14T07:44:11.536Z"
   },
   {
    "duration": 18,
    "start_time": "2022-09-14T07:44:11.547Z"
   },
   {
    "duration": 414,
    "start_time": "2022-09-14T07:44:11.566Z"
   },
   {
    "duration": 10,
    "start_time": "2022-09-14T07:44:11.982Z"
   },
   {
    "duration": 283,
    "start_time": "2022-09-14T07:44:11.993Z"
   },
   {
    "duration": 17,
    "start_time": "2022-09-14T07:44:12.278Z"
   },
   {
    "duration": 32,
    "start_time": "2022-09-14T07:44:12.297Z"
   },
   {
    "duration": 10,
    "start_time": "2022-09-14T07:44:12.331Z"
   },
   {
    "duration": 256,
    "start_time": "2022-09-14T07:44:12.343Z"
   },
   {
    "duration": 27,
    "start_time": "2022-09-14T07:44:12.601Z"
   },
   {
    "duration": 319,
    "start_time": "2022-09-14T07:44:12.630Z"
   },
   {
    "duration": 8,
    "start_time": "2022-09-14T07:44:12.951Z"
   },
   {
    "duration": 13,
    "start_time": "2022-09-14T07:44:12.961Z"
   },
   {
    "duration": 39,
    "start_time": "2022-09-14T07:44:12.975Z"
   },
   {
    "duration": 23,
    "start_time": "2022-09-14T07:44:13.015Z"
   },
   {
    "duration": 19,
    "start_time": "2022-09-14T07:44:13.040Z"
   },
   {
    "duration": 21,
    "start_time": "2022-09-14T07:44:13.061Z"
   },
   {
    "duration": 33,
    "start_time": "2022-09-14T07:44:13.084Z"
   },
   {
    "duration": 16,
    "start_time": "2022-09-14T07:44:13.119Z"
   },
   {
    "duration": 265,
    "start_time": "2022-09-14T07:44:13.137Z"
   },
   {
    "duration": 22,
    "start_time": "2022-09-14T07:44:13.404Z"
   },
   {
    "duration": 203,
    "start_time": "2022-09-14T07:44:13.428Z"
   },
   {
    "duration": 125,
    "start_time": "2022-09-14T07:44:13.633Z"
   },
   {
    "duration": 128,
    "start_time": "2022-09-14T07:44:13.760Z"
   },
   {
    "duration": 154,
    "start_time": "2022-09-14T07:44:13.889Z"
   },
   {
    "duration": 148,
    "start_time": "2022-09-14T07:44:14.044Z"
   },
   {
    "duration": 10,
    "start_time": "2022-09-14T07:44:14.194Z"
   },
   {
    "duration": 33,
    "start_time": "2022-09-14T07:44:14.206Z"
   },
   {
    "duration": 163,
    "start_time": "2022-09-14T07:44:14.240Z"
   },
   {
    "duration": 135,
    "start_time": "2022-09-14T07:44:14.404Z"
   },
   {
    "duration": 8,
    "start_time": "2022-09-14T07:44:14.541Z"
   },
   {
    "duration": 8,
    "start_time": "2022-09-14T07:44:14.551Z"
   },
   {
    "duration": 150,
    "start_time": "2022-09-14T07:44:14.560Z"
   },
   {
    "duration": 15,
    "start_time": "2022-09-14T07:44:14.712Z"
   },
   {
    "duration": 14,
    "start_time": "2022-09-14T07:44:14.729Z"
   },
   {
    "duration": 12,
    "start_time": "2022-09-14T07:44:14.745Z"
   },
   {
    "duration": 9,
    "start_time": "2022-09-14T07:44:14.759Z"
   },
   {
    "duration": 8,
    "start_time": "2022-09-14T07:44:14.770Z"
   },
   {
    "duration": 8,
    "start_time": "2022-09-14T07:44:14.780Z"
   },
   {
    "duration": 36,
    "start_time": "2022-09-14T07:44:14.790Z"
   },
   {
    "duration": 18,
    "start_time": "2022-09-14T07:44:14.827Z"
   },
   {
    "duration": 281,
    "start_time": "2022-09-14T07:44:14.847Z"
   },
   {
    "duration": 7,
    "start_time": "2022-09-14T07:44:15.130Z"
   },
   {
    "duration": 11,
    "start_time": "2022-09-14T07:44:15.138Z"
   },
   {
    "duration": 11,
    "start_time": "2022-09-14T07:44:15.150Z"
   },
   {
    "duration": 7,
    "start_time": "2022-09-14T07:44:15.166Z"
   },
   {
    "duration": 21,
    "start_time": "2022-09-14T07:44:15.175Z"
   },
   {
    "duration": 26,
    "start_time": "2022-09-14T07:44:15.199Z"
   },
   {
    "duration": 10,
    "start_time": "2022-09-14T07:44:15.228Z"
   },
   {
    "duration": 8,
    "start_time": "2022-09-14T07:44:15.240Z"
   },
   {
    "duration": 6,
    "start_time": "2022-09-14T07:44:15.249Z"
   },
   {
    "duration": 26,
    "start_time": "2022-09-14T07:44:15.257Z"
   },
   {
    "duration": 176,
    "start_time": "2022-09-14T07:44:15.285Z"
   },
   {
    "duration": 169,
    "start_time": "2022-09-14T07:44:15.463Z"
   },
   {
    "duration": 247,
    "start_time": "2022-09-14T07:44:15.634Z"
   },
   {
    "duration": 154,
    "start_time": "2022-09-14T07:44:15.883Z"
   },
   {
    "duration": 12,
    "start_time": "2022-09-14T07:44:16.039Z"
   },
   {
    "duration": 13,
    "start_time": "2022-09-14T07:44:16.052Z"
   },
   {
    "duration": 66,
    "start_time": "2022-09-14T07:46:06.637Z"
   },
   {
    "duration": 308,
    "start_time": "2022-09-14T07:47:38.295Z"
   },
   {
    "duration": 11,
    "start_time": "2022-09-14T07:52:01.775Z"
   },
   {
    "duration": 10,
    "start_time": "2022-09-14T07:52:49.736Z"
   },
   {
    "duration": 10,
    "start_time": "2022-09-14T07:53:01.590Z"
   },
   {
    "duration": 8,
    "start_time": "2022-09-14T07:56:33.998Z"
   },
   {
    "duration": 45,
    "start_time": "2022-10-08T15:17:58.606Z"
   },
   {
    "duration": 1044,
    "start_time": "2022-10-08T15:18:08.342Z"
   },
   {
    "duration": 197,
    "start_time": "2022-10-08T15:18:09.388Z"
   },
   {
    "duration": 27,
    "start_time": "2022-10-08T15:18:09.587Z"
   },
   {
    "duration": 12,
    "start_time": "2022-10-08T15:18:09.616Z"
   },
   {
    "duration": 9,
    "start_time": "2022-10-08T15:18:09.630Z"
   },
   {
    "duration": 33,
    "start_time": "2022-10-08T15:18:09.640Z"
   },
   {
    "duration": 30,
    "start_time": "2022-10-08T15:18:09.675Z"
   },
   {
    "duration": 13,
    "start_time": "2022-10-08T15:18:09.707Z"
   },
   {
    "duration": 9,
    "start_time": "2022-10-08T15:18:09.721Z"
   },
   {
    "duration": 11,
    "start_time": "2022-10-08T15:18:09.732Z"
   },
   {
    "duration": 11,
    "start_time": "2022-10-08T15:18:09.745Z"
   },
   {
    "duration": 41,
    "start_time": "2022-10-08T15:18:09.758Z"
   },
   {
    "duration": 9,
    "start_time": "2022-10-08T15:18:09.801Z"
   },
   {
    "duration": 21,
    "start_time": "2022-10-08T15:18:09.811Z"
   },
   {
    "duration": 8,
    "start_time": "2022-10-08T15:18:09.834Z"
   },
   {
    "duration": 10,
    "start_time": "2022-10-08T15:18:09.844Z"
   },
   {
    "duration": 53,
    "start_time": "2022-10-08T15:18:09.855Z"
   },
   {
    "duration": 205,
    "start_time": "2022-10-08T15:18:15.345Z"
   }
  ],
  "kernelspec": {
   "display_name": "Python 3 (ipykernel)",
   "language": "python",
   "name": "python3"
  },
  "language_info": {
   "codemirror_mode": {
    "name": "ipython",
    "version": 3
   },
   "file_extension": ".py",
   "mimetype": "text/x-python",
   "name": "python",
   "nbconvert_exporter": "python",
   "pygments_lexer": "ipython3",
   "version": "3.9.5"
  },
  "toc": {
   "base_numbering": 1,
   "nav_menu": {},
   "number_sections": true,
   "sideBar": true,
   "skip_h1_title": true,
   "title_cell": "Table of Contents",
   "title_sidebar": "Contents",
   "toc_cell": false,
   "toc_position": {
    "height": "calc(100% - 180px)",
    "left": "10px",
    "top": "150px",
    "width": "392.26px"
   },
   "toc_section_display": true,
   "toc_window_display": false
  }
 },
 "nbformat": 4,
 "nbformat_minor": 2
}

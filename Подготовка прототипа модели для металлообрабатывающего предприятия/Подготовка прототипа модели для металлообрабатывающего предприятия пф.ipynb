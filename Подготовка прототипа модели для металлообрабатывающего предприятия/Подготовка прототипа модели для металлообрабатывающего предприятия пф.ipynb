{
 "cells": [
  {
   "cell_type": "markdown",
   "metadata": {
    "toc": true
   },
   "source": [
    "<h1>Содержание<span class=\"tocSkip\"></span></h1>\n",
    "<div class=\"toc\"><ul class=\"toc-item\"><li><span><a href=\"#Подготовка-данных\" data-toc-modified-id=\"Подготовка-данных-1\"><span class=\"toc-item-num\">1&nbsp;&nbsp;</span>Подготовка данных</a></span><ul class=\"toc-item\"><li><span><a href=\"#изучение-данных\" data-toc-modified-id=\"изучение-данных-1.1\"><span class=\"toc-item-num\">1.1&nbsp;&nbsp;</span>изучение данных</a></span></li><li><span><a href=\"#Проверим,-что-эффективность-обогащения-рассчитана-правильно.\" data-toc-modified-id=\"Проверим,-что-эффективность-обогащения-рассчитана-правильно.-1.2\"><span class=\"toc-item-num\">1.2&nbsp;&nbsp;</span>Проверим, что эффективность обогащения рассчитана правильно.</a></span></li><li><span><a href=\"#Изучение-данных.-Продолжение.\" data-toc-modified-id=\"Изучение-данных.-Продолжение.-1.3\"><span class=\"toc-item-num\">1.3&nbsp;&nbsp;</span>Изучение данных. Продолжение.</a></span></li><li><span><a href=\"#Вывод\" data-toc-modified-id=\"Вывод-1.4\"><span class=\"toc-item-num\">1.4&nbsp;&nbsp;</span>Вывод</a></span></li></ul></li><li><span><a href=\"#Анализ-данных\" data-toc-modified-id=\"Анализ-данных-2\"><span class=\"toc-item-num\">2&nbsp;&nbsp;</span>Анализ данных</a></span><ul class=\"toc-item\"><li><span><a href=\"#Как-меняется-концентрация-металлов-(Au,-Ag,-Pb)-на-различных-этапах-очистки\" data-toc-modified-id=\"Как-меняется-концентрация-металлов-(Au,-Ag,-Pb)-на-различных-этапах-очистки-2.1\"><span class=\"toc-item-num\">2.1&nbsp;&nbsp;</span>Как меняется концентрация металлов (Au, Ag, Pb) на различных этапах очистки</a></span></li><li><span><a href=\"#Сравнение-распределения-размеров-гранул-сырья-на-обучающей-и-тестовой-выборках\" data-toc-modified-id=\"Сравнение-распределения-размеров-гранул-сырья-на-обучающей-и-тестовой-выборках-2.2\"><span class=\"toc-item-num\">2.2&nbsp;&nbsp;</span>Сравнение распределения размеров гранул сырья на обучающей и тестовой выборках</a></span></li><li><span><a href=\"#Исследуем-суммарную-концентрацию-всех-веществ-на-разных-стадиях:-в-сырье,-в-черновом-и-финальном-концентратах\" data-toc-modified-id=\"Исследуем-суммарную-концентрацию-всех-веществ-на-разных-стадиях:-в-сырье,-в-черновом-и-финальном-концентратах-2.3\"><span class=\"toc-item-num\">2.3&nbsp;&nbsp;</span>Исследуем суммарную концентрацию всех веществ на разных стадиях: в сырье, в черновом и финальном концентратах</a></span></li></ul></li><li><span><a href=\"#Модель\" data-toc-modified-id=\"Модель-3\"><span class=\"toc-item-num\">3&nbsp;&nbsp;</span>Модель</a></span><ul class=\"toc-item\"><li><span><a href=\"#Напишем-функцию-для-вычисления-итоговой-sMAPE.\" data-toc-modified-id=\"Напишем-функцию-для-вычисления-итоговой-sMAPE.-3.1\"><span class=\"toc-item-num\">3.1&nbsp;&nbsp;</span>Напишем функцию для вычисления итоговой sMAPE.</a></span></li><li><span><a href=\"#Обучим-разные-модели-и-оценим-их-качество-кросс-валидацией.-Выберем-лучшую-модель-и-проверим-ее-на-тестовой-выборке.-Опишем-выводы.\" data-toc-modified-id=\"Обучим-разные-модели-и-оценим-их-качество-кросс-валидацией.-Выберем-лучшую-модель-и-проверим-ее-на-тестовой-выборке.-Опишем-выводы.-3.2\"><span class=\"toc-item-num\">3.2&nbsp;&nbsp;</span>Обучим разные модели и оценим их качество кросс-валидацией. Выберем лучшую модель и проверим ее на тестовой выборке. Опишем выводы.</a></span></li><li><span><a href=\"#Тестирование-модели\" data-toc-modified-id=\"Тестирование-модели-3.3\"><span class=\"toc-item-num\">3.3&nbsp;&nbsp;</span>Тестирование модели</a></span></li></ul></li><li><span><a href=\"#Общий-вывод\" data-toc-modified-id=\"Общий-вывод-4\"><span class=\"toc-item-num\">4&nbsp;&nbsp;</span>Общий вывод</a></span></li></ul></div>"
   ]
  },
  {
   "cell_type": "markdown",
   "metadata": {},
   "source": [
    "# Восстановление золота из руды"
   ]
  },
  {
   "cell_type": "markdown",
   "metadata": {},
   "source": [
    "Цель проекта - подготовка прототипа модели машинного обучения для «Цифры». Компания разрабатывает решения для эффективной работы промышленных предприятий.\n",
    "\n",
    "Модель должна предсказать коэффициент восстановления золота из золотосодержащей руды. В нашем распоряжении данные с параметрами добычи и очистки\n",
    "\n",
    "Модель поможет оптимизировать производство, чтобы не запускать предприятие с убыточными характеристиками.\n",
    "\n",
    "\n",
    "В ходе проекта выполним следующее:\n",
    "\n",
    "Подготовим данные;\n",
    "Проведем исследовательский анализ данных;\n",
    "Построим и обучим модель, нужно спрогнозировать сразу две величины:\n",
    "эффективность обогащения чернового концентрата rougher.output.recovery;\n",
    "эффективность обогащения финального концентрата final.output.recovery.\n",
    "\n",
    "1. Подготовим данные;\n",
    "2. Проведем исследовательский анализ данных;\n",
    "3. Построим и обучим модель.\n",
    "\n",
    "Нужно спрогнозировать сразу две величины:\n",
    "эффективность обогащения чернового концентрата rougher.output.recovery;\n",
    "эффективность обогащения финального концентрата final.output.recovery.\n"
   ]
  },
  {
   "cell_type": "markdown",
   "metadata": {},
   "source": [
    "Описание данных\n",
    "Технологический процесс\n",
    "Rougher feed — исходное сырье\n",
    "Rougher additions (или reagent additions) — флотационные реагенты: Xanthate, Sulphate, Depressant\n",
    "Xanthate **— ксантогенат (промотер, или активатор флотации);\n",
    "Sulphate — сульфат (на данном производстве сульфид натрия);\n",
    "Depressant — депрессант (силикат натрия).\n",
    "Rougher process (англ. «грубый процесс») — флотация\n",
    "Rougher tails — отвальные хвосты\n",
    "Float banks — флотационная установка\n",
    "Cleaner process — очистка\n",
    "Rougher Au — черновой концентрат золота\n",
    "Final Au — финальный концентрат золота\n",
    "Параметры этапов\n",
    "air amount — объём воздуха\n",
    "fluid levels — уровень жидкости\n",
    "feed size — размер гранул сырья\n",
    "feed rate — скорость подачи\n",
    "Наименование признаков\n",
    "Наименование признаков должно быть такое:\n",
    "[этап].[тип_параметра].[название_параметра]\n",
    "Пример: rougher.input.feed_ag\n",
    "Возможные значения для блока [этап]:\n",
    "rougher — флотация\n",
    "primary_cleaner — первичная очистка\n",
    "secondary_cleaner — вторичная очистка\n",
    "final — финальные характеристики\n",
    "Возможные значения для блока [тип_параметра]:\n",
    "input — параметры сырья\n",
    "output — параметры продукта\n",
    "state — параметры, характеризующие текущее состояние этапа\n",
    "calculation — расчётные характеристики\n",
    "\n",
    "Описание данных:\n",
    "    \n",
    "Технологический процесс\n",
    "\n",
    "Rougher feed — исходное сырье\n",
    "Rougher additions (или reagent additions) — флотационные реагенты: Xanthate, Sulphate, Depressant\n",
    "Xanthate **— ксантогенат (промотер, или активатор флотации);\n",
    "Sulphate — сульфат (на данном производстве сульфид натрия);\n",
    "Depressant — депрессант (силикат натрия).\n",
    "Rougher process (англ. «грубый процесс») — флотация\n",
    "Rougher tails — отвальные хвосты\n",
    "Float banks — флотационная установка\n",
    "Cleaner process — очистка\n",
    "Rougher Au — черновой концентрат золота\n",
    "Final Au — финальный концентрат золота\n",
    "\n",
    "Параметры этапов\n",
    "\n",
    "air amount — объём воздуха\n",
    "fluid levels — уровень жидкости\n",
    "feed size — размер гранул сырья\n",
    "feed rate — скорость подачи\n",
    "\n",
    "Наименование признаков\n",
    "\n",
    "Наименование признаков выглядит следующим образом: этап.тип_параметра.название_параметра\n",
    "\n",
    "Пример: rougher.input.feed_ag\n",
    "\n",
    "Возможные значения для блока этап:\n",
    "\n",
    "rougher — флотация\n",
    "primary_cleaner — первичная очистка\n",
    "secondary_cleaner — вторичная очистка\n",
    "final — финальные характеристики\n",
    "\n",
    "Возможные значения для блока тип_параметра:\n",
    "\n",
    "input — параметры сырья\n",
    "output — параметры продукта\n",
    "state — параметры, характеризующие текущее состояние этапа\n",
    "calculation — расчётные характеристики\n",
    "\n"
   ]
  },
  {
   "cell_type": "markdown",
   "metadata": {},
   "source": [
    "## Подготовка данных"
   ]
  },
  {
   "cell_type": "markdown",
   "metadata": {},
   "source": [
    "### изучение данных"
   ]
  },
  {
   "cell_type": "code",
   "execution_count": 1,
   "metadata": {},
   "outputs": [],
   "source": [
    "#импортируем необходимые библиотеки и инструменты\n",
    "\n",
    "import pandas as pd\n",
    "pd.options.mode.chained_assignment = None\n",
    "import numpy as np\n",
    "import matplotlib.pyplot as plt\n",
    "import seaborn as sns\n",
    "\n",
    "from sklearn.metrics import mean_absolute_error, accuracy_score\n",
    "from sklearn.preprocessing import StandardScaler\n",
    "from sklearn.linear_model import LassoCV\n",
    "from sklearn.ensemble import RandomForestRegressor\n",
    "\n",
    "from sklearn.pipeline import Pipeline\n",
    "from sklearn.impute import SimpleImputer\n",
    "from sklearn.model_selection import TimeSeriesSplit, cross_val_score, StratifiedKFold, GridSearchCV, cross_validate, KFold\n",
    "from sklearn.metrics import roc_auc_score, roc_curve, precision_recall_curve, mean_absolute_error, make_scorer, make_scorer\n",
    "from sklearn.inspection import permutation_importance\n",
    "from sklearn.model_selection import train_test_split, cross_val_score, GridSearchCV\n",
    "from sklearn.linear_model import LinearRegression, ElasticNet, Ridge, Lasso\n",
    "from sklearn.metrics import mean_squared_error, make_scorer"
   ]
  },
  {
   "cell_type": "markdown",
   "metadata": {},
   "source": [
    "Необходимые данные находятся в трёх файлах - это исходные данные, обучающая и тестовая выборки. Загрузим их."
   ]
  },
  {
   "cell_type": "code",
   "execution_count": 2,
   "metadata": {},
   "outputs": [],
   "source": [
    "class DataScience:\n",
    "\n",
    "    def path_to_files(self, path, link):\n",
    "        Path('datasets').mkdir(parents=True, exist_ok=True)\n",
    "        def get_file(file_name, url):\n",
    "            if not os.path.exists(file_name):\n",
    "                print(file_name, 'файл не найден, будет загружен из сети')\n",
    "                _ = urllib.request.urlretrieve(url, file_name)\n",
    "        urls = {\n",
    "            'dataset': (path, link)\n",
    "        }\n",
    "        [get_file(*urls[k]) for k in urls]\n",
    "        data = pd.read_csv(urls['dataset'][0])\n",
    "        return data\n",
    "\n",
    "    \n",
    "    def clean_dataset(self, df):\n",
    "        assert isinstance(df, pd.DataFrame)\n",
    "        df.dropna(inplace=True)\n",
    "        #indices_to_keep = ~df.isin([np.nan, np.inf, -np.inf]).any(1)\n",
    "        #return df[indices_to_keep]#.astype(np.float64)\n",
    "    \n",
    "    def missing_zero_values_table(self,df):\n",
    "        zero_val = (df == 0.00).astype(int).sum(axis=0)\n",
    "        mis_val = df.isnull().sum()\n",
    "        mis_val_percent = 100 * df.isnull().sum() / len(df)\n",
    "        mz_table = pd.concat([zero_val, mis_val, mis_val_percent], axis=1)\n",
    "        mz_table = mz_table.rename(\n",
    "        columns = {0 : 'Zero Values', 1 : 'Missing Values', 2 : '% of Total Values'})\n",
    "        mz_table['Total Zero Missing Values'] = mz_table['Zero Values'] + mz_table['Missing Values']\n",
    "        mz_table['% Total Zero Missing Values'] = 100 * mz_table['Total Zero Missing Values'] / len(df)\n",
    "        mz_table['Data Type'] = df.dtypes\n",
    "        mz_table = mz_table[\n",
    "            mz_table.iloc[:,1] != 0].sort_values(\n",
    "        '% of Total Values', ascending=False).round(1)\n",
    "        print (\"Your selected dataframe has \" + str(df.shape[1]) + \" columns and \" + str(df.shape[0]) + \" Rows.\\n\"      \n",
    "            \"There are \" + str(mz_table.shape[0]) +\n",
    "              \" columns that have missing values.\")\n",
    "        \n",
    "        return mz_table\n",
    "    \n",
    "    def differences_in_columns(self, df1, df2):\n",
    "        df1_cols = df1.columns\n",
    "        df2_cols = df2.columns\n",
    "        diff = df1_cols.difference(df2_cols)  #Признаки имеющиеся только в тестовой выборке\n",
    "        counter = 0\n",
    "        print('======= Отличающиеся столбцы ======')\n",
    "        for i in diff:\n",
    "            counter += 1\n",
    "            print(\"{}. {}\".format(counter,i))\n",
    "        print('\\n')\n",
    "        print('Количество столбцов в df1:', len(df1_cols))\n",
    "        print('Количество столбцов в df2:', len(df2_cols))\n",
    "        print('\\nОбщее количество отличающихся столбцов: ', counter)\n",
    "        \n",
    "    def common_in_columns(self, df1, df2):\n",
    "        df1_cols = df1.columns\n",
    "        df2_cols = df2.columns\n",
    "        common_cols = df1_cols.intersection(df2_cols)   #Признаки имеющиемся в двух выборках\n",
    "        counter = 0\n",
    "        for i in common_cols:\n",
    "            counter += 1\n",
    "            print(\"{}. {}\".format(counter,i))\n",
    "        print('\\n')\n",
    "        print('Количество столбцов в df1:', len(df1_cols))\n",
    "        print('Количество столбцов в df2:', len(df2_cols))\n",
    "        print('Общее количество похожих столбцов: ', counter)"
   ]
  },
  {
   "cell_type": "code",
   "execution_count": 3,
   "metadata": {
    "scrolled": true
   },
   "outputs": [],
   "source": [
    "ds = DataScience()"
   ]
  },
  {
   "cell_type": "code",
   "execution_count": 4,
   "metadata": {},
   "outputs": [],
   "source": [
    "train = pd.read_csv('/datasets/gold_recovery_train_new.csv')\n",
    "test = pd.read_csv('/datasets/gold_recovery_test_new.csv')\n",
    "full_data = pd.read_csv('/datasets/gold_recovery_full_new.csv')"
   ]
  },
  {
   "cell_type": "markdown",
   "metadata": {},
   "source": [
    "Откроем файлы и изучим их"
   ]
  },
  {
   "cell_type": "code",
   "execution_count": 5,
   "metadata": {
    "scrolled": true
   },
   "outputs": [
    {
     "data": {
      "text/html": [
       "<div>\n",
       "<style scoped>\n",
       "    .dataframe tbody tr th:only-of-type {\n",
       "        vertical-align: middle;\n",
       "    }\n",
       "\n",
       "    .dataframe tbody tr th {\n",
       "        vertical-align: top;\n",
       "    }\n",
       "\n",
       "    .dataframe thead th {\n",
       "        text-align: right;\n",
       "    }\n",
       "</style>\n",
       "<table border=\"1\" class=\"dataframe\">\n",
       "  <thead>\n",
       "    <tr style=\"text-align: right;\">\n",
       "      <th></th>\n",
       "      <th>date</th>\n",
       "      <th>final.output.concentrate_ag</th>\n",
       "      <th>final.output.concentrate_pb</th>\n",
       "      <th>final.output.concentrate_sol</th>\n",
       "      <th>final.output.concentrate_au</th>\n",
       "      <th>final.output.recovery</th>\n",
       "      <th>final.output.tail_ag</th>\n",
       "      <th>final.output.tail_pb</th>\n",
       "      <th>final.output.tail_sol</th>\n",
       "      <th>final.output.tail_au</th>\n",
       "      <th>...</th>\n",
       "      <th>secondary_cleaner.state.floatbank4_a_air</th>\n",
       "      <th>secondary_cleaner.state.floatbank4_a_level</th>\n",
       "      <th>secondary_cleaner.state.floatbank4_b_air</th>\n",
       "      <th>secondary_cleaner.state.floatbank4_b_level</th>\n",
       "      <th>secondary_cleaner.state.floatbank5_a_air</th>\n",
       "      <th>secondary_cleaner.state.floatbank5_a_level</th>\n",
       "      <th>secondary_cleaner.state.floatbank5_b_air</th>\n",
       "      <th>secondary_cleaner.state.floatbank5_b_level</th>\n",
       "      <th>secondary_cleaner.state.floatbank6_a_air</th>\n",
       "      <th>secondary_cleaner.state.floatbank6_a_level</th>\n",
       "    </tr>\n",
       "  </thead>\n",
       "  <tbody>\n",
       "    <tr>\n",
       "      <th>0</th>\n",
       "      <td>2016-01-15 00:00:00</td>\n",
       "      <td>6.055403</td>\n",
       "      <td>9.889648</td>\n",
       "      <td>5.507324</td>\n",
       "      <td>42.192020</td>\n",
       "      <td>70.541216</td>\n",
       "      <td>10.411962</td>\n",
       "      <td>0.895447</td>\n",
       "      <td>16.904297</td>\n",
       "      <td>2.143149</td>\n",
       "      <td>...</td>\n",
       "      <td>14.016835</td>\n",
       "      <td>-502.488007</td>\n",
       "      <td>12.099931</td>\n",
       "      <td>-504.715942</td>\n",
       "      <td>9.925633</td>\n",
       "      <td>-498.310211</td>\n",
       "      <td>8.079666</td>\n",
       "      <td>-500.470978</td>\n",
       "      <td>14.151341</td>\n",
       "      <td>-605.841980</td>\n",
       "    </tr>\n",
       "    <tr>\n",
       "      <th>1</th>\n",
       "      <td>2016-01-15 01:00:00</td>\n",
       "      <td>6.029369</td>\n",
       "      <td>9.968944</td>\n",
       "      <td>5.257781</td>\n",
       "      <td>42.701629</td>\n",
       "      <td>69.266198</td>\n",
       "      <td>10.462676</td>\n",
       "      <td>0.927452</td>\n",
       "      <td>16.634514</td>\n",
       "      <td>2.224930</td>\n",
       "      <td>...</td>\n",
       "      <td>13.992281</td>\n",
       "      <td>-505.503262</td>\n",
       "      <td>11.950531</td>\n",
       "      <td>-501.331529</td>\n",
       "      <td>10.039245</td>\n",
       "      <td>-500.169983</td>\n",
       "      <td>7.984757</td>\n",
       "      <td>-500.582168</td>\n",
       "      <td>13.998353</td>\n",
       "      <td>-599.787184</td>\n",
       "    </tr>\n",
       "    <tr>\n",
       "      <th>2</th>\n",
       "      <td>2016-01-15 02:00:00</td>\n",
       "      <td>6.055926</td>\n",
       "      <td>10.213995</td>\n",
       "      <td>5.383759</td>\n",
       "      <td>42.657501</td>\n",
       "      <td>68.116445</td>\n",
       "      <td>10.507046</td>\n",
       "      <td>0.953716</td>\n",
       "      <td>16.208849</td>\n",
       "      <td>2.257889</td>\n",
       "      <td>...</td>\n",
       "      <td>14.015015</td>\n",
       "      <td>-502.520901</td>\n",
       "      <td>11.912783</td>\n",
       "      <td>-501.133383</td>\n",
       "      <td>10.070913</td>\n",
       "      <td>-500.129135</td>\n",
       "      <td>8.013877</td>\n",
       "      <td>-500.517572</td>\n",
       "      <td>14.028663</td>\n",
       "      <td>-601.427363</td>\n",
       "    </tr>\n",
       "    <tr>\n",
       "      <th>3</th>\n",
       "      <td>2016-01-15 03:00:00</td>\n",
       "      <td>6.047977</td>\n",
       "      <td>9.977019</td>\n",
       "      <td>4.858634</td>\n",
       "      <td>42.689819</td>\n",
       "      <td>68.347543</td>\n",
       "      <td>10.422762</td>\n",
       "      <td>0.883763</td>\n",
       "      <td>16.532835</td>\n",
       "      <td>2.146849</td>\n",
       "      <td>...</td>\n",
       "      <td>14.036510</td>\n",
       "      <td>-500.857308</td>\n",
       "      <td>11.999550</td>\n",
       "      <td>-501.193686</td>\n",
       "      <td>9.970366</td>\n",
       "      <td>-499.201640</td>\n",
       "      <td>7.977324</td>\n",
       "      <td>-500.255908</td>\n",
       "      <td>14.005551</td>\n",
       "      <td>-599.996129</td>\n",
       "    </tr>\n",
       "    <tr>\n",
       "      <th>4</th>\n",
       "      <td>2016-01-15 04:00:00</td>\n",
       "      <td>6.148599</td>\n",
       "      <td>10.142511</td>\n",
       "      <td>4.939416</td>\n",
       "      <td>42.774141</td>\n",
       "      <td>66.927016</td>\n",
       "      <td>10.360302</td>\n",
       "      <td>0.792826</td>\n",
       "      <td>16.525686</td>\n",
       "      <td>2.055292</td>\n",
       "      <td>...</td>\n",
       "      <td>14.027298</td>\n",
       "      <td>-499.838632</td>\n",
       "      <td>11.953070</td>\n",
       "      <td>-501.053894</td>\n",
       "      <td>9.925709</td>\n",
       "      <td>-501.686727</td>\n",
       "      <td>7.894242</td>\n",
       "      <td>-500.356035</td>\n",
       "      <td>13.996647</td>\n",
       "      <td>-601.496691</td>\n",
       "    </tr>\n",
       "  </tbody>\n",
       "</table>\n",
       "<p>5 rows × 87 columns</p>\n",
       "</div>"
      ],
      "text/plain": [
       "                  date  final.output.concentrate_ag  \\\n",
       "0  2016-01-15 00:00:00                     6.055403   \n",
       "1  2016-01-15 01:00:00                     6.029369   \n",
       "2  2016-01-15 02:00:00                     6.055926   \n",
       "3  2016-01-15 03:00:00                     6.047977   \n",
       "4  2016-01-15 04:00:00                     6.148599   \n",
       "\n",
       "   final.output.concentrate_pb  final.output.concentrate_sol  \\\n",
       "0                     9.889648                      5.507324   \n",
       "1                     9.968944                      5.257781   \n",
       "2                    10.213995                      5.383759   \n",
       "3                     9.977019                      4.858634   \n",
       "4                    10.142511                      4.939416   \n",
       "\n",
       "   final.output.concentrate_au  final.output.recovery  final.output.tail_ag  \\\n",
       "0                    42.192020              70.541216             10.411962   \n",
       "1                    42.701629              69.266198             10.462676   \n",
       "2                    42.657501              68.116445             10.507046   \n",
       "3                    42.689819              68.347543             10.422762   \n",
       "4                    42.774141              66.927016             10.360302   \n",
       "\n",
       "   final.output.tail_pb  final.output.tail_sol  final.output.tail_au  ...  \\\n",
       "0              0.895447              16.904297              2.143149  ...   \n",
       "1              0.927452              16.634514              2.224930  ...   \n",
       "2              0.953716              16.208849              2.257889  ...   \n",
       "3              0.883763              16.532835              2.146849  ...   \n",
       "4              0.792826              16.525686              2.055292  ...   \n",
       "\n",
       "   secondary_cleaner.state.floatbank4_a_air  \\\n",
       "0                                 14.016835   \n",
       "1                                 13.992281   \n",
       "2                                 14.015015   \n",
       "3                                 14.036510   \n",
       "4                                 14.027298   \n",
       "\n",
       "   secondary_cleaner.state.floatbank4_a_level  \\\n",
       "0                                 -502.488007   \n",
       "1                                 -505.503262   \n",
       "2                                 -502.520901   \n",
       "3                                 -500.857308   \n",
       "4                                 -499.838632   \n",
       "\n",
       "   secondary_cleaner.state.floatbank4_b_air  \\\n",
       "0                                 12.099931   \n",
       "1                                 11.950531   \n",
       "2                                 11.912783   \n",
       "3                                 11.999550   \n",
       "4                                 11.953070   \n",
       "\n",
       "   secondary_cleaner.state.floatbank4_b_level  \\\n",
       "0                                 -504.715942   \n",
       "1                                 -501.331529   \n",
       "2                                 -501.133383   \n",
       "3                                 -501.193686   \n",
       "4                                 -501.053894   \n",
       "\n",
       "   secondary_cleaner.state.floatbank5_a_air  \\\n",
       "0                                  9.925633   \n",
       "1                                 10.039245   \n",
       "2                                 10.070913   \n",
       "3                                  9.970366   \n",
       "4                                  9.925709   \n",
       "\n",
       "   secondary_cleaner.state.floatbank5_a_level  \\\n",
       "0                                 -498.310211   \n",
       "1                                 -500.169983   \n",
       "2                                 -500.129135   \n",
       "3                                 -499.201640   \n",
       "4                                 -501.686727   \n",
       "\n",
       "   secondary_cleaner.state.floatbank5_b_air  \\\n",
       "0                                  8.079666   \n",
       "1                                  7.984757   \n",
       "2                                  8.013877   \n",
       "3                                  7.977324   \n",
       "4                                  7.894242   \n",
       "\n",
       "   secondary_cleaner.state.floatbank5_b_level  \\\n",
       "0                                 -500.470978   \n",
       "1                                 -500.582168   \n",
       "2                                 -500.517572   \n",
       "3                                 -500.255908   \n",
       "4                                 -500.356035   \n",
       "\n",
       "   secondary_cleaner.state.floatbank6_a_air  \\\n",
       "0                                 14.151341   \n",
       "1                                 13.998353   \n",
       "2                                 14.028663   \n",
       "3                                 14.005551   \n",
       "4                                 13.996647   \n",
       "\n",
       "   secondary_cleaner.state.floatbank6_a_level  \n",
       "0                                 -605.841980  \n",
       "1                                 -599.787184  \n",
       "2                                 -601.427363  \n",
       "3                                 -599.996129  \n",
       "4                                 -601.496691  \n",
       "\n",
       "[5 rows x 87 columns]"
      ]
     },
     "metadata": {},
     "output_type": "display_data"
    },
    {
     "data": {
      "text/html": [
       "<div>\n",
       "<style scoped>\n",
       "    .dataframe tbody tr th:only-of-type {\n",
       "        vertical-align: middle;\n",
       "    }\n",
       "\n",
       "    .dataframe tbody tr th {\n",
       "        vertical-align: top;\n",
       "    }\n",
       "\n",
       "    .dataframe thead th {\n",
       "        text-align: right;\n",
       "    }\n",
       "</style>\n",
       "<table border=\"1\" class=\"dataframe\">\n",
       "  <thead>\n",
       "    <tr style=\"text-align: right;\">\n",
       "      <th></th>\n",
       "      <th>date</th>\n",
       "      <th>primary_cleaner.input.sulfate</th>\n",
       "      <th>primary_cleaner.input.depressant</th>\n",
       "      <th>primary_cleaner.input.feed_size</th>\n",
       "      <th>primary_cleaner.input.xanthate</th>\n",
       "      <th>primary_cleaner.state.floatbank8_a_air</th>\n",
       "      <th>primary_cleaner.state.floatbank8_a_level</th>\n",
       "      <th>primary_cleaner.state.floatbank8_b_air</th>\n",
       "      <th>primary_cleaner.state.floatbank8_b_level</th>\n",
       "      <th>primary_cleaner.state.floatbank8_c_air</th>\n",
       "      <th>...</th>\n",
       "      <th>secondary_cleaner.state.floatbank4_a_air</th>\n",
       "      <th>secondary_cleaner.state.floatbank4_a_level</th>\n",
       "      <th>secondary_cleaner.state.floatbank4_b_air</th>\n",
       "      <th>secondary_cleaner.state.floatbank4_b_level</th>\n",
       "      <th>secondary_cleaner.state.floatbank5_a_air</th>\n",
       "      <th>secondary_cleaner.state.floatbank5_a_level</th>\n",
       "      <th>secondary_cleaner.state.floatbank5_b_air</th>\n",
       "      <th>secondary_cleaner.state.floatbank5_b_level</th>\n",
       "      <th>secondary_cleaner.state.floatbank6_a_air</th>\n",
       "      <th>secondary_cleaner.state.floatbank6_a_level</th>\n",
       "    </tr>\n",
       "  </thead>\n",
       "  <tbody>\n",
       "    <tr>\n",
       "      <th>0</th>\n",
       "      <td>2016-09-01 00:59:59</td>\n",
       "      <td>210.800909</td>\n",
       "      <td>14.993118</td>\n",
       "      <td>8.080000</td>\n",
       "      <td>1.005021</td>\n",
       "      <td>1398.981301</td>\n",
       "      <td>-500.225577</td>\n",
       "      <td>1399.144926</td>\n",
       "      <td>-499.919735</td>\n",
       "      <td>1400.102998</td>\n",
       "      <td>...</td>\n",
       "      <td>12.023554</td>\n",
       "      <td>-497.795834</td>\n",
       "      <td>8.016656</td>\n",
       "      <td>-501.289139</td>\n",
       "      <td>7.946562</td>\n",
       "      <td>-432.317850</td>\n",
       "      <td>4.872511</td>\n",
       "      <td>-500.037437</td>\n",
       "      <td>26.705889</td>\n",
       "      <td>-499.709414</td>\n",
       "    </tr>\n",
       "    <tr>\n",
       "      <th>1</th>\n",
       "      <td>2016-09-01 01:59:59</td>\n",
       "      <td>215.392455</td>\n",
       "      <td>14.987471</td>\n",
       "      <td>8.080000</td>\n",
       "      <td>0.990469</td>\n",
       "      <td>1398.777912</td>\n",
       "      <td>-500.057435</td>\n",
       "      <td>1398.055362</td>\n",
       "      <td>-499.778182</td>\n",
       "      <td>1396.151033</td>\n",
       "      <td>...</td>\n",
       "      <td>12.058140</td>\n",
       "      <td>-498.695773</td>\n",
       "      <td>8.130979</td>\n",
       "      <td>-499.634209</td>\n",
       "      <td>7.958270</td>\n",
       "      <td>-525.839648</td>\n",
       "      <td>4.878850</td>\n",
       "      <td>-500.162375</td>\n",
       "      <td>25.019940</td>\n",
       "      <td>-499.819438</td>\n",
       "    </tr>\n",
       "    <tr>\n",
       "      <th>2</th>\n",
       "      <td>2016-09-01 02:59:59</td>\n",
       "      <td>215.259946</td>\n",
       "      <td>12.884934</td>\n",
       "      <td>7.786667</td>\n",
       "      <td>0.996043</td>\n",
       "      <td>1398.493666</td>\n",
       "      <td>-500.868360</td>\n",
       "      <td>1398.860436</td>\n",
       "      <td>-499.764529</td>\n",
       "      <td>1398.075709</td>\n",
       "      <td>...</td>\n",
       "      <td>11.962366</td>\n",
       "      <td>-498.767484</td>\n",
       "      <td>8.096893</td>\n",
       "      <td>-500.827423</td>\n",
       "      <td>8.071056</td>\n",
       "      <td>-500.801673</td>\n",
       "      <td>4.905125</td>\n",
       "      <td>-499.828510</td>\n",
       "      <td>24.994862</td>\n",
       "      <td>-500.622559</td>\n",
       "    </tr>\n",
       "    <tr>\n",
       "      <th>3</th>\n",
       "      <td>2016-09-01 03:59:59</td>\n",
       "      <td>215.336236</td>\n",
       "      <td>12.006805</td>\n",
       "      <td>7.640000</td>\n",
       "      <td>0.863514</td>\n",
       "      <td>1399.618111</td>\n",
       "      <td>-498.863574</td>\n",
       "      <td>1397.440120</td>\n",
       "      <td>-499.211024</td>\n",
       "      <td>1400.129303</td>\n",
       "      <td>...</td>\n",
       "      <td>12.033091</td>\n",
       "      <td>-498.350935</td>\n",
       "      <td>8.074946</td>\n",
       "      <td>-499.474407</td>\n",
       "      <td>7.897085</td>\n",
       "      <td>-500.868509</td>\n",
       "      <td>4.931400</td>\n",
       "      <td>-499.963623</td>\n",
       "      <td>24.948919</td>\n",
       "      <td>-498.709987</td>\n",
       "    </tr>\n",
       "    <tr>\n",
       "      <th>4</th>\n",
       "      <td>2016-09-01 04:59:59</td>\n",
       "      <td>199.099327</td>\n",
       "      <td>10.682530</td>\n",
       "      <td>7.530000</td>\n",
       "      <td>0.805575</td>\n",
       "      <td>1401.268123</td>\n",
       "      <td>-500.808305</td>\n",
       "      <td>1398.128818</td>\n",
       "      <td>-499.504543</td>\n",
       "      <td>1402.172226</td>\n",
       "      <td>...</td>\n",
       "      <td>12.025367</td>\n",
       "      <td>-500.786497</td>\n",
       "      <td>8.054678</td>\n",
       "      <td>-500.397500</td>\n",
       "      <td>8.107890</td>\n",
       "      <td>-509.526725</td>\n",
       "      <td>4.957674</td>\n",
       "      <td>-500.360026</td>\n",
       "      <td>25.003331</td>\n",
       "      <td>-500.856333</td>\n",
       "    </tr>\n",
       "  </tbody>\n",
       "</table>\n",
       "<p>5 rows × 53 columns</p>\n",
       "</div>"
      ],
      "text/plain": [
       "                  date  primary_cleaner.input.sulfate  \\\n",
       "0  2016-09-01 00:59:59                     210.800909   \n",
       "1  2016-09-01 01:59:59                     215.392455   \n",
       "2  2016-09-01 02:59:59                     215.259946   \n",
       "3  2016-09-01 03:59:59                     215.336236   \n",
       "4  2016-09-01 04:59:59                     199.099327   \n",
       "\n",
       "   primary_cleaner.input.depressant  primary_cleaner.input.feed_size  \\\n",
       "0                         14.993118                         8.080000   \n",
       "1                         14.987471                         8.080000   \n",
       "2                         12.884934                         7.786667   \n",
       "3                         12.006805                         7.640000   \n",
       "4                         10.682530                         7.530000   \n",
       "\n",
       "   primary_cleaner.input.xanthate  primary_cleaner.state.floatbank8_a_air  \\\n",
       "0                        1.005021                             1398.981301   \n",
       "1                        0.990469                             1398.777912   \n",
       "2                        0.996043                             1398.493666   \n",
       "3                        0.863514                             1399.618111   \n",
       "4                        0.805575                             1401.268123   \n",
       "\n",
       "   primary_cleaner.state.floatbank8_a_level  \\\n",
       "0                               -500.225577   \n",
       "1                               -500.057435   \n",
       "2                               -500.868360   \n",
       "3                               -498.863574   \n",
       "4                               -500.808305   \n",
       "\n",
       "   primary_cleaner.state.floatbank8_b_air  \\\n",
       "0                             1399.144926   \n",
       "1                             1398.055362   \n",
       "2                             1398.860436   \n",
       "3                             1397.440120   \n",
       "4                             1398.128818   \n",
       "\n",
       "   primary_cleaner.state.floatbank8_b_level  \\\n",
       "0                               -499.919735   \n",
       "1                               -499.778182   \n",
       "2                               -499.764529   \n",
       "3                               -499.211024   \n",
       "4                               -499.504543   \n",
       "\n",
       "   primary_cleaner.state.floatbank8_c_air  ...  \\\n",
       "0                             1400.102998  ...   \n",
       "1                             1396.151033  ...   \n",
       "2                             1398.075709  ...   \n",
       "3                             1400.129303  ...   \n",
       "4                             1402.172226  ...   \n",
       "\n",
       "   secondary_cleaner.state.floatbank4_a_air  \\\n",
       "0                                 12.023554   \n",
       "1                                 12.058140   \n",
       "2                                 11.962366   \n",
       "3                                 12.033091   \n",
       "4                                 12.025367   \n",
       "\n",
       "   secondary_cleaner.state.floatbank4_a_level  \\\n",
       "0                                 -497.795834   \n",
       "1                                 -498.695773   \n",
       "2                                 -498.767484   \n",
       "3                                 -498.350935   \n",
       "4                                 -500.786497   \n",
       "\n",
       "   secondary_cleaner.state.floatbank4_b_air  \\\n",
       "0                                  8.016656   \n",
       "1                                  8.130979   \n",
       "2                                  8.096893   \n",
       "3                                  8.074946   \n",
       "4                                  8.054678   \n",
       "\n",
       "   secondary_cleaner.state.floatbank4_b_level  \\\n",
       "0                                 -501.289139   \n",
       "1                                 -499.634209   \n",
       "2                                 -500.827423   \n",
       "3                                 -499.474407   \n",
       "4                                 -500.397500   \n",
       "\n",
       "   secondary_cleaner.state.floatbank5_a_air  \\\n",
       "0                                  7.946562   \n",
       "1                                  7.958270   \n",
       "2                                  8.071056   \n",
       "3                                  7.897085   \n",
       "4                                  8.107890   \n",
       "\n",
       "   secondary_cleaner.state.floatbank5_a_level  \\\n",
       "0                                 -432.317850   \n",
       "1                                 -525.839648   \n",
       "2                                 -500.801673   \n",
       "3                                 -500.868509   \n",
       "4                                 -509.526725   \n",
       "\n",
       "   secondary_cleaner.state.floatbank5_b_air  \\\n",
       "0                                  4.872511   \n",
       "1                                  4.878850   \n",
       "2                                  4.905125   \n",
       "3                                  4.931400   \n",
       "4                                  4.957674   \n",
       "\n",
       "   secondary_cleaner.state.floatbank5_b_level  \\\n",
       "0                                 -500.037437   \n",
       "1                                 -500.162375   \n",
       "2                                 -499.828510   \n",
       "3                                 -499.963623   \n",
       "4                                 -500.360026   \n",
       "\n",
       "   secondary_cleaner.state.floatbank6_a_air  \\\n",
       "0                                 26.705889   \n",
       "1                                 25.019940   \n",
       "2                                 24.994862   \n",
       "3                                 24.948919   \n",
       "4                                 25.003331   \n",
       "\n",
       "   secondary_cleaner.state.floatbank6_a_level  \n",
       "0                                 -499.709414  \n",
       "1                                 -499.819438  \n",
       "2                                 -500.622559  \n",
       "3                                 -498.709987  \n",
       "4                                 -500.856333  \n",
       "\n",
       "[5 rows x 53 columns]"
      ]
     },
     "metadata": {},
     "output_type": "display_data"
    },
    {
     "data": {
      "text/html": [
       "<div>\n",
       "<style scoped>\n",
       "    .dataframe tbody tr th:only-of-type {\n",
       "        vertical-align: middle;\n",
       "    }\n",
       "\n",
       "    .dataframe tbody tr th {\n",
       "        vertical-align: top;\n",
       "    }\n",
       "\n",
       "    .dataframe thead th {\n",
       "        text-align: right;\n",
       "    }\n",
       "</style>\n",
       "<table border=\"1\" class=\"dataframe\">\n",
       "  <thead>\n",
       "    <tr style=\"text-align: right;\">\n",
       "      <th></th>\n",
       "      <th>date</th>\n",
       "      <th>final.output.concentrate_ag</th>\n",
       "      <th>final.output.concentrate_pb</th>\n",
       "      <th>final.output.concentrate_sol</th>\n",
       "      <th>final.output.concentrate_au</th>\n",
       "      <th>final.output.recovery</th>\n",
       "      <th>final.output.tail_ag</th>\n",
       "      <th>final.output.tail_pb</th>\n",
       "      <th>final.output.tail_sol</th>\n",
       "      <th>final.output.tail_au</th>\n",
       "      <th>...</th>\n",
       "      <th>secondary_cleaner.state.floatbank4_a_air</th>\n",
       "      <th>secondary_cleaner.state.floatbank4_a_level</th>\n",
       "      <th>secondary_cleaner.state.floatbank4_b_air</th>\n",
       "      <th>secondary_cleaner.state.floatbank4_b_level</th>\n",
       "      <th>secondary_cleaner.state.floatbank5_a_air</th>\n",
       "      <th>secondary_cleaner.state.floatbank5_a_level</th>\n",
       "      <th>secondary_cleaner.state.floatbank5_b_air</th>\n",
       "      <th>secondary_cleaner.state.floatbank5_b_level</th>\n",
       "      <th>secondary_cleaner.state.floatbank6_a_air</th>\n",
       "      <th>secondary_cleaner.state.floatbank6_a_level</th>\n",
       "    </tr>\n",
       "  </thead>\n",
       "  <tbody>\n",
       "    <tr>\n",
       "      <th>0</th>\n",
       "      <td>2016-01-15 00:00:00</td>\n",
       "      <td>6.055403</td>\n",
       "      <td>9.889648</td>\n",
       "      <td>5.507324</td>\n",
       "      <td>42.192020</td>\n",
       "      <td>70.541216</td>\n",
       "      <td>10.411962</td>\n",
       "      <td>0.895447</td>\n",
       "      <td>16.904297</td>\n",
       "      <td>2.143149</td>\n",
       "      <td>...</td>\n",
       "      <td>14.016835</td>\n",
       "      <td>-502.488007</td>\n",
       "      <td>12.099931</td>\n",
       "      <td>-504.715942</td>\n",
       "      <td>9.925633</td>\n",
       "      <td>-498.310211</td>\n",
       "      <td>8.079666</td>\n",
       "      <td>-500.470978</td>\n",
       "      <td>14.151341</td>\n",
       "      <td>-605.841980</td>\n",
       "    </tr>\n",
       "    <tr>\n",
       "      <th>1</th>\n",
       "      <td>2016-01-15 01:00:00</td>\n",
       "      <td>6.029369</td>\n",
       "      <td>9.968944</td>\n",
       "      <td>5.257781</td>\n",
       "      <td>42.701629</td>\n",
       "      <td>69.266198</td>\n",
       "      <td>10.462676</td>\n",
       "      <td>0.927452</td>\n",
       "      <td>16.634514</td>\n",
       "      <td>2.224930</td>\n",
       "      <td>...</td>\n",
       "      <td>13.992281</td>\n",
       "      <td>-505.503262</td>\n",
       "      <td>11.950531</td>\n",
       "      <td>-501.331529</td>\n",
       "      <td>10.039245</td>\n",
       "      <td>-500.169983</td>\n",
       "      <td>7.984757</td>\n",
       "      <td>-500.582168</td>\n",
       "      <td>13.998353</td>\n",
       "      <td>-599.787184</td>\n",
       "    </tr>\n",
       "    <tr>\n",
       "      <th>2</th>\n",
       "      <td>2016-01-15 02:00:00</td>\n",
       "      <td>6.055926</td>\n",
       "      <td>10.213995</td>\n",
       "      <td>5.383759</td>\n",
       "      <td>42.657501</td>\n",
       "      <td>68.116445</td>\n",
       "      <td>10.507046</td>\n",
       "      <td>0.953716</td>\n",
       "      <td>16.208849</td>\n",
       "      <td>2.257889</td>\n",
       "      <td>...</td>\n",
       "      <td>14.015015</td>\n",
       "      <td>-502.520901</td>\n",
       "      <td>11.912783</td>\n",
       "      <td>-501.133383</td>\n",
       "      <td>10.070913</td>\n",
       "      <td>-500.129135</td>\n",
       "      <td>8.013877</td>\n",
       "      <td>-500.517572</td>\n",
       "      <td>14.028663</td>\n",
       "      <td>-601.427363</td>\n",
       "    </tr>\n",
       "    <tr>\n",
       "      <th>3</th>\n",
       "      <td>2016-01-15 03:00:00</td>\n",
       "      <td>6.047977</td>\n",
       "      <td>9.977019</td>\n",
       "      <td>4.858634</td>\n",
       "      <td>42.689819</td>\n",
       "      <td>68.347543</td>\n",
       "      <td>10.422762</td>\n",
       "      <td>0.883763</td>\n",
       "      <td>16.532835</td>\n",
       "      <td>2.146849</td>\n",
       "      <td>...</td>\n",
       "      <td>14.036510</td>\n",
       "      <td>-500.857308</td>\n",
       "      <td>11.999550</td>\n",
       "      <td>-501.193686</td>\n",
       "      <td>9.970366</td>\n",
       "      <td>-499.201640</td>\n",
       "      <td>7.977324</td>\n",
       "      <td>-500.255908</td>\n",
       "      <td>14.005551</td>\n",
       "      <td>-599.996129</td>\n",
       "    </tr>\n",
       "    <tr>\n",
       "      <th>4</th>\n",
       "      <td>2016-01-15 04:00:00</td>\n",
       "      <td>6.148599</td>\n",
       "      <td>10.142511</td>\n",
       "      <td>4.939416</td>\n",
       "      <td>42.774141</td>\n",
       "      <td>66.927016</td>\n",
       "      <td>10.360302</td>\n",
       "      <td>0.792826</td>\n",
       "      <td>16.525686</td>\n",
       "      <td>2.055292</td>\n",
       "      <td>...</td>\n",
       "      <td>14.027298</td>\n",
       "      <td>-499.838632</td>\n",
       "      <td>11.953070</td>\n",
       "      <td>-501.053894</td>\n",
       "      <td>9.925709</td>\n",
       "      <td>-501.686727</td>\n",
       "      <td>7.894242</td>\n",
       "      <td>-500.356035</td>\n",
       "      <td>13.996647</td>\n",
       "      <td>-601.496691</td>\n",
       "    </tr>\n",
       "  </tbody>\n",
       "</table>\n",
       "<p>5 rows × 87 columns</p>\n",
       "</div>"
      ],
      "text/plain": [
       "                  date  final.output.concentrate_ag  \\\n",
       "0  2016-01-15 00:00:00                     6.055403   \n",
       "1  2016-01-15 01:00:00                     6.029369   \n",
       "2  2016-01-15 02:00:00                     6.055926   \n",
       "3  2016-01-15 03:00:00                     6.047977   \n",
       "4  2016-01-15 04:00:00                     6.148599   \n",
       "\n",
       "   final.output.concentrate_pb  final.output.concentrate_sol  \\\n",
       "0                     9.889648                      5.507324   \n",
       "1                     9.968944                      5.257781   \n",
       "2                    10.213995                      5.383759   \n",
       "3                     9.977019                      4.858634   \n",
       "4                    10.142511                      4.939416   \n",
       "\n",
       "   final.output.concentrate_au  final.output.recovery  final.output.tail_ag  \\\n",
       "0                    42.192020              70.541216             10.411962   \n",
       "1                    42.701629              69.266198             10.462676   \n",
       "2                    42.657501              68.116445             10.507046   \n",
       "3                    42.689819              68.347543             10.422762   \n",
       "4                    42.774141              66.927016             10.360302   \n",
       "\n",
       "   final.output.tail_pb  final.output.tail_sol  final.output.tail_au  ...  \\\n",
       "0              0.895447              16.904297              2.143149  ...   \n",
       "1              0.927452              16.634514              2.224930  ...   \n",
       "2              0.953716              16.208849              2.257889  ...   \n",
       "3              0.883763              16.532835              2.146849  ...   \n",
       "4              0.792826              16.525686              2.055292  ...   \n",
       "\n",
       "   secondary_cleaner.state.floatbank4_a_air  \\\n",
       "0                                 14.016835   \n",
       "1                                 13.992281   \n",
       "2                                 14.015015   \n",
       "3                                 14.036510   \n",
       "4                                 14.027298   \n",
       "\n",
       "   secondary_cleaner.state.floatbank4_a_level  \\\n",
       "0                                 -502.488007   \n",
       "1                                 -505.503262   \n",
       "2                                 -502.520901   \n",
       "3                                 -500.857308   \n",
       "4                                 -499.838632   \n",
       "\n",
       "   secondary_cleaner.state.floatbank4_b_air  \\\n",
       "0                                 12.099931   \n",
       "1                                 11.950531   \n",
       "2                                 11.912783   \n",
       "3                                 11.999550   \n",
       "4                                 11.953070   \n",
       "\n",
       "   secondary_cleaner.state.floatbank4_b_level  \\\n",
       "0                                 -504.715942   \n",
       "1                                 -501.331529   \n",
       "2                                 -501.133383   \n",
       "3                                 -501.193686   \n",
       "4                                 -501.053894   \n",
       "\n",
       "   secondary_cleaner.state.floatbank5_a_air  \\\n",
       "0                                  9.925633   \n",
       "1                                 10.039245   \n",
       "2                                 10.070913   \n",
       "3                                  9.970366   \n",
       "4                                  9.925709   \n",
       "\n",
       "   secondary_cleaner.state.floatbank5_a_level  \\\n",
       "0                                 -498.310211   \n",
       "1                                 -500.169983   \n",
       "2                                 -500.129135   \n",
       "3                                 -499.201640   \n",
       "4                                 -501.686727   \n",
       "\n",
       "   secondary_cleaner.state.floatbank5_b_air  \\\n",
       "0                                  8.079666   \n",
       "1                                  7.984757   \n",
       "2                                  8.013877   \n",
       "3                                  7.977324   \n",
       "4                                  7.894242   \n",
       "\n",
       "   secondary_cleaner.state.floatbank5_b_level  \\\n",
       "0                                 -500.470978   \n",
       "1                                 -500.582168   \n",
       "2                                 -500.517572   \n",
       "3                                 -500.255908   \n",
       "4                                 -500.356035   \n",
       "\n",
       "   secondary_cleaner.state.floatbank6_a_air  \\\n",
       "0                                 14.151341   \n",
       "1                                 13.998353   \n",
       "2                                 14.028663   \n",
       "3                                 14.005551   \n",
       "4                                 13.996647   \n",
       "\n",
       "   secondary_cleaner.state.floatbank6_a_level  \n",
       "0                                 -605.841980  \n",
       "1                                 -599.787184  \n",
       "2                                 -601.427363  \n",
       "3                                 -599.996129  \n",
       "4                                 -601.496691  \n",
       "\n",
       "[5 rows x 87 columns]"
      ]
     },
     "metadata": {},
     "output_type": "display_data"
    }
   ],
   "source": [
    "display(train.head())\n",
    "display(test.head())\n",
    "display(full_data.head())"
   ]
  },
  {
   "cell_type": "markdown",
   "metadata": {},
   "source": [
    "### Проверим, что эффективность обогащения рассчитана правильно."
   ]
  },
  {
   "cell_type": "raw",
   "metadata": {},
   "source": [
    "В рамках подготовки данных необходимо проверить формулу вычисления эффективности обогащения. Формула выглядит так:\n",
    "\n",
    "recovery = ((C * (F - T)) / (F * (C - T))) * 100%\n",
    "\n",
    "где:\n",
    "\n",
    "C — доля золота в концентрате после флотации/очистки;\n",
    "F — доля золота в сырье/концентрате до флотации/очистки;\n",
    "T — доля золота в отвальных хвостах после флотации/очистки.\n",
    "Основываясь на полученных от компании данных, необходимые признаки для проверки формулы это:\n",
    "\n",
    "rougher.output.concentrate_au (С)\n",
    "rougher.input.feed_au (F)\n",
    "rougher.output.tail_au (T)\n",
    "\n",
    "А сам результат работы формулы находится здесь:\n",
    "\n",
    "rougher.output.recovery\n",
    "\n",
    "Проверим, что эффективность обогащения рассчитана правильно. Вычислим её на обучающей выборке для признака rougher.output.recovery. \n",
    "\n",
    "Найдем MAE между нашими расчётами и значением признака."
   ]
  },
  {
   "cell_type": "markdown",
   "metadata": {},
   "source": [
    "Создадим новый столбец с результатом вычисления эффективности обогащения по формуле."
   ]
  },
  {
   "cell_type": "code",
   "execution_count": 6,
   "metadata": {},
   "outputs": [],
   "source": [
    "C = train['rougher.output.concentrate_au']\n",
    "F = train['rougher.input.feed_au']\n",
    "T = train['rougher.output.tail_au']"
   ]
  },
  {
   "cell_type": "markdown",
   "metadata": {},
   "source": [
    "Вычислим эффективность на обучающей выборке для признака \"rougher.output.recovery\".\n",
    "Найдем MAE между нашими расчетами и значениями признака. Опишем выводы."
   ]
  },
  {
   "cell_type": "code",
   "execution_count": 7,
   "metadata": {},
   "outputs": [],
   "source": [
    "new_recovery = ((C * (F - T)) / (F * (C - T))) * 100"
   ]
  },
  {
   "cell_type": "markdown",
   "metadata": {},
   "source": [
    "Cтроим гистограммы для двух наборов значений recovery - старого и нового."
   ]
  },
  {
   "cell_type": "code",
   "execution_count": 8,
   "metadata": {},
   "outputs": [],
   "source": [
    "old_recovery = train['rougher.output.recovery']"
   ]
  },
  {
   "cell_type": "code",
   "execution_count": 9,
   "metadata": {},
   "outputs": [
    {
     "data": {
      "text/plain": [
       "<AxesSubplot:>"
      ]
     },
     "execution_count": 9,
     "metadata": {},
     "output_type": "execute_result"
    },
    {
     "data": {
      "image/png": "[encoded data removed]",
      "text/plain": [
       "<Figure size 432x288 with 1 Axes>"
      ]
     },
     "metadata": {
      "needs_background": "light"
     },
     "output_type": "display_data"
    }
   ],
   "source": [
    "train['rougher.output.recovery'].hist(bins=50, range=(0, 125))"
   ]
  },
  {
   "cell_type": "code",
   "execution_count": 10,
   "metadata": {},
   "outputs": [
    {
     "data": {
      "text/plain": [
       "<AxesSubplot:>"
      ]
     },
     "execution_count": 10,
     "metadata": {},
     "output_type": "execute_result"
    },
    {
     "data": {
      "image/png": "[encoded data removed]",
      "text/plain": [
       "<Figure size 432x288 with 1 Axes>"
      ]
     },
     "metadata": {
      "needs_background": "light"
     },
     "output_type": "display_data"
    }
   ],
   "source": [
    "new_recovery.hist(bins=50, range=(0, 125))"
   ]
  },
  {
   "cell_type": "markdown",
   "metadata": {},
   "source": [
    "Нет различия в распределении старых и новых данных. Посчитаем MAE."
   ]
  },
  {
   "cell_type": "code",
   "execution_count": 11,
   "metadata": {},
   "outputs": [
    {
     "name": "stdout",
     "output_type": "stream",
     "text": [
      "MAE: 9.73512347450521e-15\n"
     ]
    }
   ],
   "source": [
    "print('MAE:', mean_absolute_error(old_recovery, new_recovery))"
   ]
  },
  {
   "cell_type": "markdown",
   "metadata": {},
   "source": [
    "Среднее абсолютное отклонение ничтожно мало. Различий между данными действительно нет."
   ]
  },
  {
   "cell_type": "markdown",
   "metadata": {},
   "source": [
    "ВЫВОД: эффективность обогащения рассчитана правильно."
   ]
  },
  {
   "cell_type": "markdown",
   "metadata": {},
   "source": [
    "<font color='blue'><b>Комментарий ревьюера: </b></font> ✔️\\\n",
    "<font color='green'>👍</font>"
   ]
  },
  {
   "cell_type": "markdown",
   "metadata": {},
   "source": [
    "### Изучение данных. Продолжение."
   ]
  },
  {
   "cell_type": "code",
   "execution_count": 12,
   "metadata": {},
   "outputs": [
    {
     "name": "stdout",
     "output_type": "stream",
     "text": [
      "Размер обучающей выборки: (14149, 87) \n",
      "Размер тестовой выборки: (5290, 53) \n",
      "Размер общей выборки: (19439, 87) \n"
     ]
    }
   ],
   "source": [
    "#Посмотрим размеры выборок\n",
    "print('Размер обучающей выборки: {} '.format(train.shape))\n",
    "print('Размер тестовой выборки: {} '.format(test.shape))\n",
    "print('Размер общей выборки: {} '.format(full_data.shape))\n"
   ]
  },
  {
   "cell_type": "markdown",
   "metadata": {},
   "source": [
    "В обущающей выборке признаков гораздо больше. Проанализируем те признаки, которые недоступны в тестовой выборке."
   ]
  },
  {
   "cell_type": "code",
   "execution_count": 13,
   "metadata": {
    "scrolled": true
   },
   "outputs": [
    {
     "data": {
      "text/html": [
       "<div>\n",
       "<style scoped>\n",
       "    .dataframe tbody tr th:only-of-type {\n",
       "        vertical-align: middle;\n",
       "    }\n",
       "\n",
       "    .dataframe tbody tr th {\n",
       "        vertical-align: top;\n",
       "    }\n",
       "\n",
       "    .dataframe thead th {\n",
       "        text-align: right;\n",
       "    }\n",
       "</style>\n",
       "<table border=\"1\" class=\"dataframe\">\n",
       "  <thead>\n",
       "    <tr style=\"text-align: right;\">\n",
       "      <th></th>\n",
       "      <th>final.output.concentrate_ag</th>\n",
       "      <th>final.output.concentrate_pb</th>\n",
       "      <th>final.output.concentrate_sol</th>\n",
       "      <th>final.output.concentrate_au</th>\n",
       "      <th>final.output.recovery</th>\n",
       "      <th>final.output.tail_ag</th>\n",
       "      <th>final.output.tail_pb</th>\n",
       "      <th>final.output.tail_sol</th>\n",
       "      <th>final.output.tail_au</th>\n",
       "      <th>primary_cleaner.output.concentrate_ag</th>\n",
       "      <th>...</th>\n",
       "      <th>rougher.output.concentrate_au</th>\n",
       "      <th>rougher.output.recovery</th>\n",
       "      <th>rougher.output.tail_ag</th>\n",
       "      <th>rougher.output.tail_pb</th>\n",
       "      <th>rougher.output.tail_sol</th>\n",
       "      <th>rougher.output.tail_au</th>\n",
       "      <th>secondary_cleaner.output.tail_ag</th>\n",
       "      <th>secondary_cleaner.output.tail_pb</th>\n",
       "      <th>secondary_cleaner.output.tail_sol</th>\n",
       "      <th>secondary_cleaner.output.tail_au</th>\n",
       "    </tr>\n",
       "  </thead>\n",
       "  <tbody>\n",
       "    <tr>\n",
       "      <th>0</th>\n",
       "      <td>6.055403</td>\n",
       "      <td>9.889648</td>\n",
       "      <td>5.507324</td>\n",
       "      <td>42.192020</td>\n",
       "      <td>70.541216</td>\n",
       "      <td>10.411962</td>\n",
       "      <td>0.895447</td>\n",
       "      <td>16.904297</td>\n",
       "      <td>2.143149</td>\n",
       "      <td>8.547551</td>\n",
       "      <td>...</td>\n",
       "      <td>19.793808</td>\n",
       "      <td>87.107763</td>\n",
       "      <td>5.008018</td>\n",
       "      <td>0.508728</td>\n",
       "      <td>19.154297</td>\n",
       "      <td>1.170244</td>\n",
       "      <td>14.500184</td>\n",
       "      <td>4.694824</td>\n",
       "      <td>8.764648</td>\n",
       "      <td>2.606185</td>\n",
       "    </tr>\n",
       "    <tr>\n",
       "      <th>1</th>\n",
       "      <td>6.029369</td>\n",
       "      <td>9.968944</td>\n",
       "      <td>5.257781</td>\n",
       "      <td>42.701629</td>\n",
       "      <td>69.266198</td>\n",
       "      <td>10.462676</td>\n",
       "      <td>0.927452</td>\n",
       "      <td>16.634514</td>\n",
       "      <td>2.224930</td>\n",
       "      <td>8.558743</td>\n",
       "      <td>...</td>\n",
       "      <td>20.050975</td>\n",
       "      <td>86.843261</td>\n",
       "      <td>4.955378</td>\n",
       "      <td>0.536689</td>\n",
       "      <td>18.965234</td>\n",
       "      <td>1.184827</td>\n",
       "      <td>14.265474</td>\n",
       "      <td>4.592547</td>\n",
       "      <td>9.001494</td>\n",
       "      <td>2.488248</td>\n",
       "    </tr>\n",
       "    <tr>\n",
       "      <th>2</th>\n",
       "      <td>6.055926</td>\n",
       "      <td>10.213995</td>\n",
       "      <td>5.383759</td>\n",
       "      <td>42.657501</td>\n",
       "      <td>68.116445</td>\n",
       "      <td>10.507046</td>\n",
       "      <td>0.953716</td>\n",
       "      <td>16.208849</td>\n",
       "      <td>2.257889</td>\n",
       "      <td>8.603505</td>\n",
       "      <td>...</td>\n",
       "      <td>19.737170</td>\n",
       "      <td>86.842308</td>\n",
       "      <td>4.843460</td>\n",
       "      <td>0.546416</td>\n",
       "      <td>18.808533</td>\n",
       "      <td>1.162562</td>\n",
       "      <td>14.115662</td>\n",
       "      <td>4.624775</td>\n",
       "      <td>8.842896</td>\n",
       "      <td>2.458187</td>\n",
       "    </tr>\n",
       "    <tr>\n",
       "      <th>3</th>\n",
       "      <td>6.047977</td>\n",
       "      <td>9.977019</td>\n",
       "      <td>4.858634</td>\n",
       "      <td>42.689819</td>\n",
       "      <td>68.347543</td>\n",
       "      <td>10.422762</td>\n",
       "      <td>0.883763</td>\n",
       "      <td>16.532835</td>\n",
       "      <td>2.146849</td>\n",
       "      <td>7.221879</td>\n",
       "      <td>...</td>\n",
       "      <td>19.320810</td>\n",
       "      <td>87.226430</td>\n",
       "      <td>4.655288</td>\n",
       "      <td>0.542525</td>\n",
       "      <td>19.330200</td>\n",
       "      <td>1.079755</td>\n",
       "      <td>13.732071</td>\n",
       "      <td>4.482453</td>\n",
       "      <td>9.122857</td>\n",
       "      <td>2.322062</td>\n",
       "    </tr>\n",
       "    <tr>\n",
       "      <th>4</th>\n",
       "      <td>6.148599</td>\n",
       "      <td>10.142511</td>\n",
       "      <td>4.939416</td>\n",
       "      <td>42.774141</td>\n",
       "      <td>66.927016</td>\n",
       "      <td>10.360302</td>\n",
       "      <td>0.792826</td>\n",
       "      <td>16.525686</td>\n",
       "      <td>2.055292</td>\n",
       "      <td>9.089428</td>\n",
       "      <td>...</td>\n",
       "      <td>19.216101</td>\n",
       "      <td>86.688794</td>\n",
       "      <td>4.552800</td>\n",
       "      <td>0.515438</td>\n",
       "      <td>19.267422</td>\n",
       "      <td>1.012642</td>\n",
       "      <td>14.079996</td>\n",
       "      <td>4.470737</td>\n",
       "      <td>8.871028</td>\n",
       "      <td>2.330448</td>\n",
       "    </tr>\n",
       "  </tbody>\n",
       "</table>\n",
       "<p>5 rows × 34 columns</p>\n",
       "</div>"
      ],
      "text/plain": [
       "   final.output.concentrate_ag  final.output.concentrate_pb  \\\n",
       "0                     6.055403                     9.889648   \n",
       "1                     6.029369                     9.968944   \n",
       "2                     6.055926                    10.213995   \n",
       "3                     6.047977                     9.977019   \n",
       "4                     6.148599                    10.142511   \n",
       "\n",
       "   final.output.concentrate_sol  final.output.concentrate_au  \\\n",
       "0                      5.507324                    42.192020   \n",
       "1                      5.257781                    42.701629   \n",
       "2                      5.383759                    42.657501   \n",
       "3                      4.858634                    42.689819   \n",
       "4                      4.939416                    42.774141   \n",
       "\n",
       "   final.output.recovery  final.output.tail_ag  final.output.tail_pb  \\\n",
       "0              70.541216             10.411962              0.895447   \n",
       "1              69.266198             10.462676              0.927452   \n",
       "2              68.116445             10.507046              0.953716   \n",
       "3              68.347543             10.422762              0.883763   \n",
       "4              66.927016             10.360302              0.792826   \n",
       "\n",
       "   final.output.tail_sol  final.output.tail_au  \\\n",
       "0              16.904297              2.143149   \n",
       "1              16.634514              2.224930   \n",
       "2              16.208849              2.257889   \n",
       "3              16.532835              2.146849   \n",
       "4              16.525686              2.055292   \n",
       "\n",
       "   primary_cleaner.output.concentrate_ag  ...  rougher.output.concentrate_au  \\\n",
       "0                               8.547551  ...                      19.793808   \n",
       "1                               8.558743  ...                      20.050975   \n",
       "2                               8.603505  ...                      19.737170   \n",
       "3                               7.221879  ...                      19.320810   \n",
       "4                               9.089428  ...                      19.216101   \n",
       "\n",
       "   rougher.output.recovery  rougher.output.tail_ag  rougher.output.tail_pb  \\\n",
       "0                87.107763                5.008018                0.508728   \n",
       "1                86.843261                4.955378                0.536689   \n",
       "2                86.842308                4.843460                0.546416   \n",
       "3                87.226430                4.655288                0.542525   \n",
       "4                86.688794                4.552800                0.515438   \n",
       "\n",
       "   rougher.output.tail_sol  rougher.output.tail_au  \\\n",
       "0                19.154297                1.170244   \n",
       "1                18.965234                1.184827   \n",
       "2                18.808533                1.162562   \n",
       "3                19.330200                1.079755   \n",
       "4                19.267422                1.012642   \n",
       "\n",
       "   secondary_cleaner.output.tail_ag  secondary_cleaner.output.tail_pb  \\\n",
       "0                         14.500184                          4.694824   \n",
       "1                         14.265474                          4.592547   \n",
       "2                         14.115662                          4.624775   \n",
       "3                         13.732071                          4.482453   \n",
       "4                         14.079996                          4.470737   \n",
       "\n",
       "   secondary_cleaner.output.tail_sol  secondary_cleaner.output.tail_au  \n",
       "0                           8.764648                          2.606185  \n",
       "1                           9.001494                          2.488248  \n",
       "2                           8.842896                          2.458187  \n",
       "3                           9.122857                          2.322062  \n",
       "4                           8.871028                          2.330448  \n",
       "\n",
       "[5 rows x 34 columns]"
      ]
     },
     "execution_count": 13,
     "metadata": {},
     "output_type": "execute_result"
    }
   ],
   "source": [
    "missing_cols = train.columns.drop(test.columns)\n",
    "train[missing_cols].head()"
   ]
  },
  {
   "cell_type": "markdown",
   "metadata": {},
   "source": [
    "Фактически, все эти столбцы - целевые признаки (в зависимости от того, что именно предсказываем). \n",
    "Это концентрация различных веществ на выходе после отчистки, а также доля веществ в отвальных хвостах."
   ]
  },
  {
   "cell_type": "markdown",
   "metadata": {},
   "source": [
    "Таким образом, у нас есть 53 признака (определены по тестовой выборке) и 2 целевых признака, \n",
    "по условию - rougher.output.recovery и final.output.recovery. \n",
    "Уберём из обучающей выборки ненужные признаки и добавим целевые признаки в тестовую выборку."
   ]
  },
  {
   "cell_type": "code",
   "execution_count": 14,
   "metadata": {},
   "outputs": [],
   "source": [
    "cols_to_drop = missing_cols.drop(['final.output.recovery', 'rougher.output.recovery'])\n",
    "right_cols = train.columns.drop(cols_to_drop)\n",
    "train = train[right_cols]"
   ]
  },
  {
   "cell_type": "markdown",
   "metadata": {},
   "source": [
    "Обучающая выборка готова, возвращаемся к тестовой выборке. Столбец date в исходных данных содержит уникальные значения. \n",
    "Будем использовать эти значения как индексы, чтобы объединить датасеты и добавить в тестовую выборку недостающую информацию."
   ]
  },
  {
   "cell_type": "code",
   "execution_count": 15,
   "metadata": {},
   "outputs": [],
   "source": [
    "target_features_to_join = full_data[['date', 'final.output.recovery', 'rougher.output.recovery']].copy()"
   ]
  },
  {
   "cell_type": "code",
   "execution_count": 16,
   "metadata": {},
   "outputs": [],
   "source": [
    "test = test.join(target_features_to_join.set_index('date'), on='date')"
   ]
  },
  {
   "cell_type": "code",
   "execution_count": 17,
   "metadata": {
    "scrolled": true
   },
   "outputs": [
    {
     "name": "stdout",
     "output_type": "stream",
     "text": [
      "(14149, 55)\n",
      "(5290, 55)\n"
     ]
    }
   ],
   "source": [
    "print(train.shape)\n",
    "print(test.shape)"
   ]
  },
  {
   "cell_type": "markdown",
   "metadata": {},
   "source": [
    "Проверим на отсутствие данных"
   ]
  },
  {
   "cell_type": "code",
   "execution_count": 18,
   "metadata": {},
   "outputs": [
    {
     "data": {
      "text/plain": [
       "False    14149\n",
       "Name: final.output.recovery, dtype: int64"
      ]
     },
     "execution_count": 18,
     "metadata": {},
     "output_type": "execute_result"
    }
   ],
   "source": [
    "train['final.output.recovery'].isnull().value_counts()"
   ]
  },
  {
   "cell_type": "code",
   "execution_count": 19,
   "metadata": {},
   "outputs": [
    {
     "data": {
      "text/plain": [
       "False    5290\n",
       "Name: final.output.recovery, dtype: int64"
      ]
     },
     "execution_count": 19,
     "metadata": {},
     "output_type": "execute_result"
    }
   ],
   "source": [
    "test['final.output.recovery'].isnull().value_counts()"
   ]
  },
  {
   "cell_type": "code",
   "execution_count": 20,
   "metadata": {},
   "outputs": [
    {
     "data": {
      "text/plain": [
       "False    14149\n",
       "Name: rougher.output.recovery, dtype: int64"
      ]
     },
     "execution_count": 20,
     "metadata": {},
     "output_type": "execute_result"
    }
   ],
   "source": [
    "train['rougher.output.recovery'].isnull().value_counts()"
   ]
  },
  {
   "cell_type": "code",
   "execution_count": 21,
   "metadata": {},
   "outputs": [
    {
     "data": {
      "text/plain": [
       "False    5290\n",
       "Name: rougher.output.recovery, dtype: int64"
      ]
     },
     "execution_count": 21,
     "metadata": {},
     "output_type": "execute_result"
    }
   ],
   "source": [
    "test['rougher.output.recovery'].isnull().value_counts()"
   ]
  },
  {
   "cell_type": "code",
   "execution_count": 22,
   "metadata": {},
   "outputs": [],
   "source": [
    "#избавимся от пропусков в столбце rougher.output.recovery\n",
    "test.dropna(subset = ['rougher.output.recovery'], inplace = True)"
   ]
  },
  {
   "cell_type": "code",
   "execution_count": 23,
   "metadata": {},
   "outputs": [
    {
     "data": {
      "text/plain": [
       "False    5290\n",
       "Name: rougher.output.recovery, dtype: int64"
      ]
     },
     "execution_count": 23,
     "metadata": {},
     "output_type": "execute_result"
    }
   ],
   "source": [
    "test['rougher.output.recovery'].isnull().value_counts()"
   ]
  },
  {
   "cell_type": "code",
   "execution_count": 24,
   "metadata": {},
   "outputs": [
    {
     "name": "stdout",
     "output_type": "stream",
     "text": [
      "0     87.107763\n",
      "1     86.843261\n",
      "2     86.842308\n",
      "3     87.226430\n",
      "4     86.688794\n",
      "5     88.156912\n",
      "6     88.168065\n",
      "7     87.668336\n",
      "8     87.035862\n",
      "9     87.650868\n",
      "10    88.280699\n",
      "11    88.499117\n",
      "12    89.299981\n",
      "13    89.519701\n",
      "14    87.235441\n",
      "15    85.136294\n",
      "16    85.443505\n",
      "17    86.489827\n",
      "18    85.462226\n",
      "19    86.241795\n",
      "20    86.582578\n",
      "21    86.824119\n",
      "22    88.132239\n",
      "23    85.910498\n",
      "24    86.262377\n",
      "25    87.561100\n",
      "26    87.580848\n",
      "27    87.107693\n",
      "28    87.431708\n",
      "29    86.798211\n",
      "30    88.066903\n",
      "31    88.804718\n",
      "32    89.964407\n",
      "33    86.303989\n",
      "34    87.298278\n",
      "35    85.448045\n",
      "36    87.323840\n",
      "37    88.151219\n",
      "38    88.012961\n",
      "39    85.633837\n",
      "40    85.017832\n",
      "41    87.941479\n",
      "42    86.205601\n",
      "43    82.078433\n",
      "44    91.408585\n",
      "45     0.000000\n",
      "46     0.000000\n",
      "47     0.000000\n",
      "48     0.000000\n",
      "49     0.000000\n",
      "Name: rougher.output.recovery, dtype: float64\n"
     ]
    }
   ],
   "source": [
    "print(train['rougher.output.recovery'].head(50))"
   ]
  },
  {
   "cell_type": "markdown",
   "metadata": {},
   "source": [
    "Отсутствующих данных нет."
   ]
  },
  {
   "cell_type": "markdown",
   "metadata": {},
   "source": [
    "Проверим уникальность значений таблиц"
   ]
  },
  {
   "cell_type": "code",
   "execution_count": 25,
   "metadata": {},
   "outputs": [
    {
     "name": "stdout",
     "output_type": "stream",
     "text": [
      "===========Тестовая выборка============\n"
     ]
    },
    {
     "data": {
      "text/plain": [
       "date                                          5290\n",
       "primary_cleaner.input.sulfate                 5286\n",
       "primary_cleaner.input.depressant              5285\n",
       "primary_cleaner.input.feed_size               1537\n",
       "primary_cleaner.input.xanthate                5286\n",
       "primary_cleaner.state.floatbank8_a_air        5290\n",
       "primary_cleaner.state.floatbank8_a_level      5290\n",
       "primary_cleaner.state.floatbank8_b_air        5290\n",
       "primary_cleaner.state.floatbank8_b_level      5290\n",
       "primary_cleaner.state.floatbank8_c_air        5290\n",
       "primary_cleaner.state.floatbank8_c_level      5290\n",
       "primary_cleaner.state.floatbank8_d_air        5290\n",
       "primary_cleaner.state.floatbank8_d_level      5290\n",
       "rougher.input.feed_ag                         5283\n",
       "rougher.input.feed_pb                         5282\n",
       "rougher.input.feed_rate                       5287\n",
       "rougher.input.feed_size                       5289\n",
       "rougher.input.feed_sol                        5260\n",
       "rougher.input.feed_au                         5283\n",
       "rougher.input.floatbank10_sulfate             5285\n",
       "rougher.input.floatbank10_xanthate            5290\n",
       "rougher.input.floatbank11_sulfate             5282\n",
       "rougher.input.floatbank11_xanthate            5265\n",
       "rougher.state.floatbank10_a_air               5290\n",
       "rougher.state.floatbank10_a_level             5290\n",
       "rougher.state.floatbank10_b_air               5290\n",
       "rougher.state.floatbank10_b_level             5290\n",
       "rougher.state.floatbank10_c_air               5290\n",
       "rougher.state.floatbank10_c_level             5290\n",
       "rougher.state.floatbank10_d_air               5290\n",
       "rougher.state.floatbank10_d_level             5290\n",
       "rougher.state.floatbank10_e_air               5290\n",
       "rougher.state.floatbank10_e_level             5290\n",
       "rougher.state.floatbank10_f_air               5290\n",
       "rougher.state.floatbank10_f_level             5290\n",
       "secondary_cleaner.state.floatbank2_a_air      5287\n",
       "secondary_cleaner.state.floatbank2_a_level    5290\n",
       "secondary_cleaner.state.floatbank2_b_air      5288\n",
       "secondary_cleaner.state.floatbank2_b_level    5290\n",
       "secondary_cleaner.state.floatbank3_a_air      5212\n",
       "secondary_cleaner.state.floatbank3_a_level    5290\n",
       "secondary_cleaner.state.floatbank3_b_air      5173\n",
       "secondary_cleaner.state.floatbank3_b_level    5290\n",
       "secondary_cleaner.state.floatbank4_a_air      5280\n",
       "secondary_cleaner.state.floatbank4_a_level    5290\n",
       "secondary_cleaner.state.floatbank4_b_air      5270\n",
       "secondary_cleaner.state.floatbank4_b_level    5290\n",
       "secondary_cleaner.state.floatbank5_a_air      5290\n",
       "secondary_cleaner.state.floatbank5_a_level    5290\n",
       "secondary_cleaner.state.floatbank5_b_air      5290\n",
       "secondary_cleaner.state.floatbank5_b_level    5290\n",
       "secondary_cleaner.state.floatbank6_a_air      5290\n",
       "secondary_cleaner.state.floatbank6_a_level    5290\n",
       "final.output.recovery                         5229\n",
       "rougher.output.recovery                       5187\n",
       "dtype: int64"
      ]
     },
     "metadata": {},
     "output_type": "display_data"
    },
    {
     "name": "stdout",
     "output_type": "stream",
     "text": [
      "===========Обучающая выборка============\n"
     ]
    },
    {
     "data": {
      "text/plain": [
       "date                                          14149\n",
       "final.output.recovery                         14008\n",
       "primary_cleaner.input.sulfate                 14129\n",
       "primary_cleaner.input.depressant              14108\n",
       "primary_cleaner.input.feed_size                3732\n",
       "primary_cleaner.input.xanthate                14049\n",
       "primary_cleaner.state.floatbank8_a_air        14145\n",
       "primary_cleaner.state.floatbank8_a_level      14148\n",
       "primary_cleaner.state.floatbank8_b_air        14145\n",
       "primary_cleaner.state.floatbank8_b_level      14148\n",
       "primary_cleaner.state.floatbank8_c_air        14147\n",
       "primary_cleaner.state.floatbank8_c_level      14148\n",
       "primary_cleaner.state.floatbank8_d_air        14146\n",
       "primary_cleaner.state.floatbank8_d_level      14148\n",
       "rougher.input.feed_ag                         14126\n",
       "rougher.input.feed_pb                         14020\n",
       "rougher.input.feed_rate                       14141\n",
       "rougher.input.feed_size                       13997\n",
       "rougher.input.feed_sol                        14043\n",
       "rougher.input.feed_au                         14126\n",
       "rougher.input.floatbank10_sulfate             14120\n",
       "rougher.input.floatbank10_xanthate            14141\n",
       "rougher.input.floatbank11_sulfate             14113\n",
       "rougher.input.floatbank11_xanthate            13706\n",
       "rougher.output.recovery                       13831\n",
       "rougher.state.floatbank10_a_air               14148\n",
       "rougher.state.floatbank10_a_level             14148\n",
       "rougher.state.floatbank10_b_air               14148\n",
       "rougher.state.floatbank10_b_level             14148\n",
       "rougher.state.floatbank10_c_air               14148\n",
       "rougher.state.floatbank10_c_level             14148\n",
       "rougher.state.floatbank10_d_air               14149\n",
       "rougher.state.floatbank10_d_level             14149\n",
       "rougher.state.floatbank10_e_air               13713\n",
       "rougher.state.floatbank10_e_level             14149\n",
       "rougher.state.floatbank10_f_air               14149\n",
       "rougher.state.floatbank10_f_level             14149\n",
       "secondary_cleaner.state.floatbank2_a_air      13931\n",
       "secondary_cleaner.state.floatbank2_a_level    14148\n",
       "secondary_cleaner.state.floatbank2_b_air      13993\n",
       "secondary_cleaner.state.floatbank2_b_level    14148\n",
       "secondary_cleaner.state.floatbank3_a_air      14142\n",
       "secondary_cleaner.state.floatbank3_a_level    14148\n",
       "secondary_cleaner.state.floatbank3_b_air      14145\n",
       "secondary_cleaner.state.floatbank3_b_level    14148\n",
       "secondary_cleaner.state.floatbank4_a_air      14143\n",
       "secondary_cleaner.state.floatbank4_a_level    14148\n",
       "secondary_cleaner.state.floatbank4_b_air      14144\n",
       "secondary_cleaner.state.floatbank4_b_level    14146\n",
       "secondary_cleaner.state.floatbank5_a_air      14148\n",
       "secondary_cleaner.state.floatbank5_a_level    14148\n",
       "secondary_cleaner.state.floatbank5_b_air      14148\n",
       "secondary_cleaner.state.floatbank5_b_level    14148\n",
       "secondary_cleaner.state.floatbank6_a_air      14147\n",
       "secondary_cleaner.state.floatbank6_a_level    14148\n",
       "dtype: int64"
      ]
     },
     "metadata": {},
     "output_type": "display_data"
    },
    {
     "name": "stdout",
     "output_type": "stream",
     "text": [
      "============Full=========================\n"
     ]
    },
    {
     "data": {
      "text/plain": [
       "date                                          19439\n",
       "final.output.concentrate_ag                   19307\n",
       "final.output.concentrate_pb                   19276\n",
       "final.output.concentrate_sol                  19093\n",
       "final.output.concentrate_au                   19308\n",
       "                                              ...  \n",
       "secondary_cleaner.state.floatbank5_a_level    19438\n",
       "secondary_cleaner.state.floatbank5_b_air      19438\n",
       "secondary_cleaner.state.floatbank5_b_level    19438\n",
       "secondary_cleaner.state.floatbank6_a_air      19437\n",
       "secondary_cleaner.state.floatbank6_a_level    19438\n",
       "Length: 87, dtype: int64"
      ]
     },
     "metadata": {},
     "output_type": "display_data"
    }
   ],
   "source": [
    "print('===========Тестовая выборка============')\n",
    "display(test.nunique())\n",
    "print('===========Обучающая выборка============')\n",
    "display(train.nunique())\n",
    "print('============Full=========================')\n",
    "display(full_data.nunique())"
   ]
  },
  {
   "cell_type": "markdown",
   "metadata": {},
   "source": [
    "Проверим на наличие дубликатов"
   ]
  },
  {
   "cell_type": "code",
   "execution_count": 26,
   "metadata": {},
   "outputs": [
    {
     "name": "stdout",
     "output_type": "stream",
     "text": [
      "Тестовая выборка, количество дубликатов:  0\n",
      "Обучающая выборка, количество дубликатов:  0\n",
      "Full Dataset, количество дубликатов:  0\n"
     ]
    }
   ],
   "source": [
    "print('Тестовая выборка, количество дубликатов: ',test.duplicated().sum())\n",
    "print('Обучающая выборка, количество дубликатов: ',train.duplicated().sum())\n",
    "print('Full Dataset, количество дубликатов: ',full_data.duplicated().sum())"
   ]
  },
  {
   "cell_type": "code",
   "execution_count": 27,
   "metadata": {
    "scrolled": true
   },
   "outputs": [
    {
     "name": "stdout",
     "output_type": "stream",
     "text": [
      "(14149, 55)\n",
      "(5290, 55)\n"
     ]
    }
   ],
   "source": [
    "print(train.shape)\n",
    "print(test.shape)"
   ]
  },
  {
   "cell_type": "markdown",
   "metadata": {},
   "source": [
    "Теперь у нас есть готовые обучающая и тестовая выборки, \n",
    "состоящие из необходимых столбцов ,без пропусков и дубликатов."
   ]
  },
  {
   "cell_type": "markdown",
   "metadata": {},
   "source": [
    "### Вывод"
   ]
  },
  {
   "cell_type": "markdown",
   "metadata": {},
   "source": [
    "- Удалили из обучающей выборки признаки которых нет в тестовой выборке.\n",
    "- В тестовой и обучающей выборках имеем одинаковое количество признаков 55. \n",
    "  Размер тестовой 5290 строк, размер обучающей 14149 строк.\n",
    "- Можно приступать к анализу и машинному обучению.\n"
   ]
  },
  {
   "cell_type": "markdown",
   "metadata": {},
   "source": [
    "## Анализ данных"
   ]
  },
  {
   "cell_type": "markdown",
   "metadata": {},
   "source": [
    "### Как меняется концентрация металлов (Au, Ag, Pb) на различных этапах очистки"
   ]
  },
  {
   "cell_type": "code",
   "execution_count": 28,
   "metadata": {},
   "outputs": [],
   "source": [
    "def concentration(df, col1, col2, col3,col4):\n",
    "    metals = ['au', 'ag', 'pb']\n",
    "    names = {\n",
    "    'au': 'золота',\n",
    "    'ag': 'серебра',\n",
    "    'pb': 'свинца'\n",
    "    }\n",
    "    for metal in metals:\n",
    "        plt.figure(figsize=(16,10), dpi= 80)\n",
    "        sns.kdeplot(df[col1 + metal], shade=True, color=\"g\", label=\"начальная\", alpha=.7)\n",
    "        sns.kdeplot(df[col2 + metal], shade=True, color=\"deeppink\", label=\"после флотации\", alpha=.7)\n",
    "        sns.kdeplot(df[col3 + metal], shade=True, color=\"dodgerblue\", label=\"после первичной отчистки\", alpha=.7)\n",
    "        sns.kdeplot(df[col4 + metal], shade=True, color=\"orange\", label=\"финальная\", alpha=.7)\n",
    "\n",
    "        plt.title('Концентрация ' + names[metal] + ' на этапах отчистки', fontsize=22)\n",
    "        plt.legend()\n",
    "        plt.show()"
   ]
  },
  {
   "cell_type": "code",
   "execution_count": 29,
   "metadata": {},
   "outputs": [
    {
     "data": {
      "image/png": "[encoded data removed]",
      "text/plain": [
       "<Figure size 1280x800 with 1 Axes>"
      ]
     },
     "metadata": {
      "needs_background": "light"
     },
     "output_type": "display_data"
    },
    {
     "data": {
      "image/png": "[encoded data removed]",
      "text/plain": [
       "<Figure size 1280x800 with 1 Axes>"
      ]
     },
     "metadata": {
      "needs_background": "light"
     },
     "output_type": "display_data"
    },
    {
     "data": {
      "image/png": "[encoded data removed]",
      "text/plain": [
       "<Figure size 1280x800 with 1 Axes>"
      ]
     },
     "metadata": {
      "needs_background": "light"
     },
     "output_type": "display_data"
    }
   ],
   "source": [
    "concentration(full_data, 'rougher.input.feed_', 'rougher.output.concentrate_',\n",
    "              'primary_cleaner.output.concentrate_', 'final.output.concentrate_')"
   ]
  },
  {
   "cell_type": "markdown",
   "metadata": {},
   "source": [
    "Вывод:\n",
    "\n",
    "Из графиков видно, что после флотации повышается концентрация всех металлов. На этапе первичной фильтрации повышается концентарация тяжелых металлов (золота и свинца). На финальной отчистке мы видим, как золото отделяется от свинца."
   ]
  },
  {
   "cell_type": "markdown",
   "metadata": {},
   "source": [
    "### Сравнение распределения размеров гранул сырья на обучающей и тестовой выборках"
   ]
  },
  {
   "cell_type": "code",
   "execution_count": 30,
   "metadata": {},
   "outputs": [],
   "source": [
    "def size(col1, col2):\n",
    "    plt.figure(figsize=(10,8), dpi= 100)\n",
    "    sns.distplot(col1, color=\"dodgerblue\", label=\"Train\", hist_kws={'alpha':.7}, kde_kws={'linewidth':3})\n",
    "    sns.distplot(col2, color=\"orange\", label=\"Test\", hist_kws={'alpha':.4}, kde_kws={'linewidth':3})\n",
    "    plt.ylim(0, 0.055)\n",
    "\n",
    "    plt.title('Размеры гранул сырья', fontsize=22)\n",
    "    plt.legend()\n",
    "    plt.show()"
   ]
  },
  {
   "cell_type": "markdown",
   "metadata": {},
   "source": [
    "Как видно из графиков, концентрация золота после всех этапов очистки возврастает, чего не скажешь про другие металлы."
   ]
  },
  {
   "cell_type": "code",
   "execution_count": 31,
   "metadata": {},
   "outputs": [],
   "source": [
    "def size(col1, col2):\n",
    "    plt.figure(figsize=(10,8), dpi= 100)\n",
    "    sns.distplot(col1, color=\"dodgerblue\", label=\"Train\", hist_kws={'alpha':.7}, kde_kws={'linewidth':3})\n",
    "    sns.distplot(col2, color=\"orange\", label=\"Test\", hist_kws={'alpha':.4}, kde_kws={'linewidth':3})\n",
    "    plt.ylim(0, 0.055)\n",
    "\n",
    "    plt.title('Размеры гранул сырья', fontsize=10)\n",
    "    plt.legend()\n",
    "    plt.show()"
   ]
  },
  {
   "cell_type": "code",
   "execution_count": 32,
   "metadata": {
    "scrolled": true
   },
   "outputs": [
    {
     "name": "stdout",
     "output_type": "stream",
     "text": [
      "(14149, 55)\n",
      "(5290, 55)\n"
     ]
    }
   ],
   "source": [
    "print(train.shape)\n",
    "print(test.shape)"
   ]
  },
  {
   "cell_type": "code",
   "execution_count": 33,
   "metadata": {},
   "outputs": [
    {
     "name": "stderr",
     "output_type": "stream",
     "text": [
      "/opt/conda/lib/python3.9/site-packages/seaborn/distributions.py:2557: FutureWarning: `distplot` is a deprecated function and will be removed in a future version. Please adapt your code to use either `displot` (a figure-level function with similar flexibility) or `histplot` (an axes-level function for histograms).\n",
      "  warnings.warn(msg, FutureWarning)\n",
      "/opt/conda/lib/python3.9/site-packages/seaborn/distributions.py:2557: FutureWarning: `distplot` is a deprecated function and will be removed in a future version. Please adapt your code to use either `displot` (a figure-level function with similar flexibility) or `histplot` (an axes-level function for histograms).\n",
      "  warnings.warn(msg, FutureWarning)\n"
     ]
    },
    {
     "data": {
      "image/png": "[encoded data removed]",
      "text/plain": [
       "<Figure size 1000x800 with 1 Axes>"
      ]
     },
     "metadata": {
      "needs_background": "light"
     },
     "output_type": "display_data"
    }
   ],
   "source": [
    "size(train['rougher.input.feed_size'],\n",
    "     test['rougher.input.feed_size'].dropna())"
   ]
  },
  {
   "cell_type": "code",
   "execution_count": 34,
   "metadata": {
    "scrolled": true
   },
   "outputs": [
    {
     "name": "stdout",
     "output_type": "stream",
     "text": [
      "(14149, 55)\n",
      "(5290, 55)\n"
     ]
    }
   ],
   "source": [
    "print(train.shape)\n",
    "print(test.shape)"
   ]
  },
  {
   "cell_type": "markdown",
   "metadata": {},
   "source": [
    "Вывод:\n",
    "\n",
    "Исходя из графика видно, что распределяния одинаковы, значит размеры гранул на тестовой и обучающей выборке практически не отличаются"
   ]
  },
  {
   "cell_type": "code",
   "execution_count": 35,
   "metadata": {},
   "outputs": [
    {
     "data": {
      "text/plain": [
       "(14149, 55)"
      ]
     },
     "execution_count": 35,
     "metadata": {},
     "output_type": "execute_result"
    }
   ],
   "source": [
    "train.shape"
   ]
  },
  {
   "cell_type": "code",
   "execution_count": 36,
   "metadata": {
    "scrolled": true
   },
   "outputs": [
    {
     "name": "stdout",
     "output_type": "stream",
     "text": [
      "(14149, 55)\n",
      "(5290, 55)\n"
     ]
    }
   ],
   "source": [
    "print(train.shape)\n",
    "print(test.shape)"
   ]
  },
  {
   "cell_type": "code",
   "execution_count": 37,
   "metadata": {},
   "outputs": [
    {
     "name": "stdout",
     "output_type": "stream",
     "text": [
      "<class 'pandas.core.frame.DataFrame'>\n",
      "RangeIndex: 19439 entries, 0 to 19438\n",
      "Data columns (total 87 columns):\n",
      " #   Column                                              Non-Null Count  Dtype  \n",
      "---  ------                                              --------------  -----  \n",
      " 0   date                                                19439 non-null  object \n",
      " 1   final.output.concentrate_ag                         19438 non-null  float64\n",
      " 2   final.output.concentrate_pb                         19438 non-null  float64\n",
      " 3   final.output.concentrate_sol                        19228 non-null  float64\n",
      " 4   final.output.concentrate_au                         19439 non-null  float64\n",
      " 5   final.output.recovery                               19439 non-null  float64\n",
      " 6   final.output.tail_ag                                19438 non-null  float64\n",
      " 7   final.output.tail_pb                                19338 non-null  float64\n",
      " 8   final.output.tail_sol                               19433 non-null  float64\n",
      " 9   final.output.tail_au                                19439 non-null  float64\n",
      " 10  primary_cleaner.input.sulfate                       19415 non-null  float64\n",
      " 11  primary_cleaner.input.depressant                    19402 non-null  float64\n",
      " 12  primary_cleaner.input.feed_size                     19439 non-null  float64\n",
      " 13  primary_cleaner.input.xanthate                      19335 non-null  float64\n",
      " 14  primary_cleaner.output.concentrate_ag               19439 non-null  float64\n",
      " 15  primary_cleaner.output.concentrate_pb               19323 non-null  float64\n",
      " 16  primary_cleaner.output.concentrate_sol              19069 non-null  float64\n",
      " 17  primary_cleaner.output.concentrate_au               19439 non-null  float64\n",
      " 18  primary_cleaner.output.tail_ag                      19435 non-null  float64\n",
      " 19  primary_cleaner.output.tail_pb                      19418 non-null  float64\n",
      " 20  primary_cleaner.output.tail_sol                     19377 non-null  float64\n",
      " 21  primary_cleaner.output.tail_au                      19439 non-null  float64\n",
      " 22  primary_cleaner.state.floatbank8_a_air              19435 non-null  float64\n",
      " 23  primary_cleaner.state.floatbank8_a_level            19438 non-null  float64\n",
      " 24  primary_cleaner.state.floatbank8_b_air              19435 non-null  float64\n",
      " 25  primary_cleaner.state.floatbank8_b_level            19438 non-null  float64\n",
      " 26  primary_cleaner.state.floatbank8_c_air              19437 non-null  float64\n",
      " 27  primary_cleaner.state.floatbank8_c_level            19438 non-null  float64\n",
      " 28  primary_cleaner.state.floatbank8_d_air              19436 non-null  float64\n",
      " 29  primary_cleaner.state.floatbank8_d_level            19438 non-null  float64\n",
      " 30  rougher.calculation.sulfate_to_au_concentrate       19437 non-null  float64\n",
      " 31  rougher.calculation.floatbank10_sulfate_to_au_feed  19437 non-null  float64\n",
      " 32  rougher.calculation.floatbank11_sulfate_to_au_feed  19437 non-null  float64\n",
      " 33  rougher.calculation.au_pb_ratio                     19439 non-null  float64\n",
      " 34  rougher.input.feed_ag                               19439 non-null  float64\n",
      " 35  rougher.input.feed_pb                               19339 non-null  float64\n",
      " 36  rougher.input.feed_rate                             19428 non-null  float64\n",
      " 37  rougher.input.feed_size                             19294 non-null  float64\n",
      " 38  rougher.input.feed_sol                              19340 non-null  float64\n",
      " 39  rougher.input.feed_au                               19439 non-null  float64\n",
      " 40  rougher.input.floatbank10_sulfate                   19405 non-null  float64\n",
      " 41  rougher.input.floatbank10_xanthate                  19431 non-null  float64\n",
      " 42  rougher.input.floatbank11_sulfate                   19395 non-null  float64\n",
      " 43  rougher.input.floatbank11_xanthate                  18986 non-null  float64\n",
      " 44  rougher.output.concentrate_ag                       19439 non-null  float64\n",
      " 45  rougher.output.concentrate_pb                       19439 non-null  float64\n",
      " 46  rougher.output.concentrate_sol                      19416 non-null  float64\n",
      " 47  rougher.output.concentrate_au                       19439 non-null  float64\n",
      " 48  rougher.output.recovery                             19439 non-null  float64\n",
      " 49  rougher.output.tail_ag                              19438 non-null  float64\n",
      " 50  rougher.output.tail_pb                              19439 non-null  float64\n",
      " 51  rougher.output.tail_sol                             19439 non-null  float64\n",
      " 52  rougher.output.tail_au                              19439 non-null  float64\n",
      " 53  rougher.state.floatbank10_a_air                     19438 non-null  float64\n",
      " 54  rougher.state.floatbank10_a_level                   19438 non-null  float64\n",
      " 55  rougher.state.floatbank10_b_air                     19438 non-null  float64\n",
      " 56  rougher.state.floatbank10_b_level                   19438 non-null  float64\n",
      " 57  rougher.state.floatbank10_c_air                     19438 non-null  float64\n",
      " 58  rougher.state.floatbank10_c_level                   19438 non-null  float64\n",
      " 59  rougher.state.floatbank10_d_air                     19439 non-null  float64\n",
      " 60  rougher.state.floatbank10_d_level                   19439 non-null  float64\n",
      " 61  rougher.state.floatbank10_e_air                     19003 non-null  float64\n",
      " 62  rougher.state.floatbank10_e_level                   19439 non-null  float64\n",
      " 63  rougher.state.floatbank10_f_air                     19439 non-null  float64\n",
      " 64  rougher.state.floatbank10_f_level                   19439 non-null  float64\n",
      " 65  secondary_cleaner.output.tail_ag                    19437 non-null  float64\n",
      " 66  secondary_cleaner.output.tail_pb                    19427 non-null  float64\n",
      " 67  secondary_cleaner.output.tail_sol                   17691 non-null  float64\n",
      " 68  secondary_cleaner.output.tail_au                    19439 non-null  float64\n",
      " 69  secondary_cleaner.state.floatbank2_a_air            19219 non-null  float64\n",
      " 70  secondary_cleaner.state.floatbank2_a_level          19438 non-null  float64\n",
      " 71  secondary_cleaner.state.floatbank2_b_air            19416 non-null  float64\n",
      " 72  secondary_cleaner.state.floatbank2_b_level          19438 non-null  float64\n",
      " 73  secondary_cleaner.state.floatbank3_a_air            19426 non-null  float64\n",
      " 74  secondary_cleaner.state.floatbank3_a_level          19438 non-null  float64\n",
      " 75  secondary_cleaner.state.floatbank3_b_air            19438 non-null  float64\n",
      " 76  secondary_cleaner.state.floatbank3_b_level          19438 non-null  float64\n",
      " 77  secondary_cleaner.state.floatbank4_a_air            19433 non-null  float64\n",
      " 78  secondary_cleaner.state.floatbank4_a_level          19438 non-null  float64\n",
      " 79  secondary_cleaner.state.floatbank4_b_air            19438 non-null  float64\n",
      " 80  secondary_cleaner.state.floatbank4_b_level          19438 non-null  float64\n",
      " 81  secondary_cleaner.state.floatbank5_a_air            19438 non-null  float64\n",
      " 82  secondary_cleaner.state.floatbank5_a_level          19438 non-null  float64\n",
      " 83  secondary_cleaner.state.floatbank5_b_air            19438 non-null  float64\n",
      " 84  secondary_cleaner.state.floatbank5_b_level          19438 non-null  float64\n",
      " 85  secondary_cleaner.state.floatbank6_a_air            19437 non-null  float64\n",
      " 86  secondary_cleaner.state.floatbank6_a_level          19438 non-null  float64\n",
      "dtypes: float64(86), object(1)\n",
      "memory usage: 12.9+ MB\n"
     ]
    },
    {
     "data": {
      "text/plain": [
       "None"
      ]
     },
     "metadata": {},
     "output_type": "display_data"
    }
   ],
   "source": [
    "display(full_data.info())"
   ]
  },
  {
   "cell_type": "markdown",
   "metadata": {},
   "source": [
    "### Исследуем суммарную концентрацию всех веществ на разных стадиях: в сырье, в черновом и финальном концентратах"
   ]
  },
  {
   "cell_type": "code",
   "execution_count": 38,
   "metadata": {},
   "outputs": [
    {
     "name": "stderr",
     "output_type": "stream",
     "text": [
      "/opt/conda/lib/python3.9/site-packages/seaborn/distributions.py:2557: FutureWarning: `distplot` is a deprecated function and will be removed in a future version. Please adapt your code to use either `displot` (a figure-level function with similar flexibility) or `histplot` (an axes-level function for histograms).\n",
      "  warnings.warn(msg, FutureWarning)\n",
      "/opt/conda/lib/python3.9/site-packages/seaborn/distributions.py:2557: FutureWarning: `distplot` is a deprecated function and will be removed in a future version. Please adapt your code to use either `displot` (a figure-level function with similar flexibility) or `histplot` (an axes-level function for histograms).\n",
      "  warnings.warn(msg, FutureWarning)\n",
      "/opt/conda/lib/python3.9/site-packages/seaborn/distributions.py:2557: FutureWarning: `distplot` is a deprecated function and will be removed in a future version. Please adapt your code to use either `displot` (a figure-level function with similar flexibility) or `histplot` (an axes-level function for histograms).\n",
      "  warnings.warn(msg, FutureWarning)\n"
     ]
    },
    {
     "data": {
      "image/png": "[encoded data removed]",
      "text/plain": [
       "<Figure size 1440x720 with 3 Axes>"
      ]
     },
     "metadata": {
      "needs_background": "light"
     },
     "output_type": "display_data"
    }
   ],
   "source": [
    "concentration_stages = [('rougher.input.feed_', 'в сырье'),\n",
    "                        ('rougher.output.concentrate_', 'в черновом концентрате'), \n",
    "                        ('final.output.concentrate_', 'в финальном концентрате')]\n",
    "\n",
    "\n",
    "fig, axs = plt.subplots(1, len(concentration_stages), figsize=(20, 10))\n",
    "fig.suptitle('Суммарная концентрация всех веществ на разных стадиях', fontsize=25)\n",
    "\n",
    "\n",
    "for stage, ax in zip(concentration_stages, axs):\n",
    "    ax.set_title(stage[1])\n",
    "    full_sum =  full_data[stage[0]+ 'ag'] + full_data[stage[0]+ 'au'] + full_data[stage[0]+ 'pb'] + full_data[stage[0]+ 'sol']\n",
    "\n",
    "    sns.distplot(full_sum, ax=ax)   \n",
    "\n",
    "plt.show()\n"
   ]
  },
  {
   "cell_type": "markdown",
   "metadata": {},
   "source": [
    "Суммарная концентрация всех веществ к финальной стадии уменьшается."
   ]
  },
  {
   "cell_type": "code",
   "execution_count": 39,
   "metadata": {
    "collapsed": true
   },
   "outputs": [
    {
     "name": "stdout",
     "output_type": "stream",
     "text": [
      "<class 'pandas.core.frame.DataFrame'>\n",
      "RangeIndex: 14149 entries, 0 to 14148\n",
      "Data columns (total 55 columns):\n",
      " #   Column                                      Non-Null Count  Dtype  \n",
      "---  ------                                      --------------  -----  \n",
      " 0   date                                        14149 non-null  object \n",
      " 1   final.output.recovery                       14149 non-null  float64\n",
      " 2   primary_cleaner.input.sulfate               14129 non-null  float64\n",
      " 3   primary_cleaner.input.depressant            14117 non-null  float64\n",
      " 4   primary_cleaner.input.feed_size             14149 non-null  float64\n",
      " 5   primary_cleaner.input.xanthate              14049 non-null  float64\n",
      " 6   primary_cleaner.state.floatbank8_a_air      14145 non-null  float64\n",
      " 7   primary_cleaner.state.floatbank8_a_level    14148 non-null  float64\n",
      " 8   primary_cleaner.state.floatbank8_b_air      14145 non-null  float64\n",
      " 9   primary_cleaner.state.floatbank8_b_level    14148 non-null  float64\n",
      " 10  primary_cleaner.state.floatbank8_c_air      14147 non-null  float64\n",
      " 11  primary_cleaner.state.floatbank8_c_level    14148 non-null  float64\n",
      " 12  primary_cleaner.state.floatbank8_d_air      14146 non-null  float64\n",
      " 13  primary_cleaner.state.floatbank8_d_level    14148 non-null  float64\n",
      " 14  rougher.input.feed_ag                       14149 non-null  float64\n",
      " 15  rougher.input.feed_pb                       14049 non-null  float64\n",
      " 16  rougher.input.feed_rate                     14141 non-null  float64\n",
      " 17  rougher.input.feed_size                     14005 non-null  float64\n",
      " 18  rougher.input.feed_sol                      14071 non-null  float64\n",
      " 19  rougher.input.feed_au                       14149 non-null  float64\n",
      " 20  rougher.input.floatbank10_sulfate           14120 non-null  float64\n",
      " 21  rougher.input.floatbank10_xanthate          14141 non-null  float64\n",
      " 22  rougher.input.floatbank11_sulfate           14113 non-null  float64\n",
      " 23  rougher.input.floatbank11_xanthate          13721 non-null  float64\n",
      " 24  rougher.output.recovery                     14149 non-null  float64\n",
      " 25  rougher.state.floatbank10_a_air             14148 non-null  float64\n",
      " 26  rougher.state.floatbank10_a_level           14148 non-null  float64\n",
      " 27  rougher.state.floatbank10_b_air             14148 non-null  float64\n",
      " 28  rougher.state.floatbank10_b_level           14148 non-null  float64\n",
      " 29  rougher.state.floatbank10_c_air             14148 non-null  float64\n",
      " 30  rougher.state.floatbank10_c_level           14148 non-null  float64\n",
      " 31  rougher.state.floatbank10_d_air             14149 non-null  float64\n",
      " 32  rougher.state.floatbank10_d_level           14149 non-null  float64\n",
      " 33  rougher.state.floatbank10_e_air             13713 non-null  float64\n",
      " 34  rougher.state.floatbank10_e_level           14149 non-null  float64\n",
      " 35  rougher.state.floatbank10_f_air             14149 non-null  float64\n",
      " 36  rougher.state.floatbank10_f_level           14149 non-null  float64\n",
      " 37  secondary_cleaner.state.floatbank2_a_air    13932 non-null  float64\n",
      " 38  secondary_cleaner.state.floatbank2_a_level  14148 non-null  float64\n",
      " 39  secondary_cleaner.state.floatbank2_b_air    14128 non-null  float64\n",
      " 40  secondary_cleaner.state.floatbank2_b_level  14148 non-null  float64\n",
      " 41  secondary_cleaner.state.floatbank3_a_air    14145 non-null  float64\n",
      " 42  secondary_cleaner.state.floatbank3_a_level  14148 non-null  float64\n",
      " 43  secondary_cleaner.state.floatbank3_b_air    14148 non-null  float64\n",
      " 44  secondary_cleaner.state.floatbank3_b_level  14148 non-null  float64\n",
      " 45  secondary_cleaner.state.floatbank4_a_air    14143 non-null  float64\n",
      " 46  secondary_cleaner.state.floatbank4_a_level  14148 non-null  float64\n",
      " 47  secondary_cleaner.state.floatbank4_b_air    14148 non-null  float64\n",
      " 48  secondary_cleaner.state.floatbank4_b_level  14148 non-null  float64\n",
      " 49  secondary_cleaner.state.floatbank5_a_air    14148 non-null  float64\n",
      " 50  secondary_cleaner.state.floatbank5_a_level  14148 non-null  float64\n",
      " 51  secondary_cleaner.state.floatbank5_b_air    14148 non-null  float64\n",
      " 52  secondary_cleaner.state.floatbank5_b_level  14148 non-null  float64\n",
      " 53  secondary_cleaner.state.floatbank6_a_air    14147 non-null  float64\n",
      " 54  secondary_cleaner.state.floatbank6_a_level  14148 non-null  float64\n",
      "dtypes: float64(54), object(1)\n",
      "memory usage: 5.9+ MB\n"
     ]
    },
    {
     "data": {
      "text/plain": [
       "'удалено 1.26% строк'"
      ]
     },
     "metadata": {},
     "output_type": "display_data"
    }
   ],
   "source": [
    "#Удаляю аномалии из обучающих данных\n",
    "\n",
    "train.info()\n",
    "before = train.shape[0]\n",
    "train['rougher_input_feed_all_metal']=train['rougher.input.feed_ag'] + train['rougher.input.feed_pb']+train['rougher.input.feed_sol']+train['rougher.input.feed_au']\n",
    "train = train.query('1 < rougher_input_feed_all_metal')\n",
    "after = train.shape[0]\n",
    "display('удалено {:.2%} строк'.format((before-after)/before))"
   ]
  },
  {
   "cell_type": "markdown",
   "metadata": {},
   "source": []
  },
  {
   "cell_type": "code",
   "execution_count": 40,
   "metadata": {
    "scrolled": true
   },
   "outputs": [
    {
     "name": "stderr",
     "output_type": "stream",
     "text": [
      "/opt/conda/lib/python3.9/site-packages/seaborn/distributions.py:2557: FutureWarning: `distplot` is a deprecated function and will be removed in a future version. Please adapt your code to use either `displot` (a figure-level function with similar flexibility) or `histplot` (an axes-level function for histograms).\n",
      "  warnings.warn(msg, FutureWarning)\n",
      "/opt/conda/lib/python3.9/site-packages/seaborn/distributions.py:2557: FutureWarning: `distplot` is a deprecated function and will be removed in a future version. Please adapt your code to use either `displot` (a figure-level function with similar flexibility) or `histplot` (an axes-level function for histograms).\n",
      "  warnings.warn(msg, FutureWarning)\n",
      "/opt/conda/lib/python3.9/site-packages/seaborn/distributions.py:2557: FutureWarning: `distplot` is a deprecated function and will be removed in a future version. Please adapt your code to use either `displot` (a figure-level function with similar flexibility) or `histplot` (an axes-level function for histograms).\n",
      "  warnings.warn(msg, FutureWarning)\n"
     ]
    },
    {
     "data": {
      "image/png": "[encoded data removed]",
      "text/plain": [
       "<Figure size 1440x432 with 3 Axes>"
      ]
     },
     "metadata": {
      "needs_background": "light"
     },
     "output_type": "display_data"
    }
   ],
   "source": [
    "# Удалим аномалии\n",
    "\n",
    "full_sum = full_data.replace(0, np.nan)\n",
    "full_sum = full_data.dropna(how='all', axis=0)\n",
    "ds.clean_dataset(full_sum)\n",
    "\n",
    "#Посмотрим на наш график еще раз без аномалий\n",
    "fig, axs = plt.subplots(1, len(concentration_stages), figsize=(20, 6))\n",
    "fig.suptitle('Суммарная концентрация всех веществ на разных стадиях', fontsize=15)\n",
    "\n",
    "\n",
    "for stage, ax in zip(concentration_stages, axs):\n",
    "    ax.set_title(stage[1])\n",
    "    final =  full_sum[stage[0]+ 'ag'] + full_sum[stage[0]+ 'au'] + full_sum[stage[0]+ 'pb'] + full_sum[stage[0]+ 'sol']\n",
    "    sns.distplot(final.replace(0,np.nan).dropna(), ax=ax) \n",
    "    \n",
    "\n",
    "plt.show()"
   ]
  },
  {
   "cell_type": "code",
   "execution_count": 41,
   "metadata": {},
   "outputs": [
    {
     "data": {
      "text/plain": [
       "(16094, 87)"
      ]
     },
     "execution_count": 41,
     "metadata": {},
     "output_type": "execute_result"
    }
   ],
   "source": [
    "full_sum.shape"
   ]
  },
  {
   "cell_type": "code",
   "execution_count": 42,
   "metadata": {
    "collapsed": true
   },
   "outputs": [
    {
     "name": "stdout",
     "output_type": "stream",
     "text": [
      "<class 'pandas.core.frame.DataFrame'>\n",
      "Int64Index: 13971 entries, 0 to 14148\n",
      "Data columns (total 56 columns):\n",
      " #   Column                                      Non-Null Count  Dtype  \n",
      "---  ------                                      --------------  -----  \n",
      " 0   date                                        13971 non-null  object \n",
      " 1   final.output.recovery                       13971 non-null  float64\n",
      " 2   primary_cleaner.input.sulfate               13964 non-null  float64\n",
      " 3   primary_cleaner.input.depressant            13952 non-null  float64\n",
      " 4   primary_cleaner.input.feed_size             13971 non-null  float64\n",
      " 5   primary_cleaner.input.xanthate              13879 non-null  float64\n",
      " 6   primary_cleaner.state.floatbank8_a_air      13967 non-null  float64\n",
      " 7   primary_cleaner.state.floatbank8_a_level    13970 non-null  float64\n",
      " 8   primary_cleaner.state.floatbank8_b_air      13967 non-null  float64\n",
      " 9   primary_cleaner.state.floatbank8_b_level    13970 non-null  float64\n",
      " 10  primary_cleaner.state.floatbank8_c_air      13969 non-null  float64\n",
      " 11  primary_cleaner.state.floatbank8_c_level    13970 non-null  float64\n",
      " 12  primary_cleaner.state.floatbank8_d_air      13968 non-null  float64\n",
      " 13  primary_cleaner.state.floatbank8_d_level    13970 non-null  float64\n",
      " 14  rougher.input.feed_ag                       13971 non-null  float64\n",
      " 15  rougher.input.feed_pb                       13971 non-null  float64\n",
      " 16  rougher.input.feed_rate                     13965 non-null  float64\n",
      " 17  rougher.input.feed_size                     13828 non-null  float64\n",
      " 18  rougher.input.feed_sol                      13971 non-null  float64\n",
      " 19  rougher.input.feed_au                       13971 non-null  float64\n",
      " 20  rougher.input.floatbank10_sulfate           13955 non-null  float64\n",
      " 21  rougher.input.floatbank10_xanthate          13969 non-null  float64\n",
      " 22  rougher.input.floatbank11_sulfate           13938 non-null  float64\n",
      " 23  rougher.input.floatbank11_xanthate          13565 non-null  float64\n",
      " 24  rougher.output.recovery                     13971 non-null  float64\n",
      " 25  rougher.state.floatbank10_a_air             13970 non-null  float64\n",
      " 26  rougher.state.floatbank10_a_level           13970 non-null  float64\n",
      " 27  rougher.state.floatbank10_b_air             13970 non-null  float64\n",
      " 28  rougher.state.floatbank10_b_level           13970 non-null  float64\n",
      " 29  rougher.state.floatbank10_c_air             13970 non-null  float64\n",
      " 30  rougher.state.floatbank10_c_level           13970 non-null  float64\n",
      " 31  rougher.state.floatbank10_d_air             13971 non-null  float64\n",
      " 32  rougher.state.floatbank10_d_level           13971 non-null  float64\n",
      " 33  rougher.state.floatbank10_e_air             13537 non-null  float64\n",
      " 34  rougher.state.floatbank10_e_level           13971 non-null  float64\n",
      " 35  rougher.state.floatbank10_f_air             13971 non-null  float64\n",
      " 36  rougher.state.floatbank10_f_level           13971 non-null  float64\n",
      " 37  secondary_cleaner.state.floatbank2_a_air    13756 non-null  float64\n",
      " 38  secondary_cleaner.state.floatbank2_a_level  13970 non-null  float64\n",
      " 39  secondary_cleaner.state.floatbank2_b_air    13962 non-null  float64\n",
      " 40  secondary_cleaner.state.floatbank2_b_level  13970 non-null  float64\n",
      " 41  secondary_cleaner.state.floatbank3_a_air    13967 non-null  float64\n",
      " 42  secondary_cleaner.state.floatbank3_a_level  13970 non-null  float64\n",
      " 43  secondary_cleaner.state.floatbank3_b_air    13970 non-null  float64\n",
      " 44  secondary_cleaner.state.floatbank3_b_level  13970 non-null  float64\n",
      " 45  secondary_cleaner.state.floatbank4_a_air    13965 non-null  float64\n",
      " 46  secondary_cleaner.state.floatbank4_a_level  13970 non-null  float64\n",
      " 47  secondary_cleaner.state.floatbank4_b_air    13970 non-null  float64\n",
      " 48  secondary_cleaner.state.floatbank4_b_level  13970 non-null  float64\n",
      " 49  secondary_cleaner.state.floatbank5_a_air    13970 non-null  float64\n",
      " 50  secondary_cleaner.state.floatbank5_a_level  13970 non-null  float64\n",
      " 51  secondary_cleaner.state.floatbank5_b_air    13970 non-null  float64\n",
      " 52  secondary_cleaner.state.floatbank5_b_level  13970 non-null  float64\n",
      " 53  secondary_cleaner.state.floatbank6_a_air    13969 non-null  float64\n",
      " 54  secondary_cleaner.state.floatbank6_a_level  13970 non-null  float64\n",
      " 55  rougher_input_feed_all_metal                13971 non-null  float64\n",
      "dtypes: float64(55), object(1)\n",
      "memory usage: 6.1+ MB\n"
     ]
    },
    {
     "data": {
      "text/plain": [
       "None"
      ]
     },
     "metadata": {},
     "output_type": "display_data"
    }
   ],
   "source": [
    "display(train.info())"
   ]
  },
  {
   "cell_type": "markdown",
   "metadata": {},
   "source": [
    "## Модель"
   ]
  },
  {
   "cell_type": "markdown",
   "metadata": {},
   "source": [
    "### Напишем функцию для вычисления итоговой sMAPE."
   ]
  },
  {
   "cell_type": "code",
   "execution_count": 43,
   "metadata": {},
   "outputs": [],
   "source": [
    "#Исходя из полученной формулы из инструкции напишем функцию метрики качества SMAPE\n",
    "\n",
    "def smape(y_target, y_pred):\n",
    "    return ((1/len(y_target)) * np.sum(2 * np.abs(y_target - y_pred) / (np.abs(y_target) + np.abs(y_pred)))) * 100"
   ]
  },
  {
   "cell_type": "markdown",
   "metadata": {},
   "source": [
    "<font color='blue'><b>Комментарий ревьюера: </b></font> ✔️\\\n",
    "<font color='green'> `smape` расчитана верно.</font>"
   ]
  },
  {
   "cell_type": "code",
   "execution_count": 44,
   "metadata": {},
   "outputs": [
    {
     "data": {
      "text/plain": [
       "(5290, 55)"
      ]
     },
     "execution_count": 44,
     "metadata": {},
     "output_type": "execute_result"
    }
   ],
   "source": [
    "test.shape"
   ]
  },
  {
   "cell_type": "markdown",
   "metadata": {},
   "source": [
    "### Обучим разные модели и оценим их качество кросс-валидацией. Выберем лучшую модель и проверим ее на тестовой выборке. Опишем выводы."
   ]
  },
  {
   "cell_type": "code",
   "execution_count": 45,
   "metadata": {},
   "outputs": [],
   "source": [
    "def preprocessing(df):\n",
    "    before = df.shape[0]\n",
    "    #df = df.dropna(subset=['rougher.output.recovery', 'final.output.recovery'])\n",
    "    df = df.fillna(method='ffill')\n",
    "    after = df.shape[0]\n",
    "    display('удалено {:.2%} строк'.format((before-after)/before))\n",
    "    return df"
   ]
  },
  {
   "cell_type": "markdown",
   "metadata": {},
   "source": [
    "<font color='blue'><b>Комментарий ревьюера: </b></font> ✔️\\\n",
    "<font color='green'> Пропуски заполнены согласно условию задачи!</font>"
   ]
  },
  {
   "cell_type": "code",
   "execution_count": 46,
   "metadata": {
    "scrolled": true
   },
   "outputs": [
    {
     "name": "stdout",
     "output_type": "stream",
     "text": [
      "(13971, 56)\n",
      "(5290, 55)\n"
     ]
    }
   ],
   "source": [
    "print(train.shape)\n",
    "print(test.shape)"
   ]
  },
  {
   "cell_type": "code",
   "execution_count": 47,
   "metadata": {},
   "outputs": [
    {
     "data": {
      "text/plain": [
       "(13971, 56)"
      ]
     },
     "execution_count": 47,
     "metadata": {},
     "output_type": "execute_result"
    }
   ],
   "source": [
    "train.shape\n",
    "#test.shape"
   ]
  },
  {
   "cell_type": "code",
   "execution_count": 48,
   "metadata": {},
   "outputs": [
    {
     "name": "stdout",
     "output_type": "stream",
     "text": [
      "<bound method NDFrame.head of 0       89.993421\n",
      "1       88.089657\n",
      "2       88.412756\n",
      "3       87.360133\n",
      "4       83.236367\n",
      "          ...    \n",
      "5285    95.172585\n",
      "5286    94.575036\n",
      "5287    93.018138\n",
      "5288    92.599042\n",
      "5289    91.177695\n",
      "Name: rougher.output.recovery, Length: 5290, dtype: float64>\n"
     ]
    }
   ],
   "source": [
    "print(test['rougher.output.recovery'].head)"
   ]
  },
  {
   "cell_type": "code",
   "execution_count": 49,
   "metadata": {},
   "outputs": [],
   "source": [
    "def preprocessing_test(df):\n",
    "    before = df.shape[0]\n",
    "    #df = df.merge(full_data[['rougher.output.recovery', 'final.output.recovery']],\n",
    "      #            how = 'left') # добавляем целевые признаки\n",
    "    # удаляем строки с пропусками в целевом признаке, заменяем остальные пропуски соседними значениями\n",
    "    #preprocessing(df) \n",
    "     # добавляем сумму металов на входе( оказалась не плохой фитчей)\n",
    "    df['rougher.output.recovery'] = df['rougher.output.recovery']     \n",
    "    #df['rougher_output_recovery'] = (df['rougher_output_recovery'] + \n",
    "     #                            df['rougher.input.feed_ag'] + \n",
    "     #                            df['rougher.input.feed_pb'])\n",
    "    # удаляем значения около 0, на графике мы видели что там выбросы\n",
    "    df = df.query('1 < rougher.output.recovery')\n",
    "    # убираем выбросы'\n",
    "    rougher_input_feed_all_metal_low = df['rougher.output.recovery'].quantile(.025)\n",
    "    rougher_input_feed_all_metal_up = df['rougher.output.recovery'].quantile(.975)\n",
    "    df = df.query('@rougher_input_feed_all_metal_low <rougher.output.recovery< @rougher_input_feed_all_metal_up')\n",
    "    \n",
    "    \n",
    "    after = df.shape[0]\n",
    "    display('удалено {:.2%} строк'.format((before-after)/before))\n",
    "    return df"
   ]
  },
  {
   "cell_type": "code",
   "execution_count": 50,
   "metadata": {},
   "outputs": [
    {
     "name": "stdout",
     "output_type": "stream",
     "text": [
      "0    89.993421\n",
      "1    88.089657\n",
      "2    88.412756\n",
      "3    87.360133\n",
      "4    83.236367\n",
      "Name: rougher.output.recovery, dtype: float64\n"
     ]
    }
   ],
   "source": [
    "\n",
    "print(test['rougher.output.recovery'].head())\n"
   ]
  },
  {
   "cell_type": "code",
   "execution_count": 51,
   "metadata": {},
   "outputs": [],
   "source": [
    "#def columns_eqwalization(train, test): # удаляем из тренировочной выборки признаки отсутствующие в тестовой\n",
    "train = train[test.columns]\n",
    "    #return train"
   ]
  },
  {
   "cell_type": "code",
   "execution_count": 52,
   "metadata": {
    "scrolled": true
   },
   "outputs": [
    {
     "name": "stdout",
     "output_type": "stream",
     "text": [
      "(13971, 55)\n",
      "(5290, 55)\n"
     ]
    }
   ],
   "source": [
    "\n",
    "print(train.shape)\n",
    "print(test.shape)"
   ]
  },
  {
   "cell_type": "code",
   "execution_count": 53,
   "metadata": {},
   "outputs": [],
   "source": [
    "#test = preprocessing_test(train)"
   ]
  },
  {
   "cell_type": "code",
   "execution_count": 54,
   "metadata": {},
   "outputs": [
    {
     "data": {
      "text/plain": [
       "(13971, 55)"
      ]
     },
     "execution_count": 54,
     "metadata": {},
     "output_type": "execute_result"
    }
   ],
   "source": [
    "train.shape"
   ]
  },
  {
   "cell_type": "code",
   "execution_count": 55,
   "metadata": {},
   "outputs": [
    {
     "data": {
      "text/plain": [
       "(5290, 55)"
      ]
     },
     "execution_count": 55,
     "metadata": {},
     "output_type": "execute_result"
    }
   ],
   "source": [
    "test.shape"
   ]
  },
  {
   "cell_type": "code",
   "execution_count": 56,
   "metadata": {},
   "outputs": [
    {
     "name": "stdout",
     "output_type": "stream",
     "text": [
      "<class 'pandas.core.frame.DataFrame'>\n",
      "Int64Index: 13971 entries, 0 to 14148\n",
      "Data columns (total 55 columns):\n",
      " #   Column                                      Non-Null Count  Dtype  \n",
      "---  ------                                      --------------  -----  \n",
      " 0   date                                        13971 non-null  object \n",
      " 1   primary_cleaner.input.sulfate               13964 non-null  float64\n",
      " 2   primary_cleaner.input.depressant            13952 non-null  float64\n",
      " 3   primary_cleaner.input.feed_size             13971 non-null  float64\n",
      " 4   primary_cleaner.input.xanthate              13879 non-null  float64\n",
      " 5   primary_cleaner.state.floatbank8_a_air      13967 non-null  float64\n",
      " 6   primary_cleaner.state.floatbank8_a_level    13970 non-null  float64\n",
      " 7   primary_cleaner.state.floatbank8_b_air      13967 non-null  float64\n",
      " 8   primary_cleaner.state.floatbank8_b_level    13970 non-null  float64\n",
      " 9   primary_cleaner.state.floatbank8_c_air      13969 non-null  float64\n",
      " 10  primary_cleaner.state.floatbank8_c_level    13970 non-null  float64\n",
      " 11  primary_cleaner.state.floatbank8_d_air      13968 non-null  float64\n",
      " 12  primary_cleaner.state.floatbank8_d_level    13970 non-null  float64\n",
      " 13  rougher.input.feed_ag                       13971 non-null  float64\n",
      " 14  rougher.input.feed_pb                       13971 non-null  float64\n",
      " 15  rougher.input.feed_rate                     13965 non-null  float64\n",
      " 16  rougher.input.feed_size                     13828 non-null  float64\n",
      " 17  rougher.input.feed_sol                      13971 non-null  float64\n",
      " 18  rougher.input.feed_au                       13971 non-null  float64\n",
      " 19  rougher.input.floatbank10_sulfate           13955 non-null  float64\n",
      " 20  rougher.input.floatbank10_xanthate          13969 non-null  float64\n",
      " 21  rougher.input.floatbank11_sulfate           13938 non-null  float64\n",
      " 22  rougher.input.floatbank11_xanthate          13565 non-null  float64\n",
      " 23  rougher.state.floatbank10_a_air             13970 non-null  float64\n",
      " 24  rougher.state.floatbank10_a_level           13970 non-null  float64\n",
      " 25  rougher.state.floatbank10_b_air             13970 non-null  float64\n",
      " 26  rougher.state.floatbank10_b_level           13970 non-null  float64\n",
      " 27  rougher.state.floatbank10_c_air             13970 non-null  float64\n",
      " 28  rougher.state.floatbank10_c_level           13970 non-null  float64\n",
      " 29  rougher.state.floatbank10_d_air             13971 non-null  float64\n",
      " 30  rougher.state.floatbank10_d_level           13971 non-null  float64\n",
      " 31  rougher.state.floatbank10_e_air             13537 non-null  float64\n",
      " 32  rougher.state.floatbank10_e_level           13971 non-null  float64\n",
      " 33  rougher.state.floatbank10_f_air             13971 non-null  float64\n",
      " 34  rougher.state.floatbank10_f_level           13971 non-null  float64\n",
      " 35  secondary_cleaner.state.floatbank2_a_air    13756 non-null  float64\n",
      " 36  secondary_cleaner.state.floatbank2_a_level  13970 non-null  float64\n",
      " 37  secondary_cleaner.state.floatbank2_b_air    13962 non-null  float64\n",
      " 38  secondary_cleaner.state.floatbank2_b_level  13970 non-null  float64\n",
      " 39  secondary_cleaner.state.floatbank3_a_air    13967 non-null  float64\n",
      " 40  secondary_cleaner.state.floatbank3_a_level  13970 non-null  float64\n",
      " 41  secondary_cleaner.state.floatbank3_b_air    13970 non-null  float64\n",
      " 42  secondary_cleaner.state.floatbank3_b_level  13970 non-null  float64\n",
      " 43  secondary_cleaner.state.floatbank4_a_air    13965 non-null  float64\n",
      " 44  secondary_cleaner.state.floatbank4_a_level  13970 non-null  float64\n",
      " 45  secondary_cleaner.state.floatbank4_b_air    13970 non-null  float64\n",
      " 46  secondary_cleaner.state.floatbank4_b_level  13970 non-null  float64\n",
      " 47  secondary_cleaner.state.floatbank5_a_air    13970 non-null  float64\n",
      " 48  secondary_cleaner.state.floatbank5_a_level  13970 non-null  float64\n",
      " 49  secondary_cleaner.state.floatbank5_b_air    13970 non-null  float64\n",
      " 50  secondary_cleaner.state.floatbank5_b_level  13970 non-null  float64\n",
      " 51  secondary_cleaner.state.floatbank6_a_air    13969 non-null  float64\n",
      " 52  secondary_cleaner.state.floatbank6_a_level  13970 non-null  float64\n",
      " 53  final.output.recovery                       13971 non-null  float64\n",
      " 54  rougher.output.recovery                     13971 non-null  float64\n",
      "dtypes: float64(54), object(1)\n",
      "memory usage: 6.0+ MB\n"
     ]
    }
   ],
   "source": [
    "train.info()"
   ]
  },
  {
   "cell_type": "markdown",
   "metadata": {},
   "source": [
    "План работы:\n",
    "\n",
    "Модели которые будем использовать: RandomForestRegressor, LinearRegression,Lasso. \n",
    "Методом Gridsearch переберем параметры, чтобы найти лучшие.\n",
    "Выберем наилучшую модель и протестим ее на тестовой выборке.\n",
    "Метрикой Smape посмотрим на наши результаты."
   ]
  },
  {
   "cell_type": "code",
   "execution_count": 57,
   "metadata": {},
   "outputs": [],
   "source": [
    "#Удалим столбцы date\n",
    "test.drop(['date'], axis=1, inplace=True)\n",
    "train.drop(['date'], axis=1, inplace=True)\n",
    "\n",
    "X_train_rougher = train.drop(['final.output.recovery', 'rougher.output.recovery'], axis = 1)\n",
    "X_test_rougher = test.drop(['final.output.recovery', 'rougher.output.recovery'], axis = 1)\n",
    "\n",
    "y_train_rougher = full_data.loc[X_train_rougher.index, 'rougher.output.recovery']\n",
    "y_test_rougher = full_data.loc[X_test_rougher.index,'rougher.output.recovery']\n",
    "\n",
    "X_train_final = train.drop(['final.output.recovery', 'rougher.output.recovery'], axis = 1)\n",
    "X_test_final = test.drop(['final.output.recovery', 'rougher.output.recovery'], axis = 1)\n",
    "y_train_final = full_data.loc[X_train_final.index, 'final.output.recovery']\n",
    "y_test_final = full_data.loc[X_test_final.index, 'final.output.recovery']"
   ]
  },
  {
   "cell_type": "code",
   "execution_count": 58,
   "metadata": {},
   "outputs": [
    {
     "name": "stdout",
     "output_type": "stream",
     "text": [
      "(13971, 52) (13971, 52)\n",
      "(5290, 52) (5290, 52)\n",
      "(13971,) (13971,)\n",
      "(5290,) (5290,)\n"
     ]
    }
   ],
   "source": [
    "print(X_train_rougher.shape, X_train_final.shape)\n",
    "print(X_test_rougher.shape, X_test_final.shape)\n",
    "print(y_train_rougher.shape, y_train_final.shape)\n",
    "print(y_test_rougher.shape, y_test_final.shape)\n"
   ]
  },
  {
   "cell_type": "code",
   "execution_count": 59,
   "metadata": {
    "scrolled": false
   },
   "outputs": [
    {
     "name": "stdout",
     "output_type": "stream",
     "text": [
      "<class 'pandas.core.frame.DataFrame'>\n",
      "Int64Index: 13971 entries, 0 to 14148\n",
      "Data columns (total 52 columns):\n",
      " #   Column                                      Non-Null Count  Dtype  \n",
      "---  ------                                      --------------  -----  \n",
      " 0   primary_cleaner.input.sulfate               13964 non-null  float64\n",
      " 1   primary_cleaner.input.depressant            13952 non-null  float64\n",
      " 2   primary_cleaner.input.feed_size             13971 non-null  float64\n",
      " 3   primary_cleaner.input.xanthate              13879 non-null  float64\n",
      " 4   primary_cleaner.state.floatbank8_a_air      13967 non-null  float64\n",
      " 5   primary_cleaner.state.floatbank8_a_level    13970 non-null  float64\n",
      " 6   primary_cleaner.state.floatbank8_b_air      13967 non-null  float64\n",
      " 7   primary_cleaner.state.floatbank8_b_level    13970 non-null  float64\n",
      " 8   primary_cleaner.state.floatbank8_c_air      13969 non-null  float64\n",
      " 9   primary_cleaner.state.floatbank8_c_level    13970 non-null  float64\n",
      " 10  primary_cleaner.state.floatbank8_d_air      13968 non-null  float64\n",
      " 11  primary_cleaner.state.floatbank8_d_level    13970 non-null  float64\n",
      " 12  rougher.input.feed_ag                       13971 non-null  float64\n",
      " 13  rougher.input.feed_pb                       13971 non-null  float64\n",
      " 14  rougher.input.feed_rate                     13965 non-null  float64\n",
      " 15  rougher.input.feed_size                     13828 non-null  float64\n",
      " 16  rougher.input.feed_sol                      13971 non-null  float64\n",
      " 17  rougher.input.feed_au                       13971 non-null  float64\n",
      " 18  rougher.input.floatbank10_sulfate           13955 non-null  float64\n",
      " 19  rougher.input.floatbank10_xanthate          13969 non-null  float64\n",
      " 20  rougher.input.floatbank11_sulfate           13938 non-null  float64\n",
      " 21  rougher.input.floatbank11_xanthate          13565 non-null  float64\n",
      " 22  rougher.state.floatbank10_a_air             13970 non-null  float64\n",
      " 23  rougher.state.floatbank10_a_level           13970 non-null  float64\n",
      " 24  rougher.state.floatbank10_b_air             13970 non-null  float64\n",
      " 25  rougher.state.floatbank10_b_level           13970 non-null  float64\n",
      " 26  rougher.state.floatbank10_c_air             13970 non-null  float64\n",
      " 27  rougher.state.floatbank10_c_level           13970 non-null  float64\n",
      " 28  rougher.state.floatbank10_d_air             13971 non-null  float64\n",
      " 29  rougher.state.floatbank10_d_level           13971 non-null  float64\n",
      " 30  rougher.state.floatbank10_e_air             13537 non-null  float64\n",
      " 31  rougher.state.floatbank10_e_level           13971 non-null  float64\n",
      " 32  rougher.state.floatbank10_f_air             13971 non-null  float64\n",
      " 33  rougher.state.floatbank10_f_level           13971 non-null  float64\n",
      " 34  secondary_cleaner.state.floatbank2_a_air    13756 non-null  float64\n",
      " 35  secondary_cleaner.state.floatbank2_a_level  13970 non-null  float64\n",
      " 36  secondary_cleaner.state.floatbank2_b_air    13962 non-null  float64\n",
      " 37  secondary_cleaner.state.floatbank2_b_level  13970 non-null  float64\n",
      " 38  secondary_cleaner.state.floatbank3_a_air    13967 non-null  float64\n",
      " 39  secondary_cleaner.state.floatbank3_a_level  13970 non-null  float64\n",
      " 40  secondary_cleaner.state.floatbank3_b_air    13970 non-null  float64\n",
      " 41  secondary_cleaner.state.floatbank3_b_level  13970 non-null  float64\n",
      " 42  secondary_cleaner.state.floatbank4_a_air    13965 non-null  float64\n",
      " 43  secondary_cleaner.state.floatbank4_a_level  13970 non-null  float64\n",
      " 44  secondary_cleaner.state.floatbank4_b_air    13970 non-null  float64\n",
      " 45  secondary_cleaner.state.floatbank4_b_level  13970 non-null  float64\n",
      " 46  secondary_cleaner.state.floatbank5_a_air    13970 non-null  float64\n",
      " 47  secondary_cleaner.state.floatbank5_a_level  13970 non-null  float64\n",
      " 48  secondary_cleaner.state.floatbank5_b_air    13970 non-null  float64\n",
      " 49  secondary_cleaner.state.floatbank5_b_level  13970 non-null  float64\n",
      " 50  secondary_cleaner.state.floatbank6_a_air    13969 non-null  float64\n",
      " 51  secondary_cleaner.state.floatbank6_a_level  13970 non-null  float64\n",
      "dtypes: float64(52)\n",
      "memory usage: 5.6 MB\n",
      "None\n"
     ]
    }
   ],
   "source": [
    "print(X_train_rougher.info())"
   ]
  },
  {
   "cell_type": "code",
   "execution_count": 60,
   "metadata": {},
   "outputs": [],
   "source": [
    "# Будем использовать три модели, напишем какие параметры нужно будет подобрать для GridSearchCV\n",
    "\n",
    "from numpy.random import RandomState\n",
    "state = RandomState(12345)\n",
    "\n",
    "pipe = Pipeline([\n",
    "    ('imp', SimpleImputer(missing_values=np.nan)),\n",
    "    ('scaler', StandardScaler()),\n",
    "    ('model', RandomForestRegressor(n_estimators=100, random_state=state))\n",
    "])\n",
    "\n",
    "params = [\n",
    "    {\n",
    "        'imp__strategy': ['mean', 'median'],\n",
    "        'model': [RandomForestRegressor(n_estimators=10, random_state=state)],\n",
    "        'model__max_features': np.linspace(0.1, 1, 10)\n",
    "    }, {\n",
    "        'imp__strategy': ['mean', 'median'],\n",
    "        'model': [LinearRegression()]\n",
    "    }\n",
    "    , {\n",
    "        'imp__strategy': ['mean', 'median'],\n",
    "        'model': [Lasso(random_state=state)],\n",
    "        'model__alpha': np.logspace(-3, 1, 10)\n",
    "    }\n",
    "]"
   ]
  },
  {
   "cell_type": "code",
   "execution_count": 61,
   "metadata": {},
   "outputs": [
    {
     "data": {
      "text/plain": [
       "False    13971\n",
       "Name: rougher.output.recovery, dtype: int64"
      ]
     },
     "execution_count": 61,
     "metadata": {},
     "output_type": "execute_result"
    }
   ],
   "source": [
    "y_train_final = y_train_final.fillna(y_train_final.mean())\n",
    "y_train_rougher = y_train_rougher.fillna(y_train_rougher.mean())\n",
    "train['rougher.output.recovery'].isnull().value_counts()"
   ]
  },
  {
   "cell_type": "code",
   "execution_count": 62,
   "metadata": {},
   "outputs": [],
   "source": [
    "#Метрику smape подготовим для scoring'a GridSearchCV\n",
    "from sklearn.metrics import make_scorer, mean_squared_error\n",
    "smape_score = make_scorer(smape, greater_is_better=False)"
   ]
  },
  {
   "cell_type": "code",
   "execution_count": 63,
   "metadata": {},
   "outputs": [],
   "source": [
    "# Проведем кросс валидацию с помощью kFold и разделим на 5 частей\n",
    "cv = KFold(n_splits=5, shuffle=False)\n",
    "grid_rougher = GridSearchCV(pipe, param_grid=params, cv=cv, n_jobs=-1, scoring=smape_score)"
   ]
  },
  {
   "cell_type": "code",
   "execution_count": 64,
   "metadata": {
    "scrolled": true
   },
   "outputs": [
    {
     "data": {
      "text/plain": [
       "GridSearchCV(cv=KFold(n_splits=5, random_state=None, shuffle=False),\n",
       "             estimator=Pipeline(steps=[('imp', SimpleImputer()),\n",
       "                                       ('scaler', StandardScaler()),\n",
       "                                       ('model',\n",
       "                                        RandomForestRegressor(random_state=RandomState(MT19937) at 0x7F27534BFD40))]),\n",
       "             n_jobs=-1,\n",
       "             param_grid=[{'imp__strategy': ['mean', 'median'],\n",
       "                          'model': [RandomForestRegressor(n_estimators=10,\n",
       "                                                          random_state=Rand...\n",
       "                         {'imp__strategy': ['mean', 'median'],\n",
       "                          'model': [Lasso(alpha=1.2915496650148828,\n",
       "                                          random_state=RandomState(MT19937) at 0x7F27534BFD40)],\n",
       "                          'model__alpha': array([1.00000000e-03, 2.78255940e-03, 7.74263683e-03, 2.15443469e-02,\n",
       "       5.99484250e-02, 1.66810054e-01, 4.64158883e-01, 1.29154967e+00,\n",
       "       3.59381366e+00, 1.00000000e+01])}],\n",
       "             scoring=make_scorer(smape, greater_is_better=False))"
      ]
     },
     "execution_count": 64,
     "metadata": {},
     "output_type": "execute_result"
    }
   ],
   "source": [
    "grid_rougher.fit(X_train_rougher, y_train_rougher)"
   ]
  },
  {
   "cell_type": "code",
   "execution_count": 65,
   "metadata": {},
   "outputs": [
    {
     "name": "stdout",
     "output_type": "stream",
     "text": [
      "Best Params: {'imp__strategy': 'mean', 'model': Lasso(alpha=1.2915496650148828,\n",
      "      random_state=RandomState(MT19937) at 0x7F27534BFD40), 'model__alpha': 1.2915496650148828}\n",
      "Best smape Score: 10.608576371125377\n"
     ]
    }
   ],
   "source": [
    "#Посмотрим наилучшие подобранные параметры\n",
    "print('Best Params:', grid_rougher.best_params_)\n",
    "print('Best smape Score:', -grid_rougher.best_score_)"
   ]
  },
  {
   "cell_type": "code",
   "execution_count": 66,
   "metadata": {},
   "outputs": [],
   "source": [
    "# Поиск лучших параметров для final \n",
    "grid_final = GridSearchCV(pipe, param_grid=params, cv=cv, n_jobs=-1,scoring=smape_score)"
   ]
  },
  {
   "cell_type": "code",
   "execution_count": 67,
   "metadata": {
    "scrolled": true
   },
   "outputs": [
    {
     "name": "stderr",
     "output_type": "stream",
     "text": [
      "/opt/conda/lib/python3.9/site-packages/sklearn/linear_model/_coordinate_descent.py:530: ConvergenceWarning: Objective did not converge. You might want to increase the number of iterations. Duality gap: 2833.296215216047, tolerance: 111.47777256639631\n",
      "  model = cd_fast.enet_coordinate_descent(\n",
      "/opt/conda/lib/python3.9/site-packages/sklearn/linear_model/_coordinate_descent.py:530: ConvergenceWarning: Objective did not converge. You might want to increase the number of iterations. Duality gap: 2703.6354838010157, tolerance: 111.47777256639631\n",
      "  model = cd_fast.enet_coordinate_descent(\n"
     ]
    },
    {
     "data": {
      "text/plain": [
       "GridSearchCV(cv=KFold(n_splits=5, random_state=None, shuffle=False),\n",
       "             estimator=Pipeline(steps=[('imp', SimpleImputer()),\n",
       "                                       ('scaler', StandardScaler()),\n",
       "                                       ('model',\n",
       "                                        RandomForestRegressor(random_state=RandomState(MT19937) at 0x7F27534BFD40))]),\n",
       "             n_jobs=-1,\n",
       "             param_grid=[{'imp__strategy': ['mean', 'median'],\n",
       "                          'model': [RandomForestRegressor(n_estimators=10,\n",
       "                                                          random_state=Rand...\n",
       "                         {'imp__strategy': ['mean', 'median'],\n",
       "                          'model': [Lasso(alpha=1.2915496650148828,\n",
       "                                          random_state=RandomState(MT19937) at 0x7F27534BFD40)],\n",
       "                          'model__alpha': array([1.00000000e-03, 2.78255940e-03, 7.74263683e-03, 2.15443469e-02,\n",
       "       5.99484250e-02, 1.66810054e-01, 4.64158883e-01, 1.29154967e+00,\n",
       "       3.59381366e+00, 1.00000000e+01])}],\n",
       "             scoring=make_scorer(smape, greater_is_better=False))"
      ]
     },
     "execution_count": 67,
     "metadata": {},
     "output_type": "execute_result"
    }
   ],
   "source": [
    "grid_final.fit(X_train_final, y_train_final)"
   ]
  },
  {
   "cell_type": "code",
   "execution_count": 68,
   "metadata": {
    "scrolled": true
   },
   "outputs": [
    {
     "name": "stdout",
     "output_type": "stream",
     "text": [
      "Best Params: {'imp__strategy': 'mean', 'model': Lasso(alpha=1.2915496650148828,\n",
      "      random_state=RandomState(MT19937) at 0x7F27534BFD40), 'model__alpha': 1.2915496650148828}\n",
      "Best smape Score: 10.641897431243786\n"
     ]
    }
   ],
   "source": [
    "#Вывод лучших подобранных параметров для final\n",
    "print('Best Params:', grid_final.best_params_)\n",
    "print('Best smape Score:', -grid_final.best_score_)"
   ]
  },
  {
   "cell_type": "code",
   "execution_count": 69,
   "metadata": {},
   "outputs": [
    {
     "data": {
      "text/plain": [
       "10.632115068491958"
      ]
     },
     "execution_count": 69,
     "metadata": {},
     "output_type": "execute_result"
    }
   ],
   "source": [
    "#Модель с лучшими параметрами для Тестовой выборки Final\n",
    "pipe_final = grid_final.best_estimator_\n",
    "    \n",
    "pipe_final.fit(X_train_final, y_train_final)\n",
    "y_pred_final = pipe_final.predict(X_test_final)\n",
    "\n",
    "smape_final = smape(full_data.loc[X_test_rougher.index, 'final.output.recovery'],y_pred_final)\n",
    "smape_final"
   ]
  },
  {
   "cell_type": "markdown",
   "metadata": {},
   "source": [
    "### Тестирование модели"
   ]
  },
  {
   "cell_type": "code",
   "execution_count": 70,
   "metadata": {},
   "outputs": [
    {
     "data": {
      "text/plain": [
       "11.353453507994248"
      ]
     },
     "execution_count": 70,
     "metadata": {},
     "output_type": "execute_result"
    }
   ],
   "source": [
    "#Модель с лучшими параметрами для Тестовой выборки Rougher\n",
    "pipe_rougher = grid_rougher.best_estimator_\n",
    "\n",
    "pipe_rougher.fit(X_test_rougher, y_test_rougher)\n",
    "y_pred_rougher = pipe_rougher.predict(X_test_rougher)\n",
    "\n",
    "smape_rougher = smape(full_data.loc[X_test_rougher.index,'rougher.output.recovery'], y_pred_rougher)\n",
    "smape_rougher"
   ]
  },
  {
   "cell_type": "code",
   "execution_count": 71,
   "metadata": {},
   "outputs": [
    {
     "name": "stdout",
     "output_type": "stream",
     "text": [
      "(13971, 52)\n",
      "(5290, 52)\n"
     ]
    }
   ],
   "source": [
    "print(X_train_rougher.shape)\n",
    "print(X_test_rougher.shape)\n"
   ]
  },
  {
   "cell_type": "code",
   "execution_count": 72,
   "metadata": {},
   "outputs": [
    {
     "data": {
      "text/plain": [
       "10.632115068491958"
      ]
     },
     "execution_count": 72,
     "metadata": {},
     "output_type": "execute_result"
    }
   ],
   "source": [
    "#Модель с лучшими параметрами для Тестовой выборки Final\n",
    "pipe_final = grid_final.best_estimator_\n",
    "    \n",
    "pipe_final.fit(X_train_final, y_train_final)\n",
    "y_pred_final = pipe_final.predict(X_test_final)\n",
    "\n",
    "smape_final = smape(full_data.loc[X_test_final.index, 'final.output.recovery'],y_pred_final)\n",
    "smape_final"
   ]
  },
  {
   "cell_type": "code",
   "execution_count": 73,
   "metadata": {},
   "outputs": [
    {
     "data": {
      "text/plain": [
       "10.81244967836753"
      ]
     },
     "execution_count": 73,
     "metadata": {},
     "output_type": "execute_result"
    }
   ],
   "source": [
    "#Итоговый Smape \n",
    "final_smape = 0.25*smape_rougher + 0.75*smape_final\n",
    "final_smape"
   ]
  },
  {
   "cell_type": "code",
   "execution_count": 74,
   "metadata": {},
   "outputs": [
    {
     "name": "stdout",
     "output_type": "stream",
     "text": [
      "11.122292860077476\n"
     ]
    }
   ],
   "source": [
    "rougher_median = pd.Series(y_train_rougher.median(), index=y_test_rougher.index)\n",
    "final_median = pd.Series(y_train_final.median(), index=y_test_final.index)\n",
    "\n",
    "total = (smape(y_test_rougher, rougher_median)*0.25) + (smape(y_test_final, final_median)* 0.75)\n",
    "print(total)"
   ]
  },
  {
   "cell_type": "markdown",
   "metadata": {},
   "source": [
    "## Общий вывод"
   ]
  },
  {
   "cell_type": "markdown",
   "metadata": {},
   "source": [
    "Целью настоящего проекта было составление модели для прогнозирования метрики sMAPE - симметричного среднего абсолютного процентного отклонения.\n",
    "\n",
    "В третьем шаге была успешно создана и апробирована модель Lasso, готовая для ввода в экслуатаци.\n",
    "\n",
    "Финальным значением метрики sMAPE на тестовой выборке стал показателе 10.81. что является приемлемым показателем с учетом медианной оценки 11.12.\n",
    "\n",
    "Задачами проекта являлись следующие пункты:\n",
    "\n",
    "Подготовка данных: На данном этапе были обработаны пропущенные значения. \n",
    "\n",
    "Исследовательский анализ данных: Замечены следующие закономерности - концентрация золота на всех этапах обогащения растет, концентрация свинца растет, концетрация серебра падает.\n",
    "Общая концентрация металлов в растворе показывает серьезный рост после флотации, однако на последующей очистке падает.\n",
    "На данном этапе были отброшены, вероятно, аномальные значение концентрации.\n",
    "\n",
    "Построить и обучить модель:\n",
    "Протестировано 3 модели - RandomForestRegressor, LinearRegression,Lasso.\n",
    "\n",
    "На тестовой выборке финальная модель показала значение sMAPE = 10.80.\n"
   ]
  },
  {
   "cell_type": "markdown",
   "metadata": {},
   "source": [
    "- [x]  Jupyter Notebook открыт\n",
    "- [х]  Весь код выполняется без ошибок\n",
    "- [х]  Ячейки с кодом расположены в порядке выполнения\n",
    "- [х]  Выполнен шаг 1: данные подготовлены\n",
    "    - [х]  Проверена формула вычисления эффективности обогащения\n",
    "    - [х]  Проанализированы признаки, недоступные в тестовой выборке\n",
    "    - [х]  Проведена предобработка данных\n",
    "- [х]  Выполнен шаг 2: данные проанализированы\n",
    "    - [х]  Исследовано изменение концентрации элементов на каждом этапе\n",
    "    - [х]  Проанализированы распределения размеров гранул на обучающей и тестовой выборках\n",
    "    - [х]  Исследованы суммарные концентрации\n",
    "- [х]  Выполнен шаг 3: построена модель прогнозирования\n",
    "    - [х]  Написана функция для вычисления итогового *sMAPE*\n",
    "    - [х]  Обучено и проверено несколько моделей\n",
    "    - [х]  Выбрана лучшая модель, её качество проверено на тестовой выборке"
   ]
  }
 ],
 "metadata": {
  "ExecuteTimeLog": [
   {
    "duration": 1595,
    "start_time": "2022-11-05T13:19:03.953Z"
   },
   {
    "duration": 3221,
    "start_time": "2022-11-05T13:21:59.327Z"
   },
   {
    "duration": 19,
    "start_time": "2022-11-05T13:47:45.489Z"
   },
   {
    "duration": 107,
    "start_time": "2022-11-05T13:51:58.052Z"
   },
   {
    "duration": 3,
    "start_time": "2022-11-05T13:52:25.434Z"
   },
   {
    "duration": 27,
    "start_time": "2022-11-05T14:01:00.159Z"
   },
   {
    "duration": 53,
    "start_time": "2022-11-05T14:02:57.640Z"
   },
   {
    "duration": 8,
    "start_time": "2022-11-05T14:08:19.417Z"
   },
   {
    "duration": 43,
    "start_time": "2022-11-05T14:13:25.078Z"
   },
   {
    "duration": 6,
    "start_time": "2022-11-05T14:14:58.991Z"
   },
   {
    "duration": 12,
    "start_time": "2022-11-05T14:15:23.679Z"
   },
   {
    "duration": 7,
    "start_time": "2022-11-05T14:22:41.499Z"
   },
   {
    "duration": 5,
    "start_time": "2022-11-05T14:23:41.766Z"
   },
   {
    "duration": 210,
    "start_time": "2022-11-05T14:27:06.120Z"
   },
   {
    "duration": 108,
    "start_time": "2022-11-05T14:29:13.689Z"
   },
   {
    "duration": 177,
    "start_time": "2022-11-05T14:29:44.251Z"
   },
   {
    "duration": 58,
    "start_time": "2022-11-05T14:30:37.426Z"
   },
   {
    "duration": 752,
    "start_time": "2022-11-05T14:40:44.170Z"
   },
   {
    "duration": 6,
    "start_time": "2022-11-05T14:41:42.162Z"
   },
   {
    "duration": 6,
    "start_time": "2022-11-05T14:43:38.633Z"
   },
   {
    "duration": 15,
    "start_time": "2022-11-05T14:45:13.801Z"
   },
   {
    "duration": 718,
    "start_time": "2022-11-05T14:46:12.277Z"
   },
   {
    "duration": 55,
    "start_time": "2022-11-05T14:54:51.288Z"
   },
   {
    "duration": 0,
    "start_time": "2022-11-05T14:54:51.345Z"
   },
   {
    "duration": 0,
    "start_time": "2022-11-05T14:54:51.346Z"
   },
   {
    "duration": 0,
    "start_time": "2022-11-05T14:54:51.347Z"
   },
   {
    "duration": 0,
    "start_time": "2022-11-05T14:54:51.348Z"
   },
   {
    "duration": 0,
    "start_time": "2022-11-05T14:54:51.350Z"
   },
   {
    "duration": 0,
    "start_time": "2022-11-05T14:54:51.351Z"
   },
   {
    "duration": 41,
    "start_time": "2022-11-05T14:54:51.412Z"
   },
   {
    "duration": 0,
    "start_time": "2022-11-05T14:54:51.454Z"
   },
   {
    "duration": 0,
    "start_time": "2022-11-05T14:54:51.456Z"
   },
   {
    "duration": 0,
    "start_time": "2022-11-05T14:54:51.457Z"
   },
   {
    "duration": 0,
    "start_time": "2022-11-05T14:54:51.458Z"
   },
   {
    "duration": 0,
    "start_time": "2022-11-05T14:54:51.459Z"
   },
   {
    "duration": 0,
    "start_time": "2022-11-05T14:54:51.460Z"
   },
   {
    "duration": 0,
    "start_time": "2022-11-05T14:54:51.461Z"
   },
   {
    "duration": 6,
    "start_time": "2022-11-05T14:54:51.501Z"
   },
   {
    "duration": 1425,
    "start_time": "2022-11-05T14:55:47.095Z"
   },
   {
    "duration": 737,
    "start_time": "2022-11-05T14:55:48.522Z"
   },
   {
    "duration": 70,
    "start_time": "2022-11-05T14:55:49.261Z"
   },
   {
    "duration": 4,
    "start_time": "2022-11-05T14:55:49.334Z"
   },
   {
    "duration": 41,
    "start_time": "2022-11-05T14:55:49.340Z"
   },
   {
    "duration": 0,
    "start_time": "2022-11-05T14:55:49.383Z"
   },
   {
    "duration": 0,
    "start_time": "2022-11-05T14:55:49.384Z"
   },
   {
    "duration": 0,
    "start_time": "2022-11-05T14:55:49.385Z"
   },
   {
    "duration": 0,
    "start_time": "2022-11-05T14:55:49.386Z"
   },
   {
    "duration": 0,
    "start_time": "2022-11-05T14:55:49.387Z"
   },
   {
    "duration": 0,
    "start_time": "2022-11-05T14:55:49.388Z"
   },
   {
    "duration": 0,
    "start_time": "2022-11-05T14:55:49.389Z"
   },
   {
    "duration": 0,
    "start_time": "2022-11-05T14:55:49.390Z"
   },
   {
    "duration": 0,
    "start_time": "2022-11-05T14:55:49.391Z"
   },
   {
    "duration": 0,
    "start_time": "2022-11-05T14:55:49.392Z"
   },
   {
    "duration": 1349,
    "start_time": "2022-11-05T14:56:16.157Z"
   },
   {
    "duration": 733,
    "start_time": "2022-11-05T14:56:17.508Z"
   },
   {
    "duration": 61,
    "start_time": "2022-11-05T14:56:18.243Z"
   },
   {
    "duration": 16,
    "start_time": "2022-11-05T14:56:18.306Z"
   },
   {
    "duration": 25,
    "start_time": "2022-11-05T14:56:18.324Z"
   },
   {
    "duration": 10,
    "start_time": "2022-11-05T14:56:18.350Z"
   },
   {
    "duration": 44,
    "start_time": "2022-11-05T14:56:18.362Z"
   },
   {
    "duration": 0,
    "start_time": "2022-11-05T14:56:18.408Z"
   },
   {
    "duration": 0,
    "start_time": "2022-11-05T14:56:18.410Z"
   },
   {
    "duration": 0,
    "start_time": "2022-11-05T14:56:18.411Z"
   },
   {
    "duration": 0,
    "start_time": "2022-11-05T14:56:18.412Z"
   },
   {
    "duration": 0,
    "start_time": "2022-11-05T14:56:18.413Z"
   },
   {
    "duration": 0,
    "start_time": "2022-11-05T14:56:18.414Z"
   },
   {
    "duration": 0,
    "start_time": "2022-11-05T14:56:18.415Z"
   },
   {
    "duration": 1375,
    "start_time": "2022-11-05T14:56:32.719Z"
   },
   {
    "duration": 695,
    "start_time": "2022-11-05T14:56:34.097Z"
   },
   {
    "duration": 67,
    "start_time": "2022-11-05T14:56:34.793Z"
   },
   {
    "duration": 4,
    "start_time": "2022-11-05T14:56:34.862Z"
   },
   {
    "duration": 43,
    "start_time": "2022-11-05T14:56:34.867Z"
   },
   {
    "duration": 23,
    "start_time": "2022-11-05T14:56:34.912Z"
   },
   {
    "duration": 14,
    "start_time": "2022-11-05T14:56:34.937Z"
   },
   {
    "duration": 33,
    "start_time": "2022-11-05T14:56:34.952Z"
   },
   {
    "duration": 12,
    "start_time": "2022-11-05T14:56:34.987Z"
   },
   {
    "duration": 18,
    "start_time": "2022-11-05T14:56:35.001Z"
   },
   {
    "duration": 195,
    "start_time": "2022-11-05T14:56:35.021Z"
   },
   {
    "duration": 216,
    "start_time": "2022-11-05T14:56:35.221Z"
   },
   {
    "duration": 801,
    "start_time": "2022-11-05T14:56:35.438Z"
   },
   {
    "duration": 824,
    "start_time": "2022-11-05T15:07:12.714Z"
   },
   {
    "duration": 1381,
    "start_time": "2022-11-05T15:07:22.408Z"
   },
   {
    "duration": 646,
    "start_time": "2022-11-05T15:07:23.791Z"
   },
   {
    "duration": 60,
    "start_time": "2022-11-05T15:07:24.439Z"
   },
   {
    "duration": 3,
    "start_time": "2022-11-05T15:07:24.501Z"
   },
   {
    "duration": 8,
    "start_time": "2022-11-05T15:07:24.521Z"
   },
   {
    "duration": 6,
    "start_time": "2022-11-05T15:07:24.530Z"
   },
   {
    "duration": 56,
    "start_time": "2022-11-05T15:07:24.538Z"
   },
   {
    "duration": 24,
    "start_time": "2022-11-05T15:07:24.596Z"
   },
   {
    "duration": 13,
    "start_time": "2022-11-05T15:07:24.622Z"
   },
   {
    "duration": 19,
    "start_time": "2022-11-05T15:07:24.637Z"
   },
   {
    "duration": 6,
    "start_time": "2022-11-05T15:07:24.658Z"
   },
   {
    "duration": 24,
    "start_time": "2022-11-05T15:07:24.666Z"
   },
   {
    "duration": 210,
    "start_time": "2022-11-05T15:07:24.692Z"
   },
   {
    "duration": 212,
    "start_time": "2022-11-05T15:07:24.904Z"
   },
   {
    "duration": 883,
    "start_time": "2022-11-05T15:07:25.120Z"
   },
   {
    "duration": 3,
    "start_time": "2022-11-05T15:14:30.500Z"
   },
   {
    "duration": 649,
    "start_time": "2022-11-05T15:14:30.505Z"
   },
   {
    "duration": 70,
    "start_time": "2022-11-05T15:14:31.156Z"
   },
   {
    "duration": 5,
    "start_time": "2022-11-05T15:14:31.228Z"
   },
   {
    "duration": 7,
    "start_time": "2022-11-05T15:15:29.321Z"
   },
   {
    "duration": 4,
    "start_time": "2022-11-05T15:18:42.883Z"
   },
   {
    "duration": 3,
    "start_time": "2022-11-05T15:20:04.708Z"
   },
   {
    "duration": 200,
    "start_time": "2022-11-05T15:20:27.630Z"
   },
   {
    "duration": 182,
    "start_time": "2022-11-05T15:21:17.181Z"
   },
   {
    "duration": 4,
    "start_time": "2022-11-05T15:23:38.184Z"
   },
   {
    "duration": 3,
    "start_time": "2022-11-05T15:31:18.126Z"
   },
   {
    "duration": 8,
    "start_time": "2022-11-05T15:32:59.295Z"
   },
   {
    "duration": 3,
    "start_time": "2022-11-05T15:33:16.583Z"
   },
   {
    "duration": 4,
    "start_time": "2022-11-05T15:33:33.923Z"
   },
   {
    "duration": 653,
    "start_time": "2022-11-05T15:33:33.929Z"
   },
   {
    "duration": 147,
    "start_time": "2022-11-05T15:33:34.584Z"
   },
   {
    "duration": 3,
    "start_time": "2022-11-05T15:33:34.733Z"
   },
   {
    "duration": 18,
    "start_time": "2022-11-05T15:33:34.738Z"
   },
   {
    "duration": 43,
    "start_time": "2022-11-05T15:33:34.757Z"
   },
   {
    "duration": 0,
    "start_time": "2022-11-05T15:33:34.802Z"
   },
   {
    "duration": 0,
    "start_time": "2022-11-05T15:33:34.803Z"
   },
   {
    "duration": 0,
    "start_time": "2022-11-05T15:33:34.804Z"
   },
   {
    "duration": 0,
    "start_time": "2022-11-05T15:33:34.805Z"
   },
   {
    "duration": 0,
    "start_time": "2022-11-05T15:33:34.806Z"
   },
   {
    "duration": 0,
    "start_time": "2022-11-05T15:33:34.807Z"
   },
   {
    "duration": 0,
    "start_time": "2022-11-05T15:33:34.808Z"
   },
   {
    "duration": 0,
    "start_time": "2022-11-05T15:33:34.809Z"
   },
   {
    "duration": 0,
    "start_time": "2022-11-05T15:33:34.809Z"
   },
   {
    "duration": 0,
    "start_time": "2022-11-05T15:33:34.810Z"
   },
   {
    "duration": 0,
    "start_time": "2022-11-05T15:33:34.812Z"
   },
   {
    "duration": 0,
    "start_time": "2022-11-05T15:33:34.813Z"
   },
   {
    "duration": 0,
    "start_time": "2022-11-05T15:33:34.814Z"
   },
   {
    "duration": 0,
    "start_time": "2022-11-05T15:33:34.815Z"
   },
   {
    "duration": 0,
    "start_time": "2022-11-05T15:33:34.816Z"
   },
   {
    "duration": 0,
    "start_time": "2022-11-05T15:33:34.816Z"
   },
   {
    "duration": 1369,
    "start_time": "2022-11-05T15:34:41.341Z"
   },
   {
    "duration": 700,
    "start_time": "2022-11-05T15:34:42.712Z"
   },
   {
    "duration": 64,
    "start_time": "2022-11-05T15:34:43.414Z"
   },
   {
    "duration": 3,
    "start_time": "2022-11-05T15:34:43.480Z"
   },
   {
    "duration": 19,
    "start_time": "2022-11-05T15:34:43.485Z"
   },
   {
    "duration": 6,
    "start_time": "2022-11-05T15:34:43.506Z"
   },
   {
    "duration": 208,
    "start_time": "2022-11-05T15:34:43.521Z"
   },
   {
    "duration": 203,
    "start_time": "2022-11-05T15:34:43.731Z"
   },
   {
    "duration": 5,
    "start_time": "2022-11-05T15:34:43.936Z"
   },
   {
    "duration": 6,
    "start_time": "2022-11-05T15:34:43.943Z"
   },
   {
    "duration": 28,
    "start_time": "2022-11-05T15:34:43.951Z"
   },
   {
    "duration": 14,
    "start_time": "2022-11-05T15:34:43.982Z"
   },
   {
    "duration": 24,
    "start_time": "2022-11-05T15:34:43.998Z"
   },
   {
    "duration": 13,
    "start_time": "2022-11-05T15:34:44.024Z"
   },
   {
    "duration": 14,
    "start_time": "2022-11-05T15:34:44.038Z"
   },
   {
    "duration": 86,
    "start_time": "2022-11-05T15:34:44.054Z"
   },
   {
    "duration": 212,
    "start_time": "2022-11-05T15:34:44.141Z"
   },
   {
    "duration": 222,
    "start_time": "2022-11-05T15:34:44.354Z"
   },
   {
    "duration": 3,
    "start_time": "2022-11-05T15:34:44.578Z"
   },
   {
    "duration": 42,
    "start_time": "2022-11-05T15:36:31.997Z"
   },
   {
    "duration": 53,
    "start_time": "2022-11-05T15:44:19.396Z"
   },
   {
    "duration": 60,
    "start_time": "2022-11-05T15:44:30.019Z"
   },
   {
    "duration": 6,
    "start_time": "2022-11-05T16:23:12.751Z"
   },
   {
    "duration": 109,
    "start_time": "2022-11-05T16:23:15.309Z"
   },
   {
    "duration": 4,
    "start_time": "2022-11-05T16:23:54.473Z"
   },
   {
    "duration": 667,
    "start_time": "2022-11-05T16:23:54.479Z"
   },
   {
    "duration": 72,
    "start_time": "2022-11-05T16:23:55.148Z"
   },
   {
    "duration": 3,
    "start_time": "2022-11-05T16:23:55.222Z"
   },
   {
    "duration": 12,
    "start_time": "2022-11-05T16:23:55.227Z"
   },
   {
    "duration": 6,
    "start_time": "2022-11-05T16:23:55.240Z"
   },
   {
    "duration": 203,
    "start_time": "2022-11-05T16:23:55.248Z"
   },
   {
    "duration": 195,
    "start_time": "2022-11-05T16:23:55.453Z"
   },
   {
    "duration": 4,
    "start_time": "2022-11-05T16:23:55.650Z"
   },
   {
    "duration": 7,
    "start_time": "2022-11-05T16:23:55.656Z"
   },
   {
    "duration": 28,
    "start_time": "2022-11-05T16:23:55.665Z"
   },
   {
    "duration": 22,
    "start_time": "2022-11-05T16:23:55.695Z"
   },
   {
    "duration": 20,
    "start_time": "2022-11-05T16:23:55.719Z"
   },
   {
    "duration": 14,
    "start_time": "2022-11-05T16:23:55.741Z"
   },
   {
    "duration": 12,
    "start_time": "2022-11-05T16:23:55.756Z"
   },
   {
    "duration": 8,
    "start_time": "2022-11-05T16:23:55.770Z"
   },
   {
    "duration": 186,
    "start_time": "2022-11-05T16:23:55.779Z"
   },
   {
    "duration": 208,
    "start_time": "2022-11-05T16:23:55.967Z"
   },
   {
    "duration": 3,
    "start_time": "2022-11-05T16:23:56.177Z"
   },
   {
    "duration": 6,
    "start_time": "2022-11-05T16:23:56.182Z"
   },
   {
    "duration": 9,
    "start_time": "2022-11-05T16:24:00.957Z"
   },
   {
    "duration": 12,
    "start_time": "2022-11-05T16:25:28.011Z"
   },
   {
    "duration": 3310,
    "start_time": "2022-11-05T16:25:43.806Z"
   },
   {
    "duration": 4,
    "start_time": "2022-11-05T16:28:42.570Z"
   },
   {
    "duration": 4,
    "start_time": "2022-11-05T16:30:31.971Z"
   },
   {
    "duration": 11,
    "start_time": "2022-11-05T16:31:44.099Z"
   },
   {
    "duration": 606,
    "start_time": "2022-11-05T16:32:13.403Z"
   },
   {
    "duration": 4,
    "start_time": "2022-11-05T16:34:36.871Z"
   },
   {
    "duration": 5,
    "start_time": "2022-11-05T16:49:51.817Z"
   },
   {
    "duration": 4,
    "start_time": "2022-11-05T16:49:54.356Z"
   },
   {
    "duration": 10,
    "start_time": "2022-11-05T16:50:18.881Z"
   },
   {
    "duration": 5,
    "start_time": "2022-11-05T16:51:46.667Z"
   },
   {
    "duration": 685,
    "start_time": "2022-11-05T16:51:50.844Z"
   },
   {
    "duration": 6,
    "start_time": "2022-11-05T16:52:36.420Z"
   },
   {
    "duration": 648,
    "start_time": "2022-11-05T16:52:36.428Z"
   },
   {
    "duration": 74,
    "start_time": "2022-11-05T16:52:37.078Z"
   },
   {
    "duration": 3,
    "start_time": "2022-11-05T16:52:37.154Z"
   },
   {
    "duration": 19,
    "start_time": "2022-11-05T16:52:37.159Z"
   },
   {
    "duration": 6,
    "start_time": "2022-11-05T16:52:37.180Z"
   },
   {
    "duration": 212,
    "start_time": "2022-11-05T16:52:37.187Z"
   },
   {
    "duration": 195,
    "start_time": "2022-11-05T16:52:37.401Z"
   },
   {
    "duration": 5,
    "start_time": "2022-11-05T16:52:37.598Z"
   },
   {
    "duration": 256,
    "start_time": "2022-11-05T16:52:37.605Z"
   },
   {
    "duration": 32,
    "start_time": "2022-11-05T16:52:37.864Z"
   },
   {
    "duration": 8,
    "start_time": "2022-11-05T16:52:37.898Z"
   },
   {
    "duration": 15,
    "start_time": "2022-11-05T16:52:37.908Z"
   },
   {
    "duration": 21,
    "start_time": "2022-11-05T16:52:37.925Z"
   },
   {
    "duration": 30,
    "start_time": "2022-11-05T16:52:37.948Z"
   },
   {
    "duration": 11,
    "start_time": "2022-11-05T16:52:37.981Z"
   },
   {
    "duration": 307,
    "start_time": "2022-11-05T16:52:37.994Z"
   },
   {
    "duration": 213,
    "start_time": "2022-11-05T16:52:38.303Z"
   },
   {
    "duration": 4,
    "start_time": "2022-11-05T16:52:38.522Z"
   },
   {
    "duration": 29,
    "start_time": "2022-11-05T16:52:38.527Z"
   },
   {
    "duration": 3439,
    "start_time": "2022-11-05T16:52:38.557Z"
   },
   {
    "duration": 4,
    "start_time": "2022-11-05T16:52:41.998Z"
   },
   {
    "duration": 45,
    "start_time": "2022-11-05T16:52:42.004Z"
   },
   {
    "duration": 0,
    "start_time": "2022-11-05T16:52:42.051Z"
   },
   {
    "duration": 0,
    "start_time": "2022-11-05T16:52:42.052Z"
   },
   {
    "duration": 0,
    "start_time": "2022-11-05T16:52:42.053Z"
   },
   {
    "duration": 0,
    "start_time": "2022-11-05T16:52:42.054Z"
   },
   {
    "duration": 4,
    "start_time": "2022-11-05T16:53:18.148Z"
   },
   {
    "duration": 657,
    "start_time": "2022-11-05T16:53:18.154Z"
   },
   {
    "duration": 73,
    "start_time": "2022-11-05T16:53:18.814Z"
   },
   {
    "duration": 4,
    "start_time": "2022-11-05T16:53:18.890Z"
   },
   {
    "duration": 28,
    "start_time": "2022-11-05T16:53:18.897Z"
   },
   {
    "duration": 41,
    "start_time": "2022-11-05T16:53:18.927Z"
   },
   {
    "duration": 241,
    "start_time": "2022-11-05T16:53:18.970Z"
   },
   {
    "duration": 189,
    "start_time": "2022-11-05T16:53:19.213Z"
   },
   {
    "duration": 4,
    "start_time": "2022-11-05T16:53:19.404Z"
   },
   {
    "duration": 9,
    "start_time": "2022-11-05T16:53:19.421Z"
   },
   {
    "duration": 29,
    "start_time": "2022-11-05T16:53:19.432Z"
   },
   {
    "duration": 8,
    "start_time": "2022-11-05T16:53:19.463Z"
   },
   {
    "duration": 8,
    "start_time": "2022-11-05T16:53:19.472Z"
   },
   {
    "duration": 23,
    "start_time": "2022-11-05T16:53:19.482Z"
   },
   {
    "duration": 13,
    "start_time": "2022-11-05T16:53:19.507Z"
   },
   {
    "duration": 6,
    "start_time": "2022-11-05T16:53:19.522Z"
   },
   {
    "duration": 205,
    "start_time": "2022-11-05T16:53:19.530Z"
   },
   {
    "duration": 212,
    "start_time": "2022-11-05T16:53:19.736Z"
   },
   {
    "duration": 4,
    "start_time": "2022-11-05T16:53:19.950Z"
   },
   {
    "duration": 6,
    "start_time": "2022-11-05T16:53:19.955Z"
   },
   {
    "duration": 3422,
    "start_time": "2022-11-05T16:53:19.962Z"
   },
   {
    "duration": 4,
    "start_time": "2022-11-05T16:53:23.386Z"
   },
   {
    "duration": 16,
    "start_time": "2022-11-05T16:53:23.392Z"
   },
   {
    "duration": 675,
    "start_time": "2022-11-05T16:53:23.409Z"
   },
   {
    "duration": 4,
    "start_time": "2022-11-05T16:53:24.086Z"
   },
   {
    "duration": 11,
    "start_time": "2022-11-05T16:53:24.092Z"
   },
   {
    "duration": 728,
    "start_time": "2022-11-05T16:53:29.753Z"
   },
   {
    "duration": 401,
    "start_time": "2022-11-05T16:59:34.015Z"
   },
   {
    "duration": 1348,
    "start_time": "2022-11-05T17:01:11.207Z"
   },
   {
    "duration": 1285,
    "start_time": "2022-11-05T17:02:30.153Z"
   },
   {
    "duration": 4,
    "start_time": "2022-11-05T17:02:57.001Z"
   },
   {
    "duration": 4,
    "start_time": "2022-11-05T17:03:12.450Z"
   },
   {
    "duration": 4,
    "start_time": "2022-11-05T17:03:26.227Z"
   },
   {
    "duration": 48,
    "start_time": "2022-11-05T17:16:01.679Z"
   },
   {
    "duration": 1397,
    "start_time": "2022-11-05T17:16:44.461Z"
   },
   {
    "duration": 1531,
    "start_time": "2022-11-05T17:17:07.844Z"
   },
   {
    "duration": 3,
    "start_time": "2022-11-05T17:18:55.995Z"
   },
   {
    "duration": 8,
    "start_time": "2022-11-05T17:21:53.349Z"
   },
   {
    "duration": 20,
    "start_time": "2022-11-05T17:26:03.801Z"
   },
   {
    "duration": 25,
    "start_time": "2022-11-05T17:28:53.017Z"
   },
   {
    "duration": 28,
    "start_time": "2022-11-05T17:29:19.174Z"
   },
   {
    "duration": 24,
    "start_time": "2022-11-05T17:30:55.013Z"
   },
   {
    "duration": 21,
    "start_time": "2022-11-05T17:31:32.386Z"
   },
   {
    "duration": 4,
    "start_time": "2022-11-05T17:31:46.006Z"
   },
   {
    "duration": 682,
    "start_time": "2022-11-05T17:31:46.012Z"
   },
   {
    "duration": 62,
    "start_time": "2022-11-05T17:31:46.696Z"
   },
   {
    "duration": 3,
    "start_time": "2022-11-05T17:31:46.760Z"
   },
   {
    "duration": 37,
    "start_time": "2022-11-05T17:31:46.765Z"
   },
   {
    "duration": 32,
    "start_time": "2022-11-05T17:31:46.804Z"
   },
   {
    "duration": 533,
    "start_time": "2022-11-05T17:31:46.838Z"
   },
   {
    "duration": 223,
    "start_time": "2022-11-05T17:31:47.373Z"
   },
   {
    "duration": 5,
    "start_time": "2022-11-05T17:31:47.598Z"
   },
   {
    "duration": 17,
    "start_time": "2022-11-05T17:31:47.605Z"
   },
   {
    "duration": 41,
    "start_time": "2022-11-05T17:31:47.625Z"
   },
   {
    "duration": 17,
    "start_time": "2022-11-05T17:31:47.668Z"
   },
   {
    "duration": 16,
    "start_time": "2022-11-05T17:31:47.687Z"
   },
   {
    "duration": 14,
    "start_time": "2022-11-05T17:31:47.705Z"
   },
   {
    "duration": 15,
    "start_time": "2022-11-05T17:31:47.721Z"
   },
   {
    "duration": 6,
    "start_time": "2022-11-05T17:31:47.738Z"
   },
   {
    "duration": 227,
    "start_time": "2022-11-05T17:31:47.746Z"
   },
   {
    "duration": 214,
    "start_time": "2022-11-05T17:31:47.975Z"
   },
   {
    "duration": 4,
    "start_time": "2022-11-05T17:31:48.191Z"
   },
   {
    "duration": 9,
    "start_time": "2022-11-05T17:31:48.197Z"
   },
   {
    "duration": 3375,
    "start_time": "2022-11-05T17:31:48.221Z"
   },
   {
    "duration": 4,
    "start_time": "2022-11-05T17:31:51.598Z"
   },
   {
    "duration": 9,
    "start_time": "2022-11-05T17:31:51.603Z"
   },
   {
    "duration": 799,
    "start_time": "2022-11-05T17:31:51.614Z"
   },
   {
    "duration": 1456,
    "start_time": "2022-11-05T17:31:52.415Z"
   },
   {
    "duration": 3,
    "start_time": "2022-11-05T17:31:53.873Z"
   },
   {
    "duration": 17,
    "start_time": "2022-11-05T17:31:53.878Z"
   },
   {
    "duration": 10,
    "start_time": "2022-11-05T17:31:53.896Z"
   },
   {
    "duration": 24,
    "start_time": "2022-11-05T17:31:58.678Z"
   },
   {
    "duration": 23,
    "start_time": "2022-11-05T17:32:10.932Z"
   },
   {
    "duration": 5,
    "start_time": "2022-11-05T18:31:37.350Z"
   },
   {
    "duration": 673,
    "start_time": "2022-11-05T18:31:37.357Z"
   },
   {
    "duration": 62,
    "start_time": "2022-11-05T18:31:38.032Z"
   },
   {
    "duration": 22,
    "start_time": "2022-11-05T18:31:38.099Z"
   },
   {
    "duration": 46,
    "start_time": "2022-11-05T18:31:38.123Z"
   },
   {
    "duration": 26,
    "start_time": "2022-11-05T18:31:38.170Z"
   },
   {
    "duration": 234,
    "start_time": "2022-11-05T18:31:38.198Z"
   },
   {
    "duration": 204,
    "start_time": "2022-11-05T18:31:38.434Z"
   },
   {
    "duration": 4,
    "start_time": "2022-11-05T18:31:38.640Z"
   },
   {
    "duration": 33,
    "start_time": "2022-11-05T18:31:38.646Z"
   },
   {
    "duration": 50,
    "start_time": "2022-11-05T18:31:38.682Z"
   },
   {
    "duration": 39,
    "start_time": "2022-11-05T18:31:38.734Z"
   },
   {
    "duration": 18,
    "start_time": "2022-11-05T18:31:38.775Z"
   },
   {
    "duration": 29,
    "start_time": "2022-11-05T18:31:38.795Z"
   },
   {
    "duration": 46,
    "start_time": "2022-11-05T18:31:38.826Z"
   },
   {
    "duration": 54,
    "start_time": "2022-11-05T18:31:38.874Z"
   },
   {
    "duration": 245,
    "start_time": "2022-11-05T18:31:38.930Z"
   },
   {
    "duration": 207,
    "start_time": "2022-11-05T18:31:39.178Z"
   },
   {
    "duration": 4,
    "start_time": "2022-11-05T18:31:39.387Z"
   },
   {
    "duration": 23,
    "start_time": "2022-11-05T18:31:39.392Z"
   },
   {
    "duration": 3501,
    "start_time": "2022-11-05T18:31:39.417Z"
   },
   {
    "duration": 5,
    "start_time": "2022-11-05T18:31:42.920Z"
   },
   {
    "duration": 37,
    "start_time": "2022-11-05T18:31:42.926Z"
   },
   {
    "duration": 620,
    "start_time": "2022-11-05T18:31:42.965Z"
   },
   {
    "duration": 1540,
    "start_time": "2022-11-05T18:31:43.586Z"
   },
   {
    "duration": 5,
    "start_time": "2022-11-05T18:31:51.152Z"
   },
   {
    "duration": 2,
    "start_time": "2022-11-05T18:31:55.152Z"
   },
   {
    "duration": 5,
    "start_time": "2022-11-05T18:31:59.545Z"
   },
   {
    "duration": 18,
    "start_time": "2022-11-05T18:32:02.729Z"
   },
   {
    "duration": 23,
    "start_time": "2022-11-05T18:32:15.601Z"
   },
   {
    "duration": 3,
    "start_time": "2022-11-05T18:35:32.042Z"
   },
   {
    "duration": 56,
    "start_time": "2022-11-05T18:37:33.519Z"
   },
   {
    "duration": 16,
    "start_time": "2022-11-05T18:38:26.582Z"
   },
   {
    "duration": 18,
    "start_time": "2022-11-05T18:39:00.767Z"
   },
   {
    "duration": 4,
    "start_time": "2022-11-05T18:40:08.613Z"
   },
   {
    "duration": 701,
    "start_time": "2022-11-05T18:40:08.618Z"
   },
   {
    "duration": 56,
    "start_time": "2022-11-05T18:40:09.321Z"
   },
   {
    "duration": 3,
    "start_time": "2022-11-05T18:40:09.379Z"
   },
   {
    "duration": 8,
    "start_time": "2022-11-05T18:40:09.384Z"
   },
   {
    "duration": 27,
    "start_time": "2022-11-05T18:40:09.394Z"
   },
   {
    "duration": 194,
    "start_time": "2022-11-05T18:40:09.422Z"
   },
   {
    "duration": 202,
    "start_time": "2022-11-05T18:40:09.618Z"
   },
   {
    "duration": 6,
    "start_time": "2022-11-05T18:40:09.822Z"
   },
   {
    "duration": 8,
    "start_time": "2022-11-05T18:40:09.829Z"
   },
   {
    "duration": 27,
    "start_time": "2022-11-05T18:40:09.840Z"
   },
   {
    "duration": 13,
    "start_time": "2022-11-05T18:40:09.869Z"
   },
   {
    "duration": 14,
    "start_time": "2022-11-05T18:40:09.883Z"
   },
   {
    "duration": 22,
    "start_time": "2022-11-05T18:40:09.899Z"
   },
   {
    "duration": 6,
    "start_time": "2022-11-05T18:40:09.923Z"
   },
   {
    "duration": 14,
    "start_time": "2022-11-05T18:40:09.930Z"
   },
   {
    "duration": 199,
    "start_time": "2022-11-05T18:40:09.945Z"
   },
   {
    "duration": 204,
    "start_time": "2022-11-05T18:40:10.146Z"
   },
   {
    "duration": 3,
    "start_time": "2022-11-05T18:40:10.352Z"
   },
   {
    "duration": 7,
    "start_time": "2022-11-05T18:40:10.358Z"
   },
   {
    "duration": 3321,
    "start_time": "2022-11-05T18:40:10.366Z"
   },
   {
    "duration": 5,
    "start_time": "2022-11-05T18:40:13.688Z"
   },
   {
    "duration": 12,
    "start_time": "2022-11-05T18:40:13.694Z"
   },
   {
    "duration": 572,
    "start_time": "2022-11-05T18:40:13.707Z"
   },
   {
    "duration": 1399,
    "start_time": "2022-11-05T18:40:14.281Z"
   },
   {
    "duration": 3,
    "start_time": "2022-11-05T18:40:15.682Z"
   },
   {
    "duration": 18,
    "start_time": "2022-11-05T18:40:25.024Z"
   },
   {
    "duration": 6,
    "start_time": "2022-11-05T18:41:06.816Z"
   },
   {
    "duration": 17,
    "start_time": "2022-11-05T18:42:11.803Z"
   },
   {
    "duration": 6,
    "start_time": "2022-11-05T18:43:45.152Z"
   },
   {
    "duration": 5,
    "start_time": "2022-11-05T18:44:01.237Z"
   },
   {
    "duration": 661,
    "start_time": "2022-11-05T18:44:01.244Z"
   },
   {
    "duration": 62,
    "start_time": "2022-11-05T18:44:01.907Z"
   },
   {
    "duration": 89,
    "start_time": "2022-11-05T18:44:01.971Z"
   },
   {
    "duration": 31,
    "start_time": "2022-11-05T18:44:02.063Z"
   },
   {
    "duration": 26,
    "start_time": "2022-11-05T18:44:02.095Z"
   },
   {
    "duration": 212,
    "start_time": "2022-11-05T18:44:02.123Z"
   },
   {
    "duration": 208,
    "start_time": "2022-11-05T18:44:02.337Z"
   },
   {
    "duration": 5,
    "start_time": "2022-11-05T18:44:02.547Z"
   },
   {
    "duration": 8,
    "start_time": "2022-11-05T18:44:02.553Z"
   },
   {
    "duration": 37,
    "start_time": "2022-11-05T18:44:02.563Z"
   },
   {
    "duration": 25,
    "start_time": "2022-11-05T18:44:02.602Z"
   },
   {
    "duration": 14,
    "start_time": "2022-11-05T18:44:02.629Z"
   },
   {
    "duration": 15,
    "start_time": "2022-11-05T18:44:02.645Z"
   },
   {
    "duration": 9,
    "start_time": "2022-11-05T18:44:02.663Z"
   },
   {
    "duration": 11,
    "start_time": "2022-11-05T18:44:02.674Z"
   },
   {
    "duration": 197,
    "start_time": "2022-11-05T18:44:02.687Z"
   },
   {
    "duration": 204,
    "start_time": "2022-11-05T18:44:02.886Z"
   },
   {
    "duration": 3,
    "start_time": "2022-11-05T18:44:03.092Z"
   },
   {
    "duration": 6,
    "start_time": "2022-11-05T18:44:03.097Z"
   },
   {
    "duration": 3379,
    "start_time": "2022-11-05T18:44:03.120Z"
   },
   {
    "duration": 4,
    "start_time": "2022-11-05T18:44:06.501Z"
   },
   {
    "duration": 13,
    "start_time": "2022-11-05T18:44:06.507Z"
   },
   {
    "duration": 569,
    "start_time": "2022-11-05T18:44:06.522Z"
   },
   {
    "duration": 1281,
    "start_time": "2022-11-05T18:44:07.093Z"
   },
   {
    "duration": 4,
    "start_time": "2022-11-05T18:44:08.375Z"
   },
   {
    "duration": 35,
    "start_time": "2022-11-05T18:44:08.380Z"
   },
   {
    "duration": 29,
    "start_time": "2022-11-05T18:44:08.416Z"
   },
   {
    "duration": 13,
    "start_time": "2022-11-05T18:44:13.345Z"
   },
   {
    "duration": 6,
    "start_time": "2022-11-05T18:45:00.195Z"
   },
   {
    "duration": 5,
    "start_time": "2022-11-05T18:45:19.646Z"
   },
   {
    "duration": 714,
    "start_time": "2022-11-05T18:45:19.653Z"
   },
   {
    "duration": 77,
    "start_time": "2022-11-05T18:45:20.369Z"
   },
   {
    "duration": 4,
    "start_time": "2022-11-05T18:45:20.448Z"
   },
   {
    "duration": 6,
    "start_time": "2022-11-05T18:45:20.454Z"
   },
   {
    "duration": 8,
    "start_time": "2022-11-05T18:45:20.462Z"
   },
   {
    "duration": 360,
    "start_time": "2022-11-05T18:45:20.471Z"
   },
   {
    "duration": 212,
    "start_time": "2022-11-05T18:45:20.833Z"
   },
   {
    "duration": 5,
    "start_time": "2022-11-05T18:45:21.047Z"
   },
   {
    "duration": 9,
    "start_time": "2022-11-05T18:45:21.054Z"
   },
   {
    "duration": 32,
    "start_time": "2022-11-05T18:45:21.066Z"
   },
   {
    "duration": 24,
    "start_time": "2022-11-05T18:45:21.099Z"
   },
   {
    "duration": 6,
    "start_time": "2022-11-05T18:45:21.125Z"
   },
   {
    "duration": 13,
    "start_time": "2022-11-05T18:45:21.132Z"
   },
   {
    "duration": 7,
    "start_time": "2022-11-05T18:45:21.147Z"
   },
   {
    "duration": 8,
    "start_time": "2022-11-05T18:45:21.156Z"
   },
   {
    "duration": 242,
    "start_time": "2022-11-05T18:45:21.166Z"
   },
   {
    "duration": 218,
    "start_time": "2022-11-05T18:45:21.409Z"
   },
   {
    "duration": 3,
    "start_time": "2022-11-05T18:45:21.629Z"
   },
   {
    "duration": 14,
    "start_time": "2022-11-05T18:45:21.634Z"
   },
   {
    "duration": 3345,
    "start_time": "2022-11-05T18:45:21.650Z"
   },
   {
    "duration": 5,
    "start_time": "2022-11-05T18:45:24.998Z"
   },
   {
    "duration": 16,
    "start_time": "2022-11-05T18:45:25.005Z"
   },
   {
    "duration": 574,
    "start_time": "2022-11-05T18:45:25.023Z"
   },
   {
    "duration": 1409,
    "start_time": "2022-11-05T18:45:25.600Z"
   },
   {
    "duration": 11,
    "start_time": "2022-11-05T18:45:27.011Z"
   },
   {
    "duration": 26,
    "start_time": "2022-11-05T18:45:27.024Z"
   },
   {
    "duration": 8,
    "start_time": "2022-11-05T18:45:27.052Z"
   },
   {
    "duration": 14,
    "start_time": "2022-11-05T18:45:37.081Z"
   },
   {
    "duration": 5,
    "start_time": "2022-11-05T18:49:54.111Z"
   },
   {
    "duration": 5,
    "start_time": "2022-11-05T18:50:08.348Z"
   },
   {
    "duration": 729,
    "start_time": "2022-11-05T18:50:08.355Z"
   },
   {
    "duration": 86,
    "start_time": "2022-11-05T18:50:09.086Z"
   },
   {
    "duration": 4,
    "start_time": "2022-11-05T18:50:09.174Z"
   },
   {
    "duration": 6,
    "start_time": "2022-11-05T18:50:09.181Z"
   },
   {
    "duration": 22,
    "start_time": "2022-11-05T18:50:09.189Z"
   },
   {
    "duration": 210,
    "start_time": "2022-11-05T18:50:09.222Z"
   },
   {
    "duration": 206,
    "start_time": "2022-11-05T18:50:09.434Z"
   },
   {
    "duration": 4,
    "start_time": "2022-11-05T18:50:09.642Z"
   },
   {
    "duration": 25,
    "start_time": "2022-11-05T18:50:09.648Z"
   },
   {
    "duration": 34,
    "start_time": "2022-11-05T18:50:09.676Z"
   },
   {
    "duration": 14,
    "start_time": "2022-11-05T18:50:09.712Z"
   },
   {
    "duration": 17,
    "start_time": "2022-11-05T18:50:09.728Z"
   },
   {
    "duration": 16,
    "start_time": "2022-11-05T18:50:09.747Z"
   },
   {
    "duration": 29,
    "start_time": "2022-11-05T18:50:09.765Z"
   },
   {
    "duration": 30,
    "start_time": "2022-11-05T18:50:09.796Z"
   },
   {
    "duration": 383,
    "start_time": "2022-11-05T18:50:09.828Z"
   },
   {
    "duration": 220,
    "start_time": "2022-11-05T18:50:10.213Z"
   },
   {
    "duration": 4,
    "start_time": "2022-11-05T18:50:10.434Z"
   },
   {
    "duration": 33,
    "start_time": "2022-11-05T18:50:10.440Z"
   },
   {
    "duration": 3533,
    "start_time": "2022-11-05T18:50:10.475Z"
   },
   {
    "duration": 12,
    "start_time": "2022-11-05T18:50:14.010Z"
   },
   {
    "duration": 9,
    "start_time": "2022-11-05T18:50:14.024Z"
   },
   {
    "duration": 673,
    "start_time": "2022-11-05T18:50:14.035Z"
   },
   {
    "duration": 1502,
    "start_time": "2022-11-05T18:50:14.710Z"
   },
   {
    "duration": 8,
    "start_time": "2022-11-05T18:50:16.213Z"
   },
   {
    "duration": 26,
    "start_time": "2022-11-05T18:50:16.223Z"
   },
   {
    "duration": 6,
    "start_time": "2022-11-05T18:50:16.251Z"
   },
   {
    "duration": 14,
    "start_time": "2022-11-05T18:50:22.594Z"
   },
   {
    "duration": 5,
    "start_time": "2022-11-05T18:56:29.516Z"
   },
   {
    "duration": 4,
    "start_time": "2022-11-05T18:56:58.746Z"
   },
   {
    "duration": 3,
    "start_time": "2022-11-05T18:57:25.043Z"
   },
   {
    "duration": 10,
    "start_time": "2022-11-05T18:57:50.190Z"
   },
   {
    "duration": 5,
    "start_time": "2022-11-05T18:59:07.133Z"
   },
   {
    "duration": 6,
    "start_time": "2022-11-05T18:59:27.816Z"
   },
   {
    "duration": 667,
    "start_time": "2022-11-05T18:59:27.824Z"
   },
   {
    "duration": 68,
    "start_time": "2022-11-05T18:59:28.493Z"
   },
   {
    "duration": 3,
    "start_time": "2022-11-05T18:59:28.563Z"
   },
   {
    "duration": 29,
    "start_time": "2022-11-05T18:59:28.568Z"
   },
   {
    "duration": 18,
    "start_time": "2022-11-05T18:59:28.599Z"
   },
   {
    "duration": 237,
    "start_time": "2022-11-05T18:59:28.619Z"
   },
   {
    "duration": 266,
    "start_time": "2022-11-05T18:59:28.859Z"
   },
   {
    "duration": 5,
    "start_time": "2022-11-05T18:59:29.128Z"
   },
   {
    "duration": 72,
    "start_time": "2022-11-05T18:59:29.138Z"
   },
   {
    "duration": 62,
    "start_time": "2022-11-05T18:59:29.214Z"
   },
   {
    "duration": 41,
    "start_time": "2022-11-05T18:59:29.278Z"
   },
   {
    "duration": 44,
    "start_time": "2022-11-05T18:59:29.321Z"
   },
   {
    "duration": 53,
    "start_time": "2022-11-05T18:59:29.367Z"
   },
   {
    "duration": 32,
    "start_time": "2022-11-05T18:59:29.422Z"
   },
   {
    "duration": 10,
    "start_time": "2022-11-05T18:59:29.457Z"
   },
   {
    "duration": 197,
    "start_time": "2022-11-05T18:59:29.469Z"
   },
   {
    "duration": 214,
    "start_time": "2022-11-05T18:59:29.668Z"
   },
   {
    "duration": 4,
    "start_time": "2022-11-05T18:59:29.884Z"
   },
   {
    "duration": 7,
    "start_time": "2022-11-05T18:59:29.889Z"
   },
   {
    "duration": 3406,
    "start_time": "2022-11-05T18:59:29.897Z"
   },
   {
    "duration": 5,
    "start_time": "2022-11-05T18:59:33.305Z"
   },
   {
    "duration": 11,
    "start_time": "2022-11-05T18:59:33.312Z"
   },
   {
    "duration": 779,
    "start_time": "2022-11-05T18:59:33.325Z"
   },
   {
    "duration": 1358,
    "start_time": "2022-11-05T18:59:34.106Z"
   },
   {
    "duration": 3,
    "start_time": "2022-11-05T18:59:35.466Z"
   },
   {
    "duration": 14,
    "start_time": "2022-11-05T18:59:35.471Z"
   },
   {
    "duration": 4,
    "start_time": "2022-11-05T18:59:35.487Z"
   },
   {
    "duration": 5,
    "start_time": "2022-11-05T18:59:35.494Z"
   },
   {
    "duration": 24,
    "start_time": "2022-11-05T18:59:35.500Z"
   },
   {
    "duration": 9,
    "start_time": "2022-11-05T18:59:35.526Z"
   },
   {
    "duration": 4,
    "start_time": "2022-11-05T18:59:40.214Z"
   },
   {
    "duration": 1345,
    "start_time": "2022-11-05T19:01:19.566Z"
   },
   {
    "duration": 712,
    "start_time": "2022-11-05T19:01:20.913Z"
   },
   {
    "duration": 61,
    "start_time": "2022-11-05T19:01:21.627Z"
   },
   {
    "duration": 3,
    "start_time": "2022-11-05T19:01:21.690Z"
   },
   {
    "duration": 29,
    "start_time": "2022-11-05T19:01:21.694Z"
   },
   {
    "duration": 5,
    "start_time": "2022-11-05T19:01:21.725Z"
   },
   {
    "duration": 212,
    "start_time": "2022-11-05T19:01:21.732Z"
   },
   {
    "duration": 199,
    "start_time": "2022-11-05T19:01:21.945Z"
   },
   {
    "duration": 5,
    "start_time": "2022-11-05T19:01:22.146Z"
   },
   {
    "duration": 28,
    "start_time": "2022-11-05T19:01:22.154Z"
   },
   {
    "duration": 48,
    "start_time": "2022-11-05T19:01:22.184Z"
   },
   {
    "duration": 16,
    "start_time": "2022-11-05T19:01:22.234Z"
   },
   {
    "duration": 20,
    "start_time": "2022-11-05T19:01:22.252Z"
   },
   {
    "duration": 96,
    "start_time": "2022-11-05T19:01:22.274Z"
   },
   {
    "duration": 15,
    "start_time": "2022-11-05T19:01:22.371Z"
   },
   {
    "duration": 15,
    "start_time": "2022-11-05T19:01:22.387Z"
   },
   {
    "duration": 211,
    "start_time": "2022-11-05T19:01:22.403Z"
   },
   {
    "duration": 233,
    "start_time": "2022-11-05T19:01:22.616Z"
   },
   {
    "duration": 3,
    "start_time": "2022-11-05T19:01:22.851Z"
   },
   {
    "duration": 12,
    "start_time": "2022-11-05T19:01:22.856Z"
   },
   {
    "duration": 3325,
    "start_time": "2022-11-05T19:01:22.869Z"
   },
   {
    "duration": 4,
    "start_time": "2022-11-05T19:01:26.195Z"
   },
   {
    "duration": 29,
    "start_time": "2022-11-05T19:01:26.201Z"
   },
   {
    "duration": 578,
    "start_time": "2022-11-05T19:01:26.232Z"
   },
   {
    "duration": 1370,
    "start_time": "2022-11-05T19:01:26.812Z"
   },
   {
    "duration": 3,
    "start_time": "2022-11-05T19:01:28.184Z"
   },
   {
    "duration": 30,
    "start_time": "2022-11-05T19:01:28.188Z"
   },
   {
    "duration": 6,
    "start_time": "2022-11-05T19:01:28.221Z"
   },
   {
    "duration": 27,
    "start_time": "2022-11-05T19:01:28.229Z"
   },
   {
    "duration": 21,
    "start_time": "2022-11-05T19:01:28.257Z"
   },
   {
    "duration": 8,
    "start_time": "2022-11-05T19:01:28.280Z"
   },
   {
    "duration": 16,
    "start_time": "2022-11-05T19:01:28.290Z"
   },
   {
    "duration": 29,
    "start_time": "2022-11-05T19:06:30.544Z"
   },
   {
    "duration": 36,
    "start_time": "2022-11-05T19:06:30.575Z"
   },
   {
    "duration": 146,
    "start_time": "2022-11-05T19:06:30.613Z"
   },
   {
    "duration": 0,
    "start_time": "2022-11-05T19:06:30.761Z"
   },
   {
    "duration": 0,
    "start_time": "2022-11-05T19:06:30.762Z"
   },
   {
    "duration": 0,
    "start_time": "2022-11-05T19:06:30.763Z"
   },
   {
    "duration": 0,
    "start_time": "2022-11-05T19:06:30.764Z"
   },
   {
    "duration": 0,
    "start_time": "2022-11-05T19:06:30.764Z"
   },
   {
    "duration": 5,
    "start_time": "2022-11-05T19:13:37.559Z"
   },
   {
    "duration": 1438,
    "start_time": "2022-11-05T19:14:00.582Z"
   },
   {
    "duration": 735,
    "start_time": "2022-11-05T19:14:02.022Z"
   },
   {
    "duration": 83,
    "start_time": "2022-11-05T19:14:02.759Z"
   },
   {
    "duration": 4,
    "start_time": "2022-11-05T19:14:02.844Z"
   },
   {
    "duration": 9,
    "start_time": "2022-11-05T19:14:02.849Z"
   },
   {
    "duration": 11,
    "start_time": "2022-11-05T19:14:02.859Z"
   },
   {
    "duration": 224,
    "start_time": "2022-11-05T19:14:02.871Z"
   },
   {
    "duration": 199,
    "start_time": "2022-11-05T19:14:03.097Z"
   },
   {
    "duration": 5,
    "start_time": "2022-11-05T19:14:03.297Z"
   },
   {
    "duration": 15,
    "start_time": "2022-11-05T19:14:03.305Z"
   },
   {
    "duration": 22,
    "start_time": "2022-11-05T19:14:03.322Z"
   },
   {
    "duration": 17,
    "start_time": "2022-11-05T19:14:03.345Z"
   },
   {
    "duration": 7,
    "start_time": "2022-11-05T19:14:03.363Z"
   },
   {
    "duration": 100,
    "start_time": "2022-11-05T19:14:03.372Z"
   },
   {
    "duration": 7,
    "start_time": "2022-11-05T19:14:03.474Z"
   },
   {
    "duration": 21,
    "start_time": "2022-11-05T19:14:03.483Z"
   },
   {
    "duration": 214,
    "start_time": "2022-11-05T19:14:03.506Z"
   },
   {
    "duration": 225,
    "start_time": "2022-11-05T19:14:03.722Z"
   },
   {
    "duration": 3,
    "start_time": "2022-11-05T19:14:03.950Z"
   },
   {
    "duration": 19,
    "start_time": "2022-11-05T19:14:03.954Z"
   },
   {
    "duration": 3323,
    "start_time": "2022-11-05T19:14:03.974Z"
   },
   {
    "duration": 6,
    "start_time": "2022-11-05T19:14:07.299Z"
   },
   {
    "duration": 17,
    "start_time": "2022-11-05T19:14:07.307Z"
   },
   {
    "duration": 683,
    "start_time": "2022-11-05T19:14:07.326Z"
   },
   {
    "duration": 1451,
    "start_time": "2022-11-05T19:14:08.011Z"
   },
   {
    "duration": 4,
    "start_time": "2022-11-05T19:14:09.464Z"
   },
   {
    "duration": 28,
    "start_time": "2022-11-05T19:14:09.469Z"
   },
   {
    "duration": 5,
    "start_time": "2022-11-05T19:14:09.500Z"
   },
   {
    "duration": 28,
    "start_time": "2022-11-05T19:14:09.507Z"
   },
   {
    "duration": 34,
    "start_time": "2022-11-05T19:14:09.537Z"
   },
   {
    "duration": 16,
    "start_time": "2022-11-05T19:14:09.573Z"
   },
   {
    "duration": 15,
    "start_time": "2022-11-05T19:14:09.591Z"
   },
   {
    "duration": 308307,
    "start_time": "2022-11-05T19:14:09.608Z"
   },
   {
    "duration": 7,
    "start_time": "2022-11-05T19:19:17.916Z"
   },
   {
    "duration": 5,
    "start_time": "2022-11-05T19:19:17.925Z"
   },
   {
    "duration": 302151,
    "start_time": "2022-11-05T19:19:17.932Z"
   },
   {
    "duration": 3,
    "start_time": "2022-11-05T19:24:20.085Z"
   },
   {
    "duration": 10,
    "start_time": "2022-11-05T19:24:20.090Z"
   },
   {
    "duration": 127,
    "start_time": "2022-11-05T19:24:20.102Z"
   },
   {
    "duration": 0,
    "start_time": "2022-11-05T19:24:20.230Z"
   },
   {
    "duration": 0,
    "start_time": "2022-11-05T19:24:20.232Z"
   },
   {
    "duration": 0,
    "start_time": "2022-11-05T19:24:20.233Z"
   },
   {
    "duration": 4,
    "start_time": "2022-11-05T19:27:55.796Z"
   },
   {
    "duration": 1407,
    "start_time": "2022-11-05T19:28:38.828Z"
   },
   {
    "duration": 1333,
    "start_time": "2022-11-05T19:29:01.996Z"
   },
   {
    "duration": 1534,
    "start_time": "2022-11-05T19:30:08.157Z"
   },
   {
    "duration": 1377,
    "start_time": "2022-11-05T19:30:25.966Z"
   },
   {
    "duration": 5,
    "start_time": "2022-11-05T19:48:04.684Z"
   },
   {
    "duration": 739,
    "start_time": "2022-11-05T19:48:04.691Z"
   },
   {
    "duration": 56,
    "start_time": "2022-11-05T19:48:05.433Z"
   },
   {
    "duration": 3,
    "start_time": "2022-11-05T19:48:05.491Z"
   },
   {
    "duration": 27,
    "start_time": "2022-11-05T19:48:05.496Z"
   },
   {
    "duration": 30,
    "start_time": "2022-11-05T19:48:05.524Z"
   },
   {
    "duration": 287,
    "start_time": "2022-11-05T19:48:05.556Z"
   },
   {
    "duration": 191,
    "start_time": "2022-11-05T19:48:05.845Z"
   },
   {
    "duration": 5,
    "start_time": "2022-11-05T19:48:06.037Z"
   },
   {
    "duration": 24,
    "start_time": "2022-11-05T19:48:06.044Z"
   },
   {
    "duration": 23,
    "start_time": "2022-11-05T19:48:06.071Z"
   },
   {
    "duration": 9,
    "start_time": "2022-11-05T19:48:06.096Z"
   },
   {
    "duration": 14,
    "start_time": "2022-11-05T19:48:06.107Z"
   },
   {
    "duration": 13,
    "start_time": "2022-11-05T19:48:06.123Z"
   },
   {
    "duration": 7,
    "start_time": "2022-11-05T19:48:06.138Z"
   },
   {
    "duration": 13,
    "start_time": "2022-11-05T19:48:06.146Z"
   },
   {
    "duration": 222,
    "start_time": "2022-11-05T19:48:06.160Z"
   },
   {
    "duration": 199,
    "start_time": "2022-11-05T19:48:06.383Z"
   },
   {
    "duration": 3,
    "start_time": "2022-11-05T19:48:06.584Z"
   },
   {
    "duration": 8,
    "start_time": "2022-11-05T19:48:06.589Z"
   },
   {
    "duration": 3517,
    "start_time": "2022-11-05T19:48:06.599Z"
   },
   {
    "duration": 4,
    "start_time": "2022-11-05T19:48:10.120Z"
   },
   {
    "duration": 13,
    "start_time": "2022-11-05T19:48:10.126Z"
   },
   {
    "duration": 637,
    "start_time": "2022-11-05T19:48:10.141Z"
   },
   {
    "duration": 1406,
    "start_time": "2022-11-05T19:48:10.780Z"
   },
   {
    "duration": 3,
    "start_time": "2022-11-05T19:48:12.188Z"
   },
   {
    "duration": 18,
    "start_time": "2022-11-05T19:48:12.193Z"
   },
   {
    "duration": 11,
    "start_time": "2022-11-05T19:48:12.212Z"
   },
   {
    "duration": 3,
    "start_time": "2022-11-05T19:48:12.226Z"
   },
   {
    "duration": 4,
    "start_time": "2022-11-05T19:48:12.231Z"
   },
   {
    "duration": 15,
    "start_time": "2022-11-05T19:48:25.256Z"
   },
   {
    "duration": 14,
    "start_time": "2022-11-05T19:50:28.543Z"
   },
   {
    "duration": 6,
    "start_time": "2022-11-05T19:51:01.719Z"
   },
   {
    "duration": 19,
    "start_time": "2022-11-05T19:51:17.504Z"
   },
   {
    "duration": 24,
    "start_time": "2022-11-05T19:51:23.639Z"
   },
   {
    "duration": 23,
    "start_time": "2022-11-05T19:51:32.072Z"
   },
   {
    "duration": 4,
    "start_time": "2022-11-05T19:52:29.824Z"
   },
   {
    "duration": 22,
    "start_time": "2022-11-05T19:52:29.830Z"
   },
   {
    "duration": 11,
    "start_time": "2022-11-05T19:52:29.855Z"
   },
   {
    "duration": 20,
    "start_time": "2022-11-05T19:52:29.867Z"
   },
   {
    "duration": 21,
    "start_time": "2022-11-05T19:52:29.890Z"
   },
   {
    "duration": 20,
    "start_time": "2022-11-05T19:52:29.913Z"
   },
   {
    "duration": 5,
    "start_time": "2022-11-05T19:52:31.038Z"
   },
   {
    "duration": 3,
    "start_time": "2022-11-05T19:58:47.682Z"
   },
   {
    "duration": 9,
    "start_time": "2022-11-05T19:59:28.572Z"
   },
   {
    "duration": 22,
    "start_time": "2022-11-05T20:00:19.324Z"
   },
   {
    "duration": 10,
    "start_time": "2022-11-05T20:49:39.547Z"
   },
   {
    "duration": 137,
    "start_time": "2022-11-05T20:50:41.722Z"
   },
   {
    "duration": 8,
    "start_time": "2022-11-05T20:56:32.272Z"
   },
   {
    "duration": 1372,
    "start_time": "2022-11-05T20:57:13.155Z"
   },
   {
    "duration": 680,
    "start_time": "2022-11-05T20:57:14.529Z"
   },
   {
    "duration": 61,
    "start_time": "2022-11-05T20:57:15.210Z"
   },
   {
    "duration": 3,
    "start_time": "2022-11-05T20:57:15.272Z"
   },
   {
    "duration": 8,
    "start_time": "2022-11-05T20:57:15.277Z"
   },
   {
    "duration": 4,
    "start_time": "2022-11-05T20:57:15.286Z"
   },
   {
    "duration": 213,
    "start_time": "2022-11-05T20:57:15.291Z"
   },
   {
    "duration": 191,
    "start_time": "2022-11-05T20:57:15.505Z"
   },
   {
    "duration": 5,
    "start_time": "2022-11-05T20:57:15.697Z"
   },
   {
    "duration": 18,
    "start_time": "2022-11-05T20:57:15.703Z"
   },
   {
    "duration": 22,
    "start_time": "2022-11-05T20:57:15.723Z"
   },
   {
    "duration": 11,
    "start_time": "2022-11-05T20:57:15.747Z"
   },
   {
    "duration": 11,
    "start_time": "2022-11-05T20:57:15.760Z"
   },
   {
    "duration": 103,
    "start_time": "2022-11-05T20:57:15.775Z"
   },
   {
    "duration": 12,
    "start_time": "2022-11-05T20:57:15.879Z"
   },
   {
    "duration": 9,
    "start_time": "2022-11-05T20:57:15.893Z"
   },
   {
    "duration": 207,
    "start_time": "2022-11-05T20:57:15.904Z"
   },
   {
    "duration": 221,
    "start_time": "2022-11-05T20:57:16.112Z"
   },
   {
    "duration": 3,
    "start_time": "2022-11-05T20:57:16.335Z"
   },
   {
    "duration": 8,
    "start_time": "2022-11-05T20:57:16.339Z"
   },
   {
    "duration": 3615,
    "start_time": "2022-11-05T20:57:16.348Z"
   },
   {
    "duration": 4,
    "start_time": "2022-11-05T20:57:19.965Z"
   },
   {
    "duration": 6,
    "start_time": "2022-11-05T20:57:19.972Z"
   },
   {
    "duration": 646,
    "start_time": "2022-11-05T20:57:19.980Z"
   },
   {
    "duration": 1395,
    "start_time": "2022-11-05T20:57:20.628Z"
   },
   {
    "duration": 4,
    "start_time": "2022-11-05T20:57:22.025Z"
   },
   {
    "duration": 17,
    "start_time": "2022-11-05T20:57:22.031Z"
   },
   {
    "duration": 15,
    "start_time": "2022-11-05T20:57:22.050Z"
   },
   {
    "duration": 6,
    "start_time": "2022-11-05T20:57:22.067Z"
   },
   {
    "duration": 18,
    "start_time": "2022-11-05T20:57:22.075Z"
   },
   {
    "duration": 28,
    "start_time": "2022-11-05T20:57:22.095Z"
   },
   {
    "duration": 4,
    "start_time": "2022-11-05T20:57:22.125Z"
   },
   {
    "duration": 29,
    "start_time": "2022-11-05T20:57:22.131Z"
   },
   {
    "duration": 302560,
    "start_time": "2022-11-05T20:57:22.162Z"
   },
   {
    "duration": 5,
    "start_time": "2022-11-05T21:02:24.724Z"
   },
   {
    "duration": 8,
    "start_time": "2022-11-05T21:02:24.730Z"
   },
   {
    "duration": 303092,
    "start_time": "2022-11-05T21:02:24.739Z"
   },
   {
    "duration": 5,
    "start_time": "2022-11-05T21:07:27.833Z"
   },
   {
    "duration": 1420,
    "start_time": "2022-11-05T21:07:27.840Z"
   },
   {
    "duration": 1494,
    "start_time": "2022-11-05T21:07:29.262Z"
   },
   {
    "duration": 3,
    "start_time": "2022-11-05T21:07:30.760Z"
   },
   {
    "duration": 40,
    "start_time": "2022-11-05T21:07:30.765Z"
   },
   {
    "duration": 126,
    "start_time": "2022-11-05T21:20:22.428Z"
   },
   {
    "duration": 51,
    "start_time": "2022-11-05T21:22:06.742Z"
   },
   {
    "duration": 180,
    "start_time": "2022-11-05T21:22:28.876Z"
   },
   {
    "duration": 5,
    "start_time": "2022-11-05T21:23:59.913Z"
   },
   {
    "duration": 5,
    "start_time": "2022-11-05T21:25:02.337Z"
   },
   {
    "duration": 6,
    "start_time": "2022-11-05T21:25:12.886Z"
   },
   {
    "duration": 8,
    "start_time": "2022-11-05T21:25:18.767Z"
   },
   {
    "duration": 5,
    "start_time": "2022-11-05T21:25:23.273Z"
   },
   {
    "duration": 3,
    "start_time": "2022-11-05T21:25:28.599Z"
   },
   {
    "duration": 496821,
    "start_time": "2022-11-05T21:25:45.701Z"
   },
   {
    "duration": 1404,
    "start_time": "2022-11-05T21:34:44.496Z"
   },
   {
    "duration": 671,
    "start_time": "2022-11-05T21:34:45.901Z"
   },
   {
    "duration": 67,
    "start_time": "2022-11-05T21:34:46.573Z"
   },
   {
    "duration": 4,
    "start_time": "2022-11-05T21:34:46.642Z"
   },
   {
    "duration": 10,
    "start_time": "2022-11-05T21:34:46.647Z"
   },
   {
    "duration": 3,
    "start_time": "2022-11-05T21:34:46.658Z"
   },
   {
    "duration": 234,
    "start_time": "2022-11-05T21:34:46.663Z"
   },
   {
    "duration": 201,
    "start_time": "2022-11-05T21:34:46.900Z"
   },
   {
    "duration": 5,
    "start_time": "2022-11-05T21:34:47.103Z"
   },
   {
    "duration": 28,
    "start_time": "2022-11-05T21:34:47.123Z"
   },
   {
    "duration": 27,
    "start_time": "2022-11-05T21:34:47.153Z"
   },
   {
    "duration": 12,
    "start_time": "2022-11-05T21:34:47.182Z"
   },
   {
    "duration": 7,
    "start_time": "2022-11-05T21:34:47.195Z"
   },
   {
    "duration": 124,
    "start_time": "2022-11-05T21:34:47.204Z"
   },
   {
    "duration": 6,
    "start_time": "2022-11-05T21:34:47.330Z"
   },
   {
    "duration": 10,
    "start_time": "2022-11-05T21:34:47.338Z"
   },
   {
    "duration": 216,
    "start_time": "2022-11-05T21:34:47.350Z"
   },
   {
    "duration": 219,
    "start_time": "2022-11-05T21:34:47.568Z"
   },
   {
    "duration": 4,
    "start_time": "2022-11-05T21:34:47.789Z"
   },
   {
    "duration": 8,
    "start_time": "2022-11-05T21:34:47.794Z"
   },
   {
    "duration": 3586,
    "start_time": "2022-11-05T21:34:47.803Z"
   },
   {
    "duration": 5,
    "start_time": "2022-11-05T21:34:51.391Z"
   },
   {
    "duration": 23,
    "start_time": "2022-11-05T21:34:51.398Z"
   },
   {
    "duration": 670,
    "start_time": "2022-11-05T21:34:51.422Z"
   },
   {
    "duration": 1283,
    "start_time": "2022-11-05T21:34:52.095Z"
   },
   {
    "duration": 4,
    "start_time": "2022-11-05T21:34:53.380Z"
   },
   {
    "duration": 43,
    "start_time": "2022-11-05T21:34:53.386Z"
   },
   {
    "duration": 19,
    "start_time": "2022-11-05T21:34:53.433Z"
   },
   {
    "duration": 5,
    "start_time": "2022-11-05T21:34:53.453Z"
   },
   {
    "duration": 6,
    "start_time": "2022-11-05T21:34:53.460Z"
   },
   {
    "duration": 11,
    "start_time": "2022-11-05T21:34:53.468Z"
   },
   {
    "duration": 2,
    "start_time": "2022-11-05T21:34:53.481Z"
   },
   {
    "duration": 42,
    "start_time": "2022-11-05T21:34:53.485Z"
   },
   {
    "duration": 498002,
    "start_time": "2022-11-05T21:34:53.528Z"
   },
   {
    "duration": 5,
    "start_time": "2022-11-05T21:43:11.532Z"
   },
   {
    "duration": 14,
    "start_time": "2022-11-05T21:43:11.539Z"
   },
   {
    "duration": 504174,
    "start_time": "2022-11-05T21:43:11.555Z"
   },
   {
    "duration": 92,
    "start_time": "2022-11-05T21:51:35.732Z"
   },
   {
    "duration": 396,
    "start_time": "2022-11-05T21:51:35.826Z"
   },
   {
    "duration": 302,
    "start_time": "2022-11-05T21:51:36.224Z"
   },
   {
    "duration": 5,
    "start_time": "2022-11-05T21:51:36.528Z"
   },
   {
    "duration": 99,
    "start_time": "2022-11-05T21:51:36.534Z"
   },
   {
    "duration": 57,
    "start_time": "2022-11-06T09:48:08.695Z"
   },
   {
    "duration": 1728,
    "start_time": "2022-11-06T09:48:47.624Z"
   },
   {
    "duration": 2994,
    "start_time": "2022-11-06T09:48:52.459Z"
   },
   {
    "duration": 50,
    "start_time": "2022-11-06T09:48:55.958Z"
   },
   {
    "duration": 3,
    "start_time": "2022-11-06T09:49:10.309Z"
   },
   {
    "duration": 7,
    "start_time": "2022-11-06T09:49:13.661Z"
   },
   {
    "duration": 3,
    "start_time": "2022-11-06T09:49:18.747Z"
   },
   {
    "duration": 175,
    "start_time": "2022-11-06T09:49:20.924Z"
   },
   {
    "duration": 213,
    "start_time": "2022-11-06T09:49:24.037Z"
   },
   {
    "duration": 4,
    "start_time": "2022-11-06T09:49:28.645Z"
   },
   {
    "duration": 4,
    "start_time": "2022-11-06T09:49:32.996Z"
   },
   {
    "duration": 21,
    "start_time": "2022-11-06T09:49:42.637Z"
   },
   {
    "duration": 7,
    "start_time": "2022-11-06T09:49:49.484Z"
   },
   {
    "duration": 6,
    "start_time": "2022-11-06T09:49:52.676Z"
   },
   {
    "duration": 11,
    "start_time": "2022-11-06T09:49:55.621Z"
   },
   {
    "duration": 7,
    "start_time": "2022-11-06T09:50:01.986Z"
   },
   {
    "duration": 6,
    "start_time": "2022-11-06T09:50:04.956Z"
   },
   {
    "duration": 7,
    "start_time": "2022-11-06T09:50:08.206Z"
   },
   {
    "duration": 6,
    "start_time": "2022-11-06T09:50:59.050Z"
   },
   {
    "duration": 74,
    "start_time": "2022-11-06T09:58:23.865Z"
   },
   {
    "duration": 7,
    "start_time": "2022-11-06T09:58:45.160Z"
   },
   {
    "duration": 7,
    "start_time": "2022-11-06T09:59:24.491Z"
   },
   {
    "duration": 6,
    "start_time": "2022-11-06T09:59:34.281Z"
   },
   {
    "duration": 4,
    "start_time": "2022-11-06T10:00:41.019Z"
   },
   {
    "duration": 4,
    "start_time": "2022-11-06T10:02:29.179Z"
   },
   {
    "duration": 6,
    "start_time": "2022-11-06T10:02:42.236Z"
   },
   {
    "duration": 1486,
    "start_time": "2022-11-06T10:42:34.478Z"
   },
   {
    "duration": 640,
    "start_time": "2022-11-06T10:42:35.966Z"
   },
   {
    "duration": 53,
    "start_time": "2022-11-06T10:42:36.607Z"
   },
   {
    "duration": 3,
    "start_time": "2022-11-06T10:42:36.661Z"
   },
   {
    "duration": 25,
    "start_time": "2022-11-06T10:42:36.666Z"
   },
   {
    "duration": 18,
    "start_time": "2022-11-06T10:42:36.692Z"
   },
   {
    "duration": 202,
    "start_time": "2022-11-06T10:42:36.712Z"
   },
   {
    "duration": 175,
    "start_time": "2022-11-06T10:42:36.916Z"
   },
   {
    "duration": 4,
    "start_time": "2022-11-06T10:42:37.093Z"
   },
   {
    "duration": 61,
    "start_time": "2022-11-06T10:42:37.109Z"
   },
   {
    "duration": 50,
    "start_time": "2022-11-06T10:42:37.171Z"
   },
   {
    "duration": 32,
    "start_time": "2022-11-06T10:42:37.222Z"
   },
   {
    "duration": 32,
    "start_time": "2022-11-06T10:42:37.256Z"
   },
   {
    "duration": 74,
    "start_time": "2022-11-06T10:42:37.291Z"
   },
   {
    "duration": 25,
    "start_time": "2022-11-06T10:42:37.366Z"
   },
   {
    "duration": 27,
    "start_time": "2022-11-06T10:42:37.394Z"
   },
   {
    "duration": 21,
    "start_time": "2022-11-06T10:42:37.423Z"
   },
   {
    "duration": 22,
    "start_time": "2022-11-06T10:42:37.446Z"
   },
   {
    "duration": 34,
    "start_time": "2022-11-06T10:42:37.470Z"
   },
   {
    "duration": 20,
    "start_time": "2022-11-06T10:42:37.506Z"
   },
   {
    "duration": 26,
    "start_time": "2022-11-06T10:42:37.528Z"
   },
   {
    "duration": 222,
    "start_time": "2022-11-06T10:42:37.556Z"
   },
   {
    "duration": 218,
    "start_time": "2022-11-06T10:42:37.780Z"
   },
   {
    "duration": 11,
    "start_time": "2022-11-06T10:42:38.000Z"
   },
   {
    "duration": 25,
    "start_time": "2022-11-06T10:42:38.013Z"
   },
   {
    "duration": 3872,
    "start_time": "2022-11-06T10:42:38.040Z"
   },
   {
    "duration": 4,
    "start_time": "2022-11-06T10:42:41.914Z"
   },
   {
    "duration": 6,
    "start_time": "2022-11-06T10:42:41.920Z"
   },
   {
    "duration": 652,
    "start_time": "2022-11-06T10:42:41.927Z"
   },
   {
    "duration": 1384,
    "start_time": "2022-11-06T10:42:42.581Z"
   },
   {
    "duration": 4,
    "start_time": "2022-11-06T10:42:43.966Z"
   },
   {
    "duration": 49,
    "start_time": "2022-11-06T10:42:43.971Z"
   },
   {
    "duration": 27,
    "start_time": "2022-11-06T10:42:44.022Z"
   },
   {
    "duration": 20,
    "start_time": "2022-11-06T10:42:44.050Z"
   },
   {
    "duration": 22,
    "start_time": "2022-11-06T10:42:44.072Z"
   },
   {
    "duration": 52,
    "start_time": "2022-11-06T10:42:44.096Z"
   },
   {
    "duration": 26,
    "start_time": "2022-11-06T10:42:44.151Z"
   },
   {
    "duration": 28,
    "start_time": "2022-11-06T10:42:44.179Z"
   },
   {
    "duration": 504813,
    "start_time": "2022-11-06T10:42:44.209Z"
   },
   {
    "duration": 90,
    "start_time": "2022-11-06T10:51:09.023Z"
   },
   {
    "duration": 15,
    "start_time": "2022-11-06T10:51:09.118Z"
   },
   {
    "duration": 1436,
    "start_time": "2022-11-06T10:59:10.434Z"
   },
   {
    "duration": 656,
    "start_time": "2022-11-06T10:59:11.872Z"
   },
   {
    "duration": 84,
    "start_time": "2022-11-06T10:59:12.530Z"
   },
   {
    "duration": 4,
    "start_time": "2022-11-06T10:59:12.616Z"
   },
   {
    "duration": 45,
    "start_time": "2022-11-06T10:59:12.622Z"
   },
   {
    "duration": 8,
    "start_time": "2022-11-06T10:59:12.669Z"
   },
   {
    "duration": 223,
    "start_time": "2022-11-06T10:59:12.679Z"
   },
   {
    "duration": 176,
    "start_time": "2022-11-06T10:59:12.904Z"
   },
   {
    "duration": 5,
    "start_time": "2022-11-06T10:59:13.081Z"
   },
   {
    "duration": 7,
    "start_time": "2022-11-06T10:59:13.088Z"
   },
   {
    "duration": 34,
    "start_time": "2022-11-06T10:59:13.096Z"
   },
   {
    "duration": 10,
    "start_time": "2022-11-06T10:59:13.132Z"
   },
   {
    "duration": 6,
    "start_time": "2022-11-06T10:59:13.144Z"
   },
   {
    "duration": 85,
    "start_time": "2022-11-06T10:59:13.153Z"
   },
   {
    "duration": 8,
    "start_time": "2022-11-06T10:59:13.239Z"
   },
   {
    "duration": 6,
    "start_time": "2022-11-06T10:59:13.248Z"
   },
   {
    "duration": 5,
    "start_time": "2022-11-06T10:59:13.255Z"
   },
   {
    "duration": 6,
    "start_time": "2022-11-06T10:59:13.262Z"
   },
   {
    "duration": 13,
    "start_time": "2022-11-06T10:59:13.270Z"
   },
   {
    "duration": 28,
    "start_time": "2022-11-06T10:59:13.285Z"
   },
   {
    "duration": 9,
    "start_time": "2022-11-06T10:59:13.315Z"
   },
   {
    "duration": 199,
    "start_time": "2022-11-06T10:59:13.326Z"
   },
   {
    "duration": 221,
    "start_time": "2022-11-06T10:59:13.527Z"
   },
   {
    "duration": 3,
    "start_time": "2022-11-06T10:59:13.749Z"
   },
   {
    "duration": 11,
    "start_time": "2022-11-06T10:59:13.754Z"
   },
   {
    "duration": 3428,
    "start_time": "2022-11-06T10:59:13.767Z"
   },
   {
    "duration": 4,
    "start_time": "2022-11-06T10:59:17.196Z"
   },
   {
    "duration": 22,
    "start_time": "2022-11-06T10:59:17.208Z"
   },
   {
    "duration": 649,
    "start_time": "2022-11-06T10:59:17.231Z"
   },
   {
    "duration": 1284,
    "start_time": "2022-11-06T10:59:17.882Z"
   },
   {
    "duration": 4,
    "start_time": "2022-11-06T10:59:19.167Z"
   },
   {
    "duration": 31,
    "start_time": "2022-11-06T10:59:19.172Z"
   },
   {
    "duration": 30,
    "start_time": "2022-11-06T10:59:19.204Z"
   },
   {
    "duration": 32,
    "start_time": "2022-11-06T10:59:19.236Z"
   },
   {
    "duration": 29,
    "start_time": "2022-11-06T10:59:19.270Z"
   },
   {
    "duration": 12,
    "start_time": "2022-11-06T10:59:19.301Z"
   },
   {
    "duration": 32,
    "start_time": "2022-11-06T10:59:19.315Z"
   },
   {
    "duration": 25,
    "start_time": "2022-11-06T10:59:19.348Z"
   },
   {
    "duration": 22,
    "start_time": "2022-11-06T10:59:19.375Z"
   },
   {
    "duration": 26,
    "start_time": "2022-11-06T10:59:19.399Z"
   },
   {
    "duration": 12,
    "start_time": "2022-11-06T10:59:19.429Z"
   },
   {
    "duration": 6,
    "start_time": "2022-11-06T11:08:52.148Z"
   },
   {
    "duration": 730,
    "start_time": "2022-11-06T11:08:52.156Z"
   },
   {
    "duration": 55,
    "start_time": "2022-11-06T11:08:52.888Z"
   },
   {
    "duration": 3,
    "start_time": "2022-11-06T11:08:52.945Z"
   },
   {
    "duration": 12,
    "start_time": "2022-11-06T11:08:52.950Z"
   },
   {
    "duration": 7,
    "start_time": "2022-11-06T11:08:52.964Z"
   },
   {
    "duration": 183,
    "start_time": "2022-11-06T11:08:52.973Z"
   },
   {
    "duration": 205,
    "start_time": "2022-11-06T11:08:53.158Z"
   },
   {
    "duration": 5,
    "start_time": "2022-11-06T11:08:53.365Z"
   },
   {
    "duration": 10,
    "start_time": "2022-11-06T11:08:53.371Z"
   },
   {
    "duration": 35,
    "start_time": "2022-11-06T11:08:53.383Z"
   },
   {
    "duration": 6,
    "start_time": "2022-11-06T11:08:53.419Z"
   },
   {
    "duration": 7,
    "start_time": "2022-11-06T11:08:53.427Z"
   },
   {
    "duration": 35,
    "start_time": "2022-11-06T11:08:53.435Z"
   },
   {
    "duration": 5,
    "start_time": "2022-11-06T11:08:53.472Z"
   },
   {
    "duration": 5,
    "start_time": "2022-11-06T11:08:53.479Z"
   },
   {
    "duration": 95,
    "start_time": "2022-11-06T11:08:53.486Z"
   },
   {
    "duration": 6,
    "start_time": "2022-11-06T11:08:53.583Z"
   },
   {
    "duration": 17,
    "start_time": "2022-11-06T11:08:53.592Z"
   },
   {
    "duration": 7,
    "start_time": "2022-11-06T11:08:53.610Z"
   },
   {
    "duration": 6,
    "start_time": "2022-11-06T11:08:53.618Z"
   },
   {
    "duration": 208,
    "start_time": "2022-11-06T11:08:53.626Z"
   },
   {
    "duration": 214,
    "start_time": "2022-11-06T11:08:53.835Z"
   },
   {
    "duration": 3,
    "start_time": "2022-11-06T11:08:54.053Z"
   },
   {
    "duration": 13,
    "start_time": "2022-11-06T11:08:54.057Z"
   },
   {
    "duration": 3318,
    "start_time": "2022-11-06T11:08:54.071Z"
   },
   {
    "duration": 4,
    "start_time": "2022-11-06T11:08:57.391Z"
   },
   {
    "duration": 13,
    "start_time": "2022-11-06T11:08:57.397Z"
   },
   {
    "duration": 549,
    "start_time": "2022-11-06T11:08:57.411Z"
   },
   {
    "duration": 1282,
    "start_time": "2022-11-06T11:08:57.961Z"
   },
   {
    "duration": 3,
    "start_time": "2022-11-06T11:08:59.245Z"
   },
   {
    "duration": 16,
    "start_time": "2022-11-06T11:08:59.250Z"
   },
   {
    "duration": 12,
    "start_time": "2022-11-06T11:08:59.267Z"
   },
   {
    "duration": 4,
    "start_time": "2022-11-06T11:09:13.591Z"
   },
   {
    "duration": 6,
    "start_time": "2022-11-06T11:09:21.348Z"
   },
   {
    "duration": 7,
    "start_time": "2022-11-06T11:09:27.703Z"
   },
   {
    "duration": 3,
    "start_time": "2022-11-06T11:09:32.447Z"
   },
   {
    "duration": 3,
    "start_time": "2022-11-06T11:10:27.313Z"
   },
   {
    "duration": 754,
    "start_time": "2022-11-06T11:10:38.019Z"
   },
   {
    "duration": 5,
    "start_time": "2022-11-06T11:11:52.921Z"
   },
   {
    "duration": 631,
    "start_time": "2022-11-06T11:11:52.938Z"
   },
   {
    "duration": 62,
    "start_time": "2022-11-06T11:11:53.571Z"
   },
   {
    "duration": 4,
    "start_time": "2022-11-06T11:11:53.635Z"
   },
   {
    "duration": 16,
    "start_time": "2022-11-06T11:11:53.641Z"
   },
   {
    "duration": 5,
    "start_time": "2022-11-06T11:11:53.659Z"
   },
   {
    "duration": 183,
    "start_time": "2022-11-06T11:11:53.665Z"
   },
   {
    "duration": 283,
    "start_time": "2022-11-06T11:11:53.850Z"
   },
   {
    "duration": 5,
    "start_time": "2022-11-06T11:11:54.134Z"
   },
   {
    "duration": 10,
    "start_time": "2022-11-06T11:11:54.141Z"
   },
   {
    "duration": 22,
    "start_time": "2022-11-06T11:11:54.154Z"
   },
   {
    "duration": 31,
    "start_time": "2022-11-06T11:11:54.178Z"
   },
   {
    "duration": 10,
    "start_time": "2022-11-06T11:11:54.211Z"
   },
   {
    "duration": 13,
    "start_time": "2022-11-06T11:11:54.222Z"
   },
   {
    "duration": 6,
    "start_time": "2022-11-06T11:11:54.237Z"
   },
   {
    "duration": 10,
    "start_time": "2022-11-06T11:11:54.244Z"
   },
   {
    "duration": 6,
    "start_time": "2022-11-06T11:11:54.255Z"
   },
   {
    "duration": 9,
    "start_time": "2022-11-06T11:11:54.262Z"
   },
   {
    "duration": 10,
    "start_time": "2022-11-06T11:11:54.272Z"
   },
   {
    "duration": 26,
    "start_time": "2022-11-06T11:11:54.284Z"
   },
   {
    "duration": 6,
    "start_time": "2022-11-06T11:11:54.311Z"
   },
   {
    "duration": 192,
    "start_time": "2022-11-06T11:11:54.318Z"
   },
   {
    "duration": 209,
    "start_time": "2022-11-06T11:11:54.511Z"
   },
   {
    "duration": 3,
    "start_time": "2022-11-06T11:11:54.721Z"
   },
   {
    "duration": 9,
    "start_time": "2022-11-06T11:11:54.726Z"
   },
   {
    "duration": 3464,
    "start_time": "2022-11-06T11:11:54.736Z"
   },
   {
    "duration": 7,
    "start_time": "2022-11-06T11:11:58.202Z"
   },
   {
    "duration": 4,
    "start_time": "2022-11-06T11:11:58.210Z"
   },
   {
    "duration": 553,
    "start_time": "2022-11-06T11:11:58.217Z"
   },
   {
    "duration": 1379,
    "start_time": "2022-11-06T11:11:58.771Z"
   },
   {
    "duration": 3,
    "start_time": "2022-11-06T11:12:00.152Z"
   },
   {
    "duration": 30,
    "start_time": "2022-11-06T11:12:00.156Z"
   },
   {
    "duration": 4,
    "start_time": "2022-11-06T11:12:13.251Z"
   },
   {
    "duration": 6,
    "start_time": "2022-11-06T11:12:41.865Z"
   },
   {
    "duration": 622,
    "start_time": "2022-11-06T11:12:49.921Z"
   },
   {
    "duration": 46,
    "start_time": "2022-11-06T11:12:55.373Z"
   },
   {
    "duration": 3,
    "start_time": "2022-11-06T11:13:04.697Z"
   },
   {
    "duration": 4,
    "start_time": "2022-11-06T11:13:08.045Z"
   },
   {
    "duration": 3,
    "start_time": "2022-11-06T11:13:10.988Z"
   },
   {
    "duration": 165,
    "start_time": "2022-11-06T11:13:13.418Z"
   },
   {
    "duration": 246,
    "start_time": "2022-11-06T11:13:28.257Z"
   },
   {
    "duration": 5,
    "start_time": "2022-11-06T11:13:33.672Z"
   },
   {
    "duration": 4,
    "start_time": "2022-11-06T11:14:20.282Z"
   },
   {
    "duration": 19,
    "start_time": "2022-11-06T11:14:23.578Z"
   },
   {
    "duration": 6,
    "start_time": "2022-11-06T11:14:27.080Z"
   },
   {
    "duration": 5,
    "start_time": "2022-11-06T11:14:31.121Z"
   },
   {
    "duration": 11,
    "start_time": "2022-11-06T11:14:33.245Z"
   },
   {
    "duration": 7,
    "start_time": "2022-11-06T11:14:36.243Z"
   },
   {
    "duration": 8,
    "start_time": "2022-11-06T11:14:40.056Z"
   },
   {
    "duration": 5,
    "start_time": "2022-11-06T11:14:43.067Z"
   },
   {
    "duration": 6,
    "start_time": "2022-11-06T11:14:46.706Z"
   },
   {
    "duration": 8,
    "start_time": "2022-11-06T11:14:52.714Z"
   },
   {
    "duration": 6,
    "start_time": "2022-11-06T11:15:00.417Z"
   },
   {
    "duration": 4,
    "start_time": "2022-11-06T11:15:08.745Z"
   },
   {
    "duration": 180,
    "start_time": "2022-11-06T11:15:15.898Z"
   },
   {
    "duration": 220,
    "start_time": "2022-11-06T11:15:23.756Z"
   },
   {
    "duration": 3,
    "start_time": "2022-11-06T11:15:27.163Z"
   },
   {
    "duration": 5,
    "start_time": "2022-11-06T11:15:32.963Z"
   },
   {
    "duration": 3632,
    "start_time": "2022-11-06T11:15:41.268Z"
   },
   {
    "duration": 4,
    "start_time": "2022-11-06T11:15:51.411Z"
   },
   {
    "duration": 4,
    "start_time": "2022-11-06T11:15:54.698Z"
   },
   {
    "duration": 1298,
    "start_time": "2022-11-06T11:16:00.949Z"
   },
   {
    "duration": 3,
    "start_time": "2022-11-06T11:16:08.874Z"
   },
   {
    "duration": 15,
    "start_time": "2022-11-06T11:16:11.609Z"
   },
   {
    "duration": 10,
    "start_time": "2022-11-06T11:16:17.267Z"
   },
   {
    "duration": 7,
    "start_time": "2022-11-06T11:16:24.149Z"
   },
   {
    "duration": 7,
    "start_time": "2022-11-06T11:16:28.890Z"
   },
   {
    "duration": 3,
    "start_time": "2022-11-06T11:16:36.541Z"
   },
   {
    "duration": 3,
    "start_time": "2022-11-06T11:16:42.713Z"
   },
   {
    "duration": 499666,
    "start_time": "2022-11-06T11:16:46.844Z"
   },
   {
    "duration": 4,
    "start_time": "2022-11-06T11:27:31.100Z"
   },
   {
    "duration": 3,
    "start_time": "2022-11-06T11:27:48.648Z"
   },
   {
    "duration": 550171,
    "start_time": "2022-11-06T11:27:53.949Z"
   },
   {
    "duration": 91,
    "start_time": "2022-11-06T11:37:04.122Z"
   },
   {
    "duration": 4,
    "start_time": "2022-11-06T11:38:12.385Z"
   },
   {
    "duration": 217,
    "start_time": "2022-11-06T11:38:38.001Z"
   },
   {
    "duration": 12,
    "start_time": "2022-11-06T11:54:40.635Z"
   },
   {
    "duration": 17,
    "start_time": "2022-11-06T12:09:02.214Z"
   },
   {
    "duration": 5,
    "start_time": "2022-11-06T12:09:38.273Z"
   },
   {
    "duration": 4,
    "start_time": "2022-11-06T12:10:06.071Z"
   },
   {
    "duration": 5,
    "start_time": "2022-11-06T12:10:30.421Z"
   },
   {
    "duration": 13,
    "start_time": "2022-11-06T12:10:54.103Z"
   },
   {
    "duration": 26,
    "start_time": "2022-11-06T12:11:59.446Z"
   },
   {
    "duration": 19,
    "start_time": "2022-11-06T12:13:25.667Z"
   },
   {
    "duration": 2271,
    "start_time": "2022-11-06T12:14:43.298Z"
   },
   {
    "duration": 13,
    "start_time": "2022-11-06T12:17:17.594Z"
   },
   {
    "duration": 4,
    "start_time": "2022-11-06T12:17:42.874Z"
   },
   {
    "duration": 19,
    "start_time": "2022-11-06T12:23:37.197Z"
   },
   {
    "duration": 15,
    "start_time": "2022-11-06T12:27:17.913Z"
   },
   {
    "duration": 16,
    "start_time": "2022-11-06T12:34:43.084Z"
   },
   {
    "duration": 20,
    "start_time": "2022-11-06T12:35:28.057Z"
   },
   {
    "duration": 14,
    "start_time": "2022-11-06T12:36:05.981Z"
   },
   {
    "duration": 15,
    "start_time": "2022-11-06T12:36:34.414Z"
   },
   {
    "duration": 10,
    "start_time": "2022-11-06T12:37:50.562Z"
   },
   {
    "duration": 9,
    "start_time": "2022-11-06T12:39:12.664Z"
   },
   {
    "duration": 8,
    "start_time": "2022-11-06T12:40:02.408Z"
   },
   {
    "duration": 5,
    "start_time": "2022-11-06T12:40:06.672Z"
   },
   {
    "duration": 14,
    "start_time": "2022-11-06T12:40:29.360Z"
   },
   {
    "duration": 27,
    "start_time": "2022-11-06T12:42:58.037Z"
   },
   {
    "duration": 6,
    "start_time": "2022-11-06T12:46:52.068Z"
   },
   {
    "duration": 20,
    "start_time": "2022-11-06T12:46:58.619Z"
   },
   {
    "duration": 20,
    "start_time": "2022-11-06T12:48:34.202Z"
   },
   {
    "duration": 3,
    "start_time": "2022-11-06T12:53:01.096Z"
   },
   {
    "duration": 5,
    "start_time": "2022-11-06T12:56:15.451Z"
   },
   {
    "duration": 10,
    "start_time": "2022-11-06T12:58:36.709Z"
   },
   {
    "duration": 4,
    "start_time": "2022-11-06T12:59:22.383Z"
   },
   {
    "duration": 22,
    "start_time": "2022-11-06T13:00:37.404Z"
   },
   {
    "duration": 16,
    "start_time": "2022-11-06T13:01:25.469Z"
   },
   {
    "duration": 6,
    "start_time": "2022-11-06T13:01:42.390Z"
   },
   {
    "duration": 18,
    "start_time": "2022-11-06T13:03:01.062Z"
   },
   {
    "duration": 4,
    "start_time": "2022-11-06T13:03:24.450Z"
   },
   {
    "duration": 57,
    "start_time": "2022-11-06T13:03:28.957Z"
   },
   {
    "duration": 57,
    "start_time": "2022-11-06T13:05:30.081Z"
   },
   {
    "duration": 12,
    "start_time": "2022-11-06T13:09:07.513Z"
   },
   {
    "duration": 54,
    "start_time": "2022-11-06T13:10:38.967Z"
   },
   {
    "duration": 4,
    "start_time": "2022-11-06T13:11:11.852Z"
   },
   {
    "duration": 40,
    "start_time": "2022-11-06T13:11:14.718Z"
   },
   {
    "duration": 4,
    "start_time": "2022-11-06T13:12:12.722Z"
   },
   {
    "duration": 16,
    "start_time": "2022-11-06T13:13:21.014Z"
   },
   {
    "duration": 2,
    "start_time": "2022-11-06T13:15:08.892Z"
   },
   {
    "duration": 4,
    "start_time": "2022-11-06T13:18:44.231Z"
   },
   {
    "duration": 3,
    "start_time": "2022-11-06T13:19:03.158Z"
   },
   {
    "duration": 49,
    "start_time": "2022-11-06T13:19:57.433Z"
   },
   {
    "duration": 4,
    "start_time": "2022-11-06T13:20:23.836Z"
   },
   {
    "duration": 6,
    "start_time": "2022-11-06T13:23:26.667Z"
   },
   {
    "duration": 681,
    "start_time": "2022-11-06T13:23:26.675Z"
   },
   {
    "duration": 52,
    "start_time": "2022-11-06T13:23:27.358Z"
   },
   {
    "duration": 4,
    "start_time": "2022-11-06T13:23:27.411Z"
   },
   {
    "duration": 28,
    "start_time": "2022-11-06T13:23:27.417Z"
   },
   {
    "duration": 23,
    "start_time": "2022-11-06T13:23:27.446Z"
   },
   {
    "duration": 189,
    "start_time": "2022-11-06T13:23:27.471Z"
   },
   {
    "duration": 174,
    "start_time": "2022-11-06T13:23:27.662Z"
   },
   {
    "duration": 4,
    "start_time": "2022-11-06T13:23:27.838Z"
   },
   {
    "duration": 65,
    "start_time": "2022-11-06T13:23:27.844Z"
   },
   {
    "duration": 59,
    "start_time": "2022-11-06T13:23:27.912Z"
   },
   {
    "duration": 40,
    "start_time": "2022-11-06T13:23:27.973Z"
   },
   {
    "duration": 37,
    "start_time": "2022-11-06T13:23:28.014Z"
   },
   {
    "duration": 54,
    "start_time": "2022-11-06T13:23:28.053Z"
   },
   {
    "duration": 26,
    "start_time": "2022-11-06T13:23:28.108Z"
   },
   {
    "duration": 20,
    "start_time": "2022-11-06T13:23:28.136Z"
   },
   {
    "duration": 22,
    "start_time": "2022-11-06T13:23:28.157Z"
   },
   {
    "duration": 108,
    "start_time": "2022-11-06T13:23:28.181Z"
   },
   {
    "duration": 17,
    "start_time": "2022-11-06T13:23:28.290Z"
   },
   {
    "duration": 28,
    "start_time": "2022-11-06T13:23:28.309Z"
   },
   {
    "duration": 12,
    "start_time": "2022-11-06T13:23:28.339Z"
   },
   {
    "duration": 198,
    "start_time": "2022-11-06T13:23:28.352Z"
   },
   {
    "duration": 209,
    "start_time": "2022-11-06T13:23:28.551Z"
   },
   {
    "duration": 3,
    "start_time": "2022-11-06T13:23:28.762Z"
   },
   {
    "duration": 51,
    "start_time": "2022-11-06T13:23:28.767Z"
   },
   {
    "duration": 3469,
    "start_time": "2022-11-06T13:23:28.819Z"
   },
   {
    "duration": 3,
    "start_time": "2022-11-06T13:23:32.290Z"
   },
   {
    "duration": 13,
    "start_time": "2022-11-06T13:23:32.295Z"
   },
   {
    "duration": 617,
    "start_time": "2022-11-06T13:23:32.312Z"
   },
   {
    "duration": 1336,
    "start_time": "2022-11-06T13:23:32.931Z"
   },
   {
    "duration": 3,
    "start_time": "2022-11-06T13:23:34.268Z"
   },
   {
    "duration": 38,
    "start_time": "2022-11-06T13:23:34.273Z"
   },
   {
    "duration": 48,
    "start_time": "2022-11-06T13:23:34.313Z"
   },
   {
    "duration": 16,
    "start_time": "2022-11-06T13:23:34.362Z"
   },
   {
    "duration": 98,
    "start_time": "2022-11-06T13:23:34.380Z"
   },
   {
    "duration": 12,
    "start_time": "2022-11-06T13:23:34.479Z"
   },
   {
    "duration": 87,
    "start_time": "2022-11-06T13:23:34.493Z"
   },
   {
    "duration": 3,
    "start_time": "2022-11-06T13:23:34.582Z"
   },
   {
    "duration": 24,
    "start_time": "2022-11-06T13:23:34.587Z"
   },
   {
    "duration": 54,
    "start_time": "2022-11-06T13:23:34.612Z"
   },
   {
    "duration": 20,
    "start_time": "2022-11-06T13:23:34.667Z"
   },
   {
    "duration": 35,
    "start_time": "2022-11-06T13:23:34.689Z"
   },
   {
    "duration": 41,
    "start_time": "2022-11-06T13:23:34.726Z"
   },
   {
    "duration": 18,
    "start_time": "2022-11-06T13:23:34.769Z"
   },
   {
    "duration": 46,
    "start_time": "2022-11-06T13:23:34.789Z"
   },
   {
    "duration": 23,
    "start_time": "2022-11-06T13:23:34.837Z"
   },
   {
    "duration": 28,
    "start_time": "2022-11-06T13:23:34.861Z"
   },
   {
    "duration": 691223,
    "start_time": "2022-11-06T13:23:34.891Z"
   },
   {
    "duration": 4,
    "start_time": "2022-11-06T13:35:06.116Z"
   },
   {
    "duration": 7,
    "start_time": "2022-11-06T13:35:06.122Z"
   },
   {
    "duration": 591883,
    "start_time": "2022-11-06T13:35:06.131Z"
   },
   {
    "duration": 3,
    "start_time": "2022-11-06T13:44:58.016Z"
   },
   {
    "duration": 396,
    "start_time": "2022-11-06T13:44:58.021Z"
   },
   {
    "duration": 0,
    "start_time": "2022-11-06T13:44:58.419Z"
   },
   {
    "duration": 0,
    "start_time": "2022-11-06T13:44:58.420Z"
   },
   {
    "duration": 0,
    "start_time": "2022-11-06T13:44:58.421Z"
   },
   {
    "duration": 5,
    "start_time": "2022-11-06T13:48:30.245Z"
   },
   {
    "duration": 9,
    "start_time": "2022-11-06T13:51:56.129Z"
   },
   {
    "duration": 213,
    "start_time": "2022-11-06T13:53:23.300Z"
   },
   {
    "duration": 8,
    "start_time": "2022-11-06T13:53:50.236Z"
   },
   {
    "duration": 4,
    "start_time": "2022-11-06T14:00:19.119Z"
   },
   {
    "duration": 4,
    "start_time": "2022-11-06T14:01:40.043Z"
   },
   {
    "duration": 2,
    "start_time": "2022-11-06T14:15:10.202Z"
   },
   {
    "duration": 4,
    "start_time": "2022-11-06T14:16:24.249Z"
   },
   {
    "duration": 4,
    "start_time": "2022-11-06T14:16:28.508Z"
   },
   {
    "duration": 5,
    "start_time": "2022-11-06T14:16:45.633Z"
   },
   {
    "duration": 4,
    "start_time": "2022-11-06T14:17:44.899Z"
   },
   {
    "duration": 4,
    "start_time": "2022-11-06T14:17:56.750Z"
   },
   {
    "duration": 4,
    "start_time": "2022-11-06T14:20:25.644Z"
   },
   {
    "duration": 3,
    "start_time": "2022-11-06T14:21:12.621Z"
   },
   {
    "duration": 3,
    "start_time": "2022-11-06T14:21:39.013Z"
   },
   {
    "duration": 4,
    "start_time": "2022-11-06T14:22:10.597Z"
   },
   {
    "duration": 6,
    "start_time": "2022-11-06T14:22:20.771Z"
   },
   {
    "duration": 703,
    "start_time": "2022-11-06T14:22:20.778Z"
   },
   {
    "duration": 54,
    "start_time": "2022-11-06T14:22:21.483Z"
   },
   {
    "duration": 13,
    "start_time": "2022-11-06T14:22:21.538Z"
   },
   {
    "duration": 50,
    "start_time": "2022-11-06T14:22:21.553Z"
   },
   {
    "duration": 69,
    "start_time": "2022-11-06T14:22:21.605Z"
   },
   {
    "duration": 181,
    "start_time": "2022-11-06T14:22:21.676Z"
   },
   {
    "duration": 175,
    "start_time": "2022-11-06T14:22:21.859Z"
   },
   {
    "duration": 5,
    "start_time": "2022-11-06T14:22:22.035Z"
   },
   {
    "duration": 44,
    "start_time": "2022-11-06T14:22:22.041Z"
   },
   {
    "duration": 37,
    "start_time": "2022-11-06T14:22:22.087Z"
   },
   {
    "duration": 27,
    "start_time": "2022-11-06T14:22:22.125Z"
   },
   {
    "duration": 58,
    "start_time": "2022-11-06T14:22:22.154Z"
   },
   {
    "duration": 37,
    "start_time": "2022-11-06T14:22:22.214Z"
   },
   {
    "duration": 22,
    "start_time": "2022-11-06T14:22:22.253Z"
   },
   {
    "duration": 24,
    "start_time": "2022-11-06T14:22:22.277Z"
   },
   {
    "duration": 40,
    "start_time": "2022-11-06T14:22:22.303Z"
   },
   {
    "duration": 34,
    "start_time": "2022-11-06T14:22:22.345Z"
   },
   {
    "duration": 29,
    "start_time": "2022-11-06T14:22:22.381Z"
   },
   {
    "duration": 30,
    "start_time": "2022-11-06T14:22:22.411Z"
   },
   {
    "duration": 19,
    "start_time": "2022-11-06T14:22:22.442Z"
   },
   {
    "duration": 402,
    "start_time": "2022-11-06T14:22:22.463Z"
   },
   {
    "duration": 212,
    "start_time": "2022-11-06T14:22:22.867Z"
   },
   {
    "duration": 4,
    "start_time": "2022-11-06T14:23:31.052Z"
   },
   {
    "duration": 6,
    "start_time": "2022-11-06T14:23:41.017Z"
   },
   {
    "duration": 610,
    "start_time": "2022-11-06T14:23:41.025Z"
   },
   {
    "duration": 53,
    "start_time": "2022-11-06T14:23:41.636Z"
   },
   {
    "duration": 3,
    "start_time": "2022-11-06T14:23:41.691Z"
   },
   {
    "duration": 15,
    "start_time": "2022-11-06T14:23:41.696Z"
   },
   {
    "duration": 12,
    "start_time": "2022-11-06T14:23:41.712Z"
   },
   {
    "duration": 183,
    "start_time": "2022-11-06T14:23:41.726Z"
   },
   {
    "duration": 170,
    "start_time": "2022-11-06T14:23:41.910Z"
   },
   {
    "duration": 4,
    "start_time": "2022-11-06T14:23:42.081Z"
   },
   {
    "duration": 6,
    "start_time": "2022-11-06T14:23:42.086Z"
   },
   {
    "duration": 32,
    "start_time": "2022-11-06T14:23:42.094Z"
   },
   {
    "duration": 5,
    "start_time": "2022-11-06T14:23:42.128Z"
   },
   {
    "duration": 8,
    "start_time": "2022-11-06T14:23:42.135Z"
   },
   {
    "duration": 13,
    "start_time": "2022-11-06T14:23:42.144Z"
   },
   {
    "duration": 3,
    "start_time": "2022-11-06T14:23:45.805Z"
   },
   {
    "duration": 3,
    "start_time": "2022-11-06T14:24:19.849Z"
   },
   {
    "duration": 3,
    "start_time": "2022-11-06T14:24:39.360Z"
   },
   {
    "duration": 6,
    "start_time": "2022-11-06T14:24:47.578Z"
   },
   {
    "duration": 640,
    "start_time": "2022-11-06T14:24:47.585Z"
   },
   {
    "duration": 49,
    "start_time": "2022-11-06T14:24:48.226Z"
   },
   {
    "duration": 5,
    "start_time": "2022-11-06T14:24:48.276Z"
   },
   {
    "duration": 32,
    "start_time": "2022-11-06T14:24:48.283Z"
   },
   {
    "duration": 20,
    "start_time": "2022-11-06T14:24:48.316Z"
   },
   {
    "duration": 190,
    "start_time": "2022-11-06T14:24:48.338Z"
   },
   {
    "duration": 170,
    "start_time": "2022-11-06T14:24:48.530Z"
   },
   {
    "duration": 7,
    "start_time": "2022-11-06T14:24:48.702Z"
   },
   {
    "duration": 8,
    "start_time": "2022-11-06T14:24:48.711Z"
   },
   {
    "duration": 22,
    "start_time": "2022-11-06T14:24:48.722Z"
   },
   {
    "duration": 7,
    "start_time": "2022-11-06T14:24:48.746Z"
   },
   {
    "duration": 10,
    "start_time": "2022-11-06T14:24:48.754Z"
   },
   {
    "duration": 11,
    "start_time": "2022-11-06T14:24:48.766Z"
   },
   {
    "duration": 3,
    "start_time": "2022-11-06T14:24:48.779Z"
   },
   {
    "duration": 28,
    "start_time": "2022-11-06T14:24:48.784Z"
   },
   {
    "duration": 12,
    "start_time": "2022-11-06T14:24:48.814Z"
   },
   {
    "duration": 7,
    "start_time": "2022-11-06T14:24:48.828Z"
   },
   {
    "duration": 5,
    "start_time": "2022-11-06T14:24:48.837Z"
   },
   {
    "duration": 11,
    "start_time": "2022-11-06T14:24:48.844Z"
   },
   {
    "duration": 6,
    "start_time": "2022-11-06T14:24:48.857Z"
   },
   {
    "duration": 8,
    "start_time": "2022-11-06T14:24:48.864Z"
   },
   {
    "duration": 217,
    "start_time": "2022-11-06T14:24:48.874Z"
   },
   {
    "duration": 207,
    "start_time": "2022-11-06T14:24:49.092Z"
   },
   {
    "duration": 8,
    "start_time": "2022-11-06T14:24:49.301Z"
   },
   {
    "duration": 5,
    "start_time": "2022-11-06T14:24:49.310Z"
   },
   {
    "duration": 3530,
    "start_time": "2022-11-06T14:24:49.317Z"
   },
   {
    "duration": 6,
    "start_time": "2022-11-06T14:24:52.850Z"
   },
   {
    "duration": 7,
    "start_time": "2022-11-06T14:24:52.859Z"
   },
   {
    "duration": 10,
    "start_time": "2022-11-06T14:24:52.868Z"
   },
   {
    "duration": 580,
    "start_time": "2022-11-06T14:24:52.879Z"
   },
   {
    "duration": 3,
    "start_time": "2022-11-06T14:25:18.911Z"
   },
   {
    "duration": 6,
    "start_time": "2022-11-06T14:25:26.052Z"
   },
   {
    "duration": 610,
    "start_time": "2022-11-06T14:25:26.636Z"
   },
   {
    "duration": 48,
    "start_time": "2022-11-06T14:25:27.249Z"
   },
   {
    "duration": 3,
    "start_time": "2022-11-06T14:25:27.308Z"
   },
   {
    "duration": 7,
    "start_time": "2022-11-06T14:25:27.313Z"
   },
   {
    "duration": 7,
    "start_time": "2022-11-06T14:25:27.323Z"
   },
   {
    "duration": 177,
    "start_time": "2022-11-06T14:25:27.332Z"
   },
   {
    "duration": 174,
    "start_time": "2022-11-06T14:25:27.510Z"
   },
   {
    "duration": 4,
    "start_time": "2022-11-06T14:25:27.685Z"
   },
   {
    "duration": 10,
    "start_time": "2022-11-06T14:25:27.690Z"
   },
   {
    "duration": 22,
    "start_time": "2022-11-06T14:25:27.709Z"
   },
   {
    "duration": 7,
    "start_time": "2022-11-06T14:25:27.733Z"
   },
   {
    "duration": 8,
    "start_time": "2022-11-06T14:25:27.742Z"
   },
   {
    "duration": 11,
    "start_time": "2022-11-06T14:25:27.752Z"
   },
   {
    "duration": 4,
    "start_time": "2022-11-06T14:25:27.766Z"
   },
   {
    "duration": 8,
    "start_time": "2022-11-06T14:25:27.771Z"
   },
   {
    "duration": 30,
    "start_time": "2022-11-06T14:25:27.780Z"
   },
   {
    "duration": 132,
    "start_time": "2022-11-06T14:25:27.812Z"
   },
   {
    "duration": 6,
    "start_time": "2022-11-06T14:25:27.946Z"
   },
   {
    "duration": 6,
    "start_time": "2022-11-06T14:25:27.953Z"
   },
   {
    "duration": 5,
    "start_time": "2022-11-06T14:25:27.960Z"
   },
   {
    "duration": 7,
    "start_time": "2022-11-06T14:25:27.967Z"
   },
   {
    "duration": 215,
    "start_time": "2022-11-06T14:25:27.975Z"
   },
   {
    "duration": 207,
    "start_time": "2022-11-06T14:25:28.191Z"
   },
   {
    "duration": 10,
    "start_time": "2022-11-06T14:25:28.400Z"
   },
   {
    "duration": 6,
    "start_time": "2022-11-06T14:25:28.411Z"
   },
   {
    "duration": 3474,
    "start_time": "2022-11-06T14:25:28.418Z"
   },
   {
    "duration": 5,
    "start_time": "2022-11-06T14:25:31.893Z"
   },
   {
    "duration": 11,
    "start_time": "2022-11-06T14:25:31.899Z"
   },
   {
    "duration": 15,
    "start_time": "2022-11-06T14:25:31.911Z"
   },
   {
    "duration": 534,
    "start_time": "2022-11-06T14:25:31.928Z"
   },
   {
    "duration": 4,
    "start_time": "2022-11-06T14:25:32.464Z"
   },
   {
    "duration": 6,
    "start_time": "2022-11-06T14:25:32.469Z"
   },
   {
    "duration": 5,
    "start_time": "2022-11-06T14:25:32.476Z"
   },
   {
    "duration": 1371,
    "start_time": "2022-11-06T14:25:32.482Z"
   },
   {
    "duration": 3,
    "start_time": "2022-11-06T14:25:33.855Z"
   },
   {
    "duration": 24,
    "start_time": "2022-11-06T14:25:33.859Z"
   },
   {
    "duration": 13,
    "start_time": "2022-11-06T14:25:33.885Z"
   },
   {
    "duration": 29,
    "start_time": "2022-11-06T14:25:33.900Z"
   },
   {
    "duration": 3,
    "start_time": "2022-11-06T14:25:40.632Z"
   },
   {
    "duration": 4,
    "start_time": "2022-11-06T14:26:02.575Z"
   },
   {
    "duration": 6,
    "start_time": "2022-11-06T14:26:18.930Z"
   },
   {
    "duration": 680,
    "start_time": "2022-11-06T14:26:18.938Z"
   },
   {
    "duration": 49,
    "start_time": "2022-11-06T14:26:19.620Z"
   },
   {
    "duration": 3,
    "start_time": "2022-11-06T14:26:19.671Z"
   },
   {
    "duration": 5,
    "start_time": "2022-11-06T14:26:19.677Z"
   },
   {
    "duration": 26,
    "start_time": "2022-11-06T14:26:19.683Z"
   },
   {
    "duration": 198,
    "start_time": "2022-11-06T14:26:19.712Z"
   },
   {
    "duration": 178,
    "start_time": "2022-11-06T14:26:19.911Z"
   },
   {
    "duration": 4,
    "start_time": "2022-11-06T14:26:20.091Z"
   },
   {
    "duration": 45,
    "start_time": "2022-11-06T14:26:20.096Z"
   },
   {
    "duration": 45,
    "start_time": "2022-11-06T14:26:20.142Z"
   },
   {
    "duration": 25,
    "start_time": "2022-11-06T14:26:20.189Z"
   },
   {
    "duration": 33,
    "start_time": "2022-11-06T14:26:20.216Z"
   },
   {
    "duration": 15,
    "start_time": "2022-11-06T14:26:20.253Z"
   },
   {
    "duration": 11,
    "start_time": "2022-11-06T14:26:20.270Z"
   },
   {
    "duration": 14,
    "start_time": "2022-11-06T14:26:20.283Z"
   },
   {
    "duration": 13,
    "start_time": "2022-11-06T14:26:20.298Z"
   },
   {
    "duration": 6,
    "start_time": "2022-11-06T14:26:20.312Z"
   },
   {
    "duration": 7,
    "start_time": "2022-11-06T14:26:20.320Z"
   },
   {
    "duration": 24,
    "start_time": "2022-11-06T14:26:20.328Z"
   },
   {
    "duration": 10,
    "start_time": "2022-11-06T14:26:20.353Z"
   },
   {
    "duration": 21,
    "start_time": "2022-11-06T14:26:20.364Z"
   },
   {
    "duration": 191,
    "start_time": "2022-11-06T14:26:20.386Z"
   },
   {
    "duration": 202,
    "start_time": "2022-11-06T14:26:20.579Z"
   },
   {
    "duration": 3,
    "start_time": "2022-11-06T14:26:20.783Z"
   },
   {
    "duration": 33,
    "start_time": "2022-11-06T14:26:20.788Z"
   },
   {
    "duration": 3471,
    "start_time": "2022-11-06T14:26:20.823Z"
   },
   {
    "duration": 5,
    "start_time": "2022-11-06T14:26:24.295Z"
   },
   {
    "duration": 10,
    "start_time": "2022-11-06T14:26:24.302Z"
   },
   {
    "duration": 7,
    "start_time": "2022-11-06T14:26:24.314Z"
   },
   {
    "duration": 780,
    "start_time": "2022-11-06T14:26:24.322Z"
   },
   {
    "duration": 6,
    "start_time": "2022-11-06T14:26:25.104Z"
   },
   {
    "duration": 17,
    "start_time": "2022-11-06T14:26:25.111Z"
   },
   {
    "duration": 5,
    "start_time": "2022-11-06T14:26:25.130Z"
   },
   {
    "duration": 1321,
    "start_time": "2022-11-06T14:26:25.137Z"
   },
   {
    "duration": 4,
    "start_time": "2022-11-06T14:26:26.460Z"
   },
   {
    "duration": 8,
    "start_time": "2022-11-06T14:26:26.465Z"
   },
   {
    "duration": 4,
    "start_time": "2022-11-06T14:26:26.474Z"
   },
   {
    "duration": 30,
    "start_time": "2022-11-06T14:26:26.480Z"
   },
   {
    "duration": 4,
    "start_time": "2022-11-06T14:26:26.511Z"
   },
   {
    "duration": 7,
    "start_time": "2022-11-06T14:26:26.518Z"
   },
   {
    "duration": 9,
    "start_time": "2022-11-06T14:26:26.527Z"
   },
   {
    "duration": 45,
    "start_time": "2022-11-06T14:26:26.538Z"
   },
   {
    "duration": 3,
    "start_time": "2022-11-06T14:26:26.584Z"
   },
   {
    "duration": 53,
    "start_time": "2022-11-06T14:26:26.609Z"
   },
   {
    "duration": 3,
    "start_time": "2022-11-06T14:26:26.664Z"
   },
   {
    "duration": 7,
    "start_time": "2022-11-06T14:26:26.669Z"
   },
   {
    "duration": 4,
    "start_time": "2022-11-06T14:26:26.678Z"
   },
   {
    "duration": 3,
    "start_time": "2022-11-06T14:27:01.864Z"
   },
   {
    "duration": 4,
    "start_time": "2022-11-06T14:27:11.590Z"
   },
   {
    "duration": 5,
    "start_time": "2022-11-06T14:27:18.512Z"
   },
   {
    "duration": 637,
    "start_time": "2022-11-06T14:27:18.519Z"
   },
   {
    "duration": 58,
    "start_time": "2022-11-06T14:27:19.158Z"
   },
   {
    "duration": 3,
    "start_time": "2022-11-06T14:27:19.217Z"
   },
   {
    "duration": 6,
    "start_time": "2022-11-06T14:27:19.222Z"
   },
   {
    "duration": 3,
    "start_time": "2022-11-06T14:27:19.230Z"
   },
   {
    "duration": 204,
    "start_time": "2022-11-06T14:27:19.235Z"
   },
   {
    "duration": 175,
    "start_time": "2022-11-06T14:27:19.440Z"
   },
   {
    "duration": 4,
    "start_time": "2022-11-06T14:27:19.616Z"
   },
   {
    "duration": 26,
    "start_time": "2022-11-06T14:27:19.621Z"
   },
   {
    "duration": 19,
    "start_time": "2022-11-06T14:27:19.650Z"
   },
   {
    "duration": 8,
    "start_time": "2022-11-06T14:27:19.671Z"
   },
   {
    "duration": 6,
    "start_time": "2022-11-06T14:27:19.680Z"
   },
   {
    "duration": 28,
    "start_time": "2022-11-06T14:27:19.688Z"
   },
   {
    "duration": 3,
    "start_time": "2022-11-06T14:27:19.718Z"
   },
   {
    "duration": 7,
    "start_time": "2022-11-06T14:27:19.723Z"
   },
   {
    "duration": 6,
    "start_time": "2022-11-06T14:27:19.732Z"
   },
   {
    "duration": 6,
    "start_time": "2022-11-06T14:27:19.740Z"
   },
   {
    "duration": 6,
    "start_time": "2022-11-06T14:27:19.748Z"
   },
   {
    "duration": 10,
    "start_time": "2022-11-06T14:27:19.756Z"
   },
   {
    "duration": 8,
    "start_time": "2022-11-06T14:27:19.767Z"
   },
   {
    "duration": 4,
    "start_time": "2022-11-06T14:27:19.810Z"
   },
   {
    "duration": 194,
    "start_time": "2022-11-06T14:27:19.815Z"
   },
   {
    "duration": 207,
    "start_time": "2022-11-06T14:27:20.010Z"
   },
   {
    "duration": 3,
    "start_time": "2022-11-06T14:27:20.218Z"
   },
   {
    "duration": 5,
    "start_time": "2022-11-06T14:27:20.223Z"
   },
   {
    "duration": 3261,
    "start_time": "2022-11-06T14:27:20.230Z"
   },
   {
    "duration": 4,
    "start_time": "2022-11-06T14:27:23.493Z"
   },
   {
    "duration": 4,
    "start_time": "2022-11-06T14:27:23.509Z"
   },
   {
    "duration": 6,
    "start_time": "2022-11-06T14:27:23.515Z"
   },
   {
    "duration": 651,
    "start_time": "2022-11-06T14:27:23.522Z"
   },
   {
    "duration": 3,
    "start_time": "2022-11-06T14:27:24.175Z"
   },
   {
    "duration": 9,
    "start_time": "2022-11-06T14:27:24.180Z"
   },
   {
    "duration": 11,
    "start_time": "2022-11-06T14:27:24.190Z"
   },
   {
    "duration": 1446,
    "start_time": "2022-11-06T14:27:24.202Z"
   },
   {
    "duration": 3,
    "start_time": "2022-11-06T14:27:25.649Z"
   },
   {
    "duration": 20,
    "start_time": "2022-11-06T14:27:25.653Z"
   },
   {
    "duration": 8,
    "start_time": "2022-11-06T14:27:25.675Z"
   },
   {
    "duration": 25,
    "start_time": "2022-11-06T14:27:25.684Z"
   },
   {
    "duration": 3,
    "start_time": "2022-11-06T14:27:29.648Z"
   },
   {
    "duration": 4,
    "start_time": "2022-11-06T14:27:43.569Z"
   },
   {
    "duration": 4,
    "start_time": "2022-11-06T14:28:12.378Z"
   },
   {
    "duration": 6,
    "start_time": "2022-11-06T14:28:51.640Z"
   },
   {
    "duration": 643,
    "start_time": "2022-11-06T14:28:51.647Z"
   },
   {
    "duration": 50,
    "start_time": "2022-11-06T14:28:52.292Z"
   },
   {
    "duration": 3,
    "start_time": "2022-11-06T14:28:52.343Z"
   },
   {
    "duration": 30,
    "start_time": "2022-11-06T14:28:52.348Z"
   },
   {
    "duration": 16,
    "start_time": "2022-11-06T14:28:52.379Z"
   },
   {
    "duration": 200,
    "start_time": "2022-11-06T14:28:52.397Z"
   },
   {
    "duration": 213,
    "start_time": "2022-11-06T14:28:52.598Z"
   },
   {
    "duration": 4,
    "start_time": "2022-11-06T14:28:52.812Z"
   },
   {
    "duration": 19,
    "start_time": "2022-11-06T14:28:52.818Z"
   },
   {
    "duration": 37,
    "start_time": "2022-11-06T14:28:52.840Z"
   },
   {
    "duration": 27,
    "start_time": "2022-11-06T14:28:52.878Z"
   },
   {
    "duration": 21,
    "start_time": "2022-11-06T14:28:52.907Z"
   },
   {
    "duration": 15,
    "start_time": "2022-11-06T14:28:52.929Z"
   },
   {
    "duration": 18,
    "start_time": "2022-11-06T14:28:52.945Z"
   },
   {
    "duration": 27,
    "start_time": "2022-11-06T14:28:52.964Z"
   },
   {
    "duration": 23,
    "start_time": "2022-11-06T14:28:52.992Z"
   },
   {
    "duration": 24,
    "start_time": "2022-11-06T14:28:53.017Z"
   },
   {
    "duration": 19,
    "start_time": "2022-11-06T14:28:53.043Z"
   },
   {
    "duration": 19,
    "start_time": "2022-11-06T14:28:53.064Z"
   },
   {
    "duration": 21,
    "start_time": "2022-11-06T14:28:53.085Z"
   },
   {
    "duration": 4,
    "start_time": "2022-11-06T14:28:53.108Z"
   },
   {
    "duration": 196,
    "start_time": "2022-11-06T14:28:53.114Z"
   },
   {
    "duration": 202,
    "start_time": "2022-11-06T14:28:53.311Z"
   },
   {
    "duration": 4,
    "start_time": "2022-11-06T14:28:53.514Z"
   },
   {
    "duration": 7,
    "start_time": "2022-11-06T14:28:53.519Z"
   },
   {
    "duration": 3574,
    "start_time": "2022-11-06T14:28:53.527Z"
   },
   {
    "duration": 9,
    "start_time": "2022-11-06T14:28:57.103Z"
   },
   {
    "duration": 4,
    "start_time": "2022-11-06T14:28:57.115Z"
   },
   {
    "duration": 5,
    "start_time": "2022-11-06T14:28:57.121Z"
   },
   {
    "duration": 625,
    "start_time": "2022-11-06T14:28:57.127Z"
   },
   {
    "duration": 3,
    "start_time": "2022-11-06T14:28:57.753Z"
   },
   {
    "duration": 8,
    "start_time": "2022-11-06T14:28:57.757Z"
   },
   {
    "duration": 7,
    "start_time": "2022-11-06T14:28:57.766Z"
   },
   {
    "duration": 1274,
    "start_time": "2022-11-06T14:28:57.774Z"
   },
   {
    "duration": 3,
    "start_time": "2022-11-06T14:28:59.049Z"
   },
   {
    "duration": 6,
    "start_time": "2022-11-06T14:28:59.054Z"
   },
   {
    "duration": 4,
    "start_time": "2022-11-06T14:28:59.062Z"
   },
   {
    "duration": 13,
    "start_time": "2022-11-06T14:28:59.068Z"
   },
   {
    "duration": 27,
    "start_time": "2022-11-06T14:28:59.083Z"
   },
   {
    "duration": 3,
    "start_time": "2022-11-06T14:28:59.111Z"
   },
   {
    "duration": 5,
    "start_time": "2022-11-06T14:28:59.116Z"
   },
   {
    "duration": 47,
    "start_time": "2022-11-06T14:28:59.123Z"
   },
   {
    "duration": 3,
    "start_time": "2022-11-06T14:28:59.171Z"
   },
   {
    "duration": 7,
    "start_time": "2022-11-06T14:28:59.175Z"
   },
   {
    "duration": 81,
    "start_time": "2022-11-06T14:28:59.183Z"
   },
   {
    "duration": 3,
    "start_time": "2022-11-06T14:28:59.266Z"
   },
   {
    "duration": 6,
    "start_time": "2022-11-06T14:28:59.271Z"
   },
   {
    "duration": 7,
    "start_time": "2022-11-06T14:28:59.279Z"
   },
   {
    "duration": 14,
    "start_time": "2022-11-06T14:28:59.308Z"
   },
   {
    "duration": 11,
    "start_time": "2022-11-06T14:28:59.323Z"
   },
   {
    "duration": 4,
    "start_time": "2022-11-06T14:29:31.697Z"
   },
   {
    "duration": 6,
    "start_time": "2022-11-06T14:29:40.599Z"
   },
   {
    "duration": 651,
    "start_time": "2022-11-06T14:29:40.607Z"
   },
   {
    "duration": 58,
    "start_time": "2022-11-06T14:29:41.259Z"
   },
   {
    "duration": 3,
    "start_time": "2022-11-06T14:29:41.319Z"
   },
   {
    "duration": 8,
    "start_time": "2022-11-06T14:29:41.324Z"
   },
   {
    "duration": 4,
    "start_time": "2022-11-06T14:29:41.334Z"
   },
   {
    "duration": 185,
    "start_time": "2022-11-06T14:29:41.339Z"
   },
   {
    "duration": 320,
    "start_time": "2022-11-06T14:29:41.526Z"
   },
   {
    "duration": 5,
    "start_time": "2022-11-06T14:29:41.848Z"
   },
   {
    "duration": 8,
    "start_time": "2022-11-06T14:29:41.855Z"
   },
   {
    "duration": 20,
    "start_time": "2022-11-06T14:29:41.864Z"
   },
   {
    "duration": 5,
    "start_time": "2022-11-06T14:29:41.886Z"
   },
   {
    "duration": 20,
    "start_time": "2022-11-06T14:29:41.892Z"
   },
   {
    "duration": 12,
    "start_time": "2022-11-06T14:29:41.913Z"
   },
   {
    "duration": 3,
    "start_time": "2022-11-06T14:29:41.926Z"
   },
   {
    "duration": 6,
    "start_time": "2022-11-06T14:29:41.930Z"
   },
   {
    "duration": 5,
    "start_time": "2022-11-06T14:29:41.938Z"
   },
   {
    "duration": 6,
    "start_time": "2022-11-06T14:29:41.945Z"
   },
   {
    "duration": 7,
    "start_time": "2022-11-06T14:29:41.952Z"
   },
   {
    "duration": 6,
    "start_time": "2022-11-06T14:29:41.960Z"
   },
   {
    "duration": 43,
    "start_time": "2022-11-06T14:29:41.967Z"
   },
   {
    "duration": 4,
    "start_time": "2022-11-06T14:29:42.011Z"
   },
   {
    "duration": 205,
    "start_time": "2022-11-06T14:29:42.017Z"
   },
   {
    "duration": 206,
    "start_time": "2022-11-06T14:29:42.227Z"
   },
   {
    "duration": 4,
    "start_time": "2022-11-06T14:29:42.435Z"
   },
   {
    "duration": 9,
    "start_time": "2022-11-06T14:29:42.440Z"
   },
   {
    "duration": 3537,
    "start_time": "2022-11-06T14:29:42.450Z"
   },
   {
    "duration": 4,
    "start_time": "2022-11-06T14:29:45.989Z"
   },
   {
    "duration": 14,
    "start_time": "2022-11-06T14:29:45.994Z"
   },
   {
    "duration": 5,
    "start_time": "2022-11-06T14:29:46.010Z"
   },
   {
    "duration": 560,
    "start_time": "2022-11-06T14:29:46.016Z"
   },
   {
    "duration": 3,
    "start_time": "2022-11-06T14:29:46.578Z"
   },
   {
    "duration": 5,
    "start_time": "2022-11-06T14:29:46.582Z"
   },
   {
    "duration": 5,
    "start_time": "2022-11-06T14:29:46.589Z"
   },
   {
    "duration": 1341,
    "start_time": "2022-11-06T14:29:46.609Z"
   },
   {
    "duration": 3,
    "start_time": "2022-11-06T14:29:47.951Z"
   },
   {
    "duration": 17,
    "start_time": "2022-11-06T14:29:47.956Z"
   },
   {
    "duration": 14,
    "start_time": "2022-11-06T14:29:47.974Z"
   },
   {
    "duration": 22,
    "start_time": "2022-11-06T14:29:47.989Z"
   },
   {
    "duration": 10,
    "start_time": "2022-11-06T14:29:48.012Z"
   },
   {
    "duration": 18,
    "start_time": "2022-11-06T14:29:48.023Z"
   },
   {
    "duration": 11,
    "start_time": "2022-11-06T14:29:48.042Z"
   },
   {
    "duration": 62,
    "start_time": "2022-11-06T14:29:48.055Z"
   },
   {
    "duration": 3,
    "start_time": "2022-11-06T14:29:48.119Z"
   },
   {
    "duration": 18,
    "start_time": "2022-11-06T14:29:48.124Z"
   },
   {
    "duration": 78,
    "start_time": "2022-11-06T14:29:48.143Z"
   },
   {
    "duration": 4,
    "start_time": "2022-11-06T14:29:48.223Z"
   },
   {
    "duration": 12,
    "start_time": "2022-11-06T14:29:48.228Z"
   },
   {
    "duration": 3,
    "start_time": "2022-11-06T14:29:50.687Z"
   },
   {
    "duration": 5,
    "start_time": "2022-11-06T14:30:27.095Z"
   },
   {
    "duration": 623,
    "start_time": "2022-11-06T14:30:27.103Z"
   },
   {
    "duration": 49,
    "start_time": "2022-11-06T14:30:27.728Z"
   },
   {
    "duration": 3,
    "start_time": "2022-11-06T14:30:27.778Z"
   },
   {
    "duration": 13,
    "start_time": "2022-11-06T14:30:27.783Z"
   },
   {
    "duration": 3,
    "start_time": "2022-11-06T14:30:27.808Z"
   },
   {
    "duration": 180,
    "start_time": "2022-11-06T14:30:27.813Z"
   },
   {
    "duration": 186,
    "start_time": "2022-11-06T14:30:27.995Z"
   },
   {
    "duration": 4,
    "start_time": "2022-11-06T14:30:28.182Z"
   },
   {
    "duration": 21,
    "start_time": "2022-11-06T14:30:28.188Z"
   },
   {
    "duration": 21,
    "start_time": "2022-11-06T14:30:28.213Z"
   },
   {
    "duration": 6,
    "start_time": "2022-11-06T14:30:28.236Z"
   },
   {
    "duration": 5,
    "start_time": "2022-11-06T14:30:28.243Z"
   },
   {
    "duration": 10,
    "start_time": "2022-11-06T14:30:28.250Z"
   },
   {
    "duration": 4,
    "start_time": "2022-11-06T14:30:28.261Z"
   },
   {
    "duration": 6,
    "start_time": "2022-11-06T14:30:28.266Z"
   },
   {
    "duration": 36,
    "start_time": "2022-11-06T14:30:28.274Z"
   },
   {
    "duration": 6,
    "start_time": "2022-11-06T14:30:28.311Z"
   },
   {
    "duration": 7,
    "start_time": "2022-11-06T14:30:28.318Z"
   },
   {
    "duration": 5,
    "start_time": "2022-11-06T14:30:28.327Z"
   },
   {
    "duration": 5,
    "start_time": "2022-11-06T14:30:28.334Z"
   },
   {
    "duration": 6,
    "start_time": "2022-11-06T14:30:28.340Z"
   },
   {
    "duration": 213,
    "start_time": "2022-11-06T14:30:28.348Z"
   },
   {
    "duration": 209,
    "start_time": "2022-11-06T14:30:28.563Z"
   },
   {
    "duration": 4,
    "start_time": "2022-11-06T14:30:28.773Z"
   },
   {
    "duration": 10,
    "start_time": "2022-11-06T14:30:28.778Z"
   },
   {
    "duration": 3406,
    "start_time": "2022-11-06T14:30:28.789Z"
   },
   {
    "duration": 4,
    "start_time": "2022-11-06T14:30:32.196Z"
   },
   {
    "duration": 4,
    "start_time": "2022-11-06T14:30:32.208Z"
   },
   {
    "duration": 11,
    "start_time": "2022-11-06T14:30:32.213Z"
   },
   {
    "duration": 820,
    "start_time": "2022-11-06T14:30:32.226Z"
   },
   {
    "duration": 3,
    "start_time": "2022-11-06T14:30:33.047Z"
   },
   {
    "duration": 7,
    "start_time": "2022-11-06T14:30:33.052Z"
   },
   {
    "duration": 6,
    "start_time": "2022-11-06T14:30:33.060Z"
   },
   {
    "duration": 1314,
    "start_time": "2022-11-06T14:30:33.067Z"
   },
   {
    "duration": 4,
    "start_time": "2022-11-06T14:30:34.382Z"
   },
   {
    "duration": 8,
    "start_time": "2022-11-06T14:30:34.387Z"
   },
   {
    "duration": 15,
    "start_time": "2022-11-06T14:30:34.396Z"
   },
   {
    "duration": 16,
    "start_time": "2022-11-06T14:30:34.412Z"
   },
   {
    "duration": 3,
    "start_time": "2022-11-06T14:30:34.429Z"
   },
   {
    "duration": 6,
    "start_time": "2022-11-06T14:30:34.434Z"
   },
   {
    "duration": 8,
    "start_time": "2022-11-06T14:30:34.442Z"
   },
   {
    "duration": 71,
    "start_time": "2022-11-06T14:30:34.451Z"
   },
   {
    "duration": 3,
    "start_time": "2022-11-06T14:30:34.524Z"
   },
   {
    "duration": 4,
    "start_time": "2022-11-06T14:30:37.769Z"
   },
   {
    "duration": 6,
    "start_time": "2022-11-06T14:31:31.028Z"
   },
   {
    "duration": 667,
    "start_time": "2022-11-06T14:31:31.036Z"
   },
   {
    "duration": 66,
    "start_time": "2022-11-06T14:31:31.705Z"
   },
   {
    "duration": 4,
    "start_time": "2022-11-06T14:31:31.772Z"
   },
   {
    "duration": 44,
    "start_time": "2022-11-06T14:31:31.778Z"
   },
   {
    "duration": 46,
    "start_time": "2022-11-06T14:31:31.824Z"
   },
   {
    "duration": 185,
    "start_time": "2022-11-06T14:31:31.872Z"
   },
   {
    "duration": 179,
    "start_time": "2022-11-06T14:31:32.059Z"
   },
   {
    "duration": 5,
    "start_time": "2022-11-06T14:31:32.239Z"
   },
   {
    "duration": 52,
    "start_time": "2022-11-06T14:31:32.246Z"
   },
   {
    "duration": 42,
    "start_time": "2022-11-06T14:31:32.301Z"
   },
   {
    "duration": 34,
    "start_time": "2022-11-06T14:31:32.345Z"
   },
   {
    "duration": 41,
    "start_time": "2022-11-06T14:31:32.380Z"
   },
   {
    "duration": 47,
    "start_time": "2022-11-06T14:31:32.422Z"
   },
   {
    "duration": 32,
    "start_time": "2022-11-06T14:31:32.471Z"
   },
   {
    "duration": 58,
    "start_time": "2022-11-06T14:31:32.505Z"
   },
   {
    "duration": 44,
    "start_time": "2022-11-06T14:31:32.565Z"
   },
   {
    "duration": 32,
    "start_time": "2022-11-06T14:31:32.611Z"
   },
   {
    "duration": 41,
    "start_time": "2022-11-06T14:31:32.645Z"
   },
   {
    "duration": 45,
    "start_time": "2022-11-06T14:31:32.688Z"
   },
   {
    "duration": 45,
    "start_time": "2022-11-06T14:31:32.736Z"
   },
   {
    "duration": 43,
    "start_time": "2022-11-06T14:31:32.783Z"
   },
   {
    "duration": 214,
    "start_time": "2022-11-06T14:31:32.828Z"
   },
   {
    "duration": 208,
    "start_time": "2022-11-06T14:31:33.043Z"
   },
   {
    "duration": 3,
    "start_time": "2022-11-06T14:31:33.253Z"
   },
   {
    "duration": 24,
    "start_time": "2022-11-06T14:31:33.257Z"
   },
   {
    "duration": 3618,
    "start_time": "2022-11-06T14:31:33.283Z"
   },
   {
    "duration": 8,
    "start_time": "2022-11-06T14:31:36.903Z"
   },
   {
    "duration": 4,
    "start_time": "2022-11-06T14:31:36.914Z"
   },
   {
    "duration": 5,
    "start_time": "2022-11-06T14:31:36.919Z"
   },
   {
    "duration": 627,
    "start_time": "2022-11-06T14:31:36.926Z"
   },
   {
    "duration": 3,
    "start_time": "2022-11-06T14:31:37.555Z"
   },
   {
    "duration": 6,
    "start_time": "2022-11-06T14:31:37.559Z"
   },
   {
    "duration": 10,
    "start_time": "2022-11-06T14:31:37.566Z"
   },
   {
    "duration": 1413,
    "start_time": "2022-11-06T14:31:37.578Z"
   },
   {
    "duration": 3,
    "start_time": "2022-11-06T14:31:38.992Z"
   },
   {
    "duration": 12,
    "start_time": "2022-11-06T14:31:38.997Z"
   },
   {
    "duration": 3,
    "start_time": "2022-11-06T14:31:39.010Z"
   },
   {
    "duration": 14,
    "start_time": "2022-11-06T14:31:39.015Z"
   },
   {
    "duration": 3,
    "start_time": "2022-11-06T14:31:43.155Z"
   },
   {
    "duration": 6,
    "start_time": "2022-11-06T14:32:21.631Z"
   },
   {
    "duration": 629,
    "start_time": "2022-11-06T14:32:21.655Z"
   },
   {
    "duration": 53,
    "start_time": "2022-11-06T14:32:22.286Z"
   },
   {
    "duration": 3,
    "start_time": "2022-11-06T14:32:22.341Z"
   },
   {
    "duration": 27,
    "start_time": "2022-11-06T14:32:22.346Z"
   },
   {
    "duration": 12,
    "start_time": "2022-11-06T14:32:22.376Z"
   },
   {
    "duration": 217,
    "start_time": "2022-11-06T14:32:22.389Z"
   },
   {
    "duration": 230,
    "start_time": "2022-11-06T14:32:22.607Z"
   },
   {
    "duration": 8,
    "start_time": "2022-11-06T14:32:22.839Z"
   },
   {
    "duration": 19,
    "start_time": "2022-11-06T14:32:22.848Z"
   },
   {
    "duration": 28,
    "start_time": "2022-11-06T14:32:22.869Z"
   },
   {
    "duration": 10,
    "start_time": "2022-11-06T14:32:22.899Z"
   },
   {
    "duration": 15,
    "start_time": "2022-11-06T14:32:22.911Z"
   },
   {
    "duration": 12,
    "start_time": "2022-11-06T14:32:22.927Z"
   },
   {
    "duration": 15,
    "start_time": "2022-11-06T14:32:22.942Z"
   },
   {
    "duration": 9,
    "start_time": "2022-11-06T14:32:22.958Z"
   },
   {
    "duration": 13,
    "start_time": "2022-11-06T14:32:22.969Z"
   },
   {
    "duration": 8,
    "start_time": "2022-11-06T14:32:22.983Z"
   },
   {
    "duration": 10,
    "start_time": "2022-11-06T14:32:22.993Z"
   },
   {
    "duration": 8,
    "start_time": "2022-11-06T14:32:23.004Z"
   },
   {
    "duration": 8,
    "start_time": "2022-11-06T14:32:23.014Z"
   },
   {
    "duration": 5,
    "start_time": "2022-11-06T14:32:23.023Z"
   },
   {
    "duration": 198,
    "start_time": "2022-11-06T14:32:23.030Z"
   },
   {
    "duration": 211,
    "start_time": "2022-11-06T14:32:23.230Z"
   },
   {
    "duration": 3,
    "start_time": "2022-11-06T14:32:23.442Z"
   },
   {
    "duration": 10,
    "start_time": "2022-11-06T14:32:23.446Z"
   },
   {
    "duration": 3533,
    "start_time": "2022-11-06T14:32:23.457Z"
   },
   {
    "duration": 4,
    "start_time": "2022-11-06T14:32:26.992Z"
   },
   {
    "duration": 12,
    "start_time": "2022-11-06T14:32:26.997Z"
   },
   {
    "duration": 6,
    "start_time": "2022-11-06T14:32:27.010Z"
   },
   {
    "duration": 556,
    "start_time": "2022-11-06T14:32:27.017Z"
   },
   {
    "duration": 3,
    "start_time": "2022-11-06T14:32:27.575Z"
   },
   {
    "duration": 15,
    "start_time": "2022-11-06T14:32:27.580Z"
   },
   {
    "duration": 9,
    "start_time": "2022-11-06T14:32:27.597Z"
   },
   {
    "duration": 1343,
    "start_time": "2022-11-06T14:32:27.609Z"
   },
   {
    "duration": 3,
    "start_time": "2022-11-06T14:32:28.954Z"
   },
   {
    "duration": 7,
    "start_time": "2022-11-06T14:32:28.958Z"
   },
   {
    "duration": 4,
    "start_time": "2022-11-06T14:32:28.967Z"
   },
   {
    "duration": 16,
    "start_time": "2022-11-06T14:32:28.973Z"
   },
   {
    "duration": 3,
    "start_time": "2022-11-06T14:32:28.991Z"
   },
   {
    "duration": 3,
    "start_time": "2022-11-06T14:32:29.009Z"
   },
   {
    "duration": 4,
    "start_time": "2022-11-06T14:32:29.016Z"
   },
   {
    "duration": 15,
    "start_time": "2022-11-06T14:32:29.022Z"
   },
   {
    "duration": 8,
    "start_time": "2022-11-06T14:32:29.038Z"
   },
   {
    "duration": 5,
    "start_time": "2022-11-06T14:32:32.682Z"
   },
   {
    "duration": 4,
    "start_time": "2022-11-06T14:33:31.977Z"
   },
   {
    "duration": 7,
    "start_time": "2022-11-06T14:34:01.209Z"
   },
   {
    "duration": 688,
    "start_time": "2022-11-06T14:34:01.218Z"
   },
   {
    "duration": 56,
    "start_time": "2022-11-06T14:34:01.908Z"
   },
   {
    "duration": 3,
    "start_time": "2022-11-06T14:34:01.967Z"
   },
   {
    "duration": 12,
    "start_time": "2022-11-06T14:34:01.972Z"
   },
   {
    "duration": 6,
    "start_time": "2022-11-06T14:34:01.985Z"
   },
   {
    "duration": 183,
    "start_time": "2022-11-06T14:34:02.008Z"
   },
   {
    "duration": 172,
    "start_time": "2022-11-06T14:34:02.193Z"
   },
   {
    "duration": 4,
    "start_time": "2022-11-06T14:34:02.368Z"
   },
   {
    "duration": 17,
    "start_time": "2022-11-06T14:34:02.373Z"
   },
   {
    "duration": 23,
    "start_time": "2022-11-06T14:34:02.391Z"
   },
   {
    "duration": 9,
    "start_time": "2022-11-06T14:34:02.416Z"
   },
   {
    "duration": 13,
    "start_time": "2022-11-06T14:34:02.426Z"
   },
   {
    "duration": 14,
    "start_time": "2022-11-06T14:34:02.440Z"
   },
   {
    "duration": 11,
    "start_time": "2022-11-06T14:34:02.455Z"
   },
   {
    "duration": 14,
    "start_time": "2022-11-06T14:34:02.467Z"
   },
   {
    "duration": 10,
    "start_time": "2022-11-06T14:34:02.482Z"
   },
   {
    "duration": 6,
    "start_time": "2022-11-06T14:34:02.494Z"
   },
   {
    "duration": 8,
    "start_time": "2022-11-06T14:34:02.501Z"
   },
   {
    "duration": 11,
    "start_time": "2022-11-06T14:34:02.511Z"
   },
   {
    "duration": 15,
    "start_time": "2022-11-06T14:34:02.524Z"
   },
   {
    "duration": 11,
    "start_time": "2022-11-06T14:34:02.540Z"
   },
   {
    "duration": 251,
    "start_time": "2022-11-06T14:34:02.553Z"
   },
   {
    "duration": 205,
    "start_time": "2022-11-06T14:34:02.811Z"
   },
   {
    "duration": 3,
    "start_time": "2022-11-06T14:34:03.018Z"
   },
   {
    "duration": 9,
    "start_time": "2022-11-06T14:34:03.022Z"
   },
   {
    "duration": 3662,
    "start_time": "2022-11-06T14:34:03.032Z"
   },
   {
    "duration": 4,
    "start_time": "2022-11-06T14:34:06.696Z"
   },
   {
    "duration": 10,
    "start_time": "2022-11-06T14:34:06.702Z"
   },
   {
    "duration": 16,
    "start_time": "2022-11-06T14:34:06.714Z"
   },
   {
    "duration": 636,
    "start_time": "2022-11-06T14:34:06.732Z"
   },
   {
    "duration": 4,
    "start_time": "2022-11-06T14:34:07.369Z"
   },
   {
    "duration": 7,
    "start_time": "2022-11-06T14:34:07.374Z"
   },
   {
    "duration": 5,
    "start_time": "2022-11-06T14:34:07.383Z"
   },
   {
    "duration": 1367,
    "start_time": "2022-11-06T14:34:07.390Z"
   },
   {
    "duration": 5,
    "start_time": "2022-11-06T14:34:08.758Z"
   },
   {
    "duration": 9,
    "start_time": "2022-11-06T14:34:08.764Z"
   },
   {
    "duration": 5,
    "start_time": "2022-11-06T14:34:08.774Z"
   },
   {
    "duration": 13,
    "start_time": "2022-11-06T14:34:08.781Z"
   },
   {
    "duration": 3,
    "start_time": "2022-11-06T14:34:08.808Z"
   },
   {
    "duration": 5,
    "start_time": "2022-11-06T14:34:08.813Z"
   },
   {
    "duration": 10,
    "start_time": "2022-11-06T14:34:08.819Z"
   },
   {
    "duration": 34,
    "start_time": "2022-11-06T14:34:08.831Z"
   },
   {
    "duration": 3,
    "start_time": "2022-11-06T14:34:08.867Z"
   },
   {
    "duration": 12,
    "start_time": "2022-11-06T14:34:08.872Z"
   },
   {
    "duration": 3,
    "start_time": "2022-11-06T14:34:14.366Z"
   },
   {
    "duration": 4,
    "start_time": "2022-11-06T14:34:17.964Z"
   },
   {
    "duration": 4,
    "start_time": "2022-11-06T14:34:24.525Z"
   },
   {
    "duration": 4,
    "start_time": "2022-11-06T14:34:28.261Z"
   },
   {
    "duration": 4,
    "start_time": "2022-11-06T14:34:34.406Z"
   },
   {
    "duration": 4,
    "start_time": "2022-11-06T14:34:47.148Z"
   },
   {
    "duration": 6,
    "start_time": "2022-11-06T14:34:53.678Z"
   },
   {
    "duration": 647,
    "start_time": "2022-11-06T14:34:53.686Z"
   },
   {
    "duration": 48,
    "start_time": "2022-11-06T14:34:54.334Z"
   },
   {
    "duration": 3,
    "start_time": "2022-11-06T14:34:54.384Z"
   },
   {
    "duration": 22,
    "start_time": "2022-11-06T14:34:54.388Z"
   },
   {
    "duration": 6,
    "start_time": "2022-11-06T14:34:54.411Z"
   },
   {
    "duration": 176,
    "start_time": "2022-11-06T14:34:54.418Z"
   },
   {
    "duration": 174,
    "start_time": "2022-11-06T14:34:54.596Z"
   },
   {
    "duration": 5,
    "start_time": "2022-11-06T14:34:54.772Z"
   },
   {
    "duration": 11,
    "start_time": "2022-11-06T14:34:54.778Z"
   },
   {
    "duration": 30,
    "start_time": "2022-11-06T14:34:54.790Z"
   },
   {
    "duration": 6,
    "start_time": "2022-11-06T14:34:54.822Z"
   },
   {
    "duration": 9,
    "start_time": "2022-11-06T14:34:54.829Z"
   },
   {
    "duration": 12,
    "start_time": "2022-11-06T14:34:54.840Z"
   },
   {
    "duration": 10,
    "start_time": "2022-11-06T14:34:54.853Z"
   },
   {
    "duration": 8,
    "start_time": "2022-11-06T14:34:54.865Z"
   },
   {
    "duration": 13,
    "start_time": "2022-11-06T14:34:54.874Z"
   },
   {
    "duration": 22,
    "start_time": "2022-11-06T14:34:54.889Z"
   },
   {
    "duration": 11,
    "start_time": "2022-11-06T14:34:54.912Z"
   },
   {
    "duration": 6,
    "start_time": "2022-11-06T14:34:54.924Z"
   },
   {
    "duration": 6,
    "start_time": "2022-11-06T14:34:54.932Z"
   },
   {
    "duration": 5,
    "start_time": "2022-11-06T14:34:54.939Z"
   },
   {
    "duration": 204,
    "start_time": "2022-11-06T14:34:54.946Z"
   },
   {
    "duration": 202,
    "start_time": "2022-11-06T14:34:55.153Z"
   },
   {
    "duration": 3,
    "start_time": "2022-11-06T14:34:55.357Z"
   },
   {
    "duration": 24,
    "start_time": "2022-11-06T14:34:55.361Z"
   },
   {
    "duration": 3510,
    "start_time": "2022-11-06T14:34:55.386Z"
   },
   {
    "duration": 12,
    "start_time": "2022-11-06T14:34:58.897Z"
   },
   {
    "duration": 5,
    "start_time": "2022-11-06T14:34:58.911Z"
   },
   {
    "duration": 6,
    "start_time": "2022-11-06T14:34:58.917Z"
   },
   {
    "duration": 636,
    "start_time": "2022-11-06T14:34:58.924Z"
   },
   {
    "duration": 3,
    "start_time": "2022-11-06T14:34:59.562Z"
   },
   {
    "duration": 6,
    "start_time": "2022-11-06T14:34:59.567Z"
   },
   {
    "duration": 6,
    "start_time": "2022-11-06T14:34:59.574Z"
   },
   {
    "duration": 1278,
    "start_time": "2022-11-06T14:34:59.582Z"
   },
   {
    "duration": 4,
    "start_time": "2022-11-06T14:35:00.862Z"
   },
   {
    "duration": 56,
    "start_time": "2022-11-06T14:35:00.867Z"
   },
   {
    "duration": 33,
    "start_time": "2022-11-06T14:35:00.925Z"
   },
   {
    "duration": 47,
    "start_time": "2022-11-06T14:35:00.959Z"
   },
   {
    "duration": 4,
    "start_time": "2022-11-06T14:35:05.211Z"
   },
   {
    "duration": 26,
    "start_time": "2022-11-06T14:35:19.431Z"
   },
   {
    "duration": 4,
    "start_time": "2022-11-06T14:35:29.804Z"
   },
   {
    "duration": 3,
    "start_time": "2022-11-06T14:36:06.806Z"
   },
   {
    "duration": 6,
    "start_time": "2022-11-06T14:36:11.805Z"
   },
   {
    "duration": 653,
    "start_time": "2022-11-06T14:36:11.813Z"
   },
   {
    "duration": 69,
    "start_time": "2022-11-06T14:36:12.467Z"
   },
   {
    "duration": 4,
    "start_time": "2022-11-06T14:36:12.538Z"
   },
   {
    "duration": 14,
    "start_time": "2022-11-06T14:36:12.545Z"
   },
   {
    "duration": 17,
    "start_time": "2022-11-06T14:36:12.561Z"
   },
   {
    "duration": 386,
    "start_time": "2022-11-06T14:36:12.580Z"
   },
   {
    "duration": 180,
    "start_time": "2022-11-06T14:36:12.967Z"
   },
   {
    "duration": 4,
    "start_time": "2022-11-06T14:36:13.148Z"
   },
   {
    "duration": 8,
    "start_time": "2022-11-06T14:36:13.153Z"
   },
   {
    "duration": 20,
    "start_time": "2022-11-06T14:36:13.164Z"
   },
   {
    "duration": 6,
    "start_time": "2022-11-06T14:36:13.185Z"
   },
   {
    "duration": 23,
    "start_time": "2022-11-06T14:36:13.193Z"
   },
   {
    "duration": 15,
    "start_time": "2022-11-06T14:36:13.218Z"
   },
   {
    "duration": 4,
    "start_time": "2022-11-06T14:36:13.235Z"
   },
   {
    "duration": 16,
    "start_time": "2022-11-06T14:36:13.241Z"
   },
   {
    "duration": 6,
    "start_time": "2022-11-06T14:36:13.259Z"
   },
   {
    "duration": 11,
    "start_time": "2022-11-06T14:36:13.267Z"
   },
   {
    "duration": 8,
    "start_time": "2022-11-06T14:36:13.279Z"
   },
   {
    "duration": 23,
    "start_time": "2022-11-06T14:36:13.288Z"
   },
   {
    "duration": 6,
    "start_time": "2022-11-06T14:36:13.312Z"
   },
   {
    "duration": 7,
    "start_time": "2022-11-06T14:36:13.320Z"
   },
   {
    "duration": 203,
    "start_time": "2022-11-06T14:36:13.329Z"
   },
   {
    "duration": 210,
    "start_time": "2022-11-06T14:36:13.534Z"
   },
   {
    "duration": 3,
    "start_time": "2022-11-06T14:36:13.746Z"
   },
   {
    "duration": 7,
    "start_time": "2022-11-06T14:36:13.751Z"
   },
   {
    "duration": 3545,
    "start_time": "2022-11-06T14:36:13.759Z"
   },
   {
    "duration": 4,
    "start_time": "2022-11-06T14:36:17.306Z"
   },
   {
    "duration": 5,
    "start_time": "2022-11-06T14:36:17.313Z"
   },
   {
    "duration": 6,
    "start_time": "2022-11-06T14:36:17.320Z"
   },
   {
    "duration": 661,
    "start_time": "2022-11-06T14:36:17.327Z"
   },
   {
    "duration": 3,
    "start_time": "2022-11-06T14:36:17.990Z"
   },
   {
    "duration": 20,
    "start_time": "2022-11-06T14:36:17.995Z"
   },
   {
    "duration": 6,
    "start_time": "2022-11-06T14:36:18.017Z"
   },
   {
    "duration": 1342,
    "start_time": "2022-11-06T14:36:18.025Z"
   },
   {
    "duration": 3,
    "start_time": "2022-11-06T14:36:19.369Z"
   },
   {
    "duration": 8,
    "start_time": "2022-11-06T14:36:19.373Z"
   },
   {
    "duration": 7,
    "start_time": "2022-11-06T14:36:19.382Z"
   },
   {
    "duration": 22,
    "start_time": "2022-11-06T14:36:19.391Z"
   },
   {
    "duration": 4,
    "start_time": "2022-11-06T14:36:19.415Z"
   },
   {
    "duration": 13,
    "start_time": "2022-11-06T14:36:19.421Z"
   },
   {
    "duration": 10,
    "start_time": "2022-11-06T14:36:19.436Z"
   },
   {
    "duration": 46,
    "start_time": "2022-11-06T14:36:19.448Z"
   },
   {
    "duration": 13,
    "start_time": "2022-11-06T14:36:19.496Z"
   },
   {
    "duration": 3,
    "start_time": "2022-11-06T14:36:22.920Z"
   },
   {
    "duration": 6,
    "start_time": "2022-11-06T14:38:59.535Z"
   },
   {
    "duration": 623,
    "start_time": "2022-11-06T14:38:59.543Z"
   },
   {
    "duration": 55,
    "start_time": "2022-11-06T14:39:00.167Z"
   },
   {
    "duration": 3,
    "start_time": "2022-11-06T14:39:00.224Z"
   },
   {
    "duration": 40,
    "start_time": "2022-11-06T14:39:00.229Z"
   },
   {
    "duration": 21,
    "start_time": "2022-11-06T14:39:00.270Z"
   },
   {
    "duration": 182,
    "start_time": "2022-11-06T14:39:00.293Z"
   },
   {
    "duration": 183,
    "start_time": "2022-11-06T14:39:00.476Z"
   },
   {
    "duration": 4,
    "start_time": "2022-11-06T14:39:00.661Z"
   },
   {
    "duration": 56,
    "start_time": "2022-11-06T14:39:00.666Z"
   },
   {
    "duration": 41,
    "start_time": "2022-11-06T14:39:00.724Z"
   },
   {
    "duration": 21,
    "start_time": "2022-11-06T14:39:00.766Z"
   },
   {
    "duration": 35,
    "start_time": "2022-11-06T14:39:00.788Z"
   },
   {
    "duration": 34,
    "start_time": "2022-11-06T14:39:00.825Z"
   },
   {
    "duration": 48,
    "start_time": "2022-11-06T14:39:00.861Z"
   },
   {
    "duration": 32,
    "start_time": "2022-11-06T14:39:00.911Z"
   },
   {
    "duration": 32,
    "start_time": "2022-11-06T14:39:00.945Z"
   },
   {
    "duration": 45,
    "start_time": "2022-11-06T14:39:00.979Z"
   },
   {
    "duration": 25,
    "start_time": "2022-11-06T14:39:01.026Z"
   },
   {
    "duration": 34,
    "start_time": "2022-11-06T14:39:01.053Z"
   },
   {
    "duration": 83,
    "start_time": "2022-11-06T14:39:01.089Z"
   },
   {
    "duration": 30,
    "start_time": "2022-11-06T14:39:01.174Z"
   },
   {
    "duration": 241,
    "start_time": "2022-11-06T14:39:01.206Z"
   },
   {
    "duration": 206,
    "start_time": "2022-11-06T14:39:01.448Z"
   },
   {
    "duration": 3,
    "start_time": "2022-11-06T14:39:01.655Z"
   },
   {
    "duration": 33,
    "start_time": "2022-11-06T14:39:01.660Z"
   },
   {
    "duration": 3415,
    "start_time": "2022-11-06T14:39:01.694Z"
   },
   {
    "duration": 5,
    "start_time": "2022-11-06T14:39:05.111Z"
   },
   {
    "duration": 16,
    "start_time": "2022-11-06T14:39:05.119Z"
   },
   {
    "duration": 9,
    "start_time": "2022-11-06T14:39:05.136Z"
   },
   {
    "duration": 644,
    "start_time": "2022-11-06T14:39:05.147Z"
   },
   {
    "duration": 2,
    "start_time": "2022-11-06T14:39:05.793Z"
   },
   {
    "duration": 3,
    "start_time": "2022-11-06T14:39:05.809Z"
   },
   {
    "duration": 4,
    "start_time": "2022-11-06T14:39:05.814Z"
   },
   {
    "duration": 1537,
    "start_time": "2022-11-06T14:39:05.820Z"
   },
   {
    "duration": 3,
    "start_time": "2022-11-06T14:39:07.360Z"
   },
   {
    "duration": 7,
    "start_time": "2022-11-06T14:39:07.365Z"
   },
   {
    "duration": 5,
    "start_time": "2022-11-06T14:39:07.374Z"
   },
   {
    "duration": 28,
    "start_time": "2022-11-06T14:39:07.380Z"
   },
   {
    "duration": 3,
    "start_time": "2022-11-06T14:39:07.410Z"
   },
   {
    "duration": 8,
    "start_time": "2022-11-06T14:39:07.414Z"
   },
   {
    "duration": 6,
    "start_time": "2022-11-06T14:39:07.423Z"
   },
   {
    "duration": 20,
    "start_time": "2022-11-06T14:39:11.671Z"
   },
   {
    "duration": 3,
    "start_time": "2022-11-06T14:39:20.984Z"
   },
   {
    "duration": 4,
    "start_time": "2022-11-06T14:39:24.264Z"
   },
   {
    "duration": 4,
    "start_time": "2022-11-06T14:40:08.205Z"
   },
   {
    "duration": 5,
    "start_time": "2022-11-06T14:40:25.453Z"
   },
   {
    "duration": 656,
    "start_time": "2022-11-06T14:40:25.460Z"
   },
   {
    "duration": 47,
    "start_time": "2022-11-06T14:40:26.118Z"
   },
   {
    "duration": 3,
    "start_time": "2022-11-06T14:40:26.167Z"
   },
   {
    "duration": 6,
    "start_time": "2022-11-06T14:40:26.172Z"
   },
   {
    "duration": 3,
    "start_time": "2022-11-06T14:40:26.179Z"
   },
   {
    "duration": 196,
    "start_time": "2022-11-06T14:40:26.183Z"
   },
   {
    "duration": 171,
    "start_time": "2022-11-06T14:40:26.380Z"
   },
   {
    "duration": 4,
    "start_time": "2022-11-06T14:40:26.554Z"
   },
   {
    "duration": 7,
    "start_time": "2022-11-06T14:40:26.559Z"
   },
   {
    "duration": 20,
    "start_time": "2022-11-06T14:40:26.567Z"
   },
   {
    "duration": 20,
    "start_time": "2022-11-06T14:40:26.589Z"
   },
   {
    "duration": 7,
    "start_time": "2022-11-06T14:40:26.610Z"
   },
   {
    "duration": 11,
    "start_time": "2022-11-06T14:40:26.619Z"
   },
   {
    "duration": 3,
    "start_time": "2022-11-06T14:40:26.632Z"
   },
   {
    "duration": 7,
    "start_time": "2022-11-06T14:40:26.636Z"
   },
   {
    "duration": 5,
    "start_time": "2022-11-06T14:40:26.645Z"
   },
   {
    "duration": 6,
    "start_time": "2022-11-06T14:40:26.651Z"
   },
   {
    "duration": 5,
    "start_time": "2022-11-06T14:40:26.658Z"
   },
   {
    "duration": 6,
    "start_time": "2022-11-06T14:40:26.665Z"
   },
   {
    "duration": 6,
    "start_time": "2022-11-06T14:40:26.709Z"
   },
   {
    "duration": 6,
    "start_time": "2022-11-06T14:40:26.716Z"
   },
   {
    "duration": 204,
    "start_time": "2022-11-06T14:40:26.723Z"
   },
   {
    "duration": 201,
    "start_time": "2022-11-06T14:40:26.930Z"
   },
   {
    "duration": 2,
    "start_time": "2022-11-06T14:40:27.133Z"
   },
   {
    "duration": 7,
    "start_time": "2022-11-06T14:40:27.136Z"
   },
   {
    "duration": 3448,
    "start_time": "2022-11-06T14:40:27.144Z"
   },
   {
    "duration": 4,
    "start_time": "2022-11-06T14:40:30.594Z"
   },
   {
    "duration": 8,
    "start_time": "2022-11-06T14:40:30.608Z"
   },
   {
    "duration": 29,
    "start_time": "2022-11-06T14:40:30.618Z"
   },
   {
    "duration": 613,
    "start_time": "2022-11-06T14:40:30.649Z"
   },
   {
    "duration": 3,
    "start_time": "2022-11-06T14:40:31.264Z"
   },
   {
    "duration": 6,
    "start_time": "2022-11-06T14:40:31.269Z"
   },
   {
    "duration": 21,
    "start_time": "2022-11-06T14:40:31.276Z"
   },
   {
    "duration": 1268,
    "start_time": "2022-11-06T14:40:31.299Z"
   },
   {
    "duration": 3,
    "start_time": "2022-11-06T14:40:32.569Z"
   },
   {
    "duration": 12,
    "start_time": "2022-11-06T14:40:32.574Z"
   },
   {
    "duration": 11,
    "start_time": "2022-11-06T14:40:32.589Z"
   },
   {
    "duration": 30,
    "start_time": "2022-11-06T14:40:32.602Z"
   },
   {
    "duration": 3,
    "start_time": "2022-11-06T14:40:46.849Z"
   },
   {
    "duration": 8,
    "start_time": "2022-11-06T14:41:21.986Z"
   },
   {
    "duration": 674,
    "start_time": "2022-11-06T14:41:21.997Z"
   },
   {
    "duration": 77,
    "start_time": "2022-11-06T14:41:22.673Z"
   },
   {
    "duration": 5,
    "start_time": "2022-11-06T14:41:22.753Z"
   },
   {
    "duration": 17,
    "start_time": "2022-11-06T14:41:22.759Z"
   },
   {
    "duration": 20,
    "start_time": "2022-11-06T14:41:22.777Z"
   },
   {
    "duration": 183,
    "start_time": "2022-11-06T14:41:22.799Z"
   },
   {
    "duration": 189,
    "start_time": "2022-11-06T14:41:22.983Z"
   },
   {
    "duration": 4,
    "start_time": "2022-11-06T14:41:23.174Z"
   },
   {
    "duration": 19,
    "start_time": "2022-11-06T14:41:23.179Z"
   },
   {
    "duration": 22,
    "start_time": "2022-11-06T14:41:23.199Z"
   },
   {
    "duration": 14,
    "start_time": "2022-11-06T14:41:23.223Z"
   },
   {
    "duration": 11,
    "start_time": "2022-11-06T14:41:23.239Z"
   },
   {
    "duration": 13,
    "start_time": "2022-11-06T14:41:23.252Z"
   },
   {
    "duration": 3,
    "start_time": "2022-11-06T14:41:23.267Z"
   },
   {
    "duration": 10,
    "start_time": "2022-11-06T14:41:23.272Z"
   },
   {
    "duration": 7,
    "start_time": "2022-11-06T14:41:23.283Z"
   },
   {
    "duration": 20,
    "start_time": "2022-11-06T14:41:23.291Z"
   },
   {
    "duration": 6,
    "start_time": "2022-11-06T14:41:23.312Z"
   },
   {
    "duration": 10,
    "start_time": "2022-11-06T14:41:23.319Z"
   },
   {
    "duration": 7,
    "start_time": "2022-11-06T14:41:23.330Z"
   },
   {
    "duration": 15,
    "start_time": "2022-11-06T14:41:23.338Z"
   },
   {
    "duration": 210,
    "start_time": "2022-11-06T14:41:23.354Z"
   },
   {
    "duration": 219,
    "start_time": "2022-11-06T14:41:23.568Z"
   },
   {
    "duration": 3,
    "start_time": "2022-11-06T14:41:23.789Z"
   },
   {
    "duration": 6,
    "start_time": "2022-11-06T14:41:23.794Z"
   },
   {
    "duration": 3778,
    "start_time": "2022-11-06T14:41:23.808Z"
   },
   {
    "duration": 4,
    "start_time": "2022-11-06T14:41:27.588Z"
   },
   {
    "duration": 6,
    "start_time": "2022-11-06T14:41:27.593Z"
   },
   {
    "duration": 3,
    "start_time": "2022-11-06T14:41:27.609Z"
   },
   {
    "duration": 567,
    "start_time": "2022-11-06T14:41:27.613Z"
   },
   {
    "duration": 4,
    "start_time": "2022-11-06T14:41:28.181Z"
   },
   {
    "duration": 14,
    "start_time": "2022-11-06T14:41:28.186Z"
   },
   {
    "duration": 8,
    "start_time": "2022-11-06T14:41:28.202Z"
   },
   {
    "duration": 1346,
    "start_time": "2022-11-06T14:41:28.212Z"
   },
   {
    "duration": 4,
    "start_time": "2022-11-06T14:41:29.559Z"
   },
   {
    "duration": 8,
    "start_time": "2022-11-06T14:41:29.564Z"
   },
   {
    "duration": 5,
    "start_time": "2022-11-06T14:41:29.574Z"
   },
   {
    "duration": 15,
    "start_time": "2022-11-06T14:41:29.581Z"
   },
   {
    "duration": 3,
    "start_time": "2022-11-06T14:41:29.609Z"
   },
   {
    "duration": 8,
    "start_time": "2022-11-06T14:41:29.613Z"
   },
   {
    "duration": 6,
    "start_time": "2022-11-06T14:41:29.622Z"
   },
   {
    "duration": 36,
    "start_time": "2022-11-06T14:41:29.630Z"
   },
   {
    "duration": 0,
    "start_time": "2022-11-06T14:41:29.668Z"
   },
   {
    "duration": 0,
    "start_time": "2022-11-06T14:41:29.669Z"
   },
   {
    "duration": 0,
    "start_time": "2022-11-06T14:41:29.671Z"
   },
   {
    "duration": 0,
    "start_time": "2022-11-06T14:41:29.672Z"
   },
   {
    "duration": 0,
    "start_time": "2022-11-06T14:41:29.673Z"
   },
   {
    "duration": 0,
    "start_time": "2022-11-06T14:41:29.675Z"
   },
   {
    "duration": 0,
    "start_time": "2022-11-06T14:41:29.676Z"
   },
   {
    "duration": 0,
    "start_time": "2022-11-06T14:41:29.677Z"
   },
   {
    "duration": 0,
    "start_time": "2022-11-06T14:41:29.709Z"
   },
   {
    "duration": 0,
    "start_time": "2022-11-06T14:41:29.710Z"
   },
   {
    "duration": 0,
    "start_time": "2022-11-06T14:41:29.711Z"
   },
   {
    "duration": 0,
    "start_time": "2022-11-06T14:41:29.713Z"
   },
   {
    "duration": 0,
    "start_time": "2022-11-06T14:41:29.714Z"
   },
   {
    "duration": 0,
    "start_time": "2022-11-06T14:41:29.715Z"
   },
   {
    "duration": 0,
    "start_time": "2022-11-06T14:41:29.716Z"
   },
   {
    "duration": 1,
    "start_time": "2022-11-06T14:41:29.717Z"
   },
   {
    "duration": 0,
    "start_time": "2022-11-06T14:41:29.719Z"
   },
   {
    "duration": 0,
    "start_time": "2022-11-06T14:41:29.720Z"
   },
   {
    "duration": 0,
    "start_time": "2022-11-06T14:41:29.722Z"
   },
   {
    "duration": 5,
    "start_time": "2022-11-06T14:49:23.677Z"
   },
   {
    "duration": 655,
    "start_time": "2022-11-06T14:49:23.748Z"
   },
   {
    "duration": 51,
    "start_time": "2022-11-06T14:49:24.405Z"
   },
   {
    "duration": 3,
    "start_time": "2022-11-06T14:49:24.457Z"
   },
   {
    "duration": 20,
    "start_time": "2022-11-06T14:49:24.462Z"
   },
   {
    "duration": 11,
    "start_time": "2022-11-06T14:49:24.484Z"
   },
   {
    "duration": 185,
    "start_time": "2022-11-06T14:49:24.497Z"
   },
   {
    "duration": 173,
    "start_time": "2022-11-06T14:49:24.684Z"
   },
   {
    "duration": 3,
    "start_time": "2022-11-06T14:49:24.859Z"
   },
   {
    "duration": 46,
    "start_time": "2022-11-06T14:49:24.864Z"
   },
   {
    "duration": 38,
    "start_time": "2022-11-06T14:49:24.911Z"
   },
   {
    "duration": 14,
    "start_time": "2022-11-06T14:49:24.951Z"
   },
   {
    "duration": 19,
    "start_time": "2022-11-06T14:49:24.966Z"
   },
   {
    "duration": 27,
    "start_time": "2022-11-06T14:49:24.986Z"
   },
   {
    "duration": 3,
    "start_time": "2022-11-06T14:49:25.016Z"
   },
   {
    "duration": 30,
    "start_time": "2022-11-06T14:49:25.020Z"
   },
   {
    "duration": 17,
    "start_time": "2022-11-06T14:49:25.052Z"
   },
   {
    "duration": 13,
    "start_time": "2022-11-06T14:49:25.070Z"
   },
   {
    "duration": 26,
    "start_time": "2022-11-06T14:49:25.085Z"
   },
   {
    "duration": 29,
    "start_time": "2022-11-06T14:49:25.112Z"
   },
   {
    "duration": 22,
    "start_time": "2022-11-06T14:49:25.142Z"
   },
   {
    "duration": 20,
    "start_time": "2022-11-06T14:49:25.165Z"
   },
   {
    "duration": 192,
    "start_time": "2022-11-06T14:49:25.186Z"
   },
   {
    "duration": 211,
    "start_time": "2022-11-06T14:49:25.380Z"
   },
   {
    "duration": 4,
    "start_time": "2022-11-06T14:49:25.593Z"
   },
   {
    "duration": 13,
    "start_time": "2022-11-06T14:49:25.599Z"
   },
   {
    "duration": 3375,
    "start_time": "2022-11-06T14:49:25.614Z"
   },
   {
    "duration": 4,
    "start_time": "2022-11-06T14:49:28.990Z"
   },
   {
    "duration": 14,
    "start_time": "2022-11-06T14:49:28.995Z"
   },
   {
    "duration": 8,
    "start_time": "2022-11-06T14:49:29.010Z"
   },
   {
    "duration": 543,
    "start_time": "2022-11-06T14:49:29.020Z"
   },
   {
    "duration": 3,
    "start_time": "2022-11-06T14:49:29.564Z"
   },
   {
    "duration": 10,
    "start_time": "2022-11-06T14:49:29.569Z"
   },
   {
    "duration": 7,
    "start_time": "2022-11-06T14:49:29.580Z"
   },
   {
    "duration": 1371,
    "start_time": "2022-11-06T14:49:29.588Z"
   },
   {
    "duration": 3,
    "start_time": "2022-11-06T14:49:30.961Z"
   },
   {
    "duration": 38,
    "start_time": "2022-11-06T14:49:30.965Z"
   },
   {
    "duration": 14,
    "start_time": "2022-11-06T14:49:31.004Z"
   },
   {
    "duration": 59,
    "start_time": "2022-11-06T14:49:31.019Z"
   },
   {
    "duration": 31,
    "start_time": "2022-11-06T14:49:31.080Z"
   },
   {
    "duration": 33,
    "start_time": "2022-11-06T14:49:31.112Z"
   },
   {
    "duration": 24,
    "start_time": "2022-11-06T14:49:31.149Z"
   },
   {
    "duration": 65,
    "start_time": "2022-11-06T14:49:31.174Z"
   },
   {
    "duration": 0,
    "start_time": "2022-11-06T14:49:31.241Z"
   },
   {
    "duration": 0,
    "start_time": "2022-11-06T14:49:31.242Z"
   },
   {
    "duration": 0,
    "start_time": "2022-11-06T14:49:31.243Z"
   },
   {
    "duration": 0,
    "start_time": "2022-11-06T14:49:31.244Z"
   },
   {
    "duration": 0,
    "start_time": "2022-11-06T14:49:31.245Z"
   },
   {
    "duration": 0,
    "start_time": "2022-11-06T14:49:31.245Z"
   },
   {
    "duration": 0,
    "start_time": "2022-11-06T14:49:31.246Z"
   },
   {
    "duration": 0,
    "start_time": "2022-11-06T14:49:31.247Z"
   },
   {
    "duration": 0,
    "start_time": "2022-11-06T14:49:31.248Z"
   },
   {
    "duration": 0,
    "start_time": "2022-11-06T14:49:31.249Z"
   },
   {
    "duration": 0,
    "start_time": "2022-11-06T14:49:31.250Z"
   },
   {
    "duration": 0,
    "start_time": "2022-11-06T14:49:31.251Z"
   },
   {
    "duration": 0,
    "start_time": "2022-11-06T14:49:31.251Z"
   },
   {
    "duration": 0,
    "start_time": "2022-11-06T14:49:31.252Z"
   },
   {
    "duration": 0,
    "start_time": "2022-11-06T14:49:31.253Z"
   },
   {
    "duration": 0,
    "start_time": "2022-11-06T14:49:31.254Z"
   },
   {
    "duration": 0,
    "start_time": "2022-11-06T14:49:31.255Z"
   },
   {
    "duration": 0,
    "start_time": "2022-11-06T14:49:31.255Z"
   },
   {
    "duration": 0,
    "start_time": "2022-11-06T14:49:31.257Z"
   },
   {
    "duration": 0,
    "start_time": "2022-11-06T14:49:31.257Z"
   },
   {
    "duration": 15,
    "start_time": "2022-11-06T14:54:19.722Z"
   },
   {
    "duration": 67,
    "start_time": "2022-11-06T14:55:03.458Z"
   },
   {
    "duration": 20,
    "start_time": "2022-11-06T14:55:29.084Z"
   },
   {
    "duration": 4,
    "start_time": "2022-11-06T15:00:28.938Z"
   },
   {
    "duration": 7,
    "start_time": "2022-11-06T15:00:52.746Z"
   },
   {
    "duration": 644,
    "start_time": "2022-11-06T15:00:52.824Z"
   },
   {
    "duration": 55,
    "start_time": "2022-11-06T15:00:53.470Z"
   },
   {
    "duration": 4,
    "start_time": "2022-11-06T15:00:53.526Z"
   },
   {
    "duration": 9,
    "start_time": "2022-11-06T15:00:53.531Z"
   },
   {
    "duration": 5,
    "start_time": "2022-11-06T15:00:53.541Z"
   },
   {
    "duration": 174,
    "start_time": "2022-11-06T15:00:53.547Z"
   },
   {
    "duration": 187,
    "start_time": "2022-11-06T15:00:53.723Z"
   },
   {
    "duration": 4,
    "start_time": "2022-11-06T15:00:53.912Z"
   },
   {
    "duration": 11,
    "start_time": "2022-11-06T15:00:53.918Z"
   },
   {
    "duration": 27,
    "start_time": "2022-11-06T15:00:53.930Z"
   },
   {
    "duration": 8,
    "start_time": "2022-11-06T15:00:53.959Z"
   },
   {
    "duration": 9,
    "start_time": "2022-11-06T15:00:53.968Z"
   },
   {
    "duration": 16,
    "start_time": "2022-11-06T15:00:53.979Z"
   },
   {
    "duration": 3,
    "start_time": "2022-11-06T15:00:54.008Z"
   },
   {
    "duration": 8,
    "start_time": "2022-11-06T15:00:54.013Z"
   },
   {
    "duration": 246,
    "start_time": "2022-11-06T15:00:54.022Z"
   },
   {
    "duration": 10,
    "start_time": "2022-11-06T15:00:54.269Z"
   },
   {
    "duration": 5,
    "start_time": "2022-11-06T15:00:54.281Z"
   },
   {
    "duration": 27,
    "start_time": "2022-11-06T15:00:54.288Z"
   },
   {
    "duration": 6,
    "start_time": "2022-11-06T15:00:54.316Z"
   },
   {
    "duration": 5,
    "start_time": "2022-11-06T15:00:54.323Z"
   },
   {
    "duration": 210,
    "start_time": "2022-11-06T15:00:54.329Z"
   },
   {
    "duration": 198,
    "start_time": "2022-11-06T15:00:54.540Z"
   },
   {
    "duration": 3,
    "start_time": "2022-11-06T15:00:54.740Z"
   },
   {
    "duration": 8,
    "start_time": "2022-11-06T15:00:54.745Z"
   },
   {
    "duration": 3339,
    "start_time": "2022-11-06T15:00:54.754Z"
   },
   {
    "duration": 4,
    "start_time": "2022-11-06T15:00:58.095Z"
   },
   {
    "duration": 10,
    "start_time": "2022-11-06T15:00:58.100Z"
   },
   {
    "duration": 10,
    "start_time": "2022-11-06T15:00:58.111Z"
   },
   {
    "duration": 643,
    "start_time": "2022-11-06T15:00:58.123Z"
   },
   {
    "duration": 3,
    "start_time": "2022-11-06T15:00:58.768Z"
   },
   {
    "duration": 8,
    "start_time": "2022-11-06T15:00:58.773Z"
   },
   {
    "duration": 5,
    "start_time": "2022-11-06T15:00:58.782Z"
   },
   {
    "duration": 1362,
    "start_time": "2022-11-06T15:00:58.789Z"
   },
   {
    "duration": 3,
    "start_time": "2022-11-06T15:01:00.152Z"
   },
   {
    "duration": 23,
    "start_time": "2022-11-06T15:01:00.157Z"
   },
   {
    "duration": 19,
    "start_time": "2022-11-06T15:01:00.182Z"
   },
   {
    "duration": 65,
    "start_time": "2022-11-06T15:01:00.203Z"
   },
   {
    "duration": 0,
    "start_time": "2022-11-06T15:01:00.269Z"
   },
   {
    "duration": 0,
    "start_time": "2022-11-06T15:01:00.270Z"
   },
   {
    "duration": 0,
    "start_time": "2022-11-06T15:01:00.271Z"
   },
   {
    "duration": 0,
    "start_time": "2022-11-06T15:01:00.272Z"
   },
   {
    "duration": 0,
    "start_time": "2022-11-06T15:01:00.273Z"
   },
   {
    "duration": 19,
    "start_time": "2022-11-06T15:03:08.064Z"
   },
   {
    "duration": 6,
    "start_time": "2022-11-06T15:03:41.546Z"
   },
   {
    "duration": 696,
    "start_time": "2022-11-06T15:03:41.555Z"
   },
   {
    "duration": 57,
    "start_time": "2022-11-06T15:03:42.253Z"
   },
   {
    "duration": 3,
    "start_time": "2022-11-06T15:03:42.311Z"
   },
   {
    "duration": 6,
    "start_time": "2022-11-06T15:03:42.316Z"
   },
   {
    "duration": 6,
    "start_time": "2022-11-06T15:03:42.323Z"
   },
   {
    "duration": 171,
    "start_time": "2022-11-06T15:03:42.330Z"
   },
   {
    "duration": 218,
    "start_time": "2022-11-06T15:03:42.508Z"
   },
   {
    "duration": 4,
    "start_time": "2022-11-06T15:03:42.728Z"
   },
   {
    "duration": 14,
    "start_time": "2022-11-06T15:03:42.734Z"
   },
   {
    "duration": 25,
    "start_time": "2022-11-06T15:03:42.751Z"
   },
   {
    "duration": 27,
    "start_time": "2022-11-06T15:03:42.778Z"
   },
   {
    "duration": 8,
    "start_time": "2022-11-06T15:03:42.806Z"
   },
   {
    "duration": 12,
    "start_time": "2022-11-06T15:03:42.815Z"
   },
   {
    "duration": 3,
    "start_time": "2022-11-06T15:03:42.829Z"
   },
   {
    "duration": 10,
    "start_time": "2022-11-06T15:03:42.833Z"
   },
   {
    "duration": 7,
    "start_time": "2022-11-06T15:03:42.844Z"
   },
   {
    "duration": 7,
    "start_time": "2022-11-06T15:03:42.853Z"
   },
   {
    "duration": 6,
    "start_time": "2022-11-06T15:03:42.861Z"
   },
   {
    "duration": 40,
    "start_time": "2022-11-06T15:03:42.869Z"
   },
   {
    "duration": 6,
    "start_time": "2022-11-06T15:03:42.910Z"
   },
   {
    "duration": 8,
    "start_time": "2022-11-06T15:03:42.917Z"
   },
   {
    "duration": 197,
    "start_time": "2022-11-06T15:03:42.926Z"
   },
   {
    "duration": 201,
    "start_time": "2022-11-06T15:03:43.124Z"
   },
   {
    "duration": 4,
    "start_time": "2022-11-06T15:03:43.327Z"
   },
   {
    "duration": 7,
    "start_time": "2022-11-06T15:03:43.332Z"
   },
   {
    "duration": 3449,
    "start_time": "2022-11-06T15:03:43.340Z"
   },
   {
    "duration": 4,
    "start_time": "2022-11-06T15:03:46.791Z"
   },
   {
    "duration": 4,
    "start_time": "2022-11-06T15:03:46.808Z"
   },
   {
    "duration": 7,
    "start_time": "2022-11-06T15:03:46.814Z"
   },
   {
    "duration": 632,
    "start_time": "2022-11-06T15:03:46.822Z"
   },
   {
    "duration": 4,
    "start_time": "2022-11-06T15:03:47.455Z"
   },
   {
    "duration": 6,
    "start_time": "2022-11-06T15:03:47.461Z"
   },
   {
    "duration": 5,
    "start_time": "2022-11-06T15:03:47.469Z"
   },
   {
    "duration": 1277,
    "start_time": "2022-11-06T15:03:47.476Z"
   },
   {
    "duration": 4,
    "start_time": "2022-11-06T15:03:48.755Z"
   },
   {
    "duration": 7,
    "start_time": "2022-11-06T15:03:48.760Z"
   },
   {
    "duration": 4,
    "start_time": "2022-11-06T15:03:48.768Z"
   },
   {
    "duration": 5,
    "start_time": "2022-11-06T15:03:48.774Z"
   },
   {
    "duration": 5,
    "start_time": "2022-11-06T15:03:48.781Z"
   },
   {
    "duration": 24,
    "start_time": "2022-11-06T15:03:48.788Z"
   },
   {
    "duration": 37,
    "start_time": "2022-11-06T15:03:48.814Z"
   },
   {
    "duration": 0,
    "start_time": "2022-11-06T15:03:48.853Z"
   },
   {
    "duration": 46,
    "start_time": "2022-11-06T15:04:29.034Z"
   },
   {
    "duration": 33,
    "start_time": "2022-11-06T15:04:33.298Z"
   },
   {
    "duration": 4,
    "start_time": "2022-11-06T15:08:07.725Z"
   },
   {
    "duration": 7,
    "start_time": "2022-11-06T15:08:17.305Z"
   },
   {
    "duration": 701,
    "start_time": "2022-11-06T15:08:17.314Z"
   },
   {
    "duration": 52,
    "start_time": "2022-11-06T15:08:18.017Z"
   },
   {
    "duration": 3,
    "start_time": "2022-11-06T15:08:18.072Z"
   },
   {
    "duration": 38,
    "start_time": "2022-11-06T15:08:18.077Z"
   },
   {
    "duration": 13,
    "start_time": "2022-11-06T15:08:18.117Z"
   },
   {
    "duration": 217,
    "start_time": "2022-11-06T15:08:18.132Z"
   },
   {
    "duration": 175,
    "start_time": "2022-11-06T15:08:18.351Z"
   },
   {
    "duration": 3,
    "start_time": "2022-11-06T15:08:18.528Z"
   },
   {
    "duration": 25,
    "start_time": "2022-11-06T15:08:18.533Z"
   },
   {
    "duration": 36,
    "start_time": "2022-11-06T15:08:18.560Z"
   },
   {
    "duration": 28,
    "start_time": "2022-11-06T15:08:18.598Z"
   },
   {
    "duration": 33,
    "start_time": "2022-11-06T15:08:18.627Z"
   },
   {
    "duration": 16,
    "start_time": "2022-11-06T15:08:18.662Z"
   },
   {
    "duration": 14,
    "start_time": "2022-11-06T15:08:18.680Z"
   },
   {
    "duration": 25,
    "start_time": "2022-11-06T15:08:18.696Z"
   },
   {
    "duration": 45,
    "start_time": "2022-11-06T15:08:18.723Z"
   },
   {
    "duration": 34,
    "start_time": "2022-11-06T15:08:18.769Z"
   },
   {
    "duration": 9,
    "start_time": "2022-11-06T15:08:18.805Z"
   },
   {
    "duration": 7,
    "start_time": "2022-11-06T15:08:18.815Z"
   },
   {
    "duration": 6,
    "start_time": "2022-11-06T15:08:18.823Z"
   },
   {
    "duration": 9,
    "start_time": "2022-11-06T15:08:18.831Z"
   },
   {
    "duration": 222,
    "start_time": "2022-11-06T15:08:18.842Z"
   },
   {
    "duration": 225,
    "start_time": "2022-11-06T15:08:19.068Z"
   },
   {
    "duration": 3,
    "start_time": "2022-11-06T15:08:19.295Z"
   },
   {
    "duration": 12,
    "start_time": "2022-11-06T15:08:19.300Z"
   },
   {
    "duration": 3785,
    "start_time": "2022-11-06T15:08:19.314Z"
   },
   {
    "duration": 11,
    "start_time": "2022-11-06T15:08:23.101Z"
   },
   {
    "duration": 11,
    "start_time": "2022-11-06T15:08:23.114Z"
   },
   {
    "duration": 21,
    "start_time": "2022-11-06T15:08:23.127Z"
   },
   {
    "duration": 617,
    "start_time": "2022-11-06T15:08:23.149Z"
   },
   {
    "duration": 4,
    "start_time": "2022-11-06T15:08:23.768Z"
   },
   {
    "duration": 7,
    "start_time": "2022-11-06T15:08:23.773Z"
   },
   {
    "duration": 5,
    "start_time": "2022-11-06T15:08:23.782Z"
   },
   {
    "duration": 1402,
    "start_time": "2022-11-06T15:08:23.789Z"
   },
   {
    "duration": 3,
    "start_time": "2022-11-06T15:08:25.193Z"
   },
   {
    "duration": 11,
    "start_time": "2022-11-06T15:08:25.198Z"
   },
   {
    "duration": 8,
    "start_time": "2022-11-06T15:08:25.211Z"
   },
   {
    "duration": 7,
    "start_time": "2022-11-06T15:08:25.221Z"
   },
   {
    "duration": 6,
    "start_time": "2022-11-06T15:08:25.230Z"
   },
   {
    "duration": 6,
    "start_time": "2022-11-06T15:08:25.237Z"
   },
   {
    "duration": 46,
    "start_time": "2022-11-06T15:08:25.245Z"
   },
   {
    "duration": 0,
    "start_time": "2022-11-06T15:08:25.309Z"
   },
   {
    "duration": 5,
    "start_time": "2022-11-06T15:09:15.906Z"
   },
   {
    "duration": 6,
    "start_time": "2022-11-06T15:09:25.558Z"
   },
   {
    "duration": 637,
    "start_time": "2022-11-06T15:09:25.566Z"
   },
   {
    "duration": 50,
    "start_time": "2022-11-06T15:09:26.205Z"
   },
   {
    "duration": 3,
    "start_time": "2022-11-06T15:09:26.257Z"
   },
   {
    "duration": 5,
    "start_time": "2022-11-06T15:09:26.262Z"
   },
   {
    "duration": 11,
    "start_time": "2022-11-06T15:09:26.269Z"
   },
   {
    "duration": 183,
    "start_time": "2022-11-06T15:09:26.282Z"
   },
   {
    "duration": 169,
    "start_time": "2022-11-06T15:09:26.467Z"
   },
   {
    "duration": 5,
    "start_time": "2022-11-06T15:09:26.638Z"
   },
   {
    "duration": 6,
    "start_time": "2022-11-06T15:09:26.644Z"
   },
   {
    "duration": 54,
    "start_time": "2022-11-06T15:09:26.653Z"
   },
   {
    "duration": 8,
    "start_time": "2022-11-06T15:09:26.709Z"
   },
   {
    "duration": 7,
    "start_time": "2022-11-06T15:09:26.719Z"
   },
   {
    "duration": 13,
    "start_time": "2022-11-06T15:09:26.727Z"
   },
   {
    "duration": 3,
    "start_time": "2022-11-06T15:09:26.742Z"
   },
   {
    "duration": 10,
    "start_time": "2022-11-06T15:09:26.747Z"
   },
   {
    "duration": 6,
    "start_time": "2022-11-06T15:09:26.759Z"
   },
   {
    "duration": 11,
    "start_time": "2022-11-06T15:09:26.766Z"
   },
   {
    "duration": 13,
    "start_time": "2022-11-06T15:09:26.779Z"
   },
   {
    "duration": 6,
    "start_time": "2022-11-06T15:09:26.809Z"
   },
   {
    "duration": 5,
    "start_time": "2022-11-06T15:09:26.816Z"
   },
   {
    "duration": 11,
    "start_time": "2022-11-06T15:09:26.822Z"
   },
   {
    "duration": 210,
    "start_time": "2022-11-06T15:09:26.835Z"
   },
   {
    "duration": 214,
    "start_time": "2022-11-06T15:09:27.046Z"
   },
   {
    "duration": 4,
    "start_time": "2022-11-06T15:09:27.261Z"
   },
   {
    "duration": 9,
    "start_time": "2022-11-06T15:09:27.266Z"
   },
   {
    "duration": 3414,
    "start_time": "2022-11-06T15:09:27.276Z"
   },
   {
    "duration": 4,
    "start_time": "2022-11-06T15:09:30.691Z"
   },
   {
    "duration": 24,
    "start_time": "2022-11-06T15:09:30.698Z"
   },
   {
    "duration": 25,
    "start_time": "2022-11-06T15:09:30.723Z"
   },
   {
    "duration": 614,
    "start_time": "2022-11-06T15:09:30.749Z"
   },
   {
    "duration": 3,
    "start_time": "2022-11-06T15:09:31.365Z"
   },
   {
    "duration": 9,
    "start_time": "2022-11-06T15:09:31.369Z"
   },
   {
    "duration": 10,
    "start_time": "2022-11-06T15:09:31.379Z"
   },
   {
    "duration": 1411,
    "start_time": "2022-11-06T15:09:31.390Z"
   },
   {
    "duration": 6,
    "start_time": "2022-11-06T15:09:32.803Z"
   },
   {
    "duration": 4,
    "start_time": "2022-11-06T15:09:32.810Z"
   },
   {
    "duration": 5,
    "start_time": "2022-11-06T15:09:32.816Z"
   },
   {
    "duration": 6,
    "start_time": "2022-11-06T15:09:32.822Z"
   },
   {
    "duration": 12,
    "start_time": "2022-11-06T15:09:32.830Z"
   },
   {
    "duration": 7,
    "start_time": "2022-11-06T15:09:32.843Z"
   },
   {
    "duration": 40,
    "start_time": "2022-11-06T15:09:32.852Z"
   },
   {
    "duration": 0,
    "start_time": "2022-11-06T15:09:32.909Z"
   },
   {
    "duration": 4,
    "start_time": "2022-11-06T15:15:22.888Z"
   },
   {
    "duration": 9,
    "start_time": "2022-11-06T15:15:30.713Z"
   },
   {
    "duration": 699,
    "start_time": "2022-11-06T15:15:30.723Z"
   },
   {
    "duration": 48,
    "start_time": "2022-11-06T15:15:31.423Z"
   },
   {
    "duration": 233,
    "start_time": "2022-11-06T15:15:31.473Z"
   },
   {
    "duration": 11,
    "start_time": "2022-11-06T15:15:31.708Z"
   },
   {
    "duration": 6,
    "start_time": "2022-11-06T15:15:31.721Z"
   },
   {
    "duration": 182,
    "start_time": "2022-11-06T15:15:31.729Z"
   },
   {
    "duration": 179,
    "start_time": "2022-11-06T15:15:31.914Z"
   },
   {
    "duration": 13,
    "start_time": "2022-11-06T15:15:32.096Z"
   },
   {
    "duration": 9,
    "start_time": "2022-11-06T15:15:32.111Z"
   },
   {
    "duration": 25,
    "start_time": "2022-11-06T15:15:32.122Z"
   },
   {
    "duration": 10,
    "start_time": "2022-11-06T15:15:32.149Z"
   },
   {
    "duration": 7,
    "start_time": "2022-11-06T15:15:32.161Z"
   },
   {
    "duration": 12,
    "start_time": "2022-11-06T15:15:32.170Z"
   },
   {
    "duration": 27,
    "start_time": "2022-11-06T15:15:32.184Z"
   },
   {
    "duration": 10,
    "start_time": "2022-11-06T15:15:32.212Z"
   },
   {
    "duration": 8,
    "start_time": "2022-11-06T15:15:32.224Z"
   },
   {
    "duration": 12,
    "start_time": "2022-11-06T15:15:32.233Z"
   },
   {
    "duration": 10,
    "start_time": "2022-11-06T15:15:32.246Z"
   },
   {
    "duration": 8,
    "start_time": "2022-11-06T15:15:32.258Z"
   },
   {
    "duration": 7,
    "start_time": "2022-11-06T15:15:32.268Z"
   },
   {
    "duration": 35,
    "start_time": "2022-11-06T15:15:32.277Z"
   },
   {
    "duration": 206,
    "start_time": "2022-11-06T15:15:32.314Z"
   },
   {
    "duration": 241,
    "start_time": "2022-11-06T15:15:32.524Z"
   },
   {
    "duration": 3,
    "start_time": "2022-11-06T15:15:32.767Z"
   },
   {
    "duration": 9,
    "start_time": "2022-11-06T15:15:32.771Z"
   },
   {
    "duration": 3431,
    "start_time": "2022-11-06T15:15:32.781Z"
   },
   {
    "duration": 5,
    "start_time": "2022-11-06T15:15:36.213Z"
   },
   {
    "duration": 7,
    "start_time": "2022-11-06T15:15:36.219Z"
   },
   {
    "duration": 12,
    "start_time": "2022-11-06T15:15:36.228Z"
   },
   {
    "duration": 838,
    "start_time": "2022-11-06T15:15:36.241Z"
   },
   {
    "duration": 4,
    "start_time": "2022-11-06T15:15:37.081Z"
   },
   {
    "duration": 5,
    "start_time": "2022-11-06T15:15:37.086Z"
   },
   {
    "duration": 18,
    "start_time": "2022-11-06T15:15:37.092Z"
   },
   {
    "duration": 1360,
    "start_time": "2022-11-06T15:15:37.124Z"
   },
   {
    "duration": 3,
    "start_time": "2022-11-06T15:15:38.486Z"
   },
   {
    "duration": 6,
    "start_time": "2022-11-06T15:15:38.490Z"
   },
   {
    "duration": 12,
    "start_time": "2022-11-06T15:15:38.498Z"
   },
   {
    "duration": 5,
    "start_time": "2022-11-06T15:15:38.511Z"
   },
   {
    "duration": 8,
    "start_time": "2022-11-06T15:15:38.517Z"
   },
   {
    "duration": 16,
    "start_time": "2022-11-06T15:15:38.527Z"
   },
   {
    "duration": 710,
    "start_time": "2022-11-06T15:15:38.544Z"
   },
   {
    "duration": 0,
    "start_time": "2022-11-06T15:15:39.256Z"
   },
   {
    "duration": 700,
    "start_time": "2022-11-06T15:17:53.585Z"
   },
   {
    "duration": 9,
    "start_time": "2022-11-06T15:18:30.326Z"
   },
   {
    "duration": 12,
    "start_time": "2022-11-06T15:19:19.207Z"
   },
   {
    "duration": 52,
    "start_time": "2022-11-06T15:20:40.003Z"
   },
   {
    "duration": 4,
    "start_time": "2022-11-06T15:20:52.193Z"
   },
   {
    "duration": 46,
    "start_time": "2022-11-06T15:21:59.611Z"
   },
   {
    "duration": 5,
    "start_time": "2022-11-06T15:22:12.070Z"
   },
   {
    "duration": 667,
    "start_time": "2022-11-06T15:22:12.077Z"
   },
   {
    "duration": 69,
    "start_time": "2022-11-06T15:22:12.746Z"
   },
   {
    "duration": 3,
    "start_time": "2022-11-06T15:22:12.816Z"
   },
   {
    "duration": 7,
    "start_time": "2022-11-06T15:22:12.821Z"
   },
   {
    "duration": 8,
    "start_time": "2022-11-06T15:22:12.830Z"
   },
   {
    "duration": 183,
    "start_time": "2022-11-06T15:22:12.840Z"
   },
   {
    "duration": 177,
    "start_time": "2022-11-06T15:22:13.025Z"
   },
   {
    "duration": 6,
    "start_time": "2022-11-06T15:22:13.204Z"
   },
   {
    "duration": 9,
    "start_time": "2022-11-06T15:22:13.212Z"
   },
   {
    "duration": 20,
    "start_time": "2022-11-06T15:22:13.224Z"
   },
   {
    "duration": 8,
    "start_time": "2022-11-06T15:22:13.246Z"
   },
   {
    "duration": 10,
    "start_time": "2022-11-06T15:22:13.256Z"
   },
   {
    "duration": 13,
    "start_time": "2022-11-06T15:22:13.268Z"
   },
   {
    "duration": 3,
    "start_time": "2022-11-06T15:22:13.283Z"
   },
   {
    "duration": 26,
    "start_time": "2022-11-06T15:22:13.288Z"
   },
   {
    "duration": 9,
    "start_time": "2022-11-06T15:22:13.315Z"
   },
   {
    "duration": 16,
    "start_time": "2022-11-06T15:22:13.325Z"
   },
   {
    "duration": 12,
    "start_time": "2022-11-06T15:22:13.343Z"
   },
   {
    "duration": 12,
    "start_time": "2022-11-06T15:22:13.356Z"
   },
   {
    "duration": 15,
    "start_time": "2022-11-06T15:22:13.369Z"
   },
   {
    "duration": 10,
    "start_time": "2022-11-06T15:22:13.386Z"
   },
   {
    "duration": 200,
    "start_time": "2022-11-06T15:22:13.397Z"
   },
   {
    "duration": 234,
    "start_time": "2022-11-06T15:22:13.598Z"
   },
   {
    "duration": 6,
    "start_time": "2022-11-06T15:22:13.834Z"
   },
   {
    "duration": 25,
    "start_time": "2022-11-06T15:22:13.843Z"
   },
   {
    "duration": 3522,
    "start_time": "2022-11-06T15:22:13.870Z"
   },
   {
    "duration": 4,
    "start_time": "2022-11-06T15:22:17.394Z"
   },
   {
    "duration": 14,
    "start_time": "2022-11-06T15:22:17.401Z"
   },
   {
    "duration": 10,
    "start_time": "2022-11-06T15:22:17.416Z"
   },
   {
    "duration": 575,
    "start_time": "2022-11-06T15:22:17.428Z"
   },
   {
    "duration": 3,
    "start_time": "2022-11-06T15:22:18.009Z"
   },
   {
    "duration": 7,
    "start_time": "2022-11-06T15:22:18.013Z"
   },
   {
    "duration": 5,
    "start_time": "2022-11-06T15:22:18.022Z"
   },
   {
    "duration": 1316,
    "start_time": "2022-11-06T15:22:18.029Z"
   },
   {
    "duration": 3,
    "start_time": "2022-11-06T15:22:19.347Z"
   },
   {
    "duration": 9,
    "start_time": "2022-11-06T15:22:19.351Z"
   },
   {
    "duration": 5,
    "start_time": "2022-11-06T15:22:19.362Z"
   },
   {
    "duration": 5,
    "start_time": "2022-11-06T15:22:19.369Z"
   },
   {
    "duration": 5,
    "start_time": "2022-11-06T15:22:19.376Z"
   },
   {
    "duration": 44,
    "start_time": "2022-11-06T15:22:19.383Z"
   },
   {
    "duration": 0,
    "start_time": "2022-11-06T15:22:19.429Z"
   },
   {
    "duration": 51,
    "start_time": "2022-11-06T15:22:53.823Z"
   },
   {
    "duration": 5,
    "start_time": "2022-11-06T15:23:09.110Z"
   },
   {
    "duration": 631,
    "start_time": "2022-11-06T15:23:09.117Z"
   },
   {
    "duration": 48,
    "start_time": "2022-11-06T15:23:09.750Z"
   },
   {
    "duration": 4,
    "start_time": "2022-11-06T15:23:09.808Z"
   },
   {
    "duration": 6,
    "start_time": "2022-11-06T15:23:09.814Z"
   },
   {
    "duration": 3,
    "start_time": "2022-11-06T15:23:10.116Z"
   },
   {
    "duration": 179,
    "start_time": "2022-11-06T15:23:10.121Z"
   },
   {
    "duration": 182,
    "start_time": "2022-11-06T15:23:10.302Z"
   },
   {
    "duration": 4,
    "start_time": "2022-11-06T15:23:10.486Z"
   },
   {
    "duration": 17,
    "start_time": "2022-11-06T15:23:10.493Z"
   },
   {
    "duration": 20,
    "start_time": "2022-11-06T15:23:10.511Z"
   },
   {
    "duration": 6,
    "start_time": "2022-11-06T15:23:10.533Z"
   },
   {
    "duration": 7,
    "start_time": "2022-11-06T15:23:10.541Z"
   },
   {
    "duration": 11,
    "start_time": "2022-11-06T15:23:10.549Z"
   },
   {
    "duration": 3,
    "start_time": "2022-11-06T15:23:10.561Z"
   },
   {
    "duration": 7,
    "start_time": "2022-11-06T15:23:10.566Z"
   },
   {
    "duration": 36,
    "start_time": "2022-11-06T15:23:10.574Z"
   },
   {
    "duration": 8,
    "start_time": "2022-11-06T15:23:10.611Z"
   },
   {
    "duration": 7,
    "start_time": "2022-11-06T15:23:10.623Z"
   },
   {
    "duration": 8,
    "start_time": "2022-11-06T15:23:10.632Z"
   },
   {
    "duration": 6,
    "start_time": "2022-11-06T15:23:10.642Z"
   },
   {
    "duration": 4,
    "start_time": "2022-11-06T15:23:10.650Z"
   },
   {
    "duration": 223,
    "start_time": "2022-11-06T15:23:10.655Z"
   },
   {
    "duration": 207,
    "start_time": "2022-11-06T15:23:10.879Z"
   },
   {
    "duration": 3,
    "start_time": "2022-11-06T15:23:11.088Z"
   },
   {
    "duration": 18,
    "start_time": "2022-11-06T15:23:11.093Z"
   },
   {
    "duration": 3291,
    "start_time": "2022-11-06T15:23:11.112Z"
   },
   {
    "duration": 5,
    "start_time": "2022-11-06T15:23:14.404Z"
   },
   {
    "duration": 8,
    "start_time": "2022-11-06T15:23:14.410Z"
   },
   {
    "duration": 7,
    "start_time": "2022-11-06T15:23:14.420Z"
   },
   {
    "duration": 671,
    "start_time": "2022-11-06T15:23:14.429Z"
   },
   {
    "duration": 6,
    "start_time": "2022-11-06T15:23:15.102Z"
   },
   {
    "duration": 54,
    "start_time": "2022-11-06T15:23:15.110Z"
   },
   {
    "duration": 19,
    "start_time": "2022-11-06T15:23:15.165Z"
   },
   {
    "duration": 1570,
    "start_time": "2022-11-06T15:23:15.186Z"
   },
   {
    "duration": 3,
    "start_time": "2022-11-06T15:23:16.759Z"
   },
   {
    "duration": 37,
    "start_time": "2022-11-06T15:23:16.763Z"
   },
   {
    "duration": 35,
    "start_time": "2022-11-06T15:23:16.802Z"
   },
   {
    "duration": 23,
    "start_time": "2022-11-06T15:23:16.839Z"
   },
   {
    "duration": 25,
    "start_time": "2022-11-06T15:23:16.863Z"
   },
   {
    "duration": 39,
    "start_time": "2022-11-06T15:23:16.890Z"
   },
   {
    "duration": 58,
    "start_time": "2022-11-06T15:25:25.278Z"
   },
   {
    "duration": 6,
    "start_time": "2022-11-06T15:25:31.454Z"
   },
   {
    "duration": 608,
    "start_time": "2022-11-06T15:25:31.461Z"
   },
   {
    "duration": 57,
    "start_time": "2022-11-06T15:25:32.071Z"
   },
   {
    "duration": 3,
    "start_time": "2022-11-06T15:25:32.130Z"
   },
   {
    "duration": 10,
    "start_time": "2022-11-06T15:25:32.135Z"
   },
   {
    "duration": 10,
    "start_time": "2022-11-06T15:25:32.146Z"
   },
   {
    "duration": 197,
    "start_time": "2022-11-06T15:25:32.158Z"
   },
   {
    "duration": 174,
    "start_time": "2022-11-06T15:25:32.357Z"
   },
   {
    "duration": 5,
    "start_time": "2022-11-06T15:25:32.533Z"
   },
   {
    "duration": 16,
    "start_time": "2022-11-06T15:25:32.540Z"
   },
   {
    "duration": 26,
    "start_time": "2022-11-06T15:25:32.559Z"
   },
   {
    "duration": 30,
    "start_time": "2022-11-06T15:25:32.587Z"
   },
   {
    "duration": 13,
    "start_time": "2022-11-06T15:25:32.619Z"
   },
   {
    "duration": 19,
    "start_time": "2022-11-06T15:25:32.634Z"
   },
   {
    "duration": 6,
    "start_time": "2022-11-06T15:25:32.655Z"
   },
   {
    "duration": 8,
    "start_time": "2022-11-06T15:25:32.663Z"
   },
   {
    "duration": 6,
    "start_time": "2022-11-06T15:25:32.673Z"
   },
   {
    "duration": 13,
    "start_time": "2022-11-06T15:25:32.681Z"
   },
   {
    "duration": 8,
    "start_time": "2022-11-06T15:25:32.710Z"
   },
   {
    "duration": 12,
    "start_time": "2022-11-06T15:25:32.720Z"
   },
   {
    "duration": 10,
    "start_time": "2022-11-06T15:25:32.734Z"
   },
   {
    "duration": 21,
    "start_time": "2022-11-06T15:25:32.746Z"
   },
   {
    "duration": 206,
    "start_time": "2022-11-06T15:25:32.769Z"
   },
   {
    "duration": 209,
    "start_time": "2022-11-06T15:25:32.976Z"
   },
   {
    "duration": 3,
    "start_time": "2022-11-06T15:25:33.186Z"
   },
   {
    "duration": 5,
    "start_time": "2022-11-06T15:25:33.190Z"
   },
   {
    "duration": 3490,
    "start_time": "2022-11-06T15:25:33.196Z"
   },
   {
    "duration": 4,
    "start_time": "2022-11-06T15:25:36.688Z"
   },
   {
    "duration": 14,
    "start_time": "2022-11-06T15:25:36.695Z"
   },
   {
    "duration": 3,
    "start_time": "2022-11-06T15:25:36.710Z"
   },
   {
    "duration": 547,
    "start_time": "2022-11-06T15:25:36.715Z"
   },
   {
    "duration": 3,
    "start_time": "2022-11-06T15:25:37.264Z"
   },
   {
    "duration": 14,
    "start_time": "2022-11-06T15:25:37.268Z"
   },
   {
    "duration": 13,
    "start_time": "2022-11-06T15:25:37.284Z"
   },
   {
    "duration": 1376,
    "start_time": "2022-11-06T15:25:37.298Z"
   },
   {
    "duration": 4,
    "start_time": "2022-11-06T15:25:38.675Z"
   },
   {
    "duration": 10,
    "start_time": "2022-11-06T15:25:38.680Z"
   },
   {
    "duration": 19,
    "start_time": "2022-11-06T15:25:38.692Z"
   },
   {
    "duration": 18,
    "start_time": "2022-11-06T15:25:38.712Z"
   },
   {
    "duration": 23,
    "start_time": "2022-11-06T15:25:38.732Z"
   },
   {
    "duration": 64,
    "start_time": "2022-11-06T15:25:38.757Z"
   },
   {
    "duration": 0,
    "start_time": "2022-11-06T15:25:38.822Z"
   },
   {
    "duration": 4,
    "start_time": "2022-11-06T15:26:24.860Z"
   },
   {
    "duration": 113,
    "start_time": "2022-11-06T15:26:51.775Z"
   },
   {
    "duration": 6,
    "start_time": "2022-11-06T15:26:59.293Z"
   },
   {
    "duration": 643,
    "start_time": "2022-11-06T15:26:59.301Z"
   },
   {
    "duration": 46,
    "start_time": "2022-11-06T15:26:59.946Z"
   },
   {
    "duration": 3,
    "start_time": "2022-11-06T15:26:59.993Z"
   },
   {
    "duration": 4,
    "start_time": "2022-11-06T15:27:00.010Z"
   },
   {
    "duration": 9,
    "start_time": "2022-11-06T15:27:00.015Z"
   },
   {
    "duration": 184,
    "start_time": "2022-11-06T15:27:00.025Z"
   },
   {
    "duration": 170,
    "start_time": "2022-11-06T15:27:00.211Z"
   },
   {
    "duration": 4,
    "start_time": "2022-11-06T15:27:00.383Z"
   },
   {
    "duration": 33,
    "start_time": "2022-11-06T15:27:00.389Z"
   },
   {
    "duration": 29,
    "start_time": "2022-11-06T15:27:00.425Z"
   },
   {
    "duration": 17,
    "start_time": "2022-11-06T15:27:00.456Z"
   },
   {
    "duration": 23,
    "start_time": "2022-11-06T15:27:00.475Z"
   },
   {
    "duration": 36,
    "start_time": "2022-11-06T15:27:00.500Z"
   },
   {
    "duration": 39,
    "start_time": "2022-11-06T15:27:00.538Z"
   },
   {
    "duration": 62,
    "start_time": "2022-11-06T15:27:00.579Z"
   },
   {
    "duration": 29,
    "start_time": "2022-11-06T15:27:00.643Z"
   },
   {
    "duration": 27,
    "start_time": "2022-11-06T15:27:00.674Z"
   },
   {
    "duration": 53,
    "start_time": "2022-11-06T15:27:00.702Z"
   },
   {
    "duration": 55,
    "start_time": "2022-11-06T15:27:00.757Z"
   },
   {
    "duration": 25,
    "start_time": "2022-11-06T15:27:00.814Z"
   },
   {
    "duration": 28,
    "start_time": "2022-11-06T15:27:00.841Z"
   },
   {
    "duration": 239,
    "start_time": "2022-11-06T15:27:00.870Z"
   },
   {
    "duration": 203,
    "start_time": "2022-11-06T15:27:01.111Z"
   },
   {
    "duration": 3,
    "start_time": "2022-11-06T15:27:01.316Z"
   },
   {
    "duration": 10,
    "start_time": "2022-11-06T15:27:01.320Z"
   },
   {
    "duration": 3688,
    "start_time": "2022-11-06T15:27:01.332Z"
   },
   {
    "duration": 5,
    "start_time": "2022-11-06T15:27:05.022Z"
   },
   {
    "duration": 4,
    "start_time": "2022-11-06T15:27:05.031Z"
   },
   {
    "duration": 16,
    "start_time": "2022-11-06T15:27:05.037Z"
   },
   {
    "duration": 603,
    "start_time": "2022-11-06T15:27:05.055Z"
   },
   {
    "duration": 3,
    "start_time": "2022-11-06T15:27:05.660Z"
   },
   {
    "duration": 8,
    "start_time": "2022-11-06T15:27:05.664Z"
   },
   {
    "duration": 6,
    "start_time": "2022-11-06T15:27:05.674Z"
   },
   {
    "duration": 1263,
    "start_time": "2022-11-06T15:27:05.681Z"
   },
   {
    "duration": 2,
    "start_time": "2022-11-06T15:27:06.946Z"
   },
   {
    "duration": 7,
    "start_time": "2022-11-06T15:27:06.950Z"
   },
   {
    "duration": 6,
    "start_time": "2022-11-06T15:27:06.958Z"
   },
   {
    "duration": 7,
    "start_time": "2022-11-06T15:27:06.966Z"
   },
   {
    "duration": 6,
    "start_time": "2022-11-06T15:27:06.974Z"
   },
   {
    "duration": 62,
    "start_time": "2022-11-06T15:27:06.981Z"
   },
   {
    "duration": 0,
    "start_time": "2022-11-06T15:27:07.045Z"
   },
   {
    "duration": 6,
    "start_time": "2022-11-06T15:30:08.467Z"
   },
   {
    "duration": 690,
    "start_time": "2022-11-06T15:30:08.475Z"
   },
   {
    "duration": 58,
    "start_time": "2022-11-06T15:30:09.167Z"
   },
   {
    "duration": 3,
    "start_time": "2022-11-06T15:30:09.226Z"
   },
   {
    "duration": 37,
    "start_time": "2022-11-06T15:30:09.231Z"
   },
   {
    "duration": 31,
    "start_time": "2022-11-06T15:30:09.269Z"
   },
   {
    "duration": 189,
    "start_time": "2022-11-06T15:30:09.302Z"
   },
   {
    "duration": 456,
    "start_time": "2022-11-06T15:30:09.493Z"
   },
   {
    "duration": 4,
    "start_time": "2022-11-06T15:30:09.951Z"
   },
   {
    "duration": 37,
    "start_time": "2022-11-06T15:30:09.956Z"
   },
   {
    "duration": 47,
    "start_time": "2022-11-06T15:30:09.995Z"
   },
   {
    "duration": 18,
    "start_time": "2022-11-06T15:30:10.044Z"
   },
   {
    "duration": 15,
    "start_time": "2022-11-06T15:30:10.063Z"
   },
   {
    "duration": 34,
    "start_time": "2022-11-06T15:30:10.079Z"
   },
   {
    "duration": 12,
    "start_time": "2022-11-06T15:30:10.115Z"
   },
   {
    "duration": 20,
    "start_time": "2022-11-06T15:30:10.128Z"
   },
   {
    "duration": 35,
    "start_time": "2022-11-06T15:30:10.150Z"
   },
   {
    "duration": 17,
    "start_time": "2022-11-06T15:30:10.186Z"
   },
   {
    "duration": 15,
    "start_time": "2022-11-06T15:30:10.205Z"
   },
   {
    "duration": 40,
    "start_time": "2022-11-06T15:30:10.222Z"
   },
   {
    "duration": 9,
    "start_time": "2022-11-06T15:30:10.264Z"
   },
   {
    "duration": 8,
    "start_time": "2022-11-06T15:30:10.274Z"
   },
   {
    "duration": 207,
    "start_time": "2022-11-06T15:30:10.284Z"
   },
   {
    "duration": 199,
    "start_time": "2022-11-06T15:30:10.492Z"
   },
   {
    "duration": 3,
    "start_time": "2022-11-06T15:30:10.693Z"
   },
   {
    "duration": 19,
    "start_time": "2022-11-06T15:30:10.697Z"
   },
   {
    "duration": 3389,
    "start_time": "2022-11-06T15:30:10.717Z"
   },
   {
    "duration": 5,
    "start_time": "2022-11-06T15:30:14.108Z"
   },
   {
    "duration": 13,
    "start_time": "2022-11-06T15:30:14.116Z"
   },
   {
    "duration": 11,
    "start_time": "2022-11-06T15:30:14.130Z"
   },
   {
    "duration": 633,
    "start_time": "2022-11-06T15:30:14.143Z"
   },
   {
    "duration": 3,
    "start_time": "2022-11-06T15:30:14.778Z"
   },
   {
    "duration": 8,
    "start_time": "2022-11-06T15:30:14.782Z"
   },
   {
    "duration": 5,
    "start_time": "2022-11-06T15:30:14.792Z"
   },
   {
    "duration": 1352,
    "start_time": "2022-11-06T15:30:14.799Z"
   },
   {
    "duration": 3,
    "start_time": "2022-11-06T15:30:16.153Z"
   },
   {
    "duration": 7,
    "start_time": "2022-11-06T15:30:16.158Z"
   },
   {
    "duration": 4,
    "start_time": "2022-11-06T15:30:16.166Z"
   },
   {
    "duration": 6,
    "start_time": "2022-11-06T15:30:16.171Z"
   },
   {
    "duration": 6,
    "start_time": "2022-11-06T15:30:16.178Z"
   },
   {
    "duration": 50,
    "start_time": "2022-11-06T15:30:16.185Z"
   },
   {
    "duration": 0,
    "start_time": "2022-11-06T15:30:16.236Z"
   },
   {
    "duration": 6,
    "start_time": "2022-11-06T15:37:23.701Z"
   },
   {
    "duration": 694,
    "start_time": "2022-11-06T15:37:23.710Z"
   },
   {
    "duration": 53,
    "start_time": "2022-11-06T15:37:24.406Z"
   },
   {
    "duration": 4,
    "start_time": "2022-11-06T15:37:24.461Z"
   },
   {
    "duration": 41,
    "start_time": "2022-11-06T15:37:24.468Z"
   },
   {
    "duration": 18,
    "start_time": "2022-11-06T15:37:24.511Z"
   },
   {
    "duration": 203,
    "start_time": "2022-11-06T15:37:24.531Z"
   },
   {
    "duration": 199,
    "start_time": "2022-11-06T15:37:24.736Z"
   },
   {
    "duration": 4,
    "start_time": "2022-11-06T15:37:24.937Z"
   },
   {
    "duration": 33,
    "start_time": "2022-11-06T15:37:24.944Z"
   },
   {
    "duration": 45,
    "start_time": "2022-11-06T15:37:24.980Z"
   },
   {
    "duration": 39,
    "start_time": "2022-11-06T15:37:25.026Z"
   },
   {
    "duration": 21,
    "start_time": "2022-11-06T15:37:25.067Z"
   },
   {
    "duration": 21,
    "start_time": "2022-11-06T15:37:25.090Z"
   },
   {
    "duration": 16,
    "start_time": "2022-11-06T15:37:25.112Z"
   },
   {
    "duration": 30,
    "start_time": "2022-11-06T15:37:25.131Z"
   },
   {
    "duration": 23,
    "start_time": "2022-11-06T15:37:25.162Z"
   },
   {
    "duration": 9,
    "start_time": "2022-11-06T15:37:25.187Z"
   },
   {
    "duration": 11,
    "start_time": "2022-11-06T15:37:25.197Z"
   },
   {
    "duration": 23,
    "start_time": "2022-11-06T15:37:25.209Z"
   },
   {
    "duration": 14,
    "start_time": "2022-11-06T15:37:25.233Z"
   },
   {
    "duration": 16,
    "start_time": "2022-11-06T15:37:25.248Z"
   },
   {
    "duration": 216,
    "start_time": "2022-11-06T15:37:25.266Z"
   },
   {
    "duration": 211,
    "start_time": "2022-11-06T15:37:25.484Z"
   },
   {
    "duration": 3,
    "start_time": "2022-11-06T15:37:25.697Z"
   },
   {
    "duration": 20,
    "start_time": "2022-11-06T15:37:25.701Z"
   },
   {
    "duration": 3467,
    "start_time": "2022-11-06T15:37:25.722Z"
   },
   {
    "duration": 4,
    "start_time": "2022-11-06T15:37:29.190Z"
   },
   {
    "duration": 18,
    "start_time": "2022-11-06T15:37:29.197Z"
   },
   {
    "duration": 33,
    "start_time": "2022-11-06T15:37:29.216Z"
   },
   {
    "duration": 610,
    "start_time": "2022-11-06T15:37:29.250Z"
   },
   {
    "duration": 4,
    "start_time": "2022-11-06T15:37:29.862Z"
   },
   {
    "duration": 33,
    "start_time": "2022-11-06T15:37:29.867Z"
   },
   {
    "duration": 32,
    "start_time": "2022-11-06T15:37:29.902Z"
   },
   {
    "duration": 1424,
    "start_time": "2022-11-06T15:37:29.936Z"
   },
   {
    "duration": 5,
    "start_time": "2022-11-06T15:37:31.361Z"
   },
   {
    "duration": 25,
    "start_time": "2022-11-06T15:37:31.367Z"
   },
   {
    "duration": 25,
    "start_time": "2022-11-06T15:37:31.393Z"
   },
   {
    "duration": 36,
    "start_time": "2022-11-06T15:37:31.420Z"
   },
   {
    "duration": 23,
    "start_time": "2022-11-06T15:37:31.457Z"
   },
   {
    "duration": 51,
    "start_time": "2022-11-06T15:37:31.481Z"
   },
   {
    "duration": 0,
    "start_time": "2022-11-06T15:37:31.534Z"
   },
   {
    "duration": 5,
    "start_time": "2022-11-06T15:37:55.673Z"
   },
   {
    "duration": 6,
    "start_time": "2022-11-06T15:38:00.772Z"
   },
   {
    "duration": 707,
    "start_time": "2022-11-06T15:38:00.779Z"
   },
   {
    "duration": 53,
    "start_time": "2022-11-06T15:38:01.488Z"
   },
   {
    "duration": 3,
    "start_time": "2022-11-06T15:38:01.543Z"
   },
   {
    "duration": 16,
    "start_time": "2022-11-06T15:38:01.548Z"
   },
   {
    "duration": 7,
    "start_time": "2022-11-06T15:38:01.566Z"
   },
   {
    "duration": 179,
    "start_time": "2022-11-06T15:38:01.575Z"
   },
   {
    "duration": 169,
    "start_time": "2022-11-06T15:38:01.755Z"
   },
   {
    "duration": 4,
    "start_time": "2022-11-06T15:38:01.926Z"
   },
   {
    "duration": 11,
    "start_time": "2022-11-06T15:38:01.931Z"
   },
   {
    "duration": 22,
    "start_time": "2022-11-06T15:38:01.945Z"
   },
   {
    "duration": 8,
    "start_time": "2022-11-06T15:38:01.968Z"
   },
   {
    "duration": 10,
    "start_time": "2022-11-06T15:38:01.978Z"
   },
   {
    "duration": 26,
    "start_time": "2022-11-06T15:38:01.989Z"
   },
   {
    "duration": 3,
    "start_time": "2022-11-06T15:38:02.017Z"
   },
   {
    "duration": 9,
    "start_time": "2022-11-06T15:38:02.021Z"
   },
   {
    "duration": 7,
    "start_time": "2022-11-06T15:38:02.031Z"
   },
   {
    "duration": 6,
    "start_time": "2022-11-06T15:38:02.039Z"
   },
   {
    "duration": 7,
    "start_time": "2022-11-06T15:38:02.046Z"
   },
   {
    "duration": 9,
    "start_time": "2022-11-06T15:38:02.055Z"
   },
   {
    "duration": 20,
    "start_time": "2022-11-06T15:38:02.066Z"
   },
   {
    "duration": 24,
    "start_time": "2022-11-06T15:38:02.088Z"
   },
   {
    "duration": 199,
    "start_time": "2022-11-06T15:38:02.113Z"
   },
   {
    "duration": 210,
    "start_time": "2022-11-06T15:38:02.313Z"
   },
   {
    "duration": 4,
    "start_time": "2022-11-06T15:38:02.525Z"
   },
   {
    "duration": 13,
    "start_time": "2022-11-06T15:38:02.531Z"
   },
   {
    "duration": 3748,
    "start_time": "2022-11-06T15:38:02.545Z"
   },
   {
    "duration": 4,
    "start_time": "2022-11-06T15:38:06.295Z"
   },
   {
    "duration": 17,
    "start_time": "2022-11-06T15:38:06.308Z"
   },
   {
    "duration": 18,
    "start_time": "2022-11-06T15:38:06.326Z"
   },
   {
    "duration": 923,
    "start_time": "2022-11-06T15:38:06.346Z"
   },
   {
    "duration": 3,
    "start_time": "2022-11-06T15:38:07.271Z"
   },
   {
    "duration": 8,
    "start_time": "2022-11-06T15:38:07.275Z"
   },
   {
    "duration": 7,
    "start_time": "2022-11-06T15:38:07.284Z"
   },
   {
    "duration": 1273,
    "start_time": "2022-11-06T15:38:07.292Z"
   },
   {
    "duration": 3,
    "start_time": "2022-11-06T15:38:08.567Z"
   },
   {
    "duration": 36,
    "start_time": "2022-11-06T15:38:08.572Z"
   },
   {
    "duration": 14,
    "start_time": "2022-11-06T15:38:08.610Z"
   },
   {
    "duration": 6,
    "start_time": "2022-11-06T15:38:08.626Z"
   },
   {
    "duration": 7,
    "start_time": "2022-11-06T15:38:08.633Z"
   },
   {
    "duration": 9,
    "start_time": "2022-11-06T15:38:08.642Z"
   },
   {
    "duration": 11,
    "start_time": "2022-11-06T15:38:08.652Z"
   },
   {
    "duration": 39,
    "start_time": "2022-11-06T15:38:15.972Z"
   },
   {
    "duration": 6,
    "start_time": "2022-11-06T15:44:29.212Z"
   },
   {
    "duration": 693,
    "start_time": "2022-11-06T15:44:29.220Z"
   },
   {
    "duration": 50,
    "start_time": "2022-11-06T15:44:29.915Z"
   },
   {
    "duration": 3,
    "start_time": "2022-11-06T15:44:29.967Z"
   },
   {
    "duration": 12,
    "start_time": "2022-11-06T15:44:29.972Z"
   },
   {
    "duration": 24,
    "start_time": "2022-11-06T15:44:29.985Z"
   },
   {
    "duration": 176,
    "start_time": "2022-11-06T15:44:30.010Z"
   },
   {
    "duration": 180,
    "start_time": "2022-11-06T15:44:30.187Z"
   },
   {
    "duration": 4,
    "start_time": "2022-11-06T15:44:30.368Z"
   },
   {
    "duration": 64,
    "start_time": "2022-11-06T15:44:30.374Z"
   },
   {
    "duration": 58,
    "start_time": "2022-11-06T15:44:30.440Z"
   },
   {
    "duration": 46,
    "start_time": "2022-11-06T15:44:30.499Z"
   },
   {
    "duration": 55,
    "start_time": "2022-11-06T15:44:30.548Z"
   },
   {
    "duration": 62,
    "start_time": "2022-11-06T15:44:30.605Z"
   },
   {
    "duration": 44,
    "start_time": "2022-11-06T15:44:30.669Z"
   },
   {
    "duration": 58,
    "start_time": "2022-11-06T15:44:30.715Z"
   },
   {
    "duration": 47,
    "start_time": "2022-11-06T15:44:30.774Z"
   },
   {
    "duration": 88,
    "start_time": "2022-11-06T15:44:30.823Z"
   },
   {
    "duration": 106,
    "start_time": "2022-11-06T15:44:30.912Z"
   },
   {
    "duration": 123,
    "start_time": "2022-11-06T15:44:31.019Z"
   },
   {
    "duration": 46,
    "start_time": "2022-11-06T15:44:31.144Z"
   },
   {
    "duration": 39,
    "start_time": "2022-11-06T15:44:31.192Z"
   },
   {
    "duration": 209,
    "start_time": "2022-11-06T15:44:31.233Z"
   },
   {
    "duration": 225,
    "start_time": "2022-11-06T15:44:31.444Z"
   },
   {
    "duration": 4,
    "start_time": "2022-11-06T15:44:31.671Z"
   },
   {
    "duration": 23,
    "start_time": "2022-11-06T15:44:31.676Z"
   },
   {
    "duration": 3689,
    "start_time": "2022-11-06T15:44:31.700Z"
   },
   {
    "duration": 4,
    "start_time": "2022-11-06T15:44:35.391Z"
   },
   {
    "duration": 13,
    "start_time": "2022-11-06T15:44:35.398Z"
   },
   {
    "duration": 8,
    "start_time": "2022-11-06T15:44:35.413Z"
   },
   {
    "duration": 641,
    "start_time": "2022-11-06T15:44:35.423Z"
   },
   {
    "duration": 4,
    "start_time": "2022-11-06T15:44:36.065Z"
   },
   {
    "duration": 7,
    "start_time": "2022-11-06T15:44:36.070Z"
   },
   {
    "duration": 5,
    "start_time": "2022-11-06T15:44:36.078Z"
   },
   {
    "duration": 1368,
    "start_time": "2022-11-06T15:44:36.085Z"
   },
   {
    "duration": 3,
    "start_time": "2022-11-06T15:44:37.455Z"
   },
   {
    "duration": 8,
    "start_time": "2022-11-06T15:44:37.459Z"
   },
   {
    "duration": 5,
    "start_time": "2022-11-06T15:44:37.468Z"
   },
   {
    "duration": 7,
    "start_time": "2022-11-06T15:44:37.474Z"
   },
   {
    "duration": 11,
    "start_time": "2022-11-06T15:44:37.482Z"
   },
   {
    "duration": 18,
    "start_time": "2022-11-06T15:44:37.494Z"
   },
   {
    "duration": 41,
    "start_time": "2022-11-06T15:44:46.216Z"
   },
   {
    "duration": 3,
    "start_time": "2022-11-06T15:45:40.245Z"
   },
   {
    "duration": 10,
    "start_time": "2022-11-06T15:46:56.194Z"
   },
   {
    "duration": 12,
    "start_time": "2022-11-06T15:47:25.521Z"
   },
   {
    "duration": 4,
    "start_time": "2022-11-06T15:49:12.419Z"
   },
   {
    "duration": 10,
    "start_time": "2022-11-06T15:50:24.131Z"
   },
   {
    "duration": 37,
    "start_time": "2022-11-06T15:53:25.573Z"
   },
   {
    "duration": 45,
    "start_time": "2022-11-06T15:54:31.321Z"
   },
   {
    "duration": 38,
    "start_time": "2022-11-06T15:56:59.587Z"
   },
   {
    "duration": 32,
    "start_time": "2022-11-06T15:58:25.177Z"
   },
   {
    "duration": 30,
    "start_time": "2022-11-06T16:00:40.661Z"
   },
   {
    "duration": 48,
    "start_time": "2022-11-06T16:06:57.286Z"
   },
   {
    "duration": 3,
    "start_time": "2022-11-06T16:08:27.624Z"
   },
   {
    "duration": 2,
    "start_time": "2022-11-06T16:08:38.424Z"
   },
   {
    "duration": 3,
    "start_time": "2022-11-06T16:08:49.725Z"
   },
   {
    "duration": 6,
    "start_time": "2022-11-06T16:09:30.397Z"
   },
   {
    "duration": 764,
    "start_time": "2022-11-06T16:09:30.405Z"
   },
   {
    "duration": 58,
    "start_time": "2022-11-06T16:09:31.171Z"
   },
   {
    "duration": 3,
    "start_time": "2022-11-06T16:09:31.230Z"
   },
   {
    "duration": 11,
    "start_time": "2022-11-06T16:09:31.235Z"
   },
   {
    "duration": 11,
    "start_time": "2022-11-06T16:09:31.247Z"
   },
   {
    "duration": 183,
    "start_time": "2022-11-06T16:09:31.259Z"
   },
   {
    "duration": 187,
    "start_time": "2022-11-06T16:09:31.444Z"
   },
   {
    "duration": 4,
    "start_time": "2022-11-06T16:09:31.632Z"
   },
   {
    "duration": 30,
    "start_time": "2022-11-06T16:09:31.637Z"
   },
   {
    "duration": 26,
    "start_time": "2022-11-06T16:09:31.669Z"
   },
   {
    "duration": 24,
    "start_time": "2022-11-06T16:09:31.696Z"
   },
   {
    "duration": 19,
    "start_time": "2022-11-06T16:09:31.722Z"
   },
   {
    "duration": 28,
    "start_time": "2022-11-06T16:09:31.742Z"
   },
   {
    "duration": 4,
    "start_time": "2022-11-06T16:09:31.772Z"
   },
   {
    "duration": 10,
    "start_time": "2022-11-06T16:09:31.777Z"
   },
   {
    "duration": 10,
    "start_time": "2022-11-06T16:09:31.788Z"
   },
   {
    "duration": 8,
    "start_time": "2022-11-06T16:09:31.799Z"
   },
   {
    "duration": 23,
    "start_time": "2022-11-06T16:09:31.808Z"
   },
   {
    "duration": 9,
    "start_time": "2022-11-06T16:09:31.833Z"
   },
   {
    "duration": 7,
    "start_time": "2022-11-06T16:09:31.843Z"
   },
   {
    "duration": 7,
    "start_time": "2022-11-06T16:09:31.851Z"
   },
   {
    "duration": 189,
    "start_time": "2022-11-06T16:09:31.860Z"
   },
   {
    "duration": 203,
    "start_time": "2022-11-06T16:09:32.050Z"
   },
   {
    "duration": 3,
    "start_time": "2022-11-06T16:09:32.255Z"
   },
   {
    "duration": 6,
    "start_time": "2022-11-06T16:09:32.260Z"
   },
   {
    "duration": 3522,
    "start_time": "2022-11-06T16:09:32.267Z"
   },
   {
    "duration": 4,
    "start_time": "2022-11-06T16:09:35.791Z"
   },
   {
    "duration": 23,
    "start_time": "2022-11-06T16:09:35.799Z"
   },
   {
    "duration": 7,
    "start_time": "2022-11-06T16:09:35.824Z"
   },
   {
    "duration": 637,
    "start_time": "2022-11-06T16:09:35.833Z"
   },
   {
    "duration": 4,
    "start_time": "2022-11-06T16:09:36.472Z"
   },
   {
    "duration": 8,
    "start_time": "2022-11-06T16:09:36.479Z"
   },
   {
    "duration": 5,
    "start_time": "2022-11-06T16:09:36.488Z"
   },
   {
    "duration": 1266,
    "start_time": "2022-11-06T16:09:36.512Z"
   },
   {
    "duration": 3,
    "start_time": "2022-11-06T16:09:37.780Z"
   },
   {
    "duration": 7,
    "start_time": "2022-11-06T16:09:37.784Z"
   },
   {
    "duration": 31,
    "start_time": "2022-11-06T16:09:37.793Z"
   },
   {
    "duration": 8,
    "start_time": "2022-11-06T16:09:37.826Z"
   },
   {
    "duration": 5,
    "start_time": "2022-11-06T16:09:37.836Z"
   },
   {
    "duration": 5,
    "start_time": "2022-11-06T16:09:37.843Z"
   },
   {
    "duration": 4,
    "start_time": "2022-11-06T16:09:37.850Z"
   },
   {
    "duration": 26,
    "start_time": "2022-11-06T16:09:37.856Z"
   },
   {
    "duration": 15,
    "start_time": "2022-11-06T16:09:37.884Z"
   },
   {
    "duration": 5,
    "start_time": "2022-11-06T16:09:37.900Z"
   },
   {
    "duration": 23,
    "start_time": "2022-11-06T16:09:37.907Z"
   },
   {
    "duration": 4,
    "start_time": "2022-11-06T16:09:37.931Z"
   },
   {
    "duration": 5,
    "start_time": "2022-11-06T16:09:37.937Z"
   },
   {
    "duration": 5,
    "start_time": "2022-11-06T16:09:37.943Z"
   },
   {
    "duration": 40,
    "start_time": "2022-11-06T16:09:37.949Z"
   },
   {
    "duration": 0,
    "start_time": "2022-11-06T16:09:37.991Z"
   },
   {
    "duration": 0,
    "start_time": "2022-11-06T16:09:37.992Z"
   },
   {
    "duration": 0,
    "start_time": "2022-11-06T16:09:37.993Z"
   },
   {
    "duration": 0,
    "start_time": "2022-11-06T16:09:37.993Z"
   },
   {
    "duration": 0,
    "start_time": "2022-11-06T16:09:37.995Z"
   },
   {
    "duration": 0,
    "start_time": "2022-11-06T16:09:37.995Z"
   },
   {
    "duration": 0,
    "start_time": "2022-11-06T16:09:37.996Z"
   },
   {
    "duration": 0,
    "start_time": "2022-11-06T16:09:38.016Z"
   },
   {
    "duration": 0,
    "start_time": "2022-11-06T16:09:38.016Z"
   },
   {
    "duration": 0,
    "start_time": "2022-11-06T16:09:38.017Z"
   },
   {
    "duration": 0,
    "start_time": "2022-11-06T16:09:38.017Z"
   },
   {
    "duration": 0,
    "start_time": "2022-11-06T16:09:38.018Z"
   },
   {
    "duration": 0,
    "start_time": "2022-11-06T16:09:38.018Z"
   },
   {
    "duration": 0,
    "start_time": "2022-11-06T16:09:38.019Z"
   },
   {
    "duration": 0,
    "start_time": "2022-11-06T16:09:38.019Z"
   },
   {
    "duration": 0,
    "start_time": "2022-11-06T16:09:38.021Z"
   },
   {
    "duration": 0,
    "start_time": "2022-11-06T16:09:38.023Z"
   },
   {
    "duration": 0,
    "start_time": "2022-11-06T16:09:38.024Z"
   },
   {
    "duration": 0,
    "start_time": "2022-11-06T16:09:38.025Z"
   },
   {
    "duration": 0,
    "start_time": "2022-11-06T16:09:38.026Z"
   },
   {
    "duration": 2,
    "start_time": "2022-11-06T16:12:32.484Z"
   },
   {
    "duration": 6,
    "start_time": "2022-11-06T16:12:47.349Z"
   },
   {
    "duration": 697,
    "start_time": "2022-11-06T16:12:47.357Z"
   },
   {
    "duration": 65,
    "start_time": "2022-11-06T16:12:48.056Z"
   },
   {
    "duration": 9,
    "start_time": "2022-11-06T16:12:48.123Z"
   },
   {
    "duration": 5,
    "start_time": "2022-11-06T16:12:48.134Z"
   },
   {
    "duration": 11,
    "start_time": "2022-11-06T16:12:48.142Z"
   },
   {
    "duration": 184,
    "start_time": "2022-11-06T16:12:48.155Z"
   },
   {
    "duration": 483,
    "start_time": "2022-11-06T16:12:48.341Z"
   },
   {
    "duration": 5,
    "start_time": "2022-11-06T16:12:48.827Z"
   },
   {
    "duration": 6,
    "start_time": "2022-11-06T16:12:48.833Z"
   },
   {
    "duration": 23,
    "start_time": "2022-11-06T16:12:48.841Z"
   },
   {
    "duration": 7,
    "start_time": "2022-11-06T16:12:48.865Z"
   },
   {
    "duration": 7,
    "start_time": "2022-11-06T16:12:48.874Z"
   },
   {
    "duration": 41,
    "start_time": "2022-11-06T16:12:48.882Z"
   },
   {
    "duration": 3,
    "start_time": "2022-11-06T16:12:48.925Z"
   },
   {
    "duration": 7,
    "start_time": "2022-11-06T16:12:48.930Z"
   },
   {
    "duration": 9,
    "start_time": "2022-11-06T16:12:48.938Z"
   },
   {
    "duration": 4,
    "start_time": "2022-11-06T16:12:48.949Z"
   },
   {
    "duration": 5,
    "start_time": "2022-11-06T16:12:48.955Z"
   },
   {
    "duration": 9,
    "start_time": "2022-11-06T16:12:48.961Z"
   },
   {
    "duration": 5,
    "start_time": "2022-11-06T16:12:48.971Z"
   },
   {
    "duration": 5,
    "start_time": "2022-11-06T16:12:48.978Z"
   },
   {
    "duration": 212,
    "start_time": "2022-11-06T16:12:49.009Z"
   },
   {
    "duration": 196,
    "start_time": "2022-11-06T16:12:49.226Z"
   },
   {
    "duration": 4,
    "start_time": "2022-11-06T16:12:49.424Z"
   },
   {
    "duration": 7,
    "start_time": "2022-11-06T16:12:49.429Z"
   },
   {
    "duration": 3587,
    "start_time": "2022-11-06T16:12:49.437Z"
   },
   {
    "duration": 4,
    "start_time": "2022-11-06T16:12:53.026Z"
   },
   {
    "duration": 8,
    "start_time": "2022-11-06T16:12:53.031Z"
   },
   {
    "duration": 6,
    "start_time": "2022-11-06T16:12:53.041Z"
   },
   {
    "duration": 632,
    "start_time": "2022-11-06T16:12:53.048Z"
   },
   {
    "duration": 4,
    "start_time": "2022-11-06T16:12:53.682Z"
   },
   {
    "duration": 5,
    "start_time": "2022-11-06T16:12:53.687Z"
   },
   {
    "duration": 26,
    "start_time": "2022-11-06T16:12:53.694Z"
   },
   {
    "duration": 1344,
    "start_time": "2022-11-06T16:12:53.722Z"
   },
   {
    "duration": 3,
    "start_time": "2022-11-06T16:12:55.067Z"
   },
   {
    "duration": 9,
    "start_time": "2022-11-06T16:12:55.072Z"
   },
   {
    "duration": 4,
    "start_time": "2022-11-06T16:12:55.082Z"
   },
   {
    "duration": 6,
    "start_time": "2022-11-06T16:12:55.087Z"
   },
   {
    "duration": 27,
    "start_time": "2022-11-06T16:12:55.094Z"
   },
   {
    "duration": 6,
    "start_time": "2022-11-06T16:12:55.123Z"
   },
   {
    "duration": 7,
    "start_time": "2022-11-06T16:12:55.130Z"
   },
   {
    "duration": 5,
    "start_time": "2022-11-06T16:12:55.139Z"
   },
   {
    "duration": 4,
    "start_time": "2022-11-06T16:12:55.145Z"
   },
   {
    "duration": 5,
    "start_time": "2022-11-06T16:12:55.151Z"
   },
   {
    "duration": 8,
    "start_time": "2022-11-06T16:12:55.157Z"
   },
   {
    "duration": 4,
    "start_time": "2022-11-06T16:12:55.166Z"
   },
   {
    "duration": 6,
    "start_time": "2022-11-06T16:12:55.171Z"
   },
   {
    "duration": 6,
    "start_time": "2022-11-06T16:12:55.178Z"
   },
   {
    "duration": 4,
    "start_time": "2022-11-06T16:12:55.186Z"
   },
   {
    "duration": 13,
    "start_time": "2022-11-06T16:12:55.208Z"
   },
   {
    "duration": 5,
    "start_time": "2022-11-06T16:12:55.223Z"
   },
   {
    "duration": 4,
    "start_time": "2022-11-06T16:12:55.229Z"
   },
   {
    "duration": 14,
    "start_time": "2022-11-06T16:12:55.234Z"
   },
   {
    "duration": 10,
    "start_time": "2022-11-06T16:12:55.250Z"
   },
   {
    "duration": 5,
    "start_time": "2022-11-06T16:12:55.262Z"
   },
   {
    "duration": 54,
    "start_time": "2022-11-06T16:12:55.268Z"
   },
   {
    "duration": 5,
    "start_time": "2022-11-06T16:12:55.324Z"
   },
   {
    "duration": 12,
    "start_time": "2022-11-06T16:12:55.331Z"
   },
   {
    "duration": 3,
    "start_time": "2022-11-06T16:12:55.344Z"
   },
   {
    "duration": 7,
    "start_time": "2022-11-06T16:12:55.349Z"
   },
   {
    "duration": 1504,
    "start_time": "2022-11-06T16:37:14.548Z"
   },
   {
    "duration": 714,
    "start_time": "2022-11-06T16:37:16.053Z"
   },
   {
    "duration": 69,
    "start_time": "2022-11-06T16:37:16.769Z"
   },
   {
    "duration": 3,
    "start_time": "2022-11-06T16:37:16.841Z"
   },
   {
    "duration": 30,
    "start_time": "2022-11-06T16:37:16.846Z"
   },
   {
    "duration": 5,
    "start_time": "2022-11-06T16:37:16.878Z"
   },
   {
    "duration": 203,
    "start_time": "2022-11-06T16:37:16.884Z"
   },
   {
    "duration": 179,
    "start_time": "2022-11-06T16:37:17.089Z"
   },
   {
    "duration": 3,
    "start_time": "2022-11-06T16:37:17.270Z"
   },
   {
    "duration": 31,
    "start_time": "2022-11-06T16:37:17.276Z"
   },
   {
    "duration": 47,
    "start_time": "2022-11-06T16:37:17.316Z"
   },
   {
    "duration": 13,
    "start_time": "2022-11-06T16:37:17.364Z"
   },
   {
    "duration": 49,
    "start_time": "2022-11-06T16:37:17.379Z"
   },
   {
    "duration": 101,
    "start_time": "2022-11-06T16:37:17.430Z"
   },
   {
    "duration": 31,
    "start_time": "2022-11-06T16:37:17.532Z"
   },
   {
    "duration": 14,
    "start_time": "2022-11-06T16:37:17.564Z"
   },
   {
    "duration": 21,
    "start_time": "2022-11-06T16:37:17.580Z"
   },
   {
    "duration": 22,
    "start_time": "2022-11-06T16:37:17.603Z"
   },
   {
    "duration": 20,
    "start_time": "2022-11-06T16:37:17.626Z"
   },
   {
    "duration": 32,
    "start_time": "2022-11-06T16:37:17.648Z"
   },
   {
    "duration": 16,
    "start_time": "2022-11-06T16:37:17.682Z"
   },
   {
    "duration": 31,
    "start_time": "2022-11-06T16:37:17.699Z"
   },
   {
    "duration": 198,
    "start_time": "2022-11-06T16:37:17.732Z"
   },
   {
    "duration": 230,
    "start_time": "2022-11-06T16:37:17.932Z"
   },
   {
    "duration": 3,
    "start_time": "2022-11-06T16:37:18.164Z"
   },
   {
    "duration": 7,
    "start_time": "2022-11-06T16:37:18.168Z"
   },
   {
    "duration": 3413,
    "start_time": "2022-11-06T16:37:18.176Z"
   },
   {
    "duration": 5,
    "start_time": "2022-11-06T16:37:21.593Z"
   },
   {
    "duration": 32,
    "start_time": "2022-11-06T16:37:21.600Z"
   },
   {
    "duration": 15,
    "start_time": "2022-11-06T16:37:21.633Z"
   },
   {
    "duration": 626,
    "start_time": "2022-11-06T16:37:21.650Z"
   },
   {
    "duration": 4,
    "start_time": "2022-11-06T16:37:22.278Z"
   },
   {
    "duration": 40,
    "start_time": "2022-11-06T16:37:22.283Z"
   },
   {
    "duration": 15,
    "start_time": "2022-11-06T16:37:22.325Z"
   },
   {
    "duration": 1313,
    "start_time": "2022-11-06T16:37:22.341Z"
   },
   {
    "duration": 5,
    "start_time": "2022-11-06T16:37:23.655Z"
   },
   {
    "duration": 7,
    "start_time": "2022-11-06T16:37:23.662Z"
   },
   {
    "duration": 20,
    "start_time": "2022-11-06T16:37:23.670Z"
   },
   {
    "duration": 8,
    "start_time": "2022-11-06T16:37:23.691Z"
   },
   {
    "duration": 26,
    "start_time": "2022-11-06T16:37:23.701Z"
   },
   {
    "duration": 7,
    "start_time": "2022-11-06T16:37:23.729Z"
   },
   {
    "duration": 20,
    "start_time": "2022-11-06T16:37:23.738Z"
   },
   {
    "duration": 27,
    "start_time": "2022-11-06T16:37:23.760Z"
   },
   {
    "duration": 6,
    "start_time": "2022-11-06T16:37:23.789Z"
   },
   {
    "duration": 9,
    "start_time": "2022-11-06T16:37:23.796Z"
   },
   {
    "duration": 28,
    "start_time": "2022-11-06T16:37:23.806Z"
   },
   {
    "duration": 10,
    "start_time": "2022-11-06T16:37:23.836Z"
   },
   {
    "duration": 9,
    "start_time": "2022-11-06T16:37:23.847Z"
   },
   {
    "duration": 17,
    "start_time": "2022-11-06T16:37:23.858Z"
   },
   {
    "duration": 10,
    "start_time": "2022-11-06T16:37:23.877Z"
   },
   {
    "duration": 19,
    "start_time": "2022-11-06T16:37:23.889Z"
   },
   {
    "duration": 23,
    "start_time": "2022-11-06T16:37:23.909Z"
   },
   {
    "duration": 7,
    "start_time": "2022-11-06T16:37:23.934Z"
   },
   {
    "duration": 26,
    "start_time": "2022-11-06T16:37:23.942Z"
   },
   {
    "duration": 13,
    "start_time": "2022-11-06T16:37:23.970Z"
   },
   {
    "duration": 11,
    "start_time": "2022-11-06T16:37:23.985Z"
   },
   {
    "duration": 38,
    "start_time": "2022-11-06T16:37:23.998Z"
   },
   {
    "duration": 6,
    "start_time": "2022-11-06T16:37:24.038Z"
   },
   {
    "duration": 13,
    "start_time": "2022-11-06T16:37:24.046Z"
   },
   {
    "duration": 7,
    "start_time": "2022-11-06T16:37:24.061Z"
   },
   {
    "duration": 9,
    "start_time": "2022-11-06T16:37:24.069Z"
   },
   {
    "duration": 787338,
    "start_time": "2022-11-06T16:37:24.080Z"
   },
   {
    "duration": 4,
    "start_time": "2022-11-06T16:50:31.419Z"
   },
   {
    "duration": 15,
    "start_time": "2022-11-06T16:50:31.424Z"
   },
   {
    "duration": 499169,
    "start_time": "2022-11-06T16:50:31.441Z"
   },
   {
    "duration": 4,
    "start_time": "2022-11-06T16:58:50.612Z"
   },
   {
    "duration": 1017,
    "start_time": "2022-11-06T16:58:50.617Z"
   },
   {
    "duration": 0,
    "start_time": "2022-11-06T16:58:51.636Z"
   },
   {
    "duration": 0,
    "start_time": "2022-11-06T16:58:51.637Z"
   },
   {
    "duration": 0,
    "start_time": "2022-11-06T16:58:51.638Z"
   },
   {
    "duration": 0,
    "start_time": "2022-11-06T16:58:51.639Z"
   },
   {
    "duration": 0,
    "start_time": "2022-11-06T16:58:51.640Z"
   },
   {
    "duration": 0,
    "start_time": "2022-11-06T16:58:51.641Z"
   },
   {
    "duration": 0,
    "start_time": "2022-11-06T16:58:51.642Z"
   },
   {
    "duration": 0,
    "start_time": "2022-11-06T16:58:51.643Z"
   },
   {
    "duration": 0,
    "start_time": "2022-11-06T16:58:51.644Z"
   },
   {
    "duration": 292,
    "start_time": "2022-11-06T17:12:52.521Z"
   },
   {
    "duration": 292,
    "start_time": "2022-11-06T17:13:12.623Z"
   },
   {
    "duration": 252,
    "start_time": "2022-11-06T17:13:38.464Z"
   },
   {
    "duration": 56,
    "start_time": "2022-11-06T17:14:10.062Z"
   },
   {
    "duration": 4,
    "start_time": "2022-11-06T17:14:20.950Z"
   },
   {
    "duration": 9,
    "start_time": "2022-11-06T17:14:30.266Z"
   },
   {
    "duration": 4,
    "start_time": "2022-11-06T17:24:41.633Z"
   },
   {
    "duration": 8,
    "start_time": "2022-11-06T17:24:48.867Z"
   },
   {
    "duration": 5,
    "start_time": "2022-11-06T17:24:52.178Z"
   },
   {
    "duration": 1362,
    "start_time": "2022-11-06T17:24:57.660Z"
   },
   {
    "duration": 27,
    "start_time": "2022-11-06T17:25:07.715Z"
   },
   {
    "duration": 4,
    "start_time": "2022-11-06T17:33:37.873Z"
   },
   {
    "duration": 1514,
    "start_time": "2022-11-07T22:18:27.395Z"
   },
   {
    "duration": 2963,
    "start_time": "2022-11-07T22:18:28.911Z"
   },
   {
    "duration": 49,
    "start_time": "2022-11-07T22:18:31.875Z"
   },
   {
    "duration": 2,
    "start_time": "2022-11-07T22:18:31.926Z"
   },
   {
    "duration": 15,
    "start_time": "2022-11-07T22:18:31.929Z"
   },
   {
    "duration": 14,
    "start_time": "2022-11-07T22:18:31.946Z"
   },
   {
    "duration": 169,
    "start_time": "2022-11-07T22:18:31.961Z"
   },
   {
    "duration": 152,
    "start_time": "2022-11-07T22:18:32.132Z"
   },
   {
    "duration": 3,
    "start_time": "2022-11-07T22:18:32.286Z"
   },
   {
    "duration": 11,
    "start_time": "2022-11-07T22:18:32.292Z"
   },
   {
    "duration": 20,
    "start_time": "2022-11-07T22:18:32.304Z"
   },
   {
    "duration": 12,
    "start_time": "2022-11-07T22:18:32.325Z"
   },
   {
    "duration": 3,
    "start_time": "2022-11-07T22:18:32.348Z"
   },
   {
    "duration": 66,
    "start_time": "2022-11-07T22:18:32.352Z"
   },
   {
    "duration": 8,
    "start_time": "2022-11-07T22:18:32.420Z"
   },
   {
    "duration": 13,
    "start_time": "2022-11-07T22:18:32.429Z"
   },
   {
    "duration": 8,
    "start_time": "2022-11-07T22:18:32.443Z"
   },
   {
    "duration": 6,
    "start_time": "2022-11-07T22:18:32.452Z"
   },
   {
    "duration": 10,
    "start_time": "2022-11-07T22:18:32.459Z"
   },
   {
    "duration": 10,
    "start_time": "2022-11-07T22:18:32.470Z"
   },
   {
    "duration": 6,
    "start_time": "2022-11-07T22:18:32.481Z"
   },
   {
    "duration": 5,
    "start_time": "2022-11-07T22:18:32.488Z"
   },
   {
    "duration": 203,
    "start_time": "2022-11-07T22:18:32.495Z"
   },
   {
    "duration": 194,
    "start_time": "2022-11-07T22:18:32.699Z"
   },
   {
    "duration": 3,
    "start_time": "2022-11-07T22:18:32.895Z"
   },
   {
    "duration": 18,
    "start_time": "2022-11-07T22:18:32.899Z"
   },
   {
    "duration": 3480,
    "start_time": "2022-11-07T22:18:32.918Z"
   },
   {
    "duration": 4,
    "start_time": "2022-11-07T22:18:36.401Z"
   },
   {
    "duration": 9,
    "start_time": "2022-11-07T22:18:36.406Z"
   },
   {
    "duration": 8,
    "start_time": "2022-11-07T22:18:36.417Z"
   },
   {
    "duration": 548,
    "start_time": "2022-11-07T22:18:36.427Z"
   },
   {
    "duration": 3,
    "start_time": "2022-11-07T22:18:36.977Z"
   },
   {
    "duration": 6,
    "start_time": "2022-11-07T22:18:36.982Z"
   },
   {
    "duration": 13,
    "start_time": "2022-11-07T22:18:36.989Z"
   },
   {
    "duration": 1259,
    "start_time": "2022-11-07T22:18:37.004Z"
   },
   {
    "duration": 135,
    "start_time": "2022-11-07T22:18:42.867Z"
   },
   {
    "duration": 5,
    "start_time": "2022-11-07T22:21:56.002Z"
   },
   {
    "duration": 12,
    "start_time": "2022-11-07T22:21:56.011Z"
   },
   {
    "duration": 0,
    "start_time": "2022-11-07T22:21:56.025Z"
   },
   {
    "duration": 0,
    "start_time": "2022-11-07T22:21:56.026Z"
   },
   {
    "duration": 699,
    "start_time": "2022-11-07T22:21:56.066Z"
   },
   {
    "duration": 0,
    "start_time": "2022-11-07T22:21:56.767Z"
   },
   {
    "duration": 0,
    "start_time": "2022-11-07T22:21:56.768Z"
   },
   {
    "duration": 0,
    "start_time": "2022-11-07T22:21:56.770Z"
   },
   {
    "duration": 0,
    "start_time": "2022-11-07T22:21:56.771Z"
   },
   {
    "duration": 0,
    "start_time": "2022-11-07T22:21:56.771Z"
   },
   {
    "duration": 0,
    "start_time": "2022-11-07T22:21:56.773Z"
   },
   {
    "duration": 0,
    "start_time": "2022-11-07T22:21:56.774Z"
   },
   {
    "duration": 0,
    "start_time": "2022-11-07T22:21:56.775Z"
   },
   {
    "duration": 0,
    "start_time": "2022-11-07T22:21:56.776Z"
   },
   {
    "duration": 0,
    "start_time": "2022-11-07T22:21:56.777Z"
   },
   {
    "duration": 0,
    "start_time": "2022-11-07T22:21:56.779Z"
   },
   {
    "duration": 0,
    "start_time": "2022-11-07T22:21:56.780Z"
   },
   {
    "duration": 0,
    "start_time": "2022-11-07T22:21:56.781Z"
   },
   {
    "duration": 0,
    "start_time": "2022-11-07T22:21:56.782Z"
   },
   {
    "duration": 0,
    "start_time": "2022-11-07T22:21:56.783Z"
   },
   {
    "duration": 0,
    "start_time": "2022-11-07T22:21:56.784Z"
   },
   {
    "duration": 0,
    "start_time": "2022-11-07T22:21:56.785Z"
   },
   {
    "duration": 0,
    "start_time": "2022-11-07T22:21:56.786Z"
   },
   {
    "duration": 0,
    "start_time": "2022-11-07T22:21:56.787Z"
   },
   {
    "duration": 0,
    "start_time": "2022-11-07T22:21:56.789Z"
   },
   {
    "duration": 0,
    "start_time": "2022-11-07T22:21:56.790Z"
   },
   {
    "duration": 0,
    "start_time": "2022-11-07T22:21:56.791Z"
   },
   {
    "duration": 0,
    "start_time": "2022-11-07T22:21:56.792Z"
   },
   {
    "duration": 0,
    "start_time": "2022-11-07T22:21:56.794Z"
   },
   {
    "duration": 0,
    "start_time": "2022-11-07T22:21:56.795Z"
   },
   {
    "duration": 0,
    "start_time": "2022-11-07T22:21:56.797Z"
   },
   {
    "duration": 0,
    "start_time": "2022-11-07T22:21:56.799Z"
   },
   {
    "duration": 0,
    "start_time": "2022-11-07T22:21:56.800Z"
   },
   {
    "duration": 0,
    "start_time": "2022-11-07T22:21:56.803Z"
   },
   {
    "duration": 0,
    "start_time": "2022-11-07T22:21:56.804Z"
   },
   {
    "duration": 0,
    "start_time": "2022-11-07T22:21:56.848Z"
   },
   {
    "duration": 5,
    "start_time": "2022-11-07T22:22:09.949Z"
   },
   {
    "duration": 18,
    "start_time": "2022-11-07T22:22:09.956Z"
   },
   {
    "duration": 0,
    "start_time": "2022-11-07T22:22:09.976Z"
   },
   {
    "duration": 0,
    "start_time": "2022-11-07T22:22:09.978Z"
   },
   {
    "duration": 685,
    "start_time": "2022-11-07T22:22:10.004Z"
   },
   {
    "duration": 0,
    "start_time": "2022-11-07T22:22:10.691Z"
   },
   {
    "duration": 0,
    "start_time": "2022-11-07T22:22:10.692Z"
   },
   {
    "duration": 0,
    "start_time": "2022-11-07T22:22:10.694Z"
   },
   {
    "duration": 0,
    "start_time": "2022-11-07T22:22:10.695Z"
   },
   {
    "duration": 0,
    "start_time": "2022-11-07T22:22:10.696Z"
   },
   {
    "duration": 0,
    "start_time": "2022-11-07T22:22:10.698Z"
   },
   {
    "duration": 0,
    "start_time": "2022-11-07T22:22:10.699Z"
   },
   {
    "duration": 0,
    "start_time": "2022-11-07T22:22:10.700Z"
   },
   {
    "duration": 0,
    "start_time": "2022-11-07T22:22:10.701Z"
   },
   {
    "duration": 0,
    "start_time": "2022-11-07T22:22:10.702Z"
   },
   {
    "duration": 0,
    "start_time": "2022-11-07T22:22:10.704Z"
   },
   {
    "duration": 0,
    "start_time": "2022-11-07T22:22:10.705Z"
   },
   {
    "duration": 0,
    "start_time": "2022-11-07T22:22:10.706Z"
   },
   {
    "duration": 0,
    "start_time": "2022-11-07T22:22:10.708Z"
   },
   {
    "duration": 0,
    "start_time": "2022-11-07T22:22:10.709Z"
   },
   {
    "duration": 0,
    "start_time": "2022-11-07T22:22:10.710Z"
   },
   {
    "duration": 0,
    "start_time": "2022-11-07T22:22:10.711Z"
   },
   {
    "duration": 0,
    "start_time": "2022-11-07T22:22:10.712Z"
   },
   {
    "duration": 0,
    "start_time": "2022-11-07T22:22:10.714Z"
   },
   {
    "duration": 0,
    "start_time": "2022-11-07T22:22:10.715Z"
   },
   {
    "duration": 0,
    "start_time": "2022-11-07T22:22:10.716Z"
   },
   {
    "duration": 1,
    "start_time": "2022-11-07T22:22:10.717Z"
   },
   {
    "duration": 0,
    "start_time": "2022-11-07T22:22:10.719Z"
   },
   {
    "duration": 0,
    "start_time": "2022-11-07T22:22:10.720Z"
   },
   {
    "duration": 0,
    "start_time": "2022-11-07T22:22:10.721Z"
   },
   {
    "duration": 0,
    "start_time": "2022-11-07T22:22:10.723Z"
   },
   {
    "duration": 0,
    "start_time": "2022-11-07T22:22:10.724Z"
   },
   {
    "duration": 0,
    "start_time": "2022-11-07T22:22:10.725Z"
   },
   {
    "duration": 0,
    "start_time": "2022-11-07T22:22:10.726Z"
   },
   {
    "duration": 0,
    "start_time": "2022-11-07T22:22:10.728Z"
   },
   {
    "duration": 0,
    "start_time": "2022-11-07T22:22:10.729Z"
   },
   {
    "duration": 44,
    "start_time": "2022-11-07T22:22:15.341Z"
   },
   {
    "duration": 6,
    "start_time": "2022-11-07T22:28:16.947Z"
   },
   {
    "duration": 10,
    "start_time": "2022-11-07T22:28:16.961Z"
   },
   {
    "duration": 8,
    "start_time": "2022-11-07T22:28:16.973Z"
   },
   {
    "duration": 5,
    "start_time": "2022-11-07T22:28:48.970Z"
   },
   {
    "duration": 12,
    "start_time": "2022-11-07T22:28:48.979Z"
   },
   {
    "duration": 7,
    "start_time": "2022-11-07T22:28:48.993Z"
   },
   {
    "duration": 666,
    "start_time": "2022-11-07T22:28:49.001Z"
   },
   {
    "duration": 51,
    "start_time": "2022-11-07T22:28:49.668Z"
   },
   {
    "duration": 2,
    "start_time": "2022-11-07T22:28:49.721Z"
   },
   {
    "duration": 4,
    "start_time": "2022-11-07T22:29:12.943Z"
   },
   {
    "duration": 5,
    "start_time": "2022-11-07T22:29:23.729Z"
   },
   {
    "duration": 15,
    "start_time": "2022-11-07T22:29:23.738Z"
   },
   {
    "duration": 10,
    "start_time": "2022-11-07T22:29:23.755Z"
   },
   {
    "duration": 651,
    "start_time": "2022-11-07T22:29:23.766Z"
   },
   {
    "duration": 58,
    "start_time": "2022-11-07T22:29:24.419Z"
   },
   {
    "duration": 3,
    "start_time": "2022-11-07T22:29:24.478Z"
   },
   {
    "duration": 12,
    "start_time": "2022-11-07T22:29:24.482Z"
   },
   {
    "duration": 6,
    "start_time": "2022-11-07T22:29:24.495Z"
   },
   {
    "duration": 185,
    "start_time": "2022-11-07T22:29:24.502Z"
   },
   {
    "duration": 267,
    "start_time": "2022-11-07T22:29:24.689Z"
   },
   {
    "duration": 4,
    "start_time": "2022-11-07T22:29:24.958Z"
   },
   {
    "duration": 5,
    "start_time": "2022-11-07T22:30:14.903Z"
   },
   {
    "duration": 14,
    "start_time": "2022-11-07T22:30:14.910Z"
   },
   {
    "duration": 11,
    "start_time": "2022-11-07T22:30:14.926Z"
   },
   {
    "duration": 663,
    "start_time": "2022-11-07T22:30:14.938Z"
   },
   {
    "duration": 65,
    "start_time": "2022-11-07T22:30:15.603Z"
   },
   {
    "duration": 3,
    "start_time": "2022-11-07T22:30:15.670Z"
   },
   {
    "duration": 16,
    "start_time": "2022-11-07T22:30:15.675Z"
   },
   {
    "duration": 11,
    "start_time": "2022-11-07T22:30:15.693Z"
   },
   {
    "duration": 192,
    "start_time": "2022-11-07T22:30:15.705Z"
   },
   {
    "duration": 176,
    "start_time": "2022-11-07T22:30:15.899Z"
   },
   {
    "duration": 4,
    "start_time": "2022-11-07T22:30:16.078Z"
   },
   {
    "duration": 7,
    "start_time": "2022-11-07T22:30:16.083Z"
   },
   {
    "duration": 26,
    "start_time": "2022-11-07T22:30:16.091Z"
   },
   {
    "duration": 11,
    "start_time": "2022-11-07T22:30:16.118Z"
   },
   {
    "duration": 28,
    "start_time": "2022-11-07T22:30:16.130Z"
   },
   {
    "duration": 21,
    "start_time": "2022-11-07T22:30:16.160Z"
   },
   {
    "duration": 17,
    "start_time": "2022-11-07T22:30:16.182Z"
   },
   {
    "duration": 13,
    "start_time": "2022-11-07T22:30:16.200Z"
   },
   {
    "duration": 12,
    "start_time": "2022-11-07T22:30:16.214Z"
   },
   {
    "duration": 9,
    "start_time": "2022-11-07T22:30:16.227Z"
   },
   {
    "duration": 7,
    "start_time": "2022-11-07T22:30:16.237Z"
   },
   {
    "duration": 10,
    "start_time": "2022-11-07T22:30:16.245Z"
   },
   {
    "duration": 10,
    "start_time": "2022-11-07T22:30:16.257Z"
   },
   {
    "duration": 7,
    "start_time": "2022-11-07T22:30:16.268Z"
   },
   {
    "duration": 204,
    "start_time": "2022-11-07T22:30:16.277Z"
   },
   {
    "duration": 203,
    "start_time": "2022-11-07T22:30:16.484Z"
   },
   {
    "duration": 3,
    "start_time": "2022-11-07T22:30:16.689Z"
   },
   {
    "duration": 8,
    "start_time": "2022-11-07T22:30:16.694Z"
   },
   {
    "duration": 3493,
    "start_time": "2022-11-07T22:30:16.705Z"
   },
   {
    "duration": 4,
    "start_time": "2022-11-07T22:30:20.200Z"
   },
   {
    "duration": 28,
    "start_time": "2022-11-07T22:30:20.206Z"
   },
   {
    "duration": 7,
    "start_time": "2022-11-07T22:30:20.236Z"
   },
   {
    "duration": 549,
    "start_time": "2022-11-07T22:30:20.244Z"
   },
   {
    "duration": 3,
    "start_time": "2022-11-07T22:30:20.795Z"
   },
   {
    "duration": 8,
    "start_time": "2022-11-07T22:30:20.800Z"
   },
   {
    "duration": 7,
    "start_time": "2022-11-07T22:30:53.360Z"
   },
   {
    "duration": 12,
    "start_time": "2022-11-07T22:30:53.391Z"
   },
   {
    "duration": 10,
    "start_time": "2022-11-07T22:30:53.405Z"
   },
   {
    "duration": 681,
    "start_time": "2022-11-07T22:30:53.416Z"
   },
   {
    "duration": 64,
    "start_time": "2022-11-07T22:30:54.098Z"
   },
   {
    "duration": 3,
    "start_time": "2022-11-07T22:30:54.165Z"
   },
   {
    "duration": 14,
    "start_time": "2022-11-07T22:30:54.170Z"
   },
   {
    "duration": 4,
    "start_time": "2022-11-07T22:30:54.186Z"
   },
   {
    "duration": 320,
    "start_time": "2022-11-07T22:30:54.192Z"
   },
   {
    "duration": 187,
    "start_time": "2022-11-07T22:30:54.514Z"
   },
   {
    "duration": 4,
    "start_time": "2022-11-07T22:30:54.703Z"
   },
   {
    "duration": 6,
    "start_time": "2022-11-07T22:30:54.708Z"
   },
   {
    "duration": 37,
    "start_time": "2022-11-07T22:30:54.716Z"
   },
   {
    "duration": 28,
    "start_time": "2022-11-07T22:30:54.755Z"
   },
   {
    "duration": 12,
    "start_time": "2022-11-07T22:30:54.784Z"
   },
   {
    "duration": 17,
    "start_time": "2022-11-07T22:30:54.798Z"
   },
   {
    "duration": 7,
    "start_time": "2022-11-07T22:30:54.817Z"
   },
   {
    "duration": 11,
    "start_time": "2022-11-07T22:30:54.825Z"
   },
   {
    "duration": 8,
    "start_time": "2022-11-07T22:30:54.837Z"
   },
   {
    "duration": 29,
    "start_time": "2022-11-07T22:30:54.846Z"
   },
   {
    "duration": 11,
    "start_time": "2022-11-07T22:30:54.877Z"
   },
   {
    "duration": 6,
    "start_time": "2022-11-07T22:30:54.889Z"
   },
   {
    "duration": 9,
    "start_time": "2022-11-07T22:30:54.897Z"
   },
   {
    "duration": 7,
    "start_time": "2022-11-07T22:30:54.908Z"
   },
   {
    "duration": 190,
    "start_time": "2022-11-07T22:30:54.916Z"
   },
   {
    "duration": 227,
    "start_time": "2022-11-07T22:30:55.108Z"
   },
   {
    "duration": 4,
    "start_time": "2022-11-07T22:30:55.337Z"
   },
   {
    "duration": 52,
    "start_time": "2022-11-07T22:30:55.343Z"
   },
   {
    "duration": 3600,
    "start_time": "2022-11-07T22:30:55.398Z"
   },
   {
    "duration": 4,
    "start_time": "2022-11-07T22:30:59.001Z"
   },
   {
    "duration": 5,
    "start_time": "2022-11-07T22:30:59.006Z"
   },
   {
    "duration": 6,
    "start_time": "2022-11-07T22:30:59.013Z"
   },
   {
    "duration": 637,
    "start_time": "2022-11-07T22:30:59.021Z"
   },
   {
    "duration": 4,
    "start_time": "2022-11-07T22:30:59.660Z"
   },
   {
    "duration": 10,
    "start_time": "2022-11-07T22:30:59.667Z"
   },
   {
    "duration": 7,
    "start_time": "2022-11-07T22:30:59.678Z"
   },
   {
    "duration": 1433,
    "start_time": "2022-11-07T22:30:59.689Z"
   },
   {
    "duration": 1524,
    "start_time": "2022-11-07T22:31:01.124Z"
   },
   {
    "duration": 26,
    "start_time": "2022-11-07T22:34:03.358Z"
   },
   {
    "duration": 6,
    "start_time": "2022-11-07T22:34:07.072Z"
   },
   {
    "duration": 16,
    "start_time": "2022-11-07T22:34:07.083Z"
   },
   {
    "duration": 8,
    "start_time": "2022-11-07T22:34:07.101Z"
   },
   {
    "duration": 783,
    "start_time": "2022-11-07T22:34:07.110Z"
   },
   {
    "duration": 64,
    "start_time": "2022-11-07T22:34:07.895Z"
   },
   {
    "duration": 7,
    "start_time": "2022-11-07T22:34:07.962Z"
   },
   {
    "duration": 16,
    "start_time": "2022-11-07T22:34:07.974Z"
   },
   {
    "duration": 8,
    "start_time": "2022-11-07T22:34:07.992Z"
   },
   {
    "duration": 208,
    "start_time": "2022-11-07T22:34:08.002Z"
   },
   {
    "duration": 225,
    "start_time": "2022-11-07T22:34:08.211Z"
   },
   {
    "duration": 13,
    "start_time": "2022-11-07T22:34:08.437Z"
   },
   {
    "duration": 5,
    "start_time": "2022-11-07T22:34:08.451Z"
   },
   {
    "duration": 34,
    "start_time": "2022-11-07T22:34:08.459Z"
   },
   {
    "duration": 8,
    "start_time": "2022-11-07T22:34:08.496Z"
   },
   {
    "duration": 8,
    "start_time": "2022-11-07T22:34:08.505Z"
   },
   {
    "duration": 15,
    "start_time": "2022-11-07T22:34:08.515Z"
   },
   {
    "duration": 4,
    "start_time": "2022-11-07T22:34:08.548Z"
   },
   {
    "duration": 12,
    "start_time": "2022-11-07T22:34:08.555Z"
   },
   {
    "duration": 15,
    "start_time": "2022-11-07T22:34:08.568Z"
   },
   {
    "duration": 10,
    "start_time": "2022-11-07T22:34:08.585Z"
   },
   {
    "duration": 7,
    "start_time": "2022-11-07T22:34:08.596Z"
   },
   {
    "duration": 8,
    "start_time": "2022-11-07T22:34:08.605Z"
   },
   {
    "duration": 5,
    "start_time": "2022-11-07T22:34:08.615Z"
   },
   {
    "duration": 29,
    "start_time": "2022-11-07T22:34:08.621Z"
   },
   {
    "duration": 230,
    "start_time": "2022-11-07T22:34:08.652Z"
   },
   {
    "duration": 237,
    "start_time": "2022-11-07T22:34:08.885Z"
   },
   {
    "duration": 4,
    "start_time": "2022-11-07T22:34:09.123Z"
   },
   {
    "duration": 20,
    "start_time": "2022-11-07T22:34:09.129Z"
   },
   {
    "duration": 3866,
    "start_time": "2022-11-07T22:34:09.151Z"
   },
   {
    "duration": 4,
    "start_time": "2022-11-07T22:34:13.018Z"
   },
   {
    "duration": 18,
    "start_time": "2022-11-07T22:34:13.023Z"
   },
   {
    "duration": 12,
    "start_time": "2022-11-07T22:34:13.043Z"
   },
   {
    "duration": 671,
    "start_time": "2022-11-07T22:34:13.057Z"
   },
   {
    "duration": 3,
    "start_time": "2022-11-07T22:34:13.732Z"
   },
   {
    "duration": 13,
    "start_time": "2022-11-07T22:34:13.736Z"
   },
   {
    "duration": 5,
    "start_time": "2022-11-07T22:34:13.751Z"
   },
   {
    "duration": 1316,
    "start_time": "2022-11-07T22:34:13.758Z"
   },
   {
    "duration": 1307,
    "start_time": "2022-11-07T22:34:15.076Z"
   },
   {
    "duration": 4,
    "start_time": "2022-11-07T22:34:16.384Z"
   },
   {
    "duration": 14,
    "start_time": "2022-11-07T22:34:16.390Z"
   },
   {
    "duration": 9,
    "start_time": "2022-11-07T22:34:16.406Z"
   },
   {
    "duration": 14,
    "start_time": "2022-11-07T22:34:16.416Z"
   },
   {
    "duration": 8,
    "start_time": "2022-11-07T22:34:16.432Z"
   },
   {
    "duration": 25,
    "start_time": "2022-11-07T22:34:16.441Z"
   },
   {
    "duration": 7,
    "start_time": "2022-11-07T22:34:16.468Z"
   },
   {
    "duration": 13,
    "start_time": "2022-11-07T22:34:16.477Z"
   },
   {
    "duration": 8,
    "start_time": "2022-11-07T22:34:16.492Z"
   },
   {
    "duration": 17,
    "start_time": "2022-11-07T22:34:16.502Z"
   },
   {
    "duration": 14,
    "start_time": "2022-11-07T22:34:16.520Z"
   },
   {
    "duration": 22,
    "start_time": "2022-11-07T22:34:16.535Z"
   },
   {
    "duration": 27,
    "start_time": "2022-11-07T22:34:16.559Z"
   },
   {
    "duration": 10,
    "start_time": "2022-11-07T22:34:16.589Z"
   },
   {
    "duration": 7,
    "start_time": "2022-11-07T22:34:16.601Z"
   },
   {
    "duration": 6,
    "start_time": "2022-11-07T22:34:16.609Z"
   },
   {
    "duration": 8,
    "start_time": "2022-11-07T22:34:16.616Z"
   },
   {
    "duration": 16,
    "start_time": "2022-11-07T22:34:16.625Z"
   },
   {
    "duration": 24,
    "start_time": "2022-11-07T22:34:16.642Z"
   },
   {
    "duration": 24,
    "start_time": "2022-11-07T22:34:16.668Z"
   },
   {
    "duration": 5,
    "start_time": "2022-11-07T22:34:47.203Z"
   },
   {
    "duration": 12,
    "start_time": "2022-11-07T22:34:47.214Z"
   },
   {
    "duration": 8,
    "start_time": "2022-11-07T22:34:47.228Z"
   },
   {
    "duration": 662,
    "start_time": "2022-11-07T22:34:47.237Z"
   },
   {
    "duration": 79,
    "start_time": "2022-11-07T22:34:47.900Z"
   },
   {
    "duration": 4,
    "start_time": "2022-11-07T22:34:47.982Z"
   },
   {
    "duration": 21,
    "start_time": "2022-11-07T22:34:47.987Z"
   },
   {
    "duration": 6,
    "start_time": "2022-11-07T22:34:48.010Z"
   },
   {
    "duration": 198,
    "start_time": "2022-11-07T22:34:48.018Z"
   },
   {
    "duration": 175,
    "start_time": "2022-11-07T22:34:48.217Z"
   },
   {
    "duration": 5,
    "start_time": "2022-11-07T22:34:48.393Z"
   },
   {
    "duration": 5,
    "start_time": "2022-11-07T22:34:48.400Z"
   },
   {
    "duration": 29,
    "start_time": "2022-11-07T22:34:48.407Z"
   },
   {
    "duration": 18,
    "start_time": "2022-11-07T22:34:48.438Z"
   },
   {
    "duration": 6,
    "start_time": "2022-11-07T22:34:48.458Z"
   },
   {
    "duration": 19,
    "start_time": "2022-11-07T22:34:48.466Z"
   },
   {
    "duration": 14,
    "start_time": "2022-11-07T22:34:48.486Z"
   },
   {
    "duration": 9,
    "start_time": "2022-11-07T22:34:48.501Z"
   },
   {
    "duration": 10,
    "start_time": "2022-11-07T22:34:48.511Z"
   },
   {
    "duration": 5,
    "start_time": "2022-11-07T22:34:48.522Z"
   },
   {
    "duration": 5,
    "start_time": "2022-11-07T22:34:48.528Z"
   },
   {
    "duration": 15,
    "start_time": "2022-11-07T22:34:48.534Z"
   },
   {
    "duration": 10,
    "start_time": "2022-11-07T22:34:48.550Z"
   },
   {
    "duration": 7,
    "start_time": "2022-11-07T22:34:48.561Z"
   },
   {
    "duration": 204,
    "start_time": "2022-11-07T22:34:48.569Z"
   },
   {
    "duration": 200,
    "start_time": "2022-11-07T22:34:48.775Z"
   },
   {
    "duration": 3,
    "start_time": "2022-11-07T22:34:48.977Z"
   },
   {
    "duration": 20,
    "start_time": "2022-11-07T22:34:48.982Z"
   },
   {
    "duration": 3607,
    "start_time": "2022-11-07T22:34:49.003Z"
   },
   {
    "duration": 4,
    "start_time": "2022-11-07T22:34:52.611Z"
   },
   {
    "duration": 17,
    "start_time": "2022-11-07T22:34:52.617Z"
   },
   {
    "duration": 16,
    "start_time": "2022-11-07T22:34:52.635Z"
   },
   {
    "duration": 557,
    "start_time": "2022-11-07T22:34:52.653Z"
   },
   {
    "duration": 3,
    "start_time": "2022-11-07T22:34:53.214Z"
   },
   {
    "duration": 9,
    "start_time": "2022-11-07T22:34:53.219Z"
   },
   {
    "duration": 7,
    "start_time": "2022-11-07T22:34:53.229Z"
   },
   {
    "duration": 1339,
    "start_time": "2022-11-07T22:34:53.237Z"
   },
   {
    "duration": 1381,
    "start_time": "2022-11-07T22:34:54.579Z"
   },
   {
    "duration": 4,
    "start_time": "2022-11-07T22:34:55.962Z"
   },
   {
    "duration": 8,
    "start_time": "2022-11-07T22:34:55.967Z"
   },
   {
    "duration": 11,
    "start_time": "2022-11-07T22:34:55.976Z"
   },
   {
    "duration": 8,
    "start_time": "2022-11-07T22:34:55.988Z"
   },
   {
    "duration": 6,
    "start_time": "2022-11-07T22:34:55.998Z"
   },
   {
    "duration": 7,
    "start_time": "2022-11-07T22:34:56.006Z"
   },
   {
    "duration": 8,
    "start_time": "2022-11-07T22:34:56.014Z"
   },
   {
    "duration": 9,
    "start_time": "2022-11-07T22:34:56.024Z"
   },
   {
    "duration": 6,
    "start_time": "2022-11-07T22:34:56.034Z"
   },
   {
    "duration": 9,
    "start_time": "2022-11-07T22:34:56.047Z"
   },
   {
    "duration": 8,
    "start_time": "2022-11-07T22:34:56.057Z"
   },
   {
    "duration": 5,
    "start_time": "2022-11-07T22:34:56.067Z"
   },
   {
    "duration": 15,
    "start_time": "2022-11-07T22:34:56.074Z"
   },
   {
    "duration": 8,
    "start_time": "2022-11-07T22:34:56.090Z"
   },
   {
    "duration": 9,
    "start_time": "2022-11-07T22:34:56.099Z"
   },
   {
    "duration": 25,
    "start_time": "2022-11-07T22:34:56.109Z"
   },
   {
    "duration": 10,
    "start_time": "2022-11-07T22:34:56.135Z"
   },
   {
    "duration": 11,
    "start_time": "2022-11-07T22:34:56.147Z"
   },
   {
    "duration": 19,
    "start_time": "2022-11-07T22:34:56.159Z"
   },
   {
    "duration": 16,
    "start_time": "2022-11-07T22:35:10.748Z"
   },
   {
    "duration": 4,
    "start_time": "2022-11-07T22:52:13.603Z"
   },
   {
    "duration": 11,
    "start_time": "2022-11-07T22:52:13.991Z"
   },
   {
    "duration": 7,
    "start_time": "2022-11-07T22:52:14.004Z"
   },
   {
    "duration": 604,
    "start_time": "2022-11-07T22:52:14.024Z"
   },
   {
    "duration": 66,
    "start_time": "2022-11-07T22:52:14.631Z"
   },
   {
    "duration": 3,
    "start_time": "2022-11-07T22:52:14.698Z"
   },
   {
    "duration": 10,
    "start_time": "2022-11-07T22:52:14.702Z"
   },
   {
    "duration": 5,
    "start_time": "2022-11-07T22:52:14.714Z"
   },
   {
    "duration": 307,
    "start_time": "2022-11-07T22:52:14.720Z"
   },
   {
    "duration": 181,
    "start_time": "2022-11-07T22:52:15.028Z"
   },
   {
    "duration": 4,
    "start_time": "2022-11-07T22:52:15.211Z"
   },
   {
    "duration": 7,
    "start_time": "2022-11-07T22:52:15.217Z"
   },
   {
    "duration": 52,
    "start_time": "2022-11-07T22:52:15.225Z"
   },
   {
    "duration": 24,
    "start_time": "2022-11-07T22:52:15.279Z"
   },
   {
    "duration": 25,
    "start_time": "2022-11-07T22:52:15.305Z"
   },
   {
    "duration": 13,
    "start_time": "2022-11-07T22:52:15.332Z"
   },
   {
    "duration": 24,
    "start_time": "2022-11-07T22:52:15.349Z"
   },
   {
    "duration": 18,
    "start_time": "2022-11-07T22:52:15.375Z"
   },
   {
    "duration": 20,
    "start_time": "2022-11-07T22:52:15.394Z"
   },
   {
    "duration": 10,
    "start_time": "2022-11-07T22:52:15.416Z"
   },
   {
    "duration": 5,
    "start_time": "2022-11-07T22:52:15.427Z"
   },
   {
    "duration": 10,
    "start_time": "2022-11-07T22:52:15.433Z"
   },
   {
    "duration": 8,
    "start_time": "2022-11-07T22:52:15.444Z"
   },
   {
    "duration": 8,
    "start_time": "2022-11-07T22:52:15.454Z"
   },
   {
    "duration": 172,
    "start_time": "2022-11-07T22:52:15.464Z"
   },
   {
    "duration": 183,
    "start_time": "2022-11-07T22:52:15.647Z"
   },
   {
    "duration": 3,
    "start_time": "2022-11-07T22:52:15.831Z"
   },
   {
    "duration": 12,
    "start_time": "2022-11-07T22:52:15.836Z"
   },
   {
    "duration": 3350,
    "start_time": "2022-11-07T22:52:15.850Z"
   },
   {
    "duration": 4,
    "start_time": "2022-11-07T22:52:19.201Z"
   },
   {
    "duration": 7,
    "start_time": "2022-11-07T22:52:19.206Z"
   },
   {
    "duration": 7,
    "start_time": "2022-11-07T22:52:19.214Z"
   },
   {
    "duration": 576,
    "start_time": "2022-11-07T22:52:19.223Z"
   },
   {
    "duration": 3,
    "start_time": "2022-11-07T22:52:19.800Z"
   },
   {
    "duration": 8,
    "start_time": "2022-11-07T22:52:19.805Z"
   },
   {
    "duration": 9,
    "start_time": "2022-11-07T22:52:19.814Z"
   },
   {
    "duration": 1249,
    "start_time": "2022-11-07T22:52:19.824Z"
   },
   {
    "duration": 1448,
    "start_time": "2022-11-07T22:52:21.075Z"
   },
   {
    "duration": 3,
    "start_time": "2022-11-07T22:52:22.525Z"
   },
   {
    "duration": 36,
    "start_time": "2022-11-07T22:52:22.529Z"
   },
   {
    "duration": 29,
    "start_time": "2022-11-07T22:52:22.567Z"
   },
   {
    "duration": 30,
    "start_time": "2022-11-07T22:52:22.598Z"
   },
   {
    "duration": 34,
    "start_time": "2022-11-07T22:52:22.629Z"
   },
   {
    "duration": 5,
    "start_time": "2022-11-07T22:52:22.669Z"
   },
   {
    "duration": 15,
    "start_time": "2022-11-07T22:52:22.676Z"
   },
   {
    "duration": 18,
    "start_time": "2022-11-07T22:52:22.693Z"
   },
   {
    "duration": 14,
    "start_time": "2022-11-07T22:52:22.712Z"
   },
   {
    "duration": 18,
    "start_time": "2022-11-07T22:52:22.728Z"
   },
   {
    "duration": 16,
    "start_time": "2022-11-07T22:52:22.748Z"
   },
   {
    "duration": 20,
    "start_time": "2022-11-07T22:52:22.767Z"
   },
   {
    "duration": 22,
    "start_time": "2022-11-07T22:52:22.789Z"
   },
   {
    "duration": 19,
    "start_time": "2022-11-07T22:52:22.813Z"
   },
   {
    "duration": 30,
    "start_time": "2022-11-07T22:52:22.833Z"
   },
   {
    "duration": 17,
    "start_time": "2022-11-07T22:52:22.866Z"
   },
   {
    "duration": 27,
    "start_time": "2022-11-07T22:52:22.885Z"
   },
   {
    "duration": 17,
    "start_time": "2022-11-07T22:52:22.914Z"
   },
   {
    "duration": 38,
    "start_time": "2022-11-07T22:52:22.932Z"
   },
   {
    "duration": 20,
    "start_time": "2022-11-07T22:52:30.649Z"
   },
   {
    "duration": 14,
    "start_time": "2022-11-07T22:53:03.991Z"
   },
   {
    "duration": 7,
    "start_time": "2022-11-07T22:53:27.168Z"
   },
   {
    "duration": 4,
    "start_time": "2022-11-07T22:54:00.848Z"
   },
   {
    "duration": 14,
    "start_time": "2022-11-07T22:54:11.438Z"
   },
   {
    "duration": 5,
    "start_time": "2022-11-07T22:54:22.903Z"
   },
   {
    "duration": 7,
    "start_time": "2022-11-07T22:54:34.102Z"
   },
   {
    "duration": 3,
    "start_time": "2022-11-07T22:55:08.431Z"
   },
   {
    "duration": 3,
    "start_time": "2022-11-07T22:55:14.610Z"
   },
   {
    "duration": 7,
    "start_time": "2022-11-07T22:56:10.795Z"
   },
   {
    "duration": 5,
    "start_time": "2022-11-07T22:56:17.192Z"
   },
   {
    "duration": 5,
    "start_time": "2022-11-07T22:56:23.973Z"
   },
   {
    "duration": 15,
    "start_time": "2022-11-07T22:56:30.048Z"
   },
   {
    "duration": 6,
    "start_time": "2022-11-07T22:56:36.114Z"
   },
   {
    "duration": 6,
    "start_time": "2022-11-07T22:56:43.128Z"
   },
   {
    "duration": 2,
    "start_time": "2022-11-07T22:57:03.225Z"
   },
   {
    "duration": 3,
    "start_time": "2022-11-07T22:57:08.346Z"
   },
   {
    "duration": 1117147,
    "start_time": "2022-11-07T22:57:18.508Z"
   },
   {
    "duration": 4,
    "start_time": "2022-11-07T23:16:16.470Z"
   },
   {
    "duration": 3,
    "start_time": "2022-11-07T23:16:26.341Z"
   },
   {
    "duration": 855383,
    "start_time": "2022-11-07T23:19:27.167Z"
   },
   {
    "duration": 4,
    "start_time": "2022-11-07T23:34:33.736Z"
   },
   {
    "duration": 194,
    "start_time": "2022-11-07T23:34:48.464Z"
   },
   {
    "duration": 186,
    "start_time": "2022-11-07T23:42:04.765Z"
   },
   {
    "duration": 205,
    "start_time": "2022-11-07T23:42:24.267Z"
   },
   {
    "duration": 236,
    "start_time": "2022-11-07T23:48:14.713Z"
   },
   {
    "duration": 8,
    "start_time": "2022-11-08T00:01:37.424Z"
   },
   {
    "duration": 12,
    "start_time": "2022-11-08T00:02:01.377Z"
   },
   {
    "duration": 4,
    "start_time": "2022-11-08T00:02:30.924Z"
   },
   {
    "duration": 18,
    "start_time": "2022-11-08T00:02:37.400Z"
   },
   {
    "duration": 26,
    "start_time": "2022-11-08T00:03:30.236Z"
   },
   {
    "duration": 263,
    "start_time": "2022-11-08T00:11:44.390Z"
   },
   {
    "duration": 201,
    "start_time": "2022-11-08T00:15:49.660Z"
   },
   {
    "duration": 249,
    "start_time": "2022-11-08T00:15:54.101Z"
   },
   {
    "duration": 4,
    "start_time": "2022-11-08T00:16:29.809Z"
   },
   {
    "duration": 7,
    "start_time": "2022-11-08T00:16:37.906Z"
   },
   {
    "duration": 9,
    "start_time": "2022-11-08T00:20:42.587Z"
   },
   {
    "duration": 7,
    "start_time": "2022-11-08T00:25:10.089Z"
   },
   {
    "duration": 44,
    "start_time": "2022-11-08T18:02:27.292Z"
   },
   {
    "duration": 1607,
    "start_time": "2022-11-08T18:03:33.426Z"
   },
   {
    "duration": 10,
    "start_time": "2022-11-08T18:03:35.036Z"
   },
   {
    "duration": 14,
    "start_time": "2022-11-08T18:03:35.048Z"
   },
   {
    "duration": 3178,
    "start_time": "2022-11-08T18:03:35.064Z"
   },
   {
    "duration": 64,
    "start_time": "2022-11-08T18:03:38.244Z"
   },
   {
    "duration": 3,
    "start_time": "2022-11-08T18:03:38.309Z"
   },
   {
    "duration": 21,
    "start_time": "2022-11-08T18:03:38.313Z"
   },
   {
    "duration": 3,
    "start_time": "2022-11-08T18:03:38.335Z"
   },
   {
    "duration": 234,
    "start_time": "2022-11-08T18:03:38.339Z"
   },
   {
    "duration": 212,
    "start_time": "2022-11-08T18:03:38.575Z"
   },
   {
    "duration": 4,
    "start_time": "2022-11-08T18:03:38.789Z"
   },
   {
    "duration": 7,
    "start_time": "2022-11-08T18:03:38.794Z"
   },
   {
    "duration": 26,
    "start_time": "2022-11-08T18:03:38.802Z"
   },
   {
    "duration": 9,
    "start_time": "2022-11-08T18:03:38.862Z"
   },
   {
    "duration": 11,
    "start_time": "2022-11-08T18:03:38.873Z"
   },
   {
    "duration": 11,
    "start_time": "2022-11-08T18:03:38.885Z"
   },
   {
    "duration": 3,
    "start_time": "2022-11-08T18:03:38.898Z"
   },
   {
    "duration": 100,
    "start_time": "2022-11-08T18:03:38.903Z"
   },
   {
    "duration": 6,
    "start_time": "2022-11-08T18:03:39.005Z"
   },
   {
    "duration": 8,
    "start_time": "2022-11-08T18:03:39.012Z"
   },
   {
    "duration": 9,
    "start_time": "2022-11-08T18:03:39.022Z"
   },
   {
    "duration": 32,
    "start_time": "2022-11-08T18:03:39.033Z"
   },
   {
    "duration": 13,
    "start_time": "2022-11-08T18:03:39.066Z"
   },
   {
    "duration": 6,
    "start_time": "2022-11-08T18:03:39.081Z"
   },
   {
    "duration": 241,
    "start_time": "2022-11-08T18:03:39.088Z"
   },
   {
    "duration": 219,
    "start_time": "2022-11-08T18:03:39.330Z"
   },
   {
    "duration": 3,
    "start_time": "2022-11-08T18:03:39.550Z"
   },
   {
    "duration": 25,
    "start_time": "2022-11-08T18:03:39.558Z"
   },
   {
    "duration": 3857,
    "start_time": "2022-11-08T18:03:39.585Z"
   },
   {
    "duration": 19,
    "start_time": "2022-11-08T18:03:43.444Z"
   },
   {
    "duration": 14,
    "start_time": "2022-11-08T18:03:43.467Z"
   },
   {
    "duration": 5,
    "start_time": "2022-11-08T18:03:43.483Z"
   },
   {
    "duration": 637,
    "start_time": "2022-11-08T18:03:43.489Z"
   },
   {
    "duration": 4,
    "start_time": "2022-11-08T18:03:44.127Z"
   },
   {
    "duration": 6,
    "start_time": "2022-11-08T18:03:44.133Z"
   },
   {
    "duration": 20,
    "start_time": "2022-11-08T18:03:44.159Z"
   },
   {
    "duration": 1435,
    "start_time": "2022-11-08T18:03:44.181Z"
   },
   {
    "duration": 1467,
    "start_time": "2022-11-08T18:03:45.618Z"
   },
   {
    "duration": 3,
    "start_time": "2022-11-08T18:03:47.087Z"
   },
   {
    "duration": 11,
    "start_time": "2022-11-08T18:03:47.091Z"
   },
   {
    "duration": 6,
    "start_time": "2022-11-08T18:03:47.103Z"
   },
   {
    "duration": 9,
    "start_time": "2022-11-08T18:03:47.110Z"
   },
   {
    "duration": 5,
    "start_time": "2022-11-08T18:03:47.121Z"
   },
   {
    "duration": 8,
    "start_time": "2022-11-08T18:03:47.163Z"
   },
   {
    "duration": 15,
    "start_time": "2022-11-08T18:03:47.173Z"
   },
   {
    "duration": 13,
    "start_time": "2022-11-08T18:03:47.189Z"
   },
   {
    "duration": 14,
    "start_time": "2022-11-08T18:03:47.204Z"
   },
   {
    "duration": 7,
    "start_time": "2022-11-08T18:03:47.219Z"
   },
   {
    "duration": 7,
    "start_time": "2022-11-08T18:03:47.227Z"
   },
   {
    "duration": 5,
    "start_time": "2022-11-08T18:03:47.235Z"
   },
   {
    "duration": 15,
    "start_time": "2022-11-08T18:03:47.241Z"
   },
   {
    "duration": 17,
    "start_time": "2022-11-08T18:03:47.259Z"
   },
   {
    "duration": 6,
    "start_time": "2022-11-08T18:03:47.277Z"
   },
   {
    "duration": 7,
    "start_time": "2022-11-08T18:03:47.284Z"
   },
   {
    "duration": 7,
    "start_time": "2022-11-08T18:03:47.293Z"
   },
   {
    "duration": 7,
    "start_time": "2022-11-08T18:03:47.301Z"
   },
   {
    "duration": 17,
    "start_time": "2022-11-08T18:03:47.309Z"
   },
   {
    "duration": 15,
    "start_time": "2022-11-08T18:04:07.256Z"
   },
   {
    "duration": 1425,
    "start_time": "2022-11-08T18:05:30.698Z"
   },
   {
    "duration": 10,
    "start_time": "2022-11-08T18:05:32.125Z"
   },
   {
    "duration": 40,
    "start_time": "2022-11-08T18:05:32.136Z"
   },
   {
    "duration": 708,
    "start_time": "2022-11-08T18:05:32.178Z"
   },
   {
    "duration": 85,
    "start_time": "2022-11-08T18:05:32.887Z"
   },
   {
    "duration": 3,
    "start_time": "2022-11-08T18:05:32.974Z"
   },
   {
    "duration": 29,
    "start_time": "2022-11-08T18:05:32.978Z"
   },
   {
    "duration": 5,
    "start_time": "2022-11-08T18:05:33.008Z"
   },
   {
    "duration": 197,
    "start_time": "2022-11-08T18:05:33.015Z"
   },
   {
    "duration": 199,
    "start_time": "2022-11-08T18:05:33.215Z"
   },
   {
    "duration": 4,
    "start_time": "2022-11-08T18:05:33.417Z"
   },
   {
    "duration": 7,
    "start_time": "2022-11-08T18:05:33.423Z"
   },
   {
    "duration": 42,
    "start_time": "2022-11-08T18:05:33.432Z"
   },
   {
    "duration": 7,
    "start_time": "2022-11-08T18:05:33.475Z"
   },
   {
    "duration": 11,
    "start_time": "2022-11-08T18:05:33.484Z"
   },
   {
    "duration": 22,
    "start_time": "2022-11-08T18:05:33.497Z"
   },
   {
    "duration": 6,
    "start_time": "2022-11-08T18:05:33.520Z"
   },
   {
    "duration": 91,
    "start_time": "2022-11-08T18:05:33.527Z"
   },
   {
    "duration": 5,
    "start_time": "2022-11-08T18:05:33.619Z"
   },
   {
    "duration": 7,
    "start_time": "2022-11-08T18:05:33.625Z"
   },
   {
    "duration": 38,
    "start_time": "2022-11-08T18:05:33.633Z"
   },
   {
    "duration": 11,
    "start_time": "2022-11-08T18:05:33.673Z"
   },
   {
    "duration": 5,
    "start_time": "2022-11-08T18:05:33.685Z"
   },
   {
    "duration": 6,
    "start_time": "2022-11-08T18:05:33.692Z"
   },
   {
    "duration": 204,
    "start_time": "2022-11-08T18:05:33.699Z"
   },
   {
    "duration": 218,
    "start_time": "2022-11-08T18:05:33.905Z"
   },
   {
    "duration": 3,
    "start_time": "2022-11-08T18:05:34.125Z"
   },
   {
    "duration": 5,
    "start_time": "2022-11-08T18:05:34.132Z"
   },
   {
    "duration": 3381,
    "start_time": "2022-11-08T18:05:34.138Z"
   },
   {
    "duration": 4,
    "start_time": "2022-11-08T18:05:37.521Z"
   },
   {
    "duration": 7,
    "start_time": "2022-11-08T18:05:37.527Z"
   },
   {
    "duration": 6,
    "start_time": "2022-11-08T18:05:37.535Z"
   },
   {
    "duration": 544,
    "start_time": "2022-11-08T18:05:37.567Z"
   },
   {
    "duration": 4,
    "start_time": "2022-11-08T18:05:38.112Z"
   },
   {
    "duration": 7,
    "start_time": "2022-11-08T18:05:38.117Z"
   },
   {
    "duration": 6,
    "start_time": "2022-11-08T18:05:38.125Z"
   },
   {
    "duration": 1376,
    "start_time": "2022-11-08T18:05:38.132Z"
   },
   {
    "duration": 1461,
    "start_time": "2022-11-08T18:05:39.510Z"
   },
   {
    "duration": 3,
    "start_time": "2022-11-08T18:05:40.973Z"
   },
   {
    "duration": 7,
    "start_time": "2022-11-08T18:05:40.978Z"
   },
   {
    "duration": 8,
    "start_time": "2022-11-08T18:05:40.987Z"
   },
   {
    "duration": 15,
    "start_time": "2022-11-08T18:05:40.997Z"
   },
   {
    "duration": 11,
    "start_time": "2022-11-08T18:05:41.013Z"
   },
   {
    "duration": 11,
    "start_time": "2022-11-08T18:05:41.026Z"
   },
   {
    "duration": 9,
    "start_time": "2022-11-08T18:05:41.062Z"
   },
   {
    "duration": 10,
    "start_time": "2022-11-08T18:05:41.073Z"
   },
   {
    "duration": 13,
    "start_time": "2022-11-08T18:05:41.084Z"
   },
   {
    "duration": 18,
    "start_time": "2022-11-08T18:05:41.098Z"
   },
   {
    "duration": 12,
    "start_time": "2022-11-08T18:05:41.117Z"
   },
   {
    "duration": 17,
    "start_time": "2022-11-08T18:05:41.130Z"
   },
   {
    "duration": 26,
    "start_time": "2022-11-08T18:05:41.148Z"
   },
   {
    "duration": 12,
    "start_time": "2022-11-08T18:05:41.175Z"
   },
   {
    "duration": 6,
    "start_time": "2022-11-08T18:05:41.188Z"
   },
   {
    "duration": 8,
    "start_time": "2022-11-08T18:05:41.195Z"
   },
   {
    "duration": 6,
    "start_time": "2022-11-08T18:05:41.204Z"
   },
   {
    "duration": 9,
    "start_time": "2022-11-08T18:05:41.211Z"
   },
   {
    "duration": 14,
    "start_time": "2022-11-08T18:05:41.221Z"
   },
   {
    "duration": 4,
    "start_time": "2022-11-08T18:05:41.237Z"
   },
   {
    "duration": 5,
    "start_time": "2022-11-08T18:05:41.242Z"
   },
   {
    "duration": 25,
    "start_time": "2022-11-08T18:05:41.258Z"
   },
   {
    "duration": 6,
    "start_time": "2022-11-08T18:05:41.284Z"
   },
   {
    "duration": 11,
    "start_time": "2022-11-08T18:05:41.291Z"
   },
   {
    "duration": 3,
    "start_time": "2022-11-08T18:05:41.303Z"
   },
   {
    "duration": 6,
    "start_time": "2022-11-08T18:05:41.308Z"
   },
   {
    "duration": 134,
    "start_time": "2022-11-08T18:05:41.315Z"
   },
   {
    "duration": 0,
    "start_time": "2022-11-08T18:05:41.450Z"
   },
   {
    "duration": 0,
    "start_time": "2022-11-08T18:05:41.459Z"
   },
   {
    "duration": 0,
    "start_time": "2022-11-08T18:05:41.459Z"
   },
   {
    "duration": 0,
    "start_time": "2022-11-08T18:05:41.470Z"
   },
   {
    "duration": 0,
    "start_time": "2022-11-08T18:05:41.471Z"
   },
   {
    "duration": 0,
    "start_time": "2022-11-08T18:05:41.472Z"
   },
   {
    "duration": 0,
    "start_time": "2022-11-08T18:05:41.473Z"
   },
   {
    "duration": 0,
    "start_time": "2022-11-08T18:05:41.474Z"
   },
   {
    "duration": 0,
    "start_time": "2022-11-08T18:05:41.476Z"
   },
   {
    "duration": 0,
    "start_time": "2022-11-08T18:05:41.476Z"
   },
   {
    "duration": 1422,
    "start_time": "2022-11-08T18:11:14.403Z"
   },
   {
    "duration": 10,
    "start_time": "2022-11-08T18:11:15.827Z"
   },
   {
    "duration": 8,
    "start_time": "2022-11-08T18:11:15.839Z"
   },
   {
    "duration": 728,
    "start_time": "2022-11-08T18:11:15.849Z"
   },
   {
    "duration": 60,
    "start_time": "2022-11-08T18:11:16.579Z"
   },
   {
    "duration": 30,
    "start_time": "2022-11-08T18:11:16.641Z"
   },
   {
    "duration": 9,
    "start_time": "2022-11-08T18:11:16.673Z"
   },
   {
    "duration": 4,
    "start_time": "2022-11-08T18:11:16.683Z"
   },
   {
    "duration": 198,
    "start_time": "2022-11-08T18:11:16.688Z"
   },
   {
    "duration": 188,
    "start_time": "2022-11-08T18:11:16.887Z"
   },
   {
    "duration": 5,
    "start_time": "2022-11-08T18:11:17.077Z"
   },
   {
    "duration": 7,
    "start_time": "2022-11-08T18:11:17.083Z"
   },
   {
    "duration": 27,
    "start_time": "2022-11-08T18:11:17.091Z"
   },
   {
    "duration": 9,
    "start_time": "2022-11-08T18:11:17.121Z"
   },
   {
    "duration": 103,
    "start_time": "2022-11-08T18:11:17.131Z"
   },
   {
    "duration": 27,
    "start_time": "2022-11-08T18:11:17.235Z"
   },
   {
    "duration": 2,
    "start_time": "2022-11-08T18:11:17.264Z"
   },
   {
    "duration": 5,
    "start_time": "2022-11-08T18:11:17.267Z"
   },
   {
    "duration": 10,
    "start_time": "2022-11-08T18:11:17.274Z"
   },
   {
    "duration": 9,
    "start_time": "2022-11-08T18:11:17.285Z"
   },
   {
    "duration": 5,
    "start_time": "2022-11-08T18:11:17.296Z"
   },
   {
    "duration": 9,
    "start_time": "2022-11-08T18:11:17.303Z"
   },
   {
    "duration": 52,
    "start_time": "2022-11-08T18:11:17.314Z"
   },
   {
    "duration": 11,
    "start_time": "2022-11-08T18:11:17.367Z"
   },
   {
    "duration": 224,
    "start_time": "2022-11-08T18:11:17.379Z"
   },
   {
    "duration": 220,
    "start_time": "2022-11-08T18:11:17.604Z"
   },
   {
    "duration": 3,
    "start_time": "2022-11-08T18:11:17.826Z"
   },
   {
    "duration": 8,
    "start_time": "2022-11-08T18:11:17.831Z"
   },
   {
    "duration": 3679,
    "start_time": "2022-11-08T18:11:17.858Z"
   },
   {
    "duration": 5,
    "start_time": "2022-11-08T18:11:21.538Z"
   },
   {
    "duration": 7,
    "start_time": "2022-11-08T18:11:21.544Z"
   },
   {
    "duration": 26,
    "start_time": "2022-11-08T18:11:21.552Z"
   },
   {
    "duration": 654,
    "start_time": "2022-11-08T18:11:21.580Z"
   },
   {
    "duration": 4,
    "start_time": "2022-11-08T18:11:22.235Z"
   },
   {
    "duration": 33,
    "start_time": "2022-11-08T18:11:22.240Z"
   },
   {
    "duration": 3,
    "start_time": "2022-11-08T18:11:22.274Z"
   },
   {
    "duration": 1313,
    "start_time": "2022-11-08T18:11:22.278Z"
   },
   {
    "duration": 1519,
    "start_time": "2022-11-08T18:11:23.593Z"
   },
   {
    "duration": 3,
    "start_time": "2022-11-08T18:11:25.113Z"
   },
   {
    "duration": 7,
    "start_time": "2022-11-08T18:11:25.118Z"
   },
   {
    "duration": 3,
    "start_time": "2022-11-08T18:11:25.128Z"
   },
   {
    "duration": 31,
    "start_time": "2022-11-08T18:11:25.132Z"
   },
   {
    "duration": 18,
    "start_time": "2022-11-08T18:11:25.165Z"
   },
   {
    "duration": 7,
    "start_time": "2022-11-08T18:11:25.185Z"
   },
   {
    "duration": 11,
    "start_time": "2022-11-08T18:11:25.193Z"
   },
   {
    "duration": 9,
    "start_time": "2022-11-08T18:11:25.205Z"
   },
   {
    "duration": 8,
    "start_time": "2022-11-08T18:11:25.216Z"
   },
   {
    "duration": 7,
    "start_time": "2022-11-08T18:11:25.225Z"
   },
   {
    "duration": 6,
    "start_time": "2022-11-08T18:11:25.233Z"
   },
   {
    "duration": 6,
    "start_time": "2022-11-08T18:11:25.263Z"
   },
   {
    "duration": 9,
    "start_time": "2022-11-08T18:11:25.270Z"
   },
   {
    "duration": 12,
    "start_time": "2022-11-08T18:11:25.280Z"
   },
   {
    "duration": 5,
    "start_time": "2022-11-08T18:11:25.294Z"
   },
   {
    "duration": 6,
    "start_time": "2022-11-08T18:11:25.301Z"
   },
   {
    "duration": 6,
    "start_time": "2022-11-08T18:11:25.309Z"
   },
   {
    "duration": 8,
    "start_time": "2022-11-08T18:11:25.316Z"
   },
   {
    "duration": 45,
    "start_time": "2022-11-08T18:11:25.326Z"
   },
   {
    "duration": 3,
    "start_time": "2022-11-08T18:11:25.372Z"
   },
   {
    "duration": 8,
    "start_time": "2022-11-08T18:11:25.376Z"
   },
   {
    "duration": 14,
    "start_time": "2022-11-08T18:11:25.386Z"
   },
   {
    "duration": 5,
    "start_time": "2022-11-08T18:11:25.401Z"
   },
   {
    "duration": 10,
    "start_time": "2022-11-08T18:11:25.407Z"
   },
   {
    "duration": 3,
    "start_time": "2022-11-08T18:11:25.418Z"
   },
   {
    "duration": 49,
    "start_time": "2022-11-08T18:11:25.422Z"
   },
   {
    "duration": 108,
    "start_time": "2022-11-08T18:11:25.473Z"
   },
   {
    "duration": 0,
    "start_time": "2022-11-08T18:11:25.582Z"
   },
   {
    "duration": 0,
    "start_time": "2022-11-08T18:11:25.583Z"
   },
   {
    "duration": 0,
    "start_time": "2022-11-08T18:11:25.584Z"
   },
   {
    "duration": 0,
    "start_time": "2022-11-08T18:11:25.585Z"
   },
   {
    "duration": 0,
    "start_time": "2022-11-08T18:11:25.586Z"
   },
   {
    "duration": 0,
    "start_time": "2022-11-08T18:11:25.587Z"
   },
   {
    "duration": 0,
    "start_time": "2022-11-08T18:11:25.588Z"
   },
   {
    "duration": 0,
    "start_time": "2022-11-08T18:11:25.589Z"
   },
   {
    "duration": 0,
    "start_time": "2022-11-08T18:11:25.590Z"
   },
   {
    "duration": 0,
    "start_time": "2022-11-08T18:11:25.590Z"
   },
   {
    "duration": 1443,
    "start_time": "2022-11-08T18:12:02.459Z"
   },
   {
    "duration": 11,
    "start_time": "2022-11-08T18:12:03.904Z"
   },
   {
    "duration": 10,
    "start_time": "2022-11-08T18:12:03.916Z"
   },
   {
    "duration": 743,
    "start_time": "2022-11-08T18:12:03.927Z"
   },
   {
    "duration": 92,
    "start_time": "2022-11-08T18:12:04.672Z"
   },
   {
    "duration": 7,
    "start_time": "2022-11-08T18:12:04.770Z"
   },
   {
    "duration": 20,
    "start_time": "2022-11-08T18:12:04.779Z"
   },
   {
    "duration": 6,
    "start_time": "2022-11-08T18:12:04.802Z"
   },
   {
    "duration": 271,
    "start_time": "2022-11-08T18:12:04.810Z"
   },
   {
    "duration": 188,
    "start_time": "2022-11-08T18:12:05.083Z"
   },
   {
    "duration": 5,
    "start_time": "2022-11-08T18:12:05.273Z"
   },
   {
    "duration": 6,
    "start_time": "2022-11-08T18:12:05.280Z"
   },
   {
    "duration": 28,
    "start_time": "2022-11-08T18:12:05.288Z"
   },
   {
    "duration": 7,
    "start_time": "2022-11-08T18:12:05.327Z"
   },
   {
    "duration": 74,
    "start_time": "2022-11-08T18:12:05.359Z"
   },
   {
    "duration": 32,
    "start_time": "2022-11-08T18:12:05.435Z"
   },
   {
    "duration": 3,
    "start_time": "2022-11-08T18:12:05.474Z"
   },
   {
    "duration": 7,
    "start_time": "2022-11-08T18:12:05.479Z"
   },
   {
    "duration": 8,
    "start_time": "2022-11-08T18:12:05.488Z"
   },
   {
    "duration": 15,
    "start_time": "2022-11-08T18:12:05.498Z"
   },
   {
    "duration": 31,
    "start_time": "2022-11-08T18:12:05.514Z"
   },
   {
    "duration": 31,
    "start_time": "2022-11-08T18:12:05.548Z"
   },
   {
    "duration": 8,
    "start_time": "2022-11-08T18:12:05.581Z"
   },
   {
    "duration": 6,
    "start_time": "2022-11-08T18:12:05.590Z"
   },
   {
    "duration": 189,
    "start_time": "2022-11-08T18:12:05.598Z"
   },
   {
    "duration": 217,
    "start_time": "2022-11-08T18:12:05.789Z"
   },
   {
    "duration": 4,
    "start_time": "2022-11-08T18:12:06.008Z"
   },
   {
    "duration": 18,
    "start_time": "2022-11-08T18:12:06.013Z"
   },
   {
    "duration": 3386,
    "start_time": "2022-11-08T18:12:06.032Z"
   },
   {
    "duration": 4,
    "start_time": "2022-11-08T18:12:09.420Z"
   },
   {
    "duration": 7,
    "start_time": "2022-11-08T18:12:09.426Z"
   },
   {
    "duration": 8,
    "start_time": "2022-11-08T18:12:09.458Z"
   },
   {
    "duration": 538,
    "start_time": "2022-11-08T18:12:09.468Z"
   },
   {
    "duration": 3,
    "start_time": "2022-11-08T18:12:10.008Z"
   },
   {
    "duration": 17,
    "start_time": "2022-11-08T18:12:10.012Z"
   },
   {
    "duration": 8,
    "start_time": "2022-11-08T18:12:10.030Z"
   },
   {
    "duration": 1369,
    "start_time": "2022-11-08T18:12:10.039Z"
   },
   {
    "duration": 1421,
    "start_time": "2022-11-08T18:12:11.409Z"
   },
   {
    "duration": 3,
    "start_time": "2022-11-08T18:12:12.832Z"
   },
   {
    "duration": 26,
    "start_time": "2022-11-08T18:12:12.836Z"
   },
   {
    "duration": 4,
    "start_time": "2022-11-08T18:12:12.867Z"
   },
   {
    "duration": 10,
    "start_time": "2022-11-08T18:12:12.872Z"
   },
   {
    "duration": 6,
    "start_time": "2022-11-08T18:12:12.883Z"
   },
   {
    "duration": 7,
    "start_time": "2022-11-08T18:12:12.890Z"
   },
   {
    "duration": 6,
    "start_time": "2022-11-08T18:12:12.898Z"
   },
   {
    "duration": 5,
    "start_time": "2022-11-08T18:12:12.905Z"
   },
   {
    "duration": 5,
    "start_time": "2022-11-08T18:12:12.911Z"
   },
   {
    "duration": 7,
    "start_time": "2022-11-08T18:12:12.917Z"
   },
   {
    "duration": 40,
    "start_time": "2022-11-08T18:12:12.926Z"
   },
   {
    "duration": 13,
    "start_time": "2022-11-08T18:12:12.967Z"
   },
   {
    "duration": 8,
    "start_time": "2022-11-08T18:12:12.981Z"
   },
   {
    "duration": 10,
    "start_time": "2022-11-08T18:12:12.991Z"
   },
   {
    "duration": 6,
    "start_time": "2022-11-08T18:12:13.003Z"
   },
   {
    "duration": 9,
    "start_time": "2022-11-08T18:12:13.011Z"
   },
   {
    "duration": 6,
    "start_time": "2022-11-08T18:12:13.021Z"
   },
   {
    "duration": 5,
    "start_time": "2022-11-08T18:12:13.028Z"
   },
   {
    "duration": 36,
    "start_time": "2022-11-08T18:12:13.035Z"
   },
   {
    "duration": 4,
    "start_time": "2022-11-08T18:12:13.074Z"
   },
   {
    "duration": 6,
    "start_time": "2022-11-08T18:12:13.080Z"
   },
   {
    "duration": 14,
    "start_time": "2022-11-08T18:12:13.087Z"
   },
   {
    "duration": 4,
    "start_time": "2022-11-08T18:12:13.103Z"
   },
   {
    "duration": 11,
    "start_time": "2022-11-08T18:12:13.108Z"
   },
   {
    "duration": 41,
    "start_time": "2022-11-08T18:12:13.121Z"
   },
   {
    "duration": 13,
    "start_time": "2022-11-08T18:12:13.163Z"
   },
   {
    "duration": 113,
    "start_time": "2022-11-08T18:12:13.178Z"
   },
   {
    "duration": 0,
    "start_time": "2022-11-08T18:12:13.293Z"
   },
   {
    "duration": 0,
    "start_time": "2022-11-08T18:12:13.294Z"
   },
   {
    "duration": 0,
    "start_time": "2022-11-08T18:12:13.295Z"
   },
   {
    "duration": 0,
    "start_time": "2022-11-08T18:12:13.297Z"
   },
   {
    "duration": 0,
    "start_time": "2022-11-08T18:12:13.298Z"
   },
   {
    "duration": 0,
    "start_time": "2022-11-08T18:12:13.299Z"
   },
   {
    "duration": 0,
    "start_time": "2022-11-08T18:12:13.300Z"
   },
   {
    "duration": 0,
    "start_time": "2022-11-08T18:12:13.301Z"
   },
   {
    "duration": 0,
    "start_time": "2022-11-08T18:12:13.302Z"
   },
   {
    "duration": 0,
    "start_time": "2022-11-08T18:12:13.302Z"
   },
   {
    "duration": 1305,
    "start_time": "2022-11-08T18:12:35.012Z"
   },
   {
    "duration": 9,
    "start_time": "2022-11-08T18:12:36.319Z"
   },
   {
    "duration": 9,
    "start_time": "2022-11-08T18:12:36.330Z"
   },
   {
    "duration": 730,
    "start_time": "2022-11-08T18:12:36.341Z"
   },
   {
    "duration": 53,
    "start_time": "2022-11-08T18:12:37.072Z"
   },
   {
    "duration": 3,
    "start_time": "2022-11-08T18:12:37.126Z"
   },
   {
    "duration": 11,
    "start_time": "2022-11-08T18:12:37.130Z"
   },
   {
    "duration": 3,
    "start_time": "2022-11-08T18:12:37.167Z"
   },
   {
    "duration": 178,
    "start_time": "2022-11-08T18:12:37.172Z"
   },
   {
    "duration": 192,
    "start_time": "2022-11-08T18:12:37.359Z"
   },
   {
    "duration": 10,
    "start_time": "2022-11-08T18:12:37.552Z"
   },
   {
    "duration": 9,
    "start_time": "2022-11-08T18:12:37.571Z"
   },
   {
    "duration": 35,
    "start_time": "2022-11-08T18:12:37.581Z"
   },
   {
    "duration": 15,
    "start_time": "2022-11-08T18:12:37.617Z"
   },
   {
    "duration": 24,
    "start_time": "2022-11-08T18:12:37.634Z"
   },
   {
    "duration": 31,
    "start_time": "2022-11-08T18:12:37.663Z"
   },
   {
    "duration": 19,
    "start_time": "2022-11-08T18:12:37.695Z"
   },
   {
    "duration": 94,
    "start_time": "2022-11-08T18:12:37.716Z"
   },
   {
    "duration": 10,
    "start_time": "2022-11-08T18:12:37.811Z"
   },
   {
    "duration": 19,
    "start_time": "2022-11-08T18:12:37.823Z"
   },
   {
    "duration": 13,
    "start_time": "2022-11-08T18:12:37.843Z"
   },
   {
    "duration": 26,
    "start_time": "2022-11-08T18:12:37.860Z"
   },
   {
    "duration": 6,
    "start_time": "2022-11-08T18:12:37.888Z"
   },
   {
    "duration": 21,
    "start_time": "2022-11-08T18:12:37.895Z"
   },
   {
    "duration": 218,
    "start_time": "2022-11-08T18:12:37.918Z"
   },
   {
    "duration": 216,
    "start_time": "2022-11-08T18:12:38.137Z"
   },
   {
    "duration": 18,
    "start_time": "2022-11-08T18:12:38.354Z"
   },
   {
    "duration": 17,
    "start_time": "2022-11-08T18:12:38.377Z"
   },
   {
    "duration": 3322,
    "start_time": "2022-11-08T18:12:38.395Z"
   },
   {
    "duration": 5,
    "start_time": "2022-11-08T18:12:41.718Z"
   },
   {
    "duration": 6,
    "start_time": "2022-11-08T18:12:41.724Z"
   },
   {
    "duration": 6,
    "start_time": "2022-11-08T18:12:41.731Z"
   },
   {
    "duration": 537,
    "start_time": "2022-11-08T18:12:41.767Z"
   },
   {
    "duration": 4,
    "start_time": "2022-11-08T18:12:42.305Z"
   },
   {
    "duration": 7,
    "start_time": "2022-11-08T18:12:42.310Z"
   },
   {
    "duration": 6,
    "start_time": "2022-11-08T18:12:42.318Z"
   },
   {
    "duration": 1377,
    "start_time": "2022-11-08T18:12:42.325Z"
   },
   {
    "duration": 1485,
    "start_time": "2022-11-08T18:12:43.704Z"
   },
   {
    "duration": 3,
    "start_time": "2022-11-08T18:12:45.191Z"
   },
   {
    "duration": 17,
    "start_time": "2022-11-08T18:12:45.196Z"
   },
   {
    "duration": 16,
    "start_time": "2022-11-08T18:12:45.215Z"
   },
   {
    "duration": 8,
    "start_time": "2022-11-08T18:12:45.232Z"
   },
   {
    "duration": 30,
    "start_time": "2022-11-08T18:12:45.241Z"
   },
   {
    "duration": 6,
    "start_time": "2022-11-08T18:12:45.272Z"
   },
   {
    "duration": 6,
    "start_time": "2022-11-08T18:12:45.279Z"
   },
   {
    "duration": 8,
    "start_time": "2022-11-08T18:12:45.286Z"
   },
   {
    "duration": 6,
    "start_time": "2022-11-08T18:12:45.295Z"
   },
   {
    "duration": 10,
    "start_time": "2022-11-08T18:12:45.302Z"
   },
   {
    "duration": 6,
    "start_time": "2022-11-08T18:12:45.313Z"
   },
   {
    "duration": 5,
    "start_time": "2022-11-08T18:12:45.321Z"
   },
   {
    "duration": 4,
    "start_time": "2022-11-08T18:12:45.328Z"
   },
   {
    "duration": 4,
    "start_time": "2022-11-08T18:12:45.359Z"
   },
   {
    "duration": 2,
    "start_time": "2022-11-08T18:12:45.364Z"
   },
   {
    "duration": 14,
    "start_time": "2022-11-08T18:12:45.367Z"
   },
   {
    "duration": 5,
    "start_time": "2022-11-08T18:12:45.383Z"
   },
   {
    "duration": 6,
    "start_time": "2022-11-08T18:12:45.389Z"
   },
   {
    "duration": 15,
    "start_time": "2022-11-08T18:12:45.396Z"
   },
   {
    "duration": 4,
    "start_time": "2022-11-08T18:12:45.413Z"
   },
   {
    "duration": 47,
    "start_time": "2022-11-08T18:12:45.419Z"
   },
   {
    "duration": 23,
    "start_time": "2022-11-08T18:12:45.468Z"
   },
   {
    "duration": 6,
    "start_time": "2022-11-08T18:12:45.492Z"
   },
   {
    "duration": 11,
    "start_time": "2022-11-08T18:12:45.499Z"
   },
   {
    "duration": 3,
    "start_time": "2022-11-08T18:12:45.512Z"
   },
   {
    "duration": 6,
    "start_time": "2022-11-08T18:12:45.516Z"
   },
   {
    "duration": 149,
    "start_time": "2022-11-08T18:12:45.523Z"
   },
   {
    "duration": 0,
    "start_time": "2022-11-08T18:12:45.674Z"
   },
   {
    "duration": 0,
    "start_time": "2022-11-08T18:12:45.675Z"
   },
   {
    "duration": 0,
    "start_time": "2022-11-08T18:12:45.676Z"
   },
   {
    "duration": 0,
    "start_time": "2022-11-08T18:12:45.677Z"
   },
   {
    "duration": 0,
    "start_time": "2022-11-08T18:12:45.678Z"
   },
   {
    "duration": 0,
    "start_time": "2022-11-08T18:12:45.679Z"
   },
   {
    "duration": 0,
    "start_time": "2022-11-08T18:12:45.680Z"
   },
   {
    "duration": 0,
    "start_time": "2022-11-08T18:12:45.682Z"
   },
   {
    "duration": 0,
    "start_time": "2022-11-08T18:12:45.683Z"
   },
   {
    "duration": 0,
    "start_time": "2022-11-08T18:12:45.684Z"
   },
   {
    "duration": 5,
    "start_time": "2022-11-08T19:01:49.645Z"
   },
   {
    "duration": 10,
    "start_time": "2022-11-08T19:02:06.282Z"
   },
   {
    "duration": 5,
    "start_time": "2022-11-08T19:02:19.329Z"
   },
   {
    "duration": 5,
    "start_time": "2022-11-08T19:02:26.877Z"
   },
   {
    "duration": 12,
    "start_time": "2022-11-08T19:04:47.975Z"
   },
   {
    "duration": 6,
    "start_time": "2022-11-08T19:16:40.526Z"
   },
   {
    "duration": 10,
    "start_time": "2022-11-08T19:16:40.534Z"
   },
   {
    "duration": 7,
    "start_time": "2022-11-08T19:16:40.546Z"
   },
   {
    "duration": 750,
    "start_time": "2022-11-08T19:16:40.555Z"
   },
   {
    "duration": 77,
    "start_time": "2022-11-08T19:16:41.307Z"
   },
   {
    "duration": 3,
    "start_time": "2022-11-08T19:16:41.385Z"
   },
   {
    "duration": 10,
    "start_time": "2022-11-08T19:16:41.390Z"
   },
   {
    "duration": 4,
    "start_time": "2022-11-08T19:16:41.402Z"
   },
   {
    "duration": 220,
    "start_time": "2022-11-08T19:16:41.408Z"
   },
   {
    "duration": 182,
    "start_time": "2022-11-08T19:16:41.630Z"
   },
   {
    "duration": 4,
    "start_time": "2022-11-08T19:16:41.814Z"
   },
   {
    "duration": 5,
    "start_time": "2022-11-08T19:16:41.820Z"
   },
   {
    "duration": 46,
    "start_time": "2022-11-08T19:16:41.828Z"
   },
   {
    "duration": 8,
    "start_time": "2022-11-08T19:16:41.875Z"
   },
   {
    "duration": 7,
    "start_time": "2022-11-08T19:16:41.884Z"
   },
   {
    "duration": 12,
    "start_time": "2022-11-08T19:16:41.892Z"
   },
   {
    "duration": 3,
    "start_time": "2022-11-08T19:16:41.905Z"
   },
   {
    "duration": 12,
    "start_time": "2022-11-08T19:16:41.909Z"
   },
   {
    "duration": 6,
    "start_time": "2022-11-08T19:16:41.922Z"
   },
   {
    "duration": 7,
    "start_time": "2022-11-08T19:16:41.929Z"
   },
   {
    "duration": 5,
    "start_time": "2022-11-08T19:16:41.938Z"
   },
   {
    "duration": 9,
    "start_time": "2022-11-08T19:16:41.958Z"
   },
   {
    "duration": 14,
    "start_time": "2022-11-08T19:16:41.970Z"
   },
   {
    "duration": 4,
    "start_time": "2022-11-08T19:16:41.986Z"
   },
   {
    "duration": 190,
    "start_time": "2022-11-08T19:16:41.991Z"
   },
   {
    "duration": 197,
    "start_time": "2022-11-08T19:16:42.182Z"
   },
   {
    "duration": 3,
    "start_time": "2022-11-08T19:16:42.381Z"
   },
   {
    "duration": 6,
    "start_time": "2022-11-08T19:16:42.385Z"
   },
   {
    "duration": 3747,
    "start_time": "2022-11-08T19:16:42.392Z"
   },
   {
    "duration": 5,
    "start_time": "2022-11-08T19:16:46.140Z"
   },
   {
    "duration": 5,
    "start_time": "2022-11-08T19:16:46.160Z"
   },
   {
    "duration": 18,
    "start_time": "2022-11-08T19:16:46.167Z"
   },
   {
    "duration": 655,
    "start_time": "2022-11-08T19:16:46.187Z"
   },
   {
    "duration": 4,
    "start_time": "2022-11-08T19:16:46.843Z"
   },
   {
    "duration": 12,
    "start_time": "2022-11-08T19:16:46.848Z"
   },
   {
    "duration": 19,
    "start_time": "2022-11-08T19:16:46.863Z"
   },
   {
    "duration": 1535,
    "start_time": "2022-11-08T19:16:46.884Z"
   },
   {
    "duration": 1339,
    "start_time": "2022-11-08T19:16:48.421Z"
   },
   {
    "duration": 4,
    "start_time": "2022-11-08T19:16:49.763Z"
   },
   {
    "duration": 5,
    "start_time": "2022-11-08T19:16:49.770Z"
   },
   {
    "duration": 6,
    "start_time": "2022-11-08T19:16:49.777Z"
   },
   {
    "duration": 7,
    "start_time": "2022-11-08T19:16:49.784Z"
   },
   {
    "duration": 7,
    "start_time": "2022-11-08T19:16:49.793Z"
   },
   {
    "duration": 6,
    "start_time": "2022-11-08T19:16:49.801Z"
   },
   {
    "duration": 5,
    "start_time": "2022-11-08T19:16:49.808Z"
   },
   {
    "duration": 5,
    "start_time": "2022-11-08T19:16:49.814Z"
   },
   {
    "duration": 4,
    "start_time": "2022-11-08T19:16:49.821Z"
   },
   {
    "duration": 8,
    "start_time": "2022-11-08T19:16:49.827Z"
   },
   {
    "duration": 28,
    "start_time": "2022-11-08T19:16:49.837Z"
   },
   {
    "duration": 14,
    "start_time": "2022-11-08T19:16:49.867Z"
   },
   {
    "duration": 4,
    "start_time": "2022-11-08T19:16:49.883Z"
   },
   {
    "duration": 5,
    "start_time": "2022-11-08T19:16:49.889Z"
   },
   {
    "duration": 4,
    "start_time": "2022-11-08T19:16:49.895Z"
   },
   {
    "duration": 5,
    "start_time": "2022-11-08T19:16:49.901Z"
   },
   {
    "duration": 5,
    "start_time": "2022-11-08T19:16:49.908Z"
   },
   {
    "duration": 5,
    "start_time": "2022-11-08T19:16:49.915Z"
   },
   {
    "duration": 14,
    "start_time": "2022-11-08T19:16:49.922Z"
   },
   {
    "duration": 4,
    "start_time": "2022-11-08T19:16:49.938Z"
   },
   {
    "duration": 26,
    "start_time": "2022-11-08T19:16:49.944Z"
   },
   {
    "duration": 9,
    "start_time": "2022-11-08T19:16:49.972Z"
   },
   {
    "duration": 8,
    "start_time": "2022-11-08T19:16:49.982Z"
   },
   {
    "duration": 5,
    "start_time": "2022-11-08T19:16:49.992Z"
   },
   {
    "duration": 5,
    "start_time": "2022-11-08T19:16:49.998Z"
   },
   {
    "duration": 8,
    "start_time": "2022-11-08T19:25:41.200Z"
   },
   {
    "duration": 4,
    "start_time": "2022-11-08T19:25:44.476Z"
   },
   {
    "duration": 19,
    "start_time": "2022-11-08T19:25:59.659Z"
   },
   {
    "duration": 8,
    "start_time": "2022-11-08T19:26:40.671Z"
   },
   {
    "duration": 7,
    "start_time": "2022-11-08T19:28:12.141Z"
   },
   {
    "duration": 3,
    "start_time": "2022-11-08T19:28:24.884Z"
   },
   {
    "duration": 2,
    "start_time": "2022-11-08T19:28:42.703Z"
   },
   {
    "duration": 4,
    "start_time": "2022-11-08T19:28:47.001Z"
   },
   {
    "duration": 6323,
    "start_time": "2022-11-08T19:28:51.100Z"
   },
   {
    "duration": 1472,
    "start_time": "2022-11-08T19:29:16.103Z"
   },
   {
    "duration": 10,
    "start_time": "2022-11-08T19:29:17.577Z"
   },
   {
    "duration": 7,
    "start_time": "2022-11-08T19:29:17.588Z"
   },
   {
    "duration": 751,
    "start_time": "2022-11-08T19:29:17.598Z"
   },
   {
    "duration": 65,
    "start_time": "2022-11-08T19:29:18.351Z"
   },
   {
    "duration": 3,
    "start_time": "2022-11-08T19:29:18.417Z"
   },
   {
    "duration": 8,
    "start_time": "2022-11-08T19:29:18.422Z"
   },
   {
    "duration": 3,
    "start_time": "2022-11-08T19:29:18.431Z"
   },
   {
    "duration": 239,
    "start_time": "2022-11-08T19:29:18.436Z"
   },
   {
    "duration": 205,
    "start_time": "2022-11-08T19:29:18.679Z"
   },
   {
    "duration": 5,
    "start_time": "2022-11-08T19:29:18.886Z"
   },
   {
    "duration": 4,
    "start_time": "2022-11-08T19:29:18.893Z"
   },
   {
    "duration": 34,
    "start_time": "2022-11-08T19:29:18.899Z"
   },
   {
    "duration": 24,
    "start_time": "2022-11-08T19:29:18.935Z"
   },
   {
    "duration": 13,
    "start_time": "2022-11-08T19:29:18.961Z"
   },
   {
    "duration": 13,
    "start_time": "2022-11-08T19:29:18.975Z"
   },
   {
    "duration": 3,
    "start_time": "2022-11-08T19:29:18.989Z"
   },
   {
    "duration": 92,
    "start_time": "2022-11-08T19:29:18.994Z"
   },
   {
    "duration": 6,
    "start_time": "2022-11-08T19:29:19.087Z"
   },
   {
    "duration": 7,
    "start_time": "2022-11-08T19:29:19.094Z"
   },
   {
    "duration": 6,
    "start_time": "2022-11-08T19:29:19.103Z"
   },
   {
    "duration": 11,
    "start_time": "2022-11-08T19:29:19.110Z"
   },
   {
    "duration": 6,
    "start_time": "2022-11-08T19:29:19.122Z"
   },
   {
    "duration": 33,
    "start_time": "2022-11-08T19:29:19.129Z"
   },
   {
    "duration": 209,
    "start_time": "2022-11-08T19:29:19.166Z"
   },
   {
    "duration": 239,
    "start_time": "2022-11-08T19:29:19.376Z"
   },
   {
    "duration": 3,
    "start_time": "2022-11-08T19:29:19.617Z"
   },
   {
    "duration": 12,
    "start_time": "2022-11-08T19:29:19.625Z"
   },
   {
    "duration": 3480,
    "start_time": "2022-11-08T19:29:19.638Z"
   },
   {
    "duration": 4,
    "start_time": "2022-11-08T19:29:23.120Z"
   },
   {
    "duration": 10,
    "start_time": "2022-11-08T19:29:23.126Z"
   },
   {
    "duration": 6,
    "start_time": "2022-11-08T19:29:23.137Z"
   },
   {
    "duration": 594,
    "start_time": "2022-11-08T19:29:23.145Z"
   },
   {
    "duration": 4,
    "start_time": "2022-11-08T19:29:23.741Z"
   },
   {
    "duration": 31,
    "start_time": "2022-11-08T19:29:23.747Z"
   },
   {
    "duration": 6,
    "start_time": "2022-11-08T19:29:23.779Z"
   },
   {
    "duration": 1395,
    "start_time": "2022-11-08T19:29:23.787Z"
   },
   {
    "duration": 1502,
    "start_time": "2022-11-08T19:29:25.184Z"
   },
   {
    "duration": 4,
    "start_time": "2022-11-08T19:29:26.687Z"
   },
   {
    "duration": 9,
    "start_time": "2022-11-08T19:29:26.692Z"
   },
   {
    "duration": 4,
    "start_time": "2022-11-08T19:29:26.702Z"
   },
   {
    "duration": 9,
    "start_time": "2022-11-08T19:29:26.707Z"
   },
   {
    "duration": 8,
    "start_time": "2022-11-08T19:29:26.717Z"
   },
   {
    "duration": 6,
    "start_time": "2022-11-08T19:29:26.726Z"
   },
   {
    "duration": 4,
    "start_time": "2022-11-08T19:29:26.733Z"
   },
   {
    "duration": 4,
    "start_time": "2022-11-08T19:29:26.739Z"
   },
   {
    "duration": 2,
    "start_time": "2022-11-08T19:29:26.758Z"
   },
   {
    "duration": 7,
    "start_time": "2022-11-08T19:29:26.762Z"
   },
   {
    "duration": 6,
    "start_time": "2022-11-08T19:29:26.770Z"
   },
   {
    "duration": 5,
    "start_time": "2022-11-08T19:29:26.778Z"
   },
   {
    "duration": 6,
    "start_time": "2022-11-08T19:29:26.784Z"
   },
   {
    "duration": 6,
    "start_time": "2022-11-08T19:29:26.792Z"
   },
   {
    "duration": 9,
    "start_time": "2022-11-08T19:29:26.800Z"
   },
   {
    "duration": 8,
    "start_time": "2022-11-08T19:29:26.810Z"
   },
   {
    "duration": 7,
    "start_time": "2022-11-08T19:29:26.819Z"
   },
   {
    "duration": 7,
    "start_time": "2022-11-08T19:29:26.827Z"
   },
   {
    "duration": 32,
    "start_time": "2022-11-08T19:29:26.835Z"
   },
   {
    "duration": 8,
    "start_time": "2022-11-08T19:29:26.869Z"
   },
   {
    "duration": 4,
    "start_time": "2022-11-08T19:29:26.878Z"
   },
   {
    "duration": 13,
    "start_time": "2022-11-08T19:29:26.883Z"
   },
   {
    "duration": 5,
    "start_time": "2022-11-08T19:29:26.898Z"
   },
   {
    "duration": 24,
    "start_time": "2022-11-08T19:29:26.904Z"
   },
   {
    "duration": 3,
    "start_time": "2022-11-08T19:29:26.930Z"
   },
   {
    "duration": 6,
    "start_time": "2022-11-08T19:29:26.935Z"
   },
   {
    "duration": 6500,
    "start_time": "2022-11-08T19:29:26.959Z"
   },
   {
    "duration": 0,
    "start_time": "2022-11-08T19:29:33.461Z"
   },
   {
    "duration": 0,
    "start_time": "2022-11-08T19:29:33.462Z"
   },
   {
    "duration": 0,
    "start_time": "2022-11-08T19:29:33.463Z"
   },
   {
    "duration": 0,
    "start_time": "2022-11-08T19:29:33.465Z"
   },
   {
    "duration": 0,
    "start_time": "2022-11-08T19:29:33.466Z"
   },
   {
    "duration": 0,
    "start_time": "2022-11-08T19:29:33.468Z"
   },
   {
    "duration": 0,
    "start_time": "2022-11-08T19:29:33.469Z"
   },
   {
    "duration": 0,
    "start_time": "2022-11-08T19:29:33.470Z"
   },
   {
    "duration": 0,
    "start_time": "2022-11-08T19:29:33.472Z"
   },
   {
    "duration": 0,
    "start_time": "2022-11-08T19:29:33.473Z"
   },
   {
    "duration": 5,
    "start_time": "2022-11-08T19:58:11.307Z"
   },
   {
    "duration": 14,
    "start_time": "2022-11-08T19:58:16.462Z"
   },
   {
    "duration": 3,
    "start_time": "2022-11-08T19:58:25.776Z"
   },
   {
    "duration": 691,
    "start_time": "2022-11-08T19:58:35.014Z"
   },
   {
    "duration": 63,
    "start_time": "2022-11-08T19:58:38.953Z"
   },
   {
    "duration": 3,
    "start_time": "2022-11-08T19:58:45.084Z"
   },
   {
    "duration": 6,
    "start_time": "2022-11-08T19:58:49.258Z"
   },
   {
    "duration": 3,
    "start_time": "2022-11-08T19:58:52.017Z"
   },
   {
    "duration": 212,
    "start_time": "2022-11-08T19:58:54.488Z"
   },
   {
    "duration": 190,
    "start_time": "2022-11-08T19:58:59.596Z"
   },
   {
    "duration": 8,
    "start_time": "2022-11-08T19:59:06.985Z"
   },
   {
    "duration": 5,
    "start_time": "2022-11-08T19:59:13.330Z"
   },
   {
    "duration": 4,
    "start_time": "2022-11-08T19:59:18.172Z"
   },
   {
    "duration": 30,
    "start_time": "2022-11-08T19:59:27.171Z"
   },
   {
    "duration": 7,
    "start_time": "2022-11-08T19:59:31.179Z"
   },
   {
    "duration": 5,
    "start_time": "2022-11-08T19:59:36.553Z"
   },
   {
    "duration": 11,
    "start_time": "2022-11-08T19:59:39.491Z"
   },
   {
    "duration": 5,
    "start_time": "2022-11-08T19:59:43.561Z"
   },
   {
    "duration": 6,
    "start_time": "2022-11-08T19:59:49.195Z"
   },
   {
    "duration": 8,
    "start_time": "2022-11-08T19:59:53.156Z"
   },
   {
    "duration": 8,
    "start_time": "2022-11-08T20:00:02.427Z"
   },
   {
    "duration": 7,
    "start_time": "2022-11-08T20:00:05.325Z"
   },
   {
    "duration": 8,
    "start_time": "2022-11-08T20:00:07.586Z"
   },
   {
    "duration": 7,
    "start_time": "2022-11-08T20:00:09.290Z"
   },
   {
    "duration": 6,
    "start_time": "2022-11-08T20:00:14.953Z"
   },
   {
    "duration": 186,
    "start_time": "2022-11-08T20:00:21.542Z"
   },
   {
    "duration": 202,
    "start_time": "2022-11-08T20:00:29.426Z"
   },
   {
    "duration": 3,
    "start_time": "2022-11-08T20:00:32.794Z"
   },
   {
    "duration": 5,
    "start_time": "2022-11-08T20:00:38.931Z"
   },
   {
    "duration": 4,
    "start_time": "2022-11-08T20:00:43.773Z"
   },
   {
    "duration": 6,
    "start_time": "2022-11-08T20:00:46.074Z"
   },
   {
    "duration": 4,
    "start_time": "2022-11-08T20:00:48.776Z"
   },
   {
    "duration": 3,
    "start_time": "2022-11-08T20:00:53.219Z"
   },
   {
    "duration": 4,
    "start_time": "2022-11-08T20:00:57.602Z"
   },
   {
    "duration": 3,
    "start_time": "2022-11-08T20:01:00.731Z"
   },
   {
    "duration": 1380,
    "start_time": "2022-11-08T20:01:06.241Z"
   },
   {
    "duration": 1578,
    "start_time": "2022-11-08T20:01:13.313Z"
   },
   {
    "duration": 4,
    "start_time": "2022-11-08T20:01:19.099Z"
   },
   {
    "duration": 3,
    "start_time": "2022-11-08T20:01:22.397Z"
   },
   {
    "duration": 4,
    "start_time": "2022-11-08T20:01:26.164Z"
   },
   {
    "duration": 4,
    "start_time": "2022-11-08T20:01:31.107Z"
   },
   {
    "duration": 4,
    "start_time": "2022-11-08T20:01:34.299Z"
   },
   {
    "duration": 5,
    "start_time": "2022-11-08T20:01:37.563Z"
   },
   {
    "duration": 4,
    "start_time": "2022-11-08T20:01:42.636Z"
   },
   {
    "duration": 5,
    "start_time": "2022-11-08T20:01:56.172Z"
   },
   {
    "duration": 3,
    "start_time": "2022-11-08T20:02:05.140Z"
   },
   {
    "duration": 3,
    "start_time": "2022-11-08T20:02:07.916Z"
   },
   {
    "duration": 4,
    "start_time": "2022-11-08T20:02:12.517Z"
   },
   {
    "duration": 3,
    "start_time": "2022-11-08T20:02:14.953Z"
   },
   {
    "duration": 4,
    "start_time": "2022-11-08T20:02:17.733Z"
   },
   {
    "duration": 9,
    "start_time": "2022-11-08T20:02:25.773Z"
   },
   {
    "duration": 5,
    "start_time": "2022-11-08T20:02:30.547Z"
   },
   {
    "duration": 17,
    "start_time": "2022-11-08T20:02:42.575Z"
   },
   {
    "duration": 8,
    "start_time": "2022-11-08T20:02:48.728Z"
   },
   {
    "duration": 7,
    "start_time": "2022-11-08T20:03:03.380Z"
   },
   {
    "duration": 3,
    "start_time": "2022-11-08T20:03:16.736Z"
   },
   {
    "duration": 3,
    "start_time": "2022-11-08T20:03:20.917Z"
   },
   {
    "duration": 5899,
    "start_time": "2022-11-08T20:03:24.604Z"
   },
   {
    "duration": 6,
    "start_time": "2022-11-08T20:05:27.540Z"
   },
   {
    "duration": 11,
    "start_time": "2022-11-08T20:05:27.592Z"
   },
   {
    "duration": 10,
    "start_time": "2022-11-08T20:05:27.605Z"
   },
   {
    "duration": 740,
    "start_time": "2022-11-08T20:05:27.616Z"
   },
   {
    "duration": 61,
    "start_time": "2022-11-08T20:05:28.359Z"
   },
   {
    "duration": 3,
    "start_time": "2022-11-08T20:05:28.421Z"
   },
   {
    "duration": 8,
    "start_time": "2022-11-08T20:05:28.426Z"
   },
   {
    "duration": 28,
    "start_time": "2022-11-08T20:05:28.436Z"
   },
   {
    "duration": 214,
    "start_time": "2022-11-08T20:05:28.466Z"
   },
   {
    "duration": 231,
    "start_time": "2022-11-08T20:05:28.683Z"
   },
   {
    "duration": 4,
    "start_time": "2022-11-08T20:05:28.915Z"
   },
   {
    "duration": 8,
    "start_time": "2022-11-08T20:05:28.921Z"
   },
   {
    "duration": 50,
    "start_time": "2022-11-08T20:05:28.931Z"
   },
   {
    "duration": 20,
    "start_time": "2022-11-08T20:05:28.983Z"
   },
   {
    "duration": 20,
    "start_time": "2022-11-08T20:05:29.005Z"
   },
   {
    "duration": 14,
    "start_time": "2022-11-08T20:05:29.027Z"
   },
   {
    "duration": 14,
    "start_time": "2022-11-08T20:05:29.043Z"
   },
   {
    "duration": 33,
    "start_time": "2022-11-08T20:05:29.059Z"
   },
   {
    "duration": 19,
    "start_time": "2022-11-08T20:05:29.094Z"
   },
   {
    "duration": 25,
    "start_time": "2022-11-08T20:05:29.115Z"
   },
   {
    "duration": 38,
    "start_time": "2022-11-08T20:05:29.142Z"
   },
   {
    "duration": 26,
    "start_time": "2022-11-08T20:05:29.182Z"
   },
   {
    "duration": 24,
    "start_time": "2022-11-08T20:05:29.209Z"
   },
   {
    "duration": 12,
    "start_time": "2022-11-08T20:05:29.234Z"
   },
   {
    "duration": 238,
    "start_time": "2022-11-08T20:05:29.250Z"
   },
   {
    "duration": 222,
    "start_time": "2022-11-08T20:05:29.490Z"
   },
   {
    "duration": 4,
    "start_time": "2022-11-08T20:05:29.713Z"
   },
   {
    "duration": 12,
    "start_time": "2022-11-08T20:05:29.719Z"
   },
   {
    "duration": 3361,
    "start_time": "2022-11-08T20:05:29.732Z"
   },
   {
    "duration": 4,
    "start_time": "2022-11-08T20:05:33.094Z"
   },
   {
    "duration": 12,
    "start_time": "2022-11-08T20:05:33.100Z"
   },
   {
    "duration": 15,
    "start_time": "2022-11-08T20:05:33.114Z"
   },
   {
    "duration": 681,
    "start_time": "2022-11-08T20:05:33.131Z"
   },
   {
    "duration": 4,
    "start_time": "2022-11-08T20:05:33.813Z"
   },
   {
    "duration": 13,
    "start_time": "2022-11-08T20:05:33.819Z"
   },
   {
    "duration": 18,
    "start_time": "2022-11-08T20:05:33.833Z"
   },
   {
    "duration": 1375,
    "start_time": "2022-11-08T20:05:33.853Z"
   },
   {
    "duration": 1351,
    "start_time": "2022-11-08T20:05:35.229Z"
   },
   {
    "duration": 3,
    "start_time": "2022-11-08T20:05:36.582Z"
   },
   {
    "duration": 29,
    "start_time": "2022-11-08T20:05:36.587Z"
   },
   {
    "duration": 12,
    "start_time": "2022-11-08T20:05:36.617Z"
   },
   {
    "duration": 21,
    "start_time": "2022-11-08T20:05:36.630Z"
   },
   {
    "duration": 30,
    "start_time": "2022-11-08T20:05:36.653Z"
   },
   {
    "duration": 17,
    "start_time": "2022-11-08T20:05:36.685Z"
   },
   {
    "duration": 18,
    "start_time": "2022-11-08T20:05:36.703Z"
   },
   {
    "duration": 11,
    "start_time": "2022-11-08T20:05:36.722Z"
   },
   {
    "duration": 10,
    "start_time": "2022-11-08T20:05:36.734Z"
   },
   {
    "duration": 30,
    "start_time": "2022-11-08T20:05:36.746Z"
   },
   {
    "duration": 8,
    "start_time": "2022-11-08T20:05:36.778Z"
   },
   {
    "duration": 7,
    "start_time": "2022-11-08T20:05:36.787Z"
   },
   {
    "duration": 9,
    "start_time": "2022-11-08T20:05:36.796Z"
   },
   {
    "duration": 5,
    "start_time": "2022-11-08T20:05:36.807Z"
   },
   {
    "duration": 5,
    "start_time": "2022-11-08T20:05:36.814Z"
   },
   {
    "duration": 9,
    "start_time": "2022-11-08T20:05:36.820Z"
   },
   {
    "duration": 13,
    "start_time": "2022-11-08T20:05:36.831Z"
   },
   {
    "duration": 5,
    "start_time": "2022-11-08T20:05:36.845Z"
   },
   {
    "duration": 17,
    "start_time": "2022-11-08T20:05:36.852Z"
   },
   {
    "duration": 15,
    "start_time": "2022-11-08T20:05:53.640Z"
   },
   {
    "duration": 15,
    "start_time": "2022-11-08T20:06:39.043Z"
   },
   {
    "duration": 9,
    "start_time": "2022-11-08T20:06:58.625Z"
   },
   {
    "duration": 5,
    "start_time": "2022-11-08T20:07:04.778Z"
   },
   {
    "duration": 13,
    "start_time": "2022-11-08T20:07:12.776Z"
   },
   {
    "duration": 5,
    "start_time": "2022-11-08T20:07:22.746Z"
   },
   {
    "duration": 10,
    "start_time": "2022-11-08T20:07:32.585Z"
   },
   {
    "duration": 3,
    "start_time": "2022-11-08T20:07:40.015Z"
   },
   {
    "duration": 4,
    "start_time": "2022-11-08T20:07:44.558Z"
   },
   {
    "duration": 1029813,
    "start_time": "2022-11-08T20:07:47.957Z"
   },
   {
    "duration": 4,
    "start_time": "2022-11-08T20:30:05.823Z"
   },
   {
    "duration": 3,
    "start_time": "2022-11-08T20:30:11.587Z"
   },
   {
    "duration": 76,
    "start_time": "2022-11-09T08:22:13.791Z"
   },
   {
    "duration": 1788,
    "start_time": "2022-11-09T08:24:52.274Z"
   },
   {
    "duration": 11,
    "start_time": "2022-11-09T08:24:54.064Z"
   },
   {
    "duration": 10,
    "start_time": "2022-11-09T08:24:54.076Z"
   },
   {
    "duration": 1825,
    "start_time": "2022-11-09T08:24:54.088Z"
   },
   {
    "duration": 68,
    "start_time": "2022-11-09T08:24:55.915Z"
   },
   {
    "duration": 3,
    "start_time": "2022-11-09T08:24:55.985Z"
   },
   {
    "duration": 15,
    "start_time": "2022-11-09T08:24:55.990Z"
   },
   {
    "duration": 5,
    "start_time": "2022-11-09T08:24:56.007Z"
   },
   {
    "duration": 215,
    "start_time": "2022-11-09T08:24:56.013Z"
   },
   {
    "duration": 203,
    "start_time": "2022-11-09T08:24:56.231Z"
   },
   {
    "duration": 5,
    "start_time": "2022-11-09T08:24:56.436Z"
   },
   {
    "duration": 8,
    "start_time": "2022-11-09T08:24:56.442Z"
   },
   {
    "duration": 47,
    "start_time": "2022-11-09T08:24:56.451Z"
   },
   {
    "duration": 8,
    "start_time": "2022-11-09T08:24:56.499Z"
   },
   {
    "duration": 9,
    "start_time": "2022-11-09T08:24:56.510Z"
   },
   {
    "duration": 15,
    "start_time": "2022-11-09T08:24:56.521Z"
   },
   {
    "duration": 10,
    "start_time": "2022-11-09T08:24:56.538Z"
   },
   {
    "duration": 95,
    "start_time": "2022-11-09T08:24:56.550Z"
   },
   {
    "duration": 59,
    "start_time": "2022-11-09T08:24:56.647Z"
   },
   {
    "duration": 26,
    "start_time": "2022-11-09T08:24:56.708Z"
   },
   {
    "duration": 23,
    "start_time": "2022-11-09T08:24:56.735Z"
   },
   {
    "duration": 15,
    "start_time": "2022-11-09T08:24:56.759Z"
   },
   {
    "duration": 7,
    "start_time": "2022-11-09T08:24:56.776Z"
   },
   {
    "duration": 10,
    "start_time": "2022-11-09T08:24:56.785Z"
   },
   {
    "duration": 208,
    "start_time": "2022-11-09T08:24:56.797Z"
   },
   {
    "duration": 220,
    "start_time": "2022-11-09T08:24:57.007Z"
   },
   {
    "duration": 4,
    "start_time": "2022-11-09T08:24:57.229Z"
   },
   {
    "duration": 13,
    "start_time": "2022-11-09T08:24:57.237Z"
   },
   {
    "duration": 4041,
    "start_time": "2022-11-09T08:24:57.252Z"
   },
   {
    "duration": 6,
    "start_time": "2022-11-09T08:25:01.296Z"
   },
   {
    "duration": 32,
    "start_time": "2022-11-09T08:25:01.305Z"
   },
   {
    "duration": 34,
    "start_time": "2022-11-09T08:25:01.340Z"
   },
   {
    "duration": 614,
    "start_time": "2022-11-09T08:25:01.377Z"
   },
   {
    "duration": 3,
    "start_time": "2022-11-09T08:25:01.993Z"
   },
   {
    "duration": 30,
    "start_time": "2022-11-09T08:25:01.998Z"
   },
   {
    "duration": 26,
    "start_time": "2022-11-09T08:25:02.030Z"
   },
   {
    "duration": 1317,
    "start_time": "2022-11-09T08:25:02.058Z"
   },
   {
    "duration": 1502,
    "start_time": "2022-11-09T08:25:03.377Z"
   },
   {
    "duration": 4,
    "start_time": "2022-11-09T08:25:04.880Z"
   },
   {
    "duration": 46,
    "start_time": "2022-11-09T08:25:04.885Z"
   },
   {
    "duration": 26,
    "start_time": "2022-11-09T08:25:04.933Z"
   },
   {
    "duration": 43,
    "start_time": "2022-11-09T08:25:04.961Z"
   },
   {
    "duration": 26,
    "start_time": "2022-11-09T08:25:05.006Z"
   },
   {
    "duration": 29,
    "start_time": "2022-11-09T08:25:05.035Z"
   },
   {
    "duration": 24,
    "start_time": "2022-11-09T08:25:05.066Z"
   },
   {
    "duration": 41,
    "start_time": "2022-11-09T08:25:05.092Z"
   },
   {
    "duration": 42,
    "start_time": "2022-11-09T08:25:05.135Z"
   },
   {
    "duration": 34,
    "start_time": "2022-11-09T08:25:05.179Z"
   },
   {
    "duration": 47,
    "start_time": "2022-11-09T08:25:05.215Z"
   },
   {
    "duration": 44,
    "start_time": "2022-11-09T08:25:05.263Z"
   },
   {
    "duration": 17,
    "start_time": "2022-11-09T08:25:05.308Z"
   },
   {
    "duration": 30,
    "start_time": "2022-11-09T08:25:05.327Z"
   },
   {
    "duration": 3,
    "start_time": "2022-11-09T08:25:16.316Z"
   },
   {
    "duration": 3,
    "start_time": "2022-11-09T08:25:19.504Z"
   },
   {
    "duration": 34,
    "start_time": "2022-11-09T08:26:38.240Z"
   },
   {
    "duration": 4,
    "start_time": "2022-11-09T08:26:46.421Z"
   },
   {
    "duration": 151,
    "start_time": "2022-11-09T08:27:18.344Z"
   },
   {
    "duration": 6,
    "start_time": "2022-11-09T08:28:13.416Z"
   },
   {
    "duration": 18,
    "start_time": "2022-11-09T08:28:13.424Z"
   },
   {
    "duration": 9,
    "start_time": "2022-11-09T08:28:13.444Z"
   },
   {
    "duration": 676,
    "start_time": "2022-11-09T08:28:13.455Z"
   },
   {
    "duration": 88,
    "start_time": "2022-11-09T08:28:14.135Z"
   },
   {
    "duration": 5,
    "start_time": "2022-11-09T08:28:14.224Z"
   },
   {
    "duration": 24,
    "start_time": "2022-11-09T08:28:14.231Z"
   },
   {
    "duration": 6,
    "start_time": "2022-11-09T08:28:14.258Z"
   },
   {
    "duration": 204,
    "start_time": "2022-11-09T08:28:14.266Z"
   },
   {
    "duration": 211,
    "start_time": "2022-11-09T08:28:14.472Z"
   },
   {
    "duration": 5,
    "start_time": "2022-11-09T08:28:14.685Z"
   },
   {
    "duration": 5,
    "start_time": "2022-11-09T08:28:14.697Z"
   },
   {
    "duration": 31,
    "start_time": "2022-11-09T08:28:14.704Z"
   },
   {
    "duration": 8,
    "start_time": "2022-11-09T08:28:14.738Z"
   },
   {
    "duration": 10,
    "start_time": "2022-11-09T08:28:14.748Z"
   },
   {
    "duration": 13,
    "start_time": "2022-11-09T08:28:14.760Z"
   },
   {
    "duration": 10,
    "start_time": "2022-11-09T08:28:14.775Z"
   },
   {
    "duration": 7,
    "start_time": "2022-11-09T08:28:14.797Z"
   },
   {
    "duration": 6,
    "start_time": "2022-11-09T08:28:14.805Z"
   },
   {
    "duration": 8,
    "start_time": "2022-11-09T08:28:14.812Z"
   },
   {
    "duration": 5,
    "start_time": "2022-11-09T08:28:14.822Z"
   },
   {
    "duration": 10,
    "start_time": "2022-11-09T08:28:14.828Z"
   },
   {
    "duration": 6,
    "start_time": "2022-11-09T08:28:14.839Z"
   },
   {
    "duration": 8,
    "start_time": "2022-11-09T08:28:14.846Z"
   },
   {
    "duration": 228,
    "start_time": "2022-11-09T08:28:14.855Z"
   },
   {
    "duration": 206,
    "start_time": "2022-11-09T08:28:15.085Z"
   },
   {
    "duration": 5,
    "start_time": "2022-11-09T08:28:15.293Z"
   },
   {
    "duration": 6,
    "start_time": "2022-11-09T08:28:15.300Z"
   },
   {
    "duration": 3363,
    "start_time": "2022-11-09T08:28:15.307Z"
   },
   {
    "duration": 5,
    "start_time": "2022-11-09T08:28:18.671Z"
   },
   {
    "duration": 21,
    "start_time": "2022-11-09T08:28:18.677Z"
   },
   {
    "duration": 12,
    "start_time": "2022-11-09T08:28:18.700Z"
   },
   {
    "duration": 659,
    "start_time": "2022-11-09T08:28:18.714Z"
   },
   {
    "duration": 3,
    "start_time": "2022-11-09T08:28:19.375Z"
   },
   {
    "duration": 6,
    "start_time": "2022-11-09T08:28:19.380Z"
   },
   {
    "duration": 11,
    "start_time": "2022-11-09T08:28:19.388Z"
   },
   {
    "duration": 1462,
    "start_time": "2022-11-09T08:28:19.401Z"
   },
   {
    "duration": 1352,
    "start_time": "2022-11-09T08:28:20.865Z"
   },
   {
    "duration": 4,
    "start_time": "2022-11-09T08:28:22.218Z"
   },
   {
    "duration": 20,
    "start_time": "2022-11-09T08:28:22.223Z"
   },
   {
    "duration": 28,
    "start_time": "2022-11-09T08:28:22.247Z"
   },
   {
    "duration": 33,
    "start_time": "2022-11-09T08:28:22.277Z"
   },
   {
    "duration": 32,
    "start_time": "2022-11-09T08:28:22.312Z"
   },
   {
    "duration": 36,
    "start_time": "2022-11-09T08:28:22.346Z"
   },
   {
    "duration": 9,
    "start_time": "2022-11-09T08:28:22.384Z"
   },
   {
    "duration": 39,
    "start_time": "2022-11-09T08:29:14.802Z"
   },
   {
    "duration": 3,
    "start_time": "2022-11-09T08:30:38.385Z"
   },
   {
    "duration": 4,
    "start_time": "2022-11-09T08:30:53.136Z"
   },
   {
    "duration": 39,
    "start_time": "2022-11-09T08:32:05.964Z"
   },
   {
    "duration": 6,
    "start_time": "2022-11-09T08:32:39.393Z"
   },
   {
    "duration": 22,
    "start_time": "2022-11-09T08:32:39.401Z"
   },
   {
    "duration": 9,
    "start_time": "2022-11-09T08:32:39.425Z"
   },
   {
    "duration": 680,
    "start_time": "2022-11-09T08:32:39.435Z"
   },
   {
    "duration": 60,
    "start_time": "2022-11-09T08:32:40.116Z"
   },
   {
    "duration": 3,
    "start_time": "2022-11-09T08:32:40.177Z"
   },
   {
    "duration": 6,
    "start_time": "2022-11-09T08:32:40.197Z"
   },
   {
    "duration": 6,
    "start_time": "2022-11-09T08:32:40.205Z"
   },
   {
    "duration": 232,
    "start_time": "2022-11-09T08:32:40.213Z"
   },
   {
    "duration": 216,
    "start_time": "2022-11-09T08:32:40.447Z"
   },
   {
    "duration": 4,
    "start_time": "2022-11-09T08:32:40.667Z"
   },
   {
    "duration": 19,
    "start_time": "2022-11-09T08:32:40.674Z"
   },
   {
    "duration": 44,
    "start_time": "2022-11-09T08:32:40.695Z"
   },
   {
    "duration": 22,
    "start_time": "2022-11-09T08:32:40.741Z"
   },
   {
    "duration": 16,
    "start_time": "2022-11-09T08:32:40.764Z"
   },
   {
    "duration": 13,
    "start_time": "2022-11-09T08:32:40.782Z"
   },
   {
    "duration": 4,
    "start_time": "2022-11-09T08:32:40.797Z"
   },
   {
    "duration": 10,
    "start_time": "2022-11-09T08:32:40.803Z"
   },
   {
    "duration": 8,
    "start_time": "2022-11-09T08:32:40.814Z"
   },
   {
    "duration": 8,
    "start_time": "2022-11-09T08:32:40.824Z"
   },
   {
    "duration": 9,
    "start_time": "2022-11-09T08:32:40.833Z"
   },
   {
    "duration": 12,
    "start_time": "2022-11-09T08:32:40.844Z"
   },
   {
    "duration": 6,
    "start_time": "2022-11-09T08:32:40.858Z"
   },
   {
    "duration": 11,
    "start_time": "2022-11-09T08:32:40.866Z"
   },
   {
    "duration": 207,
    "start_time": "2022-11-09T08:32:40.898Z"
   },
   {
    "duration": 201,
    "start_time": "2022-11-09T08:32:41.108Z"
   },
   {
    "duration": 3,
    "start_time": "2022-11-09T08:32:41.311Z"
   },
   {
    "duration": 6,
    "start_time": "2022-11-09T08:32:41.315Z"
   },
   {
    "duration": 3572,
    "start_time": "2022-11-09T08:32:41.322Z"
   },
   {
    "duration": 4,
    "start_time": "2022-11-09T08:32:44.896Z"
   },
   {
    "duration": 8,
    "start_time": "2022-11-09T08:32:44.902Z"
   },
   {
    "duration": 8,
    "start_time": "2022-11-09T08:32:44.912Z"
   },
   {
    "duration": 645,
    "start_time": "2022-11-09T08:32:44.922Z"
   },
   {
    "duration": 3,
    "start_time": "2022-11-09T08:32:45.569Z"
   },
   {
    "duration": 12,
    "start_time": "2022-11-09T08:32:45.573Z"
   },
   {
    "duration": 12,
    "start_time": "2022-11-09T08:32:45.587Z"
   },
   {
    "duration": 1356,
    "start_time": "2022-11-09T08:32:45.601Z"
   },
   {
    "duration": 1390,
    "start_time": "2022-11-09T08:32:46.958Z"
   },
   {
    "duration": 4,
    "start_time": "2022-11-09T08:32:48.350Z"
   },
   {
    "duration": 28,
    "start_time": "2022-11-09T08:32:48.355Z"
   },
   {
    "duration": 17,
    "start_time": "2022-11-09T08:32:48.384Z"
   },
   {
    "duration": 33,
    "start_time": "2022-11-09T08:32:48.402Z"
   },
   {
    "duration": 17,
    "start_time": "2022-11-09T08:32:48.436Z"
   },
   {
    "duration": 21,
    "start_time": "2022-11-09T08:32:48.455Z"
   },
   {
    "duration": 38,
    "start_time": "2022-11-09T08:32:48.477Z"
   },
   {
    "duration": 13,
    "start_time": "2022-11-09T08:32:48.517Z"
   },
   {
    "duration": 28,
    "start_time": "2022-11-09T08:32:48.532Z"
   },
   {
    "duration": 25,
    "start_time": "2022-11-09T08:32:48.561Z"
   },
   {
    "duration": 13,
    "start_time": "2022-11-09T08:32:48.587Z"
   },
   {
    "duration": 20,
    "start_time": "2022-11-09T08:32:48.602Z"
   },
   {
    "duration": 15,
    "start_time": "2022-11-09T08:32:48.624Z"
   },
   {
    "duration": 17,
    "start_time": "2022-11-09T08:32:48.641Z"
   },
   {
    "duration": 6,
    "start_time": "2022-11-09T08:33:20.201Z"
   },
   {
    "duration": 11,
    "start_time": "2022-11-09T08:33:20.214Z"
   },
   {
    "duration": 19,
    "start_time": "2022-11-09T08:33:20.228Z"
   },
   {
    "duration": 691,
    "start_time": "2022-11-09T08:33:20.249Z"
   },
   {
    "duration": 66,
    "start_time": "2022-11-09T08:33:20.941Z"
   },
   {
    "duration": 3,
    "start_time": "2022-11-09T08:33:21.010Z"
   },
   {
    "duration": 13,
    "start_time": "2022-11-09T08:33:21.014Z"
   },
   {
    "duration": 7,
    "start_time": "2022-11-09T08:33:21.028Z"
   },
   {
    "duration": 214,
    "start_time": "2022-11-09T08:33:21.036Z"
   },
   {
    "duration": 337,
    "start_time": "2022-11-09T08:33:21.252Z"
   },
   {
    "duration": 5,
    "start_time": "2022-11-09T08:33:21.596Z"
   },
   {
    "duration": 7,
    "start_time": "2022-11-09T08:33:21.602Z"
   },
   {
    "duration": 26,
    "start_time": "2022-11-09T08:33:21.610Z"
   },
   {
    "duration": 6,
    "start_time": "2022-11-09T08:33:21.640Z"
   },
   {
    "duration": 11,
    "start_time": "2022-11-09T08:33:21.647Z"
   },
   {
    "duration": 14,
    "start_time": "2022-11-09T08:33:21.660Z"
   },
   {
    "duration": 23,
    "start_time": "2022-11-09T08:33:21.676Z"
   },
   {
    "duration": 8,
    "start_time": "2022-11-09T08:33:21.700Z"
   },
   {
    "duration": 7,
    "start_time": "2022-11-09T08:33:21.710Z"
   },
   {
    "duration": 5,
    "start_time": "2022-11-09T08:33:21.719Z"
   },
   {
    "duration": 7,
    "start_time": "2022-11-09T08:33:21.726Z"
   },
   {
    "duration": 11,
    "start_time": "2022-11-09T08:33:21.735Z"
   },
   {
    "duration": 7,
    "start_time": "2022-11-09T08:33:21.747Z"
   },
   {
    "duration": 7,
    "start_time": "2022-11-09T08:33:21.755Z"
   },
   {
    "duration": 206,
    "start_time": "2022-11-09T08:33:21.797Z"
   },
   {
    "duration": 211,
    "start_time": "2022-11-09T08:33:22.006Z"
   },
   {
    "duration": 4,
    "start_time": "2022-11-09T08:33:22.219Z"
   },
   {
    "duration": 10,
    "start_time": "2022-11-09T08:33:22.225Z"
   },
   {
    "duration": 3432,
    "start_time": "2022-11-09T08:33:22.237Z"
   },
   {
    "duration": 5,
    "start_time": "2022-11-09T08:33:25.670Z"
   },
   {
    "duration": 7,
    "start_time": "2022-11-09T08:33:25.676Z"
   },
   {
    "duration": 13,
    "start_time": "2022-11-09T08:33:25.685Z"
   },
   {
    "duration": 674,
    "start_time": "2022-11-09T08:33:25.700Z"
   },
   {
    "duration": 4,
    "start_time": "2022-11-09T08:33:26.376Z"
   },
   {
    "duration": 17,
    "start_time": "2022-11-09T08:33:26.381Z"
   },
   {
    "duration": 4,
    "start_time": "2022-11-09T08:33:26.399Z"
   },
   {
    "duration": 1351,
    "start_time": "2022-11-09T08:33:26.404Z"
   },
   {
    "duration": 1465,
    "start_time": "2022-11-09T08:33:27.760Z"
   },
   {
    "duration": 3,
    "start_time": "2022-11-09T08:33:29.227Z"
   },
   {
    "duration": 29,
    "start_time": "2022-11-09T08:33:29.231Z"
   },
   {
    "duration": 20,
    "start_time": "2022-11-09T08:33:29.262Z"
   },
   {
    "duration": 37,
    "start_time": "2022-11-09T08:33:29.283Z"
   },
   {
    "duration": 18,
    "start_time": "2022-11-09T08:33:29.321Z"
   },
   {
    "duration": 9,
    "start_time": "2022-11-09T08:33:29.341Z"
   },
   {
    "duration": 26,
    "start_time": "2022-11-09T08:33:29.352Z"
   },
   {
    "duration": 8,
    "start_time": "2022-11-09T08:33:29.379Z"
   },
   {
    "duration": 20,
    "start_time": "2022-11-09T08:33:29.389Z"
   },
   {
    "duration": 31,
    "start_time": "2022-11-09T08:33:29.411Z"
   },
   {
    "duration": 25,
    "start_time": "2022-11-09T08:33:29.444Z"
   },
   {
    "duration": 32,
    "start_time": "2022-11-09T08:33:29.470Z"
   },
   {
    "duration": 12,
    "start_time": "2022-11-09T08:33:29.504Z"
   },
   {
    "duration": 35,
    "start_time": "2022-11-09T08:33:29.518Z"
   },
   {
    "duration": 23,
    "start_time": "2022-11-09T08:33:29.554Z"
   },
   {
    "duration": 51,
    "start_time": "2022-11-09T08:33:29.579Z"
   },
   {
    "duration": 9,
    "start_time": "2022-11-09T08:33:29.632Z"
   },
   {
    "duration": 7,
    "start_time": "2022-11-09T08:33:29.642Z"
   },
   {
    "duration": 22,
    "start_time": "2022-11-09T08:33:29.650Z"
   },
   {
    "duration": 20,
    "start_time": "2022-11-09T08:33:29.674Z"
   },
   {
    "duration": 11,
    "start_time": "2022-11-09T08:33:29.696Z"
   },
   {
    "duration": 22,
    "start_time": "2022-11-09T08:33:29.708Z"
   },
   {
    "duration": 27,
    "start_time": "2022-11-09T08:33:29.732Z"
   },
   {
    "duration": 28,
    "start_time": "2022-11-09T08:33:29.761Z"
   },
   {
    "duration": 15,
    "start_time": "2022-11-09T08:33:29.790Z"
   },
   {
    "duration": 31,
    "start_time": "2022-11-09T08:33:29.807Z"
   },
   {
    "duration": 19,
    "start_time": "2022-11-09T08:33:29.839Z"
   },
   {
    "duration": 25,
    "start_time": "2022-11-09T08:33:29.860Z"
   },
   {
    "duration": 5849,
    "start_time": "2022-11-09T08:33:29.887Z"
   },
   {
    "duration": 0,
    "start_time": "2022-11-09T08:33:35.738Z"
   },
   {
    "duration": 0,
    "start_time": "2022-11-09T08:33:35.739Z"
   },
   {
    "duration": 0,
    "start_time": "2022-11-09T08:33:35.740Z"
   },
   {
    "duration": 0,
    "start_time": "2022-11-09T08:33:35.742Z"
   },
   {
    "duration": 0,
    "start_time": "2022-11-09T08:33:35.743Z"
   },
   {
    "duration": 0,
    "start_time": "2022-11-09T08:33:35.744Z"
   },
   {
    "duration": 0,
    "start_time": "2022-11-09T08:33:35.745Z"
   },
   {
    "duration": 0,
    "start_time": "2022-11-09T08:33:35.746Z"
   },
   {
    "duration": 0,
    "start_time": "2022-11-09T08:33:35.747Z"
   },
   {
    "duration": 0,
    "start_time": "2022-11-09T08:33:35.748Z"
   },
   {
    "duration": 6,
    "start_time": "2022-11-09T08:34:32.531Z"
   },
   {
    "duration": 25,
    "start_time": "2022-11-09T08:34:32.539Z"
   },
   {
    "duration": 28,
    "start_time": "2022-11-09T08:34:32.566Z"
   },
   {
    "duration": 634,
    "start_time": "2022-11-09T08:34:32.596Z"
   },
   {
    "duration": 72,
    "start_time": "2022-11-09T08:34:33.232Z"
   },
   {
    "duration": 4,
    "start_time": "2022-11-09T08:34:33.306Z"
   },
   {
    "duration": 7,
    "start_time": "2022-11-09T08:34:33.312Z"
   },
   {
    "duration": 6,
    "start_time": "2022-11-09T08:34:33.321Z"
   },
   {
    "duration": 210,
    "start_time": "2022-11-09T08:34:33.329Z"
   },
   {
    "duration": 206,
    "start_time": "2022-11-09T08:34:33.541Z"
   },
   {
    "duration": 4,
    "start_time": "2022-11-09T08:34:33.751Z"
   },
   {
    "duration": 16,
    "start_time": "2022-11-09T08:34:33.757Z"
   },
   {
    "duration": 38,
    "start_time": "2022-11-09T08:34:33.775Z"
   },
   {
    "duration": 9,
    "start_time": "2022-11-09T08:34:33.815Z"
   },
   {
    "duration": 9,
    "start_time": "2022-11-09T08:34:33.826Z"
   },
   {
    "duration": 16,
    "start_time": "2022-11-09T08:34:33.836Z"
   },
   {
    "duration": 4,
    "start_time": "2022-11-09T08:34:33.853Z"
   },
   {
    "duration": 12,
    "start_time": "2022-11-09T08:34:33.859Z"
   },
   {
    "duration": 25,
    "start_time": "2022-11-09T08:34:33.873Z"
   },
   {
    "duration": 9,
    "start_time": "2022-11-09T08:34:33.900Z"
   },
   {
    "duration": 11,
    "start_time": "2022-11-09T08:34:33.911Z"
   },
   {
    "duration": 13,
    "start_time": "2022-11-09T08:34:33.923Z"
   },
   {
    "duration": 7,
    "start_time": "2022-11-09T08:34:33.937Z"
   },
   {
    "duration": 6,
    "start_time": "2022-11-09T08:34:33.946Z"
   },
   {
    "duration": 251,
    "start_time": "2022-11-09T08:34:33.954Z"
   },
   {
    "duration": 226,
    "start_time": "2022-11-09T08:34:34.207Z"
   },
   {
    "duration": 3,
    "start_time": "2022-11-09T08:34:34.435Z"
   },
   {
    "duration": 8,
    "start_time": "2022-11-09T08:34:34.440Z"
   },
   {
    "duration": 3418,
    "start_time": "2022-11-09T08:34:34.451Z"
   },
   {
    "duration": 4,
    "start_time": "2022-11-09T08:34:37.871Z"
   },
   {
    "duration": 7,
    "start_time": "2022-11-09T08:34:37.877Z"
   },
   {
    "duration": 13,
    "start_time": "2022-11-09T08:34:37.885Z"
   },
   {
    "duration": 578,
    "start_time": "2022-11-09T08:34:37.900Z"
   },
   {
    "duration": 4,
    "start_time": "2022-11-09T08:34:38.479Z"
   },
   {
    "duration": 17,
    "start_time": "2022-11-09T08:34:38.484Z"
   },
   {
    "duration": 34,
    "start_time": "2022-11-09T08:34:38.503Z"
   },
   {
    "duration": 1533,
    "start_time": "2022-11-09T08:34:38.539Z"
   },
   {
    "duration": 1387,
    "start_time": "2022-11-09T08:34:40.074Z"
   },
   {
    "duration": 3,
    "start_time": "2022-11-09T08:34:41.463Z"
   },
   {
    "duration": 18,
    "start_time": "2022-11-09T08:34:41.467Z"
   },
   {
    "duration": 23,
    "start_time": "2022-11-09T08:34:41.486Z"
   },
   {
    "duration": 43,
    "start_time": "2022-11-09T08:34:41.511Z"
   },
   {
    "duration": 12,
    "start_time": "2022-11-09T08:34:41.556Z"
   },
   {
    "duration": 37,
    "start_time": "2022-11-09T08:34:41.569Z"
   },
   {
    "duration": 35,
    "start_time": "2022-11-09T08:34:41.608Z"
   },
   {
    "duration": 23,
    "start_time": "2022-11-09T08:34:41.644Z"
   },
   {
    "duration": 27,
    "start_time": "2022-11-09T08:34:41.668Z"
   },
   {
    "duration": 34,
    "start_time": "2022-11-09T08:34:41.697Z"
   },
   {
    "duration": 34,
    "start_time": "2022-11-09T08:34:41.733Z"
   },
   {
    "duration": 20,
    "start_time": "2022-11-09T08:34:41.768Z"
   },
   {
    "duration": 6,
    "start_time": "2022-11-09T08:34:41.789Z"
   },
   {
    "duration": 8,
    "start_time": "2022-11-09T08:34:41.796Z"
   },
   {
    "duration": 11,
    "start_time": "2022-11-09T08:34:41.806Z"
   },
   {
    "duration": 45,
    "start_time": "2022-11-09T08:34:41.819Z"
   },
   {
    "duration": 4,
    "start_time": "2022-11-09T08:34:41.866Z"
   },
   {
    "duration": 7,
    "start_time": "2022-11-09T08:34:41.872Z"
   },
   {
    "duration": 5,
    "start_time": "2022-11-09T08:34:41.881Z"
   },
   {
    "duration": 14,
    "start_time": "2022-11-09T08:34:41.897Z"
   },
   {
    "duration": 3,
    "start_time": "2022-11-09T08:34:41.912Z"
   },
   {
    "duration": 10,
    "start_time": "2022-11-09T08:34:41.917Z"
   },
   {
    "duration": 9,
    "start_time": "2022-11-09T08:34:41.929Z"
   },
   {
    "duration": 16,
    "start_time": "2022-11-09T08:34:41.940Z"
   },
   {
    "duration": 6,
    "start_time": "2022-11-09T08:34:41.958Z"
   },
   {
    "duration": 38,
    "start_time": "2022-11-09T08:34:41.965Z"
   },
   {
    "duration": 2,
    "start_time": "2022-11-09T08:34:42.006Z"
   },
   {
    "duration": 5548,
    "start_time": "2022-11-09T08:34:52.080Z"
   },
   {
    "duration": 1663,
    "start_time": "2022-11-09T08:35:13.319Z"
   },
   {
    "duration": 11,
    "start_time": "2022-11-09T08:35:14.984Z"
   },
   {
    "duration": 49,
    "start_time": "2022-11-09T08:35:14.997Z"
   },
   {
    "duration": 635,
    "start_time": "2022-11-09T08:35:15.048Z"
   },
   {
    "duration": 64,
    "start_time": "2022-11-09T08:35:15.685Z"
   },
   {
    "duration": 4,
    "start_time": "2022-11-09T08:35:15.751Z"
   },
   {
    "duration": 24,
    "start_time": "2022-11-09T08:35:15.756Z"
   },
   {
    "duration": 12,
    "start_time": "2022-11-09T08:35:15.782Z"
   },
   {
    "duration": 209,
    "start_time": "2022-11-09T08:35:15.797Z"
   },
   {
    "duration": 197,
    "start_time": "2022-11-09T08:35:16.009Z"
   },
   {
    "duration": 4,
    "start_time": "2022-11-09T08:35:16.208Z"
   },
   {
    "duration": 17,
    "start_time": "2022-11-09T08:35:16.214Z"
   },
   {
    "duration": 41,
    "start_time": "2022-11-09T08:35:16.233Z"
   },
   {
    "duration": 22,
    "start_time": "2022-11-09T08:35:16.276Z"
   },
   {
    "duration": 22,
    "start_time": "2022-11-09T08:35:16.300Z"
   },
   {
    "duration": 31,
    "start_time": "2022-11-09T08:35:16.323Z"
   },
   {
    "duration": 25,
    "start_time": "2022-11-09T08:35:16.356Z"
   },
   {
    "duration": 130,
    "start_time": "2022-11-09T08:35:16.382Z"
   },
   {
    "duration": 6,
    "start_time": "2022-11-09T08:35:16.514Z"
   },
   {
    "duration": 6,
    "start_time": "2022-11-09T08:35:16.522Z"
   },
   {
    "duration": 5,
    "start_time": "2022-11-09T08:35:16.530Z"
   },
   {
    "duration": 10,
    "start_time": "2022-11-09T08:35:16.537Z"
   },
   {
    "duration": 6,
    "start_time": "2022-11-09T08:35:16.548Z"
   },
   {
    "duration": 7,
    "start_time": "2022-11-09T08:35:16.556Z"
   },
   {
    "duration": 226,
    "start_time": "2022-11-09T08:35:16.565Z"
   },
   {
    "duration": 212,
    "start_time": "2022-11-09T08:35:16.797Z"
   },
   {
    "duration": 4,
    "start_time": "2022-11-09T08:35:17.011Z"
   },
   {
    "duration": 6,
    "start_time": "2022-11-09T08:35:17.020Z"
   },
   {
    "duration": 3356,
    "start_time": "2022-11-09T08:35:17.028Z"
   },
   {
    "duration": 4,
    "start_time": "2022-11-09T08:35:20.386Z"
   },
   {
    "duration": 8,
    "start_time": "2022-11-09T08:35:20.398Z"
   },
   {
    "duration": 9,
    "start_time": "2022-11-09T08:35:20.408Z"
   },
   {
    "duration": 653,
    "start_time": "2022-11-09T08:35:20.418Z"
   },
   {
    "duration": 3,
    "start_time": "2022-11-09T08:35:21.072Z"
   },
   {
    "duration": 11,
    "start_time": "2022-11-09T08:35:21.077Z"
   },
   {
    "duration": 61,
    "start_time": "2022-11-09T08:35:21.097Z"
   },
   {
    "duration": 1694,
    "start_time": "2022-11-09T08:35:21.160Z"
   },
   {
    "duration": 1541,
    "start_time": "2022-11-09T08:35:22.856Z"
   },
   {
    "duration": 3,
    "start_time": "2022-11-09T08:35:24.399Z"
   },
   {
    "duration": 8,
    "start_time": "2022-11-09T08:35:24.404Z"
   },
   {
    "duration": 6,
    "start_time": "2022-11-09T08:35:24.413Z"
   },
   {
    "duration": 9,
    "start_time": "2022-11-09T08:35:24.420Z"
   },
   {
    "duration": 6,
    "start_time": "2022-11-09T08:35:24.431Z"
   },
   {
    "duration": 6,
    "start_time": "2022-11-09T08:35:24.439Z"
   },
   {
    "duration": 14,
    "start_time": "2022-11-09T08:35:24.447Z"
   },
   {
    "duration": 6,
    "start_time": "2022-11-09T08:35:24.463Z"
   },
   {
    "duration": 7,
    "start_time": "2022-11-09T08:35:24.471Z"
   },
   {
    "duration": 19,
    "start_time": "2022-11-09T08:35:24.480Z"
   },
   {
    "duration": 16,
    "start_time": "2022-11-09T08:35:24.502Z"
   },
   {
    "duration": 9,
    "start_time": "2022-11-09T08:35:24.520Z"
   },
   {
    "duration": 10,
    "start_time": "2022-11-09T08:35:24.530Z"
   },
   {
    "duration": 22,
    "start_time": "2022-11-09T08:35:24.542Z"
   },
   {
    "duration": 5,
    "start_time": "2022-11-09T08:35:24.566Z"
   },
   {
    "duration": 37,
    "start_time": "2022-11-09T08:35:24.573Z"
   },
   {
    "duration": 3,
    "start_time": "2022-11-09T08:35:24.612Z"
   },
   {
    "duration": 8,
    "start_time": "2022-11-09T08:35:24.617Z"
   },
   {
    "duration": 7,
    "start_time": "2022-11-09T08:35:24.627Z"
   },
   {
    "duration": 17,
    "start_time": "2022-11-09T08:35:24.636Z"
   },
   {
    "duration": 3,
    "start_time": "2022-11-09T08:35:24.654Z"
   },
   {
    "duration": 10,
    "start_time": "2022-11-09T08:35:24.659Z"
   },
   {
    "duration": 28,
    "start_time": "2022-11-09T08:35:24.671Z"
   },
   {
    "duration": 17,
    "start_time": "2022-11-09T08:35:24.700Z"
   },
   {
    "duration": 5,
    "start_time": "2022-11-09T08:35:24.719Z"
   },
   {
    "duration": 9,
    "start_time": "2022-11-09T08:35:24.726Z"
   },
   {
    "duration": 3,
    "start_time": "2022-11-09T08:35:24.737Z"
   },
   {
    "duration": 6,
    "start_time": "2022-11-09T08:35:24.742Z"
   },
   {
    "duration": 6462,
    "start_time": "2022-11-09T08:35:24.750Z"
   },
   {
    "duration": 0,
    "start_time": "2022-11-09T08:35:31.213Z"
   },
   {
    "duration": 0,
    "start_time": "2022-11-09T08:35:31.214Z"
   },
   {
    "duration": 0,
    "start_time": "2022-11-09T08:35:31.215Z"
   },
   {
    "duration": 0,
    "start_time": "2022-11-09T08:35:31.217Z"
   },
   {
    "duration": 0,
    "start_time": "2022-11-09T08:35:31.219Z"
   },
   {
    "duration": 0,
    "start_time": "2022-11-09T08:35:31.220Z"
   },
   {
    "duration": 0,
    "start_time": "2022-11-09T08:35:31.221Z"
   },
   {
    "duration": 0,
    "start_time": "2022-11-09T08:35:31.222Z"
   },
   {
    "duration": 0,
    "start_time": "2022-11-09T08:35:31.223Z"
   },
   {
    "duration": 0,
    "start_time": "2022-11-09T08:35:31.224Z"
   },
   {
    "duration": 16,
    "start_time": "2022-11-09T08:44:29.800Z"
   },
   {
    "duration": 12,
    "start_time": "2022-11-09T08:44:29.820Z"
   },
   {
    "duration": 7,
    "start_time": "2022-11-09T08:44:29.834Z"
   },
   {
    "duration": 682,
    "start_time": "2022-11-09T08:44:29.843Z"
   },
   {
    "duration": 79,
    "start_time": "2022-11-09T08:44:30.527Z"
   },
   {
    "duration": 4,
    "start_time": "2022-11-09T08:44:30.609Z"
   },
   {
    "duration": 38,
    "start_time": "2022-11-09T08:44:30.615Z"
   },
   {
    "duration": 15,
    "start_time": "2022-11-09T08:44:30.655Z"
   },
   {
    "duration": 227,
    "start_time": "2022-11-09T08:44:30.672Z"
   },
   {
    "duration": 204,
    "start_time": "2022-11-09T08:44:30.901Z"
   },
   {
    "duration": 5,
    "start_time": "2022-11-09T08:44:31.107Z"
   },
   {
    "duration": 16,
    "start_time": "2022-11-09T08:44:31.113Z"
   },
   {
    "duration": 36,
    "start_time": "2022-11-09T08:44:31.132Z"
   },
   {
    "duration": 9,
    "start_time": "2022-11-09T08:44:31.170Z"
   },
   {
    "duration": 24,
    "start_time": "2022-11-09T08:44:31.181Z"
   },
   {
    "duration": 19,
    "start_time": "2022-11-09T08:44:31.208Z"
   },
   {
    "duration": 4,
    "start_time": "2022-11-09T08:44:31.229Z"
   },
   {
    "duration": 11,
    "start_time": "2022-11-09T08:44:31.236Z"
   },
   {
    "duration": 9,
    "start_time": "2022-11-09T08:44:31.249Z"
   },
   {
    "duration": 8,
    "start_time": "2022-11-09T08:44:31.260Z"
   },
   {
    "duration": 6,
    "start_time": "2022-11-09T08:44:31.270Z"
   },
   {
    "duration": 21,
    "start_time": "2022-11-09T08:44:31.277Z"
   },
   {
    "duration": 7,
    "start_time": "2022-11-09T08:44:31.300Z"
   },
   {
    "duration": 10,
    "start_time": "2022-11-09T08:44:31.308Z"
   },
   {
    "duration": 209,
    "start_time": "2022-11-09T08:44:31.320Z"
   },
   {
    "duration": 206,
    "start_time": "2022-11-09T08:44:31.531Z"
   },
   {
    "duration": 3,
    "start_time": "2022-11-09T08:44:31.739Z"
   },
   {
    "duration": 13,
    "start_time": "2022-11-09T08:44:31.744Z"
   },
   {
    "duration": 3518,
    "start_time": "2022-11-09T08:44:31.759Z"
   },
   {
    "duration": 5,
    "start_time": "2022-11-09T08:44:35.279Z"
   },
   {
    "duration": 15,
    "start_time": "2022-11-09T08:44:35.286Z"
   },
   {
    "duration": 7,
    "start_time": "2022-11-09T08:44:35.303Z"
   },
   {
    "duration": 649,
    "start_time": "2022-11-09T08:44:35.312Z"
   },
   {
    "duration": 3,
    "start_time": "2022-11-09T08:44:35.965Z"
   },
   {
    "duration": 11,
    "start_time": "2022-11-09T08:44:35.970Z"
   },
   {
    "duration": 15,
    "start_time": "2022-11-09T08:44:35.982Z"
   },
   {
    "duration": 1478,
    "start_time": "2022-11-09T08:44:35.999Z"
   },
   {
    "duration": 1367,
    "start_time": "2022-11-09T08:44:37.479Z"
   },
   {
    "duration": 4,
    "start_time": "2022-11-09T08:44:38.848Z"
   },
   {
    "duration": 11,
    "start_time": "2022-11-09T08:44:38.853Z"
   },
   {
    "duration": 6,
    "start_time": "2022-11-09T08:44:38.866Z"
   },
   {
    "duration": 8,
    "start_time": "2022-11-09T08:44:38.874Z"
   },
   {
    "duration": 15,
    "start_time": "2022-11-09T08:44:38.883Z"
   },
   {
    "duration": 8,
    "start_time": "2022-11-09T08:44:38.900Z"
   },
   {
    "duration": 8,
    "start_time": "2022-11-09T08:44:38.910Z"
   },
   {
    "duration": 6,
    "start_time": "2022-11-09T08:44:38.920Z"
   },
   {
    "duration": 5,
    "start_time": "2022-11-09T08:44:38.927Z"
   },
   {
    "duration": 9,
    "start_time": "2022-11-09T08:44:38.934Z"
   },
   {
    "duration": 7,
    "start_time": "2022-11-09T08:44:38.944Z"
   },
   {
    "duration": 4,
    "start_time": "2022-11-09T08:44:38.953Z"
   },
   {
    "duration": 5,
    "start_time": "2022-11-09T08:44:38.958Z"
   },
   {
    "duration": 7,
    "start_time": "2022-11-09T08:44:38.965Z"
   },
   {
    "duration": 25,
    "start_time": "2022-11-09T08:44:38.973Z"
   },
   {
    "duration": 32,
    "start_time": "2022-11-09T08:44:39.000Z"
   },
   {
    "duration": 4,
    "start_time": "2022-11-09T08:44:39.033Z"
   },
   {
    "duration": 8,
    "start_time": "2022-11-09T08:44:39.039Z"
   },
   {
    "duration": 12,
    "start_time": "2022-11-09T08:44:39.048Z"
   },
   {
    "duration": 16,
    "start_time": "2022-11-09T08:44:39.062Z"
   },
   {
    "duration": 4,
    "start_time": "2022-11-09T08:44:39.096Z"
   },
   {
    "duration": 14,
    "start_time": "2022-11-09T08:44:39.101Z"
   },
   {
    "duration": 5,
    "start_time": "2022-11-09T08:44:46.182Z"
   },
   {
    "duration": 7,
    "start_time": "2022-11-09T08:44:50.628Z"
   },
   {
    "duration": 9,
    "start_time": "2022-11-09T08:44:55.764Z"
   },
   {
    "duration": 2,
    "start_time": "2022-11-09T08:45:03.748Z"
   },
   {
    "duration": 3,
    "start_time": "2022-11-09T08:45:10.292Z"
   },
   {
    "duration": 448450,
    "start_time": "2022-11-09T08:45:13.551Z"
   },
   {
    "duration": 5,
    "start_time": "2022-11-09T09:00:24.922Z"
   },
   {
    "duration": 3,
    "start_time": "2022-11-09T09:00:28.768Z"
   },
   {
    "duration": 1510,
    "start_time": "2022-11-09T09:01:16.315Z"
   },
   {
    "duration": 12,
    "start_time": "2022-11-09T09:01:17.828Z"
   },
   {
    "duration": 9,
    "start_time": "2022-11-09T09:01:17.842Z"
   },
   {
    "duration": 672,
    "start_time": "2022-11-09T09:01:17.853Z"
   },
   {
    "duration": 78,
    "start_time": "2022-11-09T09:01:18.527Z"
   },
   {
    "duration": 3,
    "start_time": "2022-11-09T09:01:18.607Z"
   },
   {
    "duration": 11,
    "start_time": "2022-11-09T09:01:18.612Z"
   },
   {
    "duration": 3,
    "start_time": "2022-11-09T09:01:18.625Z"
   },
   {
    "duration": 223,
    "start_time": "2022-11-09T09:01:18.629Z"
   },
   {
    "duration": 206,
    "start_time": "2022-11-09T09:01:18.855Z"
   },
   {
    "duration": 4,
    "start_time": "2022-11-09T09:01:19.063Z"
   },
   {
    "duration": 6,
    "start_time": "2022-11-09T09:01:19.069Z"
   },
   {
    "duration": 40,
    "start_time": "2022-11-09T09:01:19.076Z"
   },
   {
    "duration": 8,
    "start_time": "2022-11-09T09:01:19.117Z"
   },
   {
    "duration": 14,
    "start_time": "2022-11-09T09:01:19.126Z"
   },
   {
    "duration": 17,
    "start_time": "2022-11-09T09:01:19.141Z"
   },
   {
    "duration": 4,
    "start_time": "2022-11-09T09:01:19.159Z"
   },
   {
    "duration": 92,
    "start_time": "2022-11-09T09:01:19.164Z"
   },
   {
    "duration": 10,
    "start_time": "2022-11-09T09:01:19.258Z"
   },
   {
    "duration": 6,
    "start_time": "2022-11-09T09:01:19.269Z"
   },
   {
    "duration": 22,
    "start_time": "2022-11-09T09:01:19.277Z"
   },
   {
    "duration": 7,
    "start_time": "2022-11-09T09:01:19.301Z"
   },
   {
    "duration": 6,
    "start_time": "2022-11-09T09:01:19.310Z"
   },
   {
    "duration": 9,
    "start_time": "2022-11-09T09:01:19.317Z"
   },
   {
    "duration": 218,
    "start_time": "2022-11-09T09:01:19.328Z"
   },
   {
    "duration": 214,
    "start_time": "2022-11-09T09:01:19.548Z"
   },
   {
    "duration": 3,
    "start_time": "2022-11-09T09:01:19.764Z"
   },
   {
    "duration": 12,
    "start_time": "2022-11-09T09:01:19.771Z"
   },
   {
    "duration": 3592,
    "start_time": "2022-11-09T09:01:19.785Z"
   },
   {
    "duration": 4,
    "start_time": "2022-11-09T09:01:23.380Z"
   },
   {
    "duration": 16,
    "start_time": "2022-11-09T09:01:23.386Z"
   },
   {
    "duration": 7,
    "start_time": "2022-11-09T09:01:23.404Z"
   },
   {
    "duration": 676,
    "start_time": "2022-11-09T09:01:23.412Z"
   },
   {
    "duration": 9,
    "start_time": "2022-11-09T09:01:24.090Z"
   },
   {
    "duration": 15,
    "start_time": "2022-11-09T09:01:24.101Z"
   },
   {
    "duration": 9,
    "start_time": "2022-11-09T09:01:24.118Z"
   },
   {
    "duration": 1430,
    "start_time": "2022-11-09T09:01:24.128Z"
   },
   {
    "duration": 1481,
    "start_time": "2022-11-09T09:01:25.560Z"
   },
   {
    "duration": 4,
    "start_time": "2022-11-09T09:01:27.043Z"
   },
   {
    "duration": 13,
    "start_time": "2022-11-09T09:01:27.048Z"
   },
   {
    "duration": 7,
    "start_time": "2022-11-09T09:01:27.063Z"
   },
   {
    "duration": 9,
    "start_time": "2022-11-09T09:01:27.072Z"
   },
   {
    "duration": 9,
    "start_time": "2022-11-09T09:01:27.083Z"
   },
   {
    "duration": 5,
    "start_time": "2022-11-09T09:01:27.098Z"
   },
   {
    "duration": 7,
    "start_time": "2022-11-09T09:01:27.104Z"
   },
   {
    "duration": 5,
    "start_time": "2022-11-09T09:01:27.113Z"
   },
   {
    "duration": 6,
    "start_time": "2022-11-09T09:01:27.119Z"
   },
   {
    "duration": 12,
    "start_time": "2022-11-09T09:01:27.127Z"
   },
   {
    "duration": 8,
    "start_time": "2022-11-09T09:01:27.141Z"
   },
   {
    "duration": 6,
    "start_time": "2022-11-09T09:01:27.151Z"
   },
   {
    "duration": 5,
    "start_time": "2022-11-09T09:01:27.159Z"
   },
   {
    "duration": 7,
    "start_time": "2022-11-09T09:01:27.166Z"
   },
   {
    "duration": 24,
    "start_time": "2022-11-09T09:01:27.175Z"
   },
   {
    "duration": 41,
    "start_time": "2022-11-09T09:01:27.201Z"
   },
   {
    "duration": 4,
    "start_time": "2022-11-09T09:01:27.244Z"
   },
   {
    "duration": 6,
    "start_time": "2022-11-09T09:01:27.250Z"
   },
   {
    "duration": 7,
    "start_time": "2022-11-09T09:01:27.257Z"
   },
   {
    "duration": 39,
    "start_time": "2022-11-09T09:01:27.265Z"
   },
   {
    "duration": 2,
    "start_time": "2022-11-09T09:01:27.306Z"
   },
   {
    "duration": 19,
    "start_time": "2022-11-09T09:01:27.310Z"
   },
   {
    "duration": 10,
    "start_time": "2022-11-09T09:01:27.331Z"
   },
   {
    "duration": 20,
    "start_time": "2022-11-09T09:01:27.343Z"
   },
   {
    "duration": 6,
    "start_time": "2022-11-09T09:01:27.365Z"
   },
   {
    "duration": 30,
    "start_time": "2022-11-09T09:01:27.373Z"
   },
   {
    "duration": 4,
    "start_time": "2022-11-09T09:01:27.405Z"
   },
   {
    "duration": 9,
    "start_time": "2022-11-09T09:01:27.411Z"
   },
   {
    "duration": 453077,
    "start_time": "2022-11-09T09:01:27.422Z"
   },
   {
    "duration": 6,
    "start_time": "2022-11-09T09:09:00.500Z"
   },
   {
    "duration": 22,
    "start_time": "2022-11-09T09:09:00.507Z"
   },
   {
    "duration": 456167,
    "start_time": "2022-11-09T09:09:00.531Z"
   },
   {
    "duration": 4,
    "start_time": "2022-11-09T09:16:36.700Z"
   },
   {
    "duration": 198,
    "start_time": "2022-11-09T09:16:36.705Z"
   },
   {
    "duration": 397,
    "start_time": "2022-11-09T09:16:36.905Z"
   },
   {
    "duration": 4,
    "start_time": "2022-11-09T09:16:37.303Z"
   },
   {
    "duration": 295,
    "start_time": "2022-11-09T09:16:37.308Z"
   },
   {
    "duration": 93,
    "start_time": "2022-11-09T09:16:37.606Z"
   },
   {
    "duration": 16,
    "start_time": "2022-11-09T09:16:37.701Z"
   },
   {
    "duration": 77,
    "start_time": "2022-11-09T09:25:09.620Z"
   },
   {
    "duration": 72,
    "start_time": "2022-11-09T09:26:25.879Z"
   },
   {
    "duration": 1546,
    "start_time": "2022-11-09T09:47:48.246Z"
   },
   {
    "duration": 16,
    "start_time": "2022-11-09T09:47:49.795Z"
   },
   {
    "duration": 10,
    "start_time": "2022-11-09T09:47:49.813Z"
   },
   {
    "duration": 722,
    "start_time": "2022-11-09T09:47:49.826Z"
   },
   {
    "duration": 72,
    "start_time": "2022-11-09T09:47:50.550Z"
   },
   {
    "duration": 3,
    "start_time": "2022-11-09T09:47:50.624Z"
   },
   {
    "duration": 9,
    "start_time": "2022-11-09T09:47:50.629Z"
   },
   {
    "duration": 3,
    "start_time": "2022-11-09T09:47:50.640Z"
   },
   {
    "duration": 230,
    "start_time": "2022-11-09T09:47:50.646Z"
   },
   {
    "duration": 222,
    "start_time": "2022-11-09T09:47:50.879Z"
   },
   {
    "duration": 5,
    "start_time": "2022-11-09T09:47:51.103Z"
   },
   {
    "duration": 14,
    "start_time": "2022-11-09T09:47:51.109Z"
   },
   {
    "duration": 34,
    "start_time": "2022-11-09T09:47:51.125Z"
   },
   {
    "duration": 12,
    "start_time": "2022-11-09T09:47:51.162Z"
   },
   {
    "duration": 9,
    "start_time": "2022-11-09T09:47:51.176Z"
   },
   {
    "duration": 18,
    "start_time": "2022-11-09T09:47:51.186Z"
   },
   {
    "duration": 5,
    "start_time": "2022-11-09T09:47:51.206Z"
   },
   {
    "duration": 105,
    "start_time": "2022-11-09T09:47:51.212Z"
   },
   {
    "duration": 19,
    "start_time": "2022-11-09T09:47:51.319Z"
   },
   {
    "duration": 19,
    "start_time": "2022-11-09T09:47:51.340Z"
   },
   {
    "duration": 11,
    "start_time": "2022-11-09T09:47:51.361Z"
   },
   {
    "duration": 13,
    "start_time": "2022-11-09T09:47:51.373Z"
   },
   {
    "duration": 6,
    "start_time": "2022-11-09T09:47:51.388Z"
   },
   {
    "duration": 6,
    "start_time": "2022-11-09T09:47:51.397Z"
   },
   {
    "duration": 217,
    "start_time": "2022-11-09T09:47:51.404Z"
   },
   {
    "duration": 224,
    "start_time": "2022-11-09T09:47:51.623Z"
   },
   {
    "duration": 3,
    "start_time": "2022-11-09T09:47:51.849Z"
   },
   {
    "duration": 8,
    "start_time": "2022-11-09T09:47:51.856Z"
   },
   {
    "duration": 3511,
    "start_time": "2022-11-09T09:47:51.866Z"
   },
   {
    "duration": 6,
    "start_time": "2022-11-09T09:47:55.379Z"
   },
   {
    "duration": 7,
    "start_time": "2022-11-09T09:47:55.398Z"
   },
   {
    "duration": 18,
    "start_time": "2022-11-09T09:47:55.407Z"
   },
   {
    "duration": 664,
    "start_time": "2022-11-09T09:47:55.427Z"
   },
   {
    "duration": 5,
    "start_time": "2022-11-09T09:47:56.093Z"
   },
   {
    "duration": 7,
    "start_time": "2022-11-09T09:47:56.100Z"
   },
   {
    "duration": 9,
    "start_time": "2022-11-09T09:47:56.108Z"
   },
   {
    "duration": 1361,
    "start_time": "2022-11-09T09:47:56.119Z"
   },
   {
    "duration": 1639,
    "start_time": "2022-11-09T09:47:57.482Z"
   },
   {
    "duration": 4,
    "start_time": "2022-11-09T09:47:59.123Z"
   },
   {
    "duration": 6,
    "start_time": "2022-11-09T09:47:59.129Z"
   },
   {
    "duration": 6,
    "start_time": "2022-11-09T09:47:59.137Z"
   },
   {
    "duration": 8,
    "start_time": "2022-11-09T09:47:59.145Z"
   },
   {
    "duration": 7,
    "start_time": "2022-11-09T09:47:59.155Z"
   },
   {
    "duration": 7,
    "start_time": "2022-11-09T09:47:59.164Z"
   },
   {
    "duration": 25,
    "start_time": "2022-11-09T09:47:59.173Z"
   },
   {
    "duration": 9,
    "start_time": "2022-11-09T09:47:59.200Z"
   },
   {
    "duration": 12,
    "start_time": "2022-11-09T09:47:59.211Z"
   },
   {
    "duration": 9,
    "start_time": "2022-11-09T09:47:59.226Z"
   },
   {
    "duration": 7,
    "start_time": "2022-11-09T09:47:59.237Z"
   },
   {
    "duration": 7,
    "start_time": "2022-11-09T09:47:59.246Z"
   },
   {
    "duration": 6,
    "start_time": "2022-11-09T09:47:59.254Z"
   },
   {
    "duration": 36,
    "start_time": "2022-11-09T09:47:59.262Z"
   },
   {
    "duration": 3,
    "start_time": "2022-11-09T09:47:59.300Z"
   },
   {
    "duration": 105,
    "start_time": "2022-11-09T09:47:59.305Z"
   },
   {
    "duration": 5,
    "start_time": "2022-11-09T09:47:59.413Z"
   },
   {
    "duration": 11,
    "start_time": "2022-11-09T09:47:59.420Z"
   },
   {
    "duration": 8,
    "start_time": "2022-11-09T09:47:59.433Z"
   },
   {
    "duration": 58,
    "start_time": "2022-11-09T09:47:59.442Z"
   },
   {
    "duration": 3,
    "start_time": "2022-11-09T09:47:59.502Z"
   },
   {
    "duration": 17,
    "start_time": "2022-11-09T09:47:59.507Z"
   },
   {
    "duration": 9,
    "start_time": "2022-11-09T09:47:59.526Z"
   },
   {
    "duration": 18,
    "start_time": "2022-11-09T09:47:59.537Z"
   },
   {
    "duration": 6,
    "start_time": "2022-11-09T09:47:59.556Z"
   },
   {
    "duration": 38,
    "start_time": "2022-11-09T09:47:59.564Z"
   },
   {
    "duration": 3,
    "start_time": "2022-11-09T09:47:59.604Z"
   },
   {
    "duration": 6,
    "start_time": "2022-11-09T09:47:59.609Z"
   },
   {
    "duration": 457589,
    "start_time": "2022-11-09T09:47:59.616Z"
   },
   {
    "duration": 4,
    "start_time": "2022-11-09T09:55:37.207Z"
   },
   {
    "duration": 10,
    "start_time": "2022-11-09T09:55:37.212Z"
   },
   {
    "duration": 472375,
    "start_time": "2022-11-09T09:55:37.224Z"
   },
   {
    "duration": 4,
    "start_time": "2022-11-09T10:03:29.600Z"
   },
   {
    "duration": 97,
    "start_time": "2022-11-09T10:03:29.606Z"
   },
   {
    "duration": 396,
    "start_time": "2022-11-09T10:03:29.705Z"
   },
   {
    "duration": 8,
    "start_time": "2022-11-09T10:03:30.105Z"
   },
   {
    "duration": 107,
    "start_time": "2022-11-09T10:03:30.198Z"
   },
   {
    "duration": 92,
    "start_time": "2022-11-09T10:03:30.307Z"
   },
   {
    "duration": 116,
    "start_time": "2022-11-09T10:03:30.401Z"
   },
   {
    "duration": 3120,
    "start_time": "2022-11-10T05:30:52.978Z"
   },
   {
    "duration": 11,
    "start_time": "2022-11-10T05:30:56.100Z"
   },
   {
    "duration": 10,
    "start_time": "2022-11-10T05:30:56.112Z"
   },
   {
    "duration": 694,
    "start_time": "2022-11-10T05:30:56.124Z"
   },
   {
    "duration": 63,
    "start_time": "2022-11-10T05:30:56.819Z"
   },
   {
    "duration": 3,
    "start_time": "2022-11-10T05:30:56.884Z"
   },
   {
    "duration": 8,
    "start_time": "2022-11-10T05:30:56.889Z"
   },
   {
    "duration": 3,
    "start_time": "2022-11-10T05:30:56.898Z"
   },
   {
    "duration": 203,
    "start_time": "2022-11-10T05:30:56.903Z"
   },
   {
    "duration": 182,
    "start_time": "2022-11-10T05:30:57.109Z"
   },
   {
    "duration": 5,
    "start_time": "2022-11-10T05:30:57.292Z"
   },
   {
    "duration": 7,
    "start_time": "2022-11-10T05:30:57.298Z"
   },
   {
    "duration": 24,
    "start_time": "2022-11-10T05:30:57.306Z"
   },
   {
    "duration": 16,
    "start_time": "2022-11-10T05:30:57.332Z"
   },
   {
    "duration": 7,
    "start_time": "2022-11-10T05:30:57.349Z"
   },
   {
    "duration": 29,
    "start_time": "2022-11-10T05:30:57.357Z"
   },
   {
    "duration": 3,
    "start_time": "2022-11-10T05:30:57.388Z"
   },
   {
    "duration": 87,
    "start_time": "2022-11-10T05:30:57.392Z"
   },
   {
    "duration": 5,
    "start_time": "2022-11-10T05:30:57.481Z"
   },
   {
    "duration": 7,
    "start_time": "2022-11-10T05:30:57.487Z"
   },
   {
    "duration": 7,
    "start_time": "2022-11-10T05:30:57.496Z"
   },
   {
    "duration": 8,
    "start_time": "2022-11-10T05:30:57.505Z"
   },
   {
    "duration": 4,
    "start_time": "2022-11-10T05:30:57.515Z"
   },
   {
    "duration": 7,
    "start_time": "2022-11-10T05:30:57.521Z"
   },
   {
    "duration": 221,
    "start_time": "2022-11-10T05:30:57.530Z"
   },
   {
    "duration": 220,
    "start_time": "2022-11-10T05:30:57.752Z"
   },
   {
    "duration": 3,
    "start_time": "2022-11-10T05:30:57.977Z"
   },
   {
    "duration": 6,
    "start_time": "2022-11-10T05:30:57.983Z"
   },
   {
    "duration": 3656,
    "start_time": "2022-11-10T05:30:57.990Z"
   },
   {
    "duration": 5,
    "start_time": "2022-11-10T05:31:01.648Z"
   },
   {
    "duration": 14,
    "start_time": "2022-11-10T05:31:01.655Z"
   },
   {
    "duration": 11,
    "start_time": "2022-11-10T05:31:01.670Z"
   },
   {
    "duration": 656,
    "start_time": "2022-11-10T05:31:01.683Z"
   },
   {
    "duration": 4,
    "start_time": "2022-11-10T05:31:02.341Z"
   },
   {
    "duration": 8,
    "start_time": "2022-11-10T05:31:02.347Z"
   },
   {
    "duration": 21,
    "start_time": "2022-11-10T05:31:02.357Z"
   },
   {
    "duration": 1344,
    "start_time": "2022-11-10T05:31:02.380Z"
   },
   {
    "duration": 1475,
    "start_time": "2022-11-10T05:31:03.726Z"
   },
   {
    "duration": 5,
    "start_time": "2022-11-10T05:31:05.202Z"
   },
   {
    "duration": 7,
    "start_time": "2022-11-10T05:31:05.209Z"
   },
   {
    "duration": 7,
    "start_time": "2022-11-10T05:31:05.217Z"
   },
   {
    "duration": 8,
    "start_time": "2022-11-10T05:31:05.226Z"
   },
   {
    "duration": 7,
    "start_time": "2022-11-10T05:31:05.235Z"
   },
   {
    "duration": 9,
    "start_time": "2022-11-10T05:31:05.244Z"
   },
   {
    "duration": 23,
    "start_time": "2022-11-10T05:31:05.255Z"
   },
   {
    "duration": 7,
    "start_time": "2022-11-10T05:31:05.280Z"
   },
   {
    "duration": 5,
    "start_time": "2022-11-10T05:31:05.289Z"
   },
   {
    "duration": 6,
    "start_time": "2022-11-10T05:31:05.296Z"
   },
   {
    "duration": 8,
    "start_time": "2022-11-10T05:31:05.303Z"
   },
   {
    "duration": 3,
    "start_time": "2022-11-10T05:31:05.313Z"
   },
   {
    "duration": 4,
    "start_time": "2022-11-10T05:31:05.318Z"
   },
   {
    "duration": 6,
    "start_time": "2022-11-10T05:31:05.324Z"
   },
   {
    "duration": 8,
    "start_time": "2022-11-10T05:31:05.332Z"
   },
   {
    "duration": 11,
    "start_time": "2022-11-10T05:31:05.341Z"
   },
   {
    "duration": 26,
    "start_time": "2022-11-10T05:31:05.353Z"
   },
   {
    "duration": 4,
    "start_time": "2022-11-10T05:31:05.381Z"
   },
   {
    "duration": 19,
    "start_time": "2022-11-10T05:31:05.387Z"
   },
   {
    "duration": 3,
    "start_time": "2022-11-10T05:31:05.408Z"
   },
   {
    "duration": 15,
    "start_time": "2022-11-10T05:31:05.413Z"
   },
   {
    "duration": 7,
    "start_time": "2022-11-10T05:31:05.430Z"
   },
   {
    "duration": 46,
    "start_time": "2022-11-10T05:31:05.439Z"
   },
   {
    "duration": 14,
    "start_time": "2022-11-10T05:31:47.310Z"
   },
   {
    "duration": 1526,
    "start_time": "2022-11-10T15:48:48.051Z"
   },
   {
    "duration": 10,
    "start_time": "2022-11-10T15:48:49.579Z"
   },
   {
    "duration": 7,
    "start_time": "2022-11-10T15:48:49.590Z"
   },
   {
    "duration": 1848,
    "start_time": "2022-11-10T15:48:49.599Z"
   },
   {
    "duration": 55,
    "start_time": "2022-11-10T15:48:51.450Z"
   },
   {
    "duration": 3,
    "start_time": "2022-11-10T15:48:51.506Z"
   },
   {
    "duration": 7,
    "start_time": "2022-11-10T15:48:51.511Z"
   },
   {
    "duration": 4,
    "start_time": "2022-11-10T15:48:51.519Z"
   },
   {
    "duration": 182,
    "start_time": "2022-11-10T15:48:51.524Z"
   },
   {
    "duration": 177,
    "start_time": "2022-11-10T15:48:51.713Z"
   },
   {
    "duration": 5,
    "start_time": "2022-11-10T15:48:51.891Z"
   },
   {
    "duration": 17,
    "start_time": "2022-11-10T15:48:51.897Z"
   },
   {
    "duration": 21,
    "start_time": "2022-11-10T15:48:51.915Z"
   },
   {
    "duration": 8,
    "start_time": "2022-11-10T15:48:51.937Z"
   },
   {
    "duration": 7,
    "start_time": "2022-11-10T15:48:51.947Z"
   },
   {
    "duration": 12,
    "start_time": "2022-11-10T15:48:51.955Z"
   },
   {
    "duration": 3,
    "start_time": "2022-11-10T15:48:51.968Z"
   },
   {
    "duration": 92,
    "start_time": "2022-11-10T15:48:51.973Z"
   },
   {
    "duration": 8,
    "start_time": "2022-11-10T15:48:52.066Z"
   },
   {
    "duration": 7,
    "start_time": "2022-11-10T15:48:52.075Z"
   },
   {
    "duration": 7,
    "start_time": "2022-11-10T15:48:52.083Z"
   },
   {
    "duration": 22,
    "start_time": "2022-11-10T15:48:52.091Z"
   },
   {
    "duration": 5,
    "start_time": "2022-11-10T15:48:52.115Z"
   },
   {
    "duration": 5,
    "start_time": "2022-11-10T15:48:52.121Z"
   },
   {
    "duration": 197,
    "start_time": "2022-11-10T15:48:52.127Z"
   },
   {
    "duration": 204,
    "start_time": "2022-11-10T15:48:52.325Z"
   },
   {
    "duration": 4,
    "start_time": "2022-11-10T15:48:52.530Z"
   },
   {
    "duration": 6,
    "start_time": "2022-11-10T15:48:52.537Z"
   },
   {
    "duration": 3321,
    "start_time": "2022-11-10T15:48:52.544Z"
   },
   {
    "duration": 3,
    "start_time": "2022-11-10T15:48:55.867Z"
   },
   {
    "duration": 6,
    "start_time": "2022-11-10T15:48:55.872Z"
   },
   {
    "duration": 6,
    "start_time": "2022-11-10T15:48:55.879Z"
   },
   {
    "duration": 569,
    "start_time": "2022-11-10T15:48:55.887Z"
   },
   {
    "duration": 3,
    "start_time": "2022-11-10T15:48:56.458Z"
   },
   {
    "duration": 6,
    "start_time": "2022-11-10T15:48:56.462Z"
   },
   {
    "duration": 5,
    "start_time": "2022-11-10T15:48:56.469Z"
   },
   {
    "duration": 1270,
    "start_time": "2022-11-10T15:48:56.475Z"
   },
   {
    "duration": 1387,
    "start_time": "2022-11-10T15:48:57.747Z"
   },
   {
    "duration": 3,
    "start_time": "2022-11-10T15:48:59.136Z"
   },
   {
    "duration": 7,
    "start_time": "2022-11-10T15:48:59.140Z"
   },
   {
    "duration": 4,
    "start_time": "2022-11-10T15:48:59.149Z"
   },
   {
    "duration": 9,
    "start_time": "2022-11-10T15:48:59.154Z"
   },
   {
    "duration": 5,
    "start_time": "2022-11-10T15:48:59.164Z"
   },
   {
    "duration": 10,
    "start_time": "2022-11-10T15:48:59.170Z"
   },
   {
    "duration": 6,
    "start_time": "2022-11-10T15:48:59.182Z"
   },
   {
    "duration": 6,
    "start_time": "2022-11-10T15:48:59.190Z"
   },
   {
    "duration": 15,
    "start_time": "2022-11-10T15:48:59.198Z"
   },
   {
    "duration": 5,
    "start_time": "2022-11-10T15:48:59.214Z"
   },
   {
    "duration": 6,
    "start_time": "2022-11-10T15:48:59.220Z"
   },
   {
    "duration": 5,
    "start_time": "2022-11-10T15:48:59.227Z"
   },
   {
    "duration": 5,
    "start_time": "2022-11-10T15:48:59.234Z"
   },
   {
    "duration": 5,
    "start_time": "2022-11-10T15:48:59.241Z"
   },
   {
    "duration": 4,
    "start_time": "2022-11-10T15:48:59.248Z"
   },
   {
    "duration": 5,
    "start_time": "2022-11-10T15:48:59.254Z"
   },
   {
    "duration": 6,
    "start_time": "2022-11-10T15:48:59.260Z"
   },
   {
    "duration": 5,
    "start_time": "2022-11-10T15:48:59.268Z"
   },
   {
    "duration": 16,
    "start_time": "2022-11-10T15:48:59.274Z"
   },
   {
    "duration": 22,
    "start_time": "2022-11-10T15:48:59.291Z"
   },
   {
    "duration": 20,
    "start_time": "2022-11-10T15:50:34.481Z"
   },
   {
    "duration": 5,
    "start_time": "2022-11-10T15:50:41.932Z"
   },
   {
    "duration": 13,
    "start_time": "2022-11-10T15:51:11.815Z"
   },
   {
    "duration": 5,
    "start_time": "2022-11-10T15:51:53.025Z"
   },
   {
    "duration": 7,
    "start_time": "2022-11-10T15:51:56.977Z"
   },
   {
    "duration": 3,
    "start_time": "2022-11-10T15:52:05.199Z"
   },
   {
    "duration": 3,
    "start_time": "2022-11-10T15:52:09.854Z"
   },
   {
    "duration": 399765,
    "start_time": "2022-11-10T15:52:16.055Z"
   },
   {
    "duration": 4,
    "start_time": "2022-11-10T15:59:04.619Z"
   },
   {
    "duration": 3,
    "start_time": "2022-11-10T15:59:15.163Z"
   },
   {
    "duration": 111,
    "start_time": "2022-11-10T15:59:47.045Z"
   },
   {
    "duration": 5,
    "start_time": "2022-11-10T16:02:28.729Z"
   },
   {
    "duration": 10,
    "start_time": "2022-11-10T16:02:28.763Z"
   },
   {
    "duration": 8,
    "start_time": "2022-11-10T16:02:28.775Z"
   },
   {
    "duration": 608,
    "start_time": "2022-11-10T16:02:28.784Z"
   },
   {
    "duration": 57,
    "start_time": "2022-11-10T16:02:29.394Z"
   },
   {
    "duration": 3,
    "start_time": "2022-11-10T16:02:29.453Z"
   },
   {
    "duration": 7,
    "start_time": "2022-11-10T16:02:29.458Z"
   },
   {
    "duration": 4,
    "start_time": "2022-11-10T16:02:29.467Z"
   },
   {
    "duration": 205,
    "start_time": "2022-11-10T16:02:29.472Z"
   },
   {
    "duration": 182,
    "start_time": "2022-11-10T16:02:29.679Z"
   },
   {
    "duration": 5,
    "start_time": "2022-11-10T16:02:29.862Z"
   },
   {
    "duration": 5,
    "start_time": "2022-11-10T16:02:29.869Z"
   },
   {
    "duration": 22,
    "start_time": "2022-11-10T16:02:29.876Z"
   },
   {
    "duration": 18,
    "start_time": "2022-11-10T16:02:29.899Z"
   },
   {
    "duration": 7,
    "start_time": "2022-11-10T16:02:29.919Z"
   },
   {
    "duration": 15,
    "start_time": "2022-11-10T16:02:29.927Z"
   },
   {
    "duration": 3,
    "start_time": "2022-11-10T16:02:29.943Z"
   },
   {
    "duration": 8,
    "start_time": "2022-11-10T16:02:29.947Z"
   },
   {
    "duration": 5,
    "start_time": "2022-11-10T16:02:29.956Z"
   },
   {
    "duration": 19,
    "start_time": "2022-11-10T16:02:29.962Z"
   },
   {
    "duration": 31,
    "start_time": "2022-11-10T16:02:29.983Z"
   },
   {
    "duration": 6,
    "start_time": "2022-11-10T16:02:30.016Z"
   },
   {
    "duration": 20,
    "start_time": "2022-11-10T16:02:30.024Z"
   },
   {
    "duration": 6,
    "start_time": "2022-11-10T16:02:30.046Z"
   },
   {
    "duration": 172,
    "start_time": "2022-11-10T16:02:30.053Z"
   },
   {
    "duration": 221,
    "start_time": "2022-11-10T16:02:30.226Z"
   },
   {
    "duration": 4,
    "start_time": "2022-11-10T16:02:30.449Z"
   },
   {
    "duration": 31,
    "start_time": "2022-11-10T16:02:30.455Z"
   },
   {
    "duration": 3384,
    "start_time": "2022-11-10T16:02:30.488Z"
   },
   {
    "duration": 4,
    "start_time": "2022-11-10T16:02:33.873Z"
   },
   {
    "duration": 29,
    "start_time": "2022-11-10T16:02:33.879Z"
   },
   {
    "duration": 17,
    "start_time": "2022-11-10T16:02:33.910Z"
   },
   {
    "duration": 614,
    "start_time": "2022-11-10T16:02:33.929Z"
   },
   {
    "duration": 3,
    "start_time": "2022-11-10T16:02:34.547Z"
   },
   {
    "duration": 13,
    "start_time": "2022-11-10T16:02:34.551Z"
   },
   {
    "duration": 11,
    "start_time": "2022-11-10T16:02:34.566Z"
   },
   {
    "duration": 1351,
    "start_time": "2022-11-10T16:02:34.579Z"
   },
   {
    "duration": 1284,
    "start_time": "2022-11-10T16:02:35.932Z"
   },
   {
    "duration": 4,
    "start_time": "2022-11-10T16:02:37.218Z"
   },
   {
    "duration": 6,
    "start_time": "2022-11-10T16:02:37.224Z"
   },
   {
    "duration": 6,
    "start_time": "2022-11-10T16:02:37.232Z"
   },
   {
    "duration": 9,
    "start_time": "2022-11-10T16:02:37.240Z"
   },
   {
    "duration": 6,
    "start_time": "2022-11-10T16:02:37.251Z"
   },
   {
    "duration": 6,
    "start_time": "2022-11-10T16:02:37.258Z"
   },
   {
    "duration": 4,
    "start_time": "2022-11-10T16:02:37.266Z"
   },
   {
    "duration": 7,
    "start_time": "2022-11-10T16:02:37.271Z"
   },
   {
    "duration": 7,
    "start_time": "2022-11-10T16:02:37.279Z"
   },
   {
    "duration": 26,
    "start_time": "2022-11-10T16:02:37.287Z"
   },
   {
    "duration": 6,
    "start_time": "2022-11-10T16:02:37.315Z"
   },
   {
    "duration": 7,
    "start_time": "2022-11-10T16:02:37.322Z"
   },
   {
    "duration": 5,
    "start_time": "2022-11-10T16:02:37.330Z"
   },
   {
    "duration": 6,
    "start_time": "2022-11-10T16:02:37.336Z"
   },
   {
    "duration": 5,
    "start_time": "2022-11-10T16:02:37.343Z"
   },
   {
    "duration": 7,
    "start_time": "2022-11-10T16:02:37.349Z"
   },
   {
    "duration": 6,
    "start_time": "2022-11-10T16:02:37.357Z"
   },
   {
    "duration": 5,
    "start_time": "2022-11-10T16:02:37.365Z"
   },
   {
    "duration": 15,
    "start_time": "2022-11-10T16:02:37.371Z"
   },
   {
    "duration": 25,
    "start_time": "2022-11-10T16:02:37.388Z"
   },
   {
    "duration": 19,
    "start_time": "2022-11-10T16:02:37.414Z"
   },
   {
    "duration": 5,
    "start_time": "2022-11-10T16:02:37.434Z"
   },
   {
    "duration": 14,
    "start_time": "2022-11-10T16:02:37.440Z"
   },
   {
    "duration": 4,
    "start_time": "2022-11-10T16:02:37.456Z"
   },
   {
    "duration": 10,
    "start_time": "2022-11-10T16:02:37.462Z"
   },
   {
    "duration": 4,
    "start_time": "2022-11-10T16:02:37.473Z"
   },
   {
    "duration": 5,
    "start_time": "2022-11-10T16:02:37.478Z"
   },
   {
    "duration": 1319,
    "start_time": "2022-11-10T16:03:36.849Z"
   },
   {
    "duration": 10,
    "start_time": "2022-11-10T16:03:38.170Z"
   },
   {
    "duration": 9,
    "start_time": "2022-11-10T16:03:38.181Z"
   },
   {
    "duration": 632,
    "start_time": "2022-11-10T16:03:38.191Z"
   },
   {
    "duration": 54,
    "start_time": "2022-11-10T16:03:38.825Z"
   },
   {
    "duration": 3,
    "start_time": "2022-11-10T16:03:38.880Z"
   },
   {
    "duration": 8,
    "start_time": "2022-11-10T16:03:38.885Z"
   },
   {
    "duration": 19,
    "start_time": "2022-11-10T16:03:38.894Z"
   },
   {
    "duration": 191,
    "start_time": "2022-11-10T16:03:38.915Z"
   },
   {
    "duration": 167,
    "start_time": "2022-11-10T16:03:39.112Z"
   },
   {
    "duration": 4,
    "start_time": "2022-11-10T16:03:39.280Z"
   },
   {
    "duration": 6,
    "start_time": "2022-11-10T16:03:39.286Z"
   },
   {
    "duration": 36,
    "start_time": "2022-11-10T16:03:39.293Z"
   },
   {
    "duration": 8,
    "start_time": "2022-11-10T16:03:39.331Z"
   },
   {
    "duration": 6,
    "start_time": "2022-11-10T16:03:39.341Z"
   },
   {
    "duration": 12,
    "start_time": "2022-11-10T16:03:39.348Z"
   },
   {
    "duration": 3,
    "start_time": "2022-11-10T16:03:39.362Z"
   },
   {
    "duration": 98,
    "start_time": "2022-11-10T16:03:39.366Z"
   },
   {
    "duration": 7,
    "start_time": "2022-11-10T16:03:39.465Z"
   },
   {
    "duration": 8,
    "start_time": "2022-11-10T16:03:39.473Z"
   },
   {
    "duration": 5,
    "start_time": "2022-11-10T16:03:39.482Z"
   },
   {
    "duration": 24,
    "start_time": "2022-11-10T16:03:39.489Z"
   },
   {
    "duration": 6,
    "start_time": "2022-11-10T16:03:39.514Z"
   },
   {
    "duration": 6,
    "start_time": "2022-11-10T16:03:39.521Z"
   },
   {
    "duration": 186,
    "start_time": "2022-11-10T16:03:39.528Z"
   },
   {
    "duration": 209,
    "start_time": "2022-11-10T16:03:39.715Z"
   },
   {
    "duration": 3,
    "start_time": "2022-11-10T16:03:39.926Z"
   },
   {
    "duration": 5,
    "start_time": "2022-11-10T16:03:39.932Z"
   },
   {
    "duration": 3319,
    "start_time": "2022-11-10T16:03:39.939Z"
   },
   {
    "duration": 4,
    "start_time": "2022-11-10T16:03:43.259Z"
   },
   {
    "duration": 7,
    "start_time": "2022-11-10T16:03:43.264Z"
   },
   {
    "duration": 6,
    "start_time": "2022-11-10T16:03:43.272Z"
   },
   {
    "duration": 583,
    "start_time": "2022-11-10T16:03:43.279Z"
   },
   {
    "duration": 3,
    "start_time": "2022-11-10T16:03:43.864Z"
   },
   {
    "duration": 8,
    "start_time": "2022-11-10T16:03:43.868Z"
   },
   {
    "duration": 9,
    "start_time": "2022-11-10T16:03:43.878Z"
   },
   {
    "duration": 1357,
    "start_time": "2022-11-10T16:03:43.889Z"
   },
   {
    "duration": 1353,
    "start_time": "2022-11-10T16:03:45.248Z"
   },
   {
    "duration": 3,
    "start_time": "2022-11-10T16:03:46.602Z"
   },
   {
    "duration": 3,
    "start_time": "2022-11-10T16:03:46.612Z"
   },
   {
    "duration": 5,
    "start_time": "2022-11-10T16:03:46.617Z"
   },
   {
    "duration": 8,
    "start_time": "2022-11-10T16:03:46.624Z"
   },
   {
    "duration": 6,
    "start_time": "2022-11-10T16:03:46.634Z"
   },
   {
    "duration": 8,
    "start_time": "2022-11-10T16:03:46.641Z"
   },
   {
    "duration": 6,
    "start_time": "2022-11-10T16:03:46.650Z"
   },
   {
    "duration": 9,
    "start_time": "2022-11-10T16:03:46.657Z"
   },
   {
    "duration": 4,
    "start_time": "2022-11-10T16:03:46.668Z"
   },
   {
    "duration": 6,
    "start_time": "2022-11-10T16:03:46.674Z"
   },
   {
    "duration": 7,
    "start_time": "2022-11-10T16:03:46.681Z"
   },
   {
    "duration": 7,
    "start_time": "2022-11-10T16:03:46.690Z"
   },
   {
    "duration": 6,
    "start_time": "2022-11-10T16:03:46.698Z"
   },
   {
    "duration": 3,
    "start_time": "2022-11-10T16:03:46.712Z"
   },
   {
    "duration": 5,
    "start_time": "2022-11-10T16:03:46.717Z"
   },
   {
    "duration": 8,
    "start_time": "2022-11-10T16:03:46.724Z"
   },
   {
    "duration": 7,
    "start_time": "2022-11-10T16:03:46.733Z"
   },
   {
    "duration": 7,
    "start_time": "2022-11-10T16:03:46.741Z"
   },
   {
    "duration": 17,
    "start_time": "2022-11-10T16:03:46.749Z"
   },
   {
    "duration": 3,
    "start_time": "2022-11-10T16:03:46.767Z"
   },
   {
    "duration": 23,
    "start_time": "2022-11-10T16:03:46.771Z"
   },
   {
    "duration": 28,
    "start_time": "2022-11-10T16:03:46.796Z"
   },
   {
    "duration": 16,
    "start_time": "2022-11-10T16:03:46.825Z"
   },
   {
    "duration": 5,
    "start_time": "2022-11-10T16:03:46.842Z"
   },
   {
    "duration": 22,
    "start_time": "2022-11-10T16:03:46.848Z"
   },
   {
    "duration": 5,
    "start_time": "2022-11-10T16:03:46.872Z"
   },
   {
    "duration": 7,
    "start_time": "2022-11-10T16:03:46.879Z"
   },
   {
    "duration": 434032,
    "start_time": "2022-11-10T16:03:46.887Z"
   },
   {
    "duration": 4,
    "start_time": "2022-11-10T16:11:00.921Z"
   },
   {
    "duration": 22,
    "start_time": "2022-11-10T16:11:00.927Z"
   },
   {
    "duration": 419365,
    "start_time": "2022-11-10T16:11:00.950Z"
   },
   {
    "duration": 4,
    "start_time": "2022-11-10T16:18:00.318Z"
   },
   {
    "duration": 292,
    "start_time": "2022-11-10T16:18:00.325Z"
   },
   {
    "duration": 298,
    "start_time": "2022-11-10T16:18:00.619Z"
   },
   {
    "duration": 94,
    "start_time": "2022-11-10T16:18:00.919Z"
   },
   {
    "duration": 206,
    "start_time": "2022-11-10T16:18:01.014Z"
   },
   {
    "duration": 92,
    "start_time": "2022-11-10T16:18:01.222Z"
   },
   {
    "duration": 97,
    "start_time": "2022-11-10T16:18:01.316Z"
   },
   {
    "duration": 104,
    "start_time": "2022-11-10T17:06:26.417Z"
   },
   {
    "duration": 18,
    "start_time": "2022-11-10T17:37:56.057Z"
   },
   {
    "duration": 5,
    "start_time": "2022-11-10T17:42:25.541Z"
   },
   {
    "duration": 4,
    "start_time": "2022-11-10T17:44:09.830Z"
   },
   {
    "duration": 1087,
    "start_time": "2022-11-10T17:44:12.316Z"
   },
   {
    "duration": 5,
    "start_time": "2022-11-10T17:44:30.712Z"
   },
   {
    "duration": 11,
    "start_time": "2022-11-10T17:44:30.723Z"
   },
   {
    "duration": 15,
    "start_time": "2022-11-10T17:44:30.736Z"
   },
   {
    "duration": 654,
    "start_time": "2022-11-10T17:44:30.753Z"
   },
   {
    "duration": 55,
    "start_time": "2022-11-10T17:44:31.408Z"
   },
   {
    "duration": 3,
    "start_time": "2022-11-10T17:44:31.464Z"
   },
   {
    "duration": 7,
    "start_time": "2022-11-10T17:44:31.468Z"
   },
   {
    "duration": 7,
    "start_time": "2022-11-10T17:44:31.477Z"
   },
   {
    "duration": 198,
    "start_time": "2022-11-10T17:44:31.485Z"
   },
   {
    "duration": 184,
    "start_time": "2022-11-10T17:44:31.685Z"
   },
   {
    "duration": 5,
    "start_time": "2022-11-10T17:44:31.871Z"
   },
   {
    "duration": 44,
    "start_time": "2022-11-10T17:44:31.877Z"
   },
   {
    "duration": 34,
    "start_time": "2022-11-10T17:44:31.924Z"
   },
   {
    "duration": 9,
    "start_time": "2022-11-10T17:44:31.961Z"
   },
   {
    "duration": 8,
    "start_time": "2022-11-10T17:44:31.972Z"
   },
   {
    "duration": 12,
    "start_time": "2022-11-10T17:44:31.982Z"
   },
   {
    "duration": 3,
    "start_time": "2022-11-10T17:44:31.996Z"
   },
   {
    "duration": 14,
    "start_time": "2022-11-10T17:44:32.001Z"
   },
   {
    "duration": 11,
    "start_time": "2022-11-10T17:44:32.016Z"
   },
   {
    "duration": 8,
    "start_time": "2022-11-10T17:44:32.029Z"
   },
   {
    "duration": 7,
    "start_time": "2022-11-10T17:44:32.039Z"
   },
   {
    "duration": 7,
    "start_time": "2022-11-10T17:44:32.048Z"
   },
   {
    "duration": 5,
    "start_time": "2022-11-10T17:44:32.057Z"
   },
   {
    "duration": 6,
    "start_time": "2022-11-10T17:44:32.063Z"
   },
   {
    "duration": 223,
    "start_time": "2022-11-10T17:44:32.071Z"
   },
   {
    "duration": 195,
    "start_time": "2022-11-10T17:44:32.296Z"
   },
   {
    "duration": 3,
    "start_time": "2022-11-10T17:44:32.493Z"
   },
   {
    "duration": 18,
    "start_time": "2022-11-10T17:44:32.497Z"
   },
   {
    "duration": 3242,
    "start_time": "2022-11-10T17:44:32.516Z"
   },
   {
    "duration": 5,
    "start_time": "2022-11-10T17:44:35.760Z"
   },
   {
    "duration": 7,
    "start_time": "2022-11-10T17:44:35.767Z"
   },
   {
    "duration": 7,
    "start_time": "2022-11-10T17:44:35.775Z"
   },
   {
    "duration": 716,
    "start_time": "2022-11-10T17:44:35.784Z"
   },
   {
    "duration": 3,
    "start_time": "2022-11-10T17:44:36.503Z"
   },
   {
    "duration": 8,
    "start_time": "2022-11-10T17:44:36.507Z"
   },
   {
    "duration": 4,
    "start_time": "2022-11-10T17:44:36.517Z"
   },
   {
    "duration": 1312,
    "start_time": "2022-11-10T17:44:36.523Z"
   },
   {
    "duration": 1374,
    "start_time": "2022-11-10T17:44:37.837Z"
   },
   {
    "duration": 14,
    "start_time": "2022-11-10T17:44:39.213Z"
   },
   {
    "duration": 1143,
    "start_time": "2022-11-10T17:44:45.159Z"
   },
   {
    "duration": 5,
    "start_time": "2022-11-10T17:45:08.343Z"
   },
   {
    "duration": 10,
    "start_time": "2022-11-10T17:45:08.364Z"
   },
   {
    "duration": 6,
    "start_time": "2022-11-10T17:45:08.376Z"
   },
   {
    "duration": 671,
    "start_time": "2022-11-10T17:45:08.384Z"
   },
   {
    "duration": 60,
    "start_time": "2022-11-10T17:45:09.057Z"
   },
   {
    "duration": 4,
    "start_time": "2022-11-10T17:45:09.119Z"
   },
   {
    "duration": 7,
    "start_time": "2022-11-10T17:45:09.124Z"
   },
   {
    "duration": 4,
    "start_time": "2022-11-10T17:45:09.132Z"
   },
   {
    "duration": 197,
    "start_time": "2022-11-10T17:45:09.137Z"
   },
   {
    "duration": 186,
    "start_time": "2022-11-10T17:45:09.335Z"
   },
   {
    "duration": 5,
    "start_time": "2022-11-10T17:45:09.522Z"
   },
   {
    "duration": 7,
    "start_time": "2022-11-10T17:45:09.528Z"
   },
   {
    "duration": 24,
    "start_time": "2022-11-10T17:45:09.538Z"
   },
   {
    "duration": 14,
    "start_time": "2022-11-10T17:45:09.564Z"
   },
   {
    "duration": 8,
    "start_time": "2022-11-10T17:45:09.580Z"
   },
   {
    "duration": 23,
    "start_time": "2022-11-10T17:45:09.590Z"
   },
   {
    "duration": 3,
    "start_time": "2022-11-10T17:45:09.615Z"
   },
   {
    "duration": 8,
    "start_time": "2022-11-10T17:45:09.620Z"
   },
   {
    "duration": 6,
    "start_time": "2022-11-10T17:45:09.630Z"
   },
   {
    "duration": 6,
    "start_time": "2022-11-10T17:45:09.637Z"
   },
   {
    "duration": 5,
    "start_time": "2022-11-10T17:45:09.644Z"
   },
   {
    "duration": 7,
    "start_time": "2022-11-10T17:45:09.651Z"
   },
   {
    "duration": 6,
    "start_time": "2022-11-10T17:45:09.660Z"
   },
   {
    "duration": 4,
    "start_time": "2022-11-10T17:45:09.668Z"
   },
   {
    "duration": 194,
    "start_time": "2022-11-10T17:45:09.712Z"
   },
   {
    "duration": 182,
    "start_time": "2022-11-10T17:45:09.913Z"
   },
   {
    "duration": 4,
    "start_time": "2022-11-10T17:45:10.096Z"
   },
   {
    "duration": 14,
    "start_time": "2022-11-10T17:45:10.101Z"
   },
   {
    "duration": 3448,
    "start_time": "2022-11-10T17:45:10.116Z"
   },
   {
    "duration": 5,
    "start_time": "2022-11-10T17:45:13.566Z"
   },
   {
    "duration": 8,
    "start_time": "2022-11-10T17:45:13.572Z"
   },
   {
    "duration": 4,
    "start_time": "2022-11-10T17:45:13.582Z"
   },
   {
    "duration": 563,
    "start_time": "2022-11-10T17:45:13.588Z"
   },
   {
    "duration": 3,
    "start_time": "2022-11-10T17:45:14.155Z"
   },
   {
    "duration": 7,
    "start_time": "2022-11-10T17:45:14.160Z"
   },
   {
    "duration": 5,
    "start_time": "2022-11-10T17:45:14.169Z"
   },
   {
    "duration": 1310,
    "start_time": "2022-11-10T17:45:14.176Z"
   },
   {
    "duration": 1324,
    "start_time": "2022-11-10T17:45:15.489Z"
   },
   {
    "duration": 14,
    "start_time": "2022-11-10T17:45:16.815Z"
   },
   {
    "duration": 4,
    "start_time": "2022-11-10T17:45:16.831Z"
   },
   {
    "duration": 1096,
    "start_time": "2022-11-10T17:45:16.836Z"
   },
   {
    "duration": 15,
    "start_time": "2022-11-10T17:54:36.492Z"
   },
   {
    "duration": 17,
    "start_time": "2022-11-10T18:11:01.854Z"
   },
   {
    "duration": 1195,
    "start_time": "2022-11-10T18:30:28.265Z"
   },
   {
    "duration": 5,
    "start_time": "2022-11-10T18:51:02.027Z"
   },
   {
    "duration": 11,
    "start_time": "2022-11-10T18:51:02.036Z"
   },
   {
    "duration": 9,
    "start_time": "2022-11-10T18:51:02.049Z"
   },
   {
    "duration": 613,
    "start_time": "2022-11-10T18:51:02.060Z"
   },
   {
    "duration": 59,
    "start_time": "2022-11-10T18:51:02.675Z"
   },
   {
    "duration": 3,
    "start_time": "2022-11-10T18:51:02.736Z"
   },
   {
    "duration": 9,
    "start_time": "2022-11-10T18:51:02.740Z"
   },
   {
    "duration": 4,
    "start_time": "2022-11-10T18:51:02.750Z"
   },
   {
    "duration": 313,
    "start_time": "2022-11-10T18:51:02.755Z"
   },
   {
    "duration": 184,
    "start_time": "2022-11-10T18:51:03.069Z"
   },
   {
    "duration": 4,
    "start_time": "2022-11-10T18:51:03.255Z"
   },
   {
    "duration": 7,
    "start_time": "2022-11-10T18:51:03.261Z"
   },
   {
    "duration": 35,
    "start_time": "2022-11-10T18:51:03.270Z"
   },
   {
    "duration": 11,
    "start_time": "2022-11-10T18:51:03.307Z"
   },
   {
    "duration": 7,
    "start_time": "2022-11-10T18:51:03.319Z"
   },
   {
    "duration": 13,
    "start_time": "2022-11-10T18:51:03.328Z"
   },
   {
    "duration": 4,
    "start_time": "2022-11-10T18:51:03.342Z"
   },
   {
    "duration": 9,
    "start_time": "2022-11-10T18:51:03.347Z"
   },
   {
    "duration": 5,
    "start_time": "2022-11-10T18:51:03.357Z"
   },
   {
    "duration": 7,
    "start_time": "2022-11-10T18:51:03.364Z"
   },
   {
    "duration": 6,
    "start_time": "2022-11-10T18:51:03.372Z"
   },
   {
    "duration": 7,
    "start_time": "2022-11-10T18:51:03.412Z"
   },
   {
    "duration": 5,
    "start_time": "2022-11-10T18:51:03.421Z"
   },
   {
    "duration": 4,
    "start_time": "2022-11-10T18:51:03.428Z"
   },
   {
    "duration": 198,
    "start_time": "2022-11-10T18:51:03.433Z"
   },
   {
    "duration": 186,
    "start_time": "2022-11-10T18:51:03.633Z"
   },
   {
    "duration": 3,
    "start_time": "2022-11-10T18:51:03.821Z"
   },
   {
    "duration": 7,
    "start_time": "2022-11-10T18:51:03.826Z"
   },
   {
    "duration": 3431,
    "start_time": "2022-11-10T18:51:03.834Z"
   },
   {
    "duration": 4,
    "start_time": "2022-11-10T18:51:07.267Z"
   },
   {
    "duration": 17,
    "start_time": "2022-11-10T18:51:07.272Z"
   },
   {
    "duration": 14,
    "start_time": "2022-11-10T18:51:07.291Z"
   },
   {
    "duration": 547,
    "start_time": "2022-11-10T18:51:07.306Z"
   },
   {
    "duration": 3,
    "start_time": "2022-11-10T18:51:07.855Z"
   },
   {
    "duration": 21,
    "start_time": "2022-11-10T18:51:07.860Z"
   },
   {
    "duration": 28,
    "start_time": "2022-11-10T18:51:07.883Z"
   },
   {
    "duration": 50,
    "start_time": "2022-11-10T18:51:07.913Z"
   },
   {
    "duration": 1283,
    "start_time": "2022-11-10T18:51:07.964Z"
   },
   {
    "duration": 1442,
    "start_time": "2022-11-10T18:51:09.249Z"
   },
   {
    "duration": 24,
    "start_time": "2022-11-10T18:51:10.693Z"
   },
   {
    "duration": 5,
    "start_time": "2022-11-10T18:51:10.719Z"
   },
   {
    "duration": 9,
    "start_time": "2022-11-10T18:51:16.325Z"
   },
   {
    "duration": 5,
    "start_time": "2022-11-10T18:51:24.971Z"
   },
   {
    "duration": 34,
    "start_time": "2022-11-10T18:51:27.870Z"
   },
   {
    "duration": 5,
    "start_time": "2022-11-10T19:44:39.450Z"
   },
   {
    "duration": 4,
    "start_time": "2022-11-10T19:45:21.796Z"
   },
   {
    "duration": 5,
    "start_time": "2022-11-10T19:45:35.538Z"
   },
   {
    "duration": 16,
    "start_time": "2022-11-10T19:45:35.546Z"
   },
   {
    "duration": 10,
    "start_time": "2022-11-10T19:45:35.564Z"
   },
   {
    "duration": 631,
    "start_time": "2022-11-10T19:45:35.576Z"
   },
   {
    "duration": 61,
    "start_time": "2022-11-10T19:45:36.209Z"
   },
   {
    "duration": 3,
    "start_time": "2022-11-10T19:45:36.271Z"
   },
   {
    "duration": 6,
    "start_time": "2022-11-10T19:45:36.276Z"
   },
   {
    "duration": 4,
    "start_time": "2022-11-10T19:45:36.284Z"
   },
   {
    "duration": 193,
    "start_time": "2022-11-10T19:45:36.289Z"
   },
   {
    "duration": 181,
    "start_time": "2022-11-10T19:45:36.483Z"
   },
   {
    "duration": 4,
    "start_time": "2022-11-10T19:45:36.666Z"
   },
   {
    "duration": 6,
    "start_time": "2022-11-10T19:45:36.671Z"
   },
   {
    "duration": 36,
    "start_time": "2022-11-10T19:45:36.678Z"
   },
   {
    "duration": 6,
    "start_time": "2022-11-10T19:45:36.716Z"
   },
   {
    "duration": 8,
    "start_time": "2022-11-10T19:45:36.723Z"
   },
   {
    "duration": 13,
    "start_time": "2022-11-10T19:45:36.732Z"
   },
   {
    "duration": 5,
    "start_time": "2022-11-10T19:45:36.746Z"
   },
   {
    "duration": 14,
    "start_time": "2022-11-10T19:45:36.752Z"
   },
   {
    "duration": 5,
    "start_time": "2022-11-10T19:45:36.768Z"
   },
   {
    "duration": 13,
    "start_time": "2022-11-10T19:45:36.775Z"
   },
   {
    "duration": 15,
    "start_time": "2022-11-10T19:45:36.789Z"
   },
   {
    "duration": 9,
    "start_time": "2022-11-10T19:45:36.812Z"
   },
   {
    "duration": 5,
    "start_time": "2022-11-10T19:45:36.823Z"
   },
   {
    "duration": 9,
    "start_time": "2022-11-10T19:45:36.829Z"
   },
   {
    "duration": 195,
    "start_time": "2022-11-10T19:45:36.840Z"
   },
   {
    "duration": 197,
    "start_time": "2022-11-10T19:45:37.038Z"
   },
   {
    "duration": 5,
    "start_time": "2022-11-10T19:45:37.237Z"
   },
   {
    "duration": 7,
    "start_time": "2022-11-10T19:45:37.243Z"
   },
   {
    "duration": 3373,
    "start_time": "2022-11-10T19:45:37.251Z"
   },
   {
    "duration": 4,
    "start_time": "2022-11-10T19:45:40.626Z"
   },
   {
    "duration": 6,
    "start_time": "2022-11-10T19:45:40.631Z"
   },
   {
    "duration": 6,
    "start_time": "2022-11-10T19:45:40.638Z"
   },
   {
    "duration": 770,
    "start_time": "2022-11-10T19:45:40.645Z"
   },
   {
    "duration": 4,
    "start_time": "2022-11-10T19:45:41.417Z"
   },
   {
    "duration": 7,
    "start_time": "2022-11-10T19:45:41.422Z"
   },
   {
    "duration": 5,
    "start_time": "2022-11-10T19:45:41.431Z"
   },
   {
    "duration": 22,
    "start_time": "2022-11-10T19:45:41.438Z"
   },
   {
    "duration": 1307,
    "start_time": "2022-11-10T19:45:41.462Z"
   },
   {
    "duration": 3,
    "start_time": "2022-11-10T19:45:48.630Z"
   },
   {
    "duration": 7,
    "start_time": "2022-11-10T19:53:34.341Z"
   },
   {
    "duration": 14,
    "start_time": "2022-11-10T19:54:46.782Z"
   },
   {
    "duration": 12,
    "start_time": "2022-11-10T19:55:15.045Z"
   },
   {
    "duration": 84,
    "start_time": "2022-11-10T19:59:56.384Z"
   },
   {
    "duration": 70,
    "start_time": "2022-11-10T20:00:35.641Z"
   },
   {
    "duration": 68,
    "start_time": "2022-11-10T20:01:46.020Z"
   },
   {
    "duration": 13,
    "start_time": "2022-11-10T20:02:21.677Z"
   },
   {
    "duration": 21,
    "start_time": "2022-11-10T20:07:17.886Z"
   },
   {
    "duration": 15,
    "start_time": "2022-11-10T20:10:16.022Z"
   },
   {
    "duration": 16,
    "start_time": "2022-11-10T20:11:16.274Z"
   },
   {
    "duration": 41,
    "start_time": "2022-11-10T20:12:17.384Z"
   },
   {
    "duration": 42,
    "start_time": "2022-11-10T20:14:51.275Z"
   },
   {
    "duration": 49,
    "start_time": "2022-11-10T20:16:47.141Z"
   },
   {
    "duration": 40,
    "start_time": "2022-11-10T20:19:26.309Z"
   },
   {
    "duration": 29,
    "start_time": "2022-11-10T20:22:16.297Z"
   },
   {
    "duration": 27,
    "start_time": "2022-11-10T20:23:43.824Z"
   },
   {
    "duration": 15,
    "start_time": "2022-11-10T20:25:54.776Z"
   },
   {
    "duration": 6,
    "start_time": "2022-11-10T20:27:31.982Z"
   },
   {
    "duration": 11,
    "start_time": "2022-11-10T20:27:31.993Z"
   },
   {
    "duration": 11,
    "start_time": "2022-11-10T20:27:32.007Z"
   },
   {
    "duration": 685,
    "start_time": "2022-11-10T20:27:32.020Z"
   },
   {
    "duration": 61,
    "start_time": "2022-11-10T20:27:32.706Z"
   },
   {
    "duration": 3,
    "start_time": "2022-11-10T20:27:32.769Z"
   },
   {
    "duration": 8,
    "start_time": "2022-11-10T20:27:32.773Z"
   },
   {
    "duration": 5,
    "start_time": "2022-11-10T20:27:32.783Z"
   },
   {
    "duration": 237,
    "start_time": "2022-11-10T20:27:32.790Z"
   },
   {
    "duration": 187,
    "start_time": "2022-11-10T20:27:33.029Z"
   },
   {
    "duration": 5,
    "start_time": "2022-11-10T20:27:33.217Z"
   },
   {
    "duration": 23,
    "start_time": "2022-11-10T20:27:33.223Z"
   },
   {
    "duration": 52,
    "start_time": "2022-11-10T20:27:33.250Z"
   },
   {
    "duration": 10,
    "start_time": "2022-11-10T20:27:33.304Z"
   },
   {
    "duration": 10,
    "start_time": "2022-11-10T20:27:33.316Z"
   },
   {
    "duration": 17,
    "start_time": "2022-11-10T20:27:33.328Z"
   },
   {
    "duration": 3,
    "start_time": "2022-11-10T20:27:33.347Z"
   },
   {
    "duration": 10,
    "start_time": "2022-11-10T20:27:33.352Z"
   },
   {
    "duration": 10,
    "start_time": "2022-11-10T20:27:33.363Z"
   },
   {
    "duration": 10,
    "start_time": "2022-11-10T20:27:33.375Z"
   },
   {
    "duration": 28,
    "start_time": "2022-11-10T20:27:33.386Z"
   },
   {
    "duration": 7,
    "start_time": "2022-11-10T20:27:33.415Z"
   },
   {
    "duration": 6,
    "start_time": "2022-11-10T20:27:33.424Z"
   },
   {
    "duration": 5,
    "start_time": "2022-11-10T20:27:33.432Z"
   },
   {
    "duration": 217,
    "start_time": "2022-11-10T20:27:33.439Z"
   },
   {
    "duration": 196,
    "start_time": "2022-11-10T20:27:33.657Z"
   },
   {
    "duration": 4,
    "start_time": "2022-11-10T20:27:33.855Z"
   },
   {
    "duration": 10,
    "start_time": "2022-11-10T20:27:33.861Z"
   },
   {
    "duration": 3291,
    "start_time": "2022-11-10T20:27:33.873Z"
   },
   {
    "duration": 4,
    "start_time": "2022-11-10T20:27:37.166Z"
   },
   {
    "duration": 7,
    "start_time": "2022-11-10T20:27:37.171Z"
   },
   {
    "duration": 8,
    "start_time": "2022-11-10T20:27:37.180Z"
   },
   {
    "duration": 705,
    "start_time": "2022-11-10T20:27:37.189Z"
   },
   {
    "duration": 3,
    "start_time": "2022-11-10T20:27:37.897Z"
   },
   {
    "duration": 13,
    "start_time": "2022-11-10T20:27:37.901Z"
   },
   {
    "duration": 5,
    "start_time": "2022-11-10T20:27:37.916Z"
   },
   {
    "duration": 26,
    "start_time": "2022-11-10T20:27:37.923Z"
   },
   {
    "duration": 1409,
    "start_time": "2022-11-10T20:27:37.951Z"
   },
   {
    "duration": 65,
    "start_time": "2022-11-10T20:27:39.362Z"
   },
   {
    "duration": 0,
    "start_time": "2022-11-10T20:27:39.429Z"
   },
   {
    "duration": 0,
    "start_time": "2022-11-10T20:27:39.430Z"
   },
   {
    "duration": 0,
    "start_time": "2022-11-10T20:27:39.431Z"
   },
   {
    "duration": 0,
    "start_time": "2022-11-10T20:27:39.432Z"
   },
   {
    "duration": 0,
    "start_time": "2022-11-10T20:27:39.433Z"
   },
   {
    "duration": 0,
    "start_time": "2022-11-10T20:27:39.434Z"
   },
   {
    "duration": 0,
    "start_time": "2022-11-10T20:27:39.436Z"
   },
   {
    "duration": 0,
    "start_time": "2022-11-10T20:27:39.437Z"
   },
   {
    "duration": 1298,
    "start_time": "2022-11-10T20:29:06.460Z"
   },
   {
    "duration": 11,
    "start_time": "2022-11-10T20:29:07.759Z"
   },
   {
    "duration": 9,
    "start_time": "2022-11-10T20:29:07.771Z"
   },
   {
    "duration": 620,
    "start_time": "2022-11-10T20:29:07.781Z"
   },
   {
    "duration": 52,
    "start_time": "2022-11-10T20:29:08.403Z"
   },
   {
    "duration": 3,
    "start_time": "2022-11-10T20:29:08.457Z"
   },
   {
    "duration": 10,
    "start_time": "2022-11-10T20:29:08.461Z"
   },
   {
    "duration": 4,
    "start_time": "2022-11-10T20:29:08.472Z"
   },
   {
    "duration": 204,
    "start_time": "2022-11-10T20:29:08.477Z"
   },
   {
    "duration": 174,
    "start_time": "2022-11-10T20:29:08.683Z"
   },
   {
    "duration": 4,
    "start_time": "2022-11-10T20:29:08.859Z"
   },
   {
    "duration": 5,
    "start_time": "2022-11-10T20:29:08.864Z"
   },
   {
    "duration": 25,
    "start_time": "2022-11-10T20:29:08.871Z"
   },
   {
    "duration": 18,
    "start_time": "2022-11-10T20:29:08.898Z"
   },
   {
    "duration": 4,
    "start_time": "2022-11-10T20:29:08.918Z"
   },
   {
    "duration": 11,
    "start_time": "2022-11-10T20:29:08.924Z"
   },
   {
    "duration": 3,
    "start_time": "2022-11-10T20:29:08.937Z"
   },
   {
    "duration": 90,
    "start_time": "2022-11-10T20:29:08.942Z"
   },
   {
    "duration": 9,
    "start_time": "2022-11-10T20:29:09.034Z"
   },
   {
    "duration": 14,
    "start_time": "2022-11-10T20:29:09.044Z"
   },
   {
    "duration": 5,
    "start_time": "2022-11-10T20:29:09.059Z"
   },
   {
    "duration": 10,
    "start_time": "2022-11-10T20:29:09.066Z"
   },
   {
    "duration": 5,
    "start_time": "2022-11-10T20:29:09.078Z"
   },
   {
    "duration": 6,
    "start_time": "2022-11-10T20:29:09.084Z"
   },
   {
    "duration": 192,
    "start_time": "2022-11-10T20:29:09.092Z"
   },
   {
    "duration": 199,
    "start_time": "2022-11-10T20:29:09.286Z"
   },
   {
    "duration": 3,
    "start_time": "2022-11-10T20:29:09.487Z"
   },
   {
    "duration": 7,
    "start_time": "2022-11-10T20:29:09.494Z"
   },
   {
    "duration": 3243,
    "start_time": "2022-11-10T20:29:09.512Z"
   },
   {
    "duration": 4,
    "start_time": "2022-11-10T20:29:12.757Z"
   },
   {
    "duration": 5,
    "start_time": "2022-11-10T20:29:12.762Z"
   },
   {
    "duration": 5,
    "start_time": "2022-11-10T20:29:12.769Z"
   },
   {
    "duration": 582,
    "start_time": "2022-11-10T20:29:12.775Z"
   },
   {
    "duration": 3,
    "start_time": "2022-11-10T20:29:13.359Z"
   },
   {
    "duration": 7,
    "start_time": "2022-11-10T20:29:13.363Z"
   },
   {
    "duration": 5,
    "start_time": "2022-11-10T20:29:13.371Z"
   },
   {
    "duration": 21,
    "start_time": "2022-11-10T20:29:13.377Z"
   },
   {
    "duration": 1333,
    "start_time": "2022-11-10T20:29:13.412Z"
   },
   {
    "duration": 1472,
    "start_time": "2022-11-10T20:29:14.747Z"
   },
   {
    "duration": 3,
    "start_time": "2022-11-10T20:29:16.221Z"
   },
   {
    "duration": 17,
    "start_time": "2022-11-10T20:29:16.225Z"
   },
   {
    "duration": 3,
    "start_time": "2022-11-10T20:29:16.244Z"
   },
   {
    "duration": 7,
    "start_time": "2022-11-10T20:29:16.249Z"
   },
   {
    "duration": 4,
    "start_time": "2022-11-10T20:29:16.257Z"
   },
   {
    "duration": 7,
    "start_time": "2022-11-10T20:29:16.263Z"
   },
   {
    "duration": 6,
    "start_time": "2022-11-10T20:29:16.271Z"
   },
   {
    "duration": 7,
    "start_time": "2022-11-10T20:29:16.278Z"
   },
   {
    "duration": 31,
    "start_time": "2022-11-10T20:29:16.287Z"
   },
   {
    "duration": 6,
    "start_time": "2022-11-10T20:29:16.320Z"
   },
   {
    "duration": 7,
    "start_time": "2022-11-10T20:29:16.328Z"
   },
   {
    "duration": 9,
    "start_time": "2022-11-10T20:29:16.337Z"
   },
   {
    "duration": 16,
    "start_time": "2022-11-10T20:29:16.348Z"
   },
   {
    "duration": 8,
    "start_time": "2022-11-10T20:29:16.365Z"
   },
   {
    "duration": 9,
    "start_time": "2022-11-10T20:29:16.374Z"
   },
   {
    "duration": 12,
    "start_time": "2022-11-10T20:29:16.385Z"
   },
   {
    "duration": 26,
    "start_time": "2022-11-10T20:29:16.398Z"
   },
   {
    "duration": 12,
    "start_time": "2022-11-10T20:29:16.425Z"
   },
   {
    "duration": 6,
    "start_time": "2022-11-10T20:29:16.439Z"
   },
   {
    "duration": 7,
    "start_time": "2022-11-10T20:29:16.447Z"
   },
   {
    "duration": 19,
    "start_time": "2022-11-10T20:29:16.455Z"
   },
   {
    "duration": 18,
    "start_time": "2022-11-10T20:29:16.475Z"
   },
   {
    "duration": 5,
    "start_time": "2022-11-10T20:29:16.494Z"
   },
   {
    "duration": 16,
    "start_time": "2022-11-10T20:29:16.501Z"
   },
   {
    "duration": 6,
    "start_time": "2022-11-10T20:29:16.519Z"
   },
   {
    "duration": 13,
    "start_time": "2022-11-10T20:29:16.527Z"
   },
   {
    "duration": 3,
    "start_time": "2022-11-10T20:29:16.542Z"
   },
   {
    "duration": 9,
    "start_time": "2022-11-10T20:29:16.547Z"
   },
   {
    "duration": 569357,
    "start_time": "2022-11-10T20:29:16.558Z"
   },
   {
    "duration": 4,
    "start_time": "2022-11-10T20:38:45.917Z"
   },
   {
    "duration": 5,
    "start_time": "2022-11-10T20:38:45.923Z"
   },
   {
    "duration": 417684,
    "start_time": "2022-11-10T20:38:45.930Z"
   },
   {
    "duration": 4,
    "start_time": "2022-11-10T20:45:43.615Z"
   },
   {
    "duration": 197,
    "start_time": "2022-11-10T20:45:43.621Z"
   },
   {
    "duration": 400,
    "start_time": "2022-11-10T20:45:43.819Z"
   },
   {
    "duration": 3,
    "start_time": "2022-11-10T20:45:44.221Z"
   },
   {
    "duration": 288,
    "start_time": "2022-11-10T20:45:44.226Z"
   },
   {
    "duration": 4,
    "start_time": "2022-11-10T20:45:44.516Z"
   },
   {
    "duration": 103,
    "start_time": "2022-11-10T20:45:44.522Z"
   },
   {
    "duration": 71,
    "start_time": "2022-11-10T21:00:11.188Z"
   },
   {
    "duration": 67,
    "start_time": "2022-11-10T21:01:40.573Z"
   },
   {
    "duration": 1420,
    "start_time": "2022-11-10T21:04:34.726Z"
   },
   {
    "duration": 10,
    "start_time": "2022-11-10T21:04:36.148Z"
   },
   {
    "duration": 6,
    "start_time": "2022-11-10T21:04:36.160Z"
   },
   {
    "duration": 586,
    "start_time": "2022-11-10T21:04:36.168Z"
   },
   {
    "duration": 58,
    "start_time": "2022-11-10T21:04:36.756Z"
   },
   {
    "duration": 3,
    "start_time": "2022-11-10T21:04:36.816Z"
   },
   {
    "duration": 7,
    "start_time": "2022-11-10T21:04:36.820Z"
   },
   {
    "duration": 2,
    "start_time": "2022-11-10T21:04:36.829Z"
   },
   {
    "duration": 197,
    "start_time": "2022-11-10T21:04:36.833Z"
   },
   {
    "duration": 179,
    "start_time": "2022-11-10T21:04:37.033Z"
   },
   {
    "duration": 14,
    "start_time": "2022-11-10T21:04:37.214Z"
   },
   {
    "duration": 7,
    "start_time": "2022-11-10T21:04:37.229Z"
   },
   {
    "duration": 30,
    "start_time": "2022-11-10T21:04:37.237Z"
   },
   {
    "duration": 9,
    "start_time": "2022-11-10T21:04:37.269Z"
   },
   {
    "duration": 12,
    "start_time": "2022-11-10T21:04:37.280Z"
   },
   {
    "duration": 16,
    "start_time": "2022-11-10T21:04:37.293Z"
   },
   {
    "duration": 9,
    "start_time": "2022-11-10T21:04:37.310Z"
   },
   {
    "duration": 80,
    "start_time": "2022-11-10T21:04:37.320Z"
   },
   {
    "duration": 13,
    "start_time": "2022-11-10T21:04:37.402Z"
   },
   {
    "duration": 16,
    "start_time": "2022-11-10T21:04:37.416Z"
   },
   {
    "duration": 10,
    "start_time": "2022-11-10T21:04:37.433Z"
   },
   {
    "duration": 12,
    "start_time": "2022-11-10T21:04:37.444Z"
   },
   {
    "duration": 6,
    "start_time": "2022-11-10T21:04:37.457Z"
   },
   {
    "duration": 9,
    "start_time": "2022-11-10T21:04:37.464Z"
   },
   {
    "duration": 191,
    "start_time": "2022-11-10T21:04:37.475Z"
   },
   {
    "duration": 196,
    "start_time": "2022-11-10T21:04:37.667Z"
   },
   {
    "duration": 3,
    "start_time": "2022-11-10T21:04:37.865Z"
   },
   {
    "duration": 5,
    "start_time": "2022-11-10T21:04:37.872Z"
   },
   {
    "duration": 3301,
    "start_time": "2022-11-10T21:04:37.879Z"
   },
   {
    "duration": 5,
    "start_time": "2022-11-10T21:04:41.182Z"
   },
   {
    "duration": 5,
    "start_time": "2022-11-10T21:04:41.189Z"
   },
   {
    "duration": 7,
    "start_time": "2022-11-10T21:04:41.195Z"
   },
   {
    "duration": 539,
    "start_time": "2022-11-10T21:04:41.213Z"
   },
   {
    "duration": 4,
    "start_time": "2022-11-10T21:04:41.753Z"
   },
   {
    "duration": 7,
    "start_time": "2022-11-10T21:04:41.758Z"
   },
   {
    "duration": 7,
    "start_time": "2022-11-10T21:04:41.766Z"
   },
   {
    "duration": 22,
    "start_time": "2022-11-10T21:04:41.774Z"
   },
   {
    "duration": 1317,
    "start_time": "2022-11-10T21:04:41.813Z"
   },
   {
    "duration": 29,
    "start_time": "2022-11-10T21:04:43.131Z"
   },
   {
    "duration": 1441,
    "start_time": "2022-11-10T21:04:43.161Z"
   },
   {
    "duration": 3,
    "start_time": "2022-11-10T21:04:44.604Z"
   },
   {
    "duration": 24,
    "start_time": "2022-11-10T21:04:44.613Z"
   },
   {
    "duration": 3,
    "start_time": "2022-11-10T21:04:44.639Z"
   },
   {
    "duration": 21,
    "start_time": "2022-11-10T21:04:44.643Z"
   },
   {
    "duration": 26,
    "start_time": "2022-11-10T21:04:44.666Z"
   },
   {
    "duration": 7,
    "start_time": "2022-11-10T21:04:44.694Z"
   },
   {
    "duration": 7,
    "start_time": "2022-11-10T21:04:44.703Z"
   },
   {
    "duration": 7,
    "start_time": "2022-11-10T21:04:44.712Z"
   },
   {
    "duration": 8,
    "start_time": "2022-11-10T21:04:44.720Z"
   },
   {
    "duration": 7,
    "start_time": "2022-11-10T21:04:44.729Z"
   },
   {
    "duration": 5,
    "start_time": "2022-11-10T21:04:44.738Z"
   },
   {
    "duration": 4,
    "start_time": "2022-11-10T21:04:44.745Z"
   },
   {
    "duration": 8,
    "start_time": "2022-11-10T21:04:44.751Z"
   },
   {
    "duration": 5,
    "start_time": "2022-11-10T21:04:44.760Z"
   },
   {
    "duration": 6,
    "start_time": "2022-11-10T21:04:44.766Z"
   },
   {
    "duration": 6,
    "start_time": "2022-11-10T21:04:44.773Z"
   },
   {
    "duration": 4,
    "start_time": "2022-11-10T21:04:44.781Z"
   },
   {
    "duration": 5,
    "start_time": "2022-11-10T21:04:44.787Z"
   },
   {
    "duration": 19,
    "start_time": "2022-11-10T21:04:44.794Z"
   },
   {
    "duration": 15,
    "start_time": "2022-11-10T21:04:44.815Z"
   },
   {
    "duration": 17,
    "start_time": "2022-11-10T21:04:44.832Z"
   },
   {
    "duration": 4,
    "start_time": "2022-11-10T21:04:44.851Z"
   },
   {
    "duration": 15,
    "start_time": "2022-11-10T21:04:44.857Z"
   },
   {
    "duration": 4,
    "start_time": "2022-11-10T21:04:44.874Z"
   },
   {
    "duration": 38,
    "start_time": "2022-11-10T21:04:44.880Z"
   },
   {
    "duration": 3,
    "start_time": "2022-11-10T21:04:44.920Z"
   },
   {
    "duration": 12,
    "start_time": "2022-11-10T21:04:44.925Z"
   },
   {
    "duration": 518981,
    "start_time": "2022-11-10T21:04:44.939Z"
   },
   {
    "duration": 92,
    "start_time": "2022-11-10T21:13:23.922Z"
   },
   {
    "duration": 10,
    "start_time": "2022-11-10T21:13:24.016Z"
   },
   {
    "duration": 5,
    "start_time": "2022-11-10T21:21:34.166Z"
   },
   {
    "duration": 11,
    "start_time": "2022-11-10T21:21:34.175Z"
   },
   {
    "duration": 8,
    "start_time": "2022-11-10T21:21:34.188Z"
   },
   {
    "duration": 637,
    "start_time": "2022-11-10T21:21:34.197Z"
   },
   {
    "duration": 49,
    "start_time": "2022-11-10T21:21:34.835Z"
   },
   {
    "duration": 3,
    "start_time": "2022-11-10T21:21:34.885Z"
   },
   {
    "duration": 24,
    "start_time": "2022-11-10T21:21:34.889Z"
   },
   {
    "duration": 3,
    "start_time": "2022-11-10T21:21:34.914Z"
   },
   {
    "duration": 183,
    "start_time": "2022-11-10T21:21:34.918Z"
   },
   {
    "duration": 177,
    "start_time": "2022-11-10T21:21:35.102Z"
   },
   {
    "duration": 5,
    "start_time": "2022-11-10T21:21:35.280Z"
   },
   {
    "duration": 6,
    "start_time": "2022-11-10T21:21:35.286Z"
   },
   {
    "duration": 29,
    "start_time": "2022-11-10T21:21:35.294Z"
   },
   {
    "duration": 7,
    "start_time": "2022-11-10T21:21:35.325Z"
   },
   {
    "duration": 7,
    "start_time": "2022-11-10T21:21:35.334Z"
   },
   {
    "duration": 12,
    "start_time": "2022-11-10T21:21:35.342Z"
   },
   {
    "duration": 3,
    "start_time": "2022-11-10T21:21:35.356Z"
   },
   {
    "duration": 7,
    "start_time": "2022-11-10T21:21:35.361Z"
   },
   {
    "duration": 7,
    "start_time": "2022-11-10T21:21:35.370Z"
   },
   {
    "duration": 39,
    "start_time": "2022-11-10T21:21:35.379Z"
   },
   {
    "duration": 7,
    "start_time": "2022-11-10T21:21:35.419Z"
   },
   {
    "duration": 8,
    "start_time": "2022-11-10T21:21:35.428Z"
   },
   {
    "duration": 4,
    "start_time": "2022-11-10T21:21:35.438Z"
   },
   {
    "duration": 5,
    "start_time": "2022-11-10T21:21:35.444Z"
   },
   {
    "duration": 188,
    "start_time": "2022-11-10T21:21:35.451Z"
   },
   {
    "duration": 185,
    "start_time": "2022-11-10T21:21:35.641Z"
   },
   {
    "duration": 3,
    "start_time": "2022-11-10T21:21:35.827Z"
   },
   {
    "duration": 5,
    "start_time": "2022-11-10T21:21:35.832Z"
   },
   {
    "duration": 3230,
    "start_time": "2022-11-10T21:21:35.839Z"
   },
   {
    "duration": 4,
    "start_time": "2022-11-10T21:21:39.070Z"
   },
   {
    "duration": 6,
    "start_time": "2022-11-10T21:21:39.076Z"
   },
   {
    "duration": 9,
    "start_time": "2022-11-10T21:21:39.084Z"
   },
   {
    "duration": 550,
    "start_time": "2022-11-10T21:21:39.095Z"
   },
   {
    "duration": 3,
    "start_time": "2022-11-10T21:21:39.650Z"
   },
   {
    "duration": 5,
    "start_time": "2022-11-10T21:21:39.655Z"
   },
   {
    "duration": 4,
    "start_time": "2022-11-10T21:21:39.662Z"
   },
   {
    "duration": 20,
    "start_time": "2022-11-10T21:21:39.667Z"
   },
   {
    "duration": 1449,
    "start_time": "2022-11-10T21:21:39.689Z"
   },
   {
    "duration": 23,
    "start_time": "2022-11-10T21:21:41.139Z"
   },
   {
    "duration": 1240,
    "start_time": "2022-11-10T21:21:41.164Z"
   },
   {
    "duration": 8,
    "start_time": "2022-11-10T21:21:42.405Z"
   },
   {
    "duration": 17,
    "start_time": "2022-11-10T21:21:42.415Z"
   },
   {
    "duration": 3,
    "start_time": "2022-11-10T21:21:42.434Z"
   },
   {
    "duration": 11,
    "start_time": "2022-11-10T21:21:42.438Z"
   },
   {
    "duration": 5,
    "start_time": "2022-11-10T21:21:42.451Z"
   },
   {
    "duration": 6,
    "start_time": "2022-11-10T21:21:42.457Z"
   },
   {
    "duration": 5,
    "start_time": "2022-11-10T21:21:42.465Z"
   },
   {
    "duration": 6,
    "start_time": "2022-11-10T21:21:42.471Z"
   },
   {
    "duration": 5,
    "start_time": "2022-11-10T21:21:42.478Z"
   },
   {
    "duration": 29,
    "start_time": "2022-11-10T21:21:42.485Z"
   },
   {
    "duration": 5,
    "start_time": "2022-11-10T21:21:42.515Z"
   },
   {
    "duration": 5,
    "start_time": "2022-11-10T21:21:42.521Z"
   },
   {
    "duration": 8,
    "start_time": "2022-11-10T21:21:42.527Z"
   },
   {
    "duration": 6,
    "start_time": "2022-11-10T21:21:42.536Z"
   },
   {
    "duration": 1392,
    "start_time": "2022-11-10T21:23:23.678Z"
   },
   {
    "duration": 9,
    "start_time": "2022-11-10T21:23:25.072Z"
   },
   {
    "duration": 6,
    "start_time": "2022-11-10T21:23:25.083Z"
   },
   {
    "duration": 594,
    "start_time": "2022-11-10T21:23:25.091Z"
   },
   {
    "duration": 60,
    "start_time": "2022-11-10T21:23:25.686Z"
   },
   {
    "duration": 3,
    "start_time": "2022-11-10T21:23:25.747Z"
   },
   {
    "duration": 7,
    "start_time": "2022-11-10T21:23:25.751Z"
   },
   {
    "duration": 4,
    "start_time": "2022-11-10T21:23:25.760Z"
   },
   {
    "duration": 196,
    "start_time": "2022-11-10T21:23:25.765Z"
   },
   {
    "duration": 165,
    "start_time": "2022-11-10T21:23:25.964Z"
   },
   {
    "duration": 4,
    "start_time": "2022-11-10T21:23:26.131Z"
   },
   {
    "duration": 4,
    "start_time": "2022-11-10T21:23:26.137Z"
   },
   {
    "duration": 24,
    "start_time": "2022-11-10T21:23:26.143Z"
   },
   {
    "duration": 8,
    "start_time": "2022-11-10T21:23:26.168Z"
   },
   {
    "duration": 5,
    "start_time": "2022-11-10T21:23:26.178Z"
   },
   {
    "duration": 35,
    "start_time": "2022-11-10T21:23:26.185Z"
   },
   {
    "duration": 3,
    "start_time": "2022-11-10T21:23:26.222Z"
   },
   {
    "duration": 73,
    "start_time": "2022-11-10T21:23:26.227Z"
   },
   {
    "duration": 5,
    "start_time": "2022-11-10T21:23:26.313Z"
   },
   {
    "duration": 6,
    "start_time": "2022-11-10T21:23:26.319Z"
   },
   {
    "duration": 6,
    "start_time": "2022-11-10T21:23:26.326Z"
   },
   {
    "duration": 8,
    "start_time": "2022-11-10T21:23:26.334Z"
   },
   {
    "duration": 5,
    "start_time": "2022-11-10T21:23:26.344Z"
   },
   {
    "duration": 6,
    "start_time": "2022-11-10T21:23:26.350Z"
   },
   {
    "duration": 206,
    "start_time": "2022-11-10T21:23:26.357Z"
   },
   {
    "duration": 188,
    "start_time": "2022-11-10T21:23:26.565Z"
   },
   {
    "duration": 3,
    "start_time": "2022-11-10T21:23:26.755Z"
   },
   {
    "duration": 5,
    "start_time": "2022-11-10T21:23:26.762Z"
   },
   {
    "duration": 3197,
    "start_time": "2022-11-10T21:23:26.768Z"
   },
   {
    "duration": 5,
    "start_time": "2022-11-10T21:23:29.966Z"
   },
   {
    "duration": 5,
    "start_time": "2022-11-10T21:23:29.973Z"
   },
   {
    "duration": 6,
    "start_time": "2022-11-10T21:23:29.979Z"
   },
   {
    "duration": 642,
    "start_time": "2022-11-10T21:23:29.987Z"
   },
   {
    "duration": 3,
    "start_time": "2022-11-10T21:23:30.631Z"
   },
   {
    "duration": 37,
    "start_time": "2022-11-10T21:23:30.635Z"
   },
   {
    "duration": 27,
    "start_time": "2022-11-10T21:23:30.673Z"
   },
   {
    "duration": 43,
    "start_time": "2022-11-10T21:23:30.702Z"
   },
   {
    "duration": 1277,
    "start_time": "2022-11-10T21:23:30.747Z"
   },
   {
    "duration": 27,
    "start_time": "2022-11-10T21:23:32.025Z"
   },
   {
    "duration": 1362,
    "start_time": "2022-11-10T21:23:32.054Z"
   },
   {
    "duration": 4,
    "start_time": "2022-11-10T21:23:33.418Z"
   },
   {
    "duration": 23,
    "start_time": "2022-11-10T21:23:33.423Z"
   },
   {
    "duration": 4,
    "start_time": "2022-11-10T21:23:33.447Z"
   },
   {
    "duration": 10,
    "start_time": "2022-11-10T21:23:33.452Z"
   },
   {
    "duration": 9,
    "start_time": "2022-11-10T21:23:33.463Z"
   },
   {
    "duration": 8,
    "start_time": "2022-11-10T21:23:33.474Z"
   },
   {
    "duration": 6,
    "start_time": "2022-11-10T21:23:33.484Z"
   },
   {
    "duration": 10,
    "start_time": "2022-11-10T21:23:33.491Z"
   },
   {
    "duration": 4,
    "start_time": "2022-11-10T21:23:33.513Z"
   },
   {
    "duration": 10,
    "start_time": "2022-11-10T21:23:33.519Z"
   },
   {
    "duration": 8,
    "start_time": "2022-11-10T21:23:33.530Z"
   },
   {
    "duration": 6,
    "start_time": "2022-11-10T21:23:33.539Z"
   },
   {
    "duration": 8,
    "start_time": "2022-11-10T21:23:33.546Z"
   },
   {
    "duration": 8,
    "start_time": "2022-11-10T21:23:33.556Z"
   },
   {
    "duration": 9,
    "start_time": "2022-11-10T21:23:33.565Z"
   },
   {
    "duration": 7,
    "start_time": "2022-11-10T21:23:33.576Z"
   },
   {
    "duration": 7,
    "start_time": "2022-11-10T21:23:33.584Z"
   },
   {
    "duration": 7,
    "start_time": "2022-11-10T21:23:33.593Z"
   },
   {
    "duration": 14,
    "start_time": "2022-11-10T21:23:33.602Z"
   },
   {
    "duration": 14,
    "start_time": "2022-11-10T21:23:33.617Z"
   },
   {
    "duration": 16,
    "start_time": "2022-11-10T21:23:33.633Z"
   },
   {
    "duration": 4,
    "start_time": "2022-11-10T21:23:33.651Z"
   },
   {
    "duration": 22,
    "start_time": "2022-11-10T21:23:33.656Z"
   },
   {
    "duration": 5,
    "start_time": "2022-11-10T21:23:33.680Z"
   },
   {
    "duration": 29,
    "start_time": "2022-11-10T21:23:33.686Z"
   },
   {
    "duration": 2,
    "start_time": "2022-11-10T21:23:33.717Z"
   },
   {
    "duration": 7,
    "start_time": "2022-11-10T21:23:33.721Z"
   },
   {
    "duration": 450993,
    "start_time": "2022-11-10T21:23:33.729Z"
   },
   {
    "duration": 89,
    "start_time": "2022-11-10T21:31:04.724Z"
   },
   {
    "duration": 5,
    "start_time": "2022-11-10T21:31:04.815Z"
   },
   {
    "duration": 570605,
    "start_time": "2022-11-10T21:31:04.822Z"
   },
   {
    "duration": 85,
    "start_time": "2022-11-10T21:40:35.429Z"
   },
   {
    "duration": 210,
    "start_time": "2022-11-10T21:40:35.516Z"
   },
   {
    "duration": 286,
    "start_time": "2022-11-10T21:40:35.728Z"
   },
   {
    "duration": 4,
    "start_time": "2022-11-10T21:40:36.016Z"
   },
   {
    "duration": 297,
    "start_time": "2022-11-10T21:40:36.021Z"
   },
   {
    "duration": 5,
    "start_time": "2022-11-10T21:40:36.320Z"
   },
   {
    "duration": 95,
    "start_time": "2022-11-10T21:40:36.327Z"
   },
   {
    "duration": 1405,
    "start_time": "2022-11-10T21:47:08.995Z"
   },
   {
    "duration": 12,
    "start_time": "2022-11-10T21:47:10.403Z"
   },
   {
    "duration": 14,
    "start_time": "2022-11-10T21:47:10.417Z"
   },
   {
    "duration": 646,
    "start_time": "2022-11-10T21:47:10.433Z"
   },
   {
    "duration": 54,
    "start_time": "2022-11-10T21:47:11.081Z"
   },
   {
    "duration": 3,
    "start_time": "2022-11-10T21:47:11.137Z"
   },
   {
    "duration": 8,
    "start_time": "2022-11-10T21:47:11.141Z"
   },
   {
    "duration": 3,
    "start_time": "2022-11-10T21:47:11.151Z"
   },
   {
    "duration": 196,
    "start_time": "2022-11-10T21:47:11.155Z"
   },
   {
    "duration": 187,
    "start_time": "2022-11-10T21:47:11.354Z"
   },
   {
    "duration": 5,
    "start_time": "2022-11-10T21:47:11.542Z"
   },
   {
    "duration": 6,
    "start_time": "2022-11-10T21:47:11.549Z"
   },
   {
    "duration": 25,
    "start_time": "2022-11-10T21:47:11.556Z"
   },
   {
    "duration": 8,
    "start_time": "2022-11-10T21:47:11.582Z"
   },
   {
    "duration": 24,
    "start_time": "2022-11-10T21:47:11.592Z"
   },
   {
    "duration": 12,
    "start_time": "2022-11-10T21:47:11.617Z"
   },
   {
    "duration": 3,
    "start_time": "2022-11-10T21:47:11.631Z"
   },
   {
    "duration": 99,
    "start_time": "2022-11-10T21:47:11.636Z"
   },
   {
    "duration": 9,
    "start_time": "2022-11-10T21:47:11.737Z"
   },
   {
    "duration": 5,
    "start_time": "2022-11-10T21:47:11.747Z"
   },
   {
    "duration": 5,
    "start_time": "2022-11-10T21:47:11.753Z"
   },
   {
    "duration": 8,
    "start_time": "2022-11-10T21:47:11.760Z"
   },
   {
    "duration": 5,
    "start_time": "2022-11-10T21:47:11.770Z"
   },
   {
    "duration": 15,
    "start_time": "2022-11-10T21:47:11.777Z"
   },
   {
    "duration": 179,
    "start_time": "2022-11-10T21:47:11.813Z"
   },
   {
    "duration": 204,
    "start_time": "2022-11-10T21:47:11.994Z"
   },
   {
    "duration": 13,
    "start_time": "2022-11-10T21:47:12.200Z"
   },
   {
    "duration": 6,
    "start_time": "2022-11-10T21:47:12.217Z"
   },
   {
    "duration": 3244,
    "start_time": "2022-11-10T21:47:12.224Z"
   },
   {
    "duration": 4,
    "start_time": "2022-11-10T21:47:15.469Z"
   },
   {
    "duration": 7,
    "start_time": "2022-11-10T21:47:15.474Z"
   },
   {
    "duration": 6,
    "start_time": "2022-11-10T21:47:15.482Z"
   },
   {
    "duration": 627,
    "start_time": "2022-11-10T21:47:15.490Z"
   },
   {
    "duration": 4,
    "start_time": "2022-11-10T21:47:16.118Z"
   },
   {
    "duration": 7,
    "start_time": "2022-11-10T21:47:16.123Z"
   },
   {
    "duration": 5,
    "start_time": "2022-11-10T21:47:16.131Z"
   },
   {
    "duration": 21,
    "start_time": "2022-11-10T21:47:16.138Z"
   },
   {
    "duration": 1272,
    "start_time": "2022-11-10T21:47:16.161Z"
   },
   {
    "duration": 30,
    "start_time": "2022-11-10T21:47:17.435Z"
   },
   {
    "duration": 1449,
    "start_time": "2022-11-10T21:47:17.467Z"
   },
   {
    "duration": 4,
    "start_time": "2022-11-10T21:47:18.917Z"
   },
   {
    "duration": 17,
    "start_time": "2022-11-10T21:47:18.923Z"
   },
   {
    "duration": 4,
    "start_time": "2022-11-10T21:47:18.941Z"
   },
   {
    "duration": 20,
    "start_time": "2022-11-10T21:47:18.946Z"
   },
   {
    "duration": 4,
    "start_time": "2022-11-10T21:47:18.968Z"
   },
   {
    "duration": 5,
    "start_time": "2022-11-10T21:47:18.973Z"
   },
   {
    "duration": 6,
    "start_time": "2022-11-10T21:47:18.980Z"
   },
   {
    "duration": 8,
    "start_time": "2022-11-10T21:47:18.987Z"
   },
   {
    "duration": 12,
    "start_time": "2022-11-10T21:47:19.015Z"
   },
   {
    "duration": 19,
    "start_time": "2022-11-10T21:47:19.029Z"
   },
   {
    "duration": 13,
    "start_time": "2022-11-10T21:47:19.051Z"
   },
   {
    "duration": 7,
    "start_time": "2022-11-10T21:47:19.066Z"
   },
   {
    "duration": 6,
    "start_time": "2022-11-10T21:47:19.075Z"
   },
   {
    "duration": 9,
    "start_time": "2022-11-10T21:47:19.082Z"
   },
   {
    "duration": 8,
    "start_time": "2022-11-10T21:47:19.093Z"
   },
   {
    "duration": 19,
    "start_time": "2022-11-10T21:47:19.102Z"
   },
   {
    "duration": 18,
    "start_time": "2022-11-10T21:47:19.123Z"
   },
   {
    "duration": 4,
    "start_time": "2022-11-10T21:47:19.143Z"
   },
   {
    "duration": 16,
    "start_time": "2022-11-10T21:47:19.149Z"
   },
   {
    "duration": 6,
    "start_time": "2022-11-10T21:47:19.166Z"
   },
   {
    "duration": 11,
    "start_time": "2022-11-10T21:47:19.173Z"
   },
   {
    "duration": 27,
    "start_time": "2022-11-10T21:47:19.186Z"
   },
   {
    "duration": 5,
    "start_time": "2022-11-10T21:47:19.216Z"
   },
   {
    "duration": 406799,
    "start_time": "2022-11-10T21:47:19.223Z"
   },
   {
    "duration": 4,
    "start_time": "2022-11-10T21:54:06.113Z"
   },
   {
    "duration": 6,
    "start_time": "2022-11-10T21:54:06.119Z"
   },
   {
    "duration": 463895,
    "start_time": "2022-11-10T21:54:06.127Z"
   },
   {
    "duration": 4,
    "start_time": "2022-11-10T22:01:50.112Z"
   },
   {
    "duration": 204,
    "start_time": "2022-11-10T22:01:50.118Z"
   },
   {
    "duration": 391,
    "start_time": "2022-11-10T22:01:50.323Z"
   },
   {
    "duration": 3,
    "start_time": "2022-11-10T22:01:50.716Z"
   },
   {
    "duration": 293,
    "start_time": "2022-11-10T22:01:50.721Z"
   },
   {
    "duration": 5,
    "start_time": "2022-11-10T22:01:51.015Z"
   },
   {
    "duration": 9,
    "start_time": "2022-11-10T22:01:51.021Z"
   }
  ],
  "kernelspec": {
   "display_name": "Python 3 (ipykernel)",
   "language": "python",
   "name": "python3"
  },
  "language_info": {
   "codemirror_mode": {
    "name": "ipython",
    "version": 3
   },
   "file_extension": ".py",
   "mimetype": "text/x-python",
   "name": "python",
   "nbconvert_exporter": "python",
   "pygments_lexer": "ipython3",
   "version": "3.9.5"
  },
  "toc": {
   "base_numbering": 1,
   "nav_menu": {},
   "number_sections": true,
   "sideBar": true,
   "skip_h1_title": true,
   "title_cell": "Содержание",
   "title_sidebar": "Contents",
   "toc_cell": true,
   "toc_position": {
    "height": "calc(100% - 180px)",
    "left": "10px",
    "top": "150px",
    "width": "165px"
   },
   "toc_section_display": true,
   "toc_window_display": true
  }
 },
 "nbformat": 4,
 "nbformat_minor": 2
}

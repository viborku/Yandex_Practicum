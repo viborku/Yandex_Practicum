{
 "cells": [
  {
   "cell_type": "markdown",
   "metadata": {
    "toc": true
   },
   "source": [
    "<h1>Содержание<span class=\"tocSkip\"></span></h1>\n",
    "<div class=\"toc\"><ul class=\"toc-item\"><li><span><a href=\"#Подготовка-данных\" data-toc-modified-id=\"Подготовка-данных-1\"><span class=\"toc-item-num\">1&nbsp;&nbsp;</span>Подготовка данных</a></span></li><li><span><a href=\"#Исследование-задачи\" data-toc-modified-id=\"Исследование-задачи-2\"><span class=\"toc-item-num\">2&nbsp;&nbsp;</span>Исследование задачи</a></span></li><li><span><a href=\"#Борьба-с-дисбалансом\" data-toc-modified-id=\"Борьба-с-дисбалансом-3\"><span class=\"toc-item-num\">3&nbsp;&nbsp;</span>Борьба с дисбалансом</a></span></li><li><span><a href=\"#Тестирование-модели\" data-toc-modified-id=\"Тестирование-модели-4\"><span class=\"toc-item-num\">4&nbsp;&nbsp;</span>Тестирование модели</a></span></li></ul></div>"
   ]
  },
  {
   "cell_type": "markdown",
   "metadata": {},
   "source": [
    "# Отток клиентов"
   ]
  },
  {
   "cell_type": "raw",
   "metadata": {},
   "source": [
    "Из «Бета-Банка» стали уходить клиенты. Каждый месяц. Немного, но заметно. Банковские маркетологи посчитали: сохранять текущих клиентов дешевле, чем привлекать новых.\n",
    "\n",
    "Нужно спрогнозировать, уйдёт клиент из банка в ближайшее время или нет. Вам предоставлены исторические данные о поведении клиентов и расторжении договоров с банком. \n",
    "\n",
    "Постройте модель с предельно большим значением *F1*-меры. Чтобы сдать проект успешно, нужно довести метрику до 0.59. Проверьте *F1*-меру на тестовой выборке самостоятельно.\n",
    "\n",
    "Дополнительно измеряйте *AUC-ROC*, сравнивайте её значение с *F1*-мерой.\n",
    "\n",
    "Источник данных: [https://www.kaggle.com/barelydedicated/bank-customer-churn-modeling](https://www.kaggle.com/barelydedicated/bank-customer-churn-modeling)\n",
    "\n",
    "Описание данных\n",
    "\n",
    "Данные находятся в файле /datasets/Churn.csv (англ. «отток клиентов»). Скачать датасет\n",
    "\n",
    "Признаки\n",
    "\n",
    "RowNumber — индекс строки в данных\n",
    "CustomerId — уникальный идентификатор клиента\n",
    "Surname — фамилия\n",
    "CreditScore — кредитный рейтинг\n",
    "Geography — страна проживания\n",
    "Gender — пол\n",
    "Age — возраст\n",
    "Tenure — количество недвижимости у клиента\n",
    "Balance — баланс на счёте\n",
    "NumOfProducts — количество продуктов банка, используемых клиентом\n",
    "HasCrCard — наличие кредитной карты\n",
    "IsActiveMember — активность клиента\n",
    "EstimatedSalary — предполагаемая зарплата\n",
    "Целевой признак\n",
    "Exited — факт ухода клиента"
   ]
  },
  {
   "cell_type": "markdown",
   "metadata": {},
   "source": [
    "Описание данных\n",
    "\n",
    "Данные находятся в файле /datasets/Churn.csv (англ. «отток клиентов»).\n",
    "\n",
    "Признаки\n",
    "\n",
    "- RowNumber — индекс строки в данных \n",
    "- CustomerId — уникальный идентификатор клиента \n",
    "- Surname — фамилия \n",
    "- CreditScore — кредитный рейтинг \n",
    "- Geography — страна проживания Gender — пол \n",
    "- Age — возраст \n",
    "- Tenure — количество недвижимости у клиента \n",
    "- Balance — баланс на счёте \n",
    "- NumOfProducts — количество продуктов банка, используемых клиентом \n",
    "- HasCrCard — наличие кредитной карты \n",
    "- IsActiveMember — активность клиента \n",
    "- EstimatedSalary — предполагаемая зарплата Целевой признак \n",
    "- Exited — факт ухода клиента"
   ]
  },
  {
   "cell_type": "markdown",
   "metadata": {},
   "source": [
    "## Подготовка данных"
   ]
  },
  {
   "cell_type": "code",
   "execution_count": 1,
   "metadata": {},
   "outputs": [],
   "source": [
    "#Подключим все необходимые библиотеки для нашего проекта\n",
    "\n",
    "import numpy as np\n",
    "import pandas as pd \n",
    "import IPython\n",
    "from IPython.display import display\n",
    "import re\n",
    "import warnings\n",
    "warnings.simplefilter('ignore')\n",
    "\n",
    "import seaborn as sns\n",
    "import matplotlib.pyplot as plt\n",
    "import plotly.graph_objects as go\n",
    "import plotly.express as px\n",
    "import numpy as np\n",
    "import matplotlib.pyplot as plt\n",
    "from tqdm.notebook import trange, tqdm\n",
    "from sklearn.metrics import  (\n",
    "    accuracy_score, f1_score, roc_auc_score, roc_curve, confusion_matrix, precision_recall_curve, precision_score,\n",
    "    recall_score)\n",
    "from sklearn.pipeline import Pipeline\n",
    "from sklearn.model_selection import train_test_split, KFold, cross_validate, cross_val_score, GridSearchCV\n",
    "from sklearn.utils import shuffle\n",
    "from sklearn.preprocessing import StandardScaler\n",
    "\n",
    "from sklearn.dummy import DummyClassifier\n",
    "from sklearn.neighbors import KNeighborsClassifier\n",
    "from sklearn.tree import DecisionTreeClassifier\n",
    "from sklearn.ensemble import RandomForestClassifier\n",
    "from sklearn.linear_model import LogisticRegression"
   ]
  },
  {
   "cell_type": "code",
   "execution_count": 2,
   "metadata": {
    "scrolled": false
   },
   "outputs": [
    {
     "data": {
      "text/html": [
       "<div>\n",
       "<style scoped>\n",
       "    .dataframe tbody tr th:only-of-type {\n",
       "        vertical-align: middle;\n",
       "    }\n",
       "\n",
       "    .dataframe tbody tr th {\n",
       "        vertical-align: top;\n",
       "    }\n",
       "\n",
       "    .dataframe thead th {\n",
       "        text-align: right;\n",
       "    }\n",
       "</style>\n",
       "<table border=\"1\" class=\"dataframe\">\n",
       "  <thead>\n",
       "    <tr style=\"text-align: right;\">\n",
       "      <th></th>\n",
       "      <th>RowNumber</th>\n",
       "      <th>CustomerId</th>\n",
       "      <th>Surname</th>\n",
       "      <th>CreditScore</th>\n",
       "      <th>Geography</th>\n",
       "      <th>Gender</th>\n",
       "      <th>Age</th>\n",
       "      <th>Tenure</th>\n",
       "      <th>Balance</th>\n",
       "      <th>NumOfProducts</th>\n",
       "      <th>HasCrCard</th>\n",
       "      <th>IsActiveMember</th>\n",
       "      <th>EstimatedSalary</th>\n",
       "      <th>Exited</th>\n",
       "    </tr>\n",
       "  </thead>\n",
       "  <tbody>\n",
       "    <tr>\n",
       "      <th>0</th>\n",
       "      <td>1</td>\n",
       "      <td>15634602</td>\n",
       "      <td>Hargrave</td>\n",
       "      <td>619</td>\n",
       "      <td>France</td>\n",
       "      <td>Female</td>\n",
       "      <td>42</td>\n",
       "      <td>2.0</td>\n",
       "      <td>0.00</td>\n",
       "      <td>1</td>\n",
       "      <td>1</td>\n",
       "      <td>1</td>\n",
       "      <td>101348.88</td>\n",
       "      <td>1</td>\n",
       "    </tr>\n",
       "    <tr>\n",
       "      <th>1</th>\n",
       "      <td>2</td>\n",
       "      <td>15647311</td>\n",
       "      <td>Hill</td>\n",
       "      <td>608</td>\n",
       "      <td>Spain</td>\n",
       "      <td>Female</td>\n",
       "      <td>41</td>\n",
       "      <td>1.0</td>\n",
       "      <td>83807.86</td>\n",
       "      <td>1</td>\n",
       "      <td>0</td>\n",
       "      <td>1</td>\n",
       "      <td>112542.58</td>\n",
       "      <td>0</td>\n",
       "    </tr>\n",
       "    <tr>\n",
       "      <th>2</th>\n",
       "      <td>3</td>\n",
       "      <td>15619304</td>\n",
       "      <td>Onio</td>\n",
       "      <td>502</td>\n",
       "      <td>France</td>\n",
       "      <td>Female</td>\n",
       "      <td>42</td>\n",
       "      <td>8.0</td>\n",
       "      <td>159660.80</td>\n",
       "      <td>3</td>\n",
       "      <td>1</td>\n",
       "      <td>0</td>\n",
       "      <td>113931.57</td>\n",
       "      <td>1</td>\n",
       "    </tr>\n",
       "    <tr>\n",
       "      <th>3</th>\n",
       "      <td>4</td>\n",
       "      <td>15701354</td>\n",
       "      <td>Boni</td>\n",
       "      <td>699</td>\n",
       "      <td>France</td>\n",
       "      <td>Female</td>\n",
       "      <td>39</td>\n",
       "      <td>1.0</td>\n",
       "      <td>0.00</td>\n",
       "      <td>2</td>\n",
       "      <td>0</td>\n",
       "      <td>0</td>\n",
       "      <td>93826.63</td>\n",
       "      <td>0</td>\n",
       "    </tr>\n",
       "    <tr>\n",
       "      <th>4</th>\n",
       "      <td>5</td>\n",
       "      <td>15737888</td>\n",
       "      <td>Mitchell</td>\n",
       "      <td>850</td>\n",
       "      <td>Spain</td>\n",
       "      <td>Female</td>\n",
       "      <td>43</td>\n",
       "      <td>2.0</td>\n",
       "      <td>125510.82</td>\n",
       "      <td>1</td>\n",
       "      <td>1</td>\n",
       "      <td>1</td>\n",
       "      <td>79084.10</td>\n",
       "      <td>0</td>\n",
       "    </tr>\n",
       "  </tbody>\n",
       "</table>\n",
       "</div>"
      ],
      "text/plain": [
       "   RowNumber  CustomerId   Surname  CreditScore Geography  Gender  Age  \\\n",
       "0          1    15634602  Hargrave          619    France  Female   42   \n",
       "1          2    15647311      Hill          608     Spain  Female   41   \n",
       "2          3    15619304      Onio          502    France  Female   42   \n",
       "3          4    15701354      Boni          699    France  Female   39   \n",
       "4          5    15737888  Mitchell          850     Spain  Female   43   \n",
       "\n",
       "   Tenure    Balance  NumOfProducts  HasCrCard  IsActiveMember  \\\n",
       "0     2.0       0.00              1          1               1   \n",
       "1     1.0   83807.86              1          0               1   \n",
       "2     8.0  159660.80              3          1               0   \n",
       "3     1.0       0.00              2          0               0   \n",
       "4     2.0  125510.82              1          1               1   \n",
       "\n",
       "   EstimatedSalary  Exited  \n",
       "0        101348.88       1  \n",
       "1        112542.58       0  \n",
       "2        113931.57       1  \n",
       "3         93826.63       0  \n",
       "4         79084.10       0  "
      ]
     },
     "metadata": {},
     "output_type": "display_data"
    },
    {
     "data": {
      "text/html": [
       "<div>\n",
       "<style scoped>\n",
       "    .dataframe tbody tr th:only-of-type {\n",
       "        vertical-align: middle;\n",
       "    }\n",
       "\n",
       "    .dataframe tbody tr th {\n",
       "        vertical-align: top;\n",
       "    }\n",
       "\n",
       "    .dataframe thead th {\n",
       "        text-align: right;\n",
       "    }\n",
       "</style>\n",
       "<table border=\"1\" class=\"dataframe\">\n",
       "  <thead>\n",
       "    <tr style=\"text-align: right;\">\n",
       "      <th></th>\n",
       "      <th>RowNumber</th>\n",
       "      <th>CustomerId</th>\n",
       "      <th>Surname</th>\n",
       "      <th>CreditScore</th>\n",
       "      <th>Geography</th>\n",
       "      <th>Gender</th>\n",
       "      <th>Age</th>\n",
       "      <th>Tenure</th>\n",
       "      <th>Balance</th>\n",
       "      <th>NumOfProducts</th>\n",
       "      <th>HasCrCard</th>\n",
       "      <th>IsActiveMember</th>\n",
       "      <th>EstimatedSalary</th>\n",
       "      <th>Exited</th>\n",
       "    </tr>\n",
       "  </thead>\n",
       "  <tbody>\n",
       "    <tr>\n",
       "      <th>9995</th>\n",
       "      <td>9996</td>\n",
       "      <td>15606229</td>\n",
       "      <td>Obijiaku</td>\n",
       "      <td>771</td>\n",
       "      <td>France</td>\n",
       "      <td>Male</td>\n",
       "      <td>39</td>\n",
       "      <td>5.0</td>\n",
       "      <td>0.00</td>\n",
       "      <td>2</td>\n",
       "      <td>1</td>\n",
       "      <td>0</td>\n",
       "      <td>96270.64</td>\n",
       "      <td>0</td>\n",
       "    </tr>\n",
       "    <tr>\n",
       "      <th>9996</th>\n",
       "      <td>9997</td>\n",
       "      <td>15569892</td>\n",
       "      <td>Johnstone</td>\n",
       "      <td>516</td>\n",
       "      <td>France</td>\n",
       "      <td>Male</td>\n",
       "      <td>35</td>\n",
       "      <td>10.0</td>\n",
       "      <td>57369.61</td>\n",
       "      <td>1</td>\n",
       "      <td>1</td>\n",
       "      <td>1</td>\n",
       "      <td>101699.77</td>\n",
       "      <td>0</td>\n",
       "    </tr>\n",
       "    <tr>\n",
       "      <th>9997</th>\n",
       "      <td>9998</td>\n",
       "      <td>15584532</td>\n",
       "      <td>Liu</td>\n",
       "      <td>709</td>\n",
       "      <td>France</td>\n",
       "      <td>Female</td>\n",
       "      <td>36</td>\n",
       "      <td>7.0</td>\n",
       "      <td>0.00</td>\n",
       "      <td>1</td>\n",
       "      <td>0</td>\n",
       "      <td>1</td>\n",
       "      <td>42085.58</td>\n",
       "      <td>1</td>\n",
       "    </tr>\n",
       "    <tr>\n",
       "      <th>9998</th>\n",
       "      <td>9999</td>\n",
       "      <td>15682355</td>\n",
       "      <td>Sabbatini</td>\n",
       "      <td>772</td>\n",
       "      <td>Germany</td>\n",
       "      <td>Male</td>\n",
       "      <td>42</td>\n",
       "      <td>3.0</td>\n",
       "      <td>75075.31</td>\n",
       "      <td>2</td>\n",
       "      <td>1</td>\n",
       "      <td>0</td>\n",
       "      <td>92888.52</td>\n",
       "      <td>1</td>\n",
       "    </tr>\n",
       "    <tr>\n",
       "      <th>9999</th>\n",
       "      <td>10000</td>\n",
       "      <td>15628319</td>\n",
       "      <td>Walker</td>\n",
       "      <td>792</td>\n",
       "      <td>France</td>\n",
       "      <td>Female</td>\n",
       "      <td>28</td>\n",
       "      <td>NaN</td>\n",
       "      <td>130142.79</td>\n",
       "      <td>1</td>\n",
       "      <td>1</td>\n",
       "      <td>0</td>\n",
       "      <td>38190.78</td>\n",
       "      <td>0</td>\n",
       "    </tr>\n",
       "  </tbody>\n",
       "</table>\n",
       "</div>"
      ],
      "text/plain": [
       "      RowNumber  CustomerId    Surname  CreditScore Geography  Gender  Age  \\\n",
       "9995       9996    15606229   Obijiaku          771    France    Male   39   \n",
       "9996       9997    15569892  Johnstone          516    France    Male   35   \n",
       "9997       9998    15584532        Liu          709    France  Female   36   \n",
       "9998       9999    15682355  Sabbatini          772   Germany    Male   42   \n",
       "9999      10000    15628319     Walker          792    France  Female   28   \n",
       "\n",
       "      Tenure    Balance  NumOfProducts  HasCrCard  IsActiveMember  \\\n",
       "9995     5.0       0.00              2          1               0   \n",
       "9996    10.0   57369.61              1          1               1   \n",
       "9997     7.0       0.00              1          0               1   \n",
       "9998     3.0   75075.31              2          1               0   \n",
       "9999     NaN  130142.79              1          1               0   \n",
       "\n",
       "      EstimatedSalary  Exited  \n",
       "9995         96270.64       0  \n",
       "9996        101699.77       0  \n",
       "9997         42085.58       1  \n",
       "9998         92888.52       1  \n",
       "9999         38190.78       0  "
      ]
     },
     "metadata": {},
     "output_type": "display_data"
    }
   ],
   "source": [
    "#Загрузим файл и Посмотрим как выглядит датасет\n",
    "data = pd.read_csv('/datasets/Churn.csv')\n",
    "display(data.head(5))\n",
    "display(data.tail(5))"
   ]
  },
  {
   "cell_type": "markdown",
   "metadata": {},
   "source": [
    "Первые три столбца (номер, id и фамилия клиента, никак не повлияют на принятие решения по уходу из банка, и их можно будет удалить из датасета для ускориния работы кода."
   ]
  },
  {
   "cell_type": "code",
   "execution_count": 3,
   "metadata": {
    "scrolled": true
   },
   "outputs": [
    {
     "data": {
      "text/html": [
       "<div>\n",
       "<style scoped>\n",
       "    .dataframe tbody tr th:only-of-type {\n",
       "        vertical-align: middle;\n",
       "    }\n",
       "\n",
       "    .dataframe tbody tr th {\n",
       "        vertical-align: top;\n",
       "    }\n",
       "\n",
       "    .dataframe thead th {\n",
       "        text-align: right;\n",
       "    }\n",
       "</style>\n",
       "<table border=\"1\" class=\"dataframe\">\n",
       "  <thead>\n",
       "    <tr style=\"text-align: right;\">\n",
       "      <th></th>\n",
       "      <th>CreditScore</th>\n",
       "      <th>Geography</th>\n",
       "      <th>Gender</th>\n",
       "      <th>Age</th>\n",
       "      <th>Tenure</th>\n",
       "      <th>Balance</th>\n",
       "      <th>NumOfProducts</th>\n",
       "      <th>HasCrCard</th>\n",
       "      <th>IsActiveMember</th>\n",
       "      <th>EstimatedSalary</th>\n",
       "      <th>Exited</th>\n",
       "    </tr>\n",
       "  </thead>\n",
       "  <tbody>\n",
       "    <tr>\n",
       "      <th>0</th>\n",
       "      <td>619</td>\n",
       "      <td>France</td>\n",
       "      <td>Female</td>\n",
       "      <td>42</td>\n",
       "      <td>2.0</td>\n",
       "      <td>0.00</td>\n",
       "      <td>1</td>\n",
       "      <td>1</td>\n",
       "      <td>1</td>\n",
       "      <td>101348.88</td>\n",
       "      <td>1</td>\n",
       "    </tr>\n",
       "    <tr>\n",
       "      <th>1</th>\n",
       "      <td>608</td>\n",
       "      <td>Spain</td>\n",
       "      <td>Female</td>\n",
       "      <td>41</td>\n",
       "      <td>1.0</td>\n",
       "      <td>83807.86</td>\n",
       "      <td>1</td>\n",
       "      <td>0</td>\n",
       "      <td>1</td>\n",
       "      <td>112542.58</td>\n",
       "      <td>0</td>\n",
       "    </tr>\n",
       "    <tr>\n",
       "      <th>2</th>\n",
       "      <td>502</td>\n",
       "      <td>France</td>\n",
       "      <td>Female</td>\n",
       "      <td>42</td>\n",
       "      <td>8.0</td>\n",
       "      <td>159660.80</td>\n",
       "      <td>3</td>\n",
       "      <td>1</td>\n",
       "      <td>0</td>\n",
       "      <td>113931.57</td>\n",
       "      <td>1</td>\n",
       "    </tr>\n",
       "    <tr>\n",
       "      <th>3</th>\n",
       "      <td>699</td>\n",
       "      <td>France</td>\n",
       "      <td>Female</td>\n",
       "      <td>39</td>\n",
       "      <td>1.0</td>\n",
       "      <td>0.00</td>\n",
       "      <td>2</td>\n",
       "      <td>0</td>\n",
       "      <td>0</td>\n",
       "      <td>93826.63</td>\n",
       "      <td>0</td>\n",
       "    </tr>\n",
       "    <tr>\n",
       "      <th>4</th>\n",
       "      <td>850</td>\n",
       "      <td>Spain</td>\n",
       "      <td>Female</td>\n",
       "      <td>43</td>\n",
       "      <td>2.0</td>\n",
       "      <td>125510.82</td>\n",
       "      <td>1</td>\n",
       "      <td>1</td>\n",
       "      <td>1</td>\n",
       "      <td>79084.10</td>\n",
       "      <td>0</td>\n",
       "    </tr>\n",
       "    <tr>\n",
       "      <th>...</th>\n",
       "      <td>...</td>\n",
       "      <td>...</td>\n",
       "      <td>...</td>\n",
       "      <td>...</td>\n",
       "      <td>...</td>\n",
       "      <td>...</td>\n",
       "      <td>...</td>\n",
       "      <td>...</td>\n",
       "      <td>...</td>\n",
       "      <td>...</td>\n",
       "      <td>...</td>\n",
       "    </tr>\n",
       "    <tr>\n",
       "      <th>9995</th>\n",
       "      <td>771</td>\n",
       "      <td>France</td>\n",
       "      <td>Male</td>\n",
       "      <td>39</td>\n",
       "      <td>5.0</td>\n",
       "      <td>0.00</td>\n",
       "      <td>2</td>\n",
       "      <td>1</td>\n",
       "      <td>0</td>\n",
       "      <td>96270.64</td>\n",
       "      <td>0</td>\n",
       "    </tr>\n",
       "    <tr>\n",
       "      <th>9996</th>\n",
       "      <td>516</td>\n",
       "      <td>France</td>\n",
       "      <td>Male</td>\n",
       "      <td>35</td>\n",
       "      <td>10.0</td>\n",
       "      <td>57369.61</td>\n",
       "      <td>1</td>\n",
       "      <td>1</td>\n",
       "      <td>1</td>\n",
       "      <td>101699.77</td>\n",
       "      <td>0</td>\n",
       "    </tr>\n",
       "    <tr>\n",
       "      <th>9997</th>\n",
       "      <td>709</td>\n",
       "      <td>France</td>\n",
       "      <td>Female</td>\n",
       "      <td>36</td>\n",
       "      <td>7.0</td>\n",
       "      <td>0.00</td>\n",
       "      <td>1</td>\n",
       "      <td>0</td>\n",
       "      <td>1</td>\n",
       "      <td>42085.58</td>\n",
       "      <td>1</td>\n",
       "    </tr>\n",
       "    <tr>\n",
       "      <th>9998</th>\n",
       "      <td>772</td>\n",
       "      <td>Germany</td>\n",
       "      <td>Male</td>\n",
       "      <td>42</td>\n",
       "      <td>3.0</td>\n",
       "      <td>75075.31</td>\n",
       "      <td>2</td>\n",
       "      <td>1</td>\n",
       "      <td>0</td>\n",
       "      <td>92888.52</td>\n",
       "      <td>1</td>\n",
       "    </tr>\n",
       "    <tr>\n",
       "      <th>9999</th>\n",
       "      <td>792</td>\n",
       "      <td>France</td>\n",
       "      <td>Female</td>\n",
       "      <td>28</td>\n",
       "      <td>NaN</td>\n",
       "      <td>130142.79</td>\n",
       "      <td>1</td>\n",
       "      <td>1</td>\n",
       "      <td>0</td>\n",
       "      <td>38190.78</td>\n",
       "      <td>0</td>\n",
       "    </tr>\n",
       "  </tbody>\n",
       "</table>\n",
       "<p>10000 rows × 11 columns</p>\n",
       "</div>"
      ],
      "text/plain": [
       "      CreditScore Geography  Gender  Age  Tenure    Balance  NumOfProducts  \\\n",
       "0             619    France  Female   42     2.0       0.00              1   \n",
       "1             608     Spain  Female   41     1.0   83807.86              1   \n",
       "2             502    France  Female   42     8.0  159660.80              3   \n",
       "3             699    France  Female   39     1.0       0.00              2   \n",
       "4             850     Spain  Female   43     2.0  125510.82              1   \n",
       "...           ...       ...     ...  ...     ...        ...            ...   \n",
       "9995          771    France    Male   39     5.0       0.00              2   \n",
       "9996          516    France    Male   35    10.0   57369.61              1   \n",
       "9997          709    France  Female   36     7.0       0.00              1   \n",
       "9998          772   Germany    Male   42     3.0   75075.31              2   \n",
       "9999          792    France  Female   28     NaN  130142.79              1   \n",
       "\n",
       "      HasCrCard  IsActiveMember  EstimatedSalary  Exited  \n",
       "0             1               1        101348.88       1  \n",
       "1             0               1        112542.58       0  \n",
       "2             1               0        113931.57       1  \n",
       "3             0               0         93826.63       0  \n",
       "4             1               1         79084.10       0  \n",
       "...         ...             ...              ...     ...  \n",
       "9995          1               0         96270.64       0  \n",
       "9996          1               1        101699.77       0  \n",
       "9997          0               1         42085.58       1  \n",
       "9998          1               0         92888.52       1  \n",
       "9999          1               0         38190.78       0  \n",
       "\n",
       "[10000 rows x 11 columns]"
      ]
     },
     "execution_count": 3,
     "metadata": {},
     "output_type": "execute_result"
    }
   ],
   "source": [
    "data = data.iloc[:,3:]\n",
    "data"
   ]
  },
  {
   "cell_type": "markdown",
   "metadata": {},
   "source": [
    "Преобразуем имена колонок"
   ]
  },
  {
   "cell_type": "code",
   "execution_count": 4,
   "metadata": {},
   "outputs": [
    {
     "data": {
      "text/html": [
       "<div>\n",
       "<style scoped>\n",
       "    .dataframe tbody tr th:only-of-type {\n",
       "        vertical-align: middle;\n",
       "    }\n",
       "\n",
       "    .dataframe tbody tr th {\n",
       "        vertical-align: top;\n",
       "    }\n",
       "\n",
       "    .dataframe thead th {\n",
       "        text-align: right;\n",
       "    }\n",
       "</style>\n",
       "<table border=\"1\" class=\"dataframe\">\n",
       "  <thead>\n",
       "    <tr style=\"text-align: right;\">\n",
       "      <th></th>\n",
       "      <th>credit_score</th>\n",
       "      <th>geography</th>\n",
       "      <th>gender</th>\n",
       "      <th>age</th>\n",
       "      <th>tenure</th>\n",
       "      <th>balance</th>\n",
       "      <th>num_of_products</th>\n",
       "      <th>has_cr_card</th>\n",
       "      <th>is_active_member</th>\n",
       "      <th>estimated_salary</th>\n",
       "      <th>exited</th>\n",
       "    </tr>\n",
       "  </thead>\n",
       "  <tbody>\n",
       "    <tr>\n",
       "      <th>0</th>\n",
       "      <td>619</td>\n",
       "      <td>France</td>\n",
       "      <td>Female</td>\n",
       "      <td>42</td>\n",
       "      <td>2.0</td>\n",
       "      <td>0.00</td>\n",
       "      <td>1</td>\n",
       "      <td>1</td>\n",
       "      <td>1</td>\n",
       "      <td>101348.88</td>\n",
       "      <td>1</td>\n",
       "    </tr>\n",
       "    <tr>\n",
       "      <th>1</th>\n",
       "      <td>608</td>\n",
       "      <td>Spain</td>\n",
       "      <td>Female</td>\n",
       "      <td>41</td>\n",
       "      <td>1.0</td>\n",
       "      <td>83807.86</td>\n",
       "      <td>1</td>\n",
       "      <td>0</td>\n",
       "      <td>1</td>\n",
       "      <td>112542.58</td>\n",
       "      <td>0</td>\n",
       "    </tr>\n",
       "    <tr>\n",
       "      <th>2</th>\n",
       "      <td>502</td>\n",
       "      <td>France</td>\n",
       "      <td>Female</td>\n",
       "      <td>42</td>\n",
       "      <td>8.0</td>\n",
       "      <td>159660.80</td>\n",
       "      <td>3</td>\n",
       "      <td>1</td>\n",
       "      <td>0</td>\n",
       "      <td>113931.57</td>\n",
       "      <td>1</td>\n",
       "    </tr>\n",
       "    <tr>\n",
       "      <th>3</th>\n",
       "      <td>699</td>\n",
       "      <td>France</td>\n",
       "      <td>Female</td>\n",
       "      <td>39</td>\n",
       "      <td>1.0</td>\n",
       "      <td>0.00</td>\n",
       "      <td>2</td>\n",
       "      <td>0</td>\n",
       "      <td>0</td>\n",
       "      <td>93826.63</td>\n",
       "      <td>0</td>\n",
       "    </tr>\n",
       "    <tr>\n",
       "      <th>4</th>\n",
       "      <td>850</td>\n",
       "      <td>Spain</td>\n",
       "      <td>Female</td>\n",
       "      <td>43</td>\n",
       "      <td>2.0</td>\n",
       "      <td>125510.82</td>\n",
       "      <td>1</td>\n",
       "      <td>1</td>\n",
       "      <td>1</td>\n",
       "      <td>79084.10</td>\n",
       "      <td>0</td>\n",
       "    </tr>\n",
       "    <tr>\n",
       "      <th>...</th>\n",
       "      <td>...</td>\n",
       "      <td>...</td>\n",
       "      <td>...</td>\n",
       "      <td>...</td>\n",
       "      <td>...</td>\n",
       "      <td>...</td>\n",
       "      <td>...</td>\n",
       "      <td>...</td>\n",
       "      <td>...</td>\n",
       "      <td>...</td>\n",
       "      <td>...</td>\n",
       "    </tr>\n",
       "    <tr>\n",
       "      <th>9995</th>\n",
       "      <td>771</td>\n",
       "      <td>France</td>\n",
       "      <td>Male</td>\n",
       "      <td>39</td>\n",
       "      <td>5.0</td>\n",
       "      <td>0.00</td>\n",
       "      <td>2</td>\n",
       "      <td>1</td>\n",
       "      <td>0</td>\n",
       "      <td>96270.64</td>\n",
       "      <td>0</td>\n",
       "    </tr>\n",
       "    <tr>\n",
       "      <th>9996</th>\n",
       "      <td>516</td>\n",
       "      <td>France</td>\n",
       "      <td>Male</td>\n",
       "      <td>35</td>\n",
       "      <td>10.0</td>\n",
       "      <td>57369.61</td>\n",
       "      <td>1</td>\n",
       "      <td>1</td>\n",
       "      <td>1</td>\n",
       "      <td>101699.77</td>\n",
       "      <td>0</td>\n",
       "    </tr>\n",
       "    <tr>\n",
       "      <th>9997</th>\n",
       "      <td>709</td>\n",
       "      <td>France</td>\n",
       "      <td>Female</td>\n",
       "      <td>36</td>\n",
       "      <td>7.0</td>\n",
       "      <td>0.00</td>\n",
       "      <td>1</td>\n",
       "      <td>0</td>\n",
       "      <td>1</td>\n",
       "      <td>42085.58</td>\n",
       "      <td>1</td>\n",
       "    </tr>\n",
       "    <tr>\n",
       "      <th>9998</th>\n",
       "      <td>772</td>\n",
       "      <td>Germany</td>\n",
       "      <td>Male</td>\n",
       "      <td>42</td>\n",
       "      <td>3.0</td>\n",
       "      <td>75075.31</td>\n",
       "      <td>2</td>\n",
       "      <td>1</td>\n",
       "      <td>0</td>\n",
       "      <td>92888.52</td>\n",
       "      <td>1</td>\n",
       "    </tr>\n",
       "    <tr>\n",
       "      <th>9999</th>\n",
       "      <td>792</td>\n",
       "      <td>France</td>\n",
       "      <td>Female</td>\n",
       "      <td>28</td>\n",
       "      <td>NaN</td>\n",
       "      <td>130142.79</td>\n",
       "      <td>1</td>\n",
       "      <td>1</td>\n",
       "      <td>0</td>\n",
       "      <td>38190.78</td>\n",
       "      <td>0</td>\n",
       "    </tr>\n",
       "  </tbody>\n",
       "</table>\n",
       "<p>10000 rows × 11 columns</p>\n",
       "</div>"
      ],
      "text/plain": [
       "      credit_score geography  gender  age  tenure    balance  num_of_products  \\\n",
       "0              619    France  Female   42     2.0       0.00                1   \n",
       "1              608     Spain  Female   41     1.0   83807.86                1   \n",
       "2              502    France  Female   42     8.0  159660.80                3   \n",
       "3              699    France  Female   39     1.0       0.00                2   \n",
       "4              850     Spain  Female   43     2.0  125510.82                1   \n",
       "...            ...       ...     ...  ...     ...        ...              ...   \n",
       "9995           771    France    Male   39     5.0       0.00                2   \n",
       "9996           516    France    Male   35    10.0   57369.61                1   \n",
       "9997           709    France  Female   36     7.0       0.00                1   \n",
       "9998           772   Germany    Male   42     3.0   75075.31                2   \n",
       "9999           792    France  Female   28     NaN  130142.79                1   \n",
       "\n",
       "      has_cr_card  is_active_member  estimated_salary  exited  \n",
       "0               1                 1         101348.88       1  \n",
       "1               0                 1         112542.58       0  \n",
       "2               1                 0         113931.57       1  \n",
       "3               0                 0          93826.63       0  \n",
       "4               1                 1          79084.10       0  \n",
       "...           ...               ...               ...     ...  \n",
       "9995            1                 0          96270.64       0  \n",
       "9996            1                 1         101699.77       0  \n",
       "9997            0                 1          42085.58       1  \n",
       "9998            1                 0          92888.52       1  \n",
       "9999            1                 0          38190.78       0  \n",
       "\n",
       "[10000 rows x 11 columns]"
      ]
     },
     "execution_count": 4,
     "metadata": {},
     "output_type": "execute_result"
    }
   ],
   "source": [
    "data.columns = [re.sub(r'(?<!^)(?=[A-Z])', '_', i).lower()for i in data.columns]\n",
    "data"
   ]
  },
  {
   "cell_type": "code",
   "execution_count": 5,
   "metadata": {
    "scrolled": true
   },
   "outputs": [
    {
     "name": "stdout",
     "output_type": "stream",
     "text": [
      "<class 'pandas.core.frame.DataFrame'>\n",
      "RangeIndex: 10000 entries, 0 to 9999\n",
      "Data columns (total 11 columns):\n",
      " #   Column            Non-Null Count  Dtype  \n",
      "---  ------            --------------  -----  \n",
      " 0   credit_score      10000 non-null  int64  \n",
      " 1   geography         10000 non-null  object \n",
      " 2   gender            10000 non-null  object \n",
      " 3   age               10000 non-null  int64  \n",
      " 4   tenure            9091 non-null   float64\n",
      " 5   balance           10000 non-null  float64\n",
      " 6   num_of_products   10000 non-null  int64  \n",
      " 7   has_cr_card       10000 non-null  int64  \n",
      " 8   is_active_member  10000 non-null  int64  \n",
      " 9   estimated_salary  10000 non-null  float64\n",
      " 10  exited            10000 non-null  int64  \n",
      "dtypes: float64(3), int64(6), object(2)\n",
      "memory usage: 859.5+ KB\n"
     ]
    }
   ],
   "source": [
    "data.info()"
   ]
  },
  {
   "cell_type": "code",
   "execution_count": 6,
   "metadata": {},
   "outputs": [
    {
     "data": {
      "text/plain": [
       "credit_score          0\n",
       "geography             0\n",
       "gender                0\n",
       "age                   0\n",
       "tenure              909\n",
       "balance               0\n",
       "num_of_products       0\n",
       "has_cr_card           0\n",
       "is_active_member      0\n",
       "estimated_salary      0\n",
       "exited                0\n",
       "dtype: int64"
      ]
     },
     "execution_count": 6,
     "metadata": {},
     "output_type": "execute_result"
    }
   ],
   "source": [
    "#Имеются ли пустые значения в датасете\n",
    "data.isnull().sum()"
   ]
  },
  {
   "cell_type": "markdown",
   "metadata": {},
   "source": [
    "В колонке с количеством лет обслуживания в банке есть пропуски. Типы данных в таблице указаны верно.посмотрим уникальные значения."
   ]
  },
  {
   "cell_type": "code",
   "execution_count": 7,
   "metadata": {},
   "outputs": [
    {
     "data": {
      "text/plain": [
       "array([ 2.,  1.,  8.,  7.,  4.,  6.,  3., 10.,  5.,  9.,  0., nan])"
      ]
     },
     "execution_count": 7,
     "metadata": {},
     "output_type": "execute_result"
    }
   ],
   "source": [
    "data.tenure.unique()"
   ]
  },
  {
   "cell_type": "code",
   "execution_count": 8,
   "metadata": {},
   "outputs": [
    {
     "name": "stdout",
     "output_type": "stream",
     "text": [
      "Пропущенных значений в признаке tenure: 9.09%\n"
     ]
    }
   ],
   "source": [
    "print('Пропущенных значений в признаке tenure: {:.2%}'.format(data['tenure'].isnull().sum()/data['tenure'].shape[0]))"
   ]
  },
  {
   "cell_type": "markdown",
   "metadata": {},
   "source": [
    "Как видно, дробных значений в столбце Tenure не найдено, следовательно, можно спокойно менять тип данных на \n",
    "целочисленный и заменить пропущенные значения на 0, так как существует вероятность, что клиент с со значением nan \n",
    "обслуживается банком менее года"
   ]
  },
  {
   "cell_type": "code",
   "execution_count": 11,
   "metadata": {},
   "outputs": [],
   "source": [
    "data = data.fillna(0)"
   ]
  },
  {
   "cell_type": "code",
   "execution_count": 13,
   "metadata": {},
   "outputs": [
    {
     "data": {
      "text/plain": [
       "0"
      ]
     },
     "execution_count": 13,
     "metadata": {},
     "output_type": "execute_result"
    }
   ],
   "source": [
    "#Посмотрим имеются ли у нас дубликаты \n",
    "data.duplicated().sum()"
   ]
  },
  {
   "cell_type": "markdown",
   "metadata": {},
   "source": [
    "Дубликатов нет."
   ]
  },
  {
   "cell_type": "markdown",
   "metadata": {},
   "source": [
    "Посмотрим статистику по числовым данным датасета:"
   ]
  },
  {
   "cell_type": "code",
   "execution_count": 14,
   "metadata": {
    "scrolled": true
   },
   "outputs": [
    {
     "data": {
      "text/html": [
       "<div>\n",
       "<style scoped>\n",
       "    .dataframe tbody tr th:only-of-type {\n",
       "        vertical-align: middle;\n",
       "    }\n",
       "\n",
       "    .dataframe tbody tr th {\n",
       "        vertical-align: top;\n",
       "    }\n",
       "\n",
       "    .dataframe thead th {\n",
       "        text-align: right;\n",
       "    }\n",
       "</style>\n",
       "<table border=\"1\" class=\"dataframe\">\n",
       "  <thead>\n",
       "    <tr style=\"text-align: right;\">\n",
       "      <th></th>\n",
       "      <th>credit_score</th>\n",
       "      <th>age</th>\n",
       "      <th>tenure</th>\n",
       "      <th>balance</th>\n",
       "      <th>num_of_products</th>\n",
       "      <th>has_cr_card</th>\n",
       "      <th>is_active_member</th>\n",
       "      <th>estimated_salary</th>\n",
       "      <th>exited</th>\n",
       "    </tr>\n",
       "  </thead>\n",
       "  <tbody>\n",
       "    <tr>\n",
       "      <th>count</th>\n",
       "      <td>10000.000000</td>\n",
       "      <td>10000.000000</td>\n",
       "      <td>10000.000000</td>\n",
       "      <td>10000.000000</td>\n",
       "      <td>10000.000000</td>\n",
       "      <td>10000.00000</td>\n",
       "      <td>10000.000000</td>\n",
       "      <td>10000.000000</td>\n",
       "      <td>10000.000000</td>\n",
       "    </tr>\n",
       "    <tr>\n",
       "      <th>mean</th>\n",
       "      <td>650.528800</td>\n",
       "      <td>38.921800</td>\n",
       "      <td>4.543400</td>\n",
       "      <td>76485.889288</td>\n",
       "      <td>1.530200</td>\n",
       "      <td>0.70550</td>\n",
       "      <td>0.515100</td>\n",
       "      <td>100090.239881</td>\n",
       "      <td>0.203700</td>\n",
       "    </tr>\n",
       "    <tr>\n",
       "      <th>std</th>\n",
       "      <td>96.653299</td>\n",
       "      <td>10.487806</td>\n",
       "      <td>3.111573</td>\n",
       "      <td>62397.405202</td>\n",
       "      <td>0.581654</td>\n",
       "      <td>0.45584</td>\n",
       "      <td>0.499797</td>\n",
       "      <td>57510.492818</td>\n",
       "      <td>0.402769</td>\n",
       "    </tr>\n",
       "    <tr>\n",
       "      <th>min</th>\n",
       "      <td>350.000000</td>\n",
       "      <td>18.000000</td>\n",
       "      <td>0.000000</td>\n",
       "      <td>0.000000</td>\n",
       "      <td>1.000000</td>\n",
       "      <td>0.00000</td>\n",
       "      <td>0.000000</td>\n",
       "      <td>11.580000</td>\n",
       "      <td>0.000000</td>\n",
       "    </tr>\n",
       "    <tr>\n",
       "      <th>25%</th>\n",
       "      <td>584.000000</td>\n",
       "      <td>32.000000</td>\n",
       "      <td>2.000000</td>\n",
       "      <td>0.000000</td>\n",
       "      <td>1.000000</td>\n",
       "      <td>0.00000</td>\n",
       "      <td>0.000000</td>\n",
       "      <td>51002.110000</td>\n",
       "      <td>0.000000</td>\n",
       "    </tr>\n",
       "    <tr>\n",
       "      <th>50%</th>\n",
       "      <td>652.000000</td>\n",
       "      <td>37.000000</td>\n",
       "      <td>4.000000</td>\n",
       "      <td>97198.540000</td>\n",
       "      <td>1.000000</td>\n",
       "      <td>1.00000</td>\n",
       "      <td>1.000000</td>\n",
       "      <td>100193.915000</td>\n",
       "      <td>0.000000</td>\n",
       "    </tr>\n",
       "    <tr>\n",
       "      <th>75%</th>\n",
       "      <td>718.000000</td>\n",
       "      <td>44.000000</td>\n",
       "      <td>7.000000</td>\n",
       "      <td>127644.240000</td>\n",
       "      <td>2.000000</td>\n",
       "      <td>1.00000</td>\n",
       "      <td>1.000000</td>\n",
       "      <td>149388.247500</td>\n",
       "      <td>0.000000</td>\n",
       "    </tr>\n",
       "    <tr>\n",
       "      <th>max</th>\n",
       "      <td>850.000000</td>\n",
       "      <td>92.000000</td>\n",
       "      <td>10.000000</td>\n",
       "      <td>250898.090000</td>\n",
       "      <td>4.000000</td>\n",
       "      <td>1.00000</td>\n",
       "      <td>1.000000</td>\n",
       "      <td>199992.480000</td>\n",
       "      <td>1.000000</td>\n",
       "    </tr>\n",
       "  </tbody>\n",
       "</table>\n",
       "</div>"
      ],
      "text/plain": [
       "       credit_score           age        tenure        balance  \\\n",
       "count  10000.000000  10000.000000  10000.000000   10000.000000   \n",
       "mean     650.528800     38.921800      4.543400   76485.889288   \n",
       "std       96.653299     10.487806      3.111573   62397.405202   \n",
       "min      350.000000     18.000000      0.000000       0.000000   \n",
       "25%      584.000000     32.000000      2.000000       0.000000   \n",
       "50%      652.000000     37.000000      4.000000   97198.540000   \n",
       "75%      718.000000     44.000000      7.000000  127644.240000   \n",
       "max      850.000000     92.000000     10.000000  250898.090000   \n",
       "\n",
       "       num_of_products  has_cr_card  is_active_member  estimated_salary  \\\n",
       "count     10000.000000  10000.00000      10000.000000      10000.000000   \n",
       "mean          1.530200      0.70550          0.515100     100090.239881   \n",
       "std           0.581654      0.45584          0.499797      57510.492818   \n",
       "min           1.000000      0.00000          0.000000         11.580000   \n",
       "25%           1.000000      0.00000          0.000000      51002.110000   \n",
       "50%           1.000000      1.00000          1.000000     100193.915000   \n",
       "75%           2.000000      1.00000          1.000000     149388.247500   \n",
       "max           4.000000      1.00000          1.000000     199992.480000   \n",
       "\n",
       "             exited  \n",
       "count  10000.000000  \n",
       "mean       0.203700  \n",
       "std        0.402769  \n",
       "min        0.000000  \n",
       "25%        0.000000  \n",
       "50%        0.000000  \n",
       "75%        0.000000  \n",
       "max        1.000000  "
      ]
     },
     "execution_count": 14,
     "metadata": {},
     "output_type": "execute_result"
    }
   ],
   "source": [
    "data.describe()"
   ]
  },
  {
   "cell_type": "markdown",
   "metadata": {},
   "source": [
    "В среднем на счетах клиентов находится сумма ~ 76485.89 EUR;\n",
    "Средняя предполагаемая зарплата ~ 100090.24 EUR;\n",
    "Активных пользователей банковских услуг не менее 51.5% от общего числа клиентов;\n",
    "Средний возраст клиентов банка - 39 лет. Самый возрастной клиент банка - 92 года;\n",
    "В среднем люди пользуются банковскими услугами 4 года;\n",
    "Большая часть клиентов банка владеет кредитной картой - более 70%;\n",
    "В банке больше лояльных клиентов, чем ушедших (75% перцентиль = 0)"
   ]
  },
  {
   "cell_type": "code",
   "execution_count": 15,
   "metadata": {
    "scrolled": false
   },
   "outputs": [
    {
     "data": {
      "image/png": "[encoded data removed]",
      "text/plain": [
       "<Figure size 1080x720 with 1 Axes>"
      ]
     },
     "metadata": {
      "needs_background": "light"
     },
     "output_type": "display_data"
    }
   ],
   "source": [
    "data[['credit_score','age','tenure','balance','num_of_products','has_cr_card','is_active_member','estimated_salary','exited'\n",
    "     ]].boxplot(figsize=(15,10));"
   ]
  },
  {
   "cell_type": "markdown",
   "metadata": {},
   "source": [
    "Выбросы не наблюдаются"
   ]
  },
  {
   "cell_type": "code",
   "execution_count": 16,
   "metadata": {},
   "outputs": [
    {
     "data": {
      "text/html": [
       "<div>\n",
       "<style scoped>\n",
       "    .dataframe tbody tr th:only-of-type {\n",
       "        vertical-align: middle;\n",
       "    }\n",
       "\n",
       "    .dataframe tbody tr th {\n",
       "        vertical-align: top;\n",
       "    }\n",
       "\n",
       "    .dataframe thead th {\n",
       "        text-align: right;\n",
       "    }\n",
       "</style>\n",
       "<table border=\"1\" class=\"dataframe\">\n",
       "  <thead>\n",
       "    <tr style=\"text-align: right;\">\n",
       "      <th></th>\n",
       "      <th>credit_score</th>\n",
       "      <th>age</th>\n",
       "      <th>tenure</th>\n",
       "      <th>balance</th>\n",
       "      <th>num_of_products</th>\n",
       "      <th>has_cr_card</th>\n",
       "      <th>is_active_member</th>\n",
       "      <th>estimated_salary</th>\n",
       "      <th>exited</th>\n",
       "    </tr>\n",
       "  </thead>\n",
       "  <tbody>\n",
       "    <tr>\n",
       "      <th>credit_score</th>\n",
       "      <td>1.000000</td>\n",
       "      <td>-0.003965</td>\n",
       "      <td>0.003087</td>\n",
       "      <td>0.006268</td>\n",
       "      <td>0.012238</td>\n",
       "      <td>-0.005458</td>\n",
       "      <td>0.025651</td>\n",
       "      <td>-0.001384</td>\n",
       "      <td>-0.027094</td>\n",
       "    </tr>\n",
       "    <tr>\n",
       "      <th>age</th>\n",
       "      <td>-0.003965</td>\n",
       "      <td>1.000000</td>\n",
       "      <td>-0.007368</td>\n",
       "      <td>0.028308</td>\n",
       "      <td>-0.030680</td>\n",
       "      <td>-0.011721</td>\n",
       "      <td>0.085472</td>\n",
       "      <td>-0.007201</td>\n",
       "      <td>0.285323</td>\n",
       "    </tr>\n",
       "    <tr>\n",
       "      <th>tenure</th>\n",
       "      <td>0.003087</td>\n",
       "      <td>-0.007368</td>\n",
       "      <td>1.000000</td>\n",
       "      <td>-0.005821</td>\n",
       "      <td>0.010106</td>\n",
       "      <td>0.021387</td>\n",
       "      <td>-0.025856</td>\n",
       "      <td>0.011225</td>\n",
       "      <td>-0.013319</td>\n",
       "    </tr>\n",
       "    <tr>\n",
       "      <th>balance</th>\n",
       "      <td>0.006268</td>\n",
       "      <td>0.028308</td>\n",
       "      <td>-0.005821</td>\n",
       "      <td>1.000000</td>\n",
       "      <td>-0.304180</td>\n",
       "      <td>-0.014858</td>\n",
       "      <td>-0.010084</td>\n",
       "      <td>0.012797</td>\n",
       "      <td>0.118533</td>\n",
       "    </tr>\n",
       "    <tr>\n",
       "      <th>num_of_products</th>\n",
       "      <td>0.012238</td>\n",
       "      <td>-0.030680</td>\n",
       "      <td>0.010106</td>\n",
       "      <td>-0.304180</td>\n",
       "      <td>1.000000</td>\n",
       "      <td>0.003183</td>\n",
       "      <td>0.009612</td>\n",
       "      <td>0.014204</td>\n",
       "      <td>-0.047820</td>\n",
       "    </tr>\n",
       "    <tr>\n",
       "      <th>has_cr_card</th>\n",
       "      <td>-0.005458</td>\n",
       "      <td>-0.011721</td>\n",
       "      <td>0.021387</td>\n",
       "      <td>-0.014858</td>\n",
       "      <td>0.003183</td>\n",
       "      <td>1.000000</td>\n",
       "      <td>-0.011866</td>\n",
       "      <td>-0.009933</td>\n",
       "      <td>-0.007138</td>\n",
       "    </tr>\n",
       "    <tr>\n",
       "      <th>is_active_member</th>\n",
       "      <td>0.025651</td>\n",
       "      <td>0.085472</td>\n",
       "      <td>-0.025856</td>\n",
       "      <td>-0.010084</td>\n",
       "      <td>0.009612</td>\n",
       "      <td>-0.011866</td>\n",
       "      <td>1.000000</td>\n",
       "      <td>-0.011421</td>\n",
       "      <td>-0.156128</td>\n",
       "    </tr>\n",
       "    <tr>\n",
       "      <th>estimated_salary</th>\n",
       "      <td>-0.001384</td>\n",
       "      <td>-0.007201</td>\n",
       "      <td>0.011225</td>\n",
       "      <td>0.012797</td>\n",
       "      <td>0.014204</td>\n",
       "      <td>-0.009933</td>\n",
       "      <td>-0.011421</td>\n",
       "      <td>1.000000</td>\n",
       "      <td>0.012097</td>\n",
       "    </tr>\n",
       "    <tr>\n",
       "      <th>exited</th>\n",
       "      <td>-0.027094</td>\n",
       "      <td>0.285323</td>\n",
       "      <td>-0.013319</td>\n",
       "      <td>0.118533</td>\n",
       "      <td>-0.047820</td>\n",
       "      <td>-0.007138</td>\n",
       "      <td>-0.156128</td>\n",
       "      <td>0.012097</td>\n",
       "      <td>1.000000</td>\n",
       "    </tr>\n",
       "  </tbody>\n",
       "</table>\n",
       "</div>"
      ],
      "text/plain": [
       "                  credit_score       age    tenure   balance  num_of_products  \\\n",
       "credit_score          1.000000 -0.003965  0.003087  0.006268         0.012238   \n",
       "age                  -0.003965  1.000000 -0.007368  0.028308        -0.030680   \n",
       "tenure                0.003087 -0.007368  1.000000 -0.005821         0.010106   \n",
       "balance               0.006268  0.028308 -0.005821  1.000000        -0.304180   \n",
       "num_of_products       0.012238 -0.030680  0.010106 -0.304180         1.000000   \n",
       "has_cr_card          -0.005458 -0.011721  0.021387 -0.014858         0.003183   \n",
       "is_active_member      0.025651  0.085472 -0.025856 -0.010084         0.009612   \n",
       "estimated_salary     -0.001384 -0.007201  0.011225  0.012797         0.014204   \n",
       "exited               -0.027094  0.285323 -0.013319  0.118533        -0.047820   \n",
       "\n",
       "                  has_cr_card  is_active_member  estimated_salary    exited  \n",
       "credit_score        -0.005458          0.025651         -0.001384 -0.027094  \n",
       "age                 -0.011721          0.085472         -0.007201  0.285323  \n",
       "tenure               0.021387         -0.025856          0.011225 -0.013319  \n",
       "balance             -0.014858         -0.010084          0.012797  0.118533  \n",
       "num_of_products      0.003183          0.009612          0.014204 -0.047820  \n",
       "has_cr_card          1.000000         -0.011866         -0.009933 -0.007138  \n",
       "is_active_member    -0.011866          1.000000         -0.011421 -0.156128  \n",
       "estimated_salary    -0.009933         -0.011421          1.000000  0.012097  \n",
       "exited              -0.007138         -0.156128          0.012097  1.000000  "
      ]
     },
     "execution_count": 16,
     "metadata": {},
     "output_type": "execute_result"
    }
   ],
   "source": [
    "#Посмотрим на таблицу корреляции\n",
    "data.corr()"
   ]
  },
  {
   "cell_type": "code",
   "execution_count": 17,
   "metadata": {},
   "outputs": [
    {
     "data": {
      "image/png": "[encoded data removed]",
      "text/plain": [
       "<Figure size 792x792 with 1 Axes>"
      ]
     },
     "metadata": {
      "needs_background": "light"
     },
     "output_type": "display_data"
    }
   ],
   "source": [
    "#Посмотрим на табличный график матрицы корреляции\n",
    "def plot_corr(data, size=11):\n",
    "  corr = data.corr()\n",
    "  fig, ax = plt.subplots(figsize=(size,size))\n",
    "  ax.matshow(corr)\n",
    "  plt.xticks(range(len(corr.columns)), corr.columns)\n",
    "  plt.yticks(range(len(corr.columns)), corr.columns)\n",
    "\n",
    "plot_corr(data)"
   ]
  },
  {
   "cell_type": "markdown",
   "metadata": {},
   "source": [
    "Сильных корреляционных связей не замечено."
   ]
  },
  {
   "cell_type": "markdown",
   "metadata": {},
   "source": [
    "Кодирование данных:"
   ]
  },
  {
   "cell_type": "code",
   "execution_count": 18,
   "metadata": {},
   "outputs": [
    {
     "data": {
      "text/plain": [
       "Index(['credit_score', 'age', 'tenure', 'balance', 'num_of_products',\n",
       "       'has_cr_card', 'is_active_member', 'estimated_salary', 'exited',\n",
       "       'geography_Germany', 'geography_Spain', 'gender_Male'],\n",
       "      dtype='object')"
      ]
     },
     "execution_count": 18,
     "metadata": {},
     "output_type": "execute_result"
    }
   ],
   "source": [
    "\n",
    "data = pd.get_dummies(data, drop_first=True)\n",
    "data.columns"
   ]
  },
  {
   "cell_type": "code",
   "execution_count": 19,
   "metadata": {},
   "outputs": [
    {
     "data": {
      "text/html": [
       "<div>\n",
       "<style scoped>\n",
       "    .dataframe tbody tr th:only-of-type {\n",
       "        vertical-align: middle;\n",
       "    }\n",
       "\n",
       "    .dataframe tbody tr th {\n",
       "        vertical-align: top;\n",
       "    }\n",
       "\n",
       "    .dataframe thead th {\n",
       "        text-align: right;\n",
       "    }\n",
       "</style>\n",
       "<table border=\"1\" class=\"dataframe\">\n",
       "  <thead>\n",
       "    <tr style=\"text-align: right;\">\n",
       "      <th></th>\n",
       "      <th>credit_score</th>\n",
       "      <th>age</th>\n",
       "      <th>tenure</th>\n",
       "      <th>balance</th>\n",
       "      <th>num_of_products</th>\n",
       "      <th>has_cr_card</th>\n",
       "      <th>is_active_member</th>\n",
       "      <th>estimated_salary</th>\n",
       "      <th>exited</th>\n",
       "      <th>geography_Germany</th>\n",
       "      <th>geography_Spain</th>\n",
       "      <th>gender_Male</th>\n",
       "    </tr>\n",
       "  </thead>\n",
       "  <tbody>\n",
       "    <tr>\n",
       "      <th>0</th>\n",
       "      <td>619</td>\n",
       "      <td>42</td>\n",
       "      <td>2.0</td>\n",
       "      <td>0.00</td>\n",
       "      <td>1</td>\n",
       "      <td>1</td>\n",
       "      <td>1</td>\n",
       "      <td>101348.88</td>\n",
       "      <td>1</td>\n",
       "      <td>0</td>\n",
       "      <td>0</td>\n",
       "      <td>0</td>\n",
       "    </tr>\n",
       "    <tr>\n",
       "      <th>1</th>\n",
       "      <td>608</td>\n",
       "      <td>41</td>\n",
       "      <td>1.0</td>\n",
       "      <td>83807.86</td>\n",
       "      <td>1</td>\n",
       "      <td>0</td>\n",
       "      <td>1</td>\n",
       "      <td>112542.58</td>\n",
       "      <td>0</td>\n",
       "      <td>0</td>\n",
       "      <td>1</td>\n",
       "      <td>0</td>\n",
       "    </tr>\n",
       "    <tr>\n",
       "      <th>2</th>\n",
       "      <td>502</td>\n",
       "      <td>42</td>\n",
       "      <td>8.0</td>\n",
       "      <td>159660.80</td>\n",
       "      <td>3</td>\n",
       "      <td>1</td>\n",
       "      <td>0</td>\n",
       "      <td>113931.57</td>\n",
       "      <td>1</td>\n",
       "      <td>0</td>\n",
       "      <td>0</td>\n",
       "      <td>0</td>\n",
       "    </tr>\n",
       "    <tr>\n",
       "      <th>3</th>\n",
       "      <td>699</td>\n",
       "      <td>39</td>\n",
       "      <td>1.0</td>\n",
       "      <td>0.00</td>\n",
       "      <td>2</td>\n",
       "      <td>0</td>\n",
       "      <td>0</td>\n",
       "      <td>93826.63</td>\n",
       "      <td>0</td>\n",
       "      <td>0</td>\n",
       "      <td>0</td>\n",
       "      <td>0</td>\n",
       "    </tr>\n",
       "    <tr>\n",
       "      <th>4</th>\n",
       "      <td>850</td>\n",
       "      <td>43</td>\n",
       "      <td>2.0</td>\n",
       "      <td>125510.82</td>\n",
       "      <td>1</td>\n",
       "      <td>1</td>\n",
       "      <td>1</td>\n",
       "      <td>79084.10</td>\n",
       "      <td>0</td>\n",
       "      <td>0</td>\n",
       "      <td>1</td>\n",
       "      <td>0</td>\n",
       "    </tr>\n",
       "  </tbody>\n",
       "</table>\n",
       "</div>"
      ],
      "text/plain": [
       "   credit_score  age  tenure    balance  num_of_products  has_cr_card  \\\n",
       "0           619   42     2.0       0.00                1            1   \n",
       "1           608   41     1.0   83807.86                1            0   \n",
       "2           502   42     8.0  159660.80                3            1   \n",
       "3           699   39     1.0       0.00                2            0   \n",
       "4           850   43     2.0  125510.82                1            1   \n",
       "\n",
       "   is_active_member  estimated_salary  exited  geography_Germany  \\\n",
       "0                 1         101348.88       1                  0   \n",
       "1                 1         112542.58       0                  0   \n",
       "2                 0         113931.57       1                  0   \n",
       "3                 0          93826.63       0                  0   \n",
       "4                 1          79084.10       0                  0   \n",
       "\n",
       "   geography_Spain  gender_Male  \n",
       "0                0            0  \n",
       "1                1            0  \n",
       "2                0            0  \n",
       "3                0            0  \n",
       "4                1            0  "
      ]
     },
     "execution_count": 19,
     "metadata": {},
     "output_type": "execute_result"
    }
   ],
   "source": [
    "data.head()"
   ]
  },
  {
   "cell_type": "code",
   "execution_count": 20,
   "metadata": {},
   "outputs": [
    {
     "name": "stdout",
     "output_type": "stream",
     "text": [
      "<class 'pandas.core.frame.DataFrame'>\n",
      "RangeIndex: 10000 entries, 0 to 9999\n",
      "Data columns (total 12 columns):\n",
      " #   Column             Non-Null Count  Dtype  \n",
      "---  ------             --------------  -----  \n",
      " 0   credit_score       10000 non-null  int64  \n",
      " 1   age                10000 non-null  int64  \n",
      " 2   tenure             10000 non-null  float64\n",
      " 3   balance            10000 non-null  float64\n",
      " 4   num_of_products    10000 non-null  int64  \n",
      " 5   has_cr_card        10000 non-null  int64  \n",
      " 6   is_active_member   10000 non-null  int64  \n",
      " 7   estimated_salary   10000 non-null  float64\n",
      " 8   exited             10000 non-null  int64  \n",
      " 9   geography_Germany  10000 non-null  uint8  \n",
      " 10  geography_Spain    10000 non-null  uint8  \n",
      " 11  gender_Male        10000 non-null  uint8  \n",
      "dtypes: float64(3), int64(6), uint8(3)\n",
      "memory usage: 732.5 KB\n"
     ]
    }
   ],
   "source": [
    "data.describe()\n",
    "data.info()"
   ]
  },
  {
   "cell_type": "code",
   "execution_count": 21,
   "metadata": {},
   "outputs": [
    {
     "data": {
      "text/html": [
       "<div>\n",
       "<style scoped>\n",
       "    .dataframe tbody tr th:only-of-type {\n",
       "        vertical-align: middle;\n",
       "    }\n",
       "\n",
       "    .dataframe tbody tr th {\n",
       "        vertical-align: top;\n",
       "    }\n",
       "\n",
       "    .dataframe thead th {\n",
       "        text-align: right;\n",
       "    }\n",
       "</style>\n",
       "<table border=\"1\" class=\"dataframe\">\n",
       "  <thead>\n",
       "    <tr style=\"text-align: right;\">\n",
       "      <th></th>\n",
       "      <th>credit_score</th>\n",
       "      <th>age</th>\n",
       "      <th>tenure</th>\n",
       "      <th>balance</th>\n",
       "      <th>num_of_products</th>\n",
       "      <th>has_cr_card</th>\n",
       "      <th>is_active_member</th>\n",
       "      <th>estimated_salary</th>\n",
       "      <th>exited</th>\n",
       "      <th>geography_Germany</th>\n",
       "      <th>geography_Spain</th>\n",
       "      <th>gender_Male</th>\n",
       "    </tr>\n",
       "  </thead>\n",
       "  <tbody>\n",
       "    <tr>\n",
       "      <th>0</th>\n",
       "      <td>619</td>\n",
       "      <td>42</td>\n",
       "      <td>2.0</td>\n",
       "      <td>0.00</td>\n",
       "      <td>1</td>\n",
       "      <td>1</td>\n",
       "      <td>1</td>\n",
       "      <td>101348.88</td>\n",
       "      <td>1</td>\n",
       "      <td>0</td>\n",
       "      <td>0</td>\n",
       "      <td>0</td>\n",
       "    </tr>\n",
       "    <tr>\n",
       "      <th>1</th>\n",
       "      <td>608</td>\n",
       "      <td>41</td>\n",
       "      <td>1.0</td>\n",
       "      <td>83807.86</td>\n",
       "      <td>1</td>\n",
       "      <td>0</td>\n",
       "      <td>1</td>\n",
       "      <td>112542.58</td>\n",
       "      <td>0</td>\n",
       "      <td>0</td>\n",
       "      <td>1</td>\n",
       "      <td>0</td>\n",
       "    </tr>\n",
       "    <tr>\n",
       "      <th>2</th>\n",
       "      <td>502</td>\n",
       "      <td>42</td>\n",
       "      <td>8.0</td>\n",
       "      <td>159660.80</td>\n",
       "      <td>3</td>\n",
       "      <td>1</td>\n",
       "      <td>0</td>\n",
       "      <td>113931.57</td>\n",
       "      <td>1</td>\n",
       "      <td>0</td>\n",
       "      <td>0</td>\n",
       "      <td>0</td>\n",
       "    </tr>\n",
       "    <tr>\n",
       "      <th>3</th>\n",
       "      <td>699</td>\n",
       "      <td>39</td>\n",
       "      <td>1.0</td>\n",
       "      <td>0.00</td>\n",
       "      <td>2</td>\n",
       "      <td>0</td>\n",
       "      <td>0</td>\n",
       "      <td>93826.63</td>\n",
       "      <td>0</td>\n",
       "      <td>0</td>\n",
       "      <td>0</td>\n",
       "      <td>0</td>\n",
       "    </tr>\n",
       "    <tr>\n",
       "      <th>4</th>\n",
       "      <td>850</td>\n",
       "      <td>43</td>\n",
       "      <td>2.0</td>\n",
       "      <td>125510.82</td>\n",
       "      <td>1</td>\n",
       "      <td>1</td>\n",
       "      <td>1</td>\n",
       "      <td>79084.10</td>\n",
       "      <td>0</td>\n",
       "      <td>0</td>\n",
       "      <td>1</td>\n",
       "      <td>0</td>\n",
       "    </tr>\n",
       "    <tr>\n",
       "      <th>...</th>\n",
       "      <td>...</td>\n",
       "      <td>...</td>\n",
       "      <td>...</td>\n",
       "      <td>...</td>\n",
       "      <td>...</td>\n",
       "      <td>...</td>\n",
       "      <td>...</td>\n",
       "      <td>...</td>\n",
       "      <td>...</td>\n",
       "      <td>...</td>\n",
       "      <td>...</td>\n",
       "      <td>...</td>\n",
       "    </tr>\n",
       "    <tr>\n",
       "      <th>9995</th>\n",
       "      <td>771</td>\n",
       "      <td>39</td>\n",
       "      <td>5.0</td>\n",
       "      <td>0.00</td>\n",
       "      <td>2</td>\n",
       "      <td>1</td>\n",
       "      <td>0</td>\n",
       "      <td>96270.64</td>\n",
       "      <td>0</td>\n",
       "      <td>0</td>\n",
       "      <td>0</td>\n",
       "      <td>1</td>\n",
       "    </tr>\n",
       "    <tr>\n",
       "      <th>9996</th>\n",
       "      <td>516</td>\n",
       "      <td>35</td>\n",
       "      <td>10.0</td>\n",
       "      <td>57369.61</td>\n",
       "      <td>1</td>\n",
       "      <td>1</td>\n",
       "      <td>1</td>\n",
       "      <td>101699.77</td>\n",
       "      <td>0</td>\n",
       "      <td>0</td>\n",
       "      <td>0</td>\n",
       "      <td>1</td>\n",
       "    </tr>\n",
       "    <tr>\n",
       "      <th>9997</th>\n",
       "      <td>709</td>\n",
       "      <td>36</td>\n",
       "      <td>7.0</td>\n",
       "      <td>0.00</td>\n",
       "      <td>1</td>\n",
       "      <td>0</td>\n",
       "      <td>1</td>\n",
       "      <td>42085.58</td>\n",
       "      <td>1</td>\n",
       "      <td>0</td>\n",
       "      <td>0</td>\n",
       "      <td>0</td>\n",
       "    </tr>\n",
       "    <tr>\n",
       "      <th>9998</th>\n",
       "      <td>772</td>\n",
       "      <td>42</td>\n",
       "      <td>3.0</td>\n",
       "      <td>75075.31</td>\n",
       "      <td>2</td>\n",
       "      <td>1</td>\n",
       "      <td>0</td>\n",
       "      <td>92888.52</td>\n",
       "      <td>1</td>\n",
       "      <td>1</td>\n",
       "      <td>0</td>\n",
       "      <td>1</td>\n",
       "    </tr>\n",
       "    <tr>\n",
       "      <th>9999</th>\n",
       "      <td>792</td>\n",
       "      <td>28</td>\n",
       "      <td>0.0</td>\n",
       "      <td>130142.79</td>\n",
       "      <td>1</td>\n",
       "      <td>1</td>\n",
       "      <td>0</td>\n",
       "      <td>38190.78</td>\n",
       "      <td>0</td>\n",
       "      <td>0</td>\n",
       "      <td>0</td>\n",
       "      <td>0</td>\n",
       "    </tr>\n",
       "  </tbody>\n",
       "</table>\n",
       "<p>10000 rows × 12 columns</p>\n",
       "</div>"
      ],
      "text/plain": [
       "      credit_score  age  tenure    balance  num_of_products  has_cr_card  \\\n",
       "0              619   42     2.0       0.00                1            1   \n",
       "1              608   41     1.0   83807.86                1            0   \n",
       "2              502   42     8.0  159660.80                3            1   \n",
       "3              699   39     1.0       0.00                2            0   \n",
       "4              850   43     2.0  125510.82                1            1   \n",
       "...            ...  ...     ...        ...              ...          ...   \n",
       "9995           771   39     5.0       0.00                2            1   \n",
       "9996           516   35    10.0   57369.61                1            1   \n",
       "9997           709   36     7.0       0.00                1            0   \n",
       "9998           772   42     3.0   75075.31                2            1   \n",
       "9999           792   28     0.0  130142.79                1            1   \n",
       "\n",
       "      is_active_member  estimated_salary  exited  geography_Germany  \\\n",
       "0                    1         101348.88       1                  0   \n",
       "1                    1         112542.58       0                  0   \n",
       "2                    0         113931.57       1                  0   \n",
       "3                    0          93826.63       0                  0   \n",
       "4                    1          79084.10       0                  0   \n",
       "...                ...               ...     ...                ...   \n",
       "9995                 0          96270.64       0                  0   \n",
       "9996                 1         101699.77       0                  0   \n",
       "9997                 1          42085.58       1                  0   \n",
       "9998                 0          92888.52       1                  1   \n",
       "9999                 0          38190.78       0                  0   \n",
       "\n",
       "      geography_Spain  gender_Male  \n",
       "0                   0            0  \n",
       "1                   1            0  \n",
       "2                   0            0  \n",
       "3                   0            0  \n",
       "4                   1            0  \n",
       "...               ...          ...  \n",
       "9995                0            1  \n",
       "9996                0            1  \n",
       "9997                0            0  \n",
       "9998                0            1  \n",
       "9999                0            0  \n",
       "\n",
       "[10000 rows x 12 columns]"
      ]
     },
     "execution_count": 21,
     "metadata": {},
     "output_type": "execute_result"
    }
   ],
   "source": [
    "data"
   ]
  },
  {
   "cell_type": "code",
   "execution_count": 22,
   "metadata": {},
   "outputs": [
    {
     "data": {
      "text/plain": [
       "0    0.7963\n",
       "1    0.2037\n",
       "Name: exited, dtype: float64"
      ]
     },
     "execution_count": 22,
     "metadata": {},
     "output_type": "execute_result"
    }
   ],
   "source": [
    "#Процент ушедших и оставшихся клиентов за все время.\n",
    "\n",
    "data['exited'].value_counts(normalize=True)"
   ]
  },
  {
   "cell_type": "code",
   "execution_count": 23,
   "metadata": {},
   "outputs": [],
   "source": [
    "train, test = train_test_split(data, test_size=0.2, random_state=12345, stratify=data['exited'])"
   ]
  },
  {
   "cell_type": "markdown",
   "metadata": {},
   "source": [
    "Не сбалансиовнный целевой признак в выборке"
   ]
  },
  {
   "cell_type": "markdown",
   "metadata": {},
   "source": [
    "Первый предварительный вывод: статистически клиент может покинуть банк в 20% случаев."
   ]
  },
  {
   "cell_type": "code",
   "execution_count": 24,
   "metadata": {
    "scrolled": true
   },
   "outputs": [
    {
     "name": "stdout",
     "output_type": "stream",
     "text": [
      "Training set size: 8000\n",
      "Validating set size: 1000\n",
      "Test set size: 1000\n"
     ]
    }
   ],
   "source": [
    "#С помощью train_test_split Разделим датасет на следующие выборки \n",
    "\n",
    "features = data.drop(['exited'], axis=1)\n",
    "target = data['exited']\n",
    "\n",
    "#features_train, features_valid, target_train, target_valid = train_test_split(features, target, train_size=0.6, test_size=0.4, random_state=12345)\n",
    "features_train, features_valid, target_train, target_valid = train_test_split(features,\n",
    "                                target, test_size=0.2, random_state=12345, stratify=target)\n",
    "features_test, features_valid, target_test, target_valid = train_test_split(features_valid, target_valid, test_size=0.5, random_state=12345)\n",
    "\n",
    "print('Training set size:', features_train.shape[0])\n",
    "print('Validating set size:', features_valid.shape[0])\n",
    "print('Test set size:',features_test.shape[0])"
   ]
  },
  {
   "cell_type": "code",
   "execution_count": 25,
   "metadata": {},
   "outputs": [],
   "source": [
    "numeric_column = ['credit_score', 'age', 'tenure', 'balance', 'num_of_products', \n",
    "                 'estimated_salary']\n",
    "\n",
    "scaler = StandardScaler()\n",
    "scaler.fit(features_train[numeric_column])\n",
    "\n",
    "features_train[numeric_column] = scaler.transform(features_train[numeric_column])\n",
    "features_valid[numeric_column] = scaler.transform(features_valid[numeric_column])"
   ]
  },
  {
   "cell_type": "markdown",
   "metadata": {},
   "source": [
    "## Исследование задачи"
   ]
  },
  {
   "cell_type": "code",
   "execution_count": 26,
   "metadata": {},
   "outputs": [],
   "source": [
    "model_score = pd.DataFrame(columns=['model_name', 'f1', 'auc_roc'])\n",
    "\n",
    "\n",
    "def print_and_add(df, name, f1, auc_roc): # вывод показателей и запись их в таблицу\n",
    "    print('best F1: {:.3f}'.format(f1))\n",
    "    print('best AUC-ROC: {:.3f}'.format(auc_roc))\n",
    "    return df.append({'model_name' : name, 'f1': f1, 'auc_roc': auc_roc},\n",
    "                              ignore_index=True)"
   ]
  },
  {
   "cell_type": "code",
   "execution_count": 27,
   "metadata": {},
   "outputs": [
    {
     "name": "stdout",
     "output_type": "stream",
     "text": [
      "best C: 0.04\n",
      "best F1: 0.279\n",
      "best AUC-ROC: 0.782\n"
     ]
    }
   ],
   "source": [
    "best_c = 0\n",
    "best_auc_roc = 0\n",
    "best_f1 = 0\n",
    "\n",
    "for c in np.arange(0.03, 0.045, 0.001):\n",
    "    model = LogisticRegression(random_state=12345, C=c, solver='liblinear')\n",
    "    model.fit(features_train, target_train)\n",
    "    predicted = model.predict(features_valid)\n",
    "    f1 = f1_score(target_valid, predicted)\n",
    "    if f1 > best_f1:\n",
    "        best_f1 = f1\n",
    "        best_c = c\n",
    "        probabilities = model.predict_proba(features_valid)\n",
    "        probabilities_one = probabilities[:,1]\n",
    "        best_auc_roc = roc_auc_score(target_valid, probabilities_one)\n",
    "print('best C: {:.2f}'.format(best_c))        \n",
    "model_score = print_and_add(model_score, 'LogisticRegression', best_f1, best_auc_roc)"
   ]
  },
  {
   "cell_type": "code",
   "execution_count": 28,
   "metadata": {},
   "outputs": [
    {
     "data": {
      "application/vnd.jupyter.widget-view+json": {
       "model_id": "628da2551bbd44ada7beccf480bcb38a",
       "version_major": 2,
       "version_minor": 0
      },
      "text/plain": [
       "  0%|          | 0/4 [00:00<?, ?it/s]"
      ]
     },
     "metadata": {},
     "output_type": "display_data"
    },
    {
     "name": "stdout",
     "output_type": "stream",
     "text": [
      "best depth: 14\n",
      "best F1: 0.555\n",
      "best AUC-ROC: 0.752\n"
     ]
    }
   ],
   "source": [
    "best_f1 = 0\n",
    "best_depth = 0\n",
    "best_auc_roc = 0\n",
    "for depth in trange(11,15):    \n",
    "    model = DecisionTreeClassifier(random_state=12345, max_depth=depth)\n",
    "    model.fit(features_train, target_train)\n",
    "    predicted = model.predict(features_valid)\n",
    "    f1 = f1_score(target_valid, predicted) \n",
    "    if f1 > best_f1:\n",
    "        best_f1 = f1\n",
    "        best_depth = depth\n",
    "        probabilities = model.predict_proba(features_valid)\n",
    "        probabilities_one = probabilities[:,1]\n",
    "        best_auc_roc = roc_auc_score(target_valid, probabilities_one) \n",
    "print('best depth:', depth)\n",
    "\n",
    "model_score = print_and_add(model_score, 'DecisionTreeClassifier', best_f1, best_auc_roc)"
   ]
  },
  {
   "cell_type": "code",
   "execution_count": 29,
   "metadata": {},
   "outputs": [
    {
     "data": {
      "application/vnd.jupyter.widget-view+json": {
       "model_id": "eae5b70917334f15ab8b0d8c4a43e16d",
       "version_major": 2,
       "version_minor": 0
      },
      "text/plain": [
       "  0%|          | 0/3 [00:00<?, ?it/s]"
      ]
     },
     "metadata": {},
     "output_type": "display_data"
    },
    {
     "name": "stdout",
     "output_type": "stream",
     "text": [
      "best depth: 12\n",
      "best n_estimators: 159\n",
      "best F1: 0.539\n",
      "best AUC-ROC: 0.869\n"
     ]
    }
   ],
   "source": [
    "best_f1 = 0\n",
    "best_depth = 0\n",
    "best_auc_roc = 0\n",
    "best_est = 0\n",
    "\n",
    "for est in trange(157, 160):    \n",
    "    for depth in range(12,15):    \n",
    "        model = RandomForestClassifier(random_state=12345, max_depth=depth, n_estimators=est)\n",
    "        model.fit(features_train, target_train)\n",
    "        predicted = model.predict(features_valid)\n",
    "        f1 = f1_score(target_valid, predicted) \n",
    "        if f1 > best_f1:\n",
    "            best_f1 = f1\n",
    "            best_depth = depth\n",
    "            best_est = est\n",
    "            probabilities = model.predict_proba(features_valid)\n",
    "            probabilities_one = probabilities[:,1]\n",
    "            best_auc_roc = roc_auc_score(target_valid, probabilities_one) \n",
    "print('best depth:', best_depth)\n",
    "print('best n_estimators:', est)\n",
    "model_score = print_and_add(model_score, 'RandomForestClassifier', best_f1, best_auc_roc)"
   ]
  },
  {
   "cell_type": "markdown",
   "metadata": {},
   "source": [
    "Вывод\n",
    "\n",
    "На первом этапе были произведены анализ и предобработка данных.\n",
    "\n",
    "В ходе указанных действий датасет был очищен он лишних столбцов, данные были приведены в требуемый вид, пропуски заполнены в соответсвии с логическими заключениями.\n",
    "\n",
    "Данные были перведены в требуемый вид с помощью команды get_dummy.\n",
    "\n",
    "Численные признаки масштабированы с помощью StandardScaler.\n",
    "\n",
    "Датасет был разбит на три выборки с целью обучения, валидации и тестирования моделей.\n",
    "\n",
    "Сделан первый предварительный вывод: статистически клиент может покинуть банк в 20% случаев.\n"
   ]
  },
  {
   "cell_type": "markdown",
   "metadata": {},
   "source": [
    "## Борьба с дисбалансом"
   ]
  },
  {
   "cell_type": "code",
   "execution_count": 30,
   "metadata": {},
   "outputs": [
    {
     "data": {
      "text/plain": [
       "0    0.7963\n",
       "1    0.2037\n",
       "Name: exited, dtype: float64"
      ]
     },
     "execution_count": 30,
     "metadata": {},
     "output_type": "execute_result"
    }
   ],
   "source": [
    "data['exited'].value_counts(normalize=True)"
   ]
  },
  {
   "cell_type": "code",
   "execution_count": 31,
   "metadata": {
    "scrolled": true
   },
   "outputs": [
    {
     "data": {
      "image/png": "[encoded data removed]",
      "text/plain": [
       "<Figure size 432x288 with 1 Axes>"
      ]
     },
     "metadata": {
      "needs_background": "light"
     },
     "output_type": "display_data"
    }
   ],
   "source": [
    "data.exited.value_counts(normalize=True).plot(kind='bar', color='dimgray', grid=True)\n",
    "plt.title('Баланс классов в обучаей выборке')\n",
    "plt.show()"
   ]
  },
  {
   "cell_type": "markdown",
   "metadata": {},
   "source": [
    "Не сбалансированный целевой признак в выборке."
   ]
  },
  {
   "cell_type": "markdown",
   "metadata": {},
   "source": [
    "Попробуем убрать дисбаланс с помощью аргумента class_weight"
   ]
  },
  {
   "cell_type": "code",
   "execution_count": 32,
   "metadata": {},
   "outputs": [],
   "source": [
    "balanced_model_score = pd.DataFrame(columns=['model_name', 'f1', 'auc_roc'])"
   ]
  },
  {
   "cell_type": "code",
   "execution_count": 33,
   "metadata": {},
   "outputs": [
    {
     "name": "stdout",
     "output_type": "stream",
     "text": [
      "best C: 0.032\n",
      "best F1: 0.519\n",
      "best AUC-ROC: 0.788\n"
     ]
    }
   ],
   "source": [
    "best_c = 0\n",
    "best_auc_roc = 0\n",
    "best_f1 = 0\n",
    "\n",
    "for c in np.arange(0.03, 0.05, 0.001):\n",
    "    model = LogisticRegression(random_state=12345, C=c, solver='liblinear',\n",
    "                               class_weight='balanced')\n",
    "    model.fit(features_train, target_train)\n",
    "    predicted = model.predict(features_valid)\n",
    "    f1 = f1_score(target_valid, predicted)\n",
    "    if f1 > best_f1:\n",
    "        best_f1 = f1\n",
    "        best_c = c\n",
    "        probabilities = model.predict_proba(features_valid)\n",
    "        probabilities_one = probabilities[:,1]\n",
    "        best_auc_roc = roc_auc_score(target_valid, probabilities_one)\n",
    "print('best C:', best_c)        \n",
    "balanced_model_score = print_and_add(balanced_model_score, 'LogisticRegression',\n",
    "                                     best_f1, best_auc_roc)"
   ]
  },
  {
   "cell_type": "code",
   "execution_count": 34,
   "metadata": {},
   "outputs": [
    {
     "data": {
      "application/vnd.jupyter.widget-view+json": {
       "model_id": "0ade4bbd58db4731aff38169e9a771cd",
       "version_major": 2,
       "version_minor": 0
      },
      "text/plain": [
       "  0%|          | 0/7 [00:00<?, ?it/s]"
      ]
     },
     "metadata": {},
     "output_type": "display_data"
    },
    {
     "name": "stdout",
     "output_type": "stream",
     "text": [
      "best depth: 14\n",
      "best F1: 0.586\n",
      "best AUC-ROC: 0.811\n"
     ]
    }
   ],
   "source": [
    "best_f1 = 0\n",
    "best_depth = 0\n",
    "best_auc_roc = 0\n",
    "for depth in trange(8,15):    \n",
    "    model = DecisionTreeClassifier(random_state=12345, max_depth=depth, class_weight='balanced')\n",
    "    model.fit(features_train, target_train)\n",
    "    predicted = model.predict(features_valid)\n",
    "    f1 = f1_score(target_valid, predicted) \n",
    "    if f1 > best_f1:\n",
    "        best_f1 = f1\n",
    "        best_depth = depth\n",
    "        probabilities = model.predict_proba(features_valid)\n",
    "        probabilities_one = probabilities[:,1]\n",
    "        best_auc_roc = roc_auc_score(target_valid, probabilities_one) \n",
    "print('best depth:', depth)\n",
    "balanced_model_score = print_and_add(balanced_model_score, 'DecisionTreeClassifier',\n",
    "                                     best_f1, best_auc_roc)"
   ]
  },
  {
   "cell_type": "code",
   "execution_count": 35,
   "metadata": {},
   "outputs": [
    {
     "data": {
      "application/vnd.jupyter.widget-view+json": {
       "model_id": "75aa1d1e610748f6bd4d1c65473ecca5",
       "version_major": 2,
       "version_minor": 0
      },
      "text/plain": [
       "  0%|          | 0/5 [00:00<?, ?it/s]"
      ]
     },
     "metadata": {},
     "output_type": "display_data"
    },
    {
     "name": "stdout",
     "output_type": "stream",
     "text": [
      "best depth: 8\n",
      "best n_estimators: 159\n",
      "best F1: 0.647\n",
      "best AUC-ROC: 0.870\n"
     ]
    }
   ],
   "source": [
    "best_f1 = 0\n",
    "best_depth = 0\n",
    "best_auc_roc = 0\n",
    "best_est = 0\n",
    "\n",
    "for est in trange(155, 160):    \n",
    "    for depth in range(5,13):    \n",
    "        model = RandomForestClassifier(random_state=12345, max_depth=depth, n_estimators=est,\n",
    "                                       class_weight='balanced')\n",
    "        model.fit(features_train, target_train)\n",
    "        predicted = model.predict(features_valid)\n",
    "        f1 = f1_score(target_valid, predicted) \n",
    "        if f1 > best_f1:\n",
    "            best_f1 = f1\n",
    "            best_depth = depth\n",
    "            best_est = est\n",
    "            probabilities = model.predict_proba(features_valid)\n",
    "            probabilities_one = probabilities[:,1]\n",
    "            best_auc_roc = roc_auc_score(target_valid, probabilities_one) \n",
    "print('best depth:', best_depth)\n",
    "print('best n_estimators:', est)\n",
    "balanced_model_score = print_and_add(balanced_model_score, 'RandomForestClassifier',\n",
    "                                     best_f1, best_auc_roc)"
   ]
  },
  {
   "cell_type": "code",
   "execution_count": 36,
   "metadata": {},
   "outputs": [
    {
     "data": {
      "text/plain": [
       "(array([0, 1, 2]),\n",
       " [Text(0, 0, 'LogisticRegression'),\n",
       "  Text(1, 0, 'DecisionTreeClassifier'),\n",
       "  Text(2, 0, 'RandomForestClassifier')])"
      ]
     },
     "execution_count": 36,
     "metadata": {},
     "output_type": "execute_result"
    },
    {
     "data": {
      "image/png": "[encoded data removed]",
      "text/plain": [
       "<Figure size 864x504 with 1 Axes>"
      ]
     },
     "metadata": {
      "needs_background": "light"
     },
     "output_type": "display_data"
    }
   ],
   "source": [
    "balanced_model_score.plot(x='model_name', kind='bar', figsize=(12,7), fontsize=14, grid=True,\n",
    "                          title='Сравнение метрик моделей после \"class_weight\" ' )\n",
    "plt.xticks(rotation=0)"
   ]
  },
  {
   "cell_type": "markdown",
   "metadata": {},
   "source": [
    "Увеличим количество положительных целевых признаков в 4 раза (примерно уравняем его с количеством отрицательных \n",
    "целевых признаков)."
   ]
  },
  {
   "cell_type": "code",
   "execution_count": 37,
   "metadata": {},
   "outputs": [],
   "source": [
    "def upsample(features, target, repeat):\n",
    "    features_zeros = features[target == 0]\n",
    "    features_ones = features[target == 1]\n",
    "    target_zeros = target[target == 0]\n",
    "    target_ones = target[target == 1]\n",
    "    features_upsampled = pd.concat([features_zeros] + [features_ones] * repeat)\n",
    "    target_upsampled = pd.concat([target_zeros] + [target_ones] * repeat)\n",
    "    features_upsampled, target_upsampled = shuffle( features_upsampled, target_upsampled,\n",
    "                                                   random_state=12345)\n",
    "    return features_upsampled, target_upsampled"
   ]
  },
  {
   "cell_type": "code",
   "execution_count": 38,
   "metadata": {},
   "outputs": [
    {
     "data": {
      "text/plain": [
       "1    0.505818\n",
       "0    0.494182\n",
       "Name: exited, dtype: float64"
      ]
     },
     "execution_count": 38,
     "metadata": {},
     "output_type": "execute_result"
    }
   ],
   "source": [
    "features_train, target_train = upsample(features_train, target_train, 4)\n",
    "target_train.value_counts(normalize=True)"
   ]
  },
  {
   "cell_type": "markdown",
   "metadata": {},
   "source": [
    "Классы практически сравнялись"
   ]
  },
  {
   "cell_type": "code",
   "execution_count": 39,
   "metadata": {},
   "outputs": [],
   "source": [
    "upsample_model_score = pd.DataFrame(columns=['model_name', 'f1', 'auc_roc'])"
   ]
  },
  {
   "cell_type": "code",
   "execution_count": 40,
   "metadata": {},
   "outputs": [
    {
     "name": "stdout",
     "output_type": "stream",
     "text": [
      "best C: 0.03\n",
      "best F1: 0.517\n",
      "best AUC-ROC: 0.788\n"
     ]
    }
   ],
   "source": [
    "best_c = 0\n",
    "best_auc_roc = 0\n",
    "best_f1 = 0\n",
    "\n",
    "for c in np.arange(0.03, 0.05, 0.001):\n",
    "    model = LogisticRegression(random_state=12345, C=c, solver='liblinear')\n",
    "    model.fit(features_train, target_train)\n",
    "    predicted = model.predict(features_valid)\n",
    "    f1 = f1_score(target_valid, predicted)\n",
    "    if f1 > best_f1:\n",
    "        best_f1 = f1\n",
    "        best_c = c\n",
    "        probabilities = model.predict_proba(features_valid)\n",
    "        probabilities_one = probabilities[:,1]\n",
    "        best_auc_roc = roc_auc_score(target_valid, probabilities_one)\n",
    "print('best C:', best_c)        \n",
    "upsample_model_score = print_and_add(upsample_model_score, 'LogisticRegression',\n",
    "                                     best_f1, best_auc_roc)"
   ]
  },
  {
   "cell_type": "code",
   "execution_count": 41,
   "metadata": {},
   "outputs": [
    {
     "data": {
      "application/vnd.jupyter.widget-view+json": {
       "model_id": "1c3c4b92d5a64a8381ffcc36c548ace2",
       "version_major": 2,
       "version_minor": 0
      },
      "text/plain": [
       "  0%|          | 0/7 [00:00<?, ?it/s]"
      ]
     },
     "metadata": {},
     "output_type": "display_data"
    },
    {
     "name": "stdout",
     "output_type": "stream",
     "text": [
      "best depth: 14\n",
      "best F1: 0.587\n",
      "best AUC-ROC: 0.809\n"
     ]
    }
   ],
   "source": [
    "best_f1 = 0\n",
    "best_depth = 0\n",
    "best_auc_roc = 0\n",
    "for depth in trange(8,15):    \n",
    "    model = DecisionTreeClassifier(random_state=12345, max_depth=depth)\n",
    "    model.fit(features_train, target_train)\n",
    "    predicted = model.predict(features_valid)\n",
    "    f1 = f1_score(target_valid, predicted) \n",
    "    if f1 > best_f1:\n",
    "        best_f1 = f1\n",
    "        best_depth = depth\n",
    "        probabilities = model.predict_proba(features_valid)\n",
    "        probabilities_one = probabilities[:,1]\n",
    "        best_auc_roc = roc_auc_score(target_valid, probabilities_one) \n",
    "print('best depth:', depth)\n",
    "\n",
    "upsample_model_score = print_and_add(upsample_model_score, 'DecisionTreeClassifier',\n",
    "                                     best_f1, best_auc_roc)"
   ]
  },
  {
   "cell_type": "code",
   "execution_count": 42,
   "metadata": {},
   "outputs": [
    {
     "data": {
      "application/vnd.jupyter.widget-view+json": {
       "model_id": "627c90956f4e492fb15a404af3295cd9",
       "version_major": 2,
       "version_minor": 0
      },
      "text/plain": [
       "  0%|          | 0/5 [00:00<?, ?it/s]"
      ]
     },
     "metadata": {},
     "output_type": "display_data"
    },
    {
     "name": "stdout",
     "output_type": "stream",
     "text": [
      "best depth: 8\n",
      "best n_estimators: 159\n",
      "best F1: 0.632\n",
      "best AUC-ROC: 0.869\n"
     ]
    }
   ],
   "source": [
    "best_f1 = 0\n",
    "best_depth = 0\n",
    "best_auc_roc = 0\n",
    "best_est = 0\n",
    "\n",
    "for est in trange(155, 160):    \n",
    "    for depth in range(5,13):    \n",
    "        model = RandomForestClassifier(random_state=12345, max_depth=depth, n_estimators=est)\n",
    "        model.fit(features_train, target_train)\n",
    "        predicted = model.predict(features_valid)\n",
    "        f1 = f1_score(target_valid, predicted) \n",
    "        if f1 > best_f1:\n",
    "            best_f1 = f1\n",
    "            best_depth = depth\n",
    "            best_est = est\n",
    "            probabilities = model.predict_proba(features_valid)\n",
    "            probabilities_one = probabilities[:,1]\n",
    "            best_auc_roc = roc_auc_score(target_valid, probabilities_one) \n",
    "print('best depth:', best_depth)\n",
    "print('best n_estimators:', est)\n",
    "upsample_model_score = print_and_add(upsample_model_score, 'RandomForestClassifier',\n",
    "                                     best_f1, best_auc_roc)"
   ]
  },
  {
   "cell_type": "code",
   "execution_count": 43,
   "metadata": {},
   "outputs": [
    {
     "data": {
      "text/plain": [
       "(array([0, 1, 2]),\n",
       " [Text(0, 0, 'LogisticRegression'),\n",
       "  Text(1, 0, 'DecisionTreeClassifier'),\n",
       "  Text(2, 0, 'RandomForestClassifier')])"
      ]
     },
     "execution_count": 43,
     "metadata": {},
     "output_type": "execute_result"
    },
    {
     "data": {
      "image/png": "[encoded data removed]",
      "text/plain": [
       "<Figure size 864x504 with 1 Axes>"
      ]
     },
     "metadata": {
      "needs_background": "light"
     },
     "output_type": "display_data"
    }
   ],
   "source": [
    "upsample_model_score.plot(x='model_name', kind='bar', figsize=(12,7), fontsize=14, grid=True,\n",
    "                          title='Сравнение метрик моделей после \"upsample\" ' )\n",
    "plt.xticks(rotation=0)"
   ]
  },
  {
   "cell_type": "code",
   "execution_count": 44,
   "metadata": {},
   "outputs": [
    {
     "data": {
      "text/html": [
       "<div>\n",
       "<style scoped>\n",
       "    .dataframe tbody tr th:only-of-type {\n",
       "        vertical-align: middle;\n",
       "    }\n",
       "\n",
       "    .dataframe tbody tr th {\n",
       "        vertical-align: top;\n",
       "    }\n",
       "\n",
       "    .dataframe thead th {\n",
       "        text-align: right;\n",
       "    }\n",
       "</style>\n",
       "<table border=\"1\" class=\"dataframe\">\n",
       "  <thead>\n",
       "    <tr style=\"text-align: right;\">\n",
       "      <th></th>\n",
       "      <th>model_name</th>\n",
       "      <th>f1</th>\n",
       "      <th>auc_roc</th>\n",
       "    </tr>\n",
       "  </thead>\n",
       "  <tbody>\n",
       "    <tr>\n",
       "      <th>0</th>\n",
       "      <td>LogisticRegression</td>\n",
       "      <td>0.279412</td>\n",
       "      <td>0.781621</td>\n",
       "    </tr>\n",
       "    <tr>\n",
       "      <th>1</th>\n",
       "      <td>DecisionTreeClassifier</td>\n",
       "      <td>0.554974</td>\n",
       "      <td>0.752420</td>\n",
       "    </tr>\n",
       "    <tr>\n",
       "      <th>2</th>\n",
       "      <td>RandomForestClassifier</td>\n",
       "      <td>0.539185</td>\n",
       "      <td>0.868776</td>\n",
       "    </tr>\n",
       "  </tbody>\n",
       "</table>\n",
       "</div>"
      ],
      "text/plain": [
       "               model_name        f1   auc_roc\n",
       "0      LogisticRegression  0.279412  0.781621\n",
       "1  DecisionTreeClassifier  0.554974  0.752420\n",
       "2  RandomForestClassifier  0.539185  0.868776"
      ]
     },
     "execution_count": 44,
     "metadata": {},
     "output_type": "execute_result"
    }
   ],
   "source": [
    "model_score # Не сбалансированная выборка"
   ]
  },
  {
   "cell_type": "code",
   "execution_count": 45,
   "metadata": {},
   "outputs": [
    {
     "data": {
      "text/html": [
       "<div>\n",
       "<style scoped>\n",
       "    .dataframe tbody tr th:only-of-type {\n",
       "        vertical-align: middle;\n",
       "    }\n",
       "\n",
       "    .dataframe tbody tr th {\n",
       "        vertical-align: top;\n",
       "    }\n",
       "\n",
       "    .dataframe thead th {\n",
       "        text-align: right;\n",
       "    }\n",
       "</style>\n",
       "<table border=\"1\" class=\"dataframe\">\n",
       "  <thead>\n",
       "    <tr style=\"text-align: right;\">\n",
       "      <th></th>\n",
       "      <th>model_name</th>\n",
       "      <th>f1</th>\n",
       "      <th>auc_roc</th>\n",
       "    </tr>\n",
       "  </thead>\n",
       "  <tbody>\n",
       "    <tr>\n",
       "      <th>0</th>\n",
       "      <td>LogisticRegression</td>\n",
       "      <td>0.518519</td>\n",
       "      <td>0.787752</td>\n",
       "    </tr>\n",
       "    <tr>\n",
       "      <th>1</th>\n",
       "      <td>DecisionTreeClassifier</td>\n",
       "      <td>0.586011</td>\n",
       "      <td>0.811371</td>\n",
       "    </tr>\n",
       "    <tr>\n",
       "      <th>2</th>\n",
       "      <td>RandomForestClassifier</td>\n",
       "      <td>0.646809</td>\n",
       "      <td>0.869711</td>\n",
       "    </tr>\n",
       "  </tbody>\n",
       "</table>\n",
       "</div>"
      ],
      "text/plain": [
       "               model_name        f1   auc_roc\n",
       "0      LogisticRegression  0.518519  0.787752\n",
       "1  DecisionTreeClassifier  0.586011  0.811371\n",
       "2  RandomForestClassifier  0.646809  0.869711"
      ]
     },
     "execution_count": 45,
     "metadata": {},
     "output_type": "execute_result"
    }
   ],
   "source": [
    "balanced_model_score # Балансировка \"class_weight\""
   ]
  },
  {
   "cell_type": "code",
   "execution_count": 46,
   "metadata": {},
   "outputs": [
    {
     "data": {
      "text/html": [
       "<div>\n",
       "<style scoped>\n",
       "    .dataframe tbody tr th:only-of-type {\n",
       "        vertical-align: middle;\n",
       "    }\n",
       "\n",
       "    .dataframe tbody tr th {\n",
       "        vertical-align: top;\n",
       "    }\n",
       "\n",
       "    .dataframe thead th {\n",
       "        text-align: right;\n",
       "    }\n",
       "</style>\n",
       "<table border=\"1\" class=\"dataframe\">\n",
       "  <thead>\n",
       "    <tr style=\"text-align: right;\">\n",
       "      <th></th>\n",
       "      <th>model_name</th>\n",
       "      <th>f1</th>\n",
       "      <th>auc_roc</th>\n",
       "    </tr>\n",
       "  </thead>\n",
       "  <tbody>\n",
       "    <tr>\n",
       "      <th>0</th>\n",
       "      <td>LogisticRegression</td>\n",
       "      <td>0.516667</td>\n",
       "      <td>0.787541</td>\n",
       "    </tr>\n",
       "    <tr>\n",
       "      <th>1</th>\n",
       "      <td>DecisionTreeClassifier</td>\n",
       "      <td>0.587332</td>\n",
       "      <td>0.809231</td>\n",
       "    </tr>\n",
       "    <tr>\n",
       "      <th>2</th>\n",
       "      <td>RandomForestClassifier</td>\n",
       "      <td>0.632411</td>\n",
       "      <td>0.869277</td>\n",
       "    </tr>\n",
       "  </tbody>\n",
       "</table>\n",
       "</div>"
      ],
      "text/plain": [
       "               model_name        f1   auc_roc\n",
       "0      LogisticRegression  0.516667  0.787541\n",
       "1  DecisionTreeClassifier  0.587332  0.809231\n",
       "2  RandomForestClassifier  0.632411  0.869277"
      ]
     },
     "execution_count": 46,
     "metadata": {},
     "output_type": "execute_result"
    }
   ],
   "source": [
    "upsample_model_score # Балансировка \"upsample\""
   ]
  },
  {
   "cell_type": "markdown",
   "metadata": {},
   "source": [
    "Оба метода балансировки выборки существенно улучшили показатели рассмотренных моделей. \n",
    "Лучшие показатели при балансировке у модели RandomForestClassifier, худшие у модели LogisticRegression. "
   ]
  },
  {
   "cell_type": "markdown",
   "metadata": {},
   "source": [
    "## Тестирование модели"
   ]
  },
  {
   "cell_type": "markdown",
   "metadata": {},
   "source": [
    "Предобработка тестовых данных"
   ]
  },
  {
   "cell_type": "markdown",
   "metadata": {},
   "source": [
    "Преобразование категориальных признаков с помощью OHE"
   ]
  },
  {
   "cell_type": "code",
   "execution_count": 47,
   "metadata": {},
   "outputs": [],
   "source": [
    "test = pd.get_dummies(test, drop_first=True)"
   ]
  },
  {
   "cell_type": "markdown",
   "metadata": {},
   "source": [
    "Масштабирование численных признаков"
   ]
  },
  {
   "cell_type": "code",
   "execution_count": 49,
   "metadata": {},
   "outputs": [],
   "source": [
    "numeric_column = ['credit_score', 'age', 'tenure', 'balance', 'num_of_products', \n",
    "                 'estimated_salary']\n",
    "\n",
    "scaler = StandardScaler()\n",
    "\n",
    "\n",
    "scaler.fit(features_train[numeric_column])\n",
    "\n",
    "features_train[numeric_column] = scaler.transform(features_train[numeric_column])\n",
    "features_test[numeric_column] = scaler.transform(features_test[numeric_column])"
   ]
  },
  {
   "cell_type": "markdown",
   "metadata": {},
   "source": [
    "Обучение лучшего по исследованию алгоритма \"Случайный лес\""
   ]
  },
  {
   "cell_type": "code",
   "execution_count": 50,
   "metadata": {},
   "outputs": [],
   "source": [
    "model = RandomForestClassifier(random_state=12345, max_depth=9, n_estimators=159,\n",
    "                               class_weight='balanced')\n",
    "model.fit(features, target)\n",
    "predicted = model.predict(features_test)"
   ]
  },
  {
   "cell_type": "code",
   "execution_count": 51,
   "metadata": {},
   "outputs": [
    {
     "name": "stdout",
     "output_type": "stream",
     "text": [
      "F1: 0.706\n",
      "AUC_ROC: 0.920\n",
      "Accuracu: 0.872\n"
     ]
    }
   ],
   "source": [
    "print('F1: {:,.3f}'.format(f1_score(target_test, predicted)))\n",
    "probabilities = model.predict_proba(features_test)\n",
    "probabilities_one = probabilities[:,1]\n",
    "print('AUC_ROC: {:,.3f}'.format(roc_auc_score(target_test, probabilities_one)))\n",
    "print('Accuracu: {:,.3f}'.format(model.score(features_test, target_test)))\n",
    "precision, recall, thresholds = precision_recall_curve(target_test, probabilities_one)\n"
   ]
  },
  {
   "cell_type": "code",
   "execution_count": 52,
   "metadata": {},
   "outputs": [],
   "source": [
    "rf_fin = RandomForestClassifier(random_state=2202, max_depth=9, n_estimators=159).fit(features_test, target_test)"
   ]
  },
  {
   "cell_type": "code",
   "execution_count": 53,
   "metadata": {},
   "outputs": [],
   "source": [
    "def roc_curve_plot(model, name):\n",
    "    \n",
    "    p_test = model.predict_proba(features_test)\n",
    "    p_one_test = p_test[:, 1]\n",
    "    \n",
    "    auc_roc = roc_auc_score(target_test, p_one_test)\n",
    "\n",
    "    fpr, tpr, thresholds = roc_curve(target_test, p_one_test)\n",
    "\n",
    "    plt.figure(figsize=(5,3))\n",
    "\n",
    "    plt.plot(fpr, tpr, color='mediumblue')\n",
    "    plt.plot([0, 1], [0, 1], linestyle='--', color='firebrick')\n",
    "\n",
    "    plt.xlim([0.0, 1.0])\n",
    "    plt.ylim([0.0, 1.0])\n",
    "\n",
    "    plt.xlabel('False Positive Rate')\n",
    "    plt.ylabel('True Positive Rate')\n",
    "\n",
    "    plt.title('ROC-кривая модели {}'.format(name))\n",
    "    \n",
    "    plt.show()\n",
    "    print('AUC-ROC модели {} = {:.3}'.format(name, auc_roc))"
   ]
  },
  {
   "cell_type": "code",
   "execution_count": 54,
   "metadata": {},
   "outputs": [
    {
     "data": {
      "image/png": "[encoded data removed]",
      "text/plain": [
       "<Figure size 360x216 with 1 Axes>"
      ]
     },
     "metadata": {
      "needs_background": "light"
     },
     "output_type": "display_data"
    },
    {
     "name": "stdout",
     "output_type": "stream",
     "text": [
      "AUC-ROC модели RandomForestClassifier = 0.92\n"
     ]
    }
   ],
   "source": [
    "roc_curve_plot(model, 'RandomForestClassifier')"
   ]
  },
  {
   "cell_type": "markdown",
   "metadata": {},
   "source": [
    "Итог - f1_score случайного леса с заданными параметрами на тестовой выборке ~0.0.706, что на текущий момент является лучшим результатом.\n",
    "Accuracu нашей модели практически 87.2%. Площадь под кривой ошибок так же продемонстрировала лучший за всю историю наблюдений показатель ~0.936."
   ]
  },
  {
   "cell_type": "markdown",
   "metadata": {},
   "source": [
    "# Общий вывод\n"
   ]
  },
  {
   "cell_type": "raw",
   "metadata": {},
   "source": [
    "\n",
    "Целью данного исследования ставилось создание модели, способной предсказывать отток клиентов из банка на основании нескольких представленных признаков.\n",
    "Основными задачами исследования были создание модели с определенным уровнем показателя f1, аппробация методов балансировки классов целевого признака и тестирование несколько различных моделей.\n",
    "\n",
    "Основными выводами в ходе исследования стали:\n",
    "\n",
    "Перед нами был пример задачи классификации - целевой признак был представлен двумя значениями [0, 1];\n",
    "Классы целевого признака были несбалансированны, отношение = 4:1;\n",
    "Первичное тестирование моделей без учета баланса классов продемонстрировало следующие показатели:\n",
    "    \n",
    "    model_name\t              f1\t     auc_roc\n",
    "0\tLogisticRegression\t    0.279412\t0.781621\n",
    "1\tDecisionTreeClassifier\t0.554974\t0.752420\n",
    "2\tRandomForestClassifier\t0.539185\t0.86877A\n",
    "\n",
    "Сравнение представленных выше моделей в сравнении с dummy моделью показало непригодность несбалансированной выборки грамотно обучить модель;\n",
    "\n",
    "В качестве двух методов балансировки значений целевых классов применялись методы upsampling и class_weight;\n",
    "Лучшие результаты продемострировала модель случайный лес с параметрами max_depth=9, n_estimators=159;\n",
    "Лучшими результатами на валидационной выборке были признаны следующие значения:\n",
    "     \n",
    "      model_name\t           f1\t     auc_roc\n",
    "0\tLogisticRegression\t    0.518519\t0.787752\n",
    "1\tDecisionTreeClassifier\t0.586011\t0.811371\n",
    "2\tRandomForestClassifier\t0.646809\t0.869711\n",
    "\n",
    "Для финального тестирования была выбрана модель случаного леса и метод балансировки class_weight;\n",
    "\n",
    "Финальное тестирование модели продемонстрировало следующие результаты:\n",
    "\n",
    "         model_name\t           f1\t     auc_roc\n",
    "0\tLogisticRegression\t    0.516667\t0.787541\n",
    "1\tDecisionTreeClassifier\t0.587332\t0.809231\n",
    "2\tRandomForestClassifier\t0.632411\t0.869277\n",
    "\n",
    ", что являются максимальными полученными значениями;\n",
    "\n",
    "Данные результаты признаны автором допустимыми и в достаточной мере значимыми для сдачи проекта.\n",
    "\n",
    "В заключение стоит отметить, что цели и задачи настоящего исследования были достигнуты успешно: построена и обучена модель с требуемыми показателями, все необходимые техники изучены и закреплены."
   ]
  }
 ],
 "metadata": {
  "ExecuteTimeLog": [
   {
    "duration": 1677,
    "start_time": "2022-10-08T13:50:42.974Z"
   },
   {
    "duration": 175,
    "start_time": "2022-10-08T13:50:47.622Z"
   },
   {
    "duration": 110,
    "start_time": "2022-10-08T13:54:13.184Z"
   },
   {
    "duration": 56,
    "start_time": "2022-10-08T13:55:05.596Z"
   },
   {
    "duration": 22,
    "start_time": "2022-10-08T13:55:12.848Z"
   },
   {
    "duration": 12,
    "start_time": "2022-10-08T13:57:26.162Z"
   },
   {
    "duration": 6,
    "start_time": "2022-10-08T13:58:26.078Z"
   },
   {
    "duration": 3,
    "start_time": "2022-10-08T13:58:31.308Z"
   },
   {
    "duration": 11,
    "start_time": "2022-10-08T14:01:45.078Z"
   },
   {
    "duration": 8,
    "start_time": "2022-10-08T14:04:06.063Z"
   },
   {
    "duration": 8,
    "start_time": "2022-10-08T14:30:48.205Z"
   },
   {
    "duration": 11,
    "start_time": "2022-10-08T14:32:43.408Z"
   },
   {
    "duration": 6,
    "start_time": "2022-10-08T14:32:57.850Z"
   },
   {
    "duration": 4,
    "start_time": "2022-10-08T14:34:51.523Z"
   },
   {
    "duration": 4,
    "start_time": "2022-10-08T14:39:51.937Z"
   },
   {
    "duration": 4,
    "start_time": "2022-10-08T14:42:04.284Z"
   },
   {
    "duration": 12,
    "start_time": "2022-10-08T14:43:41.216Z"
   },
   {
    "duration": 19,
    "start_time": "2022-10-08T14:45:10.435Z"
   },
   {
    "duration": 37,
    "start_time": "2022-10-08T14:48:01.330Z"
   },
   {
    "duration": 10,
    "start_time": "2022-10-08T15:04:12.701Z"
   },
   {
    "duration": 10,
    "start_time": "2022-10-08T15:05:18.109Z"
   },
   {
    "duration": 35,
    "start_time": "2022-10-08T15:05:30.789Z"
   },
   {
    "duration": 10,
    "start_time": "2022-10-08T15:05:35.601Z"
   },
   {
    "duration": 10,
    "start_time": "2022-10-08T15:06:20.714Z"
   },
   {
    "duration": 11,
    "start_time": "2022-10-08T15:08:13.526Z"
   },
   {
    "duration": 47,
    "start_time": "2022-10-08T15:11:20.508Z"
   },
   {
    "duration": 276,
    "start_time": "2022-10-08T15:18:24.562Z"
   },
   {
    "duration": 378,
    "start_time": "2022-10-08T15:19:31.018Z"
   },
   {
    "duration": 344,
    "start_time": "2022-10-08T15:19:44.481Z"
   },
   {
    "duration": 426,
    "start_time": "2022-10-08T15:20:05.043Z"
   },
   {
    "duration": 266,
    "start_time": "2022-10-08T15:20:24.154Z"
   },
   {
    "duration": 313,
    "start_time": "2022-10-08T15:20:56.152Z"
   },
   {
    "duration": 264,
    "start_time": "2022-10-08T15:21:25.174Z"
   },
   {
    "duration": 742,
    "start_time": "2022-10-08T15:21:42.749Z"
   },
   {
    "duration": 289,
    "start_time": "2022-10-08T15:22:25.444Z"
   },
   {
    "duration": 19,
    "start_time": "2022-10-08T15:23:19.479Z"
   },
   {
    "duration": 19,
    "start_time": "2022-10-08T15:23:22.598Z"
   },
   {
    "duration": 519,
    "start_time": "2022-10-08T15:27:00.128Z"
   },
   {
    "duration": 5,
    "start_time": "2022-10-08T16:13:40.313Z"
   },
   {
    "duration": 34,
    "start_time": "2022-10-08T16:14:07.052Z"
   },
   {
    "duration": 268,
    "start_time": "2022-10-08T16:14:41.127Z"
   },
   {
    "duration": 271,
    "start_time": "2022-10-08T16:17:20.776Z"
   },
   {
    "duration": 17,
    "start_time": "2022-10-08T16:18:09.724Z"
   },
   {
    "duration": 1139,
    "start_time": "2022-10-08T16:19:12.625Z"
   },
   {
    "duration": 5,
    "start_time": "2022-10-08T16:19:43.171Z"
   },
   {
    "duration": 710,
    "start_time": "2022-10-08T16:19:54.202Z"
   },
   {
    "duration": 30,
    "start_time": "2022-10-08T16:19:57.747Z"
   },
   {
    "duration": 7,
    "start_time": "2022-10-08T16:20:38.835Z"
   },
   {
    "duration": 33,
    "start_time": "2022-10-08T16:20:43.996Z"
   },
   {
    "duration": 53,
    "start_time": "2022-10-08T16:21:08.562Z"
   },
   {
    "duration": 18,
    "start_time": "2022-10-08T16:21:10.826Z"
   },
   {
    "duration": 37,
    "start_time": "2022-10-08T16:26:31.534Z"
   },
   {
    "duration": 18,
    "start_time": "2022-10-08T16:26:35.473Z"
   },
   {
    "duration": 10,
    "start_time": "2022-10-08T16:27:14.767Z"
   },
   {
    "duration": 10,
    "start_time": "2022-10-08T16:27:17.836Z"
   },
   {
    "duration": 14,
    "start_time": "2022-10-08T16:33:55.187Z"
   },
   {
    "duration": 14,
    "start_time": "2022-10-08T16:34:42.474Z"
   },
   {
    "duration": 14,
    "start_time": "2022-10-08T16:35:12.703Z"
   },
   {
    "duration": 21,
    "start_time": "2022-10-08T16:36:41.838Z"
   },
   {
    "duration": 20,
    "start_time": "2022-10-08T16:37:21.566Z"
   },
   {
    "duration": 35,
    "start_time": "2022-10-08T16:40:10.985Z"
   },
   {
    "duration": 5,
    "start_time": "2022-10-08T16:40:28.176Z"
   },
   {
    "duration": 61,
    "start_time": "2022-10-08T16:40:28.183Z"
   },
   {
    "duration": 19,
    "start_time": "2022-10-08T16:40:28.273Z"
   },
   {
    "duration": 4,
    "start_time": "2022-10-08T16:40:28.367Z"
   },
   {
    "duration": 18,
    "start_time": "2022-10-08T16:40:28.373Z"
   },
   {
    "duration": 6,
    "start_time": "2022-10-08T16:40:28.393Z"
   },
   {
    "duration": 4,
    "start_time": "2022-10-08T16:40:28.460Z"
   },
   {
    "duration": 5,
    "start_time": "2022-10-08T16:40:28.468Z"
   },
   {
    "duration": 6,
    "start_time": "2022-10-08T16:40:28.475Z"
   },
   {
    "duration": 6,
    "start_time": "2022-10-08T16:40:28.483Z"
   },
   {
    "duration": 700,
    "start_time": "2022-10-08T16:40:28.491Z"
   },
   {
    "duration": 33,
    "start_time": "2022-10-08T16:40:29.192Z"
   },
   {
    "duration": 290,
    "start_time": "2022-10-08T16:40:29.227Z"
   },
   {
    "duration": 190721,
    "start_time": "2022-10-08T16:40:29.519Z"
   },
   {
    "duration": 491,
    "start_time": "2022-10-08T16:43:40.241Z"
   },
   {
    "duration": 72,
    "start_time": "2022-10-08T16:43:40.734Z"
   },
   {
    "duration": 0,
    "start_time": "2022-10-08T16:43:40.808Z"
   },
   {
    "duration": 0,
    "start_time": "2022-10-08T16:43:40.809Z"
   },
   {
    "duration": 0,
    "start_time": "2022-10-08T16:43:40.810Z"
   },
   {
    "duration": 0,
    "start_time": "2022-10-08T16:43:40.811Z"
   },
   {
    "duration": 0,
    "start_time": "2022-10-08T16:43:40.812Z"
   },
   {
    "duration": 23,
    "start_time": "2022-10-08T16:49:18.301Z"
   },
   {
    "duration": 9,
    "start_time": "2022-10-08T17:07:08.181Z"
   },
   {
    "duration": 8,
    "start_time": "2022-10-08T17:09:26.589Z"
   },
   {
    "duration": 6,
    "start_time": "2022-10-08T17:14:19.986Z"
   },
   {
    "duration": 100,
    "start_time": "2022-10-08T19:37:00.854Z"
   },
   {
    "duration": 55,
    "start_time": "2022-10-08T19:45:21.858Z"
   },
   {
    "duration": 21,
    "start_time": "2022-10-08T19:47:38.756Z"
   },
   {
    "duration": 17,
    "start_time": "2022-10-08T19:47:43.631Z"
   },
   {
    "duration": 17,
    "start_time": "2022-10-08T19:47:54.268Z"
   },
   {
    "duration": 27,
    "start_time": "2022-10-08T19:48:18.006Z"
   },
   {
    "duration": 9,
    "start_time": "2022-10-08T19:53:18.481Z"
   },
   {
    "duration": 11,
    "start_time": "2022-10-08T19:55:21.730Z"
   },
   {
    "duration": 12,
    "start_time": "2022-10-08T19:55:44.442Z"
   },
   {
    "duration": 40,
    "start_time": "2022-10-08T19:56:40.838Z"
   },
   {
    "duration": 6,
    "start_time": "2022-10-08T19:58:13.652Z"
   },
   {
    "duration": 261,
    "start_time": "2022-10-08T20:04:02.065Z"
   },
   {
    "duration": 19,
    "start_time": "2022-10-08T20:04:51.347Z"
   },
   {
    "duration": 6,
    "start_time": "2022-10-08T20:16:00.656Z"
   },
   {
    "duration": 6,
    "start_time": "2022-10-08T20:16:05.471Z"
   },
   {
    "duration": 3,
    "start_time": "2022-10-08T20:18:23.137Z"
   },
   {
    "duration": 7,
    "start_time": "2022-10-08T20:18:46.942Z"
   },
   {
    "duration": 4,
    "start_time": "2022-10-08T20:20:29.707Z"
   },
   {
    "duration": 3,
    "start_time": "2022-10-08T20:20:43.450Z"
   },
   {
    "duration": 41,
    "start_time": "2022-10-08T20:20:53.837Z"
   },
   {
    "duration": 35,
    "start_time": "2022-10-08T20:23:21.053Z"
   },
   {
    "duration": 35,
    "start_time": "2022-10-08T20:23:32.715Z"
   },
   {
    "duration": 8,
    "start_time": "2022-10-08T20:26:14.710Z"
   },
   {
    "duration": 39,
    "start_time": "2022-10-08T20:26:24.544Z"
   },
   {
    "duration": 7,
    "start_time": "2022-10-08T20:28:36.767Z"
   },
   {
    "duration": 3,
    "start_time": "2022-10-08T20:31:22.657Z"
   },
   {
    "duration": 10,
    "start_time": "2022-10-08T20:32:06.790Z"
   },
   {
    "duration": 3,
    "start_time": "2022-10-08T20:34:05.828Z"
   },
   {
    "duration": 8,
    "start_time": "2022-10-08T20:34:09.196Z"
   },
   {
    "duration": 5,
    "start_time": "2022-10-08T20:35:00.408Z"
   },
   {
    "duration": 8,
    "start_time": "2022-10-08T20:35:49.931Z"
   },
   {
    "duration": 4,
    "start_time": "2022-10-08T20:36:07.085Z"
   },
   {
    "duration": 3,
    "start_time": "2022-10-08T20:36:53.886Z"
   },
   {
    "duration": 16,
    "start_time": "2022-10-08T20:37:19.462Z"
   },
   {
    "duration": 10,
    "start_time": "2022-10-08T20:38:21.735Z"
   },
   {
    "duration": 11,
    "start_time": "2022-10-08T20:38:54.269Z"
   },
   {
    "duration": 7,
    "start_time": "2022-10-08T20:39:19.347Z"
   },
   {
    "duration": 2,
    "start_time": "2022-10-08T20:39:33.799Z"
   },
   {
    "duration": 8,
    "start_time": "2022-10-08T20:40:00.005Z"
   },
   {
    "duration": 39,
    "start_time": "2022-10-08T20:40:05.328Z"
   },
   {
    "duration": 5,
    "start_time": "2022-10-08T21:15:08.272Z"
   },
   {
    "duration": 10,
    "start_time": "2022-10-08T21:16:08.049Z"
   },
   {
    "duration": 12,
    "start_time": "2022-10-08T21:22:33.755Z"
   },
   {
    "duration": 13,
    "start_time": "2022-10-08T21:42:42.643Z"
   },
   {
    "duration": 10,
    "start_time": "2022-10-08T21:43:18.964Z"
   },
   {
    "duration": 5,
    "start_time": "2022-10-08T21:44:26.934Z"
   },
   {
    "duration": 14,
    "start_time": "2022-10-08T21:46:11.899Z"
   },
   {
    "duration": 11,
    "start_time": "2022-10-08T21:46:28.019Z"
   },
   {
    "duration": 10,
    "start_time": "2022-10-08T21:50:25.599Z"
   },
   {
    "duration": 5,
    "start_time": "2022-10-08T21:50:35.582Z"
   },
   {
    "duration": 5,
    "start_time": "2022-10-08T21:52:00.278Z"
   },
   {
    "duration": 2499,
    "start_time": "2022-10-08T21:52:08.903Z"
   },
   {
    "duration": 10,
    "start_time": "2022-10-08T21:53:02.834Z"
   },
   {
    "duration": 5,
    "start_time": "2022-10-08T21:53:10.166Z"
   },
   {
    "duration": 2856,
    "start_time": "2022-10-08T21:53:16.551Z"
   },
   {
    "duration": 10,
    "start_time": "2022-10-08T21:53:49.592Z"
   },
   {
    "duration": 5,
    "start_time": "2022-10-08T21:53:54.871Z"
   },
   {
    "duration": 2449,
    "start_time": "2022-10-08T21:53:58.463Z"
   },
   {
    "duration": 12,
    "start_time": "2022-10-08T22:04:38.257Z"
   },
   {
    "duration": 12,
    "start_time": "2022-10-08T22:04:42.406Z"
   },
   {
    "duration": 2798,
    "start_time": "2022-10-08T22:05:00.511Z"
   },
   {
    "duration": 10,
    "start_time": "2022-10-08T22:08:32.017Z"
   },
   {
    "duration": 6,
    "start_time": "2022-10-08T22:08:39.392Z"
   },
   {
    "duration": 2468,
    "start_time": "2022-10-08T22:09:28.434Z"
   },
   {
    "duration": 2506,
    "start_time": "2022-10-08T22:10:51.996Z"
   },
   {
    "duration": 2529,
    "start_time": "2022-10-08T22:22:41.180Z"
   },
   {
    "duration": 2556,
    "start_time": "2022-10-08T22:25:40.746Z"
   },
   {
    "duration": 78,
    "start_time": "2022-10-08T22:30:23.534Z"
   },
   {
    "duration": 76,
    "start_time": "2022-10-08T22:30:49.360Z"
   },
   {
    "duration": 36,
    "start_time": "2022-10-08T22:31:08.673Z"
   },
   {
    "duration": 9,
    "start_time": "2022-10-08T22:33:51.068Z"
   },
   {
    "duration": 10,
    "start_time": "2022-10-08T22:33:56.663Z"
   },
   {
    "duration": 4,
    "start_time": "2022-10-08T22:34:40.460Z"
   },
   {
    "duration": 60,
    "start_time": "2022-10-08T22:34:40.467Z"
   },
   {
    "duration": 20,
    "start_time": "2022-10-08T22:34:40.577Z"
   },
   {
    "duration": 18,
    "start_time": "2022-10-08T22:34:40.599Z"
   },
   {
    "duration": 11,
    "start_time": "2022-10-08T22:34:40.618Z"
   },
   {
    "duration": 9,
    "start_time": "2022-10-08T22:34:40.631Z"
   },
   {
    "duration": 7,
    "start_time": "2022-10-08T22:34:40.641Z"
   },
   {
    "duration": 4,
    "start_time": "2022-10-08T22:34:40.649Z"
   },
   {
    "duration": 42,
    "start_time": "2022-10-08T22:34:40.655Z"
   },
   {
    "duration": 4,
    "start_time": "2022-10-08T22:34:40.699Z"
   },
   {
    "duration": 5,
    "start_time": "2022-10-08T22:34:40.705Z"
   },
   {
    "duration": 5,
    "start_time": "2022-10-08T22:34:40.711Z"
   },
   {
    "duration": 2,
    "start_time": "2022-10-08T22:34:40.718Z"
   },
   {
    "duration": 11,
    "start_time": "2022-10-08T22:34:40.721Z"
   },
   {
    "duration": 30,
    "start_time": "2022-10-08T22:34:40.734Z"
   },
   {
    "duration": 262,
    "start_time": "2022-10-08T22:34:40.803Z"
   },
   {
    "duration": 15,
    "start_time": "2022-10-08T22:34:41.067Z"
   },
   {
    "duration": 445,
    "start_time": "2022-10-08T22:34:41.095Z"
   },
   {
    "duration": 10,
    "start_time": "2022-10-08T22:34:41.542Z"
   },
   {
    "duration": 14,
    "start_time": "2022-10-08T22:34:41.554Z"
   },
   {
    "duration": 51,
    "start_time": "2022-10-08T22:34:41.570Z"
   },
   {
    "duration": 14,
    "start_time": "2022-10-08T22:34:41.623Z"
   },
   {
    "duration": 21,
    "start_time": "2022-10-08T22:34:41.639Z"
   },
   {
    "duration": 9,
    "start_time": "2022-10-08T22:34:41.661Z"
   },
   {
    "duration": 87,
    "start_time": "2022-10-08T22:34:41.672Z"
   },
   {
    "duration": 0,
    "start_time": "2022-10-08T22:34:41.760Z"
   },
   {
    "duration": 0,
    "start_time": "2022-10-08T22:34:41.761Z"
   },
   {
    "duration": 0,
    "start_time": "2022-10-08T22:34:41.762Z"
   },
   {
    "duration": 7,
    "start_time": "2022-10-08T22:35:09.734Z"
   },
   {
    "duration": 2532,
    "start_time": "2022-10-08T22:36:11.371Z"
   },
   {
    "duration": 11,
    "start_time": "2022-10-08T22:38:24.520Z"
   },
   {
    "duration": 2457,
    "start_time": "2022-10-08T22:38:43.845Z"
   },
   {
    "duration": 2529,
    "start_time": "2022-10-08T22:39:47.967Z"
   },
   {
    "duration": 2485,
    "start_time": "2022-10-08T22:40:06.917Z"
   },
   {
    "duration": 10,
    "start_time": "2022-10-08T22:41:08.215Z"
   },
   {
    "duration": 1401,
    "start_time": "2022-10-08T22:45:17.251Z"
   },
   {
    "duration": 74,
    "start_time": "2022-10-08T22:45:18.654Z"
   },
   {
    "duration": 18,
    "start_time": "2022-10-08T22:45:18.730Z"
   },
   {
    "duration": 19,
    "start_time": "2022-10-08T22:45:18.750Z"
   },
   {
    "duration": 29,
    "start_time": "2022-10-08T22:45:18.770Z"
   },
   {
    "duration": 11,
    "start_time": "2022-10-08T22:45:18.800Z"
   },
   {
    "duration": 12,
    "start_time": "2022-10-08T22:45:18.813Z"
   },
   {
    "duration": 19,
    "start_time": "2022-10-08T22:45:18.827Z"
   },
   {
    "duration": 8,
    "start_time": "2022-10-08T22:45:18.848Z"
   },
   {
    "duration": 3,
    "start_time": "2022-10-08T22:45:18.859Z"
   },
   {
    "duration": 4,
    "start_time": "2022-10-08T22:45:18.864Z"
   },
   {
    "duration": 6,
    "start_time": "2022-10-08T22:45:18.870Z"
   },
   {
    "duration": 3,
    "start_time": "2022-10-08T22:45:18.877Z"
   },
   {
    "duration": 12,
    "start_time": "2022-10-08T22:45:18.895Z"
   },
   {
    "duration": 40,
    "start_time": "2022-10-08T22:45:18.909Z"
   },
   {
    "duration": 313,
    "start_time": "2022-10-08T22:45:18.951Z"
   },
   {
    "duration": 15,
    "start_time": "2022-10-08T22:45:19.266Z"
   },
   {
    "duration": 453,
    "start_time": "2022-10-08T22:45:19.283Z"
   },
   {
    "duration": 11,
    "start_time": "2022-10-08T22:45:19.738Z"
   },
   {
    "duration": 10,
    "start_time": "2022-10-08T22:45:19.751Z"
   },
   {
    "duration": 54,
    "start_time": "2022-10-08T22:45:19.763Z"
   },
   {
    "duration": 19,
    "start_time": "2022-10-08T22:45:19.819Z"
   },
   {
    "duration": 24,
    "start_time": "2022-10-08T22:45:19.840Z"
   },
   {
    "duration": 30,
    "start_time": "2022-10-08T22:45:19.866Z"
   },
   {
    "duration": 80,
    "start_time": "2022-10-08T22:45:19.898Z"
   },
   {
    "duration": 0,
    "start_time": "2022-10-08T22:45:19.980Z"
   },
   {
    "duration": 0,
    "start_time": "2022-10-08T22:45:19.982Z"
   },
   {
    "duration": 0,
    "start_time": "2022-10-08T22:45:19.983Z"
   },
   {
    "duration": 0,
    "start_time": "2022-10-08T22:45:19.985Z"
   },
   {
    "duration": 0,
    "start_time": "2022-10-08T22:45:19.986Z"
   },
   {
    "duration": 0,
    "start_time": "2022-10-08T22:45:19.987Z"
   },
   {
    "duration": 0,
    "start_time": "2022-10-08T22:45:19.988Z"
   },
   {
    "duration": 1428,
    "start_time": "2022-10-08T22:45:51.179Z"
   },
   {
    "duration": 59,
    "start_time": "2022-10-08T22:45:52.609Z"
   },
   {
    "duration": 19,
    "start_time": "2022-10-08T22:45:52.670Z"
   },
   {
    "duration": 18,
    "start_time": "2022-10-08T22:45:52.691Z"
   },
   {
    "duration": 13,
    "start_time": "2022-10-08T22:45:52.710Z"
   },
   {
    "duration": 10,
    "start_time": "2022-10-08T22:45:52.724Z"
   },
   {
    "duration": 6,
    "start_time": "2022-10-08T22:45:52.736Z"
   },
   {
    "duration": 6,
    "start_time": "2022-10-08T22:45:52.743Z"
   },
   {
    "duration": 6,
    "start_time": "2022-10-08T22:45:52.750Z"
   },
   {
    "duration": 6,
    "start_time": "2022-10-08T22:45:52.758Z"
   },
   {
    "duration": 29,
    "start_time": "2022-10-08T22:45:52.766Z"
   },
   {
    "duration": 10,
    "start_time": "2022-10-08T22:45:52.797Z"
   },
   {
    "duration": 9,
    "start_time": "2022-10-08T22:45:52.809Z"
   },
   {
    "duration": 28,
    "start_time": "2022-10-08T22:45:52.820Z"
   },
   {
    "duration": 42,
    "start_time": "2022-10-08T22:45:52.850Z"
   },
   {
    "duration": 268,
    "start_time": "2022-10-08T22:45:52.894Z"
   },
   {
    "duration": 14,
    "start_time": "2022-10-08T22:45:53.164Z"
   },
   {
    "duration": 455,
    "start_time": "2022-10-08T22:45:53.179Z"
   },
   {
    "duration": 11,
    "start_time": "2022-10-08T22:45:53.636Z"
   },
   {
    "duration": 10,
    "start_time": "2022-10-08T22:45:53.648Z"
   },
   {
    "duration": 51,
    "start_time": "2022-10-08T22:45:53.659Z"
   },
   {
    "duration": 14,
    "start_time": "2022-10-08T22:45:53.712Z"
   },
   {
    "duration": 16,
    "start_time": "2022-10-08T22:45:53.728Z"
   },
   {
    "duration": 6,
    "start_time": "2022-10-08T22:45:53.745Z"
   },
   {
    "duration": 76,
    "start_time": "2022-10-08T22:45:53.752Z"
   },
   {
    "duration": 0,
    "start_time": "2022-10-08T22:45:53.830Z"
   },
   {
    "duration": 0,
    "start_time": "2022-10-08T22:45:53.831Z"
   },
   {
    "duration": 0,
    "start_time": "2022-10-08T22:45:53.832Z"
   },
   {
    "duration": 0,
    "start_time": "2022-10-08T22:45:53.832Z"
   },
   {
    "duration": 0,
    "start_time": "2022-10-08T22:45:53.834Z"
   },
   {
    "duration": 0,
    "start_time": "2022-10-08T22:45:53.835Z"
   },
   {
    "duration": 1445,
    "start_time": "2022-10-08T22:46:16.580Z"
   },
   {
    "duration": 72,
    "start_time": "2022-10-08T22:46:18.027Z"
   },
   {
    "duration": 18,
    "start_time": "2022-10-08T22:46:18.101Z"
   },
   {
    "duration": 20,
    "start_time": "2022-10-08T22:46:18.120Z"
   },
   {
    "duration": 14,
    "start_time": "2022-10-08T22:46:18.141Z"
   },
   {
    "duration": 11,
    "start_time": "2022-10-08T22:46:18.156Z"
   },
   {
    "duration": 30,
    "start_time": "2022-10-08T22:46:18.169Z"
   },
   {
    "duration": 4,
    "start_time": "2022-10-08T22:46:18.201Z"
   },
   {
    "duration": 5,
    "start_time": "2022-10-08T22:46:18.207Z"
   },
   {
    "duration": 5,
    "start_time": "2022-10-08T22:46:18.214Z"
   },
   {
    "duration": 4,
    "start_time": "2022-10-08T22:46:18.221Z"
   },
   {
    "duration": 6,
    "start_time": "2022-10-08T22:46:18.226Z"
   },
   {
    "duration": 2,
    "start_time": "2022-10-08T22:46:18.234Z"
   },
   {
    "duration": 11,
    "start_time": "2022-10-08T22:46:18.238Z"
   },
   {
    "duration": 65,
    "start_time": "2022-10-08T22:46:18.250Z"
   },
   {
    "duration": 281,
    "start_time": "2022-10-08T22:46:18.316Z"
   },
   {
    "duration": 17,
    "start_time": "2022-10-08T22:46:18.599Z"
   },
   {
    "duration": 432,
    "start_time": "2022-10-08T22:46:18.617Z"
   },
   {
    "duration": 12,
    "start_time": "2022-10-08T22:46:19.051Z"
   },
   {
    "duration": 11,
    "start_time": "2022-10-08T22:46:19.065Z"
   },
   {
    "duration": 49,
    "start_time": "2022-10-08T22:46:19.077Z"
   },
   {
    "duration": 15,
    "start_time": "2022-10-08T22:46:19.127Z"
   },
   {
    "duration": 19,
    "start_time": "2022-10-08T22:46:19.143Z"
   },
   {
    "duration": 35,
    "start_time": "2022-10-08T22:46:19.164Z"
   },
   {
    "duration": 12,
    "start_time": "2022-10-08T22:46:19.200Z"
   },
   {
    "duration": 5,
    "start_time": "2022-10-08T22:46:19.214Z"
   },
   {
    "duration": 127,
    "start_time": "2022-10-08T22:46:19.221Z"
   },
   {
    "duration": 0,
    "start_time": "2022-10-08T22:46:19.350Z"
   },
   {
    "duration": 0,
    "start_time": "2022-10-08T22:46:19.352Z"
   },
   {
    "duration": 0,
    "start_time": "2022-10-08T22:46:19.352Z"
   },
   {
    "duration": 19,
    "start_time": "2022-10-08T22:48:42.920Z"
   },
   {
    "duration": 76,
    "start_time": "2022-10-08T23:00:48.302Z"
   },
   {
    "duration": 19,
    "start_time": "2022-10-08T23:01:02.653Z"
   },
   {
    "duration": 26,
    "start_time": "2022-10-08T23:01:31.494Z"
   },
   {
    "duration": 12,
    "start_time": "2022-10-08T23:02:08.479Z"
   },
   {
    "duration": 20,
    "start_time": "2022-10-08T23:02:19.477Z"
   },
   {
    "duration": 1485,
    "start_time": "2022-10-08T23:02:36.770Z"
   },
   {
    "duration": 60,
    "start_time": "2022-10-08T23:02:38.257Z"
   },
   {
    "duration": 18,
    "start_time": "2022-10-08T23:02:38.319Z"
   },
   {
    "duration": 19,
    "start_time": "2022-10-08T23:02:38.339Z"
   },
   {
    "duration": 13,
    "start_time": "2022-10-08T23:02:38.360Z"
   },
   {
    "duration": 32,
    "start_time": "2022-10-08T23:02:38.374Z"
   },
   {
    "duration": 7,
    "start_time": "2022-10-08T23:02:38.407Z"
   },
   {
    "duration": 7,
    "start_time": "2022-10-08T23:02:38.415Z"
   },
   {
    "duration": 6,
    "start_time": "2022-10-08T23:02:38.423Z"
   },
   {
    "duration": 5,
    "start_time": "2022-10-08T23:02:38.432Z"
   },
   {
    "duration": 6,
    "start_time": "2022-10-08T23:02:38.438Z"
   },
   {
    "duration": 5,
    "start_time": "2022-10-08T23:02:38.446Z"
   },
   {
    "duration": 5,
    "start_time": "2022-10-08T23:02:38.453Z"
   },
   {
    "duration": 43,
    "start_time": "2022-10-08T23:02:38.459Z"
   },
   {
    "duration": 39,
    "start_time": "2022-10-08T23:02:38.503Z"
   },
   {
    "duration": 275,
    "start_time": "2022-10-08T23:02:38.544Z"
   },
   {
    "duration": 16,
    "start_time": "2022-10-08T23:02:38.821Z"
   },
   {
    "duration": 424,
    "start_time": "2022-10-08T23:02:38.838Z"
   },
   {
    "duration": 11,
    "start_time": "2022-10-08T23:02:39.263Z"
   },
   {
    "duration": 22,
    "start_time": "2022-10-08T23:02:39.275Z"
   },
   {
    "duration": 29,
    "start_time": "2022-10-08T23:02:39.298Z"
   },
   {
    "duration": 13,
    "start_time": "2022-10-08T23:02:39.329Z"
   },
   {
    "duration": 16,
    "start_time": "2022-10-08T23:02:39.344Z"
   },
   {
    "duration": 35,
    "start_time": "2022-10-08T23:02:39.362Z"
   },
   {
    "duration": 13,
    "start_time": "2022-10-08T23:02:39.398Z"
   },
   {
    "duration": 6,
    "start_time": "2022-10-08T23:02:39.413Z"
   },
   {
    "duration": 132,
    "start_time": "2022-10-08T23:02:39.421Z"
   },
   {
    "duration": 0,
    "start_time": "2022-10-08T23:02:39.555Z"
   },
   {
    "duration": 0,
    "start_time": "2022-10-08T23:02:39.557Z"
   },
   {
    "duration": 0,
    "start_time": "2022-10-08T23:02:39.558Z"
   },
   {
    "duration": 11,
    "start_time": "2022-10-08T23:04:40.147Z"
   },
   {
    "duration": 5,
    "start_time": "2022-10-08T23:04:53.770Z"
   },
   {
    "duration": 19,
    "start_time": "2022-10-08T23:05:06.257Z"
   },
   {
    "duration": 5,
    "start_time": "2022-10-08T23:06:04.228Z"
   },
   {
    "duration": 21,
    "start_time": "2022-10-08T23:06:08.532Z"
   },
   {
    "duration": 15,
    "start_time": "2022-10-08T23:07:42.887Z"
   },
   {
    "duration": 11,
    "start_time": "2022-10-08T23:08:59.549Z"
   },
   {
    "duration": 28,
    "start_time": "2022-10-08T23:09:08.597Z"
   },
   {
    "duration": 28,
    "start_time": "2022-10-08T23:09:16.590Z"
   },
   {
    "duration": 37,
    "start_time": "2022-10-08T23:09:30.838Z"
   },
   {
    "duration": 17,
    "start_time": "2022-10-08T23:17:29.810Z"
   },
   {
    "duration": 11,
    "start_time": "2022-10-08T23:18:06.956Z"
   },
   {
    "duration": 18,
    "start_time": "2022-10-08T23:18:14.887Z"
   },
   {
    "duration": 5,
    "start_time": "2022-10-08T23:18:47.198Z"
   },
   {
    "duration": 54,
    "start_time": "2022-10-08T23:18:51.356Z"
   },
   {
    "duration": 18,
    "start_time": "2022-10-08T23:18:56.149Z"
   },
   {
    "duration": 19,
    "start_time": "2022-10-08T23:18:59.631Z"
   },
   {
    "duration": 11,
    "start_time": "2022-10-08T23:19:03.748Z"
   },
   {
    "duration": 11,
    "start_time": "2022-10-08T23:19:06.956Z"
   },
   {
    "duration": 7,
    "start_time": "2022-10-08T23:19:10.165Z"
   },
   {
    "duration": 5,
    "start_time": "2022-10-08T23:19:14.219Z"
   },
   {
    "duration": 4,
    "start_time": "2022-10-08T23:19:18.506Z"
   },
   {
    "duration": 2,
    "start_time": "2022-10-08T23:19:22.565Z"
   },
   {
    "duration": 5,
    "start_time": "2022-10-08T23:19:24.883Z"
   },
   {
    "duration": 10,
    "start_time": "2022-10-08T23:19:29.437Z"
   },
   {
    "duration": 33,
    "start_time": "2022-10-08T23:19:34.581Z"
   },
   {
    "duration": 342,
    "start_time": "2022-10-08T23:19:39.829Z"
   },
   {
    "duration": 15,
    "start_time": "2022-10-08T23:19:43.934Z"
   },
   {
    "duration": 11,
    "start_time": "2022-10-08T23:19:50.509Z"
   },
   {
    "duration": 9,
    "start_time": "2022-10-08T23:19:55.230Z"
   },
   {
    "duration": 31,
    "start_time": "2022-10-08T23:19:59.164Z"
   },
   {
    "duration": 14,
    "start_time": "2022-10-08T23:20:02.541Z"
   },
   {
    "duration": 7,
    "start_time": "2022-10-08T23:20:06.573Z"
   },
   {
    "duration": 13,
    "start_time": "2022-10-08T23:20:11.468Z"
   },
   {
    "duration": 17,
    "start_time": "2022-10-08T23:20:17.861Z"
   },
   {
    "duration": 13,
    "start_time": "2022-10-08T23:22:44.088Z"
   },
   {
    "duration": 1491,
    "start_time": "2022-10-08T23:22:53.862Z"
   },
   {
    "duration": 68,
    "start_time": "2022-10-08T23:22:55.355Z"
   },
   {
    "duration": 21,
    "start_time": "2022-10-08T23:22:55.425Z"
   },
   {
    "duration": 21,
    "start_time": "2022-10-08T23:22:55.448Z"
   },
   {
    "duration": 28,
    "start_time": "2022-10-08T23:22:55.470Z"
   },
   {
    "duration": 12,
    "start_time": "2022-10-08T23:22:55.500Z"
   },
   {
    "duration": 7,
    "start_time": "2022-10-08T23:22:55.514Z"
   },
   {
    "duration": 4,
    "start_time": "2022-10-08T23:22:55.523Z"
   },
   {
    "duration": 6,
    "start_time": "2022-10-08T23:22:55.528Z"
   },
   {
    "duration": 4,
    "start_time": "2022-10-08T23:22:55.536Z"
   },
   {
    "duration": 4,
    "start_time": "2022-10-08T23:22:55.542Z"
   },
   {
    "duration": 6,
    "start_time": "2022-10-08T23:22:55.548Z"
   },
   {
    "duration": 3,
    "start_time": "2022-10-08T23:22:55.556Z"
   },
   {
    "duration": 10,
    "start_time": "2022-10-08T23:22:55.596Z"
   },
   {
    "duration": 33,
    "start_time": "2022-10-08T23:22:55.607Z"
   },
   {
    "duration": 283,
    "start_time": "2022-10-08T23:22:55.641Z"
   },
   {
    "duration": 15,
    "start_time": "2022-10-08T23:22:55.926Z"
   },
   {
    "duration": 489,
    "start_time": "2022-10-08T23:22:55.942Z"
   },
   {
    "duration": 11,
    "start_time": "2022-10-08T23:22:56.433Z"
   },
   {
    "duration": 10,
    "start_time": "2022-10-08T23:22:56.445Z"
   },
   {
    "duration": 58,
    "start_time": "2022-10-08T23:22:56.456Z"
   },
   {
    "duration": 19,
    "start_time": "2022-10-08T23:22:56.516Z"
   },
   {
    "duration": 21,
    "start_time": "2022-10-08T23:22:56.537Z"
   },
   {
    "duration": 26,
    "start_time": "2022-10-08T23:22:56.561Z"
   },
   {
    "duration": 10,
    "start_time": "2022-10-08T23:22:56.595Z"
   },
   {
    "duration": 122,
    "start_time": "2022-10-08T23:22:56.606Z"
   },
   {
    "duration": 0,
    "start_time": "2022-10-08T23:22:56.730Z"
   },
   {
    "duration": 0,
    "start_time": "2022-10-08T23:22:56.731Z"
   },
   {
    "duration": 0,
    "start_time": "2022-10-08T23:22:56.732Z"
   },
   {
    "duration": 1,
    "start_time": "2022-10-08T23:22:56.732Z"
   },
   {
    "duration": 0,
    "start_time": "2022-10-08T23:22:56.733Z"
   },
   {
    "duration": 9,
    "start_time": "2022-10-08T23:26:09.592Z"
   },
   {
    "duration": 118,
    "start_time": "2022-10-08T23:27:32.593Z"
   },
   {
    "duration": 16,
    "start_time": "2022-10-08T23:31:24.460Z"
   },
   {
    "duration": 10,
    "start_time": "2022-10-08T23:31:39.756Z"
   },
   {
    "duration": 38,
    "start_time": "2022-10-08T23:31:54.756Z"
   },
   {
    "duration": 2,
    "start_time": "2022-10-08T23:32:32.350Z"
   },
   {
    "duration": 14,
    "start_time": "2022-10-08T23:32:47.629Z"
   },
   {
    "duration": 11,
    "start_time": "2022-10-08T23:33:18.853Z"
   },
   {
    "duration": 38,
    "start_time": "2022-10-08T23:33:28.180Z"
   },
   {
    "duration": 14,
    "start_time": "2022-10-08T23:33:34.086Z"
   },
   {
    "duration": 69,
    "start_time": "2022-10-08T23:35:26.519Z"
   },
   {
    "duration": 18,
    "start_time": "2022-10-08T23:35:43.950Z"
   },
   {
    "duration": 18,
    "start_time": "2022-10-08T23:35:50.551Z"
   },
   {
    "duration": 12,
    "start_time": "2022-10-08T23:35:55.438Z"
   },
   {
    "duration": 12,
    "start_time": "2022-10-08T23:35:58.158Z"
   },
   {
    "duration": 8,
    "start_time": "2022-10-08T23:36:00.983Z"
   },
   {
    "duration": 5,
    "start_time": "2022-10-08T23:36:04.967Z"
   },
   {
    "duration": 5,
    "start_time": "2022-10-08T23:36:10.814Z"
   },
   {
    "duration": 5,
    "start_time": "2022-10-08T23:36:15.927Z"
   },
   {
    "duration": 12,
    "start_time": "2022-10-08T23:36:19.137Z"
   },
   {
    "duration": 39,
    "start_time": "2022-10-08T23:36:23.880Z"
   },
   {
    "duration": 332,
    "start_time": "2022-10-08T23:36:37.630Z"
   },
   {
    "duration": 20,
    "start_time": "2022-10-08T23:36:42.470Z"
   },
   {
    "duration": 13,
    "start_time": "2022-10-08T23:36:47.792Z"
   },
   {
    "duration": 10,
    "start_time": "2022-10-08T23:37:02.416Z"
   },
   {
    "duration": 11,
    "start_time": "2022-10-08T23:37:07.800Z"
   },
   {
    "duration": 35,
    "start_time": "2022-10-08T23:37:18.532Z"
   },
   {
    "duration": 14,
    "start_time": "2022-10-08T23:37:28.515Z"
   },
   {
    "duration": 2,
    "start_time": "2022-10-08T23:38:08.495Z"
   },
   {
    "duration": 17,
    "start_time": "2022-10-08T23:38:12.944Z"
   },
   {
    "duration": 7,
    "start_time": "2022-10-08T23:38:22.266Z"
   },
   {
    "duration": 9,
    "start_time": "2022-10-08T23:38:33.281Z"
   },
   {
    "duration": 4923,
    "start_time": "2022-10-08T23:38:47.851Z"
   },
   {
    "duration": 804,
    "start_time": "2022-10-08T23:39:35.035Z"
   },
   {
    "duration": 812,
    "start_time": "2022-10-08T23:40:19.107Z"
   },
   {
    "duration": 2059,
    "start_time": "2022-10-08T23:40:33.546Z"
   },
   {
    "duration": 170,
    "start_time": "2022-10-08T23:41:10.948Z"
   },
   {
    "duration": 21,
    "start_time": "2022-10-08T23:46:39.782Z"
   },
   {
    "duration": 16,
    "start_time": "2022-10-08T23:46:49.255Z"
   },
   {
    "duration": 7,
    "start_time": "2022-10-08T23:46:59.870Z"
   },
   {
    "duration": 12,
    "start_time": "2022-10-08T23:48:42.224Z"
   },
   {
    "duration": 1857,
    "start_time": "2022-10-08T23:48:55.038Z"
   },
   {
    "duration": 2528,
    "start_time": "2022-10-08T23:51:19.969Z"
   },
   {
    "duration": 6,
    "start_time": "2022-10-08T23:51:55.208Z"
   },
   {
    "duration": 2063,
    "start_time": "2022-10-08T23:52:00.633Z"
   },
   {
    "duration": 27,
    "start_time": "2022-10-08T23:52:58.871Z"
   },
   {
    "duration": 163,
    "start_time": "2022-10-08T23:53:11.433Z"
   },
   {
    "duration": 10469,
    "start_time": "2022-10-08T23:54:00.867Z"
   },
   {
    "duration": 10,
    "start_time": "2022-10-08T23:56:42.060Z"
   },
   {
    "duration": 9,
    "start_time": "2022-10-08T23:57:40.630Z"
   },
   {
    "duration": 5,
    "start_time": "2022-10-08T23:57:45.286Z"
   },
   {
    "duration": 1761,
    "start_time": "2022-10-08T23:57:46.935Z"
   },
   {
    "duration": 8325,
    "start_time": "2022-10-08T23:57:54.967Z"
   },
   {
    "duration": 4290,
    "start_time": "2022-10-08T23:58:08.963Z"
   },
   {
    "duration": 13,
    "start_time": "2022-10-09T00:01:18.946Z"
   },
   {
    "duration": 5,
    "start_time": "2022-10-09T00:01:24.528Z"
   },
   {
    "duration": 2106,
    "start_time": "2022-10-09T00:01:27.296Z"
   },
   {
    "duration": 10021,
    "start_time": "2022-10-09T00:01:34.921Z"
   },
   {
    "duration": 9967,
    "start_time": "2022-10-09T00:01:52.754Z"
   },
   {
    "duration": 10066,
    "start_time": "2022-10-09T00:04:17.539Z"
   },
   {
    "duration": 8,
    "start_time": "2022-10-09T00:06:39.684Z"
   },
   {
    "duration": 5,
    "start_time": "2022-10-09T00:07:14.227Z"
   },
   {
    "duration": 2108,
    "start_time": "2022-10-09T00:07:17.195Z"
   },
   {
    "duration": 14,
    "start_time": "2022-10-09T00:07:42.611Z"
   },
   {
    "duration": 5,
    "start_time": "2022-10-09T00:07:53.227Z"
   },
   {
    "duration": 2069,
    "start_time": "2022-10-09T00:07:55.435Z"
   },
   {
    "duration": 10126,
    "start_time": "2022-10-09T00:08:01.502Z"
   },
   {
    "duration": 21,
    "start_time": "2022-10-09T00:09:39.204Z"
   },
   {
    "duration": 5,
    "start_time": "2022-10-09T00:09:43.485Z"
   },
   {
    "duration": 1882,
    "start_time": "2022-10-09T00:09:47.718Z"
   },
   {
    "duration": 10273,
    "start_time": "2022-10-09T00:09:54.590Z"
   },
   {
    "duration": 12,
    "start_time": "2022-10-09T00:12:30.368Z"
   },
   {
    "duration": 2964,
    "start_time": "2022-10-09T00:12:44.735Z"
   },
   {
    "duration": 5,
    "start_time": "2022-10-09T00:13:05.798Z"
   },
   {
    "duration": 2891,
    "start_time": "2022-10-09T00:13:08.511Z"
   },
   {
    "duration": 2902,
    "start_time": "2022-10-09T00:13:17.294Z"
   },
   {
    "duration": 28,
    "start_time": "2022-10-09T00:13:51.639Z"
   },
   {
    "duration": 246,
    "start_time": "2022-10-09T00:14:11.122Z"
   },
   {
    "duration": 32,
    "start_time": "2022-10-09T00:14:48.042Z"
   },
   {
    "duration": 34490,
    "start_time": "2022-10-09T00:15:04.210Z"
   },
   {
    "duration": 57,
    "start_time": "2022-10-09T15:09:09.358Z"
   },
   {
    "duration": 6,
    "start_time": "2022-10-09T15:09:33.608Z"
   },
   {
    "duration": 1664,
    "start_time": "2022-10-09T15:09:42.091Z"
   },
   {
    "duration": 177,
    "start_time": "2022-10-09T15:09:43.756Z"
   },
   {
    "duration": 26,
    "start_time": "2022-10-09T15:09:43.935Z"
   },
   {
    "duration": 25,
    "start_time": "2022-10-09T15:09:43.964Z"
   },
   {
    "duration": 31,
    "start_time": "2022-10-09T15:09:43.991Z"
   },
   {
    "duration": 15,
    "start_time": "2022-10-09T15:09:44.025Z"
   },
   {
    "duration": 10,
    "start_time": "2022-10-09T15:09:44.042Z"
   },
   {
    "duration": 5,
    "start_time": "2022-10-09T15:09:44.054Z"
   },
   {
    "duration": 5,
    "start_time": "2022-10-09T15:09:44.061Z"
   },
   {
    "duration": 6,
    "start_time": "2022-10-09T15:09:44.068Z"
   },
   {
    "duration": 12,
    "start_time": "2022-10-09T15:09:44.076Z"
   },
   {
    "duration": 8,
    "start_time": "2022-10-09T15:09:44.090Z"
   },
   {
    "duration": 2,
    "start_time": "2022-10-09T15:09:44.122Z"
   },
   {
    "duration": 14,
    "start_time": "2022-10-09T15:09:44.125Z"
   },
   {
    "duration": 33,
    "start_time": "2022-10-09T15:09:44.140Z"
   },
   {
    "duration": 307,
    "start_time": "2022-10-09T15:09:44.175Z"
   },
   {
    "duration": 20,
    "start_time": "2022-10-09T15:09:44.484Z"
   },
   {
    "duration": 561,
    "start_time": "2022-10-09T15:09:44.505Z"
   },
   {
    "duration": 12,
    "start_time": "2022-10-09T15:09:45.067Z"
   },
   {
    "duration": 86,
    "start_time": "2022-10-09T15:09:45.080Z"
   },
   {
    "duration": 0,
    "start_time": "2022-10-09T15:09:45.168Z"
   },
   {
    "duration": 0,
    "start_time": "2022-10-09T15:09:45.169Z"
   },
   {
    "duration": 0,
    "start_time": "2022-10-09T15:09:45.170Z"
   },
   {
    "duration": 0,
    "start_time": "2022-10-09T15:09:45.171Z"
   },
   {
    "duration": 0,
    "start_time": "2022-10-09T15:09:45.172Z"
   },
   {
    "duration": 0,
    "start_time": "2022-10-09T15:09:45.173Z"
   },
   {
    "duration": 0,
    "start_time": "2022-10-09T15:09:45.174Z"
   },
   {
    "duration": 1,
    "start_time": "2022-10-09T15:09:45.175Z"
   },
   {
    "duration": 0,
    "start_time": "2022-10-09T15:09:45.177Z"
   },
   {
    "duration": 0,
    "start_time": "2022-10-09T15:09:45.179Z"
   },
   {
    "duration": 0,
    "start_time": "2022-10-09T15:09:45.180Z"
   },
   {
    "duration": 0,
    "start_time": "2022-10-09T15:09:45.181Z"
   },
   {
    "duration": 118,
    "start_time": "2022-10-09T15:10:42.661Z"
   },
   {
    "duration": 20,
    "start_time": "2022-10-09T15:19:18.515Z"
   },
   {
    "duration": 14,
    "start_time": "2022-10-09T15:19:36.740Z"
   },
   {
    "duration": 13,
    "start_time": "2022-10-09T15:20:37.580Z"
   },
   {
    "duration": 2922,
    "start_time": "2022-10-09T15:20:47.803Z"
   },
   {
    "duration": 6,
    "start_time": "2022-10-09T15:20:58.539Z"
   },
   {
    "duration": 2543,
    "start_time": "2022-10-09T15:21:04.494Z"
   },
   {
    "duration": 203,
    "start_time": "2022-10-09T15:21:13.707Z"
   },
   {
    "duration": 11077,
    "start_time": "2022-10-09T15:21:21.757Z"
   },
   {
    "duration": 11686,
    "start_time": "2022-10-09T15:22:50.965Z"
   },
   {
    "duration": 9,
    "start_time": "2022-10-09T15:23:39.828Z"
   },
   {
    "duration": 2705,
    "start_time": "2022-10-09T15:23:39.840Z"
   },
   {
    "duration": 343,
    "start_time": "2022-10-09T15:23:42.548Z"
   },
   {
    "duration": 0,
    "start_time": "2022-10-09T15:23:54.171Z"
   },
   {
    "duration": 0,
    "start_time": "2022-10-09T15:23:54.172Z"
   },
   {
    "duration": 0,
    "start_time": "2022-10-09T15:23:54.173Z"
   },
   {
    "duration": 0,
    "start_time": "2022-10-09T15:23:54.174Z"
   },
   {
    "duration": 0,
    "start_time": "2022-10-09T15:23:54.174Z"
   },
   {
    "duration": 0,
    "start_time": "2022-10-09T15:23:54.176Z"
   },
   {
    "duration": 0,
    "start_time": "2022-10-09T15:23:54.177Z"
   },
   {
    "duration": 0,
    "start_time": "2022-10-09T15:23:54.178Z"
   },
   {
    "duration": 0,
    "start_time": "2022-10-09T15:23:54.179Z"
   },
   {
    "duration": 0,
    "start_time": "2022-10-09T15:23:54.180Z"
   },
   {
    "duration": 0,
    "start_time": "2022-10-09T15:23:54.181Z"
   },
   {
    "duration": 0,
    "start_time": "2022-10-09T15:23:54.182Z"
   },
   {
    "duration": 0,
    "start_time": "2022-10-09T15:23:54.183Z"
   },
   {
    "duration": 1,
    "start_time": "2022-10-09T15:23:54.184Z"
   },
   {
    "duration": 0,
    "start_time": "2022-10-09T15:23:54.186Z"
   },
   {
    "duration": 0,
    "start_time": "2022-10-09T15:23:54.186Z"
   },
   {
    "duration": 0,
    "start_time": "2022-10-09T15:23:54.188Z"
   },
   {
    "duration": 0,
    "start_time": "2022-10-09T15:23:54.189Z"
   },
   {
    "duration": 0,
    "start_time": "2022-10-09T15:23:54.190Z"
   },
   {
    "duration": 0,
    "start_time": "2022-10-09T15:23:54.191Z"
   },
   {
    "duration": 0,
    "start_time": "2022-10-09T15:23:54.192Z"
   },
   {
    "duration": 0,
    "start_time": "2022-10-09T15:23:54.193Z"
   },
   {
    "duration": 0,
    "start_time": "2022-10-09T15:23:54.194Z"
   },
   {
    "duration": 0,
    "start_time": "2022-10-09T15:23:54.195Z"
   },
   {
    "duration": 0,
    "start_time": "2022-10-09T15:23:54.196Z"
   },
   {
    "duration": 0,
    "start_time": "2022-10-09T15:23:54.197Z"
   },
   {
    "duration": 0,
    "start_time": "2022-10-09T15:23:54.198Z"
   },
   {
    "duration": 0,
    "start_time": "2022-10-09T15:23:54.198Z"
   },
   {
    "duration": 0,
    "start_time": "2022-10-09T15:23:54.200Z"
   },
   {
    "duration": 0,
    "start_time": "2022-10-09T15:23:54.201Z"
   },
   {
    "duration": 0,
    "start_time": "2022-10-09T15:23:54.201Z"
   },
   {
    "duration": 0,
    "start_time": "2022-10-09T15:23:54.202Z"
   },
   {
    "duration": 0,
    "start_time": "2022-10-09T15:23:54.203Z"
   },
   {
    "duration": 0,
    "start_time": "2022-10-09T15:23:54.222Z"
   },
   {
    "duration": 0,
    "start_time": "2022-10-09T15:23:54.223Z"
   },
   {
    "duration": 0,
    "start_time": "2022-10-09T15:23:54.225Z"
   },
   {
    "duration": 0,
    "start_time": "2022-10-09T15:23:54.227Z"
   },
   {
    "duration": 0,
    "start_time": "2022-10-09T15:23:54.231Z"
   },
   {
    "duration": 124,
    "start_time": "2022-10-09T15:23:59.134Z"
   },
   {
    "duration": 4022,
    "start_time": "2022-10-09T15:24:09.709Z"
   },
   {
    "duration": 3857,
    "start_time": "2022-10-09T15:24:34.678Z"
   },
   {
    "duration": 9,
    "start_time": "2022-10-09T15:25:13.278Z"
   },
   {
    "duration": 3785,
    "start_time": "2022-10-09T15:25:20.381Z"
   },
   {
    "duration": 296,
    "start_time": "2022-10-09T15:25:29.118Z"
   },
   {
    "duration": 38103,
    "start_time": "2022-10-09T15:25:41.791Z"
   },
   {
    "duration": 2733,
    "start_time": "2022-10-09T15:31:17.531Z"
   },
   {
    "duration": 3033,
    "start_time": "2022-10-09T15:31:26.830Z"
   },
   {
    "duration": 215,
    "start_time": "2022-10-09T15:31:40.908Z"
   },
   {
    "duration": 11640,
    "start_time": "2022-10-09T15:31:48.735Z"
   },
   {
    "duration": 39,
    "start_time": "2022-10-09T15:35:40.508Z"
   },
   {
    "duration": 11483,
    "start_time": "2022-10-09T15:35:54.848Z"
   },
   {
    "duration": 10130,
    "start_time": "2022-10-09T15:36:38.417Z"
   },
   {
    "duration": 10769,
    "start_time": "2022-10-09T15:37:18.144Z"
   },
   {
    "duration": 3569,
    "start_time": "2022-10-09T15:37:48.589Z"
   },
   {
    "duration": 39743,
    "start_time": "2022-10-09T15:38:00.066Z"
   },
   {
    "duration": 11,
    "start_time": "2022-10-09T15:59:32.645Z"
   },
   {
    "duration": 196,
    "start_time": "2022-10-09T15:59:49.314Z"
   },
   {
    "duration": 165,
    "start_time": "2022-10-09T16:01:45.056Z"
   },
   {
    "duration": 159,
    "start_time": "2022-10-09T16:13:06.545Z"
   },
   {
    "duration": 9,
    "start_time": "2022-10-09T16:18:18.325Z"
   },
   {
    "duration": 163,
    "start_time": "2022-10-09T16:19:06.688Z"
   },
   {
    "duration": 186,
    "start_time": "2022-10-09T16:21:10.103Z"
   },
   {
    "duration": 232,
    "start_time": "2022-10-09T16:27:57.240Z"
   },
   {
    "duration": 4175,
    "start_time": "2022-10-09T16:29:17.164Z"
   },
   {
    "duration": 180,
    "start_time": "2022-10-09T16:29:25.067Z"
   },
   {
    "duration": 1521,
    "start_time": "2022-10-09T16:29:57.396Z"
   },
   {
    "duration": 63,
    "start_time": "2022-10-09T16:29:58.919Z"
   },
   {
    "duration": 19,
    "start_time": "2022-10-09T16:29:58.984Z"
   },
   {
    "duration": 18,
    "start_time": "2022-10-09T16:29:59.005Z"
   },
   {
    "duration": 14,
    "start_time": "2022-10-09T16:29:59.025Z"
   },
   {
    "duration": 11,
    "start_time": "2022-10-09T16:29:59.040Z"
   },
   {
    "duration": 7,
    "start_time": "2022-10-09T16:29:59.052Z"
   },
   {
    "duration": 7,
    "start_time": "2022-10-09T16:29:59.060Z"
   },
   {
    "duration": 7,
    "start_time": "2022-10-09T16:29:59.069Z"
   },
   {
    "duration": 3,
    "start_time": "2022-10-09T16:29:59.078Z"
   },
   {
    "duration": 5,
    "start_time": "2022-10-09T16:29:59.083Z"
   },
   {
    "duration": 35,
    "start_time": "2022-10-09T16:29:59.089Z"
   },
   {
    "duration": 6,
    "start_time": "2022-10-09T16:29:59.126Z"
   },
   {
    "duration": 12,
    "start_time": "2022-10-09T16:29:59.134Z"
   },
   {
    "duration": 36,
    "start_time": "2022-10-09T16:29:59.147Z"
   },
   {
    "duration": 323,
    "start_time": "2022-10-09T16:29:59.184Z"
   },
   {
    "duration": 22,
    "start_time": "2022-10-09T16:29:59.509Z"
   },
   {
    "duration": 452,
    "start_time": "2022-10-09T16:29:59.533Z"
   },
   {
    "duration": 12,
    "start_time": "2022-10-09T16:29:59.986Z"
   },
   {
    "duration": 131,
    "start_time": "2022-10-09T16:29:59.999Z"
   },
   {
    "duration": 0,
    "start_time": "2022-10-09T16:30:00.133Z"
   },
   {
    "duration": 0,
    "start_time": "2022-10-09T16:30:00.135Z"
   },
   {
    "duration": 0,
    "start_time": "2022-10-09T16:30:00.137Z"
   },
   {
    "duration": 0,
    "start_time": "2022-10-09T16:30:00.138Z"
   },
   {
    "duration": 0,
    "start_time": "2022-10-09T16:30:00.140Z"
   },
   {
    "duration": 0,
    "start_time": "2022-10-09T16:30:00.142Z"
   },
   {
    "duration": 0,
    "start_time": "2022-10-09T16:30:00.143Z"
   },
   {
    "duration": 0,
    "start_time": "2022-10-09T16:30:00.145Z"
   },
   {
    "duration": 0,
    "start_time": "2022-10-09T16:30:00.147Z"
   },
   {
    "duration": 0,
    "start_time": "2022-10-09T16:30:00.148Z"
   },
   {
    "duration": 0,
    "start_time": "2022-10-09T16:30:00.150Z"
   },
   {
    "duration": 0,
    "start_time": "2022-10-09T16:30:00.151Z"
   },
   {
    "duration": 0,
    "start_time": "2022-10-09T16:30:00.153Z"
   },
   {
    "duration": 0,
    "start_time": "2022-10-09T16:30:00.154Z"
   },
   {
    "duration": 0,
    "start_time": "2022-10-09T16:30:00.156Z"
   },
   {
    "duration": 0,
    "start_time": "2022-10-09T16:30:00.157Z"
   },
   {
    "duration": 0,
    "start_time": "2022-10-09T16:30:00.159Z"
   },
   {
    "duration": 0,
    "start_time": "2022-10-09T16:30:00.161Z"
   },
   {
    "duration": 0,
    "start_time": "2022-10-09T16:30:00.162Z"
   },
   {
    "duration": 12,
    "start_time": "2022-10-09T16:31:32.793Z"
   },
   {
    "duration": 1463,
    "start_time": "2022-10-09T16:31:51.011Z"
   },
   {
    "duration": 74,
    "start_time": "2022-10-09T16:31:52.476Z"
   },
   {
    "duration": 17,
    "start_time": "2022-10-09T16:31:52.553Z"
   },
   {
    "duration": 20,
    "start_time": "2022-10-09T16:31:52.572Z"
   },
   {
    "duration": 36,
    "start_time": "2022-10-09T16:31:52.594Z"
   },
   {
    "duration": 16,
    "start_time": "2022-10-09T16:31:52.632Z"
   },
   {
    "duration": 12,
    "start_time": "2022-10-09T16:31:52.651Z"
   },
   {
    "duration": 6,
    "start_time": "2022-10-09T16:31:52.665Z"
   },
   {
    "duration": 11,
    "start_time": "2022-10-09T16:31:52.673Z"
   },
   {
    "duration": 8,
    "start_time": "2022-10-09T16:31:52.687Z"
   },
   {
    "duration": 3,
    "start_time": "2022-10-09T16:31:52.721Z"
   },
   {
    "duration": 8,
    "start_time": "2022-10-09T16:31:52.727Z"
   },
   {
    "duration": 3,
    "start_time": "2022-10-09T16:31:52.737Z"
   },
   {
    "duration": 13,
    "start_time": "2022-10-09T16:31:52.742Z"
   },
   {
    "duration": 65,
    "start_time": "2022-10-09T16:31:52.757Z"
   },
   {
    "duration": 265,
    "start_time": "2022-10-09T16:31:52.824Z"
   },
   {
    "duration": 15,
    "start_time": "2022-10-09T16:31:53.090Z"
   },
   {
    "duration": 551,
    "start_time": "2022-10-09T16:31:53.107Z"
   },
   {
    "duration": 15,
    "start_time": "2022-10-09T16:31:53.661Z"
   },
   {
    "duration": 11,
    "start_time": "2022-10-09T16:31:53.678Z"
   },
   {
    "duration": 57,
    "start_time": "2022-10-09T16:31:53.691Z"
   },
   {
    "duration": 113,
    "start_time": "2022-10-09T16:31:53.750Z"
   },
   {
    "duration": 0,
    "start_time": "2022-10-09T16:31:53.865Z"
   },
   {
    "duration": 0,
    "start_time": "2022-10-09T16:31:53.867Z"
   },
   {
    "duration": 0,
    "start_time": "2022-10-09T16:31:53.868Z"
   },
   {
    "duration": 0,
    "start_time": "2022-10-09T16:31:53.869Z"
   },
   {
    "duration": 0,
    "start_time": "2022-10-09T16:31:53.871Z"
   },
   {
    "duration": 0,
    "start_time": "2022-10-09T16:31:53.873Z"
   },
   {
    "duration": 0,
    "start_time": "2022-10-09T16:31:53.874Z"
   },
   {
    "duration": 0,
    "start_time": "2022-10-09T16:31:53.875Z"
   },
   {
    "duration": 0,
    "start_time": "2022-10-09T16:31:53.877Z"
   },
   {
    "duration": 0,
    "start_time": "2022-10-09T16:31:53.878Z"
   },
   {
    "duration": 0,
    "start_time": "2022-10-09T16:31:53.880Z"
   },
   {
    "duration": 0,
    "start_time": "2022-10-09T16:31:53.881Z"
   },
   {
    "duration": 0,
    "start_time": "2022-10-09T16:31:53.883Z"
   },
   {
    "duration": 0,
    "start_time": "2022-10-09T16:31:53.885Z"
   },
   {
    "duration": 0,
    "start_time": "2022-10-09T16:31:53.886Z"
   },
   {
    "duration": 0,
    "start_time": "2022-10-09T16:31:53.923Z"
   },
   {
    "duration": 0,
    "start_time": "2022-10-09T16:31:53.925Z"
   },
   {
    "duration": 1554,
    "start_time": "2022-10-09T16:43:01.402Z"
   },
   {
    "duration": 61,
    "start_time": "2022-10-09T16:43:02.958Z"
   },
   {
    "duration": 18,
    "start_time": "2022-10-09T16:43:03.020Z"
   },
   {
    "duration": 17,
    "start_time": "2022-10-09T16:43:03.039Z"
   },
   {
    "duration": 15,
    "start_time": "2022-10-09T16:43:03.057Z"
   },
   {
    "duration": 19,
    "start_time": "2022-10-09T16:43:03.074Z"
   },
   {
    "duration": 25,
    "start_time": "2022-10-09T16:43:03.097Z"
   },
   {
    "duration": 5,
    "start_time": "2022-10-09T16:43:03.124Z"
   },
   {
    "duration": 9,
    "start_time": "2022-10-09T16:43:03.130Z"
   },
   {
    "duration": 3,
    "start_time": "2022-10-09T16:43:03.141Z"
   },
   {
    "duration": 5,
    "start_time": "2022-10-09T16:43:03.146Z"
   },
   {
    "duration": 6,
    "start_time": "2022-10-09T16:43:03.152Z"
   },
   {
    "duration": 4,
    "start_time": "2022-10-09T16:43:03.159Z"
   },
   {
    "duration": 12,
    "start_time": "2022-10-09T16:43:03.165Z"
   },
   {
    "duration": 50,
    "start_time": "2022-10-09T16:43:03.179Z"
   },
   {
    "duration": 277,
    "start_time": "2022-10-09T16:43:03.231Z"
   },
   {
    "duration": 22,
    "start_time": "2022-10-09T16:43:03.510Z"
   },
   {
    "duration": 434,
    "start_time": "2022-10-09T16:43:03.534Z"
   },
   {
    "duration": 12,
    "start_time": "2022-10-09T16:43:03.970Z"
   },
   {
    "duration": 11,
    "start_time": "2022-10-09T16:43:03.984Z"
   },
   {
    "duration": 55,
    "start_time": "2022-10-09T16:43:03.997Z"
   },
   {
    "duration": 15,
    "start_time": "2022-10-09T16:43:04.053Z"
   },
   {
    "duration": 12,
    "start_time": "2022-10-09T16:43:04.070Z"
   },
   {
    "duration": 9,
    "start_time": "2022-10-09T16:43:04.084Z"
   },
   {
    "duration": 34,
    "start_time": "2022-10-09T16:43:04.094Z"
   },
   {
    "duration": 11,
    "start_time": "2022-10-09T16:43:04.129Z"
   },
   {
    "duration": 19,
    "start_time": "2022-10-09T16:43:04.141Z"
   },
   {
    "duration": 4,
    "start_time": "2022-10-09T16:43:04.162Z"
   },
   {
    "duration": 1565,
    "start_time": "2022-10-09T16:43:04.168Z"
   },
   {
    "duration": 376,
    "start_time": "2022-10-09T16:43:05.735Z"
   },
   {
    "duration": 10360,
    "start_time": "2022-10-09T16:43:06.112Z"
   },
   {
    "duration": 6,
    "start_time": "2022-10-09T16:43:16.473Z"
   },
   {
    "duration": 109,
    "start_time": "2022-10-09T16:43:16.480Z"
   },
   {
    "duration": 74,
    "start_time": "2022-10-09T16:43:16.591Z"
   },
   {
    "duration": 0,
    "start_time": "2022-10-09T16:43:16.666Z"
   },
   {
    "duration": 0,
    "start_time": "2022-10-09T16:43:16.668Z"
   },
   {
    "duration": 0,
    "start_time": "2022-10-09T16:43:16.668Z"
   },
   {
    "duration": 0,
    "start_time": "2022-10-09T16:43:16.670Z"
   },
   {
    "duration": 0,
    "start_time": "2022-10-09T16:43:16.671Z"
   },
   {
    "duration": 2929,
    "start_time": "2022-10-09T16:45:07.469Z"
   },
   {
    "duration": 4,
    "start_time": "2022-10-09T16:45:21.308Z"
   },
   {
    "duration": 2674,
    "start_time": "2022-10-09T16:45:29.148Z"
   },
   {
    "duration": 243,
    "start_time": "2022-10-09T16:45:37.037Z"
   },
   {
    "duration": 34140,
    "start_time": "2022-10-09T16:45:43.287Z"
   },
   {
    "duration": 136,
    "start_time": "2022-10-09T16:46:24.371Z"
   },
   {
    "duration": 5,
    "start_time": "2022-10-09T16:57:06.436Z"
   },
   {
    "duration": 18,
    "start_time": "2022-10-09T16:57:56.773Z"
   },
   {
    "duration": 5,
    "start_time": "2022-10-09T16:58:55.756Z"
   },
   {
    "duration": 17,
    "start_time": "2022-10-09T16:58:58.851Z"
   },
   {
    "duration": 5,
    "start_time": "2022-10-09T17:01:03.054Z"
   },
   {
    "duration": 11,
    "start_time": "2022-10-09T17:01:39.721Z"
   },
   {
    "duration": 3223,
    "start_time": "2022-10-09T17:02:12.817Z"
   },
   {
    "duration": 3488,
    "start_time": "2022-10-09T17:02:16.535Z"
   },
   {
    "duration": 306,
    "start_time": "2022-10-09T17:03:09.968Z"
   },
   {
    "duration": 43,
    "start_time": "2022-10-09T17:03:59.099Z"
   },
   {
    "duration": 48559,
    "start_time": "2022-10-09T17:04:19.589Z"
   },
   {
    "duration": 158,
    "start_time": "2022-10-09T17:05:41.553Z"
   },
   {
    "duration": 1455,
    "start_time": "2022-10-09T17:07:20.513Z"
   },
   {
    "duration": 62,
    "start_time": "2022-10-09T17:07:21.970Z"
   },
   {
    "duration": 16,
    "start_time": "2022-10-09T17:07:22.033Z"
   },
   {
    "duration": 43,
    "start_time": "2022-10-09T17:07:22.051Z"
   },
   {
    "duration": 53,
    "start_time": "2022-10-09T17:07:22.096Z"
   },
   {
    "duration": 40,
    "start_time": "2022-10-09T17:07:22.151Z"
   },
   {
    "duration": 29,
    "start_time": "2022-10-09T17:07:22.193Z"
   },
   {
    "duration": 21,
    "start_time": "2022-10-09T17:07:22.224Z"
   },
   {
    "duration": 21,
    "start_time": "2022-10-09T17:07:22.246Z"
   },
   {
    "duration": 12,
    "start_time": "2022-10-09T17:07:22.270Z"
   },
   {
    "duration": 29,
    "start_time": "2022-10-09T17:07:22.283Z"
   },
   {
    "duration": 20,
    "start_time": "2022-10-09T17:07:22.314Z"
   },
   {
    "duration": 16,
    "start_time": "2022-10-09T17:07:22.335Z"
   },
   {
    "duration": 23,
    "start_time": "2022-10-09T17:07:22.352Z"
   },
   {
    "duration": 47,
    "start_time": "2022-10-09T17:07:22.377Z"
   },
   {
    "duration": 259,
    "start_time": "2022-10-09T17:07:22.426Z"
   },
   {
    "duration": 14,
    "start_time": "2022-10-09T17:07:22.686Z"
   },
   {
    "duration": 461,
    "start_time": "2022-10-09T17:07:22.701Z"
   },
   {
    "duration": 12,
    "start_time": "2022-10-09T17:07:23.163Z"
   },
   {
    "duration": 20,
    "start_time": "2022-10-09T17:07:23.176Z"
   },
   {
    "duration": 56,
    "start_time": "2022-10-09T17:07:23.197Z"
   },
   {
    "duration": 13,
    "start_time": "2022-10-09T17:07:23.255Z"
   },
   {
    "duration": 38,
    "start_time": "2022-10-09T17:07:23.270Z"
   },
   {
    "duration": 36,
    "start_time": "2022-10-09T17:07:23.309Z"
   },
   {
    "duration": 42,
    "start_time": "2022-10-09T17:07:23.347Z"
   },
   {
    "duration": 31,
    "start_time": "2022-10-09T17:07:23.391Z"
   },
   {
    "duration": 51,
    "start_time": "2022-10-09T17:07:23.423Z"
   },
   {
    "duration": 15,
    "start_time": "2022-10-09T17:07:23.477Z"
   },
   {
    "duration": 1829,
    "start_time": "2022-10-09T17:07:23.493Z"
   },
   {
    "duration": 260,
    "start_time": "2022-10-09T17:07:25.326Z"
   },
   {
    "duration": 9985,
    "start_time": "2022-10-09T17:07:25.587Z"
   },
   {
    "duration": 5,
    "start_time": "2022-10-09T17:07:35.574Z"
   },
   {
    "duration": 123,
    "start_time": "2022-10-09T17:07:35.580Z"
   },
   {
    "duration": 5,
    "start_time": "2022-10-09T17:07:35.704Z"
   },
   {
    "duration": 2911,
    "start_time": "2022-10-09T17:07:35.711Z"
   },
   {
    "duration": 349,
    "start_time": "2022-10-09T17:07:38.625Z"
   },
   {
    "duration": 33961,
    "start_time": "2022-10-09T17:07:38.975Z"
   },
   {
    "duration": 164,
    "start_time": "2022-10-09T17:08:12.937Z"
   },
   {
    "duration": 3,
    "start_time": "2022-10-09T17:08:13.103Z"
   },
   {
    "duration": 34,
    "start_time": "2022-10-09T17:08:13.108Z"
   },
   {
    "duration": 15,
    "start_time": "2022-10-09T17:08:13.144Z"
   },
   {
    "duration": 3467,
    "start_time": "2022-10-09T17:08:13.161Z"
   },
   {
    "duration": 496,
    "start_time": "2022-10-09T17:08:16.630Z"
   },
   {
    "duration": 47850,
    "start_time": "2022-10-09T17:08:17.127Z"
   },
   {
    "duration": 152,
    "start_time": "2022-10-09T17:09:04.979Z"
   },
   {
    "duration": 7,
    "start_time": "2022-10-09T17:10:10.200Z"
   },
   {
    "duration": 7,
    "start_time": "2022-10-09T17:10:49.047Z"
   },
   {
    "duration": 7,
    "start_time": "2022-10-09T17:12:06.296Z"
   },
   {
    "duration": 104,
    "start_time": "2022-10-09T17:44:35.541Z"
   },
   {
    "duration": 7,
    "start_time": "2022-10-09T17:55:13.259Z"
   },
   {
    "duration": 5,
    "start_time": "2022-10-09T17:55:29.523Z"
   },
   {
    "duration": 63,
    "start_time": "2022-10-09T17:55:29.531Z"
   },
   {
    "duration": 19,
    "start_time": "2022-10-09T17:55:29.595Z"
   },
   {
    "duration": 18,
    "start_time": "2022-10-09T17:55:29.616Z"
   },
   {
    "duration": 10,
    "start_time": "2022-10-09T17:55:29.636Z"
   },
   {
    "duration": 10,
    "start_time": "2022-10-09T17:55:29.647Z"
   },
   {
    "duration": 6,
    "start_time": "2022-10-09T17:55:29.659Z"
   },
   {
    "duration": 6,
    "start_time": "2022-10-09T17:55:29.666Z"
   },
   {
    "duration": 5,
    "start_time": "2022-10-09T17:55:29.674Z"
   },
   {
    "duration": 4,
    "start_time": "2022-10-09T17:55:29.680Z"
   },
   {
    "duration": 2,
    "start_time": "2022-10-09T17:55:29.721Z"
   },
   {
    "duration": 7,
    "start_time": "2022-10-09T17:55:29.725Z"
   },
   {
    "duration": 3,
    "start_time": "2022-10-09T17:55:29.735Z"
   },
   {
    "duration": 14,
    "start_time": "2022-10-09T17:55:29.740Z"
   },
   {
    "duration": 29,
    "start_time": "2022-10-09T17:55:29.755Z"
   },
   {
    "duration": 254,
    "start_time": "2022-10-09T17:55:29.786Z"
   },
   {
    "duration": 15,
    "start_time": "2022-10-09T17:55:30.041Z"
   },
   {
    "duration": 435,
    "start_time": "2022-10-09T17:55:30.057Z"
   },
   {
    "duration": 10,
    "start_time": "2022-10-09T17:55:30.494Z"
   },
   {
    "duration": 38,
    "start_time": "2022-10-09T17:55:30.505Z"
   },
   {
    "duration": 61,
    "start_time": "2022-10-09T17:55:30.544Z"
   },
   {
    "duration": 15,
    "start_time": "2022-10-09T17:55:30.606Z"
   },
   {
    "duration": 34,
    "start_time": "2022-10-09T17:55:30.623Z"
   },
   {
    "duration": 36,
    "start_time": "2022-10-09T17:55:30.659Z"
   },
   {
    "duration": 29,
    "start_time": "2022-10-09T17:55:30.696Z"
   },
   {
    "duration": 25,
    "start_time": "2022-10-09T17:55:30.727Z"
   },
   {
    "duration": 35,
    "start_time": "2022-10-09T17:55:30.754Z"
   },
   {
    "duration": 33,
    "start_time": "2022-10-09T17:55:30.791Z"
   },
   {
    "duration": 17,
    "start_time": "2022-10-09T17:55:30.825Z"
   },
   {
    "duration": 1889,
    "start_time": "2022-10-09T17:55:30.843Z"
   },
   {
    "duration": 349,
    "start_time": "2022-10-09T17:55:32.733Z"
   },
   {
    "duration": 9883,
    "start_time": "2022-10-09T17:55:33.084Z"
   },
   {
    "duration": 5,
    "start_time": "2022-10-09T17:55:42.968Z"
   },
   {
    "duration": 118,
    "start_time": "2022-10-09T17:55:42.974Z"
   },
   {
    "duration": 4,
    "start_time": "2022-10-09T17:55:43.094Z"
   },
   {
    "duration": 2924,
    "start_time": "2022-10-09T17:55:43.099Z"
   },
   {
    "duration": 365,
    "start_time": "2022-10-09T17:55:46.030Z"
   },
   {
    "duration": 34018,
    "start_time": "2022-10-09T17:55:46.396Z"
   },
   {
    "duration": 150,
    "start_time": "2022-10-09T17:56:20.421Z"
   },
   {
    "duration": 3,
    "start_time": "2022-10-09T17:56:20.573Z"
   },
   {
    "duration": 17,
    "start_time": "2022-10-09T17:56:20.577Z"
   },
   {
    "duration": 4,
    "start_time": "2022-10-09T17:56:20.595Z"
   },
   {
    "duration": 3128,
    "start_time": "2022-10-09T17:56:20.600Z"
   },
   {
    "duration": 483,
    "start_time": "2022-10-09T17:56:23.729Z"
   },
   {
    "duration": 47948,
    "start_time": "2022-10-09T17:56:24.213Z"
   },
   {
    "duration": 172,
    "start_time": "2022-10-09T17:57:12.162Z"
   },
   {
    "duration": 8,
    "start_time": "2022-10-09T17:57:12.336Z"
   },
   {
    "duration": 16,
    "start_time": "2022-10-09T17:57:12.345Z"
   },
   {
    "duration": 11,
    "start_time": "2022-10-09T17:57:12.363Z"
   },
   {
    "duration": 72,
    "start_time": "2022-10-09T17:57:12.376Z"
   },
   {
    "duration": 0,
    "start_time": "2022-10-09T17:57:12.450Z"
   },
   {
    "duration": 7,
    "start_time": "2022-10-09T17:58:02.040Z"
   },
   {
    "duration": 5,
    "start_time": "2022-10-09T18:03:02.452Z"
   },
   {
    "duration": 28,
    "start_time": "2022-10-09T18:03:51.076Z"
   },
   {
    "duration": 21,
    "start_time": "2022-10-09T18:05:03.340Z"
   },
   {
    "duration": 9,
    "start_time": "2022-10-09T18:07:45.870Z"
   },
   {
    "duration": 1110,
    "start_time": "2022-10-09T18:07:57.533Z"
   },
   {
    "duration": 130,
    "start_time": "2022-10-09T18:09:07.786Z"
   },
   {
    "duration": 1034,
    "start_time": "2022-10-09T18:17:23.783Z"
   },
   {
    "duration": 118,
    "start_time": "2022-10-09T18:17:36.761Z"
   },
   {
    "duration": 1251,
    "start_time": "2022-10-09T18:18:00.613Z"
   },
   {
    "duration": 127,
    "start_time": "2022-10-09T18:18:04.157Z"
   },
   {
    "duration": 9,
    "start_time": "2022-10-09T18:19:02.948Z"
   },
   {
    "duration": 363,
    "start_time": "2022-10-09T18:25:49.363Z"
   },
   {
    "duration": 346,
    "start_time": "2022-10-09T18:28:44.740Z"
   },
   {
    "duration": 9,
    "start_time": "2022-10-09T18:41:33.736Z"
   },
   {
    "duration": 5,
    "start_time": "2022-10-09T18:41:40.647Z"
   },
   {
    "duration": 12,
    "start_time": "2022-10-09T18:41:44.327Z"
   },
   {
    "duration": 5,
    "start_time": "2022-10-09T18:44:41.471Z"
   },
   {
    "duration": 47,
    "start_time": "2022-10-09T18:44:45.498Z"
   },
   {
    "duration": 5,
    "start_time": "2022-10-09T18:45:11.506Z"
   },
   {
    "duration": 68,
    "start_time": "2022-10-09T18:45:14.969Z"
   },
   {
    "duration": 5,
    "start_time": "2022-10-09T18:45:35.634Z"
   },
   {
    "duration": 157,
    "start_time": "2022-10-09T18:45:38.939Z"
   },
   {
    "duration": 155,
    "start_time": "2022-10-09T18:47:24.987Z"
   },
   {
    "duration": 1406,
    "start_time": "2022-10-09T19:38:22.551Z"
   },
   {
    "duration": 60,
    "start_time": "2022-10-09T19:38:23.959Z"
   },
   {
    "duration": 18,
    "start_time": "2022-10-09T19:38:24.021Z"
   },
   {
    "duration": 17,
    "start_time": "2022-10-09T19:38:24.042Z"
   },
   {
    "duration": 12,
    "start_time": "2022-10-09T19:38:24.061Z"
   },
   {
    "duration": 11,
    "start_time": "2022-10-09T19:38:24.074Z"
   },
   {
    "duration": 40,
    "start_time": "2022-10-09T19:38:24.086Z"
   },
   {
    "duration": 6,
    "start_time": "2022-10-09T19:38:24.128Z"
   },
   {
    "duration": 5,
    "start_time": "2022-10-09T19:38:24.135Z"
   },
   {
    "duration": 4,
    "start_time": "2022-10-09T19:38:24.143Z"
   },
   {
    "duration": 5,
    "start_time": "2022-10-09T19:38:24.148Z"
   },
   {
    "duration": 16,
    "start_time": "2022-10-09T19:38:24.154Z"
   },
   {
    "duration": 6,
    "start_time": "2022-10-09T19:38:24.172Z"
   },
   {
    "duration": 13,
    "start_time": "2022-10-09T19:38:24.180Z"
   },
   {
    "duration": 67,
    "start_time": "2022-10-09T19:38:24.195Z"
   },
   {
    "duration": 299,
    "start_time": "2022-10-09T19:38:24.263Z"
   },
   {
    "duration": 16,
    "start_time": "2022-10-09T19:38:24.563Z"
   },
   {
    "duration": 491,
    "start_time": "2022-10-09T19:38:24.580Z"
   },
   {
    "duration": 11,
    "start_time": "2022-10-09T19:38:25.072Z"
   },
   {
    "duration": 10,
    "start_time": "2022-10-09T19:38:25.085Z"
   },
   {
    "duration": 55,
    "start_time": "2022-10-09T19:38:25.096Z"
   },
   {
    "duration": 16,
    "start_time": "2022-10-09T19:38:25.152Z"
   },
   {
    "duration": 9,
    "start_time": "2022-10-09T19:38:25.169Z"
   },
   {
    "duration": 10,
    "start_time": "2022-10-09T19:38:25.180Z"
   },
   {
    "duration": 46,
    "start_time": "2022-10-09T19:38:25.192Z"
   },
   {
    "duration": 27,
    "start_time": "2022-10-09T19:38:25.240Z"
   },
   {
    "duration": 18,
    "start_time": "2022-10-09T19:38:25.270Z"
   },
   {
    "duration": 58,
    "start_time": "2022-10-09T19:38:25.293Z"
   },
   {
    "duration": 6,
    "start_time": "2022-10-09T19:38:25.353Z"
   },
   {
    "duration": 1669,
    "start_time": "2022-10-09T19:38:25.361Z"
   },
   {
    "duration": 354,
    "start_time": "2022-10-09T19:38:27.034Z"
   },
   {
    "duration": 10183,
    "start_time": "2022-10-09T19:38:27.390Z"
   },
   {
    "duration": 6,
    "start_time": "2022-10-09T19:38:37.574Z"
   },
   {
    "duration": 128,
    "start_time": "2022-10-09T19:38:37.582Z"
   },
   {
    "duration": 10,
    "start_time": "2022-10-09T19:38:37.712Z"
   },
   {
    "duration": 2399,
    "start_time": "2022-10-09T19:38:37.723Z"
   },
   {
    "duration": 347,
    "start_time": "2022-10-09T19:38:40.124Z"
   },
   {
    "duration": 34994,
    "start_time": "2022-10-09T19:38:40.472Z"
   },
   {
    "duration": 160,
    "start_time": "2022-10-09T19:39:15.467Z"
   },
   {
    "duration": 3,
    "start_time": "2022-10-09T19:39:15.629Z"
   },
   {
    "duration": 16,
    "start_time": "2022-10-09T19:39:15.634Z"
   },
   {
    "duration": 4,
    "start_time": "2022-10-09T19:39:15.652Z"
   },
   {
    "duration": 3366,
    "start_time": "2022-10-09T19:39:15.658Z"
   },
   {
    "duration": 437,
    "start_time": "2022-10-09T19:39:19.026Z"
   },
   {
    "duration": 48524,
    "start_time": "2022-10-09T19:39:19.464Z"
   },
   {
    "duration": 151,
    "start_time": "2022-10-09T19:40:07.990Z"
   },
   {
    "duration": 7,
    "start_time": "2022-10-09T19:40:08.143Z"
   },
   {
    "duration": 49,
    "start_time": "2022-10-09T19:40:08.151Z"
   },
   {
    "duration": 34,
    "start_time": "2022-10-09T19:40:08.201Z"
   },
   {
    "duration": 33,
    "start_time": "2022-10-09T19:40:08.237Z"
   },
   {
    "duration": 29,
    "start_time": "2022-10-09T19:40:08.271Z"
   },
   {
    "duration": 45,
    "start_time": "2022-10-09T19:40:08.302Z"
   },
   {
    "duration": 1142,
    "start_time": "2022-10-09T19:40:08.348Z"
   },
   {
    "duration": 114,
    "start_time": "2022-10-09T19:40:09.492Z"
   },
   {
    "duration": 341,
    "start_time": "2022-10-09T19:40:09.608Z"
   },
   {
    "duration": 6,
    "start_time": "2022-10-09T19:40:09.950Z"
   },
   {
    "duration": 161,
    "start_time": "2022-10-09T19:40:09.957Z"
   },
   {
    "duration": 5,
    "start_time": "2022-10-11T13:05:43.061Z"
   },
   {
    "duration": 187,
    "start_time": "2022-10-11T13:05:43.069Z"
   },
   {
    "duration": 19,
    "start_time": "2022-10-11T13:05:43.258Z"
   },
   {
    "duration": 33,
    "start_time": "2022-10-11T13:05:43.280Z"
   },
   {
    "duration": 16,
    "start_time": "2022-10-11T13:05:43.316Z"
   },
   {
    "duration": 6,
    "start_time": "2022-10-11T13:05:43.335Z"
   },
   {
    "duration": 5,
    "start_time": "2022-10-11T13:05:43.343Z"
   },
   {
    "duration": 8,
    "start_time": "2022-10-11T13:05:43.349Z"
   },
   {
    "duration": 6,
    "start_time": "2022-10-11T13:05:43.359Z"
   },
   {
    "duration": 2,
    "start_time": "2022-10-11T13:05:43.385Z"
   },
   {
    "duration": 7,
    "start_time": "2022-10-11T13:05:43.390Z"
   },
   {
    "duration": 4,
    "start_time": "2022-10-11T13:05:43.399Z"
   },
   {
    "duration": 12,
    "start_time": "2022-10-11T13:05:43.404Z"
   },
   {
    "duration": 37,
    "start_time": "2022-10-11T13:05:43.417Z"
   },
   {
    "duration": 295,
    "start_time": "2022-10-11T13:05:43.455Z"
   },
   {
    "duration": 15,
    "start_time": "2022-10-11T13:05:43.752Z"
   },
   {
    "duration": 483,
    "start_time": "2022-10-11T13:05:43.769Z"
   },
   {
    "duration": 12,
    "start_time": "2022-10-11T13:05:44.253Z"
   },
   {
    "duration": 26,
    "start_time": "2022-10-11T13:05:44.266Z"
   },
   {
    "duration": 35,
    "start_time": "2022-10-11T13:05:44.294Z"
   },
   {
    "duration": 16,
    "start_time": "2022-10-11T13:05:44.331Z"
   },
   {
    "duration": 11,
    "start_time": "2022-10-11T13:05:44.348Z"
   },
   {
    "duration": 24,
    "start_time": "2022-10-11T13:05:44.361Z"
   },
   {
    "duration": 14,
    "start_time": "2022-10-11T13:05:44.387Z"
   },
   {
    "duration": 19,
    "start_time": "2022-10-11T13:05:44.403Z"
   },
   {
    "duration": 5,
    "start_time": "2022-10-11T13:05:44.424Z"
   },
   {
    "duration": 1658,
    "start_time": "2022-10-11T13:05:44.430Z"
   },
   {
    "duration": 278,
    "start_time": "2022-10-11T13:05:46.090Z"
   },
   {
    "duration": 10673,
    "start_time": "2022-10-11T13:05:46.384Z"
   },
   {
    "duration": 6,
    "start_time": "2022-10-11T13:05:57.059Z"
   },
   {
    "duration": 166,
    "start_time": "2022-10-11T13:05:57.067Z"
   },
   {
    "duration": 5,
    "start_time": "2022-10-11T13:05:57.235Z"
   },
   {
    "duration": 2559,
    "start_time": "2022-10-11T13:05:57.242Z"
   },
   {
    "duration": 354,
    "start_time": "2022-10-11T13:05:59.885Z"
   },
   {
    "duration": 36610,
    "start_time": "2022-10-11T13:06:00.241Z"
   },
   {
    "duration": 210,
    "start_time": "2022-10-11T13:06:36.853Z"
   },
   {
    "duration": 5,
    "start_time": "2022-10-11T13:06:37.065Z"
   },
   {
    "duration": 41,
    "start_time": "2022-10-11T13:06:37.071Z"
   },
   {
    "duration": 5,
    "start_time": "2022-10-11T13:06:37.114Z"
   },
   {
    "duration": 3465,
    "start_time": "2022-10-11T13:06:37.121Z"
   },
   {
    "duration": 424,
    "start_time": "2022-10-11T13:06:40.588Z"
   },
   {
    "duration": 52322,
    "start_time": "2022-10-11T13:06:41.014Z"
   },
   {
    "duration": 198,
    "start_time": "2022-10-11T13:07:33.337Z"
   },
   {
    "duration": 8,
    "start_time": "2022-10-11T13:07:33.536Z"
   },
   {
    "duration": 12,
    "start_time": "2022-10-11T13:07:33.546Z"
   },
   {
    "duration": 25,
    "start_time": "2022-10-11T13:07:33.560Z"
   },
   {
    "duration": 12,
    "start_time": "2022-10-11T13:07:33.587Z"
   },
   {
    "duration": 8,
    "start_time": "2022-10-11T13:07:33.600Z"
   },
   {
    "duration": 33,
    "start_time": "2022-10-11T13:07:33.609Z"
   },
   {
    "duration": 1171,
    "start_time": "2022-10-11T13:07:33.644Z"
   },
   {
    "duration": 74,
    "start_time": "2022-10-11T13:07:34.817Z"
   },
   {
    "duration": 290,
    "start_time": "2022-10-11T13:07:34.892Z"
   },
   {
    "duration": 6,
    "start_time": "2022-10-11T13:07:35.184Z"
   },
   {
    "duration": 167,
    "start_time": "2022-10-11T13:07:35.191Z"
   },
   {
    "duration": 109,
    "start_time": "2022-10-11T13:14:06.847Z"
   },
   {
    "duration": 83,
    "start_time": "2022-10-11T13:18:20.003Z"
   },
   {
    "duration": 1614,
    "start_time": "2022-10-11T13:23:30.654Z"
   },
   {
    "duration": 66,
    "start_time": "2022-10-11T13:23:32.270Z"
   },
   {
    "duration": 19,
    "start_time": "2022-10-11T13:23:32.338Z"
   },
   {
    "duration": 24,
    "start_time": "2022-10-11T13:23:32.359Z"
   },
   {
    "duration": 52,
    "start_time": "2022-10-11T13:23:32.384Z"
   },
   {
    "duration": 7,
    "start_time": "2022-10-11T13:23:32.437Z"
   },
   {
    "duration": 10,
    "start_time": "2022-10-11T13:23:32.445Z"
   },
   {
    "duration": 12,
    "start_time": "2022-10-11T13:23:32.456Z"
   },
   {
    "duration": 6,
    "start_time": "2022-10-11T13:23:32.469Z"
   },
   {
    "duration": 18,
    "start_time": "2022-10-11T13:23:32.477Z"
   },
   {
    "duration": 9,
    "start_time": "2022-10-11T13:23:32.497Z"
   },
   {
    "duration": 5,
    "start_time": "2022-10-11T13:23:32.507Z"
   },
   {
    "duration": 14,
    "start_time": "2022-10-11T13:23:32.513Z"
   },
   {
    "duration": 32,
    "start_time": "2022-10-11T13:23:32.529Z"
   },
   {
    "duration": 349,
    "start_time": "2022-10-11T13:23:32.563Z"
   },
   {
    "duration": 16,
    "start_time": "2022-10-11T13:23:32.913Z"
   },
   {
    "duration": 504,
    "start_time": "2022-10-11T13:23:32.930Z"
   },
   {
    "duration": 11,
    "start_time": "2022-10-11T13:23:33.436Z"
   },
   {
    "duration": 11,
    "start_time": "2022-10-11T13:23:33.448Z"
   },
   {
    "duration": 59,
    "start_time": "2022-10-11T13:23:33.460Z"
   },
   {
    "duration": 15,
    "start_time": "2022-10-11T13:23:33.520Z"
   },
   {
    "duration": 6,
    "start_time": "2022-10-11T13:23:33.537Z"
   },
   {
    "duration": 7,
    "start_time": "2022-10-11T13:23:33.544Z"
   },
   {
    "duration": 40,
    "start_time": "2022-10-11T13:23:33.552Z"
   },
   {
    "duration": 23,
    "start_time": "2022-10-11T13:23:33.593Z"
   },
   {
    "duration": 5,
    "start_time": "2022-10-11T13:23:33.618Z"
   },
   {
    "duration": 1875,
    "start_time": "2022-10-11T13:23:33.625Z"
   },
   {
    "duration": 368,
    "start_time": "2022-10-11T13:23:35.504Z"
   },
   {
    "duration": 10956,
    "start_time": "2022-10-11T13:23:35.873Z"
   },
   {
    "duration": 6,
    "start_time": "2022-10-11T13:23:46.830Z"
   },
   {
    "duration": 138,
    "start_time": "2022-10-11T13:23:46.837Z"
   },
   {
    "duration": 4,
    "start_time": "2022-10-11T13:23:46.976Z"
   },
   {
    "duration": 2209,
    "start_time": "2022-10-11T13:23:46.984Z"
   },
   {
    "duration": 364,
    "start_time": "2022-10-11T13:23:49.198Z"
   },
   {
    "duration": 37759,
    "start_time": "2022-10-11T13:23:49.563Z"
   },
   {
    "duration": 211,
    "start_time": "2022-10-11T13:24:27.324Z"
   },
   {
    "duration": 4,
    "start_time": "2022-10-11T13:24:27.537Z"
   },
   {
    "duration": 20,
    "start_time": "2022-10-11T13:24:27.542Z"
   },
   {
    "duration": 4,
    "start_time": "2022-10-11T13:24:27.564Z"
   },
   {
    "duration": 3429,
    "start_time": "2022-10-11T13:24:27.570Z"
   },
   {
    "duration": 504,
    "start_time": "2022-10-11T13:24:31.001Z"
   },
   {
    "duration": 53372,
    "start_time": "2022-10-11T13:24:31.506Z"
   },
   {
    "duration": 218,
    "start_time": "2022-10-11T13:25:24.880Z"
   },
   {
    "duration": 8,
    "start_time": "2022-10-11T13:25:25.100Z"
   },
   {
    "duration": 13,
    "start_time": "2022-10-11T13:25:25.110Z"
   },
   {
    "duration": 11,
    "start_time": "2022-10-11T13:25:25.125Z"
   },
   {
    "duration": 8,
    "start_time": "2022-10-11T13:25:25.138Z"
   },
   {
    "duration": 9,
    "start_time": "2022-10-11T13:25:25.147Z"
   },
   {
    "duration": 134,
    "start_time": "2022-10-11T13:25:25.158Z"
   },
   {
    "duration": 0,
    "start_time": "2022-10-11T13:25:25.294Z"
   },
   {
    "duration": 0,
    "start_time": "2022-10-11T13:25:25.295Z"
   },
   {
    "duration": 0,
    "start_time": "2022-10-11T13:25:25.295Z"
   },
   {
    "duration": 0,
    "start_time": "2022-10-11T13:25:25.296Z"
   },
   {
    "duration": 0,
    "start_time": "2022-10-11T13:25:25.297Z"
   },
   {
    "duration": 0,
    "start_time": "2022-10-11T13:25:25.303Z"
   },
   {
    "duration": 3,
    "start_time": "2022-10-11T13:26:03.199Z"
   },
   {
    "duration": 29,
    "start_time": "2022-10-11T13:26:08.283Z"
   },
   {
    "duration": 1707,
    "start_time": "2022-10-11T13:31:05.541Z"
   },
   {
    "duration": 77,
    "start_time": "2022-10-11T13:31:07.251Z"
   },
   {
    "duration": 24,
    "start_time": "2022-10-11T13:31:07.330Z"
   },
   {
    "duration": 42,
    "start_time": "2022-10-11T13:31:07.356Z"
   },
   {
    "duration": 87,
    "start_time": "2022-10-11T13:31:07.401Z"
   },
   {
    "duration": 34,
    "start_time": "2022-10-11T13:31:07.490Z"
   },
   {
    "duration": 18,
    "start_time": "2022-10-11T13:31:07.526Z"
   },
   {
    "duration": 28,
    "start_time": "2022-10-11T13:31:07.546Z"
   },
   {
    "duration": 46,
    "start_time": "2022-10-11T13:31:07.576Z"
   },
   {
    "duration": 8,
    "start_time": "2022-10-11T13:31:07.625Z"
   },
   {
    "duration": 11,
    "start_time": "2022-10-11T13:31:07.634Z"
   },
   {
    "duration": 5,
    "start_time": "2022-10-11T13:31:07.647Z"
   },
   {
    "duration": 16,
    "start_time": "2022-10-11T13:31:07.654Z"
   },
   {
    "duration": 46,
    "start_time": "2022-10-11T13:31:07.672Z"
   },
   {
    "duration": 370,
    "start_time": "2022-10-11T13:31:07.719Z"
   },
   {
    "duration": 19,
    "start_time": "2022-10-11T13:31:08.091Z"
   },
   {
    "duration": 481,
    "start_time": "2022-10-11T13:31:08.111Z"
   },
   {
    "duration": 17,
    "start_time": "2022-10-11T13:31:08.600Z"
   },
   {
    "duration": 17,
    "start_time": "2022-10-11T13:31:08.619Z"
   },
   {
    "duration": 54,
    "start_time": "2022-10-11T13:31:08.638Z"
   },
   {
    "duration": 26,
    "start_time": "2022-10-11T13:31:08.695Z"
   },
   {
    "duration": 22,
    "start_time": "2022-10-11T13:31:08.723Z"
   },
   {
    "duration": 25,
    "start_time": "2022-10-11T13:31:08.747Z"
   },
   {
    "duration": 24,
    "start_time": "2022-10-11T13:31:08.774Z"
   },
   {
    "duration": 54,
    "start_time": "2022-10-11T13:31:08.800Z"
   },
   {
    "duration": 7,
    "start_time": "2022-10-11T13:31:08.856Z"
   },
   {
    "duration": 1730,
    "start_time": "2022-10-11T13:31:08.864Z"
   },
   {
    "duration": 301,
    "start_time": "2022-10-11T13:31:10.602Z"
   },
   {
    "duration": 11852,
    "start_time": "2022-10-11T13:31:10.905Z"
   },
   {
    "duration": 6,
    "start_time": "2022-10-11T13:31:22.759Z"
   },
   {
    "duration": 143,
    "start_time": "2022-10-11T13:31:22.766Z"
   },
   {
    "duration": 5,
    "start_time": "2022-10-11T13:31:22.912Z"
   },
   {
    "duration": 2587,
    "start_time": "2022-10-11T13:31:22.918Z"
   },
   {
    "duration": 460,
    "start_time": "2022-10-11T13:31:25.512Z"
   },
   {
    "duration": 38927,
    "start_time": "2022-10-11T13:31:25.986Z"
   },
   {
    "duration": 221,
    "start_time": "2022-10-11T13:32:04.915Z"
   },
   {
    "duration": 4,
    "start_time": "2022-10-11T13:32:05.137Z"
   },
   {
    "duration": 23,
    "start_time": "2022-10-11T13:32:05.143Z"
   },
   {
    "duration": 5,
    "start_time": "2022-10-11T13:32:05.168Z"
   },
   {
    "duration": 3006,
    "start_time": "2022-10-11T13:32:05.185Z"
   },
   {
    "duration": 451,
    "start_time": "2022-10-11T13:32:08.194Z"
   },
   {
    "duration": 56615,
    "start_time": "2022-10-11T13:32:08.646Z"
   },
   {
    "duration": 179,
    "start_time": "2022-10-11T13:33:05.263Z"
   },
   {
    "duration": 8,
    "start_time": "2022-10-11T13:33:05.444Z"
   },
   {
    "duration": 11,
    "start_time": "2022-10-11T13:33:05.455Z"
   },
   {
    "duration": 34,
    "start_time": "2022-10-11T13:33:05.467Z"
   },
   {
    "duration": 11,
    "start_time": "2022-10-11T13:33:05.503Z"
   },
   {
    "duration": 14,
    "start_time": "2022-10-11T13:33:05.516Z"
   },
   {
    "duration": 24,
    "start_time": "2022-10-11T13:33:05.532Z"
   },
   {
    "duration": 1211,
    "start_time": "2022-10-11T13:33:05.558Z"
   },
   {
    "duration": 103,
    "start_time": "2022-10-11T13:33:06.771Z"
   },
   {
    "duration": 349,
    "start_time": "2022-10-11T13:33:06.875Z"
   },
   {
    "duration": 6,
    "start_time": "2022-10-11T13:33:07.226Z"
   },
   {
    "duration": 184,
    "start_time": "2022-10-11T13:33:07.234Z"
   },
   {
    "duration": 28,
    "start_time": "2022-10-11T13:47:59.820Z"
   },
   {
    "duration": 1209,
    "start_time": "2022-10-11T13:48:15.310Z"
   },
   {
    "duration": 87,
    "start_time": "2022-10-11T13:48:25.028Z"
   },
   {
    "duration": 6,
    "start_time": "2022-10-11T13:48:42.533Z"
   },
   {
    "duration": 4,
    "start_time": "2022-10-11T13:51:52.712Z"
   },
   {
    "duration": 293,
    "start_time": "2022-10-11T13:58:14.931Z"
   },
   {
    "duration": 5,
    "start_time": "2022-10-11T13:58:19.539Z"
   },
   {
    "duration": 129,
    "start_time": "2022-10-11T13:58:42.971Z"
   },
   {
    "duration": 83,
    "start_time": "2022-10-11T14:01:27.798Z"
   },
   {
    "duration": 266,
    "start_time": "2022-10-11T14:01:32.313Z"
   },
   {
    "duration": 5,
    "start_time": "2022-10-11T14:01:34.512Z"
   },
   {
    "duration": 40,
    "start_time": "2022-10-11T14:01:38.131Z"
   },
   {
    "duration": 5,
    "start_time": "2022-10-11T14:01:49.694Z"
   },
   {
    "duration": 4,
    "start_time": "2022-10-11T14:02:10.846Z"
   },
   {
    "duration": 83,
    "start_time": "2022-10-11T14:02:59.206Z"
   },
   {
    "duration": 267,
    "start_time": "2022-10-11T14:03:02.806Z"
   },
   {
    "duration": 7,
    "start_time": "2022-10-11T14:03:05.806Z"
   },
   {
    "duration": 261,
    "start_time": "2022-10-11T14:03:53.830Z"
   },
   {
    "duration": 5,
    "start_time": "2022-10-11T14:03:55.903Z"
   },
   {
    "duration": 1422,
    "start_time": "2022-10-11T14:04:19.923Z"
   },
   {
    "duration": 57,
    "start_time": "2022-10-11T14:04:21.349Z"
   },
   {
    "duration": 19,
    "start_time": "2022-10-11T14:04:21.408Z"
   },
   {
    "duration": 17,
    "start_time": "2022-10-11T14:04:21.428Z"
   },
   {
    "duration": 11,
    "start_time": "2022-10-11T14:04:21.446Z"
   },
   {
    "duration": 30,
    "start_time": "2022-10-11T14:04:21.458Z"
   },
   {
    "duration": 4,
    "start_time": "2022-10-11T14:04:21.490Z"
   },
   {
    "duration": 8,
    "start_time": "2022-10-11T14:04:21.495Z"
   },
   {
    "duration": 5,
    "start_time": "2022-10-11T14:04:21.505Z"
   },
   {
    "duration": 8,
    "start_time": "2022-10-11T14:04:21.511Z"
   },
   {
    "duration": 20,
    "start_time": "2022-10-11T14:04:21.520Z"
   },
   {
    "duration": 4,
    "start_time": "2022-10-11T14:04:21.541Z"
   },
   {
    "duration": 15,
    "start_time": "2022-10-11T14:04:21.546Z"
   },
   {
    "duration": 30,
    "start_time": "2022-10-11T14:04:21.563Z"
   },
   {
    "duration": 267,
    "start_time": "2022-10-11T14:04:21.595Z"
   },
   {
    "duration": 22,
    "start_time": "2022-10-11T14:04:21.863Z"
   },
   {
    "duration": 441,
    "start_time": "2022-10-11T14:04:21.887Z"
   },
   {
    "duration": 11,
    "start_time": "2022-10-11T14:04:22.329Z"
   },
   {
    "duration": 38,
    "start_time": "2022-10-11T14:04:22.341Z"
   },
   {
    "duration": 56,
    "start_time": "2022-10-11T14:04:22.381Z"
   },
   {
    "duration": 16,
    "start_time": "2022-10-11T14:04:22.438Z"
   },
   {
    "duration": 7,
    "start_time": "2022-10-11T14:04:22.456Z"
   },
   {
    "duration": 7,
    "start_time": "2022-10-11T14:04:22.464Z"
   },
   {
    "duration": 14,
    "start_time": "2022-10-11T14:04:22.473Z"
   },
   {
    "duration": 22,
    "start_time": "2022-10-11T14:04:22.489Z"
   },
   {
    "duration": 5,
    "start_time": "2022-10-11T14:04:22.512Z"
   },
   {
    "duration": 1964,
    "start_time": "2022-10-11T14:04:22.521Z"
   },
   {
    "duration": 264,
    "start_time": "2022-10-11T14:04:24.487Z"
   },
   {
    "duration": 10377,
    "start_time": "2022-10-11T14:04:24.754Z"
   },
   {
    "duration": 6,
    "start_time": "2022-10-11T14:04:35.133Z"
   },
   {
    "duration": 129,
    "start_time": "2022-10-11T14:04:35.141Z"
   },
   {
    "duration": 14,
    "start_time": "2022-10-11T14:04:35.272Z"
   },
   {
    "duration": 2713,
    "start_time": "2022-10-11T14:04:35.288Z"
   },
   {
    "duration": 361,
    "start_time": "2022-10-11T14:04:38.084Z"
   },
   {
    "duration": 36325,
    "start_time": "2022-10-11T14:04:38.447Z"
   },
   {
    "duration": 164,
    "start_time": "2022-10-11T14:05:14.773Z"
   },
   {
    "duration": 4,
    "start_time": "2022-10-11T14:05:14.938Z"
   },
   {
    "duration": 25,
    "start_time": "2022-10-11T14:05:14.943Z"
   },
   {
    "duration": 4,
    "start_time": "2022-10-11T14:05:14.970Z"
   },
   {
    "duration": 3517,
    "start_time": "2022-10-11T14:05:14.975Z"
   },
   {
    "duration": 499,
    "start_time": "2022-10-11T14:05:18.494Z"
   },
   {
    "duration": 49791,
    "start_time": "2022-10-11T14:05:18.994Z"
   },
   {
    "duration": 164,
    "start_time": "2022-10-11T14:06:08.787Z"
   },
   {
    "duration": 7,
    "start_time": "2022-10-11T14:06:08.953Z"
   },
   {
    "duration": 12,
    "start_time": "2022-10-11T14:06:08.962Z"
   },
   {
    "duration": 15,
    "start_time": "2022-10-11T14:06:08.975Z"
   },
   {
    "duration": 8,
    "start_time": "2022-10-11T14:06:08.992Z"
   },
   {
    "duration": 4,
    "start_time": "2022-10-11T14:06:09.002Z"
   },
   {
    "duration": 28,
    "start_time": "2022-10-11T14:06:09.007Z"
   },
   {
    "duration": 1165,
    "start_time": "2022-10-11T14:06:09.036Z"
   },
   {
    "duration": 99,
    "start_time": "2022-10-11T14:06:10.203Z"
   },
   {
    "duration": 262,
    "start_time": "2022-10-11T14:06:10.303Z"
   },
   {
    "duration": 5,
    "start_time": "2022-10-11T14:06:10.566Z"
   },
   {
    "duration": 145,
    "start_time": "2022-10-11T14:06:10.572Z"
   },
   {
    "duration": 0,
    "start_time": "2022-10-11T14:06:10.719Z"
   },
   {
    "duration": 5,
    "start_time": "2022-10-11T14:08:10.021Z"
   },
   {
    "duration": 52,
    "start_time": "2022-10-11T14:08:16.606Z"
   },
   {
    "duration": 4,
    "start_time": "2022-10-11T14:08:58.238Z"
   },
   {
    "duration": 5,
    "start_time": "2022-10-11T14:09:48.214Z"
   },
   {
    "duration": 1447,
    "start_time": "2022-10-11T14:11:20.278Z"
   },
   {
    "duration": 59,
    "start_time": "2022-10-11T14:11:21.727Z"
   },
   {
    "duration": 18,
    "start_time": "2022-10-11T14:11:21.788Z"
   },
   {
    "duration": 17,
    "start_time": "2022-10-11T14:11:21.808Z"
   },
   {
    "duration": 16,
    "start_time": "2022-10-11T14:11:21.826Z"
   },
   {
    "duration": 7,
    "start_time": "2022-10-11T14:11:21.843Z"
   },
   {
    "duration": 33,
    "start_time": "2022-10-11T14:11:21.852Z"
   },
   {
    "duration": 4,
    "start_time": "2022-10-11T14:11:21.887Z"
   },
   {
    "duration": 4,
    "start_time": "2022-10-11T14:11:21.893Z"
   },
   {
    "duration": 4,
    "start_time": "2022-10-11T14:11:21.899Z"
   },
   {
    "duration": 7,
    "start_time": "2022-10-11T14:11:21.904Z"
   },
   {
    "duration": 4,
    "start_time": "2022-10-11T14:11:21.912Z"
   },
   {
    "duration": 10,
    "start_time": "2022-10-11T14:11:21.917Z"
   },
   {
    "duration": 33,
    "start_time": "2022-10-11T14:11:21.929Z"
   },
   {
    "duration": 288,
    "start_time": "2022-10-11T14:11:21.986Z"
   },
   {
    "duration": 27,
    "start_time": "2022-10-11T14:11:22.276Z"
   },
   {
    "duration": 438,
    "start_time": "2022-10-11T14:11:22.304Z"
   },
   {
    "duration": 15,
    "start_time": "2022-10-11T14:11:22.744Z"
   },
   {
    "duration": 27,
    "start_time": "2022-10-11T14:11:22.761Z"
   },
   {
    "duration": 66,
    "start_time": "2022-10-11T14:11:22.789Z"
   },
   {
    "duration": 16,
    "start_time": "2022-10-11T14:11:22.857Z"
   },
   {
    "duration": 25,
    "start_time": "2022-10-11T14:11:22.875Z"
   },
   {
    "duration": 28,
    "start_time": "2022-10-11T14:11:22.902Z"
   },
   {
    "duration": 29,
    "start_time": "2022-10-11T14:11:22.932Z"
   },
   {
    "duration": 39,
    "start_time": "2022-10-11T14:11:22.963Z"
   },
   {
    "duration": 37,
    "start_time": "2022-10-11T14:11:23.004Z"
   },
   {
    "duration": 1660,
    "start_time": "2022-10-11T14:11:23.043Z"
   },
   {
    "duration": 293,
    "start_time": "2022-10-11T14:11:24.789Z"
   },
   {
    "duration": 11416,
    "start_time": "2022-10-11T14:11:25.085Z"
   },
   {
    "duration": 6,
    "start_time": "2022-10-11T14:11:36.502Z"
   },
   {
    "duration": 134,
    "start_time": "2022-10-11T14:11:36.510Z"
   },
   {
    "duration": 5,
    "start_time": "2022-10-11T14:11:36.646Z"
   },
   {
    "duration": 2938,
    "start_time": "2022-10-11T14:11:36.652Z"
   },
   {
    "duration": 370,
    "start_time": "2022-10-11T14:11:39.592Z"
   },
   {
    "duration": 36887,
    "start_time": "2022-10-11T14:11:39.964Z"
   },
   {
    "duration": 168,
    "start_time": "2022-10-11T14:12:16.853Z"
   },
   {
    "duration": 5,
    "start_time": "2022-10-11T14:12:17.023Z"
   },
   {
    "duration": 43,
    "start_time": "2022-10-11T14:12:17.030Z"
   },
   {
    "duration": 5,
    "start_time": "2022-10-11T14:12:17.075Z"
   },
   {
    "duration": 3614,
    "start_time": "2022-10-11T14:12:17.082Z"
   },
   {
    "duration": 495,
    "start_time": "2022-10-11T14:12:20.698Z"
   },
   {
    "duration": 49003,
    "start_time": "2022-10-11T14:12:21.195Z"
   },
   {
    "duration": 163,
    "start_time": "2022-10-11T14:13:10.200Z"
   },
   {
    "duration": 7,
    "start_time": "2022-10-11T14:13:10.364Z"
   },
   {
    "duration": 17,
    "start_time": "2022-10-11T14:13:10.373Z"
   },
   {
    "duration": 9,
    "start_time": "2022-10-11T14:13:10.392Z"
   },
   {
    "duration": 8,
    "start_time": "2022-10-11T14:13:10.402Z"
   },
   {
    "duration": 6,
    "start_time": "2022-10-11T14:13:10.411Z"
   },
   {
    "duration": 23,
    "start_time": "2022-10-11T14:13:10.418Z"
   },
   {
    "duration": 1126,
    "start_time": "2022-10-11T14:13:10.443Z"
   },
   {
    "duration": 95,
    "start_time": "2022-10-11T14:13:11.571Z"
   },
   {
    "duration": 271,
    "start_time": "2022-10-11T14:13:11.668Z"
   },
   {
    "duration": 5,
    "start_time": "2022-10-11T14:13:11.940Z"
   },
   {
    "duration": 162,
    "start_time": "2022-10-11T14:13:11.946Z"
   },
   {
    "duration": 1509,
    "start_time": "2022-10-11T14:18:13.666Z"
   },
   {
    "duration": 60,
    "start_time": "2022-10-11T14:18:15.177Z"
   },
   {
    "duration": 19,
    "start_time": "2022-10-11T14:18:15.239Z"
   },
   {
    "duration": 18,
    "start_time": "2022-10-11T14:18:15.260Z"
   },
   {
    "duration": 16,
    "start_time": "2022-10-11T14:18:15.279Z"
   },
   {
    "duration": 17,
    "start_time": "2022-10-11T14:18:15.296Z"
   },
   {
    "duration": 6,
    "start_time": "2022-10-11T14:18:15.315Z"
   },
   {
    "duration": 10,
    "start_time": "2022-10-11T14:18:15.323Z"
   },
   {
    "duration": 7,
    "start_time": "2022-10-11T14:18:15.335Z"
   },
   {
    "duration": 14,
    "start_time": "2022-10-11T14:18:15.345Z"
   },
   {
    "duration": 11,
    "start_time": "2022-10-11T14:18:15.360Z"
   },
   {
    "duration": 5,
    "start_time": "2022-10-11T14:18:15.373Z"
   },
   {
    "duration": 22,
    "start_time": "2022-10-11T14:18:15.379Z"
   },
   {
    "duration": 42,
    "start_time": "2022-10-11T14:18:15.403Z"
   },
   {
    "duration": 279,
    "start_time": "2022-10-11T14:18:15.447Z"
   },
   {
    "duration": 22,
    "start_time": "2022-10-11T14:18:15.727Z"
   },
   {
    "duration": 498,
    "start_time": "2022-10-11T14:18:15.751Z"
   },
   {
    "duration": 11,
    "start_time": "2022-10-11T14:18:16.251Z"
   },
   {
    "duration": 31,
    "start_time": "2022-10-11T14:18:16.263Z"
   },
   {
    "duration": 47,
    "start_time": "2022-10-11T14:18:16.296Z"
   },
   {
    "duration": 22,
    "start_time": "2022-10-11T14:18:16.344Z"
   },
   {
    "duration": 9,
    "start_time": "2022-10-11T14:18:16.385Z"
   },
   {
    "duration": 12,
    "start_time": "2022-10-11T14:18:16.396Z"
   },
   {
    "duration": 19,
    "start_time": "2022-10-11T14:18:16.410Z"
   },
   {
    "duration": 26,
    "start_time": "2022-10-11T14:18:16.430Z"
   },
   {
    "duration": 7,
    "start_time": "2022-10-11T14:18:16.458Z"
   },
   {
    "duration": 1703,
    "start_time": "2022-10-11T14:18:16.485Z"
   },
   {
    "duration": 281,
    "start_time": "2022-10-11T14:18:18.195Z"
   },
   {
    "duration": 10770,
    "start_time": "2022-10-11T14:18:18.478Z"
   },
   {
    "duration": 6,
    "start_time": "2022-10-11T14:18:29.249Z"
   },
   {
    "duration": 128,
    "start_time": "2022-10-11T14:18:29.257Z"
   },
   {
    "duration": 5,
    "start_time": "2022-10-11T14:18:29.387Z"
   },
   {
    "duration": 3107,
    "start_time": "2022-10-11T14:18:29.394Z"
   },
   {
    "duration": 410,
    "start_time": "2022-10-11T14:18:32.503Z"
   },
   {
    "duration": 37409,
    "start_time": "2022-10-11T14:18:32.916Z"
   },
   {
    "duration": 163,
    "start_time": "2022-10-11T14:19:10.327Z"
   },
   {
    "duration": 4,
    "start_time": "2022-10-11T14:19:10.492Z"
   },
   {
    "duration": 33,
    "start_time": "2022-10-11T14:19:10.498Z"
   },
   {
    "duration": 24,
    "start_time": "2022-10-11T14:19:10.533Z"
   },
   {
    "duration": 3933,
    "start_time": "2022-10-11T14:19:10.559Z"
   },
   {
    "duration": 481,
    "start_time": "2022-10-11T14:19:14.494Z"
   },
   {
    "duration": 50066,
    "start_time": "2022-10-11T14:19:14.977Z"
   },
   {
    "duration": 183,
    "start_time": "2022-10-11T14:20:05.045Z"
   },
   {
    "duration": 7,
    "start_time": "2022-10-11T14:20:05.230Z"
   },
   {
    "duration": 9,
    "start_time": "2022-10-11T14:20:05.238Z"
   },
   {
    "duration": 9,
    "start_time": "2022-10-11T14:20:05.248Z"
   },
   {
    "duration": 28,
    "start_time": "2022-10-11T14:20:05.258Z"
   },
   {
    "duration": 2,
    "start_time": "2022-10-11T14:20:05.288Z"
   },
   {
    "duration": 35,
    "start_time": "2022-10-11T14:20:05.291Z"
   },
   {
    "duration": 1128,
    "start_time": "2022-10-11T14:20:05.327Z"
   },
   {
    "duration": 90,
    "start_time": "2022-10-11T14:20:06.457Z"
   },
   {
    "duration": 264,
    "start_time": "2022-10-11T14:20:06.550Z"
   },
   {
    "duration": 4,
    "start_time": "2022-10-11T14:20:06.816Z"
   },
   {
    "duration": 158,
    "start_time": "2022-10-11T14:20:06.821Z"
   }
  ],
  "kernelspec": {
   "display_name": "Python 3 (ipykernel)",
   "language": "python",
   "name": "python3"
  },
  "language_info": {
   "codemirror_mode": {
    "name": "ipython",
    "version": 3
   },
   "file_extension": ".py",
   "mimetype": "text/x-python",
   "name": "python",
   "nbconvert_exporter": "python",
   "pygments_lexer": "ipython3",
   "version": "3.9.5"
  },
  "toc": {
   "base_numbering": 1,
   "nav_menu": {},
   "number_sections": true,
   "sideBar": true,
   "skip_h1_title": true,
   "title_cell": "Содержание",
   "title_sidebar": "Contents",
   "toc_cell": true,
   "toc_position": {
    "height": "calc(100% - 180px)",
    "left": "10px",
    "top": "150px",
    "width": "165px"
   },
   "toc_section_display": true,
   "toc_window_display": true
  }
 },
 "nbformat": 4,
 "nbformat_minor": 2
}

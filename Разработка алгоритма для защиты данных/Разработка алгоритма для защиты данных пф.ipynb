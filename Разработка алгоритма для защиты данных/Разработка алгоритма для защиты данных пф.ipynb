{
 "cells": [
  {
   "cell_type": "markdown",
   "metadata": {
    "toc": true
   },
   "source": [
    "<h1>Содержание<span class=\"tocSkip\"></span></h1>\n",
    "<div class=\"toc\"><ul class=\"toc-item\"><li><span><a href=\"#Загрузка-данных\" data-toc-modified-id=\"Загрузка-данных-1\"><span class=\"toc-item-num\">1&nbsp;&nbsp;</span>Загрузка данных</a></span></li><li><span><a href=\"#Умножение-матриц\" data-toc-modified-id=\"Умножение-матриц-2\"><span class=\"toc-item-num\">2&nbsp;&nbsp;</span>Умножение матриц</a></span></li><li><span><a href=\"#Алгоритм-преобразования\" data-toc-modified-id=\"Алгоритм-преобразования-3\"><span class=\"toc-item-num\">3&nbsp;&nbsp;</span>Алгоритм преобразования</a></span></li><li><span><a href=\"#Проверка-алгоритма\" data-toc-modified-id=\"Проверка-алгоритма-4\"><span class=\"toc-item-num\">4&nbsp;&nbsp;</span>Проверка алгоритма</a></span></li><li><span><a href=\"#Чек-лист-проверки\" data-toc-modified-id=\"Чек-лист-проверки-5\"><span class=\"toc-item-num\">5&nbsp;&nbsp;</span>Чек-лист проверки</a></span></li></ul></div>"
   ]
  },
  {
   "cell_type": "markdown",
   "metadata": {},
   "source": [
    "# Защита персональных данных клиентов"
   ]
  },
  {
   "cell_type": "markdown",
   "metadata": {},
   "source": [
    "Вам нужно защитить данные клиентов страховой компании «Хоть потоп». Разработайте такой метод преобразования данных, чтобы по ним было сложно восстановить персональную информацию. Обоснуйте корректность его работы.\n",
    "\n",
    "Нужно защитить данные, чтобы при преобразовании качество моделей машинного обучения не ухудшилось. Подбирать наилучшую модель не требуется."
   ]
  },
  {
   "cell_type": "markdown",
   "metadata": {},
   "source": [
    "## Загрузка данных"
   ]
  },
  {
   "cell_type": "code",
   "execution_count": 1,
   "metadata": {},
   "outputs": [],
   "source": [
    "import pandas as pd\n",
    "import numpy as np\n",
    "from sklearn.datasets import make_spd_matrix\n",
    "from sklearn.model_selection import train_test_split\n",
    "from sklearn.linear_model import LinearRegression\n",
    "from sklearn.metrics import r2_score\n",
    "\n",
    "\n",
    "pd.options.display.float_format = '{:,.4f}'.format\n",
    "\n",
    "df = pd.read_csv('/datasets/insurance.csv')"
   ]
  },
  {
   "cell_type": "code",
   "execution_count": 2,
   "metadata": {
    "scrolled": true
   },
   "outputs": [
    {
     "data": {
      "text/html": [
       "<div>\n",
       "<style scoped>\n",
       "    .dataframe tbody tr th:only-of-type {\n",
       "        vertical-align: middle;\n",
       "    }\n",
       "\n",
       "    .dataframe tbody tr th {\n",
       "        vertical-align: top;\n",
       "    }\n",
       "\n",
       "    .dataframe thead th {\n",
       "        text-align: right;\n",
       "    }\n",
       "</style>\n",
       "<table border=\"1\" class=\"dataframe\">\n",
       "  <thead>\n",
       "    <tr style=\"text-align: right;\">\n",
       "      <th></th>\n",
       "      <th>Пол</th>\n",
       "      <th>Возраст</th>\n",
       "      <th>Зарплата</th>\n",
       "      <th>Члены семьи</th>\n",
       "      <th>Страховые выплаты</th>\n",
       "    </tr>\n",
       "  </thead>\n",
       "  <tbody>\n",
       "    <tr>\n",
       "      <th>0</th>\n",
       "      <td>1</td>\n",
       "      <td>41.0000</td>\n",
       "      <td>49,600.0000</td>\n",
       "      <td>1</td>\n",
       "      <td>0</td>\n",
       "    </tr>\n",
       "    <tr>\n",
       "      <th>1</th>\n",
       "      <td>0</td>\n",
       "      <td>46.0000</td>\n",
       "      <td>38,000.0000</td>\n",
       "      <td>1</td>\n",
       "      <td>1</td>\n",
       "    </tr>\n",
       "    <tr>\n",
       "      <th>2</th>\n",
       "      <td>0</td>\n",
       "      <td>29.0000</td>\n",
       "      <td>21,000.0000</td>\n",
       "      <td>0</td>\n",
       "      <td>0</td>\n",
       "    </tr>\n",
       "    <tr>\n",
       "      <th>3</th>\n",
       "      <td>0</td>\n",
       "      <td>21.0000</td>\n",
       "      <td>41,700.0000</td>\n",
       "      <td>2</td>\n",
       "      <td>0</td>\n",
       "    </tr>\n",
       "    <tr>\n",
       "      <th>4</th>\n",
       "      <td>1</td>\n",
       "      <td>28.0000</td>\n",
       "      <td>26,100.0000</td>\n",
       "      <td>0</td>\n",
       "      <td>0</td>\n",
       "    </tr>\n",
       "    <tr>\n",
       "      <th>...</th>\n",
       "      <td>...</td>\n",
       "      <td>...</td>\n",
       "      <td>...</td>\n",
       "      <td>...</td>\n",
       "      <td>...</td>\n",
       "    </tr>\n",
       "    <tr>\n",
       "      <th>4995</th>\n",
       "      <td>0</td>\n",
       "      <td>28.0000</td>\n",
       "      <td>35,700.0000</td>\n",
       "      <td>2</td>\n",
       "      <td>0</td>\n",
       "    </tr>\n",
       "    <tr>\n",
       "      <th>4996</th>\n",
       "      <td>0</td>\n",
       "      <td>34.0000</td>\n",
       "      <td>52,400.0000</td>\n",
       "      <td>1</td>\n",
       "      <td>0</td>\n",
       "    </tr>\n",
       "    <tr>\n",
       "      <th>4997</th>\n",
       "      <td>0</td>\n",
       "      <td>20.0000</td>\n",
       "      <td>33,900.0000</td>\n",
       "      <td>2</td>\n",
       "      <td>0</td>\n",
       "    </tr>\n",
       "    <tr>\n",
       "      <th>4998</th>\n",
       "      <td>1</td>\n",
       "      <td>22.0000</td>\n",
       "      <td>32,700.0000</td>\n",
       "      <td>3</td>\n",
       "      <td>0</td>\n",
       "    </tr>\n",
       "    <tr>\n",
       "      <th>4999</th>\n",
       "      <td>1</td>\n",
       "      <td>28.0000</td>\n",
       "      <td>40,600.0000</td>\n",
       "      <td>1</td>\n",
       "      <td>0</td>\n",
       "    </tr>\n",
       "  </tbody>\n",
       "</table>\n",
       "<p>5000 rows × 5 columns</p>\n",
       "</div>"
      ],
      "text/plain": [
       "      Пол  Возраст    Зарплата  Члены семьи  Страховые выплаты\n",
       "0       1  41.0000 49,600.0000            1                  0\n",
       "1       0  46.0000 38,000.0000            1                  1\n",
       "2       0  29.0000 21,000.0000            0                  0\n",
       "3       0  21.0000 41,700.0000            2                  0\n",
       "4       1  28.0000 26,100.0000            0                  0\n",
       "...   ...      ...         ...          ...                ...\n",
       "4995    0  28.0000 35,700.0000            2                  0\n",
       "4996    0  34.0000 52,400.0000            1                  0\n",
       "4997    0  20.0000 33,900.0000            2                  0\n",
       "4998    1  22.0000 32,700.0000            3                  0\n",
       "4999    1  28.0000 40,600.0000            1                  0\n",
       "\n",
       "[5000 rows x 5 columns]"
      ]
     },
     "metadata": {},
     "output_type": "display_data"
    },
    {
     "name": "stdout",
     "output_type": "stream",
     "text": [
      "<class 'pandas.core.frame.DataFrame'>\n",
      "RangeIndex: 5000 entries, 0 to 4999\n",
      "Data columns (total 5 columns):\n",
      " #   Column             Non-Null Count  Dtype  \n",
      "---  ------             --------------  -----  \n",
      " 0   Пол                5000 non-null   int64  \n",
      " 1   Возраст            5000 non-null   float64\n",
      " 2   Зарплата           5000 non-null   float64\n",
      " 3   Члены семьи        5000 non-null   int64  \n",
      " 4   Страховые выплаты  5000 non-null   int64  \n",
      "dtypes: float64(2), int64(3)\n",
      "memory usage: 195.4 KB\n"
     ]
    },
    {
     "data": {
      "text/plain": [
       "None"
      ]
     },
     "metadata": {},
     "output_type": "display_data"
    },
    {
     "data": {
      "text/html": [
       "<div>\n",
       "<style scoped>\n",
       "    .dataframe tbody tr th:only-of-type {\n",
       "        vertical-align: middle;\n",
       "    }\n",
       "\n",
       "    .dataframe tbody tr th {\n",
       "        vertical-align: top;\n",
       "    }\n",
       "\n",
       "    .dataframe thead th {\n",
       "        text-align: right;\n",
       "    }\n",
       "</style>\n",
       "<table border=\"1\" class=\"dataframe\">\n",
       "  <thead>\n",
       "    <tr style=\"text-align: right;\">\n",
       "      <th></th>\n",
       "      <th>Пол</th>\n",
       "      <th>Возраст</th>\n",
       "      <th>Зарплата</th>\n",
       "      <th>Члены семьи</th>\n",
       "      <th>Страховые выплаты</th>\n",
       "    </tr>\n",
       "  </thead>\n",
       "  <tbody>\n",
       "    <tr>\n",
       "      <th>count</th>\n",
       "      <td>5,000.0000</td>\n",
       "      <td>5,000.0000</td>\n",
       "      <td>5,000.0000</td>\n",
       "      <td>5,000.0000</td>\n",
       "      <td>5,000.0000</td>\n",
       "    </tr>\n",
       "    <tr>\n",
       "      <th>mean</th>\n",
       "      <td>0.4990</td>\n",
       "      <td>30.9528</td>\n",
       "      <td>39,916.3600</td>\n",
       "      <td>1.1942</td>\n",
       "      <td>0.1480</td>\n",
       "    </tr>\n",
       "    <tr>\n",
       "      <th>std</th>\n",
       "      <td>0.5000</td>\n",
       "      <td>8.4408</td>\n",
       "      <td>9,900.0836</td>\n",
       "      <td>1.0914</td>\n",
       "      <td>0.4632</td>\n",
       "    </tr>\n",
       "    <tr>\n",
       "      <th>min</th>\n",
       "      <td>0.0000</td>\n",
       "      <td>18.0000</td>\n",
       "      <td>5,300.0000</td>\n",
       "      <td>0.0000</td>\n",
       "      <td>0.0000</td>\n",
       "    </tr>\n",
       "    <tr>\n",
       "      <th>25%</th>\n",
       "      <td>0.0000</td>\n",
       "      <td>24.0000</td>\n",
       "      <td>33,300.0000</td>\n",
       "      <td>0.0000</td>\n",
       "      <td>0.0000</td>\n",
       "    </tr>\n",
       "    <tr>\n",
       "      <th>50%</th>\n",
       "      <td>0.0000</td>\n",
       "      <td>30.0000</td>\n",
       "      <td>40,200.0000</td>\n",
       "      <td>1.0000</td>\n",
       "      <td>0.0000</td>\n",
       "    </tr>\n",
       "    <tr>\n",
       "      <th>75%</th>\n",
       "      <td>1.0000</td>\n",
       "      <td>37.0000</td>\n",
       "      <td>46,600.0000</td>\n",
       "      <td>2.0000</td>\n",
       "      <td>0.0000</td>\n",
       "    </tr>\n",
       "    <tr>\n",
       "      <th>max</th>\n",
       "      <td>1.0000</td>\n",
       "      <td>65.0000</td>\n",
       "      <td>79,000.0000</td>\n",
       "      <td>6.0000</td>\n",
       "      <td>5.0000</td>\n",
       "    </tr>\n",
       "  </tbody>\n",
       "</table>\n",
       "</div>"
      ],
      "text/plain": [
       "             Пол    Возраст    Зарплата  Члены семьи  Страховые выплаты\n",
       "count 5,000.0000 5,000.0000  5,000.0000   5,000.0000         5,000.0000\n",
       "mean      0.4990    30.9528 39,916.3600       1.1942             0.1480\n",
       "std       0.5000     8.4408  9,900.0836       1.0914             0.4632\n",
       "min       0.0000    18.0000  5,300.0000       0.0000             0.0000\n",
       "25%       0.0000    24.0000 33,300.0000       0.0000             0.0000\n",
       "50%       0.0000    30.0000 40,200.0000       1.0000             0.0000\n",
       "75%       1.0000    37.0000 46,600.0000       2.0000             0.0000\n",
       "max       1.0000    65.0000 79,000.0000       6.0000             5.0000"
      ]
     },
     "metadata": {},
     "output_type": "display_data"
    }
   ],
   "source": [
    "display(df)\n",
    "display(df.info())\n",
    "display(df.describe())"
   ]
  },
  {
   "cell_type": "code",
   "execution_count": 3,
   "metadata": {},
   "outputs": [
    {
     "data": {
      "text/plain": [
       "Пол                  0\n",
       "Возраст              0\n",
       "Зарплата             0\n",
       "Члены семьи          0\n",
       "Страховые выплаты    0\n",
       "dtype: int64"
      ]
     },
     "execution_count": 3,
     "metadata": {},
     "output_type": "execute_result"
    }
   ],
   "source": [
    "df.isna().sum()"
   ]
  },
  {
   "cell_type": "markdown",
   "metadata": {},
   "source": [
    "Данные не требуют дополнительной предобработки"
   ]
  },
  {
   "cell_type": "markdown",
   "metadata": {},
   "source": [
    "## Умножение матриц"
   ]
  },
  {
   "cell_type": "markdown",
   "metadata": {},
   "source": [
    "Обозначения:\n",
    "\n",
    "- $X$ — матрица признаков (нулевой столбец состоит из единиц)\n",
    "\n",
    "- $y$ — вектор целевого признака\n",
    "\n",
    "- $P$ — матрица, на которую умножаются признаки\n",
    "\n",
    "- $w$ — вектор весов линейной регрессии (нулевой элемент равен сдвигу)"
   ]
  },
  {
   "cell_type": "markdown",
   "metadata": {},
   "source": [
    "Предсказания:\n",
    "\n",
    "$$\n",
    "a = Xw\n",
    "$$\n",
    "\n",
    "Задача обучения:\n",
    "\n",
    "$$\n",
    "w = \\arg\\min_w MSE(Xw, y)\n",
    "$$\n",
    "\n",
    "Формула обучения:\n",
    "\n",
    "$$\n",
    "w = (X^T X)^{-1} X^T y\n",
    "$$"
   ]
  },
  {
   "cell_type": "markdown",
   "metadata": {},
   "source": [
    "**Вопроc:**\n",
    "\n",
    "Признаки умножают на обратимую матрицу. Изменится ли качество линейной регрессии? (Её можно обучить заново.)"
   ]
  },
  {
   "cell_type": "markdown",
   "metadata": {},
   "source": [
    "**Ответ:** При умножении матрицы признаков на обратимую матрицу, качество линейной регресии не изменится."
   ]
  },
  {
   "cell_type": "markdown",
   "metadata": {},
   "source": [
    "**Обоснование:**\n",
    "    "
   ]
  },
  {
   "cell_type": "markdown",
   "metadata": {},
   "source": [
    "\n",
    "$P$- обратимая, по определению, матрица преобразования.\n",
    " \n",
    "$(AB)^T=B^TA^T$\n",
    "\n",
    "$\n",
    "(AB)^{-1}=B^{-1}A^{-1}\n",
    "$\n",
    "\n",
    "$\n",
    "AA^{-1}=A^{-1}A=E\n",
    "$ - руководствуемся этим тождеством при преобразовании выражения a'.\n",
    "\n",
    "Для ответа необходимо доказать (или опровергнуть), что предсказания $a$ на исходных признаках будут равны $a_2$ вычесленному с учетом умножения признаков на заведомо обратимую матрицу (судя по исходным данным, это будет $P$).\n",
    "\n",
    "1. Вычислим $w_2$, по результату применения преобразования P к  Подставим в выражение: \n",
    " \n",
    " $w_2 = ((XP)^T XP)^{-1} (XP)^T y$\n",
    " \n",
    " \n",
    "2. Раскроем скобки для транспонирования по свойству $(AB)^T = B^T A^T$\n",
    " \n",
    " $w_2 = (P^T X^T XP)^{-1} P^T X^T y$\n",
    " \n",
    "3.Вынесем P за скобки по свойству $(AB)^{-1} = B^{-1} A^{-1}$\n",
    "\n",
    " $w_2 = P^{-1} (X^T X)^{-1} (P^T)^{-1} P^T X^T y$\n",
    " \n",
    "4. Т.к. умножение матрицы на обратимую равно E, можем сократить часть $(P^T)^{-1} P^T$ до $E$ и сразу умножить на $X^T$ \n",
    "  \n",
    "  $w_2 = P^{-1} (X^T X)^{-1} X^T y$\n",
    "  \n",
    "5. учитывая, что $w = (X^T X)^{-1} X^T y$ и произведем замену\n",
    " \n",
    " $w_2 = P^{-1} w$\n",
    " \n",
    "**Теперь проверим признаки**\n",
    "\n",
    "1. Запишем формулу\n",
    " \n",
    " $a_2 = XPw_2$\n",
    " \n",
    "2. Подставим получившиеся значения\n",
    " \n",
    " $a_2 = XP P^{-1} w$\n",
    " \n",
    "3. Опять же, вспомним, что умножение на обратную матрицу даст $E$\n",
    " \n",
    " $a_2 = Xw$\n",
    " \n",
    "4. Учитывая, что $a = Xw$, получаем:\n",
    " \n",
    " $a_2 = a$\n"
   ]
  },
  {
   "cell_type": "markdown",
   "metadata": {},
   "source": [
    " $a = Xw = a' = XPw'$\n",
    "    \n",
    " $((XP)^T XP)^{-1} (XP)^T y = (P^T X^T XP)^{-1} P^T X^T y = P^{-1}(X^T X)^{-1}(P^T)^{-1} P^T X^T y =\n",
    "P^{-1}(X^TX)^{-1} X^T y = P^{-1}w$  \n",
    "\n",
    "Таким образом веса нашей новой модели также будут умножены на обратную матрицу P, и мы получим такие же результаты как и раньше( мы видим что важным условием является обратимость матрицы P)"
   ]
  },
  {
   "cell_type": "markdown",
   "metadata": {},
   "source": [
    "## Алгоритм преобразования"
   ]
  },
  {
   "cell_type": "markdown",
   "metadata": {},
   "source": [
    "**Алгоритм**"
   ]
  },
  {
   "cell_type": "markdown",
   "metadata": {},
   "source": [
    "1. Создадим случайную, обратимую матрицу $P$\n",
    "2. Умножим признаки матрицы X на матрицу $P$. Получим преобразованную матрицу признаков $XP$.\n",
    "\n"
   ]
  },
  {
   "cell_type": "markdown",
   "metadata": {},
   "source": [
    "**Обоснование**"
   ]
  },
  {
   "cell_type": "markdown",
   "metadata": {},
   "source": [
    " $XPP^{-1} = X$"
   ]
  },
  {
   "cell_type": "markdown",
   "metadata": {},
   "source": [
    "Таким образом, с помощью обратимой матрицы преобразования $P$ мы можем как кодировать, так и декодировать признаки"
   ]
  },
  {
   "cell_type": "markdown",
   "metadata": {},
   "source": [
    "## Проверка алгоритма"
   ]
  },
  {
   "cell_type": "markdown",
   "metadata": {},
   "source": [
    "Отделим целевой признак"
   ]
  },
  {
   "cell_type": "code",
   "execution_count": 4,
   "metadata": {},
   "outputs": [],
   "source": [
    "features = df.drop('Страховые выплаты', axis=1)\n",
    "target = df['Страховые выплаты']"
   ]
  },
  {
   "cell_type": "markdown",
   "metadata": {},
   "source": [
    "Создадим случайную квадратную матрицу преобразования , и проверим ее на обратимость"
   ]
  },
  {
   "cell_type": "code",
   "execution_count": 5,
   "metadata": {},
   "outputs": [
    {
     "name": "stdout",
     "output_type": "stream",
     "text": [
      "Матрица обратима\n"
     ]
    }
   ],
   "source": [
    "p_matrix = make_spd_matrix(n_dim=4, random_state=12345)\n",
    "try:\n",
    "    np.linalg.inv(p_matrix)\n",
    "    print('Матрица обратима')\n",
    "except:\n",
    "    print('Матрица не обратима')"
   ]
  },
  {
   "cell_type": "markdown",
   "metadata": {},
   "source": [
    "Получим новую матрицу признаков путем преобразования исходной матрицы признаков умножением на матрицу **p_matrix**."
   ]
  },
  {
   "cell_type": "code",
   "execution_count": 6,
   "metadata": {},
   "outputs": [],
   "source": [
    "features_p = features @ p_matrix"
   ]
  },
  {
   "cell_type": "markdown",
   "metadata": {},
   "source": [
    "Проверим полученную новую матрицу признаков на возможность восстановления с помощью обратной матрицы преоразования.\n"
   ]
  },
  {
   "cell_type": "code",
   "execution_count": 7,
   "metadata": {},
   "outputs": [
    {
     "data": {
      "text/html": [
       "<div>\n",
       "<style scoped>\n",
       "    .dataframe tbody tr th:only-of-type {\n",
       "        vertical-align: middle;\n",
       "    }\n",
       "\n",
       "    .dataframe tbody tr th {\n",
       "        vertical-align: top;\n",
       "    }\n",
       "\n",
       "    .dataframe thead th {\n",
       "        text-align: right;\n",
       "    }\n",
       "</style>\n",
       "<table border=\"1\" class=\"dataframe\">\n",
       "  <thead>\n",
       "    <tr style=\"text-align: right;\">\n",
       "      <th></th>\n",
       "      <th>Пол</th>\n",
       "      <th>Возраст</th>\n",
       "      <th>Зарплата</th>\n",
       "      <th>Члены семьи</th>\n",
       "    </tr>\n",
       "  </thead>\n",
       "  <tbody>\n",
       "    <tr>\n",
       "      <th>0</th>\n",
       "      <td>1</td>\n",
       "      <td>41.0000</td>\n",
       "      <td>49,600.0000</td>\n",
       "      <td>1</td>\n",
       "    </tr>\n",
       "    <tr>\n",
       "      <th>1</th>\n",
       "      <td>0</td>\n",
       "      <td>46.0000</td>\n",
       "      <td>38,000.0000</td>\n",
       "      <td>1</td>\n",
       "    </tr>\n",
       "    <tr>\n",
       "      <th>2</th>\n",
       "      <td>0</td>\n",
       "      <td>29.0000</td>\n",
       "      <td>21,000.0000</td>\n",
       "      <td>0</td>\n",
       "    </tr>\n",
       "    <tr>\n",
       "      <th>3</th>\n",
       "      <td>0</td>\n",
       "      <td>21.0000</td>\n",
       "      <td>41,700.0000</td>\n",
       "      <td>2</td>\n",
       "    </tr>\n",
       "    <tr>\n",
       "      <th>4</th>\n",
       "      <td>1</td>\n",
       "      <td>28.0000</td>\n",
       "      <td>26,100.0000</td>\n",
       "      <td>0</td>\n",
       "    </tr>\n",
       "    <tr>\n",
       "      <th>...</th>\n",
       "      <td>...</td>\n",
       "      <td>...</td>\n",
       "      <td>...</td>\n",
       "      <td>...</td>\n",
       "    </tr>\n",
       "    <tr>\n",
       "      <th>4995</th>\n",
       "      <td>0</td>\n",
       "      <td>28.0000</td>\n",
       "      <td>35,700.0000</td>\n",
       "      <td>2</td>\n",
       "    </tr>\n",
       "    <tr>\n",
       "      <th>4996</th>\n",
       "      <td>0</td>\n",
       "      <td>34.0000</td>\n",
       "      <td>52,400.0000</td>\n",
       "      <td>1</td>\n",
       "    </tr>\n",
       "    <tr>\n",
       "      <th>4997</th>\n",
       "      <td>0</td>\n",
       "      <td>20.0000</td>\n",
       "      <td>33,900.0000</td>\n",
       "      <td>2</td>\n",
       "    </tr>\n",
       "    <tr>\n",
       "      <th>4998</th>\n",
       "      <td>1</td>\n",
       "      <td>22.0000</td>\n",
       "      <td>32,700.0000</td>\n",
       "      <td>3</td>\n",
       "    </tr>\n",
       "    <tr>\n",
       "      <th>4999</th>\n",
       "      <td>1</td>\n",
       "      <td>28.0000</td>\n",
       "      <td>40,600.0000</td>\n",
       "      <td>1</td>\n",
       "    </tr>\n",
       "  </tbody>\n",
       "</table>\n",
       "<p>5000 rows × 4 columns</p>\n",
       "</div>"
      ],
      "text/plain": [
       "      Пол  Возраст    Зарплата  Члены семьи\n",
       "0       1  41.0000 49,600.0000            1\n",
       "1       0  46.0000 38,000.0000            1\n",
       "2       0  29.0000 21,000.0000            0\n",
       "3       0  21.0000 41,700.0000            2\n",
       "4       1  28.0000 26,100.0000            0\n",
       "...   ...      ...         ...          ...\n",
       "4995    0  28.0000 35,700.0000            2\n",
       "4996    0  34.0000 52,400.0000            1\n",
       "4997    0  20.0000 33,900.0000            2\n",
       "4998    1  22.0000 32,700.0000            3\n",
       "4999    1  28.0000 40,600.0000            1\n",
       "\n",
       "[5000 rows x 4 columns]"
      ]
     },
     "metadata": {},
     "output_type": "display_data"
    },
    {
     "data": {
      "text/html": [
       "<div>\n",
       "<style scoped>\n",
       "    .dataframe tbody tr th:only-of-type {\n",
       "        vertical-align: middle;\n",
       "    }\n",
       "\n",
       "    .dataframe tbody tr th {\n",
       "        vertical-align: top;\n",
       "    }\n",
       "\n",
       "    .dataframe thead th {\n",
       "        text-align: right;\n",
       "    }\n",
       "</style>\n",
       "<table border=\"1\" class=\"dataframe\">\n",
       "  <thead>\n",
       "    <tr style=\"text-align: right;\">\n",
       "      <th></th>\n",
       "      <th>0</th>\n",
       "      <th>1</th>\n",
       "      <th>2</th>\n",
       "      <th>3</th>\n",
       "    </tr>\n",
       "  </thead>\n",
       "  <tbody>\n",
       "    <tr>\n",
       "      <th>0</th>\n",
       "      <td>1.0000</td>\n",
       "      <td>41.0000</td>\n",
       "      <td>49,600.0000</td>\n",
       "      <td>1.0000</td>\n",
       "    </tr>\n",
       "    <tr>\n",
       "      <th>1</th>\n",
       "      <td>0.0000</td>\n",
       "      <td>46.0000</td>\n",
       "      <td>38,000.0000</td>\n",
       "      <td>1.0000</td>\n",
       "    </tr>\n",
       "    <tr>\n",
       "      <th>2</th>\n",
       "      <td>-0.0000</td>\n",
       "      <td>29.0000</td>\n",
       "      <td>21,000.0000</td>\n",
       "      <td>0.0000</td>\n",
       "    </tr>\n",
       "    <tr>\n",
       "      <th>3</th>\n",
       "      <td>0.0000</td>\n",
       "      <td>21.0000</td>\n",
       "      <td>41,700.0000</td>\n",
       "      <td>2.0000</td>\n",
       "    </tr>\n",
       "    <tr>\n",
       "      <th>4</th>\n",
       "      <td>1.0000</td>\n",
       "      <td>28.0000</td>\n",
       "      <td>26,100.0000</td>\n",
       "      <td>0.0000</td>\n",
       "    </tr>\n",
       "    <tr>\n",
       "      <th>...</th>\n",
       "      <td>...</td>\n",
       "      <td>...</td>\n",
       "      <td>...</td>\n",
       "      <td>...</td>\n",
       "    </tr>\n",
       "    <tr>\n",
       "      <th>4995</th>\n",
       "      <td>-0.0000</td>\n",
       "      <td>28.0000</td>\n",
       "      <td>35,700.0000</td>\n",
       "      <td>2.0000</td>\n",
       "    </tr>\n",
       "    <tr>\n",
       "      <th>4996</th>\n",
       "      <td>-0.0000</td>\n",
       "      <td>34.0000</td>\n",
       "      <td>52,400.0000</td>\n",
       "      <td>1.0000</td>\n",
       "    </tr>\n",
       "    <tr>\n",
       "      <th>4997</th>\n",
       "      <td>-0.0000</td>\n",
       "      <td>20.0000</td>\n",
       "      <td>33,900.0000</td>\n",
       "      <td>2.0000</td>\n",
       "    </tr>\n",
       "    <tr>\n",
       "      <th>4998</th>\n",
       "      <td>1.0000</td>\n",
       "      <td>22.0000</td>\n",
       "      <td>32,700.0000</td>\n",
       "      <td>3.0000</td>\n",
       "    </tr>\n",
       "    <tr>\n",
       "      <th>4999</th>\n",
       "      <td>1.0000</td>\n",
       "      <td>28.0000</td>\n",
       "      <td>40,600.0000</td>\n",
       "      <td>1.0000</td>\n",
       "    </tr>\n",
       "  </tbody>\n",
       "</table>\n",
       "<p>5000 rows × 4 columns</p>\n",
       "</div>"
      ],
      "text/plain": [
       "           0       1           2      3\n",
       "0     1.0000 41.0000 49,600.0000 1.0000\n",
       "1     0.0000 46.0000 38,000.0000 1.0000\n",
       "2    -0.0000 29.0000 21,000.0000 0.0000\n",
       "3     0.0000 21.0000 41,700.0000 2.0000\n",
       "4     1.0000 28.0000 26,100.0000 0.0000\n",
       "...      ...     ...         ...    ...\n",
       "4995 -0.0000 28.0000 35,700.0000 2.0000\n",
       "4996 -0.0000 34.0000 52,400.0000 1.0000\n",
       "4997 -0.0000 20.0000 33,900.0000 2.0000\n",
       "4998  1.0000 22.0000 32,700.0000 3.0000\n",
       "4999  1.0000 28.0000 40,600.0000 1.0000\n",
       "\n",
       "[5000 rows x 4 columns]"
      ]
     },
     "metadata": {},
     "output_type": "display_data"
    }
   ],
   "source": [
    "display(features)\n",
    "display(features_p @ np.linalg.inv(p_matrix))"
   ]
  },
  {
   "cell_type": "markdown",
   "metadata": {},
   "source": [
    "Исходная матрица признаков идентично восстановлена с помощью обратной матрицы преобразования."
   ]
  },
  {
   "cell_type": "markdown",
   "metadata": {},
   "source": [
    "Разобьем на обучающие и тестовые выборки исходный и преобразованный датафреймы."
   ]
  },
  {
   "cell_type": "code",
   "execution_count": 8,
   "metadata": {},
   "outputs": [],
   "source": [
    "features_train, features_test, target_train, target_test = (\n",
    "         train_test_split(features, target,test_size=0.25, random_state=12345))\n",
    "features_p_train, features_p_test, target_p_train, target_p_test = (\n",
    "         train_test_split(features, target,test_size=0.25, random_state=12345))"
   ]
  },
  {
   "cell_type": "markdown",
   "metadata": {},
   "source": [
    "Обучим исходную и преобразованную модели на оригинальных и преобразованных данных."
   ]
  },
  {
   "cell_type": "code",
   "execution_count": 9,
   "metadata": {},
   "outputs": [
    {
     "name": "stdout",
     "output_type": "stream",
     "text": [
      "R2 scor : 0.4352275713\n",
      "Веса:  пол  0.0179, возраст 0.0357, зарплата -0.0000, члены семьи -0.0126\n"
     ]
    }
   ],
   "source": [
    "model = LinearRegression()\n",
    "model.fit(features_train, target_train)\n",
    "prediction = model.predict(features_test)\n",
    "print('R2 scor : {:.10f}'.format(r2_score(target_test, prediction),'\\n'))\n",
    "print('Веса:  пол  {:.4f}, возраст {:.4f}, зарплата {:.4f}, члены семьи {:.4f}'.format(*model.coef_))"
   ]
  },
  {
   "cell_type": "code",
   "execution_count": 10,
   "metadata": {},
   "outputs": [
    {
     "name": "stdout",
     "output_type": "stream",
     "text": [
      "R2 scor : 0.4352275713\n",
      "Веса:  пол  0.0179, возраст 0.0357, зарплата -0.0000, члены семьи -0.0126\n"
     ]
    }
   ],
   "source": [
    "model = LinearRegression()\n",
    "model.fit(features_p_train, target_p_train)\n",
    "prediction_p = model.predict(features_p_test)\n",
    "print('R2 scor : {:.10f}'.format(r2_score(target_p_test, prediction_p),'\\n'))\n",
    "print('Веса:  пол  {:.4f}, возраст {:.4f}, зарплата {:.4f}, члены семьи {:.4f}'.format(*model.coef_))"
   ]
  },
  {
   "cell_type": "markdown",
   "metadata": {},
   "source": [
    "Значения метрик не изменились."
   ]
  },
  {
   "cell_type": "markdown",
   "metadata": {},
   "source": [
    "# *Вывод*\n"
   ]
  },
  {
   "cell_type": "markdown",
   "metadata": {},
   "source": [
    "1. Были изучены данные.\n",
    "2. Доказано, что при умножении на обратимую матрицу качество линейной регрессии не изменится. \n",
    "3. Был запрограммирован алгоритм преобразования и проверено качество линейной регрессии после преобразования.\n",
    "4. Метрика качества линейной регрессии R2 на исходных признаках: 00.4352275713.\n",
    "5. Метрика качества линейной регрессии R2 на преобразованных признаках: 0.4352275713.\n",
    "6. Таким образом, показано, что качество линейной регрессии не изменилось, метрика R2 не меняет совего значения при выбранной точности округления 10 знаков после запятой.\n",
    "7. Можно сделать вывод,что алгоритм преобразования данных работает правильно."
   ]
  },
  {
   "cell_type": "markdown",
   "metadata": {},
   "source": [
    "## Чек-лист проверки"
   ]
  },
  {
   "cell_type": "markdown",
   "metadata": {},
   "source": [
    "Поставьте 'x' в выполненных пунктах. Далее нажмите Shift+Enter."
   ]
  },
  {
   "cell_type": "markdown",
   "metadata": {},
   "source": [
    "- [x]  Jupyter Notebook открыт\n",
    "- [x]  Весь код выполняется без ошибок\n",
    "- [x]  Ячейки с кодом расположены в порядке исполнения\n",
    "- [x]  Выполнен шаг 1: данные загружены\n",
    "- [x]  Выполнен шаг 2: получен ответ на вопрос об умножении матриц\n",
    "    - [x]  Указан правильный вариант ответа\n",
    "    - [x]  Вариант обоснован\n",
    "- [x]  Выполнен шаг 3: предложен алгоритм преобразования\n",
    "    - [x]  Алгоритм описан\n",
    "    - [x]  Алгоритм обоснован\n",
    "- [x]  Выполнен шаг 4: алгоритм проверен\n",
    "    - [x]  Алгоритм реализован\n",
    "    - [x]  Проведено сравнение качества моделей до и после преобразования"
   ]
  },
  {
   "cell_type": "code",
   "execution_count": null,
   "metadata": {},
   "outputs": [],
   "source": []
  }
 ],
 "metadata": {
  "ExecuteTimeLog": [
   {
    "duration": 1177,
    "start_time": "2022-11-20T11:17:23.495Z"
   },
   {
    "duration": 40,
    "start_time": "2022-11-20T11:17:46.952Z"
   },
   {
    "duration": 169,
    "start_time": "2022-11-20T11:20:47.528Z"
   },
   {
    "duration": 6,
    "start_time": "2022-11-20T11:21:20.731Z"
   },
   {
    "duration": 47,
    "start_time": "2022-11-20T11:30:37.717Z"
   },
   {
    "duration": 50,
    "start_time": "2022-11-20T11:53:07.090Z"
   },
   {
    "duration": 52,
    "start_time": "2022-11-20T11:56:11.969Z"
   },
   {
    "duration": 52,
    "start_time": "2022-11-20T11:56:18.953Z"
   },
   {
    "duration": 47,
    "start_time": "2022-11-20T13:42:59.885Z"
   },
   {
    "duration": 88,
    "start_time": "2022-11-20T13:51:25.656Z"
   },
   {
    "duration": 3,
    "start_time": "2022-11-20T14:01:45.213Z"
   },
   {
    "duration": 43,
    "start_time": "2022-11-20T14:02:34.370Z"
   },
   {
    "duration": 45,
    "start_time": "2022-11-20T14:02:44.418Z"
   },
   {
    "duration": 4,
    "start_time": "2022-11-20T14:03:30.827Z"
   },
   {
    "duration": 8,
    "start_time": "2022-11-20T14:07:00.774Z"
   },
   {
    "duration": 4,
    "start_time": "2022-11-20T14:12:15.837Z"
   },
   {
    "duration": 20,
    "start_time": "2022-11-20T14:15:24.141Z"
   },
   {
    "duration": 7,
    "start_time": "2022-11-20T14:32:21.812Z"
   },
   {
    "duration": 9,
    "start_time": "2022-11-20T14:35:42.179Z"
   },
   {
    "duration": 9,
    "start_time": "2022-11-20T14:36:32.209Z"
   },
   {
    "duration": 57,
    "start_time": "2022-11-20T14:45:52.297Z"
   },
   {
    "duration": 47,
    "start_time": "2022-11-20T14:45:59.252Z"
   },
   {
    "duration": 8,
    "start_time": "2022-11-20T14:46:39.164Z"
   },
   {
    "duration": 11,
    "start_time": "2022-11-20T14:46:54.147Z"
   },
   {
    "duration": 9,
    "start_time": "2022-11-20T14:47:14.888Z"
   },
   {
    "duration": 9,
    "start_time": "2022-11-20T14:47:29.723Z"
   },
   {
    "duration": 9,
    "start_time": "2022-11-20T14:47:45.425Z"
   },
   {
    "duration": 9,
    "start_time": "2022-11-20T14:47:51.428Z"
   },
   {
    "duration": 8,
    "start_time": "2022-11-20T14:49:35.029Z"
   },
   {
    "duration": 9,
    "start_time": "2022-11-20T14:49:43.084Z"
   },
   {
    "duration": 9,
    "start_time": "2022-11-20T14:50:30.395Z"
   },
   {
    "duration": 11,
    "start_time": "2022-11-20T14:50:33.536Z"
   },
   {
    "duration": 1121,
    "start_time": "2022-11-20T15:05:59.018Z"
   },
   {
    "duration": 51,
    "start_time": "2022-11-20T15:06:00.141Z"
   },
   {
    "duration": 7,
    "start_time": "2022-11-20T15:06:00.195Z"
   },
   {
    "duration": 10,
    "start_time": "2022-11-20T15:06:00.215Z"
   },
   {
    "duration": 67,
    "start_time": "2022-11-20T15:06:00.227Z"
   },
   {
    "duration": 0,
    "start_time": "2022-11-20T15:06:00.296Z"
   },
   {
    "duration": 0,
    "start_time": "2022-11-20T15:06:00.297Z"
   },
   {
    "duration": 0,
    "start_time": "2022-11-20T15:06:00.298Z"
   },
   {
    "duration": 0,
    "start_time": "2022-11-20T15:06:00.300Z"
   },
   {
    "duration": 0,
    "start_time": "2022-11-20T15:06:00.301Z"
   },
   {
    "duration": 0,
    "start_time": "2022-11-20T15:06:00.303Z"
   },
   {
    "duration": 0,
    "start_time": "2022-11-20T15:06:00.304Z"
   },
   {
    "duration": 0,
    "start_time": "2022-11-20T15:06:00.305Z"
   },
   {
    "duration": 1089,
    "start_time": "2022-11-20T15:06:24.657Z"
   },
   {
    "duration": 42,
    "start_time": "2022-11-20T15:06:25.748Z"
   },
   {
    "duration": 6,
    "start_time": "2022-11-20T15:06:25.792Z"
   },
   {
    "duration": 11,
    "start_time": "2022-11-20T15:06:25.800Z"
   },
   {
    "duration": 49,
    "start_time": "2022-11-20T15:06:25.813Z"
   },
   {
    "duration": 0,
    "start_time": "2022-11-20T15:06:25.864Z"
   },
   {
    "duration": 0,
    "start_time": "2022-11-20T15:06:25.865Z"
   },
   {
    "duration": 0,
    "start_time": "2022-11-20T15:06:25.866Z"
   },
   {
    "duration": 0,
    "start_time": "2022-11-20T15:06:25.868Z"
   },
   {
    "duration": 0,
    "start_time": "2022-11-20T15:06:25.869Z"
   },
   {
    "duration": 0,
    "start_time": "2022-11-20T15:06:25.870Z"
   },
   {
    "duration": 0,
    "start_time": "2022-11-20T15:06:25.871Z"
   },
   {
    "duration": 0,
    "start_time": "2022-11-20T15:06:25.873Z"
   },
   {
    "duration": 1092,
    "start_time": "2022-11-20T15:07:33.641Z"
   },
   {
    "duration": 42,
    "start_time": "2022-11-20T15:07:34.735Z"
   },
   {
    "duration": 5,
    "start_time": "2022-11-20T15:07:34.779Z"
   },
   {
    "duration": 6,
    "start_time": "2022-11-20T15:07:34.786Z"
   },
   {
    "duration": 22,
    "start_time": "2022-11-20T15:07:34.794Z"
   },
   {
    "duration": 6,
    "start_time": "2022-11-20T15:07:34.819Z"
   },
   {
    "duration": 89,
    "start_time": "2022-11-20T15:07:34.827Z"
   },
   {
    "duration": 108,
    "start_time": "2022-11-20T15:07:34.919Z"
   },
   {
    "duration": 86,
    "start_time": "2022-11-20T15:07:35.030Z"
   },
   {
    "duration": 12,
    "start_time": "2022-11-20T15:07:35.119Z"
   },
   {
    "duration": 11,
    "start_time": "2022-11-20T15:07:35.134Z"
   },
   {
    "duration": 47,
    "start_time": "2022-11-20T15:07:35.146Z"
   },
   {
    "duration": 1213,
    "start_time": "2022-11-20T15:27:07.198Z"
   },
   {
    "duration": 43,
    "start_time": "2022-11-20T15:27:08.413Z"
   },
   {
    "duration": 5,
    "start_time": "2022-11-20T15:27:08.458Z"
   },
   {
    "duration": 8,
    "start_time": "2022-11-20T15:27:08.465Z"
   },
   {
    "duration": 6,
    "start_time": "2022-11-20T15:27:08.474Z"
   },
   {
    "duration": 6,
    "start_time": "2022-11-20T15:27:08.515Z"
   },
   {
    "duration": 102,
    "start_time": "2022-11-20T15:27:08.523Z"
   },
   {
    "duration": 10,
    "start_time": "2022-11-20T15:27:08.627Z"
   },
   {
    "duration": 12,
    "start_time": "2022-11-20T15:27:08.717Z"
   },
   {
    "duration": 90,
    "start_time": "2022-11-20T15:27:08.733Z"
   },
   {
    "duration": 1218,
    "start_time": "2022-11-20T15:29:11.795Z"
   },
   {
    "duration": 44,
    "start_time": "2022-11-20T15:29:13.015Z"
   },
   {
    "duration": 6,
    "start_time": "2022-11-20T15:29:13.060Z"
   },
   {
    "duration": 5,
    "start_time": "2022-11-20T15:29:13.069Z"
   },
   {
    "duration": 7,
    "start_time": "2022-11-20T15:29:13.075Z"
   },
   {
    "duration": 4,
    "start_time": "2022-11-20T15:29:13.116Z"
   },
   {
    "duration": 104,
    "start_time": "2022-11-20T15:29:13.122Z"
   },
   {
    "duration": 88,
    "start_time": "2022-11-20T15:29:13.228Z"
   },
   {
    "duration": 15,
    "start_time": "2022-11-20T15:29:13.319Z"
   },
   {
    "duration": 87,
    "start_time": "2022-11-20T15:29:13.337Z"
   },
   {
    "duration": 1366,
    "start_time": "2022-11-20T17:01:48.553Z"
   },
   {
    "duration": 49,
    "start_time": "2022-11-20T17:01:49.921Z"
   },
   {
    "duration": 5,
    "start_time": "2022-11-20T17:01:49.972Z"
   },
   {
    "duration": 5,
    "start_time": "2022-11-20T17:01:49.979Z"
   },
   {
    "duration": 8,
    "start_time": "2022-11-20T17:01:49.985Z"
   },
   {
    "duration": 54,
    "start_time": "2022-11-20T17:01:49.996Z"
   },
   {
    "duration": 99,
    "start_time": "2022-11-20T17:01:50.053Z"
   },
   {
    "duration": 85,
    "start_time": "2022-11-20T17:01:50.156Z"
   },
   {
    "duration": 0,
    "start_time": "2022-11-20T17:01:50.243Z"
   },
   {
    "duration": 0,
    "start_time": "2022-11-20T17:01:50.245Z"
   },
   {
    "duration": 1142,
    "start_time": "2022-11-20T17:03:05.347Z"
   },
   {
    "duration": 42,
    "start_time": "2022-11-20T17:03:06.491Z"
   },
   {
    "duration": 14,
    "start_time": "2022-11-20T17:03:06.535Z"
   },
   {
    "duration": 14,
    "start_time": "2022-11-20T17:03:06.551Z"
   },
   {
    "duration": 6,
    "start_time": "2022-11-20T17:03:06.567Z"
   },
   {
    "duration": 5,
    "start_time": "2022-11-20T17:03:06.576Z"
   },
   {
    "duration": 82,
    "start_time": "2022-11-20T17:03:06.583Z"
   },
   {
    "duration": 8,
    "start_time": "2022-11-20T17:03:06.740Z"
   },
   {
    "duration": 99,
    "start_time": "2022-11-20T17:03:06.750Z"
   },
   {
    "duration": 11,
    "start_time": "2022-11-20T17:03:06.851Z"
   }
  ],
  "kernelspec": {
   "display_name": "Python 3 (ipykernel)",
   "language": "python",
   "name": "python3"
  },
  "language_info": {
   "codemirror_mode": {
    "name": "ipython",
    "version": 3
   },
   "file_extension": ".py",
   "mimetype": "text/x-python",
   "name": "python",
   "nbconvert_exporter": "python",
   "pygments_lexer": "ipython3",
   "version": "3.9.5"
  },
  "toc": {
   "base_numbering": 1,
   "nav_menu": {},
   "number_sections": true,
   "sideBar": true,
   "skip_h1_title": true,
   "title_cell": "Содержание",
   "title_sidebar": "Contents",
   "toc_cell": true,
   "toc_position": {
    "height": "calc(100% - 180px)",
    "left": "10px",
    "top": "150px",
    "width": "165px"
   },
   "toc_section_display": true,
   "toc_window_display": true
  }
 },
 "nbformat": 4,
 "nbformat_minor": 2
}

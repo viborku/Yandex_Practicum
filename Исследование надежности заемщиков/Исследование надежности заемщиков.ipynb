{
 "cells": [
  {
   "cell_type": "markdown",
   "id": "10d8c93a",
   "metadata": {},
   "source": [
    "<div style=\"border:solid green 2px; padding: 20px\">\n",
    "Виктор, привет и хорошего дня! <br>\n",
    "Меня зовут Сергей Дроздов, и я буду проверять твой проект. Предлагаю общаться на «ты». Если тебе удобнее общаться на \"Вы\", просто дай знать. \n",
    "\n",
    "Ты уже проделал большую работу над проектом, но давай сделаем его еще лучше. Ниже ты найдешь мои комментарии - пожалуйста, не перемещай, не изменяй и не удаляй их. Я буду использовать цветовую разметку:\n",
    "\n",
    "<div class=\"alert alert-danger\">\n",
    "<b>Комментарий ревьюера: &#10060; </b> Так будут выделены комментарии с указаниями, обязательными к выполнению. Без их выполнения проект не будет принят. </div>\n",
    "\n",
    "<div class=\"alert alert-warning\">\n",
    "<b>Комментарий ревьюера:\n",
    "&#9888;</b> Так будут выделены некритичные замечания. Их отработка позволит улучшить качество твоего проекта.\n",
    "</div>\n",
    "\n",
    "<div class=\"alert alert-success\">\n",
    "<b>Комментарий ревьюера:\n",
    "&#9989;</b> Так будут выделены остальные комментарии, полезные лайфхаки и ссылки на сторонние ресурсы </div>\n",
    "\n",
    "Для наиболее эффективной и оперативной работы над проектом, мне хотелось бы иметь обратную связь. Не стесняйся задавать вопросы. Если ты что-либо меняешь в проекте, пожалуйста, комментируй это. Мне будет легче отследить изменения, если ты выделишь свои комментарии:\n",
    "<div class=\"alert alert-info\"> <b>Комментарий студента:</b> Например, вот так.</div>"
   ]
  },
  {
   "cell_type": "markdown",
   "id": "c81daeeb",
   "metadata": {
    "deletable": false,
    "id": "c81daeeb"
   },
   "source": [
    "# Исследование надежности заемщиков\n"
   ]
  },
  {
   "cell_type": "markdown",
   "id": "827c20bf",
   "metadata": {
    "id": "827c20bf"
   },
   "source": [
    "Во второй части проекта вы выполните шаги 3 и 4. Их вручную проверит ревьюер.\n",
    "Чтобы вам не пришлось писать код заново для шагов 1 и 2, мы добавили авторские решения в ячейки с кодом. \n",
    "\n"
   ]
  },
  {
   "cell_type": "markdown",
   "id": "744d7639",
   "metadata": {
    "deletable": false,
    "id": "744d7639"
   },
   "source": [
    "## Откройте таблицу и изучите общую информацию о данных"
   ]
  },
  {
   "cell_type": "markdown",
   "id": "e7a14c31",
   "metadata": {
    "deletable": false,
    "id": "e7a14c31"
   },
   "source": [
    "**Задание 1. Импортируйте библиотеку pandas. Считайте данные из csv-файла в датафрейм и сохраните в переменную `data`. Путь к файлу:**\n",
    "\n",
    "`/datasets/data.csv`"
   ]
  },
  {
   "cell_type": "code",
   "execution_count": 53,
   "id": "7bcf75c9",
   "metadata": {
    "deletable": false,
    "id": "7bcf75c9"
   },
   "outputs": [],
   "source": [
    "import pandas as pd\n",
    "\n",
    "try:\n",
    "    data = pd.read_csv('/datasets/data.csv')\n",
    "except:\n",
    "    data = pd.read_csv('https://code.s3.yandex.net/datasets/data.csv')\n"
   ]
  },
  {
   "cell_type": "markdown",
   "id": "85d9b643",
   "metadata": {},
   "source": [
    "<div class=\"alert alert-success\">\n",
    "<b>Комментарий ревьюера:\n",
    "&#9989;</b> Отлично, данные на базе, молодец, что предусмотрел выполнение кода на стороне сервера яндекса </div>"
   ]
  },
  {
   "cell_type": "markdown",
   "id": "b8038fe3",
   "metadata": {
    "deletable": false,
    "id": "b8038fe3"
   },
   "source": [
    "**Задание 2. Выведите первые 20 строчек датафрейма `data` на экран.**"
   ]
  },
  {
   "cell_type": "code",
   "execution_count": 54,
   "id": "2a7cab99",
   "metadata": {
    "deletable": false,
    "id": "2a7cab99",
    "outputId": "1a8f3ef2-d323-4ec2-ddf7-89670b5944c4"
   },
   "outputs": [
    {
     "data": {
      "text/html": [
       "<div>\n",
       "<style scoped>\n",
       "    .dataframe tbody tr th:only-of-type {\n",
       "        vertical-align: middle;\n",
       "    }\n",
       "\n",
       "    .dataframe tbody tr th {\n",
       "        vertical-align: top;\n",
       "    }\n",
       "\n",
       "    .dataframe thead th {\n",
       "        text-align: right;\n",
       "    }\n",
       "</style>\n",
       "<table border=\"1\" class=\"dataframe\">\n",
       "  <thead>\n",
       "    <tr style=\"text-align: right;\">\n",
       "      <th></th>\n",
       "      <th>children</th>\n",
       "      <th>days_employed</th>\n",
       "      <th>dob_years</th>\n",
       "      <th>education</th>\n",
       "      <th>education_id</th>\n",
       "      <th>family_status</th>\n",
       "      <th>family_status_id</th>\n",
       "      <th>gender</th>\n",
       "      <th>income_type</th>\n",
       "      <th>debt</th>\n",
       "      <th>total_income</th>\n",
       "      <th>purpose</th>\n",
       "    </tr>\n",
       "  </thead>\n",
       "  <tbody>\n",
       "    <tr>\n",
       "      <th>0</th>\n",
       "      <td>1</td>\n",
       "      <td>-8437.673028</td>\n",
       "      <td>42</td>\n",
       "      <td>высшее</td>\n",
       "      <td>0</td>\n",
       "      <td>женат / замужем</td>\n",
       "      <td>0</td>\n",
       "      <td>F</td>\n",
       "      <td>сотрудник</td>\n",
       "      <td>0</td>\n",
       "      <td>253875.639453</td>\n",
       "      <td>покупка жилья</td>\n",
       "    </tr>\n",
       "    <tr>\n",
       "      <th>1</th>\n",
       "      <td>1</td>\n",
       "      <td>-4024.803754</td>\n",
       "      <td>36</td>\n",
       "      <td>среднее</td>\n",
       "      <td>1</td>\n",
       "      <td>женат / замужем</td>\n",
       "      <td>0</td>\n",
       "      <td>F</td>\n",
       "      <td>сотрудник</td>\n",
       "      <td>0</td>\n",
       "      <td>112080.014102</td>\n",
       "      <td>приобретение автомобиля</td>\n",
       "    </tr>\n",
       "    <tr>\n",
       "      <th>2</th>\n",
       "      <td>0</td>\n",
       "      <td>-5623.422610</td>\n",
       "      <td>33</td>\n",
       "      <td>Среднее</td>\n",
       "      <td>1</td>\n",
       "      <td>женат / замужем</td>\n",
       "      <td>0</td>\n",
       "      <td>M</td>\n",
       "      <td>сотрудник</td>\n",
       "      <td>0</td>\n",
       "      <td>145885.952297</td>\n",
       "      <td>покупка жилья</td>\n",
       "    </tr>\n",
       "    <tr>\n",
       "      <th>3</th>\n",
       "      <td>3</td>\n",
       "      <td>-4124.747207</td>\n",
       "      <td>32</td>\n",
       "      <td>среднее</td>\n",
       "      <td>1</td>\n",
       "      <td>женат / замужем</td>\n",
       "      <td>0</td>\n",
       "      <td>M</td>\n",
       "      <td>сотрудник</td>\n",
       "      <td>0</td>\n",
       "      <td>267628.550329</td>\n",
       "      <td>дополнительное образование</td>\n",
       "    </tr>\n",
       "    <tr>\n",
       "      <th>4</th>\n",
       "      <td>0</td>\n",
       "      <td>340266.072047</td>\n",
       "      <td>53</td>\n",
       "      <td>среднее</td>\n",
       "      <td>1</td>\n",
       "      <td>гражданский брак</td>\n",
       "      <td>1</td>\n",
       "      <td>F</td>\n",
       "      <td>пенсионер</td>\n",
       "      <td>0</td>\n",
       "      <td>158616.077870</td>\n",
       "      <td>сыграть свадьбу</td>\n",
       "    </tr>\n",
       "    <tr>\n",
       "      <th>5</th>\n",
       "      <td>0</td>\n",
       "      <td>-926.185831</td>\n",
       "      <td>27</td>\n",
       "      <td>высшее</td>\n",
       "      <td>0</td>\n",
       "      <td>гражданский брак</td>\n",
       "      <td>1</td>\n",
       "      <td>M</td>\n",
       "      <td>компаньон</td>\n",
       "      <td>0</td>\n",
       "      <td>255763.565419</td>\n",
       "      <td>покупка жилья</td>\n",
       "    </tr>\n",
       "    <tr>\n",
       "      <th>6</th>\n",
       "      <td>0</td>\n",
       "      <td>-2879.202052</td>\n",
       "      <td>43</td>\n",
       "      <td>высшее</td>\n",
       "      <td>0</td>\n",
       "      <td>женат / замужем</td>\n",
       "      <td>0</td>\n",
       "      <td>F</td>\n",
       "      <td>компаньон</td>\n",
       "      <td>0</td>\n",
       "      <td>240525.971920</td>\n",
       "      <td>операции с жильем</td>\n",
       "    </tr>\n",
       "    <tr>\n",
       "      <th>7</th>\n",
       "      <td>0</td>\n",
       "      <td>-152.779569</td>\n",
       "      <td>50</td>\n",
       "      <td>СРЕДНЕЕ</td>\n",
       "      <td>1</td>\n",
       "      <td>женат / замужем</td>\n",
       "      <td>0</td>\n",
       "      <td>M</td>\n",
       "      <td>сотрудник</td>\n",
       "      <td>0</td>\n",
       "      <td>135823.934197</td>\n",
       "      <td>образование</td>\n",
       "    </tr>\n",
       "    <tr>\n",
       "      <th>8</th>\n",
       "      <td>2</td>\n",
       "      <td>-6929.865299</td>\n",
       "      <td>35</td>\n",
       "      <td>ВЫСШЕЕ</td>\n",
       "      <td>0</td>\n",
       "      <td>гражданский брак</td>\n",
       "      <td>1</td>\n",
       "      <td>F</td>\n",
       "      <td>сотрудник</td>\n",
       "      <td>0</td>\n",
       "      <td>95856.832424</td>\n",
       "      <td>на проведение свадьбы</td>\n",
       "    </tr>\n",
       "    <tr>\n",
       "      <th>9</th>\n",
       "      <td>0</td>\n",
       "      <td>-2188.756445</td>\n",
       "      <td>41</td>\n",
       "      <td>среднее</td>\n",
       "      <td>1</td>\n",
       "      <td>женат / замужем</td>\n",
       "      <td>0</td>\n",
       "      <td>M</td>\n",
       "      <td>сотрудник</td>\n",
       "      <td>0</td>\n",
       "      <td>144425.938277</td>\n",
       "      <td>покупка жилья для семьи</td>\n",
       "    </tr>\n",
       "    <tr>\n",
       "      <th>10</th>\n",
       "      <td>2</td>\n",
       "      <td>-4171.483647</td>\n",
       "      <td>36</td>\n",
       "      <td>высшее</td>\n",
       "      <td>0</td>\n",
       "      <td>женат / замужем</td>\n",
       "      <td>0</td>\n",
       "      <td>M</td>\n",
       "      <td>компаньон</td>\n",
       "      <td>0</td>\n",
       "      <td>113943.491460</td>\n",
       "      <td>покупка недвижимости</td>\n",
       "    </tr>\n",
       "    <tr>\n",
       "      <th>11</th>\n",
       "      <td>0</td>\n",
       "      <td>-792.701887</td>\n",
       "      <td>40</td>\n",
       "      <td>среднее</td>\n",
       "      <td>1</td>\n",
       "      <td>женат / замужем</td>\n",
       "      <td>0</td>\n",
       "      <td>F</td>\n",
       "      <td>сотрудник</td>\n",
       "      <td>0</td>\n",
       "      <td>77069.234271</td>\n",
       "      <td>покупка коммерческой недвижимости</td>\n",
       "    </tr>\n",
       "    <tr>\n",
       "      <th>12</th>\n",
       "      <td>0</td>\n",
       "      <td>NaN</td>\n",
       "      <td>65</td>\n",
       "      <td>среднее</td>\n",
       "      <td>1</td>\n",
       "      <td>гражданский брак</td>\n",
       "      <td>1</td>\n",
       "      <td>M</td>\n",
       "      <td>пенсионер</td>\n",
       "      <td>0</td>\n",
       "      <td>NaN</td>\n",
       "      <td>сыграть свадьбу</td>\n",
       "    </tr>\n",
       "    <tr>\n",
       "      <th>13</th>\n",
       "      <td>0</td>\n",
       "      <td>-1846.641941</td>\n",
       "      <td>54</td>\n",
       "      <td>неоконченное высшее</td>\n",
       "      <td>2</td>\n",
       "      <td>женат / замужем</td>\n",
       "      <td>0</td>\n",
       "      <td>F</td>\n",
       "      <td>сотрудник</td>\n",
       "      <td>0</td>\n",
       "      <td>130458.228857</td>\n",
       "      <td>приобретение автомобиля</td>\n",
       "    </tr>\n",
       "    <tr>\n",
       "      <th>14</th>\n",
       "      <td>0</td>\n",
       "      <td>-1844.956182</td>\n",
       "      <td>56</td>\n",
       "      <td>высшее</td>\n",
       "      <td>0</td>\n",
       "      <td>гражданский брак</td>\n",
       "      <td>1</td>\n",
       "      <td>F</td>\n",
       "      <td>компаньон</td>\n",
       "      <td>1</td>\n",
       "      <td>165127.911772</td>\n",
       "      <td>покупка жилой недвижимости</td>\n",
       "    </tr>\n",
       "    <tr>\n",
       "      <th>15</th>\n",
       "      <td>1</td>\n",
       "      <td>-972.364419</td>\n",
       "      <td>26</td>\n",
       "      <td>среднее</td>\n",
       "      <td>1</td>\n",
       "      <td>женат / замужем</td>\n",
       "      <td>0</td>\n",
       "      <td>F</td>\n",
       "      <td>сотрудник</td>\n",
       "      <td>0</td>\n",
       "      <td>116820.904450</td>\n",
       "      <td>строительство собственной недвижимости</td>\n",
       "    </tr>\n",
       "    <tr>\n",
       "      <th>16</th>\n",
       "      <td>0</td>\n",
       "      <td>-1719.934226</td>\n",
       "      <td>35</td>\n",
       "      <td>среднее</td>\n",
       "      <td>1</td>\n",
       "      <td>женат / замужем</td>\n",
       "      <td>0</td>\n",
       "      <td>F</td>\n",
       "      <td>сотрудник</td>\n",
       "      <td>0</td>\n",
       "      <td>289202.704229</td>\n",
       "      <td>недвижимость</td>\n",
       "    </tr>\n",
       "    <tr>\n",
       "      <th>17</th>\n",
       "      <td>0</td>\n",
       "      <td>-2369.999720</td>\n",
       "      <td>33</td>\n",
       "      <td>высшее</td>\n",
       "      <td>0</td>\n",
       "      <td>гражданский брак</td>\n",
       "      <td>1</td>\n",
       "      <td>M</td>\n",
       "      <td>сотрудник</td>\n",
       "      <td>0</td>\n",
       "      <td>90410.586745</td>\n",
       "      <td>строительство недвижимости</td>\n",
       "    </tr>\n",
       "    <tr>\n",
       "      <th>18</th>\n",
       "      <td>0</td>\n",
       "      <td>400281.136913</td>\n",
       "      <td>53</td>\n",
       "      <td>среднее</td>\n",
       "      <td>1</td>\n",
       "      <td>вдовец / вдова</td>\n",
       "      <td>2</td>\n",
       "      <td>F</td>\n",
       "      <td>пенсионер</td>\n",
       "      <td>0</td>\n",
       "      <td>56823.777243</td>\n",
       "      <td>на покупку подержанного автомобиля</td>\n",
       "    </tr>\n",
       "    <tr>\n",
       "      <th>19</th>\n",
       "      <td>0</td>\n",
       "      <td>-10038.818549</td>\n",
       "      <td>48</td>\n",
       "      <td>СРЕДНЕЕ</td>\n",
       "      <td>1</td>\n",
       "      <td>в разводе</td>\n",
       "      <td>3</td>\n",
       "      <td>F</td>\n",
       "      <td>сотрудник</td>\n",
       "      <td>0</td>\n",
       "      <td>242831.107982</td>\n",
       "      <td>на покупку своего автомобиля</td>\n",
       "    </tr>\n",
       "  </tbody>\n",
       "</table>\n",
       "</div>"
      ],
      "text/plain": [
       "    children  days_employed  dob_years            education  education_id  \\\n",
       "0          1   -8437.673028         42               высшее             0   \n",
       "1          1   -4024.803754         36              среднее             1   \n",
       "2          0   -5623.422610         33              Среднее             1   \n",
       "3          3   -4124.747207         32              среднее             1   \n",
       "4          0  340266.072047         53              среднее             1   \n",
       "5          0    -926.185831         27               высшее             0   \n",
       "6          0   -2879.202052         43               высшее             0   \n",
       "7          0    -152.779569         50              СРЕДНЕЕ             1   \n",
       "8          2   -6929.865299         35               ВЫСШЕЕ             0   \n",
       "9          0   -2188.756445         41              среднее             1   \n",
       "10         2   -4171.483647         36               высшее             0   \n",
       "11         0    -792.701887         40              среднее             1   \n",
       "12         0            NaN         65              среднее             1   \n",
       "13         0   -1846.641941         54  неоконченное высшее             2   \n",
       "14         0   -1844.956182         56               высшее             0   \n",
       "15         1    -972.364419         26              среднее             1   \n",
       "16         0   -1719.934226         35              среднее             1   \n",
       "17         0   -2369.999720         33               высшее             0   \n",
       "18         0  400281.136913         53              среднее             1   \n",
       "19         0  -10038.818549         48              СРЕДНЕЕ             1   \n",
       "\n",
       "       family_status  family_status_id gender income_type  debt  \\\n",
       "0    женат / замужем                 0      F   сотрудник     0   \n",
       "1    женат / замужем                 0      F   сотрудник     0   \n",
       "2    женат / замужем                 0      M   сотрудник     0   \n",
       "3    женат / замужем                 0      M   сотрудник     0   \n",
       "4   гражданский брак                 1      F   пенсионер     0   \n",
       "5   гражданский брак                 1      M   компаньон     0   \n",
       "6    женат / замужем                 0      F   компаньон     0   \n",
       "7    женат / замужем                 0      M   сотрудник     0   \n",
       "8   гражданский брак                 1      F   сотрудник     0   \n",
       "9    женат / замужем                 0      M   сотрудник     0   \n",
       "10   женат / замужем                 0      M   компаньон     0   \n",
       "11   женат / замужем                 0      F   сотрудник     0   \n",
       "12  гражданский брак                 1      M   пенсионер     0   \n",
       "13   женат / замужем                 0      F   сотрудник     0   \n",
       "14  гражданский брак                 1      F   компаньон     1   \n",
       "15   женат / замужем                 0      F   сотрудник     0   \n",
       "16   женат / замужем                 0      F   сотрудник     0   \n",
       "17  гражданский брак                 1      M   сотрудник     0   \n",
       "18    вдовец / вдова                 2      F   пенсионер     0   \n",
       "19         в разводе                 3      F   сотрудник     0   \n",
       "\n",
       "     total_income                                 purpose  \n",
       "0   253875.639453                           покупка жилья  \n",
       "1   112080.014102                 приобретение автомобиля  \n",
       "2   145885.952297                           покупка жилья  \n",
       "3   267628.550329              дополнительное образование  \n",
       "4   158616.077870                         сыграть свадьбу  \n",
       "5   255763.565419                           покупка жилья  \n",
       "6   240525.971920                       операции с жильем  \n",
       "7   135823.934197                             образование  \n",
       "8    95856.832424                   на проведение свадьбы  \n",
       "9   144425.938277                 покупка жилья для семьи  \n",
       "10  113943.491460                    покупка недвижимости  \n",
       "11   77069.234271       покупка коммерческой недвижимости  \n",
       "12            NaN                         сыграть свадьбу  \n",
       "13  130458.228857                 приобретение автомобиля  \n",
       "14  165127.911772              покупка жилой недвижимости  \n",
       "15  116820.904450  строительство собственной недвижимости  \n",
       "16  289202.704229                            недвижимость  \n",
       "17   90410.586745              строительство недвижимости  \n",
       "18   56823.777243      на покупку подержанного автомобиля  \n",
       "19  242831.107982            на покупку своего автомобиля  "
      ]
     },
     "execution_count": 54,
     "metadata": {},
     "output_type": "execute_result"
    }
   ],
   "source": [
    "data.head(20)"
   ]
  },
  {
   "cell_type": "markdown",
   "id": "1c12e233",
   "metadata": {
    "deletable": false,
    "id": "1c12e233"
   },
   "source": [
    "**Задание 3. Выведите основную информацию о датафрейме с помощью метода `info()`.**"
   ]
  },
  {
   "cell_type": "code",
   "execution_count": 55,
   "id": "2b757bca",
   "metadata": {
    "deletable": false,
    "id": "2b757bca",
    "outputId": "15376089-8dad-46c9-b520-c05248d43158"
   },
   "outputs": [
    {
     "name": "stdout",
     "output_type": "stream",
     "text": [
      "<class 'pandas.core.frame.DataFrame'>\n",
      "RangeIndex: 21525 entries, 0 to 21524\n",
      "Data columns (total 12 columns):\n",
      " #   Column            Non-Null Count  Dtype  \n",
      "---  ------            --------------  -----  \n",
      " 0   children          21525 non-null  int64  \n",
      " 1   days_employed     19351 non-null  float64\n",
      " 2   dob_years         21525 non-null  int64  \n",
      " 3   education         21525 non-null  object \n",
      " 4   education_id      21525 non-null  int64  \n",
      " 5   family_status     21525 non-null  object \n",
      " 6   family_status_id  21525 non-null  int64  \n",
      " 7   gender            21525 non-null  object \n",
      " 8   income_type       21525 non-null  object \n",
      " 9   debt              21525 non-null  int64  \n",
      " 10  total_income      19351 non-null  float64\n",
      " 11  purpose           21525 non-null  object \n",
      "dtypes: float64(2), int64(5), object(5)\n",
      "memory usage: 2.0+ MB\n"
     ]
    }
   ],
   "source": [
    "data.info()"
   ]
  },
  {
   "cell_type": "markdown",
   "id": "333ec665",
   "metadata": {
    "deletable": false,
    "id": "333ec665"
   },
   "source": [
    "## Предобработка данных"
   ]
  },
  {
   "cell_type": "markdown",
   "id": "02d92d53",
   "metadata": {
    "deletable": false,
    "id": "02d92d53"
   },
   "source": [
    "### Удаление пропусков"
   ]
  },
  {
   "cell_type": "markdown",
   "id": "cd84967c",
   "metadata": {
    "deletable": false,
    "id": "cd84967c"
   },
   "source": [
    "**Задание 4. Выведите количество пропущенных значений для каждого столбца. Используйте комбинацию двух методов.**"
   ]
  },
  {
   "cell_type": "code",
   "execution_count": 56,
   "id": "7f9b2309",
   "metadata": {
    "deletable": false,
    "id": "7f9b2309",
    "outputId": "81f4d817-781c-465c-ed15-91ce4446810d"
   },
   "outputs": [
    {
     "data": {
      "text/plain": [
       "children               0\n",
       "days_employed       2174\n",
       "dob_years              0\n",
       "education              0\n",
       "education_id           0\n",
       "family_status          0\n",
       "family_status_id       0\n",
       "gender                 0\n",
       "income_type            0\n",
       "debt                   0\n",
       "total_income        2174\n",
       "purpose                0\n",
       "dtype: int64"
      ]
     },
     "execution_count": 56,
     "metadata": {},
     "output_type": "execute_result"
    }
   ],
   "source": [
    "data.isna().sum()\n"
   ]
  },
  {
   "cell_type": "markdown",
   "id": "db86e27b",
   "metadata": {
    "deletable": false,
    "id": "db86e27b"
   },
   "source": [
    "**Задание 5. В двух столбцах есть пропущенные значения. Один из них — `days_employed`. Пропуски в этом столбце вы обработаете на следующем этапе. Другой столбец с пропущенными значениями — `total_income` — хранит данные о доходах. На сумму дохода сильнее всего влияет тип занятости, поэтому заполнить пропуски в этом столбце нужно медианным значением по каждому типу из столбца `income_type`. Например, у человека с типом занятости `сотрудник` пропуск в столбце `total_income` должен быть заполнен медианным доходом среди всех записей с тем же типом.**"
   ]
  },
  {
   "cell_type": "code",
   "execution_count": 57,
   "id": "42006a93",
   "metadata": {
    "deletable": false,
    "id": "42006a93"
   },
   "outputs": [],
   "source": [
    "for t in data['income_type'].unique():\n",
    "    data.loc[(data['income_type'] == t) & (data['total_income'].isna()), 'total_income'] = \\\n",
    "    data.loc[(data['income_type'] == t), 'total_income'].median()\n"
   ]
  },
  {
   "cell_type": "markdown",
   "id": "89da5ece",
   "metadata": {
    "deletable": false,
    "id": "89da5ece"
   },
   "source": [
    "### Обработка аномальных значений"
   ]
  },
  {
   "cell_type": "markdown",
   "id": "57964554",
   "metadata": {
    "deletable": false,
    "id": "57964554"
   },
   "source": [
    "**Задание 6. В данных могут встречаться артефакты (аномалии) — значения, которые не отражают действительность и появились по какой-то ошибке. таким артефактом будет отрицательное количество дней трудового стажа в столбце `days_employed`. Для реальных данных это нормально. Обработайте значения в этом столбце: замените все отрицательные значения положительными с помощью метода `abs()`.**"
   ]
  },
  {
   "cell_type": "code",
   "execution_count": 58,
   "id": "f6f055bf",
   "metadata": {
    "deletable": false,
    "id": "f6f055bf"
   },
   "outputs": [],
   "source": [
    "data['days_employed'] = data['days_employed'].abs()"
   ]
  },
  {
   "cell_type": "markdown",
   "id": "6107dd2f",
   "metadata": {
    "deletable": false,
    "id": "6107dd2f"
   },
   "source": [
    "**Задание 7. Для каждого типа занятости выведите медианное значение трудового стажа `days_employed` в днях.**"
   ]
  },
  {
   "cell_type": "code",
   "execution_count": 59,
   "id": "85a5faf6",
   "metadata": {
    "deletable": false,
    "id": "85a5faf6",
    "outputId": "801ef80e-522b-4668-f34e-565af7432bcf"
   },
   "outputs": [
    {
     "data": {
      "text/plain": [
       "income_type\n",
       "безработный        366413.652744\n",
       "в декрете            3296.759962\n",
       "госслужащий          2689.368353\n",
       "компаньон            1547.382223\n",
       "пенсионер          365213.306266\n",
       "предприниматель       520.848083\n",
       "сотрудник            1574.202821\n",
       "студент               578.751554\n",
       "Name: days_employed, dtype: float64"
      ]
     },
     "execution_count": 59,
     "metadata": {},
     "output_type": "execute_result"
    }
   ],
   "source": [
    "data.groupby('income_type')['days_employed'].agg('median')"
   ]
  },
  {
   "cell_type": "markdown",
   "id": "38d1a030",
   "metadata": {
    "deletable": false,
    "id": "38d1a030"
   },
   "source": [
    "У двух типов (безработные и пенсионеры) получатся аномально большие значения. Исправить такие значения сложно, поэтому оставьте их как есть. Тем более этот столбец не понадобится вам для исследования."
   ]
  },
  {
   "cell_type": "markdown",
   "id": "d8a9f147",
   "metadata": {
    "deletable": false,
    "id": "d8a9f147"
   },
   "source": [
    "**Задание 8. Выведите перечень уникальных значений столбца `children`.**"
   ]
  },
  {
   "cell_type": "code",
   "execution_count": 60,
   "id": "ef5056eb",
   "metadata": {
    "deletable": false,
    "id": "ef5056eb",
    "outputId": "6975b15c-7f95-4697-d16d-a0c79b657b03"
   },
   "outputs": [
    {
     "data": {
      "text/plain": [
       "array([ 1,  0,  3,  2, -1,  4, 20,  5])"
      ]
     },
     "execution_count": 60,
     "metadata": {},
     "output_type": "execute_result"
    }
   ],
   "source": [
    "data['children'].unique()"
   ]
  },
  {
   "cell_type": "markdown",
   "id": "40b9ebf2",
   "metadata": {
    "deletable": false,
    "id": "40b9ebf2"
   },
   "source": [
    "**Задание 9. В столбце `children` есть два аномальных значения. Удалите строки, в которых встречаются такие аномальные значения из датафрейма `data`.**"
   ]
  },
  {
   "cell_type": "code",
   "execution_count": 61,
   "id": "3ff9801d",
   "metadata": {
    "deletable": false,
    "id": "3ff9801d"
   },
   "outputs": [],
   "source": [
    "data = data[(data['children'] != -1) & (data['children'] != 20)]"
   ]
  },
  {
   "cell_type": "markdown",
   "id": "bbc4d0ce",
   "metadata": {
    "deletable": false,
    "id": "bbc4d0ce"
   },
   "source": [
    "**Задание 10. Ещё раз выведите перечень уникальных значений столбца `children`, чтобы убедиться, что артефакты удалены.**"
   ]
  },
  {
   "cell_type": "code",
   "execution_count": 62,
   "id": "ad4fa8b7",
   "metadata": {
    "deletable": false,
    "id": "ad4fa8b7",
    "outputId": "b2097101-d49d-44d9-901b-32a65c9463d1"
   },
   "outputs": [
    {
     "data": {
      "text/plain": [
       "array([1, 0, 3, 2, 4, 5])"
      ]
     },
     "execution_count": 62,
     "metadata": {},
     "output_type": "execute_result"
    }
   ],
   "source": [
    "data['children'].unique()"
   ]
  },
  {
   "cell_type": "markdown",
   "id": "75440b63",
   "metadata": {
    "deletable": false,
    "id": "75440b63"
   },
   "source": [
    "### Удаление пропусков (продолжение)"
   ]
  },
  {
   "cell_type": "markdown",
   "id": "f4ea573f",
   "metadata": {
    "deletable": false,
    "id": "f4ea573f"
   },
   "source": [
    "**Задание 11. Заполните пропуски в столбце `days_employed` медианными значениями по каждого типа занятости `income_type`.**"
   ]
  },
  {
   "cell_type": "code",
   "execution_count": 63,
   "id": "af6b1a7e",
   "metadata": {
    "deletable": false,
    "id": "af6b1a7e"
   },
   "outputs": [],
   "source": [
    "for t in data['income_type'].unique():\n",
    "    data.loc[(data['income_type'] == t) & (data['days_employed'].isna()), 'days_employed'] = \\\n",
    "    data.loc[(data['income_type'] == t), 'days_employed'].median()"
   ]
  },
  {
   "cell_type": "markdown",
   "id": "2753f40d",
   "metadata": {
    "deletable": false,
    "id": "2753f40d"
   },
   "source": [
    "**Задание 12. Убедитесь, что все пропуски заполнены. Проверьте себя и ещё раз выведите количество пропущенных значений для каждого столбца с помощью двух методов.**"
   ]
  },
  {
   "cell_type": "code",
   "execution_count": 64,
   "id": "55f78bc2",
   "metadata": {
    "deletable": false,
    "id": "55f78bc2",
    "outputId": "8da1e4e1-358e-4e87-98c9-f261bce0a7b2"
   },
   "outputs": [
    {
     "data": {
      "text/plain": [
       "children            0\n",
       "days_employed       0\n",
       "dob_years           0\n",
       "education           0\n",
       "education_id        0\n",
       "family_status       0\n",
       "family_status_id    0\n",
       "gender              0\n",
       "income_type         0\n",
       "debt                0\n",
       "total_income        0\n",
       "purpose             0\n",
       "dtype: int64"
      ]
     },
     "execution_count": 64,
     "metadata": {},
     "output_type": "execute_result"
    }
   ],
   "source": [
    "data.isna().sum()"
   ]
  },
  {
   "cell_type": "markdown",
   "id": "ddc81e43",
   "metadata": {
    "deletable": false,
    "id": "ddc81e43"
   },
   "source": [
    "### Изменение типов данных"
   ]
  },
  {
   "cell_type": "markdown",
   "id": "42d19d24",
   "metadata": {
    "deletable": false,
    "id": "42d19d24"
   },
   "source": [
    "**Задание 13. Замените вещественный тип данных в столбце `total_income` на целочисленный с помощью метода `astype()`.**"
   ]
  },
  {
   "cell_type": "code",
   "execution_count": 65,
   "id": "920b65ad",
   "metadata": {
    "deletable": false,
    "id": "920b65ad"
   },
   "outputs": [],
   "source": [
    "data['total_income'] = data['total_income'].astype(int)"
   ]
  },
  {
   "cell_type": "markdown",
   "id": "80c420ba",
   "metadata": {
    "deletable": false,
    "id": "80c420ba"
   },
   "source": [
    "### Обработка дубликатов"
   ]
  },
  {
   "cell_type": "markdown",
   "id": "dc587695",
   "metadata": {
    "deletable": false,
    "id": "dc587695"
   },
   "source": [
    "**Задание 14. Выведите на экран количество строк-дубликатов в данных. Если такие строки присутствуют, удалите их.**"
   ]
  },
  {
   "cell_type": "code",
   "execution_count": 66,
   "id": "3ee445e4",
   "metadata": {
    "deletable": false,
    "id": "3ee445e4",
    "outputId": "9684deba-1934-42d1-99e1-cda61740f822"
   },
   "outputs": [
    {
     "data": {
      "text/plain": [
       "54"
      ]
     },
     "execution_count": 66,
     "metadata": {},
     "output_type": "execute_result"
    }
   ],
   "source": [
    "data.duplicated().sum()"
   ]
  },
  {
   "cell_type": "code",
   "execution_count": 67,
   "id": "8575fe05",
   "metadata": {
    "deletable": false,
    "id": "8575fe05"
   },
   "outputs": [],
   "source": [
    "data = data.drop_duplicates()"
   ]
  },
  {
   "cell_type": "markdown",
   "id": "9771a76c",
   "metadata": {
    "deletable": false,
    "id": "9771a76c"
   },
   "source": [
    "**Задание 15. Обработайте неявные дубликаты в столбце `education`. В этом столбце есть одни и те же значения, но записанные по-разному: с использованием заглавных и строчных букв. Приведите их к нижнему регистру. Проверьте остальные столбцы.**"
   ]
  },
  {
   "cell_type": "code",
   "execution_count": 68,
   "id": "a9f8e2bf",
   "metadata": {
    "deletable": false,
    "id": "a9f8e2bf"
   },
   "outputs": [],
   "source": [
    "data['education'] = data['education'].str.lower()\n"
   ]
  },
  {
   "cell_type": "markdown",
   "id": "9904cf55",
   "metadata": {
    "deletable": false,
    "id": "9904cf55"
   },
   "source": [
    "### Категоризация данных"
   ]
  },
  {
   "cell_type": "markdown",
   "id": "72fcc8a2",
   "metadata": {
    "deletable": false,
    "id": "72fcc8a2"
   },
   "source": [
    "**Задание 16. На основании диапазонов, указанных ниже, создайте в датафрейме `data` столбец `total_income_category` с категориями:**\n",
    "\n",
    "- 0–30000 — `'E'`;\n",
    "- 30001–50000 — `'D'`;\n",
    "- 50001–200000 — `'C'`;\n",
    "- 200001–1000000 — `'B'`;\n",
    "- 1000001 и выше — `'A'`.\n",
    "\n",
    "\n",
    "**Например, кредитополучателю с доходом 25000 нужно назначить категорию `'E'`, а клиенту, получающему 235000, — `'B'`. Используйте собственную функцию с именем `categorize_income()` и метод `apply()`.**"
   ]
  },
  {
   "cell_type": "code",
   "execution_count": 69,
   "id": "e1771346",
   "metadata": {
    "deletable": false,
    "id": "e1771346"
   },
   "outputs": [],
   "source": [
    "def categorize_income(income):\n",
    "    try:\n",
    "        if 0 <= income <= 30000:\n",
    "            return 'E'\n",
    "        elif 30001 <= income <= 50000:\n",
    "            return 'D'\n",
    "        elif 50001 <= income <= 200000:\n",
    "            return 'C'\n",
    "        elif 200001 <= income <= 1000000:\n",
    "            return 'B'\n",
    "        elif income >= 1000001:\n",
    "            return 'A'\n",
    "    except:\n",
    "        pass"
   ]
  },
  {
   "cell_type": "code",
   "execution_count": 70,
   "id": "d5f3586d",
   "metadata": {
    "deletable": false,
    "id": "d5f3586d",
    "scrolled": true
   },
   "outputs": [],
   "source": [
    "data['total_income_category'] = data['total_income'].apply(categorize_income)\n"
   ]
  },
  {
   "cell_type": "markdown",
   "id": "dde49b5c",
   "metadata": {
    "deletable": false,
    "id": "dde49b5c"
   },
   "source": [
    "**Задание 17. Выведите на экран перечень уникальных целей взятия кредита из столбца `purpose`.**"
   ]
  },
  {
   "cell_type": "code",
   "execution_count": 71,
   "id": "f67ce9b3",
   "metadata": {
    "deletable": false,
    "id": "f67ce9b3",
    "outputId": "673c12d9-7d7e-4ae0-9812-c622c89dd244"
   },
   "outputs": [
    {
     "data": {
      "text/plain": [
       "array(['покупка жилья', 'приобретение автомобиля',\n",
       "       'дополнительное образование', 'сыграть свадьбу',\n",
       "       'операции с жильем', 'образование', 'на проведение свадьбы',\n",
       "       'покупка жилья для семьи', 'покупка недвижимости',\n",
       "       'покупка коммерческой недвижимости', 'покупка жилой недвижимости',\n",
       "       'строительство собственной недвижимости', 'недвижимость',\n",
       "       'строительство недвижимости', 'на покупку подержанного автомобиля',\n",
       "       'на покупку своего автомобиля',\n",
       "       'операции с коммерческой недвижимостью',\n",
       "       'строительство жилой недвижимости', 'жилье',\n",
       "       'операции со своей недвижимостью', 'автомобили',\n",
       "       'заняться образованием', 'сделка с подержанным автомобилем',\n",
       "       'получение образования', 'автомобиль', 'свадьба',\n",
       "       'получение дополнительного образования', 'покупка своего жилья',\n",
       "       'операции с недвижимостью', 'получение высшего образования',\n",
       "       'свой автомобиль', 'сделка с автомобилем',\n",
       "       'профильное образование', 'высшее образование',\n",
       "       'покупка жилья для сдачи', 'на покупку автомобиля', 'ремонт жилью',\n",
       "       'заняться высшим образованием'], dtype=object)"
      ]
     },
     "execution_count": 71,
     "metadata": {},
     "output_type": "execute_result"
    }
   ],
   "source": [
    "data['purpose'].unique()"
   ]
  },
  {
   "cell_type": "markdown",
   "id": "85d0aef0",
   "metadata": {
    "deletable": false,
    "id": "85d0aef0"
   },
   "source": [
    "**Задание 18. Создайте функцию, которая на основании данных из столбца `purpose` сформирует новый столбец `purpose_category`, в который войдут следующие категории:**\n",
    "\n",
    "- `'операции с автомобилем'`,\n",
    "- `'операции с недвижимостью'`,\n",
    "- `'проведение свадьбы'`,\n",
    "- `'получение образования'`.\n",
    "\n",
    "**Например, если в столбце `purpose` находится подстрока `'на покупку автомобиля'`, то в столбце `purpose_category` должна появиться строка `'операции с автомобилем'`.**\n",
    "\n",
    "**Используйте собственную функцию с именем `categorize_purpose()` и метод `apply()`. Изучите данные в столбце `purpose` и определите, какие подстроки помогут вам правильно определить категорию.**"
   ]
  },
  {
   "cell_type": "code",
   "execution_count": 72,
   "id": "e149fab4",
   "metadata": {
    "deletable": false,
    "id": "e149fab4"
   },
   "outputs": [],
   "source": [
    "def categorize_purpose(row):\n",
    "    try:\n",
    "        if 'автом' in row:\n",
    "            return 'операции с автомобилем'\n",
    "        elif 'жил' in row or 'недвиж' in row:\n",
    "            return 'операции с недвижимостью'\n",
    "        elif 'свад' in row:\n",
    "            return 'проведение свадьбы'\n",
    "        elif 'образов' in row:\n",
    "            return 'получение образования'\n",
    "    except:\n",
    "        return 'нет категории'"
   ]
  },
  {
   "cell_type": "code",
   "execution_count": 73,
   "id": "bf36e69b",
   "metadata": {
    "deletable": false,
    "id": "bf36e69b"
   },
   "outputs": [],
   "source": [
    "data['purpose_category'] = data['purpose'].apply(categorize_purpose)\n"
   ]
  },
  {
   "cell_type": "markdown",
   "id": "09b242bf",
   "metadata": {
    "deletable": false,
    "editable": false,
    "id": "09b242bf"
   },
   "source": [
    "## Исследуйте данные и ответьте на вопросы"
   ]
  },
  {
   "cell_type": "markdown",
   "id": "c5d66278",
   "metadata": {
    "deletable": false,
    "editable": false,
    "id": "c5d66278"
   },
   "source": [
    "**Задание 19. Есть ли зависимость между количеством детей и возвратом кредита в срок?**"
   ]
  },
  {
   "cell_type": "code",
   "execution_count": 74,
   "id": "2cacfc4a",
   "metadata": {
    "id": "2cacfc4a"
   },
   "outputs": [
    {
     "data": {
      "text/html": [
       "<div>\n",
       "<style scoped>\n",
       "    .dataframe tbody tr th:only-of-type {\n",
       "        vertical-align: middle;\n",
       "    }\n",
       "\n",
       "    .dataframe tbody tr th {\n",
       "        vertical-align: top;\n",
       "    }\n",
       "\n",
       "    .dataframe thead th {\n",
       "        text-align: right;\n",
       "    }\n",
       "</style>\n",
       "<table border=\"1\" class=\"dataframe\">\n",
       "  <thead>\n",
       "    <tr style=\"text-align: right;\">\n",
       "      <th></th>\n",
       "      <th>children</th>\n",
       "      <th>debt</th>\n",
       "      <th>count</th>\n",
       "    </tr>\n",
       "  </thead>\n",
       "  <tbody>\n",
       "    <tr>\n",
       "      <th>0</th>\n",
       "      <td>0</td>\n",
       "      <td>0.075353</td>\n",
       "      <td>14107</td>\n",
       "    </tr>\n",
       "    <tr>\n",
       "      <th>1</th>\n",
       "      <td>1</td>\n",
       "      <td>0.092327</td>\n",
       "      <td>4809</td>\n",
       "    </tr>\n",
       "    <tr>\n",
       "      <th>2</th>\n",
       "      <td>2</td>\n",
       "      <td>0.094542</td>\n",
       "      <td>2052</td>\n",
       "    </tr>\n",
       "    <tr>\n",
       "      <th>3</th>\n",
       "      <td>3</td>\n",
       "      <td>0.081818</td>\n",
       "      <td>330</td>\n",
       "    </tr>\n",
       "    <tr>\n",
       "      <th>4</th>\n",
       "      <td>4</td>\n",
       "      <td>0.097561</td>\n",
       "      <td>41</td>\n",
       "    </tr>\n",
       "    <tr>\n",
       "      <th>5</th>\n",
       "      <td>5</td>\n",
       "      <td>0.000000</td>\n",
       "      <td>9</td>\n",
       "    </tr>\n",
       "  </tbody>\n",
       "</table>\n",
       "</div>"
      ],
      "text/plain": [
       "   children      debt  count\n",
       "0         0  0.075353  14107\n",
       "1         1  0.092327   4809\n",
       "2         2  0.094542   2052\n",
       "3         3  0.081818    330\n",
       "4         4  0.097561     41\n",
       "5         5  0.000000      9"
      ]
     },
     "metadata": {},
     "output_type": "display_data"
    },
    {
     "data": {
      "text/html": [
       "<div>\n",
       "<style scoped>\n",
       "    .dataframe tbody tr th:only-of-type {\n",
       "        vertical-align: middle;\n",
       "    }\n",
       "\n",
       "    .dataframe tbody tr th {\n",
       "        vertical-align: top;\n",
       "    }\n",
       "\n",
       "    .dataframe thead th {\n",
       "        text-align: right;\n",
       "    }\n",
       "</style>\n",
       "<table border=\"1\" class=\"dataframe\">\n",
       "  <thead>\n",
       "    <tr style=\"text-align: right;\">\n",
       "      <th></th>\n",
       "      <th>debt</th>\n",
       "      <th>children</th>\n",
       "    </tr>\n",
       "  </thead>\n",
       "  <tbody>\n",
       "    <tr>\n",
       "      <th>debt</th>\n",
       "      <td>1.000000</td>\n",
       "      <td>0.309466</td>\n",
       "    </tr>\n",
       "    <tr>\n",
       "      <th>children</th>\n",
       "      <td>0.309466</td>\n",
       "      <td>1.000000</td>\n",
       "    </tr>\n",
       "  </tbody>\n",
       "</table>\n",
       "</div>"
      ],
      "text/plain": [
       "              debt  children\n",
       "debt      1.000000  0.309466\n",
       "children  0.309466  1.000000"
      ]
     },
     "execution_count": 74,
     "metadata": {},
     "output_type": "execute_result"
    }
   ],
   "source": [
    "df=data.groupby('children', as_index = False).debt.mean()\n",
    "df['count'] = data.groupby('children').debt.count()\n",
    "display(df)\n",
    "df=df[df['count']>50]\n",
    "df[['debt','children']].corr()\n",
    "\n",
    "\n",
    "# вычисление коэффициента корреляции между распределением по столбцу 'children' и распределением по по столбцу 'debt'\n",
    "# при группировке по столцу 'children'"
   ]
  },
  {
   "cell_type": "markdown",
   "id": "c33eac4a",
   "metadata": {
    "deletable": false,
    "id": "3a6b99ec"
   },
   "source": [
    "Вывод: корреляция между распределением по столбцу с количеством детей и распределением по столбцу с возвратом кредита в срок показывает независимость переменных."
   ]
  },
  {
   "cell_type": "markdown",
   "id": "8bf4d599",
   "metadata": {},
   "source": [
    "<div class=\"alert alert-success\">\n",
    "<b>Комментарий ревьюера:\n",
    "&#9989;</b> Хорошо! </div>"
   ]
  },
  {
   "cell_type": "markdown",
   "id": "97be82ca",
   "metadata": {
    "deletable": false,
    "editable": false,
    "id": "97be82ca"
   },
   "source": [
    "**Задание 20. Есть ли зависимость между семейным положением и возвратом кредита в срок?**"
   ]
  },
  {
   "cell_type": "code",
   "execution_count": 75,
   "id": "dc3f7ee8",
   "metadata": {
    "id": "dc3f7ee8",
    "scrolled": true
   },
   "outputs": [
    {
     "data": {
      "text/html": [
       "<div>\n",
       "<style scoped>\n",
       "    .dataframe tbody tr th:only-of-type {\n",
       "        vertical-align: middle;\n",
       "    }\n",
       "\n",
       "    .dataframe tbody tr th {\n",
       "        vertical-align: top;\n",
       "    }\n",
       "\n",
       "    .dataframe thead th {\n",
       "        text-align: right;\n",
       "    }\n",
       "</style>\n",
       "<table border=\"1\" class=\"dataframe\">\n",
       "  <thead>\n",
       "    <tr style=\"text-align: right;\">\n",
       "      <th></th>\n",
       "      <th>sum</th>\n",
       "      <th>count</th>\n",
       "      <th>conversion</th>\n",
       "    </tr>\n",
       "    <tr>\n",
       "      <th>family_status_id</th>\n",
       "      <th></th>\n",
       "      <th></th>\n",
       "      <th></th>\n",
       "    </tr>\n",
       "  </thead>\n",
       "  <tbody>\n",
       "    <tr>\n",
       "      <th>0</th>\n",
       "      <td>927</td>\n",
       "      <td>12266</td>\n",
       "      <td>0.075575</td>\n",
       "    </tr>\n",
       "    <tr>\n",
       "      <th>1</th>\n",
       "      <td>385</td>\n",
       "      <td>4146</td>\n",
       "      <td>0.092861</td>\n",
       "    </tr>\n",
       "    <tr>\n",
       "      <th>2</th>\n",
       "      <td>63</td>\n",
       "      <td>951</td>\n",
       "      <td>0.066246</td>\n",
       "    </tr>\n",
       "    <tr>\n",
       "      <th>3</th>\n",
       "      <td>84</td>\n",
       "      <td>1189</td>\n",
       "      <td>0.070648</td>\n",
       "    </tr>\n",
       "    <tr>\n",
       "      <th>4</th>\n",
       "      <td>273</td>\n",
       "      <td>2796</td>\n",
       "      <td>0.097639</td>\n",
       "    </tr>\n",
       "  </tbody>\n",
       "</table>\n",
       "</div>"
      ],
      "text/plain": [
       "                  sum  count  conversion\n",
       "family_status_id                        \n",
       "0                 927  12266    0.075575\n",
       "1                 385   4146    0.092861\n",
       "2                  63    951    0.066246\n",
       "3                  84   1189    0.070648\n",
       "4                 273   2796    0.097639"
      ]
     },
     "execution_count": 75,
     "metadata": {},
     "output_type": "execute_result"
    }
   ],
   "source": [
    "data['family_status_id'].value_counts()\n",
    "debt_family_status = pd.DataFrame()\n",
    "debt_family_status['sum'] = data.groupby('family_status_id').debt.sum()\n",
    "debt_family_status['count'] = data.groupby('family_status_id').debt.count()\n",
    "debt_family_status['conversion'] = debt_family_status['sum'] / debt_family_status['count']\n",
    "debt_family_status.sort_values('family_status_id')\n",
    "\n",
    "# Ваш код будет здесь. Вы можете создавать новые ячейки."
   ]
  },
  {
   "cell_type": "markdown",
   "id": "1cef7837",
   "metadata": {
    "deletable": false,
    "id": "1cef7837"
   },
   "source": [
    "Вывод: среди рассматриваемых групп наименьший процент невозвратов имеет группа вдовцов/вдов - 6,66%, далее идет группа в разводе - 7,06%, далее идет группа в женатых/замужних - 7,56%, следующая группа находящихся в гражданском браке - 9, 29%, и, наконец, наибольший процент имеет группа не женатых/замужних - 9,76%.    \n"
   ]
  },
  {
   "cell_type": "markdown",
   "id": "693b97d8",
   "metadata": {},
   "source": [
    "<div class=\"alert alert-success\">\n",
    "<b>Комментарий ревьюера V3:\n",
    "&#9989;</b> Хорошо! </div>"
   ]
  },
  {
   "cell_type": "markdown",
   "id": "b66d5ab6",
   "metadata": {},
   "source": [
    "<div class=\"alert alert-danger\">\n",
    "<b>Комментарий ревьюера: &#10060; </b> Семейное положение это категориальная переменная, поэтому смотреть корреляцию в данном случае не корректно. Попробуй сгруппировать данные, используя аггрегирующие функции, и посмотреть какие-либо зависимости </div>"
   ]
  },
  {
   "cell_type": "markdown",
   "id": "31ebd712",
   "metadata": {},
   "source": [
    "<div class=\"alert alert-danger\">\n",
    "<b>Комментарий ревьюера V2: &#10060; </b>  Можно написать короче: <code>data.groupby('family_status_id').debt.mean()</code>.\n",
    "    В данном случае проверки на независимость у нас нет, есть только предположения(гипотезы), дальше по курсу вы их будете проходить, пока лучше сформулировать где больше, где меньше. Так как ты изначально хотел посмотреть корреляционную матрицу, можешь в будущем приглядеться к ковариационной матрице, к <a href = \"https://www.statisticshowto.com/variance-inflation-factor/\">VIF</a>. <br>Здесь и далее: для банковской сферы с миллиардными портфелями 1-2% это уже серьезные потери, а не относительная сглаженность, давай пересмотрим выводы\n",
    "</div>"
   ]
  },
  {
   "cell_type": "code",
   "execution_count": 76,
   "id": "5139f4b4",
   "metadata": {},
   "outputs": [
    {
     "data": {
      "text/plain": [
       "family_status_id\n",
       "0    0.075575\n",
       "1    0.092861\n",
       "2    0.066246\n",
       "3    0.070648\n",
       "4    0.097639\n",
       "Name: debt, dtype: float64"
      ]
     },
     "execution_count": 76,
     "metadata": {},
     "output_type": "execute_result"
    }
   ],
   "source": [
    "data.groupby('family_status_id').debt.mean()"
   ]
  },
  {
   "cell_type": "markdown",
   "id": "1e8b2fca",
   "metadata": {
    "deletable": false,
    "editable": false,
    "id": "1e8b2fca"
   },
   "source": [
    "**Задание 21. Есть ли зависимость между уровнем дохода и возвратом кредита в срок?**"
   ]
  },
  {
   "cell_type": "code",
   "execution_count": 77,
   "id": "cd7e3720",
   "metadata": {
    "id": "cd7e3720",
    "scrolled": true
   },
   "outputs": [
    {
     "data": {
      "text/html": [
       "<div>\n",
       "<style scoped>\n",
       "    .dataframe tbody tr th:only-of-type {\n",
       "        vertical-align: middle;\n",
       "    }\n",
       "\n",
       "    .dataframe tbody tr th {\n",
       "        vertical-align: top;\n",
       "    }\n",
       "\n",
       "    .dataframe thead th {\n",
       "        text-align: right;\n",
       "    }\n",
       "</style>\n",
       "<table border=\"1\" class=\"dataframe\">\n",
       "  <thead>\n",
       "    <tr style=\"text-align: right;\">\n",
       "      <th></th>\n",
       "      <th>sum</th>\n",
       "      <th>count</th>\n",
       "      <th>conversion</th>\n",
       "    </tr>\n",
       "    <tr>\n",
       "      <th>total_income_category_id</th>\n",
       "      <th></th>\n",
       "      <th></th>\n",
       "      <th></th>\n",
       "    </tr>\n",
       "  </thead>\n",
       "  <tbody>\n",
       "    <tr>\n",
       "      <th>4</th>\n",
       "      <td>2</td>\n",
       "      <td>22</td>\n",
       "      <td>0.090909</td>\n",
       "    </tr>\n",
       "    <tr>\n",
       "      <th>2</th>\n",
       "      <td>1353</td>\n",
       "      <td>15938</td>\n",
       "      <td>0.084891</td>\n",
       "    </tr>\n",
       "    <tr>\n",
       "      <th>0</th>\n",
       "      <td>2</td>\n",
       "      <td>25</td>\n",
       "      <td>0.080000</td>\n",
       "    </tr>\n",
       "    <tr>\n",
       "      <th>1</th>\n",
       "      <td>354</td>\n",
       "      <td>5014</td>\n",
       "      <td>0.070602</td>\n",
       "    </tr>\n",
       "    <tr>\n",
       "      <th>3</th>\n",
       "      <td>21</td>\n",
       "      <td>349</td>\n",
       "      <td>0.060172</td>\n",
       "    </tr>\n",
       "  </tbody>\n",
       "</table>\n",
       "</div>"
      ],
      "text/plain": [
       "                           sum  count  conversion\n",
       "total_income_category_id                         \n",
       "4                            2     22    0.090909\n",
       "2                         1353  15938    0.084891\n",
       "0                            2     25    0.080000\n",
       "1                          354   5014    0.070602\n",
       "3                           21    349    0.060172"
      ]
     },
     "execution_count": 77,
     "metadata": {},
     "output_type": "execute_result"
    }
   ],
   "source": [
    "def categorize_income_id(income):\n",
    "    try:\n",
    "        if income == 'E':\n",
    "            return 4\n",
    "        elif income == 'D':\n",
    "            return 3\n",
    "        elif income == 'C':\n",
    "            return 2\n",
    "        elif income == 'B':\n",
    "            return 1\n",
    "        elif income == 'A':\n",
    "            return 0\n",
    "    except:\n",
    "        pass\n",
    "\n",
    "data\n",
    "data['total_income_category'] = data['total_income'].apply(categorize_income)\n",
    "data\n",
    "data['total_income_category_id'] = data['total_income_category'].apply(categorize_income_id)\n",
    "data\n",
    "data['total_income_category_id'].value_counts()\n",
    "debt_from_total_income = pd.DataFrame()\n",
    "debt_from_total_income['sum'] = data.groupby('total_income_category_id').debt.sum()\n",
    "debt_from_total_income['count'] = data.groupby('total_income_category_id').debt.count()\n",
    "debt_from_total_income['conversion'] = debt_from_total_income['sum'] / debt_from_total_income['count']\n",
    "debt_from_total_income.sort_values('conversion', ascending = False)\n",
    "\n",
    "# Ваш код будет здесь. Вы можете создавать новые ячейки."
   ]
  },
  {
   "cell_type": "markdown",
   "id": "16a4a537",
   "metadata": {},
   "source": [
    "<div class=\"alert alert-danger\">\n",
    "<b>Комментарий ревьюера: &#10060; </b> В этом месте вылетает ошибка, пожалуйста, проверяй работоспособность кода перед отправкой работы </div>"
   ]
  },
  {
   "cell_type": "markdown",
   "id": "e8593def",
   "metadata": {
    "deletable": false,
    "id": "e8593def"
   },
   "source": [
    "Вывод: процентное отношение невозврата кредитов в зависимости от уровня дохода по столбцу с total_income_id (уровень дохода) относительно сглажено, что показывает независимость переменных.  "
   ]
  },
  {
   "cell_type": "markdown",
   "id": "99ecbd1f",
   "metadata": {
    "deletable": false,
    "editable": false,
    "id": "99ecbd1f"
   },
   "source": [
    "**Задание 22. Как разные цели кредита влияют на его возврат в срок?**"
   ]
  },
  {
   "cell_type": "code",
   "execution_count": 78,
   "id": "2b687290",
   "metadata": {
    "id": "2b687290"
   },
   "outputs": [
    {
     "data": {
      "text/plain": [
       "purpose_category\n",
       "операции с автомобилем      0.093436\n",
       "операции с недвижимостью    0.072531\n",
       "получение образования       0.092504\n",
       "проведение свадьбы          0.078744\n",
       "Name: debt, dtype: float64"
      ]
     },
     "execution_count": 78,
     "metadata": {},
     "output_type": "execute_result"
    }
   ],
   "source": [
    "# Ваш код будет здесь. Вы можете создавать новые ячейки.\n",
    "\n",
    "debt_from_purpose = pd.DataFrame()\n",
    "data['purpose_category'] = data['purpose'].apply(categorize_purpose)\n",
    "data\n",
    "\n",
    "data.groupby('purpose_category')['debt'].mean()\n",
    "\n"
   ]
  },
  {
   "cell_type": "markdown",
   "id": "b4bb2ce6",
   "metadata": {
    "deletable": false,
    "id": "b4bb2ce6"
   },
   "source": [
    "**Вывод:процентное соотношение долга по целям кредита показывает незначительный разброс в зависимости от целей.   "
   ]
  },
  {
   "cell_type": "markdown",
   "id": "09c3ac4c",
   "metadata": {
    "deletable": false,
    "editable": false,
    "id": "09c3ac4c"
   },
   "source": [
    "**Задание 23. Приведите возможные причины появления пропусков в исходных данных.**"
   ]
  },
  {
   "cell_type": "markdown",
   "id": "9da2ceda",
   "metadata": {
    "deletable": false,
    "id": "9da2ceda"
   },
   "source": [
    "*Ответ: причинами, приводящими к появлению пропусков, являются невозможность получения или обработки, искажение или сокрытие информации."
   ]
  },
  {
   "cell_type": "markdown",
   "id": "9585b0e5",
   "metadata": {},
   "source": [
    "<div class=\"alert alert-success\">\n",
    "<b>Комментарий ревьюера:\n",
    "&#9989;</b> Хорошо! </div>"
   ]
  },
  {
   "cell_type": "markdown",
   "id": "7b0487d6",
   "metadata": {
    "deletable": false,
    "editable": false,
    "id": "7b0487d6"
   },
   "source": [
    "**Задание 24. Объясните, почему заполнить пропуски медианным значением — лучшее решение для количественных переменных.**"
   ]
  },
  {
   "cell_type": "markdown",
   "id": "7ecf2b8e",
   "metadata": {
    "deletable": false,
    "id": "7ecf2b8e"
   },
   "source": [
    "*Ответ:медианное значение практически не зависит от возможных выбросов в массивах данных. "
   ]
  },
  {
   "cell_type": "markdown",
   "id": "89cb5885",
   "metadata": {},
   "source": [
    "<div class=\"alert alert-success\">\n",
    "<b>Комментарий ревьюера:\n",
    "&#9989;</b> Отлично! </div>"
   ]
  },
  {
   "cell_type": "markdown",
   "id": "6db5255a",
   "metadata": {
    "deletable": false,
    "editable": false,
    "id": "6db5255a"
   },
   "source": [
    "## Общий вывод."
   ]
  },
  {
   "cell_type": "markdown",
   "id": "bad65432",
   "metadata": {
    "id": "bad65432"
   },
   "source": [
    "Напишите ваш общий вывод. Проведённое целевое исследование показало независимость возврата кредита в срок от количества детей в семье, от уровня дохода, от семейного положения. Процент невозврата кредитов незначательно варьируется 7,2 до 9,3 процента от в зависимости от исследованных целей кредита."
   ]
  },
  {
   "cell_type": "markdown",
   "id": "12d05d2f",
   "metadata": {},
   "source": [
    "<b>Итоговый комментарий ревьюера: &#10060; </b> Хорошая работа, давай исправим критические моменты, чтобы я смог допроверить работу, а именно:\n",
    "- Задача 20, корреляционные связи смотреть тут бесполезно\n",
    "- Работоспособность кода\n",
    "\n",
    "Жду скорейших исправлений, успехов и удачи!"
   ]
  },
  {
   "cell_type": "markdown",
   "id": "0c64e98a",
   "metadata": {},
   "source": [
    "<b>Итоговый комментарий ревьюера V2: &#10060; </b> Молодец, исправил ошибки, осталось рассмотреть пару недотчетов:\n",
    "- Выводы по задачам(мы не можем судить о независимости переменных без стат. тестов), 1-2% для банков с миллиардным оборотом это вполне себе большая потеря\n",
    "- Расширь, пожалуйста, выводы\n",
    "\n",
    "Ниже оставлю пару ссылок для самообучения\n",
    "P.S. Если возникают вопросы, пожалуйста, пиши, так будет проще ревьюерам понять, где есть недопонимание, и быстрее принять работу!"
   ]
  },
  {
   "cell_type": "markdown",
   "id": "618a36a2",
   "metadata": {},
   "source": [
    "<b>Итоговый комментарий ревьюера V3:\n",
    "&#9989;</b> Хорошо, критические замечания учтены, работа принята"
   ]
  },
  {
   "cell_type": "markdown",
   "id": "e4191b80",
   "metadata": {},
   "source": [
    "<div class=\"alert alert-success\">\n",
    "<b>Рубрика “Полезные ссылки”:\n",
    "✅</b> <br>\n",
    "\n",
    "<a href = \"https://coderlessons.com/tutorials/python-technologies/izuchai-siborna/siborn-kratkoe-rukovodstvo\"> Seaborn</a><br>\n",
    "<a href = \"https://habr.com/ru/post/502958/\"> Plotly</a><br>\n",
    "<a href = \"https://medium.com/@jetbootsmaker/%D0%BF%D0%BE%D0%B2%D1%8B%D1%88%D0%B0%D0%B5%D0%BC-%D0%BF%D1%80%D0%BE%D0%B4%D1%83%D0%BA%D1%82%D0%B8%D0%B2%D0%BD%D0%BE%D1%81%D1%82%D1%8C-%D0%BF%D1%80%D0%B8-%D1%80%D0%B0%D0%B1%D0%BE%D1%82%D0%B5-%D1%81-jupyter-notebook-81a1cab8bac1\"> Повышаем продуктивность при работе с Jupyter</a><br>\n",
    "<a href = \"https://www.kaggle.com/code/emstrakhov/lesson-1-eda-with-pandas/notebook\">EDA</a><br>\n",
    "<a href = \"https://towardsdatascience.com/exploratory-data-analysis-eda-visualization-using-pandas-ca5a04271607\"> EDA 2</a>\n",
    "</div>"
   ]
  }
 ],
 "metadata": {
  "ExecuteTimeLog": [
   {
    "duration": 979,
    "start_time": "2022-08-04T18:36:16.465Z"
   },
   {
    "duration": 71,
    "start_time": "2022-08-04T18:36:23.160Z"
   },
   {
    "duration": 27,
    "start_time": "2022-08-04T18:37:19.670Z"
   },
   {
    "duration": 14,
    "start_time": "2022-08-04T18:38:20.932Z"
   },
   {
    "duration": 10,
    "start_time": "2022-08-04T18:38:32.169Z"
   },
   {
    "duration": 48,
    "start_time": "2022-08-04T18:38:55.242Z"
   },
   {
    "duration": 3,
    "start_time": "2022-08-04T18:39:28.832Z"
   },
   {
    "duration": 9,
    "start_time": "2022-08-04T18:39:47.980Z"
   },
   {
    "duration": 5,
    "start_time": "2022-08-04T18:40:11.841Z"
   },
   {
    "duration": 7,
    "start_time": "2022-08-04T18:40:52.105Z"
   },
   {
    "duration": 4,
    "start_time": "2022-08-04T18:41:00.337Z"
   },
   {
    "duration": 42,
    "start_time": "2022-08-04T18:42:19.963Z"
   },
   {
    "duration": 10,
    "start_time": "2022-08-04T18:42:35.196Z"
   },
   {
    "duration": 4,
    "start_time": "2022-08-04T18:42:49.947Z"
   },
   {
    "duration": 18,
    "start_time": "2022-08-04T18:43:02.067Z"
   },
   {
    "duration": 17,
    "start_time": "2022-08-04T18:43:14.794Z"
   },
   {
    "duration": 12,
    "start_time": "2022-08-04T18:43:38.138Z"
   },
   {
    "duration": 4,
    "start_time": "2022-08-04T18:44:25.440Z"
   },
   {
    "duration": 9,
    "start_time": "2022-08-04T19:01:53.833Z"
   },
   {
    "duration": 6,
    "start_time": "2022-08-04T19:02:01.789Z"
   },
   {
    "duration": 6,
    "start_time": "2022-08-04T20:13:17.311Z"
   },
   {
    "duration": 59,
    "start_time": "2022-08-04T20:16:38.126Z"
   },
   {
    "duration": 6,
    "start_time": "2022-08-04T20:16:53.448Z"
   },
   {
    "duration": 7,
    "start_time": "2022-08-04T20:18:52.105Z"
   },
   {
    "duration": 7,
    "start_time": "2022-08-04T20:19:02.409Z"
   },
   {
    "duration": 6,
    "start_time": "2022-08-04T20:19:14.322Z"
   },
   {
    "duration": 11,
    "start_time": "2022-08-04T20:19:34.556Z"
   },
   {
    "duration": 22,
    "start_time": "2022-08-04T20:21:12.111Z"
   },
   {
    "duration": 8,
    "start_time": "2022-08-04T20:23:26.863Z"
   },
   {
    "duration": 8,
    "start_time": "2022-08-04T20:24:25.231Z"
   },
   {
    "duration": 10,
    "start_time": "2022-08-04T20:36:47.686Z"
   },
   {
    "duration": 8,
    "start_time": "2022-08-04T20:36:53.381Z"
   },
   {
    "duration": 10,
    "start_time": "2022-08-04T20:36:58.678Z"
   },
   {
    "duration": 6,
    "start_time": "2022-08-04T20:37:09.656Z"
   },
   {
    "duration": 11,
    "start_time": "2022-08-04T20:40:04.855Z"
   },
   {
    "duration": 15,
    "start_time": "2022-08-04T20:40:24.975Z"
   },
   {
    "duration": 13,
    "start_time": "2022-08-04T21:02:33.132Z"
   },
   {
    "duration": 64,
    "start_time": "2022-08-04T21:03:21.421Z"
   },
   {
    "duration": 9,
    "start_time": "2022-08-04T21:03:58.119Z"
   },
   {
    "duration": 4,
    "start_time": "2022-08-04T21:15:17.234Z"
   },
   {
    "duration": 6,
    "start_time": "2022-08-04T21:15:32.738Z"
   },
   {
    "duration": 6,
    "start_time": "2022-08-04T21:15:46.355Z"
   },
   {
    "duration": 6,
    "start_time": "2022-08-04T21:15:50.132Z"
   },
   {
    "duration": 4,
    "start_time": "2022-08-04T21:15:58.311Z"
   },
   {
    "duration": 8,
    "start_time": "2022-08-04T21:16:18.644Z"
   },
   {
    "duration": 10,
    "start_time": "2022-08-04T21:16:50.379Z"
   },
   {
    "duration": 7,
    "start_time": "2022-08-04T21:16:54.918Z"
   },
   {
    "duration": 6,
    "start_time": "2022-08-04T21:17:02.113Z"
   },
   {
    "duration": 6,
    "start_time": "2022-08-04T21:24:10.112Z"
   },
   {
    "duration": 6,
    "start_time": "2022-08-04T21:25:25.768Z"
   },
   {
    "duration": 8,
    "start_time": "2022-08-04T21:26:01.610Z"
   },
   {
    "duration": 6,
    "start_time": "2022-08-04T21:26:27.265Z"
   },
   {
    "duration": 7,
    "start_time": "2022-08-04T21:29:03.805Z"
   },
   {
    "duration": 8,
    "start_time": "2022-08-04T21:37:45.280Z"
   },
   {
    "duration": 47,
    "start_time": "2022-08-04T21:39:55.261Z"
   },
   {
    "duration": 9,
    "start_time": "2022-08-04T21:40:05.888Z"
   },
   {
    "duration": 6,
    "start_time": "2022-08-04T21:42:17.028Z"
   },
   {
    "duration": 6,
    "start_time": "2022-08-04T21:43:16.250Z"
   },
   {
    "duration": 7,
    "start_time": "2022-08-04T21:47:28.525Z"
   },
   {
    "duration": 11,
    "start_time": "2022-08-04T22:03:28.230Z"
   },
   {
    "duration": 10,
    "start_time": "2022-08-04T22:03:34.272Z"
   },
   {
    "duration": 9,
    "start_time": "2022-08-04T22:04:29.719Z"
   },
   {
    "duration": 8,
    "start_time": "2022-08-04T22:09:59.545Z"
   },
   {
    "duration": 8,
    "start_time": "2022-08-04T22:12:23.810Z"
   },
   {
    "duration": 11,
    "start_time": "2022-08-04T22:13:06.375Z"
   },
   {
    "duration": 24,
    "start_time": "2022-08-04T22:14:55.652Z"
   },
   {
    "duration": 9,
    "start_time": "2022-08-04T22:15:28.333Z"
   },
   {
    "duration": 6,
    "start_time": "2022-08-04T22:15:38.512Z"
   },
   {
    "duration": 11,
    "start_time": "2022-08-04T22:22:52.908Z"
   },
   {
    "duration": 10,
    "start_time": "2022-08-04T22:25:54.544Z"
   },
   {
    "duration": 10,
    "start_time": "2022-08-04T22:30:03.718Z"
   },
   {
    "duration": 790,
    "start_time": "2022-08-05T17:28:19.145Z"
   },
   {
    "duration": 43,
    "start_time": "2022-08-05T17:28:19.938Z"
   },
   {
    "duration": 43,
    "start_time": "2022-08-05T17:28:19.983Z"
   },
   {
    "duration": 32,
    "start_time": "2022-08-05T17:28:20.037Z"
   },
   {
    "duration": 91,
    "start_time": "2022-08-05T17:28:20.072Z"
   },
   {
    "duration": 5,
    "start_time": "2022-08-05T17:28:20.166Z"
   },
   {
    "duration": 84,
    "start_time": "2022-08-05T17:28:20.173Z"
   },
   {
    "duration": 8,
    "start_time": "2022-08-05T17:28:20.259Z"
   },
   {
    "duration": 20,
    "start_time": "2022-08-05T17:28:20.269Z"
   },
   {
    "duration": 8,
    "start_time": "2022-08-05T17:28:20.294Z"
   },
   {
    "duration": 107,
    "start_time": "2022-08-05T17:28:20.305Z"
   },
   {
    "duration": 28,
    "start_time": "2022-08-05T17:28:20.419Z"
   },
   {
    "duration": 32,
    "start_time": "2022-08-05T17:28:20.448Z"
   },
   {
    "duration": 82,
    "start_time": "2022-08-05T17:28:20.483Z"
   },
   {
    "duration": 20,
    "start_time": "2022-08-05T17:28:20.567Z"
   },
   {
    "duration": 17,
    "start_time": "2022-08-05T17:28:20.589Z"
   },
   {
    "duration": 7,
    "start_time": "2022-08-05T17:28:20.611Z"
   },
   {
    "duration": 33,
    "start_time": "2022-08-05T17:28:20.620Z"
   },
   {
    "duration": 20,
    "start_time": "2022-08-05T17:28:20.655Z"
   },
   {
    "duration": 11,
    "start_time": "2022-08-05T17:28:20.677Z"
   },
   {
    "duration": 15,
    "start_time": "2022-08-05T17:29:25.522Z"
   },
   {
    "duration": 7,
    "start_time": "2022-08-05T17:30:01.648Z"
   },
   {
    "duration": 15,
    "start_time": "2022-08-05T17:30:12.616Z"
   },
   {
    "duration": 10,
    "start_time": "2022-08-05T17:30:35.633Z"
   },
   {
    "duration": 24,
    "start_time": "2022-08-05T17:32:11.958Z"
   },
   {
    "duration": 13,
    "start_time": "2022-08-05T17:32:53.974Z"
   },
   {
    "duration": 22,
    "start_time": "2022-08-05T17:33:19.112Z"
   },
   {
    "duration": 168,
    "start_time": "2022-08-05T17:34:52.154Z"
   },
   {
    "duration": 19,
    "start_time": "2022-08-05T17:35:41.219Z"
   },
   {
    "duration": 13,
    "start_time": "2022-08-05T17:52:45.846Z"
   },
   {
    "duration": 11,
    "start_time": "2022-08-05T17:53:22.361Z"
   },
   {
    "duration": 32,
    "start_time": "2022-08-05T17:59:22.626Z"
   },
   {
    "duration": 79,
    "start_time": "2022-08-05T18:12:35.723Z"
   },
   {
    "duration": 7,
    "start_time": "2022-08-05T18:13:23.148Z"
   },
   {
    "duration": 13,
    "start_time": "2022-08-05T18:13:43.981Z"
   },
   {
    "duration": 11,
    "start_time": "2022-08-05T18:14:00.204Z"
   },
   {
    "duration": 6,
    "start_time": "2022-08-05T18:15:03.503Z"
   },
   {
    "duration": 8,
    "start_time": "2022-08-05T18:15:51.457Z"
   },
   {
    "duration": 21,
    "start_time": "2022-08-05T18:57:01.020Z"
   },
   {
    "duration": 7,
    "start_time": "2022-08-05T18:58:49.200Z"
   },
   {
    "duration": 10,
    "start_time": "2022-08-05T18:59:41.433Z"
   },
   {
    "duration": 9,
    "start_time": "2022-08-05T19:00:52.869Z"
   },
   {
    "duration": 10,
    "start_time": "2022-08-05T19:00:59.617Z"
   },
   {
    "duration": 9,
    "start_time": "2022-08-05T19:01:15.995Z"
   },
   {
    "duration": 14,
    "start_time": "2022-08-05T19:02:48.800Z"
   },
   {
    "duration": 14,
    "start_time": "2022-08-05T19:03:18.541Z"
   },
   {
    "duration": 25,
    "start_time": "2022-08-05T19:04:22.491Z"
   },
   {
    "duration": 18,
    "start_time": "2022-08-05T19:06:02.581Z"
   },
   {
    "duration": 15,
    "start_time": "2022-08-05T19:06:24.710Z"
   },
   {
    "duration": 8,
    "start_time": "2022-08-05T19:06:57.749Z"
   },
   {
    "duration": 12,
    "start_time": "2022-08-05T19:08:13.977Z"
   },
   {
    "duration": 8,
    "start_time": "2022-08-05T19:08:53.604Z"
   },
   {
    "duration": 10,
    "start_time": "2022-08-05T19:09:09.470Z"
   },
   {
    "duration": 12,
    "start_time": "2022-08-05T19:09:25.204Z"
   },
   {
    "duration": 37,
    "start_time": "2022-08-05T19:10:06.598Z"
   },
   {
    "duration": 89,
    "start_time": "2022-08-05T19:11:35.631Z"
   },
   {
    "duration": 12,
    "start_time": "2022-08-05T19:11:44.529Z"
   },
   {
    "duration": 13,
    "start_time": "2022-08-05T19:12:25.542Z"
   },
   {
    "duration": 15,
    "start_time": "2022-08-05T19:12:41.527Z"
   },
   {
    "duration": 103,
    "start_time": "2022-08-05T19:21:32.657Z"
   },
   {
    "duration": 83,
    "start_time": "2022-08-05T19:22:13.127Z"
   },
   {
    "duration": 17,
    "start_time": "2022-08-05T19:22:28.439Z"
   },
   {
    "duration": 17,
    "start_time": "2022-08-05T19:23:46.711Z"
   },
   {
    "duration": 83,
    "start_time": "2022-08-05T19:28:30.735Z"
   },
   {
    "duration": 20,
    "start_time": "2022-08-05T19:28:42.802Z"
   },
   {
    "duration": 3,
    "start_time": "2022-08-05T19:30:36.338Z"
   },
   {
    "duration": 78,
    "start_time": "2022-08-05T19:30:39.945Z"
   },
   {
    "duration": 13,
    "start_time": "2022-08-05T19:31:08.338Z"
   },
   {
    "duration": 8,
    "start_time": "2022-08-05T19:31:42.107Z"
   },
   {
    "duration": 7,
    "start_time": "2022-08-05T19:32:08.019Z"
   },
   {
    "duration": 8,
    "start_time": "2022-08-05T19:32:23.483Z"
   },
   {
    "duration": 10,
    "start_time": "2022-08-05T19:40:54.961Z"
   },
   {
    "duration": 8,
    "start_time": "2022-08-05T19:43:11.531Z"
   },
   {
    "duration": 7,
    "start_time": "2022-08-05T19:43:14.971Z"
   },
   {
    "duration": 12,
    "start_time": "2022-08-05T19:43:37.970Z"
   },
   {
    "duration": 11,
    "start_time": "2022-08-05T19:49:38.296Z"
   },
   {
    "duration": 11,
    "start_time": "2022-08-05T19:51:59.360Z"
   },
   {
    "duration": 7,
    "start_time": "2022-08-05T19:52:10.728Z"
   },
   {
    "duration": 9,
    "start_time": "2022-08-05T19:52:23.272Z"
   },
   {
    "duration": 12,
    "start_time": "2022-08-05T19:53:21.410Z"
   },
   {
    "duration": 11,
    "start_time": "2022-08-05T19:53:47.559Z"
   },
   {
    "duration": 9,
    "start_time": "2022-08-05T19:54:08.281Z"
   },
   {
    "duration": 16,
    "start_time": "2022-08-05T19:55:14.675Z"
   },
   {
    "duration": 12,
    "start_time": "2022-08-05T19:55:38.810Z"
   },
   {
    "duration": 17,
    "start_time": "2022-08-05T19:55:54.067Z"
   },
   {
    "duration": 27,
    "start_time": "2022-08-05T19:57:02.397Z"
   },
   {
    "duration": 16,
    "start_time": "2022-08-05T19:57:28.819Z"
   },
   {
    "duration": 15,
    "start_time": "2022-08-05T20:01:46.288Z"
   },
   {
    "duration": 4,
    "start_time": "2022-08-05T20:02:43.343Z"
   },
   {
    "duration": 3,
    "start_time": "2022-08-05T20:03:38.529Z"
   },
   {
    "duration": 6,
    "start_time": "2022-08-05T20:04:14.920Z"
   },
   {
    "duration": 22,
    "start_time": "2022-08-05T20:05:11.374Z"
   },
   {
    "duration": 23,
    "start_time": "2022-08-05T20:06:18.546Z"
   },
   {
    "duration": 14,
    "start_time": "2022-08-05T20:11:02.516Z"
   },
   {
    "duration": 11,
    "start_time": "2022-08-05T20:11:51.963Z"
   },
   {
    "duration": 20,
    "start_time": "2022-08-05T20:12:25.454Z"
   },
   {
    "duration": 110,
    "start_time": "2022-08-05T20:14:29.232Z"
   },
   {
    "duration": 9,
    "start_time": "2022-08-05T20:14:46.231Z"
   },
   {
    "duration": 8,
    "start_time": "2022-08-05T20:15:33.610Z"
   },
   {
    "duration": 20,
    "start_time": "2022-08-05T20:15:42.151Z"
   },
   {
    "duration": 19,
    "start_time": "2022-08-05T20:17:06.820Z"
   },
   {
    "duration": 16,
    "start_time": "2022-08-05T20:17:27.889Z"
   },
   {
    "duration": 10,
    "start_time": "2022-08-05T20:17:40.931Z"
   },
   {
    "duration": 16,
    "start_time": "2022-08-05T20:18:15.103Z"
   },
   {
    "duration": 10,
    "start_time": "2022-08-05T20:19:20.753Z"
   },
   {
    "duration": 13,
    "start_time": "2022-08-05T20:21:55.734Z"
   },
   {
    "duration": 11,
    "start_time": "2022-08-05T20:22:09.378Z"
   },
   {
    "duration": 27,
    "start_time": "2022-08-05T20:22:51.748Z"
   },
   {
    "duration": 15,
    "start_time": "2022-08-05T20:24:50.425Z"
   },
   {
    "duration": 61,
    "start_time": "2022-08-06T10:51:26.671Z"
   },
   {
    "duration": 1071,
    "start_time": "2022-08-06T10:51:41.776Z"
   },
   {
    "duration": 22,
    "start_time": "2022-08-06T10:51:42.849Z"
   },
   {
    "duration": 15,
    "start_time": "2022-08-06T10:51:42.872Z"
   },
   {
    "duration": 9,
    "start_time": "2022-08-06T10:51:42.889Z"
   },
   {
    "duration": 45,
    "start_time": "2022-08-06T10:51:42.899Z"
   },
   {
    "duration": 3,
    "start_time": "2022-08-06T10:51:42.946Z"
   },
   {
    "duration": 25,
    "start_time": "2022-08-06T10:51:42.950Z"
   },
   {
    "duration": 4,
    "start_time": "2022-08-06T10:51:42.977Z"
   },
   {
    "duration": 11,
    "start_time": "2022-08-06T10:51:42.982Z"
   },
   {
    "duration": 5,
    "start_time": "2022-08-06T10:51:42.995Z"
   },
   {
    "duration": 44,
    "start_time": "2022-08-06T10:51:43.001Z"
   },
   {
    "duration": 9,
    "start_time": "2022-08-06T10:51:43.047Z"
   },
   {
    "duration": 10,
    "start_time": "2022-08-06T10:51:43.058Z"
   },
   {
    "duration": 24,
    "start_time": "2022-08-06T10:51:43.070Z"
   },
   {
    "duration": 25,
    "start_time": "2022-08-06T10:51:43.098Z"
   },
   {
    "duration": 10,
    "start_time": "2022-08-06T10:51:43.125Z"
   },
   {
    "duration": 6,
    "start_time": "2022-08-06T10:51:43.136Z"
   },
   {
    "duration": 13,
    "start_time": "2022-08-06T10:51:43.144Z"
   },
   {
    "duration": 8,
    "start_time": "2022-08-06T10:51:43.158Z"
   },
   {
    "duration": 11,
    "start_time": "2022-08-06T10:51:43.167Z"
   },
   {
    "duration": 8,
    "start_time": "2022-08-06T10:51:43.198Z"
   },
   {
    "duration": 30,
    "start_time": "2022-08-06T10:51:43.209Z"
   },
   {
    "duration": 16,
    "start_time": "2022-08-06T10:51:43.241Z"
   },
   {
    "duration": 55,
    "start_time": "2022-08-06T10:51:43.259Z"
   },
   {
    "duration": 18,
    "start_time": "2022-08-06T10:52:10.253Z"
   },
   {
    "duration": 25,
    "start_time": "2022-08-06T10:52:14.703Z"
   },
   {
    "duration": 11,
    "start_time": "2022-08-06T10:52:18.830Z"
   },
   {
    "duration": 32,
    "start_time": "2022-08-06T10:52:26.750Z"
   },
   {
    "duration": 3,
    "start_time": "2022-08-06T10:52:32.772Z"
   },
   {
    "duration": 11,
    "start_time": "2022-08-06T10:52:41.303Z"
   },
   {
    "duration": 4,
    "start_time": "2022-08-06T10:52:47.048Z"
   },
   {
    "duration": 7,
    "start_time": "2022-08-06T10:52:52.365Z"
   },
   {
    "duration": 7,
    "start_time": "2022-08-06T10:52:58.750Z"
   },
   {
    "duration": 4,
    "start_time": "2022-08-06T10:53:01.606Z"
   },
   {
    "duration": 31,
    "start_time": "2022-08-06T10:53:06.711Z"
   },
   {
    "duration": 4,
    "start_time": "2022-08-06T10:53:12.192Z"
   },
   {
    "duration": 23,
    "start_time": "2022-08-06T10:53:16.140Z"
   },
   {
    "duration": 12,
    "start_time": "2022-08-06T10:53:29.303Z"
   },
   {
    "duration": 11,
    "start_time": "2022-08-06T10:53:34.864Z"
   },
   {
    "duration": 5,
    "start_time": "2022-08-06T10:53:44.506Z"
   },
   {
    "duration": 12,
    "start_time": "2022-08-06T10:53:46.917Z"
   },
   {
    "duration": 12,
    "start_time": "2022-08-06T10:53:52.556Z"
   },
   {
    "duration": 27,
    "start_time": "2022-08-06T10:53:58.109Z"
   },
   {
    "duration": 11,
    "start_time": "2022-08-06T10:54:03.644Z"
   },
   {
    "duration": 10,
    "start_time": "2022-08-06T10:54:26.175Z"
   },
   {
    "duration": 17,
    "start_time": "2022-08-06T10:55:28.202Z"
   },
   {
    "duration": 16,
    "start_time": "2022-08-06T10:55:31.263Z"
   },
   {
    "duration": 10,
    "start_time": "2022-08-06T10:55:34.267Z"
   },
   {
    "duration": 12,
    "start_time": "2022-08-06T10:55:36.969Z"
   },
   {
    "duration": 17,
    "start_time": "2022-08-06T10:55:46.167Z"
   },
   {
    "duration": 13,
    "start_time": "2022-08-06T10:56:21.576Z"
   },
   {
    "duration": 10,
    "start_time": "2022-08-06T10:56:58.200Z"
   },
   {
    "duration": 10,
    "start_time": "2022-08-06T10:57:06.121Z"
   },
   {
    "duration": 4,
    "start_time": "2022-08-06T10:57:14.417Z"
   },
   {
    "duration": 10,
    "start_time": "2022-08-06T10:57:26.027Z"
   },
   {
    "duration": 20,
    "start_time": "2022-08-06T10:58:08.550Z"
   },
   {
    "duration": 3,
    "start_time": "2022-08-06T10:59:43.206Z"
   },
   {
    "duration": 10,
    "start_time": "2022-08-06T10:59:56.243Z"
   },
   {
    "duration": 11,
    "start_time": "2022-08-06T11:00:12.246Z"
   },
   {
    "duration": 19,
    "start_time": "2022-08-06T11:00:26.640Z"
   },
   {
    "duration": 12,
    "start_time": "2022-08-06T11:01:06.980Z"
   },
   {
    "duration": 6,
    "start_time": "2022-08-06T11:01:16.181Z"
   },
   {
    "duration": 3,
    "start_time": "2022-08-06T11:01:33.637Z"
   },
   {
    "duration": 3,
    "start_time": "2022-08-06T11:02:02.788Z"
   },
   {
    "duration": 14,
    "start_time": "2022-08-06T11:02:11.103Z"
   },
   {
    "duration": 11,
    "start_time": "2022-08-06T11:02:26.567Z"
   },
   {
    "duration": 23,
    "start_time": "2022-08-06T11:02:44.325Z"
   },
   {
    "duration": 29,
    "start_time": "2022-08-06T11:03:07.501Z"
   },
   {
    "duration": 25,
    "start_time": "2022-08-06T11:04:44.498Z"
   },
   {
    "duration": 22,
    "start_time": "2022-08-06T11:05:43.339Z"
   },
   {
    "duration": 9,
    "start_time": "2022-08-06T11:06:28.486Z"
   },
   {
    "duration": 12,
    "start_time": "2022-08-06T11:06:54.579Z"
   },
   {
    "duration": 19,
    "start_time": "2022-08-06T11:07:15.386Z"
   },
   {
    "duration": 20,
    "start_time": "2022-08-06T11:08:37.764Z"
   },
   {
    "duration": 9,
    "start_time": "2022-08-06T11:09:40.621Z"
   },
   {
    "duration": 11,
    "start_time": "2022-08-06T11:10:05.658Z"
   },
   {
    "duration": 68,
    "start_time": "2022-08-06T11:10:44.046Z"
   },
   {
    "duration": 15,
    "start_time": "2022-08-06T11:10:44.116Z"
   },
   {
    "duration": 17,
    "start_time": "2022-08-06T11:10:44.132Z"
   },
   {
    "duration": 9,
    "start_time": "2022-08-06T11:10:44.151Z"
   },
   {
    "duration": 54,
    "start_time": "2022-08-06T11:10:44.161Z"
   },
   {
    "duration": 3,
    "start_time": "2022-08-06T11:10:44.216Z"
   },
   {
    "duration": 9,
    "start_time": "2022-08-06T11:10:44.221Z"
   },
   {
    "duration": 5,
    "start_time": "2022-08-06T11:10:44.231Z"
   },
   {
    "duration": 7,
    "start_time": "2022-08-06T11:10:44.237Z"
   },
   {
    "duration": 4,
    "start_time": "2022-08-06T11:10:44.246Z"
   },
   {
    "duration": 55,
    "start_time": "2022-08-06T11:10:44.251Z"
   },
   {
    "duration": 11,
    "start_time": "2022-08-06T11:10:44.307Z"
   },
   {
    "duration": 4,
    "start_time": "2022-08-06T11:10:44.319Z"
   },
   {
    "duration": 18,
    "start_time": "2022-08-06T11:10:44.325Z"
   },
   {
    "duration": 18,
    "start_time": "2022-08-06T11:10:44.344Z"
   },
   {
    "duration": 43,
    "start_time": "2022-08-06T11:10:44.364Z"
   },
   {
    "duration": 4,
    "start_time": "2022-08-06T11:10:44.410Z"
   },
   {
    "duration": 19,
    "start_time": "2022-08-06T11:10:44.417Z"
   },
   {
    "duration": 13,
    "start_time": "2022-08-06T11:10:44.439Z"
   },
   {
    "duration": 9,
    "start_time": "2022-08-06T11:10:44.454Z"
   },
   {
    "duration": 13,
    "start_time": "2022-08-06T11:10:44.465Z"
   },
   {
    "duration": 43,
    "start_time": "2022-08-06T11:10:44.480Z"
   },
   {
    "duration": 27,
    "start_time": "2022-08-06T11:10:44.525Z"
   },
   {
    "duration": 49,
    "start_time": "2022-08-06T11:10:44.554Z"
   },
   {
    "duration": 10,
    "start_time": "2022-08-06T11:10:58.722Z"
   },
   {
    "duration": 15,
    "start_time": "2022-08-06T11:18:40.918Z"
   },
   {
    "duration": 25,
    "start_time": "2022-08-06T11:18:57.312Z"
   },
   {
    "duration": 10,
    "start_time": "2022-08-06T11:19:46.464Z"
   },
   {
    "duration": 3,
    "start_time": "2022-08-06T11:20:12.386Z"
   },
   {
    "duration": 10,
    "start_time": "2022-08-06T11:20:24.247Z"
   },
   {
    "duration": 11,
    "start_time": "2022-08-06T11:20:41.459Z"
   },
   {
    "duration": 11,
    "start_time": "2022-08-06T11:20:59.923Z"
   },
   {
    "duration": 11,
    "start_time": "2022-08-06T11:22:19.258Z"
   },
   {
    "duration": 10,
    "start_time": "2022-08-06T11:22:38.362Z"
   },
   {
    "duration": 73,
    "start_time": "2022-08-06T11:22:54.974Z"
   },
   {
    "duration": 23,
    "start_time": "2022-08-06T11:23:15.004Z"
   },
   {
    "duration": 10,
    "start_time": "2022-08-06T11:24:05.039Z"
   },
   {
    "duration": 20,
    "start_time": "2022-08-06T11:24:42.535Z"
   },
   {
    "duration": 20,
    "start_time": "2022-08-06T11:25:16.088Z"
   },
   {
    "duration": 10,
    "start_time": "2022-08-06T11:26:27.113Z"
   },
   {
    "duration": 17,
    "start_time": "2022-08-06T11:26:41.814Z"
   },
   {
    "duration": 10,
    "start_time": "2022-08-06T11:26:51.673Z"
   },
   {
    "duration": 9,
    "start_time": "2022-08-06T11:27:03.873Z"
   },
   {
    "duration": 19,
    "start_time": "2022-08-06T11:27:30.622Z"
   },
   {
    "duration": 9,
    "start_time": "2022-08-06T11:28:46.627Z"
   },
   {
    "duration": 17,
    "start_time": "2022-08-06T11:29:11.620Z"
   },
   {
    "duration": 10,
    "start_time": "2022-08-06T11:30:13.645Z"
   },
   {
    "duration": 11,
    "start_time": "2022-08-06T11:30:28.578Z"
   },
   {
    "duration": 27,
    "start_time": "2022-08-06T11:31:08.879Z"
   },
   {
    "duration": 27,
    "start_time": "2022-08-06T11:32:28.249Z"
   },
   {
    "duration": 11,
    "start_time": "2022-08-06T11:32:49.139Z"
   },
   {
    "duration": 17,
    "start_time": "2022-08-06T11:33:09.391Z"
   },
   {
    "duration": 28,
    "start_time": "2022-08-06T11:33:22.915Z"
   },
   {
    "duration": 9,
    "start_time": "2022-08-06T11:34:45.914Z"
   },
   {
    "duration": 27,
    "start_time": "2022-08-06T11:35:44.339Z"
   },
   {
    "duration": 22,
    "start_time": "2022-08-06T11:36:25.260Z"
   },
   {
    "duration": 11,
    "start_time": "2022-08-06T11:37:15.937Z"
   },
   {
    "duration": 16,
    "start_time": "2022-08-06T11:37:36.226Z"
   },
   {
    "duration": 26,
    "start_time": "2022-08-06T11:38:47.283Z"
   },
   {
    "duration": 21,
    "start_time": "2022-08-06T11:44:04.973Z"
   },
   {
    "duration": 10,
    "start_time": "2022-08-06T11:44:53.332Z"
   },
   {
    "duration": 23,
    "start_time": "2022-08-06T11:45:18.060Z"
   },
   {
    "duration": 18,
    "start_time": "2022-08-06T11:45:49.894Z"
   },
   {
    "duration": 25,
    "start_time": "2022-08-06T11:46:14.117Z"
   },
   {
    "duration": 8,
    "start_time": "2022-08-06T11:47:01.445Z"
   },
   {
    "duration": 14,
    "start_time": "2022-08-06T11:47:15.193Z"
   },
   {
    "duration": 18,
    "start_time": "2022-08-06T11:47:29.754Z"
   },
   {
    "duration": 19,
    "start_time": "2022-08-06T11:47:53.337Z"
   },
   {
    "duration": 756,
    "start_time": "2022-08-06T11:55:05.895Z"
   },
   {
    "duration": 22,
    "start_time": "2022-08-06T11:56:16.251Z"
   },
   {
    "duration": 16,
    "start_time": "2022-08-06T11:56:41.994Z"
   },
   {
    "duration": 28,
    "start_time": "2022-08-06T11:57:16.248Z"
   },
   {
    "duration": 17,
    "start_time": "2022-08-06T11:58:32.559Z"
   },
   {
    "duration": 19,
    "start_time": "2022-08-06T11:58:51.407Z"
   },
   {
    "duration": 22,
    "start_time": "2022-08-06T11:59:29.633Z"
   },
   {
    "duration": 24,
    "start_time": "2022-08-06T11:59:45.761Z"
   },
   {
    "duration": 25,
    "start_time": "2022-08-06T11:59:56.743Z"
   },
   {
    "duration": 30,
    "start_time": "2022-08-06T12:00:21.026Z"
   },
   {
    "duration": 13,
    "start_time": "2022-08-06T12:04:36.244Z"
   },
   {
    "duration": 13,
    "start_time": "2022-08-06T12:11:39.512Z"
   },
   {
    "duration": 15,
    "start_time": "2022-08-06T12:12:09.315Z"
   },
   {
    "duration": 26,
    "start_time": "2022-08-06T12:13:18.882Z"
   },
   {
    "duration": 15,
    "start_time": "2022-08-06T12:13:48.241Z"
   },
   {
    "duration": 19,
    "start_time": "2022-08-06T12:27:55.950Z"
   },
   {
    "duration": 4,
    "start_time": "2022-08-06T13:31:37.658Z"
   },
   {
    "duration": 18,
    "start_time": "2022-08-06T13:31:52.430Z"
   },
   {
    "duration": 17,
    "start_time": "2022-08-06T13:33:41.424Z"
   },
   {
    "duration": 19,
    "start_time": "2022-08-06T13:34:07.858Z"
   },
   {
    "duration": 21,
    "start_time": "2022-08-06T13:35:15.290Z"
   },
   {
    "duration": 21,
    "start_time": "2022-08-06T13:37:44.342Z"
   },
   {
    "duration": 21,
    "start_time": "2022-08-06T13:38:24.283Z"
   },
   {
    "duration": 699,
    "start_time": "2022-08-06T13:38:38.212Z"
   },
   {
    "duration": 22,
    "start_time": "2022-08-06T13:39:51.271Z"
   },
   {
    "duration": 67,
    "start_time": "2022-08-06T13:40:58.801Z"
   },
   {
    "duration": 15,
    "start_time": "2022-08-06T13:40:58.870Z"
   },
   {
    "duration": 17,
    "start_time": "2022-08-06T13:40:58.886Z"
   },
   {
    "duration": 8,
    "start_time": "2022-08-06T13:40:58.905Z"
   },
   {
    "duration": 34,
    "start_time": "2022-08-06T13:40:58.915Z"
   },
   {
    "duration": 3,
    "start_time": "2022-08-06T13:40:58.951Z"
   },
   {
    "duration": 13,
    "start_time": "2022-08-06T13:40:58.955Z"
   },
   {
    "duration": 6,
    "start_time": "2022-08-06T13:40:58.969Z"
   },
   {
    "duration": 28,
    "start_time": "2022-08-06T13:40:58.976Z"
   },
   {
    "duration": 6,
    "start_time": "2022-08-06T13:40:59.006Z"
   },
   {
    "duration": 34,
    "start_time": "2022-08-06T13:40:59.013Z"
   },
   {
    "duration": 9,
    "start_time": "2022-08-06T13:40:59.049Z"
   },
   {
    "duration": 3,
    "start_time": "2022-08-06T13:40:59.059Z"
   },
   {
    "duration": 35,
    "start_time": "2022-08-06T13:40:59.064Z"
   },
   {
    "duration": 17,
    "start_time": "2022-08-06T13:40:59.100Z"
   },
   {
    "duration": 11,
    "start_time": "2022-08-06T13:40:59.119Z"
   },
   {
    "duration": 5,
    "start_time": "2022-08-06T13:40:59.131Z"
   },
   {
    "duration": 12,
    "start_time": "2022-08-06T13:40:59.137Z"
   },
   {
    "duration": 5,
    "start_time": "2022-08-06T13:40:59.150Z"
   },
   {
    "duration": 8,
    "start_time": "2022-08-06T13:40:59.156Z"
   },
   {
    "duration": 68,
    "start_time": "2022-08-06T13:41:36.486Z"
   },
   {
    "duration": 18,
    "start_time": "2022-08-06T13:41:41.281Z"
   },
   {
    "duration": 14,
    "start_time": "2022-08-06T13:41:51.961Z"
   },
   {
    "duration": 14,
    "start_time": "2022-08-06T13:41:57.383Z"
   },
   {
    "duration": 38,
    "start_time": "2022-08-06T13:42:05.662Z"
   },
   {
    "duration": 70,
    "start_time": "2022-08-06T13:47:38.082Z"
   },
   {
    "duration": 18,
    "start_time": "2022-08-06T13:47:43.989Z"
   },
   {
    "duration": 14,
    "start_time": "2022-08-06T13:47:49.322Z"
   },
   {
    "duration": 11,
    "start_time": "2022-08-06T13:47:55.224Z"
   },
   {
    "duration": 31,
    "start_time": "2022-08-06T13:48:00.249Z"
   },
   {
    "duration": 3,
    "start_time": "2022-08-06T13:48:05.632Z"
   },
   {
    "duration": 7,
    "start_time": "2022-08-06T13:48:09.833Z"
   },
   {
    "duration": 6,
    "start_time": "2022-08-06T13:48:15.042Z"
   },
   {
    "duration": 5,
    "start_time": "2022-08-06T13:48:24.506Z"
   },
   {
    "duration": 6,
    "start_time": "2022-08-06T13:48:27.973Z"
   },
   {
    "duration": 5,
    "start_time": "2022-08-06T13:48:31.965Z"
   },
   {
    "duration": 31,
    "start_time": "2022-08-06T13:48:36.665Z"
   },
   {
    "duration": 9,
    "start_time": "2022-08-06T13:48:41.193Z"
   },
   {
    "duration": 4,
    "start_time": "2022-08-06T13:48:44.774Z"
   },
   {
    "duration": 19,
    "start_time": "2022-08-06T13:48:50.131Z"
   },
   {
    "duration": 19,
    "start_time": "2022-08-06T13:48:52.761Z"
   },
   {
    "duration": 11,
    "start_time": "2022-08-06T13:48:55.681Z"
   },
   {
    "duration": 4,
    "start_time": "2022-08-06T13:49:03.131Z"
   },
   {
    "duration": 9,
    "start_time": "2022-08-06T13:49:08.297Z"
   },
   {
    "duration": 6,
    "start_time": "2022-08-06T13:49:12.618Z"
   },
   {
    "duration": 3,
    "start_time": "2022-08-06T13:49:19.625Z"
   },
   {
    "duration": 8,
    "start_time": "2022-08-06T13:49:23.138Z"
   },
   {
    "duration": 20,
    "start_time": "2022-08-06T13:49:31.296Z"
   },
   {
    "duration": 18,
    "start_time": "2022-08-06T13:53:22.189Z"
   },
   {
    "duration": 14,
    "start_time": "2022-08-06T13:58:05.320Z"
   },
   {
    "duration": 19,
    "start_time": "2022-08-06T14:00:00.459Z"
   },
   {
    "duration": 21,
    "start_time": "2022-08-06T14:04:13.246Z"
   },
   {
    "duration": 17,
    "start_time": "2022-08-06T14:08:06.102Z"
   },
   {
    "duration": 20,
    "start_time": "2022-08-06T14:08:26.555Z"
   },
   {
    "duration": 33,
    "start_time": "2022-08-06T14:10:13.272Z"
   },
   {
    "duration": 31,
    "start_time": "2022-08-06T14:10:44.442Z"
   },
   {
    "duration": 26,
    "start_time": "2022-08-06T14:11:17.476Z"
   },
   {
    "duration": 19,
    "start_time": "2022-08-06T14:12:11.074Z"
   },
   {
    "duration": 13,
    "start_time": "2022-08-06T14:14:27.020Z"
   },
   {
    "duration": 22,
    "start_time": "2022-08-06T14:14:48.243Z"
   },
   {
    "duration": 20,
    "start_time": "2022-08-06T14:16:00.732Z"
   },
   {
    "duration": 16,
    "start_time": "2022-08-06T14:16:43.283Z"
   },
   {
    "duration": 28,
    "start_time": "2022-08-06T14:17:00.188Z"
   },
   {
    "duration": 16,
    "start_time": "2022-08-06T14:20:01.130Z"
   },
   {
    "duration": 19,
    "start_time": "2022-08-06T14:20:52.983Z"
   },
   {
    "duration": 15,
    "start_time": "2022-08-06T14:21:44.368Z"
   },
   {
    "duration": 13,
    "start_time": "2022-08-06T14:22:47.208Z"
   },
   {
    "duration": 15,
    "start_time": "2022-08-06T14:23:31.994Z"
   },
   {
    "duration": 15,
    "start_time": "2022-08-06T14:28:48.709Z"
   },
   {
    "duration": 14,
    "start_time": "2022-08-06T14:29:22.149Z"
   },
   {
    "duration": 24,
    "start_time": "2022-08-06T14:30:03.541Z"
   },
   {
    "duration": 35,
    "start_time": "2022-08-06T14:31:54.639Z"
   },
   {
    "duration": 15,
    "start_time": "2022-08-06T14:32:51.431Z"
   },
   {
    "duration": 15,
    "start_time": "2022-08-06T14:34:48.797Z"
   },
   {
    "duration": 24,
    "start_time": "2022-08-06T14:37:36.456Z"
   },
   {
    "duration": 10,
    "start_time": "2022-08-06T14:39:30.474Z"
   },
   {
    "duration": 12,
    "start_time": "2022-08-06T14:39:41.666Z"
   },
   {
    "duration": 21,
    "start_time": "2022-08-06T14:40:03.049Z"
   },
   {
    "duration": 20,
    "start_time": "2022-08-06T14:40:26.891Z"
   },
   {
    "duration": 21,
    "start_time": "2022-08-06T14:41:08.252Z"
   },
   {
    "duration": 492,
    "start_time": "2022-08-06T16:20:57.250Z"
   },
   {
    "duration": 23,
    "start_time": "2022-08-06T16:20:57.744Z"
   },
   {
    "duration": 16,
    "start_time": "2022-08-06T16:20:57.768Z"
   },
   {
    "duration": 13,
    "start_time": "2022-08-06T16:20:57.786Z"
   },
   {
    "duration": 39,
    "start_time": "2022-08-06T16:20:57.801Z"
   },
   {
    "duration": 4,
    "start_time": "2022-08-06T16:20:57.841Z"
   },
   {
    "duration": 8,
    "start_time": "2022-08-06T16:20:57.867Z"
   },
   {
    "duration": 4,
    "start_time": "2022-08-06T16:20:57.877Z"
   },
   {
    "duration": 9,
    "start_time": "2022-08-06T16:20:57.882Z"
   },
   {
    "duration": 4,
    "start_time": "2022-08-06T16:20:57.893Z"
   },
   {
    "duration": 35,
    "start_time": "2022-08-06T16:20:57.899Z"
   },
   {
    "duration": 37,
    "start_time": "2022-08-06T16:20:57.936Z"
   },
   {
    "duration": 5,
    "start_time": "2022-08-06T16:20:57.974Z"
   },
   {
    "duration": 20,
    "start_time": "2022-08-06T16:20:57.980Z"
   },
   {
    "duration": 17,
    "start_time": "2022-08-06T16:20:58.002Z"
   },
   {
    "duration": 10,
    "start_time": "2022-08-06T16:20:58.021Z"
   },
   {
    "duration": 35,
    "start_time": "2022-08-06T16:20:58.033Z"
   },
   {
    "duration": 13,
    "start_time": "2022-08-06T16:20:58.070Z"
   },
   {
    "duration": 6,
    "start_time": "2022-08-06T16:20:58.085Z"
   },
   {
    "duration": 4,
    "start_time": "2022-08-06T16:20:58.093Z"
   },
   {
    "duration": 10,
    "start_time": "2022-08-06T16:20:58.099Z"
   },
   {
    "duration": 22,
    "start_time": "2022-08-06T16:20:58.111Z"
   },
   {
    "duration": 130,
    "start_time": "2022-08-06T16:20:58.167Z"
   },
   {
    "duration": 0,
    "start_time": "2022-08-06T16:20:58.299Z"
   },
   {
    "duration": 0,
    "start_time": "2022-08-06T16:20:58.301Z"
   },
   {
    "duration": 0,
    "start_time": "2022-08-06T16:20:58.302Z"
   },
   {
    "duration": 504,
    "start_time": "2022-08-06T16:21:34.265Z"
   },
   {
    "duration": 26,
    "start_time": "2022-08-06T16:21:34.772Z"
   },
   {
    "duration": 17,
    "start_time": "2022-08-06T16:21:34.800Z"
   },
   {
    "duration": 9,
    "start_time": "2022-08-06T16:21:34.820Z"
   },
   {
    "duration": 61,
    "start_time": "2022-08-06T16:21:34.831Z"
   },
   {
    "duration": 4,
    "start_time": "2022-08-06T16:21:34.893Z"
   },
   {
    "duration": 14,
    "start_time": "2022-08-06T16:21:34.899Z"
   },
   {
    "duration": 5,
    "start_time": "2022-08-06T16:21:34.914Z"
   },
   {
    "duration": 13,
    "start_time": "2022-08-06T16:21:34.921Z"
   },
   {
    "duration": 5,
    "start_time": "2022-08-06T16:21:34.937Z"
   },
   {
    "duration": 58,
    "start_time": "2022-08-06T16:21:34.943Z"
   },
   {
    "duration": 10,
    "start_time": "2022-08-06T16:21:35.003Z"
   },
   {
    "duration": 6,
    "start_time": "2022-08-06T16:21:35.015Z"
   },
   {
    "duration": 46,
    "start_time": "2022-08-06T16:21:35.023Z"
   },
   {
    "duration": 18,
    "start_time": "2022-08-06T16:21:35.070Z"
   },
   {
    "duration": 11,
    "start_time": "2022-08-06T16:21:35.090Z"
   },
   {
    "duration": 5,
    "start_time": "2022-08-06T16:21:35.103Z"
   },
   {
    "duration": 13,
    "start_time": "2022-08-06T16:21:35.110Z"
   },
   {
    "duration": 6,
    "start_time": "2022-08-06T16:21:35.125Z"
   },
   {
    "duration": 4,
    "start_time": "2022-08-06T16:21:35.133Z"
   },
   {
    "duration": 44,
    "start_time": "2022-08-06T16:21:35.138Z"
   },
   {
    "duration": 28,
    "start_time": "2022-08-06T16:21:35.184Z"
   },
   {
    "duration": 19,
    "start_time": "2022-08-06T16:21:35.213Z"
   },
   {
    "duration": 93,
    "start_time": "2022-08-06T16:21:35.234Z"
   },
   {
    "duration": 0,
    "start_time": "2022-08-06T16:21:35.330Z"
   },
   {
    "duration": 517,
    "start_time": "2022-08-06T16:23:48.038Z"
   },
   {
    "duration": 24,
    "start_time": "2022-08-06T16:23:48.557Z"
   },
   {
    "duration": 16,
    "start_time": "2022-08-06T16:23:48.583Z"
   },
   {
    "duration": 10,
    "start_time": "2022-08-06T16:23:48.601Z"
   },
   {
    "duration": 57,
    "start_time": "2022-08-06T16:23:48.613Z"
   },
   {
    "duration": 3,
    "start_time": "2022-08-06T16:23:48.672Z"
   },
   {
    "duration": 13,
    "start_time": "2022-08-06T16:23:48.677Z"
   },
   {
    "duration": 4,
    "start_time": "2022-08-06T16:23:48.692Z"
   },
   {
    "duration": 9,
    "start_time": "2022-08-06T16:23:48.698Z"
   },
   {
    "duration": 4,
    "start_time": "2022-08-06T16:23:48.709Z"
   },
   {
    "duration": 64,
    "start_time": "2022-08-06T16:23:48.715Z"
   },
   {
    "duration": 10,
    "start_time": "2022-08-06T16:23:48.780Z"
   },
   {
    "duration": 4,
    "start_time": "2022-08-06T16:23:48.792Z"
   },
   {
    "duration": 21,
    "start_time": "2022-08-06T16:23:48.797Z"
   },
   {
    "duration": 18,
    "start_time": "2022-08-06T16:23:48.819Z"
   },
   {
    "duration": 39,
    "start_time": "2022-08-06T16:23:48.839Z"
   },
   {
    "duration": 6,
    "start_time": "2022-08-06T16:23:48.879Z"
   },
   {
    "duration": 15,
    "start_time": "2022-08-06T16:23:48.887Z"
   },
   {
    "duration": 9,
    "start_time": "2022-08-06T16:23:48.903Z"
   },
   {
    "duration": 3,
    "start_time": "2022-08-06T16:23:48.914Z"
   },
   {
    "duration": 11,
    "start_time": "2022-08-06T16:23:48.919Z"
   },
   {
    "duration": 44,
    "start_time": "2022-08-06T16:23:48.932Z"
   },
   {
    "duration": 18,
    "start_time": "2022-08-06T16:23:48.978Z"
   },
   {
    "duration": 86,
    "start_time": "2022-08-06T16:23:48.998Z"
   },
   {
    "duration": 0,
    "start_time": "2022-08-06T16:23:49.085Z"
   },
   {
    "duration": 12,
    "start_time": "2022-08-06T16:41:23.015Z"
   },
   {
    "duration": 31,
    "start_time": "2022-08-06T16:41:41.196Z"
   },
   {
    "duration": 9,
    "start_time": "2022-08-07T10:11:48.583Z"
   },
   {
    "duration": 49,
    "start_time": "2022-08-07T10:14:58.928Z"
   },
   {
    "duration": 11,
    "start_time": "2022-08-07T10:19:21.050Z"
   },
   {
    "duration": 8,
    "start_time": "2022-08-07T10:22:07.012Z"
   },
   {
    "duration": 9,
    "start_time": "2022-08-07T10:23:05.548Z"
   },
   {
    "duration": 7,
    "start_time": "2022-08-07T10:23:26.102Z"
   },
   {
    "duration": 584,
    "start_time": "2022-08-07T10:24:15.500Z"
   },
   {
    "duration": 27,
    "start_time": "2022-08-07T10:24:19.409Z"
   },
   {
    "duration": 19,
    "start_time": "2022-08-07T10:24:25.325Z"
   },
   {
    "duration": 12,
    "start_time": "2022-08-07T10:24:30.238Z"
   },
   {
    "duration": 38,
    "start_time": "2022-08-07T10:24:34.966Z"
   },
   {
    "duration": 4,
    "start_time": "2022-08-07T10:24:38.726Z"
   },
   {
    "duration": 10,
    "start_time": "2022-08-07T10:24:43.316Z"
   },
   {
    "duration": 7,
    "start_time": "2022-08-07T10:24:47.543Z"
   },
   {
    "duration": 25,
    "start_time": "2022-08-07T10:24:54.070Z"
   },
   {
    "duration": 4,
    "start_time": "2022-08-07T10:24:59.145Z"
   },
   {
    "duration": 37,
    "start_time": "2022-08-07T10:25:03.293Z"
   },
   {
    "duration": 4,
    "start_time": "2022-08-07T10:25:08.551Z"
   },
   {
    "duration": 33,
    "start_time": "2022-08-07T10:25:12.869Z"
   },
   {
    "duration": 29,
    "start_time": "2022-08-07T10:25:16.246Z"
   },
   {
    "duration": 13,
    "start_time": "2022-08-07T10:25:20.614Z"
   },
   {
    "duration": 4,
    "start_time": "2022-08-07T10:25:30.001Z"
   },
   {
    "duration": 19,
    "start_time": "2022-08-07T10:25:37.700Z"
   },
   {
    "duration": 7,
    "start_time": "2022-08-07T10:25:58.559Z"
   },
   {
    "duration": 4,
    "start_time": "2022-08-07T10:26:20.937Z"
   },
   {
    "duration": 10,
    "start_time": "2022-08-07T10:26:27.110Z"
   },
   {
    "duration": 35,
    "start_time": "2022-08-07T10:26:48.726Z"
   },
   {
    "duration": 1164,
    "start_time": "2022-08-07T10:26:57.494Z"
   },
   {
    "duration": 32,
    "start_time": "2022-08-07T10:27:52.608Z"
   },
   {
    "duration": 23,
    "start_time": "2022-08-07T10:30:20.716Z"
   },
   {
    "duration": 22,
    "start_time": "2022-08-07T10:30:53.129Z"
   },
   {
    "duration": 35,
    "start_time": "2022-08-07T10:31:06.266Z"
   },
   {
    "duration": 29,
    "start_time": "2022-08-07T10:31:50.227Z"
   },
   {
    "duration": 54,
    "start_time": "2022-08-07T10:33:23.555Z"
   },
   {
    "duration": 35,
    "start_time": "2022-08-07T10:33:42.842Z"
   },
   {
    "duration": 37,
    "start_time": "2022-08-07T10:34:09.387Z"
   },
   {
    "duration": 13,
    "start_time": "2022-08-07T10:34:25.747Z"
   },
   {
    "duration": 44,
    "start_time": "2022-08-07T10:34:47.149Z"
   },
   {
    "duration": 19,
    "start_time": "2022-08-07T10:35:21.379Z"
   },
   {
    "duration": 20,
    "start_time": "2022-08-07T10:36:03.342Z"
   },
   {
    "duration": 73,
    "start_time": "2022-08-07T10:36:31.034Z"
   },
   {
    "duration": 76,
    "start_time": "2022-08-07T10:36:34.741Z"
   },
   {
    "duration": 101,
    "start_time": "2022-08-07T10:37:18.309Z"
   },
   {
    "duration": 74,
    "start_time": "2022-08-07T10:37:44.308Z"
   },
   {
    "duration": 87,
    "start_time": "2022-08-07T10:37:51.036Z"
   },
   {
    "duration": 17,
    "start_time": "2022-08-07T10:38:07.626Z"
   },
   {
    "duration": 37,
    "start_time": "2022-08-07T10:38:31.982Z"
   },
   {
    "duration": 13,
    "start_time": "2022-08-07T10:38:39.327Z"
   },
   {
    "duration": 35,
    "start_time": "2022-08-07T10:39:10.469Z"
   },
   {
    "duration": 14,
    "start_time": "2022-08-07T10:39:25.311Z"
   },
   {
    "duration": 4,
    "start_time": "2022-08-07T10:39:32.734Z"
   },
   {
    "duration": 28,
    "start_time": "2022-08-07T10:40:02.151Z"
   },
   {
    "duration": 10,
    "start_time": "2022-08-07T10:40:15.751Z"
   },
   {
    "duration": 12,
    "start_time": "2022-08-07T10:40:30.895Z"
   },
   {
    "duration": 25,
    "start_time": "2022-08-07T10:40:46.985Z"
   },
   {
    "duration": 7,
    "start_time": "2022-08-07T10:41:59.168Z"
   },
   {
    "duration": 22,
    "start_time": "2022-08-07T10:42:09.986Z"
   },
   {
    "duration": 38,
    "start_time": "2022-08-07T10:42:29.839Z"
   },
   {
    "duration": 24,
    "start_time": "2022-08-07T10:45:44.589Z"
   },
   {
    "duration": 7,
    "start_time": "2022-08-07T10:46:01.820Z"
   },
   {
    "duration": 43,
    "start_time": "2022-08-07T10:46:33.932Z"
   },
   {
    "duration": 35,
    "start_time": "2022-08-07T10:46:49.706Z"
   },
   {
    "duration": 37,
    "start_time": "2022-08-07T10:47:09.347Z"
   },
   {
    "duration": 34,
    "start_time": "2022-08-07T10:47:28.483Z"
   },
   {
    "duration": 15,
    "start_time": "2022-08-07T10:47:38.883Z"
   },
   {
    "duration": 14,
    "start_time": "2022-08-07T10:47:43.074Z"
   },
   {
    "duration": 14,
    "start_time": "2022-08-07T10:47:47.530Z"
   },
   {
    "duration": 33,
    "start_time": "2022-08-07T10:48:01.388Z"
   },
   {
    "duration": 20,
    "start_time": "2022-08-07T10:48:40.182Z"
   },
   {
    "duration": 100,
    "start_time": "2022-08-07T10:48:57.061Z"
   },
   {
    "duration": 16,
    "start_time": "2022-08-07T10:49:10.975Z"
   },
   {
    "duration": 12,
    "start_time": "2022-08-07T10:49:23.703Z"
   },
   {
    "duration": 13,
    "start_time": "2022-08-07T10:49:35.533Z"
   },
   {
    "duration": 3,
    "start_time": "2022-08-07T10:49:55.524Z"
   },
   {
    "duration": 10,
    "start_time": "2022-08-07T10:50:05.357Z"
   },
   {
    "duration": 37,
    "start_time": "2022-08-07T10:50:16.365Z"
   },
   {
    "duration": 25,
    "start_time": "2022-08-07T10:50:33.455Z"
   },
   {
    "duration": 77,
    "start_time": "2022-08-07T10:50:57.111Z"
   },
   {
    "duration": 19,
    "start_time": "2022-08-07T10:50:57.191Z"
   },
   {
    "duration": 16,
    "start_time": "2022-08-07T10:50:57.212Z"
   },
   {
    "duration": 10,
    "start_time": "2022-08-07T10:50:57.231Z"
   },
   {
    "duration": 68,
    "start_time": "2022-08-07T10:50:57.243Z"
   },
   {
    "duration": 3,
    "start_time": "2022-08-07T10:50:57.313Z"
   },
   {
    "duration": 15,
    "start_time": "2022-08-07T10:50:57.318Z"
   },
   {
    "duration": 5,
    "start_time": "2022-08-07T10:50:57.335Z"
   },
   {
    "duration": 7,
    "start_time": "2022-08-07T10:50:57.342Z"
   },
   {
    "duration": 5,
    "start_time": "2022-08-07T10:50:57.353Z"
   },
   {
    "duration": 72,
    "start_time": "2022-08-07T10:50:57.360Z"
   },
   {
    "duration": 11,
    "start_time": "2022-08-07T10:50:57.434Z"
   },
   {
    "duration": 4,
    "start_time": "2022-08-07T10:50:57.446Z"
   },
   {
    "duration": 22,
    "start_time": "2022-08-07T10:50:57.452Z"
   },
   {
    "duration": 28,
    "start_time": "2022-08-07T10:50:57.492Z"
   },
   {
    "duration": 12,
    "start_time": "2022-08-07T10:50:57.522Z"
   },
   {
    "duration": 4,
    "start_time": "2022-08-07T10:50:57.535Z"
   },
   {
    "duration": 15,
    "start_time": "2022-08-07T10:50:57.541Z"
   },
   {
    "duration": 6,
    "start_time": "2022-08-07T10:50:57.558Z"
   },
   {
    "duration": 39,
    "start_time": "2022-08-07T10:50:57.566Z"
   },
   {
    "duration": 11,
    "start_time": "2022-08-07T10:50:57.607Z"
   },
   {
    "duration": 38,
    "start_time": "2022-08-07T10:51:10.167Z"
   },
   {
    "duration": 19,
    "start_time": "2022-08-07T10:51:22.604Z"
   },
   {
    "duration": 42,
    "start_time": "2022-08-07T10:51:36.983Z"
   },
   {
    "duration": 76,
    "start_time": "2022-08-07T10:51:47.690Z"
   },
   {
    "duration": 15,
    "start_time": "2022-08-07T10:51:47.768Z"
   },
   {
    "duration": 24,
    "start_time": "2022-08-07T10:51:47.785Z"
   },
   {
    "duration": 11,
    "start_time": "2022-08-07T10:51:47.811Z"
   },
   {
    "duration": 36,
    "start_time": "2022-08-07T10:51:47.824Z"
   },
   {
    "duration": 3,
    "start_time": "2022-08-07T10:51:47.862Z"
   },
   {
    "duration": 40,
    "start_time": "2022-08-07T10:51:47.867Z"
   },
   {
    "duration": 7,
    "start_time": "2022-08-07T10:51:47.909Z"
   },
   {
    "duration": 9,
    "start_time": "2022-08-07T10:51:47.918Z"
   },
   {
    "duration": 5,
    "start_time": "2022-08-07T10:51:47.930Z"
   },
   {
    "duration": 69,
    "start_time": "2022-08-07T10:51:47.937Z"
   },
   {
    "duration": 12,
    "start_time": "2022-08-07T10:51:48.009Z"
   },
   {
    "duration": 18,
    "start_time": "2022-08-07T10:51:48.022Z"
   },
   {
    "duration": 43,
    "start_time": "2022-08-07T10:51:48.042Z"
   },
   {
    "duration": 29,
    "start_time": "2022-08-07T10:51:48.087Z"
   },
   {
    "duration": 13,
    "start_time": "2022-08-07T10:51:48.118Z"
   },
   {
    "duration": 10,
    "start_time": "2022-08-07T10:51:48.132Z"
   },
   {
    "duration": 20,
    "start_time": "2022-08-07T10:51:48.144Z"
   },
   {
    "duration": 14,
    "start_time": "2022-08-07T10:51:48.166Z"
   },
   {
    "duration": 22,
    "start_time": "2022-08-07T10:51:48.182Z"
   },
   {
    "duration": 40,
    "start_time": "2022-08-07T10:51:48.206Z"
   },
   {
    "duration": 31,
    "start_time": "2022-08-07T10:51:48.248Z"
   },
   {
    "duration": 46,
    "start_time": "2022-08-07T10:51:52.687Z"
   },
   {
    "duration": 26,
    "start_time": "2022-08-07T10:52:08.245Z"
   },
   {
    "duration": 39,
    "start_time": "2022-08-07T10:52:22.975Z"
   },
   {
    "duration": 14,
    "start_time": "2022-08-07T10:52:31.960Z"
   },
   {
    "duration": 98,
    "start_time": "2022-08-07T10:52:35.273Z"
   },
   {
    "duration": 27,
    "start_time": "2022-08-07T10:52:35.373Z"
   },
   {
    "duration": 32,
    "start_time": "2022-08-07T10:52:35.401Z"
   },
   {
    "duration": 12,
    "start_time": "2022-08-07T10:52:35.436Z"
   },
   {
    "duration": 55,
    "start_time": "2022-08-07T10:52:35.450Z"
   },
   {
    "duration": 6,
    "start_time": "2022-08-07T10:52:35.506Z"
   },
   {
    "duration": 14,
    "start_time": "2022-08-07T10:52:35.514Z"
   },
   {
    "duration": 5,
    "start_time": "2022-08-07T10:52:35.531Z"
   },
   {
    "duration": 9,
    "start_time": "2022-08-07T10:52:35.539Z"
   },
   {
    "duration": 6,
    "start_time": "2022-08-07T10:52:35.552Z"
   },
   {
    "duration": 73,
    "start_time": "2022-08-07T10:52:35.561Z"
   },
   {
    "duration": 10,
    "start_time": "2022-08-07T10:52:35.636Z"
   },
   {
    "duration": 11,
    "start_time": "2022-08-07T10:52:35.648Z"
   },
   {
    "duration": 36,
    "start_time": "2022-08-07T10:52:35.661Z"
   },
   {
    "duration": 20,
    "start_time": "2022-08-07T10:52:35.705Z"
   },
   {
    "duration": 31,
    "start_time": "2022-08-07T10:52:35.727Z"
   },
   {
    "duration": 18,
    "start_time": "2022-08-07T10:52:35.759Z"
   },
   {
    "duration": 35,
    "start_time": "2022-08-07T10:52:35.779Z"
   },
   {
    "duration": 10,
    "start_time": "2022-08-07T10:52:35.815Z"
   },
   {
    "duration": 3,
    "start_time": "2022-08-07T10:52:35.827Z"
   },
   {
    "duration": 19,
    "start_time": "2022-08-07T10:52:35.832Z"
   },
   {
    "duration": 38,
    "start_time": "2022-08-07T10:52:47.248Z"
   },
   {
    "duration": 41,
    "start_time": "2022-08-07T10:53:09.423Z"
   },
   {
    "duration": 43,
    "start_time": "2022-08-07T10:53:21.480Z"
   },
   {
    "duration": 80,
    "start_time": "2022-08-07T10:53:50.137Z"
   },
   {
    "duration": 18,
    "start_time": "2022-08-07T10:53:50.219Z"
   },
   {
    "duration": 29,
    "start_time": "2022-08-07T10:53:50.239Z"
   },
   {
    "duration": 36,
    "start_time": "2022-08-07T10:53:50.271Z"
   },
   {
    "duration": 55,
    "start_time": "2022-08-07T10:53:50.309Z"
   },
   {
    "duration": 4,
    "start_time": "2022-08-07T10:53:50.366Z"
   },
   {
    "duration": 23,
    "start_time": "2022-08-07T10:53:50.372Z"
   },
   {
    "duration": 19,
    "start_time": "2022-08-07T10:53:50.397Z"
   },
   {
    "duration": 21,
    "start_time": "2022-08-07T10:53:50.417Z"
   },
   {
    "duration": 14,
    "start_time": "2022-08-07T10:53:50.440Z"
   },
   {
    "duration": 55,
    "start_time": "2022-08-07T10:53:50.455Z"
   },
   {
    "duration": 12,
    "start_time": "2022-08-07T10:53:50.512Z"
   },
   {
    "duration": 15,
    "start_time": "2022-08-07T10:53:50.526Z"
   },
   {
    "duration": 31,
    "start_time": "2022-08-07T10:53:50.543Z"
   },
   {
    "duration": 30,
    "start_time": "2022-08-07T10:53:50.577Z"
   },
   {
    "duration": 13,
    "start_time": "2022-08-07T10:53:50.609Z"
   },
   {
    "duration": 9,
    "start_time": "2022-08-07T10:53:50.623Z"
   },
   {
    "duration": 22,
    "start_time": "2022-08-07T10:53:50.634Z"
   },
   {
    "duration": 17,
    "start_time": "2022-08-07T10:53:50.658Z"
   },
   {
    "duration": 30,
    "start_time": "2022-08-07T10:53:50.677Z"
   },
   {
    "duration": 13,
    "start_time": "2022-08-07T10:53:50.709Z"
   },
   {
    "duration": 70,
    "start_time": "2022-08-07T10:53:50.724Z"
   },
   {
    "duration": 25,
    "start_time": "2022-08-07T10:53:58.831Z"
   },
   {
    "duration": 6,
    "start_time": "2022-08-07T10:54:19.136Z"
   },
   {
    "duration": 5,
    "start_time": "2022-08-07T10:54:34.411Z"
   },
   {
    "duration": 8,
    "start_time": "2022-08-07T10:54:47.576Z"
   },
   {
    "duration": 16,
    "start_time": "2022-08-07T10:54:53.204Z"
   },
   {
    "duration": 9,
    "start_time": "2022-08-07T10:55:23.154Z"
   },
   {
    "duration": 10,
    "start_time": "2022-08-07T10:55:46.751Z"
   },
   {
    "duration": 18,
    "start_time": "2022-08-07T10:55:55.346Z"
   },
   {
    "duration": 16,
    "start_time": "2022-08-07T11:03:35.137Z"
   },
   {
    "duration": 1212,
    "start_time": "2022-08-07T11:03:56.309Z"
   },
   {
    "duration": 10,
    "start_time": "2022-08-07T11:05:32.639Z"
   },
   {
    "duration": 1186,
    "start_time": "2022-08-07T11:08:30.284Z"
   },
   {
    "duration": 1219,
    "start_time": "2022-08-07T11:09:27.557Z"
   },
   {
    "duration": 1347,
    "start_time": "2022-08-07T11:10:23.697Z"
   },
   {
    "duration": 28,
    "start_time": "2022-08-07T11:11:26.754Z"
   },
   {
    "duration": 1179,
    "start_time": "2022-08-07T11:12:26.499Z"
   },
   {
    "duration": 41,
    "start_time": "2022-08-07T11:13:07.770Z"
   },
   {
    "duration": 18,
    "start_time": "2022-08-07T11:14:20.189Z"
   },
   {
    "duration": 26,
    "start_time": "2022-08-07T11:15:24.453Z"
   },
   {
    "duration": 18,
    "start_time": "2022-08-07T11:16:56.807Z"
   },
   {
    "duration": 12,
    "start_time": "2022-08-07T11:17:40.598Z"
   },
   {
    "duration": 25,
    "start_time": "2022-08-07T11:19:15.647Z"
   },
   {
    "duration": 34,
    "start_time": "2022-08-07T11:20:04.775Z"
   },
   {
    "duration": 37,
    "start_time": "2022-08-07T11:21:09.081Z"
   },
   {
    "duration": 24,
    "start_time": "2022-08-07T11:22:06.282Z"
   },
   {
    "duration": 20,
    "start_time": "2022-08-07T11:23:05.058Z"
   },
   {
    "duration": 45,
    "start_time": "2022-08-07T11:23:31.914Z"
   },
   {
    "duration": 31,
    "start_time": "2022-08-07T11:24:02.914Z"
   },
   {
    "duration": 15,
    "start_time": "2022-08-07T11:24:18.224Z"
   },
   {
    "duration": 32,
    "start_time": "2022-08-07T11:25:38.055Z"
   },
   {
    "duration": 74,
    "start_time": "2022-08-07T11:25:56.822Z"
   },
   {
    "duration": 16,
    "start_time": "2022-08-07T11:25:56.899Z"
   },
   {
    "duration": 17,
    "start_time": "2022-08-07T11:25:56.917Z"
   },
   {
    "duration": 11,
    "start_time": "2022-08-07T11:25:56.936Z"
   },
   {
    "duration": 58,
    "start_time": "2022-08-07T11:25:56.948Z"
   },
   {
    "duration": 4,
    "start_time": "2022-08-07T11:25:57.008Z"
   },
   {
    "duration": 13,
    "start_time": "2022-08-07T11:25:57.014Z"
   },
   {
    "duration": 5,
    "start_time": "2022-08-07T11:25:57.029Z"
   },
   {
    "duration": 8,
    "start_time": "2022-08-07T11:25:57.036Z"
   },
   {
    "duration": 5,
    "start_time": "2022-08-07T11:25:57.046Z"
   },
   {
    "duration": 65,
    "start_time": "2022-08-07T11:25:57.053Z"
   },
   {
    "duration": 12,
    "start_time": "2022-08-07T11:25:57.119Z"
   },
   {
    "duration": 5,
    "start_time": "2022-08-07T11:25:57.132Z"
   },
   {
    "duration": 26,
    "start_time": "2022-08-07T11:25:57.139Z"
   },
   {
    "duration": 39,
    "start_time": "2022-08-07T11:25:57.167Z"
   },
   {
    "duration": 13,
    "start_time": "2022-08-07T11:25:57.208Z"
   },
   {
    "duration": 4,
    "start_time": "2022-08-07T11:25:57.223Z"
   },
   {
    "duration": 26,
    "start_time": "2022-08-07T11:25:57.229Z"
   },
   {
    "duration": 13,
    "start_time": "2022-08-07T11:25:57.257Z"
   },
   {
    "duration": 5,
    "start_time": "2022-08-07T11:25:57.272Z"
   },
   {
    "duration": 37,
    "start_time": "2022-08-07T11:25:57.279Z"
   },
   {
    "duration": 48,
    "start_time": "2022-08-07T11:25:57.318Z"
   },
   {
    "duration": 15,
    "start_time": "2022-08-07T11:25:57.368Z"
   },
   {
    "duration": 33,
    "start_time": "2022-08-07T11:26:01.316Z"
   },
   {
    "duration": 18,
    "start_time": "2022-08-07T11:26:38.707Z"
   },
   {
    "duration": 18,
    "start_time": "2022-08-07T11:26:52.764Z"
   },
   {
    "duration": 29,
    "start_time": "2022-08-07T11:27:59.151Z"
   },
   {
    "duration": 19,
    "start_time": "2022-08-07T11:28:40.895Z"
   },
   {
    "duration": 19,
    "start_time": "2022-08-07T11:28:59.152Z"
   },
   {
    "duration": 95,
    "start_time": "2022-08-07T11:30:01.651Z"
   },
   {
    "duration": 18,
    "start_time": "2022-08-07T11:30:53.438Z"
   },
   {
    "duration": 33,
    "start_time": "2022-08-07T11:32:02.350Z"
   },
   {
    "duration": 47,
    "start_time": "2022-08-07T11:34:56.186Z"
   },
   {
    "duration": 42,
    "start_time": "2022-08-07T11:35:18.668Z"
   },
   {
    "duration": 2962,
    "start_time": "2022-08-07T11:35:42.635Z"
   },
   {
    "duration": 34,
    "start_time": "2022-08-07T11:39:38.717Z"
   },
   {
    "duration": 31,
    "start_time": "2022-08-07T11:40:08.559Z"
   },
   {
    "duration": 50,
    "start_time": "2022-08-07T11:40:27.137Z"
   },
   {
    "duration": 33,
    "start_time": "2022-08-07T11:41:00.504Z"
   },
   {
    "duration": 18,
    "start_time": "2022-08-07T11:41:43.269Z"
   },
   {
    "duration": 16,
    "start_time": "2022-08-07T11:41:58.289Z"
   },
   {
    "duration": 18,
    "start_time": "2022-08-07T11:45:57.126Z"
   },
   {
    "duration": 76,
    "start_time": "2022-08-07T11:46:00.796Z"
   },
   {
    "duration": 19,
    "start_time": "2022-08-07T11:46:00.874Z"
   },
   {
    "duration": 29,
    "start_time": "2022-08-07T11:46:00.895Z"
   },
   {
    "duration": 30,
    "start_time": "2022-08-07T11:46:00.927Z"
   },
   {
    "duration": 52,
    "start_time": "2022-08-07T11:46:00.959Z"
   },
   {
    "duration": 4,
    "start_time": "2022-08-07T11:46:01.013Z"
   },
   {
    "duration": 46,
    "start_time": "2022-08-07T11:46:01.018Z"
   },
   {
    "duration": 59,
    "start_time": "2022-08-07T11:46:01.066Z"
   },
   {
    "duration": 12,
    "start_time": "2022-08-07T11:46:01.127Z"
   },
   {
    "duration": 29,
    "start_time": "2022-08-07T11:46:01.142Z"
   },
   {
    "duration": 79,
    "start_time": "2022-08-07T11:46:01.172Z"
   },
   {
    "duration": 25,
    "start_time": "2022-08-07T11:46:01.253Z"
   },
   {
    "duration": 33,
    "start_time": "2022-08-07T11:46:01.280Z"
   },
   {
    "duration": 40,
    "start_time": "2022-08-07T11:46:01.315Z"
   },
   {
    "duration": 27,
    "start_time": "2022-08-07T11:46:01.356Z"
   },
   {
    "duration": 32,
    "start_time": "2022-08-07T11:46:01.386Z"
   },
   {
    "duration": 123,
    "start_time": "2022-08-07T11:46:01.420Z"
   },
   {
    "duration": 80,
    "start_time": "2022-08-07T11:46:01.546Z"
   },
   {
    "duration": 35,
    "start_time": "2022-08-07T11:46:01.628Z"
   },
   {
    "duration": 10,
    "start_time": "2022-08-07T11:46:01.665Z"
   },
   {
    "duration": 17,
    "start_time": "2022-08-07T11:46:01.676Z"
   },
   {
    "duration": 101,
    "start_time": "2022-08-07T11:46:01.695Z"
   },
   {
    "duration": 23,
    "start_time": "2022-08-07T11:46:01.798Z"
   },
   {
    "duration": 1241,
    "start_time": "2022-08-07T11:46:01.823Z"
   },
   {
    "duration": 0,
    "start_time": "2022-08-07T11:46:03.066Z"
   },
   {
    "duration": 77,
    "start_time": "2022-08-07T11:46:39.407Z"
   },
   {
    "duration": 16,
    "start_time": "2022-08-07T11:46:43.121Z"
   },
   {
    "duration": 17,
    "start_time": "2022-08-07T11:46:47.713Z"
   },
   {
    "duration": 12,
    "start_time": "2022-08-07T11:46:51.639Z"
   },
   {
    "duration": 37,
    "start_time": "2022-08-07T11:46:58.191Z"
   },
   {
    "duration": 5,
    "start_time": "2022-08-07T11:47:02.040Z"
   },
   {
    "duration": 8,
    "start_time": "2022-08-07T11:47:04.983Z"
   },
   {
    "duration": 5,
    "start_time": "2022-08-07T11:47:08.950Z"
   },
   {
    "duration": 7,
    "start_time": "2022-08-07T11:47:12.616Z"
   },
   {
    "duration": 5,
    "start_time": "2022-08-07T11:47:16.513Z"
   },
   {
    "duration": 39,
    "start_time": "2022-08-07T11:47:20.230Z"
   },
   {
    "duration": 17,
    "start_time": "2022-08-07T11:47:24.240Z"
   },
   {
    "duration": 5,
    "start_time": "2022-08-07T11:47:28.183Z"
   },
   {
    "duration": 19,
    "start_time": "2022-08-07T11:47:32.318Z"
   },
   {
    "duration": 20,
    "start_time": "2022-08-07T11:47:35.902Z"
   },
   {
    "duration": 12,
    "start_time": "2022-08-07T11:47:38.783Z"
   },
   {
    "duration": 6,
    "start_time": "2022-08-07T11:47:43.880Z"
   },
   {
    "duration": 11,
    "start_time": "2022-08-07T11:47:47.054Z"
   },
   {
    "duration": 6,
    "start_time": "2022-08-07T11:47:51.183Z"
   },
   {
    "duration": 5,
    "start_time": "2022-08-07T11:48:01.144Z"
   },
   {
    "duration": 10,
    "start_time": "2022-08-07T11:48:05.158Z"
   },
   {
    "duration": 39,
    "start_time": "2022-08-07T11:48:20.913Z"
   },
   {
    "duration": 29,
    "start_time": "2022-08-07T11:48:46.168Z"
   },
   {
    "duration": 15,
    "start_time": "2022-08-07T11:48:53.784Z"
   },
   {
    "duration": 1219,
    "start_time": "2022-08-07T11:49:03.952Z"
   },
   {
    "duration": 1675,
    "start_time": "2022-08-07T11:52:47.957Z"
   },
   {
    "duration": 30,
    "start_time": "2022-08-07T11:53:29.971Z"
   },
   {
    "duration": 76,
    "start_time": "2022-08-07T11:53:51.238Z"
   },
   {
    "duration": 17,
    "start_time": "2022-08-07T11:53:51.317Z"
   },
   {
    "duration": 24,
    "start_time": "2022-08-07T11:53:51.336Z"
   },
   {
    "duration": 11,
    "start_time": "2022-08-07T11:53:51.363Z"
   },
   {
    "duration": 51,
    "start_time": "2022-08-07T11:53:51.375Z"
   },
   {
    "duration": 4,
    "start_time": "2022-08-07T11:53:51.428Z"
   },
   {
    "duration": 23,
    "start_time": "2022-08-07T11:53:51.433Z"
   },
   {
    "duration": 8,
    "start_time": "2022-08-07T11:53:51.458Z"
   },
   {
    "duration": 27,
    "start_time": "2022-08-07T11:53:51.467Z"
   },
   {
    "duration": 25,
    "start_time": "2022-08-07T11:53:51.497Z"
   },
   {
    "duration": 58,
    "start_time": "2022-08-07T11:53:51.523Z"
   },
   {
    "duration": 11,
    "start_time": "2022-08-07T11:53:51.583Z"
   },
   {
    "duration": 10,
    "start_time": "2022-08-07T11:53:51.595Z"
   },
   {
    "duration": 28,
    "start_time": "2022-08-07T11:53:51.606Z"
   },
   {
    "duration": 19,
    "start_time": "2022-08-07T11:53:51.636Z"
   },
   {
    "duration": 14,
    "start_time": "2022-08-07T11:53:51.657Z"
   },
   {
    "duration": 9,
    "start_time": "2022-08-07T11:53:51.673Z"
   },
   {
    "duration": 11,
    "start_time": "2022-08-07T11:53:51.692Z"
   },
   {
    "duration": 7,
    "start_time": "2022-08-07T11:53:51.705Z"
   },
   {
    "duration": 16,
    "start_time": "2022-08-07T11:53:51.713Z"
   },
   {
    "duration": 20,
    "start_time": "2022-08-07T11:53:51.730Z"
   },
   {
    "duration": 35,
    "start_time": "2022-08-07T11:53:51.752Z"
   },
   {
    "duration": 72,
    "start_time": "2022-08-07T11:54:15.051Z"
   },
   {
    "duration": 17,
    "start_time": "2022-08-07T11:54:18.262Z"
   },
   {
    "duration": 16,
    "start_time": "2022-08-07T11:54:28.931Z"
   },
   {
    "duration": 12,
    "start_time": "2022-08-07T11:54:33.380Z"
   },
   {
    "duration": 37,
    "start_time": "2022-08-07T11:54:37.213Z"
   },
   {
    "duration": 4,
    "start_time": "2022-08-07T11:54:40.471Z"
   },
   {
    "duration": 10,
    "start_time": "2022-08-07T11:54:43.267Z"
   },
   {
    "duration": 5,
    "start_time": "2022-08-07T11:54:47.540Z"
   },
   {
    "duration": 6,
    "start_time": "2022-08-07T11:54:50.330Z"
   },
   {
    "duration": 4,
    "start_time": "2022-08-07T11:54:53.507Z"
   },
   {
    "duration": 38,
    "start_time": "2022-08-07T11:54:58.022Z"
   },
   {
    "duration": 12,
    "start_time": "2022-08-07T11:55:03.452Z"
   },
   {
    "duration": 4,
    "start_time": "2022-08-07T11:55:07.919Z"
   },
   {
    "duration": 23,
    "start_time": "2022-08-07T11:55:11.838Z"
   },
   {
    "duration": 20,
    "start_time": "2022-08-07T11:55:15.572Z"
   },
   {
    "duration": 13,
    "start_time": "2022-08-07T11:55:18.458Z"
   },
   {
    "duration": 4,
    "start_time": "2022-08-07T11:55:23.427Z"
   },
   {
    "duration": 15,
    "start_time": "2022-08-07T11:55:31.884Z"
   },
   {
    "duration": 31,
    "start_time": "2022-08-07T11:55:43.860Z"
   },
   {
    "duration": 11,
    "start_time": "2022-08-07T11:55:55.326Z"
   },
   {
    "duration": 8,
    "start_time": "2022-08-07T11:56:01.180Z"
   },
   {
    "duration": 3,
    "start_time": "2022-08-07T11:56:06.092Z"
   },
   {
    "duration": 22,
    "start_time": "2022-08-07T11:56:10.948Z"
   },
   {
    "duration": 41,
    "start_time": "2022-08-07T11:56:21.957Z"
   },
   {
    "duration": 16,
    "start_time": "2022-08-07T11:56:37.206Z"
   },
   {
    "duration": 1142,
    "start_time": "2022-08-07T11:56:48.210Z"
   },
   {
    "duration": 1633,
    "start_time": "2022-08-07T11:57:16.840Z"
   },
   {
    "duration": 1845,
    "start_time": "2022-08-07T11:57:43.078Z"
   },
   {
    "duration": 99,
    "start_time": "2022-08-07T11:58:59.449Z"
   },
   {
    "duration": 75,
    "start_time": "2022-08-07T11:59:16.445Z"
   },
   {
    "duration": 24,
    "start_time": "2022-08-07T11:59:34.850Z"
   },
   {
    "duration": 12,
    "start_time": "2022-08-07T12:00:17.882Z"
   },
   {
    "duration": 31,
    "start_time": "2022-08-07T12:00:28.744Z"
   },
   {
    "duration": 20,
    "start_time": "2022-08-07T12:00:42.321Z"
   },
   {
    "duration": 41,
    "start_time": "2022-08-07T12:00:52.744Z"
   },
   {
    "duration": 1219,
    "start_time": "2022-08-07T12:01:03.266Z"
   },
   {
    "duration": 42,
    "start_time": "2022-08-07T12:01:56.848Z"
   },
   {
    "duration": 1619,
    "start_time": "2022-08-07T12:02:46.298Z"
   },
   {
    "duration": 38,
    "start_time": "2022-08-07T12:03:14.363Z"
   },
   {
    "duration": 30,
    "start_time": "2022-08-07T12:04:15.965Z"
   },
   {
    "duration": 22,
    "start_time": "2022-08-07T12:04:43.900Z"
   },
   {
    "duration": 25,
    "start_time": "2022-08-07T12:04:50.994Z"
   },
   {
    "duration": 26,
    "start_time": "2022-08-07T12:04:54.891Z"
   },
   {
    "duration": 39,
    "start_time": "2022-08-07T12:04:58.290Z"
   },
   {
    "duration": 32,
    "start_time": "2022-08-07T12:05:01.595Z"
   },
   {
    "duration": 34,
    "start_time": "2022-08-07T12:05:17.695Z"
   },
   {
    "duration": 776,
    "start_time": "2022-08-07T15:36:18.538Z"
   },
   {
    "duration": 34,
    "start_time": "2022-08-07T15:36:19.317Z"
   },
   {
    "duration": 15,
    "start_time": "2022-08-07T15:36:19.356Z"
   },
   {
    "duration": 10,
    "start_time": "2022-08-07T15:36:19.372Z"
   },
   {
    "duration": 36,
    "start_time": "2022-08-07T15:36:19.383Z"
   },
   {
    "duration": 4,
    "start_time": "2022-08-07T15:36:19.421Z"
   },
   {
    "duration": 33,
    "start_time": "2022-08-07T15:36:19.426Z"
   },
   {
    "duration": 16,
    "start_time": "2022-08-07T15:36:19.460Z"
   },
   {
    "duration": 8,
    "start_time": "2022-08-07T15:36:19.480Z"
   },
   {
    "duration": 7,
    "start_time": "2022-08-07T15:36:19.489Z"
   },
   {
    "duration": 55,
    "start_time": "2022-08-07T15:36:19.497Z"
   },
   {
    "duration": 13,
    "start_time": "2022-08-07T15:36:19.554Z"
   },
   {
    "duration": 4,
    "start_time": "2022-08-07T15:36:19.570Z"
   },
   {
    "duration": 30,
    "start_time": "2022-08-07T15:36:19.576Z"
   },
   {
    "duration": 30,
    "start_time": "2022-08-07T15:36:19.608Z"
   },
   {
    "duration": 18,
    "start_time": "2022-08-07T15:36:19.640Z"
   },
   {
    "duration": 12,
    "start_time": "2022-08-07T15:36:19.660Z"
   },
   {
    "duration": 15,
    "start_time": "2022-08-07T15:36:19.674Z"
   },
   {
    "duration": 15,
    "start_time": "2022-08-07T15:36:19.690Z"
   },
   {
    "duration": 8,
    "start_time": "2022-08-07T15:36:19.707Z"
   },
   {
    "duration": 22,
    "start_time": "2022-08-07T15:36:19.717Z"
   },
   {
    "duration": 40,
    "start_time": "2022-08-07T15:36:19.741Z"
   },
   {
    "duration": 13,
    "start_time": "2022-08-07T15:36:19.783Z"
   },
   {
    "duration": 29,
    "start_time": "2022-08-07T15:36:19.798Z"
   },
   {
    "duration": 20,
    "start_time": "2022-08-07T15:36:19.839Z"
   },
   {
    "duration": 6,
    "start_time": "2022-08-07T15:38:40.116Z"
   },
   {
    "duration": 9,
    "start_time": "2022-08-07T15:41:52.461Z"
   },
   {
    "duration": 49,
    "start_time": "2022-08-07T17:04:05.637Z"
   },
   {
    "duration": 7,
    "start_time": "2022-08-07T17:05:57.782Z"
   },
   {
    "duration": 704,
    "start_time": "2022-08-07T17:06:47.005Z"
   },
   {
    "duration": 21,
    "start_time": "2022-08-07T17:06:52.500Z"
   },
   {
    "duration": 17,
    "start_time": "2022-08-07T17:06:57.604Z"
   },
   {
    "duration": 12,
    "start_time": "2022-08-07T17:07:02.285Z"
   },
   {
    "duration": 33,
    "start_time": "2022-08-07T17:07:07.591Z"
   },
   {
    "duration": 4,
    "start_time": "2022-08-07T17:07:12.558Z"
   },
   {
    "duration": 7,
    "start_time": "2022-08-07T17:07:19.790Z"
   },
   {
    "duration": 5,
    "start_time": "2022-08-07T17:07:24.373Z"
   },
   {
    "duration": 8,
    "start_time": "2022-08-07T17:07:29.363Z"
   },
   {
    "duration": 4,
    "start_time": "2022-08-07T17:07:32.958Z"
   },
   {
    "duration": 36,
    "start_time": "2022-08-07T17:07:37.300Z"
   },
   {
    "duration": 8,
    "start_time": "2022-08-07T17:07:45.684Z"
   },
   {
    "duration": 4,
    "start_time": "2022-08-07T17:07:52.052Z"
   },
   {
    "duration": 17,
    "start_time": "2022-08-07T17:07:56.037Z"
   },
   {
    "duration": 16,
    "start_time": "2022-08-07T17:07:59.403Z"
   },
   {
    "duration": 12,
    "start_time": "2022-08-07T17:08:03.324Z"
   },
   {
    "duration": 4,
    "start_time": "2022-08-07T17:08:08.189Z"
   },
   {
    "duration": 11,
    "start_time": "2022-08-07T17:08:10.979Z"
   },
   {
    "duration": 7,
    "start_time": "2022-08-07T17:08:14.915Z"
   },
   {
    "duration": 3,
    "start_time": "2022-08-07T17:08:20.733Z"
   },
   {
    "duration": 8,
    "start_time": "2022-08-07T17:08:24.523Z"
   },
   {
    "duration": 23,
    "start_time": "2022-08-07T17:08:29.938Z"
   },
   {
    "duration": 10,
    "start_time": "2022-08-07T17:08:38.085Z"
   },
   {
    "duration": 10,
    "start_time": "2022-08-07T17:10:37.359Z"
   },
   {
    "duration": 21,
    "start_time": "2022-08-07T17:11:08.855Z"
   },
   {
    "duration": 8,
    "start_time": "2022-08-07T17:12:22.758Z"
   },
   {
    "duration": 8,
    "start_time": "2022-08-07T17:14:14.282Z"
   },
   {
    "duration": 816,
    "start_time": "2022-08-07T17:15:29.083Z"
   },
   {
    "duration": 60,
    "start_time": "2022-08-07T17:16:04.133Z"
   },
   {
    "duration": 10,
    "start_time": "2022-08-07T17:16:17.203Z"
   },
   {
    "duration": 10,
    "start_time": "2022-08-07T17:16:29.154Z"
   },
   {
    "duration": 13,
    "start_time": "2022-08-07T17:16:51.435Z"
   },
   {
    "duration": 1002,
    "start_time": "2022-08-07T17:17:09.530Z"
   },
   {
    "duration": 11,
    "start_time": "2022-08-07T17:17:27.371Z"
   },
   {
    "duration": 20,
    "start_time": "2022-08-07T17:17:56.339Z"
   },
   {
    "duration": 8,
    "start_time": "2022-08-07T17:20:12.427Z"
   },
   {
    "duration": 10,
    "start_time": "2022-08-07T17:21:03.924Z"
   },
   {
    "duration": 21,
    "start_time": "2022-08-07T17:23:45.592Z"
   },
   {
    "duration": 11,
    "start_time": "2022-08-07T17:24:56.458Z"
   },
   {
    "duration": 7,
    "start_time": "2022-08-07T17:26:09.457Z"
   },
   {
    "duration": 7,
    "start_time": "2022-08-07T17:39:39.322Z"
   },
   {
    "duration": 6,
    "start_time": "2022-08-07T17:39:59.840Z"
   },
   {
    "duration": 11,
    "start_time": "2022-08-07T17:44:45.787Z"
   },
   {
    "duration": 12,
    "start_time": "2022-08-07T17:46:20.760Z"
   },
   {
    "duration": 8,
    "start_time": "2022-08-07T17:47:41.318Z"
   },
   {
    "duration": 13,
    "start_time": "2022-08-07T17:48:44.341Z"
   },
   {
    "duration": 15,
    "start_time": "2022-08-07T17:49:20.510Z"
   },
   {
    "duration": 14,
    "start_time": "2022-08-07T17:50:07.302Z"
   },
   {
    "duration": 12,
    "start_time": "2022-08-07T17:50:42.927Z"
   },
   {
    "duration": 14,
    "start_time": "2022-08-07T17:51:13.841Z"
   },
   {
    "duration": 63,
    "start_time": "2022-08-07T17:52:46.727Z"
   },
   {
    "duration": 14,
    "start_time": "2022-08-07T17:52:50.745Z"
   },
   {
    "duration": 14,
    "start_time": "2022-08-07T17:52:57.298Z"
   },
   {
    "duration": 11,
    "start_time": "2022-08-07T17:53:01.687Z"
   },
   {
    "duration": 30,
    "start_time": "2022-08-07T17:53:10.297Z"
   },
   {
    "duration": 3,
    "start_time": "2022-08-07T17:53:15.303Z"
   },
   {
    "duration": 7,
    "start_time": "2022-08-07T17:53:18.440Z"
   },
   {
    "duration": 5,
    "start_time": "2022-08-07T17:53:23.049Z"
   },
   {
    "duration": 6,
    "start_time": "2022-08-07T17:53:29.831Z"
   },
   {
    "duration": 5,
    "start_time": "2022-08-07T17:53:32.925Z"
   },
   {
    "duration": 29,
    "start_time": "2022-08-07T17:53:37.104Z"
   },
   {
    "duration": 13,
    "start_time": "2022-08-07T17:53:41.511Z"
   },
   {
    "duration": 3,
    "start_time": "2022-08-07T17:53:45.248Z"
   },
   {
    "duration": 17,
    "start_time": "2022-08-07T17:53:48.592Z"
   },
   {
    "duration": 17,
    "start_time": "2022-08-07T17:53:51.368Z"
   },
   {
    "duration": 11,
    "start_time": "2022-08-07T17:53:55.120Z"
   },
   {
    "duration": 4,
    "start_time": "2022-08-07T17:54:01.930Z"
   },
   {
    "duration": 9,
    "start_time": "2022-08-07T17:54:05.257Z"
   },
   {
    "duration": 5,
    "start_time": "2022-08-07T17:54:08.943Z"
   },
   {
    "duration": 3,
    "start_time": "2022-08-07T17:54:14.296Z"
   },
   {
    "duration": 8,
    "start_time": "2022-08-07T17:54:17.336Z"
   },
   {
    "duration": 25,
    "start_time": "2022-08-07T17:54:21.541Z"
   },
   {
    "duration": 13,
    "start_time": "2022-08-07T17:54:29.818Z"
   },
   {
    "duration": 7,
    "start_time": "2022-08-07T17:54:35.953Z"
   },
   {
    "duration": 27,
    "start_time": "2022-08-07T17:54:42.122Z"
   },
   {
    "duration": 13,
    "start_time": "2022-08-07T17:55:14.704Z"
   }
  ],
  "celltoolbar": "Edit Metadata",
  "colab": {
   "name": "dpp_template_part2.ipynb",
   "provenance": []
  },
  "kernelspec": {
   "display_name": "Python 3 (ipykernel)",
   "language": "python",
   "name": "python3"
  },
  "language_info": {
   "codemirror_mode": {
    "name": "ipython",
    "version": 3
   },
   "file_extension": ".py",
   "mimetype": "text/x-python",
   "name": "python",
   "nbconvert_exporter": "python",
   "pygments_lexer": "ipython3",
   "version": "3.9.5"
  },
  "toc": {
   "base_numbering": 1,
   "nav_menu": {},
   "number_sections": true,
   "sideBar": true,
   "skip_h1_title": true,
   "title_cell": "Table of Contents",
   "title_sidebar": "Contents",
   "toc_cell": false,
   "toc_position": {},
   "toc_section_display": true,
   "toc_window_display": false
  }
 },
 "nbformat": 4,
 "nbformat_minor": 5
}
